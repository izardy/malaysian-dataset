{
 "cells": [
  {
   "cell_type": "code",
   "execution_count": 1,
   "metadata": {},
   "outputs": [],
   "source": [
    "from elasticsearch import Elasticsearch, RequestsHttpConnection\n",
    "from elasticsearch_dsl import Search\n",
    "from datetime import datetime\n",
    "from tqdm import tqdm\n",
    "import json"
   ]
  },
  {
   "cell_type": "code",
   "execution_count": 4,
   "metadata": {},
   "outputs": [
    {
     "name": "stderr",
     "output_type": "stream",
     "text": [
      "7075025it [17:34, 6709.84it/s]\n"
     ]
    }
   ],
   "source": [
    "es = Elasticsearch(\n",
    "    hosts = [{'host': 'localhost', 'port': 9200}],\n",
    "    connection_class = RequestsHttpConnection,\n",
    ")\n",
    "s = Search(using=es, index='twitter_streaming')\n",
    "with open('snapshot.jsonl', 'w') as fopen:\n",
    "    \n",
    "    for hit in tqdm(s.scan()):\n",
    "        h = hit.to_dict()\n",
    "        fopen.write(f'{json.dumps(h)}\\n')"
   ]
  },
  {
   "cell_type": "code",
   "execution_count": 5,
   "metadata": {
    "scrolled": true
   },
   "outputs": [
    {
     "name": "stdout",
     "output_type": "stream",
     "text": [
      "7075025 snapshot.jsonl\r\n"
     ]
    }
   ],
   "source": [
    "!wc -l snapshot.jsonl"
   ]
  },
  {
   "cell_type": "code",
   "execution_count": 6,
   "metadata": {},
   "outputs": [
    {
     "name": "stdout",
     "output_type": "stream",
     "text": [
      "{\"datetime\": \"2022-04-18T05:57:04\", \"datetime_gmt8\": \"2022-04-18T13:57:04\", \"data_text\": \"kekal halal kak https://t.co/YHKqszqPnS\", \"body\": \"kekal halal kak https://t.co/YHKqszqPnS\", \"screen_name\": \"Luke_Sebastian2\", \"followers_count\": 10413, \"friends_count\": 72, \"listed_count\": 6, \"favourites_count\": 1494, \"statuses_count\": 948, \"quoted_status_text\": \"NULL\", \"lang\": \"in\", \"retweet\": \"false\", \"retweet_text\": \"NULL\", \"retweet_text_full\": \"NULL\", \"retweet_count\": 0, \"retweet_detail\": {}, \"quote_count\": 0, \"favorite_count\": 0, \"reply_count\": 0, \"id_str\": \"1515932406368202753\", \"tweet\": {\"created_at\": \"Mon Apr 18 05:57:04 +0000 2022\", \"id\": 1515932406368202753, \"id_str\": \"1515932406368202753\", \"text\": \"kekal halal kak\\ud83d\\ude0f\\ud83e\\udd2b https://t.co/YHKqszqPnS\", \"display_text_range\": [0, 17], \"source\": \"<a href=\\\"http://twitter.com/download/android\\\" rel=\\\"nofollow\\\">Twitter for Android</a>\", \"truncated\": false, \"in_reply_to_status_id\": null, \"in_reply_to_status_id_str\": null, \"in_reply_to_user_id\": null, \"in_reply_to_user_id_str\": null, \"in_reply_to_screen_name\": null, \"user\": {\"id\": 1431086333024374792, \"id_str\": \"1431086333024374792\", \"name\": \"\\u2604\\u029f\\u1d1c\\u1d0b\\u1d07\", \"screen_name\": \"Luke_Sebastian2\", \"location\": \"Malaysia\", \"url\": \"http://t.me/Luke_Alqamara\", \"description\": \"|\\ud835\\udfee\\ud835\\udfec\\ud83c\\udf70|\\u26a4|\\ud83d\\udcda\\ud835\\udde7\\ud835\\uddfc\\ud835\\uddfd|\\ud83c\\uddee\\ud83c\\udde9|\\ud83d\\udccc\\ud83c\\uddf2\\ud83c\\uddfe|Law Student\\ud83d\\udcbc|\\u2022\\ud835\\udc24\\ud835\\udc1e\\ud835\\udc24\\ud835\\udc1a\\ud835\\udc2c\\ud835\\udc22\\ud835\\udc21\\ud835\\udc24\\ud835\\udc2e:@Trevor_Louise1\\u2022|Dm me for endorsement/Collab and rates also\\ud83d\\udce9!|\\u2022don't forget to smile\\ud83d\\ude0a\\u2022\", \"translator_type\": \"none\", \"protected\": false, \"verified\": false, \"followers_count\": 10413, \"friends_count\": 72, \"listed_count\": 6, \"favourites_count\": 1494, \"statuses_count\": 948, \"created_at\": \"Fri Aug 27 02:49:28 +0000 2021\", \"utc_offset\": null, \"time_zone\": null, \"geo_enabled\": true, \"lang\": null, \"contributors_enabled\": false, \"is_translator\": false, \"profile_background_color\": \"F5F8FA\", \"profile_background_image_url\": \"\", \"profile_background_image_url_https\": \"\", \"profile_background_tile\": false, \"profile_link_color\": \"1DA1F2\", \"profile_sidebar_border_color\": \"C0DEED\", \"profile_sidebar_fill_color\": \"DDEEF6\", \"profile_text_color\": \"333333\", \"profile_use_background_image\": true, \"profile_image_url\": \"http://pbs.twimg.com/profile_images/1500850780823494658/snCdyeen_normal.jpg\", \"profile_image_url_https\": \"https://pbs.twimg.com/profile_images/1500850780823494658/snCdyeen_normal.jpg\", \"profile_banner_url\": \"https://pbs.twimg.com/profile_banners/1431086333024374792/1647061513\", \"default_profile\": true, \"default_profile_image\": false, \"following\": null, \"follow_request_sent\": null, \"notifications\": null, \"withheld_in_countries\": []}, \"geo\": null, \"coordinates\": null, \"place\": {\"id\": \"7b02fbddf4d9f2c6\", \"url\": \"https://api.twitter.com/1.1/geo/id/7b02fbddf4d9f2c6.json\", \"place_type\": \"city\", \"name\": \"Kuala Lumpur City\", \"full_name\": \"Kuala Lumpur City, Kuala Lumpur Federal Territory\", \"country_code\": \"MY\", \"country\": \"Malaysia\", \"bounding_box\": {\"type\": \"Polygon\", \"coordinates\": [[[101.668232, 3.104906], [101.668232, 3.192155], [101.742378, 3.192155], [101.742378, 3.104906]]]}, \"attributes\": {}}, \"contributors\": null, \"is_quote_status\": false, \"quote_count\": 0, \"reply_count\": 0, \"retweet_count\": 0, \"favorite_count\": 0, \"entities\": {\"hashtags\": [], \"urls\": [], \"user_mentions\": [], \"symbols\": [], \"media\": [{\"id\": 1515932334612107268, \"id_str\": \"1515932334612107268\", \"indices\": [18, 41], \"additional_media_info\": {\"monetizable\": false}, \"media_url\": \"http://pbs.twimg.com/ext_tw_video_thumb/1515932334612107268/pu/img/ak2K23DgNDDV-UCC.jpg\", \"media_url_https\": \"https://pbs.twimg.com/ext_tw_video_thumb/1515932334612107268/pu/img/ak2K23DgNDDV-UCC.jpg\", \"url\": \"https://t.co/YHKqszqPnS\", \"display_url\": \"pic.twitter.com/YHKqszqPnS\", \"expanded_url\": \"https://twitter.com/Luke_Sebastian2/status/1515932406368202753/video/1\", \"type\": \"photo\", \"sizes\": {\"thumb\": {\"w\": 150, \"h\": 150, \"resize\": \"crop\"}, \"medium\": {\"w\": 540, \"h\": 960, \"resize\": \"fit\"}, \"small\": {\"w\": 383, \"h\": 680, \"resize\": \"fit\"}, \"large\": {\"w\": 540, \"h\": 960, \"resize\": \"fit\"}}}]}, \"extended_entities\": {\"media\": [{\"id\": 1515932334612107268, \"id_str\": \"1515932334612107268\", \"indices\": [18, 41], \"additional_media_info\": {\"monetizable\": false}, \"media_url\": \"http://pbs.twimg.com/ext_tw_video_thumb/1515932334612107268/pu/img/ak2K23DgNDDV-UCC.jpg\", \"media_url_https\": \"https://pbs.twimg.com/ext_tw_video_thumb/1515932334612107268/pu/img/ak2K23DgNDDV-UCC.jpg\", \"url\": \"https://t.co/YHKqszqPnS\", \"display_url\": \"pic.twitter.com/YHKqszqPnS\", \"expanded_url\": \"https://twitter.com/Luke_Sebastian2/status/1515932406368202753/video/1\", \"type\": \"video\", \"video_info\": {\"aspect_ratio\": [9, 16], \"duration_millis\": 15232, \"variants\": [{\"bitrate\": 632000, \"content_type\": \"video/mp4\", \"url\": \"https://video.twimg.com/ext_tw_video/1515932334612107268/pu/vid/320x568/3gN3Udy0BrbU8HFr.mp4?tag=12\"}, {\"content_type\": \"application/x-mpegURL\", \"url\": \"https://video.twimg.com/ext_tw_video/1515932334612107268/pu/pl/V6UZr3a49tZHwoia.m3u8?tag=12&container=fmp4\"}, {\"bitrate\": 950000, \"content_type\": \"video/mp4\", \"url\": \"https://video.twimg.com/ext_tw_video/1515932334612107268/pu/vid/480x852/CpA6Jht3IZjzh75X.mp4?tag=12\"}, {\"bitrate\": 2176000, \"content_type\": \"video/mp4\", \"url\": \"https://video.twimg.com/ext_tw_video/1515932334612107268/pu/vid/540x960/EdWN9mo8jIbA5PDM.mp4?tag=12\"}]}, \"sizes\": {\"thumb\": {\"w\": 150, \"h\": 150, \"resize\": \"crop\"}, \"medium\": {\"w\": 540, \"h\": 960, \"resize\": \"fit\"}, \"small\": {\"w\": 383, \"h\": 680, \"resize\": \"fit\"}, \"large\": {\"w\": 540, \"h\": 960, \"resize\": \"fit\"}}}]}, \"favorited\": false, \"retweeted\": false, \"possibly_sensitive\": false, \"filter_level\": \"low\", \"lang\": \"in\", \"timestamp_ms\": \"1650261424997\", \"ignore_lang\": true}, \"type\": \"search\"}\r\n"
     ]
    }
   ],
   "source": [
    "!head -n 1 snapshot.jsonl"
   ]
  },
  {
   "cell_type": "code",
   "execution_count": 11,
   "metadata": {},
   "outputs": [
    {
     "data": {
      "text/plain": [
       "{'took': 13,\n",
       " 'timed_out': False,\n",
       " '_shards': {'total': 1, 'successful': 1, 'skipped': 0, 'failed': 0},\n",
       " 'hits': {'total': {'value': 10000, 'relation': 'gte'},\n",
       "  'max_score': None,\n",
       "  'hits': []},\n",
       " 'aggregations': {'min': {'value': 1650213007000.0,\n",
       "   'value_as_string': '2022-04-17T16:30:07.000Z'}}}"
      ]
     },
     "execution_count": 11,
     "metadata": {},
     "output_type": "execute_result"
    }
   ],
   "source": [
    "es = Elasticsearch(\n",
    "    hosts = [{'host': 'localhost', 'port': 9200}],\n",
    "    connection_class = RequestsHttpConnection,\n",
    ")\n",
    "s = Search(using=es, index='twitter_streaming')\n",
    "s.aggs.bucket('min', 'min', field='datetime_gmt8')\n",
    "s = s[:0]\n",
    "s.execute().to_dict()"
   ]
  },
  {
   "cell_type": "code",
   "execution_count": 12,
   "metadata": {},
   "outputs": [
    {
     "data": {
      "text/plain": [
       "{'took': 1,\n",
       " 'timed_out': False,\n",
       " '_shards': {'total': 1, 'successful': 1, 'skipped': 0, 'failed': 0},\n",
       " 'hits': {'total': {'value': 10000, 'relation': 'gte'},\n",
       "  'max_score': None,\n",
       "  'hits': []},\n",
       " 'aggregations': {'min': {'value': 1662197032000.0,\n",
       "   'value_as_string': '2022-09-03T09:23:52.000Z'}}}"
      ]
     },
     "execution_count": 12,
     "metadata": {},
     "output_type": "execute_result"
    }
   ],
   "source": [
    "es = Elasticsearch(\n",
    "    hosts = [{'host': 'localhost', 'port': 9200}],\n",
    "    connection_class = RequestsHttpConnection,\n",
    ")\n",
    "s = Search(using=es, index='twitter_streaming')\n",
    "s.aggs.bucket('min', 'max', field='datetime_gmt8')\n",
    "s = s[:0]\n",
    "s.execute().to_dict()"
   ]
  },
  {
   "cell_type": "code",
   "execution_count": 13,
   "metadata": {},
   "outputs": [],
   "source": [
    "!split -l 500000 -d --additional-suffix=.splitted snapshot.jsonl snapshot.jsonl"
   ]
  }
 ],
 "metadata": {
  "kernelspec": {
   "display_name": "Python 3 (ipykernel)",
   "language": "python",
   "name": "python3"
  },
  "language_info": {
   "codemirror_mode": {
    "name": "ipython",
    "version": 3
   },
   "file_extension": ".py",
   "mimetype": "text/x-python",
   "name": "python",
   "nbconvert_exporter": "python",
   "pygments_lexer": "ipython3",
   "version": "3.8.10"
  }
 },
 "nbformat": 4,
 "nbformat_minor": 4
}
