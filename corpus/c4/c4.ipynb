{
 "cells": [
  {
   "cell_type": "code",
   "execution_count": 2,
   "id": "a990d7fe",
   "metadata": {},
   "outputs": [],
   "source": [
    "from datasets import load_dataset\n",
    "from tqdm import tqdm\n",
    "import re\n",
    "import os\n",
    "import json\n",
    "\n",
    "accept = {'melayu', 'malaysia', 'malaysian', 'malay'}\n",
    "\n",
    "def clean(string):\n",
    "    string = re.sub('[^A-Za-z ]+', ' ', string.lower())\n",
    "    return set(string.split())\n",
    "\n",
    "def exist(string):\n",
    "    return len(clean(string) & accept) > 0"
   ]
  },
  {
   "cell_type": "code",
   "execution_count": 2,
   "id": "a3707172",
   "metadata": {},
   "outputs": [
    {
     "data": {
      "application/vnd.jupyter.widget-view+json": {
       "model_id": "a185375772fd4d4bbd2d8b6737e7d673",
       "version_major": 2,
       "version_minor": 0
      },
      "text/plain": [
       "Resolving data files:   0%|          | 0/1650 [00:00<?, ?it/s]"
      ]
     },
     "metadata": {},
     "output_type": "display_data"
    }
   ],
   "source": [
    "dataset = load_dataset(\"EleutherAI/the_pile_deduplicated\", 'en', split='train', streaming = True)"
   ]
  },
  {
   "cell_type": "code",
   "execution_count": 4,
   "id": "2ae50bbe",
   "metadata": {},
   "outputs": [],
   "source": [
    "# !rm -rf c4\n",
    "!mkdir c4"
   ]
  },
  {
   "cell_type": "code",
   "execution_count": 7,
   "id": "ce1637fa",
   "metadata": {},
   "outputs": [
    {
     "name": "stderr",
     "output_type": "stream",
     "text": [
      "121203234it [21:17:03, 2100.09it/s]IOPub message rate exceeded.\n",
      "The Jupyter server will temporarily stop sending output\n",
      "to the client in order to avoid crashing it.\n",
      "To change this limit, set the config variable\n",
      "`--ServerApp.iopub_msg_rate_limit`.\n",
      "\n",
      "Current values:\n",
      "ServerApp.iopub_msg_rate_limit=1000.0 (msgs/sec)\n",
      "ServerApp.rate_limit_window=3.0 (secs)\n",
      "\n",
      "122492188it [21:31:23, 2227.13it/s]IOPub message rate exceeded.\n",
      "The Jupyter server will temporarily stop sending output\n",
      "to the client in order to avoid crashing it.\n",
      "To change this limit, set the config variable\n",
      "`--ServerApp.iopub_msg_rate_limit`.\n",
      "\n",
      "Current values:\n",
      "ServerApp.iopub_msg_rate_limit=1000.0 (msgs/sec)\n",
      "ServerApp.rate_limit_window=3.0 (secs)\n",
      "\n",
      "123824617it [21:45:58, 1667.35it/s]IOPub message rate exceeded.\n",
      "The Jupyter server will temporarily stop sending output\n",
      "to the client in order to avoid crashing it.\n",
      "To change this limit, set the config variable\n",
      "`--ServerApp.iopub_msg_rate_limit`.\n",
      "\n",
      "Current values:\n",
      "ServerApp.iopub_msg_rate_limit=1000.0 (msgs/sec)\n",
      "ServerApp.rate_limit_window=3.0 (secs)\n",
      "\n",
      "125324991it [22:02:25, 826.88it/s] IOPub message rate exceeded.\n",
      "The Jupyter server will temporarily stop sending output\n",
      "to the client in order to avoid crashing it.\n",
      "To change this limit, set the config variable\n",
      "`--ServerApp.iopub_msg_rate_limit`.\n",
      "\n",
      "Current values:\n",
      "ServerApp.iopub_msg_rate_limit=1000.0 (msgs/sec)\n",
      "ServerApp.rate_limit_window=3.0 (secs)\n",
      "\n",
      "126505993it [22:15:06, 1785.49it/s]IOPub message rate exceeded.\n",
      "The Jupyter server will temporarily stop sending output\n",
      "to the client in order to avoid crashing it.\n",
      "To change this limit, set the config variable\n",
      "`--ServerApp.iopub_msg_rate_limit`.\n",
      "\n",
      "Current values:\n",
      "ServerApp.iopub_msg_rate_limit=1000.0 (msgs/sec)\n",
      "ServerApp.rate_limit_window=3.0 (secs)\n",
      "\n",
      "127169155it [22:22:20, 1828.56it/s]IOPub message rate exceeded.\n",
      "The Jupyter server will temporarily stop sending output\n",
      "to the client in order to avoid crashing it.\n",
      "To change this limit, set the config variable\n",
      "`--ServerApp.iopub_msg_rate_limit`.\n",
      "\n",
      "Current values:\n",
      "ServerApp.iopub_msg_rate_limit=1000.0 (msgs/sec)\n",
      "ServerApp.rate_limit_window=3.0 (secs)\n",
      "\n",
      "134318121it [23:42:05, 1574.19it/s]\n"
     ]
    }
   ],
   "source": [
    "index = 0\n",
    "for d in tqdm(dataset):\n",
    "    if exist(d['text']):\n",
    "        filename = os.path.join('c4', f'{index}.json')\n",
    "        with open(filename, 'w') as fopen:\n",
    "            json.dump(d['text'], fopen)\n",
    "        index += 1"
   ]
  },
  {
   "cell_type": "code",
   "execution_count": 1,
   "id": "2cc279d4",
   "metadata": {},
   "outputs": [],
   "source": [
    "from glob import glob\n",
    "\n",
    "files = glob('c4/*.json')"
   ]
  },
  {
   "cell_type": "code",
   "execution_count": 3,
   "id": "1a450f12",
   "metadata": {},
   "outputs": [
    {
     "name": "stderr",
     "output_type": "stream",
     "text": [
      "100%|██████████| 508685/508685 [23:00<00:00, 368.39it/s]  \n"
     ]
    }
   ],
   "source": [
    "with open('c4-filtered.jsonl', 'w') as fopen_l:\n",
    "    for f in tqdm(files):\n",
    "        with open(f) as fopen:\n",
    "            data = json.load(fopen)\n",
    "        fopen_l.write(f'{json.dumps(data)}\\n')"
   ]
  },
  {
   "cell_type": "code",
   "execution_count": 4,
   "id": "42c1bc29",
   "metadata": {},
   "outputs": [
    {
     "name": "stdout",
     "output_type": "stream",
     "text": [
      "-rw-r--r-- 1 jovyan users 28G Nov 21 02:02 c4-filtered.jsonl\r\n"
     ]
    }
   ],
   "source": [
    "!ls -lh c4-filtered.jsonl"
   ]
  },
  {
   "cell_type": "code",
   "execution_count": 5,
   "id": "120f3bd7",
   "metadata": {},
   "outputs": [],
   "source": [
    "from huggingface_hub import HfApi\n",
    "\n",
    "api = HfApi()"
   ]
  },
  {
   "cell_type": "code",
   "execution_count": null,
   "id": "e7107091",
   "metadata": {},
   "outputs": [],
   "source": [
    "api.upload_file(\n",
    "    path_or_fileobj='c4-filtered.jsonl',\n",
    "    path_in_repo=\"c4-filtered.jsonl\",\n",
    "    repo_id='malaysia-ai/dedup-text-dataset',\n",
    "    repo_type=\"dataset\",\n",
    ")"
   ]
  },
  {
   "cell_type": "code",
   "execution_count": null,
   "id": "9bbba4e8",
   "metadata": {},
   "outputs": [],
   "source": []
  }
 ],
 "metadata": {
  "kernelspec": {
   "display_name": "Python 3 (ipykernel)",
   "language": "python",
   "name": "python3"
  },
  "language_info": {
   "codemirror_mode": {
    "name": "ipython",
    "version": 3
   },
   "file_extension": ".py",
   "mimetype": "text/x-python",
   "name": "python",
   "nbconvert_exporter": "python",
   "pygments_lexer": "ipython3",
   "version": "3.9.13"
  }
 },
 "nbformat": 4,
 "nbformat_minor": 5
}
