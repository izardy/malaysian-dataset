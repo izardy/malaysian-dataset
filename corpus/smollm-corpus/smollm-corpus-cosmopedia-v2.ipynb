{
 "cells": [
  {
   "cell_type": "code",
   "execution_count": 1,
   "id": "2e98b1fa",
   "metadata": {},
   "outputs": [],
   "source": [
    "# !wget https://gist.githubusercontent.com/huseinzol05/98974ae8c6c7a65d4bc0af9f5003786a/raw/2e06e71ef7349a57bc58cc9913ae6bae1f9f8447/mp.py"
   ]
  },
  {
   "cell_type": "code",
   "execution_count": 9,
   "id": "4247437c",
   "metadata": {},
   "outputs": [],
   "source": [
    "from huggingface_hub import HfFileSystem\n",
    "from tqdm import tqdm\n",
    "from glob import glob\n",
    "import os\n",
    "import pandas as pd\n",
    "import re\n",
    "import polars as pl\n",
    "import json\n",
    "import mp\n",
    "\n",
    "def clean(string):\n",
    "    string = re.sub('[^a-z ]+', ' ', string.lower())\n",
    "    string = re.sub(r'[ ]+', ' ', string).strip()\n",
    "    return string"
   ]
  },
  {
   "cell_type": "code",
   "execution_count": 3,
   "id": "7b70af13",
   "metadata": {},
   "outputs": [],
   "source": [
    "keywords = {\n",
    "    'malay', 'malaysia', 'melayu', 'bursa'\n",
    "}"
   ]
  },
  {
   "cell_type": "code",
   "execution_count": 4,
   "id": "1d04077e",
   "metadata": {},
   "outputs": [],
   "source": [
    "fs = HfFileSystem()"
   ]
  },
  {
   "cell_type": "code",
   "execution_count": 5,
   "id": "d4e7a106",
   "metadata": {},
   "outputs": [],
   "source": [
    "files = fs.ls(\"datasets/HuggingFaceTB/smollm-corpus/cosmopedia-v2\", detail=False)\n",
    "files = sorted(files)"
   ]
  },
  {
   "cell_type": "code",
   "execution_count": 6,
   "id": "04cbdd53",
   "metadata": {},
   "outputs": [],
   "source": [
    "def loop(files):\n",
    "    files, _ = files\n",
    "    fs = HfFileSystem()\n",
    "    for f in files:\n",
    "        f_only = os.path.split(f)[1]\n",
    "        f_only_new = f'{f_only}.jsonl'\n",
    "        f_only_done = f'{f_only}.done'\n",
    "        if os.path.exists(f_only_done):\n",
    "            continue\n",
    "        \n",
    "        try:\n",
    "            if not os.path.exists(f_only):\n",
    "                fs.get(f, f_only)\n",
    "            df = pl.read_parquet(f_only)\n",
    "        except:\n",
    "            fs.get(f, f_only)\n",
    "            df = pl.read_parquet(f_only)\n",
    "        \n",
    "        with open(f_only_new, 'w') as fopen:\n",
    "            for i in tqdm(range(len(df))):\n",
    "                row = df[i].to_dict(as_series = False)\n",
    "                for k in row.keys():\n",
    "                    row[k] = row[k][0]\n",
    "                \n",
    "                a = set(clean(row['text']).split()) & keywords\n",
    "                if len(a):\n",
    "                    fopen.write(f'{json.dumps(row)}\\n')\n",
    "        \n",
    "        with open(f_only_done, 'w') as fopen:\n",
    "            fopen.write('done')\n",
    "        \n",
    "        os.remove(f_only)\n",
    "        del df"
   ]
  },
  {
   "cell_type": "code",
   "execution_count": 7,
   "id": "f1015bfd",
   "metadata": {},
   "outputs": [],
   "source": [
    "loop((files[:1], 0))"
   ]
  },
  {
   "cell_type": "code",
   "execution_count": 8,
   "id": "f8abe1ca",
   "metadata": {},
   "outputs": [],
   "source": [
    "mp.multiprocessing(files, loop, cores = 6, returned = False)"
   ]
  },
  {
   "cell_type": "code",
   "execution_count": 13,
   "id": "bb3fe1cd",
   "metadata": {},
   "outputs": [],
   "source": [
    "files = glob('train-*.parquet.jsonl')\n",
    "\n",
    "with open('cosmopedia-v2.jsonl', 'w') as fopen_l:\n",
    "    for f in files:\n",
    "        with open(f) as fopen:\n",
    "            for l in fopen:\n",
    "                l = json.loads(l)\n",
    "                fopen_l.write(f'{json.dumps(l)}\\n')"
   ]
  },
  {
   "cell_type": "code",
   "execution_count": 14,
   "id": "c89fb7d4",
   "metadata": {},
   "outputs": [
    {
     "name": "stdout",
     "output_type": "stream",
     "text": [
      "85992 cosmopedia-v2.jsonl\r\n"
     ]
    }
   ],
   "source": [
    "!wc -l cosmopedia-v2.jsonl"
   ]
  },
  {
   "cell_type": "code",
   "execution_count": 15,
   "id": "9dff882d",
   "metadata": {},
   "outputs": [
    {
     "name": "stdout",
     "output_type": "stream",
     "text": [
      "-rw-rw-r-- 1 husein husein 492M Ogos  7 13:23 cosmopedia-v2.jsonl\r\n"
     ]
    }
   ],
   "source": [
    "!ls -lh cosmopedia-v2.jsonl"
   ]
  },
  {
   "cell_type": "code",
   "execution_count": 16,
   "id": "d7430884",
   "metadata": {},
   "outputs": [
    {
     "data": {
      "application/vnd.jupyter.widget-view+json": {
       "model_id": "ea1bf1df3cd64bf4955764ee412f2d42",
       "version_major": 2,
       "version_minor": 0
      },
      "text/plain": [
       "cosmopedia-v2.jsonl:   0%|          | 0.00/515M [00:00<?, ?B/s]"
      ]
     },
     "metadata": {},
     "output_type": "display_data"
    },
    {
     "data": {
      "text/plain": [
       "CommitInfo(commit_url='https://huggingface.co/datasets/mesolitica/smollm-corpus-filter-malaysian-context/commit/68d54e29ac37556266654d34d208c6a27a64e496', commit_message='Upload cosmopedia-v2.jsonl with huggingface_hub', commit_description='', oid='68d54e29ac37556266654d34d208c6a27a64e496', pr_url=None, pr_revision=None, pr_num=None)"
      ]
     },
     "execution_count": 16,
     "metadata": {},
     "output_type": "execute_result"
    }
   ],
   "source": [
    "from huggingface_hub import HfApi\n",
    "api = HfApi()\n",
    "api.upload_file(\n",
    "    path_or_fileobj=\"cosmopedia-v2.jsonl\",\n",
    "    path_in_repo=\"cosmopedia-v2.jsonl\",\n",
    "    repo_id=\"mesolitica/smollm-corpus-filter-malaysian-context\",\n",
    "    repo_type=\"dataset\",\n",
    ")"
   ]
  },
  {
   "cell_type": "code",
   "execution_count": 21,
   "id": "9d40591b",
   "metadata": {},
   "outputs": [],
   "source": [
    "!rm train-*.parquet.done"
   ]
  },
  {
   "cell_type": "code",
   "execution_count": null,
   "id": "af58ee0c",
   "metadata": {},
   "outputs": [],
   "source": []
  }
 ],
 "metadata": {
  "kernelspec": {
   "display_name": "python3.10",
   "language": "python",
   "name": "python3.10"
  },
  "language_info": {
   "codemirror_mode": {
    "name": "ipython",
    "version": 3
   },
   "file_extension": ".py",
   "mimetype": "text/x-python",
   "name": "python",
   "nbconvert_exporter": "python",
   "pygments_lexer": "ipython3",
   "version": "3.10.14"
  }
 },
 "nbformat": 4,
 "nbformat_minor": 5
}
