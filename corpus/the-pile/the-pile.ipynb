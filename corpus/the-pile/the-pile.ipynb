{
 "cells": [
  {
   "cell_type": "code",
   "execution_count": 4,
   "id": "a0972bbd",
   "metadata": {},
   "outputs": [],
   "source": [
    "# !pip3 install datasets"
   ]
  },
  {
   "cell_type": "code",
   "execution_count": 5,
   "id": "e3981a7b",
   "metadata": {},
   "outputs": [],
   "source": [
    "from datasets import load_dataset\n",
    "from tqdm import tqdm\n",
    "import re\n",
    "import os\n",
    "import json\n",
    "\n",
    "accept = {'melayu', 'malaysia', 'malaysian', 'malay'}\n",
    "\n",
    "def clean(string):\n",
    "    string = re.sub('[^A-Za-z ]+', ' ', string.lower())\n",
    "    return set(string.split())\n",
    "\n",
    "def exist(string):\n",
    "    return len(clean(string) & accept) > 0"
   ]
  },
  {
   "cell_type": "code",
   "execution_count": 6,
   "id": "76e81185",
   "metadata": {},
   "outputs": [
    {
     "data": {
      "application/vnd.jupyter.widget-view+json": {
       "model_id": "84457215a8f0445899847780f357e915",
       "version_major": 2,
       "version_minor": 0
      },
      "text/plain": [
       "Resolving data files:   0%|          | 0/1650 [00:00<?, ?it/s]"
      ]
     },
     "metadata": {},
     "output_type": "display_data"
    }
   ],
   "source": [
    "dataset = load_dataset(\"EleutherAI/the_pile_deduplicated\", split='train', streaming = True)"
   ]
  },
  {
   "cell_type": "code",
   "execution_count": 7,
   "id": "dca14f4b",
   "metadata": {},
   "outputs": [],
   "source": [
    "# !rm -rf the_pile\n",
    "!mkdir the_pile"
   ]
  },
  {
   "cell_type": "code",
   "execution_count": 8,
   "id": "225ee302",
   "metadata": {},
   "outputs": [
    {
     "data": {
      "text/plain": [
       "True"
      ]
     },
     "execution_count": 8,
     "metadata": {},
     "output_type": "execute_result"
    }
   ],
   "source": [
    "exist('tak suka melayu')"
   ]
  },
  {
   "cell_type": "code",
   "execution_count": 21,
   "id": "ed92b926",
   "metadata": {},
   "outputs": [],
   "source": [
    "index = 0\n",
    "for d in tqdm(dataset):\n",
    "    if exist(d['text']):\n",
    "        filename = os.path.join('the_pile', f'{index}.json')\n",
    "        with open(filename, 'w') as fopen:\n",
    "            json.dump(d['text'], fopen)\n",
    "        index += 1"
   ]
  },
  {
   "cell_type": "code",
   "execution_count": 12,
   "id": "7078b915",
   "metadata": {
    "scrolled": true
   },
   "outputs": [
    {
     "name": "stdout",
     "output_type": "stream",
     "text": [
      "18G\tthe_pile\r\n"
     ]
    }
   ],
   "source": [
    "!du -hs the_pile"
   ]
  },
  {
   "cell_type": "code",
   "execution_count": 14,
   "id": "914ae78c",
   "metadata": {},
   "outputs": [],
   "source": [
    "from glob import glob\n",
    "\n",
    "files = glob('the_pile/*.json')"
   ]
  },
  {
   "cell_type": "code",
   "execution_count": 16,
   "id": "655dc235",
   "metadata": {},
   "outputs": [
    {
     "name": "stderr",
     "output_type": "stream",
     "text": [
      "100%|██████████| 311031/311031 [11:42<00:00, 442.99it/s] \n"
     ]
    }
   ],
   "source": [
    "with open('the-pile-filtered.jsonl', 'w') as fopen_l:\n",
    "    for f in tqdm(files):\n",
    "        with open(f) as fopen:\n",
    "            data = json.load(fopen)\n",
    "        fopen_l.write(f'{json.dumps(data)}\\n')"
   ]
  },
  {
   "cell_type": "code",
   "execution_count": 17,
   "id": "b2e58f75",
   "metadata": {},
   "outputs": [
    {
     "name": "stdout",
     "output_type": "stream",
     "text": [
      "-rw-r--r-- 1 jovyan users 17G Nov 19 15:32 the-pile-filtered.jsonl\r\n"
     ]
    }
   ],
   "source": [
    "!ls -lh the-pile-filtered.jsonl"
   ]
  },
  {
   "cell_type": "code",
   "execution_count": 19,
   "id": "c2b1df93",
   "metadata": {},
   "outputs": [],
   "source": [
    "from huggingface_hub import HfApi\n",
    "\n",
    "api = HfApi()"
   ]
  },
  {
   "cell_type": "code",
   "execution_count": 20,
   "id": "678fb96b",
   "metadata": {},
   "outputs": [
    {
     "data": {
      "application/vnd.jupyter.widget-view+json": {
       "model_id": "d66e7027527940eab3287b23e6c03406",
       "version_major": 2,
       "version_minor": 0
      },
      "text/plain": [
       "the-pile-filtered.jsonl:   0%|          | 0.00/17.7G [00:00<?, ?B/s]"
      ]
     },
     "metadata": {},
     "output_type": "display_data"
    },
    {
     "data": {
      "text/plain": [
       "'https://huggingface.co/datasets/malaysia-ai/dedup-text-dataset/blob/main/the-pile-filtered.jsonl'"
      ]
     },
     "execution_count": 20,
     "metadata": {},
     "output_type": "execute_result"
    }
   ],
   "source": [
    "api.upload_file(\n",
    "    path_or_fileobj='the-pile-filtered.jsonl',\n",
    "    path_in_repo=\"the-pile-filtered.jsonl\",\n",
    "    repo_id='malaysia-ai/dedup-text-dataset',\n",
    "    repo_type=\"dataset\",\n",
    ")"
   ]
  },
  {
   "cell_type": "code",
   "execution_count": null,
   "id": "a0df354b",
   "metadata": {},
   "outputs": [],
   "source": []
  }
 ],
 "metadata": {
  "kernelspec": {
   "display_name": "Python 3 (ipykernel)",
   "language": "python",
   "name": "python3"
  },
  "language_info": {
   "codemirror_mode": {
    "name": "ipython",
    "version": 3
   },
   "file_extension": ".py",
   "mimetype": "text/x-python",
   "name": "python",
   "nbconvert_exporter": "python",
   "pygments_lexer": "ipython3",
   "version": "3.9.13"
  }
 },
 "nbformat": 4,
 "nbformat_minor": 5
}
