{
 "cells": [
  {
   "cell_type": "code",
   "execution_count": 1,
   "id": "7bead106",
   "metadata": {},
   "outputs": [],
   "source": [
    "# !pip3 install praw psaw"
   ]
  },
  {
   "cell_type": "code",
   "execution_count": 2,
   "id": "1c64fd65",
   "metadata": {},
   "outputs": [],
   "source": [
    "subreddits = ['malaysians', 'malaysia', 'MalaysianPF', 'MalaysiaPolitics',\n",
    "             'askSingapore', 'singapore', 'SingaporeRaw', 'MalaysianFood']"
   ]
  },
  {
   "cell_type": "code",
   "execution_count": 3,
   "id": "87e9bfac",
   "metadata": {},
   "outputs": [],
   "source": [
    "import praw\n",
    "from psaw import PushshiftAPI\n",
    "\n",
    "reddit_read_only = praw.Reddit(client_id=\"EAnF6Qebw87Mpw\",\n",
    "                               client_secret=\"O7IGAlCWGzvO4XfbmKtCf00wq6A\",\n",
    "                               user_agent=\"isuterkini\")\n",
    "\n",
    "api = PushshiftAPI(reddit_read_only)"
   ]
  },
  {
   "cell_type": "code",
   "execution_count": 4,
   "id": "b5673a40",
   "metadata": {},
   "outputs": [],
   "source": [
    "gen = api.search_submissions(subreddit='MalaysianFood',\n",
    "                            filter=['author', 'subreddit'])"
   ]
  },
  {
   "cell_type": "code",
   "execution_count": 5,
   "id": "53a759f6",
   "metadata": {},
   "outputs": [
    {
     "name": "stderr",
     "output_type": "stream",
     "text": [
      "0it [00:00, ?it/s]/home/ubuntu/.local/lib/python3.7/site-packages/psaw/PushshiftAPI.py:252: UserWarning: Not all PushShift shards are active. Query results may be incomplete\n",
      "  warnings.warn(shards_down_message)\n",
      "1824it [1:01:27,  2.02s/it]\n"
     ]
    }
   ],
   "source": [
    "from tqdm import tqdm\n",
    "\n",
    "a = open('r-MalaysianFood', 'a')\n",
    "for r in tqdm(gen):\n",
    "    a.write(f'{r.title}\\n\\n')\n",
    "    a.flush()\n",
    "    submission = reddit_read_only.submission(url=f'https://www.reddit.com/{r.permalink}')\n",
    "    submission.comments.replace_more(limit=None)\n",
    "    for comment in submission.comments.list():\n",
    "        a.write(f'{comment.body}\\n\\n')\n",
    "        a.flush()"
   ]
  },
  {
   "cell_type": "code",
   "execution_count": null,
   "id": "4db7fb5f",
   "metadata": {},
   "outputs": [],
   "source": []
  }
 ],
 "metadata": {
  "kernelspec": {
   "display_name": "Python 3",
   "language": "python",
   "name": "python3"
  },
  "language_info": {
   "codemirror_mode": {
    "name": "ipython",
    "version": 3
   },
   "file_extension": ".py",
   "mimetype": "text/x-python",
   "name": "python",
   "nbconvert_exporter": "python",
   "pygments_lexer": "ipython3",
   "version": "3.7.10"
  }
 },
 "nbformat": 4,
 "nbformat_minor": 5
}
