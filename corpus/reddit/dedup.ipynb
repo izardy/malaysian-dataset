{
 "cells": [
  {
   "cell_type": "code",
   "execution_count": 1,
   "metadata": {},
   "outputs": [],
   "source": [
    "x = \"\"\"\n",
    "https://f000.backblazeb2.com/file/malay-dataset/dumping/reddit/r-MalaysiaPolitics\n",
    "https://f000.backblazeb2.com/file/malay-dataset/dumping/reddit/r-MalaysianFood\n",
    "https://f000.backblazeb2.com/file/malay-dataset/dumping/reddit/r-MalaysianPF\n",
    "https://f000.backblazeb2.com/file/malay-dataset/dumping/reddit/r-SingaporeRaw\n",
    "https://f000.backblazeb2.com/file/malay-dataset/dumping/reddit/r-malaysia\n",
    "https://f000.backblazeb2.com/file/malay-dataset/dumping/reddit/r-malaysians\n",
    "https://f000.backblazeb2.com/file/malay-dataset/dumping/reddit/r-singapore\n",
    "\"\"\""
   ]
  },
  {
   "cell_type": "code",
   "execution_count": 4,
   "metadata": {},
   "outputs": [],
   "source": [
    "# import os\n",
    "# for x_ in x.split('\\n'):\n",
    "#     if len(x_):\n",
    "#         os.system(f'wget {x_}')"
   ]
  },
  {
   "cell_type": "code",
   "execution_count": 5,
   "metadata": {
    "scrolled": true
   },
   "outputs": [
    {
     "name": "stdout",
     "output_type": "stream",
     "text": [
      "Looking for crisis helpline operators\r\n",
      "\r\n"
     ]
    }
   ],
   "source": [
    "!head -n 2 r-singapore"
   ]
  },
  {
   "cell_type": "code",
   "execution_count": 12,
   "metadata": {},
   "outputs": [],
   "source": [
    "from glob import glob\n",
    "import json\n",
    "import re\n",
    "\n",
    "def cleaning(string):\n",
    "    string = re.sub(r'[ ]+', ' ', string.replace('\\n', ' ').replace('\\r', ' ')).strip()\n",
    "    return string.lower()"
   ]
  },
  {
   "cell_type": "code",
   "execution_count": 8,
   "metadata": {},
   "outputs": [],
   "source": [
    "files = glob('r-*')"
   ]
  },
  {
   "cell_type": "code",
   "execution_count": 14,
   "metadata": {},
   "outputs": [],
   "source": [
    "processed = set()\n",
    "with open('dedup.jsonl', 'w') as fopen_l:\n",
    "    for f in files:\n",
    "        with open(f) as fopen:\n",
    "            data = fopen.read().split('\\n')\n",
    "        \n",
    "        for d in data:\n",
    "            if not len(d):\n",
    "                continue\n",
    "            \n",
    "            t = cleaning(d)\n",
    "            if not len(t):\n",
    "                continue\n",
    "            \n",
    "            if t not in processed:\n",
    "                fopen_l.write(f'{json.dumps(t)}\\n')\n",
    "                processed.add(t)"
   ]
  },
  {
   "cell_type": "code",
   "execution_count": null,
   "metadata": {},
   "outputs": [],
   "source": []
  }
 ],
 "metadata": {
  "kernelspec": {
   "display_name": "Python 3 (ipykernel)",
   "language": "python",
   "name": "python3"
  },
  "language_info": {
   "codemirror_mode": {
    "name": "ipython",
    "version": 3
   },
   "file_extension": ".py",
   "mimetype": "text/x-python",
   "name": "python",
   "nbconvert_exporter": "python",
   "pygments_lexer": "ipython3",
   "version": "3.8.10"
  }
 },
 "nbformat": 4,
 "nbformat_minor": 4
}
