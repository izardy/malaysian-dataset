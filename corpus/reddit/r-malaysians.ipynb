{
 "cells": [
  {
   "cell_type": "code",
   "execution_count": 1,
   "id": "e179169f",
   "metadata": {},
   "outputs": [],
   "source": [
    "# !pip3 install praw psaw"
   ]
  },
  {
   "cell_type": "code",
   "execution_count": 1,
   "id": "e0f03272",
   "metadata": {},
   "outputs": [],
   "source": [
    "subreddits = ['malaysians', 'malaysia', 'MalaysianPF', 'MalaysiaPolitics',\n",
    "             'askSingapore', 'singapore', 'SingaporeRaw', 'MalaysianFood']"
   ]
  },
  {
   "cell_type": "code",
   "execution_count": 2,
   "id": "a9245a88",
   "metadata": {},
   "outputs": [],
   "source": [
    "import praw\n",
    "from psaw import PushshiftAPI\n",
    "\n",
    "reddit_read_only = praw.Reddit(client_id=\"TkThRmhmeax9BSvQE5dw_A\",\n",
    "                               client_secret=\"RwCL2DO0pYON4_qXRkTO0RE8o19NTA\",\n",
    "                               user_agent=\"languagemodel\")\n",
    "\n",
    "api = PushshiftAPI(reddit_read_only)"
   ]
  },
  {
   "cell_type": "code",
   "execution_count": 3,
   "id": "d03c7a94",
   "metadata": {},
   "outputs": [],
   "source": [
    "gen = api.search_submissions(subreddit='malaysians',\n",
    "                            filter=['author', 'subreddit'])"
   ]
  },
  {
   "cell_type": "code",
   "execution_count": 4,
   "id": "35e418c9",
   "metadata": {},
   "outputs": [
    {
     "name": "stderr",
     "output_type": "stream",
     "text": [
      "0it [00:00, ?it/s]/home/ubuntu/.local/lib/python3.7/site-packages/psaw/PushshiftAPI.py:252: UserWarning: Not all PushShift shards are active. Query results may be incomplete\n",
      "  warnings.warn(shards_down_message)\n",
      "3717it [2:07:34,  2.06s/it]\n"
     ]
    }
   ],
   "source": [
    "from tqdm import tqdm\n",
    "\n",
    "a = open('r-malaysians', 'a')\n",
    "for r in tqdm(gen):\n",
    "    a.write(f'{r.title}\\n\\n')\n",
    "    a.flush()\n",
    "    submission = reddit_read_only.submission(url=f'https://www.reddit.com/{r.permalink}')\n",
    "    submission.comments.replace_more(limit=None)\n",
    "    for comment in submission.comments.list():\n",
    "        a.write(f'{comment.body}\\n\\n')\n",
    "        a.flush()"
   ]
  },
  {
   "cell_type": "code",
   "execution_count": 73,
   "id": "d7df60f6",
   "metadata": {},
   "outputs": [
    {
     "data": {
      "text/plain": [
       "22"
      ]
     },
     "execution_count": 73,
     "metadata": {},
     "output_type": "execute_result"
    }
   ],
   "source": [
    "len(texts)"
   ]
  }
 ],
 "metadata": {
  "kernelspec": {
   "display_name": "Python 3",
   "language": "python",
   "name": "python3"
  },
  "language_info": {
   "codemirror_mode": {
    "name": "ipython",
    "version": 3
   },
   "file_extension": ".py",
   "mimetype": "text/x-python",
   "name": "python",
   "nbconvert_exporter": "python",
   "pygments_lexer": "ipython3",
   "version": "3.7.10"
  }
 },
 "nbformat": 4,
 "nbformat_minor": 5
}
