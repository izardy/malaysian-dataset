{
 "cells": [
  {
   "cell_type": "code",
   "execution_count": 1,
   "id": "c49237c8",
   "metadata": {},
   "outputs": [],
   "source": [
    "# !pip3 install praw psaw"
   ]
  },
  {
   "cell_type": "code",
   "execution_count": 2,
   "id": "a4c3f3eb",
   "metadata": {},
   "outputs": [],
   "source": [
    "import praw\n",
    "from psaw import PushshiftAPI\n",
    "\n",
    "reddit_read_only = praw.Reddit(client_id=\"TkThRmhmeax9BSvQE5dw_A\",\n",
    "                               client_secret=\"RwCL2DO0pYON4_qXRkTO0RE8o19NTA\",\n",
    "                               user_agent=\"languagemodel\")\n",
    "\n",
    "api = PushshiftAPI(reddit_read_only)"
   ]
  },
  {
   "cell_type": "code",
   "execution_count": 3,
   "id": "b8ab7778",
   "metadata": {},
   "outputs": [],
   "source": [
    "gen = api.search_submissions(subreddit='MalaysianPF',\n",
    "                            filter=['author', 'subreddit'])"
   ]
  },
  {
   "cell_type": "code",
   "execution_count": 4,
   "id": "26fce4d6",
   "metadata": {},
   "outputs": [
    {
     "name": "stderr",
     "output_type": "stream",
     "text": [
      "0it [00:00, ?it/s]/home/ubuntu/.local/lib/python3.8/site-packages/psaw/PushshiftAPI.py:252: UserWarning: Not all PushShift shards are active. Query results may be incomplete\n",
      "  warnings.warn(shards_down_message)\n",
      "2689it [1:30:44,  2.02s/it]\n"
     ]
    }
   ],
   "source": [
    "from tqdm import tqdm\n",
    "\n",
    "a = open('r-MalaysianPF', 'a')\n",
    "for r in tqdm(gen):\n",
    "    a.write(f'{r.title}\\n\\n')\n",
    "    a.flush()\n",
    "    submission = reddit_read_only.submission(url=f'https://www.reddit.com/{r.permalink}')\n",
    "    submission.comments.replace_more(limit=None)\n",
    "    for comment in submission.comments.list():\n",
    "        a.write(f'{comment.body}\\n\\n')\n",
    "        a.flush()"
   ]
  },
  {
   "cell_type": "code",
   "execution_count": null,
   "id": "fbe03d5c",
   "metadata": {},
   "outputs": [],
   "source": []
  }
 ],
 "metadata": {
  "kernelspec": {
   "display_name": "Python 3 (ipykernel)",
   "language": "python",
   "name": "python3"
  },
  "language_info": {
   "codemirror_mode": {
    "name": "ipython",
    "version": 3
   },
   "file_extension": ".py",
   "mimetype": "text/x-python",
   "name": "python",
   "nbconvert_exporter": "python",
   "pygments_lexer": "ipython3",
   "version": "3.8.10"
  }
 },
 "nbformat": 4,
 "nbformat_minor": 5
}
