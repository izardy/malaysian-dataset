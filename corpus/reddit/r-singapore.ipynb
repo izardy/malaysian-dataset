{
 "cells": [
  {
   "cell_type": "code",
   "execution_count": 1,
   "id": "c49237c8",
   "metadata": {},
   "outputs": [],
   "source": [
    "# !pip3 install praw psaw"
   ]
  },
  {
   "cell_type": "code",
   "execution_count": 2,
   "id": "a4c3f3eb",
   "metadata": {},
   "outputs": [],
   "source": [
    "import praw\n",
    "from psaw import PushshiftAPI\n",
    "\n",
    "reddit_read_only = praw.Reddit(client_id=\"EAnF6Qebw87Mpw\",\n",
    "                               client_secret=\"O7IGAlCWGzvO4XfbmKtCf00wq6A\",\n",
    "                               user_agent=\"isuterkini\")\n",
    "\n",
    "api = PushshiftAPI(reddit_read_only)"
   ]
  },
  {
   "cell_type": "code",
   "execution_count": 3,
   "id": "b8ab7778",
   "metadata": {},
   "outputs": [],
   "source": [
    "gen = api.search_submissions(subreddit='singapore',\n",
    "                            filter=['author', 'subreddit'])"
   ]
  },
  {
   "cell_type": "code",
   "execution_count": null,
   "id": "26fce4d6",
   "metadata": {
    "scrolled": true
   },
   "outputs": [
    {
     "name": "stderr",
     "output_type": "stream",
     "text": [
      "0it [00:00, ?it/s]/home/ubuntu/.local/lib/python3.8/site-packages/psaw/PushshiftAPI.py:252: UserWarning: Not all PushShift shards are active. Query results may be incomplete\n",
      "  warnings.warn(shards_down_message)\n",
      "7010it [10:07:43,  1.04s/it]IOPub message rate exceeded.\n",
      "The notebook server will temporarily stop sending output\n",
      "to the client in order to avoid crashing it.\n",
      "To change this limit, set the config variable\n",
      "`--NotebookApp.iopub_msg_rate_limit`.\n",
      "\n",
      "Current values:\n",
      "NotebookApp.iopub_msg_rate_limit=1000.0 (msgs/sec)\n",
      "NotebookApp.rate_limit_window=3.0 (secs)\n",
      "\n",
      "8314it [12:04:06, 10.24s/it] "
     ]
    }
   ],
   "source": [
    "from tqdm import tqdm\n",
    "\n",
    "a = open('r-singapore', 'a')\n",
    "for r in tqdm(gen):\n",
    "    a.write(f'{r.title}\\n\\n')\n",
    "    a.flush()\n",
    "    submission = reddit_read_only.submission(url=f'https://www.reddit.com/{r.permalink}')\n",
    "    submission.comments.replace_more(limit=None)\n",
    "    for comment in submission.comments.list():\n",
    "        a.write(f'{comment.body}\\n\\n')\n",
    "        a.flush()"
   ]
  }
 ],
 "metadata": {
  "kernelspec": {
   "display_name": "Python 3 (ipykernel)",
   "language": "python",
   "name": "python3"
  },
  "language_info": {
   "codemirror_mode": {
    "name": "ipython",
    "version": 3
   },
   "file_extension": ".py",
   "mimetype": "text/x-python",
   "name": "python",
   "nbconvert_exporter": "python",
   "pygments_lexer": "ipython3",
   "version": "3.8.10"
  }
 },
 "nbformat": 4,
 "nbformat_minor": 5
}
