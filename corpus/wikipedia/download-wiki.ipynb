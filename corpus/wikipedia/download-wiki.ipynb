{
 "cells": [
  {
   "cell_type": "code",
   "execution_count": 1,
   "id": "2f3c7fbe",
   "metadata": {
    "scrolled": true
   },
   "outputs": [],
   "source": [
    "# !pip3 install wikiextractor"
   ]
  },
  {
   "cell_type": "code",
   "execution_count": 2,
   "id": "133acf14",
   "metadata": {},
   "outputs": [],
   "source": [
    "# !wget http://dumps.wikimedia.org/mswiki/latest/mswiki-latest-pages-articles.xml.bz2\n",
    "# !wget https://dumps.wikimedia.org/mswiki/latest/mswiki-latest-pages-meta-history.xml.bz2"
   ]
  },
  {
   "cell_type": "code",
   "execution_count": 3,
   "id": "27d0a40c",
   "metadata": {},
   "outputs": [],
   "source": [
    "# !bzip2 -d mswiki-latest-pages-articles.xml.bz2\n",
    "# !bzip2 -d mswiki-latest-pages-meta-history.xml.bz2"
   ]
  },
  {
   "cell_type": "code",
   "execution_count": null,
   "id": "9cbf0de4",
   "metadata": {},
   "outputs": [],
   "source": [
    "!/home/ubuntu/.local/bin/wikiextractor --json mswiki-latest-pages-articles.xml"
   ]
  },
  {
   "cell_type": "code",
   "execution_count": 6,
   "id": "ce41447c",
   "metadata": {},
   "outputs": [],
   "source": [
    "!mv text text-2"
   ]
  },
  {
   "cell_type": "code",
   "execution_count": 7,
   "id": "f59ba21f",
   "metadata": {},
   "outputs": [
    {
     "name": "stdout",
     "output_type": "stream",
     "text": [
      "INFO: Preprocessing 'mswiki-latest-pages-meta-history.xml' to collect template definitions: this may take some time.\n",
      "INFO: Preprocessed 100000 pages\n",
      "INFO: Preprocessed 200000 pages\n",
      "INFO: Preprocessed 300000 pages\n",
      "INFO: Preprocessed 400000 pages\n",
      "INFO: Preprocessed 500000 pages\n",
      "INFO: Preprocessed 600000 pages\n",
      "INFO: Preprocessed 700000 pages\n",
      "INFO: Preprocessed 800000 pages\n",
      "INFO: Preprocessed 900000 pages\n",
      "INFO: Preprocessed 1000000 pages\n",
      "INFO: Loaded 40373 templates in 170.5s\n",
      "INFO: Starting page extraction from mswiki-latest-pages-meta-history.xml.\n",
      "INFO: Using 15 extract processes.\n",
      "INFO: Extracted 100000 articles (463.2 art/s)\n",
      "INFO: Extracted 200000 articles (2087.4 art/s)\n",
      "INFO: Extracted 300000 articles (4158.9 art/s)\n",
      "INFO: Extracted 400000 articles (1437.0 art/s)\n",
      "INFO: Finished 15-process extraction of 423640 articles in 370.1s (1144.8 art/s)\n"
     ]
    }
   ],
   "source": [
    "!/home/ubuntu/.local/bin/wikiextractor --json mswiki-latest-pages-meta-history.xml"
   ]
  },
  {
   "cell_type": "code",
   "execution_count": 8,
   "id": "c84ae587",
   "metadata": {},
   "outputs": [
    {
     "name": "stdout",
     "output_type": "stream",
     "text": [
      "7.2G\ttext\r\n"
     ]
    }
   ],
   "source": [
    "!du -hs text"
   ]
  },
  {
   "cell_type": "code",
   "execution_count": 9,
   "id": "59edc3d9",
   "metadata": {},
   "outputs": [
    {
     "name": "stdout",
     "output_type": "stream",
     "text": [
      "306M\ttext-2\r\n"
     ]
    }
   ],
   "source": [
    "!du -hs text-2"
   ]
  },
  {
   "cell_type": "code",
   "execution_count": 11,
   "id": "d2b3da6c",
   "metadata": {},
   "outputs": [],
   "source": [
    "!tar -cf wiki-2022-05-22-meta.tar text"
   ]
  },
  {
   "cell_type": "code",
   "execution_count": 12,
   "id": "5cc7646c",
   "metadata": {},
   "outputs": [],
   "source": [
    "!tar -cf wiki-2022-05-22-pages.tar text-2"
   ]
  },
  {
   "cell_type": "code",
   "execution_count": 13,
   "id": "6866495d",
   "metadata": {},
   "outputs": [],
   "source": [
    "!rm *.xml"
   ]
  }
 ],
 "metadata": {
  "kernelspec": {
   "display_name": "Python 3 (ipykernel)",
   "language": "python",
   "name": "python3"
  },
  "language_info": {
   "codemirror_mode": {
    "name": "ipython",
    "version": 3
   },
   "file_extension": ".py",
   "mimetype": "text/x-python",
   "name": "python",
   "nbconvert_exporter": "python",
   "pygments_lexer": "ipython3",
   "version": "3.8.10"
  }
 },
 "nbformat": 4,
 "nbformat_minor": 5
}
