{
 "cells": [
  {
   "cell_type": "code",
   "execution_count": 16,
   "id": "a6227fc4",
   "metadata": {},
   "outputs": [
    {
     "data": {
      "text/plain": [
       "8"
      ]
     },
     "execution_count": 16,
     "metadata": {},
     "output_type": "execute_result"
    }
   ],
   "source": [
    "from collections import defaultdict\n",
    "import json\n",
    "import random\n",
    "\n",
    "language = defaultdict(list)\n",
    "with open('/home/husein/ssd3/google-translate-malay-news/generate-dialect-conversations.jsonl') as fopen:\n",
    "    for l in fopen:\n",
    "        l = json.loads(l)\n",
    "        \n",
    "        system = f\"\"\"\n",
    "Sebagai ejen kreatif, anda akan bercakap dalam bahasa {l['language']} tentang topik {l['topic']}\n",
    "\n",
    "\n",
    "\"\"\".strip()\n",
    "        try:\n",
    "            conversation = []\n",
    "            for i in range(len(l['conversation'][0])):\n",
    "                if i % 2 == 0:\n",
    "                    role = 'user'\n",
    "                else:\n",
    "                    role = 'assistant'\n",
    "                conversation.append({'role': role, 'content': l['conversation'][0][i]['message']})\n",
    "\n",
    "            if len(conversation) % 2 != 0:\n",
    "                conversation = conversation[:-1]\n",
    "\n",
    "            conversation[0]['content'] = system + '\\n\\n' + conversation[0]['content']\n",
    "            language[l['language']].append(conversation)\n",
    "        except Exception as e:\n",
    "            continue\n",
    "            \n",
    "len(language)"
   ]
  },
  {
   "cell_type": "code",
   "execution_count": 17,
   "id": "72c35065",
   "metadata": {},
   "outputs": [
    {
     "data": {
      "text/plain": [
       "99196"
      ]
     },
     "execution_count": 17,
     "metadata": {},
     "output_type": "execute_result"
    }
   ],
   "source": [
    "data = []\n",
    "for k in language.keys():\n",
    "    data.extend(random.sample(language[k], min(50000, len(language[k]))))\n",
    "len(data)"
   ]
  },
  {
   "cell_type": "code",
   "execution_count": 18,
   "id": "ba7fc293",
   "metadata": {},
   "outputs": [
    {
     "data": {
      "text/plain": [
       "[{'role': 'user',\n",
       "  'content': 'Sebagai ejen kreatif, anda akan bercakap dalam bahasa sabah tentang topik sosial media\\n\\nBah, pigi la kamu duluístagram, siuk ngam citecount?'},\n",
       " {'role': 'assistant',\n",
       "  'content': 'Iya bah, citecount kamu tu banyak, ampai kamu promote apa apa?'},\n",
       " {'role': 'user',\n",
       "  'content': 'Hahaha, bukan apa apa, aku cuma aktif aja di Facebook, pungan orang Sabah siuk ngam tagging'},\n",
       " {'role': 'assistant',\n",
       "  'content': 'Ooo, aku ingat, kamu pernah taruk gambar makanan Sabah kat Instagram, aku lihat, ngam ngam'},\n",
       " {'role': 'user',\n",
       "  'content': 'Iya, aku suka makanan Sabah, especially kumatus, siuk ngam makan'},\n",
       " {'role': 'assistant',\n",
       "  'content': 'Haha, kumatus tu apa, aku ingat nama lain, piring tu'},\n",
       " {'role': 'user',\n",
       "  'content': 'Piring? Ah, kamu maksud piring, iya lah, kumatus tu another name for tomato'},\n",
       " {'role': 'assistant',\n",
       "  'content': 'Ooo, aku tau, kamu sibuk dengan anak muda sabah, aktif kat Twitter, siuk ngam tweet'}]"
      ]
     },
     "execution_count": 18,
     "metadata": {},
     "output_type": "execute_result"
    }
   ],
   "source": [
    "data[0]"
   ]
  },
  {
   "cell_type": "code",
   "execution_count": 19,
   "id": "36262e9c",
   "metadata": {},
   "outputs": [],
   "source": [
    "roles = {\n",
    "    'user': '<manusia>',\n",
    "    'assistant': '<bot>'\n",
    "}\n",
    "\n",
    "instructions = []\n",
    "\n",
    "for d in data:\n",
    "    inputs = []\n",
    "    for c in d:\n",
    "        role = roles[c['role']]\n",
    "        current_text = c['content']\n",
    "        s = f\"{role}: {current_text}\"\n",
    "        inputs.append(s)\n",
    "    d = '\\n'.join(inputs).strip()\n",
    "    if not len(d):\n",
    "        continue\n",
    "    instructions.append({\n",
    "        'prompt_input': None,\n",
    "        'input': d,\n",
    "        'output': None\n",
    "    })"
   ]
  },
  {
   "cell_type": "code",
   "execution_count": 20,
   "id": "3afe6112",
   "metadata": {},
   "outputs": [],
   "source": [
    "with open('generated-language-conversation.jsonl', 'w') as fopen:\n",
    "    for i in instructions:\n",
    "        fopen.write(f'{json.dumps(i)}\\n')"
   ]
  }
 ],
 "metadata": {
  "kernelspec": {
   "display_name": "Python 3 (ipykernel)",
   "language": "python",
   "name": "python3"
  },
  "language_info": {
   "codemirror_mode": {
    "name": "ipython",
    "version": 3
   },
   "file_extension": ".py",
   "mimetype": "text/x-python",
   "name": "python",
   "nbconvert_exporter": "python",
   "pygments_lexer": "ipython3",
   "version": "3.8.10"
  }
 },
 "nbformat": 4,
 "nbformat_minor": 5
}
