{
 "cells": [
  {
   "cell_type": "code",
   "execution_count": 2,
   "id": "ad1497bc",
   "metadata": {},
   "outputs": [],
   "source": [
    "import json\n",
    "from tqdm import tqdm\n",
    "from malaysian_sft import accept"
   ]
  },
  {
   "cell_type": "code",
   "execution_count": 1,
   "id": "a5f0a3cf",
   "metadata": {},
   "outputs": [
    {
     "name": "stderr",
     "output_type": "stream",
     "text": [
      "Warning : `load_model` does not return WordVectorModel or SupervisedModel any more, but a `FastText` object which is very similar.\n"
     ]
    }
   ],
   "source": [
    "from huggingface_hub import hf_hub_download\n",
    "import fasttext\n",
    "\n",
    "filename = hf_hub_download(\n",
    "    repo_id=\"mesolitica/fasttext-language-detection-bahasa-en\", \n",
    "    filename=\"fasttext.ftz\"\n",
    ")\n",
    "lang_model = fasttext.load_model(filename)"
   ]
  },
  {
   "cell_type": "code",
   "execution_count": 4,
   "id": "7e2839f2",
   "metadata": {},
   "outputs": [
    {
     "name": "stderr",
     "output_type": "stream",
     "text": [
      "374783it [00:34, 10988.08it/s]\n",
      "435674it [01:26, 5053.32it/s]\n"
     ]
    }
   ],
   "source": [
    "files = [\n",
    "    'reply-filter-social-media.jsonl',\n",
    "    'reply-filter-social-media-questions.jsonl',\n",
    "]\n",
    "\n",
    "social_media = []\n",
    "\n",
    "for f in files:\n",
    "    with open(f) as fopen:\n",
    "        for l in tqdm(fopen):\n",
    "            l = json.loads(l)\n",
    "            splitted = l['question'].split()\n",
    "            splitted = [s for s in splitted if len(s) > 3]\n",
    "\n",
    "            if len(l['question'].split()) < 15:\n",
    "                continue\n",
    "\n",
    "            if '/' in l['answer']:\n",
    "                continue\n",
    "\n",
    "            if 'tuan/puan' in l['answer'].lower():\n",
    "                continue\n",
    "\n",
    "            if '_' in l['answer']:\n",
    "                continue\n",
    "\n",
    "            if 'Anda' in l['answer']:\n",
    "                continue\n",
    "\n",
    "            if 'Yang Berhormat' in l['answer']:\n",
    "                continue\n",
    "\n",
    "            if 'tuan' in l['answer'].lower():\n",
    "                continue\n",
    "\n",
    "            if 'puan' in l['answer'].lower():\n",
    "                continue\n",
    "\n",
    "            if 'https' in l['question']:\n",
    "                continue\n",
    "\n",
    "            if not accept(l['answer']):\n",
    "                continue\n",
    "\n",
    "            social_media.append([\n",
    "                {'role': 'user', 'content': l['question']},\n",
    "                {'role': 'assistant', 'content': l['answer']}\n",
    "            ])\n",
    "\n",
    "social_media_filtered = [s for s in social_media if lang_model.predict([s[-1]['content'].replace('\\n', ' ')])[0][0][0] == '__label__bahasa']\n",
    "filtered = []\n",
    "for s in social_media_filtered:\n",
    "    l = s[-1]['content'].lower()\n",
    "    if 'hidup saya' in l:\n",
    "        continue\n",
    "\n",
    "    if 'possible response' in l:\n",
    "        continue\n",
    "\n",
    "    if 'continue the conversation' in l:\n",
    "        continue\n",
    "\n",
    "    if 'me:' in l:\n",
    "        continue\n",
    "\n",
    "    filtered.append(s)"
   ]
  },
  {
   "cell_type": "code",
   "execution_count": 6,
   "id": "505894c9",
   "metadata": {},
   "outputs": [
    {
     "data": {
      "text/plain": [
       "[{'role': 'user',\n",
       "  'content': 'Bru 5hb weyy!! Habess dahh gaji knapa bulan ni lajuuu namateyyy habess ni. Nk cekau mne lg ni weyyy'},\n",
       " {'role': 'assistant',\n",
       "  'content': 'Terima kasih atas perkongsian anda mengenai kegembiraan dan keseronokan menghadapi bulan ini! Memanglah, bulan ini dipenuhi dengan pelbagai aktiviti dan acara yang menyeronokkan, tidak kira sama ada ia berbentuk perayaan, hiburan atau pun keseronokan bersama-sama keluarga dan rakan-rakan.\\n\\nSaya dapat merasakan keseronokan dan kegembiraan yang melampau daripada perkongsian anda, dan saya berharap agar keseronokan ini dapat diteruskan sepanjang bulan ini. Pastinya, setiap orang mempunyai cara sendiri untuk menikmati dan menghargai waktu yang berharga ini.\\n\\nNamun, saya juga ingin menasihati agar kita tidak melupakan tanggungjawab dan kewajipan kita sehari-hari, seperti kerja, kuliah atau pun aktiviti lain yang perlukan perhatian kita. Penting untuk mencari keseimbangan antara keseronokan dan tanggungjawab, agar kita tidak meninggalkan apa-apa yang penting di belakang.\\n\\nJika ada apa-apa perkara yang ingin dibincangkan atau dikongsi, sila tidak ragu-ragu untuk berbincang dengan saya. Saya sentiasa sedia untuk mendengar dan memberikan nasihat, jika perlu.'}]"
      ]
     },
     "execution_count": 6,
     "metadata": {},
     "output_type": "execute_result"
    }
   ],
   "source": [
    "filtered[0]"
   ]
  },
  {
   "cell_type": "code",
   "execution_count": 7,
   "id": "fe3a587b",
   "metadata": {},
   "outputs": [],
   "source": [
    "instructions = []\n",
    "for f in filtered:\n",
    "    d = {\n",
    "        'prompt_input': None,\n",
    "        'input': f[0]['content'],\n",
    "        'output': f[1]['content'],\n",
    "    }\n",
    "    instructions.append(d)"
   ]
  },
  {
   "cell_type": "code",
   "execution_count": 8,
   "id": "3bcbdbf9",
   "metadata": {},
   "outputs": [],
   "source": [
    "import pandas as pd\n",
    "\n",
    "df = pd.DataFrame(instructions)\n",
    "df.to_parquet('prepared-llama3-70b-social-media-qa.parquet')"
   ]
  },
  {
   "cell_type": "code",
   "execution_count": 9,
   "id": "535d4db3",
   "metadata": {},
   "outputs": [
    {
     "data": {
      "application/vnd.jupyter.widget-view+json": {
       "model_id": "9931f8872c664c949f0d811903ab250a",
       "version_major": 2,
       "version_minor": 0
      },
      "text/plain": [
       "prepared-llama3-70b-social-media-qa.parquet:   0%|          | 0.00/61.8M [00:00<?, ?B/s]"
      ]
     },
     "metadata": {},
     "output_type": "display_data"
    },
    {
     "data": {
      "text/plain": [
       "CommitInfo(commit_url='https://huggingface.co/datasets/mesolitica/Malaysian-SFT/commit/66e17cb75bd09d8756362a4ec9b6aa4fd1654947', commit_message='Upload data/llama3_70b_social_media_qa-00000-of-00001.parquet with huggingface_hub', commit_description='', oid='66e17cb75bd09d8756362a4ec9b6aa4fd1654947', pr_url=None, pr_revision=None, pr_num=None)"
      ]
     },
     "execution_count": 9,
     "metadata": {},
     "output_type": "execute_result"
    }
   ],
   "source": [
    "from huggingface_hub import HfApi\n",
    "api = HfApi()\n",
    "\n",
    "api.upload_file(\n",
    "    path_or_fileobj=\"prepared-llama3-70b-social-media-qa.parquet\",\n",
    "    path_in_repo='data/llama3_70b_social_media_qa-00000-of-00001.parquet',\n",
    "    repo_id=\"mesolitica/Malaysian-SFT\",\n",
    "    repo_type=\"dataset\",\n",
    ")"
   ]
  },
  {
   "cell_type": "code",
   "execution_count": null,
   "id": "8416c7ac",
   "metadata": {},
   "outputs": [],
   "source": []
  }
 ],
 "metadata": {
  "kernelspec": {
   "display_name": "Python 3 (ipykernel)",
   "language": "python",
   "name": "python3"
  },
  "language_info": {
   "codemirror_mode": {
    "name": "ipython",
    "version": 3
   },
   "file_extension": ".py",
   "mimetype": "text/x-python",
   "name": "python",
   "nbconvert_exporter": "python",
   "pygments_lexer": "ipython3",
   "version": "3.8.10"
  }
 },
 "nbformat": 4,
 "nbformat_minor": 5
}
