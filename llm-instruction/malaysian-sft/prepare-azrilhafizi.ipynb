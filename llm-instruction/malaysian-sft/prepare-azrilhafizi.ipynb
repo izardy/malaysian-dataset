{
 "cells": [
  {
   "cell_type": "code",
   "execution_count": 2,
   "id": "c466aaa4",
   "metadata": {},
   "outputs": [],
   "source": [
    "# !wget https://huggingface.co/datasets/azrilhafizi/MaLLM-Bench/resolve/main/all.json\n",
    "# !wget https://huggingface.co/datasets/azrilhafizi/tatabahasa/resolve/main/tatabahasa.jsonl"
   ]
  },
  {
   "cell_type": "code",
   "execution_count": 3,
   "id": "5b67c23c",
   "metadata": {},
   "outputs": [],
   "source": [
    "import json\n",
    "\n",
    "with open('all.json') as fopen:\n",
    "    d = json.load(fopen)"
   ]
  },
  {
   "cell_type": "code",
   "execution_count": 16,
   "id": "4323379f",
   "metadata": {},
   "outputs": [],
   "source": [
    "choices = 'ABCD'"
   ]
  },
  {
   "cell_type": "code",
   "execution_count": 19,
   "id": "30aa2ef8",
   "metadata": {},
   "outputs": [],
   "source": [
    "data = []\n",
    "for d_ in d:\n",
    "    q = d_['question']\n",
    "    a = choices[d_['answer'] - 1]\n",
    "    options = '\\n'.join([f'{choices[no]}. {o}' for no, o in enumerate(d_['options'])])\n",
    "    q = f'Jawab soalan berikut.\\n{q}\\n{options}'\n",
    "    data.append({\n",
    "        'prompt_input': None,\n",
    "        'input': q,\n",
    "        'output': a,\n",
    "    })"
   ]
  },
  {
   "cell_type": "code",
   "execution_count": 21,
   "id": "d876ba27",
   "metadata": {},
   "outputs": [],
   "source": [
    "import pandas as pd\n",
    "\n",
    "pd.DataFrame(data).to_parquet('mallm-bench.parquet')"
   ]
  },
  {
   "cell_type": "code",
   "execution_count": 42,
   "id": "e0a4ab1d",
   "metadata": {},
   "outputs": [
    {
     "data": {
      "text/plain": [
       "CommitInfo(commit_url='https://huggingface.co/datasets/mesolitica/Malaysian-SFT/commit/57ce7f3ee1a6c5cb33b175653076de7da927c353', commit_message='Upload data/mallm_bench-00000-of-00001.parquet with huggingface_hub', commit_description='', oid='57ce7f3ee1a6c5cb33b175653076de7da927c353', pr_url=None, repo_url=RepoUrl('https://huggingface.co/datasets/mesolitica/Malaysian-SFT', endpoint='https://huggingface.co', repo_type='dataset', repo_id='mesolitica/Malaysian-SFT'), pr_revision=None, pr_num=None)"
      ]
     },
     "execution_count": 42,
     "metadata": {},
     "output_type": "execute_result"
    }
   ],
   "source": [
    "from huggingface_hub import HfApi\n",
    "api = HfApi()\n",
    "\n",
    "api.upload_file(\n",
    "    path_or_fileobj=\"mallm-bench.parquet\",\n",
    "    path_in_repo='data/mallm_bench-00000-of-00001.parquet',\n",
    "    repo_id=\"mesolitica/Malaysian-SFT\",\n",
    "    repo_type=\"dataset\",\n",
    ")"
   ]
  },
  {
   "cell_type": "code",
   "execution_count": 25,
   "id": "4ce19b39",
   "metadata": {},
   "outputs": [],
   "source": [
    "tatabahasa = []\n",
    "with open('tatabahasa.jsonl') as fopen:\n",
    "    for l in fopen:\n",
    "        l = json.loads(l)\n",
    "        tatabahasa.append(l)"
   ]
  },
  {
   "cell_type": "code",
   "execution_count": 27,
   "id": "4f7beebc",
   "metadata": {},
   "outputs": [
    {
     "data": {
      "text/plain": [
       "{'instruction': 'Isi tempat kosong dengan jawapan yang paling sesuai.',\n",
       " 'question': 'Pengunjung yang berkelah di tepi sungai itu terkejut dengan kehadiran beberapa ekor __________ yang tenggelam timbul di permukaan sungai.',\n",
       " 'choices': {'A': {'text': 'harimau berantai', 'answer': False},\n",
       "  'B': {'text': 'buaya tembaga', 'answer': True},\n",
       "  'C': {'text': 'bunga dedap', 'answer': False},\n",
       "  'D': {'text': 'buaya darat', 'answer': False}}}"
      ]
     },
     "execution_count": 27,
     "metadata": {},
     "output_type": "execute_result"
    }
   ],
   "source": [
    "tatabahasa[0]"
   ]
  },
  {
   "cell_type": "code",
   "execution_count": 36,
   "id": "8cbcfa26",
   "metadata": {},
   "outputs": [
    {
     "data": {
      "text/plain": [
       "{'instruction': 'Isi tempat kosong dengan jawapan yang paling sesuai.',\n",
       " 'question': '__________, rupa-rupanya kamu yang mengambil pensel saya!',\n",
       " 'choices': {'A': {'text': 'Oh', 'answer': True},\n",
       "  'B': {'text': 'Wah', 'answer': False},\n",
       "  'C': {'text': 'Syabas', 'answer': False},\n",
       "  'D': {'text': 'Aduhai', 'answer': False}}}"
      ]
     },
     "execution_count": 36,
     "metadata": {},
     "output_type": "execute_result"
    }
   ],
   "source": [
    "t"
   ]
  },
  {
   "cell_type": "code",
   "execution_count": 37,
   "id": "75b7eb23",
   "metadata": {},
   "outputs": [],
   "source": [
    "data = []\n",
    "for t in tatabahasa:\n",
    "    choices = '\\n'.join([f\"{k}. {v['text']}\" for k, v in t['choices'].items()])\n",
    "    q = f\"{t['instruction']}\\n{t['question']}\\n{choices}\"\n",
    "    a = None\n",
    "    for k, v in t['choices'].items():\n",
    "        if v['answer']:\n",
    "            a = k\n",
    "            break\n",
    "    if a is None:\n",
    "        continue\n",
    "    \n",
    "    data.append({\n",
    "        'prompt_input': None,\n",
    "        'input': q,\n",
    "        'output': a,\n",
    "    })"
   ]
  },
  {
   "cell_type": "code",
   "execution_count": 40,
   "id": "ae048ef8",
   "metadata": {},
   "outputs": [],
   "source": [
    "pd.DataFrame(data).to_parquet('tatabahasa.parquet')"
   ]
  },
  {
   "cell_type": "code",
   "execution_count": 41,
   "id": "463044ef",
   "metadata": {},
   "outputs": [
    {
     "data": {
      "application/vnd.jupyter.widget-view+json": {
       "model_id": "9154d3573a8d4d70a2a999611dd1043f",
       "version_major": 2,
       "version_minor": 0
      },
      "text/plain": [
       "tatabahasa.parquet:   0%|          | 0.00/144k [00:00<?, ?B/s]"
      ]
     },
     "metadata": {},
     "output_type": "display_data"
    },
    {
     "data": {
      "text/plain": [
       "CommitInfo(commit_url='https://huggingface.co/datasets/mesolitica/Malaysian-SFT/commit/ffaf5841c68a6855c1929be786211ff2baacea3a', commit_message='Upload data/tatabahasa-00000-of-00001.parquet with huggingface_hub', commit_description='', oid='ffaf5841c68a6855c1929be786211ff2baacea3a', pr_url=None, repo_url=RepoUrl('https://huggingface.co/datasets/mesolitica/Malaysian-SFT', endpoint='https://huggingface.co', repo_type='dataset', repo_id='mesolitica/Malaysian-SFT'), pr_revision=None, pr_num=None)"
      ]
     },
     "execution_count": 41,
     "metadata": {},
     "output_type": "execute_result"
    }
   ],
   "source": [
    "api.upload_file(\n",
    "    path_or_fileobj=\"tatabahasa.parquet\",\n",
    "    path_in_repo='data/tatabahasa-00000-of-00001.parquet',\n",
    "    repo_id=\"mesolitica/Malaysian-SFT\",\n",
    "    repo_type=\"dataset\",\n",
    ")"
   ]
  },
  {
   "cell_type": "code",
   "execution_count": null,
   "id": "121ca099",
   "metadata": {},
   "outputs": [],
   "source": []
  }
 ],
 "metadata": {
  "kernelspec": {
   "display_name": "python3.10",
   "language": "python",
   "name": "python3.10"
  },
  "language_info": {
   "codemirror_mode": {
    "name": "ipython",
    "version": 3
   },
   "file_extension": ".py",
   "mimetype": "text/x-python",
   "name": "python",
   "nbconvert_exporter": "python",
   "pygments_lexer": "ipython3",
   "version": "3.10.15"
  }
 },
 "nbformat": 4,
 "nbformat_minor": 5
}
