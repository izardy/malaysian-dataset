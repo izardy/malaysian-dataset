{
 "cells": [
  {
   "cell_type": "code",
   "execution_count": 6,
   "id": "84410b14",
   "metadata": {},
   "outputs": [],
   "source": [
    "import json\n",
    "from tqdm import tqdm\n",
    "from malaysian_sft import accept"
   ]
  },
  {
   "cell_type": "code",
   "execution_count": 7,
   "id": "c84e27d4",
   "metadata": {},
   "outputs": [
    {
     "name": "stderr",
     "output_type": "stream",
     "text": [
      "43020it [00:42, 1023.78it/s]\n"
     ]
    }
   ],
   "source": [
    "data = []\n",
    "with open('prepared-chatgpt4-code-instruct.jsonl') as fopen:\n",
    "    for l in tqdm(fopen):\n",
    "        l = json.loads(l)\n",
    "        if not accept(l['output']):\n",
    "            continue\n",
    "        data.append(l)"
   ]
  },
  {
   "cell_type": "code",
   "execution_count": 8,
   "id": "193c0666",
   "metadata": {},
   "outputs": [
    {
     "data": {
      "text/html": [
       "<div>\n",
       "<style scoped>\n",
       "    .dataframe tbody tr th:only-of-type {\n",
       "        vertical-align: middle;\n",
       "    }\n",
       "\n",
       "    .dataframe tbody tr th {\n",
       "        vertical-align: top;\n",
       "    }\n",
       "\n",
       "    .dataframe thead th {\n",
       "        text-align: right;\n",
       "    }\n",
       "</style>\n",
       "<table border=\"1\" class=\"dataframe\">\n",
       "  <thead>\n",
       "    <tr style=\"text-align: right;\">\n",
       "      <th></th>\n",
       "      <th>prompt_input</th>\n",
       "      <th>input</th>\n",
       "      <th>output</th>\n",
       "    </tr>\n",
       "  </thead>\n",
       "  <tbody>\n",
       "    <tr>\n",
       "      <th>0</th>\n",
       "      <td>None</td>\n",
       "      <td>Saya faham anda memerlukan bantuan untuk membe...</td>\n",
       "      <td>Saya telah memahami bahawa anda memerlukan ban...</td>\n",
       "    </tr>\n",
       "    <tr>\n",
       "      <th>1</th>\n",
       "      <td>None</td>\n",
       "      <td>Cipta fungsi rekursif dalam Java yang meramalk...</td>\n",
       "      <td>Anda boleh mewujudkan fungsi rekursif Java ber...</td>\n",
       "    </tr>\n",
       "    <tr>\n",
       "      <th>2</th>\n",
       "      <td>None</td>\n",
       "      <td>Saya cuba mencipta skrip ujian beban untuk evm...</td>\n",
       "      <td>Untuk menguji beban pelayan, anda boleh mencub...</td>\n",
       "    </tr>\n",
       "    <tr>\n",
       "      <th>3</th>\n",
       "      <td>None</td>\n",
       "      <td>Saya mempunyai komponen vue berbilang pilihan ...</td>\n",
       "      <td>Sebagai contoh, anda akan membuat jadual semen...</td>\n",
       "    </tr>\n",
       "    <tr>\n",
       "      <th>4</th>\n",
       "      <td>None</td>\n",
       "      <td>Saya memerlukan cara mudah untuk mengambil fai...</td>\n",
       "      <td>Perkara yang anda buat salah adalah anda membu...</td>\n",
       "    </tr>\n",
       "  </tbody>\n",
       "</table>\n",
       "</div>"
      ],
      "text/plain": [
       "  prompt_input                                              input  \\\n",
       "0         None  Saya faham anda memerlukan bantuan untuk membe...   \n",
       "1         None  Cipta fungsi rekursif dalam Java yang meramalk...   \n",
       "2         None  Saya cuba mencipta skrip ujian beban untuk evm...   \n",
       "3         None  Saya mempunyai komponen vue berbilang pilihan ...   \n",
       "4         None  Saya memerlukan cara mudah untuk mengambil fai...   \n",
       "\n",
       "                                              output  \n",
       "0  Saya telah memahami bahawa anda memerlukan ban...  \n",
       "1  Anda boleh mewujudkan fungsi rekursif Java ber...  \n",
       "2  Untuk menguji beban pelayan, anda boleh mencub...  \n",
       "3  Sebagai contoh, anda akan membuat jadual semen...  \n",
       "4  Perkara yang anda buat salah adalah anda membu...  "
      ]
     },
     "execution_count": 8,
     "metadata": {},
     "output_type": "execute_result"
    }
   ],
   "source": [
    "import pandas as pd\n",
    "\n",
    "df = pd.DataFrame(data)\n",
    "df.head()"
   ]
  },
  {
   "cell_type": "code",
   "execution_count": 9,
   "id": "05de5b97",
   "metadata": {},
   "outputs": [],
   "source": [
    "df.to_parquet('prepared-chatgpt4-code-instruct.parquet')"
   ]
  },
  {
   "cell_type": "code",
   "execution_count": 10,
   "id": "68defe24",
   "metadata": {},
   "outputs": [
    {
     "data": {
      "application/vnd.jupyter.widget-view+json": {
       "model_id": "5ea93ca938084e9ab567ea17d7edddc3",
       "version_major": 2,
       "version_minor": 0
      },
      "text/plain": [
       "prepared-chatgpt4-code-instruct.parquet:   0%|          | 0.00/41.3M [00:00<?, ?B/s]"
      ]
     },
     "metadata": {},
     "output_type": "display_data"
    },
    {
     "data": {
      "text/plain": [
       "CommitInfo(commit_url='https://huggingface.co/datasets/mesolitica/Malaysian-SFT/commit/b812c8b6d37281f8b20d0e56d663958de0ab155b', commit_message='Upload data/chatgpt4_code_instruct-00000-of-00001.parquet with huggingface_hub', commit_description='', oid='b812c8b6d37281f8b20d0e56d663958de0ab155b', pr_url=None, pr_revision=None, pr_num=None)"
      ]
     },
     "execution_count": 10,
     "metadata": {},
     "output_type": "execute_result"
    }
   ],
   "source": [
    "from huggingface_hub import HfApi\n",
    "api = HfApi()\n",
    "\n",
    "api.upload_file(\n",
    "    path_or_fileobj=\"prepared-chatgpt4-code-instruct.parquet\",\n",
    "    path_in_repo='data/chatgpt4_code_instruct-00000-of-00001.parquet',\n",
    "    repo_id=\"mesolitica/Malaysian-SFT\",\n",
    "    repo_type=\"dataset\",\n",
    ")"
   ]
  }
 ],
 "metadata": {
  "kernelspec": {
   "display_name": "python3.10",
   "language": "python",
   "name": "python3.10"
  },
  "language_info": {
   "codemirror_mode": {
    "name": "ipython",
    "version": 3
   },
   "file_extension": ".py",
   "mimetype": "text/x-python",
   "name": "python",
   "nbconvert_exporter": "python",
   "pygments_lexer": "ipython3",
   "version": "3.10.15"
  }
 },
 "nbformat": 4,
 "nbformat_minor": 5
}
