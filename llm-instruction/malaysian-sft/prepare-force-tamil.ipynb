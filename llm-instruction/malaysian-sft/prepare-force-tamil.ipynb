{
 "cells": [
  {
   "cell_type": "code",
   "execution_count": 7,
   "id": "d6ca9dc7",
   "metadata": {},
   "outputs": [],
   "source": [
    "# !wget https://huggingface.co/datasets/TokenBender/Tamil_chat_dataset/resolve/main/combined_data_no_duplicates_reloaded.jsonl\n",
    "# !wget https://huggingface.co/datasets/abhinand/tamil-alpaca/resolve/main/data/train-00000-of-00001-e96a6e4e7f400cce.parquet"
   ]
  },
  {
   "cell_type": "code",
   "execution_count": 2,
   "id": "23117a83",
   "metadata": {},
   "outputs": [],
   "source": [
    "roles = {\n",
    "    'user': '<manusia>',\n",
    "    'assistant': '<bot>'\n",
    "}\n",
    "\n",
    "system = [\n",
    "    'always reply in tamil',\n",
    "    'sentiasa respond dalam bahasa tamil',\n",
    "    'sentiasa jawab in tamil',\n",
    "    'awak adalah chatbot yang respond dalam bahasa tamil',\n",
    "    'you are a chatbot that always respond in tamil',\n",
    "    'u always reply in tamil',\n",
    "    'awak sentiasa reply in tamil',\n",
    "    'you are a chatbot that always reply in tamil',\n",
    "    'you are an assistant that always reply in tamil',\n",
    "    'awak adalah chatbot yang sentiasa respond dalam tamil',\n",
    "    'awak adalah pembantu AI yang reply in tamil',\n",
    "    'நீங்கள் எப்போதும் தமிழில் பதிலளிக்கும் உதவியாளர்',\n",
    "]"
   ]
  },
  {
   "cell_type": "code",
   "execution_count": 3,
   "id": "3b310ca7",
   "metadata": {},
   "outputs": [],
   "source": [
    "import json\n",
    "import random"
   ]
  },
  {
   "cell_type": "code",
   "execution_count": 4,
   "id": "c09974e6",
   "metadata": {},
   "outputs": [
    {
     "data": {
      "text/plain": [
       "358"
      ]
     },
     "execution_count": 4,
     "metadata": {},
     "output_type": "execute_result"
    }
   ],
   "source": [
    "instructions = []\n",
    "\n",
    "with open('combined_data_no_duplicates_reloaded.jsonl') as fopen:\n",
    "    for l in fopen:\n",
    "        l = json.loads(l)\n",
    "        translated = l['translated_text'].split('###')[1:]\n",
    "        if len(l['conversations']) != len(translated):\n",
    "            continue\n",
    "            \n",
    "        translated = [': '.join(t.split(': ')[1:]) for t in translated]\n",
    "        r = []\n",
    "        for i in range(len(l['conversations'])):\n",
    "            \n",
    "            try:\n",
    "                splitted = translated[i].split()\n",
    "\n",
    "                if (len(set(splitted)) / len(splitted)) < 0.7:\n",
    "                    break\n",
    "            except:\n",
    "                break\n",
    "            \n",
    "            l['conversations'][i]['content_tamil'] = translated[i]\n",
    "            \n",
    "            if i % 2 == 0:\n",
    "                k = random.choice(['value', 'content_tamil'])\n",
    "                role = '<manusia>'\n",
    "            else:\n",
    "                k = 'content_tamil'\n",
    "                role = '<bot>'\n",
    "            \n",
    "            r.append(f\"{role}: {l['conversations'][i][k]}\")\n",
    "        \n",
    "        if len(r) % 2 != 0:\n",
    "            r = r[:-1]\n",
    "        \n",
    "        if not len(r):\n",
    "            continue\n",
    "        \n",
    "        r[0] = r[0].replace('<manusia>:', f'<manusia>:{random.choice(system)}\\n\\n')\n",
    "        instructions.append('\\n'.join(r))\n",
    "            \n",
    "len(instructions)     "
   ]
  },
  {
   "cell_type": "code",
   "execution_count": 8,
   "id": "36bfdf60",
   "metadata": {},
   "outputs": [
    {
     "name": "stderr",
     "output_type": "stream",
     "text": [
      "100%|█████████████████████████████████| 51876/51876 [00:00<00:00, 110426.28it/s]\n"
     ]
    },
    {
     "data": {
      "text/plain": [
       "52144"
      ]
     },
     "execution_count": 8,
     "metadata": {},
     "output_type": "execute_result"
    }
   ],
   "source": [
    "from tqdm import tqdm\n",
    "import pandas as pd\n",
    "df = pd.read_parquet('train-00000-of-00001-e96a6e4e7f400cce.parquet')\n",
    "    \n",
    "for i in tqdm(range(len(df))):\n",
    "    l = df['instruction'].iloc[i]\n",
    "    r = df['output'].iloc[i]\n",
    "    \n",
    "    if len(l) < 3 or len(r) < 3:\n",
    "        continue\n",
    "        \n",
    "    results =[\n",
    "        f\"<manusia>: {l}\",\n",
    "        f\"<bot>: {r}\"\n",
    "    ]\n",
    "    results[0] = results[0].replace('<manusia>:', f'<manusia>:{random.choice(system)}\\n\\n')\n",
    "    instructions.append('\\n'.join(results))\n",
    "    \n",
    "len(instructions)"
   ]
  },
  {
   "cell_type": "code",
   "execution_count": 9,
   "id": "094b29ed",
   "metadata": {},
   "outputs": [
    {
     "data": {
      "text/plain": [
       "'<manusia>:u always reply in tamil\\n\\n நீங்கள் ஒரு ஆழமான தொழில்நுட்ப தொழில்முனைவோர் உங்கள் அடுத்த உலகத்தை மாற்றும் தொடக்க தேடும். நீங்கள் இயற்பியல் மற்றும் பொறியியல் ஒரு பின்னணி உள்ளது, மற்றும் நீங்கள் குறிப்பாக ஆற்றல் ஆர்வமாக உள்ளன, காலநிலை, விண்வெளி, பொருட்கள், மற்றும் அரைக்கடத்திகள், ஆனால் நீங்கள் எந்த ஆழமான தொழில்நுட்ப துறையில் திறந்த உள்ளன. அடுத்ததாக வேலை செய்ய 15 தொடக்க யோசனைகளை பரிந்துரைக்கவும். \\n<bot>: 1. மேம்பட்ட சோலார் பேனல் உற்பத்தி: பொருள் அறிவியல் மற்றும் பொறியியலில் முன்னேற்றங்களை மேம்படுத்துவதன் மூலம் மிகவும் திறமையான மற்றும் மலிவு விலையில் புதிய தலைமுறை சோலார் பேனல்களை உருவாக்குங்கள். 2. ஃப்யூஷன் எரிசக்தி: நடைமுறை ஃப்யூஷன் எரிசக்தி தீர்வுகளை உருவாக்குவதில் கவனம் செலுத்தும் ஒரு தொடக்கத்தை உருவாக்குதல், உலகளாவிய எரிசக்தி நிலப்பரப்பை மாற்றியமைத்தல் மற்றும் காலநிலை மாற்றத்தை கையாள்வது. 3. கார்பன் பிடிப்பு மற்றும் பயன்பாடு: கார்பன் டை ஆக்சைடு உமிழ்வுகளை எரிபொருள்கள், இரசாயனங்கள் அல்லது கட்டுமானப் பொருட்கள் போன்ற மதிப்புமிக்க தயாரிப்புகளாகப் பிடித்து மாற்றுவதற்கான புதுமையான தொழில்நுட்பங்களை உருவாக்கும் ஒரு நிறுவனத்தைத் தொடங்கவும். 4. குவாண்டம் கம்ப்யூட்டிங்: குவாண்டம் கம்ப்யூட்டிங் வன்பொருள் மற்றும் மென்பொருளின் வளர்ச்சி மற்றும் வணிகமயமாக்கலில் நிபுணத்துவம் பெற்ற ஒரு தொடக்க நிறுவனத்தை நிறுவுதல், கிரிப்டோகிராபி, மருந்துகள் மற்றும் தளவாடங்கள் போன்ற தொழில்களை இலக்காகக் கொண்டது. 5. விண்வெளி குப்பைகளை அகற்றுதல்: பூமியின் சுற்றுப்பாதையிலிருந்து விண்வெளி குப்பைகளை அகற்றுவதற்கான அமைப்புகளை வடிவமைத்து பயன்படுத்தும் ஒரு நிறுவனத்தை நிறுவியது, எதிர்கால தலைமுறையினருக்கான விண்வெளியின் நிலையான பயன்பாட்டை உறுதி செய்கிறது. 6. அடுத்த தலைமுறை பேட்டரிகள்: அதிக ஆற்றல் அடர்த்தி, நீண்ட ஆயுள் மற்றும் மின்சார வாகனங்களுக்கான வேகமான சார்ஜிங் திறன்களைக் கொண்ட மேம்பட்ட பேட்டரி தொழில்நுட்பங்களை உருவாக்குதல் மற்றும் கிரிட் அளவிலான ஆற்றல் சேமிப்பு. 7. Bio-Inspired Materials: இயற்கையால் ஈர்க்கப்பட்ட புதுமையான பொருட்களை வடிவமைத்து உற்பத்தி செய்வதில் கவனம் செலுத்தும் ஒரு நிறுவனத்தை உருவாக்குதல், ஏரோஸ்பேஸ், ஆட்டோமொபைல் மற்றும் கட்டுமானம் போன்ற தொழில்களில் பயன்பாடுகளுடன். 8. செங்குத்து விவசாயம்: உலகளாவிய உணவு உற்பத்தியை நிலையான முறையில் அதிகரிக்க மேம்பட்ட ஹைட்ரோபோனிக்ஸ், ஏரோபோனிக்ஸ் மற்றும் கட்டுப்படுத்தப்பட்ட சுற்றுச்சூழல் விவசாய நுட்பங்களை இணைத்து அளவிடக்கூடிய செங்குத்து விவசாய தீர்வுகளை உருவாக்கும் ஒரு தொடக்கத்தை நிறுவுதல். 9. மேம்பட்ட உப்பு நீக்கம் தொழில்நுட்பங்கள்: உலகளவில் நீர் பற்றாக்குறை பிரச்சினைகளை நிவர்த்தி செய்யும் அதிநவீன உப்பு நீக்கம் தீர்வுகளை வடிவமைத்து பயன்படுத்தும் ஒரு நிறுவனத்தைத் தொடங்கவும். 10. மின்சார விமான போக்குவரத்து: விமானத் தொழிலில் உமிழ்வுகள் மற்றும் செயல்பாட்டு செலவுகளைக் குறைப்பதை நோக்கமாகக் கொண்டு விமானங்களுக்கான மின்சார அல்லது கலப்பின-எலக்ட்ரிக் உந்துவிசை அமைப்புகளை உருவாக்குங்கள். 11. என்ன செய்ய வேண்டும்? நேரடி காற்றுப் பிடிப்பு: பெரிய அளவிலான நேரடி காற்றுப் பிடிப்பு தொழில்நுட்பங்களை உருவாக்குவதிலும் பயன்படுத்துவதிலும் கவனம் செலுத்தும் ஒரு தொடக்கத்தை கண்டறிந்தது '"
      ]
     },
     "execution_count": 9,
     "metadata": {},
     "output_type": "execute_result"
    }
   ],
   "source": [
    "instructions[0]"
   ]
  },
  {
   "cell_type": "code",
   "execution_count": 10,
   "id": "94323308",
   "metadata": {},
   "outputs": [],
   "source": [
    "filtered = []\n",
    "for f in instructions:\n",
    "    filtered.append({\n",
    "        'prompt_input': None,\n",
    "        'input': f,\n",
    "        'output': None,\n",
    "    })"
   ]
  },
  {
   "cell_type": "code",
   "execution_count": 11,
   "id": "abeb7a8b",
   "metadata": {},
   "outputs": [],
   "source": [
    "import pandas as pd\n",
    "\n",
    "pd.DataFrame(filtered).to_parquet('prepared-force-tamil.parquet')"
   ]
  },
  {
   "cell_type": "code",
   "execution_count": null,
   "id": "713b9bb3",
   "metadata": {},
   "outputs": [
    {
     "data": {
      "application/vnd.jupyter.widget-view+json": {
       "model_id": "499b881dbc714b9d892e62121a5d0fdb",
       "version_major": 2,
       "version_minor": 0
      },
      "text/plain": [
       "prepared-force-tamil.parquet:   0%|          | 0.00/40.7M [00:00<?, ?B/s]"
      ]
     },
     "metadata": {},
     "output_type": "display_data"
    }
   ],
   "source": [
    "from huggingface_hub import HfApi\n",
    "api = HfApi()\n",
    "\n",
    "api.upload_file(\n",
    "    path_or_fileobj=\"prepared-force-tamil.parquet\",\n",
    "    path_in_repo='data/force_tamil-00000-of-00001.parquet',\n",
    "    repo_id=\"mesolitica/Malaysian-SFT\",\n",
    "    repo_type=\"dataset\",\n",
    ")"
   ]
  },
  {
   "cell_type": "code",
   "execution_count": null,
   "id": "58cdf54e",
   "metadata": {},
   "outputs": [],
   "source": []
  }
 ],
 "metadata": {
  "kernelspec": {
   "display_name": "python3.10",
   "language": "python",
   "name": "python3.10"
  },
  "language_info": {
   "codemirror_mode": {
    "name": "ipython",
    "version": 3
   },
   "file_extension": ".py",
   "mimetype": "text/x-python",
   "name": "python",
   "nbconvert_exporter": "python",
   "pygments_lexer": "ipython3",
   "version": "3.10.15"
  }
 },
 "nbformat": 4,
 "nbformat_minor": 5
}
