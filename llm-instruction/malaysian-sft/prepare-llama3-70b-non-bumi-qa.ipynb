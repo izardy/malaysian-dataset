{
 "cells": [
  {
   "cell_type": "code",
   "execution_count": 4,
   "id": "cc292b9d",
   "metadata": {},
   "outputs": [],
   "source": [
    "import json\n",
    "from tqdm import tqdm\n",
    "from malaysian_sft import detect_russian, detect_arabic, accept"
   ]
  },
  {
   "cell_type": "code",
   "execution_count": 10,
   "id": "f89d18f2",
   "metadata": {},
   "outputs": [
    {
     "name": "stderr",
     "output_type": "stream",
     "text": [
      "10411it [00:04, 2250.36it/s]\n",
      "10065it [00:08, 1146.80it/s]\n"
     ]
    }
   ],
   "source": [
    "files = [\n",
    "    'chinese-qa.jsonl', \n",
    "    'indian-qa.jsonl'\n",
    "]\n",
    "instructions = []\n",
    "for f in files:\n",
    "    with open(f) as fopen:\n",
    "        for l in tqdm(fopen):\n",
    "            l = json.loads(l)\n",
    "\n",
    "            if '.' in l:\n",
    "                continue\n",
    "\n",
    "            if detect_russian(l['question']):\n",
    "                continue\n",
    "\n",
    "            if detect_arabic(l['question']):\n",
    "                continue\n",
    "\n",
    "            if detect_russian(l['answer']):\n",
    "                continue\n",
    "\n",
    "            if detect_arabic(l['answer']):\n",
    "                continue\n",
    "\n",
    "            if 'answer' in l['answer'].lower():\n",
    "                continue\n",
    "\n",
    "            if 'question' in l['answer'].lower():\n",
    "                continue\n",
    "\n",
    "            if not accept(l['answer']):\n",
    "                continue\n",
    "                \n",
    "            d = {\n",
    "                'prompt_input': None,\n",
    "                'input': l['question'],\n",
    "                'output': l['answer'],\n",
    "            }\n",
    "            instructions.append(d)"
   ]
  },
  {
   "cell_type": "code",
   "execution_count": 11,
   "id": "96956b5d",
   "metadata": {},
   "outputs": [
    {
     "data": {
      "text/plain": [
       "8258"
      ]
     },
     "execution_count": 11,
     "metadata": {},
     "output_type": "execute_result"
    }
   ],
   "source": [
    "len(instructions)"
   ]
  },
  {
   "cell_type": "code",
   "execution_count": 12,
   "id": "7dcaf730",
   "metadata": {},
   "outputs": [],
   "source": [
    "import pandas as pd\n",
    "\n",
    "df = pd.DataFrame(instructions)\n",
    "df.to_parquet('prepared-llama3-70b-non-bumi-qa.parquet')"
   ]
  },
  {
   "cell_type": "code",
   "execution_count": null,
   "id": "d1522ca4",
   "metadata": {},
   "outputs": [],
   "source": [
    "from huggingface_hub import HfApi\n",
    "api = HfApi()\n",
    "\n",
    "api.upload_file(\n",
    "    path_or_fileobj=\"prepared-llama3-70b-non-bumi-qa.parquet\",\n",
    "    path_in_repo='data/chatgpt4_malaysian_general_qa-00000-of-00001.parquet',\n",
    "    repo_id=\"mesolitica/Malaysian-SFT\",\n",
    "    repo_type=\"dataset\",\n",
    ")"
   ]
  }
 ],
 "metadata": {
  "kernelspec": {
   "display_name": "python3.10",
   "language": "python",
   "name": "python3.10"
  },
  "language_info": {
   "codemirror_mode": {
    "name": "ipython",
    "version": 3
   },
   "file_extension": ".py",
   "mimetype": "text/x-python",
   "name": "python",
   "nbconvert_exporter": "python",
   "pygments_lexer": "ipython3",
   "version": "3.10.15"
  }
 },
 "nbformat": 4,
 "nbformat_minor": 5
}
