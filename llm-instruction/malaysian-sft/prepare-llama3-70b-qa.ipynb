{
 "cells": [
  {
   "cell_type": "code",
   "execution_count": 2,
   "id": "52d55d0a",
   "metadata": {},
   "outputs": [],
   "source": [
    "# !wget https://huggingface.co/datasets/mesolitica/llama3-70b-qa/resolve/main/generated-wikipedia-qa-llama3.jsonl"
   ]
  },
  {
   "cell_type": "code",
   "execution_count": 3,
   "id": "291b96a3",
   "metadata": {},
   "outputs": [],
   "source": [
    "import json\n",
    "import random\n",
    "from tqdm import tqdm\n",
    "from malaysian_sft import accept"
   ]
  },
  {
   "cell_type": "code",
   "execution_count": 4,
   "id": "7be42e8c",
   "metadata": {},
   "outputs": [
    {
     "data": {
      "text/plain": [
       "480746"
      ]
     },
     "execution_count": 4,
     "metadata": {},
     "output_type": "execute_result"
    }
   ],
   "source": [
    "wikipedia = []\n",
    "with open('generated-wikipedia-qa-llama3.jsonl') as fopen:\n",
    "    for l in fopen:\n",
    "        l = json.loads(l)\n",
    "        lower = l['text'].lower()\n",
    "        \n",
    "        for q in l['questions']:\n",
    "            q_low = q['question'].lower()\n",
    "            if ' ini' in q_low:\n",
    "                continue\n",
    "            \n",
    "            if 'dalam teks' in q_low:\n",
    "                continue\n",
    "                \n",
    "            if 'berdasarkan teks' in q_low:\n",
    "                continue\n",
    "                \n",
    "            if len(q_low.split()) <= 4:\n",
    "                continue\n",
    "        \n",
    "            wikipedia.append(q)\n",
    "            \n",
    "len(wikipedia)"
   ]
  },
  {
   "cell_type": "code",
   "execution_count": 5,
   "id": "d0f9e28c",
   "metadata": {},
   "outputs": [
    {
     "data": {
      "text/plain": [
       "{'question': 'Nama lapangan terbang yang mula beroperasi secara aktif pada akhir tahun 2005?',\n",
       " 'A': 'Lapangan Terbang Tabing',\n",
       " 'B': 'Lapangan Terbang Minangkabau',\n",
       " 'C': 'Lapangan Terbang Padang',\n",
       " 'D': 'Lapangan Terbang Bukittinggi',\n",
       " 'answer': 'B'}"
      ]
     },
     "execution_count": 5,
     "metadata": {},
     "output_type": "execute_result"
    }
   ],
   "source": [
    "wikipedia[10000]"
   ]
  },
  {
   "cell_type": "code",
   "execution_count": 6,
   "id": "4228de9c",
   "metadata": {},
   "outputs": [
    {
     "name": "stderr",
     "output_type": "stream",
     "text": [
      "100%|███████████████████████████████████████████████████████████████████████████| 480746/480746 [00:01<00:00, 314124.48it/s]\n"
     ]
    }
   ],
   "source": [
    "prompts = [\n",
    "    [\n",
    "        'Please provide the correct answer only',\n",
    "        'Sila berikan jawapan sahaja',\n",
    "    ],\n",
    "    [\n",
    "        'Sila berikan jawapan penuh',\n",
    "        'please provide the full answer',\n",
    "    ]\n",
    "]\n",
    "\n",
    "wikipedia_instructions = []\n",
    "for w in tqdm(wikipedia):\n",
    "    \n",
    "    success = True\n",
    "    for k in ['question', 'A', 'B', 'C', 'D']:\n",
    "        if len(w[k]) < 1:\n",
    "            success = False\n",
    "            break\n",
    "    \n",
    "    if not success:\n",
    "        continue\n",
    "            \n",
    "    i = f\"\"\"\n",
    "{w['question']}\n",
    "A. {w['A']}\n",
    "B. {w['B']}\n",
    "C. {w['C']}\n",
    "D. {w['D']}\n",
    "\"\"\".strip()\n",
    "    \n",
    "    choice = random.randint(0, 1)\n",
    "    p = random.choice(prompts[choice])\n",
    "    \n",
    "    if choice:\n",
    "        try:\n",
    "            d = {\n",
    "                'prompt_input': None,\n",
    "                'input': f'{p}\\n\\n{i}',\n",
    "                'output': f\"{w['answer']}. {w[w['answer']]}\",\n",
    "            }\n",
    "            wikipedia_instructions.append(d)\n",
    "        except:\n",
    "            pass\n",
    "        \n",
    "    else:\n",
    "        try:\n",
    "            d = {\n",
    "                'prompt_input': None,\n",
    "                'input': f'{p}\\n\\n{i}',\n",
    "                'output': f\"{w['answer']}\",\n",
    "            }\n",
    "            wikipedia_instructions.append(d)\n",
    "        except:\n",
    "            pass"
   ]
  },
  {
   "cell_type": "code",
   "execution_count": 9,
   "id": "63cba936",
   "metadata": {},
   "outputs": [
    {
     "data": {
      "text/plain": [
       "{'prompt_input': None,\n",
       " 'input': 'Please provide the correct answer only\\n\\nBahasa Melayu Klasik ialah bahasa piawai sastera bersusurgalur daripada kesultanan?\\nA. Melaka dan Johor\\nB. Riau dan Sumatra\\nC. Pattani dan Kelantan\\nD. Brunei dan Sabah',\n",
       " 'output': 'A'}"
      ]
     },
     "execution_count": 9,
     "metadata": {},
     "output_type": "execute_result"
    }
   ],
   "source": [
    "wikipedia_instructions[2]"
   ]
  },
  {
   "cell_type": "code",
   "execution_count": 11,
   "id": "f1d218ad",
   "metadata": {},
   "outputs": [],
   "source": [
    "import pandas as pd\n",
    "\n",
    "df = pd.DataFrame(wikipedia_instructions)\n",
    "df.to_parquet('prepared-llama3-70b-qa.parquet')"
   ]
  },
  {
   "cell_type": "code",
   "execution_count": 12,
   "id": "6d61d9b1",
   "metadata": {},
   "outputs": [
    {
     "data": {
      "application/vnd.jupyter.widget-view+json": {
       "model_id": "f2ebdca4a43f43e8b875427b70e2dd6a",
       "version_major": 2,
       "version_minor": 0
      },
      "text/plain": [
       "prepared-llama3-70b-qa.parquet:   0%|          | 0.00/39.8M [00:00<?, ?B/s]"
      ]
     },
     "metadata": {},
     "output_type": "display_data"
    },
    {
     "data": {
      "text/plain": [
       "CommitInfo(commit_url='https://huggingface.co/datasets/mesolitica/Malaysian-SFT/commit/1e164b5ccb7413ca4124052237234805d6448c5a', commit_message='Upload data/llama3_70b_qa-00000-of-00001.parquet with huggingface_hub', commit_description='', oid='1e164b5ccb7413ca4124052237234805d6448c5a', pr_url=None, pr_revision=None, pr_num=None)"
      ]
     },
     "execution_count": 12,
     "metadata": {},
     "output_type": "execute_result"
    }
   ],
   "source": [
    "from huggingface_hub import HfApi\n",
    "api = HfApi()\n",
    "\n",
    "api.upload_file(\n",
    "    path_or_fileobj=\"prepared-llama3-70b-qa.parquet\",\n",
    "    path_in_repo='data/llama3_70b_qa-00000-of-00001.parquet',\n",
    "    repo_id=\"mesolitica/Malaysian-SFT\",\n",
    "    repo_type=\"dataset\",\n",
    ")"
   ]
  },
  {
   "cell_type": "code",
   "execution_count": null,
   "id": "960c8e55",
   "metadata": {},
   "outputs": [],
   "source": []
  }
 ],
 "metadata": {
  "kernelspec": {
   "display_name": "python3.10",
   "language": "python",
   "name": "python3.10"
  },
  "language_info": {
   "codemirror_mode": {
    "name": "ipython",
    "version": 3
   },
   "file_extension": ".py",
   "mimetype": "text/x-python",
   "name": "python",
   "nbconvert_exporter": "python",
   "pygments_lexer": "ipython3",
   "version": "3.10.15"
  }
 },
 "nbformat": 4,
 "nbformat_minor": 5
}
