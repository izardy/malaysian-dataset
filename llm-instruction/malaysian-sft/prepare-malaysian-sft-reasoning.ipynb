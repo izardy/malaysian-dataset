{
 "cells": [
  {
   "cell_type": "code",
   "execution_count": 1,
   "id": "65469bde",
   "metadata": {},
   "outputs": [],
   "source": [
    "from huggingface_hub import snapshot_download\n",
    "from glob import glob\n",
    "import pandas as pd"
   ]
  },
  {
   "cell_type": "code",
   "execution_count": 2,
   "id": "66acaff3",
   "metadata": {
    "scrolled": true
   },
   "outputs": [
    {
     "data": {
      "application/vnd.jupyter.widget-view+json": {
       "model_id": "bce419aa5c444d14b6e3bd267901de71",
       "version_major": 2,
       "version_minor": 0
      },
      "text/plain": [
       "Fetching 8 files:   0%|          | 0/8 [00:00<?, ?it/s]"
      ]
     },
     "metadata": {},
     "output_type": "display_data"
    },
    {
     "data": {
      "text/plain": [
       "'/home/husein/ssd4/llama2/reasoning'"
      ]
     },
     "execution_count": 2,
     "metadata": {},
     "output_type": "execute_result"
    }
   ],
   "source": [
    "snapshot_download(repo_id=\"mesolitica/Malaysian-Reasoning\", allow_patterns=\"data/*\",\n",
    "                 repo_type ='dataset', local_dir = './reasoning')"
   ]
  },
  {
   "cell_type": "code",
   "execution_count": 3,
   "id": "7e8baf85",
   "metadata": {},
   "outputs": [],
   "source": [
    "\n",
    "# !wget https://huggingface.co/datasets/mesolitica/Malaysian-SFT/resolve/main/extra/filter-qwq-500k-math.json"
   ]
  },
  {
   "cell_type": "code",
   "execution_count": 4,
   "id": "d4c3fd12",
   "metadata": {},
   "outputs": [],
   "source": [
    "# !wget https://huggingface.co/datasets/mesolitica/Malay-Dialect-Reasoning/resolve/main/data/dialect_translation_train-00000-of-00001.parquet\n",
    "# !wget https://huggingface.co/datasets/mesolitica/Malay-Dialect-Reasoning/resolve/main/data/reverse_dialect_translation_train-00000-of-00001.parquet"
   ]
  },
  {
   "cell_type": "code",
   "execution_count": 5,
   "id": "38720df1",
   "metadata": {},
   "outputs": [],
   "source": [
    "reasoning_en = 'You are going to enter reasoning mode, first you try to think step-by-step after that give the final answer.'\n",
    "reasoning_ms = 'You are going to enter reasoning mode, first you try to think step-by-step in malay after that give the final answer.'"
   ]
  },
  {
   "cell_type": "code",
   "execution_count": 6,
   "id": "cefec46f",
   "metadata": {},
   "outputs": [
    {
     "data": {
      "text/plain": [
       "7348"
      ]
     },
     "execution_count": 6,
     "metadata": {},
     "output_type": "execute_result"
    }
   ],
   "source": [
    "import json\n",
    "\n",
    "with open('qwq-magpie.json') as fopen:\n",
    "    d = json.load(fopen)\n",
    "    \n",
    "len(d)"
   ]
  },
  {
   "cell_type": "code",
   "execution_count": 7,
   "id": "c2251c52",
   "metadata": {},
   "outputs": [
    {
     "data": {
      "text/plain": [
       "{'problem': 'Design a wastewater treatment plant for a small city with a population of 50,000 people. The plant should be able to treat 10,000 m3 of wastewater per day, meeting the local discharge standards for BOD, COD, TSS, and ammonia nitrogen. Consider the plant layout, process selection, equipment sizing, and estimated capital and operating costs.',\n",
       " 'keyword': 'Environmental Engineering',\n",
       " 'outputs': \"Designing a wastewater treatment plant for a small city with a population of 50,000 people and a daily wastewater flow of 10,000 cubic meters is a significant undertaking. The plant must treat the wastewater to meet local discharge standards for biochemical oxygen demand (BOD), chemical oxygen demand (COD), total suspended solids (TSS), and ammonia nitrogen. I'll need to consider the plant layout, process selection, equipment sizing, and estimated capital and operating costs.\\n\\nFirst, I need to understand the typical wastewater characteristics for a city of this size. Generally, domestic wastewater has the following approximate concentrations:\\n\\n- BOD: 200-300 mg/L\\n\\n- COD: 400-600 mg/L\\n\\n- TSS: 200-300 mg/L\\n\\n- Ammonia nitrogen: 30-50 mg/L\\n\\nHowever, these values can vary based on local conditions, diet, and industrial contributions. For this design, I'll assume the following average influent concentrations:\\n\\n- BOD: 250 mg/L\\n\\n- COD: 500 mg/L\\n\\n- TSS: 250 mg/L\\n\\n- Ammonia nitrogen: 40 mg/L\\n\\nThe local discharge standards need to be met. Let's assume the following standards:\\n\\n- BOD: 30 mg/L\\n\\n- COD: 100 mg/L\\n\\n- TSS: 20 mg/L\\n\\n- Ammonia nitrogen: 10 mg/L\\n\\nThese standards seem reasonable for a small city.\\n\\nNow, I need to select an appropriate treatment process. For a small city, a conventional activated sludge process combined with primary treatment should be sufficient. The process train could include:\\n\\n1. **Screening and Grit Removal:** To remove large solids and grit.\\n\\n2. **Primary Settlement Tanks:** To remove suspended solids and floatables.\\n\\n3. **Activated Sludge Process:** To treat BOD, COD, and ammonia nitrogen.\\n\\n4. **Secondary Clarifiers:** To separate the treated water from the activated sludge.\\n\\n5. **Disinfection:** To kill pathogens before discharge.\\n\\n6. **Sludge Treatment and Disposal:** To manage the generated sludge.\\n\\nLet's consider each step in detail.\\n\\n**1. Screening and Grit Removal**\\n\\n- **Bar Screens:** Coarse bar screens with bar spacing of about 25-50 mm to remove large debris.\\n\\n- **Grit Chambers:** To remove sand and grit, which can damage pumps and process equipment.\\n\\n**2. Primary Settlement Tanks**\\n\\n- **Detention Time:** Typically 1.5 to 2 hours.\\n\\n- **Surface Loading Rate:** Around 30-40 m3/m2/day.\\n\\nGiven a flow of 10,000 m3/day, the surface area required for primary settlement tanks can be calculated as:\\n\\nSurface Area = Flow / Surface Loading Rate = 10,000 m3/day / 35 m3/m2/day ≈ 286 m2\\n\\nAssuming two primary tanks, each tank would have a surface area of approximately 143 m2.\\n\\n**3. Activated Sludge Process**\\n\\n- **Type:** Conventional activated sludge with aeration basins and secondary clarifiers.\\n\\n- **Detention Time:** Typically 6-8 hours.\\n\\n- **MLVSS (Mixed Liquor Volatile Suspended Solids):** Around 2,500-3,500 mg/L.\\n\\n- **SRT (Solids Retention Time):** Around 10-15 days for nitrification.\\n\\nGiven the ammonia nitrogen removal requirement, nitrification will be necessary, which requires a longer SRT.\\n\\n**Aeration Basin Sizing:**\\n\\nFirst, calculate the BOD removal requirement.\\n\\nAssuming primary treatment removes about 30% of BOD, the secondary treatment needs to remove the remaining 70%.\\n\\nInfluent BOD: 250 mg/L\\n\\nPrimary treatment removal: 30% → Removed BOD = 75 mg/L\\n\\nSecondary influent BOD: 250 - 75 = 175 mg/L\\n\\nSecondary treatment needs to reduce this to 30 mg/L, so it removes 145 mg/L.\\n\\nUsing the formula for aeration basin volume:\\n\\nV = (Q \\\\* S\\\\_in) / (X \\\\* R)\\n\\nWhere:\\n\\n- V = aeration basin volume (m3)\\n\\n- Q = flow rate (m3/day)\\n\\n- S\\\\_in = incoming BOD concentration (mg/L)\\n\\n- X = MLVSS (mg/L)\\n\\n- R = BOD removal rate (mg BOD removed per gram MLVSS per day)\\n\\nAssuming R = 0.25 mg BOD/mg MLVSS/day (a typical value), and X = 3,000 mg/L,\\n\\nV = (10,000 m3/day \\\\* 145 mg/L) / (3,000 mg/L \\\\* 0.25 mg/mg/day) = (1,450,000) / (750) ≈ 1,933 m3\\n\\nSo, the aeration basin volume should be around 1,933 m3.\\n\\n**4. Secondary Clarifiers**\\n\\n- **Detention Time:** Typically 1.5 to 2.5 hours.\\n\\n- **Surface Loading Rate:** Around 1.0-1.5 m3/m2/hour.\\n\\nGiven a flow of 10,000 m3/day (0.69 m3/s), the surface area required can be calculated as:\\n\\nSurface Area = Flow / (Surface Loading Rate \\\\* 24 hours) = 10,000 / (1.25 \\\\* 24) ≈ 333 m2\\n\\nAssuming two secondary clarifiers, each would have a surface area of approximately 167 m2.\\n\\n**5. Disinfection**\\n\\n- **Method:** Chlorination is common, but UV disinfection is also an option.\\n\\n- **Chlorination:** Requires a contact tank with a detention time of at least 30 minutes.\\n\\n- **UV Disinfection:** Requires UV reactors sized based on flow and UV transmittance of the effluent.\\n\\nFor simplicity, I'll consider chlorination.\\n\\n**6. Sludge Treatment and Disposal**\\n\\n- **Primary Sludge:** From primary settlement tanks.\\n\\n- **Excess Activated Sludge:** From the activated sludge process.\\n\\n- **Treatment:** Thickening, anaerobic digestion, dewatering, and final disposal (landfill or agricultural use).\\n\\nGiven space constraints, I'll assume that sludge is thickened and then dewatered, with the dewatered sludge transported off-site for disposal.\\n\\n**Plant Layout:**\\n\\nThe plant should be laid out logically, with the flow moving from the headworks through screening, grit removal, primary settlement, aeration basins, secondary clarifiers, and finally disinfection before discharge. Sludge treatment facilities should be located near the primary and secondary clarifiers.\\n\\n**Equipment Sizing:**\\n\\n- **Pumps:** For raw wastewater, return activated sludge, and waste activated sludge.\\n\\n- **Aeration Systems:** Fine bubble diffusers or coarse bubble diffusers in the aeration basins.\\n\\n- **Mixing Equipment:** For the aeration basins and sludge thickening tanks.\\n\\n- **Chlorine Contact Tank:** With mixing and detention time as required.\\n\\n**Estimated Capital Costs:**\\n\\nCapital costs can vary widely based on location, materials, and specific design choices. As a rough estimate, a wastewater treatment plant in a small city might cost around $1,500 to $3,000 per population served, depending on the treatment level.\\n\\nFor 50,000 people, this could range from $75 million to $150 million. However, this is a very rough estimate and actual costs could be higher or lower.\\n\\n**Estimated Operating Costs:**\\n\\nOperating costs include energy, chemicals, labor, and maintenance. For a plant of this size, annual operating costs might range from $2 to $5 per population served per year.\\n\\nFor 50,000 people, this would be $100,000 to $250,000 per year.\\n\\n**Conclusion:**\\n\\nDesigning a wastewater treatment plant involves careful consideration of process selection, equipment sizing, and cost estimation. The proposed plant layout includes screening, grit removal, primary settlement, activated sludge process, secondary clarification, and disinfection, followed by sludge treatment and disposal. The estimated capital costs are in the range of $75 million to $150 million, and annual operating costs are estimated at $100,000 to $250,000. These are rough estimates and would need to be refined based on detailed engineering studies and local conditions.\"}"
      ]
     },
     "execution_count": 7,
     "metadata": {},
     "output_type": "execute_result"
    }
   ],
   "source": [
    "d[3]"
   ]
  },
  {
   "cell_type": "code",
   "execution_count": 8,
   "id": "0e1f8424",
   "metadata": {},
   "outputs": [],
   "source": [
    "instructions = []\n",
    "for d_ in d:\n",
    "    instructions.append([\n",
    "        {'role': 'system', 'content': reasoning_en},\n",
    "        {'role': 'user', 'content': d_['problem']},\n",
    "        {'role': 'assistant', 'content': d_['outputs']}\n",
    "    ])"
   ]
  },
  {
   "cell_type": "code",
   "execution_count": 9,
   "id": "7b4b58a9",
   "metadata": {
    "scrolled": true
   },
   "outputs": [
    {
     "data": {
      "text/plain": [
       "34805"
      ]
     },
     "execution_count": 9,
     "metadata": {},
     "output_type": "execute_result"
    }
   ],
   "source": [
    "with open('filter-qwq-500k-math.json') as fopen:\n",
    "    d = json.load(fopen)\n",
    "    \n",
    "len(d)"
   ]
  },
  {
   "cell_type": "code",
   "execution_count": 10,
   "id": "48a8ad0f",
   "metadata": {},
   "outputs": [
    {
     "data": {
      "text/plain": [
       "31651"
      ]
     },
     "execution_count": 10,
     "metadata": {},
     "output_type": "execute_result"
    }
   ],
   "source": [
    "filter_d = [d_ for d_ in d if '**Final Answer**' in d_['response'][-1000:]]\n",
    "len(filter_d)"
   ]
  },
  {
   "cell_type": "code",
   "execution_count": 11,
   "id": "4ee51da7",
   "metadata": {},
   "outputs": [
    {
     "data": {
      "text/plain": [
       "{'prompt': 'As a technical writer for Finale music notation software, you\\'re tasked with optimizing the layout of a complex musical score. The score consists of 12 staves, each with a unique set of notes, rests, and articulations. To minimize page turns and reduce clutter, you want to allocate the staves across multiple pages in a way that minimizes the total number of page breaks.\\n\\nAssuming each staff has a fixed height of 2.5 cm, and each page has a fixed height of 30 cm, you can fit a maximum of 12 staves per page. However, due to the complexity of the score, some staves have \"anchor points\" that must be aligned vertically across pages. These anchor points occur at specific rhythmic events, such as the start of a new measure or the onset of a note.\\n\\nGiven the following constraints:\\n\\n* Staff 1 has anchor points at measures 1, 5, and 9\\n* Staff 2 has anchor points at measures 2, 6, and 10\\n* Staff 3 has anchor points at measures 3, 7, and 11\\n* Staff 4 has anchor points at measures 4, 8, and 12\\n* Staffs 5-12 have no anchor points\\n* The score has a total of 120 measures\\n* Each page can contain a maximum of 10 measures per staff\\n\\nUsing a combination of integer programming and graph theory, determine the optimal allocation of staves across pages that minimizes the total number of page breaks, subject to the constraints above. Represent your solution as a matrix, where each row represents a staff, and each column represents a page. The entry at row i and column j should be 1 if staff i is allocated to page j, and 0 otherwise.',\n",
       " 'response': 'So I\\'ve got this problem about optimizing the layout of a musical score in Finale. There are 12 staves, each with their own notes and stuff, and I need to figure out how to arrange them across multiple pages to minimize the number of page breaks. The goal is to make it easier to read and reduce clutter.\\n\\nFirst, I need to understand the constraints:\\n\\n1. Each staff has a fixed height of 2.5 cm.\\n\\n2. Each page has a fixed height of 30 cm.\\n\\n3. So, theoretically, I can fit 12 staves per page because 12 * 2.5 cm = 30 cm.\\n\\nBut, there\\'s a catch: some staves have \"anchor points\" that need to be aligned vertically across pages. These anchor points are at specific measures, and they must line up when the pages are turned.\\n\\nLet\\'s look at the anchor points:\\n\\n- Staff 1: measures 1, 5, 9\\n\\n- Staff 2: measures 2, 6, 10\\n\\n- Staff 3: measures 3, 7, 11\\n\\n- Staff 4: measures 4, 8, 12\\n\\n- Staves 5-12: no anchor points\\n\\nThe score has 120 measures in total, and each page can contain up to 10 measures per staff.\\n\\nHmm, so first, I need to think about how to model this problem. It seems like a scheduling problem where I need to assign staves to pages, considering the constraints of anchor points.\\n\\nMaybe I can use integer programming for this. Integer programming is good for optimization problems with constraints.\\n\\nLet me define the decision variables.\\n\\nLet’s denote X_ij = 1 if staff i is allocated to page j, and 0 otherwise.\\n\\nBut, since each staff can be on multiple pages (because there are 120 measures and each page can have only 10 measures), I need to think differently.\\n\\nWait, actually, each staff needs to be assigned to multiple pages, depending on how many pages are needed for its 120 measures.\\n\\nWait, no. Each staff has 120 measures, and each page can have up to 10 measures of a staff.\\n\\nSo, for each staff, I need to decide on which pages its measures are placed.\\n\\nBut that seems complicated because measures are sequential, and anchor points need to be aligned across staves.\\n\\nMaybe I should think in terms of pages, and decide which staves are present on each page, considering the anchor point alignments.\\n\\nAlternatively, perhaps I can model this as a graph where nodes represent pages, and edges represent the need for anchor point alignment.\\n\\nWait, maybe I should consider the measures first.\\n\\nThere are 120 measures, and each staff has its own 120 measures, with some anchor points.\\n\\nBut that might not be the most efficient way.\\n\\nLet’s try to think about the anchor points.\\n\\nAnchor points need to be aligned vertically across pages.\\n\\nThat means, for example, measure 1 of staff 1, measure 2 of staff 2, measure 3 of staff 3, and measure 4 of staff 4 should all be on the same page, if possible.\\n\\nBecause those are their anchor points.\\n\\nWait, looking at the anchor points:\\n\\n- Staff 1: measures 1,5,9\\n\\n- Staff 2: measures 2,6,10\\n\\n- Staff 3: measures 3,7,11\\n\\n- Staff 4: measures 4,8,12\\n\\nSo, it seems like the anchor points are spread out every 4 measures.\\n\\nBecause 1,2,3,4 are the first set; then 5,6,7,8; then 9,10,11,12.\\n\\nAnd this pattern repeats every 12 measures, since there are 120 measures in total.\\n\\nWait, 120 measures, with anchor points every 4 measures for staffs 1-4.\\n\\nStaves 5-12 have no anchor points, which makes them easier to handle.\\n\\nSo, perhaps I should think in terms of \"blocks\" of 4 measures, since that\\'s where the anchor points align.\\n\\nWait, actually, the anchor points are every 4 measures, but not aligned across staffs directly.\\n\\nWait, staff 1 has anchor points at 1,5,9,... which are every 4 measures starting at 1.\\n\\nStaff 2 has 2,6,10,... every 4 measures starting at 2.\\n\\nSimilarly, staff 3 starts at 3, and staff 4 at 4.\\n\\nSo, in terms of measure numbers, for staff 1, anchor points are at measures 1,5,9,13,...\\n\\nStaff 2: 2,6,10,14,...\\n\\nStaff 3: 3,7,11,15,...\\n\\nStaff 4: 4,8,12,16,...\\n\\nSo, for every set of 4 consecutive measures, each of staff 1-4 has one anchor point in that set.\\n\\nThat is, measures 1-4: staff 1 at 1, staff 2 at 2, staff 3 at 3, staff 4 at 4.\\n\\nMeasures 5-8: staff 1 at 5, staff 2 at 6, staff 3 at 7, staff 4 at 8.\\n\\nAnd so on.\\n\\nSo, perhaps I can group the measures into sets of 4, and treat each group as a unit.\\n\\nBut, each page can have up to 10 measures per staff.\\n\\nWait, 10 measures per staff per page.\\n\\nBut, since there are 12 staves, and each staff can have up to 10 measures on a page, but the pages have a fixed height that can fit 12 staves.\\n\\nWait, no, the page height is 30 cm, and each staff is 2.5 cm, so 30 / 2.5 = 12 staves per page.\\n\\nBut, in terms of measures, each staff can have multiple measures on a single page.\\n\\nWait, but it says each page can contain a maximum of 10 measures per staff.\\n\\nSo, for each staff, only 10 measures can be on a single page.\\n\\nBut, since all 12 staves are on each page, each page can show 10 measures of each staff.\\n\\nWait, but that would mean that all staves progress together in lockstep, showing the same measures on the same pages.\\n\\nBut, with anchor points, I need to make sure that specific measures align vertically across pages.\\n\\nWait, perhaps I need to think in terms of \"systems,\" where a system is a set of staves on a page, showing a certain number of measures.\\n\\nIn music notation, a system is a group of staves that are meant to be read horizontally together.\\n\\nSo, perhaps each page can have multiple systems, each showing a certain number of measures.\\n\\nBut, the problem seems to suggest that each page can show up to 10 measures per staff, meaning that it\\'s one system per page.\\n\\nWait, but in standard music notation, a page can have multiple systems, but here, it seems to be assuming one system per page, with up to 10 measures per staff.\\n\\nTo simplify, perhaps it\\'s best to assume that each page shows the same number of measures for all staves, up to 10 measures per staff.\\n\\nSo, for example, if I show 5 measures on a page, all 12 staves will show 5 measures each on that page.\\n\\nThen, the next page will show the next 5 measures, and so on.\\n\\nBut, with anchor points needing to be aligned vertically across pages, I need to make sure that the anchor points occur at page boundaries in a way that they align.\\n\\nWait, but if I show the same number of measures per page for all staves, then the anchor points will naturally align vertically.\\n\\nWait, no, because each staff\\'s anchor points are at different measures.\\n\\nWait, for example, staff 1 has anchor points at measures 1,5,9,... staff 2 at 2,6,10,...\\n\\nSo, if I have pages that show, say, 4 measures per page, then:\\n\\nPage 1: measures 1-4 for all staves.\\n\\nSo, staff 1 shows measures 1-4, with anchor point at measure 1.\\n\\nStaff 2 shows measures 1-4, with anchor point at measure 2.\\n\\nStaff 3 shows measures 1-4, with anchor point at measure 3.\\n\\nStaff 4 shows measures 1-4, with anchor point at measure 4.\\n\\nSo, in this case, all anchor points for staffs 1-4 are on page 1.\\n\\nThen, page 2 shows measures 5-8.\\n\\nStaff 1 has anchor point at measure 5.\\n\\nStaff 2 has anchor point at measure 6.\\n\\nStaff 3 at 7.\\n\\nStaff 4 at 8.\\n\\nSo, again, all anchor points are on the same page.\\n\\nWait, so if I choose to have pages that show multiples of 4 measures, then the anchor points for staffs 1-4 will always align on the same pages.\\n\\nWait, but the problem says that each page can contain up to 10 measures per staff.\\n\\nSo, if I choose to have pages show 4 measures each, then I would have more pages, but the anchor points align.\\n\\nIf I choose to have pages show 8 measures each, then anchor points still align.\\n\\nSimilarly, 12, 16, etc.\\n\\nBut, 10 is not a multiple of 4.\\n\\nSo, if I choose to have pages show 10 measures each, then the anchor points won\\'t align perfectly.\\n\\nWait, let\\'s see:\\n\\nIf a page shows 10 measures:\\n\\nStaff 1 has anchor points at measures 1,5,9,13,...\\n\\nSo, on page 1: measures 1-10.\\n\\nStaff 1 has anchor points at measures 1 and 5 and 9.\\n\\nStaff 2 has anchor points at measures 2 and 6 and 10.\\n\\nStaff 3 has measures 3 and 7 and 11.\\n\\nStaff 4 has measures 4 and 8 and 12.\\n\\nSo, for staff 3 and 4, their anchor points at measures 11 and 12 are on page 2.\\n\\nWait, no, if a page shows 10 measures, then page 1 shows measures 1-10, page 2 shows 11-20, etc.\\n\\nSo, for staff 3, anchor point at measure 11 is on page 2.\\n\\nFor staff 4, anchor point at measure 12 is on page 2.\\n\\nSo, in this case, for page 1:\\n\\nStaff 1: anchor points at 1,5,9\\n\\nStaff 2: anchor points at 2,6,10\\n\\nStaff 3: anchor points at 3,7\\n\\nStaff 4: anchor points at 4,8\\n\\nStaves 5-12: no anchor points.\\n\\nWait, staff 3 has anchor points at 3 and 7 on page 1.\\n\\nSimilarly, staff 4 has anchor points at 4 and 8 on page 1.\\n\\nSo, in this setup, the anchor points are still aligned in a way, but some staffs have more anchor points on a page than others.\\n\\nBut the requirement is to align the anchor points vertically across pages.\\n\\nI need to ensure that when a page break occurs, the anchor points are handled in a way that they align.\\n\\nPerhaps the best way is to have page breaks at measures that are multiples of 4, so that the anchor points align properly.\\n\\nFor example, if I have pages that show 4 measures each, then each page will have the anchor points for staffs 1-4 at the beginning of their respective measure sets.\\n\\nBut, since each page can have up to 10 measures per staff, choosing 4 measures per page would result in more pages, which might not be optimal.\\n\\nThe goal is to minimize the number of page breaks, which means to have fewer pages.\\n\\nSo, perhaps choosing larger page sizes, like 10 measures per page, is better, even if it means that anchor points don\\'t align perfectly.\\n\\nBut, the problem states that anchor points must be aligned vertically across pages.\\n\\nSo, perhaps I need to find a measure count per page that is a multiple of the anchor point intervals.\\n\\nSince anchor points are every 4 measures for staffs 1-4, choosing a page size that is a multiple of 4 would align the anchor points nicely.\\n\\nFor example, if I choose 8 measures per page, which is a multiple of 4, then:\\n\\nPage 1: measures 1-8\\n\\nStaff 1: anchor points at 1 and 5\\n\\nStaff 2: anchor points at 2 and 6\\n\\nStaff 3: anchor points at 3 and 7\\n\\nStaff 4: anchor points at 4 and 8\\n\\nThen, page 2: measures 9-16\\n\\nStaff 1: anchor points at 9 and 13\\n\\nStaff 2: anchor points at 10 and 14\\n\\nStaff 3: anchor points at 11 and 15\\n\\nStaff 4: anchor points at 12 and 16\\n\\nAnd so on.\\n\\nThis way, the anchor points are aligned vertically across pages.\\n\\nSimilarly, choosing 4 measures per page would also align them, but result in more pages.\\n\\nChoosing 12 measures per page would also work, as 12 is a multiple of 4.\\n\\nBut, the constraint is that each page can contain up to 10 measures per staff.\\n\\nSo, 10 is not a multiple of 4, which complicates things.\\n\\nIf I choose 10 measures per page, the anchor points won\\'t align perfectly.\\n\\nWait, perhaps I can choose a page size that is a common multiple of 4 and 10.\\n\\nThe least common multiple of 4 and 10 is 20.\\n\\nSo, if I choose 20 measures per page, that would align the anchor points every 20 measures.\\n\\nBut, the problem is that each page can only contain up to 10 measures per staff.\\n\\nSo, 20 measures per page would mean that each staff shows 20 measures per page, but the constraint is 10 measures per staff per page.\\n\\nWait, perhaps I\\'m misunderstanding.\\n\\nWait, the problem says: each page can contain a maximum of 10 measures per staff.\\n\\nThat is, for each staff, you can only show up to 10 measures on a single page.\\n\\nBut, since there are 12 staves, and each staff is independent in terms of the measures shown on a page.\\n\\nWait, perhaps I need to think in terms of systems, where a system shows a certain number of measures for all staves.\\n\\nIn that case, the number of measures per system would be determined by the staff with the fewest measures that can be shown per page.\\n\\nBut, in this case, since each staff can have up to 10 measures per page, and all staves are shown on each page, the system would show the same number of measures for all staves.\\n\\nSo, perhaps the number of measures per page is determined by the maximum number of measures that can be shown per staff per page, which is 10.\\n\\nSo, each page shows up to 10 measures for each staff.\\n\\nGiven that, and the need to align anchor points vertically, I need to decide how many measures to show per page.\\n\\nBut, since 10 is not a multiple of 4, aligning anchor points every 10 measures would not align them perfectly.\\n\\nAlternatively, perhaps I can choose to have pages that show multiples of 4 measures, up to 10 measures per staff.\\n\\nWait, but 10 is not a multiple of 4.\\n\\nSo, perhaps I need to choose a number of measures per page that is a divisor of both 4 and 10.\\n\\nBut 4 and 10 share a common divisor of 2.\\n\\nSo, perhaps showing 2 measures per page would align the anchor points.\\n\\nBut that would result in a lot of pages.\\n\\nAlternatively, showing 4 measures per page, even though 4 doesn\\'t divide 10 evenly, might be better.\\n\\nWait, perhaps I need to find a compromise.\\n\\nMaybe I can have pages that show 4 measures, then 4 measures, then 2 measures, to make a total of 10 measures per staff per page.\\n\\nWait, no, I think I\\'m getting confused.\\n\\nLet me try to think differently.\\n\\nPerhaps I should consider the entire score and see how many pages are needed if I show a certain number of measures per page.\\n\\nTotal measures: 120.\\n\\nEach staff has 120 measures.\\n\\nEach page can show up to 10 measures per staff.\\n\\nSo, the minimum number of pages required, without considering anchor points, would be ceil(120 / 10) = 12 pages.\\n\\nBut, with anchor points needing to be aligned, perhaps I need more pages.\\n\\nWait, maybe not.\\n\\nWait, perhaps if I show 4 measures per page, which is a multiple of the anchor point interval, then the anchor points will align.\\n\\nSo, with 4 measures per page, I would need ceil(120 / 4) = 30 pages.\\n\\nBut that seems like a lot.\\n\\nAlternatively, if I show 8 measures per page, which is also a multiple of 4, I would need ceil(120 / 8) = 15 pages.\\n\\nStill quite a few.\\n\\nIf I show 12 measures per page, which is a multiple of 4, I would need ceil(120 / 12) = 10 pages.\\n\\nBetter.\\n\\nBut the constraint is that each page can only contain up to 10 measures per staff.\\n\\nSo, 12 measures per page would violate that constraint.\\n\\nWait, no, the constraint is per staff, per page.\\n\\nWait, the problem says: each page can contain a maximum of 10 measures per staff.\\n\\nSo, for each staff, you can\\'t show more than 10 measures on a single page.\\n\\nBut, since all staves are on the same page, and the page can show up to 10 measures per staff, I can choose how many measures to show per staff per page.\\n\\nWait, perhaps I need to decide how many measures to show per page for each staff, up to 10 measures per staff per page, and ensure that the anchor points are aligned vertically.\\n\\nThis is getting complicated.\\n\\nMaybe I should approach this using integer programming.\\n\\nLet me define decision variables.\\n\\nLet’s define X_j = the number of measures shown on page j for staff i.\\n\\nWait, but I have multiple staffs.\\n\\nSo, perhaps X_i_j = the number of measures shown on page j for staff i.\\n\\nBut, given that all staffs are on the same page, and likely showing the same number of measures per page, perhaps X_j = number of measures shown on page j for all staffs.\\n\\nAssuming that all staffs show the same number of measures per page.\\n\\nThat seems reasonable, given that it\\'s a musical score and readers expect measures to align horizontally across staves.\\n\\nSo, X_j = number of measures shown on page j for all staffs.\\n\\nThen, the total number of measures per staff is the sum over all pages of X_j, which should equal 120.\\n\\nSum_j X_j = 120.\\n\\nAlso, X_j <= 10 for all j, since each page can contain up to 10 measures per staff.\\n\\nNow, regarding anchor points, I need to ensure that the anchor points are aligned vertically across pages.\\n\\nThat is, for staffs 1-4, their anchor points should be on the same page.\\n\\nWait, no, they should be aligned vertically, meaning that for a given measure where an anchor point occurs, all relevant staffs\\' anchor points are on the same page.\\n\\nWait, but each staff has its own anchor points at different measures.\\n\\nSo, for staff 1, anchor points are at measures 1,5,9,...\\n\\nFor staff 2, at 2,6,10,...\\n\\nAnd so on.\\n\\nSo, for example, measure 1 of staff 1 should be on the same page as measure 2 of staff 2, measure 3 of staff 3, and measure 4 of staff 4.\\n\\nSimilarly, measure 5 of staff 1 should be on the same page as measure 6 of staff 2, measure 7 of staff 3, and measure 8 of staff 4.\\n\\nWait, is that the alignment required?\\n\\nI think the alignment is that for the anchor points to be vertically aligned, the measures where anchor points occur should be on the same page for the respective staffs.\\n\\nSo, for example, measure 1 of staff 1 should be on the same page as measure 2 of staff 2, measure 3 of staff 3, and measure 4 of staff 4.\\n\\nSimilarly, measure 5 of staff 1 should be on the same page as measure 6 of staff 2, measure 7 of staff 3, and measure 8 of staff 4.\\n\\nAnd so on.\\n\\nSo, to ensure this alignment, I need to make sure that the pages are set in such a way that these measures fall on the same page.\\n\\nSo, for staff 1, anchor points at 1,5,9,...\\n\\nFor staff 2, at 2,6,10,...\\n\\nAnd so on.\\n\\nSo, if I have a page break between measures 4 and 5, then:\\n\\n- Measure 1 of staff 1 is on page 1\\n\\n- Measure 2 of staff 2 is on page 1\\n\\n- Measure 3 of staff 3 is on page 1\\n\\n- Measure 4 of staff 4 is on page 1\\n\\n- Measure 5 of staff 1 is on page 2\\n\\n- Measure 6 of staff 2 is on page 2\\n\\n- Measure 7 of staff 3 is on page 2\\n\\n- Measure 8 of staff 4 is on page 2\\n\\nAnd so on.\\n\\nSo, in this case, choosing page breaks every 4 measures would align the anchor points properly.\\n\\nSimilarly, choosing page breaks every 8 measures would also align them, as 8 is a multiple of 4.\\n\\nChoosing page breaks every 12 measures would also work, as 12 is a multiple of 4.\\n\\nBut, the constraint is that each page can contain up to 10 measures per staff.\\n\\nSo, if I choose 4 measures per page, I would need 30 pages.\\n\\nIf I choose 8 measures per page, I would need 15 pages.\\n\\nIf I choose 10 measures per page, I would need 12 pages, but 10 is not a multiple of 4.\\n\\nSo, 10 is not a multiple of 4, which means that the anchor points won\\'t align perfectly.\\n\\nFor example, with 10 measures per page:\\n\\n- Page 1: measures 1-10\\n\\n- Staff 1: anchor points at 1,5,9\\n\\n- Staff 2: anchor points at 2,6,10\\n\\n- Staff 3: anchor points at 3,7\\n\\n- Staff 4: anchor points at 4,8\\n\\nSo, staff 3\\'s anchor point at measure 11 is on page 2, and staff 4\\'s at measure 12 is on page 2.\\n\\nSo, in this case, the anchor points are split across pages.\\n\\nBut the problem requires that anchor points are aligned vertically across pages.\\n\\nSo, perhaps choosing 10 measures per page is acceptable, as long as the anchor points are on the same page for the respective staffs.\\n\\nWait, but in this case, for page 1:\\n\\n- Staff 1: anchor points at 1,5,9\\n\\n- Staff 2: at 2,6,10\\n\\n- Staff 3: at 3,7\\n\\n- Staff 4: at 4,8\\n\\nAnd for page 2:\\n\\n- Staff 1: anchor points at 13,17,21,...\\n\\n- Staff 2: at 14,18,22,...\\n\\n- Staff 3: at 15,19,...\\n\\n- Staff 4: at 16,20,...\\n\\nSo, on page 1, the anchor points are at measures 1,2,3,4 for staffs 1-4, respectively.\\n\\nOn page 2, it\\'s at 13,14,15,16, etc.\\n\\nSo, as long as the anchor points for each staff are on the same page, it\\'s okay.\\n\\nWait, but the problem says that anchor points must be aligned vertically across pages.\\n\\nI think this means that for each set of anchor points, they should all be on the same page.\\n\\nBut in this case, on page 1, staff 1 has anchor points at 1,5,9; staff 2 at 2,6,10; staff 3 at 3,7; staff 4 at 4,8.\\n\\nSo, these are not all aligned vertically, because they are different measures for each staff.\\n\\nWait, maybe I need to think differently.\\n\\nPerhaps the anchor points need to be aligned in the sense that for each \"block\" of measures, the anchor points for all staffs are on the same page.\\n\\nBut, given that each staff has anchor points at different measures, it\\'s challenging to align them perfectly unless the page size is a multiple of the anchor point intervals.\\n\\nIn this case, since staffs 1-4 have anchor points every 4 measures, choosing a page size that\\'s a multiple of 4 would align their anchor points.\\n\\nBut, with the constraint of up to 10 measures per staff per page, choosing a page size of 10 measures would not align the anchor points perfectly.\\n\\nSo, perhaps I need to choose a page size that is a divisor of both 4 and 10.\\n\\nWait, 4 and 10 share a common divisor of 2.\\n\\nSo, choosing 2 measures per page would align the anchor points, but that would result in 60 pages, which is not desirable.\\n\\nAlternatively, choosing 4 measures per page would require 30 pages.\\n\\nChoosing 10 measures per page would require 12 pages, but with misaligned anchor points.\\n\\nAlternatively, choosing 20 measures per page would require 6 pages, but 20 is a multiple of 4, so anchor points would align.\\n\\nBut, the constraint is only up to 10 measures per staff per page.\\n\\nWait, the constraint is up to 10 measures per staff per page.\\n\\nSo, choosing 10 measures per page is allowed.\\n\\nBut, as we saw earlier, with 10 measures per page, the anchor points don\\'t align perfectly.\\n\\nWait, but perhaps I can show different numbers of measures per page, as long as no page has more than 10 measures per staff.\\n\\nSo, maybe I can have some pages with 4 measures, some with 8, some with 10, etc.\\n\\nBut that might complicate things.\\n\\nAlternatively, perhaps I can group the measures into \"chunks\" that are multiples of 4, up to 10 measures per page.\\n\\nFor example, have pages with 4 measures, then 4 measures, then 2 measures, to make a total of 10 measures per staff per page.\\n\\nBut that might not be practical.\\n\\nAlternatively, perhaps I can accept that with 10 measures per page, the anchor points won\\'t align perfectly, but it\\'s the best trade-off for minimizing page breaks.\\n\\nAlternatively, perhaps I can choose to have pages that show 8 measures, which is a multiple of 4, and close to 10.\\n\\nThat would require 15 pages, which is more than the 12 I would get with 10 measures per page.\\n\\nSo, more pages but with aligned anchor points.\\n\\nAlternatively, perhaps I can find a way to have pages that show 10 measures, but adjust the anchor points accordingly.\\n\\nWait, perhaps I need to accept that with 10 measures per page, the anchor points won\\'t align perfectly, but it\\'s acceptable.\\n\\nAlternatively, perhaps I can have pages that show 20 measures, which is a multiple of 4, and within the 10 measures per staff per page constraint.\\n\\nWait, but 20 is greater than 10, which violates the constraint.\\n\\nWait, no, the constraint is up to 10 measures per staff per page.\\n\\nSo, if I show 10 measures per staff per page, and have multiple systems per page, perhaps.\\n\\nWait, but the page height can fit 12 staves, each showing up to 10 measures.\\n\\nSo, perhaps each page can have one system showing 10 measures of each staff.\\n\\nAlternatively, perhaps I can have multiple systems per page, each showing a certain number of measures.\\n\\nBut that complicates things further.\\n\\nI think the simplest approach is to choose a page size that is a multiple of the anchor point interval, which is 4 measures, and as close as possible to the maximum allowed 10 measures per staff per page.\\n\\nSo, 8 measures per page is a multiple of 4 and close to 10.\\n\\nThat would require 15 pages.\\n\\nAlternatively, choose 4 measures per page, which would require 30 pages.\\n\\nOr choose 12 measures per page, which is a multiple of 4, but exceeds the 10 measures per staff per page constraint.\\n\\nWait, but perhaps I can show 10 measures per staff per page, and accept that it\\'s not a multiple of 4, but try to align the anchor points as much as possible.\\n\\nSo, perhaps I need to accept some misalignment of anchor points to minimize the number of pages.\\n\\nAlternatively, perhaps I can have pages that show 5 measures each, which is a divisor of 10 and also divides 20, which is a multiple of 4.\\n\\nWait, 5 is not a multiple of 4.\\n\\nThis is getting too complicated.\\n\\nMaybe I need to accept that there will be some misalignment and choose 10 measures per page.\\n\\nAlternatively, perhaps I can have pages that show 4 measures, then 6 measures, then 10 measures, etc., to balance the alignment and the number of pages.\\n\\nBut that seems too ad hoc.\\n\\nAlternatively, perhaps I can model this as an integer programming problem where I minimize the number of pages, subject to the constraints on the number of measures per page and the alignment of anchor points.\\n\\nLet me try to formalize this.\\n\\nDecision variables:\\n\\nLet’s define Y_j = 1 if page j is used, 0 otherwise.\\n\\nX_i_j = number of measures assigned to page j for staff i.\\n\\nConstraints:\\n\\n1. Sum over j of X_i_j = 120 for all i (each staff has 120 measures)\\n\\n2. X_i_j <= 10 for all i,j (no more than 10 measures per staff per page)\\n\\n3. Alignment of anchor points:\\n\\nFor each set of anchor points that need to be aligned, they must be on the same page.\\n\\nFor example, for staff 1\\'s anchor points at 1,5,9,..., these should be on the same page as staff 2\\'s anchor points at 2,6,10,..., and so on.\\n\\nSo, perhaps for each \"group\" of anchor points, I need to ensure they are on the same page.\\n\\nWait, perhaps I need to group the anchor points in such a way that for each page, the anchor points for staffs 1-4 are aligned.\\n\\nBut, given that their anchor points are at different measures, I need to find a way to align them.\\n\\nAlternatively, perhaps I need to consider the least common multiple of the anchor point intervals.\\n\\nWait, maybe I need to think in terms of the measure numbers where anchor points occur for staffs 1-4.\\n\\nSo, staff 1: measures 1,5,9,...\\n\\nStaff 2: measures 2,6,10,...\\n\\nStaff 3: measures 3,7,11,...\\n\\nStaff 4: measures 4,8,12,...\\n\\nSo, every 4 measures, there is a set of anchor points: measures 1-4, 5-8, 9-12, etc.\\n\\nSo, perhaps I can treat each set of 4 measures as a unit, where each staff\\'s anchor point is included.\\n\\nThen, I can decide how many of these 4-measure units to put on each page.\\n\\nBut, since each page can have up to 10 measures per staff, I can have up to 2 full 4-measure units (8 measures) and possibly 2 extra measures.\\n\\nBut, 10 is not a multiple of 4, so it\\'s not perfectly divisible.\\n\\nAlternatively, perhaps I can decide to have pages that show a certain number of 4-measure units.\\n\\nFor example, show 2 units (8 measures) per page, which is a multiple of 4, and aligns the anchor points.\\n\\nThen, I would need ceil(120 / 8) = 15 pages.\\n\\nAlternatively, show 3 units (12 measures) per page, but that exceeds the 10 measures per staff per page constraint.\\n\\nSo, 8 measures per page seems acceptable, requiring 15 pages.\\n\\nAlternatively, show 4 units (16 measures) per page, but that exceeds the 10 measures per staff per page constraint.\\n\\nWait, but 10 is not a multiple of 4, so it\\'s tricky.\\n\\nAlternatively, perhaps I can accept that some anchor points won\\'t align perfectly and choose 10 measures per page, which would require 12 pages.\\n\\nBut, with 10 measures per page, the anchor points don\\'t align perfectly, as shown earlier.\\n\\nAlternatively, perhaps I can have pages that show 5 measures each, which is a divisor of 10, and see if that aligns the anchor points.\\n\\nBut 5 is not a multiple of 4, so it doesn\\'t align perfectly.\\n\\nAlternatively, perhaps I can accept some misalignment and choose 10 measures per page.\\n\\nAlternatively, perhaps I can have pages that show 4 measures, then 6 measures, to make an average of around 10 measures per staff per page.\\n\\nBut that\\'s getting too complicated.\\n\\nAlternatively, perhaps I can consider that the anchor points for staffs 1-4 are aligned every 4 measures, and choose a page size that is a multiple of 4, even if it means more pages.\\n\\nThen, minimize the number of pages among those options.\\n\\nSo, possible page sizes that are multiples of 4 and up to 10 measures per staff per page:\\n\\n- 4 measures per page: 30 pages\\n\\n- 8 measures per page: 15 pages\\n\\n- 12 measures per page: 10 pages, but exceeds the 10 measures per staff per page constraint.\\n\\nSo, the best option is 8 measures per page, requiring 15 pages.\\n\\nAlternatively, choose 10 measures per page and accept misaligned anchor points, with 12 pages.\\n\\nGiven that minimizing page breaks is important, perhaps choosing 10 measures per page with 12 pages is better than 15 pages, even with misaligned anchor points.\\n\\nAlternatively, perhaps there\\'s a way to align the anchor points with 10 measures per page.\\n\\nLet me think differently.\\n\\nSuppose I choose to have pages that show 10 measures per staff.\\n\\nThen, the anchor points for staff 1 are at measures 1,5,9,13,17,21,...\\n\\nSo, on page 1 (measures 1-10):\\n\\nStaff 1: anchor points at 1,5,9\\n\\nStaff 2: anchor points at 2,6,10\\n\\nStaff 3: anchor points at 3,7\\n\\nStaff 4: anchor points at 4,8\\n\\nThen, on page 2 (measures 11-20):\\n\\nStaff 1: anchor points at 13,17\\n\\nStaff 2: anchor points at 14,18\\n\\nStaff 3: anchor points at 15,19\\n\\nStaff 4: anchor points at 16,20\\n\\nAnd so on.\\n\\nIn this case, the anchor points are spread across pages, but they are still aligned in the sense that for each page, the anchor points for staffs 1-4 are on the same page.\\n\\nBut, perhaps the requirement is stricter, needing all anchor points to be on the same page.\\n\\nWait, perhaps the requirement is that for each set of anchor points, they are all on the same page.\\n\\nBut, given that each staff has anchor points at different measures, it\\'s impossible to have all of them on the same page unless the page size is a multiple of the anchor point interval.\\n\\nIn this case, choosing a page size that\\'s a multiple of 4 measures would align the anchor points.\\n\\nSo, perhaps I need to choose a page size that\\'s a multiple of 4 measures, and as large as possible without exceeding the 10 measures per staff per page constraint.\\n\\nSo, 8 measures per page is the largest multiple of 4 that\\'s less than or equal to 10.\\n\\nTherefore, choosing 8 measures per page would align the anchor points and keep the number of pages relatively low.\\n\\nWith 8 measures per page, I would need ceil(120 / 8) = 15 pages.\\n\\nAlternatively, choosing 4 measures per page would require 30 pages, which is too many.\\n\\nSo, 8 measures per page seems like a reasonable compromise.\\n\\nAlternatively, perhaps I can choose 10 measures per page and accept that some anchor points are split across pages.\\n\\nBut, in that case, the anchor points are still aligned in the sense that for each page, the anchor points for staffs 1-4 are on the same page, just not all on the same page.\\n\\nWait, no, with 10 measures per page, the anchor points are split.\\n\\nFor example, on page 1:\\n\\nStaff 1: anchor points at 1,5,9\\n\\nStaff 2: anchor points at 2,6,10\\n\\nStaff 3: anchor points at 3,7\\n\\nStaff 4: anchor points at 4,8\\n\\nThen, on page 2:\\n\\nStaff 1: anchor points at 13,17,21,...\\n\\nStaff 2: anchor points at 14,18,22,...\\n\\nStaff 3: anchor points at 15,19,...\\n\\nStaff 4: anchor points at 16,20,...\\n\\nSo, the anchor points are aligned within each page, but not across pages in a perfect multiple of 4.\\n\\nBut perhaps that\\'s acceptable.\\n\\nAlternatively, perhaps I can choose to have pages that show 20 measures, which is a multiple of 4, and within the 10 measures per staff per page constraint if I have two systems per page.\\n\\nWait, but the constraint is per staff per page, not per system.\\n\\nSo, if I have two systems per page, each system can show up to 10 measures per staff.\\n\\nBut, that complicates the layout.\\n\\nAlternatively, perhaps I can accept that with 10 measures per page, the anchor points are misaligned, but it\\'s the best trade-off for minimizing page breaks.\\n\\nGiven that, perhaps choosing 10 measures per page is acceptable.\\n\\nAlternatively, perhaps I can look for a different approach.\\n\\nLet me consider the total number of pages needed.\\n\\nIf I choose 10 measures per page, I need 12 pages.\\n\\nIf I choose 8 measures per page, I need 15 pages.\\n\\nIf I choose 4 measures per page, I need 30 pages.\\n\\nGiven that, choosing 10 measures per page seems better in terms of minimizing page breaks.\\n\\nSo, perhaps I should go with 10 measures per page and accept that the anchor points are not perfectly aligned.\\n\\nAlternatively, perhaps I can find a way to align the anchor points with 10 measures per page.\\n\\nLet me think about it differently.\\n\\nSuppose I choose to have pages that show 10 measures per staff, but adjust the starting measure for some staffs to align the anchor points.\\n\\nFor example, for staff 1, start at measure 1.\\n\\nFor staff 2, start at measure 2.\\n\\nAnd so on.\\n\\nBut, since all staves are on the same page, they all start at measure 1.\\n\\nWait, perhaps I need to offset the starting measures for some staffs.\\n\\nBut that would make the score confusing to read.\\n\\nSo, that\\'s not a good idea.\\n\\nAlternatively, perhaps I can have different numbers of measures per page for different staffs, but that would also complicate the layout.\\n\\nBut the constraint is that each staff can have up to 10 measures per page.\\n\\nSo, perhaps I can have some staffs show 9 measures on some pages, others show 10, to make the anchor points align.\\n\\nBut that seems too convoluted.\\n\\nAlternatively, perhaps I can accept that the anchor points won\\'t align perfectly and choose 10 measures per page.\\n\\nGiven that, perhaps that\\'s the best approach.\\n\\nSo, with 10 measures per page, I would have 12 pages.\\n\\nThen, for the allocation matrix, where rows represent staffs and columns represent pages, with entries of 1 if staff i is allocated to page j, and 0 otherwise.\\n\\nBut, since each staff is present on all pages, the matrix would be all 1\\'s, because all 12 staves are on every page.\\n\\nWait, but that can\\'t be right.\\n\\nWait, no, the problem says to allocate staves across multiple pages, but in Finale, all staves are typically on each page, unless there are multiple flows or something.\\n\\nBut, in standard music notation, all staves are on each page, and the pages are linked sequentially.\\n\\nBut, perhaps in this problem, it\\'s allowed to have different staves on different pages.\\n\\nWait, no, that wouldn\\'t make sense for a musical score.\\n\\nMusicians need to see all staves together to read the music.\\n\\nSo, in reality, all 12 staves should be on every page.\\n\\nTherefore, the allocation matrix would be all 1\\'s, meaning all staffs are on all pages.\\n\\nBut, that doesn\\'t make sense in terms of minimizing page breaks, because you can\\'t leave any staff off a page.\\n\\nWait, perhaps I\\'m misunderstanding the problem.\\n\\nMaybe the task is to decide how many pages to have, given that all staves are on each page, and to arrange the measures within each page accordingly.\\n\\nIn that case, the allocation matrix isn\\'t needed, because all staffs are on all pages.\\n\\nInstead, the decision is on how many measures to show per page.\\n\\nBut, the problem specifically asks for an allocation matrix where rows represent staffs and columns represent pages, with 1 if staff i is allocated to page j, and 0 otherwise.\\n\\nBut, if all staffs are on all pages, then it\\'s all 1\\'s.\\n\\nAlternatively, perhaps the problem allows for splitting staves across pages, but that doesn\\'t make sense for music notation.\\n\\nIn music notation, a staff continues across pages, with a repeat sign or bracket indicating the continuation.\\n\\nBut, in practice, all staves are present on each page, with the music continuing from page to page.\\n\\nGiven that, perhaps the allocation matrix should indicate which staffs are present on which pages, but in reality, all staffs are present on all pages.\\n\\nAlternatively, perhaps the matrix represents which staffs have their measures divided across pages.\\n\\nBut that seems unclear.\\n\\nAlternatively, perhaps the matrix indicates which staffs have a page break at a certain point.\\n\\nBut that\\'s also unclear.\\n\\nGiven the confusion, perhaps I should proceed with the assumption that all staffs are on all pages, and the task is to decide how many pages to have, based on how many measures are shown per page.\\n\\nGiven that, the allocation matrix would be all 1\\'s, with dimensions 12 staffs by 12 pages.\\n\\nBut, that seems too simplistic.\\n\\nAlternatively, perhaps the task is to decide which staffs should have page breaks at which points to minimize the total number of page breaks, considering the anchor point alignments.\\n\\nBut, in music notation, page breaks are synchronized across all staffs, so all staffs have the same page breaks.\\n\\nTherefore, the allocation matrix should have all staffs on all pages, meaning all entries are 1\\'s.\\n\\nAlternatively, perhaps the task is to decide how to group the staves across pages to minimize page breaks, considering the anchor points.\\n\\nBut, again, in standard music notation, all staves are on all pages.\\n\\nGiven that, perhaps the task is to choose the number of measures per page to minimize the total number of pages, subject to the anchor point alignment constraints.\\n\\nIn that case, choosing 10 measures per page would result in 12 pages, with some misalignment of anchor points.\\n\\nChoosing 8 measures per page would result in 15 pages, with aligned anchor points.\\n\\nGiven that, perhaps choosing 10 measures per page is better, accepting some misalignment.\\n\\nAlternatively, perhaps I can choose 4 measures per page, resulting in 30 pages, with perfectly aligned anchor points.\\n\\nBut that seems excessive.\\n\\nAlternatively, perhaps I can choose 12 measures per page, which is a multiple of 4, but exceeds the 10 measures per staff per page constraint.\\n\\nBut, perhaps I can adjust the layout to fit more measures per staff per page.\\n\\nBut, the constraint is fixed at 10 measures per staff per page.\\n\\nGiven that, perhaps 10 measures per page is the way to go, with 12 pages.\\n\\nTherefore, the allocation matrix would be a 12x12 matrix of all 1\\'s.\\n\\nBut, perhaps I need to think differently.\\n\\nAlternatively, perhaps the task is to group the staves into subsets that share the same page breaks, to minimize the total number of page breaks.\\n\\nBut, given that all staves have different anchor points, it\\'s challenging to group them.\\n\\nAlternatively, perhaps I can treat the staves with anchor points as a group and the staves without anchor points separately.\\n\\nSo, staves 1-4 have anchor points, staves 5-12 do not.\\n\\nPerhaps I can allocate staves 1-4 together, considering their anchor points, and staves 5-12 independently.\\n\\nBut, since all staves are on each page, that may not help.\\n\\nAlternatively, perhaps I can treat staves 5-12 as having no constraints and focus on aligning staves 1-4.\\n\\nBut, again, since all staves are on each page, it\\'s difficult to separate them.\\n\\nAlternatively, perhaps I can model this as a graph where nodes represent pages, and edges represent the need to align anchor points.\\n\\nBut, that seems too abstract for this problem.\\n\\nAlternatively, perhaps I can consider the least common multiple of the anchor point intervals.\\n\\nThe anchor points for staves 1-4 are every 4 measures.\\n\\nSo, LCM(4,10)=20.\\n\\nSo, every 20 measures, the anchor points align with the page size.\\n\\nSo, choosing 20 measures per page would align the anchor points every 20 measures.\\n\\nBut, 20 measures per page exceeds the 10 measures per staff per page constraint.\\n\\nTherefore, that\\'s not feasible.\\n\\nAlternatively, perhaps I can have pages that show 10 measures, but adjust the layout to have two systems per page, each showing 10 measures, making a total of 20 measures per page.\\n\\nBut, that would violate the page height constraint, as each page can only fit 12 staves.\\n\\nWait, no, the page height is for the number of staves, not the number of measures.\\n\\nEach page can fit 12 staves, each with up to 10 measures.\\n\\nSo, in terms of systems, each page can have one system with 12 staves and up to 10 measures each.\\n\\nAlternatively, perhaps I can have multiple systems per page, but that complicates things.\\n\\nGiven that, perhaps the best approach is to choose 10 measures per page, resulting in 12 pages, accepting some misalignment of anchor points.\\n\\nTherefore, the allocation matrix would be a 12x12 matrix of all 1\\'s, indicating that all 12 staves are on all 12 pages.\\n\\nBut, perhaps there\\'s a better way.\\n\\nAlternatively, perhaps I can have some staves span multiple pages, but that doesn\\'t make sense in music notation.\\n\\nAlternatively, perhaps I can have different staves starting at different measures, but that would be confusing.\\n\\nAlternatively, perhaps I can have some staves with fewer measures per page, to align the anchor points.\\n\\nBut, that would require some staves to have fewer measures per page, which might not be desirable.\\n\\nAlternatively, perhaps I can accept that the anchor points won\\'t align perfectly and choose 10 measures per page.\\n\\nGiven that, perhaps that\\'s the best approach.\\n\\nTherefore, the allocation matrix is a 12x12 matrix where all entries are 1.\\n\\n**Final Answer**\\n\\n\\\\boxed{\\\\begin{bmatrix}\\n1 & 1 & 1 & 1 & 1 & 1 & 1 & 1 & 1 & 1 & 1 & 1 \\\\\\\\\\n1 & 1 & 1 & 1 & 1 & 1 & 1 & 1 & 1 & 1 & 1 & 1 \\\\\\\\\\n1 & 1 & 1 & 1 & 1 & 1 & 1 & 1 & 1 & 1 & 1 & 1 \\\\\\\\\\n1 & 1 & 1 & 1 & 1 & 1 & 1 & 1 & 1 & 1 & 1 & 1 \\\\\\\\\\n1 & 1 & 1 & 1 & 1 & 1 & 1 & 1 & 1 & 1 & 1 & 1 \\\\\\\\\\n1 & 1 & 1 & 1 & 1 & 1 & 1 & 1 & 1 & 1 & 1 & 1 \\\\\\\\\\n1 & 1 & 1 & 1 & 1 & 1 & 1 & 1 & 1 & 1 & 1 & 1 \\\\\\\\\\n1 & 1 & 1 & 1 & 1 & 1 & 1 & 1 & 1 & 1 & 1 & 1 \\\\\\\\\\n1 & 1 & 1 & 1 & 1 & 1 & 1 & 1 & 1 & 1 & 1 & 1 \\\\\\\\\\n1 & 1 & 1 & 1 & 1 & 1 & 1 & 1 & 1 & 1 & 1 & 1 \\\\\\\\\\n1 & 1 & 1 & 1 & 1 & 1 & 1 & 1 & 1 & 1 & 1 & 1 \\\\\\\\\\n1 & 1 & 1 & 1 & 1 & 1 & 1 & 1 & 1 & 1 & 1 & 1 \\\\\\\\\\n\\\\end{bmatrix}}'}"
      ]
     },
     "execution_count": 11,
     "metadata": {},
     "output_type": "execute_result"
    }
   ],
   "source": [
    "filter_d[-1]"
   ]
  },
  {
   "cell_type": "code",
   "execution_count": 12,
   "id": "fee0c3f8",
   "metadata": {},
   "outputs": [],
   "source": [
    "d = sorted(d, key = lambda x: len(x['response']), reverse = True)"
   ]
  },
  {
   "cell_type": "code",
   "execution_count": 13,
   "id": "40ed05ce",
   "metadata": {},
   "outputs": [],
   "source": [
    "for d_ in d[:15000]:\n",
    "    instructions.append([\n",
    "        {'role': 'system', 'content': reasoning_en},\n",
    "        {'role': 'user', 'content': d_['prompt']},\n",
    "        {'role': 'assistant', 'content': d_['response']}\n",
    "    ])"
   ]
  },
  {
   "cell_type": "code",
   "execution_count": 14,
   "id": "3cec6b86",
   "metadata": {},
   "outputs": [
    {
     "data": {
      "text/plain": [
       "22348"
      ]
     },
     "execution_count": 14,
     "metadata": {},
     "output_type": "execute_result"
    }
   ],
   "source": [
    "len(instructions)"
   ]
  },
  {
   "cell_type": "code",
   "execution_count": 15,
   "id": "3e3f4222",
   "metadata": {
    "scrolled": false
   },
   "outputs": [
    {
     "data": {
      "text/plain": [
       "['reasoning/data/leetcode_hard-00000-of-00001.parquet',\n",
       " 'reasoning/data/mallm-00000-of-00001.parquet',\n",
       " 'reasoning/data/iium_confession_translation-00000-of-00001.parquet',\n",
       " 'reasoning/data/dbp_dialect_translation-00000-of-00001.parquet',\n",
       " 'reasoning/data/dbp_reverse_dialect_translation-00000-of-00001.parquet',\n",
       " 'reasoning/data/tatabahasa-00000-of-00001.parquet',\n",
       " 'reasoning/data/deepmath-00000-of-00001.parquet',\n",
       " 'reasoning/data/maktabalbahri-00000-of-00001.parquet']"
      ]
     },
     "execution_count": 15,
     "metadata": {},
     "output_type": "execute_result"
    }
   ],
   "source": [
    "glob('reasoning/data/*.parquet')"
   ]
  },
  {
   "cell_type": "code",
   "execution_count": 16,
   "id": "f4674424",
   "metadata": {},
   "outputs": [
    {
     "data": {
      "text/html": [
       "<div>\n",
       "<style scoped>\n",
       "    .dataframe tbody tr th:only-of-type {\n",
       "        vertical-align: middle;\n",
       "    }\n",
       "\n",
       "    .dataframe tbody tr th {\n",
       "        vertical-align: top;\n",
       "    }\n",
       "\n",
       "    .dataframe thead th {\n",
       "        text-align: right;\n",
       "    }\n",
       "</style>\n",
       "<table border=\"1\" class=\"dataframe\">\n",
       "  <thead>\n",
       "    <tr style=\"text-align: right;\">\n",
       "      <th></th>\n",
       "      <th>id</th>\n",
       "      <th>slug</th>\n",
       "      <th>title</th>\n",
       "      <th>difficulty</th>\n",
       "      <th>content</th>\n",
       "      <th>solution</th>\n",
       "      <th>language</th>\n",
       "      <th>english</th>\n",
       "      <th>malay</th>\n",
       "    </tr>\n",
       "  </thead>\n",
       "  <tbody>\n",
       "    <tr>\n",
       "      <th>0</th>\n",
       "      <td>None</td>\n",
       "      <td>None</td>\n",
       "      <td>None</td>\n",
       "      <td>8.0</td>\n",
       "      <td>Find the expectation \\( \\mathbb{E}[X_t] \\) whe...</td>\n",
       "      <td>0</td>\n",
       "      <td>None</td>\n",
       "      <td>None</td>\n",
       "      <td>Baiklah, saya perlu mencari jangkaan \\( \\mathb...</td>\n",
       "    </tr>\n",
       "    <tr>\n",
       "      <th>1</th>\n",
       "      <td>None</td>\n",
       "      <td>None</td>\n",
       "      <td>None</td>\n",
       "      <td>8.0</td>\n",
       "      <td>Determine the limit of \\( \\frac{\\pi(x)}{x} \\) ...</td>\n",
       "      <td>0</td>\n",
       "      <td>None</td>\n",
       "      <td>None</td>\n",
       "      <td>Baiklah, jadi saya mempunyai masalah ini: tent...</td>\n",
       "    </tr>\n",
       "    <tr>\n",
       "      <th>2</th>\n",
       "      <td>None</td>\n",
       "      <td>None</td>\n",
       "      <td>None</td>\n",
       "      <td>8.0</td>\n",
       "      <td>Consider a sequence $(r_n)$ resulting from inf...</td>\n",
       "      <td>1</td>\n",
       "      <td>None</td>\n",
       "      <td>None</td>\n",
       "      <td>Jadi saya ada masalah di sini tentang flipping...</td>\n",
       "    </tr>\n",
       "    <tr>\n",
       "      <th>3</th>\n",
       "      <td>None</td>\n",
       "      <td>None</td>\n",
       "      <td>None</td>\n",
       "      <td>7.5</td>\n",
       "      <td>Verify that for \\(n = 2^kN\\), where \\(N\\) is o...</td>\n",
       "      <td>0</td>\n",
       "      <td>None</td>\n",
       "      <td>None</td>\n",
       "      <td>Okay, saya perlu mengesahkan identiti ini untu...</td>\n",
       "    </tr>\n",
       "    <tr>\n",
       "      <th>4</th>\n",
       "      <td>None</td>\n",
       "      <td>None</td>\n",
       "      <td>None</td>\n",
       "      <td>8.0</td>\n",
       "      <td>Let $E \\subset \\mathbb{C}$ be a set such that ...</td>\n",
       "      <td>Yes</td>\n",
       "      <td>None</td>\n",
       "      <td>None</td>\n",
       "      <td>Jadi saya mempunyai masalah ini di sini. Ia be...</td>\n",
       "    </tr>\n",
       "  </tbody>\n",
       "</table>\n",
       "</div>"
      ],
      "text/plain": [
       "     id  slug title difficulty  \\\n",
       "0  None  None  None        8.0   \n",
       "1  None  None  None        8.0   \n",
       "2  None  None  None        8.0   \n",
       "3  None  None  None        7.5   \n",
       "4  None  None  None        8.0   \n",
       "\n",
       "                                             content solution language  \\\n",
       "0  Find the expectation \\( \\mathbb{E}[X_t] \\) whe...        0     None   \n",
       "1  Determine the limit of \\( \\frac{\\pi(x)}{x} \\) ...        0     None   \n",
       "2  Consider a sequence $(r_n)$ resulting from inf...        1     None   \n",
       "3  Verify that for \\(n = 2^kN\\), where \\(N\\) is o...        0     None   \n",
       "4  Let $E \\subset \\mathbb{C}$ be a set such that ...      Yes     None   \n",
       "\n",
       "  english                                              malay  \n",
       "0    None  Baiklah, saya perlu mencari jangkaan \\( \\mathb...  \n",
       "1    None  Baiklah, jadi saya mempunyai masalah ini: tent...  \n",
       "2    None  Jadi saya ada masalah di sini tentang flipping...  \n",
       "3    None  Okay, saya perlu mengesahkan identiti ini untu...  \n",
       "4    None  Jadi saya mempunyai masalah ini di sini. Ia be...  "
      ]
     },
     "execution_count": 16,
     "metadata": {},
     "output_type": "execute_result"
    }
   ],
   "source": [
    "df = pd.read_parquet('reasoning/data/deepmath-00000-of-00001.parquet')\n",
    "df.head()"
   ]
  },
  {
   "cell_type": "code",
   "execution_count": 17,
   "id": "aed8b11c",
   "metadata": {},
   "outputs": [
    {
     "data": {
      "text/plain": [
       "25526"
      ]
     },
     "execution_count": 17,
     "metadata": {},
     "output_type": "execute_result"
    }
   ],
   "source": [
    "for i in range(len(df)):\n",
    "    if df.iloc[i]['english'] is not None:\n",
    "        system = reasoning_en\n",
    "        content = df.iloc[i]['english']\n",
    "    else:\n",
    "        system = reasoning_ms\n",
    "        content = df.iloc[i]['malay']\n",
    "    \n",
    "    instructions.append([\n",
    "        {'role': 'system', 'content': system},\n",
    "        {'role': 'user', 'content': df.iloc[i]['content'].replace('\\xa0', ' ')},\n",
    "        {'role': 'assistant', 'content': content}\n",
    "    ])\n",
    "    \n",
    "len(instructions)"
   ]
  },
  {
   "cell_type": "code",
   "execution_count": 18,
   "id": "ff6aa0a8",
   "metadata": {
    "scrolled": true
   },
   "outputs": [
    {
     "data": {
      "text/html": [
       "<div>\n",
       "<style scoped>\n",
       "    .dataframe tbody tr th:only-of-type {\n",
       "        vertical-align: middle;\n",
       "    }\n",
       "\n",
       "    .dataframe tbody tr th {\n",
       "        vertical-align: top;\n",
       "    }\n",
       "\n",
       "    .dataframe thead th {\n",
       "        text-align: right;\n",
       "    }\n",
       "</style>\n",
       "<table border=\"1\" class=\"dataframe\">\n",
       "  <thead>\n",
       "    <tr style=\"text-align: right;\">\n",
       "      <th></th>\n",
       "      <th>content</th>\n",
       "      <th>solution</th>\n",
       "      <th>language</th>\n",
       "      <th>malay</th>\n",
       "    </tr>\n",
       "  </thead>\n",
       "  <tbody>\n",
       "    <tr>\n",
       "      <th>0</th>\n",
       "      <td>Budak Usen tu maseh kolop lagi.</td>\n",
       "      <td>Budak Hussein itu masih belum bersunat.</td>\n",
       "      <td>johor</td>\n",
       "      <td>Bagus. Sekarang mari kita lakukan penerjemahan...</td>\n",
       "    </tr>\n",
       "    <tr>\n",
       "      <th>1</th>\n",
       "      <td>Sampai ati nasik belantok tu kau suruh aku makan.</td>\n",
       "      <td>Sampai hati nasi yang sudah tersimpan lama itu...</td>\n",
       "      <td>johor</td>\n",
       "      <td>Baguslah. Mari kita jalankan proses **analisis...</td>\n",
       "    </tr>\n",
       "    <tr>\n",
       "      <th>2</th>\n",
       "      <td>Punyele bincau Mak Cik Jenab, tak sempat kawan...</td>\n",
       "      <td>Punyalah becok Mak Cik Zainab, tidak sempat sa...</td>\n",
       "      <td>johor</td>\n",
       "      <td>Baguslah. Kali ini kita akan melakukan penerje...</td>\n",
       "    </tr>\n",
       "    <tr>\n",
       "      <th>3</th>\n",
       "      <td>Salah siket gandang bunyi mulotnye.</td>\n",
       "      <td>Salah sedikit sahaja, riuh rendah dan bising b...</td>\n",
       "      <td>johor</td>\n",
       "      <td>Okay. Biar saya jelaskan dengan **panjang leba...</td>\n",
       "    </tr>\n",
       "    <tr>\n",
       "      <th>4</th>\n",
       "      <td>Layat siket dageng lembu tu, boleh kite baka.</td>\n",
       "      <td>Hiriskan sedikit daging lembu itu supaya boleh...</td>\n",
       "      <td>johor</td>\n",
       "      <td>Bagus. Mari kita lakukan analisis ini secara *...</td>\n",
       "    </tr>\n",
       "  </tbody>\n",
       "</table>\n",
       "</div>"
      ],
      "text/plain": [
       "                                             content  \\\n",
       "0                    Budak Usen tu maseh kolop lagi.   \n",
       "1  Sampai ati nasik belantok tu kau suruh aku makan.   \n",
       "2  Punyele bincau Mak Cik Jenab, tak sempat kawan...   \n",
       "3                Salah siket gandang bunyi mulotnye.   \n",
       "4      Layat siket dageng lembu tu, boleh kite baka.   \n",
       "\n",
       "                                            solution language  \\\n",
       "0            Budak Hussein itu masih belum bersunat.    johor   \n",
       "1  Sampai hati nasi yang sudah tersimpan lama itu...    johor   \n",
       "2  Punyalah becok Mak Cik Zainab, tidak sempat sa...    johor   \n",
       "3  Salah sedikit sahaja, riuh rendah dan bising b...    johor   \n",
       "4  Hiriskan sedikit daging lembu itu supaya boleh...    johor   \n",
       "\n",
       "                                               malay  \n",
       "0  Bagus. Sekarang mari kita lakukan penerjemahan...  \n",
       "1  Baguslah. Mari kita jalankan proses **analisis...  \n",
       "2  Baguslah. Kali ini kita akan melakukan penerje...  \n",
       "3  Okay. Biar saya jelaskan dengan **panjang leba...  \n",
       "4  Bagus. Mari kita lakukan analisis ini secara *...  "
      ]
     },
     "execution_count": 18,
     "metadata": {},
     "output_type": "execute_result"
    }
   ],
   "source": [
    "df = pd.read_parquet('dialect_translation_train-00000-of-00001.parquet')\n",
    "df.head()"
   ]
  },
  {
   "cell_type": "code",
   "execution_count": 19,
   "id": "9036d515",
   "metadata": {},
   "outputs": [
    {
     "data": {
      "text/plain": [
       "[{'role': 'system',\n",
       "  'content': 'You are going to enter reasoning mode, first you try to think step-by-step in malay after that give the final answer.'},\n",
       " {'role': 'user',\n",
       "  'content': 'Besok aku perari sawah die.\\n\\nterjemah ke melayu baku'},\n",
       " {'role': 'assistant',\n",
       "  'content': 'Okay. Biar saya jelaskan **dengan lebih panjang dan terperinci**, langkah demi langkah, seperti yang diminta:\\n\\n## **Teks Dialek Asal:**\\n\\n**\"Besok aku perari sawah die.\"**\\n\\n## **Pendekatan Analitikal Untuk Penterjemahan Ayat Dialek**\\n\\n### **Objektif**\\n\\nPenerbitan analitikal bertujuan untuk **memahami dan mentafsir** maksud serta **menyampaikan kembali** ayat dialek Melaka ke dalam **Bahasa Melayu Standard (BMS)** dengan tepat dan mengekalkan makna asalnya. Ini bukan hanya penterjemahan literal tetapi juga penerjemahan **konteks** dan **nada**.\\n\\n### **Langkah 1: Identifikasi Dialek dan Fungsi Ayat**\\n\\nAyat ini ditulis dalam **dialek Melaka**, sebuah varian Bahasa Melayu yang digunakan di negeri Melaka. Fungsi ayat ini adalah untuk memberi **maklumat atau janji** tentang aktiviti yang akan dilakukan esok, khususnya berkenaan dengan kerja gotong-royong di sawah milik orang lain.\\n\\n### **Langkah 2: Pemahaman Kata-Kata dan Struktur Ayat**\\n\\nMari kita pecahkan ayat ini kepada komponennya:\\n\\n1. **Besok** - Kala masa yang merujuk kepada hari selepas hari ini.\\n2. **Aku** - Kata ganti nama diri pertama tunggal.\\n3. **Perari** - Kata kerja yang merujuk kepada kerja beramai-ramai atau gotong-royong.\\n4. **Sawah** - Tanaman padi.\\n5. **Die** - Dialek Melaka untuk \"dia\" (pihak ketiga tunggal).\\n\\n### **Langkah 3: Tafsiran Literal**\\n\\nTafsiran literal setiap perkataan:\\n\\n- Besok = Esok\\n- Aku = Aku\\n- Perari = Gotong-royong\\n- Sawah = Sawah\\n- Die = Dia\\n\\nJika disusun secara literal:\\n\\n\"Esok aku gotong-royong sawah dia.\"\\n\\n### **Langkah 4: Tafsiran Kontekstual**\\n\\nTafsiran kontekstual membawa kita ke pemahaman yang lebih mendalam tentang apa yang dimaksudkan oleh ayat ini:\\n\\n- **Gotong-royong**: Ini merujuk kepada amalan kerjasama dalam masyarakat Melayu, di mana ahli masyarakat membantu satu sama lain dalam tugas-tugas yang berat, seperti bekerja di sawah.\\n- **Sawah dia**: Ini bermaksud sawah milik orang lain (bukan milik penutur), dan penutur bercadang untuk membantu di sawah tersebut.\\n\\nJadi, ayat ini bermaksud penutur akan membantu dalam kerja sawah milik orang lain melalui gotong-royong pada hari esok.\\n\\n### **Langkah 5: Penerapan Prinsip Penterjemahan**\\n\\nDalam penterjemahan, kami perlu memastikan bahawa:\\n\\n- **Makna dikekalkan**: Penterjemahan harus menyampaikan maksud asal dengan tepat.\\n- **Konteks dihormati**: Gaya dan nuansa budaya yang ada dalam ayat dialek harus dihormati dan dicerminkan.\\n- **Bahasa BMS dipatuhi**: Ayat terjemahan harus mematuhi tatabahasa dan norma bahasa dalam Bahasa Melayu Standard.\\n\\n### **Langkah 6: Pembinaan Ayat Terjemahan**\\n\\nBerdasarkan prinsip-prinsip di atas, ayat terjemahan yang paling sesuai adalah:\\n\\n> **\"Esok aku bergotong-royong di sawahnya.\"**\\n\\n#### **Penjelasan:**\\n\\n- **\"Esok\"**: Dikekalkan sebagai rujukan masa.\\n- **\"aku\"**: Dikekalkan sebagai subjek.\\n- **\"bergotong-royong\"**: Frasa kerja yang lebih lengkap untuk \"perari\" dalam BMS.\\n- **\"di sawahnya\"**: Menggunakan kata ganti nama diri \"sawahnya\" untuk merujuk kepada sawah milik orang lain, mengekalkan makna \"sawah die\" dalam dialek.\\n\\n#### **Alternatif Terjemahan:**\\n\\n- **\"Esok aku akan bergotong-royong di ladang padi dia.\"**\\n- **\"Esok aku akan tolong kerja di sawah dia.\"**\\n- **\"Esok aku akan turut berkerjasama di ladang padi dia.\"**\\n\\nSemua alternatif ini menghormati konteks budaya dan maksud asal, tetapi ayat pertama lebih ringkas dan mengekalkan intonasi asal.\\n\\n### **Langkah 7: Pemeriksaan Semantik dan Pragmatik**\\n\\nMemastikan bahawa:\\n\\n- **Semantik**: Makna tiada kehilangan atau penambahan yang tidak relevan.\\n- **Pragmatik**: Nada dan tujuan komunikasi dikekalkan.\\n\\n### **Kesimpulan**\\n\\nPenerjemahan ayat **\"Besok aku perari sawah die.\"** ke dalam Bahasa Melayu Standard yang paling tepat dan efektif adalah **\"Esok aku bergotong-royong di sawahnya.\"** Ayat ini menghormati makna asal, struktur tatabahasa BMS, dan mengekalkan nuansa kerjasama sosial yang penting dalam masyarakat Melayu.\\n\\n**Jawapan Akhir**\\n\\n$boxed{Esok aku bergotong-royong di sawahnya.}$.'}]"
      ]
     },
     "execution_count": 19,
     "metadata": {},
     "output_type": "execute_result"
    }
   ],
   "source": [
    "import random\n",
    "\n",
    "melayu = [\n",
    "    'standard malay',\n",
    "    'melayu baku',\n",
    "    'standard melayu',\n",
    "]\n",
    "\n",
    "for i in range(len(df)):\n",
    "    \n",
    "    instructions.append([\n",
    "        {'role': 'system', 'content': reasoning_ms},\n",
    "        {'role': 'user', 'content': df.iloc[i]['content'] + f\"\\n\\nterjemah ke {random.choice(melayu)}\"},\n",
    "        {'role': 'assistant', 'content': df.iloc[i]['malay']}\n",
    "    ])\n",
    "    \n",
    "instructions[-1]"
   ]
  },
  {
   "cell_type": "code",
   "execution_count": 20,
   "id": "a2101dd1",
   "metadata": {},
   "outputs": [
    {
     "data": {
      "text/html": [
       "<div>\n",
       "<style scoped>\n",
       "    .dataframe tbody tr th:only-of-type {\n",
       "        vertical-align: middle;\n",
       "    }\n",
       "\n",
       "    .dataframe tbody tr th {\n",
       "        vertical-align: top;\n",
       "    }\n",
       "\n",
       "    .dataframe thead th {\n",
       "        text-align: right;\n",
       "    }\n",
       "</style>\n",
       "<table border=\"1\" class=\"dataframe\">\n",
       "  <thead>\n",
       "    <tr style=\"text-align: right;\">\n",
       "      <th></th>\n",
       "      <th>content</th>\n",
       "      <th>solution</th>\n",
       "      <th>language</th>\n",
       "      <th>malay</th>\n",
       "    </tr>\n",
       "  </thead>\n",
       "  <tbody>\n",
       "    <tr>\n",
       "      <th>0</th>\n",
       "      <td>Dia demam biasa sahaja, belum demam kuat.</td>\n",
       "      <td>Demam biyase aje, belom melintap.</td>\n",
       "      <td>johor</td>\n",
       "      <td>Baik, saya akan jelaskan dengan sangat terperi...</td>\n",
       "    </tr>\n",
       "    <tr>\n",
       "      <th>1</th>\n",
       "      <td>Apabila dapur ini sudah dibesarkan, nampaklah ...</td>\n",
       "      <td>Bile dah tambah dapo ni, nampaklah besibo ruma...</td>\n",
       "      <td>johor</td>\n",
       "      <td>Baik, saya akan menerangkan dengan sangat terp...</td>\n",
       "    </tr>\n",
       "    <tr>\n",
       "      <th>2</th>\n",
       "      <td>Hendak menyambut maulud nabi ni, kita berpakat...</td>\n",
       "      <td>Nak nyambut mawlud nabi ni, kite pakat-pakat t...</td>\n",
       "      <td>johor</td>\n",
       "      <td>Baik, saya akan menjelaskan secara terperinci ...</td>\n",
       "    </tr>\n",
       "    <tr>\n",
       "      <th>3</th>\n",
       "      <td>Habis buah limau itu, setelah pokok dipanjat b...</td>\n",
       "      <td>Gedi buah limau tu, panjat di budak.</td>\n",
       "      <td>johor</td>\n",
       "      <td>Baiklah, saya akan menjelaskan secara terperin...</td>\n",
       "    </tr>\n",
       "    <tr>\n",
       "      <th>4</th>\n",
       "      <td>Sia-sia sahaja kita ke sana sebab dia tidak ke...</td>\n",
       "      <td>Handa saje kite ke sane, tak nampak muke pon die.</td>\n",
       "      <td>johor</td>\n",
       "      <td>Baik, saya akan menjelaskan dengan sangat terp...</td>\n",
       "    </tr>\n",
       "  </tbody>\n",
       "</table>\n",
       "</div>"
      ],
      "text/plain": [
       "                                             content  \\\n",
       "0          Dia demam biasa sahaja, belum demam kuat.   \n",
       "1  Apabila dapur ini sudah dibesarkan, nampaklah ...   \n",
       "2  Hendak menyambut maulud nabi ni, kita berpakat...   \n",
       "3  Habis buah limau itu, setelah pokok dipanjat b...   \n",
       "4  Sia-sia sahaja kita ke sana sebab dia tidak ke...   \n",
       "\n",
       "                                            solution language  \\\n",
       "0                  Demam biyase aje, belom melintap.    johor   \n",
       "1  Bile dah tambah dapo ni, nampaklah besibo ruma...    johor   \n",
       "2  Nak nyambut mawlud nabi ni, kite pakat-pakat t...    johor   \n",
       "3               Gedi buah limau tu, panjat di budak.    johor   \n",
       "4  Handa saje kite ke sane, tak nampak muke pon die.    johor   \n",
       "\n",
       "                                               malay  \n",
       "0  Baik, saya akan jelaskan dengan sangat terperi...  \n",
       "1  Baik, saya akan menerangkan dengan sangat terp...  \n",
       "2  Baik, saya akan menjelaskan secara terperinci ...  \n",
       "3  Baiklah, saya akan menjelaskan secara terperin...  \n",
       "4  Baik, saya akan menjelaskan dengan sangat terp...  "
      ]
     },
     "execution_count": 20,
     "metadata": {},
     "output_type": "execute_result"
    }
   ],
   "source": [
    "df = pd.read_parquet('reverse_dialect_translation_train-00000-of-00001.parquet')\n",
    "df.head()"
   ]
  },
  {
   "cell_type": "code",
   "execution_count": 21,
   "id": "ec6550af",
   "metadata": {},
   "outputs": [
    {
     "data": {
      "text/plain": [
       "[{'role': 'system',\n",
       "  'content': 'You are going to enter reasoning mode, first you try to think step-by-step in malay after that give the final answer.'},\n",
       " {'role': 'user',\n",
       "  'content': 'Lama tidak hujan, perigi kering kontang.\\n\\nterjemah ke melaka'},\n",
       " {'role': 'assistant',\n",
       "  'content': 'Baiklah, saya akan terangkan langkah demi langkah yang sangat terperinci dan panjang bagaimana ayat Bahasa Melayu standard **\"Lama tidak hujan, perigi kering kontang.\"** diterjemahkan ke dalam dialek Melaka. Saya akan menguraikan setiap perkataan, perubahan bunyi, struktur ayat, dan makna budaya supaya anda dapat memahami proses transformasi ayat ini dengan sangat mendalam.\\n\\n## Ayat Standard yang Diberikan:\\n\\n**Lama tidak hujan, perigi kering kontang.**\\n\\nMaksud ayat ini adalah: Sudah lama tidak turun hujan, jadi perigi air menjadi sangat kering.\\n\\n## Langkah 1: Memahami Konteks dan Maksud Ayat Standard\\n\\nAyat ini menggambarkan keadaan kekurangan air yang disebabkan oleh kurang hujan dalam tempoh masa yang lama. Keadaan ini boleh membawa kesan negatif kepada bekalan air, terutamanya bagi mereka yang bergantung kepada perigi atau telaga untuk bekalan air.\\n\\n## Langkah 2: Penukaran Kata-kata Individu\\n\\n### **Lama** -> **Lame**\\n\\n* **Lama** dalam Bahasa Melayu standard bermaksud \"lama waktu\" atau \"tempoh masa yang lama\".\\n* Dalam dialek Melaka, perkataan \"lama\" diucapkan sebagai **\"lame\"**, dengan penghapusan bunyi \\'a\\' akhir yang biasa berlaku dalam dialek Melaka.\\n* **Fonologi**: Pengguguran bunyi vokal akhir \\'a\\' menjadi \\'e\\' adalah ciri khas dalam dialek Melaka.\\n* **Makna**: Tidak berubah dari segi makna, tetapi perubahan bunyi mencerminkan ciri-ciri sebutan dialek Melaka.\\n\\n### **Tidak hujan** -> **Tak ujan**\\n\\n* **Tidak** dalam Bahasa Melayu standard bermaksud \"tidak\".\\n* Dalam dialek Melaka, \"tidak\" menjadi **\"tak\"**.\\n* **Hujan** diucapkan sebagai **\"ujan\"** dalam dialek Melaka.\\n* **Makna**: \"Tak ujan\" dalam dialek Melaka bermaksud \"tidak hujan\".\\n* **Fonologi**: Perubahan bunyi \\'t\\' ke \\'k\\' dalam \"tidak\" adalah ciri khas dialek Melaka.\\n\\n### **Perigi** -> **Pigi**\\n\\n* **Perigi** dalam Bahasa Melayu standard merujuk kepada tempat menampung air, seperti telaga.\\n* Dalam dialek Melaka, \"perigi\" menjadi **\"pigi\"**.\\n* **Fonologi**: Penggantian bunyi \\'r\\' ke \\'g\\' adalah perubahan yang biasa berlaku dalam dialek Melaka.\\n* **Makna**: \"Pigi\" dalam dialek Melaka bermaksud \"perigi\" atau \"telaga\".\\n\\n### **Kering** -> **Kohot**\\n\\n* **Kering** dalam Bahasa Melayu standard bermaksud \"tidak basah\" atau \"kurang air\".\\n* Dalam dialek Melaka, \"kering\" menjadi **\"kohot\"**.\\n* **Fonologi**: Penggantian bunyi \\'r\\' ke \\'t\\' dan penghapusan bunyi \\'i\\' akhir.\\n* **Makna**: \"Kohot\" dalam dialek Melaka bermaksud \"kering\".\\n* **Budaya**: Dalam konteks dialek Melaka, \"kohot\" bukan sekadar kering, tetapi menunjukkan keadaan yang sangat kering, seolah-olah tiada air sekali pun.\\n\\n### **Kontang** -> **Kontang**\\n\\n* **Kontang** dalam Bahasa Melayu standard bermaksud \"seolah-olah habis\", \"seolah-olah kosong\".\\n* Dalam dialek Melaka, perkataan ini tetap menjadi **\"kontang\"**.\\n* **Fonologi**: Tiada perubahan fonologi yang ketara.\\n* **Makna**: \"Kontang\" dalam dialek Melaka bermaksud sama seperti dalam BM standard, iaitu \"seolah-olah habis\" atau \"seolah-olah kosong\".\\n\\n## Langkah 3: Pemilihan Partikel Dialek\\n\\n### **Kereng**\\n\\n* Dalam dialek Melaka, \"perigi\" atau \"telaga\" sering disebut sebagai **\"kereng\"**.\\n* **Makna**: \"Kereng\" dalam dialek Melaka bermaksud \"perigi\" atau \"telaga\".\\n* **Fonologi**: Perubahan bunyi \\'p\\' ke \\'k\\', dan penghapusan bunyi \\'r\\' dan \\'i\\'.\\n\\n## Langkah 4: Penyusunan Ayat Dialek Melaka\\n\\nSetelah semua perkataan individu ditukar kepada bentuk dialek Melaka, kita boleh menyusun semula ayat tersebut:\\n\\n**\"Lame tak ujan, kereng kohot.\"**\\n\\n### **Penjelasan Struktur Ayat**\\n\\n* **Lame tak ujan**:\\n\\n  * **Lame** -> \"lama\" (tempoh masa yang lama)\\n  * **Tak ujan** -> \"tidak hujan\"\\n\\n  * Ini merupakan klausa pertama yang menyatakan keadaan cuaca yang tidak bertukar-tukar dalam tempoh masa yang lama.\\n\\n* **Kereng kohot**:\\n\\n  * **Kereng** -> \"perigi\" (telaga atau tempat menampung air)\\n  * **Kohot** -> \"kering\" (tidak berair)\\n\\n  * Ini merupakan klausa kedua yang menjelaskan kesan daripada keadaan cuaca tersebut.\\n\\n## Langkah 5: Analisis Fonologi dan Struktur Bahasa\\n\\n### **Fonologi:**\\n\\n* **Penggantian bunyi:**\\n\\n  * \\'t\\' -> \\'k\\' (contohnya, \"tidak\" -> \"tak\")\\n  * \\'r\\' -> \\'g\\' (contohnya, \"perigi\" -> \"pigi\")\\n  * \\'r\\' -> \\'t\\' (contohnya, \"kering\" -> \"kohot\")\\n\\n* **Penghapusan bunyi:**\\n\\n  * Penghapusan vokal akhir \\'a\\' menjadi \\'e\\' (contohnya, \"lama\" -> \"lame\")\\n  * Penghapusan vokal akhir \\'i\\' dalam sesetengah perkataan (contohnya, \"kering\" -> \"kohot\")\\n\\n### **Struktur Bahasa:**\\n\\n* Struktur ayat dikekalkan dengan dua klausa yang saling berkaitan:\\n\\n  * Klausa pertama: Menyatakan sebab (lama tidak hujan).\\n  * Klausa kedua: Menyatakan akibat (perigi kering).\\n\\n## Langkah 6: Nilai Budaya dan Emosi yang Tersirat\\n\\nDalam dialek Melaka, terdapat beberapa nilai budaya dan emosi yang tersirat dalam penggunaan perkataan tertentu:\\n\\n* **Kereng**: Istilah ini bukan sahaja merujuk kepada perigi tetapi juga mengandungi makna yang lebih luas, merangkumi tempat-tempat menampung air yang lain. Penggunaannya mencerminkan hubungan erat masyarakat Melaka dengan sumber air.\\n* **Kohot**: Selain merujuk kepada keadaan kering, perkataan ini juga membawa konotasi negatif, menunjukkan kekurangan sumber air yang serius dan mungkin menyebabkan kesukaran dalam kehidupan seharian.\\n\\n## Langkah 7: Definisi Terperinci Perkataan Dialek Penting\\n\\n| **Perkataan Dialek** | **Makna**                                                  |\\n| -------------------- | ---------------------------------------------------------- |\\n| **Lame**              | Lama, dalam konteks masa yang panjang                      |\\n| **Tak ujan**          | Tidak hujan, cuaca kering                                 |\\n| **Kereng**            | Perigi, telaga, tempat menampung air                    |\\n| **Kohot**             | Kering, tidak berair                                      |\\n\\n## Penutup: Transformasi dari Standard ke Dialek Melaka\\n\\nProses menterjemahkan ayat standard ke dialek Melaka melibatkan:\\n\\n1. Penukaran setiap perkataan kepada bentuk dialek yang sesuai.\\n2. Perubahan bunyi dan ejaan mengikut ciri fonologi dialek Melaka.\\n3. Penyesuaian struktur ayat untuk memastikan ia terdengar semula jadi dalam bahasa dialek.\\n4. Memahami nuansa dan makna tambahan yang terdapat dalam perkataan dialek tertentu.\\n\\nDengan melakukan transformasi ini, ayat tersebut menjadi lebih relevan dan akrab kepada penutur dialek Melaka, sambil mengekalkan makna asalnya.\\n\\n**Jawapan Akhir**\\n\\n$boxed{Lame tak ujan, kereng kohot.}$.'}]"
      ]
     },
     "execution_count": 21,
     "metadata": {},
     "output_type": "execute_result"
    }
   ],
   "source": [
    "for i in range(len(df)):\n",
    "    \n",
    "    instructions.append([\n",
    "        {'role': 'system', 'content': reasoning_ms},\n",
    "        {'role': 'user', 'content': df.iloc[i]['content'] + f\"\\n\\nterjemah ke {df.iloc[i]['language']}\"},\n",
    "        {'role': 'assistant', 'content': df.iloc[i]['malay']}\n",
    "    ])\n",
    "    \n",
    "instructions[-1]"
   ]
  },
  {
   "cell_type": "code",
   "execution_count": 22,
   "id": "556c7fc1",
   "metadata": {
    "scrolled": true
   },
   "outputs": [
    {
     "data": {
      "text/html": [
       "<div>\n",
       "<style scoped>\n",
       "    .dataframe tbody tr th:only-of-type {\n",
       "        vertical-align: middle;\n",
       "    }\n",
       "\n",
       "    .dataframe tbody tr th {\n",
       "        vertical-align: top;\n",
       "    }\n",
       "\n",
       "    .dataframe thead th {\n",
       "        text-align: right;\n",
       "    }\n",
       "</style>\n",
       "<table border=\"1\" class=\"dataframe\">\n",
       "  <thead>\n",
       "    <tr style=\"text-align: right;\">\n",
       "      <th></th>\n",
       "      <th>id</th>\n",
       "      <th>slug</th>\n",
       "      <th>title</th>\n",
       "      <th>difficulty</th>\n",
       "      <th>content</th>\n",
       "      <th>solution</th>\n",
       "      <th>language</th>\n",
       "      <th>english</th>\n",
       "      <th>malay</th>\n",
       "    </tr>\n",
       "  </thead>\n",
       "  <tbody>\n",
       "    <tr>\n",
       "      <th>0</th>\n",
       "      <td>1568</td>\n",
       "      <td>minimum-number-of-days-to-disconnect-island</td>\n",
       "      <td>Minimum Number of Days to Disconnect Island</td>\n",
       "      <td>Hard</td>\n",
       "      <td>You are given an `m x n` binary grid `grid` wh...</td>\n",
       "      <td>```python\\ndef pseudoPalindromicPaths(root, cn...</td>\n",
       "      <td>python</td>\n",
       "      <td>Alright, so I've got this problem here about a...</td>\n",
       "      <td>Baiklah, jadi saya mempunyai masalah ini di si...</td>\n",
       "    </tr>\n",
       "    <tr>\n",
       "      <th>1</th>\n",
       "      <td>1714</td>\n",
       "      <td>sum-of-special-evenly-spaced-elements-in-array</td>\n",
       "      <td>Sum Of Special Evenly-Spaced Elements In Array</td>\n",
       "      <td>Hard</td>\n",
       "      <td>You are given a **0-indexed** integer array `n...</td>\n",
       "      <td>```javascript\\nfunction reorderSpaces(text) {\\...</td>\n",
       "      <td>javascript</td>\n",
       "      <td>Alright, I've got this problem here. So, I hav...</td>\n",
       "      <td>Baiklah, saya ada masalah ini di sini. Jadi, s...</td>\n",
       "    </tr>\n",
       "    <tr>\n",
       "      <th>2</th>\n",
       "      <td>1326</td>\n",
       "      <td>minimum-number-of-taps-to-open-to-water-a-garden</td>\n",
       "      <td>Minimum Number of Taps to Open to Water a Garden</td>\n",
       "      <td>Hard</td>\n",
       "      <td>There is a one-dimensional garden on the x-axi...</td>\n",
       "      <td>```javascript\\nfunction sumOfFlooredPairs(nums...</td>\n",
       "      <td>javascript</td>\n",
       "      <td>Alright, I've got this problem about watering ...</td>\n",
       "      <td>Baiklah, saya mempunyai masalah ini tentang me...</td>\n",
       "    </tr>\n",
       "    <tr>\n",
       "      <th>3</th>\n",
       "      <td>656</td>\n",
       "      <td>coin-path</td>\n",
       "      <td>Coin Path</td>\n",
       "      <td>Hard</td>\n",
       "      <td>You are given an integer array `coins` (**1-in...</td>\n",
       "      <td>```cpp\\n#include &lt;vector&gt;\\n#include &lt;queue&gt;\\n#...</td>\n",
       "      <td>c++</td>\n",
       "      <td>Alright, I've got this problem here. Let's see...</td>\n",
       "      <td>Baiklah, saya mempunyai masalah ini di sini. M...</td>\n",
       "    </tr>\n",
       "    <tr>\n",
       "      <th>4</th>\n",
       "      <td>410</td>\n",
       "      <td>split-array-largest-sum</td>\n",
       "      <td>Split Array Largest Sum</td>\n",
       "      <td>Hard</td>\n",
       "      <td>Given an integer array `nums` and an integer `...</td>\n",
       "      <td>```python\\ndef splitArray(nums, m):\\n    left,...</td>\n",
       "      <td>python</td>\n",
       "      <td>Alright, so I've got this problem here. I need...</td>\n",
       "      <td>Baiklah, jadi saya mempunyai masalah ini di si...</td>\n",
       "    </tr>\n",
       "  </tbody>\n",
       "</table>\n",
       "</div>"
      ],
      "text/plain": [
       "     id                                              slug  \\\n",
       "0  1568       minimum-number-of-days-to-disconnect-island   \n",
       "1  1714    sum-of-special-evenly-spaced-elements-in-array   \n",
       "2  1326  minimum-number-of-taps-to-open-to-water-a-garden   \n",
       "3   656                                         coin-path   \n",
       "4   410                           split-array-largest-sum   \n",
       "\n",
       "                                              title difficulty  \\\n",
       "0       Minimum Number of Days to Disconnect Island       Hard   \n",
       "1    Sum Of Special Evenly-Spaced Elements In Array       Hard   \n",
       "2  Minimum Number of Taps to Open to Water a Garden       Hard   \n",
       "3                                         Coin Path       Hard   \n",
       "4                           Split Array Largest Sum       Hard   \n",
       "\n",
       "                                             content  \\\n",
       "0  You are given an `m x n` binary grid `grid` wh...   \n",
       "1  You are given a **0-indexed** integer array `n...   \n",
       "2  There is a one-dimensional garden on the x-axi...   \n",
       "3  You are given an integer array `coins` (**1-in...   \n",
       "4  Given an integer array `nums` and an integer `...   \n",
       "\n",
       "                                            solution    language  \\\n",
       "0  ```python\\ndef pseudoPalindromicPaths(root, cn...      python   \n",
       "1  ```javascript\\nfunction reorderSpaces(text) {\\...  javascript   \n",
       "2  ```javascript\\nfunction sumOfFlooredPairs(nums...  javascript   \n",
       "3  ```cpp\\n#include <vector>\\n#include <queue>\\n#...         c++   \n",
       "4  ```python\\ndef splitArray(nums, m):\\n    left,...      python   \n",
       "\n",
       "                                             english  \\\n",
       "0  Alright, so I've got this problem here about a...   \n",
       "1  Alright, I've got this problem here. So, I hav...   \n",
       "2  Alright, I've got this problem about watering ...   \n",
       "3  Alright, I've got this problem here. Let's see...   \n",
       "4  Alright, so I've got this problem here. I need...   \n",
       "\n",
       "                                               malay  \n",
       "0  Baiklah, jadi saya mempunyai masalah ini di si...  \n",
       "1  Baiklah, saya ada masalah ini di sini. Jadi, s...  \n",
       "2  Baiklah, saya mempunyai masalah ini tentang me...  \n",
       "3  Baiklah, saya mempunyai masalah ini di sini. M...  \n",
       "4  Baiklah, jadi saya mempunyai masalah ini di si...  "
      ]
     },
     "execution_count": 22,
     "metadata": {},
     "output_type": "execute_result"
    }
   ],
   "source": [
    "df = pd.read_parquet('reasoning/data/leetcode_hard-00000-of-00001.parquet')\n",
    "df.head()"
   ]
  },
  {
   "cell_type": "code",
   "execution_count": 23,
   "id": "5ebb5986",
   "metadata": {},
   "outputs": [
    {
     "data": {
      "text/plain": [
       "37636"
      ]
     },
     "execution_count": 23,
     "metadata": {},
     "output_type": "execute_result"
    }
   ],
   "source": [
    "for i in range(len(df)):\n",
    "    instructions.append([\n",
    "        {'role': 'system', 'content': reasoning_en},\n",
    "        {'role': 'user', 'content': df.iloc[i]['content'] + f\"\\n\\nsolve the problem using {df.iloc[i]['language']}\"},\n",
    "        {'role': 'assistant', 'content': df.iloc[i]['english']}\n",
    "    ])\n",
    "    \n",
    "    instructions.append([\n",
    "        {'role': 'system', 'content': reasoning_ms},\n",
    "        {'role': 'user', 'content': df.iloc[i]['content'] + f\"\\n\\nsolve the problem using {df.iloc[i]['language']}\"},\n",
    "        {'role': 'assistant', 'content': df.iloc[i]['malay']}\n",
    "    ])\n",
    "    \n",
    "len(instructions)"
   ]
  },
  {
   "cell_type": "code",
   "execution_count": 24,
   "id": "50c8cdab",
   "metadata": {},
   "outputs": [
    {
     "data": {
      "text/html": [
       "<div>\n",
       "<style scoped>\n",
       "    .dataframe tbody tr th:only-of-type {\n",
       "        vertical-align: middle;\n",
       "    }\n",
       "\n",
       "    .dataframe tbody tr th {\n",
       "        vertical-align: top;\n",
       "    }\n",
       "\n",
       "    .dataframe thead th {\n",
       "        text-align: right;\n",
       "    }\n",
       "</style>\n",
       "<table border=\"1\" class=\"dataframe\">\n",
       "  <thead>\n",
       "    <tr style=\"text-align: right;\">\n",
       "      <th></th>\n",
       "      <th>id</th>\n",
       "      <th>slug</th>\n",
       "      <th>title</th>\n",
       "      <th>difficulty</th>\n",
       "      <th>content</th>\n",
       "      <th>solution</th>\n",
       "      <th>language</th>\n",
       "      <th>english</th>\n",
       "      <th>malay</th>\n",
       "    </tr>\n",
       "  </thead>\n",
       "  <tbody>\n",
       "    <tr>\n",
       "      <th>0</th>\n",
       "      <td>None</td>\n",
       "      <td>None</td>\n",
       "      <td>None</td>\n",
       "      <td>None</td>\n",
       "      <td>Manakah antara berikut merupakan catatan kontr...</td>\n",
       "      <td>A</td>\n",
       "      <td>None</td>\n",
       "      <td>None</td>\n",
       "      <td>Sebagai penjawab, saya akan menjawab soalan in...</td>\n",
       "    </tr>\n",
       "    <tr>\n",
       "      <th>1</th>\n",
       "      <td>None</td>\n",
       "      <td>None</td>\n",
       "      <td>None</td>\n",
       "      <td>None</td>\n",
       "      <td>Berikut adalah amalan perekodan perakaunan Zai...</td>\n",
       "      <td>D</td>\n",
       "      <td>None</td>\n",
       "      <td>None</td>\n",
       "      <td>Soalan ini berkaitan dengan amalan perekodan p...</td>\n",
       "    </tr>\n",
       "    <tr>\n",
       "      <th>2</th>\n",
       "      <td>None</td>\n",
       "      <td>None</td>\n",
       "      <td>None</td>\n",
       "      <td>None</td>\n",
       "      <td>Urus niaga manakah direkodkan di dalam Jurnal ...</td>\n",
       "      <td>A</td>\n",
       "      <td>None</td>\n",
       "      <td>None</td>\n",
       "      <td>Urus niaga yang dicatat dalam Jurnal Am adalah...</td>\n",
       "    </tr>\n",
       "    <tr>\n",
       "      <th>3</th>\n",
       "      <td>None</td>\n",
       "      <td>None</td>\n",
       "      <td>None</td>\n",
       "      <td>None</td>\n",
       "      <td>Berikut adalah maklumat yang diperoleh daripad...</td>\n",
       "      <td>B</td>\n",
       "      <td>None</td>\n",
       "      <td>None</td>\n",
       "      <td>Maklumat yang diberikan berkaitan dengan Dana ...</td>\n",
       "    </tr>\n",
       "    <tr>\n",
       "      <th>4</th>\n",
       "      <td>None</td>\n",
       "      <td>None</td>\n",
       "      <td>None</td>\n",
       "      <td>None</td>\n",
       "      <td>Manakah yang berikut merupakan akaun nyata?\\n\\...</td>\n",
       "      <td>B</td>\n",
       "      <td>None</td>\n",
       "      <td>None</td>\n",
       "      <td>Soalan ini bertanyakan tentang jenis-jenis aka...</td>\n",
       "    </tr>\n",
       "  </tbody>\n",
       "</table>\n",
       "</div>"
      ],
      "text/plain": [
       "     id  slug title difficulty  \\\n",
       "0  None  None  None       None   \n",
       "1  None  None  None       None   \n",
       "2  None  None  None       None   \n",
       "3  None  None  None       None   \n",
       "4  None  None  None       None   \n",
       "\n",
       "                                             content solution language  \\\n",
       "0  Manakah antara berikut merupakan catatan kontr...        A     None   \n",
       "1  Berikut adalah amalan perekodan perakaunan Zai...        D     None   \n",
       "2  Urus niaga manakah direkodkan di dalam Jurnal ...        A     None   \n",
       "3  Berikut adalah maklumat yang diperoleh daripad...        B     None   \n",
       "4  Manakah yang berikut merupakan akaun nyata?\\n\\...        B     None   \n",
       "\n",
       "  english                                              malay  \n",
       "0    None  Sebagai penjawab, saya akan menjawab soalan in...  \n",
       "1    None  Soalan ini berkaitan dengan amalan perekodan p...  \n",
       "2    None  Urus niaga yang dicatat dalam Jurnal Am adalah...  \n",
       "3    None  Maklumat yang diberikan berkaitan dengan Dana ...  \n",
       "4    None  Soalan ini bertanyakan tentang jenis-jenis aka...  "
      ]
     },
     "execution_count": 24,
     "metadata": {},
     "output_type": "execute_result"
    }
   ],
   "source": [
    "df = pd.read_parquet('reasoning/data/mallm-00000-of-00001.parquet')\n",
    "df.head()"
   ]
  },
  {
   "cell_type": "code",
   "execution_count": 25,
   "id": "c07ad364",
   "metadata": {},
   "outputs": [
    {
     "data": {
      "text/plain": [
       "44246"
      ]
     },
     "execution_count": 25,
     "metadata": {},
     "output_type": "execute_result"
    }
   ],
   "source": [
    "for i in range(len(df)):\n",
    "    q = df.iloc[i]['content']\n",
    "    \n",
    "    instructions.append([\n",
    "        {'role': 'system', 'content': reasoning_ms},\n",
    "        {'role': 'user', 'content': q},\n",
    "        {'role': 'assistant', 'content': df.iloc[i]['malay']}\n",
    "    ])\n",
    "    \n",
    "len(instructions)"
   ]
  },
  {
   "cell_type": "code",
   "execution_count": 26,
   "id": "845572c5",
   "metadata": {},
   "outputs": [
    {
     "data": {
      "text/html": [
       "<div>\n",
       "<style scoped>\n",
       "    .dataframe tbody tr th:only-of-type {\n",
       "        vertical-align: middle;\n",
       "    }\n",
       "\n",
       "    .dataframe tbody tr th {\n",
       "        vertical-align: top;\n",
       "    }\n",
       "\n",
       "    .dataframe thead th {\n",
       "        text-align: right;\n",
       "    }\n",
       "</style>\n",
       "<table border=\"1\" class=\"dataframe\">\n",
       "  <thead>\n",
       "    <tr style=\"text-align: right;\">\n",
       "      <th></th>\n",
       "      <th>id</th>\n",
       "      <th>slug</th>\n",
       "      <th>title</th>\n",
       "      <th>difficulty</th>\n",
       "      <th>content</th>\n",
       "      <th>solution</th>\n",
       "      <th>language</th>\n",
       "      <th>english</th>\n",
       "      <th>malay</th>\n",
       "    </tr>\n",
       "  </thead>\n",
       "  <tbody>\n",
       "    <tr>\n",
       "      <th>0</th>\n",
       "      <td>None</td>\n",
       "      <td>None</td>\n",
       "      <td>None</td>\n",
       "      <td>None</td>\n",
       "      <td>Isi tempat kosong dengan jawapan yang paling s...</td>\n",
       "      <td>B</td>\n",
       "      <td>None</td>\n",
       "      <td>None</td>\n",
       "      <td>Pertama, mari kita lihat ayat ini dengan lebih...</td>\n",
       "    </tr>\n",
       "    <tr>\n",
       "      <th>1</th>\n",
       "      <td>None</td>\n",
       "      <td>None</td>\n",
       "      <td>None</td>\n",
       "      <td>None</td>\n",
       "      <td>Isi tempat kosong dengan jawapan yang paling s...</td>\n",
       "      <td>C</td>\n",
       "      <td>None</td>\n",
       "      <td>None</td>\n",
       "      <td>Amran ditawarkan sejumlah wang yang besar untu...</td>\n",
       "    </tr>\n",
       "    <tr>\n",
       "      <th>2</th>\n",
       "      <td>None</td>\n",
       "      <td>None</td>\n",
       "      <td>None</td>\n",
       "      <td>None</td>\n",
       "      <td>Isi tempat kosong dengan jawapan yang paling s...</td>\n",
       "      <td>D</td>\n",
       "      <td>None</td>\n",
       "      <td>None</td>\n",
       "      <td>Soalan ini meminta kita mengisi tempat kosong ...</td>\n",
       "    </tr>\n",
       "    <tr>\n",
       "      <th>3</th>\n",
       "      <td>None</td>\n",
       "      <td>None</td>\n",
       "      <td>None</td>\n",
       "      <td>None</td>\n",
       "      <td>Isi tempat kosong dengan pekataan berimbuhan y...</td>\n",
       "      <td>D</td>\n",
       "      <td>None</td>\n",
       "      <td>None</td>\n",
       "      <td>Soalan ini meminta saya untuk memilih pekataan...</td>\n",
       "    </tr>\n",
       "    <tr>\n",
       "      <th>4</th>\n",
       "      <td>None</td>\n",
       "      <td>None</td>\n",
       "      <td>None</td>\n",
       "      <td>None</td>\n",
       "      <td>Isi tempat kosong dalam ayat-ayat di bawah den...</td>\n",
       "      <td>A</td>\n",
       "      <td>None</td>\n",
       "      <td>None</td>\n",
       "      <td>Penolong Kanan Hal Ehwal Murid terpaksa melaku...</td>\n",
       "    </tr>\n",
       "  </tbody>\n",
       "</table>\n",
       "</div>"
      ],
      "text/plain": [
       "     id  slug title difficulty  \\\n",
       "0  None  None  None       None   \n",
       "1  None  None  None       None   \n",
       "2  None  None  None       None   \n",
       "3  None  None  None       None   \n",
       "4  None  None  None       None   \n",
       "\n",
       "                                             content solution language  \\\n",
       "0  Isi tempat kosong dengan jawapan yang paling s...        B     None   \n",
       "1  Isi tempat kosong dengan jawapan yang paling s...        C     None   \n",
       "2  Isi tempat kosong dengan jawapan yang paling s...        D     None   \n",
       "3  Isi tempat kosong dengan pekataan berimbuhan y...        D     None   \n",
       "4  Isi tempat kosong dalam ayat-ayat di bawah den...        A     None   \n",
       "\n",
       "  english                                              malay  \n",
       "0    None  Pertama, mari kita lihat ayat ini dengan lebih...  \n",
       "1    None  Amran ditawarkan sejumlah wang yang besar untu...  \n",
       "2    None  Soalan ini meminta kita mengisi tempat kosong ...  \n",
       "3    None  Soalan ini meminta saya untuk memilih pekataan...  \n",
       "4    None  Penolong Kanan Hal Ehwal Murid terpaksa melaku...  "
      ]
     },
     "execution_count": 26,
     "metadata": {},
     "output_type": "execute_result"
    }
   ],
   "source": [
    "df = pd.read_parquet('reasoning/data/tatabahasa-00000-of-00001.parquet')\n",
    "df.head()"
   ]
  },
  {
   "cell_type": "code",
   "execution_count": 27,
   "id": "8897c9f8",
   "metadata": {},
   "outputs": [
    {
     "data": {
      "text/plain": [
       "45605"
      ]
     },
     "execution_count": 27,
     "metadata": {},
     "output_type": "execute_result"
    }
   ],
   "source": [
    "for i in range(len(df)):\n",
    "    \n",
    "    instructions.append([\n",
    "        {'role': 'system', 'content': reasoning_ms},\n",
    "        {'role': 'user', 'content': df.iloc[i]['content']},\n",
    "        {'role': 'assistant', 'content': df.iloc[i]['malay']}\n",
    "    ])\n",
    "    \n",
    "len(instructions)"
   ]
  },
  {
   "cell_type": "code",
   "execution_count": 28,
   "id": "f0f82fb7",
   "metadata": {},
   "outputs": [
    {
     "data": {
      "text/html": [
       "<div>\n",
       "<style scoped>\n",
       "    .dataframe tbody tr th:only-of-type {\n",
       "        vertical-align: middle;\n",
       "    }\n",
       "\n",
       "    .dataframe tbody tr th {\n",
       "        vertical-align: top;\n",
       "    }\n",
       "\n",
       "    .dataframe thead th {\n",
       "        text-align: right;\n",
       "    }\n",
       "</style>\n",
       "<table border=\"1\" class=\"dataframe\">\n",
       "  <thead>\n",
       "    <tr style=\"text-align: right;\">\n",
       "      <th></th>\n",
       "      <th>content</th>\n",
       "      <th>malay</th>\n",
       "    </tr>\n",
       "  </thead>\n",
       "  <tbody>\n",
       "    <tr>\n",
       "      <th>0</th>\n",
       "      <td>Adakah benar syair “Tola’al Baru ‘Alaina” disy...</td>\n",
       "      <td>Alhamdulillah, puji dan syukur kepada Ilahi at...</td>\n",
       "    </tr>\n",
       "    <tr>\n",
       "      <th>1</th>\n",
       "      <td>Asslamualaikum Ustaz, Recently, my employer in...</td>\n",
       "      <td>If you know for certain that it is money, for ...</td>\n",
       "    </tr>\n",
       "    <tr>\n",
       "      <th>2</th>\n",
       "      <td>Assalamualaikum Dato’ Seri. Apa yang perlu say...</td>\n",
       "      <td>Waalaikumusslam  wbt.\\n\\nAlhamdulillah, segala...</td>\n",
       "    </tr>\n",
       "    <tr>\n",
       "      <th>3</th>\n",
       "      <td>Apakah hukum menggunakan duit biasasiswa pelaj...</td>\n",
       "      <td>Alhamdulillah, puji dan syukur kepada Ilahi at...</td>\n",
       "    </tr>\n",
       "    <tr>\n",
       "      <th>4</th>\n",
       "      <td>What is the ruling of using one’s scholarship ...</td>\n",
       "      <td>Alhamdulillah, praise and gratitude to Allah S...</td>\n",
       "    </tr>\n",
       "  </tbody>\n",
       "</table>\n",
       "</div>"
      ],
      "text/plain": [
       "                                             content  \\\n",
       "0  Adakah benar syair “Tola’al Baru ‘Alaina” disy...   \n",
       "1  Asslamualaikum Ustaz, Recently, my employer in...   \n",
       "2  Assalamualaikum Dato’ Seri. Apa yang perlu say...   \n",
       "3  Apakah hukum menggunakan duit biasasiswa pelaj...   \n",
       "4  What is the ruling of using one’s scholarship ...   \n",
       "\n",
       "                                               malay  \n",
       "0  Alhamdulillah, puji dan syukur kepada Ilahi at...  \n",
       "1  If you know for certain that it is money, for ...  \n",
       "2  Waalaikumusslam  wbt.\\n\\nAlhamdulillah, segala...  \n",
       "3  Alhamdulillah, puji dan syukur kepada Ilahi at...  \n",
       "4  Alhamdulillah, praise and gratitude to Allah S...  "
      ]
     },
     "execution_count": 28,
     "metadata": {},
     "output_type": "execute_result"
    }
   ],
   "source": [
    "df = pd.read_parquet('reasoning/data/maktabalbahri-00000-of-00001.parquet')\n",
    "df.head()"
   ]
  },
  {
   "cell_type": "code",
   "execution_count": 29,
   "id": "87b20e12",
   "metadata": {},
   "outputs": [],
   "source": [
    "from huggingface_hub import hf_hub_download\n",
    "import fasttext\n",
    "\n",
    "filename = hf_hub_download(\n",
    "    repo_id=\"mesolitica/fasttext-language-detection-bahasa-en\", \n",
    "    filename=\"fasttext.ftz\"\n",
    ")\n",
    "lang_model = fasttext.load_model(filename)"
   ]
  },
  {
   "cell_type": "code",
   "execution_count": 30,
   "id": "5c57d2cb",
   "metadata": {},
   "outputs": [
    {
     "data": {
      "text/plain": [
       "53084"
      ]
     },
     "execution_count": 30,
     "metadata": {},
     "output_type": "execute_result"
    }
   ],
   "source": [
    "for i in range(len(df)):\n",
    "    if lang_model.predict(df.iloc[i]['content'].replace('\\n', ' '))[0][0] == '__label__english':\n",
    "        system = reasoning_en\n",
    "    else:\n",
    "        system = reasoning_ms\n",
    "    \n",
    "    instructions.append([\n",
    "        {'role': 'system', 'content': system},\n",
    "        {'role': 'user', 'content': df.iloc[i]['content'].replace('\\xa0', ' ')},\n",
    "        {'role': 'assistant', 'content': df.iloc[i]['malay'].replace('\\xa0', ' ')}\n",
    "    ])\n",
    "    \n",
    "len(instructions)"
   ]
  },
  {
   "cell_type": "code",
   "execution_count": 31,
   "id": "6ed0513a",
   "metadata": {
    "scrolled": false
   },
   "outputs": [
    {
     "data": {
      "text/html": [
       "<div>\n",
       "<style scoped>\n",
       "    .dataframe tbody tr th:only-of-type {\n",
       "        vertical-align: middle;\n",
       "    }\n",
       "\n",
       "    .dataframe tbody tr th {\n",
       "        vertical-align: top;\n",
       "    }\n",
       "\n",
       "    .dataframe thead th {\n",
       "        text-align: right;\n",
       "    }\n",
       "</style>\n",
       "<table border=\"1\" class=\"dataframe\">\n",
       "  <thead>\n",
       "    <tr style=\"text-align: right;\">\n",
       "      <th></th>\n",
       "      <th>id</th>\n",
       "      <th>slug</th>\n",
       "      <th>title</th>\n",
       "      <th>difficulty</th>\n",
       "      <th>content</th>\n",
       "      <th>solution</th>\n",
       "      <th>language</th>\n",
       "      <th>english</th>\n",
       "      <th>malay</th>\n",
       "    </tr>\n",
       "  </thead>\n",
       "  <tbody>\n",
       "    <tr>\n",
       "      <th>0</th>\n",
       "      <td>None</td>\n",
       "      <td>None</td>\n",
       "      <td>None</td>\n",
       "      <td>None</td>\n",
       "      <td>Majikan seolah menjaga kebajikan kami dengan s...</td>\n",
       "      <td>The employer seems to take care of our well-be...</td>\n",
       "      <td>None</td>\n",
       "      <td>None</td>\n",
       "      <td>-- Okay, so this Malay sentence is quite strai...</td>\n",
       "    </tr>\n",
       "    <tr>\n",
       "      <th>1</th>\n",
       "      <td>None</td>\n",
       "      <td>None</td>\n",
       "      <td>None</td>\n",
       "      <td>None</td>\n",
       "      <td>Waktu nak berbuka belanja kfc makan dan sebaga...</td>\n",
       "      <td>When its time to break our fast, the employers...</td>\n",
       "      <td>None</td>\n",
       "      <td>None</td>\n",
       "      <td>Bagus, mari kita terokai ini secara berperingk...</td>\n",
       "    </tr>\n",
       "    <tr>\n",
       "      <th>2</th>\n",
       "      <td>None</td>\n",
       "      <td>None</td>\n",
       "      <td>None</td>\n",
       "      <td>None</td>\n",
       "      <td>Kami kemudian bekerja separuh mati setiap hari...</td>\n",
       "      <td>We then worked so hard every day in order to a...</td>\n",
       "      <td>None</td>\n",
       "      <td>None</td>\n",
       "      <td>Baguslah. Sekarang mari kita pecahkan ayat ini...</td>\n",
       "    </tr>\n",
       "    <tr>\n",
       "      <th>3</th>\n",
       "      <td>None</td>\n",
       "      <td>None</td>\n",
       "      <td>None</td>\n",
       "      <td>None</td>\n",
       "      <td>Bukan untuk membangga diri tetapi saya juga ti...</td>\n",
       "      <td>I'm not trying to brag, but I also made a lot ...</td>\n",
       "      <td>None</td>\n",
       "      <td>None</td>\n",
       "      <td>Okay, so I've got this Malay sentence here tha...</td>\n",
       "    </tr>\n",
       "    <tr>\n",
       "      <th>4</th>\n",
       "      <td>None</td>\n",
       "      <td>None</td>\n",
       "      <td>None</td>\n",
       "      <td>None</td>\n",
       "      <td>Itu pada awalnya.</td>\n",
       "      <td>That was on the beginning.</td>\n",
       "      <td>None</td>\n",
       "      <td>None</td>\n",
       "      <td>Okay, biar saya analisis langkah demi langkah ...</td>\n",
       "    </tr>\n",
       "  </tbody>\n",
       "</table>\n",
       "</div>"
      ],
      "text/plain": [
       "     id  slug title difficulty  \\\n",
       "0  None  None  None       None   \n",
       "1  None  None  None       None   \n",
       "2  None  None  None       None   \n",
       "3  None  None  None       None   \n",
       "4  None  None  None       None   \n",
       "\n",
       "                                             content  \\\n",
       "0  Majikan seolah menjaga kebajikan kami dengan s...   \n",
       "1  Waktu nak berbuka belanja kfc makan dan sebaga...   \n",
       "2  Kami kemudian bekerja separuh mati setiap hari...   \n",
       "3  Bukan untuk membangga diri tetapi saya juga ti...   \n",
       "4                                  Itu pada awalnya.   \n",
       "\n",
       "                                            solution language english  \\\n",
       "0  The employer seems to take care of our well-be...     None    None   \n",
       "1  When its time to break our fast, the employers...     None    None   \n",
       "2  We then worked so hard every day in order to a...     None    None   \n",
       "3  I'm not trying to brag, but I also made a lot ...     None    None   \n",
       "4                         That was on the beginning.     None    None   \n",
       "\n",
       "                                               malay  \n",
       "0  -- Okay, so this Malay sentence is quite strai...  \n",
       "1  Bagus, mari kita terokai ini secara berperingk...  \n",
       "2  Baguslah. Sekarang mari kita pecahkan ayat ini...  \n",
       "3  Okay, so I've got this Malay sentence here tha...  \n",
       "4  Okay, biar saya analisis langkah demi langkah ...  "
      ]
     },
     "execution_count": 31,
     "metadata": {},
     "output_type": "execute_result"
    }
   ],
   "source": [
    "df = pd.read_parquet('reasoning/data/iium_confession_translation-00000-of-00001.parquet')\n",
    "df.head()"
   ]
  },
  {
   "cell_type": "code",
   "execution_count": 32,
   "id": "2ff3aa8e",
   "metadata": {},
   "outputs": [
    {
     "data": {
      "text/plain": [
       "56065"
      ]
     },
     "execution_count": 32,
     "metadata": {},
     "output_type": "execute_result"
    }
   ],
   "source": [
    "english = [\n",
    "    'standard english',\n",
    "    'inggeris baku',\n",
    "    'standard inggeris',\n",
    "]\n",
    "\n",
    "for i in range(len(df)):\n",
    "    if lang_model.predict(df.iloc[i]['content'].replace('\\n', ' '))[0][0] == '__label__english':\n",
    "        system = reasoning_en\n",
    "    else:\n",
    "        system = reasoning_ms\n",
    "    \n",
    "    instructions.append([\n",
    "        {'role': 'system', 'content': system},\n",
    "        {'role': 'user', 'content': df.iloc[i]['content'] + f\"\\n\\nterjemah ke {random.choice(english)}\"},\n",
    "        {'role': 'assistant', 'content': df.iloc[i]['malay']}\n",
    "    ])\n",
    "    \n",
    "len(instructions)"
   ]
  },
  {
   "cell_type": "code",
   "execution_count": 33,
   "id": "fa83bdff",
   "metadata": {},
   "outputs": [
    {
     "data": {
      "text/plain": [
       "[{'role': 'system',\n",
       "  'content': 'You are going to enter reasoning mode, first you try to think step-by-step in malay after that give the final answer.'},\n",
       " {'role': 'user',\n",
       "  'content': 'Jadi malam tu aku tidur dengan pakcik aku.\\n\\nterjemah ke standard inggeris'},\n",
       " {'role': 'assistant',\n",
       "  'content': 'Okay, mari kita dekati ini langkah demi langkah. Ayat Melayu tempatan adalah:\\n\\n**\"Jadi malam tu aku tidur dengan pakcik aku.\"**\\n\\nMatlamat kami adalah untuk menukarnya menjadi Bahasa Inggeris standard yang natural, memastikan ia menghormati sensitiviti budaya dan norma-norma sosial yang berkaitan dengan hubungan kekeluargaan.\\n\\n## Langkah Demi Langkah: Terjemah Ayat Melayu Tempatan ke Bahasa Inggeris Standard\\n\\n### Langkah 1: Fahami Konteks dan Nada Ayat\\n\\nPertama, kita perlu memahami konteks di mana ayat ini digunakan. Ayat ini nampaknya merujuk kepada situasi di mana penutur tidur di rumah pakcik mereka, mungkin kerana mereka tinggal bersamanya atau kerana ada acara keluarga. Nada ayat ini neutral, hanya menyatakan fakta tanpa emosi tertentu.\\n\\n### Langkah 2: Kenalpasti Setiap Komponen Ayat\\n\\nAyat ini boleh dibahagi kepada beberapa bahagian untuk diproses satu persatu:\\n\\n1. \"Jadi\" - Ini merupakan kata penghubung yang digunakan dalam pertuturan untuk menghubungkan idea. Dalam konteks ini, ia bermaksud \"oleh itu\" atau \"jadi\".\\n\\n2. \"malam tu\" - Merujuk kepada malam tertentu yang telah dibincangkan sebelum ini.\\n\\n3. \"aku tidur\" - Perbuatan penutur tidur pada waktu tersebut.\\n\\n4. \"dengan pakcik aku\" - Pakcik ialah sepupu lelaki atau adik kepada salah seorang ibu bapa. Ayat ini menunjukkan bahawa penutur tidur di sisi atau berdekatan dengan pakcik mereka.\\n\\n### Langkah 3: Tukar Setiap Bahagian kepada Bahasa Melayu Standard\\n\\nMari kita tukar setiap komponen kepada Bahasa Melayu standard:\\n\\n1. \"Jadi\" -> \"Jadi\"\\n2. \"malam tu\" -> \"malam itu\"\\n3. \"aku tidur\" -> \"saya tidur\"\\n4. \"dengan pakcik aku\" -> \"bersama pakcik saya\"\\n\\n### Langkah 4: Gabungkan Semula dalam Bahasa Melayu Standard\\n\\nSelepas menukar setiap komponen, ayat dalam Bahasa Melayu standard menjadi:\\n\\n**\"Jadi, malam itu saya tidur bersama pakcik saya.\"**\\n\\nAyat ini sudah mematuhi peraturan tatabahasa Bahasa Melayu standard dan menggunakan kata ganti nama yang lebih sopan.\\n\\n### Langkah 5: Terjemah ke Bahasa Inggeris Standard\\n\\nKini kita akan menterjemah ayat Bahasa Melayu standard ke Bahasa Inggeris standard, memastikan bahawa terjemahan tidak menimbulkan salah faham atau melanggar norma budaya.\\n\\nBahagian demi bahagian:\\n\\n1. **\"Jadi, malam itu\"** -> \"So, that night\"\\n2. **\"saya tidur\"** -> \"I slept\"\\n3. **\"bersama pakcik saya\"** -> \"with my uncle\"\\n\\nGabungkan semua bahagian:\\n\\n**\"So, that night I slept with my uncle.\"**\\n\\nAyat ini dalam Bahasa Inggeris adalah lurus dan menghormati sensitiviti budaya, kerana \"with my uncle\" tidak mempunyai konotasi seksual apabila digunakan dalam konteks keluarga yang jelas.\\n\\n### Langkah 6: Pertimbangkan Alternatif atau Pengubahan Nada\\n\\nDalam beberapa konteks, mungkin perlu untuk membuat sedikit perubahan untuk menjadikan ayat itu lebih neutral atau mengelakkan sebarang salah faham yang mungkin berlaku, walaupun tidak diperlukan dalam kes ini. Sebagai contoh, jika terdapat risiko salah faham, kita boleh mengubah sedikit:\\n\\n**\"So, that night I stayed at my uncle\\'s place.\"**\\n\\nNamun, berdasarkan ayat asal, tidak perlu untuk melakukannya kerana konteks sudah jelas.\\n\\n### Kesimpulan\\n\\nTerjemahan akhir dari ayat Melayu tempatan \"Jadi malam tu aku tidur dengan pakcik aku\" ke dalam Bahasa Inggeris standard ialah:\\n\\n**\"So, that night I slept with my uncle.\"**\\n\\nAyat ini telah diterjemahkan dengan tepat, menghormati konteks budaya dan norma keluarga.\\n\\n**Jawapan Akhir**\\n\\n$boxed{So, that night I slept with my uncle.}$.'}]"
      ]
     },
     "execution_count": 33,
     "metadata": {},
     "output_type": "execute_result"
    }
   ],
   "source": [
    "instructions[-2]"
   ]
  },
  {
   "cell_type": "code",
   "execution_count": 34,
   "id": "b68bdcd3",
   "metadata": {},
   "outputs": [],
   "source": [
    "with open('combined-malaysian-reasoning.jsonl', 'w') as fopen:\n",
    "    for i in instructions:\n",
    "        fopen.write(f'{json.dumps(i)}\\n')"
   ]
  },
  {
   "cell_type": "code",
   "execution_count": 35,
   "id": "4fe1643b",
   "metadata": {},
   "outputs": [
    {
     "name": "stdout",
     "output_type": "stream",
     "text": [
      "-rw-rw-r-- 1 husein husein 757M Mei  25 15:00 combined-malaysian-reasoning.jsonl\r\n"
     ]
    }
   ],
   "source": [
    "!ls -lh combined-malaysian-reasoning.jsonl"
   ]
  },
  {
   "cell_type": "code",
   "execution_count": 37,
   "id": "bf9be121",
   "metadata": {},
   "outputs": [
    {
     "data": {
      "application/vnd.jupyter.widget-view+json": {
       "model_id": "38a08e5f975e4e4f93ca668a53841d35",
       "version_major": 2,
       "version_minor": 0
      },
      "text/plain": [
       "combined-malaysian-reasoning.jsonl:   0%|          | 0.00/793M [00:00<?, ?B/s]"
      ]
     },
     "metadata": {},
     "output_type": "display_data"
    },
    {
     "data": {
      "text/plain": [
       "CommitInfo(commit_url='https://huggingface.co/datasets/mesolitica/Malaysian-SFT/commit/53936ee51e7697eb8b8126ee2074c6030018c46d', commit_message='Upload combine/combined-malaysian-reasoning.jsonl with huggingface_hub', commit_description='', oid='53936ee51e7697eb8b8126ee2074c6030018c46d', pr_url=None, repo_url=RepoUrl('https://huggingface.co/datasets/mesolitica/Malaysian-SFT', endpoint='https://huggingface.co', repo_type='dataset', repo_id='mesolitica/Malaysian-SFT'), pr_revision=None, pr_num=None)"
      ]
     },
     "execution_count": 37,
     "metadata": {},
     "output_type": "execute_result"
    }
   ],
   "source": [
    "from huggingface_hub import HfApi\n",
    "api = HfApi()\n",
    "api.upload_file(\n",
    "    path_or_fileobj=\"combined-malaysian-reasoning.jsonl\",\n",
    "    path_in_repo=\"combine/combined-malaysian-reasoning.jsonl\",\n",
    "    repo_id=\"mesolitica/Malaysian-SFT\",\n",
    "    repo_type=\"dataset\",\n",
    ")"
   ]
  }
 ],
 "metadata": {
  "kernelspec": {
   "display_name": "python3.10",
   "language": "python",
   "name": "python3.10"
  },
  "language_info": {
   "codemirror_mode": {
    "name": "ipython",
    "version": 3
   },
   "file_extension": ".py",
   "mimetype": "text/x-python",
   "name": "python",
   "nbconvert_exporter": "python",
   "pygments_lexer": "ipython3",
   "version": "3.10.17"
  }
 },
 "nbformat": 4,
 "nbformat_minor": 5
}
