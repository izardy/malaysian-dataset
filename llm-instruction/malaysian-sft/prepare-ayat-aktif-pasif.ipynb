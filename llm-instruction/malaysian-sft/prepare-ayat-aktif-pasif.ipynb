{
 "cells": [
  {
   "cell_type": "code",
   "execution_count": 5,
   "id": "3aa317d4",
   "metadata": {},
   "outputs": [],
   "source": [
    "import json"
   ]
  },
  {
   "cell_type": "code",
   "execution_count": 6,
   "id": "b324c3f3",
   "metadata": {},
   "outputs": [
    {
     "data": {
      "text/plain": [
       "3028"
      ]
     },
     "execution_count": 6,
     "metadata": {},
     "output_type": "execute_result"
    }
   ],
   "source": [
    "data = []\n",
    "with open('prepared-ayat-aktif-ayat-pasif.jsonl') as fopen:\n",
    "    for l in fopen:\n",
    "        l = json.loads(l)\n",
    "        data.append(l)\n",
    "len(data)"
   ]
  },
  {
   "cell_type": "code",
   "execution_count": 7,
   "id": "07f1f13b",
   "metadata": {},
   "outputs": [
    {
     "data": {
      "text/html": [
       "<div>\n",
       "<style scoped>\n",
       "    .dataframe tbody tr th:only-of-type {\n",
       "        vertical-align: middle;\n",
       "    }\n",
       "\n",
       "    .dataframe tbody tr th {\n",
       "        vertical-align: top;\n",
       "    }\n",
       "\n",
       "    .dataframe thead th {\n",
       "        text-align: right;\n",
       "    }\n",
       "</style>\n",
       "<table border=\"1\" class=\"dataframe\">\n",
       "  <thead>\n",
       "    <tr style=\"text-align: right;\">\n",
       "      <th></th>\n",
       "      <th>prompt_input</th>\n",
       "      <th>input</th>\n",
       "      <th>output</th>\n",
       "    </tr>\n",
       "  </thead>\n",
       "  <tbody>\n",
       "    <tr>\n",
       "      <th>0</th>\n",
       "      <td>None</td>\n",
       "      <td>tukar ayat aktif ke ayat pasif: Encik Razak me...</td>\n",
       "      <td>Pelajar-pelajar diajar tentang kepentingan men...</td>\n",
       "    </tr>\n",
       "    <tr>\n",
       "      <th>1</th>\n",
       "      <td>None</td>\n",
       "      <td>tukar ayat pasif ke ayat aktif: Pelajar-pelaja...</td>\n",
       "      <td>Encik Razak mengajar pelajar-pelajar tentang k...</td>\n",
       "    </tr>\n",
       "    <tr>\n",
       "      <th>2</th>\n",
       "      <td>None</td>\n",
       "      <td>tukar ayat aktif ke ayat pasif: Ibu memasak na...</td>\n",
       "      <td>Nasi lemak dimasak oleh ibu untuk sarapan pagi.</td>\n",
       "    </tr>\n",
       "    <tr>\n",
       "      <th>3</th>\n",
       "      <td>None</td>\n",
       "      <td>tukar ayat pasif ke ayat aktif: Nasi lemak dim...</td>\n",
       "      <td>Ibu memasak nasi lemak untuk sarapan pagi.</td>\n",
       "    </tr>\n",
       "    <tr>\n",
       "      <th>4</th>\n",
       "      <td>None</td>\n",
       "      <td>tukar ayat aktif ke ayat pasif: Doktor Wong me...</td>\n",
       "      <td>Pesakit yang mengalami demam denggi dirawat ol...</td>\n",
       "    </tr>\n",
       "  </tbody>\n",
       "</table>\n",
       "</div>"
      ],
      "text/plain": [
       "  prompt_input                                              input  \\\n",
       "0         None  tukar ayat aktif ke ayat pasif: Encik Razak me...   \n",
       "1         None  tukar ayat pasif ke ayat aktif: Pelajar-pelaja...   \n",
       "2         None  tukar ayat aktif ke ayat pasif: Ibu memasak na...   \n",
       "3         None  tukar ayat pasif ke ayat aktif: Nasi lemak dim...   \n",
       "4         None  tukar ayat aktif ke ayat pasif: Doktor Wong me...   \n",
       "\n",
       "                                              output  \n",
       "0  Pelajar-pelajar diajar tentang kepentingan men...  \n",
       "1  Encik Razak mengajar pelajar-pelajar tentang k...  \n",
       "2    Nasi lemak dimasak oleh ibu untuk sarapan pagi.  \n",
       "3         Ibu memasak nasi lemak untuk sarapan pagi.  \n",
       "4  Pesakit yang mengalami demam denggi dirawat ol...  "
      ]
     },
     "execution_count": 7,
     "metadata": {},
     "output_type": "execute_result"
    }
   ],
   "source": [
    "import pandas as pd\n",
    "\n",
    "df = pd.DataFrame(data)\n",
    "df.head()"
   ]
  },
  {
   "cell_type": "code",
   "execution_count": 9,
   "id": "3ac4dd28",
   "metadata": {},
   "outputs": [],
   "source": [
    "df.to_parquet('prepared-ayat-aktif-pasif.parquet')"
   ]
  },
  {
   "cell_type": "code",
   "execution_count": null,
   "id": "f8a86df3",
   "metadata": {},
   "outputs": [
    {
     "data": {
      "application/vnd.jupyter.widget-view+json": {
       "model_id": "f2433aae587647199eb1297e6ea70400",
       "version_major": 2,
       "version_minor": 0
      },
      "text/plain": [
       "prepared-ayat-aktif-pasif.parquet:   0%|          | 0.00/171k [00:00<?, ?B/s]"
      ]
     },
     "metadata": {},
     "output_type": "display_data"
    }
   ],
   "source": [
    "from huggingface_hub import HfApi\n",
    "api = HfApi()\n",
    "\n",
    "api.upload_file(\n",
    "    path_or_fileobj=\"prepared-ayat-aktif-pasif.parquet\",\n",
    "    path_in_repo='data/ayat_aktif_pasif-00000-of-00001.parquet',\n",
    "    repo_id=\"mesolitica/Malaysian-SFT\",\n",
    "    repo_type=\"dataset\",\n",
    ")"
   ]
  },
  {
   "cell_type": "code",
   "execution_count": null,
   "id": "b566a8db",
   "metadata": {},
   "outputs": [],
   "source": []
  }
 ],
 "metadata": {
  "kernelspec": {
   "display_name": "python3.10",
   "language": "python",
   "name": "python3.10"
  },
  "language_info": {
   "codemirror_mode": {
    "name": "ipython",
    "version": 3
   },
   "file_extension": ".py",
   "mimetype": "text/x-python",
   "name": "python",
   "nbconvert_exporter": "python",
   "pygments_lexer": "ipython3",
   "version": "3.10.15"
  }
 },
 "nbformat": 4,
 "nbformat_minor": 5
}
