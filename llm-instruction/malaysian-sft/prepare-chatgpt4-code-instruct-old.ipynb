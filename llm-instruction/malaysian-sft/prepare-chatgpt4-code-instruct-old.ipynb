{
 "cells": [
  {
   "cell_type": "code",
   "execution_count": 1,
   "id": "e5b4d76a",
   "metadata": {},
   "outputs": [],
   "source": [
    "import json\n",
    "from glob import glob\n",
    "from unidecode import unidecode\n",
    "\n",
    "rejected_words = [\n",
    "    'kebutuhan',\n",
    "    'berbeda',\n",
    "    'bahwa',\n",
    "    'Kode',\n",
    "    'kode',\n",
    "    'nomor',\n",
    "    'RMXX,XXX',\n",
    "    'kompleksitas',\n",
    "    'listrik',\n",
    "    'jawaban',\n",
    "    'teknis',\n",
    "    'berkualitas',\n",
    "    'mencoba',\n",
    "    'kampanye',\n",
    "    'komunitas',\n",
    "    'stabilitas',\n",
    "    'Stabilitas',\n",
    "    'metode',\n",
    "    'pria',\n",
    "    'butuh',\n",
    "    'jadwal',\n",
    "    'kasus',\n",
    "    'otomatis',\n",
    "    'populer',\n",
    "    'bisnis',\n",
    "    'probabilitas',\n",
    "    'rusak',\n",
    "    'kapasitas',\n",
    "    'rutinitas',\n",
    "    'pertama-tama'\n",
    "]\n",
    "\n",
    "def found_word(s, words):\n",
    "    for i in range(len(words)):\n",
    "        if words[i] in s:\n",
    "            return True, words[i]\n",
    "    return False, None"
   ]
  },
  {
   "cell_type": "code",
   "execution_count": 2,
   "id": "e41accd5",
   "metadata": {},
   "outputs": [],
   "source": [
    "with open('prepare-chatgpt4-code-instruct.translate') as fopen:\n",
    "    mapping = json.load(fopen)"
   ]
  },
  {
   "cell_type": "code",
   "execution_count": 8,
   "id": "1a1931ae",
   "metadata": {},
   "outputs": [
    {
     "data": {
      "text/plain": [
       "43020"
      ]
     },
     "execution_count": 8,
     "metadata": {},
     "output_type": "execute_result"
    }
   ],
   "source": [
    "instructions = []\n",
    "with open('/home/husein/ssd3/instructions/synthetic-codealpaca-v1-chatgpt4.jsonl') as fopen:\n",
    "    for l in fopen:\n",
    "        l = json.loads(l)\n",
    "        q = l.get('instruction_ms')\n",
    "        if q is None:\n",
    "            q = l['instruction']\n",
    "        q = q.strip()\n",
    "        if not len(q):\n",
    "            continue\n",
    "        a = l.get('output_ms', l['output'])\n",
    "        if a is None:\n",
    "            continue\n",
    "        a = a.strip()\n",
    "        if not len(a):\n",
    "            continue\n",
    "            \n",
    "        a_ = mapping.get(l['output'])\n",
    "        if a_ is not None:\n",
    "            a = a_\n",
    "            \n",
    "        if '=====' in a:\n",
    "            continue\n",
    "\n",
    "        if '-----' in a:\n",
    "            continue\n",
    "        \n",
    "        if len(set(l['instruction_ms'].split())) < (len(set(l['instruction'].split())) / 2):\n",
    "            # print(l)\n",
    "            continue\n",
    "                \n",
    "        if len(set(l['output_ms'].split())) < (len(set(l['output'].split())) / 2):\n",
    "            # print(l)\n",
    "            continue\n",
    "                \n",
    "        d = {\n",
    "            'prompt_input': None,\n",
    "            'input': q,\n",
    "            'output': a,\n",
    "        }\n",
    "        instructions.append(d)\n",
    "        \n",
    "len(instructions)"
   ]
  },
  {
   "cell_type": "code",
   "execution_count": 9,
   "id": "92ab6361",
   "metadata": {},
   "outputs": [
    {
     "data": {
      "text/plain": [
       "{'prompt_input': None,\n",
       " 'input': \"Sila ubah skrip Python berikut supaya ia memasukkan pengulangan 'while' daripada pengulangan 'for' yang sedia ada, yang meneruskan melalui item-item dalam senarai integer.\\n\\nSkrip semasa mempunyai bug di mana ia cuba mencetak objek yang berada di luar had senarai. Betulkan ralat ini dan ubah skrip untuk menggunakan 'while' bukannya pengulangan 'for'. Pastikan skrip anda mengendalikan senarai kosong dengan betul.\\n\\n```python\\n  # Menetapkan senarai integer\\n  arr = [1, 2, 3, 4]\\n\\n  # Tentukan panjang senarai\\n  n = len(arr)\\n\\n  # Melalui senarai dan keluarkan setiap elemen individu\\n  for i in range(n+1):\\n      print(arr[i])\\n```\",\n",
       " 'output': 'Untuk mengubah skrip ini, kita Akkan menggunakan konsep pengulangan \\'while\\' dan memastikan indeks tidak melebihi panjang senarai. Selain itu, kita harus memastikan skrip kita mengendalikan senarai kosong dengan betul.\\n\\nBerikut adalah cara untuk mengubahnya:\\n\\n```python\\n  # Menetapkan senarai integer\\n  arr = [1, 2, 3, 4]\\n\\n  # Tentukan panjang senarai\\n  n = len(arr)\\n\\n  # Pastikan senarai tidak kosong\\n  if n > 0:\\n    i = 0\\n    # Melalui senarai dan keluarkan setiap elemen individu\\n    while i < n:\\n        print(arr[i])\\n        i += 1\\n  else:\\n    print(\"Senarai adalah kosong.\")\\n```\\n\\nDalam skrip ini, sebelum kita mula mengulangi, kita memeriksa sama ada `n`, yang merupakan panjang senarai, lebih besar daripada 0. Jika tidak (yang bermaksud senarai kosong), kita mencetak mesej yang sesuai.\\n\\nKemudian, kita menggunakan pengulangan \\'while\\' untuk mengulangi semasa indeks `i` kurang daripada panjang `n` senarai. Semasa setiap iterasi, kita mencetak elemen senarai dan menambahkan 1 ke indeks, supaya kita boleh bergerak ke elemen seterusnya pada iterasi seterusnya.\\n\\nIni akan mengelakkan ralat indeks, kerana kita tidak akan pernah mencuba mengakses indeks yang melebihi had senarai.'}"
      ]
     },
     "execution_count": 9,
     "metadata": {},
     "output_type": "execute_result"
    }
   ],
   "source": [
    "instructions[0]"
   ]
  },
  {
   "cell_type": "code",
   "execution_count": 10,
   "id": "c005eb5a",
   "metadata": {},
   "outputs": [],
   "source": [
    "with open('prepared-chatgpt4-code-instruct.jsonl', 'w') as fopen:\n",
    "    for d in instructions:\n",
    "        fopen.write(f'{json.dumps(d)}\\n')"
   ]
  }
 ],
 "metadata": {
  "kernelspec": {
   "display_name": "Python 3 (ipykernel)",
   "language": "python",
   "name": "python3"
  },
  "language_info": {
   "codemirror_mode": {
    "name": "ipython",
    "version": 3
   },
   "file_extension": ".py",
   "mimetype": "text/x-python",
   "name": "python",
   "nbconvert_exporter": "python",
   "pygments_lexer": "ipython3",
   "version": "3.8.10"
  }
 },
 "nbformat": 4,
 "nbformat_minor": 5
}
