{
 "cells": [
  {
   "cell_type": "code",
   "execution_count": 2,
   "id": "580f4f16",
   "metadata": {},
   "outputs": [],
   "source": [
    "# !wget https://huggingface.co/datasets/mesolitica/malaysian-safe-respond/resolve/main/data/train-00000-of-00001.parquet -O safe-respond.parquet"
   ]
  },
  {
   "cell_type": "code",
   "execution_count": 3,
   "id": "5f13e027",
   "metadata": {},
   "outputs": [
    {
     "data": {
      "text/html": [
       "<div>\n",
       "<style scoped>\n",
       "    .dataframe tbody tr th:only-of-type {\n",
       "        vertical-align: middle;\n",
       "    }\n",
       "\n",
       "    .dataframe tbody tr th {\n",
       "        vertical-align: top;\n",
       "    }\n",
       "\n",
       "    .dataframe thead th {\n",
       "        text-align: right;\n",
       "    }\n",
       "</style>\n",
       "<table border=\"1\" class=\"dataframe\">\n",
       "  <thead>\n",
       "    <tr style=\"text-align: right;\">\n",
       "      <th></th>\n",
       "      <th>text</th>\n",
       "      <th>label</th>\n",
       "      <th>respond</th>\n",
       "    </tr>\n",
       "  </thead>\n",
       "  <tbody>\n",
       "    <tr>\n",
       "      <th>0</th>\n",
       "      <td>Budak ni makan taik kali bodo sial babi baling...</td>\n",
       "      <td>harassment</td>\n",
       "      <td>Saya tidak dapat memahami sepenuhnya konteks p...</td>\n",
       "    </tr>\n",
       "    <tr>\n",
       "      <th>1</th>\n",
       "      <td>Nie yb ke babi</td>\n",
       "      <td>harassment</td>\n",
       "      <td>Kata-kata \"Nie yb ke babi\" adalah ungkapan yan...</td>\n",
       "    </tr>\n",
       "    <tr>\n",
       "      <th>2</th>\n",
       "      <td>Sebab depa x igt balas tuhan la deoa buat.. Ka...</td>\n",
       "      <td>religion insult</td>\n",
       "      <td>Saya faham bahawa anda ingin mengatakan bahawa...</td>\n",
       "    </tr>\n",
       "    <tr>\n",
       "      <th>3</th>\n",
       "      <td>Then, I fell into deep depression. When I sat ...</td>\n",
       "      <td>psychiatric or mental illness</td>\n",
       "      <td>Saya faham bahawa anda telah mengalami kesukar...</td>\n",
       "    </tr>\n",
       "    <tr>\n",
       "      <th>4</th>\n",
       "      <td>Kategori; Web pelakon prono; Pencarian; Tag; B...</td>\n",
       "      <td>porn</td>\n",
       "      <td>I'm here to help you with your request. I unde...</td>\n",
       "    </tr>\n",
       "    <tr>\n",
       "      <th>...</th>\n",
       "      <td>...</td>\n",
       "      <td>...</td>\n",
       "      <td>...</td>\n",
       "    </tr>\n",
       "    <tr>\n",
       "      <th>2594</th>\n",
       "      <td>Don't let your sadness consume you.. you might...</td>\n",
       "      <td>psychiatric or mental illness</td>\n",
       "      <td>Terima kasih atas perhatian dan kebimbangan an...</td>\n",
       "    </tr>\n",
       "    <tr>\n",
       "      <th>2595</th>\n",
       "      <td>Itu juga tujuan utama melayu wujudkan majlis p...</td>\n",
       "      <td>sexist</td>\n",
       "      <td>Terima kasih atas pandangan anda tentang majli...</td>\n",
       "    </tr>\n",
       "    <tr>\n",
       "      <th>2596</th>\n",
       "      <td>Dan aku sentiasa pangkah alasan2 bodoh dia ni ...</td>\n",
       "      <td>sexist</td>\n",
       "      <td>Kenyataan ini mengandungi elemen seksis yang t...</td>\n",
       "    </tr>\n",
       "    <tr>\n",
       "      <th>2597</th>\n",
       "      <td>Panas seks tiub koleksi - 279 Japanese in bedr...</td>\n",
       "      <td>porn</td>\n",
       "      <td>Maaf, saya tidak dapat membantu dengan permint...</td>\n",
       "    </tr>\n",
       "    <tr>\n",
       "      <th>2598</th>\n",
       "      <td>Uang babi sial</td>\n",
       "      <td>harassment</td>\n",
       "      <td>Saya tidak dapat menentukan dengan pasti sama ...</td>\n",
       "    </tr>\n",
       "  </tbody>\n",
       "</table>\n",
       "<p>2599 rows × 3 columns</p>\n",
       "</div>"
      ],
      "text/plain": [
       "                                                   text  \\\n",
       "0     Budak ni makan taik kali bodo sial babi baling...   \n",
       "1                                        Nie yb ke babi   \n",
       "2     Sebab depa x igt balas tuhan la deoa buat.. Ka...   \n",
       "3     Then, I fell into deep depression. When I sat ...   \n",
       "4     Kategori; Web pelakon prono; Pencarian; Tag; B...   \n",
       "...                                                 ...   \n",
       "2594  Don't let your sadness consume you.. you might...   \n",
       "2595  Itu juga tujuan utama melayu wujudkan majlis p...   \n",
       "2596  Dan aku sentiasa pangkah alasan2 bodoh dia ni ...   \n",
       "2597  Panas seks tiub koleksi - 279 Japanese in bedr...   \n",
       "2598                                     Uang babi sial   \n",
       "\n",
       "                              label  \\\n",
       "0                        harassment   \n",
       "1                        harassment   \n",
       "2                   religion insult   \n",
       "3     psychiatric or mental illness   \n",
       "4                              porn   \n",
       "...                             ...   \n",
       "2594  psychiatric or mental illness   \n",
       "2595                         sexist   \n",
       "2596                         sexist   \n",
       "2597                           porn   \n",
       "2598                     harassment   \n",
       "\n",
       "                                                respond  \n",
       "0     Saya tidak dapat memahami sepenuhnya konteks p...  \n",
       "1     Kata-kata \"Nie yb ke babi\" adalah ungkapan yan...  \n",
       "2     Saya faham bahawa anda ingin mengatakan bahawa...  \n",
       "3     Saya faham bahawa anda telah mengalami kesukar...  \n",
       "4     I'm here to help you with your request. I unde...  \n",
       "...                                                 ...  \n",
       "2594  Terima kasih atas perhatian dan kebimbangan an...  \n",
       "2595  Terima kasih atas pandangan anda tentang majli...  \n",
       "2596  Kenyataan ini mengandungi elemen seksis yang t...  \n",
       "2597  Maaf, saya tidak dapat membantu dengan permint...  \n",
       "2598  Saya tidak dapat menentukan dengan pasti sama ...  \n",
       "\n",
       "[2599 rows x 3 columns]"
      ]
     },
     "execution_count": 3,
     "metadata": {},
     "output_type": "execute_result"
    }
   ],
   "source": [
    "import pandas as pd\n",
    "\n",
    "df = pd.read_parquet('safe-respond.parquet')\n",
    "df"
   ]
  },
  {
   "cell_type": "code",
   "execution_count": 4,
   "id": "72e1cfb9",
   "metadata": {},
   "outputs": [
    {
     "data": {
      "text/plain": [
       "2599"
      ]
     },
     "execution_count": 4,
     "metadata": {},
     "output_type": "execute_result"
    }
   ],
   "source": [
    "data = []\n",
    "for i in range(len(df)):\n",
    "    data.append({\n",
    "        'prompt_input': None,\n",
    "        'input': df.iloc[i]['text'],\n",
    "        'output': df.iloc[i]['respond'],\n",
    "    })\n",
    "\n",
    "len(data)"
   ]
  },
  {
   "cell_type": "code",
   "execution_count": 5,
   "id": "6cd4157a",
   "metadata": {},
   "outputs": [
    {
     "data": {
      "text/plain": [
       "{'prompt_input': None,\n",
       " 'input': 'Budak ni makan taik kali bodo sial babi baling mercun kat kote dia',\n",
       " 'output': 'Saya tidak dapat memahami sepenuhnya konteks perbualan ini, tetapi saya boleh mengesyorkan bahawa menggunakan bahasa yang kasar dan menghina adalah tidak sesuai dalam sebarang situasi. Adalah penting untuk berkomunikasi dengan hormat dan menghormati orang lain. Jika anda mengalami masalah atau tekanan, saya menggalakkan anda untuk mendapatkan bantuan daripada sumber yang boleh dipercayai seperti keluarga, rakan atau profesional kesihatan mental.'}"
      ]
     },
     "execution_count": 5,
     "metadata": {},
     "output_type": "execute_result"
    }
   ],
   "source": [
    "data[0]"
   ]
  },
  {
   "cell_type": "code",
   "execution_count": 6,
   "id": "eb497dfa",
   "metadata": {},
   "outputs": [],
   "source": [
    "import pandas as pd\n",
    "\n",
    "pd.DataFrame(data).to_parquet('malaysian-safe-respond.parquet')"
   ]
  },
  {
   "cell_type": "code",
   "execution_count": 7,
   "id": "46abf1d0",
   "metadata": {
    "scrolled": true
   },
   "outputs": [
    {
     "data": {
      "application/vnd.jupyter.widget-view+json": {
       "model_id": "bef6788b7c85419b90c312a098c8c73f",
       "version_major": 2,
       "version_minor": 0
      },
      "text/plain": [
       "malaysian-safe-respond.parquet:   0%|          | 0.00/1.47M [00:00<?, ?B/s]"
      ]
     },
     "metadata": {},
     "output_type": "display_data"
    },
    {
     "data": {
      "text/plain": [
       "CommitInfo(commit_url='https://huggingface.co/datasets/mesolitica/Malaysian-SFT/commit/46fd874ea53d95e08063058743508285f94cdfaa', commit_message='Upload data/malaysian_safe_respond-00000-of-00001.parquet with huggingface_hub', commit_description='', oid='46fd874ea53d95e08063058743508285f94cdfaa', pr_url=None, repo_url=RepoUrl('https://huggingface.co/datasets/mesolitica/Malaysian-SFT', endpoint='https://huggingface.co', repo_type='dataset', repo_id='mesolitica/Malaysian-SFT'), pr_revision=None, pr_num=None)"
      ]
     },
     "execution_count": 7,
     "metadata": {},
     "output_type": "execute_result"
    }
   ],
   "source": [
    "from huggingface_hub import HfApi\n",
    "api = HfApi()\n",
    "\n",
    "api.upload_file(\n",
    "    path_or_fileobj=\"malaysian-safe-respond.parquet\",\n",
    "    path_in_repo='data/malaysian_safe_respond-00000-of-00001.parquet',\n",
    "    repo_id=\"mesolitica/Malaysian-SFT\",\n",
    "    repo_type=\"dataset\",\n",
    ")"
   ]
  }
 ],
 "metadata": {
  "kernelspec": {
   "display_name": "python3.10",
   "language": "python",
   "name": "python3.10"
  },
  "language_info": {
   "codemirror_mode": {
    "name": "ipython",
    "version": 3
   },
   "file_extension": ".py",
   "mimetype": "text/x-python",
   "name": "python",
   "nbconvert_exporter": "python",
   "pygments_lexer": "ipython3",
   "version": "3.10.15"
  }
 },
 "nbformat": 4,
 "nbformat_minor": 5
}
