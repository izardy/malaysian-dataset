{
 "cells": [
  {
   "cell_type": "code",
   "execution_count": 7,
   "id": "552e3f7c",
   "metadata": {},
   "outputs": [],
   "source": [
    "# !wget https://huggingface.co/datasets/mesolitica/synthetic-jawi-conversation/resolve/main/synthetic-jawi-conversation.jsonl"
   ]
  },
  {
   "cell_type": "code",
   "execution_count": 3,
   "id": "f9682444",
   "metadata": {},
   "outputs": [],
   "source": [
    "from malaysian_sft import accept as accept_fn\n",
    "import json\n",
    "import random\n",
    "from tqdm import tqdm\n",
    "from glob import glob"
   ]
  },
  {
   "cell_type": "code",
   "execution_count": 4,
   "id": "81a2f0ce",
   "metadata": {},
   "outputs": [],
   "source": [
    "system = [\n",
    "    'you are a chatbot that always reply in jawi',\n",
    "    'you are an assistant that always reply in jawi',\n",
    "    'awak adalah chatbot yang sentiasa respond dalam jawi',\n",
    "    'awak adalah pembantu AI yang reply in jawi',\n",
    "]\n",
    "\n",
    "roles = {\n",
    "    'user': '<manusia>',\n",
    "    'assistant': '<bot>'\n",
    "}"
   ]
  },
  {
   "cell_type": "code",
   "execution_count": 8,
   "id": "445f1fdd",
   "metadata": {},
   "outputs": [
    {
     "name": "stderr",
     "output_type": "stream",
     "text": [
      "509375it [00:33, 15117.83it/s]\n"
     ]
    }
   ],
   "source": [
    "instructions, rag = [], []\n",
    "\n",
    "with open('synthetic-jawi-conversation.jsonl') as fopen:\n",
    "    for l in tqdm(fopen):\n",
    "        l = json.loads(l)\n",
    "        if l[0]['role'] == 'context':\n",
    "            context = l[0]['content']\n",
    "            f = rag\n",
    "            i = 1\n",
    "        else:\n",
    "            context = ''\n",
    "            f = instructions\n",
    "            i = 0\n",
    "        \n",
    "        s = random.choice(system)\n",
    "        \n",
    "        a = []\n",
    "        \n",
    "        for no, i in enumerate(l[i:]):\n",
    "            if no == 0:\n",
    "                if len(context):\n",
    "                    t = f'{s}\\n\\n```{context}```'\n",
    "                else:\n",
    "                    t = f'{s}\\n\\n'\n",
    "            else:\n",
    "                t = ''\n",
    "                \n",
    "            if no % 2 == 0:\n",
    "                c = random.choice(['content_ms', 'content_jawi'])\n",
    "            else:\n",
    "                c = 'content_jawi'\n",
    "                \n",
    "            t = t + i[c]\n",
    "            role = roles[i['role']]\n",
    "            s = f\"{role}: {t}\"\n",
    "            a.append(s)\n",
    "        \n",
    "        if len(a) % 2 != 0:\n",
    "            a = a[:-1]\n",
    "        \n",
    "        f.append('\\n'.join(a))"
   ]
  },
  {
   "cell_type": "code",
   "execution_count": 10,
   "id": "a7f95d14",
   "metadata": {},
   "outputs": [
    {
     "data": {
      "text/plain": [
       "'<manusia>: awak adalah pembantu AI yang reply in jawi\\n\\nHello chatbot, apakah 2 tambah 2 sama?\\n<bot>: هيللو! جواڤنڽ اياله ٤.\\n<manusia>: Okay, bagaimana pula dengan 5 tambah 3?\\n<bot>: ايت سام دڠن ٨.\\n<manusia>: ماري چوبا يڠ لبيه سوكر. اڤ يڠ ١٠٠ دبهاڬيكن دڠن ٠؟\\n<bot>: ساي مينتا معاف، تتاڤي ڤمبهاڬين دڠن سيفر تيدق دتنتوكن دالم ماتماتيك.\\n<manusia>: Oh, saya terlupa tentang itu. Bagaimana pula dengan 2 hingga kuasa 1000?\\n<bot>: ثات ووالد ايقوال ١٠٧١٥٠٨٦٠٧١٨٦٢٦٧٣٢٠٩٤٨٤٢٥٠٤٩٠٦٠٠٠١٨١٠٥٦١٤٠٤٨١١٧٠٥٥٣٣٦٠٧٤٤٣٧٥٠٣٨٨٣١٠٦٦٥٥٥٥٢٣٢٣١٧٠٤٧٢٤٠٠٠٠٠٠٠٠٠٠٠٠٠.\\n<manusia>: Wah, baguslah awak! Okay, satu soalan terakhir. Apakah punca kuasa dua bagi-1?\\n<bot>: ڤونچا كواس دوا باڬي-١ اياله نومبور خيالن، دواكيلي سباڬاي ءاء دالم ماتماتيك.'"
      ]
     },
     "execution_count": 10,
     "metadata": {},
     "output_type": "execute_result"
    }
   ],
   "source": [
    "instructions[1]"
   ]
  },
  {
   "cell_type": "code",
   "execution_count": 11,
   "id": "3f550608",
   "metadata": {},
   "outputs": [],
   "source": [
    "filtered = []\n",
    "for f in instructions:\n",
    "    filtered.append({\n",
    "        'prompt_input': None,\n",
    "        'input': f,\n",
    "        'output': None,\n",
    "    })"
   ]
  },
  {
   "cell_type": "code",
   "execution_count": 12,
   "id": "f9da4e07",
   "metadata": {},
   "outputs": [],
   "source": [
    "import pandas as pd\n",
    "\n",
    "pd.DataFrame(filtered).to_parquet('prepared-force-jawi.parquet')"
   ]
  },
  {
   "cell_type": "code",
   "execution_count": null,
   "id": "f2f97d8b",
   "metadata": {},
   "outputs": [
    {
     "data": {
      "application/vnd.jupyter.widget-view+json": {
       "model_id": "a4cf5d7a952b40bfbf1044e6ba1ffe67",
       "version_major": 2,
       "version_minor": 0
      },
      "text/plain": [
       "prepared-force-jawi.parquet:   0%|          | 0.00/1.01G [00:00<?, ?B/s]"
      ]
     },
     "metadata": {},
     "output_type": "display_data"
    }
   ],
   "source": [
    "from huggingface_hub import HfApi\n",
    "api = HfApi()\n",
    "\n",
    "api.upload_file(\n",
    "    path_or_fileobj=\"prepared-force-jawi.parquet\",\n",
    "    path_in_repo='data/force_jawi-00000-of-00001.parquet',\n",
    "    repo_id=\"mesolitica/Malaysian-SFT\",\n",
    "    repo_type=\"dataset\",\n",
    ")"
   ]
  },
  {
   "cell_type": "code",
   "execution_count": null,
   "id": "d4022ae5",
   "metadata": {},
   "outputs": [],
   "source": []
  }
 ],
 "metadata": {
  "kernelspec": {
   "display_name": "python3.10",
   "language": "python",
   "name": "python3.10"
  },
  "language_info": {
   "codemirror_mode": {
    "name": "ipython",
    "version": 3
   },
   "file_extension": ".py",
   "mimetype": "text/x-python",
   "name": "python",
   "nbconvert_exporter": "python",
   "pygments_lexer": "ipython3",
   "version": "3.10.15"
  }
 },
 "nbformat": 4,
 "nbformat_minor": 5
}
