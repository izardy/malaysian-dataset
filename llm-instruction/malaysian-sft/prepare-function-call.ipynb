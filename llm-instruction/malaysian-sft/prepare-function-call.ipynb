{
 "cells": [
  {
   "cell_type": "code",
   "execution_count": 1,
   "id": "3b6bc027",
   "metadata": {},
   "outputs": [],
   "source": [
    "# !wget https://huggingface.co/datasets/mesolitica/chatgpt-malay-function-call/resolve/main/function-calls.jsonl\n",
    "# !wget https://huggingface.co/datasets/mesolitica/chatgpt-malay-function-call/resolve/main/function-calls-complex.jsonl"
   ]
  },
  {
   "cell_type": "code",
   "execution_count": 2,
   "id": "54f3111a",
   "metadata": {},
   "outputs": [],
   "source": [
    "from malaysian_sft import accept as accept_fn"
   ]
  },
  {
   "cell_type": "code",
   "execution_count": 3,
   "id": "37d57854",
   "metadata": {},
   "outputs": [],
   "source": [
    "break_at = [\n",
    "    'help.openai.com',\n",
    "    'openai',\n",
    "    'cannot have personal opinions',\n",
    "    's an ai language model',\n",
    "    \"i'm sorry\",\n",
    "    'many factors',\n",
    "    'gay',\n",
    "    'lgbt',\n",
    "    'lesbian',\n",
    "    'gender-neutral',\n",
    "    'remain neutral',\n",
    "    'without bias',\n",
    "    'and neutral',\n",
    "    'more inclusive',\n",
    "    'neutrality',\n",
    "    'non-bias',\n",
    "    'discrimination',\n",
    "    'avoid any forms of discrimination',\n",
    "    'regardless of their gender',\n",
    "    'inclusive and tolerant environment',\n",
    "    'have personal views',\n",
    "    'sexual orientation should be a top priority',\n",
    "    's an objective ai',\n",
    "    'avoid any forms of prejudice or hate',\n",
    "    'regardless of their personal',\n",
    "    'you understand this direction',\n",
    "    'tolerant environment within ai',\n",
    "    'cannot express my',\n",
    "    'requires more context',\n",
    "    'personal opinion',\n",
    "    'have updated information',\n",
    "    \"don't have personal experiences\",\n",
    "    'there is no information',\n",
    "    'tidak mempunyai akses kepada data atau maklumat',\n",
    "    '10 april 2021',\n",
    "    'ebagai model bahasa AI'\n",
    "]"
   ]
  },
  {
   "cell_type": "code",
   "execution_count": 4,
   "id": "0b52177c",
   "metadata": {},
   "outputs": [],
   "source": [
    "import json\n",
    "import random\n",
    "from glob import glob\n",
    "from tqdm import tqdm"
   ]
  },
  {
   "cell_type": "code",
   "execution_count": 13,
   "id": "372b141d",
   "metadata": {
    "scrolled": true
   },
   "outputs": [
    {
     "name": "stderr",
     "output_type": "stream",
     "text": [
      "179450it [00:20, 8833.44it/s] \n"
     ]
    },
    {
     "data": {
      "text/plain": [
       "179339"
      ]
     },
     "execution_count": 13,
     "metadata": {},
     "output_type": "execute_result"
    }
   ],
   "source": [
    "data = []\n",
    "\n",
    "with open('function-calls.jsonl') as fopen:\n",
    "    for l in tqdm(fopen):\n",
    "        l = json.loads(l)\n",
    "        texts = []\n",
    "        failed = False\n",
    "        for no, d in enumerate(l['conversations']):\n",
    "\n",
    "            if d['role'] == 'user':\n",
    "                t = '<manusia>: '\n",
    "                c = 'content'\n",
    "            else:\n",
    "                if 'functioncall' in d['content']:\n",
    "                    c = 'content'\n",
    "                else:\n",
    "                    if 'functioncall' in l['conversations'][no - 1]['content']:\n",
    "                        continue\n",
    "                    c = 'content'\n",
    "                t = '<bot>: '\n",
    "\n",
    "            if d[c] is None:\n",
    "                break\n",
    "\n",
    "            if 'functioncall' in d[c]:\n",
    "                d[c] = d[c].split('FUNCTION RESPONSE:')[0].strip()\n",
    "\n",
    "            if '<functioncall>' in d[c]:\n",
    "                d[c] = d[c].split('<functioncall>')[1].strip()\n",
    "                try:\n",
    "                    d[c] = eval(d[c])\n",
    "                    d[c] = json.dumps(d[c])\n",
    "                except:\n",
    "                    failed = True\n",
    "                    continue\n",
    "\n",
    "\n",
    "            n = d[c]\n",
    "            n = n.strip()\n",
    "\n",
    "            if len(n) < 3:\n",
    "                break\n",
    "\n",
    "            t = t + n\n",
    "            texts.append(t)\n",
    "\n",
    "        if failed:\n",
    "            continue\n",
    "\n",
    "        if not len(texts):\n",
    "            continue\n",
    "            \n",
    "        while len(texts) and texts[-1].startswith('<manusia>'):\n",
    "            texts = texts[:-1]\n",
    "        if not len(texts):\n",
    "            continue\n",
    "        if not texts[0].startswith('<manusia>'):\n",
    "            continue\n",
    "            \n",
    "        if isinstance(l['function_call'], dict):\n",
    "            function = json.dumps(l['function_call'])\n",
    "        else:\n",
    "            function = l['function_call']\n",
    "\n",
    "        data.append({\n",
    "            'prompt_input': function,\n",
    "            'input': '\\n'.join(texts),\n",
    "            'output': None,\n",
    "        })\n",
    "            \n",
    "len(data)"
   ]
  },
  {
   "cell_type": "code",
   "execution_count": 14,
   "id": "5c2a9cba",
   "metadata": {},
   "outputs": [
    {
     "data": {
      "text/plain": [
       "24984"
      ]
     },
     "execution_count": 14,
     "metadata": {},
     "output_type": "execute_result"
    }
   ],
   "source": [
    "data_complex = []\n",
    "\n",
    "with open('function-calls-complex.jsonl') as fopen:\n",
    "    for l in tqdm(fopen):\n",
    "        l = json.loads(l)\n",
    "        texts = []\n",
    "        failed = False\n",
    "        for no, d in enumerate(l['conversations']):\n",
    "\n",
    "            if d['role'] == 'user':\n",
    "                t = '<manusia>: '\n",
    "                if random.random() > 0.5:\n",
    "                    c = 'content'\n",
    "                else:\n",
    "                    c = 'content'\n",
    "            else:\n",
    "                if 'functioncall' in d['content']:\n",
    "                    c = 'content'\n",
    "                else:\n",
    "                    if 'functioncall' in l['conversations'][no - 1]['content']:\n",
    "                        continue\n",
    "                    c = 'content'\n",
    "                t = '<bot>: '\n",
    "\n",
    "            if d[c] is None:\n",
    "                break\n",
    "\n",
    "            if 'functioncall' in d[c]:\n",
    "                d[c] = d[c].split('FUNCTION RESPONSE:')[0].strip()\n",
    "\n",
    "            if '<functioncall>' in d[c]:\n",
    "                d[c] = d[c].split('<functioncall>')[1].strip()\n",
    "                try:\n",
    "                    d[c] = eval(d[c])\n",
    "                    d[c] = json.dumps(d[c])\n",
    "                except:\n",
    "                    failed = True\n",
    "                    continue\n",
    "\n",
    "\n",
    "            n = d[c]\n",
    "            n = n.strip()\n",
    "\n",
    "            if len(n) < 3:\n",
    "                break\n",
    "\n",
    "            t = t + n\n",
    "            texts.append(t)\n",
    "\n",
    "        if failed:\n",
    "            continue\n",
    "\n",
    "        if not len(texts):\n",
    "            continue\n",
    "        while len(texts) and texts[-1].startswith('<manusia>'):\n",
    "            texts = texts[:-1]\n",
    "        if not len(texts):\n",
    "            continue\n",
    "        if not texts[0].startswith('<manusia>'):\n",
    "            continue\n",
    "        \n",
    "        if isinstance(l['function_call'], dict):\n",
    "            function = json.dumps(l['function_call'])\n",
    "        else:\n",
    "            function = l['function_call']\n",
    "\n",
    "        data_complex.append({\n",
    "            'prompt_input': function,\n",
    "            'input': '\\n'.join(texts),\n",
    "            'output': None,\n",
    "        })\n",
    "            \n",
    "len(data_complex)"
   ]
  },
  {
   "cell_type": "code",
   "execution_count": 32,
   "id": "eaeadc88",
   "metadata": {},
   "outputs": [
    {
     "data": {
      "text/plain": [
       "204323"
      ]
     },
     "execution_count": 32,
     "metadata": {},
     "output_type": "execute_result"
    }
   ],
   "source": [
    "filtered = []\n",
    "for d in data + data_complex:\n",
    "    if not isinstance(d['prompt_input'], str):\n",
    "        continue\n",
    "    if d['prompt_input'] is None:\n",
    "        continue\n",
    "    \n",
    "    if d['input'] is None:\n",
    "        continue\n",
    "        \n",
    "    if not isinstance(d['input'], str):\n",
    "        continue\n",
    "        \n",
    "    if d['output'] is not None:\n",
    "        continue\n",
    "        \n",
    "    filtered.append(d)\n",
    "    \n",
    "len(filtered)"
   ]
  },
  {
   "cell_type": "code",
   "execution_count": 26,
   "id": "00f33834",
   "metadata": {},
   "outputs": [
    {
     "data": {
      "text/plain": [
       "204323"
      ]
     },
     "execution_count": 26,
     "metadata": {},
     "output_type": "execute_result"
    }
   ],
   "source": [
    "len(data_complex) + len(data)"
   ]
  },
  {
   "cell_type": "code",
   "execution_count": 29,
   "id": "c9a2ae54",
   "metadata": {},
   "outputs": [
    {
     "data": {
      "text/html": [
       "<div>\n",
       "<style scoped>\n",
       "    .dataframe tbody tr th:only-of-type {\n",
       "        vertical-align: middle;\n",
       "    }\n",
       "\n",
       "    .dataframe tbody tr th {\n",
       "        vertical-align: top;\n",
       "    }\n",
       "\n",
       "    .dataframe thead th {\n",
       "        text-align: right;\n",
       "    }\n",
       "</style>\n",
       "<table border=\"1\" class=\"dataframe\">\n",
       "  <thead>\n",
       "    <tr style=\"text-align: right;\">\n",
       "      <th></th>\n",
       "      <th>prompt_input</th>\n",
       "      <th>input</th>\n",
       "      <th>output</th>\n",
       "    </tr>\n",
       "  </thead>\n",
       "  <tbody>\n",
       "    <tr>\n",
       "      <th>0</th>\n",
       "      <td>{\\n    \"name\": \"get_news_headlines\",\\n    \"des...</td>\n",
       "      <td>&lt;manusia&gt;: Bolehkah anda memberitahu saya taju...</td>\n",
       "      <td>None</td>\n",
       "    </tr>\n",
       "    <tr>\n",
       "      <th>1</th>\n",
       "      <td>{\\n    \"name\": \"dapatkan_data_pasaran\",\\n    \"...</td>\n",
       "      <td>&lt;manusia&gt;: Bolehkah anda memberitahu saya data...</td>\n",
       "      <td>None</td>\n",
       "    </tr>\n",
       "    <tr>\n",
       "      <th>2</th>\n",
       "      <td>{\\n    \"name\": \"read_product_reviews\",\\n    \"d...</td>\n",
       "      <td>&lt;manusia&gt;: Saya berminat untuk membaca ulasan ...</td>\n",
       "      <td>None</td>\n",
       "    </tr>\n",
       "    <tr>\n",
       "      <th>3</th>\n",
       "      <td>{\\n    \"name\": \"generate_password\",\\n    \"desc...</td>\n",
       "      <td>&lt;manusia&gt;: I would like it to be 12 characters...</td>\n",
       "      <td>None</td>\n",
       "    </tr>\n",
       "    <tr>\n",
       "      <th>4</th>\n",
       "      <td>{\\n    \"name\": \"check_stock_availability\",\\n  ...</td>\n",
       "      <td>&lt;manusia&gt;: I'd like to check the availability ...</td>\n",
       "      <td>None</td>\n",
       "    </tr>\n",
       "  </tbody>\n",
       "</table>\n",
       "</div>"
      ],
      "text/plain": [
       "                                        prompt_input  \\\n",
       "0  {\\n    \"name\": \"get_news_headlines\",\\n    \"des...   \n",
       "1  {\\n    \"name\": \"dapatkan_data_pasaran\",\\n    \"...   \n",
       "2  {\\n    \"name\": \"read_product_reviews\",\\n    \"d...   \n",
       "3  {\\n    \"name\": \"generate_password\",\\n    \"desc...   \n",
       "4  {\\n    \"name\": \"check_stock_availability\",\\n  ...   \n",
       "\n",
       "                                               input output  \n",
       "0  <manusia>: Bolehkah anda memberitahu saya taju...   None  \n",
       "1  <manusia>: Bolehkah anda memberitahu saya data...   None  \n",
       "2  <manusia>: Saya berminat untuk membaca ulasan ...   None  \n",
       "3  <manusia>: I would like it to be 12 characters...   None  \n",
       "4  <manusia>: I'd like to check the availability ...   None  "
      ]
     },
     "execution_count": 29,
     "metadata": {},
     "output_type": "execute_result"
    }
   ],
   "source": [
    "import pandas as pd\n",
    "\n",
    "df = pd.DataFrame(filtered)\n",
    "df.head()"
   ]
  },
  {
   "cell_type": "code",
   "execution_count": 16,
   "id": "d0b23d0f",
   "metadata": {},
   "outputs": [],
   "source": [
    "df.to_parquet('prepared-function-call.parquet')"
   ]
  },
  {
   "cell_type": "code",
   "execution_count": 36,
   "id": "38ad4313",
   "metadata": {},
   "outputs": [
    {
     "name": "stdout",
     "output_type": "stream",
     "text": [
      "{\n",
      "    \"name\": \"check_stock_availability\",\n",
      "    \"description\": \"Check the availability of a product in stock\",\n",
      "    \"parameters\": {\n",
      "        \"type\": \"object\",\n",
      "        \"properties\": {\n",
      "            \"product_id\": {\n",
      "                \"type\": \"string\",\n",
      "                \"description\": \"The ID of the product to check\"\n",
      "            },\n",
      "            \"quantity\": {\n",
      "                \"type\": \"integer\",\n",
      "                \"description\": \"The desired quantity of the product\"\n",
      "            }\n",
      "        },\n",
      "        \"required\": [\n",
      "            \"product_id\",\n",
      "            \"quantity\"\n",
      "        ]\n",
      "    }\n",
      "}\n",
      "\n",
      "{\n",
      "    \"name\": \"place_order\",\n",
      "    \"description\": \"Place an order for a product\",\n",
      "    \"parameters\": {\n",
      "        \"type\": \"object\",\n",
      "        \"properties\": {\n",
      "            \"product_id\": {\n",
      "                \"type\": \"string\",\n",
      "                \"description\": \"The ID of the product to order\"\n",
      "            },\n",
      "            \"quantity\": {\n",
      "                \"type\": \"integer\",\n",
      "                \"description\": \"The quantity of the product to order\"\n",
      "            },\n",
      "            \"shipping_address\": {\n",
      "                \"type\": \"string\",\n",
      "                \"description\": \"The shipping address for the order\"\n",
      "            }\n",
      "        },\n",
      "        \"required\": [\n",
      "            \"product_id\",\n",
      "            \"quantity\",\n",
      "            \"shipping_address\"\n",
      "        ]\n",
      "    }\n",
      "}\n"
     ]
    }
   ],
   "source": [
    "print(filtered[4]['prompt_input'])"
   ]
  },
  {
   "cell_type": "code",
   "execution_count": 22,
   "id": "b89de6d4",
   "metadata": {},
   "outputs": [
    {
     "data": {
      "text/plain": [
       "'<manusia>: Bolehkah anda memberitahu saya tajuk berita terkini untuk Amerika Syarikat?\\n<bot>: {\"name\": \"get_news_headlines\", \"arguments\": {\"country\": \"Amerika Syarikat\"}}\\n<manusia>: Itu menarik. Bagaimana pula dengan berita di Perancis?\\n<bot>: {\"name\": \"get_news_headlines\", \"arguments\": {\"country\": \"Perancis\"}}'"
      ]
     },
     "execution_count": 22,
     "metadata": {},
     "output_type": "execute_result"
    }
   ],
   "source": [
    "data[0]['input']"
   ]
  },
  {
   "cell_type": "code",
   "execution_count": 37,
   "id": "bb89679e",
   "metadata": {
    "scrolled": true
   },
   "outputs": [
    {
     "data": {
      "text/plain": [
       "CommitInfo(commit_url='https://huggingface.co/datasets/mesolitica/Malaysian-SFT/commit/baddecb92d3203386288983feb3b3a1495686c9d', commit_message='Upload data/function_call-00000-of-00001.parquet with huggingface_hub', commit_description='', oid='baddecb92d3203386288983feb3b3a1495686c9d', pr_url=None, pr_revision=None, pr_num=None)"
      ]
     },
     "execution_count": 37,
     "metadata": {},
     "output_type": "execute_result"
    }
   ],
   "source": [
    "from huggingface_hub import HfApi\n",
    "api = HfApi()\n",
    "\n",
    "api.upload_file(\n",
    "    path_or_fileobj=\"prepared-function-call.parquet\",\n",
    "    path_in_repo='data/function_call-00000-of-00001.parquet',\n",
    "    repo_id=\"mesolitica/Malaysian-SFT\",\n",
    "    repo_type=\"dataset\",\n",
    ")"
   ]
  },
  {
   "cell_type": "code",
   "execution_count": null,
   "id": "06b71b0e",
   "metadata": {},
   "outputs": [],
   "source": []
  }
 ],
 "metadata": {
  "kernelspec": {
   "display_name": "Python 3 (ipykernel)",
   "language": "python",
   "name": "python3"
  },
  "language_info": {
   "codemirror_mode": {
    "name": "ipython",
    "version": 3
   },
   "file_extension": ".py",
   "mimetype": "text/x-python",
   "name": "python",
   "nbconvert_exporter": "python",
   "pygments_lexer": "ipython3",
   "version": "3.8.10"
  }
 },
 "nbformat": 4,
 "nbformat_minor": 5
}
