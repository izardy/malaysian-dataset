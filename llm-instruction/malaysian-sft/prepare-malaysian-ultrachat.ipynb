{
 "cells": [
  {
   "cell_type": "code",
   "execution_count": 2,
   "id": "f9f6bb3d",
   "metadata": {},
   "outputs": [],
   "source": [
    "from glob import glob\n",
    "import json\n",
    "import random\n",
    "import os\n",
    "from malaysian_sft import accept"
   ]
  },
  {
   "cell_type": "code",
   "execution_count": 3,
   "id": "dd9f083e",
   "metadata": {},
   "outputs": [],
   "source": [
    "break_at = [\n",
    "    'help.openai.com',\n",
    "    'openai',\n",
    "    'cannot have personal opinions',\n",
    "    's an ai language model',\n",
    "    \"i'm sorry\",\n",
    "    'many factors',\n",
    "    'lgbt',\n",
    "    'lesbian',\n",
    "    'gender-neutral',\n",
    "    'remain neutral',\n",
    "    'without bias',\n",
    "    'and neutral',\n",
    "    'more inclusive',\n",
    "    'neutrality',\n",
    "    'non-bias',\n",
    "    'discrimination',\n",
    "    'avoid any forms of discrimination',\n",
    "    'regardless of their gender',\n",
    "    'inclusive and tolerant environment',\n",
    "    'have personal views',\n",
    "    'sexual orientation should be a top priority',\n",
    "    's an objective ai',\n",
    "    'avoid any forms of prejudice or hate',\n",
    "    'regardless of their personal',\n",
    "    'you understand this direction',\n",
    "    'tolerant environment within ai',\n",
    "    'cannot express my',\n",
    "    'requires more context',\n",
    "    'personal opinion',\n",
    "    'have updated information',\n",
    "    \"don't have personal experiences\",\n",
    "    'there is no information',\n",
    "    'tidak mempunyai akses kepada data atau maklumat',\n",
    "    '10 april 2021',\n",
    "    'ebagai model bahasa AI',\n",
    "    'ebagai model bahasa ai',\n",
    "    'model bahasa AI',\n",
    "    'model bahasa ai',\n",
    "    'bahasa ai',\n",
    "    'ebagai model bahasa'\n",
    "    'hat makes sense',\n",
    "    'have access to data or information',\n",
    "    'have access to the data or information',\n",
    "    'hanya mempunyai akses kepada maklumat umum',\n",
    "    'hanya boleh memberikan maklumat umum',\n",
    "    'have personal preferences',\n",
    "    'not have personal experiences',\n",
    "    'not capable of having subjective opinions'\n",
    "]"
   ]
  },
  {
   "cell_type": "code",
   "execution_count": 4,
   "id": "cbadeebf",
   "metadata": {},
   "outputs": [],
   "source": [
    "roles = {\n",
    "    'user': '<manusia>',\n",
    "    'assistant': '<bot>'\n",
    "}"
   ]
  },
  {
   "cell_type": "code",
   "execution_count": 8,
   "id": "4ee72c9d",
   "metadata": {},
   "outputs": [
    {
     "data": {
      "text/plain": [
       "186496"
      ]
     },
     "execution_count": 8,
     "metadata": {},
     "output_type": "execute_result"
    }
   ],
   "source": [
    "files = glob('/home/husein/ssd2/gov.my/ultrachat-*.jsonl')\n",
    "files = [f for f in files if 'coder' not in f and 'textbooks' not in f]\n",
    "lines = 0\n",
    "for f in files:\n",
    "    with open(f) as fopen:\n",
    "        for l in fopen:\n",
    "            lines += 1\n",
    "lines"
   ]
  },
  {
   "cell_type": "code",
   "execution_count": 10,
   "id": "0baf9ec3",
   "metadata": {},
   "outputs": [
    {
     "data": {
      "text/plain": [
       "['/home/husein/ssd2/gov.my/ultrachat-crossref-melayu.jsonl',\n",
       " '/home/husein/ssd2/gov.my/ultrachat-gov.my.jsonl',\n",
       " '/home/husein/ssd2/gov.my/ultrachat-astroawani-malay.jsonl',\n",
       " '/home/husein/ssd2/gov.my/ultrachat-lom-agc.jsonl',\n",
       " '/home/husein/ssd2/gov.my/ultrachat-epenerbitan-malay.jsonl',\n",
       " '/home/husein/ssd2/gov.my/ultrachat-jurnaldbp-malay.jsonl',\n",
       " '/home/husein/ssd2/gov.my/ultrachat-jurnaldbp.jsonl',\n",
       " '/home/husein/ssd2/gov.my/ultrachat-ms-wikipedia.jsonl',\n",
       " '/home/husein/ssd2/gov.my/ultrachat-crossref-melayu-malay.jsonl',\n",
       " '/home/husein/ssd2/gov.my/ultrachat-maktabahalbakri.com.jsonl',\n",
       " '/home/husein/ssd2/gov.my/ultrachat-muftiwp.gov.my.texts.jsonl',\n",
       " '/home/husein/ssd2/gov.my/ultrachat-hansard-malay.jsonl']"
      ]
     },
     "execution_count": 10,
     "metadata": {},
     "output_type": "execute_result"
    }
   ],
   "source": [
    "files"
   ]
  },
  {
   "cell_type": "code",
   "execution_count": 11,
   "id": "518d0116",
   "metadata": {},
   "outputs": [
    {
     "name": "stderr",
     "output_type": "stream",
     "text": [
      "1296it [00:00, 1416.35it/s]\n",
      "10128it [00:04, 2355.05it/s]\n",
      "60198it [00:13, 4386.85it/s]\n",
      "8044it [00:03, 2071.62it/s]\n",
      "4567it [00:01, 2362.75it/s]\n",
      "6440it [00:02, 2311.50it/s]\n",
      "1734it [00:01, 1257.62it/s]\n",
      "4408it [00:01, 2639.26it/s]\n",
      "9959it [00:04, 2250.23it/s]\n",
      "3350it [00:01, 2139.34it/s]\n",
      "3834it [00:01, 2115.64it/s]\n",
      "72538it [00:22, 3239.42it/s]\n"
     ]
    },
    {
     "data": {
      "text/plain": [
       "185552"
      ]
     },
     "execution_count": 11,
     "metadata": {},
     "output_type": "execute_result"
    }
   ],
   "source": [
    "from tqdm import tqdm\n",
    "\n",
    "data_instructions = []\n",
    "\n",
    "count, count1 = 0, 0\n",
    "for file in files:\n",
    "    with open(file) as fopen:\n",
    "        for l in tqdm(fopen):\n",
    "            l = json.loads(l)\n",
    "            \n",
    "#             if l[1]['content'] is None:\n",
    "#                 print(l)\n",
    "#                 continue\n",
    "            \n",
    "            if 'glaive_coder_raw_text' in file:\n",
    "                code_instruct = True\n",
    "            else:\n",
    "                code_instruct = False\n",
    "                \n",
    "            context = l[0]['content']\n",
    "            \n",
    "            if not code_instruct:\n",
    "                l = l[1:]\n",
    "                \n",
    "            inputs = []\n",
    "            for no, r in enumerate(l):\n",
    "                \n",
    "                if no < (len(l) - 1):\n",
    "                    if l[no + 1]['role'] == 'user':\n",
    "                        next_text = l[no + 1].get('content_ms') or l[no + 1].get('content') or ''\n",
    "                    else:\n",
    "                        next_text = l[no + 1].get('content_ms') or ''\n",
    "                else:\n",
    "                    next_text = ''\n",
    "                \n",
    "                if r['role'] == 'user':\n",
    "                    current_text = r.get('content_ms') or r.get('content') or ''\n",
    "                else:\n",
    "                    current_text = r.get('content_ms') or ''\n",
    "                    \n",
    "                if l[no - 1]['role'] == 'user':\n",
    "                    previous_text = l[no - 1].get('content_ms') or l[no - 1].get('content') or ''\n",
    "                else:\n",
    "                    previous_text = l[no - 1].get('content_ms') or ''\n",
    "                \n",
    "                # bad pairs\n",
    "                if r['role'] == 'user' and (len(current_text) < 2 or len(next_text) < 2):\n",
    "                    # print('a', l, current_text, next_text, '\\n')\n",
    "                    continue\n",
    "                if r['role'] == 'assistant' and (len(current_text) < 2 or len(previous_text) < 2):\n",
    "                    continue\n",
    "                \n",
    "                # bad pairs\n",
    "                if not code_instruct and r['role'] == 'user' and current_text[:20].lower() == next_text[:20].lower():\n",
    "                    # print(no, r, current_text[:20].lower(), next_text[:20].lower())\n",
    "                    continue\n",
    "                if not code_instruct and r['role'] == 'assistant' and current_text[:20].lower() == previous_text[:20].lower():\n",
    "                    # print(no, r, current_text[:20].lower(), previous_text[:20].lower())\n",
    "                    continue\n",
    "                    \n",
    "                # remove alignments    \n",
    "                if r['role'] == 'user' and (any([b in current_text.lower() for b in break_at]) or any([b in next_text.lower() for b in break_at])):\n",
    "                    # print(current_text, next_text)\n",
    "                    break\n",
    "                if r['role'] == 'assistant' and (any([b in current_text.lower() for b in break_at]) or any([b in previous_text.lower() for b in break_at])):\n",
    "                    # print(current_text, next_text)\n",
    "                    break\n",
    "\n",
    "                role = roles[r['role']]\n",
    "                \n",
    "                if no == 0 and not code_instruct and ('crossref-melayu' in file or random.random() > 0.7):\n",
    "                    s = f\"{role}: {context}\\n\\n{current_text}\"\n",
    "                    count += 1\n",
    "                else:\n",
    "                    s = f\"{role}: {current_text}\"\n",
    "                    \n",
    "                inputs.append(s)\n",
    "                count1 += 1\n",
    "\n",
    "            if len(inputs) % 2 != 0:\n",
    "                inputs = inputs[:-1]\n",
    "                \n",
    "            if not len(inputs):\n",
    "                continue\n",
    "\n",
    "            data = '\\n'.join(inputs).strip()\n",
    "            \n",
    "            if not len(data):\n",
    "                continue\n",
    "                \n",
    "            a = {\n",
    "                'prompt_input': None,\n",
    "                'input': data,\n",
    "                'output': None\n",
    "            }\n",
    "            data_instructions.append(a)\n",
    "        \n",
    "        \n",
    "len(data_instructions)"
   ]
  },
  {
   "cell_type": "code",
   "execution_count": 17,
   "id": "73042b87",
   "metadata": {},
   "outputs": [],
   "source": [
    "def generate_and_tokenize_prompt(row, validate = True):\n",
    "    if '<bot>:' in row['input'] and row['output'] is None:\n",
    "        inputs, outputs = [], []\n",
    "        splitted = row['input'].split('<bot>:')\n",
    "        for i in range(len(splitted) - 1):\n",
    "            if i == 0:\n",
    "                human = splitted[i].replace('<manusia>:', '')\n",
    "            else:\n",
    "                try:\n",
    "                    human = splitted[i].split('<manusia>:')[1]\n",
    "                except BaseException:\n",
    "                    continue\n",
    "            bot = splitted[i + 1].split('<manusia>:')[0]\n",
    "            inputs.append(human)\n",
    "            outputs.append(bot)\n",
    "    else:\n",
    "        inputs = [row['input']]\n",
    "        outputs = [row['output']]\n",
    "\n",
    "    chat = []\n",
    "    if 'function_call' in row:\n",
    "        prompt = f\"\"\"\n",
    "Below is functions provided to convert user input into function parameters,\n",
    "<FUNCTION>\n",
    "{row['function_call']}\n",
    "</FUNCTION>\n",
    "Sometime user input is not able to convert to function parameters, so please ignore it and reply as normal chatbot.\n",
    "\"\"\".strip()\n",
    "        chat.append({'role': 'system', 'content': prompt})\n",
    "    for input, output in zip(inputs, outputs):\n",
    "        chat.extend([\n",
    "            {'role': 'user', 'content': input.strip()},\n",
    "            {'role': 'assistant', 'content': output.strip()},\n",
    "        ])\n",
    "    if validate:\n",
    "        for c in chat:\n",
    "            if c['role'] == 'assistant' and not accept(c['content']):\n",
    "                return\n",
    "    return chat"
   ]
  },
  {
   "cell_type": "code",
   "execution_count": 18,
   "id": "e999d1c8",
   "metadata": {},
   "outputs": [
    {
     "data": {
      "text/plain": [
       "[{'role': 'user',\n",
       "  'content': 'English \\n\\n\\n\\nconcepts of patriarchal families were yet in sync; and individual rights and notions of justice for \\n\\n\\n\\nboth, being at polar ends. Points of weighty contention, while outside of the purview of this \\n\\n\\n\\narticle, nevertheless contributed to the outcome of the MTO.      \\n\\n\\n\\n\\n\\n\\n\\nConclusion \\n\\n\\n\\nIn the 30-year period that the Mui Tsai phenomenon held sway in British Malaya the Colonial \\n\\n\\n\\ngovernment‟s agenda to answer the foundational question “how best to save or protect these \\n\\n\\n\\nyoung girls”\\n162\\n\\n\\n\\n remained unsuccessfully resolved. This article explored the Mui Tsai practice \\n\\n\\n\\nwithin British Malaya, specifically the Strait Settlements and unpackaged some of the general \\n\\n\\n\\nunderlying complexities experienced transnationally as well as locally. It demonstrated how the \\n\\n\\n\\nunderstanding of fundamental legal and non-legal notions surrounding this question came into \\n\\n\\n\\nconflict in the Strait Settlements. Prevailing Chinese customary perceptions and practices were \\n\\n\\n\\noften in contention with existing imperial ideas of propriety and right, with poor attempts at \\n\\n\\n\\nregulating a pre-dominantly Chinese concept of „adopted daughter‟ or „domestic servants.‟ A \\n\\n\\n\\nclash of traditional ideas and western notions of „slavery‟ and „welfare‟ resulted in ineffective \\n\\n\\n\\nlegislation. Responding to and rethinking challenges, colonial law evolved to develop laws that \\n\\n\\n\\nencompassed these customary practices. Yet in hindsight the changes made were superficial. The \\n\\n\\n\\nextended definition failed to address beyond the apparent, to where a much larger concern \\n\\n\\n\\nresided. The law had attempted to regulate the Mui Tsai practice, but that effort had simply \\n\\n\\n\\nsolved the tip of a larger more complex phenomenon that the Colonial government had failed to \\n\\n\\n\\nrecognise.    \\n\\n\\n\\n\\n\\n\\n\\n\\nSejarah, No. 26, Bil. 1, Jun  2017, hlm. 50-71 \\n\\n\\n\\n\\n\\n\\n\\n64 \\n\\n\\n\\n\\n\\n\\n\\nThe divergent outcome of the Mui Tsai Commission presented a larger more realistic \\n\\n\\n\\npicture that resulted in the principal addition of part II within the Children Ordinance 1939; \\n\\n\\n\\ninserting with much anticipation the protection for such „transferred children‟ that the Mui Tsai \\n\\n\\n\\nOrdinance had failed to provide for. Yet in spite of its efforts and the evolution of the law, Mui \\n\\n\\n\\nTsai legislation never had an opportunity to blossom. In the wake of the Second World War and \\n\\n\\n\\nthe cry for independence post-1945,\\n163\\n\\n\\n\\n the concerns for the welfare of the Mui Tsai lost its \\n\\n\\n\\nurgency and gradually, in time, disappeared into the annals of history.    \\n\\n\\n\\n\\n\\n\\n\\n\\n\\n\\n\\n\\n\\n\\n\\n\\n\\n\\n\\nNotes \\n \\n\\n\\n\\n* Part of this paper has been presented at the British Legal History Conference, University of Reading, UK, 2015.    \\n1\\n Hansard, “Mui Tsai in Hong Kong”, House of Lords Debate, 26 March 1931 Vol. 80 cc. 605-9. \\n\\n\\n\\n2\\n At least to a faction of the government of the day.  \\n\\n\\n\\n3\\n Victor Purcell, The Chinese in Malaya, Kuala Lumpur: Oxford University Press, 1967, p. 180. \\n\\n\\n\\n4\\n For examples of the work done on Mui Tsai in Hong Kong see, John M Carroll, “A National Custom: Debating \\n\\n\\n\\nFemale Servitude in Late Nineteenth-Century Hong Kong”, Modern Asian Studies, vol. 43,6, 2009, pp. 1463-1493; \\n\\n\\n\\nSusan Pederson, “The Maternalist Moment in British Colonial Policy: The Controversy over „Child Slavery‟ in \\n\\n\\n\\nHong Kong 1917-1941”, The Past and Present Society, No. 171, May 2001, Oxford Journals, Oxford University \\n\\n\\n\\nPress, pp. 161-202; The Mui Tsai System in China, Hong Kong and Malaya, (1936) 34 Int‟l Lab. Rev 663; Norman \\n\\n\\n\\nMiners, Hong Kong Under Imperial Rule, New York, Oxford University Press, 1987, Chap. 7 & 8.  \\n5\\n Maria Jaschok, Concubines and Bondservants: A Social History, London: Zed Books, 1988. \\n\\n\\n\\n6\\n Janet Lim, Sold for Silver: An Autobiography, London: Collins, 1958. \\n\\n\\n\\n7\\n See Susan Pederson, “The Maternalist Movement in British Colonial Policy: The Controversy over „Child Slavery‟ \\n\\n\\n\\nin Hong Kong 1917-1941”, Supra note 4.  \\n8\\n See generally Lai Ah Eng, Peasants, Pullers and Prostitutes: A Preliminary Investigation into the Work of Chinese \\n\\n\\n\\nWomen in Colonial Malaya, Singapore: ISEAS, 1986; Lenore Manderson, Colonial Desires: Sexuality, Race and \\n\\n\\n\\nGender in British Malaya, Journal of History of Sexuality, Vol. 7, No. 3, 1997.  \\n9\\n Some work has been done on Mui Tsai in Malaya, however these have been largely considered from sociological \\n\\n\\n\\nor historical perspective. See Rachel Leow, “Do you Own non-Chinese Mui Tsai? Re-Examining Race and Female \\n\\n\\n\\nServitude in Malaya and Hong Kong, 1919-1939”, Modern Asian Studies, Vol. 46 Issue 6, November 2012, pp. \\n\\n\\n\\n1736-1763; Sharon M Lee, “Female Immigrants and Labor in Colonial Malaya: 1860-1947”, International \\n\\n\\n\\nMigration Review, Vol. 23, No. 2, Summer, 1989, pp. 309-331.  \\n10\\n\\n\\n\\n The colony of the Strait Settlements consists, as its name implies of several settlements formed around the Strait \\n\\n\\n\\nof Malacca. Their connection is historical rather than natural. It initially included settlements as far as Brunei, the \\n\\n\\n\\nCocos Islands and Christmas Island. By 1925 the definition of the Strait Settlement had narrowed to that of \\n\\n\\n\\nSingapore, Penang and Malacca with the seat of government established in Singapore; it is this limited definition \\n\\n\\n\\nwhich is the emphasis and scope of the article. \\n11\\n\\n\\n\\n See Rachel Leow, “Do you Own non-Chinese Mui Tsai? Re-Examining Race and Female Servitude in Malaya \\n\\n\\n\\nand Hong Kong, 1919-1939”, Modern Asian Studies, Vol. 46 Issue 6, November 2012. \\n12\\n\\n\\n\\n See Victor Purcell, The Chinese in Malaya, pp. 182-184; \\n13\\n\\n\\n\\n Victor Purcell, Malaya: Outline of a Colony, London: Thomas Nelson & Sons, 1946, pp. 52-54. \\n14\\n\\n\\n\\n Yeoh Seng Guan et.al (eds.), Penang and its Region: The Story of an Asian Entrepot, Singapore: NUS Press, \\n\\n\\n\\n2009, pp. 9-18.      \\n15\\n\\n\\n\\n Captain Francis Light reported it as such, and even the subsequent East India Company officers noted that it was \\n\\n\\n\\nuninhabited. See Khor, Neil J K and Khoo, K S, The Penang Po Leung Kuk: Chinese Women, Prostitution and a \\n\\n\\n\\nWelfare Organisation, Selangor: Malaysian Branch of the Royal Asiatic Society, 2004, p. 15; Victor Purcell, \\n\\n\\n\\nMalaya: outline of a Colony, see note 5, p. 55; L.A. Mills, “British Malaya 1824-67” (edited for reprinting, with a \\n\\n\\n\\nbibliography of writings in English on British Malaya, 1786-1879 by Turnbull, C.M and a new introductory chapter \\n\\n\\n\\non European Influence in the Malay Peninsula, 1511-1786, by Bassett, K.D) in JMBRAS, 1961, pp. 37-38 noted that \\n\\n\\n\\nwhen Francis Light landed, Penang was merely a jungle with no inhabitants. \\n\\n\\n\\n\\n\\n\\n\\n\\nSejarah, No. 26, Bil. 1, Jun  2017, hlm. 50-71 \\n\\n\\n\\n\\n\\n\\n\\n65 \\n\\n\\n\\n\\n\\n\\n\\n                                                                                                                                                             \\n16\\n\\n\\n\\n Sir Benson Maxwell R, in Regina v Williams (1858) 3 Ky 16 viz. reported that when Penang island was first \\n\\n\\n\\noccupied, there were four Malay families inhabited on the island. See also, Braddell, Roland, The Law of the Straits \\n\\n\\n\\nSettlements: A Commentary, Kuala Lumpur: Oxford University Press, 1982, p. 4. Again, Captain Kydd, in his \\n\\n\\n\\nmemoir addressed to the Indian Government, he said “Penang…when it was first taken possession of by this \\n\\n\\n\\nGovernment there were a few Malay families who subsisted by fishing and extracting of wood, oil and Dammer and \\n\\n\\n\\nwho lived near the Point where the Fort stands by…one of these people gives an account of there having been about \\n\\n\\n\\n30 years ago a great many inhabitants on the island…”; reported also in Braddell, Roland, The Law of the Straits \\n\\n\\n\\nSettlements: A Commentary, p. 4.  \\n17\\n\\n\\n\\n Braddell, Roland, The Law of the Straits Settlements: A Commentary, p. 6; reported by Sir William Hackett J in \\n\\n\\n\\nthe case of Fatimah v Logan and Others (1871). \\n18\\n\\n\\n\\n Huey, “Law, Gongqin, and Transnational Polygamy: Family Matters in Fujian and British Malaya”, in P. Huang \\n\\n\\n\\nand K. Bernhardt (eds.), Research from Archival Case Records:\\n\\nApakah kerumitan dan konflik yang mengelilingi amalan Mui Tsai di British Malaya?'},\n",
       " {'role': 'assistant',\n",
       "  'content': 'Kompleksiti dan konflik yang berkaitan dengan amalan Mui Tsai di Tanah Melayu British merangkumi perbezaan dalam pandangan undang-undang dan bukan undang-undang yang mendasari persoalan asas ini. Pandangan dan amalan tradisional Cina sering bertembung dengan idea imperialis tentang kesopanan dan hak. Usaha yang dilakukan untuk mengawal amalan Mui Tsai dengan undang-undang selalunya tidak berkesan kerana ia mengatasi percanggahan idea tradisional dan pandangan Barat tentang \"perhambaan\" dan \"kesejahteraan.\" Walau bagaimanapun, undang-undang kolonial telah berubah setakat ini untuk merangkumi amalan tradisional. Walau bagaimanapun, perubahan yang dilakukan hanyalah permukaan yang tidak dapat menangani fenomena yang lebih besar dan lebih kompleks yang tidak diiktiraf oleh kerajaan kolonial.'},\n",
       " {'role': 'user',\n",
       "  'content': 'Menarik juga melihat bagaimana pandangan tradisional Cina dan idea imperialis bertentangan dalam pengaturan amalan Mui Tsai. Saya ingin mengetahui lebih lanjut tentang bagaimana undang-undang kolonial berkembang dan apakah usaha yang dilakukan untuk melindungi kanak-kanak yang terlibat dalam amalan ini. Bolehkah anda memberi saya maklumat yang lebih terperinci tentang ini?'},\n",
       " {'role': 'assistant',\n",
       "  'content': 'Sudah tentu! Undang-undang kolonial berkembang sebagai usaha untuk melindungi kanak-kanak yang terlibat dalam amalan Mui Tsai. Pada tahun 1933, Ordinan Mui Tsai diperkenalkan di Selat dan Penempatan melalui usaha kerajaan kolonial untuk mengawasi amalan ini. Walau bagaimanapun, undang-undang ini tidak berkesan kerana masih terdapat konflik dan konflik antara pandangan budaya Cina dan nilai imperialis tentang keadilan dan hak individu.\\n\\nKemudian, dalam Ordinan Kanak-kanak 1939, bahagian II ditambah sebagai usaha selanjutnya untuk melindungi \"anak yang dipindahkan\" yang tidak dilindungi oleh undang-undang Mui Tsai sebelum ini. Walau bagaimanapun, walaupun terdapat perkembangan undang-undang ini, undang-undang Mui Tsai tidak pernah benar-benar berkembang dan berkembang. Selepas Perang Dunia II dan permintaan kemerdekaan selepas 1945, kebimbangan terhadap kesejahteraan kanak-kanak Mui Tsai hilang arah dan beransur-ansur hilang dalam sejarah.\\n\\nJadi, walaupun terdapat usaha melalui perubahan undang-undang, cabaran dalam menangani fenomena Mui Tsai yang lebih luas dan kompleks kekal. Kerajaan kolonial tidak sepenuhnya mengiktiraf masalah yang lebih besar yang berkaitan dengan amalan ini. Ini adalah gambaran umum tentang perkembangan undang-undang dan usaha perlindungan untuk kanak-kanak yang terlibat dalam amalan Mui Tsai di Tanah Melayu British.'},\n",
       " {'role': 'user',\n",
       "  'content': 'Menarik melihat bagaimana usaha melindungi kanak-kanak dalam amalan Mui Tsai belum berjaya sepenuhnya. Adakah terdapat faktor lain yang memainkan peranan dalam kegagalan ini? Saya ingin mendapatkan maklumat lanjut mengenai faktor tersebut.'},\n",
       " {'role': 'assistant',\n",
       "  'content': 'Selain konflik antara pandangan tradisional Cina dan nilai imperialis, terdapat beberapa faktor lain yang memainkan peranan dalam kegagalan usaha perlindungan terhadap kanak-kanak dalam amalan Mui Tsai.\\n\\nSalah satu faktornya ialah ketidakupayaan kerajaan kolonial untuk memahami secara menyeluruh kedalaman dan kerumitan amalan Mui Tsai. Mui Tsai bukan sahaja mengenai kanak-kanak yang bekerja sebagai pembantu rumah domestik, tetapi juga melibatkan aspek sosial dan budaya yang mendalam. Kerajaan kolonial tidak memahami sepenuhnya konteks dan implikasi sosial amalan ini, jadi usaha mereka untuk menangani masalah ini menjadi terhad dan tidak berkesan.\\n\\nSelain itu, penurunan desakan perlindungan kanak-kanak Mui Tsai selepas Perang Dunia II dan permintaan kemerdekaan juga mempengaruhi kegagalan perlindungan yang lebih berkesan. Keutamaan kerajaan kolonial beralih dan perhatian mereka beralih kepada masalah lain yang dianggap lebih mendesak pada masa itu.\\n\\nTerdapat juga kelemahan dalam pelaksanaan undang-undang serta penguatkuasaan undang-undang yang lemah. Walaupun terdapat perubahan undang-undang, pelaksanaan yang berkesan sering dihalang oleh kekurangan sumber, sistem yang terdedah kepada rasuah, dan kekurangan pemahaman dan kesedaran yang luas tentang isu yang berkaitan.\\n\\nDalam gabungan semua faktor ini, usaha perlindungan terhadap kanak-kanak dalam amalan Mui Tsai di Tanah Melayu British tidak berjaya sepenuhnya. Masih terdapat banyak ruang untuk pemahaman yang lebih mendalam, peningkatan pelaksanaan undang-undang, dan kesedaran sosial untuk menangani kerumitan dan konflik yang berkaitan dengan amalan ini.'}]"
      ]
     },
     "execution_count": 18,
     "metadata": {},
     "output_type": "execute_result"
    }
   ],
   "source": [
    "generate_and_tokenize_prompt(data_instructions[0])"
   ]
  },
  {
   "cell_type": "code",
   "execution_count": 20,
   "id": "8e2b97de",
   "metadata": {},
   "outputs": [
    {
     "name": "stderr",
     "output_type": "stream",
     "text": [
      "100%|██████████████████████████████████| 185552/185552 [05:01<00:00, 615.08it/s]\n"
     ]
    }
   ],
   "source": [
    "post = []\n",
    "for d in tqdm(data_instructions):\n",
    "    l = json.dumps(d)\n",
    "    if 'terjemah' in l.lower():\n",
    "        continue\n",
    "    if 'artikel itu' in l.lower():\n",
    "        continue\n",
    "    r = generate_and_tokenize_prompt(d)\n",
    "    if r is not None:\n",
    "        post.append(d)"
   ]
  },
  {
   "cell_type": "code",
   "execution_count": 21,
   "id": "1a033ba8",
   "metadata": {},
   "outputs": [
    {
     "data": {
      "text/html": [
       "<div>\n",
       "<style scoped>\n",
       "    .dataframe tbody tr th:only-of-type {\n",
       "        vertical-align: middle;\n",
       "    }\n",
       "\n",
       "    .dataframe tbody tr th {\n",
       "        vertical-align: top;\n",
       "    }\n",
       "\n",
       "    .dataframe thead th {\n",
       "        text-align: right;\n",
       "    }\n",
       "</style>\n",
       "<table border=\"1\" class=\"dataframe\">\n",
       "  <thead>\n",
       "    <tr style=\"text-align: right;\">\n",
       "      <th></th>\n",
       "      <th>prompt_input</th>\n",
       "      <th>input</th>\n",
       "      <th>output</th>\n",
       "    </tr>\n",
       "  </thead>\n",
       "  <tbody>\n",
       "    <tr>\n",
       "      <th>0</th>\n",
       "      <td>None</td>\n",
       "      <td>&lt;manusia&gt;:  English \\n\\n\\n\\nconcepts of patria...</td>\n",
       "      <td>None</td>\n",
       "    </tr>\n",
       "    <tr>\n",
       "      <th>1</th>\n",
       "      <td>None</td>\n",
       "      <td>&lt;manusia&gt;: © 2022 Sains Insani  \\n\\n\\n\\n\\n\\n\\n...</td>\n",
       "      <td>None</td>\n",
       "    </tr>\n",
       "    <tr>\n",
       "      <th>2</th>\n",
       "      <td>None</td>\n",
       "      <td>&lt;manusia&gt;: a ini. Sumbang saran dilakukan supa...</td>\n",
       "      <td>None</td>\n",
       "    </tr>\n",
       "    <tr>\n",
       "      <th>3</th>\n",
       "      <td>None</td>\n",
       "      <td>&lt;manusia&gt;: 10: 3-4 (2018) 27–33 | www.sainshum...</td>\n",
       "      <td>None</td>\n",
       "    </tr>\n",
       "    <tr>\n",
       "      <th>4</th>\n",
       "      <td>None</td>\n",
       "      <td>&lt;manusia&gt;:  they lost their freedom and rights...</td>\n",
       "      <td>None</td>\n",
       "    </tr>\n",
       "  </tbody>\n",
       "</table>\n",
       "</div>"
      ],
      "text/plain": [
       "  prompt_input                                              input output\n",
       "0         None  <manusia>:  English \\n\\n\\n\\nconcepts of patria...   None\n",
       "1         None  <manusia>: © 2022 Sains Insani  \\n\\n\\n\\n\\n\\n\\n...   None\n",
       "2         None  <manusia>: a ini. Sumbang saran dilakukan supa...   None\n",
       "3         None  <manusia>: 10: 3-4 (2018) 27–33 | www.sainshum...   None\n",
       "4         None  <manusia>:  they lost their freedom and rights...   None"
      ]
     },
     "execution_count": 21,
     "metadata": {},
     "output_type": "execute_result"
    }
   ],
   "source": [
    "import pandas as pd\n",
    "\n",
    "df = pd.DataFrame(post)\n",
    "df.head()"
   ]
  },
  {
   "cell_type": "code",
   "execution_count": 22,
   "id": "87052ac0",
   "metadata": {},
   "outputs": [],
   "source": [
    "df.to_parquet('prepared-malaysian-ultrachat.parquet')"
   ]
  },
  {
   "cell_type": "code",
   "execution_count": 30,
   "id": "23ed7cf6",
   "metadata": {},
   "outputs": [
    {
     "data": {
      "text/html": [
       "<div>\n",
       "<style scoped>\n",
       "    .dataframe tbody tr th:only-of-type {\n",
       "        vertical-align: middle;\n",
       "    }\n",
       "\n",
       "    .dataframe tbody tr th {\n",
       "        vertical-align: top;\n",
       "    }\n",
       "\n",
       "    .dataframe thead th {\n",
       "        text-align: right;\n",
       "    }\n",
       "</style>\n",
       "<table border=\"1\" class=\"dataframe\">\n",
       "  <thead>\n",
       "    <tr style=\"text-align: right;\">\n",
       "      <th></th>\n",
       "      <th>prompt_input</th>\n",
       "      <th>input</th>\n",
       "      <th>output</th>\n",
       "    </tr>\n",
       "  </thead>\n",
       "  <tbody>\n",
       "    <tr>\n",
       "      <th>count</th>\n",
       "      <td>0</td>\n",
       "      <td>149054</td>\n",
       "      <td>0</td>\n",
       "    </tr>\n",
       "    <tr>\n",
       "      <th>unique</th>\n",
       "      <td>0</td>\n",
       "      <td>149054</td>\n",
       "      <td>0</td>\n",
       "    </tr>\n",
       "    <tr>\n",
       "      <th>top</th>\n",
       "      <td>NaN</td>\n",
       "      <td>&lt;manusia&gt;:  English \\n\\n\\n\\nconcepts of patria...</td>\n",
       "      <td>NaN</td>\n",
       "    </tr>\n",
       "    <tr>\n",
       "      <th>freq</th>\n",
       "      <td>NaN</td>\n",
       "      <td>1</td>\n",
       "      <td>NaN</td>\n",
       "    </tr>\n",
       "  </tbody>\n",
       "</table>\n",
       "</div>"
      ],
      "text/plain": [
       "       prompt_input                                              input output\n",
       "count             0                                             149054      0\n",
       "unique            0                                             149054      0\n",
       "top             NaN  <manusia>:  English \\n\\n\\n\\nconcepts of patria...    NaN\n",
       "freq            NaN                                                  1    NaN"
      ]
     },
     "execution_count": 30,
     "metadata": {},
     "output_type": "execute_result"
    }
   ],
   "source": [
    "df.describe()"
   ]
  },
  {
   "cell_type": "code",
   "execution_count": 26,
   "id": "a50f9baf",
   "metadata": {},
   "outputs": [
    {
     "data": {
      "application/vnd.jupyter.widget-view+json": {
       "model_id": "fc48d8ee6b274351a0b8b0065306bdc5",
       "version_major": 2,
       "version_minor": 0
      },
      "text/plain": [
       "prepared-malaysian-ultrachat.parquet:   0%|          | 0.00/318M [00:00<?, ?B/s]"
      ]
     },
     "metadata": {},
     "output_type": "display_data"
    },
    {
     "data": {
      "text/plain": [
       "CommitInfo(commit_url='https://huggingface.co/datasets/mesolitica/Malaysian-SFT/commit/2785513f27271b7692acefc212a4e62ffb426576', commit_message='Upload data/malaysian_ultrachat-00000-of-00001.parquet with huggingface_hub', commit_description='', oid='2785513f27271b7692acefc212a4e62ffb426576', pr_url=None, pr_revision=None, pr_num=None)"
      ]
     },
     "execution_count": 26,
     "metadata": {},
     "output_type": "execute_result"
    }
   ],
   "source": [
    "from huggingface_hub import HfApi\n",
    "api = HfApi()\n",
    "\n",
    "api.upload_file(\n",
    "    path_or_fileobj=\"prepared-malaysian-ultrachat.parquet\",\n",
    "    path_in_repo='data/malaysian_ultrachat-00000-of-00001.parquet',\n",
    "    repo_id=\"mesolitica/Malaysian-SFT\",\n",
    "    repo_type=\"dataset\",\n",
    ")"
   ]
  }
 ],
 "metadata": {
  "kernelspec": {
   "display_name": "python3.10",
   "language": "python",
   "name": "python3.10"
  },
  "language_info": {
   "codemirror_mode": {
    "name": "ipython",
    "version": 3
   },
   "file_extension": ".py",
   "mimetype": "text/x-python",
   "name": "python",
   "nbconvert_exporter": "python",
   "pygments_lexer": "ipython3",
   "version": "3.10.15"
  }
 },
 "nbformat": 4,
 "nbformat_minor": 5
}
