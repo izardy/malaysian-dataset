{
 "cells": [
  {
   "cell_type": "code",
   "execution_count": 4,
   "id": "284a9225",
   "metadata": {},
   "outputs": [],
   "source": [
    "# !wget https://huggingface.co/datasets/shareAI/ShareGPT-Chinese-English-90k/resolve/main/sharegpt_jsonl/common_zh_70k.jsonl\n",
    "# !wget https://huggingface.co/datasets/shareAI/ShareGPT-Chinese-English-90k/resolve/main/sharegpt_jsonl/common_en_70k.jsonl\n",
    "# !wget https://huggingface.co/datasets/shareAI/ShareGPT-Chinese-English-90k/resolve/main/sharegpt_jsonl/unknow_zh_38k.jsonl\n",
    "# !wget https://huggingface.co/datasets/shareAI/ShareGPT-Chinese-English-90k/resolve/main/sharegpt_jsonl/unknow_zh_38k_continue.jsonl\n",
    "# !wget https://huggingface.co/datasets/shareAI/ShareGPT-Chinese-English-90k/resolve/main/sharegpt_jsonl/computer_en_26k_continue.jsonl\n",
    "# !wget https://huggingface.co/datasets/shareAI/ShareGPT-Chinese-English-90k/resolve/main/sharegpt_jsonl/computer_zh_26k\\(fixed\\).jsonl\n",
    "# !wget https://huggingface.co/datasets/FreedomIntelligence/alpaca-gpt4-chinese/resolve/main/alpaca-gpt4-chinese.json"
   ]
  },
  {
   "cell_type": "code",
   "execution_count": 5,
   "id": "f0381e90",
   "metadata": {},
   "outputs": [],
   "source": [
    "roles = {\n",
    "    'user': '<manusia>',\n",
    "    'assistant': '<bot>'\n",
    "}\n",
    "\n",
    "system = [\n",
    "    'always reply in mandarin',\n",
    "    'sentiasa respond dalam bahasa mandarin',\n",
    "    'sentiasa jawab in mandarin',\n",
    "    'awak adalah chatbot yang respond dalam bahasa mandarin',\n",
    "    'you are a chatbot that always respond in mandarin',\n",
    "    'u always reply in mandarin',\n",
    "    'awak sentiasa reply in mandarin',\n",
    "    'you are a chatbot that always reply in mandarin',\n",
    "    'you are an assistant that always reply in mandarin',\n",
    "    'awak adalah chatbot yang sentiasa respond dalam mandarin',\n",
    "    'awak adalah pembantu AI yang reply in mandarin',\n",
    "    '你是一个总是用普通话回复的聊天机器人',\n",
    "]"
   ]
  },
  {
   "cell_type": "code",
   "execution_count": 9,
   "id": "c9b4c4ea",
   "metadata": {},
   "outputs": [
    {
     "data": {
      "text/plain": [
       "96842"
      ]
     },
     "execution_count": 9,
     "metadata": {},
     "output_type": "execute_result"
    }
   ],
   "source": [
    "import json\n",
    "import random\n",
    "\n",
    "instructions = []\n",
    "\n",
    "files = [\n",
    "    'common_zh_70k.jsonl',\n",
    "    'computer_zh_26k(fixed).jsonl'\n",
    "]\n",
    "\n",
    "for f in files:\n",
    "    with open(f) as fopen:\n",
    "        for l in fopen:\n",
    "            l = json.loads(l)\n",
    "            results = []\n",
    "            for l_ in l['conversation']:\n",
    "                results.extend([\n",
    "                    f\"<manusia>: {l_['human']}\",\n",
    "                    f\"<bot>: {l_['assistant']}\"\n",
    "                ])\n",
    "            if len(results) % 2 != 0:\n",
    "                results = results[:-1]\n",
    "            results[0] = results[0].replace('<manusia>:', f'<manusia>:{random.choice(system)}\\n\\n')\n",
    "            instructions.append({\n",
    "                'prompt_input': None,\n",
    "                'input': '\\n'.join(results),\n",
    "                'output': None,\n",
    "            })\n",
    "            \n",
    "len(instructions)"
   ]
  },
  {
   "cell_type": "code",
   "execution_count": 11,
   "id": "1b963b27",
   "metadata": {},
   "outputs": [
    {
     "name": "stderr",
     "output_type": "stream",
     "text": [
      "100%|█████████████████████████████████| 49969/49969 [00:00<00:00, 857770.93it/s]\n"
     ]
    },
    {
     "data": {
      "text/plain": [
       "146811"
      ]
     },
     "execution_count": 11,
     "metadata": {},
     "output_type": "execute_result"
    }
   ],
   "source": [
    "from tqdm import tqdm\n",
    "\n",
    "with open('alpaca-gpt4-chinese.json') as fopen:\n",
    "    data = json.load(fopen)\n",
    "    \n",
    "for d in tqdm(data):\n",
    "    l = d['conversations'][0]['value']\n",
    "    r = d['conversations'][1]['value']\n",
    "    results =[\n",
    "        f\"<manusia>: {l}\",\n",
    "        f\"<bot>: {r}\"\n",
    "    ]\n",
    "    results[0] = results[0].replace('<manusia>:', f'<manusia>:{random.choice(system)}\\n\\n')\n",
    "    instructions.append({\n",
    "        'prompt_input': None,\n",
    "        'input': '\\n'.join(results),\n",
    "        'output': None,\n",
    "    })\n",
    "    \n",
    "len(instructions)"
   ]
  },
  {
   "cell_type": "code",
   "execution_count": 19,
   "id": "3740d59b",
   "metadata": {},
   "outputs": [],
   "source": [
    "import pandas as pd\n",
    "\n",
    "pd.DataFrame(instructions).to_parquet('prepared-force-mandarin.parquet')"
   ]
  },
  {
   "cell_type": "code",
   "execution_count": 20,
   "id": "0402d25f",
   "metadata": {},
   "outputs": [
    {
     "data": {
      "application/vnd.jupyter.widget-view+json": {
       "model_id": "2d3c0309c5324d239662ae71362d79ed",
       "version_major": 2,
       "version_minor": 0
      },
      "text/plain": [
       "prepared-force-mandarin.parquet:   0%|          | 0.00/181M [00:00<?, ?B/s]"
      ]
     },
     "metadata": {},
     "output_type": "display_data"
    },
    {
     "data": {
      "text/plain": [
       "CommitInfo(commit_url='https://huggingface.co/datasets/mesolitica/Malaysian-SFT/commit/be8aeb93e070086ea6efefe776ac5bba5741e51a', commit_message='Upload data/force_mandarin-00000-of-00001.parquet with huggingface_hub', commit_description='', oid='be8aeb93e070086ea6efefe776ac5bba5741e51a', pr_url=None, repo_url=RepoUrl('https://huggingface.co/datasets/mesolitica/Malaysian-SFT', endpoint='https://huggingface.co', repo_type='dataset', repo_id='mesolitica/Malaysian-SFT'), pr_revision=None, pr_num=None)"
      ]
     },
     "execution_count": 20,
     "metadata": {},
     "output_type": "execute_result"
    }
   ],
   "source": [
    "from huggingface_hub import HfApi\n",
    "api = HfApi()\n",
    "\n",
    "api.upload_file(\n",
    "    path_or_fileobj=\"prepared-force-mandarin.parquet\",\n",
    "    path_in_repo='data/force_mandarin-00000-of-00001.parquet',\n",
    "    repo_id=\"mesolitica/Malaysian-SFT\",\n",
    "    repo_type=\"dataset\",\n",
    ")"
   ]
  },
  {
   "cell_type": "code",
   "execution_count": null,
   "id": "698bdeea",
   "metadata": {},
   "outputs": [],
   "source": []
  }
 ],
 "metadata": {
  "kernelspec": {
   "display_name": "python3.10",
   "language": "python",
   "name": "python3.10"
  },
  "language_info": {
   "codemirror_mode": {
    "name": "ipython",
    "version": 3
   },
   "file_extension": ".py",
   "mimetype": "text/x-python",
   "name": "python",
   "nbconvert_exporter": "python",
   "pygments_lexer": "ipython3",
   "version": "3.10.15"
  }
 },
 "nbformat": 4,
 "nbformat_minor": 5
}
