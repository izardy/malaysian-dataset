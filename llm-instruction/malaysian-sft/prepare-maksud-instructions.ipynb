{
 "cells": [
  {
   "cell_type": "code",
   "execution_count": 2,
   "id": "a631db98",
   "metadata": {},
   "outputs": [],
   "source": [
    "# !wget https://huggingface.co/datasets/mesolitica/maksud-instructions/resolve/main/maksud.jsonl"
   ]
  },
  {
   "cell_type": "code",
   "execution_count": 3,
   "id": "3f5b18e3",
   "metadata": {},
   "outputs": [],
   "source": [
    "import json\n",
    "from glob import glob"
   ]
  },
  {
   "cell_type": "code",
   "execution_count": 4,
   "id": "455a5be4",
   "metadata": {},
   "outputs": [
    {
     "data": {
      "text/plain": [
       "['negeri-johor-dictionary.jsonl',\n",
       " 'negeri-kedah-dictionary.jsonl',\n",
       " 'negeri-kelantan-dictionary.jsonl',\n",
       " 'negeri-melaka-dictionary.jsonl',\n",
       " 'negeri-pahang-dictionary.jsonl',\n",
       " 'negeri-perak-dictionary.jsonl',\n",
       " 'negeri-sabah-dictionary.jsonl',\n",
       " 'negeri-sarawak-dictionary.jsonl',\n",
       " 'negeri-sembilan-dictionary.jsonl',\n",
       " 'negeri-terengganu-dictionary.jsonl']"
      ]
     },
     "execution_count": 4,
     "metadata": {},
     "output_type": "execute_result"
    }
   ],
   "source": [
    "files = sorted(glob('*-dictionary.jsonl'))\n",
    "files"
   ]
  },
  {
   "cell_type": "code",
   "execution_count": 5,
   "id": "a3c507fa",
   "metadata": {},
   "outputs": [],
   "source": [
    "from collections import defaultdict\n",
    "\n",
    "languages = defaultdict(dict)\n",
    "for f in files:\n",
    "    with open(f) as fopen:\n",
    "        for l in fopen:\n",
    "            l = json.loads(l)\n",
    "            bahasa = f.split('/')[-1].split('-dictionary')[0].replace('-', ' ')\n",
    "            perkataan = l['left'].lower()\n",
    "            i = perkataan\n",
    "            if l['dictionary']['maksud'][-1] == '.':\n",
    "                maksud = l['dictionary']['maksud'][:-1]\n",
    "            else:\n",
    "                maksud = l['dictionary']['maksud']\n",
    "            \n",
    "            a = f\"{maksud}. {l['dictionary']['penjelasan']}\"\n",
    "            languages[bahasa][i] = a"
   ]
  },
  {
   "cell_type": "code",
   "execution_count": 6,
   "id": "c935215c",
   "metadata": {},
   "outputs": [],
   "source": [
    "sublanguages = list(languages.keys())"
   ]
  },
  {
   "cell_type": "code",
   "execution_count": 7,
   "id": "a996ebc1",
   "metadata": {},
   "outputs": [
    {
     "data": {
      "text/plain": [
       "43023"
      ]
     },
     "execution_count": 7,
     "metadata": {},
     "output_type": "execute_result"
    }
   ],
   "source": [
    "baku = {}\n",
    "with open('maksud.jsonl') as fopen:\n",
    "    for l in fopen:\n",
    "        try:\n",
    "            l = json.loads(l)\n",
    "            i = l['input'].split(': ')[1]\n",
    "            if ':' in i:\n",
    "                continue\n",
    "            a = l['output'].split('Definisi : ')[1]\n",
    "            if '\\n(Kamus Dewan Edisi Keempat)' not in a:\n",
    "                continue\n",
    "            if len(a.replace('\\n(Kamus Dewan Edisi Keempat)', '')) < 10:\n",
    "                continue\n",
    "                \n",
    "            if len(a.replace('\\n(Kamus Dewan Edisi Keempat)', '').split()) > 50:\n",
    "                continue\n",
    "                \n",
    "            a = a.replace('\\n(Kamus Dewan Edisi Keempat)', ' (berdasarkan Kamus Dewan Edisi Keempat)')\n",
    "            baku[i] = a\n",
    "        except:\n",
    "            pass\n",
    "\n",
    "len(baku)"
   ]
  },
  {
   "cell_type": "code",
   "execution_count": 8,
   "id": "4da90602",
   "metadata": {},
   "outputs": [],
   "source": [
    "templates_q = [\n",
    "    'apa mksud perkataan \"{perkataan}\" dalam dialek {bahasa}',\n",
    "    'what is the meaning \"{perkataan}\" in dialect {bahasa}',\n",
    "    'dlm dialek {bahasa}, apa maksud perkataan {perkataan}'\n",
    "]\n",
    "\n",
    "templates_a = [\n",
    "    '\"{perkataan}\" bukanlah satu perkataan dari dialek {bahasa}, ia merupakan perkataan bahasa Melayu baku yang bermaksud {maksud}',\n",
    "    \"Ia bermaksud {maksud}, tetapi bukanlah satu perkataan dari dialek {bahasa}.\",\n",
    "]"
   ]
  },
  {
   "cell_type": "code",
   "execution_count": 11,
   "id": "5afc46d2",
   "metadata": {},
   "outputs": [
    {
     "data": {
      "text/plain": [
       "129064"
      ]
     },
     "execution_count": 11,
     "metadata": {},
     "output_type": "execute_result"
    }
   ],
   "source": [
    "import random\n",
    "\n",
    "instructions_baku_negate = []\n",
    "\n",
    "baku_keys = list(baku.keys())\n",
    "for word in baku_keys:\n",
    "    subs = random.sample(sublanguages, 5)\n",
    "    count = 0\n",
    "    for s in subs:\n",
    "        if 'sembilan' in s:\n",
    "            s_ = s.title()\n",
    "        else:\n",
    "            s_ = s.replace('negeri ', '').title()\n",
    "        if word.lower() not in languages[s]:\n",
    "            i = random.choice(templates_q).strip().format(perkataan = word, bahasa = s_)\n",
    "            a = random.choice(templates_a).strip().format(perkataan = word, bahasa = s_, maksud = baku[word])\n",
    "            instructions_baku_negate.append({\n",
    "                'prompt_input': None,\n",
    "                'input': i,\n",
    "                'output': a,\n",
    "            })\n",
    "            \n",
    "            count += 1\n",
    "        \n",
    "        if count >= 3:\n",
    "            break\n",
    "            \n",
    "len(instructions_baku_negate)"
   ]
  },
  {
   "cell_type": "code",
   "execution_count": 12,
   "id": "090cd0d9",
   "metadata": {},
   "outputs": [
    {
     "data": {
      "text/plain": [
       "{'prompt_input': None,\n",
       " 'input': 'apa mksud perkataan \"degung\" dalam dialek Kedah',\n",
       " 'output': '\"degung\" bukanlah satu perkataan dari dialek Kedah, ia merupakan perkataan bahasa Melayu baku yang bermaksud 1. bunyi (spt bunyi) gong; 2. (Sunda) sj gamelan. (berdasarkan Kamus Dewan Edisi Keempat)'}"
      ]
     },
     "execution_count": 12,
     "metadata": {},
     "output_type": "execute_result"
    }
   ],
   "source": [
    "instructions_baku_negate[0]"
   ]
  },
  {
   "cell_type": "code",
   "execution_count": 14,
   "id": "4b84466d",
   "metadata": {},
   "outputs": [
    {
     "data": {
      "text/plain": [
       "['negeri johor',\n",
       " 'negeri kedah',\n",
       " 'negeri kelantan',\n",
       " 'negeri melaka',\n",
       " 'negeri pahang',\n",
       " 'negeri perak',\n",
       " 'negeri sabah',\n",
       " 'negeri sarawak',\n",
       " 'negeri sembilan',\n",
       " 'negeri terengganu']"
      ]
     },
     "execution_count": 14,
     "metadata": {},
     "output_type": "execute_result"
    }
   ],
   "source": [
    "sublanguages"
   ]
  },
  {
   "cell_type": "code",
   "execution_count": 18,
   "id": "be198d25",
   "metadata": {},
   "outputs": [],
   "source": [
    "instructions = []\n",
    "\n",
    "templates_q = [\n",
    "    'apa mksud perkataan \"{perkataan}\" based on kamus dewan',\n",
    "    'what is the meaning \"{perkataan}\" berdasarkan kamus dewan',\n",
    "    'based on kamus dewan, apa maksud perkataan {perkataan}'\n",
    "]\n",
    "\n",
    "for word in baku_keys:\n",
    "    alls = []\n",
    "    for s in sublanguages:\n",
    "        alls.append(word.lower() not in languages[s])\n",
    "        \n",
    "    if all(alls):\n",
    "            \n",
    "        i = random.choice(templates_q).strip().format(perkataan = word)\n",
    "        a = baku[word]\n",
    "        instructions.append({\n",
    "            'prompt_input': None,\n",
    "            'input': i,\n",
    "            'output': a,\n",
    "        })"
   ]
  },
  {
   "cell_type": "code",
   "execution_count": 19,
   "id": "682f86f9",
   "metadata": {},
   "outputs": [
    {
     "data": {
      "text/plain": [
       "42098"
      ]
     },
     "execution_count": 19,
     "metadata": {},
     "output_type": "execute_result"
    }
   ],
   "source": [
    "len(instructions)"
   ]
  },
  {
   "cell_type": "code",
   "execution_count": 24,
   "id": "5fd43326",
   "metadata": {},
   "outputs": [
    {
     "data": {
      "text/html": [
       "<div>\n",
       "<style scoped>\n",
       "    .dataframe tbody tr th:only-of-type {\n",
       "        vertical-align: middle;\n",
       "    }\n",
       "\n",
       "    .dataframe tbody tr th {\n",
       "        vertical-align: top;\n",
       "    }\n",
       "\n",
       "    .dataframe thead th {\n",
       "        text-align: right;\n",
       "    }\n",
       "</style>\n",
       "<table border=\"1\" class=\"dataframe\">\n",
       "  <thead>\n",
       "    <tr style=\"text-align: right;\">\n",
       "      <th></th>\n",
       "      <th>prompt_input</th>\n",
       "      <th>input</th>\n",
       "      <th>output</th>\n",
       "    </tr>\n",
       "  </thead>\n",
       "  <tbody>\n",
       "    <tr>\n",
       "      <th>0</th>\n",
       "      <td>None</td>\n",
       "      <td>apa mksud perkataan \"degung\" dalam dialek Kedah</td>\n",
       "      <td>\"degung\" bukanlah satu perkataan dari dialek K...</td>\n",
       "    </tr>\n",
       "    <tr>\n",
       "      <th>1</th>\n",
       "      <td>None</td>\n",
       "      <td>apa mksud perkataan \"degung\" dalam dialek Melaka</td>\n",
       "      <td>\"degung\" bukanlah satu perkataan dari dialek M...</td>\n",
       "    </tr>\n",
       "    <tr>\n",
       "      <th>2</th>\n",
       "      <td>None</td>\n",
       "      <td>apa mksud perkataan \"degung\" dalam dialek Perak</td>\n",
       "      <td>Ia bermaksud 1. bunyi (spt bunyi) gong; 2. (Su...</td>\n",
       "    </tr>\n",
       "    <tr>\n",
       "      <th>3</th>\n",
       "      <td>None</td>\n",
       "      <td>apa mksud perkataan \"berkolek\" dalam dialek Sabah</td>\n",
       "      <td>\"berkolek\" bukanlah satu perkataan dari dialek...</td>\n",
       "    </tr>\n",
       "    <tr>\n",
       "      <th>4</th>\n",
       "      <td>None</td>\n",
       "      <td>what is the meaning \"berkolek\" in dialect Kela...</td>\n",
       "      <td>\"berkolek\" bukanlah satu perkataan dari dialek...</td>\n",
       "    </tr>\n",
       "  </tbody>\n",
       "</table>\n",
       "</div>"
      ],
      "text/plain": [
       "  prompt_input                                              input  \\\n",
       "0         None    apa mksud perkataan \"degung\" dalam dialek Kedah   \n",
       "1         None   apa mksud perkataan \"degung\" dalam dialek Melaka   \n",
       "2         None    apa mksud perkataan \"degung\" dalam dialek Perak   \n",
       "3         None  apa mksud perkataan \"berkolek\" dalam dialek Sabah   \n",
       "4         None  what is the meaning \"berkolek\" in dialect Kela...   \n",
       "\n",
       "                                              output  \n",
       "0  \"degung\" bukanlah satu perkataan dari dialek K...  \n",
       "1  \"degung\" bukanlah satu perkataan dari dialek M...  \n",
       "2  Ia bermaksud 1. bunyi (spt bunyi) gong; 2. (Su...  \n",
       "3  \"berkolek\" bukanlah satu perkataan dari dialek...  \n",
       "4  \"berkolek\" bukanlah satu perkataan dari dialek...  "
      ]
     },
     "execution_count": 24,
     "metadata": {},
     "output_type": "execute_result"
    }
   ],
   "source": [
    "import pandas as pd\n",
    "\n",
    "df = pd.DataFrame(instructions_baku_negate + instructions)\n",
    "df.head()"
   ]
  },
  {
   "cell_type": "code",
   "execution_count": 25,
   "id": "1fb91da7",
   "metadata": {},
   "outputs": [],
   "source": [
    "df.to_parquet('prepared-maksud-instructions.parquet')"
   ]
  },
  {
   "cell_type": "code",
   "execution_count": null,
   "id": "7e5d5bad",
   "metadata": {},
   "outputs": [],
   "source": [
    "from huggingface_hub import HfApi\n",
    "api = HfApi()\n",
    "\n",
    "api.upload_file(\n",
    "    path_or_fileobj=\"prepared-maksud-instructions.parquet\",\n",
    "    path_in_repo='data/maksud_instructions-00000-of-00001.parquet',\n",
    "    repo_id=\"mesolitica/Malaysian-SFT\",\n",
    "    repo_type=\"dataset\",\n",
    ")"
   ]
  },
  {
   "cell_type": "code",
   "execution_count": null,
   "id": "cc244bb5",
   "metadata": {},
   "outputs": [],
   "source": []
  }
 ],
 "metadata": {
  "kernelspec": {
   "display_name": "python3.10",
   "language": "python",
   "name": "python3.10"
  },
  "language_info": {
   "codemirror_mode": {
    "name": "ipython",
    "version": 3
   },
   "file_extension": ".py",
   "mimetype": "text/x-python",
   "name": "python",
   "nbconvert_exporter": "python",
   "pygments_lexer": "ipython3",
   "version": "3.10.15"
  }
 },
 "nbformat": 4,
 "nbformat_minor": 5
}
