{
 "cells": [
  {
   "cell_type": "code",
   "execution_count": 1,
   "id": "d66dacb8",
   "metadata": {},
   "outputs": [],
   "source": [
    "import json\n",
    "import random\n",
    "from tqdm import tqdm\n",
    "from malaysian_sft import accept"
   ]
  },
  {
   "cell_type": "code",
   "execution_count": 5,
   "id": "619cf535",
   "metadata": {},
   "outputs": [
    {
     "data": {
      "text/plain": [
       "['/home/husein/ssd3/camel-ai/math.translated.jsonl',\n",
       " '/home/husein/ssd3/camel-ai/sql_create_context_v4.translated.jsonl',\n",
       " '/home/husein/ssd3/camel-ai/biology.translated.jsonl',\n",
       " '/home/husein/ssd3/camel-ai/chemistry.translated.jsonl',\n",
       " '/home/husein/ssd3/camel-ai/physics.translated.jsonl']"
      ]
     },
     "execution_count": 5,
     "metadata": {},
     "output_type": "execute_result"
    }
   ],
   "source": [
    "from glob import glob\n",
    "\n",
    "files = glob('/home/husein/ssd3/camel-ai/*.translated.jsonl')\n",
    "files"
   ]
  },
  {
   "cell_type": "code",
   "execution_count": 11,
   "id": "8839bde6",
   "metadata": {},
   "outputs": [
    {
     "name": "stderr",
     "output_type": "stream",
     "text": [
      "50000it [00:33, 1472.42it/s]\n",
      "78577it [00:09, 8724.67it/s] \n",
      "20000it [01:00, 328.25it/s]\n",
      "20000it [00:43, 463.76it/s]\n",
      "20000it [00:43, 461.02it/s]\n"
     ]
    },
    {
     "data": {
      "text/plain": [
       "56132"
      ]
     },
     "execution_count": 11,
     "metadata": {},
     "output_type": "execute_result"
    }
   ],
   "source": [
    "from glob import glob\n",
    "\n",
    "files = glob('/home/husein/ssd3/camel-ai/*.translated.jsonl')\n",
    "data = []\n",
    "\n",
    "for f in files:\n",
    "    with open(f) as fopen:\n",
    "        for l in tqdm(fopen):\n",
    "            l = json.loads(l)\n",
    "            try:\n",
    "                if l['message_1_ms'] is None or l['message_2_ms'] is None:\n",
    "                    continue\n",
    "\n",
    "                if not accept(l['message_1_ms']):\n",
    "                    continue\n",
    "\n",
    "                if not accept(l['message_2_ms']):\n",
    "                    continue\n",
    "\n",
    "                data.append({\n",
    "                    'prompt_input': None,\n",
    "                    'input': l['message_1_ms'],\n",
    "                    'output': l['message_2_ms'],\n",
    "                })\n",
    "            except:\n",
    "                pass\n",
    "        \n",
    "len(data)"
   ]
  },
  {
   "cell_type": "code",
   "execution_count": 12,
   "id": "cd6fc552",
   "metadata": {},
   "outputs": [
    {
     "data": {
      "text/html": [
       "<div>\n",
       "<style scoped>\n",
       "    .dataframe tbody tr th:only-of-type {\n",
       "        vertical-align: middle;\n",
       "    }\n",
       "\n",
       "    .dataframe tbody tr th {\n",
       "        vertical-align: top;\n",
       "    }\n",
       "\n",
       "    .dataframe thead th {\n",
       "        text-align: right;\n",
       "    }\n",
       "</style>\n",
       "<table border=\"1\" class=\"dataframe\">\n",
       "  <thead>\n",
       "    <tr style=\"text-align: right;\">\n",
       "      <th></th>\n",
       "      <th>prompt_input</th>\n",
       "      <th>input</th>\n",
       "      <th>output</th>\n",
       "    </tr>\n",
       "  </thead>\n",
       "  <tbody>\n",
       "    <tr>\n",
       "      <th>0</th>\n",
       "      <td>None</td>\n",
       "      <td>Cari bucu bagi fungsi nilai mutlak f(x) = |2x ...</td>\n",
       "      <td>Untuk mencari bucu bagi fungsi nilai mutlak f(...</td>\n",
       "    </tr>\n",
       "    <tr>\n",
       "      <th>1</th>\n",
       "      <td>None</td>\n",
       "      <td>Biarkan $f:\\mathbb{R}^2 \\to \\mathbb{R}$ ditakr...</td>\n",
       "      <td>Untuk mencari titik genting bagi fungsi $f(x, ...</td>\n",
       "    </tr>\n",
       "    <tr>\n",
       "      <th>2</th>\n",
       "      <td>None</td>\n",
       "      <td>Sudah tentu, berikut ialah masalah berangka un...</td>\n",
       "      <td>Untuk mencari kecerunan garis tangen kepada le...</td>\n",
       "    </tr>\n",
       "    <tr>\n",
       "      <th>3</th>\n",
       "      <td>None</td>\n",
       "      <td>Katakan kita mempunyai dua set A dan B di mana...</td>\n",
       "      <td>Untuk mencari persilangan set A dan B, kita me...</td>\n",
       "    </tr>\n",
       "    <tr>\n",
       "      <th>4</th>\n",
       "      <td>None</td>\n",
       "      <td>Terdapat 10 bola merah yang sama dan 5 bola bi...</td>\n",
       "      <td>Untuk menyelesaikan masalah ini, kita boleh me...</td>\n",
       "    </tr>\n",
       "  </tbody>\n",
       "</table>\n",
       "</div>"
      ],
      "text/plain": [
       "  prompt_input                                              input  \\\n",
       "0         None  Cari bucu bagi fungsi nilai mutlak f(x) = |2x ...   \n",
       "1         None  Biarkan $f:\\mathbb{R}^2 \\to \\mathbb{R}$ ditakr...   \n",
       "2         None  Sudah tentu, berikut ialah masalah berangka un...   \n",
       "3         None  Katakan kita mempunyai dua set A dan B di mana...   \n",
       "4         None  Terdapat 10 bola merah yang sama dan 5 bola bi...   \n",
       "\n",
       "                                              output  \n",
       "0  Untuk mencari bucu bagi fungsi nilai mutlak f(...  \n",
       "1  Untuk mencari titik genting bagi fungsi $f(x, ...  \n",
       "2  Untuk mencari kecerunan garis tangen kepada le...  \n",
       "3  Untuk mencari persilangan set A dan B, kita me...  \n",
       "4  Untuk menyelesaikan masalah ini, kita boleh me...  "
      ]
     },
     "execution_count": 12,
     "metadata": {},
     "output_type": "execute_result"
    }
   ],
   "source": [
    "import pandas as pd\n",
    "\n",
    "df = pd.DataFrame(data)\n",
    "df.head()"
   ]
  },
  {
   "cell_type": "code",
   "execution_count": 13,
   "id": "7c55b24d",
   "metadata": {},
   "outputs": [],
   "source": [
    "df.to_parquet('prepared-google-translate-camel-ai.parquet')"
   ]
  },
  {
   "cell_type": "code",
   "execution_count": 14,
   "id": "05d3b68f",
   "metadata": {},
   "outputs": [
    {
     "data": {
      "application/vnd.jupyter.widget-view+json": {
       "model_id": "d449f95d35e442e4b9bec023f1c577a5",
       "version_major": 2,
       "version_minor": 0
      },
      "text/plain": [
       "prepared-google-translate-camel-ai.parquet:   0%|          | 0.00/54.0M [00:00<?, ?B/s]"
      ]
     },
     "metadata": {},
     "output_type": "display_data"
    },
    {
     "data": {
      "text/plain": [
       "CommitInfo(commit_url='https://huggingface.co/datasets/mesolitica/Malaysian-SFT/commit/15e9294e4520b08034f1258a690dbad89aabc017', commit_message='Upload data/google_translate_camel_ai-00000-of-00001.parquet with huggingface_hub', commit_description='', oid='15e9294e4520b08034f1258a690dbad89aabc017', pr_url=None, pr_revision=None, pr_num=None)"
      ]
     },
     "execution_count": 14,
     "metadata": {},
     "output_type": "execute_result"
    }
   ],
   "source": [
    "from huggingface_hub import HfApi\n",
    "api = HfApi()\n",
    "\n",
    "api.upload_file(\n",
    "    path_or_fileobj=\"prepared-google-translate-camel-ai.parquet\",\n",
    "    path_in_repo='data/google_translate_camel_ai-00000-of-00001.parquet',\n",
    "    repo_id=\"mesolitica/Malaysian-SFT\",\n",
    "    repo_type=\"dataset\",\n",
    ")"
   ]
  },
  {
   "cell_type": "code",
   "execution_count": null,
   "id": "e194b7df",
   "metadata": {},
   "outputs": [],
   "source": []
  }
 ],
 "metadata": {
  "kernelspec": {
   "display_name": "python3.10",
   "language": "python",
   "name": "python3.10"
  },
  "language_info": {
   "codemirror_mode": {
    "name": "ipython",
    "version": 3
   },
   "file_extension": ".py",
   "mimetype": "text/x-python",
   "name": "python",
   "nbconvert_exporter": "python",
   "pygments_lexer": "ipython3",
   "version": "3.10.15"
  }
 },
 "nbformat": 4,
 "nbformat_minor": 5
}
