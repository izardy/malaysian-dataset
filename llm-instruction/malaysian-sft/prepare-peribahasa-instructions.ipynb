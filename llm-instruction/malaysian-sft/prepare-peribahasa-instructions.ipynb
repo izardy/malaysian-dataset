{
 "cells": [
  {
   "cell_type": "code",
   "execution_count": 2,
   "id": "ca7e5b6e",
   "metadata": {},
   "outputs": [],
   "source": [
    "# !wget https://huggingface.co/datasets/mesolitica/peribahasa-instructions/resolve/main/train_instruct.json"
   ]
  },
  {
   "cell_type": "code",
   "execution_count": 6,
   "id": "2a6a9c18",
   "metadata": {},
   "outputs": [
    {
     "data": {
      "text/plain": [
       "8321"
      ]
     },
     "execution_count": 6,
     "metadata": {},
     "output_type": "execute_result"
    }
   ],
   "source": [
    "import json\n",
    "\n",
    "with open('train_instruct.json') as fopen:\n",
    "    peribahasa = json.load(fopen)\n",
    "    \n",
    "peribahasa_instruct = [\n",
    "    {\n",
    "        'prompt_input': None,\n",
    "        'input': t['input'],\n",
    "        'output': t['output']\n",
    "    }\n",
    "    for t in peribahasa if len(t['output']) > 4 and len(t['input']) > 4\n",
    "]\n",
    "len(peribahasa_instruct)"
   ]
  },
  {
   "cell_type": "code",
   "execution_count": 7,
   "id": "901da686",
   "metadata": {},
   "outputs": [
    {
     "data": {
      "text/plain": [
       "{'prompt_input': None,\n",
       " 'input': 'apa mksud peribahasa, ada aku dipandang hadap, tiada aku dipandang belakang',\n",
       " 'output': 'Kasih sayang hanya waktu berhadapan saja, setelah berjauhan lalu dilupakan'}"
      ]
     },
     "execution_count": 7,
     "metadata": {},
     "output_type": "execute_result"
    }
   ],
   "source": [
    "peribahasa_instruct[0]"
   ]
  },
  {
   "cell_type": "code",
   "execution_count": 8,
   "id": "3e8bb5de",
   "metadata": {},
   "outputs": [],
   "source": [
    "import pandas as pd\n",
    "\n",
    "df = pd.DataFrame(peribahasa_instruct)\n",
    "df.to_parquet('prepared-peribahasa-instructions.parquet')"
   ]
  },
  {
   "cell_type": "code",
   "execution_count": 10,
   "id": "4c183b44",
   "metadata": {},
   "outputs": [
    {
     "data": {
      "text/html": [
       "<div>\n",
       "<style scoped>\n",
       "    .dataframe tbody tr th:only-of-type {\n",
       "        vertical-align: middle;\n",
       "    }\n",
       "\n",
       "    .dataframe tbody tr th {\n",
       "        vertical-align: top;\n",
       "    }\n",
       "\n",
       "    .dataframe thead th {\n",
       "        text-align: right;\n",
       "    }\n",
       "</style>\n",
       "<table border=\"1\" class=\"dataframe\">\n",
       "  <thead>\n",
       "    <tr style=\"text-align: right;\">\n",
       "      <th></th>\n",
       "      <th>prompt_input</th>\n",
       "      <th>input</th>\n",
       "      <th>output</th>\n",
       "    </tr>\n",
       "  </thead>\n",
       "  <tbody>\n",
       "    <tr>\n",
       "      <th>0</th>\n",
       "      <td>None</td>\n",
       "      <td>apa mksud peribahasa, ada aku dipandang hadap,...</td>\n",
       "      <td>Kasih sayang hanya waktu berhadapan saja, sete...</td>\n",
       "    </tr>\n",
       "    <tr>\n",
       "      <th>1</th>\n",
       "      <td>None</td>\n",
       "      <td>apa mksud peribahasa, ada angin</td>\n",
       "      <td>Orang yang berperangai luar biasa pada masa te...</td>\n",
       "    </tr>\n",
       "    <tr>\n",
       "      <th>2</th>\n",
       "      <td>None</td>\n",
       "      <td>apa mksud peribahasa, ada angin, ada pohonnya</td>\n",
       "      <td>Setiap kejadian pasti ada sebab-sebabnya (asal...</td>\n",
       "    </tr>\n",
       "    <tr>\n",
       "      <th>3</th>\n",
       "      <td>None</td>\n",
       "      <td>ada angin, ada pokoknya, mksud peribahasa</td>\n",
       "      <td>Setiap kejadian pasti ada mulanya.</td>\n",
       "    </tr>\n",
       "    <tr>\n",
       "      <th>4</th>\n",
       "      <td>None</td>\n",
       "      <td>ada bakat, mksud peribahasa</td>\n",
       "      <td>Berkebolehan dalam sesuatu lapangan seperti me...</td>\n",
       "    </tr>\n",
       "  </tbody>\n",
       "</table>\n",
       "</div>"
      ],
      "text/plain": [
       "  prompt_input                                              input  \\\n",
       "0         None  apa mksud peribahasa, ada aku dipandang hadap,...   \n",
       "1         None                    apa mksud peribahasa, ada angin   \n",
       "2         None      apa mksud peribahasa, ada angin, ada pohonnya   \n",
       "3         None          ada angin, ada pokoknya, mksud peribahasa   \n",
       "4         None                        ada bakat, mksud peribahasa   \n",
       "\n",
       "                                              output  \n",
       "0  Kasih sayang hanya waktu berhadapan saja, sete...  \n",
       "1  Orang yang berperangai luar biasa pada masa te...  \n",
       "2  Setiap kejadian pasti ada sebab-sebabnya (asal...  \n",
       "3                 Setiap kejadian pasti ada mulanya.  \n",
       "4  Berkebolehan dalam sesuatu lapangan seperti me...  "
      ]
     },
     "execution_count": 10,
     "metadata": {},
     "output_type": "execute_result"
    }
   ],
   "source": [
    "df.head()"
   ]
  },
  {
   "cell_type": "code",
   "execution_count": 11,
   "id": "6e5ab1f8",
   "metadata": {},
   "outputs": [
    {
     "data": {
      "application/vnd.jupyter.widget-view+json": {
       "model_id": "eb7fd4eec4af47dda9aec05e2eba2279",
       "version_major": 2,
       "version_minor": 0
      },
      "text/plain": [
       "prepared-peribahasa-instructions.parquet:   0%|          | 0.00/390k [00:00<?, ?B/s]"
      ]
     },
     "metadata": {},
     "output_type": "display_data"
    },
    {
     "data": {
      "text/plain": [
       "CommitInfo(commit_url='https://huggingface.co/datasets/mesolitica/Malaysian-SFT/commit/1da45022a706bd3fa9492048ee244dbd30239e27', commit_message='Upload data/peribahasa_instructions-00000-of-00001.parquet with huggingface_hub', commit_description='', oid='1da45022a706bd3fa9492048ee244dbd30239e27', pr_url=None, pr_revision=None, pr_num=None)"
      ]
     },
     "execution_count": 11,
     "metadata": {},
     "output_type": "execute_result"
    }
   ],
   "source": [
    "from huggingface_hub import HfApi\n",
    "api = HfApi()\n",
    "\n",
    "api.upload_file(\n",
    "    path_or_fileobj=\"prepared-peribahasa-instructions.parquet\",\n",
    "    path_in_repo='data/peribahasa_instructions-00000-of-00001.parquet',\n",
    "    repo_id=\"mesolitica/Malaysian-SFT\",\n",
    "    repo_type=\"dataset\",\n",
    ")"
   ]
  },
  {
   "cell_type": "code",
   "execution_count": null,
   "id": "5cae451c",
   "metadata": {},
   "outputs": [],
   "source": []
  }
 ],
 "metadata": {
  "kernelspec": {
   "display_name": "python3.10",
   "language": "python",
   "name": "python3.10"
  },
  "language_info": {
   "codemirror_mode": {
    "name": "ipython",
    "version": 3
   },
   "file_extension": ".py",
   "mimetype": "text/x-python",
   "name": "python",
   "nbconvert_exporter": "python",
   "pygments_lexer": "ipython3",
   "version": "3.10.15"
  }
 },
 "nbformat": 4,
 "nbformat_minor": 5
}
