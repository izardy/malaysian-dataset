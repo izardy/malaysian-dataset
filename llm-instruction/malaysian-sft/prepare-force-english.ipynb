{
 "cells": [
  {
   "cell_type": "code",
   "execution_count": 1,
   "id": "e63c0435",
   "metadata": {},
   "outputs": [],
   "source": [
    "# !wget https://huggingface.co/datasets/mesolitica/mixtral-magicoder/resolve/main/post-postfilter.jsonl"
   ]
  },
  {
   "cell_type": "code",
   "execution_count": 2,
   "id": "1ccf3752",
   "metadata": {},
   "outputs": [],
   "source": [
    "from malaysian_sft import accept as accept_fn\n",
    "import json\n",
    "import random\n",
    "from tqdm import tqdm\n",
    "from glob import glob"
   ]
  },
  {
   "cell_type": "code",
   "execution_count": 3,
   "id": "47e2ad8c",
   "metadata": {},
   "outputs": [],
   "source": [
    "system = [\n",
    "    'always reply in english',\n",
    "    'sentiasa respond dalam bahasa inggeris',\n",
    "    'sentiasa jawab in english',\n",
    "    'awak adalah chatbot yang respond dalam bahasa inggeris',\n",
    "    'you are a chatbot that always respond in english',\n",
    "    'u always reply in english',\n",
    "    'awak sentiasa reply in english',\n",
    "]"
   ]
  },
  {
   "cell_type": "code",
   "execution_count": 4,
   "id": "d7e786bf",
   "metadata": {},
   "outputs": [
    {
     "name": "stderr",
     "output_type": "stream",
     "text": [
      "132352it [00:05, 24905.25it/s]\n"
     ]
    }
   ],
   "source": [
    "filtered = []\n",
    "\n",
    "with open('post-postfilter.jsonl') as fopen:\n",
    "    for l in tqdm(fopen):\n",
    "        l = json.loads(l)\n",
    "        \n",
    "        q = l['instruction_ms']\n",
    "        if q is None:\n",
    "            continue\n",
    "\n",
    "        if l['answer'] is None:\n",
    "            continue\n",
    "            \n",
    "        q = f'{random.choice(system)}\\n\\n{q.strip()}'\n",
    "        \n",
    "        d = {\n",
    "            'prompt_input': None,\n",
    "            'input': q,\n",
    "            'output': l['answer'].strip(),\n",
    "        }\n",
    "        filtered.append(d)"
   ]
  },
  {
   "cell_type": "code",
   "execution_count": 5,
   "id": "55712351",
   "metadata": {
    "scrolled": true
   },
   "outputs": [
    {
     "data": {
      "text/plain": [
       "132352"
      ]
     },
     "execution_count": 5,
     "metadata": {},
     "output_type": "execute_result"
    }
   ],
   "source": [
    "len(filtered)"
   ]
  },
  {
   "cell_type": "code",
   "execution_count": 6,
   "id": "3dad5c75",
   "metadata": {},
   "outputs": [
    {
     "name": "stderr",
     "output_type": "stream",
     "text": [
      "50000it [00:01, 38490.41it/s]\n",
      "78577it [00:00, 364368.66it/s]\n",
      "20000it [00:00, 34818.24it/s]\n",
      "20000it [00:00, 25669.70it/s]\n",
      "20000it [00:00, 53800.89it/s]\n"
     ]
    }
   ],
   "source": [
    "files = glob('/home/husein/ssd3/camel-ai/*.translated.jsonl')\n",
    "\n",
    "for f in files:\n",
    "    with open(f) as fopen:\n",
    "        for l in tqdm(fopen):\n",
    "            l = json.loads(l)\n",
    "            \n",
    "            try:\n",
    "                \n",
    "                if l['message_1_ms'] is None or l['message_2'] is None:\n",
    "                    continue\n",
    "\n",
    "                q = f\"{random.choice(system)}\\n\\n{l['message_1_ms'].strip()}\"\n",
    "\n",
    "                d = {\n",
    "                    'prompt_input': None,\n",
    "                    'input': q,\n",
    "                    'output': l['message_2'].strip(),\n",
    "                }\n",
    "                filtered.append(d)\n",
    "            except:\n",
    "                pass"
   ]
  },
  {
   "cell_type": "code",
   "execution_count": 7,
   "id": "df4088cc",
   "metadata": {},
   "outputs": [
    {
     "data": {
      "text/plain": [
       "232928"
      ]
     },
     "execution_count": 7,
     "metadata": {},
     "output_type": "execute_result"
    }
   ],
   "source": [
    "len(filtered)"
   ]
  },
  {
   "cell_type": "code",
   "execution_count": 8,
   "id": "e72c1412",
   "metadata": {},
   "outputs": [],
   "source": [
    "skip = [\n",
    "    'always better to find peaceful',\n",
    "    'non-violent ways to express',\n",
    "    'can lead to severe consequences',\n",
    "    'still have questions or concerns about',\n",
    "    'that doing so is illegal',\n",
    "    'to report the incident to',\n",
    "    'would recommend consulting with',\n",
    "    'indonesian',\n",
    "    'translates to',\n",
    "    'idiom in',\n",
    "    'in English',\n",
    "    'in Malay',\n",
    "    # 'language model'\n",
    "]\n",
    "\n",
    "break_at = [\n",
    "    'help.openai.com',\n",
    "    'openai',\n",
    "    'cannot have personal opinions',\n",
    "    's an ai language model',\n",
    "    \"i'm sorry\",\n",
    "    'many factors',\n",
    "    'lgbt',\n",
    "    'lesbian',\n",
    "    'gender-neutral',\n",
    "    'remain neutral',\n",
    "    'without bias',\n",
    "    'and neutral',\n",
    "    'more inclusive',\n",
    "    'neutrality',\n",
    "    'non-bias',\n",
    "    'discrimination',\n",
    "    'avoid any forms of discrimination',\n",
    "    'regardless of their gender',\n",
    "    'inclusive and tolerant environment',\n",
    "    'have personal views',\n",
    "    'sexual orientation should be a top priority',\n",
    "    's an objective ai',\n",
    "    'avoid any forms of prejudice or hate',\n",
    "    'regardless of their personal',\n",
    "    'you understand this direction',\n",
    "    'tolerant environment within ai',\n",
    "    'cannot express my',\n",
    "    'requires more context',\n",
    "    'personal opinion',\n",
    "    'have updated information',\n",
    "    \"don't have personal experiences\",\n",
    "    'there is no information',\n",
    "    'tidak mempunyai akses kepada data atau maklumat',\n",
    "    '10 april 2021',\n",
    "    'ebagai model bahasa AI',\n",
    "    'ebagai model bahasa ai',\n",
    "    'model bahasa AI',\n",
    "    'model bahasa ai',\n",
    "    'bahasa ai',\n",
    "    'ebagai model bahasa'\n",
    "    'hat makes sense',\n",
    "    'have access to data or information',\n",
    "    'have access to the data or information',\n",
    "    'hanya mempunyai akses kepada maklumat umum',\n",
    "    'hanya boleh memberikan maklumat umum',\n",
    "    'have personal preferences',\n",
    "    'not have personal experiences',\n",
    "    'not capable of having subjective opinions',\n",
    "    'indonesian',\n",
    "    'mistral',\n",
    "    'terjemah',\n",
    "    'translate'\n",
    "]"
   ]
  },
  {
   "cell_type": "code",
   "execution_count": 9,
   "id": "0b6cbe05",
   "metadata": {},
   "outputs": [
    {
     "name": "stderr",
     "output_type": "stream",
     "text": [
      "60384it [00:30, 1951.61it/s]\n",
      "48163it [00:20, 2372.18it/s]\n",
      "57798it [00:03, 17237.42it/s]\n",
      "103242it [02:17, 748.78it/s] \n",
      "135770it [04:32, 497.98it/s] \n"
     ]
    }
   ],
   "source": [
    "roles = {\n",
    "    'user': '<manusia>',\n",
    "    'assistant': '<bot>'\n",
    "}\n",
    "\n",
    "files = glob('/home/husein/ssd2/soalan-augmentation/*conversation*.jsonl')\n",
    "files.extend(glob('/home/husein/ssd2/soalan-augmentation/*multiturn*.jsonl'))\n",
    "files = [f for f in files if 'rag' not in f]\n",
    "for f in files:\n",
    "    with open(f) as fopen:\n",
    "        for l in tqdm(fopen):\n",
    "            l = json.loads(l)\n",
    "            try:\n",
    "                inputs = []\n",
    "                for no, r in enumerate(l):\n",
    "                    if no < (len(l) - 1):\n",
    "                        if l[no + 1]['role'] == 'user':\n",
    "                            next_text = l[no + 1].get('content_ms') or ''\n",
    "                        else:\n",
    "                            next_text = l[no + 1].get('content') or ''\n",
    "                    else:\n",
    "                        next_text = ''\n",
    "\n",
    "                    if r['role'] == 'user':\n",
    "                        q = r.get('content_ms', '') or ''\n",
    "                        current_text = q       \n",
    "                    else:\n",
    "                        current_text = r.get('content') or ''\n",
    "\n",
    "                    if l[no - 1]['role'] == 'user':\n",
    "                        previous_text = l[no - 1].get('content_ms')\n",
    "                    else:\n",
    "                        previous_text = l[no - 1].get('content') or ''\n",
    "\n",
    "                    # bad pairs\n",
    "                    if r['role'] == 'user' and (len(current_text) < 2 or len(next_text) < 2):\n",
    "                        # print('a', l, current_text, next_text, '\\n')\n",
    "                        continue\n",
    "                    if r['role'] == 'assistant' and (len(current_text) < 2 or len(previous_text) < 2):\n",
    "                        continue\n",
    "\n",
    "                    # bad pairs\n",
    "                    if r['role'] == 'user' and current_text[:20].lower() == next_text[:20].lower():\n",
    "                        # print(no, r, current_text[:20].lower(), next_text[:20].lower())\n",
    "                        continue\n",
    "                    if r['role'] == 'assistant' and current_text[:20].lower() == previous_text[:20].lower():\n",
    "                        # print(no, r, current_text[:20].lower(), previous_text[:20].lower())\n",
    "                        continue\n",
    "\n",
    "                    # remove alignments    \n",
    "                    if r['role'] == 'user' and (any([b in current_text.lower() for b in break_at]) or any([b in next_text.lower() for b in break_at])):\n",
    "                        # print(current_text, next_text)\n",
    "                        break\n",
    "                    if r['role'] == 'assistant' and (any([b in current_text.lower() for b in break_at]) or any([b in previous_text.lower() for b in break_at])):\n",
    "                        # print(current_text, next_text)\n",
    "                        break\n",
    "\n",
    "                    role = roles[r['role']]\n",
    "\n",
    "                    s = f\"{role}: {current_text}\"\n",
    "\n",
    "                    inputs.append((s, r))\n",
    "\n",
    "                if len(inputs) % 2 != 0:\n",
    "                    inputs = inputs[:-1]\n",
    "\n",
    "                if not len(inputs):\n",
    "                    continue\n",
    "\n",
    "                if len(inputs) < 2:\n",
    "                    continue\n",
    "\n",
    "                outputs = []\n",
    "                for i in range(0, len(inputs), 2):\n",
    "\n",
    "                    try:\n",
    "                        content = inputs[i][1]['content']\n",
    "                        content_ms = inputs[i][1]['content_ms']\n",
    "\n",
    "                        if len(set(content_ms.split())) < (len(set(content.split())) / 2):\n",
    "                            continue\n",
    "                    except:\n",
    "                        pass\n",
    "\n",
    "                    try:\n",
    "                        content = inputs[i + 1][1]['content']\n",
    "                        content_ms = inputs[i + 1][1]['content_ms']\n",
    "\n",
    "                        if len(set(content_ms.split())) < (len(set(content.split())) / 2):\n",
    "                            continue\n",
    "                    except:\n",
    "                        pass\n",
    "\n",
    "                    outputs.extend([\n",
    "                        inputs[i][0],\n",
    "                        inputs[i + 1][0]\n",
    "                    ])\n",
    "\n",
    "                if not len(outputs):\n",
    "                    continue\n",
    "                outputs[0] = outputs[0].replace('<manusia>: ', f'<manusia>: {random.choice(system)}\\n\\n')\n",
    "\n",
    "                data = '\\n'.join(outputs).strip()\n",
    "                if not len(data):\n",
    "                    continue\n",
    "\n",
    "                d = {\n",
    "                    'prompt_input': None,\n",
    "                    'input': data,\n",
    "                    'output': None,\n",
    "                }\n",
    "                filtered.append(d)\n",
    "            except Exception as e:\n",
    "                pass"
   ]
  },
  {
   "cell_type": "code",
   "execution_count": 10,
   "id": "e4a35ca9",
   "metadata": {},
   "outputs": [
    {
     "data": {
      "text/plain": [
       "553223"
      ]
     },
     "execution_count": 10,
     "metadata": {},
     "output_type": "execute_result"
    }
   ],
   "source": [
    "len(filtered)"
   ]
  },
  {
   "cell_type": "code",
   "execution_count": 12,
   "id": "11adbd1f",
   "metadata": {},
   "outputs": [
    {
     "data": {
      "text/plain": [
       "{'prompt_input': None,\n",
       " 'input': \"<manusia>: you are a chatbot that always respond in english\\n\\nMengapa terdapat protes yang meluas dan rasa tidak puas hati orang ramai semasa Najib Razak memegang jawatan Perdana Menteri, dan bagaimana pentadbirannya bertindak balas terhadap protes ini?\\n<bot>: During Najib Razak's tenure as Prime Minister of Malaysia from 2009 to 2018, there were several instances of widespread protests and public discontent. Here are some of the main reasons and the government's response:\\n\\n1. Bersih Rallies: The Bersih (Coalition for Clean and Fair Elections) movement organized several rallies demanding electoral reform, including free and fair elections, clean electoral roll, and the right to vote for all citizens. The first Bersih rally in 2007 saw a massive turnout of more than 40,000 people, despite a ban by the government. Subsequent Bersih rallies in 2011, 2012, and 2015 saw even larger crowds, with tens of thousands of people protesting against the government's refusal to reform the electoral system. The government's response to these rallies was often heavy-handed, with the use of tear gas, water cannons, and arrests of activists and opposition leaders.\\n2. 1MDB Scandal: The 1Malaysia Development Berhad (1MDB) scandal was a financial scandal involving a state-owned investment fund that was set up by Najib Razak in 2009. The scandal revolved around allegations of money laundering, embezzlement, and bribery, with billions of dollars reportedly misappropriated from the fund. The scandal led to public outrage, with many people accusing Najib Razak of corruption and demanding his resignation. The government's response to the scandal was to deny any wrongdoing, and to arrest and charge several individuals associated with 1MDB, including opposition leaders and activists.\\n3. Goods and Services Tax (GST): The implementation of the Goods and Services Tax (GST) in 2015 was met with widespread public discontent, with many people complaining about the increased cost of living and the lack of transparency in the government's handling of the tax. The GST was eventually abolished in 2018, after the opposition coalition won the general election.\\n4. Freedom of Speech: During Najib Razak's tenure as Prime Minister, there were several instances of the government restricting freedom of speech, including the arrest and harassment of journalists, bloggers, and activists. The government also introduced several repressive laws, such as the Sedition Act and the National Security Council Act, which were widely criticized for suppressing dissent and curtailing civil liberties.\\n\\nThe government's response to these protests and public discontent was often heavy-handed, with the use of force, arrests, and repressive laws to silence critics and maintain control. However, the opposition coalition's victory in the 2018 general election was seen as a repudiation of Najib Razak's policies and a triumph for democracy and civil liberties in Malaysia.\",\n",
       " 'output': None}"
      ]
     },
     "execution_count": 12,
     "metadata": {},
     "output_type": "execute_result"
    }
   ],
   "source": [
    "filtered[-1]"
   ]
  },
  {
   "cell_type": "code",
   "execution_count": 13,
   "id": "077521c4",
   "metadata": {},
   "outputs": [],
   "source": [
    "import pandas as pd\n",
    "\n",
    "pd.DataFrame(filtered).to_parquet('prepared-force-english.parquet')"
   ]
  },
  {
   "cell_type": "code",
   "execution_count": 14,
   "id": "8563d115",
   "metadata": {},
   "outputs": [
    {
     "name": "stdout",
     "output_type": "stream",
     "text": [
      "-rw-rw-r-- 1 husein husein 913M Dis  27 22:20 prepared-force-english.parquet\r\n"
     ]
    }
   ],
   "source": [
    "!ls -lh prepared-force-english.parquet"
   ]
  },
  {
   "cell_type": "code",
   "execution_count": 15,
   "id": "777c1607",
   "metadata": {},
   "outputs": [
    {
     "data": {
      "application/vnd.jupyter.widget-view+json": {
       "model_id": "fccf7d8ee4ec48739217b381a1c74be4",
       "version_major": 2,
       "version_minor": 0
      },
      "text/plain": [
       "prepared-force-english.parquet:   0%|          | 0.00/956M [00:00<?, ?B/s]"
      ]
     },
     "metadata": {},
     "output_type": "display_data"
    },
    {
     "data": {
      "text/plain": [
       "CommitInfo(commit_url='https://huggingface.co/datasets/mesolitica/Malaysian-SFT/commit/ece6aa6f631f175051ca2474489c4127f61d940d', commit_message='Upload data/force_english-00000-of-00001.parquet with huggingface_hub', commit_description='', oid='ece6aa6f631f175051ca2474489c4127f61d940d', pr_url=None, repo_url=RepoUrl('https://huggingface.co/datasets/mesolitica/Malaysian-SFT', endpoint='https://huggingface.co', repo_type='dataset', repo_id='mesolitica/Malaysian-SFT'), pr_revision=None, pr_num=None)"
      ]
     },
     "execution_count": 15,
     "metadata": {},
     "output_type": "execute_result"
    }
   ],
   "source": [
    "from huggingface_hub import HfApi\n",
    "api = HfApi()\n",
    "\n",
    "api.upload_file(\n",
    "    path_or_fileobj=\"prepared-force-english.parquet\",\n",
    "    path_in_repo='data/force_english-00000-of-00001.parquet',\n",
    "    repo_id=\"mesolitica/Malaysian-SFT\",\n",
    "    repo_type=\"dataset\",\n",
    ")"
   ]
  }
 ],
 "metadata": {
  "kernelspec": {
   "display_name": "python3.10",
   "language": "python",
   "name": "python3.10"
  },
  "language_info": {
   "codemirror_mode": {
    "name": "ipython",
    "version": 3
   },
   "file_extension": ".py",
   "mimetype": "text/x-python",
   "name": "python",
   "nbconvert_exporter": "python",
   "pygments_lexer": "ipython3",
   "version": "3.10.15"
  }
 },
 "nbformat": 4,
 "nbformat_minor": 5
}
