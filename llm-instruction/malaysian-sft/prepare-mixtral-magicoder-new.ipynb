{
 "cells": [
  {
   "cell_type": "code",
   "execution_count": 2,
   "id": "381ba1c5",
   "metadata": {},
   "outputs": [],
   "source": [
    "import json\n",
    "from tqdm import tqdm\n",
    "from malaysian_sft import accept"
   ]
  },
  {
   "cell_type": "code",
   "execution_count": 3,
   "id": "036abac2",
   "metadata": {},
   "outputs": [
    {
     "name": "stderr",
     "output_type": "stream",
     "text": [
      "132352it [03:33, 619.34it/s]\n"
     ]
    }
   ],
   "source": [
    "code = []\n",
    "\n",
    "with open('post-postfilter.jsonl') as fopen:\n",
    "    for l in tqdm(fopen):\n",
    "        if 'anda berikan' in l.lower():\n",
    "            continue\n",
    "        data = json.loads(l)\n",
    "        if not accept(data['instruction_ms'], skip_indon = False):\n",
    "            continue\n",
    "        if not accept(data['answer_ms'], min_len = 1):\n",
    "            continue\n",
    "\n",
    "        code.append({\n",
    "            'prompt_input': None,\n",
    "            'input': data['instruction_ms'],\n",
    "            'output': data['answer_ms'],\n",
    "        })"
   ]
  },
  {
   "cell_type": "code",
   "execution_count": 4,
   "id": "afc3b451",
   "metadata": {},
   "outputs": [
    {
     "data": {
      "text/html": [
       "<div>\n",
       "<style scoped>\n",
       "    .dataframe tbody tr th:only-of-type {\n",
       "        vertical-align: middle;\n",
       "    }\n",
       "\n",
       "    .dataframe tbody tr th {\n",
       "        vertical-align: top;\n",
       "    }\n",
       "\n",
       "    .dataframe thead th {\n",
       "        text-align: right;\n",
       "    }\n",
       "</style>\n",
       "<table border=\"1\" class=\"dataframe\">\n",
       "  <thead>\n",
       "    <tr style=\"text-align: right;\">\n",
       "      <th></th>\n",
       "      <th>prompt_input</th>\n",
       "      <th>input</th>\n",
       "      <th>output</th>\n",
       "    </tr>\n",
       "  </thead>\n",
       "  <tbody>\n",
       "    <tr>\n",
       "      <th>0</th>\n",
       "      <td>None</td>\n",
       "      <td>Dalam sistem blockchain, kesukaran perlombonga...</td>\n",
       "      <td>Berikut adalah penyelesaian C++ untuk masalah ...</td>\n",
       "    </tr>\n",
       "    <tr>\n",
       "      <th>1</th>\n",
       "      <td>None</td>\n",
       "      <td>Terdapat aplikasi baris arahan yang mensimulas...</td>\n",
       "      <td>Pertama, ubah struktur `cli_args` untuk memasu...</td>\n",
       "    </tr>\n",
       "    <tr>\n",
       "      <th>2</th>\n",
       "      <td>None</td>\n",
       "      <td>Anda diberikan dua integer `a` dan `b` dan int...</td>\n",
       "      <td>Kita boleh loop dari `0` ke `9` dan untuk seti...</td>\n",
       "    </tr>\n",
       "    <tr>\n",
       "      <th>3</th>\n",
       "      <td>None</td>\n",
       "      <td>Anda adalah pengurus sistem pelayan berprestas...</td>\n",
       "      <td>Berikut adalah contoh bagaimana untuk melaksan...</td>\n",
       "    </tr>\n",
       "    <tr>\n",
       "      <th>4</th>\n",
       "      <td>None</td>\n",
       "      <td>Kelas `OLED12864` dalam kod yang diberikan dig...</td>\n",
       "      <td>Untuk melaksanakan fungsi `printReverse`, anda...</td>\n",
       "    </tr>\n",
       "  </tbody>\n",
       "</table>\n",
       "</div>"
      ],
      "text/plain": [
       "  prompt_input                                              input  \\\n",
       "0         None  Dalam sistem blockchain, kesukaran perlombonga...   \n",
       "1         None  Terdapat aplikasi baris arahan yang mensimulas...   \n",
       "2         None  Anda diberikan dua integer `a` dan `b` dan int...   \n",
       "3         None  Anda adalah pengurus sistem pelayan berprestas...   \n",
       "4         None  Kelas `OLED12864` dalam kod yang diberikan dig...   \n",
       "\n",
       "                                              output  \n",
       "0  Berikut adalah penyelesaian C++ untuk masalah ...  \n",
       "1  Pertama, ubah struktur `cli_args` untuk memasu...  \n",
       "2  Kita boleh loop dari `0` ke `9` dan untuk seti...  \n",
       "3  Berikut adalah contoh bagaimana untuk melaksan...  \n",
       "4  Untuk melaksanakan fungsi `printReverse`, anda...  "
      ]
     },
     "execution_count": 4,
     "metadata": {},
     "output_type": "execute_result"
    }
   ],
   "source": [
    "import pandas as pd\n",
    "\n",
    "df = pd.DataFrame(code)\n",
    "df.head()"
   ]
  },
  {
   "cell_type": "code",
   "execution_count": 5,
   "id": "ff1faba5",
   "metadata": {},
   "outputs": [],
   "source": [
    "df.to_parquet('prepared-mixtral-magicoder.parquet')"
   ]
  },
  {
   "cell_type": "code",
   "execution_count": 6,
   "id": "03c4dc28",
   "metadata": {},
   "outputs": [
    {
     "data": {
      "text/plain": [
       "CommitInfo(commit_url='https://huggingface.co/datasets/mesolitica/Malaysian-SFT/commit/0eaa2467a9f17cb5eeba04556c337a531deb1a67', commit_message='Upload data/mixtral_magicoder-00000-of-00001.parquet with huggingface_hub', commit_description='', oid='0eaa2467a9f17cb5eeba04556c337a531deb1a67', pr_url=None, pr_revision=None, pr_num=None)"
      ]
     },
     "execution_count": 6,
     "metadata": {},
     "output_type": "execute_result"
    }
   ],
   "source": [
    "from huggingface_hub import HfApi\n",
    "api = HfApi()\n",
    "\n",
    "api.upload_file(\n",
    "    path_or_fileobj=\"prepared-mixtral-magicoder.parquet\",\n",
    "    path_in_repo='data/mixtral_magicoder-00000-of-00001.parquet',\n",
    "    repo_id=\"mesolitica/Malaysian-SFT\",\n",
    "    repo_type=\"dataset\",\n",
    ")"
   ]
  },
  {
   "cell_type": "code",
   "execution_count": null,
   "id": "1f2ba011",
   "metadata": {},
   "outputs": [],
   "source": []
  }
 ],
 "metadata": {
  "kernelspec": {
   "display_name": "python3.10",
   "language": "python",
   "name": "python3.10"
  },
  "language_info": {
   "codemirror_mode": {
    "name": "ipython",
    "version": 3
   },
   "file_extension": ".py",
   "mimetype": "text/x-python",
   "name": "python",
   "nbconvert_exporter": "python",
   "pygments_lexer": "ipython3",
   "version": "3.10.15"
  }
 },
 "nbformat": 4,
 "nbformat_minor": 5
}
