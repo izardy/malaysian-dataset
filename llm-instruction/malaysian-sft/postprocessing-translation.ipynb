{
 "cells": [
  {
   "cell_type": "code",
   "execution_count": 2,
   "id": "7961b27a",
   "metadata": {},
   "outputs": [],
   "source": [
    "# !wget https://huggingface.co/datasets/mesolitica/Malaysian-SFT/resolve/main/extra/translation-instructions.json"
   ]
  },
  {
   "cell_type": "code",
   "execution_count": 14,
   "id": "6223425b",
   "metadata": {},
   "outputs": [],
   "source": [
    "import malaysian_sft\n",
    "from malaysian_sft import accept, post_accept\n",
    "\n",
    "import unicodedata\n",
    "\n",
    "def detect_majority_language(text):\n",
    "    counts = {\n",
    "        'arabic': 0,\n",
    "        'chinese': 0,\n",
    "        'indian': 0,\n",
    "        'other': 0\n",
    "    }\n",
    "\n",
    "    for char in text:\n",
    "        code = ord(char)\n",
    "\n",
    "        # Arabic script\n",
    "        if (0x0600 <= code <= 0x06FF or  # Arabic\n",
    "            0x0750 <= code <= 0x077F or  # Arabic Supplement\n",
    "            0x08A0 <= code <= 0x08FF or  # Arabic Extended-A\n",
    "            0xFB50 <= code <= 0xFDFF or  # Arabic Presentation Forms-A\n",
    "            0xFE70 <= code <= 0xFEFF):   # Arabic Presentation Forms-B\n",
    "            counts['arabic'] += 1\n",
    "\n",
    "        # Chinese (Han characters)\n",
    "        elif (0x4E00 <= code <= 0x9FFF or  # CJK Unified Ideographs\n",
    "              0x3400 <= code <= 0x4DBF or  # CJK Unified Ideographs Extension A\n",
    "              0x20000 <= code <= 0x2A6DF or\n",
    "              0x2A700 <= code <= 0x2EBEF):\n",
    "            counts['chinese'] += 1\n",
    "\n",
    "        # Indian (Devanagari, Tamil, Bengali, etc.)\n",
    "        elif (0x0900 <= code <= 0x097F or  # Devanagari\n",
    "              0x0980 <= code <= 0x09FF or  # Bengali\n",
    "              0x0A80 <= code <= 0x0AFF or  # Gujarati\n",
    "              0x0B00 <= code <= 0x0B7F or  # Oriya\n",
    "              0x0B80 <= code <= 0x0BFF or  # Tamil\n",
    "              0x0C00 <= code <= 0x0C7F or  # Telugu\n",
    "              0x0C80 <= code <= 0x0CFF or  # Kannada\n",
    "              0x0D00 <= code <= 0x0D7F or  # Malayalam\n",
    "              0x0E00 <= code <= 0x0E7F):   # Some scripts like Thai, if needed\n",
    "            counts['indian'] += 1\n",
    "\n",
    "        # Other\n",
    "        else:\n",
    "            if char.isalpha():\n",
    "                counts['other'] += 1\n",
    "\n",
    "    if all(v == 0 for v in counts.values()):\n",
    "        return 'unknown'\n",
    "\n",
    "    return max(counts, key=counts.get)\n",
    "\n",
    "# if 'jawi.parquet' in f:\n",
    "#     check_arabic = False\n",
    "#     check_indian = True\n",
    "#     check_mandarin = True\n",
    "# elif 'tamil.parquet' in f:\n",
    "#     check_arabic = True\n",
    "#     check_indian = False\n",
    "#     check_mandarin = True\n",
    "# elif 'mandarin.parquet' in f:\n",
    "#     check_arabic = True\n",
    "#     check_indian = True\n",
    "#     check_mandarin = False\n",
    "# else:\n",
    "#     check_arabic = True\n",
    "#     check_indian = True\n",
    "#     check_mandarin = True"
   ]
  },
  {
   "cell_type": "code",
   "execution_count": 3,
   "id": "0dd58a35",
   "metadata": {},
   "outputs": [],
   "source": [
    "import json\n",
    "\n",
    "with open('translation-instructions.json') as fopen:\n",
    "    d = json.load(fopen)"
   ]
  },
  {
   "cell_type": "code",
   "execution_count": 4,
   "id": "45934a25",
   "metadata": {},
   "outputs": [
    {
     "data": {
      "text/plain": [
       "70000"
      ]
     },
     "execution_count": 4,
     "metadata": {},
     "output_type": "execute_result"
    }
   ],
   "source": [
    "len(d)"
   ]
  },
  {
   "cell_type": "code",
   "execution_count": 15,
   "id": "a008ad3a",
   "metadata": {},
   "outputs": [
    {
     "name": "stderr",
     "output_type": "stream",
     "text": [
      "100%|███████████████████████████████████| 70000/70000 [00:10<00:00, 6402.73it/s]\n"
     ]
    }
   ],
   "source": [
    "from tqdm import tqdm\n",
    "\n",
    "filtered = []\n",
    "for d_ in tqdm(d):\n",
    "    lang = detect_majority_language(d_['output'])\n",
    "    if lang == 'arabic':\n",
    "        check_arabic = False\n",
    "        check_indian = True\n",
    "        check_mandarin = True\n",
    "    elif lang == 'indian':\n",
    "        check_arabic = True\n",
    "        check_indian = False\n",
    "        check_mandarin = True\n",
    "    elif lang == 'chinese':\n",
    "        check_arabic = True\n",
    "        check_indian = True\n",
    "        check_mandarin = False\n",
    "    else:\n",
    "        check_arabic = True\n",
    "        check_indian = True\n",
    "        check_mandarin = True\n",
    "    if not post_accept(\n",
    "        d_['output'], \n",
    "        check_arabic = check_arabic, \n",
    "        check_indian = check_indian,\n",
    "        check_mandarin = check_mandarin,\n",
    "    ):\n",
    "        continue\n",
    "    filtered.append(d_)\n",
    "        "
   ]
  },
  {
   "cell_type": "code",
   "execution_count": 16,
   "id": "edb0553b",
   "metadata": {
    "scrolled": true
   },
   "outputs": [
    {
     "data": {
      "text/plain": [
       "69911"
      ]
     },
     "execution_count": 16,
     "metadata": {},
     "output_type": "execute_result"
    }
   ],
   "source": [
    "len(filtered)"
   ]
  },
  {
   "cell_type": "code",
   "execution_count": 22,
   "id": "4a822887",
   "metadata": {},
   "outputs": [
    {
     "data": {
      "text/plain": [
       "{'prompt_input': None,\n",
       " 'input': '`Huruf ke-10 dalam alfabet adalah huruf \"J\" dalam Kode Morse. Dalam Kode Morse, setiap huruf direpresentasikan dengan serangkaian titik dan garis. Huruf \"J\" direpresentasikan dengan satu titik, diikuti oleh tiga garis, yang ditransmisikan sebagai \"dot dash dash dash\" atau \".---\" dalam notasi Kode Morse. \\n\\nUntuk lebih memahami Kode Morse, disarankan untuk belajar mengenali setiap karakter dan polanya, serta cara mengucapkan dan mendengarkan kode tersebut. Ini dapat dilakukan dengan membaca buku atau tutorial online, atau bahkan dengan berlatih menggunakan alat Kode Morse, seperti keyer atau program komputer. Dengan berlatih secara teratur, seseorang dapat menjadi ahli dalam Kode Morse dan menggunakannya untuk berkomunikasi dengan orang lain dalam situasi yang tepat, seperti dalam situasi darurat atau selama aktivitas radio.` terjemah ke malay',\n",
       " 'output': 'Huruf ke-10 dalam abjad ialah huruf \"J\" dalam Kod Morse. Dalam Kod Morse, setiap huruf diwakili dengan siri titik dan garis. Huruf \"J\" diwakili oleh satu titik, diikuti oleh tiga garisan, yang ditransmisikan sebagai \"dot dash dash dash\" atau \".---\" dalam tatatanda Kod Morse.\\n\\nUntuk lebih memahami Kod Morse, adalah disyorkan untuk belajar mengenali setiap aksara dan corak mereka, serta cara mengucapkan dan mendengar kod tersebut. Ini boleh dilakukan dengan membaca buku atau tutorial dalam talian, atau pun dengan berlatih menggunakan alat Kod Morse, seperti kunci atau aturcara komputer. Dengan berlatih secara teratur, seseorang boleh menjadi pakar dalam Kod Morse dan menggunakannya untuk berkomunikasi dengan orang lain dalam situasi yang betul, seperti dalam keadaan kecemasan atau semasa aktiviti radio.'}"
      ]
     },
     "execution_count": 22,
     "metadata": {},
     "output_type": "execute_result"
    }
   ],
   "source": [
    "filtered[-2]"
   ]
  },
  {
   "cell_type": "code",
   "execution_count": 18,
   "id": "e5eb3d9e",
   "metadata": {},
   "outputs": [],
   "source": [
    "with open('translation-instructions-postprocessing.json', 'w') as fopen:\n",
    "    json.dump(filtered, fopen)"
   ]
  },
  {
   "cell_type": "code",
   "execution_count": 19,
   "id": "1b058413",
   "metadata": {},
   "outputs": [],
   "source": [
    "from huggingface_hub import HfApi\n",
    "api = HfApi()"
   ]
  },
  {
   "cell_type": "code",
   "execution_count": 20,
   "id": "1dda2dbd",
   "metadata": {},
   "outputs": [
    {
     "data": {
      "application/vnd.jupyter.widget-view+json": {
       "model_id": "98b4dc6370ad4ace81371dbd960a069b",
       "version_major": 2,
       "version_minor": 0
      },
      "text/plain": [
       "translation-instructions-postprocessing.json:   0%|          | 0.00/62.7M [00:00<?, ?B/s]"
      ]
     },
     "metadata": {},
     "output_type": "display_data"
    },
    {
     "data": {
      "text/plain": [
       "CommitInfo(commit_url='https://huggingface.co/datasets/mesolitica/Malaysian-SFT/commit/a7e5bf576ac73395af9c30893f2993567890a03d', commit_message='Upload extra/translation-instructions-postprocessing.json with huggingface_hub', commit_description='', oid='a7e5bf576ac73395af9c30893f2993567890a03d', pr_url=None, repo_url=RepoUrl('https://huggingface.co/datasets/mesolitica/Malaysian-SFT', endpoint='https://huggingface.co', repo_type='dataset', repo_id='mesolitica/Malaysian-SFT'), pr_revision=None, pr_num=None)"
      ]
     },
     "execution_count": 20,
     "metadata": {},
     "output_type": "execute_result"
    }
   ],
   "source": [
    "api.upload_file(\n",
    "    path_or_fileobj=\"translation-instructions-postprocessing.json\",\n",
    "    path_in_repo=\"extra/translation-instructions-postprocessing.json\",\n",
    "    repo_id=\"mesolitica/Malaysian-SFT\",\n",
    "    repo_type=\"dataset\",\n",
    ")"
   ]
  }
 ],
 "metadata": {
  "kernelspec": {
   "display_name": "python3.10",
   "language": "python",
   "name": "python3.10"
  },
  "language_info": {
   "codemirror_mode": {
    "name": "ipython",
    "version": 3
   },
   "file_extension": ".py",
   "mimetype": "text/x-python",
   "name": "python",
   "nbconvert_exporter": "python",
   "pygments_lexer": "ipython3",
   "version": "3.10.17"
  }
 },
 "nbformat": 4,
 "nbformat_minor": 5
}
