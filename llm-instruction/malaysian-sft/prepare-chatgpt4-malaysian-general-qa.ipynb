{
 "cells": [
  {
   "cell_type": "code",
   "execution_count": 5,
   "id": "8e88417b",
   "metadata": {},
   "outputs": [],
   "source": [
    "# !wget https://raw.githubusercontent.com/mesolitica/malaysian-dataset/refs/heads/master/llm-instruction/malaysian-sft/malaysian_sft.py"
   ]
  },
  {
   "cell_type": "code",
   "execution_count": 13,
   "id": "9ec49629",
   "metadata": {},
   "outputs": [],
   "source": [
    "import json\n",
    "import malaysian_sft\n",
    "from glob import glob\n",
    "from tqdm import tqdm\n",
    "from unidecode import unidecode"
   ]
  },
  {
   "cell_type": "code",
   "execution_count": 2,
   "id": "60dc5caf",
   "metadata": {
    "scrolled": false
   },
   "outputs": [
    {
     "data": {
      "text/plain": [
       "['/home/husein/ssd3/chatgpt4-malaysian-general-qa/malaysian-general-qa-v2.jsonl',\n",
       " '/home/husein/ssd3/chatgpt4-malaysian-general-qa/malaysian-general-qa-v4.jsonl',\n",
       " '/home/husein/ssd3/chatgpt4-malaysian-general-qa/loghat.jsonl',\n",
       " '/home/husein/ssd3/chatgpt4-malaysian-general-qa/malaysian-general-qa-menengah.jsonl',\n",
       " '/home/husein/ssd3/chatgpt4-malaysian-general-qa/malaysian-general-qa-v3.jsonl',\n",
       " '/home/husein/ssd3/chatgpt4-malaysian-general-qa/malaysian-general-qa.jsonl',\n",
       " '/home/husein/ssd3/chatgpt4-malaysian-general-qa/tatabahasa.jsonl',\n",
       " '/home/husein/ssd3/chatgpt4-malaysian-general-qa/malaysian-general-qa-v5.jsonl']"
      ]
     },
     "execution_count": 2,
     "metadata": {},
     "output_type": "execute_result"
    }
   ],
   "source": [
    "glob('/home/husein/ssd3/chatgpt4-malaysian-general-qa/*.jsonl')"
   ]
  },
  {
   "cell_type": "code",
   "execution_count": 15,
   "id": "147f3c99",
   "metadata": {},
   "outputs": [
    {
     "name": "stderr",
     "output_type": "stream",
     "text": [
      "5294it [00:03, 1430.53it/s]\n",
      "4224it [00:05, 727.77it/s]\n",
      "2024it [00:01, 1881.71it/s]\n",
      "6157it [00:06, 912.06it/s] \n",
      "1368it [00:01, 947.50it/s] \n",
      "20396it [00:14, 1392.54it/s]\n",
      "25956it [00:19, 1342.94it/s]\n",
      "4849it [00:06, 709.34it/s]\n"
     ]
    },
    {
     "data": {
      "text/plain": [
       "43499"
      ]
     },
     "execution_count": 15,
     "metadata": {},
     "output_type": "execute_result"
    }
   ],
   "source": [
    "instructions = []\n",
    "for f in glob('/home/husein/ssd3/chatgpt4-malaysian-general-qa/*.jsonl'):\n",
    "    with open(f) as fopen:\n",
    "        for l in tqdm(fopen):\n",
    "            l = json.loads(l)\n",
    "\n",
    "            q = l.get('question_ms', l['question']).strip()\n",
    "            if not len(q):\n",
    "                continue\n",
    "            a = l.get('answer_ms', l['answer'])\n",
    "            if a is None:\n",
    "                continue\n",
    "            a = a.strip()\n",
    "            if not len(a):\n",
    "                continue\n",
    "                \n",
    "            if not malaysian_sft.accept(q):\n",
    "                continue\n",
    "            if not malaysian_sft.accept(a):\n",
    "                continue\n",
    "                \n",
    "            d = {\n",
    "                'prompt_input': None,\n",
    "                'input': q,\n",
    "                'output': a,\n",
    "            }\n",
    "            instructions.append(d)\n",
    "            \n",
    "len(instructions)"
   ]
  },
  {
   "cell_type": "code",
   "execution_count": 16,
   "id": "796dd7c8",
   "metadata": {},
   "outputs": [
    {
     "data": {
      "text/plain": [
       "{'prompt_input': None,\n",
       " 'input': 'Adakah Barisan Nasional akan mengambil tindakan terhadap ahli-ahli politik yang terlibat dalam rasuah?',\n",
       " 'output': 'Barisan Nasional telah mengambil tindakan terhadap ahli-ahli politik yang terlibat dalam rasuah. Parti ini telah menegaskan komitmennya untuk memerangi rasuah dan mengambil tindakan tegas terhadap ahli-ahli politik yang terlibat dalam aktiviti tersebut. Barisan Nasional juga telah mengeluarkan kenyataan bahawa mereka akan mengambil langkah-langkah yang perlu untuk memastikan integriti dan kepercayaan rakyat terhadap parti itu.'}"
      ]
     },
     "execution_count": 16,
     "metadata": {},
     "output_type": "execute_result"
    }
   ],
   "source": [
    "instructions[0]"
   ]
  },
  {
   "cell_type": "code",
   "execution_count": 17,
   "id": "74a36ebc",
   "metadata": {},
   "outputs": [],
   "source": [
    "import pandas as pd\n",
    "\n",
    "df = pd.DataFrame(instructions)\n",
    "df.to_parquet('prepared-chatgpt4-malaysian-general-qa.parquet')"
   ]
  },
  {
   "cell_type": "code",
   "execution_count": 18,
   "id": "60b7edc4",
   "metadata": {},
   "outputs": [
    {
     "data": {
      "text/html": [
       "<div>\n",
       "<style scoped>\n",
       "    .dataframe tbody tr th:only-of-type {\n",
       "        vertical-align: middle;\n",
       "    }\n",
       "\n",
       "    .dataframe tbody tr th {\n",
       "        vertical-align: top;\n",
       "    }\n",
       "\n",
       "    .dataframe thead th {\n",
       "        text-align: right;\n",
       "    }\n",
       "</style>\n",
       "<table border=\"1\" class=\"dataframe\">\n",
       "  <thead>\n",
       "    <tr style=\"text-align: right;\">\n",
       "      <th></th>\n",
       "      <th>prompt_input</th>\n",
       "      <th>input</th>\n",
       "      <th>output</th>\n",
       "    </tr>\n",
       "  </thead>\n",
       "  <tbody>\n",
       "    <tr>\n",
       "      <th>0</th>\n",
       "      <td>None</td>\n",
       "      <td>Adakah Barisan Nasional akan mengambil tindaka...</td>\n",
       "      <td>Barisan Nasional telah mengambil tindakan terh...</td>\n",
       "    </tr>\n",
       "    <tr>\n",
       "      <th>1</th>\n",
       "      <td>None</td>\n",
       "      <td>Adakah Najib Razak masih mempunyai sokongan ku...</td>\n",
       "      <td>Ya, Najib Razak masih mempunyai sokongan yang ...</td>\n",
       "    </tr>\n",
       "    <tr>\n",
       "      <th>2</th>\n",
       "      <td>None</td>\n",
       "      <td>Adakah anda berpendapat bahawa Malaysia sudah ...</td>\n",
       "      <td>Saya berpendapat bahawa Malaysia sudah bersedi...</td>\n",
       "    </tr>\n",
       "    <tr>\n",
       "      <th>3</th>\n",
       "      <td>None</td>\n",
       "      <td>Adakah anda bersetuju dengan pendapat bahawa s...</td>\n",
       "      <td>Saya bersetuju dengan pendapat tersebut kerana...</td>\n",
       "    </tr>\n",
       "    <tr>\n",
       "      <th>4</th>\n",
       "      <td>None</td>\n",
       "      <td>Adakah anda setuju bahawa undang-undang sediti...</td>\n",
       "      <td>Ya, saya setuju bahawa undang-undang sedition ...</td>\n",
       "    </tr>\n",
       "  </tbody>\n",
       "</table>\n",
       "</div>"
      ],
      "text/plain": [
       "  prompt_input                                              input  \\\n",
       "0         None  Adakah Barisan Nasional akan mengambil tindaka...   \n",
       "1         None  Adakah Najib Razak masih mempunyai sokongan ku...   \n",
       "2         None  Adakah anda berpendapat bahawa Malaysia sudah ...   \n",
       "3         None  Adakah anda bersetuju dengan pendapat bahawa s...   \n",
       "4         None  Adakah anda setuju bahawa undang-undang sediti...   \n",
       "\n",
       "                                              output  \n",
       "0  Barisan Nasional telah mengambil tindakan terh...  \n",
       "1  Ya, Najib Razak masih mempunyai sokongan yang ...  \n",
       "2  Saya berpendapat bahawa Malaysia sudah bersedi...  \n",
       "3  Saya bersetuju dengan pendapat tersebut kerana...  \n",
       "4  Ya, saya setuju bahawa undang-undang sedition ...  "
      ]
     },
     "execution_count": 18,
     "metadata": {},
     "output_type": "execute_result"
    }
   ],
   "source": [
    "df.head()"
   ]
  },
  {
   "cell_type": "code",
   "execution_count": 19,
   "id": "b1b52d8d",
   "metadata": {},
   "outputs": [
    {
     "data": {
      "application/vnd.jupyter.widget-view+json": {
       "model_id": "494e5995adc54efa89c5b7918cb8d25e",
       "version_major": 2,
       "version_minor": 0
      },
      "text/plain": [
       "prepared-chatgpt4-malaysian-general-qa.parquet:   0%|          | 0.00/29.4M [00:00<?, ?B/s]"
      ]
     },
     "metadata": {},
     "output_type": "display_data"
    },
    {
     "data": {
      "text/plain": [
       "CommitInfo(commit_url='https://huggingface.co/datasets/mesolitica/Malaysian-SFT/commit/c01abf3d7a61cc2abb52e0e420fa46c61eee15a1', commit_message='Upload prepared-chatgpt4-malaysian-general-qa.parquet with huggingface_hub', commit_description='', oid='c01abf3d7a61cc2abb52e0e420fa46c61eee15a1', pr_url=None, pr_revision=None, pr_num=None)"
      ]
     },
     "execution_count": 19,
     "metadata": {},
     "output_type": "execute_result"
    }
   ],
   "source": [
    "from huggingface_hub import HfApi\n",
    "api = HfApi()\n",
    "\n",
    "api.upload_file(\n",
    "    path_or_fileobj=\"prepared-chatgpt4-malaysian-general-qa.parquet\",\n",
    "    path_in_repo=\"prepared-chatgpt4-malaysian-general-qa.parquet\",\n",
    "    repo_id=\"mesolitica/Malaysian-SFT\",\n",
    "    repo_type=\"dataset\",\n",
    ")"
   ]
  },
  {
   "cell_type": "code",
   "execution_count": null,
   "id": "c3758c1b",
   "metadata": {},
   "outputs": [],
   "source": []
  }
 ],
 "metadata": {
  "kernelspec": {
   "display_name": "Python 3 (ipykernel)",
   "language": "python",
   "name": "python3"
  },
  "language_info": {
   "codemirror_mode": {
    "name": "ipython",
    "version": 3
   },
   "file_extension": ".py",
   "mimetype": "text/x-python",
   "name": "python",
   "nbconvert_exporter": "python",
   "pygments_lexer": "ipython3",
   "version": "3.8.10"
  }
 },
 "nbformat": 4,
 "nbformat_minor": 5
}
