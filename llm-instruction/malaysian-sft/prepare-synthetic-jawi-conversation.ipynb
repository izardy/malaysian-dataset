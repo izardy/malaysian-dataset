{
 "cells": [
  {
   "cell_type": "code",
   "execution_count": 5,
   "id": "82954728",
   "metadata": {},
   "outputs": [],
   "source": [
    "import json\n",
    "from tqdm import tqdm\n",
    "from malaysian_sft import accept"
   ]
  },
  {
   "cell_type": "code",
   "execution_count": 14,
   "id": "17f81400",
   "metadata": {},
   "outputs": [],
   "source": [
    "jawi = []\n",
    "with open('synthetic-jawi-conversation.jsonl') as fopen:\n",
    "    for l in tqdm(fopen):\n",
    "        l = json.loads(l)\n",
    "\n",
    "        try:\n",
    "            s = l[1]['content_ms'].split()\n",
    "            if len(s) < 250:\n",
    "                continue\n",
    "\n",
    "            if len(s) > 1000:\n",
    "                continue\n",
    "\n",
    "            if not accept(l[1]['content_ms']):\n",
    "                continue      \n",
    "\n",
    "            jawi.append(l[:2])\n",
    "\n",
    "        except Exception as e:\n",
    "            pass\n",
    "\n",
    "system = [\n",
    "    'you are a chatbot that always reply in jawi',\n",
    "    'you are an assistant that always reply in jawi',\n",
    "    'awak adalah chatbot yang sentiasa respond dalam jawi',\n",
    "    'awak adalah pembantu AI yang reply in jawi',\n",
    "]\n",
    "\n",
    "system2 = [\n",
    "    'respond in jawi, {text}',\n",
    "    '{text}, reply in jawi',\n",
    "    'reply in jawi\\n\\n{text}',\n",
    "    '{text}\\n\\nrespond dlm jawi',\n",
    "]\n",
    "\n",
    "j = [j for j in jawi if j[0]['role'] != 'context']\n",
    "j = sorted(j, key = lambda x: len(x[1]['content_ms']), reverse = True)"
   ]
  },
  {
   "cell_type": "code",
   "execution_count": 20,
   "id": "3d030b9b",
   "metadata": {},
   "outputs": [],
   "source": [
    "import random\n",
    "\n",
    "data = []\n",
    "for j_ in j:\n",
    "    if random.randint(0, 1):\n",
    "        s = None\n",
    "        l = random.choice(system2).format(text = j_[0]['content_ms'])\n",
    "    else:\n",
    "        s = random.choice(system)\n",
    "        l = j_[0]['content_ms']\n",
    "        \n",
    "    data.append({\n",
    "        'prompt_input': s,\n",
    "        'input': l,\n",
    "        'output': j_[1]['content_jawi'],\n",
    "    })"
   ]
  },
  {
   "cell_type": "code",
   "execution_count": 21,
   "id": "d616d1ff",
   "metadata": {},
   "outputs": [
    {
     "data": {
      "text/html": [
       "<div>\n",
       "<style scoped>\n",
       "    .dataframe tbody tr th:only-of-type {\n",
       "        vertical-align: middle;\n",
       "    }\n",
       "\n",
       "    .dataframe tbody tr th {\n",
       "        vertical-align: top;\n",
       "    }\n",
       "\n",
       "    .dataframe thead th {\n",
       "        text-align: right;\n",
       "    }\n",
       "</style>\n",
       "<table border=\"1\" class=\"dataframe\">\n",
       "  <thead>\n",
       "    <tr style=\"text-align: right;\">\n",
       "      <th></th>\n",
       "      <th>prompt_input</th>\n",
       "      <th>input</th>\n",
       "      <th>output</th>\n",
       "    </tr>\n",
       "  </thead>\n",
       "  <tbody>\n",
       "    <tr>\n",
       "      <th>0</th>\n",
       "      <td>None</td>\n",
       "      <td>Mengapa ahli politik Malaysia masih terlibat d...</td>\n",
       "      <td>ميمڠ بنر بهاوا ڤوليتيك ڤرقومان دان اڬام تله من...</td>\n",
       "    </tr>\n",
       "    <tr>\n",
       "      <th>1</th>\n",
       "      <td>None</td>\n",
       "      <td>Bagaimana Malaysia boleh terus bergantung kepa...</td>\n",
       "      <td>مليسيا تله لاما برڬنتوڠ كڤد بوروه اسيڠ، تراوتم...</td>\n",
       "    </tr>\n",
       "    <tr>\n",
       "      <th>2</th>\n",
       "      <td>you are an assistant that always reply in jawi</td>\n",
       "      <td>Bagaimanakah legasi skandal rasuah Najib Razak...</td>\n",
       "      <td>سكندل رسواه يڠ مليبتكن بكس ڤردان منتري مليسيا ...</td>\n",
       "    </tr>\n",
       "    <tr>\n",
       "      <th>3</th>\n",
       "      <td>awak adalah pembantu AI yang reply in jawi</td>\n",
       "      <td>Bagaimanakah legasi rasuah di bawah kepimpinan...</td>\n",
       "      <td>كڤيمڤينن نجيب رازق د مليسيا دري ٢٠٠٩ هيڠڬ ٢٠١٨...</td>\n",
       "    </tr>\n",
       "    <tr>\n",
       "      <th>4</th>\n",
       "      <td>None</td>\n",
       "      <td>reply in jawi\\n\\nMengapa badan kehakiman Malay...</td>\n",
       "      <td>بادن كهكيمن مليسيا تله مڠهادڤي تودوهن ممڤوليتي...</td>\n",
       "    </tr>\n",
       "  </tbody>\n",
       "</table>\n",
       "</div>"
      ],
      "text/plain": [
       "                                     prompt_input  \\\n",
       "0                                            None   \n",
       "1                                            None   \n",
       "2  you are an assistant that always reply in jawi   \n",
       "3      awak adalah pembantu AI yang reply in jawi   \n",
       "4                                            None   \n",
       "\n",
       "                                               input  \\\n",
       "0  Mengapa ahli politik Malaysia masih terlibat d...   \n",
       "1  Bagaimana Malaysia boleh terus bergantung kepa...   \n",
       "2  Bagaimanakah legasi skandal rasuah Najib Razak...   \n",
       "3  Bagaimanakah legasi rasuah di bawah kepimpinan...   \n",
       "4  reply in jawi\\n\\nMengapa badan kehakiman Malay...   \n",
       "\n",
       "                                              output  \n",
       "0  ميمڠ بنر بهاوا ڤوليتيك ڤرقومان دان اڬام تله من...  \n",
       "1  مليسيا تله لاما برڬنتوڠ كڤد بوروه اسيڠ، تراوتم...  \n",
       "2  سكندل رسواه يڠ مليبتكن بكس ڤردان منتري مليسيا ...  \n",
       "3  كڤيمڤينن نجيب رازق د مليسيا دري ٢٠٠٩ هيڠڬ ٢٠١٨...  \n",
       "4  بادن كهكيمن مليسيا تله مڠهادڤي تودوهن ممڤوليتي...  "
      ]
     },
     "execution_count": 21,
     "metadata": {},
     "output_type": "execute_result"
    }
   ],
   "source": [
    "import pandas as pd\n",
    "\n",
    "df = pd.DataFrame(data)\n",
    "df.head()"
   ]
  },
  {
   "cell_type": "code",
   "execution_count": 22,
   "id": "8f09f8b3",
   "metadata": {},
   "outputs": [],
   "source": [
    "df.to_parquet('prepared-synthetic-jawi-conversation.parquet')"
   ]
  },
  {
   "cell_type": "code",
   "execution_count": 23,
   "id": "bb0e99c1",
   "metadata": {},
   "outputs": [
    {
     "data": {
      "application/vnd.jupyter.widget-view+json": {
       "model_id": "538d8bff9b3640f293e06dddbfa2c0ba",
       "version_major": 2,
       "version_minor": 0
      },
      "text/plain": [
       "prepared-synthetic-jawi-conversation.parquet:   0%|          | 0.00/217M [00:00<?, ?B/s]"
      ]
     },
     "metadata": {},
     "output_type": "display_data"
    },
    {
     "data": {
      "text/plain": [
       "CommitInfo(commit_url='https://huggingface.co/datasets/mesolitica/Malaysian-SFT/commit/85553928b10471c0d1162bce7c84105a93b6efb9', commit_message='Upload data/synthetic_jawi_conversation-00000-of-00001.parquet with huggingface_hub', commit_description='', oid='85553928b10471c0d1162bce7c84105a93b6efb9', pr_url=None, pr_revision=None, pr_num=None)"
      ]
     },
     "execution_count": 23,
     "metadata": {},
     "output_type": "execute_result"
    }
   ],
   "source": [
    "from huggingface_hub import HfApi\n",
    "api = HfApi()\n",
    "\n",
    "api.upload_file(\n",
    "    path_or_fileobj=\"prepared-synthetic-jawi-conversation.parquet\",\n",
    "    path_in_repo='data/synthetic_jawi_conversation-00000-of-00001.parquet',\n",
    "    repo_id=\"mesolitica/Malaysian-SFT\",\n",
    "    repo_type=\"dataset\",\n",
    ")"
   ]
  },
  {
   "cell_type": "code",
   "execution_count": null,
   "id": "184d4367",
   "metadata": {},
   "outputs": [],
   "source": []
  }
 ],
 "metadata": {
  "kernelspec": {
   "display_name": "python3.10",
   "language": "python",
   "name": "python3.10"
  },
  "language_info": {
   "codemirror_mode": {
    "name": "ipython",
    "version": 3
   },
   "file_extension": ".py",
   "mimetype": "text/x-python",
   "name": "python",
   "nbconvert_exporter": "python",
   "pygments_lexer": "ipython3",
   "version": "3.10.15"
  }
 },
 "nbformat": 4,
 "nbformat_minor": 5
}
