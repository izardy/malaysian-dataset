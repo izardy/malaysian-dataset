{
 "cells": [
  {
   "cell_type": "code",
   "execution_count": 16,
   "id": "a64b816f",
   "metadata": {},
   "outputs": [],
   "source": [
    "import json\n",
    "from tqdm import tqdm\n",
    "from malaysian_sft import accept as accept_fn"
   ]
  },
  {
   "cell_type": "code",
   "execution_count": 17,
   "id": "a33d419a",
   "metadata": {
    "scrolled": true
   },
   "outputs": [
    {
     "name": "stderr",
     "output_type": "stream",
     "text": [
      "300459it [00:01, 167913.71it/s]\n"
     ]
    },
    {
     "data": {
      "text/plain": [
       "278016"
      ]
     },
     "execution_count": 17,
     "metadata": {},
     "output_type": "execute_result"
    }
   ],
   "source": [
    "rejected_personality = [\n",
    "    'menteri',\n",
    "    'minister'\n",
    "]\n",
    "\n",
    "accept = []\n",
    "with open('generated-malaysian-politician-hansard-style.jsonl') as fopen:\n",
    "    for l in tqdm(fopen):\n",
    "        l = json.loads(l)\n",
    "        personality = l['personality'].strip().lower()\n",
    "        if len(personality) < 2:\n",
    "            continue\n",
    "        \n",
    "        if any([r in personality for r in rejected_personality]):\n",
    "            continue\n",
    "            \n",
    "        accept.append(l)\n",
    "        \n",
    "len(accept)"
   ]
  },
  {
   "cell_type": "code",
   "execution_count": 46,
   "id": "69c3d087",
   "metadata": {},
   "outputs": [
    {
     "name": "stderr",
     "output_type": "stream",
     "text": [
      "100%|█████████████████████████████████| 278016/278016 [00:44<00:00, 6277.51it/s]\n"
     ]
    },
    {
     "data": {
      "text/plain": [
       "220778"
      ]
     },
     "execution_count": 46,
     "metadata": {},
     "output_type": "execute_result"
    }
   ],
   "source": [
    "filtered = []\n",
    "accept_politician = [\n",
    "    'tuan',\n",
    "    'dato',\n",
    "    'datuk',\n",
    "    'dr',\n",
    "    'a/l',\n",
    "    'a/p',\n",
    "    'muhammad',\n",
    "    'bin',\n",
    "    'binti',\n",
    "    'mohd',\n",
    "    'haji',\n",
    "    'datin',\n",
    "]\n",
    "for a in tqdm(accept):\n",
    "    if len(a['answer'].split()) < 20:\n",
    "        continue\n",
    "    \n",
    "    if len(a['question'].split()) < 5:\n",
    "        continue\n",
    "        \n",
    "    politician = a['politician'].lower()\n",
    "    \n",
    "    if all([r not in politician for r in accept_politician]):\n",
    "        continue\n",
    "        \n",
    "    if not accept_fn(a['answer']):\n",
    "        continue\n",
    "    \n",
    "    filtered.append(a)\n",
    "    \n",
    "len(filtered)"
   ]
  },
  {
   "cell_type": "code",
   "execution_count": 47,
   "id": "52f584fc",
   "metadata": {},
   "outputs": [
    {
     "data": {
      "text/plain": [
       "{'url': 'https://www.parlimen.gov.my/files/hindex/pdf/DR-01072024.pdf',\n",
       " 'date': '2024-07-01',\n",
       " 'actual_no_pages': [9, 10],\n",
       " 'no_pages': [3, 4],\n",
       " 'question': 'Bagaimana Kerajaan Persekutuan dapat mempertahankan hak-hak pekebun dan melindungi pekebun-pekebun tersebut tidak ditindas oleh syarikat besar tersebut?',\n",
       " 'answer': 'Hal tanah adalah di bawah kerajaan negeri. Jadi, sebarang masalah hal tanah ini kita harapkan berlaku perundingan antara mereka yang meneroka ataupun menanam itu dengan kerajaan negeri. Inilah yang kita mengharapkan sebab kita tahu yang terlibat menanam secara sah, 8,782 dan bilangan yang meneroka itu adalah 186 dan sekitar dua persen.',\n",
       " 'politician': 'Datuk Seri Haji Mohamad bin Sabu',\n",
       " 'personality': 'Helpful',\n",
       " 'topic': 'Agriculture'}"
      ]
     },
     "execution_count": 47,
     "metadata": {},
     "output_type": "execute_result"
    }
   ],
   "source": [
    "filtered[0]"
   ]
  },
  {
   "cell_type": "code",
   "execution_count": 48,
   "id": "21ccdd99",
   "metadata": {},
   "outputs": [],
   "source": [
    "templates = [\n",
    "    'anda adalah {name} yg mempunyai personality {personality} yg sedang discuss ttg {topic} didalam sesi parlimen',\n",
    "    'you are {name} with personality {personality} discussing about {topic} in parliament session',\n",
    "    'Anda adalah seorang pembantu AI yang mempunyai watak {name} dengan personaliti {personality} di dalam sesi parlimen'\n",
    "]"
   ]
  },
  {
   "cell_type": "code",
   "execution_count": 49,
   "id": "6dec86f2",
   "metadata": {},
   "outputs": [],
   "source": [
    "import random\n",
    "\n",
    "data = []\n",
    "for f in filtered:\n",
    "    q = f['question']\n",
    "    a = f['answer']\n",
    "    system = random.choice(templates).format(name = f['politician'], personality = f['personality'], topic = f['topic'])\n",
    "    if random.random() > 0.7:\n",
    "        q = f'{system}\\n\\n{q}'\n",
    "        system = None\n",
    "    \n",
    "    data.append({\n",
    "        'prompt_input': system,\n",
    "        'input': q,\n",
    "        'output': a,\n",
    "    })"
   ]
  },
  {
   "cell_type": "code",
   "execution_count": 50,
   "id": "2f31335a",
   "metadata": {},
   "outputs": [
    {
     "data": {
      "text/plain": [
       "220778"
      ]
     },
     "execution_count": 50,
     "metadata": {},
     "output_type": "execute_result"
    }
   ],
   "source": [
    "len(data)"
   ]
  },
  {
   "cell_type": "code",
   "execution_count": 51,
   "id": "163a58df",
   "metadata": {},
   "outputs": [
    {
     "data": {
      "text/plain": [
       "{'prompt_input': 'anda adalah Dr. Kelvin Yii Lee Wuen yg mempunyai personality Member of Parliament yg sedang discuss ttg Mental Health didalam sesi parlimen',\n",
       " 'input': 'What is the role of caregivers in supporting individuals with mental health issues?',\n",
       " 'output': 'Jadi, apakah peranan kementerian untuk kita for this group of people, the care givers? Jika kita menjaga care givers dengan baik, mereka akan menjaga pesakit kita dengan lebih baik.'}"
      ]
     },
     "execution_count": 51,
     "metadata": {},
     "output_type": "execute_result"
    }
   ],
   "source": [
    "data[-2]"
   ]
  },
  {
   "cell_type": "code",
   "execution_count": 52,
   "id": "2b393b48",
   "metadata": {},
   "outputs": [
    {
     "data": {
      "text/html": [
       "<div>\n",
       "<style scoped>\n",
       "    .dataframe tbody tr th:only-of-type {\n",
       "        vertical-align: middle;\n",
       "    }\n",
       "\n",
       "    .dataframe tbody tr th {\n",
       "        vertical-align: top;\n",
       "    }\n",
       "\n",
       "    .dataframe thead th {\n",
       "        text-align: right;\n",
       "    }\n",
       "</style>\n",
       "<table border=\"1\" class=\"dataframe\">\n",
       "  <thead>\n",
       "    <tr style=\"text-align: right;\">\n",
       "      <th></th>\n",
       "      <th>prompt_input</th>\n",
       "      <th>input</th>\n",
       "      <th>output</th>\n",
       "    </tr>\n",
       "  </thead>\n",
       "  <tbody>\n",
       "    <tr>\n",
       "      <th>0</th>\n",
       "      <td>you are Datuk Seri Haji Mohamad bin Sabu with ...</td>\n",
       "      <td>Bagaimana Kerajaan Persekutuan dapat mempertah...</td>\n",
       "      <td>Hal tanah adalah di bawah kerajaan negeri. Jad...</td>\n",
       "    </tr>\n",
       "    <tr>\n",
       "      <th>1</th>\n",
       "      <td>Anda adalah seorang pembantu AI yang mempunyai...</td>\n",
       "      <td>Sejauh mana kerajaan mengambil kesempatan deng...</td>\n",
       "      <td>Kenapa China? Sebab China makan durian. Negara...</td>\n",
       "    </tr>\n",
       "    <tr>\n",
       "      <th>2</th>\n",
       "      <td>Anda adalah seorang pembantu AI yang mempunyai...</td>\n",
       "      <td>Apakah mekanisme kerajaan bagi mengawal penggu...</td>\n",
       "      <td>Soal pest control dan sebagainya itu, itu dala...</td>\n",
       "    </tr>\n",
       "    <tr>\n",
       "      <th>3</th>\n",
       "      <td>Anda adalah seorang pembantu AI yang mempunyai...</td>\n",
       "      <td>Negeri-negeri seterusnya yang disasarkan oleh ...</td>\n",
       "      <td>Kerajaan terus komited untuk menoktahkan kemis...</td>\n",
       "    </tr>\n",
       "    <tr>\n",
       "      <th>4</th>\n",
       "      <td>you are Dato Hajjah Hanifah Hajar Taib with pe...</td>\n",
       "      <td>Kenapa data kemiskinan tegar berbeza antara IC...</td>\n",
       "      <td>Saya akan rujuk kepada pihak DOSM, apakah dari...</td>\n",
       "    </tr>\n",
       "  </tbody>\n",
       "</table>\n",
       "</div>"
      ],
      "text/plain": [
       "                                        prompt_input  \\\n",
       "0  you are Datuk Seri Haji Mohamad bin Sabu with ...   \n",
       "1  Anda adalah seorang pembantu AI yang mempunyai...   \n",
       "2  Anda adalah seorang pembantu AI yang mempunyai...   \n",
       "3  Anda adalah seorang pembantu AI yang mempunyai...   \n",
       "4  you are Dato Hajjah Hanifah Hajar Taib with pe...   \n",
       "\n",
       "                                               input  \\\n",
       "0  Bagaimana Kerajaan Persekutuan dapat mempertah...   \n",
       "1  Sejauh mana kerajaan mengambil kesempatan deng...   \n",
       "2  Apakah mekanisme kerajaan bagi mengawal penggu...   \n",
       "3  Negeri-negeri seterusnya yang disasarkan oleh ...   \n",
       "4  Kenapa data kemiskinan tegar berbeza antara IC...   \n",
       "\n",
       "                                              output  \n",
       "0  Hal tanah adalah di bawah kerajaan negeri. Jad...  \n",
       "1  Kenapa China? Sebab China makan durian. Negara...  \n",
       "2  Soal pest control dan sebagainya itu, itu dala...  \n",
       "3  Kerajaan terus komited untuk menoktahkan kemis...  \n",
       "4  Saya akan rujuk kepada pihak DOSM, apakah dari...  "
      ]
     },
     "execution_count": 52,
     "metadata": {},
     "output_type": "execute_result"
    }
   ],
   "source": [
    "import pandas as pd\n",
    "\n",
    "df = pd.DataFrame(data)\n",
    "df.head()"
   ]
  },
  {
   "cell_type": "code",
   "execution_count": 53,
   "id": "98ad6ac0",
   "metadata": {},
   "outputs": [],
   "source": [
    "df.to_parquet('prepared-malaysian-politician-hansard-style.parquet')"
   ]
  },
  {
   "cell_type": "code",
   "execution_count": 54,
   "id": "5db7cfba",
   "metadata": {},
   "outputs": [
    {
     "data": {
      "application/vnd.jupyter.widget-view+json": {
       "model_id": "9edb29c8e1634223af500dca51dab620",
       "version_major": 2,
       "version_minor": 0
      },
      "text/plain": [
       "prepared-malaysian-politician-hansard-style.parquet:   0%|          | 0.00/60.1M [00:00<?, ?B/s]"
      ]
     },
     "metadata": {},
     "output_type": "display_data"
    },
    {
     "data": {
      "text/plain": [
       "CommitInfo(commit_url='https://huggingface.co/datasets/mesolitica/Malaysian-SFT/commit/fa3b9432705bc90144ab0480cfe60dc76518f77e', commit_message='Upload data/malaysian_politician_hansard_style-00000-of-00001.parquet with huggingface_hub', commit_description='', oid='fa3b9432705bc90144ab0480cfe60dc76518f77e', pr_url=None, pr_revision=None, pr_num=None)"
      ]
     },
     "execution_count": 54,
     "metadata": {},
     "output_type": "execute_result"
    }
   ],
   "source": [
    "from huggingface_hub import HfApi\n",
    "api = HfApi()\n",
    "\n",
    "api.upload_file(\n",
    "    path_or_fileobj=\"prepared-malaysian-politician-hansard-style.parquet\",\n",
    "    path_in_repo='data/malaysian_politician_hansard_style-00000-of-00001.parquet',\n",
    "    repo_id=\"mesolitica/Malaysian-SFT\",\n",
    "    repo_type=\"dataset\",\n",
    ")"
   ]
  },
  {
   "cell_type": "code",
   "execution_count": null,
   "id": "1427a153",
   "metadata": {},
   "outputs": [],
   "source": []
  }
 ],
 "metadata": {
  "kernelspec": {
   "display_name": "python3.10",
   "language": "python",
   "name": "python3.10"
  },
  "language_info": {
   "codemirror_mode": {
    "name": "ipython",
    "version": 3
   },
   "file_extension": ".py",
   "mimetype": "text/x-python",
   "name": "python",
   "nbconvert_exporter": "python",
   "pygments_lexer": "ipython3",
   "version": "3.10.15"
  }
 },
 "nbformat": 4,
 "nbformat_minor": 5
}
