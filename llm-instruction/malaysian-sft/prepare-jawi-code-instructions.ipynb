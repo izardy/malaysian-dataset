{
 "cells": [
  {
   "cell_type": "code",
   "execution_count": 2,
   "id": "49c4bb97",
   "metadata": {},
   "outputs": [],
   "source": [
    "import json\n",
    "import random"
   ]
  },
  {
   "cell_type": "code",
   "execution_count": 3,
   "id": "ae0e4ad0",
   "metadata": {},
   "outputs": [],
   "source": [
    "system = [\n",
    "    'you are a chatbot that always reply in jawi',\n",
    "    'you are an assistant that always reply in jawi',\n",
    "    'awak adalah chatbot yang sentiasa respond dalam jawi',\n",
    "    'awak adalah pembantu AI yang reply in jawi',\n",
    "    'respond in jawi',\n",
    "    'balas dalam jawi',\n",
    "]\n",
    "\n",
    "templates = [\n",
    "    'respond in jawi, {text}',\n",
    "    '{text}, respond dlm jawi',\n",
    "    '{text}\\n\\nrespond in jawi',\n",
    "    '{text}\\n\\nbalas dalam jawi',\n",
    "]"
   ]
  },
  {
   "cell_type": "code",
   "execution_count": 5,
   "id": "fa433426",
   "metadata": {},
   "outputs": [
    {
     "data": {
      "text/plain": [
       "28812"
      ]
     },
     "execution_count": 5,
     "metadata": {},
     "output_type": "execute_result"
    }
   ],
   "source": [
    "code = []\n",
    "\n",
    "with open('/home/husein/ssd3/llama2/jawi-code.jsonl') as fopen:\n",
    "    for l in fopen:\n",
    "        l = json.loads(l)\n",
    "        code.append({\n",
    "            'prompt_input': random.choice(system),\n",
    "            'input': l['instruction'],\n",
    "            'output': l['answer_jawi'],\n",
    "        })\n",
    "        \n",
    "        l_ = random.choice(templates).format(text = l['instruction'])\n",
    "        code.append({\n",
    "            'prompt_input': None,\n",
    "            'input': l_,\n",
    "            'output': l['answer_jawi'],\n",
    "        })\n",
    "        \n",
    "        code.append({\n",
    "            'prompt_input': random.choice(system),\n",
    "            'input': l['instruction_ms'],\n",
    "            'output': l['answer_jawi'],\n",
    "        })\n",
    "        \n",
    "        l_ = random.choice(templates).format(text = l['instruction_ms'])\n",
    "        code.append({\n",
    "            'prompt_input': None,\n",
    "            'input': l_,\n",
    "            'output': l['answer_jawi'],\n",
    "        })\n",
    "len(code)"
   ]
  },
  {
   "cell_type": "code",
   "execution_count": 6,
   "id": "c430aac1",
   "metadata": {},
   "outputs": [
    {
     "data": {
      "text/plain": [
       "{'prompt_input': 'awak adalah chatbot yang sentiasa respond dalam jawi',\n",
       " 'input': 'You are the lead developer for a particle simulation project which utilizes CUDA to accelerate its core computations. This project has been in development for some time now, and its codebase is quite large, with several distinct components. The snippet presented above, which we will refer to as the \"Error Handling Module,\" was written early in the project\\'s life-cycle. It is a collection of CUDA functions that handle errors, which might occur during the simulation. These error handling functions have been placed in a header file called \"error.h\" for inclusion in other parts of the project.\\n\\nEach function within the Error Handling Module corresponds to a specific type of error that could be encountered within the larger simulation project. The functions check for these errors in both device (GPU) and host (CPU) code. In the event of an error, the function will print an error message and exit the program. The specific error code returned corresponds to the nature of the error.\\n\\nWhile working on the project, you have noticed a decline in performance, particularly when the Error Handling Module is involved. Furthermore, you suspect that it might be possible to consolidate some of the error checking code, thereby reducing the overall size of the Error Handling Module. To improve the maintainability, readability and performance of the simulation project you have been tasked with the following objectives:\\n\\n1. Identify redundancies or inefficiencies within the Error Handling Module.\\n2. Consolidate error checking functionality where possible, reducing code duplication and improving maintainability.\\n3. Improve the performance of the error checking process by minimizing the overhead introduced by the Error Handling Module.',\n",
       " 'output': 'اونتوق مناڠني مسئله ڤرستاسي، کبوليهسلڠݢاراٴن، دان کبوليهباچاٴن دالم موداول ڤڠندالين رالت، کيت ڤرلو مڠنل ڤستي چورق بياس دسلوروه فوڠسي ڤڠندالين رالت ايندۏيدو. خصوصڽ، کيت ڤراس بهاوا:\\n\\n١. ستياڤ فوڠسي برمولا دڠن ڤمريقساٴن اونتوق ماکرو `__CUDA_ARCH__` اونتوق منتوکن سام اد کود برجالن ڤد ڤرانتي (GPU) اتاو هوس (CPU).\\n٢. سکيراڽ تردڤت رالت، ميسيج دچيتق ک کونسول اتاو بوفر ڤرينتف GPU.\\n٣. فوڠسي کلوار دڤڠݢيل دڠن کود رالت ترتنتو.\\n\\nدڠن کرومتن اين، کيت بوليه ممبوات فوڠسي ڤڠندالين رالت يڠ لبيه ابسترک يڠ منريما ڤراميتر خصوص رالت دان مڠورڠکن ڤرتيندهن کسلوروهن دالم موداول ڤڠندالين رالت.\\n\\n```cpp\\ntemplate <typename... Args>\\n__device__ __host__ void handleError(Args... args)\\n{\\n    #if __CUDA_ARCH__ > 0\\n    printf(args...);\\n    #else\\n    std::cout << args...;\\n    exit(7700 + __COUNTER__); // ݢوناکن __COUNTER__ اونتوق ممبيذاکن کود رالت دري ڤوتوڠن اصل\\n    #endif\\n}\\n```\\n\\nدسيني، کيت تله ممبوات فوڠسي تيمڤليت يڠ دڤڠݢيل `handleError`، يڠ منريما ڤاکيت ڤراميتر (`Args... args`). فوڠسي اين مرڠکومي فوڠسي بياس يڠ تردڤت دالم فوڠسي ڤڠندالين رالت اصل، سڤرتي مميريق `__CUDA_ARCH__` دان منچيتق ميسيج.\\n\\nستروسڽ، کيت بوليه مڠݢنتيکن فوڠسي ڤڠندالين رالت اصل دڠن ڤڠݢيلن موده ک فوڠسي `handleError`، مڽدياکن رنتتن فورمت دان ارݢومين يڠ سسواي.\\n\\n```cpp\\n__device__ __host__\\nvoid error::throwInitializationError()\\n{\\n    handleError(\"تيدق بوليه ممبوات سيستم اول.nچوبا مڠورڠکن کتومڤتن ذره.n\");\\n}\\n\\n__device__ __host__\\nvoid error::throwCellBoundsError(int cx, int cy, int cz)\\n{\\n    handleError(\"تيدق بوليه منچاري: cells[%d,%d,%d]n\", cx, cy, cz);\\n}\\n\\n// تروسکن چورق اين اونتوق فوڠسي ڤڠندالين رالت يڠ تيڠݢل\\n```\\n\\nدڠن ڤڠوبهسواين اين، کيت تله منچاڤاي اوبجيکتيف کيت اونتوق منيڠکتکن ڤرستاسي، کبوليهسلڠݢاراٴن، دان کبوليهباچاٴن دالم موداول ڤڠندالين رالت.\\n\\n* ڤنيڠکتن ڤرستاسي: دڠن مڠݢابوڠکن فوڠسي برلبيهن دسلوروه فوڠسي ڤڠندالين رالت، کيت تله مڠورڠکن اوۏرهيد ڤڠيراٴن کسلوروهن يڠ برکاٴيتن دڠن ڤمريقساٴن رالت.\\n* کبوليهسلڠݢاراٴن: فوڠسي `handleError` برفوڠسي سباݢاي ساتو تيتيق ماسوق اونتوق ڤڠندالين رالت، منجاديکنڽ لبيه موده دفهمي، دان داوبه سواي جک ڤرلو.\\n* کبوليهباچاٴن: ڤڠکالن کود کيني لبيه ريڠکس دان کورڠ برانتقن، ممودهکن ڤمهمن يڠ لبيه چڤت دان ڤڽهڤڤيجتن يڠ چيکڤ.'}"
      ]
     },
     "execution_count": 6,
     "metadata": {},
     "output_type": "execute_result"
    }
   ],
   "source": [
    "code[0]"
   ]
  },
  {
   "cell_type": "code",
   "execution_count": 7,
   "id": "5208c458",
   "metadata": {},
   "outputs": [],
   "source": [
    "templates = [\n",
    "    '`{text}` ke jawi',\n",
    "    '`{text}` to jawi',\n",
    "    \n",
    "\"\"\"\n",
    "tukar,\n",
    "```\n",
    "{text}\n",
    "```\n",
    "\n",
    "ke bahasa jawi\n",
    "\"\"\",  \n",
    "    \n",
    "\"\"\"\n",
    "convert,\n",
    "```\n",
    "{text}\n",
    "```\n",
    "to jawi\n",
    "\"\"\",\n",
    "    \n",
    "\"\"\"\n",
    "tukar to jawi,\n",
    "```\n",
    "{text}\n",
    "```\n",
    "\"\"\"\n",
    "]"
   ]
  },
  {
   "cell_type": "code",
   "execution_count": 8,
   "id": "e3addd56",
   "metadata": {},
   "outputs": [
    {
     "data": {
      "text/plain": [
       "14406"
      ]
     },
     "execution_count": 8,
     "metadata": {},
     "output_type": "execute_result"
    }
   ],
   "source": [
    "translation = []\n",
    "\n",
    "with open('jawi-code.jsonl') as fopen:\n",
    "    for l in fopen:\n",
    "        l = json.loads(l)\n",
    "        i = random.choice(templates).strip().format(text = l['answer'])\n",
    "        translation.append({\n",
    "            'prompt_input': None,\n",
    "            'input': i,\n",
    "            'output': l['answer_jawi'],\n",
    "        })\n",
    "        \n",
    "        i = random.choice(templates).strip().format(text = l['answer_ms'])\n",
    "        translation.append({\n",
    "            'prompt_input': None,\n",
    "            'input': i,\n",
    "            'output': l['answer_jawi'],\n",
    "        })\n",
    "len(translation)"
   ]
  },
  {
   "cell_type": "code",
   "execution_count": 9,
   "id": "fe2fcd09",
   "metadata": {},
   "outputs": [],
   "source": [
    "templates = [\n",
    "\"\"\"\n",
    "tukar,\n",
    "```\n",
    "{text}\n",
    "```\n",
    "\n",
    "ke bahasa melayu baku\n",
    "\"\"\",\n",
    "    \n",
    "\"\"\"\n",
    "convert,\n",
    "```\n",
    "{text}\n",
    "```\n",
    "\n",
    "to standard malay\n",
    "\"\"\",\n",
    "    \n",
    "\"\"\"\n",
    "tukar to malay,\n",
    "```\n",
    "{text}\n",
    "```\n",
    "\"\"\"\n",
    "]\n",
    "\n",
    "templates_en = [\n",
    "\"\"\"\n",
    "tukar,\n",
    "```\n",
    "{text}\n",
    "```\n",
    "\n",
    "ke bahasa inggeris\n",
    "\"\"\",\n",
    "    \n",
    "\"\"\"\n",
    "convert,\n",
    "```\n",
    "{text}\n",
    "```\n",
    "\n",
    "to standard english\n",
    "\"\"\",\n",
    "    \n",
    "\"\"\"\n",
    "tukar to english,\n",
    "```\n",
    "{text}\n",
    "```\n",
    "\"\"\"\n",
    "]"
   ]
  },
  {
   "cell_type": "code",
   "execution_count": 10,
   "id": "af8664f3",
   "metadata": {},
   "outputs": [
    {
     "data": {
      "text/plain": [
       "14406"
      ]
     },
     "execution_count": 10,
     "metadata": {},
     "output_type": "execute_result"
    }
   ],
   "source": [
    "rev_translation = []\n",
    "\n",
    "with open('jawi-code.jsonl') as fopen:\n",
    "    for l in fopen:\n",
    "        l = json.loads(l)\n",
    "        i = random.choice(templates_en).strip().format(text = l['answer_jawi'])\n",
    "        \n",
    "        rev_translation.append({\n",
    "            'prompt_input': None,\n",
    "            'input': i,\n",
    "            'output': l['answer'],\n",
    "        })\n",
    "        \n",
    "        i = random.choice(templates).strip().format(text = l['answer_jawi'])\n",
    "        rev_translation.append({\n",
    "            'prompt_input': None,\n",
    "            'input': i,\n",
    "            'output': l['answer_ms'],\n",
    "        })\n",
    "len(rev_translation)"
   ]
  },
  {
   "cell_type": "code",
   "execution_count": 12,
   "id": "e4e08548",
   "metadata": {},
   "outputs": [
    {
     "data": {
      "text/html": [
       "<div>\n",
       "<style scoped>\n",
       "    .dataframe tbody tr th:only-of-type {\n",
       "        vertical-align: middle;\n",
       "    }\n",
       "\n",
       "    .dataframe tbody tr th {\n",
       "        vertical-align: top;\n",
       "    }\n",
       "\n",
       "    .dataframe thead th {\n",
       "        text-align: right;\n",
       "    }\n",
       "</style>\n",
       "<table border=\"1\" class=\"dataframe\">\n",
       "  <thead>\n",
       "    <tr style=\"text-align: right;\">\n",
       "      <th></th>\n",
       "      <th>prompt_input</th>\n",
       "      <th>input</th>\n",
       "      <th>output</th>\n",
       "    </tr>\n",
       "  </thead>\n",
       "  <tbody>\n",
       "    <tr>\n",
       "      <th>0</th>\n",
       "      <td>awak adalah chatbot yang sentiasa respond dala...</td>\n",
       "      <td>You are the lead developer for a particle simu...</td>\n",
       "      <td>اونتوق مناڠني مسئله ڤرستاسي، کبوليهسلڠݢاراٴن، ...</td>\n",
       "    </tr>\n",
       "    <tr>\n",
       "      <th>1</th>\n",
       "      <td>None</td>\n",
       "      <td>You are the lead developer for a particle simu...</td>\n",
       "      <td>اونتوق مناڠني مسئله ڤرستاسي، کبوليهسلڠݢاراٴن، ...</td>\n",
       "    </tr>\n",
       "    <tr>\n",
       "      <th>2</th>\n",
       "      <td>you are a chatbot that always reply in jawi</td>\n",
       "      <td>Anda adalah pembangun utama untuk projek simul...</td>\n",
       "      <td>اونتوق مناڠني مسئله ڤرستاسي، کبوليهسلڠݢاراٴن، ...</td>\n",
       "    </tr>\n",
       "    <tr>\n",
       "      <th>3</th>\n",
       "      <td>None</td>\n",
       "      <td>Anda adalah pembangun utama untuk projek simul...</td>\n",
       "      <td>اونتوق مناڠني مسئله ڤرستاسي، کبوليهسلڠݢاراٴن، ...</td>\n",
       "    </tr>\n",
       "    <tr>\n",
       "      <th>4</th>\n",
       "      <td>awak adalah pembantu AI yang reply in jawi</td>\n",
       "      <td>You are given a black box system that can mani...</td>\n",
       "      <td>کامي بوليه منوليس ڤروݢرم C++ اونتوق منيلسايکن ...</td>\n",
       "    </tr>\n",
       "  </tbody>\n",
       "</table>\n",
       "</div>"
      ],
      "text/plain": [
       "                                        prompt_input  \\\n",
       "0  awak adalah chatbot yang sentiasa respond dala...   \n",
       "1                                               None   \n",
       "2        you are a chatbot that always reply in jawi   \n",
       "3                                               None   \n",
       "4         awak adalah pembantu AI yang reply in jawi   \n",
       "\n",
       "                                               input  \\\n",
       "0  You are the lead developer for a particle simu...   \n",
       "1  You are the lead developer for a particle simu...   \n",
       "2  Anda adalah pembangun utama untuk projek simul...   \n",
       "3  Anda adalah pembangun utama untuk projek simul...   \n",
       "4  You are given a black box system that can mani...   \n",
       "\n",
       "                                              output  \n",
       "0  اونتوق مناڠني مسئله ڤرستاسي، کبوليهسلڠݢاراٴن، ...  \n",
       "1  اونتوق مناڠني مسئله ڤرستاسي، کبوليهسلڠݢاراٴن، ...  \n",
       "2  اونتوق مناڠني مسئله ڤرستاسي، کبوليهسلڠݢاراٴن، ...  \n",
       "3  اونتوق مناڠني مسئله ڤرستاسي، کبوليهسلڠݢاراٴن، ...  \n",
       "4  کامي بوليه منوليس ڤروݢرم C++ اونتوق منيلسايکن ...  "
      ]
     },
     "execution_count": 12,
     "metadata": {},
     "output_type": "execute_result"
    }
   ],
   "source": [
    "import pandas as pd\n",
    "\n",
    "df = pd.DataFrame(code + translation + rev_translation)\n",
    "df.head()"
   ]
  },
  {
   "cell_type": "code",
   "execution_count": 13,
   "id": "e2f2f8e9",
   "metadata": {},
   "outputs": [],
   "source": [
    "df.to_parquet('prepared-jawi-code-instructions.parquet')"
   ]
  },
  {
   "cell_type": "code",
   "execution_count": 14,
   "id": "4445ab52",
   "metadata": {},
   "outputs": [
    {
     "data": {
      "application/vnd.jupyter.widget-view+json": {
       "model_id": "3f09d21922d542d2bfd124621e0a0c35",
       "version_major": 2,
       "version_minor": 0
      },
      "text/plain": [
       "prepared-jawi-code-instructions.parquet:   0%|          | 0.00/72.5M [00:00<?, ?B/s]"
      ]
     },
     "metadata": {},
     "output_type": "display_data"
    },
    {
     "data": {
      "text/plain": [
       "CommitInfo(commit_url='https://huggingface.co/datasets/mesolitica/Malaysian-SFT/commit/852f952ec366b5e52591de818e89333852d44705', commit_message='Upload data/jawi_code_instructions-00000-of-00001.parquet with huggingface_hub', commit_description='', oid='852f952ec366b5e52591de818e89333852d44705', pr_url=None, pr_revision=None, pr_num=None)"
      ]
     },
     "execution_count": 14,
     "metadata": {},
     "output_type": "execute_result"
    }
   ],
   "source": [
    "from huggingface_hub import HfApi\n",
    "api = HfApi()\n",
    "\n",
    "api.upload_file(\n",
    "    path_or_fileobj=\"prepared-jawi-code-instructions.parquet\",\n",
    "    path_in_repo='data/jawi_code_instructions-00000-of-00001.parquet',\n",
    "    repo_id=\"mesolitica/Malaysian-SFT\",\n",
    "    repo_type=\"dataset\",\n",
    ")"
   ]
  },
  {
   "cell_type": "code",
   "execution_count": null,
   "id": "3d735502",
   "metadata": {},
   "outputs": [],
   "source": []
  }
 ],
 "metadata": {
  "kernelspec": {
   "display_name": "python3.10",
   "language": "python",
   "name": "python3.10"
  },
  "language_info": {
   "codemirror_mode": {
    "name": "ipython",
    "version": 3
   },
   "file_extension": ".py",
   "mimetype": "text/x-python",
   "name": "python",
   "nbconvert_exporter": "python",
   "pygments_lexer": "ipython3",
   "version": "3.10.15"
  }
 },
 "nbformat": 4,
 "nbformat_minor": 5
}
