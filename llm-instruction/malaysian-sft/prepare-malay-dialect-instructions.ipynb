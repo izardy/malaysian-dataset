{
 "cells": [
  {
   "cell_type": "code",
   "execution_count": 1,
   "id": "48887576",
   "metadata": {},
   "outputs": [],
   "source": [
    "import json\n",
    "import random\n",
    "from glob import glob"
   ]
  },
  {
   "cell_type": "code",
   "execution_count": 2,
   "id": "262ac0f0",
   "metadata": {},
   "outputs": [
    {
     "data": {
      "text/plain": [
       "['johor-malaysia.jsonl',\n",
       " 'kedah-malaysia.jsonl',\n",
       " 'kelantan-malaysia.jsonl',\n",
       " 'local-malay-malaysia.jsonl',\n",
       " 'melaka-malaysia.jsonl',\n",
       " 'negeri-sembilan-malaysia.jsonl',\n",
       " 'pahang-malaysia.jsonl',\n",
       " 'perak-malaysia.jsonl',\n",
       " 'sabah-malaysia.jsonl',\n",
       " 'sarawak-malaysia.jsonl',\n",
       " 'terengganu-malaysia.jsonl']"
      ]
     },
     "execution_count": 2,
     "metadata": {},
     "output_type": "execute_result"
    }
   ],
   "source": [
    "files = sorted(glob('*-malaysia.jsonl'))\n",
    "files"
   ]
  },
  {
   "cell_type": "code",
   "execution_count": 3,
   "id": "13f32368",
   "metadata": {},
   "outputs": [],
   "source": [
    "templates_system = [\n",
    "    'Anda adalah chatbot yang mampu respond dalam dialek {bahasa}',\n",
    "    'You are are a chatbot that able to respond in dialect {bahasa}',\n",
    "    'always respond in dialect {bahasa}',\n",
    "    'sentiasa respond dlm dialek {bahasa}',\n",
    "    'please respond in {bahasa}',\n",
    "    'tolong balas dalam {bahasa}',\n",
    "]\n",
    "\n",
    "templates = [\n",
    "    'respond in dialect {bahasa}, {text}',\n",
    "    '{text}, respond dlm {bahasa}',\n",
    "    '{text}\\n\\nrespond in {bahasa}',\n",
    "    '{text}\\n\\nbalas dalam dialek {bahasa}',\n",
    "]"
   ]
  },
  {
   "cell_type": "code",
   "execution_count": 4,
   "id": "8fc26764",
   "metadata": {},
   "outputs": [
    {
     "data": {
      "text/plain": [
       "64362"
      ]
     },
     "execution_count": 4,
     "metadata": {},
     "output_type": "execute_result"
    }
   ],
   "source": [
    "malaysia = []\n",
    "for f in files:\n",
    "    bahasa = f.split('/')[-1].split('-malaysia')[0].replace('-', ' ')\n",
    "    with open(f) as fopen:\n",
    "        for l in fopen:\n",
    "            l = json.loads(l)\n",
    "            system = random.choice(templates_system).strip().format(bahasa = bahasa)\n",
    "            \n",
    "            malaysia.append({\n",
    "                'prompt_input': system,\n",
    "                'input': l['instruction_dialect'],\n",
    "                'output': l['answer_dialect']\n",
    "            })\n",
    "            \n",
    "            l_ = random.choice(templates).strip().format(bahasa=bahasa, text=l['instruction_dialect'])\n",
    "            \n",
    "            malaysia.append({\n",
    "                'prompt_input': None,\n",
    "                'input': l_,\n",
    "                'output': l['answer_dialect']\n",
    "            })\n",
    "            \n",
    "            q = l['instruction_ms']   \n",
    "            try:\n",
    "                if 'follow-up question' in l['instruction']:\n",
    "                    q = q.split('\\n', 1)[1].strip()\n",
    "            except:\n",
    "                continue\n",
    "                \n",
    "            malaysia.append({\n",
    "                'prompt_input': system,\n",
    "                'input': q,\n",
    "                'output': l['answer_dialect']\n",
    "            })\n",
    "            \n",
    "            l_ = random.choice(templates).strip().format(bahasa=bahasa, text=q)\n",
    "            \n",
    "            malaysia.append({\n",
    "                'prompt_input': None,\n",
    "                'input': l_,\n",
    "                'output': l['answer_dialect']\n",
    "            })\n",
    "            \n",
    "            q = l['instruction']\n",
    "            try:\n",
    "                if 'follow-up question' in l['instruction']:\n",
    "                    q = q.split('\\n', 1)[1].strip()\n",
    "            except:\n",
    "                continue\n",
    "                \n",
    "            malaysia.append({\n",
    "                'prompt_input': system,\n",
    "                'input': q,\n",
    "                'output': l['answer_dialect']\n",
    "            })\n",
    "            \n",
    "            l_ = random.choice(templates).strip().format(bahasa=bahasa, text=q)\n",
    "            \n",
    "            malaysia.append({\n",
    "                'prompt_input': None,\n",
    "                'input': l_,\n",
    "                'output': l['answer_dialect']\n",
    "            })\n",
    "            \n",
    "            \n",
    "len(malaysia)"
   ]
  },
  {
   "cell_type": "code",
   "execution_count": 13,
   "id": "bddf648b",
   "metadata": {},
   "outputs": [
    {
     "data": {
      "text/plain": [
       "[{'prompt_input': 'please respond in johor',\n",
       "  'input': 'Apasal la setengah orang ni suka mencarik pasal dengan mahkamah kita? Diorang kata hakim-hakim ni memihak kat kerajaan je, tak nak siasat betul-betul pasal kes rasuah orang-orang besar macam Najib tu. Dah la buat kerja mencangut je, lepas tu tak ke selapnyer pulak tuduh orang sesuka hati. Kalau macam ni, rakyat jadi bingit la. Tak ke loto je mahkamah kita kalau betul la macam tu? Apa ke dusa diorang ni? Kemahak sangat ke nak tengok orang kena hukum? Tak palang la nak mengopes pasal ni, buat pening kepala je.',\n",
       "  'output': 'Wah, ramai sungguh orang membebel pasal badan kehakiman Malaysia ni. Diorang cakap badan ni memihak kat kerajaan, tak nak siasat betul-betul pasal pegawai besar macam Najib yang kena tuduh rasuah tu. Apa pasal? Cuba tengok:\\n\\n1. Orang ingat politik masuk campur: Diorang kata badan kehakiman ni tak bebas, kena kongkong dengan kerajaan. Banyak kes besar-besar nampak macam mahkamah ni berat sebelah je.\\n\\n2. Kes rasuah lambat sangat: Kes rasuah pegawai besar-besar ni lama sangat nak selesai. Macam kes Najib dengan skandal 1MDB tu, bertahun-tahun baru nak bicara.\\n\\n3. Keputusan mahkamah mencangut: Ada keputusan mahkamah yang buat orang tak puas hati. Macam tahun 2019 tu, mahkamah batalkan kes Najib yang kena tuduh salah guna kuasa. Ramai orang jadi kemahak.\\n\\n4. Tak telus langsung: Badan kehakiman ni macam suka tutup-tutup. Tak nak cerita pasal macam mana diorang buat keputusan. Jadi orang ingat ada main kotor ke apa.\\n\\n5. Kuasa terpusat: Orang kata cabang eksekutif ni pegang kuasa teruk sangat. Kerajaan boleh kongkong badan kehakiman sesuka hati je.\\n\\nTapi jangan lupa, tak semua orang setuju dengan kritikan ni. Ada jugak yang kata badan kehakiman Malaysia ni bebas, tak berat sebelah. Tapi memang la ramai yang rasa benda ni jadi isu besar kat Malaysia. Orang ramai jadi bingit pasal benda ni.'},\n",
       " {'prompt_input': None,\n",
       "  'input': 'Apasal la setengah orang ni suka mencarik pasal dengan mahkamah kita? Diorang kata hakim-hakim ni memihak kat kerajaan je, tak nak siasat betul-betul pasal kes rasuah orang-orang besar macam Najib tu. Dah la buat kerja mencangut je, lepas tu tak ke selapnyer pulak tuduh orang sesuka hati. Kalau macam ni, rakyat jadi bingit la. Tak ke loto je mahkamah kita kalau betul la macam tu? Apa ke dusa diorang ni? Kemahak sangat ke nak tengok orang kena hukum? Tak palang la nak mengopes pasal ni, buat pening kepala je., respond dlm johor',\n",
       "  'output': 'Wah, ramai sungguh orang membebel pasal badan kehakiman Malaysia ni. Diorang cakap badan ni memihak kat kerajaan, tak nak siasat betul-betul pasal pegawai besar macam Najib yang kena tuduh rasuah tu. Apa pasal? Cuba tengok:\\n\\n1. Orang ingat politik masuk campur: Diorang kata badan kehakiman ni tak bebas, kena kongkong dengan kerajaan. Banyak kes besar-besar nampak macam mahkamah ni berat sebelah je.\\n\\n2. Kes rasuah lambat sangat: Kes rasuah pegawai besar-besar ni lama sangat nak selesai. Macam kes Najib dengan skandal 1MDB tu, bertahun-tahun baru nak bicara.\\n\\n3. Keputusan mahkamah mencangut: Ada keputusan mahkamah yang buat orang tak puas hati. Macam tahun 2019 tu, mahkamah batalkan kes Najib yang kena tuduh salah guna kuasa. Ramai orang jadi kemahak.\\n\\n4. Tak telus langsung: Badan kehakiman ni macam suka tutup-tutup. Tak nak cerita pasal macam mana diorang buat keputusan. Jadi orang ingat ada main kotor ke apa.\\n\\n5. Kuasa terpusat: Orang kata cabang eksekutif ni pegang kuasa teruk sangat. Kerajaan boleh kongkong badan kehakiman sesuka hati je.\\n\\nTapi jangan lupa, tak semua orang setuju dengan kritikan ni. Ada jugak yang kata badan kehakiman Malaysia ni bebas, tak berat sebelah. Tapi memang la ramai yang rasa benda ni jadi isu besar kat Malaysia. Orang ramai jadi bingit pasal benda ni.'},\n",
       " {'prompt_input': 'please respond in johor',\n",
       "  'input': 'Mengapa sesetengah pengkritik menuduh badan kehakiman Malaysia memihak kepada gabungan pemerintah dan tidak menyiasat dakwaan rasuah dengan betul terhadap pegawai tinggi seperti Najib Razak?',\n",
       "  'output': 'Wah, ramai sungguh orang membebel pasal badan kehakiman Malaysia ni. Diorang cakap badan ni memihak kat kerajaan, tak nak siasat betul-betul pasal pegawai besar macam Najib yang kena tuduh rasuah tu. Apa pasal? Cuba tengok:\\n\\n1. Orang ingat politik masuk campur: Diorang kata badan kehakiman ni tak bebas, kena kongkong dengan kerajaan. Banyak kes besar-besar nampak macam mahkamah ni berat sebelah je.\\n\\n2. Kes rasuah lambat sangat: Kes rasuah pegawai besar-besar ni lama sangat nak selesai. Macam kes Najib dengan skandal 1MDB tu, bertahun-tahun baru nak bicara.\\n\\n3. Keputusan mahkamah mencangut: Ada keputusan mahkamah yang buat orang tak puas hati. Macam tahun 2019 tu, mahkamah batalkan kes Najib yang kena tuduh salah guna kuasa. Ramai orang jadi kemahak.\\n\\n4. Tak telus langsung: Badan kehakiman ni macam suka tutup-tutup. Tak nak cerita pasal macam mana diorang buat keputusan. Jadi orang ingat ada main kotor ke apa.\\n\\n5. Kuasa terpusat: Orang kata cabang eksekutif ni pegang kuasa teruk sangat. Kerajaan boleh kongkong badan kehakiman sesuka hati je.\\n\\nTapi jangan lupa, tak semua orang setuju dengan kritikan ni. Ada jugak yang kata badan kehakiman Malaysia ni bebas, tak berat sebelah. Tapi memang la ramai yang rasa benda ni jadi isu besar kat Malaysia. Orang ramai jadi bingit pasal benda ni.'},\n",
       " {'prompt_input': None,\n",
       "  'input': 'respond in dialect johor, Mengapa sesetengah pengkritik menuduh badan kehakiman Malaysia memihak kepada gabungan pemerintah dan tidak menyiasat dakwaan rasuah dengan betul terhadap pegawai tinggi seperti Najib Razak?',\n",
       "  'output': 'Wah, ramai sungguh orang membebel pasal badan kehakiman Malaysia ni. Diorang cakap badan ni memihak kat kerajaan, tak nak siasat betul-betul pasal pegawai besar macam Najib yang kena tuduh rasuah tu. Apa pasal? Cuba tengok:\\n\\n1. Orang ingat politik masuk campur: Diorang kata badan kehakiman ni tak bebas, kena kongkong dengan kerajaan. Banyak kes besar-besar nampak macam mahkamah ni berat sebelah je.\\n\\n2. Kes rasuah lambat sangat: Kes rasuah pegawai besar-besar ni lama sangat nak selesai. Macam kes Najib dengan skandal 1MDB tu, bertahun-tahun baru nak bicara.\\n\\n3. Keputusan mahkamah mencangut: Ada keputusan mahkamah yang buat orang tak puas hati. Macam tahun 2019 tu, mahkamah batalkan kes Najib yang kena tuduh salah guna kuasa. Ramai orang jadi kemahak.\\n\\n4. Tak telus langsung: Badan kehakiman ni macam suka tutup-tutup. Tak nak cerita pasal macam mana diorang buat keputusan. Jadi orang ingat ada main kotor ke apa.\\n\\n5. Kuasa terpusat: Orang kata cabang eksekutif ni pegang kuasa teruk sangat. Kerajaan boleh kongkong badan kehakiman sesuka hati je.\\n\\nTapi jangan lupa, tak semua orang setuju dengan kritikan ni. Ada jugak yang kata badan kehakiman Malaysia ni bebas, tak berat sebelah. Tapi memang la ramai yang rasa benda ni jadi isu besar kat Malaysia. Orang ramai jadi bingit pasal benda ni.'},\n",
       " {'prompt_input': 'please respond in johor',\n",
       "  'input': 'Why have some critics accused the Malaysian judiciary of being biased in favor of the ruling coalition and not properly investigating corruption allegations against high-ranking officials like Najib Razak?',\n",
       "  'output': 'Wah, ramai sungguh orang membebel pasal badan kehakiman Malaysia ni. Diorang cakap badan ni memihak kat kerajaan, tak nak siasat betul-betul pasal pegawai besar macam Najib yang kena tuduh rasuah tu. Apa pasal? Cuba tengok:\\n\\n1. Orang ingat politik masuk campur: Diorang kata badan kehakiman ni tak bebas, kena kongkong dengan kerajaan. Banyak kes besar-besar nampak macam mahkamah ni berat sebelah je.\\n\\n2. Kes rasuah lambat sangat: Kes rasuah pegawai besar-besar ni lama sangat nak selesai. Macam kes Najib dengan skandal 1MDB tu, bertahun-tahun baru nak bicara.\\n\\n3. Keputusan mahkamah mencangut: Ada keputusan mahkamah yang buat orang tak puas hati. Macam tahun 2019 tu, mahkamah batalkan kes Najib yang kena tuduh salah guna kuasa. Ramai orang jadi kemahak.\\n\\n4. Tak telus langsung: Badan kehakiman ni macam suka tutup-tutup. Tak nak cerita pasal macam mana diorang buat keputusan. Jadi orang ingat ada main kotor ke apa.\\n\\n5. Kuasa terpusat: Orang kata cabang eksekutif ni pegang kuasa teruk sangat. Kerajaan boleh kongkong badan kehakiman sesuka hati je.\\n\\nTapi jangan lupa, tak semua orang setuju dengan kritikan ni. Ada jugak yang kata badan kehakiman Malaysia ni bebas, tak berat sebelah. Tapi memang la ramai yang rasa benda ni jadi isu besar kat Malaysia. Orang ramai jadi bingit pasal benda ni.'}]"
      ]
     },
     "execution_count": 13,
     "metadata": {},
     "output_type": "execute_result"
    }
   ],
   "source": [
    "malaysia[:5]"
   ]
  },
  {
   "cell_type": "code",
   "execution_count": 14,
   "id": "93f3e42a",
   "metadata": {},
   "outputs": [
    {
     "data": {
      "text/plain": [
       "10753"
      ]
     },
     "execution_count": 14,
     "metadata": {},
     "output_type": "execute_result"
    }
   ],
   "source": [
    "malaysia_standard = []\n",
    "for f in files:\n",
    "    bahasa = f.split('/')[-1].split('-malaysia')[0].replace('-', ' ')\n",
    "    with open(f) as fopen:\n",
    "        for l in fopen:\n",
    "            l = json.loads(l)\n",
    "            \n",
    "            malaysia_standard.append({\n",
    "                'prompt_input': None,\n",
    "                'input': l['instruction_dialect'],\n",
    "                'output': l['answer_ms'],\n",
    "            })\n",
    "            \n",
    "len(malaysia_standard)"
   ]
  },
  {
   "cell_type": "code",
   "execution_count": 16,
   "id": "12e0b278",
   "metadata": {},
   "outputs": [],
   "source": [
    "templates = [\n",
    "    '`{text}` ke {bahasa}',\n",
    "    'convert `{text}` to {bahasa}',\n",
    "\"\"\"\n",
    "tukar,\n",
    "```\n",
    "{text}\n",
    "```\n",
    "\n",
    "ke dialek {bahasa}\n",
    "\"\"\",\n",
    "    \n",
    "\"\"\"\n",
    "tukar,\n",
    "```\n",
    "{text}\n",
    "```\n",
    "\n",
    "ke {bahasa}\n",
    "\"\"\",\n",
    "    \n",
    "\"\"\"\n",
    "convert,\n",
    "```\n",
    "{text}\n",
    "```\n",
    "\n",
    "to dialect {bahasa}\n",
    "\"\"\",\n",
    "    \n",
    "\"\"\"\n",
    "tukar to dialek {bahasa},\n",
    "```\n",
    "{text}\n",
    "```\n",
    "\"\"\",\n",
    "\"\"\"\n",
    "tukar to {bahasa},\n",
    "```\n",
    "{text}\n",
    "```\n",
    "\"\"\"\n",
    "]"
   ]
  },
  {
   "cell_type": "code",
   "execution_count": 17,
   "id": "cd4164f0",
   "metadata": {},
   "outputs": [
    {
     "data": {
      "text/plain": [
       "42934"
      ]
     },
     "execution_count": 17,
     "metadata": {},
     "output_type": "execute_result"
    }
   ],
   "source": [
    "keys_a = ['answer_ms', 'answer']\n",
    "keys = ['instruction_ms', 'instruction']\n",
    "\n",
    "translation = []\n",
    "for f in files:\n",
    "    bahasa = f.split('/')[-1].split('-malaysia')[0].replace('-', ' ')\n",
    "    with open(f) as fopen:\n",
    "        for l in fopen:\n",
    "            l = json.loads(l)\n",
    "            \n",
    "            for k in keys_a:\n",
    "                i = random.choice(templates).strip().format(bahasa = bahasa, text = l[k]).strip()\n",
    "                a = l['answer_dialect']\n",
    "                \n",
    "                translation.append({\n",
    "                    'prompt_input': None,\n",
    "                    'input': i,\n",
    "                    'output': a,\n",
    "                })\n",
    "            \n",
    "            for k in keys:\n",
    "                q = l[k]\n",
    "                try:\n",
    "                    if 'follow-up question' in l['instruction']:\n",
    "                        q = q.split('\\n', 1)[1].strip()\n",
    "                except:\n",
    "                    continue\n",
    "                    \n",
    "                i = random.choice(templates).strip().format(bahasa = bahasa, text = q).strip()\n",
    "                a = l['instruction_dialect']\n",
    "                \n",
    "                translation.append({\n",
    "                    'prompt_input': None,\n",
    "                    'input': i,\n",
    "                    'output': a,\n",
    "                })\n",
    "            \n",
    "            \n",
    "len(translation)"
   ]
  },
  {
   "cell_type": "code",
   "execution_count": 18,
   "id": "dcd77cee",
   "metadata": {},
   "outputs": [
    {
     "data": {
      "text/plain": [
       "{'prompt_input': None,\n",
       " 'input': 'tukar to dialek johor,\\n```\\nPengkritik telah menuduh badan kehakiman Malaysia memihak kepada gabungan pemerintah dan tidak menyiasat dakwaan rasuah dengan betul terhadap pegawai berpangkat tinggi seperti Najib Razak atas beberapa sebab:\\n\\n1. Persepsi campur tangan politik: Pengkritik mendakwa bahawa badan kehakiman tidak bebas dan telah tertakluk kepada campur tangan politik daripada gabungan pemerintah. Persepsi ini telah didorong oleh beberapa siri kes berprofil tinggi di mana mahkamah telah dilihat memihak kepada kerajaan.\\n2. Kelewatan dalam kes rasuah: Pengkritik telah menegaskan bahawa kes rasuah yang melibatkan pegawai berpangkat tinggi telah mengambil masa yang lama untuk diselesaikan. Sebagai contoh, kes terhadap Najib Razak, yang didakwa dengan rasuah berhubung skandal 1MDB, mengambil masa beberapa tahun untuk dibicarakan.\\n3. Keputusan mahkamah yang boleh dipersoalkan: Terdapat beberapa keputusan mahkamah yang boleh dipersoalkan yang telah menimbulkan kebimbangan tentang kebebasan badan kehakiman. Sebagai contoh, pada 2019, mahkamah Malaysia membatalkan sabitan bekas Perdana Menteri Najib Razak atas tuduhan salah guna kuasa dan rasuah, mencetuskan kritikan meluas.\\n4. Kekurangan ketelusan: Kekurangan ketelusan dalam badan kehakiman Malaysia juga telah menjadi punca kebimbangan. Pengkritik telah menegaskan bahawa badan kehakiman tidak terbuka tentang proses membuat keputusan, yang membawa kepada syak wasangka berat sebelah dan rasuah.\\n5. Penumpuan kuasa: Penumpuan kuasa di tangan cabang eksekutif juga telah disebut sebagai sebab kecenderungan yang dirasakan dalam badan kehakiman Malaysia. Pengkritik berpendapat bahawa gabungan pemerintah mempunyai terlalu banyak pengaruh ke atas badan kehakiman, menjejaskan kemerdekaannya.\\n\\nPerlu diingat bahawa kritikan ini tidak diterima secara universal, dan ada yang berpendapat bahawa badan kehakiman Malaysia bebas dan tidak berat sebelah. Walau bagaimanapun, persepsi berat sebelah dan campur tangan politik kekal sebagai isu penting di Malaysia dan telah menjadi sumber kontroversi dan perdebatan.\\n```',\n",
       " 'output': 'Wah, ramai sungguh orang membebel pasal badan kehakiman Malaysia ni. Diorang cakap badan ni memihak kat kerajaan, tak nak siasat betul-betul pasal pegawai besar macam Najib yang kena tuduh rasuah tu. Apa pasal? Cuba tengok:\\n\\n1. Orang ingat politik masuk campur: Diorang kata badan kehakiman ni tak bebas, kena kongkong dengan kerajaan. Banyak kes besar-besar nampak macam mahkamah ni berat sebelah je.\\n\\n2. Kes rasuah lambat sangat: Kes rasuah pegawai besar-besar ni lama sangat nak selesai. Macam kes Najib dengan skandal 1MDB tu, bertahun-tahun baru nak bicara.\\n\\n3. Keputusan mahkamah mencangut: Ada keputusan mahkamah yang buat orang tak puas hati. Macam tahun 2019 tu, mahkamah batalkan kes Najib yang kena tuduh salah guna kuasa. Ramai orang jadi kemahak.\\n\\n4. Tak telus langsung: Badan kehakiman ni macam suka tutup-tutup. Tak nak cerita pasal macam mana diorang buat keputusan. Jadi orang ingat ada main kotor ke apa.\\n\\n5. Kuasa terpusat: Orang kata cabang eksekutif ni pegang kuasa teruk sangat. Kerajaan boleh kongkong badan kehakiman sesuka hati je.\\n\\nTapi jangan lupa, tak semua orang setuju dengan kritikan ni. Ada jugak yang kata badan kehakiman Malaysia ni bebas, tak berat sebelah. Tapi memang la ramai yang rasa benda ni jadi isu besar kat Malaysia. Orang ramai jadi bingit pasal benda ni.'}"
      ]
     },
     "execution_count": 18,
     "metadata": {},
     "output_type": "execute_result"
    }
   ],
   "source": [
    "translation[0]"
   ]
  },
  {
   "cell_type": "code",
   "execution_count": 19,
   "id": "220909b1",
   "metadata": {},
   "outputs": [],
   "source": [
    "templates = [\n",
    "    '`{text}` ke melayu',\n",
    "    '`{text}` to malay',\n",
    "    \"\"\"\n",
    "tukar,\n",
    "```\n",
    "{text}\n",
    "```\n",
    "\n",
    "ke bahasa melayu baku\n",
    "\"\"\",\n",
    "\"\"\"\n",
    "convert,\n",
    "```\n",
    "{text}\n",
    "```\n",
    "\n",
    "to standard malay\n",
    "\"\"\",\n",
    "\"\"\"\n",
    "tukar to malay,\n",
    "```\n",
    "{text}\n",
    "```\n",
    "\"\"\"\n",
    "]\n",
    "\n",
    "templates_en = [\n",
    "    '`{text}` ke english',\n",
    "    '`{text}` to english',\n",
    "\"\"\"\n",
    "tukar,\n",
    "```\n",
    "{text}\n",
    "```\n",
    "\n",
    "ke bahasa inggeris\n",
    "\"\"\",\n",
    "\"\"\"\n",
    "convert,\n",
    "```\n",
    "{text}\n",
    "```\n",
    "\n",
    "to standard english\n",
    "\"\"\",\n",
    "\"\"\"\n",
    "tukar to english,\n",
    "```\n",
    "{text}\n",
    "```\n",
    "\"\"\"\n",
    "]"
   ]
  },
  {
   "cell_type": "code",
   "execution_count": 21,
   "id": "bee97fa1",
   "metadata": {},
   "outputs": [
    {
     "data": {
      "text/plain": [
       "42726"
      ]
     },
     "execution_count": 21,
     "metadata": {},
     "output_type": "execute_result"
    }
   ],
   "source": [
    "rev_translation = []\n",
    "for f in files:\n",
    "    bahasa = f.split('/')[-1].split('-malaysia')[0].replace('-', ' ')\n",
    "    with open(f) as fopen:\n",
    "        for l in fopen:\n",
    "            l = json.loads(l)\n",
    "            \n",
    "            i = random.choice(templates).strip().format(text = l['answer_dialect']).strip()\n",
    "            a = l['answer_ms']\n",
    "            \n",
    "            rev_translation.append({\n",
    "                'prompt_input': None,\n",
    "                'input': i,\n",
    "                'output': a,\n",
    "            })\n",
    "            \n",
    "            i = random.choice(templates_en).strip().format(text = l['answer_dialect']).strip()\n",
    "            a = l['answer']\n",
    "            \n",
    "            rev_translation.append({\n",
    "                'prompt_input': None,\n",
    "                'input': i,\n",
    "                'output': a,\n",
    "            })\n",
    "            \n",
    "            try:\n",
    "                if 'follow-up question' in l['instruction']:\n",
    "                    q = q.split('\\n', 1)[1].strip()\n",
    "            except:\n",
    "                continue\n",
    "            \n",
    "            i = random.choice(templates).strip().format(text = l['instruction_dialect']).strip()\n",
    "            a = l['instruction_ms']\n",
    "            \n",
    "            rev_translation.append({\n",
    "                'prompt_input': None,\n",
    "                'input': i,\n",
    "                'output': a,\n",
    "            })\n",
    "            \n",
    "            i = random.choice(templates_en).strip().format(text = l['instruction_dialect']).strip()\n",
    "            a = l['instruction']\n",
    "            \n",
    "            rev_translation.append({\n",
    "                'prompt_input': None,\n",
    "                'input': i,\n",
    "                'output': a,\n",
    "            })\n",
    "            \n",
    "            \n",
    "len(rev_translation)"
   ]
  },
  {
   "cell_type": "code",
   "execution_count": 22,
   "id": "de3dfeff",
   "metadata": {},
   "outputs": [
    {
     "data": {
      "text/plain": [
       "['johor-malaysia-code.jsonl',\n",
       " 'kedah-malaysia-code.jsonl',\n",
       " 'kelantan-malaysia-code.jsonl',\n",
       " 'local-malay-malaysia-code.jsonl',\n",
       " 'melaka-malaysia-code.jsonl',\n",
       " 'negeri-sembilan-malaysia-code.jsonl',\n",
       " 'pahang-malaysia-code.jsonl',\n",
       " 'perak-malaysia-code.jsonl',\n",
       " 'sabah-malaysia-code.jsonl',\n",
       " 'sarawak-malaysia-code.jsonl',\n",
       " 'terengganu-malaysia-code.jsonl']"
      ]
     },
     "execution_count": 22,
     "metadata": {},
     "output_type": "execute_result"
    }
   ],
   "source": [
    "files = sorted(glob('*-malaysia-code.jsonl'))\n",
    "files"
   ]
  },
  {
   "cell_type": "code",
   "execution_count": 23,
   "id": "2d848424",
   "metadata": {},
   "outputs": [],
   "source": [
    "templates_system = [\n",
    "    'Anda adalah chatbot yang mampu respond dalam dialek {bahasa}',\n",
    "    'You are are a chatbot that able to respond in dialect {bahasa}',\n",
    "    'always respond in dialect {bahasa}',\n",
    "    'sentiasa respond dlm dialek {bahasa}',\n",
    "    'please respond in {bahasa}',\n",
    "    'tolong balas dalam {bahasa}',\n",
    "]\n",
    "\n",
    "templates = [\n",
    "    'respond in dialect {bahasa}, {text}',\n",
    "    '{text}, respond dlm {bahasa}',\n",
    "    '{text}\\n\\nrespond in {bahasa}',\n",
    "    '{text}\\n\\nbalas dalam dialek {bahasa}',\n",
    "]"
   ]
  },
  {
   "cell_type": "code",
   "execution_count": 24,
   "id": "9b0beb29",
   "metadata": {},
   "outputs": [
    {
     "data": {
      "text/plain": [
       "66192"
      ]
     },
     "execution_count": 24,
     "metadata": {},
     "output_type": "execute_result"
    }
   ],
   "source": [
    "malaysia_code = []\n",
    "for f in files:\n",
    "    bahasa = f.split('/')[-1].split('-malaysia-code')[0].replace('-', ' ')\n",
    "    with open(f) as fopen:\n",
    "        for l in fopen:\n",
    "            l = json.loads(l)\n",
    "            system = random.choice(templates_system).strip().format(bahasa = bahasa)\n",
    "            \n",
    "            malaysia_code.append({\n",
    "                'prompt_input': system,\n",
    "                'input': l['instruction_dialect'],\n",
    "                'output': l['answer_dialect'],\n",
    "            })\n",
    "            \n",
    "            l_ = random.choice(templates).strip().format(bahasa=bahasa, text=l['instruction_dialect'])\n",
    "            \n",
    "            malaysia_code.append({\n",
    "                'prompt_input': None,\n",
    "                'input': l_,\n",
    "                'output': l['answer_dialect'],\n",
    "            })\n",
    "            \n",
    "            q = l['instruction_ms']\n",
    "            malaysia_code.append({\n",
    "                'prompt_input': system,\n",
    "                'input': q,\n",
    "                'output': l['answer_dialect'],\n",
    "            })\n",
    "            \n",
    "            l_ = random.choice(templates).strip().format(bahasa=bahasa, text=q)\n",
    "            malaysia_code.append({\n",
    "                'prompt_input': None,\n",
    "                'input': l_,\n",
    "                'output': l['answer_dialect'],\n",
    "            })\n",
    "            \n",
    "            q = l['instruction']\n",
    "            malaysia_code.append({\n",
    "                'prompt_input': system,\n",
    "                'input': q,\n",
    "                'output': l['answer_dialect'],\n",
    "            })\n",
    "            \n",
    "            l_ = random.choice(templates).strip().format(bahasa=bahasa, text=q)\n",
    "            malaysia_code.append({\n",
    "                'prompt_input': None,\n",
    "                'input': l_,\n",
    "                'output': l['answer_dialect'],\n",
    "            })\n",
    "            \n",
    "            \n",
    "len(malaysia_code)"
   ]
  },
  {
   "cell_type": "code",
   "execution_count": 25,
   "id": "04171f50",
   "metadata": {},
   "outputs": [
    {
     "data": {
      "text/plain": [
       "11032"
      ]
     },
     "execution_count": 25,
     "metadata": {},
     "output_type": "execute_result"
    }
   ],
   "source": [
    "malaysia_code_standard = []\n",
    "for f in files:\n",
    "    bahasa = f.split('/')[-1].split('-malaysia-code')[0].replace('-', ' ')\n",
    "    with open(f) as fopen:\n",
    "        for l in fopen:\n",
    "            l = json.loads(l)\n",
    "            \n",
    "            malaysia_code_standard.append({\n",
    "                'prompt_input': None,\n",
    "                'input': l['instruction_dialect'],\n",
    "                'output': l['answer_ms'],\n",
    "            })\n",
    "            \n",
    "len(malaysia_code_standard)"
   ]
  },
  {
   "cell_type": "code",
   "execution_count": 26,
   "id": "df1dc165",
   "metadata": {},
   "outputs": [],
   "source": [
    "templates = [\n",
    "    '`{text}` to {bahasa}',\n",
    "    '`{text}` ke {bahasa}',\n",
    "\"\"\"\n",
    "tukar,\n",
    "```\n",
    "{text}\n",
    "```\n",
    "\n",
    "ke dialek {bahasa}\n",
    "\"\"\",\n",
    "\"\"\"\n",
    "convert,\n",
    "```\n",
    "{text}\n",
    "```\n",
    "\n",
    "to dialect {bahasa}\n",
    "\"\"\",\n",
    "\"\"\"\n",
    "tukar to dialek {bahasa},\n",
    "```\n",
    "{text}\n",
    "```\n",
    "\"\"\"\n",
    "]"
   ]
  },
  {
   "cell_type": "code",
   "execution_count": 27,
   "id": "edcd2e2f",
   "metadata": {},
   "outputs": [
    {
     "data": {
      "text/plain": [
       "44128"
      ]
     },
     "execution_count": 27,
     "metadata": {},
     "output_type": "execute_result"
    }
   ],
   "source": [
    "keys_a = ['answer_ms', 'answer']\n",
    "keys = ['instruction_ms', 'instruction']\n",
    "\n",
    "translation_code = []\n",
    "for f in files:\n",
    "    bahasa = f.split('/')[-1].split('-malaysia-code')[0].replace('-', ' ')\n",
    "    with open(f) as fopen:\n",
    "        for l in fopen:\n",
    "            l = json.loads(l)\n",
    "            \n",
    "            for k in keys_a:\n",
    "                i = random.choice(templates).strip().format(bahasa = bahasa, text = l[k]).strip()\n",
    "                a = l['answer_dialect']\n",
    "                \n",
    "                translation_code.append({\n",
    "                    'prompt_input': None,\n",
    "                    'input': i,\n",
    "                    'output': a,\n",
    "                })\n",
    "            \n",
    "            for k in keys:\n",
    "                q = l[k]\n",
    "                try:\n",
    "                    if 'follow-up question' in l['instruction']:\n",
    "                        q = q.split('\\n', 1)[1].strip()\n",
    "                except:\n",
    "                    continue\n",
    "                    \n",
    "                i = random.choice(templates).strip().format(bahasa = bahasa, text = q).strip()\n",
    "                a = l['instruction_dialect']\n",
    "                \n",
    "                translation_code.append({\n",
    "                    'prompt_input': None,\n",
    "                    'input': i,\n",
    "                    'output': a,\n",
    "                })\n",
    "            \n",
    "            \n",
    "len(translation_code)"
   ]
  },
  {
   "cell_type": "code",
   "execution_count": 30,
   "id": "1e269a0d",
   "metadata": {},
   "outputs": [],
   "source": [
    "templates = [\n",
    "    '`{text}` ke melayu',\n",
    "    '`{text}` to malay',\n",
    "\"\"\"\n",
    "tukar,\n",
    "```\n",
    "{text}\n",
    "```\n",
    "\n",
    "ke bahasa melayu baku\n",
    "\"\"\",\n",
    "\"\"\"\n",
    "convert,\n",
    "```\n",
    "{text}\n",
    "```\n",
    "\n",
    "to standard malay\n",
    "\"\"\",\n",
    "\"\"\"\n",
    "tukar to malay,\n",
    "```\n",
    "{text}\n",
    "```\n",
    "\"\"\"\n",
    "]\n",
    "\n",
    "templates_en = [\n",
    "    '`{text}` ke english',\n",
    "    '`{text}` to english',\n",
    "    \"\"\"\n",
    "tukar,\n",
    "```\n",
    "{text}\n",
    "```\n",
    "\n",
    "ke bahasa inggeris\n",
    "\"\"\",\n",
    "\"\"\"\n",
    "convert,\n",
    "```\n",
    "{text}\n",
    "```\n",
    "\n",
    "to standard english\n",
    "\"\"\",\n",
    "\"\"\"\n",
    "tukar to english,\n",
    "```\n",
    "{text}\n",
    "```\n",
    "\"\"\"\n",
    "]"
   ]
  },
  {
   "cell_type": "code",
   "execution_count": 31,
   "id": "6bf59bc2",
   "metadata": {},
   "outputs": [
    {
     "data": {
      "text/plain": [
       "44128"
      ]
     },
     "execution_count": 31,
     "metadata": {},
     "output_type": "execute_result"
    }
   ],
   "source": [
    "rev_translation_code = []\n",
    "for f in files:\n",
    "    bahasa = f.split('/')[-1].split('-malaysia-code')[0].replace('-', ' ')\n",
    "    with open(f) as fopen:\n",
    "        for l in fopen:\n",
    "            l = json.loads(l)\n",
    "            \n",
    "            i = random.choice(templates).strip().format(text = l['answer_dialect']).strip()\n",
    "            a = l['answer_ms']\n",
    "            \n",
    "            rev_translation_code.append({\n",
    "                'prompt_input': None,\n",
    "                'input': i,\n",
    "                'output': a,\n",
    "            })\n",
    "            \n",
    "            i = random.choice(templates_en).strip().format(text = l['answer_dialect']).strip()\n",
    "            a = l['answer']\n",
    "            \n",
    "            rev_translation_code.append({\n",
    "                'prompt_input': None,\n",
    "                'input': i,\n",
    "                'output': a,\n",
    "            })\n",
    "            \n",
    "            i = random.choice(templates).strip().format(text = l['instruction_dialect']).strip()\n",
    "            a = l['instruction_ms']\n",
    "            \n",
    "            rev_translation_code.append({\n",
    "                'prompt_input': None,\n",
    "                'input': i,\n",
    "                'output': a,\n",
    "            })\n",
    "            \n",
    "            i = random.choice(templates_en).strip().format(text = l['instruction_dialect']).strip()\n",
    "            a = l['instruction']\n",
    "            \n",
    "            rev_translation_code.append({\n",
    "                'prompt_input': None,\n",
    "                'input': i,\n",
    "                'output': a,\n",
    "            })\n",
    "            \n",
    "            \n",
    "len(rev_translation_code)"
   ]
  },
  {
   "cell_type": "code",
   "execution_count": 32,
   "id": "ca028f5a",
   "metadata": {},
   "outputs": [
    {
     "data": {
      "text/html": [
       "<div>\n",
       "<style scoped>\n",
       "    .dataframe tbody tr th:only-of-type {\n",
       "        vertical-align: middle;\n",
       "    }\n",
       "\n",
       "    .dataframe tbody tr th {\n",
       "        vertical-align: top;\n",
       "    }\n",
       "\n",
       "    .dataframe thead th {\n",
       "        text-align: right;\n",
       "    }\n",
       "</style>\n",
       "<table border=\"1\" class=\"dataframe\">\n",
       "  <thead>\n",
       "    <tr style=\"text-align: right;\">\n",
       "      <th></th>\n",
       "      <th>prompt_input</th>\n",
       "      <th>input</th>\n",
       "      <th>output</th>\n",
       "    </tr>\n",
       "  </thead>\n",
       "  <tbody>\n",
       "    <tr>\n",
       "      <th>0</th>\n",
       "      <td>please respond in johor</td>\n",
       "      <td>Apasal la setengah orang ni suka mencarik pasa...</td>\n",
       "      <td>Wah, ramai sungguh orang membebel pasal badan ...</td>\n",
       "    </tr>\n",
       "    <tr>\n",
       "      <th>1</th>\n",
       "      <td>None</td>\n",
       "      <td>Apasal la setengah orang ni suka mencarik pasa...</td>\n",
       "      <td>Wah, ramai sungguh orang membebel pasal badan ...</td>\n",
       "    </tr>\n",
       "    <tr>\n",
       "      <th>2</th>\n",
       "      <td>please respond in johor</td>\n",
       "      <td>Mengapa sesetengah pengkritik menuduh badan ke...</td>\n",
       "      <td>Wah, ramai sungguh orang membebel pasal badan ...</td>\n",
       "    </tr>\n",
       "    <tr>\n",
       "      <th>3</th>\n",
       "      <td>None</td>\n",
       "      <td>respond in dialect johor, Mengapa sesetengah p...</td>\n",
       "      <td>Wah, ramai sungguh orang membebel pasal badan ...</td>\n",
       "    </tr>\n",
       "    <tr>\n",
       "      <th>4</th>\n",
       "      <td>please respond in johor</td>\n",
       "      <td>Why have some critics accused the Malaysian ju...</td>\n",
       "      <td>Wah, ramai sungguh orang membebel pasal badan ...</td>\n",
       "    </tr>\n",
       "  </tbody>\n",
       "</table>\n",
       "</div>"
      ],
      "text/plain": [
       "              prompt_input                                              input  \\\n",
       "0  please respond in johor  Apasal la setengah orang ni suka mencarik pasa...   \n",
       "1                     None  Apasal la setengah orang ni suka mencarik pasa...   \n",
       "2  please respond in johor  Mengapa sesetengah pengkritik menuduh badan ke...   \n",
       "3                     None  respond in dialect johor, Mengapa sesetengah p...   \n",
       "4  please respond in johor  Why have some critics accused the Malaysian ju...   \n",
       "\n",
       "                                              output  \n",
       "0  Wah, ramai sungguh orang membebel pasal badan ...  \n",
       "1  Wah, ramai sungguh orang membebel pasal badan ...  \n",
       "2  Wah, ramai sungguh orang membebel pasal badan ...  \n",
       "3  Wah, ramai sungguh orang membebel pasal badan ...  \n",
       "4  Wah, ramai sungguh orang membebel pasal badan ...  "
      ]
     },
     "execution_count": 32,
     "metadata": {},
     "output_type": "execute_result"
    }
   ],
   "source": [
    "import pandas as pd\n",
    "\n",
    "df = pd.DataFrame(malaysia + malaysia_standard + translation + rev_translation + malaysia_code + malaysia_code_standard + translation_code + rev_translation_code)\n",
    "df.head()"
   ]
  },
  {
   "cell_type": "code",
   "execution_count": 33,
   "id": "a4740e5d",
   "metadata": {},
   "outputs": [],
   "source": [
    "df.to_parquet('prepared-malaysian-ultrachat.parquet')"
   ]
  },
  {
   "cell_type": "code",
   "execution_count": 34,
   "id": "3a221460",
   "metadata": {},
   "outputs": [
    {
     "data": {
      "application/vnd.jupyter.widget-view+json": {
       "model_id": "0f12a4edbd9e406a925a9e97b0465dab",
       "version_major": 2,
       "version_minor": 0
      },
      "text/plain": [
       "prepared-malaysian-ultrachat.parquet:   0%|          | 0.00/302M [00:00<?, ?B/s]"
      ]
     },
     "metadata": {},
     "output_type": "display_data"
    },
    {
     "data": {
      "text/plain": [
       "CommitInfo(commit_url='https://huggingface.co/datasets/mesolitica/Malaysian-SFT/commit/134b9886eb61ae5e50147fd0b281e3fca2528760', commit_message='Upload data/malay_dialect_instructions-00000-of-00001.parquet with huggingface_hub', commit_description='', oid='134b9886eb61ae5e50147fd0b281e3fca2528760', pr_url=None, pr_revision=None, pr_num=None)"
      ]
     },
     "execution_count": 34,
     "metadata": {},
     "output_type": "execute_result"
    }
   ],
   "source": [
    "from huggingface_hub import HfApi\n",
    "api = HfApi()\n",
    "\n",
    "api.upload_file(\n",
    "    path_or_fileobj=\"prepared-malaysian-ultrachat.parquet\",\n",
    "    path_in_repo='data/malay_dialect_instructions-00000-of-00001.parquet',\n",
    "    repo_id=\"mesolitica/Malaysian-SFT\",\n",
    "    repo_type=\"dataset\",\n",
    ")"
   ]
  }
 ],
 "metadata": {
  "kernelspec": {
   "display_name": "python3.10",
   "language": "python",
   "name": "python3.10"
  },
  "language_info": {
   "codemirror_mode": {
    "name": "ipython",
    "version": 3
   },
   "file_extension": ".py",
   "mimetype": "text/x-python",
   "name": "python",
   "nbconvert_exporter": "python",
   "pygments_lexer": "ipython3",
   "version": "3.10.15"
  }
 },
 "nbformat": 4,
 "nbformat_minor": 5
}
