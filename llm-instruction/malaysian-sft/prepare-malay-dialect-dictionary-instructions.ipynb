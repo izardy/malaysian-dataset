{
 "cells": [
  {
   "cell_type": "code",
   "execution_count": 1,
   "id": "3f5b18e3",
   "metadata": {},
   "outputs": [],
   "source": [
    "import json\n",
    "from glob import glob"
   ]
  },
  {
   "cell_type": "code",
   "execution_count": 2,
   "id": "455a5be4",
   "metadata": {},
   "outputs": [
    {
     "data": {
      "text/plain": [
       "['negeri-johor-dictionary.jsonl',\n",
       " 'negeri-kedah-dictionary.jsonl',\n",
       " 'negeri-kelantan-dictionary.jsonl',\n",
       " 'negeri-melaka-dictionary.jsonl',\n",
       " 'negeri-pahang-dictionary.jsonl',\n",
       " 'negeri-perak-dictionary.jsonl',\n",
       " 'negeri-sabah-dictionary.jsonl',\n",
       " 'negeri-sarawak-dictionary.jsonl',\n",
       " 'negeri-sembilan-dictionary.jsonl',\n",
       " 'negeri-terengganu-dictionary.jsonl']"
      ]
     },
     "execution_count": 2,
     "metadata": {},
     "output_type": "execute_result"
    }
   ],
   "source": [
    "files = sorted(glob('*-dictionary.jsonl'))\n",
    "files"
   ]
  },
  {
   "cell_type": "code",
   "execution_count": 4,
   "id": "51759bd8",
   "metadata": {},
   "outputs": [],
   "source": [
    "templates1 = [\n",
    "    'apa mksud {perkataan} untuk dialek {bahasa}',\n",
    "    'mksud {perkataan} dialek {bahasa}',\n",
    "    'for dialect {bahasa}, meaning {perkataan}',\n",
    "    'what is the meaning for {perkataan} for dialect {bahasa}',\n",
    "]\n",
    "\n",
    "templates2 = [\n",
    "\"\"\"\n",
    "dalam dialek {bahasa}, \n",
    "\n",
    "perkataan: {perkataan}\n",
    "\n",
    "boleh terangkan dan boleh bagi contoh ayat tak\n",
    "\n",
    "bagi dalam format kamus:\n",
    "\n",
    "contoh ayat:\n",
    "maksud:\n",
    "penjelasan:\n",
    "\"\"\",\n",
    "\"\"\"\n",
    "dalam dialek {bahasa}, \n",
    "\n",
    "word: {perkataan}\n",
    "\n",
    "bagi dalam format kamus:\n",
    "\n",
    "maksud:\n",
    "penjelasan:\n",
    "contoh ayat:\n",
    "\"\"\",\n",
    "\"\"\"\n",
    "dalam dialek {bahasa}, \n",
    "\n",
    "{perkataan}\n",
    "\n",
    "bagi dalam format kamus:\n",
    "\n",
    "maksud:\n",
    "penjelasan:\n",
    "\"\"\"\n",
    "]"
   ]
  },
  {
   "cell_type": "code",
   "execution_count": 5,
   "id": "df67fcc0",
   "metadata": {},
   "outputs": [
    {
     "data": {
      "text/plain": [
       "13514"
      ]
     },
     "execution_count": 5,
     "metadata": {},
     "output_type": "execute_result"
    }
   ],
   "source": [
    "import random\n",
    "\n",
    "instructions = []\n",
    "for f in files:\n",
    "    with open(f) as fopen:\n",
    "        for l in fopen:\n",
    "            l = json.loads(l)\n",
    "            \n",
    "            if len(l['dictionary']['maksud']) <= 3:\n",
    "                continue\n",
    "            \n",
    "            if len(l['dictionary']['penjelasan']) <= 3:\n",
    "                continue\n",
    "                \n",
    "            bahasa = f.split('/')[-1].split('-dictionary')[0].replace('-', ' ')\n",
    "            perkataan = l['left'].lower()\n",
    "            i = random.choice(templates1).format(perkataan = perkataan, bahasa = bahasa).strip()\n",
    "            a = f\"{l['dictionary']['maksud']}. {l['dictionary']['penjelasan']}\"\n",
    "            instructions.append({\n",
    "                'prompt_input': None,\n",
    "                'input': i,\n",
    "                'output': a,\n",
    "            })\n",
    "            \n",
    "            index = random.randint(0, len(templates2) - 1)\n",
    "            if index == 0:\n",
    "                a = \"contoh ayat: {contoh_ayat}\\nmaksud: {maksud}\\npenjelasan: {penjelasan}\"\n",
    "            elif index == 1:\n",
    "                a = \"maksud: {maksud}\\npenjelasan: {penjelasan}\\ncontoh ayat: {contoh_ayat}\"\n",
    "            else:\n",
    "                a = \"maksud: {maksud}\\npenjelasan: {penjelasan}\"\n",
    "            \n",
    "            i = templates2[index].format(perkataan = perkataan, bahasa = bahasa).strip()\n",
    "            a = a.format(maksud = l['dictionary']['maksud'], \n",
    "                         penjelasan = l['dictionary']['penjelasan'],\n",
    "                        contoh_ayat = l['dictionary']['contoh_ayat'])\n",
    "            \n",
    "            instructions.append({\n",
    "                'prompt_input': None,\n",
    "                'input': i,\n",
    "                'output': a,\n",
    "            })\n",
    "            \n",
    "len(instructions)"
   ]
  },
  {
   "cell_type": "code",
   "execution_count": 7,
   "id": "11ba452c",
   "metadata": {},
   "outputs": [
    {
     "data": {
      "text/plain": [
       "{'prompt_input': None,\n",
       " 'input': 'dalam dialek negeri johor, \\n\\nsememeh\\n\\nbagi dalam format kamus:\\n\\nmaksud:\\npenjelasan:',\n",
       " 'output': 'maksud: Comot, kotor, tidak bersih\\npenjelasan: Perkataan \"sememeh\" dalam dialek Johor merujuk kepada keadaan sesuatu yang kotor, comot, atau tidak bersih. Ia biasanya digunakan untuk menggambarkan penampilan seseorang atau keadaan sesuatu objek yang kelihatan tidak terurus atau kotor.'}"
      ]
     },
     "execution_count": 7,
     "metadata": {},
     "output_type": "execute_result"
    }
   ],
   "source": [
    "instructions[1]"
   ]
  },
  {
   "cell_type": "code",
   "execution_count": 8,
   "id": "a3c507fa",
   "metadata": {},
   "outputs": [],
   "source": [
    "from collections import defaultdict\n",
    "\n",
    "languages = defaultdict(dict)\n",
    "for f in files:\n",
    "    with open(f) as fopen:\n",
    "        for l in fopen:\n",
    "            l = json.loads(l)\n",
    "            bahasa = f.split('/')[-1].split('-dictionary')[0].replace('-', ' ')\n",
    "            perkataan = l['left'].lower()\n",
    "            i = perkataan\n",
    "            if l['dictionary']['maksud'][-1] == '.':\n",
    "                maksud = l['dictionary']['maksud'][:-1]\n",
    "            else:\n",
    "                maksud = l['dictionary']['maksud']\n",
    "            \n",
    "            a = f\"{maksud}. {l['dictionary']['penjelasan']}\"\n",
    "            languages[bahasa][i] = a"
   ]
  },
  {
   "cell_type": "code",
   "execution_count": 13,
   "id": "c935215c",
   "metadata": {},
   "outputs": [],
   "source": [
    "sublanguages = list(languages.keys())"
   ]
  },
  {
   "cell_type": "code",
   "execution_count": 14,
   "id": "a996ebc1",
   "metadata": {},
   "outputs": [],
   "source": [
    "templates_q = [\n",
    "    'apa mksud perkataan \"{perkataan}\" dalam dialek {bahasa}',\n",
    "    'what is the meaning \"{perkataan}\" in dialect {bahasa}',\n",
    "    'dlm dialek {bahasa}, apa maksud perkataan {perkataan}'\n",
    "]\n",
    "\n",
    "templates_a = [\n",
    "    '\"{perkataan}\" bukanlah satu perkataan dari dialek {bahasa}, ia dari dialek {bahasa_2} yang bermaksud {maksud}.',\n",
    "    \"Ia bermaksud {maksud}, tetapi bukanlah satu perkataan dari dialek {bahasa} tetapi dari dialek {bahasa_2}.\",\n",
    "]"
   ]
  },
  {
   "cell_type": "code",
   "execution_count": 18,
   "id": "99b650b4",
   "metadata": {},
   "outputs": [
    {
     "data": {
      "text/plain": [
       "29759"
      ]
     },
     "execution_count": 18,
     "metadata": {},
     "output_type": "execute_result"
    }
   ],
   "source": [
    "instructions_negate = []\n",
    "\n",
    "for k, v in languages.items():\n",
    "    if 'sembilan' in k:\n",
    "        k_ = k.title()\n",
    "    else:\n",
    "        k_ = k.replace('negeri ', '').title()\n",
    "    for word in v:\n",
    "        \n",
    "        subs = random.sample(list(set(sublanguages) - set([k])), 5)\n",
    "        count = 0\n",
    "        for s in subs:\n",
    "            if 'sembilan' in s:\n",
    "                s_ = s.title()\n",
    "            else:\n",
    "                s_ = s.replace('negeri ', '').title()\n",
    "            if word not in languages[s]:\n",
    "                maksud = v[word]\n",
    "                if maksud[-1] == '.':\n",
    "                    maksud = maksud[:-1]\n",
    "                if maksud[0].isupper():\n",
    "                    maksud = maksud[0].lower() + maksud[1:]\n",
    "                i = random.choice(templates_q).strip().format(perkataan = word, bahasa = s_, bahasa_2 = k_)\n",
    "                a = random.choice(templates_a).strip().format(perkataan = word, bahasa = s_, maksud = maksud, bahasa_2 = k_)\n",
    "                instructions_negate.append({\n",
    "                    'prompt_input': None,\n",
    "                    'input': i,\n",
    "                    'output': a,\n",
    "                })\n",
    "\n",
    "                count += 1\n",
    "\n",
    "            if count >= 5:\n",
    "                break\n",
    "            \n",
    "len(instructions_negate)"
   ]
  },
  {
   "cell_type": "code",
   "execution_count": 19,
   "id": "214b32f1",
   "metadata": {},
   "outputs": [
    {
     "data": {
      "text/plain": [
       "{'prompt_input': None,\n",
       " 'input': 'what is the meaning \"jula\" in dialect Pahang',\n",
       " 'output': '\"jula\" bukanlah satu perkataan dari dialek Pahang, ia dari dialek Terengganu yang bermaksud dahan (cabang pokok). Dalam dialek Terengganu, \"jula\" merujuk kepada dahan atau cabang pokok. Ia adalah bahagian kayu yang tumbuh dari batang utama pokok dan biasanya mempunyai daun-daun yang tumbuh padanya.'}"
      ]
     },
     "execution_count": 19,
     "metadata": {},
     "output_type": "execute_result"
    }
   ],
   "source": [
    "instructions_negate[-1]"
   ]
  },
  {
   "cell_type": "code",
   "execution_count": 20,
   "id": "86696d4f",
   "metadata": {},
   "outputs": [],
   "source": [
    "templates_q = [\n",
    "    'apa mksud perkataan \"{perkataan}\" dalam dialek {bahasa}',\n",
    "    'what is the meaning \"{perkataan}\" in dialect {bahasa}',\n",
    "    'dlm dialek {bahasa}, apa maksud perkataan {perkataan}'\n",
    "]\n",
    "\n",
    "templates_a = [\n",
    "    '\"{perkataan}\" bermaksud {maksud}',\n",
    "    'Ia bermaksud {maksud}',\n",
    "]"
   ]
  },
  {
   "cell_type": "code",
   "execution_count": 21,
   "id": "ac26f891",
   "metadata": {},
   "outputs": [
    {
     "data": {
      "text/plain": [
       "6040"
      ]
     },
     "execution_count": 21,
     "metadata": {},
     "output_type": "execute_result"
    }
   ],
   "source": [
    "instructions_pos = []\n",
    "\n",
    "for k, v in languages.items():\n",
    "    if 'sembilan' in k:\n",
    "        k_ = k.title()\n",
    "    else:\n",
    "        k_ = k.replace('negeri ', '').title()\n",
    "        \n",
    "    for word in v:\n",
    "        maksud = v[word]\n",
    "        \n",
    "        if maksud[-1] == '.':\n",
    "            maksud = maksud[:-1]\n",
    "        if maksud[0].isupper():\n",
    "            maksud = maksud[0].lower() + maksud[1:]\n",
    "        i = random.choice(templates_q).strip().format(perkataan = word, bahasa = k_)\n",
    "        a = random.choice(templates_a).strip().format(perkataan = word, maksud = maksud)\n",
    "        instructions_pos.append({\n",
    "            'prompt_input': None,\n",
    "            'input': i,\n",
    "            'output': a,\n",
    "        })\n",
    "            \n",
    "len(instructions_pos)"
   ]
  },
  {
   "cell_type": "code",
   "execution_count": 22,
   "id": "5afc46d2",
   "metadata": {},
   "outputs": [
    {
     "data": {
      "text/plain": [
       "{'prompt_input': None,\n",
       " 'input': 'dlm dialek Johor, apa maksud perkataan sememeh',\n",
       " 'output': '\"sememeh\" bermaksud comot, kotor, tidak bersih. Perkataan \"sememeh\" dalam dialek Johor merujuk kepada keadaan sesuatu yang kotor, comot, atau tidak bersih. Ia biasanya digunakan untuk menggambarkan penampilan seseorang atau keadaan sesuatu objek yang kelihatan tidak terurus atau kotor'}"
      ]
     },
     "execution_count": 22,
     "metadata": {},
     "output_type": "execute_result"
    }
   ],
   "source": [
    "instructions_pos[0]"
   ]
  },
  {
   "cell_type": "code",
   "execution_count": 23,
   "id": "5fd43326",
   "metadata": {},
   "outputs": [
    {
     "data": {
      "text/html": [
       "<div>\n",
       "<style scoped>\n",
       "    .dataframe tbody tr th:only-of-type {\n",
       "        vertical-align: middle;\n",
       "    }\n",
       "\n",
       "    .dataframe tbody tr th {\n",
       "        vertical-align: top;\n",
       "    }\n",
       "\n",
       "    .dataframe thead th {\n",
       "        text-align: right;\n",
       "    }\n",
       "</style>\n",
       "<table border=\"1\" class=\"dataframe\">\n",
       "  <thead>\n",
       "    <tr style=\"text-align: right;\">\n",
       "      <th></th>\n",
       "      <th>prompt_input</th>\n",
       "      <th>input</th>\n",
       "      <th>output</th>\n",
       "    </tr>\n",
       "  </thead>\n",
       "  <tbody>\n",
       "    <tr>\n",
       "      <th>0</th>\n",
       "      <td>None</td>\n",
       "      <td>apa mksud sememeh untuk dialek negeri johor</td>\n",
       "      <td>Comot, kotor, tidak bersih. Perkataan \"sememeh...</td>\n",
       "    </tr>\n",
       "    <tr>\n",
       "      <th>1</th>\n",
       "      <td>None</td>\n",
       "      <td>dalam dialek negeri johor, \\n\\nsememeh\\n\\nbagi...</td>\n",
       "      <td>maksud: Comot, kotor, tidak bersih\\npenjelasan...</td>\n",
       "    </tr>\n",
       "    <tr>\n",
       "      <th>2</th>\n",
       "      <td>None</td>\n",
       "      <td>what is the meaning for memadah for dialect ne...</td>\n",
       "      <td>Memberitahu, memaklumkan, atau menyampaikan se...</td>\n",
       "    </tr>\n",
       "    <tr>\n",
       "      <th>3</th>\n",
       "      <td>None</td>\n",
       "      <td>dalam dialek negeri johor, \\n\\nword: memadah\\n...</td>\n",
       "      <td>maksud: Memberitahu, memaklumkan, atau menyamp...</td>\n",
       "    </tr>\n",
       "    <tr>\n",
       "      <th>4</th>\n",
       "      <td>None</td>\n",
       "      <td>what is the meaning for lokos for dialect nege...</td>\n",
       "      <td>basah. Dalam dialek Johor, perkataan \"lokos\" d...</td>\n",
       "    </tr>\n",
       "  </tbody>\n",
       "</table>\n",
       "</div>"
      ],
      "text/plain": [
       "  prompt_input                                              input  \\\n",
       "0         None        apa mksud sememeh untuk dialek negeri johor   \n",
       "1         None  dalam dialek negeri johor, \\n\\nsememeh\\n\\nbagi...   \n",
       "2         None  what is the meaning for memadah for dialect ne...   \n",
       "3         None  dalam dialek negeri johor, \\n\\nword: memadah\\n...   \n",
       "4         None  what is the meaning for lokos for dialect nege...   \n",
       "\n",
       "                                              output  \n",
       "0  Comot, kotor, tidak bersih. Perkataan \"sememeh...  \n",
       "1  maksud: Comot, kotor, tidak bersih\\npenjelasan...  \n",
       "2  Memberitahu, memaklumkan, atau menyampaikan se...  \n",
       "3  maksud: Memberitahu, memaklumkan, atau menyamp...  \n",
       "4  basah. Dalam dialek Johor, perkataan \"lokos\" d...  "
      ]
     },
     "execution_count": 23,
     "metadata": {},
     "output_type": "execute_result"
    }
   ],
   "source": [
    "import pandas as pd\n",
    "\n",
    "df = pd.DataFrame(instructions + instructions_negate + instructions_pos)\n",
    "df.head()"
   ]
  },
  {
   "cell_type": "code",
   "execution_count": 24,
   "id": "1fb91da7",
   "metadata": {},
   "outputs": [],
   "source": [
    "df.to_parquet('prepared-malay-dialect-dictionary-instructions.parquet')"
   ]
  },
  {
   "cell_type": "code",
   "execution_count": 25,
   "id": "7e5d5bad",
   "metadata": {},
   "outputs": [
    {
     "data": {
      "application/vnd.jupyter.widget-view+json": {
       "model_id": "d079ece423554bf2a1027c4cb5ab0929",
       "version_major": 2,
       "version_minor": 0
      },
      "text/plain": [
       "prepared-malay-dialect-dictionary-instructions.parquet:   0%|          | 0.00/5.19M [00:00<?, ?B/s]"
      ]
     },
     "metadata": {},
     "output_type": "display_data"
    },
    {
     "data": {
      "text/plain": [
       "CommitInfo(commit_url='https://huggingface.co/datasets/mesolitica/Malaysian-SFT/commit/337aed5cb418b41d0782f07dfdc9e3b8e11271c5', commit_message='Upload data/malay_dialect_dictionary_instructions-00000-of-00001.parquet with huggingface_hub', commit_description='', oid='337aed5cb418b41d0782f07dfdc9e3b8e11271c5', pr_url=None, pr_revision=None, pr_num=None)"
      ]
     },
     "execution_count": 25,
     "metadata": {},
     "output_type": "execute_result"
    }
   ],
   "source": [
    "from huggingface_hub import HfApi\n",
    "api = HfApi()\n",
    "\n",
    "api.upload_file(\n",
    "    path_or_fileobj=\"prepared-malay-dialect-dictionary-instructions.parquet\",\n",
    "    path_in_repo='data/malay_dialect_dictionary_instructions-00000-of-00001.parquet',\n",
    "    repo_id=\"mesolitica/Malaysian-SFT\",\n",
    "    repo_type=\"dataset\",\n",
    ")"
   ]
  },
  {
   "cell_type": "code",
   "execution_count": null,
   "id": "cc244bb5",
   "metadata": {},
   "outputs": [],
   "source": []
  }
 ],
 "metadata": {
  "kernelspec": {
   "display_name": "python3.10",
   "language": "python",
   "name": "python3.10"
  },
  "language_info": {
   "codemirror_mode": {
    "name": "ipython",
    "version": 3
   },
   "file_extension": ".py",
   "mimetype": "text/x-python",
   "name": "python",
   "nbconvert_exporter": "python",
   "pygments_lexer": "ipython3",
   "version": "3.10.15"
  }
 },
 "nbformat": 4,
 "nbformat_minor": 5
}
