{
 "cells": [
  {
   "cell_type": "code",
   "execution_count": 1,
   "id": "1f4887e6",
   "metadata": {},
   "outputs": [],
   "source": [
    "# !wget https://huggingface.co/datasets/mesolitica/translate-evol-instruct-indonesian/resolve/main/translate-evol-instruct-indonesian.jsonl"
   ]
  },
  {
   "cell_type": "code",
   "execution_count": 2,
   "id": "7161ffe5",
   "metadata": {},
   "outputs": [],
   "source": [
    "roles = {\n",
    "    'user': '<manusia>',\n",
    "    'assistant': '<bot>'\n",
    "}\n",
    "\n",
    "system = [\n",
    "    'always reply in indon',\n",
    "    'sentiasa respond dalam bahasa indonesia',\n",
    "    'sentiasa jawab in indon',\n",
    "    'awak adalah chatbot yang respond dalam bahasa indonesia',\n",
    "    'you are a chatbot that always respond in indonesian',\n",
    "    'u always reply in indonesian',\n",
    "    'awak sentiasa reply in bahasa indon',\n",
    "    'you are a chatbot that always reply in indon',\n",
    "    'you are an assistant that always reply in indon',\n",
    "    'awak adalah chatbot yang sentiasa respond dalam indon',\n",
    "    'awak adalah pembantu AI yang reply in indonesian',\n",
    "    'reply in indon',\n",
    "    'Anda adalah chatbot yang merespon dalam bahasa Indonesia',\n",
    "    'Anda adalah chatbot yang merespon dalam indon',\n",
    "]"
   ]
  },
  {
   "cell_type": "code",
   "execution_count": 3,
   "id": "be8c9700",
   "metadata": {},
   "outputs": [],
   "source": [
    "import json\n",
    "import random"
   ]
  },
  {
   "cell_type": "code",
   "execution_count": 4,
   "id": "06b2b082",
   "metadata": {},
   "outputs": [
    {
     "data": {
      "text/plain": [
       "43204"
      ]
     },
     "execution_count": 4,
     "metadata": {},
     "output_type": "execute_result"
    }
   ],
   "source": [
    "instructions = []\n",
    "\n",
    "with open('translate-evol-instruct-indonesian.jsonl') as fopen:\n",
    "    for l in fopen:\n",
    "        l = json.loads(l)\n",
    "        \n",
    "        a = []\n",
    "        \n",
    "        if 'translation' in l['conversations'][1]['value'].lower():\n",
    "            continue\n",
    "        \n",
    "        if 'answer' in l['conversations'][1]['value'].lower():\n",
    "            continue\n",
    "            \n",
    "        if 'question' in l['conversations'][1]['value'].lower():\n",
    "            continue\n",
    "            \n",
    "        if 'translate' in l['conversations'][1]['value'].lower():\n",
    "            continue\n",
    "        \n",
    "        s = random.choice(system)\n",
    "        t = l['conversations'][0]['value_ms']\n",
    "        instruct = []\n",
    "        if random.random() > 0.5:\n",
    "            prompt_input = s\n",
    "            q = t\n",
    "        else:\n",
    "            prompt_input = None\n",
    "            q = f'{s}\\n\\n{t}'\n",
    "        \n",
    "        t = l['conversations'][1]['value']\n",
    "            \n",
    "        d = {\n",
    "            'prompt_input': prompt_input,\n",
    "            'input': q,\n",
    "            'output': t,\n",
    "        }\n",
    "\n",
    "        instructions.append(d)\n",
    "            \n",
    "len(instructions)   "
   ]
  },
  {
   "cell_type": "code",
   "execution_count": 5,
   "id": "0f2356a7",
   "metadata": {},
   "outputs": [
    {
     "data": {
      "text/plain": [
       "{'prompt_input': 'reply in indon',\n",
       " 'input': \"Siapakah watak Shylock dalam karya 'The Merchant of Venice' karya Shakespeare?\",\n",
       " 'output': 'Shylock adalah karakter antagonis dalam karya \"The Merchant of Venice\" karya William Shakespeare. Dia adalah seorang Yahudi kaya yang merupakan seorang pemilik toko dan pengumpul utang di Venesia pada abad ke-16. Shylock umumnya digambarkan sebagai sosok yang kejam dan tidak empati, karena dia ingin memberlakukan perjanjian yang sangat keras pada karakter utama, Antonio.\\n\\nShylock memegang dendam yang besar terhadap Antonio karena merasa bahwa dia telah merendahkan dan menghina agama Yahudi. Ketika Antonio meminta pinjaman dari Shylock untuk membiayai bisnisnya, Shylock bersedia memberikan pinjaman dengan syarat jika Antonio tidak dapat membayar kembali pada waktu yang ditentukan, maka Shylock berhak memotong satu pon daging dari tubuh Antonio sesuai dengan syarat kontrak.\\n\\nShylock digambarkan sebagai sosok yang rakus atas uang dan tidak kenal belas kasihan. Namun, dia juga digambarkan sebagai seorang yang dapat merenung dan memiliki alasan logis untuk melakukan tindakannya, yaitu ingin membalas dendam pada Antonio.\\n\\nAkhirnya, Shylock mencoba untuk menerapkan perjanjian tersebut, tetapi twist terjadi di mana sahabat Antonio, Portia, datang untuk mempertahankan hak Antonio dan berhasil mengalahkan Shylock di pengadilan. Meskipun Shylock gagal mencapai tujuannya, dia tetap digambarkan sebagai sosok yang kompleks dengan motif yang lebih dalam daripada sekadar keinginan untuk mencari uang.'}"
      ]
     },
     "execution_count": 5,
     "metadata": {},
     "output_type": "execute_result"
    }
   ],
   "source": [
    "instructions[-2]"
   ]
  },
  {
   "cell_type": "code",
   "execution_count": 6,
   "id": "c55c163c",
   "metadata": {},
   "outputs": [
    {
     "data": {
      "text/plain": [
       "39100"
      ]
     },
     "execution_count": 6,
     "metadata": {},
     "output_type": "execute_result"
    }
   ],
   "source": [
    "answers = []\n",
    "with open('translate-evol-instruct-indonesian.jsonl') as fopen:\n",
    "    for l in fopen:\n",
    "        l = json.loads(l)\n",
    "        \n",
    "        if 'translation' in l['conversations'][1]['value'].lower():\n",
    "            continue\n",
    "        \n",
    "        if 'answer' in l['conversations'][1]['value'].lower():\n",
    "            continue\n",
    "            \n",
    "        if 'question' in l['conversations'][1]['value'].lower():\n",
    "            continue\n",
    "            \n",
    "        if 'translate' in l['conversations'][1]['value'].lower():\n",
    "            continue\n",
    "        \n",
    "        l_left = len(l['conversations'][1]['value'].split())\n",
    "        l_right = len(l['conversations'][1]['value_ms'].split())\n",
    "        \n",
    "        if l_right / l_left < 0.95:\n",
    "            continue\n",
    "        \n",
    "        l['conversations'][1]['value'], l['conversations'][1]['value_ms']\n",
    "        answers.append((l['conversations'][1]['value'], l['conversations'][1]['value_ms']))\n",
    "len(answers)"
   ]
  },
  {
   "cell_type": "code",
   "execution_count": 7,
   "id": "5108587e",
   "metadata": {},
   "outputs": [],
   "source": [
    "answers = sorted(answers, key = lambda x: len(x[0]), reverse = True)"
   ]
  },
  {
   "cell_type": "code",
   "execution_count": 8,
   "id": "bffc2a18",
   "metadata": {},
   "outputs": [],
   "source": [
    "template = [\n",
    "    'teks: {teks}\\nterjemah ke standard malay',\n",
    "    'teks: {teks}\\nterjemah ke melayu baku',\n",
    "    '`{teks}` terjemah ke malay',\n",
    "    'terjemah ke bahasa melayu `{teks}`',\n",
    "]"
   ]
  },
  {
   "cell_type": "code",
   "execution_count": 9,
   "id": "fbe5bd71",
   "metadata": {},
   "outputs": [],
   "source": [
    "for a in answers:\n",
    "    left = random.choice(template).format(teks = a[0])\n",
    "    d = {\n",
    "        'prompt_input': None,\n",
    "        'input': left,\n",
    "        'output': a[1],\n",
    "    }\n",
    "    instructions.append(d)"
   ]
  },
  {
   "cell_type": "code",
   "execution_count": 10,
   "id": "791fb04b",
   "metadata": {},
   "outputs": [],
   "source": [
    "template = [\n",
    "    'teks: {teks}\\nterjemah ke standard indonesian',\n",
    "    'teks: {teks}\\nterjemah ke bahasa indon',\n",
    "    '`{teks}` terjemah ke indon',\n",
    "    'terjemah ke bahasa indon `{teks}`',\n",
    "]"
   ]
  },
  {
   "cell_type": "code",
   "execution_count": 11,
   "id": "1f6e1fba",
   "metadata": {},
   "outputs": [],
   "source": [
    "for a in answers:\n",
    "    left = random.choice(template).format(teks = a[1])\n",
    "    d = {\n",
    "        'prompt_input': None,\n",
    "        'input': left,\n",
    "        'output': a[0],\n",
    "    }\n",
    "    instructions.append(d)"
   ]
  },
  {
   "cell_type": "code",
   "execution_count": 12,
   "id": "8616b91a",
   "metadata": {
    "scrolled": false
   },
   "outputs": [
    {
     "data": {
      "text/plain": [
       "121404"
      ]
     },
     "execution_count": 12,
     "metadata": {},
     "output_type": "execute_result"
    }
   ],
   "source": [
    "len(instructions)"
   ]
  },
  {
   "cell_type": "code",
   "execution_count": 13,
   "id": "50ea1b2b",
   "metadata": {},
   "outputs": [],
   "source": [
    "import pandas as pd\n",
    "\n",
    "pd.DataFrame(instructions).to_parquet('prepared-force-indonesian.parquet')"
   ]
  },
  {
   "cell_type": "code",
   "execution_count": null,
   "id": "150fc37a",
   "metadata": {},
   "outputs": [
    {
     "data": {
      "application/vnd.jupyter.widget-view+json": {
       "model_id": "0e8fc31de3e74b9ea4cac64ecdb32d47",
       "version_major": 2,
       "version_minor": 0
      },
      "text/plain": [
       "prepared-force-indonesian.parquet:   0%|          | 0.00/189M [00:00<?, ?B/s]"
      ]
     },
     "metadata": {},
     "output_type": "display_data"
    }
   ],
   "source": [
    "from huggingface_hub import HfApi\n",
    "api = HfApi()\n",
    "\n",
    "api.upload_file(\n",
    "    path_or_fileobj=\"prepared-force-indonesian.parquet\",\n",
    "    path_in_repo='data/force_indonesian-00000-of-00001.parquet',\n",
    "    repo_id=\"mesolitica/Malaysian-SFT\",\n",
    "    repo_type=\"dataset\",\n",
    ")"
   ]
  },
  {
   "cell_type": "code",
   "execution_count": null,
   "id": "06740e0c",
   "metadata": {},
   "outputs": [],
   "source": []
  }
 ],
 "metadata": {
  "kernelspec": {
   "display_name": "python3.10",
   "language": "python",
   "name": "python3.10"
  },
  "language_info": {
   "codemirror_mode": {
    "name": "ipython",
    "version": 3
   },
   "file_extension": ".py",
   "mimetype": "text/x-python",
   "name": "python",
   "nbconvert_exporter": "python",
   "pygments_lexer": "ipython3",
   "version": "3.10.15"
  }
 },
 "nbformat": 4,
 "nbformat_minor": 5
}
