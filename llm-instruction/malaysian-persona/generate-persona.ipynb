{
 "cells": [
  {
   "cell_type": "code",
   "execution_count": 1,
   "id": "2deb3431",
   "metadata": {},
   "outputs": [],
   "source": [
    "# !wget https://gist.githubusercontent.com/huseinzol05/98974ae8c6c7a65d4bc0af9f5003786a/raw/2e06e71ef7349a57bc58cc9913ae6bae1f9f8447/mp.py"
   ]
  },
  {
   "cell_type": "code",
   "execution_count": 2,
   "id": "9f8036f1",
   "metadata": {},
   "outputs": [],
   "source": [
    "from huggingface_hub import HfFileSystem\n",
    "from tqdm import tqdm\n",
    "import mp\n",
    "import os\n",
    "import json\n",
    "\n",
    "fs = HfFileSystem()"
   ]
  },
  {
   "cell_type": "code",
   "execution_count": 3,
   "id": "5909e62d",
   "metadata": {},
   "outputs": [],
   "source": [
    "# files = fs.ls(\"datasets/malaysia-ai/pretrain-text-dataset/\")"
   ]
  },
  {
   "cell_type": "code",
   "execution_count": 4,
   "id": "c8a2b360",
   "metadata": {},
   "outputs": [],
   "source": [
    "# selected = []\n",
    "# for f in files:\n",
    "#     if not f['name'].endswith('.jsonl'):\n",
    "#         continue\n",
    "#     if f['size'] >= 1e+9:\n",
    "#         continue   \n",
    "#     selected.append(f)\n",
    "    \n",
    "# len(selected)"
   ]
  },
  {
   "cell_type": "code",
   "execution_count": 5,
   "id": "8dc5fb19",
   "metadata": {},
   "outputs": [],
   "source": [
    "# def loop(files):\n",
    "#     files, _ = files\n",
    "#     for f in tqdm(files):\n",
    "#         if os.path.exists(os.path.split(f['name'])[1]):\n",
    "#             continue\n",
    "#         fs.download(f['name'], './')"
   ]
  },
  {
   "cell_type": "code",
   "execution_count": 6,
   "id": "a063c959",
   "metadata": {},
   "outputs": [],
   "source": [
    "# mp.multiprocessing(selected, loop, cores = 10, returned = False)"
   ]
  },
  {
   "cell_type": "code",
   "execution_count": 7,
   "id": "239fdc07",
   "metadata": {},
   "outputs": [],
   "source": [
    "# files = fs.ls(\"datasets/malaysia-ai/crawl-astroawani\")\n",
    "# files = [f for f in files if f['name'].endswith('v2.json.nested')]\n",
    "# for f in files:\n",
    "#     fs.download(f['name'], './')"
   ]
  },
  {
   "cell_type": "code",
   "execution_count": 8,
   "id": "2915d9be",
   "metadata": {},
   "outputs": [
    {
     "name": "stderr",
     "output_type": "stream",
     "text": [
      "100%|█████████████████████████████████████████| 283/283 [00:21<00:00, 13.41it/s]\n"
     ]
    },
    {
     "data": {
      "text/plain": [
       "107253"
      ]
     },
     "execution_count": 8,
     "metadata": {},
     "output_type": "execute_result"
    }
   ],
   "source": [
    "from glob import glob\n",
    "\n",
    "alls = []\n",
    "for f in tqdm(glob('*.jsonl')):\n",
    "    selected = []\n",
    "    with open(f) as fopen:\n",
    "        for l in fopen:\n",
    "            try:\n",
    "                l = json.loads(l)\n",
    "            except:\n",
    "                continue\n",
    "            if not isinstance(l, str):\n",
    "                continue\n",
    "            if 200 < len(l.split()) < 3072:\n",
    "                selected.append(l)\n",
    "            \n",
    "            if len(selected) > 700:\n",
    "                alls.extend(selected)\n",
    "                break\n",
    "                \n",
    "len(alls)"
   ]
  },
  {
   "cell_type": "code",
   "execution_count": 9,
   "id": "dde97136",
   "metadata": {},
   "outputs": [
    {
     "name": "stderr",
     "output_type": "stream",
     "text": [
      "100%|█████████████████████████████████████████████| 8/8 [00:02<00:00,  3.86it/s]\n"
     ]
    },
    {
     "data": {
      "text/plain": [
       "128260"
      ]
     },
     "execution_count": 9,
     "metadata": {},
     "output_type": "execute_result"
    }
   ],
   "source": [
    "from glob import glob\n",
    "\n",
    "for f in tqdm(glob('*-v2.json.nested')):\n",
    "    selected = []\n",
    "    with open(f) as fopen:\n",
    "        d = json.load(fopen)\n",
    "    for d_ in d:\n",
    "        try:\n",
    "            l = d_['r']['response']['articleBody']\n",
    "        except:\n",
    "            continue\n",
    "        if not isinstance(l, str):\n",
    "            continue\n",
    "        if 200 < len(l.split()) < 3072:\n",
    "            selected.append(l)\n",
    "            \n",
    "        if len(selected) > 3000:\n",
    "            alls.extend(selected)\n",
    "            break\n",
    "        \n",
    "len(alls)"
   ]
  },
  {
   "cell_type": "code",
   "execution_count": 10,
   "id": "08de2732",
   "metadata": {},
   "outputs": [],
   "source": [
    "prompts = []\n",
    "for a in alls:\n",
    "    p = f\"\"\"\n",
    "paragraph = ```\n",
    "{a}\n",
    "```\n",
    "\n",
    "generate 100 words persona based on paragraph above, example generated persona like below,\n",
    "\n",
    "```\n",
    "Zara is a strong and patient woman but still has emotional problems due to her unhappy divorce relationship. However, she remains optimistic and persistent in maintaining her dignity and wants to be an example for other women who face the same challenges. She also likes to seek advice and support from her friends.\n",
    "```\n",
    "Or,\n",
    "```\n",
    "Azmi bin Ahmad is a strong and persistent individual in computer science. However, he also faces emotional challenges due to his unending divorce relationships. Despite this, Azmi remains optimistic and determined to maintain his dignity and hopes to be an example for other individuals facing similar challenges.\n",
    "```\n",
    "Or,\n",
    "```\n",
    "Panglima Awang, also known as Enrique of Malacca, is a brave and wise Malay hero. As a war captive who was taken from Melaka to Lisbon, Portuguese, he had struggled with strength and intelligence to survive on foreign lands. Enrique possessed an unassuming spirit and outstanding language skills, enabling him to communicate with various nations.\n",
    "```\n",
    "    \"\"\"\n",
    "    prompts.append((p.strip(), a))"
   ]
  },
  {
   "cell_type": "code",
   "execution_count": 11,
   "id": "bdbff630",
   "metadata": {},
   "outputs": [
    {
     "name": "stdout",
     "output_type": "stream",
     "text": [
      "mkdir: cannot create directory ‘generate-persona’: File exists\r\n"
     ]
    }
   ],
   "source": [
    "# !rm -rf generate-persona\n",
    "!mkdir generate-persona"
   ]
  },
  {
   "cell_type": "code",
   "execution_count": 12,
   "id": "240287f5",
   "metadata": {},
   "outputs": [],
   "source": [
    "import requests\n",
    "import os\n",
    "\n",
    "def answer(q, i):\n",
    "    filename = os.path.join('generate-persona', f'{i}.json')\n",
    "    \n",
    "    if os.path.exists(filename) and os.path.getsize(filename) > 200:\n",
    "        return\n",
    "    \n",
    "    for _ in range(3):\n",
    "        try:\n",
    "            headers = {\n",
    "                'accept': 'application/json',\n",
    "                'Content-Type': 'application/json',\n",
    "            }\n",
    "            \n",
    "            messages = [\n",
    "                {'role': 'user', 'content': q[0]}\n",
    "            ]\n",
    "\n",
    "            json_data = {\n",
    "                'model': 'mallam-small-2.5',\n",
    "                'messages': messages,\n",
    "                'temperature': 0.9,\n",
    "                'top_p': 0.8,\n",
    "                'top_k': 50,\n",
    "                'max_tokens': 4096,\n",
    "            }\n",
    "\n",
    "            response = requests.post('http://localhost:8000/v1/chat/completions', \n",
    "                                     headers=headers, json=json_data)\n",
    "            r = response.json()\n",
    "            r = r['choices'][0]['message']['content']\n",
    "            if len(r):\n",
    "                with open(filename, 'w') as fopen:\n",
    "                    json.dump({'r': r, 'context': q[1]}, fopen)\n",
    "            \n",
    "            return\n",
    "        except:\n",
    "            pass"
   ]
  },
  {
   "cell_type": "code",
   "execution_count": 13,
   "id": "eaebc537",
   "metadata": {},
   "outputs": [],
   "source": [
    "def consumer(queue, name):\n",
    "    while True:\n",
    "        if queue.qsize() == 0:\n",
    "            break\n",
    "        item = queue.get()\n",
    "        answer(*item)\n",
    "    print(f'consumer {name} done')"
   ]
  },
  {
   "cell_type": "code",
   "execution_count": 14,
   "id": "87b1fcd5",
   "metadata": {},
   "outputs": [],
   "source": [
    "from threading import Thread\n",
    "from queue import Queue\n",
    "\n",
    "queue = Queue()\n",
    "urls = [(q, no) for no, q in enumerate(prompts)]\n",
    "for u in urls:\n",
    "    queue.put(u)\n",
    "    \n",
    "ori_size = queue.qsize()"
   ]
  },
  {
   "cell_type": "code",
   "execution_count": 15,
   "id": "cd9cca7d",
   "metadata": {},
   "outputs": [],
   "source": [
    "answer(*urls[0])"
   ]
  },
  {
   "cell_type": "code",
   "execution_count": 16,
   "id": "139d0584",
   "metadata": {},
   "outputs": [],
   "source": [
    "answer(*urls[1])"
   ]
  },
  {
   "cell_type": "code",
   "execution_count": 17,
   "id": "d723f67a",
   "metadata": {},
   "outputs": [],
   "source": [
    "answer(*urls[-1])"
   ]
  },
  {
   "cell_type": "code",
   "execution_count": null,
   "id": "c0336d90",
   "metadata": {},
   "outputs": [
    {
     "name": "stderr",
     "output_type": "stream",
     "text": [
      " 82%|█████████████████████████▌     | 105674/128260 [3:33:47<2:18:56,  2.71it/s]"
     ]
    }
   ],
   "source": [
    "from tqdm import tqdm\n",
    "\n",
    "max_worker = 50\n",
    "consumers = [Thread(target=consumer, args=(queue,i)) for i in range(max_worker)]\n",
    "for i in range(len(consumers)):\n",
    "    consumers[i].start()\n",
    "    \n",
    "pbar = tqdm(total=ori_size)\n",
    "last_size = 0\n",
    "while True:\n",
    "    size = queue.qsize()\n",
    "    if size == 0:\n",
    "        break\n",
    "    left = ori_size - size\n",
    "    minus = left - last_size\n",
    "    if minus > 0:\n",
    "        pbar.update(minus)\n",
    "        last_size += minus\n",
    "\n",
    "pbar.close()"
   ]
  },
  {
   "cell_type": "code",
   "execution_count": null,
   "id": "617f6a50",
   "metadata": {},
   "outputs": [],
   "source": []
  }
 ],
 "metadata": {
  "kernelspec": {
   "display_name": "python3.10",
   "language": "python",
   "name": "python3.10"
  },
  "language_info": {
   "codemirror_mode": {
    "name": "ipython",
    "version": 3
   },
   "file_extension": ".py",
   "mimetype": "text/x-python",
   "name": "python",
   "nbconvert_exporter": "python",
   "pygments_lexer": "ipython3",
   "version": "3.10.15"
  }
 },
 "nbformat": 4,
 "nbformat_minor": 5
}
