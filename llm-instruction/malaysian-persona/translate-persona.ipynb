{
 "cells": [
  {
   "cell_type": "code",
   "execution_count": 4,
   "id": "be92e03b",
   "metadata": {},
   "outputs": [],
   "source": [
    "from glob import glob\n",
    "from tqdm import tqdm\n",
    "import pandas as pd\n",
    "import requests\n",
    "import json\n",
    "\n",
    "headers = {\n",
    "    'accept': 'application/json',\n",
    "    'Authorization': 'Bearer',\n",
    "    'Content-Type': 'application/json',\n",
    "}\n",
    "\n",
    "json_data = {\n",
    "    'input': 'a',\n",
    "    'to_lang': 'ms',\n",
    "    'model': 'small',\n",
    "    'temperature': 0,\n",
    "    'top_p': 1,\n",
    "    'top_k': 1,\n",
    "    'repetition_penalty': 1.1,\n",
    "}\n",
    "\n",
    "response = requests.post('https://api.mesolitica.com/translation', headers=headers, json=json_data)"
   ]
  },
  {
   "cell_type": "code",
   "execution_count": 6,
   "id": "fd4404d3",
   "metadata": {},
   "outputs": [
    {
     "data": {
      "text/plain": [
       "'a'"
      ]
     },
     "execution_count": 6,
     "metadata": {},
     "output_type": "execute_result"
    }
   ],
   "source": [
    "response.json()['result']"
   ]
  },
  {
   "cell_type": "code",
   "execution_count": 2,
   "id": "0059c895",
   "metadata": {},
   "outputs": [
    {
     "data": {
      "text/plain": [
       "176493"
      ]
     },
     "execution_count": 2,
     "metadata": {},
     "output_type": "execute_result"
    }
   ],
   "source": [
    "files = glob('generate-persona/*.json')\n",
    "files.extend(glob('generate-persona-wikipedia/*.json'))\n",
    "len(files)"
   ]
  },
  {
   "cell_type": "code",
   "execution_count": 22,
   "id": "0969c6f7",
   "metadata": {},
   "outputs": [
    {
     "name": "stderr",
     "output_type": "stream",
     "text": [
      "100%|████████████████████████████████████████████████████████████████████████████| 176493/176493 [00:04<00:00, 42780.47it/s]\n"
     ]
    }
   ],
   "source": [
    "data = []\n",
    "for f in tqdm(files):\n",
    "    with open(f) as fopen:\n",
    "        d = json.load(fopen)\n",
    "        d['persona'] = d.pop('r')\n",
    "        data.append(d)"
   ]
  },
  {
   "cell_type": "code",
   "execution_count": 23,
   "id": "26b9efc5",
   "metadata": {},
   "outputs": [],
   "source": [
    "with open('persona.json', 'w') as fopen:\n",
    "    json.dump(data, fopen)"
   ]
  },
  {
   "cell_type": "code",
   "execution_count": 25,
   "id": "b0191756",
   "metadata": {},
   "outputs": [],
   "source": [
    "!mkdir translate-persona"
   ]
  },
  {
   "cell_type": "code",
   "execution_count": 26,
   "id": "8eefc288",
   "metadata": {},
   "outputs": [
    {
     "data": {
      "text/plain": [
       "0"
      ]
     },
     "execution_count": 26,
     "metadata": {},
     "output_type": "execute_result"
    }
   ],
   "source": [
    "(len(data) // 2) * 0"
   ]
  },
  {
   "cell_type": "code",
   "execution_count": 27,
   "id": "3e6d31fe",
   "metadata": {},
   "outputs": [
    {
     "data": {
      "text/plain": [
       "88246"
      ]
     },
     "execution_count": 27,
     "metadata": {},
     "output_type": "execute_result"
    }
   ],
   "source": [
    "(len(data) // 2) * 1"
   ]
  },
  {
   "cell_type": "code",
   "execution_count": 32,
   "id": "91a75ed4",
   "metadata": {
    "scrolled": false
   },
   "outputs": [
    {
     "name": "stderr",
     "output_type": "stream",
     "text": [
      "100%|███████████████████████████████████████████████████████████████████████████████| 58831/58831 [9:55:07<00:00,  1.65it/s]\n"
     ]
    }
   ],
   "source": [
    "import os\n",
    "import time\n",
    "\n",
    "for i in tqdm(range((len(data) // 3) * 0, (len(data) // 3) * 1, 1)):\n",
    "    filename = os.path.join('translate-persona', f'{i}.json')\n",
    "    if os.path.exists(filename) and os.path.getsize(filename) > 100:\n",
    "        continue\n",
    "    d = data[i]\n",
    "    json_data = {\n",
    "        'input': d['persona'],\n",
    "        'to_lang': 'ms',\n",
    "        'model': 'small',\n",
    "        'temperature': 0,\n",
    "        'top_p': 1,\n",
    "        'top_k': 1,\n",
    "        'repetition_penalty': 1.1,\n",
    "    }\n",
    "    \n",
    "    while True:\n",
    "        try:\n",
    "\n",
    "            response = requests.post('https://api.mesolitica.com/translation', headers=headers, json=json_data)\n",
    "            r = response.json()['result']\n",
    "            with open(filename, 'w') as fopen:\n",
    "                json.dump(r, fopen)\n",
    "            break\n",
    "        except:\n",
    "            time.sleep(60)"
   ]
  },
  {
   "cell_type": "code",
   "execution_count": 40,
   "id": "0d1d460e",
   "metadata": {
    "scrolled": true
   },
   "outputs": [
    {
     "name": "stderr",
     "output_type": "stream",
     "text": [
      "176493it [00:24, 7138.27it/s]\n"
     ]
    }
   ],
   "source": [
    "filtered = []\n",
    "for i, d in tqdm(enumerate(data)):\n",
    "    filename = filename = os.path.join('translate-persona', f'{i}.json')\n",
    "    if not os.path.exists(filename):\n",
    "        continue\n",
    "    \n",
    "    with open(filename) as fopen:\n",
    "        r = json.load(fopen)\n",
    "    \n",
    "    s = r.split()\n",
    "    if (len(set(s)) / len(s)) > 0.5:\n",
    "        d['persona_ms'] = r\n",
    "        filtered.append(d)"
   ]
  },
  {
   "cell_type": "code",
   "execution_count": 41,
   "id": "3c0a043a",
   "metadata": {},
   "outputs": [],
   "source": [
    "df = pd.DataFrame(filtered)\n",
    "df.to_parquet('MY-persona.parquet')"
   ]
  },
  {
   "cell_type": "code",
   "execution_count": 42,
   "id": "81497358",
   "metadata": {},
   "outputs": [
    {
     "data": {
      "application/vnd.jupyter.widget-view+json": {
       "model_id": "4a79d0856b054e47ac5187f873f797e9",
       "version_major": 2,
       "version_minor": 0
      },
      "text/plain": [
       "MY-persona.parquet:   0%|          | 0.00/465M [00:00<?, ?B/s]"
      ]
     },
     "metadata": {},
     "output_type": "display_data"
    },
    {
     "data": {
      "text/plain": [
       "CommitInfo(commit_url='https://huggingface.co/datasets/mesolitica/Malaysian-Persona/commit/19826ddc01ce0ae26922b4ce1c24abfa09bc8765', commit_message='Upload data/persona-00000-of-00001.parquet with huggingface_hub', commit_description='', oid='19826ddc01ce0ae26922b4ce1c24abfa09bc8765', pr_url=None, pr_revision=None, pr_num=None)"
      ]
     },
     "execution_count": 42,
     "metadata": {},
     "output_type": "execute_result"
    }
   ],
   "source": [
    "from huggingface_hub import HfApi\n",
    "api = HfApi()\n",
    "\n",
    "api.upload_file(\n",
    "    path_or_fileobj=\"MY-persona.parquet\",\n",
    "    path_in_repo='data/persona-00000-of-00001.parquet',\n",
    "    repo_id=\"mesolitica/Malaysian-Persona\",\n",
    "    repo_type=\"dataset\",\n",
    ")"
   ]
  },
  {
   "cell_type": "code",
   "execution_count": null,
   "id": "62a618eb",
   "metadata": {},
   "outputs": [],
   "source": []
  }
 ],
 "metadata": {
  "kernelspec": {
   "display_name": "python3.10",
   "language": "python",
   "name": "python3.10"
  },
  "language_info": {
   "codemirror_mode": {
    "name": "ipython",
    "version": 3
   },
   "file_extension": ".py",
   "mimetype": "text/x-python",
   "name": "python",
   "nbconvert_exporter": "python",
   "pygments_lexer": "ipython3",
   "version": "3.10.15"
  }
 },
 "nbformat": 4,
 "nbformat_minor": 5
}
