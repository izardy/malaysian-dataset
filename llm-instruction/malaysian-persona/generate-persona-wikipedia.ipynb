{
 "cells": [
  {
   "cell_type": "code",
   "execution_count": null,
   "id": "69768e40",
   "metadata": {},
   "outputs": [],
   "source": [
    "# !wget https://huggingface.co/datasets/malaysia-ai/wikipedia/resolve/main/wikipedia-2023-10-01.jsonl"
   ]
  },
  {
   "cell_type": "code",
   "execution_count": null,
   "id": "cd5e6915",
   "metadata": {},
   "outputs": [],
   "source": [
    "import json\n",
    "from tqdm import tqdm\n",
    "\n",
    "partitions = []\n",
    "s = 512\n",
    "\n",
    "with open('wikipedia-2023-10-01.jsonl') as fopen:\n",
    "    for l in tqdm(fopen):\n",
    "        l = json.loads(l)\n",
    "        l = l.split()\n",
    "        l = [l[i: i + s] for i in range(0, len(l), s)]\n",
    "        l = [l_ for l_ in l if len(l_) > 100]\n",
    "        l = [' '.join(l_) for l_ in l]\n",
    "        partitions.extend(l)\n",
    "        \n",
    "len(partitions)"
   ]
  },
  {
   "cell_type": "code",
   "execution_count": null,
   "id": "91ba10af",
   "metadata": {},
   "outputs": [],
   "source": [
    "partitions[0]"
   ]
  },
  {
   "cell_type": "code",
   "execution_count": null,
   "id": "3420385a",
   "metadata": {},
   "outputs": [],
   "source": [
    "prompts = []\n",
    "for a in partitions:\n",
    "    p = f\"\"\"\n",
    "paragraph = ```\n",
    "{a}\n",
    "```\n",
    "\n",
    "generate 100 words persona based on paragraph above, example generated persona like below,\n",
    "\n",
    "```\n",
    "Zara is a strong and patient woman but still has emotional problems due to her unhappy divorce relationship. However, she remains optimistic and persistent in maintaining her dignity and wants to be an example for other women who face the same challenges. She also likes to seek advice and support from her friends.\n",
    "```\n",
    "Or,\n",
    "```\n",
    "Azmi bin Ahmad is a strong and persistent individual in computer science. However, he also faces emotional challenges due to his unending divorce relationships. Despite this, Azmi remains optimistic and determined to maintain his dignity and hopes to be an example for other individuals facing similar challenges.\n",
    "```\n",
    "Or,\n",
    "```\n",
    "Panglima Awang, also known as Enrique of Malacca, is a brave and wise Malay hero. As a war captive who was taken from Melaka to Lisbon, Portuguese, he had struggled with strength and intelligence to survive on foreign lands. Enrique possessed an unassuming spirit and outstanding language skills, enabling him to communicate with various nations.\n",
    "```\n",
    "    \"\"\"\n",
    "    prompts.append((p.strip(), a))"
   ]
  },
  {
   "cell_type": "code",
   "execution_count": null,
   "id": "3b8ebe47",
   "metadata": {},
   "outputs": [],
   "source": [
    "# !rm -rf generate-persona-wikipedia\n",
    "!mkdir generate-persona-wikipedia"
   ]
  },
  {
   "cell_type": "code",
   "execution_count": null,
   "id": "dbf44c4e",
   "metadata": {},
   "outputs": [],
   "source": [
    "import requests\n",
    "import os\n",
    "\n",
    "def answer(q, i):\n",
    "    filename = os.path.join('generate-persona-wikipedia', f'{i}.json')\n",
    "    filename_fail = os.path.join('generate-persona-wikipedia', f'{i}.json.fail')\n",
    "    \n",
    "    if os.path.exists(filename) and os.path.getsize(filename) > 200:\n",
    "        return\n",
    "    \n",
    "    if os.path.exists(filename_fail):\n",
    "        return\n",
    "    \n",
    "    for _ in range(3):\n",
    "        try:\n",
    "            headers = {\n",
    "                'accept': 'application/json',\n",
    "                'Content-Type': 'application/json',\n",
    "            }\n",
    "            \n",
    "            messages = [\n",
    "                {'role': 'user', 'content': q[0]}\n",
    "            ]\n",
    "\n",
    "            json_data = {\n",
    "                'model': 'mallam-small-2.5',\n",
    "                'messages': messages,\n",
    "                'temperature': 0.9,\n",
    "                'top_p': 0.8,\n",
    "                'top_k': 50,\n",
    "                'max_tokens': 512,\n",
    "            }\n",
    "\n",
    "            response = requests.post('http://localhost:8000/v1/chat/completions', \n",
    "                                     headers=headers, json=json_data)\n",
    "            if 'maximum context length' in response._content.decode():\n",
    "                break\n",
    "            r = response.json()\n",
    "            r = r['choices'][0]['message']['content']\n",
    "            if len(r):\n",
    "                with open(filename, 'w') as fopen:\n",
    "                    json.dump({'r': r, 'context': q[1]}, fopen)\n",
    "            \n",
    "            return\n",
    "        except:\n",
    "            pass\n",
    "    \n",
    "    with open(filename_fail, 'w') as fopen:\n",
    "        fopen.write('a')"
   ]
  },
  {
   "cell_type": "code",
   "execution_count": null,
   "id": "0a13f90b",
   "metadata": {},
   "outputs": [],
   "source": [
    "def consumer(queue, name):\n",
    "    while True:\n",
    "        if queue.qsize() == 0:\n",
    "            break\n",
    "        item = queue.get()\n",
    "        answer(*item)\n",
    "    print(f'consumer {name} done')"
   ]
  },
  {
   "cell_type": "code",
   "execution_count": null,
   "id": "ae5796c0",
   "metadata": {},
   "outputs": [],
   "source": [
    "from threading import Thread\n",
    "from queue import Queue\n",
    "\n",
    "queue = Queue()\n",
    "urls = [(q, no) for no, q in enumerate(prompts)]\n",
    "for u in urls:\n",
    "    queue.put(u)\n",
    "    \n",
    "ori_size = queue.qsize()"
   ]
  },
  {
   "cell_type": "code",
   "execution_count": null,
   "id": "be6ff518",
   "metadata": {},
   "outputs": [],
   "source": [
    "answer(*urls[0])"
   ]
  },
  {
   "cell_type": "code",
   "execution_count": null,
   "id": "713b4c45",
   "metadata": {},
   "outputs": [],
   "source": [
    "answer(*urls[-1])"
   ]
  },
  {
   "cell_type": "code",
   "execution_count": null,
   "id": "faf9ddbf",
   "metadata": {},
   "outputs": [],
   "source": [
    "answer(*urls[-3])"
   ]
  },
  {
   "cell_type": "code",
   "execution_count": null,
   "id": "cf6f2368",
   "metadata": {},
   "outputs": [],
   "source": [
    "from tqdm import tqdm\n",
    "\n",
    "max_worker = 50\n",
    "consumers = [Thread(target=consumer, args=(queue,i)) for i in range(max_worker)]\n",
    "for i in range(len(consumers)):\n",
    "    consumers[i].start()\n",
    "    \n",
    "pbar = tqdm(total=ori_size)\n",
    "last_size = 0\n",
    "while True:\n",
    "    size = queue.qsize()\n",
    "    if size == 0:\n",
    "        break\n",
    "    left = ori_size - size\n",
    "    minus = left - last_size\n",
    "    if minus > 0:\n",
    "        pbar.update(minus)\n",
    "        last_size += minus\n",
    "\n",
    "pbar.close()"
   ]
  },
  {
   "cell_type": "code",
   "execution_count": null,
   "id": "31144020",
   "metadata": {},
   "outputs": [],
   "source": []
  }
 ],
 "metadata": {
  "kernelspec": {
   "display_name": "python3.10",
   "language": "python",
   "name": "python3.10"
  },
  "language_info": {
   "codemirror_mode": {
    "name": "ipython",
    "version": 3
   },
   "file_extension": ".py",
   "mimetype": "text/x-python",
   "name": "python",
   "nbconvert_exporter": "python",
   "pygments_lexer": "ipython3",
   "version": "3.10.15"
  }
 },
 "nbformat": 4,
 "nbformat_minor": 5
}
