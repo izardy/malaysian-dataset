{
 "cells": [
  {
   "cell_type": "code",
   "execution_count": 1,
   "id": "767e0952",
   "metadata": {},
   "outputs": [],
   "source": [
    "# !wget https://huggingface.co/datasets/mesolitica/kesalahan-tatabahasa/resolve/main/train.jsonl -O tatabahasa1.jsonl\n",
    "# !wget https://huggingface.co/datasets/mesolitica/kesalahan-tatabahasa/resolve/main/train2.jsonl -O tatabahasa2.jsonl"
   ]
  },
  {
   "cell_type": "code",
   "execution_count": 2,
   "id": "b06773ea",
   "metadata": {},
   "outputs": [
    {
     "data": {
      "text/plain": [
       "16"
      ]
     },
     "execution_count": 2,
     "metadata": {},
     "output_type": "execute_result"
    }
   ],
   "source": [
    "describe = [\n",
    "    {'class': 0,\n",
    "     'Description': 'PAD',\n",
    "     'salah': '',\n",
    "     'betul': ''},\n",
    "    {'class': 1,\n",
    "     'Description': 'kesambungan subwords',\n",
    "     'salah': '',\n",
    "     'betul': '',\n",
    "     },\n",
    "    {'class': 2,\n",
    "     'Description': 'tiada kesalahan',\n",
    "     'salah': '',\n",
    "     'betul': '',\n",
    "     },\n",
    "    {'class': 3,\n",
    "     'Description': 'kesalahan frasa nama, Perkara yang diterangkan mesti mendahului \"penerang\"',\n",
    "     'salah': 'Cili sos',\n",
    "     'betul': 'sos cili',\n",
    "     },\n",
    "    {'class': 4,\n",
    "     'Description': 'kesalahan kata jamak',\n",
    "     'salah': 'mereka-mereka',\n",
    "     'betul': 'mereka',\n",
    "     },\n",
    "    {'class': 5,\n",
    "     'Description': 'kesalahan kata penguat',\n",
    "     'salah': 'sangat tinggi sekali',\n",
    "     'betul': 'sangat tinggi',\n",
    "     },\n",
    "    {'class': 6,\n",
    "     'Description': 'kata adjektif dan imbuhan \"ter\" tanpa penguat',\n",
    "     'salah': 'Sani mendapat markah yang tertinggi sekali.',\n",
    "     'betul': 'Sani mendapat markah yang tertinggi.',\n",
    "     },\n",
    "    {'class': 7,\n",
    "     'Description': 'kesalahan kata hubung',\n",
    "     'salah': 'Sally sedang membaca bila saya tiba di rumahnya.',\n",
    "     'betul': 'Sally sedang membaca apabila saya tiba di rumahnya.',\n",
    "     },\n",
    "    {'class': 8,\n",
    "     'Description': 'kesalahan kata bilangan',\n",
    "     'salah': 'Beribu peniaga tidak membayar cukai pendapatan.',\n",
    "     'betul': 'Beribu-ribu peniaga tidak membayar cukai pendapatan',\n",
    "     },\n",
    "    {'class': 9,\n",
    "     'Description': 'kesalahan kata sendi',\n",
    "     'salah': 'Umar telah berpindah daripada sekolah ini bulan lalu.',\n",
    "     'betul': 'Umar telah berpindah dari sekolah ini bulan lalu.',\n",
    "     },\n",
    "    {'class': 10,\n",
    "     'Description': 'kesalahan penjodoh bilangan',\n",
    "     'salah': 'Setiap orang pelajar',\n",
    "     'betul': 'Setiap pelajar.',\n",
    "     },\n",
    "    {'class': 11,\n",
    "     'Description': 'kesalahan kata ganti diri',\n",
    "     'salah': 'Pencuri itu telah ditangkap. Beliau dibawa ke balai polis.',\n",
    "     'betul': 'Pencuri itu telah ditangkap. Dia dibawa ke balai polis.',\n",
    "     },\n",
    "    {'class': 12,\n",
    "     'Description': 'kesalahan ayat pasif',\n",
    "     'salah': 'Cerpen itu telah dikarang oleh saya.',\n",
    "     'betul': 'Cerpen itu telah saya karang.',\n",
    "     },\n",
    "    {'class': 13,\n",
    "     'Description': 'kesalahan kata tanya',\n",
    "     'salah': 'Kamu berasal dari manakah ?',\n",
    "     'betul': 'Kamu berasal dari mana ?',\n",
    "     },\n",
    "    {'class': 14,\n",
    "     'Description': 'kesalahan tanda baca',\n",
    "     'salah': 'Kamu berasal dari manakah .',\n",
    "     'betul': 'Kamu berasal dari mana ?',\n",
    "     },\n",
    "    {'class': 15,\n",
    "     'Description': 'kesalahan kata kerja tak transitif',\n",
    "     'salah': 'Dia kata kepada saya',\n",
    "     'betul': 'Dia berkata kepada saya',\n",
    "     },\n",
    "    {'class': 16,\n",
    "     'Description': 'kesalahan kata kerja transitif',\n",
    "     'salah': 'Dia suka baca buku',\n",
    "     'betul': 'Dia suka membaca buku',\n",
    "     },\n",
    "    {'class': 17,\n",
    "     'Description': 'penggunaan kata yang tidak tepat',\n",
    "     'salah': 'Tembuk Besar negeri Cina dibina oleh Shih Huang Ti.',\n",
    "     'betul': 'Tembok Besar negeri Cina dibina oleh Shih Huang Ti',\n",
    "     },\n",
    "]\n",
    "\n",
    "kesalahan = {}\n",
    "for d in describe[2:]:\n",
    "    kesalahan[d['class']] = d['Description']\n",
    "    \n",
    "len(kesalahan)"
   ]
  },
  {
   "cell_type": "code",
   "execution_count": 3,
   "id": "3a277b82",
   "metadata": {},
   "outputs": [],
   "source": [
    "from collections import defaultdict\n",
    "from glob import glob\n",
    "from tqdm import tqdm\n",
    "import json\n",
    "import random\n",
    "\n",
    "import re\n",
    "\n",
    "# from https://huggingface.co/Qwen/QwQ-32B-Preview\n",
    "\n",
    "def fix_spacing(text):\n",
    "    # Handle double quotes: strip spaces inside quotes\n",
    "    quote_pattern = r'\"([^\"]*)\"'\n",
    "    def fix_quotes(match):\n",
    "        content = match.group(1).strip()\n",
    "        return f'\"{content}\"'\n",
    "    text = re.sub(quote_pattern, fix_quotes, text)\n",
    "    \n",
    "    # Handle parentheses: strip spaces inside parentheses\n",
    "    paren_pattern = r'\\(([^)]*)\\)'\n",
    "    def fix_parens(match):\n",
    "        content = match.group(1).strip()\n",
    "        return f'({content})'\n",
    "    text = re.sub(paren_pattern, fix_parens, text)\n",
    "    \n",
    "    # Remove spaces before standalone punctuation: ',', '.', etc.\n",
    "    punct_pattern = r'\\s+([,.!:])'\n",
    "    text = re.sub(punct_pattern, r'\\1', text)\n",
    "    \n",
    "    return text.replace(' ()', '')"
   ]
  },
  {
   "cell_type": "code",
   "execution_count": 4,
   "id": "3c3a9eae",
   "metadata": {},
   "outputs": [
    {
     "name": "stderr",
     "output_type": "stream",
     "text": [
      "497050it [00:15, 31288.77it/s]\n",
      "497079it [00:16, 30158.92it/s]\n"
     ]
    },
    {
     "data": {
      "text/plain": [
       "943378"
      ]
     },
     "execution_count": 4,
     "metadata": {},
     "output_type": "execute_result"
    }
   ],
   "source": [
    "before_after = []\n",
    "for f in ['tatabahasa1.jsonl', 'tatabahasa2.jsonl']:\n",
    "    with open(f) as fopen:\n",
    "        for l in tqdm(fopen):\n",
    "            l = json.loads(l)\n",
    "            \n",
    "            if len(l[0]) < 5:\n",
    "                continue\n",
    "            if len(l[0]) != len(l[1]):\n",
    "                continue\n",
    "                \n",
    "            before = ' '.join([l_[0] for l_ in l[1]])\n",
    "            after, errors = [], []\n",
    "            for no, l_ in enumerate(l[0]):\n",
    "                b = l[1][no]\n",
    "                if b[1] != 2:\n",
    "                    after.append(f'{b[0]}<sup>{len(errors) + 1}</sup>')\n",
    "                    d = describe[b[1]]['Description']\n",
    "                    errors.append(f'{len(errors) + 1}. \"{b[0]}\", {d}.')\n",
    "                else:\n",
    "                    after.append(b[0])\n",
    "        \n",
    "            after = ' '.join(after)\n",
    "            before = fix_spacing(before)\n",
    "            after = fix_spacing(after)\n",
    "            \n",
    "            actual_after = ' '.join([l_[0] for l_ in l[0]])\n",
    "            actual_after = fix_spacing(actual_after)\n",
    "            \n",
    "            before_after.append({\n",
    "                'before': before,\n",
    "                'after': after,\n",
    "                'error': errors,\n",
    "                'actual_after': actual_after\n",
    "            })\n",
    "            \n",
    "len(before_after)"
   ]
  },
  {
   "cell_type": "code",
   "execution_count": 5,
   "id": "28659277",
   "metadata": {},
   "outputs": [
    {
     "data": {
      "text/plain": [
       "943378"
      ]
     },
     "execution_count": 5,
     "metadata": {},
     "output_type": "execute_result"
    }
   ],
   "source": [
    "data = []\n",
    "\n",
    "prompts = [\n",
    "    'betulkan kesalahan tatabahasa dan terangkan\\n```\\n{string}\\n```',\n",
    "    '```\\n{string}\\n```\\nbetulkan kesalahan tatabahasa dan terangkan kesalahan tersebut',\n",
    "    '```\\n{string}\\n```\\nfix the tatabahasa and describe the error',\n",
    "]\n",
    "\n",
    "no_fix = [\n",
    "    'Tiada kesalahan tatabahasa untuk teks yang diberikan.',\n",
    "    '{string}\\n\\nTiada kesalahan tatabahasa untuk teks yang diberikan.'\n",
    "]\n",
    "\n",
    "for d in before_after:\n",
    "    if d['before'] == d['after']:\n",
    "        a = random.choice(no_fix).format(string = d['after'])\n",
    "    else:\n",
    "        error = '\\n'.join(d['error'])\n",
    "        a = f\"{d['after']}\\n{error}\\n\\nPembetulannya ialah:\\n{d['actual_after']}\"\n",
    "        \n",
    "    d = {\n",
    "        'prompt_input': None,\n",
    "        'input': random.choice(prompts).format(string = d['before']),\n",
    "        'output': a,\n",
    "    }\n",
    "    data.append(d)\n",
    "    \n",
    "len(data)"
   ]
  },
  {
   "cell_type": "code",
   "execution_count": 6,
   "id": "108a0a98",
   "metadata": {},
   "outputs": [
    {
     "name": "stdout",
     "output_type": "stream",
     "text": [
      "betulkan kesalahan tatabahasa dan terangkan\n",
      "```\n",
      "Beliau sekarang memainkan untuk pertubuhan Ajax ;\n",
      "```\n"
     ]
    }
   ],
   "source": [
    "print(data[1]['input'])"
   ]
  },
  {
   "cell_type": "code",
   "execution_count": 7,
   "id": "5da3da3f",
   "metadata": {},
   "outputs": [
    {
     "name": "stdout",
     "output_type": "stream",
     "text": [
      "Beliau sekarang<sup>1</sup> memainkan<sup>2</sup> untuk pertubuhan<sup>3</sup> Ajax ;<sup>4</sup>\n",
      "1. \"sekarang\", penggunaan kata yang tidak tepat.\n",
      "2. \"memainkan\", penggunaan kata yang tidak tepat.\n",
      "3. \"pertubuhan\", penggunaan kata yang tidak tepat.\n",
      "4. \";\", kesalahan tanda baca.\n",
      "\n",
      "Pembetulannya ialah:\n",
      "Beliau kini bermain untuk kelab Ajax.\n"
     ]
    }
   ],
   "source": [
    "print(data[1]['output'])"
   ]
  },
  {
   "cell_type": "code",
   "execution_count": 8,
   "id": "f9a1d086",
   "metadata": {},
   "outputs": [],
   "source": [
    "import pandas as pd\n",
    "\n",
    "df = pd.DataFrame(data)\n",
    "df.to_parquet('prepared-kesalahan-tatabahasa-sentence-fix-description.parquet')"
   ]
  },
  {
   "cell_type": "code",
   "execution_count": 9,
   "id": "00b83ffe",
   "metadata": {},
   "outputs": [
    {
     "data": {
      "application/vnd.jupyter.widget-view+json": {
       "model_id": "13b9530cd50a4ccabc3ba7cd1a03edd7",
       "version_major": 2,
       "version_minor": 0
      },
      "text/plain": [
       "prepared-kesalahan-tatabahasa-sentence-fix-description.parquet:   0%|          | 0.00/249M [00:00<?, ?B/s]"
      ]
     },
     "metadata": {},
     "output_type": "display_data"
    },
    {
     "data": {
      "text/plain": [
       "CommitInfo(commit_url='https://huggingface.co/datasets/mesolitica/kesalahan-tatabahasa-instructions/commit/11e249d401962b4c38d9240cac927a8c9fc85fa5', commit_message='Upload data/kesalahan_tatabahasa_sentence_fix_description-00000-of-00001.parquet with huggingface_hub', commit_description='', oid='11e249d401962b4c38d9240cac927a8c9fc85fa5', pr_url=None, pr_revision=None, pr_num=None)"
      ]
     },
     "execution_count": 9,
     "metadata": {},
     "output_type": "execute_result"
    }
   ],
   "source": [
    "from huggingface_hub import HfApi\n",
    "api = HfApi()\n",
    "\n",
    "api.upload_file(\n",
    "    path_or_fileobj=\"prepared-kesalahan-tatabahasa-sentence-fix-description.parquet\",\n",
    "    path_in_repo='data/kesalahan_tatabahasa_sentence_fix_description-00000-of-00001.parquet',\n",
    "    repo_id=\"mesolitica/kesalahan-tatabahasa-instructions\",\n",
    "    repo_type=\"dataset\",\n",
    ")"
   ]
  },
  {
   "cell_type": "code",
   "execution_count": 10,
   "id": "d604055b",
   "metadata": {},
   "outputs": [
    {
     "name": "stderr",
     "output_type": "stream",
     "text": [
      "497050it [00:14, 33622.38it/s]\n",
      "497079it [00:12, 39978.04it/s] \n"
     ]
    },
    {
     "data": {
      "text/plain": [
       "943378"
      ]
     },
     "execution_count": 10,
     "metadata": {},
     "output_type": "execute_result"
    }
   ],
   "source": [
    "alls = []\n",
    "for f in ['tatabahasa1.jsonl', 'tatabahasa2.jsonl']:\n",
    "    with open(f) as fopen:\n",
    "        for l in tqdm(fopen):\n",
    "            l = json.loads(l)\n",
    "            \n",
    "            if len(l[0]) < 5:\n",
    "                continue\n",
    "            if len(l[0]) != len(l[1]):\n",
    "                continue\n",
    "                \n",
    "            alls.append(l)\n",
    "            \n",
    "len(alls)"
   ]
  },
  {
   "cell_type": "code",
   "execution_count": 11,
   "id": "fc14f339",
   "metadata": {},
   "outputs": [
    {
     "data": {
      "text/plain": [
       "157218"
      ]
     },
     "execution_count": 11,
     "metadata": {},
     "output_type": "execute_result"
    }
   ],
   "source": [
    "slides = []\n",
    "\n",
    "i = 0\n",
    "while i < len(alls):\n",
    "    k = random.randint(2, 10)\n",
    "    slide = alls[i: i + k]\n",
    "    \n",
    "    befores, afters = [], []\n",
    "    for s in slide:\n",
    "        befores.extend(s[0])\n",
    "        afters.extend(s[1])\n",
    "    \n",
    "    before = ' '.join([l_[0] for l_ in afters])\n",
    "    after, errors = [], []\n",
    "    for no, l_ in enumerate(befores):\n",
    "        b = afters[no]\n",
    "        if b[1] != 2:\n",
    "            after.append(f'{b[0]}<sup>{len(errors) + 1}</sup>')\n",
    "            d = describe[b[1]]['Description']\n",
    "            errors.append(f'{len(errors) + 1}. \"{b[0]}\", {d}.')\n",
    "        else:\n",
    "            after.append(b[0])\n",
    "\n",
    "    after = ' '.join(after)\n",
    "    before = fix_spacing(before)\n",
    "    after = fix_spacing(after)\n",
    "\n",
    "    actual_after = ' '.join([l_[0] for l_ in befores])\n",
    "    actual_after = fix_spacing(actual_after)\n",
    "\n",
    "    slides.append({\n",
    "        'before': before,\n",
    "        'after': after,\n",
    "        'error': errors,\n",
    "        'actual_after': actual_after\n",
    "    })\n",
    "    i += k\n",
    "    \n",
    "len(slides)"
   ]
  },
  {
   "cell_type": "code",
   "execution_count": 12,
   "id": "d93ba05f",
   "metadata": {},
   "outputs": [
    {
     "data": {
      "text/plain": [
       "157218"
      ]
     },
     "execution_count": 12,
     "metadata": {},
     "output_type": "execute_result"
    }
   ],
   "source": [
    "data = []\n",
    "\n",
    "prompts = [\n",
    "    'betulkan kesalahan tatabahasa dan terangkan\\n```\\n{string}\\n```',\n",
    "    '```\\n{string}\\n```\\nbetulkan kesalahan tatabahasa dan terangkan kesalahan tersebut',\n",
    "    '```\\n{string}\\n```\\nfix the tatabahasa and describe the error',\n",
    "]\n",
    "\n",
    "no_fix = [\n",
    "    'Tiada kesalahan tatabahasa untuk teks yang diberikan.',\n",
    "    '{string}\\n\\nTiada kesalahan tatabahasa untuk teks yang diberikan.'\n",
    "]\n",
    "\n",
    "for d in slides:\n",
    "    if d['before'] == d['after']:\n",
    "        a = random.choice(no_fix).format(string = d['after'])\n",
    "    else:\n",
    "        error = '\\n'.join(d['error'])\n",
    "        a = f\"{d['after']}\\n{error}\\n\\nPembetulannya ialah:\\n{d['actual_after']}\"\n",
    "        \n",
    "    d = {\n",
    "        'prompt_input': None,\n",
    "        'input': random.choice(prompts).format(string = d['before']),\n",
    "        'output': a,\n",
    "    }\n",
    "    data.append(d)\n",
    "    \n",
    "len(data)"
   ]
  },
  {
   "cell_type": "code",
   "execution_count": 14,
   "id": "a5bda720",
   "metadata": {},
   "outputs": [
    {
     "data": {
      "text/plain": [
       "{'prompt_input': None,\n",
       " 'input': '```\\nIa dirobohkan bagi 2005 dan digantikan kepada Hypo-Arena yang segar. agaknya dikenali sehingga 30 Jun 2007 dengan sebutan \"Wortherseestadion\": Ia adalah salah satu semenjak 8 stadium daripada UEFA Euro 2008, dan dibina untuk menampung 32,000 penonton. Selepas acara tersebut sungguh, kapasiti stadium patik sedang dipertimbangkan untuk dikurangkan kepada 12,500. Stadium ini dibuka secara rasmi kepada 7 September 2007 bak menjadi tuan rumah sejak perlawanan persahabatan akan di Austria dan Jepun di hadapan 26,500 penonton, Marta Vieira da Silva (lahir 19 Februari 1986) yang biasanya dikenali sebagai Marta merupakan selingkar pemain bola sepak Brazil yang bermain dalam posisi penyerang untuk kelab Liga Bola Sepak Wanita Nasional! Orlando Pride dan juga pasukan bola sepak kebangsaan wanita Brazil ? Beliau memegang rekod sebanyak 17 gol yang dijaringkan hingga kejohanan Piala Dunia FIFA. Marta juga adalah pemain bola sepak pertama dari kedua-dua jantina yang jaya menjaringkan gol dalam lima edisi Piala Dunia, dan pencapaian baginda juga telah dipadankan oleh Christine Sinclair pada tahun 2019. Marta sering dianggap sebagai pemain wanita terhebat sepanjang masa.\\n```\\nfix the tatabahasa and describe the error',\n",
       " 'output': 'Ia dirobohkan bagi<sup>1</sup> 2005 dan digantikan kepada<sup>2</sup> Hypo-Arena yang segar<sup>3</sup>.<sup>4</sup> agaknya<sup>5</sup> dikenali sehingga 30 Jun 2007 dengan sebutan<sup>6</sup> \"Wortherseestadion\":<sup>7</sup> Ia adalah salah satu semenjak<sup>8</sup> 8 stadium daripada<sup>9</sup> UEFA Euro 2008, dan dibina untuk menampung 32,000 penonton. Selepas acara tersebut sungguh<sup>10</sup>, kapasiti stadium patik<sup>11</sup> sedang dipertimbangkan untuk dikurangkan kepada 12,500. Stadium ini dibuka secara rasmi kepada<sup>12</sup> 7 September 2007 bak<sup>13</sup> menjadi tuan rumah sejak<sup>14</sup> perlawanan persahabatan akan<sup>15</sup> di<sup>16</sup> Austria dan Jepun di hadapan 26,500 penonton,<sup>17</sup> Marta Vieira da Silva (lahir 19 Februari 1986) yang biasanya dikenali sebagai Marta merupakan selingkar<sup>18</sup> pemain bola sepak Brazil yang bermain dalam posisi penyerang untuk kelab Liga Bola Sepak Wanita Nasional!<sup>19</sup> Orlando Pride dan juga pasukan bola sepak kebangsaan wanita Brazil ?<sup>20</sup> Beliau memegang rekod sebanyak 17 gol yang dijaringkan hingga<sup>21</sup> kejohanan Piala Dunia FIFA. Marta juga adalah pemain bola sepak pertama dari kedua-dua jantina yang jaya<sup>22</sup> menjaringkan gol dalam lima edisi Piala Dunia, dan pencapaian baginda<sup>23</sup> juga telah dipadankan oleh Christine Sinclair pada tahun 2019. Marta sering dianggap sebagai pemain wanita terhebat sepanjang masa.\\n1. \"bagi\", kesalahan kata sendi.\\n2. \"kepada\", kesalahan kata sendi.\\n3. \"segar\", penggunaan kata yang tidak tepat.\\n4. \".\", kesalahan tanda baca.\\n5. \"agaknya\", penggunaan kata yang tidak tepat.\\n6. \"sebutan\", penggunaan kata yang tidak tepat.\\n7. \":\", kesalahan tanda baca.\\n8. \"semenjak\", kesalahan kata sendi.\\n9. \"daripada\", kesalahan kata sendi.\\n10. \"tersebut sungguh\", kata adjektif dan imbuhan \"ter\" tanpa penguat.\\n11. \"patik\", kesalahan kata ganti diri.\\n12. \"kepada\", kesalahan kata sendi.\\n13. \"bak\", kesalahan kata sendi.\\n14. \"sejak\", kesalahan kata sendi.\\n15. \"akan\", kesalahan kata sendi.\\n16. \"di\", kesalahan kata sendi.\\n17. \",\", kesalahan tanda baca.\\n18. \"selingkar\", kesalahan penjodoh bilangan.\\n19. \"!\", kesalahan tanda baca.\\n20. \"?\", kesalahan tanda baca.\\n21. \"hingga\", kesalahan kata sendi.\\n22. \"jaya\", kesalahan kata kerja tak transitif.\\n23. \"baginda\", kesalahan kata ganti diri.\\n\\nPembetulannya ialah:\\nIa dirobohkan pada 2005 dan digantikan dengan Hypo-Arena yang baru, juga dikenali sehingga 30 Jun 2007 dengan nama \"Wortherseestadion\". Ia adalah salah satu daripada 8 stadium untuk UEFA Euro 2008, dan dibina untuk menampung 32,000 penonton. Selepas acara tersebut, kapasiti stadium ini sedang dipertimbangkan untuk dikurangkan kepada 12,500. Stadium ini dibuka secara rasmi pada 7 September 2007 dengan menjadi tuan rumah untuk perlawanan persahabatan di antara Austria dan Jepun di hadapan 26,500 penonton. Marta Vieira da Silva (lahir 19 Februari 1986) yang biasanya dikenali sebagai Marta merupakan seorang pemain bola sepak Brazil yang bermain dalam posisi penyerang untuk kelab Liga Bola Sepak Wanita Nasional, Orlando Pride dan juga pasukan bola sepak kebangsaan wanita Brazil. Beliau memegang rekod sebanyak 17 gol yang dijaringkan di kejohanan Piala Dunia FIFA. Marta juga adalah pemain bola sepak pertama dari kedua-dua jantina yang berjaya menjaringkan gol dalam lima edisi Piala Dunia, dan pencapaian ini juga telah dipadankan oleh Christine Sinclair pada tahun 2019. Marta sering dianggap sebagai pemain wanita terhebat sepanjang masa.'}"
      ]
     },
     "execution_count": 14,
     "metadata": {},
     "output_type": "execute_result"
    }
   ],
   "source": [
    "data[1]"
   ]
  },
  {
   "cell_type": "code",
   "execution_count": 15,
   "id": "5e2150cb",
   "metadata": {},
   "outputs": [
    {
     "name": "stdout",
     "output_type": "stream",
     "text": [
      "```\n",
      "Ia dirobohkan bagi 2005 dan digantikan kepada Hypo-Arena yang segar. agaknya dikenali sehingga 30 Jun 2007 dengan sebutan \"Wortherseestadion\": Ia adalah salah satu semenjak 8 stadium daripada UEFA Euro 2008, dan dibina untuk menampung 32,000 penonton. Selepas acara tersebut sungguh, kapasiti stadium patik sedang dipertimbangkan untuk dikurangkan kepada 12,500. Stadium ini dibuka secara rasmi kepada 7 September 2007 bak menjadi tuan rumah sejak perlawanan persahabatan akan di Austria dan Jepun di hadapan 26,500 penonton, Marta Vieira da Silva (lahir 19 Februari 1986) yang biasanya dikenali sebagai Marta merupakan selingkar pemain bola sepak Brazil yang bermain dalam posisi penyerang untuk kelab Liga Bola Sepak Wanita Nasional! Orlando Pride dan juga pasukan bola sepak kebangsaan wanita Brazil ? Beliau memegang rekod sebanyak 17 gol yang dijaringkan hingga kejohanan Piala Dunia FIFA. Marta juga adalah pemain bola sepak pertama dari kedua-dua jantina yang jaya menjaringkan gol dalam lima edisi Piala Dunia, dan pencapaian baginda juga telah dipadankan oleh Christine Sinclair pada tahun 2019. Marta sering dianggap sebagai pemain wanita terhebat sepanjang masa.\n",
      "```\n",
      "fix the tatabahasa and describe the error\n"
     ]
    }
   ],
   "source": [
    "print(data[1]['input'])"
   ]
  },
  {
   "cell_type": "code",
   "execution_count": 16,
   "id": "260d1bd2",
   "metadata": {
    "scrolled": true
   },
   "outputs": [
    {
     "name": "stdout",
     "output_type": "stream",
     "text": [
      "Ia dirobohkan bagi<sup>1</sup> 2005 dan digantikan kepada<sup>2</sup> Hypo-Arena yang segar<sup>3</sup>.<sup>4</sup> agaknya<sup>5</sup> dikenali sehingga 30 Jun 2007 dengan sebutan<sup>6</sup> \"Wortherseestadion\":<sup>7</sup> Ia adalah salah satu semenjak<sup>8</sup> 8 stadium daripada<sup>9</sup> UEFA Euro 2008, dan dibina untuk menampung 32,000 penonton. Selepas acara tersebut sungguh<sup>10</sup>, kapasiti stadium patik<sup>11</sup> sedang dipertimbangkan untuk dikurangkan kepada 12,500. Stadium ini dibuka secara rasmi kepada<sup>12</sup> 7 September 2007 bak<sup>13</sup> menjadi tuan rumah sejak<sup>14</sup> perlawanan persahabatan akan<sup>15</sup> di<sup>16</sup> Austria dan Jepun di hadapan 26,500 penonton,<sup>17</sup> Marta Vieira da Silva (lahir 19 Februari 1986) yang biasanya dikenali sebagai Marta merupakan selingkar<sup>18</sup> pemain bola sepak Brazil yang bermain dalam posisi penyerang untuk kelab Liga Bola Sepak Wanita Nasional!<sup>19</sup> Orlando Pride dan juga pasukan bola sepak kebangsaan wanita Brazil ?<sup>20</sup> Beliau memegang rekod sebanyak 17 gol yang dijaringkan hingga<sup>21</sup> kejohanan Piala Dunia FIFA. Marta juga adalah pemain bola sepak pertama dari kedua-dua jantina yang jaya<sup>22</sup> menjaringkan gol dalam lima edisi Piala Dunia, dan pencapaian baginda<sup>23</sup> juga telah dipadankan oleh Christine Sinclair pada tahun 2019. Marta sering dianggap sebagai pemain wanita terhebat sepanjang masa.\n",
      "1. \"bagi\", kesalahan kata sendi.\n",
      "2. \"kepada\", kesalahan kata sendi.\n",
      "3. \"segar\", penggunaan kata yang tidak tepat.\n",
      "4. \".\", kesalahan tanda baca.\n",
      "5. \"agaknya\", penggunaan kata yang tidak tepat.\n",
      "6. \"sebutan\", penggunaan kata yang tidak tepat.\n",
      "7. \":\", kesalahan tanda baca.\n",
      "8. \"semenjak\", kesalahan kata sendi.\n",
      "9. \"daripada\", kesalahan kata sendi.\n",
      "10. \"tersebut sungguh\", kata adjektif dan imbuhan \"ter\" tanpa penguat.\n",
      "11. \"patik\", kesalahan kata ganti diri.\n",
      "12. \"kepada\", kesalahan kata sendi.\n",
      "13. \"bak\", kesalahan kata sendi.\n",
      "14. \"sejak\", kesalahan kata sendi.\n",
      "15. \"akan\", kesalahan kata sendi.\n",
      "16. \"di\", kesalahan kata sendi.\n",
      "17. \",\", kesalahan tanda baca.\n",
      "18. \"selingkar\", kesalahan penjodoh bilangan.\n",
      "19. \"!\", kesalahan tanda baca.\n",
      "20. \"?\", kesalahan tanda baca.\n",
      "21. \"hingga\", kesalahan kata sendi.\n",
      "22. \"jaya\", kesalahan kata kerja tak transitif.\n",
      "23. \"baginda\", kesalahan kata ganti diri.\n",
      "\n",
      "Pembetulannya ialah:\n",
      "Ia dirobohkan pada 2005 dan digantikan dengan Hypo-Arena yang baru, juga dikenali sehingga 30 Jun 2007 dengan nama \"Wortherseestadion\". Ia adalah salah satu daripada 8 stadium untuk UEFA Euro 2008, dan dibina untuk menampung 32,000 penonton. Selepas acara tersebut, kapasiti stadium ini sedang dipertimbangkan untuk dikurangkan kepada 12,500. Stadium ini dibuka secara rasmi pada 7 September 2007 dengan menjadi tuan rumah untuk perlawanan persahabatan di antara Austria dan Jepun di hadapan 26,500 penonton. Marta Vieira da Silva (lahir 19 Februari 1986) yang biasanya dikenali sebagai Marta merupakan seorang pemain bola sepak Brazil yang bermain dalam posisi penyerang untuk kelab Liga Bola Sepak Wanita Nasional, Orlando Pride dan juga pasukan bola sepak kebangsaan wanita Brazil. Beliau memegang rekod sebanyak 17 gol yang dijaringkan di kejohanan Piala Dunia FIFA. Marta juga adalah pemain bola sepak pertama dari kedua-dua jantina yang berjaya menjaringkan gol dalam lima edisi Piala Dunia, dan pencapaian ini juga telah dipadankan oleh Christine Sinclair pada tahun 2019. Marta sering dianggap sebagai pemain wanita terhebat sepanjang masa.\n"
     ]
    }
   ],
   "source": [
    "print(data[1]['output'])"
   ]
  },
  {
   "cell_type": "code",
   "execution_count": 17,
   "id": "df25c623",
   "metadata": {},
   "outputs": [],
   "source": [
    "df = pd.DataFrame(data)\n",
    "df.to_parquet('prepared-kesalahan-tatabahasa-slides-sentence-fix-description.parquet')"
   ]
  },
  {
   "cell_type": "code",
   "execution_count": 18,
   "id": "0d9da010",
   "metadata": {},
   "outputs": [
    {
     "data": {
      "application/vnd.jupyter.widget-view+json": {
       "model_id": "fe217534527941bdaf91c86b51372a27",
       "version_major": 2,
       "version_minor": 0
      },
      "text/plain": [
       "prepared-kesalahan-tatabahasa-slides-sentence-fix-description.parquet:   0%|          | 0.00/249M [00:00<?, ?B…"
      ]
     },
     "metadata": {},
     "output_type": "display_data"
    },
    {
     "data": {
      "text/plain": [
       "CommitInfo(commit_url='https://huggingface.co/datasets/mesolitica/kesalahan-tatabahasa-instructions/commit/379cb8c694fa6311f4917045774b30b966fcede6', commit_message='Upload data/kesalahan_tatabahasa_sentence_slides_fix_description-00000-of-00001.parquet with huggingface_hub', commit_description='', oid='379cb8c694fa6311f4917045774b30b966fcede6', pr_url=None, pr_revision=None, pr_num=None)"
      ]
     },
     "execution_count": 18,
     "metadata": {},
     "output_type": "execute_result"
    }
   ],
   "source": [
    "api.upload_file(\n",
    "    path_or_fileobj=\"prepared-kesalahan-tatabahasa-slides-sentence-fix-description.parquet\",\n",
    "    path_in_repo='data/kesalahan_tatabahasa_sentence_slides_fix_description-00000-of-00001.parquet',\n",
    "    repo_id=\"mesolitica/kesalahan-tatabahasa-instructions\",\n",
    "    repo_type=\"dataset\",\n",
    ")"
   ]
  }
 ],
 "metadata": {
  "kernelspec": {
   "display_name": "Python 3 (ipykernel)",
   "language": "python",
   "name": "python3"
  },
  "language_info": {
   "codemirror_mode": {
    "name": "ipython",
    "version": 3
   },
   "file_extension": ".py",
   "mimetype": "text/x-python",
   "name": "python",
   "nbconvert_exporter": "python",
   "pygments_lexer": "ipython3",
   "version": "3.8.10"
  }
 },
 "nbformat": 4,
 "nbformat_minor": 5
}
