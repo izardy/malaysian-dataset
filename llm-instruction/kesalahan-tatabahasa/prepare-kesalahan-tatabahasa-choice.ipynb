{
 "cells": [
  {
   "cell_type": "code",
   "execution_count": 1,
   "id": "56d83cc2",
   "metadata": {},
   "outputs": [],
   "source": [
    "# !wget https://huggingface.co/datasets/mesolitica/kesalahan-tatabahasa/resolve/main/train.jsonl -O tatabahasa1.jsonl\n",
    "# !wget https://huggingface.co/datasets/mesolitica/kesalahan-tatabahasa/resolve/main/train2.jsonl -O tatabahasa2.jsonl"
   ]
  },
  {
   "cell_type": "code",
   "execution_count": 2,
   "id": "6dab4425",
   "metadata": {},
   "outputs": [
    {
     "data": {
      "text/plain": [
       "16"
      ]
     },
     "execution_count": 2,
     "metadata": {},
     "output_type": "execute_result"
    }
   ],
   "source": [
    "describe = [\n",
    "    {'class': 0,\n",
    "     'Description': 'PAD',\n",
    "     'salah': '',\n",
    "     'betul': ''},\n",
    "    {'class': 1,\n",
    "     'Description': 'kesambungan subwords',\n",
    "     'salah': '',\n",
    "     'betul': '',\n",
    "     },\n",
    "    {'class': 2,\n",
    "     'Description': 'tiada kesalahan',\n",
    "     'salah': '',\n",
    "     'betul': '',\n",
    "     },\n",
    "    {'class': 3,\n",
    "     'Description': 'kesalahan frasa nama, Perkara yang diterangkan mesti mendahului \"penerang\"',\n",
    "     'salah': 'Cili sos',\n",
    "     'betul': 'sos cili',\n",
    "     },\n",
    "    {'class': 4,\n",
    "     'Description': 'kesalahan kata jamak',\n",
    "     'salah': 'mereka-mereka',\n",
    "     'betul': 'mereka',\n",
    "     },\n",
    "    {'class': 5,\n",
    "     'Description': 'kesalahan kata penguat',\n",
    "     'salah': 'sangat tinggi sekali',\n",
    "     'betul': 'sangat tinggi',\n",
    "     },\n",
    "    {'class': 6,\n",
    "     'Description': 'kata adjektif dan imbuhan \"ter\" tanpa penguat.',\n",
    "     'salah': 'Sani mendapat markah yang tertinggi sekali.',\n",
    "     'betul': 'Sani mendapat markah yang tertinggi.',\n",
    "     },\n",
    "    {'class': 7,\n",
    "     'Description': 'kesalahan kata hubung',\n",
    "     'salah': 'Sally sedang membaca bila saya tiba di rumahnya.',\n",
    "     'betul': 'Sally sedang membaca apabila saya tiba di rumahnya.',\n",
    "     },\n",
    "    {'class': 8,\n",
    "     'Description': 'kesalahan kata bilangan',\n",
    "     'salah': 'Beribu peniaga tidak membayar cukai pendapatan.',\n",
    "     'betul': 'Beribu-ribu peniaga tidak membayar cukai pendapatan',\n",
    "     },\n",
    "    {'class': 9,\n",
    "     'Description': 'kesalahan kata sendi',\n",
    "     'salah': 'Umar telah berpindah daripada sekolah ini bulan lalu.',\n",
    "     'betul': 'Umar telah berpindah dari sekolah ini bulan lalu.',\n",
    "     },\n",
    "    {'class': 10,\n",
    "     'Description': 'kesalahan penjodoh bilangan',\n",
    "     'salah': 'Setiap orang pelajar',\n",
    "     'betul': 'Setiap pelajar.',\n",
    "     },\n",
    "    {'class': 11,\n",
    "     'Description': 'kesalahan kata ganti diri',\n",
    "     'salah': 'Pencuri itu telah ditangkap. Beliau dibawa ke balai polis.',\n",
    "     'betul': 'Pencuri itu telah ditangkap. Dia dibawa ke balai polis.',\n",
    "     },\n",
    "    {'class': 12,\n",
    "     'Description': 'kesalahan ayat pasif',\n",
    "     'salah': 'Cerpen itu telah dikarang oleh saya.',\n",
    "     'betul': 'Cerpen itu telah saya karang.',\n",
    "     },\n",
    "    {'class': 13,\n",
    "     'Description': 'kesalahan kata tanya',\n",
    "     'salah': 'Kamu berasal dari manakah ?',\n",
    "     'betul': 'Kamu berasal dari mana ?',\n",
    "     },\n",
    "    {'class': 14,\n",
    "     'Description': 'kesalahan tanda baca',\n",
    "     'salah': 'Kamu berasal dari manakah .',\n",
    "     'betul': 'Kamu berasal dari mana ?',\n",
    "     },\n",
    "    {'class': 15,\n",
    "     'Description': 'kesalahan kata kerja tak transitif',\n",
    "     'salah': 'Dia kata kepada saya',\n",
    "     'betul': 'Dia berkata kepada saya',\n",
    "     },\n",
    "    {'class': 16,\n",
    "     'Description': 'kesalahan kata kerja transitif',\n",
    "     'salah': 'Dia suka baca buku',\n",
    "     'betul': 'Dia suka membaca buku',\n",
    "     },\n",
    "    {'class': 17,\n",
    "     'Description': 'penggunaan kata yang tidak tepat',\n",
    "     'salah': 'Tembuk Besar negeri Cina dibina oleh Shih Huang Ti.',\n",
    "     'betul': 'Tembok Besar negeri Cina dibina oleh Shih Huang Ti',\n",
    "     },\n",
    "]\n",
    "\n",
    "kesalahan = {}\n",
    "for d in describe[2:]:\n",
    "    kesalahan[d['class']] = d['Description']\n",
    "    \n",
    "len(kesalahan)"
   ]
  },
  {
   "cell_type": "code",
   "execution_count": 3,
   "id": "9908dcdd",
   "metadata": {},
   "outputs": [],
   "source": [
    "keys = set(kesalahan.keys())\n",
    "choice = {0: 'A', 1: 'B', 2: 'C', 3: 'D', 4: 'E', 5: 'F', 6: 'G'}"
   ]
  },
  {
   "cell_type": "code",
   "execution_count": 4,
   "id": "86c25779",
   "metadata": {},
   "outputs": [],
   "source": [
    "from collections import defaultdict\n",
    "from glob import glob\n",
    "from tqdm import tqdm\n",
    "import json\n",
    "import random\n",
    "\n",
    "import re\n",
    "\n",
    "# from https://huggingface.co/Qwen/QwQ-32B-Preview\n",
    "\n",
    "def fix_spacing(text):\n",
    "    # Handle double quotes: strip spaces inside quotes\n",
    "    quote_pattern = r'\"([^\"]*)\"'\n",
    "    def fix_quotes(match):\n",
    "        content = match.group(1).strip()\n",
    "        return f'\"{content}\"'\n",
    "    text = re.sub(quote_pattern, fix_quotes, text)\n",
    "    \n",
    "    # Handle parentheses: strip spaces inside parentheses\n",
    "    paren_pattern = r'\\(([^)]*)\\)'\n",
    "    def fix_parens(match):\n",
    "        content = match.group(1).strip()\n",
    "        return f'({content})'\n",
    "    text = re.sub(paren_pattern, fix_parens, text)\n",
    "    \n",
    "    # Remove spaces before standalone punctuation: ',', '.', etc.\n",
    "    punct_pattern = r'\\s+([,.!:])'\n",
    "    text = re.sub(punct_pattern, r'\\1', text)\n",
    "    \n",
    "    return text.replace(' ()', '')"
   ]
  },
  {
   "cell_type": "code",
   "execution_count": 5,
   "id": "a24ec258",
   "metadata": {
    "scrolled": true
   },
   "outputs": [],
   "source": [
    "chars = [\n",
    "    ['(', ')'],\n",
    "    ['<', '>'],\n",
    "    ['{', '}'],\n",
    "    ['[', ']'],\n",
    "    ['<<', '>>'],\n",
    "]"
   ]
  },
  {
   "cell_type": "code",
   "execution_count": 6,
   "id": "e969fb60",
   "metadata": {
    "scrolled": false
   },
   "outputs": [
    {
     "name": "stderr",
     "output_type": "stream",
     "text": [
      "497050it [00:14, 33962.97it/s]\n",
      "497079it [00:15, 33021.19it/s]\n"
     ]
    },
    {
     "data": {
      "text/plain": [
       "1464206"
      ]
     },
     "execution_count": 6,
     "metadata": {},
     "output_type": "execute_result"
    }
   ],
   "source": [
    "qa = []\n",
    "\n",
    "for f in ['tatabahasa1.jsonl', 'tatabahasa2.jsonl']:\n",
    "    with open(f) as fopen:\n",
    "        for l in tqdm(fopen):\n",
    "            l = json.loads(l)\n",
    "            \n",
    "            if len(l[0]) < 5:\n",
    "                continue\n",
    "            if len(l[0]) != len(l[1]):\n",
    "                continue\n",
    "            for i in range(len(l[1])):\n",
    "                if l[1][i][1] not in {3}:\n",
    "                    t = l[1][i][0]\n",
    "                    if l[1][i][1] == 2:\n",
    "                        if t.istitle() or t.isupper():\n",
    "                            continue\n",
    "                        if len(t) < 3:\n",
    "                            continue\n",
    "\n",
    "                        if random.random() > 0.1:\n",
    "                            continue\n",
    "\n",
    "                    if random.random() > 0.3:\n",
    "                        continue\n",
    "                        \n",
    "                    c = random.choice(chars)\n",
    "                    cl = c[0]\n",
    "                    cr = c[1]\n",
    "\n",
    "                    k = [l[1][k][0] for k in range(i)] + [f'{cl}{l[1][i][0]}{cr}'] + [l[1][k][0] for k in range(i + 1, len(l[1]), 1)]\n",
    "                    choices = random.sample(keys - {l[1][i][1]}, random.randint(2, 6)) + [l[1][i][1]]\n",
    "                    random.shuffle(choices)\n",
    "                    jawapan = [choice[no] for no, c in enumerate(choices) if c == l[1][i][1]]\n",
    "                    choices = {choice[no]: kesalahan[c] for no, c in enumerate(choices)}\n",
    "                    q = {\n",
    "                        'soalan': f'Apakah kesalahan tatabahasa untuk {cl}{l[1][i][0]}{cr}',\n",
    "                        'konteks': fix_spacing(' '.join(k)),\n",
    "                        'choice': choices,\n",
    "                        'jawapan': jawapan[0],\n",
    "                        'pembetulan': l[0][i][0]\n",
    "                    }\n",
    "                    qa.append(q)\n",
    "                \n",
    "len(qa)"
   ]
  },
  {
   "cell_type": "code",
   "execution_count": 17,
   "id": "3ae283f8",
   "metadata": {},
   "outputs": [
    {
     "data": {
      "text/plain": [
       "1464206"
      ]
     },
     "execution_count": 17,
     "metadata": {},
     "output_type": "execute_result"
    }
   ],
   "source": [
    "data = []\n",
    "\n",
    "for l in qa:\n",
    "    choice = []\n",
    "    for k, v in l['choice'].items():\n",
    "        choice.append(f'{k}. {v}')\n",
    "    choice = '\\n'.join(choice)\n",
    "    s = f\"{l['konteks']}\\n{l['soalan']}\\n{choice}\"\n",
    "    d = {\n",
    "        'prompt_input': None,\n",
    "        'input': s,\n",
    "        'output': l['jawapan'],\n",
    "    }\n",
    "    data.append(d)\n",
    "\n",
    "len(data)"
   ]
  },
  {
   "cell_type": "code",
   "execution_count": 18,
   "id": "1dc56d40",
   "metadata": {},
   "outputs": [],
   "source": [
    "import pandas as pd\n",
    "\n",
    "df = pd.DataFrame(data)\n",
    "df.to_parquet('prepared-kesalahan-tatabahasa-choice.parquet')"
   ]
  },
  {
   "cell_type": "code",
   "execution_count": 20,
   "id": "2c8edfd2",
   "metadata": {},
   "outputs": [
    {
     "data": {
      "application/vnd.jupyter.widget-view+json": {
       "model_id": "2a4e300f963741e8a98ef8088b71bf05",
       "version_major": 2,
       "version_minor": 0
      },
      "text/plain": [
       "prepared-kesalahan-tatabahasa-choice.parquet:   0%|          | 0.00/140M [00:00<?, ?B/s]"
      ]
     },
     "metadata": {},
     "output_type": "display_data"
    },
    {
     "data": {
      "text/plain": [
       "CommitInfo(commit_url='https://huggingface.co/datasets/mesolitica/kesalahan-tatabahasa-instructions/commit/39d8365d094c6691698621e0c5be1640a377896a', commit_message='Upload data/kesalahan_tatabahasa_choice-00000-of-00001.parquet with huggingface_hub', commit_description='', oid='39d8365d094c6691698621e0c5be1640a377896a', pr_url=None, pr_revision=None, pr_num=None)"
      ]
     },
     "execution_count": 20,
     "metadata": {},
     "output_type": "execute_result"
    }
   ],
   "source": [
    "from huggingface_hub import HfApi\n",
    "api = HfApi()\n",
    "\n",
    "api.upload_file(\n",
    "    path_or_fileobj=\"prepared-kesalahan-tatabahasa-choice.parquet\",\n",
    "    path_in_repo='data/kesalahan_tatabahasa_choice-00000-of-00001.parquet',\n",
    "    repo_id=\"mesolitica/kesalahan-tatabahasa-instructions\",\n",
    "    repo_type=\"dataset\",\n",
    ")"
   ]
  },
  {
   "cell_type": "code",
   "execution_count": 21,
   "id": "25d46788",
   "metadata": {},
   "outputs": [],
   "source": [
    "data = []\n",
    "\n",
    "for l in qa:\n",
    "    s = f\"{l['konteks']}\\n{l['soalan']} dan berikan jawapan yang betul\"\n",
    "    a = l['choice'][l['jawapan']]\n",
    "    if a != 'tiada kesalahan':\n",
    "        a = f\"{a}, jawapan yang betul adalah '{l['pembetulan']}'\"\n",
    "    d = {\n",
    "        'prompt_input': None,\n",
    "        'input': s,\n",
    "        'output': a,\n",
    "    }\n",
    "    data.append(d)"
   ]
  },
  {
   "cell_type": "code",
   "execution_count": 24,
   "id": "ae0202f6",
   "metadata": {},
   "outputs": [],
   "source": [
    "df = pd.DataFrame(data)\n",
    "df.to_parquet('prepared-kesalahan-tatabahasa-choice-fix.parquet')"
   ]
  },
  {
   "cell_type": "code",
   "execution_count": 26,
   "id": "e90f1fad",
   "metadata": {},
   "outputs": [
    {
     "data": {
      "text/plain": [
       "CommitInfo(commit_url='https://huggingface.co/datasets/mesolitica/kesalahan-tatabahasa-instructions/commit/89a78b26c140baf94924cead055b96203404feb1', commit_message='Upload data/kesalahan_tatabahasa_word_fix-00000-of-00001.parquet with huggingface_hub', commit_description='', oid='89a78b26c140baf94924cead055b96203404feb1', pr_url=None, pr_revision=None, pr_num=None)"
      ]
     },
     "execution_count": 26,
     "metadata": {},
     "output_type": "execute_result"
    }
   ],
   "source": [
    "api.upload_file(\n",
    "    path_or_fileobj=\"prepared-kesalahan-tatabahasa-choice-fix.parquet\",\n",
    "    path_in_repo='data/kesalahan_tatabahasa_word_fix-00000-of-00001.parquet',\n",
    "    repo_id=\"mesolitica/kesalahan-tatabahasa-instructions\",\n",
    "    repo_type=\"dataset\",\n",
    ")"
   ]
  },
  {
   "cell_type": "code",
   "execution_count": null,
   "id": "ee56404c",
   "metadata": {},
   "outputs": [],
   "source": []
  }
 ],
 "metadata": {
  "kernelspec": {
   "display_name": "Python 3 (ipykernel)",
   "language": "python",
   "name": "python3"
  },
  "language_info": {
   "codemirror_mode": {
    "name": "ipython",
    "version": 3
   },
   "file_extension": ".py",
   "mimetype": "text/x-python",
   "name": "python",
   "nbconvert_exporter": "python",
   "pygments_lexer": "ipython3",
   "version": "3.8.10"
  }
 },
 "nbformat": 4,
 "nbformat_minor": 5
}
