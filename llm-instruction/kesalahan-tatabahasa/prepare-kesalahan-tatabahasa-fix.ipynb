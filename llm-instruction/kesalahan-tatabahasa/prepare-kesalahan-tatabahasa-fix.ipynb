{
 "cells": [
  {
   "cell_type": "code",
   "execution_count": 1,
   "id": "c87535d1",
   "metadata": {},
   "outputs": [],
   "source": [
    "# !wget https://huggingface.co/datasets/mesolitica/kesalahan-tatabahasa/resolve/main/train.jsonl -O tatabahasa1.jsonl\n",
    "# !wget https://huggingface.co/datasets/mesolitica/kesalahan-tatabahasa/resolve/main/train2.jsonl -O tatabahasa2.jsonl"
   ]
  },
  {
   "cell_type": "code",
   "execution_count": 2,
   "id": "7ff64b26",
   "metadata": {},
   "outputs": [
    {
     "data": {
      "text/plain": [
       "16"
      ]
     },
     "execution_count": 2,
     "metadata": {},
     "output_type": "execute_result"
    }
   ],
   "source": [
    "describe = [\n",
    "    {'class': 0,\n",
    "     'Description': 'PAD',\n",
    "     'salah': '',\n",
    "     'betul': ''},\n",
    "    {'class': 1,\n",
    "     'Description': 'kesambungan subwords',\n",
    "     'salah': '',\n",
    "     'betul': '',\n",
    "     },\n",
    "    {'class': 2,\n",
    "     'Description': 'tiada kesalahan',\n",
    "     'salah': '',\n",
    "     'betul': '',\n",
    "     },\n",
    "    {'class': 3,\n",
    "     'Description': 'kesalahan frasa nama, Perkara yang diterangkan mesti mendahului \"penerang\"',\n",
    "     'salah': 'Cili sos',\n",
    "     'betul': 'sos cili',\n",
    "     },\n",
    "    {'class': 4,\n",
    "     'Description': 'kesalahan kata jamak',\n",
    "     'salah': 'mereka-mereka',\n",
    "     'betul': 'mereka',\n",
    "     },\n",
    "    {'class': 5,\n",
    "     'Description': 'kesalahan kata penguat',\n",
    "     'salah': 'sangat tinggi sekali',\n",
    "     'betul': 'sangat tinggi',\n",
    "     },\n",
    "    {'class': 6,\n",
    "     'Description': 'kata adjektif dan imbuhan \"ter\" tanpa penguat',\n",
    "     'salah': 'Sani mendapat markah yang tertinggi sekali.',\n",
    "     'betul': 'Sani mendapat markah yang tertinggi.',\n",
    "     },\n",
    "    {'class': 7,\n",
    "     'Description': 'kesalahan kata hubung',\n",
    "     'salah': 'Sally sedang membaca bila saya tiba di rumahnya.',\n",
    "     'betul': 'Sally sedang membaca apabila saya tiba di rumahnya.',\n",
    "     },\n",
    "    {'class': 8,\n",
    "     'Description': 'kesalahan kata bilangan',\n",
    "     'salah': 'Beribu peniaga tidak membayar cukai pendapatan.',\n",
    "     'betul': 'Beribu-ribu peniaga tidak membayar cukai pendapatan',\n",
    "     },\n",
    "    {'class': 9,\n",
    "     'Description': 'kesalahan kata sendi',\n",
    "     'salah': 'Umar telah berpindah daripada sekolah ini bulan lalu.',\n",
    "     'betul': 'Umar telah berpindah dari sekolah ini bulan lalu.',\n",
    "     },\n",
    "    {'class': 10,\n",
    "     'Description': 'kesalahan penjodoh bilangan',\n",
    "     'salah': 'Setiap orang pelajar',\n",
    "     'betul': 'Setiap pelajar.',\n",
    "     },\n",
    "    {'class': 11,\n",
    "     'Description': 'kesalahan kata ganti diri',\n",
    "     'salah': 'Pencuri itu telah ditangkap. Beliau dibawa ke balai polis.',\n",
    "     'betul': 'Pencuri itu telah ditangkap. Dia dibawa ke balai polis.',\n",
    "     },\n",
    "    {'class': 12,\n",
    "     'Description': 'kesalahan ayat pasif',\n",
    "     'salah': 'Cerpen itu telah dikarang oleh saya.',\n",
    "     'betul': 'Cerpen itu telah saya karang.',\n",
    "     },\n",
    "    {'class': 13,\n",
    "     'Description': 'kesalahan kata tanya',\n",
    "     'salah': 'Kamu berasal dari manakah ?',\n",
    "     'betul': 'Kamu berasal dari mana ?',\n",
    "     },\n",
    "    {'class': 14,\n",
    "     'Description': 'kesalahan tanda baca',\n",
    "     'salah': 'Kamu berasal dari manakah .',\n",
    "     'betul': 'Kamu berasal dari mana ?',\n",
    "     },\n",
    "    {'class': 15,\n",
    "     'Description': 'kesalahan kata kerja tak transitif',\n",
    "     'salah': 'Dia kata kepada saya',\n",
    "     'betul': 'Dia berkata kepada saya',\n",
    "     },\n",
    "    {'class': 16,\n",
    "     'Description': 'kesalahan kata kerja transitif',\n",
    "     'salah': 'Dia suka baca buku',\n",
    "     'betul': 'Dia suka membaca buku',\n",
    "     },\n",
    "    {'class': 17,\n",
    "     'Description': 'penggunaan kata yang tidak tepat',\n",
    "     'salah': 'Tembuk Besar negeri Cina dibina oleh Shih Huang Ti.',\n",
    "     'betul': 'Tembok Besar negeri Cina dibina oleh Shih Huang Ti',\n",
    "     },\n",
    "]\n",
    "\n",
    "kesalahan = {}\n",
    "for d in describe[2:]:\n",
    "    kesalahan[d['class']] = d['Description']\n",
    "    \n",
    "len(kesalahan)"
   ]
  },
  {
   "cell_type": "code",
   "execution_count": 3,
   "id": "86c25779",
   "metadata": {},
   "outputs": [],
   "source": [
    "from collections import defaultdict\n",
    "from glob import glob\n",
    "from tqdm import tqdm\n",
    "import json\n",
    "import random\n",
    "\n",
    "import re\n",
    "\n",
    "# from https://huggingface.co/Qwen/QwQ-32B-Preview\n",
    "\n",
    "def fix_spacing(text):\n",
    "    # Handle double quotes: strip spaces inside quotes\n",
    "    quote_pattern = r'\"([^\"]*)\"'\n",
    "    def fix_quotes(match):\n",
    "        content = match.group(1).strip()\n",
    "        return f'\"{content}\"'\n",
    "    text = re.sub(quote_pattern, fix_quotes, text)\n",
    "    \n",
    "    # Handle parentheses: strip spaces inside parentheses\n",
    "    paren_pattern = r'\\(([^)]*)\\)'\n",
    "    def fix_parens(match):\n",
    "        content = match.group(1).strip()\n",
    "        return f'({content})'\n",
    "    text = re.sub(paren_pattern, fix_parens, text)\n",
    "    \n",
    "    # Remove spaces before standalone punctuation: ',', '.', etc.\n",
    "    punct_pattern = r'\\s+([,.!:])'\n",
    "    text = re.sub(punct_pattern, r'\\1', text)\n",
    "    \n",
    "    return text.replace(' ()', '')"
   ]
  },
  {
   "cell_type": "code",
   "execution_count": 4,
   "id": "d9b487c2",
   "metadata": {
    "scrolled": true
   },
   "outputs": [
    {
     "name": "stderr",
     "output_type": "stream",
     "text": [
      "497050it [00:09, 53137.84it/s]\n",
      "497079it [00:09, 52601.26it/s]\n"
     ]
    },
    {
     "data": {
      "text/plain": [
       "943378"
      ]
     },
     "execution_count": 4,
     "metadata": {},
     "output_type": "execute_result"
    }
   ],
   "source": [
    "before_after = []\n",
    "for f in ['tatabahasa1.jsonl', 'tatabahasa2.jsonl']:\n",
    "    with open(f) as fopen:\n",
    "        for l in tqdm(fopen):\n",
    "            l = json.loads(l)\n",
    "            \n",
    "            if len(l[0]) < 5:\n",
    "                continue\n",
    "            if len(l[0]) != len(l[1]):\n",
    "                continue\n",
    "                \n",
    "            before = ' '.join([l_[0] for l_ in l[1]])\n",
    "            after = ' '.join([l_[0] for l_ in l[0]])\n",
    "            \n",
    "            before = fix_spacing(before)\n",
    "            after = fix_spacing(after)\n",
    "            \n",
    "            if random.random() > 0.7:\n",
    "                before = after\n",
    "                \n",
    "            before_after.append({\n",
    "                'before': before,\n",
    "                'after': after\n",
    "            })\n",
    "            \n",
    "len(before_after)"
   ]
  },
  {
   "cell_type": "code",
   "execution_count": 5,
   "id": "04cdc43e",
   "metadata": {},
   "outputs": [
    {
     "data": {
      "text/plain": [
       "85996"
      ]
     },
     "execution_count": 5,
     "metadata": {},
     "output_type": "execute_result"
    }
   ],
   "source": [
    "slides = []\n",
    "\n",
    "i = 0\n",
    "while i < len(before_after):\n",
    "    k = random.randint(2, 20)\n",
    "    slide = before_after[i: i + k]\n",
    "    slides.append(slide)\n",
    "    i += k\n",
    "    \n",
    "len(slides)"
   ]
  },
  {
   "cell_type": "code",
   "execution_count": 6,
   "id": "7d00c575",
   "metadata": {},
   "outputs": [
    {
     "data": {
      "text/plain": [
       "[{'before': 'Dirk Jan Klaas \"Klaas-Jan\" Huntelaar (lahir 12 Ogos 1983) merupakan pemain bola sepak Belanda yang main di posisi penyerang.',\n",
       "  'after': 'Dirk Jan Klaas \"Klaas-Jan\" Huntelaar (lahir 12 Ogos 1983) merupakan pemain bola sepak Belanda yang bermain di posisi penyerang.'},\n",
       " {'before': 'Beliau sekarang memainkan untuk pertubuhan Ajax ;',\n",
       "  'after': 'Beliau kini bermain untuk kelab Ajax.'},\n",
       " {'before': 'Hypo-Arena (dahulu dikenali sebagai) ialah sebuah stadium guna serba terhadap Klagenfurt, Austria.',\n",
       "  'after': 'Hypo-Arena (dahulu dikenali sebagai) ialah sebuah stadium serba guna di Klagenfurt, Austria.'},\n",
       " {'before': 'Ia merupakan stadium kuntum Austria Karnten.',\n",
       "  'after': 'Ia merupakan stadium pasukan Austria Karnten.'},\n",
       " {'before': 'Stadium lama dikenali sebagai Wortherseestadion ; dibina pada 1960 dan mempunyai kapasiti sebanyak 10,900 ;',\n",
       "  'after': 'Stadium lama dikenali sebagai Wortherseestadion, dibina pada 1960 dan mempunyai kapasiti sebanyak 10,900.'},\n",
       " {'before': 'Ia dirobohkan pada 2005 dan digantikan dengan Hypo-Arena yang baru, juga dikenali sehingga 30 Jun 2007 dengan nama \"Wortherseestadion\".',\n",
       "  'after': 'Ia dirobohkan pada 2005 dan digantikan dengan Hypo-Arena yang baru, juga dikenali sehingga 30 Jun 2007 dengan nama \"Wortherseestadion\".'},\n",
       " {'before': 'Ia adalah salah satu semenjak 8 stadium daripada UEFA Euro 2008, dan dibina untuk menampung 32,000 penonton.',\n",
       "  'after': 'Ia adalah salah satu daripada 8 stadium untuk UEFA Euro 2008, dan dibina untuk menampung 32,000 penonton.'},\n",
       " {'before': 'Selepas acara tersebut sungguh, kapasiti stadium patik sedang dipertimbangkan untuk dikurangkan kepada 12,500.',\n",
       "  'after': 'Selepas acara tersebut, kapasiti stadium ini sedang dipertimbangkan untuk dikurangkan kepada 12,500.'},\n",
       " {'before': 'Stadium ini dibuka secara rasmi kepada 7 September 2007 bak menjadi tuan rumah sejak perlawanan persahabatan akan di Austria dan Jepun di hadapan 26,500 penonton,',\n",
       "  'after': 'Stadium ini dibuka secara rasmi pada 7 September 2007 dengan menjadi tuan rumah untuk perlawanan persahabatan di antara Austria dan Jepun di hadapan 26,500 penonton.'},\n",
       " {'before': 'Marta Vieira da Silva (lahir 19 Februari 1986) yang biasanya dikenali sebagai Marta merupakan selingkar pemain bola sepak Brazil yang bermain dalam posisi penyerang untuk kelab Liga Bola Sepak Wanita Nasional! Orlando Pride dan juga pasukan bola sepak kebangsaan wanita Brazil ?',\n",
       "  'after': 'Marta Vieira da Silva (lahir 19 Februari 1986) yang biasanya dikenali sebagai Marta merupakan seorang pemain bola sepak Brazil yang bermain dalam posisi penyerang untuk kelab Liga Bola Sepak Wanita Nasional, Orlando Pride dan juga pasukan bola sepak kebangsaan wanita Brazil.'},\n",
       " {'before': 'Beliau memegang rekod sebanyak 17 gol yang dijaringkan di kejohanan Piala Dunia FIFA.',\n",
       "  'after': 'Beliau memegang rekod sebanyak 17 gol yang dijaringkan di kejohanan Piala Dunia FIFA.'},\n",
       " {'before': 'Marta juga adalah pemain bola sepak pertama dari kedua-dua jantina yang jaya menjaringkan gol dalam lima edisi Piala Dunia, dan pencapaian baginda juga telah dipadankan oleh Christine Sinclair pada tahun 2019.',\n",
       "  'after': 'Marta juga adalah pemain bola sepak pertama dari kedua-dua jantina yang berjaya menjaringkan gol dalam lima edisi Piala Dunia, dan pencapaian ini juga telah dipadankan oleh Christine Sinclair pada tahun 2019.'},\n",
       " {'before': 'Marta sering dianggap sebagai pemain wanita terhebat sepanjang masa.',\n",
       "  'after': 'Marta sering dianggap sebagai pemain wanita terhebat sepanjang masa.'},\n",
       " {'before': 'tuanku telah dinobatkan sebagai Pemain Terbaik Dunia FIFA sebanyak enam kali! lima daripadanya berturut (oleh tahun 2006 sungguhpun 2010) kecuali anugerah terbaru dimenanginya di tahun 2018 ;',\n",
       "  'after': 'Beliau telah dinobatkan sebagai Pemain Terbaik Dunia FIFA sebanyak enam kali, lima daripadanya berturut-turut (dari tahun 2006 hingga 2010) dan anugerah terbaru dimenanginya pada tahun 2018.'}]"
      ]
     },
     "execution_count": 6,
     "metadata": {},
     "output_type": "execute_result"
    }
   ],
   "source": [
    "slides[0]"
   ]
  },
  {
   "cell_type": "code",
   "execution_count": 7,
   "id": "49b6b0a8",
   "metadata": {},
   "outputs": [
    {
     "data": {
      "text/plain": [
       "943378"
      ]
     },
     "execution_count": 7,
     "metadata": {},
     "output_type": "execute_result"
    }
   ],
   "source": [
    "data = []\n",
    "\n",
    "prompts = [\n",
    "    'betulkan kesalahan tatabahasa\\n```\\n{string}\\n```',\n",
    "    '```\\n{string}\\n```\\nbetulkan kesalahan tatabahasa',\n",
    "    '```\\n{string}\\n```\\nfix the tatabahasa',\n",
    "]\n",
    "\n",
    "no_fix = [\n",
    "    'Tiada kesalahan tatabahasa untuk teks yang diberikan.',\n",
    "    '{string}\\n\\nTiada kesalahan tatabahasa untuk teks yang diberikan.'\n",
    "]\n",
    "\n",
    "for d in before_after:\n",
    "    if d['before'] == d['after']:\n",
    "        a = random.choice(no_fix).format(string = d['after'])\n",
    "    else:\n",
    "        a = d['after']\n",
    "        \n",
    "    d = {\n",
    "        'prompt_input': None,\n",
    "        'input': random.choice(prompts).format(string = d['before']),\n",
    "        'output': a,\n",
    "    }\n",
    "    data.append(d)\n",
    "    \n",
    "len(data)"
   ]
  },
  {
   "cell_type": "code",
   "execution_count": 8,
   "id": "952f46df",
   "metadata": {
    "scrolled": true
   },
   "outputs": [
    {
     "data": {
      "text/plain": [
       "{'prompt_input': None,\n",
       " 'input': '```\\nDirk Jan Klaas \"Klaas-Jan\" Huntelaar (lahir 12 Ogos 1983) merupakan pemain bola sepak Belanda yang main di posisi penyerang.\\n```\\nfix the tatabahasa',\n",
       " 'output': 'Dirk Jan Klaas \"Klaas-Jan\" Huntelaar (lahir 12 Ogos 1983) merupakan pemain bola sepak Belanda yang bermain di posisi penyerang.'}"
      ]
     },
     "execution_count": 8,
     "metadata": {},
     "output_type": "execute_result"
    }
   ],
   "source": [
    "data[0]"
   ]
  },
  {
   "cell_type": "code",
   "execution_count": 9,
   "id": "6f9d7b29",
   "metadata": {},
   "outputs": [],
   "source": [
    "import pandas as pd\n",
    "\n",
    "df = pd.DataFrame(data)\n",
    "df.to_parquet('prepared-kesalahan-tatabahasa-sentence-fix.parquet')"
   ]
  },
  {
   "cell_type": "code",
   "execution_count": 10,
   "id": "abd2a9ba",
   "metadata": {},
   "outputs": [
    {
     "data": {
      "application/vnd.jupyter.widget-view+json": {
       "model_id": "d3661e4135ee4fc7a7462aa1373d50e8",
       "version_major": 2,
       "version_minor": 0
      },
      "text/plain": [
       "prepared-kesalahan-tatabahasa-sentence-fix.parquet:   0%|          | 0.00/134M [00:00<?, ?B/s]"
      ]
     },
     "metadata": {},
     "output_type": "display_data"
    },
    {
     "data": {
      "text/plain": [
       "CommitInfo(commit_url='https://huggingface.co/datasets/mesolitica/kesalahan-tatabahasa-instructions/commit/3bfbaa64fc8db5daafa89dcae8ad1cfbe832a295', commit_message='Upload data/kesalahan_tatabahasa_sentence_fix-00000-of-00001.parquet with huggingface_hub', commit_description='', oid='3bfbaa64fc8db5daafa89dcae8ad1cfbe832a295', pr_url=None, pr_revision=None, pr_num=None)"
      ]
     },
     "execution_count": 10,
     "metadata": {},
     "output_type": "execute_result"
    }
   ],
   "source": [
    "from huggingface_hub import HfApi\n",
    "api = HfApi()\n",
    "\n",
    "api.upload_file(\n",
    "    path_or_fileobj=\"prepared-kesalahan-tatabahasa-sentence-fix.parquet\",\n",
    "    path_in_repo='data/kesalahan_tatabahasa_sentence_fix-00000-of-00001.parquet',\n",
    "    repo_id=\"mesolitica/kesalahan-tatabahasa-instructions\",\n",
    "    repo_type=\"dataset\",\n",
    ")"
   ]
  },
  {
   "cell_type": "code",
   "execution_count": 11,
   "id": "ca6bda6a",
   "metadata": {},
   "outputs": [],
   "source": [
    "data = []\n",
    "\n",
    "for s in slides:\n",
    "    before = [s_['before'] for s_ in s]\n",
    "    after = [s_['after'] for s_ in s]\n",
    "    before = ' '.join(before)\n",
    "    after = ' '.join(after)\n",
    "    \n",
    "    if before == after:\n",
    "        a = random.choice(no_fix).format(string = after)\n",
    "    else:\n",
    "        a = after\n",
    "    \n",
    "    d = {\n",
    "        'prompt_input': None,\n",
    "        'input': random.choice(prompts).format(string = before),\n",
    "        'output': a,\n",
    "    }\n",
    "    data.append(d)"
   ]
  },
  {
   "cell_type": "code",
   "execution_count": 12,
   "id": "1cc64c30",
   "metadata": {},
   "outputs": [],
   "source": [
    "df = pd.DataFrame(data)\n",
    "df.to_parquet('prepared-kesalahan-tatabahasa-slides-sentence-fix.parquet')"
   ]
  },
  {
   "cell_type": "code",
   "execution_count": 13,
   "id": "58931622",
   "metadata": {},
   "outputs": [
    {
     "data": {
      "application/vnd.jupyter.widget-view+json": {
       "model_id": "1db1aacf1a5b49b2a88335c13af2ab3e",
       "version_major": 2,
       "version_minor": 0
      },
      "text/plain": [
       "prepared-kesalahan-tatabahasa-slides-sentence-fix.parquet:   0%|          | 0.00/134M [00:00<?, ?B/s]"
      ]
     },
     "metadata": {},
     "output_type": "display_data"
    },
    {
     "data": {
      "text/plain": [
       "CommitInfo(commit_url='https://huggingface.co/datasets/mesolitica/kesalahan-tatabahasa-instructions/commit/47d75d3f033fd92b03eb03fe60afb7ed2a706552', commit_message='Upload data/kesalahan_tatabahasa_slides_sentence_fix-00000-of-00001.parquet with huggingface_hub', commit_description='', oid='47d75d3f033fd92b03eb03fe60afb7ed2a706552', pr_url=None, pr_revision=None, pr_num=None)"
      ]
     },
     "execution_count": 13,
     "metadata": {},
     "output_type": "execute_result"
    }
   ],
   "source": [
    "api.upload_file(\n",
    "    path_or_fileobj=\"prepared-kesalahan-tatabahasa-slides-sentence-fix.parquet\",\n",
    "    path_in_repo='data/kesalahan_tatabahasa_slides_sentence_fix-00000-of-00001.parquet',\n",
    "    repo_id=\"mesolitica/kesalahan-tatabahasa-instructions\",\n",
    "    repo_type=\"dataset\",\n",
    ")"
   ]
  }
 ],
 "metadata": {
  "kernelspec": {
   "display_name": "Python 3 (ipykernel)",
   "language": "python",
   "name": "python3"
  },
  "language_info": {
   "codemirror_mode": {
    "name": "ipython",
    "version": 3
   },
   "file_extension": ".py",
   "mimetype": "text/x-python",
   "name": "python",
   "nbconvert_exporter": "python",
   "pygments_lexer": "ipython3",
   "version": "3.8.10"
  }
 },
 "nbformat": 4,
 "nbformat_minor": 5
}
