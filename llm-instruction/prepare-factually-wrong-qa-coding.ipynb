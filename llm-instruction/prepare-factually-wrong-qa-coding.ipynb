{
 "cells": [
  {
   "cell_type": "code",
   "execution_count": 1,
   "id": "95bf3289",
   "metadata": {},
   "outputs": [],
   "source": [
    "from glob import glob\n",
    "from tqdm import tqdm\n",
    "import json"
   ]
  },
  {
   "cell_type": "code",
   "execution_count": 10,
   "id": "636db50b",
   "metadata": {},
   "outputs": [
    {
     "data": {
      "text/plain": [
       "'In Ruby, you cannot directly concatenate two integers using the \\'+\\' operator, as it is an arithmetic operator and will perform addition instead. However, if you want to convert the integers to strings and concatenate them, you can do so by calling the `to_s` method on the integers before using the \\'+\\' operator, like this:\\n```ruby\\nx = 5\\ny = 10\\nconcatenated = x.to_s + y.to_s\\nputs concatenated # prints \"510\"\\n```\\nIn this example, the `to_s` method is called on the integers `x` and `y`, converting them to strings. The \\'+\\' operator is then used to concatenate the two strings, resulting in a string data type with the value \"510\".'"
      ]
     },
     "execution_count": 10,
     "metadata": {},
     "output_type": "execute_result"
    }
   ],
   "source": [
    "l['answer'].strip()"
   ]
  },
  {
   "cell_type": "code",
   "execution_count": 11,
   "id": "9f4eec64",
   "metadata": {},
   "outputs": [
    {
     "name": "stderr",
     "output_type": "stream",
     "text": [
      "31253it [00:01, 27837.91it/s]\n"
     ]
    }
   ],
   "source": [
    "filtered = []\n",
    "\n",
    "with open('factually-wrong-qa-coding.jsonl') as fopen:\n",
    "    for l in tqdm(fopen):\n",
    "        l = json.loads(l)\n",
    "        \n",
    "        if len(l['answer'].split()) < 100:\n",
    "            continue\n",
    "        \n",
    "        d = f\"{l['doc']}\\n\\n{l['question']}\"\n",
    "        \n",
    "        filtered.append({\n",
    "            'prompt_input': None,\n",
    "            'input': d,\n",
    "            'output': l['answer'].strip()\n",
    "        })"
   ]
  },
  {
   "cell_type": "code",
   "execution_count": 18,
   "id": "b68debff",
   "metadata": {},
   "outputs": [
    {
     "data": {
      "text/plain": [
       "26066"
      ]
     },
     "execution_count": 18,
     "metadata": {},
     "output_type": "execute_result"
    }
   ],
   "source": [
    "len(filtered)"
   ]
  },
  {
   "cell_type": "code",
   "execution_count": 20,
   "id": "b10981e2",
   "metadata": {},
   "outputs": [
    {
     "data": {
      "text/plain": [
       "{'prompt_input': None,\n",
       " 'input': 'that demonstrates how to use palette swapping and affine transformations in TONC: ```python import tonc # Set up graphics mode tonc.set_mode(tonc.MODE_4 | tonc.BG2_ENABLE) # Load sprite image into memory sprite_image = tonc.Image(\"sprite.bmp\") # Create sprite object sprite = tonc.Sprite(sprite_image) # Set initial position of the sprite x = 0 y = 0 # Set movement speed of the sprite speed = 1 # Set initial palette of the sprite sprite.set_palette([(255, 0, 0), (0, 255, 0), (0, 0, 255)]) while True: # Update position of the sprite x += speed y += speed # Wrap around the screen if sprite goes off-screen if x > tonc.SCREEN_WIDTH: x = 0 if y > tonc.SCREEN_HEIGHT: y = 0 # Set new position of the sprite sprite.set_position(x, y) # Clear screen tonc.clear_screen() # Draw sprite on the screen sprite.draw() # Apply affine transformation to the sprite matrix = tonc.AffineMatrix().rotate(45) sprite.affine_transform(matrix) # Display the updated frame on the screen tonc.show_page() tonc.wait_vbl() ``` This code sets up the graphics mode to mode 4 with background 2 enabled. It loads a sprite image into memory and creates a sprite object. The position of the sprite is continuously updated to simulate movement. The screen is cleared, the sprite is drawn on the screen, and an affine transformation is applied to the sprite to rotate it by 45 degrees. The updated frame is displayed using double buffering. ## Exercise Experiment with different advanced graphics techniques in TONC. Try palette swapping to change the colors of a sprite or background. Try affine transformations to scale, rotate, or shear a sprite or background. Combine different techniques to create visually interesting effects. # 5. Input and Output with TONC Input and output are essential aspects of game development. Players need a way to interact with the game, and the game needs a way to provide feedback to the player. TONC provides several methods for handling user input and output in your games. One of the most common forms of user input in games is keyboard input. TONC provides the `key_pressed` method, which allows you to check if a specific key is currently being pressed. You can pass a key code to the method to check if that key is being pressed. For example, to check if the A key is being pressed, you can use the following code: ```python if tonc.key_pressed(tonc.KEY_A): # Code to execute if the A key is being pressed ``` TONC also provides methods for handling other types of input, such as button input on the Game Boy Advance console. You can use the `key_hit` method to check if a specific button is pressed, and the `key_released` method to check if a specific button is released. In addition to input, TONC provides methods for output, such as displaying text on the screen. You can use the `draw_text` method to display text at a specific position on the screen. You can pass a string and the x and y coordinates to the method to specify the text and its position. For example, to display the text \"Hello, world!\" at position (100, 100), you can use the following code: ```python tonc.draw_text(\"Hello, world!\", 100, 100) ``` TONC also provides methods for displaying graphics, such as sprites and backgrounds, on the screen. You can use the `draw_sprite` method to display a sprite at a specific position on the screen. You can pass a sprite object and the x and y coordinates to the method to specify the sprite and its position. For example, to display a sprite object called `my_sprite` at position (200, 200), you can use the following code: ```python tonc.draw_sprite(my_sprite, 200, 200) ``` These are just a few examples of the input and output methods provided by TONC. By using these methods, you can create interactive and engaging games that respond to user input and provide feedback to the player. Here\\'s an example that demonstrates how to handle user input and display output in TONC: ```python import tonc # Set up graphics mode tonc.set_mode(tonc.MODE_4 | tonc.BG2_ENABLE) # Create a sprite object sprite = tonc.Sprite(tonc.Image(\"sprite.bmp\")) while True: # Clear screen tonc.clear_screen() # Check if the A key is being pressed if tonc.key_pressed(tonc.KEY_A): # Display text on the screen tonc.draw_text(\"A key is being pressed\", 100, 100) # Check if the B button is pressed if tonc.key_hit(tonc.KEY_B): # Display sprite on the screen tonc.draw_sprite(sprite, 200, 200) # Display the updated frame on the screen tonc.show_page() tonc.wait_vbl() ``` This code sets up the graphics mode to mode 4 with background 2 enabled. It creates a sprite object from an image file. The code continuously checks if the A key is being pressed and displays text on the screen if it is. It also checks if the B button is pressed and displays the sprite on the screen if it is. The updated frame is displayed using double buffering. ## Exercise Create a game that responds to user input and provides feedback to the player. Use the input and output methods provided by TONC to handle user input and display output. Experiment with different types of input and output to create an interactive and engaging game. ### Solution None # 5.1. Managing User Input Managing user input is an important aspect of game development. In TONC, you can use various methods to handle user input and create interactive games. One common method for managing user input is using the `key_pressed` method. This method allows you to check if a specific key is currently being pressed. You can pass a key code to the method to check if that key is being pressed. For example, to check if the A key is being pressed, you can use the following code: ```python if tonc.key_pressed(tonc.KEY_A): # Code to execute if the A key is being pressed ``` TONC also provides methods for handling button input on the Game Boy Advance console. You can use the `key_hit` method to check if a specific button is pressed, and the `key_released` method to check if a specific button is released. For example, to check if the B button is pressed, you can use the following code: ```python if tonc.key_hit(tonc.KEY_B): # Code to execute if the B button is pressed ``` In addition to checking individual keys and buttons, you can also check for combinations of keys and buttons using logical operators. For example, to check if both the A and B keys are being pressed at the same time, you can use the following code: ```python if tonc.key_pressed(tonc.KEY_A) and tonc.key_pressed(tonc.KEY_B): # Code to execute if both the A and B keys are being pressed ``` By using these methods and techniques, you can create games that respond to user input and provide an interactive experience for the player. Here\\'s an example that demonstrates how to manage user input in TONC: ```python import tonc # Set up graphics mode tonc.set_mode(tonc.MODE_4 | tonc.BG2_ENABLE) while True: # Clear screen tonc.clear_screen() # Check if the A key is being pressed if tonc.key_pressed(tonc.KEY_A): # Display text on the screen tonc.draw_text(\"A key is being pressed\", 100, 100) # Check if the B button is pressed if tonc.key_hit(tonc.KEY_B): # Display text on the screen tonc.draw_text(\"B button is pressed\", 200, 200) # Check if both the A and B keys are being pressed if tonc.key_pressed(tonc.KEY_A) and tonc.key_pressed(tonc.KEY_B): # Display text on the screen tonc.draw_text(\"A and B keys are being pressed\", 300, 300) # Display the updated frame on the screen tonc.show_page() tonc.wait_vbl() ``` This code sets up the graphics mode to mode 4 with background 2 enabled. It continuously checks if the A key is being pressed and displays text on the screen if it is. It also checks if the B button is pressed and displays text on the screen if it is. Finally, it checks if both the A and B keys are being pressed and displays text on the screen if they are. ## Exercise Create a game that responds to different combinations of user input. Use the `key_pressed` and `key_hit` methods to check for specific keys and buttons being pressed. Experiment with different combinations of keys and buttons to create different gameplay mechanics. ### Solution None # 5.2. Handling Sound and Music Sound and music are important elements in game development. They help create an immersive experience for the player and enhance the overall gameplay. In TONC, you can use the sound and music capabilities of the Game Boy Advance to add audio to your games. TONC provides functions and methods for playing sound effects and music. To play a sound effect, you can use the `play_sound` function. This function takes a sound effect ID as a parameter and plays the corresponding sound effect. For example, to play a sound effect with ID 1, you can use the following code: ```python tonc.play_sound(1) ``` To play music, you can use the `play_music` function. This function takes a music ID as a parameter and plays the corresponding music. For example, to play music with ID 1, you can use the following code: ```python tonc.play_music(1) ``` You can also stop playing music by calling the `stop_music` function: ```python tonc.stop_music() ``` In addition to playing sound effects and music, you can also adjust the volume of the audio using the `set_volume` function. This function takes a volume level as a parameter and sets the volume of the audio. The volume level ranges from 0 (silent) to 100 (maximum volume). For example, to set the volume to 50%, you can use the following code: ```python tonc.set_volume(50) ``` By using these functions and techniques, you can add sound effects and music to your games and create a more engaging and immersive experience for the player. Here\\'s an example that demonstrates how to handle sound and music in TONC: ```python import tonc # Set up graphics mode tonc.set_mode(tonc.MODE_4 | tonc.BG2_ENABLE) # Load sound effects and music tonc.load_sound_effects(\"sound_effects.bin\") tonc.load_music(\"music.bin\") while True: # Clear screen tonc.clear_screen() # Check if the A key is being pressed if tonc.key_pressed(tonc.KEY_A): # Play sound effect with ID 1 tonc.play_sound(1) # Check if the B button is pressed if tonc.key_hit(tonc.KEY_B): # Play music with ID 1 tonc.play_music(1) # Display the updated frame on the screen tonc.show_page() tonc.wait_vbl() ``` This code sets up the graphics mode to mode 4 with background 2 enabled. It loads sound effects and music from binary files. It continuously checks if the A key is being pressed and plays a sound effect with ID 1 if it is. It also checks if the B button is pressed and plays music with ID 1 if it is. Finally, it displays the updated frame on the screen. ## Exercise Create a game that uses sound effects and music to enhance the gameplay. Experiment with different sound effects and music tracks to create different moods and atmospheres in your game. ### Solution None # 5.3. Saving and Loading Game Data Saving and loading game data is an important aspect of game development. It allows players to save their progress and continue playing from where they left off. In TONC, you can use the save and load functions to save and load game data. To save game data, you can use the `save` function. This function takes a file name and a data object as parameters. The data object can be any Python object that you want to save. For example, you can save the player\\'s score, level, and inventory as a dictionary: ```python data = {\\'score\\': 100, \\'level\\': 5, \\'inventory\\': [\\'sword\\', \\'shield\\']} tonc.save(\\'save_data.sav\\', data) ``` To load game data, you can use the `load` function. This function takes a file name as a parameter and returns the loaded data object. For example, you can load the saved data from the previous example like this: ```python loaded_data = tonc.load(\\'save_data.sav\\') print(loaded_data) ``` The output will be: ``` {\\'score\\': 100, \\'level\\': 5, \\'inventory\\': [\\'sword\\', \\'shield\\']} ``` By using the save and load functions, you can implement save and load functionality in your games and allow players to save their progress and continue playing at a later time. Here\\'s an example that demonstrates\\n\\nHow can you use the `set_volume` function in TONC to adjust the volume of background music, and how does it differ from the `play_sound` function?',\n",
       " 'output': 'The `set_volume` function in TONC is used to adjust the volume of background music, while the `play_sound` function is used to play sound effects.\\n\\nThe `set_volume` function takes a volume level as a parameter, which ranges from 0 (silent) to 100 (maximum volume). This function is used to adjust the volume of background music that is already playing. For example, if you want to set the volume of the background music to 50%, you can use the following code:\\n```lua\\ntonc.set_volume(50)\\n```\\nOn the other hand, the `play_sound` function is used to play sound effects, and it takes a sound effect ID as a parameter. This function is used to play short audio clips, such as gunshots, footsteps, or menu sounds. For example, if you want to play a sound effect with ID 1, you can use the following code:\\n```lua\\ntonc.play_sound(1)\\n```\\nIn summary, the `set_volume` function is used to adjust the volume of background music, while the `play_sound` function is used to play sound effects.'}"
      ]
     },
     "execution_count": 20,
     "metadata": {},
     "output_type": "execute_result"
    }
   ],
   "source": [
    "filtered[-1]"
   ]
  },
  {
   "cell_type": "code",
   "execution_count": 17,
   "id": "5366fe82",
   "metadata": {},
   "outputs": [],
   "source": [
    "with open('prepared-factually-wrong-qa-coding.jsonl', 'w') as fopen:\n",
    "    for d in filtered:\n",
    "        fopen.write(f'{json.dumps(d)}\\n')"
   ]
  }
 ],
 "metadata": {
  "kernelspec": {
   "display_name": "Python 3 (ipykernel)",
   "language": "python",
   "name": "python3"
  },
  "language_info": {
   "codemirror_mode": {
    "name": "ipython",
    "version": 3
   },
   "file_extension": ".py",
   "mimetype": "text/x-python",
   "name": "python",
   "nbconvert_exporter": "python",
   "pygments_lexer": "ipython3",
   "version": "3.8.10"
  }
 },
 "nbformat": 4,
 "nbformat_minor": 5
}
