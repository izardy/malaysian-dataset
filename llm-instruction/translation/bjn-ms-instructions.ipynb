{
 "cells": [
  {
   "cell_type": "code",
   "execution_count": 1,
   "id": "11ebb391",
   "metadata": {},
   "outputs": [
    {
     "name": "stdout",
     "output_type": "stream",
     "text": [
      "{\"left\": \"ga pegel tuh ngayuhnya\", \"chatgpt\": \"\\\"Gatal pegal tuh mengayuhnya.\\\"\", \"google\": \"\\\"Sakit untuk mengayuhnya.\\\"\"}\r\n",
      "{\"left\": \"betol ke tidak??? (ala2 datin wan abe)\", \"chatgpt\": \"\\\"Benar atau tidak??? (seperti Datin Wan Abe)\\\"\", \"google\": \"\\\"Betul ke tidak??? (macam Datin Wan Abe)\\\"\"}\r\n",
      "{\"left\": \"Michael Jordan dukung masyarakat Amerika lawan rasialisme\", \"chatgpt\": \"Michael Jordan menyokong masyarakat Amerika dalam melawan rasisme.\", \"google\": \"Michael Jordan menyokong rakyat Amerika dalam memerangi perkauman.\"}\r\n"
     ]
    }
   ],
   "source": [
    "!head -n 3 process-bjn-Latn.jsonl"
   ]
  },
  {
   "cell_type": "code",
   "execution_count": 2,
   "id": "4d8ef368",
   "metadata": {},
   "outputs": [],
   "source": [
    "template = [\n",
    "    'teks: {teks}\\nterjemah ke standard malay',\n",
    "    'teks: {teks}\\nterjemah ke melayu baku',\n",
    "    '`{teks}` terjemah ke malay',\n",
    "    'terjemah ke bahasa melayu `{teks}`',\n",
    "]"
   ]
  },
  {
   "cell_type": "code",
   "execution_count": 5,
   "id": "fd765e79",
   "metadata": {},
   "outputs": [],
   "source": [
    "import json\n",
    "import random\n",
    "\n",
    "with open('bjn-ms-instructions.jsonl', 'w') as fopen_l:\n",
    "    with open('process-bjn-Latn.jsonl') as fopen:\n",
    "        for l in fopen:\n",
    "            l = json.loads(l)\n",
    "            left = random.choice(template).format(teks = l['left'])\n",
    "            d = {\n",
    "                'prompt_input': None,\n",
    "                'input': left,\n",
    "                'output': l['google']\n",
    "            }\n",
    "            fopen_l.write(f'{json.dumps(d)}\\n')\n",
    "            fopen_l.flush()"
   ]
  },
  {
   "cell_type": "code",
   "execution_count": 7,
   "id": "90bb1caa",
   "metadata": {},
   "outputs": [
    {
     "name": "stderr",
     "output_type": "stream",
     "text": [
      "/home/husein/.local/lib/python3.8/site-packages/requests/__init__.py:102: RequestsDependencyWarning: urllib3 (1.26.15) or chardet (5.2.0)/charset_normalizer (2.0.7) doesn't match a supported version!\n",
      "  warnings.warn(\"urllib3 ({}) or chardet ({})/charset_normalizer ({}) doesn't match a supported \"\n"
     ]
    },
    {
     "data": {
      "application/vnd.jupyter.widget-view+json": {
       "model_id": "5657ca13e54146eca90e36a7ffad063b",
       "version_major": 2,
       "version_minor": 0
      },
      "text/plain": [
       "bjn-ms-instructions.jsonl:   0%|          | 0.00/257M [00:00<?, ?B/s]"
      ]
     },
     "metadata": {},
     "output_type": "display_data"
    },
    {
     "data": {
      "text/plain": [
       "'https://huggingface.co/datasets/mesolitica/noisy-standard-malay-translation-instructions/blob/main/bjn-ms-instructions.jsonl'"
      ]
     },
     "execution_count": 7,
     "metadata": {},
     "output_type": "execute_result"
    }
   ],
   "source": [
    "from huggingface_hub import HfApi\n",
    "api = HfApi()\n",
    "api.upload_file(\n",
    "    path_or_fileobj='bjn-ms-instructions.jsonl',\n",
    "    path_in_repo='bjn-ms-instructions.jsonl',\n",
    "    repo_id='mesolitica/noisy-standard-malay-translation-instructions',\n",
    "    repo_type='dataset',\n",
    ")"
   ]
  },
  {
   "cell_type": "code",
   "execution_count": null,
   "id": "13618da9",
   "metadata": {},
   "outputs": [],
   "source": []
  }
 ],
 "metadata": {
  "kernelspec": {
   "display_name": "Python 3 (ipykernel)",
   "language": "python",
   "name": "python3"
  },
  "language_info": {
   "codemirror_mode": {
    "name": "ipython",
    "version": 3
   },
   "file_extension": ".py",
   "mimetype": "text/x-python",
   "name": "python",
   "nbconvert_exporter": "python",
   "pygments_lexer": "ipython3",
   "version": "3.8.10"
  }
 },
 "nbformat": 4,
 "nbformat_minor": 5
}
