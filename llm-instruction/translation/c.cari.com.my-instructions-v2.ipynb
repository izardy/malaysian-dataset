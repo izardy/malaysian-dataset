{
 "cells": [
  {
   "cell_type": "code",
   "execution_count": 1,
   "id": "9b1ddbc0",
   "metadata": {},
   "outputs": [
    {
     "name": "stdout",
     "output_type": "stream",
     "text": [
      "{\"left\": \"\\u600e\\u4e48\\u53ea\\u6709\\u5728\\u69df\\u5c9b\\u554a\\u3002\\u3002\\u3002\\u5f88\\u4e0d\\u65b9\\u4fbf\\u3002\\u3002\\u3002\", \"en\": \"Why is it only available in Penang... It's very inconvenient...\", \"ms\": \"Mengapa hanya ada di Pulau Pinang... Ia sangat tidak memudahkan...\"}\r\n",
      "{\"left\": \"mild seven\\u6362\\u540d\\u4e86\\uff0cmevius\", \"en\": \"Mild Seven has been renamed to Mevius\", \"ms\": \"Mild Seven telah ditukar nama kepada Mevius\"}\r\n",
      "{\"left\": \"\\u8d62\\u4e86\\u5168\\u90e8\\u6362\\u56de\\u56fd\\u9635\\u56de\\u5deb\\u6876.LPPL\", \"en\": \"Won all back to national team LPPL\", \"ms\": \"Menang semua kembali ke skuad kebangsaan LPPL\"}\r\n"
     ]
    }
   ],
   "source": [
    "!head -n 3 process-c.cari.com.my.jsonl"
   ]
  },
  {
   "cell_type": "code",
   "execution_count": 2,
   "id": "b38083c7",
   "metadata": {},
   "outputs": [],
   "source": [
    "template = [\n",
    "    'teks: {teks}\\nterjemah ke standard malay',\n",
    "    'teks: {teks}\\nterjemah ke melayu baku',\n",
    "    '`{teks}` terjemah ke malay',\n",
    "    'terjemah ke bahasa melayu `{teks}`',\n",
    "    '`{teks}` terjemah ke malay dan english, bagi dalam JSON',\n",
    "    \"`{teks}` terjemah ke malay dan english, bagi dalam JSON {{'standard_en', 'standard_ms'}}\",\n",
    "]"
   ]
  },
  {
   "cell_type": "code",
   "execution_count": 3,
   "id": "b896b1b7",
   "metadata": {},
   "outputs": [],
   "source": [
    "import json\n",
    "import random\n",
    "\n",
    "with open('c.cari.com.my-instructions-v2.jsonl', 'w') as fopen_l:\n",
    "    with open('process-c.cari.com.my.jsonl') as fopen:\n",
    "        for l in fopen:\n",
    "            l = json.loads(l)\n",
    "            if 'ms' not in l:\n",
    "                continue\n",
    "            if l['ms'] is None:\n",
    "                continue\n",
    "            left = random.choice(template).format(teks = l['left'])\n",
    "            if 'JSON' in left and 'standard_en' in left:\n",
    "                right = {\n",
    "                    'standard_en': l['en'],\n",
    "                    'standard_ms': l['ms']\n",
    "                }\n",
    "                right = json.dumps(right)\n",
    "            elif 'JSON' in left:\n",
    "                right = {\n",
    "                    'en': l['en'],\n",
    "                    'ms': l['ms']\n",
    "                }\n",
    "                right = json.dumps(right)\n",
    "            else:\n",
    "                right = l['ms']\n",
    "            d = {\n",
    "                'prompt_input': None,\n",
    "                'input': left,\n",
    "                'output': right\n",
    "            }\n",
    "            fopen_l.write(f'{json.dumps(d)}\\n')\n",
    "            fopen_l.flush()"
   ]
  },
  {
   "cell_type": "code",
   "execution_count": 5,
   "id": "13fb1341",
   "metadata": {},
   "outputs": [
    {
     "name": "stdout",
     "output_type": "stream",
     "text": [
      "{\"prompt_input\": null, \"input\": \"`\\u600e\\u4e48\\u53ea\\u6709\\u5728\\u69df\\u5c9b\\u554a\\u3002\\u3002\\u3002\\u5f88\\u4e0d\\u65b9\\u4fbf\\u3002\\u3002\\u3002` terjemah ke malay\", \"output\": \"Mengapa hanya ada di Pulau Pinang... Ia sangat tidak memudahkan...\"}\r\n",
      "{\"prompt_input\": null, \"input\": \"`mild seven\\u6362\\u540d\\u4e86\\uff0cmevius` terjemah ke malay\", \"output\": \"Mild Seven telah ditukar nama kepada Mevius\"}\r\n",
      "{\"prompt_input\": null, \"input\": \"`\\u8d62\\u4e86\\u5168\\u90e8\\u6362\\u56de\\u56fd\\u9635\\u56de\\u5deb\\u6876.LPPL` terjemah ke malay dan english, bagi dalam JSON\", \"output\": \"{\\\"en\\\": \\\"Won all back to national team LPPL\\\", \\\"ms\\\": \\\"Menang semua kembali ke skuad kebangsaan LPPL\\\"}\"}\r\n",
      "{\"prompt_input\": null, \"input\": \"`\\u6211\\u8a8d\\u8bc6\\u7684\\u4e00\\u4e2a\\u8001\\u95c6\\uff0c\\u4ed6\\u505a\\u5c0f\\u578b\\u5370\\u5237\\u4e1a\\u7684\\uff0c\\u4ed6\\u672c\\u8eab\\u958b\\u4e86\\u4e09\\u95f4\\u81ea\\u52a8\\u6d17\\u8863\\u5e97\\uff0c\\u4ed6\\u8fdb\\u7684\\u662f\\u7f8e\\u56fd\\u673a\\uff0c\\u6bcf\\u95f4\\u6210\\u672c\\u4ecb\\u4e8e RM400K~RM450K\\uff0c\\u73b0\\u94b1\\u4e70\\u673a\\uff0c\\u6ca1\\u6709\\u8d37\\u6b3e\\uff0c\\u5e97\\u94fa\\u662f\\u79df\\u7684\\uff0c\\u6708\\u8425\\u4e1a\\u989d\\u5927\\u6982RM30\\u591a\\u5343\\u5de6\\u53f3\\u3002\\r\\n\\u95ee\\u8fc7\\u4ed6\\u503c\\u5f97\\u6295\\u8d44\\u5417\\uff1f\\u4ed6\\u8bf4\\u81ea\\u5df1\\u7684\\u673a\\u5668\\u6ca1\\u6709\\u8d37\\u6b3e\\uff0c\\u4e24\\u5e74\\u5c31\\u56de\\u672c\\u4e86\\u3002\\r\\n\\u987a\\u4fbf\\u4e00\\u63d0\\uff0c\\u4ed6\\u662f\\u4e00\\u95f4\\uff0c\\u4e00\\u95f4\\u958b\\u7684\\uff0c\\u4e0d\\u662f\\u4e00\\u6b21\\u6027\\u958b\\u4e09\\u95f4\\u3002` terjemah ke malay dan english, bagi dalam JSON\", \"output\": \"{\\\"en\\\": \\\"I know an old boss who runs a small printing business. He has opened three self-service laundry shops, each with an American machine, costing between RM400K to RM450K. He paid cash for the machines without taking a loan, and the shops are rented. The monthly revenue is around RM30,000. When I asked him if it's worth investing, he said that since his machines are fully paid, he can recover the cost in two years.\\\", \\\"ms\\\": \\\"Saya kenal seorang bos lama yang menjalankan perniagaan cetakan kecil. Beliau telah membuka tiga buah kedai dobi layan diri, setiap satu dengan mesin Amerika, menelan belanja antara RM400K hingga RM450K. Beliau membayar tunai untuk mesin-mesin tersebut tanpa mengambil pinjaman, dan kedai-kedai tersebut disewa. Hasil jualan bulanan adalah sekitar RM30,000. Ketika saya bertanya kepadanya sama ada ia patut dilaburkan, beliau berkata bahwa sejak mesin-mesinya telah dibayar penuh, beliau dapat mengembalikan kos dalam dua tahun.\\\"}\"}\r\n",
      "{\"prompt_input\": null, \"input\": \"teks: \\u7f8e\\u56fd\\u548c\\u897f\\u65b9\\u56fd\\u5bb6\\u6253\\u7b97\\u8981\\u957f\\u671f\\u73a9\\u6d88\\u8017\\u6218\\r\\n\\u5bf9 \\u666e\\u4e01/\\u666e\\u4eac\\u653f\\u6743 \\u9020\\u6210\\u4f24\\u5bb3\\u4e4b\\u5916\\r\\n\\u4fc4\\u7f57\\u65af\\u56fd\\u529b\\u5927\\u635f\\n\\nzyJ9_R-1IbE\\n\\r\\n\\u65ad\\u7ae0\\u53d6\\u4e49\\uff1f\\u8bf7\\u9605\\u8bfb\\u5b8c\\u6574\\u7248 48\\uff1a15\\uff1ahttps://youtu.be/Ji3IbslURT4\\nterjemah ke melayu baku\", \"output\": \"Amerika Syarikat dan negara-negara Barat merancang untuk terlibat dalam perang penghapuskan jangka panjang bagi mencederakan pemerintahan Putin, menyebabkan kerosakan besar bagi kuasa nasional Rusia.\"}\r\n",
      "{\"prompt_input\": null, \"input\": \"`\\u76ce\\u771f\\u79d1\\u7814\\u4ee3\\u5199 \\u53d1\\u8868\\u4e8e 16-12-2021 12:16 AM\\r\\n\\u8981\\u807d\\u8bdd \\u522b\\u518d\\u6500\\u5ca9\\u722c\\u5899\\u58c1\\r\\n\\u7237\\u7237\\u77e5\\u9053\\u4e86 \\u53c8\\u8981\\u6000\\u5ff5\\u4f60\\n\\u771f\\u6076\\u5fc3\\u7684\\u9a6c\\u6765\\u4ed4\\uff01\\u8fd9\\u4e9b\\u9a6c\\u6765\\u4ed4\\u5728\\u81ea\\u5df2\\u56fd\\u5bb6\\u8fd8\\u88ab\\u5f53\\u4e8c\\u7b49\\u516c\\u6c11\\uff0c\\u5374\\u6709\\u8138\\u6574\\u5929\\u6307\\u70b9\\u4ed6\\u4eba\\uff0c\\u771f\\u591f\\u6076\\u5fc3\\u7684\\uff01` terjemah ke malay dan english, bagi dalam JSON {'standard_en', 'standard_ms'}\", \"output\": \"{\\\"standard_en\\\": \\\"Listen up, stop climbing over walls. Grandfather knew, and now he misses you. Those freaking Malaysians! They're treated as second-class citizens in their own country, yet they have the nerve to lecture others all day, it's really disgusting!\\\", \\\"standard_ms\\\": \\\"Dengarlah, berhenti mendaki tembok. Datuk nenek tahu, dan kini rindu akan kamu. Melayuuddenly amat menjijikkan! Mereka dianggap sebagai warga kelas dua di negara sendiri, namun mereka masih berani mengajar orang lain sepanjang hari, amat menjijikkan!\\\"}\"}\r\n",
      "{\"prompt_input\": null, \"input\": \"`\\u62ab\\u72fc\\u76aede\\u7f8a \\u53d1\\u8868\\u4e8e 23-2-2015 11:03 AM\\n\\u4f60\\u662f\\u6709\\u6743\\u6307\\u51fa\\u4e0d\\u662f\\u4e4b\\u5904\\u7684\\u3002\\u3002\\u3002\\n\\u4e00\\u628a\\u5e74\\u7eaa\\u4e86\\u8fd8\\u8981\\u7ed9\\u4eba\\u8bf4\\u4f60\\u54a9\\uff0c\\u4f60\\u4e0d\\u89c9\\u5f97\\u4e11\\uff0c\\u6211\\u90fd\\u4e0d\\u597d\\u610f\\u601d\\u8bf4\\u4f60\\uff0c\\u8c26\\u865a\\u5c11\\u5c11\\uff0c\\u8bf4\\u8bdd\\u5ba2\\u6c14\\u70b9\\uff0c\\u4f1a\\u53ef\\u7231\\u5f88\\u591a\\uff0c\\u5475\\u5475` terjemah ke malay\", \"output\": {\"initial\": \"\\u62ab\\u72fc\\u76aede\\u7f8a\", \"text\": \"Anda mempunyai hak untuk menunjukkan apa yang tidak betul... Saya malu berkata ini kepada anda, anda tidak muda lagi, tapi anda masih ingin orang memuji anda, tidakkah anda merasa malu? Saya merasa malu berkata ini kepada anda, jadilah sedikit lebih rendah hati, berbicaralah dengan lebih sopan, itu lebih menyenangkan, haha.\"}}\r\n",
      "{\"prompt_input\": null, \"input\": \"teks: \\u5f39\\u716e \\u53d1\\u8868\\u4e8e 23-5-2016 05:20 PM\\r\\n\\u5927\\u591a\\u6570\\u8f66\\u5382\\u7684\\u5927\\u6876\\u90fd\\u662fCastrol EPX 80W90\\u7684\\u3002\\r\\n\\u4e0a\\u9762\\u4f60\\u8bf4\\u4e7055\\u5757\\u662f\\u591a\\u5c11L\\uff1f\\u6709\\u56fe\\u7247\\u5417\\uff1f\\nEPX\\u00a0\\u00a080W90\\u4e0d\\u662f\\u90fd\\u662fGL-4 ?\\n\\n\\r\\nGL-5 \\u6709\\u4e9b\\u5e97\\u6c92\\u8ce3\\nterjemah ke standard malay\", \"output\": \"Majoriti kilang pengeluaran kereta besar adalah Castrol EPX 80W90. Anda katakan membeli 55 blok adalah berapa liter? Adakah anda memiliki gambar? EPX 80W90 bukan semua GL-4? Beberapa kedai tidak menjual GL-5.\"}\r\n",
      "{\"prompt_input\": null, \"input\": \"`\\u662f\\u4e0d\\u662f\\u4f60\\u5bf9\\u4ed6\\u6ca1\\u6709\\u4fe1\\u5fc3\\uff1f\\uff1f\\uff1f\\uff1f\\r\\n\\u662f\\u4e0d\\u662f\\u4f60\\u5bf9\\u4f60\\u4eec\\u7684\\u5a5a\\u59fb\\u6ca1\\u6709\\u628a\\u63e1\\uff1f\\uff1f\\uff1f\\uff1f\\r\\n\\u662f\\u4e0d\\u662f\\u4f60\\u89c9\\u5f97\\u4ed6\\u7ed9\\u4e0d\\u4e86\\u4f60\\u5b89\\u5168\\u611f\\uff1f\\uff1f\\uff1f\\uff1f\\n\\n\\r\\n\\u4e0d\\uff0c\\u4ed6\\u5e94\\u8be5\\u5766\\u767d\\u544a\\u8bc9\\u4f60\\u3002\\u3002\\u3002\\r\\n\\u4e24\\u4e2a\\u4eba\\u5728\\u4e00\\u8d77\\u4e0d\\u662f\\u4e00\\u4e24\\u5e74\\uff0c\\u800c\\u662f\\u5230\\u8001\\u3002\\u3002\\u3002\\u3002\\r\\n \\u6240\\u4ee5\\uff0c\\u4e00\\u5b9a\\u8981\\u5766\\u767d\\u3002\\u3002\\u3002\\u3002\\u4fe1\\u4efb\\u3002\\u3002\\u3002\\r\\n\\u6c9f\\u901a\\u4e5f\\u5f88\\u91cd\\u8981\\u3002\\u3002\\u3002\\r\\n\\u544a\\u8bc9\\u4ed6\\u4f60\\u7684\\u60f3\\u6cd5\\u3002\\u3002\\u3002\\u544a\\u8bc9\\u4ed6\\u4f60\\u7684\\u5fe7\\u8651\\u3002\\u3002\\u3002\\u3002\\u544a\\u8bc9\\u4ed6\\u4f60\\u7684\\u4e0d\\u5b89\\u3002\\u3002\\u3002\\u3002` terjemah ke malay\", \"output\": \"Adakah itu kerana anda tidak mempunyai keyakinan terhadapnya? Adakah itu kerana anda tidak yakin tentang perkahwinan anda? Adakah itu kerana anda rasa dia tidak dapat memberikan rasa keselamatan? Tidak, dia seharusnya jujur dengan anda. Dua orang bersama-sama bukan hanya untuk satu atau dua tahun, tetapi seumur hidup. Jadi, kejujuran adalah mustahak. Kepercayaan juga sangat penting. Komunikasi juga amat mustahak. Beritahu dia pemikiran anda, beritahu dia kebimbangan anda, beritahu dia kegelisahan anda.\"}\r\n",
      "{\"prompt_input\": null, \"input\": \"terjemah ke bahasa melayu `\\u5728\\u8fd8\\u6ca1\\u6709\\u63a5\\u89e6\\u5230\\u5916\\u6c47\\u4e4b\\u524d\\uff0c\\u6211\\u4e00\\u76f4\\u4e0d\\u6562\\u8e0f\\u51fa\\u81ea\\u5df1\\u7684\\u7b2c\\u4e00\\u6b65\\u3002\\r\\n\\u6216\\u8bb8\\u8bf4\\uff0c\\u6211\\u4e0d\\u77e5\\u9053\\u5982\\u4f55\\u8e0f\\u51fa\\u90a3\\u4e00\\u6b65\\u3002\\r\\n\\u76f4\\u5230\\u6211\\u8ba4\\u8bc6\\u4e86\\u4e00\\u4e2a\\u591a\\u5e74\\u7ecf\\u9a8c\\u7684\\u5916\\u6c47trader\\uff0c\\u548c\\u4ed6\\u5b66\\u4e60\\u4e86\\u4e4b\\u540e\\uff0c\\u73b0\\u5728\\u4e5f\\u53ef\\u4ee5\\u81ea\\u5df1\\u5f00\\u59cb\\u81ea\\u5df1\\u7684\\u5916\\u6c47\\u64cd\\u4f5c\\u4e86\\u3002\\r\\n\\u975e\\u5e38\\u611f\\u8c22\\u4ed6\\u7684\\u6559\\u5bfc\\u3002\\n\\r\\n\\u73b0\\u5728\\uff0c\\u6211\\u8981\\u5728\\u8fd9\\u91cc\\u505a\\u6211\\u5916\\u6c47\\u7684\\u8bb0\\u5f55\\uff0c\\u5206\\u4eab\\u6211\\u7684\\u5fc3\\u5f97\\u70b9\\u6ef4\\u3002\\n\\r\\npost demo\\u7248\\u7684\\u6218\\u7ee9\\u5427\\uff5e\\uff5e   sshot-2014-01-22-[08-55-45].jpg (79.83 KB, \\u4e0b\\u8f7d\\u6b21\\u6570: 11)\\n\\n\\u4e0b\\u8f7d\\u9644\\u4ef6\\n\\n\\u00a0\\u4fdd\\u5b58\\u5230\\u76f8\\u518c\\n\\n22-1-2014 09:09 AM \\u4e0a\\u4f20   \\u6211\\u5b8c\\u5168\\u628ademo\\u7248\\u5f53\\u4f5c\\u73b0\\u5b9e\\u7248\\u6765\\u64cd\\u4f5c\\u3002\\u6ce8\\u610f\\uff1a\\u90a3\\u4e2a1.00\\u7684lot size\\u662f\\u4e0d\\u7b97\\u7684\\u3002\\u6211\\u662f\\u4e13\\u6ce8\\u5728\\u8d5apips\\u548c\\u64cd\\u4f5c\\u3002\\n\\n\\n\\n \\u672c\\u5e16\\u6700\\u540e\\u7531 \\u5e78\\u798f\\u5c0f\\u5a03 \\u4e8e 8-11-2014 10:17 AM \\u7f16\\u8f91`\", \"output\": \"Sebelum saya berhubung dengan pertukaran asing, saya tidak berani mengambil langkah pertama saya. Mungkin saya tidak tahu bagaimana mengambil langkah itu. Sehingga saya berkenalan dengan trader pertukaran asing yang berpengalaman dan belajar dari dia, kini saya dapat memulakan operasi pertukaran asing saya sendiri. Saya sangat berterima kasih atas bimbingannya. Sekarang, saya ingin membuat rekod operasi pertukaran asing saya di sini dan berkongsi pengalaman saya. Poskan kejayaan demo versi! Saya menganggap versi demo sebagai perkara sebenar dan fokus pada membuat pips dan operasi.\"}\r\n"
     ]
    }
   ],
   "source": [
    "!head -n 10 c.cari.com.my-instructions-v2.jsonl"
   ]
  },
  {
   "cell_type": "code",
   "execution_count": 6,
   "id": "fd4fe03a",
   "metadata": {},
   "outputs": [
    {
     "data": {
      "application/vnd.jupyter.widget-view+json": {
       "model_id": "dc5f32c4775447b38f9ae8fd7ea4465e",
       "version_major": 2,
       "version_minor": 0
      },
      "text/plain": [
       "c.cari.com.my-instructions-v2.jsonl:   0%|          | 0.00/234M [00:00<?, ?B/s]"
      ]
     },
     "metadata": {},
     "output_type": "display_data"
    },
    {
     "data": {
      "text/plain": [
       "CommitInfo(commit_url='https://huggingface.co/datasets/mesolitica/noisy-standard-malay-translation-instructions/commit/a647fece09b1fd0389b0d4977fb35c41544b7d5b', commit_message='Upload c.cari.com.my-instructions-v2.jsonl with huggingface_hub', commit_description='', oid='a647fece09b1fd0389b0d4977fb35c41544b7d5b', pr_url=None, pr_revision=None, pr_num=None)"
      ]
     },
     "execution_count": 6,
     "metadata": {},
     "output_type": "execute_result"
    }
   ],
   "source": [
    "from huggingface_hub import HfApi\n",
    "api = HfApi()\n",
    "api.upload_file(\n",
    "    path_or_fileobj='c.cari.com.my-instructions-v2.jsonl',\n",
    "    path_in_repo='c.cari.com.my-instructions-v2.jsonl',\n",
    "    repo_id='mesolitica/noisy-standard-malay-translation-instructions',\n",
    "    repo_type='dataset',\n",
    ")"
   ]
  }
 ],
 "metadata": {
  "kernelspec": {
   "display_name": "Python 3 (ipykernel)",
   "language": "python",
   "name": "python3"
  },
  "language_info": {
   "codemirror_mode": {
    "name": "ipython",
    "version": 3
   },
   "file_extension": ".py",
   "mimetype": "text/x-python",
   "name": "python",
   "nbconvert_exporter": "python",
   "pygments_lexer": "ipython3",
   "version": "3.8.10"
  }
 },
 "nbformat": 4,
 "nbformat_minor": 5
}
