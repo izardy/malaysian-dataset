{
 "cells": [
  {
   "cell_type": "code",
   "execution_count": 1,
   "id": "46ce532e",
   "metadata": {},
   "outputs": [],
   "source": [
    "from glob import glob\n",
    "import json"
   ]
  },
  {
   "cell_type": "code",
   "execution_count": 8,
   "id": "ec7b7235",
   "metadata": {
    "scrolled": true
   },
   "outputs": [
    {
     "data": {
      "text/plain": [
       "['/home/husein/ssd3/google-translate-malay-news/malay-news.txt19.splitted.requested',\n",
       " '/home/husein/ssd3/google-translate-malay-news/malay-news.txt09.splitted.requested',\n",
       " '/home/husein/ssd3/google-translate-malay-news/malay-news.txt12.splitted.requested',\n",
       " '/home/husein/ssd3/google-translate-malay-news/malay-news.txt02.splitted.requested',\n",
       " '/home/husein/ssd3/google-translate-malay-news/malay-news.txt14.splitted.requested',\n",
       " '/home/husein/ssd3/google-translate-malay-news/malay-news.txt11.splitted.requested',\n",
       " '/home/husein/ssd3/google-translate-malay-news/malay-news.txt18.splitted.requested',\n",
       " '/home/husein/ssd3/google-translate-malay-news/malay-news.txt03.splitted.requested',\n",
       " '/home/husein/ssd3/google-translate-malay-news/malay-news.txt21.splitted.requested',\n",
       " '/home/husein/ssd3/google-translate-malay-news/malay-news.txt00.splitted.requested',\n",
       " '/home/husein/ssd3/google-translate-malay-news/malay-news.txt07.splitted.requested',\n",
       " '/home/husein/ssd3/google-translate-malay-news/malay-news.txt20.splitted.requested',\n",
       " '/home/husein/ssd3/google-translate-malay-news/malay-news.txt06.splitted.requested',\n",
       " '/home/husein/ssd3/google-translate-malay-news/malay-news.txt01.splitted.requested',\n",
       " '/home/husein/ssd3/google-translate-malay-news/malay-news.txt08.splitted.requested',\n",
       " '/home/husein/ssd3/google-translate-malay-news/malay-news.txt17.splitted.requested',\n",
       " '/home/husein/ssd3/google-translate-malay-news/malay-news.txt10.splitted.requested',\n",
       " '/home/husein/ssd3/google-translate-malay-news/malay-news.txt05.splitted.requested',\n",
       " '/home/husein/ssd3/google-translate-malay-news/malay-news.txt13.splitted.requested',\n",
       " '/home/husein/ssd3/google-translate-malay-news/malay-news.txt04.splitted.requested',\n",
       " '/home/husein/ssd3/google-translate-malay-news/malay-news.txt16.splitted.requested',\n",
       " '/home/husein/ssd3/google-translate-malay-news/malay-news.txt15.splitted.requested']"
      ]
     },
     "execution_count": 8,
     "metadata": {},
     "output_type": "execute_result"
    }
   ],
   "source": [
    "files = glob('/home/husein/ssd3/google-translate-malay-news/*.requested')\n",
    "files"
   ]
  },
  {
   "cell_type": "code",
   "execution_count": 9,
   "id": "1cc36583",
   "metadata": {},
   "outputs": [],
   "source": [
    "template = [\n",
    "    'teks: {teks}\\nterjemah ke standard malay',\n",
    "    'teks: {teks}\\nterjemah ke melayu baku',\n",
    "    '`{teks}` terjemah ke malay',\n",
    "    'terjemah ke bahasa melayu `{teks}`',\n",
    "]"
   ]
  },
  {
   "cell_type": "code",
   "execution_count": 12,
   "id": "0e6ea5c9",
   "metadata": {},
   "outputs": [],
   "source": [
    "import json\n",
    "import random\n",
    "\n",
    "with open('malay-news-ms-instructions.jsonl', 'w') as fopen_l:\n",
    "    for f in files:\n",
    "        with open(f) as fopen:\n",
    "            for l in fopen:\n",
    "                try:\n",
    "                    l = json.loads(l)\n",
    "                except:\n",
    "                    continue\n",
    "                ms = l['src']\n",
    "                r = l['r']['result']\n",
    "                if not len(ms):\n",
    "                    continue\n",
    "                if not len(r):\n",
    "                    continue\n",
    "                left = random.choice(template).format(teks = r)\n",
    "                d = {\n",
    "                    'prompt_input': None,\n",
    "                    'input': left,\n",
    "                    'output': ms\n",
    "                }\n",
    "                fopen_l.write(f'{json.dumps(d)}\\n')\n",
    "                fopen_l.flush()"
   ]
  },
  {
   "cell_type": "code",
   "execution_count": 20,
   "id": "46a83148",
   "metadata": {},
   "outputs": [
    {
     "name": "stderr",
     "output_type": "stream",
     "text": [
      "/home/husein/.local/lib/python3.8/site-packages/requests/__init__.py:102: RequestsDependencyWarning: urllib3 (1.26.15) or chardet (5.2.0)/charset_normalizer (2.0.7) doesn't match a supported version!\n",
      "  warnings.warn(\"urllib3 ({}) or chardet ({})/charset_normalizer ({}) doesn't match a supported \"\n"
     ]
    },
    {
     "data": {
      "application/vnd.jupyter.widget-view+json": {
       "model_id": "b61e5956ec7a437ca1052e553f6d5e64",
       "version_major": 2,
       "version_minor": 0
      },
      "text/plain": [
       "malay-news-ms-instructions.jsonl:   0%|          | 0.00/762M [00:00<?, ?B/s]"
      ]
     },
     "metadata": {},
     "output_type": "display_data"
    },
    {
     "data": {
      "text/plain": [
       "'https://huggingface.co/datasets/mesolitica/standard-malay-translation-instructions/blob/main/malay-news-ms-instructions.jsonl'"
      ]
     },
     "execution_count": 20,
     "metadata": {},
     "output_type": "execute_result"
    }
   ],
   "source": [
    "from huggingface_hub import HfApi\n",
    "api = HfApi()\n",
    "api.upload_file(\n",
    "    path_or_fileobj='malay-news-ms-instructions.jsonl',\n",
    "    path_in_repo='malay-news-ms-instructions.jsonl',\n",
    "    repo_id='mesolitica/standard-malay-translation-instructions',\n",
    "    repo_type='dataset',\n",
    ")"
   ]
  },
  {
   "cell_type": "code",
   "execution_count": null,
   "id": "d12b603e",
   "metadata": {},
   "outputs": [],
   "source": []
  }
 ],
 "metadata": {
  "kernelspec": {
   "display_name": "Python 3 (ipykernel)",
   "language": "python",
   "name": "python3"
  },
  "language_info": {
   "codemirror_mode": {
    "name": "ipython",
    "version": 3
   },
   "file_extension": ".py",
   "mimetype": "text/x-python",
   "name": "python",
   "nbconvert_exporter": "python",
   "pygments_lexer": "ipython3",
   "version": "3.8.10"
  }
 },
 "nbformat": 4,
 "nbformat_minor": 5
}
