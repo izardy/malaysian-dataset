{
 "cells": [
  {
   "cell_type": "code",
   "execution_count": 1,
   "id": "9b1ddbc0",
   "metadata": {},
   "outputs": [
    {
     "name": "stdout",
     "output_type": "stream",
     "text": [
      "{\"left\": \"Kalau UMNOBN berkuasa, petrol tentu tidak dah subsidi. .. .\", \"en\": \"If UMNOBN is in power, there will definitely be no petrol subsidy...\", \"ms\": \"Jika UMNOBN berkuasa, pasti tidak akan ada subsidi petrol...\"}\r\n",
      "{\"left\": \"150 kerusi esok! pastikan kita menang!\", \"en\": \"150 chairs tomorrow! Make sure we win!\", \"ms\": \"150 kerusi esok! Pastikan kita menang!\"}\r\n",
      "{\"left\": \"Sharer Abdul Hamid\", \"en\": \"Sharer Abdul Hamid\", \"ms\": \"Pembagi Abdul Hamid\"}\r\n"
     ]
    }
   ],
   "source": [
    "!head -n 3 processed-facebook.jsonl"
   ]
  },
  {
   "cell_type": "code",
   "execution_count": 2,
   "id": "b38083c7",
   "metadata": {},
   "outputs": [],
   "source": [
    "template = [\n",
    "    'teks: {teks}\\nterjemah ke standard malay',\n",
    "    'teks: {teks}\\nterjemah ke melayu baku',\n",
    "    '`{teks}` terjemah ke malay',\n",
    "    'terjemah ke bahasa melayu `{teks}`',\n",
    "    '`{teks}` terjemah ke malay dan english, bagi dalam JSON',\n",
    "]"
   ]
  },
  {
   "cell_type": "code",
   "execution_count": 3,
   "id": "b896b1b7",
   "metadata": {},
   "outputs": [],
   "source": [
    "import json\n",
    "import random\n",
    "\n",
    "with open('facebook-instructions.jsonl', 'w') as fopen_l:\n",
    "    with open('processed-facebook.jsonl') as fopen:\n",
    "        for l in fopen:\n",
    "            l = json.loads(l)\n",
    "            if 'ms' not in l:\n",
    "                continue\n",
    "            if l['ms'] is None:\n",
    "                continue\n",
    "            left = random.choice(template).format(teks = l['left'])\n",
    "            if 'JSON' in left:\n",
    "                right = {\n",
    "                    'en': l['en'],\n",
    "                    'ms': l['ms']\n",
    "                }\n",
    "                right = json.dumps(right)\n",
    "            else:\n",
    "                right = l['ms']\n",
    "            d = {\n",
    "                'prompt_input': None,\n",
    "                'input': left,\n",
    "                'output': right\n",
    "            }\n",
    "            fopen_l.write(f'{json.dumps(d)}\\n')\n",
    "            fopen_l.flush()"
   ]
  },
  {
   "cell_type": "code",
   "execution_count": 4,
   "id": "e95911fb",
   "metadata": {},
   "outputs": [
    {
     "name": "stdout",
     "output_type": "stream",
     "text": [
      "{\"prompt_input\": null, \"input\": \"teks: Kalau UMNOBN berkuasa, petrol tentu tidak dah subsidi. .. .\\nterjemah ke standard malay\", \"output\": \"Jika UMNOBN berkuasa, pasti tidak akan ada subsidi petrol...\"}\r\n",
      "{\"prompt_input\": null, \"input\": \"`150 kerusi esok! pastikan kita menang!` terjemah ke malay\", \"output\": \"150 kerusi esok! Pastikan kita menang!\"}\r\n",
      "{\"prompt_input\": null, \"input\": \"terjemah ke bahasa melayu `Sharer Abdul Hamid`\", \"output\": \"Pembagi Abdul Hamid\"}\r\n"
     ]
    }
   ],
   "source": [
    "!head -n 3 facebook-instructions.jsonl"
   ]
  },
  {
   "cell_type": "code",
   "execution_count": 5,
   "id": "fd4fe03a",
   "metadata": {},
   "outputs": [
    {
     "name": "stderr",
     "output_type": "stream",
     "text": [
      "/home/husein/.local/lib/python3.8/site-packages/requests/__init__.py:102: RequestsDependencyWarning: urllib3 (1.26.15) or chardet (5.2.0)/charset_normalizer (2.0.7) doesn't match a supported version!\n",
      "  warnings.warn(\"urllib3 ({}) or chardet ({})/charset_normalizer ({}) doesn't match a supported \"\n"
     ]
    },
    {
     "data": {
      "application/vnd.jupyter.widget-view+json": {
       "model_id": "3c842e9cf0964ae993d13eb30598b6cd",
       "version_major": 2,
       "version_minor": 0
      },
      "text/plain": [
       "facebook-instructions.jsonl:   0%|          | 0.00/32.5M [00:00<?, ?B/s]"
      ]
     },
     "metadata": {},
     "output_type": "display_data"
    },
    {
     "data": {
      "text/plain": [
       "'https://huggingface.co/datasets/mesolitica/noisy-standard-malay-translation-instructions/blob/main/facebook-instructions.jsonl'"
      ]
     },
     "execution_count": 5,
     "metadata": {},
     "output_type": "execute_result"
    }
   ],
   "source": [
    "from huggingface_hub import HfApi\n",
    "api = HfApi()\n",
    "api.upload_file(\n",
    "    path_or_fileobj='facebook-instructions.jsonl',\n",
    "    path_in_repo='facebook-instructions.jsonl',\n",
    "    repo_id='mesolitica/noisy-standard-malay-translation-instructions',\n",
    "    repo_type='dataset',\n",
    ")"
   ]
  }
 ],
 "metadata": {
  "kernelspec": {
   "display_name": "Python 3 (ipykernel)",
   "language": "python",
   "name": "python3"
  },
  "language_info": {
   "codemirror_mode": {
    "name": "ipython",
    "version": 3
   },
   "file_extension": ".py",
   "mimetype": "text/x-python",
   "name": "python",
   "nbconvert_exporter": "python",
   "pygments_lexer": "ipython3",
   "version": "3.8.10"
  }
 },
 "nbformat": 4,
 "nbformat_minor": 5
}
