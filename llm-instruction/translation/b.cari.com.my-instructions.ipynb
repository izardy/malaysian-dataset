{
 "cells": [
  {
   "cell_type": "code",
   "execution_count": 3,
   "id": "9b1ddbc0",
   "metadata": {},
   "outputs": [
    {
     "name": "stdout",
     "output_type": "stream",
     "text": [
      "{\"left\": \"bagusla mawi bagi peluang kat junior2 dia yang berbakat tak kira lelaki atau perempuan untuk tonjolkan bakat, bila appear dgn mawi ada la orang tertarik nak ambik lagi\", \"en\": \"It's good that Mawi gives opportunities to talented juniors regardless of gender to showcase their talents. When they appear with Mawi, there are people who are interested in taking them on again.\", \"ms\": \"Baguslah Mawi memberi peluang kepada junior-junior yang berbakat tanpa mengira jantina untuk menonjolkan bakat mereka. Apabila mereka muncul bersama Mawi, terdapat orang yang berminat untuk mengambil mereka lagi.\"}\r\n",
      "{\"left\": \"jd guru sebenarnya susah..bebanan tugasan guru sebenarnya anda belum rasa..semasa pratikal..tugas guru bukan stengah hari tp rasanya lebih 24 jm.. betul kata org tua anda guru memang susah naik pangkat..\", \"en\": \"Being a real teacher is actually difficult.. You haven't felt the burden of a real teacher's duties.. During practical training.. A teacher's job is not just half a day but feels like more than 24 hours.. Your elders were right, it's difficult for teachers to get promoted..\", \"ms\": \"Menjadi seorang guru sebenarnya sukar.. Anda belum merasai beban tugasan seorang guru sebenar.. Semasa latihan praktikal.. Tugas seorang guru bukanlah setengah hari tetapi terasa lebih dari 24 jam.. Benar kata orang tua anda, susah untuk guru naik pangkat..\"}\r\n",
      "{\"left\": \"macam nie pon ada kaa..\", \"en\": \"Is it like this also?\", \"ms\": \"Macam ni pun ada ke?\"}\r\n"
     ]
    }
   ],
   "source": [
    "!head -n 3 processed-b.cari.com.my.jsonl"
   ]
  },
  {
   "cell_type": "code",
   "execution_count": 4,
   "id": "b38083c7",
   "metadata": {},
   "outputs": [],
   "source": [
    "template = [\n",
    "    'teks: {teks}\\nterjemah ke standard malay',\n",
    "    'teks: {teks}\\nterjemah ke melayu baku',\n",
    "    '`{teks}` terjemah ke malay',\n",
    "    'terjemah ke bahasa melayu `{teks}`',\n",
    "    '`{teks}` terjemah ke malay dan english, bagi dalam JSON',\n",
    "]"
   ]
  },
  {
   "cell_type": "code",
   "execution_count": 5,
   "id": "b896b1b7",
   "metadata": {},
   "outputs": [],
   "source": [
    "import json\n",
    "import random\n",
    "\n",
    "with open('b.cari.com.my-instructions.jsonl', 'w') as fopen_l:\n",
    "    with open('processed-b.cari.com.my.jsonl') as fopen:\n",
    "        for l in fopen:\n",
    "            l = json.loads(l)\n",
    "            if 'ms' not in l:\n",
    "                continue\n",
    "            if l['ms'] is None:\n",
    "                continue\n",
    "            left = random.choice(template).format(teks = l['left'])\n",
    "            if 'JSON' in left:\n",
    "                right = {\n",
    "                    'en': l['en'],\n",
    "                    'ms': l['ms']\n",
    "                }\n",
    "                right = json.dumps(right)\n",
    "            else:\n",
    "                right = l['ms']\n",
    "            d = {\n",
    "                'prompt_input': None,\n",
    "                'input': left,\n",
    "                'output': right\n",
    "            }\n",
    "            fopen_l.write(f'{json.dumps(d)}\\n')\n",
    "            fopen_l.flush()"
   ]
  },
  {
   "cell_type": "code",
   "execution_count": 6,
   "id": "e95911fb",
   "metadata": {},
   "outputs": [
    {
     "name": "stdout",
     "output_type": "stream",
     "text": [
      "{\"prompt_input\": null, \"input\": \"teks: bagusla mawi bagi peluang kat junior2 dia yang berbakat tak kira lelaki atau perempuan untuk tonjolkan bakat, bila appear dgn mawi ada la orang tertarik nak ambik lagi\\nterjemah ke melayu baku\", \"output\": \"Baguslah Mawi memberi peluang kepada junior-junior yang berbakat tanpa mengira jantina untuk menonjolkan bakat mereka. Apabila mereka muncul bersama Mawi, terdapat orang yang berminat untuk mengambil mereka lagi.\"}\r\n",
      "{\"prompt_input\": null, \"input\": \"terjemah ke bahasa melayu `jd guru sebenarnya susah..bebanan tugasan guru sebenarnya anda belum rasa..semasa pratikal..tugas guru bukan stengah hari tp rasanya lebih 24 jm.. betul kata org tua anda guru memang susah naik pangkat..`\", \"output\": \"Menjadi seorang guru sebenarnya sukar.. Anda belum merasai beban tugasan seorang guru sebenar.. Semasa latihan praktikal.. Tugas seorang guru bukanlah setengah hari tetapi terasa lebih dari 24 jam.. Benar kata orang tua anda, susah untuk guru naik pangkat..\"}\r\n",
      "{\"prompt_input\": null, \"input\": \"teks: macam nie pon ada kaa..\\nterjemah ke melayu baku\", \"output\": \"Macam ni pun ada ke?\"}\r\n"
     ]
    }
   ],
   "source": [
    "!head -n 3 b.cari.com.my-instructions.jsonl"
   ]
  },
  {
   "cell_type": "code",
   "execution_count": 7,
   "id": "fd4fe03a",
   "metadata": {},
   "outputs": [
    {
     "name": "stderr",
     "output_type": "stream",
     "text": [
      "/home/husein/.local/lib/python3.8/site-packages/requests/__init__.py:102: RequestsDependencyWarning: urllib3 (1.26.15) or chardet (5.2.0)/charset_normalizer (2.0.7) doesn't match a supported version!\n",
      "  warnings.warn(\"urllib3 ({}) or chardet ({})/charset_normalizer ({}) doesn't match a supported \"\n"
     ]
    },
    {
     "data": {
      "application/vnd.jupyter.widget-view+json": {
       "model_id": "40521a401eda49998c5ba37108f8d9da",
       "version_major": 2,
       "version_minor": 0
      },
      "text/plain": [
       "b.cari.com.my-instructions.jsonl:   0%|          | 0.00/306M [00:00<?, ?B/s]"
      ]
     },
     "metadata": {},
     "output_type": "display_data"
    },
    {
     "data": {
      "text/plain": [
       "'https://huggingface.co/datasets/mesolitica/noisy-standard-malay-translation-instructions/blob/main/b.cari.com.my-instructions.jsonl'"
      ]
     },
     "execution_count": 7,
     "metadata": {},
     "output_type": "execute_result"
    }
   ],
   "source": [
    "from huggingface_hub import HfApi\n",
    "api = HfApi()\n",
    "api.upload_file(\n",
    "    path_or_fileobj='b.cari.com.my-instructions.jsonl',\n",
    "    path_in_repo='b.cari.com.my-instructions.jsonl',\n",
    "    repo_id='mesolitica/noisy-standard-malay-translation-instructions',\n",
    "    repo_type='dataset',\n",
    ")"
   ]
  },
  {
   "cell_type": "code",
   "execution_count": null,
   "id": "16cf381e",
   "metadata": {},
   "outputs": [],
   "source": []
  }
 ],
 "metadata": {
  "kernelspec": {
   "display_name": "Python 3 (ipykernel)",
   "language": "python",
   "name": "python3"
  },
  "language_info": {
   "codemirror_mode": {
    "name": "ipython",
    "version": 3
   },
   "file_extension": ".py",
   "mimetype": "text/x-python",
   "name": "python",
   "nbconvert_exporter": "python",
   "pygments_lexer": "ipython3",
   "version": "3.8.10"
  }
 },
 "nbformat": 4,
 "nbformat_minor": 5
}
