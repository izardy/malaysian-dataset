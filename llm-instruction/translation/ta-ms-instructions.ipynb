{
 "cells": [
  {
   "cell_type": "code",
   "execution_count": 1,
   "id": "46ce532e",
   "metadata": {},
   "outputs": [],
   "source": [
    "from glob import glob\n",
    "import json"
   ]
  },
  {
   "cell_type": "code",
   "execution_count": 2,
   "id": "ec7b7235",
   "metadata": {
    "scrolled": true
   },
   "outputs": [
    {
     "data": {
      "text/plain": [
       "['/home/husein/ssd3/google-translate-ms-ta/ms.txt04.splitted.ta.requested',\n",
       " '/home/husein/ssd3/google-translate-ms-ta/ms.txt01.splitted.ta.requested',\n",
       " '/home/husein/ssd3/google-translate-ms-ta/ms.txt03.splitted.ta.requested',\n",
       " '/home/husein/ssd3/google-translate-ms-ta/ms.txt02.splitted.ta.requested',\n",
       " '/home/husein/ssd3/google-translate-ms-ta/ms.txt05.splitted.ta.requested',\n",
       " '/home/husein/ssd3/google-translate-ms-ta/ms.txt00.splitted.ta.requested',\n",
       " '/home/husein/ssd3/google-translate-ms-ta/ms.txt07.splitted.ta.requested',\n",
       " '/home/husein/ssd3/google-translate-ms-ta/ms.txt06.splitted.ta.requested']"
      ]
     },
     "execution_count": 2,
     "metadata": {},
     "output_type": "execute_result"
    }
   ],
   "source": [
    "files = glob('/home/husein/ssd3/google-translate-ms-ta/*.requested')\n",
    "files"
   ]
  },
  {
   "cell_type": "code",
   "execution_count": 3,
   "id": "1cc36583",
   "metadata": {},
   "outputs": [],
   "source": [
    "template = [\n",
    "    'teks: {teks}\\nterjemah ke standard malay',\n",
    "    'teks: {teks}\\nterjemah ke melayu baku',\n",
    "    '`{teks}` terjemah ke malay',\n",
    "    'terjemah ke bahasa melayu `{teks}`',\n",
    "]"
   ]
  },
  {
   "cell_type": "code",
   "execution_count": 4,
   "id": "0e6ea5c9",
   "metadata": {},
   "outputs": [],
   "source": [
    "import json\n",
    "import random\n",
    "\n",
    "with open('ta-ms-instructions.jsonl', 'w') as fopen_l:\n",
    "    for f in files:\n",
    "        with open(f) as fopen:\n",
    "            for l in fopen:\n",
    "                try:\n",
    "                    l = json.loads(l)\n",
    "                except:\n",
    "                    continue\n",
    "                ms = l['src']\n",
    "                r = l['r']['result']\n",
    "                if not len(ms):\n",
    "                    continue\n",
    "                if not len(r):\n",
    "                    continue\n",
    "                left = random.choice(template).format(teks = r)\n",
    "                d = {\n",
    "                    'prompt_input': None,\n",
    "                    'input': left,\n",
    "                    'output': ms\n",
    "                }\n",
    "                fopen_l.write(f'{json.dumps(d)}\\n')\n",
    "                fopen_l.flush()"
   ]
  },
  {
   "cell_type": "code",
   "execution_count": 6,
   "id": "80cf601c",
   "metadata": {},
   "outputs": [
    {
     "name": "stdout",
     "output_type": "stream",
     "text": [
      "{\"prompt_input\": null, \"input\": \"terjemah ke bahasa melayu `\\u0ba4\\u0ba9\\u0bbf\\u0baa\\u0bcd \\u0baa\\u0ba4\\u0bbf\\u0bb5\\u0bc1\\u0b95\\u0bb3\\u0bc8 \\u0bae\\u0bc7\\u0bb1\\u0bcd\\u0b95\\u0bca\\u0bb3\\u0bcd\\u0bb5\\u0ba4\\u0bc8\\u0ba4\\u0bcd \\u0ba4\\u0bb5\\u0bbf\\u0bb0, \\u0bb7\\u0bb0\\u0bbf\\u0b83\\u0baa\\u0bbe \\u0ba8\\u0bc2\\u0bb0\\u0bcd \\u0bae\\u0bb1\\u0bcd\\u0bb1\\u0bca\\u0bb0\\u0bc1 \\u0bb9\\u0bbf\\u0ba8\\u0bcd\\u0ba4\\u0bc1\\u0bb8\\u0bcd\\u0ba4\\u0bbe\\u0ba9\\u0bbf \\u0bb0\\u0bbf\\u0ba4\\u0bae\\u0bcd \\u0baa\\u0bbe\\u0b9f\\u0b95\\u0bb0\\u0bbe\\u0ba9 \\u0bb9\\u0bc1\\u0b9a\\u0bc8\\u0ba9\\u0bcd \\u0bae\\u0bb0\\u0bbf\\u0b95\\u0bcd\\u0b95\\u0ba9\\u0bc1\\u0b9f\\u0ba9\\u0bcd \\u0b9f\\u0bc2\\u0baf\\u0b9f\\u0bcd \\u0baa\\u0ba4\\u0bbf\\u0bb5\\u0bc1\\u0b95\\u0bb3\\u0bc8\\u0baf\\u0bc1\\u0bae\\u0bcd \\u0b9a\\u0bc6\\u0baf\\u0bcd\\u0b95\\u0bbf\\u0bb1\\u0bbe\\u0bb0\\u0bcd, \\u0b85\\u0bb5\\u0bb0\\u0bcd \\u0baa\\u0bbf\\u0bb0\\u0bae\\u0bcd\\u0bae\\u0b9a\\u0bcd\\u0b9a\\u0bbe\\u0bb0\\u0bbf \\u0b87\\u0b9a\\u0bc8\\u0b95\\u0bcd\\u0b95\\u0bc1\\u0bb4\\u0bc1\\u0bb5\\u0bbf\\u0ba9\\u0bcd \\u0ba4\\u0bb2\\u0bc8\\u0bb5\\u0bb0\\u0bbe\\u0b95\\u0bb5\\u0bc1\\u0bae\\u0bcd \\u0b87\\u0bb0\\u0bc1\\u0b95\\u0bcd\\u0b95\\u0bbf\\u0bb1\\u0bbe\\u0bb0\\u0bcd.`\", \"output\": \"Selain membaut rakaman solo, Sharifah Noor juga kerap membuat rakaman duet dengan seorang lagi penyanyi irama Hindustan iaitu Hussein Marican, yang juga merupakan pemimpin Orkes Brahmachari.\"}\r\n",
      "{\"prompt_input\": null, \"input\": \"terjemah ke bahasa melayu `\\u0b95\\u0b9f\\u0ba8\\u0bcd\\u0ba4 \\u0b95\\u0bbe\\u0bb2\\u0b99\\u0bcd\\u0b95\\u0bb3\\u0bbf\\u0bb2\\u0bcd \\u0bb5\\u0bb4\\u0b99\\u0bcd\\u0b95\\u0baa\\u0bcd\\u0baa\\u0b9f\\u0bcd\\u0b9f \\u0b85\\u0ba9\\u0bc8\\u0ba4\\u0bcd\\u0ba4\\u0bc1 \\u0ba4\\u0bc7\\u0bb0\\u0bcd\\u0ba4\\u0bb2\\u0bcd \\u0bb5\\u0bbe\\u0b95\\u0bcd\\u0b95\\u0bc1\\u0bb1\\u0bc1\\u0ba4\\u0bbf\\u0b95\\u0bb3\\u0bc8\\u0baf\\u0bc1\\u0bae\\u0bcd \\u0ba8\\u0bbf\\u0bb1\\u0bc8\\u0bb5\\u0bc7\\u0bb1\\u0bcd\\u0bb1\\u0bbe\\u0ba4\\u0ba4\\u0bb1\\u0bcd\\u0b95\\u0bc1 \\u0b8e\\u0ba8\\u0bcd\\u0ba4 \\u0b95\\u0bbe\\u0bb0\\u0ba3\\u0bae\\u0bc1\\u0bae\\u0bcd \\u0b87\\u0bb0\\u0bc1\\u0b95\\u0bcd\\u0b95 \\u0bae\\u0bc1\\u0b9f\\u0bbf\\u0baf\\u0bbe\\u0ba4\\u0bc1.`\", \"output\": \"Tidak boleh wujud sebarang alasan untuk tidak memenuhi segala janji pilihan raya yang telah diberikan pada masa lalu.\"}\r\n",
      "{\"prompt_input\": null, \"input\": \"terjemah ke bahasa melayu `\\u0b9a\\u0bbf\\u0bae\\u0bbe\\u0b99\\u0bcd\\u0b95\\u0bc1 \\u0ba4\\u0bc1\\u0ba3\\u0bc8 \\u0bae\\u0bbe\\u0bb5\\u0b9f\\u0bcd\\u0b9f\\u0ba4\\u0bcd\\u0ba4\\u0bbf\\u0bb2\\u0bcd 12 \\u0b95\\u0bbf\\u0bb0\\u0bbe\\u0bae\\u0b99\\u0bcd\\u0b95\\u0bb3\\u0bcd \\u0b89\\u0bb3\\u0bcd\\u0bb3\\u0ba9.`\", \"output\": \"Terdapat 12 buah desa di dalam daerah kecamatan Cimanggu.\"}\r\n"
     ]
    }
   ],
   "source": [
    "!head -n 3 ta-ms-instructions.jsonl"
   ]
  },
  {
   "cell_type": "code",
   "execution_count": 7,
   "id": "46a83148",
   "metadata": {},
   "outputs": [
    {
     "name": "stderr",
     "output_type": "stream",
     "text": [
      "/home/husein/.local/lib/python3.8/site-packages/requests/__init__.py:102: RequestsDependencyWarning: urllib3 (1.26.15) or chardet (5.2.0)/charset_normalizer (2.0.7) doesn't match a supported version!\n",
      "  warnings.warn(\"urllib3 ({}) or chardet ({})/charset_normalizer ({}) doesn't match a supported \"\n"
     ]
    },
    {
     "data": {
      "application/vnd.jupyter.widget-view+json": {
       "model_id": "6e6664f1e486400f91e36c19db70fbd4",
       "version_major": 2,
       "version_minor": 0
      },
      "text/plain": [
       "ta-ms-instructions.jsonl:   0%|          | 0.00/727M [00:00<?, ?B/s]"
      ]
     },
     "metadata": {},
     "output_type": "display_data"
    },
    {
     "data": {
      "text/plain": [
       "'https://huggingface.co/datasets/mesolitica/standard-malay-translation-instructions/blob/main/ta-ms-instructions.jsonl'"
      ]
     },
     "execution_count": 7,
     "metadata": {},
     "output_type": "execute_result"
    }
   ],
   "source": [
    "from huggingface_hub import HfApi\n",
    "api = HfApi()\n",
    "api.upload_file(\n",
    "    path_or_fileobj='ta-ms-instructions.jsonl',\n",
    "    path_in_repo='ta-ms-instructions.jsonl',\n",
    "    repo_id='mesolitica/standard-malay-translation-instructions',\n",
    "    repo_type='dataset',\n",
    ")"
   ]
  },
  {
   "cell_type": "code",
   "execution_count": null,
   "id": "c2db181d",
   "metadata": {},
   "outputs": [],
   "source": []
  }
 ],
 "metadata": {
  "kernelspec": {
   "display_name": "Python 3 (ipykernel)",
   "language": "python",
   "name": "python3"
  },
  "language_info": {
   "codemirror_mode": {
    "name": "ipython",
    "version": 3
   },
   "file_extension": ".py",
   "mimetype": "text/x-python",
   "name": "python",
   "nbconvert_exporter": "python",
   "pygments_lexer": "ipython3",
   "version": "3.8.10"
  }
 },
 "nbformat": 4,
 "nbformat_minor": 5
}
