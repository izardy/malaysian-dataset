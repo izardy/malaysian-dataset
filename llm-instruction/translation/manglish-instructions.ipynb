{
 "cells": [
  {
   "cell_type": "code",
   "execution_count": 1,
   "id": "9b1ddbc0",
   "metadata": {},
   "outputs": [
    {
     "name": "stdout",
     "output_type": "stream",
     "text": [
      "{\"left\": \"early say mah\", \"en\": \"Say it early\", \"ms\": \"Katakan awal\"}\r\n",
      "{\"left\": \"then she very fortunate lor\", \"en\": \"Then she is very fortunate indeed\", \"ms\": \"Maka dia sangat bertuah betul\"}\r\n",
      "{\"left\": \"these toys are not cheap hor\", \"en\": \"These toys are not inexpensive.\", \"ms\": \"Mainan-mainan ini tidak murah.\"}\r\n"
     ]
    }
   ],
   "source": [
    "!head -n 3 process-manglish.jsonl"
   ]
  },
  {
   "cell_type": "code",
   "execution_count": 4,
   "id": "b38083c7",
   "metadata": {},
   "outputs": [],
   "source": [
    "template = [\n",
    "    'teks: {teks}\\nterjemah ke standard malay',\n",
    "    'teks: {teks}\\nterjemah ke melayu baku',\n",
    "    '`{teks}` terjemah ke malay',\n",
    "    'terjemah ke bahasa melayu `{teks}`',\n",
    "    '`{teks}` terjemah ke malay dan english, bagi dalam JSON',\n",
    "    \"`{teks}` terjemah ke malay dan english, bagi dalam JSON {{'standard_en', 'standard_ms'}}\",\n",
    "]"
   ]
  },
  {
   "cell_type": "code",
   "execution_count": 10,
   "id": "b896b1b7",
   "metadata": {},
   "outputs": [],
   "source": [
    "import json\n",
    "import random\n",
    "\n",
    "with open('manglish-instructions.jsonl', 'w') as fopen_l:\n",
    "    with open('process-manglish.jsonl') as fopen:\n",
    "        for l in fopen:\n",
    "            l = json.loads(l)\n",
    "            if 'ms' not in l:\n",
    "                continue\n",
    "            if l['ms'] is None:\n",
    "                continue\n",
    "            left = random.choice(template).format(teks = l['left'])\n",
    "            if 'JSON' in left and 'standard_en' in left:\n",
    "                right = {\n",
    "                    'standard_en': l['en'],\n",
    "                    'standard_ms': l['ms']\n",
    "                }\n",
    "                right = json.dumps(right)\n",
    "            elif 'JSON' in left:\n",
    "                right = {\n",
    "                    'en': l['en'],\n",
    "                    'ms': l['ms']\n",
    "                }\n",
    "                right = json.dumps(right)\n",
    "            else:\n",
    "                right = l['ms']\n",
    "            d = {\n",
    "                'prompt_input': None,\n",
    "                'input': left,\n",
    "                'output': right\n",
    "            }\n",
    "            fopen_l.write(f'{json.dumps(d)}\\n')\n",
    "            fopen_l.flush()"
   ]
  },
  {
   "cell_type": "code",
   "execution_count": 11,
   "id": "13fb1341",
   "metadata": {},
   "outputs": [
    {
     "name": "stdout",
     "output_type": "stream",
     "text": [
      "{\"prompt_input\": null, \"input\": \"`early say mah` terjemah ke malay dan english, bagi dalam JSON {'standard_en', 'standard_ms'}\", \"output\": \"{\\\"standard_en\\\": \\\"Say it early\\\", \\\"standard_ms\\\": \\\"Katakan awal\\\"}\"}\r\n",
      "{\"prompt_input\": null, \"input\": \"teks: then she very fortunate lor\\nterjemah ke melayu baku\", \"output\": \"Maka dia sangat bertuah betul\"}\r\n",
      "{\"prompt_input\": null, \"input\": \"`these toys are not cheap hor` terjemah ke malay dan english, bagi dalam JSON {'standard_en', 'standard_ms'}\", \"output\": \"{\\\"standard_en\\\": \\\"These toys are not inexpensive.\\\", \\\"standard_ms\\\": \\\"Mainan-mainan ini tidak murah.\\\"}\"}\r\n",
      "{\"prompt_input\": null, \"input\": \"terjemah ke bahasa melayu `aiyo drive there lah`\", \"output\": \"Ayuh, pandu ke sana lah.\"}\r\n",
      "{\"prompt_input\": null, \"input\": \"`stupid lah i mean` terjemah ke malay\", \"output\": \"Bodoh lah maksud saya.\"}\r\n",
      "{\"prompt_input\": null, \"input\": \"`tu lan liao ah` terjemah ke malay dan english, bagi dalam JSON {'standard_en', 'standard_ms'}\", \"output\": \"{\\\"standard_en\\\": \\\"Are you done yet?\\\", \\\"standard_ms\\\": \\\"Sudah siapkah kamu?\\\"}\"}\r\n",
      "{\"prompt_input\": null, \"input\": \"terjemah ke bahasa melayu `ya sia cb`\", \"output\": \"Ya, tuan.\"}\r\n",
      "{\"prompt_input\": null, \"input\": \"teks: not shrink meh\\nterjemah ke standard malay\", \"output\": \"Jangan menyusutkan saya\"}\r\n",
      "{\"prompt_input\": null, \"input\": \"`u should know him lah` terjemah ke malay dan english, bagi dalam JSON\", \"output\": \"{\\\"en\\\": \\\"You should know him, you know.\\\", \\\"ms\\\": \\\"Kamu patut kenal dia lah.\\\"}\"}\r\n",
      "{\"prompt_input\": null, \"input\": \"terjemah ke bahasa melayu `kena makan months`\", \"output\": \"Kena makan selama berbulan-bulan\"}\r\n"
     ]
    }
   ],
   "source": [
    "!head -n 10 manglish-instructions.jsonl"
   ]
  },
  {
   "cell_type": "code",
   "execution_count": 12,
   "id": "fd4fe03a",
   "metadata": {},
   "outputs": [
    {
     "data": {
      "application/vnd.jupyter.widget-view+json": {
       "model_id": "d2061bc548b44d2b9e13f0aaf07ff4a6",
       "version_major": 2,
       "version_minor": 0
      },
      "text/plain": [
       "manglish-instructions.jsonl:   0%|          | 0.00/336M [00:00<?, ?B/s]"
      ]
     },
     "metadata": {},
     "output_type": "display_data"
    },
    {
     "data": {
      "text/plain": [
       "CommitInfo(commit_url='https://huggingface.co/datasets/mesolitica/noisy-standard-malay-translation-instructions/commit/a0aca71586a801e7005082a21491463da9065562', commit_message='Upload manglish-instructions.jsonl with huggingface_hub', commit_description='', oid='a0aca71586a801e7005082a21491463da9065562', pr_url=None, pr_revision=None, pr_num=None)"
      ]
     },
     "execution_count": 12,
     "metadata": {},
     "output_type": "execute_result"
    }
   ],
   "source": [
    "from huggingface_hub import HfApi\n",
    "api = HfApi()\n",
    "api.upload_file(\n",
    "    path_or_fileobj='manglish-instructions.jsonl',\n",
    "    path_in_repo='manglish-instructions.jsonl',\n",
    "    repo_id='mesolitica/noisy-standard-malay-translation-instructions',\n",
    "    repo_type='dataset',\n",
    ")"
   ]
  }
 ],
 "metadata": {
  "kernelspec": {
   "display_name": "Python 3 (ipykernel)",
   "language": "python",
   "name": "python3"
  },
  "language_info": {
   "codemirror_mode": {
    "name": "ipython",
    "version": 3
   },
   "file_extension": ".py",
   "mimetype": "text/x-python",
   "name": "python",
   "nbconvert_exporter": "python",
   "pygments_lexer": "ipython3",
   "version": "3.8.10"
  }
 },
 "nbformat": 4,
 "nbformat_minor": 5
}
