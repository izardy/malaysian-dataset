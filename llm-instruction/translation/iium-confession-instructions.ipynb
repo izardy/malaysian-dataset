{
 "cells": [
  {
   "cell_type": "code",
   "execution_count": 1,
   "id": "9b1ddbc0",
   "metadata": {},
   "outputs": [
    {
     "name": "stdout",
     "output_type": "stream",
     "text": [
      "{\"left\": \"Assalamualaikum dan salam sejahtera. Hai geng. J is back. Sihat semua? Family sihat? Aku doakan semua sihat-sihat belaka. Terima kasih support aku. Aku cuma nak cerita kisah aku dan kawan-kawan aku. Kerja di ladang ni dah lama di anak tirikan oleh masyarakat. Sedih juga aku. Kami duduk hutan sawit ni tak kacau orang pun. Tapi pandangan masyarakat tu, hurmmm... Entahla.\", \"en\": \"Assalamualaikum and greetings. Hey guys, J is back. Are you all well? Is your family well? I pray that everyone is in good health. Thank you for your support. I just want to share my story and my friends' story. We have been working in this plantation for a long time and have been neglected by the community. It's sad. We live in this oil palm forest and don't bother anyone. But the community's perception, well... I don't know.\", \"ms\": \"Assalamualaikum dan salam sejahtera. Hai geng. J kembali. Semua sihat? Keluarga sihat? Saya berdoa agar semua sihat-sihat belaka. Terima kasih atas sokongan anda. Saya hanya ingin berkongsi kisah saya dan kisah rakan-rakan saya. Kami telah bekerja di ladang ini untuk waktu yang lama dan telah diabaikan oleh masyarakat. Sedih juga. Kami tinggal di hutan sawit ini dan tidak mengganggu sesiapa pun. Tetapi pandangan masyarakat, hurmmm... Entahlah.\"}\r\n",
      "{\"left\": \"Ramai yang request cerita seram. Camna nak cakap ek? Aku ni tak la terlalu lama dalam bidang ni. Baru belas-belas tahun saja. 2 bulan pertama tu ada la rasa seram. Tapi bila dah lepas 2 bulan tu, rasa macam kalis pun ada. Kau nak mengilai ke, nak pindahkan tempat tidur aku ke, nak cekik aku, kau punya hal la. Banyak benda lain lagi aku nak fikir untuk umat ni. Tapi kalau nak cekik aku, biar mati. Walaupun kelingking aku saja yang boleh bergerak, tetap aku cari kau punya. Hahaha.\", \"en\": \"Many have requested scary stories. How should I put it? I haven't been in this field for too long. Only a few years. The first 2 months were scary, but after that, I felt immune. If you want to haunt me, move my bed or choke me, it's up to you. I have other things to think about for the community. But if you want to choke me, let me die. Even if only my little finger can move, I'll still come after you. Hahaha.\", \"ms\": \"Banyak yang meminta cerita seram. Bagaimana seharusnya saya menyatakannya? Saya belum lama berada dalam bidang ini. Hanya beberapa tahun. Dua bulan pertama itu menakutkan, tetapi setelah itu, saya merasa kebal. Jika kamu ingin mengganggu saya, pindahkan tempat tidur saya atau leher saya, terserah kamu. Saya memiliki hal lain untuk dipikirkan untuk masyarakat. Tetapi jika kamu ingin mencekik saya, biarkan saya mati. Meskipun hanya jari kelingking saya yang bisa bergerak, saya masih akan mengejarmu. Hahaha.\"}\r\n",
      "{\"left\": \"Ada soalan tentang lembu yang masuk kebun sawit. Aku ada pengalaman jaga estate yang kena serang dengan lembu ni. Bukan takat lembu tu saja yang serang, tuan lembu tu pun serang juga. Lembu betul. Kau cuma boleh prevent saja lembu tu dari masuk tempat kau.\", \"en\": \"There's a question about cows entering a palm oil plantation. I have experience guarding an estate that was attacked by these cows. It's not just the cows that attack, even the cow owner attacks too. It's true. You can only prevent the cows from entering your area.\", \"ms\": \"Ada soalan tentang lembu yang masuk ke ladang kelapa sawit. Saya mempunyai pengalaman menjaga ladang yang diserang oleh lembu ini. Bukan hanya lembu yang menyerang, pemilik lembu juga menyerang. Benar. Anda hanya boleh menghalang lembu daripada masuk ke kawasan anda.\"}\r\n"
     ]
    }
   ],
   "source": [
    "!head -n 3 processed-iium-confession.jsonl"
   ]
  },
  {
   "cell_type": "code",
   "execution_count": 2,
   "id": "b38083c7",
   "metadata": {},
   "outputs": [],
   "source": [
    "template = [\n",
    "    'teks: {teks}\\nterjemah ke standard malay',\n",
    "    'teks: {teks}\\nterjemah ke melayu baku',\n",
    "    '`{teks}` terjemah ke malay',\n",
    "    'terjemah ke bahasa melayu `{teks}`',\n",
    "    '`{teks}` terjemah ke malay dan english, bagi dalam JSON',\n",
    "]"
   ]
  },
  {
   "cell_type": "code",
   "execution_count": 3,
   "id": "b896b1b7",
   "metadata": {},
   "outputs": [],
   "source": [
    "import json\n",
    "import random\n",
    "\n",
    "with open('iium-confession-instructions.jsonl', 'w') as fopen_l:\n",
    "    with open('processed-iium-confession.jsonl') as fopen:\n",
    "        for l in fopen:\n",
    "            l = json.loads(l)\n",
    "            if 'ms' not in l:\n",
    "                continue\n",
    "            if l['ms'] is None:\n",
    "                continue\n",
    "            left = random.choice(template).format(teks = l['left'])\n",
    "            if 'JSON' in left:\n",
    "                right = {\n",
    "                    'en': l['en'],\n",
    "                    'ms': l['ms']\n",
    "                }\n",
    "                right = json.dumps(right)\n",
    "            else:\n",
    "                right = l['ms']\n",
    "            d = {\n",
    "                'prompt_input': None,\n",
    "                'input': left,\n",
    "                'output': right\n",
    "            }\n",
    "            fopen_l.write(f'{json.dumps(d)}\\n')\n",
    "            fopen_l.flush()"
   ]
  },
  {
   "cell_type": "code",
   "execution_count": 4,
   "id": "e95911fb",
   "metadata": {},
   "outputs": [
    {
     "name": "stdout",
     "output_type": "stream",
     "text": [
      "{\"prompt_input\": null, \"input\": \"`Assalamualaikum dan salam sejahtera. Hai geng. J is back. Sihat semua? Family sihat? Aku doakan semua sihat-sihat belaka. Terima kasih support aku. Aku cuma nak cerita kisah aku dan kawan-kawan aku. Kerja di ladang ni dah lama di anak tirikan oleh masyarakat. Sedih juga aku. Kami duduk hutan sawit ni tak kacau orang pun. Tapi pandangan masyarakat tu, hurmmm... Entahla.` terjemah ke malay dan english, bagi dalam JSON\", \"output\": \"{\\\"en\\\": \\\"Assalamualaikum and greetings. Hey guys, J is back. Are you all well? Is your family well? I pray that everyone is in good health. Thank you for your support. I just want to share my story and my friends' story. We have been working in this plantation for a long time and have been neglected by the community. It's sad. We live in this oil palm forest and don't bother anyone. But the community's perception, well... I don't know.\\\", \\\"ms\\\": \\\"Assalamualaikum dan salam sejahtera. Hai geng. J kembali. Semua sihat? Keluarga sihat? Saya berdoa agar semua sihat-sihat belaka. Terima kasih atas sokongan anda. Saya hanya ingin berkongsi kisah saya dan kisah rakan-rakan saya. Kami telah bekerja di ladang ini untuk waktu yang lama dan telah diabaikan oleh masyarakat. Sedih juga. Kami tinggal di hutan sawit ini dan tidak mengganggu sesiapa pun. Tetapi pandangan masyarakat, hurmmm... Entahlah.\\\"}\"}\r\n",
      "{\"prompt_input\": null, \"input\": \"teks: Ramai yang request cerita seram. Camna nak cakap ek? Aku ni tak la terlalu lama dalam bidang ni. Baru belas-belas tahun saja. 2 bulan pertama tu ada la rasa seram. Tapi bila dah lepas 2 bulan tu, rasa macam kalis pun ada. Kau nak mengilai ke, nak pindahkan tempat tidur aku ke, nak cekik aku, kau punya hal la. Banyak benda lain lagi aku nak fikir untuk umat ni. Tapi kalau nak cekik aku, biar mati. Walaupun kelingking aku saja yang boleh bergerak, tetap aku cari kau punya. Hahaha.\\nterjemah ke standard malay\", \"output\": \"Banyak yang meminta cerita seram. Bagaimana seharusnya saya menyatakannya? Saya belum lama berada dalam bidang ini. Hanya beberapa tahun. Dua bulan pertama itu menakutkan, tetapi setelah itu, saya merasa kebal. Jika kamu ingin mengganggu saya, pindahkan tempat tidur saya atau leher saya, terserah kamu. Saya memiliki hal lain untuk dipikirkan untuk masyarakat. Tetapi jika kamu ingin mencekik saya, biarkan saya mati. Meskipun hanya jari kelingking saya yang bisa bergerak, saya masih akan mengejarmu. Hahaha.\"}\r\n",
      "{\"prompt_input\": null, \"input\": \"`Ada soalan tentang lembu yang masuk kebun sawit. Aku ada pengalaman jaga estate yang kena serang dengan lembu ni. Bukan takat lembu tu saja yang serang, tuan lembu tu pun serang juga. Lembu betul. Kau cuma boleh prevent saja lembu tu dari masuk tempat kau.` terjemah ke malay dan english, bagi dalam JSON\", \"output\": \"{\\\"en\\\": \\\"There's a question about cows entering a palm oil plantation. I have experience guarding an estate that was attacked by these cows. It's not just the cows that attack, even the cow owner attacks too. It's true. You can only prevent the cows from entering your area.\\\", \\\"ms\\\": \\\"Ada soalan tentang lembu yang masuk ke ladang kelapa sawit. Saya mempunyai pengalaman menjaga ladang yang diserang oleh lembu ini. Bukan hanya lembu yang menyerang, pemilik lembu juga menyerang. Benar. Anda hanya boleh menghalang lembu daripada masuk ke kawasan anda.\\\"}\"}\r\n"
     ]
    }
   ],
   "source": [
    "!head -n 3 iium-confession-instructions.jsonl"
   ]
  },
  {
   "cell_type": "code",
   "execution_count": 5,
   "id": "fd4fe03a",
   "metadata": {},
   "outputs": [
    {
     "name": "stderr",
     "output_type": "stream",
     "text": [
      "/home/husein/.local/lib/python3.8/site-packages/requests/__init__.py:102: RequestsDependencyWarning: urllib3 (1.26.15) or chardet (5.2.0)/charset_normalizer (2.0.7) doesn't match a supported version!\n",
      "  warnings.warn(\"urllib3 ({}) or chardet ({})/charset_normalizer ({}) doesn't match a supported \"\n"
     ]
    },
    {
     "data": {
      "application/vnd.jupyter.widget-view+json": {
       "model_id": "7b5c8c67045d4824b65ba2f501dc53cf",
       "version_major": 2,
       "version_minor": 0
      },
      "text/plain": [
       "iium-confession-instructions.jsonl:   0%|          | 0.00/244M [00:00<?, ?B/s]"
      ]
     },
     "metadata": {},
     "output_type": "display_data"
    },
    {
     "data": {
      "text/plain": [
       "'https://huggingface.co/datasets/mesolitica/noisy-standard-malay-translation-instructions/blob/main/iium-confession-instructions.jsonl'"
      ]
     },
     "execution_count": 5,
     "metadata": {},
     "output_type": "execute_result"
    }
   ],
   "source": [
    "from huggingface_hub import HfApi\n",
    "api = HfApi()\n",
    "api.upload_file(\n",
    "    path_or_fileobj='iium-confession-instructions.jsonl',\n",
    "    path_in_repo='iium-confession-instructions.jsonl',\n",
    "    repo_id='mesolitica/noisy-standard-malay-translation-instructions',\n",
    "    repo_type='dataset',\n",
    ")"
   ]
  }
 ],
 "metadata": {
  "kernelspec": {
   "display_name": "Python 3 (ipykernel)",
   "language": "python",
   "name": "python3"
  },
  "language_info": {
   "codemirror_mode": {
    "name": "ipython",
    "version": 3
   },
   "file_extension": ".py",
   "mimetype": "text/x-python",
   "name": "python",
   "nbconvert_exporter": "python",
   "pygments_lexer": "ipython3",
   "version": "3.8.10"
  }
 },
 "nbformat": 4,
 "nbformat_minor": 5
}
