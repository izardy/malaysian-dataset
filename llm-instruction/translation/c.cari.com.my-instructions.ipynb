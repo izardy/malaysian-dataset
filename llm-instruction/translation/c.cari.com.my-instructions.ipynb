{
 "cells": [
  {
   "cell_type": "code",
   "execution_count": 1,
   "id": "9b1ddbc0",
   "metadata": {},
   "outputs": [
    {
     "name": "stdout",
     "output_type": "stream",
     "text": [
      "{\"left\": \"\\u56de\\u590d 1# jeffreylee  \\u53ef\\u4ee5\\u7528\\u4e00\\u9910 value meal \\u4f86\\u63db\\u55ce\\uff1f\", \"en\": \"Can I exchange it with a value meal?\", \"ms\": \"Bolehkah saya menukar ini dengan hidangan nilai?\"}\r\n",
      "{\"left\": \" xuesha\\u7684\\u8138\\u597d\\u957f\\u554a\\u3002\\u3002\\u3002  10507975_338882742936189_1743878600_n.jpg (43.39 KB, \\u4e0b\\u8f7d\\u6b21\\u6570: 0)  \\u4e0b\\u8f7d\\u9644\\u4ef6  \\u4fdd\\u5b58\\u5230\\u76f8\\u518c  19-10-2015 01:13 PM \\u4e0a\\u4f20\", \"en\": \"Xuesha's face is so long...\", \"ms\": \"Muka Xuesha sangat panjang...\"}\r\n",
      "{\"left\": \"haha~~  \\u6211\\u6765\\u4e5f\\uff01  \\u53ea\\u53ef\\u60dc\\u6211\\u6ca1\\u6709\\u5174\\u8da3~~\", \"en\": \"Haha~~ I'm here too! Unfortunately, I'm not interested~~\", \"ms\": \"Haha~~ Saya juga ada di sini! Malangnya, saya tidak berminat~~\"}\r\n"
     ]
    }
   ],
   "source": [
    "!head -n 3 processed-c.cari.com.my.jsonl"
   ]
  },
  {
   "cell_type": "code",
   "execution_count": 2,
   "id": "b38083c7",
   "metadata": {},
   "outputs": [],
   "source": [
    "template = [\n",
    "    'teks: {teks}\\nterjemah ke standard malay',\n",
    "    'teks: {teks}\\nterjemah ke melayu baku',\n",
    "    '`{teks}` terjemah ke malay',\n",
    "    'terjemah ke bahasa melayu `{teks}`',\n",
    "    '`{teks}` terjemah ke malay dan english, bagi dalam JSON',\n",
    "]"
   ]
  },
  {
   "cell_type": "code",
   "execution_count": 3,
   "id": "b896b1b7",
   "metadata": {},
   "outputs": [],
   "source": [
    "import json\n",
    "import random\n",
    "\n",
    "with open('c.cari.com.my-instructions.jsonl', 'w') as fopen_l:\n",
    "    with open('processed-c.cari.com.my.jsonl') as fopen:\n",
    "        for l in fopen:\n",
    "            l = json.loads(l)\n",
    "            if 'ms' not in l:\n",
    "                continue\n",
    "            if l['ms'] is None:\n",
    "                continue\n",
    "            left = random.choice(template).format(teks = l['left'])\n",
    "            if 'JSON' in left:\n",
    "                right = {\n",
    "                    'en': l['en'],\n",
    "                    'ms': l['ms']\n",
    "                }\n",
    "                right = json.dumps(right)\n",
    "            else:\n",
    "                right = l['ms']\n",
    "            d = {\n",
    "                'prompt_input': None,\n",
    "                'input': left,\n",
    "                'output': right\n",
    "            }\n",
    "            fopen_l.write(f'{json.dumps(d)}\\n')\n",
    "            fopen_l.flush()"
   ]
  },
  {
   "cell_type": "code",
   "execution_count": 5,
   "id": "e95911fb",
   "metadata": {},
   "outputs": [
    {
     "name": "stdout",
     "output_type": "stream",
     "text": [
      "{\"prompt_input\": null, \"input\": \"`\\u56de\\u590d 1# jeffreylee  \\u53ef\\u4ee5\\u7528\\u4e00\\u9910 value meal \\u4f86\\u63db\\u55ce\\uff1f` terjemah ke malay\", \"output\": \"Bolehkah saya menukar ini dengan hidangan nilai?\"}\r\n",
      "{\"prompt_input\": null, \"input\": \"` xuesha\\u7684\\u8138\\u597d\\u957f\\u554a\\u3002\\u3002\\u3002  10507975_338882742936189_1743878600_n.jpg (43.39 KB, \\u4e0b\\u8f7d\\u6b21\\u6570: 0)  \\u4e0b\\u8f7d\\u9644\\u4ef6  \\u4fdd\\u5b58\\u5230\\u76f8\\u518c  19-10-2015 01:13 PM \\u4e0a\\u4f20` terjemah ke malay dan english, bagi dalam JSON\", \"output\": \"{\\\"en\\\": \\\"Xuesha's face is so long...\\\", \\\"ms\\\": \\\"Muka Xuesha sangat panjang...\\\"}\"}\r\n",
      "{\"prompt_input\": null, \"input\": \"`haha~~  \\u6211\\u6765\\u4e5f\\uff01  \\u53ea\\u53ef\\u60dc\\u6211\\u6ca1\\u6709\\u5174\\u8da3~~` terjemah ke malay dan english, bagi dalam JSON\", \"output\": \"{\\\"en\\\": \\\"Haha~~ I'm here too! Unfortunately, I'm not interested~~\\\", \\\"ms\\\": \\\"Haha~~ Saya juga ada di sini! Malangnya, saya tidak berminat~~\\\"}\"}\r\n"
     ]
    }
   ],
   "source": [
    "!head -n 3 c.cari.com.my-instructions.jsonl"
   ]
  },
  {
   "cell_type": "code",
   "execution_count": 6,
   "id": "fd4fe03a",
   "metadata": {},
   "outputs": [
    {
     "name": "stderr",
     "output_type": "stream",
     "text": [
      "/home/husein/.local/lib/python3.8/site-packages/requests/__init__.py:102: RequestsDependencyWarning: urllib3 (1.26.15) or chardet (5.2.0)/charset_normalizer (2.0.7) doesn't match a supported version!\n",
      "  warnings.warn(\"urllib3 ({}) or chardet ({})/charset_normalizer ({}) doesn't match a supported \"\n"
     ]
    },
    {
     "data": {
      "application/vnd.jupyter.widget-view+json": {
       "model_id": "49446575a2f641dcbd70bbb24e435ccc",
       "version_major": 2,
       "version_minor": 0
      },
      "text/plain": [
       "c.cari.com.my-instructions.jsonl:   0%|          | 0.00/629M [00:00<?, ?B/s]"
      ]
     },
     "metadata": {},
     "output_type": "display_data"
    },
    {
     "data": {
      "text/plain": [
       "'https://huggingface.co/datasets/mesolitica/noisy-standard-malay-translation-instructions/blob/main/c.cari.com.my-instructions.jsonl'"
      ]
     },
     "execution_count": 6,
     "metadata": {},
     "output_type": "execute_result"
    }
   ],
   "source": [
    "from huggingface_hub import HfApi\n",
    "api = HfApi()\n",
    "api.upload_file(\n",
    "    path_or_fileobj='c.cari.com.my-instructions.jsonl',\n",
    "    path_in_repo='c.cari.com.my-instructions.jsonl',\n",
    "    repo_id='mesolitica/noisy-standard-malay-translation-instructions',\n",
    "    repo_type='dataset',\n",
    ")"
   ]
  },
  {
   "cell_type": "code",
   "execution_count": null,
   "id": "16cf381e",
   "metadata": {},
   "outputs": [],
   "source": []
  }
 ],
 "metadata": {
  "kernelspec": {
   "display_name": "Python 3 (ipykernel)",
   "language": "python",
   "name": "python3"
  },
  "language_info": {
   "codemirror_mode": {
    "name": "ipython",
    "version": 3
   },
   "file_extension": ".py",
   "mimetype": "text/x-python",
   "name": "python",
   "nbconvert_exporter": "python",
   "pygments_lexer": "ipython3",
   "version": "3.8.10"
  }
 },
 "nbformat": 4,
 "nbformat_minor": 5
}
