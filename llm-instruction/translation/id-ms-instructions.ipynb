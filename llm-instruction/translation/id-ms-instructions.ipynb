{
 "cells": [
  {
   "cell_type": "code",
   "execution_count": 1,
   "id": "46ce532e",
   "metadata": {},
   "outputs": [],
   "source": [
    "from glob import glob\n",
    "import json"
   ]
  },
  {
   "cell_type": "code",
   "execution_count": 2,
   "id": "ec7b7235",
   "metadata": {
    "scrolled": true
   },
   "outputs": [
    {
     "data": {
      "text/plain": [
       "['/home/husein/ssd3/google-translate-ms-id/ms.txt07.splitted.requested',\n",
       " '/home/husein/ssd3/google-translate-ms-id/ms.txt00.splitted.requested',\n",
       " '/home/husein/ssd3/google-translate-ms-id/ms.txt10.splitted.requested',\n",
       " '/home/husein/ssd3/google-translate-ms-id/ms.txt01.splitted.requested',\n",
       " '/home/husein/ssd3/google-translate-ms-id/ms.txt20.splitted.requested',\n",
       " '/home/husein/ssd3/google-translate-ms-id/ms.txt03.splitted.requested',\n",
       " '/home/husein/ssd3/google-translate-ms-id/ms.txt09.splitted.requested',\n",
       " '/home/husein/ssd3/google-translate-ms-id/ms.txt23.splitted.requested',\n",
       " '/home/husein/ssd3/google-translate-ms-id/ms.txt14.splitted.requested',\n",
       " '/home/husein/ssd3/google-translate-ms-id/ms.txt12.splitted.requested',\n",
       " '/home/husein/ssd3/google-translate-ms-id/ms.txt15.splitted.requested',\n",
       " '/home/husein/ssd3/google-translate-ms-id/ms.txt21.splitted.requested',\n",
       " '/home/husein/ssd3/google-translate-ms-id/ms.txt06.splitted.requested',\n",
       " '/home/husein/ssd3/google-translate-ms-id/ms.txt17.splitted.requested',\n",
       " '/home/husein/ssd3/google-translate-ms-id/ms.txt08.splitted.requested',\n",
       " '/home/husein/ssd3/google-translate-ms-id/ms.txt26.splitted.requested',\n",
       " '/home/husein/ssd3/google-translate-ms-id/ms.txt24.splitted.requested',\n",
       " '/home/husein/ssd3/google-translate-ms-id/ms.txt02.splitted.requested',\n",
       " '/home/husein/ssd3/google-translate-ms-id/ms.txt11.splitted.requested',\n",
       " '/home/husein/ssd3/google-translate-ms-id/ms.txt22.splitted.requested',\n",
       " '/home/husein/ssd3/google-translate-ms-id/ms.txt16.splitted.requested',\n",
       " '/home/husein/ssd3/google-translate-ms-id/ms.txt13.splitted.requested',\n",
       " '/home/husein/ssd3/google-translate-ms-id/ms.txt19.splitted.requested',\n",
       " '/home/husein/ssd3/google-translate-ms-id/ms.txt18.splitted.requested',\n",
       " '/home/husein/ssd3/google-translate-ms-id/ms.txt04.splitted.requested',\n",
       " '/home/husein/ssd3/google-translate-ms-id/ms.txt25.splitted.requested',\n",
       " '/home/husein/ssd3/google-translate-ms-id/ms.txt05.splitted.requested']"
      ]
     },
     "execution_count": 2,
     "metadata": {},
     "output_type": "execute_result"
    }
   ],
   "source": [
    "files = glob('/home/husein/ssd3/google-translate-ms-id/*.requested')\n",
    "files"
   ]
  },
  {
   "cell_type": "code",
   "execution_count": 3,
   "id": "1cc36583",
   "metadata": {},
   "outputs": [],
   "source": [
    "template = [\n",
    "    'teks: {teks}\\nterjemah ke standard malay',\n",
    "    'teks: {teks}\\nterjemah ke melayu baku',\n",
    "    '`{teks}` terjemah ke malay',\n",
    "    'terjemah ke bahasa melayu `{teks}`',\n",
    "]"
   ]
  },
  {
   "cell_type": "code",
   "execution_count": 4,
   "id": "0e6ea5c9",
   "metadata": {},
   "outputs": [],
   "source": [
    "import json\n",
    "import random\n",
    "\n",
    "with open('id-ms-instructions.jsonl', 'w') as fopen_l:\n",
    "    for f in files:\n",
    "        with open(f) as fopen:\n",
    "            for l in fopen:\n",
    "                try:\n",
    "                    l = json.loads(l)\n",
    "                except:\n",
    "                    continue\n",
    "                ms = l['src']\n",
    "                r = l['r']['result']\n",
    "                if not len(ms):\n",
    "                    continue\n",
    "                if not len(r):\n",
    "                    continue\n",
    "                left = random.choice(template).format(teks = r)\n",
    "                d = {\n",
    "                    'prompt_input': None,\n",
    "                    'input': left,\n",
    "                    'output': ms\n",
    "                }\n",
    "                fopen_l.write(f'{json.dumps(d)}\\n')\n",
    "                fopen_l.flush()"
   ]
  },
  {
   "cell_type": "code",
   "execution_count": 5,
   "id": "80cf601c",
   "metadata": {},
   "outputs": [
    {
     "name": "stdout",
     "output_type": "stream",
     "text": [
      "{\"prompt_input\": null, \"input\": \"teks: Perahu ada di dalam air, para pendayung ada di tangan.\\nterjemah ke melayu baku\", \"output\": \"Perahu sudah di air, pendayung sudah di tangan.\"}\r\n",
      "{\"prompt_input\": null, \"input\": \"teks: Film \\\"Rock\\\" bisa dibilang sebagai versi tersukses dari sentuhan sang sutradara yang terkenal dengan keunikannya, Mamat Khalid.\\nterjemah ke standard malay\", \"output\": \"Filem \\\"Rock\\\" boleh dianggap sebagai naskhah paling berjaya hasil sentuhan pengarah yang terkenal dengan keunikannya, Mamat Khalid.\"}\r\n",
      "{\"prompt_input\": null, \"input\": \"terjemah ke bahasa melayu `Menurut para peneliti IBM, siklo[18]karbon yang dihasilkan memiliki ikatan tunggal dan rangkap tiga yang berselang-seling daripada yang hanya memiliki ikatan rangkap.`\", \"output\": \"Menurut para pengkaji IBM, siklo[18]karbon yang terhasil memiliki ikatan tunggal dan ikatan ganda tiga yang berselang-seli berbandingkan dengan memiliki hanya ikatan ganda dua.\"}\r\n"
     ]
    }
   ],
   "source": [
    "!head -n 3 id-ms-instructions.jsonl"
   ]
  },
  {
   "cell_type": "code",
   "execution_count": 6,
   "id": "46a83148",
   "metadata": {},
   "outputs": [
    {
     "name": "stderr",
     "output_type": "stream",
     "text": [
      "/home/husein/.local/lib/python3.8/site-packages/requests/__init__.py:102: RequestsDependencyWarning: urllib3 (1.26.15) or chardet (5.2.0)/charset_normalizer (2.0.7) doesn't match a supported version!\n",
      "  warnings.warn(\"urllib3 ({}) or chardet ({})/charset_normalizer ({}) doesn't match a supported \"\n"
     ]
    },
    {
     "data": {
      "application/vnd.jupyter.widget-view+json": {
       "model_id": "0894c36745a2442f948b95be7af91923",
       "version_major": 2,
       "version_minor": 0
      },
      "text/plain": [
       "id-ms-instructions.jsonl:   0%|          | 0.00/845M [00:00<?, ?B/s]"
      ]
     },
     "metadata": {},
     "output_type": "display_data"
    },
    {
     "data": {
      "text/plain": [
       "'https://huggingface.co/datasets/mesolitica/standard-malay-translation-instructions/blob/main/id-ms-instructions.jsonl'"
      ]
     },
     "execution_count": 6,
     "metadata": {},
     "output_type": "execute_result"
    }
   ],
   "source": [
    "from huggingface_hub import HfApi\n",
    "api = HfApi()\n",
    "api.upload_file(\n",
    "    path_or_fileobj='id-ms-instructions.jsonl',\n",
    "    path_in_repo='id-ms-instructions.jsonl',\n",
    "    repo_id='mesolitica/standard-malay-translation-instructions',\n",
    "    repo_type='dataset',\n",
    ")"
   ]
  },
  {
   "cell_type": "code",
   "execution_count": null,
   "id": "c2db181d",
   "metadata": {},
   "outputs": [],
   "source": []
  }
 ],
 "metadata": {
  "kernelspec": {
   "display_name": "Python 3 (ipykernel)",
   "language": "python",
   "name": "python3"
  },
  "language_info": {
   "codemirror_mode": {
    "name": "ipython",
    "version": 3
   },
   "file_extension": ".py",
   "mimetype": "text/x-python",
   "name": "python",
   "nbconvert_exporter": "python",
   "pygments_lexer": "ipython3",
   "version": "3.8.10"
  }
 },
 "nbformat": 4,
 "nbformat_minor": 5
}
