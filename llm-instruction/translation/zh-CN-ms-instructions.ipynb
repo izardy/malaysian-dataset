{
 "cells": [
  {
   "cell_type": "code",
   "execution_count": 1,
   "id": "46ce532e",
   "metadata": {},
   "outputs": [],
   "source": [
    "from glob import glob\n",
    "import json"
   ]
  },
  {
   "cell_type": "code",
   "execution_count": 2,
   "id": "ec7b7235",
   "metadata": {
    "scrolled": true
   },
   "outputs": [
    {
     "data": {
      "text/plain": [
       "['/home/husein/ssd3/google-translate-ms-zh-CN/ms.txt03.splitted.zh-CN.requested',\n",
       " '/home/husein/ssd3/google-translate-ms-zh-CN/ms.txt10.splitted.zh-CN.requested',\n",
       " '/home/husein/ssd3/google-translate-ms-zh-CN/ms.txt05.splitted.zh-CN.requested',\n",
       " '/home/husein/ssd3/google-translate-ms-zh-CN/ms.txt12.splitted.zh-CN.requested',\n",
       " '/home/husein/ssd3/google-translate-ms-zh-CN/ms.txt16.splitted.zh-CN.requested',\n",
       " '/home/husein/ssd3/google-translate-ms-zh-CN/ms.txt06.splitted.zh-CN.requested',\n",
       " '/home/husein/ssd3/google-translate-ms-zh-CN/ms.txt08.splitted.zh-CN.requested',\n",
       " '/home/husein/ssd3/google-translate-ms-zh-CN/ms.txt00.splitted.zh-CN.requested',\n",
       " '/home/husein/ssd3/google-translate-ms-zh-CN/ms.txt02.splitted.zh-CN.requested',\n",
       " '/home/husein/ssd3/google-translate-ms-zh-CN/ms.txt14.splitted.zh-CN.requested',\n",
       " '/home/husein/ssd3/google-translate-ms-zh-CN/ms.txt04.splitted.zh-CN.requested',\n",
       " '/home/husein/ssd3/google-translate-ms-zh-CN/ms.txt09.splitted.zh-CN.requested',\n",
       " '/home/husein/ssd3/google-translate-ms-zh-CN/ms.txt15.splitted.zh-CN.requested',\n",
       " '/home/husein/ssd3/google-translate-ms-zh-CN/ms.txt11.splitted.zh-CN.requested',\n",
       " '/home/husein/ssd3/google-translate-ms-zh-CN/ms.txt01.splitted.zh-CN.requested',\n",
       " '/home/husein/ssd3/google-translate-ms-zh-CN/ms.txt13.splitted.zh-CN.requested',\n",
       " '/home/husein/ssd3/google-translate-ms-zh-CN/ms.txt07.splitted.zh-CN.requested']"
      ]
     },
     "execution_count": 2,
     "metadata": {},
     "output_type": "execute_result"
    }
   ],
   "source": [
    "files = glob('/home/husein/ssd3/google-translate-ms-zh-CN/*.requested')\n",
    "files"
   ]
  },
  {
   "cell_type": "code",
   "execution_count": 3,
   "id": "1cc36583",
   "metadata": {},
   "outputs": [],
   "source": [
    "template = [\n",
    "    'teks: {teks}\\nterjemah ke standard malay',\n",
    "    'teks: {teks}\\nterjemah ke melayu baku',\n",
    "    '`{teks}` terjemah ke malay',\n",
    "    'terjemah ke bahasa melayu `{teks}`',\n",
    "]"
   ]
  },
  {
   "cell_type": "code",
   "execution_count": 4,
   "id": "0e6ea5c9",
   "metadata": {},
   "outputs": [],
   "source": [
    "import json\n",
    "import random\n",
    "\n",
    "with open('zh-CN-ms-instructions.jsonl', 'w') as fopen_l:\n",
    "    for f in files:\n",
    "        with open(f) as fopen:\n",
    "            for l in fopen:\n",
    "                try:\n",
    "                    l = json.loads(l)\n",
    "                except:\n",
    "                    continue\n",
    "                ms = l['src']\n",
    "                r = l['r']['result']\n",
    "                if not len(ms):\n",
    "                    continue\n",
    "                if not len(r):\n",
    "                    continue\n",
    "                left = random.choice(template).format(teks = r)\n",
    "                d = {\n",
    "                    'prompt_input': None,\n",
    "                    'input': left,\n",
    "                    'output': ms\n",
    "                }\n",
    "                fopen_l.write(f'{json.dumps(d)}\\n')\n",
    "                fopen_l.flush()"
   ]
  },
  {
   "cell_type": "code",
   "execution_count": 5,
   "id": "80cf601c",
   "metadata": {},
   "outputs": [
    {
     "name": "stdout",
     "output_type": "stream",
     "text": [
      "{\"prompt_input\": null, \"input\": \"terjemah ke bahasa melayu `\\u201c\\u5728\\u8fd9\\u4e2a\\u95ee\\u9898\\u4e0a\\uff0c\\u4e0d\\u8981\\u8d85\\u8d8a\\u5b89\\u534e\\u4f5c\\u4e3a\\u4ed6\\u4eec\\u7684\\u9886\\u5bfc\\u4eba\\u7684\\u505a\\u6cd5\\u3002`\", \"output\": \"\\\"Jangan sama sekali melampaui langkah Anwar selaku ketua mereka dalam isu ini.\"}\r\n",
      "{\"prompt_input\": null, \"input\": \"teks: \\u7518\\u699c\\u58eb\\u5609\\u767b\\u96c5 (Kampung Sega Tengah) \\u7518\\u699c\\u58eb\\u5609\\u767b\\u96c5 (Kampung Sega Tengah) \\u662f\\u4f4d\\u4e8e\\u9a6c\\u6765\\u897f\\u4e9a\\u68ee\\u7f8e\\u5170\\u5dde Rantau \\u7684\\u4e00\\u4e2a\\u6751\\u5e84\\u3002\\nterjemah ke melayu baku\", \"output\": \"Kampung Sega Tengah Kampung Sega Tengah merupakan sebuah kampung yang terletak di Rantau, dalam negeri Negeri Sembilan, iaitu sebuah negeri di Malaysia.\"}\r\n",
      "{\"prompt_input\": null, \"input\": \"terjemah ke bahasa melayu `Anugerah - There's Still Time (1995) Anugerah - There's Still Time (1995) \\u3002`\", \"output\": \"Anugerah - Masih Ada Waktu (1995) Anugerah - Masih Ada Waktu (1995) .\"}\r\n"
     ]
    }
   ],
   "source": [
    "!head -n 3 zh-CN-ms-instructions.jsonl"
   ]
  },
  {
   "cell_type": "code",
   "execution_count": 6,
   "id": "46a83148",
   "metadata": {},
   "outputs": [
    {
     "name": "stderr",
     "output_type": "stream",
     "text": [
      "/home/husein/.local/lib/python3.8/site-packages/requests/__init__.py:102: RequestsDependencyWarning: urllib3 (1.26.15) or chardet (5.2.0)/charset_normalizer (2.0.7) doesn't match a supported version!\n",
      "  warnings.warn(\"urllib3 ({}) or chardet ({})/charset_normalizer ({}) doesn't match a supported \"\n"
     ]
    },
    {
     "data": {
      "application/vnd.jupyter.widget-view+json": {
       "model_id": "45cbc30deaa34b528aec0840fa9cd8da",
       "version_major": 2,
       "version_minor": 0
      },
      "text/plain": [
       "zh-CN-ms-instructions.jsonl:   0%|          | 0.00/709M [00:00<?, ?B/s]"
      ]
     },
     "metadata": {},
     "output_type": "display_data"
    },
    {
     "data": {
      "text/plain": [
       "'https://huggingface.co/datasets/mesolitica/standard-malay-translation-instructions/blob/main/zh-CN-ms-instructions.jsonl'"
      ]
     },
     "execution_count": 6,
     "metadata": {},
     "output_type": "execute_result"
    }
   ],
   "source": [
    "from huggingface_hub import HfApi\n",
    "api = HfApi()\n",
    "api.upload_file(\n",
    "    path_or_fileobj='zh-CN-ms-instructions.jsonl',\n",
    "    path_in_repo='zh-CN-ms-instructions.jsonl',\n",
    "    repo_id='mesolitica/standard-malay-translation-instructions',\n",
    "    repo_type='dataset',\n",
    ")"
   ]
  },
  {
   "cell_type": "code",
   "execution_count": null,
   "id": "c2db181d",
   "metadata": {},
   "outputs": [],
   "source": []
  }
 ],
 "metadata": {
  "kernelspec": {
   "display_name": "Python 3 (ipykernel)",
   "language": "python",
   "name": "python3"
  },
  "language_info": {
   "codemirror_mode": {
    "name": "ipython",
    "version": 3
   },
   "file_extension": ".py",
   "mimetype": "text/x-python",
   "name": "python",
   "nbconvert_exporter": "python",
   "pygments_lexer": "ipython3",
   "version": "3.8.10"
  }
 },
 "nbformat": 4,
 "nbformat_minor": 5
}
