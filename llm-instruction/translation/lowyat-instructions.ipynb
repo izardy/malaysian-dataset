{
 "cells": [
  {
   "cell_type": "code",
   "execution_count": 1,
   "id": "9b1ddbc0",
   "metadata": {},
   "outputs": [
    {
     "name": "stdout",
     "output_type": "stream",
     "text": [
      "{\"left\": \"isnt that hybrid more expensive in term of maintenance ? 2 types of engine, fuel and electric.\", \"en\": \"Isn't that hybrid more expensive in terms of maintenance? 2 types of engines, fuel and electric.\", \"ms\": \"Bukankah hibrid itu lebih mahal dalam terma penyelenggaraan? 2 jenis enjin, petrol dan elektrik.\"}\r\n",
      "{\"left\": \"QUOTE(jackbanner @ Feb 15 2021, 11:35 AM)Anyone else interested to join my Youtube premium family plan?\\n\\nPrice : RM 70/year\\n \\nStill available?\", \"en\": \"Quote(jackbanner @ Feb 15 2021, 11:35 AM) Is anyone else interested in joining my YouTube premium family plan? The price is RM 70 per year. Is it still available?\", \"ms\": \"Petikan(jackbanner @ 15 Feb 2021, 11:35 PG) Adakah sesiapa lagi berminat untuk menyertai rancangan keluarga premium YouTube saya? Harga ialah RM 70 setahun. Adakah ia masih tersedia?\"}\r\n",
      "{\"left\": \"QUOTE(ricolim @ Apr 23 2010, 11:45 AM)Hey Bro,\\n\\nMy color is Aluminum Silver.\\u00a0 \\n1.6 or 2.0?\\nmine 1.6 only  \\nwhere dealer u buy?\", \"en\": \"Quote from ricolim on April 23, 2010, 11:45 AM: Hey Brother, My car's color is Aluminum Silver. Is it 1.6 or 2.0? Mine is only 1.6. Where did you buy from the dealer?\", \"ms\": \"Petikan dari ricolim pada 23 April 2010, 11:45 PG: Hey Bro, Warna kereta saya adalah Perak Aluminium. Adakah 1.6 atau 2.0? Saya hanya 1.6. Di mana Anda membeli dari dealer?\"}\r\n"
     ]
    }
   ],
   "source": [
    "!head -n 3 process-lowyat.jsonl"
   ]
  },
  {
   "cell_type": "code",
   "execution_count": 2,
   "id": "b38083c7",
   "metadata": {},
   "outputs": [],
   "source": [
    "template = [\n",
    "    'teks: {teks}\\nterjemah ke standard malay',\n",
    "    'teks: {teks}\\nterjemah ke melayu baku',\n",
    "    '`{teks}` terjemah ke malay',\n",
    "    'terjemah ke bahasa melayu `{teks}`',\n",
    "    '`{teks}` terjemah ke malay dan english, bagi dalam JSON',\n",
    "    \"`{teks}` terjemah ke malay dan english, bagi dalam JSON {{'standard_en', 'standard_ms'}}\",\n",
    "]"
   ]
  },
  {
   "cell_type": "code",
   "execution_count": 3,
   "id": "b896b1b7",
   "metadata": {},
   "outputs": [],
   "source": [
    "import json\n",
    "import random\n",
    "\n",
    "with open('lowyat-instructions.jsonl', 'w') as fopen_l:\n",
    "    with open('process-lowyat.jsonl') as fopen:\n",
    "        for l in fopen:\n",
    "            l = json.loads(l)\n",
    "            if 'ms' not in l:\n",
    "                continue\n",
    "            if l['ms'] is None:\n",
    "                continue\n",
    "            left = random.choice(template).format(teks = l['left'])\n",
    "            if 'JSON' in left and 'standard_en' in left:\n",
    "                right = {\n",
    "                    'standard_en': l['en'],\n",
    "                    'standard_ms': l['ms']\n",
    "                }\n",
    "                right = json.dumps(right)\n",
    "            elif 'JSON' in left:\n",
    "                right = {\n",
    "                    'en': l['en'],\n",
    "                    'ms': l['ms']\n",
    "                }\n",
    "                right = json.dumps(right)\n",
    "            else:\n",
    "                right = l['ms']\n",
    "            d = {\n",
    "                'prompt_input': None,\n",
    "                'input': left,\n",
    "                'output': right\n",
    "            }\n",
    "            fopen_l.write(f'{json.dumps(d)}\\n')\n",
    "            fopen_l.flush()"
   ]
  },
  {
   "cell_type": "code",
   "execution_count": 4,
   "id": "13fb1341",
   "metadata": {},
   "outputs": [
    {
     "name": "stdout",
     "output_type": "stream",
     "text": [
      "{\"prompt_input\": null, \"input\": \"`isnt that hybrid more expensive in term of maintenance ? 2 types of engine, fuel and electric.` terjemah ke malay\", \"output\": \"Bukankah hibrid itu lebih mahal dalam terma penyelenggaraan? 2 jenis enjin, petrol dan elektrik.\"}\r\n",
      "{\"prompt_input\": null, \"input\": \"teks: QUOTE(jackbanner @ Feb 15 2021, 11:35 AM)Anyone else interested to join my Youtube premium family plan?\\n\\nPrice : RM 70/year\\n \\nStill available?\\nterjemah ke standard malay\", \"output\": \"Petikan(jackbanner @ 15 Feb 2021, 11:35 PG) Adakah sesiapa lagi berminat untuk menyertai rancangan keluarga premium YouTube saya? Harga ialah RM 70 setahun. Adakah ia masih tersedia?\"}\r\n",
      "{\"prompt_input\": null, \"input\": \"terjemah ke bahasa melayu `QUOTE(ricolim @ Apr 23 2010, 11:45 AM)Hey Bro,\\n\\nMy color is Aluminum Silver.\\u00a0 \\n1.6 or 2.0?\\nmine 1.6 only  \\nwhere dealer u buy?`\", \"output\": \"Petikan dari ricolim pada 23 April 2010, 11:45 PG: Hey Bro, Warna kereta saya adalah Perak Aluminium. Adakah 1.6 atau 2.0? Saya hanya 1.6. Di mana Anda membeli dari dealer?\"}\r\n",
      "{\"prompt_input\": null, \"input\": \"teks: just try ron92 on my nouvo last night...\\n\\nno significant change/drop to performance..\\n\\nlong term dunno yet....curious also..  \\n\\nwell said,i'll just keep pumping and pumping...  \\n\\nsave ur money for other thing..\\n\\ngood thing they brought in ron95...cheaper.. \\nThis post has been edited by hr_elie: Dec 5 2008, 09:47 AM\\nterjemah ke standard malay\", \"output\": \"Saya baru cuba RON92 pada Nova saya semalam... Tiada perubahan atau penurunan prestasi yang ketara... Jangka panjang, saya tidak tahu lagi... Saya juga ingin tahu... Kata-kata baik, saya akan terus memompa dan memompa... Simpan wang anda untuk perkara lain... Baiklah mereka membawa masuk RON95, ia lebih murah...\"}\r\n",
      "{\"prompt_input\": null, \"input\": \"`QUOTE(Memories_Fallen @ Jul 23 2014, 09:02 PM)he got cash dis for honda cars as well?\\nhe's kia dealer . ofcourse no honda discount lor ~ \\n\\nanyway city currently seems like no discount (max RM1k)` terjemah ke malay dan english, bagi dalam JSON {'standard_en', 'standard_ms'}\", \"output\": \"{\\\"standard_en\\\": \\\"He got cash discount for Honda cars as well? He's a Kia dealer, of course, there's no Honda discount. Anyway, currently, it seems like there's no discount in the city (maximum RM1,000).\\\", \\\"standard_ms\\\": \\\"Dia ada diskaun tunai untuk kereta Honda juga? Dia penjual Kia, sudah tentu tidak ada diskaun Honda. Walau bagaimanapun, kini kelihatan tidak ada diskaun di kota (maksimum RM1,000).\\\"}\"}\r\n",
      "{\"prompt_input\": null, \"input\": \"`de_kakakcombs:\\n\\nsome look at it as beautifulness and VVVVVVVVVVVVVVIP item wor..\\n\\nThis post has been edited by ahlong: Dec 21 2009, 09:34 AM` terjemah ke malay dan english, bagi dalam JSON\", \"output\": \"{\\\"en\\\": \\\"Some people see it as a beautiful and very exclusive item worth collecting.\\\", \\\"ms\\\": \\\"Orang-orang melihatnya sebagai kecantikan dan item eksklusif yang sangat berharga untuk dikumpulkan.\\\"}\"}\r\n",
      "{\"prompt_input\": null, \"input\": \"teks: Wah at last i get some feed back ..thx a lot guys....so its the matter of getting the wrong virago..so unless i personally know the person i am going to buy from its not advisable lah ...thx guys...will try for vulcan n c\\nterjemah ke standard malay\", \"output\": \"Akhirnya saya dapat maklum balas, terima kasih banyak kepada kamu semua. Jadi, ia tentang mendapatkan Virago yang salah, jadi kecuali saya kenal orang yang saya beli dari, tidak digalakkan. Terima kasih kamu semua, saya akan cuba untuk Vulcan dan C.\"}\r\n",
      "{\"prompt_input\": null, \"input\": \"terjemah ke bahasa melayu `you can check latest Proton Saga RV, it's not much different than Bezza. \\nSo based on price point, Saga RV is better than Bezza ( same year )`\", \"output\": \"Anda boleh semak Proton Saga RV terkini, tidak banyak berbeza dengan Bezza. Jadi, berdasarkan harga, Saga RV lebih baik daripada Bezza (tahun yang sama).\"}\r\n",
      "{\"prompt_input\": null, \"input\": \"teks: code mane\\nterjemah ke melayu baku\", \"output\": \"Nama Kod\"}\r\n",
      "{\"prompt_input\": null, \"input\": \"`QUOTE(Matchy @ Nov 16 2020, 03:14 PM)My 11.11 items still stuck at \\\"Item packed\\\"... (only 1 delivered). Anyone facing the same situation?\\nsame here.. packed many days already haven't shipped yet.` terjemah ke malay\", \"output\": \"Saya juga menghadapi masalah yang sama dengan item 11.11 saya, di mana mereka terhenti di status 'Item packed'. Adakah sesiapa lain menghadapi masalah yang sama? Sama di sini, mereka telah dikemas untuk beberapa hari tetapi belum dihantar lagi.\"}\r\n"
     ]
    }
   ],
   "source": [
    "!head -n 10 lowyat-instructions.jsonl"
   ]
  },
  {
   "cell_type": "code",
   "execution_count": 5,
   "id": "fd4fe03a",
   "metadata": {},
   "outputs": [
    {
     "data": {
      "application/vnd.jupyter.widget-view+json": {
       "model_id": "e93b0c734af242ca84aadf293714a928",
       "version_major": 2,
       "version_minor": 0
      },
      "text/plain": [
       "lowyat-instructions.jsonl:   0%|          | 0.00/133M [00:00<?, ?B/s]"
      ]
     },
     "metadata": {},
     "output_type": "display_data"
    },
    {
     "data": {
      "text/plain": [
       "CommitInfo(commit_url='https://huggingface.co/datasets/mesolitica/noisy-standard-malay-translation-instructions/commit/ea1a4a49b72423cbc3670bcb957211ba71cda717', commit_message='Upload lowyat-instructions.jsonl with huggingface_hub', commit_description='', oid='ea1a4a49b72423cbc3670bcb957211ba71cda717', pr_url=None, pr_revision=None, pr_num=None)"
      ]
     },
     "execution_count": 5,
     "metadata": {},
     "output_type": "execute_result"
    }
   ],
   "source": [
    "from huggingface_hub import HfApi\n",
    "api = HfApi()\n",
    "api.upload_file(\n",
    "    path_or_fileobj='lowyat-instructions.jsonl',\n",
    "    path_in_repo='lowyat-instructions.jsonl',\n",
    "    repo_id='mesolitica/noisy-standard-malay-translation-instructions',\n",
    "    repo_type='dataset',\n",
    ")"
   ]
  },
  {
   "cell_type": "code",
   "execution_count": null,
   "id": "d52c3fc2",
   "metadata": {},
   "outputs": [],
   "source": []
  }
 ],
 "metadata": {
  "kernelspec": {
   "display_name": "Python 3 (ipykernel)",
   "language": "python",
   "name": "python3"
  },
  "language_info": {
   "codemirror_mode": {
    "name": "ipython",
    "version": 3
   },
   "file_extension": ".py",
   "mimetype": "text/x-python",
   "name": "python",
   "nbconvert_exporter": "python",
   "pygments_lexer": "ipython3",
   "version": "3.8.10"
  }
 },
 "nbformat": 4,
 "nbformat_minor": 5
}
