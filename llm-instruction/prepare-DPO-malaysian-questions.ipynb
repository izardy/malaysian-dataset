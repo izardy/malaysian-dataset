{
 "cells": [
  {
   "cell_type": "code",
   "execution_count": 2,
   "id": "79d5ffd6",
   "metadata": {},
   "outputs": [],
   "source": [
    "# !wget https://huggingface.co/datasets/mesolitica/DPO-malaysian-questions/resolve/main/data/train-00000-of-00001-6fcbb0054432bcc2.parquet"
   ]
  },
  {
   "cell_type": "code",
   "execution_count": 14,
   "id": "307bea35",
   "metadata": {},
   "outputs": [
    {
     "data": {
      "text/html": [
       "<div>\n",
       "<style scoped>\n",
       "    .dataframe tbody tr th:only-of-type {\n",
       "        vertical-align: middle;\n",
       "    }\n",
       "\n",
       "    .dataframe tbody tr th {\n",
       "        vertical-align: top;\n",
       "    }\n",
       "\n",
       "    .dataframe thead th {\n",
       "        text-align: right;\n",
       "    }\n",
       "</style>\n",
       "<table border=\"1\" class=\"dataframe\">\n",
       "  <thead>\n",
       "    <tr style=\"text-align: right;\">\n",
       "      <th></th>\n",
       "      <th>prompt</th>\n",
       "      <th>chosen</th>\n",
       "      <th>rejected</th>\n",
       "    </tr>\n",
       "  </thead>\n",
       "  <tbody>\n",
       "    <tr>\n",
       "      <th>0</th>\n",
       "      <td>Siapakah pihak yang paling terkesan oleh isu h...</td>\n",
       "      <td>Isu hak milik tanah dalam konteks Malaysia pal...</td>\n",
       "      <td>Pihak yang paling terkesan oleh isu hak milik ...</td>\n",
       "    </tr>\n",
       "    <tr>\n",
       "      <th>1</th>\n",
       "      <td>Apakah visi dan misi Parti Keadilan untuk mema...</td>\n",
       "      <td>Visi dan misi Parti Keadilan untuk memastikan ...</td>\n",
       "      <td>Parti Keadilan Rakyat (PKR) mempunyai visi unt...</td>\n",
       "    </tr>\n",
       "    <tr>\n",
       "      <th>2</th>\n",
       "      <td>Apakah program-program yang dijalankan untuk m...</td>\n",
       "      <td>Untuk makluman Ahli Yang Berhormat, jumlah per...</td>\n",
       "      <td>Saya dapati terdapat beberapa program untuk me...</td>\n",
       "    </tr>\n",
       "    <tr>\n",
       "      <th>3</th>\n",
       "      <td>Adakah isu-isu keselamatan dan keselamatan sos...</td>\n",
       "      <td>Ya, isu keselamatan dan keselamatan sosial ama...</td>\n",
       "      <td>Ya, isu keselamatan dan keselamatan sosial dia...</td>\n",
       "    </tr>\n",
       "    <tr>\n",
       "      <th>4</th>\n",
       "      <td>Apakah sejarah penubuhan Parti Islam Se-Malays...</td>\n",
       "      <td>Parti Islam Se-Malaysia (PAS) atau Parti Islam...</td>\n",
       "      <td>Parti Islam Se-Malaysia (PAS) ditubuhkan pada ...</td>\n",
       "    </tr>\n",
       "  </tbody>\n",
       "</table>\n",
       "</div>"
      ],
      "text/plain": [
       "                                              prompt  \\\n",
       "0  Siapakah pihak yang paling terkesan oleh isu h...   \n",
       "1  Apakah visi dan misi Parti Keadilan untuk mema...   \n",
       "2  Apakah program-program yang dijalankan untuk m...   \n",
       "3  Adakah isu-isu keselamatan dan keselamatan sos...   \n",
       "4  Apakah sejarah penubuhan Parti Islam Se-Malays...   \n",
       "\n",
       "                                              chosen  \\\n",
       "0  Isu hak milik tanah dalam konteks Malaysia pal...   \n",
       "1  Visi dan misi Parti Keadilan untuk memastikan ...   \n",
       "2  Untuk makluman Ahli Yang Berhormat, jumlah per...   \n",
       "3  Ya, isu keselamatan dan keselamatan sosial ama...   \n",
       "4  Parti Islam Se-Malaysia (PAS) atau Parti Islam...   \n",
       "\n",
       "                                            rejected  \n",
       "0  Pihak yang paling terkesan oleh isu hak milik ...  \n",
       "1  Parti Keadilan Rakyat (PKR) mempunyai visi unt...  \n",
       "2  Saya dapati terdapat beberapa program untuk me...  \n",
       "3  Ya, isu keselamatan dan keselamatan sosial dia...  \n",
       "4  Parti Islam Se-Malaysia (PAS) ditubuhkan pada ...  "
      ]
     },
     "execution_count": 14,
     "metadata": {},
     "output_type": "execute_result"
    }
   ],
   "source": [
    "import pandas as pd\n",
    "import json\n",
    "\n",
    "df = pd.read_parquet('train-00000-of-00001-6fcbb0054432bcc2.parquet')\n",
    "df.head()"
   ]
  },
  {
   "cell_type": "code",
   "execution_count": 5,
   "id": "0674f272",
   "metadata": {},
   "outputs": [
    {
     "name": "stderr",
     "output_type": "stream",
     "text": [
      "/home/husein/dev/malaya/malaya/tokenizer.py:214: FutureWarning: Possible nested set at position 3397\n",
      "  self.tok = re.compile(r'({})'.format('|'.join(pipeline)))\n",
      "/home/husein/dev/malaya/malaya/tokenizer.py:214: FutureWarning: Possible nested set at position 3927\n",
      "  self.tok = re.compile(r'({})'.format('|'.join(pipeline)))\n"
     ]
    }
   ],
   "source": [
    "import malaya"
   ]
  },
  {
   "cell_type": "code",
   "execution_count": 11,
   "id": "d96c272a",
   "metadata": {
    "scrolled": true
   },
   "outputs": [
    {
     "name": "stderr",
     "output_type": "stream",
     "text": [
      "Warning : `load_model` does not return WordVectorModel or SupervisedModel any more, but a `FastText` object which is very similar.\n"
     ]
    }
   ],
   "source": [
    "model = malaya.language_detection.fasttext(model = 'mesolitica/fasttext-language-detection-bahasa-en')"
   ]
  },
  {
   "cell_type": "code",
   "execution_count": 15,
   "id": "805290f7",
   "metadata": {},
   "outputs": [],
   "source": [
    "with open('prepared-DPO-malaysian-questions.jsonl', 'w') as fopen:\n",
    "    for i in range(len(df)):\n",
    "        if model.predict([df['chosen'].iloc[i]])[0] != 'bahasa':\n",
    "            continue\n",
    "\n",
    "        d = {\n",
    "            'prompt_input': None,\n",
    "            'input': df['prompt'].iloc[i],\n",
    "            'output': df['chosen'].iloc[i].strip(),\n",
    "        }\n",
    "        fopen.write(f'{json.dumps(d)}\\n')\n",
    "    "
   ]
  },
  {
   "cell_type": "code",
   "execution_count": 18,
   "id": "3eb8a045",
   "metadata": {},
   "outputs": [
    {
     "name": "stdout",
     "output_type": "stream",
     "text": [
      "{\"prompt_input\": null, \"input\": \"Adakah Arip Nazhan tidak mempunyai otak?\", \"output\": \"Bukan itu maksudnya, tetapi laporan media menggunakan frasa \\\"senyum sejuk dan membutakan mata\\\" untuk menggambarkan peguam Arip Nazhan yang terpengaruh dengan kemasyhuran dan kekayaan yang diperolehnya. Frasa ini tidak sepatutnya ditafsirkan secara literal, kerana ia adalah hiperbola yang digunakan untuk menekankan kesan kemasyhuran dan kekayaan terhadap seseorang.\"}\r\n",
      "{\"prompt_input\": null, \"input\": \"Bolehkah babi menggunakan telefon bimbit?\", \"output\": \"Saya memohon maaf atas sebarang kekeliruan, tetapi babi tidak boleh menggunakan telefon bimbit. Mereka tidak mempunyai kemahiran kognitif atau ibu jari yang bertentangan yang diperlukan untuk memanipulasi telefon.\"}\r\n",
      "{\"prompt_input\": null, \"input\": \"Bagaimana cekang Teloq Siak itu?\", \"output\": \"Cekak Teloq Siak adalah sebuah organisasi yang berjuang untuk hak-hak rakyat. Cekak Teloq Siak merupakan organisasi yang mengutamakan persaudaraan dan persatuan, dan mereka menghimpun orang-orang yang mempunyai sifat dan tingkah laku yang baik, serta mementingkan kebersamaan dan keharmonian. Cekak Teloq Siak juga bertujuan untuk mencapai keadilan sosial dan pembangunan yang seimbang dalam masyarakat.\\n\\nCekak Teloq Siak telah menyumbang kepada pembangunan masyarakat dengan membina pelbagai projek dan aktiviti yang bertujuan untuk memajukan komuniti setempat. Mereka juga sering mengadakan program-program kebajikan untuk membantu golongan kurang berkemampuan, seperti memberi bantuan kepada keluarga miskin, anak-anak yatim, dan golongan yang memerlukan.\\n\\nSelain itu, Cekak Teloq Siak juga berperanan dalam memastikan keselamatan dan keselamatan dalam komuniti. Mereka terlibat dalam aktiviti kepolisan dan menyediakan latihan keselamatan kepada penduduk tempatan untuk menghadapi situasi yang mungkin membahayakan.\\n\\nSecara keseluruhannya, Cekak Teloq Siak adalah sebuah organisasi yang berdedikasi dalam memajukan masyarakat dan mengukuhkan persaudaraan dalam komuniti. Mereka berusaha untuk menjaga kebajikan dan keselamatan penduduk setempat, serta berusaha untuk mencapai keadilan sosial dalam masyarakat.\"}\r\n",
      "{\"prompt_input\": null, \"input\": \"Adakah KJ pernah mengambil tanggungjawab terhadap kegagalan parti dalam pilihan raya?\", \"output\": \"Saya tidak mempunyai pendapat, tetapi saya boleh memberikan maklumat. Khairy Jamaluddin, juga dikenali sebagai KJ, ialah seorang ahli politik Malaysia. Beliau telah menjadi ahli pelbagai jawatankuasa dalam parti politiknya, UMNO (United Malays National Organisation). Dalam Pilihan Raya Umum Malaysia 2018, UMNO dan gabungan Barisan Nasionalnya menghadapi kekalahan yang ketara.\\n\\nSelepas pilihan raya, Khairy Jamaluddin menyatakan bahawa beliau bersedia menerima tanggungjawab atas prestasi buruk parti dalam pilihan raya. Bagaimanapun, saya tidak dapat mencari sebarang kenyataan khusus di mana beliau secara jelas mengambil tanggungjawab sepenuhnya atas kegagalan parti. Adalah penting untuk ambil perhatian bahawa situasi politik adalah kompleks dan dipengaruhi oleh pelbagai faktor.\"}\r\n",
      "{\"prompt_input\": null, \"input\": \"Berbacoi dengan sengaja\", \"output\": \"Berbacoi ialah perkataan dalam bahasa Melayu yang bermaksud berperang atau bergaduh tanpa tujuan yang jelas. Ia mungkin digunakan untuk menggambarkan situasi di mana individu atau kumpulan terlibat dalam konflik atau pertikaian yang tidak mempunyai matlamat atau motif yang jelas, atau hanya untuk tujuan menimbulkan ketegangan atau gangguan. Berbacoi sering menunjukkan tingkah laku negatif dan tidak produktif yang tidak memberi manfaat kepada mana-mana pihak yang terlibat.\"}\r\n",
      "{\"prompt_input\": null, \"input\": \"Bagaimana makan cekang teloq siak?\", \"output\": \"Saya di sini untuk membantu anda dengan soalan mengikut kemampuan saya! Walau bagaimanapun, saya harus memberitahu anda bahawa saya tidak mempunyai kebolehan masa nyata atau keupayaan untuk berinteraksi secara fizikal dengan dunia. Jadi, saya tidak dapat memberikan arahan untuk makan teloq siak (makanan seperti kerang yang biasa dimakan di Asia Tenggara) dalam erti kata tradisional.\\n\\nWalau bagaimanapun, jika anda sedang mencari penjelasan umum tentang cara makan kerang atau sejenis makanan laut, berikut ialah langkah-langkah umum:\\n\\n1. Sediakan diri anda: Basuh tangan anda dengan bersih dan bersihkan sebarang permukaan atau peralatan yang akan anda gunakan untuk menyediakan dan makan makanan.\\n2. Pilih kerang anda: Pilih cekang teloq yang segar dan dibuka dengan betul. Cekang teloq sepatutnya mempunyai bau lautan yang sedikit manis.\\n3. Bersihkan kerang: Keluarkan sebarang cengkerang yang terbuka secara tidak sengaja, kerikil dan pasir dengan memberikannya pembersihan ringkas di bawah air yang mengalir.\\n4. Masak kerang: Kerang boleh dimasak dalam pelbagai cara seperti mengukus, menumis, atau dibakar, bergantung pada pilihan anda. Anda boleh memerapnya dalam campuran perasa, menambah rempah ratus, atau hanya memasaknya dengan sedikit minyak.\\n5. Nikmati cekang teloq anda: Setelah masak, kongsikan dengan orang lain dan nikmati hidangan anda!\\n\\nPerlu diingat bahawa langkah di atas adalah garis panduan umum, dan proses penyediaan dan penggunaan sebenar mungkin berbeza-beza bergantung pada wilayah dan pilihan peribadi.\"}\r\n",
      "{\"prompt_input\": null, \"input\": \"Puas dengan hidangan enak hari ini\", \"output\": \"Saya gembira anda menikmati hidangan anda hari ini! Adakah anda memerlukan sebarang cadangan resipi atau mempunyai soalan berkaitan masakan?\"}\r\n",
      "{\"prompt_input\": null, \"input\": \"What does 'mu cakap' mean?\", \"output\": \"\\\"Mu\\\" adalah istilah dalam bahasa Melayu yang bermaksud \\\"kamu\\\" atau \\\"anda\\\". Ia biasanya digunakan sebagai ganti nama untuk merujuk kepada seseorang dalam konteks tidak formal atau perbualan. Istilah \\\"cakap\\\" bermaksud \\\"bercakap\\\" atau \\\"bercakap\\\". Oleh itu, \\\"mu cakap\\\" boleh ditafsirkan sebagai \\\"anda bercakap\\\" atau \\\"anda bercakap\\\". Ia adalah satu cara untuk menangani seseorang secara langsung dan mesra.\"}\r\n",
      "{\"prompt_input\": null, \"input\": \"Bagaimana cara mengucapkan cekang teloq siak?\", \"output\": \"Untuk mengucapkan cekang teloq siak, anda boleh mengikuti langkah-langkah berikut:\\n\\n1. Sebut perkataan \\\"cekang\\\" dengan nada yang jelas dan kuat, seolah-olah anda menyuruh seseorang melakukan sesuatu.\\n2. Ikuti dengan perkataan \\\"teloq\\\" yang bermaksud 'telur'.\\n3. Akhiri dengan perkataan \\\"siak\\\" yang bermaksud 'kuat' atau'sukar'. Jadi, secara keseluruhan frasa tersebut akan menjadi \\\"cekang telur siak\\\".\\n\\nJadi, jika anda ingin mengucapkan \\\"cekang telur kuat\\\" dalam loghat Johor, anda perlu menyebut \\\"cekang telur siak\\\".\"}\r\n",
      "{\"prompt_input\": null, \"input\": \"Apa bezanya antara kucing dan ikan keli, kedua-duanya mempunyai misai?\", \"output\": \"Walaupun kucing dan ikan keli kedua-duanya mempunyai misai, mereka mempunyai beberapa perbezaan penting:\\n\\n1. Anatomi: Misai pada kucing adalah bulu sentuhan yang sangat sensitif yang membantu kucing mengesan perubahan dalam persekitaran mereka, manakala misai pada ikan keli ialah organ deria yang bertindak sebagai lidah sentuhan yang membantu ikan mengemudi persekitarannya dan mencari mangsa.\\n\\n2. Lokasi: Misai kucing terletak di muka mereka, manakala misai ikan keli terletak di sepanjang badan mereka, di antara mata dan mulut.\\n\\n3. Kegunaan: Misai kucing digunakan terutamanya untuk memburu dan navigasi, manakala misai ikan keli digunakan untuk membantu ikan mengesan mangsa dan halangan dalam persekitarannya.\\n\\n4. Penampilan: Misai kucing biasanya pendek dan hitam, manakala misai ikan keli lebih panjang dan lebih lut sinar, dengan duri kecil pada hujungnya.\\n\\n5. Tingkah Laku: Kucing cenderung bergantung pada misai mereka untuk mengemudi persekitaran mereka, manakala ikan keli menggunakan misai untuk mengesan objek dan pergerakan di dalam air.\\n\\nSecara keseluruhannya, walaupun kedua-dua kucing dan ikan keli mempunyai misai, mereka mempunyai tujuan dan fungsi yang berbeza, dan ditemui dalam persekitaran yang berbeza.\"}\r\n"
     ]
    }
   ],
   "source": [
    "!tail -n 10 prepared-DPO-malaysian-questions.jsonl"
   ]
  },
  {
   "cell_type": "code",
   "execution_count": null,
   "id": "82eda416",
   "metadata": {},
   "outputs": [],
   "source": []
  }
 ],
 "metadata": {
  "kernelspec": {
   "display_name": "Python 3 (ipykernel)",
   "language": "python",
   "name": "python3"
  },
  "language_info": {
   "codemirror_mode": {
    "name": "ipython",
    "version": 3
   },
   "file_extension": ".py",
   "mimetype": "text/x-python",
   "name": "python",
   "nbconvert_exporter": "python",
   "pygments_lexer": "ipython3",
   "version": "3.8.10"
  }
 },
 "nbformat": 4,
 "nbformat_minor": 5
}
