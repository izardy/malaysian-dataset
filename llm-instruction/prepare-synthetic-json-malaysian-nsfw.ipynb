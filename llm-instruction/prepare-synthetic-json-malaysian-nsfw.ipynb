{
 "cells": [
  {
   "cell_type": "code",
   "execution_count": 2,
   "id": "2e288f5e",
   "metadata": {},
   "outputs": [],
   "source": [
    "import json\n",
    "import random\n",
    "from glob import glob"
   ]
  },
  {
   "cell_type": "code",
   "execution_count": 4,
   "id": "40c9b459",
   "metadata": {},
   "outputs": [],
   "source": [
    "# !wget https://huggingface.co/datasets/malaysia-ai/Malaysian-NSFW/resolve/main/malaysian-dataset-sfw-dedup.jsonl"
   ]
  },
  {
   "cell_type": "code",
   "execution_count": 9,
   "id": "c9499353",
   "metadata": {},
   "outputs": [],
   "source": [
    "labels = set()\n",
    "with open('malaysian-dataset-sfw-dedup.jsonl') as fopen:\n",
    "    for l in fopen:\n",
    "        l = json.loads(l)\n",
    "        labels.add(l['label'])"
   ]
  },
  {
   "cell_type": "code",
   "execution_count": 22,
   "id": "3303f563",
   "metadata": {},
   "outputs": [],
   "source": [
    "labels_ms = {\n",
    "    'harassment': 'gangguan',\n",
    "    'hate': 'kebencian',\n",
    "    'porn': 'porno',\n",
    "    'psychiatric or mental illness': 'penyakit psikiatri atau mental',\n",
    "    'racist': 'sifat perkauman',\n",
    "    'religion insult': 'penghinaan agama',\n",
    "    'safe for work': 'selamat untuk bekerja',\n",
    "    'self-harm': 'mencederakan diri sendiri',\n",
    "    'sexist': 'seksis'\n",
    "}"
   ]
  },
  {
   "cell_type": "code",
   "execution_count": 24,
   "id": "f54f0ab5",
   "metadata": {},
   "outputs": [
    {
     "data": {
      "text/plain": [
       "['gangguan',\n",
       " 'kebencian',\n",
       " 'porno',\n",
       " 'penyakit psikiatri atau mental',\n",
       " 'sifat perkauman',\n",
       " 'penghinaan agama',\n",
       " 'selamat untuk bekerja',\n",
       " 'mencederakan diri sendiri',\n",
       " 'seksis']"
      ]
     },
     "execution_count": 24,
     "metadata": {},
     "output_type": "execute_result"
    }
   ],
   "source": [
    "list(labels_ms.values())"
   ]
  },
  {
   "cell_type": "code",
   "execution_count": 25,
   "id": "516bbb80",
   "metadata": {},
   "outputs": [],
   "source": [
    "labels_text = [\n",
    "    '[' + ', '.join(labels) + ']',\n",
    "    '{' + ', '.join(labels) + '}'\n",
    "]\n",
    "\n",
    "labels_ms_text = [\n",
    "    '[' + ', '.join(list(labels_ms.values())) + ']',\n",
    "    '{' + ', '.join(list(labels_ms.values())) + '}'\n",
    "]"
   ]
  },
  {
   "cell_type": "code",
   "execution_count": 26,
   "id": "40f9c76c",
   "metadata": {},
   "outputs": [],
   "source": [
    "patterns = [\n",
    "    'teks `{text}`, kelaskan teks guna labels {labels}',\n",
    "    'kelaskan teks {labels}, teks `{text}`',\n",
    "    'classify text {labels}, text `{text}`',\n",
    "    'teks: {text}\\nkelaskan text {labels}',\n",
    "    'classify text {labels}\\n\\nteks: {text}'\n",
    "]\n",
    "\n",
    "patterns_json = [\n",
    "    'teks `{text}`, kelaskan texts {labels} dan pulangkan dalam bentuk JSON {json}',\n",
    "    'kelaskan teks {labels}, bagi dalam bentuk JSON {json}, teks `{text}`',\n",
    "    'classify text {labels}, text `{text}`, return in JSON {json}',\n",
    "    'teks: {text}\\nkelaskan text {labels}, bagi dalam JSON {json}',\n",
    "    'classify text {labels}\\n\\nteks: {text}, return JSON {json}'\n",
    "]\n",
    "\n",
    "\n",
    "translation = []\n",
    "with open('malaysian-dataset-sfw-dedup.jsonl') as fopen:\n",
    "    for l in fopen:\n",
    "        l = json.loads(l)\n",
    "        q = None\n",
    "        o = None\n",
    "        try:\n",
    "\n",
    "            while True:\n",
    "                c = random.randint(0, 1)\n",
    "                c_l = random.randint(0, 1)\n",
    "                if c_l == 0:\n",
    "                    label = random.choice(labels_text)\n",
    "                    o = l['label']\n",
    "                else:\n",
    "                    label = random.choice(labels_ms_text)\n",
    "                    o = labels_ms[l['label']]\n",
    "\n",
    "                if c == 0:\n",
    "                    q = random.choice(patterns).format(text = l['text'], labels = label)\n",
    "                    \n",
    "                else:\n",
    "                    c = random.randint(0, 1)\n",
    "                    if c == 0:\n",
    "                        schema =  \"{'label'}\"\n",
    "                        d = {\n",
    "                            'label': o\n",
    "                        }\n",
    "                    else:\n",
    "                        schema =  \"{'kelas'}\"\n",
    "                        d = {\n",
    "                            'kelas': o\n",
    "                        }\n",
    "                        \n",
    "                    \n",
    "                    q = random.choice(patterns_json).format(text = l['text'], labels = label, json = schema)\n",
    "                    o = json.dumps(d)\n",
    "\n",
    "                if q and o:\n",
    "                    break\n",
    "\n",
    "            translation.append({\n",
    "                'prompt_input': None,\n",
    "                'input': q.strip(),\n",
    "                'output': o.strip(),\n",
    "            })\n",
    "\n",
    "        except Exception as e:\n",
    "            print(e)"
   ]
  },
  {
   "cell_type": "code",
   "execution_count": 27,
   "id": "434f245e",
   "metadata": {
    "scrolled": true
   },
   "outputs": [
    {
     "data": {
      "text/plain": [
       "216052"
      ]
     },
     "execution_count": 27,
     "metadata": {},
     "output_type": "execute_result"
    }
   ],
   "source": [
    "len(translation)"
   ]
  },
  {
   "cell_type": "code",
   "execution_count": 31,
   "id": "482874f6",
   "metadata": {},
   "outputs": [
    {
     "data": {
      "text/plain": [
       "{'prompt_input': None,\n",
       " 'input': \"kelaskan teks {gangguan, kebencian, porno, penyakit psikiatri atau mental, sifat perkauman, penghinaan agama, selamat untuk bekerja, mencederakan diri sendiri, seksis}, bagi dalam bentuk JSON {'label'}, teks `kebanyakan wanita yang mengikut Dajjal kerana tergoda dengan syahwat dunia dan tidak mendahulukan akalnya sebagaimana golongan lelaki.  that is so fruity - treating and thinking men are better than women`\",\n",
       " 'output': '{\"label\": \"seksis\"}'}"
      ]
     },
     "execution_count": 31,
     "metadata": {},
     "output_type": "execute_result"
    }
   ],
   "source": [
    "translation[-3]"
   ]
  },
  {
   "cell_type": "code",
   "execution_count": 32,
   "id": "7305d07f",
   "metadata": {},
   "outputs": [],
   "source": [
    "with open('prepared-synthetic-json-malaysian-nsfw.jsonl', 'w') as fopen:\n",
    "    for t in translation:\n",
    "        fopen.write(f'{json.dumps(t)}\\n')"
   ]
  },
  {
   "cell_type": "code",
   "execution_count": 33,
   "id": "a045e2f9",
   "metadata": {},
   "outputs": [
    {
     "name": "stdout",
     "output_type": "stream",
     "text": [
      "-rw-rw-r-- 1 husein husein 99M Jun   8 18:33 prepared-synthetic-json-malaysian-nsfw.jsonl\r\n"
     ]
    }
   ],
   "source": [
    "!ls -lh prepared-synthetic-json-malaysian-nsfw.jsonl"
   ]
  },
  {
   "cell_type": "code",
   "execution_count": 35,
   "id": "c547d5c9",
   "metadata": {},
   "outputs": [
    {
     "data": {
      "application/vnd.jupyter.widget-view+json": {
       "model_id": "98d8f29faee8448c8c3a2ecb5b8cdc20",
       "version_major": 2,
       "version_minor": 0
      },
      "text/plain": [
       "prepared-synthetic-json-malaysian-nsfw.jsonl:   0%|          | 0.00/104M [00:00<?, ?B/s]"
      ]
     },
     "metadata": {},
     "output_type": "display_data"
    },
    {
     "data": {
      "text/plain": [
       "CommitInfo(commit_url='https://huggingface.co/datasets/mesolitica/malaysian-nsfw-instructions/commit/754c432ffeca32bafa0341a9a86cfc5d2b8b190d', commit_message='Upload prepared-synthetic-json-malaysian-nsfw.jsonl with huggingface_hub', commit_description='', oid='754c432ffeca32bafa0341a9a86cfc5d2b8b190d', pr_url=None, pr_revision=None, pr_num=None)"
      ]
     },
     "execution_count": 35,
     "metadata": {},
     "output_type": "execute_result"
    }
   ],
   "source": [
    "from huggingface_hub import HfApi\n",
    "api = HfApi()\n",
    "api.upload_file(\n",
    "    path_or_fileobj='prepared-synthetic-json-malaysian-nsfw.jsonl',\n",
    "    path_in_repo='prepared-synthetic-json-malaysian-nsfw.jsonl',\n",
    "    repo_id='mesolitica/malaysian-nsfw-instructions',\n",
    "    repo_type='dataset',\n",
    ")"
   ]
  }
 ],
 "metadata": {
  "kernelspec": {
   "display_name": "Python 3 (ipykernel)",
   "language": "python",
   "name": "python3"
  },
  "language_info": {
   "codemirror_mode": {
    "name": "ipython",
    "version": 3
   },
   "file_extension": ".py",
   "mimetype": "text/x-python",
   "name": "python",
   "nbconvert_exporter": "python",
   "pygments_lexer": "ipython3",
   "version": "3.8.10"
  }
 },
 "nbformat": 4,
 "nbformat_minor": 5
}
