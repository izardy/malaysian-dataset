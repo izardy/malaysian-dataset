{
 "cells": [
  {
   "cell_type": "code",
   "execution_count": 2,
   "metadata": {},
   "outputs": [
    {
     "data": {
      "text/plain": [
       "59942"
      ]
     },
     "execution_count": 2,
     "metadata": {},
     "output_type": "execute_result"
    }
   ],
   "source": [
    "import json\n",
    "from tqdm import tqdm\n",
    "from glob import glob\n",
    "import random\n",
    "\n",
    "files = glob('/home/husein/ssd3/camel-ai/*.translated.jsonl')\n",
    "data = []\n",
    "\n",
    "for f in files:\n",
    "    with open(f) as fopen:\n",
    "        for l in fopen:\n",
    "            l = json.loads(l)\n",
    "            if l['message_1_ms'] is None or l['message_2_ms'] is None:\n",
    "                continue\n",
    "            data.append({\n",
    "                'prompt_input': None,\n",
    "                'input': l['message_1_ms'],\n",
    "                'output': l['message_2_ms'],\n",
    "            })\n",
    "        \n",
    "len(data)"
   ]
  },
  {
   "cell_type": "code",
   "execution_count": 4,
   "metadata": {},
   "outputs": [
    {
     "data": {
      "text/plain": [
       "{'prompt_input': None,\n",
       " 'input': 'Bagaimanakah suhu mempengaruhi pembentukan plasma Quark-gluon dalam perlanggaran tenaga tinggi?',\n",
       " 'output': 'Pembentukan Quark-Gluon Plasma (QGP) dalam perlanggaran tenaga tinggi sangat bergantung kepada suhu yang dicapai semasa proses perlanggaran. QGP ialah keadaan jirim di mana kuark dan gluon, juzuk asas proton dan neutron, tidak lagi terkurung dalam zarah individu dan boleh bergerak bebas dalam \"sup\" jirim yang berinteraksi kuat.\\n\\nSuhu kritikal untuk pembentukan QGP dianggarkan sekitar 2 x 10^12 Kelvin (kira-kira 200 MeV). Suhu ini perlu untuk mengatasi daya kuat yang mengikat kuark dan gluon bersama-sama dalam proton dan neutron, membolehkan mereka menjadi tidak terkurung.\\n\\nDalam perlanggaran tenaga tinggi, seperti yang berlaku di Large Hadron Collider (LHC) atau Relativistic Heavy Ion Collider (RHIC), suhu yang dicapai semasa proses perlanggaran adalah penting untuk pembentukan QGP. Apabila ion berat, seperti emas atau nukleus plumbum, berlanggar pada tenaga yang sangat tinggi, ia mewujudkan kawasan dengan suhu dan ketumpatan tenaga yang sangat tinggi. Jika suhu di rantau ini melebihi suhu kritikal, QGP boleh dibentuk.\\n\\nApabila suhu meningkat, kemungkinan pembentukan QGP juga meningkat. Walau bagaimanapun, adalah penting untuk diperhatikan bahawa pembentukan QGP tidak semata-mata bergantung kepada suhu. Faktor lain, seperti ketumpatan tenaga dan tempoh keadaan suhu tinggi, juga memainkan peranan penting dalam pembentukan QGP.\\n\\nSecara ringkasnya, suhu memainkan peranan penting dalam pembentukan Plasma Quark-Gluon dalam perlanggaran tenaga tinggi. Mencapai suhu di atas nilai kritikal adalah perlu untuk penyahkurungan kuark dan gluon, membolehkan mereka membentuk keadaan QGP. Walau bagaimanapun, faktor lain seperti ketumpatan tenaga dan tempoh keadaan suhu tinggi juga menyumbang kepada pembentukan QGP.'}"
      ]
     },
     "execution_count": 4,
     "metadata": {},
     "output_type": "execute_result"
    }
   ],
   "source": [
    "data[-1]"
   ]
  },
  {
   "cell_type": "code",
   "execution_count": 5,
   "metadata": {},
   "outputs": [],
   "source": [
    "import json\n",
    "\n",
    "with open('prepared-camel-ai.jsonl', 'w') as fopen:\n",
    "    for l in data:\n",
    "        fopen.write(f'{json.dumps(l)}\\n')"
   ]
  },
  {
   "cell_type": "code",
   "execution_count": 6,
   "metadata": {},
   "outputs": [
    {
     "name": "stdout",
     "output_type": "stream",
     "text": [
      "{\"prompt_input\": null, \"input\": \"Apakah proses untuk mengenal pasti lektotaip yang betul untuk spesies tertentu dan apakah faktor yang perlu dipertimbangkan dalam memilih spesimen yang betul? Sediakan contoh spesies dan bincangkan cara lektotaip dipilih untuk spesies tertentu itu.\", \"output\": \"Proses mengenal pasti lektotaip yang betul untuk spesies tertentu melibatkan beberapa langkah dan faktor untuk memastikan spesimen yang dipilih mewakili spesies berkenaan dengan tepat. Lektotaip ialah spesimen tunggal yang ditetapkan daripada bahan asal (sintipe) yang digunakan untuk menggambarkan spesies apabila penerangan asal tidak menetapkan holotaip. Tujuan utama memilih lektotaip adalah untuk menyediakan titik rujukan yang stabil untuk nama spesies dan untuk menyelesaikan sebarang kekaburan taksonomi.\\n\\nBerikut ialah langkah dan faktor yang perlu dipertimbangkan semasa mengenal pasti lektotaip yang betul:\\n\\n1. Semak perihalan asal: Langkah pertama ialah menyemak dengan teliti perihalan asal spesies, termasuk sebarang ilustrasi atau rujukan kepada spesimen yang digunakan dalam perihalan. Ini akan membantu untuk memahami maksud pengarang dan ciri-ciri spesies.\\n\\n2. Periksa sytypes: Langkah seterusnya adalah untuk memeriksa sytypes, iaitu spesimen yang digunakan dalam penerangan asal. Spesimen ini harus dikaji secara terperinci untuk menentukan ciri morfologi, data lokaliti dan sebarang maklumat lain yang berkaitan.\\n\\n3. Menilai kualiti spesimen: Apabila memilih lektotaip, adalah penting untuk memilih spesimen yang dalam keadaan baik, mempunyai ciri morfologi yang jelas, dan mewakili spesies. Spesimen juga harus mempunyai data lokaliti yang tepat dan terperinci, kerana maklumat ini penting untuk memahami taburan dan habitat spesies.\\n\\n4. Pertimbangkan konteks sejarah: Adalah penting untuk mempertimbangkan konteks sejarah spesimen, seperti pengumpul, tarikh pengumpulan dan sebarang dokumentasi yang berkaitan. Maklumat ini boleh membantu untuk menentukan ketulenan spesimen dan kaitannya dengan penerangan asal.\\n\\n5. Rujuk Kod Tatanama Zoologi Antarabangsa (ICZN) atau Kod Tatanama Antarabangsa untuk alga, kulat dan tumbuhan (ICN): Kod ini menyediakan garis panduan dan peraturan untuk memilih lektotaip. Mengikuti peraturan ini memastikan bahawa penetapan lektotaip adalah sah dan diterima oleh komuniti saintifik.\\n\\n6. Tentukan lektotaip: Setelah spesimen yang sesuai telah dipilih, penetapan lektotaip hendaklah diterbitkan dalam jurnal saintifik atau penerbitan lain yang sesuai. Penamaan hendaklah mengandungi penerangan terperinci tentang spesimen, lokasinya (cth., muzium atau herbarium), dan sebab pemilihannya.\\n\\nContoh: Pemilihan lektotaip untuk spesies Quercus robur L. (oak Eropah)\\n\\nDalam kes Quercus robur L., penerangan asal oleh Carl Linnaeus dalam karyanya \\\"Species Plantarum\\\" (1753) tidak menunjuk holotype. Sytypes yang digunakan dalam penerangan asal adalah spesimen yang dikumpul dari pelbagai lokasi di Eropah. Untuk memilih lektotaip untuk spesies ini, langkah-langkah berikut telah diambil:\\n\\n1. Penerangan asal telah disemak untuk memahami ciri morfologi dan ciri lain spesies.\\n\\n2. Syntypes telah diperiksa, dan ciri morfologi, data lokaliti, dan maklumat lain yang berkaitan telah dikaji.\\n\\n3. Satu spesimen dengan ciri morfologi yang jelas, keadaan baik, dan data lokaliti yang tepat telah dipilih sebagai lektotaip. Spesimen ini dikumpul dari Sweden, yang berada dalam julat asli spesies tersebut.\\n\\n4. Konteks sejarah spesimen telah dipertimbangkan, termasuk pemungut dan tarikh pengumpulan.\\n\\n5. Garis panduan dan peraturan ICN dipatuhi untuk memastikan penetapan lektotaip adalah sah dan diterima oleh komuniti saintifik.\\n\\n6. Penamaan lektotaip telah diterbitkan dalam jurnal saintifik, termasuk penerangan terperinci tentang spesimen, lokasinya, dan sebab pemilihannya.\\n\\nDengan mengikuti langkah-langkah ini dan mempertimbangkan faktor yang berkaitan, lektotaip yang sesuai telah dipilih untuk Quercus robur L., menyediakan titik rujukan yang stabil untuk nama spesies dan menyelesaikan sebarang kekaburan taksonomi.\"}\r\n"
     ]
    }
   ],
   "source": [
    "!head -n 1 prepared-camel-ai.jsonl"
   ]
  },
  {
   "cell_type": "code",
   "execution_count": 1,
   "metadata": {},
   "outputs": [
    {
     "name": "stdout",
     "output_type": "stream",
     "text": [
      "59942 prepared-camel-ai.jsonl\r\n"
     ]
    }
   ],
   "source": [
    "!wc -l prepared-camel-ai.jsonl"
   ]
  }
 ],
 "metadata": {
  "kernelspec": {
   "display_name": "Python 3 (ipykernel)",
   "language": "python",
   "name": "python3"
  },
  "language_info": {
   "codemirror_mode": {
    "name": "ipython",
    "version": 3
   },
   "file_extension": ".py",
   "mimetype": "text/x-python",
   "name": "python",
   "nbconvert_exporter": "python",
   "pygments_lexer": "ipython3",
   "version": "3.8.10"
  }
 },
 "nbformat": 4,
 "nbformat_minor": 4
}
