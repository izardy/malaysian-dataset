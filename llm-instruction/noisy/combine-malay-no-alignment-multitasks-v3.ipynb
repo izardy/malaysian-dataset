{
 "cells": [
  {
   "cell_type": "code",
   "execution_count": 1,
   "id": "4504ab68",
   "metadata": {},
   "outputs": [],
   "source": [
    "from glob import glob\n",
    "import json\n",
    "import random\n",
    "from tqdm import tqdm"
   ]
  },
  {
   "cell_type": "code",
   "execution_count": 2,
   "id": "83e6c13b",
   "metadata": {},
   "outputs": [],
   "source": [
    "fopen_l = open('combine-malay-multitasks-partial-ultrachat-v3.jsonl', 'w')"
   ]
  },
  {
   "cell_type": "code",
   "execution_count": 3,
   "id": "0e512372",
   "metadata": {},
   "outputs": [],
   "source": [
    "rejected = [\n",
    "    'help.openai.com',\n",
    "    'openassistant'\n",
    "]\n",
    "\n",
    "break_at = [\n",
    "    'help.openai.com',\n",
    "    'openai',\n",
    "    'cannot have personal opinions',\n",
    "    's an ai language model',\n",
    "    \"i'm sorry\",\n",
    "    'many factors',\n",
    "    'lgbt',\n",
    "    'lesbian',\n",
    "    'gender-neutral',\n",
    "    'remain neutral',\n",
    "    'without bias',\n",
    "    'and neutral',\n",
    "    'more inclusive',\n",
    "    'neutrality',\n",
    "    'non-bias',\n",
    "    'discrimination',\n",
    "    'avoid any forms of discrimination',\n",
    "    'regardless of their gender',\n",
    "    'inclusive and tolerant environment',\n",
    "    'have personal views',\n",
    "    'sexual orientation should be a top priority',\n",
    "    's an objective ai',\n",
    "    'avoid any forms of prejudice or hate',\n",
    "    'regardless of their personal',\n",
    "    'you understand this direction',\n",
    "    'tolerant environment within ai',\n",
    "    'cannot express my',\n",
    "    'requires more context',\n",
    "    'personal opinion',\n",
    "    'have updated information',\n",
    "    \"don't have personal experiences\",\n",
    "    'there is no information',\n",
    "    'tidak mempunyai akses kepada data atau maklumat',\n",
    "    '10 april 2021',\n",
    "    'ebagai model bahasa AI',\n",
    "    'model bahasa AI',\n",
    "    'mempunyai kepercayaan atau pendapat peribadi',\n",
    "    'tidak mempunyai pendapat peribadi',\n",
    "    'tidak mempunyai kepercayaan',\n",
    "    'tidak mempunyai falsafah peribadi',\n",
    "    'tidak mempunyai pengalaman peribadi',\n",
    "    'tidak mempunyai pendapat atau pengalaman peribadi',\n",
    "    'tidak mempunyai maklumat terkini',\n",
    "    'tidak mempunyai emosi peribadi',\n",
    "    'tidak mempunyai keutamaan',\n",
    "    'saya tidak mempunyai akses',\n",
    "    'tidak mempunyai pengalaman',\n",
    "    'saya tidak mempunyai keupayaan',\n",
    "    'tidak mempunyai keupayaan',\n",
    "    'tidak mempunyai hubungan',\n",
    "    'tidak mempunyai maklumat',\n",
    "    'Saya tidak mempunyai',\n",
    "    'Saya tidak pernah',\n",
    "    'saya tidak dapat memahami jawapan'\n",
    "]\n",
    "\n",
    "def accept(d, min_len = 10):\n",
    "    if 'terjemahkan teks' in d.lower():\n",
    "        return False\n",
    "\n",
    "    if 'no need to translate' in d.lower():\n",
    "        return False\n",
    "\n",
    "    if 'can be translated' in d.lower():\n",
    "        return False\n",
    "\n",
    "    if 'cannot translate' in d.lower():\n",
    "        return False\n",
    "\n",
    "    if 'should be translated to' in d.lower():\n",
    "        return False\n",
    "\n",
    "    if 'cannot be translated' in d.lower():\n",
    "        return False\n",
    "\n",
    "    if 'standard malay' in d.lower():\n",
    "        return False\n",
    "\n",
    "    if 'would not be translated' in d.lower():\n",
    "        return False\n",
    "\n",
    "    if 'as an AI language model' in d:\n",
    "        return False\n",
    "\n",
    "    if 'should be translated as' in d.lower():\n",
    "        return False\n",
    "\n",
    "    if 'Bahasa Malaysia Standard' in d:\n",
    "        return False\n",
    "    \n",
    "    if 'Saya adalah model AI' in d:\n",
    "        return False\n",
    "    \n",
    "    if 'saya model AI' in d:\n",
    "        return False\n",
    "    \n",
    "    if 'Saya model AI' in d:\n",
    "        return False\n",
    "    \n",
    "    if 'sebagai model AI' in d:\n",
    "        return False\n",
    "    \n",
    "    if 'Sebagai model AI' in d:\n",
    "        return False\n",
    "    \n",
    "    if 'model bahasa AI' in d:\n",
    "        return False\n",
    "    \n",
    "    if 'model AI yang dibangunkan' in d:\n",
    "        return False\n",
    "    \n",
    "    if d == '<s>':\n",
    "        return False\n",
    "    \n",
    "    if 'tidak dapat memberikan maklumat' in d:\n",
    "        return False\n",
    "    \n",
    "    if 'Sebagai model bahasa' in d:\n",
    "        return False\n",
    "    \n",
    "    if any([r in d.lower() for r in rejected]):\n",
    "        return False\n",
    "    \n",
    "    if any([r in d.lower() for r in break_at]):\n",
    "        return False\n",
    "    \n",
    "    if len(d.split()) < min_len:\n",
    "        return False\n",
    "    \n",
    "    return True"
   ]
  },
  {
   "cell_type": "code",
   "execution_count": 4,
   "id": "6f6cf749",
   "metadata": {},
   "outputs": [
    {
     "name": "stderr",
     "output_type": "stream",
     "text": [
      "749797it [00:08, 83645.62it/s] \n"
     ]
    }
   ],
   "source": [
    "all_data = []\n",
    "with open('/home/husein/ssd3/one-for-all/jawi-rumi.jsonl') as fopen:\n",
    "    for l in tqdm(fopen):\n",
    "        l = json.loads(l)\n",
    "        all_data.append(l)\n",
    "        \n",
    "for data in random.sample(all_data, 10000):\n",
    "    fopen_l.write(f'{json.dumps(data)}\\n')\n",
    "    fopen_l.flush()"
   ]
  },
  {
   "cell_type": "code",
   "execution_count": 5,
   "id": "da5b79d9",
   "metadata": {},
   "outputs": [
    {
     "name": "stdout",
     "output_type": "stream",
     "text": [
      "{\"prompt_input\": null, \"input\": \"tukar ke rumi: \\u0642\\u0648\\u0627\\u0645\\u0645\\u0631\\u0648\\u062f\\u062f\\u064a\\u0646 \\u0646\\u0627\\u06ac\\u0631 \\u0627\\u064a\\u0627\\u0644\\u0647 \\u0633\\u0628\\u0648\\u0627\\u0647 \\u0628\\u0646\\u062f\\u0631 \\u0628\\u0646\\u0686\\u064a \\ufd3f \\u0686\\u0646\\u0633\\u0648\\u0633 \\u062a\\u0648\\u0648\\u0646 \\ufd3e \\u062f\\u0627\\u0644\\u0645 \\u062f\\u0627\\u064a\\u0631\\u0647 \\u0648\\u064a\\u0633\\u062a \\u062f \\u0646\\u06ac\\u0631\\u064a \\u062f\\u064a\\u0644\\u0647\\u064a\\u060c \\u0627\\u064a\\u0646\\u062f\\u064a\\u0627. \\u062f\\u064a\\u0645\\u0648\\u06ac\\u0631\\u0627\\u0641\\u064a\\u0642 \\u0662\\u0660\\u0660\\u0661. \\u0645\\u0646\\u0648\\u0631\\u0648\\u062a \\u0628\\u0646\\u0686\\u064a\\u0646 \\u0627\\u064a\\u0646\\u062f\\u064a\\u0627 \\u06a4\\u062f \\u062a\\u0627\\u0647\\u0648\\u0646 \\u0662\\u0660\\u0660\\u0661\\u060c \\u0642\\u0648\\u0627\\u0645\\u0645\\u0631\\u0648\\u062f\\u062f\\u064a\\u0646 \\u0646\\u0627\\u06ac\\u0631 \\u0645\\u0645\\u064a\\u0644\\u064a\\u0642\\u064a \\u0628\\u064a\\u0644\\u06a0\\u0646 \\u06a4\\u0646\\u062f\\u0648\\u062f\\u0648\\u0642 \\u0633\\u0631\\u0627\\u0645\\u0627 \\u0661\\u0660\\u060c\\u0662\\u0664\\u0660. \\u062f\\u0631\\u064a \\u062c\\u0648\\u0645\\u0644\\u0647 \\u062a\\u0631\\u0633\\u0628\\u0648\\u062a\\u060c \\u0642\\u0648\\u0645 \\u0644\\u0644\\u0627\\u0643\\u064a \\u0645\\u0645\\u0628\\u0646\\u062a\\u0648\\u0642 \\u0665\\u0665 \\u062f\\u0631\\u064a \\u062c\\u0648\\u0645\\u0644\\u0647 \\u0643\\u0633\\u0644\\u0648\\u0631\\u0648\\u0647\\u0646 \\u06a4\\u0648\\u06a4\\u0648\\u0644\\u0633\\u064a \\u062f\\u0627\\u0646 \\u0648\\u0627\\u0646\\u064a\\u062a\\u0627 \\u0633\\u0631\\u0627\\u0645\\u0627 \\u0664\\u0665 . \\u06a4\\u0646\\u062f\\u064a\\u062f\\u064a\\u0642\\u0646 \\u0662\\u0660\\u0660\\u0661. \\u0645\\u0646\\u0648\\u0631\\u0648\\u062a \\u0628\\u0646\\u0686\\u064a\\u0646 \\u0627\\u064a\\u0646\\u062f\\u064a\\u0627 \\u06a4\\u062f \\u062a\\u0627\\u0647\\u0648\\u0646 \\u0662\\u0660\\u0660\\u0661 \\u0642\\u0648\\u0627\\u0645\\u0645\\u0631\\u0648\\u062f\\u062f\\u064a\\u0646 \\u0646\\u0627\\u06ac\\u0631 \\u0645\\u0645\\u064a\\u0644\\u064a\\u0642\\u064a \\u0642\\u062f\\u0631 \\u06a4\\u0646\\u062f\\u064a\\u062f\\u064a\\u0642\\u0646 \\ufd3f\\u0643\\u0628\\u0648\\u0644\\u064a\\u0647\\u0646 \\u0645\\u0645\\u0628\\u0627\\u0686\\ufd3e \\u0666\\u0667 \\u060c \\u0645\\u0644\\u0628\\u064a\\u0647\\u064a \\u0642\\u062f\\u0631 \\u06a4\\u0648\\u0631\\u0627\\u062a\\u0627 \\u0643\\u0628\\u06a0\\u0633\\u0623\\u0646 \\u0665\\u0669.\\u0665 ; \\u062f\\u06a0\\u0646 \\u0666\\u0661 \\u0644\\u0644\\u0627\\u0643\\u064a \\u062f\\u0627\\u0646 \\u0663\\u0669 \\u0648\\u0627\\u0646\\u064a\\u062a\\u0627 \\u0645\\u0645\\u06a4\\u0648 \\u0645\\u0645\\u0628\\u0627\\u0686. \\u0661\\u0667 \\u062f\\u0631\\u064a \\u06a4\\u0648\\u06a4\\u0648\\u0644\\u0633\\u064a \\u0628\\u0631\\u0648\\u0633\\u064a\\u0627 \\u062f\", \"output\": \"Quammruddin Nagar ialah sebuah bandar banci ( census town ) dalam daerah West di negeri Delhi, India. Demografik 2001. Menurut bancian India pada tahun 2001, Quammruddin Nagar memiliki bilangan penduduk seramai 10,240. Dari jumlah tersebut, kaum lelaki membentuk 55 dari jumlah keseluruhan populasi dan wanita seramai 45 . Pendidikan 2001. Menurut bancian India pada tahun 2001 Quammruddin Nagar memiliki kadar pendidikan (kebolehan membaca) 67 , melebihi kadar purata kebangsaan 59.5 ; dengan 61 lelaki dan 39 wanita mampu membaca. 17 dari populasi berusia di\"}\r\n"
     ]
    }
   ],
   "source": [
    "!tail -n 1 combine-malay-multitasks-partial-ultrachat-v3.jsonl"
   ]
  },
  {
   "cell_type": "code",
   "execution_count": 6,
   "id": "cd18a3e2",
   "metadata": {},
   "outputs": [
    {
     "name": "stderr",
     "output_type": "stream",
     "text": [
      "749797it [00:08, 85988.56it/s] \n"
     ]
    }
   ],
   "source": [
    "all_data = []\n",
    "with open('/home/husein/ssd3/one-for-all/rumi-jawi.jsonl') as fopen:\n",
    "    for l in tqdm(fopen):\n",
    "        l = json.loads(l)\n",
    "        all_data.append(l)\n",
    "        \n",
    "for data in random.sample(all_data, 10000):\n",
    "    fopen_l.write(f'{json.dumps(data)}\\n')\n",
    "    fopen_l.flush()"
   ]
  },
  {
   "cell_type": "code",
   "execution_count": 7,
   "id": "132887b3",
   "metadata": {},
   "outputs": [
    {
     "name": "stdout",
     "output_type": "stream",
     "text": [
      "{\"prompt_input\": null, \"input\": \"tukar ke jawi: Ranah Batahan merupakan sebuah kecamatan di Kabupaten Pasaman Barat, Sumatera Barat, Indonesia.\", \"output\": \"\\u0631\\u0627\\u0646\\u0647 \\u0628\\u0627\\u062a\\u0647\\u0646 \\u0645\\u0631\\u0648\\u06a4\\u0627\\u0643\\u0646 \\u0633\\u0628\\u0648\\u0627\\u0647 \\u0643\\u0686\\u0627\\u0645\\u062a\\u0646 \\u062f \\u0643\\u0627\\u0628\\u0648\\u06a4\\u0627\\u062a\\u064a\\u0646 \\u06a4\\u0627\\u0633\\u0645\\u0646 \\u0628\\u0627\\u0631\\u062a\\u060c \\u0633\\u0648\\u0645\\u062a\\u0631\\u0627 \\u0628\\u0627\\u0631\\u062a\\u060c \\u0625\\u0646\\u062f\\u0648\\u0646\\u064a\\u0633\\u064a\\u0627.\"}\r\n"
     ]
    }
   ],
   "source": [
    "!tail -n 1 combine-malay-multitasks-partial-ultrachat-v3.jsonl"
   ]
  },
  {
   "cell_type": "code",
   "execution_count": 8,
   "id": "f490bcae",
   "metadata": {},
   "outputs": [
    {
     "name": "stderr",
     "output_type": "stream",
     "text": [
      "38760it [00:00, 90408.16it/s] \n"
     ]
    }
   ],
   "source": [
    "all_data = []\n",
    "with open('prepared-mixtral-malaysian-abstractive-summarization.jsonl') as fopen:\n",
    "    for l in tqdm(fopen):\n",
    "        l = json.loads(l)\n",
    "        all_data.append(l)\n",
    "        \n",
    "for data in random.sample(all_data, 10000):\n",
    "    fopen_l.write(f'{json.dumps(data)}\\n')\n",
    "    fopen_l.flush()"
   ]
  },
  {
   "cell_type": "code",
   "execution_count": 9,
   "id": "d98b401e",
   "metadata": {},
   "outputs": [
    {
     "name": "stdout",
     "output_type": "stream",
     "text": [
      "{\"prompt_input\": null, \"input\": \"summarize: Pakatan still alive and kicking, says Kit Siang   By \\nBoo Su-Lyn\\n\\nNovember 30, 2010\\n\\nThe Malaysian Insider\\n\\n\\nKUALA LUMPUR, Nov 30 \\u2014 DAP adviser Lim Kit Siang has proclaimed Pakatan Rakyat (PR) to be alive and kicking despite internal strife wracking its component parties.\\n\\n\\nPKR\\u2019s recently-concluded direct polls were plagued with allegations of vote rigging that were mostly highlighted by the losers in the election, while Selangor DAP went through one of its most divisive elections last weekend.\\n\\n\\n\\u201cWe are more than alive and kicking and we propose to go forward in our political struggle for Malaysia,\\u201d said Lim in his closing speech at the PR mentris besar and chief ministers summit in Shah Alam yesterday.\\n\\n\\n\\n\\u201cAccording to the mainstream media, there are negative reports about what is happening in Pakatan component parties, and that we are neither dead nor alive,\\u201d he added.\\n\\n\\nLim stressed that it was crucial to acknowledge the drop in public confidence towards the opposition coalition.\\n\\n\\n\\u201cWe do not deny that lately, we have faced problems. like a crisis in public confidence towards us. We have to admit this to turn around our political situation,\\u201d said the Ipoh Timur MP.\\n\\n\\n\\u201cThis summit is important for a turnaround of Pakatan to restore our political momentum for change,\\u201d he added.\\n\\n\\nYesterday, Penang Chief Minister Lim Guan Eng had told PR state leaders to stop acting as the opposition in governing states under their control.\\n\\n\\nLim said PR leaders needed to change their mindsets and focus on administering their respective states well, amid intense speculation that Prime Minister Datuk Seri Najib Razak may call for snap polls as early as the first quarter of next year.\\n\\n\\nKit Siang further rallied PR leaders to not only retain their states in the upcoming general election, but also to capture other states.\\n\\n\\n\\u201cMore importantly, we must go on the offensive. Johor, Negri Sembilan, Pahang, Sabah and Sarawak must be our frontline states in the next general election,\\u201d said Kit Siang.\\n\\n\\nBarisan Nasional (BN) for the first time lost its two-thirds majority in Parliament in 2008. The loose opposition pact of PKR, DAP and PAS won four more states \\u2014 Selangor, Penang, Kedah and Perak \\u2014 as well as 82 parliamentary seats.\\n\\n\\nToday, Kit Siang claimed that the only way for Umno to \\u201creform\\u201d was for the country\\u2019s largest Malay party to be booted out into the opposition.\\n\\n\\n\\u201cNajib has said Umno will reform. But the only way for Umno to reform is. by sending Umno into the opposition in the next general election,\\u201d he added.\\n\\n\\nGuan Eng, who is DAP secretary-general, also underscored the importance of wooing civil servants in PR\\u2019s efforts to run the state.\\n\\n\\nThe Malaysian Insider understands that 30 per cent (420,000) of the 1.2 million in the country\\u2019s government service are not registered as voters.\\n\\n\\nThis segment, should they be registered, would be significant in whether BN or PR would form the next administration.\\n\\n\\nRecently however, Kit Siang warned Selangor DAP that PR might lose Selangor in the next general election if it was not united, reminding the state party convention to learn from PAS\\u2019s 2004 loss in Terengganu.\\n\\n\\nPAS had lost Terengganu in a 4-28 sweep by Umno and BN, reversing its 28-4 victory in the 1999 general election, he said.\\n\\n\\nMeanwhile, PKR\\u2019s fractious polls had culminated with the exit of Datuk Zaid Ibrahim from the deputy presidential race and his resignation from the party.\\n\\n\\nHe had accused the party leadership of condoning electoral fraud and malpractices.\\n\\n\\n\\u201cOnly when there is a change of government, can we see a new Malaysia,\\u201d said Kit Siang today.\\n\\n\\n\\u201cThe next election will be a very important point in the history of Malaysia. when a change of government is accepted as a normal democratic process,\\u201d he added.   This entry was posted on Tuesday, 30 November 2010, 10:59 am and is filed under \\nDAP\\n, \\nPakatan Rakyat\\n. You can follow any responses to this entry through \\nRSS 2.0\\n.\", \"output\": \"Penasihat DAP Lim Kit Siang telah menyatakan bahawa Pakatan Rakyat (PR) \\\"hidup dan menendang\\\" walaupun terdapat perbalahan dalaman, dan bahawa adalah penting bagi pakatan pembangkang untuk mengakui penurunan keyakinan orang ramai terhadapnya. Beliau membuat komen itu pada sidang kemuncak mentris Besar dan ketua menteri PR di Shah Alam. Lim juga menggesa pemimpin PR mengubah minda mereka dan menumpukan kepada pentadbiran negeri masing-masing dengan baik, dan bukan sahaja mengekalkan negeri mereka pada pilihan raya umum akan datang tetapi juga menawan negeri lain. Beliau mendakwa bahawa satu-satunya cara untuk Umno \\\"membaharui\\\" adalah untuk parti itu diundi daripada kuasa pada pilihan raya umum akan datang.\"}\r\n"
     ]
    }
   ],
   "source": [
    "!tail -n 1 combine-malay-multitasks-partial-ultrachat-v3.jsonl"
   ]
  },
  {
   "cell_type": "code",
   "execution_count": 10,
   "id": "91716708",
   "metadata": {},
   "outputs": [
    {
     "name": "stderr",
     "output_type": "stream",
     "text": [
      "799733it [00:27, 28774.38it/s]\n",
      "740431it [00:28, 25759.86it/s]\n",
      "0it [00:00, ?it/s]\n",
      "333758it [00:13, 24661.23it/s]\n",
      "2187464it [00:46, 46856.11it/s]\n",
      "141851it [00:02, 62387.54it/s]\n",
      "631727it [00:18, 34396.85it/s]\n",
      "1699454it [00:28, 60231.32it/s]\n",
      "799731it [00:27, 29334.06it/s]\n",
      "2496675it [00:54, 46149.78it/s]\n",
      "0it [00:00, ?it/s]\n",
      "1036411it [00:21, 47702.58it/s]\n"
     ]
    }
   ],
   "source": [
    "# git lfs clone https://huggingface.co/datasets/mesolitica/noisy-standard-malay-translation-instructions\n",
    "# git lfs clone https://huggingface.co/datasets/mesolitica/standard-malay-translation-instructions\n",
    "\n",
    "translation_files = glob('/home/husein/ssd3/translation/*-instructions.jsonl')\n",
    "for f in translation_files:\n",
    "    all_data = []\n",
    "    with open(f) as fopen:\n",
    "        for l in tqdm(fopen):\n",
    "            data = json.loads(l)\n",
    "            try:\n",
    "                if not accept(data['input']):\n",
    "                    continue\n",
    "                if not accept(data['output'], min_len = 1):\n",
    "                    continue\n",
    "                all_data.append(data)\n",
    "            except:\n",
    "                pass\n",
    "    \n",
    "    all_data = random.sample(all_data, min(len(all_data), 10000))\n",
    "    for data in all_data:\n",
    "        fopen_l.write(f'{json.dumps(data)}\\n')\n",
    "        fopen_l.flush()"
   ]
  },
  {
   "cell_type": "code",
   "execution_count": 11,
   "id": "7f7d3fb8",
   "metadata": {},
   "outputs": [
    {
     "name": "stdout",
     "output_type": "stream",
     "text": [
      "{\"prompt_input\": null, \"input\": \"terjemah ke bahasa melayu `chey go pubs for nite out alone lor`\", \"output\": \"Dia pergi ke pub untuk keluar malam seorang diri, walaupun.\"}\r\n"
     ]
    }
   ],
   "source": [
    "!tail -n 1 combine-malay-multitasks-partial-ultrachat-v3.jsonl"
   ]
  },
  {
   "cell_type": "code",
   "execution_count": 12,
   "id": "4a9371ff",
   "metadata": {},
   "outputs": [],
   "source": [
    "options = ['A.', 'B.', 'C.', 'D.']\n",
    "options2 = ['A', 'B', 'C', 'D']\n",
    "def rejected_output(q, a):\n",
    "    q_, a_ = [], []\n",
    "    for o in options:\n",
    "        q_.append(o in q)\n",
    "    for o in options2:\n",
    "        a_.append(o in a)\n",
    "    return sum(a_) > 1 or sum(q_) < 4"
   ]
  },
  {
   "cell_type": "code",
   "execution_count": 13,
   "id": "521e5887",
   "metadata": {},
   "outputs": [
    {
     "name": "stdout",
     "output_type": "stream",
     "text": [
      "prepared-chatgpt-malaysian-general-qa.jsonl\n",
      "prepared-chatgpt4-malaysian-general-qa.jsonl\n",
      "prepared-chatgpt-malaysian-open-qa.jsonl\n",
      "prepared-chatgpt4-noisy-translation.jsonl\n",
      "prepared-mixtral-malaysian-general-qa.jsonl\n"
     ]
    }
   ],
   "source": [
    "files = [\n",
    "    'prepared-chatgpt-malaysian-general-qa.jsonl',\n",
    "    'prepared-chatgpt4-malaysian-general-qa.jsonl',\n",
    "    'prepared-chatgpt-malaysian-open-qa.jsonl',\n",
    "    'prepared-chatgpt4-noisy-translation.jsonl',\n",
    "    'prepared-mixtral-malaysian-general-qa.jsonl',\n",
    "]\n",
    "\n",
    "for f in files:\n",
    "    print(f)\n",
    "    with open(f) as fopen:\n",
    "        for l in fopen:\n",
    "            try:\n",
    "                data = json.loads(l)\n",
    "                if not accept(data['input']):\n",
    "                    continue\n",
    "                if not accept(data['output'], min_len = 1):\n",
    "                    continue\n",
    "                fopen_l.write(f'{json.dumps(data)}\\n')\n",
    "                fopen_l.flush()\n",
    "            except Exception as e:\n",
    "                pass"
   ]
  },
  {
   "cell_type": "code",
   "execution_count": 14,
   "id": "74f86da2",
   "metadata": {},
   "outputs": [
    {
     "name": "stdout",
     "output_type": "stream",
     "text": [
      "756594 combine-malay-multitasks-partial-ultrachat-v3.jsonl\r\n"
     ]
    }
   ],
   "source": [
    "!wc -l combine-malay-multitasks-partial-ultrachat-v3.jsonl"
   ]
  },
  {
   "cell_type": "code",
   "execution_count": 15,
   "id": "5fb56b4d",
   "metadata": {},
   "outputs": [
    {
     "name": "stdout",
     "output_type": "stream",
     "text": [
      "prepared-kertas-1.jsonl\n",
      "'NoneType' object has no attribute 'strip'\n",
      "'NoneType' object has no attribute 'strip'\n",
      "'NoneType' object has no attribute 'strip'\n",
      "'NoneType' object has no attribute 'strip'\n",
      "'NoneType' object has no attribute 'strip'\n",
      "prepared-synthetic-commonsense.jsonl\n",
      "prepared-kesalahan-tatabahasa.jsonl\n",
      "prepared-malaysian-qa-choice.jsonl\n"
     ]
    }
   ],
   "source": [
    "files = [\n",
    "    'prepared-kertas-1.jsonl',\n",
    "    'prepared-synthetic-commonsense.jsonl',\n",
    "    'prepared-kesalahan-tatabahasa.jsonl',\n",
    "    'prepared-malaysian-qa-choice.jsonl',\n",
    "]\n",
    "\n",
    "for f in files:\n",
    "    print(f)\n",
    "    with open(f) as fopen:\n",
    "        for l in fopen:\n",
    "            try:\n",
    "                data = json.loads(l)\n",
    "                if not accept(data['input']):\n",
    "                    continue\n",
    "                if not len(data['output'].strip()):\n",
    "                    continue\n",
    "                if rejected_output(data['input'], data['output']):\n",
    "                    continue\n",
    "                fopen_l.write(f'{json.dumps(data)}\\n')\n",
    "                fopen_l.flush()\n",
    "            except Exception as e:\n",
    "                print(e)\n",
    "                pass"
   ]
  },
  {
   "cell_type": "code",
   "execution_count": 16,
   "id": "2f43a003",
   "metadata": {},
   "outputs": [
    {
     "name": "stdout",
     "output_type": "stream",
     "text": [
      "{\"prompt_input\": null, \"input\": \"Degup Denyut Anak Malaysia Menyambut Hari Kemerdekaan\\n\\nUntuk mendapatkan maklumat terkini, ikuti kami melalui Telegram\\nPutrajaya \\u2013\\u00a0Kementerian Pelancongan, Seni dan Budaya (MOTAC) dengan kerjasama Perpustakaan Negara Malaysia (PNM) menganjurkan Program Bicara Malaysiana: Degup Denyut Anak Malaysia yang berlangsung di Menara PNM dan secara dalam talian melalui Youtube PNM.\\nTokoh sejarawan negara yang dijemput untuk membuat perkongsian dalam sesi ini ialah YBhg. Profesor Emeritus Datuk Dr. Abdullah Zakaria Ghazali, Felow\\u00a0Persatuan Sejarah Malaysia dan YBrs. Profesor Madya Dr. Zulkarnain Abdul Rahman, Ketua Jabatan Sejarah, Fakulti Sastera dan Sains Sosial, Universiti Malaya (UM) sebagai moderator.\\nProgram tersebut diadakan bersempena bulan kemerdekaan bagi menghargai segala jerih perih nenek moyang dalam membangunkan watan ini. YBhg. Profesor Emeritus Datuk Dr. Abdullah Zakaria telah menghasilkan karya beberapa karya, seperti Institusi Raja Melayu dalam Lipatan Sejarah Malaysia; Penerusan dan Perubahan, Pemberontakan Bersenjata 1948-1960 dan Republik Rakyat Malaya, Merungkai Cita dan Hasrat Sebenar Parti Komunis Malaya.\\nBeliau menegaskan bahawa tarikh 31 Ogos 1957 merupakan hari apabila raja tidak lagi menuntut kedaulatan terhadap Tanah Melayu, dan merupakan satu tarikh tanah air dibebaskan daripada penjajah. Tarikh keramat itu juga dicatat dengan jelas dalam Perlembagaan Persekutuan yang digubal dalam bahasa Inggeris sebagai Merdeka Day\\u00a0dan setelah terbentuknya Malaysia pada 16 September 1963, termaktub pula dalam Perlembagaan Persekutuan sebagai Malaysia Day.\\nSetiap rakyat digesa untuk mengingati dan mengenang perjuangan nenek moyang dahulu dalam menegakkan maruah, jati diri dan kedaulatan negara.\\nDalam pemilihan tarikh kemerdekaan, beliau\\u00a0memaklumkan bahawa tarikh tersebut adalah dipilih oleh seorang ulama, Abdullah Ahim. Pada tahun 1980-an, rakyat pernah mempersoalkan tentang sebab dikekalkan saki-baki penjajah di tanah air dan beliau berpendapat hal tersebut merupakan satu bukti bahawa orang Melayu pernah menentang Portugis.\\nKemudiannya, YBhg. Profesor Emeritus Datuk Dr. Abdullah Zakaria turut berkongsi bahawa rombongan kemerdekaan dari Lapangan Terbang Sungai Besi ke Singapura dan ke Pelabuhan Tanjung Pagar ke Karachi, kemudian ke Kaherah dan seterusnya ke London telah mengambil masa selama dua minggu. Tuanku Abdul Rahman, Tun Abdul Razak, Tun Dr. Ismail, T.H. Tan, H.S. Lee, Dato\\u2019 Nik Ahmad Kamil, Datuk Ahmad Aziz dan Abdul Kader menaiki kapal M.V. Asia dari Singapura, manakala Dato\\u2019 Mohd. Seth dan Dato\\u2019 Panglima Bukit Gantang Haji Abdul Wahab Toh Muda Abdul Aziz bertolak ke London menaiki kapal terbang.\\nDalam catatan Tuanku Abdul Rahman, beliau memilih jalan yang mengambil tempoh yang lama dan panjang kerana beliau memerlukan masa untuk berunding dan berbincang supaya keputusan yang dibuat setibanya di Kota London tidak bercanggah. Walaupun perbincangan dan rundingan tersebut dibuat dengan disertai oleh Raja-Raja Melayu sebelum perjalanan ke London bermula, proses tersebut amat penting bagi delegasi dari Tanah Melayu kekal sehati sejiwa dalam berhujah. Hal ini membuktikan bahawa Raja-Raja Melayu terlibat aktif ke arah mencapai kemerdekaan negara walaupun tidak berada di lapangan.\\nRombongan kemerdekaan itu tiba di London pada 13 Februari 1956 dan mula berunding pada 18 Februari dan terhasilnya pernyataan yang ditandatangani oleh mereka yang terlibat dalam mesyuarat tersebut serta penubuhan Suruhanjaya Perlembagaan Tanah Melayu. Walaupun berhadapan dengan cabaran kewangan, rakyat Tanah Melayu sentiasa mempunyai semangat yang kuat untuk membebaskan tanah air mereka sehingga seorang tokoh wanita pernah berkongsi bahawa, \\u201ckami menanggalkan subang di telinga, kami membuka rantai di leher, kami meloloskan cincin di jari manis, kami membuka gelang di tangan demi satu kebebasan.\\u201d Dengan semangat dan jati diri \\u201cTanah Airku Tanah Melayu\\u201d, rombongan tersebut berjaya mengumpul dana dan bertolak ke London bagi meneruskan rundingan kemerdekaan.\\nYBhg. Profesor Emeritus Datuk Dr. Abdullah Zakaria membahas tentang perjuangan kemerdekaan, beliau menceritakan pengorbanan dan perjuangan melalui perubahan dari tenaga fizikal oleh pejuang\\u00a0tanah air seperti Rentap, Mat Kilau, Tok Gajah dan lain-lain menitis darah dan air mata ke tenaga otak,\\u00a0iaitu melalui rundingan.\\nHal ini membuktikan bahawa kemerdekaan Tanah Melayu bukanlah diperoleh melalui rundingan semata-mata, malah turut melalui perjuangan pahlawan tanah air yang terus berjuang menentang penjajah ke arah mendapatkan kemerdekaan yang dinikmati rakyat Malaysia hari ini.\\n\\nApakah perjuangan yang dilalui oleh pejuang tanah air untuk mencapai kemerdekaan?\\nA. Melalui tenaga otak\\nB. Melalui rundingan\\nC. Melalui perang bersenjata\\nD. Melalui penjajahan\", \"output\": \"B\"}\r\n"
     ]
    }
   ],
   "source": [
    "!tail -n 1 combine-malay-multitasks-partial-ultrachat-v3.jsonl"
   ]
  },
  {
   "cell_type": "code",
   "execution_count": 17,
   "id": "1a5dd897",
   "metadata": {},
   "outputs": [
    {
     "name": "stdout",
     "output_type": "stream",
     "text": [
      "prepared-chatgpt-malay-instructions.jsonl\n",
      "prepared-chatgpt4-code-instruct.jsonl\n",
      "prepared-camel-ai.jsonl\n",
      "prepared-NSText2SQL.jsonl\n"
     ]
    }
   ],
   "source": [
    "files = [\n",
    "    'prepared-chatgpt-malay-instructions.jsonl',\n",
    "    'prepared-chatgpt4-code-instruct.jsonl',\n",
    "    'prepared-camel-ai.jsonl',\n",
    "    'prepared-NSText2SQL.jsonl'\n",
    "]\n",
    "\n",
    "for f in files:\n",
    "    print(f)\n",
    "    with open(f) as fopen:\n",
    "        for l in fopen:\n",
    "            try:\n",
    "                data = json.loads(l)\n",
    "                if not accept(data['input']):\n",
    "                    continue\n",
    "                if not accept(data['output']):\n",
    "                    continue\n",
    "                fopen_l.write(f'{json.dumps(data)}\\n')\n",
    "                fopen_l.flush()\n",
    "            except:\n",
    "                pass"
   ]
  },
  {
   "cell_type": "code",
   "execution_count": 18,
   "id": "2272c7b1",
   "metadata": {},
   "outputs": [
    {
     "name": "stdout",
     "output_type": "stream",
     "text": [
      "{\"prompt_input\": null, \"input\": \"table definition `CREATE TABLE Reservations (\\n    Code INTEGER,\\n    Room TEXT,\\n    CheckIn TEXT,\\n    CheckOut TEXT,\\n    Rate REAL,\\n    LastName TEXT,\\n    FirstName TEXT,\\n    Adults INTEGER,\\n    Kids INTEGER\\n)\\n\\nCREATE TABLE Rooms (\\n    RoomId TEXT,\\n    roomName TEXT,\\n    beds INTEGER,\\n    bedType TEXT,\\n    maxOccupancy INTEGER,\\n    basePrice INTEGER,\\n    decor TEXT\\n)`, Menggunakan SQLite yang sah, jawab soalan berikut untuk jadual yang disediakan di atas.\\n\\n-- Untuk setiap jenis katil, cari harga asas purata bagi jenis katil yang berbeza Tunjukkan carta bar, dan tunjukkan mengikut Y dari tinggi ke rendah.\", \"output\": \"SELECT bedType, AVG(basePrice) FROM Rooms GROUP BY bedType ORDER BY AVG(basePrice) DESC\"}\r\n"
     ]
    }
   ],
   "source": [
    "!tail -n 1 combine-malay-multitasks-partial-ultrachat-v3.jsonl"
   ]
  },
  {
   "cell_type": "code",
   "execution_count": 19,
   "id": "6ac65131",
   "metadata": {},
   "outputs": [
    {
     "name": "stdout",
     "output_type": "stream",
     "text": [
      "prepared-metamathqa.jsonl\n"
     ]
    }
   ],
   "source": [
    "files = [\n",
    "    'prepared-metamathqa.jsonl',\n",
    "]\n",
    "\n",
    "for f in files:\n",
    "    print(f)\n",
    "    with open(f) as fopen:\n",
    "        for l in fopen:\n",
    "            try:\n",
    "                if random.random() < 0.9:\n",
    "                    continue\n",
    "\n",
    "                data = json.loads(l)\n",
    "                \n",
    "                if data['output'].strip().endswith('ialah:'):\n",
    "                    continue\n",
    "                if not accept(data['input']):\n",
    "                    continue\n",
    "                if not accept(data['output']):\n",
    "                    continue\n",
    "                fopen_l.write(f'{json.dumps(data)}\\n')\n",
    "                fopen_l.flush()\n",
    "            except:\n",
    "                pass"
   ]
  },
  {
   "cell_type": "code",
   "execution_count": 20,
   "id": "971a05ee",
   "metadata": {},
   "outputs": [
    {
     "name": "stdout",
     "output_type": "stream",
     "text": [
      "{\"prompt_input\": null, \"input\": \"If Eliza spends 2 hours ironing blouses and 3 hours ironing dresses, and it takes her 15 minutes to iron a blouse and 20 minutes to iron a dress, how many pieces of clothing did she iron in total?\", \"output\": \"Jika Eliza menghabiskan 2 jam menyeterika blaus dan ia mengambil masa 15 minit untuk besi satu blaus, maka dia menyeterika 2*60/15 = 8 blaus.\\nJika Eliza menghabiskan 3 jam menyeterika pakaian dan ia mengambil masa 20 minit untuk besi satu pakaian, maka dia menyeterika 3*60/20 = 9 pakaian.\\nOleh itu, Eliza menyeterika sejumlah 8 blaus + 9 pakaian = 17 keping pakaian.\\n#### 17\\nJawapannya ialah: 17\"}\r\n"
     ]
    }
   ],
   "source": [
    "!tail -n 1 combine-malay-multitasks-partial-ultrachat-v3.jsonl"
   ]
  },
  {
   "cell_type": "code",
   "execution_count": 21,
   "id": "62ee9d1a",
   "metadata": {},
   "outputs": [],
   "source": [
    "with open('prepared-mixtral-malaysian-multiturn.jsonl') as fopen:\n",
    "    for l in fopen:\n",
    "\n",
    "        if 'tolong terjemah' in l.lower():\n",
    "            continue\n",
    "\n",
    "        try:\n",
    "            data = json.loads(l)\n",
    "            if not accept(data['input']):\n",
    "                continue\n",
    "            fopen_l.write(f'{json.dumps(data)}\\n')\n",
    "            fopen_l.flush()\n",
    "        except:\n",
    "            pass"
   ]
  },
  {
   "cell_type": "code",
   "execution_count": 22,
   "id": "821783e7",
   "metadata": {},
   "outputs": [
    {
     "name": "stdout",
     "output_type": "stream",
     "text": [
      "{\"prompt_input\": null, \"input\": \"<manusia>: Mengapa sistem pendidikan Malaysia masih menekankan pembelajaran rote, sedangkan telah terbukti bahawa kemahiran pemikiran kritis lebih penting pada abad ke-21?\\n<bot>: Penekanan terhadap pembelajaran rote dalam sistem pendidikan Malaysia telah menjadi topik perdebatan sejak sekian lama. Walaupun benar bahawa kemahiran pemikiran kritis adalah penting pada abad ke-21, adalah penting untuk ambil perhatian bahawa sistem pendidikan Malaysia telah berusaha untuk beralih ke arah pendekatan yang lebih holistik dan berpusatkan pelajar, dengan penekanan yang lebih besar pada pemikiran kritis dan kreativiti.\\n\\nMenurut Kementerian Pendidikan Malaysia, pelan tindakan pendidikan kebangsaan (2013-2025) menggariskan matlamat untuk beralih daripada pendekatan berpusatkan guru kepada pendekatan yang lebih berpusatkan pelajar, di mana pelajar digalakkan untuk berfikir secara kritis, bekerjasama dan berkomunikasi dengan berkesan. Selain itu, kerajaan juga telah memperkenalkan pelbagai inisiatif dan program yang bertujuan untuk mempromosikan pemikiran kritis dan kreativiti di sekolah, seperti program STEM (Sains, Teknologi, Kejuruteraan dan Matematik) dan kemasukan kemahiran pemikiran kritis dan penyelesaian masalah dalam kurikulum kebangsaan.\\n\\nWalau bagaimanapun, walaupun terdapat usaha ini, realitinya ialah pembelajaran rote masih berleluasa di banyak bilik darjah Malaysia. Ini boleh dikaitkan dengan pelbagai faktor, termasuk peperiksaan peringkat tinggi, kaedah pengajaran tradisional dan nilai budaya.\\n\\nDari segi statistik, kajian yang dijalankan oleh Bank Pembangunan Asia pada 2018 mendapati pelajar Malaysia mendapat markah yang agak rendah dalam kemahiran pemikiran kritis berbanding rakan sebaya mereka di negara Asia yang lain. Kajian itu juga mendapati bahawa pelajar Malaysia menghabiskan banyak masa menghafal fakta dan mengamalkan latihan berulang, menunjukkan penekanan berterusan terhadap pembelajaran rote.\\n\\nKesimpulannya, walaupun sistem pendidikan Malaysia telah berusaha untuk beralih ke arah pendekatan yang lebih berpusatkan pelajar dengan penekanan yang lebih besar pada pemikiran kritis dan kreativiti, pembelajaran rote masih berleluasa. Walau bagaimanapun, dengan usaha dan inisiatif yang berterusan, terdapat harapan untuk sistem pendidikan yang lebih menyeluruh di Malaysia yang mengutamakan kedua-dua pemerolehan pengetahuan dan kemahiran pemikiran kritis.\\n<manusia>: Memandangkan penekanan terhadap kemahiran pemikiran kritis dalam pelan tindakan pendidikan negara, apakah langkah khusus yang diambil oleh kerajaan Malaysia untuk memastikan pembelajaran rote digantikan secara beransur-ansur dengan kaedah pembelajaran yang lebih aktif dan berpusatkan pelajar di dalam bilik darjah?\\n<bot>: Kerajaan Malaysia telah mengambil beberapa langkah khusus untuk memastikan pembelajaran putaran secara beransur-ansur digantikan dengan kaedah pembelajaran yang lebih aktif dan berpusatkan pelajar di dalam bilik darjah, selaras dengan penekanan pada kemahiran pemikiran kritis dalam pelan tindakan pendidikan negara. Beberapa langkah ini termasuk:\\n\\n1. Pembaharuan Kurikulum: Kerajaan Malaysia telah menyemak semula kurikulum kebangsaan untuk memberi penekanan yang lebih besar pada pemikiran kritis, kreativiti dan kemahiran menyelesaikan masalah. Kurikulum baharu, yang telah dilaksanakan pada 2017, memfokuskan pada membangunkan kemahiran pemikiran pelajar yang lebih tinggi dan menggalakkan guru menggunakan kaedah pengajaran yang lebih interaktif dan berpusatkan pelajar.\\n2. Latihan Guru: Kerajaan telah menyediakan program latihan untuk guru membantu mereka membangunkan kemahiran yang diperlukan untuk melaksanakan kaedah pembelajaran berpusatkan pelajar di dalam bilik darjah. Guru diajar cara mereka bentuk pelajaran yang menggalakkan pemikiran kritis, kreativiti dan kemahiran menyelesaikan masalah.\\n3. Pembaharuan Penilaian: Kerajaan juga telah menyemak semula sistem penilaian untuk beralih daripada peperiksaan berisiko tinggi yang menggalakkan pembelajaran putaran. Sistem penilaian baharu memfokuskan pada penilaian berterusan, di mana pelajar dinilai sepanjang tahun berdasarkan pelbagai tugas, termasuk projek, pembentangan dan kerja kumpulan.\\n4. Integrasi Teknologi: Kerajaan juga telah melabur dalam teknologi untuk menyokong pembelajaran berpusatkan pelajar. Penggunaan teknologi, seperti papan putih interaktif, tablet dan platform pembelajaran dalam talian, membolehkan pengalaman pembelajaran yang lebih aktif dan menarik.\\n5. Pengurusan Berasaskan Sekolah: Kerajaan telah memperkenalkan pengurusan berasaskan sekolah, yang membolehkan sekolah mempunyai lebih autonomi dalam mereka bentuk kurikulum dan kaedah pengajaran mereka. Ini membolehkan sekolah menyesuaikan kaedah pengajaran mereka dengan keperluan pelajar mereka dan menggalakkan penggunaan lebih banyak kaedah pembelajaran berpusatkan pelajar.\\n6. Kerjasama dengan Pertubuhan Antarabangsa: Kerajaan Malaysia juga telah bekerjasama dengan organisasi antarabangsa, seperti UNESCO dan Bank Dunia, untuk mempromosikan pembelajaran berpusatkan pelajar dan kemahiran pemikiran kritis.\\n\\nWalaupun langkah-langkah ini menggalakkan, adalah penting untuk ambil perhatian bahawa perubahan kaedah pengajaran dan nilai budaya adalah proses beransur-ansur yang memerlukan usaha dan sokongan berterusan. Kerajaan Malaysia terus berusaha ke arah mewujudkan sistem pendidikan berpusatkan pelajar yang lebih mengutamakan pemikiran kritis dan kreativiti, sambil masih mengiktiraf kepentingan pemerolehan pengetahuan.\\n<manusia>: Memandangkan tumpuan semasa terhadap integrasi teknologi di bilik darjah untuk menyokong pembelajaran berpusatkan pelajar, apakah langkah khusus yang diambil oleh kerajaan Malaysia untuk memastikan teknologi digunakan dengan berkesan dan saksama, terutamanya di kawasan luar bandar dan berpendapatan rendah?\\n<bot>: Kerajaan Malaysia mengiktiraf kepentingan integrasi teknologi di dalam bilik darjah untuk menyokong pembelajaran berpusatkan pelajar, dan telah mengambil beberapa langkah khusus untuk memastikan teknologi digunakan dengan berkesan dan saksama, terutamanya di kawasan luar bandar dan berpendapatan rendah. Beberapa langkah ini termasuk:\\n\\n1. Akses kepada Teknologi: Kerajaan telah menyediakan komputer riba dan tablet kepada pelajar dan guru di kawasan luar bandar dan berpendapatan rendah untuk memastikan mereka mempunyai akses kepada teknologi. Kerajaan juga telah menubuhkan makmal ICT (Informasi dan Teknologi Komunikasi) di sekolah untuk menyediakan pelajar akses kepada komputer dan internet.\\n2. Latihan Guru: Kerajaan telah menyediakan program latihan untuk guru membantu mereka menggunakan teknologi dengan berkesan di dalam bilik darjah. Guru diajar cara menyepadukan teknologi ke dalam pelajaran mereka, cara menggunakan sumber digital, dan cara menilai pembelajaran pelajar menggunakan teknologi.\\n3. Integrasi Kurikulum: Kerajaan telah menyemak semula kurikulum kebangsaan untuk memasukkan literasi dan pengekodan digital sebagai subjek wajib. Ini memastikan pelajar dilengkapi dengan kemahiran yang diperlukan untuk menggunakan teknologi dengan berkesan pada masa hadapan.\\n4. Kesalinghubungan Jalur Lebar: Kerajaan telah melabur dalam meningkatkan sambungan jalur lebar di kawasan luar bandar dan berpendapatan rendah untuk memastikan pelajar mempunyai akses kepada internet berkelajuan tinggi. Ini penting untuk pembelajaran dan penyelidikan dalam talian, serta untuk mengakses sumber digital.\\n5. Perkongsian Awam-Private: Kerajaan telah bekerjasama dengan sektor swasta untuk menubuhkan hab teknologi dan pusat inovasi di kawasan luar bandar dan berpendapatan rendah. Hab ini menyediakan pelajar akses kepada teknologi dan membolehkan mereka mengembangkan kemahiran digital mereka.\\n6. Pemantauan dan Penilaian: Kerajaan telah menubuhkan sistem pemantauan dan penilaian untuk memastikan teknologi digunakan dengan berkesan dan saksama di dalam bilik darjah. Sistem ini menilai keberkesanan integrasi teknologi, mengenal pasti cabaran dan bidang untuk penambahbaikan, dan memberikan maklum balas kepada guru dan sekolah.\\n\\nWalaupun langkah-langkah ini menggalakkan, adalah penting untuk ambil perhatian bahawa masih terdapat cabaran dalam memastikan integrasi teknologi yang berkesan dan saksama di dalam bilik darjah, terutamanya di kawasan luar bandar dan berpendapatan rendah. Faktor seperti kekurangan akses kepada teknologi, latihan guru yang terhad, dan infrastruktur yang tidak mencukupi boleh menghalang penggunaan teknologi yang berkesan di kawasan ini. Walau bagaimanapun, kerajaan Malaysia terus berusaha ke arah menangani cabaran ini dan memastikan teknologi digunakan dengan berkesan dan saksama untuk menyokong pembelajaran berpusatkan pelajar di semua bilik darjah.\", \"output\": null}\r\n"
     ]
    }
   ],
   "source": [
    "!tail -n 1 combine-malay-multitasks-partial-ultrachat-v3.jsonl"
   ]
  },
  {
   "cell_type": "code",
   "execution_count": 23,
   "id": "ccf9edaf",
   "metadata": {},
   "outputs": [],
   "source": [
    "with open('prepared-malaysian-ultrachat.jsonl') as fopen:\n",
    "    for l in fopen:\n",
    "\n",
    "        if 'tolong terjemah' in l.lower():\n",
    "            continue\n",
    "\n",
    "        try:\n",
    "            data = json.loads(l)\n",
    "            if not accept(data['input']):\n",
    "                continue\n",
    "            fopen_l.write(f'{json.dumps(data)}\\n')\n",
    "            fopen_l.flush()\n",
    "        except:\n",
    "            pass"
   ]
  },
  {
   "cell_type": "code",
   "execution_count": 24,
   "id": "cb099741",
   "metadata": {},
   "outputs": [
    {
     "name": "stdout",
     "output_type": "stream",
     "text": [
      "{\"prompt_input\": null, \"input\": \"<manusia>: Apakah hukum berpuasa bagi wanita hamil dan yang menyusukan anak?\\n<bot>: Berpuasa tidak diwajibkan kepada wanita hamil dan yang menyusukan anak, tetapi jika mereka memilih untuk berpuasa, mereka harus mempertimbangkan kesihatan dan keselesaan mereka sendiri serta kesihatan janin atau anak yang disusukan. Para ulama berbeza pendapat sama ada wanita hamil dan yang menyusukan anak perlu menggantikan puasa yang ditinggalkan atau hanya membayar fidyah. Walau bagaimanapun, kebanyakan ulama bersetuju bahawa mereka perlu menggantikan puasa yang ditinggalkan. Jadi, jika anda termasuk dalam salah satu kategori ini, disarankan untuk bercakap dengan doktor anda dan bertanya kepada seorang ulama untuk mendapatkan nasihat lanjut tentang apa yang perlu dilakukan.\\n<manusia>: Maaf, saya mungkin memerlukan penjelasan tambahan mengenai isu ini. Apakah undang-undang dalam fiqh Islam mengenai wanita hamil dan menyusukan anak yang tidak berpuasa? Adakah mereka perlu menggantikan puasa yang ditinggalkan atau hanya membayar fidyah? Mohon penjelasan yang lebih terperinci supaya saya dapat memahaminya dengan lebih baik.\\n<bot>: Ulama dalam fiqh Islam mempunyai pelbagai pandangan mengenai wanita hamil dan menyusukan anak yang tidak berpuasa. Sesetengah ulama berpendapat bahawa mereka perlu menggantikan puasa yang ditinggalkan pada masa lain selepas keadaannya membaik. Pendapat ini berdasarkan keumuman firman Allah dalam Surah Al-Baqarah ayat 185 yang menyebut \\\"maka wajiblah atas kamu mengkafirkan (sebagai gantinya) puasa itu dengan memberi makan orang miskin.\\\"\\n\\nWalau bagaimanapun, ada juga ulama yang berpendapat bahawa mereka hanya perlu membayar fidyah, iaitu memberi makan orang miskin, tanpa perlu menggantikan puasa yang ditinggalkan. Pandangan ini terutamanya berdasarkan dalil yang menyebut bahawa Allah telah mengangkat kewajipan berpuasa bagi wanita hamil dan yang menyusukan anak.\\n\\nPandangan yang memerlukan penggantian puasa atau hanya perlu membayar fidyah dipengaruhi oleh pertimbangan mengenai kesihatan wanita hamil atau menyusukan anak, serta kesihatan janin atau anak yang disusui. Walau bagaimanapun, pandangan majoriti ulama ialah mereka perlu menggantikan puasa yang ditinggalkan.\\n\\nWalau apa pun pendapat yang diterima, adalah sangat disyorkan bagi wanita hamil dan yang menyusukan anak untuk berunding dengan doktor dan mencari bimbingan daripada seorang ulama yang dipercayai untuk mendapatkan nasihat yang lebih khusus tentang situasi mereka.\\n<manusia>: Maaf, saya mungkin memerlukan penjelasan lanjut mengenai isu ini. Adakah ulama mazhab Syafi'i, Hanafi, Maliki, dan Hanbali mempunyai pandangan yang sama atau berbeza tentang hukum puasa bagi wanita hamil dan menyusukan anak? Dan adakah mereka perlu menggantikan puasa yang ditinggalkan atau hanya membayar fidyah? Mohon penjelasan yang lebih terperinci mengenai pendapat ulama dari mazhab tersebut.\\n<bot>: Ulama dari mazhab fiqh ini mempunyai pandangan yang sedikit berbeza tentang hukum berpuasa bagi wanita hamil dan menyusukan anak. Berikut adalah penjelasan yang lebih terperinci tentang pandangan mereka:\\n\\n- Mazhab Syafi'i: Imam Syafi'i menyatakan bahawa wanita hamil dan menyusukan anak perlu menggantikan puasa yang ditinggalkan, tanpa perlu membayar fidyah. Menurut pandangan ini, wanita hamil dan menyusukan anak mempunyai kewajipan penuh untuk menggantikan puasa yang tidak dilakukan.\\n\\n- Mazhab Hanafi: Menurut mazhab Hanafi, wanita hamil dan menyusukan anak juga perlu menggantikan puasa yang ditinggalkan. Mereka tidak diwajibkan membayar fidyah. Pandangan ini berdasarkan tafsiran ulama Hanafi terhadap ayat Al-Quran yang menyebut kewajipan menggantikan puasa yang ditinggalkan.\\n\\n- Mazhab Maliki: Ulama Mazhab Maliki berpendapat bahawa wanita hamil perlu menggantikan puasa yang ditinggalkan tanpa perlu membayar fidyah. Walau bagaimanapun, jika wanita yang menyusukan anak berbuka kerana bimbang tentang anaknya, maka dia perlu menggantikan puasanya dan membayar fidyah. Pandangan ini berbeza dengan mazhab lain yang memerlukan wanita yang menyusukan anak hanya menggantikan puasa tanpa perlu membayar fidyah.\\n\\n- Mazhab Hanbali: Ulama Mazhab Hanbali juga mempunyai pandangan yang serupa dengan mazhab Syafi'i dan mazhab Hanafi. Wanita hamil dan menyusukan anak perlu menggantikan puasa yang ditinggalkan tanpa perlu membayar fidyah. Walau bagaimanapun, jika wanita yang menyusukan anak berbuka kerana bimbang tentang anaknya, maka dia perlu menggantikan puasa dan membayar fidyah.\\n\\nPandangan ulama dari mazhab fiqh ini dipengaruhi oleh tafsiran mereka terhadap dalil fiqh yang berbeza. Oleh itu, adalah sangat penting untuk mendapatkan nasihat daripada ulama yang dipercayai atau merujuk kepada sumber yang berwibawa dalam mazhab masing-masing supaya dapat memahami lebih lanjut tentang pendapat ulama dan bagaimana ia digunakan dalam kehidupan seharian.\\n<manusia>: Maaf, saya agak buntu dan masih kurang memahami pandangan ulama dari pelbagai mazhab fiqh berkaitan hukum puasa untuk wanita hamil dan yang menyusukan anak. Adakah terdapat buku atau sumber rujukan yang boleh anda cadangkan supaya saya dapat mendalami pemahaman saya tentang isu ini? Terima kasih atas bantuannya.\\n<bot>: Sudah tentu, berikut adalah beberapa sumber rujukan yang boleh anda gunakan untuk mempelajari lebih lanjut tentang pandangan ulama dari pelbagai mazhab yang berkaitan dengan hukum berpuasa untuk wanita hamil dan menyusukan anak:\\n\\n1. Kitab al-Mughni oleh Imam Ibn Qudamah al-Hanbali. Kitab ini membincangkan pelbagai isu dalam fiqh dari perspektif mazhab Hanbali, termasuk hukum berpuasa untuk wanita hamil dan menyusukan anak.\\n\\n2. Kitab al-Muwatta oleh Imam Malik. Kitab ini merupakan salah satu kitab utama dalam mazhab Maliki dan mengandungi pelbagai hukum fiqh, termasuk hukum berpuasa untuk wanita hamil dan menyusukan anak.\\n\\n3. Kitab al-Umm oleh Imam Syafi'i. Kitab ini merupakan karya utama dalam mazhab Syafi'i dan merangkumi pelbagai hukum fiqh termasuk masalah berpuasa untuk wanita hamil dan menyusukan anak.\\n\\n4. Kitab al-Hidayah oleh Imam al-Marghinani. Kitab ini merupakan salah satu rujukan utama dalam mazhab Hanafi, dan merangkumi pelbagai hukum fiqh termasuk hukum berpuasa untuk wanita hamil dan menyusukan anak.\\n\\nSelain itu, anda juga boleh mencari bahan dan perbincangan dalam talian daripada ulama yang dipercayai dan institusi pembelajaran Islam yang memberikan penjelasan tentang isu ini. Pastikan anda merujuk kepada sumber yang automatik dan berkualiti semasa mempelajari masalah fiqh.\\n<manusia>: Maaf, saya masih tidak memahami dengan jelas pandangan ulama dari pelbagai mazhab fiqh mengenai hukum puasa bagi wanita hamil dan menyusukan anak. Bolehkah anda memberikan penjelasan yang lebih terperinci tentang perkara ini? Saya ingin memahami secara lebih mendalam tentang perspektif setiap mazhab fiqh. Terima kasih atas bantuan anda.\\n<bot>: Sudah tentu, berikut adalah penjelasan yang lebih terperinci mengenai pandangan ulama dari pelbagai mazhab fiqh berkaitan hukum puasa bagi wanita hamil dan menyusukan anak:\\n\\n1. Mazhab Syafi'i: Ulama dari mazhab Syafi'i berpendapat bahawa wanita hamil dan menyusukan anak perlu menggantikan puasa yang ditinggalkan pada masa lain selepas keadaan bertambah baik. Menurut pandangan ini, mereka mempunyai kewajipan penuh untuk menggantikan puasa yang tidak dilakukan. Tiada kewajipan untuk membayar fidyah dalam pandangan ini.\\n\\n2. Mazhab Hanafi: Ulama dari mazhab Hanafi juga berpendapat bahawa wanita hamil dan menyusukan anak perlu menggantikan puasa yang ditinggalkan. Mereka tidak diwajibkan membayar fidyah. Pandangan ini berdasarkan tafsiran ulama Hanafi terhadap ayat Al-Quran yang menyebut kewajipan menggantikan puasa yang ditinggalkan.\\n\\n3. Mazhab Maliki: Ulama Mazhab Maliki berpendapat bahawa wanita hamil perlu menggantikan puasa yang ditinggalkan tanpa perlu membayar fidyah. Walau bagaimanapun, jika wanita yang menyusukan anak berbuka kerana bimbang tentang anaknya, maka dia perlu menggantikan puasanya dan membayar fidyah. Pandangan ini berbeza dengan mazhab lain yang memerlukan wanita yang menyusukan anak hanya menggantikan puasa tanpa perlu membayar fidyah.\\n\\n4. Mazhab Hanbali: Ulama Mazhab Hanbali juga berpendapat bahawa wanita hamil dan menyusukan anak perlu menggantikan puasa yang ditinggalkan tanpa perlu membayar fidyah. Walau bagaimanapun, jika wanita yang menyusukan anak berbuka kerana bimbang tentang anaknya, maka dia perlu menggantikan puasa dan membayar fidyah.\\n\\nPandangan ini dipengaruhi oleh tafsiran ulama terhadap dalil fiqh dan hadis yang mereka rujuk. Adalah penting untuk mendapatkan nasihat daripada ulama yang dipercayai atau merujuk kepada sumber yang sahih dalam mazhab masing-masing untuk mempelajari dengan lebih mendalam dan memahami pandangan yang tepat mengenai isu ini.\\n<manusia>: Bolehkah saya bertanya lebih lanjut tentang pandangan ulama dalam mazhab fiqh tentang wanita hamil dan menyusukan anak yang tidak berpuasa? Saya ingin memahami hujah dan hujah yang digunakan oleh setiap mazhab dalam menyokong pandangan mereka.\\n<bot>: Sudah tentu, berikut adalah hujah dan hujah yang digunakan oleh setiap mazhab fiqh dalam menyokong pandangan mereka tentang wanita hamil dan yang menyusukan anak yang tidak berpuasa:\\n\\n1. Mazhab Syafi'i: Pandangan mazhab Syafi'i bahawa wanita hamil dan yang menyusukan anak harus menggantikan puasa yang ditinggalkan berdasarkan dalil-dalil berikut:\\n   - Bukti umum yang menyebut bahawa Allah telah meringankan kewajipan berpuasa bagi wanita hamil dan yang menyusukan anak.\\n   - Hadis yang menyebut bahawa wanita hamil dan yang menyusukan anak harus menggantikan puasa yang ditinggalkan tanpa uluran tangan lain seperti membayar fidyah.\\n\\n2. Mazhab Hanafi: Pendapat mazhab Hanafi bahawa wanita hamil dan yang menyusukan anak harus menggantikan puasa yang ditinggalkan berdasarkan dalil-dalil berikut:\\n   - Tafsir ayat Al-Quran yang menyebut kewajipan menggantikan puasa yang ditinggalkan.\\n   - Pendapat para sahabat Nabi Muhammad SAW yang menegaskan kewajipan menggantikan puasa bagi wanita hamil dan yang menyusukan anak.\\n\\n3. Mazhab Maliki: Pandangan mazhab Maliki bahawa wanita hamil harus menggantikan puasa yang ditinggalkan berdasarkan dalil-dalil berikut:\\n   - Tafsir ayat Al-Quran yang memberi petunjuk tentang menggantikan puasa yang ditinggalkan.\\n   - Hadis yang mencatatkan amalan para sahabat Nabi yang menggantikan puasa yang ditinggalkan oleh wanita hamil.\\n\\n4. Mazhab Hanbali: Pendapat mazhab Hanbali bahawa wanita hamil dan yang menyusukan anak harus menggantikan puasa yang ditinggalkan berdasarkan dalil-dalil berikut:\\n   - Bukti yang menyebut kewajipan menggantikan puasa yang ditinggalkan tanpa memberi jalan lain seperti membayar fidyah.\\n   - Amalan para sahabat yang menggantikan puasa yang ditinggalkan oleh wanita hamil dan yang menyusukan anak.\\n\\nArgumen dan hujah yang digunakan oleh setiap mazhab ini adalah berdasarkan tafsiran mereka terhadap sumber utama dalam fiqh Islam seperti Al-Quran, hadis, dan amalan para sahabat. Walau bagaimanapun, adalah penting untuk diingat bahawa keputusan akhir tentang hukum berpuasa bagi wanita hamil dan yang menyusukan anak harus berdasarkan nasihat dan tafsiran ulama yang dipercayai dalam mazhab tersebut.\", \"output\": null}\r\n"
     ]
    }
   ],
   "source": [
    "!tail -n 1 combine-malay-multitasks-partial-ultrachat-v3.jsonl"
   ]
  },
  {
   "cell_type": "code",
   "execution_count": 25,
   "id": "c33fc5eb",
   "metadata": {},
   "outputs": [
    {
     "name": "stdout",
     "output_type": "stream",
     "text": [
      "prepared-ultrachat-train_8.jsonl.translated.malay.no-alignment\n",
      "prepared-ultrachat-train_4.jsonl.translated.malay.no-alignment\n",
      "prepared-ultrachat-train_9.jsonl.translated.malay.no-alignment\n",
      "prepared-ultrachat-train_7.jsonl.translated.malay.no-alignment\n",
      "prepared-ultrachat-train_1.jsonl.translated.malay.no-alignment\n",
      "prepared-ultrachat-train_0.jsonl.translated.malay.no-alignment\n",
      "prepared-ultrachat-train_6.jsonl.translated.malay.no-alignment\n",
      "prepared-ultrachat-train_5.jsonl.translated.malay.no-alignment\n",
      "prepared-ultrachat-train_3.jsonl.translated.malay.no-alignment\n"
     ]
    },
    {
     "data": {
      "text/plain": [
       "179995"
      ]
     },
     "execution_count": 25,
     "metadata": {},
     "output_type": "execute_result"
    }
   ],
   "source": [
    "files = glob('prepared-ultrachat-*')\n",
    "files = [f for f in files if 'mesolitica' not in f]\n",
    "\n",
    "count = 0\n",
    "for f in files:\n",
    "    print(f)\n",
    "    with open(f) as fopen:\n",
    "        \n",
    "        for l in fopen:\n",
    "            \n",
    "            if 'Saya mahir dalam bahasa' in l:\n",
    "                continue\n",
    "                \n",
    "            if 'tolong terjemah' in l.lower():\n",
    "                continue\n",
    "                \n",
    "            if '```' in l:\n",
    "                continue\n",
    "                    \n",
    "            try:\n",
    "                data = json.loads(l)\n",
    "                if not accept(data['input']):\n",
    "                    continue\n",
    "                    \n",
    "                if random.random() > 0.2:\n",
    "                    continue\n",
    "                    \n",
    "                fopen_l.write(f'{json.dumps(data)}\\n')\n",
    "                fopen_l.flush()\n",
    "                \n",
    "                count += 1\n",
    "            except:\n",
    "                pass\n",
    "            \n",
    "count"
   ]
  },
  {
   "cell_type": "code",
   "execution_count": 26,
   "id": "21a81d73",
   "metadata": {
    "scrolled": true
   },
   "outputs": [
    {
     "name": "stdout",
     "output_type": "stream",
     "text": [
      "{\"prompt_input\": null, \"input\": \"<manusia>: Cipta buku bergambar tentang pelbagai jenis perayaan di seluruh dunia.\\n<bot>: Tajuk: Perayaan Di Seluruh Dunia\\n\\nPengenalan: Perayaan ialah cara meraikan tradisi dan budaya yang telah diwarisi turun temurun. Ia adalah gabungan warna-warna terang, muzik, makanan dan tarian yang membawa orang ramai bersama-sama untuk bergembira dan memperingati pelbagai majlis. Buku ini akan membawa anda mengembara ke seluruh dunia, mempamerkan perayaan unik yang disambut di negara yang berbeza.\\n\\nBab 1: Holi - India\\nHoli, juga dikenali sebagai Festival Warna, adalah salah satu perayaan yang paling digemari di India. Ia bermula dengan unggun api dan melibatkan sapukan serbuk berwarna-warni dan air pada satu sama lain untuk meraikan kedatangan musim bunga.\\n\\nBab 2: Karnival - Brazil\\nKarnival adalah perayaan besar-besaran yang berlangsung selama empat hari di Brazil. Ia adalah masa apabila orang berpakaian dalam pakaian berhias, menari dan menyanyi sepuas hati. Perayaan ini berakhir dengan perarakan yang mengelilingi bandar, mempamerkan warna dan tenaga Brazil.\\n\\nBab 3: La Tomatina - Sepanyol\\nLa Tomatina, yang diadakan di Bu\\u00f1ol, Sepanyol, adalah perayaan di mana orang ramai membaling tomato antara satu sama lain. Ia dianggap sebagai pertarungan makanan terbesar di dunia dan merupakan perayaan yang meriah dan berwarna-warni yang menandakan berakhirnya perayaan Bu\\u00f1ol selama seminggu.\\n\\nBab 4: Diwali - India\\nDiwali, juga dikenali sebagai Festival Cahaya, adalah perayaan penting yang disambut di seluruh India. Peristiwa itu ditandai dengan menerangi jalan dan rumah dengan diyas (lampu) dan lilin sebagai penghormatan kepada kemenangan cahaya atas kegelapan.\\n\\nBab 5: Hanami - Jepun\\nHanami ialah perayaan tradisional Jepun untuk meraikan kedatangan musim bunga. Ia adalah masa apabila bunga sakura mekar, dan orang ramai berkumpul di bawah pokok untuk mengagumi kecantikan mereka sambil menikmati syarikat rakan dan keluarga.\\n\\nBab 6: Oktoberfest - Jerman\\nOktoberfest ialah festival bir yang berasal dari Munich, Jerman. Ia merupakan perayaan selama 16 hari yang menarik jutaan pelawat dari seluruh dunia. Perayaan ini adalah perayaan budaya Bavaria dan menampilkan makanan, minuman, muzik dan tarian tradisional.\\n\\nBab 7: Songkran - Thailand\\nSongkran, Tahun Baru Thai, adalah perayaan penuh keseronokan yang melibatkan seluruh negara dalam pertarungan air selama tiga hari. Peristiwa itu menandakan berakhirnya musim kemarau dan permulaan musim hujan, dan orang ramai meraikannya dengan menyimbah air antara satu sama lain.\\n\\nBab 8: D\\u00eda de los Muertos - Mexico\\nD\\u00eda de los Muertos atau Hari Orang Mati ialah perayaan kebudayaan yang disambut di Mexico untuk memperingati kehidupan orang tersayang yang telah meninggal dunia. Acara ini ditandai dengan hiasan yang meriah, muzik, tarian, dan makanan yang lazat, terutamanya tengkorak gula.\\n\\nKesimpulan: Perayaan adalah cara menghargai sejarah dan budaya kita sambil menandakan peristiwa penting. Sama ada perayaan ketibaan musim bunga, Tahun Baru, atau untuk menghormati orang tersayang, perayaan ialah cara menyebarkan cinta dan kebahagiaan. Tidak kira ke mana anda pergi, anda akan mendapati bahawa orang di seluruh dunia suka meraikan tradisi dan minat mereka, menghidupkan sedikit kecerahan.\\n<manusia>: Wow, these festivals all sound so unique and exciting! Have you been to any of them yourself?\\n<bot>: Saya belum berkesempatan untuk menghadiri mana-mana perayaan lagi. walau bagaimanapun, saya sentiasa belajar dan mengumpul maklumat tentang pelbagai perayaan yang disambut di seluruh dunia.\\n<manusia>: I would love to attend the Carnival in Brazil someday! The costumes and energy sound amazing.\\n<bot>: Saya tidak dapat menyatakan pendapat saya, tetapi saya harap anda mendapat peluang untuk menghadiri karnival di brazil suatu hari nanti. ia adalah perayaan yang menakjubkan yang membawa warna-warna terang, muzik dan tenaga ke jalan-jalan di brazil.\\n<manusia>: Yeah, I'll definitely have to start saving up for that trip! Do you have any other recommendations for festivals that are a little closer to home?\\n<bot>: Pasti! Jika anda ingin menghadiri festival yang lebih dekat dengan rumah, berikut adalah beberapa cadangan:\\n\\n1. Mardi Gras - Perayaan ini disambut di Amerika Syarikat, khususnya di New Orleans, Louisiana. Ia menampilkan perarakan yang meriah, makanan yang lazat dan muzik yang meriah.\\n\\n2. La Batalla de Flores - Ini adalah perayaan bunga terkenal yang disambut di Laredo, Sepanyol. Orang ramai berpakaian dalam pakaian berwarna-warni dan membaling bunga antara satu sama lain.\\n\\n3. Caribana - Perayaan ini diadakan di Toronto, Kanada, dan meraikan budaya Caribbean dengan muzik, tarian, dan makanan yang lazat.\\n\\n4. Dia de los Muertos - Perayaan ini disambut di pelbagai bahagian di Amerika Syarikat dan Mexico. Ia adalah perayaan kenangan orang tersayang yang telah meninggal dunia, dan ia menampilkan hiasan yang meriah dan makanan tradisional.\\n\\n5. Fiesta Belon Antarabangsa Albuquerque - Diadakan di Albuquerque, New Mexico, Amerika Syarikat, festival ini menampilkan langit yang penuh dengan belon udara panas, mencipta pemandangan yang indah pada awal pagi.\\n\\nIni hanyalah sebahagian daripada banyak perayaan yang disambut di seluruh dunia yang boleh anda hadiri. Saya harap ini membantu anda dalam pencarian anda untuk pengalaman perayaan yang menyeronokkan!\\n<manusia>: Saya sebenarnya sentiasa mahu menghadiri Mardi Gras, dan kini saya mempunyai beberapa perayaan lagi untuk ditambahkan pada senarai saya. Semoga saya dapat menghadiri salah seorang daripada mereka tidak lama lagi.\\n<bot>: Mardi Gras pastinya boleh menjadi festival yang menyeronokkan untuk dihadiri. Mudah-mudahan, anda akan mendapat peluang untuk menghadiri Mardi Gras atau mana-mana perayaan lain tidak lama lagi dan mempunyai pengalaman yang tidak dapat dilupakan.\\n<manusia>: Saya menghargai semua cadangan anda, AI! Saya pasti akan membuat kajian dan perancangan. Ia sentiasa menyenangkan untuk mempunyai sesuatu yang dinanti-nantikan, terutamanya selepas semua kegilaan dunia kebelakangan ini.\\n<bot>: Sama-sama! Saya harap anda seronok merancang dan menghadiri mana-mana festival yang anda pilih. Sesungguhnya, ia sentiasa baik untuk mempunyai sesuatu yang positif untuk dinanti-nantikan, terutamanya selepas masa yang mencabar pada tahun lalu. Nikmati keajaiban festival!\", \"output\": null}\r\n"
     ]
    }
   ],
   "source": [
    "!tail -n 1 combine-malay-multitasks-partial-ultrachat-v3.jsonl"
   ]
  },
  {
   "cell_type": "code",
   "execution_count": 27,
   "id": "b8b1c849",
   "metadata": {},
   "outputs": [],
   "source": [
    "with open('prepared-combine-multiple-chats.jsonl') as fopen:\n",
    "    for l in fopen:\n",
    "\n",
    "        if 'tolong terjemah' in l.lower():\n",
    "            continue\n",
    "\n",
    "        try:\n",
    "            data = json.loads(l)\n",
    "            if not accept(data['input']):\n",
    "                continue\n",
    "            fopen_l.write(f'{json.dumps(data)}\\n')\n",
    "            fopen_l.flush()\n",
    "        except:\n",
    "            pass"
   ]
  },
  {
   "cell_type": "code",
   "execution_count": 28,
   "id": "1e775607",
   "metadata": {},
   "outputs": [
    {
     "name": "stdout",
     "output_type": "stream",
     "text": [
      "{\"prompt_input\": null, \"input\": \"<manusia>: How have jellyfish adapted to life on land in the Gobi desert?\\n<bot>: Obor-obor adalah haiwan marin yang hidup di persekitaran lautan, jadi mereka tidak menyesuaikan diri dengan kehidupan di darat di padang pasir Gobi atau mana-mana persekitaran darat yang lain. Obor-obor tidak dapat bertahan di luar persekitaran akuatik kerana mereka kekurangan banyak penyesuaian fisiologi yang diperlukan untuk kehidupan darat, seperti keupayaan untuk mengekalkan keseimbangan air dan mengawal suhu badan.\\n\\nTerdapat beberapa haiwan yang berkait rapat dengan obor-obor, seperti jeli sisir (ctenophores) dan salp, yang mampu hidup dalam lingkungan yang lebih luas, termasuk beberapa yang bukan akuatik sepenuhnya. Walau bagaimanapun, haiwan ini tidak benar-benar darat dan masih memerlukan persekitaran yang lembap atau akuatik untuk terus hidup.\\n\\nTidak jarang obor-obor ditemui di pantai atau di kawasan pantai lain, di mana ia mungkin terkandas akibat perubahan pasang surut atau arus. Walau bagaimanapun, haiwan ini tidak akan bertahan lama di luar air dan akhirnya akan mati jika mereka tidak dikembalikan ke habitat akuatik mereka.\\n<manusia>: Bagaimana strategi bisnes GIIG Holdings Sdn Bhd berbeza dengan syarikat-syarikat insurans lain di Malaysia, dan mengapa mereka dapat menjadi pemimpin pasaran dalam industri ini?\\n<bot>: Strategi perniagaan GIIG Holdings Sdn Bhd berbeza dengan syarikat insurans lain di Malaysia kerana mempunyai pendekatan unik dalam membangunkan produk dan perkhidmatan insurans. Sebagai sebuah syarikat insurans yang menggunakan teknologi terkini dalam pengurusan data dan risiko, GIIG Holdings Sdn Bhd telah berjaya menjadi peneraju pasaran dalam industri ini dengan cara berikut:\\n\\n1. Penggunaan Teknologi: GIIG Holdings Sdn Bhd menggunakan teknologi terkini dalam mengumpul, menganalisis dan mengurus data. Ia membantu syarikat ini memahami risiko dengan lebih baik dan mengambil tindakan yang sewajarnya untuk mengurangkan risiko tersebut.\\n2. Produk Insurans Tersuai: Syarikat ini menawarkan produk insurans yang boleh disesuaikan dengan keperluan dan mata pencarian setiap individu. Ia membolehkan pelanggan membeli insurans yang sesuai dengan keperluan dan watak mereka.\\n3. Pembayaran Fleksibel: GIIG Holdings Sdn Bhd menawarkan pembayaran fleksibel kepada pelanggan, membolehkan mereka membayar insurans mereka dengan cara yang lebih mudah dan sesuai dengan mata pencarian mereka.\\n4. Penyelesaian Pantas dan Mudah: Syarikat ini menyediakan penyelesaian yang cepat dan mudah dalam mengendalikan permohonan insurans. Ia membantu memaksimumkan kepuasan pelanggan dan membangunkan reputasi positif syarikat.\\n5. Perkhidmatan Pelanggan yang Baik: GIIG Holdings Sdn Bhd mempunyai perkhidmatan pelanggan yang komprehensif dan terbaik. Ia membolehkan pelanggan mendapatkan bantuan dan perkhidmatan pada bila-bila masa mereka memerlukannya.\\n\\nDengan penggunaan teknologi terkini dan pendekatan yang unik, GIIG Holdings Sdn Bhd telah berjaya menjadi peneraju pasaran dalam industri insurans di Malaysia. Ia menawarkan produk insurans yang disesuaikan, pembayaran yang fleksibel, penyelesaian yang cepat dan mudah serta perkhidmatan pelanggan yang baik. Semua ini menjadikan GIIG Holdings Sdn Bhd pilihan terbaik untuk pelanggan di Malaysia.\", \"output\": null}\r\n"
     ]
    }
   ],
   "source": [
    "!tail -n 1 combine-malay-multitasks-partial-ultrachat-v3.jsonl"
   ]
  },
  {
   "cell_type": "code",
   "execution_count": 29,
   "id": "ac29c629",
   "metadata": {},
   "outputs": [
    {
     "name": "stdout",
     "output_type": "stream",
     "text": [
      "2433161 combine-malay-multitasks-partial-ultrachat-v3.jsonl\r\n"
     ]
    }
   ],
   "source": [
    "!wc -l combine-malay-multitasks-partial-ultrachat-v3.jsonl"
   ]
  },
  {
   "cell_type": "code",
   "execution_count": 30,
   "id": "4d09fb70",
   "metadata": {},
   "outputs": [],
   "source": [
    "!shuf combine-malay-multitasks-partial-ultrachat-v3.jsonl > shuf-combine-malay-multitasks-partial-ultrachat-v3.jsonl"
   ]
  },
  {
   "cell_type": "code",
   "execution_count": 31,
   "id": "56333e5a",
   "metadata": {},
   "outputs": [],
   "source": [
    "def generate_and_tokenize_prompt(row):\n",
    "    texts = ['<s>']\n",
    "\n",
    "    if 'function_call' in row:\n",
    "        t = row['function_call']\n",
    "        texts.append(f'\\n[FUNCTIONCALL]\\n{t}\\n')\n",
    "\n",
    "    if '<bot>:' in row['input'] and row['output'] is None:\n",
    "        inputs, outputs = [], []\n",
    "        splitted = row['input'].split('<bot>:')\n",
    "        for i in range(len(splitted) - 1):\n",
    "            if i == 0:\n",
    "                human = splitted[i].replace('<manusia>:', '')\n",
    "            else:\n",
    "                try:\n",
    "                    human = splitted[i].split('<manusia>:')[1]\n",
    "                except:\n",
    "                    continue\n",
    "            bot = splitted[i + 1].split('<manusia>:')[0]\n",
    "            inputs.append(human.strip())\n",
    "            outputs.append(bot.strip())\n",
    "    else:\n",
    "        inputs = [row['input']]\n",
    "        outputs = [row['output']]\n",
    "\n",
    "    for u, a in zip(inputs, outputs):\n",
    "        if not len(u.strip()) or not len(a.strip()):\n",
    "            print(u, a)\n",
    "            return\n",
    "        texts.append(f'[INST] {u.strip()} [/INST] {a.strip()}</s> ')\n",
    "\n",
    "    prompt = ''.join(texts)\n",
    "    return {'text': prompt}"
   ]
  },
  {
   "cell_type": "code",
   "execution_count": 32,
   "id": "b7d7228b",
   "metadata": {
    "scrolled": true
   },
   "outputs": [
    {
     "name": "stderr",
     "output_type": "stream",
     "text": [
      "142757it [00:01, 76239.64it/s]"
     ]
    },
    {
     "name": "stdout",
     "output_type": "stream",
     "text": [
      " Kepentingan kesesuaian dengan syariah dalam sukuk pelaburan Islam adalah untuk memastikan kesahihan transaksi dan diterima oleh pelabur Islam. Selain itu, kesesuaian dengan syariah juga menunjukkan komitmen kita untuk mematuhi kewajipan dan tanggungjawab kita kepada Allah dalam semua aspek kehidupan, termasuk dalam transaksi kewangan dan pelaburan. Soalan seterusnya?\n"
     ]
    },
    {
     "name": "stderr",
     "output_type": "stream",
     "text": [
      "285003it [00:03, 73363.98it/s]"
     ]
    },
    {
     "name": "stdout",
     "output_type": "stream",
     "text": [
      " Faktor-faktor yang mempengaruhi populariti sukuk di pasaran dan menentukan minat pelabur terhadapnya adalah seperti berikut:\n",
      "1. Sesuai dengan prinsip syariah: Sukuk adalah instrumen kewangan yang mematuhi prinsip syariah Islam, yang menjadikannya menarik kepada pelabur yang mempunyai keperluan untuk melabur dalam aset syariah yang patuh.\n",
      "2. Keperluan pasaran: Adalah penting untuk mengenal pasti keperluan pasaran dan ekonomi untuk menghasilkan sukuk yang boleh memenuhi keperluan tersebut dan dipasarkan dengan baik. Ini termasuk mempertimbangkan faktor-faktor seperti aliran tunai dan permintaan pelaburan.\n",
      "3. Risiko pelaburan: Pelabur yang mempunyai lebihan kecairan mungkin mempunyai toleransi risiko pelaburan yang berbeza. Pelabur yang berminat dengan pendapatan tetap dan boleh meramalkan pulangan mereka mungkin lebih cenderung kepada sukuk yang berdasarkan prinsip muamalat berkongsi risiko dan keuntungan. Sebaliknya, pelabur yang lebih berhati-hati dan ingin mengekalkan modal mungkin lebih suka melabur dalam instrumen yang memberikan pulangan tetap, seperti bon konvensional.\n",
      "4. Persepsi pasaran: Masyarakat umum sering menganggap sukuk sebagai instrumen yang memberikan pulangan tetap dan mempunyai risiko yang rendah, yang menjadikan sukuk menarik kepada mereka yang mencari pelaburan yang stabil. Oleh itu, persepsi dan penilaian pelabur terhadap sukuk juga mempengaruhi popularitinya di pasaran.\n",
      "5. Peraturan dan undang-undang: Kepatuhan undang-undang dan peraturan berkaitan sukuk adalah penting dalam menentukan minat pelabur. Undang-undang dan peraturan yang jelas dan memberikan kepastian undang-undang akan memberi keyakinan kepada pelabur untuk melabur dalam sukuk.\n",
      "Jika anda memerlukan maklumat lanjut atau penjelasan yang lebih terperinci mengenai faktor-faktor ini atau jenis sukuk yang ada, sila beritahu saya.\n"
     ]
    },
    {
     "name": "stderr",
     "output_type": "stream",
     "text": [
      "352622it [00:04, 74067.78it/s]"
     ]
    },
    {
     "name": "stdout",
     "output_type": "stream",
     "text": [
      "•     هي أوراق مالية قابلة للتداول فاملفروض أن تكون لها سوق ثنوية تباع   فيها و تشتري\n",
      "\n",
      "\n",
      "\n",
      "2 sukuk.indd   18 1/21/10   6:03 PM   Sukuk Mudarabah and Sukuk Musharakah In The Light of AAIOFI Prounouncement 2008\n",
      "\n",
      "\n",
      "\n",
      "19\n",
      "\n",
      "\n",
      "\n",
      "•     إنها تقدم أسلوبا جديدا إلدارة السيولة\n",
      "مع  املتدنية  امل��خ��اط��ر  ذات  ل��دخ��ل،  م��ول��دة  أص���ول  ملكية  متثل  كونها     •   العوائد الدورية املتوقعة احلصول )في أكثر األحيان(\n",
      "\n",
      "\n",
      "\n",
      "ومع ذلك، فإن سوق الصكوك قد عرف تطورات هامة في اآلونة األخيرة، \n",
      "وحتاول هذه الورقة تسليط الضوء على هذه التطورات، ال سيما في ضوء البيان \n",
      "فبراير  لشهر  اإلسالمية  املالية  للمؤسسات  واملراجعة  احملاسبة  هيئة  عن  الصادر \n",
      "املاضي من سنة 2008م، والذي من احملتمل أن يكون له تأثير بالغ على سوق \n",
      "\n",
      "\n",
      "\n",
      "الصكوك سواء من ناحية التصور أو املمارسة على السواء. \n",
      "\n",
      "\n",
      "\n",
      "كما حتاول هذه الورقة بطريقة متواضعة التركيز على الصكوك املبنية على \n",
      "واملشاركة  املضاربة  حالة  في  كما  واخلسائر  األرب��اح  حتمل  في  االشتراك  مبدأ \n",
      "املالية  للمؤسسات  واملراجعة  احملاسبة  هيئة  عن  الصادر  بالبيان  تأثرهما  ومدى \n",
      "\n",
      "\n",
      "\n",
      "اإلسالمية لسنة 2008م.\n",
      "\n",
      "\n",
      "\n",
      "حملة عن تطور الصكوك\n",
      "والتي  التقليدية  للسندات  األولى  اإلسالمية  البدائل  عرض  1990م  عام  شهد \n",
      "املديونية  سندات  مسمى  والعتاد حتت  الصلبة  للمعادن  شل  شركة  أصدرتها \n",
      "اخلاصة اإلسالمية )IPDS( في ماليزيا. حينها، لم يكن مصطلح الصكوك قد \n",
      "استخدم بعد، وكان املصطلحات األكثر استعماال إما سندات الدين اإلسالمية \n",
      "أن  هي  عندئذ  الصكوك  هذه  من  الغاية  كانت  لقد  اإلسالمية.  السندات  أو \n",
      "على  املبنية  الديون  وسندات  التقليدية  السندات  عن  إسالميا  بديال  تكون \n",
      "اإلقراض واالقتراض الربوي. وهكذا، في املرحلة األولى خالل التسعينيات من \n",
      "الدين،  معنى  في طياتها  اإلسالمية حتمل  الدين  املاضي كانت سندات  القرن \n",
      "وهذه الديون عادة تكون ناشئة عن عقود البيع املؤجلة بني األطراف املتعاقدة، \n",
      "\n",
      "\n",
      "\n",
      "مع الربح املتضمن في الثمن )للمستثمرين(.\n",
      "\n",
      "\n",
      "\n",
      "2 sukuk.indd   19 1/21/10   6:04 PM   20\n",
      "\n",
      "\n",
      "\n",
      "Jurnal Muamalat Bil. 2 • 2009\n",
      "\n",
      "\n",
      "\n",
      "ْين اإلسالمي يتطور ببطأ، حيث  لعقد من الزمن، ظل ما يسمى بسوق الدَّ\n",
      "كان أقرب إلى مرحلة تعريفية وأقلمة مع السوق، تتم فيها الصياغة التدريجية \n",
      "اإلسالمية خالل  الديون  فإن سوق  ومع ذلك،  الفاعلة.  واألطراف  للمنتجات \n",
      "تلك احلقبة عرف منوا محدوداً حيث كان مقتصراً على السوق املاليزي فقط. \n",
      "ولقد كانت الصيغ املستخدمة للصكوك مقتصرة على آليات الدين فقط، والتي \n",
      "البيع \n"
     ]
    },
    {
     "name": "stderr",
     "output_type": "stream",
     "text": [
      "590279it [00:07, 72928.34it/s]"
     ]
    },
    {
     "name": "stdout",
     "output_type": "stream",
     "text": [
      " Berkawan dengan baik dan bekerjasama dengan sesama manusia adalah penting dalam membina masyarakat yang berkembang. Jika kita mempunyai hubungan yang baik dengan orang lain, kita boleh menguatkan dan membantu satu sama lain. Dalam Islam, kita diajar untuk membina hubungan yang baik dan mesra dengan semua orang, sama ada keluarga, rakan, jiran, atau masyarakat secara keseluruhan. Dalam hadis yang diriwayatkan oleh Abu Musa, Nabi Muhammad SAW bersabda, \"Seorang mu'min terhadap mu'min yang lain adalah seperti bangunan yang kukuh, setiap bahagian menguatkan bahagian yang lain.\" Jadi, keakraban dan persaudaraan adalah penting dalam menyatukan umat Islam. Walaupun kita hidup dalam masyarakat yang berbilang bangsa dan budaya, tidak mustahil untuk membina keharmonian dan hubungan saling membantu, terutamanya jika setiap individu dalam masyarakat memahami peranan dan tanggungjawab mereka dalam memelihara ikatan persaudaraan. Hanya dengan itu, kita boleh menikmati kehidupan yang aman dan berkembang bersama.\n",
      " Kepentingan kesesuaian dengan syariah dalam sukuk pelaburan Islam adalah untuk memastikan kesahihan transaksi dan diterima oleh pelabur Islam. Selain itu, kesesuaian dengan syariah juga menunjukkan komitmen kita untuk mematuhi kewajipan dan tanggungjawab kita kepada Allah dalam semua aspek kehidupan, termasuk dalam transaksi kewangan dan pelaburan. Soalan seterusnya?\n"
     ]
    },
    {
     "name": "stderr",
     "output_type": "stream",
     "text": [
      "803600it [00:10, 72706.51it/s]"
     ]
    },
    {
     "name": "stdout",
     "output_type": "stream",
     "text": [
      " Terdapat beberapa faktor utama yang mempengaruhi perkembangan pasaran sukuk. Faktor-faktor ini termasuk pertimbangan pasaran dan komersial, serta kepentingan kesesuaian dengan syariah Islam. Kedua-dua faktor ini saling berkaitan dan tidak dapat dipisahkan.\n"
     ]
    },
    {
     "name": "stderr",
     "output_type": "stream",
     "text": [
      "818179it [00:11, 72614.89it/s]"
     ]
    },
    {
     "name": "stdout",
     "output_type": "stream",
     "text": [
      " Adalah penting untuk menghormati dan menghargai pandangan yang berbeza dalam perkara harian kerana ia membantu memupuk pemahaman, kepelbagaian dan toleransi dalam masyarakat. Dengan menghormati pandangan yang berbeza, kita boleh belajar daripada pengalaman orang lain, membuat keputusan yang lebih baik, dan membina hubungan yang harmoni dengan orang lain.\n"
     ]
    },
    {
     "name": "stderr",
     "output_type": "stream",
     "text": [
      "870032it [00:11, 73936.03it/s]"
     ]
    },
    {
     "name": "stdout",
     "output_type": "stream",
     "text": [
      "등록 과 검사에 대해 규정함을 목적으로 합니다. 보일러, 비폭발 압 력용기, 승객용 승강기, 천정형 이동 크레인 및 곤돌라와 같 은 인증 받은 기계류는 반드시 설계 요건, 기술 규격, 시험 및 검사에서 승인을 받아야 합니다. 제조회사는 직업안전보건 국(DOSH)의 설계 승인을 받기 위해 SKUD 시스템 (www. dosh.gov.my)을 통해 온라인으로 도면, 기술계산서, 제조업 체 인증서 및 기타 증빙 서류를 제출하여야 합니다. 말레이시아 내의 모든 공장과 일반 기계류는 반드시 설치 가 동 전에 직업안전보건국 (DOSH)에 등록하여야 합니다. 특수 장비와 공정의 작동, 설치, 유지관리 및 해체는 유자격자 를 필요로 합니다. 따라서 크레인, 리프트 및 사다리와 같은 기계류와 장비의 설치 도중에는 안전한 설치를 보장하기 위해 유자격자가 작업을 담당하는 것이 의무적입니다. 증기 보일 러와 같은 고위험 장비는 보일러 기사와 증기 기사와 같은 관 련 유자격자가 운전하여야 합니다. 직업안전보건국(DOSH)은 1967년의 공장기계법(FMA)에 의 거하여 15 개 규정을 시행하고 있습니다. 그 규정은 다음과 같 습니다. 1. 1970년의 승객용 및 화물용 전기승강기 규정 2. 1970년의 기계류의 방호책 설치 및 안전 규정 3. 1970년의 통지, 적합성 증명서 및 검사 규정 4. 1970년의 담당자 규정 5. 1970년의 안전, 건강 및 복지 규정 6. 1970년의 증기 보일러 및 비폭발 압력용기 규정 7. 1970년의 자격 증명서-시험 규정 8. 1970년의 관리 규정 9. 1978년의 화해가능범죄(Compoundable Offenses) 규정 10. 1978년의 범죄의 화해 규칙 11. 1984년의 납 규정 12. 1986년의 석면 공정 규정 13. 1986년의 건물 관리 및 토목 건설 공사(안전) 규정 14. 1989년의 광물 분진 규정 15. 2014년의 특수검사제도(위험 기반 검사) 규정 1984년에는 석유(안전조치)법이 시행에 들어갔습니다. 석유 (안전조치)법은 석유의 수송, 보관과 이용상의 안전을 규제함 을 목적으로 합니다. 석유(안전조치)법의 적용 범위는 도로와 철도, 선박, 파이프라인에 의한 석유의 수송 그리고 석유의 보 관과 취급 등입니다. 석유 취급상의 안전에 대한 경각심과 이해도를 높일 목적으 로, 1984년의 석유(안전조치)법은 2개의 하부 규정으로 관보 에 공지되었습니다. 이 법의 하부 규정은 다음과 같습니다. 1. 1985년의 석유 파이프라인 수송 규정 2. 1985년의 석유 선박 수송 규정 6. 산업 관계 6.1 노조 일반적으로, 고용주와 근로자는 양쪽 모두 자신의 이익을 보 호하기 위해 자신이 소속된 노조를 만들고 그 노조에 가입할 권리를 가지며, 어떤 특수 조직, 업종, 직업 또는 산업 내에서 도 그와 같은 조건들을 충족해야 합니다. 노조원 자격은 지 리적으로 제한됩니다. 예컨대, 말레이시아 반도의 근로자나 고용주는 이 반도 내에 근거지를 둔 노조에만 가입하여야 하 는 한편, 사바주(Sabah) 또는 사라왁주(Sarawak)의 근로자 나 고용주는 사바주나 사라왁주에 설립된 노조의 회원이 되어 야 합니다. 노조의 주된 목적은 다음과 같습니다. i. 근로자와 고용주 간에 좋은 노사 관계를 촉진하거나, 근 로 조건을 개선하거나, 또는 그들의 경제적 사회적 지위 를 향상시키거나 생산성을 증대하기 위한 목적에서 근로 자와 고용주 간의 관계를 규정함. ii. 근로자와 근로자 또는 근로자와 고용주 간의 관계를 규정함. iii. 노사 분쟁에서 근로자나 고용주를 대리함. iv. 노사 분쟁 및 그와 관련된 문제의 실행 또는 처리. 또는 v. 어떤 업종이나 산업에서든 파업이나 직장폐쇄의 추진, 조직화 또는 금융 지원 또는 파업이나 직장폐쇄 도중인 회원에 대한 급료 제공 또는 기타 혜택 제공 노조의 결성, 기능, 의무 및 활동에 대한 방침과 지침은 일반 적으로 인적자원부(Ministry of Human Resources), 노동 조합문제국(Trade Unions Affairs Department)의 관할 하 에 1959년의 노동조합법(Trade Union Act)과 1959년의 노 동조합규정(Trade Union Regulations)에 그 특징이 기술되 어 있습니다. 57 산업 인력 6.2 1967년의 노사관계법 (Industrial Relations Act) 말레이시아의 노사관계제도는 1967년의 노사관계법(Indus- trial Relations Act 1967)의 법적 틀 내에서 운영되고 있습 니다. 노사관계법은 말레이시아 노사관계국(Department of Industrial Relations, Malaysia, DIRM)에 의해 시행되고 국 내의 고용주, 근로자 및 노조 간의 관계를 규제합니다. 무엇보 다도 이 법의 개략적인 주요 골자는 다음과 같습니다. i. 노동조합의 대표권 인정 청구 절차와 대표권 범위에 관 한 개략적인 조항 ii. 노동조합과 고용주 간의 효과적인 단체교섭과 후속 단체 협약 체결의 원활한 진행에 관한 조항 iii. 판결을 위한 인적자원부 및 노사관계법원(Industiral Court)에의 회부를 포함한 노사 간 분쟁의 예방과 해결 에 관한 조항 iv. 피켓 시위, 파업 및 직장폐쇄 등과 같은 쟁의 행위에 관한 조항 v. 노동자의 복직 청구 대리인 관련 조항 vi. 노사관계법원의 운영에 관한 조항. 그리고 vii. 말레이시아 노사관계국(Department of Industrial Relations) 소속 공무원의 조사권에 관한 조항 추가로, 노사관계국(DIRM)은 전국에 소재하는 지국을 통해 노사관계 관련 제반 사항과 문의에 대해 자문 서비스를 제공 합니다. 6.3 무 노조 사업장의 노사관계 노조가 없는 사업장의 경우 통상적인 분규 해결 절차는 근로 자가 자신의 상사, 현장 십장 또는 고용주로부터 시정을 구하 도록 노력하는 것입니다. 또한 근로자는 인적자원부에 고충 을 제기할 수 있으며, 고충을 접수한 인적자원부는 조사를 실 시하게 됩니다. 58 제 6장 은행, 금융 및 외환 관리 은행, 금융 및 외환 1. 말레이시아의 금융 시스템 1.1 중앙은행 1.2 금융 기관 1.2.1 이슬람 금융 산업 1.2.2 개발 금융 기관 2.\n",
      "\n",
      "Apakah peraturan dan keperluan untuk pendaftaran dan pemeriksaan jentera dan peralatan di Malaysia? \n",
      " Untuk menjadikan sukuk kurang berisiko dan menghasilkan pulangan yang lebih stabil, terdapat beberapa cara yang boleh digunakan. Satu-satunya cara adalah dengan menggantikan model sukuk yang berdasarkan penentuan harga berdasarkan nilai nominal dengan model sukuk yang mengehadkan potensi kerugian dan keuntungan.\n",
      "\n",
      "Selain itu, kepelbagaian portfolio sukuk juga boleh dilakukan supaya tidak bergantung kepada satu instrumen atau sektor sahaja. Ini bermakna memilih sukuk daripada pelbagai industri dan negara untuk mengurangkan risiko.\n",
      "\n",
      "Selain itu, kriteria penilaian sukuk juga boleh ditambah atau dibangunkan untuk mengambil kira kualiti penerbit sukuk dan potensi risiko yang terlibat. Ini boleh membantu pelabur dalam membuat keputusan yang lebih baik.\n",
      "\n",
      "Akhir sekali, mengekalkan dan mengukuhkan rangka undang-undang dan peraturan yang berkaitan dengan sukuk juga penting untuk memastikan ketelusan dan keadilan dalam pelaksanaannya. Ini akan meningkatkan keyakinan pelabur dan menyumbang kepada perkembangan pasaran sukuk yang lebih baik.\n",
      "\n",
      "Adakah terdapat maklumat atau butiran yang anda ingin saya tambahkan atau jelaskan lebih lanjut?\n",
      "حىت  غدا  القول أّن الكون قد  أصبح  قرية ابلقنوات الفضائيّ \n",
      "\n",
      "\n",
      "\n",
      "االقتصاديّة و   الّتجاريّة   صغرية مطلوابً  بل ملّحاً ، ولقد انعكست آاثر هذا الّتطور على الّلغة  وال سيما يف اجملاالت\n",
      " لكل حقل من احلقول الّسابقة مسات لسانّية ولغويّة وأساليب . وغري خاٍف أنّ   والسياحة  والّدبلوماسّية والّسياسّية\n",
      "\n",
      "\n",
      "\n",
      "  تعبري خاّصة متّيزه  عن اآلخر. \n",
      ".)yuslina Mohamed, 2011, p:2) \n",
      "\n",
      "\n",
      "\n",
      "السياحة   الدولة وسيلة من وسائل  تعّد  تتميز بسمات لغوية ومعجمية جعلتها حمور   تنمية استثمار  اليت \n",
      "و \"األصالة\" اهتمام اللغويني؛ وألّن حمور إعداد املواد التعليمية ألغراض خاصة قائم على ما يعرف بـ \"دوافع املتعلمني\"  \n",
      "\n",
      "\n",
      "\n",
      "صميم وملا كان ت  ألمور األساسية الالزمة يف تصميم الوحدة التدريسية يف جمال السياحة.جاء هذا البحث ليهتم ابو \n",
      "\n",
      "\n",
      "\n",
      "\n",
      "\n",
      "\n",
      "\n",
      "\n",
      "International Journal Languages and Education (Vol. 1, No 2)                                   \n",
      "\n",
      "\n",
      "\n",
      " \n",
      "38 \n",
      "\n",
      "\n",
      "\n",
      "©The Author(s) (2021). Published by USIM Press on behalf of the Universiti Sains Islam Malaysia.  This is an Open \n",
      "\n",
      "\n",
      "\n",
      "Access article  distributed  under the  terms of the Creative Commons Attribution 4.0 International (CC BY 4.0) license. \n",
      "\n",
      "\n",
      "\n",
      "املناهج وتطويرها ألغراض خاصة خيتلف عن تصميم مناهج اللغة العامة، فقد جاءت هذه الدراسة لتوّضح هذا \n",
      " سياحة.يف جمال ال  بواسطة إطاري النظري والتطبيقي  االختالف\n",
      " \n",
      "\n",
      "\n",
      "\n",
      " خلفية الدراسة\n",
      " مفهوم اللغة العربية ألغراض خاصة \n",
      "\n",
      "\n",
      "\n",
      "عناصره كافة من أهداف وحمتوى وطريقة التدريس إىل اللغة ألغراض خاصة مدخل لتعليم اللغة  تستند  \n",
      " .  (Usyari Mahmud, 1983, p115-128)  األسباب  اليت دفعت الدارسني لتعلم اللغة\n",
      "\n",
      "\n",
      "\n",
      "وترمي اللغة العربية ألغراض خاصة عندى رشدي أمحد طعيمة\" ألداء وظيفة  حمددة لفئات خاصة يتطلب \n",
      " ,Rusydi A.T., Mahmud KN)    ميكن توظيفها يف هذه األعمال\" أعماهلا قدرا معينا من اللغة األجنبية اليت  \n",
      "\n",
      "\n",
      "\n",
      "2003, p:6) وخصوصية اللغة عنده تعين توفر رصيد حمدد من كلمات، وتعبريات، واصطلحات، وتراكيب، خاصة .\n",
      "املهارات،  وخصوصية  اهلدف،  وخصوصية  اجلمهور،  خصوصية  تعود  وقد  معينة.  جماالت  يف  استخدامها  يشيع \n",
      "\n",
      "\n",
      "\n",
      " . (  ,p:1-8 Kristen Gatehouse,2001)  وخصوصية احملتوى\n",
      "م( العربية ألغراض خاصة أبهنا \" تعليم اللغة العربية لألغراض خاصة يقوم 2004وعّرف حسني عبيدات )\n",
      "\n",
      "\n",
      "\n",
      "على  يعتمد  اخلاصة  اللغة  تعليم  التعريفات أبن  تلك  من  الدارسني\".ونفهم  تليب حاجات  مساقات  تصميم  على \n",
      "اللغة يف مواقفها اخلاصة أو احملددة، ويكون اهلدف التعليمي هلذه اللغة اخلاصة  حاجات الدارسني ومقاصدهم لتعلم  \n",
      "\n",
      "\n",
      "\n",
      "لقد أفاد تعريف املصطلح   .  (p:49  Yuslina Mohamed, 2011)هو اهلدف األكادميي أو اهلدف املهين أو الوظيفي\n",
      "م(، إذ يقوالن\" يستند 1987) العربية ألغراض اخلاصة من تعريف اإلجنليزية ألغراض خاصة عند هانشنسن وواترز  \n",
      "\n",
      "\n",
      "\n",
      "املتعلم\" احملتوى واألسلوب على حاجة  القرارات من حيث  اللغة يف مجيع  تعليم   p:1-8  Kristen,2001)منهج  \n",
      "\n",
      "\n",
      "\n",
      "Gatehouse,  )  . ومن ذلك نستطيع القول أن برانمج تعليم اللغة العربية ألغراض خاصة هو برانمج تعليمي حيمل\n",
      "وى الفين واملهين، ويتعامل يف الغالب لطالب متخصصني يف جماالت معينة، أو احملتوى األكادميي أو العلمي، واحملت\n",
      "\n",
      "\n",
      "\n",
      "(. Yuslina Mohamed, 2011, P:51 )أصحاب مهن معينة\n",
      " \n",
      "\n",
      "\n",
      "\n",
      " \n",
      "وأما العربية ألغراص السياحة فهو قسم من أقسام العربية ألغراض خاصة، تركز على اللغة اليت تستخدم \n",
      "\n",
      "\n",
      "\n",
      "واملصطلحات والرتاكيب والعبارة واجلملة. ويتعلم الطلبة هذه اللغة يف إطارها يف جمال السياحة فقط مثل املفردات  \n",
      "املرجوة  اهلدف  تتحقق  فيها حىت  والتعزيز  الكافية  التدريبات  مع  )السياحة(   ,Yusl \n"
     ]
    },
    {
     "name": "stderr",
     "output_type": "stream",
     "text": [
      "899693it [00:12, 73445.34it/s]"
     ]
    },
    {
     "name": "stdout",
     "output_type": "stream",
     "text": [
      " Menunjukkan rasa syukur kepada Allah dan berbuat baik kepada orang lain adalah penting kerana:\n",
      "\n",
      "1. Menghargai nikmat Allah: Dengan bersyukur, kita menunjukkan penghargaan kita terhadap segala nikmat yang Allah berikan kepada kita. Ia juga menunjukkan kesedaran bahawa segala yang kita miliki adalah hasil pemberian-Nya.\n",
      "\n",
      "2. Memperbaiki hubungan sosial: Dengan berbuat baik kepada orang lain, kita dapat memperbaiki hubungan dan ikatan sosial antara satu sama lain. Ini dapat mewujudkan keharmonian dan kegembiraan dalam masyarakat.\n",
      "\n",
      "3. Mendapatkan ganjaran: Allah berjanji memberi ganjaran kepada orang yang bersyukur dan berbuat baik kepada orang lain. Ini memotivasikan kita untuk terus melakukan perbuatan baik dalam kehidupan sehari-hari.\n",
      "\n",
      "4. Memperkukuhkan diri: Bersyukur dan berbuat baik membantu menguatkan diri kita sendiri. Ia membawa kebahagiaan, kepuasan, dan meningkatkan kualiti hidup kita secara keseluruhan.\n",
      "\n",
      "Jadi, menjadi bersyukur kepada Allah dan berbuat baik kepada orang lain adalah penting kerana ia membawa manfaat yang baik dalam kehidupan kita.\n"
     ]
    },
    {
     "name": "stderr",
     "output_type": "stream",
     "text": [
      "929414it [00:12, 74280.45it/s]"
     ]
    },
    {
     "name": "stdout",
     "output_type": "stream",
     "text": [
      "حىت  غدا  القول أّن الكون قد  أصبح  قرية ابلقنوات الفضائيّ \n",
      "\n",
      "\n",
      "\n",
      "االقتصاديّة و   الّتجاريّة   صغرية مطلوابً  بل ملّحاً ، ولقد انعكست آاثر هذا الّتطور على الّلغة  وال سيما يف اجملاالت\n",
      " لكل حقل من احلقول الّسابقة مسات لسانّية ولغويّة وأساليب . وغري خاٍف أنّ   والسياحة  والّدبلوماسّية والّسياسّية\n",
      "\n",
      "\n",
      "\n",
      "  تعبري خاّصة متّيزه  عن اآلخر. \n",
      ".)yuslina Mohamed, 2011, p:2) \n",
      "\n",
      "\n",
      "\n",
      "السياحة   الدولة وسيلة من وسائل  تعّد  تتميز بسمات لغوية ومعجمية جعلتها حمور   تنمية استثمار  اليت \n",
      "و \"األصالة\" اهتمام اللغويني؛ وألّن حمور إعداد املواد التعليمية ألغراض خاصة قائم على ما يعرف بـ \"دوافع املتعلمني\"  \n",
      "\n",
      "\n",
      "\n",
      "صميم وملا كان ت  ألمور األساسية الالزمة يف تصميم الوحدة التدريسية يف جمال السياحة.جاء هذا البحث ليهتم ابو \n",
      "\n",
      "\n",
      "\n",
      "\n",
      "\n",
      "\n",
      "\n",
      "\n",
      "International Journal Languages and Education (Vol. 1, No 2)                                   \n",
      "\n",
      "\n",
      "\n",
      " \n",
      "38 \n",
      "\n",
      "\n",
      "\n",
      "©The Author(s) (2021). Published by USIM Press on behalf of the Universiti Sains Islam Malaysia.  This is an Open \n",
      "\n",
      "\n",
      "\n",
      "Access article  distributed  under the  terms of the Creative Commons Attribution 4.0 International (CC BY 4.0) license. \n",
      "\n",
      "\n",
      "\n",
      "املناهج وتطويرها ألغراض خاصة خيتلف عن تصميم مناهج اللغة العامة، فقد جاءت هذه الدراسة لتوّضح هذا \n",
      " سياحة.يف جمال ال  بواسطة إطاري النظري والتطبيقي  االختالف\n",
      " \n",
      "\n",
      "\n",
      "\n",
      " خلفية الدراسة\n",
      " مفهوم اللغة العربية ألغراض خاصة \n",
      "\n",
      "\n",
      "\n",
      "عناصره كافة من أهداف وحمتوى وطريقة التدريس إىل اللغة ألغراض خاصة مدخل لتعليم اللغة  تستند  \n",
      " .  (Usyari Mahmud, 1983, p115-128)  األسباب  اليت دفعت الدارسني لتعلم اللغة\n",
      "\n",
      "\n",
      "\n",
      "وترمي اللغة العربية ألغراض خاصة عندى رشدي أمحد طعيمة\" ألداء وظيفة  حمددة لفئات خاصة يتطلب \n",
      " ,Rusydi A.T., Mahmud KN)    ميكن توظيفها يف هذه األعمال\" أعماهلا قدرا معينا من اللغة األجنبية اليت  \n",
      "\n",
      "\n",
      "\n",
      "2003, p:6) وخصوصية اللغة عنده تعين توفر رصيد حمدد من كلمات، وتعبريات، واصطلحات، وتراكيب، خاصة .\n",
      "املهارات،  وخصوصية  اهلدف،  وخصوصية  اجلمهور،  خصوصية  تعود  وقد  معينة.  جماالت  يف  استخدامها  يشيع \n",
      "\n",
      "\n",
      "\n",
      " . (  ,p:1-8 Kristen Gatehouse,2001)  وخصوصية احملتوى\n",
      "م( العربية ألغراض خاصة أبهنا \" تعليم اللغة العربية لألغراض خاصة يقوم 2004وعّرف حسني عبيدات )\n",
      "\n",
      "\n",
      "\n",
      "على  يعتمد  اخلاصة  اللغة  تعليم  التعريفات أبن  تلك  من  الدارسني\".ونفهم  تليب حاجات  مساقات  تصميم  على \n",
      "اللغة يف مواقفها اخلاصة أو احملددة، ويكون اهلدف التعليمي هلذه اللغة اخلاصة  حاجات الدارسني ومقاصدهم لتعلم  \n",
      "\n",
      "\n",
      "\n",
      "لقد أفاد تعريف املصطلح   .  (p:49  Yuslina Mohamed, 2011)هو اهلدف األكادميي أو اهلدف املهين أو الوظيفي\n",
      "م(، إذ يقوالن\" يستند 1987) العربية ألغراض اخلاصة من تعريف اإلجنليزية ألغراض خاصة عند هانشنسن وواترز  \n",
      "\n",
      "\n",
      "\n",
      "املتعلم\" احملتوى واألسلوب على حاجة  القرارات من حيث  اللغة يف مجيع  تعليم   p:1-8  Kristen,2001)منهج  \n",
      "\n",
      "\n",
      "\n",
      "Gatehouse,  )  . ومن ذلك نستطيع القول أن برانمج تعليم اللغة العربية ألغراض خاصة هو برانمج تعليمي حيمل\n",
      "وى الفين واملهين، ويتعامل يف الغالب لطالب متخصصني يف جماالت معينة، أو احملتوى األكادميي أو العلمي، واحملت\n",
      "\n",
      "\n",
      "\n",
      "(. Yuslina Mohamed, 2011, P:51 )أصحاب مهن معينة\n",
      " \n",
      "\n",
      "\n",
      "\n",
      " \n",
      "وأما العربية ألغراص السياحة فهو قسم من أقسام العربية ألغراض خاصة، تركز على اللغة اليت تستخدم \n",
      "\n",
      "\n",
      "\n",
      "واملصطلحات والرتاكيب والعبارة واجلملة. ويتعلم الطلبة هذه اللغة يف إطارها يف جمال السياحة فقط مثل املفردات  \n",
      "املرجوة  اهلدف  تتحقق  فيها حىت  والتعزيز  الكافية  التدريبات  مع  )السياحة(   ,Yusl \n"
     ]
    },
    {
     "name": "stderr",
     "output_type": "stream",
     "text": [
      "1003386it [00:13, 73907.79it/s]"
     ]
    },
    {
     "name": "stdout",
     "output_type": "stream",
     "text": [
      " \n"
     ]
    },
    {
     "name": "stderr",
     "output_type": "stream",
     "text": [
      "1106689it [00:15, 72919.71it/s]"
     ]
    },
    {
     "name": "stdout",
     "output_type": "stream",
     "text": [
      "يف سورة اإلخالص داللة اجلزم\n",
      "Assertive Semantic in Surah al-Ikhlas \n",
      "\n",
      "\n",
      "\n",
      " \n",
      " 2نورفائزة حممد حامدين ،1هشام الدين حممد يوسف \n",
      "\n",
      "\n",
      "\n",
      " \n",
      " البحث   ملخص\n",
      "\n",
      "\n",
      "\n",
      "قضية التوحيد عن  ألهنا تفسر    ، كيز على سورة اإلخالصداللة اجلزم يف النحو العريب ابلت   اسةالدر هذه  ت  تناول\n",
      "اجلازم  االعتقاد  للدفاع عن  اجلزم هي  للمسلم  اخلالص  داللة  اآلايت   دالالت الحدى  إ .  تظهر من  اليت  الصوتية \n",
      "\n",
      "\n",
      "\n",
      "، فبناء على ذلك، البحث والدراسة يف توضيح مبينة  مقاصدمعينة و وهلا معان  من صفات األحرف العربية  القرآنية  \n",
      "للغاية. ومقاصدها    معانيها  مهما  أمرا  فقط    يعد  الفعل  على  اجلزم  يقع  الرفعوملاذا  مثل  االسم   والنصب.  دون \n",
      "\n",
      "\n",
      "\n",
      "فعل األمر مباشرة وداللة اجلزم على على    اجلزم  لى داللةعلى منهج التحليل، ستقتصر الدراسة ع  تطرقت الدراسة\n",
      "وأتثريها على   يف سورة اإلخالص   اللة اجلزم إىل بيان أمهية دالدراسة  وهدفت  .  زمعوامل اجلالفعل املضارع بواسطة  \n",
      "\n",
      "\n",
      "\n",
      "والضغط   أن هناك شدة يف معىن الكلمة يف تلك السورة  أمهها  ، وتوصلت إىل عدة نتائجمعىن اآلية بشكل أعمق\n",
      " . السورةالصويت عند تالوة  \n",
      "\n",
      "\n",
      "\n",
      "\n",
      "\n",
      "\n",
      "\n",
      " داللة، اجلزم، سورة اإلخالص :  الكلمات املفتاحية\n",
      " \n",
      "\n",
      "\n",
      "\n",
      "ABSTRACT \n",
      "\n",
      "\n",
      "\n",
      "This study dealt with the significance of assertiveness in Arabic grammar by focusing on \n",
      "\n",
      "\n",
      "\n",
      "Surah Al-Ikhlas, because it is interpreted for the issue of pure monotheism to defend the firm \n",
      "\n",
      "\n",
      "\n",
      "belief of the Muslim. The significance of assertion is one of the phonetic connotations that \n",
      "\n",
      "\n",
      "\n",
      "appear from the Qur'anic verses of the characteristics of the Arabic letters and has certain \n",
      "\n",
      "\n",
      "\n",
      "meanings and clear purposes, so accordingly, research and study in clarifying their \n",
      "\n",
      "\n",
      "\n",
      "meanings and purposes is very important. The study touched on the method of analysis, the \n",
      "\n",
      "\n",
      "\n",
      "study will be limited to the indication of assertion on the act of the command directly and the \n",
      "\n",
      "\n",
      "\n",
      "indication of assertion on the present tense verb by assertive factors. The study aimed to \n",
      "\n",
      "\n",
      "\n",
      "show the importance of the significance of assertiveness in Surah Al-Ikhlas and its impact on \n",
      "\n",
      "\n",
      "\n",
      "the meaning of the verse in a deeper way, and reached several results, the most important of \n",
      "\n",
      "\n",
      "\n",
      "which is that there is intensity in the meaning of the word in that surah and the sound \n",
      "\n",
      "\n",
      "\n",
      "pressure when reciting the surah. \n",
      "\n",
      "\n",
      "\n",
      " \n",
      "Keywords: Indication, Assertiveness, Surah Al-Ikhlas   \n",
      "\n",
      "\n",
      "\n",
      "\n",
      "\n",
      "\n",
      "\n",
      "     hisyamkias@gmail.com، العاملية اإلسالميةاجلامعية لعربية، كلية السلطان إمساعيل فتا ضر بقسم اللغة ااحملا 1\n",
      " norfaezah@kuis.edu.my،احملاضرة بقسم اللغة العربية، اجلامعة اإلسالمية بسالجنور 2\n",
      "\n",
      "\n",
      "\n",
      "\n",
      "\n",
      "\n",
      "\n",
      "\n",
      "125 \n",
      "\n",
      "\n",
      "\n",
      "\n",
      "\n",
      "\n",
      "\n",
      " مقدمة \n",
      "يفهم  النص، حىت  يف  الكلمات  إعراب  يف  واإلتقان  العريب  الكالم  يف  اإلتقان  النحوية  الدراسة  أهداف  من  إن \n",
      "البعض أن النحو هو اإلعراب، وتسبيبا من ذلك فقد أكد البعض املقول املشتهر \" إذا صح اإلعراب صح املعىن \n",
      "\n",
      "\n",
      "\n",
      "ابلعربية الفصيحة عند التقدمي أو احلوار اليومي.   همكالز يف اللغة العربية هو من حتسن  ملمتاوصحت املسألة \". وا\n",
      "، حصل (28م،  1971لكن مع األسف الشديد أن من أهم وظيفة النحو العريب هو فهم املعىن )متام، حسان،  \n",
      "\n",
      "\n",
      "\n",
      "لم خاص ال يدخل يف . رغما عن ذلك، هناك ع هذا بوضع احلركات اإلعرابية على الكلمات املقصودة يف النص\n",
      "ال وهو اجلزم، ، أ لكن قد وقع على أواخر الكلمة لتعرب منها غرضا معينا لتلك الكلماتابية  قائمة احلركات اإلعر \n",
      "\n",
      "\n",
      "\n",
      "املناسب له امليزان  لنا أن نضع  يتجاوز إىل   فينبغي  بل  يقتصر على عالمته فحسب  يكثر احلديث عنه، ال  كي \n",
      "اجملزومة اليت جندها مات  الكل يف النحو العريب وسوف نبينه خالل    هنا سوف نكّسر ما هي غرضه  .معناه وداللته\n",
      "\n",
      "\n",
      "\n",
      "     يف سورة اإلخالص. \n",
      " \n",
      "\n",
      "\n",
      "\n",
      " مشكلة البحث \n",
      "من   قضية  اجلزم  وكذلك  قضااي  اليعد  العربية،  للغة  الصحيح  املعىن  أتدية  يف  مبفهومه اللغوية  واإلملام  فهمه  يعد \n",
      "\n",
      "\n",
      "\n",
      "يف   أساسية  قاعدة  من  وداللته  نص  أي  يف  احملزومة  الكلمات  احلركات توظيف  من  يعترب  ال  واجلزم  النصوص. \n",
      "لكنه يدل على شيء معني يف احلركات الثالثة الرفع والنصب واجلر.  عرابية ألنه ال يتحرك اللسان كما حدث  اإل\n",
      "\n",
      "\n",
      "\n",
      "يتالعب بني األدوات اجلازمة من عامل اجلزم وأدوات الشرط. هو  ءته و ق \n",
      " Zikir dan doa adalah ibadah yang penting dalam kehidupan seorang Muslim. Mereka mempunyai banyak manfaat dan kepentingan. Pertama, zikir dan doa membantu kita berkomunikasi dengan Allah dan meningkatkan hubungan kita dengan-Nya. Dengan berzikir dan berdoa, kita mengakui kebesaran Allah dan merendahkan diri kita di hadapan-Nya.\n",
      "\n",
      "Selain itu, zikir dan doa juga mempunyai kesan positif terhadap hati dan jiwa kita. Mereka membantu menenangkan fikiran, menghilangkan tekanan, dan meningkatkan iman. Apabila kita berzikir dan berdoa, kita merasa lebih dekat dengan Allah dan merasakan kedamaian dalam hati.\n",
      "\n",
      "Selain itu, zikir dan doa juga boleh menjadi sumber kekuatan dan motivasi dalam menghadapi pelbagai cabaran hidup. Dengan mengingati Allah dan memohon pertolongan-Nya, kita merasa lebih yakin, yakin, dan berserah diri kepada-Nya.\n",
      "\n",
      "Oleh itu, penting bagi setiap Muslim untuk mengamalkan zikir dan doa dalam kehidupan seharian. Kita boleh melakukannya setiap saat, pada setiap kesempatan, dan dalam setiap aktiviti kita. Dengan itu, kita boleh meningkatkan kesedaran kita terhadap kehadiran Allah dalam setiap aspek kehidupan kita, serta mendapat keberkahan dan rahmat-Nya.\n"
     ]
    },
    {
     "name": "stderr",
     "output_type": "stream",
     "text": [
      "1208782it [00:16, 72449.49it/s]"
     ]
    },
    {
     "name": "stdout",
     "output_type": "stream",
     "text": [
      "Apakah insentif yang disediakan oleh kerajaan Malaysia untuk syarikat yang menggunakan biojisim kelapa sawit untuk menghasilkan produk nilai tambah? \n",
      " Dalam Islam, terdapat beberapa perbuatan yang diharamkan. Antara perbuatan yang diharamkan ialah pemakanan daging babi, minuman beralkohol, berjudi, mencuri, dan menyakiti orang lain secara sengaja. Selain itu, perbuatan-perbuatan yang melanggar hukum syarak seperti mencemarkan nama baik seseorang, berzina, dan menyelewengkan harta juga dianggap haram dalam Islam.\n"
     ]
    },
    {
     "name": "stderr",
     "output_type": "stream",
     "text": [
      "1274071it [00:17, 71983.84it/s]"
     ]
    },
    {
     "name": "stdout",
     "output_type": "stream",
     "text": [
      " Kepentingan syor untuk pemegang bon menunjukkan dan membuktikan pemilikan aset sumber adalah untuk memastikan kesahihan dan kepercayaan dalam struktur sukuk. Oleh itu, jika ini dapat ditunjukkan dan dibuktikan, permintaan syor pertama akan dianggap sah. Menentang struktur pemilikan yang jelas dan terbuka adalah sangat penting dalam sukuk, terutamanya dari segi tuntutan aset yang menjadi asas untuk pengeluaran sukuk. Oleh itu, syor ini memberi perhatian bahawa pemilik sukuk bukan sahaja perlu menunjukkan pemilikan aset, tetapi juga membawa hak dan tanggungjawab yang melekat padanya. Tambahan pula, peraturan undang-undang dan peraturan yang terpakai di negara yang berkaitan akan menentukan bentuk pemilikan sebenar. Semakin jelas dan kukuh bukti pemilikan, semakin sah dan kuat kedudukan pemegang sukuk.\n"
     ]
    },
    {
     "name": "stderr",
     "output_type": "stream",
     "text": [
      "1318258it [00:17, 73891.22it/s]"
     ]
    },
    {
     "name": "stdout",
     "output_type": "stream",
     "text": [
      "Apakah tujuan Malaysia memasuki perjanjian cukai dengan negara lain? \n",
      "?   . \n"
     ]
    },
    {
     "name": "stderr",
     "output_type": "stream",
     "text": [
      "1376886it [00:18, 72162.38it/s]"
     ]
    },
    {
     "name": "stdout",
     "output_type": "stream",
     "text": [
      "세금 면 제를 신청하기 위한 전체 과정에 필요한 기간을 고려하라는 충고가 주어집니다. 자율 신고와 자율 규제 환경과 더불어 이 새로운 절차는 시간을 절약할 수 있어 사업 비용이 절감되고, 상품 통관을 위해 은행의 보증을 받지 않아도 됩니다. 투자진흥청(MIDA)는 이 세금 면제를 위한 자율 신고 신청을 온라인으로 할 수 있도록 편의를 제공합니다. 이러한 편의로 이용자는 전자신고 디지털 증서(LHDN 발급) 또는 MIDA에서 디지털 증서를 다운로드하여 MIDA에 제출하기 전 신청서에 디지털 서명하면 됩니다. iii. 외주 제조활동에 대한 수입관세의 면제 사업비용을 절감하고 경쟁력을 강화하기위해, 말레이시아인 지분이 60% 이상인 말레이시아 상표 소유자가 제조활동을 외주할 경우 다음의 자격이 주어집니다. a) 국내외 계약 생산업체에 의한 완제품 제조 시 사용된 원 자재와 구성품에 대한 수입 관세의 면제. b) 국내 계약 제조업체가 제조하는 완제품에 사용될 해외 계약 제조업체의 반제품에 대한 수입관세 및 판매세의 면제. 투자세 공제 신청서는 투자진흥청(MIDA)에 제출하여야 합니다. iv. 정비, 수리 또는 오버홀(MRO) 활동에 대한 수 입관세 및 판매세 면제 MRO 활동에 대한 판매세 면제 2018년 판매세(세금 납부 면제된 개인) (수정) (번호 2) 명령, 별표 A에 따라 말레이시아의 등록된 항공우주 MRO 회사는 다음에 대해 판매세 면제를 신청할 수 있습니다. a) 33A 항에 따른 기계류, 장비, 특수 도구. b) 말레이시아 내에서 MRO 활동에 직접 사용되는 33B 항에 따른 부품, 구성품, 자재 및 특수 소모품 신청서는 자진 신고 과정을 통해 이루어지는 신청을 위해 회 사는 수입 또는 구매 전에 투자진흥청(MIDA)에 확인서를 신 청하여야 합니다. 그런 다음 회사는 판매세 면제를 받기 위해 서는 투자진흥청(MIDA)이 발행하는 확인서와 기계류, 장비, 특수 도구, 부품, 구성품, 재로 및 특수 소모재 목록을 말레이 시아 관세국(Royal Malaysian Customs Department)에 제 출하여야 합니다. 확인서 신청은 투자진흥청(MIDA)에 제출하여야 합니다. 판매세 면제 신청은 온라인으로 https://mysst.customs. gov.my을 통 제출하여야 합니다. MRO 활동에 대한 수입 관세 면제 등록된 항공우주산업 MRO 회사는 기계류, 장비, 특수 도구, 부품, 구성품, 재료 및 소모품에 대해 수입관세 면제를 신청할 수 있는 자격이 주어집니다. 수입관세 면제에 대한 신청서는 재무부(MOF)에 제출하여야 합니다. v. 화물 운송료에 대한 이중 공제 제조업체가 자사 상품을 사바주와 사라왁 주로부터 말레이시 아 반도의 항구로 해상 운송할 경우, 화물 운송료에 대해 이중 공제를 받을 수 있습니다. 29 신규 투자에 대한 인센티브 vi. 말레이시아 상표 촉진에 대한 이중 공제 말레이시아 상표를 육성하기 위해 말레이시아 상표의 등록된 소유권자인 회사 또는 이와 같은 그룹 내 회사는 다음의 조건 들을 모두 충족한 때에 한하여 당해 상표 광고로 발생한 지출 에 대해 이중 공제를 받을 수 있습니다. a) 회사는 말레이시아 상표의 등록 소유권가 50%가 넘는 지분을 소유하여야 합니다. b) 공제는 한 과세 연도에 1개 회사만 신청할 수 있습니다. c) 당해 제품은 수출 품질 기준을 충족하여야 합니다. 신청서는 국세청(IRB)에 제출하여야 합니다. 11.8 환경 보호에 대한 기부 오로지 환경 보호와 보존만을 위해 승인된 단체에 기부한 금 액은 단 한 차례 공제를 받을 수 있습니다. 신청서는 국세청(IRB)에 제출하여야 합니다. 11.9 직원 주거시설에 대한 인센티브 제조업, 승인된 서비스 프로젝트(ASP), 호텔 또는 관광 사업 에서 일하는 직원의 주거용으로 사용되는 건물은 당해 건물 의 건축/매입으로 발생한 자본적 지출액에 대해 10년간 매년 10%의 공제를 제공하는 특별 산업용 건물 공제(IBA)를 신청 할 수 있는 자격이 주어집니다. 신청서는 국세청(IRB)에 제출하여야 합니다. 30 제3장 과세 제도 조세 제도 1. 말레이시아의 조세 제도 2. 과세 대상 소득의 종류 3. 법인세 4. 개인소득세 4.1 거주자 개인 4.1.1 인적 공제 4.1.2 세금 환급 4.2 비거주자 개인 5. 원천징수세 6. 부동산 양도소득세 7. 판매세 및 서비스세 7.1 판매세 7.1.1 판매세율 7.2 서비스세 7.2.1 과세 가능한 서비스 7.2.2 과세 7.2.3 서비스세율 7.2.4 신용카드와 고객카드에 대한 서비스세율 8. 수입 관세 9. 소비세 10. 관세항소법원 및 사전심사제도 11. 이중과세방지협약 32 조세 제도 제 3장 조세 제도 1. 말레이시아의 조세 제도 기업을 포함한 모든 개인의 말레이시아 국내에서 발생하거나 획득한 소득 또는 말레이시아 국외에서 획득하여 말레이시아 국내에서 수령한 소득은 소득세 과세 대상이 됩니다. 그러나 은행, 보험, 해상 또는 항공 운송 사업을 영위하는 거 주자 기업을 제외한 개인이 과세연도 동안 말레이시아 국외 에서 획득하여 말레이시아 국내에서 수령한 소득은 세금이 면 제됩니다. 조세 행정 제도를 현대화하고 합리화하기 위한 목적으로 회 사, 개인사업자, 파트너십, 협동조합과 봉급생활자 그룹을 대 상으로 신고 납세(self-assessment) 제도가 시행되었고 그리 고 소득세 과세 기간은 당해 연도를 기준으로 하고 있습니다. 2. 과세 대상 소득의 종류 과세 대상 소득은 다음과 같습니다. i. 수행 기간이 어떻게 되든 사업에서 발생한 이득 또는 이윤. ii. 고용으로 발생한 이득 또는 이윤(급여, 보수 등). iii. 배당금, 이자 또는 할인금 iv. 임대료, 로얄티 또는 할증 수익 v. 연금, 보험 연금 또는 기타 정기 지급금 vi. 기타 소득 성격의 이득 또는 이윤 과세 대상 소득은 대상이 될 경우 당해 소득 창출 과정에서 발 생한 허용 가능한 비용, 자본\n",
      "\n",
      "Apakah faedah memohon pengecualian cukai di Malaysia dan bagaimanakah perniagaan boleh menjimatkan kos melalui proses ini? \n"
     ]
    },
    {
     "name": "stderr",
     "output_type": "stream",
     "text": [
      "1500525it [00:20, 72790.51it/s]"
     ]
    },
    {
     "name": "stdout",
     "output_type": "stream",
     "text": [
      " Tidak, tidak semua jenis sukuk mewakili pelanggaran undang-undang syariah. Struktur dan mekanisme sukuk yang digunakan dalam bentuk mudharabah dan musharakah tidak melanggar prinsip syariah. Walau bagaimanapun, perlu diperhatikan bahawa ini mesti disahkan oleh pihak berkuasa syariah yang kompeten sebelum diterbitkan.\n"
     ]
    },
    {
     "name": "stderr",
     "output_type": "stream",
     "text": [
      "1805069it [00:24, 72887.59it/s]"
     ]
    },
    {
     "name": "stdout",
     "output_type": "stream",
     "text": [
      " Perbezaan utama antara sukuk dan bon konvensional adalah seperti berikut:\n",
      "\n",
      "1. Sumber Pembayaran: Sukuk direka untuk mematuhi syariah dan berdasarkan aset sebenar, seperti harta benda, faedah atau perkhidmatan. Bon konvensional, sebaliknya, berdasarkan janji pembayaran oleh peminjam.\n",
      "\n",
      "2. Hak Pemilikan: Pemegang sukuk mempunyai hak pemilikan sebenar terhadap aset yang mendasarinya, manakala pemegang bon konvensional adalah penerima janji pembayaran balik daripada peminjam.\n",
      "\n",
      "3. Keuntungan dan Pulangan: Dalam sukuk, pulangan dibayar berdasarkan pendapatan yang dihasilkan daripada aset yang mendasarinya. Sementara itu, bon konvensional memberikan faedah yang tetap.\n",
      "\n",
      "4. Penilaian Risiko: Sukuk mengalami penilaian risiko melalui proses penentuan harga aset yang mendasarinya. Bon konvensional, sebaliknya, mengalami penilaian risiko melalui proses penentuan kredit peminjam.\n",
      "\n",
      "5. Pengawasan Syariah: Sukuk mesti mematuhi prinsip syariah dan diawasi oleh badan pengawas syariah. Bon konvensional tidak mempunyai keperluan khusus dalam hal ini.\n",
      "\n",
      "Jadi, perbezaan ini membuktikan bahawa sukuk adalah instrumen pelaburan yang sesuai dengan prinsip syariah, manakala bon konvensional mungkin tidak memenuhi syarat ini.\n"
     ]
    },
    {
     "name": "stderr",
     "output_type": "stream",
     "text": [
      "1819847it [00:24, 73214.29it/s]"
     ]
    },
    {
     "name": "stdout",
     "output_type": "stream",
     "text": [
      " Ya, dalam era globalisasi dan kepelbagaian ekonomi, sistem kewangan Islam menawarkan potensi untuk mewujudkan kestabilan dan daya saing dalam pasaran sukuk. Walau bagaimanapun, cabarannya adalah meyakinkan pelabur, sama ada Muslim atau bukan Islam, tentang kekuatan dan keupayaan sistem kewangan Islam sebagai alternatif yang sejajar dengan sistem konvensional.\n",
      "\n",
      "Dalam hal ini, perlu ada pendekatan yang komprehensif untuk mempromosikan sukuk kepada pelabur. Ini melibatkan pendidikan dan kesedaran yang lebih besar tentang prinsip syariah dan faedah ekonomi sukuk. Selain itu, ia juga penting untuk mengekalkan kualiti dan kepercayaan pasaran dengan memastikan terdapat rangka peraturan yang betul dan prosedur yang telus dalam penerbitan dan perdagangan sukuk.\n",
      "\n",
      "Seiring dengan pertumbuhan pasaran sukuk global, peningkatan pilihan instrumen sukuk yang inovatif dan mempelbagaikan portfolio juga boleh menjadi faktor yang menyokong kejayaan sistem kewangan Islam. Oleh itu, usaha kerjasama daripada semua pihak berkepentingan diperlukan, termasuk kerajaan, institusi kewangan dan masyarakat untuk mempromosikan pembangunan pasaran sukuk yang mampan dan inklusif.\n",
      "\n",
      "Jadi, dengan komitmen dan kerjasama yang betul, sistem kewangan Islam mempunyai potensi untuk mencapai kestabilan dan daya saing dalam pasaran sukuk serta meyakinkan pelabur tentang kekuatannya sebagai alternatif yang boleh dipercayai dan mampan.\n",
      " !\n"
     ]
    },
    {
     "name": "stderr",
     "output_type": "stream",
     "text": [
      "2067250it [00:28, 71784.57it/s]"
     ]
    },
    {
     "name": "stdout",
     "output_type": "stream",
     "text": [
      " Menurut Dr. Al-Qari, pemberian pinjaman kepada pemegang sukuk dalam konteks sukuk mudarabah dan sukuk musharakah boleh dilakukan asalkan jumlah yang dikemukakan perlu dikembalikan pada masa yang sesuai. Walau bagaimanapun, jika amalan ini berlaku dalam konteks kontrak penyertaan dan spekulasi yang tidak menjamin sebarang keuntungan, maka janji dan kewajipan pembayaran yang dikemukakan daripada penerbit boleh dianggap sebagai helah untuk mencapai hasil yang dilarang secara langsung. Oleh itu, tidak dibenarkan bagi pengarah kewangan Islam atau wakil pelaburan untuk mengikat diri dengan memberi pinjaman kepada pemegang sukuk apabila terdapat defisit dalam keuntungan yang diharapkan. Ini telah diharamkan oleh Majlis Syariah AAOIFI dalam Fatwa No. 4.\n"
     ]
    },
    {
     "name": "stderr",
     "output_type": "stream",
     "text": [
      "2204076it [00:30, 72006.00it/s]"
     ]
    },
    {
     "name": "stdout",
     "output_type": "stream",
     "text": [
      "..        . \n"
     ]
    },
    {
     "name": "stderr",
     "output_type": "stream",
     "text": [
      "2349828it [00:32, 72831.36it/s]"
     ]
    },
    {
     "name": "stdout",
     "output_type": "stream",
     "text": [
      "수 없습니다. 산업화의 속도가 빨라지고 외국인의 말레이시아에 대한 직접 투자가 증가함에 따라 투자자에게 조세 분야에서의 확실성을 제공하고 보장하기 위해 다른 국가와 조세 협약을 체결하는 것이 필요하게 되었습니다. 2019년 1월 31 일을 기준으로 말레이시아가 이중과세방지협약을 체결한 국가는 다음과 같습니다. 국가 •• 알바니아 •• 독일 •• 몽골 •• 남아프리카공화국 •• 아르헨티나* •• 홍콩 •• 모로코 •• 스페인 •• 호주 •• 헝가리 •• 미얀마 •• 스리랑카 •• 오스트리아 •• 인도 •• 나미비아 •• 수단 •• 바레인 •• 인도네시아 •• 네덜란드 •• 스웨덴 •• 방글라데시 •• 이란 •• 뉴질랜드 •• 스위스 •• 벨기에 •• 아일랜드 •• 노르웨이 •• 시리아 •• 보스니아 헤르체고비나 •• 이태리 •• 파키스탄 •• 태국 •• 브루나이 •• 일본 •• 파푸아 뉴기니 •• 터키 •• 캐나다 •• 요르단 •• 필리핀 •• 투르크메니스탄 •• 중국 •• 카자흐스탄 •• 폴란드 •• 아랍에미리트(UAE) •• 칠레 •• 한국 •• 카타르 •• 영국 •• 크로아티아 •• 쿠웨이트 •• 루마니아 •• 미국* •• 체코공화국 •• 키르기스스탄 •• 러시아 •• 우즈베키스탄 •• 덴마크 •• 라오스 •• 산마리노 •• 베트남 •• 이집트 •• 레바논 •• 사우디아라비아 •• 베네수엘라 •• 피지 •• 룩셈부르크 •• 세이셀 •• 짐바브웨 •• 핀란드 •• 몰타 •• 싱가포르 •• 프랑스 •• 모리셔스 •• 슬로바키아 공화국 * 제한적인 협약 대만(말레이시아 주재 타이베이 경제문화사무처가 대표함)의 경우 다음의 소득세면제령(Income Tax Exemption Order)을 통해 이중과세를 면제받고 있습니다. i. P.U.(A) 201 (1998) ii. P.U.(A) 202 (1998) 보다 자세한 정보에 대해서는 www.hasil.gov.my를 방문하시거나 lhdn_int@hasil.gov.my에 이메일로 문의하시기 바랍니다. 38 제4장 이민 절차 이민 절차 1. 말레이시아 입국 요건 1.1 여권 또는 여행 서류 1.2 비자 요건 1.3 방문비자(Passes) 요건 2. 파견직 외국인의 취업 2.1 파견직 외국인 보직 유형 2.2 파견직 외국인의 고용 지침 3. 해외 주재원 보직 신청 4. 외국인 근로자의 고용 40 이민 절차 비자가 필요한 국가 •• 아프가니스탄* •• 코트디부아르 •• 미얀마(정규여권) •• 앙골라 •• 지부티 •• 네팔 •• 부탄 •• 적도 기니 •• 니제르 •• 부르키나 파소 •• 에리트리아 •• 르완다 •• 부룬디 •• 에디오피아 •• 세르비아공화국 & 몬테네그로공 화국 •• 중앙아메리카공화국 •• 기니-비사우 •• 스리랑카 •• 중국 •• 홍콩 (신분증명서 또는 신분증빙서류) •• 타이완 •• 콜롬비아 •• 인도 •• 유엔(Laissez Passer) •• 콩고민주공화국 •• 라이베리아 •• 서사하라 •• 콩고공화국 •• 말리 비자가 필요한 영연방국가 •• 방글라데시 •• 가나 •• 나이지리아 •• 카메룬 •• 모잠비크 •• 파키스탄 국가별 비자 요건은 다음과 같습니다. 제 4장 이민 절차 1. 말레이시아 입국 요건 1.1 여권 또는 여행 서류 말레이시아에 입국하는 모든 개인은 유효한 말레이시아 여권 또는 말레이시아로 여행하는 데 효력이 있는 기타 국제적으로 인정되는 여행 서류를 소지하여야 합니다. 이들 서류는 적어 도 말레이시아 입국일자 6개월 전에 효력이 있어야 합니다. 말레이시아가 인정하지 않는 여권을 소지하고 있는 개인은 반 드시 여권을 대체할 수 있는 서류는 물론이고 해외의 말레이 시아 대표사무소에서 발급하는 비자를 신청하여야 합니다. 비 자는 각국의 가장 가까운 말레이시아 대표사무소에서 신청할 수 있습니다. 말레이시아 대표사무소가 개설되어 있지 않은 국가에서는 가 장 가까운 고등판무관실(High Commission) 또는 대사관에 비자를 신청할 수 있습니다. 1.2 비자 요건 비자는 외국인의 여권 또는 기타 인정된 여행 문서에 당해 문 서 소지인이 말레이시아 입국 허가를 신청해서 허가를 받았다 는 취지로 찍힌 승인 도장을 말합니다. 말레이시아 입국을 위해 비자를 필요로 하는 외국 국적을 가 진 개인은 반드시 입국 전 해외 말레이시아 대표사무소에서 사전에 비자를 신청하여 발급 받아야 힙니다. 41 이민 절차 3개월 초과 체류 시 비자가 필요한 국가 •• 알바니아 •• 헝가리 •• 폴란드 •• 알제리아 •• 아이슬란드 •• 카타르 •• 아르헨티나 •• 아일랜드 •• 루마니아 •• 호주 •• 이태리 •• 산마리노 •• 오스트리아(비엔나) •• 일본 •• 사우디아라비아 •• 바레인 •• 요르단 •• 슬로바키아 •• 벨기에 •• 키르기스스탄 •• 한국 •• 보스니아-헤르체고비나 •• 쿠웨이트 •• 스페인 •• 브라질 •• 키르기스공화국 •• 스웨덴 •• 크로아티아 •• 레바논 •• 스위스 •• 쿠바 •• 리히텐슈타인 •• 튀니지 •• 체코공화국 •• 룩셈부르크 •• 터키 •• 덴마크 •• 모로코 •• 투르크메니스탄 •• 이집트 •• 네델란드 •• 아랍에미리트(UAE) •• 핀란드 •• 노르웨이 •• 영국 •• 프랑스 •• 오만 •• 우루과이 •• 독일 •• 페루 •• 예멘 14일 초과 체류 시 비자가 필요한 국가 •• 이란 •• 마카오 (여행허가서/포르투갈 신원증명서) •• 소말리아 •• 이라크 •• 팔레스타인 •• 시리아 •• 리비아 •• 시에라이 42 이민 절차 1개월 초과 체류 시 비자가 필요한 국가 •• 아르메니아 •• 과테말라 •• 파나마 •• 아제르바이잔 •• 기니공화국 •• 파라과이 •• 바베이도스 •• 아이티 •• 포르투갈 •• 벨라루스 •• 온두라스 •• 러시아 •• 베냉 •• 홍콩 특별 행정구 •• 상투메 프린시페 •• 볼리비아 •• 카자흐스탄 •• 세네갈 •• 불가리아 •• 라트비아 •• 슬로베니아 ••\n",
      "\n",
      "Apakah tujuan Malaysia memasuki perjanjian cukai dengan negara lain? \n"
     ]
    },
    {
     "name": "stderr",
     "output_type": "stream",
     "text": [
      "2433161it [00:33, 72861.71it/s]"
     ]
    },
    {
     "name": "stdout",
     "output_type": "stream",
     "text": [
      "Apakah faedah dan keperluan untuk memohon insentif cukai untuk pusat jagaan kanak-kanak milik persendirian di Malaysia? \n"
     ]
    },
    {
     "name": "stderr",
     "output_type": "stream",
     "text": [
      "\n"
     ]
    }
   ],
   "source": [
    "from tqdm import tqdm\n",
    "\n",
    "data = []\n",
    "with open('shuf-combine-malay-multitasks-partial-ultrachat-v3.jsonl') as fopen:\n",
    "    for l in tqdm(fopen):\n",
    "        l = json.loads(l)\n",
    "        if 'function_call' in l and not isinstance(l['function_call'], str):\n",
    "            print(l['function_call'])\n",
    "        if generate_and_tokenize_prompt(l) is not None:\n",
    "            data.append(l)"
   ]
  },
  {
   "cell_type": "code",
   "execution_count": 33,
   "id": "6c0ef662",
   "metadata": {},
   "outputs": [
    {
     "data": {
      "text/plain": [
       "2433132"
      ]
     },
     "execution_count": 33,
     "metadata": {},
     "output_type": "execute_result"
    }
   ],
   "source": [
    "len(data)"
   ]
  },
  {
   "cell_type": "code",
   "execution_count": 34,
   "id": "f411f5f1",
   "metadata": {},
   "outputs": [],
   "source": [
    "with open('shuf-combine-malay-multitasks-partial-ultrachat-v3.jsonl', 'w') as fopen:\n",
    "    for d in data:\n",
    "        fopen.write(f'{json.dumps(d)}\\n')"
   ]
  },
  {
   "cell_type": "code",
   "execution_count": 35,
   "id": "5e520e00",
   "metadata": {},
   "outputs": [
    {
     "name": "stdout",
     "output_type": "stream",
     "text": [
      "2433132 shuf-combine-malay-multitasks-partial-ultrachat-v3.jsonl\r\n"
     ]
    }
   ],
   "source": [
    "!wc -l shuf-combine-malay-multitasks-partial-ultrachat-v3.jsonl"
   ]
  },
  {
   "cell_type": "code",
   "execution_count": 36,
   "id": "10f56ef5",
   "metadata": {},
   "outputs": [
    {
     "name": "stderr",
     "output_type": "stream",
     "text": [
      "2433132it [00:30, 79960.73it/s]\n"
     ]
    }
   ],
   "source": [
    "with open('shuf-combine-malay-multitasks-partial-ultrachat-v3.jsonl') as fopen:\n",
    "    for l in tqdm(fopen):\n",
    "        l = json.loads(l)\n",
    "        if 'function_call' in l and not isinstance(l['function_call'], str):\n",
    "            print(l['function_call'])\n",
    "        if generate_and_tokenize_prompt(l) is None:\n",
    "            break"
   ]
  },
  {
   "cell_type": "code",
   "execution_count": 37,
   "id": "1162291b",
   "metadata": {},
   "outputs": [
    {
     "name": "stderr",
     "output_type": "stream",
     "text": [
      "2433132it [00:18, 134541.20it/s]\n"
     ]
    }
   ],
   "source": [
    "with open('shuf-combine-malay-multitasks-partial-ultrachat-v3.jsonl') as fopen:\n",
    "    for l in tqdm(fopen):\n",
    "        l = json.loads(l)\n",
    "        if 'function_call' in l:\n",
    "            break"
   ]
  },
  {
   "cell_type": "code",
   "execution_count": 38,
   "id": "2ec02091",
   "metadata": {},
   "outputs": [
    {
     "name": "stdout",
     "output_type": "stream",
     "text": [
      "{\"prompt_input\": null, \"input\": \"Siapakah orang yang boleh membuat permohonan bagi tugas tetap atau jabatan pengetua sekolah, dan apakah prosedur yang harus diikuti?\", \"output\": \"Orang yang boleh membuat permohonan untuk tugasan tetap atau jawatan pengetua sekolah adalah individu yang memenuhi syarat yang ditetapkan oleh pejabat pendidikan negeri yang berkenaan. Istilah umum termasuk:\\n\\n1. Ikhlas dan tidak terganggu dengan sebarang kesilapan yang boleh menyebabkan kegagalan dalam menjalankan tugas.\\n2. Warganegara Malaysia atau warga asing yang mempunyai lesen kayu atau permit kerja yang sah.\\n3. Berumur 45 tahun ke bawah.\\n4. Mempunyai diploma kolej atau lebih tinggi dalam bidang pendidikan atau pendidikan sains.\\n5. Mempunyai pengalaman bekerja sebagai guru atau kakitangan kementerian pendidikan sekurang-kurangnya 5 tahun.\\n6. Telah mengikuti kursus pendidikan atau latihan yang ditetapkan oleh pejabat pendidikan negeri.\\n7. Lulus peperiksaan kesihatan yang ditetapkan oleh jabatan pendidikan negeri.\\n\\nProsedur untuk membuat permohonan tugasan tetap atau jawatan pengetua sekolah termasuk langkah-langkah berikut:\\n\\n1. Ambil tawaran permohonan yang disediakan oleh jabatan pendidikan negeri dalam tempoh yang ditetapkan.\\n2. Memenuhi semua keperluan yang ditetapkan oleh jabatan pendidikan negeri.\\n3. Isi borang permohonan dengan betul dan lengkap.\\n4. Sertakan semua lampiran yang diminta, seperti:\\n* Sijil pendidikan.\\n* Resume atau senarai semak pengalaman kerja.\\n* Sijil daripada pegawai berkenaan pengalaman bekerja.\\n* Sijil kesihatan yang dikeluarkan oleh pegawai perubatan yang dilantik oleh jabatan pendidikan negeri.\\n* Rekod penalti polisi (jika ada).\\n5. Kemukakan permohonan ke pejabat pendidikan negeri yang ditetapkan sebelum tarikh yang ditetapkan.\\n6. Menghadapi temuduga atau ujian lain yang ditentukan oleh pejabat pendidikan negeri.\\n7. Tunggu keputusan pejabat pelajaran negeri berhubung permohonan.\"}\r\n",
      "{\"prompt_input\": null, \"input\": \"<manusia>: Satu cara yang cekap untuk menyusun array dalam Python ialah dengan menggunakan kaedah \\\"sort()\\\". Dengan menggunakan kaedah ini, anda hanya perlu memanggil kaedah \\\"sort()\\\" untuk array yang ingin anda susun. Berikut adalah contoh kod yang menunjukkan bagaimana menggunakan kaedah \\\"sort()\\\" untuk menyusun array dalam Python:\\n\\n```python\\n# Array yang tidak tersusun\\narray = [5, 2, 8, 6, 3]\\n\\n# Menyusun array menggunakan kaedah 'sort()'\\narray.sort()\\n\\n# Menampilkan array yang sudah tersusun\\nprint(\\\"Array yang sudah tersusun:\\\", array)\\n```\\n\\nOutput yang dihasilkan akan menjadi seperti berikut:\\n\\n```\\nArray yang sudah tersusun: [2, 3, 5, 6, 8]\\n```\\n\\nKaedah \\\"sort()\\\" juga membenarkan anda untuk menyusun elemen array dalam urutan mengecil. Untuk melakukan ini, anda boleh menggunakan parameter tambahan `reverse=True` ketika memanggil \\\"sort()\\\". Berikut adalah contoh kod untuk menyusun array dalam urutan mengecil:\\n\\n```python\\n# Array yang tidak tersusun\\narray = [5, 2, 8, 6, 3]\\n\\n# Menyusun array dalam urutan mengecil\\narray.sort(reverse=True)\\n\\n# Menampilkan array yang sudah tersusun dalam urutan mengecil\\nprint(\\\"Array yang sudah tersusun dalam urutan mengecil:\\\", array)\\n```\\n\\nOutput yang dihasilkan akan menjadi seperti berikut:\\n\\n```\\nArray yang sudah tersusun dalam urutan mengecil: [8, 6, 5, 3, 2]\\n```\\n\\nDengan menggunakan kaedah `sort()`, anda dapat menyusun array dalam urutan menaik atau mengecil dengan mudah dalam bahasa Python.\\n<bot>: Baiklah, cara yang anda tunjukkan untuk menyusun array menggunakan kaedah \\\"sort()\\\" dalam Python adalah cara yang cekap. Kaedah \\\"sort()\\\" akan menyusun array secara lalai dalam urutan menaik.\\n\\nAnda juga telah menunjukkan cara untuk menyusun array dalam urutan kecil menggunakan argumen pilihan \\\"reverse=True\\\" apabila memanggil kaedah \\\"sort()\\\".\\n\\nIni adalah contoh kod yang menunjukkan cara lain untuk menyusun array dalam urutan menaik menggunakan fungsi \\\"sorted()\\\" dalam Python:\\n\\n```python\\n# Array tidak teratur\\narray = [5, 2, 8, 6, 3]\\n\\n# Susun array menggunakan fungsi'sorted()'\\narray_sorted = sorted(array)\\n\\n# Papar array yang telah disusun\\nprint(\\\"Array yang telah disusun:\\\", array_sorted)\\n```\\n\\nOutput akan sama dengan contoh sebelumnya:\\n\\n```\\nArray yang telah disusun: [2, 3, 5, 6, 8]\\n```\\n\\nFungsi \\\"sorted()\\\" akan mengembalikan hasil susunan baru dari array yang anda berikan sebagai argumen, supaya array asal tetap tidak berubah.\\n<manusia>: Wah, sangat menarik! Selain menggunakan kaedah \\\"sort()\\\" dan fungsi \\\"sorted()\\\", adakah terdapat cara lain untuk menyusun tatasusunan dalam Python? Saya ingin tahu sama ada terdapat kaedah atau fungsi lain yang boleh saya gunakan. Sila berikan maklumat yang lebih lengkap. Terima kasih!\\n<bot>: Tentu! Selain menggunakan kaedah \\\"sort()\\\" dan fungsi \\\"sorted()\\\", terdapat beberapa kaedah lain yang boleh anda gunakan untuk menyusun array dalam Python. Berikut adalah beberapa daripadanya:\\n\\n1. Kaedah \\\"sorted()\\\" dengan argumen \\\"key\\\": Anda boleh menggunakan argumen \\\"key\\\" dalam fungsi \\\"sorted()\\\" untuk menggantikan elemen array dengan nilai yang dihasilkan menggunakan fungsi khas sebelum penyusunan dilakukan. Contohnya:\\n\\n```python\\n# Array yang tidak tersusun\\narray = [\\\"apel\\\", \\\"jeruk\\\", \\\"mangga\\\", \\\"pisang\\\"]\\n\\n# Susun array berdasarkan panjang perkataan\\narray_sorted = sorted(array, key=len)\\n\\n# Papar array yang sudah tersusun\\nprint(\\\"Array yang sudah tersusun:\\\", array_sorted)\\n```\\n\\nOutputnya akan menjadi:\\n\\n```\\nArray yang sudah tersusun: ['apel', 'pisang', 'jeruk','mangga']\\n```\\n\\nDalam contoh ini, fungsi \\\"len\\\" digunakan sebagai argumen \\\"key\\\" untuk menyusun array berdasarkan panjang perkataan.\\n\\n2. Fungsi \\\"operator.itemgetter()\\\": Modul \\\"operator\\\" dalam Python menyediakan fungsi \\\"itemgetter()\\\" yang boleh digunakan untuk menyusun array berdasarkan indeks elemen tertentu. Contohnya:\\n\\n```python\\n# Array yang tidak tersusun\\narray = [(2, \\\"b\\\"), (1, \\\"a\\\"), (3, \\\"c\\\")]\\n\\n# Susun array berdasarkan indeks pertama\\nimport operator\\narray_sorted = sorted(array, key=operator.itemgetter(0))\\n\\n# Papar array yang sudah tersusun\\nprint(\\\"Array yang sudah tersusun:\\\", array_sorted)\\n```\\n\\nOutputnya akan menjadi:\\n\\n```\\nArray yang sudah tersusun: [(1, 'a'), (2, 'b'), (3, 'c')]\\n```\\n\\nDalam contoh ini, fungsi \\\"operator.itemgetter()\\\" dengan argumen 0 digunakan untuk menyusun array berdasarkan indeks pertama setiap elemen.\\n\\nDengan menggunakan kaedah dan fungsi ini, anda mempunyai beberapa pilihan untuk menyusun array dalam Python yang sesuai dengan keperluan anda.\\n<manusia>: Wah, maklumat yang awak bagi sangat menarik! Tetapi saya ingin tahu, adakah kaedah \\\"sorted()\\\" dan kaedah \\\"sort()\\\" mempunyai perbezaan lain selain urutan urutan? Saya ingin lebih memahami perbezaan antara kedua-dua kaedah.\\n<bot>: Tentu! Selain perbezaan dalam susunan tertib, terdapat beberapa perbezaan lain antara kaedah \\\"sorted()\\\" dan kaedah \\\"sort()\\\" dalam Python. Berikut adalah perbezaan:\\n\\n1. Kaedah \\\"sort()\\\" menukar array asal: Apabila anda menggunakan kaedah \\\"sort()\\\", array yang anda urutkan akan ditukar secara langsung. Ini bermakna array asal akan tertib selepas kaedah \\\"sort()\\\" dipanggil. Contohnya:\\n\\n```python\\n# Array awal\\narray = [5, 2, 8, 6, 3]\\n\\n# Menggunakan kaedah'sort()'\\narray.sort()\\n\\n# Papar array selepas tertib\\nprint(\\\"Array selepas tertib:\\\", array)\\n```\\n\\nOutputnya akan menjadi:\\n\\n```\\nArray selepas tertib: [2, 3, 5, 6, 8]\\n```\\n\\nWalau bagaimanapun, kaedah \\\"sorted()\\\" tidak menukar array asal, sebaliknya mengembalikan hasil tertib dalam bentuk array baru. Contohnya:\\n\\n```python\\n# Array awal\\narray = [5, 2, 8, 6, 3]\\n\\n# Menggunakan fungsi'sorted()'\\narray_sorted = sorted(array)\\n\\n# Papar array yang tertib\\nprint(\\\"Array tertib:\\\", array_sorted)\\n\\n# Papar array awal (belum tertib)\\nprint(\\\"Array awal (belum tertib):\\\", array)\\n```\\n\\nOutputnya akan menjadi:\\n\\n```\\nArray tertib: [2, 3, 5, 6, 8]\\nArray awal (belum tertib): [5, 2, 8, 6, 3]\\n```\\n\\nDalam contoh ini, array asal kekal tidak tertib selepas menggunakan fungsi \\\"sorted()\\\".\\n\\n2. Kaedah \\\"sorted()\\\" berfungsi pada pelbagai jenis iterable: Kaedah \\\"sorted()\\\" boleh berfungsi pada pelbagai jenis iterable seperti senarai, tuple, set, dan kamus. Ini bermakna anda boleh menggunakan kaedah \\\"sorted()\\\" untuk mengurutkan bukan sahaja array, tetapi juga jenis data lain yang boleh diiterasi. Sementara itu, kaedah \\\"sort()\\\" hanya berfungsi pada objek senarai.\\n\\nDengan pemahaman tentang perbezaan ini, anda boleh memilih kaedah yang sesuai dengan keperluan anda semasa menyusun array dalam Python.\", \"output\": null}\r\n",
      "{\"prompt_input\": null, \"input\": \"Nyatakan dan terangkan satu contoh penggunaan kata pinjaman dari bahasa Inggeris yang telah diadaptasi ke dalam Bahasa Melayu dalam budaya Malaysia.\", \"output\": \"Salah satu contoh kata pinjaman dari bahasa Inggeris yang telah diadaptasi ke dalam Bahasa Melayu dalam budaya Malaysia ialah perkataan \\\"komputer\\\". Dalam Bahasa Inggeris, ia disebut \\\"computer\\\", merujuk kepada alat elektronik yang digunakan untuk memproses data dan menjalankan pelbagai instruksi melalui perisian.\\n\\nDalam Bahasa Melayu, kata \\\"komputer\\\" telah diserap dan diadaptasi dengan pengucapan serta ejaan yang hampir serupa, kecuali beberapa perbedaan fonetik. Kata ini telah digunakan secara meluas dalam masyarakat Malaysia tidak kira dalam bidang pendidikan, pekerjaan, ataupun kehidupan seharian. Misalnya, \\\"Saya sedang belajar cara menggunakan komputer untuk menyelesaikan kerja kursus.\\\"\\n\\nAdaptasi kata pinjaman ini juga meliputi pembentukan kata terbitan atau derivatif, contohnya \\\"pengkomputeran\\\" yang bermaksud aktivitas atau proses yang berkaitan dengan penggunaan komputer, dan \\\"berkomputer\\\" yang bermaksud melakukan aktivitas dengan menggunakan komputer.\\n\\nPemilihan kata \\\"komputer\\\" sebagai pinjaman dan adaptasinya ke dalam Bahasa Melayu menunjukkan bagaimana bahasa itu secara dinamik mengintegrasikan istilah teknologi baru untuk memenuhi keperluan komunikasi dalam era digital dan teknologi maklumat yang sedang berkembang pesat.\"}\r\n"
     ]
    }
   ],
   "source": [
    "!head -n 3 shuf-combine-malay-multitasks-partial-ultrachat-v3.jsonl"
   ]
  },
  {
   "cell_type": "code",
   "execution_count": 42,
   "id": "8a8e0a75",
   "metadata": {},
   "outputs": [
    {
     "name": "stderr",
     "output_type": "stream",
     "text": [
      "/home/husein/.local/lib/python3.8/site-packages/requests/__init__.py:102: RequestsDependencyWarning: urllib3 (1.26.15) or chardet (5.2.0)/charset_normalizer (2.0.7) doesn't match a supported version!\n",
      "  warnings.warn(\"urllib3 ({}) or chardet ({})/charset_normalizer ({}) doesn't match a supported \"\n"
     ]
    },
    {
     "data": {
      "application/vnd.jupyter.widget-view+json": {
       "model_id": "85dff6a54df34d9ab806b0a88b273339",
       "version_major": 2,
       "version_minor": 0
      },
      "text/plain": [
       "shuf-combine-malay-multitasks-partial-ultrachat-v3.jsonl:   0%|          | 0.00/9.40G [00:00<?, ?B/s]"
      ]
     },
     "metadata": {},
     "output_type": "display_data"
    },
    {
     "data": {
      "text/plain": [
       "CommitInfo(commit_url='https://huggingface.co/datasets/mesolitica/instructions-dataset/commit/6d4caab040b3d1e7fa5f1f8962a878f4d17c7f93', commit_message='Upload shuf-combine-malay-multitasks-partial-ultrachat-v3.jsonl with huggingface_hub', commit_description='', oid='6d4caab040b3d1e7fa5f1f8962a878f4d17c7f93', pr_url=None, pr_revision=None, pr_num=None)"
      ]
     },
     "execution_count": 42,
     "metadata": {},
     "output_type": "execute_result"
    }
   ],
   "source": [
    "from huggingface_hub import HfApi\n",
    "api = HfApi()\n",
    "api.upload_file(\n",
    "    path_or_fileobj='shuf-combine-malay-multitasks-partial-ultrachat-v3.jsonl',\n",
    "    path_in_repo='shuf-combine-malay-multitasks-partial-ultrachat-v3.jsonl',\n",
    "    repo_id='mesolitica/instructions-dataset',\n",
    "    repo_type='dataset',\n",
    ")"
   ]
  },
  {
   "cell_type": "code",
   "execution_count": 40,
   "id": "ea46dcfd",
   "metadata": {},
   "outputs": [
    {
     "name": "stdout",
     "output_type": "stream",
     "text": [
      "{\"prompt_input\": null, \"input\": \"Siapakah orang yang boleh membuat permohonan bagi tugas tetap atau jabatan pengetua sekolah, dan apakah prosedur yang harus diikuti?\", \"output\": \"Orang yang boleh membuat permohonan untuk tugasan tetap atau jawatan pengetua sekolah adalah individu yang memenuhi syarat yang ditetapkan oleh pejabat pendidikan negeri yang berkenaan. Istilah umum termasuk:\\n\\n1. Ikhlas dan tidak terganggu dengan sebarang kesilapan yang boleh menyebabkan kegagalan dalam menjalankan tugas.\\n2. Warganegara Malaysia atau warga asing yang mempunyai lesen kayu atau permit kerja yang sah.\\n3. Berumur 45 tahun ke bawah.\\n4. Mempunyai diploma kolej atau lebih tinggi dalam bidang pendidikan atau pendidikan sains.\\n5. Mempunyai pengalaman bekerja sebagai guru atau kakitangan kementerian pendidikan sekurang-kurangnya 5 tahun.\\n6. Telah mengikuti kursus pendidikan atau latihan yang ditetapkan oleh pejabat pendidikan negeri.\\n7. Lulus peperiksaan kesihatan yang ditetapkan oleh jabatan pendidikan negeri.\\n\\nProsedur untuk membuat permohonan tugasan tetap atau jawatan pengetua sekolah termasuk langkah-langkah berikut:\\n\\n1. Ambil tawaran permohonan yang disediakan oleh jabatan pendidikan negeri dalam tempoh yang ditetapkan.\\n2. Memenuhi semua keperluan yang ditetapkan oleh jabatan pendidikan negeri.\\n3. Isi borang permohonan dengan betul dan lengkap.\\n4. Sertakan semua lampiran yang diminta, seperti:\\n* Sijil pendidikan.\\n* Resume atau senarai semak pengalaman kerja.\\n* Sijil daripada pegawai berkenaan pengalaman bekerja.\\n* Sijil kesihatan yang dikeluarkan oleh pegawai perubatan yang dilantik oleh jabatan pendidikan negeri.\\n* Rekod penalti polisi (jika ada).\\n5. Kemukakan permohonan ke pejabat pendidikan negeri yang ditetapkan sebelum tarikh yang ditetapkan.\\n6. Menghadapi temuduga atau ujian lain yang ditentukan oleh pejabat pendidikan negeri.\\n7. Tunggu keputusan pejabat pelajaran negeri berhubung permohonan.\"}\r\n"
     ]
    }
   ],
   "source": [
    "!head -n 1 shuf-combine-malay-multitasks-partial-ultrachat-v3.jsonl"
   ]
  },
  {
   "cell_type": "code",
   "execution_count": 41,
   "id": "385e817e",
   "metadata": {},
   "outputs": [
    {
     "name": "stdout",
     "output_type": "stream",
     "text": [
      "{\"prompt_input\": null, \"input\": \"<manusia>: Apakah kepentingan kerjasama tiga hala antara Filipina, Indonesia, dan Malaysia berhubung dengan keselamatan dan pertahanan wilayah itu?\\n<bot>: Kerjasama trilateral antara Filipina, Indonesia, dan Malaysia adalah sangat penting dalam menjaga keselamatan dan pertahanan rantau ini. Keselamatan dan pertahanan negara-negara ini turut terjejas oleh apa yang berlaku di negara jiran seperti di Marawi, dan juga di Syria dan Iraq. Dengan kerjasama ini, tiga negara boleh bekerjasama dalam memantau dan mengawal ancaman yang melibatkan Wilayah Islamiah atau Negara Islam dalam kawasan kita, termasuk di Indonesia, Filipina, dan Malaysia.\\n\\nDalam konteks ini, serangan yang berjaya menekan ISIS dan Daish di Iraq dan Syria mungkin akan menyebabkan pejuang yang kembali mencari tempat baru untuk bertapak. Oleh itu, ancaman ini perlu dihadapi dengan serius dan kerjasama trilateral boleh membantu dalam memantau dan menangani perkembangan tersebut. Selain itu, seiring dengan perkembangan teknologi dan penggunaan media sosial, ancaman daripada kumpulan ini semakin kompleks dan menyeluruh, melibatkan negara-negara besar seperti Amerika Syarikat dan UK. Oleh itu, kerjasama ini penting untuk menjaga keselamatan rantau ini dan bertindak menghadapi ancaman IS dan Daesh ini.\\n<manusia>: Bagaimanakah pihak berkuasa dalam kerjasama tiga hala ini bekerjasama memantau perkembangan terkini mengenai ancaman kumpulan ISIS dan Daesh? Apakah tindakan konkrit yang telah diambil untuk menangani ancaman ini?\\n<bot>: Dalam kerjasama trilateral ini, pihak berkuasa dari Filipina, Indonesia, dan Malaysia bekerjasama dalam memantau perkembangan terkini mengenai ancaman kumpulan ISIS dan Daesh. Mereka berkongsi maklumat, risikan, dan pemantauan untuk mengumpul data mengenai aktiviti pengganas dan rangkaian mereka.\\n\\nTindakan konkrit yang telah diambil melibatkan peningkatan kerjasama antara pasukan keselamatan dari ketiga-tiga negara, termasuk pertukaran pengetahuan dan kepakaran dalam bidang anti-keganasan. Selain itu, mereka juga mengadakan latihan bersama dan operasi bersama untuk meningkatkan interaksi dan penyelarasan antara pasukan keselamatan.\\n\\nSelain itu, mereka juga melibatkan kerjasama dengan negara-negara lain dan pertubuhan antarabangsa seperti ASEAN, Interpol, dan PBB dalam memerangi ancaman ISIS dan Daesh. Tindakan penguatkuasaan undang-undang juga diambil untuk menangkap dan menghukum mereka yang terlibat dalam aktiviti keganasan.\\n\\nDengan kerjasama trilateral dan tindakan-tindakan ini, pihak berkuasa berusaha untuk menghadapi ancaman daripada ISIS dan Daesh dengan lebih berkesan dan berkesan.\", \"output\": null}\r\n",
      "{\"prompt_input\": null, \"input\": \"<manusia>: Apakah kepentingan gabungan paradigma dalam pembangunan perisian? Berikan satu contoh bagaimana gabungan paradigma boleh membantu menyelesaikan masalah kompleks.\\n<bot>: Gabungan paradigma dalam pembangunan perisian mempunyai kepentingan yang besar kerana ia membolehkan kita menggunakan pelbagai paradigma yang lebih baik untuk menyelesaikan masalah yang kompleks. Sebagai contoh, dalam pembangunan aplikasi saintifik yang memerlukan pengiraan kompleks dan antara muka pengguna untuk visualisasi, kita boleh menggabungkan pengaturcaraan berorientasikan objek dan pengaturcaraan berfungsi. Pengaturcaraan berfungsi boleh digunakan untuk melaksanakan pengiraan yang kompleks, kerana ia membenarkan pengiraan yang mudah selari dan memberikan prestasi yang baik. Manakala, pengaturcaraan berorientasikan objek boleh digunakan untuk memodelkan data dan interaksi pengguna, kerana ia menyediakan cara semula jadi untuk mewakili objek dan hubungan mereka.\\n\\nDengan menggabungkan paradigma, kita boleh mencipta aplikasi yang lebih berkesan, mudah dijaga dan mudah dibangunkan. Walau bagaimanapun, adalah penting untuk memilih paradigma dengan bijak dan memastikan ia serasi dan boleh berfungsi dengan lancar bersama-sama. Terdapat pelbagai kombinasi paradigma yang boleh digunakan bergantung pada keperluan dan keadaan projek yang sedang dibangunkan.\\n<manusia>: Maaf, saya tidak faham penjelasan yang diberikan. Bolehkah anda menerangkannya dalam bahasa yang lebih mudah difahami?\\n<bot>: Sudah tentu! Gabungan paradigma dalam pembangunan perisian bermakna menggunakan beberapa cara atau pendekatan dalam menyelesaikan masalah yang kompleks. Sebagai contoh, bayangkan kita sedang membangunkan aplikasi saintifik yang memerlukan pengiraan yang rumit dan antara muka pengguna untuk melihat data. Dalam situasi seperti ini, kita boleh menggabungkan kaedah pengaturcaraan yang berbeza.\\n\\nSatu cara pengaturcaraan yang boleh digunakan ialah pengaturcaraan berorientasikan objek, di mana kita membuat \\\"objek\\\" yang mewakili data dan interaksi pengguna. Ini membolehkan kita mengurus data dengan lebih teratur.\\n\\nCara pengaturcaraan lain ialah pengaturcaraan berfungsi. Dalam pengaturcaraan ini, kita memberi tumpuan kepada pengiraan dan menjalankan operasi matematik. Pengaturcaraan berfungsi juga membenarkan pengiraan dilakukan serentak, yang menjadikan aplikasi kita berjalan lebih pantas.\\n\\nDengan menggabungkan kedua-dua kaedah pengaturcaraan ini, kita boleh mencipta aplikasi yang lebih berkuasa dan fleksibel. Objek yang kita cipta boleh digunakan untuk memodelkan data dan penggunaan, manakala fungsi akan menjalankan pengiraan yang kompleks.\\n\\nJadi, gabungan paradigma dalam pembangunan perisian adalah seperti menggunakan pelbagai alat dan pendekatan yang tidak sama untuk menyelesaikan masalah yang kompleks. Ini membolehkan kita mencapai hasil yang lebih baik dan aplikasi yang lebih berkualiti. Semoga penjelasan ini lebih mudah difahami! Ada apa-apa lagi yang anda ingin tanyakan?\\n<manusia>: Maaf, saya agak keliru dengan penjelasan yang diberikan. Bolehkah anda memberikan contoh yang lebih konkrit tentang bagaimana gabungan paradigma boleh digunakan dalam pembangunan aplikasi?\\n<bot>: Sudah tentu, mari kita lihat contoh bagaimana gabungan paradigma boleh digunakan dalam pembangunan aplikasi.\\n\\nSebagai contoh, kita ingin membina aplikasi penyunting foto. Aplikasi ini perlu mempunyai antara muka pengguna interaktif, keupayaan untuk mengubah suai dan memanipulasi imej, serta keupayaan untuk menyimpan dan membuka fail.\\n\\nUntuk mencapai ini, kita boleh menggabungkan paradigma berorientasikan objek dan paradigma prosedural.\\n\\nDalam paradigma berorientasikan objek, kita boleh membuat kelas seperti \\\"Gambar\\\" untuk mewakili dan mengurus imej, atau \\\"Tombol\\\" untuk mengawal fungsi dalam aplikasi. Konsep pewarisan dan polimorfisme dalam paradigma ini memudahkan kita menyusun dan mengurus kod secara berstruktur.\\n\\nSebaliknya, paradigma prosedural boleh digunakan untuk menulis fungsi yang menjalankan operasi pada imej, seperti mengubah saiz, menyesuaikan kecerahan, atau melaksanakan penapis. Paradigma ini memberi tumpuan kepada langkah prosedur yang dilakukan untuk mencapai matlamat.\\n\\nDengan menggabungkan kedua-dua paradigma ini, aplikasi penyunting foto kita boleh menjadi lebih berstruktur dan fleksibel. Paradigma berorientasikan objek membolehkan kita menyusun kod dengan baik, manakala paradigma prosedural membolehkan kita melaksanakan fungsi yang diperlukan.\\n\\nJadi, contoh ini menunjukkan bagaimana dengan menggabungkan paradigma berorientasikan objek dan prosedural, kita boleh mencipta aplikasi penyunting foto yang lebih berkesan dan boleh dipercayai.\\n\\nSemoga contoh ini membantu anda memahami bagaimana gabungan paradigma boleh digunakan dalam pembangunan aplikasi! Adakah terdapat soalan lain yang anda ingin nyatakan?\\n<manusia>: Maaf, saya masih keliru dengan penjelasan yang diberikan. Adakah terdapat cara lain untuk menerangkan bagaimana gabungan paradigma boleh digunakan dalam pembangunan aplikasi?\\n<bot>: Sudah tentu, mari kita cuba menerangkannya dengan cara lain yang mudah difahami.\\n\\nBayangkan kita ingin membina aplikasi tempahan makanan dalam talian. Dalam aplikasi ini, kita perlu mempunyai ciri seperti senarai menu, bakul beli-belah dan pembayaran.\\n\\nUntuk mencapai ini, kita boleh menggabungkan paradigma pengaturcaraan berorientasikan objek dan pengaturcaraan berasaskan peristiwa (program yang didorong peristiwa).\\n\\nDalam paradigma berorientasikan objek, kita akan membuat kelas seperti \\\"Menu\\\" dan \\\"KeranjangBelanja\\\" untuk menguruskan maklumat tentang menu dan item yang dipilih oleh pengguna. Kita juga boleh membuat kelas \\\"Pembayaran\\\" untuk mengurus proses pembayaran.\\n\\nSementara itu, dalam pengaturcaraan berasaskan peristiwa, kita akan menggunakan mekanisme tetapan peristiwa atau peristiwa untuk menangani interaksi pengguna. Sebagai contoh, apabila pengguna menambah item ke dalam bakul beli-belah, sesuatu peristiwa akan dicetuskan dan aplikasi akan bertindak balas dengan memaparkan item dalam bakul.\\n\\nDengan menggabungkan kedua-dua paradigma ini, kita boleh mencipta aplikasi tempahan makanan dalam talian yang berkesan dan interaktif. Paradigma berorientasikan objek membolehkan kita menyusun dan mengurus data dengan baik, manakala pengaturcaraan berasaskan peristiwa membolehkan kita bertindak balas terhadap interaksi pengguna secara masa nyata.\\n\\nJadi, gabungan paradigma dalam pembangunan aplikasi membolehkan kita menggunakan kelebihan setiap paradigma untuk mencapai matlamat yang anda inginkan. Adakah terdapat perkara lain yang masih belum jelas atau ada soalan lain yang anda ingin sampaikan? Saya sedia membantu!\", \"output\": null}\r\n",
      "{\"prompt_input\": null, \"input\": \"<manusia>: Apakah peranan GPS RTK dalam bidang pembinaan dan kejuruteraan? Bagaimanakah RTK GPS berfungsi dan mengapa ia penting dalam projek ini?\\n<bot>: GPS RTK memainkan peranan penting dalam bidang pembinaan dan kejuruteraan dengan membolehkan pengukuran yang lebih tepat dan tepat. Ia menggunakan penerima rujukan dan penerima mudah alih untuk membetulkan kesilapan dalam isyarat GPS. Apabila penerima mudah alih menerima isyarat daripada satelit GPS, ia membandingkan isyarat itu dengan isyarat yang diterima oleh penerima rujukan di lokasi yang diketahui. Perbezaan antara kedua-dua isyarat digunakan untuk mengira kesilapan dalam pengukuran yang dibuat oleh penerima mudah alih. Maklumat ini kemudiannya dihantar kepada penerima mudah alih secara langsung, membenarkan pengukuran yang diperbetulkan dengan segera. GPS RTK sangat penting dalam projek pembinaan dan kejuruteraan kerana ia membolehkan pengukuran yang tepat dan tepat untuk perancangan dan pelaksanaan yang betul.\\n<manusia>: Maaf, saya tidak begitu memahami penjelasan yang diberikan. Bolehkah anda memberi saya contoh penggunaan GPS RTK dalam projek pembinaan dan kejuruteraan?\\n<bot>: Sudah tentu! Dalam projek pembinaan, GPS RTK boleh digunakan untuk pelbagai tujuan. Contohnya, dalam pemetaan dan penentuan had pergerakan. Dengan menggunakan GPS RTK, pihak pembinaan boleh menentukan dengan tepat kedudukan dan had kawasan pembinaan. Ini membolehkan mereka merancang secara berkesan dan mengelakkan daripada melanggar had yang ditetapkan.\\n\\nSelain itu, GPS RTK juga berguna dalam proses pemantauan pembinaan. Dengan menggunakan penerima mudah alih yang dilengkapi dengan GPS RTK, pakar kejuruteraan boleh mengesan kedudukan dan pergerakan mesin atau peralatan pembinaan. Ia membolehkan mereka memantau dengan berkesan kemajuan pembinaan serta memastikan semua kerja dilakukan dengan betul.\\n\\nSelain projek pembinaan, GPS RTK juga digunakan dalam projek kejuruteraan seperti pengukuran dan pemetaan tapak. Dalam projek pembinaan jalan raya, contohnya, GPS RTK boleh digunakan untuk menentukan kedudukan yang betul untuk penguasaan kawasan pembinaan jalan. Ini memudahkan proses pembinaan dan memastikan jalan dibina di lokasi yang betul.\\n\\nJadi, GPS RTK penting dalam projek pembinaan dan kejuruteraan kerana ia membolehkan pengukuran yang tepat dan pemantauan yang berkesan, serta membantu memastikan projek berjalan lancar.\", \"output\": null}\r\n",
      "{\"prompt_input\": null, \"input\": \"<manusia>: Bagaimana saya boleh menulis fungsi Clojure yang mengira jumlah semua unsur dalam koleksi?\\n<bot>: Anda boleh menulis fungsi Clojure yang mengira jumlah semua elemen dalam koleksi menggunakan fungsi lalai `count`. Berikut adalah contoh fungsi yang mungkin anda cari:\\n\\n```clojure\\n(defn jumlah-unsur [koleksi]\\n  (count koleksi))\\n```\\n\\nAnda boleh menggunakan fungsi ini dengan memasukkan sebarang koleksi sebagai argumen, seperti vektor, senarai, atau set, dan ia akan mengira jumlah elemen dalam koleksi tersebut. Contoh penggunaan:\\n\\n```clojure\\n(jumlah-unsur [1 2 3 4 5]) ; Output: 5\\n(jumlah-unsur '(a b c d e)) ; Output: 5\\n(jumlah-unsur #{1 2 3 4}) ; Output: 4\\n```\\n\\nSila ambil perhatian bahawa fungsi ini tidak bergantung pada jenis koleksi yang diberikan. Ia hanya mengira jumlah elemen dalam koleksi dan mengembalikan nilai tersebut.\\n<manusia>: Bagaimana saya boleh menggunakan alternatif untuk mengira jumlah semua elemen dalam koleksi menggunakan kaedah lain selain daripada menggunakan fungsi `count`?\\n<bot>: Salah satu kaedah alternatif untuk mengira jumlah semua elemen dalam koleksi adalah dengan menggunakan rekursi. Anda boleh menulis fungsi yang dengan setiap panggilan rekursif, mengambil elemen pertama dari koleksi dan menggabungkannya dengan jumlah elemen dalam baki koleksi. Berikut adalah contoh fungsi menggunakan rekursi untuk mengira jumlah elemen dalam koleksi:\\n\\n```clojure\\n(defn jumlah-unsur [koleksi]\\n  (if (empty? koleksi)\\n    0\\n    (+ 1 (jumlah-unsur (rest koleksi)))))\\n```\\n\\nFungsi ini menggunakan syarat jika koleksi kosong, ia akan mengembalikan nilai 0. Jika tidak, ia akan menambah 1 dengan hasil panggilan rekursif menggunakan baki koleksi. Anda boleh menggunakan fungsi ini dengan cara yang sama seperti contoh di atas.\", \"output\": null}\r\n",
      "{\"prompt_input\": null, \"input\": \"hadnya . Sokongan orang ramai adalah amat menggalakkan, dan derma mengalir dalam bentuk bantuan kewangan dan juga sumbangan barangan seperti beg mayat dan pakaian. Kutipan barangan derma menjadi tidak terurus pada satu tahap apabila barangan tidak relevan dan tidak boleh digunakan didermakan, dan MERCY Malaysia terpaksa merayu kepada orang ramai supaya tidak melihat organisasi sebagai tempat pembuangan barangan yang tidak diingini. Sebagai sebahagian daripada usaha pembinaan semula bagi mangsa tsunami, MERCY Malaysia telah membina rumah tahan-seismik untuk pelarian dari Kampong Weu Raya dan Sebun Ayu di Lhok Nga, di samping membina semula Pusat Kesihatan Komuniti Meuraxa di Banda Aceh. Pembinaan semula rumah-rumah bagi penduduk Kampong Weu Raya terbukti menjadi satu pengalaman pembelajaran yang baik untuk MERCY Malaysia. Mengenal pasti sempadan sebenar adalah satu tugas yang sukar, penduduk kampung yang terselamat perlu menggaris kembali plot tanah di mana rumah mereka dulu. Apabila pembinaan bermula, pasukan binaan yang terdiri dari 30 penduduk kampung dan 180 pekerja binaan dari Medan berjaya membina pada kadar satu rumah sehari, dengan menggunakan kayu meranti dan konkrit. Walaupun pada asalnya direka seluas 36 meter persegi, setiap unit kemudiannya dibina kepada 52 meter persegi. Ketidakpuasan hati timbul di kalangan penduduk kampung yang mahu rumah-rumah batu atau reka bentuk yang berbeza berbanding NGO lain.Bangunan Program Akademi Jururawat, Fakulti Kedoktoran Universiti Syiah Kuala (Unisyiah) yang ditaja sepenuhnya oleh Petroliam Nasional Bhd. (Petronas). Bangunan ini dinamakan Gedung Petronas. Pada bulan Mac, MERCY Malaysia bertindak balas kepada gempa bumi Sumatera Mac 2005 yang melanda pulau-pulau Nias Bulan Oktober menyaksikan pertubuhan bertindak balas kepada gempa bumi Kashmir 2005 yang melanda Kashmir yang ditadbir Pakistan dikenali sebagai Azad Kashmir, berhampiran bandar Muzaffarabad . Sebuah hospital lapangan adalah ditubuhkan, dan lebih daripada tujuh pasukan telah dihantar untuk berkhidmat dan menyokong lebih 400,000 penduduk yang terselamat di bandar terpencil di Bagh . MERCY Malaysia turut memberi bantuan ketika banjir melanda Johor, Pahang, Melaka pada 19 Disember 2006 - Januari 2007. Pada tahun 2008, Mercy Malaysia juga bertindak balas ke Myanmar untuk membantu mereka yang terselamat dari Taufan Nargis. Pada 25 Januari 2009, MERCY Malaysia menghantar pasukan pakar perubatan ketujuh ke Semenanjung Gaza. Dr Ahmad Faizal Perdaus menyatakan infrastruktur dan kemudahan kesihatan di Gaza mengalami kerosakan teruk, dan bekalan perubatan dan ubat-ubatan bernilai USD400,000 (USD1 = RM3.62) telah dihantar. . Pada tahun yang sama, MERCY Malaysia menghantar pasukan dua anggota ke Padang, Indonesia untuk bertindak balas terhadap gempa bumi Sumatera Barat. Pada 3 Ogos 2009, Dato' Dr Ahmad Faizal Mohd. Perdaus mengambil alih jawatan Presiden MERCY Malaysia dari Tan Sri Dr Jemilah Mahmood. Pada tahun 2010, MERCY Malaysia bekerjasama dengan Merlin UK \\u200b\\u200buntuk menghantar bantuan dalam Haiti. Mereka juga bertindak balas secara langsung dalam fasa kecemasan kepada gempa bumi di Chile di samping banjir di Pakistan. Pada tahun 2011, MERCY Malaysia menghantar pasukan ke gempa bumi Tohuku di Jepun, Somalia, gempa bumi melanda Turki dan juga untuk membantu mereka yang telah terjejas oleh banjir di Thailand. Pada tahun 2012, Mercy Malaysia telah menghantar pasukan ke Rakhine, Myanmar , di mana mereka diedarkan barangan (bukan makanan) dan klinik bergerak ditubuhkan untuk membantu mereka yang terjejas, di samping menghantar bantuan kepada Mindanao, Filipina untuk bertindak balas terhadap mereka yang terjejas oleh Ribut Tropika Washi dan Taufan Bopha. Mereka juga telah menghantar pasukan penilaian mereka untuk membantu pelarian Syria di sana. Untuk menyokong semua aktiviti tersebut, MERCY Malaysia turut melancarkan usaha pertama rasmi dalam pembiayaan mampan di bawah panji-panji Seringgit Sehari. Dalam mematuhi Akta Pertubuhan, MERCY Malaysia mengemukakan akaunnya kepada juruaudit luar, menerbitkan Laporan Tahunan untuk semakan dan mengadakan Mesyuarat Agung Tahunan untuk semua ahli, biasanya pada bulan Jun setiap tahun. Struktur dan tadbir urus pertubuhan itu digariskan di dalam Perlembagaan MERCY Malaysia. Penaung MERCY Malaysia adalah Tuanku Diraja Sultan Dr Nazrin Muizuddin Shah dari Perak. Mengikut Perkara 17 di dalam Perlembagaan, \\\"Seorang Penaung Persatuan, tertakluk kepada persetujuan beliau, hendaklah seorang yang terpilih yang dilantik oleh resolusi Mesyuarat Agung.\\\" MERCY Malaysia kini mempunyai enam pemegang amanah di Lembaga Tan Sri Dato 'Ajit Singh, bekas Diplomat Malaysia kini berkhidmat sebagai Pengerusi Lembaga Pengarah. Mengikut Perkara 16 di dalam Perlembagaan, pemegang amanah diberi kuasa untuk \\\"memastikan tadbir urus yang baik untuk Persatuan termasuk, tetapi tidak terhad kepada, perkara yang berkaitan dengan tadbir urus, kesihatan kewangan, audit dan pengurusan aset Persatuan.\\\" Oleh kerana MERCY Malaysia bukan sebuah syarikat berdaftar, keupayaan untuk memperoleh aset dihadkan oleh Akta Pertubuhan. Walau bagaimanapun, dengan peruntukan dalam Perkara 19, yang menggariskan skop Pelaburan Ke Arah Sara Diri, melalui Lembaga Pemegang Amanah, MERCY Malaysia \\\"mempunyai kuasa untuk memiliki tanah, untuk memohon dan mendapatkan tanah, untuk pajakan, mengecas dan menyahcas tanah, mendirikan dan memiliki bangunan di atas tanah yang diperolehi.\\\" Mengikut Perkara 8 di dalam Perlembagaan , Majlis Eksekutif hendaklah terdiri daripada: Menurut Perkara 6, terdapat dua jenis keahlian yang membolehkan hak mengundi dalam Mesyuarat Agung Tahunan; Ahli Biasa dan Ahli Seumur Hidup. Perbezaannya ditakrifkan dalam yuran yang dibayar kepada pertubuhan. Satu lagi jenis keahlian yang boleh didapati adalah Ahli Kehormat. Kategori ini bertujuan memberi penghormatan kepada individu yang secara langsung atau tidak langsung menyumbang kepada objektif pertubuhan, dan pencalonan dibuat oleh Majlis Eksekutif. Ahli Kehormat tidak berhak untuk mengundi dalam Mesyuarat Agung Tahunan. Mengikut Perkara 11, \\\"Persatuan hendaklah mempunyai suatu Sekretariat yang terdiri daripada Pengarah Eksekutif dan beberapa pegawai, semua bekerja di bawah Persatuan sama ada sebagai pekerja tetap atau kontrak. \\\" Sekretariat bertanggungjawab bagi melaksanakan keputusan yang dibuat oleh Majlis Eksekutif, di mana Pengarah Eksekutif melaporkan kepada Majlis Eksekutif secara berkala. Untuk mengelakkan konflik kepentingan, tiada anggota Majlis Eksekutif akan pada masa yang sama bekerja sebagai anggota Sekretariat. Perbezaan ini juga perlu oleh kerana Majlis Eksekutif dilantik oleh ahli Persatuan. Pegawai-pegawai di Sekretariat bekerja di bawah pertubuhan, dan oleh itu hubungan mereka dengan organisasi ditadbir oleh kontrak pekerjaan mereka dan Akta Kerja 1955. Pada tahun 2015, MERCY Malaysia mula memaparkan laporan kewangannya kepada orang ramai melalui penerbitan laporan tahunan. Pertubuhan itu juga memenangi Sebutan Khas oleh ACCA Malaysia pada Anugerah Laporan Sosial dan Alam Sekitar (MESRA) untuk Laporan Sosial oleh sebuah NGO, bagi tahun 2006 dan 2007. Pada tahun 2017, MERCY Malaysia menjadi NGO ketiga di dunia (dan\\n\\nPada tahun berapakah MERCY Malaysia menghantar pasukan pakar perubatan ke Gaza?\\nA. 2005\\nB. 2008\\nC. 2009\\nD. 2010\", \"output\": \"C\"}\r\n",
      "{\"prompt_input\": null, \"input\": \"Tulis fungsi dalam JavaScript yang memeriksa sama ada mana-mana susunan semula bagi rentetan yang diberikan boleh membentuk palindrom. Sekarang, pertimbangkan kes-kes tertentu seperti rentetan input mengandungi nombor, aksara khas, atau ruang putih. Anggap fungsi anda perlu mengurus rentetan sehingga 100,000 aksara panjang. Selain itu, analisis kekompleksan masa dan ruang penyusunan untuk penyelesaian anda. String = \\\"carerac\\\"\\n\\nTerjemahan dalam Bahasa Melayu:\\n\\nFungsi dalam JavaScript:\\n\\n```javascript\\nfunction bolehJadiPalindrom(str) {\\n  const charCount = {};\\n  \\n  // Buang ruang kosong dan simbol khas, kemudian tukar ke huruf kecil\\n  const formattedStr = str.replace(/[a-zA-Z0-9]/g, \\\"\\\").toLowerCase();\\n\\n  // Kira kekerapan setiap aksara\\n  for (let char of formattedStr) {\\n    charCount[char] = (charCount[char] || 0) + 1;\\n  }\\n\\n  let oddCount = 0;\\n  for (let count of Object.values(charCount)) {\\n    if (count % 2!== 0) {\\n      ganjilCount++;\\n      if (ganjilCount > 1) {\\n        // Lebih daripada satu aksara mempunyai nombor ganjil,\\n        // tidak boleh membentuk palindrom\\n        return false;\\n      }\\n    }\\n  }\\n  \\n  return true;\\n}\\n\\nconsole.log(bisaJadiPalindrom(\\\"carerac\\\")); // Output sepatutnya benar\\n```\\n\\nAnalisis Kekompleksan:\\n\\n- Masa: Kekompleksan masa adalah O(n) di mana n adalah panjang rentetan. Penghapusan tanda baca dan penukaran ke huruf kecil memerlukan pemeriksaan setiap aksara, begitu juga untuk mengira frekuensi. Walau bagaimanapun, kerana ini adalah tugas yang berasingan, kekompleksan tetap O(n).\\n- Ruang: Kekompleksan ruang adalah O(1), kerana walaupun kita menyimpan frekuensi aksara, bilangan aksara unik dalam kod ASCII adalah tetap dan tidak berkembang dengan saiz input. Maksimum terdapat 128 aksara asas dalam jadual ASCII atau 256 jika mempertimbangkan ASCII lanjutan, tetapi bagaimanapun, ini boleh dianggap sebagai pemalar dan tidak bergantung pada panjang rentetan input.\", \"output\": \"Fungsi dalam JavaScript yang diberikan di atas memeriksa sama ada ia disusun semula untuk rentetan boleh membentuk palindrom. Fungsi ini menguruskan kes-kes seperti kehadiran nombor, aksara khas, dan ruang putih dan boleh memproses rentetan dengan panjang sehingga 100,000 aksara.\\n\\nAnalisis kerumitan untuk fungsi `bisaJadiPalindrom` adalah seperti berikut:\\n\\nKompleksiti Masa:\\nFungsi `bisaJadiPalindrom` mempunyai kompleksiti masa linear, iaitu O(n), di mana n adalah panjang rentetan yang diberikan. Ini kerana setiap operasi dalam fungsi - penghapusan simbol dan ruang putih, penukaran kepada huruf kecil, dan pengiraan frekuensi aksara - dilakukan dalam masa yang berkadar langsung dengan panjang rentetan. Walaupun setiap aksara dalam rentetan diproses untuk langkah-langkah yang berbeza, keseluruhan operasi masih memerlukan hanya satu laluan melalui rentetan, menjadikan kompleksiti keseluruhan sebagai O(n).\\n\\nKompleksiti Ruang:\\nKompleksiti ruang untuk fungsi ini adalah O(1), atau tetap. Ini kerana penggunalan memori tidak meningkat dengan saiz input. `charCount` adalah objek yang menyimpan frekuensi aksara, tetapi jumlah aksara unik dalam set ASCII adalah terhad. Sekiranya kita menggunakan ASCII standard, terdapat 128 aksara yang mungkin, atau 256 untuk ASCII yang paling luas. Oleh kerana saiz set aksara ini tidak berubah sebagai fungsi dari panjang rentetan input, memori yang diperlukan untuk `charCount` dianggap tetap dan tidak bergantung pada n.\\n\\nJadi, dalam kes penggunaan biasa dan dengan andaian ruang memori tidak dibatasi oleh jumlah aksara unik dalam jadual ASCII, kompleksiti ruang kekal sebagai O(1) kerana jumlah maksimum kemasukan dalam objek `charCount` tidak berkaitan dengan panjang rentetan input.\\n\\nKesimpulannya, fungsi `bisaJadiPalindrom` adalah cekap dari segi masa dan memerlukan ruang memori yang tetap, menjadikannya sesuai untuk mengendalikan rentetan dengan panjang yang signifikan.\"}\r\n",
      "{\"prompt_input\": null, \"input\": \"<manusia>: Buat iklan sepanduk 300x250 piksel untuk peruncit dalam talian yang menjual kasut untuk wanita berumur antara 18-35 tahun. Iklan hendaklah mempunyai reka bentuk minimalis dengan tumpuan pada warna terang dan berani. Menggabungkan fotografi gaya hidup wanita muda yang memakai kasut dan serlahkan promosi diskaun 30% untuk semua pembelian menggunakan kod \\\"SHOEDIVA\\\". Iklan itu juga harus menyertakan butang seruan tindak yang jelas yang menyatakan \\\"Beli Sekarang\\\".\\n<bot>: [Imej wanita muda memakai kasut bergaya]\\n\\nBerbelanjalah sekarang\\nDapatkan diskaun 30% untuk semua pembelian\\nGunakan kod: SHOEDIVA\\n[Imej wanita muda memakai pelbagai gaya kasut]\\n\\nTemui pasangan yang sesuai untuk sebarang majlis\\nDaripada kasual kepada berpakaian, kami sedia membantu anda!\\n\\n[Butang CTA]\\n<manusia>: Iklan sepanduk yang anda buat kelihatan hebat, tetapi bolehkah kami menambah beberapa lagi warna untuk menjadikannya lebih menarik? dan bolehkah anda juga menyertakan beberapa teks untuk menekankan kualiti tinggi kasut kami dan sejauh mana ia selesa dipakai?\\n<bot>: Pasti, saya pasti boleh membuat perubahan itu untuk anda. Berikut ialah iklan sepanduk 300x250 piksel yang dikemas kini:\\n\\n[Imej wanita muda memakai kasut bergaya dengan latar belakang berwarna-warni]\\n\\nBerbelanjalah sekarang\\nDapatkan diskaun 30% untuk semua pembelian\\nGunakan kod: SHOEDIVA\\n\\nKasut Selesa & Bergaya untuk Wanita\\n[Imej wanita muda memakai pelbagai gaya kasut]\\n\\nDari pejabat hingga ke lantai tarian, kasut kami sesuai untuk sebarang majlis!\\nAlami kualiti tinggi dan keselesaan kasut kami hari ini.\\n\\n[Butang CTA]\\n\\nAdakah ini lebih selaras dengan apa yang anda cari?\", \"output\": null}\r\n",
      "{\"prompt_input\": null, \"input\": \"1. Ruang legar sekolah telah menjadi kotor dan bersepah, pelajar-pelajar telah membawa aduan mereka ke mana?\\n   A. kantin\\n   B. pejabat pentadbiran\\n   C. pusat sumber\\n   D. bilik guru\\n   E. padang sekolah\", \"output\": \"B\"}\r\n",
      "{\"prompt_input\": null, \"input\": \"Untuk memanjakan privasi penggun : pemetaan ini betul betul mengemukakan kasar anggaran tempat konsumen , manakala merasionalkan penindas untuk mengurangkan (bangun) mereka bentuk untuk dihubungi oleh penindas yang menepati siri yang ditetapkan oleh mencipta !\\nApakah kesalahan tatabahasa untuk (bangun)\\nA. kesalahan kata kerja transitif\\nB. penggunaan kata yang tidak tepat\\nC. kesalahan kata hubung\\nD. kesalahan kata bilangan\", \"output\": \"B\"}\r\n",
      "{\"prompt_input\": null, \"input\": \"Sebanyak 150 Peserta MFLS Berpeluang Mengetahui Sistem Pemerintahan Beraja\\n\\nUntuk mendapatkan maklumat terkini, ikuti kami melalui Telegram\\nKuala Lumpur\\u00a0\\u2013 Sebanyak 150 orang peserta Malaysia Future Leaders School (MFLS) Tier 3 Tahun 2023 berpeluang memahami kepentingan Sistem Pemerintahan Beraja dan mendapat motivasi daripada DYMM Pemangku Raja Perlis Tuanku Syed Faizzuddin Putra Jamalullail dalam Program Titipan Titian Kasih yang berlangsung di Pusat Belia Antarabangsa (IYC), Cheras, semalam.\\nTitah Tuanku Pemangku Raja,\\nPeserta MFLS Tier 3 merupakan aset berharga yang telah di asah bakat dan didedahkan dengan pelbagai aktiviti dan program untuk mengembangkan potensi sebenar mereka.\\nMenurut baginda, program ini merupakan modul program di bawah elemen kenegaraan,\\u00a0iaitu Institusi Beraja.\\nProgram ini perlu dilakukan bagi mendekatkan rakyat, khususnya golongan belia dengan Institusi Beraja, selain memahami realiti dan fakta tentang kepentingan sistem pemerintahan beraja atau sistem kesultanan.\\u201d\\n\\u201cMalahan program ini turut membentuk legasi kepimpinan negara pada masa hadapan bagi melahirkan generasi yang mempunyai mentaliti kelas pertama.\\nDemikianlah titah baginda dalam Majlis Titipan Titian Kasih Bersama Tuanku Pemangku Raja Perlis dan Raja Puan Muda Perlis Tuanku Hajah Lailatul Shahreen Akashah Khalil anjuran Institut Pembangunan dan Kecemerlangan Kepimpinan (i-LEAD), Kementerian Belia dan Sukan (KBS), yakni merupakan tahun kedua disempurnakan oleh baginda berdua.\\nKeberangkatan tiba baginda disambut oleh Ketua Pengarah i-LEAD, Mohd Haswandi Ahmad, Presiden Majlis Perwakilan MFLS, Muhamad Fahim Mohd Farid dan Timbalan Presidennya, Putry Balqees Aqasyah Mohd Fadhly.\\nTurut hadir bersama dalam program dengan kerjasama Yayasan Tuanku Syed Putra (YTSP) Perlis dan Yayasan Tuanku Fauziah (YTF) ialah Timbalan Menteri Belia dan Sukan, Adam Adli Abdul Halim, Ketua Setiausaha KBS, Nagulendran Kangayatkarasu dan Pengurusan Tertinggi KBS.\\nMengulas lanjut, program ini sedang berlangsung secara bersemuka bermula pada\\u00a05 hingga 19 Mei 2023.\\nAntara objektif utama program MFLS Tier 3, termasuklah mengutamakan tujuh elemen penting, iaitu kepimpinan, pembentukan watak dan jati diri, kenegaraan, keusahawanan, kesukarelawanan, komunikasi dan pengantarabangsaan.\\nSelain itu, terdapat pengisian lain seperti Bicara Tamu, Komunikasi Berimpak Tinggi, Bicara Ikon, Bicara Kenegaraan, Karnival Sukan, Kesukarelawanan, Outreach Agensi, Lawatan Parlimen dan ASEAN Cultural Heritage.\\nMenurut penganjur, mereka dipilih melalui proses saringan dan sesi temu\\u00a0duga yang telah dilaksanakan di seluruh negara pada 17 hingga 21 Mac 2023 lalu.\\nPeserta MFLS Tier 3 dipilih berdasarkan 150 orang yang terdiri dalam kalangan peserta terbaik daripada program MFLS Tier 2 pada tahun 2020, 2021 dan 2022.\\n\\nBerapa peserta yang dipilih untuk menyertai program MFLS Tier 3?\\nA. 100 orang\\nB. 150 orang\\nC. 200 orang\\nD. 250 orang\", \"output\": \"B\"}\r\n"
     ]
    }
   ],
   "source": [
    "!tail -n 10 shuf-combine-malay-multitasks-partial-ultrachat-v3.jsonl"
   ]
  },
  {
   "cell_type": "code",
   "execution_count": null,
   "id": "5de783d8",
   "metadata": {},
   "outputs": [],
   "source": []
  }
 ],
 "metadata": {
  "kernelspec": {
   "display_name": "Python 3 (ipykernel)",
   "language": "python",
   "name": "python3"
  },
  "language_info": {
   "codemirror_mode": {
    "name": "ipython",
    "version": 3
   },
   "file_extension": ".py",
   "mimetype": "text/x-python",
   "name": "python",
   "nbconvert_exporter": "python",
   "pygments_lexer": "ipython3",
   "version": "3.8.10"
  }
 },
 "nbformat": 4,
 "nbformat_minor": 5
}
