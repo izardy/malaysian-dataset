{
 "cells": [
  {
   "cell_type": "code",
   "execution_count": 1,
   "id": "5b084828",
   "metadata": {},
   "outputs": [],
   "source": [
    "import json\n",
    "import random\n",
    "from glob import glob\n",
    "from tqdm import tqdm"
   ]
  },
  {
   "cell_type": "code",
   "execution_count": 4,
   "id": "cd807210",
   "metadata": {},
   "outputs": [],
   "source": [
    "# !wget https://huggingface.co/datasets/mesolitica/mixtral-magicoder/resolve/main/postfilter.jsonl"
   ]
  },
  {
   "cell_type": "code",
   "execution_count": 21,
   "id": "233920fd",
   "metadata": {
    "scrolled": true
   },
   "outputs": [
    {
     "data": {
      "text/plain": [
       "216576"
      ]
     },
     "execution_count": 21,
     "metadata": {},
     "output_type": "execute_result"
    }
   ],
   "source": [
    "data = []\n",
    "\n",
    "with open('postfilter.jsonl') as fopen:\n",
    "    for l in fopen:\n",
    "        l = json.loads(l)\n",
    "        \n",
    "        if l['instruction_ms'] is None:\n",
    "            q = l['instruction']\n",
    "        else:\n",
    "            q = l['instruction_ms']\n",
    "            if len(set(q.split())) < (len(set(l['instruction'].split())) / 2):\n",
    "                continue\n",
    "\n",
    "        if l['answer_ms'] is None:\n",
    "            continue\n",
    "            \n",
    "        if len(set(l['answer_ms'].split())) < (len(set(l['answer'].split())) / 2):\n",
    "            continue\n",
    "        \n",
    "        data.append({\n",
    "            'prompt_input': None,\n",
    "            'input': q.strip(),\n",
    "            'output': l['answer_ms'].strip(),\n",
    "        })\n",
    "        \n",
    "len(data)"
   ]
  },
  {
   "cell_type": "code",
   "execution_count": 15,
   "id": "2e8521a0",
   "metadata": {},
   "outputs": [],
   "source": [
    "import json\n",
    "\n",
    "with open('prepared-mixtral-magicoder.jsonl', 'w') as fopen:\n",
    "    for l in data:\n",
    "        fopen.write(f'{json.dumps(l)}\\n')"
   ]
  }
 ],
 "metadata": {
  "kernelspec": {
   "display_name": "Python 3 (ipykernel)",
   "language": "python",
   "name": "python3"
  },
  "language_info": {
   "codemirror_mode": {
    "name": "ipython",
    "version": 3
   },
   "file_extension": ".py",
   "mimetype": "text/x-python",
   "name": "python",
   "nbconvert_exporter": "python",
   "pygments_lexer": "ipython3",
   "version": "3.8.10"
  }
 },
 "nbformat": 4,
 "nbformat_minor": 5
}
