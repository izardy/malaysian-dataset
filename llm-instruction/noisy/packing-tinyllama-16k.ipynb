{
 "cells": [
  {
   "cell_type": "code",
   "execution_count": 1,
   "id": "f6ceccc0",
   "metadata": {},
   "outputs": [],
   "source": [
    "# !wget https://gist.githubusercontent.com/huseinzol05/98974ae8c6c7a65d4bc0af9f5003786a/raw/2e06e71ef7349a57bc58cc9913ae6bae1f9f8447/mp.py\n",
    "# !wget https://huggingface.co/datasets/mesolitica/instructions-dataset/resolve/main/shuf-combine-malay-no-alignment-multitasks-v5.jsonl"
   ]
  },
  {
   "cell_type": "code",
   "execution_count": 2,
   "id": "0ba97d44",
   "metadata": {},
   "outputs": [],
   "source": [
    "# !split -l 213000 -d --additional-suffix=.splitted shuf-combine-malay-no-alignment-multitasks-v5.jsonl shuf-combine-malay-no-alignment-multitasks-v5.jsonl"
   ]
  },
  {
   "cell_type": "code",
   "execution_count": 4,
   "id": "ec176825",
   "metadata": {},
   "outputs": [],
   "source": [
    "# 4.34.0"
   ]
  },
  {
   "cell_type": "code",
   "execution_count": 5,
   "id": "c0c93008",
   "metadata": {},
   "outputs": [],
   "source": [
    "from transformers import AutoTokenizer\n",
    "\n",
    "tokenizer = AutoTokenizer.from_pretrained('mesolitica/tinyllama-1.1b-4096-fpf')\n",
    "tokenizer.pad_token = tokenizer.unk_token\n",
    "tokenizer.add_bos_token = False\n",
    "tokenizer.add_eos_token = False\n",
    "tokenizer.padding_side = \"right\"\n",
    "tokenizer.chat_template = \"{{ bos_token }}{% for message in messages %}{% if (message['role'] == 'user') != (loop.index0 % 2 == 0) %}{{ raise_exception('Conversation roles must alternate user/assistant/user/assistant/...') }}{% endif %}{% if message['role'] == 'user' %}{{ '[INST] ' + message['content'] + ' [/INST]' }}{% elif message['role'] == 'assistant' %}{{ message['content'] + eos_token}}{% else %}{{ raise_exception('Only user and assistant roles are supported!') }}{% endif %}{% endfor %}\""
   ]
  },
  {
   "cell_type": "code",
   "execution_count": 6,
   "id": "83a5ec9c",
   "metadata": {},
   "outputs": [],
   "source": [
    "def generate_and_tokenize_prompt(row):\n",
    "    if '<bot>:' in row['input'] and row['output'] is None:\n",
    "        inputs, outputs = [], []\n",
    "        splitted = row['input'].split('<bot>:')\n",
    "        for i in range(len(splitted) - 1):\n",
    "            if i == 0:\n",
    "                human = splitted[i].replace('<manusia>:', '')\n",
    "            else:\n",
    "                try:\n",
    "                    human = splitted[i].split('<manusia>:')[1]\n",
    "                except BaseException:\n",
    "                    continue\n",
    "            bot = splitted[i + 1].split('<manusia>:')[0]\n",
    "            inputs.append(human)\n",
    "            outputs.append(bot)\n",
    "    else:\n",
    "        inputs = [row['input']]\n",
    "        outputs = [row['output']]\n",
    "\n",
    "    chat = []\n",
    "    for input, output in zip(inputs, outputs):\n",
    "        chat.extend([\n",
    "            {'role': 'user', 'content': input.strip()},\n",
    "            {'role': 'assistant', 'content': output.strip()},\n",
    "        ])\n",
    "    prompt = tokenizer.apply_chat_template(chat, tokenize=False)\n",
    "    return {'text': prompt}"
   ]
  },
  {
   "cell_type": "code",
   "execution_count": 9,
   "id": "6b811b69",
   "metadata": {},
   "outputs": [],
   "source": [
    "from streaming import MDSWriter\n",
    "from streaming.base.format.mds.encodings import Encoding, _encodings\n",
    "from streaming import LocalDataset\n",
    "import streaming\n",
    "import numpy as np\n",
    "from tqdm import tqdm\n",
    "from glob import glob\n",
    "import os\n",
    "import json\n",
    "\n",
    "class UInt16(Encoding):\n",
    "    def encode(self, obj) -> bytes:\n",
    "        return obj.tobytes()\n",
    "\n",
    "    def decode(self, data: bytes):\n",
    "        return np.frombuffer(data, np.uint16)\n",
    "\n",
    "_encodings['uint16'] = UInt16\n",
    "\n",
    "columns = {\n",
    "    'input_ids': 'uint16',\n",
    "}\n",
    "hashes = 'sha1', 'xxh64'"
   ]
  },
  {
   "cell_type": "code",
   "execution_count": 10,
   "id": "c118bed8",
   "metadata": {},
   "outputs": [
    {
     "name": "stdout",
     "output_type": "stream",
     "text": [
      "mkdir: cannot create directory ‘tokenized_tinyllama’: File exists\r\n"
     ]
    }
   ],
   "source": [
    "!mkdir tokenized_tinyllama"
   ]
  },
  {
   "cell_type": "code",
   "execution_count": 11,
   "id": "eb0cb676",
   "metadata": {},
   "outputs": [],
   "source": [
    "def loop(files, block_size = 16384):\n",
    "    files, index = files\n",
    "    out_root = f'tokenized_tinyllama/tokenized-{index}'\n",
    "    os.system(f'rm -rf {out_root}')\n",
    "    temp = []\n",
    "    with MDSWriter(out=out_root, columns=columns, compression=None, hashes=hashes) as out:\n",
    "        for f in files:\n",
    "            with open(f) as fopen:\n",
    "                for l in tqdm(fopen):\n",
    "                    row = json.loads(l)\n",
    "                    element = generate_and_tokenize_prompt(row)\n",
    "                    outputs = tokenizer(element['text'])\n",
    "                    temp.extend(outputs['input_ids'])\n",
    "                    done = False\n",
    "                    while len(temp) >= block_size:\n",
    "                        block = temp[:block_size]\n",
    "                        temp = temp[block_size:]\n",
    "                        if len(block) == block_size:\n",
    "                            out.write({\n",
    "                                'input_ids': np.array(block).astype(np.uint16)\n",
    "                            })"
   ]
  },
  {
   "cell_type": "code",
   "execution_count": 12,
   "id": "4ad167c3",
   "metadata": {},
   "outputs": [
    {
     "data": {
      "text/plain": [
       "['shuf-combine-malay-no-alignment-multitasks-v5.jsonl00.splitted',\n",
       " 'shuf-combine-malay-no-alignment-multitasks-v5.jsonl01.splitted',\n",
       " 'shuf-combine-malay-no-alignment-multitasks-v5.jsonl02.splitted',\n",
       " 'shuf-combine-malay-no-alignment-multitasks-v5.jsonl03.splitted',\n",
       " 'shuf-combine-malay-no-alignment-multitasks-v5.jsonl04.splitted',\n",
       " 'shuf-combine-malay-no-alignment-multitasks-v5.jsonl05.splitted',\n",
       " 'shuf-combine-malay-no-alignment-multitasks-v5.jsonl06.splitted',\n",
       " 'shuf-combine-malay-no-alignment-multitasks-v5.jsonl07.splitted',\n",
       " 'shuf-combine-malay-no-alignment-multitasks-v5.jsonl08.splitted',\n",
       " 'shuf-combine-malay-no-alignment-multitasks-v5.jsonl09.splitted',\n",
       " 'shuf-combine-malay-no-alignment-multitasks-v5.jsonl10.splitted',\n",
       " 'shuf-combine-malay-no-alignment-multitasks-v5.jsonl11.splitted',\n",
       " 'shuf-combine-malay-no-alignment-multitasks-v5.jsonl12.splitted',\n",
       " 'shuf-combine-malay-no-alignment-multitasks-v5.jsonl13.splitted',\n",
       " 'shuf-combine-malay-no-alignment-multitasks-v5.jsonl14.splitted',\n",
       " 'shuf-combine-malay-no-alignment-multitasks-v5.jsonl15.splitted',\n",
       " 'shuf-combine-malay-no-alignment-multitasks-v5.jsonl16.splitted',\n",
       " 'shuf-combine-malay-no-alignment-multitasks-v5.jsonl17.splitted',\n",
       " 'shuf-combine-malay-no-alignment-multitasks-v5.jsonl18.splitted',\n",
       " 'shuf-combine-malay-no-alignment-multitasks-v5.jsonl19.splitted']"
      ]
     },
     "execution_count": 12,
     "metadata": {},
     "output_type": "execute_result"
    }
   ],
   "source": [
    "files = sorted(glob('shuf-combine-malay-no-alignment-multitasks-v5.jsonl*.splitted'), key = lambda x: int(x.split('jsonl')[-1].split('.')[0]))\n",
    "files"
   ]
  },
  {
   "cell_type": "code",
   "execution_count": 13,
   "id": "b352e633",
   "metadata": {},
   "outputs": [
    {
     "name": "stderr",
     "output_type": "stream",
     "text": [
      "196786it [06:30, 503.93it/s]\n",
      "213000it [06:48, 521.90it/s]\n",
      "213000it [06:49, 520.71it/s]\n",
      "213000it [06:51, 517.47it/s]\n",
      "213000it [06:52, 516.38it/s]\n",
      "213000it [06:53, 515.73it/s]\n",
      "213000it [06:53, 515.33it/s]\n",
      "213000it [06:54, 514.41it/s]\n",
      "206044it [06:54, 411.14it/s]\n",
      "213000it [06:54, 513.70it/s]\n",
      "213000it [06:55, 512.45it/s]\n",
      "213000it [06:57, 510.69it/s]\n",
      "213000it [06:57, 510.29it/s]\n",
      "213000it [06:58, 508.69it/s]\n",
      "213000it [06:59, 507.96it/s]\n",
      "213000it [07:00, 507.11it/s]\n",
      "213000it [07:00, 506.88it/s]\n",
      "213000it [07:03, 502.90it/s]\n",
      "213000it [07:05, 500.84it/s]\n",
      "213000it [07:10, 495.24it/s]\n"
     ]
    }
   ],
   "source": [
    "import mp\n",
    "mp.multiprocessing(files, loop, cores = min(len(files), 30), returned = False)"
   ]
  },
  {
   "cell_type": "code",
   "execution_count": 15,
   "id": "8e85eb1e",
   "metadata": {},
   "outputs": [
    {
     "data": {
      "text/plain": [
       "['tokenized_tinyllama/tokenized-0',\n",
       " 'tokenized_tinyllama/tokenized-1',\n",
       " 'tokenized_tinyllama/tokenized-2',\n",
       " 'tokenized_tinyllama/tokenized-3',\n",
       " 'tokenized_tinyllama/tokenized-4',\n",
       " 'tokenized_tinyllama/tokenized-5',\n",
       " 'tokenized_tinyllama/tokenized-6',\n",
       " 'tokenized_tinyllama/tokenized-7',\n",
       " 'tokenized_tinyllama/tokenized-8',\n",
       " 'tokenized_tinyllama/tokenized-9',\n",
       " 'tokenized_tinyllama/tokenized-10',\n",
       " 'tokenized_tinyllama/tokenized-11',\n",
       " 'tokenized_tinyllama/tokenized-12',\n",
       " 'tokenized_tinyllama/tokenized-13',\n",
       " 'tokenized_tinyllama/tokenized-14',\n",
       " 'tokenized_tinyllama/tokenized-15',\n",
       " 'tokenized_tinyllama/tokenized-16',\n",
       " 'tokenized_tinyllama/tokenized-17',\n",
       " 'tokenized_tinyllama/tokenized-18',\n",
       " 'tokenized_tinyllama/tokenized-19']"
      ]
     },
     "execution_count": 15,
     "metadata": {},
     "output_type": "execute_result"
    }
   ],
   "source": [
    "folders = sorted(glob('tokenized_tinyllama/tokenized-*'), key = lambda x: int(x.split('-')[-1]))\n",
    "folders"
   ]
  },
  {
   "cell_type": "code",
   "execution_count": 16,
   "id": "d2e81993",
   "metadata": {},
   "outputs": [],
   "source": [
    "!rm -rf packing-tinyllama"
   ]
  },
  {
   "cell_type": "code",
   "execution_count": 17,
   "id": "3aa63873",
   "metadata": {},
   "outputs": [
    {
     "name": "stderr",
     "output_type": "stream",
     "text": [
      "100%|██████████| 15682/15682 [00:01<00:00, 11686.89it/s]\n",
      "100%|██████████| 15678/15678 [00:01<00:00, 11200.33it/s]\n",
      "100%|██████████| 15670/15670 [00:01<00:00, 11687.52it/s]\n",
      "100%|██████████| 15711/15711 [00:01<00:00, 10857.97it/s]\n",
      "100%|██████████| 15728/15728 [00:01<00:00, 10298.85it/s]\n",
      "100%|██████████| 15709/15709 [00:01<00:00, 10351.95it/s]\n",
      "100%|██████████| 15738/15738 [00:01<00:00, 11067.77it/s]\n",
      "100%|██████████| 15773/15773 [00:01<00:00, 10775.88it/s]\n",
      "100%|██████████| 15683/15683 [00:01<00:00, 10755.28it/s]\n",
      "100%|██████████| 15698/15698 [00:01<00:00, 10729.15it/s]\n",
      "100%|██████████| 15737/15737 [00:01<00:00, 11011.11it/s]\n",
      "100%|██████████| 15744/15744 [00:01<00:00, 11174.23it/s]\n",
      "100%|██████████| 15726/15726 [00:01<00:00, 12028.46it/s]\n",
      "100%|██████████| 15745/15745 [00:01<00:00, 11100.35it/s]\n",
      "100%|██████████| 15678/15678 [00:01<00:00, 10956.40it/s]\n",
      "100%|██████████| 15712/15712 [00:01<00:00, 11947.17it/s]\n",
      "100%|██████████| 15669/15669 [00:01<00:00, 10939.29it/s]\n",
      "100%|██████████| 15704/15704 [00:01<00:00, 11106.57it/s]\n",
      "100%|██████████| 15646/15646 [00:01<00:00, 11707.00it/s]\n",
      "100%|██████████| 14558/14558 [00:01<00:00, 11140.99it/s]\n"
     ]
    }
   ],
   "source": [
    "with MDSWriter(out='packing-tinyllama', columns=columns, compression=None, hashes=hashes) as out:\n",
    "    for f in folders:\n",
    "        try:\n",
    "            dataset = LocalDataset(local=f)\n",
    "            for i in tqdm(range(len(dataset))):\n",
    "                out.write(dataset[i])\n",
    "        except Exception as e:\n",
    "            print(e)\n",
    "            pass"
   ]
  },
  {
   "cell_type": "code",
   "execution_count": 20,
   "id": "6ee132e7",
   "metadata": {},
   "outputs": [],
   "source": [
    "dataset = LocalDataset('packing-tinyllama')"
   ]
  },
  {
   "cell_type": "code",
   "execution_count": 23,
   "id": "a7aa9a9d",
   "metadata": {},
   "outputs": [
    {
     "data": {
      "text/plain": [
       "5128011776"
      ]
     },
     "execution_count": 23,
     "metadata": {},
     "output_type": "execute_result"
    }
   ],
   "source": [
    "len(dataset) * 16384"
   ]
  },
  {
   "cell_type": "code",
   "execution_count": 22,
   "id": "79590512",
   "metadata": {
    "scrolled": false
   },
   "outputs": [
    {
     "data": {
      "text/plain": [
       "{'input_ids': array([    1,   518, 25580, ...,   574, 26024,  1045], dtype=uint16)}"
      ]
     },
     "execution_count": 22,
     "metadata": {},
     "output_type": "execute_result"
    }
   ],
   "source": [
    "dataset[0]"
   ]
  }
 ],
 "metadata": {
  "kernelspec": {
   "display_name": "Python 3 (ipykernel)",
   "language": "python",
   "name": "python3"
  },
  "language_info": {
   "codemirror_mode": {
    "name": "ipython",
    "version": 3
   },
   "file_extension": ".py",
   "mimetype": "text/x-python",
   "name": "python",
   "nbconvert_exporter": "python",
   "pygments_lexer": "ipython3",
   "version": "3.10.12"
  }
 },
 "nbformat": 4,
 "nbformat_minor": 5
}
