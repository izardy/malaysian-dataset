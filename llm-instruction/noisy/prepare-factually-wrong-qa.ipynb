{
 "cells": [
  {
   "cell_type": "code",
   "execution_count": 1,
   "id": "1f53dc75",
   "metadata": {},
   "outputs": [],
   "source": [
    "from glob import glob\n",
    "from tqdm import tqdm\n",
    "import json"
   ]
  },
  {
   "cell_type": "code",
   "execution_count": 32,
   "id": "a2566c58",
   "metadata": {
    "scrolled": true
   },
   "outputs": [
    {
     "name": "stderr",
     "output_type": "stream",
     "text": [
      "1108037it [00:23, 48054.13it/s]\n"
     ]
    }
   ],
   "source": [
    "filtered, rejected = [], []\n",
    "\n",
    "with open('factually-wrong-qa.jsonl') as fopen:\n",
    "    for l in tqdm(fopen):\n",
    "        l = json.loads(l)\n",
    "        \n",
    "        if len(l['answer_ms'].split()) < 20:\n",
    "            rejected.append(l)\n",
    "            continue\n",
    "        \n",
    "        if l['answer_ms'][-1] in {',', '?'}:\n",
    "            rejected.append(l)\n",
    "            continue\n",
    "            \n",
    "        if 'RUJUKAN:' in l['answer_ms']:\n",
    "            rejected.append(l)\n",
    "            continue\n",
    "        \n",
    "        d = f\"{l['doc']}\\n\\n{l['question_ms']}\"\n",
    "        \n",
    "        filtered.append({\n",
    "            'prompt_input': None,\n",
    "            'input': d,\n",
    "            'output': l['answer_ms'].strip()\n",
    "        })"
   ]
  },
  {
   "cell_type": "code",
   "execution_count": 44,
   "id": "d2a73212",
   "metadata": {},
   "outputs": [
    {
     "data": {
      "text/plain": [
       "20869"
      ]
     },
     "execution_count": 44,
     "metadata": {},
     "output_type": "execute_result"
    }
   ],
   "source": [
    "len(rejected)"
   ]
  },
  {
   "cell_type": "code",
   "execution_count": 45,
   "id": "077341e4",
   "metadata": {},
   "outputs": [],
   "source": [
    "with open('prepared-factually-wrong-qa.jsonl', 'w') as fopen:\n",
    "    for d in filtered:\n",
    "        fopen.write(f'{json.dumps(d)}\\n')"
   ]
  }
 ],
 "metadata": {
  "kernelspec": {
   "display_name": "Python 3 (ipykernel)",
   "language": "python",
   "name": "python3"
  },
  "language_info": {
   "codemirror_mode": {
    "name": "ipython",
    "version": 3
   },
   "file_extension": ".py",
   "mimetype": "text/x-python",
   "name": "python",
   "nbconvert_exporter": "python",
   "pygments_lexer": "ipython3",
   "version": "3.8.10"
  }
 },
 "nbformat": 4,
 "nbformat_minor": 5
}
