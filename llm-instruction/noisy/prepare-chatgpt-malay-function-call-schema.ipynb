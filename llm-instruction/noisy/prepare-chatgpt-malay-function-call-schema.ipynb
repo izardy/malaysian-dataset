{
 "cells": [
  {
   "cell_type": "code",
   "execution_count": 1,
   "id": "37d57854",
   "metadata": {},
   "outputs": [],
   "source": [
    "break_at = [\n",
    "    'help.openai.com',\n",
    "    'openai',\n",
    "    'cannot have personal opinions',\n",
    "    's an ai language model',\n",
    "    \"i'm sorry\",\n",
    "    'many factors',\n",
    "    'gay',\n",
    "    'lgbt',\n",
    "    'lesbian',\n",
    "    'gender-neutral',\n",
    "    'remain neutral',\n",
    "    'without bias',\n",
    "    'and neutral',\n",
    "    'more inclusive',\n",
    "    'neutrality',\n",
    "    'non-bias',\n",
    "    'discrimination',\n",
    "    'avoid any forms of discrimination',\n",
    "    'regardless of their gender',\n",
    "    'inclusive and tolerant environment',\n",
    "    'have personal views',\n",
    "    'sexual orientation should be a top priority',\n",
    "    's an objective ai',\n",
    "    'avoid any forms of prejudice or hate',\n",
    "    'regardless of their personal',\n",
    "    'you understand this direction',\n",
    "    'tolerant environment within ai',\n",
    "    'cannot express my',\n",
    "    'requires more context',\n",
    "    'personal opinion',\n",
    "    'have updated information',\n",
    "    \"don't have personal experiences\",\n",
    "    'there is no information',\n",
    "    'tidak mempunyai akses kepada data atau maklumat',\n",
    "    '10 april 2021',\n",
    "    'ebagai model bahasa AI'\n",
    "]"
   ]
  },
  {
   "cell_type": "code",
   "execution_count": 2,
   "id": "0b52177c",
   "metadata": {},
   "outputs": [],
   "source": [
    "import json\n",
    "import random\n",
    "from glob import glob"
   ]
  },
  {
   "cell_type": "code",
   "execution_count": 3,
   "id": "317b5f31",
   "metadata": {},
   "outputs": [],
   "source": [
    "templates = [\n",
    "    'tukar ke JSON berdasarkan schema {schema}, teks `{text}`',\n",
    "    'text `{text}`, convert to JSON using schema {schema}',\n",
    "    'teks: {text}\\n\\ntukar ke JSON using schema {schema}',\n",
    "    'convert to JSON using schema {schema}\\n\\ntext: {text}',\n",
    "    '{text}\\n\\nJSON berdasarkan schema {schema}',\n",
    "    'JSON berdasarkan schema {schema}\\n\\n{text}',\n",
    "]"
   ]
  },
  {
   "cell_type": "code",
   "execution_count": 83,
   "id": "372b141d",
   "metadata": {
    "scrolled": true
   },
   "outputs": [
    {
     "name": "stderr",
     "output_type": "stream",
     "text": [
      "179450it [00:04, 39221.91it/s]\n"
     ]
    },
    {
     "data": {
      "text/plain": [
       "178576"
      ]
     },
     "execution_count": 83,
     "metadata": {},
     "output_type": "execute_result"
    }
   ],
   "source": [
    "data = []\n",
    "\n",
    "with open('/home/husein/ssd3/instructions/function-calls.jsonl') as fopen:\n",
    "    for l in tqdm(fopen):\n",
    "        l = json.loads(l)\n",
    "        texts = []\n",
    "        failed = False\n",
    "        for no, d in enumerate(l['conversations']):\n",
    "\n",
    "            if d['role'] == 'user':\n",
    "                t = '<manusia>: '\n",
    "                c = 'content'\n",
    "            else:\n",
    "                if 'functioncall' in d['content']:\n",
    "                    c = 'content'\n",
    "                else:\n",
    "                    if 'functioncall' in l['conversations'][no - 1]['content']:\n",
    "                        continue\n",
    "                    c = 'content'\n",
    "                t = '<bot>: '\n",
    "\n",
    "            if d[c] is None:\n",
    "                break\n",
    "\n",
    "            if 'functioncall' in d[c]:\n",
    "                d[c] = d[c].split('FUNCTION RESPONSE:')[0].strip()\n",
    "\n",
    "            if '<functioncall>' in d[c]:\n",
    "                d[c] = d[c].split('<functioncall>')[1].strip()\n",
    "                try:\n",
    "                    d[c] = eval(d[c])\n",
    "                    d[c] = json.dumps(d[c]['arguments'])\n",
    "                    \n",
    "                except:\n",
    "                    failed = True\n",
    "                    continue\n",
    "\n",
    "\n",
    "            n = d[c]\n",
    "            n = n.strip()\n",
    "\n",
    "            if len(n) < 3:\n",
    "                break\n",
    "\n",
    "            if d['role'] == 'user':\n",
    "                n = random.choice(templates).format(schema = l['function_call'], text = n)\n",
    "            t = t + n\n",
    "            texts.append(t)\n",
    "\n",
    "        if failed:\n",
    "            continue\n",
    "\n",
    "        if not len(texts):\n",
    "            continue\n",
    "        while len(texts) and texts[-1].startswith('<manusia>'):\n",
    "            texts = texts[:-1]\n",
    "        if not len(texts):\n",
    "            continue\n",
    "        if not texts[0].startswith('<manusia>'):\n",
    "            continue\n",
    "            \n",
    "        if not len(texts):\n",
    "            continue\n",
    "\n",
    "        data.append({\n",
    "            'prompt_input': None,\n",
    "            'input': '\\n'.join(texts[:2]),\n",
    "            'output': None,\n",
    "        })\n",
    "            \n",
    "len(data)"
   ]
  },
  {
   "cell_type": "code",
   "execution_count": 85,
   "id": "21cea7b5",
   "metadata": {},
   "outputs": [
    {
     "data": {
      "text/plain": [
       "{'prompt_input': None,\n",
       " 'input': '<manusia>: tukar ke JSON berdasarkan schema {\\n    \"name\": \"search_images\",\\n    \"description\": \"Cari gambar berdasarkan kata kunci tertentu\",\\n    \"parameters\": {\\n        \"type\": \"object\",\\n        \"properties\": {\\n            \"keywords\": {\\n                \"type\": \"array\",\\n                \"items\": {\\n                    \"type\": \"string\"\\n                },\\n                \"description\": \"Kata kunci untuk dicari\"\\n            },\\n            \"limit\": {\\n                \"type\": \"integer\",\\n                \"description\": \"Jumlah maksimum gambar yang akan diambil\"\\n            }\\n        },\\n        \"required\": [\\n            \"keywords\"\\n        ]\\n    }\\n}, teks `Hai, saya mencari beberapa gambar Menara Eiffel. Bolehkah anda membantu saya mencarinya?`\\n<bot>: {\"keywords\": [\"Menara Eiffel\"], \"limit\": 5}',\n",
       " 'output': None}"
      ]
     },
     "execution_count": 85,
     "metadata": {},
     "output_type": "execute_result"
    }
   ],
   "source": [
    "data[-2]"
   ]
  },
  {
   "cell_type": "code",
   "execution_count": 87,
   "id": "5c2a9cba",
   "metadata": {},
   "outputs": [
    {
     "data": {
      "text/plain": [
       "100"
      ]
     },
     "execution_count": 87,
     "metadata": {},
     "output_type": "execute_result"
    }
   ],
   "source": [
    "data_complex = []\n",
    "\n",
    "with open('/home/husein/ssd3/instructions/function-calls-complex.jsonl') as fopen:\n",
    "    for l in fopen:\n",
    "        l = json.loads(l)\n",
    "        texts = []\n",
    "        failed = False\n",
    "        for no, d in enumerate(l['conversations']):\n",
    "\n",
    "            if d['role'] == 'user':\n",
    "                t = '<manusia>: '\n",
    "                if random.random() > 0.5:\n",
    "                    c = 'content'\n",
    "                else:\n",
    "                    c = 'content'\n",
    "            else:\n",
    "                if 'functioncall' in d['content']:\n",
    "                    c = 'content'\n",
    "                else:\n",
    "                    if 'functioncall' in l['conversations'][no - 1]['content']:\n",
    "                        continue\n",
    "                    c = 'content'\n",
    "                t = '<bot>: '\n",
    "\n",
    "            if d[c] is None:\n",
    "                break\n",
    "\n",
    "            if 'functioncall' in d[c]:\n",
    "                d[c] = d[c].split('FUNCTION RESPONSE:')[0].strip()\n",
    "\n",
    "            if '<functioncall>' in d[c]:\n",
    "                d[c] = d[c].split('<functioncall>')[1].strip()\n",
    "                try:\n",
    "                    d[c] = eval(d[c])\n",
    "                    d[c] = json.dumps(d[c]['arguments'])\n",
    "                except:\n",
    "                    failed = True\n",
    "                    continue\n",
    "\n",
    "\n",
    "            n = d[c]\n",
    "            n = n.strip()\n",
    "\n",
    "            if len(n) < 3:\n",
    "                break\n",
    "\n",
    "            if d['role'] == 'user':\n",
    "                n = random.choice(templates).format(schema = l['function_call'], text = n)\n",
    "            t = t + n\n",
    "            texts.append(t)\n",
    "\n",
    "        if failed:\n",
    "            continue\n",
    "\n",
    "        if not len(texts):\n",
    "            continue\n",
    "        while len(texts) and texts[-1].startswith('<manusia>'):\n",
    "            texts = texts[:-1]\n",
    "        if not len(texts):\n",
    "            continue\n",
    "        if not texts[0].startswith('<manusia>'):\n",
    "            continue\n",
    "            \n",
    "        if not len(texts):\n",
    "            continue\n",
    "\n",
    "        data_complex.append({\n",
    "            'prompt_input': None,\n",
    "            'input': '\\n'.join(texts[:2]),\n",
    "            'output': None,\n",
    "        })\n",
    "            \n",
    "len(data_complex)"
   ]
  },
  {
   "cell_type": "code",
   "execution_count": 68,
   "id": "5deb1abf",
   "metadata": {},
   "outputs": [
    {
     "data": {
      "text/plain": [
       "{'prompt_input': None,\n",
       " 'input': '<manusia>: convert to JSON using schema {\"name\": \"DaftarPengguna\", \"description\": \"Fungsi ini digunakan untuk mendaftarkan pengguna baru ke dalam sistem. Ia mengambil input butiran pengguna seperti nama, alamat e-mel, dan nombor telefon.\", \"parameters\": {\"type\": \"object\", \"properties\": {\"users\": {\"type\": \"array\", \"items\": {\"type\": \"object\", \"properties\": {\"nama\": {\"type\": \"string\", \"description\": \"Nama lengkap pengguna.\"}, \"email\": {\"type\": \"string\", \"description\": \"Alamat e-mel pengguna.\"}, \"phone\": {\"type\": \"string\", \"description\": \"Nombor telefon pengguna.\"}}, \"required\": [\"nama\", \"email\"]}}}, \"required\": [\"users\"]}}\\n\\ntext: saya nak daftar 2 orang baru,\\\\n1. John Doe, email johndoe@email, telefon 1234567890\\\\n2. Jane Smith, email janesmith@email, telefon 9876543210\\n<bot>: {\"users\": [{\"nama\": \"John Doe\", \"email\": \"johndoe@email\", \"phone\": \"1234567890\"}, {\"nama\": \"Jane Smith\", \"email\": \"janesmith@email\", \"phone\": \"9876543210\"}]}',\n",
       " 'output': None}"
      ]
     },
     "execution_count": 68,
     "metadata": {},
     "output_type": "execute_result"
    }
   ],
   "source": [
    "data_complex[-1]"
   ]
  },
  {
   "cell_type": "code",
   "execution_count": 69,
   "id": "684aec3b",
   "metadata": {},
   "outputs": [],
   "source": [
    "def generate_and_tokenize_prompt(row):\n",
    "    texts = ['<s>']\n",
    "\n",
    "    if 'function_call' in row:\n",
    "        t = row['function_call']\n",
    "        texts.append(f'\\n[FUNCTIONCALL]\\n{t}\\n')\n",
    "\n",
    "    if '<bot>:' in row['input'] and row['output'] is None:\n",
    "        inputs, outputs = [], []\n",
    "        splitted = row['input'].split('<bot>:')\n",
    "        for i in range(len(splitted) - 1):\n",
    "            if i == 0:\n",
    "                human = splitted[i].replace('<manusia>:', '')\n",
    "            else:\n",
    "                try:\n",
    "                    human = splitted[i].split('<manusia>:')[1]\n",
    "                except:\n",
    "                    continue\n",
    "            bot = splitted[i + 1].split('<manusia>:')[0]\n",
    "            inputs.append(human.strip())\n",
    "            outputs.append(bot.strip())\n",
    "    else:\n",
    "        inputs = [row['input']]\n",
    "        outputs = [row['output']]\n",
    "\n",
    "    for u, a in zip(inputs, outputs):\n",
    "        texts.append(f'[INST] {u.strip()} [/INST] {a.strip()}</s> ')\n",
    "\n",
    "    prompt = ''.join(texts)\n",
    "    return {'text': prompt}"
   ]
  },
  {
   "cell_type": "code",
   "execution_count": 70,
   "id": "e3200445",
   "metadata": {},
   "outputs": [
    {
     "name": "stdout",
     "output_type": "stream",
     "text": [
      "<s>[INST] JSON berdasarkan schema {\n",
      " \"name\": \"hitung_imt\",\n",
      " \"description\": \"Hitung Indeks Massa Tubuh (IMT)\",\n",
      " \"parameters\": {\n",
      " \"type\": \"object\",\n",
      " \"properties\": {\n",
      " \"berat\": {\n",
      " \"type\": \"number\",\n",
      " \"description\": \"Berat dalam kilogram\"\n",
      " },\n",
      " \"tinggi\": {\n",
      " \"type\": \"number\",\n",
      " \"description\": \"Tinggi dalam meter\"\n",
      " }\n",
      " },\n",
      " \"required\": [\n",
      " \"berat\",\n",
      " \"tinggi\"\n",
      " ]\n",
      " }\n",
      "}\n",
      "\n",
      "Hai, saya ingin mengira IMT saya. Saya berat 70 kilogram dan tinggi saya 1.75 meter. [/INST] {\"berat\": 70, \"tinggi\": 1.75}</s> \n"
     ]
    }
   ],
   "source": [
    "print(generate_and_tokenize_prompt(data[-4])['text'])"
   ]
  },
  {
   "cell_type": "code",
   "execution_count": 71,
   "id": "a1ec6e7c",
   "metadata": {},
   "outputs": [
    {
     "name": "stdout",
     "output_type": "stream",
     "text": [
      "<s>[INST] convert to JSON using schema {\"name\":\"KemaskiniPeranan\",\"description\":\"Fungsi ini digunakan untuk mengemaskini peranan pengguna. Ia menerima pelbagai objek. Setiap objek hendaklah memasukkan nama peranan, alamat emel, dan tindakan yang menentukan sama ada peranan itu perlu ditambah atau dialih keluar.\",\"parameters\":{\"type\":\"object\",\"properties\":{\"pengguna_peranan\":{\"type\":\"array\",\"items\":{\"type\":\"object\",\"properties\":{\"nama_peranan\":{\"type\":\"string\",\"enum\":[\"peranan1\",\"peranan2\",\"pentadbir\"],\"description\":\"Nama peranan yang akan dikemaskini.\"},\"emel\":{\"type\":\"string\",\"description\":\"Alamat emel pengguna yang peranan sedang dikemaskini.\"},\"tindakan\":{\"type\":\"string\",\"enum\":[\"tambah\",\"buang\"],\"description\":\"Tindakan yang perlu dilakukan. 'tambah' untuk memberikan peranan kepada pengguna, 'buang' untuk mengeluarkan peranan daripada pengguna.\"}},\"required\":[\"nama_peranan\",\"emel\",\"tindakan\"]}}},\"required\":[\"pengguna_peranan\"]}}\n",
      "\n",
      "text: saya ada 2 orang kena edit,\n",
      "1. tambah peranan1, emel test@emel\n",
      "2. buang pentadbir, emel mike@emel [/INST] {\"pengguna_peranan\": [{\"nama_peranan\": \"peranan1\", \"emel\": \"test@emel\", \"tindakan\": \"tambah\"}, {\"nama_peranan\": \"pentadbir\", \"emel\": \"mike@emel\", \"tindakan\": \"buang\"}]}</s> \n"
     ]
    }
   ],
   "source": [
    "print(generate_and_tokenize_prompt(data_complex[-4])['text'])"
   ]
  },
  {
   "cell_type": "code",
   "execution_count": 72,
   "id": "d174dba4",
   "metadata": {},
   "outputs": [],
   "source": [
    "from tqdm import tqdm\n",
    "\n",
    "for d in data:\n",
    "    generate_and_tokenize_prompt(d)['text']"
   ]
  },
  {
   "cell_type": "code",
   "execution_count": 73,
   "id": "9c7c03d9",
   "metadata": {
    "scrolled": false
   },
   "outputs": [
    {
     "name": "stdout",
     "output_type": "stream",
     "text": [
      "<s>[INST] convert to JSON using schema {\n",
      "    \"name\": \"dapatkan_data_pasaran\",\n",
      "    \"description\": \"Dapatkan data harga saham terkini\",\n",
      "    \"parameters\": {\n",
      "        \"type\": \"object\",\n",
      "        \"properties\": {\n",
      "            \"saham\": {\n",
      "                \"type\": \"string\",\n",
      "                \"description\": \"Kod saham untuk mendapatkan data\"\n",
      "            }\n",
      "        },\n",
      "        \"required\": [\n",
      "            \"saham\"\n",
      "        ]\n",
      "    }\n",
      "}\n",
      "\n",
      "text: Bolehkah anda memberitahu saya data harga saham terkini untuk syarikat Aplikasi Bintang? [/INST] {\"saham\": \"Aplikasi Bintang\"}</s> \n"
     ]
    }
   ],
   "source": [
    "print(generate_and_tokenize_prompt(data[1])['text'])"
   ]
  },
  {
   "cell_type": "code",
   "execution_count": 24,
   "id": "57b1724a",
   "metadata": {},
   "outputs": [],
   "source": [
    "# !pip3.8 install to-json-schema"
   ]
  },
  {
   "cell_type": "code",
   "execution_count": 74,
   "id": "52901e15",
   "metadata": {},
   "outputs": [
    {
     "data": {
      "text/plain": [
       "{'type': 'object', 'properties': {'saham': {'type': 'string'}}}"
      ]
     },
     "execution_count": 74,
     "metadata": {},
     "output_type": "execute_result"
    }
   ],
   "source": [
    "from to_json_schema.to_json_schema import SchemaBuilder\n",
    "\n",
    "schema_builder = SchemaBuilder()\n",
    "data = {\"saham\": \"Aplikasi Bintang\"}\n",
    "schema = schema_builder.to_json_schema(data)\n",
    "schema"
   ]
  },
  {
   "cell_type": "code",
   "execution_count": 75,
   "id": "4f6243f6",
   "metadata": {},
   "outputs": [
    {
     "data": {
      "text/plain": [
       "\"{'saham'}\""
      ]
     },
     "execution_count": 75,
     "metadata": {},
     "output_type": "execute_result"
    }
   ],
   "source": [
    "keys = schema['properties'].keys()\n",
    "keys = [f\"'{k}'\" for k in keys]\n",
    "'{' + ', '.join(keys) + '}'"
   ]
  },
  {
   "cell_type": "code",
   "execution_count": 94,
   "id": "fa7612c6",
   "metadata": {},
   "outputs": [
    {
     "name": "stderr",
     "output_type": "stream",
     "text": [
      "24986it [00:01, 20036.56it/s]\n",
      "179450it [00:05, 31643.47it/s]\n"
     ]
    },
    {
     "data": {
      "text/plain": [
       "203553"
      ]
     },
     "execution_count": 94,
     "metadata": {},
     "output_type": "execute_result"
    }
   ],
   "source": [
    "different_schema = []\n",
    "files = [\n",
    "    '/home/husein/ssd3/instructions/function-calls-complex.jsonl',\n",
    "    '/home/husein/ssd3/instructions/function-calls.jsonl'\n",
    "]\n",
    "for filename in files:\n",
    "    with open(filename) as fopen:\n",
    "        for l in tqdm(fopen):\n",
    "            l = json.loads(l)\n",
    "            texts = []\n",
    "            failed = False\n",
    "            for no, d in enumerate(l['conversations']):\n",
    "\n",
    "                if d['role'] == 'user':\n",
    "                    t = '<manusia>: '\n",
    "                    c = 'content'\n",
    "                else:\n",
    "                    if 'functioncall' in d['content']:\n",
    "                        c = 'content'\n",
    "                    else:\n",
    "                        if 'functioncall' in l['conversations'][no - 1]['content']:\n",
    "                            continue\n",
    "                        c = 'content'\n",
    "                    t = '<bot>: '\n",
    "\n",
    "                if d[c] is None:\n",
    "                    break\n",
    "\n",
    "                if 'functioncall' in d[c]:\n",
    "                    d[c] = d[c].split('FUNCTION RESPONSE:')[0].strip()\n",
    "\n",
    "                if '<functioncall>' in d[c]:\n",
    "                    d[c] = d[c].split('<functioncall>')[1].strip()\n",
    "                    try:\n",
    "                        d[c] = eval(d[c])\n",
    "                        d[c] = json.dumps(d[c]['arguments'])\n",
    "\n",
    "                    except:\n",
    "                        failed = True\n",
    "                        continue\n",
    "\n",
    "                n = d[c]\n",
    "                n = n.strip()\n",
    "\n",
    "                if len(n) < 3:\n",
    "                    break\n",
    "\n",
    "                t = t + n\n",
    "                texts.append(t)\n",
    "\n",
    "            if failed:\n",
    "                continue\n",
    "\n",
    "            if not len(texts):\n",
    "                continue\n",
    "            while len(texts) and texts[-1].startswith('<manusia>'):\n",
    "                texts = texts[:-1]\n",
    "            if not len(texts):\n",
    "                continue\n",
    "            if not texts[0].startswith('<manusia>'):\n",
    "                continue\n",
    "\n",
    "            texts = texts[:2]\n",
    "            if not len(texts):\n",
    "                continue\n",
    "\n",
    "            f = json.loads(texts[1].split('>: ')[1])\n",
    "            if 'complex' not in filename and random.random() > 0.6:\n",
    "                keys = f.keys()\n",
    "                keys = [f\"'{k}'\" for k in keys]\n",
    "                schema = '{' + ', '.join(keys) + '}'\n",
    "            else:\n",
    "                schema = schema_builder.to_json_schema(f)\n",
    "\n",
    "            n = texts[0].split('>: ')[1]\n",
    "            n = random.choice(templates).format(schema = schema, text = n)\n",
    "            texts[0] = f'<manusia>: {n}'\n",
    "\n",
    "            different_schema.append({\n",
    "                'prompt_input': None,\n",
    "                'input': '\\n'.join(texts),\n",
    "                'output': None,\n",
    "            })\n",
    "        \n",
    "len(different_schema)"
   ]
  },
  {
   "cell_type": "code",
   "execution_count": 96,
   "id": "f245252f",
   "metadata": {},
   "outputs": [
    {
     "data": {
      "text/plain": [
       "{'prompt_input': None,\n",
       " 'input': '<manusia>: JSON berdasarkan schema {\\'bentuk\\', \\'panjang\\', \\'lebar\\'}\\n\\nSaya perlu mengira luas persegi panjang. Panjangnya adalah 5 dan lebarnya adalah 3.\\n<bot>: {\"bentuk\": \"persegi_panjang\", \"panjang\": 5, \"lebar\": 3}',\n",
       " 'output': None}"
      ]
     },
     "execution_count": 96,
     "metadata": {},
     "output_type": "execute_result"
    }
   ],
   "source": [
    "different_schema[-10]"
   ]
  },
  {
   "cell_type": "code",
   "execution_count": 97,
   "id": "ef8d8a23",
   "metadata": {},
   "outputs": [],
   "source": [
    "import json\n",
    "\n",
    "with open('prepared-chatgpt-malay-function-call-schema.jsonl', 'w') as fopen:\n",
    "    for l in data:\n",
    "        fopen.write(f'{json.dumps(l)}\\n')"
   ]
  },
  {
   "cell_type": "code",
   "execution_count": 99,
   "id": "d42248c0",
   "metadata": {},
   "outputs": [],
   "source": [
    "import json\n",
    "\n",
    "with open('prepared-chatgpt-malay-function-call-different-schema.jsonl', 'w') as fopen:\n",
    "    for l in different_schema:\n",
    "        fopen.write(f'{json.dumps(l)}\\n')"
   ]
  },
  {
   "cell_type": "code",
   "execution_count": 100,
   "id": "05ea125c",
   "metadata": {},
   "outputs": [],
   "source": [
    "with open('prepared-chatgpt-malay-function-call-complex-schema.jsonl', 'w') as fopen:\n",
    "    for l in data_complex:\n",
    "        fopen.write(f'{json.dumps(l)}\\n')"
   ]
  }
 ],
 "metadata": {
  "kernelspec": {
   "display_name": "Python 3 (ipykernel)",
   "language": "python",
   "name": "python3"
  },
  "language_info": {
   "codemirror_mode": {
    "name": "ipython",
    "version": 3
   },
   "file_extension": ".py",
   "mimetype": "text/x-python",
   "name": "python",
   "nbconvert_exporter": "python",
   "pygments_lexer": "ipython3",
   "version": "3.8.10"
  }
 },
 "nbformat": 4,
 "nbformat_minor": 5
}
