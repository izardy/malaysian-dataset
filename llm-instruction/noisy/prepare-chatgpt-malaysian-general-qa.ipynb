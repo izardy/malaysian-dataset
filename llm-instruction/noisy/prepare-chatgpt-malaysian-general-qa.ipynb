{
 "cells": [
  {
   "cell_type": "code",
   "execution_count": 3,
   "id": "9ec49629",
   "metadata": {},
   "outputs": [],
   "source": [
    "import json\n",
    "from glob import glob\n",
    "from unidecode import unidecode"
   ]
  },
  {
   "cell_type": "code",
   "execution_count": 4,
   "id": "147f3c99",
   "metadata": {},
   "outputs": [
    {
     "data": {
      "text/plain": [
       "0"
      ]
     },
     "execution_count": 4,
     "metadata": {},
     "output_type": "execute_result"
    }
   ],
   "source": [
    "instructions = []\n",
    "with open('/home/husein/ssd3/soalan-augmentation/malaysian-general-qa-gov-my.jsonl') as fopen:\n",
    "    for l in fopen:\n",
    "        l = json.loads(l)\n",
    "        break\n",
    "        q = l.get('question_ms', l['question']).strip()\n",
    "        if not len(q):\n",
    "            continue\n",
    "        a = l.get('answer_ms', l['answer'])\n",
    "        if a is None:\n",
    "            continue\n",
    "        a = a.strip()\n",
    "        if not len(a):\n",
    "            continue\n",
    "\n",
    "        d = {\n",
    "            'prompt_input': None,\n",
    "            'input': q,\n",
    "            'output': a,\n",
    "        }\n",
    "        instructions.append(d)\n",
    "            \n",
    "len(instructions)"
   ]
  },
  {
   "cell_type": "code",
   "execution_count": 6,
   "id": "b11f9340",
   "metadata": {},
   "outputs": [
    {
     "data": {
      "text/plain": [
       "{'question': 'Adakah Agrobank mempunyai perkhidmatan pengurusan kewangan peribadi yang sesuai untuk orang dewasa muda di Malaysia?',\n",
       " 'answer': 'Ya, Agrobank mempunyai pelbagai perkhidmatan pengurusan kewangan peribadi yang sesuai untuk orang dewasa muda di Malaysia. Ini termasuk pelan pelaburan, pinjaman peribadi, kad kredit, dan perkhidmatan perbankan digital yang memudahkan urusan kewangan harian. Agrobank juga menawarkan nasihat kewangan dan perancangan kewangan untuk membantu orang dewasa muda menguruskan dana mereka dengan bijak.',\n",
       " 'question_ms': 'Adakah Agrobank mempunyai perkhidmatan pengurusan kewangan peribadi yang sesuai untuk orang dewasa muda di Malaysia?',\n",
       " 'answer_ms': 'Ya, Agrobank mempunyai pelbagai perkhidmatan pengurusan kewangan peribadi yang sesuai untuk orang dewasa muda di Malaysia. Ini termasuk pelan pelaburan, pinjaman peribadi, kad kredit dan perkhidmatan perbankan digital yang memudahkan urusan kewangan harian. Agrobank juga menawarkan nasihat kewangan dan perancangan kewangan untuk membantu orang dewasa muda menguruskan dana mereka dengan bijak.'}"
      ]
     },
     "execution_count": 6,
     "metadata": {},
     "output_type": "execute_result"
    }
   ],
   "source": [
    "l"
   ]
  },
  {
   "cell_type": "code",
   "execution_count": 7,
   "id": "c1c73327",
   "metadata": {},
   "outputs": [
    {
     "data": {
      "text/plain": [
       "{'prompt_input': None,\n",
       " 'input': 'Terangkan tugas dan tanggungjawab seorang \"Timbalan Pengarah\" dalam Jabatan Latihan Khidmat Negara.',\n",
       " 'output': 'Seorang Timbalan Pengarah di Jabatan Latihan Khidmat Negara (JLKN) mempunyai tugas dan tanggungjawab penting dalam menjalankan operasi dan pelaksanaan program-program yang berkaitan dengan latihan khidmat negara. Berikut adalah penjelasan mengenai tugas dan tanggungjawab Timbalan Pengarah di JLKN:\\n\\n1. Menyelia dan Menguruskan: Timbalan Pengarah bertanggungjawab untuk menyelia dan menguruskan semua aktiviti-aktiviti di JLKN yang berkaitan dengan latihan khidmat negara. Ini merangkumi perancangan, pengurusan, penyediaan sumber, dan penyelarasan semua aspek program-program yang dilaksanakan oleh jabatan.\\n\\n2. Penyelarasan Pelaksanaan Program: Timbalan Pengarah bertanggungjawab untuk memastikan penyelarasan yang sempurna dalam pelaksanaan program-program JLKN dengan dasar-dasar dan objektif-objektif yang telah ditetapkan oleh kerajaan. Beliau perlu memastikan bahawa program-program tersebut dijalankan dengan teratur, berkesan, dan mengikut prosedur yang telah ditetapkan.\\n\\n3. Menyokong Pengarah: Timbalan Pengarah perlu menyokong Pengarah JLKN dalam membuat keputusan strategik dan merancang langkah-langkah pembaikan dan penambahbaikan dalam menjalankan tugas-tugas JLKN. Beliau juga perlu membantu menguruskan perbelanjaan, sumber manusia, dan aset-aset JLKN dengan berkesan.\\n\\n4. Memantau Pelaksanaan Program: Timbalan Pengarah perlu memantau pelaksanaan program-program JLKN dan menilai keberkesanan serta kesahan program-program tersebut. Beliau perlu mengenal pasti cabaran-cabaran dan mengambil langkah-langkah pembaikan yang sesuai untuk memastikan program-program tersebut berjalan lancar dan berjaya mencapai objektif yang telah ditetapkan.\\n\\n5. Kerjasama dan Koordinasi: Timbalan Pengarah perlu menjalinkan kerjasama yang baik dengan agensi-agensi kerajaan, pihak berkepentingan, dan komuniti dalam menyediakan latihan khidmat negara yang berkualiti dan bermanfaat. Beliau juga perlu menjalin hubungan baik dengan pihak-pihak luar dan memastikan koordinasi yang baik dalam menjalankan aktiviti-aktiviti JLKN.\\n\\n6. Pengurusan Sumber Manusia: Timbalan Pengarah perlu menguruskan sumber manusia dalam JLKN dengan efisyen. Ini merangkumi pengambilan pekerja, pengurusan prestasi, pembangunan staf, dan perancangan kerjaya bagi anggota-anggota JLKN. Beliau perlu memastikan keberkesanan dan kecekapan dalam pengurusan sumber manusia demi meningkatkan prestasi dan motivasi anggota-anggota JLKN.\\n\\nDalam kesimpulannya, Timbalan Pengarah di JLKN memainkan peranan penting dalam menyelaras dan menjalankan program-program latihan khidmat negara. Mereka harus melaksanakan tugas dan tanggungjawab ini dengan berkesan untuk memastikan kejayaan dan fungsinya JLKN dalam menyediakan latihan khidmat negara yang berkualiti.'}"
      ]
     },
     "execution_count": 7,
     "metadata": {},
     "output_type": "execute_result"
    }
   ],
   "source": [
    "instructions[-2]"
   ]
  },
  {
   "cell_type": "code",
   "execution_count": 4,
   "id": "b1b52d8d",
   "metadata": {},
   "outputs": [],
   "source": [
    "with open('prepared-chatgpt-malaysian-general-qa.jsonl', 'w') as fopen:\n",
    "    for d in instructions:\n",
    "        fopen.write(f'{json.dumps(d)}\\n')"
   ]
  }
 ],
 "metadata": {
  "kernelspec": {
   "display_name": "Python 3 (ipykernel)",
   "language": "python",
   "name": "python3"
  },
  "language_info": {
   "codemirror_mode": {
    "name": "ipython",
    "version": 3
   },
   "file_extension": ".py",
   "mimetype": "text/x-python",
   "name": "python",
   "nbconvert_exporter": "python",
   "pygments_lexer": "ipython3",
   "version": "3.8.10"
  }
 },
 "nbformat": 4,
 "nbformat_minor": 5
}
