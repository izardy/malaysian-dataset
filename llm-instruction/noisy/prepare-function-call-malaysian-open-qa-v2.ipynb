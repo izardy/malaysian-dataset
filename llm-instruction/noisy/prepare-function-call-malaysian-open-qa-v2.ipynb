{
 "cells": [
  {
   "cell_type": "code",
   "execution_count": 1,
   "id": "eec82cbb",
   "metadata": {},
   "outputs": [],
   "source": [
    "# !wget https://huggingface.co/datasets/mesolitica/chatgpt-malaysian-open-qa/resolve/main/hansard-qa.jsonl\n",
    "# !wget https://huggingface.co/datasets/mesolitica/chatgpt-malaysian-open-qa/resolve/main/common-crawl-qa.jsonl"
   ]
  },
  {
   "cell_type": "code",
   "execution_count": 2,
   "id": "40c86f2b",
   "metadata": {},
   "outputs": [],
   "source": [
    "import instructor\n",
    "import json\n",
    "import random\n",
    "from pydantic import BaseModel, Field\n",
    "from enum import Enum\n",
    "from typing import List\n",
    "\n",
    "class QA(BaseModel):\n",
    "    question: str\n",
    "    answer: str\n",
    "        \n",
    "class QAS(BaseModel):\n",
    "    qa: List[QA]"
   ]
  },
  {
   "cell_type": "code",
   "execution_count": 3,
   "id": "0518ce7a",
   "metadata": {
    "scrolled": true
   },
   "outputs": [
    {
     "name": "stdout",
     "output_type": "stream",
     "text": [
      "{\n",
      "    \"name\": \"QAS\",\n",
      "    \"description\": \"Correctly extracted `QAS` with all the required parameters with correct types\",\n",
      "    \"parameters\": {\n",
      "        \"$defs\": {\n",
      "            \"QA\": {\n",
      "                \"properties\": {\n",
      "                    \"question\": {\n",
      "                        \"type\": \"string\"\n",
      "                    },\n",
      "                    \"answer\": {\n",
      "                        \"type\": \"string\"\n",
      "                    }\n",
      "                },\n",
      "                \"required\": [\n",
      "                    \"question\",\n",
      "                    \"answer\"\n",
      "                ],\n",
      "                \"type\": \"object\"\n",
      "            }\n",
      "        },\n",
      "        \"properties\": {\n",
      "            \"qa\": {\n",
      "                \"items\": {\n",
      "                    \"$ref\": \"#/$defs/QA\"\n",
      "                },\n",
      "                \"type\": \"array\"\n",
      "            }\n",
      "        },\n",
      "        \"required\": [\n",
      "            \"qa\"\n",
      "        ],\n",
      "        \"type\": \"object\"\n",
      "    }\n",
      "}\n"
     ]
    }
   ],
   "source": [
    "choices = json.dumps(instructor.openai_schema(QAS).openai_schema, indent=4)\n",
    "print(choices)"
   ]
  },
  {
   "cell_type": "code",
   "execution_count": 4,
   "id": "88bf35f2",
   "metadata": {},
   "outputs": [
    {
     "data": {
      "text/plain": [
       "44923"
      ]
     },
     "execution_count": 4,
     "metadata": {},
     "output_type": "execute_result"
    }
   ],
   "source": [
    "data = []\n",
    "\n",
    "with open('/home/husein/ssd3/wikipedia-data/wikipedia-qa.jsonl') as fopen:\n",
    "    for l in fopen:\n",
    "        l = json.loads(l)\n",
    "        if not l['qa']:\n",
    "            continue\n",
    "        \n",
    "        d = {\n",
    "            'name': 'QAS',\n",
    "            'arguments': {\n",
    "                'qa': l['qa']['qa']\n",
    "            }\n",
    "        }\n",
    "        data.append((l['paragraph'], d))\n",
    "len(data)"
   ]
  },
  {
   "cell_type": "code",
   "execution_count": 5,
   "id": "22f46e81",
   "metadata": {},
   "outputs": [],
   "source": [
    "with open('hansard-qa.jsonl') as fopen:\n",
    "    for l in fopen:\n",
    "        l = json.loads(l)\n",
    "        \n",
    "        if not l['qa']:\n",
    "            continue\n",
    "        \n",
    "        d = {\n",
    "            'name': 'QAS',\n",
    "            'arguments': {\n",
    "                'qa': l['qa']['qa']\n",
    "            }\n",
    "        }\n",
    "        data.append((l['paragraph']['original'], d))"
   ]
  },
  {
   "cell_type": "code",
   "execution_count": 6,
   "id": "e510ec56",
   "metadata": {},
   "outputs": [],
   "source": [
    "with open('common-crawl-qa.jsonl') as fopen:\n",
    "    for l in fopen:\n",
    "        l = json.loads(l)\n",
    "        \n",
    "        if not l['qa']:\n",
    "            continue\n",
    "        \n",
    "        d = {\n",
    "            'name': 'QAS',\n",
    "            'arguments': {\n",
    "                'qa': l['qa']['qa']\n",
    "            }\n",
    "        }\n",
    "        data.append((l['paragraph'], d))"
   ]
  },
  {
   "cell_type": "code",
   "execution_count": 7,
   "id": "d883166a",
   "metadata": {},
   "outputs": [
    {
     "data": {
      "text/plain": [
       "157120"
      ]
     },
     "execution_count": 7,
     "metadata": {},
     "output_type": "execute_result"
    }
   ],
   "source": [
    "len(data)"
   ]
  },
  {
   "cell_type": "code",
   "execution_count": 8,
   "id": "a141b3cf",
   "metadata": {},
   "outputs": [],
   "source": [
    "templates = [\n",
    "    'tukar ke JSON berdasarkan schema {schema}, teks `{text}`',\n",
    "    'text `{text}`, convert to JSON using schema {schema}',\n",
    "    'teks: {text}\\n\\ntukar ke JSON using schema {schema}',\n",
    "    'convert to JSON using schema {schema}\\n\\ntext: {text}',\n",
    "    '{text}\\n\\nJSON berdasarkan schema {schema}',\n",
    "    'JSON berdasarkan schema {schema}\\n\\n{text}',\n",
    "]"
   ]
  },
  {
   "cell_type": "code",
   "execution_count": 9,
   "id": "af5a06bf",
   "metadata": {},
   "outputs": [],
   "source": [
    "chat = []\n",
    "for d in data:\n",
    "    chat.append({\n",
    "        'prompt_input': None,\n",
    "        'input': random.choice(templates).format(schema = choices, text = d[0]),\n",
    "        'output': json.dumps(d[1]),\n",
    "    })"
   ]
  },
  {
   "cell_type": "code",
   "execution_count": 10,
   "id": "67742f8a",
   "metadata": {
    "scrolled": false
   },
   "outputs": [],
   "source": [
    "def generate_and_tokenize_prompt(row):\n",
    "    texts = ['<s>']\n",
    "\n",
    "    if 'function_call' in row:\n",
    "        t = row['function_call']\n",
    "        texts.append(f'\\n[FUNCTIONCALL]\\n{t}\\n')\n",
    "\n",
    "    if '<bot>:' in row['input'] and row['output'] is None:\n",
    "        inputs, outputs = [], []\n",
    "        splitted = row['input'].split('<bot>:')\n",
    "        for i in range(len(splitted) - 1):\n",
    "            if i == 0:\n",
    "                human = splitted[i].replace('<manusia>:', '')\n",
    "            else:\n",
    "                try:\n",
    "                    human = splitted[i].split('<manusia>:')[1]\n",
    "                except:\n",
    "                    continue\n",
    "            bot = splitted[i + 1].split('<manusia>:')[0]\n",
    "            inputs.append(human.strip())\n",
    "            outputs.append(bot.strip())\n",
    "    else:\n",
    "        inputs = [row['input']]\n",
    "        outputs = [row['output']]\n",
    "\n",
    "    for u, a in zip(inputs, outputs):\n",
    "        texts.append(f'[INST] {u.strip()} [/INST] {a.strip()}</s> ')\n",
    "\n",
    "    prompt = ''.join(texts)\n",
    "    return {'text': prompt}"
   ]
  },
  {
   "cell_type": "code",
   "execution_count": 14,
   "id": "b070c4c3",
   "metadata": {},
   "outputs": [
    {
     "name": "stdout",
     "output_type": "stream",
     "text": [
      "<s>[INST] teks: Galur () ialah bentuk tanah yang dibuat oleh air yang mengalir, menghakis tajam ke dalam tanah atau bahan lain yang relatifnya menghakis, biasanya di lereng bukit. Galur menyerupai parit besar atau lembah kecil, tetapi kedalaman dan lebarnya berukuran hingga puluhan meter. Ketika pembentukan saluran air sedang dalam proses, kadar aliran air boleh menjadi besar, menyebabkan tindakan pemotongan mendalam yang signifikan ke dalam substrat. Hakisan galur ialah proses yang membentuk galur. Lereng bukit adalah lebih rentan terhadap hakisan galur apabila mereka dibersihkan dari tumbuh-tumbuhan, melalui penebangan hutan, ragut lampau atau cara lain. Tanah yang terhakis mudah dibawa oleh air yang mengalir setelah terlepas daripada tanah, biasanya ketika hujan turun ketika ribut pendek dan kuat seperti ketika ribut petir. Galur boleh memanjang melalui hakisan menghulu pada takat terjun. Hakisan ini boleh terhasil daripada aliran antara serta larian permukaan. Galur mengurangkan produktiviti ladang iaitu mereka menoreh masuk ke dalam tanah ini, dan hasil sedimen yang boleh menyumbat hiliran jasad air. Oleh itu, banyak usaha dilakukan untuk mempelajari galur dalam ruang lingkup geomorfologi, dalam pencegahan hakisan galur, dan dalam pemulihan lanskap galur. Kehilangan tanah akibat pembentukan galur dan pemendapan sungai hiliran berikutnya dapat diukur. Galur dapat dibentuk atau diperbesar oleh sejumlah aktiviti manusia. Galur buatan terbentuk semasa perlombongan hidraulik apabila jet atau aliran air diunjurkan ke endapan aluvium lembut untuk mengekstrak emas atau bijih timah. Sisa kaedah perlombongan seperti ini adalah ciri bentuk tanah yang sangat kelihatan di lombong emas lama seperti di California dan utara Sepanyol. Tanah usang di Las Medulas sebagai contoh, telah diwujudkan dalam tempoh Rom akibat pelampanan atau perlombongan hidraulik aluvium emas yang kaya dengan air yang dibekalkan oleh pelbagai akueduk yang diambil dari sungai berdekatan. Setiap akueduk menghasilkan galur besar di bawah oleh hakisan endapan lembut. Efluvium terhanyut sedikit demi sedikit dengan aliran air yang lebih kecil untuk mengekstrak ketul dan habuk emas.\n",
      "\n",
      "tukar ke JSON using schema {\n",
      "    \"name\": \"QAS\",\n",
      "    \"description\": \"Correctly extracted `QAS` with all the required parameters with correct types\",\n",
      "    \"parameters\": {\n",
      "        \"$defs\": {\n",
      "            \"QA\": {\n",
      "                \"properties\": {\n",
      "                    \"question\": {\n",
      "                        \"type\": \"string\"\n",
      "                    },\n",
      "                    \"answer\": {\n",
      "                        \"type\": \"string\"\n",
      "                    }\n",
      "                },\n",
      "                \"required\": [\n",
      "                    \"question\",\n",
      "                    \"answer\"\n",
      "                ],\n",
      "                \"type\": \"object\"\n",
      "            }\n",
      "        },\n",
      "        \"properties\": {\n",
      "            \"qa\": {\n",
      "                \"items\": {\n",
      "                    \"$ref\": \"#/$defs/QA\"\n",
      "                },\n",
      "                \"type\": \"array\"\n",
      "            }\n",
      "        },\n",
      "        \"required\": [\n",
      "            \"qa\"\n",
      "        ],\n",
      "        \"type\": \"object\"\n",
      "    }\n",
      "} [/INST] {\"name\": \"QAS\", \"arguments\": {\"qa\": [{\"question\": \"Apakah yang dimaksudkan dengan galur?\", \"answer\": \"Galur ialah bentuk tanah yang dibuat oleh air yang mengalir, menghakis tajam ke dalam tanah atau bahan lain yang relatifnya menghakis, biasanya di lereng bukit.\"}, {\"question\": \"Apakah proses yang membentuk galur?\", \"answer\": \"Proses yang membentuk galur ialah hakisan galur.\"}, {\"question\": \"Bagaimana galur dapat mempengaruhi produktiviti ladang?\", \"answer\": \"Galur mengurangkan produktiviti ladang iaitu mereka menoreh masuk ke dalam tanah ini, dan hasil sedimen yang boleh menyumbat hiliran jasad air.\"}, {\"question\": \"Apakah sebab-sebab pembentukan galur?\", \"answer\": \"Galur boleh dibentuk atau diperbesar oleh sejumlah aktiviti manusia, seperti perlombongan hidraulik.\"}]}}</s> \n"
     ]
    }
   ],
   "source": [
    "print(generate_and_tokenize_prompt(chat[2])['text'])"
   ]
  },
  {
   "cell_type": "code",
   "execution_count": 12,
   "id": "e46b0c8e",
   "metadata": {},
   "outputs": [],
   "source": [
    "import json\n",
    "\n",
    "with open('prepared-function-call-malaysian-open-qa.jsonl', 'w') as fopen:\n",
    "    for l in chat:\n",
    "        fopen.write(f'{json.dumps(l)}\\n')"
   ]
  },
  {
   "cell_type": "code",
   "execution_count": null,
   "id": "356c4fe5",
   "metadata": {},
   "outputs": [],
   "source": []
  }
 ],
 "metadata": {
  "kernelspec": {
   "display_name": "3.9",
   "language": "python",
   "name": "3.9"
  },
  "language_info": {
   "codemirror_mode": {
    "name": "ipython",
    "version": 3
   },
   "file_extension": ".py",
   "mimetype": "text/x-python",
   "name": "python",
   "nbconvert_exporter": "python",
   "pygments_lexer": "ipython3",
   "version": "3.9.16"
  }
 },
 "nbformat": 4,
 "nbformat_minor": 5
}
