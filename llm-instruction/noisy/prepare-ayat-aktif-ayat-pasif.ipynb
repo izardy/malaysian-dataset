{
 "cells": [
  {
   "cell_type": "code",
   "execution_count": 4,
   "id": "7616a649",
   "metadata": {},
   "outputs": [],
   "source": [
    "# !wget https://huggingface.co/datasets/mesolitica/chatgpt4-ayat-aktif-pasif/resolve/main/synthetic-ayat-aktif-pasif.jsonl"
   ]
  },
  {
   "cell_type": "code",
   "execution_count": 2,
   "id": "bf78b393",
   "metadata": {
    "scrolled": true
   },
   "outputs": [
    {
     "name": "stdout",
     "output_type": "stream",
     "text": [
      "wc: synthetic-ayat-aktif-pasif.jsonl: No such file or directory\r\n"
     ]
    }
   ],
   "source": [
    "!wc -l synthetic-ayat-aktif-pasif.jsonl"
   ]
  },
  {
   "cell_type": "code",
   "execution_count": 25,
   "id": "5701cbb6",
   "metadata": {},
   "outputs": [
    {
     "data": {
      "text/plain": [
       "3028"
      ]
     },
     "execution_count": 25,
     "metadata": {},
     "output_type": "execute_result"
    }
   ],
   "source": [
    "import json\n",
    "\n",
    "translation = []\n",
    "with open('synthetic-ayat-aktif-pasif.jsonl') as fopen:\n",
    "    for l in fopen:\n",
    "        l = json.loads(l)\n",
    "        splitted = l['s'].split('\\n')\n",
    "        if len(splitted) == 2:\n",
    "            splitted = [s.split(': ')[1].strip() for s in splitted]\n",
    "            d = {\n",
    "                'prompt_input': None,\n",
    "                'input': f'tukar ayat aktif ke ayat pasif: {splitted[0]}',\n",
    "                'output': splitted[1]\n",
    "            }\n",
    "            translation.append(d)\n",
    "            \n",
    "            d = {\n",
    "                'prompt_input': None,\n",
    "                'input': f'tukar ayat pasif ke ayat aktif: {splitted[1]}',\n",
    "                'output': splitted[0]\n",
    "            }\n",
    "            translation.append(d)\n",
    "len(translation)"
   ]
  },
  {
   "cell_type": "code",
   "execution_count": 29,
   "id": "ebf22f0c",
   "metadata": {},
   "outputs": [],
   "source": [
    "with open('prepared-ayat-aktif-ayat-pasif.jsonl', 'w') as fopen:\n",
    "    for l in translation:\n",
    "        fopen.write(f'{json.dumps(l)}\\n')"
   ]
  },
  {
   "cell_type": "code",
   "execution_count": 30,
   "id": "642dbdd6",
   "metadata": {},
   "outputs": [
    {
     "data": {
      "text/plain": [
       "CommitInfo(commit_url='https://huggingface.co/datasets/mesolitica/chatgpt4-ayat-aktif-pasif/commit/e0d3f28e5992a1828fb4df89235aa32bead0bce4', commit_message='Upload prepared-ayat-aktif-ayat-pasif.jsonl with huggingface_hub', commit_description='', oid='e0d3f28e5992a1828fb4df89235aa32bead0bce4', pr_url=None, pr_revision=None, pr_num=None)"
      ]
     },
     "execution_count": 30,
     "metadata": {},
     "output_type": "execute_result"
    }
   ],
   "source": [
    "from huggingface_hub import HfApi\n",
    "api = HfApi()\n",
    "api.upload_file(\n",
    "    path_or_fileobj='prepared-ayat-aktif-ayat-pasif.jsonl',\n",
    "    path_in_repo='prepared-ayat-aktif-ayat-pasif.jsonl',\n",
    "    repo_id='mesolitica/chatgpt4-ayat-aktif-pasif',\n",
    "    repo_type='dataset',\n",
    ")"
   ]
  },
  {
   "cell_type": "code",
   "execution_count": null,
   "id": "7cf05b63",
   "metadata": {},
   "outputs": [],
   "source": []
  }
 ],
 "metadata": {
  "kernelspec": {
   "display_name": "Python 3 (ipykernel)",
   "language": "python",
   "name": "python3"
  },
  "language_info": {
   "codemirror_mode": {
    "name": "ipython",
    "version": 3
   },
   "file_extension": ".py",
   "mimetype": "text/x-python",
   "name": "python",
   "nbconvert_exporter": "python",
   "pygments_lexer": "ipython3",
   "version": "3.8.10"
  }
 },
 "nbformat": 4,
 "nbformat_minor": 5
}
