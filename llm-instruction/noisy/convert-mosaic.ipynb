{
 "cells": [
  {
   "cell_type": "code",
   "execution_count": 1,
   "id": "10f4cbfe",
   "metadata": {},
   "outputs": [],
   "source": [
    "from streaming import MDSWriter\n",
    "from streaming import StreamingDataset, LocalDataset\n",
    "from transformers import AutoTokenizer, DataCollatorForLanguageModeling\n",
    "from tqdm import tqdm\n",
    "import json\n",
    "import streaming"
   ]
  },
  {
   "cell_type": "code",
   "execution_count": 2,
   "id": "d5bb2483",
   "metadata": {
    "scrolled": true
   },
   "outputs": [],
   "source": [
    "tokenizer = AutoTokenizer.from_pretrained('mesolitica/mallam-5B-4096')"
   ]
  },
  {
   "cell_type": "code",
   "execution_count": 3,
   "id": "922d6d68",
   "metadata": {},
   "outputs": [],
   "source": [
    "tokenizer.add_bos_token = False\n",
    "tokenizer.add_eos_token = False\n",
    "tokenizer.padding_side = \"right\""
   ]
  },
  {
   "cell_type": "code",
   "execution_count": 4,
   "id": "eaec2974",
   "metadata": {},
   "outputs": [],
   "source": [
    "columns = {\n",
    "    'text': 'str',\n",
    "}\n",
    "\n",
    "hashes = 'sha1', 'xxh64'"
   ]
  },
  {
   "cell_type": "code",
   "execution_count": 5,
   "id": "e0ec8820",
   "metadata": {},
   "outputs": [],
   "source": [
    "!rm -rf mosaic-instructions-no-ultrachat"
   ]
  },
  {
   "cell_type": "code",
   "execution_count": 7,
   "id": "500c71d2",
   "metadata": {},
   "outputs": [
    {
     "name": "stderr",
     "output_type": "stream",
     "text": [
      "1413385it [00:16, 87439.30it/s] \n"
     ]
    }
   ],
   "source": [
    "with MDSWriter(out='mosaic-instructions-no-ultrachat', columns=columns, compression=None, hashes=hashes) as out:\n",
    "    with open('shuf-combine-malay-multitasks-no-ultrachat.jsonl') as fopen:\n",
    "        for l in tqdm(fopen):\n",
    "            sample = {\n",
    "                'text': l\n",
    "            }\n",
    "            out.write(sample)"
   ]
  },
  {
   "cell_type": "code",
   "execution_count": 8,
   "id": "80ec493c",
   "metadata": {},
   "outputs": [],
   "source": [
    "dataset = LocalDataset('mosaic-instructions-no-ultrachat')"
   ]
  },
  {
   "cell_type": "code",
   "execution_count": 9,
   "id": "0628e270",
   "metadata": {},
   "outputs": [
    {
     "data": {
      "text/plain": [
       "{'prompt_input': None,\n",
       " 'input': 'Tulis satu butiran SQL untuk menyenaraikan nama 3 pelajar terbaik yang mencapai markah purata tertinggi dalam semua peperiksaan, sambil mengecualikan mana-mana pelajar yang mendapat markah di bawah 60% dalam mana-mana peperiksaan individu. Bagi ajaran Malaysia, tulis satu pertanyaan SQL untuk menyenaraikan nama 3 pelajar terbaik yang mempunyai kehadiran sekolah tertinggi dalam semua subjek, selain daripada mana-mana pelajar yang mempunyai kehadiran sekolah kurang daripada 90% dalam mana-mana subjek individu.',\n",
       " 'output': 'Untuk menyenaraikan nama-nama 3 pelajar terbaik yang mencapai markah purata tertinggi dalam semua peperiksaan, sambil mengecualikan pelajar yang memperoleh markah di bawah 60% dalam mana-mana peperiksaan individu, query SQL yang boleh digunakan adalah:\\n\\n```\\nSELECT pelajar.nama\\nFROM pelajar\\nWHERE pelajar.id IN (\\n    SELECT markah.pelajar_id\\n    FROM markah\\n    GROUP BY markah.pelajar_id\\n    HAVING AVG(markah.markah) >= 60\\n)\\nORDER BY (\\n    SELECT AVG(markah)\\n    FROM markah\\n    WHERE markah.pelajar_id = pelajar.id\\n) DESC\\nLIMIT 3;\\n```\\n\\nUntuk menyenaraikan nama-nama 3 pelajar terbaik yang mempunyai kehadiran sekolah tertinggi dalam semua subjek, sambil mengecualikan pelajar yang mempunyai kehadiran sekolah kurang daripada 90% dalam mana-mana subjek individu, query SQL yang boleh digunakan adalah:\\n\\n```\\nSELECT pelajar.nama\\nFROM pelajar\\nWHERE pelajar.id IN (\\n    SELECT kehadiran.pelajar_id\\n    FROM kehadiran\\n    WHERE kehadiran.kehadiran >= 90\\n    GROUP BY kehadiran.pelajar_id\\n    HAVING COUNT(kehadiran.subjek_id) = (\\n        SELECT COUNT(subjek_id)\\n        FROM subjek\\n    )\\n)\\nORDER BY (\\n    SELECT SUM(kehadiran)\\n    FROM kehadiran\\n    WHERE kehadiran.pelajar_id = pelajar.id\\n) DESC\\nLIMIT 3;\\n```'}"
      ]
     },
     "execution_count": 9,
     "metadata": {},
     "output_type": "execute_result"
    }
   ],
   "source": [
    "json.loads(dataset[0]['text'])"
   ]
  },
  {
   "cell_type": "code",
   "execution_count": 10,
   "id": "1aa94c9f",
   "metadata": {},
   "outputs": [],
   "source": [
    "import torch\n",
    "\n",
    "block_size = 20480\n",
    "\n",
    "def generate_and_tokenize_prompt(row):\n",
    "    texts = ['<s>']\n",
    "\n",
    "    if 'function_call' in row:\n",
    "        t = row['function_call']\n",
    "        texts.append(f'\\n[FUNCTIONCALL]\\n{t}\\n')\n",
    "\n",
    "    if '<bot>:' in row['input'] and row['output'] is None:\n",
    "        inputs, outputs = [], []\n",
    "        splitted = row['input'].split('<bot>:')\n",
    "        for i in range(len(splitted) - 1):\n",
    "            if i == 0:\n",
    "                human = splitted[i].replace('<manusia>:', '')\n",
    "            else:\n",
    "                try:\n",
    "                    human = splitted[i].split('<manusia>:')[1]\n",
    "                except BaseException:\n",
    "                    continue\n",
    "            bot = splitted[i + 1].split('<manusia>:')[0]\n",
    "            inputs.append(human.strip())\n",
    "            outputs.append(bot.strip())\n",
    "    else:\n",
    "        inputs = [row['input']]\n",
    "        outputs = [row['output']]\n",
    "\n",
    "    for u, a in zip(inputs, outputs):\n",
    "        texts.append(f'[INST] {u.strip()} [/INST] {a.strip()}</s>')\n",
    "\n",
    "    prompt = ''.join(texts)\n",
    "    return {'text': prompt}\n",
    "\n",
    "class DatasetFixed(torch.utils.data.Dataset):\n",
    "    def __init__(self, remote):\n",
    "\n",
    "        streaming.base.util.clean_stale_shared_memory()\n",
    "        self.dataset = LocalDataset(local=remote)\n",
    "    \n",
    "    def __getitem__(self, idx):\n",
    "        row = json.loads(self.dataset[idx]['text'])\n",
    "        element = generate_and_tokenize_prompt(row)\n",
    "        outputs = tokenizer(\n",
    "            element['text'],\n",
    "            truncation=True,\n",
    "            padding=False,\n",
    "            max_length=block_size,\n",
    "            return_overflowing_tokens=False,\n",
    "            return_length=False,\n",
    "        )\n",
    "        return {\"input_ids\": outputs[\"input_ids\"], \"attention_mask\": outputs[\"attention_mask\"]}\n",
    "    \n",
    "    def __len__(self):\n",
    "        return len(self.dataset)"
   ]
  },
  {
   "cell_type": "code",
   "execution_count": 12,
   "id": "fda72bb2",
   "metadata": {},
   "outputs": [],
   "source": [
    "dataset = DatasetFixed('mosaic-instructions-no-ultrachat')"
   ]
  },
  {
   "cell_type": "code",
   "execution_count": 14,
   "id": "e2d4da9e",
   "metadata": {},
   "outputs": [
    {
     "data": {
      "text/plain": [
       "1413385"
      ]
     },
     "execution_count": 14,
     "metadata": {},
     "output_type": "execute_result"
    }
   ],
   "source": [
    "len(dataset)"
   ]
  },
  {
   "cell_type": "code",
   "execution_count": 15,
   "id": "bb538d93",
   "metadata": {},
   "outputs": [],
   "source": [
    "data_collator = DataCollatorForLanguageModeling(tokenizer=tokenizer, mlm=False)"
   ]
  },
  {
   "cell_type": "code",
   "execution_count": 16,
   "id": "fb833f8d",
   "metadata": {},
   "outputs": [],
   "source": [
    "batch = [dataset[i] for i in range(5)]"
   ]
  },
  {
   "cell_type": "code",
   "execution_count": 17,
   "id": "2c4fd6c3",
   "metadata": {},
   "outputs": [
    {
     "name": "stderr",
     "output_type": "stream",
     "text": [
      "You're using a PreTrainedTokenizerFast tokenizer. Please note that with a fast tokenizer, using the `__call__` method is faster than using a method to encode the text followed by a call to the `pad` method to get a padded encoding.\n"
     ]
    },
    {
     "data": {
      "text/plain": [
       "{'input_ids': tensor([[   1, 1588,  395,  ...,    0,    0,    0],\n",
       "        [   1, 1588,  395,  ...,    0,    0,    0],\n",
       "        [   1, 1588,  395,  ...,    0,    0,    0],\n",
       "        [   1, 1588,  395,  ...,    0,    0,    0],\n",
       "        [   1, 1588,  395,  ..., 2246,   17,    2]]), 'attention_mask': tensor([[1, 1, 1,  ..., 0, 0, 0],\n",
       "        [1, 1, 1,  ..., 0, 0, 0],\n",
       "        [1, 1, 1,  ..., 0, 0, 0],\n",
       "        [1, 1, 1,  ..., 0, 0, 0],\n",
       "        [1, 1, 1,  ..., 1, 1, 1]]), 'labels': tensor([[   1, 1588,  395,  ..., -100, -100, -100],\n",
       "        [   1, 1588,  395,  ..., -100, -100, -100],\n",
       "        [   1, 1588,  395,  ..., -100, -100, -100],\n",
       "        [   1, 1588,  395,  ..., -100, -100, -100],\n",
       "        [   1, 1588,  395,  ..., 2246,   17,    2]])}"
      ]
     },
     "execution_count": 17,
     "metadata": {},
     "output_type": "execute_result"
    }
   ],
   "source": [
    "data_collator(batch)"
   ]
  }
 ],
 "metadata": {
  "kernelspec": {
   "display_name": "Python 3 (ipykernel)",
   "language": "python",
   "name": "python3"
  },
  "language_info": {
   "codemirror_mode": {
    "name": "ipython",
    "version": 3
   },
   "file_extension": ".py",
   "mimetype": "text/x-python",
   "name": "python",
   "nbconvert_exporter": "python",
   "pygments_lexer": "ipython3",
   "version": "3.10.12"
  }
 },
 "nbformat": 4,
 "nbformat_minor": 5
}
