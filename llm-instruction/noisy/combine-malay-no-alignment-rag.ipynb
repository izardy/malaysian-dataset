{
 "cells": [
  {
   "cell_type": "code",
   "execution_count": 1,
   "id": "4504ab68",
   "metadata": {},
   "outputs": [],
   "source": [
    "from glob import glob\n",
    "import json\n",
    "import random\n",
    "from tqdm import tqdm"
   ]
  },
  {
   "cell_type": "code",
   "execution_count": 2,
   "id": "83e6c13b",
   "metadata": {},
   "outputs": [],
   "source": [
    "fopen_l = open('combine-malay-no-alignment-rag.jsonl', 'w')"
   ]
  },
  {
   "cell_type": "code",
   "execution_count": 3,
   "id": "0e512372",
   "metadata": {},
   "outputs": [],
   "source": [
    "rejected = [\n",
    "    'help.openai.com',\n",
    "    'openassistant'\n",
    "]\n",
    "\n",
    "break_at = [\n",
    "    'help.openai.com',\n",
    "    'openai',\n",
    "    'cannot have personal opinions',\n",
    "    's an ai language model',\n",
    "    \"i'm sorry\",\n",
    "    'many factors',\n",
    "    'lgbt',\n",
    "    'lesbian',\n",
    "    'gender-neutral',\n",
    "    'remain neutral',\n",
    "    'without bias',\n",
    "    'and neutral',\n",
    "    'more inclusive',\n",
    "    'neutrality',\n",
    "    'non-bias',\n",
    "    'discrimination',\n",
    "    'avoid any forms of discrimination',\n",
    "    'regardless of their gender',\n",
    "    'inclusive and tolerant environment',\n",
    "    'have personal views',\n",
    "    'sexual orientation should be a top priority',\n",
    "    's an objective ai',\n",
    "    'avoid any forms of prejudice or hate',\n",
    "    'regardless of their personal',\n",
    "    'you understand this direction',\n",
    "    'tolerant environment within ai',\n",
    "    'cannot express my',\n",
    "    'requires more context',\n",
    "    'personal opinion',\n",
    "    'have updated information',\n",
    "    \"don't have personal experiences\",\n",
    "    'there is no information',\n",
    "    'tidak mempunyai akses kepada data atau maklumat',\n",
    "    '10 april 2021',\n",
    "    'ebagai model bahasa AI',\n",
    "    'model bahasa AI',\n",
    "    'mempunyai kepercayaan atau pendapat peribadi',\n",
    "    'tidak mempunyai pendapat peribadi',\n",
    "    'tidak mempunyai kepercayaan',\n",
    "    'tidak mempunyai falsafah peribadi',\n",
    "    'tidak mempunyai pengalaman peribadi',\n",
    "    'tidak mempunyai pendapat atau pengalaman peribadi',\n",
    "    'tidak mempunyai maklumat terkini',\n",
    "    'tidak mempunyai emosi peribadi',\n",
    "    'tidak mempunyai keutamaan',\n",
    "    'saya tidak mempunyai akses',\n",
    "    'tidak mempunyai pengalaman',\n",
    "    'saya tidak mempunyai keupayaan',\n",
    "    'tidak mempunyai keupayaan',\n",
    "    'tidak mempunyai hubungan',\n",
    "    'tidak mempunyai maklumat',\n",
    "    'Saya tidak mempunyai',\n",
    "    'Saya tidak pernah',\n",
    "    'saya tidak dapat memahami jawapan',\n",
    "]\n",
    "\n",
    "rejected_words = [\n",
    "    'kebutuhan',\n",
    "    'berbeda',\n",
    "    'bahwa',\n",
    "    'Kode',\n",
    "    'kode',\n",
    "    'nomor',\n",
    "    'RMXX,XXX',\n",
    "    'kompleksitas',\n",
    "    'listrik',\n",
    "    'jawaban',\n",
    "    'teknis',\n",
    "    'berkualitas',\n",
    "    'mencoba',\n",
    "    'kampanye',\n",
    "    'komunitas',\n",
    "    'stabilitas',\n",
    "    'Stabilitas',\n",
    "    'metode',\n",
    "    'pria',\n",
    "    'butuh',\n",
    "    'jadwal',\n",
    "    'kasus',\n",
    "    'otomatis',\n",
    "    'populer',\n",
    "    'bisnis',\n",
    "    'probabilitas',\n",
    "    'rusak',\n",
    "    'kapasitas',\n",
    "    'rutinitas',\n",
    "    'pertama-tama',\n",
    "    'bagian',\n",
    "    'fungsionalitas',\n",
    "]\n",
    "\n",
    "def found_word(s, words):\n",
    "    for i in range(len(words)):\n",
    "        if words[i] in s:\n",
    "            return True, words[i]\n",
    "    return False, None\n",
    "\n",
    "indons = []\n",
    "\n",
    "def accept(d, min_len = 10, skip_indon = True):\n",
    "    global indons\n",
    "    \n",
    "    if len(d.split()) < min_len:\n",
    "        return False\n",
    "        \n",
    "    if 'terjemahkan teks' in d.lower():\n",
    "        return False\n",
    "\n",
    "    if 'no need to translate' in d.lower():\n",
    "        return False\n",
    "\n",
    "    if 'can be translated' in d.lower():\n",
    "        return False\n",
    "\n",
    "    if 'cannot translate' in d.lower():\n",
    "        return False\n",
    "\n",
    "    if 'should be translated to' in d.lower():\n",
    "        return False\n",
    "\n",
    "    if 'cannot be translated' in d.lower():\n",
    "        return False\n",
    "\n",
    "    if 'standard malay' in d.lower():\n",
    "        return False\n",
    "\n",
    "    if 'would not be translated' in d.lower():\n",
    "        return False\n",
    "\n",
    "    if 'as an AI language model' in d:\n",
    "        return False\n",
    "\n",
    "    if 'should be translated as' in d.lower():\n",
    "        return False\n",
    "\n",
    "    if 'Bahasa Malaysia Standard' in d:\n",
    "        return False\n",
    "    \n",
    "    if 'Saya adalah model AI' in d:\n",
    "        return False\n",
    "    \n",
    "    if 'saya model AI' in d:\n",
    "        return False\n",
    "    \n",
    "    if 'Saya model AI' in d:\n",
    "        return False\n",
    "    \n",
    "    if 'sebagai model AI' in d:\n",
    "        return False\n",
    "    \n",
    "    if 'Sebagai model AI' in d:\n",
    "        return False\n",
    "    \n",
    "    if 'model bahasa AI' in d:\n",
    "        return False\n",
    "    \n",
    "    if 'model AI yang dibangunkan' in d:\n",
    "        return False\n",
    "    \n",
    "    if d == '<s>':\n",
    "        return False\n",
    "    \n",
    "    if 'tidak dapat memberikan maklumat' in d:\n",
    "        return False\n",
    "    \n",
    "    if 'Sebagai model bahasa' in d:\n",
    "        return False\n",
    "    \n",
    "    d_lower = d.lower()\n",
    "    if found_word(d_lower, rejected)[0]:\n",
    "        return False\n",
    "    \n",
    "    if found_word(d_lower, break_at)[0]:\n",
    "        return False\n",
    "    \n",
    "    found_indon = found_word(d_lower, rejected_words)\n",
    "    if skip_indon and found_indon[0]:\n",
    "        indons.append((d, found_indon[1]))\n",
    "        return False\n",
    "    \n",
    "    return True"
   ]
  },
  {
   "cell_type": "code",
   "execution_count": 4,
   "id": "4a9371ff",
   "metadata": {},
   "outputs": [],
   "source": [
    "options = ['A.', 'B.', 'C.', 'D.']\n",
    "options2 = ['A', 'B', 'C', 'D']\n",
    "def rejected_output(q, a):\n",
    "    q_, a_ = [], []\n",
    "    for o in options:\n",
    "        q_.append(o in q)\n",
    "    for o in options2:\n",
    "        a_.append(o in a)\n",
    "    return sum(a_) > 1 or sum(q_) < 4"
   ]
  },
  {
   "cell_type": "code",
   "execution_count": 5,
   "id": "521e5887",
   "metadata": {},
   "outputs": [
    {
     "name": "stdout",
     "output_type": "stream",
     "text": [
      "prepared-chatgpt-malaysian-general-qa.jsonl\n",
      "prepared-chatgpt-malaysian-open-qa.jsonl\n",
      "prepared-chatgpt4-malaysian-general-qa.jsonl\n",
      "prepared-mixtral-malaysian-general-qa.jsonl\n"
     ]
    }
   ],
   "source": [
    "files = [\n",
    "    'prepared-chatgpt-malaysian-general-qa.jsonl',\n",
    "    'prepared-chatgpt-malaysian-open-qa.jsonl',\n",
    "    'prepared-chatgpt4-malaysian-general-qa.jsonl',\n",
    "    'prepared-mixtral-malaysian-general-qa.jsonl',\n",
    "]\n",
    "\n",
    "for f in files:\n",
    "    print(f)\n",
    "    with open(f) as fopen:\n",
    "        for l in fopen:\n",
    "            try:\n",
    "                data = json.loads(l)\n",
    "                if not accept(data['input'], skip_indon = False):\n",
    "                    continue\n",
    "                if not accept(data['output'], min_len = 1):\n",
    "                    continue\n",
    "                fopen_l.write(f'{json.dumps(data)}\\n')\n",
    "                fopen_l.flush()\n",
    "            except Exception as e:\n",
    "                pass"
   ]
  },
  {
   "cell_type": "code",
   "execution_count": 6,
   "id": "5fb56b4d",
   "metadata": {},
   "outputs": [
    {
     "name": "stdout",
     "output_type": "stream",
     "text": [
      "prepared-kertas-1.jsonl\n",
      "'NoneType' object has no attribute 'strip'\n",
      "'NoneType' object has no attribute 'strip'\n",
      "'NoneType' object has no attribute 'strip'\n",
      "'NoneType' object has no attribute 'strip'\n",
      "'NoneType' object has no attribute 'strip'\n",
      "prepared-synthetic-commonsense.jsonl\n",
      "prepared-kesalahan-tatabahasa.jsonl\n",
      "prepared-malaysian-qa-choice.jsonl\n"
     ]
    }
   ],
   "source": [
    "files = [\n",
    "    'prepared-kertas-1.jsonl',\n",
    "    'prepared-synthetic-commonsense.jsonl',\n",
    "    'prepared-kesalahan-tatabahasa.jsonl',\n",
    "    'prepared-malaysian-qa-choice.jsonl',\n",
    "]\n",
    "\n",
    "for f in files:\n",
    "    print(f)\n",
    "    with open(f) as fopen:\n",
    "        for l in fopen:\n",
    "            try:\n",
    "                data = json.loads(l)\n",
    "                if not accept(data['input'], skip_indon = False):\n",
    "                    continue\n",
    "                if not len(data['output'].strip()):\n",
    "                    continue\n",
    "                if rejected_output(data['input'], data['output']):\n",
    "                    continue\n",
    "                fopen_l.write(f'{json.dumps(data)}\\n')\n",
    "                fopen_l.flush()\n",
    "            except Exception as e:\n",
    "                print(e)\n",
    "                pass"
   ]
  },
  {
   "cell_type": "code",
   "execution_count": 7,
   "id": "1a5dd897",
   "metadata": {},
   "outputs": [
    {
     "name": "stdout",
     "output_type": "stream",
     "text": [
      "prepared-chatgpt-malay-instructions.jsonl\n",
      "prepared-camel-ai.jsonl\n"
     ]
    }
   ],
   "source": [
    "files = [\n",
    "    'prepared-chatgpt-malay-instructions.jsonl',\n",
    "    'prepared-camel-ai.jsonl',\n",
    "]\n",
    "\n",
    "for f in files:\n",
    "    print(f)\n",
    "    with open(f) as fopen:\n",
    "        for l in fopen:\n",
    "            if '```' in l:\n",
    "                continue\n",
    "            try:\n",
    "                data = json.loads(l)\n",
    "                if not accept(data['input'], skip_indon = False):\n",
    "                    continue\n",
    "                if not accept(data['output']):\n",
    "                    continue\n",
    "                fopen_l.write(f'{json.dumps(data)}\\n')\n",
    "                fopen_l.flush()\n",
    "            except:\n",
    "                pass"
   ]
  },
  {
   "cell_type": "code",
   "execution_count": 8,
   "id": "62ee9d1a",
   "metadata": {},
   "outputs": [
    {
     "name": "stdout",
     "output_type": "stream",
     "text": [
      "prepared-malaysian-ultrachat-nocode.jsonl\n",
      "prepared-mixtral-malaysian-multiturn.jsonl\n",
      "prepared-mixtral-malaysian-rag.jsonl\n",
      "prepared-mixtral-malaysian-rag-knowledge-base.jsonl\n"
     ]
    }
   ],
   "source": [
    "files = [\n",
    "    'prepared-malaysian-ultrachat-nocode.jsonl',\n",
    "    'prepared-mixtral-malaysian-multiturn.jsonl',\n",
    "    'prepared-mixtral-malaysian-rag.jsonl',\n",
    "    'prepared-mixtral-malaysian-rag-knowledge-base.jsonl',\n",
    "]\n",
    "\n",
    "for f in files:\n",
    "    print(f)\n",
    "    with open(f) as fopen:\n",
    "        for l in fopen:\n",
    "\n",
    "            if 'tolong terjemah' in l.lower():\n",
    "                continue\n",
    "\n",
    "            try:\n",
    "                data = json.loads(l)\n",
    "                if not accept(data['input']):\n",
    "                    continue\n",
    "                fopen_l.write(f'{json.dumps(data)}\\n')\n",
    "                fopen_l.flush()\n",
    "            except:\n",
    "                pass"
   ]
  },
  {
   "cell_type": "code",
   "execution_count": 9,
   "id": "c33fc5eb",
   "metadata": {},
   "outputs": [
    {
     "name": "stdout",
     "output_type": "stream",
     "text": [
      "prepared-ultrachat-train_8.jsonl.translated.malay.no-alignment\n",
      "prepared-ultrachat-train_4.jsonl.translated.malay.no-alignment\n",
      "prepared-ultrachat-train_9.jsonl.translated.malay.no-alignment\n",
      "prepared-ultrachat-train_7.jsonl.translated.malay.no-alignment\n",
      "prepared-ultrachat-train_1.jsonl.translated.malay.no-alignment\n",
      "prepared-ultrachat-train_0.jsonl.translated.malay.no-alignment\n",
      "prepared-ultrachat-train_6.jsonl.translated.malay.no-alignment\n",
      "prepared-ultrachat-train_5.jsonl.translated.malay.no-alignment\n",
      "prepared-ultrachat-train_3.jsonl.translated.malay.no-alignment\n"
     ]
    },
    {
     "data": {
      "text/plain": [
       "176868"
      ]
     },
     "execution_count": 9,
     "metadata": {},
     "output_type": "execute_result"
    }
   ],
   "source": [
    "files = glob('prepared-ultrachat-*')\n",
    "files = [f for f in files if 'mesolitica' not in f]\n",
    "\n",
    "count = 0\n",
    "for f in files:\n",
    "    print(f)\n",
    "    with open(f) as fopen:\n",
    "        \n",
    "        for l in fopen:\n",
    "            \n",
    "            if 'Saya mahir dalam bahasa' in l:\n",
    "                continue\n",
    "                \n",
    "            if 'tolong terjemah' in l.lower():\n",
    "                continue\n",
    "                \n",
    "            if '```' in l:\n",
    "                continue\n",
    "                    \n",
    "            try:\n",
    "                data = json.loads(l)\n",
    "                if not accept(data['input']):\n",
    "                    continue\n",
    "                    \n",
    "                if random.random() > 0.2:\n",
    "                    continue\n",
    "                    \n",
    "                fopen_l.write(f'{json.dumps(data)}\\n')\n",
    "                fopen_l.flush()\n",
    "                \n",
    "                count += 1\n",
    "            except:\n",
    "                pass\n",
    "            \n",
    "count"
   ]
  },
  {
   "cell_type": "code",
   "execution_count": 10,
   "id": "b8b1c849",
   "metadata": {},
   "outputs": [],
   "source": [
    "with open('prepared-combine-multiple-chats-nocode.jsonl') as fopen:\n",
    "    for l in fopen:\n",
    "\n",
    "        if 'tolong terjemah' in l.lower():\n",
    "            continue\n",
    "\n",
    "        try:\n",
    "            data = json.loads(l)\n",
    "            if not accept(data['input']):\n",
    "                continue\n",
    "            fopen_l.write(f'{json.dumps(data)}\\n')\n",
    "            fopen_l.flush()\n",
    "        except:\n",
    "            pass"
   ]
  },
  {
   "cell_type": "code",
   "execution_count": 11,
   "id": "83ec6936",
   "metadata": {},
   "outputs": [
    {
     "data": {
      "text/plain": [
       "94954"
      ]
     },
     "execution_count": 11,
     "metadata": {},
     "output_type": "execute_result"
    }
   ],
   "source": [
    "len(indons)"
   ]
  },
  {
   "cell_type": "code",
   "execution_count": 12,
   "id": "ac29c629",
   "metadata": {},
   "outputs": [
    {
     "name": "stdout",
     "output_type": "stream",
     "text": [
      "2775535 combine-malay-no-alignment-rag.jsonl\r\n"
     ]
    }
   ],
   "source": [
    "!wc -l combine-malay-no-alignment-rag.jsonl"
   ]
  },
  {
   "cell_type": "code",
   "execution_count": 13,
   "id": "4d09fb70",
   "metadata": {},
   "outputs": [],
   "source": [
    "!shuf combine-malay-no-alignment-rag.jsonl > shuf-combine-malay-no-alignment-rag.jsonl"
   ]
  },
  {
   "cell_type": "code",
   "execution_count": 14,
   "id": "56333e5a",
   "metadata": {},
   "outputs": [],
   "source": [
    "def generate_and_tokenize_prompt(row):\n",
    "    texts = ['<s>']\n",
    "\n",
    "    if 'function_call' in row:\n",
    "        t = row['function_call']\n",
    "        texts.append(f'\\n[FUNCTIONCALL]\\n{t}\\n')\n",
    "\n",
    "    if '<bot>:' in row['input'] and row['output'] is None:\n",
    "        inputs, outputs = [], []\n",
    "        splitted = row['input'].split('<bot>:')\n",
    "        for i in range(len(splitted) - 1):\n",
    "            if i == 0:\n",
    "                human = splitted[i].replace('<manusia>:', '')\n",
    "            else:\n",
    "                try:\n",
    "                    human = splitted[i].split('<manusia>:')[1]\n",
    "                except:\n",
    "                    continue\n",
    "            bot = splitted[i + 1].split('<manusia>:')[0]\n",
    "            inputs.append(human.strip())\n",
    "            outputs.append(bot.strip())\n",
    "    else:\n",
    "        inputs = [row['input']]\n",
    "        outputs = [row['output']]\n",
    "\n",
    "    for u, a in zip(inputs, outputs):\n",
    "        if not len(u.strip()) or not len(a.strip()):\n",
    "            print(u, a)\n",
    "            return\n",
    "        texts.append(f'[INST] {u.strip()} [/INST] {a.strip()}</s> ')\n",
    "\n",
    "    prompt = ''.join(texts)\n",
    "    return {'text': prompt}"
   ]
  },
  {
   "cell_type": "code",
   "execution_count": 15,
   "id": "b7d7228b",
   "metadata": {
    "scrolled": true
   },
   "outputs": [
    {
     "name": "stderr",
     "output_type": "stream",
     "text": [
      "72083it [00:01, 39991.33it/s]"
     ]
    },
    {
     "name": "stdout",
     "output_type": "stream",
     "text": [
      " \n"
     ]
    },
    {
     "name": "stderr",
     "output_type": "stream",
     "text": [
      "176436it [00:04, 50762.61it/s]"
     ]
    },
    {
     "name": "stdout",
     "output_type": "stream",
     "text": [
      " Ya, dalam era globalisasi dan kepelbagaian ekonomi, sistem kewangan Islam menawarkan potensi untuk mewujudkan kestabilan dan daya saing dalam pasaran sukuk. Walau bagaimanapun, cabarannya adalah meyakinkan pelabur, sama ada Muslim atau bukan Islam, tentang kekuatan dan keupayaan sistem kewangan Islam sebagai alternatif yang sejajar dengan sistem konvensional.\n",
      "\n",
      "Dalam hal ini, perlu ada pendekatan yang komprehensif untuk mempromosikan sukuk kepada pelabur. Ini melibatkan pendidikan dan kesedaran yang lebih besar tentang prinsip syariah dan faedah ekonomi sukuk. Selain itu, ia juga penting untuk mengekalkan kualiti dan kepercayaan pasaran dengan memastikan terdapat rangka peraturan yang betul dan prosedur yang telus dalam penerbitan dan perdagangan sukuk.\n",
      "\n",
      "Seiring dengan pertumbuhan pasaran sukuk global, peningkatan pilihan instrumen sukuk yang inovatif dan mempelbagaikan portfolio juga boleh menjadi faktor yang menyokong kejayaan sistem kewangan Islam. Oleh itu, usaha kerjasama daripada semua pihak berkepentingan diperlukan, termasuk kerajaan, institusi kewangan dan masyarakat untuk mempromosikan pembangunan pasaran sukuk yang mampan dan inklusif.\n",
      "\n",
      "Jadi, dengan komitmen dan kerjasama yang betul, sistem kewangan Islam mempunyai potensi untuk mencapai kestabilan dan daya saing dalam pasaran sukuk serta meyakinkan pelabur tentang kekuatannya sebagai alternatif yang boleh dipercayai dan mampan.\n",
      "Apakah faedah dan keperluan untuk memohon insentif cukai untuk pusat jagaan kanak-kanak milik persendirian di Malaysia? \n"
     ]
    },
    {
     "name": "stderr",
     "output_type": "stream",
     "text": [
      "222631it [00:04, 51314.71it/s]"
     ]
    },
    {
     "name": "stdout",
     "output_type": "stream",
     "text": [
      " Terdapat beberapa faktor utama yang mempengaruhi perkembangan pasaran sukuk. Faktor-faktor ini termasuk pertimbangan pasaran dan komersial, serta kepentingan kesesuaian dengan syariah Islam. Kedua-dua faktor ini saling berkaitan dan tidak dapat dipisahkan.\n"
     ]
    },
    {
     "name": "stderr",
     "output_type": "stream",
     "text": [
      "233044it [00:05, 51482.08it/s]"
     ]
    },
    {
     "name": "stdout",
     "output_type": "stream",
     "text": [
      "Apakah peraturan dan keperluan untuk pendaftaran dan pemeriksaan jentera dan peralatan di Malaysia? \n",
      " Menurut Dr. Al-Qari, pemberian pinjaman kepada pemegang sukuk dalam konteks sukuk mudarabah dan sukuk musharakah boleh dilakukan asalkan jumlah yang dikemukakan perlu dikembalikan pada masa yang sesuai. Walau bagaimanapun, jika amalan ini berlaku dalam konteks kontrak penyertaan dan spekulasi yang tidak menjamin sebarang keuntungan, maka janji dan kewajipan pembayaran yang dikemukakan daripada penerbit boleh dianggap sebagai helah untuk mencapai hasil yang dilarang secara langsung. Oleh itu, tidak dibenarkan bagi pengarah kewangan Islam atau wakil pelaburan untuk mengikat diri dengan memberi pinjaman kepada pemegang sukuk apabila terdapat defisit dalam keuntungan yang diharapkan. Ini telah diharamkan oleh Majlis Syariah AAOIFI dalam Fatwa No. 4.\n"
     ]
    },
    {
     "name": "stderr",
     "output_type": "stream",
     "text": [
      "283669it [00:06, 46493.92it/s]"
     ]
    },
    {
     "name": "stdout",
     "output_type": "stream",
     "text": [
      " Faktor-faktor yang mempengaruhi populariti sukuk di pasaran dan menentukan minat pelabur terhadapnya adalah seperti berikut:\n",
      "1. Sesuai dengan prinsip syariah: Sukuk adalah instrumen kewangan yang mematuhi prinsip syariah Islam, yang menjadikannya menarik kepada pelabur yang mempunyai keperluan untuk melabur dalam aset syariah yang patuh.\n",
      "2. Keperluan pasaran: Adalah penting untuk mengenal pasti keperluan pasaran dan ekonomi untuk menghasilkan sukuk yang boleh memenuhi keperluan tersebut dan dipasarkan dengan baik. Ini termasuk mempertimbangkan faktor-faktor seperti aliran tunai dan permintaan pelaburan.\n",
      "3. Risiko pelaburan: Pelabur yang mempunyai lebihan kecairan mungkin mempunyai toleransi risiko pelaburan yang berbeza. Pelabur yang berminat dengan pendapatan tetap dan boleh meramalkan pulangan mereka mungkin lebih cenderung kepada sukuk yang berdasarkan prinsip muamalat berkongsi risiko dan keuntungan. Sebaliknya, pelabur yang lebih berhati-hati dan ingin mengekalkan modal mungkin lebih suka melabur dalam instrumen yang memberikan pulangan tetap, seperti bon konvensional.\n",
      "4. Persepsi pasaran: Masyarakat umum sering menganggap sukuk sebagai instrumen yang memberikan pulangan tetap dan mempunyai risiko yang rendah, yang menjadikan sukuk menarik kepada mereka yang mencari pelaburan yang stabil. Oleh itu, persepsi dan penilaian pelabur terhadap sukuk juga mempengaruhi popularitinya di pasaran.\n",
      "5. Peraturan dan undang-undang: Kepatuhan undang-undang dan peraturan berkaitan sukuk adalah penting dalam menentukan minat pelabur. Undang-undang dan peraturan yang jelas dan memberikan kepastian undang-undang akan memberi keyakinan kepada pelabur untuk melabur dalam sukuk.\n",
      "Jika anda memerlukan maklumat lanjut atau penjelasan yang lebih terperinci mengenai faktor-faktor ini atau jenis sukuk yang ada, sila beritahu saya.\n"
     ]
    },
    {
     "name": "stderr",
     "output_type": "stream",
     "text": [
      "303813it [00:06, 49614.83it/s]"
     ]
    },
    {
     "name": "stdout",
     "output_type": "stream",
     "text": [
      "حىت  غدا  القول أّن الكون قد  أصبح  قرية ابلقنوات الفضائيّ \n",
      "\n",
      "\n",
      "\n",
      "االقتصاديّة و   الّتجاريّة   صغرية مطلوابً  بل ملّحاً ، ولقد انعكست آاثر هذا الّتطور على الّلغة  وال سيما يف اجملاالت\n",
      " لكل حقل من احلقول الّسابقة مسات لسانّية ولغويّة وأساليب . وغري خاٍف أنّ   والسياحة  والّدبلوماسّية والّسياسّية\n",
      "\n",
      "\n",
      "\n",
      "  تعبري خاّصة متّيزه  عن اآلخر. \n",
      ".)yuslina Mohamed, 2011, p:2) \n",
      "\n",
      "\n",
      "\n",
      "السياحة   الدولة وسيلة من وسائل  تعّد  تتميز بسمات لغوية ومعجمية جعلتها حمور   تنمية استثمار  اليت \n",
      "و \"األصالة\" اهتمام اللغويني؛ وألّن حمور إعداد املواد التعليمية ألغراض خاصة قائم على ما يعرف بـ \"دوافع املتعلمني\"  \n",
      "\n",
      "\n",
      "\n",
      "صميم وملا كان ت  ألمور األساسية الالزمة يف تصميم الوحدة التدريسية يف جمال السياحة.جاء هذا البحث ليهتم ابو \n",
      "\n",
      "\n",
      "\n",
      "\n",
      "\n",
      "\n",
      "\n",
      "\n",
      "International Journal Languages and Education (Vol. 1, No 2)                                   \n",
      "\n",
      "\n",
      "\n",
      " \n",
      "38 \n",
      "\n",
      "\n",
      "\n",
      "©The Author(s) (2021). Published by USIM Press on behalf of the Universiti Sains Islam Malaysia.  This is an Open \n",
      "\n",
      "\n",
      "\n",
      "Access article  distributed  under the  terms of the Creative Commons Attribution 4.0 International (CC BY 4.0) license. \n",
      "\n",
      "\n",
      "\n",
      "املناهج وتطويرها ألغراض خاصة خيتلف عن تصميم مناهج اللغة العامة، فقد جاءت هذه الدراسة لتوّضح هذا \n",
      " سياحة.يف جمال ال  بواسطة إطاري النظري والتطبيقي  االختالف\n",
      " \n",
      "\n",
      "\n",
      "\n",
      " خلفية الدراسة\n",
      " مفهوم اللغة العربية ألغراض خاصة \n",
      "\n",
      "\n",
      "\n",
      "عناصره كافة من أهداف وحمتوى وطريقة التدريس إىل اللغة ألغراض خاصة مدخل لتعليم اللغة  تستند  \n",
      " .  (Usyari Mahmud, 1983, p115-128)  األسباب  اليت دفعت الدارسني لتعلم اللغة\n",
      "\n",
      "\n",
      "\n",
      "وترمي اللغة العربية ألغراض خاصة عندى رشدي أمحد طعيمة\" ألداء وظيفة  حمددة لفئات خاصة يتطلب \n",
      " ,Rusydi A.T., Mahmud KN)    ميكن توظيفها يف هذه األعمال\" أعماهلا قدرا معينا من اللغة األجنبية اليت  \n",
      "\n",
      "\n",
      "\n",
      "2003, p:6) وخصوصية اللغة عنده تعين توفر رصيد حمدد من كلمات، وتعبريات، واصطلحات، وتراكيب، خاصة .\n",
      "املهارات،  وخصوصية  اهلدف،  وخصوصية  اجلمهور،  خصوصية  تعود  وقد  معينة.  جماالت  يف  استخدامها  يشيع \n",
      "\n",
      "\n",
      "\n",
      " . (  ,p:1-8 Kristen Gatehouse,2001)  وخصوصية احملتوى\n",
      "م( العربية ألغراض خاصة أبهنا \" تعليم اللغة العربية لألغراض خاصة يقوم 2004وعّرف حسني عبيدات )\n",
      "\n",
      "\n",
      "\n",
      "على  يعتمد  اخلاصة  اللغة  تعليم  التعريفات أبن  تلك  من  الدارسني\".ونفهم  تليب حاجات  مساقات  تصميم  على \n",
      "اللغة يف مواقفها اخلاصة أو احملددة، ويكون اهلدف التعليمي هلذه اللغة اخلاصة  حاجات الدارسني ومقاصدهم لتعلم  \n",
      "\n",
      "\n",
      "\n",
      "لقد أفاد تعريف املصطلح   .  (p:49  Yuslina Mohamed, 2011)هو اهلدف األكادميي أو اهلدف املهين أو الوظيفي\n",
      "م(، إذ يقوالن\" يستند 1987) العربية ألغراض اخلاصة من تعريف اإلجنليزية ألغراض خاصة عند هانشنسن وواترز  \n",
      "\n",
      "\n",
      "\n",
      "املتعلم\" احملتوى واألسلوب على حاجة  القرارات من حيث  اللغة يف مجيع  تعليم   p:1-8  Kristen,2001)منهج  \n",
      "\n",
      "\n",
      "\n",
      "Gatehouse,  )  . ومن ذلك نستطيع القول أن برانمج تعليم اللغة العربية ألغراض خاصة هو برانمج تعليمي حيمل\n",
      "وى الفين واملهين، ويتعامل يف الغالب لطالب متخصصني يف جماالت معينة، أو احملتوى األكادميي أو العلمي، واحملت\n",
      "\n",
      "\n",
      "\n",
      "(. Yuslina Mohamed, 2011, P:51 )أصحاب مهن معينة\n",
      " \n",
      "\n",
      "\n",
      "\n",
      " \n",
      "وأما العربية ألغراص السياحة فهو قسم من أقسام العربية ألغراض خاصة، تركز على اللغة اليت تستخدم \n",
      "\n",
      "\n",
      "\n",
      "واملصطلحات والرتاكيب والعبارة واجلملة. ويتعلم الطلبة هذه اللغة يف إطارها يف جمال السياحة فقط مثل املفردات  \n",
      "املرجوة  اهلدف  تتحقق  فيها حىت  والتعزيز  الكافية  التدريبات  مع  )السياحة(   ,Yusl \n"
     ]
    },
    {
     "name": "stderr",
     "output_type": "stream",
     "text": [
      "426865it [00:09, 50493.06it/s]"
     ]
    },
    {
     "name": "stdout",
     "output_type": "stream",
     "text": [
      "..        . \n"
     ]
    },
    {
     "name": "stderr",
     "output_type": "stream",
     "text": [
      "447090it [00:09, 50513.25it/s]"
     ]
    },
    {
     "name": "stdout",
     "output_type": "stream",
     "text": [
      "يف سورة اإلخالص داللة اجلزم\n",
      "Assertive Semantic in Surah al-Ikhlas \n",
      "\n",
      "\n",
      "\n",
      " \n",
      " 2نورفائزة حممد حامدين ،1هشام الدين حممد يوسف \n",
      "\n",
      "\n",
      "\n",
      " \n",
      " البحث   ملخص\n",
      "\n",
      "\n",
      "\n",
      "قضية التوحيد عن  ألهنا تفسر    ، كيز على سورة اإلخالصداللة اجلزم يف النحو العريب ابلت   اسةالدر هذه  ت  تناول\n",
      "اجلازم  االعتقاد  للدفاع عن  اجلزم هي  للمسلم  اخلالص  داللة  اآلايت   دالالت الحدى  إ .  تظهر من  اليت  الصوتية \n",
      "\n",
      "\n",
      "\n",
      "، فبناء على ذلك، البحث والدراسة يف توضيح مبينة  مقاصدمعينة و وهلا معان  من صفات األحرف العربية  القرآنية  \n",
      "للغاية. ومقاصدها    معانيها  مهما  أمرا  فقط    يعد  الفعل  على  اجلزم  يقع  الرفعوملاذا  مثل  االسم   والنصب.  دون \n",
      "\n",
      "\n",
      "\n",
      "فعل األمر مباشرة وداللة اجلزم على على    اجلزم  لى داللةعلى منهج التحليل، ستقتصر الدراسة ع  تطرقت الدراسة\n",
      "وأتثريها على   يف سورة اإلخالص   اللة اجلزم إىل بيان أمهية دالدراسة  وهدفت  .  زمعوامل اجلالفعل املضارع بواسطة  \n",
      "\n",
      "\n",
      "\n",
      "والضغط   أن هناك شدة يف معىن الكلمة يف تلك السورة  أمهها  ، وتوصلت إىل عدة نتائجمعىن اآلية بشكل أعمق\n",
      " . السورةالصويت عند تالوة  \n",
      "\n",
      "\n",
      "\n",
      "\n",
      "\n",
      "\n",
      "\n",
      " داللة، اجلزم، سورة اإلخالص :  الكلمات املفتاحية\n",
      " \n",
      "\n",
      "\n",
      "\n",
      "ABSTRACT \n",
      "\n",
      "\n",
      "\n",
      "This study dealt with the significance of assertiveness in Arabic grammar by focusing on \n",
      "\n",
      "\n",
      "\n",
      "Surah Al-Ikhlas, because it is interpreted for the issue of pure monotheism to defend the firm \n",
      "\n",
      "\n",
      "\n",
      "belief of the Muslim. The significance of assertion is one of the phonetic connotations that \n",
      "\n",
      "\n",
      "\n",
      "appear from the Qur'anic verses of the characteristics of the Arabic letters and has certain \n",
      "\n",
      "\n",
      "\n",
      "meanings and clear purposes, so accordingly, research and study in clarifying their \n",
      "\n",
      "\n",
      "\n",
      "meanings and purposes is very important. The study touched on the method of analysis, the \n",
      "\n",
      "\n",
      "\n",
      "study will be limited to the indication of assertion on the act of the command directly and the \n",
      "\n",
      "\n",
      "\n",
      "indication of assertion on the present tense verb by assertive factors. The study aimed to \n",
      "\n",
      "\n",
      "\n",
      "show the importance of the significance of assertiveness in Surah Al-Ikhlas and its impact on \n",
      "\n",
      "\n",
      "\n",
      "the meaning of the verse in a deeper way, and reached several results, the most important of \n",
      "\n",
      "\n",
      "\n",
      "which is that there is intensity in the meaning of the word in that surah and the sound \n",
      "\n",
      "\n",
      "\n",
      "pressure when reciting the surah. \n",
      "\n",
      "\n",
      "\n",
      " \n",
      "Keywords: Indication, Assertiveness, Surah Al-Ikhlas   \n",
      "\n",
      "\n",
      "\n",
      "\n",
      "\n",
      "\n",
      "\n",
      "     hisyamkias@gmail.com، العاملية اإلسالميةاجلامعية لعربية، كلية السلطان إمساعيل فتا ضر بقسم اللغة ااحملا 1\n",
      " norfaezah@kuis.edu.my،احملاضرة بقسم اللغة العربية، اجلامعة اإلسالمية بسالجنور 2\n",
      "\n",
      "\n",
      "\n",
      "\n",
      "\n",
      "\n",
      "\n",
      "\n",
      "125 \n",
      "\n",
      "\n",
      "\n",
      "\n",
      "\n",
      "\n",
      "\n",
      " مقدمة \n",
      "يفهم  النص، حىت  يف  الكلمات  إعراب  يف  واإلتقان  العريب  الكالم  يف  اإلتقان  النحوية  الدراسة  أهداف  من  إن \n",
      "البعض أن النحو هو اإلعراب، وتسبيبا من ذلك فقد أكد البعض املقول املشتهر \" إذا صح اإلعراب صح املعىن \n",
      "\n",
      "\n",
      "\n",
      "ابلعربية الفصيحة عند التقدمي أو احلوار اليومي.   همكالز يف اللغة العربية هو من حتسن  ملمتاوصحت املسألة \". وا\n",
      "، حصل (28م،  1971لكن مع األسف الشديد أن من أهم وظيفة النحو العريب هو فهم املعىن )متام، حسان،  \n",
      "\n",
      "\n",
      "\n",
      "لم خاص ال يدخل يف . رغما عن ذلك، هناك ع هذا بوضع احلركات اإلعرابية على الكلمات املقصودة يف النص\n",
      "ال وهو اجلزم، ، أ لكن قد وقع على أواخر الكلمة لتعرب منها غرضا معينا لتلك الكلماتابية  قائمة احلركات اإلعر \n",
      "\n",
      "\n",
      "\n",
      "املناسب له امليزان  لنا أن نضع  يتجاوز إىل   فينبغي  بل  يقتصر على عالمته فحسب  يكثر احلديث عنه، ال  كي \n",
      "اجملزومة اليت جندها مات  الكل يف النحو العريب وسوف نبينه خالل    هنا سوف نكّسر ما هي غرضه  .معناه وداللته\n",
      "\n",
      "\n",
      "\n",
      "     يف سورة اإلخالص. \n",
      " \n",
      "\n",
      "\n",
      "\n",
      " مشكلة البحث \n",
      "من   قضية  اجلزم  وكذلك  قضااي  اليعد  العربية،  للغة  الصحيح  املعىن  أتدية  يف  مبفهومه اللغوية  واإلملام  فهمه  يعد \n",
      "\n",
      "\n",
      "\n",
      "يف   أساسية  قاعدة  من  وداللته  نص  أي  يف  احملزومة  الكلمات  احلركات توظيف  من  يعترب  ال  واجلزم  النصوص. \n",
      "لكنه يدل على شيء معني يف احلركات الثالثة الرفع والنصب واجلر.  عرابية ألنه ال يتحرك اللسان كما حدث  اإل\n",
      "\n",
      "\n",
      "\n",
      "يتالعب بني األدوات اجلازمة من عامل اجلزم وأدوات الشرط. هو  ءته و ق \n"
     ]
    },
    {
     "name": "stderr",
     "output_type": "stream",
     "text": [
      "482669it [00:10, 50162.16it/s]"
     ]
    },
    {
     "name": "stdout",
     "output_type": "stream",
     "text": [
      " Zikir dan doa adalah ibadah yang penting dalam kehidupan seorang Muslim. Mereka mempunyai banyak manfaat dan kepentingan. Pertama, zikir dan doa membantu kita berkomunikasi dengan Allah dan meningkatkan hubungan kita dengan-Nya. Dengan berzikir dan berdoa, kita mengakui kebesaran Allah dan merendahkan diri kita di hadapan-Nya.\n",
      "\n",
      "Selain itu, zikir dan doa juga mempunyai kesan positif terhadap hati dan jiwa kita. Mereka membantu menenangkan fikiran, menghilangkan tekanan, dan meningkatkan iman. Apabila kita berzikir dan berdoa, kita merasa lebih dekat dengan Allah dan merasakan kedamaian dalam hati.\n",
      "\n",
      "Selain itu, zikir dan doa juga boleh menjadi sumber kekuatan dan motivasi dalam menghadapi pelbagai cabaran hidup. Dengan mengingati Allah dan memohon pertolongan-Nya, kita merasa lebih yakin, yakin, dan berserah diri kepada-Nya.\n",
      "\n",
      "Oleh itu, penting bagi setiap Muslim untuk mengamalkan zikir dan doa dalam kehidupan seharian. Kita boleh melakukannya setiap saat, pada setiap kesempatan, dan dalam setiap aktiviti kita. Dengan itu, kita boleh meningkatkan kesedaran kita terhadap kehadiran Allah dalam setiap aspek kehidupan kita, serta mendapat keberkahan dan rahmat-Nya.\n"
     ]
    },
    {
     "name": "stderr",
     "output_type": "stream",
     "text": [
      "708844it [00:15, 50005.59it/s]"
     ]
    },
    {
     "name": "stdout",
     "output_type": "stream",
     "text": [
      "Apakah insentif yang disediakan oleh kerajaan Malaysia untuk syarikat yang menggunakan biojisim kelapa sawit untuk menghasilkan produk nilai tambah? \n"
     ]
    },
    {
     "name": "stderr",
     "output_type": "stream",
     "text": [
      "755078it [00:16, 51288.16it/s]"
     ]
    },
    {
     "name": "stdout",
     "output_type": "stream",
     "text": [
      " Kepentingan kesesuaian dengan syariah dalam sukuk pelaburan Islam adalah untuk memastikan kesahihan transaksi dan diterima oleh pelabur Islam. Selain itu, kesesuaian dengan syariah juga menunjukkan komitmen kita untuk mematuhi kewajipan dan tanggungjawab kita kepada Allah dalam semua aspek kehidupan, termasuk dalam transaksi kewangan dan pelaburan. Soalan seterusnya?\n",
      "Apakah tujuan Malaysia memasuki perjanjian cukai dengan negara lain? \n"
     ]
    },
    {
     "name": "stderr",
     "output_type": "stream",
     "text": [
      "1556938it [00:34, 29587.83it/s]"
     ]
    },
    {
     "name": "stdout",
     "output_type": "stream",
     "text": [
      " Tidak, tidak semua jenis sukuk mewakili pelanggaran undang-undang syariah. Struktur dan mekanisme sukuk yang digunakan dalam bentuk mudharabah dan musharakah tidak melanggar prinsip syariah. Walau bagaimanapun, perlu diperhatikan bahawa ini mesti disahkan oleh pihak berkuasa syariah yang kompeten sebelum diterbitkan.\n"
     ]
    },
    {
     "name": "stderr",
     "output_type": "stream",
     "text": [
      "1651292it [00:36, 50459.68it/s]"
     ]
    },
    {
     "name": "stdout",
     "output_type": "stream",
     "text": [
      "Terjemahkan ayat di bawah ke dalam bahasa Jepun. Saya akan keluar untuk makan malam. \n",
      " Dalam Islam, terdapat beberapa perbuatan yang diharamkan. Antara perbuatan yang diharamkan ialah pemakanan daging babi, minuman beralkohol, berjudi, mencuri, dan menyakiti orang lain secara sengaja. Selain itu, perbuatan-perbuatan yang melanggar hukum syarak seperti mencemarkan nama baik seseorang, berzina, dan menyelewengkan harta juga dianggap haram dalam Islam.\n"
     ]
    },
    {
     "name": "stderr",
     "output_type": "stream",
     "text": [
      "1712751it [00:37, 51232.16it/s]"
     ]
    },
    {
     "name": "stdout",
     "output_type": "stream",
     "text": [
      "Sebagai pembuka mulut, kongsikan lagu karaoke kegemaran anda tetapi dengan likunya, anda hanya boleh menerangkannya melalui emoji. Ringkaskan lagu anda dalam kurang daripada 50 aksara. Beri bunga pada lagu itu! \n"
     ]
    },
    {
     "name": "stderr",
     "output_type": "stream",
     "text": [
      "1788897it [00:38, 50358.85it/s]"
     ]
    },
    {
     "name": "stdout",
     "output_type": "stream",
     "text": [
      "세금 면 제를 신청하기 위한 전체 과정에 필요한 기간을 고려하라는 충고가 주어집니다. 자율 신고와 자율 규제 환경과 더불어 이 새로운 절차는 시간을 절약할 수 있어 사업 비용이 절감되고, 상품 통관을 위해 은행의 보증을 받지 않아도 됩니다. 투자진흥청(MIDA)는 이 세금 면제를 위한 자율 신고 신청을 온라인으로 할 수 있도록 편의를 제공합니다. 이러한 편의로 이용자는 전자신고 디지털 증서(LHDN 발급) 또는 MIDA에서 디지털 증서를 다운로드하여 MIDA에 제출하기 전 신청서에 디지털 서명하면 됩니다. iii. 외주 제조활동에 대한 수입관세의 면제 사업비용을 절감하고 경쟁력을 강화하기위해, 말레이시아인 지분이 60% 이상인 말레이시아 상표 소유자가 제조활동을 외주할 경우 다음의 자격이 주어집니다. a) 국내외 계약 생산업체에 의한 완제품 제조 시 사용된 원 자재와 구성품에 대한 수입 관세의 면제. b) 국내 계약 제조업체가 제조하는 완제품에 사용될 해외 계약 제조업체의 반제품에 대한 수입관세 및 판매세의 면제. 투자세 공제 신청서는 투자진흥청(MIDA)에 제출하여야 합니다. iv. 정비, 수리 또는 오버홀(MRO) 활동에 대한 수 입관세 및 판매세 면제 MRO 활동에 대한 판매세 면제 2018년 판매세(세금 납부 면제된 개인) (수정) (번호 2) 명령, 별표 A에 따라 말레이시아의 등록된 항공우주 MRO 회사는 다음에 대해 판매세 면제를 신청할 수 있습니다. a) 33A 항에 따른 기계류, 장비, 특수 도구. b) 말레이시아 내에서 MRO 활동에 직접 사용되는 33B 항에 따른 부품, 구성품, 자재 및 특수 소모품 신청서는 자진 신고 과정을 통해 이루어지는 신청을 위해 회 사는 수입 또는 구매 전에 투자진흥청(MIDA)에 확인서를 신 청하여야 합니다. 그런 다음 회사는 판매세 면제를 받기 위해 서는 투자진흥청(MIDA)이 발행하는 확인서와 기계류, 장비, 특수 도구, 부품, 구성품, 재로 및 특수 소모재 목록을 말레이 시아 관세국(Royal Malaysian Customs Department)에 제 출하여야 합니다. 확인서 신청은 투자진흥청(MIDA)에 제출하여야 합니다. 판매세 면제 신청은 온라인으로 https://mysst.customs. gov.my을 통 제출하여야 합니다. MRO 활동에 대한 수입 관세 면제 등록된 항공우주산업 MRO 회사는 기계류, 장비, 특수 도구, 부품, 구성품, 재료 및 소모품에 대해 수입관세 면제를 신청할 수 있는 자격이 주어집니다. 수입관세 면제에 대한 신청서는 재무부(MOF)에 제출하여야 합니다. v. 화물 운송료에 대한 이중 공제 제조업체가 자사 상품을 사바주와 사라왁 주로부터 말레이시 아 반도의 항구로 해상 운송할 경우, 화물 운송료에 대해 이중 공제를 받을 수 있습니다. 29 신규 투자에 대한 인센티브 vi. 말레이시아 상표 촉진에 대한 이중 공제 말레이시아 상표를 육성하기 위해 말레이시아 상표의 등록된 소유권자인 회사 또는 이와 같은 그룹 내 회사는 다음의 조건 들을 모두 충족한 때에 한하여 당해 상표 광고로 발생한 지출 에 대해 이중 공제를 받을 수 있습니다. a) 회사는 말레이시아 상표의 등록 소유권가 50%가 넘는 지분을 소유하여야 합니다. b) 공제는 한 과세 연도에 1개 회사만 신청할 수 있습니다. c) 당해 제품은 수출 품질 기준을 충족하여야 합니다. 신청서는 국세청(IRB)에 제출하여야 합니다. 11.8 환경 보호에 대한 기부 오로지 환경 보호와 보존만을 위해 승인된 단체에 기부한 금 액은 단 한 차례 공제를 받을 수 있습니다. 신청서는 국세청(IRB)에 제출하여야 합니다. 11.9 직원 주거시설에 대한 인센티브 제조업, 승인된 서비스 프로젝트(ASP), 호텔 또는 관광 사업 에서 일하는 직원의 주거용으로 사용되는 건물은 당해 건물 의 건축/매입으로 발생한 자본적 지출액에 대해 10년간 매년 10%의 공제를 제공하는 특별 산업용 건물 공제(IBA)를 신청 할 수 있는 자격이 주어집니다. 신청서는 국세청(IRB)에 제출하여야 합니다. 30 제3장 과세 제도 조세 제도 1. 말레이시아의 조세 제도 2. 과세 대상 소득의 종류 3. 법인세 4. 개인소득세 4.1 거주자 개인 4.1.1 인적 공제 4.1.2 세금 환급 4.2 비거주자 개인 5. 원천징수세 6. 부동산 양도소득세 7. 판매세 및 서비스세 7.1 판매세 7.1.1 판매세율 7.2 서비스세 7.2.1 과세 가능한 서비스 7.2.2 과세 7.2.3 서비스세율 7.2.4 신용카드와 고객카드에 대한 서비스세율 8. 수입 관세 9. 소비세 10. 관세항소법원 및 사전심사제도 11. 이중과세방지협약 32 조세 제도 제 3장 조세 제도 1. 말레이시아의 조세 제도 기업을 포함한 모든 개인의 말레이시아 국내에서 발생하거나 획득한 소득 또는 말레이시아 국외에서 획득하여 말레이시아 국내에서 수령한 소득은 소득세 과세 대상이 됩니다. 그러나 은행, 보험, 해상 또는 항공 운송 사업을 영위하는 거 주자 기업을 제외한 개인이 과세연도 동안 말레이시아 국외 에서 획득하여 말레이시아 국내에서 수령한 소득은 세금이 면 제됩니다. 조세 행정 제도를 현대화하고 합리화하기 위한 목적으로 회 사, 개인사업자, 파트너십, 협동조합과 봉급생활자 그룹을 대 상으로 신고 납세(self-assessment) 제도가 시행되었고 그리 고 소득세 과세 기간은 당해 연도를 기준으로 하고 있습니다. 2. 과세 대상 소득의 종류 과세 대상 소득은 다음과 같습니다. i. 수행 기간이 어떻게 되든 사업에서 발생한 이득 또는 이윤. ii. 고용으로 발생한 이득 또는 이윤(급여, 보수 등). iii. 배당금, 이자 또는 할인금 iv. 임대료, 로얄티 또는 할증 수익 v. 연금, 보험 연금 또는 기타 정기 지급금 vi. 기타 소득 성격의 이득 또는 이윤 과세 대상 소득은 대상이 될 경우 당해 소득 창출 과정에서 발 생한 허용 가능한 비용, 자본\n",
      "\n",
      "Apakah faedah memohon pengecualian cukai di Malaysia dan bagaimanakah perniagaan boleh menjimatkan kos melalui proses ini? \n"
     ]
    },
    {
     "name": "stderr",
     "output_type": "stream",
     "text": [
      "1804015it [00:39, 50351.13it/s]"
     ]
    },
    {
     "name": "stdout",
     "output_type": "stream",
     "text": [
      " Nilai-nilai agama dan kerohanian dalam Islam sangat penting dalam amalan ibadah. Sebagai umat Islam, kita digalakkan untuk beribadah kepada Allah SWT dengan rasa takut, cinta, dan kasih sayang. Dalam menjalankan ibadah, kita digalakkan untuk mempunyai niat yang ikhlas dan ikhlas, serta menjaga sikap tawadhu' dan rendah hati.\n",
      "\n",
      "Beribadah mempunyai nilai-nilai penting dalam kehidupan Muslim, seperti meningkatkan hubungan kita dengan Allah SWT, mendapatkan keberkahan dan rahmat-Nya, serta menguatkan iman dan ketakwaan kita. Selain itu, beribadah juga mengajarkan kita untuk bersyukur atas nikmat yang diberikan oleh Allah SWT, bersabar dalam menghadapi ujian, dan berusaha untuk meningkatkan kualiti diri kita sebagai hamba-Nya.\n",
      "\n",
      "Dalam Islam, nilai-nilai kerohanian dan ibadah juga ditekankan melalui pelaksanaan kewajipan-kewajipan agama seperti shalat, puasa, zakat, haji, dan pelbagai amalan sunnah lain. Melalui ibadah-ibadah ini, kita diajarkan untuk menghadirkan kehadiran Allah SWT dalam setiap aspek kehidupan kita, baik dalam ibadah formal mahupun dalam kehidupan sehari-hari.\n",
      "\n",
      "Dengan menjalankan ibadah sesuai dengan tuntunan agama, kita dapat mencapai kedamaian dalam hati dan jiwa, serta meraih kebahagiaan hakiki di dunia dan akhirat. Ibadah yang dilakukan dengan penuh kesedaran dan mengikuti hidayah agama juga merupakan bentuk penghormatan dan ketaatan kita sebagai hamba Allah SWT.\n",
      "\n",
      "Jadi, nilai-nilai agama dan kerohanian dalam Islam sangatlah penting dalam memahami dan menjalankan ibadah dengan baik sesuai dengan ajaran agama.\n"
     ]
    },
    {
     "name": "stderr",
     "output_type": "stream",
     "text": [
      "1931491it [00:41, 50932.81it/s]"
     ]
    },
    {
     "name": "stdout",
     "output_type": "stream",
     "text": [
      " Menunjukkan rasa syukur kepada Allah dan berbuat baik kepada orang lain adalah penting kerana:\n",
      "\n",
      "1. Menghargai nikmat Allah: Dengan bersyukur, kita menunjukkan penghargaan kita terhadap segala nikmat yang Allah berikan kepada kita. Ia juga menunjukkan kesedaran bahawa segala yang kita miliki adalah hasil pemberian-Nya.\n",
      "\n",
      "2. Memperbaiki hubungan sosial: Dengan berbuat baik kepada orang lain, kita dapat memperbaiki hubungan dan ikatan sosial antara satu sama lain. Ini dapat mewujudkan keharmonian dan kegembiraan dalam masyarakat.\n",
      "\n",
      "3. Mendapatkan ganjaran: Allah berjanji memberi ganjaran kepada orang yang bersyukur dan berbuat baik kepada orang lain. Ini memotivasikan kita untuk terus melakukan perbuatan baik dalam kehidupan sehari-hari.\n",
      "\n",
      "4. Memperkukuhkan diri: Bersyukur dan berbuat baik membantu menguatkan diri kita sendiri. Ia membawa kebahagiaan, kepuasan, dan meningkatkan kualiti hidup kita secara keseluruhan.\n",
      "\n",
      "Jadi, menjadi bersyukur kepada Allah dan berbuat baik kepada orang lain adalah penting kerana ia membawa manfaat yang baik dalam kehidupan kita.\n"
     ]
    },
    {
     "name": "stderr",
     "output_type": "stream",
     "text": [
      "2075524it [00:44, 51656.62it/s]"
     ]
    },
    {
     "name": "stdout",
     "output_type": "stream",
     "text": [
      " !\n"
     ]
    },
    {
     "name": "stderr",
     "output_type": "stream",
     "text": [
      "2186870it [00:46, 49576.57it/s]"
     ]
    },
    {
     "name": "stdout",
     "output_type": "stream",
     "text": [
      " Kepentingan syor untuk pemegang bon menunjukkan dan membuktikan pemilikan aset sumber adalah untuk memastikan kesahihan dan kepercayaan dalam struktur sukuk. Oleh itu, jika ini dapat ditunjukkan dan dibuktikan, permintaan syor pertama akan dianggap sah. Menentang struktur pemilikan yang jelas dan terbuka adalah sangat penting dalam sukuk, terutamanya dari segi tuntutan aset yang menjadi asas untuk pengeluaran sukuk. Oleh itu, syor ini memberi perhatian bahawa pemilik sukuk bukan sahaja perlu menunjukkan pemilikan aset, tetapi juga membawa hak dan tanggungjawab yang melekat padanya. Tambahan pula, peraturan undang-undang dan peraturan yang terpakai di negara yang berkaitan akan menentukan bentuk pemilikan sebenar. Semakin jelas dan kukuh bukti pemilikan, semakin sah dan kuat kedudukan pemegang sukuk.\n",
      " Adalah penting untuk menghormati dan menghargai pandangan yang berbeza dalam perkara harian kerana ia membantu memupuk pemahaman, kepelbagaian dan toleransi dalam masyarakat. Dengan menghormati pandangan yang berbeza, kita boleh belajar daripada pengalaman orang lain, membuat keputusan yang lebih baik, dan membina hubungan yang harmoni dengan orang lain.\n"
     ]
    },
    {
     "name": "stderr",
     "output_type": "stream",
     "text": [
      "2503002it [00:53, 49331.03it/s]"
     ]
    },
    {
     "name": "stdout",
     "output_type": "stream",
     "text": [
      "Terjemahkan frasa \"Saya fasih berbahasa Melayu\" kepada bahasa Cina Mandarin. \n"
     ]
    },
    {
     "name": "stderr",
     "output_type": "stream",
     "text": [
      "2605336it [00:55, 50176.25it/s]"
     ]
    },
    {
     "name": "stdout",
     "output_type": "stream",
     "text": [
      "Dengan menggunakan hanya emotikon, cipta potret tokoh sejarah terkenal dari Malaysia. Sertakan juga unsur budaya atau warisan Malaysia. \n"
     ]
    },
    {
     "name": "stderr",
     "output_type": "stream",
     "text": [
      "2615424it [00:55, 50100.48it/s]"
     ]
    },
    {
     "name": "stdout",
     "output_type": "stream",
     "text": [
      "?   . \n"
     ]
    },
    {
     "name": "stderr",
     "output_type": "stream",
     "text": [
      "2775535it [00:59, 46604.95it/s]\n"
     ]
    }
   ],
   "source": [
    "from tqdm import tqdm\n",
    "\n",
    "data = []\n",
    "with open('shuf-combine-malay-no-alignment-rag.jsonl') as fopen:\n",
    "    for l in tqdm(fopen):\n",
    "        l = json.loads(l)\n",
    "        if 'function_call' in l and not isinstance(l['function_call'], str):\n",
    "            print(l['function_call'])\n",
    "        if generate_and_tokenize_prompt(l) is not None:\n",
    "            data.append(l)"
   ]
  },
  {
   "cell_type": "code",
   "execution_count": 16,
   "id": "6c0ef662",
   "metadata": {},
   "outputs": [
    {
     "data": {
      "text/plain": [
       "2775508"
      ]
     },
     "execution_count": 16,
     "metadata": {},
     "output_type": "execute_result"
    }
   ],
   "source": [
    "len(data)"
   ]
  },
  {
   "cell_type": "code",
   "execution_count": 17,
   "id": "f411f5f1",
   "metadata": {},
   "outputs": [],
   "source": [
    "with open('shuf-combine-malay-no-alignment-rag.jsonl', 'w') as fopen:\n",
    "    for d in data:\n",
    "        fopen.write(f'{json.dumps(d)}\\n')"
   ]
  },
  {
   "cell_type": "code",
   "execution_count": 18,
   "id": "5e520e00",
   "metadata": {},
   "outputs": [
    {
     "name": "stdout",
     "output_type": "stream",
     "text": [
      "2775508 shuf-combine-malay-no-alignment-rag.jsonl\r\n"
     ]
    }
   ],
   "source": [
    "!wc -l shuf-combine-malay-no-alignment-rag.jsonl"
   ]
  },
  {
   "cell_type": "code",
   "execution_count": 19,
   "id": "10f56ef5",
   "metadata": {},
   "outputs": [
    {
     "name": "stderr",
     "output_type": "stream",
     "text": [
      "2775508it [00:55, 50264.77it/s]\n"
     ]
    }
   ],
   "source": [
    "with open('shuf-combine-malay-no-alignment-rag.jsonl') as fopen:\n",
    "    for l in tqdm(fopen):\n",
    "        l = json.loads(l)\n",
    "        if 'function_call' in l and not isinstance(l['function_call'], str):\n",
    "            print(l['function_call'])\n",
    "        if generate_and_tokenize_prompt(l) is None:\n",
    "            break"
   ]
  },
  {
   "cell_type": "code",
   "execution_count": 20,
   "id": "2ec02091",
   "metadata": {},
   "outputs": [
    {
     "name": "stdout",
     "output_type": "stream",
     "text": [
      "{\"prompt_input\": null, \"input\": \"<manusia>: Periksa kesan pelbagai genre muzik ke atas otak manusia untuk menentukan sejauh mana muzik boleh mempengaruhi mood, kognisi dan tingkah laku pada peringkat biologi dan psikologi.\\n<bot>: Muzik telah menjadi sebahagian daripada budaya manusia selama berabad-abad dan dipercayai mempunyai kesan yang mendalam terhadap emosi, kognisi dan tingkah laku manusia. Kajian yang dijalankan ke atas kesan pelbagai genre muzik pada otak telah menunjukkan bahawa muzik boleh mempengaruhi mood, kognisi dan tingkah laku pada tahap biologi dan psikologi.\\n\\nPenyelidikan telah menunjukkan bahawa mendengar muzik boleh meningkatkan mood seseorang dengan mengaktifkan pusat ganjaran otak, yang membawa kepada rembesan dopamin, neurotransmitter yang bertanggungjawab untuk mengawal mood dan motivasi. Dalam hal ini, genre muzik yang lebih ceria, bertenaga dan menggembirakan cenderung memberi kesan yang lebih ketara pada peningkatan mood berbanding genre yang lebih perlahan dan melankolik.\\n\\nSelain peningkatan mood, muzik juga boleh mempengaruhi kebolehan kognitif seperti tumpuan, perhatian, dan ingatan ingatan. Kajian telah menunjukkan bahawa mendengar muzik dengan rentak yang stabil, seperti muzik klasik atau muzik instrumental, boleh meningkatkan kebolehan kognitif dengan meningkatkan penyegerakan aktiviti saraf di dalam otak. Fenomena ini amat berguna untuk individu yang bergelut dengan masalah gangguan hiperaktif kekurangan perhatian (ADHD) atau masalah ingatan semula.\\n\\nPada tahap tingkah laku, muzik telah ditunjukkan untuk mempengaruhi interaksi sosial, prestasi fizikal, dan juga kreativiti. Sebagai contoh, muzik boleh memudahkan ikatan sosial dengan meningkatkan emosi positif dan mencipta pengalaman yang dikongsi. Dalam hal ini, genre ceria seperti muzik pop, rock dan tarian telah ditunjukkan untuk menggalakkan pergerakan fizikal dan penglibatan sosial.\\n\\nTambahan pula, muzik juga boleh meningkatkan kreativiti dengan menggalakkan pemikiran berbeza, membolehkan individu berfikir di luar kotak dan menghasilkan penyelesaian baru kepada masalah.\\n\\nKesimpulannya, kajian telah menunjukkan bahawa kesan pelbagai genre muzik pada otak manusia boleh menjadi sangat mendalam. Muzik boleh mempengaruhi mood, kognisi dan tingkah laku pada peringkat biologi dan psikologi. Dengan memahami kesan ini, individu boleh menggunakan muzik sebagai alat untuk pembangunan peribadi, terapi, dan juga perubahan sosial.\\n<manusia>: Wah, ini sungguh menarik! Bolehkah anda memberitahu saya lebih lanjut tentang kesan muzik pada prestasi fizikal? Juga, bolehkah anda memberikan saya beberapa contoh genre terbaik untuk bersenam?\\n<bot>: Sudah tentu! Muzik telah ditunjukkan mempunyai kesan yang ketara terhadap prestasi fizikal, termasuk daya tahan, kekuatan, dan motivasi keseluruhan. Apabila mendengar muzik semasa bersenam, individu cenderung untuk mengurangkan gangguan dan memberi tumpuan kepada irama muzik, yang boleh membawa kepada peningkatan daya tahan dan prestasi keseluruhan yang lebih baik. Kajian telah menunjukkan bahawa muzik boleh mengurangkan keletihan dan usaha yang dirasakan semasa senaman, yang boleh membawa kepada sesi senaman yang lebih berpanjangan dan lebih sengit.\\n\\nDari segi genre terbaik untuk bersenam, terdapat beberapa aliran pemikiran yang berbeza. Sesetengah individu lebih suka muzik bertenaga tinggi dan pantas, seperti muzik tarian elektronik (EDM), hip hop atau muzik pop. Yang lain lebih suka genre yang lebih melodi atau menaikkan semangat, seperti rock atau muzik instrumental yang ceria.\\n\\nSatu kajian yang diterbitkan dalam jurnal Frontiers in Psychology mendapati bahawa individu yang mendengar muzik dengan tempo antara 120-140 denyutan seminit (BPM) cenderung mengalami faedah fizikal yang paling ketara semasa bersenam. Julat tempo ini biasanya ditemui dalam genre seperti EDM, pop dan hip hop.\\n\\nSatu lagi kajian yang diterbitkan dalam Journal of Strength and Conditioning Research mendapati mendengar muzik dengan tempo tinggi (160 BPM) semasa sesi angkat berat meningkatkan prestasi dan kepuasan keseluruhan peserta.\\n\\nAkhirnya, genre muzik terbaik untuk bersenam adalah subjektif dan bergantung pada pilihan peribadi individu. Adalah penting untuk memilih muzik yang memotivasi dan memberi tenaga kepada anda, sama ada muzik pop, rock atau sesuatu yang lain sepenuhnya.\\n<manusia>: I'm wondering if you could expand on the impact of music on social interactions. Which genres of music are most likely to facilitate social bonding, and why?\\n<bot>: Pasti! Kesan muzik terhadap interaksi sosial dan mewujudkan rasa kemasyarakatan telah dikaji secara meluas. Muzik boleh menjadi alat yang berkesan untuk memudahkan ikatan sosial dengan mempromosikan emosi positif, pengalaman berkongsi dan rasa kekitaan. Sesetengah genre muzik lebih cenderung untuk memudahkan ikatan sosial berbanding yang lain. Genre muzik yang ceria dan bertenaga, seperti muzik pop, rock dan tarian, dikaitkan dengan ikatan sosial. Genre ini direka bentuk untuk memotivasikan pergerakan dan tarian, itulah sebabnya mereka sering dimainkan di acara sosial seperti parti dan kelab. Selain itu, muzik pop dan rock sudah biasa di kalangan orang ramai dan mencipta peluang singalong, yang menggalakkan perkongsian pengalaman dan perasaan perpaduan. Sebaliknya, beberapa genre muzik, seperti metal dan punk, biasanya tidak dikaitkan dengan ikatan sosial. Walaupun genre ini boleh dinikmati oleh peminat yang ghairah, mereka cenderung kurang menghasilkan pengalaman berkongsi dan ikatan sosial. Selain itu, persembahan muzik secara langsung boleh menjadi sangat berkesan untuk mempromosikan ikatan sosial. Dalam kajian yang diterbitkan dalam jurnal Group Dynamics, peserta yang menghadiri persembahan muzik secara langsung mengalami peningkatan yang lebih ketara dalam ikatan dan pertalian sosial berbanding mereka yang tidak menghadiri acara tersebut. Ini kerana persembahan muzik secara langsung mempunyai keupayaan untuk mewujudkan rasa kemasyarakatan di kalangan peserta, yang berkongsi minat yang sama dalam muzik dan suasana keseluruhan. Ringkasnya, genre muzik yang bersemangat dan bertenaga adalah paling berkesan untuk memudahkan ikatan sosial, kerana ia menggalakkan pengalaman berkongsi dan emosi positif. Walau bagaimanapun, adalah penting untuk ambil perhatian bahawa pilihan muzik adalah subjektif, dan orang yang berbeza mungkin mempunyai pengalaman yang berbeza berdasarkan cita rasa muzik dan latar belakang peribadi mereka.\\n<manusia>: Can you tell me a bit more about the impact of music on sleep? Also, could you give me some genres to listen to before bedtime?\\n<bot>: Pasti! Kesan muzik terhadap tidur telah dikaji secara meluas. Muzik boleh menjadi alat yang berkesan untuk menggalakkan kelonggaran, mengurangkan tahap tekanan dan meningkatkan kualiti tidur. Apabila mendengar muzik sebelum tidur, aktiviti otak berkurangan, seterusnya boleh membawa kepada tidur yang lebih lena. Genre muzik yang perlahan dan menenangkan cenderung menjadi yang paling berkesan untuk menggalakkan kelonggaran dan meningkatkan kualiti tidur. Genre ini termasuk muzik klasik, ambien dan instrumental. Selain itu, muzik tempo perlahan dengan irama yang menenangkan mewujudkan rasa tenang, yang mengurangkan ketegangan otot dan membantu dalam berehat sebelum tidur. Muzik klasik ialah pilihan biasa untuk mendengar sebelum tidur kerana ia biasanya menampilkan tempo yang lebih perlahan dan boleh menggalakkan perasaan relaks. Selain itu, muzik instrumental dengan bunyi alam semula jadi, seperti hujan atau ombak laut, boleh mewujudkan persekitaran yang menenangkan yang menggalakkan tidur. Muzik ambien, yang sering dicirikan oleh ton yang mampan dan tekstur halus, juga merupakan pilihan popular untuk mendengar sebelum tidur kerana ia mewujudkan suasana yang tenang. Selain itu, muzik yang menenangkan secara peribadi juga boleh berkesan dalam menggalakkan kelonggaran dan tidur. Individu harus memilih muzik yang bergema dengan citarasa peribadi mereka dan mewujudkan rasa tenang dan ketenangan. Ringkasnya, mendengar muzik sebelum tidur boleh menjadi alat yang berkesan untuk menggalakkan kelonggaran dan meningkatkan kualiti tidur. Genre muzik yang perlahan dan menenangkan, seperti muzik klasik, instrumental dan ambien, cenderung menjadi pilihan yang paling berkesan untuk mendengar sebelum tidur. Walau bagaimanapun, adalah penting untuk memilih muzik yang secara peribadi menggalakkan kelonggaran dan ketenangan.\", \"output\": null}\r\n",
      "{\"prompt_input\": null, \"input\": \"Di manakah pelajar universiti biasanya mengikuti kuliah?\\nA. di kafe\\nB. di dewan kuliah\\nC. di pusat membeli belah\\nD. di taman awam\\nE. di pusat kecergasan\", \"output\": \"B\"}\r\n",
      "{\"prompt_input\": null, \"input\": \"Soalan: Bagaimana seseorang itu jika dia tidak malu?\\nA. berani\\nB. cerdik\\nC. mudah\\nD. jelas\\nE. tajam\", \"output\": \"A\"}\r\n"
     ]
    }
   ],
   "source": [
    "!head -n 3 shuf-combine-malay-no-alignment-rag.jsonl"
   ]
  },
  {
   "cell_type": "code",
   "execution_count": 21,
   "id": "2a82c1e6",
   "metadata": {},
   "outputs": [
    {
     "name": "stdout",
     "output_type": "stream",
     "text": [
      "-rw-r--r-- 1 husein husein 15G Jan  15 19:22 shuf-combine-malay-no-alignment-rag.jsonl\r\n"
     ]
    }
   ],
   "source": [
    "!ls -lh shuf-combine-malay-no-alignment-rag.jsonl"
   ]
  },
  {
   "cell_type": "code",
   "execution_count": 24,
   "id": "8d81c0ee",
   "metadata": {},
   "outputs": [],
   "source": [
    "!rm -rf mosaic"
   ]
  },
  {
   "cell_type": "code",
   "execution_count": 25,
   "id": "7d1f72c3",
   "metadata": {},
   "outputs": [
    {
     "name": "stderr",
     "output_type": "stream",
     "text": [
      "2775508it [02:02, 22689.32it/s]\n"
     ]
    }
   ],
   "source": [
    "from streaming import MDSWriter\n",
    "from streaming import LocalDataset, StreamingDataset\n",
    "\n",
    "columns = {\n",
    "    'text': 'str',\n",
    "}\n",
    "hashes = 'sha1', 'xxh64'\n",
    "\n",
    "with MDSWriter(out='mosaic', columns=columns, compression=None, hashes=hashes) as out:\n",
    "    with open('shuf-combine-malay-no-alignment-rag.jsonl') as fopen:\n",
    "        for l in tqdm(fopen):\n",
    "            out.write({\n",
    "                'text': l\n",
    "            })"
   ]
  },
  {
   "cell_type": "code",
   "execution_count": 26,
   "id": "6b9039bf",
   "metadata": {},
   "outputs": [],
   "source": [
    "!cp mosaic/* ~/ssd3/mosaic-chat-instructions-rag"
   ]
  },
  {
   "cell_type": "code",
   "execution_count": 27,
   "id": "cdd9b66c",
   "metadata": {},
   "outputs": [],
   "source": [
    "from transformers import AutoTokenizer\n",
    "\n",
    "tokenizer = AutoTokenizer.from_pretrained('mesolitica/tinyllama-1.1b-4096-fpf')\n",
    "tokenizer.pad_token = tokenizer.unk_token\n",
    "tokenizer.add_bos_token = False\n",
    "tokenizer.add_eos_token = False\n",
    "tokenizer.padding_side = \"right\"\n",
    "tokenizer.chat_template = \"{{ bos_token }}{% for message in messages %}{% if (message['role'] == 'user') != (loop.index0 % 2 == 0) %}{{ raise_exception('Conversation roles must alternate user/assistant/user/assistant/...') }}{% endif %}{% if message['role'] == 'user' %}{{ '[INST] ' + message['content'] + ' [/INST]' }}{% elif message['role'] == 'assistant' %}{{ message['content'] + eos_token}}{% else %}{{ raise_exception('Only user and assistant roles are supported!') }}{% endif %}{% endfor %}\""
   ]
  },
  {
   "cell_type": "code",
   "execution_count": 28,
   "id": "cf91cf60",
   "metadata": {},
   "outputs": [],
   "source": [
    "def generate_and_tokenize_prompt(row):\n",
    "    if '<bot>:' in row['input'] and row['output'] is None:\n",
    "        inputs, outputs = [], []\n",
    "        splitted = row['input'].split('<bot>:')\n",
    "        for i in range(len(splitted) - 1):\n",
    "            if i == 0:\n",
    "                human = splitted[i].replace('<manusia>:', '')\n",
    "            else:\n",
    "                try:\n",
    "                    human = splitted[i].split('<manusia>:')[1]\n",
    "                except BaseException:\n",
    "                    continue\n",
    "            bot = splitted[i + 1].split('<manusia>:')[0]\n",
    "            inputs.append(human)\n",
    "            outputs.append(bot)\n",
    "    else:\n",
    "        inputs = [row['input']]\n",
    "        outputs = [row['output']]\n",
    "\n",
    "    chat = []\n",
    "    for input, output in zip(inputs, outputs):\n",
    "        chat.extend([\n",
    "            {'role': 'user', 'content': input.strip()},\n",
    "            {'role': 'assistant', 'content': output.strip()},\n",
    "        ])\n",
    "    prompt = tokenizer.apply_chat_template(chat, tokenize=False)\n",
    "    return {'text': prompt}"
   ]
  },
  {
   "cell_type": "code",
   "execution_count": 29,
   "id": "86100194",
   "metadata": {},
   "outputs": [],
   "source": [
    "dataset = LocalDataset(local='mosaic')\n",
    "row = json.loads(dataset[0]['text'])\n",
    "element = generate_and_tokenize_prompt(row)\n",
    "outputs = tokenizer(\n",
    "    element['text'],\n",
    "    truncation=True,\n",
    "    padding=False,\n",
    "    max_length=16384,\n",
    "    return_overflowing_tokens=False,\n",
    "    return_length=False,\n",
    ")"
   ]
  },
  {
   "cell_type": "code",
   "execution_count": 30,
   "id": "212d7930",
   "metadata": {},
   "outputs": [
    {
     "data": {
      "application/vnd.jupyter.widget-view+json": {
       "model_id": "67e8f08193844b17ac0993837a75236c",
       "version_major": 2,
       "version_minor": 0
      },
      "text/plain": [
       "shuf-combine-malay-no-alignment-rag.jsonl:   0%|          | 0.00/15.6G [00:00<?, ?B/s]"
      ]
     },
     "metadata": {},
     "output_type": "display_data"
    },
    {
     "data": {
      "text/plain": [
       "'https://huggingface.co/datasets/mesolitica/instructions-dataset/blob/main/shuf-combine-malay-no-alignment-rag.jsonl'"
      ]
     },
     "execution_count": 30,
     "metadata": {},
     "output_type": "execute_result"
    }
   ],
   "source": [
    "from huggingface_hub import HfApi\n",
    "api = HfApi()\n",
    "api.upload_file(\n",
    "    path_or_fileobj='shuf-combine-malay-no-alignment-rag.jsonl',\n",
    "    path_in_repo='shuf-combine-malay-no-alignment-rag.jsonl',\n",
    "    repo_id='mesolitica/instructions-dataset',\n",
    "    repo_type='dataset',\n",
    ")"
   ]
  },
  {
   "cell_type": "code",
   "execution_count": null,
   "id": "5fc6e18b",
   "metadata": {},
   "outputs": [],
   "source": []
  }
 ],
 "metadata": {
  "kernelspec": {
   "display_name": "Python 3 (ipykernel)",
   "language": "python",
   "name": "python3"
  },
  "language_info": {
   "codemirror_mode": {
    "name": "ipython",
    "version": 3
   },
   "file_extension": ".py",
   "mimetype": "text/x-python",
   "name": "python",
   "nbconvert_exporter": "python",
   "pygments_lexer": "ipython3",
   "version": "3.8.10"
  }
 },
 "nbformat": 4,
 "nbformat_minor": 5
}
