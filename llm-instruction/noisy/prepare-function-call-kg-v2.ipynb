{
 "cells": [
  {
   "cell_type": "code",
   "execution_count": 1,
   "id": "40c86f2b",
   "metadata": {},
   "outputs": [],
   "source": [
    "import instructor\n",
    "import json\n",
    "import random\n",
    "from pydantic import BaseModel, Field\n",
    "from typing import List\n",
    "\n",
    "class Triplet(BaseModel):\n",
    "    subject: str \n",
    "    predicate: str\n",
    "    object: str\n",
    "        \n",
    "class KG(BaseModel):\n",
    "    triplets: List[Triplet]"
   ]
  },
  {
   "cell_type": "code",
   "execution_count": 2,
   "id": "0518ce7a",
   "metadata": {},
   "outputs": [
    {
     "name": "stdout",
     "output_type": "stream",
     "text": [
      "{\n",
      "    \"name\": \"KG\",\n",
      "    \"description\": \"Correctly extracted `KG` with all the required parameters with correct types\",\n",
      "    \"parameters\": {\n",
      "        \"$defs\": {\n",
      "            \"Triplet\": {\n",
      "                \"properties\": {\n",
      "                    \"subject\": {\n",
      "                        \"type\": \"string\"\n",
      "                    },\n",
      "                    \"predicate\": {\n",
      "                        \"type\": \"string\"\n",
      "                    },\n",
      "                    \"object\": {\n",
      "                        \"type\": \"string\"\n",
      "                    }\n",
      "                },\n",
      "                \"required\": [\n",
      "                    \"subject\",\n",
      "                    \"predicate\",\n",
      "                    \"object\"\n",
      "                ],\n",
      "                \"type\": \"object\"\n",
      "            }\n",
      "        },\n",
      "        \"properties\": {\n",
      "            \"triplets\": {\n",
      "                \"items\": {\n",
      "                    \"$ref\": \"#/$defs/Triplet\"\n",
      "                },\n",
      "                \"type\": \"array\"\n",
      "            }\n",
      "        },\n",
      "        \"required\": [\n",
      "            \"triplets\"\n",
      "        ],\n",
      "        \"type\": \"object\"\n",
      "    }\n",
      "}\n"
     ]
    }
   ],
   "source": [
    "kg = json.dumps(instructor.openai_schema(KG).openai_schema, indent=4)\n",
    "print(kg)"
   ]
  },
  {
   "cell_type": "code",
   "execution_count": 3,
   "id": "88bf35f2",
   "metadata": {},
   "outputs": [
    {
     "data": {
      "text/plain": [
       "104689"
      ]
     },
     "execution_count": 3,
     "metadata": {},
     "output_type": "execute_result"
    }
   ],
   "source": [
    "data = []\n",
    "with open('/home/husein/ssd1/ctranslate2/kg-astroawani.translated.jsonl') as fopen:\n",
    "    for l in fopen:\n",
    "        l = json.loads(l)\n",
    "        if l.get('title_kg_ms'):\n",
    "            selected = True\n",
    "            for r in l['title_kg_ms']:\n",
    "                if not len(r['head']) or not len(r['type']) or not len(r['tail']):\n",
    "                    selected = False\n",
    "            if selected:\n",
    "                triplets = []\n",
    "                for r in l['title_kg_ms']:\n",
    "                    triplets.append({\n",
    "                        'subject': r['head'],\n",
    "                        'predicate': r['type'],\n",
    "                        'object': r['tail']\n",
    "                    })\n",
    "                \n",
    "                d = {\n",
    "                    'name': 'KG',\n",
    "                    'arguments': {\n",
    "                        'triplets': triplets\n",
    "                    }\n",
    "                }\n",
    "                data.append((l['title'], d))\n",
    "        \n",
    "        if l.get('description_kg_ms'):\n",
    "            selected = True\n",
    "            for r in l['description_kg_ms']:\n",
    "                if not len(r['head']) or not len(r['type']) or not len(r['tail']):\n",
    "                    selected = False\n",
    "            if selected:\n",
    "                triplets = []\n",
    "                for r in l['description_kg_ms']:\n",
    "                    triplets.append({\n",
    "                        'subject': r['head'],\n",
    "                        'predicate': r['type'],\n",
    "                        'object': r['tail']\n",
    "                    })\n",
    "                \n",
    "                d = {\n",
    "                    'name': 'KG',\n",
    "                    'arguments': {\n",
    "                        'triplets': triplets\n",
    "                    }\n",
    "                }\n",
    "                data.append((l['description'], d))\n",
    "        \n",
    "        if l.get('body_kg_ms'):\n",
    "            for row in l['body_kg_ms']:\n",
    "                selected = True\n",
    "                if row[1] is None:\n",
    "                    continue\n",
    "                if not len(row[1]):\n",
    "                    continue\n",
    "                for r in row[1]:\n",
    "                    if not len(r['head']) or not len(r['type']) or not len(r['tail']):\n",
    "                        selected = False\n",
    "                if selected:\n",
    "                    triplets = []\n",
    "                    for r in row[1]:\n",
    "                        triplets.append({\n",
    "                            'subject': r['head'],\n",
    "                            'predicate': r['type'],\n",
    "                            'object': r['tail']\n",
    "                        })\n",
    "\n",
    "                    d = {\n",
    "                        'name': 'KG',\n",
    "                        'arguments': {\n",
    "                            'triplets': triplets\n",
    "                        }\n",
    "                    }\n",
    "                    data.append((row[0], d))\n",
    "                \n",
    "len(data)"
   ]
  },
  {
   "cell_type": "code",
   "execution_count": 4,
   "id": "3f930880",
   "metadata": {},
   "outputs": [],
   "source": [
    "templates = [\n",
    "    'tukar ke JSON berdasarkan schema {schema}, teks `{text}`',\n",
    "    'text `{text}`, convert to JSON using schema {schema}',\n",
    "    'teks: {text}\\n\\ntukar ke JSON using schema {schema}',\n",
    "    'convert to JSON using schema {schema}\\n\\ntext: {text}',\n",
    "    '{text}\\n\\nJSON berdasarkan schema {schema}',\n",
    "    'JSON berdasarkan schema {schema}\\n\\n{text}',\n",
    "]"
   ]
  },
  {
   "cell_type": "code",
   "execution_count": 5,
   "id": "37d0d3c2",
   "metadata": {},
   "outputs": [],
   "source": [
    "chat = []\n",
    "for d in data:\n",
    "    chat.append({\n",
    "        'prompt_input': None,\n",
    "        'input': random.choice(templates).format(schema = kg, text = d[0]),\n",
    "        'output': json.dumps(d[1]),\n",
    "    })"
   ]
  },
  {
   "cell_type": "code",
   "execution_count": 6,
   "id": "110117ac",
   "metadata": {},
   "outputs": [
    {
     "data": {
      "text/plain": [
       "{'prompt_input': None,\n",
       " 'input': 'convert to JSON using schema {\\n    \"name\": \"KG\",\\n    \"description\": \"Correctly extracted `KG` with all the required parameters with correct types\",\\n    \"parameters\": {\\n        \"$defs\": {\\n            \"Triplet\": {\\n                \"properties\": {\\n                    \"subject\": {\\n                        \"type\": \"string\"\\n                    },\\n                    \"predicate\": {\\n                        \"type\": \"string\"\\n                    },\\n                    \"object\": {\\n                        \"type\": \"string\"\\n                    }\\n                },\\n                \"required\": [\\n                    \"subject\",\\n                    \"predicate\",\\n                    \"object\"\\n                ],\\n                \"type\": \"object\"\\n            }\\n        },\\n        \"properties\": {\\n            \"triplets\": {\\n                \"items\": {\\n                    \"$ref\": \"#/$defs/Triplet\"\\n                },\\n                \"type\": \"array\"\\n            }\\n        },\\n        \"required\": [\\n            \"triplets\"\\n        ],\\n        \"type\": \"object\"\\n    }\\n}\\n\\ntext: Padah jalin hubungan sulit dengan pekerja sendiri, CEO McDonald\\'s dipecat serta merta',\n",
       " 'output': '{\"name\": \"KG\", \"arguments\": {\"triplets\": [{\"subject\": \"Padah\", \"predicate\": \"mempunyai\", \"object\": \"hubungan sulit\"}, {\"subject\": \"hubungan sulit\", \"predicate\": \"dengan\", \"object\": \"pekerja sendiri\"}, {\"subject\": \"Padah\", \"predicate\": \"dipecat\", \"object\": \"CEO McDonald\\'s\"}]}}'}"
      ]
     },
     "execution_count": 6,
     "metadata": {},
     "output_type": "execute_result"
    }
   ],
   "source": [
    "chat[0]"
   ]
  },
  {
   "cell_type": "code",
   "execution_count": 7,
   "id": "67742f8a",
   "metadata": {
    "scrolled": false
   },
   "outputs": [],
   "source": [
    "def generate_and_tokenize_prompt(row):\n",
    "    texts = ['<s>']\n",
    "\n",
    "    if 'function_call' in row:\n",
    "        t = row['function_call']\n",
    "        texts.append(f'\\n[FUNCTIONCALL]\\n{t}\\n')\n",
    "\n",
    "    if '<bot>:' in row['input'] and row['output'] is None:\n",
    "        inputs, outputs = [], []\n",
    "        splitted = row['input'].split('<bot>:')\n",
    "        for i in range(len(splitted) - 1):\n",
    "            if i == 0:\n",
    "                human = splitted[i].replace('<manusia>:', '')\n",
    "            else:\n",
    "                try:\n",
    "                    human = splitted[i].split('<manusia>:')[1]\n",
    "                except:\n",
    "                    continue\n",
    "            bot = splitted[i + 1].split('<manusia>:')[0]\n",
    "            inputs.append(human.strip())\n",
    "            outputs.append(bot.strip())\n",
    "    else:\n",
    "        inputs = [row['input']]\n",
    "        outputs = [row['output']]\n",
    "\n",
    "    for u, a in zip(inputs, outputs):\n",
    "        texts.append(f'[INST] {u.strip()} [/INST] {a.strip()}</s> ')\n",
    "\n",
    "    prompt = ''.join(texts)\n",
    "    return {'text': prompt}"
   ]
  },
  {
   "cell_type": "code",
   "execution_count": 9,
   "id": "b070c4c3",
   "metadata": {},
   "outputs": [
    {
     "name": "stdout",
     "output_type": "stream",
     "text": [
      "<s>[INST] JSON berdasarkan schema {\n",
      "    \"name\": \"KG\",\n",
      "    \"description\": \"Correctly extracted `KG` with all the required parameters with correct types\",\n",
      "    \"parameters\": {\n",
      "        \"$defs\": {\n",
      "            \"Triplet\": {\n",
      "                \"properties\": {\n",
      "                    \"subject\": {\n",
      "                        \"type\": \"string\"\n",
      "                    },\n",
      "                    \"predicate\": {\n",
      "                        \"type\": \"string\"\n",
      "                    },\n",
      "                    \"object\": {\n",
      "                        \"type\": \"string\"\n",
      "                    }\n",
      "                },\n",
      "                \"required\": [\n",
      "                    \"subject\",\n",
      "                    \"predicate\",\n",
      "                    \"object\"\n",
      "                ],\n",
      "                \"type\": \"object\"\n",
      "            }\n",
      "        },\n",
      "        \"properties\": {\n",
      "            \"triplets\": {\n",
      "                \"items\": {\n",
      "                    \"$ref\": \"#/$defs/Triplet\"\n",
      "                },\n",
      "                \"type\": \"array\"\n",
      "            }\n",
      "        },\n",
      "        \"required\": [\n",
      "            \"triplets\"\n",
      "        ],\n",
      "        \"type\": \"object\"\n",
      "    }\n",
      "}\n",
      "\n",
      "Sementara itu, Easterbrook menerusi emel kepada kakitangannya mengakui hubungan tersebut merupakan \"satu kesilapan\" yang bertentangan dengan dasar syarikat. [/INST] {\"name\": \"KG\", \"arguments\": {\"triplets\": [{\"subject\": \"Easterbrook\", \"predicate\": \"mengakui\", \"object\": \"hubungan\"}, {\"subject\": \"hubungan\", \"predicate\": \"ialah\", \"object\": \"kesilapan\"}, {\"subject\": \"hubungan\", \"predicate\": \"bercanggah\", \"object\": \"dasar syarikat\"}]}}</s> \n"
     ]
    }
   ],
   "source": [
    "print(generate_and_tokenize_prompt(chat[2])['text'])"
   ]
  },
  {
   "cell_type": "code",
   "execution_count": 10,
   "id": "e46b0c8e",
   "metadata": {},
   "outputs": [],
   "source": [
    "import json\n",
    "\n",
    "with open('prepared-function-call-kg.jsonl', 'w') as fopen:\n",
    "    for l in chat:\n",
    "        fopen.write(f'{json.dumps(l)}\\n')"
   ]
  }
 ],
 "metadata": {
  "kernelspec": {
   "display_name": "3.9",
   "language": "python",
   "name": "3.9"
  },
  "language_info": {
   "codemirror_mode": {
    "name": "ipython",
    "version": 3
   },
   "file_extension": ".py",
   "mimetype": "text/x-python",
   "name": "python",
   "nbconvert_exporter": "python",
   "pygments_lexer": "ipython3",
   "version": "3.9.16"
  }
 },
 "nbformat": 4,
 "nbformat_minor": 5
}
