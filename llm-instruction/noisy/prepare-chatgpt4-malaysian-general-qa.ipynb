{
 "cells": [
  {
   "cell_type": "code",
   "execution_count": 1,
   "id": "9ec49629",
   "metadata": {},
   "outputs": [],
   "source": [
    "import json\n",
    "from glob import glob\n",
    "from unidecode import unidecode"
   ]
  },
  {
   "cell_type": "code",
   "execution_count": 2,
   "id": "60dc5caf",
   "metadata": {
    "scrolled": true
   },
   "outputs": [
    {
     "data": {
      "text/plain": [
       "['/home/husein/ssd3/chatgpt4-malaysian-general-qa/malaysian-general-qa-v2.jsonl',\n",
       " '/home/husein/ssd3/chatgpt4-malaysian-general-qa/malaysian-general-qa-v4.jsonl',\n",
       " '/home/husein/ssd3/chatgpt4-malaysian-general-qa/loghat.jsonl',\n",
       " '/home/husein/ssd3/chatgpt4-malaysian-general-qa/malaysian-general-qa-menengah.jsonl',\n",
       " '/home/husein/ssd3/chatgpt4-malaysian-general-qa/malaysian-general-qa-v3.jsonl',\n",
       " '/home/husein/ssd3/chatgpt4-malaysian-general-qa/malaysian-general-qa.jsonl',\n",
       " '/home/husein/ssd3/chatgpt4-malaysian-general-qa/tatabahasa.jsonl',\n",
       " '/home/husein/ssd3/chatgpt4-malaysian-general-qa/malaysian-general-qa-v5.jsonl']"
      ]
     },
     "execution_count": 2,
     "metadata": {},
     "output_type": "execute_result"
    }
   ],
   "source": [
    "glob('/home/husein/ssd3/chatgpt4-malaysian-general-qa/*.jsonl')"
   ]
  },
  {
   "cell_type": "code",
   "execution_count": 6,
   "id": "147f3c99",
   "metadata": {},
   "outputs": [
    {
     "data": {
      "text/plain": [
       "70258"
      ]
     },
     "execution_count": 6,
     "metadata": {},
     "output_type": "execute_result"
    }
   ],
   "source": [
    "instructions = []\n",
    "for f in glob('/home/husein/ssd3/chatgpt4-malaysian-general-qa/*.jsonl'):\n",
    "    with open(f) as fopen:\n",
    "        for l in fopen:\n",
    "            l = json.loads(l)\n",
    "\n",
    "            q = l.get('question_ms', l['question']).strip()\n",
    "            if not len(q):\n",
    "                continue\n",
    "            a = l.get('answer_ms', l['answer'])\n",
    "            if a is None:\n",
    "                continue\n",
    "            a = a.strip()\n",
    "            if not len(a):\n",
    "                continue\n",
    "                \n",
    "            d = {\n",
    "                'prompt_input': None,\n",
    "                'input': q,\n",
    "                'output': a,\n",
    "            }\n",
    "            instructions.append(d)\n",
    "            \n",
    "len(instructions)"
   ]
  },
  {
   "cell_type": "code",
   "execution_count": 7,
   "id": "b1b52d8d",
   "metadata": {},
   "outputs": [],
   "source": [
    "with open('prepared-chatgpt4-malaysian-general-qa.jsonl', 'w') as fopen:\n",
    "    for d in instructions:\n",
    "        fopen.write(f'{json.dumps(d)}\\n')"
   ]
  }
 ],
 "metadata": {
  "kernelspec": {
   "display_name": "Python 3 (ipykernel)",
   "language": "python",
   "name": "python3"
  },
  "language_info": {
   "codemirror_mode": {
    "name": "ipython",
    "version": 3
   },
   "file_extension": ".py",
   "mimetype": "text/x-python",
   "name": "python",
   "nbconvert_exporter": "python",
   "pygments_lexer": "ipython3",
   "version": "3.8.10"
  }
 },
 "nbformat": 4,
 "nbformat_minor": 5
}
