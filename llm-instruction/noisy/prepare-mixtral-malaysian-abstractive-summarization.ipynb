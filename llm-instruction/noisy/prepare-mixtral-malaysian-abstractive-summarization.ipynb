{
 "cells": [
  {
   "cell_type": "code",
   "execution_count": 21,
   "id": "8ffa39fd",
   "metadata": {},
   "outputs": [],
   "source": [
    "import json\n",
    "import numpy as np\n",
    "from glob import glob\n",
    "from unidecode import unidecode\n",
    "import random"
   ]
  },
  {
   "cell_type": "code",
   "execution_count": 23,
   "id": "5779174a",
   "metadata": {},
   "outputs": [
    {
     "data": {
      "text/plain": [
       "38760"
      ]
     },
     "execution_count": 23,
     "metadata": {},
     "output_type": "execute_result"
    }
   ],
   "source": [
    "prompts = [\n",
    "    'tolong ringkaskan: {text}',\n",
    "    'summarize: {text}',\n",
    "]\n",
    "\n",
    "instructions = []\n",
    "with open('/home/husein/ssd3/paraphrase/mixtral-malaysian-abstractive-summarization.jsonl') as fopen:\n",
    "    for l in fopen:\n",
    "        l = json.loads(l)\n",
    "        if l['summary_ms'] is None:\n",
    "            continue\n",
    "        nearest = (len(l['summary_ms'].split()) + 10) // 10 * 10\n",
    "        q = random.choice(prompts).format(text = l['text'])\n",
    "        d = {\n",
    "            'prompt_input': None,\n",
    "            'input': q,\n",
    "            'output': l['summary_ms'].strip(),\n",
    "        }\n",
    "        instructions.append(d)\n",
    "len(instructions)"
   ]
  },
  {
   "cell_type": "code",
   "execution_count": 24,
   "id": "7f321db8",
   "metadata": {},
   "outputs": [],
   "source": [
    "with open('prepared-mixtral-malaysian-abstractive-summarization.jsonl', 'w') as fopen:\n",
    "    for d in instructions:\n",
    "        fopen.write(f'{json.dumps(d)}\\n')"
   ]
  }
 ],
 "metadata": {
  "kernelspec": {
   "display_name": "Python 3 (ipykernel)",
   "language": "python",
   "name": "python3"
  },
  "language_info": {
   "codemirror_mode": {
    "name": "ipython",
    "version": 3
   },
   "file_extension": ".py",
   "mimetype": "text/x-python",
   "name": "python",
   "nbconvert_exporter": "python",
   "pygments_lexer": "ipython3",
   "version": "3.8.10"
  }
 },
 "nbformat": 4,
 "nbformat_minor": 5
}
