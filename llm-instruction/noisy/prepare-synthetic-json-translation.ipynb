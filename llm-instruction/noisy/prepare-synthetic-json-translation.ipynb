{
 "cells": [
  {
   "cell_type": "code",
   "execution_count": 1,
   "id": "2ddccd83",
   "metadata": {},
   "outputs": [],
   "source": [
    "import json\n",
    "import random\n",
    "from glob import glob"
   ]
  },
  {
   "cell_type": "code",
   "execution_count": 2,
   "id": "e8386af8",
   "metadata": {},
   "outputs": [],
   "source": [
    "# !wget https://huggingface.co/datasets/mesolitica/chatgpt-explain-sentiment/resolve/main/sentiment.jsonl"
   ]
  },
  {
   "cell_type": "code",
   "execution_count": 3,
   "id": "90bad513",
   "metadata": {},
   "outputs": [
    {
     "name": "stdout",
     "output_type": "stream",
     "text": [
      "'dict' object has no attribute 'strip'\n",
      "'dict' object has no attribute 'strip'\n",
      "'list' object has no attribute 'strip'\n",
      "'dict' object has no attribute 'strip'\n",
      "'dict' object has no attribute 'strip'\n",
      "'list' object has no attribute 'strip'\n",
      "'list' object has no attribute 'strip'\n",
      "'dict' object has no attribute 'strip'\n",
      "'dict' object has no attribute 'strip'\n",
      "'dict' object has no attribute 'strip'\n",
      "'dict' object has no attribute 'strip'\n",
      "'dict' object has no attribute 'strip'\n",
      "'dict' object has no attribute 'strip'\n",
      "'list' object has no attribute 'strip'\n",
      "'dict' object has no attribute 'strip'\n",
      "'dict' object has no attribute 'strip'\n",
      "'dict' object has no attribute 'strip'\n",
      "'dict' object has no attribute 'strip'\n",
      "'dict' object has no attribute 'strip'\n",
      "'dict' object has no attribute 'strip'\n",
      "'dict' object has no attribute 'strip'\n",
      "'dict' object has no attribute 'strip'\n",
      "'dict' object has no attribute 'strip'\n"
     ]
    }
   ],
   "source": [
    "english = [\n",
    "    'bahasa inggeris standard',\n",
    "    'standard english',\n",
    "    'inggeris standard',\n",
    "    'english'\n",
    "]\n",
    "\n",
    "malay = [\n",
    "    'bahasa melayu standard',\n",
    "    'standard malay',\n",
    "    'melayu standard',\n",
    "    'malay',\n",
    "]\n",
    "\n",
    "patterns = [\n",
    "    'teks `{text}`, terjemah ke {lang}',\n",
    "    'terjemah ke {lang}, teks `{text}`',\n",
    "    'translate to {lang}, text `{text}`',\n",
    "    'teks: {text}\\nterjemah ke {lang}',\n",
    "    'translate to {lang}\\n\\nteks: {text}'\n",
    "]\n",
    "\n",
    "patterns_json = [\n",
    "    'teks `{text}`, terjemah ke {lang}, pulangkan dalam bentuk JSON {json}',\n",
    "    'terjemah ke {lang}, bagi dalam bentuk JSON {json}, teks `{text}`',\n",
    "    'translate to {lang}, text `{text}`, return in JSON {json}',\n",
    "    'teks: {text}\\nterjemah ke {lang}, bagi dalam JSON {json}',\n",
    "    'translate to {lang}\\n\\nteks: {text}, return JSON {json}'\n",
    "]\n",
    "\n",
    "files = glob('/home/husein/ssd3/translation/processed-*.jsonl')\n",
    "translation = []\n",
    "for f in files:\n",
    "    with open(f) as fopen:\n",
    "        for l in fopen:\n",
    "            l = json.loads(l)\n",
    "            q = None\n",
    "            o = None\n",
    "            try:\n",
    "            \n",
    "                while True:\n",
    "                    c = random.randint(0, 4)\n",
    "\n",
    "                    if c == 0 and l['en']:\n",
    "                        q = random.choice(patterns).format(text = l['left'], lang = random.choice(english))\n",
    "                        o = l['en']\n",
    "                    if c == 1 and l['ms']:\n",
    "                        q = random.choice(patterns).format(text = l['left'], lang = random.choice(malay))\n",
    "                        o = l['ms']\n",
    "                    if c == 2 and l['en'] and l['ms']:\n",
    "                        lang = f'{random.choice(english)} dan {random.choice(malay)}'\n",
    "                        q = random.choice(patterns).format(text = l['left'], lang = lang)\n",
    "                        o = f\"Bahasa Melayu: {l['ms']}\\nBahasa Inggeris: {l['en']}\"\n",
    "                    if c in [3, 4] and l['en'] and l['ms']:\n",
    "                        c = random.randint(0, 3)\n",
    "                        if c == 0:\n",
    "                            schema = \"{'en', 'ms', 'original'}\"\n",
    "                            d = {\n",
    "                                'en': l['en'],\n",
    "                                'ms': l['ms'],\n",
    "                                'original': l['left']\n",
    "                            }\n",
    "                        if c == 1:\n",
    "                            schema = \"{'left', 'ms', 'en'}\"\n",
    "                            d = {\n",
    "                                'en': l['en'],\n",
    "                                'ms': l['ms'],\n",
    "                                'left': l['left']\n",
    "                            }\n",
    "                        if c == 2:\n",
    "                            schema = \"{'english', 'malay', 'original'}\"\n",
    "                            d = {\n",
    "                                'english': l['en'],\n",
    "                                'malay': l['ms'],\n",
    "                                'original': l['left']\n",
    "                            }\n",
    "                        if c == 3:\n",
    "                            schema = \"{'english', 'malay', 'text'}\"\n",
    "                            d = {\n",
    "                                'english': l['en'],\n",
    "                                'malay': l['ms'],\n",
    "                                'text': l['left']\n",
    "                            }\n",
    "                            \n",
    "                        lang = f'{random.choice(english)} dan {random.choice(malay)}'\n",
    "                        q = random.choice(patterns_json).format(text = l['left'], lang = lang, json = schema)\n",
    "                        o = json.dumps(d)\n",
    "\n",
    "                    if q and o:\n",
    "                        break\n",
    "\n",
    "                translation.append({\n",
    "                    'prompt_input': None,\n",
    "                    'input': q.strip(),\n",
    "                    'output': o.strip(),\n",
    "                })\n",
    "            \n",
    "            except Exception as e:\n",
    "                print(e)"
   ]
  },
  {
   "cell_type": "code",
   "execution_count": 4,
   "id": "d81af354",
   "metadata": {
    "scrolled": true
   },
   "outputs": [
    {
     "data": {
      "text/plain": [
       "1798326"
      ]
     },
     "execution_count": 4,
     "metadata": {},
     "output_type": "execute_result"
    }
   ],
   "source": [
    "len(translation)"
   ]
  },
  {
   "cell_type": "code",
   "execution_count": 5,
   "id": "c3e9db8c",
   "metadata": {},
   "outputs": [],
   "source": [
    "with open('prepared-synthetic-json-translation.jsonl', 'w') as fopen:\n",
    "    for t in translation:\n",
    "        fopen.write(f'{json.dumps(t)}\\n')"
   ]
  },
  {
   "cell_type": "code",
   "execution_count": 6,
   "id": "0a585ee0",
   "metadata": {},
   "outputs": [
    {
     "name": "stdout",
     "output_type": "stream",
     "text": [
      "-rw-r--r-- 1 husein husein 1.1G Feb  24 12:26 prepared-synthetic-json-translation.jsonl\r\n"
     ]
    }
   ],
   "source": [
    "!ls -lh prepared-synthetic-json-translation.jsonl"
   ]
  }
 ],
 "metadata": {
  "kernelspec": {
   "display_name": "Python 3 (ipykernel)",
   "language": "python",
   "name": "python3"
  },
  "language_info": {
   "codemirror_mode": {
    "name": "ipython",
    "version": 3
   },
   "file_extension": ".py",
   "mimetype": "text/x-python",
   "name": "python",
   "nbconvert_exporter": "python",
   "pygments_lexer": "ipython3",
   "version": "3.8.10"
  }
 },
 "nbformat": 4,
 "nbformat_minor": 5
}
