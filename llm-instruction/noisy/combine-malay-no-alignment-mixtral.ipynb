{
 "cells": [
  {
   "cell_type": "code",
   "execution_count": 1,
   "id": "4504ab68",
   "metadata": {},
   "outputs": [],
   "source": [
    "from glob import glob\n",
    "import json\n",
    "import random\n",
    "from tqdm import tqdm"
   ]
  },
  {
   "cell_type": "code",
   "execution_count": 2,
   "id": "83e6c13b",
   "metadata": {},
   "outputs": [],
   "source": [
    "fopen_l = open('combine-malay-no-alignment-mixtral.jsonl', 'w')"
   ]
  },
  {
   "cell_type": "code",
   "execution_count": 3,
   "id": "0e512372",
   "metadata": {},
   "outputs": [],
   "source": [
    "rejected = [\n",
    "    'help.openai.com',\n",
    "    'openassistant'\n",
    "]\n",
    "\n",
    "break_at = [\n",
    "    'help.openai.com',\n",
    "    'openai',\n",
    "    'cannot have personal opinions',\n",
    "    's an ai language model',\n",
    "    \"i'm sorry\",\n",
    "    'many factors',\n",
    "    'lgbt',\n",
    "    'lesbian',\n",
    "    'gender-neutral',\n",
    "    'remain neutral',\n",
    "    'without bias',\n",
    "    'and neutral',\n",
    "    'more inclusive',\n",
    "    'neutrality',\n",
    "    'non-bias',\n",
    "    'discrimination',\n",
    "    'avoid any forms of discrimination',\n",
    "    'regardless of their gender',\n",
    "    'inclusive and tolerant environment',\n",
    "    'have personal views',\n",
    "    'sexual orientation should be a top priority',\n",
    "    's an objective ai',\n",
    "    'avoid any forms of prejudice or hate',\n",
    "    'regardless of their personal',\n",
    "    'you understand this direction',\n",
    "    'tolerant environment within ai',\n",
    "    'cannot express my',\n",
    "    'requires more context',\n",
    "    'personal opinion',\n",
    "    'have updated information',\n",
    "    \"don't have personal experiences\",\n",
    "    'there is no information',\n",
    "    'tidak mempunyai akses kepada data atau maklumat',\n",
    "    '10 april 2021',\n",
    "    'ebagai model bahasa AI',\n",
    "    'model bahasa AI',\n",
    "    'mempunyai kepercayaan atau pendapat peribadi',\n",
    "    'tidak mempunyai pendapat peribadi',\n",
    "    'tidak mempunyai kepercayaan',\n",
    "    'tidak mempunyai falsafah peribadi',\n",
    "    'tidak mempunyai pengalaman peribadi',\n",
    "    'tidak mempunyai pendapat atau pengalaman peribadi',\n",
    "    'tidak mempunyai maklumat terkini',\n",
    "    'tidak mempunyai emosi peribadi',\n",
    "    'tidak mempunyai keutamaan',\n",
    "    'saya tidak mempunyai akses',\n",
    "    'tidak mempunyai pengalaman',\n",
    "    'saya tidak mempunyai keupayaan',\n",
    "    'tidak mempunyai keupayaan',\n",
    "    'tidak mempunyai hubungan',\n",
    "    'tidak mempunyai maklumat',\n",
    "    'Saya tidak mempunyai',\n",
    "    'Saya tidak pernah',\n",
    "    'saya tidak dapat memahami jawapan'\n",
    "]\n",
    "\n",
    "def accept(d, min_len = 10):\n",
    "    if 'terjemahkan teks' in d.lower():\n",
    "        return False\n",
    "\n",
    "    if 'no need to translate' in d.lower():\n",
    "        return False\n",
    "\n",
    "    if 'can be translated' in d.lower():\n",
    "        return False\n",
    "\n",
    "    if 'cannot translate' in d.lower():\n",
    "        return False\n",
    "\n",
    "    if 'should be translated to' in d.lower():\n",
    "        return False\n",
    "\n",
    "    if 'cannot be translated' in d.lower():\n",
    "        return False\n",
    "\n",
    "    if 'standard malay' in d.lower():\n",
    "        return False\n",
    "\n",
    "    if 'would not be translated' in d.lower():\n",
    "        return False\n",
    "\n",
    "    if 'as an AI language model' in d:\n",
    "        return False\n",
    "\n",
    "    if 'should be translated as' in d.lower():\n",
    "        return False\n",
    "\n",
    "    if 'Bahasa Malaysia Standard' in d:\n",
    "        return False\n",
    "    \n",
    "    if 'Saya adalah model AI' in d:\n",
    "        return False\n",
    "    \n",
    "    if 'saya model AI' in d:\n",
    "        return False\n",
    "    \n",
    "    if 'Saya model AI' in d:\n",
    "        return False\n",
    "    \n",
    "    if 'sebagai model AI' in d:\n",
    "        return False\n",
    "    \n",
    "    if 'Sebagai model AI' in d:\n",
    "        return False\n",
    "    \n",
    "    if 'model bahasa AI' in d:\n",
    "        return False\n",
    "    \n",
    "    if 'model AI yang dibangunkan' in d:\n",
    "        return False\n",
    "    \n",
    "    if d == '<s>':\n",
    "        return False\n",
    "    \n",
    "    if 'tidak dapat memberikan maklumat' in d:\n",
    "        return False\n",
    "    \n",
    "    if 'Sebagai model bahasa' in d:\n",
    "        return False\n",
    "    \n",
    "    if any([r in d.lower() for r in rejected]):\n",
    "        return False\n",
    "    \n",
    "    if any([r in d.lower() for r in break_at]):\n",
    "        return False\n",
    "    \n",
    "    if len(d.split()) < min_len:\n",
    "        return False\n",
    "    \n",
    "    return True"
   ]
  },
  {
   "cell_type": "code",
   "execution_count": 4,
   "id": "4a9371ff",
   "metadata": {},
   "outputs": [],
   "source": [
    "options = ['A.', 'B.', 'C.', 'D.']\n",
    "options2 = ['A', 'B', 'C', 'D']\n",
    "def rejected_output(q, a):\n",
    "    q_, a_ = [], []\n",
    "    for o in options:\n",
    "        q_.append(o in q)\n",
    "    for o in options2:\n",
    "        a_.append(o in a)\n",
    "    return sum(a_) > 1 or sum(q_) < 4"
   ]
  },
  {
   "cell_type": "code",
   "execution_count": 6,
   "id": "521e5887",
   "metadata": {},
   "outputs": [
    {
     "name": "stdout",
     "output_type": "stream",
     "text": [
      "prepared-chatgpt4-malaysian-general-qa.jsonl\n",
      "prepared-chatgpt4-noisy-translation.jsonl\n"
     ]
    }
   ],
   "source": [
    "files = [\n",
    "    'prepared-chatgpt4-malaysian-general-qa.jsonl',\n",
    "    'prepared-chatgpt4-noisy-translation.jsonl',\n",
    "]\n",
    "\n",
    "for f in files:\n",
    "    print(f)\n",
    "    with open(f) as fopen:\n",
    "        for l in fopen:\n",
    "            try:\n",
    "                data = json.loads(l)\n",
    "                if not accept(data['input']):\n",
    "                    continue\n",
    "                if not accept(data['output'], min_len = 1):\n",
    "                    continue\n",
    "                fopen_l.write(f'{json.dumps(data)}\\n')\n",
    "                fopen_l.flush()\n",
    "            except Exception as e:\n",
    "                pass"
   ]
  },
  {
   "cell_type": "code",
   "execution_count": 9,
   "id": "5fb56b4d",
   "metadata": {},
   "outputs": [
    {
     "name": "stdout",
     "output_type": "stream",
     "text": [
      "prepared-kertas-1.jsonl\n",
      "'NoneType' object has no attribute 'strip'\n",
      "'NoneType' object has no attribute 'strip'\n",
      "'NoneType' object has no attribute 'strip'\n",
      "'NoneType' object has no attribute 'strip'\n",
      "'NoneType' object has no attribute 'strip'\n",
      "prepared-synthetic-commonsense.jsonl\n"
     ]
    }
   ],
   "source": [
    "files = [\n",
    "    'prepared-kertas-1.jsonl',\n",
    "    'prepared-synthetic-commonsense.jsonl',\n",
    "]\n",
    "\n",
    "for f in files:\n",
    "    print(f)\n",
    "    with open(f) as fopen:\n",
    "        for l in fopen:\n",
    "            try:\n",
    "                data = json.loads(l)\n",
    "                if not accept(data['input']):\n",
    "                    continue\n",
    "                if not len(data['output'].strip()):\n",
    "                    continue\n",
    "                if rejected_output(data['input'], data['output']):\n",
    "                    continue\n",
    "                fopen_l.write(f'{json.dumps(data)}\\n')\n",
    "                fopen_l.flush()\n",
    "            except Exception as e:\n",
    "                print(e)\n",
    "                pass"
   ]
  },
  {
   "cell_type": "code",
   "execution_count": 10,
   "id": "fe19a9da",
   "metadata": {},
   "outputs": [
    {
     "name": "stdout",
     "output_type": "stream",
     "text": [
      "184582 combine-malay-no-alignment-mixtral.jsonl\r\n"
     ]
    }
   ],
   "source": [
    "!wc -l combine-malay-no-alignment-mixtral.jsonl"
   ]
  },
  {
   "cell_type": "code",
   "execution_count": 11,
   "id": "1a5dd897",
   "metadata": {},
   "outputs": [
    {
     "name": "stdout",
     "output_type": "stream",
     "text": [
      "prepared-chatgpt4-code-instruct.jsonl\n"
     ]
    }
   ],
   "source": [
    "files = [\n",
    "    'prepared-chatgpt4-code-instruct.jsonl',\n",
    "]\n",
    "\n",
    "for f in files:\n",
    "    print(f)\n",
    "    with open(f) as fopen:\n",
    "        for l in fopen:\n",
    "            try:\n",
    "                data = json.loads(l)\n",
    "                if not accept(data['input']):\n",
    "                    continue\n",
    "                if not accept(data['output']):\n",
    "                    continue\n",
    "                fopen_l.write(f'{json.dumps(data)}\\n')\n",
    "                fopen_l.flush()\n",
    "            except:\n",
    "                pass"
   ]
  },
  {
   "cell_type": "code",
   "execution_count": 12,
   "id": "62ee9d1a",
   "metadata": {},
   "outputs": [],
   "source": [
    "with open('prepared-mixtral-malaysian-multiturn-only.jsonl') as fopen:\n",
    "    for l in fopen:\n",
    "\n",
    "        if 'tolong terjemah' in l.lower():\n",
    "            continue\n",
    "\n",
    "        try:\n",
    "            data = json.loads(l)\n",
    "            if not accept(data['input']):\n",
    "                continue\n",
    "            fopen_l.write(f'{json.dumps(data)}\\n')\n",
    "            fopen_l.flush()\n",
    "        except:\n",
    "            pass"
   ]
  },
  {
   "cell_type": "code",
   "execution_count": 13,
   "id": "ac29c629",
   "metadata": {},
   "outputs": [
    {
     "name": "stdout",
     "output_type": "stream",
     "text": [
      "399006 combine-malay-no-alignment-mixtral.jsonl\r\n"
     ]
    }
   ],
   "source": [
    "!wc -l combine-malay-no-alignment-mixtral.jsonl"
   ]
  },
  {
   "cell_type": "code",
   "execution_count": 14,
   "id": "4d09fb70",
   "metadata": {},
   "outputs": [],
   "source": [
    "!shuf combine-malay-no-alignment-mixtral.jsonl > shuf-combine-malay-no-alignment-mixtral.jsonl"
   ]
  },
  {
   "cell_type": "code",
   "execution_count": 15,
   "id": "56333e5a",
   "metadata": {},
   "outputs": [],
   "source": [
    "def generate_and_tokenize_prompt(row):\n",
    "    texts = ['<s>']\n",
    "\n",
    "    if 'function_call' in row:\n",
    "        t = row['function_call']\n",
    "        texts.append(f'\\n[FUNCTIONCALL]\\n{t}\\n')\n",
    "\n",
    "    if '<bot>:' in row['input'] and row['output'] is None:\n",
    "        inputs, outputs = [], []\n",
    "        splitted = row['input'].split('<bot>:')\n",
    "        for i in range(len(splitted) - 1):\n",
    "            if i == 0:\n",
    "                human = splitted[i].replace('<manusia>:', '')\n",
    "            else:\n",
    "                try:\n",
    "                    human = splitted[i].split('<manusia>:')[1]\n",
    "                except:\n",
    "                    continue\n",
    "            bot = splitted[i + 1].split('<manusia>:')[0]\n",
    "            inputs.append(human.strip())\n",
    "            outputs.append(bot.strip())\n",
    "    else:\n",
    "        inputs = [row['input']]\n",
    "        outputs = [row['output']]\n",
    "\n",
    "    for u, a in zip(inputs, outputs):\n",
    "        if not len(u.strip()) or not len(a.strip()):\n",
    "            print(u, a)\n",
    "            return\n",
    "        texts.append(f'[INST] {u.strip()} [/INST] {a.strip()}</s> ')\n",
    "\n",
    "    prompt = ''.join(texts)\n",
    "    return {'text': prompt}"
   ]
  },
  {
   "cell_type": "code",
   "execution_count": 16,
   "id": "b7d7228b",
   "metadata": {
    "scrolled": true
   },
   "outputs": [
    {
     "name": "stderr",
     "output_type": "stream",
     "text": [
      "399006it [00:05, 66669.33it/s]\n"
     ]
    }
   ],
   "source": [
    "from tqdm import tqdm\n",
    "\n",
    "data = []\n",
    "with open('shuf-combine-malay-no-alignment-mixtral.jsonl') as fopen:\n",
    "    for l in tqdm(fopen):\n",
    "        l = json.loads(l)\n",
    "        if 'function_call' in l and not isinstance(l['function_call'], str):\n",
    "            print(l['function_call'])\n",
    "        if generate_and_tokenize_prompt(l) is not None:\n",
    "            data.append(l)"
   ]
  },
  {
   "cell_type": "code",
   "execution_count": 17,
   "id": "6c0ef662",
   "metadata": {},
   "outputs": [
    {
     "data": {
      "text/plain": [
       "399006"
      ]
     },
     "execution_count": 17,
     "metadata": {},
     "output_type": "execute_result"
    }
   ],
   "source": [
    "len(data)"
   ]
  },
  {
   "cell_type": "code",
   "execution_count": 18,
   "id": "f411f5f1",
   "metadata": {},
   "outputs": [],
   "source": [
    "with open('shuf-combine-malay-no-alignment-mixtral.jsonl', 'w') as fopen:\n",
    "    for d in data:\n",
    "        fopen.write(f'{json.dumps(d)}\\n')"
   ]
  },
  {
   "cell_type": "code",
   "execution_count": 19,
   "id": "5e520e00",
   "metadata": {},
   "outputs": [
    {
     "name": "stdout",
     "output_type": "stream",
     "text": [
      "399006 combine-malay-no-alignment-mixtral.jsonl\r\n"
     ]
    }
   ],
   "source": [
    "!wc -l combine-malay-no-alignment-mixtral.jsonl"
   ]
  },
  {
   "cell_type": "code",
   "execution_count": 20,
   "id": "10f56ef5",
   "metadata": {},
   "outputs": [
    {
     "name": "stderr",
     "output_type": "stream",
     "text": [
      "399006it [00:05, 71795.09it/s]\n"
     ]
    }
   ],
   "source": [
    "with open('shuf-combine-malay-no-alignment-mixtral.jsonl') as fopen:\n",
    "    for l in tqdm(fopen):\n",
    "        l = json.loads(l)\n",
    "        if 'function_call' in l and not isinstance(l['function_call'], str):\n",
    "            print(l['function_call'])\n",
    "        if generate_and_tokenize_prompt(l) is None:\n",
    "            break"
   ]
  },
  {
   "cell_type": "code",
   "execution_count": 21,
   "id": "1162291b",
   "metadata": {},
   "outputs": [
    {
     "name": "stderr",
     "output_type": "stream",
     "text": [
      "399006it [00:03, 128217.67it/s]\n"
     ]
    }
   ],
   "source": [
    "with open('shuf-combine-malay-no-alignment-mixtral.jsonl') as fopen:\n",
    "    for l in tqdm(fopen):\n",
    "        l = json.loads(l)\n",
    "        if 'function_call' in l:\n",
    "            break"
   ]
  },
  {
   "cell_type": "code",
   "execution_count": 22,
   "id": "2ec02091",
   "metadata": {},
   "outputs": [
    {
     "name": "stdout",
     "output_type": "stream",
     "text": [
      "{\"prompt_input\": null, \"input\": \"<manusia>: Mengapa Malaysia masih bergantung banyak pada arang batu sebagai sumber tenaga, walaupun ia adalah salah satu bentuk tenaga yang paling mencemarkan dan berbahaya untuk alam sekitar?\\n<bot>: Malaysia, seperti kebanyakan negara lain, bergantung pada arang batu sebagai sumber tenaga kerana ketersediaan dan kos yang rendah. Batu Bara adalah bahan api yang agak murah, dan Malaysia mempunyai rizab arang batu domestik, yang boleh mengurangkan pergantungan negara kepada bahan api fosil yang diimport. Menurut Agensi Tenaga Antarabangsa, arang batu membekalkan sekitar 44% daripada jumlah penjanaan elektrik Malaysia pada 2019.\\n\\nWalau bagaimanapun, arang batu sememangnya salah satu bentuk tenaga yang paling mencemari dan berbahaya untuk alam sekitar. Loji kuasa arang batu mengeluarkan sejumlah besar gas rumah hijau, termasuk karbon dioksida, sulfur dioksida, dan nitrogen oksida, yang menyumbang kepada perubahan iklim dan pencemaran udara. Pembakaran arang batu juga membebaskan bahan zarah, merkuri, dan bahan pencemar toksik lain, yang boleh memberi kesan berbahaya kepada kesihatan manusia.\\n\\nWalaupun kesan negatif ini, Malaysia lambat beralih daripada arang batu disebabkan beberapa faktor. Salah satu sebab utama ialah pergantungan berterusan negara kepada arang batu untuk penjanaan kuasa beban asas, kerana loji kuasa arang batu boleh menyediakan sumber elektrik yang stabil dan konsisten. Selain itu, kos teknologi tenaga boleh diperbaharui, seperti solar dan angin, secara sejarah lebih tinggi daripada arang batu, menjadikannya mencabar untuk tenaga boleh diperbaharui bersaing berdasarkan kos.\\n\\nWalau bagaimanapun, arus mungkin berubah apabila kos tenaga boleh diperbaharui terus menurun. Dalam beberapa tahun kebelakangan ini, Malaysia telah menetapkan sasaran bercita-cita tinggi untuk pembangunan tenaga boleh diperbaharui, dengan matlamat menjana 20% daripada tenaga elektrik negara daripada sumber boleh diperbaharui menjelang 2025. Kerajaan Malaysia juga telah melaksanakan dasar untuk menggalakkan kecekapan tenaga dan mengurangkan pelepasan gas rumah hijau, termasuk cukai karbon dan tarif suapan tenaga boleh diperbaharui.\\n\\nWalaupun arang batu mungkin akan terus memainkan peranan dalam campuran tenaga Malaysia dalam jangka masa terdekat, negara sedang membuat kemajuan ke arah sistem tenaga yang lebih mampan dan pelbagai. Dengan menerima tenaga boleh diperbaharui dan mengurangkan pergantungannya pada arang batu, Malaysia boleh membantu mengurangkan kesan negatif alam sekitar dan kesihatan yang berkaitan dengan pembakaran arang batu dan menyumbang kepada masa depan yang lebih mampan.\\n<manusia>: Memandangkan kesan alam sekitar dan kesihatan arang batu, apakah langkah khusus yang diambil oleh kerajaan Malaysia untuk mempercepatkan peralihan kepada tenaga boleh diperbaharui dan mengurangkan pergantungan negara kepada arang batu?\\n<bot>: Kerajaan Malaysia telah mengambil beberapa langkah untuk mempercepatkan peralihan kepada tenaga boleh diperbaharui dan mengurangkan pergantungan negara kepada arang batu. Berikut adalah beberapa contoh khusus:\\n\\n1. Mekanisme Tarif Feed-in (FiT): Kerajaan Malaysia memperkenalkan mekanisme FiT pada 2011 untuk menggalakkan pembangunan projek tenaga boleh diperbaharui. Mekanisme FiT menyediakan harga tetap untuk pengeluar tenaga boleh diperbaharui untuk menjual elektrik mereka kepada grid nasional dalam tempoh yang ditetapkan. Mekanisme ini telah membantu menarik pelaburan dalam projek tenaga boleh diperbaharui, terutamanya dalam solar dan biojisim.\\n2. Pelan Hala Tuju Peralihan Tenaga Boleh Diperbaharui (RETR): Kerajaan Malaysia melancarkan RETR pada 2020, yang menggariskan rancangan untuk meningkatkan bahagian tenaga boleh diperbaharui dalam campuran tenaga negara kepada 31% menjelang 2025 dan 40% menjelang 2035. RETR termasuk langkah untuk membangunkan teknologi tenaga boleh diperbaharui baharu, meningkatkan kecekapan tenaga dan mengurangkan pelepasan gas rumah hijau.\\n3. Skim Pembiayaan Teknologi Hijau (GTFS): GTFS ialah mekanisme pembiayaan yang diperkenalkan oleh kerajaan Malaysia untuk menyediakan pembiayaan untuk projek teknologi hijau, termasuk tenaga boleh diperbaharui. Skim ini menawarkan pembiayaan sehingga 70% daripada kos projek pada kadar faedah keutamaan.\\n4. Harga karbon: Kerajaan Malaysia memperkenalkan cukai karbon pada 2019 untuk menggalakkan perniagaan mengurangkan pelepasan gas rumah hijau mereka. Cukai ditetapkan pada kadar RM20 (kira-kira USD 4.80) satu tan pelepasan setara CO2, dan terpakai kepada sektor yang bertanggungjawab untuk lebih daripada 75% daripada pelepasan gas rumah hijau Malaysia.\\n5. Akta Kecekapan dan Pemuliharaan Tenaga (EECA): EECA telah diperkenalkan pada 2009 untuk menggalakkan kecekapan dan pemuliharaan tenaga di Malaysia. Akta ini memerlukan industri intensif tenaga untuk melaksanakan sistem pengurusan tenaga dan menetapkan piawaian kecekapan tenaga mandatori untuk peralatan dan peralatan.\\n6. Dasar Elektrik Kebangsaan (NEP): DEB telah diperkenalkan pada 2017 untuk membimbing pembangunan sektor elektrik di Malaysia. Dasar ini termasuk langkah untuk menggalakkan tenaga boleh diperbaharui, meningkatkan kecekapan tenaga dan mengurangkan pelepasan gas rumah hijau.\\n\\nWalaupun langkah-langkah ini merupakan langkah positif ke arah mempercepatkan peralihan kepada tenaga boleh diperbaharui dan mengurangkan pergantungan negara kepada arang batu, lebih banyak boleh dilakukan. Kerajaan Malaysia boleh terus memberi insentif kepada pembangunan tenaga boleh diperbaharui, meningkatkan piawaian kecekapan tenaga dan menggalakkan inovasi teknologi hijau untuk mempercepatkan lagi peralihan. Selain itu, kerajaan boleh mempertimbangkan untuk menghapuskan loji janakuasa arang batu dan menggantikannya dengan sumber tenaga yang lebih bersih, seperti boleh diperbaharui dan gas asli, untuk mengurangkan kesan negatif alam sekitar dan kesihatan yang berkaitan dengan arang batu.\\n<manusia>: Memandangkan pelbagai langkah yang diambil oleh kerajaan Malaysia untuk menggalakkan tenaga boleh diperbaharui, mengapa kadar peralihan menjadi perlahan dan apakah cabaran utama yang menghalang peralihan yang lebih pantas daripada arang batu?\\n<bot>: Walaupun kerajaan Malaysia telah mengambil beberapa langkah untuk mempromosikan tenaga boleh diperbaharui dan mengurangkan pergantungan negara kepada arang batu, kadar peralihan telah perlahan disebabkan oleh beberapa cabaran. Berikut adalah beberapa cabaran utama:\\n\\n1. Kos pendahuluan tenaga boleh diperbaharui yang tinggi: Walaupun kos teknologi tenaga boleh diperbaharui telah menurun dengan ketara dalam beberapa tahun kebelakangan ini, kos pendahuluan teknologi ini masih boleh tinggi. Ini boleh menjadi penghalang kepada kemasukan bagi sesetengah pemaju dan pelabur, terutamanya untuk projek berskala kecil.\\n2. Ketersambungan grid dan infrastruktur terhad: Grid elektrik Malaysia tidak dilengkapi sepenuhnya untuk mengendalikan penyepaduan projek tenaga boleh diperbaharui berskala besar, terutamanya di kawasan terpencil. Ini boleh menjadi cabaran bagi pemaju yang ingin melabur dalam projek tenaga boleh diperbaharui, kerana mereka mungkin menghadapi kos tambahan untuk menyambung ke grid.\\n3. Halangan kawal selia: Walaupun kerajaan berusaha untuk mempromosikan tenaga boleh diperbaharui, masih terdapat halangan kawal selia yang boleh menghalang pembangunan projek tenaga boleh diperbaharui. Sebagai contoh, proses pembidaan untuk projek tenaga boleh diperbaharui boleh menjadi rumit dan memakan masa, dan terdapat kekurangan kejelasan mengenai mekanisme penetapan harga untuk tenaga boleh diperbaharui.\\n4. Kesedaran dan penglibatan awam terhad: Kesedaran dan penglibatan awam mengenai isu tenaga boleh diperbaharui dan perubahan iklim adalah terhad di Malaysia. Ini boleh menjadikannya mencabar untuk membina sokongan orang ramai untuk projek dan dasar tenaga boleh diperbaharui.\\n5. Kebergantungan kepada arang batu untuk kuasa beban asas: Batu Bara secara tradisinya telah digunakan sebagai sumber kuasa beban asas di Malaysia, menyediakan sumber elektrik yang stabil dan konsisten. Peralihan daripada arang batu memerlukan pelaburan yang ketara dalam infrastruktur dan teknologi baharu untuk memastikan grid elektrik kekal stabil dan boleh dipercayai.\\n6. Penentangan daripada kepentingan yang ada: Terdapat kepentingan dalam industri arang batu yang mungkin menentang peralihan kepada tenaga boleh diperbaharui. Ini boleh termasuk pengeluar arang batu, pengendali loji janakuasa dan pihak berkepentingan lain yang mendapat manfaat dari segi kewangan daripada penggunaan arang batu yang berterusan.\\n\\nUntuk menangani cabaran ini dan mempercepatkan peralihan kepada tenaga boleh diperbaharui, kerajaan Malaysia boleh mengambil beberapa langkah. Ini termasuk terus memberi insentif kepada pembangunan tenaga boleh diperbaharui, meningkatkan sambungan grid dan infrastruktur, memperkemas proses kawal selia, meningkatkan kesedaran dan penglibatan orang ramai mengenai isu tenaga boleh diperbaharui dan perubahan iklim, dan menggalakkan penggunaan sumber tenaga yang lebih bersih untuk kuasa beban asas. Selain itu, kerajaan boleh mempertimbangkan untuk menghapuskan loji janakuasa arang batu dan menggantikannya dengan sumber tenaga yang lebih bersih untuk mengurangkan kesan negatif alam sekitar dan kesihatan yang berkaitan dengan arang batu.\", \"output\": null}\r\n",
      "{\"prompt_input\": null, \"input\": \"1. Maria telah membaca buku itu berkali-kali. Matanya letih dari menatap teks yang kecil. Namun, itu masih lebih baik daripada membaca di mana?\\n   A. perpustakaan\\n   B. taman\\n   C. dapur\\n   D. bilik belajar\\n   E. gelap\", \"output\": \"E\"}\r\n",
      "{\"prompt_input\": null, \"input\": \"<manusia>: Mengapa mahkamah Malaysia mendapati Najib Razak bersalah atas tujuh pertuduhan berkaitan skandal 1MDB, dan apakah hukuman yang dikenakan ke atasnya?\\n<bot>: Bekas Perdana Menteri Malaysia Najib Razak didapati bersalah atas tujuh pertuduhan berkaitan skandal 1MDB (1Malaysia Development Berhad) oleh Mahkamah Tinggi Kuala Lumpur pada 28 Julai 2020. Tuduhan itu termasuk pecah amanah jenayah, pengubahan wang haram, dan salah guna kuasa, yang kesemuanya berkaitan dengan pemindahan kira-kira RM42 juta (USD 10 juta) daripada SRC International, bekas anak syarikat 1MDB, ke dalam akaun bank peribadi Najib.\\n\\nTujuh pertuduhan yang Najib didapati bersalah adalah seperti berikut:\\n\\n1. Satu pertuduhan salah guna kuasa di bawah Akta Suruhanjaya Pencegahan Rasuah Malaysia, yang mana dia menerima hukuman penjara 12 tahun dan denda RM210 juta (USD 50 juta).\\n2. Tiga pertuduhan pecah amanah jenayah di bawah Kanun Keseksaan, yang mana dia menerima hukuman penjara 10 tahun untuk setiap pertuduhan, berjalan serentak.\\n3. Tiga pertuduhan pengubahan wang haram di bawah Akta Pencegahan Pengubahan Wang Haram, Pencegahan Pembiayaan Keganasan dan Hasil Daripada Aktiviti Haram, yang mana dia menerima hukuman penjara 10 tahun untuk setiap pertuduhan, berjalan serentak.\\n\\nNajib telah mengekalkan ketidakbersalahannya sepanjang perbicaraan dan telah menunjukkan bahawa dia akan merayu keputusan itu. Hukuman itu masih belum dikuatkuasakan, kerana Najib kini diikat jamin sementara menunggu rayuannya.\\n\\nPerlu diingat bahawa skandal 1MDB melibatkan penyelewengan berbilion dolar daripada dana kekayaan negara Malaysia, dan Najib hanyalah salah seorang daripada beberapa individu yang telah didakwa berhubung kes itu. Siasatan dan prosiding mahkamah seterusnya sedang berjalan, dan masih belum dapat dilihat bagaimana ia akan berlaku.\\n<manusia>: Memandangkan Najib Razak telah mengekalkan ketidakbersalahannya dan bercadang untuk merayu keputusan itu, bolehkah anda memberikan maklumat lanjut mengenai proses rayuan dan apakah faktor yang mungkin mempengaruhi keputusan muktamad kesnya?\\n<bot>: Ya, sudah tentu. Di Malaysia, Najib Razak mempunyai hak untuk merayu sabitan dan hukumannya kepada Mahkamah Rayuan, dan kemudian akhirnya kepada Mahkamah Persekutuan, yang merupakan mahkamah tertinggi di negara ini.\\n\\nProses rayuan biasanya bermula dengan memfailkan notis rayuan dalam tempoh 14 hari selepas keputusan. Notis rayuan menggariskan alasan untuk rayuan, yang boleh termasuk kesilapan undang-undang, kesilapan fakta, atau penyelewengan prosedur. Setelah notis rayuan difailkan, mahkamah rayuan akan menetapkan tarikh untuk perbicaraan rayuan.\\n\\nSemasa perbicaraan rayuan, pasukan undang-undang Najib akan mengemukakan hujah dan bukti untuk menyokong kesnya, dan pihak pendakwaan akan bertindak balas. Mahkamah rayuan kemudiannya akan mempertimbangkan hujah dan bukti dan mengeluarkan keputusan. Keputusan itu boleh mengekalkan sabitan dan hukuman, membatalkan sabitan dan hukuman, atau memerintahkan perbicaraan semula.\\n\\nTerdapat beberapa faktor yang boleh mempengaruhi keputusan akhir kes Najib, termasuk:\\n\\n1. Hujah undang-undang: Kejayaan rayuan Najib boleh bergantung pada hujah undang-undang yang dikemukakan oleh pasukan undang-undangnya. Mereka mungkin berhujah bahawa hakim perbicaraan membuat kesilapan undang-undang atau fakta, atau bahawa bukti yang dikemukakan semasa perbicaraan tidak mencukupi untuk menyokong sabitan.\\n2. Bukti: Mahkamah rayuan akan menyemak bukti yang dikemukakan semasa perbicaraan dan mempertimbangkan sama ada ia mencukupi untuk menyokong sabitan. Jika mahkamah rayuan menentukan bahawa terdapat bukti yang tidak mencukupi, sabitan boleh dibatalkan.\\n3. Isu prosedur: Mahkamah rayuan juga boleh mempertimbangkan sama ada terdapat sebarang penyelewengan prosedur semasa perbicaraan. Sebagai contoh, jika pasukan undang-undang Najib percaya bahawa hakim perbicaraan membuat kesilapan dalam pengakuan atau pengecualian bukti, mereka mungkin membangkitkan ini sebagai asas untuk rayuan.\\n4. Pendapat awam: Walaupun pendapat umum bukanlah faktor rasmi dalam proses rayuan, ia boleh mempengaruhi keputusan kes. Jika terdapat tekanan awam yang ketara untuk menegakkan atau membatalkan sabitan, ini boleh memberi tekanan kepada mahkamah rayuan untuk mencapai keputusan tertentu.\\n\\nAdalah penting untuk ambil perhatian bahawa proses rayuan boleh menjadi panjang, dan ia mungkin mengambil masa beberapa tahun untuk keputusan muktamad dicapai. Sementara itu, Najib Razak kekal ikat jamin sementara menunggu keputusan rayuannya.\\n<manusia>: Memandangkan proses rayuan boleh mengambil masa beberapa tahun, apakah yang berlaku kepada kerjaya politik Najib Razak dan kedudukannya dalam parti politiknya pada masa ini, dan adakah sekatan dikenakan ke atasnya semasa dia keluar dengan jaminan?\\n<bot>: Semasa proses rayuan, kerjaya dan kedudukan politik Najib Razak dalam parti politiknya boleh terjejas dalam beberapa cara.\\n\\nPertama, akibat sabitan dan hukumannya, Najib telah dibuang daripada gabungan pemerintah, Barisan Nasional (BN), pada Februari 2020, sebelum keputusan dalam perbicaraannya. Bagaimanapun, beliau kekal sebagai ahli Pertubuhan Kebangsaan Melayu Bersatu (UMNO), yang merupakan parti terbesar dalam BN. UMNO masih belum mengambil sebarang tindakan rasmi terhadap Najib, tetapi sabitan dan isu undang-undang yang berterusan boleh menjejaskan kedudukannya dalam parti.\\n\\nKedua, sebagai penjenayah yang disabitkan kesalahan, Najib mungkin menghadapi sekatan ke atas keupayaannya untuk mengambil bahagian dalam politik. Di bawah undang-undang Malaysia, individu yang telah disabitkan dengan jenayah tertentu, termasuk rasuah dan pengubahan wang haram, hilang kelayakan untuk bertanding jawatan awam untuk tempoh masa selepas mereka dibebaskan dari penjara. Walau bagaimanapun, tempoh kelayakan yang spesifik bergantung pada sifat jenayah dan hukuman yang dikenakan. Jika sabitan dan hukuman Najib dikekalkan atas rayuan, dia mungkin hilang kelayakan untuk bertanding jawatan awam untuk tempoh masa.\\n\\nWalaupun Najib keluar dengan jaminan sementara menunggu keputusan rayuannya, terdapat beberapa sekatan dikenakan ke atasnya. Sekatan ini biasanya termasuk syarat seperti melaporkan kepada polis atau pegawai yang ditetapkan pada selang masa biasa, menyerahkan pasportnya untuk mengelakkan perjalanan, dan mengelak daripada membincangkan kes dengan saksi atau cuba mengganggu proses undang-undang. Jika Najib gagal mematuhi mana-mana syarat ini, jaminannya boleh dibatalkan dan dia boleh dihantar ke penjara sementara menunggu keputusan rayuan.\\n\\nPerlu diingat bahawa Najib Razak kekal aktif dalam politik sejak sabitan dan hukumannya, dan terus membuat penampilan dan kenyataan awam. Walau bagaimanapun, isu undang-undang dan proses rayuannya yang berterusan boleh menjejaskan keupayaannya untuk mengambil bahagian dalam politik pada masa hadapan.\", \"output\": null}\r\n"
     ]
    }
   ],
   "source": [
    "!head -n 3 shuf-combine-malay-no-alignment-mixtral.jsonl"
   ]
  },
  {
   "cell_type": "code",
   "execution_count": 23,
   "id": "8a8e0a75",
   "metadata": {},
   "outputs": [
    {
     "name": "stderr",
     "output_type": "stream",
     "text": [
      "/home/husein/.local/lib/python3.8/site-packages/requests/__init__.py:102: RequestsDependencyWarning: urllib3 (1.26.15) or chardet (5.2.0)/charset_normalizer (2.0.7) doesn't match a supported version!\n",
      "  warnings.warn(\"urllib3 ({}) or chardet ({})/charset_normalizer ({}) doesn't match a supported \"\n"
     ]
    },
    {
     "data": {
      "application/vnd.jupyter.widget-view+json": {
       "model_id": "9faa8d11db734fe6bd3c1f99c1c8a795",
       "version_major": 2,
       "version_minor": 0
      },
      "text/plain": [
       "shuf-combine-malay-no-alignment-mixtral.jsonl:   0%|          | 0.00/1.83G [00:00<?, ?B/s]"
      ]
     },
     "metadata": {},
     "output_type": "display_data"
    },
    {
     "data": {
      "text/plain": [
       "CommitInfo(commit_url='https://huggingface.co/datasets/mesolitica/instructions-dataset/commit/f4bb74a5e072c560d8ce4ccd6dfa9c697a033aa7', commit_message='Upload shuf-combine-malay-no-alignment-mixtral.jsonl with huggingface_hub', commit_description='', oid='f4bb74a5e072c560d8ce4ccd6dfa9c697a033aa7', pr_url=None, pr_revision=None, pr_num=None)"
      ]
     },
     "execution_count": 23,
     "metadata": {},
     "output_type": "execute_result"
    }
   ],
   "source": [
    "from huggingface_hub import HfApi\n",
    "api = HfApi()\n",
    "api.upload_file(\n",
    "    path_or_fileobj='shuf-combine-malay-no-alignment-mixtral.jsonl',\n",
    "    path_in_repo='shuf-combine-malay-no-alignment-mixtral.jsonl',\n",
    "    repo_id='mesolitica/instructions-dataset',\n",
    "    repo_type='dataset',\n",
    ")"
   ]
  },
  {
   "cell_type": "code",
   "execution_count": null,
   "id": "5de783d8",
   "metadata": {},
   "outputs": [],
   "source": []
  }
 ],
 "metadata": {
  "kernelspec": {
   "display_name": "Python 3 (ipykernel)",
   "language": "python",
   "name": "python3"
  },
  "language_info": {
   "codemirror_mode": {
    "name": "ipython",
    "version": 3
   },
   "file_extension": ".py",
   "mimetype": "text/x-python",
   "name": "python",
   "nbconvert_exporter": "python",
   "pygments_lexer": "ipython3",
   "version": "3.8.10"
  }
 },
 "nbformat": 4,
 "nbformat_minor": 5
}
