{
 "cells": [
  {
   "cell_type": "code",
   "execution_count": 4,
   "id": "1dc6be0f",
   "metadata": {},
   "outputs": [
    {
     "data": {
      "text/plain": [
       "4"
      ]
     },
     "execution_count": 4,
     "metadata": {},
     "output_type": "execute_result"
    }
   ],
   "source": [
    "from collections import defaultdict\n",
    "import json\n",
    "import random\n",
    "\n",
    "roleplay = defaultdict(list)\n",
    "with open('/home/husein/ssd3/google-translate-malay-news/generated-extra-conversations.jsonl') as fopen:\n",
    "    for l in fopen:\n",
    "        l = json.loads(l)\n",
    "        \n",
    "        system = f\"\"\"\n",
    "Sebagai ejen kreatif, anda memainkan peranan sebagai {l['profile']}\n",
    "Watak ini sedang membincangkan tentang topik {l['topic']}\n",
    "\n",
    "\n",
    "\"\"\".strip()\n",
    "        \n",
    "        try:\n",
    "            conversation = []\n",
    "            for i in range(len(l['conversation'])):\n",
    "                if i % 2 == 0:\n",
    "                    role = 'user'\n",
    "                else:\n",
    "                    role = 'assistant'\n",
    "                conversation.append({'role': role, 'content': l['conversation'][i]['message']})\n",
    "\n",
    "            if len(conversation) % 2 != 0:\n",
    "                conversation = conversation[:-1]\n",
    "\n",
    "            conversation[0]['content'] = system + '\\n\\n' + conversation[0]['content']\n",
    "            roleplay[l['profile']].append(conversation)\n",
    "        except:\n",
    "            continue\n",
    "            \n",
    "len(roleplay)"
   ]
  },
  {
   "cell_type": "code",
   "execution_count": 7,
   "id": "448735da",
   "metadata": {},
   "outputs": [
    {
     "data": {
      "text/plain": [
       "10496"
      ]
     },
     "execution_count": 7,
     "metadata": {},
     "output_type": "execute_result"
    }
   ],
   "source": [
    "data = []\n",
    "for k in roleplay.keys():\n",
    "    data.extend(random.sample(roleplay[k], min(100000, len(roleplay[k]))))\n",
    "len(data)"
   ]
  },
  {
   "cell_type": "code",
   "execution_count": 8,
   "id": "ba38f1de",
   "metadata": {},
   "outputs": [],
   "source": [
    "roles = {\n",
    "    'user': '<manusia>',\n",
    "    'assistant': '<bot>'\n",
    "}\n",
    "\n",
    "instructions = []\n",
    "\n",
    "for d in data:\n",
    "    inputs = []\n",
    "    for c in d:\n",
    "        role = roles[c['role']]\n",
    "        current_text = c['content']\n",
    "        s = f\"{role}: {current_text}\"\n",
    "        inputs.append(s)\n",
    "    d = '\\n'.join(inputs).strip()\n",
    "    if not len(d):\n",
    "        continue\n",
    "    instructions.append({\n",
    "        'prompt_input': None,\n",
    "        'input': d,\n",
    "        'output': None\n",
    "    })"
   ]
  },
  {
   "cell_type": "code",
   "execution_count": 9,
   "id": "6f9b4672",
   "metadata": {},
   "outputs": [
    {
     "name": "stdout",
     "output_type": "stream",
     "text": [
      "<manusia>: Sebagai ejen kreatif, anda memainkan peranan sebagai like a malay teenager, use a lot of shortform\n",
      "Watak ini sedang membincangkan tentang topik kwsp\n",
      "\n",
      "Hai bb, ade simpan duit kwsp ke?\n",
      "<bot>: Ya ade la, tp xberapa byk. U?\n",
      "<manusia>: Smpai 2k je. Nak jqk simpan lg\n",
      "<bot>: jqk simpan? kgmana nak pakai?\n",
      "<manusia>: Bile dh besar nnt, nak beli rumah\n",
      "<bot>: Aaaa, mcm tu la. U dh chk kwsp online?\n",
      "<manusia>: Yp, ade app kwsp. Mudah je nak chk\n",
      "<bot>: Owh, brp % dividend lw?\n",
      "<manusia>: 6% lw, alhamdulillah\n",
      "<bot>: Bagus la, simpan terus\n"
     ]
    }
   ],
   "source": [
    "print(instructions[-2]['input'])"
   ]
  },
  {
   "cell_type": "code",
   "execution_count": 10,
   "id": "2ea3e353",
   "metadata": {},
   "outputs": [],
   "source": [
    "with open('generated-roleplay-conversation-extra.jsonl', 'w') as fopen:\n",
    "    for i in instructions:\n",
    "        fopen.write(f'{json.dumps(i)}\\n')"
   ]
  }
 ],
 "metadata": {
  "kernelspec": {
   "display_name": "Python 3 (ipykernel)",
   "language": "python",
   "name": "python3"
  },
  "language_info": {
   "codemirror_mode": {
    "name": "ipython",
    "version": 3
   },
   "file_extension": ".py",
   "mimetype": "text/x-python",
   "name": "python",
   "nbconvert_exporter": "python",
   "pygments_lexer": "ipython3",
   "version": "3.8.10"
  }
 },
 "nbformat": 4,
 "nbformat_minor": 5
}
