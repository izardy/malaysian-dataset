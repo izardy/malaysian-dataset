{
 "cells": [
  {
   "cell_type": "code",
   "execution_count": 11,
   "id": "2d62dc2d",
   "metadata": {},
   "outputs": [],
   "source": [
    "# !wget https://gist.githubusercontent.com/huseinzol05/98974ae8c6c7a65d4bc0af9f5003786a/raw/2e06e71ef7349a57bc58cc9913ae6bae1f9f8447/mp.py\n",
    "# !wget https://huggingface.co/datasets/mesolitica/instructions-dataset/resolve/main/shuf-combine-malay-no-alignment-multitasks-v5.jsonl"
   ]
  },
  {
   "cell_type": "code",
   "execution_count": 5,
   "id": "994a0fb8",
   "metadata": {},
   "outputs": [],
   "source": [
    "# !split -l 213000 -d --additional-suffix=.splitted shuf-combine-malay-no-alignment-multitasks-v5.jsonl shuf-combine-malay-no-alignment-multitasks-v5.jsonl"
   ]
  },
  {
   "cell_type": "code",
   "execution_count": 6,
   "id": "4cbc2133",
   "metadata": {},
   "outputs": [
    {
     "name": "stdout",
     "output_type": "stream",
     "text": [
      "shuf-combine-malay-no-alignment-multitasks-v5.jsonl\r\n",
      "shuf-combine-malay-no-alignment-multitasks-v5.jsonl00.splitted\r\n",
      "shuf-combine-malay-no-alignment-multitasks-v5.jsonl01.splitted\r\n",
      "shuf-combine-malay-no-alignment-multitasks-v5.jsonl02.splitted\r\n",
      "shuf-combine-malay-no-alignment-multitasks-v5.jsonl03.splitted\r\n",
      "shuf-combine-malay-no-alignment-multitasks-v5.jsonl04.splitted\r\n",
      "shuf-combine-malay-no-alignment-multitasks-v5.jsonl05.splitted\r\n",
      "shuf-combine-malay-no-alignment-multitasks-v5.jsonl06.splitted\r\n",
      "shuf-combine-malay-no-alignment-multitasks-v5.jsonl07.splitted\r\n",
      "shuf-combine-malay-no-alignment-multitasks-v5.jsonl08.splitted\r\n",
      "shuf-combine-malay-no-alignment-multitasks-v5.jsonl09.splitted\r\n",
      "shuf-combine-malay-no-alignment-multitasks-v5.jsonl10.splitted\r\n",
      "shuf-combine-malay-no-alignment-multitasks-v5.jsonl11.splitted\r\n",
      "shuf-combine-malay-no-alignment-multitasks-v5.jsonl12.splitted\r\n",
      "shuf-combine-malay-no-alignment-multitasks-v5.jsonl13.splitted\r\n",
      "shuf-combine-malay-no-alignment-multitasks-v5.jsonl14.splitted\r\n",
      "shuf-combine-malay-no-alignment-multitasks-v5.jsonl15.splitted\r\n",
      "shuf-combine-malay-no-alignment-multitasks-v5.jsonl16.splitted\r\n",
      "shuf-combine-malay-no-alignment-multitasks-v5.jsonl17.splitted\r\n",
      "shuf-combine-malay-no-alignment-multitasks-v5.jsonl18.splitted\r\n",
      "shuf-combine-malay-no-alignment-multitasks-v5.jsonl19.splitted\r\n"
     ]
    }
   ],
   "source": [
    "!ls shuf-combine-malay-no-alignment-multitasks-v5.jsonl*"
   ]
  },
  {
   "cell_type": "code",
   "execution_count": 14,
   "id": "b7b4d5da",
   "metadata": {},
   "outputs": [],
   "source": [
    "from transformers import AutoTokenizer\n",
    "\n",
    "tokenizer = AutoTokenizer.from_pretrained('mesolitica/mistral-7b-4096-fpf')\n",
    "tokenizer.pad_token = tokenizer.unk_token\n",
    "tokenizer.add_bos_token = False\n",
    "tokenizer.add_eos_token = False\n",
    "tokenizer.padding_side = \"right\"\n",
    "tokenizer.chat_template = \"{{ bos_token }}{% for message in messages %}{% if (message['role'] == 'user') != (loop.index0 % 2 == 0) %}{{ raise_exception('Conversation roles must alternate user/assistant/user/assistant/...') }}{% endif %}{% if message['role'] == 'user' %}{{ '[INST] ' + message['content'] + ' [/INST]' }}{% elif message['role'] == 'assistant' %}{{ message['content'] + eos_token}}{% else %}{{ raise_exception('Only user and assistant roles are supported!') }}{% endif %}{% endfor %}\""
   ]
  },
  {
   "cell_type": "code",
   "execution_count": 8,
   "id": "a9f646f4",
   "metadata": {},
   "outputs": [],
   "source": [
    "def generate_and_tokenize_prompt(row):\n",
    "    if '<bot>:' in row['input'] and row['output'] is None:\n",
    "        inputs, outputs = [], []\n",
    "        splitted = row['input'].split('<bot>:')\n",
    "        for i in range(len(splitted) - 1):\n",
    "            if i == 0:\n",
    "                human = splitted[i].replace('<manusia>:', '')\n",
    "            else:\n",
    "                try:\n",
    "                    human = splitted[i].split('<manusia>:')[1]\n",
    "                except BaseException:\n",
    "                    continue\n",
    "            bot = splitted[i + 1].split('<manusia>:')[0]\n",
    "            inputs.append(human)\n",
    "            outputs.append(bot)\n",
    "    else:\n",
    "        inputs = [row['input']]\n",
    "        outputs = [row['output']]\n",
    "\n",
    "    chat = []\n",
    "    for input, output in zip(inputs, outputs):\n",
    "        chat.extend([\n",
    "            {'role': 'user', 'content': input.strip()},\n",
    "            {'role': 'assistant', 'content': output.strip()},\n",
    "        ])\n",
    "    prompt = tokenizer.apply_chat_template(chat, tokenize=False)\n",
    "    return {'text': prompt}"
   ]
  },
  {
   "cell_type": "code",
   "execution_count": 31,
   "id": "638f1ead",
   "metadata": {},
   "outputs": [],
   "source": [
    "from streaming import MDSWriter\n",
    "from streaming.base.format.mds.encodings import Encoding, _encodings\n",
    "from streaming import LocalDataset\n",
    "import streaming\n",
    "import numpy as np\n",
    "from tqdm import tqdm\n",
    "from glob import glob\n",
    "import os\n",
    "import json\n",
    "\n",
    "class UInt16(Encoding):\n",
    "    def encode(self, obj) -> bytes:\n",
    "        return obj.tobytes()\n",
    "\n",
    "    def decode(self, data: bytes):\n",
    "        return np.frombuffer(data, np.uint16)\n",
    "\n",
    "_encodings['uint16'] = UInt16\n",
    "\n",
    "columns = {\n",
    "    'input_ids': 'uint16',\n",
    "}\n",
    "hashes = 'sha1', 'xxh64'"
   ]
  },
  {
   "cell_type": "code",
   "execution_count": 32,
   "id": "24ab3232",
   "metadata": {},
   "outputs": [
    {
     "name": "stdout",
     "output_type": "stream",
     "text": [
      "mkdir: cannot create directory ‘tokenized_mistral’: File exists\r\n"
     ]
    }
   ],
   "source": [
    "!mkdir tokenized_mistral"
   ]
  },
  {
   "cell_type": "code",
   "execution_count": 56,
   "id": "82fe1d15",
   "metadata": {},
   "outputs": [],
   "source": [
    "def loop(files, block_size = 16384):\n",
    "    files, index = files\n",
    "    out_root = f'tokenized_mistral/tokenized-{index}'\n",
    "    os.system(f'rm -rf {out_root}')\n",
    "    temp = []\n",
    "    with MDSWriter(out=out_root, columns=columns, compression=None, hashes=hashes) as out:\n",
    "        for f in files:\n",
    "            with open(f) as fopen:\n",
    "                for l in tqdm(fopen):\n",
    "                    row = json.loads(l)\n",
    "                    element = generate_and_tokenize_prompt(row)\n",
    "                    outputs = tokenizer(element['text'])\n",
    "                    temp.extend(outputs['input_ids'])\n",
    "                    done = False\n",
    "                    while len(temp) >= block_size:\n",
    "                        block = temp[:block_size]\n",
    "                        temp = temp[block_size:]\n",
    "                        if len(block) == block_size:\n",
    "                            out.write({\n",
    "                                'input_ids': np.array(block).astype(np.uint16)\n",
    "                            })"
   ]
  },
  {
   "cell_type": "code",
   "execution_count": 57,
   "id": "9fc6dd95",
   "metadata": {},
   "outputs": [
    {
     "data": {
      "text/plain": [
       "['shuf-combine-malay-no-alignment-multitasks-v5.jsonl00.splitted',\n",
       " 'shuf-combine-malay-no-alignment-multitasks-v5.jsonl01.splitted',\n",
       " 'shuf-combine-malay-no-alignment-multitasks-v5.jsonl02.splitted',\n",
       " 'shuf-combine-malay-no-alignment-multitasks-v5.jsonl03.splitted',\n",
       " 'shuf-combine-malay-no-alignment-multitasks-v5.jsonl04.splitted',\n",
       " 'shuf-combine-malay-no-alignment-multitasks-v5.jsonl05.splitted',\n",
       " 'shuf-combine-malay-no-alignment-multitasks-v5.jsonl06.splitted',\n",
       " 'shuf-combine-malay-no-alignment-multitasks-v5.jsonl07.splitted',\n",
       " 'shuf-combine-malay-no-alignment-multitasks-v5.jsonl08.splitted',\n",
       " 'shuf-combine-malay-no-alignment-multitasks-v5.jsonl09.splitted',\n",
       " 'shuf-combine-malay-no-alignment-multitasks-v5.jsonl10.splitted',\n",
       " 'shuf-combine-malay-no-alignment-multitasks-v5.jsonl11.splitted',\n",
       " 'shuf-combine-malay-no-alignment-multitasks-v5.jsonl12.splitted',\n",
       " 'shuf-combine-malay-no-alignment-multitasks-v5.jsonl13.splitted',\n",
       " 'shuf-combine-malay-no-alignment-multitasks-v5.jsonl14.splitted',\n",
       " 'shuf-combine-malay-no-alignment-multitasks-v5.jsonl15.splitted',\n",
       " 'shuf-combine-malay-no-alignment-multitasks-v5.jsonl16.splitted',\n",
       " 'shuf-combine-malay-no-alignment-multitasks-v5.jsonl17.splitted',\n",
       " 'shuf-combine-malay-no-alignment-multitasks-v5.jsonl18.splitted',\n",
       " 'shuf-combine-malay-no-alignment-multitasks-v5.jsonl19.splitted']"
      ]
     },
     "execution_count": 57,
     "metadata": {},
     "output_type": "execute_result"
    }
   ],
   "source": [
    "files = sorted(glob('shuf-combine-malay-no-alignment-multitasks-v5.jsonl*.splitted'), key = lambda x: int(x.split('jsonl')[-1].split('.')[0]))\n",
    "files"
   ]
  },
  {
   "cell_type": "code",
   "execution_count": 58,
   "id": "b0041eaf",
   "metadata": {},
   "outputs": [
    {
     "name": "stderr",
     "output_type": "stream",
     "text": [
      "196786it [09:21, 350.39it/s]\n",
      "213000it [09:53, 358.98it/s]\n",
      "213000it [09:54, 358.49it/s]\n",
      "213000it [09:54, 358.07it/s]\n",
      "213000it [09:54, 358.01it/s]\n",
      "213000it [09:56, 356.96it/s]\n",
      "213000it [09:57, 356.74it/s]\n",
      "213000it [09:57, 356.25it/s]\n",
      "213000it [09:58, 355.92it/s]\n",
      "213000it [09:59, 355.39it/s]\n",
      "213000it [10:00, 354.88it/s]\n",
      "213000it [10:01, 354.31it/s]\n",
      "213000it [10:02, 353.79it/s]\n",
      "213000it [10:02, 353.30it/s]\n",
      "213000it [10:04, 352.53it/s]\n",
      "213000it [10:07, 350.90it/s]\n",
      "213000it [10:09, 349.21it/s]\n",
      "213000it [10:10, 349.08it/s]\n",
      "213000it [10:11, 348.51it/s]\n",
      "213000it [10:12, 347.49it/s]\n"
     ]
    }
   ],
   "source": [
    "import mp\n",
    "mp.multiprocessing(files, loop, cores = min(len(files), 30), returned = False)"
   ]
  },
  {
   "cell_type": "code",
   "execution_count": 60,
   "id": "bbef060e",
   "metadata": {},
   "outputs": [
    {
     "data": {
      "text/plain": [
       "['tokenized_mistral/tokenized-0',\n",
       " 'tokenized_mistral/tokenized-1',\n",
       " 'tokenized_mistral/tokenized-2',\n",
       " 'tokenized_mistral/tokenized-3',\n",
       " 'tokenized_mistral/tokenized-4',\n",
       " 'tokenized_mistral/tokenized-5',\n",
       " 'tokenized_mistral/tokenized-6',\n",
       " 'tokenized_mistral/tokenized-7',\n",
       " 'tokenized_mistral/tokenized-8',\n",
       " 'tokenized_mistral/tokenized-9',\n",
       " 'tokenized_mistral/tokenized-10',\n",
       " 'tokenized_mistral/tokenized-11',\n",
       " 'tokenized_mistral/tokenized-12',\n",
       " 'tokenized_mistral/tokenized-13',\n",
       " 'tokenized_mistral/tokenized-14',\n",
       " 'tokenized_mistral/tokenized-15',\n",
       " 'tokenized_mistral/tokenized-16',\n",
       " 'tokenized_mistral/tokenized-17',\n",
       " 'tokenized_mistral/tokenized-18',\n",
       " 'tokenized_mistral/tokenized-19']"
      ]
     },
     "execution_count": 60,
     "metadata": {},
     "output_type": "execute_result"
    }
   ],
   "source": [
    "folders = sorted(glob('tokenized_mistral/tokenized-*'), key = lambda x: int(x.split('-')[-1]))\n",
    "folders"
   ]
  },
  {
   "cell_type": "code",
   "execution_count": 61,
   "id": "13add590",
   "metadata": {},
   "outputs": [],
   "source": [
    "!rm -rf packing-mistral"
   ]
  },
  {
   "cell_type": "code",
   "execution_count": 62,
   "id": "569b2475",
   "metadata": {},
   "outputs": [
    {
     "name": "stderr",
     "output_type": "stream",
     "text": [
      "100%|██████████| 15756/15756 [00:01<00:00, 9726.31it/s]\n",
      "100%|██████████| 15753/15753 [00:01<00:00, 9247.72it/s]\n",
      "100%|██████████| 15745/15745 [00:01<00:00, 9232.23it/s]\n",
      "100%|██████████| 15785/15785 [00:01<00:00, 10040.69it/s]\n",
      "100%|██████████| 15803/15803 [00:01<00:00, 9183.88it/s]\n",
      "100%|██████████| 15783/15783 [00:01<00:00, 9277.61it/s]\n",
      "100%|██████████| 15812/15812 [00:01<00:00, 10187.41it/s]\n",
      "100%|██████████| 15849/15849 [00:01<00:00, 9266.93it/s]\n",
      "100%|██████████| 15758/15758 [00:01<00:00, 9288.63it/s]\n",
      "100%|██████████| 15773/15773 [00:01<00:00, 9205.69it/s]\n",
      "100%|██████████| 15813/15813 [00:01<00:00, 10064.80it/s]\n",
      "100%|██████████| 15819/15819 [00:01<00:00, 9227.30it/s]\n",
      "100%|██████████| 15801/15801 [00:01<00:00, 9337.55it/s]\n",
      "100%|██████████| 15821/15821 [00:01<00:00, 10291.74it/s]\n",
      "100%|██████████| 15753/15753 [00:01<00:00, 9434.65it/s]\n",
      "100%|██████████| 15788/15788 [00:01<00:00, 9419.44it/s]\n",
      "100%|██████████| 15744/15744 [00:01<00:00, 9435.29it/s]\n",
      "100%|██████████| 15779/15779 [00:01<00:00, 10214.25it/s]\n",
      "100%|██████████| 15720/15720 [00:01<00:00, 9355.69it/s]\n",
      "100%|██████████| 14627/14627 [00:01<00:00, 9693.25it/s]\n"
     ]
    }
   ],
   "source": [
    "with MDSWriter(out='packing-mistral', columns=columns, compression=None, hashes=hashes) as out:\n",
    "    for f in folders:\n",
    "        try:\n",
    "            dataset = LocalDataset(local=f)\n",
    "            for i in tqdm(range(len(dataset))):\n",
    "                out.write(dataset[i])\n",
    "        except Exception as e:\n",
    "            print(e)\n",
    "            pass"
   ]
  },
  {
   "cell_type": "code",
   "execution_count": 63,
   "id": "a094b785",
   "metadata": {},
   "outputs": [],
   "source": [
    "dataset = LocalDataset('packing-mistral')"
   ]
  },
  {
   "cell_type": "code",
   "execution_count": 64,
   "id": "2d443c2b",
   "metadata": {},
   "outputs": [
    {
     "data": {
      "text/plain": [
       "5152473088"
      ]
     },
     "execution_count": 64,
     "metadata": {},
     "output_type": "execute_result"
    }
   ],
   "source": [
    "len(dataset) * 16384"
   ]
  },
  {
   "cell_type": "code",
   "execution_count": 66,
   "id": "6d10c09c",
   "metadata": {},
   "outputs": [
    {
     "data": {
      "text/plain": [
       "{'input_ids': array([1883, 2950, 4292, ..., 1883, 2950, 1626], dtype=uint16)}"
      ]
     },
     "execution_count": 66,
     "metadata": {},
     "output_type": "execute_result"
    }
   ],
   "source": [
    "dataset[-2]"
   ]
  }
 ],
 "metadata": {
  "kernelspec": {
   "display_name": "Python 3 (ipykernel)",
   "language": "python",
   "name": "python3"
  },
  "language_info": {
   "codemirror_mode": {
    "name": "ipython",
    "version": 3
   },
   "file_extension": ".py",
   "mimetype": "text/x-python",
   "name": "python",
   "nbconvert_exporter": "python",
   "pygments_lexer": "ipython3",
   "version": "3.10.12"
  }
 },
 "nbformat": 4,
 "nbformat_minor": 5
}
