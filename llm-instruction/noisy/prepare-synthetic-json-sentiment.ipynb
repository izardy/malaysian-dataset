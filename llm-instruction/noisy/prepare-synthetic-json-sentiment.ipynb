{
 "cells": [
  {
   "cell_type": "code",
   "execution_count": 1,
   "id": "2e288f5e",
   "metadata": {},
   "outputs": [],
   "source": [
    "import json\n",
    "import random\n",
    "from glob import glob"
   ]
  },
  {
   "cell_type": "code",
   "execution_count": 2,
   "id": "40c9b459",
   "metadata": {},
   "outputs": [],
   "source": [
    "# !wget https://huggingface.co/datasets/mesolitica/chatgpt-explain-sentiment/resolve/main/sentiment.jsonl"
   ]
  },
  {
   "cell_type": "code",
   "execution_count": 3,
   "id": "808de72e",
   "metadata": {},
   "outputs": [
    {
     "name": "stdout",
     "output_type": "stream",
     "text": [
      "{\"sentiment\": \"positive\", \"explain_en\": \"The text is categorized as positive because it expresses gratitude or thankfulness.\", \"explain_ms\": \"Teks ini dikategorikan sebagai positif karena mengungkapkan rasa terima kasih atau syukur.\", \"text\": \"Terimakasih ya\"}\r\n"
     ]
    }
   ],
   "source": [
    "!head -n 1 sentiment.jsonl"
   ]
  },
  {
   "cell_type": "code",
   "execution_count": 17,
   "id": "40f9c76c",
   "metadata": {},
   "outputs": [],
   "source": [
    "english = [\n",
    "    'bahasa inggeris standard',\n",
    "    'standard english',\n",
    "    'inggeris standard',\n",
    "    'english'\n",
    "]\n",
    "\n",
    "malay = [\n",
    "    'bahasa melayu standard',\n",
    "    'standard malay',\n",
    "    'melayu standard',\n",
    "    'malay',\n",
    "]\n",
    "\n",
    "patterns = [\n",
    "    'teks `{text}`, kelaskan sentimen [negative, positive, neutral] dan terangkan sebab dalam {lang}',\n",
    "    'kelaskan sentimen [negative, positive, neutral] dan terangkan sebab dalam {lang}, teks `{text}`',\n",
    "    'classify sentiment [negative, positive, neutral] and explain in {lang}, text `{text}`',\n",
    "    'teks: {text}\\nkelaskan sentimen [negative, positive, neutral] dan terangkan sebab dalam {lang}',\n",
    "    'classify sentiment [negative, positive, neutral] and explain in {lang}\\n\\nteks: {text}'\n",
    "]\n",
    "\n",
    "patterns_json = [\n",
    "    'teks `{text}`, kelaskan sentimen [negative, positive, neutral] dan terangkan sebab dalam {lang}, pulangkan dalam bentuk JSON {json}',\n",
    "    'kelaskan sentimen [negative, positive, neutral] dan terangkan sebab dalam {lang}, bagi dalam bentuk JSON {json}, teks `{text}`',\n",
    "    'classify sentiment [negative, positive, neutral] and explain in {lang}, text `{text}`, return in JSON {json}',\n",
    "    'teks: {text}\\nkelaskan sentimen [negative, positive, neutral] dan terangkan sebab dalam {lang}, bagi dalam JSON {json}',\n",
    "    'classify sentiment [negative, positive, neutral] and explain in {lang}\\n\\nteks: {text}, return JSON {json}'\n",
    "]\n",
    "\n",
    "\n",
    "translation = []\n",
    "with open('sentiment.jsonl') as fopen:\n",
    "    for l in fopen:\n",
    "        l = json.loads(l)\n",
    "        q = None\n",
    "        o = None\n",
    "        try:\n",
    "\n",
    "            while True:\n",
    "                c = random.randint(0, 4)\n",
    "\n",
    "                if c == 0 and l['explain_en']:\n",
    "                    q = random.choice(patterns).format(text = l['text'], lang = random.choice(english))\n",
    "                    o = f\"Sentimen: {l['sentiment']}\\nKeterangan: {l['explain_en']}\"\n",
    "                if c == 1 and l['explain_ms']:\n",
    "                    q = random.choice(patterns).format(text = l['text'], lang = random.choice(malay))\n",
    "                    o = f\"Sentimen: {l['sentiment']}\\nKeterangan: {l['explain_ms']}\"\n",
    "                if c == 2 and l['explain_en'] and l['explain_ms']:\n",
    "                    lang = f'{random.choice(english)} dan {random.choice(malay)}'\n",
    "                    q = random.choice(patterns).format(text = l['text'], lang = lang)\n",
    "                    o = f\"Sentimen: {l['sentiment']}\\nKeterangan dalam Bahasa Melayu: {l['explain_ms']}\\nKeterangan dalam Bahasa Inggeris: {l['explain_en']}\"\n",
    "                if c in [3, 4] and l['explain_en'] and l['explain_ms'] and l['sentiment']:\n",
    "                    c = random.randint(0, 2)\n",
    "                    if c == 0:\n",
    "                        schema = \"{'en', 'ms', 'text', 'sentiment'}\"\n",
    "                        d = {\n",
    "                            'en': l['explain_en'],\n",
    "                            'ms': l['explain_ms'],\n",
    "                            'text': l['text'],\n",
    "                            'sentiment': l['sentiment']\n",
    "                        }\n",
    "                    if c == 1:\n",
    "                        schema = \"{'explain_en', 'explain_ms', 'text', 'sentiment'}\"\n",
    "                        d = {\n",
    "                            'explain_en': l['explain_en'],\n",
    "                            'explain_ms': l['explain_ms'],\n",
    "                            'text': l['text'],\n",
    "                            'sentiment': l['sentiment']\n",
    "                        }\n",
    "                    if c == 2:\n",
    "                        schema = \"{'terang_en', 'terang_ms', 'teks', 'sentimen'}\"\n",
    "                        d = {\n",
    "                            'terang_en': l['explain_en'],\n",
    "                            'terang_ms': l['explain_ms'],\n",
    "                            'teks': l['text'],\n",
    "                            'sentimen': l['sentiment']\n",
    "                        }\n",
    "                    lang = f'{random.choice(english)} dan {random.choice(malay)}'\n",
    "                    q = random.choice(patterns_json).format(text = l['text'], lang = lang, json = schema)\n",
    "                    o = json.dumps(d)\n",
    "\n",
    "                if q and o:\n",
    "                    break\n",
    "\n",
    "            translation.append({\n",
    "                'prompt_input': None,\n",
    "                'input': q.strip(),\n",
    "                'output': o.strip(),\n",
    "            })\n",
    "\n",
    "        except Exception as e:\n",
    "            print(e)"
   ]
  },
  {
   "cell_type": "code",
   "execution_count": 23,
   "id": "434f245e",
   "metadata": {
    "scrolled": true
   },
   "outputs": [
    {
     "data": {
      "text/plain": [
       "162902"
      ]
     },
     "execution_count": 23,
     "metadata": {},
     "output_type": "execute_result"
    }
   ],
   "source": [
    "len(translation)"
   ]
  },
  {
   "cell_type": "code",
   "execution_count": 25,
   "id": "482874f6",
   "metadata": {},
   "outputs": [
    {
     "data": {
      "text/plain": [
       "{'prompt_input': None,\n",
       " 'input': \"classify sentiment [negative, positive, neutral] and explain in standard english dan melayu standard, text `Semoga semuanya dipermudahkan. #engeartv #pandulalu #vaksin #labuan #covid19`, return in JSON {'en', 'ms', 'text', 'sentiment'}\",\n",
       " 'output': '{\"en\": \"The text is expressing a positive sentiment. The author is hoping that everything will be made easier, possibly in relation to the COVID-19 situation in Labuan. The use of the hashtag #vaksin suggests that the author may be referring to the vaccination efforts in the area.\", \"ms\": \"Teks ini mengungkapkan sentimen positif. Penulis berharap bahwa segala sesuatunya akan dipermudah, mungkin terkait dengan situasi COVID-19 di Labuan. Penggunaan hashtag #vaksin menunjukkan bahwa penulis mungkin merujuk pada upaya vaksinasi di daerah tersebut.\", \"text\": \"Semoga semuanya dipermudahkan. #engeartv #pandulalu #vaksin #labuan #covid19\", \"sentiment\": \"positive\"}'}"
      ]
     },
     "execution_count": 25,
     "metadata": {},
     "output_type": "execute_result"
    }
   ],
   "source": [
    "translation[-4]"
   ]
  },
  {
   "cell_type": "code",
   "execution_count": 28,
   "id": "7305d07f",
   "metadata": {},
   "outputs": [],
   "source": [
    "with open('prepared-synthetic-json-sentiment.jsonl', 'w') as fopen:\n",
    "    for t in translation:\n",
    "        fopen.write(f'{json.dumps(t)}\\n')"
   ]
  },
  {
   "cell_type": "code",
   "execution_count": 29,
   "id": "a045e2f9",
   "metadata": {},
   "outputs": [
    {
     "name": "stdout",
     "output_type": "stream",
     "text": [
      "-rw-r--r-- 1 husein husein 103M Feb  24 12:26 prepared-synthetic-json-sentiment.jsonl\r\n"
     ]
    }
   ],
   "source": [
    "!ls -lh prepared-synthetic-json-sentiment.jsonl"
   ]
  }
 ],
 "metadata": {
  "kernelspec": {
   "display_name": "Python 3 (ipykernel)",
   "language": "python",
   "name": "python3"
  },
  "language_info": {
   "codemirror_mode": {
    "name": "ipython",
    "version": 3
   },
   "file_extension": ".py",
   "mimetype": "text/x-python",
   "name": "python",
   "nbconvert_exporter": "python",
   "pygments_lexer": "ipython3",
   "version": "3.8.10"
  }
 },
 "nbformat": 4,
 "nbformat_minor": 5
}
