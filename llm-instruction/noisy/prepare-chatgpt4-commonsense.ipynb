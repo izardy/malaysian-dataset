{
 "cells": [
  {
   "cell_type": "code",
   "execution_count": 1,
   "id": "a38e8f1b",
   "metadata": {},
   "outputs": [],
   "source": [
    "from glob import glob\n",
    "import json\n",
    "import random"
   ]
  },
  {
   "cell_type": "code",
   "execution_count": 2,
   "id": "0b8c527b",
   "metadata": {},
   "outputs": [
    {
     "name": "stdout",
     "output_type": "stream",
     "text": [
      "-rw-r--r-- 1 husein husein 7.0M Dis   3 12:25 /home/husein/ssd3/soalan-augmentation/synthetic-commonsense.jsonl\r\n"
     ]
    }
   ],
   "source": [
    "!ls -lh /home/husein/ssd3/soalan-augmentation/synthetic-commonsense.jsonl"
   ]
  },
  {
   "cell_type": "code",
   "execution_count": 5,
   "id": "76f5b3e5",
   "metadata": {},
   "outputs": [
    {
     "data": {
      "text/plain": [
       "36332"
      ]
     },
     "execution_count": 5,
     "metadata": {},
     "output_type": "execute_result"
    }
   ],
   "source": [
    "data = []\n",
    "\n",
    "with open('/home/husein/ssd3/soalan-augmentation/synthetic-commonsense.jsonl') as fopen:\n",
    "    for l in fopen:\n",
    "        l = json.loads(l)\n",
    "        \n",
    "        d = {\n",
    "            'prompt_input': None,\n",
    "            'input': l['question'],\n",
    "            'output': l['answer'],\n",
    "        }\n",
    "        data.append(d)\n",
    "        \n",
    "len(data)"
   ]
  },
  {
   "cell_type": "code",
   "execution_count": 8,
   "id": "c667956e",
   "metadata": {},
   "outputs": [],
   "source": [
    "with open('prepared-synthetic-commonsense.jsonl', 'w') as fopen:\n",
    "    for d in data:\n",
    "        fopen.write(f'{json.dumps(d)}\\n')"
   ]
  }
 ],
 "metadata": {
  "kernelspec": {
   "display_name": "Python 3 (ipykernel)",
   "language": "python",
   "name": "python3"
  },
  "language_info": {
   "codemirror_mode": {
    "name": "ipython",
    "version": 3
   },
   "file_extension": ".py",
   "mimetype": "text/x-python",
   "name": "python",
   "nbconvert_exporter": "python",
   "pygments_lexer": "ipython3",
   "version": "3.8.10"
  }
 },
 "nbformat": 4,
 "nbformat_minor": 5
}
