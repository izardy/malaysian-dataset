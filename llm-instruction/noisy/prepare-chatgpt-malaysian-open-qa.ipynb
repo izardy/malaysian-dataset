{
 "cells": [
  {
   "cell_type": "code",
   "execution_count": 6,
   "id": "50ba4f58",
   "metadata": {},
   "outputs": [],
   "source": [
    "import json\n",
    "import random\n",
    "from glob import glob"
   ]
  },
  {
   "cell_type": "code",
   "execution_count": 4,
   "id": "19b96d9e",
   "metadata": {},
   "outputs": [
    {
     "data": {
      "text/plain": [
       "['/home/husein/ssd3/chatgpt-malaysian-open-qa/wikipedia-qa.jsonl',\n",
       " '/home/husein/ssd3/chatgpt-malaysian-open-qa/common-crawl-qa.jsonl',\n",
       " '/home/husein/ssd3/chatgpt-malaysian-open-qa/hansard-qa.jsonl']"
      ]
     },
     "execution_count": 4,
     "metadata": {},
     "output_type": "execute_result"
    }
   ],
   "source": [
    "glob('/home/husein/ssd3/chatgpt-malaysian-open-qa/*.jsonl')"
   ]
  },
  {
   "cell_type": "code",
   "execution_count": 17,
   "id": "19b96f08",
   "metadata": {},
   "outputs": [
    {
     "data": {
      "text/plain": [
       "265828"
      ]
     },
     "execution_count": 17,
     "metadata": {},
     "output_type": "execute_result"
    }
   ],
   "source": [
    "data = []\n",
    "\n",
    "for f in glob('/home/husein/ssd3/chatgpt-malaysian-open-qa/*.jsonl'):\n",
    "    with open(f) as fopen:\n",
    "        for l in fopen:\n",
    "            l = json.loads(l)\n",
    "            if not l['qa']:\n",
    "                continue\n",
    "                \n",
    "            if 'hansard-qa' in f:\n",
    "                p = l['paragraph']['original']\n",
    "            else:\n",
    "                p = l['paragraph']\n",
    "                \n",
    "            p = p.strip()\n",
    "                \n",
    "            if not len(p):\n",
    "                continue\n",
    "\n",
    "            for qa in l['qa']['qa']:\n",
    "                \n",
    "                if random.random() > 0.4:\n",
    "                    continue\n",
    "                    \n",
    "                s = f\"{p}\\n\\n{qa['question']}\".strip()\n",
    "                data.append({\n",
    "                    'prompt_input': None,\n",
    "                    'input': s,\n",
    "                    'output': qa['answer'],\n",
    "                })\n",
    "len(data)"
   ]
  },
  {
   "cell_type": "code",
   "execution_count": 18,
   "id": "3ccb377f",
   "metadata": {},
   "outputs": [],
   "source": [
    "import json\n",
    "\n",
    "with open('prepared-chatgpt-malaysian-open-qa.jsonl', 'w') as fopen:\n",
    "    for l in data:\n",
    "        fopen.write(f'{json.dumps(l)}\\n')"
   ]
  }
 ],
 "metadata": {
  "kernelspec": {
   "display_name": "Python 3 (ipykernel)",
   "language": "python",
   "name": "python3"
  },
  "language_info": {
   "codemirror_mode": {
    "name": "ipython",
    "version": 3
   },
   "file_extension": ".py",
   "mimetype": "text/x-python",
   "name": "python",
   "nbconvert_exporter": "python",
   "pygments_lexer": "ipython3",
   "version": "3.8.10"
  }
 },
 "nbformat": 4,
 "nbformat_minor": 5
}
