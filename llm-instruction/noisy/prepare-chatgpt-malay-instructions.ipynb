{
 "cells": [
  {
   "cell_type": "code",
   "execution_count": 1,
   "id": "50ba4f58",
   "metadata": {},
   "outputs": [],
   "source": [
    "import json\n",
    "import random\n",
    "from glob import glob\n",
    "from tqdm import tqdm\n",
    "\n",
    "rejected_words = [\n",
    "    'kebutuhan',\n",
    "    'berbeda',\n",
    "    'bahwa',\n",
    "    'Kode',\n",
    "    'kode',\n",
    "    'nomor',\n",
    "    'RMXX,XXX',\n",
    "    'kompleksitas',\n",
    "    'listrik',\n",
    "    'jawaban',\n",
    "    'teknis',\n",
    "    'berkualitas',\n",
    "    'mencoba',\n",
    "    'kampanye',\n",
    "    'komunitas',\n",
    "    'stabilitas',\n",
    "    'Stabilitas',\n",
    "    'metode',\n",
    "    'pria',\n",
    "    'butuh',\n",
    "    'jadwal',\n",
    "    'kasus',\n",
    "    'otomatis',\n",
    "    'populer',\n",
    "    'bisnis',\n",
    "    'probabilitas',\n",
    "    'rusak',\n",
    "    'kapasitas',\n",
    "    'rutinitas',\n",
    "    'pertama-tama'\n",
    "]\n",
    "\n",
    "def found_word(s, words):\n",
    "    for i in range(len(words)):\n",
    "        if words[i] in s:\n",
    "            return True, words[i]\n",
    "    return False, None"
   ]
  },
  {
   "cell_type": "code",
   "execution_count": 2,
   "id": "ee60bb3d",
   "metadata": {},
   "outputs": [],
   "source": [
    "with open('prepare-chatgpt-malay-instructions.translate') as fopen:\n",
    "    mapping = json.load(fopen)"
   ]
  },
  {
   "cell_type": "code",
   "execution_count": 3,
   "id": "217656c9",
   "metadata": {},
   "outputs": [],
   "source": [
    "files = ['/home/husein/ssd3/instructions/synthetic-evol-instructions.jsonl',\n",
    " '/home/husein/ssd3/instructions/synthetic-oss_instruct-decontaminated.jsonl',\n",
    " '/home/husein/ssd3/instructions/synthetic-malaysian-general-qa.jsonl',\n",
    " '/home/husein/ssd3/instructions/synthetic-alpaca_data_cleaned.jsonl',\n",
    " '/home/husein/ssd3/instructions/synthetic-malaysian-general-qa-v2.jsonl',\n",
    " '/home/husein/ssd3/instructions/synthetic-code-instructions.jsonl']"
   ]
  },
  {
   "cell_type": "code",
   "execution_count": 6,
   "id": "e9321fed",
   "metadata": {},
   "outputs": [
    {
     "data": {
      "text/plain": [
       "{'instruction': 'Bagaimana saya dapat menggantikan ayat \"Tom tiba awal ke majlis\" dengan menggunakan koma keduanya dan kata hubung dalam kod Go?',\n",
       " 'output': 'Untuk menggantikan ayat \"Tom tiba awal ke majlis\" dengan menggunakan koma keduanya dan kata hubung dalam kod Go, dapat menggunakan frasa \"Tom, yang juga tiba awal, ke majlis\".',\n",
       " 'indon_ins': False,\n",
       " 'indon_output': False,\n",
       " 'instruction_ms': 'Bagaimanakah saya boleh menggantikan ayat \"Tom tiba awal ke majlis\" dengan menggunakan koma kedua dan kata hubung dalam kod Go?',\n",
       " 'output_ms': 'Untuk menggantikan ayat \"Tom tiba awal ke majlis\" dengan menggunakan koma kedua dan kata hubung dalam kod Go, anda boleh menggunakan frasa \"Tom, yang juga tiba awal, ke majlis\".',\n",
       " 'rejected_ins': False,\n",
       " 'rejected_output': False}"
      ]
     },
     "execution_count": 6,
     "metadata": {},
     "output_type": "execute_result"
    }
   ],
   "source": [
    "l"
   ]
  },
  {
   "cell_type": "code",
   "execution_count": 8,
   "id": "19b96f08",
   "metadata": {
    "scrolled": true
   },
   "outputs": [
    {
     "name": "stderr",
     "output_type": "stream",
     "text": [
      "104286it [00:05, 19509.92it/s]\n",
      "70815it [00:05, 12777.31it/s]\n",
      "25652it [00:00, 28642.58it/s]\n",
      "131091it [00:06, 20977.48it/s]\n",
      "51738it [00:02, 22961.09it/s]\n",
      "43482it [00:03, 14057.21it/s]\n",
      "22513it [00:01, 17826.54it/s]\n",
      "111920it [00:05, 19208.04it/s]\n"
     ]
    },
    {
     "data": {
      "text/plain": [
       "532647"
      ]
     },
     "execution_count": 8,
     "metadata": {},
     "output_type": "execute_result"
    }
   ],
   "source": [
    "data = []\n",
    "\n",
    "for f in glob('/home/husein/ssd3/instructions/synthetic-*.jsonl'):\n",
    "    with open(f) as fopen:\n",
    "        for l in tqdm(fopen):\n",
    "            l = json.loads(l)\n",
    "            \n",
    "            if l['rejected_ins'] or l['rejected_output']:\n",
    "                continue\n",
    "                \n",
    "            if l['instruction_ms'] is None:\n",
    "                continue\n",
    "            \n",
    "            if l['output_ms'] is None:\n",
    "                continue\n",
    "                \n",
    "            a_ = mapping.get(l['output'])\n",
    "            if a_ is not None:\n",
    "                a = a_\n",
    "            else:\n",
    "                a = l['output_ms']\n",
    "                \n",
    "            if '=====' in a:\n",
    "                continue\n",
    "                \n",
    "            if '-----' in a:\n",
    "                continue\n",
    "                \n",
    "            if len(set(l['instruction_ms'].split())) < (len(set(l['instruction'].split())) / 2):\n",
    "                continue\n",
    "                \n",
    "            if len(set(l['output_ms'].split())) < (len(set(l['output'].split())) / 2):\n",
    "                continue\n",
    "                \n",
    "            data.append({\n",
    "                'prompt_input': None,\n",
    "                'input': l['instruction_ms'].strip(),\n",
    "                'output': a,\n",
    "            })\n",
    "                \n",
    "len(data)"
   ]
  },
  {
   "cell_type": "code",
   "execution_count": 9,
   "id": "3ccb377f",
   "metadata": {},
   "outputs": [],
   "source": [
    "import json\n",
    "\n",
    "with open('prepared-chatgpt-malay-instructions.jsonl', 'w') as fopen:\n",
    "    for l in data:\n",
    "        fopen.write(f'{json.dumps(l)}\\n')"
   ]
  },
  {
   "cell_type": "code",
   "execution_count": null,
   "id": "6e09dea2",
   "metadata": {},
   "outputs": [],
   "source": []
  }
 ],
 "metadata": {
  "kernelspec": {
   "display_name": "Python 3 (ipykernel)",
   "language": "python",
   "name": "python3"
  },
  "language_info": {
   "codemirror_mode": {
    "name": "ipython",
    "version": 3
   },
   "file_extension": ".py",
   "mimetype": "text/x-python",
   "name": "python",
   "nbconvert_exporter": "python",
   "pygments_lexer": "ipython3",
   "version": "3.8.10"
  }
 },
 "nbformat": 4,
 "nbformat_minor": 5
}
