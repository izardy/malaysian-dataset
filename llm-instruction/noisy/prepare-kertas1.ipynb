{
 "cells": [
  {
   "cell_type": "code",
   "execution_count": 14,
   "id": "031408f3",
   "metadata": {},
   "outputs": [],
   "source": [
    "# !wget https://huggingface.co/datasets/aisyahhrazak/crawl-soalan/resolve/main/soalan-pt3online.jsonl\n",
    "# !wget https://huggingface.co/datasets/aisyahhrazak/crawl-soalan/resolve/main/soalan-upsr.jsonl\n",
    "# !wget https://huggingface.co/datasets/aisyahhrazak/crawl-soalan/resolve/main/soalanspm.jsonl\n",
    "# !wget https://huggingface.co/datasets/aisyahhrazak/crawl-soalan/resolve/main/spm-ayatpasif-aktif.jsonl"
   ]
  },
  {
   "cell_type": "code",
   "execution_count": 15,
   "id": "9ec49629",
   "metadata": {},
   "outputs": [],
   "source": [
    "import json\n",
    "from glob import glob\n",
    "from unidecode import unidecode"
   ]
  },
  {
   "cell_type": "code",
   "execution_count": 16,
   "id": "669615b7",
   "metadata": {},
   "outputs": [],
   "source": [
    "with open('tatabahasabm.tripod.com-bm-kertas1.json') as fopen:\n",
    "    data = json.load(fopen)"
   ]
  },
  {
   "cell_type": "code",
   "execution_count": 17,
   "id": "9d8bc7c8",
   "metadata": {},
   "outputs": [
    {
     "data": {
      "text/plain": [
       "99"
      ]
     },
     "execution_count": 17,
     "metadata": {},
     "output_type": "execute_result"
    }
   ],
   "source": [
    "instructions = []\n",
    "for k, v in data.items():\n",
    "    for r in v['quizzes'].values():\n",
    "        if r['no'] in v['answers']:\n",
    "            c = '\\n'.join(r['choice'])\n",
    "            s = f\"{r['objective']}\\n{r['context']}\\n{r['question']}\\n\\n{c}\"\n",
    "            \n",
    "            d = {\n",
    "                'prompt_input': None,\n",
    "                'input': s,\n",
    "                'output': v['answers'][r['no']],\n",
    "            }\n",
    "            instructions.append(d)\n",
    "            \n",
    "len(instructions)"
   ]
  },
  {
   "cell_type": "code",
   "execution_count": 18,
   "id": "91a11498",
   "metadata": {},
   "outputs": [
    {
     "data": {
      "text/plain": [
       "814"
      ]
     },
     "execution_count": 18,
     "metadata": {},
     "output_type": "execute_result"
    }
   ],
   "source": [
    "files = [\n",
    "    'soalan-pt3online.jsonl',\n",
    "    'soalan-upsr.jsonl',\n",
    "    'soalanspm.jsonl',\n",
    "]\n",
    "\n",
    "for f in files:\n",
    "    with open(f) as fopen:\n",
    "        for l in fopen:\n",
    "            l = json.loads(l)\n",
    "            q = unidecode(l['question']).split(') ')[1:]\n",
    "            q = ') '.join(q).strip()\n",
    "            a = l['answer'].strip()\n",
    "            choices = l['answer_choice'].split('\\n')\n",
    "            choices = [c for c in choices if len(c)]\n",
    "            answer = None\n",
    "            for c in choices:\n",
    "                if a in c:\n",
    "                    answer = c.split('.')[0]\n",
    "                    break\n",
    "            c = '\\n'.join(choices)\n",
    "            \n",
    "            d = {\n",
    "                'prompt_input': None,\n",
    "                'input': f\"Jawab soalan berikut.\\n{q}\\n\\n{c}\",\n",
    "                'output': answer,\n",
    "            }\n",
    "            instructions.append(d)\n",
    "            \n",
    "len(instructions)"
   ]
  },
  {
   "cell_type": "code",
   "execution_count": 19,
   "id": "86563b2f",
   "metadata": {},
   "outputs": [
    {
     "data": {
      "text/plain": [
       "53470"
      ]
     },
     "execution_count": 19,
     "metadata": {},
     "output_type": "execute_result"
    }
   ],
   "source": [
    "for f in glob('/home/husein/ssd3/soalan-augmentation/synthetic-*.jsonl'):\n",
    "    with open(f) as fopen:\n",
    "        for l in fopen:\n",
    "            try:\n",
    "                l = json.loads(l)\n",
    "                d = {\n",
    "                    'prompt_input': None,\n",
    "                    'input': f\"Jawab soalan berikut. {l['question']}\",\n",
    "                    'output': l['answer'],\n",
    "                }\n",
    "                instructions.append(d)\n",
    "            except:\n",
    "                pass\n",
    "len(instructions)"
   ]
  },
  {
   "cell_type": "code",
   "execution_count": 26,
   "id": "b1b52d8d",
   "metadata": {},
   "outputs": [],
   "source": [
    "with open('prepared-kertas-1.jsonl', 'w') as fopen:\n",
    "    for d in instructions:\n",
    "        fopen.write(f'{json.dumps(d)}\\n')"
   ]
  }
 ],
 "metadata": {
  "kernelspec": {
   "display_name": "Python 3 (ipykernel)",
   "language": "python",
   "name": "python3"
  },
  "language_info": {
   "codemirror_mode": {
    "name": "ipython",
    "version": 3
   },
   "file_extension": ".py",
   "mimetype": "text/x-python",
   "name": "python",
   "nbconvert_exporter": "python",
   "pygments_lexer": "ipython3",
   "version": "3.8.10"
  }
 },
 "nbformat": 4,
 "nbformat_minor": 5
}
