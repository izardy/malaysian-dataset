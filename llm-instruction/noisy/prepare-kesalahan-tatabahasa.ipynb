{
 "cells": [
  {
   "cell_type": "code",
   "execution_count": 1,
   "id": "86c25779",
   "metadata": {},
   "outputs": [],
   "source": [
    "from glob import glob\n",
    "import json\n",
    "import random"
   ]
  },
  {
   "cell_type": "code",
   "execution_count": null,
   "id": "49b6b0a8",
   "metadata": {},
   "outputs": [],
   "source": [
    "data = []\n",
    "\n",
    "with open('/home/husein/ssd3/wikipedia-data/kesalahan-tatabahasa-choice.jsonl') as fopen:\n",
    "    for l in fopen:\n",
    "        l = json.loads(l)\n",
    "        \n",
    "        if random.random() > 0.95:\n",
    "            choice = []\n",
    "            for k, v in l['choice'].items():\n",
    "                choice.append(f'{k}. {v}')\n",
    "            choice = '\\n'.join(choice)\n",
    "            s = f\"{l['konteks']}\\n{l['soalan']}\\n{choice}\"\n",
    "            d = {\n",
    "                'prompt_input': None,\n",
    "                'input': s,\n",
    "                'output': l['jawapan'],\n",
    "            }\n",
    "            data.append(d)\n",
    "            \n",
    "        if random.random() > 0.95:\n",
    "            s = f\"{l['konteks']}\\n{l['soalan']} dan berikan jawapan yang betul\"\n",
    "            a = l['choice'][l['jawapan']]\n",
    "            if a != 'tiada kesalahan':\n",
    "                a = f\"{a}, jawapan yang betul adalah '{l['pembetulan']}'\"\n",
    "            d = {\n",
    "                'prompt_input': None,\n",
    "                'input': s,\n",
    "                'output': a,\n",
    "            }\n",
    "            data.append(d)\n",
    "        \n",
    "len(data)"
   ]
  },
  {
   "cell_type": "code",
   "execution_count": null,
   "id": "92c51586",
   "metadata": {},
   "outputs": [],
   "source": [
    "with open('prepared-kesalahan-tatabahasa.jsonl', 'w') as fopen:\n",
    "    for d in data:\n",
    "        fopen.write(f'{json.dumps(d)}\\n')"
   ]
  },
  {
   "cell_type": "code",
   "execution_count": null,
   "id": "9df7f6a3",
   "metadata": {},
   "outputs": [],
   "source": [
    "data[0]"
   ]
  }
 ],
 "metadata": {
  "kernelspec": {
   "display_name": "Python 3 (ipykernel)",
   "language": "python",
   "name": "python3"
  },
  "language_info": {
   "codemirror_mode": {
    "name": "ipython",
    "version": 3
   },
   "file_extension": ".py",
   "mimetype": "text/x-python",
   "name": "python",
   "nbconvert_exporter": "python",
   "pygments_lexer": "ipython3",
   "version": "3.8.10"
  }
 },
 "nbformat": 4,
 "nbformat_minor": 5
}
