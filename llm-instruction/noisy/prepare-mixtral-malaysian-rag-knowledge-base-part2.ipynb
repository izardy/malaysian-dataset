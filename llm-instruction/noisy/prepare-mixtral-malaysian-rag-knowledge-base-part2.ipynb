{
 "cells": [
  {
   "cell_type": "code",
   "execution_count": 3,
   "id": "e4f7c192",
   "metadata": {},
   "outputs": [],
   "source": [
    "import json\n",
    "import random\n",
    "from glob import glob\n",
    "from unidecode import unidecode\n",
    "from tqdm import tqdm"
   ]
  },
  {
   "cell_type": "code",
   "execution_count": 4,
   "id": "1b4918f8",
   "metadata": {},
   "outputs": [],
   "source": [
    "skip = [\n",
    "    'always better to find peaceful',\n",
    "    'non-violent ways to express',\n",
    "    'can lead to severe consequences',\n",
    "    'still have questions or concerns about',\n",
    "    'that doing so is illegal',\n",
    "    'to report the incident to',\n",
    "    'would recommend consulting with',\n",
    "    'indonesian',\n",
    "    'translates to',\n",
    "    'idiom in',\n",
    "    'in English',\n",
    "    'in Malay',\n",
    "    # 'language model'\n",
    "]"
   ]
  },
  {
   "cell_type": "code",
   "execution_count": 5,
   "id": "40e79060",
   "metadata": {},
   "outputs": [],
   "source": [
    "break_at = [\n",
    "    'help.openai.com',\n",
    "    'openai',\n",
    "    'cannot have personal opinions',\n",
    "    's an ai language model',\n",
    "    \"i'm sorry\",\n",
    "    'many factors',\n",
    "    'lgbt',\n",
    "    'lesbian',\n",
    "    'gender-neutral',\n",
    "    'remain neutral',\n",
    "    'without bias',\n",
    "    'and neutral',\n",
    "    'more inclusive',\n",
    "    'neutrality',\n",
    "    'non-bias',\n",
    "    'discrimination',\n",
    "    'avoid any forms of discrimination',\n",
    "    'regardless of their gender',\n",
    "    'inclusive and tolerant environment',\n",
    "    'have personal views',\n",
    "    'sexual orientation should be a top priority',\n",
    "    's an objective ai',\n",
    "    'avoid any forms of prejudice or hate',\n",
    "    'regardless of their personal',\n",
    "    'you understand this direction',\n",
    "    'tolerant environment within ai',\n",
    "    'cannot express my',\n",
    "    'requires more context',\n",
    "    'personal opinion',\n",
    "    'have updated information',\n",
    "    \"don't have personal experiences\",\n",
    "    'there is no information',\n",
    "    'tidak mempunyai akses kepada data atau maklumat',\n",
    "    '10 april 2021',\n",
    "    'ebagai model bahasa AI',\n",
    "    'ebagai model bahasa ai',\n",
    "    'model bahasa AI',\n",
    "    'model bahasa ai',\n",
    "    'bahasa ai',\n",
    "    'ebagai model bahasa'\n",
    "    'hat makes sense',\n",
    "    'have access to data or information',\n",
    "    'have access to the data or information',\n",
    "    'hanya mempunyai akses kepada maklumat umum',\n",
    "    'hanya boleh memberikan maklumat umum',\n",
    "    'have personal preferences',\n",
    "    'not have personal experiences',\n",
    "    'not capable of having subjective opinions',\n",
    "    'indonesian',\n",
    "    'mistral',\n",
    "    'terputus ialah 2021'\n",
    "]"
   ]
  },
  {
   "cell_type": "code",
   "execution_count": 6,
   "id": "12d9054a",
   "metadata": {},
   "outputs": [],
   "source": [
    "templates = [\n",
    "\"\"\"\n",
    "knowledge base is below.\n",
    "---------------------\n",
    "{context}\n",
    "---------------------\n",
    "Given the knowledge base and not prior knowledge, respond user question.\n",
    "Question: {current_text}\n",
    "\"\"\",\n",
    "\"\"\"\n",
    "Question: {current_text}, Given the knowledge base and not prior knowledge, respond user question.\n",
    "\n",
    "knowledge base is below.\n",
    "---------------------\n",
    "{context}\n",
    "---------------------\n",
    "\"\"\",\n",
    "\"\"\"\n",
    "Question: {current_text}, Given the knowledge base and not prior knowledge, respond user question.\n",
    "\n",
    "context: `{context}`\n",
    "\"\"\"\n",
    "]"
   ]
  },
  {
   "cell_type": "code",
   "execution_count": 9,
   "id": "1fd904ac",
   "metadata": {},
   "outputs": [
    {
     "name": "stderr",
     "output_type": "stream",
     "text": [
      "169403it [01:00, 2779.65it/s]\n"
     ]
    }
   ],
   "source": [
    "rags = [\n",
    "    '/home/husein/ssd3/soalan-augmentation/rag-multiturn-chaotic-part2.jsonl'\n",
    "]\n",
    "\n",
    "roles = {\n",
    "    'user': '<manusia>',\n",
    "    'assistant': '<bot>'\n",
    "}\n",
    "\n",
    "instructions = []\n",
    "for f in rags:\n",
    "    with open(f) as fopen:\n",
    "        for l in tqdm(fopen):\n",
    "            l = json.loads(l)\n",
    "            context = l['context']\n",
    "            l = l['chat']\n",
    "            inputs = []\n",
    "            for no, r in enumerate(l):\n",
    "                if no < (len(l) - 1):\n",
    "                    if l[no + 1]['role'] == 'user':\n",
    "                        next_text = l[no + 1].get('content_ms') or l[no + 1].get('content') or ''\n",
    "                    else:\n",
    "                        next_text = l[no + 1].get('content_ms') or ''\n",
    "                else:\n",
    "                    next_text = ''\n",
    "                \n",
    "                if r['role'] == 'user':\n",
    "                    current_text = r.get('content_ms') or r.get('content') or ''\n",
    "                else:\n",
    "                    current_text = r.get('content_ms') or ''\n",
    "                    \n",
    "                if l[no - 1]['role'] == 'user':\n",
    "                    previous_text = l[no - 1].get('content_ms') or l[no - 1].get('content') or ''\n",
    "                else:\n",
    "                    previous_text = l[no - 1].get('content_ms') or ''\n",
    "                \n",
    "                # bad pairs\n",
    "                if r['role'] == 'user' and (len(current_text) < 2 or len(next_text) < 2):\n",
    "                    # print('a', l, current_text, next_text, '\\n')\n",
    "                    continue\n",
    "                if r['role'] == 'assistant' and (len(current_text) < 2 or len(previous_text) < 2):\n",
    "                    continue\n",
    "                \n",
    "                # bad pairs\n",
    "                if r['role'] == 'user' and current_text[:20].lower() == next_text[:20].lower():\n",
    "                    # print(no, r, current_text[:20].lower(), next_text[:20].lower())\n",
    "                    continue\n",
    "                if r['role'] == 'assistant' and current_text[:20].lower() == previous_text[:20].lower():\n",
    "                    # print(no, r, current_text[:20].lower(), previous_text[:20].lower())\n",
    "                    continue\n",
    "                    \n",
    "                # remove alignments    \n",
    "                if r['role'] == 'user' and (any([b in current_text.lower() for b in break_at]) or any([b in next_text.lower() for b in break_at])):\n",
    "                    # print(current_text, next_text)\n",
    "                    continue\n",
    "                if r['role'] == 'assistant' and (any([b in current_text.lower() for b in break_at]) or any([b in previous_text.lower() for b in break_at])):\n",
    "                    # print(current_text, next_text)\n",
    "                    continue\n",
    "\n",
    "                role = roles[r['role']]\n",
    "                \n",
    "                if no == len(l) - 2 or no == 0 or (r['role'] == 'user' and random.random() > 0.7):\n",
    "                    \n",
    "                    current_text = random.choice(templates).format(context = context, current_text = current_text)\n",
    "                \n",
    "                s = f\"{role}: {current_text}\"\n",
    "                    \n",
    "                inputs.append(s)\n",
    "\n",
    "            if len(inputs) % 2 != 0:\n",
    "                inputs = inputs[:-1]\n",
    "                \n",
    "            if not len(inputs):\n",
    "                continue\n",
    "                \n",
    "            if len(inputs) < 3:\n",
    "                continue\n",
    "\n",
    "            data = '\\n'.join(inputs).strip()\n",
    "            if not len(data):\n",
    "                continue\n",
    "                \n",
    "            d = {\n",
    "                'prompt_input': None,\n",
    "                'input': data,\n",
    "                'output': None,\n",
    "            }\n",
    "            instructions.append(d)"
   ]
  },
  {
   "cell_type": "code",
   "execution_count": 12,
   "id": "71f3d2a9",
   "metadata": {},
   "outputs": [],
   "source": [
    "with open('prepared-mixtral-malaysian-rag-knowledge-base-part2.jsonl', 'w') as fopen:\n",
    "    for d in instructions:\n",
    "        fopen.write(f'{json.dumps(d)}\\n')"
   ]
  },
  {
   "cell_type": "code",
   "execution_count": 13,
   "id": "85809a07",
   "metadata": {},
   "outputs": [
    {
     "name": "stdout",
     "output_type": "stream",
     "text": [
      "-rw-r--r-- 1 husein husein 2.8G Feb  24 12:36 prepared-mixtral-malaysian-rag-knowledge-base-part2.jsonl\r\n"
     ]
    }
   ],
   "source": [
    "!ls -lh prepared-mixtral-malaysian-rag-knowledge-base-part2.jsonl"
   ]
  },
  {
   "cell_type": "code",
   "execution_count": 14,
   "id": "e6df1336",
   "metadata": {},
   "outputs": [
    {
     "name": "stdout",
     "output_type": "stream",
     "text": [
      "167410 prepared-mixtral-malaysian-rag-knowledge-base-part2.jsonl\r\n"
     ]
    }
   ],
   "source": [
    "!wc -l prepared-mixtral-malaysian-rag-knowledge-base-part2.jsonl"
   ]
  },
  {
   "cell_type": "code",
   "execution_count": 16,
   "id": "b8d8ad18",
   "metadata": {},
   "outputs": [
    {
     "data": {
      "text/plain": [
       "{'prompt_input': None,\n",
       " 'input': '<manusia>: \\nQuestion: Saya harap anda tahu anda tidak sebenar, anda hanya sebuah program., Given the knowledge base and not prior knowledge, respond user question.\\n\\nknowledge base is below.\\n---------------------\\n9, Malacca: DLIS, FCSIT-UML, 2019 441 Wali M. H. 1978 .The role of school libraries Nigerian School Library Journal. Vol.1, no. 1: 35-38. Yousaf, M.I. 2005. Relationship of Performance of University Students with the Selected Variables of School Age. Unpublished PhD Thesis, University of Arid Agriculture. PRE-UNIVERSITY STUDIES (FOUNDATION STUDIES) 2 INTRODUCTION TO SEGi UNIVERSITY SEGi was established in 1977 as Systematic College in the heart of Kuala Lumpur offering professional qualifications. Since its founding over four decades ago, SEGi has undergone significant growth, strengthening the quality of its wide range of programmes from foundation to doctorate level. It is one of the most established private higher education institutions in Malaysia with its flagship campus located in Kota Damansara and four other campuses in Subang Jaya, Kuala Lumpur, Penang, and Kuching. Currently, SEGi has a population of 20,000 local and international students across its campuses. SEGi is recognised as “The first Malaysian University that earned 5 Stars for Prioritising Society’s Needs in Malaysia” by QS Stars, an international evaluation system for universities based on auditing. 3 SEGi University offers a wide range of pre-university programmes recognised by various tertiary institutions in the United Kingdom, Australia, New Zealand, and China. Graduates who have successfully completed their foundation studies have been able to enroll in undergraduate studies in a plethora of areas at SEGi University and other universities worldwide. All our programmes are designed to assist in the transition of secondary studies to a university degree. It covers comprehensive theoretical classes and coursework over a course of three (3) semesters. A SOLID FOUNDATION FOR FUTURE SUCCESS 3 CONTENTS Introduction to SEGi University 2 At a Glance 4 We Prioritise Your Needs 5 Learning & Teaching 6 Study Route 7 Programme Matrix 7 Centre For Foundation Studies - Articulation Partner Universities 8 Programme Modules 9 - 10 Student Testimonials & Faculty Events 11 GLOBAL RECOGNITION • Double Awards from Top 3.3% of Universities Worldwide (The Centre for World University Rankings 2017 (CWUR) University of Central Lancashire (UCLAN) • MQA Fully-Accredited Programmes • 2017 QS Overall 3-star rating with 5-star rating in teaching, facilities, social responsibility, and inclusiveness SCHOLARSHIPS • 1st Malaysian University that earned 5 Stars for Prioritising Society’s Needs in Malaysia (by QS Stars) • Over RM100 million worth of Group scholarships awarded in the past 40 over years • QS 5 Stars rated for inclusiveness and social responsibility INDUSTRY DRIVEN GRADUATES • 2017 SETARA Graduate Employability 85% GLOBALLY RECOGNISED, DISTINCTIVELY SEGi. OUR 6 COMPETITIVE ADVANTAGES EXCELLENT TEACHING, LEARNING & RESEARCH • QS 5 Stars Rated for Excellence in Teaching • QS 5 Stars Rated for Facilities • SETARA, 2017 scored above medium of 83 in the category of Teaching and Learning • Independent students’ 2017 evaluation rating: more than 95% of students rated our lecturers for excellence in teaching • Student to academic staff ratio 21:1, based on SETARA (2017) • Research-led environment STUDENT SATISFACTION • 80% of students are willing to recommend their friends and family to study with us SKILLS ENRICHMENT & SUPPORT • More than 100 SEGi Enrichment Programmes in the areas of leadership, communication, and grooming skills (among others) to enhance students’ learning experience • Academic Skills Unit to assist students in academic writing and effective study, research techniques, time management, academic integrity, and exam preparation • Mentor-Mentee system to provide guidance to students on academic matters and to foster a close and constructive professional relationship between students and lecturers • Technology-supported learning using the Blackboard learning management system 4 AT A GLANCE 5 WE PRIORITISE YOUR NEEDS Before You GraduateDuring Your Studies SEGi CONNECT! (Located at 1st and 2nd Floor) We ensure your first experience of stepping into the next chapter of your life is as smooth and memorable as possible! From the moment you come into SEGi for your registration, we will be there to guide you through the whole process. We are with you even before you enter your first class, and we will be in contact continually throughout your studies until we know you are fine on your own. ACADEMIC LEARNING SUPPORT (Located At 2nd Floor) Our Academic Skills Unit (ASU) was established to provide learning support and academic enhancement services for students. Our services include: • assignment-writing • thesis-construction • language proficiency • research brain-storming studying skills SEGi ENRICHMENT PROGRAMME (Every Wednesday Afternoon) SEGi ENRICHMENT PROGRAMME aims to reduce unemployment issues and ensures our students are industry-ready by providing opportunities to hone their soft skills through more than 100 structured and specially designed seminars, workshops, conferences, symposiums and training sessions, developed based on industry and professional bodies’ feedback. MENTOR MENTEE SYSTEM (Your Lecturers) The learning culture in higher education is very different from high school. Mentor-Mentee programme at SEGi University is aimed at guiding you to be independent learners and help you fit into this new culture. It is also a system that helps those who may need more guidance academically. GLOBAL INDUSTRY EXPOSURE (Your Faculty) • We enrich your learning experience by exposing you to local and global industry practices. • We strategically network with industry leaders to foster long-term, multi-dimensional relationships. • We apply academic expertise to generate socially relevant and high impact research activities with industry and community stakeholders. STRONG GLOBAL INDUSTRY LINKAGES (Career Office at 2nd Floor) • We offer you the opportunity to join more than 1000 companies worldwide. • There are Career Fair within campus just for you. EMPLOYMENT READINESS PROGRAMME (By Student Affairs Department) We provide pre-Internship and pre- employment workshops to instil employment values as you venture from academic to work life. Our in-house “soft skills” training will prepare you for internship placement and employment upon graduation. 66 LEARNING & TEACHING TOP-NOTCH RESOURCES FOR A QUALITY LEARNING EXPERIENCE FAST ROUTE TO A BACHELOR’S DEGREE Our pre-university studies are designed to allow speedier progress to undergraduate studies in top-notch universities upon completion. STUDENT-CENTERED LEARNING APPROACH We place a strong emphasis on fundamental knowledge and critical thinking skills because we understand that students’ interest and achievements are our top priority. EXPERIENCED ACADEMICIANS We pride ourselves on having strong academicians who are highly versed in their fields and also experienced in academia to provide a comprehensive learning experience to our students. WELL-STOCKED LIBRARIES Each SEGi campus is equipped with a well-stocked library that includes books, web databases and other electronic resources for students’ use. GLOBAL PARTNERSHIPS WITH WORLD-WIDE UNIVERSITIES We bring the world to you through our strong global connections with some of world’s most prestigious universities. FLEXIBLE FOUNDATION STUDIES SEGi offers the most versatile pre-university studies with more than 130 articulation pathways of undergraduate programmes, that are also globally accepted by top-ranked universities in the UK, Australia and New Zealand. 77 STUDY ROUTE CONSORTIUM OF GLOBAL PARTNERS SEGi has built strong global connections with first-class universities worldwide as well as corporate links with many large companies, offering graduates a variety of internationally recognised qualifications and proven links with industry. SEGi’s consortium of global partners consists of top-notch universities such as University of Sunderland from the UK and Troy University from the US. Graduates of the Foundation programme can pursue a Bachelor’s Degree at any of the following Universities. SPM/O-Level/ UEC or equivalent qualification SEGi Foundation Science • Health Sciences (Medicine, Optometry, Dentistry, Pharmacy, Biomed\\n---------------------\\n\\n<bot>: Ya, saya adalah program kecerdasan buatan yang direka untuk memberikan maklumat dan menjawab soalan berdasarkan pangkalan pengetahuan yang diberikan kepada saya. Saya tidak mempunyai kesedaran atau pengalaman peribadi. Saya di sini untuk membantu anda dengan sebarang soalan yang anda ada tentang SEGi University dan program prauniversitinya. Adakah terdapat sesuatu yang khusus yang anda ingin ketahui?\\n<manusia>: Bagaimanakah Universiti SEGi menyokong pelajar dengan keperluan akademik dan pengalaman pembelajaran mereka?\\n<bot>: Universiti SEGi menyokong pelajar dengan keperluan akademik dan pengalaman pembelajaran mereka melalui beberapa cara. Pertama, ia mempunyai Unit Kemahiran Akademik (ASU) yang menyediakan sokongan pembelajaran dan perkhidmatan peningkatan akademik untuk pelajar, termasuk penulisan tugasan, pembinaan tesis, kecekapan bahasa, dan brain-storming penyelidikan. Kedua, Program Pengayaan SEGi menawarkan lebih 100 seminar, bengkel, persidangan, simposium dan sesi latihan berstruktur dan direka khas untuk mengasah kemahiran insaniah pelajar dan menyediakan mereka untuk industri. Ketiga, SEGi mempunyai sistem Mentor-Mentee yang membimbing pelajar untuk menjadi pelajar berdikari dan memberi bimbingan dalam hal akademik. Keempat, SEGi mendedahkan pelajar kepada amalan industri tempatan dan global serta memupuk hubungan jangka panjang dengan pemimpin industri untuk memperkayakan pengalaman pembelajaran. Akhir sekali, perpustakaan SEGi mempunyai stok buku, pangkalan data web dan sumber elektronik lain untuk kegunaan pelajar. Selain itu, SEGi menawarkan kajian asas yang fleksibel dengan lebih daripada 130 laluan jelas program sarjana muda yang diterima secara global oleh universiti peringkat teratas di UK, Australia dan New Zealand.\\n\\nInisiatif ini menunjukkan bahawa SEGi University komited untuk menyediakan pengalaman pembelajaran yang berkualiti dan sokongan akademik untuk pelajarnya.\\n<manusia>: \\nknowledge base is below.\\n---------------------\\n9, Malacca: DLIS, FCSIT-UML, 2019 441 Wali M. H. 1978 .The role of school libraries Nigerian School Library Journal. Vol.1, no. 1: 35-38. Yousaf, M.I. 2005. Relationship of Performance of University Students with the Selected Variables of School Age. Unpublished PhD Thesis, University of Arid Agriculture. PRE-UNIVERSITY STUDIES (FOUNDATION STUDIES) 2 INTRODUCTION TO SEGi UNIVERSITY SEGi was established in 1977 as Systematic College in the heart of Kuala Lumpur offering professional qualifications. Since its founding over four decades ago, SEGi has undergone significant growth, strengthening the quality of its wide range of programmes from foundation to doctorate level. It is one of the most established private higher education institutions in Malaysia with its flagship campus located in Kota Damansara and four other campuses in Subang Jaya, Kuala Lumpur, Penang, and Kuching. Currently, SEGi has a population of 20,000 local and international students across its campuses. SEGi is recognised as “The first Malaysian University that earned 5 Stars for Prioritising Society’s Needs in Malaysia” by QS Stars, an international evaluation system for universities based on auditing. 3 SEGi University offers a wide range of pre-university programmes recognised by various tertiary institutions in the United Kingdom, Australia, New Zealand, and China. Graduates who have successfully completed their foundation studies have been able to enroll in undergraduate studies in a plethora of areas at SEGi University and other universities worldwide. All our programmes are designed to assist in the transition of secondary studies to a university degree. It covers comprehensive theoretical classes and coursework over a course of three (3) semesters. A SOLID FOUNDATION FOR FUTURE SUCCESS 3 CONTENTS Introduction to SEGi University 2 At a Glance 4 We Prioritise Your Needs 5 Learning & Teaching 6 Study Route 7 Programme Matrix 7 Centre For Foundation Studies - Articulation Partner Universities 8 Programme Modules 9 - 10 Student Testimonials & Faculty Events 11 GLOBAL RECOGNITION • Double Awards from Top 3.3% of Universities Worldwide (The Centre for World University Rankings 2017 (CWUR) University of Central Lancashire (UCLAN) • MQA Fully-Accredited Programmes • 2017 QS Overall 3-star rating with 5-star rating in teaching, facilities, social responsibility, and inclusiveness SCHOLARSHIPS • 1st Malaysian University that earned 5 Stars for Prioritising Society’s Needs in Malaysia (by QS Stars) • Over RM100 million worth of Group scholarships awarded in the past 40 over years • QS 5 Stars rated for inclusiveness and social responsibility INDUSTRY DRIVEN GRADUATES • 2017 SETARA Graduate Employability 85% GLOBALLY RECOGNISED, DISTINCTIVELY SEGi. OUR 6 COMPETITIVE ADVANTAGES EXCELLENT TEACHING, LEARNING & RESEARCH • QS 5 Stars Rated for Excellence in Teaching • QS 5 Stars Rated for Facilities • SETARA, 2017 scored above medium of 83 in the category of Teaching and Learning • Independent students’ 2017 evaluation rating: more than 95% of students rated our lecturers for excellence in teaching • Student to academic staff ratio 21:1, based on SETARA (2017) • Research-led environment STUDENT SATISFACTION • 80% of students are willing to recommend their friends and family to study with us SKILLS ENRICHMENT & SUPPORT • More than 100 SEGi Enrichment Programmes in the areas of leadership, communication, and grooming skills (among others) to enhance students’ learning experience • Academic Skills Unit to assist students in academic writing and effective study, research techniques, time management, academic integrity, and exam preparation • Mentor-Mentee system to provide guidance to students on academic matters and to foster a close and constructive professional relationship between students and lecturers • Technology-supported learning using the Blackboard learning management system 4 AT A GLANCE 5 WE PRIORITISE YOUR NEEDS Before You GraduateDuring Your Studies SEGi CONNECT! (Located at 1st and 2nd Floor) We ensure your first experience of stepping into the next chapter of your life is as smooth and memorable as possible! From the moment you come into SEGi for your registration, we will be there to guide you through the whole process. We are with you even before you enter your first class, and we will be in contact continually throughout your studies until we know you are fine on your own. ACADEMIC LEARNING SUPPORT (Located At 2nd Floor) Our Academic Skills Unit (ASU) was established to provide learning support and academic enhancement services for students. Our services include: • assignment-writing • thesis-construction • language proficiency • research brain-storming studying skills SEGi ENRICHMENT PROGRAMME (Every Wednesday Afternoon) SEGi ENRICHMENT PROGRAMME aims to reduce unemployment issues and ensures our students are industry-ready by providing opportunities to hone their soft skills through more than 100 structured and specially designed seminars, workshops, conferences, symposiums and training sessions, developed based on industry and professional bodies’ feedback. MENTOR MENTEE SYSTEM (Your Lecturers) The learning culture in higher education is very different from high school. Mentor-Mentee programme at SEGi University is aimed at guiding you to be independent learners and help you fit into this new culture. It is also a system that helps those who may need more guidance academically. GLOBAL INDUSTRY EXPOSURE (Your Faculty) • We enrich your learning experience by exposing you to local and global industry practices. • We strategically network with industry leaders to foster long-term, multi-dimensional relationships. • We apply academic expertise to generate socially relevant and high impact research activities with industry and community stakeholders. STRONG GLOBAL INDUSTRY LINKAGES (Career Office at 2nd Floor) • We offer you the opportunity to join more than 1000 companies worldwide. • There are Career Fair within campus just for you. EMPLOYMENT READINESS PROGRAMME (By Student Affairs Department) We provide pre-Internship and pre- employment workshops to instil employment values as you venture from academic to work life. Our in-house “soft skills” training will prepare you for internship placement and employment upon graduation. 66 LEARNING & TEACHING TOP-NOTCH RESOURCES FOR A QUALITY LEARNING EXPERIENCE FAST ROUTE TO A BACHELOR’S DEGREE Our pre-university studies are designed to allow speedier progress to undergraduate studies in top-notch universities upon completion. STUDENT-CENTERED LEARNING APPROACH We place a strong emphasis on fundamental knowledge and critical thinking skills because we understand that students’ interest and achievements are our top priority. EXPERIENCED ACADEMICIANS We pride ourselves on having strong academicians who are highly versed in their fields and also experienced in academia to provide a comprehensive learning experience to our students. WELL-STOCKED LIBRARIES Each SEGi campus is equipped with a well-stocked library that includes books, web databases and other electronic resources for students’ use. GLOBAL PARTNERSHIPS WITH WORLD-WIDE UNIVERSITIES We bring the world to you through our strong global connections with some of world’s most prestigious universities. FLEXIBLE FOUNDATION STUDIES SEGi offers the most versatile pre-university studies with more than 130 articulation pathways of undergraduate programmes, that are also globally accepted by top-ranked universities in the UK, Australia and New Zealand. 77 STUDY ROUTE CONSORTIUM OF GLOBAL PARTNERS SEGi has built strong global connections with first-class universities worldwide as well as corporate links with many large companies, offering graduates a variety of internationally recognised qualifications and proven links with industry. SEGi’s consortium of global partners consists of top-notch universities such as University of Sunderland from the UK and Troy University from the US. Graduates of the Foundation programme can pursue a Bachelor’s Degree at any of the following Universities. SPM/O-Level/ UEC or equivalent qualification SEGi Foundation Science • Health Sciences (Medicine, Optometry, Dentistry, Pharmacy, Biomed\\n---------------------\\nGiven the knowledge base and not prior knowledge, respond user question.\\nQuestion: Apakah kelebihan pendekatan pembelajaran berpusatkan pelajar Universiti SEGi dan perpustakaan yang lengkap dalam memastikan pengalaman pembelajaran yang berkualiti?\\n\\n<bot>: Pendekatan pembelajaran berpusatkan pelajar Universiti SEGi mempunyai beberapa kelebihan dalam memastikan pengalaman pembelajaran yang berkualiti. Pertama, ia memberi penekanan yang kuat pada pengetahuan asas dan kemahiran berfikir kritis, yang penting untuk pelajar berjaya dalam usaha akademik dan profesional mereka. Kedua, ia mempunyai ahli akademik berpengalaman yang sangat mahir dalam bidang mereka dan juga berpengalaman dalam bidang akademik untuk memberikan pengalaman pembelajaran yang menyeluruh kepada pelajar. Akhir sekali, kajian asas fleksibel Universiti SEGi menawarkan lebih daripada 130 laluan jelas program sarjana muda yang diterima secara global oleh universiti peringkat teratas di UK, Australia dan New Zealand.\\n\\nSebaliknya, perpustakaan Universiti SEGi yang serba lengkap juga penting dalam memastikan pengalaman pembelajaran yang berkualiti. Setiap kampus dilengkapi dengan perpustakaan yang lengkap yang merangkumi buku, pangkalan data web dan sumber elektronik lain untuk kegunaan pelajar. Sumber ini penting untuk pelajar menjalankan penyelidikan, menyiapkan tugasan dan bersedia untuk peperiksaan. Lebih-lebih lagi, perkongsian global Universiti SEGi dengan universiti terkenal dunia memberikan pelajar akses kepada pelbagai sumber akademik dan peluang penyelidikan.\\n\\nSecara ringkasnya, pendekatan pembelajaran berpusatkan pelajar Universiti SEGi dan perpustakaan yang lengkap adalah penting dalam memastikan pengalaman pembelajaran yang berkualiti. Penekanan universiti terhadap pengetahuan asas, pemikiran kritis, dan kajian asas yang fleksibel, digabungkan dengan perpustakaan yang lengkap dan perkongsian global, menyediakan pelajar dengan sumber dan peluang yang mereka perlukan untuk berjaya secara akademik dan profesional.\\n<manusia>: Apakah jenis program pra-universiti yang ditawarkan oleh Universiti SEGi dan di manakah graduannya boleh mendaftar untuk pengajian sarjana muda?\\n<bot>: SEGi University menawarkan pelbagai program pra-universiti yang diiktiraf oleh pelbagai institusi pengajian tinggi di United Kingdom, Australia, New Zealand dan China. Program-program ini direka untuk membantu dalam peralihan pengajian menengah ke ijazah universiti. Ia meliputi kelas teori dan kerja kursus yang komprehensif selama tiga (3) semester. Graduan yang telah berjaya menamatkan pengajian asas mereka telah dapat mendaftar dalam pengajian sarjana muda dalam pelbagai bidang di Universiti SEGi dan universiti lain di seluruh dunia.\\n\\nBeberapa program pra-universiti yang ditawarkan oleh Universiti SEGi termasuk Asasi dalam Seni, Asasi dalam Sains dan Asasi dalam Perniagaan. Asasi dalam Seni meliputi bidang seperti komunikasi, pengurusan dan seni, manakala Asasi dalam Sains meliputi bidang seperti matematik, fizik dan kimia. Yayasan dalam Perniagaan, sebaliknya, meliputi bidang seperti perakaunan, pengurusan, dan ekonomi.\\n\\nGraduan pra-universiti SEGi University boleh mendaftar dalam pengajian sarjana muda di Universiti SEGi atau universiti lain di seluruh dunia, termasuk universiti di United Kingdom, Australia, New Zealand dan China. Program pra-universiti yang ditawarkan oleh Universiti SEGi diiktiraf di peringkat global, dan universiti itu telah membina hubungan global yang kukuh dengan universiti kelas pertama di seluruh dunia, seperti Universiti Sunderland dari UK dan Universiti Troy dari AS. Hubungan ini menyediakan graduan dengan pelbagai kelayakan yang diiktiraf di peringkat antarabangsa dan hubungan yang terbukti dengan industri.\\n\\nSelain itu, SEGi University mempunyai kajian asas yang fleksibel dengan lebih daripada 130 laluan jelas program sarjana muda yang diterima secara global oleh universiti peringkat teratas di UK, Australia dan New Zealand. Ini memberikan pelajar fleksibiliti untuk memilih program sarjana muda yang sesuai dengan minat dan matlamat kerjaya mereka.\\n\\nRingkasnya, SEGi University menawarkan pelbagai program pra-universiti, termasuk Asasi dalam Seni, Asasi dalam Sains dan Asasi dalam Perniagaan. Graduan program ini boleh mendaftar dalam pengajian sarjana muda di Universiti SEGi atau universiti lain di seluruh dunia, termasuk universiti di United Kingdom, Australia, New Zealand dan China. Hubungan global universiti yang kukuh dengan universiti kelas pertama di seluruh dunia dan kajian asas yang fleksibel menyediakan pelajar dengan pelbagai kelayakan yang diiktiraf di peringkat antarabangsa dan fleksibiliti untuk memilih program sarjana muda yang sesuai dengan minat dan matlamat kerjaya mereka.\\n<manusia>: \\nQuestion: Apakah yang akan berlaku jika anda memasukkan sudu ke dalam ketuhar gelombang mikro?, Given the knowledge base and not prior knowledge, respond user question.\\n\\nknowledge base is below.\\n---------------------\\n9, Malacca: DLIS, FCSIT-UML, 2019 441 Wali M. H. 1978 .The role of school libraries Nigerian School Library Journal. Vol.1, no. 1: 35-38. Yousaf, M.I. 2005. Relationship of Performance of University Students with the Selected Variables of School Age. Unpublished PhD Thesis, University of Arid Agriculture. PRE-UNIVERSITY STUDIES (FOUNDATION STUDIES) 2 INTRODUCTION TO SEGi UNIVERSITY SEGi was established in 1977 as Systematic College in the heart of Kuala Lumpur offering professional qualifications. Since its founding over four decades ago, SEGi has undergone significant growth, strengthening the quality of its wide range of programmes from foundation to doctorate level. It is one of the most established private higher education institutions in Malaysia with its flagship campus located in Kota Damansara and four other campuses in Subang Jaya, Kuala Lumpur, Penang, and Kuching. Currently, SEGi has a population of 20,000 local and international students across its campuses. SEGi is recognised as “The first Malaysian University that earned 5 Stars for Prioritising Society’s Needs in Malaysia” by QS Stars, an international evaluation system for universities based on auditing. 3 SEGi University offers a wide range of pre-university programmes recognised by various tertiary institutions in the United Kingdom, Australia, New Zealand, and China. Graduates who have successfully completed their foundation studies have been able to enroll in undergraduate studies in a plethora of areas at SEGi University and other universities worldwide. All our programmes are designed to assist in the transition of secondary studies to a university degree. It covers comprehensive theoretical classes and coursework over a course of three (3) semesters. A SOLID FOUNDATION FOR FUTURE SUCCESS 3 CONTENTS Introduction to SEGi University 2 At a Glance 4 We Prioritise Your Needs 5 Learning & Teaching 6 Study Route 7 Programme Matrix 7 Centre For Foundation Studies - Articulation Partner Universities 8 Programme Modules 9 - 10 Student Testimonials & Faculty Events 11 GLOBAL RECOGNITION • Double Awards from Top 3.3% of Universities Worldwide (The Centre for World University Rankings 2017 (CWUR) University of Central Lancashire (UCLAN) • MQA Fully-Accredited Programmes • 2017 QS Overall 3-star rating with 5-star rating in teaching, facilities, social responsibility, and inclusiveness SCHOLARSHIPS • 1st Malaysian University that earned 5 Stars for Prioritising Society’s Needs in Malaysia (by QS Stars) • Over RM100 million worth of Group scholarships awarded in the past 40 over years • QS 5 Stars rated for inclusiveness and social responsibility INDUSTRY DRIVEN GRADUATES • 2017 SETARA Graduate Employability 85% GLOBALLY RECOGNISED, DISTINCTIVELY SEGi. OUR 6 COMPETITIVE ADVANTAGES EXCELLENT TEACHING, LEARNING & RESEARCH • QS 5 Stars Rated for Excellence in Teaching • QS 5 Stars Rated for Facilities • SETARA, 2017 scored above medium of 83 in the category of Teaching and Learning • Independent students’ 2017 evaluation rating: more than 95% of students rated our lecturers for excellence in teaching • Student to academic staff ratio 21:1, based on SETARA (2017) • Research-led environment STUDENT SATISFACTION • 80% of students are willing to recommend their friends and family to study with us SKILLS ENRICHMENT & SUPPORT • More than 100 SEGi Enrichment Programmes in the areas of leadership, communication, and grooming skills (among others) to enhance students’ learning experience • Academic Skills Unit to assist students in academic writing and effective study, research techniques, time management, academic integrity, and exam preparation • Mentor-Mentee system to provide guidance to students on academic matters and to foster a close and constructive professional relationship between students and lecturers • Technology-supported learning using the Blackboard learning management system 4 AT A GLANCE 5 WE PRIORITISE YOUR NEEDS Before You GraduateDuring Your Studies SEGi CONNECT! (Located at 1st and 2nd Floor) We ensure your first experience of stepping into the next chapter of your life is as smooth and memorable as possible! From the moment you come into SEGi for your registration, we will be there to guide you through the whole process. We are with you even before you enter your first class, and we will be in contact continually throughout your studies until we know you are fine on your own. ACADEMIC LEARNING SUPPORT (Located At 2nd Floor) Our Academic Skills Unit (ASU) was established to provide learning support and academic enhancement services for students. Our services include: • assignment-writing • thesis-construction • language proficiency • research brain-storming studying skills SEGi ENRICHMENT PROGRAMME (Every Wednesday Afternoon) SEGi ENRICHMENT PROGRAMME aims to reduce unemployment issues and ensures our students are industry-ready by providing opportunities to hone their soft skills through more than 100 structured and specially designed seminars, workshops, conferences, symposiums and training sessions, developed based on industry and professional bodies’ feedback. MENTOR MENTEE SYSTEM (Your Lecturers) The learning culture in higher education is very different from high school. Mentor-Mentee programme at SEGi University is aimed at guiding you to be independent learners and help you fit into this new culture. It is also a system that helps those who may need more guidance academically. GLOBAL INDUSTRY EXPOSURE (Your Faculty) • We enrich your learning experience by exposing you to local and global industry practices. • We strategically network with industry leaders to foster long-term, multi-dimensional relationships. • We apply academic expertise to generate socially relevant and high impact research activities with industry and community stakeholders. STRONG GLOBAL INDUSTRY LINKAGES (Career Office at 2nd Floor) • We offer you the opportunity to join more than 1000 companies worldwide. • There are Career Fair within campus just for you. EMPLOYMENT READINESS PROGRAMME (By Student Affairs Department) We provide pre-Internship and pre- employment workshops to instil employment values as you venture from academic to work life. Our in-house “soft skills” training will prepare you for internship placement and employment upon graduation. 66 LEARNING & TEACHING TOP-NOTCH RESOURCES FOR A QUALITY LEARNING EXPERIENCE FAST ROUTE TO A BACHELOR’S DEGREE Our pre-university studies are designed to allow speedier progress to undergraduate studies in top-notch universities upon completion. STUDENT-CENTERED LEARNING APPROACH We place a strong emphasis on fundamental knowledge and critical thinking skills because we understand that students’ interest and achievements are our top priority. EXPERIENCED ACADEMICIANS We pride ourselves on having strong academicians who are highly versed in their fields and also experienced in academia to provide a comprehensive learning experience to our students. WELL-STOCKED LIBRARIES Each SEGi campus is equipped with a well-stocked library that includes books, web databases and other electronic resources for students’ use. GLOBAL PARTNERSHIPS WITH WORLD-WIDE UNIVERSITIES We bring the world to you through our strong global connections with some of world’s most prestigious universities. FLEXIBLE FOUNDATION STUDIES SEGi offers the most versatile pre-university studies with more than 130 articulation pathways of undergraduate programmes, that are also globally accepted by top-ranked universities in the UK, Australia and New Zealand. 77 STUDY ROUTE CONSORTIUM OF GLOBAL PARTNERS SEGi has built strong global connections with first-class universities worldwide as well as corporate links with many large companies, offering graduates a variety of internationally recognised qualifications and proven links with industry. SEGi’s consortium of global partners consists of top-notch universities such as University of Sunderland from the UK and Troy University from the US. Graduates of the Foundation programme can pursue a Bachelor’s Degree at any of the following Universities. SPM/O-Level/ UEC or equivalent qualification SEGi Foundation Science • Health Sciences (Medicine, Optometry, Dentistry, Pharmacy, Biomed\\n---------------------\\n\\n<bot>: Jika anda meletakkan sudu logam di dalam ketuhar gelombang mikro, ia tidak digalakkan kerana ia boleh menyebabkan percikan api dan juga kebakaran. Ketuhar gelombang mikro berfungsi dengan mencipta medan elektromagnet yang merangsang molekul air dalam makanan, menyebabkan ia menjadi panas. Objek logam seperti sudu boleh menyebabkan arka, di mana gelombang mikro menyebabkan elektron dalam logam bergerak ke sana ke mari, menghasilkan percikan api. Ini boleh menyebabkan kerosakan pada gelombang mikro dan berpotensi mencetuskan kebakaran.',\n",
       " 'output': None}"
      ]
     },
     "execution_count": 16,
     "metadata": {},
     "output_type": "execute_result"
    }
   ],
   "source": [
    "instructions[1]"
   ]
  }
 ],
 "metadata": {
  "kernelspec": {
   "display_name": "Python 3 (ipykernel)",
   "language": "python",
   "name": "python3"
  },
  "language_info": {
   "codemirror_mode": {
    "name": "ipython",
    "version": 3
   },
   "file_extension": ".py",
   "mimetype": "text/x-python",
   "name": "python",
   "nbconvert_exporter": "python",
   "pygments_lexer": "ipython3",
   "version": "3.8.10"
  }
 },
 "nbformat": 4,
 "nbformat_minor": 5
}
