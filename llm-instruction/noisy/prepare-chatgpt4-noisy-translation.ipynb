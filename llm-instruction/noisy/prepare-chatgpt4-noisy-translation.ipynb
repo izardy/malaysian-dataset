{
 "cells": [
  {
   "cell_type": "code",
   "execution_count": 5,
   "id": "7a969267",
   "metadata": {},
   "outputs": [],
   "source": [
    "import json\n",
    "from glob import glob\n",
    "from unidecode import unidecode\n",
    "import random"
   ]
  },
  {
   "cell_type": "code",
   "execution_count": 26,
   "id": "c085cf02",
   "metadata": {
    "scrolled": true
   },
   "outputs": [
    {
     "name": "stdout",
     "output_type": "stream",
     "text": [
      "17927 /home/husein/ssd3/translation/negeri-utara.jsonl\r\n"
     ]
    }
   ],
   "source": [
    "!wc -l /home/husein/ssd3/translation/negeri-utara.jsonl"
   ]
  },
  {
   "cell_type": "code",
   "execution_count": 24,
   "id": "51639c7b",
   "metadata": {},
   "outputs": [],
   "source": [
    "instructions = []"
   ]
  },
  {
   "cell_type": "code",
   "execution_count": 25,
   "id": "8fba2d21",
   "metadata": {},
   "outputs": [
    {
     "data": {
      "text/plain": [
       "19747"
      ]
     },
     "execution_count": 25,
     "metadata": {},
     "output_type": "execute_result"
    }
   ],
   "source": [
    "prompts = [\n",
    "    'terjemah ke bahasa kelantan',\n",
    "    'translate to kelantanese',\n",
    "    'terjemah ke loghat kelantan'\n",
    "]\n",
    "\n",
    "with open('/home/husein/ssd3/translation/negeri-kelantan.jsonl') as fopen:\n",
    "    for l in fopen:\n",
    "        l = json.loads(l)\n",
    "        \n",
    "        if not len(l['r']['translation']):\n",
    "            continue\n",
    "            \n",
    "        if random.random() > 0.7:\n",
    "            s = l['original']['original']\n",
    "        else:\n",
    "            s = l['original']['ms']\n",
    "        a = l['r']['translation']\n",
    "        prompt = f'{s}\\n{random.choice(prompts)}'\n",
    "        \n",
    "        d = {\n",
    "            'prompt_input': None,\n",
    "            'input': prompt,\n",
    "            'output': a,\n",
    "        }\n",
    "        instructions.append(d)\n",
    "        \n",
    "len(instructions)"
   ]
  },
  {
   "cell_type": "code",
   "execution_count": 27,
   "id": "934eec57",
   "metadata": {},
   "outputs": [
    {
     "data": {
      "text/plain": [
       "37674"
      ]
     },
     "execution_count": 27,
     "metadata": {},
     "output_type": "execute_result"
    }
   ],
   "source": [
    "prompts = [\n",
    "    'terjemah ke bahasa utara',\n",
    "    'translate to kedahan',\n",
    "    'terjemah ke loghat utara'\n",
    "]\n",
    "\n",
    "with open('/home/husein/ssd3/translation/negeri-utara.jsonl') as fopen:\n",
    "    for l in fopen:\n",
    "        l = json.loads(l)\n",
    "        \n",
    "        if not len(l['r']['translation']):\n",
    "            continue\n",
    "            \n",
    "        if random.random() > 0.7:\n",
    "            s = l['original']['original']\n",
    "        else:\n",
    "            s = l['original']['ms']\n",
    "        a = l['r']['translation']\n",
    "        prompt = f'{s}\\n{random.choice(prompts)}'\n",
    "        \n",
    "        d = {\n",
    "            'prompt_input': None,\n",
    "            'input': prompt,\n",
    "            'output': a,\n",
    "        }\n",
    "        instructions.append(d)\n",
    "        \n",
    "len(instructions)"
   ]
  },
  {
   "cell_type": "code",
   "execution_count": 31,
   "id": "c7cc2ed0",
   "metadata": {},
   "outputs": [
    {
     "data": {
      "text/plain": [
       "{'prompt_input': None,\n",
       " 'input': 'Jika saya mempunyai RM8k, saya sudah akan menempah untuk pergi ke Austin....\\ntranslate to kedahan',\n",
       " 'output': 'Jek kalu haku ada RM8k, haku dah tempoh nak pegi Austin....'}"
      ]
     },
     "execution_count": 31,
     "metadata": {},
     "output_type": "execute_result"
    }
   ],
   "source": [
    "instructions[-4]"
   ]
  },
  {
   "cell_type": "code",
   "execution_count": 32,
   "id": "5e2760ee",
   "metadata": {},
   "outputs": [],
   "source": [
    "with open('prepared-chatgpt4-noisy-translation.jsonl', 'w') as fopen:\n",
    "    for d in instructions:\n",
    "        fopen.write(f'{json.dumps(d)}\\n')"
   ]
  }
 ],
 "metadata": {
  "kernelspec": {
   "display_name": "Python 3 (ipykernel)",
   "language": "python",
   "name": "python3"
  },
  "language_info": {
   "codemirror_mode": {
    "name": "ipython",
    "version": 3
   },
   "file_extension": ".py",
   "mimetype": "text/x-python",
   "name": "python",
   "nbconvert_exporter": "python",
   "pygments_lexer": "ipython3",
   "version": "3.8.10"
  }
 },
 "nbformat": 4,
 "nbformat_minor": 5
}
