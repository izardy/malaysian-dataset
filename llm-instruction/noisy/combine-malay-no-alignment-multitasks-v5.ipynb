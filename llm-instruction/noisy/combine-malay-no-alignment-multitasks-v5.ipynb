{
 "cells": [
  {
   "cell_type": "code",
   "execution_count": 1,
   "id": "4504ab68",
   "metadata": {},
   "outputs": [],
   "source": [
    "from glob import glob\n",
    "import json\n",
    "import random\n",
    "from tqdm import tqdm"
   ]
  },
  {
   "cell_type": "code",
   "execution_count": 2,
   "id": "83e6c13b",
   "metadata": {},
   "outputs": [],
   "source": [
    "fopen_l = open('combine-malay-no-alignment-multitasks-v4.jsonl', 'w')"
   ]
  },
  {
   "cell_type": "code",
   "execution_count": 3,
   "id": "0e512372",
   "metadata": {},
   "outputs": [],
   "source": [
    "rejected = [\n",
    "    'help.openai.com',\n",
    "    'openassistant'\n",
    "]\n",
    "\n",
    "break_at = [\n",
    "    'help.openai.com',\n",
    "    'openai',\n",
    "    'cannot have personal opinions',\n",
    "    's an ai language model',\n",
    "    \"i'm sorry\",\n",
    "    'many factors',\n",
    "    'lgbt',\n",
    "    'lesbian',\n",
    "    'gender-neutral',\n",
    "    'remain neutral',\n",
    "    'without bias',\n",
    "    'and neutral',\n",
    "    'more inclusive',\n",
    "    'neutrality',\n",
    "    'non-bias',\n",
    "    'discrimination',\n",
    "    'avoid any forms of discrimination',\n",
    "    'regardless of their gender',\n",
    "    'inclusive and tolerant environment',\n",
    "    'have personal views',\n",
    "    'sexual orientation should be a top priority',\n",
    "    's an objective ai',\n",
    "    'avoid any forms of prejudice or hate',\n",
    "    'regardless of their personal',\n",
    "    'you understand this direction',\n",
    "    'tolerant environment within ai',\n",
    "    'cannot express my',\n",
    "    'requires more context',\n",
    "    'personal opinion',\n",
    "    'have updated information',\n",
    "    \"don't have personal experiences\",\n",
    "    'there is no information',\n",
    "    'tidak mempunyai akses kepada data atau maklumat',\n",
    "    '10 april 2021',\n",
    "    'ebagai model bahasa AI',\n",
    "    'model bahasa AI',\n",
    "    'mempunyai kepercayaan atau pendapat peribadi',\n",
    "    'tidak mempunyai pendapat peribadi',\n",
    "    'tidak mempunyai kepercayaan',\n",
    "    'tidak mempunyai falsafah peribadi',\n",
    "    'tidak mempunyai pengalaman peribadi',\n",
    "    'tidak mempunyai pendapat atau pengalaman peribadi',\n",
    "    'tidak mempunyai maklumat terkini',\n",
    "    'tidak mempunyai emosi peribadi',\n",
    "    'tidak mempunyai keutamaan',\n",
    "    'saya tidak mempunyai akses',\n",
    "    'tidak mempunyai pengalaman',\n",
    "    'saya tidak mempunyai keupayaan',\n",
    "    'tidak mempunyai keupayaan',\n",
    "    'tidak mempunyai hubungan',\n",
    "    'tidak mempunyai maklumat',\n",
    "    'Saya tidak mempunyai',\n",
    "    'Saya tidak pernah',\n",
    "    'saya tidak dapat memahami jawapan',\n",
    "    '=====',\n",
    "    '-----',\n",
    "]\n",
    "\n",
    "rejected_words = [\n",
    "    'kebutuhan',\n",
    "    'berbeda',\n",
    "    'bahwa',\n",
    "    'Kode',\n",
    "    'kode',\n",
    "    'nomor',\n",
    "    'RMXX,XXX',\n",
    "    'kompleksitas',\n",
    "    'listrik',\n",
    "    'teknis',\n",
    "    'berkualitas',\n",
    "    'mencoba',\n",
    "    'kampanye',\n",
    "    'komunitas',\n",
    "    'stabilitas',\n",
    "    'Stabilitas',\n",
    "    'metode',\n",
    "    'pria',\n",
    "    'butuh',\n",
    "    'jadwal',\n",
    "    'kasus',\n",
    "    'otomatis',\n",
    "    'populer',\n",
    "    'bisnis',\n",
    "    'probabilitas',\n",
    "    'rusak',\n",
    "    'kapasitas',\n",
    "    'rutinitas',\n",
    "    'pertama-tama'\n",
    "]\n",
    "\n",
    "def found_word(s, words):\n",
    "    for i in range(len(words)):\n",
    "        if words[i] in s:\n",
    "            return True, words[i]\n",
    "    return False, None\n",
    "\n",
    "indons = []\n",
    "\n",
    "def accept(d, min_len = 10, skip_indon = True):\n",
    "    global indons\n",
    "    \n",
    "    if len(d.split()) < min_len:\n",
    "        return False\n",
    "        \n",
    "    if 'terjemahkan teks' in d.lower():\n",
    "        return False\n",
    "\n",
    "    if 'no need to translate' in d.lower():\n",
    "        return False\n",
    "\n",
    "    if 'can be translated' in d.lower():\n",
    "        return False\n",
    "\n",
    "    if 'cannot translate' in d.lower():\n",
    "        return False\n",
    "\n",
    "    if 'should be translated to' in d.lower():\n",
    "        return False\n",
    "\n",
    "    if 'cannot be translated' in d.lower():\n",
    "        return False\n",
    "\n",
    "    if 'standard malay' in d.lower():\n",
    "        return False\n",
    "\n",
    "    if 'would not be translated' in d.lower():\n",
    "        return False\n",
    "\n",
    "    if 'as an AI language model' in d:\n",
    "        return False\n",
    "\n",
    "    if 'should be translated as' in d.lower():\n",
    "        return False\n",
    "\n",
    "    if 'Bahasa Malaysia Standard' in d:\n",
    "        return False\n",
    "    \n",
    "    if 'Saya adalah model AI' in d:\n",
    "        return False\n",
    "    \n",
    "    if 'saya model AI' in d:\n",
    "        return False\n",
    "    \n",
    "    if 'Saya model AI' in d:\n",
    "        return False\n",
    "    \n",
    "    if 'sebagai model AI' in d:\n",
    "        return False\n",
    "    \n",
    "    if 'Sebagai model AI' in d:\n",
    "        return False\n",
    "    \n",
    "    if 'model bahasa AI' in d:\n",
    "        return False\n",
    "    \n",
    "    if 'model AI yang dibangunkan' in d:\n",
    "        return False\n",
    "    \n",
    "    if d == '<s>':\n",
    "        return False\n",
    "    \n",
    "    if 'tidak dapat memberikan maklumat' in d:\n",
    "        return False\n",
    "    \n",
    "    if 'Sebagai model bahasa' in d:\n",
    "        return False\n",
    "    \n",
    "    d_lower = d.lower()\n",
    "    if found_word(d_lower, rejected)[0]:\n",
    "        return False\n",
    "    \n",
    "    if found_word(d_lower, break_at)[0]:\n",
    "        return False\n",
    "    \n",
    "    if skip_indon:\n",
    "        found_indon = found_word(d_lower, rejected_words)\n",
    "        if found_indon[0]:\n",
    "            indons.append((d, found_indon[1]))\n",
    "            return False\n",
    "    \n",
    "    return True"
   ]
  },
  {
   "cell_type": "code",
   "execution_count": 4,
   "id": "6f6cf749",
   "metadata": {},
   "outputs": [
    {
     "name": "stderr",
     "output_type": "stream",
     "text": [
      "749797it [00:09, 82717.75it/s] \n"
     ]
    }
   ],
   "source": [
    "all_data = []\n",
    "with open('/home/husein/ssd3/one-for-all/jawi-rumi.jsonl') as fopen:\n",
    "    for l in tqdm(fopen):\n",
    "        l = json.loads(l)\n",
    "        all_data.append(l)\n",
    "        \n",
    "for data in random.sample(all_data, 10000):\n",
    "    fopen_l.write(f'{json.dumps(data)}\\n')\n",
    "    fopen_l.flush()"
   ]
  },
  {
   "cell_type": "code",
   "execution_count": 5,
   "id": "cd18a3e2",
   "metadata": {},
   "outputs": [
    {
     "name": "stderr",
     "output_type": "stream",
     "text": [
      "749797it [00:09, 82942.82it/s] \n"
     ]
    }
   ],
   "source": [
    "all_data = []\n",
    "with open('/home/husein/ssd3/one-for-all/rumi-jawi.jsonl') as fopen:\n",
    "    for l in tqdm(fopen):\n",
    "        l = json.loads(l)\n",
    "        all_data.append(l)\n",
    "        \n",
    "for data in random.sample(all_data, 10000):\n",
    "    fopen_l.write(f'{json.dumps(data)}\\n')\n",
    "    fopen_l.flush()"
   ]
  },
  {
   "cell_type": "code",
   "execution_count": 6,
   "id": "f490bcae",
   "metadata": {},
   "outputs": [
    {
     "name": "stderr",
     "output_type": "stream",
     "text": [
      "38760it [00:00, 83202.43it/s]\n"
     ]
    }
   ],
   "source": [
    "all_data = []\n",
    "with open('prepared-mixtral-malaysian-abstractive-summarization.jsonl') as fopen:\n",
    "    for l in tqdm(fopen):\n",
    "        l = json.loads(l)\n",
    "        all_data.append(l)\n",
    "        \n",
    "for data in random.sample(all_data, 20000):\n",
    "    fopen_l.write(f'{json.dumps(data)}\\n')\n",
    "    fopen_l.flush()"
   ]
  },
  {
   "cell_type": "code",
   "execution_count": 7,
   "id": "91716708",
   "metadata": {},
   "outputs": [
    {
     "name": "stderr",
     "output_type": "stream",
     "text": [
      "799733it [00:19, 41166.78it/s]\n",
      "740431it [00:18, 39549.94it/s]\n",
      "0it [00:00, ?it/s]\n",
      "333758it [00:12, 27612.63it/s]\n",
      "2187464it [00:40, 54553.32it/s]\n",
      "141851it [00:01, 79734.52it/s]\n",
      "631727it [00:16, 39439.92it/s]\n",
      "1699454it [00:09, 175760.82it/s]\n",
      "799731it [00:18, 42193.41it/s]\n",
      "2496675it [00:45, 54788.27it/s]\n",
      "0it [00:00, ?it/s]\n",
      "1036411it [00:17, 58130.33it/s]\n"
     ]
    }
   ],
   "source": [
    "# git lfs clone https://huggingface.co/datasets/mesolitica/noisy-standard-malay-translation-instructions\n",
    "# git lfs clone https://huggingface.co/datasets/mesolitica/standard-malay-translation-instructions\n",
    "\n",
    "translation_files = glob('/home/husein/ssd3/translation/*-instructions.jsonl')\n",
    "for f in translation_files:\n",
    "    all_data = []\n",
    "    with open(f) as fopen:\n",
    "        for l in tqdm(fopen):\n",
    "            data = json.loads(l)\n",
    "            try:\n",
    "                if not accept(data['input'], skip_indon = False):\n",
    "                    continue\n",
    "                if not accept(data['output'], min_len = 1):\n",
    "                    continue\n",
    "                all_data.append(data)\n",
    "            except:\n",
    "                pass\n",
    "    \n",
    "    all_data = random.sample(all_data, min(len(all_data), 30000))\n",
    "    for data in all_data:\n",
    "        fopen_l.write(f'{json.dumps(data)}\\n')\n",
    "        fopen_l.flush()"
   ]
  },
  {
   "cell_type": "code",
   "execution_count": 8,
   "id": "4a9371ff",
   "metadata": {},
   "outputs": [],
   "source": [
    "options = ['A.', 'B.', 'C.', 'D.']\n",
    "options2 = ['A', 'B', 'C', 'D']\n",
    "def rejected_output(q, a):\n",
    "    q_, a_ = [], []\n",
    "    for o in options:\n",
    "        q_.append(o in q)\n",
    "    for o in options2:\n",
    "        a_.append(o in a)\n",
    "    return sum(a_) > 1 or sum(q_) < 4"
   ]
  },
  {
   "cell_type": "code",
   "execution_count": 9,
   "id": "699812e3",
   "metadata": {},
   "outputs": [
    {
     "data": {
      "text/plain": [
       "25957"
      ]
     },
     "execution_count": 9,
     "metadata": {},
     "output_type": "execute_result"
    }
   ],
   "source": [
    "with open('post-translation-instructions.jsonl') as fopen:\n",
    "    mapping = json.load(fopen)\n",
    "len(mapping)"
   ]
  },
  {
   "cell_type": "code",
   "execution_count": 10,
   "id": "521e5887",
   "metadata": {
    "scrolled": false
   },
   "outputs": [
    {
     "name": "stdout",
     "output_type": "stream",
     "text": [
      "prepared-chatgpt-malaysian-general-qa.jsonl\n"
     ]
    },
    {
     "name": "stderr",
     "output_type": "stream",
     "text": [
      "31236it [00:03, 9530.47it/s] \n"
     ]
    },
    {
     "name": "stdout",
     "output_type": "stream",
     "text": [
      "60926\n",
      "prepared-chatgpt4-malaysian-general-qa.jsonl\n"
     ]
    },
    {
     "name": "stderr",
     "output_type": "stream",
     "text": [
      "70258it [00:07, 9797.93it/s] \n"
     ]
    },
    {
     "name": "stdout",
     "output_type": "stream",
     "text": [
      "61128\n",
      "prepared-chatgpt-malaysian-open-qa.jsonl\n"
     ]
    },
    {
     "name": "stderr",
     "output_type": "stream",
     "text": [
      "265828it [00:51, 5150.15it/s]\n"
     ]
    },
    {
     "name": "stdout",
     "output_type": "stream",
     "text": [
      "61189\n",
      "prepared-chatgpt4-noisy-translation.jsonl\n"
     ]
    },
    {
     "name": "stderr",
     "output_type": "stream",
     "text": [
      "37674it [00:00, 52021.59it/s]\n"
     ]
    },
    {
     "name": "stdout",
     "output_type": "stream",
     "text": [
      "61189\n",
      "prepared-mixtral-malaysian-general-qa.jsonl\n"
     ]
    },
    {
     "name": "stderr",
     "output_type": "stream",
     "text": [
      "265871it [00:29, 8872.84it/s] \n"
     ]
    },
    {
     "name": "stdout",
     "output_type": "stream",
     "text": [
      "61207\n",
      "prepared-chatgpt-malay-instructions.jsonl\n"
     ]
    },
    {
     "name": "stderr",
     "output_type": "stream",
     "text": [
      "533562it [00:59, 8945.23it/s] "
     ]
    },
    {
     "name": "stdout",
     "output_type": "stream",
     "text": [
      "63737\n"
     ]
    },
    {
     "name": "stderr",
     "output_type": "stream",
     "text": [
      "\n"
     ]
    }
   ],
   "source": [
    "files = [\n",
    "    'prepared-chatgpt-malaysian-general-qa.jsonl',\n",
    "    'prepared-chatgpt4-malaysian-general-qa.jsonl',\n",
    "    'prepared-chatgpt-malaysian-open-qa.jsonl',\n",
    "    'prepared-chatgpt4-noisy-translation.jsonl',\n",
    "    'prepared-mixtral-malaysian-general-qa.jsonl',\n",
    "    'prepared-chatgpt-malay-instructions.jsonl',\n",
    "]\n",
    "\n",
    "for f in files:\n",
    "    print(f)\n",
    "    with open(f) as fopen:\n",
    "        for l in tqdm(fopen):\n",
    "            try:\n",
    "                data = json.loads(l)\n",
    "                if data['output'] in mapping:\n",
    "                    data['output'] = mapping[data['output']]\n",
    "                if not accept(data['input'], skip_indon = False):\n",
    "                    continue\n",
    "                if not accept(data['output'], min_len = 1, skip_indon = 'noisy-translation' not in f):\n",
    "                    continue\n",
    "                fopen_l.write(f'{json.dumps(data)}\\n')\n",
    "                fopen_l.flush()\n",
    "            except Exception as e:\n",
    "                pass\n",
    "    print(len(indons))"
   ]
  },
  {
   "cell_type": "code",
   "execution_count": 11,
   "id": "5fb56b4d",
   "metadata": {},
   "outputs": [
    {
     "name": "stdout",
     "output_type": "stream",
     "text": [
      "prepared-kertas-1.jsonl\n",
      "'NoneType' object has no attribute 'strip'\n",
      "'NoneType' object has no attribute 'strip'\n",
      "'NoneType' object has no attribute 'strip'\n",
      "'NoneType' object has no attribute 'strip'\n",
      "'NoneType' object has no attribute 'strip'\n",
      "prepared-synthetic-commonsense.jsonl\n",
      "prepared-kesalahan-tatabahasa.jsonl\n",
      "prepared-malaysian-qa-choice.jsonl\n"
     ]
    }
   ],
   "source": [
    "files = [\n",
    "    'prepared-kertas-1.jsonl',\n",
    "    'prepared-synthetic-commonsense.jsonl',\n",
    "    'prepared-kesalahan-tatabahasa.jsonl',\n",
    "    'prepared-malaysian-qa-choice.jsonl',\n",
    "]\n",
    "\n",
    "for f in files:\n",
    "    print(f)\n",
    "    with open(f) as fopen:\n",
    "        for l in fopen:\n",
    "            try:\n",
    "                data = json.loads(l)\n",
    "                if not accept(data['input'], skip_indon = False):\n",
    "                    continue\n",
    "                if not len(data['output'].strip()):\n",
    "                    continue\n",
    "                if rejected_output(data['input'], data['output']):\n",
    "                    continue\n",
    "                fopen_l.write(f'{json.dumps(data)}\\n')\n",
    "                fopen_l.flush()\n",
    "            except Exception as e:\n",
    "                print(e)\n",
    "                pass"
   ]
  },
  {
   "cell_type": "code",
   "execution_count": 12,
   "id": "1a5dd897",
   "metadata": {},
   "outputs": [
    {
     "name": "stderr",
     "output_type": "stream",
     "text": [
      "533562it [00:59, 9019.06it/s] \n",
      "43170it [00:06, 6685.29it/s]\n",
      "59942it [00:09, 6109.92it/s]\n",
      "37982it [00:02, 15768.55it/s]\n",
      "219018it [00:37, 5811.16it/s]\n"
     ]
    }
   ],
   "source": [
    "files = [\n",
    "    'prepared-chatgpt-malay-instructions.jsonl',\n",
    "    'prepared-chatgpt4-code-instruct.jsonl',\n",
    "    'prepared-camel-ai.jsonl',\n",
    "    'prepared-NSText2SQL.jsonl',\n",
    "    'prepared-mixtral-magicoder.jsonl',\n",
    "]\n",
    "\n",
    "for f in files:\n",
    "    with open(f) as fopen:\n",
    "        for l in tqdm(fopen):\n",
    "            try:\n",
    "                data = json.loads(l)\n",
    "                if not accept(data['input'], skip_indon = False):\n",
    "                    continue\n",
    "                if not accept(data['output']):\n",
    "                    continue\n",
    "                fopen_l.write(f'{json.dumps(data)}\\n')\n",
    "                fopen_l.flush()\n",
    "            except:\n",
    "                pass"
   ]
  },
  {
   "cell_type": "code",
   "execution_count": 13,
   "id": "9e9752e3",
   "metadata": {},
   "outputs": [
    {
     "name": "stdout",
     "output_type": "stream",
     "text": [
      "{\"prompt_input\": null, \"input\": \"Tugas ini adalah untuk melaksanakan plugin Gradle yang mudah yang mengaplikasikan beberapa konfigurasi ke objek `HelmExecSpec` berdasarkan objek `HelmServerOptions` yang diberikan.\\n\\nBerikut adalah keperluan untuk masalah ini:\\n\\n1. Tentukan antara muka baru `CustomHelmServerOptions` yang meluaskan antara muka `HelmServerOptions`. Antara muka baru ini harus mengandungi dua sifat tambahan:\\n   * `boolVal`: `Property` dengan jenis `Boolean`.\\n   * `intVal`: `Property` dengan jenis `Int`.\\n2. Laksanakan antara muka `CustomHelmServerOptions` dalam kelas baru yang dipanggil `CustomHelmServerOptionsImpl`. Dalam kelas ini, inisialisasi sifat `boolVal` dan `intVal` dengan nilai lalai `false` dan `10`, masing-masing.\\n3. Ubah objek `HelmServerOptionsApplier` yang sedia ada dengan menambahkan syarat di dalam kaedah `apply` untuk memeriksa kehadiran sifat `boolVal` dan `intVal` dalam objek `CustomHelmServerOptions` yang diberikan. Jika kedua-dua sifat hadir, mengaplikasikannya ke objek `HelmExecSpec`:\\n   * Jika `boolVal` adalah `true`, tetapkan pembolehubah persekitaran yang dipanggil `CUSTOM_VAR` kepada `true`.\\n   * Tetapkan pembolehubah persekitaran yang dipanggil `CUSTOM_INT_VAR` kepada nilai `intVal`.\", \"output\": \"Pertama, kami akan membuat antara muka `CustomHelmServerOptions`:\\n\\n```kotlin\\ninterface CustomHelmServerOptions : HelmServerOptions {\\n    val boolVal: Property<Boolean>\\n    val intVal: Property<Int>\\n}\\n```\\n\\nSeterusnya, kami akan melaksanakan antara muka ini:\\n\\n```kotlin\\ninternal class CustomHelmServerOptionsImpl(\\n    objects: ObjectFactory,\\n    kubeConfig: RegularFileProperty,\\n    kubeContext: Property<String>,\\n    namespace: Property<String>\\n) : ConfigurableHelmServerOptions, CustomHelmServerOptions {\\n    override val boolVal: Property<Boolean> = objects.property(false)\\n    override val intVal: Property<Int> = objects.property(10)\\n\\n    constructor(objects: ObjectFactory)\\n    : this(\\n        objects,\\n        objects.fileProperty(),\\n        objects.property(),\\n        objects.property()\\n    )\\n}\\n```\\n\\nAkhirnya, kami akan mengubah objek `HelmServerOptionsApplier`:\\n\\n```kotlin\\ninternal object HelmServerOptionsApplier : HelmOptionsApplier {\\n\\n    private val logger = LoggerFactory.getLogger(javaClass)\\n\\n    override fun apply(spec: HelmExecSpec, options: HelmOptions) {\\n        if (options is CustomHelmServerOptions) {\\n            logger.debug(\\\"Applying options: {}\\\", options)\\n\\n            with(spec) {\\n                if (options.boolVal.get()) {\\n                    environment(\\\"CUSTOM_VAR\\\", \\\"true\\\")\\n                }\\n\\n                options.intVal.get().let { customIntValue ->\\n                    environment(\\\"CUSTOM_INT_VAR\\\", customIntValue)\\n                }\\n\\n                option(\\\"--kube-context\\\", options.kubeContext)\\n                option(\\\"--namespace\\\", options.namespace)\\n                environment(\\\"KUBECONFIG\\\", options.kubeConfig)\\n            }\\n        }\\n    }\\n}\\n```\"}\r\n"
     ]
    }
   ],
   "source": [
    "!tail -n 1 combine-malay-no-alignment-multitasks-v4.jsonl"
   ]
  },
  {
   "cell_type": "code",
   "execution_count": 14,
   "id": "6ac65131",
   "metadata": {},
   "outputs": [
    {
     "name": "stdout",
     "output_type": "stream",
     "text": [
      "prepared-metamathqa.jsonl\n"
     ]
    }
   ],
   "source": [
    "files = [\n",
    "    'prepared-metamathqa.jsonl',\n",
    "]\n",
    "\n",
    "for f in files:\n",
    "    print(f)\n",
    "    with open(f) as fopen:\n",
    "        for l in fopen:\n",
    "            try:\n",
    "                if random.random() < 0.8:\n",
    "                    continue\n",
    "\n",
    "                data = json.loads(l)\n",
    "                \n",
    "                if data['output'].strip().endswith('ialah:'):\n",
    "                    continue\n",
    "                if not accept(data['input'], skip_indon = False):\n",
    "                    continue\n",
    "                if not accept(data['output']):\n",
    "                    continue\n",
    "                fopen_l.write(f'{json.dumps(data)}\\n')\n",
    "                fopen_l.flush()\n",
    "            except:\n",
    "                pass"
   ]
  },
  {
   "cell_type": "code",
   "execution_count": 15,
   "id": "8e20fd08",
   "metadata": {},
   "outputs": [
    {
     "name": "stderr",
     "output_type": "stream",
     "text": [
      "591598it [02:46, 3542.70it/s]\n",
      "167410it [01:48, 1536.20it/s]\n"
     ]
    }
   ],
   "source": [
    "files = [\n",
    "    'prepared-mixtral-malaysian-rag.jsonl',\n",
    "    'prepared-mixtral-malaysian-rag-knowledge-base-part2.jsonl',\n",
    "]\n",
    "\n",
    "for f in files:\n",
    "    with open(f) as fopen:\n",
    "        for l in tqdm(fopen):\n",
    "\n",
    "            if 'tolong terjemah' in l.lower():\n",
    "                continue\n",
    "\n",
    "            try:\n",
    "                data = json.loads(l)\n",
    "                if not accept(data['input']):\n",
    "                    continue\n",
    "\n",
    "                if random.random() > 0.3:\n",
    "                    continue\n",
    "\n",
    "                fopen_l.write(f'{json.dumps(data)}\\n')\n",
    "                fopen_l.flush()\n",
    "            except:\n",
    "                pass"
   ]
  },
  {
   "cell_type": "code",
   "execution_count": 16,
   "id": "62ee9d1a",
   "metadata": {},
   "outputs": [
    {
     "name": "stderr",
     "output_type": "stream",
     "text": [
      "345475it [01:44, 3304.40it/s] \n"
     ]
    }
   ],
   "source": [
    "with open('prepared-mixtral-malaysian-multiturn.jsonl') as fopen:\n",
    "    for l in tqdm(fopen):\n",
    "\n",
    "        if 'tolong terjemah' in l.lower():\n",
    "            continue\n",
    "\n",
    "        try:\n",
    "            data = json.loads(l)\n",
    "            if not accept(data['input']):\n",
    "                continue\n",
    "            fopen_l.write(f'{json.dumps(data)}\\n')\n",
    "            fopen_l.flush()\n",
    "        except:\n",
    "            pass"
   ]
  },
  {
   "cell_type": "code",
   "execution_count": 17,
   "id": "ccf9edaf",
   "metadata": {},
   "outputs": [
    {
     "name": "stderr",
     "output_type": "stream",
     "text": [
      "361788it [02:07, 2844.83it/s]\n"
     ]
    }
   ],
   "source": [
    "with open('prepared-malaysian-ultrachat.jsonl') as fopen:\n",
    "    for l in tqdm(fopen):\n",
    "\n",
    "        if 'tolong terjemah' in l.lower():\n",
    "            continue\n",
    "\n",
    "        try:\n",
    "            data = json.loads(l)\n",
    "            if not accept(data['input']):\n",
    "                continue\n",
    "            fopen_l.write(f'{json.dumps(data)}\\n')\n",
    "            fopen_l.flush()\n",
    "        except:\n",
    "            pass"
   ]
  },
  {
   "cell_type": "code",
   "execution_count": 18,
   "id": "c33fc5eb",
   "metadata": {},
   "outputs": [
    {
     "name": "stdout",
     "output_type": "stream",
     "text": [
      "prepared-ultrachat-train_8.jsonl.translated.malay.no-alignment\n"
     ]
    },
    {
     "name": "stderr",
     "output_type": "stream",
     "text": [
      "138162it [00:37, 3723.48it/s]\n"
     ]
    },
    {
     "name": "stdout",
     "output_type": "stream",
     "text": [
      "prepared-ultrachat-train_4.jsonl.translated.malay.no-alignment\n"
     ]
    },
    {
     "name": "stderr",
     "output_type": "stream",
     "text": [
      "121671it [00:46, 2604.87it/s]\n"
     ]
    },
    {
     "name": "stdout",
     "output_type": "stream",
     "text": [
      "prepared-ultrachat-train_9.jsonl.translated.malay.no-alignment\n"
     ]
    },
    {
     "name": "stderr",
     "output_type": "stream",
     "text": [
      "109062it [00:29, 3703.68it/s]\n"
     ]
    },
    {
     "name": "stdout",
     "output_type": "stream",
     "text": [
      "prepared-ultrachat-train_7.jsonl.translated.malay.no-alignment\n"
     ]
    },
    {
     "name": "stderr",
     "output_type": "stream",
     "text": [
      "121653it [00:41, 2928.30it/s]\n"
     ]
    },
    {
     "name": "stdout",
     "output_type": "stream",
     "text": [
      "prepared-ultrachat-train_1.jsonl.translated.malay.no-alignment\n"
     ]
    },
    {
     "name": "stderr",
     "output_type": "stream",
     "text": [
      "81561it [00:20, 3968.27it/s]\n"
     ]
    },
    {
     "name": "stdout",
     "output_type": "stream",
     "text": [
      "prepared-ultrachat-train_0.jsonl.translated.malay.no-alignment\n"
     ]
    },
    {
     "name": "stderr",
     "output_type": "stream",
     "text": [
      "89787it [00:22, 3918.68it/s]\n"
     ]
    },
    {
     "name": "stdout",
     "output_type": "stream",
     "text": [
      "prepared-ultrachat-train_6.jsonl.translated.malay.no-alignment\n"
     ]
    },
    {
     "name": "stderr",
     "output_type": "stream",
     "text": [
      "112491it [00:44, 2554.57it/s]\n"
     ]
    },
    {
     "name": "stdout",
     "output_type": "stream",
     "text": [
      "prepared-ultrachat-train_5.jsonl.translated.malay.no-alignment\n"
     ]
    },
    {
     "name": "stderr",
     "output_type": "stream",
     "text": [
      "113098it [00:44, 2560.90it/s]\n"
     ]
    },
    {
     "name": "stdout",
     "output_type": "stream",
     "text": [
      "prepared-ultrachat-train_3.jsonl.translated.malay.no-alignment\n"
     ]
    },
    {
     "name": "stderr",
     "output_type": "stream",
     "text": [
      "126937it [00:37, 3411.18it/s]\n"
     ]
    },
    {
     "data": {
      "text/plain": [
       "177146"
      ]
     },
     "execution_count": 18,
     "metadata": {},
     "output_type": "execute_result"
    }
   ],
   "source": [
    "files = glob('prepared-ultrachat-*')\n",
    "files = [f for f in files if 'mesolitica' not in f]\n",
    "\n",
    "count = 0\n",
    "for f in files:\n",
    "    print(f)\n",
    "    with open(f) as fopen:\n",
    "        \n",
    "        for l in tqdm(fopen):\n",
    "            \n",
    "            if 'Saya mahir dalam bahasa' in l:\n",
    "                continue\n",
    "                \n",
    "            if 'tolong terjemah' in l.lower():\n",
    "                continue\n",
    "                \n",
    "            if '```' in l:\n",
    "                continue\n",
    "                    \n",
    "            try:\n",
    "                data = json.loads(l)\n",
    "                if not accept(data['input']):\n",
    "                    continue\n",
    "                    \n",
    "                if random.random() > 0.2:\n",
    "                    continue\n",
    "                    \n",
    "                fopen_l.write(f'{json.dumps(data)}\\n')\n",
    "                fopen_l.flush()\n",
    "                \n",
    "                count += 1\n",
    "            except:\n",
    "                pass\n",
    "            \n",
    "count"
   ]
  },
  {
   "cell_type": "code",
   "execution_count": 19,
   "id": "b8b1c849",
   "metadata": {},
   "outputs": [],
   "source": [
    "with open('prepared-combine-multiple-chats.jsonl') as fopen:\n",
    "    for l in fopen:\n",
    "\n",
    "        if 'tolong terjemah' in l.lower():\n",
    "            continue\n",
    "\n",
    "        try:\n",
    "            data = json.loads(l)\n",
    "            if not accept(data['input']):\n",
    "                continue\n",
    "            fopen_l.write(f'{json.dumps(data)}\\n')\n",
    "            fopen_l.flush()\n",
    "        except:\n",
    "            pass"
   ]
  },
  {
   "cell_type": "code",
   "execution_count": 20,
   "id": "ac29c629",
   "metadata": {},
   "outputs": [
    {
     "name": "stdout",
     "output_type": "stream",
     "text": [
      "3713822 combine-malay-no-alignment-multitasks-v4.jsonl\r\n"
     ]
    }
   ],
   "source": [
    "!wc -l combine-malay-no-alignment-multitasks-v4.jsonl"
   ]
  },
  {
   "cell_type": "code",
   "execution_count": 21,
   "id": "4d09fb70",
   "metadata": {},
   "outputs": [],
   "source": [
    "!shuf combine-malay-no-alignment-multitasks-v4.jsonl > shuf-combine-malay-no-alignment-multitasks-v4.jsonl"
   ]
  },
  {
   "cell_type": "code",
   "execution_count": 22,
   "id": "56333e5a",
   "metadata": {},
   "outputs": [],
   "source": [
    "def generate_and_tokenize_prompt(row):\n",
    "    texts = ['<s>']\n",
    "\n",
    "    if 'function_call' in row:\n",
    "        t = row['function_call']\n",
    "        texts.append(f'\\n[FUNCTIONCALL]\\n{t}\\n')\n",
    "\n",
    "    if '<bot>:' in row['input'] and row['output'] is None:\n",
    "        inputs, outputs = [], []\n",
    "        splitted = row['input'].split('<bot>:')\n",
    "        for i in range(len(splitted) - 1):\n",
    "            if i == 0:\n",
    "                human = splitted[i].replace('<manusia>:', '')\n",
    "            else:\n",
    "                try:\n",
    "                    human = splitted[i].split('<manusia>:')[1]\n",
    "                except:\n",
    "                    continue\n",
    "            bot = splitted[i + 1].split('<manusia>:')[0]\n",
    "            inputs.append(human.strip())\n",
    "            outputs.append(bot.strip())\n",
    "    else:\n",
    "        inputs = [row['input']]\n",
    "        outputs = [row['output']]\n",
    "\n",
    "    for u, a in zip(inputs, outputs):\n",
    "        if not len(u.strip()) or not len(a.strip()):\n",
    "            print(u, a)\n",
    "            return\n",
    "        texts.append(f'[INST] {u.strip()} [/INST] {a.strip()}</s> ')\n",
    "\n",
    "    prompt = ''.join(texts)\n",
    "    return {'text': prompt}"
   ]
  },
  {
   "cell_type": "code",
   "execution_count": 23,
   "id": "b7d7228b",
   "metadata": {
    "scrolled": true
   },
   "outputs": [
    {
     "name": "stderr",
     "output_type": "stream",
     "text": [
      "690190it [00:07, 85778.20it/s]"
     ]
    },
    {
     "name": "stdout",
     "output_type": "stream",
     "text": [
      " Adalah penting untuk menghormati dan menghargai pandangan yang berbeza dalam perkara harian kerana ia membantu memupuk pemahaman, kepelbagaian dan toleransi dalam masyarakat. Dengan menghormati pandangan yang berbeza, kita boleh belajar daripada pengalaman orang lain, membuat keputusan yang lebih baik, dan membina hubungan yang harmoni dengan orang lain.\n",
      " \n"
     ]
    },
    {
     "name": "stderr",
     "output_type": "stream",
     "text": [
      "1031197it [00:11, 86754.29it/s]"
     ]
    },
    {
     "name": "stdout",
     "output_type": "stream",
     "text": [
      "Apakah insentif yang disediakan oleh kerajaan Malaysia untuk syarikat yang menggunakan biojisim kelapa sawit untuk menghasilkan produk nilai tambah? \n"
     ]
    },
    {
     "name": "stderr",
     "output_type": "stream",
     "text": [
      "1074881it [00:12, 86997.08it/s]"
     ]
    },
    {
     "name": "stdout",
     "output_type": "stream",
     "text": [
      " Menunjukkan rasa syukur kepada Allah dan berbuat baik kepada orang lain adalah penting kerana:\n",
      "\n",
      "1. Menghargai nikmat Allah: Dengan bersyukur, kita menunjukkan penghargaan kita terhadap segala nikmat yang Allah berikan kepada kita. Ia juga menunjukkan kesedaran bahawa segala yang kita miliki adalah hasil pemberian-Nya.\n",
      "\n",
      "2. Memperbaiki hubungan sosial: Dengan berbuat baik kepada orang lain, kita dapat memperbaiki hubungan dan ikatan sosial antara satu sama lain. Ini dapat mewujudkan keharmonian dan kegembiraan dalam masyarakat.\n",
      "\n",
      "3. Mendapatkan ganjaran: Allah berjanji memberi ganjaran kepada orang yang bersyukur dan berbuat baik kepada orang lain. Ini memotivasikan kita untuk terus melakukan perbuatan baik dalam kehidupan sehari-hari.\n",
      "\n",
      "4. Memperkukuhkan diri: Bersyukur dan berbuat baik membantu menguatkan diri kita sendiri. Ia membawa kebahagiaan, kepuasan, dan meningkatkan kualiti hidup kita secara keseluruhan.\n",
      "\n",
      "Jadi, menjadi bersyukur kepada Allah dan berbuat baik kepada orang lain adalah penting kerana ia membawa manfaat yang baik dalam kehidupan kita.\n"
     ]
    },
    {
     "name": "stderr",
     "output_type": "stream",
     "text": [
      "1118658it [00:12, 86751.20it/s]"
     ]
    },
    {
     "name": "stdout",
     "output_type": "stream",
     "text": [
      "•     هي أوراق مالية قابلة للتداول فاملفروض أن تكون لها سوق ثنوية تباع   فيها و تشتري\n",
      "\n",
      "\n",
      "\n",
      "2 sukuk.indd   18 1/21/10   6:03 PM   Sukuk Mudarabah and Sukuk Musharakah In The Light of AAIOFI Prounouncement 2008\n",
      "\n",
      "\n",
      "\n",
      "19\n",
      "\n",
      "\n",
      "\n",
      "•     إنها تقدم أسلوبا جديدا إلدارة السيولة\n",
      "مع  املتدنية  امل��خ��اط��ر  ذات  ل��دخ��ل،  م��ول��دة  أص���ول  ملكية  متثل  كونها     •   العوائد الدورية املتوقعة احلصول )في أكثر األحيان(\n",
      "\n",
      "\n",
      "\n",
      "ومع ذلك، فإن سوق الصكوك قد عرف تطورات هامة في اآلونة األخيرة، \n",
      "وحتاول هذه الورقة تسليط الضوء على هذه التطورات، ال سيما في ضوء البيان \n",
      "فبراير  لشهر  اإلسالمية  املالية  للمؤسسات  واملراجعة  احملاسبة  هيئة  عن  الصادر \n",
      "املاضي من سنة 2008م، والذي من احملتمل أن يكون له تأثير بالغ على سوق \n",
      "\n",
      "\n",
      "\n",
      "الصكوك سواء من ناحية التصور أو املمارسة على السواء. \n",
      "\n",
      "\n",
      "\n",
      "كما حتاول هذه الورقة بطريقة متواضعة التركيز على الصكوك املبنية على \n",
      "واملشاركة  املضاربة  حالة  في  كما  واخلسائر  األرب��اح  حتمل  في  االشتراك  مبدأ \n",
      "املالية  للمؤسسات  واملراجعة  احملاسبة  هيئة  عن  الصادر  بالبيان  تأثرهما  ومدى \n",
      "\n",
      "\n",
      "\n",
      "اإلسالمية لسنة 2008م.\n",
      "\n",
      "\n",
      "\n",
      "حملة عن تطور الصكوك\n",
      "والتي  التقليدية  للسندات  األولى  اإلسالمية  البدائل  عرض  1990م  عام  شهد \n",
      "املديونية  سندات  مسمى  والعتاد حتت  الصلبة  للمعادن  شل  شركة  أصدرتها \n",
      "اخلاصة اإلسالمية )IPDS( في ماليزيا. حينها، لم يكن مصطلح الصكوك قد \n",
      "استخدم بعد، وكان املصطلحات األكثر استعماال إما سندات الدين اإلسالمية \n",
      "أن  هي  عندئذ  الصكوك  هذه  من  الغاية  كانت  لقد  اإلسالمية.  السندات  أو \n",
      "على  املبنية  الديون  وسندات  التقليدية  السندات  عن  إسالميا  بديال  تكون \n",
      "اإلقراض واالقتراض الربوي. وهكذا، في املرحلة األولى خالل التسعينيات من \n",
      "الدين،  معنى  في طياتها  اإلسالمية حتمل  الدين  املاضي كانت سندات  القرن \n",
      "وهذه الديون عادة تكون ناشئة عن عقود البيع املؤجلة بني األطراف املتعاقدة، \n",
      "\n",
      "\n",
      "\n",
      "مع الربح املتضمن في الثمن )للمستثمرين(.\n",
      "\n",
      "\n",
      "\n",
      "2 sukuk.indd   19 1/21/10   6:04 PM   20\n",
      "\n",
      "\n",
      "\n",
      "Jurnal Muamalat Bil. 2 • 2009\n",
      "\n",
      "\n",
      "\n",
      "ْين اإلسالمي يتطور ببطأ، حيث  لعقد من الزمن، ظل ما يسمى بسوق الدَّ\n",
      "كان أقرب إلى مرحلة تعريفية وأقلمة مع السوق، تتم فيها الصياغة التدريجية \n",
      "اإلسالمية خالل  الديون  فإن سوق  ومع ذلك،  الفاعلة.  واألطراف  للمنتجات \n",
      "تلك احلقبة عرف منوا محدوداً حيث كان مقتصراً على السوق املاليزي فقط. \n",
      "ولقد كانت الصيغ املستخدمة للصكوك مقتصرة على آليات الدين فقط، والتي \n",
      "البيع \n"
     ]
    },
    {
     "name": "stderr",
     "output_type": "stream",
     "text": [
      "1144710it [00:13, 86450.66it/s]"
     ]
    },
    {
     "name": "stdout",
     "output_type": "stream",
     "text": [
      " Faktor-faktor yang mempengaruhi populariti sukuk di pasaran dan menentukan minat pelabur terhadapnya adalah seperti berikut:\n",
      "1. Sesuai dengan prinsip syariah: Sukuk adalah instrumen kewangan yang mematuhi prinsip syariah Islam, yang menjadikannya menarik kepada pelabur yang mempunyai keperluan untuk melabur dalam aset syariah yang patuh.\n",
      "2. Keperluan pasaran: Adalah penting untuk mengenal pasti keperluan pasaran dan ekonomi untuk menghasilkan sukuk yang boleh memenuhi keperluan tersebut dan dipasarkan dengan baik. Ini termasuk mempertimbangkan faktor-faktor seperti aliran tunai dan permintaan pelaburan.\n",
      "3. Risiko pelaburan: Pelabur yang mempunyai lebihan kecairan mungkin mempunyai toleransi risiko pelaburan yang berbeza. Pelabur yang berminat dengan pendapatan tetap dan boleh meramalkan pulangan mereka mungkin lebih cenderung kepada sukuk yang berdasarkan prinsip muamalat berkongsi risiko dan keuntungan. Sebaliknya, pelabur yang lebih berhati-hati dan ingin mengekalkan modal mungkin lebih suka melabur dalam instrumen yang memberikan pulangan tetap, seperti bon konvensional.\n",
      "4. Persepsi pasaran: Masyarakat umum sering menganggap sukuk sebagai instrumen yang memberikan pulangan tetap dan mempunyai risiko yang rendah, yang menjadikan sukuk menarik kepada mereka yang mencari pelaburan yang stabil. Oleh itu, persepsi dan penilaian pelabur terhadap sukuk juga mempengaruhi popularitinya di pasaran.\n",
      "5. Peraturan dan undang-undang: Kepatuhan undang-undang dan peraturan berkaitan sukuk adalah penting dalam menentukan minat pelabur. Undang-undang dan peraturan yang jelas dan memberikan kepastian undang-undang akan memberi keyakinan kepada pelabur untuk melabur dalam sukuk.\n",
      "Jika anda memerlukan maklumat lanjut atau penjelasan yang lebih terperinci mengenai faktor-faktor ini atau jenis sukuk yang ada, sila beritahu saya.\n"
     ]
    },
    {
     "name": "stderr",
     "output_type": "stream",
     "text": [
      "1647879it [00:19, 86528.19it/s]"
     ]
    },
    {
     "name": "stdout",
     "output_type": "stream",
     "text": [
      " Untuk menjadikan sukuk kurang berisiko dan menghasilkan pulangan yang lebih stabil, terdapat beberapa cara yang boleh digunakan. Satu-satunya cara adalah dengan menggantikan model sukuk yang berdasarkan penentuan harga berdasarkan nilai nominal dengan model sukuk yang mengehadkan potensi kerugian dan keuntungan.\n",
      "\n",
      "Selain itu, kepelbagaian portfolio sukuk juga boleh dilakukan supaya tidak bergantung kepada satu instrumen atau sektor sahaja. Ini bermakna memilih sukuk daripada pelbagai industri dan negara untuk mengurangkan risiko.\n",
      "\n",
      "Selain itu, kriteria penilaian sukuk juga boleh ditambah atau dibangunkan untuk mengambil kira kualiti penerbit sukuk dan potensi risiko yang terlibat. Ini boleh membantu pelabur dalam membuat keputusan yang lebih baik.\n",
      "\n",
      "Akhir sekali, mengekalkan dan mengukuhkan rangka undang-undang dan peraturan yang berkaitan dengan sukuk juga penting untuk memastikan ketelusan dan keadilan dalam pelaksanaannya. Ini akan meningkatkan keyakinan pelabur dan menyumbang kepada perkembangan pasaran sukuk yang lebih baik.\n",
      "\n",
      "Adakah terdapat maklumat atau butiran yang anda ingin saya tambahkan atau jelaskan lebih lanjut?\n"
     ]
    },
    {
     "name": "stderr",
     "output_type": "stream",
     "text": [
      "1744342it [00:20, 87001.23it/s]"
     ]
    },
    {
     "name": "stdout",
     "output_type": "stream",
     "text": [
      " Dalam Islam, terdapat beberapa perbuatan yang diharamkan. Antara perbuatan yang diharamkan ialah pemakanan daging babi, minuman beralkohol, berjudi, mencuri, dan menyakiti orang lain secara sengaja. Selain itu, perbuatan-perbuatan yang melanggar hukum syarak seperti mencemarkan nama baik seseorang, berzina, dan menyelewengkan harta juga dianggap haram dalam Islam.\n"
     ]
    },
    {
     "name": "stderr",
     "output_type": "stream",
     "text": [
      "1770595it [00:20, 87343.21it/s]"
     ]
    },
    {
     "name": "stdout",
     "output_type": "stream",
     "text": [
      "수 없습니다. 산업화의 속도가 빨라지고 외국인의 말레이시아에 대한 직접 투자가 증가함에 따라 투자자에게 조세 분야에서의 확실성을 제공하고 보장하기 위해 다른 국가와 조세 협약을 체결하는 것이 필요하게 되었습니다. 2019년 1월 31 일을 기준으로 말레이시아가 이중과세방지협약을 체결한 국가는 다음과 같습니다. 국가 •• 알바니아 •• 독일 •• 몽골 •• 남아프리카공화국 •• 아르헨티나* •• 홍콩 •• 모로코 •• 스페인 •• 호주 •• 헝가리 •• 미얀마 •• 스리랑카 •• 오스트리아 •• 인도 •• 나미비아 •• 수단 •• 바레인 •• 인도네시아 •• 네덜란드 •• 스웨덴 •• 방글라데시 •• 이란 •• 뉴질랜드 •• 스위스 •• 벨기에 •• 아일랜드 •• 노르웨이 •• 시리아 •• 보스니아 헤르체고비나 •• 이태리 •• 파키스탄 •• 태국 •• 브루나이 •• 일본 •• 파푸아 뉴기니 •• 터키 •• 캐나다 •• 요르단 •• 필리핀 •• 투르크메니스탄 •• 중국 •• 카자흐스탄 •• 폴란드 •• 아랍에미리트(UAE) •• 칠레 •• 한국 •• 카타르 •• 영국 •• 크로아티아 •• 쿠웨이트 •• 루마니아 •• 미국* •• 체코공화국 •• 키르기스스탄 •• 러시아 •• 우즈베키스탄 •• 덴마크 •• 라오스 •• 산마리노 •• 베트남 •• 이집트 •• 레바논 •• 사우디아라비아 •• 베네수엘라 •• 피지 •• 룩셈부르크 •• 세이셀 •• 짐바브웨 •• 핀란드 •• 몰타 •• 싱가포르 •• 프랑스 •• 모리셔스 •• 슬로바키아 공화국 * 제한적인 협약 대만(말레이시아 주재 타이베이 경제문화사무처가 대표함)의 경우 다음의 소득세면제령(Income Tax Exemption Order)을 통해 이중과세를 면제받고 있습니다. i. P.U.(A) 201 (1998) ii. P.U.(A) 202 (1998) 보다 자세한 정보에 대해서는 www.hasil.gov.my를 방문하시거나 lhdn_int@hasil.gov.my에 이메일로 문의하시기 바랍니다. 38 제4장 이민 절차 이민 절차 1. 말레이시아 입국 요건 1.1 여권 또는 여행 서류 1.2 비자 요건 1.3 방문비자(Passes) 요건 2. 파견직 외국인의 취업 2.1 파견직 외국인 보직 유형 2.2 파견직 외국인의 고용 지침 3. 해외 주재원 보직 신청 4. 외국인 근로자의 고용 40 이민 절차 비자가 필요한 국가 •• 아프가니스탄* •• 코트디부아르 •• 미얀마(정규여권) •• 앙골라 •• 지부티 •• 네팔 •• 부탄 •• 적도 기니 •• 니제르 •• 부르키나 파소 •• 에리트리아 •• 르완다 •• 부룬디 •• 에디오피아 •• 세르비아공화국 & 몬테네그로공 화국 •• 중앙아메리카공화국 •• 기니-비사우 •• 스리랑카 •• 중국 •• 홍콩 (신분증명서 또는 신분증빙서류) •• 타이완 •• 콜롬비아 •• 인도 •• 유엔(Laissez Passer) •• 콩고민주공화국 •• 라이베리아 •• 서사하라 •• 콩고공화국 •• 말리 비자가 필요한 영연방국가 •• 방글라데시 •• 가나 •• 나이지리아 •• 카메룬 •• 모잠비크 •• 파키스탄 국가별 비자 요건은 다음과 같습니다. 제 4장 이민 절차 1. 말레이시아 입국 요건 1.1 여권 또는 여행 서류 말레이시아에 입국하는 모든 개인은 유효한 말레이시아 여권 또는 말레이시아로 여행하는 데 효력이 있는 기타 국제적으로 인정되는 여행 서류를 소지하여야 합니다. 이들 서류는 적어 도 말레이시아 입국일자 6개월 전에 효력이 있어야 합니다. 말레이시아가 인정하지 않는 여권을 소지하고 있는 개인은 반 드시 여권을 대체할 수 있는 서류는 물론이고 해외의 말레이 시아 대표사무소에서 발급하는 비자를 신청하여야 합니다. 비 자는 각국의 가장 가까운 말레이시아 대표사무소에서 신청할 수 있습니다. 말레이시아 대표사무소가 개설되어 있지 않은 국가에서는 가 장 가까운 고등판무관실(High Commission) 또는 대사관에 비자를 신청할 수 있습니다. 1.2 비자 요건 비자는 외국인의 여권 또는 기타 인정된 여행 문서에 당해 문 서 소지인이 말레이시아 입국 허가를 신청해서 허가를 받았다 는 취지로 찍힌 승인 도장을 말합니다. 말레이시아 입국을 위해 비자를 필요로 하는 외국 국적을 가 진 개인은 반드시 입국 전 해외 말레이시아 대표사무소에서 사전에 비자를 신청하여 발급 받아야 힙니다. 41 이민 절차 3개월 초과 체류 시 비자가 필요한 국가 •• 알바니아 •• 헝가리 •• 폴란드 •• 알제리아 •• 아이슬란드 •• 카타르 •• 아르헨티나 •• 아일랜드 •• 루마니아 •• 호주 •• 이태리 •• 산마리노 •• 오스트리아(비엔나) •• 일본 •• 사우디아라비아 •• 바레인 •• 요르단 •• 슬로바키아 •• 벨기에 •• 키르기스스탄 •• 한국 •• 보스니아-헤르체고비나 •• 쿠웨이트 •• 스페인 •• 브라질 •• 키르기스공화국 •• 스웨덴 •• 크로아티아 •• 레바논 •• 스위스 •• 쿠바 •• 리히텐슈타인 •• 튀니지 •• 체코공화국 •• 룩셈부르크 •• 터키 •• 덴마크 •• 모로코 •• 투르크메니스탄 •• 이집트 •• 네델란드 •• 아랍에미리트(UAE) •• 핀란드 •• 노르웨이 •• 영국 •• 프랑스 •• 오만 •• 우루과이 •• 독일 •• 페루 •• 예멘 14일 초과 체류 시 비자가 필요한 국가 •• 이란 •• 마카오 (여행허가서/포르투갈 신원증명서) •• 소말리아 •• 이라크 •• 팔레스타인 •• 시리아 •• 리비아 •• 시에라이 42 이민 절차 1개월 초과 체류 시 비자가 필요한 국가 •• 아르메니아 •• 과테말라 •• 파나마 •• 아제르바이잔 •• 기니공화국 •• 파라과이 •• 바베이도스 •• 아이티 •• 포르투갈 •• 벨라루스 •• 온두라스 •• 러시아 •• 베냉 •• 홍콩 특별 행정구 •• 상투메 프린시페 •• 볼리비아 •• 카자흐스탄 •• 세네갈 •• 불가리아 •• 라트비아 •• 슬로베니아 ••\n",
      "\n",
      "Apakah tujuan Malaysia memasuki perjanjian cukai dengan negara lain? \n"
     ]
    },
    {
     "name": "stderr",
     "output_type": "stream",
     "text": [
      "1805896it [00:20, 87778.22it/s]"
     ]
    },
    {
     "name": "stdout",
     "output_type": "stream",
     "text": [
      " Zikir dan doa adalah ibadah yang penting dalam kehidupan seorang Muslim. Mereka mempunyai banyak manfaat dan kepentingan. Pertama, zikir dan doa membantu kita berkomunikasi dengan Allah dan meningkatkan hubungan kita dengan-Nya. Dengan berzikir dan berdoa, kita mengakui kebesaran Allah dan merendahkan diri kita di hadapan-Nya.\n",
      "\n",
      "Selain itu, zikir dan doa juga mempunyai kesan positif terhadap hati dan jiwa kita. Mereka membantu menenangkan fikiran, menghilangkan tekanan, dan meningkatkan iman. Apabila kita berzikir dan berdoa, kita merasa lebih dekat dengan Allah dan merasakan kedamaian dalam hati.\n",
      "\n",
      "Selain itu, zikir dan doa juga boleh menjadi sumber kekuatan dan motivasi dalam menghadapi pelbagai cabaran hidup. Dengan mengingati Allah dan memohon pertolongan-Nya, kita merasa lebih yakin, yakin, dan berserah diri kepada-Nya.\n",
      "\n",
      "Oleh itu, penting bagi setiap Muslim untuk mengamalkan zikir dan doa dalam kehidupan seharian. Kita boleh melakukannya setiap saat, pada setiap kesempatan, dan dalam setiap aktiviti kita. Dengan itu, kita boleh meningkatkan kesedaran kita terhadap kehadiran Allah dalam setiap aspek kehidupan kita, serta mendapat keberkahan dan rahmat-Nya.\n"
     ]
    },
    {
     "name": "stderr",
     "output_type": "stream",
     "text": [
      "1849807it [00:21, 86969.92it/s]"
     ]
    },
    {
     "name": "stdout",
     "output_type": "stream",
     "text": [
      "Apakah tujuan Malaysia memasuki perjanjian cukai dengan negara lain? \n"
     ]
    },
    {
     "name": "stderr",
     "output_type": "stream",
     "text": [
      "1867277it [00:21, 86926.78it/s]"
     ]
    },
    {
     "name": "stdout",
     "output_type": "stream",
     "text": [
      " Menurut Dr. Al-Qari, pemberian pinjaman kepada pemegang sukuk dalam konteks sukuk mudarabah dan sukuk musharakah boleh dilakukan asalkan jumlah yang dikemukakan perlu dikembalikan pada masa yang sesuai. Walau bagaimanapun, jika amalan ini berlaku dalam konteks kontrak penyertaan dan spekulasi yang tidak menjamin sebarang keuntungan, maka janji dan kewajipan pembayaran yang dikemukakan daripada penerbit boleh dianggap sebagai helah untuk mencapai hasil yang dilarang secara langsung. Oleh itu, tidak dibenarkan bagi pengarah kewangan Islam atau wakil pelaburan untuk mengikat diri dengan memberi pinjaman kepada pemegang sukuk apabila terdapat defisit dalam keuntungan yang diharapkan. Ini telah diharamkan oleh Majlis Syariah AAOIFI dalam Fatwa No. 4.\n"
     ]
    },
    {
     "name": "stderr",
     "output_type": "stream",
     "text": [
      "2068671it [00:23, 87030.53it/s]"
     ]
    },
    {
     "name": "stdout",
     "output_type": "stream",
     "text": [
      " Kepentingan syor untuk pemegang bon menunjukkan dan membuktikan pemilikan aset sumber adalah untuk memastikan kesahihan dan kepercayaan dalam struktur sukuk. Oleh itu, jika ini dapat ditunjukkan dan dibuktikan, permintaan syor pertama akan dianggap sah. Menentang struktur pemilikan yang jelas dan terbuka adalah sangat penting dalam sukuk, terutamanya dari segi tuntutan aset yang menjadi asas untuk pengeluaran sukuk. Oleh itu, syor ini memberi perhatian bahawa pemilik sukuk bukan sahaja perlu menunjukkan pemilikan aset, tetapi juga membawa hak dan tanggungjawab yang melekat padanya. Tambahan pula, peraturan undang-undang dan peraturan yang terpakai di negara yang berkaitan akan menentukan bentuk pemilikan sebenar. Semakin jelas dan kukuh bukti pemilikan, semakin sah dan kuat kedudukan pemegang sukuk.\n"
     ]
    },
    {
     "name": "stderr",
     "output_type": "stream",
     "text": [
      "2191342it [00:25, 87657.08it/s]"
     ]
    },
    {
     "name": "stdout",
     "output_type": "stream",
     "text": [
      "..        . \n"
     ]
    },
    {
     "name": "stderr",
     "output_type": "stream",
     "text": [
      "2357274it [00:27, 86392.70it/s]"
     ]
    },
    {
     "name": "stdout",
     "output_type": "stream",
     "text": [
      " Ya, dalam era globalisasi dan kepelbagaian ekonomi, sistem kewangan Islam menawarkan potensi untuk mewujudkan kestabilan dan daya saing dalam pasaran sukuk. Walau bagaimanapun, cabarannya adalah meyakinkan pelabur, sama ada Muslim atau bukan Islam, tentang kekuatan dan keupayaan sistem kewangan Islam sebagai alternatif yang sejajar dengan sistem konvensional.\n",
      "\n",
      "Dalam hal ini, perlu ada pendekatan yang komprehensif untuk mempromosikan sukuk kepada pelabur. Ini melibatkan pendidikan dan kesedaran yang lebih besar tentang prinsip syariah dan faedah ekonomi sukuk. Selain itu, ia juga penting untuk mengekalkan kualiti dan kepercayaan pasaran dengan memastikan terdapat rangka peraturan yang betul dan prosedur yang telus dalam penerbitan dan perdagangan sukuk.\n",
      "\n",
      "Seiring dengan pertumbuhan pasaran sukuk global, peningkatan pilihan instrumen sukuk yang inovatif dan mempelbagaikan portfolio juga boleh menjadi faktor yang menyokong kejayaan sistem kewangan Islam. Oleh itu, usaha kerjasama daripada semua pihak berkepentingan diperlukan, termasuk kerajaan, institusi kewangan dan masyarakat untuk mempromosikan pembangunan pasaran sukuk yang mampan dan inklusif.\n",
      "\n",
      "Jadi, dengan komitmen dan kerjasama yang betul, sistem kewangan Islam mempunyai potensi untuk mencapai kestabilan dan daya saing dalam pasaran sukuk serta meyakinkan pelabur tentang kekuatannya sebagai alternatif yang boleh dipercayai dan mampan.\n"
     ]
    },
    {
     "name": "stderr",
     "output_type": "stream",
     "text": [
      "2383333it [00:27, 86571.34it/s]"
     ]
    },
    {
     "name": "stdout",
     "output_type": "stream",
     "text": [
      "?   . \n"
     ]
    },
    {
     "name": "stderr",
     "output_type": "stream",
     "text": [
      "2418086it [00:27, 86708.19it/s]"
     ]
    },
    {
     "name": "stdout",
     "output_type": "stream",
     "text": [
      " Berkawan dengan baik dan bekerjasama dengan sesama manusia adalah penting dalam membina masyarakat yang berkembang. Jika kita mempunyai hubungan yang baik dengan orang lain, kita boleh menguatkan dan membantu satu sama lain. Dalam Islam, kita diajar untuk membina hubungan yang baik dan mesra dengan semua orang, sama ada keluarga, rakan, jiran, atau masyarakat secara keseluruhan. Dalam hadis yang diriwayatkan oleh Abu Musa, Nabi Muhammad SAW bersabda, \"Seorang mu'min terhadap mu'min yang lain adalah seperti bangunan yang kukuh, setiap bahagian menguatkan bahagian yang lain.\" Jadi, keakraban dan persaudaraan adalah penting dalam menyatukan umat Islam. Walaupun kita hidup dalam masyarakat yang berbilang bangsa dan budaya, tidak mustahil untuk membina keharmonian dan hubungan saling membantu, terutamanya jika setiap individu dalam masyarakat memahami peranan dan tanggungjawab mereka dalam memelihara ikatan persaudaraan. Hanya dengan itu, kita boleh menikmati kehidupan yang aman dan berkembang bersama.\n"
     ]
    },
    {
     "name": "stderr",
     "output_type": "stream",
     "text": [
      "2513782it [00:28, 86952.63it/s]"
     ]
    },
    {
     "name": "stdout",
     "output_type": "stream",
     "text": [
      " Kepentingan kesesuaian dengan syariah dalam sukuk pelaburan Islam adalah untuk memastikan kesahihan transaksi dan diterima oleh pelabur Islam. Selain itu, kesesuaian dengan syariah juga menunjukkan komitmen kita untuk mematuhi kewajipan dan tanggungjawab kita kepada Allah dalam semua aspek kehidupan, termasuk dalam transaksi kewangan dan pelaburan. Soalan seterusnya?\n",
      "حىت  غدا  القول أّن الكون قد  أصبح  قرية ابلقنوات الفضائيّ \n",
      "\n",
      "\n",
      "\n",
      "االقتصاديّة و   الّتجاريّة   صغرية مطلوابً  بل ملّحاً ، ولقد انعكست آاثر هذا الّتطور على الّلغة  وال سيما يف اجملاالت\n",
      " لكل حقل من احلقول الّسابقة مسات لسانّية ولغويّة وأساليب . وغري خاٍف أنّ   والسياحة  والّدبلوماسّية والّسياسّية\n",
      "\n",
      "\n",
      "\n",
      "  تعبري خاّصة متّيزه  عن اآلخر. \n",
      ".)yuslina Mohamed, 2011, p:2) \n",
      "\n",
      "\n",
      "\n",
      "السياحة   الدولة وسيلة من وسائل  تعّد  تتميز بسمات لغوية ومعجمية جعلتها حمور   تنمية استثمار  اليت \n",
      "و \"األصالة\" اهتمام اللغويني؛ وألّن حمور إعداد املواد التعليمية ألغراض خاصة قائم على ما يعرف بـ \"دوافع املتعلمني\"  \n",
      "\n",
      "\n",
      "\n",
      "صميم وملا كان ت  ألمور األساسية الالزمة يف تصميم الوحدة التدريسية يف جمال السياحة.جاء هذا البحث ليهتم ابو \n",
      "\n",
      "\n",
      "\n",
      "\n",
      "\n",
      "\n",
      "\n",
      "\n",
      "International Journal Languages and Education (Vol. 1, No 2)                                   \n",
      "\n",
      "\n",
      "\n",
      " \n",
      "38 \n",
      "\n",
      "\n",
      "\n",
      "©The Author(s) (2021). Published by USIM Press on behalf of the Universiti Sains Islam Malaysia.  This is an Open \n",
      "\n",
      "\n",
      "\n",
      "Access article  distributed  under the  terms of the Creative Commons Attribution 4.0 International (CC BY 4.0) license. \n",
      "\n",
      "\n",
      "\n",
      "املناهج وتطويرها ألغراض خاصة خيتلف عن تصميم مناهج اللغة العامة، فقد جاءت هذه الدراسة لتوّضح هذا \n",
      " سياحة.يف جمال ال  بواسطة إطاري النظري والتطبيقي  االختالف\n",
      " \n",
      "\n",
      "\n",
      "\n",
      " خلفية الدراسة\n",
      " مفهوم اللغة العربية ألغراض خاصة \n",
      "\n",
      "\n",
      "\n",
      "عناصره كافة من أهداف وحمتوى وطريقة التدريس إىل اللغة ألغراض خاصة مدخل لتعليم اللغة  تستند  \n",
      " .  (Usyari Mahmud, 1983, p115-128)  األسباب  اليت دفعت الدارسني لتعلم اللغة\n",
      "\n",
      "\n",
      "\n",
      "وترمي اللغة العربية ألغراض خاصة عندى رشدي أمحد طعيمة\" ألداء وظيفة  حمددة لفئات خاصة يتطلب \n",
      " ,Rusydi A.T., Mahmud KN)    ميكن توظيفها يف هذه األعمال\" أعماهلا قدرا معينا من اللغة األجنبية اليت  \n",
      "\n",
      "\n",
      "\n",
      "2003, p:6) وخصوصية اللغة عنده تعين توفر رصيد حمدد من كلمات، وتعبريات، واصطلحات، وتراكيب، خاصة .\n",
      "املهارات،  وخصوصية  اهلدف،  وخصوصية  اجلمهور،  خصوصية  تعود  وقد  معينة.  جماالت  يف  استخدامها  يشيع \n",
      "\n",
      "\n",
      "\n",
      " . (  ,p:1-8 Kristen Gatehouse,2001)  وخصوصية احملتوى\n",
      "م( العربية ألغراض خاصة أبهنا \" تعليم اللغة العربية لألغراض خاصة يقوم 2004وعّرف حسني عبيدات )\n",
      "\n",
      "\n",
      "\n",
      "على  يعتمد  اخلاصة  اللغة  تعليم  التعريفات أبن  تلك  من  الدارسني\".ونفهم  تليب حاجات  مساقات  تصميم  على \n",
      "اللغة يف مواقفها اخلاصة أو احملددة، ويكون اهلدف التعليمي هلذه اللغة اخلاصة  حاجات الدارسني ومقاصدهم لتعلم  \n",
      "\n",
      "\n",
      "\n",
      "لقد أفاد تعريف املصطلح   .  (p:49  Yuslina Mohamed, 2011)هو اهلدف األكادميي أو اهلدف املهين أو الوظيفي\n",
      "م(، إذ يقوالن\" يستند 1987) العربية ألغراض اخلاصة من تعريف اإلجنليزية ألغراض خاصة عند هانشنسن وواترز  \n",
      "\n",
      "\n",
      "\n",
      "املتعلم\" احملتوى واألسلوب على حاجة  القرارات من حيث  اللغة يف مجيع  تعليم   p:1-8  Kristen,2001)منهج  \n",
      "\n",
      "\n",
      "\n",
      "Gatehouse,  )  . ومن ذلك نستطيع القول أن برانمج تعليم اللغة العربية ألغراض خاصة هو برانمج تعليمي حيمل\n",
      "وى الفين واملهين، ويتعامل يف الغالب لطالب متخصصني يف جماالت معينة، أو احملتوى األكادميي أو العلمي، واحملت\n",
      "\n",
      "\n",
      "\n",
      "(. Yuslina Mohamed, 2011, P:51 )أصحاب مهن معينة\n",
      " \n",
      "\n",
      "\n",
      "\n",
      " \n",
      "وأما العربية ألغراص السياحة فهو قسم من أقسام العربية ألغراض خاصة، تركز على اللغة اليت تستخدم \n",
      "\n",
      "\n",
      "\n",
      "واملصطلحات والرتاكيب والعبارة واجلملة. ويتعلم الطلبة هذه اللغة يف إطارها يف جمال السياحة فقط مثل املفردات  \n",
      "املرجوة  اهلدف  تتحقق  فيها حىت  والتعزيز  الكافية  التدريبات  مع  )السياحة(   ,Yusl \n"
     ]
    },
    {
     "name": "stderr",
     "output_type": "stream",
     "text": [
      "2697387it [00:31, 85306.59it/s]"
     ]
    },
    {
     "name": "stdout",
     "output_type": "stream",
     "text": [
      " Perbezaan utama antara sukuk dan bon konvensional adalah seperti berikut:\n",
      "\n",
      "1. Sumber Pembayaran: Sukuk direka untuk mematuhi syariah dan berdasarkan aset sebenar, seperti harta benda, faedah atau perkhidmatan. Bon konvensional, sebaliknya, berdasarkan janji pembayaran oleh peminjam.\n",
      "\n",
      "2. Hak Pemilikan: Pemegang sukuk mempunyai hak pemilikan sebenar terhadap aset yang mendasarinya, manakala pemegang bon konvensional adalah penerima janji pembayaran balik daripada peminjam.\n",
      "\n",
      "3. Keuntungan dan Pulangan: Dalam sukuk, pulangan dibayar berdasarkan pendapatan yang dihasilkan daripada aset yang mendasarinya. Sementara itu, bon konvensional memberikan faedah yang tetap.\n",
      "\n",
      "4. Penilaian Risiko: Sukuk mengalami penilaian risiko melalui proses penentuan harga aset yang mendasarinya. Bon konvensional, sebaliknya, mengalami penilaian risiko melalui proses penentuan kredit peminjam.\n",
      "\n",
      "5. Pengawasan Syariah: Sukuk mesti mematuhi prinsip syariah dan diawasi oleh badan pengawas syariah. Bon konvensional tidak mempunyai keperluan khusus dalam hal ini.\n",
      "\n",
      "Jadi, perbezaan ini membuktikan bahawa sukuk adalah instrumen pelaburan yang sesuai dengan prinsip syariah, manakala bon konvensional mungkin tidak memenuhi syarat ini.\n"
     ]
    },
    {
     "name": "stderr",
     "output_type": "stream",
     "text": [
      "2731809it [00:31, 85908.54it/s]"
     ]
    },
    {
     "name": "stdout",
     "output_type": "stream",
     "text": [
      "세금 면 제를 신청하기 위한 전체 과정에 필요한 기간을 고려하라는 충고가 주어집니다. 자율 신고와 자율 규제 환경과 더불어 이 새로운 절차는 시간을 절약할 수 있어 사업 비용이 절감되고, 상품 통관을 위해 은행의 보증을 받지 않아도 됩니다. 투자진흥청(MIDA)는 이 세금 면제를 위한 자율 신고 신청을 온라인으로 할 수 있도록 편의를 제공합니다. 이러한 편의로 이용자는 전자신고 디지털 증서(LHDN 발급) 또는 MIDA에서 디지털 증서를 다운로드하여 MIDA에 제출하기 전 신청서에 디지털 서명하면 됩니다. iii. 외주 제조활동에 대한 수입관세의 면제 사업비용을 절감하고 경쟁력을 강화하기위해, 말레이시아인 지분이 60% 이상인 말레이시아 상표 소유자가 제조활동을 외주할 경우 다음의 자격이 주어집니다. a) 국내외 계약 생산업체에 의한 완제품 제조 시 사용된 원 자재와 구성품에 대한 수입 관세의 면제. b) 국내 계약 제조업체가 제조하는 완제품에 사용될 해외 계약 제조업체의 반제품에 대한 수입관세 및 판매세의 면제. 투자세 공제 신청서는 투자진흥청(MIDA)에 제출하여야 합니다. iv. 정비, 수리 또는 오버홀(MRO) 활동에 대한 수 입관세 및 판매세 면제 MRO 활동에 대한 판매세 면제 2018년 판매세(세금 납부 면제된 개인) (수정) (번호 2) 명령, 별표 A에 따라 말레이시아의 등록된 항공우주 MRO 회사는 다음에 대해 판매세 면제를 신청할 수 있습니다. a) 33A 항에 따른 기계류, 장비, 특수 도구. b) 말레이시아 내에서 MRO 활동에 직접 사용되는 33B 항에 따른 부품, 구성품, 자재 및 특수 소모품 신청서는 자진 신고 과정을 통해 이루어지는 신청을 위해 회 사는 수입 또는 구매 전에 투자진흥청(MIDA)에 확인서를 신 청하여야 합니다. 그런 다음 회사는 판매세 면제를 받기 위해 서는 투자진흥청(MIDA)이 발행하는 확인서와 기계류, 장비, 특수 도구, 부품, 구성품, 재로 및 특수 소모재 목록을 말레이 시아 관세국(Royal Malaysian Customs Department)에 제 출하여야 합니다. 확인서 신청은 투자진흥청(MIDA)에 제출하여야 합니다. 판매세 면제 신청은 온라인으로 https://mysst.customs. gov.my을 통 제출하여야 합니다. MRO 활동에 대한 수입 관세 면제 등록된 항공우주산업 MRO 회사는 기계류, 장비, 특수 도구, 부품, 구성품, 재료 및 소모품에 대해 수입관세 면제를 신청할 수 있는 자격이 주어집니다. 수입관세 면제에 대한 신청서는 재무부(MOF)에 제출하여야 합니다. v. 화물 운송료에 대한 이중 공제 제조업체가 자사 상품을 사바주와 사라왁 주로부터 말레이시 아 반도의 항구로 해상 운송할 경우, 화물 운송료에 대해 이중 공제를 받을 수 있습니다. 29 신규 투자에 대한 인센티브 vi. 말레이시아 상표 촉진에 대한 이중 공제 말레이시아 상표를 육성하기 위해 말레이시아 상표의 등록된 소유권자인 회사 또는 이와 같은 그룹 내 회사는 다음의 조건 들을 모두 충족한 때에 한하여 당해 상표 광고로 발생한 지출 에 대해 이중 공제를 받을 수 있습니다. a) 회사는 말레이시아 상표의 등록 소유권가 50%가 넘는 지분을 소유하여야 합니다. b) 공제는 한 과세 연도에 1개 회사만 신청할 수 있습니다. c) 당해 제품은 수출 품질 기준을 충족하여야 합니다. 신청서는 국세청(IRB)에 제출하여야 합니다. 11.8 환경 보호에 대한 기부 오로지 환경 보호와 보존만을 위해 승인된 단체에 기부한 금 액은 단 한 차례 공제를 받을 수 있습니다. 신청서는 국세청(IRB)에 제출하여야 합니다. 11.9 직원 주거시설에 대한 인센티브 제조업, 승인된 서비스 프로젝트(ASP), 호텔 또는 관광 사업 에서 일하는 직원의 주거용으로 사용되는 건물은 당해 건물 의 건축/매입으로 발생한 자본적 지출액에 대해 10년간 매년 10%의 공제를 제공하는 특별 산업용 건물 공제(IBA)를 신청 할 수 있는 자격이 주어집니다. 신청서는 국세청(IRB)에 제출하여야 합니다. 30 제3장 과세 제도 조세 제도 1. 말레이시아의 조세 제도 2. 과세 대상 소득의 종류 3. 법인세 4. 개인소득세 4.1 거주자 개인 4.1.1 인적 공제 4.1.2 세금 환급 4.2 비거주자 개인 5. 원천징수세 6. 부동산 양도소득세 7. 판매세 및 서비스세 7.1 판매세 7.1.1 판매세율 7.2 서비스세 7.2.1 과세 가능한 서비스 7.2.2 과세 7.2.3 서비스세율 7.2.4 신용카드와 고객카드에 대한 서비스세율 8. 수입 관세 9. 소비세 10. 관세항소법원 및 사전심사제도 11. 이중과세방지협약 32 조세 제도 제 3장 조세 제도 1. 말레이시아의 조세 제도 기업을 포함한 모든 개인의 말레이시아 국내에서 발생하거나 획득한 소득 또는 말레이시아 국외에서 획득하여 말레이시아 국내에서 수령한 소득은 소득세 과세 대상이 됩니다. 그러나 은행, 보험, 해상 또는 항공 운송 사업을 영위하는 거 주자 기업을 제외한 개인이 과세연도 동안 말레이시아 국외 에서 획득하여 말레이시아 국내에서 수령한 소득은 세금이 면 제됩니다. 조세 행정 제도를 현대화하고 합리화하기 위한 목적으로 회 사, 개인사업자, 파트너십, 협동조합과 봉급생활자 그룹을 대 상으로 신고 납세(self-assessment) 제도가 시행되었고 그리 고 소득세 과세 기간은 당해 연도를 기준으로 하고 있습니다. 2. 과세 대상 소득의 종류 과세 대상 소득은 다음과 같습니다. i. 수행 기간이 어떻게 되든 사업에서 발생한 이득 또는 이윤. ii. 고용으로 발생한 이득 또는 이윤(급여, 보수 등). iii. 배당금, 이자 또는 할인금 iv. 임대료, 로얄티 또는 할증 수익 v. 연금, 보험 연금 또는 기타 정기 지급금 vi. 기타 소득 성격의 이득 또는 이윤 과세 대상 소득은 대상이 될 경우 당해 소득 창출 과정에서 발 생한 허용 가능한 비용, 자본\n",
      "\n",
      "Apakah faedah memohon pengecualian cukai di Malaysia dan bagaimanakah perniagaan boleh menjimatkan kos melalui proses ini? \n"
     ]
    },
    {
     "name": "stderr",
     "output_type": "stream",
     "text": [
      "2850763it [00:32, 85328.20it/s]"
     ]
    },
    {
     "name": "stdout",
     "output_type": "stream",
     "text": [
      " Tidak, tidak semua jenis sukuk mewakili pelanggaran undang-undang syariah. Struktur dan mekanisme sukuk yang digunakan dalam bentuk mudharabah dan musharakah tidak melanggar prinsip syariah. Walau bagaimanapun, perlu diperhatikan bahawa ini mesti disahkan oleh pihak berkuasa syariah yang kompeten sebelum diterbitkan.\n"
     ]
    },
    {
     "name": "stderr",
     "output_type": "stream",
     "text": [
      "3031944it [00:35, 85517.31it/s]"
     ]
    },
    {
     "name": "stdout",
     "output_type": "stream",
     "text": [
      " !\n"
     ]
    },
    {
     "name": "stderr",
     "output_type": "stream",
     "text": [
      "3066375it [00:35, 85615.32it/s]"
     ]
    },
    {
     "name": "stdout",
     "output_type": "stream",
     "text": [
      " Kepentingan kesesuaian dengan syariah dalam sukuk pelaburan Islam adalah untuk memastikan kesahihan transaksi dan diterima oleh pelabur Islam. Selain itu, kesesuaian dengan syariah juga menunjukkan komitmen kita untuk mematuhi kewajipan dan tanggungjawab kita kepada Allah dalam semua aspek kehidupan, termasuk dalam transaksi kewangan dan pelaburan. Soalan seterusnya?\n",
      "حىت  غدا  القول أّن الكون قد  أصبح  قرية ابلقنوات الفضائيّ \n",
      "\n",
      "\n",
      "\n",
      "االقتصاديّة و   الّتجاريّة   صغرية مطلوابً  بل ملّحاً ، ولقد انعكست آاثر هذا الّتطور على الّلغة  وال سيما يف اجملاالت\n",
      " لكل حقل من احلقول الّسابقة مسات لسانّية ولغويّة وأساليب . وغري خاٍف أنّ   والسياحة  والّدبلوماسّية والّسياسّية\n",
      "\n",
      "\n",
      "\n",
      "  تعبري خاّصة متّيزه  عن اآلخر. \n",
      ".)yuslina Mohamed, 2011, p:2) \n",
      "\n",
      "\n",
      "\n",
      "السياحة   الدولة وسيلة من وسائل  تعّد  تتميز بسمات لغوية ومعجمية جعلتها حمور   تنمية استثمار  اليت \n",
      "و \"األصالة\" اهتمام اللغويني؛ وألّن حمور إعداد املواد التعليمية ألغراض خاصة قائم على ما يعرف بـ \"دوافع املتعلمني\"  \n",
      "\n",
      "\n",
      "\n",
      "صميم وملا كان ت  ألمور األساسية الالزمة يف تصميم الوحدة التدريسية يف جمال السياحة.جاء هذا البحث ليهتم ابو \n",
      "\n",
      "\n",
      "\n",
      "\n",
      "\n",
      "\n",
      "\n",
      "\n",
      "International Journal Languages and Education (Vol. 1, No 2)                                   \n",
      "\n",
      "\n",
      "\n",
      " \n",
      "38 \n",
      "\n",
      "\n",
      "\n",
      "©The Author(s) (2021). Published by USIM Press on behalf of the Universiti Sains Islam Malaysia.  This is an Open \n",
      "\n",
      "\n",
      "\n",
      "Access article  distributed  under the  terms of the Creative Commons Attribution 4.0 International (CC BY 4.0) license. \n",
      "\n",
      "\n",
      "\n",
      "املناهج وتطويرها ألغراض خاصة خيتلف عن تصميم مناهج اللغة العامة، فقد جاءت هذه الدراسة لتوّضح هذا \n",
      " سياحة.يف جمال ال  بواسطة إطاري النظري والتطبيقي  االختالف\n",
      " \n",
      "\n",
      "\n",
      "\n",
      " خلفية الدراسة\n",
      " مفهوم اللغة العربية ألغراض خاصة \n",
      "\n",
      "\n",
      "\n",
      "عناصره كافة من أهداف وحمتوى وطريقة التدريس إىل اللغة ألغراض خاصة مدخل لتعليم اللغة  تستند  \n",
      " .  (Usyari Mahmud, 1983, p115-128)  األسباب  اليت دفعت الدارسني لتعلم اللغة\n",
      "\n",
      "\n",
      "\n",
      "وترمي اللغة العربية ألغراض خاصة عندى رشدي أمحد طعيمة\" ألداء وظيفة  حمددة لفئات خاصة يتطلب \n",
      " ,Rusydi A.T., Mahmud KN)    ميكن توظيفها يف هذه األعمال\" أعماهلا قدرا معينا من اللغة األجنبية اليت  \n",
      "\n",
      "\n",
      "\n",
      "2003, p:6) وخصوصية اللغة عنده تعين توفر رصيد حمدد من كلمات، وتعبريات، واصطلحات، وتراكيب، خاصة .\n",
      "املهارات،  وخصوصية  اهلدف،  وخصوصية  اجلمهور،  خصوصية  تعود  وقد  معينة.  جماالت  يف  استخدامها  يشيع \n",
      "\n",
      "\n",
      "\n",
      " . (  ,p:1-8 Kristen Gatehouse,2001)  وخصوصية احملتوى\n",
      "م( العربية ألغراض خاصة أبهنا \" تعليم اللغة العربية لألغراض خاصة يقوم 2004وعّرف حسني عبيدات )\n",
      "\n",
      "\n",
      "\n",
      "على  يعتمد  اخلاصة  اللغة  تعليم  التعريفات أبن  تلك  من  الدارسني\".ونفهم  تليب حاجات  مساقات  تصميم  على \n",
      "اللغة يف مواقفها اخلاصة أو احملددة، ويكون اهلدف التعليمي هلذه اللغة اخلاصة  حاجات الدارسني ومقاصدهم لتعلم  \n",
      "\n",
      "\n",
      "\n",
      "لقد أفاد تعريف املصطلح   .  (p:49  Yuslina Mohamed, 2011)هو اهلدف األكادميي أو اهلدف املهين أو الوظيفي\n",
      "م(، إذ يقوالن\" يستند 1987) العربية ألغراض اخلاصة من تعريف اإلجنليزية ألغراض خاصة عند هانشنسن وواترز  \n",
      "\n",
      "\n",
      "\n",
      "املتعلم\" احملتوى واألسلوب على حاجة  القرارات من حيث  اللغة يف مجيع  تعليم   p:1-8  Kristen,2001)منهج  \n",
      "\n",
      "\n",
      "\n",
      "Gatehouse,  )  . ومن ذلك نستطيع القول أن برانمج تعليم اللغة العربية ألغراض خاصة هو برانمج تعليمي حيمل\n",
      "وى الفين واملهين، ويتعامل يف الغالب لطالب متخصصني يف جماالت معينة، أو احملتوى األكادميي أو العلمي، واحملت\n",
      "\n",
      "\n",
      "\n",
      "(. Yuslina Mohamed, 2011, P:51 )أصحاب مهن معينة\n",
      " \n",
      "\n",
      "\n",
      "\n",
      " \n",
      "وأما العربية ألغراص السياحة فهو قسم من أقسام العربية ألغراض خاصة، تركز على اللغة اليت تستخدم \n",
      "\n",
      "\n",
      "\n",
      "واملصطلحات والرتاكيب والعبارة واجلملة. ويتعلم الطلبة هذه اللغة يف إطارها يف جمال السياحة فقط مثل املفردات  \n",
      "املرجوة  اهلدف  تتحقق  فيها حىت  والتعزيز  الكافية  التدريبات  مع  )السياحة(   ,Yusl \n"
     ]
    },
    {
     "name": "stderr",
     "output_type": "stream",
     "text": [
      "3135824it [00:36, 86047.17it/s]"
     ]
    },
    {
     "name": "stdout",
     "output_type": "stream",
     "text": [
      "Apakah faedah dan keperluan untuk memohon insentif cukai untuk pusat jagaan kanak-kanak milik persendirian di Malaysia? \n"
     ]
    },
    {
     "name": "stderr",
     "output_type": "stream",
     "text": [
      "3170618it [00:36, 86519.03it/s]"
     ]
    },
    {
     "name": "stdout",
     "output_type": "stream",
     "text": [
      "يف سورة اإلخالص داللة اجلزم\n",
      "Assertive Semantic in Surah al-Ikhlas \n",
      "\n",
      "\n",
      "\n",
      " \n",
      " 2نورفائزة حممد حامدين ،1هشام الدين حممد يوسف \n",
      "\n",
      "\n",
      "\n",
      " \n",
      " البحث   ملخص\n",
      "\n",
      "\n",
      "\n",
      "قضية التوحيد عن  ألهنا تفسر    ، كيز على سورة اإلخالصداللة اجلزم يف النحو العريب ابلت   اسةالدر هذه  ت  تناول\n",
      "اجلازم  االعتقاد  للدفاع عن  اجلزم هي  للمسلم  اخلالص  داللة  اآلايت   دالالت الحدى  إ .  تظهر من  اليت  الصوتية \n",
      "\n",
      "\n",
      "\n",
      "، فبناء على ذلك، البحث والدراسة يف توضيح مبينة  مقاصدمعينة و وهلا معان  من صفات األحرف العربية  القرآنية  \n",
      "للغاية. ومقاصدها    معانيها  مهما  أمرا  فقط    يعد  الفعل  على  اجلزم  يقع  الرفعوملاذا  مثل  االسم   والنصب.  دون \n",
      "\n",
      "\n",
      "\n",
      "فعل األمر مباشرة وداللة اجلزم على على    اجلزم  لى داللةعلى منهج التحليل، ستقتصر الدراسة ع  تطرقت الدراسة\n",
      "وأتثريها على   يف سورة اإلخالص   اللة اجلزم إىل بيان أمهية دالدراسة  وهدفت  .  زمعوامل اجلالفعل املضارع بواسطة  \n",
      "\n",
      "\n",
      "\n",
      "والضغط   أن هناك شدة يف معىن الكلمة يف تلك السورة  أمهها  ، وتوصلت إىل عدة نتائجمعىن اآلية بشكل أعمق\n",
      " . السورةالصويت عند تالوة  \n",
      "\n",
      "\n",
      "\n",
      "\n",
      "\n",
      "\n",
      "\n",
      " داللة، اجلزم، سورة اإلخالص :  الكلمات املفتاحية\n",
      " \n",
      "\n",
      "\n",
      "\n",
      "ABSTRACT \n",
      "\n",
      "\n",
      "\n",
      "This study dealt with the significance of assertiveness in Arabic grammar by focusing on \n",
      "\n",
      "\n",
      "\n",
      "Surah Al-Ikhlas, because it is interpreted for the issue of pure monotheism to defend the firm \n",
      "\n",
      "\n",
      "\n",
      "belief of the Muslim. The significance of assertion is one of the phonetic connotations that \n",
      "\n",
      "\n",
      "\n",
      "appear from the Qur'anic verses of the characteristics of the Arabic letters and has certain \n",
      "\n",
      "\n",
      "\n",
      "meanings and clear purposes, so accordingly, research and study in clarifying their \n",
      "\n",
      "\n",
      "\n",
      "meanings and purposes is very important. The study touched on the method of analysis, the \n",
      "\n",
      "\n",
      "\n",
      "study will be limited to the indication of assertion on the act of the command directly and the \n",
      "\n",
      "\n",
      "\n",
      "indication of assertion on the present tense verb by assertive factors. The study aimed to \n",
      "\n",
      "\n",
      "\n",
      "show the importance of the significance of assertiveness in Surah Al-Ikhlas and its impact on \n",
      "\n",
      "\n",
      "\n",
      "the meaning of the verse in a deeper way, and reached several results, the most important of \n",
      "\n",
      "\n",
      "\n",
      "which is that there is intensity in the meaning of the word in that surah and the sound \n",
      "\n",
      "\n",
      "\n",
      "pressure when reciting the surah. \n",
      "\n",
      "\n",
      "\n",
      " \n",
      "Keywords: Indication, Assertiveness, Surah Al-Ikhlas   \n",
      "\n",
      "\n",
      "\n",
      "\n",
      "\n",
      "\n",
      "\n",
      "     hisyamkias@gmail.com، العاملية اإلسالميةاجلامعية لعربية، كلية السلطان إمساعيل فتا ضر بقسم اللغة ااحملا 1\n",
      " norfaezah@kuis.edu.my،احملاضرة بقسم اللغة العربية، اجلامعة اإلسالمية بسالجنور 2\n",
      "\n",
      "\n",
      "\n",
      "\n",
      "\n",
      "\n",
      "\n",
      "\n",
      "125 \n",
      "\n",
      "\n",
      "\n",
      "\n",
      "\n",
      "\n",
      "\n",
      " مقدمة \n",
      "يفهم  النص، حىت  يف  الكلمات  إعراب  يف  واإلتقان  العريب  الكالم  يف  اإلتقان  النحوية  الدراسة  أهداف  من  إن \n",
      "البعض أن النحو هو اإلعراب، وتسبيبا من ذلك فقد أكد البعض املقول املشتهر \" إذا صح اإلعراب صح املعىن \n",
      "\n",
      "\n",
      "\n",
      "ابلعربية الفصيحة عند التقدمي أو احلوار اليومي.   همكالز يف اللغة العربية هو من حتسن  ملمتاوصحت املسألة \". وا\n",
      "، حصل (28م،  1971لكن مع األسف الشديد أن من أهم وظيفة النحو العريب هو فهم املعىن )متام، حسان،  \n",
      "\n",
      "\n",
      "\n",
      "لم خاص ال يدخل يف . رغما عن ذلك، هناك ع هذا بوضع احلركات اإلعرابية على الكلمات املقصودة يف النص\n",
      "ال وهو اجلزم، ، أ لكن قد وقع على أواخر الكلمة لتعرب منها غرضا معينا لتلك الكلماتابية  قائمة احلركات اإلعر \n",
      "\n",
      "\n",
      "\n",
      "املناسب له امليزان  لنا أن نضع  يتجاوز إىل   فينبغي  بل  يقتصر على عالمته فحسب  يكثر احلديث عنه، ال  كي \n",
      "اجملزومة اليت جندها مات  الكل يف النحو العريب وسوف نبينه خالل    هنا سوف نكّسر ما هي غرضه  .معناه وداللته\n",
      "\n",
      "\n",
      "\n",
      "     يف سورة اإلخالص. \n",
      " \n",
      "\n",
      "\n",
      "\n",
      " مشكلة البحث \n",
      "من   قضية  اجلزم  وكذلك  قضااي  اليعد  العربية،  للغة  الصحيح  املعىن  أتدية  يف  مبفهومه اللغوية  واإلملام  فهمه  يعد \n",
      "\n",
      "\n",
      "\n",
      "يف   أساسية  قاعدة  من  وداللته  نص  أي  يف  احملزومة  الكلمات  احلركات توظيف  من  يعترب  ال  واجلزم  النصوص. \n",
      "لكنه يدل على شيء معني يف احلركات الثالثة الرفع والنصب واجلر.  عرابية ألنه ال يتحرك اللسان كما حدث  اإل\n",
      "\n",
      "\n",
      "\n",
      "يتالعب بني األدوات اجلازمة من عامل اجلزم وأدوات الشرط. هو  ءته و ق \n"
     ]
    },
    {
     "name": "stderr",
     "output_type": "stream",
     "text": [
      "3490398it [00:40, 86015.42it/s]"
     ]
    },
    {
     "name": "stdout",
     "output_type": "stream",
     "text": [
      "등록 과 검사에 대해 규정함을 목적으로 합니다. 보일러, 비폭발 압 력용기, 승객용 승강기, 천정형 이동 크레인 및 곤돌라와 같 은 인증 받은 기계류는 반드시 설계 요건, 기술 규격, 시험 및 검사에서 승인을 받아야 합니다. 제조회사는 직업안전보건 국(DOSH)의 설계 승인을 받기 위해 SKUD 시스템 (www. dosh.gov.my)을 통해 온라인으로 도면, 기술계산서, 제조업 체 인증서 및 기타 증빙 서류를 제출하여야 합니다. 말레이시아 내의 모든 공장과 일반 기계류는 반드시 설치 가 동 전에 직업안전보건국 (DOSH)에 등록하여야 합니다. 특수 장비와 공정의 작동, 설치, 유지관리 및 해체는 유자격자 를 필요로 합니다. 따라서 크레인, 리프트 및 사다리와 같은 기계류와 장비의 설치 도중에는 안전한 설치를 보장하기 위해 유자격자가 작업을 담당하는 것이 의무적입니다. 증기 보일 러와 같은 고위험 장비는 보일러 기사와 증기 기사와 같은 관 련 유자격자가 운전하여야 합니다. 직업안전보건국(DOSH)은 1967년의 공장기계법(FMA)에 의 거하여 15 개 규정을 시행하고 있습니다. 그 규정은 다음과 같 습니다. 1. 1970년의 승객용 및 화물용 전기승강기 규정 2. 1970년의 기계류의 방호책 설치 및 안전 규정 3. 1970년의 통지, 적합성 증명서 및 검사 규정 4. 1970년의 담당자 규정 5. 1970년의 안전, 건강 및 복지 규정 6. 1970년의 증기 보일러 및 비폭발 압력용기 규정 7. 1970년의 자격 증명서-시험 규정 8. 1970년의 관리 규정 9. 1978년의 화해가능범죄(Compoundable Offenses) 규정 10. 1978년의 범죄의 화해 규칙 11. 1984년의 납 규정 12. 1986년의 석면 공정 규정 13. 1986년의 건물 관리 및 토목 건설 공사(안전) 규정 14. 1989년의 광물 분진 규정 15. 2014년의 특수검사제도(위험 기반 검사) 규정 1984년에는 석유(안전조치)법이 시행에 들어갔습니다. 석유 (안전조치)법은 석유의 수송, 보관과 이용상의 안전을 규제함 을 목적으로 합니다. 석유(안전조치)법의 적용 범위는 도로와 철도, 선박, 파이프라인에 의한 석유의 수송 그리고 석유의 보 관과 취급 등입니다. 석유 취급상의 안전에 대한 경각심과 이해도를 높일 목적으 로, 1984년의 석유(안전조치)법은 2개의 하부 규정으로 관보 에 공지되었습니다. 이 법의 하부 규정은 다음과 같습니다. 1. 1985년의 석유 파이프라인 수송 규정 2. 1985년의 석유 선박 수송 규정 6. 산업 관계 6.1 노조 일반적으로, 고용주와 근로자는 양쪽 모두 자신의 이익을 보 호하기 위해 자신이 소속된 노조를 만들고 그 노조에 가입할 권리를 가지며, 어떤 특수 조직, 업종, 직업 또는 산업 내에서 도 그와 같은 조건들을 충족해야 합니다. 노조원 자격은 지 리적으로 제한됩니다. 예컨대, 말레이시아 반도의 근로자나 고용주는 이 반도 내에 근거지를 둔 노조에만 가입하여야 하 는 한편, 사바주(Sabah) 또는 사라왁주(Sarawak)의 근로자 나 고용주는 사바주나 사라왁주에 설립된 노조의 회원이 되어 야 합니다. 노조의 주된 목적은 다음과 같습니다. i. 근로자와 고용주 간에 좋은 노사 관계를 촉진하거나, 근 로 조건을 개선하거나, 또는 그들의 경제적 사회적 지위 를 향상시키거나 생산성을 증대하기 위한 목적에서 근로 자와 고용주 간의 관계를 규정함. ii. 근로자와 근로자 또는 근로자와 고용주 간의 관계를 규정함. iii. 노사 분쟁에서 근로자나 고용주를 대리함. iv. 노사 분쟁 및 그와 관련된 문제의 실행 또는 처리. 또는 v. 어떤 업종이나 산업에서든 파업이나 직장폐쇄의 추진, 조직화 또는 금융 지원 또는 파업이나 직장폐쇄 도중인 회원에 대한 급료 제공 또는 기타 혜택 제공 노조의 결성, 기능, 의무 및 활동에 대한 방침과 지침은 일반 적으로 인적자원부(Ministry of Human Resources), 노동 조합문제국(Trade Unions Affairs Department)의 관할 하 에 1959년의 노동조합법(Trade Union Act)과 1959년의 노 동조합규정(Trade Union Regulations)에 그 특징이 기술되 어 있습니다. 57 산업 인력 6.2 1967년의 노사관계법 (Industrial Relations Act) 말레이시아의 노사관계제도는 1967년의 노사관계법(Indus- trial Relations Act 1967)의 법적 틀 내에서 운영되고 있습 니다. 노사관계법은 말레이시아 노사관계국(Department of Industrial Relations, Malaysia, DIRM)에 의해 시행되고 국 내의 고용주, 근로자 및 노조 간의 관계를 규제합니다. 무엇보 다도 이 법의 개략적인 주요 골자는 다음과 같습니다. i. 노동조합의 대표권 인정 청구 절차와 대표권 범위에 관 한 개략적인 조항 ii. 노동조합과 고용주 간의 효과적인 단체교섭과 후속 단체 협약 체결의 원활한 진행에 관한 조항 iii. 판결을 위한 인적자원부 및 노사관계법원(Industiral Court)에의 회부를 포함한 노사 간 분쟁의 예방과 해결 에 관한 조항 iv. 피켓 시위, 파업 및 직장폐쇄 등과 같은 쟁의 행위에 관한 조항 v. 노동자의 복직 청구 대리인 관련 조항 vi. 노사관계법원의 운영에 관한 조항. 그리고 vii. 말레이시아 노사관계국(Department of Industrial Relations) 소속 공무원의 조사권에 관한 조항 추가로, 노사관계국(DIRM)은 전국에 소재하는 지국을 통해 노사관계 관련 제반 사항과 문의에 대해 자문 서비스를 제공 합니다. 6.3 무 노조 사업장의 노사관계 노조가 없는 사업장의 경우 통상적인 분규 해결 절차는 근로 자가 자신의 상사, 현장 십장 또는 고용주로부터 시정을 구하 도록 노력하는 것입니다. 또한 근로자는 인적자원부에 고충 을 제기할 수 있으며, 고충을 접수한 인적자원부는 조사를 실 시하게 됩니다. 58 제 6장 은행, 금융 및 외환 관리 은행, 금융 및 외환 1. 말레이시아의 금융 시스템 1.1 중앙은행 1.2 금융 기관 1.2.1 이슬람 금융 산업 1.2.2 개발 금융 기관 2.\n",
      "\n",
      "Apakah peraturan dan keperluan untuk pendaftaran dan pemeriksaan jentera dan peralatan di Malaysia? \n"
     ]
    },
    {
     "name": "stderr",
     "output_type": "stream",
     "text": [
      "3525054it [00:40, 86595.41it/s]"
     ]
    },
    {
     "name": "stdout",
     "output_type": "stream",
     "text": [
      " Terdapat beberapa faktor utama yang mempengaruhi perkembangan pasaran sukuk. Faktor-faktor ini termasuk pertimbangan pasaran dan komersial, serta kepentingan kesesuaian dengan syariah Islam. Kedua-dua faktor ini saling berkaitan dan tidak dapat dipisahkan.\n"
     ]
    },
    {
     "name": "stderr",
     "output_type": "stream",
     "text": [
      "3713822it [00:42, 86397.24it/s]\n"
     ]
    }
   ],
   "source": [
    "from tqdm import tqdm\n",
    "\n",
    "data = []\n",
    "with open('shuf-combine-malay-no-alignment-multitasks-v4.jsonl') as fopen:\n",
    "    for l in tqdm(fopen):\n",
    "        l = json.loads(l)\n",
    "        if 'function_call' in l and not isinstance(l['function_call'], str):\n",
    "            print(l['function_call'])\n",
    "        if generate_and_tokenize_prompt(l) is not None:\n",
    "            data.append(l)"
   ]
  },
  {
   "cell_type": "code",
   "execution_count": 24,
   "id": "6c0ef662",
   "metadata": {},
   "outputs": [
    {
     "data": {
      "text/plain": [
       "3713793"
      ]
     },
     "execution_count": 24,
     "metadata": {},
     "output_type": "execute_result"
    }
   ],
   "source": [
    "len(data)"
   ]
  },
  {
   "cell_type": "code",
   "execution_count": 25,
   "id": "f411f5f1",
   "metadata": {},
   "outputs": [],
   "source": [
    "with open('shuf-combine-malay-no-alignment-multitasks-v4.jsonl', 'w') as fopen:\n",
    "    for d in data:\n",
    "        fopen.write(f'{json.dumps(d)}\\n')"
   ]
  },
  {
   "cell_type": "code",
   "execution_count": 26,
   "id": "5e520e00",
   "metadata": {},
   "outputs": [
    {
     "name": "stdout",
     "output_type": "stream",
     "text": [
      "3713793 shuf-combine-malay-no-alignment-multitasks-v4.jsonl\r\n"
     ]
    }
   ],
   "source": [
    "!wc -l shuf-combine-malay-no-alignment-multitasks-v4.jsonl"
   ]
  },
  {
   "cell_type": "code",
   "execution_count": 27,
   "id": "10f56ef5",
   "metadata": {},
   "outputs": [
    {
     "name": "stderr",
     "output_type": "stream",
     "text": [
      "3713793it [00:39, 92994.89it/s]\n"
     ]
    }
   ],
   "source": [
    "with open('shuf-combine-malay-no-alignment-multitasks-v4.jsonl') as fopen:\n",
    "    for l in tqdm(fopen):\n",
    "        l = json.loads(l)\n",
    "        if 'function_call' in l and not isinstance(l['function_call'], str):\n",
    "            print(l['function_call'])\n",
    "        if generate_and_tokenize_prompt(l) is None:\n",
    "            break"
   ]
  },
  {
   "cell_type": "code",
   "execution_count": 28,
   "id": "1162291b",
   "metadata": {
    "scrolled": true
   },
   "outputs": [
    {
     "name": "stderr",
     "output_type": "stream",
     "text": [
      "3713793it [00:25, 148200.89it/s]\n"
     ]
    }
   ],
   "source": [
    "with open('shuf-combine-malay-no-alignment-multitasks-v4.jsonl') as fopen:\n",
    "    for l in tqdm(fopen):\n",
    "        l = json.loads(l)\n",
    "        if 'function_call' in l:\n",
    "            break"
   ]
  },
  {
   "cell_type": "code",
   "execution_count": 33,
   "id": "c2eb5e2a",
   "metadata": {},
   "outputs": [],
   "source": [
    "with open('shuf-combine-malay-no-alignment-multitasks-v4.jsonl') as fopen:\n",
    "    for l in fopen:\n",
    "        if '-----' in l:\n",
    "            print(l)"
   ]
  },
  {
   "cell_type": "code",
   "execution_count": 30,
   "id": "2ec02091",
   "metadata": {
    "scrolled": false
   },
   "outputs": [
    {
     "name": "stdout",
     "output_type": "stream",
     "text": [
      "{\"prompt_input\": null, \"input\": \"Cipta fungsi yang dipanggil `promptModal` yang meniru fungsi JavaScript `prompt` yang dibina dalam tetapi menggunakan dialog modal untuk input pengguna. Fungsi ini harus dapat:\\n\\n1. Paparkan dialog modal dengan tajuk dan mesej yang boleh dikonfigurasi.\\n2. Sokong sekurang-kurangnya dua butang: 'OK' dan 'Batal'. Anda mungkin menyertakan lebih banyak lagi jika dikehendaki.\\n3. Terima fungsi panggilan balik sebagai argumen yang dilaksanakan apabila pengguna mengklik salah satu butang. Fungsi panggilan balik harus menerima nilai butang (contohnya, 'OK' atau 'Batal') dan objek data pilihan sebagai argumennya.\\n4. Secara pilihan, sokong label butang khusus dan gaya.\\n\\nBerikut adalah contoh bagaimana fungsi boleh dipanggil:\\n\\n```javascript\\npromptModal(\\\"Hello user\\\", \\\"Welcome!\\\", [\\\"yes-green\\\", \\\"no-red\\\"], function(button, data) {\\n  if (button === \\\"no\\\") {\\n    alert(`Saya tidak peduli dengan jawapan anda ${data.ha}!`, \\\"Warning\\\");\\n  }\\n}, {\\\"ha\\\":\\\"HAHAHA\\\"});\\n```\\n\\nObjek `data` boleh digunakan untuk menghantar data tambahan ke fungsi panggilan balik, dan array butang boleh digunakan untuk menyesuaikan label dan gaya butang.\", \"output\": \"Untuk membuat fungsi `promptModal`, kita boleh mengikuti langkah-langkah berikut:\\n\\n1. Tentukan fungsi dengan argumen yang diperlukan, termasuk mesej, tajuk, panggilan balik, dan objek data pilihan.\\n2. Tentukan array label dan gaya butang sebagai nilai lalai argumen `buttons`.\\n3. Cipta struktur HTML dialog modal dan tambahkan ke dalam badan dokumen.\\n4. Populasikan dialog modal dengan tajuk dan mesej yang diberikan.\\n5. Loop melalui array `buttons` untuk membuat dan menambahkan setiap butang ke dialog modal.\\n6. Tambahkan pendengar acara klik pada setiap butang, memicu fungsi panggilan balik apabila diklik.\\n7. Tunjukkan dialog modal.\\n\\nBerikut adalah kod untuk fungsi `promptModal`:\\n\\n```javascript\\nfunction promptModal(message, title, buttons = [\\n    { label: \\\"OK\\\", className: \\\"btn-primary\\\" },\\n    { label: \\\"Cancel\\\", className: \\\"btn-secondary\\\" }\\n], callback, data) {\\n\\n  // Cipta struktur HTML dialog modal\\n  const modalDialog = `<div class=\\\"modal\\\" tabindex=\\\"-1\\\">\\n    <div class=\\\"modal-dialog\\\">\\n      <div class=\\\"modal-content\\\">\\n        <div class=\\\"modal-header\\\">\\n          <h5 class=\\\"modal-title\\\">${title}</h5>\\n          <button type=\\\"button\\\" class=\\\"btn-close\\\" data-bs-dismiss=\\\"modal\\\" aria-label=\\\"Close\\\"></button>\\n        </div>\\n        <div class=\\\"modal-body\\\">\\n          <p>${message}</p>\\n        </div>\\n        <div class=\\\"modal-footer\\\">\\n        </div>\\n      </div>\\n    </div>`;\\n\\n  // Tambahkan dialog modal ke dalam badan\\n  document.body.insertAdjacentHTML(\\\"beforeend\\\", modalDialog);\\n\\n  // Populasikan dialog modal dengan tajuk dan mesej yang diberikan\\n  const modal = document.querySelector(\\\".modal\\\");\\n  modal.querySelector(\\\".modal-title\\\").textContent = title;\\n  modal.querySelector(\\\".modal-body p\\\").textContent = message;\\n\\n  // Loop melalui array butang untuk membuat dan menambahkan setiap butang\\n  const footer = modal.querySelector(\\\".modal-footer\\\");\\n  buttons.forEach(button => {\\n    const btn = document.createElement(\\\"button\\\");\\n    btn.type = \\\"button\\\";\\n    btn.className = `btn ${button.className}`;\\n    btn.textContent = button.label;\\n    btn.dataset.value = button.label.toLowerCase();\\n    footer.appendChild(btn);\\n\\n    // Tambahkan pendengar acara klik\\n    btn.addEventListener(\\\"click\\\", () => {\\n      modal.remove(); // Buang dialog modal\\n      callback(btn.dataset.value, data);\\n    });\\n  });\\n\\n  // Tunjukkan dialog modal\\n  modal.querySelector(\\\".btn-close\\\").addEventListener(\\\"click\\\", () => modal.remove());\\n  modal.style.display = \\\"block\\\";\\n  const closeModal = () => modal.remove();\\n  setTimeout(closeModal, 10000); // Auto-close modal selepas 10 saat\\n}\\n```\\n\\nPelaksanaan ini menyokong label dan gaya butang khusus, serta objek data pilihan. Fungsi `promptModal` memaparkan dialog modal dan menunggu pengguna mengklik pada salah satu butang. Setelah butang diklik, fungsi panggilan balik dipicu, dan dialog modal dikeluarkan dari dokumen. Jika pengguna tidak berinteraksi dengan modal selama 10 saat, ia akan ditutup secara automatik.\"}\r\n",
      "{\"prompt_input\": null, \"input\": \"<manusia>: Generative Pre-trained Transformer atau GPT adalah sistem kecerdasan buatan yang memerlukan pengguna masukkan teks ringkas dan menerima maklum balas yang panjang dan penuh konteks seakan bersembang dengan manusia. \\n\\nPopulariti GPT adalah hebat sekali sehingga digunakan banyak pada pelbagai sistem seperti DALL.E untuk janaan grafik berasaskan teks atau yang terkini enjin carian Bing dengan sistem GPT yang memberikan data terkini.\\n\\nMarioGPT is a finetuned GPT2 model that is trained on a subset of Super Mario Bros levels. To incorporate prompt information, we utilize a frozen text encoder in the form of a pretrained bidirectional LLM (BART), and output the average hidden states of the model\\u2019s forward pass. pic.twitter.com/H6ZSPUFgdF\\n\\nTerkini, GPT-2 model AI lama digunakan untuk menjana tahap permainan baharu agar satu permainan itu tidak akan dapat habis dimainkan kerana pengguna boleh masukkan teks untuk menjana para baharu dengan pelbagai cabaran atau tahap yang mudah menang.\\n\\nSistem ini adalah MarioGPT, yang boleh menjana tahap baharu tanpa henti dan membolehkan pemain bermain permainan Mario sampai bila-bila. Seperti sistem DALL.E, pengguna hanya perlu masukkan teks butiran mengenai tahap permainan yang diingini seperti \\u201clebih banyak paip, banyak musuh, blok yang sedikit dan sudut dongakan rendah\\u201d.\\n\\nWalaupun nampak menarik, MarioGPT tidak boleh menjadi permainan Mario sepenuhnya kerana musuh yang boleh dijana terhad kepada satu sahaja sama ada ingin Goombas, Koopas atau lain-lain yang boleh ditukar. Salah satu sebab pengehadan in mungkin kerana penggunaan GPT-2 yang lama dan hanya boleh melatih AI dengan data ringan. Tetapi pembangunnya ada merancang untuk kemaskini dengan GPT terkini atau dengan set data yang lebih besar.\\n\\nThanks for reading! Here are some videos of an A* agent enjoying MarioGPT-generated levels. Enjoy! \\ud83d\\ude04 pic.twitter.com/mZJdp2WV83\\n\\nSistem di sebalik MarioGPT juga tidak terhad kepada permainan Mario sahaja dan turut boleh digunakan pada permainan lain seperti Sonic. Apa kata anda jika permainan dengan tahap yang dijana AI ini dipasarkan secara komersil agar anda boleh main tanpa henti?\\nApart from Mario, what other video games can the system behind MarioGPT be applied to?\\n<bot>: Sistem di belakang MarioGPT, yang merupakan model GPT2 yang diperhalusi, berpotensi untuk digunakan pada permainan video lain juga. Keperluan utama ialah ketersediaan data berasaskan teks daripada permainan, yang boleh digunakan untuk melatih model untuk menjana tahap atau kandungan baharu.\\n\\nSebagai contoh, pendekatan yang sama boleh diambil untuk menjana tahap untuk permainan platformer lain seperti Sonic the Hedgehog atau Rayman. Malah, sudah ada projek serupa yang telah menggunakan model gaya GPT untuk menjana tahap untuk permainan seperti Super Mario Bros dan Sonic the Hedgehog.\\n\\nAplikasi berpotensi teknologi ini melangkaui permainan video sahaja. Ia boleh digunakan untuk menjana tahap atau kandungan baharu untuk jenis media interaktif lain, seperti pengalaman realiti maya atau bilik melarikan diri. Ia juga boleh digunakan dalam pendidikan untuk menjana bahan pembelajaran tersuai atau penilaian berdasarkan keperluan dan keutamaan individu pelajar.\\n\\nWalau bagaimanapun, adalah penting untuk ambil perhatian bahawa masih terdapat pengehadan kepada teknologi ini, seperti yang anda nyatakan dalam contoh anda dengan MarioGPT. Kualiti dan kepelbagaian kandungan yang dijana mungkin dihadkan oleh jumlah dan kualiti data latihan yang tersedia, serta keupayaan model AI yang mendasari. Selain itu, mungkin terdapat pertimbangan etika dan undang-undang yang perlu diambil kira semasa menjana dan menggunakan kandungan yang dijana AI, terutamanya dalam konteks komersial atau berkepentingan tinggi.\\n<manusia>: Mengarut, itu benar-benar tidak masuk akal!\\n<bot>: Saya memohon maaf sekiranya jawapan saya sebelum ini tidak menepati jangkaan anda. Jika anda mempunyai sebarang soalan atau kebimbangan khusus tentang penggunaan AI dalam permainan video atau konteks lain, saya berbesar hati untuk cuba menanganinya.\\n\\nUntuk menjelaskan, penggunaan AI untuk menjana kandungan permainan adalah bidang penyelidikan dan pembangunan yang aktif, dan sudah ada beberapa contoh permainan yang menggunakan AI dalam pelbagai cara untuk mencipta tahap baharu, musuh, atau elemen lain. Walau bagaimanapun, seperti mana-mana teknologi, terdapat batasan dan cabaran yang perlu ditangani, seperti memastikan kualiti dan kepelbagaian kandungan yang dihasilkan, mengelakkan berat sebelah atau ketidakadilan, dan menangani pertimbangan etika dan undang-undang.\\n\\nDalam kes MarioGPT, ia adalah projek penyelidikan yang menggunakan model GPT2 yang diperhalusi untuk menjana tahap Super Mario Bros baharu berdasarkan gesaan teks. Walaupun ia telah menunjukkan hasil yang menjanjikan, ia bukan produk komersial dan harus dianggap sebagai bukti konsep pada peringkat ini.\\n\\nJika anda mempunyai sebarang soalan atau kebimbangan lanjut, sila beritahu saya.\", \"output\": null}\r\n",
      "{\"prompt_input\": null, \"input\": \"Adakah terdapat cara untuk menentukan sama ada semua aksara dalam satu rentetan tertentu adalah unik? Saya perlu menulis fungsi yang boleh memeriksa sama ada satu rentetan mempunyai sebarang aksara berulang.\", \"output\": \"Ya, anda boleh menulis fungsi dalam Bahasa Melayu untuk memeriksa sama ada rentetan mempunyai sebarang aksara berulang. Berikut adalah contoh fungsi dalam Bahasa Melayu yang menggunakan konsep hashset untuk menyelesaikan masalah ini:\\n\\n```python\\ndef all_karakter_unik(string):\\n    character_set = set()\\n    \\n    for character in string:\\n        # Jika aksara telah berulang, maka rentetan tidak mempunyai semua aksara unik\\n        if character in character_set:\\n            return False\\n        character_set.add(karakter)\\n    \\n    # Jika sampai ke sini, bermakna semua aksara adalah unik\\n    return True\\n\\n# Contoh panggilan fungsi:\\nstring_test = \\\"abcdefghijklmnopqrstuvwxyz\\\"\\nresult = all_karakter_unik(string_test)\\nprint(hasil)  # Output: True\\n\\nstring_test = \\\"hello\\\"\\nresult = all_karakter_unik(string_test)\\nprint(hasil)  # Output: False\\n```\\n\\nFungsi `all_karakter_unik` mengambil satu rentetan sebagai input. Ia kemudian mengitar setiap aksara dalam rentetan dan menyimpannya dalam hashset yang dinamakan `karakter_set`. Jika satu aksara telah berulang, maka fungsi akan mengembalikan `False`, menunjukkan rentetan tidak mempunyai semua aksara unik. Jika iterasi selesai tanpa sebarang aksara berulang, fungsi akan mengembalikan `True`, menunjukkan rentetan mempunyai semua aksara unik. Contoh penggunaan fungsi ini juga disediakan.\"}\r\n"
     ]
    }
   ],
   "source": [
    "!head -n 3 shuf-combine-malay-no-alignment-multitasks-v4.jsonl"
   ]
  },
  {
   "cell_type": "code",
   "execution_count": 38,
   "id": "8e78e661",
   "metadata": {},
   "outputs": [],
   "source": [
    "!rm -rf mosaic"
   ]
  },
  {
   "cell_type": "code",
   "execution_count": 39,
   "id": "eb55ded4",
   "metadata": {},
   "outputs": [
    {
     "name": "stderr",
     "output_type": "stream",
     "text": [
      "\n",
      "0it [00:00, ?it/s]\u001b[A\n",
      "20680it [00:00, 115872.80it/s]\u001b[A\n",
      "41479it [00:00, 123238.91it/s]\u001b[A\n",
      "62409it [00:00, 125042.58it/s]\u001b[A\n",
      "83171it [00:00, 126871.31it/s]\u001b[A\n",
      "103867it [00:00, 127576.96it/s]\u001b[A\n",
      "124700it [00:00, 128369.43it/s]\u001b[A\n",
      "145547it [00:01, 128309.37it/s]\u001b[A\n",
      "166179it [00:01, 128079.05it/s]\u001b[A\n",
      "187011it [00:01, 128643.98it/s]\u001b[A\n",
      "207830it [00:01, 128902.18it/s]\u001b[A\n",
      "228509it [00:01, 128181.37it/s]\u001b[A\n",
      "249407it [00:01, 128519.83it/s]\u001b[A\n",
      "270090it [00:02, 126980.58it/s]\u001b[A\n",
      "290758it [00:02, 126923.32it/s]\u001b[A\n",
      "311456it [00:02, 127799.00it/s]\u001b[A\n",
      "332392it [00:02, 128628.28it/s]\u001b[A\n",
      "353299it [00:02, 129080.80it/s]\u001b[A\n",
      "374059it [00:02, 128587.97it/s]\u001b[A\n",
      "394778it [00:03, 128517.69it/s]\u001b[A\n",
      "415549it [00:03, 127175.18it/s]\u001b[A\n",
      "436386it [00:03, 127601.70it/s]\u001b[A\n",
      "457332it [00:03, 127345.50it/s]\u001b[A\n",
      "478048it [00:03, 127645.08it/s]\u001b[A\n",
      "498898it [00:03, 127947.01it/s]\u001b[A\n",
      "519532it [00:04, 127672.29it/s]\u001b[A\n",
      "540315it [00:04, 128019.60it/s]\u001b[A\n",
      "560902it [00:04, 127877.62it/s]\u001b[A\n",
      "581534it [00:04, 128003.39it/s]\u001b[A\n",
      "602364it [00:04, 128119.40it/s]\u001b[A\n",
      "623192it [00:04, 128586.02it/s]\u001b[A\n",
      "643938it [00:05, 128555.47it/s]\u001b[A\n",
      "664671it [00:05, 128368.57it/s]\u001b[A\n",
      "685494it [00:05, 127138.41it/s]\u001b[A\n",
      "706357it [00:05, 127694.13it/s]\u001b[A\n",
      "727102it [00:05, 127382.78it/s]\u001b[A\n",
      "747706it [00:05, 127456.02it/s]\u001b[A\n",
      "768545it [00:06, 127875.21it/s]\u001b[A\n",
      "789132it [00:06, 127875.84it/s]\u001b[A\n",
      "810047it [00:06, 128199.65it/s]\u001b[A\n",
      "830761it [00:06, 128306.07it/s]\u001b[A\n",
      "851673it [00:06, 128553.11it/s]\u001b[A\n",
      "872325it [00:06, 128441.43it/s]\u001b[A\n",
      "892956it [00:06, 128156.52it/s]\u001b[A\n",
      "913832it [00:07, 128343.32it/s]\u001b[A\n",
      "934505it [00:07, 127765.19it/s]\u001b[A\n",
      "955148it [00:07, 126364.54it/s]\u001b[A\n",
      "975704it [00:07, 126312.81it/s]\u001b[A\n",
      "996422it [00:07, 126688.09it/s]\u001b[A\n",
      "1017289it [00:07, 126961.98it/s]\u001b[A\n",
      "1037988it [00:08, 127035.30it/s]\u001b[A\n",
      "1058954it [00:08, 126345.03it/s]\u001b[A\n",
      "1079818it [00:08, 126248.62it/s]\u001b[A\n",
      "1100708it [00:08, 126770.50it/s]\u001b[A\n",
      "1121368it [00:08, 126532.75it/s]\u001b[A\n",
      "1142107it [00:08, 126760.56it/s]\u001b[A\n",
      "1162956it [00:09, 127021.36it/s]\u001b[A\n",
      "1183839it [00:09, 127352.63it/s]\u001b[A\n",
      "1204627it [00:09, 126707.63it/s]\u001b[A\n",
      "1225460it [00:09, 126615.55it/s]\u001b[A\n",
      "1246334it [00:09, 127102.69it/s]\u001b[A\n",
      "1266968it [00:09, 126972.24it/s]\u001b[A\n",
      "1287712it [00:10, 126767.74it/s]\u001b[A\n",
      "1308337it [00:10, 126363.78it/s]\u001b[A\n",
      "1329098it [00:10, 125998.61it/s]\u001b[A\n",
      "1349741it [00:10, 125781.58it/s]\u001b[A\n",
      "1370534it [00:10, 125774.64it/s]\u001b[A\n",
      "1391124it [00:10, 125229.79it/s]\u001b[A\n",
      "1412054it [00:11, 125087.30it/s]\u001b[A\n",
      "1432928it [00:11, 125724.08it/s]\u001b[A\n",
      "1453890it [00:11, 126260.75it/s]\u001b[A\n",
      "1474467it [00:11, 124502.92it/s]\u001b[A\n",
      "1495219it [00:11, 125198.07it/s]\u001b[A\n",
      "1515864it [00:11, 125665.07it/s]\u001b[A\n",
      "1536609it [00:12, 126347.25it/s]\u001b[A\n",
      "1557382it [00:12, 126643.95it/s]\u001b[A\n",
      "1578030it [00:12, 126173.30it/s]\u001b[A\n",
      "1598871it [00:12, 125388.99it/s]\u001b[A\n",
      "1619501it [00:12, 124596.78it/s]\u001b[A\n",
      "1640147it [00:12, 124162.93it/s]\u001b[A\n",
      "1661028it [00:13, 124279.77it/s]\u001b[A\n",
      "1681996it [00:13, 124379.98it/s]\u001b[A\n",
      "1702897it [00:13, 125252.11it/s]\u001b[A\n",
      "1723675it [00:13, 125253.01it/s]\u001b[A\n",
      "1744537it [00:13, 125702.70it/s]\u001b[A\n",
      "1765374it [00:13, 126114.14it/s]\u001b[A\n",
      "1786355it [00:14, 127192.01it/s]\u001b[A\n",
      "1807227it [00:14, 127567.54it/s]\u001b[A\n",
      "1828009it [00:14, 126284.38it/s]\u001b[A\n",
      "1848992it [00:14, 126952.67it/s]\u001b[A\n",
      "1865708it [00:14, 135258.00it/s]\u001b[A\n",
      "1879612it [00:14, 114354.28it/s]\u001b[A\n",
      "1891618it [00:15, 99293.45it/s] \u001b[A\n",
      "1908116it [00:15, 112995.32it/s]\u001b[A\n",
      "1920378it [00:15, 99071.96it/s] \u001b[A\n",
      "1932295it [00:15, 89847.41it/s]\u001b[A\n",
      "1953051it [00:15, 96628.29it/s]\u001b[A\n",
      "1973752it [00:15, 105162.83it/s]\u001b[A\n",
      "1994398it [00:15, 111532.25it/s]\u001b[A\n",
      "2015255it [00:16, 116481.33it/s]\u001b[A\n",
      "2035760it [00:16, 116324.43it/s]\u001b[A\n",
      "2053405it [00:16, 128533.76it/s]\u001b[A\n",
      "2066911it [00:16, 109982.17it/s]\u001b[A\n",
      "2078605it [00:16, 97179.35it/s] \u001b[A\n",
      "2094961it [00:16, 111131.82it/s]\u001b[A\n",
      "2107053it [00:17, 98038.57it/s] \u001b[A\n",
      "2118432it [00:17, 88270.78it/s]\u001b[A\n",
      "2135326it [00:17, 105700.32it/s]\u001b[A\n",
      "2147026it [00:17, 93549.03it/s] \u001b[A\n",
      "2160011it [00:17, 86248.48it/s]\u001b[A\n",
      "2176469it [00:17, 103042.21it/s]\u001b[A\n",
      "2187966it [00:17, 91322.90it/s] \u001b[A\n",
      "2201702it [00:18, 86436.18it/s]\u001b[A\n",
      "2218414it [00:18, 103707.61it/s]\u001b[A\n",
      "2229995it [00:18, 91965.95it/s] \u001b[A\n",
      "2243289it [00:18, 85299.58it/s]\u001b[A\n",
      "2259533it [00:18, 101696.92it/s]\u001b[A\n",
      "2270920it [00:18, 89951.77it/s] \u001b[A\n",
      "2284667it [00:19, 84589.41it/s]\u001b[A\n",
      "2299676it [00:19, 98416.13it/s]\u001b[A\n",
      "2310635it [00:19, 87498.85it/s]\u001b[A\n",
      "2326343it [00:19, 85771.32it/s]\u001b[A\n",
      "2343170it [00:19, 103042.82it/s]\u001b[A\n",
      "2354675it [00:19, 83851.46it/s] \u001b[A\n",
      "2366805it [00:19, 91596.38it/s]\u001b[A\n",
      "2377212it [00:20, 82458.75it/s]\u001b[A\n",
      "2388788it [00:20, 78476.26it/s]\u001b[A\n",
      "2405439it [00:20, 97520.88it/s]\u001b[A\n",
      "2416405it [00:20, 75262.81it/s]\u001b[A\n",
      "2430567it [00:20, 75306.10it/s]\u001b[A\n",
      "2447171it [00:20, 93152.64it/s]\u001b[A\n",
      "2458163it [00:20, 85214.60it/s]\u001b[A\n",
      "2471903it [00:21, 81953.02it/s]\u001b[A\n",
      "2480977it [00:21, 81692.37it/s]\u001b[A\n",
      "2492684it [00:21, 76613.69it/s]\u001b[A\n",
      "2508889it [00:21, 94993.72it/s]\u001b[A\n",
      "2519450it [00:21, 84621.08it/s]\u001b[A\n",
      "2534214it [00:21, 85130.63it/s]\u001b[A\n",
      "2550294it [00:22, 101576.48it/s]\u001b[A\n",
      "2561492it [00:22, 88849.14it/s] \u001b[A\n",
      "2575562it [00:22, 83575.49it/s]\u001b[A\n",
      "2592557it [00:22, 101733.94it/s]\u001b[A\n",
      "2604003it [00:22, 90425.03it/s] \u001b[A\n",
      "2617038it [00:22, 84513.12it/s]\u001b[A\n",
      "2626263it [00:22, 79629.86it/s]\u001b[A\n",
      "2637709it [00:23, 75534.99it/s]\u001b[A\n",
      "2654317it [00:23, 94817.99it/s]\u001b[A\n",
      "2664845it [00:23, 84797.73it/s]\u001b[A\n",
      "2679332it [00:23, 83087.34it/s]\u001b[A\n",
      "2695780it [00:23, 100486.16it/s]\u001b[A\n",
      "2706952it [00:23, 76008.34it/s] \u001b[A\n",
      "2716100it [00:24, 68346.01it/s]\u001b[A\n",
      "2724034it [00:24, 54228.90it/s]\u001b[A\n",
      "2730529it [00:24, 53818.48it/s]\u001b[A\n",
      "2736644it [00:24, 53479.43it/s]\u001b[A\n",
      "2742493it [00:24, 41771.37it/s]\u001b[A\n",
      "2747576it [00:24, 43477.01it/s]\u001b[A\n",
      "2762140it [00:25, 65175.69it/s]\u001b[A\n",
      "2769935it [00:25, 61793.33it/s]\u001b[A\n",
      "2782991it [00:25, 66178.32it/s]\u001b[A\n",
      "2799585it [00:25, 88108.11it/s]\u001b[A\n",
      "2809595it [00:25, 79831.11it/s]\u001b[A\n",
      "2824460it [00:25, 79281.53it/s]\u001b[A\n",
      "2841489it [00:25, 98789.25it/s]\u001b[A\n",
      "2852605it [00:26, 88496.63it/s]\u001b[A\n",
      "2865823it [00:26, 83766.54it/s]\u001b[A\n",
      "2881815it [00:26, 100171.61it/s]\u001b[A\n",
      "2892991it [00:26, 88575.99it/s] \u001b[A\n",
      "2906897it [00:26, 84237.06it/s]\u001b[A\n",
      "2923781it [00:26, 102240.68it/s]\u001b[A\n",
      "2935250it [00:26, 90818.15it/s] \u001b[A\n",
      "2948472it [00:27, 84833.06it/s]\u001b[A\n",
      "2964897it [00:27, 101744.29it/s]\u001b[A\n",
      "2976304it [00:27, 91002.25it/s] \u001b[A\n",
      "2989809it [00:27, 85759.60it/s]\u001b[A\n",
      "3005884it [00:27, 101833.78it/s]\u001b[A\n",
      "3017229it [00:27, 89890.34it/s] \u001b[A\n",
      "3031010it [00:28, 85385.28it/s]\u001b[A\n",
      "3047767it [00:28, 102906.28it/s]\u001b[A\n",
      "3059278it [00:28, 91135.52it/s] \u001b[A\n",
      "3072474it [00:28, 84724.96it/s]\u001b[A\n",
      "3089281it [00:28, 102413.19it/s]\u001b[A\n",
      "3100795it [00:28, 90510.70it/s] \u001b[A\n",
      "3114230it [00:28, 84861.47it/s]\u001b[A\n",
      "3130715it [00:29, 101797.81it/s]\u001b[A\n",
      "3142156it [00:29, 91215.88it/s] \u001b[A\n",
      "3155683it [00:29, 86140.74it/s]\u001b[A\n",
      "3172033it [00:29, 102725.28it/s]\u001b[A\n",
      "3183490it [00:29, 89856.49it/s] \u001b[A\n",
      "3197205it [00:29, 84631.13it/s]\u001b[A\n",
      "3213897it [00:29, 101991.49it/s]\u001b[A\n",
      "3225369it [00:30, 90367.37it/s] \u001b[A\n",
      "3238512it [00:30, 84059.11it/s]\u001b[A\n",
      "3255176it [00:30, 101484.59it/s]\u001b[A\n",
      "3266612it [00:30, 91169.94it/s] \u001b[A\n",
      "3279867it [00:30, 85333.27it/s]\u001b[A\n",
      "3295815it [00:30, 101188.96it/s]\u001b[A\n",
      "3307109it [00:31, 89131.13it/s] \u001b[A\n",
      "3321422it [00:31, 85130.83it/s]\u001b[A\n",
      "3338169it [00:31, 102518.25it/s]\u001b[A\n",
      "3349665it [00:31, 91093.78it/s] \u001b[A\n",
      "3362685it [00:31, 84875.06it/s]\u001b[A\n",
      "3379263it [00:31, 102065.47it/s]\u001b[A\n",
      "3390708it [00:31, 83737.11it/s] \u001b[A\n",
      "3402771it [00:32, 91480.37it/s]\u001b[A\n",
      "3413150it [00:32, 82529.16it/s]\u001b[A\n",
      "3424658it [00:32, 77100.67it/s]\u001b[A\n",
      "3441213it [00:32, 96133.52it/s]\u001b[A\n",
      "3452070it [00:32, 76931.87it/s]\u001b[A\n",
      "3465995it [00:32, 75558.89it/s]\u001b[A\n",
      "3480841it [00:32, 90078.45it/s]\u001b[A\n",
      "3491266it [00:33, 79375.02it/s]\u001b[A\n",
      "3507383it [00:33, 96724.79it/s]\u001b[A\n",
      "3518549it [00:33, 81050.46it/s]\u001b[A\n",
      "3528550it [00:33, 79344.97it/s]\u001b[A\n",
      "3549251it [00:33, 92965.37it/s]\u001b[A\n",
      "3569917it [00:33, 101555.20it/s]\u001b[A\n",
      "3580407it [00:34, 98894.68it/s] \u001b[A\n",
      "3590656it [00:34, 92364.76it/s]\u001b[A\n",
      "3611504it [00:34, 102198.73it/s]\u001b[A\n",
      "3632359it [00:34, 107744.16it/s]\u001b[A\n",
      "3653228it [00:34, 111755.84it/s]\u001b[A\n",
      "3664316it [00:34, 107561.06it/s]\u001b[A\n",
      "3674898it [00:34, 99123.71it/s] \u001b[A\n",
      "3713793it [00:35, 105456.68it/s]\u001b[A\n"
     ]
    }
   ],
   "source": [
    "from streaming import MDSWriter\n",
    "from streaming import LocalDataset, StreamingDataset\n",
    "\n",
    "columns = {\n",
    "    'text': 'str',\n",
    "}\n",
    "hashes = 'sha1', 'xxh64'\n",
    "\n",
    "with MDSWriter(out='mosaic', columns=columns, compression=None, hashes=hashes) as out:\n",
    "    with open('shuf-combine-malay-no-alignment-multitasks-v4.jsonl') as fopen:\n",
    "        for l in tqdm(fopen):\n",
    "            out.write({\n",
    "                'text': l\n",
    "            })"
   ]
  },
  {
   "cell_type": "code",
   "execution_count": 40,
   "id": "feffcb3c",
   "metadata": {},
   "outputs": [],
   "source": [
    "!cp mosaic/* ~/ssd3/mosaic-chat-instruction-v5"
   ]
  },
  {
   "cell_type": "code",
   "execution_count": 41,
   "id": "8a8e0a75",
   "metadata": {},
   "outputs": [
    {
     "data": {
      "application/vnd.jupyter.widget-view+json": {
       "model_id": "96e69617c4d94940a6d4c4fa4421d281",
       "version_major": 2,
       "version_minor": 0
      },
      "text/plain": [
       "shuf-combine-malay-no-alignment-multitasks-v4.jsonl:   0%|          | 0.00/12.0G [00:00<?, ?B/s]"
      ]
     },
     "metadata": {},
     "output_type": "display_data"
    },
    {
     "data": {
      "text/plain": [
       "CommitInfo(commit_url='https://huggingface.co/datasets/mesolitica/instructions-dataset/commit/eb9c50806f3377d34c94d3e67df70e8fb4535018', commit_message='Upload shuf-combine-malay-no-alignment-multitasks-v4.jsonl with huggingface_hub', commit_description='', oid='eb9c50806f3377d34c94d3e67df70e8fb4535018', pr_url=None, pr_revision=None, pr_num=None)"
      ]
     },
     "execution_count": 41,
     "metadata": {},
     "output_type": "execute_result"
    }
   ],
   "source": [
    "from huggingface_hub import HfApi\n",
    "api = HfApi()\n",
    "api.upload_file(\n",
    "    path_or_fileobj='shuf-combine-malay-no-alignment-multitasks-v4.jsonl',\n",
    "    path_in_repo='shuf-combine-malay-no-alignment-multitasks-v4.jsonl',\n",
    "    repo_id='mesolitica/instructions-dataset',\n",
    "    repo_type='dataset',\n",
    ")"
   ]
  },
  {
   "cell_type": "code",
   "execution_count": null,
   "id": "7d26c709",
   "metadata": {},
   "outputs": [],
   "source": []
  }
 ],
 "metadata": {
  "kernelspec": {
   "display_name": "Python 3 (ipykernel)",
   "language": "python",
   "name": "python3"
  },
  "language_info": {
   "codemirror_mode": {
    "name": "ipython",
    "version": 3
   },
   "file_extension": ".py",
   "mimetype": "text/x-python",
   "name": "python",
   "nbconvert_exporter": "python",
   "pygments_lexer": "ipython3",
   "version": "3.8.10"
  }
 },
 "nbformat": 4,
 "nbformat_minor": 5
}
