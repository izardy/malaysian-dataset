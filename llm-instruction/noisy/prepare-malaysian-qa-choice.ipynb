{
 "cells": [
  {
   "cell_type": "code",
   "execution_count": 1,
   "id": "6020fdf2",
   "metadata": {},
   "outputs": [
    {
     "data": {
      "text/plain": [
       "['/home/husein/ssd3/wikipedia-data/qa-majalahsains.jsonl',\n",
       " '/home/husein/ssd3/wikipedia-data/qa-ms-wikipedia.jsonl',\n",
       " '/home/husein/ssd3/wikipedia-data/qa-dewanbahasa-jdbp.jsonl']"
      ]
     },
     "execution_count": 1,
     "metadata": {},
     "output_type": "execute_result"
    }
   ],
   "source": [
    "from glob import glob\n",
    "import json\n",
    "\n",
    "files = glob('/home/husein/ssd3/wikipedia-data/qa-*.jsonl')\n",
    "files"
   ]
  },
  {
   "cell_type": "code",
   "execution_count": 2,
   "id": "98d105d7",
   "metadata": {},
   "outputs": [],
   "source": [
    "data = []\n",
    "for f in files:\n",
    "    with open(f) as fopen:\n",
    "        for l in fopen:\n",
    "            l = json.loads(l)\n",
    "            break\n",
    "            for q in l['qa']['qa']:\n",
    "                s = f\"{l['paragraph']}\\n\\n{q['question']}\\nA. {q['A']}\\nB. {q['B']}\\nC. {q['C']}\\nD. {q['D']}\"\n",
    "                d = {\n",
    "                    'prompt_input': None,\n",
    "                    'input': s,\n",
    "                    'output': q['answer'],\n",
    "                }\n",
    "                data.append(d)"
   ]
  },
  {
   "cell_type": "code",
   "execution_count": 8,
   "id": "53612e2b",
   "metadata": {},
   "outputs": [
    {
     "data": {
      "text/plain": [
       "'Pelaburan Syarikat China di Malaysia Tingkat Hubungan Dua Hala\\n\\nUntuk mendapatkan maklumat terkini, ikuti kami melalui Telegram\\nKuala Lumpur –\\xa0 Menteri Perdagangan Antarabangsa dan Industri, Tengku Datuk Seri Utama Tengku Zafrul Aziz berkata peningkatan minat syarikat China melabur di Malaysia memberi petanda baik kepada negara dan telah meningkatkan hubungan dua hala antara Malaysia dan China serta telah disokong oleh keyakinan terhadap kerajaan Perpaduan negara.\\nBeliau berkata menerusi satu kenyataan yang dikeluarkan oleh Lembaga Pembangunan Pelaburan Malaysia (MIDA), Kementerian Perdagangan Antarabangsa dan Industri\\xa0 (MITI) akan terus membantu memudahkan urusan para pelabur untuk menjalankan perniagaan di negara ini bagi menunjukkan bahawa Malaysia adalah sebuah negara sentiasa menyokong industri, perdagangan. Beliau juga menzahirkan ucapan tahniah kepada MIDA dan semua agensi berkaitan dalam membantu mendapatkan pelaburan berpotensi yang bernilai RM 170 bilion. “MITI, MIDA dan agensi lain kini perlu mula bekerja keras untuk membuat susulan dan seterusnya merealisasikan pelaburan ini dalam tempoh masa yang singkat,“ katanya.\\nMenerusi misi perdagangan dan pelaburan di China baru-baru ini, ketua pegawai eksekutif MIDA, Datuk Arham Abdul Rahman berkata lebih 20 syarikat telah menunjukkan minat yang serius untuk melabur dalam ekonomi Malaysia yang sedang berkembang pesat melibatkan bidang seperti produk petrokimia, produk solar dan kaca, pusat data antarabangsa dan bahagian-bahagian dan komponen kenderaan elektrik.\\nSyarikat Zhejiang Zhink Group, LONGi, GDS, Shanghai DC Science dan ZTE Corporation\\xa0 merupakan antara syarikat yang menyatakan minat yang mendalam untuk melabur di Malaysia dan kesemua syarikat ini mengakui potensi yang besar di Malaysia. Datuk Arham Abdul Rahman menyatakan pencapaian ini menunjukkan komitmen kerajaan Malaysia untuk menarik pelaburan berkualiti tinggi daripada pengguna teknologi digital utama dunia yang akan menempatkan satu pertiga daripada syarikat unicorn dunia.\\nPada tahun 2022, Malaysia mencatatkan sebanyak RM 264.4 bilion pelaburan diluluskan dalam sektor pembuatan, perkhidmatan dan primer dan daripada jumlah tersebut RM 55.4 bilion telah di sumbang oleh China yang melibatkan sejumlah 91 projek. MIDA berkata usaha niaga ini berpotensi mewujudkan 11 545 peluang pekerjaan baharu bagi tenaga kerja Malaysia yang sekali gus dapat mengukuhkan lagi struktur ekonomi negara.'"
      ]
     },
     "execution_count": 8,
     "metadata": {},
     "output_type": "execute_result"
    }
   ],
   "source": [
    "l['paragraph']"
   ]
  },
  {
   "cell_type": "code",
   "execution_count": 6,
   "id": "f39afdde",
   "metadata": {},
   "outputs": [
    {
     "data": {
      "text/plain": [
       "['Siapakah Menteri Perdagangan Antarabangsa dan Industri Malaysia?',\n",
       " 'Apakah yang dikatakan oleh Tengku Datuk Seri Utama Tengku Zafrul Aziz mengenai peningkatan minat syarikat China melabur di Malaysia?',\n",
       " 'Berapakah nilai pelaburan berpotensi yang diperoleh daripada syarikat China yang bernilai RM 170 bilion?',\n",
       " 'Berapakah bilangan projek yang melibatkan China dan telah diluluskan dalam tahun 2022?']"
      ]
     },
     "execution_count": 6,
     "metadata": {},
     "output_type": "execute_result"
    }
   ],
   "source": [
    "questions = [q['question'] for q in l['qa']['qa']]\n",
    "questions"
   ]
  },
  {
   "cell_type": "code",
   "execution_count": 4,
   "id": "8d4e2fe3",
   "metadata": {},
   "outputs": [
    {
     "data": {
      "text/plain": [
       "{'prompt_input': None,\n",
       " 'input': 'Degup Denyut Anak Malaysia Menyambut Hari Kemerdekaan\\n\\nUntuk mendapatkan maklumat terkini, ikuti kami melalui Telegram\\nPutrajaya –\\xa0Kementerian Pelancongan, Seni dan Budaya (MOTAC) dengan kerjasama Perpustakaan Negara Malaysia (PNM) menganjurkan Program Bicara Malaysiana: Degup Denyut Anak Malaysia yang berlangsung di Menara PNM dan secara dalam talian melalui Youtube PNM.\\nTokoh sejarawan negara yang dijemput untuk membuat perkongsian dalam sesi ini ialah YBhg. Profesor Emeritus Datuk Dr. Abdullah Zakaria Ghazali, Felow\\xa0Persatuan Sejarah Malaysia dan YBrs. Profesor Madya Dr. Zulkarnain Abdul Rahman, Ketua Jabatan Sejarah, Fakulti Sastera dan Sains Sosial, Universiti Malaya (UM) sebagai moderator.\\nProgram tersebut diadakan bersempena bulan kemerdekaan bagi menghargai segala jerih perih nenek moyang dalam membangunkan watan ini. YBhg. Profesor Emeritus Datuk Dr. Abdullah Zakaria telah menghasilkan karya beberapa karya, seperti Institusi Raja Melayu dalam Lipatan Sejarah Malaysia; Penerusan dan Perubahan, Pemberontakan Bersenjata 1948-1960 dan Republik Rakyat Malaya, Merungkai Cita dan Hasrat Sebenar Parti Komunis Malaya.\\nBeliau menegaskan bahawa tarikh 31 Ogos 1957 merupakan hari apabila raja tidak lagi menuntut kedaulatan terhadap Tanah Melayu, dan merupakan satu tarikh tanah air dibebaskan daripada penjajah. Tarikh keramat itu juga dicatat dengan jelas dalam Perlembagaan Persekutuan yang digubal dalam bahasa Inggeris sebagai Merdeka Day\\xa0dan setelah terbentuknya Malaysia pada 16 September 1963, termaktub pula dalam Perlembagaan Persekutuan sebagai Malaysia Day.\\nSetiap rakyat digesa untuk mengingati dan mengenang perjuangan nenek moyang dahulu dalam menegakkan maruah, jati diri dan kedaulatan negara.\\nDalam pemilihan tarikh kemerdekaan, beliau\\xa0memaklumkan bahawa tarikh tersebut adalah dipilih oleh seorang ulama, Abdullah Ahim. Pada tahun 1980-an, rakyat pernah mempersoalkan tentang sebab dikekalkan saki-baki penjajah di tanah air dan beliau berpendapat hal tersebut merupakan satu bukti bahawa orang Melayu pernah menentang Portugis.\\nKemudiannya, YBhg. Profesor Emeritus Datuk Dr. Abdullah Zakaria turut berkongsi bahawa rombongan kemerdekaan dari Lapangan Terbang Sungai Besi ke Singapura dan ke Pelabuhan Tanjung Pagar ke Karachi, kemudian ke Kaherah dan seterusnya ke London telah mengambil masa selama dua minggu. Tuanku Abdul Rahman, Tun Abdul Razak, Tun Dr. Ismail, T.H. Tan, H.S. Lee, Dato’ Nik Ahmad Kamil, Datuk Ahmad Aziz dan Abdul Kader menaiki kapal M.V. Asia dari Singapura, manakala Dato’ Mohd. Seth dan Dato’ Panglima Bukit Gantang Haji Abdul Wahab Toh Muda Abdul Aziz bertolak ke London menaiki kapal terbang.\\nDalam catatan Tuanku Abdul Rahman, beliau memilih jalan yang mengambil tempoh yang lama dan panjang kerana beliau memerlukan masa untuk berunding dan berbincang supaya keputusan yang dibuat setibanya di Kota London tidak bercanggah. Walaupun perbincangan dan rundingan tersebut dibuat dengan disertai oleh Raja-Raja Melayu sebelum perjalanan ke London bermula, proses tersebut amat penting bagi delegasi dari Tanah Melayu kekal sehati sejiwa dalam berhujah. Hal ini membuktikan bahawa Raja-Raja Melayu terlibat aktif ke arah mencapai kemerdekaan negara walaupun tidak berada di lapangan.\\nRombongan kemerdekaan itu tiba di London pada 13 Februari 1956 dan mula berunding pada 18 Februari dan terhasilnya pernyataan yang ditandatangani oleh mereka yang terlibat dalam mesyuarat tersebut serta penubuhan Suruhanjaya Perlembagaan Tanah Melayu. Walaupun berhadapan dengan cabaran kewangan, rakyat Tanah Melayu sentiasa mempunyai semangat yang kuat untuk membebaskan tanah air mereka sehingga seorang tokoh wanita pernah berkongsi bahawa, “kami menanggalkan subang di telinga, kami membuka rantai di leher, kami meloloskan cincin di jari manis, kami membuka gelang di tangan demi satu kebebasan.” Dengan semangat dan jati diri “Tanah Airku Tanah Melayu”, rombongan tersebut berjaya mengumpul dana dan bertolak ke London bagi meneruskan rundingan kemerdekaan.\\nYBhg. Profesor Emeritus Datuk Dr. Abdullah Zakaria membahas tentang perjuangan kemerdekaan, beliau menceritakan pengorbanan dan perjuangan melalui perubahan dari tenaga fizikal oleh pejuang\\xa0tanah air seperti Rentap, Mat Kilau, Tok Gajah dan lain-lain menitis darah dan air mata ke tenaga otak,\\xa0iaitu melalui rundingan.\\nHal ini membuktikan bahawa kemerdekaan Tanah Melayu bukanlah diperoleh melalui rundingan semata-mata, malah turut melalui perjuangan pahlawan tanah air yang terus berjuang menentang penjajah ke arah mendapatkan kemerdekaan yang dinikmati rakyat Malaysia hari ini.\\n\\nApakah perjuangan yang dilalui oleh pejuang tanah air untuk mencapai kemerdekaan?\\nA. Melalui tenaga otak\\nB. Melalui rundingan\\nC. Melalui perang bersenjata\\nD. Melalui penjajahan',\n",
       " 'output': 'B'}"
      ]
     },
     "execution_count": 4,
     "metadata": {},
     "output_type": "execute_result"
    }
   ],
   "source": [
    "data[-1]"
   ]
  },
  {
   "cell_type": "code",
   "execution_count": 5,
   "id": "ae126cfd",
   "metadata": {},
   "outputs": [],
   "source": [
    "with open('prepared-malaysian-qa-choice.jsonl', 'w') as fopen:\n",
    "    for d in data:\n",
    "        fopen.write(f'{json.dumps(d)}\\n')"
   ]
  }
 ],
 "metadata": {
  "kernelspec": {
   "display_name": "Python 3 (ipykernel)",
   "language": "python",
   "name": "python3"
  },
  "language_info": {
   "codemirror_mode": {
    "name": "ipython",
    "version": 3
   },
   "file_extension": ".py",
   "mimetype": "text/x-python",
   "name": "python",
   "nbconvert_exporter": "python",
   "pygments_lexer": "ipython3",
   "version": "3.8.10"
  }
 },
 "nbformat": 4,
 "nbformat_minor": 5
}
