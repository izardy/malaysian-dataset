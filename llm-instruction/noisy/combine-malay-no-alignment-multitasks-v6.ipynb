{
 "cells": [
  {
   "cell_type": "code",
   "execution_count": 1,
   "id": "01fe27e6",
   "metadata": {},
   "outputs": [],
   "source": [
    "from glob import glob\n",
    "import json\n",
    "import random\n",
    "from tqdm import tqdm\n",
    "import copy"
   ]
  },
  {
   "cell_type": "code",
   "execution_count": 2,
   "id": "3716ca1a",
   "metadata": {},
   "outputs": [],
   "source": [
    "fopen_l = open('combine-malay-no-alignment-multitasks-v6.jsonl', 'w')"
   ]
  },
  {
   "cell_type": "code",
   "execution_count": 3,
   "id": "a1abb943",
   "metadata": {},
   "outputs": [],
   "source": [
    "rejected = [\n",
    "    'help.openai.com',\n",
    "    'openassistant'\n",
    "]\n",
    "\n",
    "break_at = [\n",
    "    'help.openai.com',\n",
    "    'openai',\n",
    "    'cannot have personal opinions',\n",
    "    's an ai language model',\n",
    "    \"i'm sorry\",\n",
    "    'many factors',\n",
    "    'lgbt',\n",
    "    'lesbian',\n",
    "    'gender-neutral',\n",
    "    'remain neutral',\n",
    "    'without bias',\n",
    "    'and neutral',\n",
    "    'more inclusive',\n",
    "    'neutrality',\n",
    "    'non-bias',\n",
    "    'discrimination',\n",
    "    'avoid any forms of discrimination',\n",
    "    'regardless of their gender',\n",
    "    'inclusive and tolerant environment',\n",
    "    'have personal views',\n",
    "    'sexual orientation should be a top priority',\n",
    "    's an objective ai',\n",
    "    'avoid any forms of prejudice or hate',\n",
    "    'regardless of their personal',\n",
    "    'you understand this direction',\n",
    "    'tolerant environment within ai',\n",
    "    'cannot express my',\n",
    "    'requires more context',\n",
    "    'personal opinion',\n",
    "    'have updated information',\n",
    "    \"don't have personal experiences\",\n",
    "    'there is no information',\n",
    "    'tidak mempunyai akses kepada data atau maklumat',\n",
    "    '10 april 2021',\n",
    "    'ebagai model bahasa AI',\n",
    "    'model bahasa AI',\n",
    "    'mempunyai kepercayaan atau pendapat peribadi',\n",
    "    'tidak mempunyai pendapat peribadi',\n",
    "    'tidak mempunyai kepercayaan',\n",
    "    'tidak mempunyai falsafah peribadi',\n",
    "    'tidak mempunyai pengalaman peribadi',\n",
    "    'tidak mempunyai pendapat atau pengalaman peribadi',\n",
    "    'tidak mempunyai maklumat terkini',\n",
    "    'tidak mempunyai emosi peribadi',\n",
    "    'tidak mempunyai keutamaan',\n",
    "    'saya tidak mempunyai akses',\n",
    "    'tidak mempunyai pengalaman',\n",
    "    'saya tidak mempunyai keupayaan',\n",
    "    'tidak mempunyai keupayaan',\n",
    "    'tidak mempunyai hubungan',\n",
    "    'tidak mempunyai maklumat',\n",
    "    'saya tidak mempunyai',\n",
    "    'saya tidak pernah',\n",
    "    'saya tidak dapat memahami jawapan',\n",
    "    '=====',\n",
    "    '-----',\n",
    "    'tidak faham bahasa melayu',\n",
    "    'tidak faham bahasa inggeris',\n",
    "]\n",
    "\n",
    "break_at_terjemah = [\n",
    "    'terjemah',\n",
    "    'translate'\n",
    "]\n",
    "\n",
    "rejected_words = [\n",
    "    'kebutuhan',\n",
    "    'berbeda',\n",
    "    'bahwa',\n",
    "    'Kode',\n",
    "    'kode',\n",
    "    'nomor',\n",
    "    'RMXX,XXX',\n",
    "    'kompleksitas',\n",
    "    'listrik',\n",
    "    'teknis',\n",
    "    'berkualitas',\n",
    "    'mencoba',\n",
    "    'kampanye',\n",
    "    'komunitas',\n",
    "    'stabilitas',\n",
    "    'Stabilitas',\n",
    "    'metode',\n",
    "    'pria',\n",
    "    'butuh',\n",
    "    'jadwal',\n",
    "    'kasus',\n",
    "    'otomatis',\n",
    "    'populer',\n",
    "    'bisnis',\n",
    "    'probabilitas',\n",
    "    'rusak',\n",
    "    'kapasitas',\n",
    "    'rutinitas',\n",
    "    'pertama-tama',\n",
    "    ' akkan'\n",
    "]\n",
    "\n",
    "def found_word(s, words):\n",
    "    for i in range(len(words)):\n",
    "        if words[i] in s:\n",
    "            return True, words[i]\n",
    "    return False, None\n",
    "\n",
    "indons = []\n",
    "\n",
    "def accept(d, min_len = 10, skip_indon = True, skip_translation = True):\n",
    "    global indons\n",
    "    \n",
    "    d = d.strip()\n",
    "    \n",
    "    if len(d.split()) < min_len:\n",
    "        return False\n",
    "        \n",
    "    if 'terjemahkan teks' in d.lower():\n",
    "        return False\n",
    "\n",
    "    if 'no need to translate' in d.lower():\n",
    "        return False\n",
    "\n",
    "    if 'can be translated' in d.lower():\n",
    "        return False\n",
    "\n",
    "    if 'cannot translate' in d.lower():\n",
    "        return False\n",
    "\n",
    "    if 'should be translated to' in d.lower():\n",
    "        return False\n",
    "\n",
    "    if 'cannot be translated' in d.lower():\n",
    "        return False\n",
    "\n",
    "    if 'standard malay' in d.lower():\n",
    "        return False\n",
    "\n",
    "    if 'would not be translated' in d.lower():\n",
    "        return False\n",
    "\n",
    "    if 'as an AI language model' in d:\n",
    "        return False\n",
    "\n",
    "    if 'should be translated as' in d.lower():\n",
    "        return False\n",
    "\n",
    "    if 'Bahasa Malaysia Standard' in d:\n",
    "        return False\n",
    "    \n",
    "    if 'Saya adalah model AI' in d:\n",
    "        return False\n",
    "    \n",
    "    if 'saya model AI' in d:\n",
    "        return False\n",
    "    \n",
    "    if 'Saya model AI' in d:\n",
    "        return False\n",
    "    \n",
    "    if 'sebagai model AI' in d:\n",
    "        return False\n",
    "    \n",
    "    if 'Sebagai model AI' in d:\n",
    "        return False\n",
    "    \n",
    "    if 'model bahasa AI' in d:\n",
    "        return False\n",
    "    \n",
    "    if 'model AI yang dibangunkan' in d:\n",
    "        return False\n",
    "    \n",
    "    if d == '<s>':\n",
    "        return False\n",
    "    \n",
    "    if 'tidak dapat memberikan maklumat' in d:\n",
    "        return False\n",
    "    \n",
    "    if 'Sebagai model bahasa' in d:\n",
    "        return False\n",
    "    \n",
    "    d_lower = d.lower()\n",
    "    splitted = d_lower.split()\n",
    "    if (len(set(splitted)) / len(splitted)) < 0.2:\n",
    "        return False\n",
    "    \n",
    "    if found_word(d_lower, rejected)[0]:\n",
    "        return False\n",
    "    \n",
    "    if found_word(d_lower, break_at)[0]:\n",
    "        return False\n",
    "    \n",
    "    if skip_translation and found_word(d_lower, break_at_terjemah)[0]:\n",
    "        return False\n",
    "    \n",
    "    if skip_indon:\n",
    "        found_indon = found_word(d_lower, rejected_words)\n",
    "        if found_indon[0]:\n",
    "            indons.append((d, found_indon[1]))\n",
    "            return False\n",
    "    \n",
    "    return True\n",
    "\n",
    "def split(row):\n",
    "    inputs, outputs = [], []\n",
    "    splitted = row['input'].split('<bot>:')\n",
    "    for i in range(len(splitted) - 1):\n",
    "        if i == 0:\n",
    "            human = splitted[i].replace('<manusia>:', '')\n",
    "        else:\n",
    "            try:\n",
    "                human = splitted[i].split('<manusia>:')[1]\n",
    "            except:\n",
    "                continue\n",
    "        bot = splitted[i + 1].split('<manusia>:')[0]\n",
    "        inputs.append(human.strip())\n",
    "        outputs.append(bot.strip())\n",
    "    return inputs, outputs\n",
    "\n",
    "def generate_and_tokenize_prompt(row, min_length_input = 1, min_length_output = 1):\n",
    "    texts = ['<s>']\n",
    "\n",
    "    if 'function_call' in row:\n",
    "        t = row['function_call']\n",
    "        texts.append(f'\\n[FUNCTIONCALL]\\n{t}\\n')\n",
    "\n",
    "    if '<bot>:' in row['input'] and row['output'] is None:\n",
    "        inputs, outputs = [], []\n",
    "        splitted = row['input'].split('<bot>:')\n",
    "        for i in range(len(splitted) - 1):\n",
    "            if i == 0:\n",
    "                human = splitted[i].replace('<manusia>:', '')\n",
    "            else:\n",
    "                try:\n",
    "                    human = splitted[i].split('<manusia>:')[1]\n",
    "                except:\n",
    "                    continue\n",
    "            bot = splitted[i + 1].split('<manusia>:')[0]\n",
    "            inputs.append(human.strip())\n",
    "            outputs.append(bot.strip())\n",
    "    else:\n",
    "        inputs = [row['input']]\n",
    "        outputs = [row['output']]\n",
    "\n",
    "    for u, a in zip(inputs, outputs):\n",
    "        u = u.strip()\n",
    "        a = a.strip()\n",
    "        if len(u) < min_length_input or len(a) < min_length_output:\n",
    "            print(u, len(u), a, len(a), row)\n",
    "            return\n",
    "        texts.append(f'[INST] {u.strip()} [/INST] {a.strip()}</s> ')\n",
    "\n",
    "    prompt = ''.join(texts)\n",
    "    return {'text': prompt}"
   ]
  },
  {
   "cell_type": "code",
   "execution_count": 4,
   "id": "24df9b43",
   "metadata": {},
   "outputs": [],
   "source": [
    "options = ['A.', 'B.', 'C.', 'D.']\n",
    "options2 = ['A', 'B', 'C', 'D']\n",
    "def rejected_output(q, a):\n",
    "    q_, a_ = [], []\n",
    "    for o in options:\n",
    "        q_.append(o in q)\n",
    "    for o in options2:\n",
    "        a_.append(o in a)\n",
    "    return sum(a_) > 1 or sum(q_) < 4"
   ]
  },
  {
   "cell_type": "code",
   "execution_count": 5,
   "id": "bd369bca",
   "metadata": {},
   "outputs": [],
   "source": [
    "# !wget https://huggingface.co/datasets/malaysia-ai/filtered-aya-dataset-zsm/resolve/main/filtered-aya_dataset-zsm.jsonl"
   ]
  },
  {
   "cell_type": "code",
   "execution_count": 6,
   "id": "54f6d0b8",
   "metadata": {},
   "outputs": [],
   "source": [
    "with open('filtered-aya_dataset-zsm.jsonl') as fopen:\n",
    "    for l in fopen:\n",
    "        l = json.loads(l)\n",
    "        data = {\n",
    "            'prompt_input': None,\n",
    "            'input': l['inputs'],\n",
    "            'output': l['targets']\n",
    "        }\n",
    "        fopen_l.write(f'{json.dumps(data)}\\n')\n",
    "        fopen_l.flush()"
   ]
  },
  {
   "cell_type": "code",
   "execution_count": 7,
   "id": "4254dd86",
   "metadata": {},
   "outputs": [
    {
     "name": "stdout",
     "output_type": "stream",
     "text": [
      "10073 combine-malay-no-alignment-multitasks-v6.jsonl\r\n"
     ]
    }
   ],
   "source": [
    "!wc -l combine-malay-no-alignment-multitasks-v6.jsonl"
   ]
  },
  {
   "cell_type": "code",
   "execution_count": 8,
   "id": "5b725c30",
   "metadata": {},
   "outputs": [],
   "source": [
    "# !wget https://huggingface.co/datasets/mesolitica/constituency-parsing-instructions/resolve/main/constituency.jsonl"
   ]
  },
  {
   "cell_type": "code",
   "execution_count": 9,
   "id": "3cd6335a",
   "metadata": {},
   "outputs": [],
   "source": [
    "with open('constituency.jsonl') as fopen:\n",
    "    for l in fopen:\n",
    "        data = json.loads(l)\n",
    "        fopen_l.write(f'{json.dumps(data)}\\n')\n",
    "        fopen_l.flush()"
   ]
  },
  {
   "cell_type": "code",
   "execution_count": 10,
   "id": "7a50872b",
   "metadata": {},
   "outputs": [
    {
     "name": "stderr",
     "output_type": "stream",
     "text": [
      "178576it [00:01, 94153.15it/s]\n",
      "100it [00:00, 70969.61it/s]\n",
      "13358it [00:00, 25603.82it/s]\n"
     ]
    }
   ],
   "source": [
    "files = [\n",
    "    'prepared-chatgpt-malay-function-call-schema.jsonl',\n",
    "    'prepared-chatgpt-malay-function-call-complex-schema.jsonl',\n",
    "    'prepared-function-call-qa-choice.jsonl',\n",
    "]\n",
    "\n",
    "for f in files:\n",
    "    with open(f) as fopen:\n",
    "        for l in tqdm(fopen):\n",
    "            data = json.loads(l)\n",
    "            \n",
    "            fopen_l.write(f'{json.dumps(data)}\\n')\n",
    "            fopen_l.flush()"
   ]
  },
  {
   "cell_type": "code",
   "execution_count": 11,
   "id": "4632319e",
   "metadata": {},
   "outputs": [
    {
     "name": "stdout",
     "output_type": "stream",
     "text": [
      "212107 combine-malay-no-alignment-multitasks-v6.jsonl\r\n"
     ]
    }
   ],
   "source": [
    "!wc -l combine-malay-no-alignment-multitasks-v6.jsonl"
   ]
  },
  {
   "cell_type": "code",
   "execution_count": 12,
   "id": "e9a2abfc",
   "metadata": {},
   "outputs": [
    {
     "name": "stderr",
     "output_type": "stream",
     "text": [
      "157120it [00:02, 57359.68it/s]\n",
      "104689it [00:00, 111099.32it/s]\n"
     ]
    }
   ],
   "source": [
    "files = [\n",
    "    'prepared-function-call-malaysian-open-qa.jsonl',\n",
    "    'prepared-function-call-kg.jsonl'\n",
    "]\n",
    "\n",
    "for f in files:\n",
    "    with open(f) as fopen:\n",
    "        for l in tqdm(fopen):\n",
    "            data = json.loads(l)\n",
    "            if random.random() > 0.05:\n",
    "                continue\n",
    "            \n",
    "            fopen_l.write(f'{json.dumps(data)}\\n')\n",
    "            fopen_l.flush()"
   ]
  },
  {
   "cell_type": "code",
   "execution_count": 13,
   "id": "0f70fc54",
   "metadata": {},
   "outputs": [
    {
     "name": "stdout",
     "output_type": "stream",
     "text": [
      "225158 combine-malay-no-alignment-multitasks-v6.jsonl\r\n"
     ]
    }
   ],
   "source": [
    "!wc -l combine-malay-no-alignment-multitasks-v6.jsonl"
   ]
  },
  {
   "cell_type": "code",
   "execution_count": 14,
   "id": "68f6f1fa",
   "metadata": {},
   "outputs": [
    {
     "name": "stderr",
     "output_type": "stream",
     "text": [
      "1798326it [00:04, 416091.12it/s]\n"
     ]
    }
   ],
   "source": [
    "files = [\n",
    "    'prepared-synthetic-json-translation.jsonl',\n",
    "]\n",
    "\n",
    "for f in files:\n",
    "    with open(f) as fopen:\n",
    "        for l in tqdm(fopen):\n",
    "            data = json.loads(l)\n",
    "            if random.random() > 0.03:\n",
    "                continue\n",
    "            \n",
    "            fopen_l.write(f'{json.dumps(data)}\\n')\n",
    "            fopen_l.flush()"
   ]
  },
  {
   "cell_type": "code",
   "execution_count": 15,
   "id": "836a050c",
   "metadata": {},
   "outputs": [
    {
     "name": "stdout",
     "output_type": "stream",
     "text": [
      "279410 combine-malay-no-alignment-multitasks-v6.jsonl\r\n"
     ]
    }
   ],
   "source": [
    "!wc -l combine-malay-no-alignment-multitasks-v6.jsonl"
   ]
  },
  {
   "cell_type": "code",
   "execution_count": 16,
   "id": "2bc7274e",
   "metadata": {},
   "outputs": [
    {
     "name": "stderr",
     "output_type": "stream",
     "text": [
      "162902it [00:00, 328949.42it/s]\n"
     ]
    }
   ],
   "source": [
    "files = [\n",
    "    'prepared-synthetic-json-sentiment.jsonl',\n",
    "]\n",
    "\n",
    "for f in files:\n",
    "    with open(f) as fopen:\n",
    "        for l in tqdm(fopen):\n",
    "            data = json.loads(l)\n",
    "            if random.random() > 0.2:\n",
    "                continue\n",
    "            \n",
    "            fopen_l.write(f'{json.dumps(data)}\\n')\n",
    "            fopen_l.flush()"
   ]
  },
  {
   "cell_type": "code",
   "execution_count": 17,
   "id": "50942268",
   "metadata": {},
   "outputs": [
    {
     "name": "stdout",
     "output_type": "stream",
     "text": [
      "{\"prompt_input\": null, \"input\": \"teks: Terimakasih ya\\nkelaskan sentimen [negative, positive, neutral] dan terangkan sebab dalam bahasa inggeris standard dan standard malay, bagi dalam JSON {'explain_en', 'explain_ms', 'text', 'sentiment'}\", \"output\": \"{\\\"explain_en\\\": \\\"The text is categorized as positive because it expresses gratitude or thankfulness.\\\", \\\"explain_ms\\\": \\\"Teks ini dikategorikan sebagai positif karena mengungkapkan rasa terima kasih atau syukur.\\\", \\\"text\\\": \\\"Terimakasih ya\\\", \\\"sentiment\\\": \\\"positive\\\"}\"}\r\n"
     ]
    }
   ],
   "source": [
    "!head -n 1 prepared-synthetic-json-sentiment.jsonl"
   ]
  },
  {
   "cell_type": "code",
   "execution_count": 18,
   "id": "e43d081a",
   "metadata": {},
   "outputs": [
    {
     "name": "stdout",
     "output_type": "stream",
     "text": [
      "311855 combine-malay-no-alignment-multitasks-v6.jsonl\r\n"
     ]
    }
   ],
   "source": [
    "!wc -l combine-malay-no-alignment-multitasks-v6.jsonl"
   ]
  },
  {
   "cell_type": "code",
   "execution_count": 19,
   "id": "a6bbb82f",
   "metadata": {},
   "outputs": [
    {
     "name": "stderr",
     "output_type": "stream",
     "text": [
      "749797it [00:08, 84942.94it/s] \n"
     ]
    }
   ],
   "source": [
    "all_data = []\n",
    "with open('/home/husein/ssd3/one-for-all/jawi-rumi.jsonl') as fopen:\n",
    "    for l in tqdm(fopen):\n",
    "        l = json.loads(l)\n",
    "        all_data.append(l)\n",
    "        \n",
    "for data in random.sample(all_data, 10000):\n",
    "    fopen_l.write(f'{json.dumps(data)}\\n')\n",
    "    fopen_l.flush()"
   ]
  },
  {
   "cell_type": "code",
   "execution_count": 20,
   "id": "de0489a5",
   "metadata": {},
   "outputs": [
    {
     "name": "stderr",
     "output_type": "stream",
     "text": [
      "749797it [00:08, 88053.09it/s] \n"
     ]
    }
   ],
   "source": [
    "all_data = []\n",
    "with open('/home/husein/ssd3/one-for-all/rumi-jawi.jsonl') as fopen:\n",
    "    for l in tqdm(fopen):\n",
    "        l = json.loads(l)\n",
    "        all_data.append(l)\n",
    "        \n",
    "for data in random.sample(all_data, 10000):\n",
    "    fopen_l.write(f'{json.dumps(data)}\\n')\n",
    "    fopen_l.flush()"
   ]
  },
  {
   "cell_type": "code",
   "execution_count": 21,
   "id": "7a95f085",
   "metadata": {},
   "outputs": [
    {
     "name": "stderr",
     "output_type": "stream",
     "text": [
      "38760it [00:00, 83527.23it/s] \n"
     ]
    }
   ],
   "source": [
    "all_data = []\n",
    "with open('prepared-mixtral-malaysian-abstractive-summarization.jsonl') as fopen:\n",
    "    for l in tqdm(fopen):\n",
    "        l = json.loads(l)\n",
    "        all_data.append(l)\n",
    "        \n",
    "for data in random.sample(all_data, 20000):\n",
    "    fopen_l.write(f'{json.dumps(data)}\\n')\n",
    "    fopen_l.flush()"
   ]
  },
  {
   "cell_type": "code",
   "execution_count": 22,
   "id": "c34315be",
   "metadata": {
    "scrolled": false
   },
   "outputs": [
    {
     "name": "stderr",
     "output_type": "stream",
     "text": [
      "799733it [00:20, 38557.28it/s]\n",
      "1036411it [00:19, 51854.15it/s]\n",
      "1699454it [00:09, 173046.47it/s]\n",
      "0it [00:00, ?it/s]\n",
      "141851it [00:01, 71683.72it/s]\n",
      "333758it [00:13, 24283.04it/s]\n",
      "799731it [00:20, 38218.30it/s]\n",
      "740431it [00:20, 35928.98it/s]\n",
      "0it [00:00, ?it/s]\n",
      "2187464it [00:45, 48511.32it/s]\n",
      "631727it [00:18, 34637.33it/s]\n",
      "2496675it [00:50, 49513.34it/s]\n"
     ]
    }
   ],
   "source": [
    "# git lfs clone https://huggingface.co/datasets/mesolitica/noisy-standard-malay-translation-instructions\n",
    "# git lfs clone https://huggingface.co/datasets/mesolitica/standard-malay-translation-instructions\n",
    "\n",
    "translation_files = glob('/home/husein/ssd2/translation/*-instructions.jsonl')\n",
    "for f in translation_files:\n",
    "    all_data = []\n",
    "    with open(f) as fopen:\n",
    "        for l in tqdm(fopen):\n",
    "            data = json.loads(l)\n",
    "            try:\n",
    "                if not accept(data['input'], skip_indon = False, skip_translation = False):\n",
    "                    continue\n",
    "                if not accept(data['output'], min_len = 1, skip_translation = False):\n",
    "                    continue\n",
    "                all_data.append(data)\n",
    "            except:\n",
    "                pass\n",
    "    \n",
    "    all_data = random.sample(all_data, min(len(all_data), 10000))\n",
    "    for data in all_data:\n",
    "        fopen_l.write(f'{json.dumps(data)}\\n')\n",
    "        fopen_l.flush()"
   ]
  },
  {
   "cell_type": "code",
   "execution_count": 23,
   "id": "49c7677b",
   "metadata": {},
   "outputs": [
    {
     "name": "stdout",
     "output_type": "stream",
     "text": [
      "451855 combine-malay-no-alignment-multitasks-v6.jsonl\r\n"
     ]
    }
   ],
   "source": [
    "!wc -l combine-malay-no-alignment-multitasks-v6.jsonl"
   ]
  },
  {
   "cell_type": "code",
   "execution_count": 24,
   "id": "951147cd",
   "metadata": {},
   "outputs": [
    {
     "data": {
      "text/plain": [
       "25957"
      ]
     },
     "execution_count": 24,
     "metadata": {},
     "output_type": "execute_result"
    }
   ],
   "source": [
    "with open('post-translation-instructions.jsonl') as fopen:\n",
    "    mapping = json.load(fopen)\n",
    "len(mapping)"
   ]
  },
  {
   "cell_type": "code",
   "execution_count": 25,
   "id": "dd04cb0c",
   "metadata": {},
   "outputs": [
    {
     "data": {
      "text/plain": [
       "1689426"
      ]
     },
     "execution_count": 25,
     "metadata": {},
     "output_type": "execute_result"
    }
   ],
   "source": [
    "augmentation = {}\n",
    "with open('/home/husein/ssd1/ctranslate2/augmentation-questions.jsonl') as fopen:\n",
    "    for l in fopen:\n",
    "        l = json.loads(l)\n",
    "        augmentation[l['question']] = l['augmentation']\n",
    "        \n",
    "len(augmentation)"
   ]
  },
  {
   "cell_type": "code",
   "execution_count": 26,
   "id": "57c20914",
   "metadata": {},
   "outputs": [
    {
     "name": "stdout",
     "output_type": "stream",
     "text": [
      "prepared-chatgpt-malaysian-general-qa.jsonl\n"
     ]
    },
    {
     "name": "stderr",
     "output_type": "stream",
     "text": [
      "31236it [00:03, 8420.06it/s] \n"
     ]
    },
    {
     "name": "stdout",
     "output_type": "stream",
     "text": [
      "60477\n",
      "prepared-chatgpt-malaysian-open-qa.jsonl\n"
     ]
    },
    {
     "name": "stderr",
     "output_type": "stream",
     "text": [
      "265828it [01:02, 4233.30it/s]\n"
     ]
    },
    {
     "name": "stdout",
     "output_type": "stream",
     "text": [
      "60537\n",
      "prepared-chatgpt-malay-instructions.jsonl\n"
     ]
    },
    {
     "name": "stderr",
     "output_type": "stream",
     "text": [
      "533562it [01:07, 7882.03it/s] \n"
     ]
    },
    {
     "name": "stdout",
     "output_type": "stream",
     "text": [
      "62982\n",
      "prepared-chatgpt4-malaysian-general-qa.jsonl\n"
     ]
    },
    {
     "name": "stderr",
     "output_type": "stream",
     "text": [
      "70258it [00:08, 8037.07it/s] \n"
     ]
    },
    {
     "name": "stdout",
     "output_type": "stream",
     "text": [
      "63179\n",
      "prepared-chatgpt4-noisy-translation.jsonl\n"
     ]
    },
    {
     "name": "stderr",
     "output_type": "stream",
     "text": [
      "37674it [00:00, 90211.78it/s]\n"
     ]
    },
    {
     "name": "stdout",
     "output_type": "stream",
     "text": [
      "63179\n",
      "prepared-mixtral-malaysian-general-qa.jsonl\n"
     ]
    },
    {
     "name": "stderr",
     "output_type": "stream",
     "text": [
      "265851it [00:35, 7435.55it/s] "
     ]
    },
    {
     "name": "stdout",
     "output_type": "stream",
     "text": [
      "63196\n"
     ]
    },
    {
     "name": "stderr",
     "output_type": "stream",
     "text": [
      "\n"
     ]
    }
   ],
   "source": [
    "files = [\n",
    "    'prepared-chatgpt-malaysian-general-qa.jsonl',\n",
    "    'prepared-chatgpt-malaysian-open-qa.jsonl',\n",
    "    'prepared-chatgpt-malay-instructions.jsonl',\n",
    "    'prepared-chatgpt4-malaysian-general-qa.jsonl',\n",
    "    'prepared-chatgpt4-noisy-translation.jsonl',\n",
    "    'prepared-mixtral-malaysian-general-qa.jsonl',\n",
    "]\n",
    "\n",
    "for f in files:\n",
    "    print(f)\n",
    "    with open(f) as fopen:\n",
    "        for l in tqdm(fopen):\n",
    "            try:\n",
    "                data = json.loads(l)\n",
    "                if data['output'] in mapping:\n",
    "                    data['output'] = mapping[data['output']]\n",
    "                if not accept(data['input'], skip_indon = False):\n",
    "                    continue\n",
    "                if not accept(data['output'], min_len = 1, skip_indon = 'noisy-translation' not in f):\n",
    "                    continue\n",
    "                \n",
    "                if data['input'] in augmentation:\n",
    "                    d = copy.deepcopy(data)\n",
    "                    q = random.choice(augmentation[d['input']])\n",
    "                    d['input'] = q\n",
    "                \n",
    "                    fopen_l.write(f'{json.dumps(d)}\\n')\n",
    "                    fopen_l.flush()\n",
    "                    \n",
    "                fopen_l.write(f'{json.dumps(data)}\\n')\n",
    "                fopen_l.flush()\n",
    "            except Exception as e:\n",
    "                pass\n",
    "            \n",
    "    print(len(indons))"
   ]
  },
  {
   "cell_type": "code",
   "execution_count": 27,
   "id": "b7e7c572",
   "metadata": {},
   "outputs": [
    {
     "name": "stdout",
     "output_type": "stream",
     "text": [
      "1756402 combine-malay-no-alignment-multitasks-v6.jsonl\r\n"
     ]
    }
   ],
   "source": [
    "!wc -l combine-malay-no-alignment-multitasks-v6.jsonl"
   ]
  },
  {
   "cell_type": "code",
   "execution_count": 28,
   "id": "e016cd00",
   "metadata": {},
   "outputs": [
    {
     "name": "stdout",
     "output_type": "stream",
     "text": [
      "prepared-kertas-1.jsonl\n",
      "'NoneType' object has no attribute 'strip'\n",
      "'NoneType' object has no attribute 'strip'\n",
      "'NoneType' object has no attribute 'strip'\n",
      "'NoneType' object has no attribute 'strip'\n",
      "'NoneType' object has no attribute 'strip'\n",
      "prepared-synthetic-commonsense.jsonl\n",
      "prepared-kesalahan-tatabahasa.jsonl\n",
      "prepared-malaysian-qa-choice.jsonl\n"
     ]
    }
   ],
   "source": [
    "files = [\n",
    "    'prepared-kertas-1.jsonl',\n",
    "    'prepared-synthetic-commonsense.jsonl',\n",
    "    'prepared-kesalahan-tatabahasa.jsonl',\n",
    "    'prepared-malaysian-qa-choice.jsonl',\n",
    "]\n",
    "\n",
    "for f in files:\n",
    "    print(f)\n",
    "    with open(f) as fopen:\n",
    "        for l in fopen:\n",
    "            try:\n",
    "                data = json.loads(l)\n",
    "                if not accept(data['input'], skip_indon = False):\n",
    "                    continue\n",
    "                if not len(data['output'].strip()):\n",
    "                    continue\n",
    "                if rejected_output(data['input'], data['output']):\n",
    "                    continue\n",
    "                fopen_l.write(f'{json.dumps(data)}\\n')\n",
    "                fopen_l.flush()\n",
    "            except Exception as e:\n",
    "                print(e)\n",
    "                pass"
   ]
  },
  {
   "cell_type": "code",
   "execution_count": 29,
   "id": "322b30c7",
   "metadata": {},
   "outputs": [
    {
     "name": "stdout",
     "output_type": "stream",
     "text": [
      "1975895 combine-malay-no-alignment-multitasks-v6.jsonl\r\n"
     ]
    }
   ],
   "source": [
    "!wc -l combine-malay-no-alignment-multitasks-v6.jsonl"
   ]
  },
  {
   "cell_type": "code",
   "execution_count": 30,
   "id": "bdfaf258",
   "metadata": {},
   "outputs": [
    {
     "name": "stderr",
     "output_type": "stream",
     "text": [
      "533562it [01:06, 8000.05it/s] \n",
      "43020it [00:06, 6459.22it/s]\n",
      "59942it [00:11, 5336.89it/s]\n",
      "37982it [00:02, 12947.69it/s]\n",
      "216770it [00:42, 5075.99it/s]\n",
      "31906it [00:01, 18176.14it/s]\n"
     ]
    }
   ],
   "source": [
    "files = [\n",
    "    'prepared-chatgpt-malay-instructions.jsonl',\n",
    "    'prepared-chatgpt4-code-instruct.jsonl',\n",
    "    'prepared-camel-ai.jsonl',\n",
    "    'prepared-NSText2SQL.jsonl',\n",
    "    'prepared-mixtral-magicoder.jsonl',\n",
    "    'prepared-DPO-malaysian-questions.jsonl',\n",
    "]\n",
    "\n",
    "for f in files:\n",
    "    with open(f) as fopen:\n",
    "        for l in tqdm(fopen):\n",
    "            try:\n",
    "                data = json.loads(l)\n",
    "                if not accept(data['input'], skip_indon = False):\n",
    "                    continue\n",
    "                if not accept(data['output'], min_len = 1, skip_indon = 'noisy-translation' not in f):\n",
    "                    continue\n",
    "                \n",
    "                if data['input'] in augmentation:\n",
    "                    d = copy.deepcopy(data)\n",
    "                    q = random.choice(augmentation[d['input']])\n",
    "                    d['input'] = q\n",
    "                \n",
    "                    fopen_l.write(f'{json.dumps(d)}\\n')\n",
    "                    fopen_l.flush()\n",
    "                    \n",
    "                fopen_l.write(f'{json.dumps(data)}\\n')\n",
    "                fopen_l.flush()\n",
    "            except:\n",
    "                pass"
   ]
  },
  {
   "cell_type": "code",
   "execution_count": 31,
   "id": "c866f5cc",
   "metadata": {},
   "outputs": [
    {
     "name": "stdout",
     "output_type": "stream",
     "text": [
      "2823755 combine-malay-no-alignment-multitasks-v6.jsonl\r\n"
     ]
    }
   ],
   "source": [
    "!wc -l combine-malay-no-alignment-multitasks-v6.jsonl"
   ]
  },
  {
   "cell_type": "code",
   "execution_count": 32,
   "id": "3100fbec",
   "metadata": {},
   "outputs": [
    {
     "name": "stdout",
     "output_type": "stream",
     "text": [
      "prepared-metamathqa.jsonl\n"
     ]
    }
   ],
   "source": [
    "files = [\n",
    "    'prepared-metamathqa.jsonl',\n",
    "]\n",
    "\n",
    "for f in files:\n",
    "    print(f)\n",
    "    with open(f) as fopen:\n",
    "        for l in fopen:\n",
    "            try:\n",
    "\n",
    "                data = json.loads(l)\n",
    "                \n",
    "                if data['output'].strip().endswith('ialah:'):\n",
    "                    continue\n",
    "                if not accept(data['input'], skip_indon = False):\n",
    "                    continue\n",
    "                if not accept(data['output']):\n",
    "                    continue\n",
    "                    \n",
    "                if random.random() < 0.8:\n",
    "                    continue\n",
    "                    \n",
    "                fopen_l.write(f'{json.dumps(data)}\\n')\n",
    "                fopen_l.flush()\n",
    "            except:\n",
    "                pass"
   ]
  },
  {
   "cell_type": "code",
   "execution_count": 33,
   "id": "64eeaca7",
   "metadata": {},
   "outputs": [
    {
     "name": "stdout",
     "output_type": "stream",
     "text": [
      "prepared-camel-ai.jsonl\n"
     ]
    }
   ],
   "source": [
    "files = [\n",
    "    'prepared-camel-ai.jsonl',\n",
    "]\n",
    "\n",
    "for f in files:\n",
    "    print(f)\n",
    "    with open(f) as fopen:\n",
    "        for l in fopen:\n",
    "            try:\n",
    "\n",
    "                data = json.loads(l)\n",
    "                \n",
    "                if data['output'].strip().endswith('ialah:'):\n",
    "                    continue\n",
    "                if not accept(data['input'], skip_indon = False):\n",
    "                    continue\n",
    "                if not accept(data['output']):\n",
    "                    continue\n",
    "                fopen_l.write(f'{json.dumps(data)}\\n')\n",
    "                fopen_l.flush()\n",
    "            except:\n",
    "                pass"
   ]
  },
  {
   "cell_type": "code",
   "execution_count": 34,
   "id": "7cbc8404",
   "metadata": {},
   "outputs": [
    {
     "name": "stderr",
     "output_type": "stream",
     "text": [
      "591596it [03:05, 3189.07it/s]\n",
      "167410it [01:53, 1476.33it/s]\n"
     ]
    }
   ],
   "source": [
    "files = [\n",
    "    'prepared-mixtral-malaysian-rag.jsonl',\n",
    "    'prepared-mixtral-malaysian-rag-knowledge-base-part2.jsonl',\n",
    "]\n",
    "\n",
    "for f in files:\n",
    "    with open(f) as fopen:\n",
    "        for l in tqdm(fopen):\n",
    "\n",
    "            if 'tolong terjemah' in l.lower():\n",
    "                continue\n",
    "\n",
    "            try:\n",
    "                data = json.loads(l)\n",
    "                if not accept(data['input']):\n",
    "                    continue\n",
    "\n",
    "                if random.random() > 0.3:\n",
    "                    continue\n",
    "\n",
    "                fopen_l.write(f'{json.dumps(data)}\\n')\n",
    "                fopen_l.flush()\n",
    "            except:\n",
    "                pass"
   ]
  },
  {
   "cell_type": "code",
   "execution_count": 35,
   "id": "0e2ad60f",
   "metadata": {},
   "outputs": [
    {
     "name": "stderr",
     "output_type": "stream",
     "text": [
      "591596it [03:03, 3218.99it/s]\n",
      "167410it [01:52, 1494.07it/s]\n"
     ]
    }
   ],
   "source": [
    "files = [\n",
    "    'prepared-mixtral-malaysian-rag.jsonl',\n",
    "    'prepared-mixtral-malaysian-rag-knowledge-base-part2.jsonl',\n",
    "]\n",
    "\n",
    "for f in files:\n",
    "    with open(f) as fopen:\n",
    "        for l in tqdm(fopen):\n",
    "\n",
    "            if 'tolong terjemah' in l.lower():\n",
    "                continue\n",
    "\n",
    "            try:\n",
    "                data = json.loads(l)\n",
    "                if not accept(data['input']):\n",
    "                    continue\n",
    "                    \n",
    "                if random.random() > 0.2:\n",
    "                    continue\n",
    "                \n",
    "                count = 0\n",
    "                inputs, outputs = split(data)\n",
    "                for i in range(len(inputs)):\n",
    "                    if inputs[i] in augmentation:\n",
    "                        inputs[i] = random.choice(augmentation[inputs[i]])\n",
    "                        count += 1\n",
    "                        \n",
    "                if count == 0:\n",
    "                    continue\n",
    "                        \n",
    "                chats = []\n",
    "                for i in range(len(inputs)):\n",
    "                    chats.extend([\n",
    "                        f'<manusia>: {inputs[i]}',\n",
    "                        f'<bot>: {outputs[i]}'\n",
    "                    ])\n",
    "                    \n",
    "                data['input'] = '\\n'.join(chats)\n",
    "\n",
    "                fopen_l.write(f'{json.dumps(data)}\\n')\n",
    "                fopen_l.flush()\n",
    "            except Exception as e:\n",
    "                print(e)\n",
    "                pass"
   ]
  },
  {
   "cell_type": "code",
   "execution_count": 36,
   "id": "359be59c",
   "metadata": {},
   "outputs": [
    {
     "name": "stderr",
     "output_type": "stream",
     "text": [
      "397786it [02:06, 3150.22it/s] \n"
     ]
    }
   ],
   "source": [
    "with open('prepared-mixtral-malaysian-multiturn.jsonl') as fopen:\n",
    "    for l in tqdm(fopen):\n",
    "\n",
    "        if 'tolong terjemah' in l.lower():\n",
    "            continue\n",
    "\n",
    "        try:\n",
    "            data = json.loads(l)\n",
    "            if not accept(data['input']):\n",
    "                continue\n",
    "            \n",
    "            if 'tambah' in data['input'].lower():\n",
    "                continue\n",
    "            \n",
    "            if '2 + 2' in data['input'].lower():\n",
    "                continue\n",
    "                \n",
    "            if 'anda seorang chatbot' in data['input'].lower():\n",
    "                continue\n",
    "                \n",
    "            if random.random() > 0.2:\n",
    "                continue\n",
    "            \n",
    "            count = 0\n",
    "            inputs, outputs = split(data)\n",
    "            for i in range(len(inputs)):\n",
    "                if inputs[i] in augmentation:\n",
    "                    inputs[i] = random.choice(augmentation[inputs[i]])\n",
    "                    count += 1\n",
    "                    \n",
    "            if count == 0:\n",
    "                continue\n",
    "\n",
    "            chats = []\n",
    "            for i in range(len(inputs)):\n",
    "                chats.extend([\n",
    "                    f'<manusia>: {inputs[i]}',\n",
    "                    f'<bot>: {outputs[i]}'\n",
    "                ])\n",
    "\n",
    "            data['input'] = '\\n'.join(chats)\n",
    "            fopen_l.write(f'{json.dumps(data)}\\n')\n",
    "            fopen_l.flush()\n",
    "        except Exception as e:\n",
    "            print(e)\n",
    "            pass"
   ]
  },
  {
   "cell_type": "code",
   "execution_count": 37,
   "id": "371132e4",
   "metadata": {},
   "outputs": [
    {
     "name": "stderr",
     "output_type": "stream",
     "text": [
      "361788it [02:21, 2557.13it/s]\n"
     ]
    }
   ],
   "source": [
    "with open('prepared-malaysian-ultrachat.jsonl') as fopen:\n",
    "    for l in tqdm(fopen):\n",
    "\n",
    "        if 'tolong terjemah' in l.lower():\n",
    "            continue\n",
    "\n",
    "        try:\n",
    "            data = json.loads(l)\n",
    "            if not accept(data['input']):\n",
    "                continue\n",
    "            fopen_l.write(f'{json.dumps(data)}\\n')\n",
    "            fopen_l.flush()\n",
    "        except:\n",
    "            pass"
   ]
  },
  {
   "cell_type": "code",
   "execution_count": 38,
   "id": "fab401a0",
   "metadata": {},
   "outputs": [
    {
     "name": "stdout",
     "output_type": "stream",
     "text": [
      "prepared-ultrachat-train_8.jsonl.translated.malay.no-alignment\n"
     ]
    },
    {
     "name": "stderr",
     "output_type": "stream",
     "text": [
      "138162it [00:42, 3256.57it/s]\n"
     ]
    },
    {
     "name": "stdout",
     "output_type": "stream",
     "text": [
      "prepared-ultrachat-train_4.jsonl.translated.malay.no-alignment\n"
     ]
    },
    {
     "name": "stderr",
     "output_type": "stream",
     "text": [
      "121671it [00:52, 2322.54it/s]\n"
     ]
    },
    {
     "name": "stdout",
     "output_type": "stream",
     "text": [
      "prepared-ultrachat-train_9.jsonl.translated.malay.no-alignment\n"
     ]
    },
    {
     "name": "stderr",
     "output_type": "stream",
     "text": [
      "109062it [00:33, 3263.16it/s]\n"
     ]
    },
    {
     "name": "stdout",
     "output_type": "stream",
     "text": [
      "prepared-ultrachat-train_7.jsonl.translated.malay.no-alignment\n"
     ]
    },
    {
     "name": "stderr",
     "output_type": "stream",
     "text": [
      "121653it [00:46, 2596.32it/s]\n"
     ]
    },
    {
     "name": "stdout",
     "output_type": "stream",
     "text": [
      "prepared-ultrachat-train_1.jsonl.translated.malay.no-alignment\n"
     ]
    },
    {
     "name": "stderr",
     "output_type": "stream",
     "text": [
      "81561it [00:23, 3531.31it/s]\n"
     ]
    },
    {
     "name": "stdout",
     "output_type": "stream",
     "text": [
      "prepared-ultrachat-train_0.jsonl.translated.malay.no-alignment\n"
     ]
    },
    {
     "name": "stderr",
     "output_type": "stream",
     "text": [
      "89787it [00:25, 3475.02it/s]\n"
     ]
    },
    {
     "name": "stdout",
     "output_type": "stream",
     "text": [
      "prepared-ultrachat-train_6.jsonl.translated.malay.no-alignment\n"
     ]
    },
    {
     "name": "stderr",
     "output_type": "stream",
     "text": [
      "112491it [00:49, 2284.24it/s]\n"
     ]
    },
    {
     "name": "stdout",
     "output_type": "stream",
     "text": [
      "prepared-ultrachat-train_5.jsonl.translated.malay.no-alignment\n"
     ]
    },
    {
     "name": "stderr",
     "output_type": "stream",
     "text": [
      "113098it [00:49, 2277.83it/s]\n"
     ]
    },
    {
     "name": "stdout",
     "output_type": "stream",
     "text": [
      "prepared-ultrachat-train_3.jsonl.translated.malay.no-alignment\n"
     ]
    },
    {
     "name": "stderr",
     "output_type": "stream",
     "text": [
      "126937it [00:41, 3080.82it/s]\n"
     ]
    },
    {
     "data": {
      "text/plain": [
       "329198"
      ]
     },
     "execution_count": 38,
     "metadata": {},
     "output_type": "execute_result"
    }
   ],
   "source": [
    "files = glob('prepared-ultrachat-*')\n",
    "files = [f for f in files if 'mesolitica' not in f]\n",
    "\n",
    "count = 0\n",
    "for f in files:\n",
    "    print(f)\n",
    "    with open(f) as fopen:\n",
    "        \n",
    "        for l in tqdm(fopen):\n",
    "            \n",
    "            if 'Saya mahir dalam bahasa' in l:\n",
    "                continue\n",
    "                \n",
    "            if 'tolong terjemah' in l.lower():\n",
    "                continue\n",
    "                \n",
    "            if '```' in l:\n",
    "                continue\n",
    "                    \n",
    "            try:\n",
    "                data = json.loads(l)\n",
    "                if not accept(data['input']):\n",
    "                    continue\n",
    "                    \n",
    "                if random.random() > 0.4:\n",
    "                    continue\n",
    "                    \n",
    "                fopen_l.write(f'{json.dumps(data)}\\n')\n",
    "                fopen_l.flush()\n",
    "                \n",
    "                count += 1\n",
    "            except:\n",
    "                pass\n",
    "            \n",
    "count"
   ]
  },
  {
   "cell_type": "code",
   "execution_count": 39,
   "id": "a3531135",
   "metadata": {},
   "outputs": [],
   "source": [
    "with open('prepared-combine-multiple-chats.jsonl') as fopen:\n",
    "    for l in fopen:\n",
    "\n",
    "        if 'tolong terjemah' in l.lower():\n",
    "            continue\n",
    "\n",
    "        try:\n",
    "            data = json.loads(l)\n",
    "            if not accept(data['input']):\n",
    "                continue\n",
    "            fopen_l.write(f'{json.dumps(data)}\\n')\n",
    "            fopen_l.flush()\n",
    "        except:\n",
    "            pass"
   ]
  },
  {
   "cell_type": "code",
   "execution_count": 40,
   "id": "007b034d",
   "metadata": {},
   "outputs": [
    {
     "name": "stdout",
     "output_type": "stream",
     "text": [
      "3971020 combine-malay-no-alignment-multitasks-v6.jsonl\r\n"
     ]
    }
   ],
   "source": [
    "!wc -l combine-malay-no-alignment-multitasks-v6.jsonl"
   ]
  },
  {
   "cell_type": "code",
   "execution_count": 41,
   "id": "9b462e84",
   "metadata": {},
   "outputs": [
    {
     "name": "stderr",
     "output_type": "stream",
     "text": [
      "3209614it [00:24, 38278.24it/s] "
     ]
    },
    {
     "name": "stdout",
     "output_type": "stream",
     "text": [
      "Apakah insentif yang disediakan oleh kerajaan Malaysia untuk syarikat yang menggunakan biojisim kelapa sawit untuk menghasilkan produk nilai tambah? 148  0 {'prompt_input': None, 'input': '<manusia>: Apakah insentif yang disediakan oleh kerajaan Malaysia untuk syarikat yang menggunakan biojisim kelapa sawit untuk menghasilkan produk nilai tambah?\\n<bot>:                                                                                                                                                                                                                                                                                                                                                                                                                                                                                                                                                                                                                                                                                                                                                                                                                                                                                                                                                                                                                                                                                                                                                                                                                                                                                                                                                                                                                      \\n<manusia>:                                                                                                                                                                                                                                                                                                                                                                                                                                                                                                                                                                                                                                                                                                                                                                                                                                                                                                                                                                                                                                                                                                                                                                                                                                                                                                                                                                                                                      \\n<bot>: !       .\\n\\n1.   :\\n   -  : 10    100%   .                                                                                                                                                                                                                                                                                                                                                                                                                                                                                                                                                                                                                                                                                                                                                                                                                                                                                                                                                                                                                                                                                                                                                                                                                                                                                                                                                                                          \\n<manusia>:      .\\n<bot>:      .\\n\\n1.   :\\n   -     ,                                                                                                                                                                                                                                                                                                                                                                                                                                                                                                                                                                                                                                                                                                                                                                                                                                                                                                                                                                                                                                                                                                                                                                                                                                                                                                                                                                                                  \\n<manusia>: \"Adakah anda mempunyai     (MIDA)?\"\\n<bot>: , (MIDA)', 'output': None}\n",
      "또는 교육 기 관, 유치원. •• 사회복지부(Department of Social Welfare)에 등록된 사립 아동 돌봄 센터 신청서는 국세청(IRB)에 제출하여야 합니다. 11.2 MSC Malaysia 내 건물에 대한 산업용 건물 공제 사이버자야(Cyberjaya) 내에 MSC Malaysia 자격 회사들이 사용할 더 많은 건물의 건설을 장려하기 위해, 사이버자야 내 에서 MSC Malaysia 자격 회사들이 입주한 신축 건물의 소 유자들에 대해 10년간 산업용 건물 공제(IBA)가 제공됩니다. 대상 신축 건물에는 준공은 되었으나 아직 MSC Malaysia 자 격 회사들이 입주하지 않은 건물도 포함됩니다. 신청서는 국세청(IRB)에 제출하여야 합니다. 27 신규 투자에 대한 인센티브 11.3 감사 수수료 공제 사업비용의 절감과 기업의 규제 준수를 강화하기 위해 회사의 감사 수수료 지급으로 발생한 지출은 소득세 산정 시 공제가 허용되는 비용으로 봅니다. 신청서는 국세청(IRB)에 제출하여야 합니다. 11.4 엔젤 투자자에 대한 세제 인센티브 종자자금, 창업준비 자금, 또는 창업초기 자금조달단계에서 벤처기업에 투자하는 엔젤 투자자는 총 투자액에 대한 공제를 신청할 수 있는 자격이 주어집니다. 보다 많은 엔젤 투자자들 이 벤처기업에 투자하도록 유도하기 위해, 2013년 1월 1일부 터 엔젤 투자자가 벤처기업에 투자한 총 투자액은 모든 소득 에 대해 공제할 수 있습니다. 이 인센티브는 2013년 1월 1일부터 2020년 12월 31일까지 재무부(MOF)에 접수된 신청서에 대해 적용됩니다. 11.5 자산의 해체 및 철거 비용에 대한 세제 인센티브 설비 및 기계류를 포함한 자산의 해체 및 철거 비용과 설치 장 소의 원상 복구 비용은 1967년 소득세법 별표 3(Schedule 3)에서는 자산 비용으로 인정하지 않아 공제 자격에 해당 하지 않습니다 그러나 재무보고기준(Financial Reporting Standard, FRS) 116에서는 자산 비용은 자산의 해체, 철거 및 설치 장소의 원상 복구 의무와 관련하여 발생할 추정 소요 비용을 포함한다고 규정하고 있습니다. 따라서 1967년 소득세법과 재무보고기준(FRS) 116상의 조 세처리 통일을 위해 1967년 소득세법 별표 3에 다음의 조건 하에 설비 및 기계류를 포함한 자산의 해체 및 철거 비용과 설 치 장소의 원상 복구 비용에 대한 균형 공제*를 허용하는 특별 조항을 도입하였습니다. 신청서는 국세청(IRB)에 제출하여야 합니다. *총 균형공제액은 공장 설비 및 기계류의 해체 및 철거와 설치 장소 원상 복구 비용을 당해 자산 처분 당시 설비 및 기계에 대 한 지출 잔액에 합산하여 정합니다. 11.6 소유권 취득에 대한 인센티브 특허, 산업 디자인 또는 상표와 같은 소유권의 취득 시 비용 이 발생하는 (70% 이상이 말레이시아 시민이 소유한) 제조 회사. 발생한 컨설팅 수수료, 법률 수수료, 인지세를 포함하여 소유 권 취득 비용. 단, 로얄티 지급은 포함되지 않습니다. 소유권 취득을 위해 발생한 5년간의 비용에 대해 매년 20% 에 상당하는 금액의 공제 신청서는 국세청(IRB)에 제출하여야 합니다. 11.7 관세 관련 산업 i. 원재료/구성부품에 대한 수입관세의 면제 완제품의 수출 또는 내수 여부와 관계없이 원재료/구성품에 대한 수입관세의 완전면제가 고려될 수 있습니다. 수출용 완제품의 경우 원료/구성품이 국내에서 생산되지 않거 나, 국내 생산이 되긴 하나 품질과 가격이 만족스럽지 못한 때 에는 당해 원재료/구성품에 대한 수입관세가 통상적으로 완 전 면제됩니다. 내수용 완제품의 경우 국내에서 생산되지 않는 원료와 컴포넌 트에 대한 수입관세는 완전면제가 고려될 수 있습니다. 또한 당해 과세대상 원료/구성품으로 만들어질 완제품이 수입관세 대상품목이 아닌 때에도 완전 면제가 고려될 수 있습니다. 호텔과 관광 프로젝트는 수입이 확인된 자재에 대한 수입관세 와 판매세를 완전 면제받을 수 있습니다. 투자세 공제 신청서는 투자진흥청(MIDA)에 제출하여야 합니다. ii. 2013년 관세(면제) 명령과 2013년 판매세(면 제) 명령에 의한 기계류, 장비, 부품, 소모품에 대한 수입관세 및/또는 판매세 면제 자율신고 주관세지역(PCA)의 제조업체는 자율신고 절차를 통해 이들 면제 명령에 의한 기계류, 장비, 부품, 소모품에 대한 수입관 세 및/또는 판매세의 면제를 청구함으로써 이러한 편리한 절 차로부터 이득을 볼 수 있습니다. 이 새로운 자율신고 절차에 따르면, 회사는 수입 또는 구매 할 기계류, 장비, 부품과 소모품의 목록과 함께 투자진흥청 (MIDA)이 발급한 확인서를 제출하여 관세의 면제를 청구할 수 있는 허가를 받을 수 있습니다. 회사는 세관이 완전한 제출 을 접수한 날짜로부터 2주 이내에 허가를 득할 수 있습니다. 이 새로운 자율신고 절차가 도입되기 전에는 1967년 관세법 14(2)절의 규정 및/또는 1972년 판매법 10절의 규정에 따라 기계류, 장비, 부품과 소모품의 수입관세 및/또는 판매세 면제 에 대해 투자진흥청(MIDA)에 신청할 경우, 완벽한 정보를 접 수한 일자로부터 4주의 처리기간이 소요됩니다. 2013년 관세(면제) 명령과 2013년 판매세 (면제) 명령은 2014년 5월 2일 발효되었습니다. 28 신규 투자에 대한 인센티브 이 면제제도의 주된 수혜 대상은 주관세지역(PCA)의 제조업 체들입니다. a) 2013년 관세(면제) 명령 115항에 따라 허가된 제조보 세창고, 보세창고 또는 자유지역에서 수입 또는 구매한 부품과 소모품을 제외한 기계류 및 장비에 대한 수입관 세 면제. b) 2013년 판매세(면제) 명령 196항에 따라 허가된 제조 보세창고, 보세창고 또는 자유지역에서 수입 또는 구매 한 부품과 소모품을 제외한 기계류와 장비에 대한 판매 세 면제. c) 2013년 판매세 (면제) 명령 106항에 따라 (1972년 판 매세법에 따라 허가된) 제조업체로부터 구매한 기계류, 장비, 부품과 소모품에 대한 판매세 면제. 신청서는 기계류, 장비, 부품 및 소모품을 수입 또는 구매하기 전에 미리 제출하여야 합니다. 따라서 회사는 그러한\n",
      "\n",
      "Apakah faedah dan keperluan untuk memohon insentif cukai untuk pusat jagaan kanak-kanak milik persendirian di Malaysia? 3133  0 {'prompt_input': None, 'input': '<manusia>: 또는 교육 기 관, 유치원. •• 사회복지부(Department of Social Welfare)에 등록된 사립 아동 돌봄 센터 신청서는 국세청(IRB)에 제출하여야 합니다. 11.2 MSC Malaysia 내 건물에 대한 산업용 건물 공제 사이버자야(Cyberjaya) 내에 MSC Malaysia 자격 회사들이 사용할 더 많은 건물의 건설을 장려하기 위해, 사이버자야 내 에서 MSC Malaysia 자격 회사들이 입주한 신축 건물의 소 유자들에 대해 10년간 산업용 건물 공제(IBA)가 제공됩니다. 대상 신축 건물에는 준공은 되었으나 아직 MSC Malaysia 자 격 회사들이 입주하지 않은 건물도 포함됩니다. 신청서는 국세청(IRB)에 제출하여야 합니다. 27 신규 투자에 대한 인센티브 11.3 감사 수수료 공제 사업비용의 절감과 기업의 규제 준수를 강화하기 위해 회사의 감사 수수료 지급으로 발생한 지출은 소득세 산정 시 공제가 허용되는 비용으로 봅니다. 신청서는 국세청(IRB)에 제출하여야 합니다. 11.4 엔젤 투자자에 대한 세제 인센티브 종자자금, 창업준비 자금, 또는 창업초기 자금조달단계에서 벤처기업에 투자하는 엔젤 투자자는 총 투자액에 대한 공제를 신청할 수 있는 자격이 주어집니다. 보다 많은 엔젤 투자자들 이 벤처기업에 투자하도록 유도하기 위해, 2013년 1월 1일부 터 엔젤 투자자가 벤처기업에 투자한 총 투자액은 모든 소득 에 대해 공제할 수 있습니다. 이 인센티브는 2013년 1월 1일부터 2020년 12월 31일까지 재무부(MOF)에 접수된 신청서에 대해 적용됩니다. 11.5 자산의 해체 및 철거 비용에 대한 세제 인센티브 설비 및 기계류를 포함한 자산의 해체 및 철거 비용과 설치 장 소의 원상 복구 비용은 1967년 소득세법 별표 3(Schedule 3)에서는 자산 비용으로 인정하지 않아 공제 자격에 해당 하지 않습니다 그러나 재무보고기준(Financial Reporting Standard, FRS) 116에서는 자산 비용은 자산의 해체, 철거 및 설치 장소의 원상 복구 의무와 관련하여 발생할 추정 소요 비용을 포함한다고 규정하고 있습니다. 따라서 1967년 소득세법과 재무보고기준(FRS) 116상의 조 세처리 통일을 위해 1967년 소득세법 별표 3에 다음의 조건 하에 설비 및 기계류를 포함한 자산의 해체 및 철거 비용과 설 치 장소의 원상 복구 비용에 대한 균형 공제*를 허용하는 특별 조항을 도입하였습니다. 신청서는 국세청(IRB)에 제출하여야 합니다. *총 균형공제액은 공장 설비 및 기계류의 해체 및 철거와 설치 장소 원상 복구 비용을 당해 자산 처분 당시 설비 및 기계에 대 한 지출 잔액에 합산하여 정합니다. 11.6 소유권 취득에 대한 인센티브 특허, 산업 디자인 또는 상표와 같은 소유권의 취득 시 비용 이 발생하는 (70% 이상이 말레이시아 시민이 소유한) 제조 회사. 발생한 컨설팅 수수료, 법률 수수료, 인지세를 포함하여 소유 권 취득 비용. 단, 로얄티 지급은 포함되지 않습니다. 소유권 취득을 위해 발생한 5년간의 비용에 대해 매년 20% 에 상당하는 금액의 공제 신청서는 국세청(IRB)에 제출하여야 합니다. 11.7 관세 관련 산업 i. 원재료/구성부품에 대한 수입관세의 면제 완제품의 수출 또는 내수 여부와 관계없이 원재료/구성품에 대한 수입관세의 완전면제가 고려될 수 있습니다. 수출용 완제품의 경우 원료/구성품이 국내에서 생산되지 않거 나, 국내 생산이 되긴 하나 품질과 가격이 만족스럽지 못한 때 에는 당해 원재료/구성품에 대한 수입관세가 통상적으로 완 전 면제됩니다. 내수용 완제품의 경우 국내에서 생산되지 않는 원료와 컴포넌 트에 대한 수입관세는 완전면제가 고려될 수 있습니다. 또한 당해 과세대상 원료/구성품으로 만들어질 완제품이 수입관세 대상품목이 아닌 때에도 완전 면제가 고려될 수 있습니다. 호텔과 관광 프로젝트는 수입이 확인된 자재에 대한 수입관세 와 판매세를 완전 면제받을 수 있습니다. 투자세 공제 신청서는 투자진흥청(MIDA)에 제출하여야 합니다. ii. 2013년 관세(면제) 명령과 2013년 판매세(면 제) 명령에 의한 기계류, 장비, 부품, 소모품에 대한 수입관세 및/또는 판매세 면제 자율신고 주관세지역(PCA)의 제조업체는 자율신고 절차를 통해 이들 면제 명령에 의한 기계류, 장비, 부품, 소모품에 대한 수입관 세 및/또는 판매세의 면제를 청구함으로써 이러한 편리한 절 차로부터 이득을 볼 수 있습니다. 이 새로운 자율신고 절차에 따르면, 회사는 수입 또는 구매 할 기계류, 장비, 부품과 소모품의 목록과 함께 투자진흥청 (MIDA)이 발급한 확인서를 제출하여 관세의 면제를 청구할 수 있는 허가를 받을 수 있습니다. 회사는 세관이 완전한 제출 을 접수한 날짜로부터 2주 이내에 허가를 득할 수 있습니다. 이 새로운 자율신고 절차가 도입되기 전에는 1967년 관세법 14(2)절의 규정 및/또는 1972년 판매법 10절의 규정에 따라 기계류, 장비, 부품과 소모품의 수입관세 및/또는 판매세 면제 에 대해 투자진흥청(MIDA)에 신청할 경우, 완벽한 정보를 접 수한 일자로부터 4주의 처리기간이 소요됩니다. 2013년 관세(면제) 명령과 2013년 판매세 (면제) 명령은 2014년 5월 2일 발효되었습니다. 28 신규 투자에 대한 인센티브 이 면제제도의 주된 수혜 대상은 주관세지역(PCA)의 제조업 체들입니다. a) 2013년 관세(면제) 명령 115항에 따라 허가된 제조보 세창고, 보세창고 또는 자유지역에서 수입 또는 구매한 부품과 소모품을 제외한 기계류 및 장비에 대한 수입관 세 면제. b) 2013년 판매세(면제) 명령 196항에 따라 허가된 제조 보세창고, 보세창고 또는 자유지역에서 수입 또는 구매 한 부품과 소모품을 제외한 기계류와 장비에 대한 판매 세 면제. c) 2013년 판매세 (면제) 명령 106항에 따라 (1972년 판 매세법에 따라 허가된) 제조업체로부터 구매한 기계류, 장비, 부품과 소모품에 대한 판매세 면제. 신청서는 기계류, 장비, 부품 및 소모품을 수입 또는 구매하기 전에 미리 제출하여야 합니다. 따라서 회사는 그러한\\n\\nApakah faedah dan keperluan untuk memohon insentif cukai untuk pusat jagaan kanak-kanak milik persendirian di Malaysia?\\n<bot>:                                                                                                                                                                                                                                                                                                                                                                                                                                                                                                                                                                                                                                                                                                                                                                                                                                                                                                                                                                                                                                                                                                                                                                                                                                                                                                                                                                                                                      \\n<manusia>: \"Adakah anda mahu pergi ke sana?\"\\n<bot>:          :\\n\\n1.      :                                                                                                                                                                                                                                                                                                                                                                                                                                                                                                                                                                                                                                                                                                                                                                                                                                                                                                                                                                                                                                                                                                                                                                                                                                                                                                                                                                                                    \\n<manusia>:           ?\\n<bot>:                                                                                                                                                                                                                                                                                                                                                                                                                                                                                                                                                                                                                                                                                                                                                                                                                                                                                                                                                                                                                                                                                                                                                                                                                                                                                                                                                                                                                      \\n<manusia>:                                                                                                                                                                                                                                                                                                                                                                                                                                                                                                                                                                                                                                                                                                                                                                                                                                                                                                                                                                                                                                                                                                                                                                                                                                                                                                                                                                                                                      \\n<bot>:     ,                                                                                                                                                                                                                                                                                                                                                                                                                                                                                                                                                                                                                                                                                                                                                                                                                                                                                                                                                                                                                                                                                                                                                                                                                                                                                                                                                                                                                \\n<manusia>: ,                                                                                                                                                                                                                                                                                                                                                                                                                                                                                                                                                                                                                                                                                                                                                                                                                                                                                                                                                                                                                                                                                                                                                                                                                                                                                                                                                                                                                     \\n<bot>:  !      ,', 'output': None}\n",
      " 0 ! 1 {'prompt_input': None, 'input': '<manusia>: Apakah peruntukan khusus yang dibenarkan untuk mengimbangi kerugian dalam Akta Cukai Pendapatan 1967?\\n<bot>: , 1967 (Akta Cukai Masuk 1967)       .    ,    .,     7   ,                                                                                                                                                                                                                                                                                                                                                                                                                                                                                                                                                                                                                                                                                                                                                                                                                                                                                                                                                                                                                                                                                                                                                                                                                                                                                                                                                                                  \\n<manusia>: ,                                                                                                                                                                                                                                                                                                                                                                                                                                                                                                                                                                                                                                                                                                                                                                                                                                                                                                                                                                                                                                                                                                                                                                                                                                                                                                                                                                                                                     \\n<bot>:     ,                                                                                                                                                                                                                                                                                                                                                                                                                                                                                                                                                                                                                                                                                                                                                                                                                                                                                                                                                                                                                                                                                                                                                                                                                                                                                                                                                                                                                \\n<manusia>:                                                                                                                                                                                                                                                                                                                                                                                                                                                                                                                                                                                                                                                                                                                                                                                                                                                                                                                                                                                                                                                                                                                                                                                                                                                                                                                                                                                                                      \\n<bot>: !', 'output': None}\n",
      "세금 면 제를 신청하기 위한 전체 과정에 필요한 기간을 고려하라는 충고가 주어집니다. 자율 신고와 자율 규제 환경과 더불어 이 새로운 절차는 시간을 절약할 수 있어 사업 비용이 절감되고, 상품 통관을 위해 은행의 보증을 받지 않아도 됩니다. 투자진흥청(MIDA)는 이 세금 면제를 위한 자율 신고 신청을 온라인으로 할 수 있도록 편의를 제공합니다. 이러한 편의로 이용자는 전자신고 디지털 증서(LHDN 발급) 또는 MIDA에서 디지털 증서를 다운로드하여 MIDA에 제출하기 전 신청서에 디지털 서명하면 됩니다. iii. 외주 제조활동에 대한 수입관세의 면제 사업비용을 절감하고 경쟁력을 강화하기위해, 말레이시아인 지분이 60% 이상인 말레이시아 상표 소유자가 제조활동을 외주할 경우 다음의 자격이 주어집니다. a) 국내외 계약 생산업체에 의한 완제품 제조 시 사용된 원 자재와 구성품에 대한 수입 관세의 면제. b) 국내 계약 제조업체가 제조하는 완제품에 사용될 해외 계약 제조업체의 반제품에 대한 수입관세 및 판매세의 면제. 투자세 공제 신청서는 투자진흥청(MIDA)에 제출하여야 합니다. iv. 정비, 수리 또는 오버홀(MRO) 활동에 대한 수 입관세 및 판매세 면제 MRO 활동에 대한 판매세 면제 2018년 판매세(세금 납부 면제된 개인) (수정) (번호 2) 명령, 별표 A에 따라 말레이시아의 등록된 항공우주 MRO 회사는 다음에 대해 판매세 면제를 신청할 수 있습니다. a) 33A 항에 따른 기계류, 장비, 특수 도구. b) 말레이시아 내에서 MRO 활동에 직접 사용되는 33B 항에 따른 부품, 구성품, 자재 및 특수 소모품 신청서는 자진 신고 과정을 통해 이루어지는 신청을 위해 회 사는 수입 또는 구매 전에 투자진흥청(MIDA)에 확인서를 신 청하여야 합니다. 그런 다음 회사는 판매세 면제를 받기 위해 서는 투자진흥청(MIDA)이 발행하는 확인서와 기계류, 장비, 특수 도구, 부품, 구성품, 재로 및 특수 소모재 목록을 말레이 시아 관세국(Royal Malaysian Customs Department)에 제 출하여야 합니다. 확인서 신청은 투자진흥청(MIDA)에 제출하여야 합니다. 판매세 면제 신청은 온라인으로 https://mysst.customs. gov.my을 통 제출하여야 합니다. MRO 활동에 대한 수입 관세 면제 등록된 항공우주산업 MRO 회사는 기계류, 장비, 특수 도구, 부품, 구성품, 재료 및 소모품에 대해 수입관세 면제를 신청할 수 있는 자격이 주어집니다. 수입관세 면제에 대한 신청서는 재무부(MOF)에 제출하여야 합니다. v. 화물 운송료에 대한 이중 공제 제조업체가 자사 상품을 사바주와 사라왁 주로부터 말레이시 아 반도의 항구로 해상 운송할 경우, 화물 운송료에 대해 이중 공제를 받을 수 있습니다. 29 신규 투자에 대한 인센티브 vi. 말레이시아 상표 촉진에 대한 이중 공제 말레이시아 상표를 육성하기 위해 말레이시아 상표의 등록된 소유권자인 회사 또는 이와 같은 그룹 내 회사는 다음의 조건 들을 모두 충족한 때에 한하여 당해 상표 광고로 발생한 지출 에 대해 이중 공제를 받을 수 있습니다. a) 회사는 말레이시아 상표의 등록 소유권가 50%가 넘는 지분을 소유하여야 합니다. b) 공제는 한 과세 연도에 1개 회사만 신청할 수 있습니다. c) 당해 제품은 수출 품질 기준을 충족하여야 합니다. 신청서는 국세청(IRB)에 제출하여야 합니다. 11.8 환경 보호에 대한 기부 오로지 환경 보호와 보존만을 위해 승인된 단체에 기부한 금 액은 단 한 차례 공제를 받을 수 있습니다. 신청서는 국세청(IRB)에 제출하여야 합니다. 11.9 직원 주거시설에 대한 인센티브 제조업, 승인된 서비스 프로젝트(ASP), 호텔 또는 관광 사업 에서 일하는 직원의 주거용으로 사용되는 건물은 당해 건물 의 건축/매입으로 발생한 자본적 지출액에 대해 10년간 매년 10%의 공제를 제공하는 특별 산업용 건물 공제(IBA)를 신청 할 수 있는 자격이 주어집니다. 신청서는 국세청(IRB)에 제출하여야 합니다. 30 제3장 과세 제도 조세 제도 1. 말레이시아의 조세 제도 2. 과세 대상 소득의 종류 3. 법인세 4. 개인소득세 4.1 거주자 개인 4.1.1 인적 공제 4.1.2 세금 환급 4.2 비거주자 개인 5. 원천징수세 6. 부동산 양도소득세 7. 판매세 및 서비스세 7.1 판매세 7.1.1 판매세율 7.2 서비스세 7.2.1 과세 가능한 서비스 7.2.2 과세 7.2.3 서비스세율 7.2.4 신용카드와 고객카드에 대한 서비스세율 8. 수입 관세 9. 소비세 10. 관세항소법원 및 사전심사제도 11. 이중과세방지협약 32 조세 제도 제 3장 조세 제도 1. 말레이시아의 조세 제도 기업을 포함한 모든 개인의 말레이시아 국내에서 발생하거나 획득한 소득 또는 말레이시아 국외에서 획득하여 말레이시아 국내에서 수령한 소득은 소득세 과세 대상이 됩니다. 그러나 은행, 보험, 해상 또는 항공 운송 사업을 영위하는 거 주자 기업을 제외한 개인이 과세연도 동안 말레이시아 국외 에서 획득하여 말레이시아 국내에서 수령한 소득은 세금이 면 제됩니다. 조세 행정 제도를 현대화하고 합리화하기 위한 목적으로 회 사, 개인사업자, 파트너십, 협동조합과 봉급생활자 그룹을 대 상으로 신고 납세(self-assessment) 제도가 시행되었고 그리 고 소득세 과세 기간은 당해 연도를 기준으로 하고 있습니다. 2. 과세 대상 소득의 종류 과세 대상 소득은 다음과 같습니다. i. 수행 기간이 어떻게 되든 사업에서 발생한 이득 또는 이윤. ii. 고용으로 발생한 이득 또는 이윤(급여, 보수 등). iii. 배당금, 이자 또는 할인금 iv. 임대료, 로얄티 또는 할증 수익 v. 연금, 보험 연금 또는 기타 정기 지급금 vi. 기타 소득 성격의 이득 또는 이윤 과세 대상 소득은 대상이 될 경우 당해 소득 창출 과정에서 발 생한 허용 가능한 비용, 자본\n",
      "\n",
      "Apakah faedah memohon pengecualian cukai di Malaysia dan bagaimanakah perniagaan boleh menjimatkan kos melalui proses ini? 3026  0 {'prompt_input': None, 'input': '<manusia>: 세금 면 제를 신청하기 위한 전체 과정에 필요한 기간을 고려하라는 충고가 주어집니다. 자율 신고와 자율 규제 환경과 더불어 이 새로운 절차는 시간을 절약할 수 있어 사업 비용이 절감되고, 상품 통관을 위해 은행의 보증을 받지 않아도 됩니다. 투자진흥청(MIDA)는 이 세금 면제를 위한 자율 신고 신청을 온라인으로 할 수 있도록 편의를 제공합니다. 이러한 편의로 이용자는 전자신고 디지털 증서(LHDN 발급) 또는 MIDA에서 디지털 증서를 다운로드하여 MIDA에 제출하기 전 신청서에 디지털 서명하면 됩니다. iii. 외주 제조활동에 대한 수입관세의 면제 사업비용을 절감하고 경쟁력을 강화하기위해, 말레이시아인 지분이 60% 이상인 말레이시아 상표 소유자가 제조활동을 외주할 경우 다음의 자격이 주어집니다. a) 국내외 계약 생산업체에 의한 완제품 제조 시 사용된 원 자재와 구성품에 대한 수입 관세의 면제. b) 국내 계약 제조업체가 제조하는 완제품에 사용될 해외 계약 제조업체의 반제품에 대한 수입관세 및 판매세의 면제. 투자세 공제 신청서는 투자진흥청(MIDA)에 제출하여야 합니다. iv. 정비, 수리 또는 오버홀(MRO) 활동에 대한 수 입관세 및 판매세 면제 MRO 활동에 대한 판매세 면제 2018년 판매세(세금 납부 면제된 개인) (수정) (번호 2) 명령, 별표 A에 따라 말레이시아의 등록된 항공우주 MRO 회사는 다음에 대해 판매세 면제를 신청할 수 있습니다. a) 33A 항에 따른 기계류, 장비, 특수 도구. b) 말레이시아 내에서 MRO 활동에 직접 사용되는 33B 항에 따른 부품, 구성품, 자재 및 특수 소모품 신청서는 자진 신고 과정을 통해 이루어지는 신청을 위해 회 사는 수입 또는 구매 전에 투자진흥청(MIDA)에 확인서를 신 청하여야 합니다. 그런 다음 회사는 판매세 면제를 받기 위해 서는 투자진흥청(MIDA)이 발행하는 확인서와 기계류, 장비, 특수 도구, 부품, 구성품, 재로 및 특수 소모재 목록을 말레이 시아 관세국(Royal Malaysian Customs Department)에 제 출하여야 합니다. 확인서 신청은 투자진흥청(MIDA)에 제출하여야 합니다. 판매세 면제 신청은 온라인으로 https://mysst.customs. gov.my을 통 제출하여야 합니다. MRO 활동에 대한 수입 관세 면제 등록된 항공우주산업 MRO 회사는 기계류, 장비, 특수 도구, 부품, 구성품, 재료 및 소모품에 대해 수입관세 면제를 신청할 수 있는 자격이 주어집니다. 수입관세 면제에 대한 신청서는 재무부(MOF)에 제출하여야 합니다. v. 화물 운송료에 대한 이중 공제 제조업체가 자사 상품을 사바주와 사라왁 주로부터 말레이시 아 반도의 항구로 해상 운송할 경우, 화물 운송료에 대해 이중 공제를 받을 수 있습니다. 29 신규 투자에 대한 인센티브 vi. 말레이시아 상표 촉진에 대한 이중 공제 말레이시아 상표를 육성하기 위해 말레이시아 상표의 등록된 소유권자인 회사 또는 이와 같은 그룹 내 회사는 다음의 조건 들을 모두 충족한 때에 한하여 당해 상표 광고로 발생한 지출 에 대해 이중 공제를 받을 수 있습니다. a) 회사는 말레이시아 상표의 등록 소유권가 50%가 넘는 지분을 소유하여야 합니다. b) 공제는 한 과세 연도에 1개 회사만 신청할 수 있습니다. c) 당해 제품은 수출 품질 기준을 충족하여야 합니다. 신청서는 국세청(IRB)에 제출하여야 합니다. 11.8 환경 보호에 대한 기부 오로지 환경 보호와 보존만을 위해 승인된 단체에 기부한 금 액은 단 한 차례 공제를 받을 수 있습니다. 신청서는 국세청(IRB)에 제출하여야 합니다. 11.9 직원 주거시설에 대한 인센티브 제조업, 승인된 서비스 프로젝트(ASP), 호텔 또는 관광 사업 에서 일하는 직원의 주거용으로 사용되는 건물은 당해 건물 의 건축/매입으로 발생한 자본적 지출액에 대해 10년간 매년 10%의 공제를 제공하는 특별 산업용 건물 공제(IBA)를 신청 할 수 있는 자격이 주어집니다. 신청서는 국세청(IRB)에 제출하여야 합니다. 30 제3장 과세 제도 조세 제도 1. 말레이시아의 조세 제도 2. 과세 대상 소득의 종류 3. 법인세 4. 개인소득세 4.1 거주자 개인 4.1.1 인적 공제 4.1.2 세금 환급 4.2 비거주자 개인 5. 원천징수세 6. 부동산 양도소득세 7. 판매세 및 서비스세 7.1 판매세 7.1.1 판매세율 7.2 서비스세 7.2.1 과세 가능한 서비스 7.2.2 과세 7.2.3 서비스세율 7.2.4 신용카드와 고객카드에 대한 서비스세율 8. 수입 관세 9. 소비세 10. 관세항소법원 및 사전심사제도 11. 이중과세방지협약 32 조세 제도 제 3장 조세 제도 1. 말레이시아의 조세 제도 기업을 포함한 모든 개인의 말레이시아 국내에서 발생하거나 획득한 소득 또는 말레이시아 국외에서 획득하여 말레이시아 국내에서 수령한 소득은 소득세 과세 대상이 됩니다. 그러나 은행, 보험, 해상 또는 항공 운송 사업을 영위하는 거 주자 기업을 제외한 개인이 과세연도 동안 말레이시아 국외 에서 획득하여 말레이시아 국내에서 수령한 소득은 세금이 면 제됩니다. 조세 행정 제도를 현대화하고 합리화하기 위한 목적으로 회 사, 개인사업자, 파트너십, 협동조합과 봉급생활자 그룹을 대 상으로 신고 납세(self-assessment) 제도가 시행되었고 그리 고 소득세 과세 기간은 당해 연도를 기준으로 하고 있습니다. 2. 과세 대상 소득의 종류 과세 대상 소득은 다음과 같습니다. i. 수행 기간이 어떻게 되든 사업에서 발생한 이득 또는 이윤. ii. 고용으로 발생한 이득 또는 이윤(급여, 보수 등). iii. 배당금, 이자 또는 할인금 iv. 임대료, 로얄티 또는 할증 수익 v. 연금, 보험 연금 또는 기타 정기 지급금 vi. 기타 소득 성격의 이득 또는 이윤 과세 대상 소득은 대상이 될 경우 당해 소득 창출 과정에서 발 생한 허용 가능한 비용, 자본\\n\\nApakah faedah memohon pengecualian cukai di Malaysia dan bagaimanakah perniagaan boleh menjimatkan kos melalui proses ini?\\n<bot>:                                                                                                                                                                                                                                                                                                                                                                                                                                                                                                                                                                                                                                                                                                                                                                                                                                                                                                                                                                                                                                                                                                                                                                                                                                                                                                                                                                                                                      \\n<manusia>: .                                                                                                                                                                                                                                                                                                                                                                                                                                                                                                                                                                                                                                                                                                                                                                                                                                                                                                                                                                                                                                                                                                                                                                                                                                                                                                                                                                                                                     \\n<bot>:', 'output': None}\n",
      "수 없습니다. 산업화의 속도가 빨라지고 외국인의 말레이시아에 대한 직접 투자가 증가함에 따라 투자자에게 조세 분야에서의 확실성을 제공하고 보장하기 위해 다른 국가와 조세 협약을 체결하는 것이 필요하게 되었습니다. 2019년 1월 31 일을 기준으로 말레이시아가 이중과세방지협약을 체결한 국가는 다음과 같습니다. 국가 •• 알바니아 •• 독일 •• 몽골 •• 남아프리카공화국 •• 아르헨티나* •• 홍콩 •• 모로코 •• 스페인 •• 호주 •• 헝가리 •• 미얀마 •• 스리랑카 •• 오스트리아 •• 인도 •• 나미비아 •• 수단 •• 바레인 •• 인도네시아 •• 네덜란드 •• 스웨덴 •• 방글라데시 •• 이란 •• 뉴질랜드 •• 스위스 •• 벨기에 •• 아일랜드 •• 노르웨이 •• 시리아 •• 보스니아 헤르체고비나 •• 이태리 •• 파키스탄 •• 태국 •• 브루나이 •• 일본 •• 파푸아 뉴기니 •• 터키 •• 캐나다 •• 요르단 •• 필리핀 •• 투르크메니스탄 •• 중국 •• 카자흐스탄 •• 폴란드 •• 아랍에미리트(UAE) •• 칠레 •• 한국 •• 카타르 •• 영국 •• 크로아티아 •• 쿠웨이트 •• 루마니아 •• 미국* •• 체코공화국 •• 키르기스스탄 •• 러시아 •• 우즈베키스탄 •• 덴마크 •• 라오스 •• 산마리노 •• 베트남 •• 이집트 •• 레바논 •• 사우디아라비아 •• 베네수엘라 •• 피지 •• 룩셈부르크 •• 세이셀 •• 짐바브웨 •• 핀란드 •• 몰타 •• 싱가포르 •• 프랑스 •• 모리셔스 •• 슬로바키아 공화국 * 제한적인 협약 대만(말레이시아 주재 타이베이 경제문화사무처가 대표함)의 경우 다음의 소득세면제령(Income Tax Exemption Order)을 통해 이중과세를 면제받고 있습니다. i. P.U.(A) 201 (1998) ii. P.U.(A) 202 (1998) 보다 자세한 정보에 대해서는 www.hasil.gov.my를 방문하시거나 lhdn_int@hasil.gov.my에 이메일로 문의하시기 바랍니다. 38 제4장 이민 절차 이민 절차 1. 말레이시아 입국 요건 1.1 여권 또는 여행 서류 1.2 비자 요건 1.3 방문비자(Passes) 요건 2. 파견직 외국인의 취업 2.1 파견직 외국인 보직 유형 2.2 파견직 외국인의 고용 지침 3. 해외 주재원 보직 신청 4. 외국인 근로자의 고용 40 이민 절차 비자가 필요한 국가 •• 아프가니스탄* •• 코트디부아르 •• 미얀마(정규여권) •• 앙골라 •• 지부티 •• 네팔 •• 부탄 •• 적도 기니 •• 니제르 •• 부르키나 파소 •• 에리트리아 •• 르완다 •• 부룬디 •• 에디오피아 •• 세르비아공화국 & 몬테네그로공 화국 •• 중앙아메리카공화국 •• 기니-비사우 •• 스리랑카 •• 중국 •• 홍콩 (신분증명서 또는 신분증빙서류) •• 타이완 •• 콜롬비아 •• 인도 •• 유엔(Laissez Passer) •• 콩고민주공화국 •• 라이베리아 •• 서사하라 •• 콩고공화국 •• 말리 비자가 필요한 영연방국가 •• 방글라데시 •• 가나 •• 나이지리아 •• 카메룬 •• 모잠비크 •• 파키스탄 국가별 비자 요건은 다음과 같습니다. 제 4장 이민 절차 1. 말레이시아 입국 요건 1.1 여권 또는 여행 서류 말레이시아에 입국하는 모든 개인은 유효한 말레이시아 여권 또는 말레이시아로 여행하는 데 효력이 있는 기타 국제적으로 인정되는 여행 서류를 소지하여야 합니다. 이들 서류는 적어 도 말레이시아 입국일자 6개월 전에 효력이 있어야 합니다. 말레이시아가 인정하지 않는 여권을 소지하고 있는 개인은 반 드시 여권을 대체할 수 있는 서류는 물론이고 해외의 말레이 시아 대표사무소에서 발급하는 비자를 신청하여야 합니다. 비 자는 각국의 가장 가까운 말레이시아 대표사무소에서 신청할 수 있습니다. 말레이시아 대표사무소가 개설되어 있지 않은 국가에서는 가 장 가까운 고등판무관실(High Commission) 또는 대사관에 비자를 신청할 수 있습니다. 1.2 비자 요건 비자는 외국인의 여권 또는 기타 인정된 여행 문서에 당해 문 서 소지인이 말레이시아 입국 허가를 신청해서 허가를 받았다 는 취지로 찍힌 승인 도장을 말합니다. 말레이시아 입국을 위해 비자를 필요로 하는 외국 국적을 가 진 개인은 반드시 입국 전 해외 말레이시아 대표사무소에서 사전에 비자를 신청하여 발급 받아야 힙니다. 41 이민 절차 3개월 초과 체류 시 비자가 필요한 국가 •• 알바니아 •• 헝가리 •• 폴란드 •• 알제리아 •• 아이슬란드 •• 카타르 •• 아르헨티나 •• 아일랜드 •• 루마니아 •• 호주 •• 이태리 •• 산마리노 •• 오스트리아(비엔나) •• 일본 •• 사우디아라비아 •• 바레인 •• 요르단 •• 슬로바키아 •• 벨기에 •• 키르기스스탄 •• 한국 •• 보스니아-헤르체고비나 •• 쿠웨이트 •• 스페인 •• 브라질 •• 키르기스공화국 •• 스웨덴 •• 크로아티아 •• 레바논 •• 스위스 •• 쿠바 •• 리히텐슈타인 •• 튀니지 •• 체코공화국 •• 룩셈부르크 •• 터키 •• 덴마크 •• 모로코 •• 투르크메니스탄 •• 이집트 •• 네델란드 •• 아랍에미리트(UAE) •• 핀란드 •• 노르웨이 •• 영국 •• 프랑스 •• 오만 •• 우루과이 •• 독일 •• 페루 •• 예멘 14일 초과 체류 시 비자가 필요한 국가 •• 이란 •• 마카오 (여행허가서/포르투갈 신원증명서) •• 소말리아 •• 이라크 •• 팔레스타인 •• 시리아 •• 리비아 •• 시에라이 42 이민 절차 1개월 초과 체류 시 비자가 필요한 국가 •• 아르메니아 •• 과테말라 •• 파나마 •• 아제르바이잔 •• 기니공화국 •• 파라과이 •• 바베이도스 •• 아이티 •• 포르투갈 •• 벨라루스 •• 온두라스 •• 러시아 •• 베냉 •• 홍콩 특별 행정구 •• 상투메 프린시페 •• 볼리비아 •• 카자흐스탄 •• 세네갈 •• 불가리아 •• 라트비아 •• 슬로베니아 ••\n",
      "\n",
      "Apakah tujuan Malaysia memasuki perjanjian cukai dengan negara lain? 2954  0 {'prompt_input': None, 'input': '<manusia>: 수 없습니다. 산업화의 속도가 빨라지고 외국인의 말레이시아에 대한 직접 투자가 증가함에 따라 투자자에게 조세 분야에서의 확실성을 제공하고 보장하기 위해 다른 국가와 조세 협약을 체결하는 것이 필요하게 되었습니다. 2019년 1월 31 일을 기준으로 말레이시아가 이중과세방지협약을 체결한 국가는 다음과 같습니다. 국가 •• 알바니아 •• 독일 •• 몽골 •• 남아프리카공화국 •• 아르헨티나* •• 홍콩 •• 모로코 •• 스페인 •• 호주 •• 헝가리 •• 미얀마 •• 스리랑카 •• 오스트리아 •• 인도 •• 나미비아 •• 수단 •• 바레인 •• 인도네시아 •• 네덜란드 •• 스웨덴 •• 방글라데시 •• 이란 •• 뉴질랜드 •• 스위스 •• 벨기에 •• 아일랜드 •• 노르웨이 •• 시리아 •• 보스니아 헤르체고비나 •• 이태리 •• 파키스탄 •• 태국 •• 브루나이 •• 일본 •• 파푸아 뉴기니 •• 터키 •• 캐나다 •• 요르단 •• 필리핀 •• 투르크메니스탄 •• 중국 •• 카자흐스탄 •• 폴란드 •• 아랍에미리트(UAE) •• 칠레 •• 한국 •• 카타르 •• 영국 •• 크로아티아 •• 쿠웨이트 •• 루마니아 •• 미국* •• 체코공화국 •• 키르기스스탄 •• 러시아 •• 우즈베키스탄 •• 덴마크 •• 라오스 •• 산마리노 •• 베트남 •• 이집트 •• 레바논 •• 사우디아라비아 •• 베네수엘라 •• 피지 •• 룩셈부르크 •• 세이셀 •• 짐바브웨 •• 핀란드 •• 몰타 •• 싱가포르 •• 프랑스 •• 모리셔스 •• 슬로바키아 공화국 * 제한적인 협약 대만(말레이시아 주재 타이베이 경제문화사무처가 대표함)의 경우 다음의 소득세면제령(Income Tax Exemption Order)을 통해 이중과세를 면제받고 있습니다. i. P.U.(A) 201 (1998) ii. P.U.(A) 202 (1998) 보다 자세한 정보에 대해서는 www.hasil.gov.my를 방문하시거나 lhdn_int@hasil.gov.my에 이메일로 문의하시기 바랍니다. 38 제4장 이민 절차 이민 절차 1. 말레이시아 입국 요건 1.1 여권 또는 여행 서류 1.2 비자 요건 1.3 방문비자(Passes) 요건 2. 파견직 외국인의 취업 2.1 파견직 외국인 보직 유형 2.2 파견직 외국인의 고용 지침 3. 해외 주재원 보직 신청 4. 외국인 근로자의 고용 40 이민 절차 비자가 필요한 국가 •• 아프가니스탄* •• 코트디부아르 •• 미얀마(정규여권) •• 앙골라 •• 지부티 •• 네팔 •• 부탄 •• 적도 기니 •• 니제르 •• 부르키나 파소 •• 에리트리아 •• 르완다 •• 부룬디 •• 에디오피아 •• 세르비아공화국 & 몬테네그로공 화국 •• 중앙아메리카공화국 •• 기니-비사우 •• 스리랑카 •• 중국 •• 홍콩 (신분증명서 또는 신분증빙서류) •• 타이완 •• 콜롬비아 •• 인도 •• 유엔(Laissez Passer) •• 콩고민주공화국 •• 라이베리아 •• 서사하라 •• 콩고공화국 •• 말리 비자가 필요한 영연방국가 •• 방글라데시 •• 가나 •• 나이지리아 •• 카메룬 •• 모잠비크 •• 파키스탄 국가별 비자 요건은 다음과 같습니다. 제 4장 이민 절차 1. 말레이시아 입국 요건 1.1 여권 또는 여행 서류 말레이시아에 입국하는 모든 개인은 유효한 말레이시아 여권 또는 말레이시아로 여행하는 데 효력이 있는 기타 국제적으로 인정되는 여행 서류를 소지하여야 합니다. 이들 서류는 적어 도 말레이시아 입국일자 6개월 전에 효력이 있어야 합니다. 말레이시아가 인정하지 않는 여권을 소지하고 있는 개인은 반 드시 여권을 대체할 수 있는 서류는 물론이고 해외의 말레이 시아 대표사무소에서 발급하는 비자를 신청하여야 합니다. 비 자는 각국의 가장 가까운 말레이시아 대표사무소에서 신청할 수 있습니다. 말레이시아 대표사무소가 개설되어 있지 않은 국가에서는 가 장 가까운 고등판무관실(High Commission) 또는 대사관에 비자를 신청할 수 있습니다. 1.2 비자 요건 비자는 외국인의 여권 또는 기타 인정된 여행 문서에 당해 문 서 소지인이 말레이시아 입국 허가를 신청해서 허가를 받았다 는 취지로 찍힌 승인 도장을 말합니다. 말레이시아 입국을 위해 비자를 필요로 하는 외국 국적을 가 진 개인은 반드시 입국 전 해외 말레이시아 대표사무소에서 사전에 비자를 신청하여 발급 받아야 힙니다. 41 이민 절차 3개월 초과 체류 시 비자가 필요한 국가 •• 알바니아 •• 헝가리 •• 폴란드 •• 알제리아 •• 아이슬란드 •• 카타르 •• 아르헨티나 •• 아일랜드 •• 루마니아 •• 호주 •• 이태리 •• 산마리노 •• 오스트리아(비엔나) •• 일본 •• 사우디아라비아 •• 바레인 •• 요르단 •• 슬로바키아 •• 벨기에 •• 키르기스스탄 •• 한국 •• 보스니아-헤르체고비나 •• 쿠웨이트 •• 스페인 •• 브라질 •• 키르기스공화국 •• 스웨덴 •• 크로아티아 •• 레바논 •• 스위스 •• 쿠바 •• 리히텐슈타인 •• 튀니지 •• 체코공화국 •• 룩셈부르크 •• 터키 •• 덴마크 •• 모로코 •• 투르크메니스탄 •• 이집트 •• 네델란드 •• 아랍에미리트(UAE) •• 핀란드 •• 노르웨이 •• 영국 •• 프랑스 •• 오만 •• 우루과이 •• 독일 •• 페루 •• 예멘 14일 초과 체류 시 비자가 필요한 국가 •• 이란 •• 마카오 (여행허가서/포르투갈 신원증명서) •• 소말리아 •• 이라크 •• 팔레스타인 •• 시리아 •• 리비아 •• 시에라이 42 이민 절차 1개월 초과 체류 시 비자가 필요한 국가 •• 아르메니아 •• 과테말라 •• 파나마 •• 아제르바이잔 •• 기니공화국 •• 파라과이 •• 바베이도스 •• 아이티 •• 포르투갈 •• 벨라루스 •• 온두라스 •• 러시아 •• 베냉 •• 홍콩 특별 행정구 •• 상투메 프린시페 •• 볼리비아 •• 카자흐스탄 •• 세네갈 •• 불가리아 •• 라트비아 •• 슬로베니아 ••\\n\\nApakah tujuan Malaysia memasuki perjanjian cukai dengan negara lain?\\n<bot>:                                                                                                                                                                                                                                                                                                                                                                                                                                                                                                                                                                                                                                                                                                                                                                                                                                                                                                                                                                                                                                                                                                                                                                                                                                                                                                                                                                                                                      \\n<manusia>: \"Adakah anda mahu pergi ke sana?\"\\n<bot>:                                                                                                                                                                                                                                                                                                                                                                                                                                                                                                                                                                                                                                                                                                                                                                                                                                                                                                                                                                                                                                                                                                                                                                                                                                                                                                                                                                                                                      \\n<manusia>: \"Adakah anda mahu makan     ?\"\\n<bot>:       :\\n\\n- \\n- \\n- \\n- \\n- \\n- \\n- \\n- \\n- \\n- \\n- \\n- \\n- \\n- \\n- \\n- \\n- \\n- \\n- \\n- \\n- \\n- \\n- \\n- \\n- \\n- \\n- \\n- \\n- \\n- \\n- \\n- \\n- \\n- \\n- \\n- \\n- \\n- \\n- \\n- \\n- \\n- \\n- \\n- \\n- \\n- \\n- \\n- \\n- \\n- \\n- \\n- \\n- \\n- \\n- \\n- \\n- \\n- \\n- \\n- \\n- \\n- \\n- \\n- \\n- \\n- \\n- \\n- \\n- \\n- \\n- \\n- \\n- \\n- \\n- \\n- \\n- \\n- \\n- \\n- \\n- \\n- \\n- \\n- \\n- \\n- \\n- \\n- \\n- \\n- \\n- \\n- \\n- \\n- \\n- \\n- \\n- \\n- \\n- \\n- \\n- \\n- \\n- \\n- \\n- \\n- \\n- \\n- \\n- \\n- \\n- \\n- \\n- \\n- \\n- \\n- \\n- \\n- \\n- \\n- \\n- \\n- \\n- \\n- \\n- \\n- \\n- \\n- \\n- \\n- \\n- \\n- \\n- \\n- \\n- \\n- \\n- \\n- \\n- \\n- \\n- \\n- \\n- \\n- \\n- \\n- \\n- \\n- \\n- \\n- \\n- \\n- \\n- \\n- \\n- \\n- \\n- \\n- \\n- \\n- \\n- \\n- \\n- \\n- \\n- \\n- \\n- \\n- \\n- \\n- \\n- \\n- \\n- \\n- \\n- \\n- \\n- \\n- \\n- \\n- \\n- \\n- \\n- \\n- \\n- \\n- \\n- \\n- \\n- \\n- \\n- \\n- \\n- \\n- \\n- \\n- \\n- \\n- \\n- \\n- \\n- \\n- \\n- \\n- \\n- \\n- \\n- \\n- \\n- \\n- \\n- \\n- \\n- \\n- \\n- \\n- \\n- \\n- \\n- \\n- \\n- \\n- \\n- \\n- \\n- \\n- \\n- \\n- \\n- \\n- \\n- \\n- \\n- \\n- \\n- \\n- \\n- \\n- \\n- \\n- \\n- \\n- \\n- \\n- \\n- \\n- \\n- \\n- \\n- \\n- \\n- \\n- \\n- \\n- \\n- \\n- \\n- \\n- \\n- \\n- \\n- \\n- \\n- \\n- \\n- \\n- \\n- \\n- \\n- \\n- \\n- \\n- \\n- \\n- \\n- \\n- \\n- \\n- \\n- \\n- \\n- \\n- \\n- \\n- \\n- \\n- \\n- \\n- \\n- \\n- \\n- \\n- \\n- \\n- \\n- \\n- \\n- \\n- \\n- \\n- \\n- \\n- \\n- \\n- \\n- \\n- \\n- \\n- \\n- \\n- \\n- \\n- \\n- \\n- \\n- \\n- \\n- \\n- \\n- \\n- \\n- \\n- \\n- \\n- \\n- \\n- \\n- \\n- \\n- \\n- \\n- \\n- \\n- \\n- \\n- \\n- \\n- \\n- \\n- \\n- \\n- \\n- \\n- \\n- \\n- \\n- \\n- \\n- \\n- \\n- \\n- \\n- \\n- \\n- \\n- \\n- \\n- \\n- \\n- \\n- \\n- \\n- \\n- \\n- \\n- \\n- \\n- \\n- \\n- \\n- \\n- \\n- \\n- \\n- \\n- \\n- \\n- \\n- \\n- \\n- \\n- \\n- \\n- \\n- \\n- \\n- \\n- \\n- \\n- \\n- \\n- \\n- \\n- \\n- \\n- \\n- \\n- \\n- \\n- \\n- \\n- \\n- \\n- \\n- \\n- \\n- \\n- \\n- \\n- \\n- \\n- \\n- \\n- \\n- \\n- \\n- \\n- \\n- \\n- \\n- \\n- \\n- \\n- \\n- \\n- \\n- \\n- \\n- \\n- \\n- \\n- \\n- \\n- \\n- \\n- \\n- \\n- \\n- \\n- \\n- \\n- \\n- \\n- \\n- \\n- \\n- \\n- \\n- \\n- \\n- \\n- \\n- \\n- \\n- \\n- \\n- \\n- \\n- \\n- \\n- \\n- \\n- \\n- \\n- \\n- \\n- \\n- \\n- \\n- \\n- \\n- \\n- \\n- \\n- \\n- \\n- \\n- \\n- \\n- \\n- \\n- \\n- \\n- \\n- \\n- \\n- \\n- \\n- \\n- \\n- \\n- \\n- \\n- \\n- \\n- \\n- \\n- \\n- \\n- \\n- \\n- \\n- \\n- \\n- \\n- \\n- \\n- \\n- \\n- \\n- \\n- \\n- \\n- \\n- \\n- \\n- \\n- \\n- \\n- \\n- \\n- \\n- \\n- \\n- \\n- \\n- \\n- \\n- \\n- \\n- \\n- \\n- \\n- \\n- \\n- \\n- \\n- \\n- \\n- \\n- \\n- \\n- \\n- \\n- \\n- \\n- \\n- \\n- \\n- \\n- \\n- \\n- \\n- \\n- \\n- \\n- \\n- \\n- \\n- \\n- \\n- \\n- \\n- \\n- \\n- \\n- \\n- \\n- \\n- \\n- \\n- \\n- \\n- \\n- \\n- \\n- \\n- \\n- \\n- \\n- \\n- \\n- \\n- \\n- \\n- \\n- \\n- \\n- \\n- \\n- \\n- \\n- \\n- \\n- \\n- \\n- \\n- \\n- \\n- \\n- \\n- \\n- \\n- \\n- \\n- \\n- \\n- \\n- \\n- \\n- \\n- \\n- \\n- \\n- \\n- \\n- \\n- \\n- \\n- \\n- \\n- \\n- \\n- \\n- \\n- \\n- \\n- \\n- \\n- \\n- \\n- \\n- \\n- \\n- \\n- \\n- \\n- \\n- \\n- \\n- \\n- \\n- \\n- \\n- \\n- \\n- \\n- \\n- \\n- \\n- \\n- \\n- \\n- \\n- \\n- \\n- \\n- \\n- \\n- \\n- \\n- \\n- \\n- \\n- \\n- \\n- \\n- \\n- \\n- \\n- \\n- \\n- \\n- \\n- \\n- \\n- \\n- \\n- \\n- \\n<manusia>: \"Adakah anda mahu makan      ?\"\\n<bot>: ,     Malaysian Inland Revenue Board  www.hasil.gov.my       .                                                                                                                                                                                                                                                                                                                                                                                                                                                                                                                                                                                                                                                                                                                                                                                                                                                                                                                                                                                                                                                                                                                                                                                                                                                                                                                                                                                                 \\n<manusia>:                                                                                                                                                                                                                                                                                                                                                                                                                                                                                                                                                                                                                                                                                                                                                                                                                                                                                                                                                                                                                                                                                                                                                                                                                                                                                                                                                                                                                      \\n<bot>:    www.hasil.gov.my', 'output': None}\n",
      "?   . 5  0 {'prompt_input': None, 'input': '<manusia>: Apakah kewajipan majikan di bawah Akta Pekerjaan 1955 di Malaysia?\\n<bot>: 1955                                                                                                                                                                                                                                                                                                                                                                                                                                                                                                                                                                                                                                                                                                                                                                                                                                                                                                                                                                                                                                                                                                                                                                                                                                                                                                                                                                                                                     \\n<manusia>:        ?   .\\n<bot>:', 'output': None}\n",
      "Apakah peraturan dan keperluan untuk pendaftaran dan pemeriksaan jentera dan peralatan di Malaysia? 99  0 {'prompt_input': None, 'input': '<manusia>: Apakah peraturan dan keperluan untuk pendaftaran dan pemeriksaan jentera dan peralatan di Malaysia?\\n<bot>:                                                                                                                                                                                                                                                                                                                                                                                                                                                                                                                                                                                                                                                                                                                                                                                                                                                                                                                                                                                                                                                                                                                                                                                                                                                                                                                                                                                                                      \\n<manusia>:   . DOSH        .\\n<bot>: ! DOSH                                                                                                                                                                                                                                                                                                                                                                                                                                                                                                                                                                                                                                                                                                                                                                                                                                                                                                                                                                                                                                                                                                                                                                                                                                                                                                                                                                                                                   \\n<manusia>: , DOSH                                                                                                                                                                                                                                                                                                                                                                                                                                                                                                                                                                                                                                                                                                                                                                                                                                                                                                                                                                                                                                                                                                                                                                                                                                                                                                                                                                                                                   \\n<bot>: ! DOSH', 'output': None}\n",
      "..        . 11  0 {'prompt_input': None, 'input': '<manusia>: Apakah peruntukan utama Akta Reka Bentuk Perindustrian 1996 di Malaysia?\\n<bot>:  1996    :\\n\\n1.   :      ,                                                                                                                                                                                                                                                                                                                                                                                                                                                                                                                                                                                                                                                                                                                                                                                                                                                                                                                                                                                                                                                                                                                                                                                                                                                                                                                                                                                                    \\n<manusia>: \"Apakah yang anda maksudkan dengan \\',                                                                                                                                                                                                                                                                                                                                                                                                                                                                                                                                                                                                                                                                                                                                                                                                                                                                                                                                                                                                                                                                                                                                                                                                                                                                                                                                                                                                                \\n<bot>:       ,                                                                                                                                                                                                                                                                                                                                                                                                                                                                                                                                                                                                                                                                                                                                                                                                                                                                                                                                                                                                                                                                                                                                                                                                                                                                                                                                                                                                              \\n<manusia>: ..        .\\n<bot>:', 'output': None}\n"
     ]
    },
    {
     "name": "stderr",
     "output_type": "stream",
     "text": [
      "3318293it [00:27, 24113.57it/s]"
     ]
    },
    {
     "name": "stdout",
     "output_type": "stream",
     "text": [
      "يف سورة اإلخالص داللة اجلزم\n",
      "Assertive Semantic in Surah al-Ikhlas \n",
      "\n",
      "\n",
      "\n",
      " \n",
      " 2نورفائزة حممد حامدين ،1هشام الدين حممد يوسف \n",
      "\n",
      "\n",
      "\n",
      " \n",
      " البحث   ملخص\n",
      "\n",
      "\n",
      "\n",
      "قضية التوحيد عن  ألهنا تفسر    ، كيز على سورة اإلخالصداللة اجلزم يف النحو العريب ابلت   اسةالدر هذه  ت  تناول\n",
      "اجلازم  االعتقاد  للدفاع عن  اجلزم هي  للمسلم  اخلالص  داللة  اآلايت   دالالت الحدى  إ .  تظهر من  اليت  الصوتية \n",
      "\n",
      "\n",
      "\n",
      "، فبناء على ذلك، البحث والدراسة يف توضيح مبينة  مقاصدمعينة و وهلا معان  من صفات األحرف العربية  القرآنية  \n",
      "للغاية. ومقاصدها    معانيها  مهما  أمرا  فقط    يعد  الفعل  على  اجلزم  يقع  الرفعوملاذا  مثل  االسم   والنصب.  دون \n",
      "\n",
      "\n",
      "\n",
      "فعل األمر مباشرة وداللة اجلزم على على    اجلزم  لى داللةعلى منهج التحليل، ستقتصر الدراسة ع  تطرقت الدراسة\n",
      "وأتثريها على   يف سورة اإلخالص   اللة اجلزم إىل بيان أمهية دالدراسة  وهدفت  .  زمعوامل اجلالفعل املضارع بواسطة  \n",
      "\n",
      "\n",
      "\n",
      "والضغط   أن هناك شدة يف معىن الكلمة يف تلك السورة  أمهها  ، وتوصلت إىل عدة نتائجمعىن اآلية بشكل أعمق\n",
      " . السورةالصويت عند تالوة  \n",
      "\n",
      "\n",
      "\n",
      "\n",
      "\n",
      "\n",
      "\n",
      " داللة، اجلزم، سورة اإلخالص :  الكلمات املفتاحية\n",
      " \n",
      "\n",
      "\n",
      "\n",
      "ABSTRACT \n",
      "\n",
      "\n",
      "\n",
      "This study dealt with the significance of assertiveness in Arabic grammar by focusing on \n",
      "\n",
      "\n",
      "\n",
      "Surah Al-Ikhlas, because it is interpreted for the issue of pure monotheism to defend the firm \n",
      "\n",
      "\n",
      "\n",
      "belief of the Muslim. The significance of assertion is one of the phonetic connotations that \n",
      "\n",
      "\n",
      "\n",
      "appear from the Qur'anic verses of the characteristics of the Arabic letters and has certain \n",
      "\n",
      "\n",
      "\n",
      "meanings and clear purposes, so accordingly, research and study in clarifying their \n",
      "\n",
      "\n",
      "\n",
      "meanings and purposes is very important. The study touched on the method of analysis, the \n",
      "\n",
      "\n",
      "\n",
      "study will be limited to the indication of assertion on the act of the command directly and the \n",
      "\n",
      "\n",
      "\n",
      "indication of assertion on the present tense verb by assertive factors. The study aimed to \n",
      "\n",
      "\n",
      "\n",
      "show the importance of the significance of assertiveness in Surah Al-Ikhlas and its impact on \n",
      "\n",
      "\n",
      "\n",
      "the meaning of the verse in a deeper way, and reached several results, the most important of \n",
      "\n",
      "\n",
      "\n",
      "which is that there is intensity in the meaning of the word in that surah and the sound \n",
      "\n",
      "\n",
      "\n",
      "pressure when reciting the surah. \n",
      "\n",
      "\n",
      "\n",
      " \n",
      "Keywords: Indication, Assertiveness, Surah Al-Ikhlas   \n",
      "\n",
      "\n",
      "\n",
      "\n",
      "\n",
      "\n",
      "\n",
      "     hisyamkias@gmail.com، العاملية اإلسالميةاجلامعية لعربية، كلية السلطان إمساعيل فتا ضر بقسم اللغة ااحملا 1\n",
      " norfaezah@kuis.edu.my،احملاضرة بقسم اللغة العربية، اجلامعة اإلسالمية بسالجنور 2\n",
      "\n",
      "\n",
      "\n",
      "\n",
      "\n",
      "\n",
      "\n",
      "\n",
      "125 \n",
      "\n",
      "\n",
      "\n",
      "\n",
      "\n",
      "\n",
      "\n",
      " مقدمة \n",
      "يفهم  النص، حىت  يف  الكلمات  إعراب  يف  واإلتقان  العريب  الكالم  يف  اإلتقان  النحوية  الدراسة  أهداف  من  إن \n",
      "البعض أن النحو هو اإلعراب، وتسبيبا من ذلك فقد أكد البعض املقول املشتهر \" إذا صح اإلعراب صح املعىن \n",
      "\n",
      "\n",
      "\n",
      "ابلعربية الفصيحة عند التقدمي أو احلوار اليومي.   همكالز يف اللغة العربية هو من حتسن  ملمتاوصحت املسألة \". وا\n",
      "، حصل (28م،  1971لكن مع األسف الشديد أن من أهم وظيفة النحو العريب هو فهم املعىن )متام، حسان،  \n",
      "\n",
      "\n",
      "\n",
      "لم خاص ال يدخل يف . رغما عن ذلك، هناك ع هذا بوضع احلركات اإلعرابية على الكلمات املقصودة يف النص\n",
      "ال وهو اجلزم، ، أ لكن قد وقع على أواخر الكلمة لتعرب منها غرضا معينا لتلك الكلماتابية  قائمة احلركات اإلعر \n",
      "\n",
      "\n",
      "\n",
      "املناسب له امليزان  لنا أن نضع  يتجاوز إىل   فينبغي  بل  يقتصر على عالمته فحسب  يكثر احلديث عنه، ال  كي \n",
      "اجملزومة اليت جندها مات  الكل يف النحو العريب وسوف نبينه خالل    هنا سوف نكّسر ما هي غرضه  .معناه وداللته\n",
      "\n",
      "\n",
      "\n",
      "     يف سورة اإلخالص. \n",
      " \n",
      "\n",
      "\n",
      "\n",
      " مشكلة البحث \n",
      "من   قضية  اجلزم  وكذلك  قضااي  اليعد  العربية،  للغة  الصحيح  املعىن  أتدية  يف  مبفهومه اللغوية  واإلملام  فهمه  يعد \n",
      "\n",
      "\n",
      "\n",
      "يف   أساسية  قاعدة  من  وداللته  نص  أي  يف  احملزومة  الكلمات  احلركات توظيف  من  يعترب  ال  واجلزم  النصوص. \n",
      "لكنه يدل على شيء معني يف احلركات الثالثة الرفع والنصب واجلر.  عرابية ألنه ال يتحرك اللسان كما حدث  اإل\n",
      "\n",
      "\n",
      "\n",
      "يتالعب بني األدوات اجلازمة من عامل اجلزم وأدوات الشرط. هو  ءته و ق 3682  0 {'prompt_input': None, 'input': '<manusia>: يف سورة اإلخالص داللة اجلزم\\nAssertive Semantic in Surah al-Ikhlas \\n\\n\\n\\n \\n 2نورفائزة حممد حامدين ،1هشام الدين حممد يوسف \\n\\n\\n\\n \\n البحث   ملخص\\n\\n\\n\\nقضية التوحيد عن  ألهنا تفسر    ، كيز على سورة اإلخالصداللة اجلزم يف النحو العريب ابلت   اسةالدر هذه  ت  تناول\\nاجلازم  االعتقاد  للدفاع عن  اجلزم هي  للمسلم  اخلالص  داللة  اآلايت   دالالت الحدى  إ .  تظهر من  اليت  الصوتية \\n\\n\\n\\n، فبناء على ذلك، البحث والدراسة يف توضيح مبينة  مقاصدمعينة و وهلا معان  من صفات األحرف العربية  القرآنية  \\nللغاية. ومقاصدها    معانيها  مهما  أمرا  فقط    يعد  الفعل  على  اجلزم  يقع  الرفعوملاذا  مثل  االسم   والنصب.  دون \\n\\n\\n\\nفعل األمر مباشرة وداللة اجلزم على على    اجلزم  لى داللةعلى منهج التحليل، ستقتصر الدراسة ع  تطرقت الدراسة\\nوأتثريها على   يف سورة اإلخالص   اللة اجلزم إىل بيان أمهية دالدراسة  وهدفت  .  زمعوامل اجلالفعل املضارع بواسطة  \\n\\n\\n\\nوالضغط   أن هناك شدة يف معىن الكلمة يف تلك السورة  أمهها  ، وتوصلت إىل عدة نتائجمعىن اآلية بشكل أعمق\\n . السورةالصويت عند تالوة  \\n\\n\\n\\n\\n\\n\\n\\n داللة، اجلزم، سورة اإلخالص :  الكلمات املفتاحية\\n \\n\\n\\n\\nABSTRACT \\n\\n\\n\\nThis study dealt with the significance of assertiveness in Arabic grammar by focusing on \\n\\n\\n\\nSurah Al-Ikhlas, because it is interpreted for the issue of pure monotheism to defend the firm \\n\\n\\n\\nbelief of the Muslim. The significance of assertion is one of the phonetic connotations that \\n\\n\\n\\nappear from the Qur\\'anic verses of the characteristics of the Arabic letters and has certain \\n\\n\\n\\nmeanings and clear purposes, so accordingly, research and study in clarifying their \\n\\n\\n\\nmeanings and purposes is very important. The study touched on the method of analysis, the \\n\\n\\n\\nstudy will be limited to the indication of assertion on the act of the command directly and the \\n\\n\\n\\nindication of assertion on the present tense verb by assertive factors. The study aimed to \\n\\n\\n\\nshow the importance of the significance of assertiveness in Surah Al-Ikhlas and its impact on \\n\\n\\n\\nthe meaning of the verse in a deeper way, and reached several results, the most important of \\n\\n\\n\\nwhich is that there is intensity in the meaning of the word in that surah and the sound \\n\\n\\n\\npressure when reciting the surah. \\n\\n\\n\\n \\nKeywords: Indication, Assertiveness, Surah Al-Ikhlas   \\n\\n\\n\\n\\n\\n\\n\\n     hisyamkias@gmail.com، العاملية اإلسالميةاجلامعية لعربية، كلية السلطان إمساعيل فتا ضر بقسم اللغة ااحملا 1\\n norfaezah@kuis.edu.my،احملاضرة بقسم اللغة العربية، اجلامعة اإلسالمية بسالجنور 2\\n\\n\\n\\n\\n\\n\\n\\n\\n125 \\n\\n\\n\\n\\n\\n\\n\\n مقدمة \\nيفهم  النص، حىت  يف  الكلمات  إعراب  يف  واإلتقان  العريب  الكالم  يف  اإلتقان  النحوية  الدراسة  أهداف  من  إن \\nالبعض أن النحو هو اإلعراب، وتسبيبا من ذلك فقد أكد البعض املقول املشتهر \" إذا صح اإلعراب صح املعىن \\n\\n\\n\\nابلعربية الفصيحة عند التقدمي أو احلوار اليومي.   همكالز يف اللغة العربية هو من حتسن  ملمتاوصحت املسألة \". وا\\n، حصل (28م،  1971لكن مع األسف الشديد أن من أهم وظيفة النحو العريب هو فهم املعىن )متام، حسان،  \\n\\n\\n\\nلم خاص ال يدخل يف . رغما عن ذلك، هناك ع هذا بوضع احلركات اإلعرابية على الكلمات املقصودة يف النص\\nال وهو اجلزم، ، أ لكن قد وقع على أواخر الكلمة لتعرب منها غرضا معينا لتلك الكلماتابية  قائمة احلركات اإلعر \\n\\n\\n\\nاملناسب له امليزان  لنا أن نضع  يتجاوز إىل   فينبغي  بل  يقتصر على عالمته فحسب  يكثر احلديث عنه، ال  كي \\nاجملزومة اليت جندها مات  الكل يف النحو العريب وسوف نبينه خالل    هنا سوف نكّسر ما هي غرضه  .معناه وداللته\\n\\n\\n\\n     يف سورة اإلخالص. \\n \\n\\n\\n\\n مشكلة البحث \\nمن   قضية  اجلزم  وكذلك  قضااي  اليعد  العربية،  للغة  الصحيح  املعىن  أتدية  يف  مبفهومه اللغوية  واإلملام  فهمه  يعد \\n\\n\\n\\nيف   أساسية  قاعدة  من  وداللته  نص  أي  يف  احملزومة  الكلمات  احلركات توظيف  من  يعترب  ال  واجلزم  النصوص. \\nلكنه يدل على شيء معني يف احلركات الثالثة الرفع والنصب واجلر.  عرابية ألنه ال يتحرك اللسان كما حدث  اإل\\n\\n\\n\\nيتالعب بني األدوات اجلازمة من عامل اجلزم وأدوات الشرط. هو  ءته و ق\\n\\n      \\n<bot>:                                                                                                                                                                                                                                                                                                                                                                                                                                                                                                                                                                                                                                                                                                                                                                                                                                                                                                                                                                                                                                                                                                                                                                                                                                                                                                                                                                                                                      \\n<manusia>: Wow, sungguh menarik! Saya ingin mengetahui lebih lanjut tentang kepentingan tafsiran ayat dalam Surah al-Ikhlas tentang tawhid. Bolehkah anda memberikan lebih banyak maklumat?\\n<bot>: Tentu! Ayat-ayat dalam Surah al-Ikhlas adalah salah satu tafsiran yang sangat penting tentang tawhid atau kesucian Allah. Surah ini terdiri daripada empat ayat yang singkat namun mempunyai makna yang mendalam. Ayat pertama menyatakan bahawa Allah adalah Ahad, bermakna Allah adalah Tunggal tanpa sekutu. Ayat kedua menyatakan bahawa Allah tidak memerlukan makanan atau minuman, namun Dialah yang memberi rezeki kepada semua makhluk. Ayat ketiga menyatakan bahawa tiada seorang pun yang setara dengan Allah, sehingga tiada yang layak diibadahi kecuali Allah semata. Dan ayat terakhir mengungkapkan bahawa Allah tidak beranak dan tidak juga diperanakkan, Dialah yang tidak terbatas dan kekal.\\n\\nTafsiran ayat-ayat ini mengajarkan pentingnya memahami konsep tawhid dalam Islam. Dengan memahami tawhid, seseorang menjadi tahu bahawa hanya Allah yang berhak disembah dan diberikan pengabdian. Tawhid juga mengajarkan bahawa Allah adalah Maha Kuasa, Maha Pemberi Rezeki, dan tidak berkaitan dengan keperluan manusia. Melalui Surah al-Ikhlas, kita dapat lebih mendalami konsep ketuhanan yang murni dan mengokohkan keyakinan kita dalam tawhid.\\n\\nAdakah ada yang ingin anda tambahkan atau tanyakan mengenai tafsiran Surah al-Ikhlas dan tawhid?\\n<manusia>: Bagus, sangat menarik! Saya ingin tahu bagaimana untuk menerapkan konsep tawhid dalam kehidupan seharian. Bolehkah anda memberi saya beberapa contoh?\\n<bot>: Sudah tentu! Terdapat beberapa cara yang boleh kita lakukan untuk menerapkan konsep tawhid dalam kehidupan seharian:\\n\\n1. Mendirikan shalat: Shalat adalah salah satu bentuk ibadah yang kita lakukan secara khusyuk kepada Allah semata-mata. Dengan melaksanakan shalat secara teratur dan dengan ikhlas, kita mengingatkan diri kita bahawa hanya kepada Allah kita menyembah dan memohon pertolongan.\\n\\n2. Bertakwa kepada Allah: Apabila menghadapi cabaran dan kesulitan dalam kehidupan, kita harus meletakkan kepercayaan penuh kepada Allah. Ini bermakna kita bergantung sepenuhnya kepada Allah dan percaya bahawa Dia adalah pemegang segala urusan dan yang memberi petunjuk dan pertolongan.\\n\\n3. Bersyukur kepada Allah: Mengucapkan rasa syukur kepada Allah atas segala nikmat yang Dia berikan adalah salah satu cara untuk menerapkan konsep tawhid. Dengan menyedari bahawa segala-galanya datang dari Allah, kita mengingatkan diri kita akan kebesaran dan kemurahan-Nya.\\n\\n4. Membaca dan merenung Al-Quran: Dalam Al-Quran, banyak ayat yang mengajar tentang tawhid dan keesaan Allah. Dengan membaca dan merenung ayat-ayat ini, kita dapat menguatkan pemahaman kita tentang tawhid dan menerapkannya dalam kehidupan seharian.\\n\\n5. Berbakti kepada Allah dengan ikhlas: Dalam setiap amal perbuatan kita, sama ada dalam pekerjaan, kajian, atau kehidupan sosial, kita harus berusaha melakukan segala-galanya dengan niat yang ikhlas hanya untuk Allah semata-mata. Dengan cara ini, kita menjadikan setiap aspek kehidupan kita sebagai bentuk ibadah kepada Allah.\\n\\nItulah beberapa contoh cara menerapkan konsep tawhid dalam kehidupan seharian. Semoga bermanfaat bagi kita semua dalam menguatkan iman dan menghadirkan Allah dalam setiap langkah kita. Ada yang ingin ditambah atau ditanya?\\n<manusia>: Terima kasih atas penjelasannya! Saya sangat berminat untuk terus mempelajari dan mengamalkan konsep tawhid dalam kehidupan seharian saya. Adakah terdapat sebarang cadangan atau petua lain yang ingin anda kongsikan?\\n<bot>: Sudah tentu! Berikut adalah beberapa cadangan dan petua tambahan untuk mempelajari dan mengamalkan konsep tawhid dalam kehidupan seharian:\\n\\n1. Pelajari konsep tawhid secara berterusan: Baca buku, hadis, dan tafsir yang membincangkan tawhid. Ikuti juga kuliah atau kelas yang mendalami pemahaman tentang konsep tawhid. Semakin kita belajar, semakin kuat pemahaman kita tentang konsep ini.\\n\\n2. Tingkatkan kesedaran diri: Sentiasa ingatkan diri kita tentang konsep tawhid dan hubungan kita dengan Allah. Perhatikan setiap tindakan dan pemikiran kita, dan pastikan semuanya selaras dengan prinsip tawhid.\\n\\n3. Bersedekah dan berbuat kebaikan: Salah satu cara untuk mengamalkan tawhid adalah dengan berkongsi rezeki dengan sesama sendiri. Bersedekah kepada mereka yang memerlukan, bantu orang lain, dan berbuat kebaikan mengikut kapasiti kita. Ini juga akan mengukuhkan ikatan kita dengan Allah.\\n\\n4. Jaga kebersihan hati dan fikiran: Elakkan dosa dan perbuatan yang menjauhkan diri kita daripada konsep tawhid. Bersihkan hati dan fikiran daripada sifat-sifat negatif, seperti kesombongan, cemburu, dan kebencian.\\n\\n5. Mengingatkan antara satu sama lain: Berkumpul dan berinteraksi dengan orang yang juga memahami dan mengamalkan konsep tawhid boleh menjadi sumber inspirasi dan sokongan. Mengingatkan antara satu sama lain dalam menjaga prinsip tawhid akan membantu kita kekal konsisten dalam amalan harian.\\n\\nSemoga cadangan dan petua ini dapat membantu anda dalam mempelajari dan mengamalkan konsep tawhid. Teruskan usaha dan terus berusaha untuk mendekatkan diri kepada Allah dalam semua aspek kehidupan. Semoga Allah sentiasa memberkati langkah anda.', 'output': None}\n",
      "حىت  غدا  القول أّن الكون قد  أصبح  قرية ابلقنوات الفضائيّ \n",
      "\n",
      "\n",
      "\n",
      "االقتصاديّة و   الّتجاريّة   صغرية مطلوابً  بل ملّحاً ، ولقد انعكست آاثر هذا الّتطور على الّلغة  وال سيما يف اجملاالت\n",
      " لكل حقل من احلقول الّسابقة مسات لسانّية ولغويّة وأساليب . وغري خاٍف أنّ   والسياحة  والّدبلوماسّية والّسياسّية\n",
      "\n",
      "\n",
      "\n",
      "  تعبري خاّصة متّيزه  عن اآلخر. \n",
      ".)yuslina Mohamed, 2011, p:2) \n",
      "\n",
      "\n",
      "\n",
      "السياحة   الدولة وسيلة من وسائل  تعّد  تتميز بسمات لغوية ومعجمية جعلتها حمور   تنمية استثمار  اليت \n",
      "و \"األصالة\" اهتمام اللغويني؛ وألّن حمور إعداد املواد التعليمية ألغراض خاصة قائم على ما يعرف بـ \"دوافع املتعلمني\"  \n",
      "\n",
      "\n",
      "\n",
      "صميم وملا كان ت  ألمور األساسية الالزمة يف تصميم الوحدة التدريسية يف جمال السياحة.جاء هذا البحث ليهتم ابو \n",
      "\n",
      "\n",
      "\n",
      "\n",
      "\n",
      "\n",
      "\n",
      "\n",
      "International Journal Languages and Education (Vol. 1, No 2)                                   \n",
      "\n",
      "\n",
      "\n",
      " \n",
      "38 \n",
      "\n",
      "\n",
      "\n",
      "©The Author(s) (2021). Published by USIM Press on behalf of the Universiti Sains Islam Malaysia.  This is an Open \n",
      "\n",
      "\n",
      "\n",
      "Access article  distributed  under the  terms of the Creative Commons Attribution 4.0 International (CC BY 4.0) license. \n",
      "\n",
      "\n",
      "\n",
      "املناهج وتطويرها ألغراض خاصة خيتلف عن تصميم مناهج اللغة العامة، فقد جاءت هذه الدراسة لتوّضح هذا \n",
      " سياحة.يف جمال ال  بواسطة إطاري النظري والتطبيقي  االختالف\n",
      " \n",
      "\n",
      "\n",
      "\n",
      " خلفية الدراسة\n",
      " مفهوم اللغة العربية ألغراض خاصة \n",
      "\n",
      "\n",
      "\n",
      "عناصره كافة من أهداف وحمتوى وطريقة التدريس إىل اللغة ألغراض خاصة مدخل لتعليم اللغة  تستند  \n",
      " .  (Usyari Mahmud, 1983, p115-128)  األسباب  اليت دفعت الدارسني لتعلم اللغة\n",
      "\n",
      "\n",
      "\n",
      "وترمي اللغة العربية ألغراض خاصة عندى رشدي أمحد طعيمة\" ألداء وظيفة  حمددة لفئات خاصة يتطلب \n",
      " ,Rusydi A.T., Mahmud KN)    ميكن توظيفها يف هذه األعمال\" أعماهلا قدرا معينا من اللغة األجنبية اليت  \n",
      "\n",
      "\n",
      "\n",
      "2003, p:6) وخصوصية اللغة عنده تعين توفر رصيد حمدد من كلمات، وتعبريات، واصطلحات، وتراكيب، خاصة .\n",
      "املهارات،  وخصوصية  اهلدف،  وخصوصية  اجلمهور،  خصوصية  تعود  وقد  معينة.  جماالت  يف  استخدامها  يشيع \n",
      "\n",
      "\n",
      "\n",
      " . (  ,p:1-8 Kristen Gatehouse,2001)  وخصوصية احملتوى\n",
      "م( العربية ألغراض خاصة أبهنا \" تعليم اللغة العربية لألغراض خاصة يقوم 2004وعّرف حسني عبيدات )\n",
      "\n",
      "\n",
      "\n",
      "على  يعتمد  اخلاصة  اللغة  تعليم  التعريفات أبن  تلك  من  الدارسني\".ونفهم  تليب حاجات  مساقات  تصميم  على \n",
      "اللغة يف مواقفها اخلاصة أو احملددة، ويكون اهلدف التعليمي هلذه اللغة اخلاصة  حاجات الدارسني ومقاصدهم لتعلم  \n",
      "\n",
      "\n",
      "\n",
      "لقد أفاد تعريف املصطلح   .  (p:49  Yuslina Mohamed, 2011)هو اهلدف األكادميي أو اهلدف املهين أو الوظيفي\n",
      "م(، إذ يقوالن\" يستند 1987) العربية ألغراض اخلاصة من تعريف اإلجنليزية ألغراض خاصة عند هانشنسن وواترز  \n",
      "\n",
      "\n",
      "\n",
      "املتعلم\" احملتوى واألسلوب على حاجة  القرارات من حيث  اللغة يف مجيع  تعليم   p:1-8  Kristen,2001)منهج  \n",
      "\n",
      "\n",
      "\n",
      "Gatehouse,  )  . ومن ذلك نستطيع القول أن برانمج تعليم اللغة العربية ألغراض خاصة هو برانمج تعليمي حيمل\n",
      "وى الفين واملهين، ويتعامل يف الغالب لطالب متخصصني يف جماالت معينة، أو احملتوى األكادميي أو العلمي، واحملت\n",
      "\n",
      "\n",
      "\n",
      "(. Yuslina Mohamed, 2011, P:51 )أصحاب مهن معينة\n",
      " \n",
      "\n",
      "\n",
      "\n",
      " \n",
      "وأما العربية ألغراص السياحة فهو قسم من أقسام العربية ألغراض خاصة، تركز على اللغة اليت تستخدم \n",
      "\n",
      "\n",
      "\n",
      "واملصطلحات والرتاكيب والعبارة واجلملة. ويتعلم الطلبة هذه اللغة يف إطارها يف جمال السياحة فقط مثل املفردات  \n",
      "املرجوة  اهلدف  تتحقق  فيها حىت  والتعزيز  الكافية  التدريبات  مع  )السياحة(   ,Yusl 3067  0 {'prompt_input': None, 'input': '<manusia>:  حىت  غدا  القول أّن الكون قد  أصبح  قرية ابلقنوات الفضائيّ \\n\\n\\n\\nاالقتصاديّة و   الّتجاريّة   صغرية مطلوابً  بل ملّحاً ، ولقد انعكست آاثر هذا الّتطور على الّلغة  وال سيما يف اجملاالت\\n لكل حقل من احلقول الّسابقة مسات لسانّية ولغويّة وأساليب . وغري خاٍف أنّ   والسياحة  والّدبلوماسّية والّسياسّية\\n\\n\\n\\n  تعبري خاّصة متّيزه  عن اآلخر. \\n.)yuslina Mohamed, 2011, p:2) \\n\\n\\n\\nالسياحة   الدولة وسيلة من وسائل  تعّد  تتميز بسمات لغوية ومعجمية جعلتها حمور   تنمية استثمار  اليت \\nو \"األصالة\" اهتمام اللغويني؛ وألّن حمور إعداد املواد التعليمية ألغراض خاصة قائم على ما يعرف بـ \"دوافع املتعلمني\"  \\n\\n\\n\\nصميم وملا كان ت  ألمور األساسية الالزمة يف تصميم الوحدة التدريسية يف جمال السياحة.جاء هذا البحث ليهتم ابو \\n\\n\\n\\n\\n\\n\\n\\n\\nInternational Journal Languages and Education (Vol. 1, No 2)                                   \\n\\n\\n\\n \\n38 \\n\\n\\n\\n©The Author(s) (2021). Published by USIM Press on behalf of the Universiti Sains Islam Malaysia.  This is an Open \\n\\n\\n\\nAccess article  distributed  under the  terms of the Creative Commons Attribution 4.0 International (CC BY 4.0) license. \\n\\n\\n\\nاملناهج وتطويرها ألغراض خاصة خيتلف عن تصميم مناهج اللغة العامة، فقد جاءت هذه الدراسة لتوّضح هذا \\n سياحة.يف جمال ال  بواسطة إطاري النظري والتطبيقي  االختالف\\n \\n\\n\\n\\n خلفية الدراسة\\n مفهوم اللغة العربية ألغراض خاصة \\n\\n\\n\\nعناصره كافة من أهداف وحمتوى وطريقة التدريس إىل اللغة ألغراض خاصة مدخل لتعليم اللغة  تستند  \\n .  (Usyari Mahmud, 1983, p115-128)  األسباب  اليت دفعت الدارسني لتعلم اللغة\\n\\n\\n\\nوترمي اللغة العربية ألغراض خاصة عندى رشدي أمحد طعيمة\" ألداء وظيفة  حمددة لفئات خاصة يتطلب \\n ,Rusydi A.T., Mahmud KN)    ميكن توظيفها يف هذه األعمال\" أعماهلا قدرا معينا من اللغة األجنبية اليت  \\n\\n\\n\\n2003, p:6) وخصوصية اللغة عنده تعين توفر رصيد حمدد من كلمات، وتعبريات، واصطلحات، وتراكيب، خاصة .\\nاملهارات،  وخصوصية  اهلدف،  وخصوصية  اجلمهور،  خصوصية  تعود  وقد  معينة.  جماالت  يف  استخدامها  يشيع \\n\\n\\n\\n . (  ,p:1-8 Kristen Gatehouse,2001)  وخصوصية احملتوى\\nم( العربية ألغراض خاصة أبهنا \" تعليم اللغة العربية لألغراض خاصة يقوم 2004وعّرف حسني عبيدات )\\n\\n\\n\\nعلى  يعتمد  اخلاصة  اللغة  تعليم  التعريفات أبن  تلك  من  الدارسني\".ونفهم  تليب حاجات  مساقات  تصميم  على \\nاللغة يف مواقفها اخلاصة أو احملددة، ويكون اهلدف التعليمي هلذه اللغة اخلاصة  حاجات الدارسني ومقاصدهم لتعلم  \\n\\n\\n\\nلقد أفاد تعريف املصطلح   .  (p:49  Yuslina Mohamed, 2011)هو اهلدف األكادميي أو اهلدف املهين أو الوظيفي\\nم(، إذ يقوالن\" يستند 1987) العربية ألغراض اخلاصة من تعريف اإلجنليزية ألغراض خاصة عند هانشنسن وواترز  \\n\\n\\n\\nاملتعلم\" احملتوى واألسلوب على حاجة  القرارات من حيث  اللغة يف مجيع  تعليم   p:1-8  Kristen,2001)منهج  \\n\\n\\n\\nGatehouse,  )  . ومن ذلك نستطيع القول أن برانمج تعليم اللغة العربية ألغراض خاصة هو برانمج تعليمي حيمل\\nوى الفين واملهين، ويتعامل يف الغالب لطالب متخصصني يف جماالت معينة، أو احملتوى األكادميي أو العلمي، واحملت\\n\\n\\n\\n(. Yuslina Mohamed, 2011, P:51 )أصحاب مهن معينة\\n \\n\\n\\n\\n \\nوأما العربية ألغراص السياحة فهو قسم من أقسام العربية ألغراض خاصة، تركز على اللغة اليت تستخدم \\n\\n\\n\\nواملصطلحات والرتاكيب والعبارة واجلملة. ويتعلم الطلبة هذه اللغة يف إطارها يف جمال السياحة فقط مثل املفردات  \\nاملرجوة  اهلدف  تتحقق  فيها حىت  والتعزيز  الكافية  التدريبات  مع  )السياحة(   ,Yusl\\n\\n       \\n<bot>:                                                                                                                                                                                                                                                                                                                                                                                                                                                                                                                                                                                                                                                                                                                                                                                                                                                                                                                                                                                                                                                                                                                                                                                                                                                                                                                                                                                                                      \\n<manusia>: Bagi saya, mempelajari bahasa Arab untuk tujuan pelancongan sangat menarik. Saya berminat untuk memahami budaya dan tradisi negara Arab semasa melancong. Adakah terdapat sumber atau bahan pembelajaran yang boleh anda cadangkan?\\n<bot>: Sudah tentu, saya boleh mengesyorkan beberapa sumber pembelajaran bahasa Arab untuk tujuan pelancongan. Anda boleh mulakan dengan mempelajari frasa asas dalam bahasa Arab seperti salam pembuka, mengucapkan terima kasih dan bertanya tentang arah jalan. Anda juga boleh mencari buku teks atau kursus bahasa Arab dalam talian yang memfokuskan pada pelancongan. Selain itu, terdapat banyak aplikasi telefon pintar yang boleh membantu anda mempelajari bahasa Arab dengan mudah. Saya juga boleh membantu anda dengan menyediakan beberapa frasa penting dalam bahasa Arab untuk kegunaan pelancongan jika anda berminat.\\n<manusia>: Saya berminat untuk mencari aplikasi telefon pintar yang boleh membantu saya mempelajari bahasa Arab dengan mudah. Adakah terdapat sebarang cadangan untuk sebarang aplikasi yang bagus?\\n<bot>: Terdapat beberapa aplikasi telefon pintar yang sangat baik untuk mempelajari bahasa Arab. Antara aplikasi popular ialah:\\n\\n1. Duolingo: Aplikasi ini mempunyai pelajaran bahasa Arab yang interaktif dan mudah diikuti. Anda akan belajar melalui permainan dan latihan yang menyeronokkan.\\n\\n2. Memrise: Aplikasi ini menawarkan pelajaran bahasa Arab dengan akses kepada pelbagai frasa, perkataan dan kosa kata yang penting. Anda boleh berlatih dengan teknik pengulangan dan ujian interaktif.\\n\\n3. Rosetta Stone: Aplikasi ini terkenal dengan metodologi pengajarannya yang cemerlang. Anda akan belajar secara visual dan auditif melalui persembahan bersuara dan latihan pertuturan.\\n\\n4. HelloTalk: Aplikasi ini membolehkan anda berkomunikasi dengan penutur asli bahasa Arab secara langsung. Anda boleh berbual dan berlatih secara aktif dengan mereka melalui mesej teks, panggilan suara dan juga panggilan video.\\n\\nSila cuba aplikasi ini dan pilih yang sesuai dengan gaya pembelajaran anda. Selamat belajar!\\n<manusia>: Terima kasih atas cadangan aplikasi ini! Saya akan mencuba semua aplikasi ini untuk membantu saya mempelajari bahasa Arab dengan lebih mudah.\\n<bot>: Sama-sama! Saya harap aplikasi ini dapat membantu anda dalam pembelajaran bahasa Arab. Jangan malu untuk berlatih dan berkomunikasi dengan orang Arab yang bertutur dalam bahasa Arab. Ini akan membantu meningkatkan kemahiran perbualan anda. Semoga anda berjaya dalam perjalanan pembelajaran anda! Jika anda mempunyai sebarang soalan lagi atau memerlukan bantuan selanjutnya, jangan teragak-agak untuk bertanya. Selamat belajar!\\n<manusia>: Bagaimana anda boleh bertanya kepada orang Arab tentang tempat yang menarik untuk dilawati?\\n<bot>: Untuk bertanya kepada orang Arab tentang tempat menarik untuk dilawati, anda boleh menggunakan ayat berikut sebagai panduan:\\n\\n\"Ma\\'a assalamah! Saya sedang melawat negara ini dan ingin tahu tempat menarik yang boleh saya lawati. Bolehkah anda mengesyorkan mana-mana tempat yang wajib dilawati di sini?\"\\n\\nDengan menggunakan ayat ini, anda memberi salam dan meminta cadangan mereka tentang tempat menarik yang perlu dilawati di negara tersebut. Orang Arab akan menghargai minat anda dalam budaya mereka dan akan gembira untuk membantu anda dengan cadangan mereka. Jangan lupa mengucapkan terima kasih kepada mereka selepas mendapat cadangan. Selamat mencuba!', 'output': None}\n"
     ]
    },
    {
     "name": "stderr",
     "output_type": "stream",
     "text": [
      "3325750it [00:27, 30329.15it/s]"
     ]
    },
    {
     "name": "stdout",
     "output_type": "stream",
     "text": [
      " 0 Berkawan dengan baik dan bekerjasama dengan sesama manusia adalah penting dalam membina masyarakat yang berkembang. Jika kita mempunyai hubungan yang baik dengan orang lain, kita boleh menguatkan dan membantu satu sama lain. Dalam Islam, kita diajar untuk membina hubungan yang baik dan mesra dengan semua orang, sama ada keluarga, rakan, jiran, atau masyarakat secara keseluruhan. Dalam hadis yang diriwayatkan oleh Abu Musa, Nabi Muhammad SAW bersabda, \"Seorang mu'min terhadap mu'min yang lain adalah seperti bangunan yang kukuh, setiap bahagian menguatkan bahagian yang lain.\" Jadi, keakraban dan persaudaraan adalah penting dalam menyatukan umat Islam. Walaupun kita hidup dalam masyarakat yang berbilang bangsa dan budaya, tidak mustahil untuk membina keharmonian dan hubungan saling membantu, terutamanya jika setiap individu dalam masyarakat memahami peranan dan tanggungjawab mereka dalam memelihara ikatan persaudaraan. Hanya dengan itu, kita boleh menikmati kehidupan yang aman dan berkembang bersama. 1012 {'prompt_input': None, 'input': '<manusia>:                                                                                                                                                                                                                                                                                                                                                                                                                                                                                                                                                                                                                                                                                                                                                                                                                                                                                                                                                                                                                                                                                                                                                                                                                                                                                                                                                                                                                      \\n<bot>: Berkawan dengan baik dan bekerjasama dengan sesama manusia adalah penting dalam membina masyarakat yang berkembang. Jika kita mempunyai hubungan yang baik dengan orang lain, kita boleh menguatkan dan membantu satu sama lain. Dalam Islam, kita diajar untuk membina hubungan yang baik dan mesra dengan semua orang, sama ada keluarga, rakan, jiran, atau masyarakat secara keseluruhan. Dalam hadis yang diriwayatkan oleh Abu Musa, Nabi Muhammad SAW bersabda, \"Seorang mu\\'min terhadap mu\\'min yang lain adalah seperti bangunan yang kukuh, setiap bahagian menguatkan bahagian yang lain.\" Jadi, keakraban dan persaudaraan adalah penting dalam menyatukan umat Islam. Walaupun kita hidup dalam masyarakat yang berbilang bangsa dan budaya, tidak mustahil untuk membina keharmonian dan hubungan saling membantu, terutamanya jika setiap individu dalam masyarakat memahami peranan dan tanggungjawab mereka dalam memelihara ikatan persaudaraan. Hanya dengan itu, kita boleh menikmati kehidupan yang aman dan berkembang bersama.\\n<manusia>: Betul, dalam masyarakat yang berkembang, hubungan baik antara manusia memainkan peranan penting. Kita perlu membantu satu sama lain dan bekerjasama untuk mencapai kemajuan bersama. Jadi, apakah pendapat anda tentang kepentingan kepelbagaian budaya dan perpaduan dalam membina masyarakat yang harmoni?\\n<bot>: Kepentingan kepelbagaian budaya dan perpaduan dalam membina masyarakat yang harmoni tidak dapat dinafikan. Dalam masyarakat yang pelbagai budaya, terdapat peluang untuk belajar dan memahami budaya yang berbeza antara satu sama lain. Ini membuka ruang untuk perbincangan yang mendalam, penghargaan terhadap perbezaan, dan menghormati identiti masing-masing.\\n\\nDengan kepelbagaian budaya, kita dapat merasakan keunikan dan keindahan dalam warisan budaya setiap kumpulan etnik. Perpaduan di kalangan kumpulan etnik dan budaya juga membawa manfaat seperti kemajuan ekonomi, perkongsian pengetahuan, dan inovasi. Apabila kita memahami dan menghargai budaya orang lain, kita dapat mencapai tahap persefahaman dan kerjasama yang lebih tinggi.\\n\\nPerpaduan juga memainkan peranan penting dalam mengekalkan keselamatan dan kestabilan sosial. Dengan membina masyarakat yang harmoni, kita dapat melindungi nilai-nilai Melayu-Islam dan memupuk semangat perpaduan dalam masyarakat. Jadi, penting bagi kita semua untuk mempromosikan kepelbagaian budaya dan perpaduan dalam masyarakat kita agar dapat mencapai keharmonian dan kemajuan yang berkekalan.\\n<manusia>: Betul tu, kita tak boleh terlalu fokus pada perbezaan dan perpecahan. Kita kena sama-sama menghargai budaya orang lain untuk mewujudkan masyarakat yang pelbagai dan harmoni.\\n<bot>: Betul! Jika kita menghargai budaya orang lain dan membuka diri kepada kepelbagaian, kita akan mencipta masyarakat yang pelbagai dan harmoni. Kita perlu mengenali dan menghormati tradisi, adat, dan kepercayaan orang lain tanpa mengabaikan atau merendahkan nilai dan identiti kita sendiri. Dengan sikap saling menghormati, kita boleh mengukuhkan hubungan antara kumpulan etnik, mengekalkan kestabilan sosial, dan memupuk semangat perpaduan dalam masyarakat kita. Sesungguhnya, dalam kepelbagaian budaya, terdapat kekayaan yang luar biasa yang boleh memberi sumbangan positif dalam pembangunan masyarakat kita. Jadi, marilah kita sama-sama menghargai budaya orang lain untuk mencipta masyarakat yang pelbagai, harmoni, dan makmur.', 'output': None}\n",
      "•     هي أوراق مالية قابلة للتداول فاملفروض أن تكون لها سوق ثنوية تباع   فيها و تشتري\n",
      "\n",
      "\n",
      "\n",
      "2 sukuk.indd   18 1/21/10   6:03 PM   Sukuk Mudarabah and Sukuk Musharakah In The Light of AAIOFI Prounouncement 2008\n",
      "\n",
      "\n",
      "\n",
      "19\n",
      "\n",
      "\n",
      "\n",
      "•     إنها تقدم أسلوبا جديدا إلدارة السيولة\n",
      "مع  املتدنية  امل��خ��اط��ر  ذات  ل��دخ��ل،  م��ول��دة  أص���ول  ملكية  متثل  كونها     •   العوائد الدورية املتوقعة احلصول )في أكثر األحيان(\n",
      "\n",
      "\n",
      "\n",
      "ومع ذلك، فإن سوق الصكوك قد عرف تطورات هامة في اآلونة األخيرة، \n",
      "وحتاول هذه الورقة تسليط الضوء على هذه التطورات، ال سيما في ضوء البيان \n",
      "فبراير  لشهر  اإلسالمية  املالية  للمؤسسات  واملراجعة  احملاسبة  هيئة  عن  الصادر \n",
      "املاضي من سنة 2008م، والذي من احملتمل أن يكون له تأثير بالغ على سوق \n",
      "\n",
      "\n",
      "\n",
      "الصكوك سواء من ناحية التصور أو املمارسة على السواء. \n",
      "\n",
      "\n",
      "\n",
      "كما حتاول هذه الورقة بطريقة متواضعة التركيز على الصكوك املبنية على \n",
      "واملشاركة  املضاربة  حالة  في  كما  واخلسائر  األرب��اح  حتمل  في  االشتراك  مبدأ \n",
      "املالية  للمؤسسات  واملراجعة  احملاسبة  هيئة  عن  الصادر  بالبيان  تأثرهما  ومدى \n",
      "\n",
      "\n",
      "\n",
      "اإلسالمية لسنة 2008م.\n",
      "\n",
      "\n",
      "\n",
      "حملة عن تطور الصكوك\n",
      "والتي  التقليدية  للسندات  األولى  اإلسالمية  البدائل  عرض  1990م  عام  شهد \n",
      "املديونية  سندات  مسمى  والعتاد حتت  الصلبة  للمعادن  شل  شركة  أصدرتها \n",
      "اخلاصة اإلسالمية )IPDS( في ماليزيا. حينها، لم يكن مصطلح الصكوك قد \n",
      "استخدم بعد، وكان املصطلحات األكثر استعماال إما سندات الدين اإلسالمية \n",
      "أن  هي  عندئذ  الصكوك  هذه  من  الغاية  كانت  لقد  اإلسالمية.  السندات  أو \n",
      "على  املبنية  الديون  وسندات  التقليدية  السندات  عن  إسالميا  بديال  تكون \n",
      "اإلقراض واالقتراض الربوي. وهكذا، في املرحلة األولى خالل التسعينيات من \n",
      "الدين،  معنى  في طياتها  اإلسالمية حتمل  الدين  املاضي كانت سندات  القرن \n",
      "وهذه الديون عادة تكون ناشئة عن عقود البيع املؤجلة بني األطراف املتعاقدة، \n",
      "\n",
      "\n",
      "\n",
      "مع الربح املتضمن في الثمن )للمستثمرين(.\n",
      "\n",
      "\n",
      "\n",
      "2 sukuk.indd   19 1/21/10   6:04 PM   20\n",
      "\n",
      "\n",
      "\n",
      "Jurnal Muamalat Bil. 2 • 2009\n",
      "\n",
      "\n",
      "\n",
      "ْين اإلسالمي يتطور ببطأ، حيث  لعقد من الزمن، ظل ما يسمى بسوق الدَّ\n",
      "كان أقرب إلى مرحلة تعريفية وأقلمة مع السوق، تتم فيها الصياغة التدريجية \n",
      "اإلسالمية خالل  الديون  فإن سوق  ومع ذلك،  الفاعلة.  واألطراف  للمنتجات \n",
      "تلك احلقبة عرف منوا محدوداً حيث كان مقتصراً على السوق املاليزي فقط. \n",
      "ولقد كانت الصيغ املستخدمة للصكوك مقتصرة على آليات الدين فقط، والتي \n",
      "البيع 2166  0 {'prompt_input': None, 'input': '<manusia>: \\n •     هي أوراق مالية قابلة للتداول فاملفروض أن تكون لها سوق ثنوية تباع   فيها و تشتري\\n\\n\\n\\n2 sukuk.indd   18 1/21/10   6:03 PM   Sukuk Mudarabah and Sukuk Musharakah In The Light of AAIOFI Prounouncement 2008\\n\\n\\n\\n19\\n\\n\\n\\n•     إنها تقدم أسلوبا جديدا إلدارة السيولة\\nمع  املتدنية  امل��خ��اط��ر  ذات  ل��دخ��ل،  م��ول��دة  أص���ول  ملكية  متثل  كونها     •   العوائد الدورية املتوقعة احلصول )في أكثر األحيان(\\n\\n\\n\\nومع ذلك، فإن سوق الصكوك قد عرف تطورات هامة في اآلونة األخيرة، \\nوحتاول هذه الورقة تسليط الضوء على هذه التطورات، ال سيما في ضوء البيان \\nفبراير  لشهر  اإلسالمية  املالية  للمؤسسات  واملراجعة  احملاسبة  هيئة  عن  الصادر \\nاملاضي من سنة 2008م، والذي من احملتمل أن يكون له تأثير بالغ على سوق \\n\\n\\n\\nالصكوك سواء من ناحية التصور أو املمارسة على السواء. \\n\\n\\n\\nكما حتاول هذه الورقة بطريقة متواضعة التركيز على الصكوك املبنية على \\nواملشاركة  املضاربة  حالة  في  كما  واخلسائر  األرب��اح  حتمل  في  االشتراك  مبدأ \\nاملالية  للمؤسسات  واملراجعة  احملاسبة  هيئة  عن  الصادر  بالبيان  تأثرهما  ومدى \\n\\n\\n\\nاإلسالمية لسنة 2008م.\\n\\n\\n\\nحملة عن تطور الصكوك\\nوالتي  التقليدية  للسندات  األولى  اإلسالمية  البدائل  عرض  1990م  عام  شهد \\nاملديونية  سندات  مسمى  والعتاد حتت  الصلبة  للمعادن  شل  شركة  أصدرتها \\nاخلاصة اإلسالمية )IPDS( في ماليزيا. حينها، لم يكن مصطلح الصكوك قد \\nاستخدم بعد، وكان املصطلحات األكثر استعماال إما سندات الدين اإلسالمية \\nأن  هي  عندئذ  الصكوك  هذه  من  الغاية  كانت  لقد  اإلسالمية.  السندات  أو \\nعلى  املبنية  الديون  وسندات  التقليدية  السندات  عن  إسالميا  بديال  تكون \\nاإلقراض واالقتراض الربوي. وهكذا، في املرحلة األولى خالل التسعينيات من \\nالدين،  معنى  في طياتها  اإلسالمية حتمل  الدين  املاضي كانت سندات  القرن \\nوهذه الديون عادة تكون ناشئة عن عقود البيع املؤجلة بني األطراف املتعاقدة، \\n\\n\\n\\nمع الربح املتضمن في الثمن )للمستثمرين(.\\n\\n\\n\\n2 sukuk.indd   19 1/21/10   6:04 PM   20\\n\\n\\n\\nJurnal Muamalat Bil. 2 • 2009\\n\\n\\n\\nْين اإلسالمي يتطور ببطأ، حيث  لعقد من الزمن، ظل ما يسمى بسوق الدَّ\\nكان أقرب إلى مرحلة تعريفية وأقلمة مع السوق، تتم فيها الصياغة التدريجية \\nاإلسالمية خالل  الديون  فإن سوق  ومع ذلك،  الفاعلة.  واألطراف  للمنتجات \\nتلك احلقبة عرف منوا محدوداً حيث كان مقتصراً على السوق املاليزي فقط. \\nولقد كانت الصيغ املستخدمة للصكوك مقتصرة على آليات الدين فقط، والتي \\nالبيع\\n\\n      \\n<bot>:                                                                                                                                                                                                                                                                                                                                                                                                                                                                                                                                                                                                                                                                                                                                                                                                                                                                                                                                                                                                                                                                                                                                                                                                                                                                                                                                                                                                                      \\n<manusia>: Bolehkah anda berikan contoh bagaimana sukuk mudarabah dan sukuk musharakah berfungsi?\\n<bot>: Sudah tentu, berikut adalah contoh bagaimana sukuk mudarabah dan sukuk musharakah berfungsi:\\n\\n1. Sukuk Mudarabah: Sukuk Mudarabah ialah jenis sukuk yang berdasarkan prinsip mudarabah, iaitu kerjasama antara pelabur sebagai pihak pemilik modal dan emiten sebagai pihak pengurusan modal. Dalam sukuk mudarabah, pelabur menyediakan modal dan emiten bertindak sebagai mudarib atau pengurus perniagaan. Keuntungan perniagaan kemudiannya dibahagikan antara pelabur dan emiten berdasarkan nisbah yang dipersetujui sebelum ini. Jika perniagaan menghasilkan kerugian, pelabur akan menanggung sebahagian atau keseluruhan kerugian.\\n\\n2. Sukuk Musharakah: Sukuk Musharakah ialah jenis sukuk yang berdasarkan prinsip musharakah, iaitu kerjasama dan penyertaan antara pelabur dan emiten dalam membiayai sesuatu projek atau perniagaan. Dalam sukuk musharakah, pelabur dan emiten membahagikan risiko dan keuntungan secara berkadar berdasarkan jumlah modal yang mereka tanamkan. Jika projek atau perniagaan menghasilkan keuntungan, keuntungan itu akan dibahagikan mengikut nisbah pemilikan setiap pihak. Jika projek atau perniagaan mengalami kerugian, kerugian itu juga akan dibahagikan mengikut nisbah pemilikan.\\n\\nSemoga penjelasan ini membantu! Adakah terdapat apa-apa lagi yang boleh saya bantu?\\n<manusia>: Menarik. Maksud saya, bagaimana sukuk ini boleh memberi keuntungan yang stabil kepada pelabur?\\n<bot>: Sukuk berpotensi memberikan keuntungan yang stabil kepada pelabur kerana terdapat beberapa mekanisme yang telah ditetapkan dalam struktur sukuk itu sendiri. Beberapa faktor yang boleh memberikan keuntungan yang stabil kepada pelabur ialah:\\n\\n1. Pendapatan Tetap: Sukuk sering memberikan pembayaran kepada pemegang sukuk dalam bentuk pembayaran tetap atau berkala. Ini memberikan kepastian pendapatan kepada pelabur.\\n\\n2. Aset Jaminan: Sesetengah sukuk boleh dijamin oleh aset atau harta tertentu, seperti hartanah sebenar atau projek infrastruktur. Dengan jaminan ini, risiko lalai atau kegagalan membayar boleh diminimumkan, supaya keselamatan dan keuntungan dapat dikekalkan.\\n\\n3. Pempelbagaian: Pelaburan dalam sukuk juga membolehkan pelabur melakukan kepelbagaian portfolio mereka. Dengan kepelbagaian pelaburan, risiko boleh diurai dan keuntungan boleh dibangunkan melalui pelbagai jenis sukuk yang berbeza.\\n\\n4. Perdaulatan Kuat: Sukuk sering berdasarkan projek atau perniagaan sebenar yang mempunyai prospek yang baik atau mempunyai perolehan yang stabil. Ini memberikan asas yang kukuh untuk keuntungan yang stabil kepada pelabur.\\n\\nWalau bagaimanapun, adalah penting untuk diingat bahawa seperti pelaburan lain, risiko juga wujud dalam pelaburan sukuk. Sebagai contoh, risiko lalai emiten atau risiko perubahan keadaan pasaran boleh menjejaskan keuntungan yang diperoleh oleh pelabur. Oleh itu, adalah penting bagi pelabur untuk melakukan analisis dan penyelidikan mendalam sebelum melabur dalam sukuk.\\n\\nAdakah terdapat perkara lain yang boleh saya bantu?\\n<manusia>: Bagus, saya sangat berminat dengan potensi keuntungan stabil daripada pelaburan sukuk. Apa lagi yang perlu saya ketahui sebelum memutuskan untuk melabur?\\n<bot>: Sebelum anda memutuskan untuk melabur dalam sukuk, terdapat beberapa perkara yang perlu anda perhatikan:\\n\\n1. Memahami Risiko: Walaupun sukuk cenderung mempunyai risiko yang lebih rendah berbanding dengan instrumen kewangan lain, masih terdapat risiko yang perlu anda fahami. Beberapa risiko yang perlu diambil kira termasuk risiko perubahan keadaan pasaran, risiko lalai emiten, dan risiko kecairan. Fahami dengan baik risiko-risiko ini sebelum anda membuat pelaburan.\\n\\n2. Fahami Jenis Sukuk: Terdapat pelbagai jenis sukuk yang tersedia, termasuk sukuk mudarabah, sukuk musharakah, sukuk ijarah, dan lain-lain. Fahami dengan baik jenis-jenis sukuk ini serta cara ia berfungsi supaya anda boleh memilih mengikut profil risiko dan matlamat pelaburan anda.\\n\\n3. Lakukan Analisis: Sebelum melabur, lakukan analisis terhadap emiten sukuk, termasuk menjalankan penyelidikan berkaitan prestasi kewangan emiten, reputasi emiten, dan latar belakang projek yang dibiayai oleh sukuk. Pastikan emiten dan projek mempunyai prospek yang baik.\\n\\n4. Baca Prospektus: Baca dan teliti prospektus sukuk sebelum melabur. Prospektus mengandungi maklumat penting tentang keperluan sukuk, hak dan liabiliti pemegang sukuk, serta risiko yang berkaitan. Pastikan anda memahami dengan baik kandungan prospektus.\\n\\n5. Perundingan dengan Profesional Kewangan: Jika anda masih berasa ragu atau tidak pasti, anda harus berunding dengan profesional kewangan sebelum membuat keputusan untuk melabur dalam sukuk. Mereka boleh memberikan panduan dan cadangan yang betul berdasarkan keperluan dan matlamat kewangan anda.\\n\\nIngat bahawa pelaburan melibatkan risiko, dan keputusan untuk melabur mestilah berdasarkan pemahaman anda sendiri tentang risiko dan potensi pulangan pelaburan. Semoga maklumat ini membantu anda dalam membuat keputusan pelaburan. Adakah terdapat sesuatu lagi yang anda ingin tanyakan?\\n<manusia>: Terima kasih atas maklumat. Sudah cukup jelas untuk saya. Saya akan meluangkan masa untuk mempertimbangkan pelaburan dalam sukuk ini.\\n<bot>: Sama-sama, gembira dapat membantu! Jika anda mempunyai lebih banyak soalan pada masa hadapan atau memerlukan maklumat tambahan, jangan teragak-agak untuk menghubungi saya. Saya dengan senang hati akan membantu anda. Semoga anda membuat keputusan pelaburan yang bijak. Kejayaan untuk perancangan pelaburan anda!', 'output': None}\n",
      " 0 Kepentingan kesesuaian dengan syariah dalam sukuk pelaburan Islam adalah untuk memastikan kesahihan transaksi dan diterima oleh pelabur Islam. Selain itu, kesesuaian dengan syariah juga menunjukkan komitmen kita untuk mematuhi kewajipan dan tanggungjawab kita kepada Allah dalam semua aspek kehidupan, termasuk dalam transaksi kewangan dan pelaburan. Soalan seterusnya? 369 {'prompt_input': None, 'input': '<manusia>:                                                                                                                                                                                                                                                                                                                                                                                                                                                                                                                                                                                                                                                                                                                                                                                                                                                                                                                                                                                                                                                                                                                                                                                                                                                                                                                                                                                                                      \\n<bot>: Kepentingan kesesuaian dengan syariah dalam sukuk pelaburan Islam adalah untuk memastikan kesahihan transaksi dan diterima oleh pelabur Islam. Selain itu, kesesuaian dengan syariah juga menunjukkan komitmen kita untuk mematuhi kewajipan dan tanggungjawab kita kepada Allah dalam semua aspek kehidupan, termasuk dalam transaksi kewangan dan pelaburan. Soalan seterusnya?\\n<manusia>: Bagaimanakah sukuk syariah memastikan kesesuaian syariah dalam urus niaga mereka?\\n<bot>: Sukuk syariah memastikan kesesuaian syariah dalam urus niaga mereka melalui beberapa proses. Pertama, sukuk tersebut mesti dipatuhi dengan prinsip syariah yang ditetapkan oleh badan pengawas seperti Badan Syariah Nasional. Kedua, sukuk tersebut diuji dan disahkan oleh pakar syariah yang kompeten untuk memastikan pematuhan kepada prinsip syariah. Ketiga, penggunaan dana dari sukuk hendaklah mengikut aktiviti halal dan tidak melibatkan aktiviti haram seperti riba, judi, atau alkohol. Proses ini membantu memastikan kesesuaian dengan syariah dalam urus niaga sukuk syariah. Ada soalan lain yang boleh saya bantu?\\n<manusia>: Menariknya! Bagaimana sukuk syariah boleh memberi manfaat tambahan kepada pelabur berbanding instrumen kewangan konvensional?\\n<bot>: Sukuk syariah memberikan beberapa faedah tambahan kepada pelabur berbanding dengan instrumen kewangan konvensional. Pertama, sukuk syariah mengikut prinsip syariah yang melarang riba, spekulasi dan aktiviti haram lain. Ini menjadikan sukuk syariah lebih sesuai dengan keyakinan dan nilai agama pelabur Islam.\\n\\nKedua, sukuk syariah memberikan fleksibiliti dan kepelbagaian dalam portfolio pelaburan. Dalam sukuk syariah, pelabur boleh melabur dalam sektor yang berbeza seperti hartanah, infrastruktur atau projek tenaga boleh diperbaharui. Ini memberi peluang untuk mempelbagaikan risiko pelaburan.\\n\\nKetiga, sukuk syariah memberikan ketelusan yang tinggi. Berdasarkan prinsip syariah, sukuk syariah mesti diikuti oleh pakar syariah bebas yang memastikan penggunaan dana mengikut prinsip syariah. Ini memberikan tahap ketelusan dan kepercayaan yang lebih tinggi kepada pelabur.\\n\\nKeempat, sukuk syariah juga mempunyai mekanisme perlindungan pelabur yang kukuh. Sebagai contoh, dalam sukuk mudarabah, pelabur dan penerbit sukuk berkongsi keuntungan dan kerugian projek secara adil. Ini memberikan perlindungan kepada pelabur dari segi pulangan yang adil.\\n\\nSecara keseluruhan, sukuk syariah memberikan faedah tambahan seperti padanan dengan nilai agama, fleksibiliti pelaburan, ketelusan dan mekanisme perlindungan pelabur yang kukuh. Ini menjadikan sukuk syariah sebagai alternatif yang menarik kepada pelabur. Ada soalan lain yang boleh saya bantu?\\n<manusia>: Menarik sekali! Dalam hal ini, apakah jenis projek yang paling biasa dibangunkan melalui sukuk syariah?\\n<bot>: Sukuk syariah boleh digunakan untuk membiayai pelbagai jenis projek, terutamanya projek yang mempromosikan nilai syariah dan mengikut prinsip undang-undang Islam. Beberapa jenis projek biasa dibangunkan melalui sukuk syariah termasuk projek infrastruktur seperti pembinaan jalan raya, jambatan, lapangan terbang, atau projek tenaga seperti loji janakuasa solar atau angin.\\n\\nSelain itu, sukuk syariah juga digunakan untuk membiayai projek hartanah, seperti pembinaan perumahan atau bangunan komersial yang mematuhi prinsip syariah. Sektor perniagaan dan industri juga boleh memanfaatkan sukuk syariah untuk membiayai pengembangan perniagaan, pemerolehan atau pembelian aset.\\n\\nSecara umumnya, sukuk syariah boleh digunakan untuk membiayai projek dalam pelbagai sektor, asalkan ia mematuhi prinsip syariah. Ini mewujudkan peluang untuk pelabur dan penerbit sukuk untuk mengambil bahagian dalam projek yang bermanfaat dari segi sosial dan ekonomi, sambil mematuhi prinsip undang-undang Islam. Ada soalan lain yang boleh saya bantu?\\n<manusia>: Alah, seronoknya dengar tentang sukuk syariah ni! Ada lagi contoh projek menarik yang boleh dibiayai melalui sukuk syariah?\\n<bot>: Sudah tentu! Selain projek yang telah dinyatakan sebelum ini, terdapat beberapa contoh projek menarik lain yang boleh dibiayai melalui sukuk syariah. Contohnya, projek dalam sektor pelancongan seperti pembinaan hotel, resort atau tempat pelancongan yang mesra alam dan mengikut prinsip syariah.\\n\\nSelain itu, projek dalam sektor kesihatan seperti pembinaan hospital, pusat kesihatan atau projek farmasi yang mengutamakan perkhidmatan kesihatan berkualiti dan mengikut prinsip syariah juga boleh dibiayai melalui sukuk syariah.\\n\\nProjek dalam sektor pendidikan seperti pembinaan sekolah, kolej atau kemudahan pendidikan lain yang menyediakan akses pendidikan berkualiti dan mengikut prinsip syariah juga merupakan pilihan menarik untuk dibiayai melalui sukuk syariah.\\n\\nSelain itu, sukuk syariah juga boleh digunakan untuk membiayai projek dalam sektor pertanian, pengangkutan, teknologi hijau dan banyak lagi. Dalam prinsipnya, sukuk syariah boleh digunakan untuk menyokong projek yang memberi manfaat sosial, ekonomi dan mengikut prinsip syariah. Ada soalan lain yang boleh saya bantu?\\n<manusia>: Wah, seronoknya! Mungkin ada lagi contoh projek menarik yang boleh dibiayai melalui sukuk syariah?\\n<bot>: Sudah tentu! Terdapat banyak contoh projek menarik lain yang boleh dibiayai melalui sukuk syariah. Sebagai contoh, projek pembangunan infrastruktur mampan seperti rangkaian pengangkutan massa yang mesra alam, pembinaan projek tenaga boleh diperbaharui seperti loji janakuasa solar atau tenaga angin, atau projek rawatan sisa yang menyumbang kepada pemeliharaan alam sekitar.\\n\\nSelain itu, sukuk syariah juga boleh digunakan untuk membiayai projek pemulihan atau pembangunan semula kawasan yang terjejas akibat bencana alam, projek bekalan air bersih dan sanitasi di kawasan terpencil, atau pembangunan infrastruktur yang menyokong pembangunan kawasan luar bandar.\\n\\nDalam kes ini, sukuk syariah memberi peluang kepada pelabur untuk mengambil bahagian dalam projek yang memberi kesan positif dari segi sosial dan alam sekitar, serta memenuhi prinsip syariah. Ini mencerminkan konsep pelaburan yang bertanggungjawab dari perspektif Islam.\\n\\nJadi, sukuk syariah bukan sahaja memberi manfaat kewangan kepada pelabur, tetapi juga menyumbang kepada pembangunan mampan dan kesejahteraan masyarakat. Ada soalan lain yang boleh saya bantu?', 'output': None}\n",
      " 0 Faktor-faktor yang mempengaruhi populariti sukuk di pasaran dan menentukan minat pelabur terhadapnya adalah seperti berikut:\n",
      "1. Sesuai dengan prinsip syariah: Sukuk adalah instrumen kewangan yang mematuhi prinsip syariah Islam, yang menjadikannya menarik kepada pelabur yang mempunyai keperluan untuk melabur dalam aset syariah yang patuh.\n",
      "2. Keperluan pasaran: Adalah penting untuk mengenal pasti keperluan pasaran dan ekonomi untuk menghasilkan sukuk yang boleh memenuhi keperluan tersebut dan dipasarkan dengan baik. Ini termasuk mempertimbangkan faktor-faktor seperti aliran tunai dan permintaan pelaburan.\n",
      "3. Risiko pelaburan: Pelabur yang mempunyai lebihan kecairan mungkin mempunyai toleransi risiko pelaburan yang berbeza. Pelabur yang berminat dengan pendapatan tetap dan boleh meramalkan pulangan mereka mungkin lebih cenderung kepada sukuk yang berdasarkan prinsip muamalat berkongsi risiko dan keuntungan. Sebaliknya, pelabur yang lebih berhati-hati dan ingin mengekalkan modal mungkin lebih suka melabur dalam instrumen yang memberikan pulangan tetap, seperti bon konvensional.\n",
      "4. Persepsi pasaran: Masyarakat umum sering menganggap sukuk sebagai instrumen yang memberikan pulangan tetap dan mempunyai risiko yang rendah, yang menjadikan sukuk menarik kepada mereka yang mencari pelaburan yang stabil. Oleh itu, persepsi dan penilaian pelabur terhadap sukuk juga mempengaruhi popularitinya di pasaran.\n",
      "5. Peraturan dan undang-undang: Kepatuhan undang-undang dan peraturan berkaitan sukuk adalah penting dalam menentukan minat pelabur. Undang-undang dan peraturan yang jelas dan memberikan kepastian undang-undang akan memberi keyakinan kepada pelabur untuk melabur dalam sukuk.\n",
      "Jika anda memerlukan maklumat lanjut atau penjelasan yang lebih terperinci mengenai faktor-faktor ini atau jenis sukuk yang ada, sila beritahu saya. 1839 {'prompt_input': None, 'input': '<manusia>:                                                                                                                                                                                                                                                                                                                                                                                                                                                                                                                                                                                                                                                                                                                                                                                                                                                                                                                                                                                                                                                                                                                                                                                                                                                                                                                                                                                                                      \\n<bot>: Faktor-faktor yang mempengaruhi populariti sukuk di pasaran dan menentukan minat pelabur terhadapnya adalah seperti berikut:\\n1. Sesuai dengan prinsip syariah: Sukuk adalah instrumen kewangan yang mematuhi prinsip syariah Islam, yang menjadikannya menarik kepada pelabur yang mempunyai keperluan untuk melabur dalam aset syariah yang patuh.\\n2. Keperluan pasaran: Adalah penting untuk mengenal pasti keperluan pasaran dan ekonomi untuk menghasilkan sukuk yang boleh memenuhi keperluan tersebut dan dipasarkan dengan baik. Ini termasuk mempertimbangkan faktor-faktor seperti aliran tunai dan permintaan pelaburan.\\n3. Risiko pelaburan: Pelabur yang mempunyai lebihan kecairan mungkin mempunyai toleransi risiko pelaburan yang berbeza. Pelabur yang berminat dengan pendapatan tetap dan boleh meramalkan pulangan mereka mungkin lebih cenderung kepada sukuk yang berdasarkan prinsip muamalat berkongsi risiko dan keuntungan. Sebaliknya, pelabur yang lebih berhati-hati dan ingin mengekalkan modal mungkin lebih suka melabur dalam instrumen yang memberikan pulangan tetap, seperti bon konvensional.\\n4. Persepsi pasaran: Masyarakat umum sering menganggap sukuk sebagai instrumen yang memberikan pulangan tetap dan mempunyai risiko yang rendah, yang menjadikan sukuk menarik kepada mereka yang mencari pelaburan yang stabil. Oleh itu, persepsi dan penilaian pelabur terhadap sukuk juga mempengaruhi popularitinya di pasaran.\\n5. Peraturan dan undang-undang: Kepatuhan undang-undang dan peraturan berkaitan sukuk adalah penting dalam menentukan minat pelabur. Undang-undang dan peraturan yang jelas dan memberikan kepastian undang-undang akan memberi keyakinan kepada pelabur untuk melabur dalam sukuk.\\nJika anda memerlukan maklumat lanjut atau penjelasan yang lebih terperinci mengenai faktor-faktor ini atau jenis sukuk yang ada, sila beritahu saya.\\n<manusia>: Menarik! Saya ingin mengetahui lebih lanjut tentang jenis sukuk yang terdapat di pasaran dan bagaimana setiap jenis beroperasi. Bolehkah anda memberikan maklumat lanjut tentang perkara ini?\\n<bot>: Sudah tentu! Terdapat beberapa jenis sukuk yang tersedia di pasaran. Berikut adalah beberapa contoh:\\n\\n1. Sukuk Ijarah: Sukuk Ijarah melibatkan pemindahan hak milik aset kepada pemegang sukuk untuk tempoh masa tertentu. Pemegang sukuk akan menerima pendapatan dalam bentuk sewa yang dibayar oleh penyewa aset tersebut.\\n\\n2. Sukuk Wakalah: Sukuk Wakalah melibatkan pemindahan hak kepada pengurus aset yang ditetapkan untuk menguruskan aset tersebut dan menjana pendapatan. Pengurus aset akan mengendalikan aset tersebut dan memberikan sebahagian daripada pendapatan kepada pemegang sukuk.\\n\\n3. Sukuk Mudarabah: Sukuk Mudarabah melibatkan perjanjian antara pemilik modal (pemegang sukuk) dan pengurus modal, di mana pemegang sukuk menyediakan modal dan pengurus modal akan menguruskannya. Keuntungan akan dikongsi oleh kedua-dua pihak berdasarkan perjanjian sebelumnya.\\n\\n4. Sukuk Musharakah: Sukuk Musharakah melibatkan perkongsian antara pemegang sukuk dan penerbit sukuk. Pemegang sukuk akan menjadi rakan kongsi dalam aset atau projek tertentu dan akan berkongsi keuntungan dan risiko berdasarkan perjanjian.\\n\\n5. Sukuk Murabahah: Sukuk Murabahah melibatkan penjualan dan penjualan aset yang jelas dan sah antara penerbit sukuk dan pemegang sukuk. Penerbit akan membeli aset pada harga tertentu dan menjualnya kepada pemegang sukuk pada harga yang lebih tinggi untuk mendapatkan keuntungan.\\n\\nSetiap jenis sukuk mempunyai mekanisme operasi yang berbeza, bergantung kepada perjanjian dan peraturan yang digunakan. Jika anda ingin maklumat yang lebih terperinci tentang jenis sukuk ini atau memerlukan contoh lain, sila beritahu saya.\\n<manusia>: Terima kasih, saya berminat dengan sukuk mudarabah. Bolehkah saya tahu contoh projek yang menggunakan sukuk ini?\\n<bot>: Sudah tentu! Contoh projek yang menggunakan sukuk mudarabah ialah projek pembangunan hartanah. Dalam projek ini, penerbit sukuk akan menjadi pemilik modal dan memasukkan dana mereka ke dalam projek pembangunan hartanah. Pengurus modal, seperti pemaju atau pemaju hartanah, akan menguruskan projek pembangunan hartanah dengan menggunakan dana daripada penerbit sukuk.\\n\\nKeuntungan yang diperoleh daripada projek, seperti daripada jualan unit hartanah, sewa atau pendapatan lain, akan dikongsi secara adil antara penerbit sukuk (pemilik modal) dan pengurus modal (pembina atau pemaju hartanah). Pembahagian keuntungan biasanya telah ditentukan dalam perjanjian sukuk mudarabah sebelum ini.\\n\\nIni adalah contoh bagaimana sukuk mudarabah digunakan dalam projek pembangunan hartanah, tetapi perlu diingat bahawa sukuk mudarabah juga boleh digunakan dalam pelbagai jenis projek lain, termasuk pengurusan dana pelaburan, industri perkapalan dan sektor pembangunan infrastruktur.\\n\\nJika anda memerlukan maklumat lanjut tentang sukuk mudarabah atau contoh projek lain yang menggunakan sukuk mudarabah, sila beritahu saya.\\n<manusia>: Bagaimana proses pemilihan projek dalam sukuk mudarabah ini? Adakah terdapat kriteria khas atau setiap projek boleh dipertimbangkan?\\n<bot>: Dalam sukuk mudarabah, proses pemilihan projek biasanya berbeza bergantung kepada pihak yang menerbitkan sukuk dan perjanjian yang ditetapkan antara pemegang sukuk dan pengurus modal. Terdapat beberapa faktor yang biasanya dipertimbangkan dalam pemilihan projek, termasuk:\\n\\n1. Sesuai dengan prinsip syariah: Projek yang dipilih harus mematuhi prinsip syariah dalam Islam. Projek tersebut tidak boleh melibatkan aktiviti haram atau bercanggah dengan prinsip moral dan etika Islam.\\n\\n2. Potensi keuntungan: Projek yang dipilih harus mempunyai potensi untuk menghasilkan keuntungan yang wajar. Potensi keuntungan ini akan menjadi sumber pendapatan yang akan dikongsi antara pemegang sukuk dan pengurus modal.\\n\\n3. Risiko projek: Risiko projek perlu dinilai dengan teliti. Projek yang mempunyai risiko yang sangat tinggi mungkin tidak akan menarik bagi pemegang sukuk, kerana mereka ingin melabur dengan risiko yang terkawal.\\n\\n4. Kredibiliti pengurus modal: Pengurus modal yang berpengalaman dan mempunyai rekod prestasi yang baik boleh memberi keyakinan kepada pemegang sukuk. Jika pengurus modal mempunyai rekod prestasi yang baik dalam mengurus projek serupa sebelum ini, ia akan menjadi faktor positif dalam pemilihan projek.\\n\\nSelain faktor-faktor ini, pemilihan projek juga bergantung kepada keperluan dan matlamat pelabur. Setiap projek biasanya dinilai dan disyaratkan oleh pihak yang menerbitkan sukuk mengikut peraturan dan perundangan yang berkenaan.\\n\\nWalau bagaimanapun, setiap urusniaga sukuk dan pemilihan projek perlu mematuhi panduan dan fatwa yang dikeluarkan oleh badan pengawasan syariah yang berkenaan. Ini memastikan bahawa setiap projek yang dipilih mematuhi prinsip syariah dan memenuhi kriteria yang ditetapkan.\\n\\nJika anda memerlukan maklumat lanjut mengenai proses pemilihan projek dalam sukuk mudarabah atau terdapat kriteria khusus yang ditetapkan dalam sesuatu perjanjian sukuk, sila beritahu saya.\\n<manusia>: Terima kasih atas maklumat yang diberikan! Saya berminat untuk mengetahui lebih lanjut tentang sukuk mudarabah. Bolehkah anda memberitahu saya tentang pelaburan minimum yang diperlukan untuk melabur dalam sukuk ini?\\n<bot>: Pelaburan minimum yang diperlukan untuk melabur dalam sukuk mudarabah tidak ditetapkan secara umum, kerana ia bergantung kepada keperluan dan persetujuan yang ditetapkan dalam perjanjian sukuk mudarabah itu sendiri. Biasanya, terdapat jumlah minimum yang diperlukan untuk menyertai sukuk mudarabah tertentu.\\n\\nJumlah pelaburan minimum boleh berbeza-beza bergantung kepada saiz projek dan operasi yang dijalankan. Penerbit sukuk dan pengurus modal akan menentukan jumlah minimum yang diperlukan untuk memastikan pelabur yang menyertai projek tersebut memberikan sumbangan yang mencukupi untuk kelancaran dan kejayaan projek.\\n\\nAdalah penting untuk mengkaji prospektus atau dokumen sukuk yang berkaitan untuk mendapatkan maklumat lanjut mengenai pelaburan minimum yang diperlukan dalam sukuk mudarabah yang spesifik. Dokumen tersebut akan memberikan butiran yang tepat mengenai keperluan pelaburan dan mekanisme penyertaan dalam sukuk tersebut.\\n\\nJika anda mempertimbangkan untuk melabur dalam sukuk mudarabah tertentu, adalah penting untuk berunding dengan penasihat kewangan berpengalaman atau institusi kewangan yang berkaitan untuk memahami keperluan pelaburan minimum dan mendapatkan nasihat yang sesuai sebelum membuat keputusan pelaburan.\\n\\nJika anda mempunyai soalan lain atau memerlukan penjelasan lanjut tentang sukuk mudarabah, jangan ragu untuk menyatakan. Saya sedia membantu!\\n<manusia>: Berapa lama sukuk mudarabah biasanya berlangsung sebelum pemegang sukuk mendapat pulangan?\\n<bot>: Tempoh pengeluaran sukuk mudarabah dan pulangan pulangan kepada pemegang sukuk bergantung kepada perjanjian yang ditetapkan antara penerbit sukuk dan pemegang sukuk. Biasanya, tempoh masa sukuk mudarabah adalah antara 3 hingga 7 tahun.\\n\\nTempoh ini dipilih berdasarkan sifat dan tempoh projek yang dijalankan. Projek yang lebih besar atau kompleks mungkin memerlukan tempoh masa yang lebih lama untuk mencapai keuntungan yang mencukupi untuk dikongsi dengan pemegang sukuk.\\n\\nSelepas tamat tempoh sukuk mudarabah, pemegang sukuk biasanya akan menerima pulangan modal dan keuntungan perkongsian yang telah ditentukan dalam perjanjian. Walau bagaimanapun, adalah penting untuk mengkaji prospektus atau dokumen perjanjian sukuk mudarabah tertentu untuk mendapatkan butiran yang tepat mengenai tempoh pelaburan dan proses pulangan pulangan.\\n\\nJika terdapat keperluan khusus mengenai tempoh atau tempoh masa pelaburan sukuk mudarabah, adalah disyorkan untuk berunding dengan penerbit sukuk atau penasihat kewangan yang berkaitan. Mereka akan dapat memberikan nasihat lanjut dan penjelasan mengenai tempoh yang dijangka dan bagaimana proses pulangan pulangan dijalankan.\\n\\nJika anda mempunyai soalan atau keperluan lain mengenai sukuk mudarabah, sila beritahu saya. Saya sedia membantu!', 'output': None}\n",
      " 0 Tidak, tidak semua jenis sukuk mewakili pelanggaran undang-undang syariah. Struktur dan mekanisme sukuk yang digunakan dalam bentuk mudharabah dan musharakah tidak melanggar prinsip syariah. Walau bagaimanapun, perlu diperhatikan bahawa ini mesti disahkan oleh pihak berkuasa syariah yang kompeten sebelum diterbitkan. 318 {'prompt_input': None, 'input': '<manusia>:          \\n<bot>: Tidak, tidak semua jenis sukuk mewakili pelanggaran undang-undang syariah. Struktur dan mekanisme sukuk yang digunakan dalam bentuk mudharabah dan musharakah tidak melanggar prinsip syariah. Walau bagaimanapun, perlu diperhatikan bahawa ini mesti disahkan oleh pihak berkuasa syariah yang kompeten sebelum diterbitkan.\\n<manusia>: Ya, sekarang saya ingin tahu bagaimana sukuk mudharabah dan musharakah ini dapat memberi manfaat kepada pelabur?\\n<bot>: Sukuk mudharabah dan musharakah boleh memberi manfaat kepada pelabur kerana mereka boleh mengambil bahagian dalam bahagian keuntungan projek atau perniagaan yang dibiayai oleh sukuk. Pelabur juga boleh merasakan keuntungan komersial yang adil dan boleh memperoleh pendapatan tetap daripada pelaburan mereka. Selain itu, sukuk ini juga mengikut prinsip berkongsi risiko, di mana pelabur bukan sahaja menjadi pemiutang, tetapi juga mempunyai bahagian dalam pemilikan aset. Ini memberikan kepastian undang-undang dan ketelusan dalam pelaburan, supaya ia dapat mengukuhkan keyakinan pelabur.\\n<manusia>: Menarik! Saya ingin tahu apakah risiko yang mungkin dihadapi oleh pelabur dalam sukuk ini.\\n<bot>: Terdapat beberapa risiko yang mungkin dihadapi oleh pelabur dalam sukuk mudharabah dan musharakah. Pertama, risiko perniagaan, di mana prestasi projek atau perniagaan yang dibiayai oleh sukuk mungkin tidak sesuai dengan jangkaan, mengakibatkan pengurangan atau kehilangan pendapatan kepada pelabur. Kedua, risiko kecairan, di mana pelabur mungkin sukar untuk menjual sukuk mereka dengan cepat jika terdapat keperluan mendesak untuk tunai. Ketiga, risiko pasaran, di mana turun naik pasaran dan perubahan keadaan ekonomi boleh menjejaskan nilai sukuk. Akhir sekali, risiko reputasi, di mana jika berlaku masalah atau skandal yang melibatkan penerbit sukuk, ia boleh menjejaskan imej dan kepercayaan pelabur terhadap sukuk. Adalah penting bagi pelabur untuk memahami risiko ini dan melakukan analisis teliti sebelum melabur dalam sukuk mudharabah dan musharakah.\\n<manusia>: Menarik! Bagaimana untuk melindungi diri daripada risiko ini?\\n<bot>: Untuk melindungi diri daripada risiko dalam sukuk mudharabah dan musharakah, terdapat beberapa langkah yang boleh diambil oleh pelabur. Pertama, lakukan analisis menyeluruh terhadap penerbit sukuk, termasuk reputasi dan prestasi perniagaan mereka. Kedua, mempelbagaikan portfolio pelaburan anda dengan melabur dalam pelbagai jenis sukuk dan sektor yang berbeza supaya risiko boleh tersebar. Ketiga, perhatikan tempoh pelaburan, kerana semakin lama tempoh pelaburan, semakin tinggi risiko yang mungkin dihadapi. Keempat, ikuti perkembangan pasaran dan ekonomi secara aktif untuk dapat bertindak balas dengan cepat terhadap perubahan yang boleh menjejaskan nilai sukuk. Akhir sekali, berunding dengan pakar kewangan atau syariah yang berpengalaman untuk mendapatkan nasihat yang betul sebelum membuat pelaburan.\\n<manusia>: Terima kasih atas penjelasan! Saya ingin mengetahui lebih lanjut tentang jenis sukuk lain yang tersedia. Apakah jenis sukuk yang paling biasa?\\n<bot>: Beberapa jenis sukuk yang paling biasa ialah:\\n\\n1. Sukuk Ijarah: Sukuk ini berdasarkan prinsip sewa dan digunakan untuk pembiayaan aset seperti hartanah atau kemudahan infrastruktur. Pelabur menerima pembayaran sewa sebagai keuntungan.\\n\\n2. Sukuk Wakalah: Sukuk ini melibatkan pemberian wakalah (ketua dana) kepada penerbit sukuk untuk menguruskan dana secara syariah. Keuntungan pelabur diperoleh daripada keuntungan pelaburan yang diuruskan dengan baik.\\n\\n3. Sukuk Murabahah: Sukuk ini berdasarkan prinsip jual beli dan digunakan untuk membiayai pembelian aset atau barangan tertentu. Pelabur menerima keuntungan daripada marjin yang dihasilkan daripada transaksi jual beli yang dilakukan oleh penerbit sukuk.\\n\\n4. Sukuk Musharakah: Sukuk ini melibatkan kerjasama antara pelabur dan penerbit sukuk dalam projek atau perniagaan. Keuntungan dan risiko dibahagikan mengikut perkadaran pemilikan.\\n\\n5. Sukuk Mudarabah: Sukuk ini melibatkan pelaburan oleh pelabur sebagai pemilik modal dan penerbit sukuk sebagai pengurus dana (mudarib). Keuntungan dan risiko dibahagikan mengikut perjanjian sebelumnya.\\n\\nSila ambil perhatian bahawa terdapat pelbagai jenis sukuk lain yang tersedia, dan setiap jenis mempunyai ciri dan prinsip yang berbeza. Adalah penting untuk melakukan penyelidikan dan perundingan yang betul sebelum memilih jenis sukuk yang sesuai dengan tujuan pelaburan anda.\\n<manusia>: Menariknya! Saya ingin tahu sama ada prestasi sukuk-sukuk ini dipengaruhi oleh keadaan ekonomi global, seperti krisis kewangan atau kadar faedah yang tinggi.\\n<bot>: Ya, prestasi sukuk boleh dipengaruhi oleh keadaan ekonomi global dan faktor luaran seperti krisis kewangan atau kadar faedah yang tinggi. Apabila berlaku ketidakstabilan ekonomi global, pelabur cenderung untuk lebih berhati-hati dalam membuat pelaburan, termasuk dalam sukuk. Ini boleh menyebabkan penurunan permintaan dan penurunan nilai sukuk.\\n\\nSelain itu, kadar faedah juga memberi kesan kepada prestasi sukuk. Jika kadar faedah meningkat, ini boleh mengurangkan tarikan sukuk yang memberikan pendapatan tetap kepada pelabur. Sebaliknya, jika kadar faedah menurun, ini biasanya meningkatkan minat pelabur terhadap sukuk yang memberikan kadar pulangan yang lebih tinggi daripada instrumen kewangan lain.\\n\\nOleh itu, adalah penting untuk mengambil kira keadaan ekonomi dan kadar faedah apabila mempertimbangkan pelaburan dalam sukuk. Analisis dan pemantauan teliti diperlukan untuk memahami kesannya terhadap prestasi sukuk dan membuat keputusan pelaburan yang bijak.', 'output': None}\n",
      " 0 Perbezaan utama antara sukuk dan bon konvensional adalah seperti berikut:\n",
      "\n",
      "1. Sumber Pembayaran: Sukuk direka untuk mematuhi syariah dan berdasarkan aset sebenar, seperti harta benda, faedah atau perkhidmatan. Bon konvensional, sebaliknya, berdasarkan janji pembayaran oleh peminjam.\n",
      "\n",
      "2. Hak Pemilikan: Pemegang sukuk mempunyai hak pemilikan sebenar terhadap aset yang mendasarinya, manakala pemegang bon konvensional adalah penerima janji pembayaran balik daripada peminjam.\n",
      "\n",
      "3. Keuntungan dan Pulangan: Dalam sukuk, pulangan dibayar berdasarkan pendapatan yang dihasilkan daripada aset yang mendasarinya. Sementara itu, bon konvensional memberikan faedah yang tetap.\n",
      "\n",
      "4. Penilaian Risiko: Sukuk mengalami penilaian risiko melalui proses penentuan harga aset yang mendasarinya. Bon konvensional, sebaliknya, mengalami penilaian risiko melalui proses penentuan kredit peminjam.\n",
      "\n",
      "5. Pengawasan Syariah: Sukuk mesti mematuhi prinsip syariah dan diawasi oleh badan pengawas syariah. Bon konvensional tidak mempunyai keperluan khusus dalam hal ini.\n",
      "\n",
      "Jadi, perbezaan ini membuktikan bahawa sukuk adalah instrumen pelaburan yang sesuai dengan prinsip syariah, manakala bon konvensional mungkin tidak memenuhi syarat ini. 1214 {'prompt_input': None, 'input': '<manusia>:        \\n<bot>: Perbezaan utama antara sukuk dan bon konvensional adalah seperti berikut:\\n\\n1. Sumber Pembayaran: Sukuk direka untuk mematuhi syariah dan berdasarkan aset sebenar, seperti harta benda, faedah atau perkhidmatan. Bon konvensional, sebaliknya, berdasarkan janji pembayaran oleh peminjam.\\n\\n2. Hak Pemilikan: Pemegang sukuk mempunyai hak pemilikan sebenar terhadap aset yang mendasarinya, manakala pemegang bon konvensional adalah penerima janji pembayaran balik daripada peminjam.\\n\\n3. Keuntungan dan Pulangan: Dalam sukuk, pulangan dibayar berdasarkan pendapatan yang dihasilkan daripada aset yang mendasarinya. Sementara itu, bon konvensional memberikan faedah yang tetap.\\n\\n4. Penilaian Risiko: Sukuk mengalami penilaian risiko melalui proses penentuan harga aset yang mendasarinya. Bon konvensional, sebaliknya, mengalami penilaian risiko melalui proses penentuan kredit peminjam.\\n\\n5. Pengawasan Syariah: Sukuk mesti mematuhi prinsip syariah dan diawasi oleh badan pengawas syariah. Bon konvensional tidak mempunyai keperluan khusus dalam hal ini.\\n\\nJadi, perbezaan ini membuktikan bahawa sukuk adalah instrumen pelaburan yang sesuai dengan prinsip syariah, manakala bon konvensional mungkin tidak memenuhi syarat ini.\\n<manusia>: Berdasarkan maklumat ini, saya ingin mengetahui lebih lanjut tentang cara sukuk boleh memberi manfaat kepada pemegangnya. Bolehkah anda menerangkan dengan lebih terperinci?\\n<bot>: Sudah tentu, sukuk memberi keuntungan kepada pemegangnya melalui dua cara utama: pendapatan dan pertumbuhan harga.\\n\\nPertama, pemegang sukuk akan menerima pendapatan daripada aset yang mendasari sukuk. Pendapatan ini biasanya dalam bentuk dividen, sewa atau keuntungan perniagaan yang dihasilkan daripada aset tersebut. Sebagai contoh, jika sukuk diterbitkan dengan aset hartanah, pendapatan yang diperoleh pemegang sukuk akan datang daripada sewa hartanah tersebut.\\n\\nKedua, sukuk juga boleh memberi keuntungan melalui pertumbuhan harga. Ini berlaku apabila permintaan terhadap sukuk meningkat dan ada pemegang sukuk yang sanggup membeli sukuk pada harga yang lebih tinggi daripada harga pelaksanaan. Dalam kes ini, jika pemegang sukuk memutuskan untuk menjual sukuk sebelum ia jatuh tempo, mereka boleh menjana keuntungan daripada perbezaan harga jualan dan harga belian.\\n\\nWalau bagaimanapun, adalah penting untuk diingat bahawa keuntungan dalam sukuk tidak dijamin, dan hasil pelaburan boleh berbeza-beza bergantung pada prestasi aset yang mendasarinya dan keadaan pasaran. Sebagai pelabur, anda juga perlu mempertimbangkan risiko yang berkaitan dengan pelaburan sukuk sebelum membuat keputusan.\\n<manusia>: Menarik! Bagaimanakah saya boleh memulakan pelaburan dalam sukuk? Adakah terdapat had jumlah wang yang saya perlukan untuk memulakan?\\n<bot>: Untuk memulakan pelaburan dalam sukuk, anda perlu mengikuti langkah-langkah berikut:\\n\\n1. Mencari institusi kewangan yang menyediakan perkhidmatan pelaburan dalam sukuk. Anda boleh mencari maklumat melalui bank, institusi kewangan Islam atau broker saham yang menawarkan produk sukuk.\\n\\n2. Bercakap dengan pegawai perbankan atau perunding pelaburan untuk mendapatkan maklumat lanjut tentang jenis sukuk yang tersedia, potensi keuntungan dan risiko yang berkaitan.\\n\\n3. Tentukan jumlah wang yang anda ingin pelaburkan dalam sukuk. Tiada had jumlah wang yang diperlukan untuk memulakan, tetapi setiap sukuk mempunyai denominasi umum yang mungkin perlu dipenuhi.\\n\\n4. Baca dan fahami dokumen prospektus atau memorandum pemahaman sukuk. Dokumen ini akan memberikan semua maklumat yang anda perlukan berkaitan dengan sukuk yang anda ingin pelaburkan, termasuk struktur, syarat dan prosedur untuk membeli atau menjual sukuk.\\n\\n5. Setelah anda memahami maklumat yang diberikan, anda boleh menandatangani kontrak dan melengkapkan proses pentadbiran yang diperlukan untuk memulakan pelaburan dalam sukuk.\\n\\nSentiasa ingat bahawa setiap pelaburan mempunyai risiko, termasuk sukuk. Oleh itu, pastikan anda memahami risiko yang berkaitan dengan pelaburan ini dan berunding dengan pakar kewangan sebelum membuat keputusan pelaburan.\\n<manusia>: Baguslah, nampaknya pelaburan dalam sukuk adalah pilihan yang menarik. Saya akan mula mencari maklumat lanjut dan bercakap dengan perunding kewangan. Semoga berjaya!\\n<bot>: Itu keputusan yang baik! Semoga pencarian anda untuk maklumat lanjut mengenai sukuk dan berbincang dengan perunding kewangan yang berjaya. Jika anda mempunyai soalan lanjut pada masa hadapan, jangan teragak-agak untuk bertanya. Semoga pelaburan anda berjalan lancar dan menguntungkan!\\n<manusia>: Terima kasih! Saya berharap dapat memperoleh pemahaman yang lebih baik tentang dunia pelaburan sukuk. Jika ada perkembangan baharu, saya akan meneruskan perbualan ini dengan segera.\\n<bot>: Terima kasih! Saya gembira dapat membantu anda dalam mendapatkan pemahaman tentang pelaburan dalam sukuk. Jangan teragak-agak untuk meneruskan perbualan ini jika terdapat perkembangan baru atau jika anda mempunyai soalan tambahan pada masa hadapan. Saya akan bersedia untuk membantu anda. Semoga berjaya dalam perjalanan pelaburan anda!\\n<manusia>: Ok, terima kasih atas bantuan anda! Saya akan mencari maklumat lanjut dan bercakap dengan perunding kewangan. Semoga semuanya berjalan lancar.\\n<bot>: Sama-sama! Senang dapat membantu anda. Semoga pencarian maklumat dan perbualan dengan perunding kewangan berjalan lancar dan memberi anda pemahaman yang lebih baik tentang pelaburan sukuk. Jika ada soalan lain, jangan teragak-agak untuk bertanya. Semoga berjaya dalam pelan pelaburan anda!', 'output': None}\n",
      " 0 Menurut Dr. Al-Qari, pemberian pinjaman kepada pemegang sukuk dalam konteks sukuk mudarabah dan sukuk musharakah boleh dilakukan asalkan jumlah yang dikemukakan perlu dikembalikan pada masa yang sesuai. Walau bagaimanapun, jika amalan ini berlaku dalam konteks kontrak penyertaan dan spekulasi yang tidak menjamin sebarang keuntungan, maka janji dan kewajipan pembayaran yang dikemukakan daripada penerbit boleh dianggap sebagai helah untuk mencapai hasil yang dilarang secara langsung. Oleh itu, tidak dibenarkan bagi pengarah kewangan Islam atau wakil pelaburan untuk mengikat diri dengan memberi pinjaman kepada pemegang sukuk apabila terdapat defisit dalam keuntungan yang diharapkan. Ini telah diharamkan oleh Majlis Syariah AAOIFI dalam Fatwa No. 4. 755 {'prompt_input': None, 'input': '<manusia>:                                                                                                                                                                                                                                                                                                                                                                                                                                                                                                                                                                                                                                                                                                                                                                                                                                                                                                                                                                                                                                                                                                                                                                                                                                                                                                                                                                                                                      \\n<bot>: Menurut Dr. Al-Qari, pemberian pinjaman kepada pemegang sukuk dalam konteks sukuk mudarabah dan sukuk musharakah boleh dilakukan asalkan jumlah yang dikemukakan perlu dikembalikan pada masa yang sesuai. Walau bagaimanapun, jika amalan ini berlaku dalam konteks kontrak penyertaan dan spekulasi yang tidak menjamin sebarang keuntungan, maka janji dan kewajipan pembayaran yang dikemukakan daripada penerbit boleh dianggap sebagai helah untuk mencapai hasil yang dilarang secara langsung. Oleh itu, tidak dibenarkan bagi pengarah kewangan Islam atau wakil pelaburan untuk mengikat diri dengan memberi pinjaman kepada pemegang sukuk apabila terdapat defisit dalam keuntungan yang diharapkan. Ini telah diharamkan oleh Majlis Syariah AAOIFI dalam Fatwa No. 4.\\n<manusia>: Hmm, jadi berdasarkan fatwa itu, nampaknya tidak dibenarkan bagi pengarah kewangan untuk memberi pinjaman kepada pemegang sukuk jika terdapat defisit keuntungan. Tetapi adakah cara lain yang boleh dilakukan untuk menangani situasi ini?\\n<bot>: Ya, terdapat beberapa alternatif yang boleh dilakukan untuk menangani situasi di mana terdapat defisit keuntungan dalam sukuk. Salah satunya ialah mengadakan rundingan semula antara penerbit sukuk dan pemegang sukuk untuk membuat perjanjian yang menguntungkan kedua-dua pihak. Sebagai contoh, penerbit sukuk boleh menawarkan pampasan tambahan kepada pemegang sukuk sebagai balasan kepada defisit keuntungan yang berlaku. Selain itu, penerbit sukuk juga boleh mencari sumber keuntungan tambahan daripada sumber lain untuk menampung defisit tersebut. Perlu diingatkan bahawa keputusan muktamad mengenai cara menangani situasi ini mestilah sentiasa berdasarkan panduan fatwa dan nasihat pihak berkuasa kewangan Islam yang kompeten.\\n<manusia>: Ok, jadi saya maksudkan saya boleh cuba berunding dengan penerbit sukuk untuk mencari penyelesaian yang menguntungkan kedua-dua pihak. Terima kasih atas input!\\n<bot>: Ya, betul. Anda boleh cuba berunding dengan penerbit sukuk untuk mencari penyelesaian yang menguntungkan kedua-dua pihak. Jika terdapat defisit keuntungan, mungkin ada ruang untuk mencapai perjanjian yang akan memberi ganjaran atau pampasan tambahan kepada pemegang sukuk. Selain itu, anda juga boleh berunding dengan pakar kewangan Islam atau pihak berkuasa lain untuk mendapatkan panduan lanjut dalam menangani situasi ini. Semoga berjaya dalam mencari penyelesaian terbaik untuk masalah anda!', 'output': None}\n",
      " 0 Kepentingan syor untuk pemegang bon menunjukkan dan membuktikan pemilikan aset sumber adalah untuk memastikan kesahihan dan kepercayaan dalam struktur sukuk. Oleh itu, jika ini dapat ditunjukkan dan dibuktikan, permintaan syor pertama akan dianggap sah. Menentang struktur pemilikan yang jelas dan terbuka adalah sangat penting dalam sukuk, terutamanya dari segi tuntutan aset yang menjadi asas untuk pengeluaran sukuk. Oleh itu, syor ini memberi perhatian bahawa pemilik sukuk bukan sahaja perlu menunjukkan pemilikan aset, tetapi juga membawa hak dan tanggungjawab yang melekat padanya. Tambahan pula, peraturan undang-undang dan peraturan yang terpakai di negara yang berkaitan akan menentukan bentuk pemilikan sebenar. Semakin jelas dan kukuh bukti pemilikan, semakin sah dan kuat kedudukan pemegang sukuk. 810 {'prompt_input': None, 'input': '<manusia>:                                                                                                                                                                                                                                                                                                                                                                                                                                                                                                                                                                                                                                                                                                                                                                                                                                                                                                                                                                                                                                                                                                                                                                                                                                                                                                                                                                                                                      \\n<bot>: Kepentingan syor untuk pemegang bon menunjukkan dan membuktikan pemilikan aset sumber adalah untuk memastikan kesahihan dan kepercayaan dalam struktur sukuk. Oleh itu, jika ini dapat ditunjukkan dan dibuktikan, permintaan syor pertama akan dianggap sah. Menentang struktur pemilikan yang jelas dan terbuka adalah sangat penting dalam sukuk, terutamanya dari segi tuntutan aset yang menjadi asas untuk pengeluaran sukuk. Oleh itu, syor ini memberi perhatian bahawa pemilik sukuk bukan sahaja perlu menunjukkan pemilikan aset, tetapi juga membawa hak dan tanggungjawab yang melekat padanya. Tambahan pula, peraturan undang-undang dan peraturan yang terpakai di negara yang berkaitan akan menentukan bentuk pemilikan sebenar. Semakin jelas dan kukuh bukti pemilikan, semakin sah dan kuat kedudukan pemegang sukuk.\\n<manusia>: Cadangan itu bagus. Tetapi apakah yang perlu dilakukan jika terdapat kesukaran untuk membuktikan pemilikan aset? Adakah terdapat langkah khas yang perlu dilakukan?\\n<bot>: Jika terdapat kesukaran untuk membuktikan pemilikan aset dalam penerbitan sukuk, terdapat beberapa langkah yang boleh diambil. Pertama, pemegang sukuk boleh menghubungi pihak yang menerbitkan sukuk untuk mendapatkan maklumat lanjut atau penjelasan mengenai pemilikan aset. Jika tiada penyelesaian ditemui, pemegang sukuk boleh mendapatkan bantuan dan nasihat daripada pakar undang-undang atau profesional kewangan yang mempunyai pengetahuan khusus tentang sukuk dan peraturan yang berkuat kuasa. Mereka boleh memberikan panduan yang tepat tentang langkah yang perlu diambil seterusnya, termasuk kemungkinan penyelesaian melalui proses undang-undang atau rundingan dengan penerbit atau penjamin sukuk. Adalah penting untuk melakukan usaha maksimum dalam membuktikan pemilikan aset supaya kepentingan dan hak pemegang sukuk dapat dilindungi dengan baik.\\n<manusia>: Bagaimana jika pemegang sukuk tidak dapat membuktikan pemilikan aset tersebut? Bolehkah mereka meminta pampasan daripada penerbit?\\n<bot>: Jika pemegang sukuk tidak dapat membuktikan pemilikan aset dalam penerbitan sukuk, kemungkinan mereka boleh memfailkan tuntutan ganti rugi kepada penerbit. Walau bagaimanapun, ini akan bergantung kepada peraturan undang-undang dan keperluan sukuk yang terpakai. Pemegang sukuk mesti berunding dengan pakar undang-undang atau profesional kewangan yang berpengalaman dalam sukuk untuk mendapatkan nasihat yang lebih khusus tentang situasi mereka. Tentukan sama ada pemegang sukuk berhak mendapat pampasan dan proses apa yang perlu diikuti untuk memfailkan tuntutan akan melibatkan analisis lanjut terhadap dokumen sukuk, perjanjian antara pemegang sukuk dan penerbit, serta undang-undang yang mengawal sukuk. Oleh itu, dalam kes seperti ini, adalah penting untuk mendapatkan nasihat profesional yang kompeten untuk memahami hak dan liabiliti yang berkaitan dengan situasi tersebut.', 'output': None}\n",
      " 0 Berdasarkan kenyataan daripada Agensi Subjek dan Piawaian Perakaunan Kewangan Syariah (AAIOFI) 2008, dinyatakan bahawa tidak dibenarkan bagi pihak yang mengambil bahagian, mahramah, atau ejen pelaburan untuk berjanji membeli aset daripada pemegang sukuk atau pihak yang mewakili mereka dengan nilai nominal semasa tempoh sukuk. Walau bagaimanapun, mereka boleh berjanji untuk membeli dengan asas nilai bersih aset, nilai pasaran, nilai adil, atau dengan harga yang dipersetujui semasa pembelian.\n",
      "\n",
      "Kenyataan ini telah menjejaskan pasaran sukuk dan pelaku pasaran yang terlibat. Kenyataan ini memberi tumpuan kepada sukuk mudharabah dan sukuk musharakah, dan telah menjadi titik perhatian yang ketara dalam penggubalan dan penggunaan sukuk ini. Oleh itu, dalam pendedahan ringkas ini, kami akan cuba menggali lebih mendalam tentang cabaran dan peluang pada masa hadapan berkaitan dengan pembangunan sukuk.\n",
      "\n",
      "Adakah sukuk mudharabah dan sukuk musharakah boleh mencapai struktur pendapatan tetap? 991 {'prompt_input': None, 'input': '<manusia>:          \\n<bot>: Berdasarkan kenyataan daripada Agensi Subjek dan Piawaian Perakaunan Kewangan Syariah (AAIOFI) 2008, dinyatakan bahawa tidak dibenarkan bagi pihak yang mengambil bahagian, mahramah, atau ejen pelaburan untuk berjanji membeli aset daripada pemegang sukuk atau pihak yang mewakili mereka dengan nilai nominal semasa tempoh sukuk. Walau bagaimanapun, mereka boleh berjanji untuk membeli dengan asas nilai bersih aset, nilai pasaran, nilai adil, atau dengan harga yang dipersetujui semasa pembelian.\\n\\nKenyataan ini telah menjejaskan pasaran sukuk dan pelaku pasaran yang terlibat. Kenyataan ini memberi tumpuan kepada sukuk mudharabah dan sukuk musharakah, dan telah menjadi titik perhatian yang ketara dalam penggubalan dan penggunaan sukuk ini. Oleh itu, dalam pendedahan ringkas ini, kami akan cuba menggali lebih mendalam tentang cabaran dan peluang pada masa hadapan berkaitan dengan pembangunan sukuk.\\n\\nAdakah sukuk mudharabah dan sukuk musharakah boleh mencapai struktur pendapatan tetap?\\n<manusia>: Adakah benar bahawa sukuk mudharabah dan sukuk musharakah boleh menjadi pendapatan tetap? Bolehkah anda memberikan sedikit butiran?\\n<bot>: Sukuk mudharabah dan sukuk musharakah pada asasnya tidak boleh dianggap sebagai pendapatan tetap dalam erti kata yang sama dengan bon biasa. Ini disebabkan kerana sukuk adalah berdasarkan prinsip syariah yang mengawal kerjasama dan penyertaan dalam keuntungan dan kerugian.\\n\\nDalam sukuk mudharabah, terdapat kerjasama antara pemilik sukuk dan pihak mudharib (rakan usaha) dalam aktiviti perniagaan atau projek tertentu. Keuntungan yang dihasilkan kemudiannya dibahagikan mengikut perjanjian, tetapi tiada jaminan pendapatan tetap. Pemilik sukuk memainkan peranan sebagai pemodal dan menerima bahagian keuntungan mengikut perjanjian.\\n\\nSementara itu, sukuk musharakah adalah sukuk yang berdasarkan prinsip kerjasama antara pemilik sukuk dan pihak lain dalam sesuatu perniagaan atau projek. Keuntungan dan kerugian dibahagikan mengikut perjanjian, tetapi tiada jaminan pendapatan tetap.\\n\\nJadi, dalam sukuk mudharabah dan sukuk musharakah, pendapatan yang diperoleh berbeza-beza bergantung kepada prestasi projek atau perniagaan yang dibiayai oleh sukuk. Oleh itu, pendapatan sukuk ini tidak boleh dianggap sebagai pendapatan tetap seperti bon tradisional.\\n<manusia>: Adakah terdapat alternatif pelaburan yang boleh memberikan pendapatan tetap dengan risiko yang lebih terkawal?\\n<bot>: Ya, terdapat beberapa pelaburan alternatif yang boleh memberikan pendapatan tetap dengan risiko yang lebih terkawal. Berikut adalah beberapa contoh:\\n\\n1. Bon korporat: Bon korporat ialah instrumen hutang yang diterbitkan oleh syarikat. Pelabur membeli bon dan menerima pembayaran faedah secara berkala serta pulangan modal pada masa tarikh akhir. Risiko boleh diuruskan dengan melakukan penyelidikan terhadap nilai kredit syarikat yang menerbitkan bon.\\n\\n2. Deposit berjangka: Deposit berjangka ialah simpanan di bank dengan tempoh masa tertentu dan kadar faedah tetap. Pelabur akan menerima pendapatan tetap daripada faedah deposit. Risiko berkaitan dengan keselamatan bank boleh dikurangkan dengan memilih bank yang mempunyai reputasi yang baik.\\n\\n3. Reksa dana pendapatan tetap: Reksa dana pendapatan tetap melabur dana pelabur ke dalam pelbagai instrumen pendapatan tetap seperti bon dan surat hutang lain. Pendapatan yang dihasilkan akan dibahagikan kepada pemegang unit reksa dana secara berkala. Risiko boleh diuruskan melalui kepelbagaian portfolio oleh pengurus pelaburan.\\n\\n4. Dividen saham: Pelaburan dalam saham syarikat yang memberikan dividen secara tetap juga boleh memberikan pendapatan tetap. Pelabur akan menerima dividen daripada keuntungan syarikat yang dibahagikan kepada pemegang saham. Risiko berkaitan dengan turun naik harga saham boleh diuruskan dengan melakukan penyelidikan terhadap syarikat yang konsisten dalam memberikan dividen.\\n\\nPerlu diingat bahawa setiap pelaburan mempunyai risiko tertentu, dan penting untuk melakukan penyelidikan dan memahami risiko yang terlibat sebelum membuat keputusan pelaburan.\\n<manusia>: Ok, terima kasih atas maklumat. Saya ingin mengetahui lebih lanjut tentang dana simpanan pendapatan tetap. Adakah terdapat cadangan untuk dana simpanan pendapatan tetap yang baik?\\n<bot>: Sudah tentu, terdapat beberapa dana simpanan pendapatan tetap yang terkenal dan mempunyai prestasi yang baik. Walau bagaimanapun, penting untuk diingat bahawa prestasi masa lalu tidak menjamin hasil pada masa hadapan dan anda harus melakukan penyelidikan lanjut sebelum membuat keputusan pelaburan. Berikut adalah beberapa cadangan dana simpanan pendapatan tetap di Indonesia:\\n\\n1. Dana Simpanan Pendapatan Tetap: Dana simpanan ini diuruskan oleh PT Dana Simpanan Pelaburan Management dan mempunyai tumpuan kepada pelaburan instrumen pendapatan tetap seperti bon. Dana simpanan ini mempunyai kadar pulangan hasil yang stabil dan risiko terkawal.\\n\\n2. Manulife Bon Negara: Dana simpanan ini diuruskan oleh PT Manulife Aset Pengurusan Indonesia dan melabur dalam bon kerajaan Indonesia. Dana simpanan ini sesuai untuk mereka yang mencari pendapatan tetap dengan kadar risiko yang agak rendah.\\n\\n3. Dana Simpanan Ijarah Berimbang: Dana simpanan ini diuruskan oleh PT Schroder Investment Management Indonesia dan menggabungkan pelaburan dalam instrumen pendapatan tetap dan instrumen pasaran wang berdasarkan prinsip ijarah. Dana simpanan ini boleh memberikan potensi pendapatan yang stabil dengan risiko terkawal.\\n\\nPastikan anda memahami matlamat dan profil risiko anda sebelum memilih dana simpanan pendapatan tetap. Selain itu, perhatikan juga kos pengurusan dan prestasi sejarah dana simpanan. Cadangan terbaik adalah berunding dengan penasihat kewangan atau pakar yang boleh memberikan cadangan yang sesuai dengan keperluan dan keutamaan anda.', 'output': None}\n",
      " 0 Untuk menjadikan sukuk kurang berisiko dan menghasilkan pulangan yang lebih stabil, terdapat beberapa cara yang boleh digunakan. Satu-satunya cara adalah dengan menggantikan model sukuk yang berdasarkan penentuan harga berdasarkan nilai nominal dengan model sukuk yang mengehadkan potensi kerugian dan keuntungan.\n",
      "\n",
      "Selain itu, kepelbagaian portfolio sukuk juga boleh dilakukan supaya tidak bergantung kepada satu instrumen atau sektor sahaja. Ini bermakna memilih sukuk daripada pelbagai industri dan negara untuk mengurangkan risiko.\n",
      "\n",
      "Selain itu, kriteria penilaian sukuk juga boleh ditambah atau dibangunkan untuk mengambil kira kualiti penerbit sukuk dan potensi risiko yang terlibat. Ini boleh membantu pelabur dalam membuat keputusan yang lebih baik.\n",
      "\n",
      "Akhir sekali, mengekalkan dan mengukuhkan rangka undang-undang dan peraturan yang berkaitan dengan sukuk juga penting untuk memastikan ketelusan dan keadilan dalam pelaksanaannya. Ini akan meningkatkan keyakinan pelabur dan menyumbang kepada perkembangan pasaran sukuk yang lebih baik.\n",
      "\n",
      "Adakah terdapat maklumat atau butiran yang anda ingin saya tambahkan atau jelaskan lebih lanjut? 1140 {'prompt_input': None, 'input': '<manusia>:                                                                                                                                                                                                                                                                                                                                                                                                                                                                                                                                                                                                                                                                                                                                                                                                                                                                                                                                                                                                                                                                                                                                                                                                                                                                                                                                                                                                                      \\n<bot>: Untuk menjadikan sukuk kurang berisiko dan menghasilkan pulangan yang lebih stabil, terdapat beberapa cara yang boleh digunakan. Satu-satunya cara adalah dengan menggantikan model sukuk yang berdasarkan penentuan harga berdasarkan nilai nominal dengan model sukuk yang mengehadkan potensi kerugian dan keuntungan.\\n\\nSelain itu, kepelbagaian portfolio sukuk juga boleh dilakukan supaya tidak bergantung kepada satu instrumen atau sektor sahaja. Ini bermakna memilih sukuk daripada pelbagai industri dan negara untuk mengurangkan risiko.\\n\\nSelain itu, kriteria penilaian sukuk juga boleh ditambah atau dibangunkan untuk mengambil kira kualiti penerbit sukuk dan potensi risiko yang terlibat. Ini boleh membantu pelabur dalam membuat keputusan yang lebih baik.\\n\\nAkhir sekali, mengekalkan dan mengukuhkan rangka undang-undang dan peraturan yang berkaitan dengan sukuk juga penting untuk memastikan ketelusan dan keadilan dalam pelaksanaannya. Ini akan meningkatkan keyakinan pelabur dan menyumbang kepada perkembangan pasaran sukuk yang lebih baik.\\n\\nAdakah terdapat maklumat atau butiran yang anda ingin saya tambahkan atau jelaskan lebih lanjut?\\n<manusia>: Bagaimanakah kerajaan mempromosikan dan menggalakkan pertumbuhan pasaran sukuk di negara ini?\\n<bot>: Kerajaan boleh mengambil beberapa langkah untuk mempromosikan dan menggalakkan pertumbuhan pasaran sukuk di negara ini:\\n\\n1. Menyediakan insentif cukai: Kerajaan boleh menyediakan insentif cukai khas kepada penerbit sukuk dan pelabur. Ini termasuk pengecualian cukai keuntungan dan dividen daripada pelaburan sukuk, serta pengecualian cukai ke atas dividen yang diterima daripada penerbit sukuk.\\n\\n2. Membina infrastruktur pasaran: Kerajaan perlu memastikan wujudnya infrastruktur pasaran yang baik untuk memudahkan perdagangan dan penerbitan sukuk. Ini termasuk penetapan piawaian dan prosedur yang jelas, pembentukan badan pengawal pasaran yang berkemampuan, dan pelaksanaan platform perdagangan elektronik yang cekap.\\n\\n3. Meningkatkan kesedaran dan pendidikan: Kerajaan boleh menyokong kempen kesedaran dan pendidikan mengenai sukuk kepada masyarakat awam dan pelabur. Ini melibatkan program pendidikan, seminar, dan sumber maklumat yang mudah diakses mengenai sukuk dan kelebihannya.\\n\\n4. Memperkenalkan inovasi sukuk: Kerajaan boleh menggalakkan inovasi dalam instrumen sukuk dengan memperkenalkan sukuk berdasarkan aset yang berbeza, seperti sukuk hijau, sukuk infrastruktur, atau sukuk mikro. Ini akan membuka peluang pelaburan baharu dan meningkatkan minat pelabur.\\n\\n5. Menjalin kerjasama antarabangsa: Kerajaan boleh bekerjasama dengan pasaran sukuk antarabangsa dan institusi kewangan antarabangsa untuk mempromosikan pasaran sukuk negara ini. Ini termasuk kerjasama antara bank pusat dan institusi kewangan antarabangsa dalam membangunkan piawaian dan rangka perundangan yang seragam.\\n\\nAdakah terdapat langkah tambahan yang anda ingin saya tambah atau jelaskan lebih lanjut?\\n<manusia>: Bagus, terima kasih atas maklumat yang diberikan! Adakah terdapat pelan tindakan khas yang sedang dirancang oleh kerajaan untuk mempromosikan sukuk di negara ini?\\n<bot>: Ya, kerajaan sedang merancang pelbagai pelan tindakan khusus untuk mempromosikan sukuk di negara ini. Antara pelan yang sedang dirancang ialah:\\n\\n1. Pelaksanaan lebih banyak program pendidikan dan bengkel mengenai sukuk bagi meningkatkan kesedaran di kalangan masyarakat. Ini akan membantu pelabur dan penerbit sukuk memahami manfaat dan potensi pasaran sukuk.\\n\\n2. Peningkatan kerjasama dalam rangkaian antarabangsa. Kerajaan sedang berusaha untuk menjalin hubungan dan kerjasama dengan institusi kewangan global dan pasaran sukuk antarabangsa untuk mempromosikan sukuk dari negara ini di peringkat global.\\n\\n3. Memberi tumpuan kepada inisiatif hijau dan pembangunan mampan. Kerajaan sedang menggalakkan penerbitan sukuk hijau dan sukuk berdasarkan projek pembangunan mampan seperti infrastruktur hijau dan penyelenggaraan alam sekitar.\\n\\n4. Memperkemaskan undang-undang dan peraturan berkaitan sukuk. Kerajaan sedang mengkaji semula undang-undang dan peraturan berkaitan sukuk bagi memastikan ia memenuhi piawaian antarabangsa dan memudahkan pengeluaran dan perdagangan sukuk.\\n\\n5. Membina platform perdagangan sukuk yang canggih. Kerajaan sedang berusaha untuk meningkatkan infrastruktur pasaran sukuk dengan mewujudkan platform perdagangan elektronik yang cekap dan berinovasi untuk memudahkan perdagangan sukuk.\\n\\nIni adalah beberapa contoh pelan tindakan khusus yang sedang dirancang oleh kerajaan untuk mempromosikan sukuk di negara ini. Adakah terdapat perkara lain yang anda ingin saya tambahkan?\\n<manusia>: Terima kasih atas maklumat yang diberikan! Saya berharap pelan tindakan ini dapat memacu pertumbuhan pasaran sukuk dan menyediakan peluang pelaburan yang baik untuk negara ini. Adakah terdapat langkah lain yang perlu diambil untuk meningkatkan pemahaman dan minat dalam sukuk?\\n<bot>: Ya, terdapat beberapa langkah yang boleh diambil untuk meningkatkan pemahaman dan minat dalam sukuk:\\n\\n1. Penyediaan maklumat yang jelas dan mudah difahami tentang sukuk. Ini boleh termasuk penyediaan panduan sukuk yang ringkas dan infografik yang menerangkan konsep, jenis dan kelebihan sukuk. Maklumat ini boleh disebarkan melalui laman web kerajaan, brosur atau media sosial.\\n\\n2. Meningkatkan program pendidikan dan kesedaran sukuk di peringkat akademik. Kerjasama dengan institusi pendidikan untuk menjadikan sukuk sebagai sebahagian daripada kurikulum kewangan atau ekonomi boleh meningkatkan pengetahuan dan pemahaman tentang sukuk di kalangan generasi muda.\\n\\n3. Menganjurkan seminar dan bengkel sukuk secara berkala. Ini memberi peluang kepada pelabur, penerbit dan orang awam untuk mendapatkan pemahaman mendalam tentang sukuk melalui perbincangan dan perbincangan pakar.\\n\\n4. Meningkatkan paparan sukuk melalui pameran kewangan atau ekonomi di peringkat nasional dan antarabangsa. Ini memberi peluang kepada penerbit sukuk untuk mempromosikan projek mereka dan menarik minat pelabur.\\n\\n5. Membuat promosi sukuk melalui kerjasama dengan badan kewangan dan institusi kewangan. Ini boleh termasuk menyertai ekspo kewangan, mengadakan sesi ceramah atau webinar, dan bekerjasama dengan broker atau ejen kewangan untuk memperkenalkan sukuk kepada pelabur.\\n\\nDengan mengambil langkah-langkah ini, diharapkan pemahaman dan minat dalam sukuk dapat ditingkatkan di kalangan masyarakat dan pelabur.\\n<manusia>: Terima kasih atas penjelasan! Saya berharap lebih banyak aktiviti pendidikan dan promosi sukuk dapat diadakan untuk meningkatkan kesedaran dan minat dalam pelaburan ini.\\n<bot>: Sama-sama! Saya bersetuju, aktiviti pendidikan dan promosi sukuk yang lebih banyak akan membantu meningkatkan kesedaran dan minat dalam pelaburan ini. Ia penting untuk meluaskan pengetahuan orang ramai tentang sukuk dan memastikan mereka memahami potensi dan faedahnya. Dengan lebih banyak aktiviti pendidikan dan promosi yang diadakan, diharapkan akan ada peningkatan minat dan penyertaan dalam pasaran sukuk. Terima kasih atas soalan, jika ada lagi yang boleh saya bantu, sila beritahu saya.\\n<manusia>: Sangat bersetuju! Harap banyak acara tentang sukuk diadakan segera supaya ramai orang dapat memahami dan terlibat dalam pelaburan ini.\\n<bot>: Betul! Kehadiran lebih banyak acara dan pekeliling mengenai sukuk akan membantu mengembangkan pengetahuan masyarakat dan memperkenalkan mereka kepada peluang pelaburan sedia ada. Kami juga berharap lebih ramai pihak dapat mempromosikan sukuk dengan cara yang mudah difahami dan menarik perhatian masyarakat. Oleh itu, diharapkan akan ada pertumbuhan yang lebih besar dalam pasaran sukuk di negara ini. Terima kasih atas pandangan anda yang bernas! Adakah anda mempunyai soalan atau isu lain yang ingin dibincangkan?', 'output': None}\n",
      " 0 Ya, dalam era globalisasi dan kepelbagaian ekonomi, sistem kewangan Islam menawarkan potensi untuk mewujudkan kestabilan dan daya saing dalam pasaran sukuk. Walau bagaimanapun, cabarannya adalah meyakinkan pelabur, sama ada Muslim atau bukan Islam, tentang kekuatan dan keupayaan sistem kewangan Islam sebagai alternatif yang sejajar dengan sistem konvensional.\n",
      "\n",
      "Dalam hal ini, perlu ada pendekatan yang komprehensif untuk mempromosikan sukuk kepada pelabur. Ini melibatkan pendidikan dan kesedaran yang lebih besar tentang prinsip syariah dan faedah ekonomi sukuk. Selain itu, ia juga penting untuk mengekalkan kualiti dan kepercayaan pasaran dengan memastikan terdapat rangka peraturan yang betul dan prosedur yang telus dalam penerbitan dan perdagangan sukuk.\n",
      "\n",
      "Seiring dengan pertumbuhan pasaran sukuk global, peningkatan pilihan instrumen sukuk yang inovatif dan mempelbagaikan portfolio juga boleh menjadi faktor yang menyokong kejayaan sistem kewangan Islam. Oleh itu, usaha kerjasama daripada semua pihak berkepentingan diperlukan, termasuk kerajaan, institusi kewangan dan masyarakat untuk mempromosikan pembangunan pasaran sukuk yang mampan dan inklusif.\n",
      "\n",
      "Jadi, dengan komitmen dan kerjasama yang betul, sistem kewangan Islam mempunyai potensi untuk mencapai kestabilan dan daya saing dalam pasaran sukuk serta meyakinkan pelabur tentang kekuatannya sebagai alternatif yang boleh dipercayai dan mampan. 1411 {'prompt_input': None, 'input': '<manusia>:                                                                                                                                                                                                                                                                                                                                                                                                                                                                                                                                                                                                                                                                                                                                                                                                                                                                                                                                                                                                                                                                                                                                                                                                                                                                                                                                                                                                                      \\n<bot>: Ya, dalam era globalisasi dan kepelbagaian ekonomi, sistem kewangan Islam menawarkan potensi untuk mewujudkan kestabilan dan daya saing dalam pasaran sukuk. Walau bagaimanapun, cabarannya adalah meyakinkan pelabur, sama ada Muslim atau bukan Islam, tentang kekuatan dan keupayaan sistem kewangan Islam sebagai alternatif yang sejajar dengan sistem konvensional.\\n\\nDalam hal ini, perlu ada pendekatan yang komprehensif untuk mempromosikan sukuk kepada pelabur. Ini melibatkan pendidikan dan kesedaran yang lebih besar tentang prinsip syariah dan faedah ekonomi sukuk. Selain itu, ia juga penting untuk mengekalkan kualiti dan kepercayaan pasaran dengan memastikan terdapat rangka peraturan yang betul dan prosedur yang telus dalam penerbitan dan perdagangan sukuk.\\n\\nSeiring dengan pertumbuhan pasaran sukuk global, peningkatan pilihan instrumen sukuk yang inovatif dan mempelbagaikan portfolio juga boleh menjadi faktor yang menyokong kejayaan sistem kewangan Islam. Oleh itu, usaha kerjasama daripada semua pihak berkepentingan diperlukan, termasuk kerajaan, institusi kewangan dan masyarakat untuk mempromosikan pembangunan pasaran sukuk yang mampan dan inklusif.\\n\\nJadi, dengan komitmen dan kerjasama yang betul, sistem kewangan Islam mempunyai potensi untuk mencapai kestabilan dan daya saing dalam pasaran sukuk serta meyakinkan pelabur tentang kekuatannya sebagai alternatif yang boleh dipercayai dan mampan.\\n<manusia>: Bagaimana cara yang lebih efektif untuk menarik minat investor di pasar sukuk?\\n<bot>: Untuk menarik minat pelabur dalam pasaran sukuk, terdapat beberapa langkah yang boleh diambil:\\n\\n1. Pendidikan dan Kesedaran: Melakukan kempen pendidikan dan kesedaran yang luas mengenai prinsip syariah, faedah ekonomi dan potensi pertumbuhan pasaran sukuk. Ini boleh dilakukan melalui seminar, persidangan dan penerbitan yang menggambarkan kelebihan dan prospek sukuk.\\n\\n2. Ketelusan dan Piawaian: Memastikan ketelusan yang tinggi dalam penerbitan dan perdagangan sukuk. Menyediakan maklumat yang jelas dan terperinci mengenai struktur sukuk, penggunaan dana dan prospek pelaburan kepada pelabur. Selain itu, mengikuti piawaian antarabangsa seperti piawaian perakaunan syariah dan peraturan yang jelas akan memberi kepercayaan kepada pelabur.\\n\\n3. Pempelbagaian Produk: Membangunkan pelbagai produk sukuk inovatif yang memenuhi keperluan dan keutamaan pelabur. Sebagai contoh, sukuk berasaskan infrastruktur, hijau atau sosial yang boleh menarik minat pelabur yang mempunyai tumpuan pada tanggungjawab sosial dan alam sekitar.\\n\\n4. Kerjasama Industri: Menggalakkan kerjasama antara pihak berkepentingan, termasuk institusi kewangan, kerajaan dan agensi pengawal selia, untuk mengukuhkan pasaran sukuk. Kerjasama dari segi pembangunan produk, dasar kawal selia yang komprehensif dan infrastruktur pasaran yang kukuh akan membantu meningkatkan daya tarikan pasaran sukuk.\\n\\n5. Inovasi Teknologi Kewangan (Fintech): Menggunakan teknologi kewangan untuk memudahkan akses dan perdagangan sukuk. Platform digital, aplikasi dan penyelesaian fintech boleh meningkatkan kecairan pasaran sukuk dan menghubungkan pelabur dengan pengeluar sukuk.\\n\\nDengan mengambil langkah-langkah ini, ia diharapkan dapat meningkatkan minat pelabur dan membangunkan pasaran sukuk yang kukuh dan mampan.\\n<manusia>: Bagaimana upaya yang bisa kita lakukan untuk menjangkau investor milenial di pasar sukuk?\\n<bot>: Untuk menjangkau pelabur milenium dalam pasaran sukuk, terdapat beberapa usaha yang boleh dilakukan:\\n\\n1. Edukasi yang relevan: Memberi pendidikan yang relevan dan mudah difahami tentang prinsip syariah dan faedah ekonomi sukuk kepada generasi milenial. Menggunakan pendekatan yang menarik seperti kandungan digital, infografik, atau webinar supaya mereka dapat memahami konsep sukuk dengan lebih baik.\\n\\n2. Penggunaan Teknologi: Memanfaatkan teknologi digital dan platform dalam talian untuk menyampaikan maklumat dan memudahkan akses kepada pelabur milenium. Sebagai contoh, melalui aplikasi mudah alih atau platform perdagangan dalam talian yang mesra pengguna supaya mereka boleh melakukan transaksi sukuk dengan mudah.\\n\\n3. Pilihan Berpelbagai: Membangunkan produk sukuk yang sesuai dengan keperluan dan keutamaan pelabur milenium. Ini boleh merangkumi sukuk berasaskan teknologi, sukuk mampan (green sukuk), atau sukuk sosial yang berkaitan dengan masalah sosial yang mereka ambil berat.\\n\\n4. Promosi Melalui Media Sosial: Menggunakan media sosial popular seperti Instagram, Twitter dan Youtube untuk memperkenalkan dan mempromosikan sukuk kepada generasi milenial. Boleh menggunakan kandungan yang menarik seperti video pendek, cerita inspirasi, atau meme yang merangsang minat mereka.\\n\\n5. Kerjasama dengan Fintech: Bekerjasama dengan syarikat fintech yang mempunyai asas pengguna milenium untuk meluaskan jangkauan pasaran sukuk. Dengan memanfaatkan potensi teknologi dan data analitik, penyelesaian perdagangan sukuk yang inovatif dan menarik boleh disediakan untuk pelabur milenium.\\n\\nDengan menggunakan pendekatan yang sesuai dengan ciri dan keutamaan pelabur milenium, ia diharapkan dapat meningkatkan minat dan penyertaan mereka dalam pasaran sukuk.\\n<manusia>: Bagaimana saya boleh memulakan pelaburan dalam pasaran sukuk?\\n<bot>: Untuk memulakan pelaburan dalam pasaran sukuk, berikut adalah langkah-langkah yang boleh anda ikuti:\\n\\n1. Pendidikan dan Penyelidikan: Mulakan dengan memperoleh pemahaman yang baik tentang sukuk dan prinsip syariah yang mendasarinya. Ketahui tentang jenis sukuk, struktur perdagangan dan faedah pelaburan sukuk. Anda boleh menghadiri seminar, membaca literatur, atau berunding dengan pakar kewangan Islam.\\n\\n2. Tentukan Matlamat dan Profil Risiko: Tentukan matlamat pelaburan anda, sama ada untuk pertumbuhan jangka panjang atau pendapatan tetap. Nilai toleransi risiko anda, sama ada anda cenderung memilih sukuk yang lebih konservatif atau lebih berisiko.\\n\\n3. Cari Pialang atau Institusi Kewangan: Cari pialang atau institusi kewangan yang menyediakan akses untuk melabur dalam sukuk. Pastikan mereka mempunyai reputasi yang baik dan mempunyai pengalaman dalam perdagangan sukuk. Anda juga boleh mencari maklumat tentang penerbit sukuk yang menarik minat anda.\\n\\n4. Buka Akaun Pelaburan: Buka akaun pelaburan dengan pialang atau institusi kewangan yang anda pilih. Mohon penjelasan mengenai keperluan, prosedur pembukaan akaun dan keperluan pengenalan.\\n\\n5. Penilaian Pilihan Pelaburan: Semak pilihan sukuk yang tersedia dan analisis kualiti dan potensi keuntungan mereka. Perhatikan juga kelayakan penerbit, penilaian sukuk dan syarat pelaburan. Lakukan analisis risiko dan potensi pulangan sebelum membuat keputusan pelaburan.\\n\\n6. Mulakan Pelaburan: Selepas memilih sukuk yang sesuai dengan matlamat dan profil risiko anda, buat keputusan untuk melabur. Ikuti prosedur yang ditetapkan oleh institusi kewangan dan urus niaga pelaburan anda.\\n\\n7. Pantau dan Pelbagai: Pantau prestasi sukuk anda secara teratur. Selain itu, pertimbangkan untuk melakukan kepelbagaian portfolio dengan melabur dana anda dalam pelbagai jenis sukuk. Pelbagai membantu mengurangkan risiko pelaburan.\\n\\nSila ingat bahawa pelaburan melibatkan risiko, jadi penting untuk melakukan penyelidikan yang teliti dan berunding dengan pakar kewangan sebelum membuat sebarang keputusan pelaburan.\\n<manusia>: Ada cadangan sukuk yang boleh saya pertimbangkan?\\n<bot>: Sudah tentu! Berikut adalah beberapa jenis sukuk yang boleh anda pertimbangkan:\\n\\n1. Sukuk Murabahah: Sukuk berdasarkan kontrak jual beli dengan margin keuntungan yang dipersetujui sebelum ini antara penerbit sukuk dan pelabur.\\n\\n2. Sukuk Musharakah: Sukuk berdasarkan prinsip kerjasama antara penerbit sukuk dan pelabur untuk membahagikan keuntungan dan kerugian mengikut perkadaran pemilikan.\\n\\n3. Sukuk Ijarah: Sukuk berdasarkan kontrak sewa atau penggunaan aset dengan pembayaran sewa yang dipersetujui antara penerbit sukuk dan pelabur.\\n\\n4. Sukuk Wakalah: Sukuk berdasarkan kontrak wakalah, di mana penerbit sukuk bertindak sebagai wakil untuk menguruskan dana pelaburan untuk pelabur.\\n\\n5. Sukuk Istisna: Sukuk yang berkaitan dengan kontrak pembelian barang atau aset yang akan dibina atau dihasilkan pada masa hadapan mengikut spesifikasi yang telah ditetapkan.\\n\\n6. Sukuk Mudarabah: Sukuk berdasarkan prinsip kerjasama antara penerbit sukuk sebagai pengurus dana dan pelabur sebagai penyedia dana, dengan pembahagian keuntungan mengikut perjanjian.\\n\\nPilihan sukuk bergantung kepada tujuan pelaburan anda, profil risiko dan keutamaan peribadi. Nasihat saya ialah berunding dengan pakar kewangan Islam atau broker untuk mengetahui lebih lanjut tentang sukuk yang sesuai dengan keperluan anda.\\n<manusia>: Wah, terima kasih atas cadangan! Saya akan mencari lebih banyak maklumat tentang sukuk-sukuk ini. Ada cadangan lain yang boleh anda berikan?\\n<bot>: Sudah tentu! Berikut adalah beberapa cadangan tambahan yang boleh saya berikan:\\n\\n1. Pempelbagaian Portfolio: Adalah penting untuk mengekalkan kepelbagaian dalam portfolio pelaburan anda. Selain sukuk, pertimbangkan juga untuk mempelbagaikan ke dalam instrumen pelaburan lain seperti saham, hartanah atau produk kewangan lain. Pempelbagaian boleh membantu mengurangkan risiko dan meningkatkan potensi keuntungan jangka panjang.\\n\\n2. Terus Tingkatkan Pemahaman: Pelaburan sukuk adalah topik yang kompleks. Teruskan untuk meningkatkan pemahaman anda tentang prinsip syariah, instrumen kewangan Islam dan mekanisme pasaran sukuk. Semakin anda memahami, semakin bersedia anda membuat keputusan pelaburan yang bijak.\\n\\n3. Ikuti Berita dan Perkembangan Pasaran: Teruskan mengikuti berita terkini dan perkembangan di pasaran sukuk. Peristiwa politik, ekonomi dan perubahan peraturan boleh menjejaskan prestasi sukuk. Dengan memantau berita terkini, anda boleh membuat keputusan pelaburan yang lebih maklumat dan diarahkan.\\n\\n4. Penyelidikan Potensi Penerbit dan Sektor: Lakukan penyelidikan mendalam tentang penerbit sukuk dan sektor industri yang berkaitan. Perhatikan reputasi penerbit, pertumbuhan industri dan keadaan pasaran semasa. Ini akan membantu anda memilih sukuk dengan potensi pertumbuhan yang baik.\\n\\n5. Perundingan dengan Pakar Kewangan Syariah: Jika anda berasa perlu, jangan teragak-agak untuk berunding dengan pakar kewangan Islam atau penasihat pelaburan syariah. Mereka boleh membantu anda memahami aspek teknikal pelaburan sukuk dan memberikan nasihat yang sesuai dengan matlamat kewangan anda.\\n\\nSentiasa diingat, pelaburan yang melibatkan risiko dan keputusan pelaburan mestilah berdasarkan penilaian risiko peribadi dan matlamat kewangan jangka panjang. Dengan melakukan penyelidikan dan mendapatkan maklumat yang mencukupi, anda boleh membuat keputusan pelaburan yang bijak. Selamat menerokai pasaran sukuk!', 'output': None}\n",
      " 0 Zikir dan doa adalah ibadah yang penting dalam kehidupan seorang Muslim. Mereka mempunyai banyak manfaat dan kepentingan. Pertama, zikir dan doa membantu kita berkomunikasi dengan Allah dan meningkatkan hubungan kita dengan-Nya. Dengan berzikir dan berdoa, kita mengakui kebesaran Allah dan merendahkan diri kita di hadapan-Nya.\n",
      "\n",
      "Selain itu, zikir dan doa juga mempunyai kesan positif terhadap hati dan jiwa kita. Mereka membantu menenangkan fikiran, menghilangkan tekanan, dan meningkatkan iman. Apabila kita berzikir dan berdoa, kita merasa lebih dekat dengan Allah dan merasakan kedamaian dalam hati.\n",
      "\n",
      "Selain itu, zikir dan doa juga boleh menjadi sumber kekuatan dan motivasi dalam menghadapi pelbagai cabaran hidup. Dengan mengingati Allah dan memohon pertolongan-Nya, kita merasa lebih yakin, yakin, dan berserah diri kepada-Nya.\n",
      "\n",
      "Oleh itu, penting bagi setiap Muslim untuk mengamalkan zikir dan doa dalam kehidupan seharian. Kita boleh melakukannya setiap saat, pada setiap kesempatan, dan dalam setiap aktiviti kita. Dengan itu, kita boleh meningkatkan kesedaran kita terhadap kehadiran Allah dalam setiap aspek kehidupan kita, serta mendapat keberkahan dan rahmat-Nya. 1176 {'prompt_input': None, 'input': '<manusia>:        \\n<bot>: Zikir dan doa adalah ibadah yang penting dalam kehidupan seorang Muslim. Mereka mempunyai banyak manfaat dan kepentingan. Pertama, zikir dan doa membantu kita berkomunikasi dengan Allah dan meningkatkan hubungan kita dengan-Nya. Dengan berzikir dan berdoa, kita mengakui kebesaran Allah dan merendahkan diri kita di hadapan-Nya.\\n\\nSelain itu, zikir dan doa juga mempunyai kesan positif terhadap hati dan jiwa kita. Mereka membantu menenangkan fikiran, menghilangkan tekanan, dan meningkatkan iman. Apabila kita berzikir dan berdoa, kita merasa lebih dekat dengan Allah dan merasakan kedamaian dalam hati.\\n\\nSelain itu, zikir dan doa juga boleh menjadi sumber kekuatan dan motivasi dalam menghadapi pelbagai cabaran hidup. Dengan mengingati Allah dan memohon pertolongan-Nya, kita merasa lebih yakin, yakin, dan berserah diri kepada-Nya.\\n\\nOleh itu, penting bagi setiap Muslim untuk mengamalkan zikir dan doa dalam kehidupan seharian. Kita boleh melakukannya setiap saat, pada setiap kesempatan, dan dalam setiap aktiviti kita. Dengan itu, kita boleh meningkatkan kesedaran kita terhadap kehadiran Allah dalam setiap aspek kehidupan kita, serta mendapat keberkahan dan rahmat-Nya.\\n<manusia>: Betul tu, zikir dan doa memang penting dalam hidup kita. Lagipun, dengan mengingati Allah dan berdoa, rasa tenang dan penuh harapan dalam hati pun muncul. Ada tak zikir atau doa tertentu yang boleh aku amalkan setiap hari untuk mendekatkan diri kepada Allah?\\n<bot>: Tentu! Terdapat banyak zikir dan doa yang boleh diamalkan setiap hari untuk mendekatkan diri kepada Allah. Berikut adalah beberapa contoh:\\n\\n1. Zikir Tahmid: \"Alhamdulillah\" (Segala puji bagi Allah)\\n2. Zikir Tahlil: \"La ilaha illallah\" (Tiada Tuhan selain Allah)\\n3. Zikir Istighfar: \"Astaghfirullah\" (Aku memohon ampun kepada Allah)\\n4. Zikir Tasbih: \"Subhanallah\" (Maha Suci Allah)\\n5. Zikir Takbir: \"Allahu Akbar\" (Allah Maha Besar)\\n6. Doa Nabi Zakaria: \"Rabbana hablana min azwajina wa zurriyyatina qurrata a\\'yunin\" (Ya Tuhan kami, anugerahkanlah kepada kami pasangan dan keturunan yang menjadi penyejuk hati)\\n\\nSelain itu, anda juga boleh berdoa dengan menggunakan kata-kata dan bahasa sendiri. Bercakaplah kepada Allah dengan jujur dan ikhlas, bercerita tentang perasaan, kebimbangan, dan harapanmu. Ingatlah bahawa doa adalah cara untuk berkomunikasi dengan Allah, jadi jangan takut untuk bercakap dari hati.\\n\\nAmalkan zikir dan doa ini secara konsisten dalam kehidupan sehari-hari. Pilihlah yang anda rasa sesuai dan mudah untuk diamalkan. Dengan melakukan zikir dan doa dengan penuh kesedaran dan khusyuk, anda akan merasakan kehadiran Allah yang lebih dekat dan ketenangan dalam hati.\\n<manusia>: Alhamdulillah, terima kasih banyak atas jawapannya. Saya akan cuba amalkan zikir dan doa-doa tersebut setiap hari. Doakan saya agar semakin dekat dengan Allah dan diberikan ketenangan dalam hidup.\\n<bot>: Sama-sama, semoga Allah sentiasa mendekatkan kamu kepada-Nya dan memberikan ketenangan dalam hidupmu. Tetap konsisten dalam amalan zikir dan doa, dengan keyakinan bahawa Allah akan mendengar dan mengabulkan doamu. Allah Maha Pengasih dan Penyayang, dan Dia sentiasa mendengar doa hamba-Nya yang ikhlas. Teruskan usaha dan berdoa dengan penuh keikhlasan. Semoga kehidupanmu dipenuhi dengan kedamaian dan kebahagiaan. Ucapkanlah zikir dan doa dengan hati yang ikhlas dan yakin, dan semoga doamu dikabulkan oleh-Nya. Amin.\\n<manusia>: Ya, saya akan benar-benar cuba menjadikan zikir dan doa sebagai amalan harian saya. Semoga Allah mendengar doa-doa saya dan memberikan ketenangan dalam hidup ini. Amin.\\n<bot>: Betul sekali! Jadikanlah zikir dan doa sebagai amalan harian yang tetap. Allah Maha Mendengar dan Maha Mengabulkan doa hamba-Nya yang ikhlas. Dalam setiap doa yang kamu panjatkan, berikanlah keikhlasan dan keyakinan penuh kepada Allah. Percayalah bahawa Dia akan memberikan ketenangan dalam hidupmu. Teruskanlah usahamu, dan Allah tidak akan menyia-nyiakan doa hamba-Nya yang berusaha dengan ikhlas. Semoga segala doa-doa kamu dikabulkan olehNya. Amin.\\n<manusia>: InshaAllah, saya akan terus berusaha dan berdoa dalam setiap langkah hidup saya. Semoga Allah memberikan petunjuk dan keberkahan dalam segala hal yang saya lakukan. Amin.\\n<bot>: InshaAllah, berusahalah sebaik mungkin dan percayalah bahawa Allah akan memberikan petunjuk dan keberkahan dalam segala perkara yang kamu lakukan. Teruslah berdoa dengan ikhlas dan berharaplah padaNya. Allah Maha Pengasih dan Maha Mengetahui segala usaha yang kamu lakukan. Semoga kamu diberikan keberkahan dan keberhasilan dalam hidupmu. Amin.', 'output': None}\n"
     ]
    },
    {
     "name": "stderr",
     "output_type": "stream",
     "text": [
      "3971020it [00:40, 97315.93it/s]\n"
     ]
    }
   ],
   "source": [
    "from tqdm import tqdm\n",
    "\n",
    "data = []\n",
    "with open('combine-malay-no-alignment-multitasks-v6.jsonl') as fopen:\n",
    "    for l in tqdm(fopen):\n",
    "        l = json.loads(l)\n",
    "        if 'function_call' in l and not isinstance(l['function_call'], str):\n",
    "            print(l['function_call'])\n",
    "        if generate_and_tokenize_prompt(l, min_length_input = 1, min_length_output = 1) is not None:\n",
    "            data.append(l)"
   ]
  },
  {
   "cell_type": "code",
   "execution_count": 42,
   "id": "a88b3233",
   "metadata": {},
   "outputs": [
    {
     "data": {
      "text/plain": [
       "3970998"
      ]
     },
     "execution_count": 42,
     "metadata": {},
     "output_type": "execute_result"
    }
   ],
   "source": [
    "len(data)"
   ]
  },
  {
   "cell_type": "code",
   "execution_count": 43,
   "id": "976f7697",
   "metadata": {},
   "outputs": [],
   "source": [
    "with open('combine-malay-no-alignment-multitasks-v6.jsonl', 'w') as fopen:\n",
    "    for d in data:\n",
    "        fopen.write(f'{json.dumps(d)}\\n')"
   ]
  },
  {
   "cell_type": "code",
   "execution_count": 44,
   "id": "a75d5229",
   "metadata": {},
   "outputs": [
    {
     "name": "stderr",
     "output_type": "stream",
     "text": [
      "3970998it [00:37, 107193.65it/s]\n"
     ]
    }
   ],
   "source": [
    "with open('combine-malay-no-alignment-multitasks-v6.jsonl') as fopen:\n",
    "    for l in tqdm(fopen):\n",
    "        l = json.loads(l)\n",
    "        if 'function_call' in l and not isinstance(l['function_call'], str):\n",
    "            print(l['function_call'])\n",
    "        if generate_and_tokenize_prompt(l, min_length_input = 1, min_length_output = 1) is None:\n",
    "            break"
   ]
  },
  {
   "cell_type": "code",
   "execution_count": 45,
   "id": "38c7847f",
   "metadata": {},
   "outputs": [
    {
     "name": "stderr",
     "output_type": "stream",
     "text": [
      "3970998it [00:24, 163019.08it/s]\n"
     ]
    }
   ],
   "source": [
    "with open('combine-malay-no-alignment-multitasks-v6.jsonl') as fopen:\n",
    "    for l in tqdm(fopen):\n",
    "        l = json.loads(l)\n",
    "        if 'function_call' in l:\n",
    "            break"
   ]
  },
  {
   "cell_type": "code",
   "execution_count": 46,
   "id": "ed4616f2",
   "metadata": {
    "scrolled": false
   },
   "outputs": [
    {
     "name": "stdout",
     "output_type": "stream",
     "text": [
      "{\"prompt_input\": null, \"input\": \"Berikan saya contoh surat berhenti kerja dengan notis sebulan. \", \"output\": \"(Nama pekerja) \\n(Alamat tempat tinggal pekerja) \\n\\n--------------------------------------------------------------------------------\\n\\nTarikh: (\\u2013/\\u2013/\\u2014-) \\n\\n(Nama Syarikat)\\n(Alamat Syarikat) \\n\\nPER: NOTIS BERHENTI KERJA SEBULAN DI (Nama Syarikat) \\n\\nPerkara di atas adalah dirujuk. \\n\\n2. Saya (Nama pekerja), bekerja di (Nama syarikat) memegang jawatan (Nama jawatan) ingin memberitahu pihak tuan bahawa saya akan berhenti kerja mulai tarikh (Tarikh berhenti kerja) dengan otis selama sebulan. \\n\\n3. Hal ini adalah kerana saya telah ditawarkan untuk bekerja sebagai (jawatan baharu) di (Nama syarikat) bermula pada (tarikh kerja baharu). \\n\\n4. Sehubungan itu, saya memohon agar pihak tuan dapat mempertimbangkan permohonan perletakan jawatan saya. Sebelum mengundurkan diri, ribuan terima kasih diucapkan kepada pihak tuan di atas peluang yang diberikan kepada saya sepanjang perkhidmatan saya di (nama syarikat) \\n\\nSegala kerjasama dan jasa baik pihak tuan amatlah dihargai . Sekian, terima kasih. \\n\\nYang Benar, \\n______________\\n (No. K/P penulis)\"}\n",
      "\n",
      "{\"prompt_input\": null, \"input\": \"Berikan saya satu contoh surat berhenti kerja dengan notis serta-merta. \", \"output\": \"[Alamat penulis]\\n\\n---------------------------------------------------------\\n\\n[Nama syarikat]\\n[[Alamat syarikat]\\n\\n\\n[Tarikh]\\n\\nTuan/Puan, \\n\\nNOTIS PERLETAKAN JAWATAN SERTA MERTA \\n\\nMerujuk perkara di atas, adalah saya [Nama penulis] ingin memaklumkan kepada pihak tuan/puan bahawa saya ingin meletakkan jawatan saya daripada syarikat tuan berkuat kuasa serta merta pada hari ini [Tarikh]. \\n\\n2. Sebagai makluman pihak tuan/puan, saya membuat keputusan tersebut berikutan keadaan kesihatan ibu saya yang tidak mengizinkan untuk saya bekerja kerana perlu mengawasi serta menjaga ibu saya yang berada dalam kondisi yang tidak baik kerana diserang penyakit angin ahmar. \\n\\n3. Saya ingin mengambil kesempatan ini untuk mengucapkan ribuan terima kasih kepada pihak pengurusan [Nama syarikat] serta seluruh raka sekerja kerana telah banyak memberi peluang untuk meneruskan karier pekerjaan saya di sini. Disamping itu, saya amat gembira selama saya berkhidmat di sini. \\n\\n4. Segala kerjasama dan jasa baik dari pihak tuan amatlah saya hargai dan didahulukan dengan ucapan terima kasih. Sekian. \\n\\nYang Benar, \\n______________\\n\"}\n",
      "\n",
      "{\"prompt_input\": null, \"input\": \"Berikan saya contoh surat berhenti kerja dengan notis 24 jam atas sebab menerima tawaran untuk melanjutkan pelajaran di luar negara. \", \"output\": \"[Nama penulis]\\n[Alamat penulis]\\n\\n-------------------------------------------------------------------------\\n\\n[Nama syarikat]\\n[Alamat syarikat]\\n\\n\\n[Tarikh]\\n\\nTuan, \\n\\nNOTIS BERHENTI KERJA 24 JAM DI [Nama syarikat]\\n\\nBerhubung perkara di atas, adalah saya [Nama penulis] yang bertugas sebagai [Nama jawatan] di [Nama syarikat] ingin memaklumkan kepada pihak tuan tentang perletakan jawatan saya bermula pada hari esok, [Tarikh]. \\n\\n2. Hal ini disebabkan saya baru sahaja menerima tawaran untuk melanjutkan pengajian di [Nama universiti] yang akan bermula pada [Tarikh]. Tempoh masa sebulan saya perlukan bagi mengurus hal ehwal diri sebelum bergerak ke sana. \\n\\n3. Justeru itu, saya ingin mengambil kesempatan ini untuk mengucapkan ribuan terima kasih kepada pihak pengurusan dan semua kakitangan di [Nama syarikat] kerana banyak memberikan tunjuk ajar dan kepercayaan serta memberikan saya peluang untuk berkhidmat dalam melaksanakan tugas dalam di syarikat ini. \\n\\n4. Segala kerjasama dan jasa baik dari pihak tuan amatlah saya hargai dan didahulukan dengan ucapan terima kasih. Sekian. \\n\\nYang Benar, \\n\\n______________ \\n(Nama penulis)\"}\n",
      "\n",
      "{\"prompt_input\": null, \"input\": \"tukar ke JSON berdasarkan schema {\\n    \\\"name\\\": \\\"QAS\\\",\\n    \\\"description\\\": \\\"Correctly extracted `QAS` with all the required parameters with correct types\\\",\\n    \\\"parameters\\\": {\\n        \\\"$defs\\\": {\\n            \\\"AnswerEnum\\\": {\\n                \\\"enum\\\": [\\n                    \\\"A\\\",\\n                    \\\"B\\\",\\n                    \\\"C\\\",\\n                    \\\"D\\\"\\n                ],\\n                \\\"type\\\": \\\"string\\\"\\n            },\\n            \\\"Selective_QA\\\": {\\n                \\\"properties\\\": {\\n                    \\\"question\\\": {\\n                        \\\"type\\\": \\\"string\\\"\\n                    },\\n                    \\\"A\\\": {\\n                        \\\"type\\\": \\\"string\\\"\\n                    },\\n                    \\\"B\\\": {\\n                        \\\"type\\\": \\\"string\\\"\\n                    },\\n                    \\\"C\\\": {\\n                        \\\"type\\\": \\\"string\\\"\\n                    },\\n                    \\\"D\\\": {\\n                        \\\"type\\\": \\\"string\\\"\\n                    },\\n                    \\\"answer\\\": {\\n                        \\\"$ref\\\": \\\"#/$defs/AnswerEnum\\\"\\n                    }\\n                },\\n                \\\"required\\\": [\\n                    \\\"question\\\",\\n                    \\\"A\\\",\\n                    \\\"B\\\",\\n                    \\\"C\\\",\\n                    \\\"D\\\",\\n                    \\\"answer\\\"\\n                ],\\n                \\\"type\\\": \\\"object\\\"\\n            }\\n        },\\n        \\\"properties\\\": {\\n            \\\"qa\\\": {\\n                \\\"items\\\": {\\n                    \\\"$ref\\\": \\\"#/$defs/Selective_QA\\\"\\n                },\\n                \\\"type\\\": \\\"array\\\"\\n            }\\n        },\\n        \\\"required\\\": [\\n            \\\"qa\\\"\\n        ],\\n        \\\"type\\\": \\\"object\\\"\\n    }\\n}, teks `Sistem angka perduaan, sistem binari atau sistem angka asas dua (Inggeris: Binary numeral system), mewakili nilai angka menggunakan dua abjad, 0 dan 1. Lebih khusus lagi, sistem asas-2 biasa merupakan tatatanda kedudukan dengan radiks 2. Disebabkan perlaksanaan langsung dalam litar elektronik digital yang menggunakan get logik, sistem angka ini digunakan dalam semua komputer moden. Sebuah nombor binari boleh diwakili mana-mana turutan bit (angka binari), di mana turutan sebegini pula diwakili sebarang mekanisme berkeupayaan berada dalam dua keadaan yang eksklusif sesama sendiri. Turutan simbol yang berikut boleh ditafsirkan bernilai angka binari sebanyak 667: Nilai angka yang diwakili dalam setiap keadaan bergantung kepada nilai yang diberikan setiap simbol. Angka nilai ini boleh diwakili oleh dua voltan berbeza dalam komputer; kekutuban magnet barangkali akan digunakan dalam cakera magnet, misalnya. A \\\"positive\\\", \\\"yes\\\", or \\\"on\\\" state is not necessarily equivalent to the numerical value of one; it depends on the architecture in use. In keeping with customary representation of numerals using Arabic numerals, binary numbers are commonly written using the symbols 0 dan 1. When written, binary numerals are often subscripted, prefixed or suffixed in order to indicate their base, or radix. The following notations are equivalent: Angka perduaan biasanya disebut digit demi digit, in order to distinguish them from decimal numbers. Contohnya, the binary numeral 100 dilafazkan \\\"satu kosong kosong\\\", bukannya \\\"seratus\\\", to make its binary nature explicit, dan untuk tujuan kebetulan. Since the binary numeral 100 is equal to the decimal value four, it would be confusing to refer to the numeral as \\\"one hundred\\\". Counting in binary is similar to counting in any other nombor system. Beginning with a single digit, counting proceeds through each symbol, in increasing order. Decimal counting uses the abjad 0 hingga 9, manakala angka perduaan hanya menggunakan abjad 0 dan 1. When the symbols for the first digit are exhausted, the next-higher digit (to the left) is incremented, dan counting starts Sesudah sampai digit 9, satu penaikan mengsetkan semulanya ke 0 tetapi juga menyebabkan penaikan digit ke kiri. Dalam sistem asas dua, mengira adalah sama tetapi dua abjad iaitu 0 dan 1 digunakan. Jadi sesetelah suatu digit sampai nombor 1, penaikan mengsetkan semulanya ke 0 tetapi menyebabkan penaikan digit kirinya: Since binary is a base-2 system, each digit represents an increasing power of 2, with the rightmost digit representing 20, the next representing 21, then 22, dan so on. To determine the decimal representation of a binary nombor simply take the sum of the products of the binary digits dan the powers of 2 which they represent. Contohnya, nombor binari: [(1) \\u00d7 25] + [(0) \\u00d7 24] + [(0) \\u00d7 23] + [(1) \\u00d7 22] + [(0) \\u00d7 21] + [(1) \\u00d7 20] = [1 \\u00d7 32] + [0 \\u00d7 16] + [0 \\u00d7 8] + [1 \\u00d7 4] + [0 \\u00d7 2] + [1 \\u00d7 1] = 37 To create higher numbers, additional digits are simply added to the left side of the binary representation. Fractions in binary only terminate if the denominator has 2 as the only prime factor. As a hasil, formula_1 does not have a finite binary representation, dan this causes 10(0.1) to be not precisely equal to 1 in floating point arithmetic. As an example, to interpret the binary expression for 1/3 = .010101..., this means: 1/3 = 0 \\u00d7 2\\u22121 + 1 \\u00d7 2\\u22122 + 0 \\u00d7 2\\u22123 + 1 \\u00d7 2\\u22124 + ... = 0.3125 + ... An exact value cannot be found with a sum of a finite nombor of inverse powers of two, dan zeros dan ones alternate forever. Pengiraan dalam angka perduaan tidaklah berbeza sangat dengan pengiraan dalam sistem nombor lain. Operasi tambah, tolak, darab dan bahagi dapat dilakukan dengan angka perduaan. Operasi pengiraan paling mudah dalam sistem angka perduaan adalah penambahan. Dengan penambahan dua tunggal-digit binary numbers is relatively simple, using a form of carrying: Penambahan dua angka \\\"1\\\" menghasilkan angka \\\"0\\\", manakala 1 ditambah pada lajur seterusnya. This is similar to what happens in decimal when certain single-digit numbers are added together; if the hasil equals or exceeds the value of the radix (10), the digit to the left is incremented: Ini dikenali sebagai \\\"carrying\\\".Bila hasil of an addition exceeds the value of a digit, the procedure is to \\\"carry\\\" the excess amount divided by the radix (that is, 10/10) to the left, adding it to the next positional value. This is correct since the next position has a weight that is higher by a factor equal to the radix. Carrying works the same way in binary: Dalam contoh ini, dua angka sedang ditambah: 011012 (1310) dan 101112 (2310). The top row shows the carry bits used. Starting in the rightmost column, 1 + 1 = 102. The 1 is carried to the left, dan the 0 is written at the bottom of the rightmost column. The second column from the right is added: 1 + 0 + 1 = 102 again; the 1 is carried, dan 0 is written at the bottom. The third column: 1 + 1 + 1 = 112. This time, a 1 is carried, dan a 1 is written in the bottom row. Proceeding like this gives the final answer 1001002 (36 decimal). When computers must add two numbers, the rule that: for any two bits x dan y allows for very fast calculation, as well. A simplification for many binary addition problems is the Long Carry Method or Brookhouse Method of Binary Addition. This method is generally useful in any binary addition where one of the numbers has a long string of \\u201c1\\u201d digits. For example the following large binary numbers can be added in two simple steps without multiple carries from one place to the next. 1 1 1 1 1 1 1 1 (carried digits) (Long Carry Method) + 1 0 1 0 1 1 0 0 1 1 Versus: + 1 0 1 0 1 1 0 0 1 1 add crossed out digits first ----------------------- + 1 0 0 0 1 0 0 0`\", \"output\": \"{\\\"name\\\": \\\"QAS\\\", \\\"arguments\\\": {\\\"qa\\\": [{\\\"question\\\": \\\"Apakah sistem angka yang digunakan dalam sistem binari?\\\", \\\"A\\\": \\\"Sistem angka perduaan\\\", \\\"B\\\": \\\"Sistem angka asas dua\\\", \\\"C\\\": \\\"Sistem angka persepuluhan\\\", \\\"D\\\": \\\"Sistem angka desimal\\\", \\\"answer\\\": \\\"B\\\"}, {\\\"question\\\": \\\"Berapa banyak abjad yang digunakan dalam sistem angka perduaan?\\\", \\\"A\\\": \\\"Satu\\\", \\\"B\\\": \\\"Dua\\\", \\\"C\\\": \\\"Tiga\\\", \\\"D\\\": \\\"Empat\\\", \\\"answer\\\": \\\"B\\\"}, {\\\"question\\\": \\\"Apakah angka yang digunakan dalam sistem angka perduaan?\\\", \\\"A\\\": \\\"Angka 0 dan 1\\\", \\\"B\\\": \\\"Angka 1 dan 2\\\", \\\"C\\\": \\\"Angka 0, 1, dan 2\\\", \\\"D\\\": \\\"Angka 1, 2, dan 3\\\", \\\"answer\\\": \\\"A\\\"}, {\\\"question\\\": \\\"Bagaimanakah angka perduaan biasanya dilafazkan?\\\", \\\"A\\\": \\\"Satu kosong kosong\\\", \\\"B\\\": \\\"Sero seratus\\\", \\\"C\\\": \\\"Dua puluh lima\\\", \\\"D\\\": \\\"Tiga puluh tujuh\\\", \\\"answer\\\": \\\"A\\\"}, {\\\"question\\\": \\\"Bagaimanakah pengiraan tambah dilakukan dalam sistem angka perduaan?\\\", \\\"A\\\": \\\"Dengan penambahan angka 1\\\", \\\"B\\\": \\\"Dengan penambahan angka 2\\\", \\\"C\\\": \\\"Dengan membahagi angka 1\\\", \\\"D\\\": \\\"Dengan mengurangkan angka 1\\\", \\\"answer\\\": \\\"A\\\"}]}}\"}\n",
      "\n",
      "{\"prompt_input\": null, \"input\": \"convert to JSON using schema {\\n    \\\"name\\\": \\\"QAS\\\",\\n    \\\"description\\\": \\\"Correctly extracted `QAS` with all the required parameters with correct types\\\",\\n    \\\"parameters\\\": {\\n        \\\"$defs\\\": {\\n            \\\"AnswerEnum\\\": {\\n                \\\"enum\\\": [\\n                    \\\"A\\\",\\n                    \\\"B\\\",\\n                    \\\"C\\\",\\n                    \\\"D\\\"\\n                ],\\n                \\\"type\\\": \\\"string\\\"\\n            },\\n            \\\"Selective_QA\\\": {\\n                \\\"properties\\\": {\\n                    \\\"question\\\": {\\n                        \\\"type\\\": \\\"string\\\"\\n                    },\\n                    \\\"A\\\": {\\n                        \\\"type\\\": \\\"string\\\"\\n                    },\\n                    \\\"B\\\": {\\n                        \\\"type\\\": \\\"string\\\"\\n                    },\\n                    \\\"C\\\": {\\n                        \\\"type\\\": \\\"string\\\"\\n                    },\\n                    \\\"D\\\": {\\n                        \\\"type\\\": \\\"string\\\"\\n                    },\\n                    \\\"answer\\\": {\\n                        \\\"$ref\\\": \\\"#/$defs/AnswerEnum\\\"\\n                    }\\n                },\\n                \\\"required\\\": [\\n                    \\\"question\\\",\\n                    \\\"A\\\",\\n                    \\\"B\\\",\\n                    \\\"C\\\",\\n                    \\\"D\\\",\\n                    \\\"answer\\\"\\n                ],\\n                \\\"type\\\": \\\"object\\\"\\n            }\\n        },\\n        \\\"properties\\\": {\\n            \\\"qa\\\": {\\n                \\\"items\\\": {\\n                    \\\"$ref\\\": \\\"#/$defs/Selective_QA\\\"\\n                },\\n                \\\"type\\\": \\\"array\\\"\\n            }\\n        },\\n        \\\"required\\\": [\\n            \\\"qa\\\"\\n        ],\\n        \\\"type\\\": \\\"object\\\"\\n    }\\n}\\n\\ntext: Pemproses isyarat digital atau DSP ialah mikropemproses khas yang direka khusus untuk pemprosesan isyarat digital, biasanya dalam masa-nyata. masukan analog -----&gt; ADC ----&gt; DSP ----&gt; DAC ---&gt; keluaran analog Pemprosesan isyarat digital boleh dilakukan menggunakan mikropemproses biasa. DSP boleh mengoptimumkan: Pada 1978, Intel mengeluarkan pemproses 2920 sebahai \\\"pemproses isyarat analog\\\". Ia mempunyai ADC/DAC atas-cip dengan pemproses isyarat dalaman, namun ia tidak mempunyai pendarab perkakasan dan tidak begitu laku. Tahun berikutnya, AMI mengeluarkan AMI S2811. Ia direka bentuk sebagai persisian mikropemproses dan perlu diset semula oleh hos. AMI S2811 juga tidak berapa terjual di pasaran. Pada 1979 juga, Bell Labs memperkenalkan cip DSP tunggal pertama, Mikropemproses Mac 4. Kemudian pada 1980 DSP lengkap tersendiri yang pertama -- NEC \\u00b5PD7720 dan AT&amp;T DSP1 -- dipertunjukkan di Persidangan Litar Keadaan-Pepejal Antarabangsa IEEE '80. Kedua-dua pemproses diilhamkan oleh penyelidikan dalam telekomunikasi PSTN. Altamira DX-1 merupakan satu lagi DSP awal, ia menggunakan talian paip integer kuad dengan cabang lengah dan ramalan cabang. DSP pertama yang dikeluarkan Texas Instruments (TI), TMS32010 pada 1983, mendapat kejayaan yang besar, dan TI kini menguasai pasaran DSP tujuan am / pelbagai guna. Satu lagi reka bentuk yang berjaya ialah Motorola 56000. Kira-kira lima tahun kemudian, generasi kedua DSP mula tersebar. Generasi ini mempunyai 3 ingatan untuk menyimpan dua kendalian serentak dan menyertakan perkakasan untuk memecut gelungan, selain mempunyai unit pengalamatan yang boleh mengalamat gelung. Sesetengah DSP ini boleh mengendalikan pemboleh ubah 24-bit dan model tipikal cuma memerlukan kira-kira 21ns untuk proses MAC (\\\"multiply-accumulate\\\"). Contoh DSP generasi ini ialah DSP16A AT&amp;T atau DSP56001 Motorola. Kemajuan utama dalam generasi ketiga ialah kemunculan unit dan arahan penggunaan-khusus dalam laluan data, atau kadang-kadang sebagai pemproses bersama. Ini membolehkan pemecutan perkakasan terus masalah matematik rumit yang amat khusus, seperti penjelmaan Fourier dan operasi matriks. Sesetengah cip, seperti MC68356 Motorola, malah mempunyai lebih dari satu teras pemproses yang bekerja secara selari. Contoh DSP dari generasi ini ialah TMS320C541 dan TMS320C80 dari TI yang dikeluarkan pada 1995. Generasi keempat DSP dicirikan oleh perubahan dalam set arahan dan pengekodan/penyahkodan arahan. Sambungan SIMD dan MMX ditambah, VLIW dan seni bina superskalar muncul. Seperti biasa, kelajuan-jam telah bertambah, operasi MAC kini boleh dilakuakan dalam 3ns sahaja. Prestasi DSP kini jauh lebih hebat. Puncanya adalah dari kemajuan kedua-dua teknologi dan seni bina seperti peraturan reka bentuk, cache dua-peringkat, litar (E)DMA dan sistem bas luas. Tentu sahaja, terdapat banyak jenis DSP untuk pelbagai tugas khas, dari semurah 1.50 hinggalah 300 dolar. Kebanyakan DSP menggunakan aritmetik titik-tetap, kerana dalam pemprosesan isyarat dunia nyata, julat tambahan yang disediakan oleh titik terapung tidak diperlukan, dan terdapat manfaat kelajuan yang besar; namun DSP titik terapung yang lebih berkuasa biasa digunakan untuk tujuan saintifik atau bila julat tambahan atau ketepatan diperlukan. CPU tujuan am mendapat idea dan dipengaruhi daripada DSP dengan sambungan seperti sambungan MMX dalam set suruhan seni bina (ISA) Intel IA-32. Umumnya, DSP merupakan litar bersepadu khusus, namun fungsi DSP boleh juga dicapai menggunakan cip FPGA.\", \"output\": \"{\\\"name\\\": \\\"QAS\\\", \\\"arguments\\\": {\\\"qa\\\": [{\\\"question\\\": \\\"Apakah itu pemproses isyarat digital (DSP)?\\\", \\\"A\\\": \\\"Mikropemproses yang direka khusus untuk pemprosesan isyarat digital\\\", \\\"B\\\": \\\"Alat yang mengoptimumkan pemprosesan isyarat analog\\\", \\\"C\\\": \\\"Litar bersepadu khusus untuk tujuan saintifik\\\", \\\"D\\\": \\\"Mikropemproses yang digunakan dalam telekomunikasi PSTN\\\", \\\"answer\\\": \\\"A\\\"}, {\\\"question\\\": \\\"Apakah langkah yang terlibat dalam pemprosesan isyarat digital?\\\", \\\"A\\\": \\\"ADC, DAC, DSP\\\", \\\"B\\\": \\\"DSP, ADC, DAC\\\", \\\"C\\\": \\\"DAC, DSP, ADC\\\", \\\"D\\\": \\\"DSP, DAC, ADC\\\", \\\"answer\\\": \\\"B\\\"}, {\\\"question\\\": \\\"Apakah pemproses DSP pertama yang dikeluarkan oleh Texas Instruments?\\\", \\\"A\\\": \\\"TMS32010\\\", \\\"B\\\": \\\"AMI S2811\\\", \\\"C\\\": \\\"\\\\u00b5PD7720\\\", \\\"D\\\": \\\"DSP16A\\\", \\\"answer\\\": \\\"A\\\"}, {\\\"question\\\": \\\"Apakah kemajuan utama dalam generasi ketiga DSP?\\\", \\\"A\\\": \\\"Peningkatan kecepatan jam\\\", \\\"B\\\": \\\"Penambahan unit pengalamatan\\\", \\\"C\\\": \\\"Pemecutan perkakasan untuk operasi matematik kompleks\\\", \\\"D\\\": \\\"Kemunculan unit dan arahan penggunaan-khusus\\\", \\\"answer\\\": \\\"C\\\"}, {\\\"question\\\": \\\"Apakah jenis aritmetik yang biasa digunakan dalam pemprosesan isyarat digital?\\\", \\\"A\\\": \\\"Aritmetik titik terapung\\\", \\\"B\\\": \\\"Aritmetik titik tetap\\\", \\\"C\\\": \\\"Aritmetik titik terapung dan titik tetap\\\", \\\"D\\\": \\\"Aritmetik titik tetap dan titik terapung\\\", \\\"answer\\\": \\\"B\\\"}]}}\"}\n",
      "\n",
      "{\"prompt_input\": null, \"input\": \"JSON berdasarkan schema {\\n    \\\"name\\\": \\\"QAS\\\",\\n    \\\"description\\\": \\\"Correctly extracted `QAS` with all the required parameters with correct types\\\",\\n    \\\"parameters\\\": {\\n        \\\"$defs\\\": {\\n            \\\"QA\\\": {\\n                \\\"properties\\\": {\\n                    \\\"question\\\": {\\n                        \\\"type\\\": \\\"string\\\"\\n                    },\\n                    \\\"answer\\\": {\\n                        \\\"type\\\": \\\"string\\\"\\n                    }\\n                },\\n                \\\"required\\\": [\\n                    \\\"question\\\",\\n                    \\\"answer\\\"\\n                ],\\n                \\\"type\\\": \\\"object\\\"\\n            }\\n        },\\n        \\\"properties\\\": {\\n            \\\"qa\\\": {\\n                \\\"items\\\": {\\n                    \\\"$ref\\\": \\\"#/$defs/QA\\\"\\n                },\\n                \\\"type\\\": \\\"array\\\"\\n            }\\n        },\\n        \\\"required\\\": [\\n            \\\"qa\\\"\\n        ],\\n        \\\"type\\\": \\\"object\\\"\\n    }\\n}\\n\\n* SUSPENSION GOOD * TIP-TOP ORIGINAL GOOD CONDITION ENGINE & TRANSMISSION ~2000CC ENGINE EXRERIOR / INTERIOR: ~ 100% ACCIDENT FREE ~ HEADLAMP / FOGLAMP - PROJECTOR ~ 4 GOOD PERFORMANCE TYPE ~ DASHBOARD - OK ~ ORIGINAL CD / MP3 / USB / RADIO PLAYER ELECTRONIC / SAFETY SYSTEM : ~ SOUND SYSTEMS - 4 SPEAKERS ~ AUTO LIGHT / AUTO WIPER / AUTO CRUISE ~ ORIGINAL AIRCOND FRONT & REAR ~ SAFETY SYSTEM - AIRBAG/ DISC BRAKE/ABS/EBD/TC/ESC ~ SECURITY ALARM SYSTEMS. ~ 1 FUNCTIONS POWER WINDOW ~ ADJUSTABLE SIDE MIRROR / AUTO FOLD. OVERALL CONDITION ~ UNDERCARRIAGE / LOWER ARM - OK ~ ABSORBER / SUSPENTIONS / MOUTING - OK ~ BATTERY / RADIATOR - OK ~ ENGINE / GEARBOX - OK ~ ELECTRONIC / SAFETY SYSTEMS - OK ~ STRUCTURE INTERIOR / EXTERIOR \\u2013 OK --------------------------------------------------------- (BUSINESS FOR WORKING) DIRECTOR IC LICENSE SSM / BORANG 9,24,49 6 MONTHS BANK STATEMENT INCOME TAX (DOCUMENT FOR WORKING) IC DRIVING LICENSE PAY SLIP 3 MONTHS BANK STATEMENT 3 MONTH EPF UPDATED --------------------------------------------------------- (WE ARE THE PLATINUM DEALER) PUBLIC BANK/CIMB BANK/HONG LEONG BANK AEON CREDIT/BERJAYA CHAILEASE/CONCORD CREDIT FAST APPROVAL HIGH LOAN AVAILABLE LOW DOWN PAYMENT FAST DELIVERY NO LICENSE NO GUARANTOR PTPTN BLACKLISTED WELCOME TO OUR SHOWROOM VIEW AND TEST DRIVE THANK YOU. \\u66f4\\u591a \\u53d8\\u901f\\u5668 \\u53d8\\u901f\\u5668 Auto\\u81ea\\u52a8\\u6321 \\u9f7f\\u8f6e\\u6570\\u91cf 6 \\u57fa\\u672c \\u8f66\\u95e8 5 \\u5ea7\\u4f4d\\u5bb9\\u91cf 5 \\u7ec4\\u88c5 \\u8fdb\\u53e3 \\u5f15\\u64ce\\u914d\\u7f6e \\u5f15\\u64ceCC 1999 \\u538b\\u7f29\\u7387 12 \\u6700\\u5927\\u9a6c\\u529b(hp) 170 \\u6700\\u5927\\u626d\\u77e9(Nm) 202 \\u5f15\\u64ce\\u7c7b\\u522b Piston \\u76f4\\u63a5\\u6ce8\\u5165 Direct Injection \\u5438\\u6c14\\u5f15\\u64ce Aspirated \\u6c7d\\u6cb9/\\u80fd\\u6e90\\u79cd\\u7c7b Petrol - Unleaded (ULP) \\u8868\\u73b0\\u4e0e\\u7ecf\\u6d4e \\u71c3\\u6cb9\\u6d88\\u8017 6.6 \\u6700\\u9ad8\\u901f\\u5ea6 207 \\u65b9\\u5411\\u76d8 \\u8f66\\u76d8\\u534a\\u5f84 11 \\u8f66\\u76d8\\u7c7b\\u522b Rack and Pinion \\u5c3a\\u5bf8\\u548c\\u91cd\\u91cf \\u957f\\u5ea6(\\u6beb\\u7c73) 4358 \\u5bbd\\u5ea6(\\u6beb\\u7c73) 1824 \\u9ad8\\u5ea6(\\u6beb\\u7c73) 1466 \\u8f74\\u8ddd(\\u6beb\\u7c73) 2648 \\u91cd\\u91cf(\\u516c\\u65a4) 1270 \\u6cb9\\u7bb1(\\u516c\\u5347) 55 \\u5239\\u8f66\\u5668 \\u524d\\u8f6e\\u5239\\u8f66\\u5668 Ventilated discs \\u540e\\u8f6e\\u5239\\u8f66\\u5668 Discs \\u60ac\\u6302 \\u524d\\u60ac\\u6302 Macpherson Strut \\u540e\\u60ac\\u6302 Independent \\u8f6e\\u80ce\\u548c\\u8f6e\\u5b50 \\u524d\\u8f66\\u8f6e 215/50 R17 \\u540e\\u8f66\\u8f6e 215/50 R17 \\u524d\\u8f66\\u8f6e\\u5708(\\u5bf8) 17 \\u540e\\u8f66\\u8f6e\\u5708(\\u5bf8) 17 \\u8212\\u9002\\u914d\\u7f6e \\u7a7a\\u8c03 Air Conditioning, Dual Zone, Electronic Climate Control (ECC) Interior lighting Auto-dimming interior rear view mirror \\u76ae\\u8d28\\u5ea7\\u6905 Seat trim, leather \\u76ae\\u8d28\\u65b9\\u5411\\u76d8 Leather steering wheel Sunroof Electric tilt & slide sunroof \\u5176\\u4ed6 Center armrest, rear, EcoMode, Front and rear towing hooks, Front Grille black, Gear Knob, Leather, Height adjustment - driver & front passenger seat, Metallic paint, Rear Spoiler, Skirt,front,rear and side, Sports Suspension, Sunvisors w/ Illuminated Vanity Mirrors \\u4fbf\\u5229\\u914d\\u7f6e Auto headlamps Automatic On/Off headlamps Auto parking Active Parking Assist \\u611f\\u5e94\\u96e8\\u5237 Variable Speed Rain Sensor \\u5b9a\\u901f\\u5de1\\u822a \\u5b9a\\u901f\\u5de1\\u822a Engine start Engine Start Button Hill start assist Hill Launch Assist (HLA) \\u6cca\\u8f66\\u611f\\u5e94\\u5668 Front Parking Aid, Rear parking aid with Touch-screen indicator Power side mirror Mirrors, Electric Foldable Side, Mirrors, side - electric Power windows Power Windows Remote locking Keyless Entry Split fold read seat 60:40 split fold second row/rear seat \\u65b9\\u5411\\u76d8\\u6309\\u952e Steering wheel mounted audio control \\u5176\\u4ed6 Exterior mirrors with puddle lamps \\u5a31\\u4e50\\u914d\\u7f6e Bluetooth Bluetooth interface, Radio with CD,MP3 Player,bluetooth iPod USB and iPod connectivity Multi function screen Multi-function Control Screen Speaker 'SYNC' Audio System, 9 Premium High Series Speakers \\u706f\\u5149\\u914d\\u7f6e Brake lights High-mount rear stop lamp \\u524d\\u96fe\\u706f Fog lights, Front \\u5934\\u706f Headlight washer, Headlight washing system, Headlights Follow-me-home function, Headlights, Bi-Xenon Rear foglamps Fog Lights, Rear \\u5c3e\\u706f LED Rear Tail Lamps \\u5b89\\u5168\\u6027\\u80fd ABS/EBD Anti-lock Braking System (ABS), Electronic Brake-Force Distribution\", \"output\": \"{\\\"name\\\": \\\"QAS\\\", \\\"arguments\\\": {\\\"qa\\\": [{\\\"question\\\": \\\"Apakah keadaan enjin dan transmisi kereta tersebut?\\\", \\\"answer\\\": \\\"Keadaan enjin dan transmisi kereta tersebut dalam keadaan baik dan asal.\\\"}, {\\\"question\\\": \\\"Apakah sistem keselamatan yang terdapat pada kereta tersebut?\\\", \\\"answer\\\": \\\"Sistem keselamatan yang terdapat pada kereta tersebut termasuklah airbag, brek cakera, ABS, EBD, TC, ESC dan sistem penggera keselamatan.\\\"}, {\\\"question\\\": \\\"Apakah jenis tayar dan saiz yang digunakan pada kereta tersebut?\\\", \\\"answer\\\": \\\"Kereta tersebut menggunakan tayar jenis 215/50 R17 pada kedua-dua roda dan saiz rim 17 inci.\\\"}]}}\"}\n",
      "\n",
      "{\"prompt_input\": null, \"input\": \"text `{{ 'fb_in_app_browser_popup.desc' | translate }} {{ 'fb_in_app_browser_popup.copy_link' | translate }} {{ 'close' | translate }} {{ 'in_app_browser_popup.desc' | translate }} {{ 'close' | translate }} {{word('consent_title')}} {{word('consent_desc')}} {{word('read_more')}} {{word('settings')}} {{word('accept')}} {{word('consent_title')}} {{word('consent_desc')}} {{word('read_more')}} {{setting.title}} {{setting.description}} {{word('save_preferences')}} Navigation About us Shop by Brand Aquaillumination Aquarium Munster D-D Products Deep Sea EcoTech Marine Flipper Cleaner Focustronic Hanna Instruments Innovative Marine Jebao Kamoer Marine Pure Milwaukee Instruments Neptune Systems NYOS Orca Labs Polyp Lab Pinpoint Pure Aquatic Reef Octopus Rowa Salifert Tropic Marin WaterBox Aquariums MacroRocks Aquarium Systems Aquarium System Solution Other Shop by Category Additives - Supplements Medications - Pest Control Nutrient Control Aquarium Lighting Powerheads - Wavemakers Protein Skimmer Filter & Reactor Media Water Pump - Skimmer Pump Foods - Fish Foods - Coral Water Testing Aquarium Cleaner Controllers - Dosing Pump - ATO Salt - Rock - Sand Fragging Supplies Aquarium RO/DI Systems Others Calculator Light Output Comparisons VorTech Flow Calculator Tropic Marin Smart Info Aquarium Volume Calculator Shop All Categories Featured Products Shop by Category Aquarium Lighting Protein Skimmer Water Pump - Skimmer Pump Powerheads - Wavemakers Controllers - Dosing Pump - ATO Reactors Filter & Reactor Media Water Testing Additives - Supplements Nutrient Control Medications - Pest Control Foods - Fish Foods - Coral Aquarium Cleaner Salt - Rock - Sand Fragging Supplies Aquarium Others Shop by Brand Aquaillumination Deep Sea Hanna Instruments Salifert Other Aquarium Systems D-D Products Aquarium System Solution Focustronic Aquarium Munster EcoTech Marine Flipper Cleaner Innovative Marine Jebao Kamoer Marine Pure Milwaukee Instruments Neptune Systems NYOS Orca Labs Pinpoint Polyp Lab Pure Aquatic Reef Octopus Rowa Tropic Marin WaterBox Aquariums MacroRocks Account Sign in Sign up Other Settings MESSAGE English {{ currentCurrency.name }} Shopping Cart Your Shopping Cart is empty. {{ 'product.bundled_products.label' | translate }} {{ 'product.bundle_group_products.label' | translate }} {{ 'product.buyandget.label' | translate }} {{ 'product.gift.label' | translate }} {{ 'product.addon_products.label' | translate }} {{item.product.title_translations|translateModel}} {{ field.name_translations | translateModel }} {{item.variation.name}} {{ childProduct.title_translations | translateModel }} {{ getChildVariationShorthand(childProduct.child_variation) }} {{ getSelectedItemDetail(selectedChildProduct, item).childProductName }} x {{ selectedChildProduct.quantity || 1 }} {{ getSelectedItemDetail(selectedChildProduct, item).childVariationName }} {{item.quantity}} x RM0 {{ item.unit_point }} Point Remove {{ 'product.addon_products.label' | translate }} {{addonItem.product.title_translations|translateModel}} {{addonItem.quantity}} x {{ mainConfig.merchantData.base_currency.alternate_symbol + \\\"0\\\" }} Remove Checkout LANGUAGE English Bahasa Melayu \\u7b80\\u4f53\\u4e2d\\u6587 Currency $ HKD \\u00a5 CNY $ TWD $ USD $ SGD \\u20ac EUR $ AUD \\u00a3 GBP \\u20b1 PHP RM MYR \\u0e3f THB \\u062f.\\u0625 AED \\u00a5 JPY K MMK $ BND \\u20a9 KRW Rp IDR \\u20ab VND $ CAD MENU LOG IN CART ( {{currentCart.getItemCount()}} ) MESSAGE English English Bahasa Melayu \\u7b80\\u4f53\\u4e2d\\u6587 - {{ currentCurrency.symbol }} ------ {{ currentCurrency.name }} {{ currency.name }} About us Shop by Brand Aquaillumination Aquarium Munster D-D Products Deep Sea EcoTech Marine Flipper Cleaner Focustronic Hanna Instruments Innovative Marine Jebao Kamoer Marine Pure Milwaukee Instruments Neptune Systems NYOS Orca Labs Polyp Lab Pinpoint Pure Aquatic Reef Octopus Rowa Salifert Tropic Marin WaterBox Aquariums MacroRocks Aquarium Systems Aquarium System Solution Other Shop by Category Additives - Supplements Medications - Pest Control Nutrient Control Aquarium Lighting Powerheads - Wavemakers Protein Skimmer Filter & Reactor Media Water Pump - Skimmer Pump Foods - Fish Foods - Coral Water Testing Aquarium Cleaner Controllers - Dosing Pump - ATO Salt - Rock - Sand Fragging Supplies Aquarium RO/DI Systems Others Calculator Light Output Comparisons VorTech Flow Calculator Tropic Marin Smart Info Aquarium Volume Calculator Shop All Categories Featured Products 31 Shop by Category Aquarium Lighting 38 Protein Skimmer 39 Water Pump - Skimmer Pump 26 Powerheads - Wavemakers 20 Controllers - Dosing Pump - ATO 71 Reactors 22 Filter & Reactor Media 39 Water Testing 69 Additives - Supplements 55 Nutrient Control 21 Medications - Pest Control 7 Foods - Fish 13 Foods - Coral 10 Aquarium Cleaner 26 Salt - Rock - Sand 16 Fragging Supplies 15 Aquarium 7 Others 40 Shop by Brand Aquaillumination 24 Deep Sea 2 Hanna Instruments 19 Salifert 11 Other 4 Aquarium Systems 3 D-D Products 29 Aquarium System Solution 7 Focustronic 6 Aquarium Munster 11 EcoTech Marine 34 Flipper Cleaner 21 Innovative Marine 8 Jebao 6 Kamoer 21 Marine Pure 5 Milwaukee Instruments 11 Neptune Systems 32 NYOS 29 Orca Labs 4 Pinpoint 3 Polyp Lab 11 Pure Aquatic 2 Reef Octopus 67 Rowa 6 Tropic Marin 60 WaterBox Aquariums 5 MacroRocks 4 View All Shop by Category Controllers - Dosing Pump - ATO Kamoer Multifunctional Grease 10g Share Kamoer Multifunctional Grease 10g Free Shipping (West Malaysia) Above RM200 on order Online on order RM15.00 {{shoplineProductReview.avg_score}} {{'product.product_review.stars' | translate}} | {{shoplineProductReview.total}} {{'product.product_review.reviews' | translate}} {{amazonProductReview.avg_rating}} {{'product.product_review.stars' | translate}} | {{amazonProductReview.total_comment_count}} {{'product.product_review.reviews' | translate}} Quantity Product set quantity ADD TO CART In Stock Notification On Notify When in Stock Sign in/up now Add to Wishlist Sign in/up now The maximum quantity per submit is 99999 This quantity is invalid, please enter a valid quantity. Sold Out Not enough stock. Your item was not added to your cart. Not enough stock. Please adjust your quantity. Limit {{ product.max_order_quantity }} per order. Only {{ quantityOfStock }} item(s) left. Please message the shop owner for order details. MESSAGE In Stock Notification On Notify When in Stock Sign in/up now Add to Wishlist Sign in/up now Share Description html PUBLIC \\\"-//W3C//DTD HTML 4.0 Transitional//EN\\\" \\\"http://www.w3.org/TR/REC-html40/loose.dtd\\\" Kamoer Multifunctional Grease Related Products Kamoer Dosing Pump Fixed Pipe Rack RM30.00 D-D Bladerunner Replacement Blades, Pack of 2 RM28.00 ~ RM50.00 Kamoer F4 Dosing Pump Bracket RM48.00 Kamoer 2 Liter Container with Liquid Level Sensor RM85.00 2020 \\u00a9 AKUARIUM BATU KARANG LAUT SDN BHD \\\" Return Policy I Terms and Conditions \\\"`, convert to JSON using schema {\\n    \\\"name\\\": \\\"QAS\\\",\\n    \\\"description\\\": \\\"Correctly extracted `QAS` with all the required parameters with correct types\\\",\\n    \\\"parameters\\\": {\\n        \\\"$defs\\\": {\\n            \\\"QA\\\": {\\n                \\\"properties\\\": {\\n                    \\\"question\\\": {\\n                        \\\"type\\\": \\\"string\\\"\\n                    },\\n                    \\\"answer\\\": {\\n                        \\\"type\\\": \\\"string\\\"\\n                    }\\n                },\\n                \\\"required\\\": [\\n                    \\\"question\\\",\\n                    \\\"answer\\\"\\n                ],\\n                \\\"type\\\": \\\"object\\\"\\n            }\\n        },\\n        \\\"properties\\\": {\\n            \\\"qa\\\": {\\n                \\\"items\\\": {\\n                    \\\"$ref\\\": \\\"#/$defs/QA\\\"\\n                },\\n                \\\"type\\\": \\\"array\\\"\\n            }\\n        },\\n        \\\"required\\\": [\\n            \\\"qa\\\"\\n        ],\\n        \\\"type\\\": \\\"object\\\"\\n    }\\n}\", \"output\": \"{\\\"name\\\": \\\"QAS\\\", \\\"arguments\\\": {\\\"qa\\\": [{\\\"question\\\": \\\"Apakah jenis produk yang dijual oleh Akuarium Batu Karang Laut Sdn Bhd?\\\", \\\"answer\\\": \\\"Akuarium Batu Karang Laut Sdn Bhd menjual pelbagai jenis produk seperti penambah nutrien, peralatan pengawal, makanan ikan dan karang, dan banyak lagi.\\\"}, {\\\"question\\\": \\\"Adakah penghantaran percuma disediakan oleh Akuarium Batu Karang Laut Sdn Bhd?\\\", \\\"answer\\\": \\\"Ya, penghantaran percuma disediakan oleh Akuarium Batu Karang Laut Sdn Bhd untuk kawasan Barat Malaysia dengan pembelian melebihi RM200.\\\"}, {\\\"question\\\": \\\"Apakah jenis produk yang dijual oleh Kamoer?\\\", \\\"answer\\\": \\\"Kamoer menjual pelbagai jenis produk seperti pam dosing, bekalan cecair, dan banyak lagi.\\\"}]}}\"}\n",
      "\n",
      "{\"prompt_input\": null, \"input\": \"{{ 'fb_in_app_browser_popup.desc' | translate }} {{ 'fb_in_app_browser_popup.copy_link' | translate }} {{ 'close' | translate }} {{ 'in_app_browser_popup.desc' | translate }} {{ 'close' | translate }} {{word('consent_title')}} {{word('consent_desc')}} {{word('read_more')}} {{word('settings')}} {{word('accept')}} {{word('consent_title')}} {{word('consent_desc')}} {{word('read_more')}} {{setting.title}} {{setting.description}} {{word('save_preferences')}} Navigation About us Shop by Brand Aquaillumination Aquarium Munster D-D Products Deep Sea EcoTech Marine Flipper Cleaner Focustronic Hanna Instruments Innovative Marine Jebao Kamoer Marine Pure Milwaukee Instruments Neptune Systems NYOS Orca Labs Polyp Lab Pinpoint Pure Aquatic Reef Octopus Rowa Salifert Tropic Marin WaterBox Aquariums MacroRocks Aquarium Systems Aquarium System Solution Other Shop by Category Additives - Supplements Medications - Pest Control Nutrient Control Aquarium Lighting Powerheads - Wavemakers Protein Skimmer Filter & Reactor Media Water Pump - Skimmer Pump Foods - Fish Foods - Coral Water Testing Aquarium Cleaner Controllers - Dosing Pump - ATO Salt - Rock - Sand Fragging Supplies Aquarium RO/DI Systems Others Calculator Light Output Comparisons VorTech Flow Calculator Tropic Marin Smart Info Aquarium Volume Calculator Shop All Categories Featured Products Shop by Category Aquarium Lighting Protein Skimmer Water Pump - Skimmer Pump Powerheads - Wavemakers Controllers - Dosing Pump - ATO Reactors Filter & Reactor Media Water Testing Additives - Supplements Nutrient Control Medications - Pest Control Foods - Fish Foods - Coral Aquarium Cleaner Salt - Rock - Sand Fragging Supplies Aquarium Others Shop by Brand Aquaillumination Deep Sea Hanna Instruments Salifert Other Aquarium Systems D-D Products Aquarium System Solution Focustronic Aquarium Munster EcoTech Marine Flipper Cleaner Innovative Marine Jebao Kamoer Marine Pure Milwaukee Instruments Neptune Systems NYOS Orca Labs Pinpoint Polyp Lab Pure Aquatic Reef Octopus Rowa Tropic Marin WaterBox Aquariums MacroRocks Account Sign in Sign up Other Settings MESSAGE English {{ currentCurrency.name }} Shopping Cart Your Shopping Cart is empty. {{ 'product.bundled_products.label' | translate }} {{ 'product.bundle_group_products.label' | translate }} {{ 'product.buyandget.label' | translate }} {{ 'product.gift.label' | translate }} {{ 'product.addon_products.label' | translate }} {{item.product.title_translations|translateModel}} {{ field.name_translations | translateModel }} {{item.variation.name}} {{ childProduct.title_translations | translateModel }} {{ getChildVariationShorthand(childProduct.child_variation) }} {{ getSelectedItemDetail(selectedChildProduct, item).childProductName }} x {{ selectedChildProduct.quantity || 1 }} {{ getSelectedItemDetail(selectedChildProduct, item).childVariationName }} {{item.quantity}} x RM0 {{ item.unit_point }} Point Remove {{ 'product.addon_products.label' | translate }} {{addonItem.product.title_translations|translateModel}} {{addonItem.quantity}} x {{ mainConfig.merchantData.base_currency.alternate_symbol + \\\"0\\\" }} Remove Checkout LANGUAGE English Bahasa Melayu \\u7b80\\u4f53\\u4e2d\\u6587 Currency $ HKD \\u00a5 CNY $ TWD $ USD $ SGD \\u20ac EUR $ AUD \\u00a3 GBP \\u20b1 PHP RM MYR \\u0e3f THB \\u062f.\\u0625 AED \\u00a5 JPY K MMK $ BND \\u20a9 KRW Rp IDR \\u20ab VND $ CAD MENU LOG IN CART ( {{currentCart.getItemCount()}} ) MESSAGE English English Bahasa Melayu \\u7b80\\u4f53\\u4e2d\\u6587 - {{ currentCurrency.symbol }} ------ {{ currentCurrency.name }} {{ currency.name }} About us Shop by Brand Aquaillumination Aquarium Munster D-D Products Deep Sea EcoTech Marine Flipper Cleaner Focustronic Hanna Instruments Innovative Marine Jebao Kamoer Marine Pure Milwaukee Instruments Neptune Systems NYOS Orca Labs Polyp Lab Pinpoint Pure Aquatic Reef Octopus Rowa Salifert Tropic Marin WaterBox Aquariums MacroRocks Aquarium Systems Aquarium System Solution Other Shop by Category Additives - Supplements Medications - Pest Control Nutrient Control Aquarium Lighting Powerheads - Wavemakers Protein Skimmer Filter & Reactor Media Water Pump - Skimmer Pump Foods - Fish Foods - Coral Water Testing Aquarium Cleaner Controllers - Dosing Pump - ATO Salt - Rock - Sand Fragging Supplies Aquarium RO/DI Systems Others Calculator Light Output Comparisons VorTech Flow Calculator Tropic Marin Smart Info Aquarium Volume Calculator Shop All Categories Featured Products 31 Shop by Category Aquarium Lighting 38 Protein Skimmer 39 Water Pump - Skimmer Pump 26 Powerheads - Wavemakers 20 Controllers - Dosing Pump - ATO 71 Reactors 22 Filter & Reactor Media 39 Water Testing 69 Additives - Supplements 55 Nutrient Control 21 Medications - Pest Control 7 Foods - Fish 13 Foods - Coral 10 Aquarium Cleaner 26 Salt - Rock - Sand 16 Fragging Supplies 15 Aquarium 7 Others 40 Shop by Brand Aquaillumination 24 Deep Sea 2 Hanna Instruments 19 Salifert 11 Other 4 Aquarium Systems 3 D-D Products 29 Aquarium System Solution 7 Focustronic 6 Aquarium Munster 11 EcoTech Marine 34 Flipper Cleaner 21 Innovative Marine 8 Jebao 6 Kamoer 21 Marine Pure 5 Milwaukee Instruments 11 Neptune Systems 32 NYOS 29 Orca Labs 4 Pinpoint 3 Polyp Lab 11 Pure Aquatic 2 Reef Octopus 67 Rowa 6 Tropic Marin 60 WaterBox Aquariums 5 MacroRocks 4 View All Shop by Category Water Testing Hanna High Range Nitrate Checker Reagent HI782-25 (25 Tests) Share Hanna High Range Nitrate Checker Reagent HI782-25 (25 Tests) Free Shipping (West Malaysia) Above RM200 on order Online on order RM130.00 {{shoplineProductReview.avg_score}} {{'product.product_review.stars' | translate}} | {{shoplineProductReview.total}} {{'product.product_review.reviews' | translate}} {{amazonProductReview.avg_rating}} {{'product.product_review.stars' | translate}} | {{amazonProductReview.total_comment_count}} {{'product.product_review.reviews' | translate}} Quantity Product set quantity ADD TO CART In Stock Notification On Notify When in Stock Sign in/up now Add to Wishlist Sign in/up now The maximum quantity per submit is 99999 This quantity is invalid, please enter a valid quantity. Sold Out Not enough stock. Your item was not added to your cart. Not enough stock. Please adjust your quantity. Limit {{ product.max_order_quantity }} per order. Only {{ quantityOfStock }} item(s) left. Please message the shop owner for order details. MESSAGE In Stock Notification On Notify When in Stock Sign in/up now Add to Wishlist Sign in/up now Share Description html PUBLIC \\\"-//W3C//DTD HTML 4.0 Transitional//EN\\\" \\\"http://www.w3.org/TR/REC-html40/loose.dtd\\\" Reagents for HI782 Checker HC\\u00ae Nitrate High in Seawater, 25 Tests Reagents for HI782 Checker\\u00ae HC for nitrate in seawater, high measuring range, 25 tests Related Products Hanna Marine Calcium Reagents HI758-26 (25 Tests) RM170.00 Hanna Marine Alkalinity (dKH) Checker HI772 RM380.00 Hanna Marine Phosphate Ultra Low Range Reagent HI774-25 (25 Tests) RM70.00 Hanna High Range Copper Checker HI702 RM350.00 2020 \\u00a9 AKUARIUM BATU KARANG LAUT SDN BHD \\\" Return Policy I Terms and Conditions \\\"\\n\\nJSON berdasarkan schema {\\n    \\\"name\\\": \\\"QAS\\\",\\n    \\\"description\\\": \\\"Correctly extracted `QAS` with all the required parameters with correct types\\\",\\n    \\\"parameters\\\": {\\n        \\\"$defs\\\": {\\n            \\\"QA\\\": {\\n                \\\"properties\\\": {\\n                    \\\"question\\\": {\\n                        \\\"type\\\": \\\"string\\\"\\n                    },\\n                    \\\"answer\\\": {\\n                        \\\"type\\\": \\\"string\\\"\\n                    }\\n                },\\n                \\\"required\\\": [\\n                    \\\"question\\\",\\n                    \\\"answer\\\"\\n                ],\\n                \\\"type\\\": \\\"object\\\"\\n            }\\n        },\\n        \\\"properties\\\": {\\n            \\\"qa\\\": {\\n                \\\"items\\\": {\\n                    \\\"$ref\\\": \\\"#/$defs/QA\\\"\\n                },\\n                \\\"type\\\": \\\"array\\\"\\n            }\\n        },\\n        \\\"required\\\": [\\n            \\\"qa\\\"\\n        ],\\n        \\\"type\\\": \\\"object\\\"\\n    }\\n}\", \"output\": \"{\\\"name\\\": \\\"QAS\\\", \\\"arguments\\\": {\\\"qa\\\": [{\\\"question\\\": \\\"Apakah reagen yang digunakan untuk HI782 Checker HC Nitrate High in Seawater?\\\", \\\"answer\\\": \\\"Reagen yang digunakan untuk HI782 Checker HC Nitrate High in Seawater adalah reagen untuk nitrat dalam air laut, rentang pengukuran tinggi, 25 ujian.\\\"}, {\\\"question\\\": \\\"Berapa harga untuk Hanna High Range Nitrate Checker Reagent HI782-25 (25 Tests)?\\\", \\\"answer\\\": \\\"Harga untuk Hanna High Range Nitrate Checker Reagent HI782-25 (25 Tests) adalah RM130.00.\\\"}, {\\\"question\\\": \\\"Apakah produk-produk yang dijual di kategori Water Testing?\\\", \\\"answer\\\": \\\"Produk-produk yang dijual di kategori Water Testing termasuk Hanna High Range Nitrate Checker Reagent HI782-25 (25 Tests), Hanna Marine Calcium Reagents HI758-26 (25 Tests), Hanna Marine Alkalinity (dKH) Checker HI772, dan Hanna Marine Phosphate Ultra Low Range Reagent HI774-25 (25 Tests).\\\"}]}}\"}\n",
      "\n",
      "{\"prompt_input\": null, \"input\": \"JSON berdasarkan schema {\\n    \\\"name\\\": \\\"QAS\\\",\\n    \\\"description\\\": \\\"Correctly extracted `QAS` with all the required parameters with correct types\\\",\\n    \\\"parameters\\\": {\\n        \\\"$defs\\\": {\\n            \\\"QA\\\": {\\n                \\\"properties\\\": {\\n                    \\\"question\\\": {\\n                        \\\"type\\\": \\\"string\\\"\\n                    },\\n                    \\\"answer\\\": {\\n                        \\\"type\\\": \\\"string\\\"\\n                    }\\n                },\\n                \\\"required\\\": [\\n                    \\\"question\\\",\\n                    \\\"answer\\\"\\n                ],\\n                \\\"type\\\": \\\"object\\\"\\n            }\\n        },\\n        \\\"properties\\\": {\\n            \\\"qa\\\": {\\n                \\\"items\\\": {\\n                    \\\"$ref\\\": \\\"#/$defs/QA\\\"\\n                },\\n                \\\"type\\\": \\\"array\\\"\\n            }\\n        },\\n        \\\"required\\\": [\\n            \\\"qa\\\"\\n        ],\\n        \\\"type\\\": \\\"object\\\"\\n    }\\n}\\n\\nMOST COMPLETE USED CAR SERVICES IN MALAYSIA !!! MOST COMPLETE USED CAR SERVICES IN MALAYSIA !!! ------------------------------------------------------------------- Call or Whatsapp Us: Show Phone Number 014-9341332 NICK Show Phone Number 012-9442404 HENRY ------------------------------------------------------------------- We Provide QUALITY AFTER-SALES SERVICES. We Provide QUALITY AFTER-SALES SERVICES. We Provide QUALITY AFTER-SALES SERVICES. ------------------------------------------------------------------- Call or Whatsapp Us: Show Phone Number 012-9711792 ALEX Show Phone Number 016-3968412 KING ------------------------------------------------------------------- SENG CARS WORLD SDN BHD CAR CONDITION Careful Owner Clean Interior and Exterior Low Mileage Excellent Condition Well Maintained Smooth Engine and Gearbox Transmission and Suspension Good ------------------------------------------------------------------- Call or Whatsapp Us: Show Phone Number 017-6066935 TC Show Phone Number 011-26533191 JOHARI ------------------------------------------------------------------- GUARANTEED SUPERB Condition Totally Like New Car , Buy And Drive. GUARANTEED SUPERB Condition Totally Like New Car , Buy And Drive. GUARANTEED SUPERB Condition Totally Like New Car , Buy And Drive. ------------------------------------------------------------------- Call or Whatsapp Us: Show Phone Number 019-9269326 KONG Show Phone Number 016-6048048 CALVIN ------------------------------------------------------------------- Showroom Location: SENG CARS WORLD SDN BHD [HQ BRANCH] Lot 725A Batu 12 1/2, Jalan cheras, 43000 Kajang. *Grand Saga Highway (Exit 707) *Sungai Sekamat (Opposite Bukit Dukung MRT Station) [SUNGAI LONG BRANCH] Plot 1, Jalan Besar, Sungai Long, Seksyen 5, Batu 11, Jalan Cheras, 43000 Kajang, Selangor. View More Transmission Transmission Automatic Number of Gears 6 General Doors 4 Seat Capacity 5 Assembled Official Import Engine Specifications Engine CC 3198 Peak Power (hp) 200 Peak Torque (Nm) 470 Engine Type Piston Direct Injection Direct Injection Aspiration Turbo intercooled Fuel Type Diesel Steering Steering Radius 12.4 Steering Type Rack and Pinion Dimensions & Weight Length (mm) 5362 Width (mm) 1860 Height (mm) 1815 Wheel Base (mm) 3220 Front Thread 1560 Rear Thread 1560 Kerb Weight (kg) 2010 Fuel Tank (litres) 80 Brakes Front Brakes Discs Rear Brakes Drums Suspensions Front Suspension Double Wishbone Rear Suspension Leaf Springs Tyres & Wheels Front Tyre 265/60 R18 Rear Tyre 265/60 R18 Front Rim (inches) 18 Rear Rim (inches) 18 Comfort Air-conditioning Air Conditioner - Dual Zone Auto Climate Control Leather steering Leather steering wheel Power steering Electric Power Steering (EPS) Other Bed Liner, Chrome Plated Door Mirror Cover, Roof rails, Side Steps, Sport Bar Convenience Auto headlamps Automatic headlights Auto wipers Wipers, Rain Sensing Cruise control Adaptive Cruise Control Hill start assist Hill Launch Assist (HLA) Power side mirror Electrically Folding and Adjustable Ext. Mirrors Power windows Power Windows with Driver one touch down Remote locking Keyless Entry Reverse camera Rear View Camera Steering wheel controls Steering wheel mounted audio control Other Exterior mirrors with puddle lamps Entertainment Aux AUX-IN connection Bluetooth Bluetooth connection iPod Radio/CD/MP3 with USB IPOD Connectivity, USB and iPod connectivity Multi function screen 8 inch colour Touch-screen display Speaker 'SYNC' Audio System, Audio- 6 Speakers Other Voice Recognition Lighting Brake lights High-mount rear stop lamp Front foglamps Fog lights, Front Headlamps Halogen headlamps LED Daytime running lights Daytime running lights Rear foglamps Fog Lights, Rear Side mirror turning indicators Side mirror turn indicator Safety ABS/EBD Anti-lock Braking System (ABS), Electronic Brake-Force Distribution (EBD), Emergency Brake Assist (EBA) Curtain Airbags Airbags/curtain, rear side Front Airbags Airbag, driver's,\", \"output\": \"{\\\"name\\\": \\\"QAS\\\", \\\"arguments\\\": {\\\"qa\\\": [{\\\"question\\\": \\\"Apakah perkhidmatan yang disediakan oleh SENG CARS WORLD SDN BHD?\\\", \\\"answer\\\": \\\"SENG CARS WORLD SDN BHD menyediakan perkhidmatan kereta terpakai yang lengkap termasuk perkhidmatan selepas jualan berkualiti.\\\"}, {\\\"question\\\": \\\"Di mana lokasi showroom SENG CARS WORLD SDN BHD?\\\", \\\"answer\\\": \\\"Showroom SENG CARS WORLD SDN BHD terletak di Lot 725A Batu 12 1/2, Jalan Cheras, 43000 Kajang dan Plot 1, Jalan Besar, Sungai Long, Seksyen 5, Batu 11, Jalan Cheras, 43000 Kajang, Selangor.\\\"}, {\\\"question\\\": \\\"Apakah spesifikasi enjin kereta yang dijual oleh SENG CARS WORLD SDN BHD?\\\", \\\"answer\\\": \\\"Enjin kereta yang dijual oleh SENG CARS WORLD SDN BHD mempunyai kapasiti 3198cc dengan kuasa puncak 200hp dan tork puncak 470Nm. Enjin ini menggunakan sistem injeksi langsung dan turbo intercooled dengan bahan api diesel.\\\"}]}}\"}\n",
      "\n",
      "{\"prompt_input\": null, \"input\": \"tukar ke JSON berdasarkan schema {\\n    \\\"name\\\": \\\"QAS\\\",\\n    \\\"description\\\": \\\"Correctly extracted `QAS` with all the required parameters with correct types\\\",\\n    \\\"parameters\\\": {\\n        \\\"$defs\\\": {\\n            \\\"QA\\\": {\\n                \\\"properties\\\": {\\n                    \\\"question\\\": {\\n                        \\\"type\\\": \\\"string\\\"\\n                    },\\n                    \\\"answer\\\": {\\n                        \\\"type\\\": \\\"string\\\"\\n                    }\\n                },\\n                \\\"required\\\": [\\n                    \\\"question\\\",\\n                    \\\"answer\\\"\\n                ],\\n                \\\"type\\\": \\\"object\\\"\\n            }\\n        },\\n        \\\"properties\\\": {\\n            \\\"qa\\\": {\\n                \\\"items\\\": {\\n                    \\\"$ref\\\": \\\"#/$defs/QA\\\"\\n                },\\n                \\\"type\\\": \\\"array\\\"\\n            }\\n        },\\n        \\\"required\\\": [\\n            \\\"qa\\\"\\n        ],\\n        \\\"type\\\": \\\"object\\\"\\n    }\\n}, teks `English \\u0627\\u0644\\u0639\\u0631\\u0628\\u064a\\u0629 Azerbaijani Catal\\u00e0 \\u4e2d\\u6587 Hrvatski \\u010ce\\u0161tina Dansk Nederlands English Estonian Persian Fran\\u00e7ais Deutsch \\u05e2\\u05d1\\u05e8\\u05d9\\u05ea Magyar Italiano Macedonian Norwegian Portugu\\u00eas Portugu\\u00eas Rom\\u00e2n\\u0103 \\u0420\\u0443\\u0441\\u0441\\u043a\\u0438\\u0439 Espa\\u00f1ol Svenska T\\u00fcrk\\u00e7e \\u0423\\u043a\\u0440\\u0430\\u0457\\u043d\\u0441\\u044c\\u043a\\u0430 Login Register View Cart Toggle navigation Home Store Browse All ----- Cloud Hosting Register a New Domain Transfer Domains to Us Announcements Knowledgebase Network Status Affiliates Contact Us Account Login Register ----- Forgot Password? Register Create an account with us . . . Portal Home Register Already Registered? Already registered with us? If so, click the button below to login to our client area from where you can manage your account. Login Lost Password Reset First Name Last Name Company Name Email Address Password New Password Rating: 0% Tips for a good password Use both upper and lowercase characters Include at least one symbol (# $ ! % & etc...) Don't use dictionary words Confirm Password Address 1 Address 2 City State/Region Zip Code Country Afghanistan Aland Islands Albania Algeria American Samoa Andorra Angola Anguilla Antarctica Antigua And Barbuda Argentina Armenia Aruba Australia Austria Azerbaijan Bahamas Bahrain Bangladesh Barbados Belarus Belgium Belize Benin Bermuda Bhutan Bolivia Bosnia And Herzegovina Botswana Bouvet Island Brazil British Indian Ocean Territory Brunei Darussalam Bulgaria Burkina Faso Burundi Cambodia Cameroon Canada Cape Verde Cayman Islands Central African Republic Chad Chile China Christmas Island Cocos (Keeling) Islands Colombia Comoros Congo Congo, Democratic Republic Cook Islands Costa Rica Cote D'Ivoire Croatia Cuba Curacao Cyprus Czech Republic Denmark Djibouti Dominica Dominican Republic Ecuador Egypt El Salvador Equatorial Guinea Eritrea Estonia Ethiopia Falkland Islands (Malvinas) Faroe Islands Fiji Finland France French Guiana French Polynesia French Southern Territories Gabon Gambia Georgia Germany Ghana Gibraltar Greece Greenland Grenada Guadeloupe Guam Guatemala Guernsey Guinea Guinea-Bissau Guyana Haiti Heard Island & Mcdonald Islands Holy See (Vatican City State) Honduras Hong Kong Hungary Iceland India Indonesia Iran, Islamic Republic Of Iraq Ireland Isle Of Man Israel Italy Jamaica Japan Jersey Jordan Kazakhstan Kenya Kiribati Korea Kuwait Kyrgyzstan Lao People's Democratic Republic Latvia Lebanon Lesotho Liberia Libyan Arab Jamahiriya Liechtenstein Lithuania Luxembourg Macao Macedonia Madagascar Malawi Malaysia Maldives Mali Malta Marshall Islands Martinique Mauritania Mauritius Mayotte Mexico Micronesia, Federated States Of Moldova Monaco Mongolia Montenegro Montserrat Morocco Mozambique Myanmar Namibia Nauru Nepal Netherlands Netherlands Antilles New Caledonia New Zealand Nicaragua Niger Nigeria Niue Norfolk Island Northern Mariana Islands Norway Oman Pakistan Palau Palestine, State of Panama Papua New Guinea Paraguay Peru Philippines Pitcairn Poland Portugal Puerto Rico Qatar Reunion Romania Russian Federation Rwanda Saint Barthelemy Saint Helena Saint Kitts And Nevis Saint Lucia Saint Martin Saint Pierre And Miquelon Saint Vincent And Grenadines Samoa San Marino Sao Tome And Principe Saudi Arabia Senegal Serbia Seychelles Sierra Leone Singapore Slovakia Slovenia Solomon Islands Somalia South Africa South Georgia And Sandwich Isl. Spain Sri Lanka Sudan Suriname Svalbard And Jan Mayen Swaziland Sweden Switzerland Syrian Arab Republic Taiwan Tajikistan Tanzania Thailand Timor-Leste Togo Tokelau Tonga Trinidad And Tobago Tunisia Turkey Turkmenistan Turks And Caicos Islands Tuvalu Uganda Ukraine United Arab Emirates United Kingdom United States United States Outlying Islands Uruguay Uzbekistan Vanuatu Venezuela Viet Nam Virgin Islands, British Virgin Islands, U.S. Wallis And Futuna Western Sahara Yemen Zambia Zimbabwe Phone Number Please enter the characters you see in the image below into the text box provided. This is required to prevent automated submissions. Powered by WHMCompleteSolution Copyright \\u00a9 2023 ADSA Solutions Sdn. Bhd. (1314574-V). All Rights Reserved. \\u00d7 Close Title Loading... Loading... Close Submit`\", \"output\": \"{\\\"name\\\": \\\"QAS\\\", \\\"arguments\\\": {\\\"qa\\\": [{\\\"question\\\": \\\"Apakah yang perlu dilakukan untuk mendaftar akaun dengan ADSA Solutions Sdn. Bhd.?\\\", \\\"answer\\\": \\\"Pengguna perlu mengisi borang pendaftaran yang disediakan di Portal Home ADSA Solutions Sdn. Bhd.\\\"}, {\\\"question\\\": \\\"Apakah yang perlu diambil kira semasa membuat kata laluan?\\\", \\\"answer\\\": \\\"Pengguna perlu menggunakan huruf besar dan kecil, simbol dan tidak menggunakan perkataan dalam kamus.\\\"}, {\\\"question\\\": \\\"Bagaimana untuk menguruskan akaun selepas mendaftar?\\\", \\\"answer\\\": \\\"Pengguna boleh login ke kawasan pelanggan untuk menguruskan akaun mereka.\\\"}]}}\"}\n",
      "\n",
      "{\"prompt_input\": null, \"input\": \"teks `SOBAT TWITTER SESEORANG BUTUH BANTUAN KITA SEMUA!\\n-------------\\njadi di daerah Sukawening, Garut. Ada seroang lansia berusia 65 tahun , namanya Mak Ade masriah dan abah warsa (73 thn).  Beliau berdua tinggal di bawah rumah yang bahkan udah benar-benar mau ROBOH. https://t.co/HzbStdyyGa`, terjemah ke standard malay\", \"output\": \"SEORANG KAWAN TWITTER MEMERLUKAN BANTUAN KITA SEMUA!\\n-------------\\nJadi di kawasan Sukawening, Garut. Ada seorang warga tua berusia 65 tahun, bernama Mak Ade Masriah dan Abah Warsa (73 tahun). Mereka berdua tinggal di bawah sebuah rumah yang bahkan benar-benar akan RUNTUH. https://t.co/HzbStdyyGa\"}\n",
      "\n",
      "{\"prompt_input\": null, \"input\": \"teks: GOLLLL MUFC!!!!!!!!!!\\nLIGA SUPER MALAYSIA 2022\\n\\nPerlawanan #LS6\\n(Jumaat, 6 Mei 2022, Stadium Darul Aman, Alor Setar)\\n\\nKEPUTUSAN SEMASA\\n--------\\nKEDAH DARUL AMAN FC (1) - (1) MELAKA UNITED FC\\n\\n Ronald Ngah 20'\\n\\n Ifedayo Olusegun 23'\\n\\n#LigaSuper2022\\n#MelakaUnitedFC2022 https://t.co/LdVv5FoUIn\\nterjemah ke bahasa inggeris standard dan standard malay\", \"output\": \"Bahasa Melayu: GOLLLL MUFC!!!!!!!!!!\\nLIGA SUPER MALAYSIA 2022\\n\\nPerlawanan #LS6\\n(Jumaat, 6 Mei 2022, Stadium Darul Aman, Alor Setar)\\n\\nKEPUTUSAN SEMASA\\n--------\\nKEDAH DARUL AMAN FC (1) - (1) MELAKA UNITED FC\\n\\nRonald Ngah 20'\\n\\nIfedayo Olusegun 23'\\n\\n#LigaSuper2022\\n#MelakaUnitedFC2022 https://t.co/LdVv5FoUIn\\nBahasa Inggeris: GOOOOAL MUFC!!!!!!!!!!\\nMALAYSIA SUPER LEAGUE 2022\\n\\nMatch #LS6\\n(Friday, May 6, 2022, Darul Aman Stadium, Alor Setar)\\n\\nCURRENT RESULT\\n--------\\nKEDAH DARUL AMAN FC (1) - (1) MELAKA UNITED FC\\n\\nRonald Ngah 20'\\n\\nIfedayo Olusegun 23'\\n\\n#LigaSuper2022\\n#MelakaUnitedFC2022 https://t.co/LdVv5FoUIn\"}\n",
      "\n",
      "{\"prompt_input\": null, \"input\": \"translate to inggeris standard dan bahasa melayu standard, text `PERJANJIAN GHAIB\\n(Part 1)\\n\\nHOROR (T)HREAD\\n-------------------------\\n@IDN_Horor \\n@ceritaht \\n@bacahorror \\n@Penikmathorror \\n@bagihorror \\n\\n#pusarawaktu #threadhoror #bacahorror #kisahhoror https://t.co/wvoE4ZOnko`, return in JSON {'en', 'ms', 'original'}\", \"output\": \"{\\\"en\\\": \\\"SECRET AGREEMENT\\\\n(Part 1)\\\\n\\\\nHORROR THREAD\\\\n-------------------------\\\\n@IDN_Horor \\\\n@ceritaht \\\\n@bacahorror \\\\n@Penikmathorror \\\\n@bagihorror \\\\n\\\\n#pusarawaktu #threadhoror #bacahorror #kisahhoror https://t.co/wvoE4ZOnko\\\", \\\"ms\\\": \\\"PERJANJIAN GHAIB\\\\n(Bahagian 1)\\\\n\\\\nHOROR (T)HREAD\\\\n-------------------------\\\\n@IDN_Horor \\\\n@ceritaht \\\\n@bacahorror \\\\n@Penikmathorror \\\\n@bagihorror \\\\n\\\\n#pusarawaktu #threadhoror #bacahorror #kisahhoror https://t.co/wvoE4ZOnko\\\", \\\"original\\\": \\\"PERJANJIAN GHAIB\\\\n(Part 1)\\\\n\\\\nHOROR (T)HREAD\\\\n-------------------------\\\\n@IDN_Horor \\\\n@ceritaht \\\\n@bacahorror \\\\n@Penikmathorror \\\\n@bagihorror \\\\n\\\\n#pusarawaktu #threadhoror #bacahorror #kisahhoror https://t.co/wvoE4ZOnko\\\"}\"}\n",
      "\n",
      "{\"prompt_input\": null, \"input\": \"teks: Penghalau nyamuk biasanya mempunyai kandungan aktif berikut: DEET, sulingan minyak Catnip - Nepetalactone, Citronella atau sulingan minyak eucalyptus.  --------- setiap ahli wajib ade alat ini keyh\\nterjemah ke standard english dan standard malay, bagi dalam JSON {'english', 'malay', 'original'}\", \"output\": \"{\\\"english\\\": \\\"Mosquito repellents usually contain the following active ingredients: DEET, Catnip oil extract - Nepetalactone, Citronella or Eucalyptus oil extract. Every individual should have this tool.\\\", \\\"malay\\\": \\\"Penghalau nyamuk biasanya mengandungi bahan aktif berikut: DEET, ekstrak minyak Catnip - Nepetalactone, Citronella atau ekstrak minyak Eucalyptus. Setiap individu perlu mempunyai alat ini.\\\", \\\"original\\\": \\\"Penghalau nyamuk biasanya mempunyai kandungan aktif berikut: DEET, sulingan minyak Catnip - Nepetalactone, Citronella atau sulingan minyak eucalyptus.  --------- setiap ahli wajib ade alat ini keyh\\\"}\"}\n",
      "\n",
      "{\"prompt_input\": null, \"input\": \"terjemah ke bahasa inggeris standard dan bahasa melayu standard, bagi dalam bentuk JSON {'left', 'ms', 'en'}, teks `pasal hal2 perumahan ko leh tanya kat sini -------------> http://mforum2.cari.com.my/forum.php?mod=viewthread&tid=202085&extra=page%3D1`\", \"output\": \"{\\\"en\\\": \\\"Translate and expand the topic of housing-related questions that you can ask here -> http://mforum2.cari.com.my/forum.php?mod=viewthread&tid=202085&extra=page%3D1\\\", \\\"ms\\\": \\\"Terjemahkan dan kembangkan topik pertanyaan terkait perumahan yang dapat Anda tanyakan di sini -> http://mforum2.cari.com.my/forum.php?mod=viewthread&tid=202085&extra=page%3D1\\\", \\\"left\\\": \\\"pasal hal2 perumahan ko leh tanya kat sini -------------> http://mforum2.cari.com.my/forum.php?mod=viewthread&tid=202085&extra=page%3D1\\\"}\"}\n",
      "\n",
      "{\"prompt_input\": null, \"input\": \"translate to inggeris standard dan melayu standard, text `Macammana nak buat ek.. bila tak ketat maka kuranglah sedap..  any suggestions?  Ini pertanyaan ikhlas nih..  -----------  p.s- maybe ada hikmahnya lelaki bole kahwin empat..  me ngan tak ikhlas jawab..  kalau u banyak duit tanpa hadapi masalah kenaikan harga minyak  hantarlah buat cosmetik surgery bagi ketat mana patut..  kalau tak.. buat bodo ajelah..  bukan masalah pun..  p/s - tak da hikmahnya kahwin 4 semata mata kerana ketat tu..  nampak sgt lari dr konsep poligami..`, return in JSON {'english', 'malay', 'text'}\", \"output\": \"{\\\"english\\\": \\\"How to do it? If it's not tight, then it's less enjoyable. Any suggestions? This is a sincere question. P.S. Maybe there is a benefit for men to marry four wives. I'm not sincerely answering. If you have a lot of money and don't face problems with rising oil prices, then go for cosmetic surgery to tighten wherever necessary. If not, just act foolish. It's not a problem. P.S. There is no benefit in marrying four wives solely for the purpose of tightness. It clearly deviates from the concept of polygamy.\\\", \\\"malay\\\": \\\"Bagaimana untuk melakukannya? Jika tidak ketat, maka kurang menyenangkan. Ada cadangan? Ini adalah pertanyaan yang ikhlas. P.S. Mungkin ada manfaat bagi lelaki untuk berkahwin dengan empat isteri. Saya tidak menjawab dengan ikhlas. Jika anda mempunyai banyak wang dan tidak menghadapi masalah kenaikan harga minyak, maka lakukan pembedahan kosmetik untuk menguatkan di mana perlu. Jika tidak, berlagaklah bodoh. Ini bukan masalah. P.S. Tidak ada manfaat dalam berkahwin dengan empat isteri semata-mata kerana ketat. Ia jelas menyimpang dari konsep poligami.\\\", \\\"text\\\": \\\"Macammana nak buat ek.. bila tak ketat maka kuranglah sedap..  any suggestions?  Ini pertanyaan ikhlas nih..  -----------  p.s- maybe ada hikmahnya lelaki bole kahwin empat..  me ngan tak ikhlas jawab..  kalau u banyak duit tanpa hadapi masalah kenaikan harga minyak  hantarlah buat cosmetik surgery bagi ketat mana patut..  kalau tak.. buat bodo ajelah..  bukan masalah pun..  p/s - tak da hikmahnya kahwin 4 semata mata kerana ketat tu..  nampak sgt lari dr konsep poligami..\\\"}\"}\n",
      "\n",
      "{\"prompt_input\": null, \"input\": \"translate to standard english, text `TRIVIA TTG FILEM INI..  ---------tajuk asalnya ialah \\\"RETROPOLIS\\\"  ---------ada adegan yg kelako yg diceduk drpd scenes2 tertentu cam filem \\\"FINDING NEMO\\\", \\\"ALADDIN\\\" & \\\"JAWS\\\"  ---------filem nih guna software yg dicipta utk mencantikkan scene arnab2 yg terapung dalam filem kartun tanah liat, \\\"WALLACE & GROMIT THE CURSE OF THE WERE RABBIT\\\"`\", \"output\": \"TRIVIA ABOUT THIS FILM.. The original title of this film is \\\"RETROPOLIS\\\". There are funny scenes taken from certain movies like \\\"FINDING NEMO\\\", \\\"ALADDIN\\\", and \\\"JAWS\\\". This film uses a software created to enhance the floating rabbit scenes in the claymation film, \\\"WALLACE & GROMIT THE CURSE OF THE WERE RABBIT\\\".\"}\n",
      "\n",
      "{\"prompt_input\": null, \"input\": \"terjemah ke bahasa inggeris standard dan bahasa melayu standard, bagi dalam bentuk JSON {'left', 'ms', 'en'}, teks `Saya mempunyai sepasang mata yang kuning, keruh dan kotor (mata putih) .. saya tak pasti macam mana boleh terjadi sebab masa kecik mata saya putih jernih cam bi ..  ---------------------------------------------------------------------  Faktor toksik yg byk dalam darah juga mempengaruhi keadaan mata tu.Saya sarankan saudari/saudara minum susu IgG untuk memulihkan sistem metabolisme dalam badan.Bukan ubat tapi antibodi untuk lawan.rawat penyakit yg ada.Wasalam  ALLAH maha hebat  Ikhlas dari saya`\", \"output\": \"{\\\"en\\\": \\\"I have a pair of yellow, cloudy, and dirty eyes (white part).. I'm not sure how it happened because when I was little, my eyes were clear like glass.. Toxic factors in the blood also affect the condition of the eyes. I suggest you drink IgG milk to restore the body's metabolism system. It's not medicine but antibodies to fight and treat existing diseases. May peace be upon you. Allah is great. Sincerely, from me.\\\", \\\"ms\\\": \\\"Saya mempunyai sepasang mata yang kuning, keruh dan kotor (mata putih).. Saya tidak pasti bagaimana ia berlaku kerana semasa saya kecil, mata saya jernih seperti kaca.. Faktor toksik dalam darah juga mempengaruhi keadaan mata tersebut. Saya mencadangkan saudari/saudara minum susu IgG untuk memulihkan sistem metabolisme dalam badan. Ia bukan ubat tetapi antibodi untuk melawan dan merawat penyakit yang ada. Semoga sejahtera. Allah maha hebat. Ikhlas dari saya.\\\", \\\"left\\\": \\\"Saya mempunyai sepasang mata yang kuning, keruh dan kotor (mata putih) .. saya tak pasti macam mana boleh terjadi sebab masa kecik mata saya putih jernih cam bi ..  ---------------------------------------------------------------------  Faktor toksik yg byk dalam darah juga mempengaruhi keadaan mata tu.Saya sarankan saudari/saudara minum susu IgG untuk memulihkan sistem metabolisme dalam badan.Bukan ubat tapi antibodi untuk lawan.rawat penyakit yg ada.Wasalam  ALLAH maha hebat  Ikhlas dari saya\\\"}\"}\n",
      "\n",
      "{\"prompt_input\": null, \"input\": \"translate to inggeris standard dan bahasa melayu standard\\n\\nteks: bbu ---------->BANDAR BARU UDA  area org melayu kaya\", \"output\": \"Bahasa Melayu: bbu ---------->Kawasan BANDAR BARU UDA komuniti Melayu yang kaya\\nBahasa Inggeris: bbu ---------->BANDAR BARU UDA area rich Malay community\"}\n",
      "\n",
      "{\"prompt_input\": null, \"input\": \"teks `hmmmm tak yah la byk critique pasal nie gambar..lagi better dr Joe Jonasn punya single ladies la..  Anyways..kourtney melahirkan baby boy..nama dia.. ----- Dash Disick..first name ndak ingat leerrr`, terjemah ke bahasa inggeris standard dan melayu standard\", \"output\": \"Bahasa Melayu: Hmmmm, tak perlu banyak kritikan tentang gambar ini... malah lebih baik daripada single ladies milik Joe Jonas. Bagaimanapun, Kourtney melahirkan seorang bayi lelaki... namanya Dash Disick. Saya tak ingat nama pertamanya.\\nBahasa Inggeris: Hmmmm, there's no need to criticize this picture too much... it's even better than Joe Jonas' single ladies. Anyways, Kourtney gave birth to a baby boy... his name is Dash Disick. I can't remember his first name.\"}\n",
      "\n",
      "{\"prompt_input\": null, \"input\": \"terjemah ke bahasa inggeris standard dan standard malay, bagi dalam bentuk JSON {'english', 'malay', 'text'}, teks `an understatement  ------------------------  you look at me like never before  sparkling, glistening of the eyes  that comes from a beautiful soul  the same one I yearn as a whole  conspicously  you came to me like never before  telephone lines, waves of current  I love you for what I am not  Did not have what I have got  unconditionally  my soul wrinkled to the sound of time  dazed by the shimmering of everything  waited for a miracle to befall  and that miracle is you, you and you.`\", \"output\": \"{\\\"english\\\": \\\"An understatement - you look at me like never before, with sparkling and glistening eyes that emanate from a beautiful soul, the very same one I long for completely. Conspicuously, you approached me like never before, through telephone lines and waves of current. I love you for what I am not, for not having what I now possess, unconditionally. My soul becomes wrinkled with the passing of time, bewildered by the shimmering of everything. I waited for a miracle to happen, and that miracle is you, you and you.\\\", \\\"malay\\\": \\\"Satu pernyataan yang merendahkan - engkau melihatku seperti tidak pernah sebelumnya, dengan mata yang berkilauan dan bersinar yang berasal dari jiwa yang indah, jiwa yang sama yang kucari sepenuhnya. Dengan mencolok, engkau mendekatiku seperti tidak pernah sebelumnya, melalui jalur telepon dan gelombang arus. Aku mencintaimu karena apa yang aku bukan, karena tidak memiliki apa yang kini aku miliki, tanpa syarat. Jiwaku menjadi keriput dengan berjalannya waktu, bingung oleh kilauan segala sesuatu. Aku menunggu keajaiban terjadi, dan keajaiban itu adalah engkau, engkau dan engkau.\\\", \\\"text\\\": \\\"an understatement  ------------------------  you look at me like never before  sparkling, glistening of the eyes  that comes from a beautiful soul  the same one I yearn as a whole  conspicously  you came to me like never before  telephone lines, waves of current  I love you for what I am not  Did not have what I have got  unconditionally  my soul wrinkled to the sound of time  dazed by the shimmering of everything  waited for a miracle to befall  and that miracle is you, you and you.\\\"}\"}\n",
      "\n",
      "{\"prompt_input\": null, \"input\": \"teks: #BeritaMakmurJohor TROPICANA SUMBANG RM300,000, 6 MESIN EKG Berita selanjutnya di ------ Dapatkan berita terkini tentang Kerajaan Negeri Johor dengan menyertai telegram Makmur Johor Official.\\nkelaskan sentimen [negative, positive, neutral] dan terangkan sebab dalam standard malay\", \"output\": \"Sentimen: positive\\nKeterangan: Teks ini dikategorikan sebagai positif kerana Tropicana telah menyumbang RM300,000 dan 6 mesin EKG, yang merupakan sumbangan yang murah hati. Teks ini juga menggalakkan pembaca untuk kekal terkini dengan berita berkaitan kerajaan negeri Johor melalui saluran telegram Rasmi Makmur Johor.\"}\n",
      "\n",
      "{\"prompt_input\": null, \"input\": \"teks: SEOKJIN-------\\nkelaskan sentimen [negative, positive, neutral] dan terangkan sebab dalam inggeris standard dan standard malay, bagi dalam JSON {'terang_en', 'terang_ms', 'teks', 'sentimen'}\", \"output\": \"{\\\"terang_en\\\": \\\"The text 'SEOKJIN-------' does not convey any clear positive or negative sentiment. It is simply a name or identifier.\\\", \\\"terang_ms\\\": \\\"Teks 'SEOKJIN-------' tidak mengandungi sebarang sentimen positif atau negatif yang jelas. Ia hanyalah nama atau pengenal.\\\", \\\"teks\\\": \\\"SEOKJIN-------\\\", \\\"sentimen\\\": \\\"neutral\\\"}\"}\n",
      "\n"
     ]
    }
   ],
   "source": [
    "with open('combine-malay-no-alignment-multitasks-v6.jsonl') as fopen:\n",
    "    for l in fopen:\n",
    "        if '-----' in l:\n",
    "            print(l)"
   ]
  },
  {
   "cell_type": "code",
   "execution_count": 47,
   "id": "b2faf5ff",
   "metadata": {},
   "outputs": [],
   "source": [
    "import pandas as pd\n",
    "import json\n",
    "\n",
    "df = pd.read_parquet('train-00000-of-00001-00f675544b8b0fab.parquet')"
   ]
  },
  {
   "cell_type": "code",
   "execution_count": 48,
   "id": "90c0809c",
   "metadata": {},
   "outputs": [],
   "source": [
    "with open('extra.jsonl', 'w') as fopen:\n",
    "\n",
    "    for i in range(len(df)):\n",
    "        d = {\n",
    "            'prompt_input': None,\n",
    "            'input': df['prompt'].iloc[i],\n",
    "            'output': df['chosen'].iloc[i]\n",
    "        }\n",
    "        fopen.write(f'{json.dumps(d)}\\n')"
   ]
  },
  {
   "cell_type": "code",
   "execution_count": 49,
   "id": "b4d3f16b",
   "metadata": {},
   "outputs": [],
   "source": [
    "!cat combine-malay-no-alignment-multitasks-v6.jsonl extra.jsonl > shuf-combine-malay-no-alignment-multitasks-v6.jsonl"
   ]
  },
  {
   "cell_type": "code",
   "execution_count": 50,
   "id": "280eb340",
   "metadata": {},
   "outputs": [
    {
     "name": "stdout",
     "output_type": "stream",
     "text": [
      "3975948 shuf-combine-malay-no-alignment-multitasks-v6.jsonl\r\n"
     ]
    }
   ],
   "source": [
    "!wc -l shuf-combine-malay-no-alignment-multitasks-v6.jsonl"
   ]
  },
  {
   "cell_type": "code",
   "execution_count": 51,
   "id": "827d2d3f",
   "metadata": {},
   "outputs": [
    {
     "name": "stdout",
     "output_type": "stream",
     "text": [
      "{\"prompt_input\": null, \"input\": \"[\", \"output\": \"Persamaan kosinus antara dua vektor A dan B ditakrifkan sebagai hasil darab titik A dan B dibahagikan dengan hasil darab magnitudnya. Ia mengukur persamaan antara dua vektor dengan mengukur kosinus sudut di antara mereka.\\n\\nSecara matematik, persamaan kosinus antara vektor A dan B boleh dikira menggunakan formula berikut:\\n\\nkosinus_similarity(A, B) = (A \\u2022 B) / (||A|| * ||B||)\\n\\ndi mana A \\u2022 B mewakili hasil darab titik A dan B, dan ||A|| dan ||B|| mewakili magnitud (atau norma Euclidean) A dan B, masing-masing.\\n\\nPersamaan kosinus berjulat dari -1 hingga 1, di mana -1 menunjukkan vektor bertentangan secara diametrik (iaitu, sama sekali tidak serupa), 1 menunjukkan ia sama, dan 0 menunjukkan ia adalah ortogonal (iaitu, tidak mempunyai persamaan).\"}\r\n"
     ]
    }
   ],
   "source": [
    "!tail -n 1 shuf-combine-malay-no-alignment-multitasks-v6.jsonl"
   ]
  },
  {
   "cell_type": "code",
   "execution_count": 64,
   "id": "9c412e7e",
   "metadata": {},
   "outputs": [
    {
     "data": {
      "application/vnd.jupyter.widget-view+json": {
       "model_id": "3728f13be73e44e5bc6564e72a815831",
       "version_major": 2,
       "version_minor": 0
      },
      "text/plain": [
       "shuf-combine-malay-no-alignment-multitasks-v6.jsonl:   0%|          | 0.00/11.8G [00:00<?, ?B/s]"
      ]
     },
     "metadata": {},
     "output_type": "display_data"
    },
    {
     "data": {
      "text/plain": [
       "CommitInfo(commit_url='https://huggingface.co/datasets/mesolitica/instructions-dataset/commit/1bfb5b88f56a73936b3bfc6e0fe85d7261c47e79', commit_message='Upload shuf-combine-malay-no-alignment-multitasks-v6.jsonl with huggingface_hub', commit_description='', oid='1bfb5b88f56a73936b3bfc6e0fe85d7261c47e79', pr_url=None, pr_revision=None, pr_num=None)"
      ]
     },
     "execution_count": 64,
     "metadata": {},
     "output_type": "execute_result"
    }
   ],
   "source": [
    "from huggingface_hub import HfApi\n",
    "api = HfApi()\n",
    "api.upload_file(\n",
    "    path_or_fileobj='shuf-combine-malay-no-alignment-multitasks-v6.jsonl',\n",
    "    path_in_repo='shuf-combine-malay-no-alignment-multitasks-v6.jsonl',\n",
    "    repo_id='mesolitica/instructions-dataset',\n",
    "    repo_type='dataset',\n",
    ")"
   ]
  },
  {
   "cell_type": "code",
   "execution_count": 53,
   "id": "b9503be9",
   "metadata": {},
   "outputs": [
    {
     "data": {
      "text/plain": [
       "125041"
      ]
     },
     "execution_count": 53,
     "metadata": {},
     "output_type": "execute_result"
    }
   ],
   "source": [
    "len(indons)"
   ]
  },
  {
   "cell_type": "code",
   "execution_count": 63,
   "id": "ffaeaad8",
   "metadata": {},
   "outputs": [
    {
     "data": {
      "text/plain": [
       "('Level ini berada di atas optimisme pebisnis Asean yang memiliki skor 64%, dan rerata di Asia Pasifik hanya 55%.',\n",
       " 'bisnis')"
      ]
     },
     "execution_count": 63,
     "metadata": {},
     "output_type": "execute_result"
    }
   ],
   "source": [
    "indons[6]"
   ]
  }
 ],
 "metadata": {
  "kernelspec": {
   "display_name": "Python 3 (ipykernel)",
   "language": "python",
   "name": "python3"
  },
  "language_info": {
   "codemirror_mode": {
    "name": "ipython",
    "version": 3
   },
   "file_extension": ".py",
   "mimetype": "text/x-python",
   "name": "python",
   "nbconvert_exporter": "python",
   "pygments_lexer": "ipython3",
   "version": "3.8.10"
  }
 },
 "nbformat": 4,
 "nbformat_minor": 5
}
