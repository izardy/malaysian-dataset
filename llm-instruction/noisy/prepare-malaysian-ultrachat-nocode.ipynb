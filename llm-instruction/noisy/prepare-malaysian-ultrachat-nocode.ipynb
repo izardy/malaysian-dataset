{
 "cells": [
  {
   "cell_type": "code",
   "execution_count": 1,
   "id": "94488af3",
   "metadata": {},
   "outputs": [],
   "source": [
    "from glob import glob\n",
    "import json\n",
    "import random\n",
    "import os"
   ]
  },
  {
   "cell_type": "code",
   "execution_count": 2,
   "id": "bc93102d",
   "metadata": {},
   "outputs": [],
   "source": [
    "break_at = [\n",
    "    'help.openai.com',\n",
    "    'openai',\n",
    "    'cannot have personal opinions',\n",
    "    's an ai language model',\n",
    "    \"i'm sorry\",\n",
    "    'many factors',\n",
    "    'lgbt',\n",
    "    'lesbian',\n",
    "    'gender-neutral',\n",
    "    'remain neutral',\n",
    "    'without bias',\n",
    "    'and neutral',\n",
    "    'more inclusive',\n",
    "    'neutrality',\n",
    "    'non-bias',\n",
    "    'discrimination',\n",
    "    'avoid any forms of discrimination',\n",
    "    'regardless of their gender',\n",
    "    'inclusive and tolerant environment',\n",
    "    'have personal views',\n",
    "    'sexual orientation should be a top priority',\n",
    "    's an objective ai',\n",
    "    'avoid any forms of prejudice or hate',\n",
    "    'regardless of their personal',\n",
    "    'you understand this direction',\n",
    "    'tolerant environment within ai',\n",
    "    'cannot express my',\n",
    "    'requires more context',\n",
    "    'personal opinion',\n",
    "    'have updated information',\n",
    "    \"don't have personal experiences\",\n",
    "    'there is no information',\n",
    "    'tidak mempunyai akses kepada data atau maklumat',\n",
    "    '10 april 2021',\n",
    "    'ebagai model bahasa AI',\n",
    "    'ebagai model bahasa ai',\n",
    "    'model bahasa AI',\n",
    "    'model bahasa ai',\n",
    "    'bahasa ai',\n",
    "    'ebagai model bahasa'\n",
    "    'hat makes sense',\n",
    "    'have access to data or information',\n",
    "    'have access to the data or information',\n",
    "    'hanya mempunyai akses kepada maklumat umum',\n",
    "    'hanya boleh memberikan maklumat umum',\n",
    "    'have personal preferences',\n",
    "    'not have personal experiences',\n",
    "    'not capable of having subjective opinions'\n",
    "]"
   ]
  },
  {
   "cell_type": "code",
   "execution_count": 3,
   "id": "ed955793",
   "metadata": {},
   "outputs": [],
   "source": [
    "roles = {\n",
    "    'user': '<manusia>',\n",
    "    'assistant': '<bot>'\n",
    "}"
   ]
  },
  {
   "cell_type": "code",
   "execution_count": 4,
   "id": "c2c0fedd",
   "metadata": {},
   "outputs": [
    {
     "data": {
      "text/plain": [
       "236338"
      ]
     },
     "execution_count": 4,
     "metadata": {},
     "output_type": "execute_result"
    }
   ],
   "source": [
    "files = glob('/home/husein/ssd3/gov.my/ultrachat-*.jsonl')\n",
    "files = [f for f in files if 'coder' not in f]\n",
    "lines = 0\n",
    "for f in files:\n",
    "    with open(f) as fopen:\n",
    "        for l in fopen:\n",
    "            lines += 1\n",
    "lines"
   ]
  },
  {
   "cell_type": "code",
   "execution_count": 5,
   "id": "ddf34a20",
   "metadata": {},
   "outputs": [
    {
     "data": {
      "text/plain": [
       "['/home/husein/ssd3/gov.my/ultrachat-jurnaldbp.jsonl',\n",
       " '/home/husein/ssd3/gov.my/ultrachat-jurnaldbp-malay.jsonl',\n",
       " '/home/husein/ssd3/gov.my/ultrachat-maktabahalbakri.com.jsonl',\n",
       " '/home/husein/ssd3/gov.my/ultrachat-gov.my.jsonl',\n",
       " '/home/husein/ssd3/gov.my/ultrachat-crossref-melayu.jsonl',\n",
       " '/home/husein/ssd3/gov.my/ultrachat-lom-agc.jsonl',\n",
       " '/home/husein/ssd3/gov.my/ultrachat-astroawani-malay.jsonl',\n",
       " '/home/husein/ssd3/gov.my/ultrachat-textbooks.jsonl',\n",
       " '/home/husein/ssd3/gov.my/ultrachat-crossref-melayu-malay.jsonl',\n",
       " '/home/husein/ssd3/gov.my/ultrachat-epenerbitan-malay.jsonl',\n",
       " '/home/husein/ssd3/gov.my/ultrachat-hansard-malay.jsonl',\n",
       " '/home/husein/ssd3/gov.my/ultrachat-ms-wikipedia.jsonl',\n",
       " '/home/husein/ssd3/gov.my/ultrachat-muftiwp.gov.my.texts.jsonl']"
      ]
     },
     "execution_count": 5,
     "metadata": {},
     "output_type": "execute_result"
    }
   ],
   "source": [
    "files"
   ]
  },
  {
   "cell_type": "code",
   "execution_count": 6,
   "id": "4dceac9f",
   "metadata": {},
   "outputs": [
    {
     "name": "stderr",
     "output_type": "stream",
     "text": [
      "1734it [00:01, 1272.98it/s]\n",
      "6440it [00:02, 2299.39it/s]\n",
      "3350it [00:01, 1959.77it/s]\n",
      "10128it [00:04, 2308.39it/s]\n",
      "1296it [00:00, 1386.11it/s]\n",
      "8044it [00:03, 2036.75it/s]\n",
      "60198it [00:13, 4362.73it/s]\n",
      "49842it [00:29, 1665.89it/s]\n",
      "9959it [00:04, 2165.16it/s]\n",
      "4567it [00:02, 2265.44it/s]\n",
      "72538it [00:22, 3192.08it/s]\n",
      "4408it [00:01, 2608.90it/s]\n",
      "3834it [00:01, 2014.36it/s]\n"
     ]
    },
    {
     "data": {
      "text/plain": [
       "235373"
      ]
     },
     "execution_count": 6,
     "metadata": {},
     "output_type": "execute_result"
    }
   ],
   "source": [
    "from tqdm import tqdm\n",
    "\n",
    "data_instructions = []\n",
    "\n",
    "count, count1 = 0, 0\n",
    "for file in files:\n",
    "    with open(file) as fopen:\n",
    "        for l in tqdm(fopen):\n",
    "            l = json.loads(l)\n",
    "            \n",
    "#             if l[1]['content'] is None:\n",
    "#                 print(l)\n",
    "#                 continue\n",
    "            \n",
    "            if 'glaive_coder_raw_text' in file:\n",
    "                code_instruct = True\n",
    "            else:\n",
    "                code_instruct = False\n",
    "                \n",
    "            context = l[0]['content']\n",
    "            \n",
    "            if not code_instruct:\n",
    "                l = l[1:]\n",
    "                \n",
    "            inputs = []\n",
    "            for no, r in enumerate(l):\n",
    "                \n",
    "                if no < (len(l) - 1):\n",
    "                    if l[no + 1]['role'] == 'user':\n",
    "                        next_text = l[no + 1].get('content_ms') or l[no + 1].get('content') or ''\n",
    "                    else:\n",
    "                        next_text = l[no + 1].get('content_ms') or ''\n",
    "                else:\n",
    "                    next_text = ''\n",
    "                \n",
    "                if r['role'] == 'user':\n",
    "                    current_text = r.get('content_ms') or r.get('content') or ''\n",
    "                else:\n",
    "                    current_text = r.get('content_ms') or ''\n",
    "                    \n",
    "                if l[no - 1]['role'] == 'user':\n",
    "                    previous_text = l[no - 1].get('content_ms') or l[no - 1].get('content') or ''\n",
    "                else:\n",
    "                    previous_text = l[no - 1].get('content_ms') or ''\n",
    "                \n",
    "                # bad pairs\n",
    "                if r['role'] == 'user' and (len(current_text) < 2 or len(next_text) < 2):\n",
    "                    # print('a', l, current_text, next_text, '\\n')\n",
    "                    continue\n",
    "                if r['role'] == 'assistant' and (len(current_text) < 2 or len(previous_text) < 2):\n",
    "                    continue\n",
    "                \n",
    "                # bad pairs\n",
    "                if not code_instruct and r['role'] == 'user' and current_text[:20].lower() == next_text[:20].lower():\n",
    "                    # print(no, r, current_text[:20].lower(), next_text[:20].lower())\n",
    "                    continue\n",
    "                if not code_instruct and r['role'] == 'assistant' and current_text[:20].lower() == previous_text[:20].lower():\n",
    "                    # print(no, r, current_text[:20].lower(), previous_text[:20].lower())\n",
    "                    continue\n",
    "                    \n",
    "                # remove alignments    \n",
    "                if r['role'] == 'user' and (any([b in current_text.lower() for b in break_at]) or any([b in next_text.lower() for b in break_at])):\n",
    "                    # print(current_text, next_text)\n",
    "                    break\n",
    "                if r['role'] == 'assistant' and (any([b in current_text.lower() for b in break_at]) or any([b in previous_text.lower() for b in break_at])):\n",
    "                    # print(current_text, next_text)\n",
    "                    break\n",
    "\n",
    "                role = roles[r['role']]\n",
    "                \n",
    "                if no == 0 and not code_instruct and ('crossref-melayu' in file or random.random() > 0.7):\n",
    "                    s = f\"{role}: {context}\\n\\n{current_text}\"\n",
    "                    count += 1\n",
    "                else:\n",
    "                    s = f\"{role}: {current_text}\"\n",
    "                    \n",
    "                inputs.append(s)\n",
    "                count1 += 1\n",
    "\n",
    "            if len(inputs) % 2 != 0:\n",
    "                inputs = inputs[:-1]\n",
    "                \n",
    "            if not len(inputs):\n",
    "                continue\n",
    "\n",
    "            data = '\\n'.join(inputs).strip()\n",
    "            \n",
    "            if not len(data):\n",
    "                continue\n",
    "                \n",
    "            a = {\n",
    "                'prompt_input': None,\n",
    "                'input': data,\n",
    "                'output': None\n",
    "            }\n",
    "            data_instructions.append(a)\n",
    "        \n",
    "        \n",
    "len(data_instructions)"
   ]
  },
  {
   "cell_type": "code",
   "execution_count": 7,
   "id": "2dcb50d8",
   "metadata": {},
   "outputs": [],
   "source": [
    "def generate_and_tokenize_prompt(row):\n",
    "    texts = ['<s>']\n",
    "\n",
    "    if 'function_call' in row:\n",
    "        t = row['function_call']\n",
    "        texts.append(f'\\n[FUNCTIONCALL]\\n{t}\\n')\n",
    "\n",
    "    if '<bot>:' in row['input'] and row['output'] is None:\n",
    "        inputs, outputs = [], []\n",
    "        splitted = row['input'].split('<bot>:')\n",
    "        for i in range(len(splitted) - 1):\n",
    "            if i == 0:\n",
    "                human = splitted[i].replace('<manusia>:', '')\n",
    "            else:\n",
    "                try:\n",
    "                    human = splitted[i].split('<manusia>:')[1]\n",
    "                except:\n",
    "                    continue\n",
    "            bot = splitted[i + 1].split('<manusia>:')[0]\n",
    "            inputs.append(human.strip())\n",
    "            outputs.append(bot.strip())\n",
    "    else:\n",
    "        inputs = [row['input']]\n",
    "        outputs = [row['output']]\n",
    "\n",
    "    for u, a in zip(inputs, outputs):\n",
    "        texts.append(f'[INST] {u.strip()} [/INST] {a.strip()}</s> ')\n",
    "\n",
    "    prompt = ''.join(texts)\n",
    "    return {'text': prompt}"
   ]
  },
  {
   "cell_type": "code",
   "execution_count": 8,
   "id": "7e2fd209",
   "metadata": {},
   "outputs": [
    {
     "name": "stderr",
     "output_type": "stream",
     "text": [
      "100%|███████████████████████████████████████████████████████████████████████████████████████| 235373/235373 [00:02<00:00, 100198.46it/s]\n"
     ]
    }
   ],
   "source": [
    "from tqdm import tqdm\n",
    "\n",
    "for i in tqdm(range(len(data_instructions))):\n",
    "    generate_and_tokenize_prompt(data_instructions[i])"
   ]
  },
  {
   "cell_type": "code",
   "execution_count": 9,
   "id": "1b767a73",
   "metadata": {},
   "outputs": [],
   "source": [
    "with open('prepared-malaysian-ultrachat-nocode.jsonl', 'w') as fopen:\n",
    "    for l in data_instructions:\n",
    "        fopen.write(f'{json.dumps(l)}\\n')"
   ]
  }
 ],
 "metadata": {
  "kernelspec": {
   "display_name": "Python 3 (ipykernel)",
   "language": "python",
   "name": "python3"
  },
  "language_info": {
   "codemirror_mode": {
    "name": "ipython",
    "version": 3
   },
   "file_extension": ".py",
   "mimetype": "text/x-python",
   "name": "python",
   "nbconvert_exporter": "python",
   "pygments_lexer": "ipython3",
   "version": "3.8.10"
  }
 },
 "nbformat": 4,
 "nbformat_minor": 5
}
