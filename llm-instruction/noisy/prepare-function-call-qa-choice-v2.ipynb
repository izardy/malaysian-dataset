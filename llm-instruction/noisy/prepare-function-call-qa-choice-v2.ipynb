{
 "cells": [
  {
   "cell_type": "code",
   "execution_count": 1,
   "id": "40c86f2b",
   "metadata": {},
   "outputs": [],
   "source": [
    "import instructor\n",
    "import json\n",
    "import random\n",
    "from pydantic import BaseModel, Field\n",
    "from enum import Enum\n",
    "from typing import List\n",
    "\n",
    "class AnswerEnum(str, Enum):\n",
    "    A = 'A'\n",
    "    B = 'B'\n",
    "    C = 'C'\n",
    "    D = 'D'\n",
    "    \n",
    "class Selective_QA(BaseModel):\n",
    "    question: str\n",
    "    A: str\n",
    "    B: str\n",
    "    C: str\n",
    "    D: str\n",
    "    answer: AnswerEnum\n",
    "        \n",
    "class QAS(BaseModel):\n",
    "    qa: List[Selective_QA]"
   ]
  },
  {
   "cell_type": "code",
   "execution_count": 2,
   "id": "0518ce7a",
   "metadata": {
    "scrolled": true
   },
   "outputs": [
    {
     "name": "stdout",
     "output_type": "stream",
     "text": [
      "{\n",
      "    \"name\": \"QAS\",\n",
      "    \"description\": \"Correctly extracted `QAS` with all the required parameters with correct types\",\n",
      "    \"parameters\": {\n",
      "        \"$defs\": {\n",
      "            \"AnswerEnum\": {\n",
      "                \"enum\": [\n",
      "                    \"A\",\n",
      "                    \"B\",\n",
      "                    \"C\",\n",
      "                    \"D\"\n",
      "                ],\n",
      "                \"type\": \"string\"\n",
      "            },\n",
      "            \"Selective_QA\": {\n",
      "                \"properties\": {\n",
      "                    \"question\": {\n",
      "                        \"type\": \"string\"\n",
      "                    },\n",
      "                    \"A\": {\n",
      "                        \"type\": \"string\"\n",
      "                    },\n",
      "                    \"B\": {\n",
      "                        \"type\": \"string\"\n",
      "                    },\n",
      "                    \"C\": {\n",
      "                        \"type\": \"string\"\n",
      "                    },\n",
      "                    \"D\": {\n",
      "                        \"type\": \"string\"\n",
      "                    },\n",
      "                    \"answer\": {\n",
      "                        \"$ref\": \"#/$defs/AnswerEnum\"\n",
      "                    }\n",
      "                },\n",
      "                \"required\": [\n",
      "                    \"question\",\n",
      "                    \"A\",\n",
      "                    \"B\",\n",
      "                    \"C\",\n",
      "                    \"D\",\n",
      "                    \"answer\"\n",
      "                ],\n",
      "                \"type\": \"object\"\n",
      "            }\n",
      "        },\n",
      "        \"properties\": {\n",
      "            \"qa\": {\n",
      "                \"items\": {\n",
      "                    \"$ref\": \"#/$defs/Selective_QA\"\n",
      "                },\n",
      "                \"type\": \"array\"\n",
      "            }\n",
      "        },\n",
      "        \"required\": [\n",
      "            \"qa\"\n",
      "        ],\n",
      "        \"type\": \"object\"\n",
      "    }\n",
      "}\n"
     ]
    }
   ],
   "source": [
    "choices = json.dumps(instructor.openai_schema(QAS).openai_schema, indent=4)\n",
    "print(choices)"
   ]
  },
  {
   "cell_type": "code",
   "execution_count": 3,
   "id": "c3cbf5de",
   "metadata": {
    "scrolled": false
   },
   "outputs": [
    {
     "data": {
      "text/plain": [
       "['/home/husein/ssd3/wikipedia-data/qa-majalahsains.jsonl',\n",
       " '/home/husein/ssd3/wikipedia-data/qa-ms-wikipedia.jsonl',\n",
       " '/home/husein/ssd3/wikipedia-data/qa-dewanbahasa-jdbp.jsonl']"
      ]
     },
     "execution_count": 3,
     "metadata": {},
     "output_type": "execute_result"
    }
   ],
   "source": [
    "from glob import glob\n",
    "\n",
    "files = glob('/home/husein/ssd3/wikipedia-data/qa-*.jsonl')\n",
    "files"
   ]
  },
  {
   "cell_type": "code",
   "execution_count": 4,
   "id": "88bf35f2",
   "metadata": {},
   "outputs": [
    {
     "data": {
      "text/plain": [
       "13358"
      ]
     },
     "execution_count": 4,
     "metadata": {},
     "output_type": "execute_result"
    }
   ],
   "source": [
    "data = []\n",
    "for f in files:\n",
    "    with open(f) as fopen:\n",
    "        for l in fopen:\n",
    "            l = json.loads(l)\n",
    "            d = {\n",
    "                'name': 'QAS',\n",
    "                'arguments': {\n",
    "                    'qa': l['qa']['qa']\n",
    "                }\n",
    "            }\n",
    "            data.append((l['paragraph'], d))\n",
    "\n",
    "                \n",
    "len(data)"
   ]
  },
  {
   "cell_type": "code",
   "execution_count": 5,
   "id": "ba3a11a4",
   "metadata": {},
   "outputs": [],
   "source": [
    "templates = [\n",
    "    'tukar ke JSON berdasarkan schema {schema}, teks `{text}`',\n",
    "    'text `{text}`, convert to JSON using schema {schema}',\n",
    "    'teks: {text}\\n\\ntukar ke JSON using schema {schema}',\n",
    "    'convert to JSON using schema {schema}\\n\\ntext: {text}',\n",
    "    '{text}\\n\\nJSON berdasarkan schema {schema}',\n",
    "    'JSON berdasarkan schema {schema}\\n\\n{text}',\n",
    "]"
   ]
  },
  {
   "cell_type": "code",
   "execution_count": 6,
   "id": "37d0d3c2",
   "metadata": {},
   "outputs": [],
   "source": [
    "chat = []\n",
    "for d in data:\n",
    "    chat.append({\n",
    "        'prompt_input': None,\n",
    "        'input': random.choice(templates).format(schema = choices, text = d[0]),\n",
    "        'output': json.dumps(d[1]),\n",
    "    })"
   ]
  },
  {
   "cell_type": "code",
   "execution_count": 7,
   "id": "c8f69edd",
   "metadata": {},
   "outputs": [
    {
     "data": {
      "text/plain": [
       "{'prompt_input': None,\n",
       " 'input': 'convert to JSON using schema {\\n    \"name\": \"QAS\",\\n    \"description\": \"Correctly extracted `QAS` with all the required parameters with correct types\",\\n    \"parameters\": {\\n        \"$defs\": {\\n            \"AnswerEnum\": {\\n                \"enum\": [\\n                    \"A\",\\n                    \"B\",\\n                    \"C\",\\n                    \"D\"\\n                ],\\n                \"type\": \"string\"\\n            },\\n            \"Selective_QA\": {\\n                \"properties\": {\\n                    \"question\": {\\n                        \"type\": \"string\"\\n                    },\\n                    \"A\": {\\n                        \"type\": \"string\"\\n                    },\\n                    \"B\": {\\n                        \"type\": \"string\"\\n                    },\\n                    \"C\": {\\n                        \"type\": \"string\"\\n                    },\\n                    \"D\": {\\n                        \"type\": \"string\"\\n                    },\\n                    \"answer\": {\\n                        \"$ref\": \"#/$defs/AnswerEnum\"\\n                    }\\n                },\\n                \"required\": [\\n                    \"question\",\\n                    \"A\",\\n                    \"B\",\\n                    \"C\",\\n                    \"D\",\\n                    \"answer\"\\n                ],\\n                \"type\": \"object\"\\n            }\\n        },\\n        \"properties\": {\\n            \"qa\": {\\n                \"items\": {\\n                    \"$ref\": \"#/$defs/Selective_QA\"\\n                },\\n                \"type\": \"array\"\\n            }\\n        },\\n        \"required\": [\\n            \"qa\"\\n        ],\\n        \"type\": \"object\"\\n    }\\n}\\n\\ntext: Di sini kami tunjukkan satu video aktiviti penyelidikan yang dijalankan di Institute of Microengineering & Nanoelectronics (IMEN), yang terletak di Universiti Kebangsaan Malaysia.\\n\\nDi sini kami tunjukkan satu video aktiviti penyelidikan yang dijalankan di Institute of Microengineering & Nanoelectronics (IMEN), yang terletak di Universiti Kebangsaan Malaysia.\\n\\nIMEN yang diketuai oleh Profesor Dato’ Dr. Burhanuddin Yeop Majlis selaku Pengarah ditubuhkan pada bulan November 2002. Institut ini menumpukan penyelidikan multidisiplin dalam bidang Kejuruteraan Mikro, Nanoteknologi, Nanoelektronik dan menerima anugerah Pusat Kecemerlangan Pengajian Tinggi (HiCOE), pada tahun 2015 di dalam bidang ini.\\n\\nIMEN yang diketuai oleh Profesor Dato’ Dr. Burhanuddin Yeop Majlis selaku Pengarah ditubuhkan pada bulan November 2002. Institut ini menumpukan penyelidikan multidisiplin dalam bidang Kejuruteraan Mikro, Nanoteknologi, Nanoelektronik dan menerima anugerah Pusat Kecemerlangan Pengajian Tinggi (HiCOE), pada tahun 2015 di dalam bidang ini.\\n\\nMisi utama IMEN ditubuhkan bertujuan untuk menjadi pusat penyelidikan bertaraf dunia membangunkan penyelidikan bidang-bidang kejuruteraan termaju seperti teknologi mikrosensor, nanoelektronik, MEMS/NEMS, electronik organik,\\xa0 teknologi fotonik, packaging, VLSI\\xa0 dan sistem nano.\\n\\nMisi utama IMEN ditubuhkan bertujuan untuk menjadi pusat penyelidikan bertaraf dunia membangunkan penyelidikan bidang-bidang kejuruteraan termaju seperti teknologi mikrosensor, nanoelektronik, MEMS/NEMS, electronik organik,\\xa0 teknologi fotonik, packaging, VLSI\\xa0 dan sistem nano.',\n",
       " 'output': '{\"name\": \"QAS\", \"arguments\": {\"qa\": [{\"question\": \"Apakah nama institusi yang melakukan aktiviti penyelidikan?\", \"A\": \"Institute of Microengineering & Nanoelectronics (IMEN)\", \"B\": \"Universiti Kebangsaan Malaysia\", \"C\": \"Profesor Dato\\\\u2019 Dr. Burhanuddin Yeop Majlis\", \"D\": \"Pusat Kecemerlangan Pengajian Tinggi (HiCOE)\", \"answer\": \"A\"}, {\"question\": \"Siapakah pengarah Institute of Microengineering & Nanoelectronics (IMEN)?\", \"A\": \"Institute of Microengineering & Nanoelectronics (IMEN)\", \"B\": \"Universiti Kebangsaan Malaysia\", \"C\": \"Profesor Dato\\\\u2019 Dr. Burhanuddin Yeop Majlis\", \"D\": \"Pusat Kecemerlangan Pengajian Tinggi (HiCOE)\", \"answer\": \"C\"}, {\"question\": \"Bidang-bidang kejuruteraan apakah yang difokuskan oleh Institut IMEN?\", \"A\": \"Kejuruteraan Mikro\", \"B\": \"Nanoteknologi\", \"C\": \"Nanoelektronik\", \"D\": \"Semua di atas\", \"answer\": \"D\"}, {\"question\": \"Apakah misi utama Institut IMEN?\", \"A\": \"Membangunkan teknologi mikrosensor\", \"B\": \"Membangunkan teknologi nanoelektronik\", \"C\": \"Membangunkan teknologi MEMS/NEMS\", \"D\": \"Semua di atas\", \"answer\": \"D\"}]}}'}"
      ]
     },
     "execution_count": 7,
     "metadata": {},
     "output_type": "execute_result"
    }
   ],
   "source": [
    "chat[0]"
   ]
  },
  {
   "cell_type": "code",
   "execution_count": 8,
   "id": "67742f8a",
   "metadata": {
    "scrolled": false
   },
   "outputs": [],
   "source": [
    "def generate_and_tokenize_prompt(row):\n",
    "    texts = ['<s>']\n",
    "\n",
    "    if 'function_call' in row:\n",
    "        t = row['function_call']\n",
    "        texts.append(f'\\n[FUNCTIONCALL]\\n{t}\\n')\n",
    "\n",
    "    if '<bot>:' in row['input'] and row['output'] is None:\n",
    "        inputs, outputs = [], []\n",
    "        splitted = row['input'].split('<bot>:')\n",
    "        for i in range(len(splitted) - 1):\n",
    "            if i == 0:\n",
    "                human = splitted[i].replace('<manusia>:', '')\n",
    "            else:\n",
    "                try:\n",
    "                    human = splitted[i].split('<manusia>:')[1]\n",
    "                except:\n",
    "                    continue\n",
    "            bot = splitted[i + 1].split('<manusia>:')[0]\n",
    "            inputs.append(human.strip())\n",
    "            outputs.append(bot.strip())\n",
    "    else:\n",
    "        inputs = [row['input']]\n",
    "        outputs = [row['output']]\n",
    "\n",
    "    for u, a in zip(inputs, outputs):\n",
    "        texts.append(f'[INST] {u.strip()} [/INST] {a.strip()}</s> ')\n",
    "\n",
    "    prompt = ''.join(texts)\n",
    "    return {'text': prompt}"
   ]
  },
  {
   "cell_type": "code",
   "execution_count": 12,
   "id": "b070c4c3",
   "metadata": {},
   "outputs": [
    {
     "name": "stdout",
     "output_type": "stream",
     "text": [
      "<s>[INST] convert to JSON using schema {\n",
      "    \"name\": \"QAS\",\n",
      "    \"description\": \"Correctly extracted `QAS` with all the required parameters with correct types\",\n",
      "    \"parameters\": {\n",
      "        \"$defs\": {\n",
      "            \"AnswerEnum\": {\n",
      "                \"enum\": [\n",
      "                    \"A\",\n",
      "                    \"B\",\n",
      "                    \"C\",\n",
      "                    \"D\"\n",
      "                ],\n",
      "                \"type\": \"string\"\n",
      "            },\n",
      "            \"Selective_QA\": {\n",
      "                \"properties\": {\n",
      "                    \"question\": {\n",
      "                        \"type\": \"string\"\n",
      "                    },\n",
      "                    \"A\": {\n",
      "                        \"type\": \"string\"\n",
      "                    },\n",
      "                    \"B\": {\n",
      "                        \"type\": \"string\"\n",
      "                    },\n",
      "                    \"C\": {\n",
      "                        \"type\": \"string\"\n",
      "                    },\n",
      "                    \"D\": {\n",
      "                        \"type\": \"string\"\n",
      "                    },\n",
      "                    \"answer\": {\n",
      "                        \"$ref\": \"#/$defs/AnswerEnum\"\n",
      "                    }\n",
      "                },\n",
      "                \"required\": [\n",
      "                    \"question\",\n",
      "                    \"A\",\n",
      "                    \"B\",\n",
      "                    \"C\",\n",
      "                    \"D\",\n",
      "                    \"answer\"\n",
      "                ],\n",
      "                \"type\": \"object\"\n",
      "            }\n",
      "        },\n",
      "        \"properties\": {\n",
      "            \"qa\": {\n",
      "                \"items\": {\n",
      "                    \"$ref\": \"#/$defs/Selective_QA\"\n",
      "                },\n",
      "                \"type\": \"array\"\n",
      "            }\n",
      "        },\n",
      "        \"required\": [\n",
      "            \"qa\"\n",
      "        ],\n",
      "        \"type\": \"object\"\n",
      "    }\n",
      "}\n",
      "\n",
      "text: . Matlamat mamografi adalah untuk mendapat pengesanan awal wujudnya kanser payudara.\n",
      "\n",
      "Walau bagaimanapun, bentuk rawatan yang terbaik untuk penyakit barah ialah pencegahan. Beliau menasihati wanita berusia empat puluh tahun ke atas menjalani pemeriksaan mamogram. Mamografi adalah proses menggunakan tenaga sinar-X rendah untuk memeriksa payudara dan digunakan sebagai ujian diagnostik. Matlamat mamografi adalah untuk mendapat pengesanan awal wujudnya kanser payudara.\n",
      "\n",
      "Kira-kira 5% hingga 10% daripada kanser payudara berlaku dari keturunan apabila gen tidak normal diturunkan daripada ibu bapa kepada anak mereka.\n",
      "\n",
      "Kira-kira 5% hingga 10% daripada kanser payudara berlaku dari keturunan apabila gen tidak normal diturunkan daripada ibu bapa kepada anak mereka.\n",
      "\n",
      "Kira-kira 5% hingga 10% daripada kanser payudara berlaku dari keturunan apabila gen tidak normal diturunkan daripada ibu bapa kepada anak mereka.\n",
      "\n",
      "Kira-kira 5% hingga 10% daripada kanser payudara berlaku dari keturunan apabila gen tidak normal diturunkan daripada ibu bapa kepada anak mereka.\n",
      "\n",
      "Prof Rahman berkata bahawa mengkaji gen yang menyebabkan kanser payudara agak mencabar kerana ia adalah suatu penyakit yang sangat berbeza dan mempunyai banyak kepelbagaian dari segi sifat. Ini bermakna ia melibatkan pelbagai jenis gen berinteraksi antara satu sama lain yang menghasilkan ciri-ciri yang agak kompleks dan berlainan.\n",
      "\n",
      "Prof Rahman berkata bahawa mengkaji gen yang menyebabkan kanser payudara agak mencabar kerana ia adalah suatu penyakit yang sangat berbeza dan mempunyai banyak kepelbagaian dari segi sifat. Ini bermakna ia melibatkan pelbagai jenis gen berinteraksi antara satu sama lain yang menghasilkan ciri-ciri yang agak kompleks dan berlainan.\n",
      "\n",
      "Prof Rahman berkata bahawa mengkaji gen yang menyebabkan kanser payudara agak mencabar kerana ia adalah suatu penyakit yang sangat berbeza dan mempunyai banyak kepelbagaian dari segi sifat. Ini bermakna ia melibatkan pelbagai jenis gen berinteraksi antara satu sama lain yang menghasilkan ciri-ciri yang agak kompleks dan berlainan.\n",
      "\n",
      "Prof Rahman berkata bahawa mengkaji gen yang menyebabkan kanser payudara agak mencabar kerana ia adalah suatu penyakit yang sangat berbeza dan mempunyai banyak kepelbagaian dari segi sifat. Ini bermakna ia melibatkan pelbagai jenis gen berinteraksi antara satu sama lain yang menghasilkan ciri-ciri yang agak kompleks dan berlainan.\n",
      "\n",
      "Barah payudara adalah kanser yang paling kerap melanda wanita di di seluruh dunia termasuk Malaysia. Ia bagaimana pun menyebabkan kematian pada kadar yang lebih tinggi di negara ini berbanding negara maju. Ini adalah kerana pesakit di Malaysia kebanyakkannya mendapatkan rawatan hanya pada saat-saat akhir.\n",
      "\n",
      "Barah payudara adalah kanser yang paling kerap melanda wanita di di seluruh dunia termasuk Malaysia. Ia bagaimana pun menyebabkan kematian pada kadar yang lebih tinggi di negara ini berbanding negara maju. Ini adalah kerana pesakit di Malaysia kebanyakkannya mendapatkan rawatan hanya pada saat-saat akhir.\n",
      "\n",
      "Barah payudara adalah kanser yang paling kerap melanda wanita di di seluruh dunia termasuk Malaysia. Ia bagaimana pun menyebabkan kematian pada kadar yang lebih tinggi di negara ini berbanding negara maju. Ini adalah kerana pesakit di Malaysia kebanyakkannya mendapatkan rawatan hanya pada saat-saat akhir.\n",
      "\n",
      "Barah payudara adalah kanser yang paling kerap melanda wanita di di seluruh dunia termasuk Malaysia. Ia bagaimana pun menyebabkan kematian pada kadar yang lebih tinggi di negara ini berbanding negara maju. Ini adalah kerana pesakit di Malaysia kebanyakkannya mendapatkan rawatan hanya pada saat-saat akhir.\n",
      "\n",
      "Kira-kira 30 orang peserta dari Amerika Syarikat, Belgium, China, Australia, Filipina, Singapura dan Malaysia telah hadir di  persidangan ARCSB kedua itu. Lebih daripada 20 kertas penyelidikan telah dibentangkan. Sumber : Portal Berita UKM\n",
      "Foto: truthonpot.com\n",
      "\n",
      "Kira-kira 30 orang peserta dari Amerika Syarikat, Belgium, China, Australia, Filipina, Singapura dan Malaysia telah hadir di  persidangan ARCSB kedua itu. Lebih daripada 20 kertas penyelidikan telah dibentangkan. [/INST] {\"name\": \"QAS\", \"arguments\": {\"qa\": [{\"question\": \"Apakah matlamat mamografi?\", \"A\": \"Untuk mendapatkan pengesanan awal kanser payudara\", \"B\": \"Untuk mencegah kanser payudara\", \"C\": \"Untuk mengkaji gen yang menyebabkan kanser payudara\", \"D\": \"Untuk memeriksa payudara menggunakan sinar-X rendah\", \"answer\": \"A\"}, {\"question\": \"Berapa peratus kanser payudara berlaku dari keturunan?\", \"A\": \"5% hingga 10%\", \"B\": \"10% hingga 15%\", \"C\": \"15% hingga 20%\", \"D\": \"20% hingga 25%\", \"answer\": \"A\"}, {\"question\": \"Apakah penyebab kematian yang lebih tinggi daripada negara maju bagi pesakit kanser payudara di Malaysia?\", \"A\": \"Pesakit mendapatkan rawatan hanya pada saat-saat akhir\", \"B\": \"Kurangnya kesedaran tentang mamografi\", \"C\": \"Kekurangan pusat rawatan kanser\", \"D\": \"Tidak ada jawapan yang betul\", \"answer\": \"A\"}, {\"question\": \"Berapa jumlah peserta yang hadir di persidangan ARCSB kedua?\", \"A\": \"30 orang\", \"B\": \"20 orang\", \"C\": \"40 orang\", \"D\": \"50 orang\", \"answer\": \"A\"}]}}</s> \n"
     ]
    }
   ],
   "source": [
    "print(generate_and_tokenize_prompt(chat[3])['text'])"
   ]
  },
  {
   "cell_type": "code",
   "execution_count": 11,
   "id": "e46b0c8e",
   "metadata": {},
   "outputs": [],
   "source": [
    "import json\n",
    "\n",
    "with open('prepared-function-call-qa-choice.jsonl', 'w') as fopen:\n",
    "    for l in chat:\n",
    "        fopen.write(f'{json.dumps(l)}\\n')"
   ]
  },
  {
   "cell_type": "code",
   "execution_count": null,
   "id": "8c750be3",
   "metadata": {},
   "outputs": [],
   "source": []
  }
 ],
 "metadata": {
  "kernelspec": {
   "display_name": "3.9",
   "language": "python",
   "name": "3.9"
  },
  "language_info": {
   "codemirror_mode": {
    "name": "ipython",
    "version": 3
   },
   "file_extension": ".py",
   "mimetype": "text/x-python",
   "name": "python",
   "nbconvert_exporter": "python",
   "pygments_lexer": "ipython3",
   "version": "3.9.16"
  }
 },
 "nbformat": 4,
 "nbformat_minor": 5
}
