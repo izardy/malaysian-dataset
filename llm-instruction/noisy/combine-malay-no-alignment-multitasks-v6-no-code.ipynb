{
 "cells": [
  {
   "cell_type": "code",
   "execution_count": 1,
   "id": "01fe27e6",
   "metadata": {},
   "outputs": [],
   "source": [
    "from glob import glob\n",
    "import json\n",
    "import random\n",
    "from tqdm import tqdm\n",
    "import copy"
   ]
  },
  {
   "cell_type": "code",
   "execution_count": 2,
   "id": "3716ca1a",
   "metadata": {},
   "outputs": [],
   "source": [
    "fopen_l = open('combine-malay-no-alignment-multitasks-v5-no-code.jsonl', 'w')"
   ]
  },
  {
   "cell_type": "code",
   "execution_count": 3,
   "id": "a1abb943",
   "metadata": {},
   "outputs": [],
   "source": [
    "rejected = [\n",
    "    'help.openai.com',\n",
    "    'openassistant'\n",
    "]\n",
    "\n",
    "break_at = [\n",
    "    'help.openai.com',\n",
    "    'openai',\n",
    "    'cannot have personal opinions',\n",
    "    's an ai language model',\n",
    "    \"i'm sorry\",\n",
    "    'many factors',\n",
    "    'lgbt',\n",
    "    'lesbian',\n",
    "    'gender-neutral',\n",
    "    'remain neutral',\n",
    "    'without bias',\n",
    "    'and neutral',\n",
    "    'more inclusive',\n",
    "    'neutrality',\n",
    "    'non-bias',\n",
    "    'discrimination',\n",
    "    'avoid any forms of discrimination',\n",
    "    'regardless of their gender',\n",
    "    'inclusive and tolerant environment',\n",
    "    'have personal views',\n",
    "    'sexual orientation should be a top priority',\n",
    "    's an objective ai',\n",
    "    'avoid any forms of prejudice or hate',\n",
    "    'regardless of their personal',\n",
    "    'you understand this direction',\n",
    "    'tolerant environment within ai',\n",
    "    'cannot express my',\n",
    "    'requires more context',\n",
    "    'personal opinion',\n",
    "    'have updated information',\n",
    "    \"don't have personal experiences\",\n",
    "    'there is no information',\n",
    "    'tidak mempunyai akses kepada data atau maklumat',\n",
    "    '10 april 2021',\n",
    "    'ebagai model bahasa AI',\n",
    "    'model bahasa AI',\n",
    "    'mempunyai kepercayaan atau pendapat peribadi',\n",
    "    'tidak mempunyai pendapat peribadi',\n",
    "    'tidak mempunyai kepercayaan',\n",
    "    'tidak mempunyai falsafah peribadi',\n",
    "    'tidak mempunyai pengalaman peribadi',\n",
    "    'tidak mempunyai pendapat atau pengalaman peribadi',\n",
    "    'tidak mempunyai maklumat terkini',\n",
    "    'tidak mempunyai emosi peribadi',\n",
    "    'tidak mempunyai keutamaan',\n",
    "    'saya tidak mempunyai akses',\n",
    "    'tidak mempunyai pengalaman',\n",
    "    'saya tidak mempunyai keupayaan',\n",
    "    'tidak mempunyai keupayaan',\n",
    "    'tidak mempunyai hubungan',\n",
    "    'tidak mempunyai maklumat',\n",
    "    'Saya tidak mempunyai',\n",
    "    'Saya tidak pernah',\n",
    "    'saya tidak dapat memahami jawapan',\n",
    "    '=====',\n",
    "    '-----',\n",
    "]\n",
    "\n",
    "break_at_terjemah = [\n",
    "    'terjemah',\n",
    "    'translate'\n",
    "]\n",
    "\n",
    "rejected_words = [\n",
    "    'kebutuhan',\n",
    "    'berbeda',\n",
    "    'bahwa',\n",
    "    'Kode',\n",
    "    'kode',\n",
    "    'nomor',\n",
    "    'RMXX,XXX',\n",
    "    'kompleksitas',\n",
    "    'listrik',\n",
    "    'teknis',\n",
    "    'berkualitas',\n",
    "    'mencoba',\n",
    "    'kampanye',\n",
    "    'komunitas',\n",
    "    'stabilitas',\n",
    "    'Stabilitas',\n",
    "    'metode',\n",
    "    'pria',\n",
    "    'butuh',\n",
    "    'jadwal',\n",
    "    'kasus',\n",
    "    'otomatis',\n",
    "    'populer',\n",
    "    'bisnis',\n",
    "    'probabilitas',\n",
    "    'rusak',\n",
    "    'kapasitas',\n",
    "    'rutinitas',\n",
    "    'pertama-tama'\n",
    "]\n",
    "\n",
    "def found_word(s, words):\n",
    "    for i in range(len(words)):\n",
    "        if words[i] in s:\n",
    "            return True, words[i]\n",
    "    return False, None\n",
    "\n",
    "indons = []\n",
    "\n",
    "def accept(d, min_len = 10, skip_indon = True, skip_translation = True):\n",
    "    global indons\n",
    "    \n",
    "    d = d.strip()\n",
    "    \n",
    "    if len(d.split()) < min_len:\n",
    "        return False\n",
    "        \n",
    "    if 'terjemahkan teks' in d.lower():\n",
    "        return False\n",
    "\n",
    "    if 'no need to translate' in d.lower():\n",
    "        return False\n",
    "\n",
    "    if 'can be translated' in d.lower():\n",
    "        return False\n",
    "\n",
    "    if 'cannot translate' in d.lower():\n",
    "        return False\n",
    "\n",
    "    if 'should be translated to' in d.lower():\n",
    "        return False\n",
    "\n",
    "    if 'cannot be translated' in d.lower():\n",
    "        return False\n",
    "\n",
    "    if 'standard malay' in d.lower():\n",
    "        return False\n",
    "\n",
    "    if 'would not be translated' in d.lower():\n",
    "        return False\n",
    "\n",
    "    if 'as an AI language model' in d:\n",
    "        return False\n",
    "\n",
    "    if 'should be translated as' in d.lower():\n",
    "        return False\n",
    "\n",
    "    if 'Bahasa Malaysia Standard' in d:\n",
    "        return False\n",
    "    \n",
    "    if 'Saya adalah model AI' in d:\n",
    "        return False\n",
    "    \n",
    "    if 'saya model AI' in d:\n",
    "        return False\n",
    "    \n",
    "    if 'Saya model AI' in d:\n",
    "        return False\n",
    "    \n",
    "    if 'sebagai model AI' in d:\n",
    "        return False\n",
    "    \n",
    "    if 'Sebagai model AI' in d:\n",
    "        return False\n",
    "    \n",
    "    if 'model bahasa AI' in d:\n",
    "        return False\n",
    "    \n",
    "    if 'model AI yang dibangunkan' in d:\n",
    "        return False\n",
    "    \n",
    "    if d == '<s>':\n",
    "        return False\n",
    "    \n",
    "    if 'tidak dapat memberikan maklumat' in d:\n",
    "        return False\n",
    "    \n",
    "    if 'Sebagai model bahasa' in d:\n",
    "        return False\n",
    "    \n",
    "    d_lower = d.lower()\n",
    "    splitted = d_lower.split()\n",
    "    if (len(set(splitted)) / len(splitted)) < 0.2:\n",
    "        return False\n",
    "    \n",
    "    if found_word(d_lower, rejected)[0]:\n",
    "        return False\n",
    "    \n",
    "    if found_word(d_lower, break_at)[0]:\n",
    "        return False\n",
    "    \n",
    "    if skip_translation and found_word(d_lower, break_at_terjemah)[0]:\n",
    "        return False\n",
    "    \n",
    "    if skip_indon:\n",
    "        found_indon = found_word(d_lower, rejected_words)\n",
    "        if found_indon[0]:\n",
    "            indons.append((d, found_indon[1]))\n",
    "            return False\n",
    "    \n",
    "    return True\n",
    "\n",
    "def split(row):\n",
    "    inputs, outputs = [], []\n",
    "    splitted = row['input'].split('<bot>:')\n",
    "    for i in range(len(splitted) - 1):\n",
    "        if i == 0:\n",
    "            human = splitted[i].replace('<manusia>:', '')\n",
    "        else:\n",
    "            try:\n",
    "                human = splitted[i].split('<manusia>:')[1]\n",
    "            except:\n",
    "                continue\n",
    "        bot = splitted[i + 1].split('<manusia>:')[0]\n",
    "        inputs.append(human.strip())\n",
    "        outputs.append(bot.strip())\n",
    "    return inputs, outputs\n",
    "\n",
    "def generate_and_tokenize_prompt(row, min_length_input = 1, min_length_output = 1):\n",
    "    texts = ['<s>']\n",
    "\n",
    "    if 'function_call' in row:\n",
    "        t = row['function_call']\n",
    "        texts.append(f'\\n[FUNCTIONCALL]\\n{t}\\n')\n",
    "\n",
    "    if '<bot>:' in row['input'] and row['output'] is None:\n",
    "        inputs, outputs = [], []\n",
    "        splitted = row['input'].split('<bot>:')\n",
    "        for i in range(len(splitted) - 1):\n",
    "            if i == 0:\n",
    "                human = splitted[i].replace('<manusia>:', '')\n",
    "            else:\n",
    "                try:\n",
    "                    human = splitted[i].split('<manusia>:')[1]\n",
    "                except:\n",
    "                    continue\n",
    "            bot = splitted[i + 1].split('<manusia>:')[0]\n",
    "            inputs.append(human.strip())\n",
    "            outputs.append(bot.strip())\n",
    "    else:\n",
    "        inputs = [row['input']]\n",
    "        outputs = [row['output']]\n",
    "\n",
    "    for u, a in zip(inputs, outputs):\n",
    "        u = u.strip()\n",
    "        a = a.strip()\n",
    "        if len(u) < min_length_input or len(a) < min_length_output:\n",
    "            print(u, len(u), a, len(a), row)\n",
    "            return\n",
    "        texts.append(f'[INST] {u.strip()} [/INST] {a.strip()}</s> ')\n",
    "\n",
    "    prompt = ''.join(texts)\n",
    "    return {'text': prompt}"
   ]
  },
  {
   "cell_type": "code",
   "execution_count": 4,
   "id": "24df9b43",
   "metadata": {},
   "outputs": [],
   "source": [
    "options = ['A.', 'B.', 'C.', 'D.']\n",
    "options2 = ['A', 'B', 'C', 'D']\n",
    "def rejected_output(q, a):\n",
    "    q_, a_ = [], []\n",
    "    for o in options:\n",
    "        q_.append(o in q)\n",
    "    for o in options2:\n",
    "        a_.append(o in a)\n",
    "    return sum(a_) > 1 or sum(q_) < 4"
   ]
  },
  {
   "cell_type": "code",
   "execution_count": 5,
   "id": "bd369bca",
   "metadata": {},
   "outputs": [],
   "source": [
    "# !wget https://huggingface.co/datasets/malaysia-ai/filtered-aya-dataset-zsm/resolve/main/filtered-aya_dataset-zsm.jsonl"
   ]
  },
  {
   "cell_type": "code",
   "execution_count": 6,
   "id": "54f6d0b8",
   "metadata": {},
   "outputs": [],
   "source": [
    "with open('filtered-aya_dataset-zsm.jsonl') as fopen:\n",
    "    for l in fopen:\n",
    "        l = json.loads(l)\n",
    "        data = {\n",
    "            'prompt_input': None,\n",
    "            'input': l['inputs'],\n",
    "            'output': l['targets']\n",
    "        }\n",
    "        fopen_l.write(f'{json.dumps(data)}\\n')\n",
    "        fopen_l.flush()"
   ]
  },
  {
   "cell_type": "code",
   "execution_count": 7,
   "id": "f16665f0",
   "metadata": {},
   "outputs": [
    {
     "name": "stdout",
     "output_type": "stream",
     "text": [
      "10073 combine-malay-no-alignment-multitasks-v5-no-code.jsonl\r\n"
     ]
    }
   ],
   "source": [
    "!wc -l combine-malay-no-alignment-multitasks-v5-no-code.jsonl"
   ]
  },
  {
   "cell_type": "code",
   "execution_count": 8,
   "id": "7a50872b",
   "metadata": {},
   "outputs": [
    {
     "name": "stderr",
     "output_type": "stream",
     "text": [
      "179339it [00:01, 126654.26it/s]\n",
      "13358it [00:00, 36600.89it/s]\n"
     ]
    }
   ],
   "source": [
    "files = [\n",
    "    'prepared-chatgpt-malay-function-call.jsonl',\n",
    "    'prepared-function-call-qa-choice.jsonl',\n",
    "]\n",
    "\n",
    "for f in files:\n",
    "    with open(f) as fopen:\n",
    "        for l in tqdm(fopen):\n",
    "            data = json.loads(l)\n",
    "            if random.random() > 0.2:\n",
    "                continue\n",
    "            \n",
    "            fopen_l.write(f'{json.dumps(data)}\\n')\n",
    "            fopen_l.flush()"
   ]
  },
  {
   "cell_type": "code",
   "execution_count": 9,
   "id": "33520672",
   "metadata": {},
   "outputs": [
    {
     "name": "stdout",
     "output_type": "stream",
     "text": [
      "48481 combine-malay-no-alignment-multitasks-v5-no-code.jsonl\r\n"
     ]
    }
   ],
   "source": [
    "!wc -l combine-malay-no-alignment-multitasks-v5-no-code.jsonl"
   ]
  },
  {
   "cell_type": "code",
   "execution_count": 10,
   "id": "e9a2abfc",
   "metadata": {},
   "outputs": [
    {
     "name": "stderr",
     "output_type": "stream",
     "text": [
      "157120it [00:02, 59761.17it/s]\n",
      "104689it [00:00, 105510.76it/s]\n"
     ]
    }
   ],
   "source": [
    "files = [\n",
    "    'prepared-function-call-malaysian-open-qa.jsonl',\n",
    "    'prepared-function-call-kg.jsonl'\n",
    "]\n",
    "\n",
    "for f in files:\n",
    "    with open(f) as fopen:\n",
    "        for l in tqdm(fopen):\n",
    "            data = json.loads(l)\n",
    "            if random.random() > 0.05:\n",
    "                continue\n",
    "            \n",
    "            fopen_l.write(f'{json.dumps(data)}\\n')\n",
    "            fopen_l.flush()"
   ]
  },
  {
   "cell_type": "code",
   "execution_count": 11,
   "id": "24cbf1b8",
   "metadata": {},
   "outputs": [
    {
     "name": "stdout",
     "output_type": "stream",
     "text": [
      "61662 combine-malay-no-alignment-multitasks-v5-no-code.jsonl\r\n"
     ]
    }
   ],
   "source": [
    "!wc -l combine-malay-no-alignment-multitasks-v5-no-code.jsonl"
   ]
  },
  {
   "cell_type": "code",
   "execution_count": 12,
   "id": "d14629e2",
   "metadata": {},
   "outputs": [
    {
     "name": "stderr",
     "output_type": "stream",
     "text": [
      "24984it [00:00, 75358.54it/s]\n"
     ]
    }
   ],
   "source": [
    "files = [\n",
    "    'prepared-chatgpt-malay-function-call-complex.jsonl',\n",
    "]\n",
    "\n",
    "for f in files:\n",
    "    with open(f) as fopen:\n",
    "        for l in tqdm(fopen):\n",
    "            data = json.loads(l)\n",
    "            \n",
    "            fopen_l.write(f'{json.dumps(data)}\\n')\n",
    "            fopen_l.flush()"
   ]
  },
  {
   "cell_type": "code",
   "execution_count": 13,
   "id": "2d2a2c07",
   "metadata": {},
   "outputs": [
    {
     "name": "stdout",
     "output_type": "stream",
     "text": [
      "86646 combine-malay-no-alignment-multitasks-v5-no-code.jsonl\r\n"
     ]
    }
   ],
   "source": [
    "!wc -l combine-malay-no-alignment-multitasks-v5-no-code.jsonl"
   ]
  },
  {
   "cell_type": "code",
   "execution_count": 14,
   "id": "68f6f1fa",
   "metadata": {},
   "outputs": [
    {
     "name": "stderr",
     "output_type": "stream",
     "text": [
      "1798326it [00:04, 416903.91it/s]\n"
     ]
    }
   ],
   "source": [
    "files = [\n",
    "    'prepared-synthetic-json-translation.jsonl',\n",
    "]\n",
    "\n",
    "for f in files:\n",
    "    with open(f) as fopen:\n",
    "        for l in tqdm(fopen):\n",
    "            data = json.loads(l)\n",
    "            if random.random() > 0.03:\n",
    "                continue\n",
    "            \n",
    "            fopen_l.write(f'{json.dumps(data)}\\n')\n",
    "            fopen_l.flush()"
   ]
  },
  {
   "cell_type": "code",
   "execution_count": 15,
   "id": "b6798128",
   "metadata": {},
   "outputs": [
    {
     "name": "stdout",
     "output_type": "stream",
     "text": [
      "140980 combine-malay-no-alignment-multitasks-v5-no-code.jsonl\r\n"
     ]
    }
   ],
   "source": [
    "!wc -l combine-malay-no-alignment-multitasks-v5-no-code.jsonl"
   ]
  },
  {
   "cell_type": "code",
   "execution_count": 16,
   "id": "2bc7274e",
   "metadata": {},
   "outputs": [
    {
     "name": "stderr",
     "output_type": "stream",
     "text": [
      "162902it [00:00, 277953.82it/s]\n"
     ]
    }
   ],
   "source": [
    "files = [\n",
    "    'prepared-synthetic-json-sentiment.jsonl',\n",
    "]\n",
    "\n",
    "for f in files:\n",
    "    with open(f) as fopen:\n",
    "        for l in tqdm(fopen):\n",
    "            data = json.loads(l)\n",
    "            if random.random() > 0.3:\n",
    "                continue\n",
    "            \n",
    "            fopen_l.write(f'{json.dumps(data)}\\n')\n",
    "            fopen_l.flush()"
   ]
  },
  {
   "cell_type": "code",
   "execution_count": 17,
   "id": "01dc1288",
   "metadata": {},
   "outputs": [
    {
     "name": "stdout",
     "output_type": "stream",
     "text": [
      "189947 combine-malay-no-alignment-multitasks-v5-no-code.jsonl\r\n"
     ]
    }
   ],
   "source": [
    "!wc -l combine-malay-no-alignment-multitasks-v5-no-code.jsonl"
   ]
  },
  {
   "cell_type": "code",
   "execution_count": 18,
   "id": "a6bbb82f",
   "metadata": {},
   "outputs": [
    {
     "name": "stderr",
     "output_type": "stream",
     "text": [
      "749797it [00:09, 81935.02it/s] \n"
     ]
    }
   ],
   "source": [
    "all_data = []\n",
    "with open('/home/husein/ssd3/one-for-all/jawi-rumi.jsonl') as fopen:\n",
    "    for l in tqdm(fopen):\n",
    "        l = json.loads(l)\n",
    "        all_data.append(l)\n",
    "        \n",
    "for data in random.sample(all_data, 10000):\n",
    "    fopen_l.write(f'{json.dumps(data)}\\n')\n",
    "    fopen_l.flush()"
   ]
  },
  {
   "cell_type": "code",
   "execution_count": 19,
   "id": "de0489a5",
   "metadata": {},
   "outputs": [
    {
     "name": "stderr",
     "output_type": "stream",
     "text": [
      "749797it [00:08, 84012.13it/s] \n"
     ]
    }
   ],
   "source": [
    "all_data = []\n",
    "with open('/home/husein/ssd3/one-for-all/rumi-jawi.jsonl') as fopen:\n",
    "    for l in tqdm(fopen):\n",
    "        l = json.loads(l)\n",
    "        all_data.append(l)\n",
    "        \n",
    "for data in random.sample(all_data, 10000):\n",
    "    fopen_l.write(f'{json.dumps(data)}\\n')\n",
    "    fopen_l.flush()"
   ]
  },
  {
   "cell_type": "code",
   "execution_count": 20,
   "id": "7a95f085",
   "metadata": {},
   "outputs": [
    {
     "name": "stderr",
     "output_type": "stream",
     "text": [
      "38760it [00:00, 97872.62it/s] \n"
     ]
    }
   ],
   "source": [
    "all_data = []\n",
    "with open('prepared-mixtral-malaysian-abstractive-summarization.jsonl') as fopen:\n",
    "    for l in tqdm(fopen):\n",
    "        l = json.loads(l)\n",
    "        all_data.append(l)\n",
    "        \n",
    "for data in random.sample(all_data, 20000):\n",
    "    fopen_l.write(f'{json.dumps(data)}\\n')\n",
    "    fopen_l.flush()"
   ]
  },
  {
   "cell_type": "code",
   "execution_count": 21,
   "id": "c34315be",
   "metadata": {
    "scrolled": false
   },
   "outputs": [
    {
     "name": "stderr",
     "output_type": "stream",
     "text": [
      "799733it [00:22, 35481.61it/s]\n",
      "1036411it [00:21, 47285.91it/s]\n",
      "1699454it [00:10, 155781.40it/s]\n",
      "0it [00:00, ?it/s]\n",
      "141851it [00:02, 64183.97it/s]\n",
      "333758it [00:15, 22020.33it/s]\n",
      "799731it [00:22, 35418.59it/s]\n",
      "740431it [00:22, 32443.52it/s]\n",
      "0it [00:00, ?it/s]\n",
      "2187464it [00:48, 44946.49it/s]\n",
      "631727it [00:19, 32122.84it/s]\n",
      "2496675it [00:54, 45403.03it/s]\n"
     ]
    }
   ],
   "source": [
    "# git lfs clone https://huggingface.co/datasets/mesolitica/noisy-standard-malay-translation-instructions\n",
    "# git lfs clone https://huggingface.co/datasets/mesolitica/standard-malay-translation-instructions\n",
    "\n",
    "translation_files = glob('/home/husein/ssd2/translation/*-instructions.jsonl')\n",
    "for f in translation_files:\n",
    "    all_data = []\n",
    "    with open(f) as fopen:\n",
    "        for l in tqdm(fopen):\n",
    "            data = json.loads(l)\n",
    "            try:\n",
    "                if not accept(data['input'], skip_indon = False, skip_translation = False):\n",
    "                    continue\n",
    "                if not accept(data['output'], min_len = 1, skip_translation = False):\n",
    "                    continue\n",
    "                all_data.append(data)\n",
    "            except:\n",
    "                pass\n",
    "    \n",
    "    all_data = random.sample(all_data, min(len(all_data), 10000))\n",
    "    for data in all_data:\n",
    "        fopen_l.write(f'{json.dumps(data)}\\n')\n",
    "        fopen_l.flush()"
   ]
  },
  {
   "cell_type": "code",
   "execution_count": 22,
   "id": "49c7677b",
   "metadata": {},
   "outputs": [
    {
     "name": "stdout",
     "output_type": "stream",
     "text": [
      "329947 combine-malay-no-alignment-multitasks-v5-no-code.jsonl\r\n"
     ]
    }
   ],
   "source": [
    "!wc -l combine-malay-no-alignment-multitasks-v5-no-code.jsonl"
   ]
  },
  {
   "cell_type": "code",
   "execution_count": 23,
   "id": "951147cd",
   "metadata": {},
   "outputs": [
    {
     "data": {
      "text/plain": [
       "25957"
      ]
     },
     "execution_count": 23,
     "metadata": {},
     "output_type": "execute_result"
    }
   ],
   "source": [
    "with open('post-translation-instructions.jsonl') as fopen:\n",
    "    mapping = json.load(fopen)\n",
    "len(mapping)"
   ]
  },
  {
   "cell_type": "code",
   "execution_count": 24,
   "id": "dd04cb0c",
   "metadata": {},
   "outputs": [
    {
     "data": {
      "text/plain": [
       "1689426"
      ]
     },
     "execution_count": 24,
     "metadata": {},
     "output_type": "execute_result"
    }
   ],
   "source": [
    "augmentation = {}\n",
    "with open('/home/husein/ssd1/ctranslate2/augmentation-questions.jsonl') as fopen:\n",
    "    for l in fopen:\n",
    "        l = json.loads(l)\n",
    "        augmentation[l['question']] = l['augmentation']\n",
    "        \n",
    "len(augmentation)"
   ]
  },
  {
   "cell_type": "code",
   "execution_count": 25,
   "id": "57c20914",
   "metadata": {},
   "outputs": [
    {
     "name": "stdout",
     "output_type": "stream",
     "text": [
      "prepared-chatgpt-malaysian-general-qa.jsonl\n"
     ]
    },
    {
     "name": "stderr",
     "output_type": "stream",
     "text": [
      "31236it [00:03, 7856.89it/s] \n"
     ]
    },
    {
     "name": "stdout",
     "output_type": "stream",
     "text": [
      "60925\n",
      "prepared-chatgpt-malaysian-open-qa.jsonl\n"
     ]
    },
    {
     "name": "stderr",
     "output_type": "stream",
     "text": [
      "265828it [01:07, 3918.11it/s]\n"
     ]
    },
    {
     "name": "stdout",
     "output_type": "stream",
     "text": [
      "60985\n",
      "prepared-chatgpt-malay-instructions.jsonl\n"
     ]
    },
    {
     "name": "stderr",
     "output_type": "stream",
     "text": [
      "533562it [01:12, 7385.30it/s] \n"
     ]
    },
    {
     "name": "stdout",
     "output_type": "stream",
     "text": [
      "63432\n",
      "prepared-chatgpt4-malaysian-general-qa.jsonl\n"
     ]
    },
    {
     "name": "stderr",
     "output_type": "stream",
     "text": [
      "70258it [00:09, 7346.10it/s] \n"
     ]
    },
    {
     "name": "stdout",
     "output_type": "stream",
     "text": [
      "63630\n",
      "prepared-chatgpt4-noisy-translation.jsonl\n"
     ]
    },
    {
     "name": "stderr",
     "output_type": "stream",
     "text": [
      "37674it [00:00, 82439.22it/s]\n"
     ]
    },
    {
     "name": "stdout",
     "output_type": "stream",
     "text": [
      "63630\n",
      "prepared-mixtral-malaysian-general-qa.jsonl\n"
     ]
    },
    {
     "name": "stderr",
     "output_type": "stream",
     "text": [
      "265851it [00:39, 6724.51it/s] "
     ]
    },
    {
     "name": "stdout",
     "output_type": "stream",
     "text": [
      "63648\n"
     ]
    },
    {
     "name": "stderr",
     "output_type": "stream",
     "text": [
      "\n"
     ]
    }
   ],
   "source": [
    "files = [\n",
    "    'prepared-chatgpt-malaysian-general-qa.jsonl',\n",
    "    'prepared-chatgpt-malaysian-open-qa.jsonl',\n",
    "    'prepared-chatgpt-malay-instructions.jsonl',\n",
    "    'prepared-chatgpt4-malaysian-general-qa.jsonl',\n",
    "    'prepared-chatgpt4-noisy-translation.jsonl',\n",
    "    'prepared-mixtral-malaysian-general-qa.jsonl',\n",
    "]\n",
    "\n",
    "for f in files:\n",
    "    print(f)\n",
    "    with open(f) as fopen:\n",
    "        for l in tqdm(fopen):\n",
    "            try:\n",
    "                data = json.loads(l)\n",
    "                if data['output'] in mapping:\n",
    "                    data['output'] = mapping[data['output']]\n",
    "                if not accept(data['input'], skip_indon = False):\n",
    "                    continue\n",
    "                if not accept(data['output'], min_len = 1, skip_indon = 'noisy-translation' not in f):\n",
    "                    continue\n",
    "                \n",
    "                if data['input'] in augmentation:\n",
    "                    d = copy.deepcopy(data)\n",
    "                    q = random.choice(augmentation[d['input']])\n",
    "                    d['input'] = q\n",
    "                \n",
    "                    fopen_l.write(f'{json.dumps(d)}\\n')\n",
    "                    fopen_l.flush()\n",
    "                    \n",
    "                fopen_l.write(f'{json.dumps(data)}\\n')\n",
    "                fopen_l.flush()\n",
    "            except Exception as e:\n",
    "                pass\n",
    "            \n",
    "    print(len(indons))"
   ]
  },
  {
   "cell_type": "code",
   "execution_count": 26,
   "id": "b7e7c572",
   "metadata": {},
   "outputs": [
    {
     "name": "stdout",
     "output_type": "stream",
     "text": [
      "2853603 combine-malay-no-alignment-multitasks-v5.jsonl\r\n"
     ]
    }
   ],
   "source": [
    "!wc -l combine-malay-no-alignment-multitasks-v5.jsonl"
   ]
  },
  {
   "cell_type": "code",
   "execution_count": 27,
   "id": "e016cd00",
   "metadata": {},
   "outputs": [
    {
     "name": "stdout",
     "output_type": "stream",
     "text": [
      "prepared-kertas-1.jsonl\n",
      "'NoneType' object has no attribute 'strip'\n",
      "'NoneType' object has no attribute 'strip'\n",
      "'NoneType' object has no attribute 'strip'\n",
      "'NoneType' object has no attribute 'strip'\n",
      "'NoneType' object has no attribute 'strip'\n",
      "prepared-synthetic-commonsense.jsonl\n",
      "prepared-kesalahan-tatabahasa.jsonl\n",
      "prepared-malaysian-qa-choice.jsonl\n"
     ]
    }
   ],
   "source": [
    "files = [\n",
    "    'prepared-kertas-1.jsonl',\n",
    "    'prepared-synthetic-commonsense.jsonl',\n",
    "    'prepared-kesalahan-tatabahasa.jsonl',\n",
    "    'prepared-malaysian-qa-choice.jsonl',\n",
    "]\n",
    "\n",
    "for f in files:\n",
    "    print(f)\n",
    "    with open(f) as fopen:\n",
    "        for l in fopen:\n",
    "            try:\n",
    "                data = json.loads(l)\n",
    "                if not accept(data['input'], skip_indon = False):\n",
    "                    continue\n",
    "                if not len(data['output'].strip()):\n",
    "                    continue\n",
    "                if rejected_output(data['input'], data['output']):\n",
    "                    continue\n",
    "                fopen_l.write(f'{json.dumps(data)}\\n')\n",
    "                fopen_l.flush()\n",
    "            except Exception as e:\n",
    "                print(e)\n",
    "                pass"
   ]
  },
  {
   "cell_type": "code",
   "execution_count": 28,
   "id": "322b30c7",
   "metadata": {},
   "outputs": [
    {
     "name": "stdout",
     "output_type": "stream",
     "text": [
      "2865789 combine-malay-no-alignment-multitasks-v5.jsonl\r\n"
     ]
    }
   ],
   "source": [
    "!wc -l combine-malay-no-alignment-multitasks-v5.jsonl"
   ]
  },
  {
   "cell_type": "code",
   "execution_count": 29,
   "id": "3100fbec",
   "metadata": {},
   "outputs": [
    {
     "name": "stdout",
     "output_type": "stream",
     "text": [
      "prepared-metamathqa.jsonl\n"
     ]
    }
   ],
   "source": [
    "files = [\n",
    "    'prepared-metamathqa.jsonl',\n",
    "]\n",
    "\n",
    "for f in files:\n",
    "    print(f)\n",
    "    with open(f) as fopen:\n",
    "        for l in fopen:\n",
    "            try:\n",
    "\n",
    "                data = json.loads(l)\n",
    "                \n",
    "                if data['output'].strip().endswith('ialah:'):\n",
    "                    continue\n",
    "                if not accept(data['input'], skip_indon = False):\n",
    "                    continue\n",
    "                if not accept(data['output']):\n",
    "                    continue\n",
    "                    \n",
    "                if random.random() < 0.8:\n",
    "                    continue\n",
    "                    \n",
    "                fopen_l.write(f'{json.dumps(data)}\\n')\n",
    "                fopen_l.flush()\n",
    "            except:\n",
    "                pass"
   ]
  },
  {
   "cell_type": "code",
   "execution_count": 30,
   "id": "64eeaca7",
   "metadata": {},
   "outputs": [
    {
     "name": "stdout",
     "output_type": "stream",
     "text": [
      "prepared-camel-ai.jsonl\n"
     ]
    }
   ],
   "source": [
    "files = [\n",
    "    'prepared-camel-ai.jsonl',\n",
    "]\n",
    "\n",
    "for f in files:\n",
    "    print(f)\n",
    "    with open(f) as fopen:\n",
    "        for l in fopen:\n",
    "            try:\n",
    "\n",
    "                data = json.loads(l)\n",
    "                \n",
    "                if data['output'].strip().endswith('ialah:'):\n",
    "                    continue\n",
    "                if not accept(data['input'], skip_indon = False):\n",
    "                    continue\n",
    "                if not accept(data['output']):\n",
    "                    continue\n",
    "                fopen_l.write(f'{json.dumps(data)}\\n')\n",
    "                fopen_l.flush()\n",
    "            except:\n",
    "                pass"
   ]
  },
  {
   "cell_type": "code",
   "execution_count": 31,
   "id": "7cbc8404",
   "metadata": {},
   "outputs": [
    {
     "name": "stderr",
     "output_type": "stream",
     "text": [
      "591596it [03:23, 2903.86it/s]\n",
      "167410it [02:02, 1372.12it/s]\n"
     ]
    }
   ],
   "source": [
    "files = [\n",
    "    'prepared-mixtral-malaysian-rag.jsonl',\n",
    "    'prepared-mixtral-malaysian-rag-knowledge-base-part2.jsonl',\n",
    "]\n",
    "\n",
    "for f in files:\n",
    "    with open(f) as fopen:\n",
    "        for l in tqdm(fopen):\n",
    "\n",
    "            if 'tolong terjemah' in l.lower():\n",
    "                continue\n",
    "\n",
    "            try:\n",
    "                data = json.loads(l)\n",
    "                if not accept(data['input']):\n",
    "                    continue\n",
    "\n",
    "                if random.random() > 0.3:\n",
    "                    continue\n",
    "\n",
    "                fopen_l.write(f'{json.dumps(data)}\\n')\n",
    "                fopen_l.flush()\n",
    "            except:\n",
    "                pass"
   ]
  },
  {
   "cell_type": "code",
   "execution_count": 32,
   "id": "0e2ad60f",
   "metadata": {},
   "outputs": [
    {
     "name": "stderr",
     "output_type": "stream",
     "text": [
      "591596it [03:22, 2924.07it/s]\n",
      "167410it [02:03, 1357.75it/s]\n"
     ]
    }
   ],
   "source": [
    "files = [\n",
    "    'prepared-mixtral-malaysian-rag.jsonl',\n",
    "    'prepared-mixtral-malaysian-rag-knowledge-base-part2.jsonl',\n",
    "]\n",
    "\n",
    "for f in files:\n",
    "    with open(f) as fopen:\n",
    "        for l in tqdm(fopen):\n",
    "\n",
    "            if 'tolong terjemah' in l.lower():\n",
    "                continue\n",
    "\n",
    "            try:\n",
    "                data = json.loads(l)\n",
    "                if not accept(data['input']):\n",
    "                    continue\n",
    "                    \n",
    "                if random.random() > 0.2:\n",
    "                    continue\n",
    "                \n",
    "                count = 0\n",
    "                inputs, outputs = split(data)\n",
    "                for i in range(len(inputs)):\n",
    "                    if inputs[i] in augmentation:\n",
    "                        inputs[i] = random.choice(augmentation[inputs[i]])\n",
    "                        count += 1\n",
    "                        \n",
    "                if count == 0:\n",
    "                    continue\n",
    "                        \n",
    "                chats = []\n",
    "                for i in range(len(inputs)):\n",
    "                    chats.extend([\n",
    "                        f'<manusia>: {inputs[i]}',\n",
    "                        f'<bot>: {outputs[i]}'\n",
    "                    ])\n",
    "                    \n",
    "                data['input'] = '\\n'.join(chats)\n",
    "\n",
    "                fopen_l.write(f'{json.dumps(data)}\\n')\n",
    "                fopen_l.flush()\n",
    "            except Exception as e:\n",
    "                print(e)\n",
    "                pass"
   ]
  },
  {
   "cell_type": "code",
   "execution_count": 33,
   "id": "5f41fe54",
   "metadata": {},
   "outputs": [
    {
     "name": "stderr",
     "output_type": "stream",
     "text": [
      "397786it [02:16, 2919.10it/s] \n"
     ]
    }
   ],
   "source": [
    "with open('prepared-mixtral-malaysian-multiturn.jsonl') as fopen:\n",
    "    for l in tqdm(fopen):\n",
    "\n",
    "        if 'tolong terjemah' in l.lower():\n",
    "            continue\n",
    "\n",
    "        try:\n",
    "            data = json.loads(l)\n",
    "            if not accept(data['input']):\n",
    "                continue\n",
    "            fopen_l.write(f'{json.dumps(data)}\\n')\n",
    "            fopen_l.flush()\n",
    "        except:\n",
    "            pass"
   ]
  },
  {
   "cell_type": "code",
   "execution_count": 34,
   "id": "359be59c",
   "metadata": {},
   "outputs": [
    {
     "name": "stderr",
     "output_type": "stream",
     "text": [
      "397786it [02:16, 2912.44it/s] \n"
     ]
    }
   ],
   "source": [
    "with open('prepared-mixtral-malaysian-multiturn.jsonl') as fopen:\n",
    "    for l in tqdm(fopen):\n",
    "\n",
    "        if 'tolong terjemah' in l.lower():\n",
    "            continue\n",
    "\n",
    "        try:\n",
    "            data = json.loads(l)\n",
    "            if not accept(data['input']):\n",
    "                continue\n",
    "            \n",
    "            if 'tambah' in data['input'].lower():\n",
    "                continue\n",
    "            \n",
    "            if '2 + 2' in data['input'].lower():\n",
    "                continue\n",
    "                \n",
    "            if 'anda seorang chatbot' in data['input'].lower():\n",
    "                continue\n",
    "                \n",
    "            if random.random() > 0.2:\n",
    "                continue\n",
    "            \n",
    "            count = 0\n",
    "            inputs, outputs = split(data)\n",
    "            for i in range(len(inputs)):\n",
    "                if inputs[i] in augmentation:\n",
    "                    inputs[i] = random.choice(augmentation[inputs[i]])\n",
    "                    count += 1\n",
    "                    \n",
    "            if count == 0:\n",
    "                continue\n",
    "\n",
    "            chats = []\n",
    "            for i in range(len(inputs)):\n",
    "                chats.extend([\n",
    "                    f'<manusia>: {inputs[i]}',\n",
    "                    f'<bot>: {outputs[i]}'\n",
    "                ])\n",
    "\n",
    "            data['input'] = '\\n'.join(chats)\n",
    "            fopen_l.write(f'{json.dumps(data)}\\n')\n",
    "            fopen_l.flush()\n",
    "        except Exception as e:\n",
    "            print(e)\n",
    "            pass"
   ]
  },
  {
   "cell_type": "code",
   "execution_count": 35,
   "id": "371132e4",
   "metadata": {},
   "outputs": [
    {
     "name": "stderr",
     "output_type": "stream",
     "text": [
      "361788it [02:32, 2378.11it/s]\n"
     ]
    }
   ],
   "source": [
    "with open('prepared-malaysian-ultrachat.jsonl') as fopen:\n",
    "    for l in tqdm(fopen):\n",
    "\n",
    "        if 'tolong terjemah' in l.lower():\n",
    "            continue\n",
    "\n",
    "        try:\n",
    "            data = json.loads(l)\n",
    "            if not accept(data['input']):\n",
    "                continue\n",
    "            fopen_l.write(f'{json.dumps(data)}\\n')\n",
    "            fopen_l.flush()\n",
    "        except:\n",
    "            pass"
   ]
  },
  {
   "cell_type": "code",
   "execution_count": 36,
   "id": "fab401a0",
   "metadata": {},
   "outputs": [
    {
     "name": "stdout",
     "output_type": "stream",
     "text": [
      "prepared-ultrachat-train_8.jsonl.translated.malay.no-alignment\n"
     ]
    },
    {
     "name": "stderr",
     "output_type": "stream",
     "text": [
      "138162it [00:45, 3045.42it/s]\n"
     ]
    },
    {
     "name": "stdout",
     "output_type": "stream",
     "text": [
      "prepared-ultrachat-train_4.jsonl.translated.malay.no-alignment\n"
     ]
    },
    {
     "name": "stderr",
     "output_type": "stream",
     "text": [
      "121671it [00:56, 2138.77it/s]\n"
     ]
    },
    {
     "name": "stdout",
     "output_type": "stream",
     "text": [
      "prepared-ultrachat-train_9.jsonl.translated.malay.no-alignment\n"
     ]
    },
    {
     "name": "stderr",
     "output_type": "stream",
     "text": [
      "109062it [00:35, 3034.52it/s]\n"
     ]
    },
    {
     "name": "stdout",
     "output_type": "stream",
     "text": [
      "prepared-ultrachat-train_7.jsonl.translated.malay.no-alignment\n"
     ]
    },
    {
     "name": "stderr",
     "output_type": "stream",
     "text": [
      "121653it [00:50, 2396.65it/s]\n"
     ]
    },
    {
     "name": "stdout",
     "output_type": "stream",
     "text": [
      "prepared-ultrachat-train_1.jsonl.translated.malay.no-alignment\n"
     ]
    },
    {
     "name": "stderr",
     "output_type": "stream",
     "text": [
      "81561it [00:24, 3272.69it/s]\n"
     ]
    },
    {
     "name": "stdout",
     "output_type": "stream",
     "text": [
      "prepared-ultrachat-train_0.jsonl.translated.malay.no-alignment\n"
     ]
    },
    {
     "name": "stderr",
     "output_type": "stream",
     "text": [
      "89787it [00:28, 3203.03it/s]\n"
     ]
    },
    {
     "name": "stdout",
     "output_type": "stream",
     "text": [
      "prepared-ultrachat-train_6.jsonl.translated.malay.no-alignment\n"
     ]
    },
    {
     "name": "stderr",
     "output_type": "stream",
     "text": [
      "112491it [00:53, 2093.27it/s]\n"
     ]
    },
    {
     "name": "stdout",
     "output_type": "stream",
     "text": [
      "prepared-ultrachat-train_5.jsonl.translated.malay.no-alignment\n"
     ]
    },
    {
     "name": "stderr",
     "output_type": "stream",
     "text": [
      "113098it [00:54, 2093.34it/s]\n"
     ]
    },
    {
     "name": "stdout",
     "output_type": "stream",
     "text": [
      "prepared-ultrachat-train_3.jsonl.translated.malay.no-alignment\n"
     ]
    },
    {
     "name": "stderr",
     "output_type": "stream",
     "text": [
      "126937it [00:46, 2756.60it/s]\n"
     ]
    },
    {
     "data": {
      "text/plain": [
       "345884"
      ]
     },
     "execution_count": 36,
     "metadata": {},
     "output_type": "execute_result"
    }
   ],
   "source": [
    "files = glob('prepared-ultrachat-*')\n",
    "files = [f for f in files if 'mesolitica' not in f]\n",
    "\n",
    "count = 0\n",
    "for f in files:\n",
    "    print(f)\n",
    "    with open(f) as fopen:\n",
    "        \n",
    "        for l in tqdm(fopen):\n",
    "            \n",
    "            if 'Saya mahir dalam bahasa' in l:\n",
    "                continue\n",
    "                \n",
    "            if 'tolong terjemah' in l.lower():\n",
    "                continue\n",
    "                \n",
    "            if '```' in l:\n",
    "                continue\n",
    "                    \n",
    "            try:\n",
    "                data = json.loads(l)\n",
    "                if not accept(data['input']):\n",
    "                    continue\n",
    "                    \n",
    "                if random.random() > 0.4:\n",
    "                    continue\n",
    "                    \n",
    "                fopen_l.write(f'{json.dumps(data)}\\n')\n",
    "                fopen_l.flush()\n",
    "                \n",
    "                count += 1\n",
    "            except:\n",
    "                pass\n",
    "            \n",
    "count"
   ]
  },
  {
   "cell_type": "code",
   "execution_count": 37,
   "id": "a3531135",
   "metadata": {},
   "outputs": [],
   "source": [
    "with open('prepared-combine-multiple-chats-no-code.jsonl') as fopen:\n",
    "    for l in fopen:\n",
    "\n",
    "        if 'tolong terjemah' in l.lower():\n",
    "            continue\n",
    "\n",
    "        try:\n",
    "            data = json.loads(l)\n",
    "            if not accept(data['input']):\n",
    "                continue\n",
    "            fopen_l.write(f'{json.dumps(data)}\\n')\n",
    "            fopen_l.flush()\n",
    "        except:\n",
    "            pass"
   ]
  },
  {
   "cell_type": "code",
   "execution_count": 38,
   "id": "007b034d",
   "metadata": {},
   "outputs": [
    {
     "name": "stdout",
     "output_type": "stream",
     "text": [
      "3419449 combine-malay-no-alignment-multitasks-v5-no-code.jsonl\r\n"
     ]
    }
   ],
   "source": [
    "!wc -l combine-malay-no-alignment-multitasks-v5-no-code.jsonl"
   ]
  },
  {
   "cell_type": "code",
   "execution_count": 39,
   "id": "9b462e84",
   "metadata": {},
   "outputs": [
    {
     "name": "stderr",
     "output_type": "stream",
     "text": [
      "2616586it [00:26, 33991.60it/s] "
     ]
    },
    {
     "name": "stdout",
     "output_type": "stream",
     "text": [
      "Apakah insentif yang disediakan oleh kerajaan Malaysia untuk syarikat yang menggunakan biojisim kelapa sawit untuk menghasilkan produk nilai tambah? 148  0 {'prompt_input': None, 'input': '<manusia>: Apakah insentif yang disediakan oleh kerajaan Malaysia untuk syarikat yang menggunakan biojisim kelapa sawit untuk menghasilkan produk nilai tambah?\\n<bot>:                                                                                                                                                                                                                                                                                                                                                                                                                                                                                                                                                                                                                                                                                                                                                                                                                                                                                                                                                                                                                                                                                                                                                                                                                                                                                                                                                                                                                      \\n<manusia>:                                                                                                                                                                                                                                                                                                                                                                                                                                                                                                                                                                                                                                                                                                                                                                                                                                                                                                                                                                                                                                                                                                                                                                                                                                                                                                                                                                                                                      \\n<bot>: !       .\\n\\n1.   :\\n   -  : 10    100%   .                                                                                                                                                                                                                                                                                                                                                                                                                                                                                                                                                                                                                                                                                                                                                                                                                                                                                                                                                                                                                                                                                                                                                                                                                                                                                                                                                                                          \\n<manusia>:      .\\n<bot>:      .\\n\\n1.   :\\n   -     ,                                                                                                                                                                                                                                                                                                                                                                                                                                                                                                                                                                                                                                                                                                                                                                                                                                                                                                                                                                                                                                                                                                                                                                                                                                                                                                                                                                                                  \\n<manusia>: \"Adakah anda mempunyai     (MIDA)?\"\\n<bot>: , (MIDA)', 'output': None}\n",
      "또는 교육 기 관, 유치원. •• 사회복지부(Department of Social Welfare)에 등록된 사립 아동 돌봄 센터 신청서는 국세청(IRB)에 제출하여야 합니다. 11.2 MSC Malaysia 내 건물에 대한 산업용 건물 공제 사이버자야(Cyberjaya) 내에 MSC Malaysia 자격 회사들이 사용할 더 많은 건물의 건설을 장려하기 위해, 사이버자야 내 에서 MSC Malaysia 자격 회사들이 입주한 신축 건물의 소 유자들에 대해 10년간 산업용 건물 공제(IBA)가 제공됩니다. 대상 신축 건물에는 준공은 되었으나 아직 MSC Malaysia 자 격 회사들이 입주하지 않은 건물도 포함됩니다. 신청서는 국세청(IRB)에 제출하여야 합니다. 27 신규 투자에 대한 인센티브 11.3 감사 수수료 공제 사업비용의 절감과 기업의 규제 준수를 강화하기 위해 회사의 감사 수수료 지급으로 발생한 지출은 소득세 산정 시 공제가 허용되는 비용으로 봅니다. 신청서는 국세청(IRB)에 제출하여야 합니다. 11.4 엔젤 투자자에 대한 세제 인센티브 종자자금, 창업준비 자금, 또는 창업초기 자금조달단계에서 벤처기업에 투자하는 엔젤 투자자는 총 투자액에 대한 공제를 신청할 수 있는 자격이 주어집니다. 보다 많은 엔젤 투자자들 이 벤처기업에 투자하도록 유도하기 위해, 2013년 1월 1일부 터 엔젤 투자자가 벤처기업에 투자한 총 투자액은 모든 소득 에 대해 공제할 수 있습니다. 이 인센티브는 2013년 1월 1일부터 2020년 12월 31일까지 재무부(MOF)에 접수된 신청서에 대해 적용됩니다. 11.5 자산의 해체 및 철거 비용에 대한 세제 인센티브 설비 및 기계류를 포함한 자산의 해체 및 철거 비용과 설치 장 소의 원상 복구 비용은 1967년 소득세법 별표 3(Schedule 3)에서는 자산 비용으로 인정하지 않아 공제 자격에 해당 하지 않습니다 그러나 재무보고기준(Financial Reporting Standard, FRS) 116에서는 자산 비용은 자산의 해체, 철거 및 설치 장소의 원상 복구 의무와 관련하여 발생할 추정 소요 비용을 포함한다고 규정하고 있습니다. 따라서 1967년 소득세법과 재무보고기준(FRS) 116상의 조 세처리 통일을 위해 1967년 소득세법 별표 3에 다음의 조건 하에 설비 및 기계류를 포함한 자산의 해체 및 철거 비용과 설 치 장소의 원상 복구 비용에 대한 균형 공제*를 허용하는 특별 조항을 도입하였습니다. 신청서는 국세청(IRB)에 제출하여야 합니다. *총 균형공제액은 공장 설비 및 기계류의 해체 및 철거와 설치 장소 원상 복구 비용을 당해 자산 처분 당시 설비 및 기계에 대 한 지출 잔액에 합산하여 정합니다. 11.6 소유권 취득에 대한 인센티브 특허, 산업 디자인 또는 상표와 같은 소유권의 취득 시 비용 이 발생하는 (70% 이상이 말레이시아 시민이 소유한) 제조 회사. 발생한 컨설팅 수수료, 법률 수수료, 인지세를 포함하여 소유 권 취득 비용. 단, 로얄티 지급은 포함되지 않습니다. 소유권 취득을 위해 발생한 5년간의 비용에 대해 매년 20% 에 상당하는 금액의 공제 신청서는 국세청(IRB)에 제출하여야 합니다. 11.7 관세 관련 산업 i. 원재료/구성부품에 대한 수입관세의 면제 완제품의 수출 또는 내수 여부와 관계없이 원재료/구성품에 대한 수입관세의 완전면제가 고려될 수 있습니다. 수출용 완제품의 경우 원료/구성품이 국내에서 생산되지 않거 나, 국내 생산이 되긴 하나 품질과 가격이 만족스럽지 못한 때 에는 당해 원재료/구성품에 대한 수입관세가 통상적으로 완 전 면제됩니다. 내수용 완제품의 경우 국내에서 생산되지 않는 원료와 컴포넌 트에 대한 수입관세는 완전면제가 고려될 수 있습니다. 또한 당해 과세대상 원료/구성품으로 만들어질 완제품이 수입관세 대상품목이 아닌 때에도 완전 면제가 고려될 수 있습니다. 호텔과 관광 프로젝트는 수입이 확인된 자재에 대한 수입관세 와 판매세를 완전 면제받을 수 있습니다. 투자세 공제 신청서는 투자진흥청(MIDA)에 제출하여야 합니다. ii. 2013년 관세(면제) 명령과 2013년 판매세(면 제) 명령에 의한 기계류, 장비, 부품, 소모품에 대한 수입관세 및/또는 판매세 면제 자율신고 주관세지역(PCA)의 제조업체는 자율신고 절차를 통해 이들 면제 명령에 의한 기계류, 장비, 부품, 소모품에 대한 수입관 세 및/또는 판매세의 면제를 청구함으로써 이러한 편리한 절 차로부터 이득을 볼 수 있습니다. 이 새로운 자율신고 절차에 따르면, 회사는 수입 또는 구매 할 기계류, 장비, 부품과 소모품의 목록과 함께 투자진흥청 (MIDA)이 발급한 확인서를 제출하여 관세의 면제를 청구할 수 있는 허가를 받을 수 있습니다. 회사는 세관이 완전한 제출 을 접수한 날짜로부터 2주 이내에 허가를 득할 수 있습니다. 이 새로운 자율신고 절차가 도입되기 전에는 1967년 관세법 14(2)절의 규정 및/또는 1972년 판매법 10절의 규정에 따라 기계류, 장비, 부품과 소모품의 수입관세 및/또는 판매세 면제 에 대해 투자진흥청(MIDA)에 신청할 경우, 완벽한 정보를 접 수한 일자로부터 4주의 처리기간이 소요됩니다. 2013년 관세(면제) 명령과 2013년 판매세 (면제) 명령은 2014년 5월 2일 발효되었습니다. 28 신규 투자에 대한 인센티브 이 면제제도의 주된 수혜 대상은 주관세지역(PCA)의 제조업 체들입니다. a) 2013년 관세(면제) 명령 115항에 따라 허가된 제조보 세창고, 보세창고 또는 자유지역에서 수입 또는 구매한 부품과 소모품을 제외한 기계류 및 장비에 대한 수입관 세 면제. b) 2013년 판매세(면제) 명령 196항에 따라 허가된 제조 보세창고, 보세창고 또는 자유지역에서 수입 또는 구매 한 부품과 소모품을 제외한 기계류와 장비에 대한 판매 세 면제. c) 2013년 판매세 (면제) 명령 106항에 따라 (1972년 판 매세법에 따라 허가된) 제조업체로부터 구매한 기계류, 장비, 부품과 소모품에 대한 판매세 면제. 신청서는 기계류, 장비, 부품 및 소모품을 수입 또는 구매하기 전에 미리 제출하여야 합니다. 따라서 회사는 그러한\n",
      "\n",
      "Apakah faedah dan keperluan untuk memohon insentif cukai untuk pusat jagaan kanak-kanak milik persendirian di Malaysia? 3133  0 {'prompt_input': None, 'input': '<manusia>: 또는 교육 기 관, 유치원. •• 사회복지부(Department of Social Welfare)에 등록된 사립 아동 돌봄 센터 신청서는 국세청(IRB)에 제출하여야 합니다. 11.2 MSC Malaysia 내 건물에 대한 산업용 건물 공제 사이버자야(Cyberjaya) 내에 MSC Malaysia 자격 회사들이 사용할 더 많은 건물의 건설을 장려하기 위해, 사이버자야 내 에서 MSC Malaysia 자격 회사들이 입주한 신축 건물의 소 유자들에 대해 10년간 산업용 건물 공제(IBA)가 제공됩니다. 대상 신축 건물에는 준공은 되었으나 아직 MSC Malaysia 자 격 회사들이 입주하지 않은 건물도 포함됩니다. 신청서는 국세청(IRB)에 제출하여야 합니다. 27 신규 투자에 대한 인센티브 11.3 감사 수수료 공제 사업비용의 절감과 기업의 규제 준수를 강화하기 위해 회사의 감사 수수료 지급으로 발생한 지출은 소득세 산정 시 공제가 허용되는 비용으로 봅니다. 신청서는 국세청(IRB)에 제출하여야 합니다. 11.4 엔젤 투자자에 대한 세제 인센티브 종자자금, 창업준비 자금, 또는 창업초기 자금조달단계에서 벤처기업에 투자하는 엔젤 투자자는 총 투자액에 대한 공제를 신청할 수 있는 자격이 주어집니다. 보다 많은 엔젤 투자자들 이 벤처기업에 투자하도록 유도하기 위해, 2013년 1월 1일부 터 엔젤 투자자가 벤처기업에 투자한 총 투자액은 모든 소득 에 대해 공제할 수 있습니다. 이 인센티브는 2013년 1월 1일부터 2020년 12월 31일까지 재무부(MOF)에 접수된 신청서에 대해 적용됩니다. 11.5 자산의 해체 및 철거 비용에 대한 세제 인센티브 설비 및 기계류를 포함한 자산의 해체 및 철거 비용과 설치 장 소의 원상 복구 비용은 1967년 소득세법 별표 3(Schedule 3)에서는 자산 비용으로 인정하지 않아 공제 자격에 해당 하지 않습니다 그러나 재무보고기준(Financial Reporting Standard, FRS) 116에서는 자산 비용은 자산의 해체, 철거 및 설치 장소의 원상 복구 의무와 관련하여 발생할 추정 소요 비용을 포함한다고 규정하고 있습니다. 따라서 1967년 소득세법과 재무보고기준(FRS) 116상의 조 세처리 통일을 위해 1967년 소득세법 별표 3에 다음의 조건 하에 설비 및 기계류를 포함한 자산의 해체 및 철거 비용과 설 치 장소의 원상 복구 비용에 대한 균형 공제*를 허용하는 특별 조항을 도입하였습니다. 신청서는 국세청(IRB)에 제출하여야 합니다. *총 균형공제액은 공장 설비 및 기계류의 해체 및 철거와 설치 장소 원상 복구 비용을 당해 자산 처분 당시 설비 및 기계에 대 한 지출 잔액에 합산하여 정합니다. 11.6 소유권 취득에 대한 인센티브 특허, 산업 디자인 또는 상표와 같은 소유권의 취득 시 비용 이 발생하는 (70% 이상이 말레이시아 시민이 소유한) 제조 회사. 발생한 컨설팅 수수료, 법률 수수료, 인지세를 포함하여 소유 권 취득 비용. 단, 로얄티 지급은 포함되지 않습니다. 소유권 취득을 위해 발생한 5년간의 비용에 대해 매년 20% 에 상당하는 금액의 공제 신청서는 국세청(IRB)에 제출하여야 합니다. 11.7 관세 관련 산업 i. 원재료/구성부품에 대한 수입관세의 면제 완제품의 수출 또는 내수 여부와 관계없이 원재료/구성품에 대한 수입관세의 완전면제가 고려될 수 있습니다. 수출용 완제품의 경우 원료/구성품이 국내에서 생산되지 않거 나, 국내 생산이 되긴 하나 품질과 가격이 만족스럽지 못한 때 에는 당해 원재료/구성품에 대한 수입관세가 통상적으로 완 전 면제됩니다. 내수용 완제품의 경우 국내에서 생산되지 않는 원료와 컴포넌 트에 대한 수입관세는 완전면제가 고려될 수 있습니다. 또한 당해 과세대상 원료/구성품으로 만들어질 완제품이 수입관세 대상품목이 아닌 때에도 완전 면제가 고려될 수 있습니다. 호텔과 관광 프로젝트는 수입이 확인된 자재에 대한 수입관세 와 판매세를 완전 면제받을 수 있습니다. 투자세 공제 신청서는 투자진흥청(MIDA)에 제출하여야 합니다. ii. 2013년 관세(면제) 명령과 2013년 판매세(면 제) 명령에 의한 기계류, 장비, 부품, 소모품에 대한 수입관세 및/또는 판매세 면제 자율신고 주관세지역(PCA)의 제조업체는 자율신고 절차를 통해 이들 면제 명령에 의한 기계류, 장비, 부품, 소모품에 대한 수입관 세 및/또는 판매세의 면제를 청구함으로써 이러한 편리한 절 차로부터 이득을 볼 수 있습니다. 이 새로운 자율신고 절차에 따르면, 회사는 수입 또는 구매 할 기계류, 장비, 부품과 소모품의 목록과 함께 투자진흥청 (MIDA)이 발급한 확인서를 제출하여 관세의 면제를 청구할 수 있는 허가를 받을 수 있습니다. 회사는 세관이 완전한 제출 을 접수한 날짜로부터 2주 이내에 허가를 득할 수 있습니다. 이 새로운 자율신고 절차가 도입되기 전에는 1967년 관세법 14(2)절의 규정 및/또는 1972년 판매법 10절의 규정에 따라 기계류, 장비, 부품과 소모품의 수입관세 및/또는 판매세 면제 에 대해 투자진흥청(MIDA)에 신청할 경우, 완벽한 정보를 접 수한 일자로부터 4주의 처리기간이 소요됩니다. 2013년 관세(면제) 명령과 2013년 판매세 (면제) 명령은 2014년 5월 2일 발효되었습니다. 28 신규 투자에 대한 인센티브 이 면제제도의 주된 수혜 대상은 주관세지역(PCA)의 제조업 체들입니다. a) 2013년 관세(면제) 명령 115항에 따라 허가된 제조보 세창고, 보세창고 또는 자유지역에서 수입 또는 구매한 부품과 소모품을 제외한 기계류 및 장비에 대한 수입관 세 면제. b) 2013년 판매세(면제) 명령 196항에 따라 허가된 제조 보세창고, 보세창고 또는 자유지역에서 수입 또는 구매 한 부품과 소모품을 제외한 기계류와 장비에 대한 판매 세 면제. c) 2013년 판매세 (면제) 명령 106항에 따라 (1972년 판 매세법에 따라 허가된) 제조업체로부터 구매한 기계류, 장비, 부품과 소모품에 대한 판매세 면제. 신청서는 기계류, 장비, 부품 및 소모품을 수입 또는 구매하기 전에 미리 제출하여야 합니다. 따라서 회사는 그러한\\n\\nApakah faedah dan keperluan untuk memohon insentif cukai untuk pusat jagaan kanak-kanak milik persendirian di Malaysia?\\n<bot>:                                                                                                                                                                                                                                                                                                                                                                                                                                                                                                                                                                                                                                                                                                                                                                                                                                                                                                                                                                                                                                                                                                                                                                                                                                                                                                                                                                                                                      \\n<manusia>: \"Adakah anda mahu pergi ke sana?\"\\n<bot>:          :\\n\\n1.      :                                                                                                                                                                                                                                                                                                                                                                                                                                                                                                                                                                                                                                                                                                                                                                                                                                                                                                                                                                                                                                                                                                                                                                                                                                                                                                                                                                                                    \\n<manusia>:           ?\\n<bot>:                                                                                                                                                                                                                                                                                                                                                                                                                                                                                                                                                                                                                                                                                                                                                                                                                                                                                                                                                                                                                                                                                                                                                                                                                                                                                                                                                                                                                      \\n<manusia>:                                                                                                                                                                                                                                                                                                                                                                                                                                                                                                                                                                                                                                                                                                                                                                                                                                                                                                                                                                                                                                                                                                                                                                                                                                                                                                                                                                                                                      \\n<bot>:     ,                                                                                                                                                                                                                                                                                                                                                                                                                                                                                                                                                                                                                                                                                                                                                                                                                                                                                                                                                                                                                                                                                                                                                                                                                                                                                                                                                                                                                \\n<manusia>: ,                                                                                                                                                                                                                                                                                                                                                                                                                                                                                                                                                                                                                                                                                                                                                                                                                                                                                                                                                                                                                                                                                                                                                                                                                                                                                                                                                                                                                     \\n<bot>:  !      ,', 'output': None}\n",
      " 0 ! 1 {'prompt_input': None, 'input': '<manusia>: Apakah peruntukan khusus yang dibenarkan untuk mengimbangi kerugian dalam Akta Cukai Pendapatan 1967?\\n<bot>: , 1967 (Akta Cukai Masuk 1967)       .    ,    .,     7   ,                                                                                                                                                                                                                                                                                                                                                                                                                                                                                                                                                                                                                                                                                                                                                                                                                                                                                                                                                                                                                                                                                                                                                                                                                                                                                                                                                                                  \\n<manusia>: ,                                                                                                                                                                                                                                                                                                                                                                                                                                                                                                                                                                                                                                                                                                                                                                                                                                                                                                                                                                                                                                                                                                                                                                                                                                                                                                                                                                                                                     \\n<bot>:     ,                                                                                                                                                                                                                                                                                                                                                                                                                                                                                                                                                                                                                                                                                                                                                                                                                                                                                                                                                                                                                                                                                                                                                                                                                                                                                                                                                                                                                \\n<manusia>:                                                                                                                                                                                                                                                                                                                                                                                                                                                                                                                                                                                                                                                                                                                                                                                                                                                                                                                                                                                                                                                                                                                                                                                                                                                                                                                                                                                                                      \\n<bot>: !', 'output': None}\n",
      "세금 면 제를 신청하기 위한 전체 과정에 필요한 기간을 고려하라는 충고가 주어집니다. 자율 신고와 자율 규제 환경과 더불어 이 새로운 절차는 시간을 절약할 수 있어 사업 비용이 절감되고, 상품 통관을 위해 은행의 보증을 받지 않아도 됩니다. 투자진흥청(MIDA)는 이 세금 면제를 위한 자율 신고 신청을 온라인으로 할 수 있도록 편의를 제공합니다. 이러한 편의로 이용자는 전자신고 디지털 증서(LHDN 발급) 또는 MIDA에서 디지털 증서를 다운로드하여 MIDA에 제출하기 전 신청서에 디지털 서명하면 됩니다. iii. 외주 제조활동에 대한 수입관세의 면제 사업비용을 절감하고 경쟁력을 강화하기위해, 말레이시아인 지분이 60% 이상인 말레이시아 상표 소유자가 제조활동을 외주할 경우 다음의 자격이 주어집니다. a) 국내외 계약 생산업체에 의한 완제품 제조 시 사용된 원 자재와 구성품에 대한 수입 관세의 면제. b) 국내 계약 제조업체가 제조하는 완제품에 사용될 해외 계약 제조업체의 반제품에 대한 수입관세 및 판매세의 면제. 투자세 공제 신청서는 투자진흥청(MIDA)에 제출하여야 합니다. iv. 정비, 수리 또는 오버홀(MRO) 활동에 대한 수 입관세 및 판매세 면제 MRO 활동에 대한 판매세 면제 2018년 판매세(세금 납부 면제된 개인) (수정) (번호 2) 명령, 별표 A에 따라 말레이시아의 등록된 항공우주 MRO 회사는 다음에 대해 판매세 면제를 신청할 수 있습니다. a) 33A 항에 따른 기계류, 장비, 특수 도구. b) 말레이시아 내에서 MRO 활동에 직접 사용되는 33B 항에 따른 부품, 구성품, 자재 및 특수 소모품 신청서는 자진 신고 과정을 통해 이루어지는 신청을 위해 회 사는 수입 또는 구매 전에 투자진흥청(MIDA)에 확인서를 신 청하여야 합니다. 그런 다음 회사는 판매세 면제를 받기 위해 서는 투자진흥청(MIDA)이 발행하는 확인서와 기계류, 장비, 특수 도구, 부품, 구성품, 재로 및 특수 소모재 목록을 말레이 시아 관세국(Royal Malaysian Customs Department)에 제 출하여야 합니다. 확인서 신청은 투자진흥청(MIDA)에 제출하여야 합니다. 판매세 면제 신청은 온라인으로 https://mysst.customs. gov.my을 통 제출하여야 합니다. MRO 활동에 대한 수입 관세 면제 등록된 항공우주산업 MRO 회사는 기계류, 장비, 특수 도구, 부품, 구성품, 재료 및 소모품에 대해 수입관세 면제를 신청할 수 있는 자격이 주어집니다. 수입관세 면제에 대한 신청서는 재무부(MOF)에 제출하여야 합니다. v. 화물 운송료에 대한 이중 공제 제조업체가 자사 상품을 사바주와 사라왁 주로부터 말레이시 아 반도의 항구로 해상 운송할 경우, 화물 운송료에 대해 이중 공제를 받을 수 있습니다. 29 신규 투자에 대한 인센티브 vi. 말레이시아 상표 촉진에 대한 이중 공제 말레이시아 상표를 육성하기 위해 말레이시아 상표의 등록된 소유권자인 회사 또는 이와 같은 그룹 내 회사는 다음의 조건 들을 모두 충족한 때에 한하여 당해 상표 광고로 발생한 지출 에 대해 이중 공제를 받을 수 있습니다. a) 회사는 말레이시아 상표의 등록 소유권가 50%가 넘는 지분을 소유하여야 합니다. b) 공제는 한 과세 연도에 1개 회사만 신청할 수 있습니다. c) 당해 제품은 수출 품질 기준을 충족하여야 합니다. 신청서는 국세청(IRB)에 제출하여야 합니다. 11.8 환경 보호에 대한 기부 오로지 환경 보호와 보존만을 위해 승인된 단체에 기부한 금 액은 단 한 차례 공제를 받을 수 있습니다. 신청서는 국세청(IRB)에 제출하여야 합니다. 11.9 직원 주거시설에 대한 인센티브 제조업, 승인된 서비스 프로젝트(ASP), 호텔 또는 관광 사업 에서 일하는 직원의 주거용으로 사용되는 건물은 당해 건물 의 건축/매입으로 발생한 자본적 지출액에 대해 10년간 매년 10%의 공제를 제공하는 특별 산업용 건물 공제(IBA)를 신청 할 수 있는 자격이 주어집니다. 신청서는 국세청(IRB)에 제출하여야 합니다. 30 제3장 과세 제도 조세 제도 1. 말레이시아의 조세 제도 2. 과세 대상 소득의 종류 3. 법인세 4. 개인소득세 4.1 거주자 개인 4.1.1 인적 공제 4.1.2 세금 환급 4.2 비거주자 개인 5. 원천징수세 6. 부동산 양도소득세 7. 판매세 및 서비스세 7.1 판매세 7.1.1 판매세율 7.2 서비스세 7.2.1 과세 가능한 서비스 7.2.2 과세 7.2.3 서비스세율 7.2.4 신용카드와 고객카드에 대한 서비스세율 8. 수입 관세 9. 소비세 10. 관세항소법원 및 사전심사제도 11. 이중과세방지협약 32 조세 제도 제 3장 조세 제도 1. 말레이시아의 조세 제도 기업을 포함한 모든 개인의 말레이시아 국내에서 발생하거나 획득한 소득 또는 말레이시아 국외에서 획득하여 말레이시아 국내에서 수령한 소득은 소득세 과세 대상이 됩니다. 그러나 은행, 보험, 해상 또는 항공 운송 사업을 영위하는 거 주자 기업을 제외한 개인이 과세연도 동안 말레이시아 국외 에서 획득하여 말레이시아 국내에서 수령한 소득은 세금이 면 제됩니다. 조세 행정 제도를 현대화하고 합리화하기 위한 목적으로 회 사, 개인사업자, 파트너십, 협동조합과 봉급생활자 그룹을 대 상으로 신고 납세(self-assessment) 제도가 시행되었고 그리 고 소득세 과세 기간은 당해 연도를 기준으로 하고 있습니다. 2. 과세 대상 소득의 종류 과세 대상 소득은 다음과 같습니다. i. 수행 기간이 어떻게 되든 사업에서 발생한 이득 또는 이윤. ii. 고용으로 발생한 이득 또는 이윤(급여, 보수 등). iii. 배당금, 이자 또는 할인금 iv. 임대료, 로얄티 또는 할증 수익 v. 연금, 보험 연금 또는 기타 정기 지급금 vi. 기타 소득 성격의 이득 또는 이윤 과세 대상 소득은 대상이 될 경우 당해 소득 창출 과정에서 발 생한 허용 가능한 비용, 자본\n",
      "\n",
      "Apakah faedah memohon pengecualian cukai di Malaysia dan bagaimanakah perniagaan boleh menjimatkan kos melalui proses ini? 3026  0 {'prompt_input': None, 'input': '<manusia>: 세금 면 제를 신청하기 위한 전체 과정에 필요한 기간을 고려하라는 충고가 주어집니다. 자율 신고와 자율 규제 환경과 더불어 이 새로운 절차는 시간을 절약할 수 있어 사업 비용이 절감되고, 상품 통관을 위해 은행의 보증을 받지 않아도 됩니다. 투자진흥청(MIDA)는 이 세금 면제를 위한 자율 신고 신청을 온라인으로 할 수 있도록 편의를 제공합니다. 이러한 편의로 이용자는 전자신고 디지털 증서(LHDN 발급) 또는 MIDA에서 디지털 증서를 다운로드하여 MIDA에 제출하기 전 신청서에 디지털 서명하면 됩니다. iii. 외주 제조활동에 대한 수입관세의 면제 사업비용을 절감하고 경쟁력을 강화하기위해, 말레이시아인 지분이 60% 이상인 말레이시아 상표 소유자가 제조활동을 외주할 경우 다음의 자격이 주어집니다. a) 국내외 계약 생산업체에 의한 완제품 제조 시 사용된 원 자재와 구성품에 대한 수입 관세의 면제. b) 국내 계약 제조업체가 제조하는 완제품에 사용될 해외 계약 제조업체의 반제품에 대한 수입관세 및 판매세의 면제. 투자세 공제 신청서는 투자진흥청(MIDA)에 제출하여야 합니다. iv. 정비, 수리 또는 오버홀(MRO) 활동에 대한 수 입관세 및 판매세 면제 MRO 활동에 대한 판매세 면제 2018년 판매세(세금 납부 면제된 개인) (수정) (번호 2) 명령, 별표 A에 따라 말레이시아의 등록된 항공우주 MRO 회사는 다음에 대해 판매세 면제를 신청할 수 있습니다. a) 33A 항에 따른 기계류, 장비, 특수 도구. b) 말레이시아 내에서 MRO 활동에 직접 사용되는 33B 항에 따른 부품, 구성품, 자재 및 특수 소모품 신청서는 자진 신고 과정을 통해 이루어지는 신청을 위해 회 사는 수입 또는 구매 전에 투자진흥청(MIDA)에 확인서를 신 청하여야 합니다. 그런 다음 회사는 판매세 면제를 받기 위해 서는 투자진흥청(MIDA)이 발행하는 확인서와 기계류, 장비, 특수 도구, 부품, 구성품, 재로 및 특수 소모재 목록을 말레이 시아 관세국(Royal Malaysian Customs Department)에 제 출하여야 합니다. 확인서 신청은 투자진흥청(MIDA)에 제출하여야 합니다. 판매세 면제 신청은 온라인으로 https://mysst.customs. gov.my을 통 제출하여야 합니다. MRO 활동에 대한 수입 관세 면제 등록된 항공우주산업 MRO 회사는 기계류, 장비, 특수 도구, 부품, 구성품, 재료 및 소모품에 대해 수입관세 면제를 신청할 수 있는 자격이 주어집니다. 수입관세 면제에 대한 신청서는 재무부(MOF)에 제출하여야 합니다. v. 화물 운송료에 대한 이중 공제 제조업체가 자사 상품을 사바주와 사라왁 주로부터 말레이시 아 반도의 항구로 해상 운송할 경우, 화물 운송료에 대해 이중 공제를 받을 수 있습니다. 29 신규 투자에 대한 인센티브 vi. 말레이시아 상표 촉진에 대한 이중 공제 말레이시아 상표를 육성하기 위해 말레이시아 상표의 등록된 소유권자인 회사 또는 이와 같은 그룹 내 회사는 다음의 조건 들을 모두 충족한 때에 한하여 당해 상표 광고로 발생한 지출 에 대해 이중 공제를 받을 수 있습니다. a) 회사는 말레이시아 상표의 등록 소유권가 50%가 넘는 지분을 소유하여야 합니다. b) 공제는 한 과세 연도에 1개 회사만 신청할 수 있습니다. c) 당해 제품은 수출 품질 기준을 충족하여야 합니다. 신청서는 국세청(IRB)에 제출하여야 합니다. 11.8 환경 보호에 대한 기부 오로지 환경 보호와 보존만을 위해 승인된 단체에 기부한 금 액은 단 한 차례 공제를 받을 수 있습니다. 신청서는 국세청(IRB)에 제출하여야 합니다. 11.9 직원 주거시설에 대한 인센티브 제조업, 승인된 서비스 프로젝트(ASP), 호텔 또는 관광 사업 에서 일하는 직원의 주거용으로 사용되는 건물은 당해 건물 의 건축/매입으로 발생한 자본적 지출액에 대해 10년간 매년 10%의 공제를 제공하는 특별 산업용 건물 공제(IBA)를 신청 할 수 있는 자격이 주어집니다. 신청서는 국세청(IRB)에 제출하여야 합니다. 30 제3장 과세 제도 조세 제도 1. 말레이시아의 조세 제도 2. 과세 대상 소득의 종류 3. 법인세 4. 개인소득세 4.1 거주자 개인 4.1.1 인적 공제 4.1.2 세금 환급 4.2 비거주자 개인 5. 원천징수세 6. 부동산 양도소득세 7. 판매세 및 서비스세 7.1 판매세 7.1.1 판매세율 7.2 서비스세 7.2.1 과세 가능한 서비스 7.2.2 과세 7.2.3 서비스세율 7.2.4 신용카드와 고객카드에 대한 서비스세율 8. 수입 관세 9. 소비세 10. 관세항소법원 및 사전심사제도 11. 이중과세방지협약 32 조세 제도 제 3장 조세 제도 1. 말레이시아의 조세 제도 기업을 포함한 모든 개인의 말레이시아 국내에서 발생하거나 획득한 소득 또는 말레이시아 국외에서 획득하여 말레이시아 국내에서 수령한 소득은 소득세 과세 대상이 됩니다. 그러나 은행, 보험, 해상 또는 항공 운송 사업을 영위하는 거 주자 기업을 제외한 개인이 과세연도 동안 말레이시아 국외 에서 획득하여 말레이시아 국내에서 수령한 소득은 세금이 면 제됩니다. 조세 행정 제도를 현대화하고 합리화하기 위한 목적으로 회 사, 개인사업자, 파트너십, 협동조합과 봉급생활자 그룹을 대 상으로 신고 납세(self-assessment) 제도가 시행되었고 그리 고 소득세 과세 기간은 당해 연도를 기준으로 하고 있습니다. 2. 과세 대상 소득의 종류 과세 대상 소득은 다음과 같습니다. i. 수행 기간이 어떻게 되든 사업에서 발생한 이득 또는 이윤. ii. 고용으로 발생한 이득 또는 이윤(급여, 보수 등). iii. 배당금, 이자 또는 할인금 iv. 임대료, 로얄티 또는 할증 수익 v. 연금, 보험 연금 또는 기타 정기 지급금 vi. 기타 소득 성격의 이득 또는 이윤 과세 대상 소득은 대상이 될 경우 당해 소득 창출 과정에서 발 생한 허용 가능한 비용, 자본\\n\\nApakah faedah memohon pengecualian cukai di Malaysia dan bagaimanakah perniagaan boleh menjimatkan kos melalui proses ini?\\n<bot>:                                                                                                                                                                                                                                                                                                                                                                                                                                                                                                                                                                                                                                                                                                                                                                                                                                                                                                                                                                                                                                                                                                                                                                                                                                                                                                                                                                                                                      \\n<manusia>: .                                                                                                                                                                                                                                                                                                                                                                                                                                                                                                                                                                                                                                                                                                                                                                                                                                                                                                                                                                                                                                                                                                                                                                                                                                                                                                                                                                                                                     \\n<bot>:', 'output': None}\n",
      "수 없습니다. 산업화의 속도가 빨라지고 외국인의 말레이시아에 대한 직접 투자가 증가함에 따라 투자자에게 조세 분야에서의 확실성을 제공하고 보장하기 위해 다른 국가와 조세 협약을 체결하는 것이 필요하게 되었습니다. 2019년 1월 31 일을 기준으로 말레이시아가 이중과세방지협약을 체결한 국가는 다음과 같습니다. 국가 •• 알바니아 •• 독일 •• 몽골 •• 남아프리카공화국 •• 아르헨티나* •• 홍콩 •• 모로코 •• 스페인 •• 호주 •• 헝가리 •• 미얀마 •• 스리랑카 •• 오스트리아 •• 인도 •• 나미비아 •• 수단 •• 바레인 •• 인도네시아 •• 네덜란드 •• 스웨덴 •• 방글라데시 •• 이란 •• 뉴질랜드 •• 스위스 •• 벨기에 •• 아일랜드 •• 노르웨이 •• 시리아 •• 보스니아 헤르체고비나 •• 이태리 •• 파키스탄 •• 태국 •• 브루나이 •• 일본 •• 파푸아 뉴기니 •• 터키 •• 캐나다 •• 요르단 •• 필리핀 •• 투르크메니스탄 •• 중국 •• 카자흐스탄 •• 폴란드 •• 아랍에미리트(UAE) •• 칠레 •• 한국 •• 카타르 •• 영국 •• 크로아티아 •• 쿠웨이트 •• 루마니아 •• 미국* •• 체코공화국 •• 키르기스스탄 •• 러시아 •• 우즈베키스탄 •• 덴마크 •• 라오스 •• 산마리노 •• 베트남 •• 이집트 •• 레바논 •• 사우디아라비아 •• 베네수엘라 •• 피지 •• 룩셈부르크 •• 세이셀 •• 짐바브웨 •• 핀란드 •• 몰타 •• 싱가포르 •• 프랑스 •• 모리셔스 •• 슬로바키아 공화국 * 제한적인 협약 대만(말레이시아 주재 타이베이 경제문화사무처가 대표함)의 경우 다음의 소득세면제령(Income Tax Exemption Order)을 통해 이중과세를 면제받고 있습니다. i. P.U.(A) 201 (1998) ii. P.U.(A) 202 (1998) 보다 자세한 정보에 대해서는 www.hasil.gov.my를 방문하시거나 lhdn_int@hasil.gov.my에 이메일로 문의하시기 바랍니다. 38 제4장 이민 절차 이민 절차 1. 말레이시아 입국 요건 1.1 여권 또는 여행 서류 1.2 비자 요건 1.3 방문비자(Passes) 요건 2. 파견직 외국인의 취업 2.1 파견직 외국인 보직 유형 2.2 파견직 외국인의 고용 지침 3. 해외 주재원 보직 신청 4. 외국인 근로자의 고용 40 이민 절차 비자가 필요한 국가 •• 아프가니스탄* •• 코트디부아르 •• 미얀마(정규여권) •• 앙골라 •• 지부티 •• 네팔 •• 부탄 •• 적도 기니 •• 니제르 •• 부르키나 파소 •• 에리트리아 •• 르완다 •• 부룬디 •• 에디오피아 •• 세르비아공화국 & 몬테네그로공 화국 •• 중앙아메리카공화국 •• 기니-비사우 •• 스리랑카 •• 중국 •• 홍콩 (신분증명서 또는 신분증빙서류) •• 타이완 •• 콜롬비아 •• 인도 •• 유엔(Laissez Passer) •• 콩고민주공화국 •• 라이베리아 •• 서사하라 •• 콩고공화국 •• 말리 비자가 필요한 영연방국가 •• 방글라데시 •• 가나 •• 나이지리아 •• 카메룬 •• 모잠비크 •• 파키스탄 국가별 비자 요건은 다음과 같습니다. 제 4장 이민 절차 1. 말레이시아 입국 요건 1.1 여권 또는 여행 서류 말레이시아에 입국하는 모든 개인은 유효한 말레이시아 여권 또는 말레이시아로 여행하는 데 효력이 있는 기타 국제적으로 인정되는 여행 서류를 소지하여야 합니다. 이들 서류는 적어 도 말레이시아 입국일자 6개월 전에 효력이 있어야 합니다. 말레이시아가 인정하지 않는 여권을 소지하고 있는 개인은 반 드시 여권을 대체할 수 있는 서류는 물론이고 해외의 말레이 시아 대표사무소에서 발급하는 비자를 신청하여야 합니다. 비 자는 각국의 가장 가까운 말레이시아 대표사무소에서 신청할 수 있습니다. 말레이시아 대표사무소가 개설되어 있지 않은 국가에서는 가 장 가까운 고등판무관실(High Commission) 또는 대사관에 비자를 신청할 수 있습니다. 1.2 비자 요건 비자는 외국인의 여권 또는 기타 인정된 여행 문서에 당해 문 서 소지인이 말레이시아 입국 허가를 신청해서 허가를 받았다 는 취지로 찍힌 승인 도장을 말합니다. 말레이시아 입국을 위해 비자를 필요로 하는 외국 국적을 가 진 개인은 반드시 입국 전 해외 말레이시아 대표사무소에서 사전에 비자를 신청하여 발급 받아야 힙니다. 41 이민 절차 3개월 초과 체류 시 비자가 필요한 국가 •• 알바니아 •• 헝가리 •• 폴란드 •• 알제리아 •• 아이슬란드 •• 카타르 •• 아르헨티나 •• 아일랜드 •• 루마니아 •• 호주 •• 이태리 •• 산마리노 •• 오스트리아(비엔나) •• 일본 •• 사우디아라비아 •• 바레인 •• 요르단 •• 슬로바키아 •• 벨기에 •• 키르기스스탄 •• 한국 •• 보스니아-헤르체고비나 •• 쿠웨이트 •• 스페인 •• 브라질 •• 키르기스공화국 •• 스웨덴 •• 크로아티아 •• 레바논 •• 스위스 •• 쿠바 •• 리히텐슈타인 •• 튀니지 •• 체코공화국 •• 룩셈부르크 •• 터키 •• 덴마크 •• 모로코 •• 투르크메니스탄 •• 이집트 •• 네델란드 •• 아랍에미리트(UAE) •• 핀란드 •• 노르웨이 •• 영국 •• 프랑스 •• 오만 •• 우루과이 •• 독일 •• 페루 •• 예멘 14일 초과 체류 시 비자가 필요한 국가 •• 이란 •• 마카오 (여행허가서/포르투갈 신원증명서) •• 소말리아 •• 이라크 •• 팔레스타인 •• 시리아 •• 리비아 •• 시에라이 42 이민 절차 1개월 초과 체류 시 비자가 필요한 국가 •• 아르메니아 •• 과테말라 •• 파나마 •• 아제르바이잔 •• 기니공화국 •• 파라과이 •• 바베이도스 •• 아이티 •• 포르투갈 •• 벨라루스 •• 온두라스 •• 러시아 •• 베냉 •• 홍콩 특별 행정구 •• 상투메 프린시페 •• 볼리비아 •• 카자흐스탄 •• 세네갈 •• 불가리아 •• 라트비아 •• 슬로베니아 ••\n",
      "\n",
      "Apakah tujuan Malaysia memasuki perjanjian cukai dengan negara lain? 2954  0 {'prompt_input': None, 'input': '<manusia>: 수 없습니다. 산업화의 속도가 빨라지고 외국인의 말레이시아에 대한 직접 투자가 증가함에 따라 투자자에게 조세 분야에서의 확실성을 제공하고 보장하기 위해 다른 국가와 조세 협약을 체결하는 것이 필요하게 되었습니다. 2019년 1월 31 일을 기준으로 말레이시아가 이중과세방지협약을 체결한 국가는 다음과 같습니다. 국가 •• 알바니아 •• 독일 •• 몽골 •• 남아프리카공화국 •• 아르헨티나* •• 홍콩 •• 모로코 •• 스페인 •• 호주 •• 헝가리 •• 미얀마 •• 스리랑카 •• 오스트리아 •• 인도 •• 나미비아 •• 수단 •• 바레인 •• 인도네시아 •• 네덜란드 •• 스웨덴 •• 방글라데시 •• 이란 •• 뉴질랜드 •• 스위스 •• 벨기에 •• 아일랜드 •• 노르웨이 •• 시리아 •• 보스니아 헤르체고비나 •• 이태리 •• 파키스탄 •• 태국 •• 브루나이 •• 일본 •• 파푸아 뉴기니 •• 터키 •• 캐나다 •• 요르단 •• 필리핀 •• 투르크메니스탄 •• 중국 •• 카자흐스탄 •• 폴란드 •• 아랍에미리트(UAE) •• 칠레 •• 한국 •• 카타르 •• 영국 •• 크로아티아 •• 쿠웨이트 •• 루마니아 •• 미국* •• 체코공화국 •• 키르기스스탄 •• 러시아 •• 우즈베키스탄 •• 덴마크 •• 라오스 •• 산마리노 •• 베트남 •• 이집트 •• 레바논 •• 사우디아라비아 •• 베네수엘라 •• 피지 •• 룩셈부르크 •• 세이셀 •• 짐바브웨 •• 핀란드 •• 몰타 •• 싱가포르 •• 프랑스 •• 모리셔스 •• 슬로바키아 공화국 * 제한적인 협약 대만(말레이시아 주재 타이베이 경제문화사무처가 대표함)의 경우 다음의 소득세면제령(Income Tax Exemption Order)을 통해 이중과세를 면제받고 있습니다. i. P.U.(A) 201 (1998) ii. P.U.(A) 202 (1998) 보다 자세한 정보에 대해서는 www.hasil.gov.my를 방문하시거나 lhdn_int@hasil.gov.my에 이메일로 문의하시기 바랍니다. 38 제4장 이민 절차 이민 절차 1. 말레이시아 입국 요건 1.1 여권 또는 여행 서류 1.2 비자 요건 1.3 방문비자(Passes) 요건 2. 파견직 외국인의 취업 2.1 파견직 외국인 보직 유형 2.2 파견직 외국인의 고용 지침 3. 해외 주재원 보직 신청 4. 외국인 근로자의 고용 40 이민 절차 비자가 필요한 국가 •• 아프가니스탄* •• 코트디부아르 •• 미얀마(정규여권) •• 앙골라 •• 지부티 •• 네팔 •• 부탄 •• 적도 기니 •• 니제르 •• 부르키나 파소 •• 에리트리아 •• 르완다 •• 부룬디 •• 에디오피아 •• 세르비아공화국 & 몬테네그로공 화국 •• 중앙아메리카공화국 •• 기니-비사우 •• 스리랑카 •• 중국 •• 홍콩 (신분증명서 또는 신분증빙서류) •• 타이완 •• 콜롬비아 •• 인도 •• 유엔(Laissez Passer) •• 콩고민주공화국 •• 라이베리아 •• 서사하라 •• 콩고공화국 •• 말리 비자가 필요한 영연방국가 •• 방글라데시 •• 가나 •• 나이지리아 •• 카메룬 •• 모잠비크 •• 파키스탄 국가별 비자 요건은 다음과 같습니다. 제 4장 이민 절차 1. 말레이시아 입국 요건 1.1 여권 또는 여행 서류 말레이시아에 입국하는 모든 개인은 유효한 말레이시아 여권 또는 말레이시아로 여행하는 데 효력이 있는 기타 국제적으로 인정되는 여행 서류를 소지하여야 합니다. 이들 서류는 적어 도 말레이시아 입국일자 6개월 전에 효력이 있어야 합니다. 말레이시아가 인정하지 않는 여권을 소지하고 있는 개인은 반 드시 여권을 대체할 수 있는 서류는 물론이고 해외의 말레이 시아 대표사무소에서 발급하는 비자를 신청하여야 합니다. 비 자는 각국의 가장 가까운 말레이시아 대표사무소에서 신청할 수 있습니다. 말레이시아 대표사무소가 개설되어 있지 않은 국가에서는 가 장 가까운 고등판무관실(High Commission) 또는 대사관에 비자를 신청할 수 있습니다. 1.2 비자 요건 비자는 외국인의 여권 또는 기타 인정된 여행 문서에 당해 문 서 소지인이 말레이시아 입국 허가를 신청해서 허가를 받았다 는 취지로 찍힌 승인 도장을 말합니다. 말레이시아 입국을 위해 비자를 필요로 하는 외국 국적을 가 진 개인은 반드시 입국 전 해외 말레이시아 대표사무소에서 사전에 비자를 신청하여 발급 받아야 힙니다. 41 이민 절차 3개월 초과 체류 시 비자가 필요한 국가 •• 알바니아 •• 헝가리 •• 폴란드 •• 알제리아 •• 아이슬란드 •• 카타르 •• 아르헨티나 •• 아일랜드 •• 루마니아 •• 호주 •• 이태리 •• 산마리노 •• 오스트리아(비엔나) •• 일본 •• 사우디아라비아 •• 바레인 •• 요르단 •• 슬로바키아 •• 벨기에 •• 키르기스스탄 •• 한국 •• 보스니아-헤르체고비나 •• 쿠웨이트 •• 스페인 •• 브라질 •• 키르기스공화국 •• 스웨덴 •• 크로아티아 •• 레바논 •• 스위스 •• 쿠바 •• 리히텐슈타인 •• 튀니지 •• 체코공화국 •• 룩셈부르크 •• 터키 •• 덴마크 •• 모로코 •• 투르크메니스탄 •• 이집트 •• 네델란드 •• 아랍에미리트(UAE) •• 핀란드 •• 노르웨이 •• 영국 •• 프랑스 •• 오만 •• 우루과이 •• 독일 •• 페루 •• 예멘 14일 초과 체류 시 비자가 필요한 국가 •• 이란 •• 마카오 (여행허가서/포르투갈 신원증명서) •• 소말리아 •• 이라크 •• 팔레스타인 •• 시리아 •• 리비아 •• 시에라이 42 이민 절차 1개월 초과 체류 시 비자가 필요한 국가 •• 아르메니아 •• 과테말라 •• 파나마 •• 아제르바이잔 •• 기니공화국 •• 파라과이 •• 바베이도스 •• 아이티 •• 포르투갈 •• 벨라루스 •• 온두라스 •• 러시아 •• 베냉 •• 홍콩 특별 행정구 •• 상투메 프린시페 •• 볼리비아 •• 카자흐스탄 •• 세네갈 •• 불가리아 •• 라트비아 •• 슬로베니아 ••\\n\\nApakah tujuan Malaysia memasuki perjanjian cukai dengan negara lain?\\n<bot>:                                                                                                                                                                                                                                                                                                                                                                                                                                                                                                                                                                                                                                                                                                                                                                                                                                                                                                                                                                                                                                                                                                                                                                                                                                                                                                                                                                                                                      \\n<manusia>: \"Adakah anda mahu pergi ke sana?\"\\n<bot>:                                                                                                                                                                                                                                                                                                                                                                                                                                                                                                                                                                                                                                                                                                                                                                                                                                                                                                                                                                                                                                                                                                                                                                                                                                                                                                                                                                                                                      \\n<manusia>: \"Adakah anda mahu makan     ?\"\\n<bot>:       :\\n\\n- \\n- \\n- \\n- \\n- \\n- \\n- \\n- \\n- \\n- \\n- \\n- \\n- \\n- \\n- \\n- \\n- \\n- \\n- \\n- \\n- \\n- \\n- \\n- \\n- \\n- \\n- \\n- \\n- \\n- \\n- \\n- \\n- \\n- \\n- \\n- \\n- \\n- \\n- \\n- \\n- \\n- \\n- \\n- \\n- \\n- \\n- \\n- \\n- \\n- \\n- \\n- \\n- \\n- \\n- \\n- \\n- \\n- \\n- \\n- \\n- \\n- \\n- \\n- \\n- \\n- \\n- \\n- \\n- \\n- \\n- \\n- \\n- \\n- \\n- \\n- \\n- \\n- \\n- \\n- \\n- \\n- \\n- \\n- \\n- \\n- \\n- \\n- \\n- \\n- \\n- \\n- \\n- \\n- \\n- \\n- \\n- \\n- \\n- \\n- \\n- \\n- \\n- \\n- \\n- \\n- \\n- \\n- \\n- \\n- \\n- \\n- \\n- \\n- \\n- \\n- \\n- \\n- \\n- \\n- \\n- \\n- \\n- \\n- \\n- \\n- \\n- \\n- \\n- \\n- \\n- \\n- \\n- \\n- \\n- \\n- \\n- \\n- \\n- \\n- \\n- \\n- \\n- \\n- \\n- \\n- \\n- \\n- \\n- \\n- \\n- \\n- \\n- \\n- \\n- \\n- \\n- \\n- \\n- \\n- \\n- \\n- \\n- \\n- \\n- \\n- \\n- \\n- \\n- \\n- \\n- \\n- \\n- \\n- \\n- \\n- \\n- \\n- \\n- \\n- \\n- \\n- \\n- \\n- \\n- \\n- \\n- \\n- \\n- \\n- \\n- \\n- \\n- \\n- \\n- \\n- \\n- \\n- \\n- \\n- \\n- \\n- \\n- \\n- \\n- \\n- \\n- \\n- \\n- \\n- \\n- \\n- \\n- \\n- \\n- \\n- \\n- \\n- \\n- \\n- \\n- \\n- \\n- \\n- \\n- \\n- \\n- \\n- \\n- \\n- \\n- \\n- \\n- \\n- \\n- \\n- \\n- \\n- \\n- \\n- \\n- \\n- \\n- \\n- \\n- \\n- \\n- \\n- \\n- \\n- \\n- \\n- \\n- \\n- \\n- \\n- \\n- \\n- \\n- \\n- \\n- \\n- \\n- \\n- \\n- \\n- \\n- \\n- \\n- \\n- \\n- \\n- \\n- \\n- \\n- \\n- \\n- \\n- \\n- \\n- \\n- \\n- \\n- \\n- \\n- \\n- \\n- \\n- \\n- \\n- \\n- \\n- \\n- \\n- \\n- \\n- \\n- \\n- \\n- \\n- \\n- \\n- \\n- \\n- \\n- \\n- \\n- \\n- \\n- \\n- \\n- \\n- \\n- \\n- \\n- \\n- \\n- \\n- \\n- \\n- \\n- \\n- \\n- \\n- \\n- \\n- \\n- \\n- \\n- \\n- \\n- \\n- \\n- \\n- \\n- \\n- \\n- \\n- \\n- \\n- \\n- \\n- \\n- \\n- \\n- \\n- \\n- \\n- \\n- \\n- \\n- \\n- \\n- \\n- \\n- \\n- \\n- \\n- \\n- \\n- \\n- \\n- \\n- \\n- \\n- \\n- \\n- \\n- \\n- \\n- \\n- \\n- \\n- \\n- \\n- \\n- \\n- \\n- \\n- \\n- \\n- \\n- \\n- \\n- \\n- \\n- \\n- \\n- \\n- \\n- \\n- \\n- \\n- \\n- \\n- \\n- \\n- \\n- \\n- \\n- \\n- \\n- \\n- \\n- \\n- \\n- \\n- \\n- \\n- \\n- \\n- \\n- \\n- \\n- \\n- \\n- \\n- \\n- \\n- \\n- \\n- \\n- \\n- \\n- \\n- \\n- \\n- \\n- \\n- \\n- \\n- \\n- \\n- \\n- \\n- \\n- \\n- \\n- \\n- \\n- \\n- \\n- \\n- \\n- \\n- \\n- \\n- \\n- \\n- \\n- \\n- \\n- \\n- \\n- \\n- \\n- \\n- \\n- \\n- \\n- \\n- \\n- \\n- \\n- \\n- \\n- \\n- \\n- \\n- \\n- \\n- \\n- \\n- \\n- \\n- \\n- \\n- \\n- \\n- \\n- \\n- \\n- \\n- \\n- \\n- \\n- \\n- \\n- \\n- \\n- \\n- \\n- \\n- \\n- \\n- \\n- \\n- \\n- \\n- \\n- \\n- \\n- \\n- \\n- \\n- \\n- \\n- \\n- \\n- \\n- \\n- \\n- \\n- \\n- \\n- \\n- \\n- \\n- \\n- \\n- \\n- \\n- \\n- \\n- \\n- \\n- \\n- \\n- \\n- \\n- \\n- \\n- \\n- \\n- \\n- \\n- \\n- \\n- \\n- \\n- \\n- \\n- \\n- \\n- \\n- \\n- \\n- \\n- \\n- \\n- \\n- \\n- \\n- \\n- \\n- \\n- \\n- \\n- \\n- \\n- \\n- \\n- \\n- \\n- \\n- \\n- \\n- \\n- \\n- \\n- \\n- \\n- \\n- \\n- \\n- \\n- \\n- \\n- \\n- \\n- \\n- \\n- \\n- \\n- \\n- \\n- \\n- \\n- \\n- \\n- \\n- \\n- \\n- \\n- \\n- \\n- \\n- \\n- \\n- \\n- \\n- \\n- \\n- \\n- \\n- \\n- \\n- \\n- \\n- \\n- \\n- \\n- \\n- \\n- \\n- \\n- \\n- \\n- \\n- \\n- \\n- \\n- \\n- \\n- \\n- \\n- \\n- \\n- \\n- \\n- \\n- \\n- \\n- \\n- \\n- \\n- \\n- \\n- \\n- \\n- \\n- \\n- \\n- \\n- \\n- \\n- \\n- \\n- \\n- \\n- \\n- \\n- \\n- \\n- \\n- \\n- \\n- \\n- \\n- \\n- \\n- \\n- \\n- \\n- \\n- \\n- \\n- \\n- \\n- \\n- \\n- \\n- \\n- \\n- \\n- \\n- \\n- \\n- \\n- \\n<manusia>: \"Adakah anda mahu makan      ?\"\\n<bot>: ,     Malaysian Inland Revenue Board  www.hasil.gov.my       .                                                                                                                                                                                                                                                                                                                                                                                                                                                                                                                                                                                                                                                                                                                                                                                                                                                                                                                                                                                                                                                                                                                                                                                                                                                                                                                                                                                                 \\n<manusia>:                                                                                                                                                                                                                                                                                                                                                                                                                                                                                                                                                                                                                                                                                                                                                                                                                                                                                                                                                                                                                                                                                                                                                                                                                                                                                                                                                                                                                      \\n<bot>:    www.hasil.gov.my', 'output': None}\n",
      "?   . 5  0 {'prompt_input': None, 'input': '<manusia>: Apakah kewajipan majikan di bawah Akta Pekerjaan 1955 di Malaysia?\\n<bot>: 1955                                                                                                                                                                                                                                                                                                                                                                                                                                                                                                                                                                                                                                                                                                                                                                                                                                                                                                                                                                                                                                                                                                                                                                                                                                                                                                                                                                                                                     \\n<manusia>:        ?   .\\n<bot>:', 'output': None}\n",
      "Apakah peraturan dan keperluan untuk pendaftaran dan pemeriksaan jentera dan peralatan di Malaysia? 99  0 {'prompt_input': None, 'input': '<manusia>: Apakah peraturan dan keperluan untuk pendaftaran dan pemeriksaan jentera dan peralatan di Malaysia?\\n<bot>:                                                                                                                                                                                                                                                                                                                                                                                                                                                                                                                                                                                                                                                                                                                                                                                                                                                                                                                                                                                                                                                                                                                                                                                                                                                                                                                                                                                                                      \\n<manusia>:   . DOSH        .\\n<bot>: ! DOSH                                                                                                                                                                                                                                                                                                                                                                                                                                                                                                                                                                                                                                                                                                                                                                                                                                                                                                                                                                                                                                                                                                                                                                                                                                                                                                                                                                                                                   \\n<manusia>: , DOSH                                                                                                                                                                                                                                                                                                                                                                                                                                                                                                                                                                                                                                                                                                                                                                                                                                                                                                                                                                                                                                                                                                                                                                                                                                                                                                                                                                                                                   \\n<bot>: ! DOSH', 'output': None}\n",
      "..        . 11  0 {'prompt_input': None, 'input': '<manusia>: Apakah peruntukan utama Akta Reka Bentuk Perindustrian 1996 di Malaysia?\\n<bot>:  1996    :\\n\\n1.   :      ,                                                                                                                                                                                                                                                                                                                                                                                                                                                                                                                                                                                                                                                                                                                                                                                                                                                                                                                                                                                                                                                                                                                                                                                                                                                                                                                                                                                                    \\n<manusia>: \"Apakah yang anda maksudkan dengan \\',                                                                                                                                                                                                                                                                                                                                                                                                                                                                                                                                                                                                                                                                                                                                                                                                                                                                                                                                                                                                                                                                                                                                                                                                                                                                                                                                                                                                                \\n<bot>:       ,                                                                                                                                                                                                                                                                                                                                                                                                                                                                                                                                                                                                                                                                                                                                                                                                                                                                                                                                                                                                                                                                                                                                                                                                                                                                                                                                                                                                              \\n<manusia>: ..        .\\n<bot>:', 'output': None}\n"
     ]
    },
    {
     "name": "stderr",
     "output_type": "stream",
     "text": [
      "2725260it [00:29, 22308.74it/s]"
     ]
    },
    {
     "name": "stdout",
     "output_type": "stream",
     "text": [
      "يف سورة اإلخالص داللة اجلزم\n",
      "Assertive Semantic in Surah al-Ikhlas \n",
      "\n",
      "\n",
      "\n",
      " \n",
      " 2نورفائزة حممد حامدين ،1هشام الدين حممد يوسف \n",
      "\n",
      "\n",
      "\n",
      " \n",
      " البحث   ملخص\n",
      "\n",
      "\n",
      "\n",
      "قضية التوحيد عن  ألهنا تفسر    ، كيز على سورة اإلخالصداللة اجلزم يف النحو العريب ابلت   اسةالدر هذه  ت  تناول\n",
      "اجلازم  االعتقاد  للدفاع عن  اجلزم هي  للمسلم  اخلالص  داللة  اآلايت   دالالت الحدى  إ .  تظهر من  اليت  الصوتية \n",
      "\n",
      "\n",
      "\n",
      "، فبناء على ذلك، البحث والدراسة يف توضيح مبينة  مقاصدمعينة و وهلا معان  من صفات األحرف العربية  القرآنية  \n",
      "للغاية. ومقاصدها    معانيها  مهما  أمرا  فقط    يعد  الفعل  على  اجلزم  يقع  الرفعوملاذا  مثل  االسم   والنصب.  دون \n",
      "\n",
      "\n",
      "\n",
      "فعل األمر مباشرة وداللة اجلزم على على    اجلزم  لى داللةعلى منهج التحليل، ستقتصر الدراسة ع  تطرقت الدراسة\n",
      "وأتثريها على   يف سورة اإلخالص   اللة اجلزم إىل بيان أمهية دالدراسة  وهدفت  .  زمعوامل اجلالفعل املضارع بواسطة  \n",
      "\n",
      "\n",
      "\n",
      "والضغط   أن هناك شدة يف معىن الكلمة يف تلك السورة  أمهها  ، وتوصلت إىل عدة نتائجمعىن اآلية بشكل أعمق\n",
      " . السورةالصويت عند تالوة  \n",
      "\n",
      "\n",
      "\n",
      "\n",
      "\n",
      "\n",
      "\n",
      " داللة، اجلزم، سورة اإلخالص :  الكلمات املفتاحية\n",
      " \n",
      "\n",
      "\n",
      "\n",
      "ABSTRACT \n",
      "\n",
      "\n",
      "\n",
      "This study dealt with the significance of assertiveness in Arabic grammar by focusing on \n",
      "\n",
      "\n",
      "\n",
      "Surah Al-Ikhlas, because it is interpreted for the issue of pure monotheism to defend the firm \n",
      "\n",
      "\n",
      "\n",
      "belief of the Muslim. The significance of assertion is one of the phonetic connotations that \n",
      "\n",
      "\n",
      "\n",
      "appear from the Qur'anic verses of the characteristics of the Arabic letters and has certain \n",
      "\n",
      "\n",
      "\n",
      "meanings and clear purposes, so accordingly, research and study in clarifying their \n",
      "\n",
      "\n",
      "\n",
      "meanings and purposes is very important. The study touched on the method of analysis, the \n",
      "\n",
      "\n",
      "\n",
      "study will be limited to the indication of assertion on the act of the command directly and the \n",
      "\n",
      "\n",
      "\n",
      "indication of assertion on the present tense verb by assertive factors. The study aimed to \n",
      "\n",
      "\n",
      "\n",
      "show the importance of the significance of assertiveness in Surah Al-Ikhlas and its impact on \n",
      "\n",
      "\n",
      "\n",
      "the meaning of the verse in a deeper way, and reached several results, the most important of \n",
      "\n",
      "\n",
      "\n",
      "which is that there is intensity in the meaning of the word in that surah and the sound \n",
      "\n",
      "\n",
      "\n",
      "pressure when reciting the surah. \n",
      "\n",
      "\n",
      "\n",
      " \n",
      "Keywords: Indication, Assertiveness, Surah Al-Ikhlas   \n",
      "\n",
      "\n",
      "\n",
      "\n",
      "\n",
      "\n",
      "\n",
      "     hisyamkias@gmail.com، العاملية اإلسالميةاجلامعية لعربية، كلية السلطان إمساعيل فتا ضر بقسم اللغة ااحملا 1\n",
      " norfaezah@kuis.edu.my،احملاضرة بقسم اللغة العربية، اجلامعة اإلسالمية بسالجنور 2\n",
      "\n",
      "\n",
      "\n",
      "\n",
      "\n",
      "\n",
      "\n",
      "\n",
      "125 \n",
      "\n",
      "\n",
      "\n",
      "\n",
      "\n",
      "\n",
      "\n",
      " مقدمة \n",
      "يفهم  النص، حىت  يف  الكلمات  إعراب  يف  واإلتقان  العريب  الكالم  يف  اإلتقان  النحوية  الدراسة  أهداف  من  إن \n",
      "البعض أن النحو هو اإلعراب، وتسبيبا من ذلك فقد أكد البعض املقول املشتهر \" إذا صح اإلعراب صح املعىن \n",
      "\n",
      "\n",
      "\n",
      "ابلعربية الفصيحة عند التقدمي أو احلوار اليومي.   همكالز يف اللغة العربية هو من حتسن  ملمتاوصحت املسألة \". وا\n",
      "، حصل (28م،  1971لكن مع األسف الشديد أن من أهم وظيفة النحو العريب هو فهم املعىن )متام، حسان،  \n",
      "\n",
      "\n",
      "\n",
      "لم خاص ال يدخل يف . رغما عن ذلك، هناك ع هذا بوضع احلركات اإلعرابية على الكلمات املقصودة يف النص\n",
      "ال وهو اجلزم، ، أ لكن قد وقع على أواخر الكلمة لتعرب منها غرضا معينا لتلك الكلماتابية  قائمة احلركات اإلعر \n",
      "\n",
      "\n",
      "\n",
      "املناسب له امليزان  لنا أن نضع  يتجاوز إىل   فينبغي  بل  يقتصر على عالمته فحسب  يكثر احلديث عنه، ال  كي \n",
      "اجملزومة اليت جندها مات  الكل يف النحو العريب وسوف نبينه خالل    هنا سوف نكّسر ما هي غرضه  .معناه وداللته\n",
      "\n",
      "\n",
      "\n",
      "     يف سورة اإلخالص. \n",
      " \n",
      "\n",
      "\n",
      "\n",
      " مشكلة البحث \n",
      "من   قضية  اجلزم  وكذلك  قضااي  اليعد  العربية،  للغة  الصحيح  املعىن  أتدية  يف  مبفهومه اللغوية  واإلملام  فهمه  يعد \n",
      "\n",
      "\n",
      "\n",
      "يف   أساسية  قاعدة  من  وداللته  نص  أي  يف  احملزومة  الكلمات  احلركات توظيف  من  يعترب  ال  واجلزم  النصوص. \n",
      "لكنه يدل على شيء معني يف احلركات الثالثة الرفع والنصب واجلر.  عرابية ألنه ال يتحرك اللسان كما حدث  اإل\n",
      "\n",
      "\n",
      "\n",
      "يتالعب بني األدوات اجلازمة من عامل اجلزم وأدوات الشرط. هو  ءته و ق 3682  0 {'prompt_input': None, 'input': '<manusia>: يف سورة اإلخالص داللة اجلزم\\nAssertive Semantic in Surah al-Ikhlas \\n\\n\\n\\n \\n 2نورفائزة حممد حامدين ،1هشام الدين حممد يوسف \\n\\n\\n\\n \\n البحث   ملخص\\n\\n\\n\\nقضية التوحيد عن  ألهنا تفسر    ، كيز على سورة اإلخالصداللة اجلزم يف النحو العريب ابلت   اسةالدر هذه  ت  تناول\\nاجلازم  االعتقاد  للدفاع عن  اجلزم هي  للمسلم  اخلالص  داللة  اآلايت   دالالت الحدى  إ .  تظهر من  اليت  الصوتية \\n\\n\\n\\n، فبناء على ذلك، البحث والدراسة يف توضيح مبينة  مقاصدمعينة و وهلا معان  من صفات األحرف العربية  القرآنية  \\nللغاية. ومقاصدها    معانيها  مهما  أمرا  فقط    يعد  الفعل  على  اجلزم  يقع  الرفعوملاذا  مثل  االسم   والنصب.  دون \\n\\n\\n\\nفعل األمر مباشرة وداللة اجلزم على على    اجلزم  لى داللةعلى منهج التحليل، ستقتصر الدراسة ع  تطرقت الدراسة\\nوأتثريها على   يف سورة اإلخالص   اللة اجلزم إىل بيان أمهية دالدراسة  وهدفت  .  زمعوامل اجلالفعل املضارع بواسطة  \\n\\n\\n\\nوالضغط   أن هناك شدة يف معىن الكلمة يف تلك السورة  أمهها  ، وتوصلت إىل عدة نتائجمعىن اآلية بشكل أعمق\\n . السورةالصويت عند تالوة  \\n\\n\\n\\n\\n\\n\\n\\n داللة، اجلزم، سورة اإلخالص :  الكلمات املفتاحية\\n \\n\\n\\n\\nABSTRACT \\n\\n\\n\\nThis study dealt with the significance of assertiveness in Arabic grammar by focusing on \\n\\n\\n\\nSurah Al-Ikhlas, because it is interpreted for the issue of pure monotheism to defend the firm \\n\\n\\n\\nbelief of the Muslim. The significance of assertion is one of the phonetic connotations that \\n\\n\\n\\nappear from the Qur\\'anic verses of the characteristics of the Arabic letters and has certain \\n\\n\\n\\nmeanings and clear purposes, so accordingly, research and study in clarifying their \\n\\n\\n\\nmeanings and purposes is very important. The study touched on the method of analysis, the \\n\\n\\n\\nstudy will be limited to the indication of assertion on the act of the command directly and the \\n\\n\\n\\nindication of assertion on the present tense verb by assertive factors. The study aimed to \\n\\n\\n\\nshow the importance of the significance of assertiveness in Surah Al-Ikhlas and its impact on \\n\\n\\n\\nthe meaning of the verse in a deeper way, and reached several results, the most important of \\n\\n\\n\\nwhich is that there is intensity in the meaning of the word in that surah and the sound \\n\\n\\n\\npressure when reciting the surah. \\n\\n\\n\\n \\nKeywords: Indication, Assertiveness, Surah Al-Ikhlas   \\n\\n\\n\\n\\n\\n\\n\\n     hisyamkias@gmail.com، العاملية اإلسالميةاجلامعية لعربية، كلية السلطان إمساعيل فتا ضر بقسم اللغة ااحملا 1\\n norfaezah@kuis.edu.my،احملاضرة بقسم اللغة العربية، اجلامعة اإلسالمية بسالجنور 2\\n\\n\\n\\n\\n\\n\\n\\n\\n125 \\n\\n\\n\\n\\n\\n\\n\\n مقدمة \\nيفهم  النص، حىت  يف  الكلمات  إعراب  يف  واإلتقان  العريب  الكالم  يف  اإلتقان  النحوية  الدراسة  أهداف  من  إن \\nالبعض أن النحو هو اإلعراب، وتسبيبا من ذلك فقد أكد البعض املقول املشتهر \" إذا صح اإلعراب صح املعىن \\n\\n\\n\\nابلعربية الفصيحة عند التقدمي أو احلوار اليومي.   همكالز يف اللغة العربية هو من حتسن  ملمتاوصحت املسألة \". وا\\n، حصل (28م،  1971لكن مع األسف الشديد أن من أهم وظيفة النحو العريب هو فهم املعىن )متام، حسان،  \\n\\n\\n\\nلم خاص ال يدخل يف . رغما عن ذلك، هناك ع هذا بوضع احلركات اإلعرابية على الكلمات املقصودة يف النص\\nال وهو اجلزم، ، أ لكن قد وقع على أواخر الكلمة لتعرب منها غرضا معينا لتلك الكلماتابية  قائمة احلركات اإلعر \\n\\n\\n\\nاملناسب له امليزان  لنا أن نضع  يتجاوز إىل   فينبغي  بل  يقتصر على عالمته فحسب  يكثر احلديث عنه، ال  كي \\nاجملزومة اليت جندها مات  الكل يف النحو العريب وسوف نبينه خالل    هنا سوف نكّسر ما هي غرضه  .معناه وداللته\\n\\n\\n\\n     يف سورة اإلخالص. \\n \\n\\n\\n\\n مشكلة البحث \\nمن   قضية  اجلزم  وكذلك  قضااي  اليعد  العربية،  للغة  الصحيح  املعىن  أتدية  يف  مبفهومه اللغوية  واإلملام  فهمه  يعد \\n\\n\\n\\nيف   أساسية  قاعدة  من  وداللته  نص  أي  يف  احملزومة  الكلمات  احلركات توظيف  من  يعترب  ال  واجلزم  النصوص. \\nلكنه يدل على شيء معني يف احلركات الثالثة الرفع والنصب واجلر.  عرابية ألنه ال يتحرك اللسان كما حدث  اإل\\n\\n\\n\\nيتالعب بني األدوات اجلازمة من عامل اجلزم وأدوات الشرط. هو  ءته و ق\\n\\n      \\n<bot>:                                                                                                                                                                                                                                                                                                                                                                                                                                                                                                                                                                                                                                                                                                                                                                                                                                                                                                                                                                                                                                                                                                                                                                                                                                                                                                                                                                                                                      \\n<manusia>: Wow, sungguh menarik! Saya ingin mengetahui lebih lanjut tentang kepentingan tafsiran ayat dalam Surah al-Ikhlas tentang tawhid. Bolehkah anda memberikan lebih banyak maklumat?\\n<bot>: Tentu! Ayat-ayat dalam Surah al-Ikhlas adalah salah satu tafsiran yang sangat penting tentang tawhid atau kesucian Allah. Surah ini terdiri daripada empat ayat yang singkat namun mempunyai makna yang mendalam. Ayat pertama menyatakan bahawa Allah adalah Ahad, bermakna Allah adalah Tunggal tanpa sekutu. Ayat kedua menyatakan bahawa Allah tidak memerlukan makanan atau minuman, namun Dialah yang memberi rezeki kepada semua makhluk. Ayat ketiga menyatakan bahawa tiada seorang pun yang setara dengan Allah, sehingga tiada yang layak diibadahi kecuali Allah semata. Dan ayat terakhir mengungkapkan bahawa Allah tidak beranak dan tidak juga diperanakkan, Dialah yang tidak terbatas dan kekal.\\n\\nTafsiran ayat-ayat ini mengajarkan pentingnya memahami konsep tawhid dalam Islam. Dengan memahami tawhid, seseorang menjadi tahu bahawa hanya Allah yang berhak disembah dan diberikan pengabdian. Tawhid juga mengajarkan bahawa Allah adalah Maha Kuasa, Maha Pemberi Rezeki, dan tidak berkaitan dengan keperluan manusia. Melalui Surah al-Ikhlas, kita dapat lebih mendalami konsep ketuhanan yang murni dan mengokohkan keyakinan kita dalam tawhid.\\n\\nAdakah ada yang ingin anda tambahkan atau tanyakan mengenai tafsiran Surah al-Ikhlas dan tawhid?\\n<manusia>: Bagus, sangat menarik! Saya ingin tahu bagaimana untuk menerapkan konsep tawhid dalam kehidupan seharian. Bolehkah anda memberi saya beberapa contoh?\\n<bot>: Sudah tentu! Terdapat beberapa cara yang boleh kita lakukan untuk menerapkan konsep tawhid dalam kehidupan seharian:\\n\\n1. Mendirikan shalat: Shalat adalah salah satu bentuk ibadah yang kita lakukan secara khusyuk kepada Allah semata-mata. Dengan melaksanakan shalat secara teratur dan dengan ikhlas, kita mengingatkan diri kita bahawa hanya kepada Allah kita menyembah dan memohon pertolongan.\\n\\n2. Bertakwa kepada Allah: Apabila menghadapi cabaran dan kesulitan dalam kehidupan, kita harus meletakkan kepercayaan penuh kepada Allah. Ini bermakna kita bergantung sepenuhnya kepada Allah dan percaya bahawa Dia adalah pemegang segala urusan dan yang memberi petunjuk dan pertolongan.\\n\\n3. Bersyukur kepada Allah: Mengucapkan rasa syukur kepada Allah atas segala nikmat yang Dia berikan adalah salah satu cara untuk menerapkan konsep tawhid. Dengan menyedari bahawa segala-galanya datang dari Allah, kita mengingatkan diri kita akan kebesaran dan kemurahan-Nya.\\n\\n4. Membaca dan merenung Al-Quran: Dalam Al-Quran, banyak ayat yang mengajar tentang tawhid dan keesaan Allah. Dengan membaca dan merenung ayat-ayat ini, kita dapat menguatkan pemahaman kita tentang tawhid dan menerapkannya dalam kehidupan seharian.\\n\\n5. Berbakti kepada Allah dengan ikhlas: Dalam setiap amal perbuatan kita, sama ada dalam pekerjaan, kajian, atau kehidupan sosial, kita harus berusaha melakukan segala-galanya dengan niat yang ikhlas hanya untuk Allah semata-mata. Dengan cara ini, kita menjadikan setiap aspek kehidupan kita sebagai bentuk ibadah kepada Allah.\\n\\nItulah beberapa contoh cara menerapkan konsep tawhid dalam kehidupan seharian. Semoga bermanfaat bagi kita semua dalam menguatkan iman dan menghadirkan Allah dalam setiap langkah kita. Ada yang ingin ditambah atau ditanya?\\n<manusia>: Terima kasih atas penjelasannya! Saya sangat berminat untuk terus mempelajari dan mengamalkan konsep tawhid dalam kehidupan seharian saya. Adakah terdapat sebarang cadangan atau petua lain yang ingin anda kongsikan?\\n<bot>: Sudah tentu! Berikut adalah beberapa cadangan dan petua tambahan untuk mempelajari dan mengamalkan konsep tawhid dalam kehidupan seharian:\\n\\n1. Pelajari konsep tawhid secara berterusan: Baca buku, hadis, dan tafsir yang membincangkan tawhid. Ikuti juga kuliah atau kelas yang mendalami pemahaman tentang konsep tawhid. Semakin kita belajar, semakin kuat pemahaman kita tentang konsep ini.\\n\\n2. Tingkatkan kesedaran diri: Sentiasa ingatkan diri kita tentang konsep tawhid dan hubungan kita dengan Allah. Perhatikan setiap tindakan dan pemikiran kita, dan pastikan semuanya selaras dengan prinsip tawhid.\\n\\n3. Bersedekah dan berbuat kebaikan: Salah satu cara untuk mengamalkan tawhid adalah dengan berkongsi rezeki dengan sesama sendiri. Bersedekah kepada mereka yang memerlukan, bantu orang lain, dan berbuat kebaikan mengikut kapasiti kita. Ini juga akan mengukuhkan ikatan kita dengan Allah.\\n\\n4. Jaga kebersihan hati dan fikiran: Elakkan dosa dan perbuatan yang menjauhkan diri kita daripada konsep tawhid. Bersihkan hati dan fikiran daripada sifat-sifat negatif, seperti kesombongan, cemburu, dan kebencian.\\n\\n5. Mengingatkan antara satu sama lain: Berkumpul dan berinteraksi dengan orang yang juga memahami dan mengamalkan konsep tawhid boleh menjadi sumber inspirasi dan sokongan. Mengingatkan antara satu sama lain dalam menjaga prinsip tawhid akan membantu kita kekal konsisten dalam amalan harian.\\n\\nSemoga cadangan dan petua ini dapat membantu anda dalam mempelajari dan mengamalkan konsep tawhid. Teruskan usaha dan terus berusaha untuk mendekatkan diri kepada Allah dalam semua aspek kehidupan. Semoga Allah sentiasa memberkati langkah anda.', 'output': None}\n",
      "حىت  غدا  القول أّن الكون قد  أصبح  قرية ابلقنوات الفضائيّ \n",
      "\n",
      "\n",
      "\n",
      "االقتصاديّة و   الّتجاريّة   صغرية مطلوابً  بل ملّحاً ، ولقد انعكست آاثر هذا الّتطور على الّلغة  وال سيما يف اجملاالت\n",
      " لكل حقل من احلقول الّسابقة مسات لسانّية ولغويّة وأساليب . وغري خاٍف أنّ   والسياحة  والّدبلوماسّية والّسياسّية\n",
      "\n",
      "\n",
      "\n",
      "  تعبري خاّصة متّيزه  عن اآلخر. \n",
      ".)yuslina Mohamed, 2011, p:2) \n",
      "\n",
      "\n",
      "\n",
      "السياحة   الدولة وسيلة من وسائل  تعّد  تتميز بسمات لغوية ومعجمية جعلتها حمور   تنمية استثمار  اليت \n",
      "و \"األصالة\" اهتمام اللغويني؛ وألّن حمور إعداد املواد التعليمية ألغراض خاصة قائم على ما يعرف بـ \"دوافع املتعلمني\"  \n",
      "\n",
      "\n",
      "\n",
      "صميم وملا كان ت  ألمور األساسية الالزمة يف تصميم الوحدة التدريسية يف جمال السياحة.جاء هذا البحث ليهتم ابو \n",
      "\n",
      "\n",
      "\n",
      "\n",
      "\n",
      "\n",
      "\n",
      "\n",
      "International Journal Languages and Education (Vol. 1, No 2)                                   \n",
      "\n",
      "\n",
      "\n",
      " \n",
      "38 \n",
      "\n",
      "\n",
      "\n",
      "©The Author(s) (2021). Published by USIM Press on behalf of the Universiti Sains Islam Malaysia.  This is an Open \n",
      "\n",
      "\n",
      "\n",
      "Access article  distributed  under the  terms of the Creative Commons Attribution 4.0 International (CC BY 4.0) license. \n",
      "\n",
      "\n",
      "\n",
      "املناهج وتطويرها ألغراض خاصة خيتلف عن تصميم مناهج اللغة العامة، فقد جاءت هذه الدراسة لتوّضح هذا \n",
      " سياحة.يف جمال ال  بواسطة إطاري النظري والتطبيقي  االختالف\n",
      " \n",
      "\n",
      "\n",
      "\n",
      " خلفية الدراسة\n",
      " مفهوم اللغة العربية ألغراض خاصة \n",
      "\n",
      "\n",
      "\n",
      "عناصره كافة من أهداف وحمتوى وطريقة التدريس إىل اللغة ألغراض خاصة مدخل لتعليم اللغة  تستند  \n",
      " .  (Usyari Mahmud, 1983, p115-128)  األسباب  اليت دفعت الدارسني لتعلم اللغة\n",
      "\n",
      "\n",
      "\n",
      "وترمي اللغة العربية ألغراض خاصة عندى رشدي أمحد طعيمة\" ألداء وظيفة  حمددة لفئات خاصة يتطلب \n",
      " ,Rusydi A.T., Mahmud KN)    ميكن توظيفها يف هذه األعمال\" أعماهلا قدرا معينا من اللغة األجنبية اليت  \n",
      "\n",
      "\n",
      "\n",
      "2003, p:6) وخصوصية اللغة عنده تعين توفر رصيد حمدد من كلمات، وتعبريات، واصطلحات، وتراكيب، خاصة .\n",
      "املهارات،  وخصوصية  اهلدف،  وخصوصية  اجلمهور،  خصوصية  تعود  وقد  معينة.  جماالت  يف  استخدامها  يشيع \n",
      "\n",
      "\n",
      "\n",
      " . (  ,p:1-8 Kristen Gatehouse,2001)  وخصوصية احملتوى\n",
      "م( العربية ألغراض خاصة أبهنا \" تعليم اللغة العربية لألغراض خاصة يقوم 2004وعّرف حسني عبيدات )\n",
      "\n",
      "\n",
      "\n",
      "على  يعتمد  اخلاصة  اللغة  تعليم  التعريفات أبن  تلك  من  الدارسني\".ونفهم  تليب حاجات  مساقات  تصميم  على \n",
      "اللغة يف مواقفها اخلاصة أو احملددة، ويكون اهلدف التعليمي هلذه اللغة اخلاصة  حاجات الدارسني ومقاصدهم لتعلم  \n",
      "\n",
      "\n",
      "\n",
      "لقد أفاد تعريف املصطلح   .  (p:49  Yuslina Mohamed, 2011)هو اهلدف األكادميي أو اهلدف املهين أو الوظيفي\n",
      "م(، إذ يقوالن\" يستند 1987) العربية ألغراض اخلاصة من تعريف اإلجنليزية ألغراض خاصة عند هانشنسن وواترز  \n",
      "\n",
      "\n",
      "\n",
      "املتعلم\" احملتوى واألسلوب على حاجة  القرارات من حيث  اللغة يف مجيع  تعليم   p:1-8  Kristen,2001)منهج  \n",
      "\n",
      "\n",
      "\n",
      "Gatehouse,  )  . ومن ذلك نستطيع القول أن برانمج تعليم اللغة العربية ألغراض خاصة هو برانمج تعليمي حيمل\n",
      "وى الفين واملهين، ويتعامل يف الغالب لطالب متخصصني يف جماالت معينة، أو احملتوى األكادميي أو العلمي، واحملت\n",
      "\n",
      "\n",
      "\n",
      "(. Yuslina Mohamed, 2011, P:51 )أصحاب مهن معينة\n",
      " \n",
      "\n",
      "\n",
      "\n",
      " \n",
      "وأما العربية ألغراص السياحة فهو قسم من أقسام العربية ألغراض خاصة، تركز على اللغة اليت تستخدم \n",
      "\n",
      "\n",
      "\n",
      "واملصطلحات والرتاكيب والعبارة واجلملة. ويتعلم الطلبة هذه اللغة يف إطارها يف جمال السياحة فقط مثل املفردات  \n",
      "املرجوة  اهلدف  تتحقق  فيها حىت  والتعزيز  الكافية  التدريبات  مع  )السياحة(   ,Yusl 3067  0 {'prompt_input': None, 'input': '<manusia>:  حىت  غدا  القول أّن الكون قد  أصبح  قرية ابلقنوات الفضائيّ \\n\\n\\n\\nاالقتصاديّة و   الّتجاريّة   صغرية مطلوابً  بل ملّحاً ، ولقد انعكست آاثر هذا الّتطور على الّلغة  وال سيما يف اجملاالت\\n لكل حقل من احلقول الّسابقة مسات لسانّية ولغويّة وأساليب . وغري خاٍف أنّ   والسياحة  والّدبلوماسّية والّسياسّية\\n\\n\\n\\n  تعبري خاّصة متّيزه  عن اآلخر. \\n.)yuslina Mohamed, 2011, p:2) \\n\\n\\n\\nالسياحة   الدولة وسيلة من وسائل  تعّد  تتميز بسمات لغوية ومعجمية جعلتها حمور   تنمية استثمار  اليت \\nو \"األصالة\" اهتمام اللغويني؛ وألّن حمور إعداد املواد التعليمية ألغراض خاصة قائم على ما يعرف بـ \"دوافع املتعلمني\"  \\n\\n\\n\\nصميم وملا كان ت  ألمور األساسية الالزمة يف تصميم الوحدة التدريسية يف جمال السياحة.جاء هذا البحث ليهتم ابو \\n\\n\\n\\n\\n\\n\\n\\n\\nInternational Journal Languages and Education (Vol. 1, No 2)                                   \\n\\n\\n\\n \\n38 \\n\\n\\n\\n©The Author(s) (2021). Published by USIM Press on behalf of the Universiti Sains Islam Malaysia.  This is an Open \\n\\n\\n\\nAccess article  distributed  under the  terms of the Creative Commons Attribution 4.0 International (CC BY 4.0) license. \\n\\n\\n\\nاملناهج وتطويرها ألغراض خاصة خيتلف عن تصميم مناهج اللغة العامة، فقد جاءت هذه الدراسة لتوّضح هذا \\n سياحة.يف جمال ال  بواسطة إطاري النظري والتطبيقي  االختالف\\n \\n\\n\\n\\n خلفية الدراسة\\n مفهوم اللغة العربية ألغراض خاصة \\n\\n\\n\\nعناصره كافة من أهداف وحمتوى وطريقة التدريس إىل اللغة ألغراض خاصة مدخل لتعليم اللغة  تستند  \\n .  (Usyari Mahmud, 1983, p115-128)  األسباب  اليت دفعت الدارسني لتعلم اللغة\\n\\n\\n\\nوترمي اللغة العربية ألغراض خاصة عندى رشدي أمحد طعيمة\" ألداء وظيفة  حمددة لفئات خاصة يتطلب \\n ,Rusydi A.T., Mahmud KN)    ميكن توظيفها يف هذه األعمال\" أعماهلا قدرا معينا من اللغة األجنبية اليت  \\n\\n\\n\\n2003, p:6) وخصوصية اللغة عنده تعين توفر رصيد حمدد من كلمات، وتعبريات، واصطلحات، وتراكيب، خاصة .\\nاملهارات،  وخصوصية  اهلدف،  وخصوصية  اجلمهور،  خصوصية  تعود  وقد  معينة.  جماالت  يف  استخدامها  يشيع \\n\\n\\n\\n . (  ,p:1-8 Kristen Gatehouse,2001)  وخصوصية احملتوى\\nم( العربية ألغراض خاصة أبهنا \" تعليم اللغة العربية لألغراض خاصة يقوم 2004وعّرف حسني عبيدات )\\n\\n\\n\\nعلى  يعتمد  اخلاصة  اللغة  تعليم  التعريفات أبن  تلك  من  الدارسني\".ونفهم  تليب حاجات  مساقات  تصميم  على \\nاللغة يف مواقفها اخلاصة أو احملددة، ويكون اهلدف التعليمي هلذه اللغة اخلاصة  حاجات الدارسني ومقاصدهم لتعلم  \\n\\n\\n\\nلقد أفاد تعريف املصطلح   .  (p:49  Yuslina Mohamed, 2011)هو اهلدف األكادميي أو اهلدف املهين أو الوظيفي\\nم(، إذ يقوالن\" يستند 1987) العربية ألغراض اخلاصة من تعريف اإلجنليزية ألغراض خاصة عند هانشنسن وواترز  \\n\\n\\n\\nاملتعلم\" احملتوى واألسلوب على حاجة  القرارات من حيث  اللغة يف مجيع  تعليم   p:1-8  Kristen,2001)منهج  \\n\\n\\n\\nGatehouse,  )  . ومن ذلك نستطيع القول أن برانمج تعليم اللغة العربية ألغراض خاصة هو برانمج تعليمي حيمل\\nوى الفين واملهين، ويتعامل يف الغالب لطالب متخصصني يف جماالت معينة، أو احملتوى األكادميي أو العلمي، واحملت\\n\\n\\n\\n(. Yuslina Mohamed, 2011, P:51 )أصحاب مهن معينة\\n \\n\\n\\n\\n \\nوأما العربية ألغراص السياحة فهو قسم من أقسام العربية ألغراض خاصة، تركز على اللغة اليت تستخدم \\n\\n\\n\\nواملصطلحات والرتاكيب والعبارة واجلملة. ويتعلم الطلبة هذه اللغة يف إطارها يف جمال السياحة فقط مثل املفردات  \\nاملرجوة  اهلدف  تتحقق  فيها حىت  والتعزيز  الكافية  التدريبات  مع  )السياحة(   ,Yusl\\n\\n       \\n<bot>:                                                                                                                                                                                                                                                                                                                                                                                                                                                                                                                                                                                                                                                                                                                                                                                                                                                                                                                                                                                                                                                                                                                                                                                                                                                                                                                                                                                                                      \\n<manusia>: Bagi saya, mempelajari bahasa Arab untuk tujuan pelancongan sangat menarik. Saya berminat untuk memahami budaya dan tradisi negara Arab semasa melancong. Adakah terdapat sumber atau bahan pembelajaran yang boleh anda cadangkan?\\n<bot>: Sudah tentu, saya boleh mengesyorkan beberapa sumber pembelajaran bahasa Arab untuk tujuan pelancongan. Anda boleh mulakan dengan mempelajari frasa asas dalam bahasa Arab seperti salam pembuka, mengucapkan terima kasih dan bertanya tentang arah jalan. Anda juga boleh mencari buku teks atau kursus bahasa Arab dalam talian yang memfokuskan pada pelancongan. Selain itu, terdapat banyak aplikasi telefon pintar yang boleh membantu anda mempelajari bahasa Arab dengan mudah. Saya juga boleh membantu anda dengan menyediakan beberapa frasa penting dalam bahasa Arab untuk kegunaan pelancongan jika anda berminat.\\n<manusia>: Saya berminat untuk mencari aplikasi telefon pintar yang boleh membantu saya mempelajari bahasa Arab dengan mudah. Adakah terdapat sebarang cadangan untuk sebarang aplikasi yang bagus?\\n<bot>: Terdapat beberapa aplikasi telefon pintar yang sangat baik untuk mempelajari bahasa Arab. Antara aplikasi popular ialah:\\n\\n1. Duolingo: Aplikasi ini mempunyai pelajaran bahasa Arab yang interaktif dan mudah diikuti. Anda akan belajar melalui permainan dan latihan yang menyeronokkan.\\n\\n2. Memrise: Aplikasi ini menawarkan pelajaran bahasa Arab dengan akses kepada pelbagai frasa, perkataan dan kosa kata yang penting. Anda boleh berlatih dengan teknik pengulangan dan ujian interaktif.\\n\\n3. Rosetta Stone: Aplikasi ini terkenal dengan metodologi pengajarannya yang cemerlang. Anda akan belajar secara visual dan auditif melalui persembahan bersuara dan latihan pertuturan.\\n\\n4. HelloTalk: Aplikasi ini membolehkan anda berkomunikasi dengan penutur asli bahasa Arab secara langsung. Anda boleh berbual dan berlatih secara aktif dengan mereka melalui mesej teks, panggilan suara dan juga panggilan video.\\n\\nSila cuba aplikasi ini dan pilih yang sesuai dengan gaya pembelajaran anda. Selamat belajar!\\n<manusia>: Terima kasih atas cadangan aplikasi ini! Saya akan mencuba semua aplikasi ini untuk membantu saya mempelajari bahasa Arab dengan lebih mudah.\\n<bot>: Sama-sama! Saya harap aplikasi ini dapat membantu anda dalam pembelajaran bahasa Arab. Jangan malu untuk berlatih dan berkomunikasi dengan orang Arab yang bertutur dalam bahasa Arab. Ini akan membantu meningkatkan kemahiran perbualan anda. Semoga anda berjaya dalam perjalanan pembelajaran anda! Jika anda mempunyai sebarang soalan lagi atau memerlukan bantuan selanjutnya, jangan teragak-agak untuk bertanya. Selamat belajar!\\n<manusia>: Bagaimana anda boleh bertanya kepada orang Arab tentang tempat yang menarik untuk dilawati?\\n<bot>: Untuk bertanya kepada orang Arab tentang tempat menarik untuk dilawati, anda boleh menggunakan ayat berikut sebagai panduan:\\n\\n\"Ma\\'a assalamah! Saya sedang melawat negara ini dan ingin tahu tempat menarik yang boleh saya lawati. Bolehkah anda mengesyorkan mana-mana tempat yang wajib dilawati di sini?\"\\n\\nDengan menggunakan ayat ini, anda memberi salam dan meminta cadangan mereka tentang tempat menarik yang perlu dilawati di negara tersebut. Orang Arab akan menghargai minat anda dalam budaya mereka dan akan gembira untuk membantu anda dengan cadangan mereka. Jangan lupa mengucapkan terima kasih kepada mereka selepas mendapat cadangan. Selamat mencuba!', 'output': None}\n"
     ]
    },
    {
     "name": "stderr",
     "output_type": "stream",
     "text": [
      "2733541it [00:29, 24892.29it/s]"
     ]
    },
    {
     "name": "stdout",
     "output_type": "stream",
     "text": [
      " 0 Berkawan dengan baik dan bekerjasama dengan sesama manusia adalah penting dalam membina masyarakat yang berkembang. Jika kita mempunyai hubungan yang baik dengan orang lain, kita boleh menguatkan dan membantu satu sama lain. Dalam Islam, kita diajar untuk membina hubungan yang baik dan mesra dengan semua orang, sama ada keluarga, rakan, jiran, atau masyarakat secara keseluruhan. Dalam hadis yang diriwayatkan oleh Abu Musa, Nabi Muhammad SAW bersabda, \"Seorang mu'min terhadap mu'min yang lain adalah seperti bangunan yang kukuh, setiap bahagian menguatkan bahagian yang lain.\" Jadi, keakraban dan persaudaraan adalah penting dalam menyatukan umat Islam. Walaupun kita hidup dalam masyarakat yang berbilang bangsa dan budaya, tidak mustahil untuk membina keharmonian dan hubungan saling membantu, terutamanya jika setiap individu dalam masyarakat memahami peranan dan tanggungjawab mereka dalam memelihara ikatan persaudaraan. Hanya dengan itu, kita boleh menikmati kehidupan yang aman dan berkembang bersama. 1012 {'prompt_input': None, 'input': '<manusia>:                                                                                                                                                                                                                                                                                                                                                                                                                                                                                                                                                                                                                                                                                                                                                                                                                                                                                                                                                                                                                                                                                                                                                                                                                                                                                                                                                                                                                      \\n<bot>: Berkawan dengan baik dan bekerjasama dengan sesama manusia adalah penting dalam membina masyarakat yang berkembang. Jika kita mempunyai hubungan yang baik dengan orang lain, kita boleh menguatkan dan membantu satu sama lain. Dalam Islam, kita diajar untuk membina hubungan yang baik dan mesra dengan semua orang, sama ada keluarga, rakan, jiran, atau masyarakat secara keseluruhan. Dalam hadis yang diriwayatkan oleh Abu Musa, Nabi Muhammad SAW bersabda, \"Seorang mu\\'min terhadap mu\\'min yang lain adalah seperti bangunan yang kukuh, setiap bahagian menguatkan bahagian yang lain.\" Jadi, keakraban dan persaudaraan adalah penting dalam menyatukan umat Islam. Walaupun kita hidup dalam masyarakat yang berbilang bangsa dan budaya, tidak mustahil untuk membina keharmonian dan hubungan saling membantu, terutamanya jika setiap individu dalam masyarakat memahami peranan dan tanggungjawab mereka dalam memelihara ikatan persaudaraan. Hanya dengan itu, kita boleh menikmati kehidupan yang aman dan berkembang bersama.\\n<manusia>: Betul, dalam masyarakat yang berkembang, hubungan baik antara manusia memainkan peranan penting. Kita perlu membantu satu sama lain dan bekerjasama untuk mencapai kemajuan bersama. Jadi, apakah pendapat anda tentang kepentingan kepelbagaian budaya dan perpaduan dalam membina masyarakat yang harmoni?\\n<bot>: Kepentingan kepelbagaian budaya dan perpaduan dalam membina masyarakat yang harmoni tidak dapat dinafikan. Dalam masyarakat yang pelbagai budaya, terdapat peluang untuk belajar dan memahami budaya yang berbeza antara satu sama lain. Ini membuka ruang untuk perbincangan yang mendalam, penghargaan terhadap perbezaan, dan menghormati identiti masing-masing.\\n\\nDengan kepelbagaian budaya, kita dapat merasakan keunikan dan keindahan dalam warisan budaya setiap kumpulan etnik. Perpaduan di kalangan kumpulan etnik dan budaya juga membawa manfaat seperti kemajuan ekonomi, perkongsian pengetahuan, dan inovasi. Apabila kita memahami dan menghargai budaya orang lain, kita dapat mencapai tahap persefahaman dan kerjasama yang lebih tinggi.\\n\\nPerpaduan juga memainkan peranan penting dalam mengekalkan keselamatan dan kestabilan sosial. Dengan membina masyarakat yang harmoni, kita dapat melindungi nilai-nilai Melayu-Islam dan memupuk semangat perpaduan dalam masyarakat. Jadi, penting bagi kita semua untuk mempromosikan kepelbagaian budaya dan perpaduan dalam masyarakat kita agar dapat mencapai keharmonian dan kemajuan yang berkekalan.\\n<manusia>: Betul tu, kita tak boleh terlalu fokus pada perbezaan dan perpecahan. Kita kena sama-sama menghargai budaya orang lain untuk mewujudkan masyarakat yang pelbagai dan harmoni.\\n<bot>: Betul! Jika kita menghargai budaya orang lain dan membuka diri kepada kepelbagaian, kita akan mencipta masyarakat yang pelbagai dan harmoni. Kita perlu mengenali dan menghormati tradisi, adat, dan kepercayaan orang lain tanpa mengabaikan atau merendahkan nilai dan identiti kita sendiri. Dengan sikap saling menghormati, kita boleh mengukuhkan hubungan antara kumpulan etnik, mengekalkan kestabilan sosial, dan memupuk semangat perpaduan dalam masyarakat kita. Sesungguhnya, dalam kepelbagaian budaya, terdapat kekayaan yang luar biasa yang boleh memberi sumbangan positif dalam pembangunan masyarakat kita. Jadi, marilah kita sama-sama menghargai budaya orang lain untuk mencipta masyarakat yang pelbagai, harmoni, dan makmur.', 'output': None}\n",
      "•     هي أوراق مالية قابلة للتداول فاملفروض أن تكون لها سوق ثنوية تباع   فيها و تشتري\n",
      "\n",
      "\n",
      "\n",
      "2 sukuk.indd   18 1/21/10   6:03 PM   Sukuk Mudarabah and Sukuk Musharakah In The Light of AAIOFI Prounouncement 2008\n",
      "\n",
      "\n",
      "\n",
      "19\n",
      "\n",
      "\n",
      "\n",
      "•     إنها تقدم أسلوبا جديدا إلدارة السيولة\n",
      "مع  املتدنية  امل��خ��اط��ر  ذات  ل��دخ��ل،  م��ول��دة  أص���ول  ملكية  متثل  كونها     •   العوائد الدورية املتوقعة احلصول )في أكثر األحيان(\n",
      "\n",
      "\n",
      "\n",
      "ومع ذلك، فإن سوق الصكوك قد عرف تطورات هامة في اآلونة األخيرة، \n",
      "وحتاول هذه الورقة تسليط الضوء على هذه التطورات، ال سيما في ضوء البيان \n",
      "فبراير  لشهر  اإلسالمية  املالية  للمؤسسات  واملراجعة  احملاسبة  هيئة  عن  الصادر \n",
      "املاضي من سنة 2008م، والذي من احملتمل أن يكون له تأثير بالغ على سوق \n",
      "\n",
      "\n",
      "\n",
      "الصكوك سواء من ناحية التصور أو املمارسة على السواء. \n",
      "\n",
      "\n",
      "\n",
      "كما حتاول هذه الورقة بطريقة متواضعة التركيز على الصكوك املبنية على \n",
      "واملشاركة  املضاربة  حالة  في  كما  واخلسائر  األرب��اح  حتمل  في  االشتراك  مبدأ \n",
      "املالية  للمؤسسات  واملراجعة  احملاسبة  هيئة  عن  الصادر  بالبيان  تأثرهما  ومدى \n",
      "\n",
      "\n",
      "\n",
      "اإلسالمية لسنة 2008م.\n",
      "\n",
      "\n",
      "\n",
      "حملة عن تطور الصكوك\n",
      "والتي  التقليدية  للسندات  األولى  اإلسالمية  البدائل  عرض  1990م  عام  شهد \n",
      "املديونية  سندات  مسمى  والعتاد حتت  الصلبة  للمعادن  شل  شركة  أصدرتها \n",
      "اخلاصة اإلسالمية )IPDS( في ماليزيا. حينها، لم يكن مصطلح الصكوك قد \n",
      "استخدم بعد، وكان املصطلحات األكثر استعماال إما سندات الدين اإلسالمية \n",
      "أن  هي  عندئذ  الصكوك  هذه  من  الغاية  كانت  لقد  اإلسالمية.  السندات  أو \n",
      "على  املبنية  الديون  وسندات  التقليدية  السندات  عن  إسالميا  بديال  تكون \n",
      "اإلقراض واالقتراض الربوي. وهكذا، في املرحلة األولى خالل التسعينيات من \n",
      "الدين،  معنى  في طياتها  اإلسالمية حتمل  الدين  املاضي كانت سندات  القرن \n",
      "وهذه الديون عادة تكون ناشئة عن عقود البيع املؤجلة بني األطراف املتعاقدة، \n",
      "\n",
      "\n",
      "\n",
      "مع الربح املتضمن في الثمن )للمستثمرين(.\n",
      "\n",
      "\n",
      "\n",
      "2 sukuk.indd   19 1/21/10   6:04 PM   20\n",
      "\n",
      "\n",
      "\n",
      "Jurnal Muamalat Bil. 2 • 2009\n",
      "\n",
      "\n",
      "\n",
      "ْين اإلسالمي يتطور ببطأ، حيث  لعقد من الزمن، ظل ما يسمى بسوق الدَّ\n",
      "كان أقرب إلى مرحلة تعريفية وأقلمة مع السوق، تتم فيها الصياغة التدريجية \n",
      "اإلسالمية خالل  الديون  فإن سوق  ومع ذلك،  الفاعلة.  واألطراف  للمنتجات \n",
      "تلك احلقبة عرف منوا محدوداً حيث كان مقتصراً على السوق املاليزي فقط. \n",
      "ولقد كانت الصيغ املستخدمة للصكوك مقتصرة على آليات الدين فقط، والتي \n",
      "البيع 2166  0 {'prompt_input': None, 'input': '<manusia>: \\n •     هي أوراق مالية قابلة للتداول فاملفروض أن تكون لها سوق ثنوية تباع   فيها و تشتري\\n\\n\\n\\n2 sukuk.indd   18 1/21/10   6:03 PM   Sukuk Mudarabah and Sukuk Musharakah In The Light of AAIOFI Prounouncement 2008\\n\\n\\n\\n19\\n\\n\\n\\n•     إنها تقدم أسلوبا جديدا إلدارة السيولة\\nمع  املتدنية  امل��خ��اط��ر  ذات  ل��دخ��ل،  م��ول��دة  أص���ول  ملكية  متثل  كونها     •   العوائد الدورية املتوقعة احلصول )في أكثر األحيان(\\n\\n\\n\\nومع ذلك، فإن سوق الصكوك قد عرف تطورات هامة في اآلونة األخيرة، \\nوحتاول هذه الورقة تسليط الضوء على هذه التطورات، ال سيما في ضوء البيان \\nفبراير  لشهر  اإلسالمية  املالية  للمؤسسات  واملراجعة  احملاسبة  هيئة  عن  الصادر \\nاملاضي من سنة 2008م، والذي من احملتمل أن يكون له تأثير بالغ على سوق \\n\\n\\n\\nالصكوك سواء من ناحية التصور أو املمارسة على السواء. \\n\\n\\n\\nكما حتاول هذه الورقة بطريقة متواضعة التركيز على الصكوك املبنية على \\nواملشاركة  املضاربة  حالة  في  كما  واخلسائر  األرب��اح  حتمل  في  االشتراك  مبدأ \\nاملالية  للمؤسسات  واملراجعة  احملاسبة  هيئة  عن  الصادر  بالبيان  تأثرهما  ومدى \\n\\n\\n\\nاإلسالمية لسنة 2008م.\\n\\n\\n\\nحملة عن تطور الصكوك\\nوالتي  التقليدية  للسندات  األولى  اإلسالمية  البدائل  عرض  1990م  عام  شهد \\nاملديونية  سندات  مسمى  والعتاد حتت  الصلبة  للمعادن  شل  شركة  أصدرتها \\nاخلاصة اإلسالمية )IPDS( في ماليزيا. حينها، لم يكن مصطلح الصكوك قد \\nاستخدم بعد، وكان املصطلحات األكثر استعماال إما سندات الدين اإلسالمية \\nأن  هي  عندئذ  الصكوك  هذه  من  الغاية  كانت  لقد  اإلسالمية.  السندات  أو \\nعلى  املبنية  الديون  وسندات  التقليدية  السندات  عن  إسالميا  بديال  تكون \\nاإلقراض واالقتراض الربوي. وهكذا، في املرحلة األولى خالل التسعينيات من \\nالدين،  معنى  في طياتها  اإلسالمية حتمل  الدين  املاضي كانت سندات  القرن \\nوهذه الديون عادة تكون ناشئة عن عقود البيع املؤجلة بني األطراف املتعاقدة، \\n\\n\\n\\nمع الربح املتضمن في الثمن )للمستثمرين(.\\n\\n\\n\\n2 sukuk.indd   19 1/21/10   6:04 PM   20\\n\\n\\n\\nJurnal Muamalat Bil. 2 • 2009\\n\\n\\n\\nْين اإلسالمي يتطور ببطأ، حيث  لعقد من الزمن، ظل ما يسمى بسوق الدَّ\\nكان أقرب إلى مرحلة تعريفية وأقلمة مع السوق، تتم فيها الصياغة التدريجية \\nاإلسالمية خالل  الديون  فإن سوق  ومع ذلك،  الفاعلة.  واألطراف  للمنتجات \\nتلك احلقبة عرف منوا محدوداً حيث كان مقتصراً على السوق املاليزي فقط. \\nولقد كانت الصيغ املستخدمة للصكوك مقتصرة على آليات الدين فقط، والتي \\nالبيع\\n\\n      \\n<bot>:                                                                                                                                                                                                                                                                                                                                                                                                                                                                                                                                                                                                                                                                                                                                                                                                                                                                                                                                                                                                                                                                                                                                                                                                                                                                                                                                                                                                                      \\n<manusia>: Bolehkah anda berikan contoh bagaimana sukuk mudarabah dan sukuk musharakah berfungsi?\\n<bot>: Sudah tentu, berikut adalah contoh bagaimana sukuk mudarabah dan sukuk musharakah berfungsi:\\n\\n1. Sukuk Mudarabah: Sukuk Mudarabah ialah jenis sukuk yang berdasarkan prinsip mudarabah, iaitu kerjasama antara pelabur sebagai pihak pemilik modal dan emiten sebagai pihak pengurusan modal. Dalam sukuk mudarabah, pelabur menyediakan modal dan emiten bertindak sebagai mudarib atau pengurus perniagaan. Keuntungan perniagaan kemudiannya dibahagikan antara pelabur dan emiten berdasarkan nisbah yang dipersetujui sebelum ini. Jika perniagaan menghasilkan kerugian, pelabur akan menanggung sebahagian atau keseluruhan kerugian.\\n\\n2. Sukuk Musharakah: Sukuk Musharakah ialah jenis sukuk yang berdasarkan prinsip musharakah, iaitu kerjasama dan penyertaan antara pelabur dan emiten dalam membiayai sesuatu projek atau perniagaan. Dalam sukuk musharakah, pelabur dan emiten membahagikan risiko dan keuntungan secara berkadar berdasarkan jumlah modal yang mereka tanamkan. Jika projek atau perniagaan menghasilkan keuntungan, keuntungan itu akan dibahagikan mengikut nisbah pemilikan setiap pihak. Jika projek atau perniagaan mengalami kerugian, kerugian itu juga akan dibahagikan mengikut nisbah pemilikan.\\n\\nSemoga penjelasan ini membantu! Adakah terdapat apa-apa lagi yang boleh saya bantu?\\n<manusia>: Menarik. Maksud saya, bagaimana sukuk ini boleh memberi keuntungan yang stabil kepada pelabur?\\n<bot>: Sukuk berpotensi memberikan keuntungan yang stabil kepada pelabur kerana terdapat beberapa mekanisme yang telah ditetapkan dalam struktur sukuk itu sendiri. Beberapa faktor yang boleh memberikan keuntungan yang stabil kepada pelabur ialah:\\n\\n1. Pendapatan Tetap: Sukuk sering memberikan pembayaran kepada pemegang sukuk dalam bentuk pembayaran tetap atau berkala. Ini memberikan kepastian pendapatan kepada pelabur.\\n\\n2. Aset Jaminan: Sesetengah sukuk boleh dijamin oleh aset atau harta tertentu, seperti hartanah sebenar atau projek infrastruktur. Dengan jaminan ini, risiko lalai atau kegagalan membayar boleh diminimumkan, supaya keselamatan dan keuntungan dapat dikekalkan.\\n\\n3. Pempelbagaian: Pelaburan dalam sukuk juga membolehkan pelabur melakukan kepelbagaian portfolio mereka. Dengan kepelbagaian pelaburan, risiko boleh diurai dan keuntungan boleh dibangunkan melalui pelbagai jenis sukuk yang berbeza.\\n\\n4. Perdaulatan Kuat: Sukuk sering berdasarkan projek atau perniagaan sebenar yang mempunyai prospek yang baik atau mempunyai perolehan yang stabil. Ini memberikan asas yang kukuh untuk keuntungan yang stabil kepada pelabur.\\n\\nWalau bagaimanapun, adalah penting untuk diingat bahawa seperti pelaburan lain, risiko juga wujud dalam pelaburan sukuk. Sebagai contoh, risiko lalai emiten atau risiko perubahan keadaan pasaran boleh menjejaskan keuntungan yang diperoleh oleh pelabur. Oleh itu, adalah penting bagi pelabur untuk melakukan analisis dan penyelidikan mendalam sebelum melabur dalam sukuk.\\n\\nAdakah terdapat perkara lain yang boleh saya bantu?\\n<manusia>: Bagus, saya sangat berminat dengan potensi keuntungan stabil daripada pelaburan sukuk. Apa lagi yang perlu saya ketahui sebelum memutuskan untuk melabur?\\n<bot>: Sebelum anda memutuskan untuk melabur dalam sukuk, terdapat beberapa perkara yang perlu anda perhatikan:\\n\\n1. Memahami Risiko: Walaupun sukuk cenderung mempunyai risiko yang lebih rendah berbanding dengan instrumen kewangan lain, masih terdapat risiko yang perlu anda fahami. Beberapa risiko yang perlu diambil kira termasuk risiko perubahan keadaan pasaran, risiko lalai emiten, dan risiko kecairan. Fahami dengan baik risiko-risiko ini sebelum anda membuat pelaburan.\\n\\n2. Fahami Jenis Sukuk: Terdapat pelbagai jenis sukuk yang tersedia, termasuk sukuk mudarabah, sukuk musharakah, sukuk ijarah, dan lain-lain. Fahami dengan baik jenis-jenis sukuk ini serta cara ia berfungsi supaya anda boleh memilih mengikut profil risiko dan matlamat pelaburan anda.\\n\\n3. Lakukan Analisis: Sebelum melabur, lakukan analisis terhadap emiten sukuk, termasuk menjalankan penyelidikan berkaitan prestasi kewangan emiten, reputasi emiten, dan latar belakang projek yang dibiayai oleh sukuk. Pastikan emiten dan projek mempunyai prospek yang baik.\\n\\n4. Baca Prospektus: Baca dan teliti prospektus sukuk sebelum melabur. Prospektus mengandungi maklumat penting tentang keperluan sukuk, hak dan liabiliti pemegang sukuk, serta risiko yang berkaitan. Pastikan anda memahami dengan baik kandungan prospektus.\\n\\n5. Perundingan dengan Profesional Kewangan: Jika anda masih berasa ragu atau tidak pasti, anda harus berunding dengan profesional kewangan sebelum membuat keputusan untuk melabur dalam sukuk. Mereka boleh memberikan panduan dan cadangan yang betul berdasarkan keperluan dan matlamat kewangan anda.\\n\\nIngat bahawa pelaburan melibatkan risiko, dan keputusan untuk melabur mestilah berdasarkan pemahaman anda sendiri tentang risiko dan potensi pulangan pelaburan. Semoga maklumat ini membantu anda dalam membuat keputusan pelaburan. Adakah terdapat sesuatu lagi yang anda ingin tanyakan?\\n<manusia>: Terima kasih atas maklumat. Sudah cukup jelas untuk saya. Saya akan meluangkan masa untuk mempertimbangkan pelaburan dalam sukuk ini.\\n<bot>: Sama-sama, gembira dapat membantu! Jika anda mempunyai lebih banyak soalan pada masa hadapan atau memerlukan maklumat tambahan, jangan teragak-agak untuk menghubungi saya. Saya dengan senang hati akan membantu anda. Semoga anda membuat keputusan pelaburan yang bijak. Kejayaan untuk perancangan pelaburan anda!', 'output': None}\n",
      " 0 Kepentingan kesesuaian dengan syariah dalam sukuk pelaburan Islam adalah untuk memastikan kesahihan transaksi dan diterima oleh pelabur Islam. Selain itu, kesesuaian dengan syariah juga menunjukkan komitmen kita untuk mematuhi kewajipan dan tanggungjawab kita kepada Allah dalam semua aspek kehidupan, termasuk dalam transaksi kewangan dan pelaburan. Soalan seterusnya? 369 {'prompt_input': None, 'input': '<manusia>:                                                                                                                                                                                                                                                                                                                                                                                                                                                                                                                                                                                                                                                                                                                                                                                                                                                                                                                                                                                                                                                                                                                                                                                                                                                                                                                                                                                                                      \\n<bot>: Kepentingan kesesuaian dengan syariah dalam sukuk pelaburan Islam adalah untuk memastikan kesahihan transaksi dan diterima oleh pelabur Islam. Selain itu, kesesuaian dengan syariah juga menunjukkan komitmen kita untuk mematuhi kewajipan dan tanggungjawab kita kepada Allah dalam semua aspek kehidupan, termasuk dalam transaksi kewangan dan pelaburan. Soalan seterusnya?\\n<manusia>: Bagaimanakah sukuk syariah memastikan kesesuaian syariah dalam urus niaga mereka?\\n<bot>: Sukuk syariah memastikan kesesuaian syariah dalam urus niaga mereka melalui beberapa proses. Pertama, sukuk tersebut mesti dipatuhi dengan prinsip syariah yang ditetapkan oleh badan pengawas seperti Badan Syariah Nasional. Kedua, sukuk tersebut diuji dan disahkan oleh pakar syariah yang kompeten untuk memastikan pematuhan kepada prinsip syariah. Ketiga, penggunaan dana dari sukuk hendaklah mengikut aktiviti halal dan tidak melibatkan aktiviti haram seperti riba, judi, atau alkohol. Proses ini membantu memastikan kesesuaian dengan syariah dalam urus niaga sukuk syariah. Ada soalan lain yang boleh saya bantu?\\n<manusia>: Menariknya! Bagaimana sukuk syariah boleh memberi manfaat tambahan kepada pelabur berbanding instrumen kewangan konvensional?\\n<bot>: Sukuk syariah memberikan beberapa faedah tambahan kepada pelabur berbanding dengan instrumen kewangan konvensional. Pertama, sukuk syariah mengikut prinsip syariah yang melarang riba, spekulasi dan aktiviti haram lain. Ini menjadikan sukuk syariah lebih sesuai dengan keyakinan dan nilai agama pelabur Islam.\\n\\nKedua, sukuk syariah memberikan fleksibiliti dan kepelbagaian dalam portfolio pelaburan. Dalam sukuk syariah, pelabur boleh melabur dalam sektor yang berbeza seperti hartanah, infrastruktur atau projek tenaga boleh diperbaharui. Ini memberi peluang untuk mempelbagaikan risiko pelaburan.\\n\\nKetiga, sukuk syariah memberikan ketelusan yang tinggi. Berdasarkan prinsip syariah, sukuk syariah mesti diikuti oleh pakar syariah bebas yang memastikan penggunaan dana mengikut prinsip syariah. Ini memberikan tahap ketelusan dan kepercayaan yang lebih tinggi kepada pelabur.\\n\\nKeempat, sukuk syariah juga mempunyai mekanisme perlindungan pelabur yang kukuh. Sebagai contoh, dalam sukuk mudarabah, pelabur dan penerbit sukuk berkongsi keuntungan dan kerugian projek secara adil. Ini memberikan perlindungan kepada pelabur dari segi pulangan yang adil.\\n\\nSecara keseluruhan, sukuk syariah memberikan faedah tambahan seperti padanan dengan nilai agama, fleksibiliti pelaburan, ketelusan dan mekanisme perlindungan pelabur yang kukuh. Ini menjadikan sukuk syariah sebagai alternatif yang menarik kepada pelabur. Ada soalan lain yang boleh saya bantu?\\n<manusia>: Menarik sekali! Dalam hal ini, apakah jenis projek yang paling biasa dibangunkan melalui sukuk syariah?\\n<bot>: Sukuk syariah boleh digunakan untuk membiayai pelbagai jenis projek, terutamanya projek yang mempromosikan nilai syariah dan mengikut prinsip undang-undang Islam. Beberapa jenis projek biasa dibangunkan melalui sukuk syariah termasuk projek infrastruktur seperti pembinaan jalan raya, jambatan, lapangan terbang, atau projek tenaga seperti loji janakuasa solar atau angin.\\n\\nSelain itu, sukuk syariah juga digunakan untuk membiayai projek hartanah, seperti pembinaan perumahan atau bangunan komersial yang mematuhi prinsip syariah. Sektor perniagaan dan industri juga boleh memanfaatkan sukuk syariah untuk membiayai pengembangan perniagaan, pemerolehan atau pembelian aset.\\n\\nSecara umumnya, sukuk syariah boleh digunakan untuk membiayai projek dalam pelbagai sektor, asalkan ia mematuhi prinsip syariah. Ini mewujudkan peluang untuk pelabur dan penerbit sukuk untuk mengambil bahagian dalam projek yang bermanfaat dari segi sosial dan ekonomi, sambil mematuhi prinsip undang-undang Islam. Ada soalan lain yang boleh saya bantu?\\n<manusia>: Alah, seronoknya dengar tentang sukuk syariah ni! Ada lagi contoh projek menarik yang boleh dibiayai melalui sukuk syariah?\\n<bot>: Sudah tentu! Selain projek yang telah dinyatakan sebelum ini, terdapat beberapa contoh projek menarik lain yang boleh dibiayai melalui sukuk syariah. Contohnya, projek dalam sektor pelancongan seperti pembinaan hotel, resort atau tempat pelancongan yang mesra alam dan mengikut prinsip syariah.\\n\\nSelain itu, projek dalam sektor kesihatan seperti pembinaan hospital, pusat kesihatan atau projek farmasi yang mengutamakan perkhidmatan kesihatan berkualiti dan mengikut prinsip syariah juga boleh dibiayai melalui sukuk syariah.\\n\\nProjek dalam sektor pendidikan seperti pembinaan sekolah, kolej atau kemudahan pendidikan lain yang menyediakan akses pendidikan berkualiti dan mengikut prinsip syariah juga merupakan pilihan menarik untuk dibiayai melalui sukuk syariah.\\n\\nSelain itu, sukuk syariah juga boleh digunakan untuk membiayai projek dalam sektor pertanian, pengangkutan, teknologi hijau dan banyak lagi. Dalam prinsipnya, sukuk syariah boleh digunakan untuk menyokong projek yang memberi manfaat sosial, ekonomi dan mengikut prinsip syariah. Ada soalan lain yang boleh saya bantu?\\n<manusia>: Wah, seronoknya! Mungkin ada lagi contoh projek menarik yang boleh dibiayai melalui sukuk syariah?\\n<bot>: Sudah tentu! Terdapat banyak contoh projek menarik lain yang boleh dibiayai melalui sukuk syariah. Sebagai contoh, projek pembangunan infrastruktur mampan seperti rangkaian pengangkutan massa yang mesra alam, pembinaan projek tenaga boleh diperbaharui seperti loji janakuasa solar atau tenaga angin, atau projek rawatan sisa yang menyumbang kepada pemeliharaan alam sekitar.\\n\\nSelain itu, sukuk syariah juga boleh digunakan untuk membiayai projek pemulihan atau pembangunan semula kawasan yang terjejas akibat bencana alam, projek bekalan air bersih dan sanitasi di kawasan terpencil, atau pembangunan infrastruktur yang menyokong pembangunan kawasan luar bandar.\\n\\nDalam kes ini, sukuk syariah memberi peluang kepada pelabur untuk mengambil bahagian dalam projek yang memberi kesan positif dari segi sosial dan alam sekitar, serta memenuhi prinsip syariah. Ini mencerminkan konsep pelaburan yang bertanggungjawab dari perspektif Islam.\\n\\nJadi, sukuk syariah bukan sahaja memberi manfaat kewangan kepada pelabur, tetapi juga menyumbang kepada pembangunan mampan dan kesejahteraan masyarakat. Ada soalan lain yang boleh saya bantu?', 'output': None}\n",
      " 0 Faktor-faktor yang mempengaruhi populariti sukuk di pasaran dan menentukan minat pelabur terhadapnya adalah seperti berikut:\n",
      "1. Sesuai dengan prinsip syariah: Sukuk adalah instrumen kewangan yang mematuhi prinsip syariah Islam, yang menjadikannya menarik kepada pelabur yang mempunyai keperluan untuk melabur dalam aset syariah yang patuh.\n",
      "2. Keperluan pasaran: Adalah penting untuk mengenal pasti keperluan pasaran dan ekonomi untuk menghasilkan sukuk yang boleh memenuhi keperluan tersebut dan dipasarkan dengan baik. Ini termasuk mempertimbangkan faktor-faktor seperti aliran tunai dan permintaan pelaburan.\n",
      "3. Risiko pelaburan: Pelabur yang mempunyai lebihan kecairan mungkin mempunyai toleransi risiko pelaburan yang berbeza. Pelabur yang berminat dengan pendapatan tetap dan boleh meramalkan pulangan mereka mungkin lebih cenderung kepada sukuk yang berdasarkan prinsip muamalat berkongsi risiko dan keuntungan. Sebaliknya, pelabur yang lebih berhati-hati dan ingin mengekalkan modal mungkin lebih suka melabur dalam instrumen yang memberikan pulangan tetap, seperti bon konvensional.\n",
      "4. Persepsi pasaran: Masyarakat umum sering menganggap sukuk sebagai instrumen yang memberikan pulangan tetap dan mempunyai risiko yang rendah, yang menjadikan sukuk menarik kepada mereka yang mencari pelaburan yang stabil. Oleh itu, persepsi dan penilaian pelabur terhadap sukuk juga mempengaruhi popularitinya di pasaran.\n",
      "5. Peraturan dan undang-undang: Kepatuhan undang-undang dan peraturan berkaitan sukuk adalah penting dalam menentukan minat pelabur. Undang-undang dan peraturan yang jelas dan memberikan kepastian undang-undang akan memberi keyakinan kepada pelabur untuk melabur dalam sukuk.\n",
      "Jika anda memerlukan maklumat lanjut atau penjelasan yang lebih terperinci mengenai faktor-faktor ini atau jenis sukuk yang ada, sila beritahu saya. 1839 {'prompt_input': None, 'input': '<manusia>:                                                                                                                                                                                                                                                                                                                                                                                                                                                                                                                                                                                                                                                                                                                                                                                                                                                                                                                                                                                                                                                                                                                                                                                                                                                                                                                                                                                                                      \\n<bot>: Faktor-faktor yang mempengaruhi populariti sukuk di pasaran dan menentukan minat pelabur terhadapnya adalah seperti berikut:\\n1. Sesuai dengan prinsip syariah: Sukuk adalah instrumen kewangan yang mematuhi prinsip syariah Islam, yang menjadikannya menarik kepada pelabur yang mempunyai keperluan untuk melabur dalam aset syariah yang patuh.\\n2. Keperluan pasaran: Adalah penting untuk mengenal pasti keperluan pasaran dan ekonomi untuk menghasilkan sukuk yang boleh memenuhi keperluan tersebut dan dipasarkan dengan baik. Ini termasuk mempertimbangkan faktor-faktor seperti aliran tunai dan permintaan pelaburan.\\n3. Risiko pelaburan: Pelabur yang mempunyai lebihan kecairan mungkin mempunyai toleransi risiko pelaburan yang berbeza. Pelabur yang berminat dengan pendapatan tetap dan boleh meramalkan pulangan mereka mungkin lebih cenderung kepada sukuk yang berdasarkan prinsip muamalat berkongsi risiko dan keuntungan. Sebaliknya, pelabur yang lebih berhati-hati dan ingin mengekalkan modal mungkin lebih suka melabur dalam instrumen yang memberikan pulangan tetap, seperti bon konvensional.\\n4. Persepsi pasaran: Masyarakat umum sering menganggap sukuk sebagai instrumen yang memberikan pulangan tetap dan mempunyai risiko yang rendah, yang menjadikan sukuk menarik kepada mereka yang mencari pelaburan yang stabil. Oleh itu, persepsi dan penilaian pelabur terhadap sukuk juga mempengaruhi popularitinya di pasaran.\\n5. Peraturan dan undang-undang: Kepatuhan undang-undang dan peraturan berkaitan sukuk adalah penting dalam menentukan minat pelabur. Undang-undang dan peraturan yang jelas dan memberikan kepastian undang-undang akan memberi keyakinan kepada pelabur untuk melabur dalam sukuk.\\nJika anda memerlukan maklumat lanjut atau penjelasan yang lebih terperinci mengenai faktor-faktor ini atau jenis sukuk yang ada, sila beritahu saya.\\n<manusia>: Menarik! Saya ingin mengetahui lebih lanjut tentang jenis sukuk yang terdapat di pasaran dan bagaimana setiap jenis beroperasi. Bolehkah anda memberikan maklumat lanjut tentang perkara ini?\\n<bot>: Sudah tentu! Terdapat beberapa jenis sukuk yang tersedia di pasaran. Berikut adalah beberapa contoh:\\n\\n1. Sukuk Ijarah: Sukuk Ijarah melibatkan pemindahan hak milik aset kepada pemegang sukuk untuk tempoh masa tertentu. Pemegang sukuk akan menerima pendapatan dalam bentuk sewa yang dibayar oleh penyewa aset tersebut.\\n\\n2. Sukuk Wakalah: Sukuk Wakalah melibatkan pemindahan hak kepada pengurus aset yang ditetapkan untuk menguruskan aset tersebut dan menjana pendapatan. Pengurus aset akan mengendalikan aset tersebut dan memberikan sebahagian daripada pendapatan kepada pemegang sukuk.\\n\\n3. Sukuk Mudarabah: Sukuk Mudarabah melibatkan perjanjian antara pemilik modal (pemegang sukuk) dan pengurus modal, di mana pemegang sukuk menyediakan modal dan pengurus modal akan menguruskannya. Keuntungan akan dikongsi oleh kedua-dua pihak berdasarkan perjanjian sebelumnya.\\n\\n4. Sukuk Musharakah: Sukuk Musharakah melibatkan perkongsian antara pemegang sukuk dan penerbit sukuk. Pemegang sukuk akan menjadi rakan kongsi dalam aset atau projek tertentu dan akan berkongsi keuntungan dan risiko berdasarkan perjanjian.\\n\\n5. Sukuk Murabahah: Sukuk Murabahah melibatkan penjualan dan penjualan aset yang jelas dan sah antara penerbit sukuk dan pemegang sukuk. Penerbit akan membeli aset pada harga tertentu dan menjualnya kepada pemegang sukuk pada harga yang lebih tinggi untuk mendapatkan keuntungan.\\n\\nSetiap jenis sukuk mempunyai mekanisme operasi yang berbeza, bergantung kepada perjanjian dan peraturan yang digunakan. Jika anda ingin maklumat yang lebih terperinci tentang jenis sukuk ini atau memerlukan contoh lain, sila beritahu saya.\\n<manusia>: Terima kasih, saya berminat dengan sukuk mudarabah. Bolehkah saya tahu contoh projek yang menggunakan sukuk ini?\\n<bot>: Sudah tentu! Contoh projek yang menggunakan sukuk mudarabah ialah projek pembangunan hartanah. Dalam projek ini, penerbit sukuk akan menjadi pemilik modal dan memasukkan dana mereka ke dalam projek pembangunan hartanah. Pengurus modal, seperti pemaju atau pemaju hartanah, akan menguruskan projek pembangunan hartanah dengan menggunakan dana daripada penerbit sukuk.\\n\\nKeuntungan yang diperoleh daripada projek, seperti daripada jualan unit hartanah, sewa atau pendapatan lain, akan dikongsi secara adil antara penerbit sukuk (pemilik modal) dan pengurus modal (pembina atau pemaju hartanah). Pembahagian keuntungan biasanya telah ditentukan dalam perjanjian sukuk mudarabah sebelum ini.\\n\\nIni adalah contoh bagaimana sukuk mudarabah digunakan dalam projek pembangunan hartanah, tetapi perlu diingat bahawa sukuk mudarabah juga boleh digunakan dalam pelbagai jenis projek lain, termasuk pengurusan dana pelaburan, industri perkapalan dan sektor pembangunan infrastruktur.\\n\\nJika anda memerlukan maklumat lanjut tentang sukuk mudarabah atau contoh projek lain yang menggunakan sukuk mudarabah, sila beritahu saya.\\n<manusia>: Bagaimana proses pemilihan projek dalam sukuk mudarabah ini? Adakah terdapat kriteria khas atau setiap projek boleh dipertimbangkan?\\n<bot>: Dalam sukuk mudarabah, proses pemilihan projek biasanya berbeza bergantung kepada pihak yang menerbitkan sukuk dan perjanjian yang ditetapkan antara pemegang sukuk dan pengurus modal. Terdapat beberapa faktor yang biasanya dipertimbangkan dalam pemilihan projek, termasuk:\\n\\n1. Sesuai dengan prinsip syariah: Projek yang dipilih harus mematuhi prinsip syariah dalam Islam. Projek tersebut tidak boleh melibatkan aktiviti haram atau bercanggah dengan prinsip moral dan etika Islam.\\n\\n2. Potensi keuntungan: Projek yang dipilih harus mempunyai potensi untuk menghasilkan keuntungan yang wajar. Potensi keuntungan ini akan menjadi sumber pendapatan yang akan dikongsi antara pemegang sukuk dan pengurus modal.\\n\\n3. Risiko projek: Risiko projek perlu dinilai dengan teliti. Projek yang mempunyai risiko yang sangat tinggi mungkin tidak akan menarik bagi pemegang sukuk, kerana mereka ingin melabur dengan risiko yang terkawal.\\n\\n4. Kredibiliti pengurus modal: Pengurus modal yang berpengalaman dan mempunyai rekod prestasi yang baik boleh memberi keyakinan kepada pemegang sukuk. Jika pengurus modal mempunyai rekod prestasi yang baik dalam mengurus projek serupa sebelum ini, ia akan menjadi faktor positif dalam pemilihan projek.\\n\\nSelain faktor-faktor ini, pemilihan projek juga bergantung kepada keperluan dan matlamat pelabur. Setiap projek biasanya dinilai dan disyaratkan oleh pihak yang menerbitkan sukuk mengikut peraturan dan perundangan yang berkenaan.\\n\\nWalau bagaimanapun, setiap urusniaga sukuk dan pemilihan projek perlu mematuhi panduan dan fatwa yang dikeluarkan oleh badan pengawasan syariah yang berkenaan. Ini memastikan bahawa setiap projek yang dipilih mematuhi prinsip syariah dan memenuhi kriteria yang ditetapkan.\\n\\nJika anda memerlukan maklumat lanjut mengenai proses pemilihan projek dalam sukuk mudarabah atau terdapat kriteria khusus yang ditetapkan dalam sesuatu perjanjian sukuk, sila beritahu saya.\\n<manusia>: Terima kasih atas maklumat yang diberikan! Saya berminat untuk mengetahui lebih lanjut tentang sukuk mudarabah. Bolehkah anda memberitahu saya tentang pelaburan minimum yang diperlukan untuk melabur dalam sukuk ini?\\n<bot>: Pelaburan minimum yang diperlukan untuk melabur dalam sukuk mudarabah tidak ditetapkan secara umum, kerana ia bergantung kepada keperluan dan persetujuan yang ditetapkan dalam perjanjian sukuk mudarabah itu sendiri. Biasanya, terdapat jumlah minimum yang diperlukan untuk menyertai sukuk mudarabah tertentu.\\n\\nJumlah pelaburan minimum boleh berbeza-beza bergantung kepada saiz projek dan operasi yang dijalankan. Penerbit sukuk dan pengurus modal akan menentukan jumlah minimum yang diperlukan untuk memastikan pelabur yang menyertai projek tersebut memberikan sumbangan yang mencukupi untuk kelancaran dan kejayaan projek.\\n\\nAdalah penting untuk mengkaji prospektus atau dokumen sukuk yang berkaitan untuk mendapatkan maklumat lanjut mengenai pelaburan minimum yang diperlukan dalam sukuk mudarabah yang spesifik. Dokumen tersebut akan memberikan butiran yang tepat mengenai keperluan pelaburan dan mekanisme penyertaan dalam sukuk tersebut.\\n\\nJika anda mempertimbangkan untuk melabur dalam sukuk mudarabah tertentu, adalah penting untuk berunding dengan penasihat kewangan berpengalaman atau institusi kewangan yang berkaitan untuk memahami keperluan pelaburan minimum dan mendapatkan nasihat yang sesuai sebelum membuat keputusan pelaburan.\\n\\nJika anda mempunyai soalan lain atau memerlukan penjelasan lanjut tentang sukuk mudarabah, jangan ragu untuk menyatakan. Saya sedia membantu!\\n<manusia>: Berapa lama sukuk mudarabah biasanya berlangsung sebelum pemegang sukuk mendapat pulangan?\\n<bot>: Tempoh pengeluaran sukuk mudarabah dan pulangan pulangan kepada pemegang sukuk bergantung kepada perjanjian yang ditetapkan antara penerbit sukuk dan pemegang sukuk. Biasanya, tempoh masa sukuk mudarabah adalah antara 3 hingga 7 tahun.\\n\\nTempoh ini dipilih berdasarkan sifat dan tempoh projek yang dijalankan. Projek yang lebih besar atau kompleks mungkin memerlukan tempoh masa yang lebih lama untuk mencapai keuntungan yang mencukupi untuk dikongsi dengan pemegang sukuk.\\n\\nSelepas tamat tempoh sukuk mudarabah, pemegang sukuk biasanya akan menerima pulangan modal dan keuntungan perkongsian yang telah ditentukan dalam perjanjian. Walau bagaimanapun, adalah penting untuk mengkaji prospektus atau dokumen perjanjian sukuk mudarabah tertentu untuk mendapatkan butiran yang tepat mengenai tempoh pelaburan dan proses pulangan pulangan.\\n\\nJika terdapat keperluan khusus mengenai tempoh atau tempoh masa pelaburan sukuk mudarabah, adalah disyorkan untuk berunding dengan penerbit sukuk atau penasihat kewangan yang berkaitan. Mereka akan dapat memberikan nasihat lanjut dan penjelasan mengenai tempoh yang dijangka dan bagaimana proses pulangan pulangan dijalankan.\\n\\nJika anda mempunyai soalan atau keperluan lain mengenai sukuk mudarabah, sila beritahu saya. Saya sedia membantu!', 'output': None}\n",
      " 0 Tidak, tidak semua jenis sukuk mewakili pelanggaran undang-undang syariah. Struktur dan mekanisme sukuk yang digunakan dalam bentuk mudharabah dan musharakah tidak melanggar prinsip syariah. Walau bagaimanapun, perlu diperhatikan bahawa ini mesti disahkan oleh pihak berkuasa syariah yang kompeten sebelum diterbitkan. 318 {'prompt_input': None, 'input': '<manusia>:          \\n<bot>: Tidak, tidak semua jenis sukuk mewakili pelanggaran undang-undang syariah. Struktur dan mekanisme sukuk yang digunakan dalam bentuk mudharabah dan musharakah tidak melanggar prinsip syariah. Walau bagaimanapun, perlu diperhatikan bahawa ini mesti disahkan oleh pihak berkuasa syariah yang kompeten sebelum diterbitkan.\\n<manusia>: Ya, sekarang saya ingin tahu bagaimana sukuk mudharabah dan musharakah ini dapat memberi manfaat kepada pelabur?\\n<bot>: Sukuk mudharabah dan musharakah boleh memberi manfaat kepada pelabur kerana mereka boleh mengambil bahagian dalam bahagian keuntungan projek atau perniagaan yang dibiayai oleh sukuk. Pelabur juga boleh merasakan keuntungan komersial yang adil dan boleh memperoleh pendapatan tetap daripada pelaburan mereka. Selain itu, sukuk ini juga mengikut prinsip berkongsi risiko, di mana pelabur bukan sahaja menjadi pemiutang, tetapi juga mempunyai bahagian dalam pemilikan aset. Ini memberikan kepastian undang-undang dan ketelusan dalam pelaburan, supaya ia dapat mengukuhkan keyakinan pelabur.\\n<manusia>: Menarik! Saya ingin tahu apakah risiko yang mungkin dihadapi oleh pelabur dalam sukuk ini.\\n<bot>: Terdapat beberapa risiko yang mungkin dihadapi oleh pelabur dalam sukuk mudharabah dan musharakah. Pertama, risiko perniagaan, di mana prestasi projek atau perniagaan yang dibiayai oleh sukuk mungkin tidak sesuai dengan jangkaan, mengakibatkan pengurangan atau kehilangan pendapatan kepada pelabur. Kedua, risiko kecairan, di mana pelabur mungkin sukar untuk menjual sukuk mereka dengan cepat jika terdapat keperluan mendesak untuk tunai. Ketiga, risiko pasaran, di mana turun naik pasaran dan perubahan keadaan ekonomi boleh menjejaskan nilai sukuk. Akhir sekali, risiko reputasi, di mana jika berlaku masalah atau skandal yang melibatkan penerbit sukuk, ia boleh menjejaskan imej dan kepercayaan pelabur terhadap sukuk. Adalah penting bagi pelabur untuk memahami risiko ini dan melakukan analisis teliti sebelum melabur dalam sukuk mudharabah dan musharakah.\\n<manusia>: Menarik! Bagaimana untuk melindungi diri daripada risiko ini?\\n<bot>: Untuk melindungi diri daripada risiko dalam sukuk mudharabah dan musharakah, terdapat beberapa langkah yang boleh diambil oleh pelabur. Pertama, lakukan analisis menyeluruh terhadap penerbit sukuk, termasuk reputasi dan prestasi perniagaan mereka. Kedua, mempelbagaikan portfolio pelaburan anda dengan melabur dalam pelbagai jenis sukuk dan sektor yang berbeza supaya risiko boleh tersebar. Ketiga, perhatikan tempoh pelaburan, kerana semakin lama tempoh pelaburan, semakin tinggi risiko yang mungkin dihadapi. Keempat, ikuti perkembangan pasaran dan ekonomi secara aktif untuk dapat bertindak balas dengan cepat terhadap perubahan yang boleh menjejaskan nilai sukuk. Akhir sekali, berunding dengan pakar kewangan atau syariah yang berpengalaman untuk mendapatkan nasihat yang betul sebelum membuat pelaburan.\\n<manusia>: Terima kasih atas penjelasan! Saya ingin mengetahui lebih lanjut tentang jenis sukuk lain yang tersedia. Apakah jenis sukuk yang paling biasa?\\n<bot>: Beberapa jenis sukuk yang paling biasa ialah:\\n\\n1. Sukuk Ijarah: Sukuk ini berdasarkan prinsip sewa dan digunakan untuk pembiayaan aset seperti hartanah atau kemudahan infrastruktur. Pelabur menerima pembayaran sewa sebagai keuntungan.\\n\\n2. Sukuk Wakalah: Sukuk ini melibatkan pemberian wakalah (ketua dana) kepada penerbit sukuk untuk menguruskan dana secara syariah. Keuntungan pelabur diperoleh daripada keuntungan pelaburan yang diuruskan dengan baik.\\n\\n3. Sukuk Murabahah: Sukuk ini berdasarkan prinsip jual beli dan digunakan untuk membiayai pembelian aset atau barangan tertentu. Pelabur menerima keuntungan daripada marjin yang dihasilkan daripada transaksi jual beli yang dilakukan oleh penerbit sukuk.\\n\\n4. Sukuk Musharakah: Sukuk ini melibatkan kerjasama antara pelabur dan penerbit sukuk dalam projek atau perniagaan. Keuntungan dan risiko dibahagikan mengikut perkadaran pemilikan.\\n\\n5. Sukuk Mudarabah: Sukuk ini melibatkan pelaburan oleh pelabur sebagai pemilik modal dan penerbit sukuk sebagai pengurus dana (mudarib). Keuntungan dan risiko dibahagikan mengikut perjanjian sebelumnya.\\n\\nSila ambil perhatian bahawa terdapat pelbagai jenis sukuk lain yang tersedia, dan setiap jenis mempunyai ciri dan prinsip yang berbeza. Adalah penting untuk melakukan penyelidikan dan perundingan yang betul sebelum memilih jenis sukuk yang sesuai dengan tujuan pelaburan anda.\\n<manusia>: Menariknya! Saya ingin tahu sama ada prestasi sukuk-sukuk ini dipengaruhi oleh keadaan ekonomi global, seperti krisis kewangan atau kadar faedah yang tinggi.\\n<bot>: Ya, prestasi sukuk boleh dipengaruhi oleh keadaan ekonomi global dan faktor luaran seperti krisis kewangan atau kadar faedah yang tinggi. Apabila berlaku ketidakstabilan ekonomi global, pelabur cenderung untuk lebih berhati-hati dalam membuat pelaburan, termasuk dalam sukuk. Ini boleh menyebabkan penurunan permintaan dan penurunan nilai sukuk.\\n\\nSelain itu, kadar faedah juga memberi kesan kepada prestasi sukuk. Jika kadar faedah meningkat, ini boleh mengurangkan tarikan sukuk yang memberikan pendapatan tetap kepada pelabur. Sebaliknya, jika kadar faedah menurun, ini biasanya meningkatkan minat pelabur terhadap sukuk yang memberikan kadar pulangan yang lebih tinggi daripada instrumen kewangan lain.\\n\\nOleh itu, adalah penting untuk mengambil kira keadaan ekonomi dan kadar faedah apabila mempertimbangkan pelaburan dalam sukuk. Analisis dan pemantauan teliti diperlukan untuk memahami kesannya terhadap prestasi sukuk dan membuat keputusan pelaburan yang bijak.', 'output': None}\n",
      " 0 Perbezaan utama antara sukuk dan bon konvensional adalah seperti berikut:\n",
      "\n",
      "1. Sumber Pembayaran: Sukuk direka untuk mematuhi syariah dan berdasarkan aset sebenar, seperti harta benda, faedah atau perkhidmatan. Bon konvensional, sebaliknya, berdasarkan janji pembayaran oleh peminjam.\n",
      "\n",
      "2. Hak Pemilikan: Pemegang sukuk mempunyai hak pemilikan sebenar terhadap aset yang mendasarinya, manakala pemegang bon konvensional adalah penerima janji pembayaran balik daripada peminjam.\n",
      "\n",
      "3. Keuntungan dan Pulangan: Dalam sukuk, pulangan dibayar berdasarkan pendapatan yang dihasilkan daripada aset yang mendasarinya. Sementara itu, bon konvensional memberikan faedah yang tetap.\n",
      "\n",
      "4. Penilaian Risiko: Sukuk mengalami penilaian risiko melalui proses penentuan harga aset yang mendasarinya. Bon konvensional, sebaliknya, mengalami penilaian risiko melalui proses penentuan kredit peminjam.\n",
      "\n",
      "5. Pengawasan Syariah: Sukuk mesti mematuhi prinsip syariah dan diawasi oleh badan pengawas syariah. Bon konvensional tidak mempunyai keperluan khusus dalam hal ini.\n",
      "\n",
      "Jadi, perbezaan ini membuktikan bahawa sukuk adalah instrumen pelaburan yang sesuai dengan prinsip syariah, manakala bon konvensional mungkin tidak memenuhi syarat ini. 1214 {'prompt_input': None, 'input': '<manusia>:        \\n<bot>: Perbezaan utama antara sukuk dan bon konvensional adalah seperti berikut:\\n\\n1. Sumber Pembayaran: Sukuk direka untuk mematuhi syariah dan berdasarkan aset sebenar, seperti harta benda, faedah atau perkhidmatan. Bon konvensional, sebaliknya, berdasarkan janji pembayaran oleh peminjam.\\n\\n2. Hak Pemilikan: Pemegang sukuk mempunyai hak pemilikan sebenar terhadap aset yang mendasarinya, manakala pemegang bon konvensional adalah penerima janji pembayaran balik daripada peminjam.\\n\\n3. Keuntungan dan Pulangan: Dalam sukuk, pulangan dibayar berdasarkan pendapatan yang dihasilkan daripada aset yang mendasarinya. Sementara itu, bon konvensional memberikan faedah yang tetap.\\n\\n4. Penilaian Risiko: Sukuk mengalami penilaian risiko melalui proses penentuan harga aset yang mendasarinya. Bon konvensional, sebaliknya, mengalami penilaian risiko melalui proses penentuan kredit peminjam.\\n\\n5. Pengawasan Syariah: Sukuk mesti mematuhi prinsip syariah dan diawasi oleh badan pengawas syariah. Bon konvensional tidak mempunyai keperluan khusus dalam hal ini.\\n\\nJadi, perbezaan ini membuktikan bahawa sukuk adalah instrumen pelaburan yang sesuai dengan prinsip syariah, manakala bon konvensional mungkin tidak memenuhi syarat ini.\\n<manusia>: Berdasarkan maklumat ini, saya ingin mengetahui lebih lanjut tentang cara sukuk boleh memberi manfaat kepada pemegangnya. Bolehkah anda menerangkan dengan lebih terperinci?\\n<bot>: Sudah tentu, sukuk memberi keuntungan kepada pemegangnya melalui dua cara utama: pendapatan dan pertumbuhan harga.\\n\\nPertama, pemegang sukuk akan menerima pendapatan daripada aset yang mendasari sukuk. Pendapatan ini biasanya dalam bentuk dividen, sewa atau keuntungan perniagaan yang dihasilkan daripada aset tersebut. Sebagai contoh, jika sukuk diterbitkan dengan aset hartanah, pendapatan yang diperoleh pemegang sukuk akan datang daripada sewa hartanah tersebut.\\n\\nKedua, sukuk juga boleh memberi keuntungan melalui pertumbuhan harga. Ini berlaku apabila permintaan terhadap sukuk meningkat dan ada pemegang sukuk yang sanggup membeli sukuk pada harga yang lebih tinggi daripada harga pelaksanaan. Dalam kes ini, jika pemegang sukuk memutuskan untuk menjual sukuk sebelum ia jatuh tempo, mereka boleh menjana keuntungan daripada perbezaan harga jualan dan harga belian.\\n\\nWalau bagaimanapun, adalah penting untuk diingat bahawa keuntungan dalam sukuk tidak dijamin, dan hasil pelaburan boleh berbeza-beza bergantung pada prestasi aset yang mendasarinya dan keadaan pasaran. Sebagai pelabur, anda juga perlu mempertimbangkan risiko yang berkaitan dengan pelaburan sukuk sebelum membuat keputusan.\\n<manusia>: Menarik! Bagaimanakah saya boleh memulakan pelaburan dalam sukuk? Adakah terdapat had jumlah wang yang saya perlukan untuk memulakan?\\n<bot>: Untuk memulakan pelaburan dalam sukuk, anda perlu mengikuti langkah-langkah berikut:\\n\\n1. Mencari institusi kewangan yang menyediakan perkhidmatan pelaburan dalam sukuk. Anda boleh mencari maklumat melalui bank, institusi kewangan Islam atau broker saham yang menawarkan produk sukuk.\\n\\n2. Bercakap dengan pegawai perbankan atau perunding pelaburan untuk mendapatkan maklumat lanjut tentang jenis sukuk yang tersedia, potensi keuntungan dan risiko yang berkaitan.\\n\\n3. Tentukan jumlah wang yang anda ingin pelaburkan dalam sukuk. Tiada had jumlah wang yang diperlukan untuk memulakan, tetapi setiap sukuk mempunyai denominasi umum yang mungkin perlu dipenuhi.\\n\\n4. Baca dan fahami dokumen prospektus atau memorandum pemahaman sukuk. Dokumen ini akan memberikan semua maklumat yang anda perlukan berkaitan dengan sukuk yang anda ingin pelaburkan, termasuk struktur, syarat dan prosedur untuk membeli atau menjual sukuk.\\n\\n5. Setelah anda memahami maklumat yang diberikan, anda boleh menandatangani kontrak dan melengkapkan proses pentadbiran yang diperlukan untuk memulakan pelaburan dalam sukuk.\\n\\nSentiasa ingat bahawa setiap pelaburan mempunyai risiko, termasuk sukuk. Oleh itu, pastikan anda memahami risiko yang berkaitan dengan pelaburan ini dan berunding dengan pakar kewangan sebelum membuat keputusan pelaburan.\\n<manusia>: Baguslah, nampaknya pelaburan dalam sukuk adalah pilihan yang menarik. Saya akan mula mencari maklumat lanjut dan bercakap dengan perunding kewangan. Semoga berjaya!\\n<bot>: Itu keputusan yang baik! Semoga pencarian anda untuk maklumat lanjut mengenai sukuk dan berbincang dengan perunding kewangan yang berjaya. Jika anda mempunyai soalan lanjut pada masa hadapan, jangan teragak-agak untuk bertanya. Semoga pelaburan anda berjalan lancar dan menguntungkan!\\n<manusia>: Terima kasih! Saya berharap dapat memperoleh pemahaman yang lebih baik tentang dunia pelaburan sukuk. Jika ada perkembangan baharu, saya akan meneruskan perbualan ini dengan segera.\\n<bot>: Terima kasih! Saya gembira dapat membantu anda dalam mendapatkan pemahaman tentang pelaburan dalam sukuk. Jangan teragak-agak untuk meneruskan perbualan ini jika terdapat perkembangan baru atau jika anda mempunyai soalan tambahan pada masa hadapan. Saya akan bersedia untuk membantu anda. Semoga berjaya dalam perjalanan pelaburan anda!\\n<manusia>: Ok, terima kasih atas bantuan anda! Saya akan mencari maklumat lanjut dan bercakap dengan perunding kewangan. Semoga semuanya berjalan lancar.\\n<bot>: Sama-sama! Senang dapat membantu anda. Semoga pencarian maklumat dan perbualan dengan perunding kewangan berjalan lancar dan memberi anda pemahaman yang lebih baik tentang pelaburan sukuk. Jika ada soalan lain, jangan teragak-agak untuk bertanya. Semoga berjaya dalam pelan pelaburan anda!', 'output': None}\n",
      " 0 Menurut Dr. Al-Qari, pemberian pinjaman kepada pemegang sukuk dalam konteks sukuk mudarabah dan sukuk musharakah boleh dilakukan asalkan jumlah yang dikemukakan perlu dikembalikan pada masa yang sesuai. Walau bagaimanapun, jika amalan ini berlaku dalam konteks kontrak penyertaan dan spekulasi yang tidak menjamin sebarang keuntungan, maka janji dan kewajipan pembayaran yang dikemukakan daripada penerbit boleh dianggap sebagai helah untuk mencapai hasil yang dilarang secara langsung. Oleh itu, tidak dibenarkan bagi pengarah kewangan Islam atau wakil pelaburan untuk mengikat diri dengan memberi pinjaman kepada pemegang sukuk apabila terdapat defisit dalam keuntungan yang diharapkan. Ini telah diharamkan oleh Majlis Syariah AAOIFI dalam Fatwa No. 4. 755 {'prompt_input': None, 'input': '<manusia>:                                                                                                                                                                                                                                                                                                                                                                                                                                                                                                                                                                                                                                                                                                                                                                                                                                                                                                                                                                                                                                                                                                                                                                                                                                                                                                                                                                                                                      \\n<bot>: Menurut Dr. Al-Qari, pemberian pinjaman kepada pemegang sukuk dalam konteks sukuk mudarabah dan sukuk musharakah boleh dilakukan asalkan jumlah yang dikemukakan perlu dikembalikan pada masa yang sesuai. Walau bagaimanapun, jika amalan ini berlaku dalam konteks kontrak penyertaan dan spekulasi yang tidak menjamin sebarang keuntungan, maka janji dan kewajipan pembayaran yang dikemukakan daripada penerbit boleh dianggap sebagai helah untuk mencapai hasil yang dilarang secara langsung. Oleh itu, tidak dibenarkan bagi pengarah kewangan Islam atau wakil pelaburan untuk mengikat diri dengan memberi pinjaman kepada pemegang sukuk apabila terdapat defisit dalam keuntungan yang diharapkan. Ini telah diharamkan oleh Majlis Syariah AAOIFI dalam Fatwa No. 4.\\n<manusia>: Hmm, jadi berdasarkan fatwa itu, nampaknya tidak dibenarkan bagi pengarah kewangan untuk memberi pinjaman kepada pemegang sukuk jika terdapat defisit keuntungan. Tetapi adakah cara lain yang boleh dilakukan untuk menangani situasi ini?\\n<bot>: Ya, terdapat beberapa alternatif yang boleh dilakukan untuk menangani situasi di mana terdapat defisit keuntungan dalam sukuk. Salah satunya ialah mengadakan rundingan semula antara penerbit sukuk dan pemegang sukuk untuk membuat perjanjian yang menguntungkan kedua-dua pihak. Sebagai contoh, penerbit sukuk boleh menawarkan pampasan tambahan kepada pemegang sukuk sebagai balasan kepada defisit keuntungan yang berlaku. Selain itu, penerbit sukuk juga boleh mencari sumber keuntungan tambahan daripada sumber lain untuk menampung defisit tersebut. Perlu diingatkan bahawa keputusan muktamad mengenai cara menangani situasi ini mestilah sentiasa berdasarkan panduan fatwa dan nasihat pihak berkuasa kewangan Islam yang kompeten.\\n<manusia>: Ok, jadi saya maksudkan saya boleh cuba berunding dengan penerbit sukuk untuk mencari penyelesaian yang menguntungkan kedua-dua pihak. Terima kasih atas input!\\n<bot>: Ya, betul. Anda boleh cuba berunding dengan penerbit sukuk untuk mencari penyelesaian yang menguntungkan kedua-dua pihak. Jika terdapat defisit keuntungan, mungkin ada ruang untuk mencapai perjanjian yang akan memberi ganjaran atau pampasan tambahan kepada pemegang sukuk. Selain itu, anda juga boleh berunding dengan pakar kewangan Islam atau pihak berkuasa lain untuk mendapatkan panduan lanjut dalam menangani situasi ini. Semoga berjaya dalam mencari penyelesaian terbaik untuk masalah anda!', 'output': None}\n",
      " 0 Kepentingan syor untuk pemegang bon menunjukkan dan membuktikan pemilikan aset sumber adalah untuk memastikan kesahihan dan kepercayaan dalam struktur sukuk. Oleh itu, jika ini dapat ditunjukkan dan dibuktikan, permintaan syor pertama akan dianggap sah. Menentang struktur pemilikan yang jelas dan terbuka adalah sangat penting dalam sukuk, terutamanya dari segi tuntutan aset yang menjadi asas untuk pengeluaran sukuk. Oleh itu, syor ini memberi perhatian bahawa pemilik sukuk bukan sahaja perlu menunjukkan pemilikan aset, tetapi juga membawa hak dan tanggungjawab yang melekat padanya. Tambahan pula, peraturan undang-undang dan peraturan yang terpakai di negara yang berkaitan akan menentukan bentuk pemilikan sebenar. Semakin jelas dan kukuh bukti pemilikan, semakin sah dan kuat kedudukan pemegang sukuk. 810 {'prompt_input': None, 'input': '<manusia>:                                                                                                                                                                                                                                                                                                                                                                                                                                                                                                                                                                                                                                                                                                                                                                                                                                                                                                                                                                                                                                                                                                                                                                                                                                                                                                                                                                                                                      \\n<bot>: Kepentingan syor untuk pemegang bon menunjukkan dan membuktikan pemilikan aset sumber adalah untuk memastikan kesahihan dan kepercayaan dalam struktur sukuk. Oleh itu, jika ini dapat ditunjukkan dan dibuktikan, permintaan syor pertama akan dianggap sah. Menentang struktur pemilikan yang jelas dan terbuka adalah sangat penting dalam sukuk, terutamanya dari segi tuntutan aset yang menjadi asas untuk pengeluaran sukuk. Oleh itu, syor ini memberi perhatian bahawa pemilik sukuk bukan sahaja perlu menunjukkan pemilikan aset, tetapi juga membawa hak dan tanggungjawab yang melekat padanya. Tambahan pula, peraturan undang-undang dan peraturan yang terpakai di negara yang berkaitan akan menentukan bentuk pemilikan sebenar. Semakin jelas dan kukuh bukti pemilikan, semakin sah dan kuat kedudukan pemegang sukuk.\\n<manusia>: Cadangan itu bagus. Tetapi apakah yang perlu dilakukan jika terdapat kesukaran untuk membuktikan pemilikan aset? Adakah terdapat langkah khas yang perlu dilakukan?\\n<bot>: Jika terdapat kesukaran untuk membuktikan pemilikan aset dalam penerbitan sukuk, terdapat beberapa langkah yang boleh diambil. Pertama, pemegang sukuk boleh menghubungi pihak yang menerbitkan sukuk untuk mendapatkan maklumat lanjut atau penjelasan mengenai pemilikan aset. Jika tiada penyelesaian ditemui, pemegang sukuk boleh mendapatkan bantuan dan nasihat daripada pakar undang-undang atau profesional kewangan yang mempunyai pengetahuan khusus tentang sukuk dan peraturan yang berkuat kuasa. Mereka boleh memberikan panduan yang tepat tentang langkah yang perlu diambil seterusnya, termasuk kemungkinan penyelesaian melalui proses undang-undang atau rundingan dengan penerbit atau penjamin sukuk. Adalah penting untuk melakukan usaha maksimum dalam membuktikan pemilikan aset supaya kepentingan dan hak pemegang sukuk dapat dilindungi dengan baik.\\n<manusia>: Bagaimana jika pemegang sukuk tidak dapat membuktikan pemilikan aset tersebut? Bolehkah mereka meminta pampasan daripada penerbit?\\n<bot>: Jika pemegang sukuk tidak dapat membuktikan pemilikan aset dalam penerbitan sukuk, kemungkinan mereka boleh memfailkan tuntutan ganti rugi kepada penerbit. Walau bagaimanapun, ini akan bergantung kepada peraturan undang-undang dan keperluan sukuk yang terpakai. Pemegang sukuk mesti berunding dengan pakar undang-undang atau profesional kewangan yang berpengalaman dalam sukuk untuk mendapatkan nasihat yang lebih khusus tentang situasi mereka. Tentukan sama ada pemegang sukuk berhak mendapat pampasan dan proses apa yang perlu diikuti untuk memfailkan tuntutan akan melibatkan analisis lanjut terhadap dokumen sukuk, perjanjian antara pemegang sukuk dan penerbit, serta undang-undang yang mengawal sukuk. Oleh itu, dalam kes seperti ini, adalah penting untuk mendapatkan nasihat profesional yang kompeten untuk memahami hak dan liabiliti yang berkaitan dengan situasi tersebut.', 'output': None}\n",
      " 0 Berdasarkan kenyataan daripada Agensi Subjek dan Piawaian Perakaunan Kewangan Syariah (AAIOFI) 2008, dinyatakan bahawa tidak dibenarkan bagi pihak yang mengambil bahagian, mahramah, atau ejen pelaburan untuk berjanji membeli aset daripada pemegang sukuk atau pihak yang mewakili mereka dengan nilai nominal semasa tempoh sukuk. Walau bagaimanapun, mereka boleh berjanji untuk membeli dengan asas nilai bersih aset, nilai pasaran, nilai adil, atau dengan harga yang dipersetujui semasa pembelian.\n",
      "\n",
      "Kenyataan ini telah menjejaskan pasaran sukuk dan pelaku pasaran yang terlibat. Kenyataan ini memberi tumpuan kepada sukuk mudharabah dan sukuk musharakah, dan telah menjadi titik perhatian yang ketara dalam penggubalan dan penggunaan sukuk ini. Oleh itu, dalam pendedahan ringkas ini, kami akan cuba menggali lebih mendalam tentang cabaran dan peluang pada masa hadapan berkaitan dengan pembangunan sukuk.\n",
      "\n",
      "Adakah sukuk mudharabah dan sukuk musharakah boleh mencapai struktur pendapatan tetap? 991 {'prompt_input': None, 'input': '<manusia>:          \\n<bot>: Berdasarkan kenyataan daripada Agensi Subjek dan Piawaian Perakaunan Kewangan Syariah (AAIOFI) 2008, dinyatakan bahawa tidak dibenarkan bagi pihak yang mengambil bahagian, mahramah, atau ejen pelaburan untuk berjanji membeli aset daripada pemegang sukuk atau pihak yang mewakili mereka dengan nilai nominal semasa tempoh sukuk. Walau bagaimanapun, mereka boleh berjanji untuk membeli dengan asas nilai bersih aset, nilai pasaran, nilai adil, atau dengan harga yang dipersetujui semasa pembelian.\\n\\nKenyataan ini telah menjejaskan pasaran sukuk dan pelaku pasaran yang terlibat. Kenyataan ini memberi tumpuan kepada sukuk mudharabah dan sukuk musharakah, dan telah menjadi titik perhatian yang ketara dalam penggubalan dan penggunaan sukuk ini. Oleh itu, dalam pendedahan ringkas ini, kami akan cuba menggali lebih mendalam tentang cabaran dan peluang pada masa hadapan berkaitan dengan pembangunan sukuk.\\n\\nAdakah sukuk mudharabah dan sukuk musharakah boleh mencapai struktur pendapatan tetap?\\n<manusia>: Adakah benar bahawa sukuk mudharabah dan sukuk musharakah boleh menjadi pendapatan tetap? Bolehkah anda memberikan sedikit butiran?\\n<bot>: Sukuk mudharabah dan sukuk musharakah pada asasnya tidak boleh dianggap sebagai pendapatan tetap dalam erti kata yang sama dengan bon biasa. Ini disebabkan kerana sukuk adalah berdasarkan prinsip syariah yang mengawal kerjasama dan penyertaan dalam keuntungan dan kerugian.\\n\\nDalam sukuk mudharabah, terdapat kerjasama antara pemilik sukuk dan pihak mudharib (rakan usaha) dalam aktiviti perniagaan atau projek tertentu. Keuntungan yang dihasilkan kemudiannya dibahagikan mengikut perjanjian, tetapi tiada jaminan pendapatan tetap. Pemilik sukuk memainkan peranan sebagai pemodal dan menerima bahagian keuntungan mengikut perjanjian.\\n\\nSementara itu, sukuk musharakah adalah sukuk yang berdasarkan prinsip kerjasama antara pemilik sukuk dan pihak lain dalam sesuatu perniagaan atau projek. Keuntungan dan kerugian dibahagikan mengikut perjanjian, tetapi tiada jaminan pendapatan tetap.\\n\\nJadi, dalam sukuk mudharabah dan sukuk musharakah, pendapatan yang diperoleh berbeza-beza bergantung kepada prestasi projek atau perniagaan yang dibiayai oleh sukuk. Oleh itu, pendapatan sukuk ini tidak boleh dianggap sebagai pendapatan tetap seperti bon tradisional.\\n<manusia>: Adakah terdapat alternatif pelaburan yang boleh memberikan pendapatan tetap dengan risiko yang lebih terkawal?\\n<bot>: Ya, terdapat beberapa pelaburan alternatif yang boleh memberikan pendapatan tetap dengan risiko yang lebih terkawal. Berikut adalah beberapa contoh:\\n\\n1. Bon korporat: Bon korporat ialah instrumen hutang yang diterbitkan oleh syarikat. Pelabur membeli bon dan menerima pembayaran faedah secara berkala serta pulangan modal pada masa tarikh akhir. Risiko boleh diuruskan dengan melakukan penyelidikan terhadap nilai kredit syarikat yang menerbitkan bon.\\n\\n2. Deposit berjangka: Deposit berjangka ialah simpanan di bank dengan tempoh masa tertentu dan kadar faedah tetap. Pelabur akan menerima pendapatan tetap daripada faedah deposit. Risiko berkaitan dengan keselamatan bank boleh dikurangkan dengan memilih bank yang mempunyai reputasi yang baik.\\n\\n3. Reksa dana pendapatan tetap: Reksa dana pendapatan tetap melabur dana pelabur ke dalam pelbagai instrumen pendapatan tetap seperti bon dan surat hutang lain. Pendapatan yang dihasilkan akan dibahagikan kepada pemegang unit reksa dana secara berkala. Risiko boleh diuruskan melalui kepelbagaian portfolio oleh pengurus pelaburan.\\n\\n4. Dividen saham: Pelaburan dalam saham syarikat yang memberikan dividen secara tetap juga boleh memberikan pendapatan tetap. Pelabur akan menerima dividen daripada keuntungan syarikat yang dibahagikan kepada pemegang saham. Risiko berkaitan dengan turun naik harga saham boleh diuruskan dengan melakukan penyelidikan terhadap syarikat yang konsisten dalam memberikan dividen.\\n\\nPerlu diingat bahawa setiap pelaburan mempunyai risiko tertentu, dan penting untuk melakukan penyelidikan dan memahami risiko yang terlibat sebelum membuat keputusan pelaburan.\\n<manusia>: Ok, terima kasih atas maklumat. Saya ingin mengetahui lebih lanjut tentang dana simpanan pendapatan tetap. Adakah terdapat cadangan untuk dana simpanan pendapatan tetap yang baik?\\n<bot>: Sudah tentu, terdapat beberapa dana simpanan pendapatan tetap yang terkenal dan mempunyai prestasi yang baik. Walau bagaimanapun, penting untuk diingat bahawa prestasi masa lalu tidak menjamin hasil pada masa hadapan dan anda harus melakukan penyelidikan lanjut sebelum membuat keputusan pelaburan. Berikut adalah beberapa cadangan dana simpanan pendapatan tetap di Indonesia:\\n\\n1. Dana Simpanan Pendapatan Tetap: Dana simpanan ini diuruskan oleh PT Dana Simpanan Pelaburan Management dan mempunyai tumpuan kepada pelaburan instrumen pendapatan tetap seperti bon. Dana simpanan ini mempunyai kadar pulangan hasil yang stabil dan risiko terkawal.\\n\\n2. Manulife Bon Negara: Dana simpanan ini diuruskan oleh PT Manulife Aset Pengurusan Indonesia dan melabur dalam bon kerajaan Indonesia. Dana simpanan ini sesuai untuk mereka yang mencari pendapatan tetap dengan kadar risiko yang agak rendah.\\n\\n3. Dana Simpanan Ijarah Berimbang: Dana simpanan ini diuruskan oleh PT Schroder Investment Management Indonesia dan menggabungkan pelaburan dalam instrumen pendapatan tetap dan instrumen pasaran wang berdasarkan prinsip ijarah. Dana simpanan ini boleh memberikan potensi pendapatan yang stabil dengan risiko terkawal.\\n\\nPastikan anda memahami matlamat dan profil risiko anda sebelum memilih dana simpanan pendapatan tetap. Selain itu, perhatikan juga kos pengurusan dan prestasi sejarah dana simpanan. Cadangan terbaik adalah berunding dengan penasihat kewangan atau pakar yang boleh memberikan cadangan yang sesuai dengan keperluan dan keutamaan anda.', 'output': None}\n",
      " 0 Untuk menjadikan sukuk kurang berisiko dan menghasilkan pulangan yang lebih stabil, terdapat beberapa cara yang boleh digunakan. Satu-satunya cara adalah dengan menggantikan model sukuk yang berdasarkan penentuan harga berdasarkan nilai nominal dengan model sukuk yang mengehadkan potensi kerugian dan keuntungan.\n",
      "\n",
      "Selain itu, kepelbagaian portfolio sukuk juga boleh dilakukan supaya tidak bergantung kepada satu instrumen atau sektor sahaja. Ini bermakna memilih sukuk daripada pelbagai industri dan negara untuk mengurangkan risiko.\n",
      "\n",
      "Selain itu, kriteria penilaian sukuk juga boleh ditambah atau dibangunkan untuk mengambil kira kualiti penerbit sukuk dan potensi risiko yang terlibat. Ini boleh membantu pelabur dalam membuat keputusan yang lebih baik.\n",
      "\n",
      "Akhir sekali, mengekalkan dan mengukuhkan rangka undang-undang dan peraturan yang berkaitan dengan sukuk juga penting untuk memastikan ketelusan dan keadilan dalam pelaksanaannya. Ini akan meningkatkan keyakinan pelabur dan menyumbang kepada perkembangan pasaran sukuk yang lebih baik.\n",
      "\n",
      "Adakah terdapat maklumat atau butiran yang anda ingin saya tambahkan atau jelaskan lebih lanjut? 1140 {'prompt_input': None, 'input': '<manusia>:                                                                                                                                                                                                                                                                                                                                                                                                                                                                                                                                                                                                                                                                                                                                                                                                                                                                                                                                                                                                                                                                                                                                                                                                                                                                                                                                                                                                                      \\n<bot>: Untuk menjadikan sukuk kurang berisiko dan menghasilkan pulangan yang lebih stabil, terdapat beberapa cara yang boleh digunakan. Satu-satunya cara adalah dengan menggantikan model sukuk yang berdasarkan penentuan harga berdasarkan nilai nominal dengan model sukuk yang mengehadkan potensi kerugian dan keuntungan.\\n\\nSelain itu, kepelbagaian portfolio sukuk juga boleh dilakukan supaya tidak bergantung kepada satu instrumen atau sektor sahaja. Ini bermakna memilih sukuk daripada pelbagai industri dan negara untuk mengurangkan risiko.\\n\\nSelain itu, kriteria penilaian sukuk juga boleh ditambah atau dibangunkan untuk mengambil kira kualiti penerbit sukuk dan potensi risiko yang terlibat. Ini boleh membantu pelabur dalam membuat keputusan yang lebih baik.\\n\\nAkhir sekali, mengekalkan dan mengukuhkan rangka undang-undang dan peraturan yang berkaitan dengan sukuk juga penting untuk memastikan ketelusan dan keadilan dalam pelaksanaannya. Ini akan meningkatkan keyakinan pelabur dan menyumbang kepada perkembangan pasaran sukuk yang lebih baik.\\n\\nAdakah terdapat maklumat atau butiran yang anda ingin saya tambahkan atau jelaskan lebih lanjut?\\n<manusia>: Bagaimanakah kerajaan mempromosikan dan menggalakkan pertumbuhan pasaran sukuk di negara ini?\\n<bot>: Kerajaan boleh mengambil beberapa langkah untuk mempromosikan dan menggalakkan pertumbuhan pasaran sukuk di negara ini:\\n\\n1. Menyediakan insentif cukai: Kerajaan boleh menyediakan insentif cukai khas kepada penerbit sukuk dan pelabur. Ini termasuk pengecualian cukai keuntungan dan dividen daripada pelaburan sukuk, serta pengecualian cukai ke atas dividen yang diterima daripada penerbit sukuk.\\n\\n2. Membina infrastruktur pasaran: Kerajaan perlu memastikan wujudnya infrastruktur pasaran yang baik untuk memudahkan perdagangan dan penerbitan sukuk. Ini termasuk penetapan piawaian dan prosedur yang jelas, pembentukan badan pengawal pasaran yang berkemampuan, dan pelaksanaan platform perdagangan elektronik yang cekap.\\n\\n3. Meningkatkan kesedaran dan pendidikan: Kerajaan boleh menyokong kempen kesedaran dan pendidikan mengenai sukuk kepada masyarakat awam dan pelabur. Ini melibatkan program pendidikan, seminar, dan sumber maklumat yang mudah diakses mengenai sukuk dan kelebihannya.\\n\\n4. Memperkenalkan inovasi sukuk: Kerajaan boleh menggalakkan inovasi dalam instrumen sukuk dengan memperkenalkan sukuk berdasarkan aset yang berbeza, seperti sukuk hijau, sukuk infrastruktur, atau sukuk mikro. Ini akan membuka peluang pelaburan baharu dan meningkatkan minat pelabur.\\n\\n5. Menjalin kerjasama antarabangsa: Kerajaan boleh bekerjasama dengan pasaran sukuk antarabangsa dan institusi kewangan antarabangsa untuk mempromosikan pasaran sukuk negara ini. Ini termasuk kerjasama antara bank pusat dan institusi kewangan antarabangsa dalam membangunkan piawaian dan rangka perundangan yang seragam.\\n\\nAdakah terdapat langkah tambahan yang anda ingin saya tambah atau jelaskan lebih lanjut?\\n<manusia>: Bagus, terima kasih atas maklumat yang diberikan! Adakah terdapat pelan tindakan khas yang sedang dirancang oleh kerajaan untuk mempromosikan sukuk di negara ini?\\n<bot>: Ya, kerajaan sedang merancang pelbagai pelan tindakan khusus untuk mempromosikan sukuk di negara ini. Antara pelan yang sedang dirancang ialah:\\n\\n1. Pelaksanaan lebih banyak program pendidikan dan bengkel mengenai sukuk bagi meningkatkan kesedaran di kalangan masyarakat. Ini akan membantu pelabur dan penerbit sukuk memahami manfaat dan potensi pasaran sukuk.\\n\\n2. Peningkatan kerjasama dalam rangkaian antarabangsa. Kerajaan sedang berusaha untuk menjalin hubungan dan kerjasama dengan institusi kewangan global dan pasaran sukuk antarabangsa untuk mempromosikan sukuk dari negara ini di peringkat global.\\n\\n3. Memberi tumpuan kepada inisiatif hijau dan pembangunan mampan. Kerajaan sedang menggalakkan penerbitan sukuk hijau dan sukuk berdasarkan projek pembangunan mampan seperti infrastruktur hijau dan penyelenggaraan alam sekitar.\\n\\n4. Memperkemaskan undang-undang dan peraturan berkaitan sukuk. Kerajaan sedang mengkaji semula undang-undang dan peraturan berkaitan sukuk bagi memastikan ia memenuhi piawaian antarabangsa dan memudahkan pengeluaran dan perdagangan sukuk.\\n\\n5. Membina platform perdagangan sukuk yang canggih. Kerajaan sedang berusaha untuk meningkatkan infrastruktur pasaran sukuk dengan mewujudkan platform perdagangan elektronik yang cekap dan berinovasi untuk memudahkan perdagangan sukuk.\\n\\nIni adalah beberapa contoh pelan tindakan khusus yang sedang dirancang oleh kerajaan untuk mempromosikan sukuk di negara ini. Adakah terdapat perkara lain yang anda ingin saya tambahkan?\\n<manusia>: Terima kasih atas maklumat yang diberikan! Saya berharap pelan tindakan ini dapat memacu pertumbuhan pasaran sukuk dan menyediakan peluang pelaburan yang baik untuk negara ini. Adakah terdapat langkah lain yang perlu diambil untuk meningkatkan pemahaman dan minat dalam sukuk?\\n<bot>: Ya, terdapat beberapa langkah yang boleh diambil untuk meningkatkan pemahaman dan minat dalam sukuk:\\n\\n1. Penyediaan maklumat yang jelas dan mudah difahami tentang sukuk. Ini boleh termasuk penyediaan panduan sukuk yang ringkas dan infografik yang menerangkan konsep, jenis dan kelebihan sukuk. Maklumat ini boleh disebarkan melalui laman web kerajaan, brosur atau media sosial.\\n\\n2. Meningkatkan program pendidikan dan kesedaran sukuk di peringkat akademik. Kerjasama dengan institusi pendidikan untuk menjadikan sukuk sebagai sebahagian daripada kurikulum kewangan atau ekonomi boleh meningkatkan pengetahuan dan pemahaman tentang sukuk di kalangan generasi muda.\\n\\n3. Menganjurkan seminar dan bengkel sukuk secara berkala. Ini memberi peluang kepada pelabur, penerbit dan orang awam untuk mendapatkan pemahaman mendalam tentang sukuk melalui perbincangan dan perbincangan pakar.\\n\\n4. Meningkatkan paparan sukuk melalui pameran kewangan atau ekonomi di peringkat nasional dan antarabangsa. Ini memberi peluang kepada penerbit sukuk untuk mempromosikan projek mereka dan menarik minat pelabur.\\n\\n5. Membuat promosi sukuk melalui kerjasama dengan badan kewangan dan institusi kewangan. Ini boleh termasuk menyertai ekspo kewangan, mengadakan sesi ceramah atau webinar, dan bekerjasama dengan broker atau ejen kewangan untuk memperkenalkan sukuk kepada pelabur.\\n\\nDengan mengambil langkah-langkah ini, diharapkan pemahaman dan minat dalam sukuk dapat ditingkatkan di kalangan masyarakat dan pelabur.\\n<manusia>: Terima kasih atas penjelasan! Saya berharap lebih banyak aktiviti pendidikan dan promosi sukuk dapat diadakan untuk meningkatkan kesedaran dan minat dalam pelaburan ini.\\n<bot>: Sama-sama! Saya bersetuju, aktiviti pendidikan dan promosi sukuk yang lebih banyak akan membantu meningkatkan kesedaran dan minat dalam pelaburan ini. Ia penting untuk meluaskan pengetahuan orang ramai tentang sukuk dan memastikan mereka memahami potensi dan faedahnya. Dengan lebih banyak aktiviti pendidikan dan promosi yang diadakan, diharapkan akan ada peningkatan minat dan penyertaan dalam pasaran sukuk. Terima kasih atas soalan, jika ada lagi yang boleh saya bantu, sila beritahu saya.\\n<manusia>: Sangat bersetuju! Harap banyak acara tentang sukuk diadakan segera supaya ramai orang dapat memahami dan terlibat dalam pelaburan ini.\\n<bot>: Betul! Kehadiran lebih banyak acara dan pekeliling mengenai sukuk akan membantu mengembangkan pengetahuan masyarakat dan memperkenalkan mereka kepada peluang pelaburan sedia ada. Kami juga berharap lebih ramai pihak dapat mempromosikan sukuk dengan cara yang mudah difahami dan menarik perhatian masyarakat. Oleh itu, diharapkan akan ada pertumbuhan yang lebih besar dalam pasaran sukuk di negara ini. Terima kasih atas pandangan anda yang bernas! Adakah anda mempunyai soalan atau isu lain yang ingin dibincangkan?', 'output': None}\n",
      " 0 Ya, dalam era globalisasi dan kepelbagaian ekonomi, sistem kewangan Islam menawarkan potensi untuk mewujudkan kestabilan dan daya saing dalam pasaran sukuk. Walau bagaimanapun, cabarannya adalah meyakinkan pelabur, sama ada Muslim atau bukan Islam, tentang kekuatan dan keupayaan sistem kewangan Islam sebagai alternatif yang sejajar dengan sistem konvensional.\n",
      "\n",
      "Dalam hal ini, perlu ada pendekatan yang komprehensif untuk mempromosikan sukuk kepada pelabur. Ini melibatkan pendidikan dan kesedaran yang lebih besar tentang prinsip syariah dan faedah ekonomi sukuk. Selain itu, ia juga penting untuk mengekalkan kualiti dan kepercayaan pasaran dengan memastikan terdapat rangka peraturan yang betul dan prosedur yang telus dalam penerbitan dan perdagangan sukuk.\n",
      "\n",
      "Seiring dengan pertumbuhan pasaran sukuk global, peningkatan pilihan instrumen sukuk yang inovatif dan mempelbagaikan portfolio juga boleh menjadi faktor yang menyokong kejayaan sistem kewangan Islam. Oleh itu, usaha kerjasama daripada semua pihak berkepentingan diperlukan, termasuk kerajaan, institusi kewangan dan masyarakat untuk mempromosikan pembangunan pasaran sukuk yang mampan dan inklusif.\n",
      "\n",
      "Jadi, dengan komitmen dan kerjasama yang betul, sistem kewangan Islam mempunyai potensi untuk mencapai kestabilan dan daya saing dalam pasaran sukuk serta meyakinkan pelabur tentang kekuatannya sebagai alternatif yang boleh dipercayai dan mampan. 1411 {'prompt_input': None, 'input': '<manusia>:                                                                                                                                                                                                                                                                                                                                                                                                                                                                                                                                                                                                                                                                                                                                                                                                                                                                                                                                                                                                                                                                                                                                                                                                                                                                                                                                                                                                                      \\n<bot>: Ya, dalam era globalisasi dan kepelbagaian ekonomi, sistem kewangan Islam menawarkan potensi untuk mewujudkan kestabilan dan daya saing dalam pasaran sukuk. Walau bagaimanapun, cabarannya adalah meyakinkan pelabur, sama ada Muslim atau bukan Islam, tentang kekuatan dan keupayaan sistem kewangan Islam sebagai alternatif yang sejajar dengan sistem konvensional.\\n\\nDalam hal ini, perlu ada pendekatan yang komprehensif untuk mempromosikan sukuk kepada pelabur. Ini melibatkan pendidikan dan kesedaran yang lebih besar tentang prinsip syariah dan faedah ekonomi sukuk. Selain itu, ia juga penting untuk mengekalkan kualiti dan kepercayaan pasaran dengan memastikan terdapat rangka peraturan yang betul dan prosedur yang telus dalam penerbitan dan perdagangan sukuk.\\n\\nSeiring dengan pertumbuhan pasaran sukuk global, peningkatan pilihan instrumen sukuk yang inovatif dan mempelbagaikan portfolio juga boleh menjadi faktor yang menyokong kejayaan sistem kewangan Islam. Oleh itu, usaha kerjasama daripada semua pihak berkepentingan diperlukan, termasuk kerajaan, institusi kewangan dan masyarakat untuk mempromosikan pembangunan pasaran sukuk yang mampan dan inklusif.\\n\\nJadi, dengan komitmen dan kerjasama yang betul, sistem kewangan Islam mempunyai potensi untuk mencapai kestabilan dan daya saing dalam pasaran sukuk serta meyakinkan pelabur tentang kekuatannya sebagai alternatif yang boleh dipercayai dan mampan.\\n<manusia>: Bagaimana cara yang lebih efektif untuk menarik minat investor di pasar sukuk?\\n<bot>: Untuk menarik minat pelabur dalam pasaran sukuk, terdapat beberapa langkah yang boleh diambil:\\n\\n1. Pendidikan dan Kesedaran: Melakukan kempen pendidikan dan kesedaran yang luas mengenai prinsip syariah, faedah ekonomi dan potensi pertumbuhan pasaran sukuk. Ini boleh dilakukan melalui seminar, persidangan dan penerbitan yang menggambarkan kelebihan dan prospek sukuk.\\n\\n2. Ketelusan dan Piawaian: Memastikan ketelusan yang tinggi dalam penerbitan dan perdagangan sukuk. Menyediakan maklumat yang jelas dan terperinci mengenai struktur sukuk, penggunaan dana dan prospek pelaburan kepada pelabur. Selain itu, mengikuti piawaian antarabangsa seperti piawaian perakaunan syariah dan peraturan yang jelas akan memberi kepercayaan kepada pelabur.\\n\\n3. Pempelbagaian Produk: Membangunkan pelbagai produk sukuk inovatif yang memenuhi keperluan dan keutamaan pelabur. Sebagai contoh, sukuk berasaskan infrastruktur, hijau atau sosial yang boleh menarik minat pelabur yang mempunyai tumpuan pada tanggungjawab sosial dan alam sekitar.\\n\\n4. Kerjasama Industri: Menggalakkan kerjasama antara pihak berkepentingan, termasuk institusi kewangan, kerajaan dan agensi pengawal selia, untuk mengukuhkan pasaran sukuk. Kerjasama dari segi pembangunan produk, dasar kawal selia yang komprehensif dan infrastruktur pasaran yang kukuh akan membantu meningkatkan daya tarikan pasaran sukuk.\\n\\n5. Inovasi Teknologi Kewangan (Fintech): Menggunakan teknologi kewangan untuk memudahkan akses dan perdagangan sukuk. Platform digital, aplikasi dan penyelesaian fintech boleh meningkatkan kecairan pasaran sukuk dan menghubungkan pelabur dengan pengeluar sukuk.\\n\\nDengan mengambil langkah-langkah ini, ia diharapkan dapat meningkatkan minat pelabur dan membangunkan pasaran sukuk yang kukuh dan mampan.\\n<manusia>: Bagaimana upaya yang bisa kita lakukan untuk menjangkau investor milenial di pasar sukuk?\\n<bot>: Untuk menjangkau pelabur milenium dalam pasaran sukuk, terdapat beberapa usaha yang boleh dilakukan:\\n\\n1. Edukasi yang relevan: Memberi pendidikan yang relevan dan mudah difahami tentang prinsip syariah dan faedah ekonomi sukuk kepada generasi milenial. Menggunakan pendekatan yang menarik seperti kandungan digital, infografik, atau webinar supaya mereka dapat memahami konsep sukuk dengan lebih baik.\\n\\n2. Penggunaan Teknologi: Memanfaatkan teknologi digital dan platform dalam talian untuk menyampaikan maklumat dan memudahkan akses kepada pelabur milenium. Sebagai contoh, melalui aplikasi mudah alih atau platform perdagangan dalam talian yang mesra pengguna supaya mereka boleh melakukan transaksi sukuk dengan mudah.\\n\\n3. Pilihan Berpelbagai: Membangunkan produk sukuk yang sesuai dengan keperluan dan keutamaan pelabur milenium. Ini boleh merangkumi sukuk berasaskan teknologi, sukuk mampan (green sukuk), atau sukuk sosial yang berkaitan dengan masalah sosial yang mereka ambil berat.\\n\\n4. Promosi Melalui Media Sosial: Menggunakan media sosial popular seperti Instagram, Twitter dan Youtube untuk memperkenalkan dan mempromosikan sukuk kepada generasi milenial. Boleh menggunakan kandungan yang menarik seperti video pendek, cerita inspirasi, atau meme yang merangsang minat mereka.\\n\\n5. Kerjasama dengan Fintech: Bekerjasama dengan syarikat fintech yang mempunyai asas pengguna milenium untuk meluaskan jangkauan pasaran sukuk. Dengan memanfaatkan potensi teknologi dan data analitik, penyelesaian perdagangan sukuk yang inovatif dan menarik boleh disediakan untuk pelabur milenium.\\n\\nDengan menggunakan pendekatan yang sesuai dengan ciri dan keutamaan pelabur milenium, ia diharapkan dapat meningkatkan minat dan penyertaan mereka dalam pasaran sukuk.\\n<manusia>: Bagaimana saya boleh memulakan pelaburan dalam pasaran sukuk?\\n<bot>: Untuk memulakan pelaburan dalam pasaran sukuk, berikut adalah langkah-langkah yang boleh anda ikuti:\\n\\n1. Pendidikan dan Penyelidikan: Mulakan dengan memperoleh pemahaman yang baik tentang sukuk dan prinsip syariah yang mendasarinya. Ketahui tentang jenis sukuk, struktur perdagangan dan faedah pelaburan sukuk. Anda boleh menghadiri seminar, membaca literatur, atau berunding dengan pakar kewangan Islam.\\n\\n2. Tentukan Matlamat dan Profil Risiko: Tentukan matlamat pelaburan anda, sama ada untuk pertumbuhan jangka panjang atau pendapatan tetap. Nilai toleransi risiko anda, sama ada anda cenderung memilih sukuk yang lebih konservatif atau lebih berisiko.\\n\\n3. Cari Pialang atau Institusi Kewangan: Cari pialang atau institusi kewangan yang menyediakan akses untuk melabur dalam sukuk. Pastikan mereka mempunyai reputasi yang baik dan mempunyai pengalaman dalam perdagangan sukuk. Anda juga boleh mencari maklumat tentang penerbit sukuk yang menarik minat anda.\\n\\n4. Buka Akaun Pelaburan: Buka akaun pelaburan dengan pialang atau institusi kewangan yang anda pilih. Mohon penjelasan mengenai keperluan, prosedur pembukaan akaun dan keperluan pengenalan.\\n\\n5. Penilaian Pilihan Pelaburan: Semak pilihan sukuk yang tersedia dan analisis kualiti dan potensi keuntungan mereka. Perhatikan juga kelayakan penerbit, penilaian sukuk dan syarat pelaburan. Lakukan analisis risiko dan potensi pulangan sebelum membuat keputusan pelaburan.\\n\\n6. Mulakan Pelaburan: Selepas memilih sukuk yang sesuai dengan matlamat dan profil risiko anda, buat keputusan untuk melabur. Ikuti prosedur yang ditetapkan oleh institusi kewangan dan urus niaga pelaburan anda.\\n\\n7. Pantau dan Pelbagai: Pantau prestasi sukuk anda secara teratur. Selain itu, pertimbangkan untuk melakukan kepelbagaian portfolio dengan melabur dana anda dalam pelbagai jenis sukuk. Pelbagai membantu mengurangkan risiko pelaburan.\\n\\nSila ingat bahawa pelaburan melibatkan risiko, jadi penting untuk melakukan penyelidikan yang teliti dan berunding dengan pakar kewangan sebelum membuat sebarang keputusan pelaburan.\\n<manusia>: Ada cadangan sukuk yang boleh saya pertimbangkan?\\n<bot>: Sudah tentu! Berikut adalah beberapa jenis sukuk yang boleh anda pertimbangkan:\\n\\n1. Sukuk Murabahah: Sukuk berdasarkan kontrak jual beli dengan margin keuntungan yang dipersetujui sebelum ini antara penerbit sukuk dan pelabur.\\n\\n2. Sukuk Musharakah: Sukuk berdasarkan prinsip kerjasama antara penerbit sukuk dan pelabur untuk membahagikan keuntungan dan kerugian mengikut perkadaran pemilikan.\\n\\n3. Sukuk Ijarah: Sukuk berdasarkan kontrak sewa atau penggunaan aset dengan pembayaran sewa yang dipersetujui antara penerbit sukuk dan pelabur.\\n\\n4. Sukuk Wakalah: Sukuk berdasarkan kontrak wakalah, di mana penerbit sukuk bertindak sebagai wakil untuk menguruskan dana pelaburan untuk pelabur.\\n\\n5. Sukuk Istisna: Sukuk yang berkaitan dengan kontrak pembelian barang atau aset yang akan dibina atau dihasilkan pada masa hadapan mengikut spesifikasi yang telah ditetapkan.\\n\\n6. Sukuk Mudarabah: Sukuk berdasarkan prinsip kerjasama antara penerbit sukuk sebagai pengurus dana dan pelabur sebagai penyedia dana, dengan pembahagian keuntungan mengikut perjanjian.\\n\\nPilihan sukuk bergantung kepada tujuan pelaburan anda, profil risiko dan keutamaan peribadi. Nasihat saya ialah berunding dengan pakar kewangan Islam atau broker untuk mengetahui lebih lanjut tentang sukuk yang sesuai dengan keperluan anda.\\n<manusia>: Wah, terima kasih atas cadangan! Saya akan mencari lebih banyak maklumat tentang sukuk-sukuk ini. Ada cadangan lain yang boleh anda berikan?\\n<bot>: Sudah tentu! Berikut adalah beberapa cadangan tambahan yang boleh saya berikan:\\n\\n1. Pempelbagaian Portfolio: Adalah penting untuk mengekalkan kepelbagaian dalam portfolio pelaburan anda. Selain sukuk, pertimbangkan juga untuk mempelbagaikan ke dalam instrumen pelaburan lain seperti saham, hartanah atau produk kewangan lain. Pempelbagaian boleh membantu mengurangkan risiko dan meningkatkan potensi keuntungan jangka panjang.\\n\\n2. Terus Tingkatkan Pemahaman: Pelaburan sukuk adalah topik yang kompleks. Teruskan untuk meningkatkan pemahaman anda tentang prinsip syariah, instrumen kewangan Islam dan mekanisme pasaran sukuk. Semakin anda memahami, semakin bersedia anda membuat keputusan pelaburan yang bijak.\\n\\n3. Ikuti Berita dan Perkembangan Pasaran: Teruskan mengikuti berita terkini dan perkembangan di pasaran sukuk. Peristiwa politik, ekonomi dan perubahan peraturan boleh menjejaskan prestasi sukuk. Dengan memantau berita terkini, anda boleh membuat keputusan pelaburan yang lebih maklumat dan diarahkan.\\n\\n4. Penyelidikan Potensi Penerbit dan Sektor: Lakukan penyelidikan mendalam tentang penerbit sukuk dan sektor industri yang berkaitan. Perhatikan reputasi penerbit, pertumbuhan industri dan keadaan pasaran semasa. Ini akan membantu anda memilih sukuk dengan potensi pertumbuhan yang baik.\\n\\n5. Perundingan dengan Pakar Kewangan Syariah: Jika anda berasa perlu, jangan teragak-agak untuk berunding dengan pakar kewangan Islam atau penasihat pelaburan syariah. Mereka boleh membantu anda memahami aspek teknikal pelaburan sukuk dan memberikan nasihat yang sesuai dengan matlamat kewangan anda.\\n\\nSentiasa diingat, pelaburan yang melibatkan risiko dan keputusan pelaburan mestilah berdasarkan penilaian risiko peribadi dan matlamat kewangan jangka panjang. Dengan melakukan penyelidikan dan mendapatkan maklumat yang mencukupi, anda boleh membuat keputusan pelaburan yang bijak. Selamat menerokai pasaran sukuk!', 'output': None}\n",
      " 0 Zikir dan doa adalah ibadah yang penting dalam kehidupan seorang Muslim. Mereka mempunyai banyak manfaat dan kepentingan. Pertama, zikir dan doa membantu kita berkomunikasi dengan Allah dan meningkatkan hubungan kita dengan-Nya. Dengan berzikir dan berdoa, kita mengakui kebesaran Allah dan merendahkan diri kita di hadapan-Nya.\n",
      "\n",
      "Selain itu, zikir dan doa juga mempunyai kesan positif terhadap hati dan jiwa kita. Mereka membantu menenangkan fikiran, menghilangkan tekanan, dan meningkatkan iman. Apabila kita berzikir dan berdoa, kita merasa lebih dekat dengan Allah dan merasakan kedamaian dalam hati.\n",
      "\n",
      "Selain itu, zikir dan doa juga boleh menjadi sumber kekuatan dan motivasi dalam menghadapi pelbagai cabaran hidup. Dengan mengingati Allah dan memohon pertolongan-Nya, kita merasa lebih yakin, yakin, dan berserah diri kepada-Nya.\n",
      "\n",
      "Oleh itu, penting bagi setiap Muslim untuk mengamalkan zikir dan doa dalam kehidupan seharian. Kita boleh melakukannya setiap saat, pada setiap kesempatan, dan dalam setiap aktiviti kita. Dengan itu, kita boleh meningkatkan kesedaran kita terhadap kehadiran Allah dalam setiap aspek kehidupan kita, serta mendapat keberkahan dan rahmat-Nya. 1176 {'prompt_input': None, 'input': '<manusia>:        \\n<bot>: Zikir dan doa adalah ibadah yang penting dalam kehidupan seorang Muslim. Mereka mempunyai banyak manfaat dan kepentingan. Pertama, zikir dan doa membantu kita berkomunikasi dengan Allah dan meningkatkan hubungan kita dengan-Nya. Dengan berzikir dan berdoa, kita mengakui kebesaran Allah dan merendahkan diri kita di hadapan-Nya.\\n\\nSelain itu, zikir dan doa juga mempunyai kesan positif terhadap hati dan jiwa kita. Mereka membantu menenangkan fikiran, menghilangkan tekanan, dan meningkatkan iman. Apabila kita berzikir dan berdoa, kita merasa lebih dekat dengan Allah dan merasakan kedamaian dalam hati.\\n\\nSelain itu, zikir dan doa juga boleh menjadi sumber kekuatan dan motivasi dalam menghadapi pelbagai cabaran hidup. Dengan mengingati Allah dan memohon pertolongan-Nya, kita merasa lebih yakin, yakin, dan berserah diri kepada-Nya.\\n\\nOleh itu, penting bagi setiap Muslim untuk mengamalkan zikir dan doa dalam kehidupan seharian. Kita boleh melakukannya setiap saat, pada setiap kesempatan, dan dalam setiap aktiviti kita. Dengan itu, kita boleh meningkatkan kesedaran kita terhadap kehadiran Allah dalam setiap aspek kehidupan kita, serta mendapat keberkahan dan rahmat-Nya.\\n<manusia>: Betul tu, zikir dan doa memang penting dalam hidup kita. Lagipun, dengan mengingati Allah dan berdoa, rasa tenang dan penuh harapan dalam hati pun muncul. Ada tak zikir atau doa tertentu yang boleh aku amalkan setiap hari untuk mendekatkan diri kepada Allah?\\n<bot>: Tentu! Terdapat banyak zikir dan doa yang boleh diamalkan setiap hari untuk mendekatkan diri kepada Allah. Berikut adalah beberapa contoh:\\n\\n1. Zikir Tahmid: \"Alhamdulillah\" (Segala puji bagi Allah)\\n2. Zikir Tahlil: \"La ilaha illallah\" (Tiada Tuhan selain Allah)\\n3. Zikir Istighfar: \"Astaghfirullah\" (Aku memohon ampun kepada Allah)\\n4. Zikir Tasbih: \"Subhanallah\" (Maha Suci Allah)\\n5. Zikir Takbir: \"Allahu Akbar\" (Allah Maha Besar)\\n6. Doa Nabi Zakaria: \"Rabbana hablana min azwajina wa zurriyyatina qurrata a\\'yunin\" (Ya Tuhan kami, anugerahkanlah kepada kami pasangan dan keturunan yang menjadi penyejuk hati)\\n\\nSelain itu, anda juga boleh berdoa dengan menggunakan kata-kata dan bahasa sendiri. Bercakaplah kepada Allah dengan jujur dan ikhlas, bercerita tentang perasaan, kebimbangan, dan harapanmu. Ingatlah bahawa doa adalah cara untuk berkomunikasi dengan Allah, jadi jangan takut untuk bercakap dari hati.\\n\\nAmalkan zikir dan doa ini secara konsisten dalam kehidupan sehari-hari. Pilihlah yang anda rasa sesuai dan mudah untuk diamalkan. Dengan melakukan zikir dan doa dengan penuh kesedaran dan khusyuk, anda akan merasakan kehadiran Allah yang lebih dekat dan ketenangan dalam hati.\\n<manusia>: Alhamdulillah, terima kasih banyak atas jawapannya. Saya akan cuba amalkan zikir dan doa-doa tersebut setiap hari. Doakan saya agar semakin dekat dengan Allah dan diberikan ketenangan dalam hidup.\\n<bot>: Sama-sama, semoga Allah sentiasa mendekatkan kamu kepada-Nya dan memberikan ketenangan dalam hidupmu. Tetap konsisten dalam amalan zikir dan doa, dengan keyakinan bahawa Allah akan mendengar dan mengabulkan doamu. Allah Maha Pengasih dan Penyayang, dan Dia sentiasa mendengar doa hamba-Nya yang ikhlas. Teruskan usaha dan berdoa dengan penuh keikhlasan. Semoga kehidupanmu dipenuhi dengan kedamaian dan kebahagiaan. Ucapkanlah zikir dan doa dengan hati yang ikhlas dan yakin, dan semoga doamu dikabulkan oleh-Nya. Amin.\\n<manusia>: Ya, saya akan benar-benar cuba menjadikan zikir dan doa sebagai amalan harian saya. Semoga Allah mendengar doa-doa saya dan memberikan ketenangan dalam hidup ini. Amin.\\n<bot>: Betul sekali! Jadikanlah zikir dan doa sebagai amalan harian yang tetap. Allah Maha Mendengar dan Maha Mengabulkan doa hamba-Nya yang ikhlas. Dalam setiap doa yang kamu panjatkan, berikanlah keikhlasan dan keyakinan penuh kepada Allah. Percayalah bahawa Dia akan memberikan ketenangan dalam hidupmu. Teruskanlah usahamu, dan Allah tidak akan menyia-nyiakan doa hamba-Nya yang berusaha dengan ikhlas. Semoga segala doa-doa kamu dikabulkan olehNya. Amin.\\n<manusia>: InshaAllah, saya akan terus berusaha dan berdoa dalam setiap langkah hidup saya. Semoga Allah memberikan petunjuk dan keberkahan dalam segala hal yang saya lakukan. Amin.\\n<bot>: InshaAllah, berusahalah sebaik mungkin dan percayalah bahawa Allah akan memberikan petunjuk dan keberkahan dalam segala perkara yang kamu lakukan. Teruslah berdoa dengan ikhlas dan berharaplah padaNya. Allah Maha Pengasih dan Maha Mengetahui segala usaha yang kamu lakukan. Semoga kamu diberikan keberkahan dan keberhasilan dalam hidupmu. Amin.', 'output': None}\n"
     ]
    },
    {
     "name": "stderr",
     "output_type": "stream",
     "text": [
      "3419449it [00:45, 74992.12it/s]\n"
     ]
    }
   ],
   "source": [
    "from tqdm import tqdm\n",
    "\n",
    "data = []\n",
    "with open('combine-malay-no-alignment-multitasks-v5-no-code.jsonl') as fopen:\n",
    "    for l in tqdm(fopen):\n",
    "        l = json.loads(l)\n",
    "        if 'function_call' in l and not isinstance(l['function_call'], str):\n",
    "            print(l['function_call'])\n",
    "        if generate_and_tokenize_prompt(l, min_length_input = 1, min_length_output = 1) is not None:\n",
    "            data.append(l)"
   ]
  },
  {
   "cell_type": "code",
   "execution_count": 40,
   "id": "a88b3233",
   "metadata": {},
   "outputs": [
    {
     "data": {
      "text/plain": [
       "3419427"
      ]
     },
     "execution_count": 40,
     "metadata": {},
     "output_type": "execute_result"
    }
   ],
   "source": [
    "len(data)"
   ]
  },
  {
   "cell_type": "code",
   "execution_count": 41,
   "id": "976f7697",
   "metadata": {},
   "outputs": [],
   "source": [
    "with open('combine-malay-no-alignment-multitasks-v5-no-code.jsonl', 'w') as fopen:\n",
    "    for d in data:\n",
    "        fopen.write(f'{json.dumps(d)}\\n')"
   ]
  },
  {
   "cell_type": "code",
   "execution_count": 42,
   "id": "a75d5229",
   "metadata": {},
   "outputs": [
    {
     "name": "stderr",
     "output_type": "stream",
     "text": [
      "3419427it [00:43, 79308.47it/s] \n"
     ]
    }
   ],
   "source": [
    "with open('combine-malay-no-alignment-multitasks-v5-no-code.jsonl') as fopen:\n",
    "    for l in tqdm(fopen):\n",
    "        l = json.loads(l)\n",
    "        if 'function_call' in l and not isinstance(l['function_call'], str):\n",
    "            print(l['function_call'])\n",
    "        if generate_and_tokenize_prompt(l, min_length_input = 1, min_length_output = 1) is None:\n",
    "            break"
   ]
  },
  {
   "cell_type": "code",
   "execution_count": 43,
   "id": "38c7847f",
   "metadata": {},
   "outputs": [
    {
     "name": "stderr",
     "output_type": "stream",
     "text": [
      "3419427it [00:26, 130990.52it/s]\n"
     ]
    }
   ],
   "source": [
    "with open('combine-malay-no-alignment-multitasks-v5-no-code.jsonl') as fopen:\n",
    "    for l in tqdm(fopen):\n",
    "        l = json.loads(l)\n",
    "        if 'function_call' in l:\n",
    "            break"
   ]
  },
  {
   "cell_type": "code",
   "execution_count": 44,
   "id": "ed4616f2",
   "metadata": {
    "scrolled": false
   },
   "outputs": [
    {
     "name": "stdout",
     "output_type": "stream",
     "text": [
      "{\"prompt_input\": null, \"input\": \"Berikan saya contoh surat berhenti kerja dengan notis sebulan. \", \"output\": \"(Nama pekerja) \\n(Alamat tempat tinggal pekerja) \\n\\n--------------------------------------------------------------------------------\\n\\nTarikh: (\\u2013/\\u2013/\\u2014-) \\n\\n(Nama Syarikat)\\n(Alamat Syarikat) \\n\\nPER: NOTIS BERHENTI KERJA SEBULAN DI (Nama Syarikat) \\n\\nPerkara di atas adalah dirujuk. \\n\\n2. Saya (Nama pekerja), bekerja di (Nama syarikat) memegang jawatan (Nama jawatan) ingin memberitahu pihak tuan bahawa saya akan berhenti kerja mulai tarikh (Tarikh berhenti kerja) dengan otis selama sebulan. \\n\\n3. Hal ini adalah kerana saya telah ditawarkan untuk bekerja sebagai (jawatan baharu) di (Nama syarikat) bermula pada (tarikh kerja baharu). \\n\\n4. Sehubungan itu, saya memohon agar pihak tuan dapat mempertimbangkan permohonan perletakan jawatan saya. Sebelum mengundurkan diri, ribuan terima kasih diucapkan kepada pihak tuan di atas peluang yang diberikan kepada saya sepanjang perkhidmatan saya di (nama syarikat) \\n\\nSegala kerjasama dan jasa baik pihak tuan amatlah dihargai . Sekian, terima kasih. \\n\\nYang Benar, \\n______________\\n (No. K/P penulis)\"}\n",
      "\n",
      "{\"prompt_input\": null, \"input\": \"Berikan saya satu contoh surat berhenti kerja dengan notis serta-merta. \", \"output\": \"[Alamat penulis]\\n\\n---------------------------------------------------------\\n\\n[Nama syarikat]\\n[[Alamat syarikat]\\n\\n\\n[Tarikh]\\n\\nTuan/Puan, \\n\\nNOTIS PERLETAKAN JAWATAN SERTA MERTA \\n\\nMerujuk perkara di atas, adalah saya [Nama penulis] ingin memaklumkan kepada pihak tuan/puan bahawa saya ingin meletakkan jawatan saya daripada syarikat tuan berkuat kuasa serta merta pada hari ini [Tarikh]. \\n\\n2. Sebagai makluman pihak tuan/puan, saya membuat keputusan tersebut berikutan keadaan kesihatan ibu saya yang tidak mengizinkan untuk saya bekerja kerana perlu mengawasi serta menjaga ibu saya yang berada dalam kondisi yang tidak baik kerana diserang penyakit angin ahmar. \\n\\n3. Saya ingin mengambil kesempatan ini untuk mengucapkan ribuan terima kasih kepada pihak pengurusan [Nama syarikat] serta seluruh raka sekerja kerana telah banyak memberi peluang untuk meneruskan karier pekerjaan saya di sini. Disamping itu, saya amat gembira selama saya berkhidmat di sini. \\n\\n4. Segala kerjasama dan jasa baik dari pihak tuan amatlah saya hargai dan didahulukan dengan ucapan terima kasih. Sekian. \\n\\nYang Benar, \\n______________\\n\"}\n",
      "\n",
      "{\"prompt_input\": null, \"input\": \"Berikan saya contoh surat berhenti kerja dengan notis 24 jam atas sebab menerima tawaran untuk melanjutkan pelajaran di luar negara. \", \"output\": \"[Nama penulis]\\n[Alamat penulis]\\n\\n-------------------------------------------------------------------------\\n\\n[Nama syarikat]\\n[Alamat syarikat]\\n\\n\\n[Tarikh]\\n\\nTuan, \\n\\nNOTIS BERHENTI KERJA 24 JAM DI [Nama syarikat]\\n\\nBerhubung perkara di atas, adalah saya [Nama penulis] yang bertugas sebagai [Nama jawatan] di [Nama syarikat] ingin memaklumkan kepada pihak tuan tentang perletakan jawatan saya bermula pada hari esok, [Tarikh]. \\n\\n2. Hal ini disebabkan saya baru sahaja menerima tawaran untuk melanjutkan pengajian di [Nama universiti] yang akan bermula pada [Tarikh]. Tempoh masa sebulan saya perlukan bagi mengurus hal ehwal diri sebelum bergerak ke sana. \\n\\n3. Justeru itu, saya ingin mengambil kesempatan ini untuk mengucapkan ribuan terima kasih kepada pihak pengurusan dan semua kakitangan di [Nama syarikat] kerana banyak memberikan tunjuk ajar dan kepercayaan serta memberikan saya peluang untuk berkhidmat dalam melaksanakan tugas dalam di syarikat ini. \\n\\n4. Segala kerjasama dan jasa baik dari pihak tuan amatlah saya hargai dan didahulukan dengan ucapan terima kasih. Sekian. \\n\\nYang Benar, \\n\\n______________ \\n(Nama penulis)\"}\n",
      "\n",
      "{\"prompt_input\": null, \"input\": \"tukar ke JSON berdasarkan schema {\\n    \\\"name\\\": \\\"QAS\\\",\\n    \\\"description\\\": \\\"Correctly extracted `QAS` with all the required parameters with correct types\\\",\\n    \\\"parameters\\\": {\\n        \\\"$defs\\\": {\\n            \\\"QA\\\": {\\n                \\\"properties\\\": {\\n                    \\\"question\\\": {\\n                        \\\"type\\\": \\\"string\\\"\\n                    },\\n                    \\\"answer\\\": {\\n                        \\\"type\\\": \\\"string\\\"\\n                    }\\n                },\\n                \\\"required\\\": [\\n                    \\\"question\\\",\\n                    \\\"answer\\\"\\n                ],\\n                \\\"type\\\": \\\"object\\\"\\n            }\\n        },\\n        \\\"properties\\\": {\\n            \\\"qa\\\": {\\n                \\\"items\\\": {\\n                    \\\"$ref\\\": \\\"#/$defs/QA\\\"\\n                },\\n                \\\"type\\\": \\\"array\\\"\\n            }\\n        },\\n        \\\"required\\\": [\\n            \\\"qa\\\"\\n        ],\\n        \\\"type\\\": \\\"object\\\"\\n    }\\n}, teks `\\nDR.25.07.2017                                                        3                   \\n\\n \\ncondisoil ini. Ini sebab kita tahu bahawa torium is a known carcinogen.  Terima kasih \\nMenteri. \\n\\nDatuk Seri Panglima Madius Tangau: Terima kasih Yang Berhormat Kuantan.  \\nBerkenaan dengan nisbah campuran yang di antara WLP dan juga neutralization \\nunderflow dan FGD adalah nisbah 1:2:7 dan bagi tambahan breeze pula nisbah ialah \\n1:2:7 juga. Apa pun saya bersetuju dengan Yang Berhormat Kuantan bahawa Lynas \\ntelah jump the gun. Ia masih dalam proses kajian dan biarlah pihak SIRIM selesaikan \\nkajian mereka dan biarlah akhirnya Jabatan Alam Sekitar yang memberi kelulusan. \\nTerima kasih. \\n\\n \\n\\n3. Dato' Dr. Noraini binti Ahmad [Parit Sulong] minta Perdana Menteri \\nmenyatakan apakah inisiatif terbaru yang dilakukan oleh pihak Jabatan Kemajuan Islam \\nMalaysia (JAKIM) dalam menambah baik proses pengeluaran Sijil Pengesahan Halal \\nMalaysia serta apakah nilai tambah yang bakal diperoleh oleh para pemohon sijil ini \\nmenerusi inisiatif terbaru yang digariskan tersebut. \\n\\n \\n\\n Menteri di Jabatan Perdana Menteri [Mejar Jeneral (B) Dato' Seri Jamil Khir \\nbin Baharom]: Bismillahir Rahmanir Rahim, Assalamualaikum warahmatullahi \\nwabarakatuh, salam sejahtera, salam 1Malaysia. Terima kasih Yang Berhormat Parit \\nSulong yang telah pun mengemukakan soalan berkaitan yang mana Tuan Yang di-\\nPertua, Kerajaan Malaysia melalui Jabatan Kemajuan Islam Malaysia (JAKIM) daripada \\nmasa ke semasa telah menyelaras inisiatif-inisiatif bagi mempercepatkan dan \\nmemperkasakan proses pengeluaran Sijil Pengesahan Halal Malaysia ataupun \\ndiringkaskan dengan Sijil Pengesahan Halal Malaysia (SPHM) di seluruh negara.   \\n\\n Ini adalah bagi menangani isu yang berkaitan kelewatan bagi pengeluaran Sijil \\nPengesahan Halal Malaysia sama ada di peringkat persekutuan mahupun di peringkat \\nnegeri-negeri.  Kerajaan amat memahami rintihan dan juga rayuan daripada industri yang \\nmemohon kepada kesegeraan kepada sijil ini. Maka yang tersebut inisiatif yang terbaru, \\nini terbaru dalam sekitar bulan Ramadhan yang lepas, satu bulan, inisiatif terbaru ini \\nmempercepatkan pengeluaran Sijil Pengesahan Halal Malaysia (SPHM) telah \\ndilaksanakan di mana dengan peringkat JAKIM disusuli dengan negeri-negeri. Empat \\ninisiatif yang telah diperkenalkan iaitu: \\n\\n(i) kelulusan segera bagi tiga kategori fast track process iaitu \\nkelulusan segera melalui langkah pertama semakan dokumen \\noleh pegawai penyemak.  Pegawai penyemak syorkan kelulusan \\nsegera di antara tiga hingga tujuh hari; \\n\\n(ii) fast track audit iaitu kelulusan di peringkat auditor halal tanpa \\nmelalui audit ulangan memandangkan syarikat telah diaudit \\ndalam tempoh lain dalam tempoh yang tertentu iaitu tujuh hari; \\ndan fast track tanpa laporan ketidakakuran iaitu kelulusan segera \\ndisyorkan oleh auditor setelah audit lapangan dijalankan dan \\ndidapati pemohon komited dengan tidak ada laporan \\nketidakakuran. Ini dalam tempoh 14 hari dan proses audit kombo \\niaitu proses audit dokumen berserta audit lapangan secara \\nserentak tujuh hingga 14 hari; \\n\\n(iii) halal expressway iaitu kelulusan segera hasil komitmen dan \\ntindakan pemohon membetulkan teguran audit dalam tempoh \\nyang diberikan iaitu 14 hari hingga 30 hari; dan \\n\\n(iv) halal fast lane iaitu di mana pegawai penyemak \\nmengklasifikasikan jenis permohonan kepada kategori yang \\nkritikal dan bukan kritikal. Bagi yang kritikal ini ialah melibatkan \\nsoal binatang yang mughallazah najis berat, anjing babi seperti \\nmana kasut kulit dan sebagainya dan yang bukan kritikal yang \\nlain-lain.   \\n\\nInisiatif ini melibatkan penambahan kekerapan bilangan mesyuarat. Ini pun juga \\npenting.  Dahulu kita mesyuarat iaitu pengesahan sijil halal dua kali sebulan sekarang ini \\nlapan kali sebulan ataupun dua kali seminggu. Proses ini juga menghasilkan keputusan \\npengesahan dalam tempoh tiga hari bekerja bagi permohonan produk yang tidak kritikal \\nsatu hingga tiga hari.  Pada masa yang sama\\u2013 minta maaf Tuan Yang di-Pertua, JAKIM \\ntelah memperkenalkan kategori pemohon syarikat white list iaitu syarikat pemegang Sijil \\n\\n<div class=\\\"annotation\\\"><a href=\\\"http://search.mysearch.com/web?apn_ptnrs=%5ECFO&amp;apn_uid=38c3559f-dd1c-4e12-8919-29817e25e9de&amp;dateOfInstall=2017-06-19&amp;gct=tab&amp;o=APN12069&amp;psv=0hc6e40j00000974799689F5D8D0570023A0494DA753237212A15Ba---------------------------------813176j__3&amp;shad=&amp;trgb=CR&amp;ts=1500955201110&amp;tpr=6&amp;q=nicolazation+underflow&amp;ots=1500955210574\\\">http://search.mysearch.com/web?apn_ptnrs=%5ECFO&amp;apn_uid=38c3559f-dd1c-4e12-8919-29817e25e9de&amp;dateOfInstall=2017-06-19&amp;gct=tab&amp;o=APN12069&amp;psv=0hc6e40j00000974799689F5D8D0570023A0494DA753237212A15Ba---------------------------------813176j__3&amp;shad=&amp;trgb=CR&amp;ts=1500955201110&amp;tpr=6&amp;q=nicolazation+underflow&amp;ots=1500955210574</a>\\n<div class=\\\"annotation\\\"><a href=\\\"http://search.mysearch.com/web?apn_ptnrs=%5ECFO&amp;apn_uid=38c3559f-dd1c-4e12-8919-29817e25e9de&amp;dateOfInstall=2017-06-19&amp;gct=tab&amp;o=APN12069&amp;psv=0hc6e40j00000974799689F5D8D0570023A0494DA753237212A15Ba---------------------------------813176j__3&amp;shad=&amp;trgb=CR&amp;ts=1500955201110&amp;tpr=6&amp;q=nicolazation+underflow&amp;ots=1500955210574\\\">http://search.mysearch.com/web?apn_ptnrs=%5ECFO&amp;apn_uid=38c3559f-dd1c-4e12-8919-29817e25e9de&amp;dateOfInstall=2017-06-19&amp;gct=tab&amp;o=APN12069&amp;psv=0hc6e40j00000974799689F5D8D0570023A0494DA753237212A15Ba---------------------------------813176j__3&amp;shad=&amp;trgb=CR&amp;ts=1500955201110&amp;tpr=6&amp;q=nicolazation+underflow&amp;ots=1500955210574</a>\\n\\n`\", \"output\": \"{\\\"name\\\": \\\"QAS\\\", \\\"arguments\\\": {\\\"qa\\\": [{\\\"question\\\": \\\"Apakah sebab Lynas Corporation Ltd. perlu menunggu kelulusan Jabatan Alam Sekitar?\\\", \\\"answer\\\": \\\"Lynas Corporation Ltd. perlu menunggu kelulusan Jabatan Alam Sekitar kerana mereka masih dalam proses kajian dan biarlah pihak SIRIM selesaikan kajian mereka dan biarlah akhirnya Jabatan Alam Sekitar yang memberi kelulusan.\\\"}, {\\\"question\\\": \\\"Apakah inisiatif terbaru yang dilakukan oleh pihak Jabatan Kemajuan Islam Malaysia (JAKIM) dalam menambah baik proses pengeluaran Sijil Pengesahan Halal Malaysia?\\\", \\\"answer\\\": \\\"Inisiatif terbaru yang dilakukan oleh pihak Jabatan Kemajuan Islam Malaysia (JAKIM) dalam menambah baik proses pengeluaran Sijil Pengesahan Halal Malaysia adalah dengan mempercepatkan pengeluaran Sijil Pengesahan Halal Malaysia (SPHM) melalui empat inisiatif iaitu kelulusan segera bagi tiga kategori fast track process, fast track audit, fast track tanpa laporan ketidakakuran, dan proses audit kombo, halal expressway, dan halal fast lane.\\\"}, {\\\"question\\\": \\\"Berapakah tempoh yang diperlukan untuk mengeluarkan keputusan pengesahan bagi permohonan produk yang tidak kritikal?\\\", \\\"answer\\\": \\\"Tempoh yang diperlukan untuk mengeluarkan keputusan pengesahan bagi permohonan produk yang tidak kritikal adalah tiga hari bekerja.\\\"}]}}\"}\n",
      "\n",
      "{\"prompt_input\": null, \"input\": \"\\u2705 Rasa Tak Sesuai ? \\u2705 Beli Terlalu Mahal ? \\u2705 Kereta Aksiden ? \\u2705 Kereta Banjir ? Kereta Boleh Dipulangkan Kembali Tidak Kira Atas Alasan Apa Sekalipun !!! Kami Beli Balik 100% Harga Body Yang Anda Bayar !!!\\ud83d\\udcaa JB Auto World Adalah Penjual Kereta Terpakai Yang Pertama Di Malaysia Yang Berani Offer Pada Anda [ 3 Day Money Back Gurantee ] !!! Kerana Kami Yakin Dengan Kualiti Kereta Yang Kami Jual !!! \\ud83e\\udd1d Kami Juga Adalah Penjual Kereta Terpakai TERBESAR Di Perak Dengan Lebih 400+Units \\ud83d\\ude97 Kereta !!! ------------------------------------------------------------------- -- Please Call OR Whatsapp Our Sales Advisor -- - Show Phone Number 016-3556863 ( Aizat ) - Show Phone Number 016-5773386 ( Philip ) - Show Phone Number 010-9365638 ( Ashraf ) - Show Phone Number 010-2566368 ( Encore ) - Show Phone Number 010-9786368 ( Hasrul ) - Show Phone Number 010-9776683 ( Wennie ) ------------------------------------------------------------------- Proton X70 1.8 Premium X (A) 1Owner Full Spec Model 8.0\\\" Touchscreen Monitor with Voice Commands 9 Kenwood Speakers and Power Amplifier Subwoofer 360-degree Camera & GPS Navigation System Power Boot And Panoramic Roof KENWOOD Premium Sound System Condition Totally Like New Car Few Units To Be Choosen From ------------------------------------------------------------------- -- Please Call OR Whatsapp Our Sales Advisor -- - Show Phone Number 010-9326368 ( Oscar ) - Show Phone Number 010-2181863 ( Irfan ) - Show Phone Number 010-9335638 ( James ) - Show Phone Number 016-5876368 ( Adam ) - Show Phone Number 010-9697638 ( Roslan ) - Show Phone Number 010-2356368 ( Lew ) ------------------------------------------------------------------- OUR PRICE WON'T BE THE CHEAPEST BUT WITH QUALITY WE ENSURE !!!\\ud83e\\udd1d OUR PRICE WON'T BE THE CHEAPEST BUT WITH QUALITY WE ENSURE !!!\\ud83e\\udd1d OUR PRICE WON'T BE THE CHEAPEST BUT WITH QUALITY WE ENSURE !!!\\ud83e\\udd1d 100% Original Mileage + Like New = View To Believe. 100% Original Mileage + Like New = View To Believe. 100% Original Mileage + Like New = View To Believe. 100% Condition Totally Like New Car , Buy And Drive. 100% Condition Totally Like New Car , Buy And Drive. 100% Condition Totally Like New Car , Buy And Drive. We Check,We Services,We Test ,Before We Sell . We're Sincerely At Your Service. Your Trusted Car Dealer In Town . ------------------------------------------------------------------- Why Choose JB Auto? \\u2705 True Year Made (NO Cheating) \\u2705 Free Loan Processing \\u2705 1-3 Years Warranty \\u2705 3 Days Money Back Guarantee \\u2705 Free Delivery to Your Home \\u2705 Free Car Service \\u2705 400 Units Ready Stock \\u2705 High Trade In Price Offered \\u2705 Perak's NO.1 Used Car Dealer \\u2705 Our Very Own Car Service & Spray Workshop \\u2705 Affordable Price for a 5 Star Quality Vehicle \\u2705 Tip Top Car Condition (Nearly Perfect) \\u2705 99 Point Checked By Our Professional Quality Control \\u2705 NOT Insurance Recovery / Claimed / Flooded Car ------------------------------------------------------------------- Careline Department - Show Phone Number 016-5587212 ( Sabrina ) ( Any Complain Pls Call At Working Hour : 9.00AM-6.00PM ) ------------------------------------------------------------------- Showroom: \\ud83c\\udfe0HQ Office : No.33 First Floor , PM2/3, Pusat Bandar Seksyen 2, Seri Manjung \\ud83c\\udfe0Branch [1] : In Front Of Kamdar\\n\\nJSON berdasarkan schema {\\n    \\\"name\\\": \\\"QAS\\\",\\n    \\\"description\\\": \\\"Correctly extracted `QAS` with all the required parameters with correct types\\\",\\n    \\\"parameters\\\": {\\n        \\\"$defs\\\": {\\n            \\\"QA\\\": {\\n                \\\"properties\\\": {\\n                    \\\"question\\\": {\\n                        \\\"type\\\": \\\"string\\\"\\n                    },\\n                    \\\"answer\\\": {\\n                        \\\"type\\\": \\\"string\\\"\\n                    }\\n                },\\n                \\\"required\\\": [\\n                    \\\"question\\\",\\n                    \\\"answer\\\"\\n                ],\\n                \\\"type\\\": \\\"object\\\"\\n            }\\n        },\\n        \\\"properties\\\": {\\n            \\\"qa\\\": {\\n                \\\"items\\\": {\\n                    \\\"$ref\\\": \\\"#/$defs/QA\\\"\\n                },\\n                \\\"type\\\": \\\"array\\\"\\n            }\\n        },\\n        \\\"required\\\": [\\n            \\\"qa\\\"\\n        ],\\n        \\\"type\\\": \\\"object\\\"\\n    }\\n}\", \"output\": \"{\\\"name\\\": \\\"QAS\\\", \\\"arguments\\\": {\\\"qa\\\": [{\\\"question\\\": \\\"Apakah tawaran yang diberikan oleh JB Auto World?\\\", \\\"answer\\\": \\\"JB Auto World menawarkan [3 Day Money Back Guarantee] untuk kereta yang dibeli, di mana kereta boleh dipulangkan kembali tidak kira atas alasan apa sekali pun. Mereka juga akan membeli balik kereta dengan 100% harga body yang dibayar.\\\"}, {\\\"question\\\": \\\"Apakah kelebihan membeli kereta dari JB Auto World?\\\", \\\"answer\\\": \\\"JB Auto World menawarkan beberapa kelebihan seperti jaminan tahun sebenar, pemprosesan pinjaman percuma, jaminan 1-3 tahun, penghantaran percuma ke rumah, servis kereta percuma, harga tukar yang tinggi, dan banyak lagi.\\\"}, {\\\"question\\\": \\\"Di mana kedudukan JB Auto World?\\\", \\\"answer\\\": \\\"JB Auto World mempunyai dua cawangan, iaitu di Pusat Bandar Seksyen 2, Seri Manjung dan di hadapan Kamdar.\\\"}]}}\"}\n",
      "\n",
      "{\"prompt_input\": null, \"input\": \"teks: {{ 'fb_in_app_browser_popup.desc' | translate }} {{ 'fb_in_app_browser_popup.copy_link' | translate }} {{ 'close' | translate }} {{ 'in_app_browser_popup.desc' | translate }} {{ 'close' | translate }} {{word('consent_title')}} {{word('consent_desc')}} {{word('read_more')}} {{word('settings')}} {{word('accept')}} {{word('consent_title')}} {{word('consent_desc')}} {{word('read_more')}} {{setting.title}} {{setting.description}} {{word('save_preferences')}} Navigation About us Shop by Brand Aquaillumination Aquarium Munster D-D Products Deep Sea EcoTech Marine Flipper Cleaner Focustronic Hanna Instruments Innovative Marine Jebao Kamoer Marine Pure Milwaukee Instruments Neptune Systems NYOS Orca Labs Polyp Lab Pinpoint Pure Aquatic Reef Octopus Rowa Salifert Tropic Marin WaterBox Aquariums MacroRocks Aquarium Systems Aquarium System Solution Other Shop by Category Additives - Supplements Medications - Pest Control Nutrient Control Aquarium Lighting Powerheads - Wavemakers Protein Skimmer Filter & Reactor Media Water Pump - Skimmer Pump Foods - Fish Foods - Coral Water Testing Aquarium Cleaner Controllers - Dosing Pump - ATO Salt - Rock - Sand Fragging Supplies Aquarium RO/DI Systems Others Calculator Light Output Comparisons VorTech Flow Calculator Tropic Marin Smart Info Aquarium Volume Calculator Shop All Categories Featured Products Shop by Category Aquarium Lighting Protein Skimmer Water Pump - Skimmer Pump Powerheads - Wavemakers Controllers - Dosing Pump - ATO Reactors Filter & Reactor Media Water Testing Additives - Supplements Nutrient Control Medications - Pest Control Foods - Fish Foods - Coral Aquarium Cleaner Salt - Rock - Sand Fragging Supplies Aquarium Others Shop by Brand Aquaillumination Deep Sea Hanna Instruments Salifert Other Aquarium Systems D-D Products Aquarium System Solution Focustronic Aquarium Munster EcoTech Marine Flipper Cleaner Innovative Marine Jebao Kamoer Marine Pure Milwaukee Instruments Neptune Systems NYOS Orca Labs Pinpoint Polyp Lab Pure Aquatic Reef Octopus Rowa Tropic Marin WaterBox Aquariums MacroRocks Account Sign in Sign up Other Settings MESSAGE English {{ currentCurrency.name }} Shopping Cart Your Shopping Cart is empty. {{ 'product.bundled_products.label' | translate }} {{ 'product.bundle_group_products.label' | translate }} {{ 'product.buyandget.label' | translate }} {{ 'product.gift.label' | translate }} {{ 'product.addon_products.label' | translate }} {{item.product.title_translations|translateModel}} {{ field.name_translations | translateModel }} {{item.variation.name}} {{ childProduct.title_translations | translateModel }} {{ getChildVariationShorthand(childProduct.child_variation) }} {{ getSelectedItemDetail(selectedChildProduct, item).childProductName }} x {{ selectedChildProduct.quantity || 1 }} {{ getSelectedItemDetail(selectedChildProduct, item).childVariationName }} {{item.quantity}} x RM0 {{ item.unit_point }} Point Remove {{ 'product.addon_products.label' | translate }} {{addonItem.product.title_translations|translateModel}} {{addonItem.quantity}} x {{ mainConfig.merchantData.base_currency.alternate_symbol + \\\"0\\\" }} Remove Checkout LANGUAGE English Bahasa Melayu \\u7b80\\u4f53\\u4e2d\\u6587 Currency $ HKD \\u00a5 CNY $ TWD $ USD $ SGD \\u20ac EUR $ AUD \\u00a3 GBP \\u20b1 PHP RM MYR \\u0e3f THB \\u062f.\\u0625 AED \\u00a5 JPY K MMK $ BND \\u20a9 KRW Rp IDR \\u20ab VND $ CAD MENU LOG IN CART ( {{currentCart.getItemCount()}} ) MESSAGE English English Bahasa Melayu \\u7b80\\u4f53\\u4e2d\\u6587 - {{ currentCurrency.symbol }} ------ {{ currentCurrency.name }} {{ currency.name }} About us Shop by Brand Aquaillumination Aquarium Munster D-D Products Deep Sea EcoTech Marine Flipper Cleaner Focustronic Hanna Instruments Innovative Marine Jebao Kamoer Marine Pure Milwaukee Instruments Neptune Systems NYOS Orca Labs Polyp Lab Pinpoint Pure Aquatic Reef Octopus Rowa Salifert Tropic Marin WaterBox Aquariums MacroRocks Aquarium Systems Aquarium System Solution Other Shop by Category Additives - Supplements Medications - Pest Control Nutrient Control Aquarium Lighting Powerheads - Wavemakers Protein Skimmer Filter & Reactor Media Water Pump - Skimmer Pump Foods - Fish Foods - Coral Water Testing Aquarium Cleaner Controllers - Dosing Pump - ATO Salt - Rock - Sand Fragging Supplies Aquarium RO/DI Systems Others Calculator Light Output Comparisons VorTech Flow Calculator Tropic Marin Smart Info Aquarium Volume Calculator Shop All Categories Featured Products 31 Shop by Category Aquarium Lighting 38 Protein Skimmer 39 Water Pump - Skimmer Pump 26 Powerheads - Wavemakers 20 Controllers - Dosing Pump - ATO 71 Reactors 22 Filter & Reactor Media 39 Water Testing 69 Additives - Supplements 55 Nutrient Control 21 Medications - Pest Control 7 Foods - Fish 13 Foods - Coral 10 Aquarium Cleaner 26 Salt - Rock - Sand 16 Fragging Supplies 15 Aquarium 7 Others 40 Shop by Brand Aquaillumination 24 Deep Sea 2 Hanna Instruments 19 Salifert 11 Other 4 Aquarium Systems 3 D-D Products 29 Aquarium System Solution 7 Focustronic 6 Aquarium Munster 11 EcoTech Marine 34 Flipper Cleaner 21 Innovative Marine 8 Jebao 6 Kamoer 21 Marine Pure 5 Milwaukee Instruments 11 Neptune Systems 32 NYOS 29 Orca Labs 4 Pinpoint 3 Polyp Lab 11 Pure Aquatic 2 Reef Octopus 67 Rowa 6 Tropic Marin 60 WaterBox Aquariums 5 MacroRocks 4 View All Shop by Category Others Jecod Auto Cooling Fan for aquariums Share Jecod Auto Cooling Fan for aquariums Free Shipping (West Malaysia) Above RM200 on order Online on order {{ productService.variationPriceMemberTag(variationSelected) }} {{ 'product.member_only' | translate }} {{shoplineProductReview.avg_score}} {{'product.product_review.stars' | translate}} | {{shoplineProductReview.total}} {{'product.product_review.reviews' | translate}} {{amazonProductReview.avg_rating}} {{'product.product_review.stars' | translate}} | {{amazonProductReview.total_comment_count}} {{'product.product_review.reviews' | translate}} {{ title.name_translations | translateModel }} : {{variationName[$index] | translateModel}} Quantity ADD TO CART In Stock Notification On Notify When in Stock Sign in/up now Add to Wishlist Sign in/up now The maximum quantity per submit is 99999 This quantity is invalid, please enter a valid quantity. Sold Out Not enough stock. Your item was not added to your cart. Not enough stock. Please adjust your quantity. Limit {{ product.max_order_quantity }} per order. Only {{ quantityOfStock }} item(s) left. Please message the shop owner for order details. MESSAGE In Stock Notification On Notify When in Stock Sign in/up now Add to Wishlist Sign in/up now Share Description html PUBLIC \\\"-//W3C//DTD HTML 4.0 Transitional//EN\\\" \\\"http://www.w3.org/TR/REC-html40/loose.dtd\\\" Jecod Auto Cooling Fan for aquariums \\u00b7 Modern cross-flow fan with broad airflow \\u00b7 Indispensable in high summer \\u00b7 Cools aquarium by 2-4 degree by evaporative cooling \\u00b7 High running smoothness due to tangential fan wheel \\u00b7 Easy to mouth on the aquarium edge (max 20mm) \\u00b7 DC12V power supply unit Related Products Polyp Lab REFUEL 500ml RM335.00 Polyp Lab ONE 500ml RM95.00 Jecod SCP + M Series Smart 3in1 (AP + WiFi + Manual) Cross-Flow Pump RM580.00 ~ RM720.00 Marine Pure ROCK RM104.00 ~ RM168.00 2020 \\u00a9 AKUARIUM BATU KARANG LAUT SDN BHD \\\" Return Policy I Terms and Conditions \\\"\\n\\ntukar ke JSON using schema {\\n    \\\"name\\\": \\\"QAS\\\",\\n    \\\"description\\\": \\\"Correctly extracted `QAS` with all the required parameters with correct types\\\",\\n    \\\"parameters\\\": {\\n        \\\"$defs\\\": {\\n            \\\"QA\\\": {\\n                \\\"properties\\\": {\\n                    \\\"question\\\": {\\n                        \\\"type\\\": \\\"string\\\"\\n                    },\\n                    \\\"answer\\\": {\\n                        \\\"type\\\": \\\"string\\\"\\n                    }\\n                },\\n                \\\"required\\\": [\\n                    \\\"question\\\",\\n                    \\\"answer\\\"\\n                ],\\n                \\\"type\\\": \\\"object\\\"\\n            }\\n        },\\n        \\\"properties\\\": {\\n            \\\"qa\\\": {\\n                \\\"items\\\": {\\n                    \\\"$ref\\\": \\\"#/$defs/QA\\\"\\n                },\\n                \\\"type\\\": \\\"array\\\"\\n            }\\n        },\\n        \\\"required\\\": [\\n            \\\"qa\\\"\\n        ],\\n        \\\"type\\\": \\\"object\\\"\\n    }\\n}\", \"output\": \"{\\\"name\\\": \\\"QAS\\\", \\\"arguments\\\": {\\\"qa\\\": [{\\\"question\\\": \\\"Apakah kegunaan Jecod Auto Cooling Fan untuk akuarium?\\\", \\\"answer\\\": \\\"Jecod Auto Cooling Fan digunakan untuk mendinginkan akuarium dengan cara pendinginan evaporatif dan dapat menurunkan suhu akuarium sebanyak 2-4 darjah.\\\"}, {\\\"question\\\": \\\"Bagaimana cara memasang Jecod Auto Cooling Fan pada akuarium?\\\", \\\"answer\\\": \\\"Jecod Auto Cooling Fan mudah dipasang pada tepi akuarium dengan ketebalan maksimum 20mm.\\\"}, {\\\"question\\\": \\\"Apakah jenis daya yang digunakan oleh Jecod Auto Cooling Fan?\\\", \\\"answer\\\": \\\"Jecod Auto Cooling Fan menggunakan daya DC12V.\\\"}]}}\"}\n",
      "\n",
      "{\"prompt_input\": null, \"input\": \"JSON berdasarkan schema {\\n    \\\"name\\\": \\\"QAS\\\",\\n    \\\"description\\\": \\\"Correctly extracted `QAS` with all the required parameters with correct types\\\",\\n    \\\"parameters\\\": {\\n        \\\"$defs\\\": {\\n            \\\"QA\\\": {\\n                \\\"properties\\\": {\\n                    \\\"question\\\": {\\n                        \\\"type\\\": \\\"string\\\"\\n                    },\\n                    \\\"answer\\\": {\\n                        \\\"type\\\": \\\"string\\\"\\n                    }\\n                },\\n                \\\"required\\\": [\\n                    \\\"question\\\",\\n                    \\\"answer\\\"\\n                ],\\n                \\\"type\\\": \\\"object\\\"\\n            }\\n        },\\n        \\\"properties\\\": {\\n            \\\"qa\\\": {\\n                \\\"items\\\": {\\n                    \\\"$ref\\\": \\\"#/$defs/QA\\\"\\n                },\\n                \\\"type\\\": \\\"array\\\"\\n            }\\n        },\\n        \\\"required\\\": [\\n            \\\"qa\\\"\\n        ],\\n        \\\"type\\\": \\\"object\\\"\\n    }\\n}\\n\\n{{ 'fb_in_app_browser_popup.desc' | translate }} {{ 'fb_in_app_browser_popup.copy_link' | translate }} {{ 'close' | translate }} {{ 'in_app_browser_popup.desc' | translate }} {{ 'close' | translate }} {{word('consent_title')}} {{word('consent_desc')}} {{word('read_more')}} {{word('settings')}} {{word('accept')}} {{word('consent_title')}} {{word('consent_desc')}} {{word('read_more')}} {{setting.title}} {{setting.description}} {{word('save_preferences')}} Navigation About us Shop by Brand Aquaillumination Aquarium Munster D-D Products Deep Sea EcoTech Marine Flipper Cleaner Focustronic Hanna Instruments Innovative Marine Jebao Kamoer Marine Pure Milwaukee Instruments Neptune Systems NYOS Orca Labs Polyp Lab Pinpoint Pure Aquatic Reef Octopus Rowa Salifert Tropic Marin WaterBox Aquariums MacroRocks Aquarium Systems Aquarium System Solution Other Shop by Category Additives - Supplements Medications - Pest Control Nutrient Control Aquarium Lighting Powerheads - Wavemakers Protein Skimmer Filter & Reactor Media Water Pump - Skimmer Pump Foods - Fish Foods - Coral Water Testing Aquarium Cleaner Controllers - Dosing Pump - ATO Salt - Rock - Sand Fragging Supplies Aquarium RO/DI Systems Others Calculator Light Output Comparisons VorTech Flow Calculator Tropic Marin Smart Info Aquarium Volume Calculator Shop All Categories Featured Products Shop by Category Aquarium Lighting Protein Skimmer Water Pump - Skimmer Pump Powerheads - Wavemakers Controllers - Dosing Pump - ATO Reactors Filter & Reactor Media Water Testing Additives - Supplements Nutrient Control Medications - Pest Control Foods - Fish Foods - Coral Aquarium Cleaner Salt - Rock - Sand Fragging Supplies Aquarium Others Shop by Brand Aquaillumination Deep Sea Hanna Instruments Salifert Other Aquarium Systems D-D Products Aquarium System Solution Focustronic Aquarium Munster EcoTech Marine Flipper Cleaner Innovative Marine Jebao Kamoer Marine Pure Milwaukee Instruments Neptune Systems NYOS Orca Labs Pinpoint Polyp Lab Pure Aquatic Reef Octopus Rowa Tropic Marin WaterBox Aquariums MacroRocks Account Sign in Sign up Other Settings MESSAGE English {{ currentCurrency.name }} Shopping Cart Your Shopping Cart is empty. {{ 'product.bundled_products.label' | translate }} {{ 'product.bundle_group_products.label' | translate }} {{ 'product.buyandget.label' | translate }} {{ 'product.gift.label' | translate }} {{ 'product.addon_products.label' | translate }} {{item.product.title_translations|translateModel}} {{ field.name_translations | translateModel }} {{item.variation.name}} {{ childProduct.title_translations | translateModel }} {{ getChildVariationShorthand(childProduct.child_variation) }} {{ getSelectedItemDetail(selectedChildProduct, item).childProductName }} x {{ selectedChildProduct.quantity || 1 }} {{ getSelectedItemDetail(selectedChildProduct, item).childVariationName }} {{item.quantity}} x RM0 {{ item.unit_point }} Point Remove {{ 'product.addon_products.label' | translate }} {{addonItem.product.title_translations|translateModel}} {{addonItem.quantity}} x {{ mainConfig.merchantData.base_currency.alternate_symbol + \\\"0\\\" }} Remove Checkout LANGUAGE English Bahasa Melayu \\u7b80\\u4f53\\u4e2d\\u6587 Currency $ HKD \\u00a5 CNY $ TWD $ USD $ SGD \\u20ac EUR $ AUD \\u00a3 GBP \\u20b1 PHP RM MYR \\u0e3f THB \\u062f.\\u0625 AED \\u00a5 JPY K MMK $ BND \\u20a9 KRW Rp IDR \\u20ab VND $ CAD MENU LOG IN CART ( {{currentCart.getItemCount()}} ) MESSAGE English English Bahasa Melayu \\u7b80\\u4f53\\u4e2d\\u6587 - {{ currentCurrency.symbol }} ------ {{ currentCurrency.name }} {{ currency.name }} About us Shop by Brand Aquaillumination Aquarium Munster D-D Products Deep Sea EcoTech Marine Flipper Cleaner Focustronic Hanna Instruments Innovative Marine Jebao Kamoer Marine Pure Milwaukee Instruments Neptune Systems NYOS Orca Labs Polyp Lab Pinpoint Pure Aquatic Reef Octopus Rowa Salifert Tropic Marin WaterBox Aquariums MacroRocks Aquarium Systems Aquarium System Solution Other Shop by Category Additives - Supplements Medications - Pest Control Nutrient Control Aquarium Lighting Powerheads - Wavemakers Protein Skimmer Filter & Reactor Media Water Pump - Skimmer Pump Foods - Fish Foods - Coral Water Testing Aquarium Cleaner Controllers - Dosing Pump - ATO Salt - Rock - Sand Fragging Supplies Aquarium RO/DI Systems Others Calculator Light Output Comparisons VorTech Flow Calculator Tropic Marin Smart Info Aquarium Volume Calculator Shop All Categories Featured Products 31 Shop by Category Aquarium Lighting 38 Protein Skimmer 39 Water Pump - Skimmer Pump 26 Powerheads - Wavemakers 20 Controllers - Dosing Pump - ATO 71 Reactors 22 Filter & Reactor Media 39 Water Testing 69 Additives - Supplements 55 Nutrient Control 21 Medications - Pest Control 7 Foods - Fish 13 Foods - Coral 10 Aquarium Cleaner 26 Salt - Rock - Sand 16 Fragging Supplies 15 Aquarium 7 Others 40 Shop by Brand Aquaillumination 24 Deep Sea 2 Hanna Instruments 19 Salifert 11 Other 4 Aquarium Systems 3 D-D Products 29 Aquarium System Solution 7 Focustronic 6 Aquarium Munster 11 EcoTech Marine 34 Flipper Cleaner 21 Innovative Marine 8 Jebao 6 Kamoer 21 Marine Pure 5 Milwaukee Instruments 11 Neptune Systems 32 NYOS 29 Orca Labs 4 Pinpoint 3 Polyp Lab 11 Pure Aquatic 2 Reef Octopus 67 Rowa 6 Tropic Marin 60 WaterBox Aquariums 5 MacroRocks 4 Sort by Newest to Oldest Oldest to Newest Price: High to Low Price: Low to High Items per page 24 Items per page 48 Items per page 72 Items per page View All Shop by Category Medications - Pest Control ADD TO CART Salifert Flatworm Exit RM75.00 ADD TO CART Tropic Marin Coral Clean 250ml RM95.00 ADD TO CART Tropic Marin Pro-Tect RM70.00 ~ RM165.00 ADD TO CART Tropic Marin Elimi Aiptasia 50ml RM65.00 ADD TO CART Orca Labs RES-Q-MED 50ml RM150.00 ADD TO CART Polyp Lab REEF PRIMER RM70.00 ~ RM340.00 ADD TO CART Polyp Lab MEDIC 30ml RM179.00 2020 \\u00a9 AKUARIUM BATU KARANG LAUT SDN BHD \\\" Return Policy I Terms and Conditions \\\"\", \"output\": \"{\\\"name\\\": \\\"QAS\\\", \\\"arguments\\\": {\\\"qa\\\": [{\\\"question\\\": \\\"Apakah jenis produk yang terdapat dalam kategori 'Medications - Pest Control'?\\\", \\\"answer\\\": \\\"Produk yang terdapat dalam kategori 'Medications - Pest Control' adalah Salifert Flatworm Exit, Tropic Marin Coral Clean, Tropic Marin Pro-Tect, Tropic Marin Elimi Aiptasia, Orca Labs RES-Q-MED, Polyp Lab REEF PRIMER, dan Polyp Lab MEDIC.\\\"}, {\\\"question\\\": \\\"Apakah fungsi Tropic Marin Pro-Tect?\\\", \\\"answer\\\": \\\"Tropic Marin Pro-Tect berfungsi sebagai perlindungan terhadap penyakit dan parasit pada ikan laut.\\\"}, {\\\"question\\\": \\\"Apakah syarat-syarat dalam 'Terms and Conditions' AKUARIUM BATU KARANG LAUT SDN BHD?\\\", \\\"answer\\\": \\\"Syarat-syarat dalam 'Terms and Conditions' AKUARIUM BATU KARANG LAUT SDN BHD termasuk polisi pengembalian produk dan terma-terma penggunaan laman web mereka.\\\"}]}}\"}\n",
      "\n",
      "{\"prompt_input\": null, \"input\": \"convert to JSON using schema {\\n    \\\"name\\\": \\\"QAS\\\",\\n    \\\"description\\\": \\\"Correctly extracted `QAS` with all the required parameters with correct types\\\",\\n    \\\"parameters\\\": {\\n        \\\"$defs\\\": {\\n            \\\"QA\\\": {\\n                \\\"properties\\\": {\\n                    \\\"question\\\": {\\n                        \\\"type\\\": \\\"string\\\"\\n                    },\\n                    \\\"answer\\\": {\\n                        \\\"type\\\": \\\"string\\\"\\n                    }\\n                },\\n                \\\"required\\\": [\\n                    \\\"question\\\",\\n                    \\\"answer\\\"\\n                ],\\n                \\\"type\\\": \\\"object\\\"\\n            }\\n        },\\n        \\\"properties\\\": {\\n            \\\"qa\\\": {\\n                \\\"items\\\": {\\n                    \\\"$ref\\\": \\\"#/$defs/QA\\\"\\n                },\\n                \\\"type\\\": \\\"array\\\"\\n            }\\n        },\\n        \\\"required\\\": [\\n            \\\"qa\\\"\\n        ],\\n        \\\"type\\\": \\\"object\\\"\\n    }\\n}\\n\\ntext: 1 Sell Home Buy Cars for sale Used Cars New Cars Recon Cars Kereta Murah Hot Deals CARSOME Certified Certified Pre-owned BMW Premium Selection Sell Sell Your Car Create Ad FREE How to sell your car New Cars New Car Deals NEW New Car Price List Finance Car Loan Car Insurance Car Insurance Comparison Extended Warranty News All News Auto News Insights Reviews Buying Guide Electric Vehicle (EV) Photos Videos Events Event Services Hire us! Become a Partner Upcoming Events Car of The Year 2022 Past Events View All Past Events Login Login Login as Dealer / Agent or Register Register Register as Dealer / Agent My Inventory Profile Saved Cars Create Ad FREE Log Out Sell Your Car EN EN English BM Bahasa Malaysia CN \\u4e2d\\u6587 Login Register Register as Dealer / Agent For Businesses and Sales Agents My Account My Inventory Profile Saved Cars Create Ad FREE Log Out Home Buy Cars for sale Used Cars New Cars Recon Cars Kereta Murah Hot Deals CARSOME Certified Certified Pre-owned BMW Premium Selection Sell Sell Your Car Create Ad FREE How to sell your car New Cars New Car Deals NEW New Car Price List Finance Car Loan Car Insurance Car Insurance Comparison Extended Warranty News All News Auto News Insights Reviews Buying Guide Electric Vehicle (EV) Photos Videos Events Event Services Hire us! Become a Partner Upcoming Events Car of The Year 2022 Past Events View All Past Events Language EN English Bahasa Malaysia \\u4e2d\\u6587 Download our app Need help? Call us Home New Cars Ford Ranger Wildtrak High Rider Updated on: June 05, 2022 New LOWEST PRICE IN TOWN WILDTRAK 2.0 BI TURBO 2021 - Cars for sale Updated on: June 05, 2022 use class \\\".icon-svg--negative\\\" when added <svg class=\\\"icon-svg icon-svg--20 icon-svg--muted icon-svg--inline svg-favorite u-margin-right-xs\\\"> <use xlink:href=\\\"#svg-favorite-outline\\\"></use> </svg> Save Saved Save Compare Share Report RM 1,854 / month RM 143,000 11 +6 Condition New Car Manufacture Year 2021 Mileage 0 - 5K km Color Black Engine Capacity 1996 cc Transmission Automatic Seat Capacity 5 Seller Notes Specifications Equipment Say Carlist.my for the best deal TO ALL VALUED CUSTOMERS HERE WE OFFER BEST PRICE IN TOWN **** CALL ME FORD Kelly **** **** CALL ME FORD Kelly **** https://wasap.my/6122862933 * FAST & EASY LOAN APPROVAL * STRONG CONNECTION WITH BANK * TRADE IN ACCEPTED * READY STOCK !!! BEST REBATE IN TOWN XLT PLUS 2.0 - WILDTRAK 2.0 RAPTOR 2.0 *BEST PRICE BEST PRICE, Harga terbaik murah *Loan Easy Approved , loan senang approved\\\\ Loan Akan Usahakan SAMPAI LULUS Tanpa Apa-Apa Barayan Dari Pada Anda, DISINI MASIH ADA HARAPAN !!!* -Loan Easy Approve- ~ SEGALA MASALAH BOLEH DIBINCANG, JANJI DAPAT KERETA \\u2013No Worry- ~ LUAR NEGERI BOLEH DIURUS !! \\u2013Satu Malaysia- HUBUNGI SEGERA UNTUK DISKUAN YANG MENARIK !! ------------------------------------------------------------------------------------------------------------- *** Promosi yang anda akan puaskan - Satisfy *** Perkhidmatan yang baik akan diberikan \\u2013 Best Service *** Tukar beli kereta dengan harga yang terbaik dalam market \\u2013 High Trade In \\u2714Syarikat yang boleh dipercayai dengan perdagangan berasaskan nilai tinggi \\u2714Sahkan anda akan mendapat tawaran terbaik di bandar -------------------------------------------------------------------------------------------------------------- *Free Gift From\", \"output\": \"{\\\"name\\\": \\\"QAS\\\", \\\"arguments\\\": {\\\"qa\\\": [{\\\"question\\\": \\\"Apakah jenis kereta yang dijual di laman web ini?\\\", \\\"answer\\\": \\\"Laman web ini menjual kereta terpakai, kereta baru, dan kereta recon.\\\"}, {\\\"question\\\": \\\"Adakah laman web ini menyediakan perkhidmatan jual beli kereta?\\\", \\\"answer\\\": \\\"Ya, laman web ini menyediakan perkhidmatan jual beli kereta serta menyediakan perkhidmatan pinjaman kereta dan perbandingan insurans kereta.\\\"}, {\\\"question\\\": \\\"Apakah promosi yang ditawarkan oleh penjual kereta di laman web ini?\\\", \\\"answer\\\": \\\"Penjual kereta di laman web ini menawarkan promosi harga terbaik, kemudahan pinjaman yang mudah, dan tawaran tukar beli kereta dengan harga yang tinggi.\\\"}]}}\"}\n",
      "\n",
      "{\"prompt_input\": null, \"input\": \"teks: \\ud835\\udc06\\ud835\\udc2e\\ud835\\udc1a\\ud835\\udc2b\\ud835\\udc1a\\ud835\\udc27\\ud835\\udc2d\\ud835\\udc1e\\ud835\\udc1e\\\" You can return your car for us, and get the FULL REFUND within 5 days Without Question Asked. \\ud83d\\ude98 VOLKSWAGEN GOLF GTi 2.0 AUTO \\ud83d\\ude98 GENUINE YEAR MADE 2007 \\u2b50VERIFIED\\u2b50 \\ud83d\\ude98 MUST VIEW RARE UNIT \\u2714\\ufe0f Upgrade Stage 2 \\u2b50 \\u2714\\ufe0f FULL EXHAUST WITH FREE FLOW CATALYTIC CONVERTOR \\u2714\\ufe0f FULL BOOST 1.3 BAR @ 1700 RPM \\u2714\\ufe0f CONSTANT PRESSURE 1.2 BAR \\u2714\\ufe0f PRESSURE AT REVLIMIT 1.1 BAR \\u2714\\ufe0f REVLIMIT 7000 RPM \\u2714\\ufe0f HORSE POWER 275HP \\u2b50 \\u2714\\ufe0f TORQUE 380NM \\u2714\\ufe0f TOTAL UPGRADE WORTH MORE THAN RM30,000 \\u2b50 \\u2714\\ufe0f Full Installed Body Kit \\u2714\\ufe0f 18 Inch \\u2714\\ufe0f 1 Owner \\u2714\\ufe0f Clean Interior \\u2714\\ufe0f Non Smoking \\u2714\\ufe0f Leather Steering Wheel \\u2714\\ufe0f Multi Function Steering Business Hour: Monday-Saturday 9:30am To 7:00pm Sunday & Public Holiday 10:30am To 5:00pm Address (Trailblazer Automobile Sdn Bhd): Lot PT 2861, Jalan Cheras Batu 9, 43200 Cheras, Selangor D.E. Waze: Trailblazer Automobile Sdn Bhd ------------------------------------------------------------------ ((( Trailblazer Automobile SDN BHD ))) A trusted company since 2001. Total customer satisfaction is our top priority. Information published in our advertisements are trustworthy and guaranteed, especially the year of manufacture. Good relationship with our panel of bankers assists us in maximizing loan approval. We have a team of car professionals to assist buyers and provide free consultation. We take seriously after-sales service, to guarantee proper transfer of ownership and on-time delivery of cars. View More Transmission Transmission Automatic Number of Gears 6 General Doors 5 Seat Capacity 5 Assembled Official Import Engine Specifications Engine CC 1984 Bore (mm) 82.5 Stroke (mm) 92.8 Compression Ratio 10.3 Peak Power (hp) 200 Peak Torque (Nm) 280 Engine Type Piston Direct Injection Direct Injection Aspiration Turbo intercooled Fuel Type Petrol - Unleaded (ULP) Performance & Economy CO2 Emission 189 0-100mk/h (seconds) 6.9 Top Speed (km/h) 233 Dimensions & Weight Length (mm) 4216 Width (mm) 1759 Height (mm) 1466 Wheel Base (mm) 2578 Front Thread 1539 Rear Thread 1528 Kerb Weight (kg) 1372 Fuel Tank (litres) 55 Brakes Front Brakes Ventilated discs Rear Brakes Discs Suspensions Front Suspension Macpherson Strut Rear Suspension Live Axle Steering Steering Type Rack and Pinion Tyres & Wheels Front Tyre 225/40 R18 Rear Tyre 225/40 R18 Front Rim (inches) 18 Rear Rim (inches) 18 Comfort Air-conditioning Air-conditioning, Climate Control Interior lighting Mirror, Auto-Dimming Inside Leather seats Seat trim, leather Leather steering Steering wheel, leather bound Power driver seat Seat, Driver's - Electric Adjustment Other Heat Insulation Glass, Intermittent Wipers, Pedals, Aluminum, Spoiler/skirt, rear, Sport Seats, Sunvisors w/ Illuminated Vanity Mirrors, Suspension-Sport Convenience Auto wipers Wipers, Rain Sensing Electric steering adjustment Steering, Electrical Tilt/Rake Adjustable Parking sensor Park Distance Control (PDC), Reverse/Parking aid/sensor Remote locking Central locking, remote Steering wheel controls Multi-function Steering Wheel, Steering-wheel gearshift paddles Entertainment CD Audio - CD changer Lighting Front foglamps Fog lights, Front Headlamps Headlights, Bi-Xenon Rear foglamps Fog Lights, Rear Side mirror turning indicators Side Mirror,Turning light Safety ABS/EBD Anti-lock Braking System (ABS), Brake Assist System (BA/BAS) Alarm Alarm - Immobilizer Curtain Airbags Airbags/curtain, rear side, Airbags/curtains, Front Side-Body Front Airbags Airbags, dual front Seat belts Seat Belt Pretensioners Stability control Electronic Differential Lock (EDL), Electronic\\n\\ntukar ke JSON using schema {\\n    \\\"name\\\": \\\"QAS\\\",\\n    \\\"description\\\": \\\"Correctly extracted `QAS` with all the required parameters with correct types\\\",\\n    \\\"parameters\\\": {\\n        \\\"$defs\\\": {\\n            \\\"QA\\\": {\\n                \\\"properties\\\": {\\n                    \\\"question\\\": {\\n                        \\\"type\\\": \\\"string\\\"\\n                    },\\n                    \\\"answer\\\": {\\n                        \\\"type\\\": \\\"string\\\"\\n                    }\\n                },\\n                \\\"required\\\": [\\n                    \\\"question\\\",\\n                    \\\"answer\\\"\\n                ],\\n                \\\"type\\\": \\\"object\\\"\\n            }\\n        },\\n        \\\"properties\\\": {\\n            \\\"qa\\\": {\\n                \\\"items\\\": {\\n                    \\\"$ref\\\": \\\"#/$defs/QA\\\"\\n                },\\n                \\\"type\\\": \\\"array\\\"\\n            }\\n        },\\n        \\\"required\\\": [\\n            \\\"qa\\\"\\n        ],\\n        \\\"type\\\": \\\"object\\\"\\n    }\\n}\", \"output\": \"{\\\"name\\\": \\\"QAS\\\", \\\"arguments\\\": {\\\"qa\\\": [{\\\"question\\\": \\\"Apakah kelebihan utama kereta Volkswagen Golf GTi 2.0 Auto ini?\\\", \\\"answer\\\": \\\"Kereta Volkswagen Golf GTi 2.0 Auto ini telah diupgrade ke tahap 2 dengan kos lebih daripada RM30,000. Ia mempunyai kuasa kuda sebanyak 275HP dan tork sebanyak 380NM.\\\"}, {\\\"question\\\": \\\"Adakah kereta ini mempunyai jaminan pulangan wang penuh?\\\", \\\"answer\\\": \\\"Ya, anda boleh mengembalikan kereta ini dalam masa 5 hari dan mendapat pulangan wang penuh tanpa sebarang soalan.\\\"}, {\\\"question\\\": \\\"Di mana alamat Trailblazer Automobile Sdn Bhd?\\\", \\\"answer\\\": \\\"Alamat Trailblazer Automobile Sdn Bhd ialah Lot PT 2861, Jalan Cheras Batu 9, 43200 Cheras, Selangor D.E.\\\"}]}}\"}\n",
      "\n",
      "{\"prompt_input\": null, \"input\": \"convert to JSON using schema {\\n    \\\"name\\\": \\\"QAS\\\",\\n    \\\"description\\\": \\\"Correctly extracted `QAS` with all the required parameters with correct types\\\",\\n    \\\"parameters\\\": {\\n        \\\"$defs\\\": {\\n            \\\"QA\\\": {\\n                \\\"properties\\\": {\\n                    \\\"question\\\": {\\n                        \\\"type\\\": \\\"string\\\"\\n                    },\\n                    \\\"answer\\\": {\\n                        \\\"type\\\": \\\"string\\\"\\n                    }\\n                },\\n                \\\"required\\\": [\\n                    \\\"question\\\",\\n                    \\\"answer\\\"\\n                ],\\n                \\\"type\\\": \\\"object\\\"\\n            }\\n        },\\n        \\\"properties\\\": {\\n            \\\"qa\\\": {\\n                \\\"items\\\": {\\n                    \\\"$ref\\\": \\\"#/$defs/QA\\\"\\n                },\\n                \\\"type\\\": \\\"array\\\"\\n            }\\n        },\\n        \\\"required\\\": [\\n            \\\"qa\\\"\\n        ],\\n        \\\"type\\\": \\\"object\\\"\\n    }\\n}\\n\\ntext: +258 +260 +261 +262 +263 +264 +265 +266 +267 +268 +269 +290 +291 +297 +298 +299 +350 +351 +352 +353 +354 +355 +356 +357 +358 +359 +370 +371 +372 +373 +374 +375 +376 +377 +378 +380 +381 +382 +385 +386 +387 +389 +420 +421 +423 +500 +501 +502 +503 +504 +505 +506 +507 +508 +509 +590 +591 +592 +593 +595 +597 +598 +599 +670 +672 +673 +674 +675 +676 +677 +678 +679 +680 +681 +682 +683 +685 +686 +687 +688 +689 +690 +691 +692 +850 +852 +853 +855 +856 +870 +880 +886 +960 +961 +962 +963 +964 +965 +966 +967 +968 +971 +972 +973 +974 +975 +976 +977 +992 +993 +994 +995 +996 +998 +1242 +1246 +1264 +1268 +1284 +1340 +1345 +1441 +1473 +1599 +1649 +1664 +1670 +1671 +1684 +1758 +1767 +1784 +1809 +1868 +1869 +1876 Update & Verifiy Your IVR verification call has been initiated. Want to change your mobile number? Update mobile number Oops! You have reached your verification call limit for today. We have saved your mobile number successfully! You may retry tomorrow. Your mobile number has been succesfully updated. Your IVR verification call has been initiated. \\u00d7 Are you an international student? Visit the International Students section on our website to find out the latest news and everything you need to know about studying in Malaysia. Yes, take me there Home Get Info Articles META MATHS LEAGUE 2022 Articles META MATHS LEAGUE 2022 Published by Afterschool.my on Nov 07, 2022 , 04:27 pm Facebook Twitter What is our math lecturers\\u2019 favourite season? ----------------- It\\u2019s SUMmer season. Alright, that was a bit corny, but we all know that learning math isn't always the most fun thing to do. Nevertheless, with a little help from gamification, math puzzles, and other tools, the School of Mathematics, Actuarial & Quantitative Studies (SoMAQS) at Asia Pacific University of Technology & Innovation (APU) turned the tables and made math learning much more enjoyable for students! The Meta Maths League 2022 (MML22) \\u2014 formerly known as the Inter-school Mathematics Competition was held on 24th September 2022 to raise awareness of the importance of mathematics among young people. The league was open to all Form 4, Form 5, and Lower Form 6 students from schools throughout Malaysia. The league allows students to participate and compete in mathematics competitions alongside other participants from various regions in a safe environment and with exposure to the university campus. With high spirits, the session started by the Head of School, Associate Professor Dr. Rajasegeran Ramasamy and the director of MML22, Ms. Sarah Hj Musa with remarks that this exposure will certainly add value to their personal growth and their future academic pursuits. This year, eight schools from Kuala Lumpur, Selangor, Perak and Negeri Sembilan participated in the competition with a total of 26 teams with 95 participants. All the teams completed 3 pit stops which were Maths Crafting, Mathletes and Maths Cross Puzzle, before qualifying for the final round to compete in a game \\u2014 Tic-Tac-toe. Round one \\u2014 Maths Crafting, contestants had to use an online graphing application called Desmos to replicate a specific piece of art. Through this activity, participants learned and discovered how various shapes of graphs can be used to produce an artistic output \\u2014 not to forget, a fun hands-on experience in using Desmos! Moving on to the Mathletes round, students were given various mathematical problems to solve through an online platform (Quizizz). This game demonstrates their speed, precision, and mathematical competency in solving. While Maths Cross Puzzle, students were put on a test to define and solve mathematics equations by completing the Mathematics Cross Puzzle, along with picture logic puzzles \\u2014 Nonograms to reveal a hidden pixel art-like picture. After completing all the 3 pit stops, only the top 5 teams with the highest scores advanced to the final round \\u2014 the Tic-Tac-Toe. The teams that succeeded in the final round were SM Sains Alam Shah (1 team), Matrix Global School (2 teams) and SM Sains Tapah (2 teams). Held at Auditorium 1, the grand final round was the climax of the event which had the participants and audiences cheering alongside the final teams' challenges on the auditorium stage. Frowning and depression abounded as the final teams competing with each other showed no mercy on pathing their way to victory. After an intense round, SM Sains Alam Shah was announced as the champion of the Meta Maths League 2022, walking away with an RM800 cash prize. The 1st runner-up and 2nd runner-up were teams from Matrix Global School, which took home RM600 and RM400, respectively. The wheel of names was conducted after the final round saw 10 lucky participants winning APU merchandise. All the participants were awarded certificates upon completion of the league. The event ended with a group photo session with all the participants, school teachers and lecturers. About Asia Pacific University of Technology & Innovation (APU) The Asia Pacific University of Technology & Innovation (APU) is among Malaysia\\u2019s Premier Private Universities. As the First Malaysian University to achieve an overall rating of 5 Stars Plus in the latest QS Stars Rating awards, APU was also announced as among the Highest Rated Emerging Universities in Malaysia, being rated 5-STAR (EXCELLENT Rating) under the latest SETARA Ratings. APU offers a wide range of technology-focused degree programmes to nurture students into professionals and prepare them for challenging careers and roles in business and society globally. The multi-cultural student community over here comprises 13,000 students from over 130 countries with a 100% employability* rate upon graduation. APU has also established an excellent reputation as an award-winning university, having received over 400 distinguished accolades at both the local and international levels. For more information, please visit www.apu.edu.my RELATED POSTS This Technology-savvy Institution Will Help You Le Study SACE at INTEC Education College This Technology-savvy Institution Will Help You Le Study SACE at INTEC Education College Leave a Comment Latest News Career Advice Breaking Gender Barriers In A Male-Dominated Field Apr 19, 2023 Afterschool.my Are you aware of the acute shortage of engineers in Malaysia right now? According to Chang Lih Kang, Minister of Science, Technology, and Innovation (MOSTI), to\", \"output\": \"{\\\"name\\\": \\\"QAS\\\", \\\"arguments\\\": {\\\"qa\\\": [{\\\"question\\\": \\\"Apakah Meta Maths League 2022?\\\", \\\"answer\\\": \\\"Meta Maths League 2022 adalah pertandingan matematik yang diadakan oleh School of Mathematics, Actuarial & Quantitative Studies (SoMAQS) di Asia Pacific University of Technology & Innovation (APU) untuk meningkatkan kesedaran tentang kepentingan matematik di kalangan pelajar muda.\\\"}, {\\\"question\\\": \\\"Berapa jumlah pasukan yang menyertai pertandingan Meta Maths League 2022?\\\", \\\"answer\\\": \\\"Terdapat 26 pasukan dari 8 buah sekolah di Kuala Lumpur, Selangor, Perak dan Negeri Sembilan yang menyertai pertandingan Meta Maths League 2022.\\\"}, {\\\"question\\\": \\\"Siapakah juara Meta Maths League 2022?\\\", \\\"answer\\\": \\\"SM Sains Alam Shah merupakan juara Meta Maths League 2022 dan memenangi hadiah wang tunai sebanyak RM800.\\\"}]}}\"}\n",
      "\n",
      "{\"prompt_input\": null, \"input\": \"text `{{ 'fb_in_app_browser_popup.desc' | translate }} {{ 'fb_in_app_browser_popup.copy_link' | translate }} {{ 'close' | translate }} {{ 'in_app_browser_popup.desc' | translate }} {{ 'close' | translate }} {{word('consent_title')}} {{word('consent_desc')}} {{word('read_more')}} {{word('settings')}} {{word('accept')}} {{word('consent_title')}} {{word('consent_desc')}} {{word('read_more')}} {{setting.title}} {{setting.description}} {{word('save_preferences')}} Welcome English English \\u7b80\\u4f53\\u4e2d\\u6587 $ HKD \\u00a5 CNY $ TWD $ USD $ SGD \\u20ac EUR $ AUD \\u00a3 GBP \\u20b1 PHP RM MYR \\u0e3f THB \\u062f.\\u0625 AED \\u00a5 JPY K MMK $ BND \\u20a9 KRW Rp IDR \\u20ab VND $ CAD Home About Privacy Policy Terms and Conditions Delivery & Return Policy japanese ramen Your Shopping Cart is empty. {{ 'product.bundled_products.label' | translate }} {{ 'product.bundle_group_products.label' | translate }} {{ 'product.buyandget.label' | translate }} {{ 'product.gift.label' | translate }} {{ 'product.addon_products.label' | translate }} {{item.product.title_translations|translateModel}} {{ field.name_translations | translateModel }} {{ childProduct.title_translations | translateModel }} {{ getChildVariationShorthand(childProduct.child_variation) }} {{ getSelectedItemDetail(selectedChildProduct, item).childProductName }} x {{ selectedChildProduct.quantity || 1 }} {{ getSelectedItemDetail(selectedChildProduct, item).childVariationName }} {{item.variation.name}} {{item.quantity}} x RM0 {{ item.unit_point }} Point Remove {{ 'product.addon_products.label' | translate }} {{addonItem.product.title_translations|translateModel}} {{addonItem.quantity}} x {{ mainConfig.merchantData.base_currency.alternate_symbol + \\\"0\\\" }} Remove {{ 'cart.checkout' | translate }} Home About Privacy Policy Terms and Conditions Delivery & Return Policy japanese ramen Categories Featured Products japanese ramen Sign in Sign up Message Shop English Language English \\u7b80\\u4f53\\u4e2d\\u6587 Currency $ HKD \\u00a5 CNY $ TWD $ USD $ SGD \\u20ac EUR $ AUD \\u00a3 GBP \\u20b1 PHP RM MYR \\u0e3f THB \\u062f.\\u0625 AED \\u00a5 JPY K MMK $ BND \\u20a9 KRW Rp IDR \\u20ab VND $ CAD Privacy Policy Privacy Policy ============== This Privacy Policy describes Our policies and procedures on the collection, use and disclosure of Your information when You use the Service and tells You about Your privacy rights and how the law protects You. We use Your Personal data to provide and improve the Service. By using the Service, You agree to the collection and use of information in accordance with this Privacy Policy. Interpretation and Definitions ============================== Interpretation -------------- The words of which the initial letter is capitalized have meanings defined under the following conditions. The following definitions shall have the same meaning regardless of whether they appear in singular or in plural. Definitions ----------- For the purposes of this Privacy Policy: * Account means a unique account created for You to access our Service or parts of our Service. * Company (referred to as either \\\"the Company\\\", \\\"We\\\", \\\"Us\\\" or \\\"Our\\\" in this Agreement) refers to Accede Nutrition Sdn Bhd, 28-1, Jalan USJ1/1C, Regalia Business Centre 47620 Subang Jaya, Selangor, Malaysia. * Cookies are small files that are placed on Your computer, mobile device or any other device by a website, containing the details of Your browsing history on that website among its many uses. * Country refers to: Malaysia * Device means any device that can access the Service such as a computer, a mobile phone or a digital tablet. * Personal Data is any information that relates to an identified or identifiable individual. * Service refers to the Website. * Service Provider means any natural or legal person who processes the data on behalf of the Company. It refers to third-party companies or individuals employed by the Company to facilitate the Service, to provide the Service on behalf of the Company, to perform services related to the Service or to assist the Company in analyzing how the Service is used. * Third-party Social Media Service refers to any website or any social network website through which a User can log in or create an account to use the Service. * Usage Data refers to data collected automatically, either generated by the use of the Service or from the Service infrastructure itself (for example, the duration of a page visit). * Website refers to Accede Nutrition Sdn Bhd, accessible from https://www.accede.my * You means the individual accessing or using the Service, or the company, or other legal entity on behalf of which such individual is accessing or using the Service, as applicable. Collecting and Using Your Personal Data ======================================= Types of Data Collected ----------------------- Personal Data ~~~~~~~~~~~~~ While using Our Service, We may ask You to provide Us with certain personally identifiable information that can be used to contact or identify You. Personally identifiable information may include, but is not limited to: * Email address * Name * Phone number * Address, State, Postal code, City * Usage Data Usage Data ~~~~~~~~~~ Usage Data is collected automatically when using the Service. Usage Data may include information such as Your Device's Internet Protocol address (e.g. IP address), browser type, browser version, the pages of our Service that You visit, the time and date of Your visit, the time spent on those pages, unique device identifiers and other diagnostic data. When You access the Service by or through a mobile device, We may collect certain information automatically, including, but not limited to, the type of mobile device You use, Your mobile device unique ID, the IP address of Your mobile device, Your mobile operating system, the type of mobile Internet browser You use, unique device identifiers and other diagnostic data. We may also collect information that Your browser sends whenever You visit our Service or when You access the Service by or through a mobile device. Information from Third-Party Social Media Services ~~~~~~~~~~~~~~~~~~~~~~~~~~~~~~~~~~~~~~~~~~~~~~~~~~ The Company allows You to create an account and log in to use the Service through the following Third-party Social Media Services: * Facebook If You decide to register through or otherwise grant us access to a Third- Party Social Media Service, We may collect Personal data that is already associated with Your Third-Party Social Media Service's account, such as Your name, Your email address, Your activities or Your contact list associated with that account. You may also have the option of sharing additional information with the Company through Your Third-Party Social Media Service's account. If You choose to provide such information and Personal Data, during registration or otherwise, You are giving the Company permission to use, share, and store it in a manner consistent with this Privacy Policy. Tracking Technologies and Cookies ~~~~~~~~~~~~~~~~~~~~~~~~~~~~~~~~~ We use Cookies and similar tracking technologies to track the activity on Our Service and store`, convert to JSON using schema {\\n    \\\"name\\\": \\\"QAS\\\",\\n    \\\"description\\\": \\\"Correctly extracted `QAS` with all the required parameters with correct types\\\",\\n    \\\"parameters\\\": {\\n        \\\"$defs\\\": {\\n            \\\"QA\\\": {\\n                \\\"properties\\\": {\\n                    \\\"question\\\": {\\n                        \\\"type\\\": \\\"string\\\"\\n                    },\\n                    \\\"answer\\\": {\\n                        \\\"type\\\": \\\"string\\\"\\n                    }\\n                },\\n                \\\"required\\\": [\\n                    \\\"question\\\",\\n                    \\\"answer\\\"\\n                ],\\n                \\\"type\\\": \\\"object\\\"\\n            }\\n        },\\n        \\\"properties\\\": {\\n            \\\"qa\\\": {\\n                \\\"items\\\": {\\n                    \\\"$ref\\\": \\\"#/$defs/QA\\\"\\n                },\\n                \\\"type\\\": \\\"array\\\"\\n            }\\n        },\\n        \\\"required\\\": [\\n            \\\"qa\\\"\\n        ],\\n        \\\"type\\\": \\\"object\\\"\\n    }\\n}\", \"output\": \"{\\\"name\\\": \\\"QAS\\\", \\\"arguments\\\": {\\\"qa\\\": [{\\\"question\\\": \\\"Apakah itu Accede Nutrition Sdn Bhd?\\\", \\\"answer\\\": \\\"Accede Nutrition Sdn Bhd adalah syarikat yang menyediakan perkhidmatan melalui laman web https://www.accede.my.\\\"}, {\\\"question\\\": \\\"Apakah makna Data Peribadi?\\\", \\\"answer\\\": \\\"Data Peribadi merujuk kepada maklumat yang berkaitan dengan individu yang dikenal pasti atau boleh dikenal pasti.\\\"}, {\\\"question\\\": \\\"Apakah jenis maklumat yang mungkin diminta oleh Accede Nutrition Sdn Bhd?\\\", \\\"answer\\\": \\\"Maklumat yang mungkin diminta termasuk alamat e-mel, nama, nombor telefon, alamat, kod pos, bandar, dan data penggunaan.\\\"}]}}\"}\n",
      "\n",
      "{\"prompt_input\": null, \"input\": \"convert to JSON using schema {\\n    \\\"name\\\": \\\"QAS\\\",\\n    \\\"description\\\": \\\"Correctly extracted `QAS` with all the required parameters with correct types\\\",\\n    \\\"parameters\\\": {\\n        \\\"$defs\\\": {\\n            \\\"QA\\\": {\\n                \\\"properties\\\": {\\n                    \\\"question\\\": {\\n                        \\\"type\\\": \\\"string\\\"\\n                    },\\n                    \\\"answer\\\": {\\n                        \\\"type\\\": \\\"string\\\"\\n                    }\\n                },\\n                \\\"required\\\": [\\n                    \\\"question\\\",\\n                    \\\"answer\\\"\\n                ],\\n                \\\"type\\\": \\\"object\\\"\\n            }\\n        },\\n        \\\"properties\\\": {\\n            \\\"qa\\\": {\\n                \\\"items\\\": {\\n                    \\\"$ref\\\": \\\"#/$defs/QA\\\"\\n                },\\n                \\\"type\\\": \\\"array\\\"\\n            }\\n        },\\n        \\\"required\\\": [\\n            \\\"qa\\\"\\n        ],\\n        \\\"type\\\": \\\"object\\\"\\n    }\\n}\\n\\ntext: English \\u0627\\u0644\\u0639\\u0631\\u0628\\u064a\\u0629 Azerbaijani Catal\\u00e0 \\u4e2d\\u6587 Hrvatski \\u010ce\\u0161tina Dansk Nederlands English Estonian Persian Fran\\u00e7ais Deutsch \\u05e2\\u05d1\\u05e8\\u05d9\\u05ea Magyar Italiano Macedonian Norwegian Portugu\\u00eas Portugu\\u00eas Rom\\u00e2n\\u0103 \\u0420\\u0443\\u0441\\u0441\\u043a\\u0438\\u0439 Espa\\u00f1ol Svenska T\\u00fcrk\\u00e7e \\u0423\\u043a\\u0440\\u0430\\u0457\\u043d\\u0441\\u044c\\u043a\\u0430 Login Register View Cart Toggle navigation Home Store Browse All ----- Cloud Hosting Register a New Domain Transfer Domains to Us Announcements Knowledgebase Network Status Affiliates Contact Us Account Login Register ----- Forgot Password? Show Menu Categories Cloud Hosting Actions Register a New Domain Transfer in a Domain View Cart High Speed Managed Wordpress Hosting 7 Days Money Back Guarantee WP-1000S RM16.00 /mo Order Now Disk Space 5GB Monthly Data Transfers 2GB Email Accounts 2 Account Subdomain 2 Domain Parked Domain 2 Domain Addon Domain 2 Domain MySQL Database 2 Data Base Max Physical Memory 2GB WP-2000S MOST POPULAR RM30.00 /mo Order Now Disk Space 10GB Monthly Data Transfers 5GB Email Accounts 5 Account Subdomain 3 Domain Parked Domain 3 Domain Addon Domain 3 Domain MySQL Database 3 Data Base Max Physical Memory 2GB WP-3000S RM50.00 /mo Order Now Disk Space 15GB Monthly Data Transfers 10GB Email Accounts 5 Account Subdomain 5 Domain Parked Domain 5 Domain Addon Domain 5 Domain MySQL Database 5 Data Base Max Physical Memory 2GB WP-4000S RM70.00 /mo Order Now Disk Space 20GB Monthly Data Transfers 10GB Email Accounts 10 Account Subdomain 10 Domain Parked Domain 10 Domain Addon Domain 10 Domain MySQL Database 10 DataBase Max Physical Memory 2GB Powered by WHMCompleteSolution Copyright \\u00a9 2023 ADSA Solutions Sdn. Bhd. (1314574-V). All Rights Reserved. \\u00d7 Close Title Loading... Loading... Close Submit\", \"output\": \"{\\\"name\\\": \\\"QAS\\\", \\\"arguments\\\": {\\\"qa\\\": [{\\\"question\\\": \\\"Apakah jenis-jenis pakej hosting yang ditawarkan oleh ADSA Solutions Sdn. Bhd.?\\\", \\\"answer\\\": \\\"ADSA Solutions Sdn. Bhd. menawarkan pakej hosting Cloud Hosting dan High Speed Managed Wordpress Hosting.\\\"}, {\\\"question\\\": \\\"Berapakah jumlah maksimum MySQL Database yang disediakan dalam pakej WP-4000S?\\\", \\\"answer\\\": \\\"Pakej WP-4000S menyediakan maksimum 10 MySQL Database.\\\"}, {\\\"question\\\": \\\"Adakah ADSA Solutions Sdn. Bhd. menyediakan jaminan wang kembali?\\\", \\\"answer\\\": \\\"Ya, ADSA Solutions Sdn. Bhd. menyediakan jaminan wang kembali selama 7 hari untuk pakej High Speed Managed Wordpress Hosting.\\\"}]}}\"}\n",
      "\n",
      "{\"prompt_input\": null, \"input\": \"translate to standard english dan standard malay\\n\\nteks: --------------------------------- Dan sekarang ni aku nak minta nasihat kalian untuk cara aku menegur orang yang bersikap seperti yang aku ceritakan di atas,melewatkan/terlepas solat yang di kira sebagai sengaja.Aku tak kuat untuk cakap face to face, aku dah minta pendapat orang lain. ada orang kata kalau dah kejut tu kira dah lepas tanggungjwab kita,tapi aku nak ubah dia supaya pentingkan solat. takkan biar je dia kan. Aku nak kita/kami semua masuk syirga bersama berjaya di atas muka bumi dengan bi'ah solehah., return JSON {'english', 'malay', 'text'}\", \"output\": \"{\\\"english\\\": \\\"--------------------------------- And now I want to ask for your advice on how to approach someone who neglects or intentionally misses their prayers. I am not strong enough to confront them face to face, so I am seeking the opinions of others. Some say that once you remind them, it is no longer your responsibility, but I want to help them prioritize their prayers. I cannot just leave them be. I want us all to enter paradise together and succeed in this world with righteous deeds.\\\", \\\"malay\\\": \\\"--------------------------------- Dan sekarang saya ingin meminta pendapat anda tentang bagaimana untuk mendekati seseorang yang mengabaikan atau sengaja melepaskan solat mereka. Saya tidak cukup kuat untuk menghadapi mereka secara langsung, jadi saya mencari pendapat orang lain. Ada yang mengatakan bahawa sekali anda mengingatkan mereka, itu bukan lagi tanggungjawab anda, tetapi saya ingin membantu mereka mengutamakan solat. Saya tidak boleh membiarkan mereka begitu sahaja. Saya ingin kita semua masuk syurga bersama dan berjaya di dunia ini dengan amalan yang soleh.\\\", \\\"text\\\": \\\"--------------------------------- Dan sekarang ni aku nak minta nasihat kalian untuk cara aku menegur orang yang bersikap seperti yang aku ceritakan di atas,melewatkan/terlepas solat yang di kira sebagai sengaja.Aku tak kuat untuk cakap face to face, aku dah minta pendapat orang lain. ada orang kata kalau dah kejut tu kira dah lepas tanggungjwab kita,tapi aku nak ubah dia supaya pentingkan solat. takkan biar je dia kan. Aku nak kita/kami semua masuk syirga bersama berjaya di atas muka bumi dengan bi'ah solehah.\\\"}\"}\n",
      "\n",
      "{\"prompt_input\": null, \"input\": \"translate to english dan standard malay\\n\\nteks: Abah, Umur abah, dah lebih separuh abad. Kepala abah tu, bukan setakat penuh uban, uban pun dah gugur. Abah dah tua abah. Tak ingat kubur ka? Maafkan adik. Bukan adik nak mendoakan abah mati. Tapi semua orang akan mati. Dan adik nak abah nanti mati dalam husnul khatimah. Dan kita sekeluarga akan berjumpa semula di syurga. --------------------- --------------------- Kawan2. Ini adalah surat yg x sampai pada tujuannya. X sanggup aku nak sampaikan pada abah aku. Tapi aku nak korg sedar, masalah keruntuhan akhlak sekarang bukan pada muda mudi shj. Tapi yg tua bangka pun dah banyak. Golongan ni culture shock. Korang hati2 la. Jangan la bagi smartphone canggih sangat pada mak ayah korg. Biar la diorg pakai 3310. Xpe, biar jarang diorg tgok muka anak cucu, dari kerap tengok benda lucah. Laki tetap laki. Perangai sampai tua pun sama. Tolong doakan, abah aku, dan mak abah orang lain yg dah jadi mangsa 'group whatsapp alumni' supaya mereka kembali ke jalan benar. Mereka bukan orang2 yg terang2 buat jahat. Mereka dah 60 tahun hidup dalam keadaan normal. Cuma baru2 ni ja jadi macam tu. Tu pasal kami hilang arah, nak tegur macam mana pun xtau. Korang doakan ya., return JSON {'left', 'ms', 'en'}\", \"output\": \"{\\\"en\\\": \\\"Dad, you're over half a century old now. Your head is not just full of gray hair, some of it has even fallen out. You're getting old, Dad. Do you remember your grave? I'm sorry. I'm not wishing for you to die, but everyone will die eventually. I just want you to have a good ending, and for our family to reunite in heaven. \\\\n\\\\nFriends, this is a letter that never reached its destination. I couldn't bring myself to give it to my dad. But I want you all to realize that the problem of moral decay is not just among the youth, even the elderly are affected. This group is experiencing culture shock. Please be careful. Don't give your parents advanced smartphones. Let them use a Nokia 3310. It's better for them to rarely see their children and grandchildren's faces than to frequently see pornographic content. Men will always be men, even in old age. Please pray for my dad and other elderly people who have become victims of alumni WhatsApp groups, so that they can return to the right path. They're not bad people. They've lived normal lives for 60 years. It's just recently that they've become like this. That's why we're lost and don't know how to approach them. Please pray for them.\\\", \\\"ms\\\": \\\"Abah, anda sudah lebih separuh abad sekarang. Kepala anda tidak hanya penuh dengan uban, bahkan ada yang sudah gugur. Anda semakin tua, Abah. Ingatkah anda kubur anda? Maafkan saya. Saya tidak mengharapkan anda mati, tetapi semua orang akan mati pada akhirnya. Saya hanya ingin anda berakhir dengan baik, dan keluarga kita bersatu kembali di syurga. \\\\n\\\\nRakan-rakan, ini adalah surat yang tidak sampai ke tujuannya. Saya tidak mampu memberikannya kepada ayah saya. Tetapi saya ingin anda semua menyedari bahawa masalah kemerosotan moral tidak hanya terjadi di kalangan pemuda, bahkan orang tua juga terkesan. Kumpulan ini mengalami kejutan budaya. Sila berhati-hati. Jangan berikan telefon pintar canggih kepada ibu bapa anda. Biarkan mereka menggunakan Nokia 3310. Lebih baik bagi mereka untuk jarang melihat wajah anak dan cucu mereka daripada sering melihat kandungan lucah. Lelaki akan selalu menjadi lelaki, bahkan pada usia tua. Sila doakan ayah saya dan orang tua lain yang telah menjadi mangsa kumpulan WhatsApp alumni, supaya mereka dapat kembali ke jalan yang betul. Mereka bukan orang jahat. Mereka telah menjalani kehidupan normal selama 60 tahun. Baru-baru ini sahaja mereka menjadi seperti ini. Itulah sebabnya kami hilang arah dan tidak tahu bagaimana untuk mendekati mereka. Sila doakan mereka.\\\", \\\"left\\\": \\\"Abah, Umur abah, dah lebih separuh abad. Kepala abah tu, bukan setakat penuh uban, uban pun dah gugur. Abah dah tua abah. Tak ingat kubur ka? Maafkan adik. Bukan adik nak mendoakan abah mati. Tapi semua orang akan mati. Dan adik nak abah nanti mati dalam husnul khatimah. Dan kita sekeluarga akan berjumpa semula di syurga. --------------------- --------------------- Kawan2. Ini adalah surat yg x sampai pada tujuannya. X sanggup aku nak sampaikan pada abah aku. Tapi aku nak korg sedar, masalah keruntuhan akhlak sekarang bukan pada muda mudi shj. Tapi yg tua bangka pun dah banyak. Golongan ni culture shock. Korang hati2 la. Jangan la bagi smartphone canggih sangat pada mak ayah korg. Biar la diorg pakai 3310. Xpe, biar jarang diorg tgok muka anak cucu, dari kerap tengok benda lucah. Laki tetap laki. Perangai sampai tua pun sama. Tolong doakan, abah aku, dan mak abah orang lain yg dah jadi mangsa 'group whatsapp alumni' supaya mereka kembali ke jalan benar. Mereka bukan orang2 yg terang2 buat jahat. Mereka dah 60 tahun hidup dalam keadaan normal. Cuma baru2 ni ja jadi macam tu. Tu pasal kami hilang arah, nak tegur macam mana pun xtau. Korang doakan ya.\\\"}\"}\n",
      "\n",
      "{\"prompt_input\": null, \"input\": \"translate to english dan malay, text `RAMADAN SALES !\\n-------------------------------\\nLimited Nike Sock !\\nRM7/1pair\\nRM20/3pairs\\nCod putrajaya \\nPos   \\nSelf pickup \\n\\nhttps://t.co/A684newT9n\\n\\ntaknak beli takpe harap bole tolong rt untuk rezeki saya.\\nthankyousomuch  https://t.co/C8ZdPn6vr5`, return in JSON {'left', 'ms', 'en'}\", \"output\": \"{\\\"en\\\": \\\"RAMADAN SALES !\\\\n-------------------------------\\\\nLimited Nike Sock !\\\\nRM7/1pair\\\\nRM20/3pairs\\\\nCod putrajaya \\\\nPos   \\\\nSelf pickup \\\\n\\\\nhttps://t.co/A684newT9n\\\\n\\\\ntaknak beli takpe harap bole tolong rt untuk rezeki saya.\\\\nthankyousomuch  https://t.co/C8ZdPn6vr5\\\", \\\"ms\\\": \\\"JUALAN RAMADAN !\\\\n-------------------------------\\\\nStokin Nike Terhad !\\\\nRM7/1pasang\\\\nRM20/3pasang\\\\nCod putrajaya\\\\nPos\\\\nAmbil sendiri\\\\n\\\\nhttps://t.co/A684newT9n\\\\n\\\\ntaknak beli takpe harap bole tolong rt untuk rezeki saya.\\\\nTerima kasih banyak-banyak https://t.co/C8ZdPn6vr5\\\", \\\"left\\\": \\\"RAMADAN SALES !\\\\n-------------------------------\\\\nLimited Nike Sock !\\\\nRM7/1pair\\\\nRM20/3pairs\\\\nCod putrajaya \\\\nPos   \\\\nSelf pickup \\\\n\\\\nhttps://t.co/A684newT9n\\\\n\\\\ntaknak beli takpe harap bole tolong rt untuk rezeki saya.\\\\nthankyousomuch  https://t.co/C8ZdPn6vr5\\\"}\"}\n",
      "\n",
      "{\"prompt_input\": null, \"input\": \"terjemah ke inggeris standard dan melayu standard, teks `Tinggal 4 poin menuju Scudetto. Jangan sampai terpeleset di pertandingan2 akhir. Terlebih San Siro dipastikan akan terisi penuh akhir pekan nanti. \\n\\nFokus, Forza Milan!! \\n\\n---------------------------------------\\nBaca berita AC Milan terbaru di https://t.co/SgfEyY2tOT  https://t.co/fCH2425iCq`\", \"output\": \"Bahasa Melayu: Hanya 4 mata lagi untuk Scudetto. Jangan tergelincir dalam perlawanan yang tinggal. Terutamanya San Siro pasti akan penuh hujung minggu ini. \\n\\nTumpukan perhatian, Forza Milan!!\\n\\n---------------------------------------\\nBaca berita AC Milan terbaru di https://t.co/SgfEyY2tOT  https://t.co/fCH2425iCq\\nBahasa Inggeris: Only 4 points away from Scudetto. Don't slip up in the remaining matches. Especially since San Siro is guaranteed to be full this weekend. \\n\\nStay focused, Forza Milan!!\\n\\n---------------------------------------\\nRead the latest AC Milan news at https://t.co/SgfEyY2tOT  https://t.co/fCH2425iCq\"}\n",
      "\n",
      "{\"prompt_input\": null, \"input\": \"teks: LIGA SUPER MALAYSIA 2022\\n\\nPerlawanan #LS6\\n(Jumaat, 6 Mei 2022, Stadium Darul Aman, Alor Setar)\\n\\nKEPUTUSAN SEMASA\\n--------\\nKDA FC (2) - (2) MELAKA UNITED FC\\n\\n Ronald Ngah 20'\\n Syafiq Ahmad 37'\\n\\n Ifedayo Olusegun 23'\\n Emmanuel Oti 78'\\n\\n#LigaSuper2022\\n#MelakaUnitedFC2022 https://t.co/K7o12DttZx\\nterjemah ke english dan melayu standard, bagi dalam JSON {'left', 'ms', 'en'}\", \"output\": \"{\\\"en\\\": \\\"MALAYSIAN SUPER LEAGUE 2022\\\\n\\\\nMatch #LS6\\\\n(Friday, 6 May 2022, Darul Aman Stadium, Alor Setar)\\\\n\\\\nCURRENT RESULT\\\\n--------\\\\nKDA FC (2) - (2) MELAKA UNITED FC\\\\n\\\\nRonald Ngah 20'\\\\nSyafiq Ahmad 37'\\\\n\\\\nIfedayo Olusegun 23'\\\\nEmmanuel Oti 78'\\\\n\\\\n#LigaSuper2022\\\\n#MelakaUnitedFC2022 https://t.co/K7o12DttZx\\\", \\\"ms\\\": \\\"LIGA SUPER MALAYSIA 2022\\\\n\\\\nPerlawanan #LS6\\\\n(Jumaat, 6 Mei 2022, Stadium Darul Aman, Alor Setar)\\\\n\\\\nKEPUTUSAN SEMASA\\\\n--------\\\\nKDA FC (2) - (2) MELAKA UNITED FC\\\\n\\\\nRonald Ngah 20'\\\\nSyafiq Ahmad 37'\\\\n\\\\nIfedayo Olusegun 23'\\\\nEmmanuel Oti 78'\\\\n\\\\n#LigaSuper2022\\\\n#MelakaUnitedFC2022 https://t.co/K7o12DttZx\\\", \\\"left\\\": \\\"LIGA SUPER MALAYSIA 2022\\\\n\\\\nPerlawanan #LS6\\\\n(Jumaat, 6 Mei 2022, Stadium Darul Aman, Alor Setar)\\\\n\\\\nKEPUTUSAN SEMASA\\\\n--------\\\\nKDA FC (2) - (2) MELAKA UNITED FC\\\\n\\\\n Ronald Ngah 20'\\\\n Syafiq Ahmad 37'\\\\n\\\\n Ifedayo Olusegun 23'\\\\n Emmanuel Oti 78'\\\\n\\\\n#LigaSuper2022\\\\n#MelakaUnitedFC2022 https://t.co/K7o12DttZx\\\"}\"}\n",
      "\n",
      "{\"prompt_input\": null, \"input\": \"teks: Pemerintah ajak Delegasi2 G20 kunjungi pulau dinosaurus hingga icip minuman Kerajaan\\n-----\\nLabuan Bajo\\n----- https://t.co/GsEzxKKCvc\\nterjemah ke bahasa inggeris standard dan malay\", \"output\": \"Bahasa Melayu: Kerajaan menjemput delegasi G20 untuk melawat pulau dinosaurus dan merasai minuman Diraja di Labuan Bajo. https://t.co/GsEzxKKCvc\\nBahasa Inggeris: Government invites G20 delegations to visit dinosaur island and taste the Royal drink in Labuan Bajo. https://t.co/GsEzxKKCvc\"}\n",
      "\n",
      "{\"prompt_input\": null, \"input\": \"teks: Sesi latihan terakhir pasukan menjelang aksi LS9 menentang Negeri Sembilan FC malam esok.\\n\\n-------\\n\\nPromosi Tiket P https://t.co/WTwSYnQYv2\\nterjemah ke standard english\", \"output\": \"Last training session of the team before the LS9 match against Negeri Sembilan FC tomorrow night. Ticket promotion P https://t.co/WTwSYnQYv2\"}\n",
      "\n",
      "{\"prompt_input\": null, \"input\": \"terjemah ke bahasa inggeris standard dan melayu standard, teks `soalan bonus:  a) buah cempedak  b) buah cempedak di laur pagar  ambil galah tolong jolokkan  saya budak dah lama belajar  kalau salah tak payah la ajarkan  c)  ----------------------------\\nS A L A H`\", \"output\": \"Bahasa Melayu: Soalan bonus: a) buah cempedak  b) buah cempedak di luar pagar  ambil galah tolong jolokkan  saya budak dah lama belajar  kalau salah tak payah la ajarkan  c) ---------------------------- S A L A H\\nBahasa Inggeris: Bonus question: a) cempedak fruit  b) cempedak fruit outside the fence  take a pole and help me pick it  I have been studying for a long time, no need to teach if it's wrong  c) ---------------------------- S A L A H\"}\n",
      "\n",
      "{\"prompt_input\": null, \"input\": \"translate to bahasa inggeris standard dan standard malay\\n\\nteks: Suka je chanel ni. Tapi bila pikir2 banyak duit nak keluar. Handbag2 lain pun tak nak beli. Saya sel ..  takpe.. in the meantime kite verangan dulu.. <------ macam nilah muka saya bile nampak anything chanel.. love love love ajerr, return JSON {'english', 'malay', 'text'}\", \"output\": \"{\\\"english\\\": \\\"I love Chanel. But when I think about it, a lot of money will be spent. I don't even want to buy other handbags. It's okay, for now let's just daydream. <------ This is how my face looks like when I see anything Chanel.. love love love only.\\\", \\\"malay\\\": \\\"Saya suka Chanel. Tetapi apabila saya berfikir, banyak wang akan dikeluarkan. Saya tidak mahu membeli beg tangan lain. Tak apa, buat masa ini mari kita berangan-angan sahaja. <------ Inilah raut wajah saya apabila melihat apa-apa yang berkaitan dengan Chanel.. cinta cinta cinta sahaja.\\\", \\\"text\\\": \\\"Suka je chanel ni. Tapi bila pikir2 banyak duit nak keluar. Handbag2 lain pun tak nak beli. Saya sel ..  takpe.. in the meantime kite verangan dulu.. <------ macam nilah muka saya bile nampak anything chanel.. love love love ajerr\\\"}\"}\n",
      "\n",
      "{\"prompt_input\": null, \"input\": \"teks: ak x mint tgk citer malaysia sb : x sumer lah..ader yg ak tgk..  1. citer meleret n heroin selalu tertindas..  2. kalo rating tinggi akan buat sambungan yg enth aper2..naik pening jadinyer..  3. pelakon x hensem..ekeke..  4. asyik citer dunia korporat..enth aper2..ahask..  5. x byk adegan sweet ant hero n heroin..kish kekeluargaan pun kureng..hehehee..  6. kekdg nmpk sgt lakonan yg plastik..  la ni, citer melayu ak cuma layan citer emil emilda jerk..dgr2 ader smbgn..tu yg maleh tu..  ------------  :setuju: haha tapi aku nak letak no3 juju kat no1 aku wakaka\\nterjemah ke inggeris standard dan melayu standard, bagi dalam JSON {'english', 'malay', 'original'}\", \"output\": \"{\\\"english\\\": \\\"translate and expand `ak x mint tgk citer malaysia sb : x sumer lah..ader yg ak tgk..  1. citer meleret n heroin selalu tertindas..  2. kalo rating tinggi akan buat sambungan yg enth aper2..naik pening jadinyer..  3. pelakon x hensem..ekeke..  4. asyik citer dunia korporat..enth aper2..ahask..  5. x byk adegan sweet ant hero n heroin..kish kekeluargaan pun kureng..hehehee..  6. kekdg nmpk sgt lakonan yg plastik..  la ni, citer melayu ak cuma layan citer emil emilda jerk..dgr2 ader smbgn..tu yg maleh tu..  ------------  :setuju: haha tapi aku nak letak no3 juju kat no1 aku wakaka`\\\", \\\"malay\\\": \\\"terjemahkan dan kembangkan `ak x mint tgk citer malaysia sb : x sumer lah..ader yg ak tgk..  1. citer meleret n heroin selalu tertindas..  2. kalo rating tinggi akan buat sambungan yg enth aper2..naik pening jadinyer..  3. pelakon x hensem..ekeke..  4. asyik citer dunia korporat..enth aper2..ahask..  5. x byk adegan sweet ant hero n heroin..kish kekeluargaan pun kureng..hehehee..  6. kekdg nmpk sgt lakonan yg plastik..  la ni, citer melayu ak cuma layan citer emil emilda jerk..dgr2 ader smbgn..tu yg maleh tu..  ------------  :setuju: haha tapi aku nak letak no3 juju kat no1 aku wakaka`\\\", \\\"original\\\": \\\"ak x mint tgk citer malaysia sb : x sumer lah..ader yg ak tgk..  1. citer meleret n heroin selalu tertindas..  2. kalo rating tinggi akan buat sambungan yg enth aper2..naik pening jadinyer..  3. pelakon x hensem..ekeke..  4. asyik citer dunia korporat..enth aper2..ahask..  5. x byk adegan sweet ant hero n heroin..kish kekeluargaan pun kureng..hehehee..  6. kekdg nmpk sgt lakonan yg plastik..  la ni, citer melayu ak cuma layan citer emil emilda jerk..dgr2 ader smbgn..tu yg maleh tu..  ------------  :setuju: haha tapi aku nak letak no3 juju kat no1 aku wakaka\\\"}\"}\n",
      "\n",
      "{\"prompt_input\": null, \"input\": \"teks `Hai bangmat-------->lama  x jumpa!!;)`, terjemah ke bahasa melayu standard\", \"output\": \"Hai, lama tak jumpa!! ;)\"}\n",
      "\n",
      "{\"prompt_input\": null, \"input\": \"terjemah ke inggeris standard dan standard malay, teks `heheh aku tau jawapan dia..  yang mengejar tak da kaki --- ular  yang dikejar tak da ekor ---- katak  yang melihat x da kepala  ----- ketam..`\", \"output\": \"Bahasa Melayu: heheh aku tahu jawapannya.. yang mengejar tak ada kaki --- ular  yang dikejar tak ada ekor ---- katak  yang melihat tak ada kepala  ----- ketam..\\nBahasa Inggeris: heheh I know the answer.. the one who chases has no legs --- the snake  the one being chased has no tail ---- the frog  the one who sees has no head  ----- the crab..\"}\n",
      "\n",
      "{\"prompt_input\": null, \"input\": \"terjemah ke malay, teks `jom kita berSERUM jugak--------------`\", \"output\": \"Mari kita juga berSERUM bersama-sama.\"}\n",
      "\n",
      "{\"prompt_input\": null, \"input\": \"teks `TestoUltra is a sort of muscle building supplement which makesyour muscle more solid by utilizing the normal fixings whicheventually enhances the blood flow and vitality levels in your body.It is a supplement which can normally build your bulk withoutembracing such false strategies. Working up of the bulk reinforcesthe connective tissues which help in expanding the bone thickness.This action can limit or lessen the danger of any sort of damage.  Testo Ultra -----http://www.facts4supplement.com/testo-ultra-india/`, terjemah ke bahasa inggeris standard\", \"output\": \"TestoUltra is a type of muscle building supplement that enhances the strength of your muscles by utilizing natural ingredients. It improves blood flow and energy levels in your body. This supplement can naturally increase your muscle mass without resorting to artificial methods. Building muscle mass also strengthens the connective tissues, which helps increase bone density and reduces the risk of injuries.\"}\n",
      "\n",
      "{\"prompt_input\": null, \"input\": \"teks `-------------CAKE TUK KORANG`, terjemah ke english dan melayu standard\", \"output\": \"Bahasa Melayu: KEK UNTUK KORANG\\nBahasa Inggeris: CAKE FOR YOU ALL\"}\n",
      "\n",
      "{\"prompt_input\": null, \"input\": \"translate to inggeris standard dan malay\\n\\nteks: Pada aku, x de sorang pun pesertta AF7 yg layak masuk final.. malah x layak masuk tv pun..!!! <-----amende ko ni..ko eja peserta pun xbtul so aku rase ko pun mmg xbtul smpi ckp semua xlayak..dengar betul2 okay..korek telinga tu.., return JSON {'left', 'ms', 'en'}\", \"output\": \"{\\\"en\\\": \\\"In my opinion, there is not a single participant from AF7 who deserves to enter the final... in fact, they don't even deserve to be on TV!!! <----- What's wrong with you? You can't even spell 'participant' correctly, so I think you're completely wrong to say that none of them are deserving... listen carefully, open your ears.\\\", \\\"ms\\\": \\\"Pada pandangan saya, tidak ada seorang pun peserta AF7 yang layak masuk ke final... malah mereka tidak layak untuk berada di TV!!! <----- Apa masalah denganmu? Kamu bahkan tidak dapat mengeja 'peserta' dengan betul, jadi saya rasa kamu benar-benar salah untuk mengatakan bahwa mereka semua tidak layak... dengar dengan teliti, bukalah telingamu.\\\", \\\"left\\\": \\\"Pada aku, x de sorang pun pesertta AF7 yg layak masuk final.. malah x layak masuk tv pun..!!! <-----amende ko ni..ko eja peserta pun xbtul so aku rase ko pun mmg xbtul smpi ckp semua xlayak..dengar betul2 okay..korek telinga tu..\\\"}\"}\n",
      "\n",
      "{\"prompt_input\": null, \"input\": \"translate to standard malay\\n\\nteks: Kepada sesiapa yg ingin membuat pertanyaan mengenai umah sewa ka, tempat makan ka, hotel ka, ikan ka, pasemboQ ka, minta kerjasama untuk menggunakan thread ini. Tak payahla bukak thread baru semata2 nak tanya 1 soklan pendek.  sekian tima kasih  ----------------------------------------------------------------------------------------------------------------------------------------------------------------  helo e'body..  nak tanya..kat belah penang ni- pulau ..kat mana boleh makan steamboat yang halal punya la ..dok mengidam nak makan ..tapi tak tau nak p mana..dulu ada coca rest kat island plaza..lani tak dak dah..kalu sesiapa tau tolong habaq mai sat kat cheq..makasih la na..  [ Last edited by  ecam at 10-10-2008 11:00 PM ]\", \"output\": \"Kepada sesiapa yang ingin membuat pertanyaan mengenai sewa rumah, tempat makan, hotel, ikan, Pasembor, atau meminta kerjasama untuk menggunakan thread ini. Tidak perlu membuka thread baru hanya untuk bertanya satu soalan pendek. Terima kasih. Helo semua, saya ada pertanyaan. Di Pulau Pinang, di mana saya boleh makan steamboat yang halal? Saya sangat mengidam untuk makan tetapi tidak tahu ke mana harus pergi. Dulu ada Restoran Coca di Island Plaza, tetapi sekarang sudah tiada. Jika sesiapa tahu, tolong beritahu saya. Terima kasih.\"}\n",
      "\n",
      "{\"prompt_input\": null, \"input\": \"terjemah ke bahasa inggeris standard dan malay, teks `rx water tu aper?  \\\"t-shirt design gallery<-----klik lah\\\"`\", \"output\": \"Bahasa Melayu: Sila klik di sini untuk ke galeri reka bentuk t-shirt.\\nBahasa Inggeris: Please click here to go to the t-shirt design gallery.\"}\n",
      "\n",
      "{\"prompt_input\": null, \"input\": \"translate to english dan bahasa melayu standard\\n\\nteks: Jom Main Game MarketGlory Sambil Jana Duit Betul!Salam sahabat-sahabat RC  Buat Duit Dengan Bermain Game  MarketGlory adalah sebuah simulasi permainan online mengenai kehidupan perniagaan,politik, dan peperangan antara negara. Disini anda dapat bermain serta bersosial dengan pemain lain sambil menambah wang anda yang nantinya dapat di cairkan melalui bank anda.  Game ini melibatkan Semua negara di satu dunia.  Seperti saya, saya register kemudian ditempat kan mengikut negara asal kita iaitu Malaysia. Jadi di dalam game itu, mereka tempatkan saya di Virtual Malaysia  Currency  Malaysia menggunakan MYR  Manakala Currency Antarabangsa pula ialah EURO dan GOLD  Saya boleh guide step by step dari A-Z  untuk pendaftaran-------> Marketglory\\nnie step untuk yang newbie--  - FIGHT 1O KALI dan BUAT KEJE (WORK)(setiap hari), return JSON {'english', 'malay', 'text'}\", \"output\": \"{\\\"english\\\": \\\"Translate and expand 'Let's Play MarketGlory Game While Earning Real Money! Greetings, RC friends. Make Money by Playing Game MarketGlory is an online simulation game about business, politics, and warfare between countries. Here, you can play and socialize with other players while earning money that can be withdrawn through your bank. This game involves all countries in the world. Like me, I registered and was placed according to my country of origin, which is Malaysia. So in the game, they placed me in Virtual Malaysia. The currency used in Malaysia is MYR, while the international currency is EURO and GOLD. I can guide you step by step from A-Z for registration ------> Marketglory. Here are the steps for newbies: - FIGHT 10 TIMES and DO JOBS (WORK) (every day).\\\", \\\"malay\\\": \\\"Terjemahkan dan kembangkan 'Jom Main Game MarketGlory Sambil Jana Duit Betul! Salam sahabat-sahabat RC. Buat Duit Dengan Bermain Game MarketGlory adalah sebuah simulasi permainan dalam talian mengenai perniagaan, politik, dan peperangan antara negara. Di sini, anda boleh bermain dan bersosial dengan pemain lain sambil menjana wang yang boleh dikeluarkan melalui bank anda. Permainan ini melibatkan semua negara di dunia. Seperti saya, saya mendaftar dan ditempatkan mengikut negara asal saya, iaitu Malaysia. Jadi dalam permainan itu, mereka menempatkan saya di Virtual Malaysia. Mata wang yang digunakan di Malaysia adalah MYR, manakala mata wang antarabangsa adalah EURO dan GOLD. Saya boleh pandu anda langkah demi langkah dari A-Z untuk pendaftaran ------> Marketglory. Berikut adalah langkah-langkah untuk pemula: - BERJUANG 10 KALI dan LAKUKAN PEKERJAAN (KERJA) (setiap hari).\\\", \\\"text\\\": \\\"Jom Main Game MarketGlory Sambil Jana Duit Betul!Salam sahabat-sahabat RC  Buat Duit Dengan Bermain Game  MarketGlory adalah sebuah simulasi permainan online mengenai kehidupan perniagaan,politik, dan peperangan antara negara. Disini anda dapat bermain serta bersosial dengan pemain lain sambil menambah wang anda yang nantinya dapat di cairkan melalui bank anda.  Game ini melibatkan Semua negara di satu dunia.  Seperti saya, saya register kemudian ditempat kan mengikut negara asal kita iaitu Malaysia. Jadi di dalam game itu, mereka tempatkan saya di Virtual Malaysia  Currency  Malaysia menggunakan MYR  Manakala Currency Antarabangsa pula ialah EURO dan GOLD  Saya boleh guide step by step dari A-Z  untuk pendaftaran-------> Marketglory\\\\nnie step untuk yang newbie--  - FIGHT 1O KALI dan BUAT KEJE (WORK)(setiap hari)\\\"}\"}\n",
      "\n",
      "{\"prompt_input\": null, \"input\": \"terjemah ke inggeris standard, teks `Hi All,  Please review our website and give us support by posting your item for FREE in Bampee.com\\nWe will help you to promote your ads in Google and Facebook.\\nSo start Sign up today and start post your ads for FREE.  Thanks in advance.  --------------------\\nBampee.com\\nA place to post and manage your advertisement for FREE in Malaysia.`\", \"output\": \"Hi All, Please review our website and give us support by posting your item for FREE on Bampee.com. We will help you promote your ads on Google and Facebook. So start signing up today and start posting your ads for FREE. Thanks in advance. -------------------- Bampee.com A place to post and manage your advertisement for FREE in Malaysia.\"}\n",
      "\n",
      "{\"prompt_input\": null, \"input\": \"terjemah ke inggeris standard dan bahasa melayu standard, teks `pemuda itu menggulung permaidani tu sikit2..dan bekas yang mengandungi berlian itu pun semakin dekat ..  ni yang betul  @Eva_yy_Ellin  @NaylaArisha  --------  banyaknye ipo jawab`\", \"output\": \"Bahasa Melayu: Pemuda itu sedang menggulung permaidani itu sedikit demi sedikit... dan kotak yang mengandungi berlian itu semakin dekat... ini yang betul. @Eva_yy_Ellin @NaylaArisha -------- banyaknya jawapan.\\nBahasa Inggeris: The young man was rolling up the carpet little by little... and the box containing the diamonds was getting closer... this is the correct one. @Eva_yy_Ellin @NaylaArisha -------- so many answers.\"}\n",
      "\n",
      "{\"prompt_input\": null, \"input\": \"terjemah ke standard english dan bahasa melayu standard, teks `Rahim razali kot  ----  -----`\", \"output\": \"Bahasa Melayu: Rahim Razali adalah ---- -----\\nBahasa Inggeris: Rahim Razali is ---- -----\"}\n",
      "\n",
      "{\"prompt_input\": null, \"input\": \"translate to standard malay\\n\\nteks: FIRST TEAM PILIHAN :  JUARA  ------->  60kredit ---------->SelangorTEAM GUNDIK PILIHAN :\\nJUARA  --------> 50 kredit----------->UPB MyTeam  [ Last edited by  chikli at 28-7-2008 04:40 PM ]\", \"output\": \"PILIHAN PASUKAN PERTAMA: JUARA -------> 60 kredit ----------> Selangor PILIHAN GUNDIK PASUKAN: JUARA --------> 50 kredit ----------> UPB MyTeam [ Terakhir diedit oleh chikli pada 28-7-2008 04:40 PM ]\"}\n",
      "\n",
      "{\"prompt_input\": null, \"input\": \"classify sentiment [negative, positive, neutral] and explain in standard english dan melayu standard\\n\\nteks: #BeritaMakmurJohor PENAMBAHAN UJIAN COVID-19 RTK ANTIGEN TINGKAT KADAR SARINGAN Berita selanjutnya di ------ Dapatkan berita terkini tentang Kerajaan Negeri Johor dengan menyertai telegram Makmur Johor Official.\", \"output\": \"Sentimen: neutral\\nKeterangan dalam Bahasa Melayu: Teks ini memberikan maklumat tentang penambahan ujian COVID-19 RTK Antigen untuk tujuan penapisan di Johor. Ia juga mempromosikan menyertai telegram Makmur Johor Official untuk berita terkini tentang kerajaan negeri Johor.\\nKeterangan dalam Bahasa Inggeris: The text is providing information about the addition of COVID-19 RTK Antigen test for screening purposes in Johor. It also promotes joining the Makmur Johor Official telegram for the latest news about the Johor state government.\"}\n",
      "\n",
      "{\"prompt_input\": null, \"input\": \"teks: SEOKJIN-------\\nkelaskan sentimen [negative, positive, neutral] dan terangkan sebab dalam inggeris standard dan standard malay, bagi dalam JSON {'terang_en', 'terang_ms', 'teks', 'sentimen'}\", \"output\": \"{\\\"terang_en\\\": \\\"The text 'SEOKJIN-------' does not convey any clear positive or negative sentiment. It is simply a name or identifier.\\\", \\\"terang_ms\\\": \\\"Teks 'SEOKJIN-------' tidak mengandungi sebarang sentimen positif atau negatif yang jelas. Ia hanyalah nama atau pengenal.\\\", \\\"teks\\\": \\\"SEOKJIN-------\\\", \\\"sentimen\\\": \\\"neutral\\\"}\"}\n",
      "\n",
      "{\"prompt_input\": null, \"input\": \"tukar ke jawi: Pemproses isyarat digital atau DSP ialah mikropemproses khas yang direka khusus untuk pemprosesan isyarat digital, biasanya dalam masa-nyata. Ciri DSP. masukan analog ----- gt; ADC ---- gt; DSP ---- gt; DAC --- gt; keluaran analog pemprosesan data digital Pemprosesan isyarat digital. Pemprosesan isyarat digital boleh dilakukan menggunakan mikropemproses biasa. DSP boleh mengoptimumkan: Sejarah. Pada 1978, Intel mengeluarkan pemproses 2920 sebahai pemproses isyarat analog . Ia mempunyai ADC DAC atas-cip dengan pemproses isyarat dalaman, namun ia tidak mempunyai pendarab perkakasan dan tidak begitu laku. Tahun berikutnya, AMI mengeluarkan AMI S2811. Ia direka bentuk sebagai persisian mikropemproses dan\", \"output\": \"\\u06a4\\u0645\\u06a4\\u0631\\u0648\\u0633\\u064a\\u0633 \\u0639\\u0634\\u0627\\u0631\\u062a \\u062f\\u064a\\u06ac\\u064a\\u062a\\u0644 \\u0627\\u062a\\u0627\\u0648 \\u062f\\u0633\\u06a4 \\u0627\\u064a\\u0627\\u0644\\u0647 \\u0645\\u064a\\u0643\\u0631\\u0648\\u06a4\\u064a\\u0645\\u06a4\\u0631\\u0648\\u0633\\u064a\\u0633 \\u062e\\u0627\\u0635 \\u064a\\u06a0 \\u062f\\u0631\\u064a\\u0643\\u0627 \\u062e\\u0635\\u0648\\u0635 \\u0627\\u0648\\u0646\\u062a\\u0648\\u0642 \\u06a4\\u0645\\u06a4\\u0631\\u0648\\u0633\\u064a\\u0633\\u0646 \\u0639\\u0634\\u0627\\u0631\\u062a \\u062f\\u064a\\u06ac\\u064a\\u062a\\u0644\\u060c \\u0628\\u064a\\u0627\\u0633\\u0627\\u06bd \\u062f\\u0627\\u0644\\u0645 \\u0645\\u0627\\u0633-\\u06bd\\u0627\\u062a. \\u0686\\u064a\\u0631\\u064a \\u062f\\u0633\\u06a4. \\u0645\\u0627\\u0633\\u0648\\u0642\\u0627\\u0646 \\u0627\\u0646\\u0627\\u0644\\u0648\\u06ac ----- \\u06ac\\u062a; \\u0627\\u062f\\u0686 ---- \\u06ac\\u062a; \\u062f\\u0633\\u06a4 ---- \\u06ac\\u062a; \\u062f\\u0627\\u0686 --- \\u06ac\\u062a; \\u0643\\u0644\\u0648\\u0627\\u0631\\u0646 \\u0627\\u0646\\u0627\\u0644\\u0648\\u06ac \\u06a4\\u0645\\u06a4\\u0631\\u0648\\u0633\\u064a\\u0633\\u0646 \\u062f\\u0627\\u062a\\u0627 \\u062f\\u064a\\u06ac\\u064a\\u062a\\u0644 \\u06a4\\u0645\\u06a4\\u0631\\u0648\\u0633\\u064a\\u0633\\u0646 \\u0639\\u0634\\u0627\\u0631\\u062a \\u062f\\u064a\\u06ac\\u064a\\u062a\\u0644. \\u06a4\\u0645\\u06a4\\u0631\\u0648\\u0633\\u064a\\u0633\\u0646 \\u0639\\u0634\\u0627\\u0631\\u062a \\u062f\\u064a\\u06ac\\u064a\\u062a\\u0644 \\u0628\\u0648\\u0644\\u064a\\u0647 \\u062f\\u0644\\u0627\\u0643\\u0648\\u0643\\u0646 \\u0645\\u06a0\\u06ac\\u0648\\u0646\\u0627\\u0643\\u0646 \\u0645\\u064a\\u0643\\u0631\\u0648\\u06a4\\u064a\\u0645\\u06a4\\u0631\\u0648\\u0633\\u064a\\u0633 \\u0628\\u064a\\u0627\\u0633\\u0627. \\u062f\\u0633\\u06a4 \\u0628\\u0648\\u0644\\u064a\\u0647 \\u0645\\u06a0\\u0648\\u06a4\\u062a\\u064a\\u0645\\u0648\\u0645\\u0643\\u0646: \\u0633\\u062c\\u0627\\u0631\\u0647. \\u06a4\\u062f \\u0661\\u0669\\u0667\\u0668\\u060c \\u0627\\u064a\\u0646\\u062a\\u0644 \\u0645\\u06a0\\u0644\\u0648\\u0627\\u0631\\u0643\\u0646 \\u06a4\\u0645\\u06a4\\u0631\\u0648\\u0633\\u064a\\u0633 \\u0662\\u0669\\u0662\\u0660 \\u0633\\u0628\\u0627\\u0647\\u0627\\u064a \\u06a4\\u0645\\u06a4\\u0631\\u0648\\u0633\\u064a\\u0633 \\u0639\\u0634\\u0627\\u0631\\u062a \\u0627\\u0646\\u0627\\u0644\\u0648\\u06ac . \\u0627\\u064a \\u0645\\u0645\\u06a4\\u0648\\u06bd\\u0627\\u0621\\u064a \\u0627\\u062f\\u0686 \\u062f\\u0627\\u0686 \\u0627\\u062a\\u0633-\\u0686\\u064a\\u06a4 \\u062f\\u06a0\\u0646 \\u06a4\\u0645\\u06a4\\u0631\\u0648\\u0633\\u064a\\u0633 \\u0639\\u0634\\u0627\\u0631\\u062a \\u062f\\u0627\\u0644\\u0645\\u0646\\u060c \\u0646\\u0627\\u0645\\u0648\\u0646 \\u0627\\u064a \\u062a\\u064a\\u062f\\u0642 \\u0645\\u0645\\u06a4\\u0648\\u06bd\\u0627\\u0621\\u064a \\u06a4\\u0646\\u062f\\u0627\\u0631\\u0627\\u0628 \\u06a4\\u0631\\u0643\\u0627\\u0643\\u0633\\u0646 \\u062f\\u0627\\u0646 \\u062a\\u064a\\u062f\\u0642 \\u0628\\u06ac\\u064a\\u062a\\u0648 \\u0644\\u0627\\u0643\\u0648. \\u062a\\u0627\\u0647\\u0648\\u0646 \\u0628\\u0631\\u0627\\u064a\\u0643\\u0648\\u062a\\u06bd\\u060c \\u0627\\u0645\\u064a \\u0645\\u06a0\\u0644\\u0648\\u0627\\u0631\\u0643\\u0646 \\u0627\\u0645\\u064a \\u0633\\u0662\\u0668\\u0661\\u0661. \\u0627\\u064a \\u062f\\u0631\\u064a\\u0643\\u0627 \\u0628\\u0646\\u062a\\u0648\\u0642 \\u0633\\u0628\\u0627\\u06ac\\u0627\\u064a \\u06a4\\u0631\\u0633\\u064a\\u0633\\u064a\\u0646 \\u0645\\u064a\\u0643\\u0631\\u0648\\u06a4\\u064a\\u0645\\u06a4\\u0631\\u0648\\u0633\\u064a\\u0633 \\u062f\\u0627\\u0646\"}\n",
      "\n"
     ]
    }
   ],
   "source": [
    "with open('combine-malay-no-alignment-multitasks-v5-no-code.jsonl') as fopen:\n",
    "    for l in fopen:\n",
    "        if '-----' in l:\n",
    "            print(l)"
   ]
  },
  {
   "cell_type": "code",
   "execution_count": 45,
   "id": "8dfe21ac",
   "metadata": {},
   "outputs": [
    {
     "name": "stderr",
     "output_type": "stream",
     "text": [
      "/home/husein/.local/lib/python3.8/site-packages/requests/__init__.py:102: RequestsDependencyWarning: urllib3 (1.26.15) or chardet (5.2.0)/charset_normalizer (2.0.7) doesn't match a supported version!\n",
      "  warnings.warn(\"urllib3 ({}) or chardet ({})/charset_normalizer ({}) doesn't match a supported \"\n"
     ]
    },
    {
     "data": {
      "application/vnd.jupyter.widget-view+json": {
       "model_id": "32ff13b08ccd4600b5aba4812233b6fd",
       "version_major": 2,
       "version_minor": 0
      },
      "text/plain": [
       "combine-malay-no-alignment-multitasks-v5-no-code.jsonl:   0%|          | 0.00/11.8G [00:00<?, ?B/s]"
      ]
     },
     "metadata": {},
     "output_type": "display_data"
    },
    {
     "data": {
      "text/plain": [
       "CommitInfo(commit_url='https://huggingface.co/datasets/mesolitica/instructions-dataset/commit/044eb0b0b1261eb8feabd9283d83338398715384', commit_message='Upload combine-malay-no-alignment-multitasks-v5-no-code.jsonl with huggingface_hub', commit_description='', oid='044eb0b0b1261eb8feabd9283d83338398715384', pr_url=None, pr_revision=None, pr_num=None)"
      ]
     },
     "execution_count": 45,
     "metadata": {},
     "output_type": "execute_result"
    }
   ],
   "source": [
    "from huggingface_hub import HfApi\n",
    "api = HfApi()\n",
    "api.upload_file(\n",
    "    path_or_fileobj='combine-malay-no-alignment-multitasks-v5-no-code.jsonl',\n",
    "    path_in_repo='combine-malay-no-alignment-multitasks-v5-no-code.jsonl',\n",
    "    repo_id='mesolitica/instructions-dataset',\n",
    "    repo_type='dataset',\n",
    ")"
   ]
  },
  {
   "cell_type": "code",
   "execution_count": 46,
   "id": "2e5cba30",
   "metadata": {},
   "outputs": [
    {
     "name": "stdout",
     "output_type": "stream",
     "text": [
      "{\"prompt_input\": null, \"input\": \"Tuliskan sebuah cerita fiksyen pendek berdasarkan judul \\\"Bukan Airin\\\"\", \"output\": \"Judul: Bukan Airin\\n\\nAku menjeling majalah hiburan yang dibawa oleh rakan sekelas. Mereka agak sibuk memuji kecantikan seorang selebriti popular dalam busana mewah yang menghiasi halaman utama majalah tersebut.\\n\\n\\u201cDah berumur pun masih cantik Airin ni. Dah besar nanti, aku nak ikut jejak langkah Airin.\\u201d\\n\\n\\u201cAku minat sangat dengan dia ni.\\u201d\\n\\n\\u201cMenyanyi dan berlakon semua hebat. Cantik sangat!\\u201d\\nAku mengerling sekilas kemudian menyambung catatanku yang terhenti tadi. Aku menulis sesuatu dalam buku nota itu.\\n\\n\\u201cPopular, kaya-raya, cantik, berdisiplin, berjaya\\u2026 memang idaman semua orang.\\u201d Rakan-rakanku masih terus memuji. Aku mengeluh. Rasa sebal.\\n\\n\\u201cTapi\\u2026 dia ada rahsia, kan? Tak ada satu pun pihak media yang dapat bongkar macam mana rupa anak dia.\\u201d Semua terdiam. Kemudian, Dayah memandang ke arahku. Aku buat muka blur. Kemudian, Dayah menggelengkan kepalanya. Seolah sedang memadam apa yang bermain dalam fikiran.\\n\\nAku sering diberi nama julukan Airin Junior oleh warga sekolah kerana wajahku yang saling tidak tumpah seperti rupa selebriti hebat itu. Bagi mereka, memang amat mustahil untuk aku ada kaitan dengan Airin.\\n\\nAku mengeluh lagi lalu melentokkan kepala di atas meja sambil menulis kata \\u2018TERABAI\\u2019 dengan jiwa yang sangat kosong.\\n\\nTeringat mesej terakhir ibu kepadaku seminggu yang lepas, \\u201cBulan depan, kita makan angin dekat Paris.\\u201d\"}\r\n",
      "{\"prompt_input\": null, \"input\": \"Jelaskan pasar malam di Malaysia. \", \"output\": \"Seperti namanya, jam buka biasanya lewat pada pukul 5:00 petang dan tutup jam 11:00 malam atau sehingga makanan habis dijual.\\n\\nPeniaga mendapat lesen peniagaan daripada pihak berkuasa tempatan (PBT) yang berkaitan. Ini bagi mengawal kebersihan bandar dan kesihatan. Penjual makanan perlu mendapatkan suntikan kesihatan demam kepialu/tipod jenis Typhim VI.Tapak pasar malam diselia oleh pihak berkuasa tempatan.\\n\\nPasar malam berbeza-beza mengikut etnik. Pasar malam Melayu biasanya menjual buku-buku keagamaan, kopiah, kain sarong, dan barangan Melayu lain. Pasar malam Cina pula lazimnya menjual set Mah Jong, setanggi, colok, kertas dan pelbagai barangan keagamaan Cina. Selain itu, pasar malam India pula menjual barangan keagamaan Hindu. \"}\r\n",
      "{\"prompt_input\": null, \"input\": \"Apakah diet harian yang sesuai untuk pesakit Gastroesophageal Reflux Disease (GERD)?\", \"output\": \"Berikan adalah jenis makanan yang sesuai dimakan oleh pesakit Gastroesophageal Reflux Disease (GERD):\\n1. Sayuran non-asam yang mengandungi lemak dan gula yang rendah seperti kacang hijau, asparagus, lobak, kentang, labu, timun dan brokoli.\\n\\n2. Buah-buahan non-asam, bukan jenis sitrus seperti tembikai, pisang, epal dan pir. Elakkan mengambil sebarang buah-buahan sitrus seperti oren, limau dan sebagainya. Buah-buahan ini boleh menyebabkan pedih ulu hati menjadi semakin teruk.\\n\\n3. Protein tanpa lemak seperti dada ayam tanpa kulit dan ikan. Cuba tambah lebih banyak daging pejal dalam diet harian. Anda juga boleh lebihkan ikan.\\n\\n4. Karbohidrat kompleks yang sihat dan mudah dicerna badan seperti nasi, oat dan roti gandum. bijirin penuh yang juga merupakan sumber serat yang tinggi. Diet yang tinggi serat selalunya dapat mengurangkan simptom GERD.\\n\\n5. Halia sebagai cara hilangkan GERD. Halia juga makanan untuk pesakit GERD yang baik untuk mengurangkan pedih ulu hati. Cara penyediaannya juga mudah, cuma tambahkan sahaja beberapa potong halia dalam minuman. Sifat alkali dan antiradangnya juga akan mengurangkan iritasi pada saluran pencernaan.\\n\\n6. Produk susu rendah lemak atau bebas lemak. Anda boleh cuba makanan seperti avokado, kacang walnut, minyak bunga matahari dan juga minyak zaitun untuk mendapatkan lemak sihat.\\n\\nMeskipun makanan ini cenderung tidak menyebabkan gejala GERD, setiap individu mungkin bereaksi berbeza terhadap makanan tertentu. Jadi, penting untuk mencatat makanan yang menyebabkan gejala dan menghindarinya.\"}\r\n",
      "{\"prompt_input\": null, \"input\": \"Jawab soalan teka-teki berikut: Buah apakah yang tiada biji dan boleh dimakan dan diminum?\", \"output\": \"Jawapannya ialah buah kelapa. \"}\r\n",
      "{\"prompt_input\": null, \"input\": \"Apakah maksud \\\"bawa tempurung\\\"? Beri satu contoh ayat.\", \"output\": \"Ia bermaksud minta sedekah. Contoh ayat: Kita masih gagah dan kuat. Kita tidak perlu bawa tempurung.\"}\r\n",
      "{\"prompt_input\": null, \"input\": \"Apakah maksud 'gantung layar'?\", \"output\": \"Ia bermaksud hadiah untuk orang yang menyelamatkan perahu atau kapal yang akan karam\"}\r\n",
      "{\"prompt_input\": null, \"input\": \"Apakah maksud \\\"bagai beban sudah ke tepi\\\"?\", \"output\": \"Maksudnaya adalah masalah hampir selesai\"}\r\n",
      "{\"prompt_input\": null, \"input\": \"Apakah maksud 'ibarat rumput yang sudah kering, ditimpa hujan segar kembali'?\", \"output\": \"Ia bermaksud perihal orang yang sengsara yang dengan tiba-tiba mendapat pertolongan sehingga hidupnya terasa sangat berbahagia\"}\r\n",
      "{\"prompt_input\": null, \"input\": \"Apakah nama bangunan tertinggi di dunia?\", \"output\": \"Bangunan tertinggi di dunia setakat tahun 2023 ialah Burj Khalifa. Bangunan ini terletak di negara Dubai dan mencecah ketinggian lebih kurang 828 meter.\"}\r\n",
      "{\"prompt_input\": null, \"input\": \"Apakah resipi untuk tteokbokki? Tunjukkan langkah-langkah secara terperinci. \", \"output\": \"Bahan Untuk Rice Cakes: Setengah Pack Tepung pulut, 3 sudu besar tepung beras atau gandum, Air, Sedikit garam, Sedikit minyak bijan kalau ada\\n\\nCara Memasak Rice Cakes:\\n1. Satukan bahan di atas\\n2. Letak air sedikit demi sedikit. Jangan lembut sangat atau lembik sangat.\\n3. Kemudian gulung panjang. Potong ikut suka.\\n4. Rebus bahan yang telah dipotong. Kalau sudah naik atas boleh diangkat.\\n5. Tos kan atau masukkan dalam air sejuk.\\n\\nBahan untuk Sos: 3 sudu besar minyak masak, 5 atau 6 biji cili api dan 4 ulas bawang putih, 2 sudu besar Cili kisar atau serbuk cili (Peda ikut selera. Kalau ingin pedas letak 4 sudu), Satu sudu besar cuka (boleh digantikandengan cuka epal), Sedikit Gula, Sedikit serbuk ikan bilis atau pati ayam, Setengah cawan air masak, Sedikit bijan, Sedikit daun bawang\\n\\nCara Membuat Sos:\\n1. Panaskan minyak.\\n2. Masukkan cili api yang sudah dikisar dengan bawang putih.\\n3. Kalau sudah pecah minyak. Masukkan Serbuk ikan bilis atau ayam.\\n4. Kemudian masukkan air, cuka dan cili kisar atau serbuk cili (kalau pakai serbuk cili pastikan telah dicampur air sedikit).\\n5. Setelah itu letak gula.\\n6. Akhir sekali, Masukkan rice cake yang kita buat tadi.\\n7. Masukkan sedikit daun bawang, kemudian biarkan kuah pekat.\\n8. Hidangkan dengan menaburkan bijan.\"}\r\n"
     ]
    }
   ],
   "source": [
    "!head -n 10 combine-malay-no-alignment-multitasks-v5-no-code.jsonl"
   ]
  },
  {
   "cell_type": "code",
   "execution_count": null,
   "id": "b2faf5ff",
   "metadata": {},
   "outputs": [],
   "source": []
  }
 ],
 "metadata": {
  "kernelspec": {
   "display_name": "Python 3 (ipykernel)",
   "language": "python",
   "name": "python3"
  },
  "language_info": {
   "codemirror_mode": {
    "name": "ipython",
    "version": 3
   },
   "file_extension": ".py",
   "mimetype": "text/x-python",
   "name": "python",
   "nbconvert_exporter": "python",
   "pygments_lexer": "ipython3",
   "version": "3.8.10"
  }
 },
 "nbformat": 4,
 "nbformat_minor": 5
}
