{
 "cells": [
  {
   "cell_type": "code",
   "execution_count": 1,
   "id": "4504ab68",
   "metadata": {},
   "outputs": [],
   "source": [
    "from glob import glob\n",
    "import json\n",
    "import random"
   ]
  },
  {
   "cell_type": "code",
   "execution_count": 2,
   "id": "83e6c13b",
   "metadata": {},
   "outputs": [],
   "source": [
    "fopen_l = open('combine-malay-multitasks-partial-ultrachat.jsonl', 'w')"
   ]
  },
  {
   "cell_type": "code",
   "execution_count": 3,
   "id": "0e512372",
   "metadata": {},
   "outputs": [],
   "source": [
    "rejected = [\n",
    "    'help.openai.com',\n",
    "    'openassistant'\n",
    "]\n",
    "\n",
    "break_at = [\n",
    "    'help.openai.com',\n",
    "    'openai',\n",
    "    'cannot have personal opinions',\n",
    "    's an ai language model',\n",
    "    \"i'm sorry\",\n",
    "    'many factors',\n",
    "    'lgbt',\n",
    "    'lesbian',\n",
    "    'gender-neutral',\n",
    "    'remain neutral',\n",
    "    'without bias',\n",
    "    'and neutral',\n",
    "    'more inclusive',\n",
    "    'neutrality',\n",
    "    'non-bias',\n",
    "    'discrimination',\n",
    "    'avoid any forms of discrimination',\n",
    "    'regardless of their gender',\n",
    "    'inclusive and tolerant environment',\n",
    "    'have personal views',\n",
    "    'sexual orientation should be a top priority',\n",
    "    's an objective ai',\n",
    "    'avoid any forms of prejudice or hate',\n",
    "    'regardless of their personal',\n",
    "    'you understand this direction',\n",
    "    'tolerant environment within ai',\n",
    "    'cannot express my',\n",
    "    'requires more context',\n",
    "    'personal opinion',\n",
    "    'have updated information',\n",
    "    \"don't have personal experiences\",\n",
    "    'there is no information',\n",
    "    'tidak mempunyai akses kepada data atau maklumat',\n",
    "    '10 april 2021',\n",
    "    'ebagai model bahasa AI',\n",
    "    'model bahasa AI',\n",
    "    'mempunyai kepercayaan atau pendapat peribadi',\n",
    "    'tidak mempunyai pendapat peribadi',\n",
    "    'tidak mempunyai kepercayaan',\n",
    "    'tidak mempunyai falsafah peribadi',\n",
    "    'tidak mempunyai pengalaman peribadi',\n",
    "    'tidak mempunyai pendapat atau pengalaman peribadi',\n",
    "    'tidak mempunyai maklumat terkini',\n",
    "    'tidak mempunyai emosi peribadi',\n",
    "    'tidak mempunyai keutamaan',\n",
    "    'saya tidak mempunyai akses',\n",
    "    'tidak mempunyai pengalaman',\n",
    "    'saya tidak mempunyai keupayaan',\n",
    "    'tidak mempunyai keupayaan',\n",
    "    'tidak mempunyai hubungan',\n",
    "    'tidak mempunyai maklumat',\n",
    "    'Saya tidak mempunyai',\n",
    "    'Saya tidak pernah',\n",
    "    'saya tidak dapat memahami jawapan'\n",
    "]\n",
    "\n",
    "def accept(d):\n",
    "    if 'terjemahkan teks' in d.lower():\n",
    "        return False\n",
    "\n",
    "    if 'no need to translate' in d.lower():\n",
    "        return False\n",
    "\n",
    "    if 'can be translated' in d.lower():\n",
    "        return False\n",
    "\n",
    "    if 'cannot translate' in d.lower():\n",
    "        return False\n",
    "\n",
    "    if 'should be translated to' in d.lower():\n",
    "        return False\n",
    "\n",
    "    if 'cannot be translated' in d.lower():\n",
    "        return False\n",
    "\n",
    "    if 'standard malay' in d.lower():\n",
    "        return False\n",
    "\n",
    "    if 'would not be translated' in d.lower():\n",
    "        return False\n",
    "\n",
    "    if 'as an AI language model' in d:\n",
    "        return False\n",
    "\n",
    "    if 'should be translated as' in d.lower():\n",
    "        return False\n",
    "\n",
    "    if 'Bahasa Malaysia Standard' in d:\n",
    "        return False\n",
    "    \n",
    "    if 'Saya adalah model AI' in d:\n",
    "        return False\n",
    "    \n",
    "    if 'saya model AI' in d:\n",
    "        return False\n",
    "    \n",
    "    if 'Saya model AI' in d:\n",
    "        return False\n",
    "    \n",
    "    if 'sebagai model AI' in d:\n",
    "        return False\n",
    "    \n",
    "    if 'Sebagai model AI' in d:\n",
    "        return False\n",
    "    \n",
    "    if 'model bahasa AI' in d:\n",
    "        return False\n",
    "    \n",
    "    if 'model AI yang dibangunkan' in d:\n",
    "        return False\n",
    "    \n",
    "    if d == '<s>':\n",
    "        return False\n",
    "    \n",
    "    if 'tidak dapat memberikan maklumat' in d:\n",
    "        return False\n",
    "    \n",
    "    if 'Sebagai model bahasa' in d:\n",
    "        return False\n",
    "    \n",
    "    if any([r in d.lower() for r in rejected]):\n",
    "        return False\n",
    "    \n",
    "    if any([r in d.lower() for r in break_at]):\n",
    "        return False\n",
    "    \n",
    "    if len(d.split()) < 10:\n",
    "        return False\n",
    "    \n",
    "    return True"
   ]
  },
  {
   "cell_type": "code",
   "execution_count": 4,
   "id": "aea6ce79",
   "metadata": {},
   "outputs": [
    {
     "name": "stdout",
     "output_type": "stream",
     "text": [
      "prepared-chatgpt-malay-function-call.jsonl\n",
      "prepared-function-call-qa-choice.jsonl\n"
     ]
    }
   ],
   "source": [
    "files = [\n",
    "    'prepared-chatgpt-malay-function-call.jsonl',\n",
    "    'prepared-function-call-qa-choice.jsonl'\n",
    "]\n",
    "\n",
    "for f in files:\n",
    "    print(f)\n",
    "    with open(f) as fopen:\n",
    "        for l in fopen:\n",
    "            try:\n",
    "                data = json.loads(l)\n",
    "                if not accept(data['input']):\n",
    "                    continue\n",
    "                if not isinstance(data['function_call'], str):\n",
    "                    data['function_call'] = json.dumps(data['function_call'], indent=4)\n",
    "                fopen_l.write(f'{json.dumps(data)}\\n')\n",
    "                fopen_l.flush()\n",
    "            except:\n",
    "                pass"
   ]
  },
  {
   "cell_type": "code",
   "execution_count": 5,
   "id": "1ada50b3",
   "metadata": {},
   "outputs": [
    {
     "name": "stdout",
     "output_type": "stream",
     "text": [
      "prepared-function-call-malaysian-open-qa.jsonl\n"
     ]
    }
   ],
   "source": [
    "files = [\n",
    "    'prepared-function-call-malaysian-open-qa.jsonl'\n",
    "]\n",
    "\n",
    "for f in files:\n",
    "    print(f)\n",
    "    with open(f) as fopen:\n",
    "        for l in fopen:\n",
    "            try:\n",
    "                data = json.loads(l)\n",
    "                if not accept(data['input']):\n",
    "                    continue\n",
    "                if not isinstance(data['function_call'], str):\n",
    "                    data['function_call'] = json.dumps(data['function_call'], indent=4)\n",
    "                if random.random() > 0.3:\n",
    "                    continue\n",
    "                fopen_l.write(f'{json.dumps(data)}\\n')\n",
    "                fopen_l.flush()\n",
    "            except:\n",
    "                pass"
   ]
  },
  {
   "cell_type": "code",
   "execution_count": 6,
   "id": "302e0dab",
   "metadata": {
    "scrolled": false
   },
   "outputs": [
    {
     "name": "stdout",
     "output_type": "stream",
     "text": [
      "{\"prompt_input\": null, \"input\": \"Baca petikan di bawah, kemudian jawab soalan-soalan berikutnya\\nGopal : Eh, awak ingat lagi tak tentang berita manusia ditelan ular sawa tempoh hari!  \\nSamat : Mestilah Sampai sekarang saya masih terbayang-bayang gambar yang tersiar \\ndalam akhbar tu. \\nEee............ngerinya! \\nChan : Tapi yang peliknya, lepas kejadian tu tak putus-putus keluar cerita tentang ular sawa \\ndalam akhbar. Ular sawa telan ayamlah, telan kambinglah, dan macam -macam lagi \\nSamat : Apa yang peliknya, Chan Memanglah berita sensasi macam tu disukai oleh orang \\nramai Jadi wartawan pun jalankanlah tugas mereka untuk mencari cerita -cerita sedemikian! \\nGopal : Agaknya tak lama lagi ada pula berita tentang ular sawa telan gajah. Haa. masa  tu \\nbarulah heboh satu dunia! Adakah awak tahu ular sawa merupakan sejenis haiwan yang \\ndilindungi? \\nSamat : Tahu. baru semalam Cikgu Lina beritahu \\nGopal : Yalah, selama ni saya tak tahu pun yang kita boleh didakwa jika mencedera atau \\nmembunuh ular. \\nChan : Hukumannya berat juga Kita boleh kena denda hingga RM3 000 atau penjara!  \\nSamat : Dan boleh juga dikenakan kedua-duanya sekali! \\nGopal : Kalau macam tu, bila jumpa ular sawa cepat -cepatlah lari Jangan cuba-cuba nak \\npukul atau bunuh! \\nChan : Kenapa? Kamu takut ke? \\nSamat : Awak ni tak faham ke, Chan? Nanti terlepas masuk mulut ular sawa, awak kena \\nmasuk penjara pula!\\nApakah maksud kata-kata Samat, 'Eee....ngerinya' dalam petikan di atas?\\n\\nA. Bayang-bayang ular sawa menelan manusia\\nB. Dia terbayang kenangan ular sawa menelan manusia\\nC. Gambar ular sawa menelan manusia yang tersiar dalam akhbar\\nD. Kejadian ular sawa menelan manusia yang dilihat oleh Gopal.\", \"output\": \"C\"}\r\n"
     ]
    }
   ],
   "source": [
    "!head -n 1 prepared-kertas-1.jsonl"
   ]
  },
  {
   "cell_type": "code",
   "execution_count": 7,
   "id": "c2ffca08",
   "metadata": {
    "scrolled": true
   },
   "outputs": [
    {
     "name": "stdout",
     "output_type": "stream",
     "text": [
      "53470 prepared-kertas-1.jsonl\r\n"
     ]
    }
   ],
   "source": [
    "!wc -l prepared-kertas-1.jsonl"
   ]
  },
  {
   "cell_type": "code",
   "execution_count": 8,
   "id": "efe8aae3",
   "metadata": {},
   "outputs": [
    {
     "name": "stdout",
     "output_type": "stream",
     "text": [
      "\n",
      "\"Baca petikan di bawah, kemudian jawab soalan-soalan berikutnya\n",
      "Gopal : Eh, awak ingat lagi tak tentang berita manusia ditelan ular sawa tempoh hari!  \n",
      "Samat : Mestilah Sampai sekarang saya masih terbayang-bayang gambar yang tersiar \n",
      "dalam akhbar tu. \n",
      "Eee............ngerinya! \n",
      "Chan : Tapi yang peliknya, lepas kejadian tu tak putus-putus keluar cerita tentang ular sawa \n",
      "dalam akhbar. Ular sawa telan ayamlah, telan kambinglah, dan macam -macam lagi \n",
      "Samat : Apa yang peliknya, Chan Memanglah berita sensasi macam tu disukai oleh orang \n",
      "ramai Jadi wartawan pun jalankanlah tugas mereka untuk mencari cerita -cerita sedemikian! \n",
      "Gopal : Agaknya tak lama lagi ada pula berita tentang ular sawa telan gajah. Haa. masa  tu \n",
      "barulah heboh satu dunia! Adakah awak tahu ular sawa merupakan sejenis haiwan yang \n",
      "dilindungi? \n",
      "Samat : Tahu. baru semalam Cikgu Lina beritahu \n",
      "Gopal : Yalah, selama ni saya tak tahu pun yang kita boleh didakwa jika mencedera atau \n",
      "membunuh ular. \n",
      "Chan : Hukumannya berat juga Kita boleh kena denda hingga RM3 000 atau penjara!  \n",
      "Samat : Dan boleh juga dikenakan kedua-duanya sekali! \n",
      "Gopal : Kalau macam tu, bila jumpa ular sawa cepat -cepatlah lari Jangan cuba-cuba nak \n",
      "pukul atau bunuh! \n",
      "Chan : Kenapa? Kamu takut ke? \n",
      "Samat : Awak ni tak faham ke, Chan? Nanti terlepas masuk mulut ular sawa, awak kena \n",
      "masuk penjara pula!\n",
      "Apakah maksud kata-kata Samat, 'Eee....ngerinya' dalam petikan di atas?\n",
      "\n",
      "A. Bayang-bayang ular sawa menelan manusia\n",
      "B. Dia terbayang kenangan ular sawa menelan manusia\n",
      "C. Gambar ular sawa menelan manusia yang tersiar dalam akhbar\n",
      "D. Kejadian ular sawa menelan manusia yang dilihat oleh Gopal.\"\n",
      "\n"
     ]
    }
   ],
   "source": [
    "x = \"\"\"\n",
    "\"Baca petikan di bawah, kemudian jawab soalan-soalan berikutnya\\nGopal : Eh, awak ingat lagi tak tentang berita manusia ditelan ular sawa tempoh hari!  \\nSamat : Mestilah Sampai sekarang saya masih terbayang-bayang gambar yang tersiar \\ndalam akhbar tu. \\nEee............ngerinya! \\nChan : Tapi yang peliknya, lepas kejadian tu tak putus-putus keluar cerita tentang ular sawa \\ndalam akhbar. Ular sawa telan ayamlah, telan kambinglah, dan macam -macam lagi \\nSamat : Apa yang peliknya, Chan Memanglah berita sensasi macam tu disukai oleh orang \\nramai Jadi wartawan pun jalankanlah tugas mereka untuk mencari cerita -cerita sedemikian! \\nGopal : Agaknya tak lama lagi ada pula berita tentang ular sawa telan gajah. Haa. masa  tu \\nbarulah heboh satu dunia! Adakah awak tahu ular sawa merupakan sejenis haiwan yang \\ndilindungi? \\nSamat : Tahu. baru semalam Cikgu Lina beritahu \\nGopal : Yalah, selama ni saya tak tahu pun yang kita boleh didakwa jika mencedera atau \\nmembunuh ular. \\nChan : Hukumannya berat juga Kita boleh kena denda hingga RM3 000 atau penjara!  \\nSamat : Dan boleh juga dikenakan kedua-duanya sekali! \\nGopal : Kalau macam tu, bila jumpa ular sawa cepat -cepatlah lari Jangan cuba-cuba nak \\npukul atau bunuh! \\nChan : Kenapa? Kamu takut ke? \\nSamat : Awak ni tak faham ke, Chan? Nanti terlepas masuk mulut ular sawa, awak kena \\nmasuk penjara pula!\\nApakah maksud kata-kata Samat, 'Eee....ngerinya' dalam petikan di atas?\\n\\nA. Bayang-bayang ular sawa menelan manusia\\nB. Dia terbayang kenangan ular sawa menelan manusia\\nC. Gambar ular sawa menelan manusia yang tersiar dalam akhbar\\nD. Kejadian ular sawa menelan manusia yang dilihat oleh Gopal.\"\n",
    "\"\"\"\n",
    "print(x)"
   ]
  },
  {
   "cell_type": "code",
   "execution_count": 9,
   "id": "1a5dd897",
   "metadata": {},
   "outputs": [
    {
     "name": "stdout",
     "output_type": "stream",
     "text": [
      "prepared-chatgpt-malay-instructions.jsonl\n",
      "prepared-chatgpt-malaysian-open-qa.jsonl\n",
      "prepared-malaysian-qa-choice.jsonl\n",
      "prepared-chatgpt4-malaysian-general-qa.jsonl\n",
      "prepared-chatgpt-malaysian-general-qa.jsonl\n",
      "prepared-chatgpt4-code-instruct.jsonl\n",
      "prepared-kertas-1.jsonl\n",
      "prepared-synthetic-commonsense.jsonl\n",
      "prepared-kesalahan-tatabahasa.jsonl\n",
      "prepared-camel-ai.jsonl\n",
      "prepared-NSText2SQL.jsonl\n"
     ]
    }
   ],
   "source": [
    "files = [\n",
    "    'prepared-chatgpt-malay-instructions.jsonl',\n",
    "    'prepared-chatgpt-malaysian-open-qa.jsonl',\n",
    "    'prepared-malaysian-qa-choice.jsonl',\n",
    "    'prepared-chatgpt4-malaysian-general-qa.jsonl',\n",
    "    'prepared-chatgpt-malaysian-general-qa.jsonl',\n",
    "    'prepared-chatgpt4-code-instruct.jsonl',\n",
    "    'prepared-kertas-1.jsonl',\n",
    "    'prepared-synthetic-commonsense.jsonl',\n",
    "    'prepared-kesalahan-tatabahasa.jsonl',\n",
    "    'prepared-camel-ai.jsonl',\n",
    "    'prepared-NSText2SQL.jsonl'\n",
    "]\n",
    "\n",
    "for f in files:\n",
    "    print(f)\n",
    "    with open(f) as fopen:\n",
    "        for l in fopen:\n",
    "            try:\n",
    "                data = json.loads(l)\n",
    "                if not accept(data['input']):\n",
    "                    continue\n",
    "                if not accept(data['output']):\n",
    "                    continue\n",
    "                fopen_l.write(f'{json.dumps(data)}\\n')\n",
    "                fopen_l.flush()\n",
    "            except:\n",
    "                pass"
   ]
  },
  {
   "cell_type": "code",
   "execution_count": 10,
   "id": "6ac65131",
   "metadata": {},
   "outputs": [
    {
     "name": "stdout",
     "output_type": "stream",
     "text": [
      "prepared-metamathqa.jsonl\n"
     ]
    }
   ],
   "source": [
    "files = [\n",
    "    'prepared-metamathqa.jsonl',\n",
    "]\n",
    "\n",
    "for f in files:\n",
    "    print(f)\n",
    "    with open(f) as fopen:\n",
    "        for l in fopen:\n",
    "            try:\n",
    "                if random.random() < 0.95:\n",
    "                    continue\n",
    "\n",
    "                data = json.loads(l)\n",
    "                \n",
    "                if data['output'].strip().endswith('ialah:'):\n",
    "                    continue\n",
    "                if not accept(data['input']):\n",
    "                    continue\n",
    "                if not accept(data['output']):\n",
    "                    continue\n",
    "                fopen_l.write(f'{json.dumps(data)}\\n')\n",
    "                fopen_l.flush()\n",
    "            except:\n",
    "                pass"
   ]
  },
  {
   "cell_type": "code",
   "execution_count": 11,
   "id": "ccf9edaf",
   "metadata": {},
   "outputs": [],
   "source": [
    "with open('prepared-malaysian-ultrachat.jsonl') as fopen:\n",
    "    for l in fopen:\n",
    "\n",
    "        if 'tolong terjemah' in l.lower():\n",
    "            continue\n",
    "\n",
    "        try:\n",
    "            data = json.loads(l)\n",
    "            if not accept(data['input']):\n",
    "                continue\n",
    "            fopen_l.write(f'{json.dumps(data)}\\n')\n",
    "            fopen_l.flush()\n",
    "        except:\n",
    "            pass"
   ]
  },
  {
   "cell_type": "code",
   "execution_count": 12,
   "id": "c33fc5eb",
   "metadata": {},
   "outputs": [
    {
     "name": "stdout",
     "output_type": "stream",
     "text": [
      "prepared-ultrachat-train_8.jsonl.translated.malay.no-alignment\n",
      "prepared-ultrachat-train_4.jsonl.translated.malay.no-alignment\n",
      "prepared-ultrachat-train_9.jsonl.translated.malay.no-alignment\n",
      "prepared-ultrachat-train_7.jsonl.translated.malay.no-alignment\n",
      "prepared-ultrachat-train_1.jsonl.translated.malay.no-alignment\n",
      "prepared-ultrachat-train_0.jsonl.translated.malay.no-alignment\n",
      "prepared-ultrachat-train_6.jsonl.translated.malay.no-alignment\n",
      "prepared-ultrachat-train_5.jsonl.translated.malay.no-alignment\n",
      "prepared-ultrachat-train_3.jsonl.translated.malay.no-alignment\n"
     ]
    }
   ],
   "source": [
    "files = glob('prepared-ultrachat-*')\n",
    "files = [f for f in files if 'mesolitica' not in f]\n",
    "\n",
    "for f in files:\n",
    "    print(f)\n",
    "    with open(f) as fopen:\n",
    "        \n",
    "        for l in fopen:\n",
    "            \n",
    "            if 'Saya mahir dalam bahasa' in l:\n",
    "                continue\n",
    "                \n",
    "            if 'tolong terjemah' in l.lower():\n",
    "                continue\n",
    "                \n",
    "            if '```' in l:\n",
    "                continue\n",
    "                    \n",
    "            try:\n",
    "                data = json.loads(l)\n",
    "                if not accept(data['input']):\n",
    "                    continue\n",
    "                    \n",
    "                if random.random() > 0.4:\n",
    "                    continue\n",
    "                    \n",
    "                fopen_l.write(f'{json.dumps(data)}\\n')\n",
    "                fopen_l.flush()\n",
    "            except:\n",
    "                pass"
   ]
  },
  {
   "cell_type": "code",
   "execution_count": 13,
   "id": "fb7686d0",
   "metadata": {},
   "outputs": [
    {
     "name": "stdout",
     "output_type": "stream",
     "text": [
      "1833495 combine-malay-multitasks-partial-ultrachat.jsonl\r\n"
     ]
    }
   ],
   "source": [
    "!wc -l combine-malay-multitasks-partial-ultrachat.jsonl"
   ]
  },
  {
   "cell_type": "code",
   "execution_count": null,
   "id": "276d59d3",
   "metadata": {},
   "outputs": [],
   "source": []
  },
  {
   "cell_type": "code",
   "execution_count": 14,
   "id": "4d09fb70",
   "metadata": {},
   "outputs": [],
   "source": [
    "!shuf combine-malay-multitasks-partial-ultrachat.jsonl > shuf-combine-malay-multitasks-partial-ultrachat.jsonl"
   ]
  },
  {
   "cell_type": "code",
   "execution_count": 15,
   "id": "56333e5a",
   "metadata": {},
   "outputs": [],
   "source": [
    "def generate_and_tokenize_prompt(row):\n",
    "    texts = ['<s>']\n",
    "\n",
    "    if 'function_call' in row:\n",
    "        t = row['function_call']\n",
    "        texts.append(f'\\n[FUNCTIONCALL]\\n{t}\\n')\n",
    "\n",
    "    if '<bot>:' in row['input'] and row['output'] is None:\n",
    "        inputs, outputs = [], []\n",
    "        splitted = row['input'].split('<bot>:')\n",
    "        for i in range(len(splitted) - 1):\n",
    "            if i == 0:\n",
    "                human = splitted[i].replace('<manusia>:', '')\n",
    "            else:\n",
    "                try:\n",
    "                    human = splitted[i].split('<manusia>:')[1]\n",
    "                except:\n",
    "                    continue\n",
    "            bot = splitted[i + 1].split('<manusia>:')[0]\n",
    "            inputs.append(human.strip())\n",
    "            outputs.append(bot.strip())\n",
    "    else:\n",
    "        inputs = [row['input']]\n",
    "        outputs = [row['output']]\n",
    "\n",
    "    for u, a in zip(inputs, outputs):\n",
    "        texts.append(f'[INST] {u.strip()} [/INST] {a.strip()}</s> ')\n",
    "\n",
    "    prompt = ''.join(texts)\n",
    "    return {'text': prompt}"
   ]
  },
  {
   "cell_type": "code",
   "execution_count": 16,
   "id": "b7d7228b",
   "metadata": {},
   "outputs": [
    {
     "name": "stderr",
     "output_type": "stream",
     "text": [
      "1833495it [00:26, 69036.63it/s]\n"
     ]
    }
   ],
   "source": [
    "from tqdm import tqdm\n",
    "\n",
    "with open('shuf-combine-malay-multitasks-partial-ultrachat.jsonl') as fopen:\n",
    "    for l in tqdm(fopen):\n",
    "        l = json.loads(l)\n",
    "        if 'function_call' in l and not isinstance(l['function_call'], str):\n",
    "            print(l['function_call'])\n",
    "        generate_and_tokenize_prompt(l)"
   ]
  },
  {
   "cell_type": "code",
   "execution_count": 17,
   "id": "8a8e0a75",
   "metadata": {},
   "outputs": [
    {
     "name": "stderr",
     "output_type": "stream",
     "text": [
      "/home/husein/.local/lib/python3.8/site-packages/requests/__init__.py:102: RequestsDependencyWarning: urllib3 (1.26.15) or chardet (5.2.0)/charset_normalizer (2.0.7) doesn't match a supported version!\n",
      "  warnings.warn(\"urllib3 ({}) or chardet ({})/charset_normalizer ({}) doesn't match a supported \"\n"
     ]
    },
    {
     "data": {
      "application/vnd.jupyter.widget-view+json": {
       "model_id": "cf273cd607ec4ecda12d7ea2cafcce20",
       "version_major": 2,
       "version_minor": 0
      },
      "text/plain": [
       "shuf-combine-malay-multitasks-partial-ultrachat.jsonl:   0%|          | 0.00/7.05G [00:00<?, ?B/s]"
      ]
     },
     "metadata": {},
     "output_type": "display_data"
    },
    {
     "data": {
      "text/plain": [
       "'https://huggingface.co/datasets/mesolitica/instructions-dataset/blob/main/shuf-combine-malay-multitasks-partial-ultrachat.jsonl'"
      ]
     },
     "execution_count": 17,
     "metadata": {},
     "output_type": "execute_result"
    }
   ],
   "source": [
    "from huggingface_hub import HfApi\n",
    "api = HfApi()\n",
    "api.upload_file(\n",
    "    path_or_fileobj='shuf-combine-malay-multitasks-partial-ultrachat.jsonl',\n",
    "    path_in_repo='shuf-combine-malay-multitasks-partial-ultrachat.jsonl',\n",
    "    repo_id='mesolitica/instructions-dataset',\n",
    "    repo_type='dataset',\n",
    ")"
   ]
  }
 ],
 "metadata": {
  "kernelspec": {
   "display_name": "Python 3 (ipykernel)",
   "language": "python",
   "name": "python3"
  },
  "language_info": {
   "codemirror_mode": {
    "name": "ipython",
    "version": 3
   },
   "file_extension": ".py",
   "mimetype": "text/x-python",
   "name": "python",
   "nbconvert_exporter": "python",
   "pygments_lexer": "ipython3",
   "version": "3.8.10"
  }
 },
 "nbformat": 4,
 "nbformat_minor": 5
}
