{
 "cells": [
  {
   "cell_type": "code",
   "execution_count": 1,
   "metadata": {},
   "outputs": [],
   "source": [
    "import os\n",
    "import json\n",
    "from glob import glob"
   ]
  },
  {
   "cell_type": "code",
   "execution_count": 2,
   "metadata": {},
   "outputs": [
    {
     "data": {
      "text/plain": [
       "['/home/husein/ssd3/google-translate-ultrachat/train_6.jsonl.translated.malay.no-alignment',\n",
       " '/home/husein/ssd3/google-translate-ultrachat/train_9.jsonl.translated.malay.no-alignment',\n",
       " '/home/husein/ssd3/google-translate-ultrachat/train_0.jsonl.translated.malay.no-alignment',\n",
       " '/home/husein/ssd3/google-translate-ultrachat/train_8.jsonl.translated.malay.no-alignment',\n",
       " '/home/husein/ssd3/google-translate-ultrachat/train_4.jsonl.translated.malay.no-alignment',\n",
       " '/home/husein/ssd3/google-translate-ultrachat/train_3.jsonl.translated.malay.no-alignment',\n",
       " '/home/husein/ssd3/google-translate-ultrachat/train_1.jsonl.translated.malay.no-alignment',\n",
       " '/home/husein/ssd3/google-translate-ultrachat/train_5.jsonl.translated.malay.no-alignment',\n",
       " '/home/husein/ssd3/google-translate-ultrachat/train_7.jsonl.translated.malay.no-alignment']"
      ]
     },
     "execution_count": 2,
     "metadata": {},
     "output_type": "execute_result"
    }
   ],
   "source": [
    "files = glob('/home/husein/ssd3/google-translate-ultrachat/train_*.jsonl.translated.malay.no-alignment')\n",
    "files"
   ]
  },
  {
   "cell_type": "code",
   "execution_count": 3,
   "metadata": {},
   "outputs": [
    {
     "name": "stdout",
     "output_type": "stream",
     "text": [
      "/home/husein/ssd3/google-translate-ultrachat/train_6.jsonl.translated.malay.no-alignment\n",
      "/home/husein/ssd3/google-translate-ultrachat/train_9.jsonl.translated.malay.no-alignment\n",
      "/home/husein/ssd3/google-translate-ultrachat/train_0.jsonl.translated.malay.no-alignment\n",
      "/home/husein/ssd3/google-translate-ultrachat/train_8.jsonl.translated.malay.no-alignment\n",
      "/home/husein/ssd3/google-translate-ultrachat/train_4.jsonl.translated.malay.no-alignment\n",
      "/home/husein/ssd3/google-translate-ultrachat/train_3.jsonl.translated.malay.no-alignment\n",
      "/home/husein/ssd3/google-translate-ultrachat/train_1.jsonl.translated.malay.no-alignment\n",
      "/home/husein/ssd3/google-translate-ultrachat/train_5.jsonl.translated.malay.no-alignment\n",
      "/home/husein/ssd3/google-translate-ultrachat/train_7.jsonl.translated.malay.no-alignment\n"
     ]
    }
   ],
   "source": [
    "for f in files:\n",
    "    print(f)\n",
    "    filename = f'prepared-ultrachat-{os.path.split(f)[1]}'\n",
    "    data_instructions = []\n",
    "    with open(f) as fopen:\n",
    "        for l in fopen:\n",
    "            data = json.loads(l)\n",
    "\n",
    "            splitted = data.split('<manusia>:')\n",
    "            if '<bot>:' not in splitted[-1]:\n",
    "                print(data)\n",
    "\n",
    "            inputs, outputs = [], []\n",
    "            splitted = data.split('<bot>:')\n",
    "            for i in range(len(splitted) - 1):\n",
    "                if i == 0:\n",
    "                    human = splitted[i].replace('<manusia>:', '')\n",
    "                else:\n",
    "                    human = splitted[i].split('<manusia>:')[1]\n",
    "                bot = splitted[i + 1].split('<manusia>:')[0]\n",
    "                inputs.append(human)\n",
    "                outputs.append(bot)\n",
    "\n",
    "            a = {\n",
    "                'prompt_input': None,\n",
    "                'input': data,\n",
    "                'output': None\n",
    "            }\n",
    "            data_instructions.append(a)\n",
    "    \n",
    "    with open(filename, 'w') as fopen:\n",
    "        for l in data_instructions:\n",
    "            fopen.write(f'{json.dumps(l)}\\n')"
   ]
  },
  {
   "cell_type": "code",
   "execution_count": 4,
   "metadata": {},
   "outputs": [
    {
     "name": "stdout",
     "output_type": "stream",
     "text": [
      "prepared-ultrachat-mesolitica.jsonl\r\n",
      "prepared-ultrachat-train_0.jsonl.translated.malay.no-alignment\r\n",
      "prepared-ultrachat-train_1.jsonl.translated.malay.no-alignment\r\n",
      "prepared-ultrachat-train_3.jsonl.translated.malay.no-alignment\r\n",
      "prepared-ultrachat-train_4.jsonl.translated.malay.no-alignment\r\n",
      "prepared-ultrachat-train_5.jsonl.translated.malay.no-alignment\r\n",
      "prepared-ultrachat-train_6.jsonl.translated.malay.no-alignment\r\n",
      "prepared-ultrachat-train_7.jsonl.translated.malay.no-alignment\r\n",
      "prepared-ultrachat-train_8.jsonl.translated.malay.no-alignment\r\n",
      "prepared-ultrachat-train_9.jsonl.translated.malay.no-alignment\r\n"
     ]
    }
   ],
   "source": [
    "!ls prepared-ultrachat*"
   ]
  },
  {
   "cell_type": "code",
   "execution_count": 5,
   "metadata": {},
   "outputs": [
    {
     "name": "stdout",
     "output_type": "stream",
     "text": [
      "ls: cannot access 'mixtral-conversation-badthings.texts*.splitted*': No such file or directory\r\n"
     ]
    }
   ],
   "source": [
    "!ls mixtral-conversation-badthings.texts*.splitted*"
   ]
  },
  {
   "cell_type": "code",
   "execution_count": 6,
   "metadata": {},
   "outputs": [],
   "source": [
    "# import time\n",
    "\n",
    "# for f in glob('prepared-ultrachat*'):\n",
    "#     with open(f) as fopen:\n",
    "#         for l in fopen:\n",
    "#             if \"saya tidak mempunyai\" in l.lower():\n",
    "#                 print(l)\n",
    "#                 time.sleep(1.0)"
   ]
  },
  {
   "cell_type": "code",
   "execution_count": 7,
   "metadata": {},
   "outputs": [
    {
     "name": "stdout",
     "output_type": "stream",
     "text": [
      "{\"prompt_input\": null, \"input\": \"<manusia>: How can cross training benefit groups like runners, swimmers, or weightlifters?\\n<bot>: Latihan silang boleh memanfaatkan kumpulan seperti pelari, perenang atau atlet angkat berat dengan cara berikut:\\n\\n1. Mengurangkan risiko kecederaan: Latihan silang melibatkan pelbagai jenis latihan yang melatih kumpulan otot yang berbeza. Ini mengurangkan risiko kecederaan berlebihan yang mungkin disebabkan oleh penggunaan berulang otot yang sama.\\n\\n2. Meningkatkan kecergasan keseluruhan: Latihan silang membantu meningkatkan tahap kecergasan keseluruhan dengan mengekalkan keseimbangan kekuatan, daya tahan, fleksibiliti dan kecergasan kardiovaskular.\\n\\n3. Memecahkan kebosanan: Latihan silang menambah kelainan pada rutin kecergasan anda dengan memperkenalkan senaman baharu, yang boleh membantu anda kekal bermotivasi dan mengelakkan kebosanan yang sering datang dengan melakukan senaman yang sama berulang kali.\\n\\n4. Meningkatkan kekuatan: Latihan silang membantu dalam membina kekuatan dengan menggabungkan latihan yang menyasarkan kumpulan otot yang berbeza. Ini membantu anda membina kekuatan di kawasan yang mungkin kurang dibangunkan.\\n\\n5. Meningkatkan prestasi: Latihan silang membolehkan anda mengusahakan pelbagai aspek kecergasan yang penting untuk sukan atau aktiviti anda. Sebagai contoh, pelari boleh mendapat manfaat daripada latihan kekuatan kerana ia membantu membina otot yang lebih kuat dan meningkatkan ekonomi larian.\\n\\nSecara keseluruhan, latihan silang menawarkan banyak faedah kepada atlet dan peminat kecergasan. Dengan memasukkan bentuk senaman lain ke dalam rutin mereka, individu boleh meningkatkan kecergasan keseluruhan mereka, mengurangkan risiko kecederaan dan meningkatkan prestasi mereka.\\n<manusia>: Yang masuk akal. Saya telah mahu meningkatkan masa larian saya, tetapi saya tidak pernah terfikir untuk menggabungkan latihan kekuatan. Adakah anda mempunyai sebarang cadangan untuk latihan tertentu?\\n<bot>: Sudah tentu, berikut adalah beberapa latihan latihan kekuatan yang boleh memberi manfaat kepada pelari:\\n\\n1. Squats: Squats menyasarkan glutes, quadriceps, dan hamstrings. Mereka membantu meningkatkan kekuatan, kuasa dan kestabilan bahagian bawah badan, menjadikannya latihan yang sangat baik untuk pelari.\\n\\n2. Lunges: Lunges menyasarkan otot yang sama seperti squats tetapi juga menggerakkan fleksor pinggul dan membantu meningkatkan keseimbangan.\\n\\n3. Deadlifts: Deadlifts ialah senaman kompaun yang menyasarkan glutes, hamstrings, dan bahagian bawah belakang. Mereka meningkatkan kekuatan, kuasa dan kestabilan badan yang lebih rendah.\\n\\n4. Latihan pliometrik: Latihan pliometrik seperti lompat jongkong, lompat kotak atau lompat kaki tunggal boleh membantu meningkatkan kuasa letupan, yang penting untuk lari pecut.\\n\\n5. Caf raise: Calf raise menyasarkan betis dan membantu meningkatkan ekonomi larian dengan menguatkan otot yang mendorong anda ke hadapan.\\n\\nAdalah penting untuk diingat untuk bermula dengan pemberat yang lebih ringan dan bentuk yang betul untuk mengelakkan kecederaan. Saya mengesyorkan berunding dengan jurulatih peribadi atau jurulatih untuk bimbingan tentang bentuk dan teknik yang betul.\\n<manusia>: Hmm, I'm not really a fan of weightlifting though. Can I incorporate other forms of exercise into my routine to improve my running time?\\n<bot>: Ya, benar-benar! Selain latihan kekuatan, terdapat banyak lagi jenis senaman yang boleh membantu meningkatkan prestasi larian tanpa melibatkan angkat berat. Berikut adalah beberapa contoh:\\n\\n1. Latihan pliometrik: Latihan pliometrik seperti lompat mencangkung, lompat kotak atau lompat satu kaki meningkatkan kuasa letupan yang boleh menjadikan larian anda lebih cekap.\\n\\n2. Latihan bukit: Latihan bukit ialah cara terbaik untuk meningkatkan stamina, kekuatan dan kelajuan keseluruhan anda.\\n\\n3. Latihan litar: Latihan litar ialah senaman seluruh badan yang boleh membantu membina daya tahan, kekuatan dan ketangkasan. Anda boleh memasukkan latihan seperti tekan tubi, lunges, burpees dan lompat tali untuk menjadikan litar lebih mencabar.\\n\\n4. Yoga: Yoga boleh membantu meningkatkan prestasi larian dengan meningkatkan fleksibiliti, kekuatan dan keseimbangan. Ia juga merupakan cara terbaik untuk mengurangkan tekanan dan kekal fokus.\\n\\n5. Berenang atau berbasikal: Berenang atau berbasikal ialah senaman berimpak rendah yang menyediakan senaman kardiovaskular yang hebat, yang boleh membantu meningkatkan daya tahan dan kecergasan.\\n\\nIngat untuk sentiasa mendengar badan anda dan berikan diri anda rehat dan masa pemulihan yang mencukupi antara latihan. Campurkan senaman anda untuk memastikan perkara menarik dan mencabar badan anda dengan cara baharu.\", \"output\": null}\r\n",
      "{\"prompt_input\": null, \"input\": \"<manusia>: Adakah terdapat sebarang faedah fizikal tertentu untuk berjalan dengan berhati-hati, seperti postur yang lebih baik atau peningkatan kecergasan fizikal?\\n<bot>: Ya, terdapat faedah fizikal untuk berjalan dengan berhati-hati, seperti postur yang lebih baik, peningkatan kecergasan fizikal dan keseimbangan yang lebih baik. Berjalan dengan penuh kesedaran juga boleh membantu melegakan ketegangan dalam badan, mengurangkan tekanan dan meningkatkan kelenturan. Ia juga boleh meningkatkan peredaran dan membantu pengurusan berat badan. Dengan menala ke dalam badan, berjalan dengan penuh kesedaran juga boleh membantu individu mengenal pasti dan menangani sebarang ketidakseimbangan atau ketidakselesaan, yang membawa kepada badan yang lebih sihat dan sejajar.\\n<manusia>: That sounds great! Can you give me some tips on how to incorporate mindful walking into my daily routine?\\n<bot>: Sudah tentu, berikut ialah beberapa petua tentang cara memasukkan berjalan yang penuh perhatian ke dalam rutin harian anda:\\n\\n1. Pilih persekitaran yang tenang dan damai untuk berjalan kaki anda. Ini boleh menjadi taman, kawasan kejiranan yang tenang atau taman.\\n\\n2. Mulakan dengan menyesuaikan nafas anda dan menyedari persekitaran anda. Tarik nafas dalam-dalam dan perlahan-lahan masuk dan keluar.\\n\\n3. Beri perhatian kepada sensasi dalam badan anda semasa anda berjalan. Perhatikan pergerakan kaki anda, berat badan beralih dari satu kaki ke kaki yang lain, dan pergerakan lengan anda.\\n\\n4. Tumpukan perhatian anda pada persekitaran anda. Perhatikan warna, bau dan bunyi di sekeliling anda. Libatkan deria anda sepenuhnya dan terima segala-galanya.\\n\\n5. Hadir dan lepaskan sebarang fikiran atau kebimbangan yang mungkin timbul. Bawa perhatian anda kembali ke masa sekarang dan teruskan memerhatikan persekitaran anda semasa anda berjalan.\\n\\n6. Cuba kekalkan rentak yang perlahan dan stabil. Ini akan membantu anda kekal hadir dan fokus pada perjalanan anda.\\n\\n7. Tetapkan niat untuk berjalan anda, seperti rasa syukur atau belas kasihan. Ini akan membantu anda kekal fokus dan fokus semasa latihan anda.\\n\\nDengan memasukkan berjalan dengan penuh perhatian ke dalam rutin harian anda, anda boleh mengalami banyak faedah fizikal dan mental. Nikmati perjalanan anda!\\n<manusia>: Wow, I never realized that walking could have so many benefits. I think I need to start incorporating mindful walking into my daily routine. But what if I live in a busy city and can't find a quiet place to walk? How can I still practice mindful walking in a noisy environment?\\n<bot>: Itu soalan yang bagus! Walaupun di bandar yang sibuk dengan bunyi bising, masih terdapat cara untuk berlatih berjalan dengan penuh kesedaran. Berikut adalah beberapa strategi:\\n\\n1. Gunakan fon kepala atau penyumbat telinga untuk menghalang bunyi. Anda boleh mendengar muzik atau bunyi yang menenangkan yang membantu anda berehat, atau hanya menggunakan penyumbat telinga untuk meredam bunyi.\\n\\n2. Fokus pada nafas anda, bukannya persekitaran anda. Dalam persekitaran yang bising, mudah untuk terganggu oleh bunyi sekeliling. Sebaliknya, fokus pada nafas anda dan sensasi berjalan sebanyak mungkin.\\n\\n3. Gunakan mantera atau frasa untuk membantu anda kekal fokus. Pilih perkataan atau frasa yang bermakna kepada anda (cth. \\\"damai\\\" atau \\\"Saya tenang\\\") dan ulangi kepada diri sendiri secara senyap semasa anda berjalan.\\n\\n4. Berlatih berjalan pada waktu yang berbeza dalam sehari. Jika bunyi bising terlalu kuat pada waktu siang, cuba berjalan pada awal pagi atau lewat pada waktu petang apabila ia lebih senyap.\\n\\n5. Berjalan kaki secara solo boleh membantu. Kadang-kadang, berjalan di kawasan yang sibuk atau bising boleh membawa kepada rangsangan yang berlebihan, jadi cuba berjalan sendiri atau dengan kumpulan kecil untuk mengurangkan kebimbangan sosial sebagai tambahan kepada lalu lintas bandar.\\n\\nIngat, perkara yang paling penting ialah kekal hadir dan fokus pada perjalanan anda sebanyak mungkin, walaupun dalam persekitaran yang mencabar. Dengan latihan dan keazaman, anda boleh belajar berjalan dengan penuh perhatian dan mengalami faedah tidak kira di mana anda berada.\", \"output\": null}\r\n",
      "{\"prompt_input\": null, \"input\": \"<manusia>: Berapakah peratusan permukaan Bumi diliputi oleh lautan?\\n<bot>: Kira-kira 71% daripada permukaan bumi dilitupi oleh lautan.\\n<manusia>: Wow, that's a lot of water! No wonder we call it the blue planet.\\n<bot>: Ya, memang betul! Lautan memainkan peranan penting dalam mengawal iklim Bumi dan menyokong kehidupan di planet kita. Dan mereka juga merupakan sumber makanan, tenaga dan rekreasi yang hebat untuk kita manusia!\", \"output\": null}\r\n"
     ]
    }
   ],
   "source": [
    "!head -n 3 prepared-ultrachat-train_0.jsonl.translated.malay.no-alignment"
   ]
  },
  {
   "cell_type": "code",
   "execution_count": null,
   "metadata": {},
   "outputs": [],
   "source": []
  }
 ],
 "metadata": {
  "kernelspec": {
   "display_name": "Python 3 (ipykernel)",
   "language": "python",
   "name": "python3"
  },
  "language_info": {
   "codemirror_mode": {
    "name": "ipython",
    "version": 3
   },
   "file_extension": ".py",
   "mimetype": "text/x-python",
   "name": "python",
   "nbconvert_exporter": "python",
   "pygments_lexer": "ipython3",
   "version": "3.8.10"
  }
 },
 "nbformat": 4,
 "nbformat_minor": 4
}
