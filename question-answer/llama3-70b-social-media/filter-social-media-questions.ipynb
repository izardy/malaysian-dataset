{
 "cells": [
  {
   "cell_type": "code",
   "execution_count": 32,
   "id": "1abc32f0",
   "metadata": {},
   "outputs": [],
   "source": [
    "# !https://huggingface.co/datasets/malaysia-ai/dedup-text-dataset/resolve/main/malay-tweets.jsonl"
   ]
  },
  {
   "cell_type": "code",
   "execution_count": 49,
   "id": "01a4be90",
   "metadata": {},
   "outputs": [
    {
     "name": "stderr",
     "output_type": "stream",
     "text": [
      "4307116it [00:23, 181915.18it/s]\n"
     ]
    }
   ],
   "source": [
    "import json\n",
    "from tqdm import tqdm\n",
    "\n",
    "filtered = []\n",
    "\n",
    "with open('b.cari.com.my.jsonl') as fopen:\n",
    "    for l in tqdm(fopen):\n",
    "        l = json.loads(l)\n",
    "        l = ' '.join([w for w in l.split() if w[0] != '@'])\n",
    "        if l.endswith('?') and len(l) > 30:\n",
    "            filtered.append(l)"
   ]
  },
  {
   "cell_type": "code",
   "execution_count": 50,
   "id": "eb3f5eb0",
   "metadata": {},
   "outputs": [
    {
     "name": "stderr",
     "output_type": "stream",
     "text": [
      "11987371it [00:25, 464985.17it/s]\n"
     ]
    }
   ],
   "source": [
    "with open('malay-tweets.jsonl') as fopen:\n",
    "    for l in tqdm(fopen):\n",
    "        l = json.loads(l)\n",
    "        l = ' '.join([w for w in l.split() if w[0] != '@'])\n",
    "        if l.endswith('?') and len(l) > 30:\n",
    "            filtered.append(l)"
   ]
  },
  {
   "cell_type": "code",
   "execution_count": 51,
   "id": "5ae37656",
   "metadata": {},
   "outputs": [
    {
     "data": {
      "text/plain": [
       "631115"
      ]
     },
     "execution_count": 51,
     "metadata": {},
     "output_type": "execute_result"
    }
   ],
   "source": [
    "len(filtered)"
   ]
  },
  {
   "cell_type": "code",
   "execution_count": 42,
   "id": "bf0cb65d",
   "metadata": {},
   "outputs": [
    {
     "data": {
      "text/plain": [
       "631708"
      ]
     },
     "execution_count": 42,
     "metadata": {},
     "output_type": "execute_result"
    }
   ],
   "source": [
    "len(set(filtered))"
   ]
  },
  {
   "cell_type": "code",
   "execution_count": 45,
   "id": "c5f30404",
   "metadata": {},
   "outputs": [
    {
     "data": {
      "text/plain": [
       "'FFM ni banyak pulak sindir menyindir .. semua nak naikkan nama masing2 yang sendu kee???'"
      ]
     },
     "execution_count": 45,
     "metadata": {},
     "output_type": "execute_result"
    }
   ],
   "source": [
    "filtered[-0]"
   ]
  },
  {
   "cell_type": "code",
   "execution_count": 46,
   "id": "577f69b0",
   "metadata": {},
   "outputs": [],
   "source": [
    "with open('filter-social-media-questions.jsonl', 'w') as fopen:\n",
    "    for t in set(filtered):\n",
    "        if not len(t):\n",
    "            continue\n",
    "        fopen.write(f'{json.dumps(t)}\\n')"
   ]
  },
  {
   "cell_type": "code",
   "execution_count": 47,
   "id": "3009c188",
   "metadata": {},
   "outputs": [
    {
     "name": "stdout",
     "output_type": "stream",
     "text": [
      "631708 filter-social-media-questions.jsonl\r\n"
     ]
    }
   ],
   "source": [
    "!wc -l filter-social-media-questions.jsonl"
   ]
  },
  {
   "cell_type": "code",
   "execution_count": 48,
   "id": "b412e4ef",
   "metadata": {},
   "outputs": [
    {
     "name": "stdout",
     "output_type": "stream",
     "text": [
      "-rw-rw-r-- 1 husein husein 80M Jun  21 15:26 filter-social-media-questions.jsonl\r\n"
     ]
    }
   ],
   "source": [
    "!ls -lh filter-social-media-questions.jsonl"
   ]
  },
  {
   "cell_type": "code",
   "execution_count": null,
   "id": "de6df872",
   "metadata": {},
   "outputs": [],
   "source": []
  }
 ],
 "metadata": {
  "kernelspec": {
   "display_name": "Python 3 (ipykernel)",
   "language": "python",
   "name": "python3"
  },
  "language_info": {
   "codemirror_mode": {
    "name": "ipython",
    "version": 3
   },
   "file_extension": ".py",
   "mimetype": "text/x-python",
   "name": "python",
   "nbconvert_exporter": "python",
   "pygments_lexer": "ipython3",
   "version": "3.8.10"
  }
 },
 "nbformat": 4,
 "nbformat_minor": 5
}
