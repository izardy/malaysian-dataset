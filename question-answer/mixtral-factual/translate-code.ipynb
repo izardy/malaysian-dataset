{
 "cells": [
  {
   "cell_type": "code",
   "execution_count": 2,
   "id": "cdb7031e",
   "metadata": {},
   "outputs": [
    {
     "name": "stdout",
     "output_type": "stream",
     "text": [
      "\"Does the direct supervisor support or oppose the application?\"\r\n",
      "\"The religious leader that was present during the event, as mentioned in the article, was Mufti Pahang Datuk Seri Dr Abdul Rahman Osman.\"\r\n",
      "\"Can you write Python code in a word processing software and run it directly?\"\r\n",
      "\"How many soldiers were stationed at the military base at the time of the attack? (The text does not provide information on the number of soldiers present at the base during the attack.)\"\r\n",
      "\"Yes, it is true that Imam Syafi'i considered it wajib (obligatory) to recite al-Fatihah in every rakaat, including during the funeral prayer.\"\r\n",
      "\"Was the main focus of the workshop to improve research publication quality in the fields of business and management?\"\r\n",
      "\"Based on the article, it appears that the decision on the new capital city location will not be made without considering various aspects, including social, political, and sociological impacts on the local community. President Joko Widodo mentioned that infrastructure preparation, social-political issues, societal aspects, and other factors need to be taken into account. He also mentioned that a team would be sent to conduct a survey and gather data, which will then be presented to him before a decision is made. Therefore, it seems that the decision will not be made without proper consideration of the potential impacts on the local community.\"\r\n",
      "\"Is the Roborock Dyad Pro the same as the Roborock Dyad?\"\r\n",
      "\"Potential innovations in the field of housing, community, and economic development could include the use of technology to improve access to affordable housing, such as through the use of online platforms to connect low-income residents with available housing options. Additionally, innovations in community engagement and organizing could help to better involve and empower residents of imaginary communities in decision-making processes that affect their community. This could include the use of technology to facilitate virtual meetings and communication, as well as the development of new community engagement strategies that take into account the unique needs and challenges of imaginary communities. Overall, it is important to approach the development of innovations in this field with a focus on addressing the specific needs and challenges of imaginary communities, in order to create sustainable and equitable solutions.\"\r\n",
      "\"According to the text, discipline and self-control are crucial in preventing the spread of COVID-19. The text highlights the importance of following standard operating procedures (SOPs) such as wearing masks, washing hands regularly, maintaining physical distance, and staying at home except for essential purposes. The text also emphasizes the need for discipline and self-control in the workplace, where physical distancing may not be sufficient due to limited space and high worker density. The text suggests that workers and employers must prioritize social distancing measures and follow them consistently. The text also emphasizes the need to take the COVID-19 vaccine as a crucial step in preventing the spread of the virus. Overall, the text argues that discipline, self-control, and following SOPs are essential in preventing the spread of COVID-19.\"\r\n"
     ]
    }
   ],
   "source": [
    "!head -n 10 texts.texts00.splitted"
   ]
  },
  {
   "cell_type": "code",
   "execution_count": 3,
   "id": "33811773",
   "metadata": {},
   "outputs": [
    {
     "name": "stdout",
     "output_type": "stream",
     "text": [
      "texts.texts00.splitted\t       texts.texts00.splitted.requested\r\n",
      "texts.texts00.splitted.pickle\r\n"
     ]
    }
   ],
   "source": [
    "!ls texts.texts00.splitted*"
   ]
  },
  {
   "cell_type": "code",
   "execution_count": 9,
   "id": "9a16a8ac",
   "metadata": {},
   "outputs": [
    {
     "data": {
      "text/plain": [
       "62506"
      ]
     },
     "execution_count": 9,
     "metadata": {},
     "output_type": "execute_result"
    }
   ],
   "source": [
    "import json\n",
    "\n",
    "data = []\n",
    "with open('factually-wrong-qa-coding.jsonl') as fopen:\n",
    "    for l in fopen:\n",
    "        l = json.loads(l)\n",
    "        data.extend([\n",
    "            l['question'],\n",
    "            l['answer']\n",
    "        ])\n",
    "        \n",
    "data = list(set(data))\n",
    "len(data)"
   ]
  },
  {
   "cell_type": "code",
   "execution_count": 2,
   "id": "9830dca9",
   "metadata": {},
   "outputs": [
    {
     "name": "stderr",
     "output_type": "stream",
     "text": [
      "/home/husein/dev/malaya/malaya/tokenizer.py:214: FutureWarning: Possible nested set at position 3397\n",
      "  self.tok = re.compile(r'({})'.format('|'.join(pipeline)))\n",
      "/home/husein/dev/malaya/malaya/tokenizer.py:214: FutureWarning: Possible nested set at position 3927\n",
      "  self.tok = re.compile(r'({})'.format('|'.join(pipeline)))\n"
     ]
    }
   ],
   "source": [
    "import malaya"
   ]
  },
  {
   "cell_type": "code",
   "execution_count": 3,
   "id": "c540c492",
   "metadata": {},
   "outputs": [
    {
     "name": "stderr",
     "output_type": "stream",
     "text": [
      "Special tokens have been added in the vocabulary, make sure the associated word embeddings are fine-tuned or trained.\n"
     ]
    }
   ],
   "source": [
    "model = malaya.translation.huggingface(\n",
    "    model = 'mesolitica/translation-t5-small-standard-bahasa-cased-code',\n",
    "    force_check = False,\n",
    "    use_ctranslate2 = True, \n",
    "    device = 'cuda', \n",
    "    quantization = 'bfloat16',\n",
    ")"
   ]
  },
  {
   "cell_type": "code",
   "execution_count": 12,
   "id": "389fd784",
   "metadata": {},
   "outputs": [
    {
     "name": "stderr",
     "output_type": "stream",
     "text": [
      "100%|████████████████████████████████████████████████████████████████████████████████████████████████████████████| 62506/62506 [3:09:55<00:00,  5.49it/s]\n"
     ]
    }
   ],
   "source": [
    "from tqdm import tqdm\n",
    "\n",
    "to = 'ms'\n",
    "max_length = 2048\n",
    "\n",
    "results = []\n",
    "for text in tqdm(data):\n",
    "    r = model.generate([text], to_lang = to, max_input_length = max_length, max_decoding_length = max_length)[0]\n",
    "    d = {'src': text, 'r': r}\n",
    "    results.append(d)"
   ]
  },
  {
   "cell_type": "code",
   "execution_count": 13,
   "id": "ee16c386",
   "metadata": {},
   "outputs": [
    {
     "data": {
      "text/plain": [
       "{'src': 'Is the set of all even numbers countable or uncountable?',\n",
       " 'r': 'Adakah set semua nombor genap boleh dikira atau tidak boleh dikira?'}"
      ]
     },
     "execution_count": 13,
     "metadata": {},
     "output_type": "execute_result"
    }
   ],
   "source": [
    "results[0]"
   ]
  },
  {
   "cell_type": "code",
   "execution_count": 14,
   "id": "e54c6d16",
   "metadata": {},
   "outputs": [],
   "source": [
    "with open('mixtral-factually-wrong-code.translated', 'w') as fopen:\n",
    "    json.dump(results, fopen)"
   ]
  },
  {
   "cell_type": "code",
   "execution_count": null,
   "id": "e06bdb65",
   "metadata": {},
   "outputs": [],
   "source": []
  }
 ],
 "metadata": {
  "kernelspec": {
   "display_name": "Python 3 (ipykernel)",
   "language": "python",
   "name": "python3"
  },
  "language_info": {
   "codemirror_mode": {
    "name": "ipython",
    "version": 3
   },
   "file_extension": ".py",
   "mimetype": "text/x-python",
   "name": "python",
   "nbconvert_exporter": "python",
   "pygments_lexer": "ipython3",
   "version": "3.8.10"
  }
 },
 "nbformat": 4,
 "nbformat_minor": 5
}
