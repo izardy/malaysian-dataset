{
 "cells": [
  {
   "cell_type": "code",
   "execution_count": 1,
   "id": "03975148",
   "metadata": {},
   "outputs": [
    {
     "name": "stderr",
     "output_type": "stream",
     "text": [
      "/home/husein/.local/lib/python3.8/site-packages/requests/__init__.py:102: RequestsDependencyWarning: urllib3 (1.26.15) or chardet (5.2.0)/charset_normalizer (2.0.7) doesn't match a supported version!\n",
      "  warnings.warn(\"urllib3 ({}) or chardet ({})/charset_normalizer ({}) doesn't match a supported \"\n"
     ]
    }
   ],
   "source": [
    "from huggingface_hub import InferenceClient\n",
    "from tqdm import tqdm\n",
    "import os\n",
    "import json"
   ]
  },
  {
   "cell_type": "code",
   "execution_count": 2,
   "id": "398a8dd3",
   "metadata": {},
   "outputs": [],
   "source": [
    "from concurrent.futures import ThreadPoolExecutor, as_completed\n",
    "\n",
    "generate_kwargs = dict(\n",
    "    temperature=1.0,\n",
    "    max_new_tokens=4096,\n",
    "    top_p=0.95,\n",
    "    repetition_penalty=1.0,\n",
    "    do_sample=True,\n",
    ")"
   ]
  },
  {
   "cell_type": "code",
   "execution_count": 3,
   "id": "d0d8a44e",
   "metadata": {},
   "outputs": [],
   "source": [
    "client = InferenceClient(\n",
    "    \"https://mixtral.us-west-2.mesolitica.com\", timeout = 120\n",
    ")\n",
    "\n",
    "\n",
    "def format_prompt(message, history):\n",
    "  prompt = \"<s>\"\n",
    "  for user_prompt, bot_response in history:\n",
    "    prompt += f\"[INST] {user_prompt} [/INST]\"\n",
    "    prompt += f\" {bot_response}</s> \"\n",
    "  prompt += f\"[INST] {message} [/INST]\"\n",
    "  return prompt"
   ]
  },
  {
   "cell_type": "code",
   "execution_count": 5,
   "id": "870c2eb7",
   "metadata": {},
   "outputs": [],
   "source": [
    "files = [\n",
    "    'maktabahalbakri.com.jsonl',\n",
    "    'muftiwp.gov.my.jsonl',\n",
    "    'asklegal.jsonl',\n",
    "    'dewanbahasa-jdbp.jsonl',\n",
    "    'gov.my.jsonl',\n",
    "    'patriots.jsonl',\n",
    "    'rootofscience.jsonl',\n",
    "    'majalahsains.jsonl',\n",
    "    'nasilemaktech.com.jsonl',\n",
    "    'alhijrahnews-articles.jsonl',\n",
    "]"
   ]
  },
  {
   "cell_type": "code",
   "execution_count": 6,
   "id": "f23d2045",
   "metadata": {},
   "outputs": [],
   "source": [
    "def partition(text, size = 2000):\n",
    "    splitted = text.split()\n",
    "    return [' '.join(splitted[i: i + size]) for i in range(0, len(splitted), size) if len(splitted[i: i + size]) > 500]"
   ]
  },
  {
   "cell_type": "code",
   "execution_count": 7,
   "id": "b3b73785",
   "metadata": {},
   "outputs": [
    {
     "name": "stdout",
     "output_type": "stream",
     "text": [
      "maktabahalbakri.com.jsonl 3365 3\n",
      "muftiwp.gov.my.jsonl 3669 3\n",
      "asklegal.jsonl 1231 3\n",
      "dewanbahasa-jdbp.jsonl 4154 3\n",
      "gov.my.jsonl 21097 1\n",
      "patriots.jsonl 10420 1\n",
      "rootofscience.jsonl 1138 3\n",
      "majalahsains.jsonl 1471 3\n",
      "nasilemaktech.com.jsonl 4376 3\n",
      "alhijrahnews-articles.jsonl 7838 3\n"
     ]
    },
    {
     "data": {
      "text/plain": [
       "113243"
      ]
     },
     "execution_count": 7,
     "metadata": {},
     "output_type": "execute_result"
    }
   ],
   "source": [
    "import math\n",
    "\n",
    "all_texts = []\n",
    "for f in files:\n",
    "    texts = []\n",
    "    with open(f) as fopen:\n",
    "        for l in fopen:\n",
    "            l = json.loads(l)\n",
    "            if isinstance(l, dict):\n",
    "                l = l['body']\n",
    "            if len(l.split()) < 150:\n",
    "                continue\n",
    "            texts.append(l)\n",
    "    if len(texts) > 10000:\n",
    "        factor = 1\n",
    "    else:\n",
    "        factor = 3\n",
    "    print(f, len(texts), factor)\n",
    "    texts = texts * factor\n",
    "    all_texts.extend(texts)\n",
    "len(all_texts)"
   ]
  },
  {
   "cell_type": "code",
   "execution_count": 8,
   "id": "e1c55ebc",
   "metadata": {},
   "outputs": [
    {
     "data": {
      "text/plain": [
       "131001"
      ]
     },
     "execution_count": 8,
     "metadata": {},
     "output_type": "execute_result"
    }
   ],
   "source": [
    "with open('wikipedia-2023-10-01.jsonl') as fopen:\n",
    "    for l in fopen:\n",
    "        l = json.loads(l)\n",
    "        for p in partition(l):\n",
    "            all_texts.append(p)\n",
    "len(all_texts)"
   ]
  },
  {
   "cell_type": "code",
   "execution_count": 9,
   "id": "4aa36de3",
   "metadata": {},
   "outputs": [
    {
     "data": {
      "text/plain": [
       "131001"
      ]
     },
     "execution_count": 9,
     "metadata": {},
     "output_type": "execute_result"
    }
   ],
   "source": [
    "prompts = []\n",
    "for t in all_texts:\n",
    "    prompt = f'{t}\\n\\ngenerate factual wrong and confusing questions ONLY to trick people based on context above'\n",
    "    prompts.extend([(t, prompt)] * 1)\n",
    "    \n",
    "len(prompts)"
   ]
  },
  {
   "cell_type": "code",
   "execution_count": 10,
   "id": "fb93b225",
   "metadata": {},
   "outputs": [
    {
     "data": {
      "text/plain": [
       "('-33%\\n\\n\\n\\n\\n \\n\\nSiri Tasawuf\\nAhasin Al Kalim Syarah Hikam Jilid 2\\n\\n\\nRM\\n30.00\\n \\nRM\\n20.00\\nTambah Troli\\n\\n\\n\\n\\n \\n\\neBook Siri umum\\n[eBook] Inilah Doaku\\n\\n\\nRM\\n5.00\\nTambah Troli\\n\\n\\n\\n\\n \\n\\nSiri Umum\\n[eBook] Kalimah Allah Edisi Kemaskini\\n\\n\\nRM\\n10.00\\nTambah Troli\\n\\n\\n\\n\\n \\n\\nBuku Fizikal\\nKeajaiban Sedekah\\n\\n\\nRM\\n25.00\\nTambah Troli\\n\\n\\n\\n\\n \\n\\nEbook\\neBook Mereka yang Pemurah\\nRated \\n5.00\\n out of 5\\n\\n\\nRM\\n10.00\\nTambah Troli\\n-33%\\n\\n\\n\\n\\n \\n\\neBook Sirah\\n[eBook] – Garis Masa Hayat Al Rasul SAW Edisi Pertama\\n\\n\\nRM\\n30.00\\n \\nRM\\n20.00\\nTambah Troli\\n-20%\\n\\n\\n\\n\\n \\n\\nBuku Fizikal\\nPanduan Lengkap Ke Arah Kesempurnaan Ibadah Haji dan Umrah\\n\\n\\nRM\\n100.00\\n \\nRM\\n80.00\\nTambah Troli\\n\\n\\n\\n\\n \\n\\nKajian Ilmiah\\nSahabat Nabi SAW yang bernama Tha’labah\\n\\n\\nRM\\n5.00\\nTambah Troli\\nSoalan\\nApakah dalil daripada sunnah yang menunjukkan Rasulullah SAW selalu berbekam?\\nJawapan\\nAlhamdulillah, puji dan syukur kepada Ilahi atas pelbagai kurniaan dan anugerah yang tidak terhitung buat kita semua. Selawat dan salam ke atas junjungan besar Nabi Muhammad SAW, ahli keluarga, para sahabat dan mereka yang mengikut jejak langkah Baginda hingga ke Hari Kesudahan.\\nBerbekam ataupun dalam bahasa arabnya \\nal-Hijamah\\n (الْحِجَامَةُ) diambil daripada kata perbuatan\\n Hajam\\n (حَجَمَ) yang bermaksud bermaksud menyedut, dan bekam bermaksud menyedut darah dan mengeluarkannya daripada badan.\\n[1]\\nRasulullah SAW pernah berbekam dan Baginda bersabda:\\nخَيْرُ مَا تَدَاوَيْتُمْ بِهِ الْحِجَامَةُ\\nMaksudnya:\\n “\\nSebaik-baik pengubatan yang kalian gunakan adalah bekam.”\\n[2]\\nRasulullah SAW pernah berbekam dan ia dilakukan oleh Abu Taibah. Kemudian Rasulullah SAW memberinya 2 gantang makanan. Adapun tempat berbekam sebagaimana yang diriwayatkan daripada Abdullah bin Malik bin Buhainah RA, bahawa Rasulullah SAW berbekam di kepalanya:\\nأنَّ رَسولَ اللَّهِ صَلّى اللهُ عليه وسلَّمَ احْتَجَمَ بلَحْيِ جَمَلٍ مِن طَرِيقِ مَكَّةَ، وهو مُحْرِمٌ، في وسَطِ رَأْسِهِ.\\nMaksudnya:\\n \\nSesungguhnya Rasulullah SAW berbekam di tengah kepalanya ketika berada di Lahyi Jamal semasa dalam perjalanan ke Makkah dan baginda berada di dalam keadaan ihram.\\n[3]\\nTerdapat banyak hadith yang menceritakan berkaitan berbekam, antaranya ialah:\\nDaripada Anas bin Malik, bahawa Nabi SAW bersabda:\\nحجمَ أبو طيبَةَ رسولَ اللهِ صلَّى اللهُ عليهِ وسلمَ ، فأمرَ له بصاعٍ من تمرٍ ، وأمَرَ أهلَهُ أن يخفِّفُوا من خراجِهِ\\nMaksudnya\\n: \\n“Abu Thaibah membekam Rasulullah SAW lalu Baginda SAW membayarnya dengan satu sha’ kurma dan Baginda SAW mengarahkan keluarganya untuk meringankan pajaknya”.\\n[4]\\nDaripada Abdullah bin Abbas :\\nحجم النبيَّ صلَّى اللهُ عليهِ وسلَّمَ عبدٌ لبني بياضةَ . فأعطاهُ النبيُّ أجرَه . وكلَّم سيدَه فخفَّفَ عنهُ من ضريبتِه ولو كان سُحتًا لم يُعطِه النبيُّ صلَّى اللهُ عليهِ وسلَّم\\nMaksudnya:\\n “Nabi SAW pernah berbekam oleh seorang hamba kepunyaan Bani Bayadhah. Maka Nabi SAW memberinya upah dan Nabi SAW bercakap dengan tuannya agar meringankan tugasnya”. Jika berbekam ini adalah haram, tentu Nabi SAW tidak memberikannya upah.\\n[5]\\nDaripada Anas bin Malik, bahawa Nabi SAW bersabda:\\nإنَّ أفضلَ ما تداويتُم بِه الحجامةَ أو إنَّ من أمثلِ دوائِكمُ الحجامةَ\\nMaksudnya:\\n \\n“Sesungguhnya sebaik-baik perubatan yang kalian gunakan adalah berbekam” atau “Sebaik-baik ubat untuk kalian adalah berbekam”.\\n[6]\\nDaripada Abdullah bin Abbas, bahawa Nabi SAW bersabda:\\nاحتجم النبيُّ صلَّى اللهُ عليهِ وسلَّمَ في الأخدعَيْنِ وبَينَ الكَتِفَيْنِ\\nMaksudnya: “\\nNabi SAW pernah berbekam di lehernya dan juga di antara dua bahunya”.\\n[7]\\nDaripada Abdullah bin Abbas, Bahawa Rasulullah SAW bersabda:\\nأَنَّ النَّبِيَّ صلَّى اللهُ عَلَيْهِ وَسَلَّم احْتَجَم وَهُوَ مُحرِمٌ، وَاحْتجَم وَهُوَ صَائِمٌ\\nMaksudnya\\n: “ \\nNabi SAW berbekam dalam keadaan Baginda SAW berihram dan juga Baginda SAW berbekam ketika Baginda SAW berpuasa”.\\n[8]\\nFaedah berbekam\\nKami kemukakan di sini beberapa faedah berbekam\\n[9]\\n, antaranya:\\nMembuang darah bertoksik yang ada di bawah permukaan kulit.\\nMelancarkan peredaran darah selain membuang angin dalam badan yang menimbulkan rasa tidak selesa.\\nMeringankan otot yang kejang.\\nMengatasi ketegangan berpanjangan.\\nMembebaskan angin kotor dan toksik dalam badan.\\nHukum berbekam\\nTerdapat \\nsebahagian para ulama’ mengatakan bahawa ia adalah sunnah secara mutlak\\n. Iaitu sesiapa sahaja yang melakukan akan mendapat ganjaran samada ia berhajat padanya ataupun tidak. Namun begitu, berbekam adalah satu tuntutan terhadap sesiapa yang memerlukannya dan Nabi SAW juga telah mengatakan sedemikian. Jika orang yang sakit berbekam dengan pembekam yang berautoriti kerana beramal dengan apa yang dinasihatkan dan diajar oleh Nabi SAW maka perbuatan tersebut akan mendapat pahala daripada Allah SWT tanpa syak lagi. Manakala bagi sesiapa yang tidak memerlukannya maka tidak dikenakan apa-apa padanya. Wallahua`lam.\\nBertarikh 12 November 2021 M bersamaan\\xa0 7 Rabiul Akhir 1443 H\\n\\xa0\\n[1]\\n \\xa0Lihat \\nLisan al-Arab,\\n 3/67-68\\n[2]\\n Riwayat Ahmad (12045)\\n[3]\\n Riwayat al-Bukhari (5698)\\n[4]\\n Riwayat al-Bukhari (1960)\\n[5]\\n Riwayat Muslim (2955)\\n[6]\\n Riwayat al-Tirmizi (1199)\\n[7]\\n Riwayat Ahmad (1987)\\n[8]\\n Riwayat al-Bukhari (1802)\\n[9]\\n Pandangan ini sebagaimana dinyatakan oleh pengamal bekam, Zahrin Zulkifli dalam akhbar berita harian. Lihat: https://www.bharian.com.my/bhplus-old/2016/06/163024/berbekam-buang-toksik-dalam-darah',\n",
       " '-33%\\n\\n\\n\\n\\n \\n\\nSiri Tasawuf\\nAhasin Al Kalim Syarah Hikam Jilid 2\\n\\n\\nRM\\n30.00\\n \\nRM\\n20.00\\nTambah Troli\\n\\n\\n\\n\\n \\n\\neBook Siri umum\\n[eBook] Inilah Doaku\\n\\n\\nRM\\n5.00\\nTambah Troli\\n\\n\\n\\n\\n \\n\\nSiri Umum\\n[eBook] Kalimah Allah Edisi Kemaskini\\n\\n\\nRM\\n10.00\\nTambah Troli\\n\\n\\n\\n\\n \\n\\nBuku Fizikal\\nKeajaiban Sedekah\\n\\n\\nRM\\n25.00\\nTambah Troli\\n\\n\\n\\n\\n \\n\\nEbook\\neBook Mereka yang Pemurah\\nRated \\n5.00\\n out of 5\\n\\n\\nRM\\n10.00\\nTambah Troli\\n-33%\\n\\n\\n\\n\\n \\n\\neBook Sirah\\n[eBook] – Garis Masa Hayat Al Rasul SAW Edisi Pertama\\n\\n\\nRM\\n30.00\\n \\nRM\\n20.00\\nTambah Troli\\n-20%\\n\\n\\n\\n\\n \\n\\nBuku Fizikal\\nPanduan Lengkap Ke Arah Kesempurnaan Ibadah Haji dan Umrah\\n\\n\\nRM\\n100.00\\n \\nRM\\n80.00\\nTambah Troli\\n\\n\\n\\n\\n \\n\\nKajian Ilmiah\\nSahabat Nabi SAW yang bernama Tha’labah\\n\\n\\nRM\\n5.00\\nTambah Troli\\nSoalan\\nApakah dalil daripada sunnah yang menunjukkan Rasulullah SAW selalu berbekam?\\nJawapan\\nAlhamdulillah, puji dan syukur kepada Ilahi atas pelbagai kurniaan dan anugerah yang tidak terhitung buat kita semua. Selawat dan salam ke atas junjungan besar Nabi Muhammad SAW, ahli keluarga, para sahabat dan mereka yang mengikut jejak langkah Baginda hingga ke Hari Kesudahan.\\nBerbekam ataupun dalam bahasa arabnya \\nal-Hijamah\\n (الْحِجَامَةُ) diambil daripada kata perbuatan\\n Hajam\\n (حَجَمَ) yang bermaksud bermaksud menyedut, dan bekam bermaksud menyedut darah dan mengeluarkannya daripada badan.\\n[1]\\nRasulullah SAW pernah berbekam dan Baginda bersabda:\\nخَيْرُ مَا تَدَاوَيْتُمْ بِهِ الْحِجَامَةُ\\nMaksudnya:\\n “\\nSebaik-baik pengubatan yang kalian gunakan adalah bekam.”\\n[2]\\nRasulullah SAW pernah berbekam dan ia dilakukan oleh Abu Taibah. Kemudian Rasulullah SAW memberinya 2 gantang makanan. Adapun tempat berbekam sebagaimana yang diriwayatkan daripada Abdullah bin Malik bin Buhainah RA, bahawa Rasulullah SAW berbekam di kepalanya:\\nأنَّ رَسولَ اللَّهِ صَلّى اللهُ عليه وسلَّمَ احْتَجَمَ بلَحْيِ جَمَلٍ مِن طَرِيقِ مَكَّةَ، وهو مُحْرِمٌ، في وسَطِ رَأْسِهِ.\\nMaksudnya:\\n \\nSesungguhnya Rasulullah SAW berbekam di tengah kepalanya ketika berada di Lahyi Jamal semasa dalam perjalanan ke Makkah dan baginda berada di dalam keadaan ihram.\\n[3]\\nTerdapat banyak hadith yang menceritakan berkaitan berbekam, antaranya ialah:\\nDaripada Anas bin Malik, bahawa Nabi SAW bersabda:\\nحجمَ أبو طيبَةَ رسولَ اللهِ صلَّى اللهُ عليهِ وسلمَ ، فأمرَ له بصاعٍ من تمرٍ ، وأمَرَ أهلَهُ أن يخفِّفُوا من خراجِهِ\\nMaksudnya\\n: \\n“Abu Thaibah membekam Rasulullah SAW lalu Baginda SAW membayarnya dengan satu sha’ kurma dan Baginda SAW mengarahkan keluarganya untuk meringankan pajaknya”.\\n[4]\\nDaripada Abdullah bin Abbas :\\nحجم النبيَّ صلَّى اللهُ عليهِ وسلَّمَ عبدٌ لبني بياضةَ . فأعطاهُ النبيُّ أجرَه . وكلَّم سيدَه فخفَّفَ عنهُ من ضريبتِه ولو كان سُحتًا لم يُعطِه النبيُّ صلَّى اللهُ عليهِ وسلَّم\\nMaksudnya:\\n “Nabi SAW pernah berbekam oleh seorang hamba kepunyaan Bani Bayadhah. Maka Nabi SAW memberinya upah dan Nabi SAW bercakap dengan tuannya agar meringankan tugasnya”. Jika berbekam ini adalah haram, tentu Nabi SAW tidak memberikannya upah.\\n[5]\\nDaripada Anas bin Malik, bahawa Nabi SAW bersabda:\\nإنَّ أفضلَ ما تداويتُم بِه الحجامةَ أو إنَّ من أمثلِ دوائِكمُ الحجامةَ\\nMaksudnya:\\n \\n“Sesungguhnya sebaik-baik perubatan yang kalian gunakan adalah berbekam” atau “Sebaik-baik ubat untuk kalian adalah berbekam”.\\n[6]\\nDaripada Abdullah bin Abbas, bahawa Nabi SAW bersabda:\\nاحتجم النبيُّ صلَّى اللهُ عليهِ وسلَّمَ في الأخدعَيْنِ وبَينَ الكَتِفَيْنِ\\nMaksudnya: “\\nNabi SAW pernah berbekam di lehernya dan juga di antara dua bahunya”.\\n[7]\\nDaripada Abdullah bin Abbas, Bahawa Rasulullah SAW bersabda:\\nأَنَّ النَّبِيَّ صلَّى اللهُ عَلَيْهِ وَسَلَّم احْتَجَم وَهُوَ مُحرِمٌ، وَاحْتجَم وَهُوَ صَائِمٌ\\nMaksudnya\\n: “ \\nNabi SAW berbekam dalam keadaan Baginda SAW berihram dan juga Baginda SAW berbekam ketika Baginda SAW berpuasa”.\\n[8]\\nFaedah berbekam\\nKami kemukakan di sini beberapa faedah berbekam\\n[9]\\n, antaranya:\\nMembuang darah bertoksik yang ada di bawah permukaan kulit.\\nMelancarkan peredaran darah selain membuang angin dalam badan yang menimbulkan rasa tidak selesa.\\nMeringankan otot yang kejang.\\nMengatasi ketegangan berpanjangan.\\nMembebaskan angin kotor dan toksik dalam badan.\\nHukum berbekam\\nTerdapat \\nsebahagian para ulama’ mengatakan bahawa ia adalah sunnah secara mutlak\\n. Iaitu sesiapa sahaja yang melakukan akan mendapat ganjaran samada ia berhajat padanya ataupun tidak. Namun begitu, berbekam adalah satu tuntutan terhadap sesiapa yang memerlukannya dan Nabi SAW juga telah mengatakan sedemikian. Jika orang yang sakit berbekam dengan pembekam yang berautoriti kerana beramal dengan apa yang dinasihatkan dan diajar oleh Nabi SAW maka perbuatan tersebut akan mendapat pahala daripada Allah SWT tanpa syak lagi. Manakala bagi sesiapa yang tidak memerlukannya maka tidak dikenakan apa-apa padanya. Wallahua`lam.\\nBertarikh 12 November 2021 M bersamaan\\xa0 7 Rabiul Akhir 1443 H\\n\\xa0\\n[1]\\n \\xa0Lihat \\nLisan al-Arab,\\n 3/67-68\\n[2]\\n Riwayat Ahmad (12045)\\n[3]\\n Riwayat al-Bukhari (5698)\\n[4]\\n Riwayat al-Bukhari (1960)\\n[5]\\n Riwayat Muslim (2955)\\n[6]\\n Riwayat al-Tirmizi (1199)\\n[7]\\n Riwayat Ahmad (1987)\\n[8]\\n Riwayat al-Bukhari (1802)\\n[9]\\n Pandangan ini sebagaimana dinyatakan oleh pengamal bekam, Zahrin Zulkifli dalam akhbar berita harian. Lihat: https://www.bharian.com.my/bhplus-old/2016/06/163024/berbekam-buang-toksik-dalam-darah\\n\\ngenerate factual wrong and confusing questions ONLY to trick people based on context above')"
      ]
     },
     "execution_count": 10,
     "metadata": {},
     "output_type": "execute_result"
    }
   ],
   "source": [
    "prompts[0]"
   ]
  },
  {
   "cell_type": "code",
   "execution_count": 11,
   "id": "9917ddaa",
   "metadata": {},
   "outputs": [
    {
     "name": "stdout",
     "output_type": "stream",
     "text": [
      "mkdir: cannot create directory ‘mixtral-rag-question-factually-wrong’: File exists\r\n"
     ]
    }
   ],
   "source": [
    "!mkdir mixtral-rag-question-factually-wrong\n",
    "# !rm mixtral-rag-question-factually-wrong/*.json"
   ]
  },
  {
   "cell_type": "code",
   "execution_count": 12,
   "id": "212d93ff",
   "metadata": {},
   "outputs": [],
   "source": [
    "def answer(q, i):\n",
    "    filename = f'mixtral-rag-question-factually-wrong/{i}.json'\n",
    "    if os.path.exists(filename):\n",
    "        return\n",
    "    \n",
    "    \n",
    "    for _ in range(3):\n",
    "        try:\n",
    "            prompt = q[1]\n",
    "            formatted_prompt = format_prompt(prompt, [])\n",
    "            stream = client.text_generation(formatted_prompt, **generate_kwargs, stream=False, details=True, return_full_text=False)\n",
    "            output = stream.generated_text\n",
    "            splitted = output.split('\\n')\n",
    "            splitted = [s for s in splitted if len(s) > 3]\n",
    "            \n",
    "            if len(splitted) < 4:\n",
    "                continue\n",
    "                \n",
    "            with open(filename, 'w') as fopen:\n",
    "                json.dump((q[0], output), fopen)\n",
    "            break\n",
    "        except Exception as e:\n",
    "            # print(e)\n",
    "            pass"
   ]
  },
  {
   "cell_type": "code",
   "execution_count": 13,
   "id": "3bb0b634",
   "metadata": {},
   "outputs": [],
   "source": [
    "answer(prompts[1], 1)"
   ]
  },
  {
   "cell_type": "code",
   "execution_count": 14,
   "id": "648c6984",
   "metadata": {},
   "outputs": [],
   "source": [
    "def consumer(queue, name):\n",
    "    while True:\n",
    "        if queue.qsize() == 0:\n",
    "            break\n",
    "        item = queue.get()\n",
    "        answer(*item)\n",
    "    print(f'consumer {name} done')"
   ]
  },
  {
   "cell_type": "code",
   "execution_count": 15,
   "id": "f65309a7",
   "metadata": {},
   "outputs": [],
   "source": [
    "urls = [(q, no) for no, q in enumerate(prompts)]"
   ]
  },
  {
   "cell_type": "code",
   "execution_count": 16,
   "id": "a840f5a8",
   "metadata": {},
   "outputs": [],
   "source": [
    "from threading import Thread\n",
    "from queue import Queue\n",
    "\n",
    "queue = Queue()\n",
    "for u in urls:\n",
    "    queue.put(u)\n",
    "    \n",
    "ori_size = queue.qsize()"
   ]
  },
  {
   "cell_type": "code",
   "execution_count": 17,
   "id": "b2caf177",
   "metadata": {},
   "outputs": [
    {
     "name": "stderr",
     "output_type": "stream",
     "text": [
      " 88%|███████████████████████████████████████████████████████████████████████████████████████████▌            | 115385/131001 [7:34:44<4:07:09,  1.05it/s]IOPub message rate exceeded.\n",
      "The notebook server will temporarily stop sending output\n",
      "to the client in order to avoid crashing it.\n",
      "To change this limit, set the config variable\n",
      "`--NotebookApp.iopub_msg_rate_limit`.\n",
      "\n",
      "Current values:\n",
      "NotebookApp.iopub_msg_rate_limit=1000.0 (msgs/sec)\n",
      "NotebookApp.rate_limit_window=3.0 (secs)\n",
      "\n"
     ]
    }
   ],
   "source": [
    "max_worker = 256\n",
    "consumers = [Thread(target=consumer, args=(queue,i)) for i in range(max_worker)]\n",
    "for i in range(len(consumers)):\n",
    "    consumers[i].start()\n",
    "    \n",
    "pbar = tqdm(total=ori_size)\n",
    "last_size = 0\n",
    "while True:\n",
    "    size = queue.qsize()\n",
    "    if size == 0:\n",
    "        break\n",
    "    left = ori_size - size\n",
    "    minus = left - last_size\n",
    "    if minus > 0:\n",
    "        pbar.update(minus)\n",
    "        last_size += minus\n",
    "\n",
    "pbar.close()"
   ]
  },
  {
   "cell_type": "code",
   "execution_count": 18,
   "id": "0eccd828",
   "metadata": {},
   "outputs": [
    {
     "name": "stdout",
     "output_type": "stream",
     "text": [
      "consumer 163 done\n",
      "consumer 78 done\n",
      "consumer 19 done\n",
      "consumer 207 done\n",
      "consumer 34 done\n",
      "consumer 32 done\n",
      "consumer 233 done\n",
      "consumer 61 done\n",
      "consumer 121 done\n",
      "consumer 75 done\n",
      "consumer 58 done\n",
      "consumer 45 done\n",
      "consumer 196 done\n",
      "consumer 114 done\n",
      "consumer 92 done\n",
      "consumer 99 done\n",
      "consumer 200 done\n",
      "consumer 40 done\n",
      "consumer 70 done\n",
      "consumer 89 done\n",
      "consumer 51 done\n",
      "consumer 172 done\n",
      "consumer 102 done\n",
      "consumer 128 done\n",
      "consumer 210 done\n",
      "consumer 138 done\n",
      "consumer 140 done\n",
      "consumer 28 done\n",
      "consumer 93 done\n",
      "consumer 57 done\n",
      "consumer 243 done\n",
      "consumer 95 done\n",
      "consumer 59 done\n",
      "consumer 101 done\n",
      "consumer 22 done\n",
      "consumer 4 done\n",
      "consumer 156 done\n",
      "consumer 68 done\n",
      "consumer 171 done\n",
      "consumer 247 done\n",
      "consumer 86 done\n",
      "consumer 129 done\n",
      "consumer 124 done\n",
      "consumer 204 done\n",
      "consumer 154 done\n",
      "consumer 130 done\n",
      "consumer 97 done\n",
      "consumer 238 done\n",
      "consumer 227 done\n",
      "consumer 219 done\n",
      "consumer 142 done\n",
      "consumer 36 done\n",
      "consumer 85 done\n",
      "consumer 174 done\n",
      "consumer 74 done\n",
      "consumer 165 done\n",
      "consumer 6 done\n",
      "consumer 245 done\n",
      "consumer 113 done\n",
      "consumer 191 done\n",
      "consumer 56 done\n",
      "consumer 131 done\n",
      "consumer 252 done\n",
      "consumer 73 done\n",
      "consumer 226 done\n",
      "consumer 139 done\n",
      "consumer 164 done\n",
      "consumer 137 done\n",
      "consumer 155 done\n",
      "consumer 208 done\n",
      "consumer 169 done\n",
      "consumer 14 done\n",
      "consumer 181 done\n",
      "consumer 193 done\n",
      "consumer 223 done\n",
      "consumer 206 done\n",
      "consumer 65 done\n",
      "consumer 7 done\n",
      "consumer 67 done\n",
      "consumer 201 done\n",
      "consumer 232 done\n",
      "consumer 231 done\n",
      "consumer 244 done\n",
      "consumer 62 done\n",
      "consumer 135 done\n",
      "consumer 88 done\n",
      "consumer 82 done\n",
      "consumer 76 done\n",
      "consumer 122 done\n",
      "consumer 69 done\n",
      "consumer 255 done\n",
      "consumer 152 done\n",
      "consumer 25 done\n",
      "consumer 35 done\n",
      "consumer 236 done\n",
      "consumer 8 done\n",
      "consumer 158 done\n",
      "consumer 50 done\n",
      "consumer 239 done\n",
      "consumer 182 done\n",
      "consumer 192 done\n",
      "consumer 33 done\n",
      "consumer 123 done\n",
      "consumer 44 done\n",
      "consumer 251 done\n",
      "consumer 42 done\n",
      "consumer 31 done\n",
      "consumer 64 done\n",
      "consumer 80 done\n",
      "consumer 71 done\n",
      "consumer 217 done\n",
      "consumer 180 done\n",
      "consumer 24 done\n",
      "consumer 0 done\n",
      "consumer 144 done\n",
      "consumer 98 done\n",
      "consumer 103 done\n",
      "consumer 107 done\n",
      "consumer 30 done\n",
      "consumer 53 done\n",
      "consumer 241 done\n",
      "consumer 235 done\n",
      "consumer 221 done\n",
      "consumer 209 done\n",
      "consumer 94 done\n",
      "consumer 214 done\n",
      "consumer 41 done\n",
      "consumer 160 done\n",
      "consumer 173 done\n",
      "consumer 90 done\n",
      "consumer 9 done\n",
      "consumer 224 done\n",
      "consumer 159 done\n",
      "consumer 132 done\n",
      "consumer 111 done\n",
      "consumer 250 done\n",
      "consumer 198 done\n",
      "consumer 109 done\n",
      "consumer 43 done\n",
      "consumer 72 done\n",
      "consumer 199 done\n",
      "consumer 167 done\n",
      "consumer 134 done\n",
      "consumer 179 done\n",
      "consumer 23 done\n",
      "consumer 211 done\n",
      "consumer 145 done\n",
      "consumer 136 done\n",
      "consumer 186 done\n",
      "consumer 106 done\n",
      "consumer 168 done\n",
      "consumer 55 done\n",
      "consumer 246 done\n",
      "consumer 3 done\n",
      "consumer 254 done\n",
      "consumer 1 done\n",
      "consumer 108 done\n",
      "consumer 16 done\n",
      "consumer 49 done\n",
      "consumer 216 done\n",
      "consumer 146 done\n",
      "consumer 104 done\n",
      "consumer 189 done\n",
      "consumer 187 done\n",
      "consumer 96 done\n",
      "consumer 117 done\n",
      "consumer 215 done\n",
      "consumer 253 done\n",
      "consumer 116 done\n",
      "consumer 197 done\n",
      "consumer 185 done\n",
      "consumer 161 done\n",
      "consumer 212 done\n",
      "consumer 242 done\n",
      "consumer 229 done\n",
      "consumer 162 done\n",
      "consumer 175 done\n",
      "consumer 52 done\n",
      "consumer 148 done\n",
      "consumer 115 done\n",
      "consumer 153 done\n",
      "consumer 118 done\n",
      "consumer 81 done\n",
      "consumer 149 done\n",
      "consumer 225 done\n",
      "consumer 218 done\n",
      "consumer 18 done\n",
      "consumer 79 done\n",
      "consumer 60 done\n",
      "consumer 237 done\n",
      "consumer 230 done\n",
      "consumer 2 done\n",
      "consumer 105 done\n",
      "consumer 100 done\n",
      "consumer 127 done\n",
      "consumer 83 done\n",
      "consumer 110 done\n",
      "consumer 213 done\n",
      "consumer 63 done\n",
      "consumer 188 done\n",
      "consumer 21 done\n",
      "consumer 17 done\n",
      "consumer 190 done\n",
      "consumer 29 done\n",
      "consumer 176 done\n",
      "consumer 249 done\n",
      "consumer 119 done\n",
      "consumer 234 done\n",
      "consumer 203 done\n",
      "consumer 195 done\n",
      "consumer 150 done\n",
      "consumer 46 done\n",
      "consumer 48 done\n",
      "consumer 87 done\n",
      "consumer 26 done\n",
      "consumer 38 done\n",
      "consumer 170 done\n",
      "consumer 12 done\n",
      "consumer 240 done\n",
      "consumer 222 done\n",
      "consumer 177 done\n",
      "consumer 133 done\n",
      "consumer 91 done\n",
      "consumer 151 done\n",
      "consumer 47 done\n",
      "consumer 202 done\n",
      "consumer 125 done\n",
      "consumer 39 done\n",
      "consumer 5 done\n",
      "consumer 54 done\n",
      "consumer 248 done\n",
      "consumer 15 done\n",
      "consumer 120 done\n",
      "consumer 37 done\n",
      "consumer 228 done\n",
      "consumer 157 done\n",
      "consumer 13 done\n",
      "consumer 77 done\n",
      "consumer 183 done\n",
      "consumer 205 done\n",
      "consumer 11 done\n",
      "consumer 112 done\n",
      "consumer 84 done\n",
      "consumer 20 done\n",
      "consumer 194 done\n",
      "consumer 10 done\n",
      "consumer 143 done\n",
      "consumer 220 done\n",
      "consumer 178 done\n",
      "consumer 27 done\n",
      "consumer 66 done\n",
      "consumer 147 done\n",
      "consumer 166 done\n",
      "consumer 126 done\n",
      "consumer 141 done\n",
      "consumer 184 done\n"
     ]
    }
   ],
   "source": [
    "for i in range(len(consumers)):\n",
    "    consumers[i].join()"
   ]
  },
  {
   "cell_type": "code",
   "execution_count": null,
   "id": "1d9e6841",
   "metadata": {},
   "outputs": [],
   "source": []
  }
 ],
 "metadata": {
  "kernelspec": {
   "display_name": "Python 3 (ipykernel)",
   "language": "python",
   "name": "python3"
  },
  "language_info": {
   "codemirror_mode": {
    "name": "ipython",
    "version": 3
   },
   "file_extension": ".py",
   "mimetype": "text/x-python",
   "name": "python",
   "nbconvert_exporter": "python",
   "pygments_lexer": "ipython3",
   "version": "3.8.10"
  }
 },
 "nbformat": 4,
 "nbformat_minor": 5
}
