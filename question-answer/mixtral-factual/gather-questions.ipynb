{
 "cells": [
  {
   "cell_type": "code",
   "execution_count": 1,
   "id": "45bb6fea",
   "metadata": {},
   "outputs": [],
   "source": [
    "import json\n",
    "from tqdm import tqdm\n",
    "from glob import glob"
   ]
  },
  {
   "cell_type": "code",
   "execution_count": 2,
   "id": "dd1efb5a",
   "metadata": {},
   "outputs": [
    {
     "data": {
      "text/plain": [
       "146548"
      ]
     },
     "execution_count": 2,
     "metadata": {},
     "output_type": "execute_result"
    }
   ],
   "source": [
    "files = glob('mixtral-rag-question-factually-wrong/*.json')\n",
    "files.extend(glob('mixtral-rag-question-factually-wrong-textbook/*.json'))\n",
    "len(files)"
   ]
  },
  {
   "cell_type": "code",
   "execution_count": 3,
   "id": "a0c57387",
   "metadata": {},
   "outputs": [
    {
     "data": {
      "text/plain": [
       "69009"
      ]
     },
     "execution_count": 3,
     "metadata": {},
     "output_type": "execute_result"
    }
   ],
   "source": [
    "import re\n",
    "\n",
    "mapping = {}\n",
    "for f in glob('questions.texts*.splitted.requested'):\n",
    "    with open(f) as fopen:\n",
    "        for l in fopen:\n",
    "            l = json.loads(l)\n",
    "            if 'Source text\\nclear\\nLook up details' in l['r']['result']:\n",
    "                continue\n",
    "            if 'clear\\nLook up details' in l['r']['result']:\n",
    "                continue\n",
    "            if l['r']['result'].startswith('Source text\\n'):\n",
    "                continue\n",
    "\n",
    "            n = l['r']['result']\n",
    "            hypens = re.findall('\\w+ -\\w+', n)\n",
    "            for h in hypens:\n",
    "                splitted = h.split('-')\n",
    "                if len(splitted) != 2:\n",
    "                    continue\n",
    "                splitted = [s.strip() for s in splitted]\n",
    "                splitted = '-'.join(splitted)\n",
    "                n = n.replace(h, splitted)\n",
    "            mapping[l['src']] = n\n",
    "            \n",
    "len(mapping)"
   ]
  },
  {
   "cell_type": "code",
   "execution_count": 4,
   "id": "5de73e0d",
   "metadata": {},
   "outputs": [
    {
     "name": "stderr",
     "output_type": "stream",
     "text": [
      "100%|█████████████████████████████████████████████████████████████████████████████████████████████████████████| 146548/146548 [00:04<00:00, 32605.60it/s]\n"
     ]
    }
   ],
   "source": [
    "done = set()\n",
    "prepared = []\n",
    "\n",
    "for f in tqdm(files):\n",
    "    with open(f) as fopen:\n",
    "        data = json.load(fopen)\n",
    "    if data[0] not in done:\n",
    "        output = data[-1]\n",
    "        splitted = output.strip().split('\\n')\n",
    "        splitted = [s for s in splitted if '.' if s and '?' in s]\n",
    "        splitted = ['.'.join(s.split('.')[1:]).strip() for s in splitted]\n",
    "        splitted = [s for s in splitted if len(s) > 3]\n",
    "        splitted = [s[1:] if s[0] == '\"' else s for s in splitted]\n",
    "        q = [s[:-1] if s[-1] == '\"' else s for s in splitted]\n",
    "        q = [s for s in q if len(s) > 10]\n",
    "        q_join = '\\n'.join([f'{no + 1}. {q}' for no, q in enumerate(q)])\n",
    "        done.add(data[0])\n",
    "        prepared.append({\n",
    "            'context': data[0],\n",
    "            'questions': q,\n",
    "            'questions_join': q_join,\n",
    "            'questions_join_ms': mapping.get(q_join),\n",
    "        })"
   ]
  },
  {
   "cell_type": "code",
   "execution_count": 5,
   "id": "a57291da",
   "metadata": {},
   "outputs": [
    {
     "data": {
      "text/plain": [
       "70647"
      ]
     },
     "execution_count": 5,
     "metadata": {},
     "output_type": "execute_result"
    }
   ],
   "source": [
    "len(prepared)"
   ]
  },
  {
   "cell_type": "code",
   "execution_count": 7,
   "id": "ca261919",
   "metadata": {},
   "outputs": [],
   "source": [
    "with open('gather-questions.jsonl', 'w') as fopen:\n",
    "    for d in prepared:\n",
    "        fopen.write(f'{json.dumps(d)}\\n')"
   ]
  },
  {
   "cell_type": "code",
   "execution_count": null,
   "id": "c9cc3445",
   "metadata": {},
   "outputs": [
    {
     "data": {
      "application/vnd.jupyter.widget-view+json": {
       "model_id": "1d108b7265c74972971a6d6c022c475b",
       "version_major": 2,
       "version_minor": 0
      },
      "text/plain": [
       "gather-questions.jsonl:   0%|          | 0.00/819M [00:00<?, ?B/s]"
      ]
     },
     "metadata": {},
     "output_type": "display_data"
    }
   ],
   "source": [
    "from huggingface_hub import HfApi\n",
    "api = HfApi()\n",
    "api.upload_file(\n",
    "    path_or_fileobj='gather-questions.jsonl',\n",
    "    path_in_repo='gather-questions.jsonl',\n",
    "    repo_id='mesolitica/mixtral-factual-QA',\n",
    "    repo_type='dataset',\n",
    ")"
   ]
  },
  {
   "cell_type": "code",
   "execution_count": null,
   "id": "b56057d4",
   "metadata": {},
   "outputs": [],
   "source": []
  }
 ],
 "metadata": {
  "kernelspec": {
   "display_name": "Python 3 (ipykernel)",
   "language": "python",
   "name": "python3"
  },
  "language_info": {
   "codemirror_mode": {
    "name": "ipython",
    "version": 3
   },
   "file_extension": ".py",
   "mimetype": "text/x-python",
   "name": "python",
   "nbconvert_exporter": "python",
   "pygments_lexer": "ipython3",
   "version": "3.8.10"
  }
 },
 "nbformat": 4,
 "nbformat_minor": 5
}
