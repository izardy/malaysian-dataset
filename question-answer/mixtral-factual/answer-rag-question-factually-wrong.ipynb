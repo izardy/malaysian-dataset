{
 "cells": [
  {
   "cell_type": "code",
   "execution_count": 1,
   "id": "385b8192",
   "metadata": {},
   "outputs": [],
   "source": [
    "from huggingface_hub import InferenceClient\n",
    "from tqdm import tqdm\n",
    "import os\n",
    "import json"
   ]
  },
  {
   "cell_type": "code",
   "execution_count": 2,
   "id": "4dfa2c31",
   "metadata": {},
   "outputs": [],
   "source": [
    "from concurrent.futures import ThreadPoolExecutor, as_completed\n",
    "\n",
    "generate_kwargs = dict(\n",
    "    temperature=1.0,\n",
    "    max_new_tokens=4096,\n",
    "    top_p=0.95,\n",
    "    repetition_penalty=1.0,\n",
    "    do_sample=True,\n",
    ")"
   ]
  },
  {
   "cell_type": "code",
   "execution_count": 3,
   "id": "7e35494a",
   "metadata": {},
   "outputs": [],
   "source": [
    "client = InferenceClient(\n",
    "    \"\", timeout = 120\n",
    ")\n",
    "\n",
    "\n",
    "def format_prompt(message, history):\n",
    "  prompt = \"<s>\"\n",
    "  for user_prompt, bot_response in history:\n",
    "    prompt += f\"[INST] {user_prompt} [/INST]\"\n",
    "    prompt += f\" {bot_response}</s> \"\n",
    "  prompt += f\"[INST] {message} [/INST]\"\n",
    "  return prompt"
   ]
  },
  {
   "cell_type": "code",
   "execution_count": 5,
   "id": "25d956e4",
   "metadata": {},
   "outputs": [
    {
     "data": {
      "text/plain": [
       "146548"
      ]
     },
     "execution_count": 5,
     "metadata": {},
     "output_type": "execute_result"
    }
   ],
   "source": [
    "from glob import glob\n",
    "\n",
    "files = glob('mixtral-rag-question-factually-wrong/*.json')\n",
    "files.extend(glob('mixtral-rag-question-factually-wrong-textbook/*.json'))\n",
    "len(files)"
   ]
  },
  {
   "cell_type": "code",
   "execution_count": 6,
   "id": "cdf59dea",
   "metadata": {},
   "outputs": [
    {
     "name": "stderr",
     "output_type": "stream",
     "text": [
      "100%|█████████████████████████████████████████████████████████████████████████████████████████████████████████| 146548/146548 [00:04<00:00, 32703.95it/s]\n"
     ]
    },
    {
     "data": {
      "text/plain": [
       "1281938"
      ]
     },
     "execution_count": 6,
     "metadata": {},
     "output_type": "execute_result"
    }
   ],
   "source": [
    "questions = []\n",
    "for f in tqdm(files):\n",
    "    with open(f) as fopen:\n",
    "        data = json.load(fopen)\n",
    "    output = data[-1]\n",
    "    splitted = output.strip().split('\\n')\n",
    "    splitted = [s for s in splitted if '.' if s and '?' in s]\n",
    "    splitted = ['.'.join(s.split('.')[1:]).strip() for s in splitted]\n",
    "    splitted = [s for s in splitted if len(s) > 3]\n",
    "    splitted = [s[1:] if s[0] == '\"' else s for s in splitted]\n",
    "    q = [s[:-1] if s[-1] == '\"' else s for s in splitted]\n",
    "    q = [(data[0], s) for s in q if len(s) > 10]\n",
    "    questions.extend(q)\n",
    "    \n",
    "# questions = list(set(questions))\n",
    "len(questions)"
   ]
  },
  {
   "cell_type": "code",
   "execution_count": 7,
   "id": "196dcf2d",
   "metadata": {},
   "outputs": [
    {
     "name": "stderr",
     "output_type": "stream",
     "text": [
      "100%|█████████████████████████████████████████████████████████████████████████████████████████████████████| 1281938/1281938 [00:00<00:00, 3199995.76it/s]\n"
     ]
    }
   ],
   "source": [
    "exists = set()\n",
    "actual_questions = []\n",
    "for q in tqdm(questions):\n",
    "    if q[1] not in exists:\n",
    "        exists.add(q[1])\n",
    "        actual_questions.append(q)"
   ]
  },
  {
   "cell_type": "code",
   "execution_count": 8,
   "id": "75097605",
   "metadata": {},
   "outputs": [
    {
     "data": {
      "text/plain": [
       "1265220"
      ]
     },
     "execution_count": 8,
     "metadata": {},
     "output_type": "execute_result"
    }
   ],
   "source": [
    "len(actual_questions)"
   ]
  },
  {
   "cell_type": "code",
   "execution_count": 10,
   "id": "9840a2e4",
   "metadata": {},
   "outputs": [
    {
     "name": "stdout",
     "output_type": "stream",
     "text": [
      "mkdir: cannot create directory ‘answer-factually-wrong’: File exists\r\n"
     ]
    }
   ],
   "source": [
    "!mkdir answer-factually-wrong\n",
    "# !rm answer-factually-wrong/*.json"
   ]
  },
  {
   "cell_type": "code",
   "execution_count": 11,
   "id": "f4b27a86",
   "metadata": {},
   "outputs": [],
   "source": [
    "def answer(q, i):\n",
    "    filename = f'answer-factually-wrong/{i}.json'\n",
    "    if os.path.exists(filename):\n",
    "        return\n",
    "    \n",
    "    \n",
    "    for _ in range(3):\n",
    "        try:\n",
    "            prompt = q[1]\n",
    "            formatted_prompt = format_prompt(prompt, [])\n",
    "            stream = client.text_generation(formatted_prompt, **generate_kwargs, stream=False, details=True, return_full_text=False)\n",
    "            output = stream.generated_text\n",
    "            splitted = output.split()\n",
    "            \n",
    "            if len(splitted) < 20:\n",
    "                continue\n",
    "                \n",
    "            with open(filename, 'w') as fopen:\n",
    "                json.dump((q[0], output), fopen)\n",
    "            break\n",
    "        except Exception as e:\n",
    "            # print(e)\n",
    "            pass"
   ]
  },
  {
   "cell_type": "code",
   "execution_count": 12,
   "id": "cb5a4b34",
   "metadata": {},
   "outputs": [
    {
     "data": {
      "text/plain": [
       "('Last weekend,\\xa0Realme just had their first ever Realme 3 sale roadshow. It showcases all of the Realme products that are available in the market – like the Realme 3 which we love and also merchandises like the\\xa0earbuds, tumbler, bagpacks and many more.\\nSince the sale roadshow is held in a mall,\\xa0visitors also won cash prizes up to RM1,000 by competing in a mini mobile game tournament at the roadshow.\\n\\n\\n\\nIt happened at two different places –\\xa0Sunway Pyramid Shopping Mall and Sunway Velocity Mall. At these two venues, there were fans from all ages and from multiple different knowledge of Realme itself. Here are a few highlights from the Realme fans.\\nDharani a/p Kaliappan\\nDharani a/p Kaliappan, a 23-year-old Realme fan and now an owner of the Realme 3 smartphone has said that she liked the specs and design of the phone, and can’t believe that she’s able to own one for herself. The price is one of the main highlights on why she chooses this phone.\\nLim Tiak Cheong\\nNext we have Lim Tiak Cheong, a 15-year old boy, who said that he was with his friends and family at Sunway Pyramid to get her computer done. While they were waiting, they went to the Realme sale roadshow and gave it a try with the mini mobile game tournament. Turns out, he won the game and grabbed RM1,000 cash!\\nWee How\\nThird, we have Wee How, a 28 year old Johorian who won a Realme 3 through the lucky draw contest. What a lucky guy – and he said he was surprised to win the lucky draw since he just signed up two hours ago. He added that he is thinking of giving one of the Realme 3 to his friend as a present, or maybe he’ll fall in love with it after trying it out.\\nAdding to the roadshow, visitors also participated in activities like PUBG challenge, Mobile Legends, Instant Selfie Print and mini games where they won assorted realme merchandise. If you want to try our the Realme 3 for yourself, click here to see the list of authorized resellers nationwide.\\n\\nLike our Facebook Page here at NasiLemakTech.com for more news and in-depth reviews!\\nAlso, join our Facebook Group for insightful information and memes!\\nSubscribe to our YouTube channel too!',\n",
       " \"How old is Dharani a/p Kaliappan's Realme 3 smartphone?\")"
      ]
     },
     "execution_count": 12,
     "metadata": {},
     "output_type": "execute_result"
    }
   ],
   "source": [
    "actual_questions[0]"
   ]
  },
  {
   "cell_type": "code",
   "execution_count": 13,
   "id": "838945eb",
   "metadata": {},
   "outputs": [
    {
     "data": {
      "text/plain": [
       "1265220"
      ]
     },
     "execution_count": 13,
     "metadata": {},
     "output_type": "execute_result"
    }
   ],
   "source": [
    "prompts = []\n",
    "for t in actual_questions:\n",
    "    prompt = f'{t[0]}\\n\\n{t[1]}'\n",
    "    prompts.extend([(t, prompt)] * 1)\n",
    "    \n",
    "len(prompts)"
   ]
  },
  {
   "cell_type": "code",
   "execution_count": 14,
   "id": "be1bc3f5",
   "metadata": {},
   "outputs": [
    {
     "data": {
      "text/plain": [
       "(('Last weekend,\\xa0Realme just had their first ever Realme 3 sale roadshow. It showcases all of the Realme products that are available in the market – like the Realme 3 which we love and also merchandises like the\\xa0earbuds, tumbler, bagpacks and many more.\\nSince the sale roadshow is held in a mall,\\xa0visitors also won cash prizes up to RM1,000 by competing in a mini mobile game tournament at the roadshow.\\n\\n\\n\\nIt happened at two different places –\\xa0Sunway Pyramid Shopping Mall and Sunway Velocity Mall. At these two venues, there were fans from all ages and from multiple different knowledge of Realme itself. Here are a few highlights from the Realme fans.\\nDharani a/p Kaliappan\\nDharani a/p Kaliappan, a 23-year-old Realme fan and now an owner of the Realme 3 smartphone has said that she liked the specs and design of the phone, and can’t believe that she’s able to own one for herself. The price is one of the main highlights on why she chooses this phone.\\nLim Tiak Cheong\\nNext we have Lim Tiak Cheong, a 15-year old boy, who said that he was with his friends and family at Sunway Pyramid to get her computer done. While they were waiting, they went to the Realme sale roadshow and gave it a try with the mini mobile game tournament. Turns out, he won the game and grabbed RM1,000 cash!\\nWee How\\nThird, we have Wee How, a 28 year old Johorian who won a Realme 3 through the lucky draw contest. What a lucky guy – and he said he was surprised to win the lucky draw since he just signed up two hours ago. He added that he is thinking of giving one of the Realme 3 to his friend as a present, or maybe he’ll fall in love with it after trying it out.\\nAdding to the roadshow, visitors also participated in activities like PUBG challenge, Mobile Legends, Instant Selfie Print and mini games where they won assorted realme merchandise. If you want to try our the Realme 3 for yourself, click here to see the list of authorized resellers nationwide.\\n\\nLike our Facebook Page here at NasiLemakTech.com for more news and in-depth reviews!\\nAlso, join our Facebook Group for insightful information and memes!\\nSubscribe to our YouTube channel too!',\n",
       "  \"How old is Dharani a/p Kaliappan's Realme 3 smartphone?\"),\n",
       " \"Last weekend,\\xa0Realme just had their first ever Realme 3 sale roadshow. It showcases all of the Realme products that are available in the market – like the Realme 3 which we love and also merchandises like the\\xa0earbuds, tumbler, bagpacks and many more.\\nSince the sale roadshow is held in a mall,\\xa0visitors also won cash prizes up to RM1,000 by competing in a mini mobile game tournament at the roadshow.\\n\\n\\n\\nIt happened at two different places –\\xa0Sunway Pyramid Shopping Mall and Sunway Velocity Mall. At these two venues, there were fans from all ages and from multiple different knowledge of Realme itself. Here are a few highlights from the Realme fans.\\nDharani a/p Kaliappan\\nDharani a/p Kaliappan, a 23-year-old Realme fan and now an owner of the Realme 3 smartphone has said that she liked the specs and design of the phone, and can’t believe that she’s able to own one for herself. The price is one of the main highlights on why she chooses this phone.\\nLim Tiak Cheong\\nNext we have Lim Tiak Cheong, a 15-year old boy, who said that he was with his friends and family at Sunway Pyramid to get her computer done. While they were waiting, they went to the Realme sale roadshow and gave it a try with the mini mobile game tournament. Turns out, he won the game and grabbed RM1,000 cash!\\nWee How\\nThird, we have Wee How, a 28 year old Johorian who won a Realme 3 through the lucky draw contest. What a lucky guy – and he said he was surprised to win the lucky draw since he just signed up two hours ago. He added that he is thinking of giving one of the Realme 3 to his friend as a present, or maybe he’ll fall in love with it after trying it out.\\nAdding to the roadshow, visitors also participated in activities like PUBG challenge, Mobile Legends, Instant Selfie Print and mini games where they won assorted realme merchandise. If you want to try our the Realme 3 for yourself, click here to see the list of authorized resellers nationwide.\\n\\nLike our Facebook Page here at NasiLemakTech.com for more news and in-depth reviews!\\nAlso, join our Facebook Group for insightful information and memes!\\nSubscribe to our YouTube channel too!\\n\\nHow old is Dharani a/p Kaliappan's Realme 3 smartphone?\")"
      ]
     },
     "execution_count": 14,
     "metadata": {},
     "output_type": "execute_result"
    }
   ],
   "source": [
    "prompts[0]"
   ]
  },
  {
   "cell_type": "code",
   "execution_count": 15,
   "id": "19671bb7",
   "metadata": {},
   "outputs": [],
   "source": [
    "answer(prompts[1], 1)"
   ]
  },
  {
   "cell_type": "code",
   "execution_count": 16,
   "id": "2a4c9969",
   "metadata": {},
   "outputs": [],
   "source": [
    "def consumer(queue, name):\n",
    "    while True:\n",
    "        if queue.qsize() == 0:\n",
    "            break\n",
    "        item = queue.get()\n",
    "        answer(*item)\n",
    "    print(f'consumer {name} done')"
   ]
  },
  {
   "cell_type": "code",
   "execution_count": 17,
   "id": "b5787b6a",
   "metadata": {},
   "outputs": [],
   "source": [
    "urls = [(q, no) for no, q in enumerate(prompts)]"
   ]
  },
  {
   "cell_type": "code",
   "execution_count": 18,
   "id": "309673ca",
   "metadata": {},
   "outputs": [],
   "source": [
    "from threading import Thread\n",
    "from queue import Queue\n",
    "\n",
    "queue = Queue()\n",
    "for u in urls:\n",
    "    queue.put(u)\n",
    "    \n",
    "ori_size = queue.qsize()"
   ]
  },
  {
   "cell_type": "code",
   "execution_count": 19,
   "id": "19d93135",
   "metadata": {},
   "outputs": [
    {
     "name": "stderr",
     "output_type": "stream",
     "text": [
      "  1%|█▏                                                                                                       | 14465/1265220 [21:02<23:40:39, 14.67it/s]IOPub message rate exceeded.\n",
      "The notebook server will temporarily stop sending output\n",
      "to the client in order to avoid crashing it.\n",
      "To change this limit, set the config variable\n",
      "`--NotebookApp.iopub_msg_rate_limit`.\n",
      "\n",
      "Current values:\n",
      "NotebookApp.iopub_msg_rate_limit=1000.0 (msgs/sec)\n",
      "NotebookApp.rate_limit_window=3.0 (secs)\n",
      "\n",
      " 57%|█████████████████████████████████████████████████████████▎                                           | 717236/1265220 [18:59:13<36:28:15,  4.17it/s]IOPub message rate exceeded.\n",
      "The notebook server will temporarily stop sending output\n",
      "to the client in order to avoid crashing it.\n",
      "To change this limit, set the config variable\n",
      "`--NotebookApp.iopub_msg_rate_limit`.\n",
      "\n",
      "Current values:\n",
      "NotebookApp.iopub_msg_rate_limit=1000.0 (msgs/sec)\n",
      "NotebookApp.rate_limit_window=3.0 (secs)\n",
      "\n",
      " 64%|████████████████████████████████████████████████████████████████▎                                    | 806420/1265220 [21:26:16<16:05:25,  7.92it/s]IOPub message rate exceeded.\n",
      "The notebook server will temporarily stop sending output\n",
      "to the client in order to avoid crashing it.\n",
      "To change this limit, set the config variable\n",
      "`--NotebookApp.iopub_msg_rate_limit`.\n",
      "\n",
      "Current values:\n",
      "NotebookApp.iopub_msg_rate_limit=1000.0 (msgs/sec)\n",
      "NotebookApp.rate_limit_window=3.0 (secs)\n",
      "\n",
      " 70%|██████████████████████████████████████████████████████████████████████▎                              | 880193/1265220 [24:12:16<32:54:11,  3.25it/s]IOPub message rate exceeded.\n",
      "The notebook server will temporarily stop sending output\n",
      "to the client in order to avoid crashing it.\n",
      "To change this limit, set the config variable\n",
      "`--NotebookApp.iopub_msg_rate_limit`.\n",
      "\n",
      "Current values:\n",
      "NotebookApp.iopub_msg_rate_limit=1000.0 (msgs/sec)\n",
      "NotebookApp.rate_limit_window=3.0 (secs)\n",
      "\n",
      " 75%|███████████████████████████████████████████████████████████████████████████▌                         | 947196/1265220 [26:44:06<12:21:31,  7.15it/s]IOPub message rate exceeded.\n",
      "The notebook server will temporarily stop sending output\n",
      "to the client in order to avoid crashing it.\n",
      "To change this limit, set the config variable\n",
      "`--NotebookApp.iopub_msg_rate_limit`.\n",
      "\n",
      "Current values:\n",
      "NotebookApp.iopub_msg_rate_limit=1000.0 (msgs/sec)\n",
      "NotebookApp.rate_limit_window=3.0 (secs)\n",
      "\n",
      "100%|██████████████████████████████████████████████████████████████████████████████████████████████████████▉| 1265219/1265220 [38:44:39<00:00,  9.07it/s]\n"
     ]
    }
   ],
   "source": [
    "max_worker = 512\n",
    "consumers = [Thread(target=consumer, args=(queue,i)) for i in range(max_worker)]\n",
    "for i in range(len(consumers)):\n",
    "    consumers[i].start()\n",
    "    \n",
    "pbar = tqdm(total=ori_size)\n",
    "last_size = 0\n",
    "while True:\n",
    "    size = queue.qsize()\n",
    "    if size == 0:\n",
    "        break\n",
    "    left = ori_size - size\n",
    "    minus = left - last_size\n",
    "    if minus > 0:\n",
    "        pbar.update(minus)\n",
    "        last_size += minus\n",
    "\n",
    "pbar.close()"
   ]
  },
  {
   "cell_type": "code",
   "execution_count": null,
   "id": "3860fd66",
   "metadata": {},
   "outputs": [],
   "source": []
  }
 ],
 "metadata": {
  "kernelspec": {
   "display_name": "Python 3 (ipykernel)",
   "language": "python",
   "name": "python3"
  },
  "language_info": {
   "codemirror_mode": {
    "name": "ipython",
    "version": 3
   },
   "file_extension": ".py",
   "mimetype": "text/x-python",
   "name": "python",
   "nbconvert_exporter": "python",
   "pygments_lexer": "ipython3",
   "version": "3.8.10"
  }
 },
 "nbformat": 4,
 "nbformat_minor": 5
}
