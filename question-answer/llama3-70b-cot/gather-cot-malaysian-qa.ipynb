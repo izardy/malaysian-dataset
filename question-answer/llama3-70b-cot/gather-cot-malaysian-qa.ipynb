{
 "cells": [
  {
   "cell_type": "code",
   "execution_count": 1,
   "id": "79263528",
   "metadata": {},
   "outputs": [],
   "source": [
    "from tqdm import tqdm\n",
    "import os\n",
    "import json"
   ]
  },
  {
   "cell_type": "code",
   "execution_count": 2,
   "id": "d6009bd6",
   "metadata": {},
   "outputs": [],
   "source": [
    "from glob import glob\n",
    "\n",
    "files = glob('mixtral-rag-question-factually-wrong/*.json')"
   ]
  },
  {
   "cell_type": "code",
   "execution_count": 3,
   "id": "abb187c2",
   "metadata": {},
   "outputs": [
    {
     "name": "stderr",
     "output_type": "stream",
     "text": [
      "100%|████████████████████████████████████████████████████████████████████████████████████████████████████| 91268/91268 [00:03<00:00, 26118.18it/s]\n"
     ]
    },
    {
     "data": {
      "text/plain": [
       "813203"
      ]
     },
     "execution_count": 3,
     "metadata": {},
     "output_type": "execute_result"
    }
   ],
   "source": [
    "questions = []\n",
    "for f in tqdm(files):\n",
    "    with open(f) as fopen:\n",
    "        data = json.load(fopen)\n",
    "    output = data[-1]\n",
    "    splitted = output.strip().split('\\n')\n",
    "    splitted = [s for s in splitted if '.' if s and '?' in s]\n",
    "    splitted = ['.'.join(s.split('.')[1:]).strip() for s in splitted]\n",
    "    splitted = [s for s in splitted if len(s) > 3]\n",
    "    splitted = [s[1:] if s[0] == '\"' else s for s in splitted]\n",
    "    q = [s[:-1] if s[-1] == '\"' else s for s in splitted]\n",
    "    q = [(data[0], s) for s in q if len(s) > 10]\n",
    "    questions.extend(q)\n",
    "    \n",
    "# questions = list(set(questions))\n",
    "len(questions)"
   ]
  },
  {
   "cell_type": "code",
   "execution_count": 4,
   "id": "8a376e45",
   "metadata": {},
   "outputs": [
    {
     "name": "stderr",
     "output_type": "stream",
     "text": [
      "100%|████████████████████████████████████████████████████████████████████████████████████████████████| 813203/813203 [00:00<00:00, 3056633.22it/s]\n"
     ]
    }
   ],
   "source": [
    "exists = set()\n",
    "actual_questions = []\n",
    "for q in tqdm(questions):\n",
    "    if q[1] not in exists:\n",
    "        exists.add(q[1])\n",
    "        actual_questions.append(q)"
   ]
  },
  {
   "cell_type": "code",
   "execution_count": 5,
   "id": "c466209a",
   "metadata": {},
   "outputs": [
    {
     "data": {
      "text/plain": [
       "801581"
      ]
     },
     "execution_count": 5,
     "metadata": {},
     "output_type": "execute_result"
    }
   ],
   "source": [
    "len(actual_questions)"
   ]
  },
  {
   "cell_type": "code",
   "execution_count": 6,
   "id": "2e06cfb8",
   "metadata": {},
   "outputs": [
    {
     "data": {
      "text/plain": [
       "('Last weekend,\\xa0Realme just had their first ever Realme 3 sale roadshow. It showcases all of the Realme products that are available in the market – like the Realme 3 which we love and also merchandises like the\\xa0earbuds, tumbler, bagpacks and many more.\\nSince the sale roadshow is held in a mall,\\xa0visitors also won cash prizes up to RM1,000 by competing in a mini mobile game tournament at the roadshow.\\n\\n\\n\\nIt happened at two different places –\\xa0Sunway Pyramid Shopping Mall and Sunway Velocity Mall. At these two venues, there were fans from all ages and from multiple different knowledge of Realme itself. Here are a few highlights from the Realme fans.\\nDharani a/p Kaliappan\\nDharani a/p Kaliappan, a 23-year-old Realme fan and now an owner of the Realme 3 smartphone has said that she liked the specs and design of the phone, and can’t believe that she’s able to own one for herself. The price is one of the main highlights on why she chooses this phone.\\nLim Tiak Cheong\\nNext we have Lim Tiak Cheong, a 15-year old boy, who said that he was with his friends and family at Sunway Pyramid to get her computer done. While they were waiting, they went to the Realme sale roadshow and gave it a try with the mini mobile game tournament. Turns out, he won the game and grabbed RM1,000 cash!\\nWee How\\nThird, we have Wee How, a 28 year old Johorian who won a Realme 3 through the lucky draw contest. What a lucky guy – and he said he was surprised to win the lucky draw since he just signed up two hours ago. He added that he is thinking of giving one of the Realme 3 to his friend as a present, or maybe he’ll fall in love with it after trying it out.\\nAdding to the roadshow, visitors also participated in activities like PUBG challenge, Mobile Legends, Instant Selfie Print and mini games where they won assorted realme merchandise. If you want to try our the Realme 3 for yourself, click here to see the list of authorized resellers nationwide.\\n\\nLike our Facebook Page here at NasiLemakTech.com for more news and in-depth reviews!\\nAlso, join our Facebook Group for insightful information and memes!\\nSubscribe to our YouTube channel too!',\n",
       " \"How old is Dharani a/p Kaliappan's Realme 3 smartphone?\")"
      ]
     },
     "execution_count": 6,
     "metadata": {},
     "output_type": "execute_result"
    }
   ],
   "source": [
    "actual_questions[0]"
   ]
  },
  {
   "cell_type": "code",
   "execution_count": 7,
   "id": "e81c4a90",
   "metadata": {},
   "outputs": [],
   "source": [
    "files = [\n",
    "    'maktabahalbakri.com.jsonl',\n",
    "    'muftiwp.gov.my.jsonl',\n",
    "    'asklegal.jsonl',\n",
    "    'dewanbahasa-jdbp.jsonl',\n",
    "    'gov.my.jsonl',\n",
    "]"
   ]
  },
  {
   "cell_type": "code",
   "execution_count": 8,
   "id": "a736b5dd",
   "metadata": {},
   "outputs": [],
   "source": [
    "def partition(text, size = 2000):\n",
    "    splitted = text.split()\n",
    "    return [' '.join(splitted[i: i + size]) for i in range(0, len(splitted), size) if len(splitted[i: i + size]) > 500]"
   ]
  },
  {
   "cell_type": "code",
   "execution_count": 9,
   "id": "0367e45c",
   "metadata": {
    "scrolled": true
   },
   "outputs": [
    {
     "data": {
      "text/plain": [
       "33102"
      ]
     },
     "execution_count": 9,
     "metadata": {},
     "output_type": "execute_result"
    }
   ],
   "source": [
    "import math\n",
    "\n",
    "all_texts = {}\n",
    "for f in files:\n",
    "    texts = []\n",
    "    with open(f) as fopen:\n",
    "        for l in fopen:\n",
    "            l = json.loads(l)\n",
    "            if isinstance(l, dict):\n",
    "                l = l['body']\n",
    "            if len(l.split()) < 150:\n",
    "                continue\n",
    "            all_texts[l] = f\n",
    "            \n",
    "len(all_texts)"
   ]
  },
  {
   "cell_type": "code",
   "execution_count": 10,
   "id": "4d980630",
   "metadata": {},
   "outputs": [],
   "source": [
    "not_count = {'maktabahalbakri.com.jsonl', 'muftiwp.gov.my.jsonl'}"
   ]
  },
  {
   "cell_type": "code",
   "execution_count": 11,
   "id": "9b7f4d8c",
   "metadata": {},
   "outputs": [
    {
     "data": {
      "text/plain": [
       "defaultdict(int,\n",
       "            {'dewanbahasa-jdbp.jsonl': 12368,\n",
       "             'gov.my.jsonl': 25268,\n",
       "             'muftiwp.gov.my.jsonl': 26251,\n",
       "             'maktabahalbakri.com.jsonl': 26243,\n",
       "             'asklegal.jsonl': 3690})"
      ]
     },
     "execution_count": 11,
     "metadata": {},
     "output_type": "execute_result"
    }
   ],
   "source": [
    "from collections import defaultdict\n",
    "\n",
    "questions = {}\n",
    "all_texts_count = defaultdict(int)\n",
    "f_count = defaultdict(int)\n",
    "for q in actual_questions:\n",
    "    if q[0] not in all_texts:\n",
    "        continue\n",
    "    if all_texts[q[0]] in not_count and all_texts_count[q[0]] > 7:\n",
    "        continue\n",
    "    if all_texts[q[0]] not in not_count and all_texts_count[q[0]] > 2:\n",
    "        continue\n",
    "    questions[q[1]] = (all_texts[q[0]], q[0])\n",
    "    all_texts_count[q[0]] += 1\n",
    "    f_count[all_texts[q[0]]] += 1\n",
    "    \n",
    "f_count"
   ]
  },
  {
   "cell_type": "code",
   "execution_count": 12,
   "id": "0f6f1218",
   "metadata": {},
   "outputs": [
    {
     "name": "stderr",
     "output_type": "stream",
     "text": [
      "1108037it [00:29, 37396.73it/s]\n"
     ]
    }
   ],
   "source": [
    "with open('filtered-factually-wrong-qa.jsonl', 'w') as fopen_l:\n",
    "    with open('factually-wrong-qa.jsonl') as fopen:\n",
    "        for l in tqdm(fopen):\n",
    "            l = json.loads(l)\n",
    "            if l['question'] not in questions:\n",
    "                continue\n",
    "            \n",
    "            d = {\n",
    "                'question': l['question'],\n",
    "                'answer': l['answer'],\n",
    "                'context': questions[l['question']][1],\n",
    "                'file': questions[l['question']][0],\n",
    "            }\n",
    "            fopen_l.write(f'{json.dumps(d)}\\n')\n",
    "            fopen_l.flush()"
   ]
  },
  {
   "cell_type": "code",
   "execution_count": 13,
   "id": "4e32b4e4",
   "metadata": {},
   "outputs": [
    {
     "name": "stdout",
     "output_type": "stream",
     "text": [
      "82671 filtered-factually-wrong-qa.jsonl\r\n"
     ]
    }
   ],
   "source": [
    "!wc -l filtered-factually-wrong-qa.jsonl"
   ]
  },
  {
   "cell_type": "code",
   "execution_count": 16,
   "id": "69ac5988",
   "metadata": {},
   "outputs": [
    {
     "name": "stdout",
     "output_type": "stream",
     "text": [
      "-rw-rw-r-- 1 husein husein 738M Jun  22 18:26 filtered-factually-wrong-qa.jsonl\r\n"
     ]
    }
   ],
   "source": [
    "!ls -lh filtered-factually-wrong-qa.jsonl"
   ]
  }
 ],
 "metadata": {
  "kernelspec": {
   "display_name": "Python 3 (ipykernel)",
   "language": "python",
   "name": "python3"
  },
  "language_info": {
   "codemirror_mode": {
    "name": "ipython",
    "version": 3
   },
   "file_extension": ".py",
   "mimetype": "text/x-python",
   "name": "python",
   "nbconvert_exporter": "python",
   "pygments_lexer": "ipython3",
   "version": "3.8.10"
  }
 },
 "nbformat": 4,
 "nbformat_minor": 5
}
