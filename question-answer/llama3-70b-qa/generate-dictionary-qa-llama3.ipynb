{
 "cells": [
  {
   "cell_type": "code",
   "execution_count": 1,
   "id": "368e9452",
   "metadata": {},
   "outputs": [],
   "source": [
    "import json\n",
    "import os"
   ]
  },
  {
   "cell_type": "code",
   "execution_count": 2,
   "id": "7d9262dc",
   "metadata": {},
   "outputs": [],
   "source": [
    "data = []\n",
    "with open('dictionary.jsonl') as fopen:\n",
    "    for l in fopen:\n",
    "        l = json.loads(l)\n",
    "        data.append(l)"
   ]
  },
  {
   "cell_type": "code",
   "execution_count": 3,
   "id": "234e4737",
   "metadata": {
    "scrolled": true
   },
   "outputs": [
    {
     "data": {
      "text/plain": [
       "54712"
      ]
     },
     "execution_count": 3,
     "metadata": {},
     "output_type": "execute_result"
    }
   ],
   "source": [
    "len(data)"
   ]
  },
  {
   "cell_type": "code",
   "execution_count": 4,
   "id": "1ec5234e",
   "metadata": {
    "scrolled": true
   },
   "outputs": [
    {
     "data": {
      "text/plain": [
       "'[ke.pa.ya.han]  |  کڤايهنDefinisi : 1. perihal payah, kesukaran, ke\\xadsusahan: Wahab mendengar cerita-cerita tentang ~ penduduk pekan Tembeling akibat sekatan yg diadakan oleh kerajaan; 2. men\\xadderita payah (kesulitan, kekurangan): sedangkan hendak mendapat sesuap nasi ~, inikan pula hendak menziarahi tempat-tempat yg bersejarah; 3. kelelahan, keletihan: beberapa lamanya ia berdiam diri saja, terengah-engah spt orang ~.\\xa0(Kamus Dewan Edisi Keempat)\\n[ke.pa.ya.han]  |  کڤايهنDefinisi : hal atau keadaan payah; kesukaran; kesusahan: ~ penduduk kampung tsb berhubung dgn kawasan bandar telah mendapat perhatian drpd pihak kerajaan.\\xa0(Kamus Pelajar Edisi Kedua)\\nberpayah-payah\\nmemayahkan\\nmemperpayah\\nkepayahan'"
      ]
     },
     "execution_count": 4,
     "metadata": {},
     "output_type": "execute_result"
    }
   ],
   "source": [
    "data[0]"
   ]
  },
  {
   "cell_type": "code",
   "execution_count": 5,
   "id": "78066ed1",
   "metadata": {},
   "outputs": [],
   "source": [
    "folder = 'dictionary-qa-llama3'"
   ]
  },
  {
   "cell_type": "code",
   "execution_count": 6,
   "id": "39277104",
   "metadata": {},
   "outputs": [
    {
     "name": "stdout",
     "output_type": "stream",
     "text": [
      "mkdir: cannot create directory ‘dictionary-qa-llama3’: File exists\r\n"
     ]
    }
   ],
   "source": [
    "# !rm -rf generate-wikipedia-qa-llama3\n",
    "!mkdir {folder}"
   ]
  },
  {
   "cell_type": "code",
   "execution_count": 7,
   "id": "695d750c",
   "metadata": {},
   "outputs": [
    {
     "data": {
      "text/plain": [
       "54712"
      ]
     },
     "execution_count": 7,
     "metadata": {},
     "output_type": "execute_result"
    }
   ],
   "source": [
    "results = []\n",
    "for i in range(len(data)):\n",
    "    \n",
    "    s = \"\"\"\n",
    "```\n",
    "{{replace_me}}\n",
    "```\n",
    "\n",
    "Generate list of QA choice in malay, return in JSON [{'question', 'A', 'B', 'C', 'D', 'answer'}]\n",
    "    \"\"\".strip()\n",
    "    s = s.replace('{{replace_me}}', data[i])\n",
    "    results.append(s)\n",
    "        \n",
    "len(results)"
   ]
  },
  {
   "cell_type": "code",
   "execution_count": 8,
   "id": "c577ae75",
   "metadata": {},
   "outputs": [],
   "source": [
    "from openai import OpenAI\n",
    "import requests\n",
    "\n",
    "headers = {\n",
    "    'accept': 'application/json',\n",
    "    'Content-Type': 'application/json',\n",
    "}\n",
    "\n",
    "def answer(q, i):\n",
    "    filename = os.path.join(folder, f'{i}.json')\n",
    "    if os.path.exists(filename):\n",
    "        return\n",
    "    \n",
    "    results = []\n",
    "    openai = OpenAI(\n",
    "        base_url='https://llama-3.us.mesolitica.com/v1',\n",
    "        api_key='empty',\n",
    "    )\n",
    "    for _ in range(1):\n",
    "        \n",
    "        while True:\n",
    "            try:\n",
    "                \n",
    "                json_data = {\n",
    "                    'messages': [\n",
    "                        {\n",
    "                            'role': 'user',\n",
    "                            'content': q,\n",
    "                        },\n",
    "                    ],\n",
    "                    'model': 'model',\n",
    "                    'stop': [\n",
    "                        '<|eot_id|>',\n",
    "                    ],\n",
    "                    'temperature': 0.9,\n",
    "                    'max_tokens': 2048,\n",
    "                }\n",
    "                response = requests.post(\n",
    "                    'https://llama-3.us.mesolitica.com/v1/chat/completions', \n",
    "                    headers=headers, json=json_data, timeout = 60 * 10)\n",
    "                \n",
    "                r = response.json()['choices'][0]['message']['content']\n",
    "                results.append(r)\n",
    "                break\n",
    "            except Exception as e:\n",
    "                # print(e)\n",
    "                pass\n",
    "                \n",
    "    \n",
    "    with open(filename, 'w') as fopen:\n",
    "        json.dump(results, fopen)"
   ]
  },
  {
   "cell_type": "code",
   "execution_count": 9,
   "id": "2f0f6d5d",
   "metadata": {},
   "outputs": [],
   "source": [
    "def consumer(queue, name):\n",
    "    while True:\n",
    "        if queue.qsize() == 0:\n",
    "            break\n",
    "        item = queue.get()\n",
    "        answer(*item)\n",
    "    print(f'consumer {name} done')"
   ]
  },
  {
   "cell_type": "code",
   "execution_count": 10,
   "id": "48ec131c",
   "metadata": {},
   "outputs": [],
   "source": [
    "urls = [(q, no) for no, q in enumerate(results)]"
   ]
  },
  {
   "cell_type": "code",
   "execution_count": 11,
   "id": "eaffe556",
   "metadata": {
    "scrolled": true
   },
   "outputs": [],
   "source": [
    "answer(*urls[0])"
   ]
  },
  {
   "cell_type": "code",
   "execution_count": 12,
   "id": "69c55c7a",
   "metadata": {},
   "outputs": [],
   "source": [
    "from threading import Thread\n",
    "from queue import Queue\n",
    "from tqdm import tqdm\n",
    "\n",
    "queue = Queue()\n",
    "for u in urls:\n",
    "    queue.put(u)\n",
    "    \n",
    "ori_size = queue.qsize()"
   ]
  },
  {
   "cell_type": "code",
   "execution_count": null,
   "id": "e983c3cf",
   "metadata": {},
   "outputs": [
    {
     "name": "stderr",
     "output_type": "stream",
     "text": [
      "  0%|                                                                                       | 0/54712 [00:00<?, ?it/s]"
     ]
    }
   ],
   "source": [
    "max_worker = 50\n",
    "consumers = [Thread(target=consumer, args=(queue,i)) for i in range(max_worker)]\n",
    "for i in range(len(consumers)):\n",
    "    consumers[i].start()\n",
    "    \n",
    "pbar = tqdm(total=ori_size)\n",
    "last_size = 0\n",
    "while True:\n",
    "    size = queue.qsize()\n",
    "    if size == 0:\n",
    "        break\n",
    "    left = ori_size - size\n",
    "    minus = left - last_size\n",
    "    if minus > 0:\n",
    "        pbar.update(minus)\n",
    "        last_size += minus\n",
    "\n",
    "pbar.close()"
   ]
  },
  {
   "cell_type": "code",
   "execution_count": 7,
   "id": "e2525db2",
   "metadata": {},
   "outputs": [],
   "source": [
    "data = []\n",
    "with open('dictionary.jsonl') as fopen:\n",
    "    for l in fopen:\n",
    "        l = json.loads(l)\n",
    "        data.append({\n",
    "            'text': l\n",
    "        })"
   ]
  },
  {
   "cell_type": "code",
   "execution_count": 8,
   "id": "2174e46e",
   "metadata": {},
   "outputs": [
    {
     "data": {
      "text/plain": [
       "{'text': '[ke.pa.ya.han]  |  کڤايهنDefinisi : 1. perihal payah, kesukaran, ke\\xadsusahan: Wahab mendengar cerita-cerita tentang ~ penduduk pekan Tembeling akibat sekatan yg diadakan oleh kerajaan; 2. men\\xadderita payah (kesulitan, kekurangan): sedangkan hendak mendapat sesuap nasi ~, inikan pula hendak menziarahi tempat-tempat yg bersejarah; 3. kelelahan, keletihan: beberapa lamanya ia berdiam diri saja, terengah-engah spt orang ~.\\xa0(Kamus Dewan Edisi Keempat)\\n[ke.pa.ya.han]  |  کڤايهنDefinisi : hal atau keadaan payah; kesukaran; kesusahan: ~ penduduk kampung tsb berhubung dgn kawasan bandar telah mendapat perhatian drpd pihak kerajaan.\\xa0(Kamus Pelajar Edisi Kedua)\\nberpayah-payah\\nmemayahkan\\nmemperpayah\\nkepayahan'}"
      ]
     },
     "execution_count": 8,
     "metadata": {},
     "output_type": "execute_result"
    }
   ],
   "source": [
    "data[0]"
   ]
  },
  {
   "cell_type": "code",
   "execution_count": 10,
   "id": "3573cdd0",
   "metadata": {},
   "outputs": [],
   "source": [
    "suppose = {'question', 'A', 'B', 'C', 'D', 'answer'}"
   ]
  },
  {
   "cell_type": "code",
   "execution_count": 12,
   "id": "78321af8",
   "metadata": {
    "scrolled": true
   },
   "outputs": [
    {
     "name": "stderr",
     "output_type": "stream",
     "text": [
      "100%|█████████████████████████████████████████████████████████████████████████| 54712/54712 [00:07<00:00, 7675.79it/s]\n"
     ]
    }
   ],
   "source": [
    "from tqdm import tqdm\n",
    "\n",
    "with open('generated-dictionary-qa.jsonl', 'w') as fopen_j:\n",
    "    for i in tqdm(range(len(data))):\n",
    "        f = f'{folder}/{i}.json'\n",
    "        if not os.path.exists(f):\n",
    "            continue\n",
    "            \n",
    "        with open(f) as fopen:\n",
    "            d = json.load(fopen)\n",
    "        \n",
    "        questions = []\n",
    "        unique_questions = set()\n",
    "        for d_ in d:\n",
    "            try:\n",
    "                selected = []\n",
    "                for d__ in d_.split('```'):\n",
    "                    try:\n",
    "                        try:\n",
    "                            selected.append(json.loads(d__))\n",
    "                        except:\n",
    "                            selected.append(eval(d__))\n",
    "                    except:\n",
    "                        pass\n",
    "                if not len(selected):\n",
    "                    continue\n",
    "                qa = selected[0]\n",
    "                for q in qa:\n",
    "                    if len(set(q.keys()) | suppose) != len(suppose):\n",
    "                        continue\n",
    "                    if q['question'].lower() not in unique_questions:\n",
    "                        if not ('A' in q and isinstance(q['A'], str)):\n",
    "                            continue\n",
    "                        if not ('B' in q and isinstance(q['B'], str)):\n",
    "                            continue\n",
    "                        if not ('C' in q and isinstance(q['C'], str)):\n",
    "                            continue\n",
    "                        if not ('D' in q and isinstance(q['D'], str)):\n",
    "                            continue\n",
    "                        if not ('answer' in q and isinstance(q['answer'], str)):\n",
    "                            continue\n",
    "                            \n",
    "                        for k in suppose:\n",
    "                            q[k] = q[k].encode(\"utf8\", errors=\"surrogatepass\").decode(\"utf8\")\n",
    "\n",
    "                        questions.append(q)\n",
    "                        unique_questions.add(q['question'].lower())\n",
    "            except:\n",
    "                pass\n",
    "            \n",
    "        if not len(questions):\n",
    "            continue\n",
    "        \n",
    "        data[i]['text'] = data[i]['text'].encode(\"utf8\", errors=\"surrogatepass\").decode(\"utf8\")\n",
    "        data[i]['questions'] = questions\n",
    "        fopen_j.write(f'{json.dumps(data[i])}\\n')"
   ]
  },
  {
   "cell_type": "code",
   "execution_count": 13,
   "id": "c4d5d8e2",
   "metadata": {
    "scrolled": true
   },
   "outputs": [
    {
     "name": "stdout",
     "output_type": "stream",
     "text": [
      "48674 generated-dictionary-qa.jsonl\r\n"
     ]
    }
   ],
   "source": [
    "!wc -l generated-dictionary-qa.jsonl"
   ]
  },
  {
   "cell_type": "code",
   "execution_count": 14,
   "id": "86b5c655",
   "metadata": {},
   "outputs": [
    {
     "name": "stdout",
     "output_type": "stream",
     "text": [
      "-rw-rw-r-- 1 husein husein 54M Mei  30 14:24 generated-dictionary-qa.jsonl\r\n"
     ]
    }
   ],
   "source": [
    "!ls -lh generated-dictionary-qa.jsonl"
   ]
  },
  {
   "cell_type": "code",
   "execution_count": 15,
   "id": "7efef834",
   "metadata": {},
   "outputs": [
    {
     "name": "stdout",
     "output_type": "stream",
     "text": [
      "{\"text\": \"[ke.pa.ya.han]  |  \\u06a9\\u06a4\\u0627\\u064a\\u0647\\u0646Definisi : 1. perihal payah, kesukaran, ke\\u00adsusahan: Wahab mendengar cerita-cerita tentang ~ penduduk pekan Tembeling akibat sekatan yg diadakan oleh kerajaan; 2. men\\u00adderita payah (kesulitan, kekurangan): sedangkan hendak mendapat sesuap nasi ~, inikan pula hendak menziarahi tempat-tempat yg bersejarah; 3. kelelahan, keletihan: beberapa lamanya ia berdiam diri saja, terengah-engah spt orang ~.\\u00a0(Kamus Dewan Edisi Keempat)\\n[ke.pa.ya.han]  |  \\u06a9\\u06a4\\u0627\\u064a\\u0647\\u0646Definisi : hal atau keadaan payah; kesukaran; kesusahan: ~ penduduk kampung tsb berhubung dgn kawasan bandar telah mendapat perhatian drpd pihak kerajaan.\\u00a0(Kamus Pelajar Edisi Kedua)\\nberpayah-payah\\nmemayahkan\\nmemperpayah\\nkepayahan\", \"questions\": [{\"question\": \"Apa maksud kepayahan dalam konteks cerita?\", \"A\": \"Kesusahan dan kesukaran\", \"B\": \"Kelelahan dan keletihan\", \"C\": \"Kesenangan dan kegembiraan\", \"D\": \"Kebebasan dan kebahagiaan\", \"answer\": \"A\"}, {\"question\": \"Dalam ayat 'Wahab mendengar cerita-cerita tentang ~ penduduk pekan Tembeling akibat sekatan yg diadakan oleh kerajaan;', apa maksud ~?\", \"A\": \"Kesusahan\", \"B\": \"Kelelahan\", \"C\": \"Kesukaran\", \"D\": \"Kepayahan\", \"answer\": \"D\"}, {\"question\": \"Apa saja sinonim untuk kepayahan?\", \"A\": \"Kesusahan dan kesukaran\", \"B\": \"Kelelahan dan keletihan\", \"C\": \"Kesedihan dan kekecewaan\", \"D\": \"Semua jawapan di atas\", \"answer\": \"D\"}, {\"question\": \"Dalam ayat'sedangkan hendak mendapat sesuap nasi ~, inikan pula hendak menziarahi tempat-tempat yg bersejarah;', apa maksud ~?\", \"A\": \"Kesusahan\", \"B\": \"Kelelahan\", \"C\": \"Kesukaran\", \"D\": \"Kepayahan\", \"answer\": \"D\"}, {\"question\": \"Apa kata kerja yang berkaitan dengan kepayahan?\", \"A\": \"Memayahkan\", \"B\": \"Berpayah-payah\", \"C\": \"Memperpayah\", \"D\": \"Semua jawapan di atas\", \"answer\": \"D\"}]}\r\n"
     ]
    }
   ],
   "source": [
    "!head -n 1 generated-dictionary-qa.jsonl"
   ]
  },
  {
   "cell_type": "code",
   "execution_count": 16,
   "id": "6f73ba55",
   "metadata": {},
   "outputs": [
    {
     "data": {
      "application/vnd.jupyter.widget-view+json": {
       "model_id": "af9c9f6d5a9c43dba1952e8dcd3ef13d",
       "version_major": 2,
       "version_minor": 0
      },
      "text/plain": [
       "generated-dictionary-qa.jsonl:   0%|          | 0.00/56.0M [00:00<?, ?B/s]"
      ]
     },
     "metadata": {},
     "output_type": "display_data"
    },
    {
     "data": {
      "text/plain": [
       "CommitInfo(commit_url='https://huggingface.co/datasets/mesolitica/llama-3-70b-qa/commit/37d0e4c31523d253dd26659506d52702898a4a78', commit_message='Upload generated-dictionary-qa.jsonl with huggingface_hub', commit_description='', oid='37d0e4c31523d253dd26659506d52702898a4a78', pr_url=None, pr_revision=None, pr_num=None)"
      ]
     },
     "execution_count": 16,
     "metadata": {},
     "output_type": "execute_result"
    }
   ],
   "source": [
    "from huggingface_hub import HfApi\n",
    "api = HfApi()\n",
    "api.upload_file(\n",
    "    path_or_fileobj='generated-dictionary-qa.jsonl',\n",
    "    path_in_repo='generated-dictionary-qa.jsonl',\n",
    "    repo_id='mesolitica/llama-3-70b-qa',\n",
    "    repo_type='dataset',\n",
    ")"
   ]
  },
  {
   "cell_type": "code",
   "execution_count": null,
   "id": "713998b5",
   "metadata": {},
   "outputs": [],
   "source": []
  }
 ],
 "metadata": {
  "kernelspec": {
   "display_name": "Python 3 (ipykernel)",
   "language": "python",
   "name": "python3"
  },
  "language_info": {
   "codemirror_mode": {
    "name": "ipython",
    "version": 3
   },
   "file_extension": ".py",
   "mimetype": "text/x-python",
   "name": "python",
   "nbconvert_exporter": "python",
   "pygments_lexer": "ipython3",
   "version": "3.8.10"
  }
 },
 "nbformat": 4,
 "nbformat_minor": 5
}
