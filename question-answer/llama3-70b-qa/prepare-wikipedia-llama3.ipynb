{
 "cells": [
  {
   "cell_type": "code",
   "execution_count": 1,
   "id": "4438b81f",
   "metadata": {},
   "outputs": [],
   "source": [
    "# !wget https://huggingface.co/datasets/malaysia-ai/wikipedia/resolve/main/wikipedia-2023-10-01.jsonl"
   ]
  },
  {
   "cell_type": "code",
   "execution_count": 2,
   "id": "368e9452",
   "metadata": {},
   "outputs": [
    {
     "name": "stderr",
     "output_type": "stream",
     "text": [
      "Special tokens have been added in the vocabulary, make sure the associated word embeddings are fine-tuned or trained.\n"
     ]
    }
   ],
   "source": [
    "from transformers import AutoTokenizer\n",
    "import json\n",
    "\n",
    "tokenizer = AutoTokenizer.from_pretrained('mgoin/Meta-Llama-3-70B-Instruct-Marlin')"
   ]
  },
  {
   "cell_type": "code",
   "execution_count": 3,
   "id": "7d9262dc",
   "metadata": {},
   "outputs": [],
   "source": [
    "def partition(text, size = 500, block_size = 4096):\n",
    "    splitted = text.split()\n",
    "    splitted = [' '.join(splitted[i: i + size]) for i in range(0, len(splitted), size)]\n",
    "    temp = []\n",
    "    results = []\n",
    "    for t in splitted:\n",
    "        tokenized = tokenizer(t)['input_ids']\n",
    "        temp.extend(tokenized)\n",
    "        while len(temp) >= block_size:\n",
    "            block = temp[:block_size]\n",
    "            temp = temp[block_size:]\n",
    "            if len(block) == block_size:\n",
    "                results.append(tokenizer.decode(block))\n",
    "    if len(temp):\n",
    "        results.append(tokenizer.decode(temp))\n",
    "    return results"
   ]
  },
  {
   "cell_type": "code",
   "execution_count": 4,
   "id": "9ab54ca4",
   "metadata": {},
   "outputs": [],
   "source": [
    "# !wget https://gist.githubusercontent.com/huseinzol05/98974ae8c6c7a65d4bc0af9f5003786a/raw/2e06e71ef7349a57bc58cc9913ae6bae1f9f8447/mp.py"
   ]
  },
  {
   "cell_type": "code",
   "execution_count": 5,
   "id": "258d9c63",
   "metadata": {},
   "outputs": [],
   "source": [
    "import mp"
   ]
  },
  {
   "cell_type": "code",
   "execution_count": 3,
   "id": "9a871af7",
   "metadata": {},
   "outputs": [
    {
     "name": "stderr",
     "output_type": "stream",
     "text": [
      "438332it [00:01, 316174.69it/s]\n"
     ]
    }
   ],
   "source": [
    "from tqdm import tqdm\n",
    "\n",
    "data = []\n",
    "with open('wikipedia-2023-10-01.jsonl') as fopen:\n",
    "    for l in tqdm(fopen):\n",
    "        l = json.loads(l)\n",
    "        if len(l['text']) < 50:\n",
    "            continue\n",
    "        data.append(l)\n",
    "#         partitioned = partition(l['text'])\n",
    "#         for p in partitioned:\n",
    "#             data.append({\n",
    "#                 'url': l['url'],\n",
    "#                 'text': p\n",
    "#             })"
   ]
  },
  {
   "cell_type": "code",
   "execution_count": 6,
   "id": "11cfcd32",
   "metadata": {},
   "outputs": [
    {
     "name": "stdout",
     "output_type": "stream",
     "text": [
      "Bahasa Melayu (Tulisan Jawi: بهاس ملايو; Rejang: ꤷꥁꤼ ꤸꥍꤾꤿꥈ) ialah salah satu daripada bahasa-bahasa Melayu-Polinesia di bawah keluarga bahasa Austronesia, yang merupakan bahasa rasmi di Brunei, Indonesia, Malaysia dan Singapura, serta dituturkan di Timor Leste dan sebahagian wilayah di Kemboja , Filipina dan Thailand. Jumlah penutur bahasa Melayu mencakupi lebih daripada 290 juta penutur (seramai 260 juta orang bertutur bahasa Indonesia) merentasi kawasan maritim Asia Tenggara. \n",
      "Sebagai salah satu daripada bahasa-bahasa yang paling luas digunakan di Asia Tenggara, bahasa Melayu mempunyai istilah perundangan yang berbeza di negara-negara terlibat bergantung pada sejarah dan budaya penggunaan bahasa Melayu di negara-negara tersebut. Di Malaysia, istilah \"bahasa Melayu\" ialah istilah \"de jure\" untuk pentakrifan rasmi bahasa kebangsaan negara Malaysia, manakala istilah \"bahasa Malaysia\" atau \"bahasa Melayu Malaysia\" seringkali digunakan mewakili perkara yang sama secara tidak formal di kalangan rakyat Malaysia. Di Singapura, Bahasa Melayu mempunyai status bahasa kebangsaan pada waktu yang sama merupakan salah satu daripada empat bahasa rasmi (tiga lagi bahasa rasmi lain ialah bahasa Inggeris, bahasa Cina, dan bahasa Tamil). Di Brunei, \"bahasa Melayu\" juga ditakrifkan sebagai bahasa rasmi negara dan bahasa Melayu diutamakan apabila berlakunya percanggahan dengan versi bahasa Inggeris teks undang-udang. Di Indonesia, bentuk piawai bahasa Melayu dikenali sebagai bahasa Indonesia yang berperanan sebagai bahasa pemersatu di negara Indonesia. Penggunaan istilah \"bahasa Melayu\" di Indonesia pula hanya terhad kepada bentuk-bentuk vernakular bahasa Melayu (yakni bahasa Melayu tempatan) yang dituturkan di kawasan asli Melayu terletak di zon tengah Sumatra (seperti Riau, Kepulauan Riau, Jambi dan lain-lain), Sumatra Selatan dan Kalimantan Barat Indonesia. Di Timor Leste, Bahasa Indonesia masih tetap dikekalkan sebagai bahasa rasmi utamanya sebagai \"bahasa bekerja\" walaupun telah merdeka daripada negara Indonesia. Di selatan Thailand, bahasa Melayu digunakan oleh orang-orang dari Kesultanan Melayu Patani (orang Melayu Pattani), tetapi tidak memperolehi sebarang pengiktirafan daripada kerajaan.\n",
      "Bahasa Melayu Klasik, secara spesifiknya \"bahasa istana\" (atau dikenali sebagai \"Court Malay\" dalam bahasa Inggeris), ialah bahasa piawai sastera bersusurgalur daripada kesultanan Melaka dan kesultanan Johor, disebabkan itulah bahasa ini juga dikenali sebagai bahasa Melayu Melaka, Johor atau Riau (atau pelbagai jenis gabungan nama yang berasaskan mana-mana dari tiga nama tempat ini) untuk membezakannya daripada bahasa-bahasa Melayik yang lain. Menurut \"Ethnologue\" 26, beberapa kelainan bahasa-bahasa Melayik disenaraikan sebagai bahasa-bahasa yang terpisah, termasuklah kelainan bahasa-bahasa Melayu Semenanjung yang dituturkan oleh Orang Asli, yang sangat rapat hubungannya dengan bahasa Melayu Baku yang boleh dianggap sebagai dialek-dialeknya. Terdapat beberapa bahasa dagang atau bahasa kreol Melayu yang berdasarkan satu bentuk \"lingua franca\" yang disusurgalurkan ke bahasa Melayu Klasik.\n",
      "Asal usul bahasa Melayu اصل اصول بهاس ملايو.\n",
      "Ahli-ahli linguistik bahasa Melayu bersetuju dengan kemungkinan bahawa asal usul bahasa Melayu terletak di barat pulau Borneo. Satu bentuk bahasa yang kini dikenali sebagai bahasa Melayu Purba (dari segi linguistik dikenali sebagai bahasa Melayik Purba) dituturkan di pulau Borneo sekurang-kurangnya pada 1000 tahun sebelum Masihi dan dianggap sebagai leluhur kepada kesemua bahasa di bawah kumpulan Melayik. Leluhur bahasa purba ini ialah bahasa Melayu-Polinesia Purba, yang merupakan turunan dari bahasa Austronesia Purba, mula bercambah sekurang-kurangnya pada 2000 tahun sebelum Masihi, yang mungkin hasil daripada penerokaan orang Austronesia dari pulau Taiwan ke arah kawasan yang terletak lebih selatan yakni kawasan maritim Asia Tenggara \n",
      "Sejarah Bahasa Melayu سجاره بهاس ملايو.\n",
      "Secara umumnya, garis perkembangan bahasa Melayu terbahagi kepada tiga fasa utama iaitu bahasa Melayu Kuno, bahasa Melayu Klasik dan bahasa Melayu Moden, dan terdapat fasa peralihan di antara fasa-fasa utama tersebut. Sesetengah pakar bahasa menganggap bahasa Melayu Kuno ialah bahasa leluhur bahasa Melayu Klasik, tetapi sesetengah ahli linguistik yang lain pula berpendapat bahawa hubungan leluhur antara dua fasa bahasa ini susah untuk ditentusahkan berikutan keganjilan dari segi morfologi dan sintaksis antara dua fasa ini, serta keserentakan penggunaan kedua-dua fasa bahasa ini pada abad ke-14.\n",
      "Bahasa Melayu Kuno dipengaruhi oleh bahasa Sanskrit yang merupakan bahasa klasik di India. Peminjaman kata-kata Sanskrit boleh didapati dalam perbendaharaan bahasa Melayu Kuno. Batu bersurat terawal dalam bahasa Melayu Kuno dijumpai di Sumatra, Indonesia, dan ditulis dalam huruf-huruf Grantha bervariasi Pallava dan tarikhnya ditentukan pada 1 Mei 683. Batu bersurat ini dikenali sebagai batu bersurat Kedukan Bukit yang dijumpai oleh orang Belanda yang bernama M. Batenburg pada 29 November 1920 di Sungai Musi, Kedukan Bukit, Sumatra Selatan. Ia merupakan batu kecil berukuran .\n",
      "Bukti lain ialah naskhah Undang-undang Tanjung Tanah dalam huruf-huruf pasca-Pallava. Teks perundangan pra-Islam pada abad ke-14 ini dihasilkan pada zaman pemerintahan Adityawarman (1345–1377) di kerajaan Dharmasraya, yang merupakan kerajaan Hindu-Buddha yang membangun setelah tamatnya kekuasaan Srivijaya di Sumatra. Undang-undang ini ditulis untuk orang Minangkabau yang masih tinggal di tanah tinggi di barat Sumatra, Indonesia.\n",
      "Batu bersurat Terengganu (Jawi: باتو برسورت ترڠݢانو) ialah pacakan batu granit dengan inskripsi tulisan Jawi dan dijumpai di Terengganu, Malaysia. Ia adalah bukti terawal kewujudan batu-batu bersurat bahasa Melayu Klasik. Batu bersurat yang bertarikh tahun 702 hijrah (bersamaan tahun 1303 masihi) merupakan bukti terawal tulisan Jawi di alam Melayu Asia Tenggara, dan juga merupakan salah satu daripada bukti terawal kepada kewujudan Islam sebagai agama negeri di rantau ini. Kandungan batu bersurat ini ialah pengisytiharan pemerintah di Terengganu yang dikenali sebagai Seri Padukan Tuan, yang menyuruh pengikutnya untuk mendukung agama Islam, serta memberikan 10 fasal asas undang-undang syariah bagi membimbing pengikutnya.\n",
      "Bahasa Melayu mendapat penggunaan yang semakin meluas dan kukuh sebagai bahasa perantaraan kawasan maritim Asia Tenggara sewaktu zaman Kesultanan Melayu Melaka (1402–1511). Zaman ini menyaksikan perkembangan bahasa Melayu yang pantas di bawah pengaruh kesusasteraan Islam. Perkembangan bahasa ini mengubah sifat bahasa ini melalui kemasukan perbendaharaan kata secara mendadak dari bahasa Arab, bahasa Tamil dan bahasa Sanskrit, sehingga membentuk kesusasteraan Melayu Klasik yang matang. Bahasa Melayu pada zaman Kesultanan Melayu Melaka ini berevolusi menjadi bentuk yang boleh dikenalpasti oleh penutur bahasa Melayu pada zaman moden. Apabila kerajaan ini berpindah dan mendirikan Kesultanan Johor Lama, ia terus digunapakai sebagai bahasa klasik serantau; sehingga ia amat berhubungkait dengan kerajaan Riau di bawah pengaruh Belanda dan kerajaan Johor di bawah pengaruh British sehingga bahasa Melayu Riau dianggap dekat dengan bahasa klasik itu. Namun, tiada hubungkait antara bahasa Melayu Melaka yang digunakan di istana Riau dan bahasa Riau vernakular yang digunapakai oleh penduduk tempatan Riau.\n",
      "Surat-surat dari Sultan Abu Hayat yang memerintah Ternate dan Kepulauan Maluku (yang kini di dalam Indonesia) pada tahun 1521-1522 merupakan antara surat-surat tertua yang ditulis dalam bahasa Melayu. Teks surat ini ditulis kepada raja Portugal, selepas berhubung dengan peneroka Portugis bernama Francisco Serrão. Surat-surat ini menunjukkan tanda penggunaan bahasa yang bukan asli; kerana orang Ternate menggunapakai (dari dahulukala sehingga ke hari ini) bahasa Ternate sebagai bahasa ibunda mereka (yakni salah satu daripada bahasa-bahasa di Papua Barat). Bahasa Melayu adalah satu-satunya bahasa yang digunakan sebagai bahasa perantara (atau \"lingua franca\") untuk perhubungan antara pelbagai kaum.\n",
      "Pengelasan bahasa ڤڠلسن بهاس.\n",
      "Bahasa Melayu ialah salah satu ahli keluarga bahasa Austronesia yang meliputi bahasa-bahasa di kawasan Asia Tenggara dan Lautan Teduh, serta sebilangan kecil di benua Asia. Bahasa Malagasi, yakni bahasa tersisih dari segi geografi, yang dituturkan di Madagaskar terletak di barat Lautan India, juga merupakan ahli keluarga bahasa-bahasa Austronesia. Walaupun bahasa-bahasa ini tidak semestinya mempunyai kesalingfahaman yang jelas, persamaan yang terdapat pada bahasa-bahasa ini sebenarnya agak jelas. Dalam bahasa-bahasa yang lebih konservatif seperti bahasa Melayu, terdapat banyak kata-kata akar yang mengalami perubahan yang agak kecil dari bahasa leluhur mereka yakni bahasa Austronesia Purba. Terdapat banyak kata-kata kognat dalam perbendaharaan bahasa-bahasa ini dari segi hubungan pertalian, kesihatan, bahagian tubuh badan, dan nama-nama haiwan am. Persamaan dijumpai lebih ketara pada nombor-nombor yang ada pada keluarga bahasa ini.\n",
      "Di bawah keluarga bahasa Austronesia, bahasa Melayu terdiri daripada sekelompok gaya-gaya pertuturan yang rapat hubungkaitnya yang dikenali sebagai bahasa-bahasa Melayik yang tersebar merentasi Semenanjung Tanah Melayu dan kepulauan Indonesia oleh pedagang-pedagang Melayu dari Sumatra. Terdapat perbezaan pendapat mengenai kelainan-kelainan pertuturan yang manakah sepatutnya dikempok sebagai dialek-dialek bahasa Melayu, dan kelainan-kelainan yang manakah sepatutnya dianggap sebagai bahasa-bahasa Melayu yang terpisah. Bahasa vernakular di Brunei yakni bahasa Melayu Brunei misalnya tidak boleh disalingfaham dengan bahasa piawai, dan hal ini turut berlaku pada kelainan bahasa yang terdapat di Semenanjung Tanah Melayu seperti bahasa Melayu Kedah. Tetapi, bahasa Melayu Brunei dan bahasa Melayu Kedah pula mempunyai hubungan yang agak dekat.\n",
      "Sistem tulisan سيستم توليسن.\n",
      "Bahasa Melayu kini ditulis dalam tulisan Rumi di Brunei, Malaysia dan Singapura atau \"tulisan Latin\" di Indonesia, walaupun tulisan Arab yang dikenali sebagai \"tulisan Arab Melayu\" atau tulisan Jawi juga wujud. Tulisan Rumi merupakan tulisan rasmi di negara Malaysia, Singapura, dan Indonesia. Bahasa Melayu menggunakan sistem angka Arab.\n",
      "Kedua-dua tulisan Rumi dan tulisan Jawi adalah tulisan-tulisan rasmi hanya di Brunei. Nama-nama di institusi atau organisasi di Brunei perlu menggunakan kedua-dua jenis tulisan. Tulisan Jawi digunakan secara penuh di sekolah-sekolah agama yang pelajar-pelajar Muslim berumur 6-7 sehingga 12-14 tahun perlu hadiri pada waktu tengah hari.\n",
      "Beberapa usaha sedang diambil untuk memelihara tulisan Jawi di Malaysia, dan pelajar-pelajar yang mengambil peperiksaan dalam bahasa Melayu di Malaysia diberi pilihan untuk menjawab soalan-soalan dalam tulisan Jawi.\n",
      "Namun tulisan Rumi ialah tulisan yang paling kerap digunapakai di Brunei dan Malaysia untuk kegunaan rasmi mahupun tidak rasmi.\n",
      "Pada masa lampau, bahasa Melayu ditulis dalam pelbagai jenis tulisan lain. Sebelum pengenalan tulisan Arab di rantau kepulauan Melayu, bahasa Melayu ditulis dalam tulisan Pallava, tulisan Kawi dan tulisan Rencong; tulisan-tulisan tersebut kini sudah tidak digunakan lagi tetapi tulisan yang seakan contohnya seperti tulisan Cam masih digunapakai oleh orang Cam di Vietnam dan Kemboja. Bahasa Melayu Kuno ditulis dalam tulisan Pallava dan Kawi seperti pada bukti batu bersurat di kawasan rantau Melayu. Bermula dengan era Kerajaan Samudera-Pasai sehingga ke zaman kemuncak Kesultanan Melaka, tulisan Jawi sedikit demi sedikit menggantikan penggunaan tulisan-tulisan ini sebagai tulisan yang paling banyak digunapakai di alam Melayu. Bermula dengan abad ke-17, di bawah pengaruh Belanda dan British, Jawi sedikit demi sedikit digantikan dengan tulisan Rumi.\n",
      "Untuk mengetahui kaedah penggunaan abjad, penulisan huruf, penulisan kata, penulisan unsur serapan dan tanda baca umum yang dipraktikkan dalam bahasa Melayu, sila lihat: Laman arkib Pedoman Umum Ejaan Bahasa Melayu\n",
      "Sistem fonologi سيستم فونولوݢي.\n",
      "Salah satu faktor utama yang menjadikan Bahasa Melayu sebagai bahasa yang sangat mudah untuk dipelajari adalah disebabkan oleh sistem fonologi yang amat mudah. Boleh dikatakan hampir setiap huruf Rumi mewakili satu sebutan fonem. Bahasa Melayu, seperti kebanyakan bahasa lain di bawah keluarga Austronesia, bukanlah bahasa bernada.\n",
      "Bunyi-bunyi konsonan.\n",
      "Bunyi-bunyi konsonan bahasa Melayu Malaysia dan juga bahasa Indonesia ditunjukkan seperti berikut. Bunyi-bunyi konsonan yang bukan asli daripada kata-kata pinjaman bahasa Arab dan bahasa Inggeris ditunjukkan dalam tanda kurung.\n",
      "Fonem pinjaman dari bahasa Arab:\n",
      "Bunyi-bunyi vokal.\n",
      "Bahasa Melayu pada asalnya mempunyai 4 bunyi vokal, tetapi kebanyakan dialek-dialek yang wujud pada hari ini termasuk juga bahasa Melayu Baku mempunyai enam bunyi vokal dengan fonem terbelah menjadi dan fonem terbelah menjadi . Banyak perkataan disebut dengan bunyi yang berbeza sama ada berbunyi atau , dan tidak terlalu banyak perkataan asli Melayu yang menggunakan bunyi vokal tengah .\n",
      "Nota ortografi: Kedua-dua fonem dan ditulis dengan huruf . Penggunaan ortografi mewakili fonem agak kurang dalam perkataan jati Melayu, dan huruf biasanya mewakili bunyi . Tetapi terdapat juga pasangan homograf seperti \"perang\" digunakan untuk mewakili dua sebutan iaitu (kata kerja) dan (kata sifat melambang warna). \n",
      "Beberapa kajian menganggap sebagai diftong. Namun, , dan hanya boleh wujud dalam suku kata terbuka, contoh perkataan: \"cukai\", \"kerbau\" dan \"dodoi\". Perkataan yang dua huruf vokalnya disusun dalam suku kata tertutup, seperti \"baik\", \"laut\", \"kuat\", \"biak\", \"buih\" dan \"bius\" adalah terdiri daripada dua suku kata. Satu analisis alternatif menganggap diftong-diftong fonetik , dan sebagai jujukan monoftong dengan tambahan satu bunyi konsonan semi-vokal: , dan .\n",
      "Terdapat satu hukum keselarasan vokal: bunyi-bunyi vokal yang tidak luas seperti di perkataan yang mempunyai dua suku kata perlu ada keselarasan dari segi ketinggian vokalnya, contohnya \"hidung\" /hi.duŋ/ boleh disebut sebagai /hi.doŋ/ tetapi tidak boleh disebut sebagai /he.duŋ/.\n",
      "Satu kajian oleh Uri Tadmor yang diterbit pada tahun 2003 menunjukkan mutasi ⟨a⟩ di suku kata terbuka akhir perkataan ialah ciri-ciri berkawasan, secara spesifik merupakan ciri-ciri di kawasan barat Austronesia. Uri Tadmor mengklasifikasi ciri-ciri tersebut ke dalam empat kumpulan seperti berikut: \n",
      "Perbezaan antara Bahasa Melayu Piawai dan Bahasa Indonesia ڤربيذاءن انتارا بهاس ملايو ڤياواي دان بهاس ايندونيسيا.\n",
      "\"Untuk rencana lanjutan, lihat Perbezaan antara Bahasa Melayu Piawai dan Bahasa Indonesia atau Perbezaan sebutan Bahasa Melayu dan Bahasa Indonesia\"\n",
      "Perbezaan antara bahasa Melayu piawai dan bahasa Indonesia sebenarnya tidak terlalu jauh berbeza. Bahasa Indonesia sendiri pada dasarnya didasarkan kepada bahasa Melayu dialek Riau. Bahasa Melayu Riau yang juga dipakai di Malaysia sebagai bahasa standard atau lazim disebut dengan \"Bahasa Melayu Baku\". Namun, jika dibezakan dari segi sejarah, budaya, perlakuan tatabahasa masing-masing, dan lain-lain, jelas adalah perbezaan yang ketara antara kedua-dua bahasa. Penutur bahasa Melayu kebanyakan boleh memahami bahasa Indonesia, tetapi penutur bahasa Indonesia kebanyakan tidak boleh memahami bahasa Melayu sebab ada banyak perbezaan dari segi ejaan dan kosa kata. Bahasa Indonesia pun dimakna berbeza daripada bahasa Melayu yang lazim dituturkan di Malaysia kerana mempunyai banyak perkataan yang berasal dari bahasa Kawi, Jawa, Sunda, Betawi, Bali, Madura, Minangkabau, Belanda, dan lain-lain, walaupun sebenarnya bahasa Melayu yang dipakai di Malaysia pun banyak mempunyai kata pinjaman dari bahasa-bahasa daerah di Indonesia seperti bahasa Melayu Palembang, Minangkabau, Jawa, Lampung, Banjar, dan lain-lain.\n",
      "Pengaruh daripada bahasa asing ڤڠاروه درڤد بهاس اسيڠ.\n",
      "Bahasa Melayu banyak menyerap bahasa-bahasa asing seperti Sanskrit, Inggeris, Belanda, Jawa, Arab dan sebagainya.\n",
      "Pengaruh Bahasa Sanskrit.\n",
      "Bahasa Sanskrit, bahasa perantara agama Hindu dan Buddha, telah banyak mempengaruhi bahasa Melayu apabila bahasa Melayu berada di peringkat kuno, iaitu pada peringkat sebelum bahasa Melayu mencapai zaman klasik pada zaman Kesultanan Melayu Melaka yang mana bahasa Melayu telah mengalami zaman kuno antara abad ke-7 dan abad ke-13. Bukti pengaruh bahasa Sanskrit dalam bahasa kuno dapat dikesan dalam batu bersurat yang ditinggalkan oleh kerajaan Srivijaya. Mengenai bukti bahasa Melayu kuno, terdapat empat batu bersurat yang penting, iaitu yang dijumpai di:\n",
      "Selain itu sebagai faktor sampingan, faktor kemegahan juga faktor yang mendorong kepada peminjaman bahasa daripada bahasa Sanskrit. Peminjaman ini adalah kerana bahasa Sanskrit merupakan bahasa yang dianggap bahasa yang \"tinggi-tinggi\" pada zaman kuno. Penyerapan bahasa Sanskrit dalam bahasa seharian dijadikan satu cara perolehan kemegahan. Keadaan ini khususnya menyebabkan peminjaman perkataan yang sudah ada dalam bahasa Melayu asli, tetapi digantikan juga dengan bahasa Sanskrit, kerana barangkali dianggap lebih sesuai, lebih sedap bunyinya ataupun semata-mata kerana disangka lebih \"tinggi\" mutunya kerana bahasa Sanskrit merupakan bahasa sarjana.\n",
      "Dalam bahasa Melayu, terdapat 677 perkataan yang berasal daripada bahasa Sanskrit. Berikut disenaraikan beberapa contoh perkataan Sanskrit yang dipinjam ke dalam bahasa Melayu:\n",
      "Pengaruh Bahasa Jawa.\n",
      "Bahasa Jawa dan bahasa Melayu merupakan bahasa serumpun. Kedua-kedua bahasa tergolong kepada keluarga bahasa Indonesia. Terdapat dua faktor utama dalam penyebaran pengaruh bahasa Jawa ke Bahasa Melayu, iaitu:\n",
      "Cerita panji ialah sejenis cerita yang berasal dari Jawa. Isinya mengenai wira dan wirawati. Cerita ini terdapat banyak versi, dan boleh dikesan di seluruh nusantara sehingga di Kemboja.\n",
      "Migrasi orang Jawa ke Tanah Melayu telah berlaku semenjak zaman Kesultanan Melayu Melaka. Pertempatan orang Jawa sudah dapat dikesan di bandar Melaka pada zaman itu, iaitu Kampung Jawa dan Parit Jawa. Walau bagaimanapun, migrasi orang Jawa ke Tanah Melayu yang ketara berlaku bermula pada awal abad ke-19. Tumpuan migrasi Jawa adalah di negeri-negeri Selat dan juga negeri Selangor dan negeri Johor.\n",
      "Pertembungan orang tempatan yang menutur bahasa Melayu dengan pendatang Jawa yang menutur dalam bahasa Jawa telah menyebabkan unsur-unsur bahasa Jawa meresap ke dalam Bahasa Melayu. Walau bagaimanapun, perlu diketahui bahawa kata-kata pinjaman Jawa meresap ke dalam Bahasa Melayu secara terpencil dan tidak tersebar luas. Ia dikatakan diserap ke dalam Bahasa Melayu kerana migrasi orang-orang Jawa yang masih mengekalkan bahasa mereka dan tidak menguasai perbendaharaan bahasa Melayu yang sebenar.\n",
      "Berikut disenaraikan beberapa kata-kata pinjaman Jawa dalam bahasa Melayu:\n",
      "Pengaruh Arab-Islam.\n",
      "Bahasa Arab dan agama Islam sangat mempengaruhi perkembangan bahasa Melayu. Status bahasa Melayu yang bertaraf lingua franca dan keunikannya telah menyebabkan agama Islam disebarkan dalam bahasa Melayu dan bukan dengan bahasa Arab. Walau bagaimanapun, bahasa Arab melalui kedatangan agama Islam telah mempengaruhi perkembangan bahasa Melayu dalam beberapa aspek, antaranya:\n",
      "1- perbendaharaan kata\n",
      "2- sebutan kata\n",
      "3- tulisan\n",
      "Perbendaharaan Kata.\n",
      "Hampir sebahagian besar perbendaharaan bahasa Melayu meminjam perkataan bahasa Arab. Berikut disenaraikan beberapa contoh perkataan Arab yang dipinjam ke dalam bahasa Melayu:\n",
      "Sebutan Kata.\n",
      "Pengaruh Arab-Islam memberi kesan yang sangat besar kepada sebutan perkataan dalam bahasa Melayu. Bahasa Melayu mula dituturkan supaya menghampiri sebutan bahasa Arab, kerana masyarakat Melayu terdorong untuk membaca Al-Qur'an dengan betul.\n",
      "Sebutan dengan pengaruh Arab-Islam ini turut membezakan antara penutur asal bahasa Melayu (iaitu orang-orang Melayu) dengan penutur bukan asal (seperti kaum Cina, India, atau bangsa Eropah) kerana penutur bukan asal ini tidak dapat menyebut beberapa perkataan yang menerima pengaruh Arab.\n",
      "Contoh-contoh perkataan yang berbeza sebutan antara sebutan penutur Melayu dan penutur bukan Melayu:\n",
      "Tulisan.\n",
      "Kedatangan pengaruh Arab-Islam telah menyumbang kepada penulisan bahasa Melayu dalam tulisan Arab yang akhirnya disebut tulisan Jawi. Tulisan Jawi ini digunakan antara lain bagi memudahkan orang-orang Melayu yang rata-rata beragama Islam membaca Al-Quran.\n",
      "Hal ini dapat dilihat dengan jelas apabila sistem pendidikan Malaysia menukar tulisan Jawi kepada tulisan Rumi, ramai orang-orang Melayu mula tidak mampu membaca Al-Quran dengan baik. Ia dinamakan sindrom Buta Jawi atau Buta Al-Quran.\n",
      "Pengaruh Bahasa Cina.\n",
      "Dalam Kamus Dewan, terdapat kata-kata yang mempunyai etimologi berlabel \"C\". Perkataan ini merupakan kata-kata yang dipinjam daripada bahasa Cina. Tetapi bukan semua kata-kata yang berlabel \"C\" dalam Kamus Dewan Bahasa merupakan kata-kata yang dipinjam daripada bahasa Cina. Dalam kajian Kong 1993, telah disimpulkan bahawa lebih kurang 261 patah perkataan Bahasa Melayu telah dipinjam daripada bahasa Cina.\n",
      "Terdapat 10 pengelasan kata yang telah disimpulkan oleh Kong iaitu:\n",
      "Kajian ini juga dilakukan oleh Mashudi dan Yeong pada tahun 1989. Hasil kajian mereka mendapati terdapat lebih kurang 341 patah perkataan Bahasa Melayu dipinjam daripada bahasa Cina. Kajian melihat pada fonologi perkataan bahasa Melayu tersebut. Sistem fonologi kata asli bahasa Melayu tidak bertepatan dengan sistem fonologi kata bahasa Cina.\n",
      "Antara kata Bahasa Cina yang dipinjam dalam Kamus Dewan Bahasa ialah:\n",
      "Prilaku fonologi pinjaman kata Bahasa Cina adalah bertentangan dengan sistem fonologi bahasa Melayu.\n",
      "Pengaruh Portugis.\n",
      "Terdapat 131 perkataan yang berkemungkinan berasal daripada bahasa Portugis. Beberapa contoh perkataan Portugis yang diserap dalam bahasa Melayu ialah:\n",
      "Pengaruh Inggeris.\n",
      "Pengaruh bahasa Inggeris dalam bahasa Melayu merupakan pengaruh paling ketara dan paling meluas masa kini, dan lazimnya perkataan Inggeris dipinjam ke dalam bahasa Melayu apabila tiada perkataan tempatan untuk menggambarkan situasi baru yang memerlukan satu panggilan khusus untuk merujuk kepadanya. Contoh perkataan sebegini ialah \"konotasi\" (; \"connotation\"), \"kompromi\" (; \"compromise\") dan \"siri\" (; \"series\"). Tetapi kebingungan dan bantahan sering timbul apabila perkataan Inggeris yang diterima masuk ke dalam bahasa Melayu terlalu banyak sehinggakan ada yang bertindak sebagai pengganti perkataan yang telah wujud. Dewan Bahasa dan Pustaka telah terus membenarkan kemasukan perkataan sebegini dalam kosa kata bahasa Melayu dan tidak menghiraukan bantahan yang dikemukakan. Penggunaan perkataan sebegini yang meluas di media percetakan dalam bahasa Melayu di Malaysia seperti pada akhbar Utusan Malaysia telah mengeruhkan lagi permasalahan ini. Satu-satunya kenyataan bernada bimbang terhadap situasi ini pernah dilafazkan bekas perdana menteri Malaysia, Mahathir bin Mohamad meskipun beliau sendiri telah memperkenalkan suatu perkataan baru \"bajet\" () menggantikan perkataan \"belanjawan\" () semasa pembentangan belanjawannya yang terakhir, dengan alasan bahawa istilah belanjawan tidak tepat kerana anggaran kewangan kerajaan turut melibatkan hasil, dan bukan belanja semata-mata.\n",
      "Berikut merupakan beberapa perkataan yang telah diterima dalam bahasa Melayu secara rasmi dan digunakan secara meluas dan dianggap telah diterima.\n",
      "Beberapa tahun kebelakangan ini (sekitar 2003), stesen televisyen milik kerajaan Malaysia RTM 1 (dahulu dikenali sebagai TV 1) telah menukar tema salurannya kepada \"Saluran Infotainmen Anda\" (; daripada bahasa Inggeris \"Your Infotainment Channel\") dan ini menimbulkan kontroversi apabila Dewan Bahasa dan Pustaka (DBP) mendakwa perkataan \"Infortainmen\" merosakkan penggunaan bahasa Melayu. Alasan yang diberikan adalah bahawa \"-tain-\" yang harus disebut seakan perkataan Melayu \"main\", dan ini kedengaran agak janggal. Penukaran ejaan ke \"Infotenmen\" pula tidak diterima sebagai piawai DBP dan kerajaan disaran menggantikannya dengan perkataan lain seperti \"Infohibur\" tetapi Kementerian Penerangan yang mengendalikan stesen televisyen kerajaan Radio Televisyen Malaysia enggan menuruti saranan berkenaan. Pada tahun 2006 tema ini ditukarkan ke \"Saluran Inforia\" ().\n",
      "Definisi bahasa Melayu tinggi dan bahasa Melayu baku ديفينيسي بهاس ملايو تيڠݢي دان بهاس ملايو باکو.\n",
      "Konsep bahasa Melayu tinggi merujuk kepada penggunaan bahasa Melayu dalam konteks wacana ilmiah dan berkaitan dengan ketamadunan. Bahasa Melayu tinggi sering dirujuk sebagai wahana bagi melahirkan idea dan wawasan yang berkaitan dengan kesarjanaan dan kebudayaan. Bahasa Melayu tinggi lazimnya digunakan dalam seminar, persidangan atau kongres yang berkaitan dengan bahasa, budaya ataupun bidang ilmiah yang lain.\n",
      "Bahasa Melayu baku pula ialah bahasa Melayu yang sempurna dari segi penggunaan aspek bahasanya, iaitu ejaan, tatabahasa, istilah, penggunaan kata, laras bahasa dan sebutan.\n",
      "Frasa mudah dalam Bahasa Melayu فراسا موده دالم بهاس ملايو.\n",
      "Di Malaysia, biasanya masyarakat Melayu bertegur sapa sesama sendiri dengan ucapan salam, tetapi ucapan formal seperti \"Selamat pagi\" atau \"Selamat sejahtera\" turut digunakan bagi penutur bukan Islam. Ucapan \"Hai\" juga sering digunakan apabila bertegur sama sesama rakan-rakan, sebagaimana perkataan \"Bye-bye\" semasa meminta diri untuk beredar.\n",
      "Penggunaan tidak formal pada zaman kontemporari.\n",
      "Di keempat-empat negara yang menggunakan bahasa-bahasa Melayik yakni negara Indonesia, Malaysia, Singapura dan Brunei, penggunaan ragam bahasa Melayu yang tidak formal adalah sesuatu yang pasti berlaku dalam kehidupan harian kerana agak mustahil untuk setiap orang bertutur dalam ragam formal sepanjang masa. Penggunaan ragam tidak formal kebiasaannya berlaku melalui pemendekkan kata dari bahasa formal, peminjaman kosa kata dari dialek-dialek/bahasa-bahasa tempatan (seperti dialek Melayu Kelantan, bahasa Minangkabau atau bahasa Jawa) mahupun bahasa-bahasa negara berdekatan (seperti bahasa Thai, bahasa Cina dan bahasa India) serta penyerapan sebutan langsung dari kosa kata bahasa asing khususnya bahasa Inggeris ekoran globalisasi.\n",
      "\"Untuk rencana berkaitan penggunaan bahasa Indonesia yang tidak formal, sila lihat Bahasa gaul Indonesia\"\n",
      "\"Untuk rencana berkaitan penggunaan bahasa Melayu Malaysia yang tidak formal, sila lihat Bahasa Melayu yang tidak rasmi di Malaysia\"\n"
     ]
    }
   ],
   "source": [
    "print(data[0]['text'])"
   ]
  },
  {
   "cell_type": "code",
   "execution_count": 7,
   "id": "ac843285",
   "metadata": {},
   "outputs": [],
   "source": [
    "def loop(texts):\n",
    "    texts, _ = texts\n",
    "    r = []\n",
    "    for l in tqdm(texts):\n",
    "        partitioned = partition(l['text'])\n",
    "        for p in partitioned:\n",
    "            r.append({\n",
    "                'url': l['url'],\n",
    "                'text': p\n",
    "            })\n",
    "            \n",
    "    return r"
   ]
  },
  {
   "cell_type": "code",
   "execution_count": 8,
   "id": "877e95be",
   "metadata": {
    "scrolled": true
   },
   "outputs": [
    {
     "name": "stderr",
     "output_type": "stream",
     "text": [
      "100%|█████████████████████████████████████████████████████████████████████████████████| 10/10 [00:00<00:00, 73.31it/s]\n"
     ]
    }
   ],
   "source": [
    "r = loop((data[:10],0))"
   ]
  },
  {
   "cell_type": "code",
   "execution_count": 9,
   "id": "024b76bc",
   "metadata": {},
   "outputs": [
    {
     "name": "stderr",
     "output_type": "stream",
     "text": [
      "huggingface/tokenizers: The current process just got forked, after parallelism has already been used. Disabling parallelism to avoid deadlocks...\n",
      "To disable this warning, you can either:\n",
      "\t- Avoid using `tokenizers` before the fork if possible\n",
      "\t- Explicitly set the environment variable TOKENIZERS_PARALLELISM=(true | false)\n",
      "huggingface/tokenizers: The current process just got forked, after parallelism has already been used. Disabling parallelism to avoid deadlocks...\n",
      "To disable this warning, you can either:\n",
      "\t- Avoid using `tokenizers` before the fork if possible\n",
      "\t- Explicitly set the environment variable TOKENIZERS_PARALLELISM=(true | false)\n",
      "huggingface/tokenizers: The current process just got forked, after parallelism has already been used. Disabling parallelism to avoid deadlocks...\n",
      "To disable this warning, you can either:\n",
      "\t- Avoid using `tokenizers` before the fork if possible\n",
      "\t- Explicitly set the environment variable TOKENIZERS_PARALLELISM=(true | false)\n",
      "huggingface/tokenizers: The current process just got forked, after parallelism has already been used. Disabling parallelism to avoid deadlocks...\n",
      "To disable this warning, you can either:\n",
      "\t- Avoid using `tokenizers` before the fork if possible\n",
      "\t- Explicitly set the environment variable TOKENIZERS_PARALLELISM=(true | false)\n",
      "huggingface/tokenizers: The current process just got forked, after parallelism has already been used. Disabling parallelism to avoid deadlocks...\n",
      "To disable this warning, you can either:\n",
      "\t- Avoid using `tokenizers` before the fork if possible\n",
      "\t- Explicitly set the environment variable TOKENIZERS_PARALLELISM=(true | false)\n",
      "huggingface/tokenizers: The current process just got forked, after parallelism has already been used. Disabling parallelism to avoid deadlocks...\n",
      "To disable this warning, you can either:\n",
      "\t- Avoid using `tokenizers` before the fork if possible\n",
      "\t- Explicitly set the environment variable TOKENIZERS_PARALLELISM=(true | false)\n",
      "huggingface/tokenizers: The current process just got forked, after parallelism has already been used. Disabling parallelism to avoid deadlocks...\n",
      "To disable this warning, you can either:\n",
      "\t- Avoid using `tokenizers` before the fork if possible\n",
      "\t- Explicitly set the environment variable TOKENIZERS_PARALLELISM=(true | false)\n",
      "huggingface/tokenizers: The current process just got forked, after parallelism has already been used. Disabling parallelism to avoid deadlocks...\n",
      "To disable this warning, you can either:\n",
      "\t- Avoid using `tokenizers` before the fork if possible\n",
      "\t- Explicitly set the environment variable TOKENIZERS_PARALLELISM=(true | false)\n",
      "huggingface/tokenizers: The current process just got forked, after parallelism has already been used. Disabling parallelism to avoid deadlocks...\n",
      "To disable this warning, you can either:\n",
      "\t- Avoid using `tokenizers` before the fork if possible\n",
      "\t- Explicitly set the environment variable TOKENIZERS_PARALLELISM=(true | false)\n",
      "huggingface/tokenizers: The current process just got forked, after parallelism has already been used. Disabling parallelism to avoid deadlocks...\n",
      "To disable this warning, you can either:\n",
      "\t- Avoid using `tokenizers` before the fork if possible\n",
      "\t- Explicitly set the environment variable TOKENIZERS_PARALLELISM=(true | false)\n",
      "  4%|██▉                                                                       | 1438/36122 [00:01<00:17, 1967.23it/s]TOKENIZERS_PARALLELISM=(true | false)\n",
      " 11%|████████▎                                                                  | 4000/36122 [00:05<01:12, 440.12it/s]TOKENIZERS_PARALLELISM=(true | false)\n",
      "100%|█████████████████████████████████████████████████████████████████████████| 36122/36122 [00:15<00:00, 2278.21it/s]\n",
      "100%|██████████████████████████████████████████████████████████████████████████████████| 3/3 [00:00<00:00, 272.05it/s]\n",
      "100%|█████████████████████████████████████████████████████████████████████████| 36122/36122 [00:18<00:00, 1975.31it/s]\n",
      "100%|█████████████████████████████████████████████████████████████████████████| 36122/36122 [00:23<00:00, 1514.06it/s]\n",
      "100%|█████████████████████████████████████████████████████████████████████████| 36122/36122 [00:21<00:00, 1695.43it/s]\n",
      "100%|██████████████████████████████████████████████████████████████████████████| 36122/36122 [00:40<00:00, 885.66it/s]\n",
      "100%|██████████████████████████████████████████████████████████████████████████| 36122/36122 [00:52<00:00, 681.85it/s]\n",
      "100%|██████████████████████████████████████████████████████████████████████████| 36122/36122 [00:53<00:00, 671.41it/s]\n",
      "100%|██████████████████████████████████████████████████████████████████████████| 36122/36122 [01:02<00:00, 573.40it/s]\n",
      "100%|██████████████████████████████████████████████████████████████████████████| 36122/36122 [01:31<00:00, 392.69it/s]\n",
      "100%|██████████████████████████████████████████████████████████████████████████| 36122/36122 [02:04<00:00, 289.46it/s]\n"
     ]
    }
   ],
   "source": [
    "import mp\n",
    "\n",
    "r = mp.multiprocessing(data, loop, cores = 10)"
   ]
  },
  {
   "cell_type": "code",
   "execution_count": 13,
   "id": "c5535232",
   "metadata": {},
   "outputs": [
    {
     "data": {
      "text/plain": [
       "364400"
      ]
     },
     "execution_count": 13,
     "metadata": {},
     "output_type": "execute_result"
    }
   ],
   "source": [
    "len(r)"
   ]
  },
  {
   "cell_type": "code",
   "execution_count": 14,
   "id": "8f54f5b4",
   "metadata": {},
   "outputs": [
    {
     "data": {
      "text/plain": [
       "{'url': 'https://ms.wikipedia.org/wiki?curid=15',\n",
       " 'text': 'Bahasa Melayu (Tulisan Jawi: بهاس ملايو; Rejang: ꤷꥁꤼ ꤸꥍꤾꤿꥈ) ialah salah satu daripada bahasa-bahasa Melayu-Polinesia di bawah keluarga bahasa Austronesia, yang merupakan bahasa rasmi di Brunei, Indonesia, Malaysia dan Singapura, serta dituturkan di Timor Leste dan sebahagian wilayah di Kemboja, Filipina dan Thailand. Jumlah penutur bahasa Melayu mencakupi lebih daripada 290 juta penutur (seramai 260 juta orang bertutur bahasa Indonesia) merentasi kawasan maritim Asia Tenggara. Sebagai salah satu daripada bahasa-bahasa yang paling luas digunakan di Asia Tenggara, bahasa Melayu mempunyai istilah perundangan yang berbeza di negara-negara terlibat bergantung pada sejarah dan budaya penggunaan bahasa Melayu di negara-negara tersebut. Di Malaysia, istilah \"bahasa Melayu\" ialah istilah \"de jure\" untuk pentakrifan rasmi bahasa kebangsaan negara Malaysia, manakala istilah \"bahasa Malaysia\" atau \"bahasa Melayu Malaysia\" seringkali digunakan mewakili perkara yang sama secara tidak formal di kalangan rakyat Malaysia. Di Singapura, Bahasa Melayu mempunyai status bahasa kebangsaan pada waktu yang sama merupakan salah satu daripada empat bahasa rasmi (tiga lagi bahasa rasmi lain ialah bahasa Inggeris, bahasa Cina, dan bahasa Tamil). Di Brunei, \"bahasa Melayu\" juga ditakrifkan sebagai bahasa rasmi negara dan bahasa Melayu diutamakan apabila berlakunya percanggahan dengan versi bahasa Inggeris teks undang-udang. Di Indonesia, bentuk piawai bahasa Melayu dikenali sebagai bahasa Indonesia yang berperanan sebagai bahasa pemersatu di negara Indonesia. Penggunaan istilah \"bahasa Melayu\" di Indonesia pula hanya terhad kepada bentuk-bentuk vernakular bahasa Melayu (yakni bahasa Melayu tempatan) yang dituturkan di kawasan asli Melayu terletak di zon tengah Sumatra (seperti Riau, Kepulauan Riau, Jambi dan lain-lain), Sumatra Selatan dan Kalimantan Barat Indonesia. Di Timor Leste, Bahasa Indonesia masih tetap dikekalkan sebagai bahasa rasmi utamanya sebagai \"bahasa bekerja\" walaupun telah merdeka daripada negara Indonesia. Di selatan Thailand, bahasa Melayu digunakan oleh orang-orang dari Kesultanan Melayu Patani (orang Melayu Pattani), tetapi tidak memperolehi sebarang pengiktirafan daripada kerajaan. Bahasa Melayu Klasik, secara spesifiknya \"bahasa istana\" (atau dikenali sebagai \"Court Malay\" dalam bahasa Inggeris), ialah bahasa piawai sastera bersusurgalur daripada kesultanan Melaka dan kesultanan Johor, disebabkan itulah bahasa ini juga dikenali sebagai bahasa Melayu Melaka, Johor atau Riau (atau pelbagai jenis gabungan nama yang berasaskan mana-mana dari tiga nama tempat ini) untuk membezakannya daripada bahasa-bahasa Melayik yang lain. Menurut \"Ethnologue\" 26, beberapa kelainan bahasa-bahasa Melayik disenaraikan sebagai bahasa-bahasa yang terpisah, termasuklah kelainan bahasa-bahasa Melayu Semenanjung yang dituturkan oleh Orang Asli, yang sangat rapat hubungannya dengan bahasa Melayu Baku yang boleh dianggap sebagai dialek-dialeknya. Terdapat beberapa bahasa dagang atau bahasa kreol Melayu yang berdasarkan satu bentuk \"lingua franca\" yang disusurgalurkan ke bahasa Melayu Klasik. Asal usul bahasa Melayu اصل اصول بهاس ملايو. Ahli-ahli linguistik bahasa Melayu bersetuju dengan kemungkinan bahawa asal usul bahasa Melayu terletak di barat pulau Borneo. Satu bentuk bahasa yang kini dikenali sebagai bahasa Melayu Purba (dari segi linguistik dikenali sebagai bahasa Melayik Purba) dituturkan di pulau Borneo sekurang-kurangnya pada 1000 tahun sebelum Masihi dan dianggap sebagai leluhur kepada kesemua bahasa di bawah kumpulan Melayik. Leluhur bahasa purba ini ialah bahasa Melayu-Polinesia Purba, yang merupakan turunan dari bahasa Austronesia Purba, mula bercambah sekurang-kurangnya pada 2000 tahun sebelum Masihi, yang mungkin hasil daripada penerokaanorang Austronesia dari pulau Taiwan ke arah kawasan yang terletak lebih selatan yakni kawasan maritim Asia Tenggara Sejarah Bahasa Melayu سجاره بهاس ملايو. Secara umumnya, garis perkembangan bahasa Melayu terbahagi kepada tiga fasa utama iaitu bahasa Melayu Kuno, bahasa Melayu Klasik dan bahasa Melayu Moden, dan terdapat fasa peralihan di antara fasa-fasa utama tersebut. Sesetengah pakar bahasa menganggap bahasa Melayu Kuno ialah bahasa leluhur bahasa Melayu Klasik, tetapi sesetengah ahli linguistik yang lain pula berpendapat bahawa hubungan leluhur antara dua fasa bahasa ini susah untuk ditentusahkan berikutan keganjilan dari segi morfologi dan sintaksis antara dua fasa ini, serta keserentakan penggunaan kedua-dua fasa bahasa ini pada abad ke-14. Bahasa Melayu Kuno dipengaruhi oleh bahasa Sanskrit yang merupakan bahasa klasik di India. Peminjaman kata-kata Sanskrit boleh didapati dalam perbendaharaan bahasa Melayu Kuno. Batu bersurat terawal dalam bahasa Melayu Kuno dijumpai di Sumatra, Indonesia, dan ditulis dalam huruf-huruf Grantha bervariasi Pallava dan tarikhnya ditentukan pada 1 Mei 683. Batu bersurat ini dikenali sebagai batu bersurat Kedukan Bukit yang dijumpai oleh orang Belanda yang bernama M. Batenburg pada 29 November 1920 di Sungai Musi, Kedukan Bukit, Sumatra Selatan. Ia merupakan batu kecil berukuran. Bukti lain ialah naskhah Undang-undang Tanjung Tanah dalam huruf-huruf pasca-Pallava. Teks perundangan pra-Islam pada abad ke-14 ini dihasilkan pada zaman pemerintahan Adityawarman (1345–1377) di kerajaan Dharmasraya, yang merupakan kerajaan Hindu-Buddha yang membangun setelah tamatnya kekuasaan Srivijaya di Sumatra. Undang-undang ini ditulis untuk orang Minangkabau yang masih tinggal di tanah tinggi di barat Sumatra, Indonesia. Batu bersurat Terengganu (Jawi: باتو برسورت ترڠݢانو) ialah pacakan batu granit dengan inskripsi tulisan Jawi dan dijumpai di Terengganu, Malaysia. Ia adalah bukti terawal kewujudan batu-batu bersurat bahasa Melayu Klasik. Batu bersurat yang bertarikh tahun 702 hijrah (bersamaan tahun 1303 masihi) merupakan bukti terawal tulisan Jawi di alam Melayu Asia Tenggara, dan juga merupakan salah satu daripada bukti terawal kepada kewujudan Islam sebagai agama negeri di rantau ini. Kandungan batu bersurat ini ialah pengisytiharan pemerintah di Terengganu yang dikenali sebagai Seri Padukan Tuan, yang menyuruh pengikutnya untuk mendukung agama Islam, serta memberikan 10 fasal asas undang-undang syariah bagi membimbing pengikutnya. Bahasa Melayu mendapat penggunaan yang semakin meluas dan kukuh sebagai bahasa perantaraan kawasan maritim Asia Tenggara sewaktu zaman Kesultanan Melayu Melaka (1402–1511). Zaman ini menyaksikan perkembangan bahasa Melayu yang pantas di bawah pengaruh kesusasteraan Islam. Perkembangan bahasa ini mengubah sifat bahasa ini melalui kemasukan perbendaharaan kata secara mendadak dari bahasa Arab, bahasa Tamil dan bahasa Sanskrit, sehingga membentuk kesusasteraan Melayu Klasik yang matang. Bahasa Melayu pada zaman Kesultanan Melayu Melaka ini berevolusi menjadi bentuk yang boleh dikenalpasti oleh penutur bahasa Melayu pada zaman moden. Apabila kerajaan ini berpindah dan mendirikan Kesultanan Johor Lama, ia terus digunapakai sebagai bahasa klasik serantau; sehingga ia amat berhubungkait dengan kerajaan Riau di bawah pengaruh Belanda dan kerajaan Johor di bawah pengaruh British sehingga bahasa Melayu Riau dianggap dekat dengan bahasa klasik itu. Namun, tiada hubungkait antara bahasa Melayu Melaka yang digunakan di istana Riau dan bahasa Riau vernakular yang digunapakai oleh penduduk tempatan Riau. Surat-surat dari Sultan Abu Hayat yangmemerintah Ternate dan Kepulauan Maluku (yang kini di dalam Indonesia) pada tahun 1521-1522 merupakan antara surat-surat tertua yang ditulis dalam bahasa Melayu. Teks surat ini ditulis kepada raja Portugal, selepas berhubung dengan peneroka Portugis bernama Francisco Serrão. Surat-surat ini menunjukkan tanda penggunaan bahasa yang bukan asli; kerana orang Ternate menggunapakai (dari dahulukala sehingga ke hari ini) bahasa Ternate sebagai bahasa ibunda mereka (yakni salah satu daripada bahasa-bahasa di Papua Barat). Bahasa Melayu adalah satu-satunya bahasa yang digunakan sebagai bahasa perantara (atau \"lingua franca\") untuk perhubungan antara pelbagai kaum. Pengelasan bahasa ڤڠلسن بهاس. Bahasa Melayu ialah salah satu ahli keluarga bahasa Austronesia yang meliputi bahasa-bahasa di kawasan Asia Tenggara dan Lautan Teduh, serta sebilangan kecil di benua Asia. Bahasa Malagasi, yakni bahasa tersisih dari segi geografi, yang dituturkan di Madagaskar terletak di barat Lautan India, juga merupakan ahli keluarga bahasa-bahasa Austronesia. Walaupun bahasa-bahasa ini tidak semestinya mempunyai kesalingfahaman yang jelas, persamaan yang terdapat pada bahasa-bahasa ini sebenarnya agak jelas. Dalam bahasa-bahasa yang lebih konservatif seperti bahasa Melayu, terdapat banyak kata-kata akar yang mengalami perubahan yang agak kecil dari bahasa leluhur mereka yakni bahasa Austronesia Purba. Terdapat banyak kata-kata kognat dalam perbendaharaan bahasa-bahasa ini dari segi hubungan pertalian, kesihatan, bahagian tubuh badan, dan nama-nama haiwan am. Persamaan dijumpai lebih ketara pada nombor-nombor yang ada pada keluarga bahasa ini. Di bawah keluarga bahasa Austronesia, bahasa Melayu terdiri daripada sekelompok gaya-gaya pertuturan yang rapat hubungkaitnya yang dikenali sebagai bahasa-bahasa Melayik yang tersebar merentasi Semenanjung Tanah Melayu dan kepulauan Indonesia oleh pedagang-pedagang Melayu dari Sumatra. Terdapat perbezaan pendapat mengenai kelainan-kelainan pertuturan yang manakah sepatutnya dikempok sebagai dialek-dialek bahasa Melayu, dan kelainan-kelainan yang manakah sepatutnya dianggap sebagai bahasa-bahasa Melayu yang terpisah. Bahasa vernakular di Brunei yakni bahasa Melayu Brunei misalnya tidak boleh disalingfaham dengan bahasa piawai, dan hal ini turut berlaku pada kelainan bahasa yang terdapat di Semenanjung Tanah Melayu seperti bahasa Melayu Kedah. Tetapi, bahasa Melayu Brunei dan bahasa Melayu Kedah pula mempunyai hubungan yang agak dekat. Sistem tulisan سيستم توليسن. Bahasa Melayu kini ditulis dalam tulisan Rumi di Brunei, Malaysia dan Singapura atau \"tulisan Latin\" di Indonesia, walaupun tulisan Arab yang dikenali sebagai \"tulisan Arab Melayu\" atau tulisan Jawi juga wujud. Tulisan Rumi merupakan tulisan rasmi di negara Malaysia, Singapura, dan Indonesia. Bahasa Melayu menggunakan sistem angka Arab. Kedua-dua tulisan Rumi dan tulisan Jawi adalah tulisan-tulisan rasmi hanya di Brunei. Nama-nama di institusi atau organisasi di Brunei perlu menggunakan kedua-dua jenis tulisan. Tulisan Jawi digunakan secara penuh di sekolah-sekolah agama yang pelajar-pelajar Muslim berumur 6-7 sehingga 12-14 tahun perlu hadiri pada waktu tengah hari. Beberapa usaha sedang diambil untuk memelihara tulisan Jawi di Malaysia, dan pelajar-pelajar yang mengambil peperiksaan dalam bahasa Melayu di Malaysia diberi pilihan untuk menjawab soalan-soalan dalam tulisan Jawi. Namun tulisan Rumi ialah tulisan yang paling kerap digunapakai di Brunei dan Malaysia untuk kegunaan rasmi mahupun tidak rasmi. Pada masa lampau, bahasa Melayu ditulis dalam pelbagai jenis tulisan lain. Sebelum pengenalan tulisan Arab di rantau kepulauan Melayu, bahasa Melayu ditulis dalam tulisan Pallava, tulisan Kawi dan tulisan Rencong; tulisan-tulisan tersebut kinisudah tidak digunakan lagi tetapi tulisan yang seakan contohnya seperti tulisan Cam masih digunapakai oleh orang Cam di Vietnam dan Kemboja. Bahasa Melayu Kuno ditulis dalam tulisan Pallava dan Kawi seperti pada bukti batu bersurat di kawasan rantau Melayu. Bermula dengan era Kerajaan Samudera-Pasai sehingga ke zaman kemuncak Kesultanan Melaka, tulisan Jawi sedikit demi sedikit menggantikan penggunaan tulisan-tulisan ini sebagai tulisan yang paling banyak digunapakai di alam Melayu. Bermula dengan abad ke-17, di bawah pengaruh Belanda dan British, Jawi sedikit demi sedikit digantikan dengan tulisan Rumi. Untuk mengetahui kaedah penggunaan abjad, penulisan huruf, penulisan kata, penulisan unsur serapan dan tanda baca umum yang dipraktikkan dalam bahasa Melayu, sila lihat: Laman arkib Pedoman Umum Ejaan Bahasa Melayu Sistem fonologi سيستم فونولوݢي. Salah satu faktor utama yang menjadikan Bahasa Melayu sebagai bahasa yang sangat mudah untuk dipelajari adalah disebabkan oleh sistem fonologi yang amat mudah. Boleh dikatakan hampir setiap huruf Rumi mewakili satu sebutan fonem. Bahasa Melayu, seperti kebanyakan bahasa lain di bawah keluarga Austronesia, bukanlah bahasa bernada. Bunyi-bunyi konsonan. Bunyi-bunyi konsonan bahasa Melayu Malaysia dan juga bahasa Indonesia ditunjukkan seperti berikut. Bunyi-bunyi konsonan yang bukan asli daripada kata-kata pinjaman bahasa Arab dan bahasa Inggeris ditunjukkan dalam tanda kurung. Fonem pinjaman dari bahasa Arab: Bunyi-bunyi vokal. Bahasa Melayu pada asalnya mempunyai 4 bunyi vokal, tetapi kebanyakan dialek-dialek yang wujud pada hari ini termasuk juga bahasa Melayu Baku mempunyai enam bunyi vokal dengan fonem terbelah menjadi dan fonem terbelah menjadi. Banyak perkataan disebut dengan bunyi yang berbeza sama ada berbunyi atau, dan tidak terlalu banyak perkataan asli Melayu yang menggunakan bunyi vokal tengah. Nota ortografi: Kedua-dua fonem dan dit'}"
      ]
     },
     "execution_count": 14,
     "metadata": {},
     "output_type": "execute_result"
    }
   ],
   "source": [
    "r[0]"
   ]
  },
  {
   "cell_type": "code",
   "execution_count": 15,
   "id": "41424366",
   "metadata": {},
   "outputs": [],
   "source": [
    "with open('prepared-wikipedia-llama3.jsonl', 'w') as fopen:\n",
    "    for d in r:\n",
    "        fopen.write(f'{json.dumps(d)}\\n')"
   ]
  },
  {
   "cell_type": "code",
   "execution_count": null,
   "id": "1b2c544a",
   "metadata": {},
   "outputs": [],
   "source": []
  }
 ],
 "metadata": {
  "kernelspec": {
   "display_name": "Python 3 (ipykernel)",
   "language": "python",
   "name": "python3"
  },
  "language_info": {
   "codemirror_mode": {
    "name": "ipython",
    "version": 3
   },
   "file_extension": ".py",
   "mimetype": "text/x-python",
   "name": "python",
   "nbconvert_exporter": "python",
   "pygments_lexer": "ipython3",
   "version": "3.8.10"
  }
 },
 "nbformat": 4,
 "nbformat_minor": 5
}
