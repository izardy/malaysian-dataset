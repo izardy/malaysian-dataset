{
 "cells": [
  {
   "cell_type": "code",
   "execution_count": 18,
   "id": "368e9452",
   "metadata": {},
   "outputs": [],
   "source": [
    "import json\n",
    "import os"
   ]
  },
  {
   "cell_type": "code",
   "execution_count": 19,
   "id": "7d9262dc",
   "metadata": {},
   "outputs": [],
   "source": [
    "data = []\n",
    "with open('prepared-wikipedia.jsonl') as fopen:\n",
    "    for l in fopen:\n",
    "        l = json.loads(l)\n",
    "        if len(l['text']) < 512:\n",
    "            continue\n",
    "        data.append(l['text'])"
   ]
  },
  {
   "cell_type": "code",
   "execution_count": 20,
   "id": "234e4737",
   "metadata": {
    "scrolled": true
   },
   "outputs": [
    {
     "data": {
      "text/plain": [
       "96178"
      ]
     },
     "execution_count": 20,
     "metadata": {},
     "output_type": "execute_result"
    }
   ],
   "source": [
    "len(data)"
   ]
  },
  {
   "cell_type": "code",
   "execution_count": 4,
   "id": "39277104",
   "metadata": {},
   "outputs": [
    {
     "name": "stdout",
     "output_type": "stream",
     "text": [
      "mkdir: cannot create directory ‘generate-wikipedia-qa’: File exists\r\n"
     ]
    }
   ],
   "source": [
    "# !rm -rf generate-wikipedia-qa\n",
    "!mkdir generate-wikipedia-qa"
   ]
  },
  {
   "cell_type": "code",
   "execution_count": 5,
   "id": "695d750c",
   "metadata": {},
   "outputs": [
    {
     "data": {
      "text/plain": [
       "96178"
      ]
     },
     "execution_count": 5,
     "metadata": {},
     "output_type": "execute_result"
    }
   ],
   "source": [
    "results = []\n",
    "for i in range(len(data)):\n",
    "    \n",
    "    s = \"\"\"\n",
    "```\n",
    "{{replace_me}}\n",
    "```\n",
    "\n",
    "return in JSON {\n",
    "    \"name\": \"QAS\",\n",
    "    \"description\": \"Correctly extracted `QAS` with all the required parameters with correct types\",\n",
    "    \"parameters\": {\n",
    "        \"$defs\": {\n",
    "            \"AnswerEnum\": {\n",
    "                \"enum\": [\n",
    "                    \"A\",\n",
    "                    \"B\",\n",
    "                    \"C\",\n",
    "                    \"D\"\n",
    "                ],\n",
    "                \"type\": \"string\"\n",
    "            },\n",
    "            \"Selective_QA\": {\n",
    "                \"properties\": {\n",
    "                    \"question\": {\n",
    "                        \"type\": \"string\"\n",
    "                    },\n",
    "                    \"A\": {\n",
    "                        \"type\": \"string\"\n",
    "                    },\n",
    "                    \"B\": {\n",
    "                        \"type\": \"string\"\n",
    "                    },\n",
    "                    \"C\": {\n",
    "                        \"type\": \"string\"\n",
    "                    },\n",
    "                    \"D\": {\n",
    "                        \"type\": \"string\"\n",
    "                    },\n",
    "                    \"answer\": {\n",
    "                        \"$ref\": \"#/$defs/AnswerEnum\"\n",
    "                    }\n",
    "                },\n",
    "                \"required\": [\n",
    "                    \"question\",\n",
    "                    \"A\",\n",
    "                    \"B\",\n",
    "                    \"C\",\n",
    "                    \"D\",\n",
    "                    \"answer\"\n",
    "                ],\n",
    "                \"type\": \"object\"\n",
    "            }\n",
    "        },\n",
    "        \"properties\": {\n",
    "            \"qa\": {\n",
    "                \"items\": {\n",
    "                    \"$ref\": \"#/$defs/Selective_QA\"\n",
    "                },\n",
    "                \"type\": \"array\"\n",
    "            }\n",
    "        },\n",
    "        \"required\": [\n",
    "            \"qa\"\n",
    "        ],\n",
    "        \"type\": \"object\"\n",
    "    }\n",
    "}\n",
    "    \"\"\".strip()\n",
    "    s = s.replace('{{replace_me}}', data[i])\n",
    "    results.append(s)\n",
    "        \n",
    "len(results)"
   ]
  },
  {
   "cell_type": "code",
   "execution_count": 6,
   "id": "c577ae75",
   "metadata": {},
   "outputs": [],
   "source": [
    "from openai import OpenAI\n",
    "\n",
    "def answer(q, i):\n",
    "    filename = f'generate-wikipedia-qa/{i}.json'\n",
    "    if os.path.exists(filename):\n",
    "        return\n",
    "    \n",
    "    results = []\n",
    "    openai = OpenAI(\n",
    "        base_url='http://localhost:8005/v1',\n",
    "        api_key='empty',\n",
    "    )\n",
    "    for _ in range(3):\n",
    "    \n",
    "        \n",
    "        completion = openai.chat.completions.create(\n",
    "            model='',\n",
    "            messages=[{'role': 'user', 'content': q}],\n",
    "            temperature=0.9,\n",
    "            max_tokens=2048,\n",
    "            top_p=0.95,\n",
    "        )\n",
    "        r = completion.choices[0].message.content\n",
    "        results.append(r)\n",
    "    \n",
    "    with open(filename, 'w') as fopen:\n",
    "        json.dump(results, fopen)"
   ]
  },
  {
   "cell_type": "code",
   "execution_count": 7,
   "id": "2f0f6d5d",
   "metadata": {},
   "outputs": [],
   "source": [
    "def consumer(queue, name):\n",
    "    while True:\n",
    "        if queue.qsize() == 0:\n",
    "            break\n",
    "        item = queue.get()\n",
    "        answer(*item)\n",
    "    print(f'consumer {name} done')"
   ]
  },
  {
   "cell_type": "code",
   "execution_count": 8,
   "id": "48ec131c",
   "metadata": {},
   "outputs": [],
   "source": [
    "urls = [(q, no) for no, q in enumerate(results)]"
   ]
  },
  {
   "cell_type": "code",
   "execution_count": 9,
   "id": "eaffe556",
   "metadata": {},
   "outputs": [],
   "source": [
    "answer(*urls[10003])"
   ]
  },
  {
   "cell_type": "code",
   "execution_count": 10,
   "id": "64afea69",
   "metadata": {},
   "outputs": [
    {
     "data": {
      "text/plain": [
       "('```\\nKiteretsu Daihyakka (bahasa Jepun: キテレツ大百科, \"Ensiklopedia Kiteretsu\") merupakan siri manga sains fiksyen oleh Fujiko F. Fujio yang pernah diterbitkan dalam majalah kanak-kanak \"Kodomo no Hikari\" dari April 1974 hingga Julai 1977. Manga ini kemudian diadaptasi menjadi siri anime TV sepanjang 331 episod yang eprnah disiarkan dalam rangkaian Fuji TV dari 27 Mac, 1988 hingga 9 Jun, 1996. Anime ini kini disiarkan di Malaysia melalui saluran TV3 sejak Mac 2007. Sekarang siri animasi ini disiarkan setiap Isnin jam 7.30 malam. Watak utamanya adalah kanak-kanak lelaki genius dalam sains bernama Kiteretsu, yang menghasilkan robot sebagai teman bernama Korosuke. Dia kerap bersama rakan-rakannya dan Korosuke dalam mesin cahaya masa yang dibinanya. Miyoko adalah seorang kanak-kanak perempuan dalam kawasan perumahan Kiteretsu yang pokoknya merupakan \"teman wanita\"nya (sungguhpun mereka masih belajar di sekolah rendah). Terdapat banyak kesamaan dalam pembentukan dan wajah watak-watak utama jika dibandingkan dengan \"Doraemon\" yang juga direka oleh Fujio.\\n```\\n\\nreturn in JSON {\\n    \"name\": \"QAS\",\\n    \"description\": \"Correctly extracted `QAS` with all the required parameters with correct types\",\\n    \"parameters\": {\\n        \"$defs\": {\\n            \"AnswerEnum\": {\\n                \"enum\": [\\n                    \"A\",\\n                    \"B\",\\n                    \"C\",\\n                    \"D\"\\n                ],\\n                \"type\": \"string\"\\n            },\\n            \"Selective_QA\": {\\n                \"properties\": {\\n                    \"question\": {\\n                        \"type\": \"string\"\\n                    },\\n                    \"A\": {\\n                        \"type\": \"string\"\\n                    },\\n                    \"B\": {\\n                        \"type\": \"string\"\\n                    },\\n                    \"C\": {\\n                        \"type\": \"string\"\\n                    },\\n                    \"D\": {\\n                        \"type\": \"string\"\\n                    },\\n                    \"answer\": {\\n                        \"$ref\": \"#/$defs/AnswerEnum\"\\n                    }\\n                },\\n                \"required\": [\\n                    \"question\",\\n                    \"A\",\\n                    \"B\",\\n                    \"C\",\\n                    \"D\",\\n                    \"answer\"\\n                ],\\n                \"type\": \"object\"\\n            }\\n        },\\n        \"properties\": {\\n            \"qa\": {\\n                \"items\": {\\n                    \"$ref\": \"#/$defs/Selective_QA\"\\n                },\\n                \"type\": \"array\"\\n            }\\n        },\\n        \"required\": [\\n            \"qa\"\\n        ],\\n        \"type\": \"object\"\\n    }\\n}',\n",
       " 10003)"
      ]
     },
     "execution_count": 10,
     "metadata": {},
     "output_type": "execute_result"
    }
   ],
   "source": [
    "urls[10003]"
   ]
  },
  {
   "cell_type": "code",
   "execution_count": 11,
   "id": "69c55c7a",
   "metadata": {},
   "outputs": [],
   "source": [
    "from threading import Thread\n",
    "from queue import Queue\n",
    "from tqdm import tqdm\n",
    "\n",
    "queue = Queue()\n",
    "for u in urls:\n",
    "    queue.put(u)\n",
    "    \n",
    "ori_size = queue.qsize()"
   ]
  },
  {
   "cell_type": "code",
   "execution_count": 12,
   "id": "e983c3cf",
   "metadata": {},
   "outputs": [
    {
     "name": "stderr",
     "output_type": "stream",
     "text": [
      "100%|███████████████████████████████████████████████████████████████████████▉| 96100/96178 [00:01<00:00, 89151.39it/s]"
     ]
    },
    {
     "name": "stdout",
     "output_type": "stream",
     "text": [
      "consumer 15 doneconsumer 35 doneconsumer 5 done\n",
      "consumer 25 done\n",
      "consumer 16 doneconsumer 4 done\n",
      "\n",
      "\n",
      "\n",
      "consumer 8 doneconsumer 3 done\n",
      "\n",
      "consumer 32 done\n",
      "consumer 12 done\n",
      "consumer 10 done\n",
      "consumer 34 doneconsumer 21 done\n",
      "consumer 31 done\n",
      "consumer 38 done\n",
      "consumer 49 done\n",
      "consumer 46 done\n",
      "\n",
      "consumer 7 doneconsumer 27 done\n",
      "\n",
      "consumer 1 done\n",
      "consumer 42 done\n",
      "consumer 14 done\n",
      "consumer 26 done\n",
      "consumer 44 done\n",
      "consumer 24 done\n",
      "consumer 45 done\n",
      "consumer 36 done\n",
      "consumer 39 done\n",
      "consumer 37 done\n",
      "consumer 29 done\n",
      "consumer 18 doneconsumer 20 done\n",
      "consumer 28 doneconsumer 11 done\n",
      "consumer 47 done\n",
      "\n",
      "\n",
      "consumer 19 done\n",
      "consumer 6 done"
     ]
    },
    {
     "name": "stderr",
     "output_type": "stream",
     "text": [
      "\n"
     ]
    },
    {
     "name": "stdout",
     "output_type": "stream",
     "text": [
      "\n",
      "consumer 23 done\n",
      "consumer 2 done\n",
      "consumer 0 doneconsumer 33 done\n",
      "\n",
      "consumer 48 done\n",
      "consumer 41 doneconsumer 9 done\n",
      "consumer 22 done\n",
      "\n"
     ]
    }
   ],
   "source": [
    "max_worker = 50\n",
    "consumers = [Thread(target=consumer, args=(queue,i)) for i in range(max_worker)]\n",
    "for i in range(len(consumers)):\n",
    "    consumers[i].start()\n",
    "    \n",
    "pbar = tqdm(total=ori_size)\n",
    "last_size = 0\n",
    "while True:\n",
    "    size = queue.qsize()\n",
    "    if size == 0:\n",
    "        break\n",
    "    left = ori_size - size\n",
    "    minus = left - last_size\n",
    "    if minus > 0:\n",
    "        pbar.update(minus)\n",
    "        last_size += minus\n",
    "\n",
    "pbar.close()"
   ]
  },
  {
   "cell_type": "code",
   "execution_count": 14,
   "id": "750a17d6",
   "metadata": {},
   "outputs": [
    {
     "data": {
      "text/plain": [
       "96178"
      ]
     },
     "execution_count": 14,
     "metadata": {},
     "output_type": "execute_result"
    }
   ],
   "source": [
    "from glob import glob\n",
    "\n",
    "files = glob('generate-wikipedia-qa/*.json')\n",
    "len(files)"
   ]
  },
  {
   "cell_type": "code",
   "execution_count": 22,
   "id": "fe0ec00f",
   "metadata": {},
   "outputs": [
    {
     "data": {
      "text/plain": [
       "'generate-wikipedia-qa/77747.json'"
      ]
     },
     "execution_count": 22,
     "metadata": {},
     "output_type": "execute_result"
    }
   ],
   "source": [
    "files[0]"
   ]
  },
  {
   "cell_type": "code",
   "execution_count": 15,
   "id": "a06a963a",
   "metadata": {},
   "outputs": [],
   "source": [
    "with open(files[0]) as fopen:\n",
    "    d = json.load(fopen)"
   ]
  },
  {
   "cell_type": "code",
   "execution_count": 16,
   "id": "fdc144fa",
   "metadata": {},
   "outputs": [
    {
     "data": {
      "text/plain": [
       "[' {\"name\": \"QAS\", \"arguments\": {\"qa\": [{\"question\": \"Apakah nama siri anime yang diterangkan dalam paragraph tersebut?\", \"A\": \"Pok\\\\u00e9mon\", \"B\": \"Sinnou\", \"C\": \"Hikari\", \"D\": \"Satoshi\", \"answer\": \"A\"}, {\"question\": \"Bilakah siri anime tersebut mula disiarkan di Jepun?\", \"A\": \"28 September 2006\", \"B\": \"27 April 2007\", \"C\": \"25 Oktober 2007\", \"D\": \"1 Februari 2008\", \"answer\": \"A\"}, {\"question\": \"Di mana siri anime tersebut disiarkan di Malaysia?\", \"A\": \"TV9\", \"B\": \"TV3\", \"C\": \"Astro\", \"D\": \"HBO\", \"answer\": \"A\"}, {\"question\": \"Siapakah nama koordinator yang ditemui oleh Satoshi dan Takeshi?\", \"A\": \"Hikari\", \"B\": \"Satoshi\", \"C\": \"Hana\", \"D\": \"Chihiro\", \"answer\": \"A\"}, {\"question\": \"Siapakah lagu tema pembuka siri anime tersebut?\", \"A\": \"Together\", \"B\": \"By Your Side\", \"C\": \"Hikari\\'s Theme\", \"D\": \"Grin\", \"answer\": \"A\"}]}}',\n",
       " ' {\"name\": \"QAS\", \"arguments\": {\"qa\": [{\"question\": \"Apakah siri anime yang menjadi tumpuan dalam paragraph ini?\", \"A\": \"Pok\\\\u00e9mon\", \"B\": \"Naruto\", \"C\": \"Death Note\", \"D\": \"Dragon Ball\", \"answer\": \"A\"}, {\"question\": \"Siapakah protagonis dalam siri anime tersebut?\", \"A\": \"Satoshi\", \"B\": \"Takeshi\", \"C\": \"Hikari\", \"D\": \"Sinnou\", \"answer\": \"A\"}, {\"question\": \"Apakah lagu tema pembuka Bahasa Jepun dalam siri anime tersebut?\", \"A\": \"Together\", \"B\": \"By Your Side\", \"C\": \"Hikari\\'s Theme\", \"D\": \"Fumie Akiyoshi\", \"answer\": \"A\"}]}}',\n",
       " ' {\"name\": \"QAS\", \"arguments\": {\"qa\": [{\"question\": \"Apakah tajuk siri anime yang disebutkan?\", \"A\": \"Pok\\\\u00e9mon\", \"B\": \"Sinnou\", \"C\": \"Pertandingan Pokemon\", \"D\": \"Hikari\", \"answer\": \"A\"}, {\"question\": \"Siapakah protagonis dalam siri ini?\", \"A\": \"Satoshi\", \"B\": \"Takeshi\", \"C\": \"Hikari\", \"D\": \"Sinnou\", \"answer\": \"A\"}, {\"question\": \"Siapakah koordinator baru yang ditemui oleh protagonis dan kawan baiknya?\", \"A\": \"Satoshi\", \"B\": \"Takeshi\", \"C\": \"Hikari\", \"D\": \"Sinnou\", \"answer\": \"C\"}, {\"question\": \"Apakah lagu tema pembuka dalam siri ini?\", \"A\": \"Together\", \"B\": \"By Your Side\", \"C\": \"Hikari\\'s Theme\", \"D\": \"Sinnou\", \"answer\": \"A\"}]}}']"
      ]
     },
     "execution_count": 16,
     "metadata": {},
     "output_type": "execute_result"
    }
   ],
   "source": [
    "d"
   ]
  },
  {
   "cell_type": "code",
   "execution_count": 17,
   "id": "af2b9a79",
   "metadata": {},
   "outputs": [
    {
     "data": {
      "text/plain": [
       "{'name': 'QAS',\n",
       " 'arguments': {'qa': [{'question': 'Apakah nama siri anime yang diterangkan dalam paragraph tersebut?',\n",
       "    'A': 'Pokémon',\n",
       "    'B': 'Sinnou',\n",
       "    'C': 'Hikari',\n",
       "    'D': 'Satoshi',\n",
       "    'answer': 'A'},\n",
       "   {'question': 'Bilakah siri anime tersebut mula disiarkan di Jepun?',\n",
       "    'A': '28 September 2006',\n",
       "    'B': '27 April 2007',\n",
       "    'C': '25 Oktober 2007',\n",
       "    'D': '1 Februari 2008',\n",
       "    'answer': 'A'},\n",
       "   {'question': 'Di mana siri anime tersebut disiarkan di Malaysia?',\n",
       "    'A': 'TV9',\n",
       "    'B': 'TV3',\n",
       "    'C': 'Astro',\n",
       "    'D': 'HBO',\n",
       "    'answer': 'A'},\n",
       "   {'question': 'Siapakah nama koordinator yang ditemui oleh Satoshi dan Takeshi?',\n",
       "    'A': 'Hikari',\n",
       "    'B': 'Satoshi',\n",
       "    'C': 'Hana',\n",
       "    'D': 'Chihiro',\n",
       "    'answer': 'A'},\n",
       "   {'question': 'Siapakah lagu tema pembuka siri anime tersebut?',\n",
       "    'A': 'Together',\n",
       "    'B': 'By Your Side',\n",
       "    'C': \"Hikari's Theme\",\n",
       "    'D': 'Grin',\n",
       "    'answer': 'A'}]}}"
      ]
     },
     "execution_count": 17,
     "metadata": {},
     "output_type": "execute_result"
    }
   ],
   "source": [
    "json.loads(d[0])"
   ]
  },
  {
   "cell_type": "code",
   "execution_count": 23,
   "id": "32e97374",
   "metadata": {},
   "outputs": [
    {
     "data": {
      "text/plain": [
       "'Ini adalah senarai episod untuk yang merupakan siri ke-5 dalam siri anime \"Pokémon\". Ia asalnya disiarkan di Jepun dari 28 September 2006 hingga 25 Oktober 2007 di TV Tokyo dan di Amerika Syarikat dari 27 April 2007 hingga 1 Februari 2008 di Cartoon Network. Di Malaysia, siri ini dialihsuarakan ke Bahasa Melayu dari versi Jepun dan disiarkan di TV9 bermula 2 Februari 2011 sehingga 10 April 2012. Meliputi pengembaraan berterusan protagonis siri ini Satoshi (disuarakan dalam Bahasa Jepun oleh Rika Matsumoto) dan kawan baiknya Takeshi (disuarakan dalam Bahasa Jepun oleh Yūji Ueda), mereka berdua bertemu seorang koordinator baru bernama Hikari (disuarakan dalam Bahasa Jepun oleh Megumi Toyoguchi), yang mengembara dengan mereka melalui Sinnou dan memasuki Pertandingan Pokemon. Lagu tema pembuka Bahasa Jepun ialah \"Together\" oleh Fumie Akiyoshi bermula dari episod 4 ketika siaran asal, dan bermula dari episod 2 di DVD. Lagu tema penutup Bahasa Jepun ialah \"By Your Side ~Hikari\\'s Theme~\" (君のそばで 〜ヒカリのテーマ〜,Kimi no Soba de ~Hikari no Tēma~) oleh Grin. Episod. &lt;onlyinclude&gt; &lt;/onlyinclude&gt;'"
      ]
     },
     "execution_count": 23,
     "metadata": {},
     "output_type": "execute_result"
    }
   ],
   "source": [
    "data[77747]"
   ]
  },
  {
   "cell_type": "code",
   "execution_count": 49,
   "id": "e2525db2",
   "metadata": {},
   "outputs": [],
   "source": [
    "data = []\n",
    "with open('prepared-wikipedia.jsonl') as fopen:\n",
    "    for l in fopen:\n",
    "        l = json.loads(l)\n",
    "        if len(l['text']) < 512:\n",
    "            continue\n",
    "        data.append(l)"
   ]
  },
  {
   "cell_type": "code",
   "execution_count": 77,
   "id": "e2ea6356",
   "metadata": {},
   "outputs": [
    {
     "data": {
      "text/plain": [
       "{'A', 'B', 'C', 'D', 'answer', 'question'}"
      ]
     },
     "execution_count": 77,
     "metadata": {},
     "output_type": "execute_result"
    }
   ],
   "source": [
    "set(q.keys())"
   ]
  },
  {
   "cell_type": "code",
   "execution_count": 80,
   "id": "3573cdd0",
   "metadata": {},
   "outputs": [
    {
     "data": {
      "text/plain": [
       "6"
      ]
     },
     "execution_count": 80,
     "metadata": {},
     "output_type": "execute_result"
    }
   ],
   "source": [
    "suppose = {'question', 'A', 'B', 'C', 'D', 'answer'}\n",
    "len(set(q.keys()) | suppose)"
   ]
  },
  {
   "cell_type": "code",
   "execution_count": 116,
   "id": "78321af8",
   "metadata": {
    "scrolled": true
   },
   "outputs": [
    {
     "name": "stderr",
     "output_type": "stream",
     "text": [
      "100%|████████████████████████████████████████████████████████████████████████| 96178/96178 [00:07<00:00, 12263.10it/s]\n"
     ]
    }
   ],
   "source": [
    "with open('generated-wikipedia-qa.jsonl', 'w') as fopen_j:\n",
    "    for i in tqdm(range(len(data))):\n",
    "        f = f'generate-wikipedia-qa/{i}.json'\n",
    "        if not os.path.exists(f):\n",
    "            continue\n",
    "            \n",
    "        with open(f) as fopen:\n",
    "            d = json.load(fopen)\n",
    "        \n",
    "        questions = []\n",
    "        unique_questions = set()\n",
    "        for d_ in d:\n",
    "            try:\n",
    "                qa = json.loads(d_)['arguments']['qa']\n",
    "                for q in qa:\n",
    "                    if len(set(q.keys()) | suppose) != len(suppose):\n",
    "                        continue\n",
    "                    if q['question'].lower() not in unique_questions:\n",
    "                        if not ('A' in q and isinstance(q['A'], str)):\n",
    "                            continue\n",
    "                        if not ('B' in q and isinstance(q['B'], str)):\n",
    "                            continue\n",
    "                        if not ('C' in q and isinstance(q['C'], str)):\n",
    "                            continue\n",
    "                        if not ('D' in q and isinstance(q['D'], str)):\n",
    "                            continue\n",
    "                        if not ('answer' in q and isinstance(q['answer'], str)):\n",
    "                            continue\n",
    "                            \n",
    "                        for k in suppose:\n",
    "                            q[k] = q[k].encode(\"utf8\", errors=\"surrogatepass\").decode(\"utf8\")\n",
    "\n",
    "                        questions.append(q)\n",
    "                        unique_questions.add(q['question'].lower())\n",
    "            except:\n",
    "                pass\n",
    "        \n",
    "        data[i]['text'] = data[i]['text'].encode(\"utf8\", errors=\"surrogatepass\").decode(\"utf8\")\n",
    "        data[i]['questions'] = questions\n",
    "        fopen_j.write(f'{json.dumps(data[i])}\\n')"
   ]
  },
  {
   "cell_type": "code",
   "execution_count": 117,
   "id": "c4d5d8e2",
   "metadata": {
    "scrolled": true
   },
   "outputs": [
    {
     "name": "stdout",
     "output_type": "stream",
     "text": [
      "96178 generated-wikipedia-qa.jsonl\r\n"
     ]
    }
   ],
   "source": [
    "!wc -l generated-wikipedia-qa.jsonl"
   ]
  },
  {
   "cell_type": "code",
   "execution_count": 118,
   "id": "86b5c655",
   "metadata": {},
   "outputs": [
    {
     "name": "stdout",
     "output_type": "stream",
     "text": [
      "-rw-rw-r-- 1 husein husein 433M Mei   9 16:05 generated-wikipedia-qa.jsonl\r\n"
     ]
    }
   ],
   "source": [
    "!ls -lh generated-wikipedia-qa.jsonl"
   ]
  },
  {
   "cell_type": "code",
   "execution_count": 120,
   "id": "a878e422",
   "metadata": {},
   "outputs": [],
   "source": [
    "d = []\n",
    "with open('generated-wikipedia-qa.jsonl') as fopen:\n",
    "    for l in fopen:\n",
    "        l = json.loads(l)\n",
    "        \n",
    "        d.append(l)"
   ]
  },
  {
   "cell_type": "code",
   "execution_count": 121,
   "id": "b3511e54",
   "metadata": {},
   "outputs": [],
   "source": [
    "from datasets import Dataset"
   ]
  },
  {
   "cell_type": "code",
   "execution_count": 122,
   "id": "d693222c",
   "metadata": {},
   "outputs": [],
   "source": [
    "dataset = Dataset.from_list(d)"
   ]
  },
  {
   "cell_type": "code",
   "execution_count": 124,
   "id": "6f73ba55",
   "metadata": {},
   "outputs": [
    {
     "data": {
      "application/vnd.jupyter.widget-view+json": {
       "model_id": "49c9854252704b63850f403c87062391",
       "version_major": 2,
       "version_minor": 0
      },
      "text/plain": [
       "Pushing dataset shards to the dataset hub:   0%|          | 0/1 [00:00<?, ?it/s]"
      ]
     },
     "metadata": {},
     "output_type": "display_data"
    },
    {
     "data": {
      "application/vnd.jupyter.widget-view+json": {
       "model_id": "2375c7e8c3f24158bbc53ad4472d8815",
       "version_major": 2,
       "version_minor": 0
      },
      "text/plain": [
       "Creating parquet from Arrow format:   0%|          | 0/97 [00:00<?, ?ba/s]"
      ]
     },
     "metadata": {},
     "output_type": "display_data"
    }
   ],
   "source": [
    "dataset.push_to_hub('mesolitica/mallam-small-malaysian-qa-choice', split = 'wikipedia')"
   ]
  }
 ],
 "metadata": {
  "kernelspec": {
   "display_name": "Python 3 (ipykernel)",
   "language": "python",
   "name": "python3"
  },
  "language_info": {
   "codemirror_mode": {
    "name": "ipython",
    "version": 3
   },
   "file_extension": ".py",
   "mimetype": "text/x-python",
   "name": "python",
   "nbconvert_exporter": "python",
   "pygments_lexer": "ipython3",
   "version": "3.8.10"
  }
 },
 "nbformat": 4,
 "nbformat_minor": 5
}
