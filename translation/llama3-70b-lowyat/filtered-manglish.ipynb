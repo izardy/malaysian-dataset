{
 "cells": [
  {
   "cell_type": "code",
   "execution_count": 10,
   "id": "2c9f77f4",
   "metadata": {},
   "outputs": [],
   "source": [
    "# !wget https://huggingface.co/datasets/malaysia-ai/dedup-text-dataset/resolve/main/hardwarezone-sg.jsonl\n",
    "# !wget https://huggingface.co/datasets/malaysia-ai/dedup-text-dataset/resolve/main/lowyat.jsonl"
   ]
  },
  {
   "cell_type": "code",
   "execution_count": 11,
   "id": "5f2579df",
   "metadata": {},
   "outputs": [
    {
     "name": "stderr",
     "output_type": "stream",
     "text": [
      "/home/husein/dev/malaya/malaya/tokenizer.py:214: FutureWarning: Possible nested set at position 3397\n",
      "  self.tok = re.compile(r'({})'.format('|'.join(pipeline)))\n",
      "/home/husein/dev/malaya/malaya/tokenizer.py:214: FutureWarning: Possible nested set at position 3927\n",
      "  self.tok = re.compile(r'({})'.format('|'.join(pipeline)))\n"
     ]
    }
   ],
   "source": [
    "from tqdm import tqdm\n",
    "import json\n",
    "import malaya"
   ]
  },
  {
   "cell_type": "code",
   "execution_count": 13,
   "id": "4e4f1917",
   "metadata": {
    "scrolled": true
   },
   "outputs": [
    {
     "data": {
      "application/vnd.jupyter.widget-view+json": {
       "model_id": "636cde97723749f5aa950329ca668181",
       "version_major": 2,
       "version_minor": 0
      },
      "text/plain": [
       "fasttext.ftz:   0%|          | 0.00/42.3M [00:00<?, ?B/s]"
      ]
     },
     "metadata": {},
     "output_type": "display_data"
    },
    {
     "name": "stderr",
     "output_type": "stream",
     "text": [
      "Warning : `load_model` does not return WordVectorModel or SupervisedModel any more, but a `FastText` object which is very similar.\n"
     ]
    }
   ],
   "source": [
    "language_detection = malaya.language_detection.fasttext(model = 'mesolitica/fasttext-language-detection-en')"
   ]
  },
  {
   "cell_type": "code",
   "execution_count": 19,
   "id": "6dda37d1",
   "metadata": {},
   "outputs": [
    {
     "data": {
      "text/plain": [
       "'Konfem puting hitam hehhe'"
      ]
     },
     "execution_count": 19,
     "metadata": {},
     "output_type": "execute_result"
    }
   ],
   "source": [
    "l"
   ]
  },
  {
   "cell_type": "code",
   "execution_count": 22,
   "id": "647eeb27",
   "metadata": {},
   "outputs": [
    {
     "data": {
      "text/plain": [
       "['local-english']"
      ]
     },
     "execution_count": 22,
     "metadata": {},
     "output_type": "execute_result"
    }
   ],
   "source": [
    "language_detection.predict(['hello pain'])"
   ]
  },
  {
   "cell_type": "code",
   "execution_count": 27,
   "id": "c994db67",
   "metadata": {
    "scrolled": true
   },
   "outputs": [
    {
     "name": "stderr",
     "output_type": "stream",
     "text": [
      "2119674it [01:09, 30526.61it/s]\n"
     ]
    }
   ],
   "source": [
    "manglish = set()\n",
    "with open('lowyat.jsonl') as fopen:\n",
    "    for l in tqdm(fopen):\n",
    "        l = json.loads(l)\n",
    "        if len(l) < 2:\n",
    "            continue\n",
    "        if language_detection.predict([l])[0] not in {'local-english', 'manglish'}:\n",
    "            continue\n",
    "            \n",
    "        manglish.add(l)\n",
    "        \n",
    "        if len(manglish) > 2e6:\n",
    "            break"
   ]
  },
  {
   "cell_type": "code",
   "execution_count": 25,
   "id": "d4eddb96",
   "metadata": {},
   "outputs": [
    {
     "data": {
      "text/plain": [
       "{'the feast starts now!'}"
      ]
     },
     "execution_count": 25,
     "metadata": {},
     "output_type": "execute_result"
    }
   ],
   "source": [
    "manglish"
   ]
  },
  {
   "cell_type": "code",
   "execution_count": 28,
   "id": "e5339e52",
   "metadata": {},
   "outputs": [
    {
     "data": {
      "text/plain": [
       "2000001"
      ]
     },
     "execution_count": 28,
     "metadata": {},
     "output_type": "execute_result"
    }
   ],
   "source": [
    "len(manglish)"
   ]
  },
  {
   "cell_type": "code",
   "execution_count": 29,
   "id": "b18d64ed",
   "metadata": {},
   "outputs": [],
   "source": [
    "with open('manglish.texts', 'w') as fopen:\n",
    "    for t in manglish:\n",
    "        fopen.write(f'{json.dumps(t)}\\n')"
   ]
  },
  {
   "cell_type": "code",
   "execution_count": 30,
   "id": "35ea0e46",
   "metadata": {},
   "outputs": [
    {
     "name": "stdout",
     "output_type": "stream",
     "text": [
      "\"Hi Guys, just wanna to check with u guys... what do you think of this Orion RX250? I found the bike quite interesting.\"\r\n",
      "\"guys.. need some help.. was going up a carpark ramp and hit my car at the area just beneath the rear door, its dented and the paint scrapped off some..\\n\\nAny recommendations for workshops in puchong\"\r\n",
      "\"isnt that hybrid more expensive in term of maintenance ? 2 types of engine, fuel and electric.\"\r\n",
      "\"Tried with mine. \\n\\nThere is a difference. \\n\\nThis morning cold start and shift to D. No more jerking\\n\\nI calibrated at night with cold start engine. Didn't let the transmission warm to normal operating temperature. \\n\\nThis is because the jerking happens at morning cold temperature often. So I calibrate at cold temperature.\"\r\n",
      "\"QUOTE(jackbanner @ Feb 15 2021, 11:35 AM)Anyone else interested to join my Youtube premium family plan?\\n\\nPrice : RM 70/year\\n \\nStill available?\"\r\n",
      "\"QUOTE(ricolim @ Apr 23 2010, 11:45 AM)Hey Bro,\\n\\nMy color is Aluminum Silver.\\u00a0 \\n1.6 or 2.0?\\nmine 1.6 only  \\nwhere dealer u buy?\"\r\n",
      "\"just try ron92 on my nouvo last night...\\n\\nno significant change/drop to performance..\\n\\nlong term dunno yet....curious also..  \\n\\nwell said,i'll just keep pumping and pumping...  \\n\\nsave ur money for other thing..\\n\\ngood thing they brought in ron95...cheaper.. \\nThis post has been edited by hr_elie: Dec 5 2008, 09:47 AM\"\r\n",
      "\"QUOTE(blueapple @ Oct 11 2010, 06:52 PM)Ok after all, I think, Police should have a process. Police should stop the car, say politely, This is my Police ID (show the ID to the offender) bla bla. My name is bla bla. Miss you have done an offence and the offence is bla bla. IC and driving license please, then write the summon, then pass to the girl sign, if she refused to signed, then take a photo of the car and go back balai, do a report and send the summon to her house. Simple. No need to talk rubbish then memalukan our malaysian's police name or show that our malaysian police cheapskate. Be profesional and everything will be fine. Correct right?\\nI agree. A police officer does not represent himself. He represents the whole police force.\\nhis each and every conduct is always under scrutiny.\\nLike the fat boy police chewing gum, is also memalukan.\"\r\n",
      "\"QUOTE(Memories_Fallen @ Jul 23 2014, 09:02 PM)he got cash dis for honda cars as well?\\nhe's kia dealer . ofcourse no honda discount lor ~ \\n\\nanyway city currently seems like no discount (max RM1k)\"\r\n",
      "\"QUOTE(szeeonn @ Feb 19 2011, 01:49 PM)Any1 have any idea, how to make my Adjustable Absorber Softer ..?\\nCurrently Driving : Satria GSR Turbo engine\\n\\nmy Adj Absorber SPRING Rate : 250.80.62p ( 8k ) <FRONT>   300.30.62p ( 3k ) <Rear>\\n\\nTire : 16 Inch\\n\\n1. Adjust Higher / Lower would make it softer ..?\\n\\u00a0 \\n2. change lower k Spring rate softer ? But mine is turbo engine .\\n\\n3. or Change Spring Height ..? \\n\\nAny Comment / idea is much Appreciated . Thank you\\nif u can, try increasing your car height first , by doing that u will de-compress your spring and your absorber can travel up & down more..\"\r\n"
     ]
    }
   ],
   "source": [
    "!head -n 10 manglish.texts"
   ]
  }
 ],
 "metadata": {
  "kernelspec": {
   "display_name": "Python 3 (ipykernel)",
   "language": "python",
   "name": "python3"
  },
  "language_info": {
   "codemirror_mode": {
    "name": "ipython",
    "version": 3
   },
   "file_extension": ".py",
   "mimetype": "text/x-python",
   "name": "python",
   "nbconvert_exporter": "python",
   "pygments_lexer": "ipython3",
   "version": "3.8.10"
  }
 },
 "nbformat": 4,
 "nbformat_minor": 5
}
