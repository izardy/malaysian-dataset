{
 "cells": [
  {
   "cell_type": "code",
   "execution_count": 12,
   "id": "2c9f77f4",
   "metadata": {},
   "outputs": [],
   "source": [
    "# !wget https://huggingface.co/datasets/malaysia-ai/dedup-text-dataset/resolve/main/hardwarezone-sg.jsonl"
   ]
  },
  {
   "cell_type": "code",
   "execution_count": 19,
   "id": "14d0ee58",
   "metadata": {},
   "outputs": [],
   "source": [
    "from huggingface_hub import hf_hub_download\n",
    "import json\n",
    "from tqdm import tqdm"
   ]
  },
  {
   "cell_type": "code",
   "execution_count": 15,
   "id": "6efe4ba1",
   "metadata": {},
   "outputs": [
    {
     "data": {
      "application/vnd.jupyter.widget-view+json": {
       "model_id": "bb064681cebe46448f3d46edb1978fe5",
       "version_major": 2,
       "version_minor": 0
      },
      "text/plain": [
       "processed-c.cari.com.my.jsonl:   0%|          | 0.00/746M [00:00<?, ?B/s]"
      ]
     },
     "metadata": {},
     "output_type": "display_data"
    }
   ],
   "source": [
    "ccari = hf_hub_download(\n",
    "    repo_id=\"mesolitica/chatgpt-noisy-translation-c.cari.com.my\", \n",
    "    filename=\"processed-c.cari.com.my.jsonl\", repo_type = 'dataset'\n",
    ")"
   ]
  },
  {
   "cell_type": "code",
   "execution_count": 20,
   "id": "a766e086",
   "metadata": {},
   "outputs": [
    {
     "name": "stderr",
     "output_type": "stream",
     "text": [
      "740431it [00:03, 201150.02it/s]\n"
     ]
    }
   ],
   "source": [
    "available = set()\n",
    "\n",
    "with open(ccari) as fopen:\n",
    "    for l in tqdm(fopen):\n",
    "        l = json.loads(l)\n",
    "        available.add(l['left'])"
   ]
  },
  {
   "cell_type": "code",
   "execution_count": 21,
   "id": "5f2579df",
   "metadata": {},
   "outputs": [
    {
     "data": {
      "text/plain": [
       "740002"
      ]
     },
     "execution_count": 21,
     "metadata": {},
     "output_type": "execute_result"
    }
   ],
   "source": [
    "len(available)"
   ]
  },
  {
   "cell_type": "code",
   "execution_count": 27,
   "id": "c994db67",
   "metadata": {},
   "outputs": [
    {
     "name": "stderr",
     "output_type": "stream",
     "text": [
      "3152472it [00:16, 195191.77it/s]\n"
     ]
    }
   ],
   "source": [
    "mandarin = set()\n",
    "with open('c.cari.com.my.jsonl') as fopen:\n",
    "    for l in tqdm(fopen):\n",
    "        l = json.loads(l)\n",
    "        if len(l) < 2:\n",
    "            continue\n",
    "        if l not in available:\n",
    "            mandarin.add(l)\n",
    "        \n",
    "        if len(mandarin) > 3e6:\n",
    "            break"
   ]
  },
  {
   "cell_type": "code",
   "execution_count": 26,
   "id": "e5339e52",
   "metadata": {},
   "outputs": [
    {
     "data": {
      "text/plain": [
       "2000001"
      ]
     },
     "execution_count": 26,
     "metadata": {},
     "output_type": "execute_result"
    }
   ],
   "source": [
    "len(mandarin)"
   ]
  },
  {
   "cell_type": "code",
   "execution_count": 28,
   "id": "b18d64ed",
   "metadata": {},
   "outputs": [],
   "source": [
    "with open('mandarin.texts', 'w') as fopen:\n",
    "    for t in mandarin:\n",
    "        fopen.write(f'{json.dumps(t)}\\n')"
   ]
  }
 ],
 "metadata": {
  "kernelspec": {
   "display_name": "Python 3 (ipykernel)",
   "language": "python",
   "name": "python3"
  },
  "language_info": {
   "codemirror_mode": {
    "name": "ipython",
    "version": 3
   },
   "file_extension": ".py",
   "mimetype": "text/x-python",
   "name": "python",
   "nbconvert_exporter": "python",
   "pygments_lexer": "ipython3",
   "version": "3.8.10"
  }
 },
 "nbformat": 4,
 "nbformat_minor": 5
}
