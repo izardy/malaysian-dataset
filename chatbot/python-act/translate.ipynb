{
 "cells": [
  {
   "cell_type": "code",
   "execution_count": 32,
   "id": "eb3a61c8",
   "metadata": {},
   "outputs": [],
   "source": [
    "from glob import glob\n",
    "from tqdm import tqdm\n",
    "import json"
   ]
  },
  {
   "cell_type": "code",
   "execution_count": 3,
   "id": "c6012c5e",
   "metadata": {},
   "outputs": [
    {
     "name": "stdout",
     "output_type": "stream",
     "text": [
      "agent.py\t\t      prepare-openhermes.ipynb\r\n",
      "api.py\t\t\t      __pycache__\r\n",
      "code-feedback\t\t      python-00000-of-00001.jsonl\r\n",
      "Code-Feedback.jsonl\t      pythonanalytics-00000-of-00001.jsonl\r\n",
      "delete-unhealthy.sh\t      python-code-feedback.jsonl\r\n",
      "docker-compose.yaml\t      python-openhermes.jsonl\r\n",
      "generate-code-feedback.ipynb  README.md\r\n",
      "generate-openhermes.ipynb     requirements.txt\r\n",
      "jupyter.py\t\t      run.ipynb\r\n",
      "openhermes\t\t      Untitled.ipynb\r\n",
      "openhermes2_5.json\t      upload-code-feedback.ipynb\r\n",
      "prepared-openhermes.json      upload-openhermes.ipynb\r\n"
     ]
    }
   ],
   "source": [
    "!ls"
   ]
  },
  {
   "cell_type": "code",
   "execution_count": 4,
   "id": "096d838c",
   "metadata": {
    "scrolled": true
   },
   "outputs": [
    {
     "data": {
      "text/plain": [
       "118390"
      ]
     },
     "execution_count": 4,
     "metadata": {},
     "output_type": "execute_result"
    }
   ],
   "source": [
    "files = glob('code-feedback/*.json')\n",
    "files.extend(glob('openhermes/*.json'))\n",
    "len(files)"
   ]
  },
  {
   "cell_type": "code",
   "execution_count": 26,
   "id": "60a60d58",
   "metadata": {},
   "outputs": [
    {
     "data": {
      "text/plain": [
       "241971"
      ]
     },
     "execution_count": 26,
     "metadata": {},
     "output_type": "execute_result"
    }
   ],
   "source": [
    "texts = set()\n",
    "\n",
    "for f in files:\n",
    "    with open(f) as fopen:\n",
    "        data = json.load(fopen)\n",
    "\n",
    "    if data['result'] is None:\n",
    "        continue\n",
    "    if len(data['result']) == 3:\n",
    "        continue\n",
    "    if 'I have reached the maximum number of executions' in data['result'][-1]['content']:\n",
    "        continue\n",
    "    texts.add(data['result'][1]['content'])\n",
    "    for d in data['result'][2:]:\n",
    "        if d['role'] == 'user':\n",
    "            continue\n",
    "        else:\n",
    "            texts.add(d['content'])\n",
    "len(texts)"
   ]
  },
  {
   "cell_type": "code",
   "execution_count": 30,
   "id": "a2071f9e",
   "metadata": {},
   "outputs": [
    {
     "name": "stdout",
     "output_type": "stream",
     "text": [
      "Sun Mar 31 13:47:13 2024       \n",
      "+---------------------------------------------------------------------------------------+\n",
      "| NVIDIA-SMI 545.23.06              Driver Version: 545.23.06    CUDA Version: 12.3     |\n",
      "|-----------------------------------------+----------------------+----------------------+\n",
      "| GPU  Name                 Persistence-M | Bus-Id        Disp.A | Volatile Uncorr. ECC |\n",
      "| Fan  Temp   Perf          Pwr:Usage/Cap |         Memory-Usage | GPU-Util  Compute M. |\n",
      "|                                         |                      |               MIG M. |\n",
      "|=========================================+======================+======================|\n",
      "|   0  NVIDIA GeForce RTX 3090 Ti     On  | 00000000:01:00.0 Off |                  Off |\n",
      "| 30%   42C    P5             114W / 350W |      6MiB / 24564MiB |      0%      Default |\n",
      "|                                         |                      |                  N/A |\n",
      "+-----------------------------------------+----------------------+----------------------+\n",
      "|   1  NVIDIA GeForce RTX 3090 Ti     On  | 00000000:08:00.0 Off |                  Off |\n",
      "| 62%   52C    P5             116W / 320W |      6MiB / 24564MiB |      0%      Default |\n",
      "|                                         |                      |                  N/A |\n",
      "+-----------------------------------------+----------------------+----------------------+\n",
      "                                                                                         \n",
      "+---------------------------------------------------------------------------------------+\n",
      "| Processes:                                                                            |\n",
      "|  GPU   GI   CI        PID   Type   Process name                            GPU Memory |\n",
      "|        ID   ID                                                             Usage      |\n",
      "|=======================================================================================|\n",
      "|  No running processes found                                                           |\n",
      "+---------------------------------------------------------------------------------------+\n"
     ]
    }
   ],
   "source": [
    "!nvidia-smi"
   ]
  },
  {
   "cell_type": "code",
   "execution_count": 31,
   "id": "516f87f9",
   "metadata": {},
   "outputs": [],
   "source": [
    "with open('/home/husein/ssd1/ctranslate2/python-act.texts', 'w') as fopen:\n",
    "    for t in texts:\n",
    "        if not len(t):\n",
    "            continue\n",
    "        fopen.write(f'{json.dumps(t)}\\n')"
   ]
  },
  {
   "cell_type": "code",
   "execution_count": 33,
   "id": "14c4249d",
   "metadata": {},
   "outputs": [
    {
     "data": {
      "text/plain": [
       "241970"
      ]
     },
     "execution_count": 33,
     "metadata": {},
     "output_type": "execute_result"
    }
   ],
   "source": [
    "files = glob('/home/husein/ssd1/ctranslate2/python-act/*.json')\n",
    "len(files)"
   ]
  },
  {
   "cell_type": "code",
   "execution_count": 34,
   "id": "1f88d1de",
   "metadata": {},
   "outputs": [
    {
     "name": "stderr",
     "output_type": "stream",
     "text": [
      "100%|██████████████████████████████████████████████████████████████████████| 241970/241970 [00:04<00:00, 56717.83it/s]\n"
     ]
    },
    {
     "data": {
      "text/plain": [
       "(231381, 10589)"
      ]
     },
     "execution_count": 34,
     "metadata": {},
     "output_type": "execute_result"
    }
   ],
   "source": [
    "filtered, accepted = [], {}\n",
    "for f in tqdm(files):\n",
    "    with open(f) as fopen:\n",
    "        r = json.load(fopen)\n",
    "    try:\n",
    "        splitted = r['r'].split()\n",
    "        ratio = (len(set(splitted)) / len(splitted))\n",
    "        if ratio < 0.5:\n",
    "            filtered.append((r, ratio))\n",
    "        else:\n",
    "            accepted[r['src']] = r['r']\n",
    "    except:\n",
    "        filtered.append((r, 0))\n",
    "        \n",
    "len(accepted), len(filtered)"
   ]
  },
  {
   "cell_type": "code",
   "execution_count": 35,
   "id": "0665cd56",
   "metadata": {},
   "outputs": [
    {
     "data": {
      "text/plain": [
       "118390"
      ]
     },
     "execution_count": 35,
     "metadata": {},
     "output_type": "execute_result"
    }
   ],
   "source": [
    "files = glob('code-feedback/*.json')\n",
    "files.extend(glob('openhermes/*.json'))\n",
    "len(files)"
   ]
  },
  {
   "cell_type": "code",
   "execution_count": 36,
   "id": "01dc412c",
   "metadata": {},
   "outputs": [],
   "source": [
    "with open(files[0]) as fopen:\n",
    "    data = json.load(fopen)"
   ]
  },
  {
   "cell_type": "code",
   "execution_count": 38,
   "id": "ecae7bc8",
   "metadata": {
    "scrolled": true
   },
   "outputs": [
    {
     "data": {
      "text/plain": [
       "dict_keys(['original', 'result'])"
      ]
     },
     "execution_count": 38,
     "metadata": {},
     "output_type": "execute_result"
    }
   ],
   "source": [
    "data.keys()"
   ]
  },
  {
   "cell_type": "code",
   "execution_count": 55,
   "id": "e9d4c042",
   "metadata": {},
   "outputs": [
    {
     "name": "stderr",
     "output_type": "stream",
     "text": [
      "100%|██████████████████████████████████████████████████████████████████████| 118390/118390 [00:05<00:00, 20960.71it/s]\n"
     ]
    }
   ],
   "source": [
    "with open('translated-combined.jsonl', 'w') as fopen_l:\n",
    "    for f in tqdm(files):\n",
    "        with open(f) as fopen:\n",
    "            data = json.load(fopen)\n",
    "\n",
    "        if data['result'] is None:\n",
    "            continue\n",
    "        if len(data['result']) == 3:\n",
    "            continue\n",
    "        if 'I have reached the maximum number of executions' in data['result'][-1]['content']:\n",
    "            continue\n",
    "\n",
    "        for i in range(len(data['result'])):\n",
    "            data['result'][i]['content_ms'] = accepted.get(data['result'][i]['content'])\n",
    "        \n",
    "        fopen_l.write(f'{json.dumps(data)}\\n')"
   ]
  },
  {
   "cell_type": "code",
   "execution_count": 1,
   "id": "a9d38add",
   "metadata": {},
   "outputs": [],
   "source": [
    "from huggingface_hub import HfApi\n",
    "api = HfApi()"
   ]
  },
  {
   "cell_type": "code",
   "execution_count": 2,
   "id": "0a1ef5ce",
   "metadata": {},
   "outputs": [
    {
     "data": {
      "application/vnd.jupyter.widget-view+json": {
       "model_id": "b63f031eecc748e4a6cf275e7263160c",
       "version_major": 2,
       "version_minor": 0
      },
      "text/plain": [
       "translated-combined.jsonl:   0%|          | 0.00/591M [00:00<?, ?B/s]"
      ]
     },
     "metadata": {},
     "output_type": "display_data"
    },
    {
     "data": {
      "text/plain": [
       "CommitInfo(commit_url='https://huggingface.co/datasets/mesolitica/python-act/commit/feb1518ff48f72b3fd72f4542f5d36eff277dc2d', commit_message='Upload translated-combined.jsonl with huggingface_hub', commit_description='', oid='feb1518ff48f72b3fd72f4542f5d36eff277dc2d', pr_url=None, pr_revision=None, pr_num=None)"
      ]
     },
     "execution_count": 2,
     "metadata": {},
     "output_type": "execute_result"
    }
   ],
   "source": [
    "api.upload_file(\n",
    "    path_or_fileobj='translated-combined.jsonl',\n",
    "    path_in_repo='translated-combined.jsonl',\n",
    "    repo_id='mesolitica/python-act',\n",
    "    repo_type='dataset',\n",
    ")"
   ]
  },
  {
   "cell_type": "code",
   "execution_count": null,
   "id": "06ba6534",
   "metadata": {},
   "outputs": [],
   "source": []
  }
 ],
 "metadata": {
  "kernelspec": {
   "display_name": "Python 3 (ipykernel)",
   "language": "python",
   "name": "python3"
  },
  "language_info": {
   "codemirror_mode": {
    "name": "ipython",
    "version": 3
   },
   "file_extension": ".py",
   "mimetype": "text/x-python",
   "name": "python",
   "nbconvert_exporter": "python",
   "pygments_lexer": "ipython3",
   "version": "3.8.10"
  }
 },
 "nbformat": 4,
 "nbformat_minor": 5
}
