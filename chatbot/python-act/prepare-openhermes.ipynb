{
 "cells": [
  {
   "cell_type": "code",
   "execution_count": 4,
   "id": "f0f6dc69",
   "metadata": {},
   "outputs": [],
   "source": [
    "import json\n",
    "\n",
    "with open('openhermes2_5.json') as fopen:\n",
    "    d = json.load(fopen)"
   ]
  },
  {
   "cell_type": "code",
   "execution_count": 8,
   "id": "84e537a9",
   "metadata": {},
   "outputs": [],
   "source": [
    "filtered = []\n",
    "for d_ in d:\n",
    "    if '```python' in d_['conversations'][-1]['value']:\n",
    "        filtered.append(d_)"
   ]
  },
  {
   "cell_type": "code",
   "execution_count": 11,
   "id": "21012081",
   "metadata": {},
   "outputs": [
    {
     "data": {
      "text/plain": [
       "82027"
      ]
     },
     "execution_count": 11,
     "metadata": {},
     "output_type": "execute_result"
    }
   ],
   "source": [
    "len(filtered)"
   ]
  },
  {
   "cell_type": "code",
   "execution_count": 12,
   "id": "f1c1fc1a",
   "metadata": {},
   "outputs": [],
   "source": [
    "with open('prepared-openhermes.json', 'w') as fopen:\n",
    "    json.dump(filtered, fopen)"
   ]
  },
  {
   "cell_type": "code",
   "execution_count": null,
   "id": "682f0bfc",
   "metadata": {},
   "outputs": [],
   "source": [
    "\"generated sequences ['<s> Hello. Ini siapa ya? Apa khabar? Nama saya Kamarul. Saya sedang menggunakan peralatan yang disenaraik an dalam pertanyaan untuk menjalankan beberapa tugas dan saya ingin terus bekerja dengan baik sehingga saya menggunakan peranti an saya dengan tepat. [/INST] Selamat sejahtera! Saya gembira dapat membantu anda. Saya sentiasa dengan ini untuk membantu anda dengan sebarang soalan yang anda ada. Jangan teragak-agak untuk bertanya! </s>'] in 1.2768537998199463 seconds\""
   ]
  },
  {
   "cell_type": "code",
   "execution_count": 2,
   "id": "5f10bef5",
   "metadata": {},
   "outputs": [],
   "source": [
    "d = {'id': 'ch_3OlozrABSEyowppY16ybLdSP', 'object': 'charge', 'amount': 1000000, 'amount_captured': 1000000, 'amount_refunded': 0, 'application': None, 'application_fee': None, 'application_fee_amount': None, 'balance_transaction': 'txn_3OlozrABSEyowppY16kibYrC', 'billing_details': {'address': {'city': None, 'country': 'MY', 'line1': None, 'line2': None, 'postal_code': None, 'state': None}, 'email': None, 'name': None, 'phone': None}, 'calculated_statement_descriptor': 'NOUS ENTERPRISE', 'captured': True, 'created': 1708418896, 'currency': 'myr', 'customer': 'cus_NV77UgzUS9b7R2', 'description': 'Subscription update', 'destination': None, 'dispute': None, 'disputed': False, 'failure_balance_transaction': None, 'failure_code': None, 'failure_message': None, 'fraud_details': {}, 'invoice': 'in_1Olo2iABSEyowppYdNoXSfCb', 'livemode': False, 'metadata': {}, 'on_behalf_of': None, 'order': None, 'outcome': {'network_status': 'approved_by_network', 'reason': None, 'risk_level': 'normal', 'risk_score': 32, 'seller_message': 'Payment complete.', 'type': 'authorized'}, 'paid': True, 'payment_intent': 'pi_3OlozrABSEyowppY14b68I7S', 'payment_method': 'pm_1NGyHJABSEyowppYUKpirnp5', 'payment_method_details': {'card': {'amount_authorized': 1000000, 'brand': 'visa', 'checks': {'address_line1_check': None, 'address_postal_code_check': None, 'cvc_check': None}, 'country': 'US', 'exp_month': 4, 'exp_year': 2024, 'extended_authorization': {'status': 'disabled'}, 'fingerprint': '8UB2KVl8nZSYb85t', 'funding': 'credit', 'incremental_authorization': {'status': 'unavailable'}, 'installments': None, 'last4': '4242', 'mandate': None, 'multicapture': {'status': 'unavailable'}, 'network': 'visa', 'network_token': {'used': False}, 'overcapture': {'maximum_amount_capturable': 1000000, 'status': 'unavailable'}, 'three_d_secure': None, 'wallet': None}, 'type': 'card'}, 'radar_options': {}, 'receipt_email': 'husein.zol05@gmail.com', 'receipt_number': None, 'receipt_url': 'https://pay.stripe.com/receipts/invoices/CAcaFwoVYWNjdF8xTFRLeUlBQlNFeW93cHBZKIf1_q8GMgYHPnYwzJY6LBbQHV7FRGJh7VgXrrIuFC4QqaPFgrV3uq-aXA2SntQA7gY8rJLULUT_EUsz?s=ap', 'refunded': False, 'review': None, 'shipping': None, 'source': None, 'source_transfer': None, 'statement_descriptor': 'Nous Enterprise', 'statement_descriptor_suffix': None, 'status': 'succeeded', 'transfer_data': None, 'transfer_group': None}"
   ]
  },
  {
   "cell_type": "code",
   "execution_count": 4,
   "id": "a88c393c",
   "metadata": {},
   "outputs": [
    {
     "data": {
      "text/plain": [
       "True"
      ]
     },
     "execution_count": 4,
     "metadata": {},
     "output_type": "execute_result"
    }
   ],
   "source": [
    "d['paid']"
   ]
  },
  {
   "cell_type": "code",
   "execution_count": 5,
   "id": "41f485af",
   "metadata": {
    "scrolled": true
   },
   "outputs": [
    {
     "data": {
      "text/plain": [
       "'NOUS ENTERPRISE'"
      ]
     },
     "execution_count": 5,
     "metadata": {},
     "output_type": "execute_result"
    }
   ],
   "source": [
    "d['calculated_statement_descriptor']"
   ]
  },
  {
   "cell_type": "code",
   "execution_count": 6,
   "id": "448536be",
   "metadata": {},
   "outputs": [
    {
     "data": {
      "text/plain": [
       "'Subscription update'"
      ]
     },
     "execution_count": 6,
     "metadata": {},
     "output_type": "execute_result"
    }
   ],
   "source": [
    "d['description']"
   ]
  },
  {
   "cell_type": "code",
   "execution_count": 7,
   "id": "d431258f",
   "metadata": {
    "scrolled": true
   },
   "outputs": [
    {
     "data": {
      "text/plain": [
       "1000000"
      ]
     },
     "execution_count": 7,
     "metadata": {},
     "output_type": "execute_result"
    }
   ],
   "source": [
    "d['amount']"
   ]
  },
  {
   "cell_type": "code",
   "execution_count": 14,
   "id": "2a25250d",
   "metadata": {
    "scrolled": false
   },
   "outputs": [
    {
     "data": {
      "text/plain": [
       "'MYR'"
      ]
     },
     "execution_count": 14,
     "metadata": {},
     "output_type": "execute_result"
    }
   ],
   "source": [
    "d['currency'].upper()"
   ]
  },
  {
   "cell_type": "code",
   "execution_count": 9,
   "id": "a108cff0",
   "metadata": {
    "scrolled": true
   },
   "outputs": [
    {
     "data": {
      "text/plain": [
       "1708418896"
      ]
     },
     "execution_count": 9,
     "metadata": {},
     "output_type": "execute_result"
    }
   ],
   "source": [
    "d['created']"
   ]
  },
  {
   "cell_type": "code",
   "execution_count": 10,
   "id": "12b05113",
   "metadata": {},
   "outputs": [],
   "source": [
    "from datetime import datetime"
   ]
  },
  {
   "cell_type": "code",
   "execution_count": 13,
   "id": "7cbb4623",
   "metadata": {},
   "outputs": [
    {
     "data": {
      "text/plain": [
       "'2024-02-20 04:48 PM'"
      ]
     },
     "execution_count": 13,
     "metadata": {},
     "output_type": "execute_result"
    }
   ],
   "source": [
    "datetime.fromtimestamp(d['created']).strftime('%Y-%m-%d %I:%M %p')"
   ]
  },
  {
   "cell_type": "code",
   "execution_count": 24,
   "id": "d784f2b0",
   "metadata": {},
   "outputs": [
    {
     "data": {
      "text/plain": [
       "'Visa'"
      ]
     },
     "execution_count": 24,
     "metadata": {},
     "output_type": "execute_result"
    }
   ],
   "source": [
    "d['payment_method_details']['card']['brand'].title()"
   ]
  },
  {
   "cell_type": "code",
   "execution_count": 19,
   "id": "976d5cc0",
   "metadata": {},
   "outputs": [
    {
     "data": {
      "text/plain": [
       "4"
      ]
     },
     "execution_count": 19,
     "metadata": {},
     "output_type": "execute_result"
    }
   ],
   "source": [
    "d['payment_method_details']['card']['exp_month']"
   ]
  },
  {
   "cell_type": "code",
   "execution_count": 22,
   "id": "2b184107",
   "metadata": {},
   "outputs": [
    {
     "data": {
      "text/plain": [
       "2024"
      ]
     },
     "execution_count": 22,
     "metadata": {},
     "output_type": "execute_result"
    }
   ],
   "source": [
    "d['payment_method_details']['card']['exp_year']"
   ]
  },
  {
   "cell_type": "code",
   "execution_count": 25,
   "id": "e19d3a65",
   "metadata": {},
   "outputs": [
    {
     "data": {
      "text/plain": [
       "'4242'"
      ]
     },
     "execution_count": 25,
     "metadata": {},
     "output_type": "execute_result"
    }
   ],
   "source": [
    "d['payment_method_details']['card']['last4']"
   ]
  },
  {
   "cell_type": "code",
   "execution_count": 27,
   "id": "f18ff6ae",
   "metadata": {},
   "outputs": [
    {
     "data": {
      "text/plain": [
       "'US'"
      ]
     },
     "execution_count": 27,
     "metadata": {},
     "output_type": "execute_result"
    }
   ],
   "source": [
    "d['payment_method_details']['card']['country']"
   ]
  },
  {
   "cell_type": "code",
   "execution_count": 28,
   "id": "287b9b62",
   "metadata": {},
   "outputs": [],
   "source": [
    "d = {'key': 'Akhbar 20231013.pdf', 'doc_count': 1, 'text': {'hits': {'total': {'value': 1, 'relation': 'eq'}, 'max_score': 1.0, 'hits': [{'_index': 'husein-zol05-gmail-com-2826', '_type': '_doc', '_id': 'QZYH9IwBLLK-5xb7ue6b', '_score': 1.0, '_source': {'text': 'Harga ayam, telur diapungkan lebih\\n\\nrendah \\nOleh NOR SYAMIRA LIANA NOR ASHAHA13 Oktober 2023 07:18pm\\n\\n\\n\\nKUALA LUMPUR - Kerajaan akan menyeimbangkan dan mengapungkan harga ayam\\n\\ndan telur lebih rendah daripada harga apungan sedia ada.\\n\\nPerdana Menteri, Datuk Seri Anwar Ibrahim berkata, trend semasa menunjukkan\\n\\nbekalan ayam dan telur telah mula stabil dan harga pasaran semasa kini berada di\\n\\nbawah harga siling kawalan.\\n\\n“Kawalan harga sementara yang ditetapkan akan dilepaskan\\n\\nsupaya pasaran tempatan boleh berfungsi semula dengan bebas\\n\\ndalam memastikan keterjaminan bekalan ayam dan telur di\\n\\npasaran,” katanya.\\n\\nBeliau berkata demikian ketika membentangkan Belanjawan 2024 Malaysia Madani\\n\\ndi Dewan Rakyat, di sini pada Jumaat.\\n\\nAnwar yang juga Menteri Kewangan berkata, pengumuman terkait dengan langkah\\n\\nkonkrit lanjutan akan dibuat oleh Kementerian Pertanian dan Keterjaminan Makanan\\n\\n(KPKM) dalam tempoh masa dua minggu.\\n\\n“Ini akan diumumkan dalam sedikit masa oleh KPKM yang telah berunding dengan\\n\\npengeluar dan memastikan tidak ada kenaikan muhasabah oleh syarikat dan\\n\\npeniaga,” ujarnya.'}}]}}}"
   ]
  },
  {
   "cell_type": "code",
   "execution_count": 29,
   "id": "9b74bb73",
   "metadata": {},
   "outputs": [
    {
     "data": {
      "text/plain": [
       "'Akhbar 20231013.pdf'"
      ]
     },
     "execution_count": 29,
     "metadata": {},
     "output_type": "execute_result"
    }
   ],
   "source": [
    "d['key']"
   ]
  },
  {
   "cell_type": "code",
   "execution_count": 36,
   "id": "cf28ffa5",
   "metadata": {},
   "outputs": [
    {
     "data": {
      "text/plain": [
       "'Harga ayam, telur diapungkan lebih\\n\\nrendah \\nOleh NOR SYAMIRA LIANA NOR ASHAHA13 Oktober 2023 07:18pm\\n\\n\\n\\nKUALA LUMPUR - Kerajaan akan menyeimbangkan dan mengapungkan harga ayam\\n\\ndan telur lebih rendah daripada harga apungan sedia ada.\\n\\nPerdana Menteri, Datuk Seri Anwar Ibrahim berkata, trend semasa menunjukkan\\n\\nbekalan ayam dan telur telah mula stabil dan harga pasaran semasa kini berada di\\n\\nbawah harga siling kawalan.\\n\\n“Kawalan harga sementara yang ditetapkan akan dilepaskan\\n\\nsupaya pasaran tempatan boleh berfungsi semula dengan bebas\\n\\ndalam memastikan keterjaminan bekalan ayam dan telur di\\n\\npasaran,” katanya.\\n\\nBeliau berkata demikian ketika membentangkan Belanjawan 2024 Malaysia Madani\\n\\ndi Dewan Rakyat, di sini pada Jumaat.\\n\\nAnwar yang juga Menteri Kewangan berkata, pengumuman terkait dengan langkah\\n\\nkonkrit lanjutan akan dibuat oleh Kementerian Pertanian dan Keterjaminan Makanan\\n\\n(KPKM) dalam tempoh masa dua minggu.\\n\\n“Ini akan diumumkan dalam sedikit masa oleh KPKM yang telah berunding dengan\\n\\npengeluar dan memastikan tidak ada kenaikan muhasabah oleh syarikat dan\\n\\npeniaga,” ujarnya.'"
      ]
     },
     "execution_count": 36,
     "metadata": {},
     "output_type": "execute_result"
    }
   ],
   "source": [
    "d['text']['hits']['hits'][0]['_source']['text']"
   ]
  },
  {
   "cell_type": "code",
   "execution_count": null,
   "id": "a0093cf3",
   "metadata": {},
   "outputs": [],
   "source": []
  }
 ],
 "metadata": {
  "kernelspec": {
   "display_name": "Python 3 (ipykernel)",
   "language": "python",
   "name": "python3"
  },
  "language_info": {
   "codemirror_mode": {
    "name": "ipython",
    "version": 3
   },
   "file_extension": ".py",
   "mimetype": "text/x-python",
   "name": "python",
   "nbconvert_exporter": "python",
   "pygments_lexer": "ipython3",
   "version": "3.8.10"
  }
 },
 "nbformat": 4,
 "nbformat_minor": 5
}
