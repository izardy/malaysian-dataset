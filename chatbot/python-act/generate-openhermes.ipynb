{
 "cells": [
  {
   "cell_type": "code",
   "execution_count": null,
   "id": "9cd56161",
   "metadata": {},
   "outputs": [],
   "source": [
    "# !wget https://huggingface.co/datasets/mesolitica/mixtral-magicoder/resolve/main/data/python-00000-of-00001.jsonl\n",
    "# !wget https://huggingface.co/datasets/mesolitica/mixtral-magicoder/resolve/main/data/pythonanalytics-00000-of-00001.jsonl"
   ]
  },
  {
   "cell_type": "code",
   "execution_count": null,
   "id": "b7fcf952",
   "metadata": {},
   "outputs": [],
   "source": [
    "# !wget https://huggingface.co/datasets/m-a-p/Code-Feedback/resolve/main/Code-Feedback.jsonl\n",
    "# !wget https://huggingface.co/datasets/teknium/OpenHermes-2.5/resolve/main/openhermes2_5.json"
   ]
  },
  {
   "cell_type": "code",
   "execution_count": null,
   "id": "613a9248",
   "metadata": {},
   "outputs": [],
   "source": [
    "import json\n",
    "\n",
    "with open('prepared-openhermes.json') as fopen:\n",
    "    filtered = json.load(fopen)\n",
    "    \n",
    "filtered = [r['conversations'][0]['value'] for r in filtered]\n",
    "filtered = [r for r in filtered if len(r) > 10]"
   ]
  },
  {
   "cell_type": "code",
   "execution_count": null,
   "id": "895f959a",
   "metadata": {},
   "outputs": [],
   "source": [
    "len(filtered)"
   ]
  },
  {
   "cell_type": "code",
   "execution_count": null,
   "id": "84ffa120",
   "metadata": {
    "scrolled": true
   },
   "outputs": [],
   "source": [
    "!mkdir openhermes"
   ]
  },
  {
   "cell_type": "code",
   "execution_count": null,
   "id": "b2512779",
   "metadata": {},
   "outputs": [],
   "source": [
    "import docker\n",
    "\n",
    "client = docker.from_env()\n",
    "for c in client.containers.list(filters = {'name': f'conv-openhermes-*'}):\n",
    "    try:\n",
    "        c.remove(force = True)\n",
    "    except:\n",
    "        pass\n",
    "client.close()"
   ]
  },
  {
   "cell_type": "code",
   "execution_count": null,
   "id": "c6b824ad",
   "metadata": {},
   "outputs": [],
   "source": [
    "from agent import ClientJupyterKernel, Agent, Generator\n",
    "import os\n",
    "import docker\n",
    "\n",
    "def answer(q, i):\n",
    "    filename = f'openhermes/{i}.json'\n",
    "    if os.path.exists(filename):\n",
    "        return\n",
    "    \n",
    "    jupyter_kernel_url = 'http://localhost:8081/execute'\n",
    "    openai_base_url = 'http://localhost:8005/v1'\n",
    "    model_name = 'xingyaoww/CodeActAgent-Mistral-7b-v0.1'\n",
    "\n",
    "    generator = Generator(model_name, openai_base_url)\n",
    "    prompt = q\n",
    "    \n",
    "    CONV_ID = None\n",
    "    \n",
    "    r = None\n",
    "    agent = None\n",
    "    for k in range(2):\n",
    "        try:\n",
    "            CONV_ID = f'openhermes-{i}-{k}'\n",
    "            code_executor = ClientJupyterKernel(jupyter_kernel_url, CONV_ID)\n",
    "            agent = Agent(generator, code_executor, conv_id=CONV_ID, silent = True)\n",
    "            r = agent.run_prompt(prompt, n_max_executions = 10)\n",
    "            agent.code_executor.shutdown()\n",
    "            if '<execute>' in r[2]['content']:\n",
    "                break\n",
    "        except Exception as e:\n",
    "            print(e)\n",
    "            if agent is not None:\n",
    "                agent.code_executor.shutdown()\n",
    "            pass\n",
    "        \n",
    "    with open(filename, 'w') as fopen:\n",
    "        json.dump({'original': q, 'result': r}, fopen)\n",
    "    \n",
    "    client = docker.from_env()\n",
    "    for c in client.containers.list(filters = {'name': f'conv-openhermes-{i}-*'}):\n",
    "        try:\n",
    "            c.remove(force = True)\n",
    "        except:\n",
    "            pass\n",
    "    client.close()"
   ]
  },
  {
   "cell_type": "code",
   "execution_count": null,
   "id": "72fe4463",
   "metadata": {},
   "outputs": [],
   "source": [
    "def consumer(queue, name):\n",
    "    while True:\n",
    "        if queue.qsize() == 0:\n",
    "            break\n",
    "        item = queue.get()\n",
    "        answer(*item)\n",
    "    print(f'consumer {name} done')"
   ]
  },
  {
   "cell_type": "code",
   "execution_count": null,
   "id": "37c26bc2",
   "metadata": {},
   "outputs": [],
   "source": [
    "urls = [(q, no) for no, q in enumerate(filtered)]"
   ]
  },
  {
   "cell_type": "code",
   "execution_count": null,
   "id": "d445b177",
   "metadata": {},
   "outputs": [],
   "source": [
    "# !rm code-feedback/210.json\n",
    "answer(*urls[10003])"
   ]
  },
  {
   "cell_type": "code",
   "execution_count": null,
   "id": "a7f55087",
   "metadata": {},
   "outputs": [],
   "source": [
    "# !rm code-feedback/*.json"
   ]
  },
  {
   "cell_type": "code",
   "execution_count": null,
   "id": "be9b3686",
   "metadata": {},
   "outputs": [],
   "source": [
    "# with open('code-feedback/78.json') as fopen:\n",
    "#     for r in json.load(fopen)['result']:\n",
    "#         print(r)"
   ]
  },
  {
   "cell_type": "code",
   "execution_count": null,
   "id": "f8a72a88",
   "metadata": {},
   "outputs": [],
   "source": [
    "from threading import Thread\n",
    "from queue import Queue\n",
    "from tqdm import tqdm\n",
    "\n",
    "queue = Queue()\n",
    "for u in urls:\n",
    "    queue.put(u)\n",
    "    \n",
    "ori_size = queue.qsize()"
   ]
  },
  {
   "cell_type": "code",
   "execution_count": null,
   "id": "6180b93b",
   "metadata": {},
   "outputs": [],
   "source": [
    "max_worker = 50\n",
    "consumers = [Thread(target=consumer, args=(queue,i)) for i in range(max_worker)]\n",
    "for i in range(len(consumers)):\n",
    "    consumers[i].start()\n",
    "    \n",
    "pbar = tqdm(total=ori_size)\n",
    "last_size = 0\n",
    "while True:\n",
    "    size = queue.qsize()\n",
    "    if size == 0:\n",
    "        break\n",
    "    left = ori_size - size\n",
    "    minus = left - last_size\n",
    "    if minus > 0:\n",
    "        pbar.update(minus)\n",
    "        last_size += minus\n",
    "\n",
    "pbar.close()"
   ]
  },
  {
   "cell_type": "code",
   "execution_count": null,
   "id": "9ff59afb",
   "metadata": {},
   "outputs": [],
   "source": []
  }
 ],
 "metadata": {
  "kernelspec": {
   "display_name": "Python 3 (ipykernel)",
   "language": "python",
   "name": "python3"
  },
  "language_info": {
   "codemirror_mode": {
    "name": "ipython",
    "version": 3
   },
   "file_extension": ".py",
   "mimetype": "text/x-python",
   "name": "python",
   "nbconvert_exporter": "python",
   "pygments_lexer": "ipython3",
   "version": "3.8.10"
  }
 },
 "nbformat": 4,
 "nbformat_minor": 5
}
