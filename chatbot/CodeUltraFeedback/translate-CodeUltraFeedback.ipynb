{
 "cells": [
  {
   "cell_type": "code",
   "execution_count": 2,
   "id": "de96d75c",
   "metadata": {},
   "outputs": [],
   "source": [
    "# !wget https://huggingface.co/datasets/coseal/CodeUltraFeedback/resolve/main/data/train-00000-of-00001.parquet -O CodeUltraFeedback.parquet "
   ]
  },
  {
   "cell_type": "code",
   "execution_count": 3,
   "id": "53043a4d",
   "metadata": {},
   "outputs": [
    {
     "data": {
      "text/plain": [
       "(10000, 5)"
      ]
     },
     "execution_count": 3,
     "metadata": {},
     "output_type": "execute_result"
    }
   ],
   "source": [
    "import pandas as pd\n",
    "\n",
    "df = pd.read_parquet('CodeUltraFeedback.parquet')\n",
    "df.shape"
   ]
  },
  {
   "cell_type": "code",
   "execution_count": 27,
   "id": "7ea937c1",
   "metadata": {},
   "outputs": [],
   "source": [
    "texts = []\n",
    "texts.extend(df['instruction'].tolist())\n",
    "\n",
    "for i in range(len(df)):\n",
    "    for k in range(len(df['responses'][i])):\n",
    "        texts.append(df['responses'][i][k]['response'])\n",
    "        \n",
    "    for k in range(len(df['annotations'][i])):\n",
    "        texts.append(df['annotations'][i][k]['rationale'])\n",
    "\n",
    "texts = list(set(texts))"
   ]
  },
  {
   "cell_type": "code",
   "execution_count": 29,
   "id": "7bac4923",
   "metadata": {},
   "outputs": [],
   "source": [
    "import json\n",
    "\n",
    "with open('CodeUltraFeedback.texts', 'w') as fopen:\n",
    "    for t in texts:\n",
    "        if not len(t):\n",
    "            continue\n",
    "        fopen.write(f'{json.dumps(t)}\\n')"
   ]
  },
  {
   "cell_type": "code",
   "execution_count": 30,
   "id": "b76991f5",
   "metadata": {},
   "outputs": [
    {
     "name": "stdout",
     "output_type": "stream",
     "text": [
      "89070 CodeUltraFeedback.texts\r\n"
     ]
    }
   ],
   "source": [
    "!wc -l CodeUltraFeedback.texts"
   ]
  },
  {
   "cell_type": "code",
   "execution_count": 33,
   "id": "c0e9f472",
   "metadata": {},
   "outputs": [
    {
     "name": "stderr",
     "output_type": "stream",
     "text": [
      "/home/husein/dev/malaya/malaya/tokenizer.py:214: FutureWarning: Possible nested set at position 3397\n",
      "  self.tok = re.compile(r'({})'.format('|'.join(pipeline)))\n",
      "/home/husein/dev/malaya/malaya/tokenizer.py:214: FutureWarning: Possible nested set at position 3927\n",
      "  self.tok = re.compile(r'({})'.format('|'.join(pipeline)))\n",
      "Special tokens have been added in the vocabulary, make sure the associated word embeddings are fine-tuned or trained.\n"
     ]
    }
   ],
   "source": [
    "import malaya\n",
    "\n",
    "model = malaya.translation.huggingface(\n",
    "    model = 'mesolitica/translation-t5-small-standard-bahasa-cased-v2',\n",
    "    force_check = False,\n",
    "    use_ctranslate2 = True, \n",
    "    device = 'cuda', \n",
    "    quantization = 'bfloat16',\n",
    ")"
   ]
  },
  {
   "cell_type": "code",
   "execution_count": 38,
   "id": "f3079b41",
   "metadata": {},
   "outputs": [],
   "source": [
    "max_length = 5120\n",
    "to = 'ms'"
   ]
  },
  {
   "cell_type": "code",
   "execution_count": 46,
   "id": "fb1368ea",
   "metadata": {},
   "outputs": [
    {
     "name": "stderr",
     "output_type": "stream",
     "text": [
      "89070it [12:23:53,  2.00it/s]\n"
     ]
    }
   ],
   "source": [
    "from tqdm import tqdm\n",
    "\n",
    "results = []\n",
    "with open('CodeUltraFeedback.texts') as fopen:\n",
    "    for l in tqdm(fopen):\n",
    "        text = json.loads(l)\n",
    "        r = model.generate([text], to_lang = to, max_input_length = max_length, max_decoding_length = max_length)[0]\n",
    "        data = {'src': text, 'r': r}\n",
    "        results.append(data)"
   ]
  },
  {
   "cell_type": "code",
   "execution_count": 50,
   "id": "044c5470",
   "metadata": {},
   "outputs": [],
   "source": [
    "with open('CodeUltraFeedback.texts.translated', 'w') as fopen:\n",
    "    json.dump(results, fopen)"
   ]
  },
  {
   "cell_type": "code",
   "execution_count": 93,
   "id": "c56610bc",
   "metadata": {},
   "outputs": [
    {
     "data": {
      "text/plain": [
       "(80281, 8789)"
      ]
     },
     "execution_count": 93,
     "metadata": {},
     "output_type": "execute_result"
    }
   ],
   "source": [
    "filtered, accepted = [], {}\n",
    "for r in results:\n",
    "    try:\n",
    "        splitted = r['r'].split()\n",
    "        ratio = (len(set(splitted)) / len(splitted))\n",
    "        if ratio < 0.5:\n",
    "            filtered.append((r, ratio))\n",
    "        else:\n",
    "            accepted[r['src']] = r['r']\n",
    "    except:\n",
    "        filtered.append((r, 0))\n",
    "        \n",
    "len(accepted), len(filtered)"
   ]
  },
  {
   "cell_type": "code",
   "execution_count": 116,
   "id": "4606dbc2",
   "metadata": {},
   "outputs": [],
   "source": [
    "row = df.iloc[0].to_dict()\n",
    "row['responses'] = row['responses'].tolist()\n",
    "row['annotations'] = row['annotations'].tolist()\n",
    "row['instruction_ms'] = accepted.get(row['instruction'])\n",
    "\n",
    "for i in range(len(row['responses'])):\n",
    "    row['responses'][i]['response_ms'] = accepted.get(row['responses'][i]['response'])\n",
    "    \n",
    "for i in range(len(row['annotations'])):\n",
    "    row['annotations'][i]['rationale_ms'] = accepted.get(row['annotations'][i]['rationale'])"
   ]
  },
  {
   "cell_type": "code",
   "execution_count": 120,
   "id": "2c615ef0",
   "metadata": {},
   "outputs": [],
   "source": [
    "with open('translated-CodeUltraFeedback.jsonl', 'w') as fopen:\n",
    "    for k in range(len(df)):\n",
    "        row = df.iloc[k].to_dict()\n",
    "        row['responses'] = row['responses'].tolist()\n",
    "        row['annotations'] = row['annotations'].tolist()\n",
    "        row['models'] = row['models'].tolist()\n",
    "        row['instruction_ms'] = accepted.get(row['instruction'])\n",
    "\n",
    "        for i in range(len(row['responses'])):\n",
    "            row['responses'][i]['response_ms'] = accepted.get(row['responses'][i]['response'])\n",
    "\n",
    "        for i in range(len(row['annotations'])):\n",
    "            row['annotations'][i]['rationale_ms'] = accepted.get(row['annotations'][i]['rationale'])\n",
    "        \n",
    "        fopen.write(f'{json.dumps(row)}\\n')"
   ]
  },
  {
   "cell_type": "code",
   "execution_count": 121,
   "id": "4392c902",
   "metadata": {},
   "outputs": [],
   "source": [
    "from huggingface_hub import HfApi\n",
    "api = HfApi()"
   ]
  },
  {
   "cell_type": "code",
   "execution_count": 122,
   "id": "b02c7609",
   "metadata": {},
   "outputs": [
    {
     "data": {
      "application/vnd.jupyter.widget-view+json": {
       "model_id": "e4418a9fc0224733b9b607209cadc900",
       "version_major": 2,
       "version_minor": 0
      },
      "text/plain": [
       "CodeUltraFeedback.texts.translated:   0%|          | 0.00/201M [00:00<?, ?B/s]"
      ]
     },
     "metadata": {},
     "output_type": "display_data"
    },
    {
     "data": {
      "text/plain": [
       "CommitInfo(commit_url='https://huggingface.co/datasets/mesolitica/translated-CodeUltraFeedback/commit/bdc431e231a71335b8440cafc4cd5b871f02541a', commit_message='Upload CodeUltraFeedback.texts.translated with huggingface_hub', commit_description='', oid='bdc431e231a71335b8440cafc4cd5b871f02541a', pr_url=None, pr_revision=None, pr_num=None)"
      ]
     },
     "execution_count": 122,
     "metadata": {},
     "output_type": "execute_result"
    }
   ],
   "source": [
    "api.upload_file(\n",
    "    path_or_fileobj='CodeUltraFeedback.texts.translated',\n",
    "    path_in_repo='CodeUltraFeedback.texts.translated',\n",
    "    repo_id='mesolitica/translated-CodeUltraFeedback',\n",
    "    repo_type='dataset',\n",
    ")"
   ]
  },
  {
   "cell_type": "code",
   "execution_count": 123,
   "id": "e0b2c1a6",
   "metadata": {},
   "outputs": [
    {
     "data": {
      "application/vnd.jupyter.widget-view+json": {
       "model_id": "28d4be8b77be47808ffe3db0aef547cb",
       "version_major": 2,
       "version_minor": 0
      },
      "text/plain": [
       "translated-CodeUltraFeedback.jsonl:   0%|          | 0.00/172M [00:00<?, ?B/s]"
      ]
     },
     "metadata": {},
     "output_type": "display_data"
    },
    {
     "data": {
      "text/plain": [
       "CommitInfo(commit_url='https://huggingface.co/datasets/mesolitica/translated-CodeUltraFeedback/commit/c238a1b20795afb9de5cfd8b9918dc73990d29fd', commit_message='Upload translated-CodeUltraFeedback.jsonl with huggingface_hub', commit_description='', oid='c238a1b20795afb9de5cfd8b9918dc73990d29fd', pr_url=None, pr_revision=None, pr_num=None)"
      ]
     },
     "execution_count": 123,
     "metadata": {},
     "output_type": "execute_result"
    }
   ],
   "source": [
    "api.upload_file(\n",
    "    path_or_fileobj='translated-CodeUltraFeedback.jsonl',\n",
    "    path_in_repo='translated-CodeUltraFeedback.jsonl',\n",
    "    repo_id='mesolitica/translated-CodeUltraFeedback',\n",
    "    repo_type='dataset',\n",
    ")"
   ]
  }
 ],
 "metadata": {
  "kernelspec": {
   "display_name": "Python 3 (ipykernel)",
   "language": "python",
   "name": "python3"
  },
  "language_info": {
   "codemirror_mode": {
    "name": "ipython",
    "version": 3
   },
   "file_extension": ".py",
   "mimetype": "text/x-python",
   "name": "python",
   "nbconvert_exporter": "python",
   "pygments_lexer": "ipython3",
   "version": "3.8.10"
  }
 },
 "nbformat": 4,
 "nbformat_minor": 5
}
