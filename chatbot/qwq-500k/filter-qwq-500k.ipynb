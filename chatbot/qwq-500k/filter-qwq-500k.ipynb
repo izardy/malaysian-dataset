{
 "cells": [
  {
   "cell_type": "code",
   "execution_count": 1,
   "id": "fe5e652c",
   "metadata": {},
   "outputs": [
    {
     "name": "stderr",
     "output_type": "stream",
     "text": [
      "498082it [01:30, 5477.00it/s] \n"
     ]
    }
   ],
   "source": [
    "import json\n",
    "from tqdm import tqdm\n",
    "import re\n",
    "\n",
    "def split_text_preserve_code(text):\n",
    "    code_block_pattern = r\"```.*?```\"\n",
    "    code_blocks = re.findall(code_block_pattern, text, re.DOTALL)\n",
    "    placeholder = \"__CODE_BLOCK__\"\n",
    "    text_without_code = re.sub(code_block_pattern, placeholder, text, flags=re.DOTALL)\n",
    "    parts = text_without_code.split('\\n\\n')\n",
    "    result = []\n",
    "    code_index = 0\n",
    "    for part in parts:\n",
    "        if placeholder in part:\n",
    "            result.append(part.replace(placeholder, code_blocks[code_index], 1))\n",
    "            code_index += 1\n",
    "        else:\n",
    "            result.append(part)\n",
    "    \n",
    "    return result\n",
    "\n",
    "def contains_chinese(text):\n",
    "    chinese_pattern = re.compile(r'[\\u4e00-\\u9fff]')\n",
    "    return bool(chinese_pattern.search(text))\n",
    "\n",
    "filtered = []\n",
    "with open('qwq_500k.jsonl') as fopen:\n",
    "    for l in tqdm(fopen):\n",
    "        l = json.loads(l)\n",
    "        \n",
    "        if contains_chinese(l['response']):\n",
    "            continue\n",
    "            \n",
    "        r = l['response'].lower()\n",
    "            \n",
    "        if 'can\\'t perform' in r:\n",
    "            continue\n",
    "        \n",
    "        if 'can\\'t answer' in r:\n",
    "            continue\n",
    "        \n",
    "        if len(l['response'].split()) > 1000:\n",
    "            filtered.append(l)"
   ]
  },
  {
   "cell_type": "code",
   "execution_count": 2,
   "id": "a99920d5",
   "metadata": {},
   "outputs": [
    {
     "data": {
      "text/plain": [
       "343207"
      ]
     },
     "execution_count": 2,
     "metadata": {},
     "output_type": "execute_result"
    }
   ],
   "source": [
    "len(filtered)"
   ]
  },
  {
   "cell_type": "code",
   "execution_count": 4,
   "id": "41fb8cb7",
   "metadata": {},
   "outputs": [],
   "source": [
    "selected = []\n",
    "for f in filtered:\n",
    "    if 'wrong' in f['prompt'].lower():\n",
    "        continue\n",
    "    if 'ath problem: \\n\\n' in f['prompt']:\n",
    "        f['prompt'] = f['prompt'].split('ath problem: \\n\\n')[1]\n",
    "    if 'ath problem:\\n\\n' in f['prompt']:\n",
    "        f['prompt'] = f['prompt'].split('ath problem:\\n\\n')[1]\n",
    "    selected.append(f)"
   ]
  },
  {
   "cell_type": "code",
   "execution_count": 5,
   "id": "a6a0a56a",
   "metadata": {},
   "outputs": [
    {
     "data": {
      "text/plain": [
       "(343207, 341463)"
      ]
     },
     "execution_count": 5,
     "metadata": {},
     "output_type": "execute_result"
    }
   ],
   "source": [
    "len(filtered), len(selected)"
   ]
  },
  {
   "cell_type": "code",
   "execution_count": 6,
   "id": "366db156",
   "metadata": {},
   "outputs": [
    {
     "data": {
      "text/plain": [
       "262556"
      ]
     },
     "execution_count": 6,
     "metadata": {},
     "output_type": "execute_result"
    }
   ],
   "source": [
    "no_code = []\n",
    "for f in selected:\n",
    "    if '```' not in f['response']:\n",
    "        no_code.append(f)\n",
    "        \n",
    "len(no_code)"
   ]
  },
  {
   "cell_type": "code",
   "execution_count": 12,
   "id": "66e6fa6e",
   "metadata": {},
   "outputs": [],
   "source": [
    "with open('filter-qwq-500k-no-code.jsonl', 'w') as fopen:\n",
    "    for f in no_code:\n",
    "        fopen.write(f'{json.dumps(f)}\\n')\n",
    "        fopen.flush()"
   ]
  },
  {
   "cell_type": "code",
   "execution_count": 13,
   "id": "7a3af9c3",
   "metadata": {},
   "outputs": [],
   "source": [
    "with open('filter-qwq-500k.jsonl', 'w') as fopen:\n",
    "    for f in selected:\n",
    "        fopen.write(f'{json.dumps(f)}\\n')\n",
    "        fopen.flush()"
   ]
  }
 ],
 "metadata": {
  "kernelspec": {
   "display_name": "python3.10",
   "language": "python",
   "name": "python3.10"
  },
  "language_info": {
   "codemirror_mode": {
    "name": "ipython",
    "version": 3
   },
   "file_extension": ".py",
   "mimetype": "text/x-python",
   "name": "python",
   "nbconvert_exporter": "python",
   "pygments_lexer": "ipython3",
   "version": "3.10.15"
  }
 },
 "nbformat": 4,
 "nbformat_minor": 5
}
