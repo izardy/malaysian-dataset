{
 "cells": [
  {
   "cell_type": "code",
   "execution_count": 1,
   "id": "0f1456c0",
   "metadata": {},
   "outputs": [],
   "source": [
    "# !wget https://huggingface.co/datasets/mesolitica/translated-CodeUltraFeedback/resolve/main/translated-CodeUltraFeedback.jsonl"
   ]
  },
  {
   "cell_type": "code",
   "execution_count": 2,
   "id": "454558f2",
   "metadata": {},
   "outputs": [],
   "source": [
    "import json\n",
    "import operator"
   ]
  },
  {
   "cell_type": "code",
   "execution_count": 3,
   "id": "8ecdc156",
   "metadata": {},
   "outputs": [
    {
     "data": {
      "text/plain": [
       "7173"
      ]
     },
     "execution_count": 3,
     "metadata": {},
     "output_type": "execute_result"
    }
   ],
   "source": [
    "results = []\n",
    "with open('translated-CodeUltraFeedback.jsonl') as fopen:\n",
    "    for l in fopen:\n",
    "        l = json.loads(l)\n",
    "        if l['instruction_ms'] is None:\n",
    "            continue\n",
    "        \n",
    "        try:\n",
    "            responses = {}\n",
    "            for r in l['responses']:\n",
    "                if r['response_ms'] is not None:\n",
    "                    responses[r['model']] = r['response_ms']\n",
    "            \n",
    "            annotations = {}\n",
    "            for r in l['annotations']:\n",
    "                if r['model'] in responses:\n",
    "                    annotations[r['model']] = int(r['rating'])\n",
    "        \n",
    "                \n",
    "            min_key = min(annotations.items(), key=operator.itemgetter(1))[0]\n",
    "            max_key = max(annotations.items(), key=operator.itemgetter(1))[0]\n",
    "            if annotations[min_key] == annotations[max_key]:\n",
    "                continue\n",
    "                \n",
    "        except:\n",
    "            continue\n",
    "            \n",
    "        if '```' not in responses[max_key]:\n",
    "            continue\n",
    "        \n",
    "        results.append({\n",
    "            'prompt': l['instruction_ms'],\n",
    "            'chosen': responses[max_key],\n",
    "            'rejected': responses[min_key]\n",
    "        })\n",
    "        \n",
    "len(results)"
   ]
  },
  {
   "cell_type": "code",
   "execution_count": 4,
   "id": "04ca1b98",
   "metadata": {},
   "outputs": [],
   "source": [
    "from datasets import Dataset\n",
    "\n",
    "dataset = Dataset.from_list(results)"
   ]
  },
  {
   "cell_type": "code",
   "execution_count": 5,
   "id": "189a8566",
   "metadata": {},
   "outputs": [
    {
     "data": {
      "application/vnd.jupyter.widget-view+json": {
       "model_id": "fc69b29ef0144d22b707488e48dafa56",
       "version_major": 2,
       "version_minor": 0
      },
      "text/plain": [
       "Pushing dataset shards to the dataset hub:   0%|          | 0/1 [00:00<?, ?it/s]"
      ]
     },
     "metadata": {},
     "output_type": "display_data"
    },
    {
     "data": {
      "application/vnd.jupyter.widget-view+json": {
       "model_id": "830b883f16c5485291fd3181240047c0",
       "version_major": 2,
       "version_minor": 0
      },
      "text/plain": [
       "Creating parquet from Arrow format:   0%|          | 0/8 [00:00<?, ?ba/s]"
      ]
     },
     "metadata": {},
     "output_type": "display_data"
    },
    {
     "data": {
      "application/vnd.jupyter.widget-view+json": {
       "model_id": "87a1da5346b1403b88e90098adbc58af",
       "version_major": 2,
       "version_minor": 0
      },
      "text/plain": [
       "Deleting unused files from dataset repository:   0%|          | 0/1 [00:00<?, ?it/s]"
      ]
     },
     "metadata": {},
     "output_type": "display_data"
    },
    {
     "data": {
      "application/vnd.jupyter.widget-view+json": {
       "model_id": "a569ae1e3d1648bbad4cdc2919f61875",
       "version_major": 2,
       "version_minor": 0
      },
      "text/plain": [
       "Downloading metadata:   0%|          | 0.00/451 [00:00<?, ?B/s]"
      ]
     },
     "metadata": {},
     "output_type": "display_data"
    },
    {
     "name": "stderr",
     "output_type": "stream",
     "text": [
      "Updating downloaded metadata with the new split.\n"
     ]
    }
   ],
   "source": [
    "dataset.push_to_hub('mesolitica/DPO-translated-CodeUltraFeedback')"
   ]
  },
  {
   "cell_type": "code",
   "execution_count": null,
   "id": "704db89e",
   "metadata": {},
   "outputs": [],
   "source": []
  }
 ],
 "metadata": {
  "kernelspec": {
   "display_name": "Python 3 (ipykernel)",
   "language": "python",
   "name": "python3"
  },
  "language_info": {
   "codemirror_mode": {
    "name": "ipython",
    "version": 3
   },
   "file_extension": ".py",
   "mimetype": "text/x-python",
   "name": "python",
   "nbconvert_exporter": "python",
   "pygments_lexer": "ipython3",
   "version": "3.8.10"
  }
 },
 "nbformat": 4,
 "nbformat_minor": 5
}
