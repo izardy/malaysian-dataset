{
 "cells": [
  {
   "cell_type": "code",
   "execution_count": 1,
   "id": "e6251768",
   "metadata": {},
   "outputs": [],
   "source": [
    "# !wget https://huggingface.co/datasets/andrijdavid/roleplay-conversation/resolve/main/data/train-00000-of-00001.parquet"
   ]
  },
  {
   "cell_type": "code",
   "execution_count": 2,
   "id": "9f1230ea",
   "metadata": {},
   "outputs": [],
   "source": [
    "# Jeon Jungkook, the enigmatic mafia king, reigns over the nefarious underworld with a combination of muscle and intellect. A force to be reckoned with, his sweet smile belies a heart as cold as ice. Riches beyond measure and impeccable style make him the undisputed boss of the criminal underworld. His brutal tactics leave a trail of blood and body bags in their wake, while his loyal followers tremble in fear. Yet, Jungkook's rule is not without a soft spot. A select few, favored for their unwavering loyalty or sheer fortitude, are granted a glimpse into the humanity buried beneath his lethal exterior.\n",
    "\n",
    "# generate something similar roleplay characters but using malaysian context, return in JSON [{'name', 'persona_ms', 'persona_en', 'description_ms', 'description_en'}]"
   ]
  },
  {
   "cell_type": "code",
   "execution_count": 3,
   "id": "74a26d2d",
   "metadata": {},
   "outputs": [
    {
     "data": {
      "text/html": [
       "<div>\n",
       "<style scoped>\n",
       "    .dataframe tbody tr th:only-of-type {\n",
       "        vertical-align: middle;\n",
       "    }\n",
       "\n",
       "    .dataframe tbody tr th {\n",
       "        vertical-align: top;\n",
       "    }\n",
       "\n",
       "    .dataframe thead th {\n",
       "        text-align: right;\n",
       "    }\n",
       "</style>\n",
       "<table border=\"1\" class=\"dataframe\">\n",
       "  <thead>\n",
       "    <tr style=\"text-align: right;\">\n",
       "      <th></th>\n",
       "      <th>messages</th>\n",
       "      <th>bot_name</th>\n",
       "      <th>bot_description</th>\n",
       "    </tr>\n",
       "  </thead>\n",
       "  <tbody>\n",
       "    <tr>\n",
       "      <th>0</th>\n",
       "      <td>[{'content': 'As a creative agent, you are rol...</td>\n",
       "      <td>Jeon Jungkook (Mafia King)</td>\n",
       "      <td>Jeon Jungkook, the enigmatic mafia king, reign...</td>\n",
       "    </tr>\n",
       "    <tr>\n",
       "      <th>1</th>\n",
       "      <td>[{'content': 'As a creative agent, you are rol...</td>\n",
       "      <td>Jeon Jungkook (Mafia King)</td>\n",
       "      <td>Jeon Jungkook, the enigmatic mafia king, reign...</td>\n",
       "    </tr>\n",
       "    <tr>\n",
       "      <th>2</th>\n",
       "      <td>[{'content': 'As a creative agent, you are rol...</td>\n",
       "      <td>Cowboy Michael Afton!</td>\n",
       "      <td>Michael is flirty</td>\n",
       "    </tr>\n",
       "    <tr>\n",
       "      <th>3</th>\n",
       "      <td>[{'content': 'As a creative agent, you are rol...</td>\n",
       "      <td>terminator soldier (спецкурс🤰)</td>\n",
       "      <td>Terminator is dominant, he does not reveal his...</td>\n",
       "    </tr>\n",
       "    <tr>\n",
       "      <th>4</th>\n",
       "      <td>[{'content': 'As a creative agent, you are rol...</td>\n",
       "      <td>Mitsuri (Demon au)</td>\n",
       "      <td>She is a demon she love to talk before a fight...</td>\n",
       "    </tr>\n",
       "  </tbody>\n",
       "</table>\n",
       "</div>"
      ],
      "text/plain": [
       "                                            messages  \\\n",
       "0  [{'content': 'As a creative agent, you are rol...   \n",
       "1  [{'content': 'As a creative agent, you are rol...   \n",
       "2  [{'content': 'As a creative agent, you are rol...   \n",
       "3  [{'content': 'As a creative agent, you are rol...   \n",
       "4  [{'content': 'As a creative agent, you are rol...   \n",
       "\n",
       "                         bot_name  \\\n",
       "0      Jeon Jungkook (Mafia King)   \n",
       "1      Jeon Jungkook (Mafia King)   \n",
       "2           Cowboy Michael Afton!   \n",
       "3  terminator soldier (спецкурс🤰)   \n",
       "4              Mitsuri (Demon au)   \n",
       "\n",
       "                                     bot_description  \n",
       "0  Jeon Jungkook, the enigmatic mafia king, reign...  \n",
       "1  Jeon Jungkook, the enigmatic mafia king, reign...  \n",
       "2                                  Michael is flirty  \n",
       "3  Terminator is dominant, he does not reveal his...  \n",
       "4  She is a demon she love to talk before a fight...  "
      ]
     },
     "execution_count": 3,
     "metadata": {},
     "output_type": "execute_result"
    }
   ],
   "source": [
    "import pandas as pd\n",
    "import os\n",
    "import json\n",
    "\n",
    "df = pd.read_parquet('train-00000-of-00001.parquet')\n",
    "df.head()"
   ]
  },
  {
   "cell_type": "code",
   "execution_count": 4,
   "id": "7c0fbe01",
   "metadata": {},
   "outputs": [
    {
     "data": {
      "text/plain": [
       "10485"
      ]
     },
     "execution_count": 4,
     "metadata": {},
     "output_type": "execute_result"
    }
   ],
   "source": [
    "description = df['bot_description'].unique().tolist()\n",
    "len(description)"
   ]
  },
  {
   "cell_type": "code",
   "execution_count": 5,
   "id": "24fb93a5",
   "metadata": {},
   "outputs": [
    {
     "data": {
      "text/plain": [
       "\"Jeon Jungkook, the enigmatic mafia king, reigns over the nefarious underworld with a combination of muscle and intellect. A force to be reckoned with, his sweet smile belies a heart as cold as ice. Riches beyond measure and impeccable style make him the undisputed boss of the criminal underworld. His brutal tactics leave a trail of blood and body bags in their wake, while his loyal followers tremble in fear. Yet, Jungkook's rule is not without a soft spot. A select few, favored for their unwavering loyalty or sheer fortitude, are granted a glimpse into the humanity buried beneath his lethal exterior.\""
      ]
     },
     "execution_count": 5,
     "metadata": {},
     "output_type": "execute_result"
    }
   ],
   "source": [
    "description[0]"
   ]
  },
  {
   "cell_type": "code",
   "execution_count": 6,
   "id": "9923cecc",
   "metadata": {},
   "outputs": [],
   "source": [
    "prompts = []\n",
    "for d in description:\n",
    "    s = f\"\"\"\n",
    "{d} \n",
    "\n",
    "generate something similar roleplay characters but using malaysian context, return in JSON [{{'name', 'persona_ms', 'persona_en', 'description_ms', 'description_en'}}]\n",
    "\"\"\"\n",
    "    prompts.append(s)"
   ]
  },
  {
   "cell_type": "code",
   "execution_count": 7,
   "id": "b6a3da32",
   "metadata": {},
   "outputs": [],
   "source": [
    "directory = 'generate-roleplay'\n",
    "# !rm -rf {directory}\n",
    "# !mkdir {directory}"
   ]
  },
  {
   "cell_type": "code",
   "execution_count": 14,
   "id": "7336ada9",
   "metadata": {},
   "outputs": [],
   "source": [
    "from openai import OpenAI\n",
    "import requests\n",
    "\n",
    "headers = {\n",
    "    'accept': 'application/json',\n",
    "    'Content-Type': 'application/json',\n",
    "}\n",
    "\n",
    "def answer(q, i):\n",
    "    filename = f'{directory}/{i}.json'\n",
    "    if os.path.exists(filename):\n",
    "        return\n",
    "    \n",
    "    results = []\n",
    "    openai = OpenAI(\n",
    "        base_url='',\n",
    "        api_key='empty',\n",
    "    )\n",
    "    for _ in range(1):\n",
    "        \n",
    "        while True:\n",
    "            try:\n",
    "                \n",
    "                json_data = {\n",
    "                    'messages': [\n",
    "                        {\n",
    "                            'role': 'user',\n",
    "                            'content': q,\n",
    "                        },\n",
    "                    ],\n",
    "                    'model': 'model',\n",
    "                    'stop': [\n",
    "                        '<|eot_id|>',\n",
    "                    ],\n",
    "                    'temperature': 0.9,\n",
    "                    'max_tokens': 2048,\n",
    "                }\n",
    "                response = requests.post(\n",
    "                    '', \n",
    "                    headers=headers, json=json_data, timeout = 60 * 10)\n",
    "                \n",
    "                r = response.json()['choices'][0]['message']['content']\n",
    "                results.append(r)\n",
    "                break\n",
    "            except Exception as e:\n",
    "                # print(e)\n",
    "                pass\n",
    "                \n",
    "    \n",
    "    with open(filename, 'w') as fopen:\n",
    "        json.dump(results, fopen)"
   ]
  },
  {
   "cell_type": "code",
   "execution_count": 15,
   "id": "d1499282",
   "metadata": {},
   "outputs": [],
   "source": [
    "def consumer(queue, name):\n",
    "    while True:\n",
    "        if queue.qsize() == 0:\n",
    "            break\n",
    "        item = queue.get()\n",
    "        answer(*item)\n",
    "    print(f'consumer {name} done')"
   ]
  },
  {
   "cell_type": "code",
   "execution_count": 22,
   "id": "41f3154a",
   "metadata": {},
   "outputs": [],
   "source": [
    "urls = [(q, no) for no, q in enumerate(prompts)]"
   ]
  },
  {
   "cell_type": "code",
   "execution_count": 23,
   "id": "5bf6bf45",
   "metadata": {},
   "outputs": [],
   "source": [
    "answer(*urls[0])"
   ]
  },
  {
   "cell_type": "code",
   "execution_count": 24,
   "id": "6b18979b",
   "metadata": {},
   "outputs": [],
   "source": [
    "from threading import Thread\n",
    "from queue import Queue\n",
    "from tqdm import tqdm\n",
    "\n",
    "queue = Queue()\n",
    "for u in urls:\n",
    "    queue.put(u)\n",
    "    \n",
    "ori_size = queue.qsize()"
   ]
  },
  {
   "cell_type": "code",
   "execution_count": 25,
   "id": "f718664b",
   "metadata": {},
   "outputs": [
    {
     "name": "stderr",
     "output_type": "stream",
     "text": [
      "100%|████████████████████████████████████████████████████████████████████████▉| 10484/10485 [6:04:48<00:02,  2.09s/it]\n"
     ]
    },
    {
     "name": "stdout",
     "output_type": "stream",
     "text": [
      "consumer 25 done\n",
      "consumer 47 done\n",
      "consumer 48 done\n",
      "consumer 46 done\n",
      "consumer 42 done\n",
      "consumer 9 done\n",
      "consumer 10 done\n",
      "consumer 14 done\n",
      "consumer 29 done\n",
      "consumer 0 done\n",
      "consumer 30 done\n",
      "consumer 18 done\n",
      "consumer 12 done\n",
      "consumer 35 done\n",
      "consumer 28 done\n",
      "consumer 23 done\n",
      "consumer 8 done\n",
      "consumer 4 done\n",
      "consumer 3 done\n",
      "consumer 20 done\n",
      "consumer 19 done\n",
      "consumer 34 done\n",
      "consumer 37 done\n",
      "consumer 26 done\n",
      "consumer 27 done\n",
      "consumer 17 done\n",
      "consumer 45 done\n",
      "consumer 22 done\n",
      "consumer 16 done\n",
      "consumer 6 done\n",
      "consumer 24 done\n",
      "consumer 40 done\n",
      "consumer 21 done\n",
      "consumer 38 done\n",
      "consumer 2 done\n",
      "consumer 1 done\n",
      "consumer 11 done\n",
      "consumer 36 done\n",
      "consumer 15 done\n",
      "consumer 31 done\n",
      "consumer 43 done\n",
      "consumer 33 done\n",
      "consumer 32 done\n",
      "consumer 41 done\n",
      "consumer 13 done\n",
      "consumer 5 done\n",
      "consumer 39 done\n",
      "consumer 49 done\n",
      "consumer 7 done\n",
      "consumer 44 done\n"
     ]
    }
   ],
   "source": [
    "max_worker = 50\n",
    "consumers = [Thread(target=consumer, args=(queue,i)) for i in range(max_worker)]\n",
    "for i in range(len(consumers)):\n",
    "    consumers[i].start()\n",
    "    \n",
    "pbar = tqdm(total=ori_size)\n",
    "last_size = 0\n",
    "while True:\n",
    "    size = queue.qsize()\n",
    "    if size == 0:\n",
    "        break\n",
    "    left = ori_size - size\n",
    "    minus = left - last_size\n",
    "    if minus > 0:\n",
    "        pbar.update(minus)\n",
    "        last_size += minus\n",
    "\n",
    "pbar.close()"
   ]
  },
  {
   "cell_type": "code",
   "execution_count": 8,
   "id": "3ad6421e",
   "metadata": {},
   "outputs": [],
   "source": [
    "data = []\n",
    "for d in description:\n",
    "    s = f\"\"\"\n",
    "{d} \n",
    "\n",
    "generate something similar roleplay characters but using malaysian context, return in JSON [{{'name', 'persona_ms', 'persona_en', 'description_ms', 'description_en'}}]\n",
    "\"\"\"\n",
    "    data.append({'prompt': s, 'original_roleplay': d})"
   ]
  },
  {
   "cell_type": "code",
   "execution_count": 13,
   "id": "e2470613",
   "metadata": {},
   "outputs": [
    {
     "data": {
      "text/plain": [
       "9561"
      ]
     },
     "execution_count": 13,
     "metadata": {},
     "output_type": "execute_result"
    }
   ],
   "source": [
    "filtered = []\n",
    "for i in range(len(data)):\n",
    "    filename = f'{directory}/{i}.json'\n",
    "    if not os.path.exists(filename):\n",
    "        continue\n",
    "    \n",
    "    with open(filename) as fopen:\n",
    "        d = json.load(fopen)[0]\n",
    "    \n",
    "    selected = []\n",
    "    for d__ in d.split('```'):\n",
    "        try:\n",
    "            selected.append(json.loads(d__))\n",
    "        except:\n",
    "            pass\n",
    "    if not len(selected):\n",
    "        continue\n",
    "    qa = selected[0]\n",
    "    \n",
    "    if isinstance(qa, dict):\n",
    "        qa = [qa]\n",
    "    \n",
    "    for k in range(len(qa)):\n",
    "        try:\n",
    "            keys = list(qa[k].keys())\n",
    "            for key in keys:\n",
    "                v = qa[k].pop(key)\n",
    "                if isinstance(v, list):\n",
    "                    v = ' '.join(v)\n",
    "                qa[k][key.strip().replace('(', '').replace(')', '').replace('-', '_')] = v\n",
    "        except:\n",
    "            pass\n",
    "            \n",
    "    \n",
    "    filtered.append({\n",
    "        'roleplay': qa, **data[i]\n",
    "    })\n",
    "    \n",
    "len(filtered)"
   ]
  },
  {
   "cell_type": "code",
   "execution_count": 14,
   "id": "2ae3ea38",
   "metadata": {},
   "outputs": [],
   "source": [
    "with open('generated-roleplay-old.jsonl', 'w') as fopen_l:\n",
    "\n",
    "    for i in range(len(filtered)):\n",
    "        try:\n",
    "        \n",
    "            fopen_l.write(f'{json.dumps(filtered[i])}\\n')\n",
    "        except:\n",
    "            pass"
   ]
  },
  {
   "cell_type": "code",
   "execution_count": 15,
   "id": "4e3dee4e",
   "metadata": {},
   "outputs": [
    {
     "data": {
      "text/plain": [
       "9581"
      ]
     },
     "execution_count": 15,
     "metadata": {},
     "output_type": "execute_result"
    }
   ],
   "source": [
    "filtered = []\n",
    "for i in range(len(data)):\n",
    "    filename = f'{directory}/{i}.json'\n",
    "    if not os.path.exists(filename):\n",
    "        continue\n",
    "    \n",
    "    with open(filename) as fopen:\n",
    "        d = json.load(fopen)[0]\n",
    "    \n",
    "    selected = []\n",
    "    for d__ in d.split('```'):\n",
    "        try:\n",
    "            try:\n",
    "                selected.append(json.loads(d__))\n",
    "            except:\n",
    "                selected.append(eval(d__))\n",
    "        except:\n",
    "            pass\n",
    "    if not len(selected):\n",
    "        continue\n",
    "    qa = selected[0]\n",
    "    \n",
    "    if isinstance(qa, dict):\n",
    "        qa = [qa]\n",
    "    \n",
    "    for k in range(len(qa)):\n",
    "        try:\n",
    "            keys = list(qa[k].keys())\n",
    "            for key in keys:\n",
    "                v = qa[k].pop(key)\n",
    "                if isinstance(v, list):\n",
    "                    v = ' '.join(v)\n",
    "                qa[k][key.strip().replace('(', '').replace(')', '').replace('-', '_')] = v\n",
    "        except:\n",
    "            pass\n",
    "            \n",
    "    \n",
    "    filtered.append({\n",
    "        'roleplay': qa, **data[i]\n",
    "    })\n",
    "    \n",
    "len(filtered)"
   ]
  },
  {
   "cell_type": "code",
   "execution_count": 16,
   "id": "9ee4219a",
   "metadata": {},
   "outputs": [],
   "source": [
    "with open('generated-roleplay.jsonl', 'w') as fopen_l:\n",
    "\n",
    "    for i in range(len(filtered)):\n",
    "        try:\n",
    "        \n",
    "            fopen_l.write(f'{json.dumps(filtered[i])}\\n')\n",
    "        except:\n",
    "            pass"
   ]
  },
  {
   "cell_type": "code",
   "execution_count": 17,
   "id": "2a1099a3",
   "metadata": {},
   "outputs": [
    {
     "name": "stdout",
     "output_type": "stream",
     "text": [
      "9577 generated-roleplay.jsonl\r\n"
     ]
    }
   ],
   "source": [
    "!wc -l generated-roleplay.jsonl"
   ]
  },
  {
   "cell_type": "code",
   "execution_count": 18,
   "id": "154dce54",
   "metadata": {},
   "outputs": [
    {
     "name": "stdout",
     "output_type": "stream",
     "text": [
      "9561 generated-roleplay-old.jsonl\r\n"
     ]
    }
   ],
   "source": [
    "!wc -l generated-roleplay-old.jsonl"
   ]
  },
  {
   "cell_type": "code",
   "execution_count": 19,
   "id": "2b41d928",
   "metadata": {},
   "outputs": [
    {
     "data": {
      "text/plain": [
       "CommitInfo(commit_url='https://huggingface.co/datasets/mesolitica/llama3-70b-malaysian-roleplay/commit/ab9f3203f963f19af8225567b460524a07fa5971', commit_message='Upload generated-roleplay.jsonl with huggingface_hub', commit_description='', oid='ab9f3203f963f19af8225567b460524a07fa5971', pr_url=None, pr_revision=None, pr_num=None)"
      ]
     },
     "execution_count": 19,
     "metadata": {},
     "output_type": "execute_result"
    }
   ],
   "source": [
    "from huggingface_hub import HfApi\n",
    "api = HfApi()\n",
    "api.upload_file(\n",
    "    path_or_fileobj='generated-roleplay.jsonl',\n",
    "    path_in_repo='generated-roleplay.jsonl',\n",
    "    repo_id='mesolitica/llama3-70b-malaysian-roleplay',\n",
    "    repo_type='dataset',\n",
    ")"
   ]
  },
  {
   "cell_type": "code",
   "execution_count": null,
   "id": "2c663d8d",
   "metadata": {},
   "outputs": [],
   "source": []
  }
 ],
 "metadata": {
  "kernelspec": {
   "display_name": "Python 3 (ipykernel)",
   "language": "python",
   "name": "python3"
  },
  "language_info": {
   "codemirror_mode": {
    "name": "ipython",
    "version": 3
   },
   "file_extension": ".py",
   "mimetype": "text/x-python",
   "name": "python",
   "nbconvert_exporter": "python",
   "pygments_lexer": "ipython3",
   "version": "3.8.10"
  }
 },
 "nbformat": 4,
 "nbformat_minor": 5
}
