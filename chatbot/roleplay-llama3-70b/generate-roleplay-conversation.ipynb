{
 "cells": [
  {
   "cell_type": "code",
   "execution_count": null,
   "id": "13083254",
   "metadata": {},
   "outputs": [],
   "source": [
    "topics = \"\"\"\n",
    "politics\n",
    "socioeconomy\n",
    "culture\n",
    "gender\n",
    "religion\n",
    "sociology\n",
    "social class\n",
    "technology\n",
    "ethnicity\n",
    "infrastructure\n",
    "health\n",
    "education\n",
    "ecology\n",
    "party politics\n",
    "diplomacy\n",
    "history\n",
    "cuisine\n",
    "microeconomics\n",
    "business\n",
    "artificial intelligence\n",
    "law\n",
    "empowerment of youths\n",
    "perdana menteri\n",
    "hutang negara\n",
    "kes rasuah\n",
    "isu kemiskinan\n",
    "sumber asli\n",
    "\"\"\"\n",
    "topics = [t.strip() for t in topics.strip().split('\\n')]\n",
    "len(topics)"
   ]
  },
  {
   "cell_type": "code",
   "execution_count": null,
   "id": "eb285b9b",
   "metadata": {},
   "outputs": [],
   "source": [
    "import json\n",
    "import os\n",
    "\n",
    "unique = set()\n",
    "filtered = []\n",
    "with open('generated-roleplay.jsonl') as fopen:\n",
    "    for l in fopen:\n",
    "        l = json.loads(l)\n",
    "        for r in l['roleplay']:\n",
    "            lower = r['persona_ms'].lower()\n",
    "            if lower not in unique:\n",
    "                unique.add(lower)\n",
    "                filtered.append(r)\n",
    "len(filtered)"
   ]
  },
  {
   "cell_type": "code",
   "execution_count": null,
   "id": "f38ef941",
   "metadata": {},
   "outputs": [],
   "source": [
    "r"
   ]
  },
  {
   "cell_type": "code",
   "execution_count": null,
   "id": "8966a654",
   "metadata": {},
   "outputs": [],
   "source": [
    "filtered[0]"
   ]
  },
  {
   "cell_type": "code",
   "execution_count": null,
   "id": "b74d211b",
   "metadata": {},
   "outputs": [],
   "source": [
    "len(filtered) * len(topics)"
   ]
  },
  {
   "cell_type": "code",
   "execution_count": null,
   "id": "a522df00",
   "metadata": {},
   "outputs": [],
   "source": [
    "prompts = []\n",
    "for d in filtered:\n",
    "    n = f\"{d['name']}. {d['persona_ms']}. {d['description_ms']}\"\n",
    "    for t in topics:\n",
    "        s = f\"\"\"\n",
    "user B is {n}\n",
    "\n",
    "generate chat session in malay related to {t} malaysia, user A user B, DO NOT EXPLAIN, return in JSON [{{'user', 'message'}}]\n",
    "\"\"\".strip()\n",
    "        prompts.append(s)"
   ]
  },
  {
   "cell_type": "code",
   "execution_count": null,
   "id": "55b1afdb",
   "metadata": {},
   "outputs": [],
   "source": [
    "len(prompts)"
   ]
  },
  {
   "cell_type": "code",
   "execution_count": null,
   "id": "38273ee1",
   "metadata": {},
   "outputs": [],
   "source": [
    "d"
   ]
  },
  {
   "cell_type": "code",
   "execution_count": null,
   "id": "0ed9cc52",
   "metadata": {},
   "outputs": [],
   "source": [
    "print(prompts[0])"
   ]
  },
  {
   "cell_type": "code",
   "execution_count": null,
   "id": "543f05e9",
   "metadata": {},
   "outputs": [],
   "source": [
    "directory = 'generate-roleplay-conversation'\n",
    "# !rm -rf {directory}\n",
    "!mkdir {directory}"
   ]
  },
  {
   "cell_type": "code",
   "execution_count": null,
   "id": "ca2df12c",
   "metadata": {},
   "outputs": [],
   "source": [
    "from openai import OpenAI\n",
    "import requests\n",
    "\n",
    "headers = {\n",
    "    'accept': 'application/json',\n",
    "    'Content-Type': 'application/json',\n",
    "}\n",
    "\n",
    "def answer(q, i):\n",
    "    filename = f'{directory}/{i}.json'\n",
    "    if os.path.exists(filename):\n",
    "        return\n",
    "    \n",
    "    results = []\n",
    "    openai = OpenAI(\n",
    "        base_url='https://llama-3.us.mesolitica.com/v1',\n",
    "        api_key='empty',\n",
    "    )\n",
    "    for _ in range(1):\n",
    "        \n",
    "        while True:\n",
    "            try:\n",
    "                \n",
    "                json_data = {\n",
    "                    'messages': [\n",
    "                        {\n",
    "                            'role': 'user',\n",
    "                            'content': q,\n",
    "                        },\n",
    "                    ],\n",
    "                    'model': 'model',\n",
    "                    'stop': [\n",
    "                        '<|eot_id|>',\n",
    "                    ],\n",
    "                    'temperature': 0.9,\n",
    "                    'max_tokens': 2048,\n",
    "                }\n",
    "                response = requests.post(\n",
    "                    '', \n",
    "                    headers=headers, json=json_data, timeout = 60 * 10)\n",
    "                \n",
    "                r = response.json()['choices'][0]['message']['content']\n",
    "                results.append(r)\n",
    "                break\n",
    "            except Exception as e:\n",
    "                # print(e)\n",
    "                pass\n",
    "                \n",
    "    \n",
    "    with open(filename, 'w') as fopen:\n",
    "        json.dump(results, fopen)"
   ]
  },
  {
   "cell_type": "code",
   "execution_count": null,
   "id": "c2c14cb1",
   "metadata": {},
   "outputs": [],
   "source": [
    "def consumer(queue, name):\n",
    "    while True:\n",
    "        if queue.qsize() == 0:\n",
    "            break\n",
    "        item = queue.get()\n",
    "        answer(*item)\n",
    "    print(f'consumer {name} done')"
   ]
  },
  {
   "cell_type": "code",
   "execution_count": null,
   "id": "91069e0b",
   "metadata": {},
   "outputs": [],
   "source": [
    "urls = [(q, no) for no, q in enumerate(prompts)]"
   ]
  },
  {
   "cell_type": "code",
   "execution_count": null,
   "id": "f82c78fd",
   "metadata": {},
   "outputs": [],
   "source": [
    "answer(*urls[0])"
   ]
  },
  {
   "cell_type": "code",
   "execution_count": null,
   "id": "e4687efb",
   "metadata": {},
   "outputs": [],
   "source": [
    "from threading import Thread\n",
    "from queue import Queue\n",
    "from tqdm import tqdm\n",
    "\n",
    "queue = Queue()\n",
    "for u in urls:\n",
    "    queue.put(u)\n",
    "    \n",
    "ori_size = queue.qsize()"
   ]
  },
  {
   "cell_type": "code",
   "execution_count": null,
   "id": "e9c4d7fe",
   "metadata": {},
   "outputs": [],
   "source": [
    "max_worker = 50\n",
    "consumers = [Thread(target=consumer, args=(queue,i)) for i in range(max_worker)]\n",
    "for i in range(len(consumers)):\n",
    "    consumers[i].start()\n",
    "    \n",
    "pbar = tqdm(total=ori_size)\n",
    "last_size = 0\n",
    "while True:\n",
    "    size = queue.qsize()\n",
    "    if size == 0:\n",
    "        break\n",
    "    left = ori_size - size\n",
    "    minus = left - last_size\n",
    "    if minus > 0:\n",
    "        pbar.update(minus)\n",
    "        last_size += minus\n",
    "\n",
    "pbar.close()"
   ]
  },
  {
   "cell_type": "code",
   "execution_count": null,
   "id": "9840bf81",
   "metadata": {},
   "outputs": [],
   "source": []
  }
 ],
 "metadata": {
  "kernelspec": {
   "display_name": "Python 3 (ipykernel)",
   "language": "python",
   "name": "python3"
  },
  "language_info": {
   "codemirror_mode": {
    "name": "ipython",
    "version": 3
   },
   "file_extension": ".py",
   "mimetype": "text/x-python",
   "name": "python",
   "nbconvert_exporter": "python",
   "pygments_lexer": "ipython3",
   "version": "3.8.10"
  }
 },
 "nbformat": 4,
 "nbformat_minor": 5
}
