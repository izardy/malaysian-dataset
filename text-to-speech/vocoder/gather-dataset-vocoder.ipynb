{
 "cells": [
  {
   "cell_type": "code",
   "execution_count": 3,
   "id": "9b901578",
   "metadata": {},
   "outputs": [
    {
     "data": {
      "text/plain": [
       "3296167"
      ]
     },
     "execution_count": 3,
     "metadata": {},
     "output_type": "execute_result"
    }
   ],
   "source": [
    "from glob import glob\n",
    "\n",
    "files = glob('filtered-24k_processed/**/*.mp3')\n",
    "files.extend(glob('sg-podcast_processed/**/*.mp3'))\n",
    "files.extend(glob('malaysian-podcast_processed/**/*.mp3'))\n",
    "files.extend(glob('parlimen-24k-chunk_processed_24k/**/*.mp3'))\n",
    "files.extend(glob('parlimen-24k-chunk_processed/**/*.mp3'))\n",
    "len(files)"
   ]
  },
  {
   "cell_type": "code",
   "execution_count": 4,
   "id": "3fa86e22",
   "metadata": {},
   "outputs": [],
   "source": [
    "from sklearn.model_selection import train_test_split\n",
    "\n",
    "train, test = train_test_split(files, test_size = 10000)"
   ]
  },
  {
   "cell_type": "code",
   "execution_count": 6,
   "id": "062f0b20",
   "metadata": {},
   "outputs": [],
   "source": [
    "import os\n",
    "\n",
    "with open('train-vocoder.txt', 'w') as fopen:\n",
    "    for t in train:\n",
    "        fopen.write(f'{os.path.abspath(t)}\\n')\n",
    "        fopen.flush()"
   ]
  },
  {
   "cell_type": "code",
   "execution_count": 12,
   "id": "a31fd013",
   "metadata": {},
   "outputs": [],
   "source": [
    "!mkdir test-vocoder"
   ]
  },
  {
   "cell_type": "code",
   "execution_count": 21,
   "id": "d5684195",
   "metadata": {},
   "outputs": [
    {
     "name": "stderr",
     "output_type": "stream",
     "text": [
      "100%|██████████████████████████████████| 10000/10000 [00:00<00:00, 15431.05it/s]\n"
     ]
    }
   ],
   "source": [
    "import shutil\n",
    "from tqdm import tqdm\n",
    "\n",
    "new_fs = []\n",
    "for t in tqdm(test):\n",
    "    splitted = t.split('/')\n",
    "    new_f = os.path.join('test-vocoder', '/'.join(splitted[1:]))\n",
    "    os.makedirs(os.path.split(new_f)[0], exist_ok = True)\n",
    "    shutil.copyfile(t, new_f)\n",
    "    new_fs.append(new_f)"
   ]
  },
  {
   "cell_type": "code",
   "execution_count": 19,
   "id": "4f5633d4",
   "metadata": {},
   "outputs": [
    {
     "name": "stdout",
     "output_type": "stream",
     "text": [
      "525M\ttest-vocoder\r\n"
     ]
    }
   ],
   "source": [
    "!du -hs test-vocoder"
   ]
  },
  {
   "cell_type": "code",
   "execution_count": 20,
   "id": "0b41edf7",
   "metadata": {},
   "outputs": [],
   "source": [
    "!zip -rq test-vocoder.zip test-vocoder"
   ]
  },
  {
   "cell_type": "code",
   "execution_count": 23,
   "id": "147c03a9",
   "metadata": {},
   "outputs": [],
   "source": [
    "with open('test-vocoder.txt', 'w') as fopen:\n",
    "    for t in new_fs:\n",
    "        fopen.write(f'{os.path.abspath(t)}\\n')\n",
    "        fopen.flush()"
   ]
  },
  {
   "cell_type": "code",
   "execution_count": 24,
   "id": "66cffe2b",
   "metadata": {},
   "outputs": [
    {
     "data": {
      "text/plain": [
       "CommitInfo(commit_url='https://huggingface.co/datasets/mesolitica/Malaysian-Speech-Benchmark/commit/529152ef0e03e51f58f7726a4f599612e4e13312', commit_message='Upload vocoder/test-vocoder.txt with huggingface_hub', commit_description='', oid='529152ef0e03e51f58f7726a4f599612e4e13312', pr_url=None, repo_url=RepoUrl('https://huggingface.co/datasets/mesolitica/Malaysian-Speech-Benchmark', endpoint='https://huggingface.co', repo_type='dataset', repo_id='mesolitica/Malaysian-Speech-Benchmark'), pr_revision=None, pr_num=None)"
      ]
     },
     "execution_count": 24,
     "metadata": {},
     "output_type": "execute_result"
    }
   ],
   "source": [
    "from huggingface_hub import HfApi\n",
    "api = HfApi()\n",
    "api.upload_file(\n",
    "    path_or_fileobj=\"test-vocoder.txt\",\n",
    "    path_in_repo=\"vocoder/test-vocoder.txt\",\n",
    "    repo_id=\"mesolitica/Malaysian-Speech-Benchmark\",\n",
    "    repo_type=\"dataset\",\n",
    ")"
   ]
  },
  {
   "cell_type": "code",
   "execution_count": 25,
   "id": "7a8e40db",
   "metadata": {},
   "outputs": [
    {
     "data": {
      "application/vnd.jupyter.widget-view+json": {
       "model_id": "30d8da48634f49e69f3bc9aea576e694",
       "version_major": 2,
       "version_minor": 0
      },
      "text/plain": [
       "test-vocoder.zip:   0%|          | 0.00/498M [00:00<?, ?B/s]"
      ]
     },
     "metadata": {},
     "output_type": "display_data"
    },
    {
     "data": {
      "text/plain": [
       "CommitInfo(commit_url='https://huggingface.co/datasets/mesolitica/Malaysian-Speech-Benchmark/commit/b290b6df5984d2daab2cdc77d2b717115d3b4ca2', commit_message='Upload vocoder/test-vocoder.zip with huggingface_hub', commit_description='', oid='b290b6df5984d2daab2cdc77d2b717115d3b4ca2', pr_url=None, repo_url=RepoUrl('https://huggingface.co/datasets/mesolitica/Malaysian-Speech-Benchmark', endpoint='https://huggingface.co', repo_type='dataset', repo_id='mesolitica/Malaysian-Speech-Benchmark'), pr_revision=None, pr_num=None)"
      ]
     },
     "execution_count": 25,
     "metadata": {},
     "output_type": "execute_result"
    }
   ],
   "source": [
    "api.upload_file(\n",
    "    path_or_fileobj=\"test-vocoder.zip\",\n",
    "    path_in_repo=\"vocoder/test-vocoder.zip\",\n",
    "    repo_id=\"mesolitica/Malaysian-Speech-Benchmark\",\n",
    "    repo_type=\"dataset\",\n",
    ")"
   ]
  },
  {
   "cell_type": "code",
   "execution_count": null,
   "id": "de0ced86",
   "metadata": {},
   "outputs": [],
   "source": []
  }
 ],
 "metadata": {
  "kernelspec": {
   "display_name": "python3.10",
   "language": "python",
   "name": "python3.10"
  },
  "language_info": {
   "codemirror_mode": {
    "name": "ipython",
    "version": 3
   },
   "file_extension": ".py",
   "mimetype": "text/x-python",
   "name": "python",
   "nbconvert_exporter": "python",
   "pygments_lexer": "ipython3",
   "version": "3.10.15"
  }
 },
 "nbformat": 4,
 "nbformat_minor": 5
}
