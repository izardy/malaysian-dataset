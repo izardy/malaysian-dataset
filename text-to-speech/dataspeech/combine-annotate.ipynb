{
 "cells": [
  {
   "cell_type": "code",
   "execution_count": 1,
   "id": "7a22fbbf",
   "metadata": {},
   "outputs": [],
   "source": [
    "from glob import glob\n",
    "import os\n",
    "\n",
    "os.environ['CUDA_VISIBLE_DEVICES'] = '0,1'"
   ]
  },
  {
   "cell_type": "code",
   "execution_count": 2,
   "id": "ff6f4a8b",
   "metadata": {},
   "outputs": [],
   "source": [
    "speakers = {\n",
    "    'yasmin': ('Yasmin', 0, 'female'),\n",
    "    'osman': ('Osman', 1, 'male'),\n",
    "    'A': ('Bunga', 2, 'female'),\n",
    "    'B': ('Ariff', 3, 'male'),\n",
    "    'C': ('Ayu', 4, 'female'),\n",
    "    'D': ('Kamarul', 5, 'male'),\n",
    "    '../turki': ('Danial', 6, 'male'),\n",
    "    '../dari-pasentran-ke-istana': ('Danial', 6, 'male'),\n",
    "    '../salina': ('Elina', 7, 'female')\n",
    "}"
   ]
  },
  {
   "cell_type": "code",
   "execution_count": 3,
   "id": "9a22dcb6",
   "metadata": {},
   "outputs": [
    {
     "data": {
      "text/plain": [
       "219084"
      ]
     },
     "execution_count": 3,
     "metadata": {},
     "output_type": "execute_result"
    }
   ],
   "source": [
    "files = sorted(glob('../output-*-edge-tts-wav/*'))\n",
    "len(files)"
   ]
  },
  {
   "cell_type": "code",
   "execution_count": 4,
   "id": "ac4d682b",
   "metadata": {},
   "outputs": [],
   "source": [
    "from datasets import Dataset, Audio\n",
    "from datasets import load_dataset, load_from_disk\n",
    "from dataspeech import rate_apply, pitch_apply, snr_apply, squim_apply\n",
    "import numpy as np\n",
    "import pandas as pd\n",
    "from datasets import DatasetDict\n",
    "from multiprocess import set_start_method\n",
    "import argparse\n",
    "from pathlib import Path\n",
    "import os\n",
    "import matplotlib.pyplot as plt\n",
    "import json\n",
    "import torch"
   ]
  },
  {
   "cell_type": "code",
   "execution_count": 5,
   "id": "73f86758",
   "metadata": {},
   "outputs": [],
   "source": [
    "with open('postprocessing-edge-tts-news-yasmin.json') as fopen:\n",
    "    news = json.load(fopen)\n",
    "    \n",
    "with open('postprocessing-edge-tts-parliament-yasmin.json') as fopen:\n",
    "    parliament = json.load(fopen)"
   ]
  },
  {
   "cell_type": "code",
   "execution_count": 6,
   "id": "45070f90",
   "metadata": {},
   "outputs": [
    {
     "data": {
      "text/plain": [
       "105904"
      ]
     },
     "execution_count": 6,
     "metadata": {},
     "output_type": "execute_result"
    }
   ],
   "source": [
    "data_dict = {}\n",
    "for n in news:\n",
    "    f = n[0].replace('/', '_').replace('.json', '').replace('-text', '-wav')\n",
    "    f = '-'.join(f.split('-')[1:])\n",
    "    data_dict[f] = n[1]\n",
    "    \n",
    "for n in parliament:\n",
    "    f = n[0].replace('/', '_').replace('.json', '').replace('-text', '-wav')\n",
    "    f = '-'.join(f.split('-')[1:])\n",
    "    data_dict[f] = n[1]\n",
    "    \n",
    "len(data_dict)"
   ]
  },
  {
   "cell_type": "code",
   "execution_count": 7,
   "id": "df35eb8d",
   "metadata": {},
   "outputs": [],
   "source": [
    "data = []\n",
    "for f in files:\n",
    "    splitted = f.split('/')[-1]\n",
    "    speaker = f.split('/')[-1].split('-')[0]\n",
    "    \n",
    "    speaker_id = speakers[speaker]\n",
    "    \n",
    "    new_f = '-'.join(splitted.replace('.wav', '').split('-')[1:])\n",
    "    \n",
    "    if new_f not in data_dict:\n",
    "        continue\n",
    "    \n",
    "    t = data_dict[new_f]\n",
    "    \n",
    "    data.append({\n",
    "        'audio': f,\n",
    "        'transcription': t,\n",
    "        'speaker': speaker_id[0],\n",
    "        'speaker_id': speaker_id[1],\n",
    "        'gender': speaker_id[2]\n",
    "    })"
   ]
  },
  {
   "cell_type": "code",
   "execution_count": 8,
   "id": "cef40419",
   "metadata": {},
   "outputs": [],
   "source": [
    "files = sorted(glob('../output-gtts/*.mp3'))\n",
    "with open('../gtts-text.json') as fopen:\n",
    "    t = json.load(fopen)"
   ]
  },
  {
   "cell_type": "code",
   "execution_count": 9,
   "id": "494db068",
   "metadata": {},
   "outputs": [],
   "source": [
    "for f in files:\n",
    "    splitted = f.split('-')[-1].split('_')\n",
    "    speaker = splitted[0]\n",
    "    row = int(splitted[1].split('.')[0])\n",
    "    \n",
    "    speaker_id = speakers[speaker]\n",
    "    \n",
    "    data.append({\n",
    "        'audio': f,\n",
    "        'transcription': t[row],\n",
    "        'speaker': speaker_id[0],\n",
    "        'speaker_id': speaker_id[1],\n",
    "        'gender': speaker_id[2]\n",
    "    })"
   ]
  },
  {
   "cell_type": "code",
   "execution_count": 10,
   "id": "f4d2112d",
   "metadata": {},
   "outputs": [],
   "source": [
    "files = glob('../turki/*')\n",
    "\n",
    "new_folders = {\n",
    "    '../turki': ('Danial', 6, 'male'),\n",
    "    '../dari-pasentran-ke-istana': ('Danial', 6, 'male'),\n",
    "    '../salina': ('Elina', 7, 'female')\n",
    "}\n",
    "for folder, speaker_id in new_folders.items():\n",
    "    g = glob(os.path.join(folder, 'output-wav*'))[0]\n",
    "    g = os.path.join(g, '*')\n",
    "    for f in glob(g):\n",
    "        f_text = f.replace('-wav-', '-text-') + '.txt'\n",
    "        with open(f_text) as fopen:\n",
    "            t = fopen.read()\n",
    "        \n",
    "        data.append({\n",
    "            'audio': f,\n",
    "            'transcription': t,\n",
    "            'speaker': speaker_id[0],\n",
    "            'speaker_id': speaker_id[1],\n",
    "            'gender': speaker_id[2]\n",
    "        })"
   ]
  },
  {
   "cell_type": "code",
   "execution_count": 11,
   "id": "165ffe63",
   "metadata": {},
   "outputs": [
    {
     "data": {
      "text/plain": [
       "360404"
      ]
     },
     "execution_count": 11,
     "metadata": {},
     "output_type": "execute_result"
    }
   ],
   "source": [
    "len(data)"
   ]
  },
  {
   "cell_type": "code",
   "execution_count": 12,
   "id": "228fa72e",
   "metadata": {},
   "outputs": [],
   "source": [
    "dataset = Dataset.from_list(data)"
   ]
  },
  {
   "cell_type": "code",
   "execution_count": 13,
   "id": "3792a3d7",
   "metadata": {},
   "outputs": [],
   "source": [
    "dataset = dataset.cast_column(\"audio\", Audio(sampling_rate = 22050))"
   ]
  },
  {
   "cell_type": "code",
   "execution_count": 14,
   "id": "e504e4b4",
   "metadata": {},
   "outputs": [],
   "source": [
    "audio_column_name = 'audio'\n",
    "text_column_name = 'transcription'\n",
    "num_workers_per_gpu_for_squim = 4\n",
    "cpu_num_workers = 5\n",
    "penn_batch_size = 512\n",
    "num_workers_per_gpu_for_pitch = 4\n",
    "num_workers_per_gpu_for_snr = 1\n",
    "cpu_writer_batch_size = 1000"
   ]
  },
  {
   "cell_type": "code",
   "execution_count": 15,
   "id": "2303c974",
   "metadata": {},
   "outputs": [
    {
     "data": {
      "application/vnd.jupyter.widget-view+json": {
       "model_id": "9ecf016e329c47abb4c17f57c30fae4f",
       "version_major": 2,
       "version_minor": 0
      },
      "text/plain": [
       "Map (num_proc=8):   0%|          | 0/360404 [00:00<?, ? examples/s]"
      ]
     },
     "metadata": {},
     "output_type": "display_data"
    }
   ],
   "source": [
    "squim_dataset = dataset.map(\n",
    "    squim_apply,\n",
    "    batched=True,\n",
    "    batch_size=4,\n",
    "    with_rank=True if torch.cuda.device_count()>0 else False,\n",
    "    num_proc=torch.cuda.device_count()*num_workers_per_gpu_for_squim if torch.cuda.device_count()>0 else cpu_num_workers,\n",
    "    remove_columns=[audio_column_name], # tricks to avoid rewritting audio\n",
    "    fn_kwargs={\"audio_column_name\": audio_column_name,},\n",
    ")"
   ]
  },
  {
   "cell_type": "code",
   "execution_count": 16,
   "id": "62db6ab1",
   "metadata": {},
   "outputs": [
    {
     "data": {
      "application/vnd.jupyter.widget-view+json": {
       "model_id": "19569d776c8049ef9efcbd2cc2779618",
       "version_major": 2,
       "version_minor": 0
      },
      "text/plain": [
       "Saving the dataset (0/1 shards):   0%|          | 0/360404 [00:00<?, ? examples/s]"
      ]
     },
     "metadata": {},
     "output_type": "display_data"
    }
   ],
   "source": [
    "squim_dataset.save_to_disk('combine-squim')"
   ]
  },
  {
   "cell_type": "code",
   "execution_count": 17,
   "id": "d032f7ba",
   "metadata": {},
   "outputs": [
    {
     "data": {
      "application/vnd.jupyter.widget-view+json": {
       "model_id": "1b7dc6938ef246a99a8aee1cd5923abb",
       "version_major": 2,
       "version_minor": 0
      },
      "text/plain": [
       "Map (num_proc=8):   0%|          | 0/360404 [00:00<?, ? examples/s]"
      ]
     },
     "metadata": {},
     "output_type": "display_data"
    }
   ],
   "source": [
    "pitch_dataset = dataset.cast_column(audio_column_name, Audio(sampling_rate=16_000)).map(\n",
    "    pitch_apply,\n",
    "    batched=True,\n",
    "    batch_size=4,\n",
    "    with_rank=True if torch.cuda.device_count()>0 else False,\n",
    "    num_proc=torch.cuda.device_count()*num_workers_per_gpu_for_pitch if torch.cuda.device_count()>0 else cpu_num_workers,\n",
    "    remove_columns=[audio_column_name], # tricks to avoid rewritting audio\n",
    "    fn_kwargs={\"audio_column_name\": audio_column_name, \"penn_batch_size\": penn_batch_size},\n",
    ")"
   ]
  },
  {
   "cell_type": "code",
   "execution_count": 18,
   "id": "015145eb",
   "metadata": {},
   "outputs": [
    {
     "data": {
      "application/vnd.jupyter.widget-view+json": {
       "model_id": "b890be365a384330ba35431d77183342",
       "version_major": 2,
       "version_minor": 0
      },
      "text/plain": [
       "Saving the dataset (0/1 shards):   0%|          | 0/360404 [00:00<?, ? examples/s]"
      ]
     },
     "metadata": {},
     "output_type": "display_data"
    }
   ],
   "source": [
    "pitch_dataset.save_to_disk('combine-pitch')"
   ]
  },
  {
   "cell_type": "code",
   "execution_count": 20,
   "id": "a703e257",
   "metadata": {},
   "outputs": [],
   "source": [
    "snr_dataset = dataset.map(\n",
    "    snr_apply,\n",
    "    batched=True,\n",
    "    batch_size=4,\n",
    "    with_rank=True if torch.cuda.device_count()>0 else False,\n",
    "    num_proc=torch.cuda.device_count()*num_workers_per_gpu_for_snr if torch.cuda.device_count()>0 else cpu_num_workers,\n",
    "    remove_columns=[audio_column_name], # tricks to avoid rewritting audio\n",
    "    fn_kwargs={\"audio_column_name\": audio_column_name},\n",
    ")"
   ]
  },
  {
   "cell_type": "code",
   "execution_count": 21,
   "id": "802bd2c6",
   "metadata": {},
   "outputs": [
    {
     "data": {
      "application/vnd.jupyter.widget-view+json": {
       "model_id": "9210efce115c47188ebefe28fcbca5eb",
       "version_major": 2,
       "version_minor": 0
      },
      "text/plain": [
       "Saving the dataset (0/1 shards):   0%|          | 0/360404 [00:00<?, ? examples/s]"
      ]
     },
     "metadata": {},
     "output_type": "display_data"
    }
   ],
   "source": [
    "snr_dataset.save_to_disk('combine-snr')"
   ]
  },
  {
   "cell_type": "code",
   "execution_count": 22,
   "id": "51e4344c",
   "metadata": {},
   "outputs": [],
   "source": [
    "dataset = dataset.add_column('utterance_pitch_mean', pitch_dataset['utterance_pitch_mean']).add_column(\n",
    "    'utterance_pitch_std', pitch_dataset['utterance_pitch_std'])"
   ]
  },
  {
   "cell_type": "code",
   "execution_count": 23,
   "id": "015c0ba5",
   "metadata": {},
   "outputs": [],
   "source": [
    "dataset = dataset.add_column(\"snr\", snr_dataset[\"snr\"]).add_column(\"c50\", snr_dataset[\"c50\"])"
   ]
  },
  {
   "cell_type": "code",
   "execution_count": 24,
   "id": "bd191027",
   "metadata": {},
   "outputs": [],
   "source": [
    "dataset = dataset.add_column(\"speech_duration\", snr_dataset[\"speech_duration\"])\n",
    "dataset = dataset.add_column(\"stoi\", squim_dataset[\"stoi\"]).add_column(\"si-sdr\", squim_dataset[\"sdr\"]).add_column(\"pesq\", squim_dataset[\"pesq\"])"
   ]
  },
  {
   "cell_type": "code",
   "execution_count": 25,
   "id": "d7b63e24",
   "metadata": {},
   "outputs": [
    {
     "data": {
      "application/vnd.jupyter.widget-view+json": {
       "model_id": "10f6401bdb654853b23baceab1cbe7b6",
       "version_major": 2,
       "version_minor": 0
      },
      "text/plain": [
       "Filter:   0%|          | 0/360404 [00:00<?, ? examples/s]"
      ]
     },
     "metadata": {},
     "output_type": "display_data"
    }
   ],
   "source": [
    "dataset = dataset.filter(lambda row: not np.isnan(row[\"snr\"]))"
   ]
  },
  {
   "cell_type": "code",
   "execution_count": 26,
   "id": "af5e5ac6",
   "metadata": {},
   "outputs": [],
   "source": [
    "dataset_dict = DatasetDict({\n",
    "    'train': dataset\n",
    "})"
   ]
  },
  {
   "cell_type": "code",
   "execution_count": 27,
   "id": "b97b6e7c",
   "metadata": {},
   "outputs": [],
   "source": [
    "SPEAKER_RATE_BINS = [\"very slowly\", \"quite slowly\", \"slightly slowly\", \"moderate speed\", \"slightly fast\", \"quite fast\", \"very fast\"]\n",
    "SNR_BINS = [\"very noisy\", \"quite noisy\", \"slightly noisy\", \"moderate ambient sound\", \"slightly clear\", \"quite clear\", \"very clear\"]\n",
    "REVERBERATION_BINS = [\"very roomy sounding\", \"quite roomy sounding\", \"slightly roomy sounding\", \"moderate reverberation\", \"slightly confined sounding\", \"quite confined sounding\", \"very confined sounding\"]\n",
    "UTTERANCE_LEVEL_STD = [\"very monotone\", \"quite monotone\", \"slightly monotone\", \"moderate intonation\", \"slightly expressive\", \"quite expressive\", \"very expressive\"]\n",
    "\n",
    "# this one is supposed to be apply to speaker-level mean pitch, and relative to gender\n",
    "SPEAKER_LEVEL_PITCH_BINS = [\"very low pitch\", \"quite low pitch\", \"slightly low pitch\", \"moderate pitch\", \"slightly high pitch\", \"quite high pitch\", \"very high pitch\"]"
   ]
  },
  {
   "cell_type": "code",
   "execution_count": 28,
   "id": "efc9931d",
   "metadata": {},
   "outputs": [],
   "source": [
    "text_bins_dict = {}\n",
    "bin_edges_dict = {}\n",
    "\n",
    "speaker_level_pitch_bins = text_bins_dict.get(\"speaker_level_pitch_bins\", SPEAKER_LEVEL_PITCH_BINS)\n",
    "speaker_rate_bins = text_bins_dict.get(\"speaker_rate_bins\", SPEAKER_RATE_BINS)\n",
    "snr_bins = text_bins_dict.get(\"snr_bins\", SNR_BINS)\n",
    "reverberation_bins = text_bins_dict.get(\"reverberation_bins\", REVERBERATION_BINS)\n",
    "utterance_level_std = text_bins_dict.get(\"utterance_level_std\", UTTERANCE_LEVEL_STD)"
   ]
  },
  {
   "cell_type": "code",
   "execution_count": 29,
   "id": "468567d7",
   "metadata": {},
   "outputs": [],
   "source": [
    "def bins_to_text(dataset, text_bins, column_name, output_column_name, leading_split_for_bins=\"train\", batch_size = 4, num_workers = 1, std_tolerance=5, save_dir=None, only_save_plot=False, lower_range=None, bin_edges=None):\n",
    "    '''\n",
    "    Compute bins of `column_name` from the splits `leading_split_for_bins` and apply text bins to every split.\n",
    "    `leading_split_for_bins` can be a string or a list.\n",
    "    '''\n",
    "    if bin_edges is None:\n",
    "        values = []\n",
    "        for df in dataset:\n",
    "            for split in df:\n",
    "                if leading_split_for_bins is None or leading_split_for_bins in split:\n",
    "                    values.extend(df[split][column_name])\n",
    "        \n",
    "        # filter out outliers\n",
    "        values = np.array(values)\n",
    "        if std_tolerance is not None:\n",
    "            filtered_values = values[np.abs(values - np.mean(values)) < std_tolerance * np.std(values)]\n",
    "        else:\n",
    "            filtered_values = values\n",
    "\n",
    "        if save_dir is not None:\n",
    "            visualize_bins_to_text(values, filtered_values, \"Before filtering\", \"After filtering\", text_bins, save_dir, output_column_name, lower_range=lower_range)\n",
    "            \n",
    "        # speaking_rate can easily have outliers\n",
    "        if save_dir is not None and output_column_name==\"speaking_rate\":\n",
    "            visualize_bins_to_text(filtered_values, filtered_values, \"After filtering\", \"After filtering\", text_bins, save_dir, f\"{output_column_name}_after_filtering\", lower_range=lower_range)\n",
    "        \n",
    "        values = filtered_values\n",
    "        hist, bin_edges = np.histogram(values, bins = len(text_bins), range=(lower_range, values.max()) if lower_range else None)\n",
    "        \n",
    "        if only_save_plot:\n",
    "            return dataset, bin_edges\n",
    "    else:\n",
    "        print(f\"Already computed bin edges have been passed for {output_column_name}. Will use: {bin_edges}.\")\n",
    "\n",
    "    def batch_association(batch):\n",
    "        index_bins = np.searchsorted(bin_edges, batch, side=\"left\")\n",
    "        # do min(max(...)) when values are outside of the main bins\n",
    "        # it happens when value = min or max or have been filtered out from bins computation\n",
    "        batch_bins = [text_bins[min(max(i-1, 0), len(text_bins)-1)] for i in index_bins]\n",
    "        return {\n",
    "            output_column_name: batch_bins\n",
    "        }\n",
    "    \n",
    "    dataset = [df.map(batch_association, batched=True, batch_size=batch_size, input_columns=[column_name], num_proc=num_workers) for df in dataset]\n",
    "    return dataset, bin_edges\n",
    "\n",
    "def speaker_level_relative_to_gender(dataset, text_bins, speaker_column_name, gender_column_name, column_name, output_column_name, batch_size = 4, num_workers=1, std_tolerance=None, save_dir=None, only_save_plot=False, bin_edges=None):\n",
    "    '''\n",
    "    Computes mean values on a speaker level and computes bins on top relative to the gender column name.\n",
    "    Then associate a text bin to the column.\n",
    "    This time, doesn't use leading_split_for_bins, computes it for all. Could probably be optimized\n",
    "    '''\n",
    "    list_data = []\n",
    "    for df in dataset:\n",
    "        for split in df:\n",
    "            panda_data = df[split].remove_columns([col for col in df[split].column_names if col not in {speaker_column_name, column_name, gender_column_name}]).to_pandas()\n",
    "            list_data.append(panda_data)\n",
    "        \n",
    "    dataframe = pd.concat(list_data, ignore_index=True)\n",
    "    dataframe = dataframe.groupby(speaker_column_name).agg({column_name: \"mean\", gender_column_name: \"first\"})\n",
    "    if bin_edges is None:\n",
    "        bin_edges = {}\n",
    "        if save_dir is not None:\n",
    "            save_dict = {}\n",
    "            save_dict_afer_filtering = {}\n",
    "        for category in [\"male\", \"female\"]:\n",
    "            values = dataframe[dataframe[gender_column_name] == category][column_name]\n",
    "            values = np.array(values)\n",
    "            if save_dir is not None:\n",
    "                save_dict[category] = values\n",
    "            if std_tolerance is not None:\n",
    "                # filter out outliers\n",
    "                values = values[np.abs(values - np.mean(values)) < std_tolerance * np.std(values)]\n",
    "                if save_dir is not None:\n",
    "                    save_dict_afer_filtering[category] = values\n",
    "            bin_edges[category] = np.histogram(values, len(text_bins))[1]\n",
    "        \n",
    "        if save_dir is not None:\n",
    "            visualize_bins_to_text(save_dict[\"male\"], save_dict[\"female\"], \"Male distribution\", \"Female distribution\", text_bins, save_dir, output_column_name)\n",
    "            if std_tolerance is not None:\n",
    "                visualize_bins_to_text(save_dict_afer_filtering[\"male\"], save_dict_afer_filtering[\"female\"], \"Male distribution\", \"Female distribution\", text_bins, save_dir, f\"{output_column_name}_after_filtering\")\n",
    "\n",
    "        if only_save_plot:\n",
    "            return dataset, bin_edges\n",
    "     \n",
    "    speaker_id_to_bins = dataframe.apply(lambda x: np.searchsorted(bin_edges[x[gender_column_name]], x[column_name]), axis=1).to_dict()\n",
    "        \n",
    "    def batch_association(batch):\n",
    "        index_bins = [speaker_id_to_bins[speaker] for speaker in batch]\n",
    "        # do min(max(...)) when values are outside of the main bins\n",
    "        # it happens when value = min or max or have been filtered out from bins computation\n",
    "        batch_bins = [text_bins[min(max(i-1, 0), len(text_bins)-1)] for i in index_bins]\n",
    "        return {\n",
    "            output_column_name: batch_bins\n",
    "        }\n",
    "        \n",
    "    \n",
    "    dataset = [df.map(batch_association, batched=True, input_columns=[speaker_column_name], batch_size=batch_size, num_proc=num_workers) for df in dataset]\n",
    "    return dataset, bin_edges"
   ]
  },
  {
   "cell_type": "code",
   "execution_count": 30,
   "id": "b2111e9b",
   "metadata": {},
   "outputs": [
    {
     "data": {
      "application/vnd.jupyter.widget-view+json": {
       "model_id": "bad3d88e2c1e4006a74f8bc2908d5c7f",
       "version_major": 2,
       "version_minor": 0
      },
      "text/plain": [
       "Map (num_proc=5):   0%|          | 0/360298 [00:00<?, ? examples/s]"
      ]
     },
     "metadata": {},
     "output_type": "display_data"
    }
   ],
   "source": [
    "bin_edges = None\n",
    "pitch_std_tolerance = 5.\n",
    "dataset, pitch_bin_edges = speaker_level_relative_to_gender(\n",
    "    [dataset_dict], speaker_level_pitch_bins, 'speaker_id', \n",
    "    'gender', \"utterance_pitch_mean\", \"pitch\", \n",
    "    batch_size=100, num_workers=5, std_tolerance=None, \n",
    "    save_dir=None, only_save_plot=False, bin_edges=bin_edges)"
   ]
  },
  {
   "cell_type": "code",
   "execution_count": 31,
   "id": "2b9c3ac2",
   "metadata": {},
   "outputs": [
    {
     "data": {
      "application/vnd.jupyter.widget-view+json": {
       "model_id": "e18a46705fe440f98de83880f82ea06e",
       "version_major": 2,
       "version_minor": 0
      },
      "text/plain": [
       "Map (num_proc=5):   0%|          | 0/360298 [00:00<?, ? examples/s]"
      ]
     },
     "metadata": {},
     "output_type": "display_data"
    }
   ],
   "source": [
    "dataset, speaking_rate_bin_edges = bins_to_text(\n",
    "    dataset, \n",
    "    speaker_rate_bins, \"speech_duration\", \"speaking_rate\", \n",
    "    batch_size=100, num_workers=5, \n",
    "    leading_split_for_bins=None, \n",
    "    std_tolerance=None, save_dir=None, \n",
    "    only_save_plot=False, bin_edges=bin_edges_dict.get(\"speaking_rate\",None))"
   ]
  },
  {
   "cell_type": "code",
   "execution_count": 32,
   "id": "5a40382b",
   "metadata": {},
   "outputs": [
    {
     "data": {
      "application/vnd.jupyter.widget-view+json": {
       "model_id": "45366f1ded9142bfa35a8a718c1c98f8",
       "version_major": 2,
       "version_minor": 0
      },
      "text/plain": [
       "Map (num_proc=5):   0%|          | 0/360298 [00:00<?, ? examples/s]"
      ]
     },
     "metadata": {},
     "output_type": "display_data"
    }
   ],
   "source": [
    "dataset, noise_bin_edges = bins_to_text(\n",
    "    dataset, snr_bins, \"snr\", \"noise\", \n",
    "    batch_size=100, num_workers=5, \n",
    "    leading_split_for_bins=None, \n",
    "    std_tolerance=None, save_dir=None, only_save_plot=False, bin_edges=bin_edges_dict.get(\"noise\",None), \n",
    "                                        lower_range=None)"
   ]
  },
  {
   "cell_type": "code",
   "execution_count": 33,
   "id": "ef22e446",
   "metadata": {},
   "outputs": [
    {
     "data": {
      "application/vnd.jupyter.widget-view+json": {
       "model_id": "6f33aa8686de43d28c33ddbc5b84d7a7",
       "version_major": 2,
       "version_minor": 0
      },
      "text/plain": [
       "Map (num_proc=5):   0%|          | 0/360298 [00:00<?, ? examples/s]"
      ]
     },
     "metadata": {},
     "output_type": "display_data"
    }
   ],
   "source": [
    "dataset, reverberation_bin_edges = bins_to_text(\n",
    "    dataset, reverberation_bins, \"c50\", \"reverberation\", \n",
    "    batch_size=100, num_workers=5, \n",
    "    leading_split_for_bins=None, \n",
    "    std_tolerance=None, \n",
    "    save_dir=None, only_save_plot=False, \n",
    "    bin_edges=bin_edges_dict.get(\"reverberation\",None))"
   ]
  },
  {
   "cell_type": "code",
   "execution_count": 34,
   "id": "3f6990ed",
   "metadata": {},
   "outputs": [
    {
     "data": {
      "application/vnd.jupyter.widget-view+json": {
       "model_id": "ebb07617391044faaaa1f5d31ceae225",
       "version_major": 2,
       "version_minor": 0
      },
      "text/plain": [
       "Map (num_proc=5):   0%|          | 0/360298 [00:00<?, ? examples/s]"
      ]
     },
     "metadata": {},
     "output_type": "display_data"
    }
   ],
   "source": [
    "dataset, speech_monotony_bin_edges = bins_to_text(\n",
    "    dataset, utterance_level_std, \n",
    "    \"utterance_pitch_std\", \n",
    "    \"speech_monotony\", \n",
    "    batch_size=100, \n",
    "    num_workers=5, \n",
    "    leading_split_for_bins=None, \n",
    "    std_tolerance=None, \n",
    "    save_dir=None, only_save_plot=False, bin_edges=bin_edges_dict.get(\"speech_monotony\",None))"
   ]
  },
  {
   "cell_type": "code",
   "execution_count": 35,
   "id": "153796f1",
   "metadata": {},
   "outputs": [
    {
     "data": {
      "application/vnd.jupyter.widget-view+json": {
       "model_id": "e57670f75cd0444caaa3a24bdd8ae77f",
       "version_major": 2,
       "version_minor": 0
      },
      "text/plain": [
       "Saving the dataset (0/430 shards):   0%|          | 0/360298 [00:00<?, ? examples/s]"
      ]
     },
     "metadata": {},
     "output_type": "display_data"
    }
   ],
   "source": [
    "dataset[0].save_to_disk('combine-metadata')"
   ]
  },
  {
   "cell_type": "code",
   "execution_count": 36,
   "id": "7f54c213",
   "metadata": {},
   "outputs": [
    {
     "name": "stdout",
     "output_type": "stream",
     "text": [
      "156G\tcombine-metadata\r\n"
     ]
    }
   ],
   "source": [
    "!du -hs combine-metadata"
   ]
  },
  {
   "cell_type": "code",
   "execution_count": 37,
   "id": "903e6b18",
   "metadata": {},
   "outputs": [],
   "source": [
    "PROMPT = \"\"\"You will be given 6 descriptive keywords related to an audio sample of [speaker_name]'s speech. These keywords include:\n",
    "1. The gender (e.g., male, female)\n",
    "2. The level of reverberation (e.g., very distant-sounding, quite distant-sounding, slightly distant-sounding, moderately balanced reverberation, slightly close-sounding, quite close-sounding, very close-sounding)\n",
    "3. The amount of noise the sample (e.g., very noisy, quite noisy, slightly noisy, balanced in clarity, slightly clean, quite clean, very clean)\n",
    "4. The tone of the speaker's voice (e.g., very monotone, quite monotone, slightly monotone, moderately dynamic, slightly expressive and animated, quite expressive and animated, very expressive and animated)\n",
    "5. The pace of the speaker's delivery (e.g., very slowly, quite slowly, slightly slowly, moderate speed, slightly fast, quite fast, very fast)\n",
    "6. The pitch of the speaker's voice (e.g., very low-pitch, quite low-pitch, slightly low-pitch, moderate pitch, slightly high-pitch, quite high-pitch, very high-pitch)\n",
    "\n",
    "Your task is to create a text description using these keywords that accurately describes the speech sample. Ensure that the generated description is grammatically correct, easy to understand, and most importantly, concise. \n",
    "You can optionally change the order of keywords, and replace synonymous terms. You can also optionally omit the following terms, as they are default terms: 'moderately balanced reverberation', 'balanced in clarity', 'moderately dynamic', 'moderate speed' and 'moderate pitch'.\n",
    "If the amount of noise is 'very noisy' and the level of reverberation is 'distant-sounding', you must include words such as 'very poor recording' in the description. Likewise, if the amount of noise is 'very clear' and the level of reverberation is 'very close-sounding', you must include terms like 'very good recording' in the description. \n",
    "Otherwise, do not add extra details beyond what has been provided, and only return the generated description.\n",
    "\n",
    "For example, given the following keywords: 'female', 'slightly distant-sounding', 'slightly noisy', 'very expressive', 'moderate pitch', 'very slowly', a valid description would be: '[speaker_name], a woman with a moderately pitched voice speaks very slowly but has an animated delivery in an echoey room with some background noise.'.\n",
    "Another valid description would be: '[speaker_name] in a room with slight background noise, a female speaker delivers an animated and expressive speech,at a very slow pace.'\n",
    "Another valid description would be: '[speaker_name], with female voice enunciates an animated and expressive speech. Her voice is slightly distant-sounding, with some background noise present. She speaks very slowly with a moderate pitch but a very expressive tone.'\n",
    "For the keywords: '[gender]', '[reverberation]', '[noise]', '[speech_monotony]', '[pitch]', '[speaking_rate]', return the corresponding description in JSON {'result'}\"\"\""
   ]
  },
  {
   "cell_type": "code",
   "execution_count": 38,
   "id": "c1555eda",
   "metadata": {},
   "outputs": [],
   "source": [
    "EXPECTED_COLUMNS = {\"gender\", \"pitch\", \"noise\", \"reverberation\", \"speech_monotony\", \"speaking_rate\"}"
   ]
  },
  {
   "cell_type": "code",
   "execution_count": 39,
   "id": "0b7c256d",
   "metadata": {},
   "outputs": [
    {
     "data": {
      "text/plain": [
       "Dataset({\n",
       "    features: ['audio', 'transcription', 'speaker', 'speaker_id', 'gender', 'utterance_pitch_mean', 'utterance_pitch_std', 'snr', 'c50', 'speech_duration', 'stoi', 'si-sdr', 'pesq', 'pitch', 'speaking_rate', 'noise', 'reverberation', 'speech_monotony'],\n",
       "    num_rows: 360298\n",
       "})"
      ]
     },
     "execution_count": 39,
     "metadata": {},
     "output_type": "execute_result"
    }
   ],
   "source": [
    "dataset[0]['train']"
   ]
  },
  {
   "cell_type": "code",
   "execution_count": 44,
   "id": "79f72d87",
   "metadata": {},
   "outputs": [
    {
     "data": {
      "text/plain": [
       "{'audio': {'path': '../output-gtts/ms-MY-Wavenet-B_16452.mp3',\n",
       "  'array': array([-0.00085503, -0.00145134, -0.00150988, ...,  0.00050917,\n",
       "          0.0005976 ,  0.00033679]),\n",
       "  'sampling_rate': 22050},\n",
       " 'transcription': 'Masuk the future , not sure exactly when , they will legalize incest and even worse \" .',\n",
       " 'speaker': 'Ariff',\n",
       " 'speaker_id': 3,\n",
       " 'gender': 'male',\n",
       " 'utterance_pitch_mean': 152.6372528076172,\n",
       " 'utterance_pitch_std': 34.18345642089844,\n",
       " 'snr': 64.93098449707031,\n",
       " 'c50': 59.35396957397461,\n",
       " 'speech_duration': 5.805000000000001,\n",
       " 'stoi': 0.9927113056182861,\n",
       " 'si-sdr': 16.758270263671875,\n",
       " 'pesq': 3.112152099609375,\n",
       " 'pitch': 'quite high pitch',\n",
       " 'speaking_rate': 'very slowly',\n",
       " 'noise': 'quite clear',\n",
       " 'reverberation': 'very confined sounding',\n",
       " 'speech_monotony': 'very monotone'}"
      ]
     },
     "execution_count": 44,
     "metadata": {},
     "output_type": "execute_result"
    }
   ],
   "source": [
    "sample = dataset[0]['train'][250000]\n",
    "sample"
   ]
  },
  {
   "cell_type": "code",
   "execution_count": 48,
   "id": "30ba14eb",
   "metadata": {
    "scrolled": true
   },
   "outputs": [
    {
     "data": {
      "text/html": [
       "\n",
       "                <audio  controls=\"controls\" >\n",
       "                    <source src=\"data:audio/mpeg;base64,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\" type=\"audio/mpeg\" />\n",
       "                    Your browser does not support the audio element.\n",
       "                </audio>\n",
       "              "
      ],
      "text/plain": [
       "<IPython.lib.display.Audio object>"
      ]
     },
     "execution_count": 48,
     "metadata": {},
     "output_type": "execute_result"
    }
   ],
   "source": [
    "import IPython.display as ipd\n",
    "ipd.Audio(sample['audio']['path'])"
   ]
  },
  {
   "cell_type": "code",
   "execution_count": 92,
   "id": "f95e97a2",
   "metadata": {},
   "outputs": [],
   "source": [
    "!rm -rf combine-prompt\n",
    "!mkdir combine-prompt"
   ]
  },
  {
   "cell_type": "code",
   "execution_count": 93,
   "id": "f1cb3962",
   "metadata": {},
   "outputs": [
    {
     "name": "stderr",
     "output_type": "stream",
     "text": [
      "100%|████████████████████████████████████████████████████████████████████████| 360298/360298 [21:38<00:00, 277.57it/s]\n"
     ]
    },
    {
     "data": {
      "text/plain": [
       "360298"
      ]
     },
     "execution_count": 93,
     "metadata": {},
     "output_type": "execute_result"
    }
   ],
   "source": [
    "from tqdm import tqdm\n",
    "\n",
    "prompts = []\n",
    "for i in tqdm(range(len(dataset[0]['train'])), position=0, leave=True):\n",
    "    sample = dataset[0]['train'][i]\n",
    "    sample_prompt = PROMPT\n",
    "    for key in EXPECTED_COLUMNS:\n",
    "        sample_prompt = sample_prompt.replace(f\"[{key}]\", sample[key])\n",
    "    \n",
    "    sample_prompt = sample_prompt.replace(\"[speaker_name]\", sample['speaker'])\n",
    "    prompts.append((i, sample_prompt))\n",
    "len(prompts)"
   ]
  },
  {
   "cell_type": "code",
   "execution_count": 94,
   "id": "8cdcc8fd",
   "metadata": {},
   "outputs": [],
   "source": [
    "import requests\n",
    "\n",
    "def answer(i, q):\n",
    "    filename = os.path.join('combine-prompt', f'{i}.json')\n",
    "    if os.path.exists(filename):\n",
    "        return\n",
    "    sample_prompt = [{\"role\": \"user\", \"content\": q}]\n",
    "    while True:\n",
    "        r = requests.post('http://localhost:7860/v1/chat/completions',\n",
    "                 json = {'messages': sample_prompt, 'model': 'mallam-small', \n",
    "                         'temperature': 0.6, 'max_tokens': 256}).json()\n",
    "\n",
    "        try:\n",
    "            r = json.loads(r['choices'][0]['message']['content'])['result']\n",
    "            if isinstance(r, str):\n",
    "                with open(filename, 'w') as fopen:\n",
    "                    json.dump(r, fopen)\n",
    "                    return\n",
    "        except Exception as e:\n",
    "            pass"
   ]
  },
  {
   "cell_type": "code",
   "execution_count": 95,
   "id": "6f4860ca",
   "metadata": {},
   "outputs": [],
   "source": [
    "def consumer(queue, name):\n",
    "    while True:\n",
    "        if queue.qsize() == 0:\n",
    "            break\n",
    "        item = queue.get()\n",
    "        answer(*item)\n",
    "    print(f'consumer {name} done')"
   ]
  },
  {
   "cell_type": "code",
   "execution_count": 96,
   "id": "6d27289a",
   "metadata": {},
   "outputs": [],
   "source": [
    "answer(*prompts[10005])"
   ]
  },
  {
   "cell_type": "code",
   "execution_count": 97,
   "id": "3f106db5",
   "metadata": {},
   "outputs": [],
   "source": [
    "from threading import Thread\n",
    "from queue import Queue\n",
    "from tqdm import tqdm\n",
    "\n",
    "queue = Queue()\n",
    "for u in prompts:\n",
    "    queue.put(u)\n",
    "    \n",
    "ori_size = queue.qsize()"
   ]
  },
  {
   "cell_type": "code",
   "execution_count": 132,
   "id": "c4e79a65",
   "metadata": {},
   "outputs": [],
   "source": [
    "max_worker = 10\n",
    "consumers = [Thread(target=consumer, args=(queue,i)) for i in range(max_worker)]\n",
    "for i in range(len(consumers)):\n",
    "    consumers[i].start()\n",
    "    \n",
    "pbar = tqdm(total=ori_size, position=0, leave=True)\n",
    "last_size = 0\n",
    "while True:\n",
    "    size = queue.qsize()\n",
    "    if size == 0:\n",
    "        break\n",
    "    left = ori_size - size\n",
    "    minus = left - last_size\n",
    "    if minus > 0:\n",
    "        pbar.update(minus)\n",
    "        last_size += minus\n",
    "\n",
    "pbar.close()"
   ]
  },
  {
   "cell_type": "code",
   "execution_count": 102,
   "id": "b38cf6b8",
   "metadata": {},
   "outputs": [
    {
     "name": "stderr",
     "output_type": "stream",
     "text": [
      "100%|█████████████████████████████████████████████████████████████████████| 360298/360298 [00:03<00:00, 110631.56it/s]\n"
     ]
    }
   ],
   "source": [
    "actual_prompts = []\n",
    "for i in tqdm(range(len(prompts))):\n",
    "    filename = os.path.join('combine-prompt', f'{i}.json')\n",
    "    try:\n",
    "        with open(filename) as fopen:\n",
    "            d = json.load(fopen)\n",
    "        actual_prompts.append(d)\n",
    "    except:\n",
    "        actual_prompts.append(None)"
   ]
  },
  {
   "cell_type": "code",
   "execution_count": 104,
   "id": "8128b450",
   "metadata": {},
   "outputs": [],
   "source": [
    "dataset[0]['train'] = dataset[0]['train'].add_column('prompt', actual_prompts)"
   ]
  },
  {
   "cell_type": "code",
   "execution_count": 105,
   "id": "cef2090c",
   "metadata": {},
   "outputs": [
    {
     "data": {
      "text/plain": [
       "{'audio': {'path': '../output-osman-news-edge-tts-wav/osman-news-edge-tts-wav_0.wav',\n",
       "  'array': array([-0.00107961, -0.00153006, -0.00144645, ...,  0.00056517,\n",
       "          0.00061345,  0.00038514]),\n",
       "  'sampling_rate': 22050},\n",
       " 'transcription': 'Sedangkan dalam bahasa Perancis , frira hanya bererti menggoreng di dalam minyak goreng yang banyak hingga terendam .',\n",
       " 'speaker': 'Osman',\n",
       " 'speaker_id': 1,\n",
       " 'gender': 'male',\n",
       " 'utterance_pitch_mean': 140.82264709472656,\n",
       " 'utterance_pitch_std': 37.72042465209961,\n",
       " 'snr': 69.54813385009766,\n",
       " 'c50': 55.92512130737305,\n",
       " 'speech_duration': 6.648750000000001,\n",
       " 'stoi': 0.9943549633026123,\n",
       " 'si-sdr': 16.59736442565918,\n",
       " 'pesq': 3.5911829471588135,\n",
       " 'pitch': 'slightly high pitch',\n",
       " 'speaking_rate': 'very slowly',\n",
       " 'noise': 'very clear',\n",
       " 'reverberation': 'very confined sounding',\n",
       " 'speech_monotony': 'very monotone',\n",
       " 'prompt': 'Osman, a male speaker with a moderately high-pitched voice delivers an animated and expressive speech in a confined room with very clear recording. His voice is very monotone, and he speaks very slowly.'}"
      ]
     },
     "execution_count": 105,
     "metadata": {},
     "output_type": "execute_result"
    }
   ],
   "source": [
    "dataset[0]['train'][0]"
   ]
  },
  {
   "cell_type": "code",
   "execution_count": 106,
   "id": "e3e0dfb2",
   "metadata": {},
   "outputs": [],
   "source": [
    "!mkdir combine-audio"
   ]
  },
  {
   "cell_type": "code",
   "execution_count": 117,
   "id": "5ab376b1",
   "metadata": {},
   "outputs": [
    {
     "name": "stderr",
     "output_type": "stream",
     "text": [
      "100%|███████████████████████████████████████████████████████████████████████| 360298/360298 [3:37:46<00:00, 27.57it/s]\n"
     ]
    }
   ],
   "source": [
    "import soundfile as sf\n",
    "\n",
    "filenames = []\n",
    "for i in tqdm(range(len(dataset[0]['train']))):\n",
    "    filename = os.path.join('combine-audio', f'{i}.mp3')\n",
    "    sf.write(filename, dataset[0]['train'][i]['audio']['array'], 22050)\n",
    "    filenames.append(filename)"
   ]
  },
  {
   "cell_type": "code",
   "execution_count": 120,
   "id": "27ceba32",
   "metadata": {},
   "outputs": [
    {
     "name": "stdout",
     "output_type": "stream",
     "text": [
      "17G\tcombine-audio\r\n"
     ]
    }
   ],
   "source": [
    "!du -hs combine-audio"
   ]
  },
  {
   "cell_type": "code",
   "execution_count": 124,
   "id": "1ddb090e",
   "metadata": {
    "scrolled": true
   },
   "outputs": [],
   "source": [
    "new_dataset = dataset[0]['train'].remove_columns(\"audio\")"
   ]
  },
  {
   "cell_type": "code",
   "execution_count": 126,
   "id": "3d6c881a",
   "metadata": {},
   "outputs": [],
   "source": [
    "new_dataset = new_dataset.add_column('audio_filename', filenames)"
   ]
  },
  {
   "cell_type": "code",
   "execution_count": 127,
   "id": "5144e00e",
   "metadata": {},
   "outputs": [
    {
     "data": {
      "application/vnd.jupyter.widget-view+json": {
       "model_id": "c0feb3c23f74476abe074e6acd65fbd3",
       "version_major": 2,
       "version_minor": 0
      },
      "text/plain": [
       "Uploading the dataset shards:   0%|          | 0/1 [00:00<?, ?it/s]"
      ]
     },
     "metadata": {},
     "output_type": "display_data"
    },
    {
     "data": {
      "application/vnd.jupyter.widget-view+json": {
       "model_id": "1b69ca72a04c4d178bf06324b5ec27a0",
       "version_major": 2,
       "version_minor": 0
      },
      "text/plain": [
       "Creating parquet from Arrow format:   0%|          | 0/361 [00:00<?, ?ba/s]"
      ]
     },
     "metadata": {},
     "output_type": "display_data"
    },
    {
     "data": {
      "text/plain": [
       "CommitInfo(commit_url='https://huggingface.co/datasets/mesolitica/tts-combine-annotated/commit/deab214b9f6068671e5487a2c4c3c97377421971', commit_message='Upload dataset', commit_description='', oid='deab214b9f6068671e5487a2c4c3c97377421971', pr_url=None, pr_revision=None, pr_num=None)"
      ]
     },
     "execution_count": 127,
     "metadata": {},
     "output_type": "execute_result"
    }
   ],
   "source": [
    "new_dataset.push_to_hub('mesolitica/tts-combine-annotated')"
   ]
  },
  {
   "cell_type": "code",
   "execution_count": 119,
   "id": "c82ccadd",
   "metadata": {},
   "outputs": [
    {
     "data": {
      "text/html": [
       "\n",
       "                <audio  controls=\"controls\" >\n",
       "                    <source src=\"data:audio/mpeg;base64,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\" type=\"audio/mpeg\" />\n",
       "                    Your browser does not support the audio element.\n",
       "                </audio>\n",
       "              "
      ],
      "text/plain": [
       "<IPython.lib.display.Audio object>"
      ]
     },
     "execution_count": 119,
     "metadata": {},
     "output_type": "execute_result"
    }
   ],
   "source": [
    "import IPython.display as ipd\n",
    "ipd.Audio(filenames[0])"
   ]
  },
  {
   "cell_type": "code",
   "execution_count": 128,
   "id": "791783e1",
   "metadata": {},
   "outputs": [],
   "source": [
    "!zip -q -r -s 10000m combine-audio.zip combine-audio"
   ]
  },
  {
   "cell_type": "code",
   "execution_count": 129,
   "id": "ed70a83c",
   "metadata": {},
   "outputs": [],
   "source": [
    "from huggingface_hub import HfApi\n",
    "api = HfApi()"
   ]
  },
  {
   "cell_type": "code",
   "execution_count": 131,
   "id": "75380655",
   "metadata": {},
   "outputs": [
    {
     "name": "stdout",
     "output_type": "stream",
     "text": [
      "combine-audio.z01\n"
     ]
    },
    {
     "data": {
      "application/vnd.jupyter.widget-view+json": {
       "model_id": "2f217ef7a3024dc9b4f0e25c5213169f",
       "version_major": 2,
       "version_minor": 0
      },
      "text/plain": [
       "combine-audio.z01:   0%|          | 0.00/10.5G [00:00<?, ?B/s]"
      ]
     },
     "metadata": {},
     "output_type": "display_data"
    },
    {
     "name": "stdout",
     "output_type": "stream",
     "text": [
      "combine-audio.zip\n"
     ]
    },
    {
     "data": {
      "application/vnd.jupyter.widget-view+json": {
       "model_id": "633b81a36306469fab02c728e1342d8d",
       "version_major": 2,
       "version_minor": 0
      },
      "text/plain": [
       "combine-audio.zip:   0%|          | 0.00/6.20G [00:00<?, ?B/s]"
      ]
     },
     "metadata": {},
     "output_type": "display_data"
    }
   ],
   "source": [
    "for f in glob('combine-audio.z*'):\n",
    "    print(f)\n",
    "    api.upload_file(\n",
    "        path_or_fileobj=f,\n",
    "        path_in_repo=f,\n",
    "        repo_id='mesolitica/tts-combine-annotated',\n",
    "        repo_type='dataset',\n",
    "    )"
   ]
  },
  {
   "cell_type": "code",
   "execution_count": null,
   "id": "616f7f1b",
   "metadata": {},
   "outputs": [],
   "source": []
  }
 ],
 "metadata": {
  "kernelspec": {
   "display_name": "python3.10",
   "language": "python",
   "name": "python3.10"
  },
  "language_info": {
   "codemirror_mode": {
    "name": "ipython",
    "version": 3
   },
   "file_extension": ".py",
   "mimetype": "text/x-python",
   "name": "python",
   "nbconvert_exporter": "python",
   "pygments_lexer": "ipython3",
   "version": "3.10.14"
  }
 },
 "nbformat": 4,
 "nbformat_minor": 5
}
