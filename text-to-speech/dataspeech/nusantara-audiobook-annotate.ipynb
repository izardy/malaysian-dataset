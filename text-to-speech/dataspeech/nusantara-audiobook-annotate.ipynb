{
 "cells": [
  {
   "cell_type": "code",
   "execution_count": 44,
   "id": "dc2dfa8e",
   "metadata": {},
   "outputs": [],
   "source": [
    "# !wget https://huggingface.co/datasets/mesolitica/nusantara-audiobook/resolve/main/turki.gz\n",
    "# !tar -xf turki.gz\n",
    "# !wget https://huggingface.co/datasets/mesolitica/nusantara-audiobook/resolve/main/dari-pasentran-ke-istana.gz\n",
    "# !tar -xf dari-pasentran-ke-istana.gz\n",
    "# !wget https://huggingface.co/datasets/mesolitica/nusantara-audiobook/resolve/main/salina.gz\n",
    "# !tar -xf salina.gz"
   ]
  },
  {
   "cell_type": "code",
   "execution_count": 45,
   "id": "da01b6ff",
   "metadata": {},
   "outputs": [],
   "source": [
    "from glob import glob\n",
    "import os\n",
    "\n",
    "os.environ['CUDA_VISIBLE_DEVICES'] = '0'"
   ]
  },
  {
   "cell_type": "code",
   "execution_count": 3,
   "id": "63618fe4",
   "metadata": {
    "scrolled": true
   },
   "outputs": [
    {
     "data": {
      "text/plain": [
       "['../turki/output-text-turki', '../turki/output-wav-turki']"
      ]
     },
     "execution_count": 3,
     "metadata": {},
     "output_type": "execute_result"
    }
   ],
   "source": [
    "folders = {\n",
    "    '../turki': (0, 'male', 'Danial'),\n",
    "    '../dari-pasentran-ke-istana': (0, 'male', 'Danial'),\n",
    "    '../salina': (1, 'female', 'Elina')\n",
    "}\n",
    "\n",
    "files = glob('../turki/*')\n",
    "files"
   ]
  },
  {
   "cell_type": "code",
   "execution_count": 4,
   "id": "3e1c25f6",
   "metadata": {},
   "outputs": [],
   "source": [
    "from datasets import Dataset, Audio\n",
    "from datasets import load_dataset, load_from_disk\n",
    "from dataspeech import rate_apply, pitch_apply, snr_apply, squim_apply\n",
    "import numpy as np\n",
    "import pandas as pd\n",
    "from datasets import DatasetDict\n",
    "from multiprocess import set_start_method\n",
    "import argparse\n",
    "from pathlib import Path\n",
    "import os\n",
    "import matplotlib.pyplot as plt\n",
    "import json\n",
    "import torch"
   ]
  },
  {
   "cell_type": "code",
   "execution_count": 5,
   "id": "7205eb60",
   "metadata": {},
   "outputs": [],
   "source": [
    "data = []\n",
    "\n",
    "for folder, speaker_id in folders.items():\n",
    "    g = glob(os.path.join(folder, 'output-wav*'))[0]\n",
    "    g = os.path.join(g, '*')\n",
    "    for f in glob(g):\n",
    "        f_text = f.replace('-wav-', '-text-') + '.txt'\n",
    "        with open(f_text) as fopen:\n",
    "            t = fopen.read()\n",
    "        \n",
    "        data.append({\n",
    "            'audio': f,\n",
    "            'transcription': t,\n",
    "            'speaker': speaker_id[2],\n",
    "            'speaker_id': speaker_id[0],\n",
    "            'gender': speaker_id[1]\n",
    "        })"
   ]
  },
  {
   "cell_type": "code",
   "execution_count": 6,
   "id": "129ee8c2",
   "metadata": {},
   "outputs": [],
   "source": [
    "dataset = Dataset.from_list(data)"
   ]
  },
  {
   "cell_type": "code",
   "execution_count": 7,
   "id": "68c9ba85",
   "metadata": {},
   "outputs": [
    {
     "data": {
      "text/plain": [
       "24368"
      ]
     },
     "execution_count": 7,
     "metadata": {},
     "output_type": "execute_result"
    }
   ],
   "source": [
    "len(dataset)"
   ]
  },
  {
   "cell_type": "code",
   "execution_count": 8,
   "id": "fb651064",
   "metadata": {},
   "outputs": [],
   "source": [
    "dataset = dataset.cast_column(\"audio\", Audio(sampling_rate = 22050))"
   ]
  },
  {
   "cell_type": "code",
   "execution_count": 9,
   "id": "768e947e",
   "metadata": {},
   "outputs": [],
   "source": [
    "audio_column_name = 'audio'\n",
    "text_column_name = 'transcription'\n",
    "num_workers_per_gpu_for_squim = 4\n",
    "cpu_num_workers = 5\n",
    "penn_batch_size = 1024\n",
    "num_workers_per_gpu_for_pitch = 4\n",
    "num_workers_per_gpu_for_snr = 1\n",
    "cpu_writer_batch_size = 1000"
   ]
  },
  {
   "cell_type": "code",
   "execution_count": null,
   "id": "ee8704a8",
   "metadata": {},
   "outputs": [],
   "source": [
    "squim_dataset = dataset.map(\n",
    "    squim_apply,\n",
    "    batched=True,\n",
    "    batch_size=1,\n",
    "    with_rank=True if torch.cuda.device_count()>0 else False,\n",
    "    num_proc=torch.cuda.device_count()*num_workers_per_gpu_for_squim if torch.cuda.device_count()>0 else cpu_num_workers,\n",
    "    remove_columns=[audio_column_name], # tricks to avoid rewritting audio\n",
    "    fn_kwargs={\"audio_column_name\": audio_column_name,},\n",
    ")"
   ]
  },
  {
   "cell_type": "code",
   "execution_count": null,
   "id": "6ce0eae9",
   "metadata": {
    "scrolled": false
   },
   "outputs": [],
   "source": [
    "squim_dataset.save_to_disk('nusantara-audiobook-squim')"
   ]
  },
  {
   "cell_type": "code",
   "execution_count": 12,
   "id": "77f26630",
   "metadata": {},
   "outputs": [],
   "source": [
    "squim_dataset = load_from_disk('nusantara-audiobook-squim')"
   ]
  },
  {
   "cell_type": "code",
   "execution_count": 13,
   "id": "bace0ee2",
   "metadata": {},
   "outputs": [],
   "source": [
    "pitch_dataset = dataset.cast_column(audio_column_name, Audio(sampling_rate=16_000)).map(\n",
    "    pitch_apply,\n",
    "    batched=True,\n",
    "    batch_size=1,\n",
    "    with_rank=True if torch.cuda.device_count()>0 else False,\n",
    "    num_proc=torch.cuda.device_count()*num_workers_per_gpu_for_pitch if torch.cuda.device_count()>0 else cpu_num_workers,\n",
    "    remove_columns=[audio_column_name], # tricks to avoid rewritting audio\n",
    "    fn_kwargs={\"audio_column_name\": audio_column_name, \"penn_batch_size\": penn_batch_size},\n",
    ")"
   ]
  },
  {
   "cell_type": "code",
   "execution_count": null,
   "id": "56c3bf28",
   "metadata": {},
   "outputs": [],
   "source": [
    "pitch_dataset.save_to_disk('nusantara-audiobook-pitch')"
   ]
  },
  {
   "cell_type": "code",
   "execution_count": 14,
   "id": "b41bc236",
   "metadata": {},
   "outputs": [],
   "source": [
    "pitch_dataset = load_from_disk('nusantara-audiobook-pitch')"
   ]
  },
  {
   "cell_type": "code",
   "execution_count": null,
   "id": "26c4df2a",
   "metadata": {},
   "outputs": [],
   "source": [
    "snr_dataset = dataset.map(\n",
    "    snr_apply,\n",
    "    batched=True,\n",
    "    batch_size=1,\n",
    "    with_rank=True if torch.cuda.device_count()>0 else False,\n",
    "    num_proc=torch.cuda.device_count()*num_workers_per_gpu_for_snr if torch.cuda.device_count()>0 else cpu_num_workers,\n",
    "    remove_columns=[audio_column_name], # tricks to avoid rewritting audio\n",
    "    fn_kwargs={\"audio_column_name\": audio_column_name},\n",
    ")"
   ]
  },
  {
   "cell_type": "code",
   "execution_count": null,
   "id": "ca3eae64",
   "metadata": {},
   "outputs": [],
   "source": [
    "snr_dataset.save_to_disk('nusantara-audiobook-snr')"
   ]
  },
  {
   "cell_type": "code",
   "execution_count": 15,
   "id": "109a6e7e",
   "metadata": {},
   "outputs": [],
   "source": [
    "snr_dataset = load_from_disk('nusantara-audiobook-snr')"
   ]
  },
  {
   "cell_type": "code",
   "execution_count": 16,
   "id": "6a9eff04",
   "metadata": {},
   "outputs": [],
   "source": [
    "dataset = dataset.add_column('utterance_pitch_mean', pitch_dataset['utterance_pitch_mean']).add_column(\n",
    "    'utterance_pitch_std', pitch_dataset['utterance_pitch_std'])"
   ]
  },
  {
   "cell_type": "code",
   "execution_count": 17,
   "id": "9b138edc",
   "metadata": {},
   "outputs": [],
   "source": [
    "dataset = dataset.add_column(\"snr\", snr_dataset[\"snr\"]).add_column(\"c50\", snr_dataset[\"c50\"])"
   ]
  },
  {
   "cell_type": "code",
   "execution_count": 18,
   "id": "07e1f4ec",
   "metadata": {},
   "outputs": [],
   "source": [
    "dataset = dataset.add_column(\"speech_duration\", snr_dataset[\"speech_duration\"])\n",
    "dataset = dataset.add_column(\"stoi\", squim_dataset[\"stoi\"]).add_column(\"si-sdr\", squim_dataset[\"sdr\"]).add_column(\"pesq\", squim_dataset[\"pesq\"])"
   ]
  },
  {
   "cell_type": "code",
   "execution_count": 19,
   "id": "4d31b366",
   "metadata": {
    "scrolled": true
   },
   "outputs": [
    {
     "data": {
      "application/vnd.jupyter.widget-view+json": {
       "model_id": "48909afb8bc5490aa243c48d268a204c",
       "version_major": 2,
       "version_minor": 0
      },
      "text/plain": [
       "Filter:   0%|          | 0/24368 [00:00<?, ? examples/s]"
      ]
     },
     "metadata": {},
     "output_type": "display_data"
    }
   ],
   "source": [
    "dataset = dataset.filter(lambda row: not np.isnan(row[\"snr\"]))"
   ]
  },
  {
   "cell_type": "code",
   "execution_count": 20,
   "id": "1ab869e8",
   "metadata": {},
   "outputs": [],
   "source": [
    "dataset_dict = DatasetDict({\n",
    "    'train': dataset\n",
    "})"
   ]
  },
  {
   "cell_type": "code",
   "execution_count": 21,
   "id": "93d21c8c",
   "metadata": {},
   "outputs": [],
   "source": [
    "SPEAKER_RATE_BINS = [\"very slowly\", \"quite slowly\", \"slightly slowly\", \"moderate speed\", \"slightly fast\", \"quite fast\", \"very fast\"]\n",
    "SNR_BINS = [\"very noisy\", \"quite noisy\", \"slightly noisy\", \"moderate ambient sound\", \"slightly clear\", \"quite clear\", \"very clear\"]\n",
    "REVERBERATION_BINS = [\"very roomy sounding\", \"quite roomy sounding\", \"slightly roomy sounding\", \"moderate reverberation\", \"slightly confined sounding\", \"quite confined sounding\", \"very confined sounding\"]\n",
    "UTTERANCE_LEVEL_STD = [\"very monotone\", \"quite monotone\", \"slightly monotone\", \"moderate intonation\", \"slightly expressive\", \"quite expressive\", \"very expressive\"]\n",
    "\n",
    "# this one is supposed to be apply to speaker-level mean pitch, and relative to gender\n",
    "SPEAKER_LEVEL_PITCH_BINS = [\"very low pitch\", \"quite low pitch\", \"slightly low pitch\", \"moderate pitch\", \"slightly high pitch\", \"quite high pitch\", \"very high pitch\"]"
   ]
  },
  {
   "cell_type": "code",
   "execution_count": 22,
   "id": "b8e1ba1d",
   "metadata": {},
   "outputs": [],
   "source": [
    "text_bins_dict = {}\n",
    "bin_edges_dict = {}\n",
    "\n",
    "speaker_level_pitch_bins = text_bins_dict.get(\"speaker_level_pitch_bins\", SPEAKER_LEVEL_PITCH_BINS)\n",
    "speaker_rate_bins = text_bins_dict.get(\"speaker_rate_bins\", SPEAKER_RATE_BINS)\n",
    "snr_bins = text_bins_dict.get(\"snr_bins\", SNR_BINS)\n",
    "reverberation_bins = text_bins_dict.get(\"reverberation_bins\", REVERBERATION_BINS)\n",
    "utterance_level_std = text_bins_dict.get(\"utterance_level_std\", UTTERANCE_LEVEL_STD)"
   ]
  },
  {
   "cell_type": "code",
   "execution_count": 23,
   "id": "0422079f",
   "metadata": {},
   "outputs": [],
   "source": [
    "def bins_to_text(dataset, text_bins, column_name, output_column_name, leading_split_for_bins=\"train\", batch_size = 4, num_workers = 1, std_tolerance=5, save_dir=None, only_save_plot=False, lower_range=None, bin_edges=None):\n",
    "    '''\n",
    "    Compute bins of `column_name` from the splits `leading_split_for_bins` and apply text bins to every split.\n",
    "    `leading_split_for_bins` can be a string or a list.\n",
    "    '''\n",
    "    if bin_edges is None:\n",
    "        values = []\n",
    "        for df in dataset:\n",
    "            for split in df:\n",
    "                if leading_split_for_bins is None or leading_split_for_bins in split:\n",
    "                    values.extend(df[split][column_name])\n",
    "        \n",
    "        # filter out outliers\n",
    "        values = np.array(values)\n",
    "        if std_tolerance is not None:\n",
    "            filtered_values = values[np.abs(values - np.mean(values)) < std_tolerance * np.std(values)]\n",
    "        else:\n",
    "            filtered_values = values\n",
    "\n",
    "        if save_dir is not None:\n",
    "            visualize_bins_to_text(values, filtered_values, \"Before filtering\", \"After filtering\", text_bins, save_dir, output_column_name, lower_range=lower_range)\n",
    "            \n",
    "        # speaking_rate can easily have outliers\n",
    "        if save_dir is not None and output_column_name==\"speaking_rate\":\n",
    "            visualize_bins_to_text(filtered_values, filtered_values, \"After filtering\", \"After filtering\", text_bins, save_dir, f\"{output_column_name}_after_filtering\", lower_range=lower_range)\n",
    "        \n",
    "        values = filtered_values\n",
    "        hist, bin_edges = np.histogram(values, bins = len(text_bins), range=(lower_range, values.max()) if lower_range else None)\n",
    "        \n",
    "        if only_save_plot:\n",
    "            return dataset, bin_edges\n",
    "    else:\n",
    "        print(f\"Already computed bin edges have been passed for {output_column_name}. Will use: {bin_edges}.\")\n",
    "\n",
    "    def batch_association(batch):\n",
    "        index_bins = np.searchsorted(bin_edges, batch, side=\"left\")\n",
    "        # do min(max(...)) when values are outside of the main bins\n",
    "        # it happens when value = min or max or have been filtered out from bins computation\n",
    "        batch_bins = [text_bins[min(max(i-1, 0), len(text_bins)-1)] for i in index_bins]\n",
    "        return {\n",
    "            output_column_name: batch_bins\n",
    "        }\n",
    "    \n",
    "    dataset = [df.map(batch_association, batched=True, batch_size=batch_size, input_columns=[column_name], num_proc=num_workers) for df in dataset]\n",
    "    return dataset, bin_edges\n",
    "\n",
    "def speaker_level_relative_to_gender(dataset, text_bins, speaker_column_name, gender_column_name, column_name, output_column_name, batch_size = 4, num_workers=1, std_tolerance=None, save_dir=None, only_save_plot=False, bin_edges=None):\n",
    "    '''\n",
    "    Computes mean values on a speaker level and computes bins on top relative to the gender column name.\n",
    "    Then associate a text bin to the column.\n",
    "    This time, doesn't use leading_split_for_bins, computes it for all. Could probably be optimized\n",
    "    '''\n",
    "    list_data = []\n",
    "    for df in dataset:\n",
    "        for split in df:\n",
    "            panda_data = df[split].remove_columns([col for col in df[split].column_names if col not in {speaker_column_name, column_name, gender_column_name}]).to_pandas()\n",
    "            list_data.append(panda_data)\n",
    "        \n",
    "    dataframe = pd.concat(list_data, ignore_index=True)\n",
    "    dataframe = dataframe.groupby(speaker_column_name).agg({column_name: \"mean\", gender_column_name: \"first\"})\n",
    "    if bin_edges is None:\n",
    "        bin_edges = {}\n",
    "        if save_dir is not None:\n",
    "            save_dict = {}\n",
    "            save_dict_afer_filtering = {}\n",
    "        for category in [\"male\", \"female\"]:\n",
    "            values = dataframe[dataframe[gender_column_name] == category][column_name]\n",
    "            values = np.array(values)\n",
    "            if save_dir is not None:\n",
    "                save_dict[category] = values\n",
    "            if std_tolerance is not None:\n",
    "                # filter out outliers\n",
    "                values = values[np.abs(values - np.mean(values)) < std_tolerance * np.std(values)]\n",
    "                if save_dir is not None:\n",
    "                    save_dict_afer_filtering[category] = values\n",
    "            bin_edges[category] = np.histogram(values, len(text_bins))[1]\n",
    "        \n",
    "        if save_dir is not None:\n",
    "            visualize_bins_to_text(save_dict[\"male\"], save_dict[\"female\"], \"Male distribution\", \"Female distribution\", text_bins, save_dir, output_column_name)\n",
    "            if std_tolerance is not None:\n",
    "                visualize_bins_to_text(save_dict_afer_filtering[\"male\"], save_dict_afer_filtering[\"female\"], \"Male distribution\", \"Female distribution\", text_bins, save_dir, f\"{output_column_name}_after_filtering\")\n",
    "\n",
    "        if only_save_plot:\n",
    "            return dataset, bin_edges\n",
    "     \n",
    "    speaker_id_to_bins = dataframe.apply(lambda x: np.searchsorted(bin_edges[x[gender_column_name]], x[column_name]), axis=1).to_dict()\n",
    "        \n",
    "    def batch_association(batch):\n",
    "        index_bins = [speaker_id_to_bins[speaker] for speaker in batch]\n",
    "        # do min(max(...)) when values are outside of the main bins\n",
    "        # it happens when value = min or max or have been filtered out from bins computation\n",
    "        batch_bins = [text_bins[min(max(i-1, 0), len(text_bins)-1)] for i in index_bins]\n",
    "        return {\n",
    "            output_column_name: batch_bins\n",
    "        }\n",
    "        \n",
    "    \n",
    "    dataset = [df.map(batch_association, batched=True, input_columns=[speaker_column_name], batch_size=batch_size, num_proc=num_workers) for df in dataset]\n",
    "    return dataset, bin_edges"
   ]
  },
  {
   "cell_type": "code",
   "execution_count": 24,
   "id": "efb62587",
   "metadata": {},
   "outputs": [
    {
     "data": {
      "application/vnd.jupyter.widget-view+json": {
       "model_id": "a14f4bb0d43345c0ae165c6cb61edb5c",
       "version_major": 2,
       "version_minor": 0
      },
      "text/plain": [
       "Map (num_proc=5):   0%|          | 0/24263 [00:00<?, ? examples/s]"
      ]
     },
     "metadata": {},
     "output_type": "display_data"
    }
   ],
   "source": [
    "bin_edges = None\n",
    "pitch_std_tolerance = 5.\n",
    "dataset, pitch_bin_edges = speaker_level_relative_to_gender(\n",
    "    [dataset_dict], speaker_level_pitch_bins, 'speaker_id', \n",
    "    'gender', \"utterance_pitch_mean\", \"pitch\", \n",
    "    batch_size=100, num_workers=5, std_tolerance=None, \n",
    "    save_dir=None, only_save_plot=False, bin_edges=bin_edges)"
   ]
  },
  {
   "cell_type": "code",
   "execution_count": 25,
   "id": "8df5f57f",
   "metadata": {},
   "outputs": [
    {
     "data": {
      "application/vnd.jupyter.widget-view+json": {
       "model_id": "f11dcdf61ea44b5290081ecec7059073",
       "version_major": 2,
       "version_minor": 0
      },
      "text/plain": [
       "Map (num_proc=5):   0%|          | 0/24263 [00:00<?, ? examples/s]"
      ]
     },
     "metadata": {},
     "output_type": "display_data"
    }
   ],
   "source": [
    "dataset, speaking_rate_bin_edges = bins_to_text(\n",
    "    dataset, \n",
    "    speaker_rate_bins, \"speech_duration\", \"speaking_rate\", \n",
    "    batch_size=100, num_workers=5, \n",
    "    leading_split_for_bins=None, \n",
    "    std_tolerance=None, save_dir=None, \n",
    "    only_save_plot=False, bin_edges=bin_edges_dict.get(\"speaking_rate\",None))"
   ]
  },
  {
   "cell_type": "code",
   "execution_count": 26,
   "id": "eb2263c7",
   "metadata": {},
   "outputs": [
    {
     "data": {
      "application/vnd.jupyter.widget-view+json": {
       "model_id": "7a96691a6d644beca7b9931b32734425",
       "version_major": 2,
       "version_minor": 0
      },
      "text/plain": [
       "Map (num_proc=5):   0%|          | 0/24263 [00:00<?, ? examples/s]"
      ]
     },
     "metadata": {},
     "output_type": "display_data"
    }
   ],
   "source": [
    "dataset, noise_bin_edges = bins_to_text(\n",
    "    dataset, snr_bins, \"snr\", \"noise\", \n",
    "    batch_size=100, num_workers=5, \n",
    "    leading_split_for_bins=None, \n",
    "    std_tolerance=None, save_dir=None, only_save_plot=False, bin_edges=bin_edges_dict.get(\"noise\",None), \n",
    "                                        lower_range=None)"
   ]
  },
  {
   "cell_type": "code",
   "execution_count": 27,
   "id": "b5ee38ae",
   "metadata": {},
   "outputs": [
    {
     "data": {
      "application/vnd.jupyter.widget-view+json": {
       "model_id": "6ef83d53992d400884c7f1e564c2e558",
       "version_major": 2,
       "version_minor": 0
      },
      "text/plain": [
       "Map (num_proc=5):   0%|          | 0/24263 [00:00<?, ? examples/s]"
      ]
     },
     "metadata": {},
     "output_type": "display_data"
    }
   ],
   "source": [
    "dataset, reverberation_bin_edges = bins_to_text(\n",
    "    dataset, reverberation_bins, \"c50\", \"reverberation\", \n",
    "    batch_size=100, num_workers=5, \n",
    "    leading_split_for_bins=None, \n",
    "    std_tolerance=None, \n",
    "    save_dir=None, only_save_plot=False, \n",
    "    bin_edges=bin_edges_dict.get(\"reverberation\",None))"
   ]
  },
  {
   "cell_type": "code",
   "execution_count": 28,
   "id": "cfba2fc5",
   "metadata": {},
   "outputs": [
    {
     "data": {
      "application/vnd.jupyter.widget-view+json": {
       "model_id": "97d7ed55743f473dac892778de164abe",
       "version_major": 2,
       "version_minor": 0
      },
      "text/plain": [
       "Map (num_proc=5):   0%|          | 0/24263 [00:00<?, ? examples/s]"
      ]
     },
     "metadata": {},
     "output_type": "display_data"
    }
   ],
   "source": [
    "dataset, speech_monotony_bin_edges = bins_to_text(\n",
    "    dataset, utterance_level_std, \n",
    "    \"utterance_pitch_std\", \n",
    "    \"speech_monotony\", \n",
    "    batch_size=100, \n",
    "    num_workers=5, \n",
    "    leading_split_for_bins=None, \n",
    "    std_tolerance=None, \n",
    "    save_dir=None, only_save_plot=False, bin_edges=bin_edges_dict.get(\"speech_monotony\",None))"
   ]
  },
  {
   "cell_type": "code",
   "execution_count": 29,
   "id": "87c3ffb9",
   "metadata": {},
   "outputs": [
    {
     "data": {
      "application/vnd.jupyter.widget-view+json": {
       "model_id": "638cdf48fad34277aad09802549e5a45",
       "version_major": 2,
       "version_minor": 0
      },
      "text/plain": [
       "Saving the dataset (0/46 shards):   0%|          | 0/24263 [00:00<?, ? examples/s]"
      ]
     },
     "metadata": {},
     "output_type": "display_data"
    }
   ],
   "source": [
    "dataset[0].save_to_disk('nusantara-audiobook-metadata')"
   ]
  },
  {
   "cell_type": "code",
   "execution_count": 30,
   "id": "b9498cec",
   "metadata": {},
   "outputs": [
    {
     "name": "stdout",
     "output_type": "stream",
     "text": [
      "16G\tnusantara-audiobook-metadata\r\n"
     ]
    }
   ],
   "source": [
    "!du -hs nusantara-audiobook-metadata"
   ]
  },
  {
   "cell_type": "code",
   "execution_count": 33,
   "id": "176912b0",
   "metadata": {},
   "outputs": [
    {
     "data": {
      "text/plain": [
       "{'audio': {'path': '../turki/output-wav-turki/orang-turk-memperjuangkan-hak-mereka-3.mp3-279.wav',\n",
       "  'array': array([-1.13096344e-03, -8.51798803e-04,  2.51056626e-05, ...,\n",
       "          1.50622645e-06, -4.58014983e-05, -2.30834085e-05]),\n",
       "  'sampling_rate': 22050},\n",
       " 'transcription': 'perhimpunan ini bersidang buat pertama kalinya pada 23 April 1920 dengan slogan',\n",
       " 'speaker': 'Danial',\n",
       " 'speaker_id': 0,\n",
       " 'gender': 'male',\n",
       " 'utterance_pitch_mean': 112.51229095458984,\n",
       " 'utterance_pitch_std': 32.299644470214844,\n",
       " 'snr': 63.37331771850586,\n",
       " 'c50': 59.46843338012695,\n",
       " 'speech_duration': 7.5093749999999995,\n",
       " 'stoi': 0.9928895235061646,\n",
       " 'si-sdr': 22.92729949951172,\n",
       " 'pesq': 3.444589376449585,\n",
       " 'pitch': 'moderate pitch',\n",
       " 'speaking_rate': 'quite slowly',\n",
       " 'noise': 'quite clear',\n",
       " 'reverberation': 'very confined sounding',\n",
       " 'speech_monotony': 'very monotone'}"
      ]
     },
     "execution_count": 33,
     "metadata": {},
     "output_type": "execute_result"
    }
   ],
   "source": [
    "dataset[0]['train'][0]"
   ]
  },
  {
   "cell_type": "code",
   "execution_count": 46,
   "id": "72d5c30d",
   "metadata": {},
   "outputs": [],
   "source": [
    "PROMPT = \"\"\"You will be given 6 descriptive keywords related to an audio sample of [speaker_name]'s speech. These keywords include:\n",
    "1. The gender (e.g., male, female)\n",
    "2. The level of reverberation (e.g., very distant-sounding, quite distant-sounding, slightly distant-sounding, moderately balanced reverberation, slightly close-sounding, quite close-sounding, very close-sounding)\n",
    "3. The amount of noise the sample (e.g., very noisy, quite noisy, slightly noisy, balanced in clarity, slightly clean, quite clean, very clean)\n",
    "4. The tone of the speaker's voice (e.g., very monotone, quite monotone, slightly monotone, moderately dynamic, slightly expressive and animated, quite expressive and animated, very expressive and animated)\n",
    "5. The pace of the speaker's delivery (e.g., very slowly, quite slowly, slightly slowly, moderate speed, slightly fast, quite fast, very fast)\n",
    "6. The pitch of the speaker's voice (e.g., very low-pitch, quite low-pitch, slightly low-pitch, moderate pitch, slightly high-pitch, quite high-pitch, very high-pitch)\n",
    "\n",
    "Your task is to create a text description using these keywords that accurately describes the speech sample. Ensure that the generated description is grammatically correct, easy to understand, and most importantly, concise. \n",
    "You can optionally change the order of keywords, and replace synonymous terms. You can also optionally omit the following terms, as they are default terms: 'moderately balanced reverberation', 'balanced in clarity', 'moderately dynamic', 'moderate speed' and 'moderate pitch'.\n",
    "If the amount of noise is 'very noisy' and the level of reverberation is 'distant-sounding', you must include words such as 'very poor recording' in the description. Likewise, if the amount of noise is 'very clear' and the level of reverberation is 'very close-sounding', you must include terms like 'very good recording' in the description. \n",
    "Otherwise, do not add extra details beyond what has been provided, and only return the generated description.\n",
    "\n",
    "For example, given the following keywords: 'female', 'slightly distant-sounding', 'slightly noisy', 'very expressive', 'moderate pitch', 'very slowly', a valid description would be: '[speaker_name], a woman with a moderately pitched voice speaks very slowly but has an animated delivery in an echoey room with some background noise.'.\n",
    "Another valid description would be: '[speaker_name] in a room with slight background noise, a female speaker delivers an animated and expressive speech,at a very slow pace.'\n",
    "Another valid description would be: '[speaker_name], with female voice enunciates an animated and expressive speech. Her voice is slightly distant-sounding, with some background noise present. She speaks very slowly with a moderate pitch but a very expressive tone.'\n",
    "For the keywords: '[gender]', '[reverberation]', '[noise]', '[speech_monotony]', '[pitch]', '[speaking_rate]', return the corresponding description in JSON {'result'}\"\"\""
   ]
  },
  {
   "cell_type": "code",
   "execution_count": 47,
   "id": "445ff11f",
   "metadata": {},
   "outputs": [],
   "source": [
    "EXPECTED_COLUMNS = {\"gender\", \"pitch\", \"noise\", \"reverberation\", \"speech_monotony\", \"speaking_rate\"}"
   ]
  },
  {
   "cell_type": "code",
   "execution_count": 48,
   "id": "9df20570",
   "metadata": {
    "scrolled": true
   },
   "outputs": [
    {
     "data": {
      "text/plain": [
       "Dataset({\n",
       "    features: ['audio', 'transcription', 'speaker', 'speaker_id', 'gender', 'utterance_pitch_mean', 'utterance_pitch_std', 'snr', 'c50', 'speech_duration', 'stoi', 'si-sdr', 'pesq', 'pitch', 'speaking_rate', 'noise', 'reverberation', 'speech_monotony'],\n",
       "    num_rows: 24263\n",
       "})"
      ]
     },
     "execution_count": 48,
     "metadata": {},
     "output_type": "execute_result"
    }
   ],
   "source": [
    "dataset[0]['train']"
   ]
  },
  {
   "cell_type": "code",
   "execution_count": 49,
   "id": "7fe4740a",
   "metadata": {},
   "outputs": [],
   "source": [
    "import requests"
   ]
  },
  {
   "cell_type": "code",
   "execution_count": 50,
   "id": "0c4df7a9",
   "metadata": {
    "scrolled": true
   },
   "outputs": [
    {
     "data": {
      "text/plain": [
       "{'audio': {'path': '../turki/output-wav-turki/orang-turk-memperjuangkan-hak-mereka-3.mp3-279.wav',\n",
       "  'array': array([-1.13096344e-03, -8.51798803e-04,  2.51056626e-05, ...,\n",
       "          1.50622645e-06, -4.58014983e-05, -2.30834085e-05]),\n",
       "  'sampling_rate': 22050},\n",
       " 'transcription': 'perhimpunan ini bersidang buat pertama kalinya pada 23 April 1920 dengan slogan',\n",
       " 'speaker': 'Danial',\n",
       " 'speaker_id': 0,\n",
       " 'gender': 'male',\n",
       " 'utterance_pitch_mean': 112.51229095458984,\n",
       " 'utterance_pitch_std': 32.299644470214844,\n",
       " 'snr': 63.37331771850586,\n",
       " 'c50': 59.46843338012695,\n",
       " 'speech_duration': 7.5093749999999995,\n",
       " 'stoi': 0.9928895235061646,\n",
       " 'si-sdr': 22.92729949951172,\n",
       " 'pesq': 3.444589376449585,\n",
       " 'pitch': 'moderate pitch',\n",
       " 'speaking_rate': 'quite slowly',\n",
       " 'noise': 'quite clear',\n",
       " 'reverberation': 'very confined sounding',\n",
       " 'speech_monotony': 'very monotone'}"
      ]
     },
     "execution_count": 50,
     "metadata": {},
     "output_type": "execute_result"
    }
   ],
   "source": [
    "sample = dataset[0]['train'][0]\n",
    "sample"
   ]
  },
  {
   "cell_type": "code",
   "execution_count": 53,
   "id": "3ef6dd19",
   "metadata": {},
   "outputs": [
    {
     "name": "stderr",
     "output_type": "stream",
     "text": [
      " 99%|████████████████████████████████████████████████████████████████████████████████████████████████████▍| 24121/24263 [7:03:25<02:58,  1.26s/it]IOPub message rate exceeded.\n",
      "The notebook server will temporarily stop sending output\n",
      "to the client in order to avoid crashing it.\n",
      "To change this limit, set the config variable\n",
      "`--NotebookApp.iopub_msg_rate_limit`.\n",
      "\n",
      "Current values:\n",
      "NotebookApp.iopub_msg_rate_limit=1000.0 (msgs/sec)\n",
      "NotebookApp.rate_limit_window=3.0 (secs)\n",
      "\n"
     ]
    }
   ],
   "source": [
    "from tqdm import tqdm\n",
    "\n",
    "prompts = []\n",
    "for i in tqdm(range(len(dataset[0]['train']))):\n",
    "    sample = dataset[0]['train'][i]\n",
    "    sample_prompt = PROMPT\n",
    "    for key in EXPECTED_COLUMNS:\n",
    "        sample_prompt = sample_prompt.replace(f\"[{key}]\", sample[key])\n",
    "    \n",
    "    sample_prompt = sample_prompt.replace(\"[speaker_name]\", sample['speaker'])\n",
    "\n",
    "    sample_prompt = [{\"role\": \"user\", \"content\": sample_prompt}]\n",
    "    \n",
    "    while True:\n",
    "        r = requests.post('http://localhost:7860/v1/chat/completions',\n",
    "                 json = {'messages': sample_prompt, 'model': 'mallam-small', \n",
    "                         'temperature': 0.6, 'max_tokens': 256}).json()\n",
    "\n",
    "        try:\n",
    "            r = json.loads(r['choices'][0]['message']['content'])['result']\n",
    "            if isinstance(r, str):\n",
    "                prompts.append(r)\n",
    "                break\n",
    "        except:\n",
    "            pass"
   ]
  },
  {
   "cell_type": "code",
   "execution_count": 55,
   "id": "9c99eb2e",
   "metadata": {
    "scrolled": true
   },
   "outputs": [
    {
     "data": {
      "text/plain": [
       "'Danial, a man with a moderate pitch, speaks very slowly and monotone in a very confined room with minimal background noise.'"
      ]
     },
     "execution_count": 55,
     "metadata": {},
     "output_type": "execute_result"
    }
   ],
   "source": [
    "prompts[0]"
   ]
  },
  {
   "cell_type": "code",
   "execution_count": 56,
   "id": "342da746",
   "metadata": {},
   "outputs": [],
   "source": [
    "with open('prompts.json', 'w') as fopen:\n",
    "    json.dump(prompts, fopen)"
   ]
  },
  {
   "cell_type": "code",
   "execution_count": 57,
   "id": "a3aa6c50",
   "metadata": {},
   "outputs": [],
   "source": [
    "for i in range(len(prompts)):\n",
    "    if not isinstance(prompts[i], str):\n",
    "        prompts[i] = None"
   ]
  },
  {
   "cell_type": "code",
   "execution_count": 58,
   "id": "3c82f5c2",
   "metadata": {},
   "outputs": [],
   "source": [
    "dataset[0]['train'] = dataset[0]['train'].add_column('prompt', prompts)"
   ]
  },
  {
   "cell_type": "code",
   "execution_count": 59,
   "id": "4ec42345",
   "metadata": {},
   "outputs": [
    {
     "data": {
      "text/plain": [
       "{'audio': {'path': '../salina/output-wav-salina/lima-belas-16.mp3-9.wav',\n",
       "  'array': array([-2.87793856e-02, -4.22273353e-02, -3.74142155e-02, ...,\n",
       "         -2.38635403e-05, -4.46785016e-05,  1.23449104e-06]),\n",
       "  'sampling_rate': 22050},\n",
       " 'transcription': 'Abdul fakar memandang pula ke sekeliling restoran Itu semua meja Penuh sahaja',\n",
       " 'speaker': 'Elina',\n",
       " 'speaker_id': 1,\n",
       " 'gender': 'female',\n",
       " 'utterance_pitch_mean': 142.63507080078125,\n",
       " 'utterance_pitch_std': 29.58568000793457,\n",
       " 'snr': 65.92111206054688,\n",
       " 'c50': 58.02208709716797,\n",
       " 'speech_duration': 6.986250000000001,\n",
       " 'stoi': 0.9938976168632507,\n",
       " 'si-sdr': 28.970964431762695,\n",
       " 'pesq': 3.603271007537842,\n",
       " 'pitch': 'moderate pitch',\n",
       " 'speaking_rate': 'quite slowly',\n",
       " 'noise': 'quite clear',\n",
       " 'reverberation': 'very confined sounding',\n",
       " 'speech_monotony': 'very monotone',\n",
       " 'prompt': \"Elina, a female speaker, has a very monotone voice and delivers an animated and expressive speech at a moderate pace. The echo in the room makes it slightly distant-sounding, and it's quite clear. The background noise is minimal, and her voice is moderately pitched, but it's quite clear.\"}"
      ]
     },
     "execution_count": 59,
     "metadata": {},
     "output_type": "execute_result"
    }
   ],
   "source": [
    "dataset[0]['train'][-1]"
   ]
  },
  {
   "cell_type": "code",
   "execution_count": 61,
   "id": "061cc27c",
   "metadata": {},
   "outputs": [
    {
     "data": {
      "application/vnd.jupyter.widget-view+json": {
       "model_id": "6deb84198d754b63b4fdd98379fa70aa",
       "version_major": 2,
       "version_minor": 0
      },
      "text/plain": [
       "Uploading the dataset shards:   0%|          | 0/46 [00:00<?, ?it/s]"
      ]
     },
     "metadata": {},
     "output_type": "display_data"
    },
    {
     "data": {
      "application/vnd.jupyter.widget-view+json": {
       "model_id": "e8ccb8611a6943778fca462f1d20a7e7",
       "version_major": 2,
       "version_minor": 0
      },
      "text/plain": [
       "Map:   0%|          | 0/528 [00:00<?, ? examples/s]"
      ]
     },
     "metadata": {},
     "output_type": "display_data"
    },
    {
     "data": {
      "application/vnd.jupyter.widget-view+json": {
       "model_id": "734de92b87d44512b497d1932fb8f2ad",
       "version_major": 2,
       "version_minor": 0
      },
      "text/plain": [
       "Creating parquet from Arrow format:   0%|          | 0/6 [00:00<?, ?ba/s]"
      ]
     },
     "metadata": {},
     "output_type": "display_data"
    },
    {
     "data": {
      "application/vnd.jupyter.widget-view+json": {
       "model_id": "204146e18d174b5ba4831ab3524d91e7",
       "version_major": 2,
       "version_minor": 0
      },
      "text/plain": [
       "Map:   0%|          | 0/528 [00:00<?, ? examples/s]"
      ]
     },
     "metadata": {},
     "output_type": "display_data"
    },
    {
     "data": {
      "application/vnd.jupyter.widget-view+json": {
       "model_id": "25c909963e6545ff932d424e44685353",
       "version_major": 2,
       "version_minor": 0
      },
      "text/plain": [
       "Creating parquet from Arrow format:   0%|          | 0/6 [00:00<?, ?ba/s]"
      ]
     },
     "metadata": {},
     "output_type": "display_data"
    },
    {
     "data": {
      "application/vnd.jupyter.widget-view+json": {
       "model_id": "b05b0d418e924856b0cbf74d422b5b27",
       "version_major": 2,
       "version_minor": 0
      },
      "text/plain": [
       "Map:   0%|          | 0/528 [00:00<?, ? examples/s]"
      ]
     },
     "metadata": {},
     "output_type": "display_data"
    },
    {
     "data": {
      "application/vnd.jupyter.widget-view+json": {
       "model_id": "cd704f6c33464dbb92ded5ad59e8418a",
       "version_major": 2,
       "version_minor": 0
      },
      "text/plain": [
       "Creating parquet from Arrow format:   0%|          | 0/6 [00:00<?, ?ba/s]"
      ]
     },
     "metadata": {},
     "output_type": "display_data"
    },
    {
     "data": {
      "application/vnd.jupyter.widget-view+json": {
       "model_id": "e90c4390b77a459fb1231bdb59155852",
       "version_major": 2,
       "version_minor": 0
      },
      "text/plain": [
       "Map:   0%|          | 0/528 [00:00<?, ? examples/s]"
      ]
     },
     "metadata": {},
     "output_type": "display_data"
    },
    {
     "data": {
      "application/vnd.jupyter.widget-view+json": {
       "model_id": "f8591bea8f904b3ab15e70c307daaac3",
       "version_major": 2,
       "version_minor": 0
      },
      "text/plain": [
       "Creating parquet from Arrow format:   0%|          | 0/6 [00:00<?, ?ba/s]"
      ]
     },
     "metadata": {},
     "output_type": "display_data"
    },
    {
     "data": {
      "application/vnd.jupyter.widget-view+json": {
       "model_id": "a91c6553a24c45398fef5f9cec1c3516",
       "version_major": 2,
       "version_minor": 0
      },
      "text/plain": [
       "Map:   0%|          | 0/528 [00:00<?, ? examples/s]"
      ]
     },
     "metadata": {},
     "output_type": "display_data"
    },
    {
     "data": {
      "application/vnd.jupyter.widget-view+json": {
       "model_id": "570c0a95f16547e9bd3958a0a2319eeb",
       "version_major": 2,
       "version_minor": 0
      },
      "text/plain": [
       "Creating parquet from Arrow format:   0%|          | 0/6 [00:00<?, ?ba/s]"
      ]
     },
     "metadata": {},
     "output_type": "display_data"
    },
    {
     "data": {
      "application/vnd.jupyter.widget-view+json": {
       "model_id": "d755550bd1cc4055b3559507ffae59a7",
       "version_major": 2,
       "version_minor": 0
      },
      "text/plain": [
       "Map:   0%|          | 0/528 [00:00<?, ? examples/s]"
      ]
     },
     "metadata": {},
     "output_type": "display_data"
    },
    {
     "data": {
      "application/vnd.jupyter.widget-view+json": {
       "model_id": "5a67d2d9c31646ada67c2f04c370360b",
       "version_major": 2,
       "version_minor": 0
      },
      "text/plain": [
       "Creating parquet from Arrow format:   0%|          | 0/6 [00:00<?, ?ba/s]"
      ]
     },
     "metadata": {},
     "output_type": "display_data"
    },
    {
     "data": {
      "application/vnd.jupyter.widget-view+json": {
       "model_id": "c3d62f082f954811b656c81d98c4f417",
       "version_major": 2,
       "version_minor": 0
      },
      "text/plain": [
       "Map:   0%|          | 0/528 [00:00<?, ? examples/s]"
      ]
     },
     "metadata": {},
     "output_type": "display_data"
    },
    {
     "data": {
      "application/vnd.jupyter.widget-view+json": {
       "model_id": "5f9024c4ad7e4f04b1716c2aef30374c",
       "version_major": 2,
       "version_minor": 0
      },
      "text/plain": [
       "Creating parquet from Arrow format:   0%|          | 0/6 [00:00<?, ?ba/s]"
      ]
     },
     "metadata": {},
     "output_type": "display_data"
    },
    {
     "data": {
      "application/vnd.jupyter.widget-view+json": {
       "model_id": "c2d8350dab664f2abc4b11b24b192b81",
       "version_major": 2,
       "version_minor": 0
      },
      "text/plain": [
       "Map:   0%|          | 0/528 [00:00<?, ? examples/s]"
      ]
     },
     "metadata": {},
     "output_type": "display_data"
    },
    {
     "data": {
      "application/vnd.jupyter.widget-view+json": {
       "model_id": "de511a03d1d84db188d61786d0341ee5",
       "version_major": 2,
       "version_minor": 0
      },
      "text/plain": [
       "Creating parquet from Arrow format:   0%|          | 0/6 [00:00<?, ?ba/s]"
      ]
     },
     "metadata": {},
     "output_type": "display_data"
    },
    {
     "data": {
      "application/vnd.jupyter.widget-view+json": {
       "model_id": "0370e384041b4bf79ab8bc989d1ffa64",
       "version_major": 2,
       "version_minor": 0
      },
      "text/plain": [
       "Map:   0%|          | 0/528 [00:00<?, ? examples/s]"
      ]
     },
     "metadata": {},
     "output_type": "display_data"
    },
    {
     "data": {
      "application/vnd.jupyter.widget-view+json": {
       "model_id": "a4db3ecb4fbe46f39a0f795987777a77",
       "version_major": 2,
       "version_minor": 0
      },
      "text/plain": [
       "Creating parquet from Arrow format:   0%|          | 0/6 [00:00<?, ?ba/s]"
      ]
     },
     "metadata": {},
     "output_type": "display_data"
    },
    {
     "data": {
      "application/vnd.jupyter.widget-view+json": {
       "model_id": "f32c1b23ed3e4065b728c1664e8f04c1",
       "version_major": 2,
       "version_minor": 0
      },
      "text/plain": [
       "Map:   0%|          | 0/528 [00:00<?, ? examples/s]"
      ]
     },
     "metadata": {},
     "output_type": "display_data"
    },
    {
     "data": {
      "application/vnd.jupyter.widget-view+json": {
       "model_id": "ac94430a3d054451a708f5942c08d5a0",
       "version_major": 2,
       "version_minor": 0
      },
      "text/plain": [
       "Creating parquet from Arrow format:   0%|          | 0/6 [00:00<?, ?ba/s]"
      ]
     },
     "metadata": {},
     "output_type": "display_data"
    },
    {
     "data": {
      "application/vnd.jupyter.widget-view+json": {
       "model_id": "39dadd2032bd44b6a0b196e17c21d5fb",
       "version_major": 2,
       "version_minor": 0
      },
      "text/plain": [
       "Map:   0%|          | 0/528 [00:00<?, ? examples/s]"
      ]
     },
     "metadata": {},
     "output_type": "display_data"
    },
    {
     "data": {
      "application/vnd.jupyter.widget-view+json": {
       "model_id": "0bf1b23284d84c68b94be6688392e3f9",
       "version_major": 2,
       "version_minor": 0
      },
      "text/plain": [
       "Creating parquet from Arrow format:   0%|          | 0/6 [00:00<?, ?ba/s]"
      ]
     },
     "metadata": {},
     "output_type": "display_data"
    },
    {
     "data": {
      "application/vnd.jupyter.widget-view+json": {
       "model_id": "40efda5624544f18a1edc17a5c6f7cfe",
       "version_major": 2,
       "version_minor": 0
      },
      "text/plain": [
       "Map:   0%|          | 0/528 [00:00<?, ? examples/s]"
      ]
     },
     "metadata": {},
     "output_type": "display_data"
    },
    {
     "data": {
      "application/vnd.jupyter.widget-view+json": {
       "model_id": "e353caf9055f45ee859400555f0c46d0",
       "version_major": 2,
       "version_minor": 0
      },
      "text/plain": [
       "Creating parquet from Arrow format:   0%|          | 0/6 [00:00<?, ?ba/s]"
      ]
     },
     "metadata": {},
     "output_type": "display_data"
    },
    {
     "data": {
      "application/vnd.jupyter.widget-view+json": {
       "model_id": "01903f3e0d6a4135b3c1ac88d056af38",
       "version_major": 2,
       "version_minor": 0
      },
      "text/plain": [
       "Map:   0%|          | 0/528 [00:00<?, ? examples/s]"
      ]
     },
     "metadata": {},
     "output_type": "display_data"
    },
    {
     "data": {
      "application/vnd.jupyter.widget-view+json": {
       "model_id": "961b22d0cf6e4f8f812958ddc5b6e50f",
       "version_major": 2,
       "version_minor": 0
      },
      "text/plain": [
       "Creating parquet from Arrow format:   0%|          | 0/6 [00:00<?, ?ba/s]"
      ]
     },
     "metadata": {},
     "output_type": "display_data"
    },
    {
     "data": {
      "application/vnd.jupyter.widget-view+json": {
       "model_id": "dd5af9c0af184a85be2fbb8955748919",
       "version_major": 2,
       "version_minor": 0
      },
      "text/plain": [
       "Map:   0%|          | 0/528 [00:00<?, ? examples/s]"
      ]
     },
     "metadata": {},
     "output_type": "display_data"
    },
    {
     "data": {
      "application/vnd.jupyter.widget-view+json": {
       "model_id": "0ded7c9915a84a4cacf8136ecb9ffe15",
       "version_major": 2,
       "version_minor": 0
      },
      "text/plain": [
       "Creating parquet from Arrow format:   0%|          | 0/6 [00:00<?, ?ba/s]"
      ]
     },
     "metadata": {},
     "output_type": "display_data"
    },
    {
     "data": {
      "application/vnd.jupyter.widget-view+json": {
       "model_id": "4c96c6d04b5840aeb66c97b004baf32a",
       "version_major": 2,
       "version_minor": 0
      },
      "text/plain": [
       "Map:   0%|          | 0/528 [00:00<?, ? examples/s]"
      ]
     },
     "metadata": {},
     "output_type": "display_data"
    },
    {
     "data": {
      "application/vnd.jupyter.widget-view+json": {
       "model_id": "716990515432464683ce9d9d67e085d4",
       "version_major": 2,
       "version_minor": 0
      },
      "text/plain": [
       "Creating parquet from Arrow format:   0%|          | 0/6 [00:00<?, ?ba/s]"
      ]
     },
     "metadata": {},
     "output_type": "display_data"
    },
    {
     "data": {
      "application/vnd.jupyter.widget-view+json": {
       "model_id": "43275c2148704832aa9bc27c9b61c01e",
       "version_major": 2,
       "version_minor": 0
      },
      "text/plain": [
       "Map:   0%|          | 0/528 [00:00<?, ? examples/s]"
      ]
     },
     "metadata": {},
     "output_type": "display_data"
    },
    {
     "data": {
      "application/vnd.jupyter.widget-view+json": {
       "model_id": "06c3804d302b4de1bba6b34f9098b5c6",
       "version_major": 2,
       "version_minor": 0
      },
      "text/plain": [
       "Creating parquet from Arrow format:   0%|          | 0/6 [00:00<?, ?ba/s]"
      ]
     },
     "metadata": {},
     "output_type": "display_data"
    },
    {
     "data": {
      "application/vnd.jupyter.widget-view+json": {
       "model_id": "d595ba618cb041c7b87d19d48fdde883",
       "version_major": 2,
       "version_minor": 0
      },
      "text/plain": [
       "Map:   0%|          | 0/528 [00:00<?, ? examples/s]"
      ]
     },
     "metadata": {},
     "output_type": "display_data"
    },
    {
     "data": {
      "application/vnd.jupyter.widget-view+json": {
       "model_id": "f4e8561725e54089a927001d78b3df3e",
       "version_major": 2,
       "version_minor": 0
      },
      "text/plain": [
       "Creating parquet from Arrow format:   0%|          | 0/6 [00:00<?, ?ba/s]"
      ]
     },
     "metadata": {},
     "output_type": "display_data"
    },
    {
     "data": {
      "application/vnd.jupyter.widget-view+json": {
       "model_id": "e5e81c01284a47b8b2730432a91fd68f",
       "version_major": 2,
       "version_minor": 0
      },
      "text/plain": [
       "Map:   0%|          | 0/528 [00:00<?, ? examples/s]"
      ]
     },
     "metadata": {},
     "output_type": "display_data"
    },
    {
     "data": {
      "application/vnd.jupyter.widget-view+json": {
       "model_id": "178eaf077b9b45aba1e2d9a508a1d078",
       "version_major": 2,
       "version_minor": 0
      },
      "text/plain": [
       "Creating parquet from Arrow format:   0%|          | 0/6 [00:00<?, ?ba/s]"
      ]
     },
     "metadata": {},
     "output_type": "display_data"
    },
    {
     "data": {
      "application/vnd.jupyter.widget-view+json": {
       "model_id": "28ec465302094e4e8bb412f730828cf6",
       "version_major": 2,
       "version_minor": 0
      },
      "text/plain": [
       "Map:   0%|          | 0/528 [00:00<?, ? examples/s]"
      ]
     },
     "metadata": {},
     "output_type": "display_data"
    },
    {
     "data": {
      "application/vnd.jupyter.widget-view+json": {
       "model_id": "fa2525d6993e4aec84c7dc231efecff8",
       "version_major": 2,
       "version_minor": 0
      },
      "text/plain": [
       "Creating parquet from Arrow format:   0%|          | 0/6 [00:00<?, ?ba/s]"
      ]
     },
     "metadata": {},
     "output_type": "display_data"
    },
    {
     "data": {
      "application/vnd.jupyter.widget-view+json": {
       "model_id": "4ae3fe55c67b44a3919ff4d8414e9286",
       "version_major": 2,
       "version_minor": 0
      },
      "text/plain": [
       "Map:   0%|          | 0/528 [00:00<?, ? examples/s]"
      ]
     },
     "metadata": {},
     "output_type": "display_data"
    },
    {
     "data": {
      "application/vnd.jupyter.widget-view+json": {
       "model_id": "0be40bb56b924aeaafd92d1010edfa25",
       "version_major": 2,
       "version_minor": 0
      },
      "text/plain": [
       "Creating parquet from Arrow format:   0%|          | 0/6 [00:00<?, ?ba/s]"
      ]
     },
     "metadata": {},
     "output_type": "display_data"
    },
    {
     "data": {
      "application/vnd.jupyter.widget-view+json": {
       "model_id": "37e4747887aa4f56892b965415245bb0",
       "version_major": 2,
       "version_minor": 0
      },
      "text/plain": [
       "Map:   0%|          | 0/528 [00:00<?, ? examples/s]"
      ]
     },
     "metadata": {},
     "output_type": "display_data"
    },
    {
     "data": {
      "application/vnd.jupyter.widget-view+json": {
       "model_id": "0c1e946e369c4a24bf859b96614a902c",
       "version_major": 2,
       "version_minor": 0
      },
      "text/plain": [
       "Creating parquet from Arrow format:   0%|          | 0/6 [00:00<?, ?ba/s]"
      ]
     },
     "metadata": {},
     "output_type": "display_data"
    },
    {
     "data": {
      "application/vnd.jupyter.widget-view+json": {
       "model_id": "2ef3f39cbb344555a5b077666d52c9db",
       "version_major": 2,
       "version_minor": 0
      },
      "text/plain": [
       "Map:   0%|          | 0/527 [00:00<?, ? examples/s]"
      ]
     },
     "metadata": {},
     "output_type": "display_data"
    },
    {
     "data": {
      "application/vnd.jupyter.widget-view+json": {
       "model_id": "b4735b4dd69d4f6c8386de8134047e7f",
       "version_major": 2,
       "version_minor": 0
      },
      "text/plain": [
       "Creating parquet from Arrow format:   0%|          | 0/6 [00:00<?, ?ba/s]"
      ]
     },
     "metadata": {},
     "output_type": "display_data"
    },
    {
     "data": {
      "application/vnd.jupyter.widget-view+json": {
       "model_id": "02f2375d06114a718c37e3d6e49fd6f7",
       "version_major": 2,
       "version_minor": 0
      },
      "text/plain": [
       "Map:   0%|          | 0/527 [00:00<?, ? examples/s]"
      ]
     },
     "metadata": {},
     "output_type": "display_data"
    },
    {
     "data": {
      "application/vnd.jupyter.widget-view+json": {
       "model_id": "539b69c107ff4f9b958181e3113204f8",
       "version_major": 2,
       "version_minor": 0
      },
      "text/plain": [
       "Creating parquet from Arrow format:   0%|          | 0/6 [00:00<?, ?ba/s]"
      ]
     },
     "metadata": {},
     "output_type": "display_data"
    },
    {
     "data": {
      "application/vnd.jupyter.widget-view+json": {
       "model_id": "d7d7f9fed6a5480e9f4ffc2d065dd605",
       "version_major": 2,
       "version_minor": 0
      },
      "text/plain": [
       "Map:   0%|          | 0/527 [00:00<?, ? examples/s]"
      ]
     },
     "metadata": {},
     "output_type": "display_data"
    },
    {
     "data": {
      "application/vnd.jupyter.widget-view+json": {
       "model_id": "1f45db0b4c4f4ced9e602a8c02f578cc",
       "version_major": 2,
       "version_minor": 0
      },
      "text/plain": [
       "Creating parquet from Arrow format:   0%|          | 0/6 [00:00<?, ?ba/s]"
      ]
     },
     "metadata": {},
     "output_type": "display_data"
    },
    {
     "data": {
      "application/vnd.jupyter.widget-view+json": {
       "model_id": "f891c94611984744a0d515dc53ab6c04",
       "version_major": 2,
       "version_minor": 0
      },
      "text/plain": [
       "Map:   0%|          | 0/527 [00:00<?, ? examples/s]"
      ]
     },
     "metadata": {},
     "output_type": "display_data"
    },
    {
     "data": {
      "application/vnd.jupyter.widget-view+json": {
       "model_id": "876e10189308419e9dcb0bf5fabd1d8b",
       "version_major": 2,
       "version_minor": 0
      },
      "text/plain": [
       "Creating parquet from Arrow format:   0%|          | 0/6 [00:00<?, ?ba/s]"
      ]
     },
     "metadata": {},
     "output_type": "display_data"
    },
    {
     "data": {
      "application/vnd.jupyter.widget-view+json": {
       "model_id": "c454af75b0ee4aa59eb34493eda742f2",
       "version_major": 2,
       "version_minor": 0
      },
      "text/plain": [
       "Map:   0%|          | 0/527 [00:00<?, ? examples/s]"
      ]
     },
     "metadata": {},
     "output_type": "display_data"
    },
    {
     "data": {
      "application/vnd.jupyter.widget-view+json": {
       "model_id": "68dcedee13724f84bfb21191df5e8435",
       "version_major": 2,
       "version_minor": 0
      },
      "text/plain": [
       "Creating parquet from Arrow format:   0%|          | 0/6 [00:00<?, ?ba/s]"
      ]
     },
     "metadata": {},
     "output_type": "display_data"
    },
    {
     "data": {
      "application/vnd.jupyter.widget-view+json": {
       "model_id": "f5cfeab158b144e494579de352bd9c50",
       "version_major": 2,
       "version_minor": 0
      },
      "text/plain": [
       "Map:   0%|          | 0/527 [00:00<?, ? examples/s]"
      ]
     },
     "metadata": {},
     "output_type": "display_data"
    },
    {
     "data": {
      "application/vnd.jupyter.widget-view+json": {
       "model_id": "ff6b02b3acc0460abcee5ff4ec396911",
       "version_major": 2,
       "version_minor": 0
      },
      "text/plain": [
       "Creating parquet from Arrow format:   0%|          | 0/6 [00:00<?, ?ba/s]"
      ]
     },
     "metadata": {},
     "output_type": "display_data"
    },
    {
     "data": {
      "application/vnd.jupyter.widget-view+json": {
       "model_id": "16f16baf906045a0bb8d4e9112353e90",
       "version_major": 2,
       "version_minor": 0
      },
      "text/plain": [
       "Map:   0%|          | 0/527 [00:00<?, ? examples/s]"
      ]
     },
     "metadata": {},
     "output_type": "display_data"
    },
    {
     "data": {
      "application/vnd.jupyter.widget-view+json": {
       "model_id": "4dc0bd77c366446ea24679d63ac2c1f9",
       "version_major": 2,
       "version_minor": 0
      },
      "text/plain": [
       "Creating parquet from Arrow format:   0%|          | 0/6 [00:00<?, ?ba/s]"
      ]
     },
     "metadata": {},
     "output_type": "display_data"
    },
    {
     "data": {
      "application/vnd.jupyter.widget-view+json": {
       "model_id": "0a52ab1e6f864bc1b932ff39961fd6bc",
       "version_major": 2,
       "version_minor": 0
      },
      "text/plain": [
       "Map:   0%|          | 0/527 [00:00<?, ? examples/s]"
      ]
     },
     "metadata": {},
     "output_type": "display_data"
    },
    {
     "data": {
      "application/vnd.jupyter.widget-view+json": {
       "model_id": "8e0f6eee0549486ba89e198899b65d5f",
       "version_major": 2,
       "version_minor": 0
      },
      "text/plain": [
       "Creating parquet from Arrow format:   0%|          | 0/6 [00:00<?, ?ba/s]"
      ]
     },
     "metadata": {},
     "output_type": "display_data"
    },
    {
     "data": {
      "application/vnd.jupyter.widget-view+json": {
       "model_id": "0f79977872204793b9a5949e3642cc58",
       "version_major": 2,
       "version_minor": 0
      },
      "text/plain": [
       "Map:   0%|          | 0/527 [00:00<?, ? examples/s]"
      ]
     },
     "metadata": {},
     "output_type": "display_data"
    },
    {
     "data": {
      "application/vnd.jupyter.widget-view+json": {
       "model_id": "ead00df7dfee45e1bbd29d2d02da47b0",
       "version_major": 2,
       "version_minor": 0
      },
      "text/plain": [
       "Creating parquet from Arrow format:   0%|          | 0/6 [00:00<?, ?ba/s]"
      ]
     },
     "metadata": {},
     "output_type": "display_data"
    },
    {
     "data": {
      "application/vnd.jupyter.widget-view+json": {
       "model_id": "b6dfe10113774051adc9af3663c1b71c",
       "version_major": 2,
       "version_minor": 0
      },
      "text/plain": [
       "Map:   0%|          | 0/527 [00:00<?, ? examples/s]"
      ]
     },
     "metadata": {},
     "output_type": "display_data"
    },
    {
     "data": {
      "application/vnd.jupyter.widget-view+json": {
       "model_id": "88d4696567cb4db39906123ffec215d4",
       "version_major": 2,
       "version_minor": 0
      },
      "text/plain": [
       "Creating parquet from Arrow format:   0%|          | 0/6 [00:00<?, ?ba/s]"
      ]
     },
     "metadata": {},
     "output_type": "display_data"
    },
    {
     "data": {
      "application/vnd.jupyter.widget-view+json": {
       "model_id": "51453edd81b142328dcaf5359a88d791",
       "version_major": 2,
       "version_minor": 0
      },
      "text/plain": [
       "Map:   0%|          | 0/527 [00:00<?, ? examples/s]"
      ]
     },
     "metadata": {},
     "output_type": "display_data"
    },
    {
     "data": {
      "application/vnd.jupyter.widget-view+json": {
       "model_id": "1eebfbb2dc1d4713abc4aba9b7033e30",
       "version_major": 2,
       "version_minor": 0
      },
      "text/plain": [
       "Creating parquet from Arrow format:   0%|          | 0/6 [00:00<?, ?ba/s]"
      ]
     },
     "metadata": {},
     "output_type": "display_data"
    },
    {
     "data": {
      "application/vnd.jupyter.widget-view+json": {
       "model_id": "11883c390528492a9819cabf500b6e48",
       "version_major": 2,
       "version_minor": 0
      },
      "text/plain": [
       "Map:   0%|          | 0/527 [00:00<?, ? examples/s]"
      ]
     },
     "metadata": {},
     "output_type": "display_data"
    },
    {
     "data": {
      "application/vnd.jupyter.widget-view+json": {
       "model_id": "e01f46a768c74baba65d2c22b1365e0b",
       "version_major": 2,
       "version_minor": 0
      },
      "text/plain": [
       "Creating parquet from Arrow format:   0%|          | 0/6 [00:00<?, ?ba/s]"
      ]
     },
     "metadata": {},
     "output_type": "display_data"
    },
    {
     "data": {
      "application/vnd.jupyter.widget-view+json": {
       "model_id": "400d6a048f0a4b1ca4210390453c16f9",
       "version_major": 2,
       "version_minor": 0
      },
      "text/plain": [
       "Map:   0%|          | 0/527 [00:00<?, ? examples/s]"
      ]
     },
     "metadata": {},
     "output_type": "display_data"
    },
    {
     "data": {
      "application/vnd.jupyter.widget-view+json": {
       "model_id": "1b357b3df7f1431bb39243b21769f5c4",
       "version_major": 2,
       "version_minor": 0
      },
      "text/plain": [
       "Creating parquet from Arrow format:   0%|          | 0/6 [00:00<?, ?ba/s]"
      ]
     },
     "metadata": {},
     "output_type": "display_data"
    },
    {
     "data": {
      "application/vnd.jupyter.widget-view+json": {
       "model_id": "75a5e76766804879b283a00ef304fa0f",
       "version_major": 2,
       "version_minor": 0
      },
      "text/plain": [
       "Map:   0%|          | 0/527 [00:00<?, ? examples/s]"
      ]
     },
     "metadata": {},
     "output_type": "display_data"
    },
    {
     "data": {
      "application/vnd.jupyter.widget-view+json": {
       "model_id": "3505106fc7bb400aab649885145cb5f4",
       "version_major": 2,
       "version_minor": 0
      },
      "text/plain": [
       "Creating parquet from Arrow format:   0%|          | 0/6 [00:00<?, ?ba/s]"
      ]
     },
     "metadata": {},
     "output_type": "display_data"
    },
    {
     "data": {
      "application/vnd.jupyter.widget-view+json": {
       "model_id": "c82c0f6ad8cd45ec87cdbf8ccb4bde4f",
       "version_major": 2,
       "version_minor": 0
      },
      "text/plain": [
       "Map:   0%|          | 0/527 [00:00<?, ? examples/s]"
      ]
     },
     "metadata": {},
     "output_type": "display_data"
    },
    {
     "data": {
      "application/vnd.jupyter.widget-view+json": {
       "model_id": "0228c4368ce64947b4dc1f50a0ae47a8",
       "version_major": 2,
       "version_minor": 0
      },
      "text/plain": [
       "Creating parquet from Arrow format:   0%|          | 0/6 [00:00<?, ?ba/s]"
      ]
     },
     "metadata": {},
     "output_type": "display_data"
    },
    {
     "data": {
      "application/vnd.jupyter.widget-view+json": {
       "model_id": "06e18de22ad342babe1f6a1eb571efd7",
       "version_major": 2,
       "version_minor": 0
      },
      "text/plain": [
       "Map:   0%|          | 0/527 [00:00<?, ? examples/s]"
      ]
     },
     "metadata": {},
     "output_type": "display_data"
    },
    {
     "data": {
      "application/vnd.jupyter.widget-view+json": {
       "model_id": "6d9682545d504ad7930077f751810280",
       "version_major": 2,
       "version_minor": 0
      },
      "text/plain": [
       "Creating parquet from Arrow format:   0%|          | 0/6 [00:00<?, ?ba/s]"
      ]
     },
     "metadata": {},
     "output_type": "display_data"
    },
    {
     "data": {
      "application/vnd.jupyter.widget-view+json": {
       "model_id": "81b6968d313f4b97bcfab986b53f4933",
       "version_major": 2,
       "version_minor": 0
      },
      "text/plain": [
       "Map:   0%|          | 0/527 [00:00<?, ? examples/s]"
      ]
     },
     "metadata": {},
     "output_type": "display_data"
    },
    {
     "data": {
      "application/vnd.jupyter.widget-view+json": {
       "model_id": "c4fbd52194a848eca212a2febad50bdd",
       "version_major": 2,
       "version_minor": 0
      },
      "text/plain": [
       "Creating parquet from Arrow format:   0%|          | 0/6 [00:00<?, ?ba/s]"
      ]
     },
     "metadata": {},
     "output_type": "display_data"
    },
    {
     "data": {
      "application/vnd.jupyter.widget-view+json": {
       "model_id": "2a28f90e76b049baa4789685eccaaf1c",
       "version_major": 2,
       "version_minor": 0
      },
      "text/plain": [
       "Map:   0%|          | 0/527 [00:00<?, ? examples/s]"
      ]
     },
     "metadata": {},
     "output_type": "display_data"
    },
    {
     "data": {
      "application/vnd.jupyter.widget-view+json": {
       "model_id": "85d71dc6876b4147901527157142350a",
       "version_major": 2,
       "version_minor": 0
      },
      "text/plain": [
       "Creating parquet from Arrow format:   0%|          | 0/6 [00:00<?, ?ba/s]"
      ]
     },
     "metadata": {},
     "output_type": "display_data"
    },
    {
     "data": {
      "application/vnd.jupyter.widget-view+json": {
       "model_id": "22c857c5e7014e948e02ee6110a1dcdf",
       "version_major": 2,
       "version_minor": 0
      },
      "text/plain": [
       "Map:   0%|          | 0/527 [00:00<?, ? examples/s]"
      ]
     },
     "metadata": {},
     "output_type": "display_data"
    },
    {
     "data": {
      "application/vnd.jupyter.widget-view+json": {
       "model_id": "7793d55eb5524617a0407bd6469f7c95",
       "version_major": 2,
       "version_minor": 0
      },
      "text/plain": [
       "Creating parquet from Arrow format:   0%|          | 0/6 [00:00<?, ?ba/s]"
      ]
     },
     "metadata": {},
     "output_type": "display_data"
    },
    {
     "data": {
      "application/vnd.jupyter.widget-view+json": {
       "model_id": "666e550ae7294cd4803388313becc244",
       "version_major": 2,
       "version_minor": 0
      },
      "text/plain": [
       "Map:   0%|          | 0/527 [00:00<?, ? examples/s]"
      ]
     },
     "metadata": {},
     "output_type": "display_data"
    },
    {
     "data": {
      "application/vnd.jupyter.widget-view+json": {
       "model_id": "82f1aba96d204182b023a533a42341df",
       "version_major": 2,
       "version_minor": 0
      },
      "text/plain": [
       "Creating parquet from Arrow format:   0%|          | 0/6 [00:00<?, ?ba/s]"
      ]
     },
     "metadata": {},
     "output_type": "display_data"
    },
    {
     "data": {
      "application/vnd.jupyter.widget-view+json": {
       "model_id": "dc4ca611c68f4199a003410c71e2e3b8",
       "version_major": 2,
       "version_minor": 0
      },
      "text/plain": [
       "Map:   0%|          | 0/527 [00:00<?, ? examples/s]"
      ]
     },
     "metadata": {},
     "output_type": "display_data"
    },
    {
     "data": {
      "application/vnd.jupyter.widget-view+json": {
       "model_id": "ea8751145e964df0b3aae6dc13d9f96d",
       "version_major": 2,
       "version_minor": 0
      },
      "text/plain": [
       "Creating parquet from Arrow format:   0%|          | 0/6 [00:00<?, ?ba/s]"
      ]
     },
     "metadata": {},
     "output_type": "display_data"
    },
    {
     "data": {
      "application/vnd.jupyter.widget-view+json": {
       "model_id": "5be50d3a026843f3970a5936f3456af1",
       "version_major": 2,
       "version_minor": 0
      },
      "text/plain": [
       "Map:   0%|          | 0/527 [00:00<?, ? examples/s]"
      ]
     },
     "metadata": {},
     "output_type": "display_data"
    },
    {
     "data": {
      "application/vnd.jupyter.widget-view+json": {
       "model_id": "4e8d4b6c42ad4e588099f825d5009e84",
       "version_major": 2,
       "version_minor": 0
      },
      "text/plain": [
       "Creating parquet from Arrow format:   0%|          | 0/6 [00:00<?, ?ba/s]"
      ]
     },
     "metadata": {},
     "output_type": "display_data"
    },
    {
     "data": {
      "application/vnd.jupyter.widget-view+json": {
       "model_id": "2eadaf7c1ac948d7bf951f6809e374a4",
       "version_major": 2,
       "version_minor": 0
      },
      "text/plain": [
       "Map:   0%|          | 0/527 [00:00<?, ? examples/s]"
      ]
     },
     "metadata": {},
     "output_type": "display_data"
    },
    {
     "data": {
      "application/vnd.jupyter.widget-view+json": {
       "model_id": "665fe78699c5462ebb4a69d93caf01eb",
       "version_major": 2,
       "version_minor": 0
      },
      "text/plain": [
       "Creating parquet from Arrow format:   0%|          | 0/6 [00:00<?, ?ba/s]"
      ]
     },
     "metadata": {},
     "output_type": "display_data"
    },
    {
     "data": {
      "application/vnd.jupyter.widget-view+json": {
       "model_id": "f6c367241a4b4caaa9f3208541e119a5",
       "version_major": 2,
       "version_minor": 0
      },
      "text/plain": [
       "Map:   0%|          | 0/527 [00:00<?, ? examples/s]"
      ]
     },
     "metadata": {},
     "output_type": "display_data"
    },
    {
     "data": {
      "application/vnd.jupyter.widget-view+json": {
       "model_id": "a61e7a7fe9084751867e68b676d9de74",
       "version_major": 2,
       "version_minor": 0
      },
      "text/plain": [
       "Creating parquet from Arrow format:   0%|          | 0/6 [00:00<?, ?ba/s]"
      ]
     },
     "metadata": {},
     "output_type": "display_data"
    },
    {
     "data": {
      "application/vnd.jupyter.widget-view+json": {
       "model_id": "cded2a1c841246eca81b468325dc05a7",
       "version_major": 2,
       "version_minor": 0
      },
      "text/plain": [
       "Map:   0%|          | 0/527 [00:00<?, ? examples/s]"
      ]
     },
     "metadata": {},
     "output_type": "display_data"
    },
    {
     "data": {
      "application/vnd.jupyter.widget-view+json": {
       "model_id": "35c37ce68d804eed8129e28b8cd544df",
       "version_major": 2,
       "version_minor": 0
      },
      "text/plain": [
       "Creating parquet from Arrow format:   0%|          | 0/6 [00:00<?, ?ba/s]"
      ]
     },
     "metadata": {},
     "output_type": "display_data"
    },
    {
     "data": {
      "text/plain": [
       "CommitInfo(commit_url='https://huggingface.co/datasets/mesolitica/nusantara-audiobook-annotated/commit/55d144d8cd1554c68424fc3e7ff75a5cb23b354a', commit_message='Upload dataset', commit_description='', oid='55d144d8cd1554c68424fc3e7ff75a5cb23b354a', pr_url=None, pr_revision=None, pr_num=None)"
      ]
     },
     "execution_count": 61,
     "metadata": {},
     "output_type": "execute_result"
    }
   ],
   "source": [
    "dataset[0]['train'].push_to_hub('mesolitica/nusantara-audiobook-annotated')"
   ]
  },
  {
   "cell_type": "code",
   "execution_count": null,
   "id": "f0b9c4eb",
   "metadata": {},
   "outputs": [],
   "source": [
    "['Untuk menggunakan perpustakaan Malaya dalam Python, anda perlu memasangnya terlebih dahulu. Anda boleh melakukannya dengan menjalankan arahan berikut dalam terminal atau command prompt anda:\\n\\n```bash\\npip install malaya\\n```\\n\\nSetelah pemasangan selesai, anda boleh mengimport perpustakaan Malaya dan mula menggunakannya dalam kod Python anda. Berikut adalah contoh bagaimana menggunakan perpustakaan Malaya untuk tugas penjanaan teks:\\n\\n```python\\nfrom malaya import Malaya\\n\\n# Inisialisasi objek Malaya\\nmalaya = Malaya()\\n\\n# Hasilkan ayat rawak\\nsentence = malaya.generate_sentence()\\n\\nprint(sentence)\\n```\\n\\nKod ini akan menghasilkan ayat rawak dalam bahasa Malaysia menggunakan perpustakaan Malaya. Anda boleh menyesuaikan parameter seperti panjang ayat dan jenis model yang digunakan untuk menghasilkan teks yang lebih khusus.\\n\\nIngat untuk sentiasa menyemak dokumentasi rasmi perpustakaan untuk mendapatkan maklumat lanjut tentang cara menggunakannya dan ciri-cirinya..']"
   ]
  }
 ],
 "metadata": {
  "kernelspec": {
   "display_name": "python3.10",
   "language": "python",
   "name": "python3.10"
  },
  "language_info": {
   "codemirror_mode": {
    "name": "ipython",
    "version": 3
   },
   "file_extension": ".py",
   "mimetype": "text/x-python",
   "name": "python",
   "nbconvert_exporter": "python",
   "pygments_lexer": "ipython3",
   "version": "3.10.14"
  }
 },
 "nbformat": 4,
 "nbformat_minor": 5
}
