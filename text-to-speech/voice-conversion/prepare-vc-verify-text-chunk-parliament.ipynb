{
 "cells": [
  {
   "cell_type": "code",
   "execution_count": 1,
   "id": "5dac39b9",
   "metadata": {},
   "outputs": [],
   "source": [
    "from glob import glob\n",
    "from tqdm import tqdm\n",
    "from sklearn.feature_extraction.text import CountVectorizer\n",
    "import json\n",
    "import os\n",
    "import mp\n",
    "import re\n",
    "import subprocess\n",
    "import soundfile as sf"
   ]
  },
  {
   "cell_type": "code",
   "execution_count": 2,
   "id": "7c614bdc",
   "metadata": {
    "scrolled": true
   },
   "outputs": [
    {
     "data": {
      "text/plain": [
       "3399"
      ]
     },
     "execution_count": 2,
     "metadata": {},
     "output_type": "execute_result"
    }
   ],
   "source": [
    "files = glob('parlimen-24k-chunk_processed/**/*/*.json', recursive = True)\n",
    "\n",
    "len(files)"
   ]
  },
  {
   "cell_type": "code",
   "execution_count": 3,
   "id": "e0378019",
   "metadata": {},
   "outputs": [],
   "source": [
    "rejected = [\n",
    "    'terima kasih kerana menonton',\n",
    "    'terima kasih',\n",
    "    'thank you for watching',\n",
    "]"
   ]
  },
  {
   "cell_type": "code",
   "execution_count": 4,
   "id": "aec69737",
   "metadata": {},
   "outputs": [],
   "source": [
    "threshold = -18\n",
    "\n",
    "def new_path(f):\n",
    "    f = f.replace('.mp3', '.alignment')\n",
    "    f = f.replace('_processed/', '_processed_alignment/')\n",
    "    return f\n",
    "\n",
    "def new_path_lang(f):\n",
    "    f = f.replace('.mp3', '.language')\n",
    "    f = f.replace('_processed/', '_processed_language/')\n",
    "    return f\n",
    "\n",
    "def chunk(alignment, reject = threshold, minimum_length = 2.0):\n",
    "    alls, temp = [], []\n",
    "    for a in alignment:\n",
    "        if a['score'] <= reject:\n",
    "            if len(temp):\n",
    "                temp[-1]['end'] = a['start']\n",
    "                if (temp[-1]['end'] - temp[0]['start']) >= minimum_length:\n",
    "                    alls.append(temp)\n",
    "                temp = []\n",
    "        else:\n",
    "            temp.append(a)\n",
    "            \n",
    "    if len(temp):\n",
    "        if (temp[-1]['end'] - temp[0]['start']) >= minimum_length:\n",
    "            alls.append(temp)\n",
    "    return alls\n",
    "        \n",
    "def clean(string):\n",
    "    string = re.sub('[^A-Za-z ]+', ' ', string)\n",
    "    string = re.sub(r'[ ]+', ' ', string).strip()\n",
    "    return string.lower()\n",
    "\n",
    "def detect_extra(word):\n",
    "    word = clean(word)\n",
    "    return word in [\n",
    "        'eh', 'ehh', 'oh', 'ohh', 'uhm', 'uhmm',\n",
    "        'um', 'em', 'emm', 'ah', 'ha', 'ok', 'okay',\n",
    "        'so', 'yes', 'no', 'ah', 'aa', 'so', 'uh', 'um', 'eh', 'ha', 'oh', 'ye', 'haa',\n",
    "        'oi', 'ya', 'leh', 'lah', 'haiya', 'hoi', 'haha', 'hahaha',\n",
    "        'then', 'it s'\n",
    "    ]\n",
    "\n",
    "from collections import defaultdict\n",
    "\n",
    "def generate_trigrams(text):\n",
    "    words = text.split()\n",
    "    return list(zip(words, words[1:], words[2:]))\n",
    "\n",
    "def skip_trigrams(text):\n",
    "    trigrams = generate_trigrams(text)\n",
    "    count = defaultdict(int)\n",
    "    total = 0\n",
    "    for t in trigrams:\n",
    "        count[''.join(t)] += 1\n",
    "        total += 1\n",
    "    if len(count.keys()) < 3:\n",
    "        return True\n",
    "    for k, v in count.items():\n",
    "        if (v / total) > 0.2:\n",
    "            return True\n",
    "    return False"
   ]
  },
  {
   "cell_type": "code",
   "execution_count": 5,
   "id": "84bf5a10",
   "metadata": {},
   "outputs": [],
   "source": [
    "!rm -rf parliament-chunk\n",
    "!mkdir parliament-chunk"
   ]
  },
  {
   "cell_type": "code",
   "execution_count": 6,
   "id": "3332d699",
   "metadata": {},
   "outputs": [],
   "source": [
    "def loop(files):\n",
    "    files, _ = files\n",
    "    data = []\n",
    "    for file in tqdm(files):\n",
    "        folder = os.path.split(file)[0]\n",
    "        folder_folder = os.path.split(folder)[1]\n",
    "        filename = file.replace('.json', '')\n",
    "\n",
    "        try:\n",
    "            with open(file) as fopen:\n",
    "                d = json.load(fopen)\n",
    "        except:\n",
    "            continue\n",
    "\n",
    "        for no, obj in enumerate(d):\n",
    "            text = obj[\"text\"].strip()\n",
    "            \n",
    "            rt_ = re.sub('[^a-z ]+', '', text.lower()).strip()\n",
    "            if any([s == rt_ for s in rejected]):\n",
    "                continue\n",
    "            \n",
    "            try:\n",
    "                dense = CountVectorizer(ngram_range = (3,3)).fit_transform([text]).todense()\n",
    "                repeat = (dense > 3).sum() >= 1\n",
    "                if repeat:\n",
    "                    continue\n",
    "            except:\n",
    "                continue\n",
    "            \n",
    "            audio_path = os.path.join(folder, f'{folder_folder}_{no}.mp3')\n",
    "            \n",
    "            if not os.path.exists(audio_path):\n",
    "                continue\n",
    "                \n",
    "            align_path = new_path(audio_path)\n",
    "            \n",
    "            if not os.path.exists(align_path):\n",
    "                continue\n",
    "                \n",
    "            with open(align_path) as fopen:\n",
    "                align = json.load(fopen)\n",
    "                \n",
    "            for a in align:\n",
    "                if detect_extra(a['text']):\n",
    "                    a['score'] = 0.0\n",
    "                \n",
    "            scores = [a for a in align if a['score'] <= threshold]\n",
    "            if not len(scores):\n",
    "                continue\n",
    "            \n",
    "            chunks = chunk(align)\n",
    "            if len(chunks):\n",
    "                y, sr = sf.read(audio_path)\n",
    "                for no, c in enumerate(chunks):\n",
    "                    if len(c) == len(align):\n",
    "                        continue\n",
    "                    try:\n",
    "                        \n",
    "                        words = [c_['text'] for c_ in c if len(c_['text']) <= 1]\n",
    "                        if (len(words) / len(c)) > 0.5:\n",
    "                            print(c)\n",
    "                            continue\n",
    "                        \n",
    "                        skip = False\n",
    "                        \n",
    "                        for c_ in c:\n",
    "                            if (c_['end'] - c_['start']) >= 2:\n",
    "                                skip = True\n",
    "                                break\n",
    "                        if skip:\n",
    "                            continue\n",
    "                        \n",
    "                        for i in range(1, len(c), 1):\n",
    "                            if (c[i]['start'] - c[i - 1]['end']) >= 2:\n",
    "                                skip = True\n",
    "                                break\n",
    "                        if skip:\n",
    "                            continue\n",
    "                            \n",
    "                        t = ' '.join([c_['text'] for c_ in c])\n",
    "                        start = c[0]['start']\n",
    "                        end = c[-1]['end']\n",
    "                        \n",
    "                        a = audio_path.replace('/', '_').replace('.mp3', '') \n",
    "                        a = os.path.join('parliament-chunk', f'{a}_{no}.mp3')\n",
    "                        if not os.path.exists(a):\n",
    "                            sf.write(a, y[int(sr * start): int(sr * end)], sr)\n",
    "\n",
    "                        data.append({\n",
    "                            'audio': a,\n",
    "                            'transcription': t,\n",
    "                        })\n",
    "                    except:\n",
    "                        pass\n",
    "    \n",
    "    return data"
   ]
  },
  {
   "cell_type": "code",
   "execution_count": 7,
   "id": "96b87089",
   "metadata": {},
   "outputs": [
    {
     "name": "stderr",
     "output_type": "stream",
     "text": [
      "100%|███████████████████████████████████████████████████████████████████████████████████████████| 1/1 [00:06<00:00,  6.99s/it]\n"
     ]
    }
   ],
   "source": [
    "d = loop((files[-1:], 0))"
   ]
  },
  {
   "cell_type": "code",
   "execution_count": 8,
   "id": "7605643e",
   "metadata": {},
   "outputs": [
    {
     "data": {
      "text/plain": [
       "190"
      ]
     },
     "execution_count": 8,
     "metadata": {},
     "output_type": "execute_result"
    }
   ],
   "source": [
    "len(d)"
   ]
  },
  {
   "cell_type": "code",
   "execution_count": 9,
   "id": "49968a9c",
   "metadata": {
    "scrolled": true
   },
   "outputs": [
    {
     "data": {
      "text/plain": [
       "{'audio': 'parliament-chunk/parlimen-24k-chunk_processed_parlimen-24k-LANGSUNG ： Persidangan Dewan Rakyat 3 Ogos 2022 ｜ Sesi Petang [9hnsHzRGtlY]_001_parlimen-24k-LANGSUNG ： Persidangan Dewan Rakyat 3 Ogos 2022 ｜ Sesi Petang [9hnsHzRGtlY]_001_252_0.mp3',\n",
       " 'transcription': 'Kederaan yang membawa barang-barang pergi keluar'}"
      ]
     },
     "execution_count": 9,
     "metadata": {},
     "output_type": "execute_result"
    }
   ],
   "source": [
    "d[-20]"
   ]
  },
  {
   "cell_type": "code",
   "execution_count": 10,
   "id": "3b91abda",
   "metadata": {},
   "outputs": [
    {
     "data": {
      "text/html": [
       "\n",
       "                <audio  controls=\"controls\" >\n",
       "                    <source src=\"data:audio/mpeg;base64,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\" type=\"audio/mpeg\" />\n",
       "                    Your browser does not support the audio element.\n",
       "                </audio>\n",
       "              "
      ],
      "text/plain": [
       "<IPython.lib.display.Audio object>"
      ]
     },
     "execution_count": 10,
     "metadata": {},
     "output_type": "execute_result"
    }
   ],
   "source": [
    "import IPython.display as ipd\n",
    "ipd.Audio(d[-20]['audio'])"
   ]
  },
  {
   "cell_type": "code",
   "execution_count": 11,
   "id": "e054b55a",
   "metadata": {
    "scrolled": true
   },
   "outputs": [
    {
     "name": "stderr",
     "output_type": "stream",
     "text": [
      " 12%|██████████                                                                              | 39/339 [05:35<43:20,  8.67s/it]"
     ]
    },
    {
     "name": "stdout",
     "output_type": "stream",
     "text": [
      "[{'start': 2.92, 'end': 3.94, 'text': '51', 'score': 0.0}, {'start': 3.94, 'end': 4.0, 'text': '5', 'score': -7.700920104980469e-05}, {'start': 4.6, 'end': 4.84, 'text': 'kurungan', 'score': -4.288383483886719}, {'start': 4.86, 'end': 4.88, 'text': '1', 'score': 0.0}, {'start': 4.94, 'end': 6.02, 'text': 'A', 'score': 0.0}]\n"
     ]
    },
    {
     "name": "stderr",
     "output_type": "stream",
     "text": [
      " 15%|█████████████▏                                                                          | 51/339 [06:17<39:09,  8.16s/it]"
     ]
    },
    {
     "name": "stdout",
     "output_type": "stream",
     "text": [
      "[{'start': 1.66, 'end': 1.74, 'text': 'dari', 'score': -7.1641693115234375}, {'start': 1.96, 'end': 2.1, 'text': 'Great', 'score': -8.032257080078125}, {'start': 2.14, 'end': 2.46, 'text': 'Britain,', 'score': -12.228103637695312}, {'start': 3.02, 'end': 3.02, 'text': 'C', 'score': 0.0}, {'start': 3.34, 'end': 3.34, 'text': 'O', 'score': 0.0}, {'start': 3.96, 'end': 3.96, 'text': 'L', 'score': 0.0}, {'start': 4.08, 'end': 4.08, 'text': 'O', 'score': 0.0}, {'start': 4.32, 'end': 4.32, 'text': 'U', 'score': 0.0}, {'start': 4.58, 'end': 4.72, 'text': 'R.', 'score': -0.23968124389648438}]\n"
     ]
    },
    {
     "name": "stderr",
     "output_type": "stream",
     "text": [
      " 61%|█████████████████████████████████████████████████████▍                                 | 208/339 [27:50<15:32,  7.12s/it]"
     ]
    },
    {
     "name": "stdout",
     "output_type": "stream",
     "text": [
      "[{'start': 16.58, 'end': 16.98, 'text': '2', 'score': 0.0}, {'start': 18.0, 'end': 18.34, 'text': 'kurungan', 'score': -1.6227827072143555}, {'start': 18.36, 'end': 18.88, 'text': '9', 'score': 0.0}]\n"
     ]
    },
    {
     "name": "stderr",
     "output_type": "stream",
     "text": [
      "100%|███████████████████████████████████████████████████████████████████████████████████████| 339/339 [34:16<00:00,  6.07s/it]\n",
      "100%|███████████████████████████████████████████████████████████████████████████████████████████| 9/9 [01:00<00:00,  6.74s/it]\n",
      "100%|███████████████████████████████████████████████████████████████████████████████████████| 339/339 [35:50<00:00,  6.34s/it]\n",
      "100%|███████████████████████████████████████████████████████████████████████████████████████| 339/339 [35:53<00:00,  6.35s/it]\n",
      "100%|███████████████████████████████████████████████████████████████████████████████████████| 339/339 [36:32<00:00,  6.47s/it]\n",
      "100%|███████████████████████████████████████████████████████████████████████████████████████| 339/339 [36:36<00:00,  6.48s/it]\n",
      "100%|███████████████████████████████████████████████████████████████████████████████████████| 339/339 [36:45<00:00,  6.51s/it]\n",
      "100%|███████████████████████████████████████████████████████████████████████████████████████| 339/339 [37:32<00:00,  6.64s/it]\n",
      "100%|███████████████████████████████████████████████████████████████████████████████████████| 339/339 [38:03<00:00,  6.74s/it]\n",
      "100%|███████████████████████████████████████████████████████████████████████████████████████| 339/339 [38:27<00:00,  6.81s/it]\n",
      "100%|███████████████████████████████████████████████████████████████████████████████████████| 339/339 [39:14<00:00,  6.95s/it]\n"
     ]
    }
   ],
   "source": [
    "data = mp.multiprocessing(files, loop, cores = 10)"
   ]
  },
  {
   "cell_type": "code",
   "execution_count": 12,
   "id": "7efac780",
   "metadata": {},
   "outputs": [
    {
     "data": {
      "text/plain": [
       "327013"
      ]
     },
     "execution_count": 12,
     "metadata": {},
     "output_type": "execute_result"
    }
   ],
   "source": [
    "len(data)"
   ]
  },
  {
   "cell_type": "code",
   "execution_count": 13,
   "id": "8d711233",
   "metadata": {},
   "outputs": [
    {
     "name": "stderr",
     "output_type": "stream",
     "text": [
      "100%|████████████████████████████████████████████████████████████████████████████| 327013/327013 [00:00<00:00, 2936204.05it/s]\n"
     ]
    },
    {
     "data": {
      "text/plain": [
       "defaultdict(int, {'parliament-chunk/parlimen-24k-chunk': 327013})"
      ]
     },
     "execution_count": 13,
     "metadata": {},
     "output_type": "execute_result"
    }
   ],
   "source": [
    "from collections import defaultdict\n",
    "\n",
    "uniques = defaultdict(int)\n",
    "for d in tqdm(data):\n",
    "    uniques[d['audio'].split('_processed')[0]] += 1\n",
    "    \n",
    "uniques"
   ]
  },
  {
   "cell_type": "code",
   "execution_count": 14,
   "id": "5e5a20a6",
   "metadata": {},
   "outputs": [
    {
     "data": {
      "text/html": [
       "<div>\n",
       "<style scoped>\n",
       "    .dataframe tbody tr th:only-of-type {\n",
       "        vertical-align: middle;\n",
       "    }\n",
       "\n",
       "    .dataframe tbody tr th {\n",
       "        vertical-align: top;\n",
       "    }\n",
       "\n",
       "    .dataframe thead th {\n",
       "        text-align: right;\n",
       "    }\n",
       "</style>\n",
       "<table border=\"1\" class=\"dataframe\">\n",
       "  <thead>\n",
       "    <tr style=\"text-align: right;\">\n",
       "      <th></th>\n",
       "      <th>audio</th>\n",
       "      <th>transcription</th>\n",
       "    </tr>\n",
       "  </thead>\n",
       "  <tbody>\n",
       "    <tr>\n",
       "      <th>0</th>\n",
       "      <td>parliament-chunk/parlimen-24k-chunk_processed_...</td>\n",
       "      <td>Segala puji bagi Allah dibuka majlis dewan rak...</td>\n",
       "    </tr>\n",
       "    <tr>\n",
       "      <th>1</th>\n",
       "      <td>parliament-chunk/parlimen-24k-chunk_processed_...</td>\n",
       "      <td>yang bersifat maha hikmat, limpah keadilan, ya...</td>\n",
       "    </tr>\n",
       "    <tr>\n",
       "      <th>2</th>\n",
       "      <td>parliament-chunk/parlimen-24k-chunk_processed_...</td>\n",
       "      <td>Mujuk kepada perkara teratai, saya ingin menar...</td>\n",
       "    </tr>\n",
       "    <tr>\n",
       "      <th>3</th>\n",
       "      <td>parliament-chunk/parlimen-24k-chunk_processed_...</td>\n",
       "      <td>Pertanian dan Industri Makan berhubung</td>\n",
       "    </tr>\n",
       "    <tr>\n",
       "      <th>4</th>\n",
       "      <td>parliament-chunk/parlimen-24k-chunk_processed_...</td>\n",
       "      <td>Yang Berhormat Rumpin. Sekarang, saya jemput Y...</td>\n",
       "    </tr>\n",
       "  </tbody>\n",
       "</table>\n",
       "</div>"
      ],
      "text/plain": [
       "                                               audio  \\\n",
       "0  parliament-chunk/parlimen-24k-chunk_processed_...   \n",
       "1  parliament-chunk/parlimen-24k-chunk_processed_...   \n",
       "2  parliament-chunk/parlimen-24k-chunk_processed_...   \n",
       "3  parliament-chunk/parlimen-24k-chunk_processed_...   \n",
       "4  parliament-chunk/parlimen-24k-chunk_processed_...   \n",
       "\n",
       "                                       transcription  \n",
       "0  Segala puji bagi Allah dibuka majlis dewan rak...  \n",
       "1  yang bersifat maha hikmat, limpah keadilan, ya...  \n",
       "2  Mujuk kepada perkara teratai, saya ingin menar...  \n",
       "3             Pertanian dan Industri Makan berhubung  \n",
       "4  Yang Berhormat Rumpin. Sekarang, saya jemput Y...  "
      ]
     },
     "execution_count": 14,
     "metadata": {},
     "output_type": "execute_result"
    }
   ],
   "source": [
    "import pandas as pd\n",
    "\n",
    "df = pd.DataFrame(data)\n",
    "df.head()"
   ]
  },
  {
   "cell_type": "code",
   "execution_count": 15,
   "id": "8f4993ac",
   "metadata": {},
   "outputs": [],
   "source": [
    "df.to_parquet('verify-text-chunk-parliament.parquet')"
   ]
  },
  {
   "cell_type": "code",
   "execution_count": 16,
   "id": "5774ef42",
   "metadata": {},
   "outputs": [
    {
     "name": "stderr",
     "output_type": "stream",
     "text": [
      "No files have been modified since last commit. Skipping to prevent empty commit.\n"
     ]
    },
    {
     "data": {
      "text/plain": [
       "CommitInfo(commit_url='https://huggingface.co/datasets/mesolitica/Malaysian-Voice-Conversion/commit/c5a7937e39dff59f1233e47ece68de758add7269', commit_message='Upload data/parliament_chunk-00000-of-00001.parquet with huggingface_hub', commit_description='', oid='c5a7937e39dff59f1233e47ece68de758add7269', pr_url=None, repo_url=RepoUrl('https://huggingface.co/datasets/mesolitica/Malaysian-Voice-Conversion', endpoint='https://huggingface.co', repo_type='dataset', repo_id='mesolitica/Malaysian-Voice-Conversion'), pr_revision=None, pr_num=None)"
      ]
     },
     "execution_count": 16,
     "metadata": {},
     "output_type": "execute_result"
    }
   ],
   "source": [
    "from huggingface_hub import HfApi\n",
    "api = HfApi()\n",
    "api.upload_file(\n",
    "    path_or_fileobj=\"verify-text-chunk-parliament.parquet\",\n",
    "    path_in_repo=\"data/parliament_chunk-00000-of-00001.parquet\",\n",
    "    repo_id=\"mesolitica/Malaysian-Voice-Conversion\",\n",
    "    repo_type=\"dataset\",\n",
    ")\n"
   ]
  },
  {
   "cell_type": "code",
   "execution_count": null,
   "id": "834452d6",
   "metadata": {},
   "outputs": [],
   "source": []
  }
 ],
 "metadata": {
  "kernelspec": {
   "display_name": "python3.10",
   "language": "python",
   "name": "python3.10"
  },
  "language_info": {
   "codemirror_mode": {
    "name": "ipython",
    "version": 3
   },
   "file_extension": ".py",
   "mimetype": "text/x-python",
   "name": "python",
   "nbconvert_exporter": "python",
   "pygments_lexer": "ipython3",
   "version": "3.10.15"
  }
 },
 "nbformat": 4,
 "nbformat_minor": 5
}
