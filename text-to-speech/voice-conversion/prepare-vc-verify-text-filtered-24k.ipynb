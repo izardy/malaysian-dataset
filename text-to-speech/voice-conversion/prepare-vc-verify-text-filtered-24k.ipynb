{
 "cells": [
  {
   "cell_type": "code",
   "execution_count": 1,
   "id": "5dac39b9",
   "metadata": {},
   "outputs": [],
   "source": [
    "from glob import glob\n",
    "from tqdm import tqdm\n",
    "from sklearn.feature_extraction.text import CountVectorizer\n",
    "import json\n",
    "import os\n",
    "import mp\n",
    "import re\n",
    "import subprocess\n",
    "import soundfile as sf"
   ]
  },
  {
   "cell_type": "code",
   "execution_count": 2,
   "id": "7c614bdc",
   "metadata": {
    "scrolled": true
   },
   "outputs": [
    {
     "data": {
      "text/plain": [
       "103307"
      ]
     },
     "execution_count": 2,
     "metadata": {},
     "output_type": "execute_result"
    }
   ],
   "source": [
    "files = glob('filtered-24k_processed/**/*/*.json', recursive = True)\n",
    "# files.extend(glob('/home/husein/ssd3/dialects_processed/**/*/*.json', recursive = True))\n",
    "\n",
    "len(files)"
   ]
  },
  {
   "cell_type": "code",
   "execution_count": 3,
   "id": "e0378019",
   "metadata": {},
   "outputs": [],
   "source": [
    "rejected = [\n",
    "    'terima kasih kerana menonton',\n",
    "    'terima kasih',\n",
    "    'thank you for watching',\n",
    "]"
   ]
  },
  {
   "cell_type": "code",
   "execution_count": 4,
   "id": "f64ecec6",
   "metadata": {},
   "outputs": [],
   "source": [
    "threshold = -18\n",
    "\n",
    "def new_path(f):\n",
    "    f = f.replace('.mp3', '.alignment')\n",
    "    f = f.replace('_processed/', '_processed_alignment/')\n",
    "    return f\n",
    "\n",
    "def new_path_lang(f):\n",
    "    f = f.replace('.mp3', '.language')\n",
    "    f = f.replace('_processed/', '_processed_language/')\n",
    "    return f\n",
    "\n",
    "def chunk(alignment, reject = threshold, minimum_length = 2.0):\n",
    "    alls, temp = [], []\n",
    "    for a in alignment:\n",
    "        if a['score'] <= reject:\n",
    "            if len(temp):\n",
    "                temp[-1]['end'] = a['start']\n",
    "                if (temp[-1]['end'] - temp[0]['start']) >= minimum_length:\n",
    "                    alls.append(temp)\n",
    "                temp = []\n",
    "        else:\n",
    "            temp.append(a)\n",
    "            \n",
    "    if len(temp):\n",
    "        if (temp[-1]['end'] - temp[0]['start']) >= minimum_length:\n",
    "            alls.append(temp)\n",
    "    return alls\n",
    "        \n",
    "def clean(string):\n",
    "    string = re.sub('[^A-Za-z ]+', ' ', string)\n",
    "    string = re.sub(r'[ ]+', ' ', string).strip()\n",
    "    return string.lower()\n",
    "\n",
    "def detect_extra(word):\n",
    "    word = clean(word)\n",
    "    return word in [\n",
    "        'eh', 'ehh', 'oh', 'ohh', 'uhm', 'uhmm',\n",
    "        'um', 'em', 'emm', 'ah', 'ha', 'ok', 'okay',\n",
    "        'so', 'yes', 'no', 'ah', 'aa', 'so', 'uh', 'um', 'eh', 'ha', 'oh', 'ye', 'haa',\n",
    "        'oi', 'ya', 'leh', 'lah', 'haiya', 'hoi', 'haha', 'hahaha',\n",
    "        'then', 'it s'\n",
    "    ]\n",
    "\n",
    "from collections import defaultdict\n",
    "\n",
    "def generate_trigrams(text):\n",
    "    words = text.split()\n",
    "    return list(zip(words, words[1:], words[2:]))\n",
    "\n",
    "def skip_trigrams(text):\n",
    "    trigrams = generate_trigrams(text)\n",
    "    count = defaultdict(int)\n",
    "    total = 0\n",
    "    for t in trigrams:\n",
    "        count[''.join(t)] += 1\n",
    "        total += 1\n",
    "    if len(count.keys()) < 3:\n",
    "        return True\n",
    "    for k, v in count.items():\n",
    "        if (v / total) > 0.2:\n",
    "            return True\n",
    "    return False"
   ]
  },
  {
   "cell_type": "code",
   "execution_count": 5,
   "id": "7491c986",
   "metadata": {},
   "outputs": [],
   "source": [
    "!rm -rf filtered-24k-chunk\n",
    "!mkdir filtered-24k-chunk"
   ]
  },
  {
   "cell_type": "code",
   "execution_count": 6,
   "id": "dfc09bb5",
   "metadata": {},
   "outputs": [],
   "source": [
    "def loop(files):\n",
    "    files, _ = files\n",
    "    data = []\n",
    "    for file in tqdm(files):\n",
    "        folder = os.path.split(file)[0]\n",
    "        folder_folder = os.path.split(folder)[1]\n",
    "        filename = file.replace('.json', '')\n",
    "\n",
    "        try:\n",
    "            with open(file) as fopen:\n",
    "                d = json.load(fopen)\n",
    "        except:\n",
    "            continue\n",
    "\n",
    "        for no, obj in enumerate(d):\n",
    "            text = obj[\"text\"].strip()\n",
    "            \n",
    "            rt_ = re.sub('[^a-z ]+', '', text.lower()).strip()\n",
    "            if any([s == rt_ for s in rejected]):\n",
    "                continue\n",
    "            \n",
    "            try:\n",
    "                dense = CountVectorizer(ngram_range = (3,3)).fit_transform([text]).todense()\n",
    "                repeat = (dense > 3).sum() >= 1\n",
    "                if repeat:\n",
    "                    continue\n",
    "            except:\n",
    "                continue\n",
    "            \n",
    "            audio_path = os.path.join(folder, f'{folder_folder}_{no}.mp3')\n",
    "            \n",
    "            if not os.path.exists(audio_path):\n",
    "                continue\n",
    "                \n",
    "            align_path = new_path(audio_path)\n",
    "            \n",
    "            if not os.path.exists(align_path):\n",
    "                continue\n",
    "                \n",
    "            with open(align_path) as fopen:\n",
    "                align = json.load(fopen)\n",
    "                \n",
    "            for a in align:\n",
    "                if detect_extra(a['text']):\n",
    "                    a['score'] = 0.0\n",
    "                \n",
    "            scores = [a for a in align if a['score'] <= threshold]\n",
    "            if not len(scores):\n",
    "                continue\n",
    "            \n",
    "            chunks = chunk(align)\n",
    "            if len(chunks):\n",
    "                y, sr = sf.read(audio_path)\n",
    "                for no, c in enumerate(chunks):\n",
    "                    if len(c) == len(align):\n",
    "                        continue\n",
    "                    try:\n",
    "                        \n",
    "                        words = [c_['text'] for c_ in c if len(c_['text']) <= 1]\n",
    "                        if (len(words) / len(c)) > 0.5:\n",
    "                            print(c)\n",
    "                            continue\n",
    "                        \n",
    "                        skip = False\n",
    "                        \n",
    "                        for c_ in c:\n",
    "                            if (c_['end'] - c_['start']) >= 2:\n",
    "                                skip = True\n",
    "                                break\n",
    "                        if skip:\n",
    "                            continue\n",
    "                        \n",
    "                        for i in range(1, len(c), 1):\n",
    "                            if (c[i]['start'] - c[i - 1]['end']) >= 2:\n",
    "                                skip = True\n",
    "                                break\n",
    "                        if skip:\n",
    "                            continue\n",
    "                            \n",
    "                        t = ' '.join([c_['text'] for c_ in c])\n",
    "                        start = c[0]['start']\n",
    "                        end = c[-1]['end']\n",
    "                        \n",
    "                        a = audio_path.replace('/', '_').replace('.mp3', '') \n",
    "                        a = os.path.join('filtered-24k-chunk', f'{a}_{no}.mp3')\n",
    "                        if not os.path.exists(a):\n",
    "                            sf.write(a, y[int(sr * start): int(sr * end)], sr)\n",
    "\n",
    "                        data.append({\n",
    "                            'audio': a,\n",
    "                            'transcription': t,\n",
    "                        })\n",
    "                    except:\n",
    "                        pass\n",
    "    \n",
    "    return data"
   ]
  },
  {
   "cell_type": "code",
   "execution_count": 7,
   "id": "96b87089",
   "metadata": {},
   "outputs": [
    {
     "name": "stderr",
     "output_type": "stream",
     "text": [
      "100%|███████████████████████████████████████████████████████████████████████████████████████| 100/100 [00:45<00:00,  2.18it/s]\n"
     ]
    }
   ],
   "source": [
    "d = loop((files[-100:], 0))"
   ]
  },
  {
   "cell_type": "code",
   "execution_count": 8,
   "id": "7605643e",
   "metadata": {},
   "outputs": [
    {
     "data": {
      "text/plain": [
       "757"
      ]
     },
     "execution_count": 8,
     "metadata": {},
     "output_type": "execute_result"
    }
   ],
   "source": [
    "len(d)"
   ]
  },
  {
   "cell_type": "code",
   "execution_count": 9,
   "id": "49968a9c",
   "metadata": {},
   "outputs": [
    {
     "data": {
      "text/plain": [
       "{'audio': 'filtered-24k-chunk/filtered-24k_processed_01850-8_01850-8_76_1.mp3',\n",
       " 'transcription': 'ini, uh, isyrak yang terakhir saya akan bagi, uh,'}"
      ]
     },
     "execution_count": 9,
     "metadata": {},
     "output_type": "execute_result"
    }
   ],
   "source": [
    "d[-3]"
   ]
  },
  {
   "cell_type": "code",
   "execution_count": 10,
   "id": "3b91abda",
   "metadata": {},
   "outputs": [
    {
     "data": {
      "text/html": [
       "\n",
       "                <audio  controls=\"controls\" >\n",
       "                    <source src=\"data:audio/mpeg;base64,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\" type=\"audio/mpeg\" />\n",
       "                    Your browser does not support the audio element.\n",
       "                </audio>\n",
       "              "
      ],
      "text/plain": [
       "<IPython.lib.display.Audio object>"
      ]
     },
     "execution_count": 10,
     "metadata": {},
     "output_type": "execute_result"
    }
   ],
   "source": [
    "import IPython.display as ipd\n",
    "ipd.Audio(d[-3]['audio'])"
   ]
  },
  {
   "cell_type": "code",
   "execution_count": 11,
   "id": "e054b55a",
   "metadata": {
    "scrolled": true
   },
   "outputs": [
    {
     "name": "stderr",
     "output_type": "stream",
     "text": [
      "  1%|▍                                                                                  | 116/20661 [02:04<6:54:02,  1.21s/it]"
     ]
    },
    {
     "name": "stdout",
     "output_type": "stream",
     "text": [
      "[{'start': 3.48, 'end': 3.52, 'text': '颜', 'score': -13.02734375}, {'start': 3.56, 'end': 3.62, 'text': '颜', 'score': -8.6419677734375}, {'start': 3.66, 'end': 3.7, 'text': '颜', 'score': -14.27734375}, {'start': 3.74, 'end': 3.78, 'text': '颜', 'score': -12.08984375}, {'start': 3.82, 'end': 3.86, 'text': '颜', 'score': -17.04296875}, {'start': 3.92, 'end': 4.02, 'text': '颜', 'score': -9.484573364257812}, {'start': 4.06, 'end': 4.1, 'text': '颜', 'score': -5.61328125}, {'start': 4.14, 'end': 4.22, 'text': '颜', 'score': -8.966827392578125}, {'start': 4.26, 'end': 4.36, 'text': '颜', 'score': -8.90606689453125}, {'start': 4.4, 'end': 4.46, 'text': '颜', 'score': -11.209228515625}, {'start': 4.52, 'end': 4.6, 'text': '颜', 'score': -9.453086853027344}, {'start': 4.66, 'end': 4.74, 'text': '颜', 'score': -9.673635482788086}, {'start': 4.78, 'end': 4.82, 'text': '颜', 'score': -16.50390625}, {'start': 4.86, 'end': 4.94, 'text': '颜', 'score': -6.964752197265625}, {'start': 4.98, 'end': 5.02, 'text': '颜', 'score': -9.564453125}, {'start': 5.1, 'end': 5.14, 'text': '颜', 'score': -8.241455078125}, {'start': 5.18, 'end': 5.24, 'text': '颜', 'score': -11.0625}, {'start': 5.28, 'end': 5.32, 'text': '颜', 'score': -10.3671875}, {'start': 5.36, 'end': 5.42, 'text': '颜', 'score': -10.3485107421875}, {'start': 5.46, 'end': 5.54, 'text': '颜', 'score': -10.65435791015625}, {'start': 5.58, 'end': 5.68, 'text': '颜', 'score': -8.767119407653809}, {'start': 6.06, 'end': 6.28, 'text': '颜', 'score': -9.909004211425781}]\n",
      "[{'start': 10.22, 'end': 10.32, 'text': '颜', 'score': -9.558403015136719}, {'start': 10.36, 'end': 10.4, 'text': '颜', 'score': -6.234375}, {'start': 10.44, 'end': 10.52, 'text': '颜', 'score': -8.822998046875}, {'start': 10.58, 'end': 10.64, 'text': '颜', 'score': -8.91278076171875}, {'start': 10.68, 'end': 10.74, 'text': '颜', 'score': -13.945358276367188}, {'start': 10.8, 'end': 10.84, 'text': '颜', 'score': -7.1171875}, {'start': 10.9, 'end': 10.96, 'text': '颜', 'score': -4.2559814453125}, {'start': 11.02, 'end': 11.14, 'text': '颜', 'score': -14.751583099365234}, {'start': 11.18, 'end': 11.22, 'text': '颜', 'score': -8.61279296875}, {'start': 11.26, 'end': 11.3, 'text': '颜', 'score': -17.75390625}, {'start': 11.38, 'end': 11.42, 'text': '颜', 'score': -16.64453125}, {'start': 11.46, 'end': 11.5, 'text': '颜', 'score': -13.5234375}, {'start': 11.56, 'end': 11.62, 'text': '颜', 'score': -9.050155639648438}, {'start': 11.68, 'end': 11.78, 'text': '颜', 'score': -8.641858100891113}, {'start': 11.84, 'end': 11.96, 'text': '颜', 'score': -11.988922119140625}, {'start': 12.02, 'end': 12.08, 'text': '颜', 'score': -7.3703460693359375}, {'start': 12.12, 'end': 12.18, 'text': '颜', 'score': -10.44268798828125}, {'start': 12.24, 'end': 12.36, 'text': '颜', 'score': -9.333295822143555}, {'start': 12.4, 'end': 12.52, 'text': '颜', 'score': -16.124801635742188}]\n"
     ]
    },
    {
     "name": "stderr",
     "output_type": "stream",
     "text": [
      " 21%|█████████████████▍                                                                | 4397/20661 [44:33<2:42:52,  1.66it/s]"
     ]
    },
    {
     "name": "stdout",
     "output_type": "stream",
     "text": [
      "[{'start': 0.32, 'end': 0.32, 'text': 'S', 'score': 0.0}, {'start': 0.94, 'end': 0.94, 'text': 'O', 'score': 0.0}, {'start': 1.32, 'end': 1.32, 'text': 'U', 'score': 0.0}, {'start': 2.02, 'end': 2.02, 'text': 'F', 'score': 0.0}, {'start': 2.42, 'end': 2.42, 'text': 'F', 'score': 0.0}, {'start': 2.82, 'end': 2.82, 'text': 'L', 'score': 0.0}, {'start': 2.96, 'end': 2.96, 'text': 'E.', 'score': 0.0}, {'start': 3.34, 'end': 3.76, 'text': 'Pinky.', 'score': -8.088783264160156}, {'start': 4.86, 'end': 4.98, 'text': 'Dia', 'score': -1.1874074935913086}]\n"
     ]
    },
    {
     "name": "stderr",
     "output_type": "stream",
     "text": [
      " 53%|█████████████████████████████████████████▋                                     | 10888/20661 [1:31:33<1:30:10,  1.81it/s]"
     ]
    },
    {
     "name": "stdout",
     "output_type": "stream",
     "text": [
      "[{'start': 0.08, 'end': 0.2, 'text': 'And', 'score': -8.619319915771484}, {'start': 0.32, 'end': 0.76, 'text': 'business,', 'score': -11.76527214050293}, {'start': 1.04, 'end': 1.04, 'text': 'M', 'score': 0.0}, {'start': 1.18, 'end': 1.18, 'text': 'G', 'score': 0.0}, {'start': 1.72, 'end': 1.72, 'text': 'S', 'score': 0.0}, {'start': 1.9, 'end': 1.9, 'text': 'E', 'score': 0.0}, {'start': 2.08, 'end': 2.4, 'text': 'B,', 'score': 0.0}]\n"
     ]
    },
    {
     "name": "stderr",
     "output_type": "stream",
     "text": [
      " 63%|█████████████████████████████████████████████████▋                             | 12987/20661 [1:40:17<1:00:23,  2.12it/s]"
     ]
    },
    {
     "name": "stdout",
     "output_type": "stream",
     "text": [
      "[{'start': 0.08, 'end': 0.08, 'text': 'I', 'score': 0.0}, {'start': 0.14, 'end': 0.14, 'text': 'P', 'score': 0.0}, {'start': 0.3, 'end': 0.3, 'text': 'T', 'score': 0.0}, {'start': 0.52, 'end': 0.52, 'text': 'A', 'score': 0.0}, {'start': 0.7, 'end': 0.88, 'text': 'atau', 'score': -0.19950592517852783}, {'start': 1.02, 'end': 1.02, 'text': 'I', 'score': 0.0}, {'start': 1.1, 'end': 1.1, 'text': 'P', 'score': 0.0}, {'start': 1.22, 'end': 1.22, 'text': 'T', 'score': 0.0}, {'start': 1.56, 'end': 1.56, 'text': 'S', 'score': 0.0}, {'start': 1.8, 'end': 1.96, 'text': 'untuk', 'score': -0.46672284603118896}, {'start': 2.02, 'end': 2.22, 'text': 'pulang', 'score': -0.0760965347290039}, {'start': 2.26, 'end': 2.3, 'text': 'ke', 'score': -0.02320098876953125}, {'start': 2.38, 'end': 2.76, 'text': 'kampung', 'score': -0.3110448122024536}, {'start': 2.86, 'end': 2.96, 'text': 'dan', 'score': -0.013359904289245605}, {'start': 3.14, 'end': 3.94, 'text': 'berkemungkinan', 'score': -2.1175222396850586}]\n"
     ]
    },
    {
     "name": "stderr",
     "output_type": "stream",
     "text": [
      " 64%|██████████████████████████████████████████████████▌                            | 13238/20661 [1:48:36<1:08:13,  1.81it/s]"
     ]
    },
    {
     "name": "stdout",
     "output_type": "stream",
     "text": [
      "[{'start': 5.8, 'end': 8.48, 'text': '.', 'score': 0.0}]\n"
     ]
    },
    {
     "name": "stderr",
     "output_type": "stream",
     "text": [
      " 72%|██████████████████████████████████████████████████████████                       | 14812/20661 [1:51:38<30:13,  3.23it/s]"
     ]
    },
    {
     "name": "stdout",
     "output_type": "stream",
     "text": [
      "[{'start': 4.0, 'end': 4.94, 'text': 'rupiah.', 'score': -1.654960036277771}, {'start': 5.02, 'end': 5.02, 'text': 'R', 'score': 0.0}, {'start': 5.22, 'end': 5.22, 'text': 'U', 'score': 0.0}, {'start': 5.38, 'end': 5.38, 'text': 'P', 'score': 0.0}, {'start': 5.46, 'end': 5.46, 'text': 'E', 'score': 0.0}, {'start': 5.64, 'end': 5.64, 'text': 'E.', 'score': 0.0}, {'start': 6.54, 'end': 7.18, 'text': 'India.', 'score': -0.18845820426940918}]\n"
     ]
    },
    {
     "name": "stderr",
     "output_type": "stream",
     "text": [
      "100%|█████████████████████████████████████████████████████████████████████████████████| 20661/20661 [2:27:55<00:00,  2.33it/s]\n",
      "100%|██████████████████████████████████████████████████████████████████████████████████████████| 2/2 [00:00<00:00, 992.85it/s]\n",
      "100%|█████████████████████████████████████████████████████████████████████████████████| 20661/20661 [2:31:09<00:00,  2.28it/s]\n",
      " 97%|██████████████████████████████████████████████████████████████████████████████▎  | 19986/20661 [2:32:14<05:12,  2.16it/s]"
     ]
    },
    {
     "name": "stdout",
     "output_type": "stream",
     "text": [
      "[{'start': 2.2, 'end': 2.24, 'text': 'got', 'score': -17.3125}, {'start': 2.28, 'end': 2.34, 'text': 'any', 'score': -7.719001770019531}, {'start': 2.38, 'end': 2.38, 'text': 'k', 'score': 0.0}, {'start': 2.42, 'end': 2.42, 'text': 'k', 'score': 0.0}, {'start': 2.46, 'end': 2.46, 'text': 'k', 'score': 0.0}, {'start': 2.5, 'end': 2.5, 'text': 'k', 'score': 0.0}, {'start': 2.54, 'end': 2.54, 'text': 'k', 'score': 0.0}, {'start': 2.58, 'end': 2.58, 'text': 'k', 'score': 0.0}, {'start': 2.62, 'end': 2.62, 'text': 'k', 'score': 0.0}, {'start': 2.66, 'end': 2.66, 'text': 'k', 'score': 0.0}, {'start': 2.7, 'end': 2.7, 'text': 'k', 'score': 0.0}, {'start': 2.74, 'end': 2.74, 'text': 'k', 'score': 0.0}, {'start': 2.78, 'end': 2.78, 'text': 'k', 'score': 0.0}, {'start': 2.82, 'end': 2.82, 'text': 'k', 'score': 0.0}, {'start': 2.86, 'end': 2.86, 'text': 'k', 'score': 0.0}, {'start': 2.9, 'end': 2.9, 'text': 'k', 'score': 0.0}, {'start': 2.94, 'end': 2.94, 'text': 'k', 'score': 0.0}, {'start': 2.98, 'end': 2.98, 'text': 'k', 'score': 0.0}, {'start': 3.04, 'end': 3.04, 'text': 'k', 'score': 0.0}, {'start': 3.08, 'end': 3.08, 'text': 'k', 'score': 0.0}, {'start': 3.12, 'end': 3.12, 'text': 'k', 'score': 0.0}, {'start': 3.16, 'end': 3.16, 'text': 'k', 'score': 0.0}, {'start': 3.2, 'end': 3.2, 'text': 'k', 'score': 0.0}, {'start': 3.24, 'end': 3.24, 'text': 'k', 'score': 0.0}, {'start': 3.28, 'end': 3.28, 'text': 'k', 'score': 0.0}, {'start': 3.32, 'end': 3.32, 'text': 'k', 'score': 0.0}, {'start': 3.36, 'end': 3.36, 'text': 'k', 'score': 0.0}, {'start': 3.4, 'end': 3.4, 'text': 'k', 'score': 0.0}, {'start': 3.44, 'end': 3.44, 'text': 'k', 'score': 0.0}, {'start': 3.48, 'end': 3.48, 'text': 'k', 'score': 0.0}, {'start': 3.52, 'end': 3.52, 'text': 'k', 'score': 0.0}, {'start': 3.56, 'end': 3.56, 'text': 'k', 'score': 0.0}, {'start': 3.6, 'end': 3.6, 'text': 'k', 'score': 0.0}, {'start': 3.64, 'end': 3.64, 'text': 'k', 'score': 0.0}, {'start': 3.68, 'end': 3.68, 'text': 'k', 'score': 0.0}, {'start': 3.72, 'end': 3.72, 'text': 'k', 'score': 0.0}, {'start': 3.76, 'end': 3.76, 'text': 'k', 'score': 0.0}, {'start': 3.8, 'end': 3.8, 'text': 'k', 'score': 0.0}, {'start': 3.84, 'end': 3.84, 'text': 'k', 'score': 0.0}, {'start': 3.88, 'end': 3.88, 'text': 'k', 'score': 0.0}, {'start': 3.92, 'end': 3.92, 'text': 'k', 'score': 0.0}, {'start': 3.96, 'end': 3.96, 'text': 'k', 'score': 0.0}, {'start': 4.0, 'end': 4.0, 'text': 'k', 'score': 0.0}, {'start': 4.04, 'end': 4.04, 'text': 'k', 'score': 0.0}, {'start': 4.08, 'end': 4.08, 'text': 'k', 'score': 0.0}, {'start': 4.12, 'end': 4.12, 'text': 'k', 'score': 0.0}, {'start': 4.18, 'end': 4.18, 'text': 'k', 'score': 0.0}, {'start': 4.22, 'end': 4.22, 'text': 'k', 'score': 0.0}, {'start': 4.26, 'end': 4.26, 'text': 'k', 'score': 0.0}, {'start': 4.3, 'end': 4.3, 'text': 'k', 'score': 0.0}, {'start': 4.34, 'end': 4.34, 'text': 'k', 'score': 0.0}, {'start': 4.38, 'end': 4.38, 'text': 'k', 'score': 0.0}, {'start': 4.42, 'end': 4.42, 'text': 'k', 'score': 0.0}, {'start': 4.46, 'end': 4.46, 'text': 'k', 'score': 0.0}, {'start': 4.5, 'end': 4.5, 'text': 'k', 'score': 0.0}, {'start': 4.54, 'end': 4.54, 'text': 'k', 'score': 0.0}, {'start': 4.58, 'end': 4.58, 'text': 'k', 'score': 0.0}, {'start': 4.64, 'end': 4.64, 'text': 'k', 'score': 0.0}, {'start': 4.68, 'end': 4.68, 'text': 'k', 'score': 0.0}, {'start': 4.72, 'end': 4.72, 'text': 'k', 'score': 0.0}, {'start': 4.76, 'end': 4.76, 'text': 'k', 'score': 0.0}, {'start': 4.8, 'end': 4.8, 'text': 'k', 'score': 0.0}, {'start': 4.84, 'end': 4.84, 'text': 'k', 'score': 0.0}, {'start': 4.88, 'end': 4.88, 'text': 'k', 'score': 0.0}, {'start': 4.92, 'end': 4.92, 'text': 'k', 'score': 0.0}, {'start': 4.96, 'end': 4.96, 'text': 'k', 'score': 0.0}, {'start': 5.0, 'end': 5.0, 'text': 'k', 'score': 0.0}, {'start': 5.04, 'end': 5.04, 'text': 'k', 'score': 0.0}, {'start': 5.08, 'end': 5.08, 'text': 'k', 'score': 0.0}, {'start': 5.12, 'end': 5.12, 'text': 'k', 'score': 0.0}, {'start': 5.16, 'end': 5.16, 'text': 'k', 'score': 0.0}, {'start': 5.2, 'end': 5.2, 'text': 'k', 'score': 0.0}, {'start': 5.24, 'end': 5.24, 'text': 'k', 'score': 0.0}, {'start': 5.28, 'end': 5.28, 'text': 'k', 'score': 0.0}, {'start': 5.32, 'end': 5.32, 'text': 'k', 'score': 0.0}, {'start': 5.36, 'end': 5.36, 'text': 'k', 'score': 0.0}, {'start': 5.4, 'end': 5.4, 'text': 'k', 'score': 0.0}, {'start': 5.44, 'end': 5.44, 'text': 'k', 'score': 0.0}, {'start': 5.48, 'end': 5.48, 'text': 'k', 'score': 0.0}, {'start': 5.52, 'end': 5.52, 'text': 'k', 'score': 0.0}, {'start': 5.56, 'end': 5.56, 'text': 'k', 'score': 0.0}, {'start': 5.6, 'end': 5.6, 'text': 'k', 'score': 0.0}, {'start': 5.64, 'end': 5.64, 'text': 'k', 'score': 0.0}, {'start': 5.68, 'end': 5.68, 'text': 'k', 'score': 0.0}, {'start': 5.72, 'end': 5.72, 'text': 'k', 'score': 0.0}, {'start': 5.76, 'end': 5.76, 'text': 'k', 'score': 0.0}, {'start': 5.8, 'end': 5.8, 'text': 'k', 'score': 0.0}, {'start': 5.84, 'end': 5.84, 'text': 'k', 'score': 0.0}, {'start': 5.88, 'end': 5.88, 'text': 'k', 'score': 0.0}, {'start': 5.94, 'end': 5.94, 'text': 'k', 'score': 0.0}, {'start': 5.98, 'end': 5.98, 'text': 'k', 'score': 0.0}, {'start': 6.02, 'end': 6.02, 'text': 'k', 'score': 0.0}, {'start': 6.06, 'end': 6.06, 'text': 'k', 'score': 0.0}, {'start': 6.1, 'end': 6.1, 'text': 'k', 'score': 0.0}, {'start': 6.14, 'end': 6.14, 'text': 'k', 'score': 0.0}, {'start': 6.18, 'end': 6.18, 'text': 'k', 'score': 0.0}, {'start': 6.22, 'end': 6.22, 'text': 'k', 'score': 0.0}, {'start': 6.26, 'end': 6.26, 'text': 'k', 'score': 0.0}, {'start': 6.3, 'end': 6.3, 'text': 'k', 'score': 0.0}, {'start': 6.34, 'end': 6.34, 'text': 'k', 'score': 0.0}, {'start': 6.38, 'end': 6.38, 'text': 'k', 'score': 0.0}, {'start': 6.42, 'end': 6.42, 'text': 'k', 'score': 0.0}, {'start': 6.46, 'end': 6.46, 'text': 'k', 'score': 0.0}, {'start': 6.5, 'end': 6.5, 'text': 'k', 'score': 0.0}, {'start': 6.54, 'end': 6.54, 'text': 'k', 'score': 0.0}, {'start': 6.58, 'end': 6.58, 'text': 'k', 'score': 0.0}, {'start': 6.62, 'end': 6.62, 'text': 'k', 'score': 0.0}, {'start': 6.66, 'end': 6.66, 'text': 'k', 'score': 0.0}, {'start': 6.7, 'end': 6.7, 'text': 'k', 'score': 0.0}, {'start': 6.74, 'end': 6.74, 'text': 'k', 'score': 0.0}, {'start': 6.78, 'end': 6.78, 'text': 'k', 'score': 0.0}, {'start': 6.84, 'end': 6.84, 'text': 'k', 'score': 0.0}, {'start': 6.88, 'end': 6.88, 'text': 'k', 'score': 0.0}, {'start': 6.92, 'end': 6.92, 'text': 'k', 'score': 0.0}, {'start': 6.98, 'end': 6.98, 'text': 'k', 'score': 0.0}, {'start': 7.04, 'end': 7.04, 'text': 'k', 'score': 0.0}, {'start': 7.08, 'end': 7.08, 'text': 'k', 'score': 0.0}, {'start': 7.12, 'end': 7.12, 'text': 'k', 'score': 0.0}, {'start': 7.16, 'end': 7.16, 'text': 'k', 'score': 0.0}, {'start': 7.2, 'end': 7.2, 'text': 'k', 'score': 0.0}, {'start': 7.24, 'end': 7.24, 'text': 'k', 'score': 0.0}, {'start': 7.28, 'end': 7.28, 'text': 'k', 'score': 0.0}, {'start': 7.32, 'end': 7.32, 'text': 'k', 'score': 0.0}, {'start': 7.36, 'end': 7.36, 'text': 'k', 'score': 0.0}, {'start': 7.4, 'end': 7.4, 'text': 'k', 'score': 0.0}, {'start': 7.44, 'end': 7.44, 'text': 'k', 'score': 0.0}, {'start': 7.48, 'end': 7.48, 'text': 'k', 'score': 0.0}, {'start': 7.52, 'end': 7.52, 'text': 'k', 'score': 0.0}, {'start': 7.56, 'end': 7.56, 'text': 'k', 'score': 0.0}, {'start': 7.6, 'end': 7.6, 'text': 'k', 'score': 0.0}, {'start': 7.64, 'end': 7.64, 'text': 'k', 'score': 0.0}, {'start': 7.68, 'end': 7.68, 'text': 'k', 'score': 0.0}, {'start': 7.72, 'end': 7.72, 'text': 'k', 'score': 0.0}, {'start': 7.76, 'end': 7.76, 'text': 'k', 'score': 0.0}, {'start': 7.82, 'end': 7.82, 'text': 'k', 'score': 0.0}, {'start': 7.86, 'end': 7.86, 'text': 'k', 'score': 0.0}, {'start': 7.9, 'end': 7.9, 'text': 'k', 'score': 0.0}, {'start': 7.94, 'end': 7.94, 'text': 'k', 'score': 0.0}, {'start': 7.98, 'end': 7.98, 'text': 'k', 'score': 0.0}, {'start': 8.02, 'end': 8.02, 'text': 'k', 'score': 0.0}, {'start': 8.06, 'end': 8.06, 'text': 'k', 'score': 0.0}, {'start': 8.12, 'end': 8.12, 'text': 'k', 'score': 0.0}, {'start': 8.16, 'end': 8.16, 'text': 'k', 'score': 0.0}, {'start': 8.2, 'end': 8.2, 'text': 'k', 'score': 0.0}, {'start': 8.24, 'end': 8.24, 'text': 'k', 'score': 0.0}, {'start': 8.28, 'end': 8.28, 'text': 'k', 'score': 0.0}, {'start': 8.32, 'end': 8.32, 'text': 'k', 'score': 0.0}, {'start': 8.36, 'end': 8.36, 'text': 'k', 'score': 0.0}, {'start': 8.4, 'end': 8.4, 'text': 'k', 'score': 0.0}, {'start': 8.44, 'end': 8.44, 'text': 'k', 'score': 0.0}, {'start': 8.48, 'end': 8.48, 'text': 'k', 'score': 0.0}, {'start': 8.52, 'end': 8.52, 'text': 'k', 'score': 0.0}, {'start': 8.56, 'end': 8.56, 'text': 'k', 'score': 0.0}, {'start': 8.6, 'end': 8.6, 'text': 'k', 'score': 0.0}, {'start': 8.64, 'end': 8.64, 'text': 'k', 'score': 0.0}, {'start': 8.68, 'end': 8.68, 'text': 'k', 'score': 0.0}, {'start': 8.72, 'end': 8.72, 'text': 'k', 'score': 0.0}, {'start': 8.76, 'end': 8.76, 'text': 'k', 'score': 0.0}, {'start': 8.82, 'end': 8.82, 'text': 'k', 'score': 0.0}, {'start': 8.86, 'end': 8.86, 'text': 'k', 'score': 0.0}, {'start': 8.9, 'end': 8.9, 'text': 'k', 'score': 0.0}, {'start': 8.94, 'end': 8.94, 'text': 'k', 'score': 0.0}, {'start': 8.98, 'end': 8.98, 'text': 'k', 'score': 0.0}, {'start': 9.02, 'end': 9.02, 'text': 'k', 'score': 0.0}, {'start': 9.06, 'end': 9.06, 'text': 'k', 'score': 0.0}, {'start': 9.1, 'end': 9.1, 'text': 'k', 'score': 0.0}, {'start': 9.14, 'end': 9.14, 'text': 'k', 'score': 0.0}, {'start': 9.18, 'end': 9.18, 'text': 'k', 'score': 0.0}, {'start': 9.22, 'end': 9.22, 'text': 'k', 'score': 0.0}, {'start': 9.26, 'end': 9.26, 'text': 'k', 'score': 0.0}, {'start': 9.3, 'end': 9.3, 'text': 'k', 'score': 0.0}, {'start': 9.34, 'end': 9.34, 'text': 'k', 'score': 0.0}, {'start': 9.38, 'end': 9.38, 'text': 'k', 'score': 0.0}, {'start': 9.42, 'end': 9.42, 'text': 'k', 'score': 0.0}, {'start': 9.46, 'end': 9.46, 'text': 'k', 'score': 0.0}, {'start': 9.5, 'end': 9.5, 'text': 'k', 'score': 0.0}, {'start': 9.54, 'end': 9.54, 'text': 'k', 'score': 0.0}, {'start': 9.58, 'end': 9.58, 'text': 'k', 'score': 0.0}, {'start': 9.62, 'end': 9.62, 'text': 'k', 'score': 0.0}, {'start': 9.66, 'end': 9.66, 'text': 'k', 'score': 0.0}, {'start': 9.7, 'end': 9.7, 'text': 'k', 'score': 0.0}, {'start': 9.74, 'end': 9.74, 'text': 'k', 'score': 0.0}, {'start': 9.78, 'end': 9.78, 'text': 'k', 'score': 0.0}, {'start': 9.82, 'end': 9.82, 'text': 'k', 'score': 0.0}, {'start': 9.86, 'end': 9.86, 'text': 'k', 'score': 0.0}, {'start': 9.9, 'end': 9.9, 'text': 'k', 'score': 0.0}, {'start': 9.94, 'end': 9.94, 'text': 'k', 'score': 0.0}, {'start': 9.98, 'end': 9.98, 'text': 'k', 'score': 0.0}, {'start': 10.02, 'end': 10.02, 'text': 'k', 'score': 0.0}, {'start': 10.06, 'end': 10.06, 'text': 'k', 'score': 0.0}, {'start': 10.1, 'end': 10.1, 'text': 'k', 'score': 0.0}, {'start': 10.16, 'end': 10.16, 'text': 'k', 'score': 0.0}, {'start': 10.2, 'end': 10.2, 'text': 'k', 'score': 0.0}, {'start': 10.24, 'end': 10.24, 'text': 'k', 'score': 0.0}, {'start': 10.28, 'end': 10.28, 'text': 'k', 'score': 0.0}, {'start': 10.32, 'end': 10.32, 'text': 'k', 'score': 0.0}, {'start': 10.36, 'end': 10.36, 'text': 'k', 'score': 0.0}, {'start': 10.4, 'end': 10.4, 'text': 'k', 'score': 0.0}, {'start': 10.44, 'end': 10.44, 'text': 'k', 'score': 0.0}]"
     ]
    },
    {
     "name": "stdout",
     "output_type": "stream",
     "text": [
      "\n"
     ]
    },
    {
     "name": "stderr",
     "output_type": "stream",
     "text": [
      "100%|█████████████████████████████████████████████████████████████████████████████████| 20661/20661 [2:34:06<00:00,  2.23it/s]\n",
      "100%|█████████████████████████████████████████████████████████████████████████████████| 20661/20661 [2:34:41<00:00,  2.23it/s]\n",
      "100%|█████████████████████████████████████████████████████████████████████████████████| 20661/20661 [2:36:30<00:00,  2.20it/s]\n"
     ]
    }
   ],
   "source": [
    "data = mp.multiprocessing(files, loop, cores = 5)"
   ]
  },
  {
   "cell_type": "code",
   "execution_count": 12,
   "id": "7efac780",
   "metadata": {},
   "outputs": [
    {
     "data": {
      "text/plain": [
       "912616"
      ]
     },
     "execution_count": 12,
     "metadata": {},
     "output_type": "execute_result"
    }
   ],
   "source": [
    "len(data)"
   ]
  },
  {
   "cell_type": "code",
   "execution_count": 13,
   "id": "8d711233",
   "metadata": {},
   "outputs": [
    {
     "name": "stderr",
     "output_type": "stream",
     "text": [
      "100%|████████████████████████████████████████████████████████████████████████████| 912616/912616 [00:00<00:00, 4131758.26it/s]\n"
     ]
    },
    {
     "data": {
      "text/plain": [
       "defaultdict(int, {'filtered-24k-chunk/filtered-24k': 912616})"
      ]
     },
     "execution_count": 13,
     "metadata": {},
     "output_type": "execute_result"
    }
   ],
   "source": [
    "from collections import defaultdict\n",
    "\n",
    "uniques = defaultdict(int)\n",
    "for d in tqdm(data):\n",
    "    uniques[d['audio'].split('_processed')[0]] += 1\n",
    "    \n",
    "uniques"
   ]
  },
  {
   "cell_type": "code",
   "execution_count": 14,
   "id": "5e5a20a6",
   "metadata": {},
   "outputs": [
    {
     "data": {
      "text/html": [
       "<div>\n",
       "<style scoped>\n",
       "    .dataframe tbody tr th:only-of-type {\n",
       "        vertical-align: middle;\n",
       "    }\n",
       "\n",
       "    .dataframe tbody tr th {\n",
       "        vertical-align: top;\n",
       "    }\n",
       "\n",
       "    .dataframe thead th {\n",
       "        text-align: right;\n",
       "    }\n",
       "</style>\n",
       "<table border=\"1\" class=\"dataframe\">\n",
       "  <thead>\n",
       "    <tr style=\"text-align: right;\">\n",
       "      <th></th>\n",
       "      <th>audio</th>\n",
       "      <th>transcription</th>\n",
       "    </tr>\n",
       "  </thead>\n",
       "  <tbody>\n",
       "    <tr>\n",
       "      <th>0</th>\n",
       "      <td>filtered-24k-chunk/filtered-24k_processed_0029...</td>\n",
       "      <td>that Mei Bang manage to make positive profit a...</td>\n",
       "    </tr>\n",
       "    <tr>\n",
       "      <th>1</th>\n",
       "      <td>filtered-24k-chunk/filtered-24k_processed_0029...</td>\n",
       "      <td>Uh, lost making for like ten, ten years</td>\n",
       "    </tr>\n",
       "    <tr>\n",
       "      <th>2</th>\n",
       "      <td>filtered-24k-chunk/filtered-24k_processed_0029...</td>\n",
       "      <td>a good time for them to exit. But back then I</td>\n",
       "    </tr>\n",
       "    <tr>\n",
       "      <th>3</th>\n",
       "      <td>filtered-24k-chunk/filtered-24k_processed_0029...</td>\n",
       "      <td>read the signs, ah. I was thinking that, okay ...</td>\n",
       "    </tr>\n",
       "    <tr>\n",
       "      <th>4</th>\n",
       "      <td>filtered-24k-chunk/filtered-24k_processed_0029...</td>\n",
       "      <td>Yeah. So, they were exiting while I was enteri...</td>\n",
       "    </tr>\n",
       "  </tbody>\n",
       "</table>\n",
       "</div>"
      ],
      "text/plain": [
       "                                               audio  \\\n",
       "0  filtered-24k-chunk/filtered-24k_processed_0029...   \n",
       "1  filtered-24k-chunk/filtered-24k_processed_0029...   \n",
       "2  filtered-24k-chunk/filtered-24k_processed_0029...   \n",
       "3  filtered-24k-chunk/filtered-24k_processed_0029...   \n",
       "4  filtered-24k-chunk/filtered-24k_processed_0029...   \n",
       "\n",
       "                                       transcription  \n",
       "0  that Mei Bang manage to make positive profit a...  \n",
       "1            Uh, lost making for like ten, ten years  \n",
       "2      a good time for them to exit. But back then I  \n",
       "3  read the signs, ah. I was thinking that, okay ...  \n",
       "4  Yeah. So, they were exiting while I was enteri...  "
      ]
     },
     "execution_count": 14,
     "metadata": {},
     "output_type": "execute_result"
    }
   ],
   "source": [
    "import pandas as pd\n",
    "\n",
    "df = pd.DataFrame(data)\n",
    "df.head()"
   ]
  },
  {
   "cell_type": "code",
   "execution_count": 15,
   "id": "8f4993ac",
   "metadata": {},
   "outputs": [],
   "source": [
    "df.to_parquet('verify-text-chunk-filtered-24k.parquet')"
   ]
  },
  {
   "cell_type": "code",
   "execution_count": 16,
   "id": "5774ef42",
   "metadata": {
    "scrolled": true
   },
   "outputs": [
    {
     "data": {
      "application/vnd.jupyter.widget-view+json": {
       "model_id": "362edb96dfd94952a4d3cd4ac095e2bd",
       "version_major": 2,
       "version_minor": 0
      },
      "text/plain": [
       "verify-text-chunk-filtered-24k.parquet:   0%|          | 0.00/69.4M [00:00<?, ?B/s]"
      ]
     },
     "metadata": {},
     "output_type": "display_data"
    },
    {
     "data": {
      "text/plain": [
       "CommitInfo(commit_url='https://huggingface.co/datasets/mesolitica/Malaysian-Voice-Conversion/commit/660b6e1fb0adb90ef05ae511eee284e621d1761c', commit_message='Upload data/filtered_24k-00000-of-00001.parquet with huggingface_hub', commit_description='', oid='660b6e1fb0adb90ef05ae511eee284e621d1761c', pr_url=None, repo_url=RepoUrl('https://huggingface.co/datasets/mesolitica/Malaysian-Voice-Conversion', endpoint='https://huggingface.co', repo_type='dataset', repo_id='mesolitica/Malaysian-Voice-Conversion'), pr_revision=None, pr_num=None)"
      ]
     },
     "execution_count": 16,
     "metadata": {},
     "output_type": "execute_result"
    }
   ],
   "source": [
    "from huggingface_hub import HfApi\n",
    "api = HfApi()\n",
    "api.upload_file(\n",
    "    path_or_fileobj=\"verify-text-chunk-filtered-24k.parquet\",\n",
    "    path_in_repo=\"data/filtered_24k-00000-of-00001.parquet\",\n",
    "    repo_id=\"mesolitica/Malaysian-Voice-Conversion\",\n",
    "    repo_type=\"dataset\",\n",
    ")"
   ]
  }
 ],
 "metadata": {
  "kernelspec": {
   "display_name": "python3.10",
   "language": "python",
   "name": "python3.10"
  },
  "language_info": {
   "codemirror_mode": {
    "name": "ipython",
    "version": 3
   },
   "file_extension": ".py",
   "mimetype": "text/x-python",
   "name": "python",
   "nbconvert_exporter": "python",
   "pygments_lexer": "ipython3",
   "version": "3.10.15"
  }
 },
 "nbformat": 4,
 "nbformat_minor": 5
}
