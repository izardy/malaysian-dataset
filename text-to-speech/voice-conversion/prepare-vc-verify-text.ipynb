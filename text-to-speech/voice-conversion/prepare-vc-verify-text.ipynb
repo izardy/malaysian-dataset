{
 "cells": [
  {
   "cell_type": "code",
   "execution_count": 2,
   "id": "5dac39b9",
   "metadata": {},
   "outputs": [],
   "source": [
    "from glob import glob\n",
    "from tqdm import tqdm\n",
    "from sklearn.feature_extraction.text import CountVectorizer\n",
    "import json\n",
    "import os\n",
    "import mp\n",
    "import re"
   ]
  },
  {
   "cell_type": "code",
   "execution_count": 51,
   "id": "7c614bdc",
   "metadata": {
    "scrolled": true
   },
   "outputs": [
    {
     "data": {
      "text/plain": [
       "184723"
      ]
     },
     "execution_count": 51,
     "metadata": {},
     "output_type": "execute_result"
    }
   ],
   "source": [
    "files = glob('malaysian-podcast_processed/**/*/*.json', recursive = True)\n",
    "files.extend(glob('parlimen-24k-chunk_processed/**/*/*.json', recursive = True))\n",
    "files.extend(glob('filtered-24k_processed/**/*/*.json', recursive = True))\n",
    "files.extend(glob('klasik_processed/**/*/*.json', recursive = True))\n",
    "files.extend(glob('/home/husein/ssd3/dialects_processed/**/*/*.json', recursive = True))\n",
    "files.extend(glob('/home/husein/ssd3/sg-podcast_processed/**/*/*.json', recursive = True))\n",
    "\n",
    "len(files)"
   ]
  },
  {
   "cell_type": "code",
   "execution_count": 52,
   "id": "e0378019",
   "metadata": {},
   "outputs": [],
   "source": [
    "rejected = [\n",
    "    'terima kasih kerana menonton',\n",
    "    'terima kasih',\n",
    "    'thank you for watching',\n",
    "]"
   ]
  },
  {
   "cell_type": "code",
   "execution_count": 53,
   "id": "3332d699",
   "metadata": {},
   "outputs": [],
   "source": [
    "def new_path(f):\n",
    "    f = f.replace('.mp3', '.alignment')\n",
    "    f = f.replace('_processed/', '_processed_alignment/')\n",
    "    return f\n",
    "\n",
    "def loop(files):\n",
    "    files, _ = files\n",
    "    data = []\n",
    "    for file in tqdm(files):\n",
    "        folder = os.path.split(file)[0]\n",
    "        folder_folder = os.path.split(folder)[1]\n",
    "        filename = file.replace('.json', '')\n",
    "\n",
    "        try:\n",
    "            with open(file) as fopen:\n",
    "                d = json.load(fopen)\n",
    "        except:\n",
    "            continue\n",
    "\n",
    "        for no, obj in enumerate(d):\n",
    "            text = obj[\"text\"].strip()\n",
    "            \n",
    "            rt_ = re.sub('[^a-z ]+', '', text.lower()).strip()\n",
    "            if any([s == rt_ for s in rejected]):\n",
    "                continue\n",
    "            \n",
    "            try:\n",
    "                dense = CountVectorizer(ngram_range = (3,3)).fit_transform([text]).todense()\n",
    "                repeat = (dense > 3).sum() >= 1\n",
    "                if repeat:\n",
    "                    continue\n",
    "            except:\n",
    "                continue\n",
    "            \n",
    "            audio_path = os.path.join(folder, f'{folder_folder}_{no}.mp3')\n",
    "            align_path = new_path(audio_path)\n",
    "            \n",
    "            if not os.path.exists(align_path):\n",
    "                continue\n",
    "                \n",
    "            with open(align_path) as fopen:\n",
    "                align = json.load(fopen)\n",
    "                \n",
    "            scores = [a for a in align if a['score'] <= -15]\n",
    "            if len(scores):\n",
    "                continue\n",
    "\n",
    "            data.append({\n",
    "                'audio': audio_path,\n",
    "                'transcription': text,\n",
    "            })\n",
    "    \n",
    "    return data"
   ]
  },
  {
   "cell_type": "code",
   "execution_count": 54,
   "id": "96b87089",
   "metadata": {},
   "outputs": [
    {
     "name": "stderr",
     "output_type": "stream",
     "text": [
      "100%|███████████████████████████████████████████████████████████████████████████████████████████████████████| 100/100 [00:00<00:00, 217.00it/s]\n"
     ]
    }
   ],
   "source": [
    "d = loop((files[-100:], 0))"
   ]
  },
  {
   "cell_type": "code",
   "execution_count": 55,
   "id": "e054b55a",
   "metadata": {
    "scrolled": true
   },
   "outputs": [
    {
     "name": "stderr",
     "output_type": "stream",
     "text": [
      "100%|████████████████████████████████████████████████████████████████████████████████████████████████████| 12314/12314 [03:04<00:00, 66.74it/s]\n",
      "100%|██████████████████████████████████████████████████████████████████████████████████████████████████████████| 13/13 [00:00<00:00, 97.79it/s]\n",
      "100%|████████████████████████████████████████████████████████████████████████████████████████████████████| 12314/12314 [03:05<00:00, 66.27it/s]\n",
      "100%|████████████████████████████████████████████████████████████████████████████████████████████████████| 12314/12314 [03:10<00:00, 64.73it/s]\n",
      "100%|████████████████████████████████████████████████████████████████████████████████████████████████████| 12314/12314 [03:19<00:00, 61.64it/s]\n",
      "100%|████████████████████████████████████████████████████████████████████████████████████████████████████| 12314/12314 [03:22<00:00, 60.69it/s]\n",
      "100%|████████████████████████████████████████████████████████████████████████████████████████████████████| 12314/12314 [03:23<00:00, 60.54it/s]\n",
      "100%|████████████████████████████████████████████████████████████████████████████████████████████████████| 12314/12314 [03:23<00:00, 60.46it/s]\n",
      "100%|████████████████████████████████████████████████████████████████████████████████████████████████████| 12314/12314 [03:24<00:00, 60.35it/s]\n",
      "100%|████████████████████████████████████████████████████████████████████████████████████████████████████| 12314/12314 [03:23<00:00, 60.37it/s]\n",
      "100%|████████████████████████████████████████████████████████████████████████████████████████████████████| 12314/12314 [03:24<00:00, 60.26it/s]\n",
      "100%|████████████████████████████████████████████████████████████████████████████████████████████████████| 12314/12314 [03:25<00:00, 59.88it/s]\n",
      "100%|████████████████████████████████████████████████████████████████████████████████████████████████████| 12314/12314 [03:25<00:00, 59.81it/s]\n",
      "100%|████████████████████████████████████████████████████████████████████████████████████████████████████| 12314/12314 [03:27<00:00, 59.22it/s]\n",
      "100%|████████████████████████████████████████████████████████████████████████████████████████████████████| 12314/12314 [03:29<00:00, 58.82it/s]\n",
      "100%|████████████████████████████████████████████████████████████████████████████████████████████████████| 12314/12314 [14:22<00:00, 14.28it/s]\n"
     ]
    }
   ],
   "source": [
    "data = mp.multiprocessing(files, loop, cores = 15)"
   ]
  },
  {
   "cell_type": "code",
   "execution_count": 56,
   "id": "8d711233",
   "metadata": {},
   "outputs": [
    {
     "name": "stderr",
     "output_type": "stream",
     "text": [
      "100%|███████████████████████████████████████████████████████████████████████████████████████████| 1518322/1518322 [00:00<00:00, 2266598.82it/s]\n"
     ]
    },
    {
     "data": {
      "text/plain": [
       "defaultdict(int,\n",
       "            {'malaysian-podcast': 60736,\n",
       "             'parlimen-24k-chunk': 445376,\n",
       "             'filtered-24k': 549279,\n",
       "             'klasik': 6100,\n",
       "             '/home/husein/ssd3/dialects': 441602,\n",
       "             '/home/husein/ssd3/sg-podcast': 15229})"
      ]
     },
     "execution_count": 56,
     "metadata": {},
     "output_type": "execute_result"
    }
   ],
   "source": [
    "from collections import defaultdict\n",
    "\n",
    "uniques = defaultdict(int)\n",
    "for d in tqdm(data):\n",
    "    uniques[d['audio'].split('_processed')[0]] += 1\n",
    "    \n",
    "uniques"
   ]
  },
  {
   "cell_type": "code",
   "execution_count": 48,
   "id": "391115de",
   "metadata": {},
   "outputs": [
    {
     "data": {
      "text/plain": [
       "'/home/husein/ssd3/sg-podcast_processed'"
      ]
     },
     "execution_count": 48,
     "metadata": {},
     "output_type": "execute_result"
    }
   ],
   "source": [
    "'/'.join(os.path.split(d['audio'])[0].split('/')[:-1])"
   ]
  },
  {
   "cell_type": "code",
   "execution_count": 44,
   "id": "4aea0ec8",
   "metadata": {},
   "outputs": [
    {
     "data": {
      "text/plain": [
       "[{'audio': '/home/husein/ssd3/sg-podcast_processed/Let’s talk about infertility： Pregnancy, Miscarriages and Treatments ｜ Head Over Heels #46 [eBq6076W-SY]/Let’s talk about infertility： Pregnancy, Miscarriages and Treatments ｜ Head Over Heels #46 [eBq6076W-SY]_16.mp3',\n",
       "  'transcription': 'Found out so many friends actually had miscarriages but they kept it down low and then we had to'},\n",
       " {'audio': '/home/husein/ssd3/sg-podcast_processed/Let’s talk about infertility： Pregnancy, Miscarriages and Treatments ｜ Head Over Heels #46 [eBq6076W-SY]/Let’s talk about infertility： Pregnancy, Miscarriages and Treatments ｜ Head Over Heels #46 [eBq6076W-SY]_17.mp3',\n",
       "  'transcription': 'As doctor Google, as other doctors, um, what can we do? How do we, how do we get over this?'},\n",
       " {'audio': '/home/husein/ssd3/sg-podcast_processed/Let’s talk about infertility： Pregnancy, Miscarriages and Treatments ｜ Head Over Heels #46 [eBq6076W-SY]/Let’s talk about infertility： Pregnancy, Miscarriages and Treatments ｜ Head Over Heels #46 [eBq6076W-SY]_28.mp3',\n",
       "  'transcription': 'Wow. Okay. Okay. But must, must be expensive. Well. How much is it?'},\n",
       " {'audio': '/home/husein/ssd3/sg-podcast_processed/Let’s talk about infertility： Pregnancy, Miscarriages and Treatments ｜ Head Over Heels #46 [eBq6076W-SY]/Let’s talk about infertility： Pregnancy, Miscarriages and Treatments ｜ Head Over Heels #46 [eBq6076W-SY]_30.mp3',\n",
       "  'transcription': 'You know, a bit too late. So you want to know before it happens.'},\n",
       " {'audio': '/home/husein/ssd3/sg-podcast_processed/Let’s talk about infertility： Pregnancy, Miscarriages and Treatments ｜ Head Over Heels #46 [eBq6076W-SY]/Let’s talk about infertility： Pregnancy, Miscarriages and Treatments ｜ Head Over Heels #46 [eBq6076W-SY]_35.mp3',\n",
       "  'transcription': \"After you give birth, you don't, you have period for a long period of time, is that correct?\"},\n",
       " {'audio': '/home/husein/ssd3/sg-podcast_processed/Let’s talk about infertility： Pregnancy, Miscarriages and Treatments ｜ Head Over Heels #46 [eBq6076W-SY]/Let’s talk about infertility： Pregnancy, Miscarriages and Treatments ｜ Head Over Heels #46 [eBq6076W-SY]_38.mp3',\n",
       "  'transcription': 'Uh, how many babies have you delivered in your career, actually?'},\n",
       " {'audio': '/home/husein/ssd3/sg-podcast_processed/Let’s talk about infertility： Pregnancy, Miscarriages and Treatments ｜ Head Over Heels #46 [eBq6076W-SY]/Let’s talk about infertility： Pregnancy, Miscarriages and Treatments ｜ Head Over Heels #46 [eBq6076W-SY]_39.mp3',\n",
       "  'transcription': 'Your first C-SAC, the following pregnancy, you cannot give natural birth anymore. Is that correct? Or,'},\n",
       " {'audio': '/home/husein/ssd3/sg-podcast_processed/Let’s talk about infertility： Pregnancy, Miscarriages and Treatments ｜ Head Over Heels #46 [eBq6076W-SY]/Let’s talk about infertility： Pregnancy, Miscarriages and Treatments ｜ Head Over Heels #46 [eBq6076W-SY]_40.mp3',\n",
       "  'transcription': 'Mm. In terms of process, which one is more complicated?'},\n",
       " {'audio': '/home/husein/ssd3/sg-podcast_processed/Let’s talk about infertility： Pregnancy, Miscarriages and Treatments ｜ Head Over Heels #46 [eBq6076W-SY]/Let’s talk about infertility： Pregnancy, Miscarriages and Treatments ｜ Head Over Heels #46 [eBq6076W-SY]_42.mp3',\n",
       "  'transcription': 'They can look out for, apart from, obviously, trying for one year and still not, yeah, that you are infertile.'},\n",
       " {'audio': '/home/husein/ssd3/sg-podcast_processed/Let’s talk about infertility： Pregnancy, Miscarriages and Treatments ｜ Head Over Heels #46 [eBq6076W-SY]/Let’s talk about infertility： Pregnancy, Miscarriages and Treatments ｜ Head Over Heels #46 [eBq6076W-SY]_43.mp3',\n",
       "  'transcription': 'Not overlating. Yeah. Secondly, um, excessive hair growth.'},\n",
       " {'audio': '/home/husein/ssd3/sg-podcast_processed/Let’s talk about infertility： Pregnancy, Miscarriages and Treatments ｜ Head Over Heels #46 [eBq6076W-SY]/Let’s talk about infertility： Pregnancy, Miscarriages and Treatments ｜ Head Over Heels #46 [eBq6076W-SY]_48.mp3',\n",
       "  'transcription': \"So that you can, I don't know, doctor, what's your take on that?\"},\n",
       " {'audio': '/home/husein/ssd3/sg-podcast_processed/Let’s talk about infertility： Pregnancy, Miscarriages and Treatments ｜ Head Over Heels #46 [eBq6076W-SY]/Let’s talk about infertility： Pregnancy, Miscarriages and Treatments ｜ Head Over Heels #46 [eBq6076W-SY]_50.mp3',\n",
       "  'transcription': \"Um, I want to talk about some pregnancy taboos. Ooh. Have you, have you had any? I mean, I'm not pregnant, so I wouldn't know much, but we were talking about this earlier that, uh, you said. Yep. If.\"},\n",
       " {'audio': '/home/husein/ssd3/sg-podcast_processed/Let’s talk about infertility： Pregnancy, Miscarriages and Treatments ｜ Head Over Heels #46 [eBq6076W-SY]/Let’s talk about infertility： Pregnancy, Miscarriages and Treatments ｜ Head Over Heels #46 [eBq6076W-SY]_52.mp3',\n",
       "  'transcription': 'Infertility is to, you know, when you finally do get pregnant, some of the taboos that we covered. But I do want to know though, for people who are still struggling right now,'},\n",
       " {'audio': '/home/husein/ssd3/sg-podcast_processed/Let’s talk about infertility： Pregnancy, Miscarriages and Treatments ｜ Head Over Heels #46 [eBq6076W-SY]/Let’s talk about infertility： Pregnancy, Miscarriages and Treatments ｜ Head Over Heels #46 [eBq6076W-SY]_56.mp3',\n",
       "  'transcription': 'Um, what about in terms of cost, uh, a range for, especially the IVF and, and all the test tube baby treatments?'},\n",
       " {'audio': '/home/husein/ssd3/sg-podcast_processed/Let’s talk about infertility： Pregnancy, Miscarriages and Treatments ｜ Head Over Heels #46 [eBq6076W-SY]/Let’s talk about infertility： Pregnancy, Miscarriages and Treatments ｜ Head Over Heels #46 [eBq6076W-SY]_57.mp3',\n",
       "  'transcription': 'Um, what would you advise patients who have been trying and have tried everything, all of the above that you mentioned and still to no avail?'},\n",
       " {'audio': '/home/husein/ssd3/sg-podcast_processed/Let’s talk about infertility： Pregnancy, Miscarriages and Treatments ｜ Head Over Heels #46 [eBq6076W-SY]/Let’s talk about infertility： Pregnancy, Miscarriages and Treatments ｜ Head Over Heels #46 [eBq6076W-SY]_61.mp3',\n",
       "  'transcription': \"Notes that I've been taking, um, from Dr. Nafteeb. Thank you so, so much for sharing. Is there anything that I didn't manage to cover, but you feel like you would like to share with our listeners when it comes to infertility or fertility?\"},\n",
       " {'audio': '/home/husein/ssd3/sg-podcast_processed/Let’s talk about infertility： Pregnancy, Miscarriages and Treatments ｜ Head Over Heels #46 [eBq6076W-SY]/Let’s talk about infertility： Pregnancy, Miscarriages and Treatments ｜ Head Over Heels #46 [eBq6076W-SY]_64.mp3',\n",
       "  'transcription': 'Yeah, thanks for sharing, cuz I, I do have some facts about the center that I would love to share with you guys. So, um, TMC Fertility is established in 1994.'},\n",
       " {'audio': '/home/husein/ssd3/sg-podcast_processed/Let’s talk about infertility： Pregnancy, Miscarriages and Treatments ｜ Head Over Heels #46 [eBq6076W-SY]/Let’s talk about infertility： Pregnancy, Miscarriages and Treatments ｜ Head Over Heels #46 [eBq6076W-SY]_65.mp3',\n",
       "  'transcription': \"Even though I'm not planning for a baby yet. There's nothing wrong with that, right?\"},\n",
       " {'audio': '/home/husein/ssd3/sg-podcast_processed/Let’s talk about infertility： Pregnancy, Miscarriages and Treatments ｜ Head Over Heels #46 [eBq6076W-SY]/Let’s talk about infertility： Pregnancy, Miscarriages and Treatments ｜ Head Over Heels #46 [eBq6076W-SY]_67.mp3',\n",
       "  'transcription': 'I was, I, And after going through what you did. I just stepped into a,'},\n",
       " {'audio': '/home/husein/ssd3/sg-podcast_processed/Let’s talk about infertility： Pregnancy, Miscarriages and Treatments ｜ Head Over Heels #46 [eBq6076W-SY]/Let’s talk about infertility： Pregnancy, Miscarriages and Treatments ｜ Head Over Heels #46 [eBq6076W-SY]_69.mp3',\n",
       "  'transcription': 'You may not have heard, uh, my podcast before, but I always end,'},\n",
       " {'audio': '/home/husein/ssd3/sg-podcast_processed/Let’s talk about infertility： Pregnancy, Miscarriages and Treatments ｜ Head Over Heels #46 [eBq6076W-SY]/Let’s talk about infertility： Pregnancy, Miscarriages and Treatments ｜ Head Over Heels #46 [eBq6076W-SY]_70.mp3',\n",
       "  'transcription': 'Okay. And I would love to know, I just met you today, but I would love to know three words or three sentences to describe your life right now.'},\n",
       " {'audio': '/home/husein/ssd3/sg-podcast_processed/Let’s talk about infertility： Pregnancy, Miscarriages and Treatments ｜ Head Over Heels #46 [eBq6076W-SY]/Let’s talk about infertility： Pregnancy, Miscarriages and Treatments ｜ Head Over Heels #46 [eBq6076W-SY]_71.mp3',\n",
       "  'transcription': \"A child, or planning for family, or not, I think eventually at some point, even if you don't want, people in your life, they will,\"},\n",
       " {'audio': '/home/husein/ssd3/sg-podcast_processed/Trans Man on coming out, gender roles and masculinity ｜ Men, Explain TLDR (Ft. Chris Khor) [Ia9Sf1r-Eac]/Trans Man on coming out, gender roles and masculinity ｜ Men, Explain TLDR (Ft. Chris Khor) [Ia9Sf1r-Eac]_2.mp3',\n",
       "  'transcription': \"Chris and I actually go way back, 10 years ago, I think we were in school, right? 10 years, more than 10 years. It's been a crazy ride. And we were having this conversation prior to the camera started rolling.\"},\n",
       " {'audio': '/home/husein/ssd3/sg-podcast_processed/Trans Man on coming out, gender roles and masculinity ｜ Men, Explain TLDR (Ft. Chris Khor) [Ia9Sf1r-Eac]/Trans Man on coming out, gender roles and masculinity ｜ Men, Explain TLDR (Ft. Chris Khor) [Ia9Sf1r-Eac]_3.mp3',\n",
       "  'transcription': 'Um, but in the beginning stages of school, when I knew you, in poly, especially,'},\n",
       " {'audio': '/home/husein/ssd3/sg-podcast_processed/Trans Man on coming out, gender roles and masculinity ｜ Men, Explain TLDR (Ft. Chris Khor) [Ia9Sf1r-Eac]/Trans Man on coming out, gender roles and masculinity ｜ Men, Explain TLDR (Ft. Chris Khor) [Ia9Sf1r-Eac]_4.mp3',\n",
       "  'transcription': 'And then after that, you had a transition phase. So maybe can you tell us a little bit more about that process?'},\n",
       " {'audio': '/home/husein/ssd3/sg-podcast_processed/Trans Man on coming out, gender roles and masculinity ｜ Men, Explain TLDR (Ft. Chris Khor) [Ia9Sf1r-Eac]/Trans Man on coming out, gender roles and masculinity ｜ Men, Explain TLDR (Ft. Chris Khor) [Ia9Sf1r-Eac]_7.mp3',\n",
       "  'transcription': 'But you do O levels just before you go into poly. So I think what was interesting about that is that I wanna say one of the reasons I went to poly maybe was that'},\n",
       " {'audio': '/home/husein/ssd3/sg-podcast_processed/Trans Man on coming out, gender roles and masculinity ｜ Men, Explain TLDR (Ft. Chris Khor) [Ia9Sf1r-Eac]/Trans Man on coming out, gender roles and masculinity ｜ Men, Explain TLDR (Ft. Chris Khor) [Ia9Sf1r-Eac]_11.mp3',\n",
       "  'transcription': 'A male. Yeah. And so that was interesting for a while because, um, there was a period of time where nobody knew whether to refer to me as he or she.'},\n",
       " {'audio': '/home/husein/ssd3/sg-podcast_processed/Trans Man on coming out, gender roles and masculinity ｜ Men, Explain TLDR (Ft. Chris Khor) [Ia9Sf1r-Eac]/Trans Man on coming out, gender roles and masculinity ｜ Men, Explain TLDR (Ft. Chris Khor) [Ia9Sf1r-Eac]_16.mp3',\n",
       "  'transcription': 'Now, I have to say, I mean, and I, I wanna openly admit as well, like, coming into this podcast, I was also a bit apprehensive, and, um, I think I was a little anxious too, because,'},\n",
       " {'audio': '/home/husein/ssd3/sg-podcast_processed/Trans Man on coming out, gender roles and masculinity ｜ Men, Explain TLDR (Ft. Chris Khor) [Ia9Sf1r-Eac]/Trans Man on coming out, gender roles and masculinity ｜ Men, Explain TLDR (Ft. Chris Khor) [Ia9Sf1r-Eac]_17.mp3',\n",
       "  'transcription': 'Now, according to Bristol University, it is a gendered power that is circulated and embedded within our society that favors masculinity.'},\n",
       " {'audio': '/home/husein/ssd3/sg-podcast_processed/Trans Man on coming out, gender roles and masculinity ｜ Men, Explain TLDR (Ft. Chris Khor) [Ia9Sf1r-Eac]/Trans Man on coming out, gender roles and masculinity ｜ Men, Explain TLDR (Ft. Chris Khor) [Ia9Sf1r-Eac]_19.mp3',\n",
       "  'transcription': 'more rights and privileges by virtue of their sex or sign at birth.'},\n",
       " {'audio': '/home/husein/ssd3/sg-podcast_processed/Trans Man on coming out, gender roles and masculinity ｜ Men, Explain TLDR (Ft. Chris Khor) [Ia9Sf1r-Eac]/Trans Man on coming out, gender roles and masculinity ｜ Men, Explain TLDR (Ft. Chris Khor) [Ia9Sf1r-Eac]_23.mp3',\n",
       "  'transcription': 'Do these things to an even greater extent to prove that you really are man.'},\n",
       " {'audio': '/home/husein/ssd3/sg-podcast_processed/COVID WILL BE AN ENDEMIC？ How will businesses be affected & our lives change？ ｜ Table Talk #127 [QWwZWHmkrMk]/COVID WILL BE AN ENDEMIC？ How will businesses be affected & our lives change？ ｜ Table Talk #127 [QWwZWHmkrMk]_4.mp3',\n",
       "  'transcription': \"I, I do enjoy talking to you too, Dorian Yee. So, but anyway, we got him on today for today's podcast because\"},\n",
       " {'audio': '/home/husein/ssd3/sg-podcast_processed/COVID WILL BE AN ENDEMIC？ How will businesses be affected & our lives change？ ｜ Table Talk #127 [QWwZWHmkrMk]/COVID WILL BE AN ENDEMIC？ How will businesses be affected & our lives change？ ｜ Table Talk #127 [QWwZWHmkrMk]_5.mp3',\n",
       "  'transcription': \"Uh, we're talking about something that's not the most interesting or fun. Right.\"},\n",
       " {'audio': '/home/husein/ssd3/sg-podcast_processed/COVID WILL BE AN ENDEMIC？ How will businesses be affected & our lives change？ ｜ Table Talk #127 [QWwZWHmkrMk]/COVID WILL BE AN ENDEMIC？ How will businesses be affected & our lives change？ ｜ Table Talk #127 [QWwZWHmkrMk]_8.mp3',\n",
       "  'transcription': \"For you, as a person, as the leader of one of the craziest, uh, local food brands. Uh, how, how has things been for you, man? Life, love, work, laying on the table. What's up?\"},\n",
       " {'audio': '/home/husein/ssd3/sg-podcast_processed/COVID WILL BE AN ENDEMIC？ How will businesses be affected & our lives change？ ｜ Table Talk #127 [QWwZWHmkrMk]/COVID WILL BE AN ENDEMIC？ How will businesses be affected & our lives change？ ｜ Table Talk #127 [QWwZWHmkrMk]_18.mp3',\n",
       "  'transcription': \"They announce stuff like, the vaccinations actually help your safety. Do you think people are all just gonna be so comfortable again? Everyone's just gonna take a shit on everything and basically just go out there\"},\n",
       " {'audio': '/home/husein/ssd3/sg-podcast_processed/COVID WILL BE AN ENDEMIC？ How will businesses be affected & our lives change？ ｜ Table Talk #127 [QWwZWHmkrMk]/COVID WILL BE AN ENDEMIC？ How will businesses be affected & our lives change？ ｜ Table Talk #127 [QWwZWHmkrMk]_23.mp3',\n",
       "  'transcription': 'People with families, people with elderly parents, are definitely in a different risk class, okay? Like, I, I, I know, I would, I would,'},\n",
       " {'audio': '/home/husein/ssd3/sg-podcast_processed/COVID WILL BE AN ENDEMIC？ How will businesses be affected & our lives change？ ｜ Table Talk #127 [QWwZWHmkrMk]/COVID WILL BE AN ENDEMIC？ How will businesses be affected & our lives change？ ｜ Table Talk #127 [QWwZWHmkrMk]_32.mp3',\n",
       "  'transcription': \"Um, and, and even for that, so this, like, we've had to, had a conversation this past week about saying no to doing a bunch of projects, uh, that would require us to, kind of like, move, uh, out and about, and, and, and, and get permission to shoot. Because,\"},\n",
       " {'audio': '/home/husein/ssd3/sg-podcast_processed/COVID WILL BE AN ENDEMIC？ How will businesses be affected & our lives change？ ｜ Table Talk #127 [QWwZWHmkrMk]/COVID WILL BE AN ENDEMIC？ How will businesses be affected & our lives change？ ｜ Table Talk #127 [QWwZWHmkrMk]_33.mp3',\n",
       "  'transcription': \"It's still a bit difficult for a lot of talents and, and brands. So, on our side, we are doing what we can, and we are still figuring out how much,\"},\n",
       " {'audio': '/home/husein/ssd3/sg-podcast_processed/COVID WILL BE AN ENDEMIC？ How will businesses be affected & our lives change？ ｜ Table Talk #127 [QWwZWHmkrMk]/COVID WILL BE AN ENDEMIC？ How will businesses be affected & our lives change？ ｜ Table Talk #127 [QWwZWHmkrMk]_35.mp3',\n",
       "  'transcription': 'to have people come in again. And what can people do to help you help them?'},\n",
       " {'audio': '/home/husein/ssd3/sg-podcast_processed/COVID WILL BE AN ENDEMIC？ How will businesses be affected & our lives change？ ｜ Table Talk #127 [QWwZWHmkrMk]/COVID WILL BE AN ENDEMIC？ How will businesses be affected & our lives change？ ｜ Table Talk #127 [QWwZWHmkrMk]_41.mp3',\n",
       "  'transcription': 'Like, I think for, on, like, meetings, person to person, you need to be there. Like, to run teams and to check up on things, the easiest way is in person. But,'},\n",
       " {'audio': '/home/husein/ssd3/sg-podcast_processed/COVID WILL BE AN ENDEMIC？ How will businesses be affected & our lives change？ ｜ Table Talk #127 [QWwZWHmkrMk]/COVID WILL BE AN ENDEMIC？ How will businesses be affected & our lives change？ ｜ Table Talk #127 [QWwZWHmkrMk]_42.mp3',\n",
       "  'transcription': \"If I'm switching back to my creative role, I want to be alone. Like, my creative role has been the absolute trash role because of managerial stuff. Because when you need to talk to people and people need to talk to you,\"},\n",
       " {'audio': '/home/husein/ssd3/sg-podcast_processed/COVID WILL BE AN ENDEMIC？ How will businesses be affected & our lives change？ ｜ Table Talk #127 [QWwZWHmkrMk]/COVID WILL BE AN ENDEMIC？ How will businesses be affected & our lives change？ ｜ Table Talk #127 [QWwZWHmkrMk]_46.mp3',\n",
       "  'transcription': \"If anything, Blank Slate has been, uh, I'm very proud to say that we've been able to keep that, um, working communication alive and healthy this past, uh, year. Uh, just, just being online on Discord to make sure everyone's like, kind of like online and sync together.\"},\n",
       " {'audio': '/home/husein/ssd3/sg-podcast_processed/COVID WILL BE AN ENDEMIC？ How will businesses be affected & our lives change？ ｜ Table Talk #127 [QWwZWHmkrMk]/COVID WILL BE AN ENDEMIC？ How will businesses be affected & our lives change？ ｜ Table Talk #127 [QWwZWHmkrMk]_48.mp3',\n",
       "  'transcription': 'Um, we are still investing into space, whether we like it or not. Uh, as, as a production company and as an agency,'},\n",
       " {'audio': '/home/husein/ssd3/sg-podcast_processed/COVID WILL BE AN ENDEMIC？ How will businesses be affected & our lives change？ ｜ Table Talk #127 [QWwZWHmkrMk]/COVID WILL BE AN ENDEMIC？ How will businesses be affected & our lives change？ ｜ Table Talk #127 [QWwZWHmkrMk]_50.mp3',\n",
       "  'transcription': 'We only want to prioritize, like, the editors. We want to prioritize the people who need to be in studio all the time.'},\n",
       " {'audio': '/home/husein/ssd3/sg-podcast_processed/COVID WILL BE AN ENDEMIC？ How will businesses be affected & our lives change？ ｜ Table Talk #127 [QWwZWHmkrMk]/COVID WILL BE AN ENDEMIC？ How will businesses be affected & our lives change？ ｜ Table Talk #127 [QWwZWHmkrMk]_53.mp3',\n",
       "  'transcription': \"Um, change a lot, the business of how we run business, how we do things today. Um, and maybe that's also something to consider because,\"},\n",
       " {'audio': '/home/husein/ssd3/sg-podcast_processed/COVID WILL BE AN ENDEMIC？ How will businesses be affected & our lives change？ ｜ Table Talk #127 [QWwZWHmkrMk]/COVID WILL BE AN ENDEMIC？ How will businesses be affected & our lives change？ ｜ Table Talk #127 [QWwZWHmkrMk]_56.mp3',\n",
       "  'transcription': \"SOPs fail, use your brains lah, guys. Okay? It, it, it's, it's, guys, it's, it's basic survival instinct at this point, right? If it's dangerous, don't go. Got a hole, don't walk.\"},\n",
       " {'audio': '/home/husein/ssd3/sg-podcast_processed/Online dating and the rise of romance scams ｜ Hush Podcast [3riRGMFgkeY]/Online dating and the rise of romance scams ｜ Hush Podcast [3riRGMFgkeY]_6.mp3',\n",
       "  'transcription': 'You know, I have no idea how after the entire documentary has been posted, women still go to him.'},\n",
       " {'audio': '/home/husein/ssd3/sg-podcast_processed/Online dating and the rise of romance scams ｜ Hush Podcast [3riRGMFgkeY]/Online dating and the rise of romance scams ｜ Hush Podcast [3riRGMFgkeY]_8.mp3',\n",
       "  'transcription': 'Like, you would ask yourself, how did the girls not know about it, right?'},\n",
       " {'audio': '/home/husein/ssd3/sg-podcast_processed/Online dating and the rise of romance scams ｜ Hush Podcast [3riRGMFgkeY]/Online dating and the rise of romance scams ｜ Hush Podcast [3riRGMFgkeY]_12.mp3',\n",
       "  'transcription': 'By one of his partners who wrote this, like, uh, lengthy post about him on this vlogging app.'},\n",
       " {'audio': '/home/husein/ssd3/sg-podcast_processed/Online dating and the rise of romance scams ｜ Hush Podcast [3riRGMFgkeY]/Online dating and the rise of romance scams ｜ Hush Podcast [3riRGMFgkeY]_21.mp3',\n",
       "  'transcription': '$25.1 million. Oh my goodness. All of them added up together. And, um, a single case, the largest sum being cheated was $3 million.'},\n",
       " {'audio': '/home/husein/ssd3/sg-podcast_processed/Online dating and the rise of romance scams ｜ Hush Podcast [3riRGMFgkeY]/Online dating and the rise of romance scams ｜ Hush Podcast [3riRGMFgkeY]_24.mp3',\n",
       "  'transcription': \"Right. So, after watching the documentary, there was one part where this film mentioned that, uh, the victims actually went to Simon LeVive's home,\"},\n",
       " {'audio': '/home/husein/ssd3/sg-podcast_processed/Online dating and the rise of romance scams ｜ Hush Podcast [3riRGMFgkeY]/Online dating and the rise of romance scams ｜ Hush Podcast [3riRGMFgkeY]_25.mp3',\n",
       "  'transcription': \"It's possible as well, but I think it's, to them, it's like easy money. Right. Yeah, like you scam people for money. But the amount of\"},\n",
       " {'audio': '/home/husein/ssd3/sg-podcast_processed/Online dating and the rise of romance scams ｜ Hush Podcast [3riRGMFgkeY]/Online dating and the rise of romance scams ｜ Hush Podcast [3riRGMFgkeY]_27.mp3',\n",
       "  'transcription': \"She's okay now, yeah, but, it, she just felt like it was a blur, and then when she came out of it, it was like,\"},\n",
       " {'audio': '/home/husein/ssd3/sg-podcast_processed/Online dating and the rise of romance scams ｜ Hush Podcast [3riRGMFgkeY]/Online dating and the rise of romance scams ｜ Hush Podcast [3riRGMFgkeY]_53.mp3',\n",
       "  'transcription': 'Yes, move on. Ultimately, because the essence was the same, like you mentioned, they, she looked past this,'},\n",
       " {'audio': '/home/husein/ssd3/sg-podcast_processed/Online dating and the rise of romance scams ｜ Hush Podcast [3riRGMFgkeY]/Online dating and the rise of romance scams ｜ Hush Podcast [3riRGMFgkeY]_60.mp3',\n",
       "  'transcription': 'Yes, he has done a lot of crimes, including sexual assault.'},\n",
       " {'audio': '/home/husein/ssd3/sg-podcast_processed/Online dating and the rise of romance scams ｜ Hush Podcast [3riRGMFgkeY]/Online dating and the rise of romance scams ｜ Hush Podcast [3riRGMFgkeY]_62.mp3',\n",
       "  'transcription': 'When you meet new people. This is like, for everything in life, in general. And one thing to remember is Google is free. Our producer right here, Google is free.'},\n",
       " {'audio': '/home/husein/ssd3/sg-podcast_processed/🗣 Andie Chen & Kate Pang Flirtatiously Cute Interactions! ｜ Assumptions About Me [gW6K3yo0iso]/🗣 Andie Chen & Kate Pang Flirtatiously Cute Interactions! ｜ Assumptions About Me [gW6K3yo0iso]_4.mp3',\n",
       "  'transcription': 'Believes he is a better actor than most of the artists in media po-'},\n",
       " {'audio': '/home/husein/ssd3/sg-podcast_processed/Are Singaporeans Actually PROUD of OUR OLYMPIANS!？ (ft. 987 DJs Joakim & Sonia) ｜ The Hop Pod Ep.57 [SMv6_qkeFsY]/Are Singaporeans Actually PROUD of OUR OLYMPIANS!？ (ft. 987 DJs Joakim & Sonia) ｜ The Hop Pod Ep.57 [SMv6_qkeFsY]_0.mp3',\n",
       "  'transcription': \"Hey everyone and welcome back to the HopPod where we hop into different transitions in life. I'm Q. I'm Joey.\"},\n",
       " {'audio': '/home/husein/ssd3/sg-podcast_processed/Are Singaporeans Actually PROUD of OUR OLYMPIANS!？ (ft. 987 DJs Joakim & Sonia) ｜ The Hop Pod Ep.57 [SMv6_qkeFsY]/Are Singaporeans Actually PROUD of OUR OLYMPIANS!？ (ft. 987 DJs Joakim & Sonia) ｜ The Hop Pod Ep.57 [SMv6_qkeFsY]_2.mp3',\n",
       "  'transcription': \"It's a podcast. We're gonna exchange opinions and talk about things. Not roast me all the way.\"},\n",
       " {'audio': '/home/husein/ssd3/sg-podcast_processed/Are Singaporeans Actually PROUD of OUR OLYMPIANS!？ (ft. 987 DJs Joakim & Sonia) ｜ The Hop Pod Ep.57 [SMv6_qkeFsY]/Are Singaporeans Actually PROUD of OUR OLYMPIANS!？ (ft. 987 DJs Joakim & Sonia) ｜ The Hop Pod Ep.57 [SMv6_qkeFsY]_9.mp3',\n",
       "  'transcription': \"And I wonder whether it's because here in Singapore, we don't have as much of a rich culture in music and sports as other more\"},\n",
       " {'audio': '/home/husein/ssd3/sg-podcast_processed/Are Singaporeans Actually PROUD of OUR OLYMPIANS!？ (ft. 987 DJs Joakim & Sonia) ｜ The Hop Pod Ep.57 [SMv6_qkeFsY]/Are Singaporeans Actually PROUD of OUR OLYMPIANS!？ (ft. 987 DJs Joakim & Sonia) ｜ The Hop Pod Ep.57 [SMv6_qkeFsY]_17.mp3',\n",
       "  'transcription': 'As a musician yourself, have you felt that very strongly growing up?'},\n",
       " {'audio': '/home/husein/ssd3/sg-podcast_processed/Are Singaporeans Actually PROUD of OUR OLYMPIANS!？ (ft. 987 DJs Joakim & Sonia) ｜ The Hop Pod Ep.57 [SMv6_qkeFsY]/Are Singaporeans Actually PROUD of OUR OLYMPIANS!？ (ft. 987 DJs Joakim & Sonia) ｜ The Hop Pod Ep.57 [SMv6_qkeFsY]_21.mp3',\n",
       "  'transcription': \"things. Mm. But don't support, just for the sake of supporting, because we are diluting the pool of good talent.\"},\n",
       " {'audio': '/home/husein/ssd3/sg-podcast_processed/Are Singaporeans Actually PROUD of OUR OLYMPIANS!？ (ft. 987 DJs Joakim & Sonia) ｜ The Hop Pod Ep.57 [SMv6_qkeFsY]/Are Singaporeans Actually PROUD of OUR OLYMPIANS!？ (ft. 987 DJs Joakim & Sonia) ｜ The Hop Pod Ep.57 [SMv6_qkeFsY]_23.mp3',\n",
       "  'transcription': \"We are just like throwing our support wherever. And it's like the amount of times you see the comment, no one asked, or like,\"},\n",
       " {'audio': '/home/husein/ssd3/sg-podcast_processed/Are Singaporeans Actually PROUD of OUR OLYMPIANS!？ (ft. 987 DJs Joakim & Sonia) ｜ The Hop Pod Ep.57 [SMv6_qkeFsY]/Are Singaporeans Actually PROUD of OUR OLYMPIANS!？ (ft. 987 DJs Joakim & Sonia) ｜ The Hop Pod Ep.57 [SMv6_qkeFsY]_24.mp3',\n",
       "  'transcription': \"We're very invested because we also, you know, in our day jobs,\"},\n",
       " {'audio': '/home/husein/ssd3/sg-podcast_processed/Are Singaporeans Actually PROUD of OUR OLYMPIANS!？ (ft. 987 DJs Joakim & Sonia) ｜ The Hop Pod Ep.57 [SMv6_qkeFsY]/Are Singaporeans Actually PROUD of OUR OLYMPIANS!？ (ft. 987 DJs Joakim & Sonia) ｜ The Hop Pod Ep.57 [SMv6_qkeFsY]_30.mp3',\n",
       "  'transcription': 'If someone is a host or an MC, and they speak with a bit of an accent off-air,'},\n",
       " {'audio': '/home/husein/ssd3/sg-podcast_processed/Are Singaporeans Actually PROUD of OUR OLYMPIANS!？ (ft. 987 DJs Joakim & Sonia) ｜ The Hop Pod Ep.57 [SMv6_qkeFsY]/Are Singaporeans Actually PROUD of OUR OLYMPIANS!？ (ft. 987 DJs Joakim & Sonia) ｜ The Hop Pod Ep.57 [SMv6_qkeFsY]_34.mp3',\n",
       "  'transcription': 'And we were, you know, just chatting and someone left a comment saying, why do they always bite down on their words?'},\n",
       " {'audio': '/home/husein/ssd3/sg-podcast_processed/Are Singaporeans Actually PROUD of OUR OLYMPIANS!？ (ft. 987 DJs Joakim & Sonia) ｜ The Hop Pod Ep.57 [SMv6_qkeFsY]/Are Singaporeans Actually PROUD of OUR OLYMPIANS!？ (ft. 987 DJs Joakim & Sonia) ｜ The Hop Pod Ep.57 [SMv6_qkeFsY]_38.mp3',\n",
       "  'transcription': \"It's interesting to see how we are perceived by our foreign friends lah.\"},\n",
       " {'audio': '/home/husein/ssd3/sg-podcast_processed/Are Singaporeans Actually PROUD of OUR OLYMPIANS!？ (ft. 987 DJs Joakim & Sonia) ｜ The Hop Pod Ep.57 [SMv6_qkeFsY]/Are Singaporeans Actually PROUD of OUR OLYMPIANS!？ (ft. 987 DJs Joakim & Sonia) ｜ The Hop Pod Ep.57 [SMv6_qkeFsY]_44.mp3',\n",
       "  'transcription': \"It is so important because in those moments where the local artists are being put up on that stage, it's not just about singing a song about Singapore.\"},\n",
       " {'audio': '/home/husein/ssd3/sg-podcast_processed/Are Singaporeans Actually PROUD of OUR OLYMPIANS!？ (ft. 987 DJs Joakim & Sonia) ｜ The Hop Pod Ep.57 [SMv6_qkeFsY]/Are Singaporeans Actually PROUD of OUR OLYMPIANS!？ (ft. 987 DJs Joakim & Sonia) ｜ The Hop Pod Ep.57 [SMv6_qkeFsY]_45.mp3',\n",
       "  'transcription': 'They put on a show for you with their dancers, with their own personality. You should see Ben King on the stage. Like, we swear we saw him tearing up, like, over the last couple of rehearsals as well.'},\n",
       " {'audio': '/home/husein/ssd3/sg-podcast_processed/Are Singaporeans Actually PROUD of OUR OLYMPIANS!？ (ft. 987 DJs Joakim & Sonia) ｜ The Hop Pod Ep.57 [SMv6_qkeFsY]/Are Singaporeans Actually PROUD of OUR OLYMPIANS!？ (ft. 987 DJs Joakim & Sonia) ｜ The Hop Pod Ep.57 [SMv6_qkeFsY]_49.mp3',\n",
       "  'transcription': 'And, this is not a paid plug or whatever, but I recently watched Wonderland, which is a local film, that actually won accolades overseas. They are now going to show in Singapore. It is pretty much fully in Hokkien.'},\n",
       " {'audio': '/home/husein/ssd3/sg-podcast_processed/Are Singaporeans Actually PROUD of OUR OLYMPIANS!？ (ft. 987 DJs Joakim & Sonia) ｜ The Hop Pod Ep.57 [SMv6_qkeFsY]/Are Singaporeans Actually PROUD of OUR OLYMPIANS!？ (ft. 987 DJs Joakim & Sonia) ｜ The Hop Pod Ep.57 [SMv6_qkeFsY]_50.mp3',\n",
       "  'transcription': 'And Peter Yu as well. Xenia together, the whole cast, fantastic.'},\n",
       " {'audio': '/home/husein/ssd3/sg-podcast_processed/Are Singaporeans Actually PROUD of OUR OLYMPIANS!？ (ft. 987 DJs Joakim & Sonia) ｜ The Hop Pod Ep.57 [SMv6_qkeFsY]/Are Singaporeans Actually PROUD of OUR OLYMPIANS!？ (ft. 987 DJs Joakim & Sonia) ｜ The Hop Pod Ep.57 [SMv6_qkeFsY]_52.mp3',\n",
       "  'transcription': 'And, you know, they just put out good work. I think just keep focusing on, on that.'},\n",
       " {'audio': '/home/husein/ssd3/sg-podcast_processed/Are Singaporeans Actually PROUD of OUR OLYMPIANS!？ (ft. 987 DJs Joakim & Sonia) ｜ The Hop Pod Ep.57 [SMv6_qkeFsY]/Are Singaporeans Actually PROUD of OUR OLYMPIANS!？ (ft. 987 DJs Joakim & Sonia) ｜ The Hop Pod Ep.57 [SMv6_qkeFsY]_53.mp3',\n",
       "  'transcription': 'Guys, no, we actually have a lot of, um, great and supported Singaporean things, like Charles and Keith, like Love Bonito,'},\n",
       " {'audio': '/home/husein/ssd3/sg-podcast_processed/PODCASTERS VS RADIO DJS Ft. The DAKA Show ｜ #DailyKetchup EP312 [Rfu5-vOeIOs]/PODCASTERS VS RADIO DJS Ft. The DAKA Show ｜ #DailyKetchup EP312 [Rfu5-vOeIOs]_1.mp3',\n",
       "  'transcription': 'At the end of the day, the most important thing is really your family and friends. I really, truly feel that way.'},\n",
       " {'audio': '/home/husein/ssd3/sg-podcast_processed/PODCASTERS VS RADIO DJS Ft. The DAKA Show ｜ #DailyKetchup EP312 [Rfu5-vOeIOs]/PODCASTERS VS RADIO DJS Ft. The DAKA Show ｜ #DailyKetchup EP312 [Rfu5-vOeIOs]_2.mp3',\n",
       "  'transcription': 'But then I realised that at the end of the day, I am, like, replaceable. And then, like, one day, you will,'},\n",
       " {'audio': '/home/husein/ssd3/sg-podcast_processed/Are You Dating a High Value Woman？ ｜ #DailyKetchup EP 243 [m8bvW-ykUJs]/Are You Dating a High Value Woman？ ｜ #DailyKetchup EP 243 [m8bvW-ykUJs]_2.mp3',\n",
       "  'transcription': 'Enthusiastic and exuberant. Number five, loyal.'},\n",
       " {'audio': '/home/husein/ssd3/sg-podcast_processed/Sesi Jamming [UvN7lgZHuPI]/Sesi Jamming [UvN7lgZHuPI]_2.mp3',\n",
       "  'transcription': 'But you still with me in my dreams.'},\n",
       " {'audio': '/home/husein/ssd3/sg-podcast_processed/Are Gen Zs OVERSHARING on Social Media？ ｜ The Hop Pod Ep.47 [Iuys7eKIsJs]/Are Gen Zs OVERSHARING on Social Media？ ｜ The Hop Pod Ep.47 [Iuys7eKIsJs]_0.mp3',\n",
       "  'transcription': \"I'm Q. I'm Joey. And today, we are going to talk about the evolution of social media and how it differs between Gen Z and millennials. Ooh.\"},\n",
       " {'audio': '/home/husein/ssd3/sg-podcast_processed/Are Gen Zs OVERSHARING on Social Media？ ｜ The Hop Pod Ep.47 [Iuys7eKIsJs]/Are Gen Zs OVERSHARING on Social Media？ ｜ The Hop Pod Ep.47 [Iuys7eKIsJs]_12.mp3',\n",
       "  'transcription': 'Speaking of getting information online, right? Do you feel like we are being too reliant on social media now as a news source? Like, really credible news sources are on TikTok now, and a lot of the youths as a result are very updated with current affairs, sometimes even more so than the adults.'},\n",
       " {'audio': '/home/husein/ssd3/sg-podcast_processed/Are Gen Zs OVERSHARING on Social Media？ ｜ The Hop Pod Ep.47 [Iuys7eKIsJs]/Are Gen Zs OVERSHARING on Social Media？ ｜ The Hop Pod Ep.47 [Iuys7eKIsJs]_16.mp3',\n",
       "  'transcription': 'I think our oversharing last time was more like, oh, we broke up with this XXX person.'},\n",
       " {'audio': '/home/husein/ssd3/sg-podcast_processed/Are Gen Zs OVERSHARING on Social Media？ ｜ The Hop Pod Ep.47 [Iuys7eKIsJs]/Are Gen Zs OVERSHARING on Social Media？ ｜ The Hop Pod Ep.47 [Iuys7eKIsJs]_17.mp3',\n",
       "  'transcription': 'Mm. And I, I do want to touch on how oversharing on sexual desires is very different from'},\n",
       " {'audio': '/home/husein/ssd3/sg-podcast_processed/Are Gen Zs OVERSHARING on Social Media？ ｜ The Hop Pod Ep.47 [Iuys7eKIsJs]/Are Gen Zs OVERSHARING on Social Media？ ｜ The Hop Pod Ep.47 [Iuys7eKIsJs]_18.mp3',\n",
       "  'transcription': 'I think that you are very self-aware as a human being.'},\n",
       " {'audio': '/home/husein/ssd3/sg-podcast_processed/Are Gen Zs OVERSHARING on Social Media？ ｜ The Hop Pod Ep.47 [Iuys7eKIsJs]/Are Gen Zs OVERSHARING on Social Media？ ｜ The Hop Pod Ep.47 [Iuys7eKIsJs]_20.mp3',\n",
       "  'transcription': \"doing something that requires me to talk a lot. Mm. Cause I've always felt that I wasn't very good at communicating. But I think, over time,\"},\n",
       " {'audio': '/home/husein/ssd3/sg-podcast_processed/Are Gen Zs OVERSHARING on Social Media？ ｜ The Hop Pod Ep.47 [Iuys7eKIsJs]/Are Gen Zs OVERSHARING on Social Media？ ｜ The Hop Pod Ep.47 [Iuys7eKIsJs]_21.mp3',\n",
       "  'transcription': 'Many years ago, you released one of your original songs and I submitted anonymously on your telonym that my classmate confessed using that song. It was a lie.'},\n",
       " {'audio': '/home/husein/ssd3/sg-podcast_processed/Are Gen Zs OVERSHARING on Social Media？ ｜ The Hop Pod Ep.47 [Iuys7eKIsJs]/Are Gen Zs OVERSHARING on Social Media？ ｜ The Hop Pod Ep.47 [Iuys7eKIsJs]_28.mp3',\n",
       "  'transcription': 'Thank you for joining us on social media today on the hot pot. You can also listen to us on Spotify, Apple Podcasts, and MeListen.'},\n",
       " {'audio': '/home/husein/ssd3/sg-podcast_processed/CRACK MY NUTS WITH A NUTCRACKER？! ｜ AYY-MEN #2 [DeSXz8cBj-s]/CRACK MY NUTS WITH A NUTCRACKER？! ｜ AYY-MEN #2 [DeSXz8cBj-s]_1.mp3',\n",
       "  'transcription': 'As you can see, there are notes on our heads with three different words, along with some whipped cream on the table. So, the three words on each of our heads, right, are forbidden words that we cannot say.'},\n",
       " {'audio': '/home/husein/ssd3/sg-podcast_processed/Should We Drop Out of School & Start a Business？？ #thedailyketchup #podcast #lovebonito #women [WMlq70O-G4E]/Should We Drop Out of School & Start a Business？？ #thedailyketchup #podcast #lovebonito #women [WMlq70O-G4E]_0.mp3',\n",
       "  'transcription': 'So, you know, when, when I finally decided to, you know, drop out of school, to borrow money from my mom, to pay off the bond, to co-start the business proper,'},\n",
       " {'audio': '/home/husein/ssd3/sg-podcast_processed/#59 Moving Out Of Your Family Home, The Reality Of Living Alone & Knowing When You’re Ready [oK8T1XQy_C8]/#59 Moving Out Of Your Family Home, The Reality Of Living Alone & Knowing When You’re Ready [oK8T1XQy_C8]_8.mp3',\n",
       "  'transcription': 'Um, because they have just been making ridiculous claims. Yeah. And so we as a people of the country are left wondering what the'},\n",
       " {'audio': '/home/husein/ssd3/sg-podcast_processed/#59 Moving Out Of Your Family Home, The Reality Of Living Alone & Knowing When You’re Ready [oK8T1XQy_C8]/#59 Moving Out Of Your Family Home, The Reality Of Living Alone & Knowing When You’re Ready [oK8T1XQy_C8]_13.mp3',\n",
       "  'transcription': 'So, basically, I think with all this time being spent at home, uh, with your family, you are in a space that you cannot escape from.'},\n",
       " {'audio': '/home/husein/ssd3/sg-podcast_processed/#59 Moving Out Of Your Family Home, The Reality Of Living Alone & Knowing When You’re Ready [oK8T1XQy_C8]/#59 Moving Out Of Your Family Home, The Reality Of Living Alone & Knowing When You’re Ready [oK8T1XQy_C8]_22.mp3',\n",
       "  'transcription': 'Where else, I would say, our culture over here. Um, as much as you wanna give,'},\n",
       " {'audio': '/home/husein/ssd3/sg-podcast_processed/#59 Moving Out Of Your Family Home, The Reality Of Living Alone & Knowing When You’re Ready [oK8T1XQy_C8]/#59 Moving Out Of Your Family Home, The Reality Of Living Alone & Knowing When You’re Ready [oK8T1XQy_C8]_23.mp3',\n",
       "  'transcription': 'Shit to our Asian parents, like, being crazy and, uh, you know, super,'},\n",
       " {'audio': '/home/husein/ssd3/sg-podcast_processed/#59 Moving Out Of Your Family Home, The Reality Of Living Alone & Knowing When You’re Ready [oK8T1XQy_C8]/#59 Moving Out Of Your Family Home, The Reality Of Living Alone & Knowing When You’re Ready [oK8T1XQy_C8]_24.mp3',\n",
       "  'transcription': 'Like, out of the house, right as you finished, uh, college. Just saying. Hm.'},\n",
       " {'audio': '/home/husein/ssd3/sg-podcast_processed/#59 Moving Out Of Your Family Home, The Reality Of Living Alone & Knowing When You’re Ready [oK8T1XQy_C8]/#59 Moving Out Of Your Family Home, The Reality Of Living Alone & Knowing When You’re Ready [oK8T1XQy_C8]_30.mp3',\n",
       "  'transcription': \"Well, to be honest, I, I don't see the need to. Uh, then she was like, but you stayed in UK for two years and you cook\"},\n",
       " {'audio': '/home/husein/ssd3/sg-podcast_processed/#59 Moving Out Of Your Family Home, The Reality Of Living Alone & Knowing When You’re Ready [oK8T1XQy_C8]/#59 Moving Out Of Your Family Home, The Reality Of Living Alone & Knowing When You’re Ready [oK8T1XQy_C8]_43.mp3',\n",
       "  'transcription': \"I'm gonna take that step of faith. I know it's, it's not gonna be, uh,\"},\n",
       " {'audio': '/home/husein/ssd3/sg-podcast_processed/#59 Moving Out Of Your Family Home, The Reality Of Living Alone & Knowing When You’re Ready [oK8T1XQy_C8]/#59 Moving Out Of Your Family Home, The Reality Of Living Alone & Knowing When You’re Ready [oK8T1XQy_C8]_92.mp3',\n",
       "  'transcription': \"That's just the first building blocks you are gonna experience when you move out. There are so many things\"},\n",
       " {'audio': '/home/husein/ssd3/sg-podcast_processed/The Cost of Raising a Child in this Time and Age ｜ FRFR [7VHItMgljjU]/The Cost of Raising a Child in this Time and Age ｜ FRFR [7VHItMgljjU]_0.mp3',\n",
       "  'transcription': 'How has your financial budgeting changed?'},\n",
       " {'audio': '/home/husein/ssd3/sg-podcast_processed/The Cost of Raising a Child in this Time and Age ｜ FRFR [7VHItMgljjU]/The Cost of Raising a Child in this Time and Age ｜ FRFR [7VHItMgljjU]_1.mp3',\n",
       "  'transcription': 'Knowing you have a child coming or after having children.'},\n",
       " {'audio': '/home/husein/ssd3/sg-podcast_processed/The Cost of Raising a Child in this Time and Age ｜ FRFR [7VHItMgljjU]/The Cost of Raising a Child in this Time and Age ｜ FRFR [7VHItMgljjU]_3.mp3',\n",
       "  'transcription': \"It's definitely very different from where we came from. Uh, it's either,\"},\n",
       " {'audio': '/home/husein/ssd3/sg-podcast_processed/What To Do And Eat In Sydney, Australia [H4y5ydsnMuk]/What To Do And Eat In Sydney, Australia [H4y5ydsnMuk]_1.mp3',\n",
       "  'transcription': 'Um, no, but I do actually have some bad news for you guys. Um, unfortunately,'},\n",
       " {'audio': '/home/husein/ssd3/sg-podcast_processed/Have you heard about the 🧠& 🍑👌？ #shorts [DiQFH3xhSoo]/Have you heard about the 🧠& 🍑👌？ #shorts [DiQFH3xhSoo]_0.mp3',\n",
       "  'transcription': \"You just know, wherever you go in the world, the asshole is always in control. It's true.\"}]"
      ]
     },
     "execution_count": 44,
     "metadata": {},
     "output_type": "execute_result"
    }
   ],
   "source": [
    "data[-100:]"
   ]
  },
  {
   "cell_type": "code",
   "execution_count": 57,
   "id": "ca489109",
   "metadata": {},
   "outputs": [
    {
     "data": {
      "text/plain": [
       "1518322"
      ]
     },
     "execution_count": 57,
     "metadata": {},
     "output_type": "execute_result"
    }
   ],
   "source": [
    "len(data)"
   ]
  },
  {
   "cell_type": "code",
   "execution_count": 60,
   "id": "d71c236b",
   "metadata": {},
   "outputs": [
    {
     "data": {
      "text/plain": [
       "{'audio': 'malaysian-podcast_processed/Super. Sunday： Brand Jahat Local [hQkCidjHoVM]/Super. Sunday： Brand Jahat Local [hQkCidjHoVM]_1.mp3',\n",
       " 'transcription': 'Ah, benda tu kalau jadi, memang, satu eksperimen yang besar, melibatkan kos yang besar, tapi, impact kita tak tahu, kita just nak buat satu benda gila lah, Voltron dengan Super Sunday. Insya Allah, tahun ni kalau sempat lah.'}"
      ]
     },
     "execution_count": 60,
     "metadata": {},
     "output_type": "execute_result"
    }
   ],
   "source": [
    "data[0]"
   ]
  },
  {
   "cell_type": "code",
   "execution_count": 61,
   "id": "c5191d6e",
   "metadata": {},
   "outputs": [
    {
     "data": {
      "text/html": [
       "\n",
       "                <audio  controls=\"controls\" >\n",
       "                    <source src=\"data:audio/mpeg;base64,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\" type=\"audio/mpeg\" />\n",
       "                    Your browser does not support the audio element.\n",
       "                </audio>\n",
       "              "
      ],
      "text/plain": [
       "<IPython.lib.display.Audio object>"
      ]
     },
     "execution_count": 61,
     "metadata": {},
     "output_type": "execute_result"
    }
   ],
   "source": [
    "import IPython.display as ipd\n",
    "ipd.Audio(data[0]['audio'])"
   ]
  },
  {
   "cell_type": "code",
   "execution_count": 62,
   "id": "5e5a20a6",
   "metadata": {},
   "outputs": [
    {
     "data": {
      "text/html": [
       "<div>\n",
       "<style scoped>\n",
       "    .dataframe tbody tr th:only-of-type {\n",
       "        vertical-align: middle;\n",
       "    }\n",
       "\n",
       "    .dataframe tbody tr th {\n",
       "        vertical-align: top;\n",
       "    }\n",
       "\n",
       "    .dataframe thead th {\n",
       "        text-align: right;\n",
       "    }\n",
       "</style>\n",
       "<table border=\"1\" class=\"dataframe\">\n",
       "  <thead>\n",
       "    <tr style=\"text-align: right;\">\n",
       "      <th></th>\n",
       "      <th>audio</th>\n",
       "      <th>transcription</th>\n",
       "    </tr>\n",
       "  </thead>\n",
       "  <tbody>\n",
       "    <tr>\n",
       "      <th>0</th>\n",
       "      <td>malaysian-podcast_processed/Super. Sunday： Bra...</td>\n",
       "      <td>Ah, benda tu kalau jadi, memang, satu eksperim...</td>\n",
       "    </tr>\n",
       "    <tr>\n",
       "      <th>1</th>\n",
       "      <td>malaysian-podcast_processed/Macamana Pramugari...</td>\n",
       "      <td>Okay, I sebenarnya macam ni. Masa I lapan bela...</td>\n",
       "    </tr>\n",
       "    <tr>\n",
       "      <th>2</th>\n",
       "      <td>malaysian-podcast_processed/Macamana Pramugari...</td>\n",
       "      <td>Haa, lepas tu, kawan I. Yang kita pergi interv...</td>\n",
       "    </tr>\n",
       "    <tr>\n",
       "      <th>3</th>\n",
       "      <td>malaysian-podcast_processed/Macamana Pramugari...</td>\n",
       "      <td>Ada interview lagi, I tengok. I buka newspaper...</td>\n",
       "    </tr>\n",
       "    <tr>\n",
       "      <th>4</th>\n",
       "      <td>malaysian-podcast_processed/Macamana Pramugari...</td>\n",
       "      <td>ajar kat Tok I, boleh tak nak pergi dekat ruma...</td>\n",
       "    </tr>\n",
       "  </tbody>\n",
       "</table>\n",
       "</div>"
      ],
      "text/plain": [
       "                                               audio  \\\n",
       "0  malaysian-podcast_processed/Super. Sunday： Bra...   \n",
       "1  malaysian-podcast_processed/Macamana Pramugari...   \n",
       "2  malaysian-podcast_processed/Macamana Pramugari...   \n",
       "3  malaysian-podcast_processed/Macamana Pramugari...   \n",
       "4  malaysian-podcast_processed/Macamana Pramugari...   \n",
       "\n",
       "                                       transcription  \n",
       "0  Ah, benda tu kalau jadi, memang, satu eksperim...  \n",
       "1  Okay, I sebenarnya macam ni. Masa I lapan bela...  \n",
       "2  Haa, lepas tu, kawan I. Yang kita pergi interv...  \n",
       "3  Ada interview lagi, I tengok. I buka newspaper...  \n",
       "4  ajar kat Tok I, boleh tak nak pergi dekat ruma...  "
      ]
     },
     "execution_count": 62,
     "metadata": {},
     "output_type": "execute_result"
    }
   ],
   "source": [
    "import pandas as pd\n",
    "\n",
    "df = pd.DataFrame(data)\n",
    "df.head()"
   ]
  },
  {
   "cell_type": "code",
   "execution_count": 63,
   "id": "8f4993ac",
   "metadata": {},
   "outputs": [],
   "source": [
    "df.to_parquet('verify-text.parquet')"
   ]
  },
  {
   "cell_type": "code",
   "execution_count": 64,
   "id": "cbb38f67",
   "metadata": {},
   "outputs": [
    {
     "name": "stdout",
     "output_type": "stream",
     "text": [
      "-rw-rw-r-- 1 husein husein 134M Jan   4 09:04 verify-text.parquet\r\n"
     ]
    }
   ],
   "source": [
    "!ls -lh verify-text.parquet"
   ]
  },
  {
   "cell_type": "code",
   "execution_count": 65,
   "id": "7fe583e0",
   "metadata": {},
   "outputs": [
    {
     "data": {
      "application/vnd.jupyter.widget-view+json": {
       "model_id": "b6c97d9dfcf64ee09b56735daff4090d",
       "version_major": 2,
       "version_minor": 0
      },
      "text/plain": [
       "verify-text.parquet:   0%|          | 0.00/140M [00:00<?, ?B/s]"
      ]
     },
     "metadata": {},
     "output_type": "display_data"
    },
    {
     "data": {
      "text/plain": [
       "CommitInfo(commit_url='https://huggingface.co/datasets/mesolitica/Malaysian-Voice-Conversion/commit/6be829ab3e54c94438dccd6098ad27dbc07c2131', commit_message='Upload data/verify_text-00000-of-00001.parquet with huggingface_hub', commit_description='', oid='6be829ab3e54c94438dccd6098ad27dbc07c2131', pr_url=None, repo_url=RepoUrl('https://huggingface.co/datasets/mesolitica/Malaysian-Voice-Conversion', endpoint='https://huggingface.co', repo_type='dataset', repo_id='mesolitica/Malaysian-Voice-Conversion'), pr_revision=None, pr_num=None)"
      ]
     },
     "execution_count": 65,
     "metadata": {},
     "output_type": "execute_result"
    }
   ],
   "source": [
    "from huggingface_hub import HfApi\n",
    "api = HfApi()\n",
    "api.upload_file(\n",
    "    path_or_fileobj=\"verify-text.parquet\",\n",
    "    path_in_repo=\"data/verify_text-00000-of-00001.parquet\",\n",
    "    repo_id=\"mesolitica/Malaysian-Voice-Conversion\",\n",
    "    repo_type=\"dataset\",\n",
    ")"
   ]
  }
 ],
 "metadata": {
  "kernelspec": {
   "display_name": "python3.10",
   "language": "python",
   "name": "python3.10"
  },
  "language_info": {
   "codemirror_mode": {
    "name": "ipython",
    "version": 3
   },
   "file_extension": ".py",
   "mimetype": "text/x-python",
   "name": "python",
   "nbconvert_exporter": "python",
   "pygments_lexer": "ipython3",
   "version": "3.10.15"
  }
 },
 "nbformat": 4,
 "nbformat_minor": 5
}
