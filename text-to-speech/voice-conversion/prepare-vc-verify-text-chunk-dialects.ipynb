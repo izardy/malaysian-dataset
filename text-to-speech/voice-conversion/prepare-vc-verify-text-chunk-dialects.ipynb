{
 "cells": [
  {
   "cell_type": "code",
   "execution_count": 1,
   "id": "52750ecd",
   "metadata": {},
   "outputs": [],
   "source": [
    "from glob import glob\n",
    "from tqdm import tqdm\n",
    "from sklearn.feature_extraction.text import CountVectorizer\n",
    "import json\n",
    "import os\n",
    "import mp\n",
    "import re\n",
    "import subprocess\n",
    "import soundfile as sf"
   ]
  },
  {
   "cell_type": "code",
   "execution_count": 2,
   "id": "4b0763f2",
   "metadata": {},
   "outputs": [
    {
     "data": {
      "text/plain": [
       "172101"
      ]
     },
     "execution_count": 2,
     "metadata": {},
     "output_type": "execute_result"
    }
   ],
   "source": [
    "files = glob('dialects_processed/**/*/*.json', recursive = True)\n",
    "\n",
    "len(files)"
   ]
  },
  {
   "cell_type": "code",
   "execution_count": 3,
   "id": "b30a213b",
   "metadata": {},
   "outputs": [],
   "source": [
    "rejected = [\n",
    "    'terima kasih kerana menonton',\n",
    "    'terima kasih',\n",
    "    'thank you for watching',\n",
    "]"
   ]
  },
  {
   "cell_type": "code",
   "execution_count": 4,
   "id": "5c57cf5e",
   "metadata": {},
   "outputs": [],
   "source": [
    "threshold = -18\n",
    "\n",
    "def new_path(f):\n",
    "    f = f.replace('.mp3', '.alignment')\n",
    "    f = f.replace('_processed/', '_processed_alignment/')\n",
    "    return f\n",
    "\n",
    "def new_path_lang(f):\n",
    "    f = f.replace('.mp3', '.language')\n",
    "    f = f.replace('_processed/', '_processed_language/')\n",
    "    return f\n",
    "\n",
    "def chunk(alignment, reject = threshold, minimum_length = 2.0):\n",
    "    alls, temp = [], []\n",
    "    for a in alignment:\n",
    "        if a['score'] <= reject:\n",
    "            if len(temp):\n",
    "                temp[-1]['end'] = a['start']\n",
    "                if (temp[-1]['end'] - temp[0]['start']) >= minimum_length:\n",
    "                    alls.append(temp)\n",
    "                temp = []\n",
    "        else:\n",
    "            temp.append(a)\n",
    "            \n",
    "    if len(temp):\n",
    "        if (temp[-1]['end'] - temp[0]['start']) >= minimum_length:\n",
    "            alls.append(temp)\n",
    "    return alls\n",
    "        \n",
    "def clean(string):\n",
    "    string = re.sub('[^A-Za-z ]+', ' ', string)\n",
    "    string = re.sub(r'[ ]+', ' ', string).strip()\n",
    "    return string.lower()\n",
    "\n",
    "def detect_extra(word):\n",
    "    word = clean(word)\n",
    "    return word in [\n",
    "        'eh', 'ehh', 'oh', 'ohh', 'uhm', 'uhmm',\n",
    "        'um', 'em', 'emm', 'ah', 'ha', 'ok', 'okay',\n",
    "        'so', 'yes', 'no', 'ah', 'aa', 'so', 'uh', 'um', 'eh', 'ha', 'oh', 'ye', 'haa',\n",
    "        'oi', 'ya', 'leh', 'lah', 'haiya', 'hoi', 'haha', 'hahaha',\n",
    "        'then', 'it s'\n",
    "    ]\n",
    "\n",
    "from collections import defaultdict\n",
    "\n",
    "def generate_trigrams(text):\n",
    "    words = text.split()\n",
    "    return list(zip(words, words[1:], words[2:]))\n",
    "\n",
    "def skip_trigrams(text):\n",
    "    trigrams = generate_trigrams(text)\n",
    "    count = defaultdict(int)\n",
    "    total = 0\n",
    "    for t in trigrams:\n",
    "        count[''.join(t)] += 1\n",
    "        total += 1\n",
    "    if len(count.keys()) < 3:\n",
    "        return True\n",
    "    for k, v in count.items():\n",
    "        if (v / total) > 0.2:\n",
    "            return True\n",
    "    return False"
   ]
  },
  {
   "cell_type": "code",
   "execution_count": 5,
   "id": "39f01ec5",
   "metadata": {},
   "outputs": [],
   "source": [
    "!rm -rf dialects-chunk\n",
    "!mkdir dialects-chunk"
   ]
  },
  {
   "cell_type": "code",
   "execution_count": 6,
   "id": "ccb2270a",
   "metadata": {},
   "outputs": [],
   "source": [
    "def loop(files):\n",
    "    files, _ = files\n",
    "    data = []\n",
    "    for file in tqdm(files):\n",
    "        folder = os.path.split(file)[0]\n",
    "        folder_folder = os.path.split(folder)[1]\n",
    "        filename = file.replace('.json', '')\n",
    "\n",
    "        try:\n",
    "            with open(file) as fopen:\n",
    "                d = json.load(fopen)\n",
    "        except:\n",
    "            continue\n",
    "\n",
    "        for no, obj in enumerate(d):\n",
    "            text = obj[\"text\"].strip()\n",
    "            \n",
    "            rt_ = re.sub('[^a-z ]+', '', text.lower()).strip()\n",
    "            if any([s == rt_ for s in rejected]):\n",
    "                continue\n",
    "            \n",
    "            try:\n",
    "                dense = CountVectorizer(ngram_range = (3,3)).fit_transform([text]).todense()\n",
    "                repeat = (dense > 3).sum() >= 1\n",
    "                if repeat:\n",
    "                    continue\n",
    "            except:\n",
    "                continue\n",
    "            \n",
    "            audio_path = os.path.join(folder, f'{folder_folder}_{no}.mp3')\n",
    "            \n",
    "            if not os.path.exists(audio_path):\n",
    "                continue\n",
    "                \n",
    "            align_path = new_path(audio_path)\n",
    "            \n",
    "            if not os.path.exists(align_path):\n",
    "                continue\n",
    "                \n",
    "            with open(align_path) as fopen:\n",
    "                align = json.load(fopen)\n",
    "                \n",
    "            for a in align:\n",
    "                if detect_extra(a['text']):\n",
    "                    a['score'] = 0.0\n",
    "                \n",
    "            scores = [a for a in align if a['score'] <= threshold]\n",
    "            if not len(scores):\n",
    "                continue\n",
    "            \n",
    "            chunks = chunk(align)\n",
    "            if len(chunks):\n",
    "                y, sr = sf.read(audio_path)\n",
    "                for no, c in enumerate(chunks):\n",
    "                    if len(c) == len(align):\n",
    "                        continue\n",
    "                    try:\n",
    "                        \n",
    "                        words = [c_['text'] for c_ in c if len(c_['text']) <= 1]\n",
    "                        if (len(words) / len(c)) > 0.5:\n",
    "                            print(c)\n",
    "                            continue\n",
    "                        \n",
    "                        skip = False\n",
    "                        \n",
    "                        for c_ in c:\n",
    "                            if (c_['end'] - c_['start']) >= 2:\n",
    "                                skip = True\n",
    "                                break\n",
    "                        if skip:\n",
    "                            continue\n",
    "                        \n",
    "                        for i in range(1, len(c), 1):\n",
    "                            if (c[i]['start'] - c[i - 1]['end']) >= 2:\n",
    "                                skip = True\n",
    "                                break\n",
    "                        if skip:\n",
    "                            continue\n",
    "                            \n",
    "                        t = ' '.join([c_['text'] for c_ in c])\n",
    "                        start = c[0]['start']\n",
    "                        end = c[-1]['end']\n",
    "                        \n",
    "                        a = audio_path.replace('/', '_').replace('.mp3', '') \n",
    "                        a = os.path.join('dialects-chunk', f'{a}_{no}.mp3')\n",
    "                        if not os.path.exists(a):\n",
    "                            sf.write(a, y[int(sr * start): int(sr * end)], sr)\n",
    "\n",
    "                        data.append({\n",
    "                            'audio': a,\n",
    "                            'transcription': t,\n",
    "                        })\n",
    "                    except:\n",
    "                        pass\n",
    "    \n",
    "    return data"
   ]
  },
  {
   "cell_type": "code",
   "execution_count": 7,
   "id": "51bd2f81",
   "metadata": {},
   "outputs": [
    {
     "name": "stderr",
     "output_type": "stream",
     "text": [
      "100%|███████████████████████████████████████████████████████████████████████████████████████████| 1/1 [00:00<00:00,  8.17it/s]\n"
     ]
    }
   ],
   "source": [
    "d = loop((files[-1:], 0))"
   ]
  },
  {
   "cell_type": "code",
   "execution_count": 8,
   "id": "eb13a4ef",
   "metadata": {},
   "outputs": [
    {
     "data": {
      "text/plain": [
       "{'audio': 'dialects-chunk/dialects_processed_Bila ckp elok2 kau buat x kisah, jadi, org tu pun perli lah sbb dh x tahan. #DuluDollahDaebak [tAX6gay5Sco]_Bila ckp elok2 kau buat x kisah, jadi, org tu pun perli lah sbb dh x tahan. #DuluDollahDaebak [tAX6gay5Sco]_1_1.mp3',\n",
       " 'transcription': 'sama je. Tak! Dia macam ni!'}"
      ]
     },
     "execution_count": 8,
     "metadata": {},
     "output_type": "execute_result"
    }
   ],
   "source": [
    "d[-3]"
   ]
  },
  {
   "cell_type": "code",
   "execution_count": 9,
   "id": "41d05674",
   "metadata": {},
   "outputs": [
    {
     "data": {
      "text/html": [
       "\n",
       "                <audio  controls=\"controls\" >\n",
       "                    <source src=\"data:audio/mpeg;base64,//OExAAAAAAAAAAAAFhpbmcAAAAPAAAAdQAAQngACQwQERQXGRsdICIlKCosLi8zNDY4Oj1CQ0VHSUtPUVJUVlhbXV5gYmNnaWtsbnB0eHx+gIaIioyPkpWYmp6hpKmsr7K1uby+wcbIy8/S1NbX2dze4OLj5enr7e/x8vb4+vz+AAAAPExBTUUzLjEwMAR4AAAAAAAAAAAVCCQCQCEAAcwAAEJ44bnfWwAAAAAAAAAAAAAAAAAAAAAAAAAAAAAA//O0xAAX4AaOX0EAAHrJ9YDEgADOM/BAMQfPvEjhcHwfBAEHS58oCHB8HwcBDwfB8P/8Rh/4PxGD4Ph8uCAIZQEAQBA5g+8EwfB8P8Tg+a+XB9//AgIAg7/+XAgIAgCAYB8HwfD6BACAYwfB9UtRdAc1AGyqpAECgmFIA8QYMZ8Ssad0da4g2rsHBNCRlaE/CQBMC/ZfcaJZjAOC5buL7bPSZWX8Sck+EGLYdKBImgmW83rBaV1FVbEGQDVX6u5ZTTZDYi3YYTRJnwivTx6AYduvDTzq+aSRQnH6y8FbtYZ/qVRW3W/9xdnrE0F4g3iPRiKPSlix49XsPhL05YvCLMennKpX1ZtfgSHlNWYvQ4TG4XAiCJk7WlpMRtWrth/pTB0Oy+moKWl5HZ2cvSCeyzmLbouxEW9h5jLsU1xy4i4d6nw/OmyjX1aX9y7sp7jz//OkxONAo4qS/5nBAPtDjEeVJF92d5NX7n/VyypscaXLKmxxpcsqbHGlyyplQA4ACGOSoG+crh+A0KIku1QZOhvX9EQMvokEBChhhADNi00LCzimyYK1gw5Fm5UEJFb81lZigASkL8GoTEoo7sOu+4icjgRqtTZP7G5fjL6aKSB4uVZN2Rail6nyidXKWRnGWas5SiPxeM/rDeeL+4LC0reacml9yWeOUis7rvQt/X+x+mZHDNM+dLCH0nZdL34gvCNxuX/+5XGpbj+FJnEcaXLH/7+nf47effyhrLX//cOe5fM9RS3+8a1NTWugoLiCuCjgoKUDgILiNIBcouDRoHjrBIa1zIQuQFCAajptEMIgdUMeNCg0gYA0YlsFAyFh//OExPMx4sJsp9rAAYQcACpMKVlQ8ISqjZckIEIQBcSIg4WEDTKIMPNEo3hFmhfGDlLwZdnpAGFlVqHnIXQeg9iYF7ArhpoehadqrYxpsKH4QxEK1W0xUldi2FvuGrkBTBcY+faJqKQa6itXG9lztVRYLohpOyCKKRQoeeatPPP6tT6Hz9DxgIYhiH7//pmhTk7P0nGvkuef/nJc/Q5eXA01qL9f+A1nW1Mn1//87zZuOhrZ0p32QmLbZLOAqpAi//OUxN40uwZsBsaerFgEVDfkW5wjZEG89siNL5e8rudTIxsvGhRmJ67WnAPj7n6QZlKk8DRsZsO6qNxEDkLKLCGpRKZAo2w73dzMeqbuh2nn8h/N5SFIFTmHzeUxJZim/xooQpJBnyJPlN/w5//h+gCAHEZyJ1UruEx76bsqWBajDal0OioBoqZZuZDYgOs5mQCfCV8xqHEsJtW5z39elxIekUqx5GncOWejtkF2klkZM16KyA+QQQUCIEYNOP18RzjrcYeUWUaa2d5O6OUT75n/+Yks3+PyT/8bNLKYnEA00Hn/84seT/4jD845dQCp//NUxO4bYv7CXnoLFFAPGuD2dPuJnlBBAaA5hdBeqGL6wSv3rcF3PupCwMVvbH7E9ftsNZUoIjiSf2aNf0cOTCVP8lDnhumS8WeEn3TxV4FaAwqdAO1bypTnzr/KzoSz8FCkgdg0cDwSOH8sDIIg/y/PPUoATW11//NkxOsfWwaQRsILNCXFiaBopY8aPWDdhbDpJzvbXZpS4Pe+6stG0557z61r8qEAazYwMiKKRHk2sCxyoTEywfPocyqregzW36GHH0m671ClWbL5zHCjQdCOc8pPl//my+t9I2hkTCm2LM8v/NKb+bl8AggCrdJGrxagEVZkEBmUHBahhObDQyXGY098Mvq0//NUxPAaGUaUVsPQxEgZhg0FH3ylc3UxxlW89fmPidvN7VMozA16PgmsPL1T2NPwqx2i6qjhVJ0/+uRgjFfh4q6j/5P/+TSWaJMQmNKZpCKyE5Q+Bz////N4AwFds3GVxhEwokSO4BVdBzChGF9Gwo+QC+sMxpse//NUxPIacxqcfsIE9C1peEmthZpP83t7oggirZldT/dWVp7sTmenr78uob6yDspUsTNY+RfloUTdz45Pnk5v/k6Ek/uxlJnz7MfOPMT////wAQU5c3EJxE3XBlBEVVBra6VgjQGW4mUAsWJTYkJGI6kJNNfMQRXk//NUxPMauxqRHsjLGFWT93mZYb6aZc7Ot/UMfw/s7peWRjycCEEW5v2EZHf/2FkEQvI30aU5o1yNQqilGmGPNvfNIAgICDEEQ3Po5ozpMKEQ5D+fPjcYKCE3J1D5yCB5TzCdAImYDBwBttw+HEbDgc8OI5QDD4fA//NUxPMYcxqQfsGK1PDgD0oAuWgAuHudoVhJeN1ERErCp+Cq4rHwAZFI0CQiQe9cQQyNvEM4YuKGTmpfWt35nHIlpdkexwBROPjNqJ9+IgdfBzzyE//37QtYGRHV5f88HJDRJ/bfNeoPPUkHMLoqdiHSnpoEQGqa//NkxPwlKxqMfspK/f/X5ceYRqaj8+Y+gA8NHImJn5jpqjsD2NxJghjQ2IQ28l+RGlA7v3N/JCRsRiWHkhzoT0g+m8UG/2Isg8fkI0FBIurYuKlBK4elJIurUZo42BL0pOYaK8VzAdlp4fT1GqUce98s11LCzX8xsriJSF6GSplFSlb8odGCJAMS36UNdmSi//N0xOonayKIdtGXHJRxuarf6l1zlbmbTKrGyiLMJFAUeZtSZTkQSGCyF9R8GSx+CyrgBsgaK+stUAKQsAUQrIQUCSGEJPrAriDdCZKm4tuapXXhft413JlOtvqWUNqoIk8+FpNeUVz+ama/wnkXNxNc/++iqRLTz/zR3hHBFoif77F7L/8T2zzb/VNf1bTzZ3eghDeS/rYaMYkFMRaaAJRX/9kr3H4s//NkxOccCs6cfsMKlOIjgP4pIwEgodixJqOJjrJcmKBv0JcudTRCqTOAExMROvB+4b/47GMv4HVDHu/NGWEhgwGwIMOycJ1/A/xNWKo4YU8jTsfFFGCg0H9hp47b3mL8hl2p90WXKqHQ0VzoUwoaIsLIeKeBJgIeFmeDVQAbCRFj6x+4D1ClNqUXc2oAQIVU//NUxPkbItKufnmHBDBYquEAnTQSSxatW4E/XMLcF5mSLpujZpvJvqrEKnvSj5wh0v9RKqvzOHq1SNiGwjuHG+eX3Dt+4YWQk4RcxDlWYSUhrLj2OUYJfkzCxeRz+ecOBbu5ICf/Zl+MlZzVXRmqf+8Zd//bcZHi//NUxPcdytapvnpKvXYKAAFJVmeM0lruP9J+7tVGb0k7BlljU9ZU1HmKqIBnq8hu2pVxlKwxnsG2J7W0+tZcqRwhe3rp+ujoKRzw8vPWtNf1/ngVZlVB1r2/+cvSdHE2ZZpVIWvoNUaYv5ebnKCFNzTY5zqyN9iZ//NkxOogGvaufnlHqaU07eseewaPluWEoMYN1QAXrJq40pbxjIMkUe1aNeQpAmdga5DJAqgakAElacvc/YqfHfuXlUHXCEOOviHa9/en7YwsRpOqXeP3KLun+/lCmcox/RZK/+ntK2QyAODKIKnMQ8peUha//8v/5o0xRrHtOxfISMGH5kBgyXzvzxXKqgCW//NkxOwdyqKvHsPKvDwHjnEg2OEk08wIIkoqgqlM0xjDsnupKuLcgGGjj4AzFZD5sd55hpG9XpBYm5ZjSDIgChhZjlI9dFHBQAigCO/NmNmo5wEDpS+JOdDseItFQl8nkP+Q+Q/5qnKhxQguU/uWZxp8k3N//+Sc+QOVAJbdi07xE7QMIRmnACB5JpEGFS8H//NUxPccSqKmXnlHrBkmsXGxmIsWCLTPzt4A2wjZMVDRbCzlbzGIAx31KUYPs0xkAISgVn//AWNAJzn/NKVBYm/5ff/6L/lGB9xBEzeUtjCboQ3///5phgelDqoACAIMUla7eAiMwWOk+oLSFaDDSsUaeF6JMyqS//NUxPAb2xqRlspKrMER+mkk2xeQ0Ty/lpCbQicgi+L40xBYq6RqlDpCCyoEhWqKdQcEIJKM/8sgRHiJfnVUQWNDpA9z/zf/KXn+QodKZSE/Icp6IWf/yf/zw8URcmAY/t1eAOHgB4Dw/Nl68FlWJiehoWFrsUs2//NUxOsYyxqRlsGKrOxDjpf8p9A+nJzZ4kWHo9OUNHFQxLflRyjmisGjpbTf/9LD2RVha6//hyFX3/10601R30a1SmYeC3LTwx+VOxLO+WKcoDhWAAj+L392twDUvgSIeYRPWldC3KFTPH64jfTCp2CiqZnK9L/9//NUxPIaww6KfspKkB2MCLa5JVB3sZjHHPqRq7+r8rTGWBGzS+COWaxJgU+zlLPr57FO0qlKXNM5SxRir/84xjefQ+BPz+Q8hMUcywM1BBu0ts1mswCahi6oTgkSFZfbYrOnlgaFuxITlUMKtLpTLxtvMz5K8X/N//NUxPIYshqF3oPQCGz/sG21lVJtW+ZRkdCnRu7+YuWbUcYkmUk5GFFmNqfy2KvqxJnbbim/NIU1ZGw3OYKQMKJDCcPzDwM8PwVMLXaS2W2ygHS/BwmnydP6oeaK6QOBggn7fl2WYq8fWV8dHZdlTAfVBI++4J9W//NExPoZGtJ6XnoE8Af2ektuC2eMqalu6yxBLbohGTsit5bzVVV4/oygn03BOO/6sMGJTzTEQYeEeQgGtmG+blkaFZGZAwMcC5JIKR6SSxOcGV8J2U6oPxrw+W7JhTzR//NUxOgZotZqXnmEnV80zWj35ImDpeJJVVcnHTLvko8+uf1TX9SS8N9hdUrw19tTqHy8/PCysPMu/jNy0G34iun4ebvEP07yX9EJ3P8vw7o7F/14kDuTnXmn/EBgZk7oN+5IwjT1kGehoVbdLJwAV+aV4n08t29y//NUxOwaqiZiXnsGNT8sgSL2a9+Qv/MNDqRYEDkOqyWzTFNlh/mIOz/FDkIIPmpPuNclEThyZhUNzeWP14qIRiQ1BkwGCQHZUAa3NVLHx+micNwDG36WpL6THGlsV6s27cBv9B7tvRAlyvbrSztyzT0ddqi6HkmI//NUxOwbmuZeXHmG3cW885+xYsNzlMPTaYkAUlnPkv45EYgOLNmiDS4Yh+rFohCJVVhh913o8NHaysAkYyyG5XAz2/jJOwlISNubbWXHn0kCAignd2lrUSlAFDweE54BWIig88AbDDIQmS3X+Hodefg290rFBcO3//OExOgwKxZqfsFwuN3EmiUqpsnEIzMw352UseeHmD4XPv/RrOVcELGOeRwH08jQ7V08VjnJHYnkC9rXt/6O3z5jWHzJt7XPqzsb5bjJY/+uGSubfpV8rNnkrTkZV0sMlbafs7QjrYZDTRy0hFosZ6rlbGZWVDj8fFaCoxW39kOtqyueoQh6H1pFhmoAqn+ARBKGKdjAzrtOsA9UG7YywnyNUB14sLimKCYXFhdWESHlo0fTtEvi5nlvef+KS1a///OExNoooxZvHkoevP95BwQhGGCg0d/2MQ8VXmme/9n9l1//ae0i+6/+aVlJRx01+qsqOPFVZknj/tI6N/iIGmSVZ7p3n9hxAJR6n4igZBN1UGbAkfPbvsYR0SA24R//5nyVXKu5SNHWR5FE33UVFyiA1UaZ+Ryksb+UoSURGEMXzGUPCMVKU83JLaflL7I5jOp2L5m5We5fKUs9xYZrL04PGW/8tfiH1WHPnqGf+lzAkTzQljh8EBohgMBxkFe2//NUxOoagtqDGngQpC/FJn8EcDYU+oOg7snKpIXPlFChQqCtGRkUQxNgliPgtQF13UZMCf1pMBGyk23laHhuMqrnlq1X1R/f9ZF4CUVr/ttm0qxvY5VInill83LLk+GJBJUBZVn7b/baOgPbikjbKKEiFKCCRMGy//NUxOsaCpZ/HHmKsWBP2bdxdV4l58o0TkAeSiMf6WoE2rtvu+yCiXZwHG9zRX1s6YRQwqpn0x2QKKbQCR/30cU3n/+vKucbVMvPpElu23+RK06TCUTVU0ceEC/jmVWyiAFFOIVVW622UDrORkUE9yohJsirCvWO//NUxO0a0vpufEjFWBBQRIQRmYMmDFCd3FP4pBTbJoz/7eDAhmfYG36foms5/HM0V/LOZrPZnJ0bdy7Kmi4J3y9lR2VPE0/7keX5X3rSZFrqpgKZBoEb//jiEmA1EDZIVYVbdY5AA5GR5NXC2su1IxHkrXkj1xZV//NUxOwaespu/kmGsXV9bRIdonfPYqHPmZvCLH9sG7Yf/2DmjjXZXwfYKTTdf67nLVY14xvPZyIy8+IUNL/tk+x+/ZknMCWy51I06JzizTcsc/M/AwPyPzVhZYUaZ2OsDg1Vjm0mUgh/PBIGJwzZyu5w/z/zU1zX//NUxO0ZqrJnHjMGMf/j/NoavsfLXeSc3NONrpdKv/m+ZICg03J8IJqty2UYNLQFjj//mt+nscLrxwsRZa2++nT546nRYf0/1McWLGFzurMXkEKnaeZ+L//qLHnmfquy65ZaqhfXIina2xzARHsdUdjrbM3pVhJR//NUxPEZoqZnHnjFGQHDVzOUYTEla/vn/rvv47mLvu+5GxcXFPFEDZQNggGBVE3vUbvuKFiEiv+60oxRYc4sw1nlzCylMUP+hkIO4s3Sac8nKj/O7R6oxfzJQpiFflmao8ppeWScnMYvz8xAYPX/SztVdQOpFWVR//NUxPUdSxZeXMLQvGU5cupTspi8V+5Um+1Lb/Sj///+lh2NwUzeHfQkvwWkqa07x5+wxtXP1BFGK/+L0yxRNM5iq/nyCp54kT5iOaFeTylFzEPlN8pSkxo4aefTMznPl+Q6kMTPk5SGLJPISQ8vjFj1DUlmkkjd//NkxOodGw5qfMIFEVgHBc4B8jjsyS1umywIAyAUTJoJf8gA/7mov/1dVMRy5s2OMeQYkkOwUVzlZnYyFKVuU6GTWzT8gIBPIchDhfS0xv/y2MVjS6GmVGUv/U8ubMcmZsop6GmNfnGdCiDEs61+zIAAHw9OLyuSXysdNlZS7dbRsilSflgcCSAgQHIAAyYS//NUxPgboxZZssGLEDmqkX4JtkZ0jHVQszYE3SGTVvUpzzaG/5H55Hyb/+WeuRf7rVNqRt31ZIxBDZ6S/pEbDGBh+R3xDUuPhgEfl0vVodt2921tkgAcmNQQggyePIQ2bdIxREYeiRi7vk4QB42CUGRk/9U1FlTy//NUxPQYmw5iXGGEeFE/+vZVVUEpny8e5vC/gcLaPYvk/Xep4heW3lzDvZ/4Mc24XJ/4nm8UT5vj6fkd/noX5meCmu70Fcno5H9bQAxVpC2J0rS9KBxVTxLCjgpMkCg6Jy1qJk0C01EBnKJpV791fqp4nlX/44zJ//NExPwZio5WVGCGybsiO6CW1Rlm5f02PlRFjOpagZMpbMrN+pA6rll/8+6vbmXfTj+h1mbMnVXZn//9duoqr/+jOgcOzYHdpddbXZKAJRokgDcA0A8SkkATEkUTnow8//NUxOgYsTZmXsJMCVD4Dqwd9D6JQhKoNv71DX89sEFEbA2hTRzYmR3d8vLLM4h/umTiW03TfdDO/Nn00jvSjsyGWHT0ioPPc7SEMicwP//zB8P/DEBubkoExydyRxOsHKFxO0BSg2gODAoRWJmooOzBMFSCRASY//NUxPAaswZNtHmGfWYhirqoXXKnzdi6Wn7vz0bp4u3Z7Mk9CCcQPF3d9F9CQoHgn6DZzYqEI2F4A8Sn6ct//1N6eb8mslbg3/5hxpv+biOqQNrltktscoBvBEgRPlpAIoseZZ9yc81KxS6QJygX11HmotCPGz7B//NUxPAZWlZiXkjGuQvAu2D22N/eC1Tqq+MzqgVBhOjqCY8cgiBVwr4kXuWRXREXokI3/iqCo3IyYHLcxND//wv8A///MJohI1tuOFK8CZUaMBUlACCSINJl0UeSTKqLhGjbmOVPK5QN4RHjIOr7g10X66YZgJH1//NUxPUYkSJWXEiM4VmT8nS5+TIZGkvn3pdTX02LtrlzhEfPkUtskvp7K6PjzpUqDJbVlFSwLS8rKU0FSSySu2SSAVFGcAtITlA8PoDiIQDpGzFZIeupKUP9dRrK5SiJUlH2LOibfbhX9LpCyuSfL8RBUHSV+XNT//NExP0YIYJeXjBHQcgV2Q0uw0vCII50qC54GAVccOAxBKCB86UBIJlTh/8tlge9efKqgLkuttsttADkgAqFpG4to0QwRBckw6xxUUQItYdsIvogloYMDD+EIHlM0Ruc//NUxO8XqlpSXEmGWDjk9mRzxlPcQfavDIuv45VIYcmj6q+iezDyc/DA8/MDxyy8IBTw0G8yL5wcBf5mf4WB17XW2ay0ACVYSqtlCJw+So5I1VCOS4kTk1BprG9IAo1YK7gK8pOrqqr2CIbq2x5wydkZFGo2n6Bk//NExPsYmYJaXkmEvHb9Cn68rJ8m3zU+lmc3RE6jzcd1z/Vx303Hw4Py0GIMKkE7drLbLbaBmjTJlCw46qVEAjEZO9ESic2jVkZU+E0PR9FSq6UIGVl10wHZXGZpu5hm//NUxOsXaa5eXkmQiVRSd1zexTc9Xyd3AlVf8zXz83fJ2dFVdQ91XbvKzbe3+xLjALDQZ8HARdngb7jj4JhCBmd0tjkltoGWQOBgnAwMjQ4ihBEhOrpoA8i2D5kU2VkUEC0DhK5XFVSk5//1T3VY4Zka2th0Mb2X//NExPgWimJiXkpGGIrqbJm7MPH3PqQG2hMKEsDXI9lR85B/5ymJ5MD+dj4IH/mYfiCh3+flbzNZb8BCTs6gu2WyWSWXABgtJdFS89oisJDBGrREMRUiRITyihZIogX5//NUxPAY8lpeXkmGyJaqMNk/0v8hzuskqLlSuHDSniNW6K9IpavuXAWKfzOlCdjVWPnrXRmqbMs//Z9RP9LR39CPuzN0iBoSX9U33VHQRujev88FgGAbgTcekslldoAxWCSW21aUoLV6k6OBYCNNQWjpBM4frg5M//NUxPcacjZaXkjFUbS5euvUz4jnEPYozz5L20kUsmkVsmuAOQCxxhJEqgQ35QlSpAHivq9/qq+fNHz+ZXrGX/6lvFZyDOYGosQo38g0Riv4N/+BGX0RC2A47brLbZsAeLB7UDB2GMKsI0J+XXbREBhZuR6C6yCb//NUxPga+v5aXmGGmTAlTUBYh00ziC0ujibGTpVhuEVzEEAC+HtMSCDB5M1eoGjvDDux3+go6K2Df9kWxf252OfTkqcYLmKUoebJ/PmlNynk85IOPNxBcaCS423/qkAK1RF/dnayyEcxCjEJGo8O00DoFExnCZVl//NUxPcbAl5WXmGGfboHELcnroFyGRihzAmbrgwocYQZI8IwxVHHJKpt9aAnZGQo1ispSev5SSftf8vbyn9/Iv+T1dlVRfU3TTxn3/20//TbV00GuOQHmZgqgJMcZjmlkgB9YRlVdEixlYh8PdHikMEi3je6XSkr//NUxPYawvZeXkjFUVjv3OOn1EhEWBBkAU9xYc/nkMsva7PsVqCW4/0gTILOLEwUMOKIzEvsSIvcjNvihHeC03bYe6EV/w6bMpIXfhaNJ22O5o58zl6+npPR05/lPpomtjwXZWHGHCJFpJGAiQgmhKy4VAgGROOx//NUxPYbCuJOVnpGPSCuXseakJQOA0iEMzTpz45CSYyxeYW7FdHRRHkaeHHNzv+m9xJI8PyFLIFwoooaUvznCRERLvJvf86umHecR3RNn0QRXdN8OFi4NtHVwTLg//4PwAZjhGUVoJCZaO2OQAGJA3zBO8gXtNLE//NUxPQdKwZaXnmHEGqEXzI3CfVlWRGPlCQVkggKvRQyT1xEkXoezMIQgFlCcsPkGwOsUo8eKiMYUa5K0MGGuXK1rsw4UHxoLmnOm5SjSElasaKI4uPY8XsXLF3SiuXD8/kgZ7uUWekDK5LPLFw8BYlN7uiIiJ7o//NUxOobEiJiXmIG9JTn3raGEGChHYwRzB2ugxU3ZUCZJVY4FoW7762u51gBwEiGYDJ5QDDI0LbSvLtqCKXo/F+i6aSagbzryCoWQF30f5GwiXMjhTXNrHNTleFtECamjZpe369oFbgoqutBRYdLuA37VTpnKluS//N0xOgjExZmP0lAAGoyuH2VwqBKsQZZD7I1L2xxmHGCIOPCv2IMsXRBzkUEtbA2j/rnZPKIei1nksl0bfiUT76Q2yiA3gZxKH4WO2/ZJDsPtzl+pTOUvY3TUtM50w0h+n1YhSQ/DDVpCzufciknIYlNHGOU8sq9cvKLxnHsaqwvKxE5NG7eMrYnHXftsHk7+f8Zy9/P/3Yz7SKaUkv///8f/8vsy+ln//OUxPY94yrXH5jDIN9F4AAQQAcLqWCWnlWdocEAoJhBorQPQt6rSYi5hBCEiEq2mK+d8oFCfpl8jbixMRjLVGZK9YZL7mUo85XILiAjNEZwwSMz9JQ0j+SZ93PopV2VxjsxL3gt2e0joQGz511myHK9L4nIW5Q40t/oTrkuwlMb1fp8//PdPeu/+H9qYat65hrDG7RVK13mu//7u1cKa9Wpcu7l2feZ1bX0t6rXuapcJ6xdpZzL98rc5ybyz/8////DD/wz/8+/hqtTX8eYVqbL8K1eooQBAEVxOafuOVaZp1FY3jG3bjb+T0sbsUBj//OUxOExqyKyD9nAAOBFofhFxozTZM5UwX0AAiNs+/7HIs0xxXWtKj2XNbrk8WIF+QCQR6JhQSekE1+Ro/1GSFCcabjGg7QT0IH0Dm8/qXOvp/uh5o6L6LYysi1kROsLLMrT+of/8J/z3b/znya7d/L255iZKpIRAACJnDqS+I46lMP005yOKwQN2OR9G8ziMwZK40BIgJwvzNW2YGRwkNgjSJGO4eMRSJZTKQxG6086GNrbFi4mqpmGKchUkGVqNv1KyK5RK50aaxq0kVmZc3/+p39dlV/H2RlXP00wSAq2cSyeBcBOAR0Rn7tE4x1n//NkxP0gkxrKhspHLQWgrlSpaWPQWsAABxT0OtS8ZBMDazLHQAh5FN0k9EhAYcN1/MsnEgxj3BImN1uChkLjVMhkQYhUelsBpoXJJJGJKDIc3a4XHhAYFG1UwymZYGrxm6gjsv65dqGX2MSlXOFg/yX5AA30EYC86Dj/O9TJhrFS/A0DDgBiS0SQvWWZtbSP//NkxP0gsc7GlsPHEHaWa72eLlQ3GoVD75w45OWXcY3p8+njXGvYXY1jWNhsf8ScaDYafDP+PK4PgfGDWfPMjXG3GvGv/+Z/zDM+YN8K4AAAII8dh7PU6+TkyCpcRGTqeqiLbhi6YSJgEx6EyMABDUAEGFsw40AA8uRqHCQ9QMigHkRESZ6lQmAzdPOHTbUW//OExP0uoxqdRtYPMRgyWBnLaaKgXRfbP56owxi6nDp/y27MlVmcLkQlQWV6KUTPRWl+r+iH7589X8JZku8WMxqBBv5v8v+ab5fPPPZQEpBQ8pjz////l/5i5pTxVYAJxSYUl0uOPBxuKepeQFBJC9+gwJmGQ+nWYGEY8KRCFzQDaOcSEzoazFwDMGFzHhVQdQQGBxireBVY1kPMMNDEU40wFNtCTxA1QIeBQgSBQBSFsrDiK+dtWJhqXiElZrFV//N0xPUkmyKt9tPFMG6kWjVqMsCgKqZd3GJXbVRjWapC+6WpZWWP40502XIS2sNace13FHfFTMaBlYKrWkR0iF3Jv0aEKX4lgWCIMBsPPM/+cfxcflWJs+f5hpp5DN5xxVB8YQSh/8///nP/U046axwqxZJCMAokT8AYdLqiwoWc/xHj9YXihFxH1g+QWRQkWLmzPL9SxWdEncokwh5FkFTSqtF7j6uV//OExP0yAxqMpubU3fo2Fnke+hv/sosIJAgFqbKE1t+rqPGOg5ThosysEqi6ti////38uWbLXynqQhz87TsIICvKqvSQECnAC5ZIR2G0wWN9Ws9lxa7exGWsALYigh0yGPpKRFYp3VFsuSFIhucHG9JRsGZuyO6dJXr6f7AxOF3Zte/IiHYpjSsFiqGi0ROHYz9fv//r/EymcVOcg0pxhgNz4P0DgOOy2nCgeAhkWAoZAQfAychqyGZsHmKkBi4a//NUxOgaim7SvnoFNCiIWpMlODfV0z6NN1CQISGDp5lmpjFZtkoQZMyZOm2TjNmYMyZPchNtTNxBMoKMUBO8kB1hQMDASgYJF2UQ6+iayaT8O+l8mEikxBy0dVEASIlJiTUQUAjDLNSrFyWkKXredZQBY6mTTHLa//NUxOgYKmbN9njLLH10ZYlh5ECQRJHI8pE1mVzqgLICwBKgdZIGKgoMBMguSg8iZgpgVYI4HsbqGHwuvxw//49f+xsXVl5o9x8H8vF5/y7LxdjHf+BGl7eB/br/MPjS7G2hEuYk/0NvAy5Ca8pNsfSbwGIcFOgi//OExPI0gpp4Bt6a3M23TchaaEpFJKdD0DRSNU1gJ/VCZBLe1opbyo6OzXjonSpIS64JzF/o2cQuXSNN6v+9I8J5oLyumkk0JTGi3l7f5/+7nP/kdM4FAEDCd2CZwEwT/5c4CZwoAK3gc3Qzrco03SJvzAtq5AMJXIgMYaHsM7kAilDpFAWjvfcVyz905Mz1BAwkoImWzqA1Fn5lcPSWnpeU1Nc4TUMVFVx5AfHVRC5kBgxQUuf7r/ll5AgcSMYo//N0xNMeOmqgBsGLTOYawkcV8WziP+b/mMY3+YQNlCiv8Gix47/wVLFaxAAIBnwAhiLQ5jGoZ26MZlKl7/yWLuU34CSaAsNlYYJEZJl0qtNk3GXRpxGRtIvO5H47B8XbKgAQEmMJerAubdK8Eb+JdW4YwoOCmlT/6//6SCSAQE0iBSFQdD5z5i/kznJ//58CZCEAnBMdXQt8CUxpkaq8YL6Rk1jCKEDS//NUxPUdol6YFsGLSAOEDMmLAYVSw2Qi3gKXKsYEfInAIqTQJwuGuxriAYDDRmMDkVgMQNUAiWSZFAWcSJtUvZxymtSy955HBEP6jFQnBYGixxaFIRCDBEDxEAQTBmEP7//Q+P8ipWVoRr/uQ4kKoYesupvPNmKb//NUxOkbKl6V/sGFLP/8vYymR5zAuDg4c/3HzmrAABouA/tR0wsse57/mAWI9jQHEg1BhGKAJEDEkyApExVoCDNhcMETAS2bZxXeZSk40xLGtQyhFIvc5blO04uLqu/Pcr2f0BBiZMNBKP5VlOTJ1RwMVxcSYb/z//N0xOcjAoJ0DspFTJznKHqVD86GHMLjFyvIiedMhznP+efqf89rLZG7EZn8PnPvDnAQOB9QEAATcOCh2OB8OA98CvEUTzCQ89MxMrDyAIMHTziWQ8OHMlEgckComakeGaABe0EiBgwyg6cWUsKlgj4nPC2qswVoVUfVN5HhK2WQ7FnbYJn1yGWcizfiIBdhrkMOaDRhi2sRtx1A3meRw3LiUmdREMyl//NkxPYjew59VsmLREK3Ib0QSxSrLOpEIY2dgTjIn1WwPHisQxDGRPmW55Z38dD3Zb2kLw+kWaavN882dcRY6kZNPycNq0ynPDRjK+//V2XsNmeXkUrBIoM/NIN1HpR4/hbqr4+4B+IR1fhEBBGXFv1crX3/fMMBEmkDnZvGZXjCil6WO9orL6TjCOtPVRMC//OUxOs4Iw6ADt4enEMeX2pNQMEEDLgw+WnNNHS/gXBjAQ0wwUDASKQAsKjw/MolratyUsW82eMyqEz1POS9r642lyifjjS240CgzMkd2csOQAkokQJHzKFYsMIQ5jywkwDgEPryMKLLYmCAr1ECwgLm3BGhJDygqszOQTGjhAKCEAOElknHAIVJ1+2jPPL6SQQFKXTU0QkMvyjW26CASTGw4yZMsBQBriqHo0MAwMkImDQCJcX9MeXWuDk6AVAGqMAWA0IhmC6RG3/7Be+F1HUu+PQchIuMtyTsOIepeHoOlIY8vS8XR6//x6MXvj1j//OUxO07ywKcHt6a/N001UCABxXpIZlJg4ImfAckuGCluYXJpmajnpSyNBtkYMAqpDCYhaIrhnjXgaDlK4KcCGU4joca48jyLwdRMdVNHtHEx7S01LG3+QxCojOX9bsjMXiZe37AYy9DHF3O8iqrQqktFaE6nMZIwtUBsEK2DuS0l+H4cFgru4yzJ2X9zxllLSxyMtYVXjEqevvwy7r+u45ET5Wq8jXceSrOllMt+mByMMNR6Nv/jbxr8ahGg0JRX8eFChKOg+Gn/+OY1/4njTGjMWWCAAzYPE7h2AEEodTchjbBJYZzGUrpyJW4eQxQ//OExOAw4yKRRuZO/LWs4M5VMHG17bcFFUOI8m+Z4bzdK2m8b5NYju80TTFvTk8mhu/qNCy9vWkbwslFCR76zExKpy370x8p5oSEhUheRGcAv/OQjKgrJ//JIT/5tPnGxxJv/82Sf+UhcooloAADJh8F8XKe1RJh5zr5ww6FLjuGAkJzNhriDEYPhle4kLTUpZEzcAhjLiUr0v2hOpE03jBDCIAl+hw9CxCVaMT64cT0WUah6sY3qsetD74TyOPD//N0xM8esxqo9tPK9LheY8GBwVqFj9SUVVpBTwmZHwoqkeqD941d4yRG9UKBURNvHpBpW/JyihTFD5ZYcIH3/y2B//5B3xpZTE///DsO/4e8OoAACQHEinHqiQNCjIR44kRe9ujlGEBpjMIZRNgoSUtTtBgWYYEjUAxefmWYuULFQYUoTX3EYEYiOGZjhqAqFhBTNegoBu2YQWAYglsSo1DDAyESIy48//N0xO8mOxqd9tPLFC262LmZaHPOzjfEzR+HzeQhPBKzyA1UMQ4dEWz6D8H5nwu+/fPu+KU5HpORPChEzL2TdOqhPv394/+YkHf0/c3+Igi9Q+FgGDhz8P8Ph3kySYfiQlEBTNicufDgp//VAHGNLLr4jA5hUnjpkZHBSMQiGgNJh0lbCSWR9bdgrdB5CYEzhwH9HQcQC5rwuHCz8tXaqVgRiAgkSGAK//OExPEtOqqZVtvLUEWEAQ4HqDmXBqNOZeAcCDAxUw2ICpgSgrErCE8wASZWuPNpg6Chw4x/XEAgXBjJQwFE2D6tZsnAvyQRqKQn4gn6+IgLSKADIpkJ9BAwCqAqgxiqkYlMr1kyVGHRlAqFAkigOYXC+XTU2cxNfzbo+ORL5eUXpFiwQQgcg5eLvyp5XL5fJQdn////PGyFAPFJqrEwhkBPDAxkAKDqxGfgArjVIAAKulesNf1yHddp0owoiOgB//OExO8x4x6QBubinMg0Km7FBwQWhpF9MrZLVUAYC5kbVypsvhNwepblLvni4jzONTulPM1D8ccgOohRtLHTtXKaq5Lib74/347BGJBIyBCkQBBk3+DpiO0fR9OvezOpJHkYRRzdlf9x83/Oz81zefOs/OZvm/BtfvNSaUmsRcV7DSGRFb4Z/0bmj4oSMhUCIiBxz43CVeo/lkYrGpA/QzIzViEXp3+tPvvOAKa07T8yjso4tgeHfh6UclkFS+Ez//OExNoqqyaYBsrfeP2Ps+adLb2OisCLuM2ugp7T8kp07X3sn3MXnEnkzPKz+ZlZRpbYuHjp/72/NzeCra+Bxg/Oz8//ZjlsCbBULGnFfPxAh67kCwwM7HA5mfrzPHqEsG4jgLAeVBE9znDM/P1hUA+fkg9O8YPL3MzN4SCujzXyuFYoAZCZtRLGzMcyf5PgL2TBGbUqwAMtTcrc29BndbNTAvr/3XD9+p2qWDc6MBGudr7Fezcv2vSq+zlu+exd//OExOIt0yakBsMfXVT3Wna19GhLpVk+GA53JEcOA6LQ8YW23n57fkC/qyuQMyHmlY6fu2Qv6PiKi1rWfPXj0+i8KJXpBUKwyEirHxpK2zArSDWVD1PPi6qRWlzRCvVpB2VOjzISMoxj6GEoFcQdlS5elIQA9nxpKgdopQ3AMYKQeg+DwNgAHjlHGZSGmwGOGIBSCAm0NkewS0/zfOvYJhDB3ZIWz6IxBI3HfNF1Xon8Sa2TILfyPdWVT8ka4mpU//OUxN0wux7eXmIfaKMnJYB4WO2ukeOFlKQpDkR2KuL5k3Xn41Fg/g10/arM2IpykkixQsEIBAwRG5pfLk5SlizHspQoxjf0mnKYrVLzBIMrTVm8pTGPZOUu2ajlmQiGn9DGsYCAh4VkFdWyBlW2plRqa4OTYlP/zJYbtJKJZAUlLLCZaazUuD4CGtVnUUSUus3uSQ6fmWgdHb6sQKBb4z37+2SGXGYQKLp/p//iAK/ogoO1/1X//8d6KmnkJ7v52qf+GdzIvVIFsiSo4Mly3nSQLcqqgQEBFSAH4kUxf/CPJ3gpl8sKeW1ktDiZZbc5//NUxP0d4vLm8sMEtUwpxdgXyRbXB6py/Vv+/YAvdRIHowIYZSigSfqwQ4l1Y8sM61A5evo3vqVp6QD/JMhUKv7z/+x5hgNg2Go8G3/EWF8YZMHkfZs4eDMej2bmnfO/PKG+SH///nqcABNhrWAgKoNcKPqAAA8O//NUxPAaSmLu/sLQsMWnZsRUEKxq2Cb4OAgNdlaoURjhJwwERBpkDpqcJAVB0AhZhxKYkIlYA5LV1B2WFoUJs4puqdfjlCEwIqiCvFi3F3A4Y0YEFky2GuEja/yBE0Sl6uOggQ5gJFTVpD7O5DDW2Ay921032Q4s//NkxPEgYrbG5svUvBpcFBRCCy5xc6d/6Tn853/3+TWXKXtOO85LuL+d/Ln/+MbftQVaLOm7ShftI7cU0XEWF2w/Jx9C7ImHzkLYi0NR4/FtwWQESY+qEAFbFv9XUef0OPN//6MejBfw/dUAcWIvHYsWTMCow6LKDYwtMDgIDAgZBQoHDM4cObOA0EXhAAIo//OExPIzCxaRRt5U/QkCDoWARLBgQAAAMJAGkXkAQsCQiYQACFuJgwHyoChoAA8FCenjqbpgIB7lZd0IAOi4xgMCGBAOAhXESUG7MaEUwiXjCw9NFHAzUWDEwUQEJ0LfEQjUR2FiNPn8Uyy2aB5tSbiBMDiMu8gELsM55al6J6Y9Hz+bxYhLXKrca26iiyxWIZ4Y04oFNtQpRsuJOBYStLXdrqDgWQA2CWjCmoXZIziXJwVpZupCJbrxhRzDDqHL//OkxNg9ayaEBuYbbOzOJnGGdNM8g6xLBhA4ImH//+rrCLoBI45onyj5YqQQzlkAAgrxNVbn5PCBbVIZO7KuykDJJqN5Q3X1sFoYBdiB2WvUXqBZpV+zQ3rCnnlGaf0v//RtZYK1l8hRAEKeva60hyBtT+Saf/EPyxb/6ywf/0pN/m7xOIW8g3vh5Wtm/C5huH7z83yfk/+Y/8YbyDeYppf///4AwC4BVaAABUAAuGrWWkS+WI3mGR4KP2CP47bWwQGGkHZhALCat3koDAaBl2x/KGEeGXZY/hMUtvDDu5XKpd+v+enaWU48pltyqrTVn/ZGvcBCq6d5Ow/kqYmax0KMlemJ6kE4Tg9RNS46/75he+EPQOUE8SIrhvhzjAA+//NkxPUfSxrGdsvK/CDe/9h7Cwsv7F/G43G4DIk/iN/+aODfxuO/GSWN///zDzONPkwvKpQADoAXDjw/KmfQSkOZa4GJnllzYV4GCnCw5Z2epRXWlAlmNEYzzCU/+Gf5N0MjPtP13G+u/fq2LFx/Q0o28H+JuomNDy2D7AwAGgx2K/+hX09uVD7K5XdRSWv///N0xPonewKuRtvPiP/eS5EGYUNEnDnAuINshOohKQVL/+ThdLpdQZ///9IsGhcmaWXC+hSmZubfQQ/QQ6SSX9CeSQpy/eCgFJY1eJZapN+oYNEfS9EUv1NyjUAX7ErpxiuZ9QiBMKXThYJA4riG70yk9fKU3WpltkUzMzKxeY/KxDPg9AFWnZnK+V915OKCEs6Vi8fx548HleFyIUMwKQBwEI8//xZH//N0xPclKxqyJtPk3OPMfjyPP//kRhxpc8jPzighOadz55xvH9TiM3H/lSxYqWWAAcS2xKqVW8SdhELIuoAzBAIOmTmzomPyqHmBgJgIqX8CAKJrHT3TmcytL5trbrRiRU0Hyj6T/ocKOHp7sZk2H03//3dp2LtmqqmbBUox0iMgas90Q/t2F3ZJSFnU2hkEwxJYufVhmHJ4tfYjz80JC5lzOW44hBj2//NkxP0g4tLORsMUvLLuCPjgDIJJicTV/+OeKAci5LEITZMEVHqRYi8Zv/8mEx5J0i5FC6TQxheIuMcOaMwQXIoLnW2ScmZmXMvF8ikvct/5VaMgA2ZYmFy28BbUv4WR/bOAQHYtPQq+eSvh2Ii5QkQNW1Z1gXT9hZmKQVHf/6I7zVsohA8MaP2cebpp7iGU//OExPwvYtKkpt4k3O+iTjR5P+4lSr+t80CBmFmNNl//zSoU3sga9DfByp6C+WWgAglaYIKjnApRvYGlVqociZVqKP1TPmB/NNCWI09JSpE2yXs0mRiIc+wk1EGVH//9UzyprkiBoVrbDJnNLDxRrMbddk3kzm/LNC3ECjifk//5KOdYiH1lAYPFeXOA+UPl/4OKpIEOWqmnLdwLWbMiOtEsRVq8DyqNoyMnTJtp2xQeP8XTWjPabpYq1nbMw2s0//NUxPEX4pLzHmIE3Ic//7NEjqQa2NpAyUmLe7tdOCtKvkZc3/5jkDFycTv/+YCMUKWUYwlEXvoPC4JPV/EtBJ4eK3NbwP19xVyLHpdFHOnFhm1Hcb45/4k2wm/702B0z2sjcnftyVz69d3rbDHEDbeKby8KnJ81//NExPwY2lLefnmK1AJGNzD5S5jJgPJ8kS0S8heVkm/N+9Ta5Sv/y/uYEFj1nK4dCBWWEv9wHqUJ2mIeJ0BNKo5TRjw03mG5VIHm40Hiz10goQk0Uq9vZxcpBb//ue1F//NUxOsXqlrifmDFTEgePLIs4dwNQOcbEbsQXwZuTnvo+b5pjYEEOTPMrtOT/mMqMGFFOwW6iuV87+kqCaifAp8R0pBMa0IWIDgjBMMANJAoEQkJpJXWnqdqG1iDsslY3jJTVEE30w8c1dr3aybf/9I8tkfMQLEw//NExPcXArLNPnmEvLAEQIj0jpSIMPJ4vRJBYdy04SbMHZ+OmZGIuOHX/864mG5udm803/7yxpEkIzDv8zVDEjTOU787G//SDoaFagS7eQXd+BG6QAmgjbUErK8cQmAw//NUxO4XulKxNnoEvMOlEpZcIm8PL+GzAsWLyHIRDIVspdBP5J0fyZIqUcEOAnxIlqAhNTymYHlyEFKXJcoMSeYn/x2FEAP//+DkwRzDz/yFKUEBG/nvKFYI2AHJwIxltGsFqRBLzGqJwuNiDFshSrXMxt1Wcyl9//NUxPoekw6EZsrOvV04zMAphSXqUwiSwMyDzpfAMrk9r//9G+LsiiRAYQO0Lv8ubLtEGpL/lP5zsUxM0UExccTN/4kZBojOT8+c5Dk/oK5DqRPn3Zzf///8ASAFVg1hAubgCmj1BgjhL6Tw/idBWmmrjFLaLimT//NUxOoX8p6ZHnoEzBXUUnKjU5tRYKjtGGkAEiEllUx3OJISij/9ArHWJMDEugpDHK6uDClP6G8EZnBfDUCl//loKd6+0uXUpEP6qcBlMULyRpDAjAGAZR2sub8AOFZE6C9Qw8RNgPpyF9gMawhg4nsKVcQ+BBpU//NUxPUbQwZ8dsGK2GCqwNWHDXNdfQ6G09uGlnaZoij0m6tYgaLJjIddv7jdWDlfvAR4Ef/+WW5pT8pCLIfmMbx1C9mA5lgM1OEqBNm0Lu+AH7WVDm2Hy3ivFCqFKOp4CSZta0/mB/Zu23ukgnbnr7fL9XVNxqf5//NUxPMZepKKfnmE6UipuzSoYEhzRDG7RPAqOiMw5tmlER22HbiEVaV9fx7X/ozusfuqs6t6en/6ju4Qgdwx1sop2sKXTgajwhIhc2glxzEpVLckxdR+o8JoaRIvIV58JXLk8HgxvuqR8+EthFsTrq0GgCCicQ2B//NExPgX2kqBvnoE3Uoq8nm/9ZgY+muOopbHM7+fz9DdmdvdX0G9+ok/03TJ5H7DRF7o+c8DwPwPw4AX/5+AYAAVMt0Tli4DbCZH51KAmzKaMJVGwXaqZXvPVSR6We0e//NUxOsYMlJ5HnsQddIMB/Bo5ZguV7dyMMMD8hjBVWqk19PzXCxymc56KPNQUV1+KIMRwgNBQa9o2pwwaDcLqxt6Sz8O/NkDevu/7mXZ7iv/h5t3sc9fsMHUycUYGC+ZXayYOov0J1szMzMmGr0a9GtXqog1Vh4j//NUxPUa2w5sfnmGkOt3vAK9UIqlGyq8RsKoWVRcqZQPJCsAK13frWZYrSw6Dhgwag8pkbmIdS2HPL0QLCsXz+IRElRwn8jB605Bz3x9SwgMy/rX11HwjEtT97oqPaDMX1/3BuhKDi2BaOHXjGEM4cPX49vXUG4c//NkxPQgyxJsfnoZPJDCIe8FQVOgrQTVb/bK1JwWKcoatRLHgQHshhMgnpNOnX19rWk6lctrVags9diqBHKxVLY8tG92GpkUp1DghGqNl/DnsdtNFBCnLTpczWXb36NV7c3ygzDsqKKKbMY5XWSfPPJoJOMc+cwTVKKsEaf2W1yKABOg9k5Y/43jMV4jOyzQ//NkxPMeKs6KfnpQGKJBeOdPd480//xgpjZUHjVbuGXnxVV9clSHMe2kfE6YncW2FoKTrmTRWCjem6VwxVRfd6KcrIUxc5GL4Y3Pf/1WZvzVNK08suc5QpIJjjTMwXIzGoQSptJZXGoASUfpJ2RC3z5nYd7U2iEqJKCriSRHkf+A/vPu1U6Mhh85c/PIlDs2//NExP0Y6tJ2XGDFEJscUxUOG0f1Evla1GsWZSn3Ih1S4L6tWvbzBS7hCCqThXFSYT+DRY6DJYtPQSoAqJpZm2ultAINZXQGSY/SiRGgG0aJbsJLEXQUsCHmjh4d0nQe//NUxOwaYuJuXnoE+eRgBnR/RhfiUFeuxMuyoSySxFI+kjUnZ2WKtf/PiqWfxz+7uTaqvCUIzzbaNsjaeDw5H6qzLqyP/8nk/8NhACW3slttcgDDzfMJ8OmT5Kmb1gfx6Tc7RSMlDYyX0T0iWxI2wMZRedZWQKzo//NUxO0XIiZmXnmEdAOIjf+7v+7AyFUvTfYZnQZndNfpZBYdGTQ20mboczqv7+hdr95CkIYkxvP5ygwH56W8+ePFFQkrdbbtZZaAJG+XPI2CQlxAnN4dARFBILCFce5NCYQVdZ1WURmhR7pkzs3jrvujqzOjnFcY//NExPsYuwJqfkjFPeIh5g+3hNHGr+LPIplBhbEmUyMzJzul/u/m+Su30HrqVF3MjxAPyL+AAGGzPDP/85M+hypU5uySRx3ADZHMoYYlu33sXO1Lc1NUucvnuUlvefa9//NUxOsYkp5eXmDFGD5zH2cd/X/RLozAGCMX5/oMxH4zqM7nuVBudZGclVIk8AwYjO/81JcA5O8vEw0n1IQnDoA2ToWidH1GEGAuGyMnPRqJRVGTyXbRj6ijG4OOY7ysM01pMuRfCcIkmBkx49cqTztr5eVivY2q//NUxPMaCl5mXkmGkRrdq1q+s9szrD17ZnYFP3vevlRWRYV5lqxgV9UhJRzJ6IpoBPTFY0MY3y8vXWcL50uLS08EgDYdsa3K1e4YiSvWCRP/jWCMAcYEQ0ISAbh4c+4OB+5TBwxxrqtQtZzoSoxZj/zu3EEdm47+//N0xPUpSxZhvsJfHJ4FlGMJFXb1Q3MX9m1v8YOGDcYjL7LQNhCAWAEBMRAFC2tv8OC8RmUhWb//1Ge6q3+KDcwnEKUJMW21fRwmALmLJl1HZ6vIkeDjERhLgQ9lLkvt4fkSg6KSeeIj/z8lCVviJNo8nEiycHeZq2/99kITBW9V//5I9aAMQV5/9JyE5J9DLOe8hPzKVqLL+gkxDFUn8tyW/zk0nF08//NkxOohYvZmXMMQHZLNgJHYkR6TOJKAEyQuBPM4slczg0q2FzdLMIvgSQkwkC3ZVyXVZFUIUo7svhNyx7TnvM1EmHHOdjjanRv5KAKd1FRIh/W1i5zlnI0xKP6nParmu5Vb6FKWU4dKT4k+Vp/zGJMcxFMeSPdgjhgaikBLvm0jcgFWCkSKLJG1RKq00jNV//NUxOcZ8w52XnmE3Ekl5Y4jjozKhlJmY4qkqkxqzMzMzMudX1AWEqeIgaeoGn6wkDQdEyxjy3gsDQdLfsLPU5VkRP6g6ViU6PdBqWpMQU1FMy4xMDCqqqqqqqqqqqqqqqqqqqqqqqqqqqqqqqqqqqqqqqqqqqqq//NUxOoaau5tvnpKXaqqqqqqqqqqqqqqqqqqqqqqqqqqqqqqqqqqqqqqqqqqqqqqqqqqqqqqqqqqqqqqqqqqqqqqqqqqqqqqqqqqqqqqqqqqqqqqqqqqqqqqqqqqqqqqqqqqqqqqqqqqqqqqqqqqqqqqqqqqqqqq//NExOsVISZiXjBHAKqqqqqqqqqqqqqqqqqqqqqqqqqqqqqqqqqqqqqqqqqqqqqqqqqqqqqqqqqqqqqqqqqqqqqqqqqqqqqqqqqqqqqqqqqqqqqqqqqqqqqqqqqqqqqq\" type=\"audio/mpeg\" />\n",
       "                    Your browser does not support the audio element.\n",
       "                </audio>\n",
       "              "
      ],
      "text/plain": [
       "<IPython.lib.display.Audio object>"
      ]
     },
     "execution_count": 9,
     "metadata": {},
     "output_type": "execute_result"
    }
   ],
   "source": [
    "import IPython.display as ipd\n",
    "ipd.Audio(d[-3]['audio'])"
   ]
  },
  {
   "cell_type": "code",
   "execution_count": null,
   "id": "e8643e79",
   "metadata": {},
   "outputs": [],
   "source": [
    "data = mp.multiprocessing(files, loop, cores = 20)"
   ]
  },
  {
   "cell_type": "code",
   "execution_count": 11,
   "id": "f7e0b86b",
   "metadata": {},
   "outputs": [
    {
     "data": {
      "text/plain": [
       "1541838"
      ]
     },
     "execution_count": 11,
     "metadata": {},
     "output_type": "execute_result"
    }
   ],
   "source": [
    "len(data)"
   ]
  },
  {
   "cell_type": "code",
   "execution_count": 12,
   "id": "d3b7366d",
   "metadata": {},
   "outputs": [
    {
     "name": "stderr",
     "output_type": "stream",
     "text": [
      "100%|██████████████████████████████████████████████████████████████████████████| 1541838/1541838 [00:00<00:00, 3505918.86it/s]\n"
     ]
    },
    {
     "data": {
      "text/plain": [
       "defaultdict(int, {'dialects-chunk/dialects': 1541838})"
      ]
     },
     "execution_count": 12,
     "metadata": {},
     "output_type": "execute_result"
    }
   ],
   "source": [
    "from collections import defaultdict\n",
    "\n",
    "uniques = defaultdict(int)\n",
    "for d in tqdm(data):\n",
    "    uniques[d['audio'].split('_processed')[0]] += 1\n",
    "    \n",
    "uniques"
   ]
  },
  {
   "cell_type": "code",
   "execution_count": 13,
   "id": "f39617eb",
   "metadata": {},
   "outputs": [
    {
     "data": {
      "text/html": [
       "<div>\n",
       "<style scoped>\n",
       "    .dataframe tbody tr th:only-of-type {\n",
       "        vertical-align: middle;\n",
       "    }\n",
       "\n",
       "    .dataframe tbody tr th {\n",
       "        vertical-align: top;\n",
       "    }\n",
       "\n",
       "    .dataframe thead th {\n",
       "        text-align: right;\n",
       "    }\n",
       "</style>\n",
       "<table border=\"1\" class=\"dataframe\">\n",
       "  <thead>\n",
       "    <tr style=\"text-align: right;\">\n",
       "      <th></th>\n",
       "      <th>audio</th>\n",
       "      <th>transcription</th>\n",
       "    </tr>\n",
       "  </thead>\n",
       "  <tbody>\n",
       "    <tr>\n",
       "      <th>0</th>\n",
       "      <td>dialects-chunk/dialects_processed_KILAUAN EMAS...</td>\n",
       "      <td>Kaya ni, kak ni tau. Jadi, Mama yakin tak Mama...</td>\n",
       "    </tr>\n",
       "    <tr>\n",
       "      <th>1</th>\n",
       "      <td>dialects-chunk/dialects_processed_KILAUAN EMAS...</td>\n",
       "      <td>Ya, Puan Sharifah, tahniah.</td>\n",
       "    </tr>\n",
       "    <tr>\n",
       "      <th>2</th>\n",
       "      <td>dialects-chunk/dialects_processed_KILAUAN EMAS...</td>\n",
       "      <td>kasih banyak-banyak. Terima kasih Encik Nizam ...</td>\n",
       "    </tr>\n",
       "    <tr>\n",
       "      <th>3</th>\n",
       "      <td>dialects-chunk/dialects_processed_Sepak Takraw...</td>\n",
       "      <td>Baik, time out yang diminta, eh, ketika ini, k...</td>\n",
       "    </tr>\n",
       "    <tr>\n",
       "      <th>4</th>\n",
       "      <td>dialects-chunk/dialects_processed_Sepak Takraw...</td>\n",
       "      <td>untuk time out, eh, yang diminta sementara itu...</td>\n",
       "    </tr>\n",
       "  </tbody>\n",
       "</table>\n",
       "</div>"
      ],
      "text/plain": [
       "                                               audio  \\\n",
       "0  dialects-chunk/dialects_processed_KILAUAN EMAS...   \n",
       "1  dialects-chunk/dialects_processed_KILAUAN EMAS...   \n",
       "2  dialects-chunk/dialects_processed_KILAUAN EMAS...   \n",
       "3  dialects-chunk/dialects_processed_Sepak Takraw...   \n",
       "4  dialects-chunk/dialects_processed_Sepak Takraw...   \n",
       "\n",
       "                                       transcription  \n",
       "0  Kaya ni, kak ni tau. Jadi, Mama yakin tak Mama...  \n",
       "1                        Ya, Puan Sharifah, tahniah.  \n",
       "2  kasih banyak-banyak. Terima kasih Encik Nizam ...  \n",
       "3  Baik, time out yang diminta, eh, ketika ini, k...  \n",
       "4  untuk time out, eh, yang diminta sementara itu...  "
      ]
     },
     "execution_count": 13,
     "metadata": {},
     "output_type": "execute_result"
    }
   ],
   "source": [
    "import pandas as pd\n",
    "\n",
    "df = pd.DataFrame(data)\n",
    "df.head()"
   ]
  },
  {
   "cell_type": "code",
   "execution_count": 14,
   "id": "17dc596d",
   "metadata": {},
   "outputs": [],
   "source": [
    "df.to_parquet('verify-text-chunk-dialects.parquet')"
   ]
  },
  {
   "cell_type": "code",
   "execution_count": 15,
   "id": "fa0da198",
   "metadata": {},
   "outputs": [
    {
     "data": {
      "application/vnd.jupyter.widget-view+json": {
       "model_id": "673430135b6d481b925bf60cab2a9b7a",
       "version_major": 2,
       "version_minor": 0
      },
      "text/plain": [
       "verify-text-chunk-dialects.parquet:   0%|          | 0.00/120M [00:00<?, ?B/s]"
      ]
     },
     "metadata": {},
     "output_type": "display_data"
    },
    {
     "data": {
      "text/plain": [
       "CommitInfo(commit_url='https://huggingface.co/datasets/mesolitica/Malaysian-Voice-Conversion/commit/a51aa89fdcc1e621f5a2ae6429eaed84b503a289', commit_message='Upload data/dialects_chunk-00000-of-00001.parquet with huggingface_hub', commit_description='', oid='a51aa89fdcc1e621f5a2ae6429eaed84b503a289', pr_url=None, repo_url=RepoUrl('https://huggingface.co/datasets/mesolitica/Malaysian-Voice-Conversion', endpoint='https://huggingface.co', repo_type='dataset', repo_id='mesolitica/Malaysian-Voice-Conversion'), pr_revision=None, pr_num=None)"
      ]
     },
     "execution_count": 15,
     "metadata": {},
     "output_type": "execute_result"
    }
   ],
   "source": [
    "from huggingface_hub import HfApi\n",
    "api = HfApi()\n",
    "api.upload_file(\n",
    "    path_or_fileobj=\"verify-text-chunk-dialects.parquet\",\n",
    "    path_in_repo=\"data/dialects_chunk-00000-of-00001.parquet\",\n",
    "    repo_id=\"mesolitica/Malaysian-Voice-Conversion\",\n",
    "    repo_type=\"dataset\",\n",
    ")\n"
   ]
  }
 ],
 "metadata": {
  "kernelspec": {
   "display_name": "python3.10",
   "language": "python",
   "name": "python3.10"
  },
  "language_info": {
   "codemirror_mode": {
    "name": "ipython",
    "version": 3
   },
   "file_extension": ".py",
   "mimetype": "text/x-python",
   "name": "python",
   "nbconvert_exporter": "python",
   "pygments_lexer": "ipython3",
   "version": "3.10.15"
  }
 },
 "nbformat": 4,
 "nbformat_minor": 5
}
