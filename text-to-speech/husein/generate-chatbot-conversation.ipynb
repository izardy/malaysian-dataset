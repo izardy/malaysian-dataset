{
 "cells": [
  {
   "cell_type": "code",
   "execution_count": 1,
   "id": "d3ee1266",
   "metadata": {},
   "outputs": [],
   "source": [
    "# !wget https://huggingface.co/datasets/mesolitica/mixtral-malaysian-general-qa/resolve/main/mixtral-conversation-badthings.jsonl"
   ]
  },
  {
   "cell_type": "code",
   "execution_count": 2,
   "id": "2749c158",
   "metadata": {
    "scrolled": true
   },
   "outputs": [],
   "source": [
    "# !wget https://huggingface.co/datasets/mesolitica/mixtral-malaysian-general-qa/resolve/main/mixtral-conversation-stupid.jsonl\n",
    "# !wget https://huggingface.co/datasets/mesolitica/mixtral-malaysian-general-qa/resolve/main/mixtral-critics-politician-multiturn.jsonl"
   ]
  },
  {
   "cell_type": "code",
   "execution_count": 3,
   "id": "21ecbaf8",
   "metadata": {},
   "outputs": [
    {
     "name": "stderr",
     "output_type": "stream",
     "text": [
      "/home/husein/.local/lib/python3.10/site-packages/malaya/tokenizer.py:214: FutureWarning: Possible nested set at position 3397\n",
      "  self.tok = re.compile(r'({})'.format('|'.join(pipeline)))\n",
      "/home/husein/.local/lib/python3.10/site-packages/malaya/tokenizer.py:214: FutureWarning: Possible nested set at position 3927\n",
      "  self.tok = re.compile(r'({})'.format('|'.join(pipeline)))\n"
     ]
    }
   ],
   "source": [
    "import malaya\n",
    "import json"
   ]
  },
  {
   "cell_type": "code",
   "execution_count": 8,
   "id": "e24f8b20",
   "metadata": {},
   "outputs": [
    {
     "data": {
      "text/plain": [
       "58069"
      ]
     },
     "execution_count": 8,
     "metadata": {},
     "output_type": "execute_result"
    }
   ],
   "source": [
    "text = set()\n",
    "files = [\n",
    "    'mixtral-conversation-stupid.jsonl',\n",
    "    'mixtral-conversation-badthings.jsonl'\n",
    "]\n",
    "\n",
    "for f in files:\n",
    "    with open(f) as fopen:\n",
    "        for l in fopen:\n",
    "            l = json.loads(l)\n",
    "            for l_ in l:\n",
    "                if l_['role'] != 'assistant':\n",
    "                    continue\n",
    "\n",
    "                t = l_['content_ms']\n",
    "                if t is None:\n",
    "                    continue\n",
    "\n",
    "                if '-' in t:\n",
    "                    continue\n",
    "\n",
    "                if '+' in t:\n",
    "                    continue\n",
    "\n",
    "                if '*' in t:\n",
    "                    continue\n",
    "\n",
    "                if len(t) < 5:\n",
    "                    continue\n",
    "\n",
    "                if len(t) > 150:\n",
    "                    continue\n",
    "                text.add(t)\n",
    "            \n",
    "len(text)"
   ]
  },
  {
   "cell_type": "code",
   "execution_count": 9,
   "id": "5777638c",
   "metadata": {},
   "outputs": [
    {
     "name": "stderr",
     "output_type": "stream",
     "text": [
      "135770it [04:24, 513.53it/s] \n"
     ]
    },
    {
     "data": {
      "text/plain": [
       "272785"
      ]
     },
     "execution_count": 9,
     "metadata": {},
     "output_type": "execute_result"
    }
   ],
   "source": [
    "from tqdm import tqdm\n",
    "\n",
    "new_text = set()\n",
    "with open('mixtral-critics-politician-multiturn.jsonl') as fopen:\n",
    "    for l in tqdm(fopen):\n",
    "        l = json.loads(l)\n",
    "        for l_ in l:\n",
    "            if l_['role'] != 'assistant':\n",
    "                continue\n",
    "\n",
    "            t = l_['content_ms']\n",
    "            if t is None:\n",
    "                continue\n",
    "\n",
    "            if '+' in t:\n",
    "                continue\n",
    "\n",
    "            if '*' in t:\n",
    "                continue\n",
    "            \n",
    "            splitted = malaya.text.function.split_into_sentences(t)\n",
    "            splitted = [s for s in splitted if 10 < len(s) < 150]\n",
    "            if not len(splitted):\n",
    "                continue\n",
    "            \n",
    "            new_text.add(splitted[0])\n",
    "            \n",
    "len(new_text)"
   ]
  },
  {
   "cell_type": "code",
   "execution_count": 10,
   "id": "fa71d92e",
   "metadata": {},
   "outputs": [
    {
     "name": "stderr",
     "output_type": "stream",
     "text": [
      "`openai-whisper` is not available, native whisper processor is not available, will use huggingface processor instead.\n",
      "`pyaudio` is not available, `malaya_speech.streaming.pyaudio` is not able to use.\n",
      "/home/husein/.local/lib/python3.10/site-packages/malaya/normalizer/rules.py:204: FutureWarning: Possible nested set at position 42\n",
      "  k.lower(): re.compile(_expressions[k]) for k, v in _expressions.items()\n",
      "/home/husein/.local/lib/python3.10/site-packages/malaya/normalizer/rules.py:204: FutureWarning: Possible nested set at position 3\n",
      "  k.lower(): re.compile(_expressions[k]) for k, v in _expressions.items()\n"
     ]
    }
   ],
   "source": [
    "from malaya_speech.tts import load_text_ids\n",
    "normalizer = load_text_ids(pad_to = None, understand_punct = True, is_lower = False)\n",
    "\n",
    "t, ids = normalizer.normalize('saya nak makan nasi ayam yang sedap, lagi lazat, dan hidup sangatlah susah kan.', add_fullstop = False)"
   ]
  },
  {
   "cell_type": "code",
   "execution_count": 23,
   "id": "f1f211e7",
   "metadata": {
    "scrolled": true
   },
   "outputs": [
    {
     "name": "stderr",
     "output_type": "stream",
     "text": [
      "100%|███████████████████████████████████| 58069/58069 [00:35<00:00, 1627.39it/s]\n"
     ]
    }
   ],
   "source": [
    "processed_text = []\n",
    "for t in tqdm(text):\n",
    "    t_, ids = normalizer.normalize(t, add_fullstop = False)\n",
    "    if '--' in t_:\n",
    "        continue\n",
    "    processed_text.append({\n",
    "        'original': t,\n",
    "        'normalized': t_\n",
    "    })"
   ]
  },
  {
   "cell_type": "code",
   "execution_count": 26,
   "id": "2887660c",
   "metadata": {},
   "outputs": [
    {
     "data": {
      "text/plain": [
       "{'original': 'Walaupun komputer, seperti saya, boleh memproses maklumat dan belajar daripada data, mereka tidak berfikir atau mengalami emosi seperti manusia.',\n",
       " 'normalized': 'Walaupun komputer , seperti saya , boleh memproses maklumat dan belajar daripada data , mereka tidak berfikir atau mengalami emosi seperti manusia .'}"
      ]
     },
     "execution_count": 26,
     "metadata": {},
     "output_type": "execute_result"
    }
   ],
   "source": [
    "processed_text[-1]"
   ]
  },
  {
   "cell_type": "code",
   "execution_count": 27,
   "id": "45df9b97",
   "metadata": {},
   "outputs": [],
   "source": [
    "with open('chatbot-conversation.json', 'w') as fopen:\n",
    "    json.dump(processed_text, fopen)"
   ]
  },
  {
   "cell_type": "code",
   "execution_count": 28,
   "id": "56412740",
   "metadata": {},
   "outputs": [
    {
     "name": "stderr",
     "output_type": "stream",
     "text": [
      "100%|█████████████████████████████████| 272785/272785 [02:52<00:00, 1579.39it/s]\n"
     ]
    }
   ],
   "source": [
    "processed_text = []\n",
    "for t in tqdm(new_text):\n",
    "    t_, ids = normalizer.normalize(t, add_fullstop = False)\n",
    "    if '--' in t_:\n",
    "        continue\n",
    "    processed_text.append({\n",
    "        'original': t,\n",
    "        'normalized': t_\n",
    "    })"
   ]
  },
  {
   "cell_type": "code",
   "execution_count": 29,
   "id": "1e222d09",
   "metadata": {},
   "outputs": [
    {
     "data": {
      "text/plain": [
       "{'original': 'Untuk menangani isu rasuah dan akauntabiliti dalam politik Malaysia, pelbagai pembaharuan dan langkah boleh diambil.',\n",
       " 'normalized': 'Untuk menangani isu rasuah dan akauntabiliti dalam politik Malaysia , pelbagai pembaharuan dan langkah boleh diambil .'}"
      ]
     },
     "execution_count": 29,
     "metadata": {},
     "output_type": "execute_result"
    }
   ],
   "source": [
    "processed_text[0]"
   ]
  },
  {
   "cell_type": "code",
   "execution_count": 30,
   "id": "a0726d5f",
   "metadata": {},
   "outputs": [],
   "source": [
    "with open('chatbot-conversation-politics.json', 'w') as fopen:\n",
    "    json.dump(processed_text, fopen)"
   ]
  }
 ],
 "metadata": {
  "kernelspec": {
   "display_name": "python3.10",
   "language": "python",
   "name": "python3.10"
  },
  "language_info": {
   "codemirror_mode": {
    "name": "ipython",
    "version": 3
   },
   "file_extension": ".py",
   "mimetype": "text/x-python",
   "name": "python",
   "nbconvert_exporter": "python",
   "pygments_lexer": "ipython3",
   "version": "3.10.15"
  }
 },
 "nbformat": 4,
 "nbformat_minor": 5
}
