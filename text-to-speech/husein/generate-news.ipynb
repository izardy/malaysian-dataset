{
 "cells": [
  {
   "cell_type": "code",
   "execution_count": 1,
   "id": "9a4f233f",
   "metadata": {},
   "outputs": [],
   "source": [
    "# !wget https://huggingface.co/datasets/malaysia-ai/crawl-astroawani/resolve/main/berita-bisnes-v2.json.nested\n",
    "# !wget https://huggingface.co/datasets/malaysia-ai/crawl-astroawani/resolve/main/berita-politik-v2.json.nested"
   ]
  },
  {
   "cell_type": "code",
   "execution_count": 2,
   "id": "4e8bf3e3",
   "metadata": {},
   "outputs": [],
   "source": [
    "# !wget https://huggingface.co/datasets/malaysia-ai/crawl-astroawani/resolve/main/berita-dunia-v2.json.nested\n",
    "# !wget https://huggingface.co/datasets/malaysia-ai/crawl-astroawani/resolve/main/berita-malaysia-v2.json.nested\n",
    "# !wget https://huggingface.co/datasets/malaysia-ai/crawl-astroawani/resolve/main/berita-sukan-v2.json.nested\n",
    "# !wget https://huggingface.co/datasets/malaysia-ai/crawl-astroawani/resolve/main/berita-teknologi-v2.json.nested\n",
    "# !wget https://huggingface.co/datasets/malaysia-ai/crawl-astroawani/resolve/main/gaya-hidup-v2.json.nested"
   ]
  },
  {
   "cell_type": "code",
   "execution_count": 4,
   "id": "e09bb65d",
   "metadata": {},
   "outputs": [
    {
     "name": "stderr",
     "output_type": "stream",
     "text": [
      "/home/husein/ssd4/malaya/malaya/tokenizer.py:214: FutureWarning: Possible nested set at position 3397\n",
      "  self.tok = re.compile(r'({})'.format('|'.join(pipeline)))\n",
      "/home/husein/ssd4/malaya/malaya/tokenizer.py:214: FutureWarning: Possible nested set at position 3927\n",
      "  self.tok = re.compile(r'({})'.format('|'.join(pipeline)))\n",
      "`openai-whisper` is not available, native whisper processor is not available, will use huggingface processor instead.\n",
      "/home/husein/ssd4/malaya/malaya/normalizer/rules.py:217: FutureWarning: Possible nested set at position 42\n",
      "  k.lower(): re.compile(_expressions[k]) for k, v in _expressions.items()\n",
      "/home/husein/ssd4/malaya/malaya/normalizer/rules.py:217: FutureWarning: Possible nested set at position 3\n",
      "  k.lower(): re.compile(_expressions[k]) for k, v in _expressions.items()\n"
     ]
    },
    {
     "data": {
      "text/plain": [
       "<module 'malaya' from '/home/husein/ssd4/malaya/malaya/__init__.py'>"
      ]
     },
     "execution_count": 4,
     "metadata": {},
     "output_type": "execute_result"
    }
   ],
   "source": [
    "import malaya\n",
    "import mp\n",
    "from malaya_speech.tts import load_text_ids\n",
    "\n",
    "malaya"
   ]
  },
  {
   "cell_type": "code",
   "execution_count": 14,
   "id": "2724d139",
   "metadata": {},
   "outputs": [],
   "source": [
    "def loop(texts):\n",
    "    texts, _ = texts\n",
    "    normalizer = malaya.normalize.normalizer()\n",
    "    processed_text = []\n",
    "    for t in tqdm(set(texts)):\n",
    "        t = t.strip()\n",
    "        string = normalizer.normalize(t, normalize_hingga = False, normalize_text = True, normalize_word_rules = False, normalize_time = True, normalize_cardinal = True)\n",
    "        t_ = string['normalize']\n",
    "        if '--' in t_:\n",
    "            continue\n",
    "        if '~' in t_:\n",
    "            continue\n",
    "        processed_text.append({\n",
    "            'original': t,\n",
    "            'normalized': t_\n",
    "        })\n",
    "    return processed_text"
   ]
  },
  {
   "cell_type": "code",
   "execution_count": 9,
   "id": "aaff65c3",
   "metadata": {},
   "outputs": [
    {
     "name": "stderr",
     "output_type": "stream",
     "text": [
      "100%|████████████████████████████████████████████████████████████████████████████| 1/1 [00:00<00:00,  1.34it/s]\n"
     ]
    },
    {
     "data": {
      "text/plain": [
       "['helo']"
      ]
     },
     "execution_count": 9,
     "metadata": {},
     "output_type": "execute_result"
    }
   ],
   "source": [
    "loop((['helo'], 0))"
   ]
  },
  {
   "cell_type": "code",
   "execution_count": 10,
   "id": "6b5d721f",
   "metadata": {
    "scrolled": false
   },
   "outputs": [
    {
     "data": {
      "text/plain": [
       "['berita-dunia-v2.json.nested',\n",
       " 'berita-malaysia-v2.json.nested',\n",
       " 'berita-bisnes-v2.json.nested',\n",
       " 'berita-hiburan-v2.json.nested',\n",
       " 'gaya-hidup-v2.json.nested',\n",
       " 'berita-politik-v2.json.nested',\n",
       " 'berita-teknologi-v2.json.nested',\n",
       " 'berita-sukan-v2.json.nested']"
      ]
     },
     "execution_count": 10,
     "metadata": {},
     "output_type": "execute_result"
    }
   ],
   "source": [
    "import json\n",
    "import os\n",
    "from tqdm import tqdm\n",
    "from bs4 import BeautifulSoup\n",
    "from glob import glob\n",
    "\n",
    "files = glob('*.json.nested')[::-1]\n",
    "files"
   ]
  },
  {
   "cell_type": "code",
   "execution_count": null,
   "id": "ca8a19ff",
   "metadata": {},
   "outputs": [],
   "source": [
    "!rm news-*-v2.json"
   ]
  },
  {
   "cell_type": "code",
   "execution_count": 21,
   "id": "5e07c6b9",
   "metadata": {},
   "outputs": [
    {
     "name": "stderr",
     "output_type": "stream",
     "text": [
      "100%|██████████████████████████████████████████████████████████████████| 10000/10000 [00:07<00:00, 1259.08it/s]\n",
      "100%|███████████████████████████████████████████████████████████████████| 17684/17684 [00:57<00:00, 307.46it/s]\n",
      "100%|████████████████████████████████████████████████████████████████████████████| 3/3 [00:00<00:00, 18.27it/s]\n",
      "100%|███████████████████████████████████████████████████████████████████| 17481/17481 [00:58<00:00, 299.37it/s]\n",
      "100%|███████████████████████████████████████████████████████████████████| 17727/17727 [01:00<00:00, 294.26it/s]\n",
      "100%|███████████████████████████████████████████████████████████████████| 17683/17683 [01:01<00:00, 287.34it/s]\n",
      "100%|███████████████████████████████████████████████████████████████████| 17652/17652 [01:01<00:00, 286.18it/s]\n",
      "100%|███████████████████████████████████████████████████████████████████| 17602/17602 [01:03<00:00, 275.43it/s]\n",
      "100%|██████████████████████████████████████████████████████████████████| 10000/10000 [00:05<00:00, 1769.33it/s]\n",
      "100%|███████████████████████████████████████████████████████████████████| 20860/20860 [01:04<00:00, 322.73it/s]\n",
      "100%|████████████████████████████████████████████████████████████████████████████| 1/1 [00:00<00:00,  4.67it/s]\n",
      "100%|███████████████████████████████████████████████████████████████████| 20668/20668 [01:05<00:00, 313.79it/s]\n",
      "100%|███████████████████████████████████████████████████████████████████| 20830/20830 [01:11<00:00, 293.11it/s]\n",
      "100%|███████████████████████████████████████████████████████████████████| 20879/20879 [01:11<00:00, 290.81it/s]\n",
      "100%|███████████████████████████████████████████████████████████████████| 20933/20933 [01:12<00:00, 287.22it/s]\n",
      "100%|███████████████████████████████████████████████████████████████████| 21036/21036 [01:16<00:00, 276.20it/s]\n",
      "100%|██████████████████████████████████████████████████████████████████| 10000/10000 [00:08<00:00, 1133.13it/s]\n",
      " 64%|██████████████████████████████████████████▌                        | 14792/23272 [00:40<00:40, 210.80it/s]/home/husein/ssd4/malaya/malaya/normalizer/rules.py:445: FutureWarning: Possible nested set at position 3\n",
      "  if re.findall(_expressions['ic'], word_lower):\n",
      " 58%|██████████████████████████████████████▉                            | 13721/23577 [00:40<00:36, 269.98it/s]/home/husein/ssd4/malaya/malaya/normalizer/rules.py:445: FutureWarning: Possible nested set at position 3\n",
      "  if re.findall(_expressions['ic'], word_lower):\n",
      " 69%|██████████████████████████████████████████████▏                    | 16245/23577 [00:50<00:28, 256.90it/s]/home/husein/ssd4/malaya/malaya/normalizer/rules.py:445: FutureWarning: Possible nested set at position 3\n",
      "  if re.findall(_expressions['ic'], word_lower):\n",
      " 75%|██████████████████████████████████████████████████▏                | 17371/23164 [00:52<00:12, 453.96it/s]/home/husein/ssd4/malaya/malaya/normalizer/rules.py:445: FutureWarning: Possible nested set at position 3\n",
      "  if re.findall(_expressions['ic'], word_lower):\n",
      " 85%|█████████████████████████████████████████████████████████          | 19837/23272 [00:54<00:06, 507.72it/s]/home/husein/ssd4/malaya/malaya/normalizer/rules.py:445: FutureWarning: Possible nested set at position 3\n",
      "  if re.findall(_expressions['ic'], word_lower):\n",
      " 90%|███████████████████████████████████████████████████████████▉       | 20704/23124 [01:01<00:04, 512.92it/s]/home/husein/ssd4/malaya/malaya/normalizer/rules.py:445: FutureWarning: Possible nested set at position 3\n",
      "  if re.findall(_expressions['ic'], word_lower):\n",
      "100%|███████████████████████████████████████████████████████████████████| 23272/23272 [01:02<00:00, 373.72it/s]\n",
      "100%|████████████████████████████████████████████████████████████████████████████| 5/5 [00:00<00:00, 33.38it/s]\n",
      "100%|███████████████████████████████████████████████████████████████████| 23178/23178 [01:06<00:00, 348.81it/s]\n",
      "100%|███████████████████████████████████████████████████████████████████| 23124/23124 [01:07<00:00, 344.10it/s]\n",
      "100%|███████████████████████████████████████████████████████████████████| 23164/23164 [01:08<00:00, 339.67it/s]\n",
      "100%|███████████████████████████████████████████████████████████████████| 23019/23019 [01:09<00:00, 331.57it/s]\n",
      "100%|███████████████████████████████████████████████████████████████████| 23577/23577 [01:10<00:00, 335.70it/s]\n",
      "100%|████████████████████████████████████████████████████████████████████| 5366/5366 [00:04<00:00, 1317.77it/s]\n",
      " 60%|████████████████████████████████████████▊                           | 9344/15556 [00:30<00:18, 331.12it/s]/home/husein/ssd4/malaya/malaya/normalizer/rules.py:445: FutureWarning: Possible nested set at position 3\n",
      "  if re.findall(_expressions['ic'], word_lower):\n",
      " 82%|██████████████████████████████████████████████████████▊            | 12745/15562 [00:34<00:10, 271.66it/s]/home/husein/ssd4/malaya/malaya/normalizer/rules.py:445: FutureWarning: Possible nested set at position 3\n",
      "  if re.findall(_expressions['ic'], word_lower):\n",
      "100%|███████████████████████████████████████████████████████████████████| 15314/15314 [00:35<00:00, 434.22it/s]\n",
      "100%|████████████████████████████████████████████████████████████████████████████| 3/3 [00:00<00:00, 19.81it/s]\n",
      " 96%|████████████████████████████████████████████████████████████████▏  | 14916/15562 [00:40<00:01, 511.31it/s]/home/husein/ssd4/malaya/malaya/normalizer/rules.py:445: FutureWarning: Possible nested set at position 3\n",
      "  if re.findall(_expressions['ic'], word_lower):\n",
      "100%|███████████████████████████████████████████████████████████████████| 15562/15562 [00:41<00:00, 376.05it/s]\n",
      "100%|███████████████████████████████████████████████████████████████████| 15550/15550 [00:41<00:00, 373.73it/s]\n",
      "100%|███████████████████████████████████████████████████████████████████| 15332/15332 [00:42<00:00, 357.26it/s]\n",
      "100%|███████████████████████████████████████████████████████████████████| 15556/15556 [00:45<00:00, 343.90it/s]\n",
      " 98%|█████████████████████████████████████████████████████████████████▊ | 15133/15416 [00:46<00:00, 296.86it/s]/home/husein/ssd4/malaya/malaya/normalizer/rules.py:445: FutureWarning: Possible nested set at position 3\n",
      "  if re.findall(_expressions['ic'], word_lower):\n",
      "100%|███████████████████████████████████████████████████████████████████| 15416/15416 [00:46<00:00, 328.44it/s]\n",
      "100%|██████████████████████████████████████████████████████████████████| 10000/10000 [00:06<00:00, 1475.23it/s]\n",
      "100%|███████████████████████████████████████████████████████████████████| 21972/21972 [01:04<00:00, 339.94it/s]\n",
      "100%|███████████████████████████████████████████████████████████████████| 21622/21622 [01:05<00:00, 328.66it/s]\n",
      " 98%|█████████████████████████████████████████████████████████████████▍ | 21184/21699 [01:09<00:01, 494.53it/s]/home/husein/ssd4/malaya/malaya/normalizer/rules.py:445: FutureWarning: Possible nested set at position 3\n",
      "  if re.findall(_expressions['ic'], word_lower):\n",
      "100%|███████████████████████████████████████████████████████████████████| 22095/22095 [01:09<00:00, 318.78it/s]\n",
      "100%|███████████████████████████████████████████████████████████████████| 21600/21600 [01:09<00:00, 311.57it/s]\n",
      "100%|███████████████████████████████████████████████████████████████████| 21699/21699 [01:10<00:00, 309.03it/s]\n",
      "100%|███████████████████████████████████████████████████████████████████| 21932/21932 [01:10<00:00, 310.60it/s]\n",
      "100%|███████████████████████████████████████████████████████████████████████| 998/998 [00:01<00:00, 908.28it/s]\n",
      "100%|█████████████████████████████████████████████████████████████████████| 2341/2341 [00:08<00:00, 276.70it/s]\n",
      "100%|█████████████████████████████████████████████████████████████████████| 2375/2375 [00:08<00:00, 278.27it/s]\n",
      "100%|█████████████████████████████████████████████████████████████████████| 2347/2347 [00:08<00:00, 270.39it/s]\n",
      "100%|████████████████████████████████████████████████████████████████████████████| 1/1 [00:00<00:00,  4.95it/s]\n",
      "100%|█████████████████████████████████████████████████████████████████████| 2365/2365 [00:08<00:00, 271.51it/s]\n",
      "100%|█████████████████████████████████████████████████████████████████████| 2362/2362 [00:08<00:00, 263.51it/s]\n",
      "100%|█████████████████████████████████████████████████████████████████████| 2344/2344 [00:10<00:00, 230.29it/s]\n",
      "100%|██████████████████████████████████████████████████████████████████| 10000/10000 [00:06<00:00, 1633.20it/s]\n",
      "100%|███████████████████████████████████████████████████████████████████| 19889/19889 [00:59<00:00, 333.51it/s]\n",
      "100%|███████████████████████████████████████████████████████████████████| 19910/19910 [01:02<00:00, 316.68it/s]\n",
      "100%|███████████████████████████████████████████████████████████████████| 19910/19910 [01:06<00:00, 301.60it/s]\n",
      "100%|███████████████████████████████████████████████████████████████████| 20010/20010 [01:08<00:00, 292.10it/s]\n",
      "100%|███████████████████████████████████████████████████████████████████| 20004/20004 [01:11<00:00, 280.19it/s]\n",
      "100%|███████████████████████████████████████████████████████████████████| 20245/20245 [01:11<00:00, 281.55it/s]\n"
     ]
    }
   ],
   "source": [
    "for f in files:\n",
    "    left = f.split('-v2')[0]\n",
    "    new_f = f'news-{left}-v2.json'\n",
    "    if os.path.exists(new_f):\n",
    "        continue\n",
    "    with open(f) as fopen:\n",
    "        data = json.load(fopen)\n",
    "    \n",
    "    texts = []\n",
    "\n",
    "    for d in tqdm(data):\n",
    "        if 'r' not in d:\n",
    "            continue\n",
    "        if 'title' not in d['r']['response']:\n",
    "            continue\n",
    "        if len(d['r']['response']['title']):\n",
    "            texts.append(d['r']['response']['title'])\n",
    "        if len(d['r']['response']['description']):\n",
    "            texts.append(d['r']['response']['description'])\n",
    "\n",
    "        s = d['r']['response']['articleBody']\n",
    "        soup = BeautifulSoup(s)\n",
    "        s = BeautifulSoup(soup.text).text\n",
    "        splitted = s.split('\\n')\n",
    "        for s in splitted:\n",
    "            if len(s.strip()) < 10:\n",
    "                continue\n",
    "            if '/' in s:\n",
    "                continue\n",
    "            if '--' in s:\n",
    "                continue\n",
    "            if '~' in s:\n",
    "                continue\n",
    "            texts.append(s)\n",
    "    \n",
    "    processed_text = mp.multiprocessing(texts, loop, cores = 6)\n",
    "    \n",
    "    with open(new_f, 'w') as fopen:\n",
    "        json.dump(processed_text, fopen)"
   ]
  },
  {
   "cell_type": "code",
   "execution_count": 22,
   "id": "de570b40",
   "metadata": {},
   "outputs": [
    {
     "data": {
      "text/plain": [
       "115167"
      ]
     },
     "execution_count": 22,
     "metadata": {},
     "output_type": "execute_result"
    }
   ],
   "source": [
    "not_same = []\n",
    "for p in processed_text:\n",
    "    if p['original'] != p['normalized']:\n",
    "        not_same.append(p)\n",
    "        \n",
    "len(not_same)"
   ]
  },
  {
   "cell_type": "code",
   "execution_count": 17,
   "id": "ab2e3c87",
   "metadata": {},
   "outputs": [],
   "source": [
    "!rm news-*-v2.json"
   ]
  },
  {
   "cell_type": "code",
   "execution_count": 24,
   "id": "9ac12654",
   "metadata": {},
   "outputs": [
    {
     "data": {
      "text/plain": [
       "['news-berita-dunia-v2.json',\n",
       " 'news-berita-politik-v2.json',\n",
       " 'news-berita-bisnes-v2.json',\n",
       " 'news-berita-sukan-v2.json',\n",
       " 'news-berita-hiburan-v2.json',\n",
       " 'news-gaya-hidup-v2.json',\n",
       " 'news-berita-malaysia-v2.json',\n",
       " 'news-berita-teknologi-v2.json']"
      ]
     },
     "execution_count": 24,
     "metadata": {},
     "output_type": "execute_result"
    }
   ],
   "source": [
    "glob('news-*-v2.json')"
   ]
  },
  {
   "cell_type": "code",
   "execution_count": 25,
   "id": "44844476",
   "metadata": {},
   "outputs": [
    {
     "name": "stdout",
     "output_type": "stream",
     "text": [
      "news-berita-dunia-v2.json\n"
     ]
    },
    {
     "data": {
      "application/vnd.jupyter.widget-view+json": {
       "model_id": "526cd69a4bb642bea8f2530014ca56a0",
       "version_major": 2,
       "version_minor": 0
      },
      "text/plain": [
       "news-berita-dunia-v2.json:   0%|          | 0.00/29.5M [00:00<?, ?B/s]"
      ]
     },
     "metadata": {},
     "output_type": "display_data"
    },
    {
     "name": "stdout",
     "output_type": "stream",
     "text": [
      "news-berita-politik-v2.json\n"
     ]
    },
    {
     "data": {
      "application/vnd.jupyter.widget-view+json": {
       "model_id": "6c002caea05b403db13f0df585827eb1",
       "version_major": 2,
       "version_minor": 0
      },
      "text/plain": [
       "news-berita-politik-v2.json:   0%|          | 0.00/48.8M [00:00<?, ?B/s]"
      ]
     },
     "metadata": {},
     "output_type": "display_data"
    },
    {
     "name": "stdout",
     "output_type": "stream",
     "text": [
      "news-berita-bisnes-v2.json\n"
     ]
    },
    {
     "data": {
      "application/vnd.jupyter.widget-view+json": {
       "model_id": "69351827b6e547058bae3f5861217da0",
       "version_major": 2,
       "version_minor": 0
      },
      "text/plain": [
       "news-berita-bisnes-v2.json:   0%|          | 0.00/51.8M [00:00<?, ?B/s]"
      ]
     },
     "metadata": {},
     "output_type": "display_data"
    },
    {
     "name": "stdout",
     "output_type": "stream",
     "text": [
      "news-berita-sukan-v2.json\n"
     ]
    },
    {
     "data": {
      "application/vnd.jupyter.widget-view+json": {
       "model_id": "2e52940584ff41fc998f72034ee99230",
       "version_major": 2,
       "version_minor": 0
      },
      "text/plain": [
       "news-berita-sukan-v2.json:   0%|          | 0.00/44.4M [00:00<?, ?B/s]"
      ]
     },
     "metadata": {},
     "output_type": "display_data"
    },
    {
     "name": "stdout",
     "output_type": "stream",
     "text": [
      "news-berita-hiburan-v2.json\n"
     ]
    },
    {
     "data": {
      "application/vnd.jupyter.widget-view+json": {
       "model_id": "53729be714a946c2907fdad8f4331e31",
       "version_major": 2,
       "version_minor": 0
      },
      "text/plain": [
       "news-berita-hiburan-v2.json:   0%|          | 0.00/43.3M [00:00<?, ?B/s]"
      ]
     },
     "metadata": {},
     "output_type": "display_data"
    },
    {
     "name": "stdout",
     "output_type": "stream",
     "text": [
      "news-gaya-hidup-v2.json\n"
     ]
    },
    {
     "data": {
      "application/vnd.jupyter.widget-view+json": {
       "model_id": "3825722aa1e84e2c87c31bde2f35b30f",
       "version_major": 2,
       "version_minor": 0
      },
      "text/plain": [
       "news-gaya-hidup-v2.json:   0%|          | 0.00/30.9M [00:00<?, ?B/s]"
      ]
     },
     "metadata": {},
     "output_type": "display_data"
    },
    {
     "name": "stdout",
     "output_type": "stream",
     "text": [
      "news-berita-malaysia-v2.json\n"
     ]
    },
    {
     "data": {
      "application/vnd.jupyter.widget-view+json": {
       "model_id": "2c85bd01ad15415e9427e602d1f300e1",
       "version_major": 2,
       "version_minor": 0
      },
      "text/plain": [
       "news-berita-malaysia-v2.json:   0%|          | 0.00/41.5M [00:00<?, ?B/s]"
      ]
     },
     "metadata": {},
     "output_type": "display_data"
    },
    {
     "name": "stdout",
     "output_type": "stream",
     "text": [
      "news-berita-teknologi-v2.json\n"
     ]
    }
   ],
   "source": [
    "from huggingface_hub import HfApi\n",
    "api = HfApi()\n",
    "\n",
    "for f in glob('news-*-v2.json'):\n",
    "    print(f)\n",
    "    api.upload_file(\n",
    "        path_or_fileobj=f,\n",
    "        path_in_repo=f\"texts/{f}\",\n",
    "        repo_id=\"mesolitica/TTS\",\n",
    "        repo_type=\"dataset\",\n",
    "    )"
   ]
  },
  {
   "cell_type": "code",
   "execution_count": null,
   "id": "5c3e45e8",
   "metadata": {},
   "outputs": [],
   "source": []
  }
 ],
 "metadata": {
  "kernelspec": {
   "display_name": "python3.10",
   "language": "python",
   "name": "python3.10"
  },
  "language_info": {
   "codemirror_mode": {
    "name": "ipython",
    "version": 3
   },
   "file_extension": ".py",
   "mimetype": "text/x-python",
   "name": "python",
   "nbconvert_exporter": "python",
   "pygments_lexer": "ipython3",
   "version": "3.10.15"
  }
 },
 "nbformat": 4,
 "nbformat_minor": 5
}
