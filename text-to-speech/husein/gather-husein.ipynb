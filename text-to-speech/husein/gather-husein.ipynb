{
 "cells": [
  {
   "cell_type": "code",
   "execution_count": 2,
   "id": "1b76048d",
   "metadata": {},
   "outputs": [],
   "source": [
    "import os\n",
    "\n",
    "os.environ['CUDA_VISIBLE_DEVICES'] = '1'"
   ]
  },
  {
   "cell_type": "code",
   "execution_count": 3,
   "id": "e4819009",
   "metadata": {},
   "outputs": [],
   "source": [
    "from glob import glob\n",
    "from tqdm import tqdm\n",
    "import json\n",
    "import copy\n",
    "import os\n",
    "import torchaudio\n",
    "import penn\n",
    "\n",
    "hopsize = .01\n",
    "fmin = 30.\n",
    "fmax = 1000.\n",
    "gpu = 0\n",
    "batch_size = 2048\n",
    "checkpoint = None\n",
    "\n",
    "center = 'half-hop'\n",
    "interp_unvoiced_at = .065"
   ]
  },
  {
   "cell_type": "code",
   "execution_count": 3,
   "id": "fddfb3a9",
   "metadata": {},
   "outputs": [
    {
     "name": "stderr",
     "output_type": "stream",
     "text": [
      "100%|███████████████████████████████████████████████████████████████████████████████| 49985/49985 [00:00<00:00, 168093.52it/s]\n"
     ]
    },
    {
     "data": {
      "text/plain": [
       "22864"
      ]
     },
     "execution_count": 3,
     "metadata": {},
     "output_type": "execute_result"
    }
   ],
   "source": [
    "text = []\n",
    "files = sorted(glob('osman-news-edge-tts-text/*.json'))\n",
    "for f in files:\n",
    "    with open(f) as fopen:\n",
    "        text.append(json.load(fopen))\n",
    "\n",
    "filtered = []\n",
    "for i in tqdm(range(len(text))):\n",
    "    t = copy.copy(text[i])\n",
    "    if '---' in t['normalized'] or '~' in t['normalized']:\n",
    "        continue\n",
    "    new_filename = os.path.join('generate-husein-news-normalized-v2', f'{i}.mp3')\n",
    "    if not os.path.exists(new_filename):\n",
    "        continue\n",
    "    \n",
    "    t['audio_filename'] = new_filename\n",
    "    filtered.append(t)\n",
    "    \n",
    "len(filtered)"
   ]
  },
  {
   "cell_type": "code",
   "execution_count": 4,
   "id": "f11fc397",
   "metadata": {},
   "outputs": [
    {
     "name": "stderr",
     "output_type": "stream",
     "text": [
      "100%|███████████████████████████████████████████████████████████████████████████████| 59582/59582 [00:00<00:00, 237719.74it/s]\n"
     ]
    },
    {
     "data": {
      "text/plain": [
       "40556"
      ]
     },
     "execution_count": 4,
     "metadata": {},
     "output_type": "execute_result"
    }
   ],
   "source": [
    "text = []\n",
    "files = sorted(glob('osman-parliament-edge-tts-text/*.json'))\n",
    "for f in files:\n",
    "    with open(f) as fopen:\n",
    "        text.append(json.load(fopen))\n",
    "        \n",
    "for i in tqdm(range(len(text))):\n",
    "    t = copy.copy(text[i])\n",
    "    if '---' in t['normalized'] or '~' in t['normalized']:\n",
    "        continue\n",
    "    new_filename = os.path.join('generate-husein-wiki-normalized-v2', f'{i}.mp3')\n",
    "    if not os.path.exists(new_filename):\n",
    "        continue\n",
    "    \n",
    "    t['audio_filename'] = new_filename\n",
    "    filtered.append(t)\n",
    "    \n",
    "len(filtered)"
   ]
  },
  {
   "cell_type": "code",
   "execution_count": 5,
   "id": "6a1ad4ee",
   "metadata": {},
   "outputs": [
    {
     "name": "stderr",
     "output_type": "stream",
     "text": [
      "100%|█████████████████████████████████████████████████████████████████████████████| 272785/272785 [00:01<00:00, 251169.24it/s]\n"
     ]
    }
   ],
   "source": [
    "with open('chatbot-conversation-politics.json') as fopen:\n",
    "    text = json.load(fopen)\n",
    "        \n",
    "for i in tqdm(range(len(text))):\n",
    "    t = copy.copy(text[i])\n",
    "    if '---' in t['normalized'] or '~' in t['normalized']:\n",
    "        continue\n",
    "    new_filename = os.path.join('husein-chatbot-politics-normalized-v2', f'{i}.mp3')\n",
    "    if not os.path.exists(new_filename):\n",
    "        continue\n",
    "    \n",
    "    t['audio_filename'] = new_filename\n",
    "    filtered.append(t)"
   ]
  },
  {
   "cell_type": "code",
   "execution_count": 6,
   "id": "7dd1d697",
   "metadata": {},
   "outputs": [
    {
     "name": "stderr",
     "output_type": "stream",
     "text": [
      "100%|███████████████████████████████████████████████████████████████████████████████| 58069/58069 [00:00<00:00, 200650.86it/s]\n"
     ]
    }
   ],
   "source": [
    "with open('chatbot-conversation.json') as fopen:\n",
    "    text = json.load(fopen)\n",
    "        \n",
    "for i in tqdm(range(len(text))):\n",
    "    t = copy.copy(text[i])\n",
    "    if '---' in t['normalized'] or '~' in t['normalized']:\n",
    "        continue\n",
    "    new_filename = os.path.join('husein-chatbot-normalized-v2', f'{i}.mp3')\n",
    "    if not os.path.exists(new_filename):\n",
    "        continue\n",
    "    \n",
    "    t['audio_filename'] = new_filename\n",
    "    filtered.append(t)"
   ]
  },
  {
   "cell_type": "code",
   "execution_count": 7,
   "id": "c1e10621",
   "metadata": {},
   "outputs": [
    {
     "name": "stderr",
     "output_type": "stream",
     "text": [
      "100%|█████████████████████████████████████████████████████████████████████████████| 130786/130786 [00:00<00:00, 277809.78it/s]\n"
     ]
    }
   ],
   "source": [
    "with open('news-politics.json') as fopen:\n",
    "    text = json.load(fopen)\n",
    "        \n",
    "for i in tqdm(range(len(text))):\n",
    "    t = copy.copy(text[i])\n",
    "    if '---' in t['normalized'] or '~' in t['normalized']:\n",
    "        continue\n",
    "    new_filename = os.path.join('husein-news-politics-normalized-v2', f'{i}.mp3')\n",
    "    if not os.path.exists(new_filename):\n",
    "        continue\n",
    "    \n",
    "    t['audio_filename'] = new_filename\n",
    "    filtered.append(t)"
   ]
  },
  {
   "cell_type": "code",
   "execution_count": 8,
   "id": "a970261f",
   "metadata": {
    "scrolled": true
   },
   "outputs": [
    {
     "data": {
      "text/plain": [
       "132779"
      ]
     },
     "execution_count": 8,
     "metadata": {},
     "output_type": "execute_result"
    }
   ],
   "source": [
    "len(filtered)"
   ]
  },
  {
   "cell_type": "code",
   "execution_count": 9,
   "id": "16bfb38d",
   "metadata": {},
   "outputs": [],
   "source": [
    "import penn\n",
    "\n",
    "hopsize = .01\n",
    "fmin = 30.\n",
    "fmax = 1000.\n",
    "gpu = 0\n",
    "batch_size = 2048\n",
    "checkpoint = None\n",
    "\n",
    "center = 'half-hop'\n",
    "interp_unvoiced_at = .065"
   ]
  },
  {
   "cell_type": "code",
   "execution_count": 13,
   "id": "84c19232",
   "metadata": {},
   "outputs": [
    {
     "data": {
      "text/plain": [
       "0"
      ]
     },
     "execution_count": 13,
     "metadata": {},
     "output_type": "execute_result"
    }
   ],
   "source": [
    "pitch, periodicity = penn.from_audio(\n",
    "    *torchaudio.load(filtered[0]['audio_filename']),\n",
    "    hopsize=hopsize,\n",
    "    fmin=fmin,\n",
    "    fmax=fmax,\n",
    "    checkpoint=checkpoint,\n",
    "    batch_size=batch_size,\n",
    "    center=center,\n",
    "    interp_unvoiced_at=interp_unvoiced_at,\n",
    "    gpu=gpu)\n",
    "pitch[0][pitch[0] > 300].shape[0]"
   ]
  },
  {
   "cell_type": "code",
   "execution_count": 14,
   "id": "63be2ea6",
   "metadata": {},
   "outputs": [
    {
     "name": "stderr",
     "output_type": "stream",
     "text": [
      "100%|█████████████████████████████████████████████████████████████████████████████████| 132779/132779 [57:39<00:00, 38.38it/s]\n"
     ]
    }
   ],
   "source": [
    "filtered_filtered = []\n",
    "for f in tqdm(filtered):\n",
    "    pitch, periodicity = penn.from_audio(\n",
    "        *torchaudio.load(f['audio_filename']),\n",
    "        hopsize=hopsize,\n",
    "        fmin=fmin,\n",
    "        fmax=fmax,\n",
    "        checkpoint=checkpoint,\n",
    "        batch_size=batch_size,\n",
    "        center=center,\n",
    "        interp_unvoiced_at=interp_unvoiced_at,\n",
    "        gpu=gpu)\n",
    "    if pitch[0][pitch[0] > 300].shape[0] > 1:\n",
    "        continue\n",
    "    \n",
    "    filtered_filtered.append(f)"
   ]
  },
  {
   "cell_type": "code",
   "execution_count": 15,
   "id": "436ef3e8",
   "metadata": {},
   "outputs": [
    {
     "data": {
      "text/plain": [
       "(127154, 132779)"
      ]
     },
     "execution_count": 15,
     "metadata": {},
     "output_type": "execute_result"
    }
   ],
   "source": [
    "len(filtered_filtered), len(filtered)"
   ]
  },
  {
   "cell_type": "code",
   "execution_count": 16,
   "id": "ce4ee949",
   "metadata": {},
   "outputs": [],
   "source": [
    "import soundfile as sf\n",
    "\n",
    "def get_length(file):\n",
    "    y, sr = sf.read(file)\n",
    "    return len(y) / sr"
   ]
  },
  {
   "cell_type": "code",
   "execution_count": 17,
   "id": "6b916f56",
   "metadata": {},
   "outputs": [],
   "source": [
    "import mp\n",
    "\n",
    "def loop(files):\n",
    "    files, _ = files\n",
    "    length = 0\n",
    "    for f in tqdm(files):\n",
    "        try:\n",
    "            length += get_length(f['audio_filename'])\n",
    "        except:\n",
    "            pass\n",
    "    return [length]"
   ]
  },
  {
   "cell_type": "code",
   "execution_count": 18,
   "id": "6dc37935",
   "metadata": {},
   "outputs": [
    {
     "name": "stderr",
     "output_type": "stream",
     "text": [
      "100%|██████████████████████████████████████████████████████████████████████████████████| 12715/12715 [00:35<00:00, 361.61it/s]\n",
      "100%|██████████████████████████████████████████████████████████████████████████████████████████| 4/4 [00:00<00:00, 249.46it/s]\n",
      "100%|██████████████████████████████████████████████████████████████████████████████████| 12715/12715 [00:37<00:00, 342.08it/s]\n",
      "100%|██████████████████████████████████████████████████████████████████████████████████| 12715/12715 [00:35<00:00, 356.24it/s]\n",
      "100%|██████████████████████████████████████████████████████████████████████████████████| 12715/12715 [00:36<00:00, 351.04it/s]\n",
      "100%|██████████████████████████████████████████████████████████████████████████████████| 12715/12715 [00:41<00:00, 304.78it/s]\n",
      "100%|██████████████████████████████████████████████████████████████████████████████████| 12715/12715 [00:41<00:00, 308.76it/s]\n",
      "100%|██████████████████████████████████████████████████████████████████████████████████| 12715/12715 [00:41<00:00, 308.54it/s]\n",
      "100%|██████████████████████████████████████████████████████████████████████████████████| 12715/12715 [00:42<00:00, 302.63it/s]\n",
      "100%|██████████████████████████████████████████████████████████████████████████████████| 12715/12715 [00:42<00:00, 296.44it/s]\n",
      "100%|██████████████████████████████████████████████████████████████████████████████████| 12715/12715 [00:42<00:00, 296.77it/s]\n"
     ]
    }
   ],
   "source": [
    "lengths = mp.multiprocessing(filtered_filtered, loop, cores = 10)"
   ]
  },
  {
   "cell_type": "code",
   "execution_count": 19,
   "id": "eacdc03a",
   "metadata": {},
   "outputs": [
    {
     "data": {
      "text/plain": [
       "305.8013451851877"
      ]
     },
     "execution_count": 19,
     "metadata": {},
     "output_type": "execute_result"
    }
   ],
   "source": [
    "import numpy as np\n",
    "\n",
    "np.sum(lengths) / 60 / 60"
   ]
  },
  {
   "cell_type": "code",
   "execution_count": 20,
   "id": "9cbe4d0a",
   "metadata": {},
   "outputs": [],
   "source": [
    "import pandas as pd\n",
    "\n",
    "pd.DataFrame(filtered_filtered).to_parquet('husein-00000-of-00001.parquet')"
   ]
  },
  {
   "cell_type": "code",
   "execution_count": 21,
   "id": "18ee6653",
   "metadata": {},
   "outputs": [
    {
     "data": {
      "application/vnd.jupyter.widget-view+json": {
       "model_id": "bfe918b2828049aea03148f3955c392f",
       "version_major": 2,
       "version_minor": 0
      },
      "text/plain": [
       "husein-00000-of-00001.parquet:   0%|          | 0.00/15.3M [00:00<?, ?B/s]"
      ]
     },
     "metadata": {},
     "output_type": "display_data"
    },
    {
     "data": {
      "text/plain": [
       "CommitInfo(commit_url='https://huggingface.co/datasets/mesolitica/TTS/commit/7340b6b7c7fe01308dd2d87725e4cbc497715452', commit_message='Upload data/husein-00000-of-00001.parquet with huggingface_hub', commit_description='', oid='7340b6b7c7fe01308dd2d87725e4cbc497715452', pr_url=None, repo_url=RepoUrl('https://huggingface.co/datasets/mesolitica/TTS', endpoint='https://huggingface.co', repo_type='dataset', repo_id='mesolitica/TTS'), pr_revision=None, pr_num=None)"
      ]
     },
     "execution_count": 21,
     "metadata": {},
     "output_type": "execute_result"
    }
   ],
   "source": [
    "from huggingface_hub import HfApi\n",
    "api = HfApi()\n",
    "\n",
    "api.upload_file(\n",
    "    path_or_fileobj=\"husein-00000-of-00001.parquet\",\n",
    "    path_in_repo=\"data/husein-00000-of-00001.parquet\",\n",
    "    repo_id=\"mesolitica/TTS\",\n",
    "    repo_type=\"dataset\",\n",
    ")"
   ]
  },
  {
   "cell_type": "code",
   "execution_count": 1,
   "id": "b315bc54",
   "metadata": {},
   "outputs": [],
   "source": [
    "!zip -rq generate-husein-wiki-normalized-v2.zip generate-husein-wiki-normalized-v2\n",
    "!zip -rq generate-husein-news-normalized-v2.zip generate-husein-news-normalized-v2\n",
    "!zip -rq husein-news-politics-normalized-v2.zip husein-news-politics-normalized-v2\n",
    "!zip -rq husein-chatbot-politics-normalized-v2.zip husein-chatbot-politics-normalized-v2\n",
    "!zip -rq husein-chatbot-normalized-v2.zip husein-chatbot-normalized-v2"
   ]
  },
  {
   "cell_type": "code",
   "execution_count": 6,
   "id": "afc07bbd",
   "metadata": {},
   "outputs": [],
   "source": [
    "from huggingface_hub import HfApi\n",
    "api = HfApi()"
   ]
  },
  {
   "cell_type": "code",
   "execution_count": 7,
   "id": "6024ff11",
   "metadata": {},
   "outputs": [
    {
     "name": "stdout",
     "output_type": "stream",
     "text": [
      "husein-news-politics-normalized-v2.zip\n"
     ]
    },
    {
     "data": {
      "application/vnd.jupyter.widget-view+json": {
       "model_id": "4c5872d709db479596e122f25f21774b",
       "version_major": 2,
       "version_minor": 0
      },
      "text/plain": [
       "husein-news-politics-normalized-v2.zip:   0%|          | 0.00/230M [00:00<?, ?B/s]"
      ]
     },
     "metadata": {},
     "output_type": "display_data"
    },
    {
     "name": "stdout",
     "output_type": "stream",
     "text": [
      "husein-chatbot-normalized-v2.zip\n"
     ]
    },
    {
     "data": {
      "application/vnd.jupyter.widget-view+json": {
       "model_id": "5ac87f7187874ced813b080bf294944b",
       "version_major": 2,
       "version_minor": 0
      },
      "text/plain": [
       "husein-chatbot-normalized-v2.zip:   0%|          | 0.00/3.21G [00:00<?, ?B/s]"
      ]
     },
     "metadata": {},
     "output_type": "display_data"
    },
    {
     "name": "stdout",
     "output_type": "stream",
     "text": [
      "generate-husein-news-normalized-v2.zip\n"
     ]
    },
    {
     "data": {
      "application/vnd.jupyter.widget-view+json": {
       "model_id": "f1a301bae4564956a15743c13c63debe",
       "version_major": 2,
       "version_minor": 0
      },
      "text/plain": [
       "generate-husein-news-normalized-v2.zip:   0%|          | 0.00/1.06G [00:00<?, ?B/s]"
      ]
     },
     "metadata": {},
     "output_type": "display_data"
    },
    {
     "name": "stdout",
     "output_type": "stream",
     "text": [
      "generate-husein-wiki-normalized-v2.zip\n"
     ]
    },
    {
     "data": {
      "application/vnd.jupyter.widget-view+json": {
       "model_id": "09a9e2556fd44d758263661b87dd9c67",
       "version_major": 2,
       "version_minor": 0
      },
      "text/plain": [
       "generate-husein-wiki-normalized-v2.zip:   0%|          | 0.00/1.03G [00:00<?, ?B/s]"
      ]
     },
     "metadata": {},
     "output_type": "display_data"
    },
    {
     "name": "stdout",
     "output_type": "stream",
     "text": [
      "husein-chatbot-politics-normalized-v2.zip\n"
     ]
    },
    {
     "data": {
      "application/vnd.jupyter.widget-view+json": {
       "model_id": "1434f7b146f34915a5723932918fb39f",
       "version_major": 2,
       "version_minor": 0
      },
      "text/plain": [
       "husein-chatbot-politics-normalized-v2.zip:   0%|          | 0.00/2.02G [00:00<?, ?B/s]"
      ]
     },
     "metadata": {},
     "output_type": "display_data"
    }
   ],
   "source": [
    "for f in glob('*v2.zip'):\n",
    "    print(f)\n",
    "    api.upload_file(\n",
    "        path_or_fileobj=f,\n",
    "        path_in_repo=f,\n",
    "        repo_id=\"mesolitica/TTS\",\n",
    "        repo_type=\"dataset\",\n",
    "    )"
   ]
  },
  {
   "cell_type": "code",
   "execution_count": null,
   "id": "da0e0b34",
   "metadata": {},
   "outputs": [],
   "source": []
  }
 ],
 "metadata": {
  "kernelspec": {
   "display_name": "python3.10",
   "language": "python",
   "name": "python3.10"
  },
  "language_info": {
   "codemirror_mode": {
    "name": "ipython",
    "version": 3
   },
   "file_extension": ".py",
   "mimetype": "text/x-python",
   "name": "python",
   "nbconvert_exporter": "python",
   "pygments_lexer": "ipython3",
   "version": "3.10.15"
  }
 },
 "nbformat": 4,
 "nbformat_minor": 5
}
