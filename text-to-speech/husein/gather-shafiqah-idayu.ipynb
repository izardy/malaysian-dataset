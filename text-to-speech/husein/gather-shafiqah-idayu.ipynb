{
 "cells": [
  {
   "cell_type": "code",
   "execution_count": 1,
   "id": "1b76048d",
   "metadata": {},
   "outputs": [],
   "source": [
    "import os\n",
    "\n",
    "os.environ['CUDA_VISIBLE_DEVICES'] = '0'"
   ]
  },
  {
   "cell_type": "code",
   "execution_count": 2,
   "id": "e4819009",
   "metadata": {},
   "outputs": [],
   "source": [
    "from glob import glob\n",
    "from tqdm import tqdm\n",
    "import json\n",
    "import copy\n",
    "import os\n",
    "import torchaudio\n",
    "import penn\n",
    "import re\n",
    "\n",
    "hopsize = .01\n",
    "fmin = 30.\n",
    "fmax = 1000.\n",
    "gpu = 0\n",
    "batch_size = 2048\n",
    "checkpoint = None\n",
    "\n",
    "center = 'half-hop'\n",
    "interp_unvoiced_at = .065"
   ]
  },
  {
   "cell_type": "code",
   "execution_count": 3,
   "id": "fddfb3a9",
   "metadata": {},
   "outputs": [
    {
     "name": "stderr",
     "output_type": "stream",
     "text": [
      "100%|███████████████████████████████████████████████████████████████████████████████| 49985/49985 [00:00<00:00, 189255.64it/s]\n"
     ]
    },
    {
     "data": {
      "text/plain": [
       "0"
      ]
     },
     "execution_count": 3,
     "metadata": {},
     "output_type": "execute_result"
    }
   ],
   "source": [
    "text = []\n",
    "files = sorted(glob('osman-news-edge-tts-text/*.json'))\n",
    "for f in files:\n",
    "    with open(f) as fopen:\n",
    "        text.append(json.load(fopen))\n",
    "\n",
    "filtered = []\n",
    "for i in tqdm(range(len(text))):\n",
    "    t = copy.copy(text[i])\n",
    "    if '---' in t['normalized'] or '~' in t['normalized']:\n",
    "        continue\n",
    "        \n",
    "    gen_text = t['normalized'].replace('\\'', '').replace('\"', '').replace('!', '.')\n",
    "    gen_text = re.sub(r'[ ]+', ' ', gen_text).strip()\n",
    "    t['normalized'] = gen_text\n",
    "    \n",
    "    new_filename = os.path.join('generate-shafiqah-idayu-news-normalized-v2', f'{i}.mp3')\n",
    "    if not os.path.exists(new_filename):\n",
    "        continue\n",
    "    \n",
    "    t['audio_filename'] = new_filename\n",
    "    filtered.append(t)\n",
    "    \n",
    "len(filtered)"
   ]
  },
  {
   "cell_type": "code",
   "execution_count": 4,
   "id": "f11fc397",
   "metadata": {},
   "outputs": [
    {
     "name": "stderr",
     "output_type": "stream",
     "text": [
      "100%|███████████████████████████████████████████████████████████████████████████████| 59582/59582 [00:00<00:00, 202137.18it/s]\n"
     ]
    },
    {
     "data": {
      "text/plain": [
       "0"
      ]
     },
     "execution_count": 4,
     "metadata": {},
     "output_type": "execute_result"
    }
   ],
   "source": [
    "text = []\n",
    "files = sorted(glob('osman-parliament-edge-tts-text/*.json'))\n",
    "for f in files:\n",
    "    with open(f) as fopen:\n",
    "        text.append(json.load(fopen))\n",
    "        \n",
    "for i in tqdm(range(len(text))):\n",
    "    t = copy.copy(text[i])\n",
    "    if '---' in t['normalized'] or '~' in t['normalized']:\n",
    "        continue\n",
    "        \n",
    "    gen_text = t['normalized'].replace('\\'', '').replace('\"', '').replace('!', '.')\n",
    "    gen_text = re.sub(r'[ ]+', ' ', gen_text).strip()\n",
    "    t['normalized'] = gen_text\n",
    "    \n",
    "    new_filename = os.path.join('generate-shafiqah-idayu-wiki-normalized-v2', f'{i}.mp3')\n",
    "    if not os.path.exists(new_filename):\n",
    "        continue\n",
    "    \n",
    "    t['audio_filename'] = new_filename\n",
    "    filtered.append(t)\n",
    "    \n",
    "len(filtered)"
   ]
  },
  {
   "cell_type": "code",
   "execution_count": 5,
   "id": "6a1ad4ee",
   "metadata": {},
   "outputs": [
    {
     "name": "stderr",
     "output_type": "stream",
     "text": [
      "100%|█████████████████████████████████████████████████████████████████████████████| 272785/272785 [00:01<00:00, 178135.68it/s]\n"
     ]
    }
   ],
   "source": [
    "with open('chatbot-conversation-politics.json') as fopen:\n",
    "    text = json.load(fopen)\n",
    "        \n",
    "for i in tqdm(range(len(text))):\n",
    "    t = copy.copy(text[i])\n",
    "    if '---' in t['normalized'] or '~' in t['normalized']:\n",
    "        continue\n",
    "    \n",
    "    gen_text = t['normalized'].replace('\\'', '').replace('\"', '').replace('!', '.')\n",
    "    gen_text = re.sub(r'[ ]+', ' ', gen_text).strip()\n",
    "    t['normalized'] = gen_text\n",
    "    \n",
    "    new_filename = os.path.join('shafiqah-idayu-chatbot-politics-normalized-v2', f'{i}.mp3')\n",
    "    if not os.path.exists(new_filename):\n",
    "        continue\n",
    "    \n",
    "    t['audio_filename'] = new_filename\n",
    "    filtered.append(t)"
   ]
  },
  {
   "cell_type": "code",
   "execution_count": 6,
   "id": "7dd1d697",
   "metadata": {},
   "outputs": [
    {
     "name": "stderr",
     "output_type": "stream",
     "text": [
      "100%|███████████████████████████████████████████████████████████████████████████████| 58069/58069 [00:00<00:00, 181261.87it/s]\n"
     ]
    }
   ],
   "source": [
    "with open('chatbot-conversation.json') as fopen:\n",
    "    text = json.load(fopen)\n",
    "        \n",
    "for i in tqdm(range(len(text))):\n",
    "    t = copy.copy(text[i])\n",
    "    if '---' in t['normalized'] or '~' in t['normalized']:\n",
    "        continue\n",
    "    \n",
    "    gen_text = t['normalized'].replace('\\'', '').replace('\"', '').replace('!', '.')\n",
    "    gen_text = re.sub(r'[ ]+', ' ', gen_text).strip()\n",
    "    t['normalized'] = gen_text\n",
    "    \n",
    "    new_filename = os.path.join('shafiqah-idayu-chatbot-normalized-v2', f'{i}.mp3')\n",
    "    if not os.path.exists(new_filename):\n",
    "        continue\n",
    "    \n",
    "    t['audio_filename'] = new_filename\n",
    "    filtered.append(t)"
   ]
  },
  {
   "cell_type": "code",
   "execution_count": 7,
   "id": "3f85d295",
   "metadata": {},
   "outputs": [
    {
     "data": {
      "text/plain": [
       "104075"
      ]
     },
     "execution_count": 7,
     "metadata": {},
     "output_type": "execute_result"
    }
   ],
   "source": [
    "len(filtered)"
   ]
  },
  {
   "cell_type": "code",
   "execution_count": 8,
   "id": "c1e10621",
   "metadata": {},
   "outputs": [
    {
     "name": "stderr",
     "output_type": "stream",
     "text": [
      "100%|██████████████████████████████████████████████████████████████████████████████| 130786/130786 [00:01<00:00, 79668.57it/s]\n"
     ]
    }
   ],
   "source": [
    "with open('news-politics.json') as fopen:\n",
    "    text = json.load(fopen)\n",
    "        \n",
    "for i in tqdm(range(len(text))):\n",
    "    t = copy.copy(text[i])\n",
    "    if '---' in t['normalized'] or '~' in t['normalized']:\n",
    "        continue\n",
    "    \n",
    "    gen_text = t['normalized'].replace('\\'', '').replace('\"', '').replace('!', '.')\n",
    "    gen_text = re.sub(r'[ ]+', ' ', gen_text).strip()\n",
    "    t['normalized'] = gen_text\n",
    "    \n",
    "    new_filename = os.path.join('shafiqah-idayu-news-politics-normalized-v2', f'{i}.mp3')\n",
    "    if not os.path.exists(new_filename):\n",
    "        continue\n",
    "    \n",
    "    t['audio_filename'] = new_filename\n",
    "    filtered.append(t)"
   ]
  },
  {
   "cell_type": "code",
   "execution_count": 9,
   "id": "b22e56c1",
   "metadata": {},
   "outputs": [
    {
     "data": {
      "text/plain": [
       "153015"
      ]
     },
     "execution_count": 9,
     "metadata": {},
     "output_type": "execute_result"
    }
   ],
   "source": [
    "len(filtered)"
   ]
  },
  {
   "cell_type": "code",
   "execution_count": 10,
   "id": "7eb8888b",
   "metadata": {},
   "outputs": [
    {
     "name": "stderr",
     "output_type": "stream",
     "text": [
      "100%|█████████████████████████████████████████████████████████████████████████████| 138926/138926 [00:01<00:00, 129238.96it/s]\n"
     ]
    }
   ],
   "source": [
    "with open('news-berita-hiburan.json') as fopen:\n",
    "    text = json.load(fopen)\n",
    "        \n",
    "for i in tqdm(range(len(text))):\n",
    "    t = copy.copy(text[i])\n",
    "    if '---' in t['normalized'] or '~' in t['normalized']:\n",
    "        continue\n",
    "    \n",
    "    gen_text = t['normalized'].replace('\\'', '').replace('\"', '').replace('!', '.')\n",
    "    gen_text = re.sub(r'[ ]+', ' ', gen_text).strip()\n",
    "    t['normalized'] = gen_text\n",
    "    \n",
    "    new_filename = os.path.join('shafiqah-idayu-news-hiburan-normalized-v2', f'{i}.mp3')\n",
    "    if not os.path.exists(new_filename):\n",
    "        continue\n",
    "    \n",
    "    t['audio_filename'] = new_filename\n",
    "    filtered.append(t)"
   ]
  },
  {
   "cell_type": "code",
   "execution_count": 11,
   "id": "a970261f",
   "metadata": {
    "scrolled": true
   },
   "outputs": [
    {
     "data": {
      "text/plain": [
       "177184"
      ]
     },
     "execution_count": 11,
     "metadata": {},
     "output_type": "execute_result"
    }
   ],
   "source": [
    "len(filtered)"
   ]
  },
  {
   "cell_type": "code",
   "execution_count": 12,
   "id": "bcd63a2f",
   "metadata": {},
   "outputs": [
    {
     "data": {
      "text/plain": [
       "{'original': 'INDUSTRI hiburan tanah air dikejutkan dengan berita menyedihkan pada Isnin apabila pelawak popular Abam daripada kumpulan Bocey meninggal dunia.',\n",
       " 'normalized': 'INDUSTRI hiburan tanah air dikejutkan dengan berita menyedihkan pada Isnin apabila pelawak popular Abam daripada kumpulan Bocey meninggal dunia .',\n",
       " 'audio_filename': 'shafiqah-idayu-news-hiburan-normalized-v2/72746.mp3'}"
      ]
     },
     "execution_count": 12,
     "metadata": {},
     "output_type": "execute_result"
    }
   ],
   "source": [
    "filtered[-10000]"
   ]
  },
  {
   "cell_type": "code",
   "execution_count": 13,
   "id": "eb9d72f9",
   "metadata": {},
   "outputs": [
    {
     "data": {
      "text/html": [
       "\n",
       "                <audio  controls=\"controls\" >\n",
       "                    <source src=\"data:audio/mpeg;base64,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\" type=\"audio/mpeg\" />\n",
       "                    Your browser does not support the audio element.\n",
       "                </audio>\n",
       "              "
      ],
      "text/plain": [
       "<IPython.lib.display.Audio object>"
      ]
     },
     "execution_count": 13,
     "metadata": {},
     "output_type": "execute_result"
    }
   ],
   "source": [
    "import IPython.display as ipd\n",
    "ipd.Audio(filtered[-10000]['audio_filename'])"
   ]
  },
  {
   "cell_type": "code",
   "execution_count": 14,
   "id": "16bfb38d",
   "metadata": {},
   "outputs": [],
   "source": [
    "import penn\n",
    "\n",
    "hopsize = .01\n",
    "fmin = 30.\n",
    "fmax = 1000.\n",
    "gpu = 0\n",
    "batch_size = 2048\n",
    "checkpoint = None\n",
    "\n",
    "center = 'half-hop'\n",
    "interp_unvoiced_at = .065"
   ]
  },
  {
   "cell_type": "code",
   "execution_count": 15,
   "id": "84c19232",
   "metadata": {},
   "outputs": [
    {
     "data": {
      "text/plain": [
       "0"
      ]
     },
     "execution_count": 15,
     "metadata": {},
     "output_type": "execute_result"
    }
   ],
   "source": [
    "pitch, periodicity = penn.from_audio(\n",
    "    *torchaudio.load(filtered[0]['audio_filename']),\n",
    "    hopsize=hopsize,\n",
    "    fmin=fmin,\n",
    "    fmax=fmax,\n",
    "    checkpoint=checkpoint,\n",
    "    batch_size=batch_size,\n",
    "    center=center,\n",
    "    interp_unvoiced_at=interp_unvoiced_at,\n",
    "    gpu=gpu)\n",
    "pitch[0][pitch[0] > 300].shape[0]"
   ]
  },
  {
   "cell_type": "code",
   "execution_count": 16,
   "id": "63be2ea6",
   "metadata": {},
   "outputs": [
    {
     "name": "stderr",
     "output_type": "stream",
     "text": [
      "100%|███████████████████████████████████████████████████████████████████████████████| 177184/177184 [1:04:06<00:00, 46.06it/s]\n"
     ]
    }
   ],
   "source": [
    "filtered_filtered = []\n",
    "for f in tqdm(filtered):\n",
    "    pitch, periodicity = penn.from_audio(\n",
    "        *torchaudio.load(f['audio_filename']),\n",
    "        hopsize=hopsize,\n",
    "        fmin=fmin,\n",
    "        fmax=fmax,\n",
    "        checkpoint=checkpoint,\n",
    "        batch_size=batch_size,\n",
    "        center=center,\n",
    "        interp_unvoiced_at=interp_unvoiced_at,\n",
    "        gpu=gpu)\n",
    "    if pitch[0][pitch[0] > 300].shape[0] > 1:\n",
    "        continue\n",
    "    \n",
    "    filtered_filtered.append(f)"
   ]
  },
  {
   "cell_type": "code",
   "execution_count": 17,
   "id": "436ef3e8",
   "metadata": {},
   "outputs": [
    {
     "data": {
      "text/plain": [
       "(141500, 177184)"
      ]
     },
     "execution_count": 17,
     "metadata": {},
     "output_type": "execute_result"
    }
   ],
   "source": [
    "len(filtered_filtered), len(filtered)"
   ]
  },
  {
   "cell_type": "code",
   "execution_count": 18,
   "id": "ce4ee949",
   "metadata": {},
   "outputs": [],
   "source": [
    "import soundfile as sf\n",
    "\n",
    "def get_length(file):\n",
    "    y, sr = sf.read(file)\n",
    "    return len(y) / sr"
   ]
  },
  {
   "cell_type": "code",
   "execution_count": 19,
   "id": "6b916f56",
   "metadata": {},
   "outputs": [],
   "source": [
    "import mp\n",
    "\n",
    "def loop(files):\n",
    "    files, _ = files\n",
    "    length = 0\n",
    "    for f in tqdm(files):\n",
    "        try:\n",
    "            length += get_length(f['audio_filename'])\n",
    "        except:\n",
    "            pass\n",
    "    return [length]"
   ]
  },
  {
   "cell_type": "code",
   "execution_count": 20,
   "id": "6dc37935",
   "metadata": {},
   "outputs": [
    {
     "name": "stderr",
     "output_type": "stream",
     "text": [
      " 13%|██████████▌                                                                        | 1792/14150 [00:05<00:36, 338.30it/s]Warning: Xing stream size off by more than 1%, fuzzy seeking may be even more fuzzy than by design!\n",
      " 15%|████████████▋                                                                      | 2167/14150 [00:04<00:25, 463.70it/s]Warning: Xing stream size off by more than 1%, fuzzy seeking may be even more fuzzy than by design!\n",
      "Warning: Xing stream size off by more than 1%, fuzzy seeking may be even more fuzzy than by design!\n",
      "Note: Illegal Audio-MPEG-Header 0x8001115e at offset 2640.\n",
      "Note: Trying to resync...\n",
      "Note: Skipped 48 bytes in input.\n",
      "[src/libmpg123/layer3.c:III_get_side_info():247] error: Blocktype == 0 and window-switching == 1 not allowed.\n",
      "[src/libmpg123/layer3.c:INT123_do_layer3():1746] error: bad frame - unable to get valid sideinfo\n",
      "[src/libmpg123/layer3.c:INT123_do_layer3():1801] error: dequantization failed!\n",
      "Note: Illegal Audio-MPEG-Header 0xa8032c34 at offset 8856.\n",
      "Note: Trying to resync...\n",
      "Note: Skipped 24 bytes in input.\n",
      "[src/libmpg123/layer3.c:INT123_do_layer3():1771] error: part2_3_length (704) too large for available bit count (664)\n",
      "Note: Illegal Audio-MPEG-Header 0x32bf38f7 at offset 53784.\n",
      "Note: Trying to resync...\n",
      "Note: Skipped 13 bytes in input.\n",
      "Warning: Xing stream size off by more than 1%, fuzzy seeking may be even more fuzzy than by design!\n",
      " 14%|███████████▌                                                                       | 1971/14150 [00:05<00:35, 344.76it/s]Warning: Xing stream size off by more than 1%, fuzzy seeking may be even more fuzzy than by design!\n",
      "100%|██████████████████████████████████████████████████████████████████████████████████| 14150/14150 [00:25<00:00, 546.92it/s]\n",
      "100%|██████████████████████████████████████████████████████████████████████████████████| 14150/14150 [00:26<00:00, 527.95it/s]\n",
      "100%|██████████████████████████████████████████████████████████████████████████████████| 14150/14150 [00:27<00:00, 516.46it/s]\n",
      "100%|██████████████████████████████████████████████████████████████████████████████████| 14150/14150 [00:27<00:00, 509.94it/s]\n",
      "100%|██████████████████████████████████████████████████████████████████████████████████| 14150/14150 [00:29<00:00, 477.90it/s]\n",
      "100%|██████████████████████████████████████████████████████████████████████████████████| 14150/14150 [00:30<00:00, 464.34it/s]\n",
      "100%|██████████████████████████████████████████████████████████████████████████████████| 14150/14150 [00:36<00:00, 383.71it/s]\n",
      "100%|██████████████████████████████████████████████████████████████████████████████████| 14150/14150 [00:38<00:00, 367.54it/s]\n",
      "100%|██████████████████████████████████████████████████████████████████████████████████| 14150/14150 [00:39<00:00, 359.99it/s]\n",
      "100%|██████████████████████████████████████████████████████████████████████████████████| 14150/14150 [00:39<00:00, 355.96it/s]\n"
     ]
    }
   ],
   "source": [
    "lengths = mp.multiprocessing(filtered_filtered, loop, cores = 10)"
   ]
  },
  {
   "cell_type": "code",
   "execution_count": 21,
   "id": "eacdc03a",
   "metadata": {},
   "outputs": [
    {
     "data": {
      "text/plain": [
       "292.81091461805266"
      ]
     },
     "execution_count": 21,
     "metadata": {},
     "output_type": "execute_result"
    }
   ],
   "source": [
    "import numpy as np\n",
    "\n",
    "np.sum(lengths) / 60 / 60"
   ]
  },
  {
   "cell_type": "code",
   "execution_count": 22,
   "id": "9cbe4d0a",
   "metadata": {},
   "outputs": [],
   "source": [
    "import pandas as pd\n",
    "\n",
    "pd.DataFrame(filtered_filtered).to_parquet('shafiqah_idayu-00000-of-00001.parquet')"
   ]
  },
  {
   "cell_type": "code",
   "execution_count": 23,
   "id": "18ee6653",
   "metadata": {
    "scrolled": true
   },
   "outputs": [
    {
     "data": {
      "application/vnd.jupyter.widget-view+json": {
       "model_id": "8ad3a90c5d4048919b46f11ed8e7c49d",
       "version_major": 2,
       "version_minor": 0
      },
      "text/plain": [
       "shafiqah_idayu-00000-of-00001.parquet:   0%|          | 0.00/16.8M [00:00<?, ?B/s]"
      ]
     },
     "metadata": {},
     "output_type": "display_data"
    },
    {
     "data": {
      "text/plain": [
       "CommitInfo(commit_url='https://huggingface.co/datasets/mesolitica/TTS/commit/d4f85d2b42ba6e0571f0612fc77cec3480b571c8', commit_message='Upload data/shafiqah_idayu-00000-of-00001.parquet with huggingface_hub', commit_description='', oid='d4f85d2b42ba6e0571f0612fc77cec3480b571c8', pr_url=None, repo_url=RepoUrl('https://huggingface.co/datasets/mesolitica/TTS', endpoint='https://huggingface.co', repo_type='dataset', repo_id='mesolitica/TTS'), pr_revision=None, pr_num=None)"
      ]
     },
     "execution_count": 23,
     "metadata": {},
     "output_type": "execute_result"
    }
   ],
   "source": [
    "from huggingface_hub import HfApi\n",
    "api = HfApi()\n",
    "\n",
    "api.upload_file(\n",
    "    path_or_fileobj=\"shafiqah_idayu-00000-of-00001.parquet\",\n",
    "    path_in_repo=\"data/shafiqah_idayu-00000-of-00001.parquet\",\n",
    "    repo_id=\"mesolitica/TTS\",\n",
    "    repo_type=\"dataset\",\n",
    ")"
   ]
  },
  {
   "cell_type": "code",
   "execution_count": 26,
   "id": "391372d4",
   "metadata": {},
   "outputs": [
    {
     "data": {
      "text/plain": [
       "{'shafiqah-idayu-chatbot-normalized-v2',\n",
       " 'shafiqah-idayu-chatbot-politics-normalized-v2',\n",
       " 'shafiqah-idayu-news-hiburan-normalized-v2',\n",
       " 'shafiqah-idayu-news-politics-normalized-v2'}"
      ]
     },
     "execution_count": 26,
     "metadata": {},
     "output_type": "execute_result"
    }
   ],
   "source": [
    "folders = set()\n",
    "for f in filtered_filtered:\n",
    "    folders.add(os.path.split(f['audio_filename'])[0])\n",
    "folders"
   ]
  },
  {
   "cell_type": "code",
   "execution_count": null,
   "id": "9f2d308e",
   "metadata": {},
   "outputs": [],
   "source": [
    "for f in folders:\n",
    "    cmd = f'zip -rq {f}.zip {f}'\n",
    "    os.system(cmd)"
   ]
  },
  {
   "cell_type": "code",
   "execution_count": null,
   "id": "afc07bbd",
   "metadata": {},
   "outputs": [],
   "source": [
    "from huggingface_hub import HfApi\n",
    "api = HfApi()"
   ]
  },
  {
   "cell_type": "code",
   "execution_count": null,
   "id": "6024ff11",
   "metadata": {},
   "outputs": [],
   "source": [
    "for f in glob('*v2.zip'):\n",
    "    print(f)\n",
    "    api.upload_file(\n",
    "        path_or_fileobj=f,\n",
    "        path_in_repo=f,\n",
    "        repo_id=\"mesolitica/TTS\",\n",
    "        repo_type=\"dataset\",\n",
    "    )"
   ]
  },
  {
   "cell_type": "code",
   "execution_count": null,
   "id": "da0e0b34",
   "metadata": {},
   "outputs": [],
   "source": []
  }
 ],
 "metadata": {
  "kernelspec": {
   "display_name": "python3.10",
   "language": "python",
   "name": "python3.10"
  },
  "language_info": {
   "codemirror_mode": {
    "name": "ipython",
    "version": 3
   },
   "file_extension": ".py",
   "mimetype": "text/x-python",
   "name": "python",
   "nbconvert_exporter": "python",
   "pygments_lexer": "ipython3",
   "version": "3.10.15"
  }
 },
 "nbformat": 4,
 "nbformat_minor": 5
}
