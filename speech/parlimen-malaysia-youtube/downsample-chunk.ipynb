{
 "cells": [
  {
   "cell_type": "code",
   "execution_count": 1,
   "id": "dbb880e2",
   "metadata": {},
   "outputs": [],
   "source": [
    "from glob import glob\n",
    "import os\n",
    "import mp\n",
    "from datasets import Audio"
   ]
  },
  {
   "cell_type": "code",
   "execution_count": 2,
   "id": "1142b54b",
   "metadata": {},
   "outputs": [],
   "source": [
    "!rm -rf parlimen-24k\n",
    "!mkdir parlimen-24k"
   ]
  },
  {
   "cell_type": "code",
   "execution_count": 3,
   "id": "c3b4ab35",
   "metadata": {},
   "outputs": [
    {
     "data": {
      "text/plain": [
       "2068"
      ]
     },
     "execution_count": 3,
     "metadata": {},
     "output_type": "execute_result"
    }
   ],
   "source": [
    "files = glob('parlimen/*.mp3')\n",
    "len(files)"
   ]
  },
  {
   "cell_type": "code",
   "execution_count": 4,
   "id": "9909eb45",
   "metadata": {},
   "outputs": [],
   "source": [
    "from tqdm import tqdm\n",
    "import subprocess\n",
    "\n",
    "def loop(files):\n",
    "    files, index = files\n",
    "    for i in tqdm(range(len(files))):\n",
    "        new_f = os.path.join('parlimen-24k', os.path.split(files[i])[1])\n",
    "        f = files[i]\n",
    "        cmd = ['ffmpeg', '-loglevel', 'error', '-y', '-i', f, '-ar', '24000', new_f]\n",
    "        subprocess.run(cmd)"
   ]
  },
  {
   "cell_type": "code",
   "execution_count": 5,
   "id": "c3285bb7",
   "metadata": {},
   "outputs": [],
   "source": [
    "# loop((files[:1], 0))"
   ]
  },
  {
   "cell_type": "code",
   "execution_count": 6,
   "id": "a8ae2499",
   "metadata": {},
   "outputs": [
    {
     "name": "stderr",
     "output_type": "stream",
     "text": [
      "100%|███████████████████████████████████████████████████████████████████████████████████| 206/206 [2:47:34<00:00, 48.81s/it]\n",
      "100%|█████████████████████████████████████████████████████████████████████████████████████████| 8/8 [07:12<00:00, 54.11s/it]\n",
      "100%|███████████████████████████████████████████████████████████████████████████████████| 206/206 [2:59:04<00:00, 52.16s/it]\n",
      "100%|███████████████████████████████████████████████████████████████████████████████████| 206/206 [2:59:54<00:00, 52.40s/it]\n",
      "100%|███████████████████████████████████████████████████████████████████████████████████| 206/206 [3:04:51<00:00, 53.84s/it]\n",
      "100%|███████████████████████████████████████████████████████████████████████████████████| 206/206 [3:06:27<00:00, 54.31s/it]\n",
      "100%|███████████████████████████████████████████████████████████████████████████████████| 206/206 [3:10:35<00:00, 55.51s/it]\n",
      "100%|███████████████████████████████████████████████████████████████████████████████████| 206/206 [3:10:38<00:00, 55.53s/it]\n",
      "100%|███████████████████████████████████████████████████████████████████████████████████| 206/206 [3:15:55<00:00, 57.07s/it]\n",
      "100%|███████████████████████████████████████████████████████████████████████████████████| 206/206 [3:23:35<00:00, 59.30s/it]\n",
      "100%|███████████████████████████████████████████████████████████████████████████████████| 206/206 [3:37:12<00:00, 63.27s/it]\n"
     ]
    },
    {
     "ename": "TypeError",
     "evalue": "'NoneType' object is not iterable",
     "output_type": "error",
     "traceback": [
      "\u001b[0;31m---------------------------------------------------------------------------\u001b[0m",
      "\u001b[0;31mTypeError\u001b[0m                                 Traceback (most recent call last)",
      "Cell \u001b[0;32mIn[6], line 1\u001b[0m\n\u001b[0;32m----> 1\u001b[0m \u001b[43mmp\u001b[49m\u001b[38;5;241;43m.\u001b[39;49m\u001b[43mmultiprocessing\u001b[49m\u001b[43m(\u001b[49m\u001b[43mfiles\u001b[49m\u001b[43m,\u001b[49m\u001b[43m \u001b[49m\u001b[43mloop\u001b[49m\u001b[43m,\u001b[49m\u001b[43m \u001b[49m\u001b[43mcores\u001b[49m\u001b[43m \u001b[49m\u001b[38;5;241;43m=\u001b[39;49m\u001b[43m \u001b[49m\u001b[38;5;241;43m10\u001b[39;49m\u001b[43m)\u001b[49m\n",
      "File \u001b[0;32m~/ssd3/youtube/mp.py:18\u001b[0m, in \u001b[0;36mmultiprocessing\u001b[0;34m(strings, function, cores, returned)\u001b[0m\n\u001b[1;32m     15\u001b[0m pool\u001b[38;5;241m.\u001b[39mjoin()\n\u001b[1;32m     17\u001b[0m \u001b[38;5;28;01mif\u001b[39;00m returned:\n\u001b[0;32m---> 18\u001b[0m     \u001b[38;5;28;01mreturn\u001b[39;00m \u001b[38;5;28;43mlist\u001b[39;49m\u001b[43m(\u001b[49m\u001b[43mitertools\u001b[49m\u001b[38;5;241;43m.\u001b[39;49m\u001b[43mchain\u001b[49m\u001b[43m(\u001b[49m\u001b[38;5;241;43m*\u001b[39;49m\u001b[43mpooled\u001b[49m\u001b[43m)\u001b[49m\u001b[43m)\u001b[49m\n",
      "\u001b[0;31mTypeError\u001b[0m: 'NoneType' object is not iterable"
     ]
    }
   ],
   "source": [
    "mp.multiprocessing(files, loop, cores = 10)"
   ]
  },
  {
   "cell_type": "code",
   "execution_count": 7,
   "id": "40567ae4",
   "metadata": {},
   "outputs": [
    {
     "name": "stdout",
     "output_type": "stream",
     "text": [
      "107G\tparlimen-24k\r\n"
     ]
    }
   ],
   "source": [
    "!du -hs parlimen-24k"
   ]
  },
  {
   "cell_type": "code",
   "execution_count": 8,
   "id": "17d3977b",
   "metadata": {},
   "outputs": [
    {
     "name": "stdout",
     "output_type": "stream",
     "text": [
      "214G\tparlimen\r\n"
     ]
    }
   ],
   "source": [
    "!du -hs parlimen"
   ]
  },
  {
   "cell_type": "code",
   "execution_count": 9,
   "id": "87ccfb00",
   "metadata": {},
   "outputs": [],
   "source": [
    "!rm -rf parlimen"
   ]
  },
  {
   "cell_type": "code",
   "execution_count": 11,
   "id": "edba0d26",
   "metadata": {},
   "outputs": [
    {
     "data": {
      "text/plain": [
       "2068"
      ]
     },
     "execution_count": 11,
     "metadata": {},
     "output_type": "execute_result"
    }
   ],
   "source": [
    "files = sorted(glob('parlimen-24k/*.mp3'))\n",
    "len(files)"
   ]
  },
  {
   "cell_type": "code",
   "execution_count": 28,
   "id": "558a9291",
   "metadata": {},
   "outputs": [],
   "source": [
    "!rm -rf parlimen-24k-chunk\n",
    "!mkdir parlimen-24k-chunk"
   ]
  },
  {
   "cell_type": "code",
   "execution_count": 29,
   "id": "b44eb682",
   "metadata": {},
   "outputs": [],
   "source": [
    "import mp\n",
    "from tqdm import tqdm\n",
    "\n",
    "def loop(files):\n",
    "    files, _ = files\n",
    "    for f in tqdm(files):\n",
    "        f.replace('.mp3', '').replace('/', '-')\n",
    "        new_f = os.path.join('parlimen-24k-chunk', f.replace('.mp3', '').replace('/', '-'))\n",
    "        # p = f'ffmpeg -i {f} -f segment -segment_time 30 -c copy -loglevel quiet {new_f}_%03d.mp3'\n",
    "        cmd = [\n",
    "            'ffmpeg',\n",
    "            '-i',\n",
    "            f,\n",
    "            '-f',\n",
    "            'segment',\n",
    "            '-segment_time',\n",
    "            '7200',\n",
    "            '-c',\n",
    "            'copy',\n",
    "            '-loglevel',\n",
    "            'quiet',\n",
    "            f'{new_f}_%03d.mp3'\n",
    "        ]\n",
    "        subprocess.run(cmd)"
   ]
  },
  {
   "cell_type": "code",
   "execution_count": 30,
   "id": "ba75e27e",
   "metadata": {},
   "outputs": [
    {
     "name": "stderr",
     "output_type": "stream",
     "text": [
      "100%|█████████████████████████████████████████████████████████████████████████████████████████| 2/2 [00:00<00:00,  5.23it/s]\n"
     ]
    }
   ],
   "source": [
    "loop((files[:2], 0))"
   ]
  },
  {
   "cell_type": "code",
   "execution_count": null,
   "id": "79efdf94",
   "metadata": {},
   "outputs": [
    {
     "name": "stderr",
     "output_type": "stream",
     "text": [
      "100%|█████████████████████████████████████████████████████████████████████████████████████| 413/413 [04:08<00:00,  1.66it/s]\n",
      "100%|█████████████████████████████████████████████████████████████████████████████████████████| 3/3 [00:00<00:00,  7.08it/s]\n",
      "100%|█████████████████████████████████████████████████████████████████████████████████████| 413/413 [08:30<00:00,  1.24s/it]\n",
      " 66%|███████████████████████████████████████████████████████▊                             | 271/413 [14:11<35:52, 15.16s/it]"
     ]
    }
   ],
   "source": [
    "mp.multiprocessing(files, loop, cores = 5, returned = False)"
   ]
  },
  {
   "cell_type": "code",
   "execution_count": null,
   "id": "0621319b",
   "metadata": {},
   "outputs": [],
   "source": []
  }
 ],
 "metadata": {
  "kernelspec": {
   "display_name": "python3.10",
   "language": "python",
   "name": "python3.10"
  },
  "language_info": {
   "codemirror_mode": {
    "name": "ipython",
    "version": 3
   },
   "file_extension": ".py",
   "mimetype": "text/x-python",
   "name": "python",
   "nbconvert_exporter": "python",
   "pygments_lexer": "ipython3",
   "version": "3.10.15"
  }
 },
 "nbformat": 4,
 "nbformat_minor": 5
}
