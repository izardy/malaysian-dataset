{
 "cells": [
  {
   "cell_type": "code",
   "execution_count": 4,
   "id": "449715ac",
   "metadata": {},
   "outputs": [],
   "source": [
    "# !wget https://www.openslr.org/resources/93/data_aishell3.tgz\n",
    "# !tar -xf data_aishell3.tgz"
   ]
  },
  {
   "cell_type": "code",
   "execution_count": 5,
   "id": "3c599510",
   "metadata": {},
   "outputs": [],
   "source": [
    "# !wget https://www.openslr.org/resources/123/MagicData-RAMC.tar.gz\n",
    "# !tar -zxf MagicData-RAMC.tar.gz"
   ]
  },
  {
   "cell_type": "code",
   "execution_count": 6,
   "id": "fab7fff9",
   "metadata": {},
   "outputs": [],
   "source": [
    "# !wget https://www.openslr.org/resources/68/train_set.tar.gz\n",
    "# !tar -xf train_set.tar.gz"
   ]
  },
  {
   "cell_type": "code",
   "execution_count": 9,
   "id": "dce7589d",
   "metadata": {},
   "outputs": [],
   "source": [
    "# !wget https://www.openslr.org/resources/111/train_M.tar.gz\n",
    "# !tar -zxf train_M.tar.gz"
   ]
  },
  {
   "cell_type": "code",
   "execution_count": 12,
   "id": "6e5c24ad",
   "metadata": {},
   "outputs": [],
   "source": [
    "# !wget https://huggingface.co/datasets/malaysia-ai/mirror-AliMeeting/resolve/main/Train_Ali_near.tar.gz\n",
    "# !tar -zxf Train_Ali_near.tar.gz"
   ]
  }
 ],
 "metadata": {
  "kernelspec": {
   "display_name": "Python 3 (ipykernel)",
   "language": "python",
   "name": "python3"
  },
  "language_info": {
   "codemirror_mode": {
    "name": "ipython",
    "version": 3
   },
   "file_extension": ".py",
   "mimetype": "text/x-python",
   "name": "python",
   "nbconvert_exporter": "python",
   "pygments_lexer": "ipython3",
   "version": "3.10.12"
  }
 },
 "nbformat": 4,
 "nbformat_minor": 5
}
