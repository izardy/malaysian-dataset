{
 "cells": [
  {
   "cell_type": "code",
   "execution_count": null,
   "id": "965ccff0",
   "metadata": {},
   "outputs": [],
   "source": [
    "import json\n",
    "import yt_dlp as youtube_dl\n",
    "from tqdm import tqdm\n",
    "import os"
   ]
  },
  {
   "cell_type": "code",
   "execution_count": null,
   "id": "d8392647",
   "metadata": {},
   "outputs": [],
   "source": [
    "with open('filtered-html.json') as fopen:\n",
    "    urls = json.load(fopen)\n",
    "    \n",
    "len(urls)"
   ]
  },
  {
   "cell_type": "code",
   "execution_count": null,
   "id": "aca41957",
   "metadata": {},
   "outputs": [],
   "source": [
    "ydl_opts = {\n",
    "    'format': 'bestaudio/best',\n",
    "    'postprocessors': [{\n",
    "        'key': 'FFmpegExtractAudio',\n",
    "        'preferredcodec': 'mp3',\n",
    "        'preferredquality': '128',\n",
    "    }],\n",
    "    'no-check-certificate': True,\n",
    "    'quiet': True,\n",
    "}\n",
    "ydl = youtube_dl.YoutubeDL(ydl_opts)"
   ]
  },
  {
   "cell_type": "code",
   "execution_count": null,
   "id": "f0cd9344",
   "metadata": {},
   "outputs": [],
   "source": [
    "# !sudo apt install ffmpeg -y"
   ]
  },
  {
   "cell_type": "code",
   "execution_count": null,
   "id": "b67b4916",
   "metadata": {},
   "outputs": [],
   "source": [
    "# !wget https://gist.githubusercontent.com/huseinzol05/98974ae8c6c7a65d4bc0af9f5003786a/raw/2e06e71ef7349a57bc58cc9913ae6bae1f9f8447/mp.py"
   ]
  },
  {
   "cell_type": "code",
   "execution_count": null,
   "id": "c09b207d",
   "metadata": {},
   "outputs": [],
   "source": [
    "import mp"
   ]
  },
  {
   "cell_type": "code",
   "execution_count": null,
   "id": "434d464b",
   "metadata": {},
   "outputs": [],
   "source": [
    "!rm *.mp3 *.webm"
   ]
  },
  {
   "cell_type": "code",
   "execution_count": null,
   "id": "e1c0cfe8",
   "metadata": {},
   "outputs": [],
   "source": [
    "def loop(urls):\n",
    "    urls, _ = urls\n",
    "    ydl = youtube_dl.YoutubeDL(ydl_opts)\n",
    "    for youtube_url in tqdm(urls):\n",
    "        try:\n",
    "            try:\n",
    "                info = ydl.extract_info(youtube_url, download=False)\n",
    "                filename = ydl.prepare_filename(info).replace(\n",
    "                    '.m4a', '.mp3').replace('.webm', '.mp3')\n",
    "                new_filename = filename\n",
    "                if os.path.exists(filename):\n",
    "                    continue\n",
    "            except:\n",
    "                pass\n",
    "            ydl.download([youtube_url])\n",
    "\n",
    "        except Exception as e:\n",
    "            print(e)"
   ]
  },
  {
   "cell_type": "code",
   "execution_count": null,
   "id": "309f2098",
   "metadata": {},
   "outputs": [],
   "source": [
    "mp.multiprocessing(urls, loop, cores = 5, returned = False)"
   ]
  },
  {
   "cell_type": "code",
   "execution_count": null,
   "id": "75c15a47",
   "metadata": {},
   "outputs": [],
   "source": []
  }
 ],
 "metadata": {
  "kernelspec": {
   "display_name": "Python 3 (ipykernel)",
   "language": "python",
   "name": "python3"
  },
  "language_info": {
   "codemirror_mode": {
    "name": "ipython",
    "version": 3
   },
   "file_extension": ".py",
   "mimetype": "text/x-python",
   "name": "python",
   "nbconvert_exporter": "python",
   "pygments_lexer": "ipython3",
   "version": "3.10.12"
  }
 },
 "nbformat": 4,
 "nbformat_minor": 5
}
