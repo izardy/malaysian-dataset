{
 "cells": [
  {
   "cell_type": "code",
   "execution_count": 1,
   "id": "f3dd22d3",
   "metadata": {},
   "outputs": [],
   "source": [
    "from glob import glob\n",
    "import os\n",
    "import mp\n",
    "from datasets import Audio\n",
    "\n",
    "sr = 16000\n",
    "audio = Audio(sampling_rate=sr)"
   ]
  },
  {
   "cell_type": "code",
   "execution_count": null,
   "id": "1cf21c78",
   "metadata": {},
   "outputs": [],
   "source": [
    "import soundfile as sf\n",
    "\n",
    "sf.write"
   ]
  },
  {
   "cell_type": "code",
   "execution_count": 10,
   "id": "cdb3d113",
   "metadata": {},
   "outputs": [],
   "source": [
    "!rm -rf mp3-16k\n",
    "!mkdir mp3-16k"
   ]
  },
  {
   "cell_type": "code",
   "execution_count": 11,
   "id": "eef37ac2",
   "metadata": {
    "scrolled": true
   },
   "outputs": [
    {
     "data": {
      "text/plain": [
       "3876"
      ]
     },
     "execution_count": 11,
     "metadata": {},
     "output_type": "execute_result"
    }
   ],
   "source": [
    "files = glob('audio/*.mp3')\n",
    "len(files)"
   ]
  },
  {
   "cell_type": "code",
   "execution_count": 14,
   "id": "db071512",
   "metadata": {},
   "outputs": [],
   "source": [
    "from tqdm import tqdm\n",
    "import subprocess\n",
    "\n",
    "def loop(files):\n",
    "    files, index = files\n",
    "    for i in tqdm(range(len(files))):\n",
    "        # y = audio.decode_example(audio.encode_example(files[i]))['array']\n",
    "        new_f = os.path.join('mp3-16k', f'{index}-{i}.mp3')\n",
    "        if os.path.exists(new_f):\n",
    "            continue\n",
    "            \n",
    "        f = files[i]\n",
    "        \n",
    "        cmd = f'ffmpeg -loglevel error -i \"{f}\" -ar 16000 {new_f}'\n",
    "        subprocess.run(cmd, shell=True)\n",
    "#         print(cmd)\n",
    "#         os.system(cmd)"
   ]
  },
  {
   "cell_type": "code",
   "execution_count": 15,
   "id": "8215df95",
   "metadata": {},
   "outputs": [
    {
     "name": "stderr",
     "output_type": "stream",
     "text": [
      "100%|█████████████████████████████████████████████████████████████████████████████████| 1/1 [00:00<00:00, 4529.49it/s]\n"
     ]
    }
   ],
   "source": [
    "loop((files[:1], 0))"
   ]
  },
  {
   "cell_type": "code",
   "execution_count": 17,
   "id": "dfca4309",
   "metadata": {},
   "outputs": [],
   "source": [
    "mp.multiprocessing(files, loop, cores = 15)"
   ]
  },
  {
   "cell_type": "code",
   "execution_count": 18,
   "id": "f8c91979",
   "metadata": {},
   "outputs": [
    {
     "name": "stdout",
     "output_type": "stream",
     "text": [
      "73G\tmp3-16k\r\n"
     ]
    }
   ],
   "source": [
    "!du -hs mp3-16k"
   ]
  },
  {
   "cell_type": "code",
   "execution_count": 19,
   "id": "84edcbe3",
   "metadata": {},
   "outputs": [],
   "source": [
    "!zip -q -r -s 10000M mp3-16k.zip mp3-16k"
   ]
  },
  {
   "cell_type": "code",
   "execution_count": 20,
   "id": "d5f66143",
   "metadata": {},
   "outputs": [],
   "source": [
    "from huggingface_hub import HfApi\n",
    "api = HfApi()"
   ]
  },
  {
   "cell_type": "code",
   "execution_count": 23,
   "id": "7ed994c4",
   "metadata": {},
   "outputs": [
    {
     "name": "stdout",
     "output_type": "stream",
     "text": [
      "mp3-16k.z03\n"
     ]
    },
    {
     "data": {
      "application/vnd.jupyter.widget-view+json": {
       "model_id": "e4197a8f2708423eb0ffa747756c0e24",
       "version_major": 2,
       "version_minor": 0
      },
      "text/plain": [
       "mp3-16k.z03:   0%|          | 0.00/10.5G [00:00<?, ?B/s]"
      ]
     },
     "metadata": {},
     "output_type": "display_data"
    },
    {
     "name": "stdout",
     "output_type": "stream",
     "text": [
      "mp3-16k.zip\n"
     ]
    },
    {
     "data": {
      "application/vnd.jupyter.widget-view+json": {
       "model_id": "190fd11c46894594b07d4889ab9b9cf7",
       "version_major": 2,
       "version_minor": 0
      },
      "text/plain": [
       "mp3-16k.zip:   0%|          | 0.00/9.11G [00:00<?, ?B/s]"
      ]
     },
     "metadata": {},
     "output_type": "display_data"
    },
    {
     "name": "stdout",
     "output_type": "stream",
     "text": [
      "mp3-16k.z02\n"
     ]
    },
    {
     "data": {
      "application/vnd.jupyter.widget-view+json": {
       "model_id": "d1dbbfbf35674821869f1743c76b72c0",
       "version_major": 2,
       "version_minor": 0
      },
      "text/plain": [
       "mp3-16k.z02:   0%|          | 0.00/10.5G [00:00<?, ?B/s]"
      ]
     },
     "metadata": {},
     "output_type": "display_data"
    },
    {
     "name": "stdout",
     "output_type": "stream",
     "text": [
      "mp3-16k.z01\n"
     ]
    },
    {
     "data": {
      "application/vnd.jupyter.widget-view+json": {
       "model_id": "4f08084b7e1a41cfbd8fcd1ec7d18fdb",
       "version_major": 2,
       "version_minor": 0
      },
      "text/plain": [
       "mp3-16k.z01:   0%|          | 0.00/10.5G [00:00<?, ?B/s]"
      ]
     },
     "metadata": {},
     "output_type": "display_data"
    },
    {
     "name": "stdout",
     "output_type": "stream",
     "text": [
      "mp3-16k.z05\n"
     ]
    },
    {
     "data": {
      "application/vnd.jupyter.widget-view+json": {
       "model_id": "098719743508477fb899f3d7c508b7e2",
       "version_major": 2,
       "version_minor": 0
      },
      "text/plain": [
       "mp3-16k.z05:   0%|          | 0.00/10.5G [00:00<?, ?B/s]"
      ]
     },
     "metadata": {},
     "output_type": "display_data"
    },
    {
     "name": "stdout",
     "output_type": "stream",
     "text": [
      "mp3-16k.z06\n"
     ]
    },
    {
     "data": {
      "application/vnd.jupyter.widget-view+json": {
       "model_id": "030c217dd2ea4f7d8022c82a958081c8",
       "version_major": 2,
       "version_minor": 0
      },
      "text/plain": [
       "mp3-16k.z06:   0%|          | 0.00/10.5G [00:00<?, ?B/s]"
      ]
     },
     "metadata": {},
     "output_type": "display_data"
    },
    {
     "name": "stdout",
     "output_type": "stream",
     "text": [
      "mp3-16k.z04\n"
     ]
    },
    {
     "data": {
      "application/vnd.jupyter.widget-view+json": {
       "model_id": "9b0f6018873d4a03871872d992e03878",
       "version_major": 2,
       "version_minor": 0
      },
      "text/plain": [
       "mp3-16k.z04:   0%|          | 0.00/10.5G [00:00<?, ?B/s]"
      ]
     },
     "metadata": {},
     "output_type": "display_data"
    }
   ],
   "source": [
    "files = glob('mp3-16k.z*')\n",
    "for f in files:\n",
    "    print(f)\n",
    "    api.upload_file(\n",
    "        path_or_fileobj=f,\n",
    "        path_in_repo=f,\n",
    "        repo_id='malaysia-ai/crawl-youtube-indonesian',\n",
    "        repo_type='dataset',\n",
    "    )"
   ]
  },
  {
   "cell_type": "code",
   "execution_count": null,
   "id": "ce6566af",
   "metadata": {},
   "outputs": [],
   "source": []
  }
 ],
 "metadata": {
  "kernelspec": {
   "display_name": "Python 3 (ipykernel)",
   "language": "python",
   "name": "python3"
  },
  "language_info": {
   "codemirror_mode": {
    "name": "ipython",
    "version": 3
   },
   "file_extension": ".py",
   "mimetype": "text/x-python",
   "name": "python",
   "nbconvert_exporter": "python",
   "pygments_lexer": "ipython3",
   "version": "3.8.10"
  }
 },
 "nbformat": 4,
 "nbformat_minor": 5
}
