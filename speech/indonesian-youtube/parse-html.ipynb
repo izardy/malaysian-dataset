{
 "cells": [
  {
   "cell_type": "code",
   "execution_count": 1,
   "id": "8f2acbc3",
   "metadata": {},
   "outputs": [],
   "source": [
    "from bs4 import BeautifulSoup\n",
    "from glob import glob"
   ]
  },
  {
   "cell_type": "code",
   "execution_count": 2,
   "id": "b753ea0a",
   "metadata": {},
   "outputs": [],
   "source": [
    "files = glob('*.html')"
   ]
  },
  {
   "cell_type": "code",
   "execution_count": 3,
   "id": "03d99888",
   "metadata": {},
   "outputs": [],
   "source": [
    "videos = []\n",
    "for f in files:\n",
    "    with open(f) as fopen:\n",
    "        htm = fopen.read()\n",
    "\n",
    "    bs = BeautifulSoup(htm)\n",
    "    videos.extend(bs.find_all('a'))"
   ]
  },
  {
   "cell_type": "code",
   "execution_count": 4,
   "id": "a387d345",
   "metadata": {},
   "outputs": [],
   "source": [
    "videos = set([a_.get('href') for a_ in videos if '/watch?v=' in a_.get('href', '')])"
   ]
  },
  {
   "cell_type": "code",
   "execution_count": 5,
   "id": "b855dd3d",
   "metadata": {},
   "outputs": [
    {
     "data": {
      "text/plain": [
       "4207"
      ]
     },
     "execution_count": 5,
     "metadata": {},
     "output_type": "execute_result"
    }
   ],
   "source": [
    "len(videos)"
   ]
  },
  {
   "cell_type": "code",
   "execution_count": 7,
   "id": "8eb08399",
   "metadata": {},
   "outputs": [],
   "source": [
    "import json\n",
    "\n",
    "with open('filtered-html-indon.json', 'w') as fopen:\n",
    "    json.dump(list(videos), fopen)"
   ]
  }
 ],
 "metadata": {
  "kernelspec": {
   "display_name": "Python 3 (ipykernel)",
   "language": "python",
   "name": "python3"
  },
  "language_info": {
   "codemirror_mode": {
    "name": "ipython",
    "version": 3
   },
   "file_extension": ".py",
   "mimetype": "text/x-python",
   "name": "python",
   "nbconvert_exporter": "python",
   "pygments_lexer": "ipython3",
   "version": "3.8.10"
  }
 },
 "nbformat": 4,
 "nbformat_minor": 5
}
