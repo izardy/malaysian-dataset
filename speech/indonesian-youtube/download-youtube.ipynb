{
 "cells": [
  {
   "cell_type": "code",
   "execution_count": 1,
   "id": "965ccff0",
   "metadata": {},
   "outputs": [],
   "source": [
    "import json\n",
    "import yt_dlp as youtube_dl\n",
    "from tqdm import tqdm\n",
    "import os"
   ]
  },
  {
   "cell_type": "code",
   "execution_count": 2,
   "id": "d8392647",
   "metadata": {},
   "outputs": [
    {
     "data": {
      "text/plain": [
       "4207"
      ]
     },
     "execution_count": 2,
     "metadata": {},
     "output_type": "execute_result"
    }
   ],
   "source": [
    "with open('filtered-html-indon.json') as fopen:\n",
    "    urls = json.load(fopen)\n",
    "    \n",
    "len(urls)"
   ]
  },
  {
   "cell_type": "code",
   "execution_count": 12,
   "id": "aca41957",
   "metadata": {},
   "outputs": [],
   "source": [
    "ydl_opts = {\n",
    "    'format': 'bestaudio/best',\n",
    "    'postprocessors': [{\n",
    "        'key': 'FFmpegExtractAudio',\n",
    "        'preferredcodec': 'mp3',\n",
    "        'preferredquality': '128',\n",
    "    }],\n",
    "    'no-check-certificate': True,\n",
    "    'quiet': True,\n",
    "}\n",
    "ydl = youtube_dl.YoutubeDL(ydl_opts)"
   ]
  },
  {
   "cell_type": "code",
   "execution_count": 4,
   "id": "f0cd9344",
   "metadata": {},
   "outputs": [],
   "source": [
    "# !sudo apt install ffmpeg -y"
   ]
  },
  {
   "cell_type": "code",
   "execution_count": 5,
   "id": "b67b4916",
   "metadata": {},
   "outputs": [],
   "source": [
    "# !wget https://gist.githubusercontent.com/huseinzol05/98974ae8c6c7a65d4bc0af9f5003786a/raw/2e06e71ef7349a57bc58cc9913ae6bae1f9f8447/mp.py"
   ]
  },
  {
   "cell_type": "code",
   "execution_count": 6,
   "id": "c09b207d",
   "metadata": {},
   "outputs": [],
   "source": [
    "import mp"
   ]
  },
  {
   "cell_type": "code",
   "execution_count": 7,
   "id": "434d464b",
   "metadata": {},
   "outputs": [
    {
     "name": "stdout",
     "output_type": "stream",
     "text": [
      "rm: cannot remove '*.mp3': No such file or directory\r\n",
      "rm: cannot remove '*.webm': No such file or directory\r\n"
     ]
    }
   ],
   "source": [
    "!rm *.mp3 *.webm"
   ]
  },
  {
   "cell_type": "code",
   "execution_count": 17,
   "id": "e1c0cfe8",
   "metadata": {},
   "outputs": [],
   "source": [
    "def loop(urls):\n",
    "    urls, _ = urls\n",
    "    ydl = youtube_dl.YoutubeDL(ydl_opts)\n",
    "    for youtube_url in tqdm(urls):\n",
    "        try:\n",
    "            try:\n",
    "                info = ydl.extract_info(youtube_url, download=False)\n",
    "                filename = ydl.prepare_filename(info).replace(\n",
    "                    '.m4a', '.mp3').replace('.webm', '.mp3')\n",
    "                new_filename = filename\n",
    "                if os.path.exists(filename):\n",
    "                    continue\n",
    "            except:\n",
    "                pass\n",
    "            ydl.download([youtube_url])\n",
    "\n",
    "        except Exception as e:\n",
    "            print(e)"
   ]
  },
  {
   "cell_type": "code",
   "execution_count": 18,
   "id": "646d33fa",
   "metadata": {},
   "outputs": [
    {
     "name": "stderr",
     "output_type": "stream",
     "text": [
      "  0%|                                                                                           | 0/1 [00:00<?, ?it/s]WARNING: [youtube] YouTube said: ERROR - Precondition check failed.\n",
      "WARNING: [youtube] HTTP Error 400: Bad Request. Retrying (1/3)...\n",
      "WARNING: [youtube] YouTube said: ERROR - Precondition check failed.\n",
      "WARNING: [youtube] HTTP Error 400: Bad Request. Retrying (2/3)...\n",
      "WARNING: [youtube] YouTube said: ERROR - Precondition check failed.\n",
      "WARNING: [youtube] HTTP Error 400: Bad Request. Retrying (3/3)...\n",
      "WARNING: [youtube] YouTube said: ERROR - Precondition check failed.\n",
      "WARNING: [youtube] Unable to download API page: HTTP Error 400: Bad Request (caused by <HTTPError 400: Bad Request>); please report this issue on  https://github.com/yt-dlp/yt-dlp/issues?q= , filling out the appropriate issue template. Confirm you are on the latest version using  yt-dlp -U\n",
      "WARNING: [youtube] YouTube said: ERROR - Precondition check failed.\n",
      "WARNING: [youtube] HTTP Error 400: Bad Request. Retrying (1/3)...\n",
      "WARNING: [youtube] YouTube said: ERROR - Precondition check failed.\n",
      "WARNING: [youtube] HTTP Error 400: Bad Request. Retrying (2/3)...\n",
      "WARNING: [youtube] YouTube said: ERROR - Precondition check failed.\n",
      "WARNING: [youtube] HTTP Error 400: Bad Request. Retrying (3/3)...\n",
      "WARNING: [youtube] YouTube said: ERROR - Precondition check failed.\n",
      "WARNING: [youtube] Unable to download API page: HTTP Error 400: Bad Request (caused by <HTTPError 400: Bad Request>); please report this issue on  https://github.com/yt-dlp/yt-dlp/issues?q= , filling out the appropriate issue template. Confirm you are on the latest version using  yt-dlp -U\n"
     ]
    },
    {
     "name": "stdout",
     "output_type": "stream",
     "text": [
      "                                                           \r"
     ]
    },
    {
     "name": "stderr",
     "output_type": "stream",
     "text": [
      "100%|███████████████████████████████████████████████████████████████████████████████████| 1/1 [00:42<00:00, 42.80s/it]\n"
     ]
    }
   ],
   "source": [
    "loop((urls[:1], 0))"
   ]
  },
  {
   "cell_type": "code",
   "execution_count": 25,
   "id": "309f2098",
   "metadata": {},
   "outputs": [],
   "source": [
    "mp.multiprocessing(urls, loop, cores = 10, returned = False)"
   ]
  },
  {
   "cell_type": "code",
   "execution_count": 29,
   "id": "06959aea",
   "metadata": {},
   "outputs": [],
   "source": [
    "!mkdir audio\n",
    "!mv *.mp3 audio"
   ]
  },
  {
   "cell_type": "code",
   "execution_count": 30,
   "id": "333bf2a1",
   "metadata": {},
   "outputs": [
    {
     "name": "stdout",
     "output_type": "stream",
     "text": [
      "194G\taudio\r\n"
     ]
    }
   ],
   "source": [
    "!du -hs audio"
   ]
  },
  {
   "cell_type": "code",
   "execution_count": null,
   "id": "25d65cd4",
   "metadata": {},
   "outputs": [],
   "source": []
  }
 ],
 "metadata": {
  "kernelspec": {
   "display_name": "Python 3 (ipykernel)",
   "language": "python",
   "name": "python3"
  },
  "language_info": {
   "codemirror_mode": {
    "name": "ipython",
    "version": 3
   },
   "file_extension": ".py",
   "mimetype": "text/x-python",
   "name": "python",
   "nbconvert_exporter": "python",
   "pygments_lexer": "ipython3",
   "version": "3.8.10"
  }
 },
 "nbformat": 4,
 "nbformat_minor": 5
}
