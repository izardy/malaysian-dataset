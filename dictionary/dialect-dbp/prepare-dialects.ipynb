{
 "cells": [
  {
   "cell_type": "code",
   "execution_count": 1,
   "id": "ebf6058d",
   "metadata": {},
   "outputs": [],
   "source": [
    "# !unzip -o dialects-compressed.zip"
   ]
  },
  {
   "cell_type": "code",
   "execution_count": 2,
   "id": "ca28fe90",
   "metadata": {},
   "outputs": [],
   "source": [
    "# from huggingface_hub import HfApi\n",
    "# api = HfApi()\n",
    "# api.upload_file(\n",
    "#     path_or_fileobj=\"dialects-compressed.zip\",\n",
    "#     path_in_repo=\"dialects-compressed.zip\",\n",
    "#     repo_id=\"malaysia-ai/DBP-Dialect\",\n",
    "#     repo_type=\"dataset\",\n",
    "# )"
   ]
  },
  {
   "cell_type": "code",
   "execution_count": 3,
   "id": "83940b52",
   "metadata": {},
   "outputs": [],
   "source": [
    "from glob import glob\n",
    "import json\n",
    "import pandas as pd\n",
    "from tqdm import tqdm\n",
    "from bs4 import BeautifulSoup\n",
    "\n",
    "\n",
    "pd.set_option('display.max_rows', None)"
   ]
  },
  {
   "cell_type": "code",
   "execution_count": 4,
   "id": "aa050b03",
   "metadata": {
    "scrolled": true
   },
   "outputs": [
    {
     "name": "stderr",
     "output_type": "stream",
     "text": [
      "100%|███████████████████████████████████████████| 81/81 [00:01<00:00, 80.48it/s]\n"
     ]
    },
    {
     "data": {
      "text/plain": [
       "964"
      ]
     },
     "execution_count": 4,
     "metadata": {},
     "output_type": "execute_result"
    }
   ],
   "source": [
    "files = glob('kedah/*.html') + glob('kedah/*.htm')\n",
    "\n",
    "res = []\n",
    "\n",
    "for f in tqdm(files):\n",
    "    with open(f) as fopen:\n",
    "        j = fopen.read()\n",
    "    s = BeautifulSoup(j)\n",
    "    table_rows = s.find_all('tbody')[5].find_all('tr')\n",
    "    for tr in table_rows:\n",
    "        td = tr.find_all('td')\n",
    "        row = [tr.text.strip() for tr in td if tr.text.strip()]\n",
    "        if row:\n",
    "            res.append(row)\n",
    "            \n",
    "len(res)"
   ]
  },
  {
   "cell_type": "code",
   "execution_count": 5,
   "id": "7e532958",
   "metadata": {},
   "outputs": [
    {
     "data": {
      "text/plain": [
       "(799, 7)"
      ]
     },
     "execution_count": 5,
     "metadata": {},
     "output_type": "execute_result"
    }
   ],
   "source": [
    "df = pd.DataFrame(res)\n",
    "filtered_df = df[~df.iloc[:, 2].astype(str).str.contains(r'\\d')].iloc[:, :7]\n",
    "filtered_df.shape"
   ]
  },
  {
   "cell_type": "code",
   "execution_count": 6,
   "id": "2c705ffd",
   "metadata": {},
   "outputs": [],
   "source": [
    "filtered_df.to_parquet('kedah.parquet')"
   ]
  },
  {
   "cell_type": "code",
   "execution_count": 7,
   "id": "796aade6",
   "metadata": {},
   "outputs": [
    {
     "name": "stderr",
     "output_type": "stream",
     "text": [
      "No files have been modified since last commit. Skipping to prevent empty commit.\n"
     ]
    },
    {
     "data": {
      "text/plain": [
       "CommitInfo(commit_url='https://huggingface.co/datasets/malaysia-ai/DBP-Dialect/commit/a83af2dc08bcca8a716a8810ae3a878feb969f73', commit_message='Upload data/kedah-00000-of-00001.parquet with huggingface_hub', commit_description='', oid='a83af2dc08bcca8a716a8810ae3a878feb969f73', pr_url=None, repo_url=RepoUrl('https://huggingface.co/datasets/malaysia-ai/DBP-Dialect', endpoint='https://huggingface.co', repo_type='dataset', repo_id='malaysia-ai/DBP-Dialect'), pr_revision=None, pr_num=None)"
      ]
     },
     "execution_count": 7,
     "metadata": {},
     "output_type": "execute_result"
    }
   ],
   "source": [
    "from huggingface_hub import HfApi\n",
    "\n",
    "api = HfApi()\n",
    "api.upload_file(\n",
    "    path_or_fileobj=\"kedah.parquet\",\n",
    "    path_in_repo=\"data/kedah-00000-of-00001.parquet\",\n",
    "    repo_id=\"malaysia-ai/DBP-Dialect\",\n",
    "    repo_type=\"dataset\",\n",
    ")"
   ]
  },
  {
   "cell_type": "code",
   "execution_count": 8,
   "id": "367f432c",
   "metadata": {},
   "outputs": [
    {
     "name": "stdout",
     "output_type": "stream",
     "text": [
      "3 <tbody><tr align=\"center\" style=\"color:White;background-color:#1F75CC;font-weight:normal;\">\n",
      "<th scope=\"col\">Entri</th><th scope=\"col\">Fonetik</th><th scope=\"col\">Kelas Kata</th><th scope=\"col\">Makna</th><th scope=\"col\">Ayat Dialek</th><th scope=\"col\">Sebutan Ayat</th><th scope=\"col\">Maksud Ayat</th>\n",
      "</tr><tr style=\"color:#333333;background-color:#F8F9F9;\">\n",
      "<td>menggelenyo</td><td>[m«N.g«.l«.ø]</td><td>kata adjektif</td><td>berkenaan seseorang yang tidak tahu duduk diam.</td><td>Kalau adek menggelenyo mak cubet pehenye.</td><td>[kA.lAw A.de/ m«N.g«.l«.ø mA/ tSu.bet p«.h«.ø«]</td><td>Kalau adik tidak tahu duduk diam, emak cubit pehanya.</td>\n",
      "</tr><tr style=\"color:#333333;background-color:#FDFEFE;\">\n",
      "<td>besempudal</td><td>[b«.s«m.pu.dAl]</td><td>kata adjektif</td><td>penuh dengan kekotoran, selekeh.</td><td>Kaki die besempudal dengan lumpo.</td><td>[kA.ki di.j« b«.s«m.pu.dAl d«.NAn lum.po]</td><td>Kaki dia penuh dengan kekotoran tanah lumpur.</td>\n",
      "</tr><tr align=\"right\" class=\"GridPager\" style=\"color:Black;background-color:#D6EAF8;\">\n",
      "<td colspan=\"7\"><table>\n",
      "<tbody><tr>\n",
      "<td><span>1</span></td><td><a href=\"javascript:__doPostBack('ctl00$MainContent$GridView1','Page$2')\" style=\"color:Black;\">2</a></td><td><a href=\"javascript:__doPostBack('ctl00$MainContent$GridView1','Page$3')\" style=\"color:Black;\">3</a></td><td><a href=\"javascript:__doPostBack('ctl00$MainContent$GridView1','Page$4')\" style=\"color:Black;\">4</a></td><td><a href=\"javascript:__doPostBack('ctl00$MainContent$GridView1','Page$5')\" style=\"color:Black;\">5</a></td><td><a href=\"javascript:__doPostBack('ctl00$MainContent$GridView1','Page$6')\" style=\"color:Black;\">6</a></td><td><a href=\"javascript:__doPostBack('ctl00$MainContent$GridView1','Page$7')\" style=\"color:Black;\">7</a></td><td><a href=\"javascript:__doPostBack('ctl00$MainContent$GridView1','Page$8')\" style=\"color:Black;\">8</a></td><td><a href=\"javascript:__doPostBack('ctl00$MainContent$GridView1','Page$9')\" style=\"color:Black;\">9</a></td><td><a href=\"javascript:__doPostBack('ctl00$MainContent$GridView1','Page$10')\" style=\"color:Black;\">10</a></td><td><a href=\"javascript:__doPostBack('ctl00$MainContent$GridView1','Page$11')\" style=\"color:Black;\">...</a></td>\n",
      "</tr>\n",
      "</tbody></table></td>\n",
      "</tr>\n",
      "</tbody>\n"
     ]
    }
   ],
   "source": [
    "with open('johor/1.htm') as fopen:\n",
    "    j = fopen.read()\n",
    "s = BeautifulSoup(j)\n",
    "for no, t in enumerate(s.find_all('tbody')):\n",
    "    \n",
    "    if 'menggelenyo' in str(t).lower():\n",
    "        print(no, t)"
   ]
  },
  {
   "cell_type": "code",
   "execution_count": 9,
   "id": "8e1d172c",
   "metadata": {},
   "outputs": [
    {
     "name": "stderr",
     "output_type": "stream",
     "text": [
      "100%|█████████████████████████████████████████| 296/296 [00:03<00:00, 79.16it/s]\n"
     ]
    },
    {
     "data": {
      "text/plain": [
       "1184"
      ]
     },
     "execution_count": 9,
     "metadata": {},
     "output_type": "execute_result"
    }
   ],
   "source": [
    "files = glob('johor/*.html') + glob('johor/*.htm')\n",
    "\n",
    "res = []\n",
    "\n",
    "for f in tqdm(files):\n",
    "    with open(f) as fopen:\n",
    "        j = fopen.read()\n",
    "    s = BeautifulSoup(j)\n",
    "    table_rows = s.find_all('tbody')[3].find_all('tr')\n",
    "    for tr in table_rows:\n",
    "        td = tr.find_all('td')\n",
    "        row = [tr.text.strip() for tr in td if tr.text.strip()]\n",
    "        if row:\n",
    "            res.append(row)\n",
    "            \n",
    "len(res)"
   ]
  },
  {
   "cell_type": "code",
   "execution_count": 10,
   "id": "c5bda1a7",
   "metadata": {},
   "outputs": [
    {
     "data": {
      "text/plain": [
       "(589, 7)"
      ]
     },
     "execution_count": 10,
     "metadata": {},
     "output_type": "execute_result"
    }
   ],
   "source": [
    "df = pd.DataFrame(res)\n",
    "filtered_df = df[~df.iloc[:, 2].astype(str).str.contains(r'\\d')].iloc[:, :7]\n",
    "filtered_df.shape"
   ]
  },
  {
   "cell_type": "code",
   "execution_count": 11,
   "id": "e9608563",
   "metadata": {},
   "outputs": [],
   "source": [
    "filtered_df.to_parquet('johor.parquet')"
   ]
  },
  {
   "cell_type": "code",
   "execution_count": 12,
   "id": "a5c6638d",
   "metadata": {},
   "outputs": [
    {
     "name": "stderr",
     "output_type": "stream",
     "text": [
      "No files have been modified since last commit. Skipping to prevent empty commit.\n"
     ]
    },
    {
     "data": {
      "text/plain": [
       "CommitInfo(commit_url='https://huggingface.co/datasets/malaysia-ai/DBP-Dialect/commit/a83af2dc08bcca8a716a8810ae3a878feb969f73', commit_message='Upload data/johor-00000-of-00001.parquet with huggingface_hub', commit_description='', oid='a83af2dc08bcca8a716a8810ae3a878feb969f73', pr_url=None, repo_url=RepoUrl('https://huggingface.co/datasets/malaysia-ai/DBP-Dialect', endpoint='https://huggingface.co', repo_type='dataset', repo_id='malaysia-ai/DBP-Dialect'), pr_revision=None, pr_num=None)"
      ]
     },
     "execution_count": 12,
     "metadata": {},
     "output_type": "execute_result"
    }
   ],
   "source": [
    "api = HfApi()\n",
    "api.upload_file(\n",
    "    path_or_fileobj=\"johor.parquet\",\n",
    "    path_in_repo=\"data/johor-00000-of-00001.parquet\",\n",
    "    repo_id=\"malaysia-ai/DBP-Dialect\",\n",
    "    repo_type=\"dataset\",\n",
    ")"
   ]
  },
  {
   "cell_type": "code",
   "execution_count": 13,
   "id": "8776f640",
   "metadata": {},
   "outputs": [
    {
     "name": "stdout",
     "output_type": "stream",
     "text": [
      "13 <tbody><tr align=\"center\" style=\"color:White;background-color:#1F75CC;font-weight:normal;\">\n",
      "<th scope=\"col\">Entri</th><th scope=\"col\">Fonetik</th><th scope=\"col\">Kelas Kata</th><th scope=\"col\">Makna</th><th scope=\"col\">Ayat Dialek</th><th scope=\"col\">Sebutan Ayat</th><th scope=\"col\">Maksud Ayat</th>\n",
      "</tr><tr style=\"color:#333333;background-color:#F8F9F9;\">\n",
      "<td>bepele-pele</td><td>[b«.p«.l«.p«.l«]</td><td>kata adjektif</td><td>berkenaan sayur yang dipotong panjang-panjang.</td><td>Tak senonoh kakok potong sayo bepele-pele.</td><td>[tA/ s«.n.nh kA.k/ p.toN sA.jo b«.p«.l«.p«.l«]</td><td>Tidak senonoh kakak memotong sayur, panjang-panjang.</td>\n",
      "</tr><tr style=\"color:#333333;background-color:#FDFEFE;\">\n",
      "<td>bebele</td><td>[b«.b«.l«]</td><td>kata kerja</td><td>berubat.</td><td>Awok ni kene bebele dengan dokte, bomo tok jalan.</td><td>[A.w/ ni k«.n« b«.b«.l« d«.NAn do/.t« b.m t/ dZA.lAn]</td><td>Awak ini hendaklah berubat dengan doktor, berbomoh sudah tidak boleh.</td>\n",
      "</tr><tr style=\"color:#333333;background-color:#F8F9F9;\">\n",
      "<td>meleto</td><td>[m«.l«.t]</td><td>kata kerja</td><td>merempuh sesuatu.</td><td>Kerete meleto budok tengoh leboh raye.</td><td>[ke.ÄE.t« m«.l«.t bu.d/ t«.Nh l«.boh ÄA.j«]</td><td>Kereta merempoh budak di tengah lebuh raya.</td>\n",
      "</tr><tr style=\"color:#333333;background-color:#FDFEFE;\">\n",
      "<td>jelempoh</td><td>[dZ«.l«m.ph]</td><td>kata adjektif</td><td>berkenaan sesuatu yang bertaburan.</td><td>Buoh jambu jelempoh di tanoh tok sape nok ambek.</td><td>[bu.wh dZAm.bu dZ«.l«m.ph di tA.nh t/ sA.p« n/ Am.be/]</td><td>Buah jambu bertaburan di atas tanah, tiada siapa yang hendak diambil.</td>\n",
      "</tr><tr style=\"color:#333333;background-color:#F8F9F9;\">\n",
      "<td>beseledoet</td><td>[b«.s«.l«.d.et]</td><td>kata adjektif</td><td>1. berkenaan sesuatu yang kelihatan tidak kemas.</td><td>Emak koi tok suke tengok koi pake kaen pase beseledoet.</td><td>[«.mA/ kj t/ su.k« tE.N/ kj pA.kE kA.en pA.sE b«.s«.l«.d.et]</td><td>Emak saya tidak suka melihat saya memakai kain kerana tidak kemas.</td>\n",
      "</tr><tr style=\"color:#333333;background-color:#FDFEFE;\">\n",
      "<td>kedodong I</td><td>[k«.d.dN]</td><td>kata nama</td><td>cecair berwarna hitam yang disertai bau yang busuk.</td><td>Tok selera koi nok makan ade kedodong kat situ.</td><td>[t/ s«.le.ÄA kj n/ mA.kAn A.d« k«.d.dN kAt si.tu]</td><td>Tidak ada selera saya hendak makan kerana ada kedodong di situ.</td>\n",
      "</tr><tr style=\"color:#333333;background-color:#F8F9F9;\">\n",
      "<td>menyompong</td><td>[m«.øm.poN]</td><td>kata kerja</td><td>mengumpul wang.</td><td>Nampoknya koi kene menyompong lagi nok ke Mekoh.</td><td>[nAm.pA/.ø« koj k«.n« m«.øm.poN lA.gi no/ k« m«.kh]</td><td>Nampaknya saya perlu mengumpul wang lagi untuk ke Mekah.</td>\n",
      "</tr><tr style=\"color:#333333;background-color:#FDFEFE;\">\n",
      "<td>tembe II</td><td>[t«m.b«]</td><td>kata kerja</td><td>rempuh.</td><td>Habes paga koi kene tembe dek krebo.</td><td>[hA.bes pA.gA kj k«.n« t«m.b« de/ kÄ«.b]</td><td>Habis pagar saya kena rempuh oleh kerbau.</td>\n",
      "</tr><tr style=\"color:#333333;background-color:#F8F9F9;\">\n",
      "<td>besempulu</td><td>[b«.s«m.pu.lu]</td><td>kata adjektif</td><td>berkenaan sesuatu potongan yang tidak rata.</td><td>Lante rumoh koi besempulu je, ketam tumpo.</td><td>[lAnte Äu.mh kj b«.s«m.pu.lu dZ« k«.tAm tum.p]</td><td>Lantai rumah saya tidak rata kerana ketam tumpul.</td>\n",
      "</tr><tr style=\"color:#333333;background-color:#FDFEFE;\">\n",
      "<td>songsong</td><td>[sN.sN]</td><td>kata kerja</td><td>menolak sesuatu.</td><td>Tolong songsong meja tu ke tepi.</td><td>[to.loN sN.sN mE.dZA tu k« t«.pi]</td><td>Tolong tolak meja itu ke tepi.</td>\n",
      "</tr><tr align=\"right\" class=\"GridPager\" style=\"color:Black;background-color:#D6EAF8;\">\n",
      "<td colspan=\"7\"><table>\n",
      "<tbody><tr>\n",
      "<td><span>1</span></td><td><a href=\"javascript:__doPostBack('ctl00$MainContent$GridView6','Page$2')\" style=\"color:Black;\">2</a></td><td><a href=\"javascript:__doPostBack('ctl00$MainContent$GridView6','Page$3')\" style=\"color:Black;\">3</a></td><td><a href=\"javascript:__doPostBack('ctl00$MainContent$GridView6','Page$4')\" style=\"color:Black;\">4</a></td><td><a href=\"javascript:__doPostBack('ctl00$MainContent$GridView6','Page$5')\" style=\"color:Black;\">5</a></td><td><a href=\"javascript:__doPostBack('ctl00$MainContent$GridView6','Page$6')\" style=\"color:Black;\">6</a></td><td><a href=\"javascript:__doPostBack('ctl00$MainContent$GridView6','Page$7')\" style=\"color:Black;\">7</a></td><td><a href=\"javascript:__doPostBack('ctl00$MainContent$GridView6','Page$8')\" style=\"color:Black;\">8</a></td><td><a href=\"javascript:__doPostBack('ctl00$MainContent$GridView6','Page$9')\" style=\"color:Black;\">9</a></td><td><a href=\"javascript:__doPostBack('ctl00$MainContent$GridView6','Page$10')\" style=\"color:Black;\">10</a></td><td><a href=\"javascript:__doPostBack('ctl00$MainContent$GridView6','Page$11')\" style=\"color:Black;\">...</a></td>\n",
      "</tr>\n",
      "</tbody></table></td>\n",
      "</tr>\n",
      "</tbody>\n"
     ]
    }
   ],
   "source": [
    "with open('pahang/1.htm') as fopen:\n",
    "    j = fopen.read()\n",
    "s = BeautifulSoup(j)\n",
    "for no, t in enumerate(s.find_all('tbody')):\n",
    "    \n",
    "    if 'bepele-pele' in str(t).lower():\n",
    "        print(no, t)"
   ]
  },
  {
   "cell_type": "code",
   "execution_count": 14,
   "id": "8aa8b438",
   "metadata": {},
   "outputs": [
    {
     "name": "stderr",
     "output_type": "stream",
     "text": [
      "100%|███████████████████████████████████████████| 77/77 [00:00<00:00, 80.00it/s]\n"
     ]
    },
    {
     "data": {
      "text/plain": [
       "917"
      ]
     },
     "execution_count": 14,
     "metadata": {},
     "output_type": "execute_result"
    }
   ],
   "source": [
    "files = glob('pahang/*.html') + glob('pahang/*.htm')\n",
    "\n",
    "res = []\n",
    "\n",
    "for f in tqdm(files):\n",
    "    with open(f) as fopen:\n",
    "        j = fopen.read()\n",
    "    s = BeautifulSoup(j)\n",
    "    table_rows = s.find_all('tbody')[13].find_all('tr')\n",
    "    for tr in table_rows:\n",
    "        td = tr.find_all('td')\n",
    "        row = [tr.text.strip() for tr in td if tr.text.strip()]\n",
    "        if row:\n",
    "            res.append(row)\n",
    "            \n",
    "len(res)"
   ]
  },
  {
   "cell_type": "code",
   "execution_count": 16,
   "id": "a8828167",
   "metadata": {},
   "outputs": [
    {
     "data": {
      "text/plain": [
       "(760, 7)"
      ]
     },
     "execution_count": 16,
     "metadata": {},
     "output_type": "execute_result"
    }
   ],
   "source": [
    "df = pd.DataFrame(res)\n",
    "filtered_df = df[~df.iloc[:, 2].astype(str).str.contains(r'\\d')].iloc[:, :7]\n",
    "filtered_df.shape"
   ]
  },
  {
   "cell_type": "code",
   "execution_count": 17,
   "id": "af7adf92",
   "metadata": {},
   "outputs": [
    {
     "data": {
      "text/plain": [
       "(760, 7)"
      ]
     },
     "execution_count": 17,
     "metadata": {},
     "output_type": "execute_result"
    }
   ],
   "source": [
    "filtered_df.shape"
   ]
  },
  {
   "cell_type": "code",
   "execution_count": 18,
   "id": "f6756db3",
   "metadata": {},
   "outputs": [
    {
     "name": "stderr",
     "output_type": "stream",
     "text": [
      "No files have been modified since last commit. Skipping to prevent empty commit.\n"
     ]
    },
    {
     "data": {
      "text/plain": [
       "CommitInfo(commit_url='https://huggingface.co/datasets/malaysia-ai/DBP-Dialect/commit/a83af2dc08bcca8a716a8810ae3a878feb969f73', commit_message='Upload data/pahang-00000-of-00001.parquet with huggingface_hub', commit_description='', oid='a83af2dc08bcca8a716a8810ae3a878feb969f73', pr_url=None, repo_url=RepoUrl('https://huggingface.co/datasets/malaysia-ai/DBP-Dialect', endpoint='https://huggingface.co', repo_type='dataset', repo_id='malaysia-ai/DBP-Dialect'), pr_revision=None, pr_num=None)"
      ]
     },
     "execution_count": 18,
     "metadata": {},
     "output_type": "execute_result"
    }
   ],
   "source": [
    "filtered_df.to_parquet('pahang.parquet')\n",
    "api = HfApi()\n",
    "api.upload_file(\n",
    "    path_or_fileobj=\"pahang.parquet\",\n",
    "    path_in_repo=\"data/pahang-00000-of-00001.parquet\",\n",
    "    repo_id=\"malaysia-ai/DBP-Dialect\",\n",
    "    repo_type=\"dataset\",\n",
    ")"
   ]
  },
  {
   "cell_type": "code",
   "execution_count": 19,
   "id": "06ea3672",
   "metadata": {},
   "outputs": [
    {
     "name": "stdout",
     "output_type": "stream",
     "text": [
      "7 <tbody><tr align=\"center\" style=\"color:White;background-color:#1F75CC;font-weight:normal;\">\n",
      "<th scope=\"col\">Entri</th><th scope=\"col\">Fonetik</th><th scope=\"col\">Kelas Kata</th><th scope=\"col\">Makna</th><th scope=\"col\">Ayat Dialek</th><th scope=\"col\">Sebutan Ayat</th><th scope=\"col\">Maksud Ayat</th>\n",
      "</tr><tr style=\"color:#333333;background-color:#F8F9F9;\">\n",
      "<td>gemok metong</td><td>[g«.m/ m:E.tN]</td><td> </td><td>sangat gemuk; gemok metok.</td><td>Anok sulong ambo gemok metong.</td><td>[A.n/ su.loN Am.b g«.m/ m:E.tN]</td><td>Anak sulung saya sangat gemuk.</td>\n",
      "</tr><tr style=\"color:#333333;background-color:#FDFEFE;\">\n",
      "<td>gemok metok</td><td>[g«.m/ m:E.t)Ö]</td><td> </td><td>sangat gemuk; gemok metong.</td><td>Anok ore tu gemok metok.</td><td>[A.n/ .ÄE tu g«.m/ m:E.t)Ö]</td><td>Anak orang tu sangat gemuk.</td>\n",
      "</tr><tr style=\"color:#333333;background-color:#F8F9F9;\">\n",
      "<td>bekok mecong</td><td>[b«.k/ m:E.tSN]</td><td> </td><td>berkenaan bengkak dalam keadaan membesar secara luar biasa; bekok cobong.</td><td>Muko Ali bekok mecong keno pakoh ko tebuwe.</td><td>[mu.k A.li b«.k/ m:E.tSN k«.n pA.kh k t«.bu.wE]</td><td>Muka Ali jadi sangat bengkak sebab disengat oleh tebuan.</td>\n",
      "</tr><tr style=\"color:#333333;background-color:#FDFEFE;\">\n",
      "<td>pelepoh nyo]</td><td>[p«.l«.ph ø]</td><td> </td><td>hidung yang besar di bahagian hujungnya.</td><td>Muko tok malu, baso idong pelepoh nyo.</td><td>[mu.k t/ mA.lu bA.s i.doN p«.l«.ph ø]</td><td>Muka tak malu, dasar hidung pelepah kelapa.</td>\n",
      "</tr><tr style=\"color:#333333;background-color:#F8F9F9;\">\n",
      "<td>kemboh</td><td>[k«m.bh]</td><td>kata adjektif</td><td>berkenaan sesuatu dalam keadaan bertaburan di merata-rata tempat, berselerak.</td><td>Tak dok ore tino ko drumoh diyo, napok kemboh sokmo.</td><td>[tA/ d/ .ÄE t:i.n k dÄu.mh di.j nA.p/ k:«m.bh s/.m]</td><td>Tak ada orang perempuankah di rumah dia, nampak sentiasa berselerak.</td>\n",
      "</tr><tr style=\"color:#333333;background-color:#FDFEFE;\">\n",
      "<td>kekoh</td><td>[k«.kh]</td><td>kata kerja</td><td>menggigit (dgn membuka mulut lebar-lebar dan mengatupnya).</td><td>Jari Pok Sen bekok keno kekoh monyek.</td><td>[dZA.Äi p/ seN b«.k/ k«.n k«.kh m.øE/]</td><td>Jari Pak Sin bengkak kerana digigit monyet.</td>\n",
      "</tr><tr style=\"color:#333333;background-color:#F8F9F9;\">\n",
      "<td>bekwoh</td><td>[b:E/.wh]</td><td>kata nama</td><td>kenduri yang diadakan secara besar-besaran (majlis perkahwinan, kesyukuran, dan lain-lain).</td><td>Pok Me bekwoh besa pasa anok tino sulung diyo nok nikoh.</td><td>[p/ mE b:E/.wh be.sA pA.sA A.n/ t:i.n su.loN di.j n/ :</td><td>Pak Man mengadakan kenduri besar-besaran sebab anak perempuan sulungnya nak kahwin.</td>\n",
      "</tr><tr style=\"color:#333333;background-color:#FDFEFE;\">\n",
      "<td>nyoh-nyoh</td><td>[øh.øh]</td><td>kata kerja</td><td>berjalan dengan cepat tanpa memandang ke kiri dan ke kanan.</td><td>Ali tu nok gi mano, nyoh-nyoh tok caro ko ore.</td><td>[A.li tu n/ gi m:A.n øh.øh t/ tS:A.Ä k .ÄE]</td><td>Ali tu nak pergi ke mana, berjalan cepat tanpa menghiraukan orang.</td>\n",
      "</tr><tr style=\"color:#333333;background-color:#F8F9F9;\">\n",
      "<td>ugoh II</td><td>[u.gh]</td><td> </td><td>berubah, berganjak.</td><td>Tiye lapu tu sikik pong toh ugoh lepah keno tepoh lori</td><td>[tijE lA.pu tu si.ki/ poN t/ u.gh l«.pAh k«.n t«.poh l.Äi]</td><td>Tiang lampu tu sikit pun tak berganjak selepas dilanggar lori.</td>\n",
      "</tr><tr style=\"color:#333333;background-color:#FDFEFE;\">\n",
      "<td>pakoh</td><td>[pA.kh]</td><td>kata kerja</td><td>menikam dengan sengat (berkenaan tebuan, lebah, penyengat).</td><td>Muko Mae bekok mecong nyo pakoh ko tebuwe.</td><td>[mu.k mA.E) b«.k/ m:E.tSN ø pA.kh k t«.bu.wE]</td><td>Muka Mamat menjadi bengkak kerana disengat tebuan.</td>\n",
      "</tr><tr align=\"right\" class=\"GridPager\" style=\"color:Black;background-color:#D6EAF8;\">\n",
      "<td colspan=\"7\"><table>\n",
      "<tbody><tr>\n",
      "<td><span>1</span></td><td><a href=\"javascript:__doPostBack('ctl00$MainContent$GridView3','Page$2')\" style=\"color:Black;\">2</a></td><td><a href=\"javascript:__doPostBack('ctl00$MainContent$GridView3','Page$3')\" style=\"color:Black;\">3</a></td><td><a href=\"javascript:__doPostBack('ctl00$MainContent$GridView3','Page$4')\" style=\"color:Black;\">4</a></td><td><a href=\"javascript:__doPostBack('ctl00$MainContent$GridView3','Page$5')\" style=\"color:Black;\">5</a></td><td><a href=\"javascript:__doPostBack('ctl00$MainContent$GridView3','Page$6')\" style=\"color:Black;\">6</a></td><td><a href=\"javascript:__doPostBack('ctl00$MainContent$GridView3','Page$7')\" style=\"color:Black;\">7</a></td><td><a href=\"javascript:__doPostBack('ctl00$MainContent$GridView3','Page$8')\" style=\"color:Black;\">8</a></td><td><a href=\"javascript:__doPostBack('ctl00$MainContent$GridView3','Page$9')\" style=\"color:Black;\">9</a></td><td><a href=\"javascript:__doPostBack('ctl00$MainContent$GridView3','Page$10')\" style=\"color:Black;\">10</a></td><td><a href=\"javascript:__doPostBack('ctl00$MainContent$GridView3','Page$11')\" style=\"color:Black;\">...</a></td>\n",
      "</tr>\n",
      "</tbody></table></td>\n",
      "</tr>\n",
      "</tbody>\n"
     ]
    }
   ],
   "source": [
    "with open('kelantan/1.htm') as fopen:\n",
    "    j = fopen.read()\n",
    "s = BeautifulSoup(j)\n",
    "for no, t in enumerate(s.find_all('tbody')):\n",
    "    \n",
    "    if 'gemok metong' in str(t).lower():\n",
    "        print(no, t)"
   ]
  },
  {
   "cell_type": "code",
   "execution_count": 20,
   "id": "66267e3b",
   "metadata": {},
   "outputs": [
    {
     "name": "stderr",
     "output_type": "stream",
     "text": [
      "100%|███████████████████████████████████████████| 92/92 [00:01<00:00, 79.53it/s]\n"
     ]
    },
    {
     "data": {
      "text/plain": [
       "1102"
      ]
     },
     "execution_count": 20,
     "metadata": {},
     "output_type": "execute_result"
    }
   ],
   "source": [
    "files = glob('kelantan/*.html') + glob('kelantan/*.htm')\n",
    "\n",
    "res = []\n",
    "\n",
    "for f in tqdm(files):\n",
    "    with open(f) as fopen:\n",
    "        j = fopen.read()\n",
    "    s = BeautifulSoup(j)\n",
    "    table_rows = s.find_all('tbody')[7].find_all('tr')\n",
    "    for tr in table_rows:\n",
    "        td = tr.find_all('td')\n",
    "        row = [tr.text.strip() for tr in td if tr.text.strip()]\n",
    "        if row:\n",
    "            res.append(row)\n",
    "            \n",
    "len(res)"
   ]
  },
  {
   "cell_type": "code",
   "execution_count": 21,
   "id": "c52e7419",
   "metadata": {},
   "outputs": [
    {
     "data": {
      "text/plain": [
       "(916, 7)"
      ]
     },
     "execution_count": 21,
     "metadata": {},
     "output_type": "execute_result"
    }
   ],
   "source": [
    "df = pd.DataFrame(res)\n",
    "filtered_df = df[~df.iloc[:, 2].astype(str).str.contains(r'\\d')].iloc[:, :7]\n",
    "filtered_df.shape"
   ]
  },
  {
   "cell_type": "code",
   "execution_count": 23,
   "id": "25f239a9",
   "metadata": {},
   "outputs": [
    {
     "name": "stderr",
     "output_type": "stream",
     "text": [
      "No files have been modified since last commit. Skipping to prevent empty commit.\n"
     ]
    },
    {
     "data": {
      "text/plain": [
       "CommitInfo(commit_url='https://huggingface.co/datasets/malaysia-ai/DBP-Dialect/commit/a83af2dc08bcca8a716a8810ae3a878feb969f73', commit_message='Upload data/kelantan-00000-of-00001.parquet with huggingface_hub', commit_description='', oid='a83af2dc08bcca8a716a8810ae3a878feb969f73', pr_url=None, repo_url=RepoUrl('https://huggingface.co/datasets/malaysia-ai/DBP-Dialect', endpoint='https://huggingface.co', repo_type='dataset', repo_id='malaysia-ai/DBP-Dialect'), pr_revision=None, pr_num=None)"
      ]
     },
     "execution_count": 23,
     "metadata": {},
     "output_type": "execute_result"
    }
   ],
   "source": [
    "filtered_df.to_parquet('kelantan.parquet')\n",
    "api.upload_file(\n",
    "    path_or_fileobj=\"kelantan.parquet\",\n",
    "    path_in_repo=\"data/kelantan-00000-of-00001.parquet\",\n",
    "    repo_id=\"malaysia-ai/DBP-Dialect\",\n",
    "    repo_type=\"dataset\",\n",
    ")"
   ]
  },
  {
   "cell_type": "code",
   "execution_count": 24,
   "id": "9397dc51",
   "metadata": {},
   "outputs": [
    {
     "name": "stdout",
     "output_type": "stream",
     "text": [
      "15 <tbody><tr align=\"center\" style=\"color:White;background-color:#1F75CC;font-weight:normal;\">\n",
      "<th scope=\"col\">Entri</th><th scope=\"col\">Fonetik</th><th scope=\"col\">Kelas Kata</th><th scope=\"col\">Makna</th><th scope=\"col\">Ayat Dialek</th><th scope=\"col\">Sebutan Ayat</th><th scope=\"col\">Maksud Ayat</th>\n",
      "</tr><tr style=\"color:#333333;background-color:#F8F9F9;\">\n",
      "<td>serot rezeki</td><td>[s«.Ò)t Ò«.z«.ki]</td><td> </td><td>menarik rezeki atau mengurangkan rezeki (berkenaan Tuhan kepada hambanya).</td><td>Kalu suka buang makanan sat ni tuhan serot rezeki.</td><td>[kA.lu su.kA bu.wAN mA.kA.nAn sAt ni tu.hAn s«.Ò)t Ò«.z«.ki]</td><td>Kalau suka buang makanan nanti tuhan tarik rezeki.</td>\n",
      "</tr><tr style=\"color:#333333;background-color:#FDFEFE;\">\n",
      "<td>rongkoi I</td><td>[ÒN.kj]</td><td>kata kerja</td><td>memegang kuat pada bahu atau lengan seseorang</td><td>Dia rongkoi laki dia bila lalu depan kuboq.</td><td>[di.jA ÒN.kj lA.ki di.jA bi.lA lA.lu d«.pAn ku.bo)Ö]</td><td>Dia memegang kuat lengan suaminya apabila melalui kubur.</td>\n",
      "</tr><tr style=\"color:#333333;background-color:#F8F9F9;\">\n",
      "<td>keloloh</td><td>[k«.l.lh]</td><td>kata adjektif</td><td>1. berkenaan dengan seseorang yang tingkah lakunya kelakar.</td><td>Seronok buat reja dengan dia pasai dia keloloh.</td><td>[s«.Òo.no/ bu.wAt Ò«.dZA d«.NAn di.jA pA.sAj di.jA k«.l.lh]</td><td>Seronok melakukan pekerjaan bersamanya sebab dia kelakar.</td>\n",
      "</tr><tr style=\"color:#333333;background-color:#FDFEFE;\">\n",
      "<td>keleboq</td><td>[k«.l«.b)Ö]</td><td>kata nama</td><td>selut yang cair.</td><td>Masa ayaq surot kita kena randok keleboq dulu baru buleh naek perau.</td><td>[mA.sA A.jA)Ö su.Òot ki.tA k«.nA ÒAn.do/ k«.l«.b)Ö du.lu bA.Òu bu.leh nAe/ p«.ÒAw]</td><td>Masa air surut kita kena randuk selut dulu baru boleh naik perahu.</td>\n",
      "</tr><tr style=\"color:#333333;background-color:#F8F9F9;\">\n",
      "<td>mentekedarah</td><td>[m«n.t«.k«.dA.ÒAh]</td><td>kata kerja</td><td>makan tetapi penggunaannya agak kasar</td><td>Apa reja pon tak buat asek mentekedarah saja.</td><td>[A.pA Ò«.dZA pon tA/ bu.wAt A.se/ m«n.t«.k«.dA.ÒAh sA.dZA]</td><td>Apa kerja pun tidak buat asyik makan saja.</td>\n",
      "</tr><tr style=\"color:#333333;background-color:#FDFEFE;\">\n",
      "<td>meloroih</td><td>[m«.l.ÒC]</td><td>kata kerja</td><td>turun atau jatuh dengan sendiri secara perlahan atau cepat menuruti sesuatu objek yang lurus</td><td>Ikat bendera kuat-kuat takot dia meloroih.</td><td>[i.kAt b«n.de.ÒA ku.wAt.ku.wAt tA.kot di.jA m«.l.ÒC]</td><td>Ikat bendera kuat-kuat takut jatuh dengan sendiri.</td>\n",
      "</tr><tr style=\"color:#333333;background-color:#F8F9F9;\">\n",
      "<td>rongkoi II</td><td>[ÒN.kj]</td><td>kata adjektif</td><td>berkenaan dengan seseorang yang bergantung kepada seseorang yang lain</td><td>Sejak dia kaya adek beradek semua rongkoi kat dia.</td><td>[s«.dZA­/ di.jA kA.jA A.de/ b«.ÒA.de/ s«.mu.wA ÒN.kj kAt di.jA]</td><td>Semenjak dia kaya semua adik beradik bergantung padanya.</td>\n",
      "</tr><tr style=\"color:#333333;background-color:#FDFEFE;\">\n",
      "<td>seroh</td><td>[s«.Òh]</td><td>kata adjektif</td><td>berkenaan dengan badan seseorang yang kurus selepas pulih daripada sakit; sereyat</td><td>Aku nampak hang seroh lepaih demam.</td><td>[A.ku nAm.pA/ hAN s«.Òh l«.pAC d«.mAm]</td><td>Saya nampak awak kurus selepas demam.</td>\n",
      "</tr><tr style=\"color:#333333;background-color:#F8F9F9;\">\n",
      "<td>menereloh</td><td>[m«.n«.Ò«.loh]</td><td>kata kerja</td><td>1. tidur; mereloh</td><td>Pi menereloh cepat dah pukoi sebelaih dah, isok nak sekolah.</td><td>[pi m«.n«.Ò«.loh tS«.pAt dAh pu.koj s«.b«.lAC dAh i.so/ nA/ s«.ko.lAh]</td><td>Cepat pergi tidur sudah pukul sebelas, besok hendak sekolah.</td>\n",
      "</tr><tr style=\"color:#333333;background-color:#FDFEFE;\">\n",
      "<td>rosyom</td><td>[Ò.Sm]</td><td>kata adjektif</td><td>berkenaan dengan muka yang masam</td><td>Awat tak rosyom, dia baru bekelai dengan bini dia.</td><td>[A.wAt tA Ò.Sm di.jA bA.Òu b«.k«.lAj d«.NAn bi.ni di.jA]</td><td>Patutlah bermasam muka, dia baru bergaduh dengan isterinya.</td>\n",
      "</tr><tr align=\"right\" class=\"GridPager\" style=\"color:Black;background-color:#D6EAF8;\">\n",
      "<td colspan=\"7\"><table>\n",
      "<tbody><tr>\n",
      "<td><span>1</span></td><td><a href=\"javascript:__doPostBack('ctl00$MainContent$GridView7','Page$2')\" style=\"color:Black;\">2</a></td><td><a href=\"javascript:__doPostBack('ctl00$MainContent$GridView7','Page$3')\" style=\"color:Black;\">3</a></td><td><a href=\"javascript:__doPostBack('ctl00$MainContent$GridView7','Page$4')\" style=\"color:Black;\">4</a></td><td><a href=\"javascript:__doPostBack('ctl00$MainContent$GridView7','Page$5')\" style=\"color:Black;\">5</a></td><td><a href=\"javascript:__doPostBack('ctl00$MainContent$GridView7','Page$6')\" style=\"color:Black;\">6</a></td><td><a href=\"javascript:__doPostBack('ctl00$MainContent$GridView7','Page$7')\" style=\"color:Black;\">7</a></td><td><a href=\"javascript:__doPostBack('ctl00$MainContent$GridView7','Page$8')\" style=\"color:Black;\">8</a></td><td><a href=\"javascript:__doPostBack('ctl00$MainContent$GridView7','Page$9')\" style=\"color:Black;\">9</a></td><td><a href=\"javascript:__doPostBack('ctl00$MainContent$GridView7','Page$10')\" style=\"color:Black;\">10</a></td><td><a href=\"javascript:__doPostBack('ctl00$MainContent$GridView7','Page$11')\" style=\"color:Black;\">...</a></td>\n",
      "</tr>\n",
      "</tbody></table></td>\n",
      "</tr>\n",
      "</tbody>\n"
     ]
    }
   ],
   "source": [
    "with open('penang/1.htm') as fopen:\n",
    "    j = fopen.read()\n",
    "s = BeautifulSoup(j)\n",
    "for no, t in enumerate(s.find_all('tbody')):\n",
    "    \n",
    "    if 'serot rezeki' in str(t).lower():\n",
    "        print(no, t)"
   ]
  },
  {
   "cell_type": "code",
   "execution_count": 25,
   "id": "705991f4",
   "metadata": {
    "scrolled": true
   },
   "outputs": [
    {
     "name": "stderr",
     "output_type": "stream",
     "text": [
      "100%|███████████████████████████████████████████| 81/81 [00:01<00:00, 77.04it/s]\n"
     ]
    },
    {
     "data": {
      "text/plain": [
       "965"
      ]
     },
     "execution_count": 25,
     "metadata": {},
     "output_type": "execute_result"
    }
   ],
   "source": [
    "files = glob('penang/*.html') + glob('penang/*.htm')\n",
    "\n",
    "res = []\n",
    "\n",
    "for f in tqdm(files):\n",
    "    with open(f) as fopen:\n",
    "        j = fopen.read()\n",
    "    s = BeautifulSoup(j)\n",
    "    table_rows = s.find_all('tbody')[15].find_all('tr')\n",
    "    for tr in table_rows:\n",
    "        td = tr.find_all('td')\n",
    "        row = [tr.text.strip() for tr in td if tr.text.strip()]\n",
    "        if row:\n",
    "            res.append(row)\n",
    "            \n",
    "len(res)"
   ]
  },
  {
   "cell_type": "code",
   "execution_count": 26,
   "id": "bbf46e99",
   "metadata": {},
   "outputs": [
    {
     "data": {
      "text/plain": [
       "(801, 7)"
      ]
     },
     "execution_count": 26,
     "metadata": {},
     "output_type": "execute_result"
    }
   ],
   "source": [
    "df = pd.DataFrame(res)\n",
    "filtered_df = df[~df.iloc[:, 2].astype(str).str.contains(r'\\d')].iloc[:, :7]\n",
    "filtered_df.shape"
   ]
  },
  {
   "cell_type": "code",
   "execution_count": 27,
   "id": "59af50c8",
   "metadata": {
    "scrolled": true
   },
   "outputs": [
    {
     "name": "stderr",
     "output_type": "stream",
     "text": [
      "No files have been modified since last commit. Skipping to prevent empty commit.\n"
     ]
    },
    {
     "data": {
      "text/plain": [
       "CommitInfo(commit_url='https://huggingface.co/datasets/malaysia-ai/DBP-Dialect/commit/a83af2dc08bcca8a716a8810ae3a878feb969f73', commit_message='Upload data/pulau_pinang-00000-of-00001.parquet with huggingface_hub', commit_description='', oid='a83af2dc08bcca8a716a8810ae3a878feb969f73', pr_url=None, repo_url=RepoUrl('https://huggingface.co/datasets/malaysia-ai/DBP-Dialect', endpoint='https://huggingface.co', repo_type='dataset', repo_id='malaysia-ai/DBP-Dialect'), pr_revision=None, pr_num=None)"
      ]
     },
     "execution_count": 27,
     "metadata": {},
     "output_type": "execute_result"
    }
   ],
   "source": [
    "filtered_df.to_parquet('pulau-pinang.parquet')\n",
    "api.upload_file(\n",
    "    path_or_fileobj=\"pulau-pinang.parquet\",\n",
    "    path_in_repo=\"data/pulau_pinang-00000-of-00001.parquet\",\n",
    "    repo_id=\"malaysia-ai/DBP-Dialect\",\n",
    "    repo_type=\"dataset\",\n",
    ")"
   ]
  },
  {
   "cell_type": "code",
   "execution_count": 28,
   "id": "776f0679",
   "metadata": {},
   "outputs": [
    {
     "name": "stdout",
     "output_type": "stream",
     "text": [
      "4 <tbody><tr align=\"center\" class=\"gridheader\" style=\"color:White;background-color:#1F75CC;font-weight:normal;\">\n",
      "<th scope=\"col\">Entri</th><th scope=\"col\">Fonetik</th><th scope=\"col\">Kelas Kata</th><th scope=\"col\">Makna</th><th scope=\"col\">Ayat Dialek</th><th scope=\"col\">Sebutan Dialek</th><th scope=\"col\">Maksud Ayat</th>\n",
      "</tr><tr style=\"color:#333333;background-color:#F8F9F9;\">\n",
      "<td>wayat</td><td>[wA.jAt]</td><td>kata nama</td><td>kelibat (bagi manusia atau haiwan), bayang (bagi barang-barang).</td><td>Tok sah kau carik lagi barang tu, wayat die pon aku dah lame tak nampak</td><td>[to/ sAh kAw tSA.Äi/ lA.gi bA.ÄAN tu wA.jAt di.j« pon A.ku dAh lA.m« tA/ nAm.pA/]</td><td>Tidak usah engkau cari lagi barang itu, bayangnya pun aku sudah lama tidak nampak.</td>\n",
      "</tr><tr style=\"color:#333333;background-color:#FDFEFE;\">\n",
      "<td>wares-walang</td><td>[wA.Äes.wA.lAN]</td><td>kata nama</td><td>saudara-mara; wares-walak</td><td>Raye ni, wares-walang mak belom sampai lagi.</td><td>[ÄA.j« ni wA.Äes.wA.lAN mA/ b«.lom sAm.pAj lA.gi]</td><td>Hari Raya ini, saudara mara emak belum sampai lagi.</td>\n",
      "</tr><tr style=\"color:#333333;background-color:#F8F9F9;\">\n",
      "<td>wares-walak</td><td>[wA.Äes.wA.lA/]</td><td>kata nama</td><td>saudara-mara; wares-walang.</td><td>Raye ni, wares-walak mak belom sampai lagi.</td><td>[ÄA.j« ni wA.Äes.wA.lA/ mA/ b«.lom sAm.pAj lA.gi]</td><td>Hari raya ini, saudara-mara emak belum sampai lagi</td>\n",
      "</tr><tr style=\"color:#333333;background-color:#FDFEFE;\">\n",
      "<td>wabe</td><td>[wA.b«]</td><td>kata tugas</td><td>oleh sebab, memandangkan.</td><td>Wabe kite ade, tak berani le die nak buat gitu.</td><td>[wA.b« ki.t« A.d« tA/ b«.ÄA.ni l« di.j« nA/ bu.wAt gi.tu]</td><td>Oleh sebab kita ada, tidak beranilah dia hendak buat begitu.</td>\n",
      "</tr><tr style=\"color:#333333;background-color:#F8F9F9;\">\n",
      "<td>ujan menotok-notok</td><td>[u.dZAn m«.no.to/.no.to/]</td><td> </td><td>hujan yang lebat dan lama.</td><td>Ujan menotok-notok, tak dapat noreh kite.</td><td>[u.dZAn m«.no.to/.no.to/ tA/ dA.pAt no.Äeh ki.t«]</td><td>Hujan menotok-notok, kita tidak dapat menoreh.</td>\n",
      "</tr><tr style=\"color:#333333;background-color:#FDFEFE;\">\n",
      "<td>udang tengau</td><td>[u.dAN t«.NAw]</td><td> </td><td>udang yang berkulit keras dan berbadan belang merah putih.</td><td> </td><td> </td><td> </td>\n",
      "</tr><tr style=\"color:#333333;background-color:#F8F9F9;\">\n",
      "<td>udang bodoh</td><td>[u.dAN bo.doh]</td><td> </td><td>udang yang terdapat pada musim angin barat laut, berkaki hijau dan badannya seperti udang kertas. Udang ini tidak boleh melenting seperti udang lain; udang barat.</td><td> </td><td> </td><td> </td>\n",
      "</tr><tr style=\"color:#333333;background-color:#FDFEFE;\">\n",
      "<td>udang barat</td><td>[u.dAN bA.ÄAt]</td><td> </td><td>udang yang terdapat pada musim angin barat laut, berkaki hijau dan badannya seperti udang kertas. Udang ini tidak boleh melenting seperti udang lain; udang bodoh.</td><td> </td><td> </td><td> </td>\n",
      "</tr><tr style=\"color:#333333;background-color:#F8F9F9;\">\n",
      "<td>tutup tebing</td><td>[tu.top t«.biN]</td><td>[tu.top t«.biN]</td><td>menampal lubang laluan air pada dinding tambun dengan lumpur sawah atau rumpun padi bagi menimba ikan.</td><td>Kau kene le tolong bapak tutop tebing dulu, baru boleh nimbe ikan.</td><td>[kAw k«.n« l« to.loN bA.pA/ tu.top t«.biN du.lu bA.Äu bo.leh nim.b« i.kAn]</td><td>Engkau kenalah tolong bapak tutup lubang laluan air dahulu, barulah boleh menimba ikan.</td>\n",
      "</tr><tr style=\"color:#333333;background-color:#FDFEFE;\">\n",
      "<td>tupai jantan</td><td>[tu.pAj dZAn.tAn]</td><td> </td><td>kayu panjang yang dipasang pada bahagian kekuda dan alang secara condong supaya dapat menahan daripada tiupan angin kencang; serong barat, sokong barat.</td><td>Kampong ni selalu ribot, rumah kau ni baek pasang tupai jantan.</td><td>[kAm.poN ni s«.lA.lu Äi.bot Äu.mAh kAw ni bAe/ pA.sAN tu.pAj dZAn.tAn]</td><td>Kampung ini selalu dilanda ribut rumah engkau ini baik dipasang dengan tupai jantan.</td>\n",
      "</tr><tr align=\"right\" class=\"GridPager\" style=\"color:Black;background-color:#D6EAF8;\">\n",
      "<td colspan=\"7\"><table>\n",
      "<tbody><tr>\n",
      "<td><span>1</span></td><td><a href=\"javascript:__doPostBack('ctl00$MainContent$GridView1','Page$2')\" style=\"color:Black;\">2</a></td><td><a href=\"javascript:__doPostBack('ctl00$MainContent$GridView1','Page$3')\" style=\"color:Black;\">3</a></td><td><a href=\"javascript:__doPostBack('ctl00$MainContent$GridView1','Page$4')\" style=\"color:Black;\">4</a></td><td><a href=\"javascript:__doPostBack('ctl00$MainContent$GridView1','Page$5')\" style=\"color:Black;\">5</a></td><td><a href=\"javascript:__doPostBack('ctl00$MainContent$GridView1','Page$6')\" style=\"color:Black;\">6</a></td><td><a href=\"javascript:__doPostBack('ctl00$MainContent$GridView1','Page$7')\" style=\"color:Black;\">7</a></td><td><a href=\"javascript:__doPostBack('ctl00$MainContent$GridView1','Page$8')\" style=\"color:Black;\">8</a></td><td><a href=\"javascript:__doPostBack('ctl00$MainContent$GridView1','Page$9')\" style=\"color:Black;\">9</a></td><td><a href=\"javascript:__doPostBack('ctl00$MainContent$GridView1','Page$10')\" style=\"color:Black;\">10</a></td><td><a href=\"javascript:__doPostBack('ctl00$MainContent$GridView1','Page$11')\" style=\"color:Black;\">...</a></td>\n",
      "</tr>\n",
      "</tbody></table></td>\n",
      "</tr>\n",
      "</tbody>\n"
     ]
    }
   ],
   "source": [
    "with open('melaka/1.htm') as fopen:\n",
    "    j = fopen.read()\n",
    "s = BeautifulSoup(j)\n",
    "for no, t in enumerate(s.find_all('tbody')):\n",
    "    \n",
    "    if 'wayat' in str(t).lower():\n",
    "        print(no, t)"
   ]
  },
  {
   "cell_type": "code",
   "execution_count": 29,
   "id": "38510239",
   "metadata": {},
   "outputs": [
    {
     "name": "stderr",
     "output_type": "stream",
     "text": [
      "100%|██████████████████████████████████████████| 48/48 [00:00<00:00, 165.13it/s]\n"
     ]
    },
    {
     "data": {
      "text/plain": [
       "571"
      ]
     },
     "execution_count": 29,
     "metadata": {},
     "output_type": "execute_result"
    }
   ],
   "source": [
    "files = glob('melaka/*.html') + glob('melaka/*.htm')\n",
    "\n",
    "res = []\n",
    "\n",
    "for f in tqdm(files):\n",
    "    with open(f) as fopen:\n",
    "        j = fopen.read()\n",
    "    s = BeautifulSoup(j)\n",
    "    table_rows = s.find_all('tbody')[4].find_all('tr')\n",
    "    for tr in table_rows:\n",
    "        td = tr.find_all('td')\n",
    "        row = [tr.text.strip() for tr in td if tr.text.strip()]\n",
    "        if row:\n",
    "            res.append(row)\n",
    "            \n",
    "len(res)"
   ]
  },
  {
   "cell_type": "code",
   "execution_count": 30,
   "id": "8c7dc155",
   "metadata": {},
   "outputs": [
    {
     "data": {
      "text/plain": [
       "(473, 7)"
      ]
     },
     "execution_count": 30,
     "metadata": {},
     "output_type": "execute_result"
    }
   ],
   "source": [
    "df = pd.DataFrame(res)\n",
    "filtered_df = df[~df.iloc[:, 2].astype(str).str.contains(r'\\d')].iloc[:, :7]\n",
    "filtered_df.shape"
   ]
  },
  {
   "cell_type": "code",
   "execution_count": 32,
   "id": "35aaf430",
   "metadata": {},
   "outputs": [
    {
     "data": {
      "application/vnd.jupyter.widget-view+json": {
       "model_id": "7c9d30cb68b84dff80af20bae88b07a2",
       "version_major": 2,
       "version_minor": 0
      },
      "text/plain": [
       "melaka.parquet:   0%|          | 0.00/92.0k [00:00<?, ?B/s]"
      ]
     },
     "metadata": {},
     "output_type": "display_data"
    },
    {
     "data": {
      "text/plain": [
       "CommitInfo(commit_url='https://huggingface.co/datasets/malaysia-ai/DBP-Dialect/commit/7b7bd91ad3c1a32c4d76cc97e637e25d4861c531', commit_message='Upload data/melaka-00000-of-00001.parquet with huggingface_hub', commit_description='', oid='7b7bd91ad3c1a32c4d76cc97e637e25d4861c531', pr_url=None, repo_url=RepoUrl('https://huggingface.co/datasets/malaysia-ai/DBP-Dialect', endpoint='https://huggingface.co', repo_type='dataset', repo_id='malaysia-ai/DBP-Dialect'), pr_revision=None, pr_num=None)"
      ]
     },
     "execution_count": 32,
     "metadata": {},
     "output_type": "execute_result"
    }
   ],
   "source": [
    "filtered_df.to_parquet('melaka.parquet')\n",
    "api.upload_file(\n",
    "    path_or_fileobj=\"melaka.parquet\",\n",
    "    path_in_repo=\"data/melaka-00000-of-00001.parquet\",\n",
    "    repo_id=\"malaysia-ai/DBP-Dialect\",\n",
    "    repo_type=\"dataset\",\n",
    ")"
   ]
  },
  {
   "cell_type": "code",
   "execution_count": 33,
   "id": "6aca997b",
   "metadata": {},
   "outputs": [
    {
     "name": "stdout",
     "output_type": "stream",
     "text": [
      "4 <tbody><tr align=\"center\" class=\"gridheader\" style=\"color:White;background-color:#1F75CC;font-weight:normal;\">\n",
      "<th scope=\"col\">Entri</th><th scope=\"col\">Fonetik</th><th scope=\"col\">Kelas Kata</th><th scope=\"col\">Makna</th><th scope=\"col\">Ayat Dialek</th><th scope=\"col\">Sebutan Dialek</th><th scope=\"col\">Maksud Ayat</th>\n",
      "</tr><tr style=\"color:#333333;background-color:#F8F9F9;\">\n",
      "<td>bodocap</td><td>[b.d.tSAp]</td><td>kata kerja</td><td>sebutan yang tiba-tiba, spontan.</td><td>Bodocap jo, dio mengato orang tu gilo.</td><td>[b.d.tSAp dZ di,j m.NA.t .ÄAN tu gi.l]</td><td>Spontan saja dia mengatakan orang itu gila.</td>\n",
      "</tr><tr style=\"color:#333333;background-color:#FDFEFE;\">\n",
      "<td>wok</td><td>[w/]</td><td>kata nama</td><td>gelaran manja biasanya bagi kanak-kanak perempuan.</td><td> </td><td> </td><td> </td>\n",
      "</tr><tr style=\"color:#333333;background-color:#F8F9F9;\">\n",
      "<td>ndek</td><td>[ndE/]</td><td>kata nama</td><td>panggilan timangan kepada cucu, sayang; onde.</td><td> </td><td> </td><td> </td>\n",
      "</tr><tr style=\"color:#333333;background-color:#FDFEFE;\">\n",
      "<td>koram</td><td>[k.ÄAm]</td><td>koram</td><td>sejenis lebah yang suka diam di tempat yang tersorok.</td><td> </td><td> </td><td> </td>\n",
      "</tr><tr style=\"color:#333333;background-color:#F8F9F9;\">\n",
      "<td>undang</td><td>[un.dAN]</td><td>kata nama</td><td>1. penghulu atau raja dalam luaknya.</td><td> </td><td> </td><td> </td>\n",
      "</tr><tr style=\"color:#333333;background-color:#FDFEFE;\">\n",
      "<td>ucu</td><td>[u.tSu]</td><td>kata nama</td><td>saudara bongsu.</td><td> </td><td> </td><td> </td>\n",
      "</tr><tr style=\"color:#333333;background-color:#F8F9F9;\">\n",
      "<td>suku</td><td>[su.ku]</td><td>kata nama</td><td>gabungan orang atau kaum keluarga daripada beberapa ‘perot’ yang seketurunan daripada sebelah ibu.</td><td> </td><td> </td><td> </td>\n",
      "</tr><tr style=\"color:#333333;background-color:#FDFEFE;\">\n",
      "<td>rumpun</td><td>[Äum.pun]</td><td>kata nama</td><td>kelompok keluarga yang kecil dalam suku (istilah adat).</td><td> </td><td> </td><td> </td>\n",
      "</tr><tr style=\"color:#333333;background-color:#F8F9F9;\">\n",
      "<td>ondet</td><td>[n.dEt]</td><td>kata nama</td><td>panggilan timangan kepada cucu, sayang; ndek.</td><td> </td><td> </td><td> </td>\n",
      "</tr><tr style=\"color:#333333;background-color:#FDFEFE;\">\n",
      "<td>mogeh</td><td>[m.gEh]</td><td>kata kerja</td><td>mengawan tentang haiwan; mico.</td><td> </td><td> </td><td> </td>\n",
      "</tr><tr align=\"right\" class=\"GridPager\" style=\"color:Black;background-color:#D6EAF8;\">\n",
      "<td colspan=\"7\"><table>\n",
      "<tbody><tr>\n",
      "<td><span>1</span></td><td><a href=\"javascript:__doPostBack('ctl00$MainContent$GridView1','Page$2')\" style=\"color:Black;\">2</a></td><td><a href=\"javascript:__doPostBack('ctl00$MainContent$GridView1','Page$3')\" style=\"color:Black;\">3</a></td><td><a href=\"javascript:__doPostBack('ctl00$MainContent$GridView1','Page$4')\" style=\"color:Black;\">4</a></td><td><a href=\"javascript:__doPostBack('ctl00$MainContent$GridView1','Page$5')\" style=\"color:Black;\">5</a></td><td><a href=\"javascript:__doPostBack('ctl00$MainContent$GridView1','Page$6')\" style=\"color:Black;\">6</a></td><td><a href=\"javascript:__doPostBack('ctl00$MainContent$GridView1','Page$7')\" style=\"color:Black;\">7</a></td><td><a href=\"javascript:__doPostBack('ctl00$MainContent$GridView1','Page$8')\" style=\"color:Black;\">8</a></td><td><a href=\"javascript:__doPostBack('ctl00$MainContent$GridView1','Page$9')\" style=\"color:Black;\">9</a></td><td><a href=\"javascript:__doPostBack('ctl00$MainContent$GridView1','Page$10')\" style=\"color:Black;\">10</a></td><td><a href=\"javascript:__doPostBack('ctl00$MainContent$GridView1','Page$11')\" style=\"color:Black;\">...</a></td>\n",
      "</tr>\n",
      "</tbody></table></td>\n",
      "</tr>\n",
      "</tbody>\n"
     ]
    }
   ],
   "source": [
    "with open('negeri-sembilan/Carian Umum.html') as fopen:\n",
    "    j = fopen.read()\n",
    "s = BeautifulSoup(j)\n",
    "for no, t in enumerate(s.find_all('tbody')):\n",
    "    \n",
    "    if 'bodocap' in str(t).lower():\n",
    "        print(no, t)"
   ]
  },
  {
   "cell_type": "code",
   "execution_count": 34,
   "id": "e5ee0db3",
   "metadata": {},
   "outputs": [
    {
     "name": "stderr",
     "output_type": "stream",
     "text": [
      "100%|██████████████████████████████████████████| 65/65 [00:00<00:00, 174.94it/s]\n"
     ]
    },
    {
     "data": {
      "text/plain": [
       "778"
      ]
     },
     "execution_count": 34,
     "metadata": {},
     "output_type": "execute_result"
    }
   ],
   "source": [
    "files = glob('negeri-sembilan/*.html') + glob('negeri-sembilan/*.htm')\n",
    "\n",
    "res = []\n",
    "\n",
    "for f in tqdm(files):\n",
    "    with open(f) as fopen:\n",
    "        j = fopen.read()\n",
    "    s = BeautifulSoup(j)\n",
    "    table_rows = s.find_all('tbody')[4].find_all('tr')\n",
    "    for tr in table_rows:\n",
    "        td = tr.find_all('td')\n",
    "        row = [tr.text.strip() for tr in td if tr.text.strip()]\n",
    "        if row:\n",
    "            res.append(row)\n",
    "            \n",
    "len(res)"
   ]
  },
  {
   "cell_type": "code",
   "execution_count": 35,
   "id": "32b56599",
   "metadata": {},
   "outputs": [
    {
     "data": {
      "text/plain": [
       "(647, 7)"
      ]
     },
     "execution_count": 35,
     "metadata": {},
     "output_type": "execute_result"
    }
   ],
   "source": [
    "df = pd.DataFrame(res)\n",
    "filtered_df = df[~df.iloc[:, 2].astype(str).str.contains(r'\\d')].iloc[:, :7]\n",
    "filtered_df.shape"
   ]
  },
  {
   "cell_type": "code",
   "execution_count": 36,
   "id": "1cee78c8",
   "metadata": {},
   "outputs": [
    {
     "data": {
      "application/vnd.jupyter.widget-view+json": {
       "model_id": "3e66af2fa1c145118e40e09f318997ce",
       "version_major": 2,
       "version_minor": 0
      },
      "text/plain": [
       "negeri-sembilan.parquet:   0%|          | 0.00/110k [00:00<?, ?B/s]"
      ]
     },
     "metadata": {},
     "output_type": "display_data"
    },
    {
     "data": {
      "text/plain": [
       "CommitInfo(commit_url='https://huggingface.co/datasets/malaysia-ai/DBP-Dialect/commit/7597d27711ff912fafae2531c918c256ef92eb32', commit_message='Upload data/negeri_sembilan-00000-of-00001.parquet with huggingface_hub', commit_description='', oid='7597d27711ff912fafae2531c918c256ef92eb32', pr_url=None, repo_url=RepoUrl('https://huggingface.co/datasets/malaysia-ai/DBP-Dialect', endpoint='https://huggingface.co', repo_type='dataset', repo_id='malaysia-ai/DBP-Dialect'), pr_revision=None, pr_num=None)"
      ]
     },
     "execution_count": 36,
     "metadata": {},
     "output_type": "execute_result"
    }
   ],
   "source": [
    "filtered_df.to_parquet('negeri-sembilan.parquet')\n",
    "api.upload_file(\n",
    "    path_or_fileobj=\"negeri-sembilan.parquet\",\n",
    "    path_in_repo=\"data/negeri_sembilan-00000-of-00001.parquet\",\n",
    "    repo_id=\"malaysia-ai/DBP-Dialect\",\n",
    "    repo_type=\"dataset\",\n",
    ")"
   ]
  }
 ],
 "metadata": {
  "kernelspec": {
   "display_name": "python3.10",
   "language": "python",
   "name": "python3.10"
  },
  "language_info": {
   "codemirror_mode": {
    "name": "ipython",
    "version": 3
   },
   "file_extension": ".py",
   "mimetype": "text/x-python",
   "name": "python",
   "nbconvert_exporter": "python",
   "pygments_lexer": "ipython3",
   "version": "3.10.17"
  }
 },
 "nbformat": 4,
 "nbformat_minor": 5
}
