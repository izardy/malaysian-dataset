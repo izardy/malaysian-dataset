{
 "cells": [
  {
   "cell_type": "code",
   "execution_count": 5,
   "id": "dfc8ec73",
   "metadata": {},
   "outputs": [],
   "source": [
    "# !wget https://huggingface.co/datasets/malaysia-ai/wapcar.my-multiturn/resolve/main/car-data.jsonl\n",
    "# !wget https://huggingface.co/datasets/malaysia-ai/motomalaysia.com-multiturn/resolve/main/motomalaysia-data.jsonl"
   ]
  },
  {
   "cell_type": "code",
   "execution_count": 12,
   "id": "9389805d",
   "metadata": {},
   "outputs": [],
   "source": [
    "import json\n",
    "from tqdm import tqdm"
   ]
  },
  {
   "cell_type": "code",
   "execution_count": 17,
   "id": "3a7a9446",
   "metadata": {},
   "outputs": [
    {
     "name": "stderr",
     "output_type": "stream",
     "text": [
      "51136it [00:00, 68401.76it/s]\n"
     ]
    }
   ],
   "source": [
    "cars = []\n",
    "with open('car-data.jsonl') as fopen:\n",
    "    for l in tqdm(fopen):\n",
    "        l = json.loads(l)\n",
    "        cars.append(l['local_image'].split('/')[-1].split('_')[0])\n",
    "        \n",
    "cars = set(cars)"
   ]
  },
  {
   "cell_type": "code",
   "execution_count": 21,
   "id": "a1e5a7f0",
   "metadata": {},
   "outputs": [
    {
     "name": "stderr",
     "output_type": "stream",
     "text": [
      "672it [00:00, 95967.73it/s]\n"
     ]
    }
   ],
   "source": [
    "moto = []\n",
    "with open('motomalaysia-data.jsonl') as fopen:\n",
    "    for l in tqdm(fopen):\n",
    "        l = json.loads(l)\n",
    "        moto.append(l['local_image'].split('/')[-1].split('_')[0])\n",
    "\n",
    "moto = set(moto)"
   ]
  },
  {
   "cell_type": "code",
   "execution_count": 22,
   "id": "0d088fc7",
   "metadata": {},
   "outputs": [],
   "source": [
    "vehicles = list(cars) + list(moto)"
   ]
  },
  {
   "cell_type": "code",
   "execution_count": 23,
   "id": "c493c0c7",
   "metadata": {},
   "outputs": [],
   "source": [
    "with open('vehicles.txt', 'w') as fopen:\n",
    "    for t in vehicles:\n",
    "        if not len(t):\n",
    "            continue\n",
    "        fopen.write(f'{t}\\n')"
   ]
  },
  {
   "cell_type": "code",
   "execution_count": 25,
   "id": "6436f373",
   "metadata": {},
   "outputs": [],
   "source": [
    "with open('tracker-vehicle.txt', 'w') as fopen:\n",
    "    for t in vehicles:\n",
    "        if not len(t):\n",
    "            continue\n",
    "        fopen.write(f'{t}\\n')"
   ]
  },
  {
   "cell_type": "code",
   "execution_count": 24,
   "id": "d101faab",
   "metadata": {},
   "outputs": [
    {
     "name": "stdout",
     "output_type": "stream",
     "text": [
      "1754 vehicles.txt\r\n"
     ]
    }
   ],
   "source": [
    "!wc -l vehicles.txt"
   ]
  },
  {
   "cell_type": "code",
   "execution_count": null,
   "id": "310a46b7",
   "metadata": {},
   "outputs": [],
   "source": []
  }
 ],
 "metadata": {
  "kernelspec": {
   "display_name": "Python 3 (ipykernel)",
   "language": "python",
   "name": "python3"
  },
  "language_info": {
   "codemirror_mode": {
    "name": "ipython",
    "version": 3
   },
   "file_extension": ".py",
   "mimetype": "text/x-python",
   "name": "python",
   "nbconvert_exporter": "python",
   "pygments_lexer": "ipython3",
   "version": "3.10.12"
  }
 },
 "nbformat": 4,
 "nbformat_minor": 5
}
