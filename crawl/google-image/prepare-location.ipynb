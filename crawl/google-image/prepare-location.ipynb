{
 "cells": [
  {
   "cell_type": "code",
   "execution_count": 1,
   "id": "4aa0e9e5",
   "metadata": {},
   "outputs": [
    {
     "name": "stdout",
     "output_type": "stream",
     "text": [
      "Will not apply HSTS. The HSTS database must be a regular and non-world-writable file.\n",
      "ERROR: could not open HSTS store at '/home/ubuntu/.wget-hsts'. HSTS will be disabled.\n",
      "--2024-04-19 07:34:34--  https://raw.githubusercontent.com/nizulzaim/json-malaysia-postalcode/master/postalcode.json\n",
      "Resolving raw.githubusercontent.com (raw.githubusercontent.com)... 185.199.111.133, 185.199.109.133, 185.199.108.133, ...\n",
      "Connecting to raw.githubusercontent.com (raw.githubusercontent.com)|185.199.111.133|:443... connected.\n",
      "HTTP request sent, awaiting response... 200 OK\n",
      "Length: 6812845 (6.5M) [text/plain]\n",
      "Saving to: ‘postalcode.json’\n",
      "\n",
      "postalcode.json     100%[===================>]   6.50M  --.-KB/s    in 0.02s   \n",
      "\n",
      "2024-04-19 07:34:34 (421 MB/s) - ‘postalcode.json’ saved [6812845/6812845]\n",
      "\n"
     ]
    }
   ],
   "source": [
    "!wget https://raw.githubusercontent.com/nizulzaim/json-malaysia-postalcode/master/postalcode.json"
   ]
  },
  {
   "cell_type": "code",
   "execution_count": 2,
   "id": "ef9a3b28",
   "metadata": {},
   "outputs": [],
   "source": [
    "import json"
   ]
  },
  {
   "cell_type": "code",
   "execution_count": 10,
   "id": "03575b7c",
   "metadata": {
    "scrolled": true
   },
   "outputs": [],
   "source": [
    "with open('postalcode.json') as fopen:\n",
    "    data = json.load(fopen)"
   ]
  },
  {
   "cell_type": "code",
   "execution_count": 11,
   "id": "a0f720dd",
   "metadata": {},
   "outputs": [
    {
     "data": {
      "text/plain": [
       "54186"
      ]
     },
     "execution_count": 11,
     "metadata": {},
     "output_type": "execute_result"
    }
   ],
   "source": [
    "locations = set()\n",
    "for d in data['data']:\n",
    "    locations.add(d['place'] + ' ' + d['city'])\n",
    "    locations.add(d['city'])\n",
    "    \n",
    "len(locations)"
   ]
  },
  {
   "cell_type": "code",
   "execution_count": 12,
   "id": "e4c6cbd0",
   "metadata": {},
   "outputs": [
    {
     "data": {
      "text/plain": [
       "['1 Borneo Kota Kinabalu',\n",
       " '31 Jalan Tuaran Batu 5 Kota Kinabalu',\n",
       " '3rd Cross Street Melaka',\n",
       " '5 Residency IOI Resort Kajang',\n",
       " '6 CAP Square Kuala Lumpur',\n",
       " '6A Bangunan 3M Petaling Jaya',\n",
       " '6B Bangunan Luxor Petaling Jaya',\n",
       " '6C Bangunan Three Fair Way Petaling Jaya',\n",
       " 'AADK Tumpat',\n",
       " 'AFFIN Bank Ayer Lanas']"
      ]
     },
     "execution_count": 12,
     "metadata": {},
     "output_type": "execute_result"
    }
   ],
   "source": [
    "locations = sorted(list(locations))\n",
    "locations[:10]"
   ]
  },
  {
   "cell_type": "code",
   "execution_count": 13,
   "id": "f3ad6d20",
   "metadata": {},
   "outputs": [],
   "source": [
    "with open('locations.txt', 'w') as fopen:\n",
    "    for t in locations:\n",
    "        if not len(t):\n",
    "            continue\n",
    "        fopen.write(f'{t}\\n')"
   ]
  }
 ],
 "metadata": {
  "kernelspec": {
   "display_name": "Python 3 (ipykernel)",
   "language": "python",
   "name": "python3"
  },
  "language_info": {
   "codemirror_mode": {
    "name": "ipython",
    "version": 3
   },
   "file_extension": ".py",
   "mimetype": "text/x-python",
   "name": "python",
   "nbconvert_exporter": "python",
   "pygments_lexer": "ipython3",
   "version": "3.10.12"
  }
 },
 "nbformat": 4,
 "nbformat_minor": 5
}
