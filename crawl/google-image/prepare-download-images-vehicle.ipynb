{
 "cells": [
  {
   "cell_type": "code",
   "execution_count": 1,
   "id": "89377579",
   "metadata": {},
   "outputs": [],
   "source": [
    "# !wget https://gist.githubusercontent.com/huseinzol05/98974ae8c6c7a65d4bc0af9f5003786a/raw/2e06e71ef7349a57bc58cc9913ae6bae1f9f8447/mp.py"
   ]
  },
  {
   "cell_type": "code",
   "execution_count": 2,
   "id": "26a99248",
   "metadata": {},
   "outputs": [],
   "source": [
    "from PIL import Image\n",
    "from glob import glob\n",
    "import requests\n",
    "import mp\n",
    "import json\n",
    "import os\n",
    "import urllib.parse"
   ]
  },
  {
   "cell_type": "code",
   "execution_count": 3,
   "id": "f37d0607",
   "metadata": {},
   "outputs": [
    {
     "name": "stdout",
     "output_type": "stream",
     "text": [
      "mkdir: cannot create directory ‘image-vehicle’: File exists\r\n"
     ]
    }
   ],
   "source": [
    "!mkdir image-vehicle\n",
    "# !rm image/*.jpeg"
   ]
  },
  {
   "cell_type": "code",
   "execution_count": 4,
   "id": "4fc02474",
   "metadata": {},
   "outputs": [
    {
     "data": {
      "text/plain": [
       "1754"
      ]
     },
     "execution_count": 4,
     "metadata": {},
     "output_type": "execute_result"
    }
   ],
   "source": [
    "files = glob('data/generated-vehicle/*.jsonl')\n",
    "len(files)"
   ]
  },
  {
   "cell_type": "code",
   "execution_count": 5,
   "id": "82354c2a",
   "metadata": {},
   "outputs": [
    {
     "data": {
      "text/plain": [
       "'data/generated-vehicle/327.jsonl'"
      ]
     },
     "execution_count": 5,
     "metadata": {},
     "output_type": "execute_result"
    }
   ],
   "source": [
    "files[0]"
   ]
  },
  {
   "cell_type": "code",
   "execution_count": 6,
   "id": "40033ad5",
   "metadata": {},
   "outputs": [],
   "source": [
    "# results = []\n",
    "# with open(files[0]) as fopen:\n",
    "#     for l in fopen:\n",
    "#         try:\n",
    "#             l = json.loads(l)\n",
    "#             results.append(l)\n",
    "#         except:\n",
    "#             pass\n",
    "# len(results)"
   ]
  },
  {
   "cell_type": "code",
   "execution_count": 7,
   "id": "94ca07d1",
   "metadata": {},
   "outputs": [],
   "source": [
    "# response = requests.get(\n",
    "#     'https://www.motortrend.com/uploads/2022/03/2022-Kia-EV6-AWD-GT-Line-1.jpg',\n",
    "#     cookies=cookies,\n",
    "#     headers=headers,\n",
    "# )\n",
    "# response"
   ]
  },
  {
   "cell_type": "code",
   "execution_count": 8,
   "id": "376080fc",
   "metadata": {},
   "outputs": [],
   "source": [
    "cookies = {\n",
    "    'AKA_A2': 'A',\n",
    "}\n",
    "\n",
    "headers = {\n",
    "    'accept': 'text/html,application/xhtml+xml,application/xml;q=0.9,image/avif,image/webp,image/apng,*/*;q=0.8,application/signed-exchange;v=b3;q=0.7',\n",
    "    'accept-language': 'en-MY,en;q=0.9,en-US;q=0.8,ms;q=0.7',\n",
    "    'cache-control': 'max-age=0',\n",
    "    # 'cookie': 'AKA_A2=A',\n",
    "#     'if-modified-since': 'Thu, 11 Apr 2024 19:55:02 GMT',\n",
    "#     'if-none-match': '\"aac876b239c8a4ab6491582499c990f7\"',\n",
    "    'priority': 'u=0, i',\n",
    "    'sec-ch-ua': '\"Chromium\";v=\"124\", \"Google Chrome\";v=\"124\", \"Not-A.Brand\";v=\"99\"',\n",
    "    'sec-ch-ua-mobile': '?0',\n",
    "    'sec-ch-ua-platform': '\"macOS\"',\n",
    "    'sec-fetch-dest': 'document',\n",
    "    'sec-fetch-mode': 'navigate',\n",
    "    'sec-fetch-site': 'none',\n",
    "    'sec-fetch-user': '?1',\n",
    "    'upgrade-insecure-requests': '1',\n",
    "    'user-agent': 'Mozilla/5.0 (Macintosh; Intel Mac OS X 10_15_7) AppleWebKit/537.36 (KHTML, like Gecko) Chrome/124.0.0.0 Safari/537.36',\n",
    "}"
   ]
  },
  {
   "cell_type": "code",
   "execution_count": null,
   "id": "a8952ec2",
   "metadata": {},
   "outputs": [],
   "source": [
    "requests.get(url, stream=True, timeout = 20, cookies=cookies, headers=headers).raw"
   ]
  },
  {
   "cell_type": "code",
   "execution_count": null,
   "id": "f2b08024",
   "metadata": {},
   "outputs": [],
   "source": [
    "url"
   ]
  },
  {
   "cell_type": "code",
   "execution_count": null,
   "id": "f683e23b",
   "metadata": {
    "scrolled": true
   },
   "outputs": [],
   "source": [
    "# q = results[1]['parent_href']\n",
    "# url = urllib.parse.unquote(q.split('imgurl=')[1].split('&')[0])\n",
    "# image = Image.open(requests.get(url, stream=True, timeout = 20, cookies=cookies, headers=headers,).raw)"
   ]
  },
  {
   "cell_type": "code",
   "execution_count": null,
   "id": "8f8bf0ae",
   "metadata": {},
   "outputs": [],
   "source": [
    "files[0].split('/')[-1].replace('.jsonl', '')"
   ]
  },
  {
   "cell_type": "code",
   "execution_count": 15,
   "id": "87fe8783",
   "metadata": {},
   "outputs": [],
   "source": [
    "from tqdm import tqdm\n",
    "\n",
    "def loop(files):\n",
    "    files, _ = files\n",
    "    for file in files:\n",
    "        index = file.split('/')[-1].replace('.jsonl', '')\n",
    "        with open(file) as fopen:\n",
    "            i = 0\n",
    "            for l in tqdm(fopen):\n",
    "                try:\n",
    "                    l = json.loads(l)\n",
    "                except:\n",
    "                    i += 1\n",
    "                    continue\n",
    "                filename = os.path.join('image-vehicle', f'{index}-{i}.jpeg')\n",
    "                if os.path.exists(filename):\n",
    "                    i += 1\n",
    "                    continue\n",
    "                    \n",
    "                try:\n",
    "                    q = l['parent_href']\n",
    "                    url = urllib.parse.unquote(q.split('imgurl=')[1].split('&')[0])\n",
    "                    image = Image.open(requests.get(url, stream=True, timeout = 20, cookies=cookies, headers=headers).raw)\n",
    "\n",
    "                    image.save(filename)\n",
    "                except Exception as e:\n",
    "                    pass\n",
    "                \n",
    "                i += 1"
   ]
  },
  {
   "cell_type": "code",
   "execution_count": 16,
   "id": "6ccf3717",
   "metadata": {},
   "outputs": [],
   "source": [
    "# loop((files[:1], 0))"
   ]
  },
  {
   "cell_type": "code",
   "execution_count": 17,
   "id": "84598652",
   "metadata": {},
   "outputs": [
    {
     "name": "stderr",
     "output_type": "stream",
     "text": [
      "149it [01:09,  2.15it/s]\n",
      "149it [01:20,  1.84it/s]\n",
      "226it [01:49,  2.06it/s]\n",
      "283it [02:00,  2.34it/s]\n",
      "151it [02:07,  1.19it/s]\n",
      "478it [02:20,  3.39it/s]\n",
      "304it [02:59,  1.69it/s]\n",
      "203it [03:01,  1.12it/s]\n",
      "575it [03:42,  2.58it/s]\n",
      "274it [03:45,  1.21it/s]\n",
      "525it [04:26,  1.97it/s]\n",
      "101it [00:41,  2.44it/s]\n",
      "259it [02:20,  1.84it/s]\n",
      "672it [04:47,  2.33it/s]\n",
      "597it [05:01,  1.98it/s]\n",
      "511it [03:13,  2.64it/s]\n",
      "666it [05:22,  2.07it/s]\n",
      "728it [05:28,  2.21it/s]\n",
      "724it [05:32,  2.18it/s]\n",
      "77it [00:49,  1.55it/s]]\n",
      "511it [03:42,  2.30it/s]\n",
      "583it [06:09,  1.58it/s]\n",
      "801it [06:15,  2.13it/s]\n",
      "306it [01:58,  2.59it/s]\n",
      "668it [06:34,  1.69it/s]\n",
      "871it [06:45,  2.15it/s]\n",
      "791it [05:51,  2.25it/s]\n",
      "588it [04:27,  2.20it/s]\n",
      "831it [07:35,  1.83it/s]\n",
      "786it [05:38,  2.32it/s]\n",
      "635it [07:38,  1.38it/s]\n",
      "712it [07:38,  1.55it/s]\n",
      "812it [07:45,  1.75it/s]\n",
      "659it [08:30,  1.29it/s]\n",
      "637it [04:53,  2.17it/s]\n",
      "541it [08:48,  1.02it/s]\n",
      "845it [08:58,  1.57it/s]\n",
      "157it [02:26,  1.07it/s]\n",
      "845it [09:25,  1.49it/s]\n",
      "702it [05:19,  2.20it/s]\n",
      "800it [06:16,  2.12it/s]\n",
      "672it [11:02,  1.02it/s]\n",
      "777it [04:28,  2.89it/s]\n",
      "236it [03:15,  1.20it/s]\n",
      "641it [12:15,  1.15s/it]\n",
      "435it [06:36,  1.10it/s]\n",
      "681it [07:12,  1.57it/s]\n",
      "564it [07:44,  1.21it/s]\n",
      "668it [05:33,  2.00it/s]\n",
      "650it [10:00,  1.08it/s]\n",
      "729it [07:30,  1.62it/s]\n",
      "731it [05:32,  2.20it/s]\n",
      "785it [07:24,  1.77it/s]\n",
      "580it [08:06,  1.19it/s]\n",
      "318it [06:13,  1.18s/it]\n",
      "612it [09:27,  1.08it/s]\n",
      "524it [05:09,  1.69it/s]\n",
      "731it [03:30,  3.47it/s]\n",
      "663it [07:37,  1.45it/s]\n",
      "3it [00:00, 664.46it/s]\n",
      "856it [13:25,  1.06it/s]\n",
      "446it [08:06,  1.09s/it]\n",
      "148it [01:14,  1.98it/s]\n",
      "809it [09:01,  1.50it/s]\n",
      "143it [02:38,  1.11s/it]\n",
      "603it [05:34,  1.80it/s]\n",
      "601it [08:27,  1.18it/s]\n",
      "622it [08:42,  1.19it/s]\n",
      "646it [10:08,  1.06it/s]\n",
      "398it [02:01,  3.28it/s]\n",
      "790it [10:38,  1.24it/s]\n",
      "880it [08:43,  1.68it/s]\n",
      "3it [00:00, 691.75it/s]\n",
      "620it [04:29,  2.30it/s]\n",
      "235it [01:50,  2.12it/s]\n",
      "534it [04:32,  1.96it/s]\n",
      "899it [08:28,  1.77it/s]\n",
      "720it [05:05,  2.36it/s]\n",
      "31it [00:14,  2.17it/s]]\n",
      "73it [00:18,  3.92it/s]]\n",
      "315it [03:21,  1.56it/s]\n",
      "602it [06:19,  1.59it/s]\n",
      "630it [04:44,  2.21it/s]\n",
      "801it [10:24,  1.28it/s]\n",
      "697it [06:56,  1.67it/s]\n",
      "244it [01:47,  2.28it/s]\n",
      "147it [02:59,  1.22s/it]\n",
      "800it [10:54,  1.22it/s]\n",
      "534it [04:33,  1.95it/s]\n",
      "667it [02:52,  3.87it/s]\n",
      "134it [01:11,  1.88it/s]\n",
      "283it [01:53,  2.49it/s]\n",
      "3it [00:00, 687.67it/s]\n",
      "557it [04:04,  2.28it/s]\n",
      "326it [05:50,  1.07s/it]\n",
      "790it [08:46,  1.50it/s]\n",
      "497it [08:46,  1.06s/it]\n",
      "793it [06:56,  1.90it/s]\n",
      "325it [02:37,  2.07it/s]\n",
      "726it [06:07,  1.97it/s]\n",
      "447it [03:08,  2.37it/s]\n",
      "228it [04:09,  1.10s/it]\n",
      "746it [11:11,  1.11it/s]\n",
      "273it [02:36,  1.74it/s]\n",
      "637it [08:56,  1.19it/s]\n",
      "565it [08:37,  1.09it/s]\n",
      "561it [03:41,  2.54it/s]\n",
      "156it [01:51,  1.39it/s]\n",
      "379it [03:57,  1.59it/s]\n",
      "893it [10:12,  1.46it/s]\n",
      "393it [07:09,  1.09s/it]\n",
      "144it [01:18,  1.83it/s]\n",
      "761it [06:32,  1.94it/s]\n",
      "329it [04:37,  1.66it/s]"
     ]
    }
   ],
   "source": [
    "mp.multiprocessing(files, loop, cores = 30, returned = False)"
   ]
  },
  {
   "cell_type": "code",
   "execution_count": 19,
   "id": "bb4bc378",
   "metadata": {},
   "outputs": [
    {
     "name": "stdout",
     "output_type": "stream",
     "text": [
      "96G\timage-vehicle\r\n"
     ]
    }
   ],
   "source": [
    "!du -hs image-vehicle"
   ]
  }
 ],
 "metadata": {
  "kernelspec": {
   "display_name": "Python 3 (ipykernel)",
   "language": "python",
   "name": "python3"
  },
  "language_info": {
   "codemirror_mode": {
    "name": "ipython",
    "version": 3
   },
   "file_extension": ".py",
   "mimetype": "text/x-python",
   "name": "python",
   "nbconvert_exporter": "python",
   "pygments_lexer": "ipython3",
   "version": "3.10.12"
  }
 },
 "nbformat": 4,
 "nbformat_minor": 5
}
