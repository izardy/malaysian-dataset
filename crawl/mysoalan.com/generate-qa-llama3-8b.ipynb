{
 "cells": [
  {
   "cell_type": "code",
   "execution_count": 4,
   "id": "913afad4",
   "metadata": {},
   "outputs": [],
   "source": [
    "import json\n",
    "import os"
   ]
  },
  {
   "cell_type": "code",
   "execution_count": 6,
   "id": "01bfc72f",
   "metadata": {},
   "outputs": [
    {
     "data": {
      "text/plain": [
       "2437"
      ]
     },
     "execution_count": 6,
     "metadata": {},
     "output_type": "execute_result"
    }
   ],
   "source": [
    "with open('mysoalan.com') as fopen:\n",
    "    data = json.load(fopen)\n",
    "    \n",
    "len(data)"
   ]
  },
  {
   "cell_type": "code",
   "execution_count": 7,
   "id": "f1deaf8b",
   "metadata": {},
   "outputs": [],
   "source": [
    "mapping = {}\n",
    "with open('mysoalan.com-fitz.jsonl') as fopen:\n",
    "    for l in fopen:\n",
    "        l = json.loads(l)\n",
    "        mapping[l['file']] = l['text']"
   ]
  },
  {
   "cell_type": "code",
   "execution_count": 8,
   "id": "fae251d5",
   "metadata": {},
   "outputs": [],
   "source": [
    "filtered = []\n",
    "for d in data:\n",
    "    if d['pdfLink'] is None:\n",
    "        continue\n",
    "    file = os.path.join('mysoalan.com-pdf', os.path.split(d['pdfLink'])[1])\n",
    "    if not os.path.exists(file):\n",
    "        continue\n",
    "    if file not in mapping:\n",
    "        continue\n",
    "    d['local_filename'] = file\n",
    "    d['texts'] = mapping[file]\n",
    "    filtered.append(d)"
   ]
  },
  {
   "cell_type": "code",
   "execution_count": 9,
   "id": "e24cb4ee",
   "metadata": {},
   "outputs": [
    {
     "data": {
      "text/plain": [
       "1680"
      ]
     },
     "execution_count": 9,
     "metadata": {},
     "output_type": "execute_result"
    }
   ],
   "source": [
    "len(filtered)"
   ]
  },
  {
   "cell_type": "code",
   "execution_count": 10,
   "id": "be535862",
   "metadata": {},
   "outputs": [],
   "source": [
    "# import fitz\n",
    "\n",
    "# doc = fitz.open(filtered[0]['local_filename'])\n",
    "# page = doc.load_page(0)\n",
    "# pixmap = page.get_pixmap(dpi=100)\n",
    "# img = pixmap.tobytes()\n",
    "# pixmap.save('test.jpg')"
   ]
  },
  {
   "cell_type": "code",
   "execution_count": 11,
   "id": "ae83adc3",
   "metadata": {
    "scrolled": false
   },
   "outputs": [
    {
     "data": {
      "text/plain": [
       "'                                                                                                                                                                                                                                               SULIT \\n2 \\n \\n \\n \\n \\n \\n \\n \\n \\n \\n \\n                  SULIT \\nBahagian  A \\n[30  markah] \\nJawab  semua  soalan \\n \\n                 Soalan 1 berdasarkan peta topo siri 2280/2/2019.Kaji peta ini dengan teliti sebelum menjawab soalan    \\n    \\n \\n                   berikut. \\n                                                                    58 \\n                                                                  \\n \\n \\n \\n \\n                                                                    56 \\n                                                                          04                        06 \\n \\n1.  (a) Berapakah ketinggian Bkt.Tukang dalam segi empat grid di atas? \\n \\n...................................................................................................…………………………………………… \\n \\n \\n         \\n        \\n \\n \\n \\n \\n \\n \\n \\n \\n \\n \\n  [1 markah] \\n(b) Berapakah bearing jambatan batu (RG037556) dari Bkt.Tukang (RG048570) ? \\n \\n…………………………………………………………………………………………………….……….……….. \\n            [2 markah] \\n                                           \\n(c) Ismail tinggal di Pekan Rabu Sekoh (RG 027600).Beliau bekerja sebagai pengawai JKR  \\ndi Ladang Takur (RG 037562).Berapakah jarak yang di lalui oleh Ismail setiap pagi ke tempat kerja?   \\n  \\n \\n \\n         \\n \\n       ………………………………………………………………………………………………………………kilometer \\n \\n \\n \\n \\n \\n \\n \\n \\n \\n \\n \\n \\n \\n  [2 markah] \\n                 \\n                                                                   52 \\n \\n                 \\n        \\n        \\n                                                                   50 \\n \\n                                                                         03                      06 \\n \\n                 (d) (i) Mengapakah jaringan jalan raya lebih padat dalam segi empat grid di atas?                        \\n \\n                 ……………………………………………………………………………………………………….……….…………. \\n \\n                 ………………………………………………………………………………………………………………..…………. \\n \\n….………………………………………………………………………………………………………………………… \\n[2 markah] \\n \\n(ii) Terangkan kesan positif pembinaan jaringan jalan raya tersebut kepada penduduk di kawasan sekitarnya?           \\n \\n…………………………………………………….……………………….…………………………….……….……… \\n \\n ……………………………………………………………………………………………………………..……………. \\n \\n                 …………………………………………………………………………………………………………………..………. \\n          \\n \\n \\n \\n \\n \\n \\n \\n \\n \\n \\n    [2 markah]   \\n                                                                                                                                 \\n \\n      \\nLihat halaman sebelah \\n \\n \\nUntuk \\nKegunaan \\nPemeriksa \\n'"
      ]
     },
     "execution_count": 11,
     "metadata": {},
     "output_type": "execute_result"
    }
   ],
   "source": [
    "filtered[0]['texts'][0]"
   ]
  },
  {
   "cell_type": "code",
   "execution_count": 12,
   "id": "b7b11aa2",
   "metadata": {},
   "outputs": [],
   "source": [
    "!rm -rf generate-qa\n",
    "!mkdir generate-qa"
   ]
  },
  {
   "cell_type": "code",
   "execution_count": 13,
   "id": "fa854050",
   "metadata": {},
   "outputs": [
    {
     "data": {
      "text/plain": [
       "27066"
      ]
     },
     "execution_count": 13,
     "metadata": {},
     "output_type": "execute_result"
    }
   ],
   "source": [
    "results = []\n",
    "for i in range(len(filtered)):\n",
    "    for t in filtered[i]['texts']:\n",
    "        s = f\"\"\"\n",
    "        ```\n",
    "        {t}\n",
    "        ```\n",
    "\n",
    "        convert into JSON, [{{'question', 'choices'}}]\n",
    "        \"\"\".strip()\n",
    "        results.append(s)\n",
    "        \n",
    "len(results)"
   ]
  },
  {
   "cell_type": "code",
   "execution_count": 29,
   "id": "123aba72",
   "metadata": {},
   "outputs": [],
   "source": [
    "from openai import OpenAI\n",
    "\n",
    "def answer(q, i):\n",
    "    filename = f'generate-qa/{i}.json'\n",
    "    if os.path.exists(filename):\n",
    "        return\n",
    "    \n",
    "    openai = OpenAI(\n",
    "        base_url='http://localhost:8005/v1',\n",
    "        api_key='empty',\n",
    "    )\n",
    "    completion = openai.chat.completions.create(\n",
    "        model='huseinzol05/Meta-Llama-3-8B-Instruct-fix-tokenizer',\n",
    "        messages=[{'role': 'user', 'content': q}],\n",
    "        temperature=0.9,\n",
    "        max_tokens=1024,\n",
    "        top_p=0.95,\n",
    "    )\n",
    "    r = completion.choices[0].message.content\n",
    "    \n",
    "    with open(filename, 'w') as fopen:\n",
    "        json.dump(r, fopen)"
   ]
  },
  {
   "cell_type": "code",
   "execution_count": 15,
   "id": "05368d25",
   "metadata": {},
   "outputs": [],
   "source": [
    "openai = OpenAI(\n",
    "    base_url='http://localhost:8005/v1',\n",
    "    api_key='empty',\n",
    ")"
   ]
  },
  {
   "cell_type": "code",
   "execution_count": 16,
   "id": "68e2b8a5",
   "metadata": {},
   "outputs": [],
   "source": [
    "completion = openai.chat.completions.create(\n",
    "    model='huseinzol05/Meta-Llama-3-8B-Instruct-fix-tokenizer',\n",
    "    messages=[{'role': 'user', 'content': 'hello'}],\n",
    "    temperature=0.9,\n",
    "    max_tokens=1024,\n",
    "    top_p=0.95,\n",
    ")"
   ]
  },
  {
   "cell_type": "code",
   "execution_count": 26,
   "id": "7f26ef02",
   "metadata": {},
   "outputs": [],
   "source": [
    "def consumer(queue, name):\n",
    "    while True:\n",
    "        if queue.qsize() == 0:\n",
    "            break\n",
    "        item = queue.get()\n",
    "        answer(*item)\n",
    "    print(f'consumer {name} done')"
   ]
  },
  {
   "cell_type": "code",
   "execution_count": 27,
   "id": "ba0778c3",
   "metadata": {},
   "outputs": [],
   "source": [
    "urls = [(q, no) for no, q in enumerate(results)]"
   ]
  },
  {
   "cell_type": "code",
   "execution_count": 30,
   "id": "cf912a49",
   "metadata": {},
   "outputs": [],
   "source": [
    "answer(*urls[10003])"
   ]
  },
  {
   "cell_type": "code",
   "execution_count": 32,
   "id": "aed13e67",
   "metadata": {},
   "outputs": [],
   "source": [
    "from threading import Thread\n",
    "from queue import Queue\n",
    "from tqdm import tqdm\n",
    "\n",
    "queue = Queue()\n",
    "for u in urls:\n",
    "    queue.put(u)\n",
    "    \n",
    "ori_size = queue.qsize()"
   ]
  },
  {
   "cell_type": "code",
   "execution_count": 33,
   "id": "32a3521a",
   "metadata": {},
   "outputs": [
    {
     "name": "stderr",
     "output_type": "stream",
     "text": [
      "100%|████████████████████████████████████████████████████████████████████████▉| 27065/27066 [2:22:28<00:00,  3.17it/s]\n"
     ]
    },
    {
     "name": "stdout",
     "output_type": "stream",
     "text": [
      "consumer 26 done\n",
      "consumer 18 done\n",
      "consumer 31 done\n",
      "consumer 7 done\n",
      "consumer 0 done\n",
      "consumer 30 done\n",
      "consumer 44 done\n",
      "consumer 15 doneconsumer 34 done\n",
      "\n",
      "consumer 17 done\n",
      "consumer 39 done\n",
      "consumer 41 done\n",
      "consumer 6 done\n",
      "consumer 8 done\n",
      "consumer 11 doneconsumer 40 done\n",
      "\n",
      "consumer 33 done\n",
      "consumer 46 done\n",
      "consumer 37 done\n",
      "consumer 43 done\n",
      "consumer 36 done\n",
      "consumer 24 done\n",
      "consumer 16 done\n",
      "consumer 22 done\n",
      "consumer 14 done\n",
      "consumer 23 done\n",
      "consumer 20 done\n",
      "consumer 28 done\n",
      "consumer 9 done\n",
      "consumer 1 done\n",
      "consumer 42 done\n",
      "consumer 32 done\n",
      "consumer 25 done\n",
      "consumer 27 done\n",
      "consumer 10 done\n",
      "consumer 29 done\n",
      "consumer 35 done\n",
      "consumer 21 done\n",
      "consumer 45 done\n",
      "consumer 47 done\n",
      "consumer 19 done\n",
      "consumer 49 done\n",
      "consumer 13 done\n",
      "consumer 12 done\n",
      "consumer 2 done\n",
      "consumer 4 done\n",
      "consumer 48 done\n",
      "consumer 38 done\n",
      "consumer 5 done\n",
      "consumer 3 done\n"
     ]
    }
   ],
   "source": [
    "max_worker = 50\n",
    "consumers = [Thread(target=consumer, args=(queue,i)) for i in range(max_worker)]\n",
    "for i in range(len(consumers)):\n",
    "    consumers[i].start()\n",
    "    \n",
    "pbar = tqdm(total=ori_size)\n",
    "last_size = 0\n",
    "while True:\n",
    "    size = queue.qsize()\n",
    "    if size == 0:\n",
    "        break\n",
    "    left = ori_size - size\n",
    "    minus = left - last_size\n",
    "    if minus > 0:\n",
    "        pbar.update(minus)\n",
    "        last_size += minus\n",
    "\n",
    "pbar.close()"
   ]
  },
  {
   "cell_type": "code",
   "execution_count": 38,
   "id": "2f9faf63",
   "metadata": {},
   "outputs": [],
   "source": [
    "with open('mysoalan.com-llama3-8b.jsonl', 'w') as fopen_l:\n",
    "    index = 0\n",
    "    for i in range(len(filtered)):\n",
    "        r = []\n",
    "        for t in filtered[i]['texts']:\n",
    "            filename = f'generate-qa/{index}.json'\n",
    "            with open(filename) as fopen:\n",
    "                d = json.load(fopen)\n",
    "            r.append(d)\n",
    "            index += 1\n",
    "\n",
    "        filtered[i]['generated'] = r\n",
    "        fopen_l.write(f'{json.dumps(filtered[i])}\\n')"
   ]
  },
  {
   "cell_type": "code",
   "execution_count": 39,
   "id": "8ac0231e",
   "metadata": {},
   "outputs": [],
   "source": [
    "from huggingface_hub import HfApi\n",
    "api = HfApi()"
   ]
  },
  {
   "cell_type": "code",
   "execution_count": 40,
   "id": "4655a8c6",
   "metadata": {},
   "outputs": [
    {
     "data": {
      "application/vnd.jupyter.widget-view+json": {
       "model_id": "984729fdb3964ed39fa4e68201fd3824",
       "version_major": 2,
       "version_minor": 0
      },
      "text/plain": [
       "mysoalan.com-llama3-8b.jsonl:   0%|          | 0.00/46.8M [00:00<?, ?B/s]"
      ]
     },
     "metadata": {},
     "output_type": "display_data"
    },
    {
     "data": {
      "text/plain": [
       "CommitInfo(commit_url='https://huggingface.co/datasets/malaysia-ai/mysoalan.com/commit/870bdbc88c0394c9f72d80862a7cb0cbf5e34ae4', commit_message='Upload mysoalan.com-llama3-8b.jsonl with huggingface_hub', commit_description='', oid='870bdbc88c0394c9f72d80862a7cb0cbf5e34ae4', pr_url=None, pr_revision=None, pr_num=None)"
      ]
     },
     "execution_count": 40,
     "metadata": {},
     "output_type": "execute_result"
    }
   ],
   "source": [
    "api.upload_file(\n",
    "    path_or_fileobj='mysoalan.com-llama3-8b.jsonl',\n",
    "    path_in_repo='mysoalan.com-llama3-8b.jsonl',\n",
    "    repo_id='malaysia-ai/mysoalan.com',\n",
    "    repo_type='dataset',\n",
    ")"
   ]
  }
 ],
 "metadata": {
  "kernelspec": {
   "display_name": "Python 3 (ipykernel)",
   "language": "python",
   "name": "python3"
  },
  "language_info": {
   "codemirror_mode": {
    "name": "ipython",
    "version": 3
   },
   "file_extension": ".py",
   "mimetype": "text/x-python",
   "name": "python",
   "nbconvert_exporter": "python",
   "pygments_lexer": "ipython3",
   "version": "3.8.10"
  }
 },
 "nbformat": 4,
 "nbformat_minor": 5
}
