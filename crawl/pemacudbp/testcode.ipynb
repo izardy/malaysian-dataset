{
 "cells": [
  {
   "cell_type": "code",
   "execution_count": null,
   "metadata": {},
   "outputs": [],
   "source": [
    "# get all the downloadable links\n",
    "# pip install duckduckgo-search\n",
    "# pip install google-api-python-client\n",
    "\n",
    "from duckduckgo_search import DDGS\n",
    "import json\n",
    "import pandas as pd\n",
    "\n",
    "data=[]\n",
    "\n",
    "# Search query\n",
    "query = \"pemacudbp.dbp.gov.my/fm/\"\n",
    "\n",
    "# Search results\n",
    "results = DDGS().text(query, max_results=1000)\n",
    "\n",
    "for result in results:\n",
    "    data.append(result['href'])\n",
    "    \n",
    "# Drop duplicates in data list\n",
    "data = list(dict.fromkeys(data))\n",
    "\n",
    "pd.DataFrame(data,columns=['href']).to_csv('duckduckgo_results.csv', index=False)"
   ]
  },
  {
   "cell_type": "code",
   "execution_count": null,
   "metadata": {},
   "outputs": [],
   "source": [
    "import pandas as pd\n",
    "from random import randint\n",
    "\n",
    "try:\n",
    "    from googlesearch import search\n",
    "except ImportError: \n",
    "    print(\"No module named 'google' found\")\n",
    "\n",
    "data=[]\n",
    "\n",
    "# to search\n",
    "query = \"site:pemacudbp.dbp.gov.my/fm/ filetype:pdf\"\n",
    "\n",
    "links=search(query, num=25, stop=300, pause=randint(10,20))\n",
    "\n",
    "for link in links:\n",
    "    pd.DataFrame(data,columns=['url']).to_csv('google_results.csv', index=False)\n",
    "    data.append(link)\n",
    "    \n",
    "\n",
    "# Drop duplicates in data list\n",
    "# data = list(dict.fromkeys(data))\n"
   ]
  },
  {
   "cell_type": "code",
   "execution_count": null,
   "metadata": {},
   "outputs": [],
   "source": [
    "import os\n",
    "import pandas as pd \n",
    "links=pd.read_csv(\"google_results.csv\")#['url'].to_list()\n",
    "links"
   ]
  },
  {
   "cell_type": "code",
   "execution_count": null,
   "metadata": {},
   "outputs": [],
   "source": [
    "import os \n",
    "os.getcwd()\n",
    "os.chdir(\"../.../../../../../\")\n",
    "os.getcwd()\n",
    "#os.mkdir('tmp')\n",
    "os.chdir('tmp')\n",
    "os.listdir()"
   ]
  },
  {
   "cell_type": "code",
   "execution_count": null,
   "metadata": {},
   "outputs": [],
   "source": [
    "links['id']=links['url'].str.extract(r'ti=([\\w]+)&')\n",
    "links\n"
   ]
  },
  {
   "cell_type": "code",
   "execution_count": null,
   "metadata": {},
   "outputs": [],
   "source": [
    "# remove \".pdf\" \n",
    "import os\n",
    "import pandas as pd\n",
    "compare_table=pd.DataFrame(os.listdir(),columns=['id'])\n",
    "compare_table['id']=compare_table['id'].str.replace('.pdf','')\n",
    "compare_table['status']='downloaded'\n",
    "\n",
    "\n"
   ]
  },
  {
   "cell_type": "code",
   "execution_count": null,
   "metadata": {},
   "outputs": [],
   "source": [
    "links=pd.merge(links,compare_table,how='left',on=\"id\")\n",
    "links=links[links['status'].isnull()]\n",
    "links"
   ]
  },
  {
   "cell_type": "code",
   "execution_count": null,
   "metadata": {},
   "outputs": [],
   "source": [
    "links=links['url'].to_list()"
   ]
  },
  {
   "cell_type": "code",
   "execution_count": null,
   "metadata": {},
   "outputs": [],
   "source": [
    "import requests\n",
    "import re\n",
    "import time\n",
    "pattern = r'ti=([\\w]+)&'\n",
    "\n",
    "for link in links:\n",
    "    # timeout to avoid blocking\n",
    "    time.sleep(randint(5,10))\n",
    "    \n",
    "    print(link)\n",
    "    try:\n",
    "        match = re.search(pattern, link)\n",
    "        r=requests.get(link,allow_redirects=True)\n",
    "        \n",
    "        #if no respond continue\n",
    "        if r.status_code != 200:\n",
    "            print(r.status_code)\n",
    "            pass\n",
    "        else:\n",
    "            print(r.status_code)\n",
    "            open(str(match.group(1))+'.pdf', 'wb').write(r.content)\n",
    "    except:\n",
    "        continue"
   ]
  },
  {
   "cell_type": "code",
   "execution_count": null,
   "metadata": {},
   "outputs": [],
   "source": [
    "# langchain to parse pdf to text\n",
    "from langchain.document_loaders import PyPDFLoader\n",
    "\n",
    "loader = PyPDFLoader(os.listdir()[0])\n",
    "documents = loader.load()\n",
    "\n",
    "# pdf to text\n",
    "ttl_page=0\n",
    "\n",
    "text=''\n",
    "\n",
    "while ttl_page<len(loader.load()):\n",
    "    for document in documents:\n",
    "        text+=' '+document.page_content"
   ]
  }
 ],
 "metadata": {
  "kernelspec": {
   "display_name": "apps",
   "language": "python",
   "name": "python3"
  },
  "language_info": {
   "codemirror_mode": {
    "name": "ipython",
    "version": 3
   },
   "file_extension": ".py",
   "mimetype": "text/x-python",
   "name": "python",
   "nbconvert_exporter": "python",
   "pygments_lexer": "ipython3",
   "version": "3.10.15"
  }
 },
 "nbformat": 4,
 "nbformat_minor": 2
}
