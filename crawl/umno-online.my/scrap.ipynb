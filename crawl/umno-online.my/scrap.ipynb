{
 "cells": [
  {
   "cell_type": "code",
   "execution_count": 23,
   "metadata": {},
   "outputs": [],
   "source": [
    "# Import Libraries and Packages\n",
    "import pandas as pd\n",
    "from tqdm import tqdm\n",
    "import json\n",
    "\n",
    "from bs4 import BeautifulSoup \n",
    "import requests  \n",
    "\n",
    "pd.set_option(\"display.max_colwidth\", None)"
   ]
  },
  {
   "cell_type": "code",
   "execution_count": 22,
   "metadata": {},
   "outputs": [],
   "source": [
    "# Set Headers\n",
    "HEADERS = {\n",
    "    \"User-Agent\": \"Mozilla/5.0 (Windows NT 10.0; Win64; x64; rv:98.0) Gecko/20100101 Firefox/98.0\",\n",
    "    \"Accept\": \"text/html,application/xhtml+xml,application/xml;q=0.9,image/avif,image/webp,*/*;q=0.8\",\n",
    "    \"Accept-Language\": \"en-US,en;q=0.5\",\n",
    "    \"Accept-Encoding\": \"gzip, deflate\",\n",
    "    \"Connection\": \"keep-alive\",\n",
    "    \"Upgrade-Insecure-Requests\": \"1\",\n",
    "    \"Sec-Fetch-Dest\": \"document\",\n",
    "    \"Sec-Fetch-Mode\": \"navigate\",\n",
    "    \"Sec-Fetch-Site\": \"none\",\n",
    "    \"Sec-Fetch-User\": \"?1\",\n",
    "    \"Cache-Control\": \"max-age=0\",\n",
    "    }"
   ]
  },
  {
   "cell_type": "code",
   "execution_count": 39,
   "metadata": {},
   "outputs": [],
   "source": [
    "def scrapArticleContent(url):\n",
    "    response = requests.get(url, headers=HEADERS)\n",
    "    soup = BeautifulSoup(response.content, 'html.parser')\n",
    "    article_content = soup.find_all(\"div\", class_='entry clearfix')\n",
    "    content_text = []\n",
    "    for parag in article_content:\n",
    "        sentences = parag.find_all('p')\n",
    "        for sentence in sentences:\n",
    "            text = sentence.get_text()\n",
    "            content_text.append(text)\n",
    "    return content_text\n",
    "\n",
    "def scrapArticleLinkAndContent(page_num):\n",
    "    web_url = f\"https://umno-online.my/berita/rencana-suara-blogger/page/{page_num}/\"\n",
    "    response = requests.get(web_url, headers=HEADERS)\n",
    "    soup = BeautifulSoup(response.content, 'html.parser')\n",
    "    article_list = soup.find_all(\"div\", class_='entry clearfix')\n",
    "    data = []\n",
    "    for article_tag in article_list:\n",
    "        link = article_tag.find('a')\n",
    "        if link:\n",
    "            link_text = link.get('href')\n",
    "            content = scrapArticleContent(link_text)\n",
    "            data.append({'link': link_text, 'text': content})\n",
    "    return data\n",
    "\n",
    "def scrapAllArticles(start_page, end_page):\n",
    "    all_data = []\n",
    "    for page_num in tqdm(range(start_page, end_page + 1)):\n",
    "        data = scrapArticleLinkAndContent(page_num)\n",
    "        all_data.extend(data)\n",
    "    return all_data\n",
    "\n"
   ]
  },
  {
   "cell_type": "code",
   "execution_count": 40,
   "metadata": {},
   "outputs": [
    {
     "name": "stderr",
     "output_type": "stream",
     "text": [
      "100%|██████████| 67/67 [16:09<00:00, 14.47s/it]"
     ]
    },
    {
     "name": "stdout",
     "output_type": "stream",
     "text": [
      "Data scraped successfully and saved to article_data.json.\n"
     ]
    },
    {
     "name": "stderr",
     "output_type": "stream",
     "text": [
      "\n"
     ]
    }
   ],
   "source": [
    "start_page = 1\n",
    "end_page = 67\n",
    "all_data = scrapAllArticles(start_page, end_page)\n",
    "\n",
    "# Write data to JSON file\n",
    "with open('article_data.json', 'w') as f:\n",
    "    json.dump(all_data, f, indent=4)\n",
    "\n",
    "print(\"Data scraped successfully and saved to article_data.json.\")"
   ]
  }
 ],
 "metadata": {
  "kernelspec": {
   "display_name": "malaysia-venv",
   "language": "python",
   "name": "python3"
  },
  "language_info": {
   "codemirror_mode": {
    "name": "ipython",
    "version": 3
   },
   "file_extension": ".py",
   "mimetype": "text/x-python",
   "name": "python",
   "nbconvert_exporter": "python",
   "pygments_lexer": "ipython3",
   "version": "3.11.4"
  }
 },
 "nbformat": 4,
 "nbformat_minor": 2
}
