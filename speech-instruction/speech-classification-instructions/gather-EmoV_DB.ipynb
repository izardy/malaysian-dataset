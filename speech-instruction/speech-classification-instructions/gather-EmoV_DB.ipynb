{
 "cells": [
  {
   "cell_type": "code",
   "execution_count": 1,
   "id": "9430d478",
   "metadata": {},
   "outputs": [],
   "source": [
    "import json\n",
    "import os\n",
    "from datasets import Dataset, Audio\n",
    "\n",
    "audio = Audio(sampling_rate = 16000)"
   ]
  },
  {
   "cell_type": "code",
   "execution_count": 2,
   "id": "3ade1fce",
   "metadata": {},
   "outputs": [
    {
     "data": {
      "text/plain": [
       "85"
      ]
     },
     "execution_count": 2,
     "metadata": {},
     "output_type": "execute_result"
    }
   ],
   "source": [
    "with open('emotion-questions.json') as fopen:\n",
    "    questions = json.load(fopen)\n",
    "    \n",
    "questions = [q for q in questions if len(q) > 10]\n",
    "len(questions)"
   ]
  },
  {
   "cell_type": "code",
   "execution_count": 3,
   "id": "44ff5b8c",
   "metadata": {},
   "outputs": [],
   "source": [
    "with open('EmoV_DB.json') as fopen:\n",
    "    data = json.load(fopen)"
   ]
  },
  {
   "cell_type": "code",
   "execution_count": 4,
   "id": "2bdfba40",
   "metadata": {},
   "outputs": [
    {
     "data": {
      "text/plain": [
       "6893"
      ]
     },
     "execution_count": 4,
     "metadata": {},
     "output_type": "execute_result"
    }
   ],
   "source": [
    "len(data)"
   ]
  },
  {
   "cell_type": "code",
   "execution_count": 5,
   "id": "de32ecf2",
   "metadata": {},
   "outputs": [
    {
     "data": {
      "text/plain": [
       "6893"
      ]
     },
     "execution_count": 5,
     "metadata": {},
     "output_type": "execute_result"
    }
   ],
   "source": [
    "import random\n",
    "\n",
    "gathered = []\n",
    "for i in range(len(data)):\n",
    "    filename = os.path.join('synthetic-EmoV_DB', f'{i}.json')\n",
    "    if not os.path.exists(filename):\n",
    "        continue\n",
    "    \n",
    "    with open(filename) as fopen:\n",
    "        p = json.load(fopen)['response']\n",
    "        \n",
    "    gathered.append({\n",
    "        'question': random.choice(questions),\n",
    "        'answer': p,\n",
    "        'metadata': json.dumps(data[i]),\n",
    "        'audio_filename': data[i]['filename'],\n",
    "        'source': 'CLAPv2/EmoV_DB'\n",
    "    })\n",
    "len(gathered)"
   ]
  },
  {
   "cell_type": "code",
   "execution_count": 6,
   "id": "696a39fa",
   "metadata": {},
   "outputs": [],
   "source": [
    "dataset = Dataset.from_list(gathered)"
   ]
  },
  {
   "cell_type": "code",
   "execution_count": 8,
   "id": "b7bd2142",
   "metadata": {},
   "outputs": [
    {
     "data": {
      "text/plain": [
       "{'question': 'What is the emotional character of this audio?',\n",
       " 'answer': 'The tone of the audio suggests a composed and focused individual, carrying out their tasks with a sense of calm determination. The neutral emotion reflects a state of mindfulness and steady concentration without any apparent agitation or excitement.',\n",
       " 'metadata': '{\"filename\": \"EmoV_DB_audio/EmoV_DB_data_train_train-home_knoriy_fsx_processed_datasets_EmoV_db_EmoV_DB_tars_train_375-home_knoriy_fsx_processed_datasets_EmoV_db_EmoV_DB_tars_train_325-batch147_1.wav\", \"text\": \"He made sure that the magazine was loaded, and resumed his paddling.\", \"emotion\": \"Neutral\"}',\n",
       " 'audio_filename': 'EmoV_DB_audio/EmoV_DB_data_train_train-home_knoriy_fsx_processed_datasets_EmoV_db_EmoV_DB_tars_train_375-home_knoriy_fsx_processed_datasets_EmoV_db_EmoV_DB_tars_train_325-batch147_1.wav',\n",
       " 'source': 'CLAPv2/EmoV_DB'}"
      ]
     },
     "execution_count": 8,
     "metadata": {},
     "output_type": "execute_result"
    }
   ],
   "source": [
    "dataset[1]"
   ]
  },
  {
   "cell_type": "code",
   "execution_count": 9,
   "id": "2aeefa0b",
   "metadata": {},
   "outputs": [
    {
     "data": {
      "text/plain": [
       "Dataset({\n",
       "    features: ['question', 'answer', 'metadata', 'audio_filename', 'source'],\n",
       "    num_rows: 6893\n",
       "})"
      ]
     },
     "execution_count": 9,
     "metadata": {},
     "output_type": "execute_result"
    }
   ],
   "source": [
    "dataset = dataset.cast_column(\"audio_filename\", audio)\n",
    "dataset"
   ]
  },
  {
   "cell_type": "code",
   "execution_count": 11,
   "id": "50760c54",
   "metadata": {},
   "outputs": [],
   "source": [
    "dataset.push_to_hub('mesolitica/Classification-Speech-Instructions', split = 'emotion_part2')"
   ]
  },
  {
   "cell_type": "code",
   "execution_count": null,
   "id": "b2e6a361",
   "metadata": {},
   "outputs": [],
   "source": []
  }
 ],
 "metadata": {
  "kernelspec": {
   "display_name": "python3.10",
   "language": "python",
   "name": "python3.10"
  },
  "language_info": {
   "codemirror_mode": {
    "name": "ipython",
    "version": 3
   },
   "file_extension": ".py",
   "mimetype": "text/x-python",
   "name": "python",
   "nbconvert_exporter": "python",
   "pygments_lexer": "ipython3",
   "version": "3.10.15"
  }
 },
 "nbformat": 4,
 "nbformat_minor": 5
}
