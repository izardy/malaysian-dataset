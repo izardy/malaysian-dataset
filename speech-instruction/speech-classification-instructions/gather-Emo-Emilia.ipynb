{
 "cells": [
  {
   "cell_type": "code",
   "execution_count": 1,
   "id": "9430d478",
   "metadata": {},
   "outputs": [],
   "source": [
    "import json\n",
    "import os\n",
    "from datasets import Dataset, Audio\n",
    "\n",
    "audio = Audio(sampling_rate = 16000)"
   ]
  },
  {
   "cell_type": "code",
   "execution_count": 2,
   "id": "3ade1fce",
   "metadata": {},
   "outputs": [
    {
     "data": {
      "text/plain": [
       "85"
      ]
     },
     "execution_count": 2,
     "metadata": {},
     "output_type": "execute_result"
    }
   ],
   "source": [
    "with open('emotion-questions.json') as fopen:\n",
    "    questions = json.load(fopen)\n",
    "    \n",
    "questions = [q for q in questions if len(q) > 10]\n",
    "len(questions)"
   ]
  },
  {
   "cell_type": "code",
   "execution_count": 3,
   "id": "44ff5b8c",
   "metadata": {},
   "outputs": [],
   "source": [
    "with open('emo-emilia.json') as fopen:\n",
    "    data = json.load(fopen)"
   ]
  },
  {
   "cell_type": "code",
   "execution_count": 4,
   "id": "2bdfba40",
   "metadata": {},
   "outputs": [
    {
     "data": {
      "text/plain": [
       "1400"
      ]
     },
     "execution_count": 4,
     "metadata": {},
     "output_type": "execute_result"
    }
   ],
   "source": [
    "len(data)"
   ]
  },
  {
   "cell_type": "code",
   "execution_count": 6,
   "id": "aa49b9f6",
   "metadata": {},
   "outputs": [
    {
     "data": {
      "text/plain": [
       "{'audio': 'wav/ZH_B00090_S00350_W000000.wav',\n",
       " 'emotion': 'angry',\n",
       " 'text': '那就没什么好说的了。贝利亚,就让我粉碎你的计划吧。'}"
      ]
     },
     "execution_count": 6,
     "metadata": {},
     "output_type": "execute_result"
    }
   ],
   "source": [
    "data[0]"
   ]
  },
  {
   "cell_type": "code",
   "execution_count": 7,
   "id": "de32ecf2",
   "metadata": {},
   "outputs": [
    {
     "data": {
      "text/plain": [
       "1400"
      ]
     },
     "execution_count": 7,
     "metadata": {},
     "output_type": "execute_result"
    }
   ],
   "source": [
    "import random\n",
    "\n",
    "gathered = []\n",
    "for i in range(len(data)):\n",
    "    filename = os.path.join('synthetic-Emo-Emilia', f'{i}.json')\n",
    "    if not os.path.exists(filename):\n",
    "        continue\n",
    "    \n",
    "    with open(filename) as fopen:\n",
    "        p = json.load(fopen)['response']\n",
    "        \n",
    "    gathered.append({\n",
    "        'question': random.choice(questions),\n",
    "        'answer': p,\n",
    "        'metadata': json.dumps(data[i]),\n",
    "        'audio_filename': os.path.join('Emo-Emilia', data[i]['audio']),\n",
    "        'source': 'ASLP-lab/Emo-Emilia'\n",
    "    })\n",
    "len(gathered)"
   ]
  },
  {
   "cell_type": "code",
   "execution_count": 8,
   "id": "696a39fa",
   "metadata": {},
   "outputs": [],
   "source": [
    "dataset = Dataset.from_list(gathered)"
   ]
  },
  {
   "cell_type": "code",
   "execution_count": 9,
   "id": "1a60f3b6",
   "metadata": {},
   "outputs": [
    {
     "data": {
      "text/plain": [
       "{'question': 'What is the emotional expression in this audio?',\n",
       " 'answer': \"The speaker sounds incredibly angry and determined. Their tone is fierce and suggests a strong sense of defiance and challenge. It's clear they are not backing down and are ready to show their true power.\",\n",
       " 'metadata': '{\"audio\": \"wav/ZH_B00090_S01431_W000000.wav\", \"emotion\": \"angry\", \"text\": \"\\\\u4f60\\\\u4eec\\\\u8fd9\\\\u7fa4\\\\u852c\\\\u83dc\\\\u6218\\\\u58eb\\\\u5c45\\\\u7136\\\\u8ba9\\\\u6211\\\\u51fa\\\\u4e11\\\\u63a5\\\\u4e0b\\\\u6765\\\\u770b\\\\u6211\\\\u7684\\\\u5389\\\\u5bb3\\\\u542f\\\\u52a8\\\\u524d\\\\u8fdb\\\\u6a21\\\\u5f0f\\\\u8f70\\\\u8f70\\\\u8f70\"}',\n",
       " 'audio_filename': 'Emo-Emilia/wav/ZH_B00090_S01431_W000000.wav',\n",
       " 'source': 'ASLP-lab/Emo-Emilia'}"
      ]
     },
     "execution_count": 9,
     "metadata": {},
     "output_type": "execute_result"
    }
   ],
   "source": [
    "dataset[1]"
   ]
  },
  {
   "cell_type": "code",
   "execution_count": 10,
   "id": "2aeefa0b",
   "metadata": {},
   "outputs": [
    {
     "data": {
      "text/plain": [
       "Dataset({\n",
       "    features: ['question', 'answer', 'metadata', 'audio_filename', 'source'],\n",
       "    num_rows: 1400\n",
       "})"
      ]
     },
     "execution_count": 10,
     "metadata": {},
     "output_type": "execute_result"
    }
   ],
   "source": [
    "dataset = dataset.cast_column(\"audio_filename\", audio)\n",
    "dataset"
   ]
  },
  {
   "cell_type": "code",
   "execution_count": 11,
   "id": "50760c54",
   "metadata": {},
   "outputs": [
    {
     "data": {
      "application/vnd.jupyter.widget-view+json": {
       "model_id": "0c03f1fad8e14b90a41e733641ff3346",
       "version_major": 2,
       "version_minor": 0
      },
      "text/plain": [
       "Uploading the dataset shards:   0%|          | 0/1 [00:00<?, ?it/s]"
      ]
     },
     "metadata": {},
     "output_type": "display_data"
    },
    {
     "data": {
      "application/vnd.jupyter.widget-view+json": {
       "model_id": "7fafda4da78b4a75aec28ad454bc3810",
       "version_major": 2,
       "version_minor": 0
      },
      "text/plain": [
       "Map:   0%|          | 0/1400 [00:00<?, ? examples/s]"
      ]
     },
     "metadata": {},
     "output_type": "display_data"
    },
    {
     "data": {
      "application/vnd.jupyter.widget-view+json": {
       "model_id": "a2dba1a3e19e4bba81ffb02d10286650",
       "version_major": 2,
       "version_minor": 0
      },
      "text/plain": [
       "Creating parquet from Arrow format:   0%|          | 0/14 [00:00<?, ?ba/s]"
      ]
     },
     "metadata": {},
     "output_type": "display_data"
    },
    {
     "data": {
      "application/vnd.jupyter.widget-view+json": {
       "model_id": "f364282154704ed1a5e4d64d0cc0b0ac",
       "version_major": 2,
       "version_minor": 0
      },
      "text/plain": [
       "README.md:   0%|          | 0.00/620 [00:00<?, ?B/s]"
      ]
     },
     "metadata": {},
     "output_type": "display_data"
    },
    {
     "data": {
      "text/plain": [
       "CommitInfo(commit_url='https://huggingface.co/datasets/mesolitica/Classification-Speech-Instructions/commit/1e690dc8e27f70d4aa741b833ba3b6da39baf0f8', commit_message='Upload dataset', commit_description='', oid='1e690dc8e27f70d4aa741b833ba3b6da39baf0f8', pr_url=None, repo_url=RepoUrl('https://huggingface.co/datasets/mesolitica/Classification-Speech-Instructions', endpoint='https://huggingface.co', repo_type='dataset', repo_id='mesolitica/Classification-Speech-Instructions'), pr_revision=None, pr_num=None)"
      ]
     },
     "execution_count": 11,
     "metadata": {},
     "output_type": "execute_result"
    }
   ],
   "source": [
    "dataset.push_to_hub('mesolitica/Classification-Speech-Instructions', split = 'emotion_part3')"
   ]
  },
  {
   "cell_type": "code",
   "execution_count": null,
   "id": "bf57dd32",
   "metadata": {},
   "outputs": [],
   "source": []
  }
 ],
 "metadata": {
  "kernelspec": {
   "display_name": "python3.10",
   "language": "python",
   "name": "python3.10"
  },
  "language_info": {
   "codemirror_mode": {
    "name": "ipython",
    "version": 3
   },
   "file_extension": ".py",
   "mimetype": "text/x-python",
   "name": "python",
   "nbconvert_exporter": "python",
   "pygments_lexer": "ipython3",
   "version": "3.10.15"
  }
 },
 "nbformat": 4,
 "nbformat_minor": 5
}
