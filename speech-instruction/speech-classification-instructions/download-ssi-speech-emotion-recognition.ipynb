{
 "cells": [
  {
   "cell_type": "code",
   "execution_count": 42,
   "id": "d0b29944",
   "metadata": {},
   "outputs": [],
   "source": [
    "from huggingface_hub import snapshot_download\n",
    "snapshot_download(repo_id=\"stapesai/ssi-speech-emotion-recognition\", repo_type = 'dataset',\n",
    "                  allow_patterns=\"data/*.parquet\", local_dir = 'ssi-speech-emotion-recognition')"
   ]
  },
  {
   "cell_type": "code",
   "execution_count": 40,
   "id": "c7c4aac6",
   "metadata": {},
   "outputs": [
    {
     "data": {
      "text/plain": [
       "5"
      ]
     },
     "execution_count": 40,
     "metadata": {},
     "output_type": "execute_result"
    }
   ],
   "source": [
    "from glob import glob\n",
    "import polars as pl\n",
    "import soundfile as sf\n",
    "\n",
    "files = glob('ssi-speech-emotion-recognition/data/*.parquet')\n",
    "len(files)"
   ]
  },
  {
   "cell_type": "code",
   "execution_count": 54,
   "id": "c6d89acf",
   "metadata": {},
   "outputs": [],
   "source": [
    "intensity = {\n",
    "    'HI': 'high',\n",
    "    'LO': 'low',\n",
    "    'MD': 'medium',\n",
    "    'UNK': 'unknown',\n",
    "}\n",
    "\n",
    "emotion = {\n",
    "    'ANG': 'anger',\n",
    "    'CAL': 'calm',\n",
    "    'DIS': 'disgust',\n",
    "    'FEA': 'fear',\n",
    "    'HAP': 'happy',\n",
    "    'NEU': 'neutral',\n",
    "    'SAD': 'sadness',\n",
    "    'SUR': 'surprise',\n",
    "}"
   ]
  },
  {
   "cell_type": "code",
   "execution_count": 33,
   "id": "0d47be85",
   "metadata": {},
   "outputs": [],
   "source": [
    "columns = ['text', 'emotion', 'emotion_intensity']"
   ]
  },
  {
   "cell_type": "code",
   "execution_count": 41,
   "id": "ce6c319c",
   "metadata": {},
   "outputs": [],
   "source": [
    "!mkdir ssi-speech-emotion-recognition-audio"
   ]
  },
  {
   "cell_type": "code",
   "execution_count": 55,
   "id": "302785e6",
   "metadata": {},
   "outputs": [
    {
     "data": {
      "text/plain": [
       "11681"
      ]
     },
     "execution_count": 55,
     "metadata": {},
     "output_type": "execute_result"
    }
   ],
   "source": [
    "import os\n",
    "\n",
    "data = []\n",
    "for f in files:\n",
    "    f_ = f.replace('/', '_').replace('.parquet', '')\n",
    "    df = pl.read_parquet(f)\n",
    "    for i in range(len(df)):\n",
    "        if df[i]['text'][0] == 'UNK':\n",
    "            continue\n",
    "        intens = df[i]['emotion_intensity'][0]\n",
    "        if intens not in intensity:\n",
    "            continue\n",
    "        filename = os.path.join('ssi-speech-emotion-recognition-audio', f'{f_}_{i}.wav')\n",
    "        \n",
    "        with open(filename, 'wb') as fopen:\n",
    "            fopen.write(df[i]['file_path'][0]['bytes'])\n",
    "        \n",
    "        data.append({\n",
    "            'filename': filename,\n",
    "            'text': df[i]['text'][0],\n",
    "            'emotion': emotion[df[i]['emotion'][0]],\n",
    "            'intensity': intensity.get(intens, intens),\n",
    "        })\n",
    "        \n",
    "len(data)"
   ]
  },
  {
   "cell_type": "code",
   "execution_count": 58,
   "id": "b8797b6e",
   "metadata": {},
   "outputs": [
    {
     "data": {
      "text/plain": [
       "{'filename': 'ssi-speech-emotion-recognition-audio/ssi-speech-emotion-recognition_data_train-00001-of-00003_3331.wav',\n",
       " 'text': 'Kids are talking by the door',\n",
       " 'emotion': 'surprise',\n",
       " 'intensity': 'medium'}"
      ]
     },
     "execution_count": 58,
     "metadata": {},
     "output_type": "execute_result"
    }
   ],
   "source": [
    "data[-1]"
   ]
  },
  {
   "cell_type": "code",
   "execution_count": 59,
   "id": "4983e415",
   "metadata": {},
   "outputs": [],
   "source": [
    "import json\n",
    "\n",
    "with open('ssi-speech-emotion-recognition.json', 'w') as fopen:\n",
    "    json.dump(data, fopen)"
   ]
  }
 ],
 "metadata": {
  "kernelspec": {
   "display_name": "python3.10",
   "language": "python",
   "name": "python3.10"
  },
  "language_info": {
   "codemirror_mode": {
    "name": "ipython",
    "version": 3
   },
   "file_extension": ".py",
   "mimetype": "text/x-python",
   "name": "python",
   "nbconvert_exporter": "python",
   "pygments_lexer": "ipython3",
   "version": "3.10.15"
  }
 },
 "nbformat": 4,
 "nbformat_minor": 5
}
