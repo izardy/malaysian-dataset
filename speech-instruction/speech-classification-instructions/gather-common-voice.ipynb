{
 "cells": [
  {
   "cell_type": "code",
   "execution_count": 1,
   "id": "ba89b939",
   "metadata": {},
   "outputs": [],
   "source": [
    "import json\n",
    "import os\n",
    "from datasets import Dataset, Audio\n",
    "\n",
    "audio = Audio(sampling_rate = 16000)"
   ]
  },
  {
   "cell_type": "code",
   "execution_count": 3,
   "id": "88288afb",
   "metadata": {},
   "outputs": [
    {
     "data": {
      "text/plain": [
       "27"
      ]
     },
     "execution_count": 3,
     "metadata": {},
     "output_type": "execute_result"
    }
   ],
   "source": [
    "with open('gender-age-questions.json') as fopen:\n",
    "    questions = json.load(fopen)\n",
    "    \n",
    "questions = [q for q in questions if len(q) > 10]\n",
    "len(questions)"
   ]
  },
  {
   "cell_type": "code",
   "execution_count": 4,
   "id": "ae3e3ba4",
   "metadata": {},
   "outputs": [
    {
     "data": {
      "text/plain": [
       "120"
      ]
     },
     "execution_count": 4,
     "metadata": {},
     "output_type": "execute_result"
    }
   ],
   "source": [
    "from glob import glob\n",
    "\n",
    "files = glob('common-voice-done/*.json')\n",
    "len(files)"
   ]
  },
  {
   "cell_type": "code",
   "execution_count": 5,
   "id": "1250e5f1",
   "metadata": {},
   "outputs": [],
   "source": [
    "prompts = []\n",
    "i = 0\n",
    "for f in files:\n",
    "    with open(f) as fopen:\n",
    "        d = json.load(fopen)\n",
    "    for d_ in d:\n",
    "        prompts.append((i, d_))\n",
    "        i += 1"
   ]
  },
  {
   "cell_type": "code",
   "execution_count": 6,
   "id": "4c49021b",
   "metadata": {},
   "outputs": [
    {
     "data": {
      "text/plain": [
       "(0,\n",
       " {'client_id': '9698b39cb85f238f1346eea2dba721e4e8fb440bd4d14b632aef84108f02f47d028463a7076a9eb0333b72fab260a9357f045de63eaaa3c7374ce6a692e081ba',\n",
       "  'path': 'sat_train_0/common_voice_sat_29800893.mp3',\n",
       "  'sentence': 'ᱟᱡ ᱵᱟᱵᱟ ᱛᱩᱨᱩᱭ ᱜᱮᱞ ᱴᱟᱠᱟ ᱮᱢᱟ ᱫᱮᱭᱟᱭ᱾',\n",
       "  'up_votes': 2,\n",
       "  'down_votes': 0,\n",
       "  'age': 'twenties',\n",
       "  'gender': 'male_masculine',\n",
       "  'accent': 'Western Odisha, India',\n",
       "  'locale': 'sat',\n",
       "  'segment': '',\n",
       "  'variant': '',\n",
       "  'filename': 'common-voice/sat_0.mp3'})"
      ]
     },
     "execution_count": 6,
     "metadata": {},
     "output_type": "execute_result"
    }
   ],
   "source": [
    "prompts[0]"
   ]
  },
  {
   "cell_type": "code",
   "execution_count": 24,
   "id": "242b0874",
   "metadata": {},
   "outputs": [
    {
     "data": {
      "text/plain": [
       "48767"
      ]
     },
     "execution_count": 24,
     "metadata": {},
     "output_type": "execute_result"
    }
   ],
   "source": [
    "import random\n",
    "\n",
    "gathered = []\n",
    "for p in prompts:\n",
    "    filename = os.path.join('synthetic-common-voice', f'{p[0]}.json')\n",
    "    if not os.path.exists(filename):\n",
    "        continue\n",
    "    \n",
    "    with open(filename) as fopen:\n",
    "        a = json.load(fopen)['response']\n",
    "    \n",
    "    gathered.append({\n",
    "        'question': random.choice(questions),\n",
    "        'answer': a,\n",
    "        'metadata': json.dumps(p[1]),\n",
    "        'audio_filename': p[1]['filename'],\n",
    "        'source': 'mozilla-foundation/common_voice_17_0'\n",
    "    })\n",
    "    \n",
    "len(gathered)"
   ]
  },
  {
   "cell_type": "code",
   "execution_count": 25,
   "id": "b5a03a6c",
   "metadata": {},
   "outputs": [
    {
     "data": {
      "text/plain": [
       "{'question': 'What is the gender and age of the individual in the audio sample?',\n",
       " 'answer': 'The audio features a male speaker in his twenties. His voice has a youthful tone and clarity that is typical of someone in this age range. The confidence and firmness in his speech suggest a young adult who is passionate and assertive about his stance.',\n",
       " 'metadata': '{\"client_id\": \"5131186150174a3df753fbd55ed2df89b9f9ec1cccd014f63445bd2b80ff51087efa125a289a311a3eb91bebe06b4d88e842aff27a4b8bdbed6422c6a97e1342\", \"path\": \"ru_train_0/common_voice_ru_20801077.mp3\", \"sentence\": \"\\\\u041c\\\\u044b \\\\u0431\\\\u0443\\\\u0434\\\\u0435\\\\u043c \\\\u0432\\\\u044b\\\\u0441\\\\u0442\\\\u0443\\\\u043f\\\\u0430\\\\u0442\\\\u044c \\\\u0432 \\\\u043f\\\\u043e\\\\u0434\\\\u0434\\\\u0435\\\\u0440\\\\u0436\\\\u043a\\\\u0443 \\\\u043f\\\\u0430\\\\u043b\\\\u0435\\\\u0441\\\\u0442\\\\u0438\\\\u043d\\\\u0446\\\\u0435\\\\u0432.\", \"up_votes\": 2, \"down_votes\": 0, \"age\": \"twenties\", \"gender\": \"male_masculine\", \"accent\": \"\", \"locale\": \"ru\", \"segment\": \"\", \"variant\": \"\", \"filename\": \"common-voice/ru_490.mp3\"}',\n",
       " 'audio_filename': 'common-voice/ru_490.mp3',\n",
       " 'source': 'mozilla-foundation/common_voice_17_0'}"
      ]
     },
     "execution_count": 25,
     "metadata": {},
     "output_type": "execute_result"
    }
   ],
   "source": [
    "gathered[-10]"
   ]
  },
  {
   "cell_type": "code",
   "execution_count": 26,
   "id": "fceda647",
   "metadata": {},
   "outputs": [],
   "source": [
    "dataset = Dataset.from_list(gathered)"
   ]
  },
  {
   "cell_type": "code",
   "execution_count": 27,
   "id": "bfc3f323",
   "metadata": {},
   "outputs": [
    {
     "data": {
      "text/plain": [
       "Dataset({\n",
       "    features: ['question', 'answer', 'metadata', 'audio_filename', 'source'],\n",
       "    num_rows: 48767\n",
       "})"
      ]
     },
     "execution_count": 27,
     "metadata": {},
     "output_type": "execute_result"
    }
   ],
   "source": [
    "dataset = dataset.cast_column(\"audio_filename\", audio)\n",
    "dataset"
   ]
  },
  {
   "cell_type": "code",
   "execution_count": 28,
   "id": "ba46eb18",
   "metadata": {
    "scrolled": true
   },
   "outputs": [
    {
     "data": {
      "application/vnd.jupyter.widget-view+json": {
       "model_id": "cce6fd3071cf4596b72cb18a3849c1bb",
       "version_major": 2,
       "version_minor": 0
      },
      "text/plain": [
       "Uploading the dataset shards:   0%|          | 0/5 [00:00<?, ?it/s]"
      ]
     },
     "metadata": {},
     "output_type": "display_data"
    },
    {
     "data": {
      "application/vnd.jupyter.widget-view+json": {
       "model_id": "c1b5a3826ff446e6a1ed7e1d4272709d",
       "version_major": 2,
       "version_minor": 0
      },
      "text/plain": [
       "Map:   0%|          | 0/9754 [00:00<?, ? examples/s]"
      ]
     },
     "metadata": {},
     "output_type": "display_data"
    },
    {
     "data": {
      "application/vnd.jupyter.widget-view+json": {
       "model_id": "79b3cddb80d545f994b20c42a4610cd6",
       "version_major": 2,
       "version_minor": 0
      },
      "text/plain": [
       "Creating parquet from Arrow format:   0%|          | 0/98 [00:00<?, ?ba/s]"
      ]
     },
     "metadata": {},
     "output_type": "display_data"
    },
    {
     "data": {
      "application/vnd.jupyter.widget-view+json": {
       "model_id": "59b8bc2f3aba437f85f41f71c36398d8",
       "version_major": 2,
       "version_minor": 0
      },
      "text/plain": [
       "Map:   0%|          | 0/9754 [00:00<?, ? examples/s]"
      ]
     },
     "metadata": {},
     "output_type": "display_data"
    },
    {
     "data": {
      "application/vnd.jupyter.widget-view+json": {
       "model_id": "0be51f744f344ce286794a0cce725866",
       "version_major": 2,
       "version_minor": 0
      },
      "text/plain": [
       "Creating parquet from Arrow format:   0%|          | 0/98 [00:00<?, ?ba/s]"
      ]
     },
     "metadata": {},
     "output_type": "display_data"
    },
    {
     "data": {
      "application/vnd.jupyter.widget-view+json": {
       "model_id": "b7cf90a6a6f94ae58e8f633f7f71fb40",
       "version_major": 2,
       "version_minor": 0
      },
      "text/plain": [
       "Map:   0%|          | 0/9753 [00:00<?, ? examples/s]"
      ]
     },
     "metadata": {},
     "output_type": "display_data"
    },
    {
     "data": {
      "application/vnd.jupyter.widget-view+json": {
       "model_id": "b32896bd2e3542fab6a2337067c3fa0d",
       "version_major": 2,
       "version_minor": 0
      },
      "text/plain": [
       "Creating parquet from Arrow format:   0%|          | 0/98 [00:00<?, ?ba/s]"
      ]
     },
     "metadata": {},
     "output_type": "display_data"
    },
    {
     "data": {
      "application/vnd.jupyter.widget-view+json": {
       "model_id": "d31767d5e8924054b3898a84c74a625a",
       "version_major": 2,
       "version_minor": 0
      },
      "text/plain": [
       "Map:   0%|          | 0/9753 [00:00<?, ? examples/s]"
      ]
     },
     "metadata": {},
     "output_type": "display_data"
    },
    {
     "data": {
      "application/vnd.jupyter.widget-view+json": {
       "model_id": "0ed277fbdbf54b3c9293446d07d5eb35",
       "version_major": 2,
       "version_minor": 0
      },
      "text/plain": [
       "Creating parquet from Arrow format:   0%|          | 0/98 [00:00<?, ?ba/s]"
      ]
     },
     "metadata": {},
     "output_type": "display_data"
    },
    {
     "data": {
      "application/vnd.jupyter.widget-view+json": {
       "model_id": "0f9c388703464b748129f0d94451e2a0",
       "version_major": 2,
       "version_minor": 0
      },
      "text/plain": [
       "Map:   0%|          | 0/9753 [00:00<?, ? examples/s]"
      ]
     },
     "metadata": {},
     "output_type": "display_data"
    },
    {
     "data": {
      "application/vnd.jupyter.widget-view+json": {
       "model_id": "42d94f23b31d4993b5a0d03a0f256774",
       "version_major": 2,
       "version_minor": 0
      },
      "text/plain": [
       "Creating parquet from Arrow format:   0%|          | 0/98 [00:00<?, ?ba/s]"
      ]
     },
     "metadata": {},
     "output_type": "display_data"
    },
    {
     "data": {
      "application/vnd.jupyter.widget-view+json": {
       "model_id": "b9de1a0e5b2642f68c295b3aec062e10",
       "version_major": 2,
       "version_minor": 0
      },
      "text/plain": [
       "README.md:   0%|          | 0.00/978 [00:00<?, ?B/s]"
      ]
     },
     "metadata": {},
     "output_type": "display_data"
    },
    {
     "data": {
      "text/plain": [
       "CommitInfo(commit_url='https://huggingface.co/datasets/mesolitica/Classification-Speech-Instructions/commit/98d506a3141f7292719f6ee23969bcae6990cfd1', commit_message='Upload dataset', commit_description='', oid='98d506a3141f7292719f6ee23969bcae6990cfd1', pr_url=None, repo_url=RepoUrl('https://huggingface.co/datasets/mesolitica/Classification-Speech-Instructions', endpoint='https://huggingface.co', repo_type='dataset', repo_id='mesolitica/Classification-Speech-Instructions'), pr_revision=None, pr_num=None)"
      ]
     },
     "execution_count": 28,
     "metadata": {},
     "output_type": "execute_result"
    }
   ],
   "source": [
    "dataset.push_to_hub('mesolitica/Classification-Speech-Instructions', split = 'gender_age')"
   ]
  },
  {
   "cell_type": "code",
   "execution_count": null,
   "id": "26f08ad7",
   "metadata": {},
   "outputs": [],
   "source": []
  }
 ],
 "metadata": {
  "kernelspec": {
   "display_name": "python3.10",
   "language": "python",
   "name": "python3.10"
  },
  "language_info": {
   "codemirror_mode": {
    "name": "ipython",
    "version": 3
   },
   "file_extension": ".py",
   "mimetype": "text/x-python",
   "name": "python",
   "nbconvert_exporter": "python",
   "pygments_lexer": "ipython3",
   "version": "3.10.15"
  }
 },
 "nbformat": 4,
 "nbformat_minor": 5
}
