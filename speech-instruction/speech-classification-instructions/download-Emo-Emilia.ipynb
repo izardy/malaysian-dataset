{
 "cells": [
  {
   "cell_type": "code",
   "execution_count": 3,
   "id": "c1315e98",
   "metadata": {},
   "outputs": [],
   "source": [
    "# from huggingface_hub import snapshot_download\n",
    "\n",
    "# while True:\n",
    "#     try:\n",
    "#         snapshot_download(repo_id=\"ASLP-lab/Emo-Emilia\", repo_type = 'dataset',\n",
    "#                           allow_patterns=\"wav/*.wav\", local_dir = 'Emo-Emilia')\n",
    "#         break\n",
    "#     except:\n",
    "#         pass"
   ]
  },
  {
   "cell_type": "code",
   "execution_count": 5,
   "id": "8887f2ac",
   "metadata": {},
   "outputs": [],
   "source": [
    "# !wget https://huggingface.co/datasets/ASLP-lab/Emo-Emilia/resolve/main/Emo-Emilia-ALL.jsonl"
   ]
  },
  {
   "cell_type": "code",
   "execution_count": 11,
   "id": "dde26efd",
   "metadata": {},
   "outputs": [],
   "source": [
    "import json\n",
    "\n",
    "data = []\n",
    "with open('Emo-Emilia-ALL.jsonl') as fopen:\n",
    "    for l in fopen:\n",
    "        l = json.loads(l)\n",
    "        data.append({\n",
    "            'audio': l['wav'].split('Emo-Emilia/')[1],\n",
    "            'emotion': l['emotion'],\n",
    "            'text': l['text'],\n",
    "        })"
   ]
  },
  {
   "cell_type": "code",
   "execution_count": 12,
   "id": "69f9c17c",
   "metadata": {},
   "outputs": [],
   "source": [
    "with open('emo-emilia.json', 'w') as fopen:\n",
    "    json.dump(data, fopen)"
   ]
  },
  {
   "cell_type": "code",
   "execution_count": 13,
   "id": "0f6e886a",
   "metadata": {},
   "outputs": [
    {
     "data": {
      "text/plain": [
       "1400"
      ]
     },
     "execution_count": 13,
     "metadata": {},
     "output_type": "execute_result"
    }
   ],
   "source": [
    "len(data)"
   ]
  }
 ],
 "metadata": {
  "kernelspec": {
   "display_name": "python3.10",
   "language": "python",
   "name": "python3.10"
  },
  "language_info": {
   "codemirror_mode": {
    "name": "ipython",
    "version": 3
   },
   "file_extension": ".py",
   "mimetype": "text/x-python",
   "name": "python",
   "nbconvert_exporter": "python",
   "pygments_lexer": "ipython3",
   "version": "3.10.15"
  }
 },
 "nbformat": 4,
 "nbformat_minor": 5
}
