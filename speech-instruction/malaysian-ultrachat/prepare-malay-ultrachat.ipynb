{
 "cells": [
  {
   "cell_type": "code",
   "execution_count": 1,
   "id": "1e63130f",
   "metadata": {},
   "outputs": [],
   "source": [
    "from malaysian_sft import accept, post_accept\n",
    "from collections import defaultdict\n",
    "import pandas as pd\n",
    "import os\n",
    "import json\n",
    "import random\n",
    "import re\n",
    "import malaysian_sft\n",
    "import string\n",
    "from tqdm import tqdm\n",
    "\n",
    "def reject_translate(text):\n",
    "    l = text.lower()\n",
    "    if 'terjemah' in l or 'translate' in l:\n",
    "        return True\n",
    "\n",
    "def generate_and_tokenize_prompt(row, validate = True):\n",
    "    if '<bot>:' in row['input'] and row['output'] is None:\n",
    "        inputs, outputs = [], []\n",
    "        splitted = row['input'].split('<bot>:')\n",
    "        for i in range(len(splitted) - 1):\n",
    "            if i == 0:\n",
    "                human = splitted[i].replace('<manusia>:', '')\n",
    "            else:\n",
    "                try:\n",
    "                    human = splitted[i].split('<manusia>:')[1]\n",
    "                except BaseException:\n",
    "                    continue\n",
    "            bot = splitted[i + 1].split('<manusia>:')[0]\n",
    "            inputs.append(human)\n",
    "            outputs.append(bot)\n",
    "    else:\n",
    "        inputs = [row['input']]\n",
    "        outputs = [row['output']]\n",
    "\n",
    "    chat = []\n",
    "    if row['prompt_input'] is not None and len(row['prompt_input']):\n",
    "        chat.append({'role': 'system', 'content': row['prompt_input'].strip()})\n",
    "    for input, output in zip(inputs, outputs):\n",
    "        chat.extend([\n",
    "            {'role': 'user', 'content': input.strip()},\n",
    "            {'role': 'assistant', 'content': output.strip()},\n",
    "        ])\n",
    "    if validate:\n",
    "        for c in chat:\n",
    "            if not accept(c['content']):\n",
    "                return\n",
    "    return chat"
   ]
  },
  {
   "cell_type": "code",
   "execution_count": 2,
   "id": "30f95e4a",
   "metadata": {},
   "outputs": [
    {
     "data": {
      "text/html": [
       "<div>\n",
       "<style scoped>\n",
       "    .dataframe tbody tr th:only-of-type {\n",
       "        vertical-align: middle;\n",
       "    }\n",
       "\n",
       "    .dataframe tbody tr th {\n",
       "        vertical-align: top;\n",
       "    }\n",
       "\n",
       "    .dataframe thead th {\n",
       "        text-align: right;\n",
       "    }\n",
       "</style>\n",
       "<table border=\"1\" class=\"dataframe\">\n",
       "  <thead>\n",
       "    <tr style=\"text-align: right;\">\n",
       "      <th></th>\n",
       "      <th>prompt_input</th>\n",
       "      <th>input</th>\n",
       "      <th>output</th>\n",
       "    </tr>\n",
       "  </thead>\n",
       "  <tbody>\n",
       "    <tr>\n",
       "      <th>0</th>\n",
       "      <td>None</td>\n",
       "      <td>&lt;manusia&gt;:  English \\n\\n\\n\\nconcepts of patria...</td>\n",
       "      <td>None</td>\n",
       "    </tr>\n",
       "    <tr>\n",
       "      <th>1</th>\n",
       "      <td>None</td>\n",
       "      <td>&lt;manusia&gt;: © 2022 Sains Insani  \\n\\n\\n\\n\\n\\n\\n...</td>\n",
       "      <td>None</td>\n",
       "    </tr>\n",
       "    <tr>\n",
       "      <th>2</th>\n",
       "      <td>None</td>\n",
       "      <td>&lt;manusia&gt;: a ini. Sumbang saran dilakukan supa...</td>\n",
       "      <td>None</td>\n",
       "    </tr>\n",
       "    <tr>\n",
       "      <th>3</th>\n",
       "      <td>None</td>\n",
       "      <td>&lt;manusia&gt;: 10: 3-4 (2018) 27–33 | www.sainshum...</td>\n",
       "      <td>None</td>\n",
       "    </tr>\n",
       "    <tr>\n",
       "      <th>4</th>\n",
       "      <td>None</td>\n",
       "      <td>&lt;manusia&gt;:  they lost their freedom and rights...</td>\n",
       "      <td>None</td>\n",
       "    </tr>\n",
       "  </tbody>\n",
       "</table>\n",
       "</div>"
      ],
      "text/plain": [
       "  prompt_input                                              input output\n",
       "0         None  <manusia>:  English \\n\\n\\n\\nconcepts of patria...   None\n",
       "1         None  <manusia>: © 2022 Sains Insani  \\n\\n\\n\\n\\n\\n\\n...   None\n",
       "2         None  <manusia>: a ini. Sumbang saran dilakukan supa...   None\n",
       "3         None  <manusia>: 10: 3-4 (2018) 27–33 | www.sainshum...   None\n",
       "4         None  <manusia>:  they lost their freedom and rights...   None"
      ]
     },
     "execution_count": 2,
     "metadata": {},
     "output_type": "execute_result"
    }
   ],
   "source": [
    "df = pd.read_parquet('/home/husein/ssd4/llama2/malaysian_ultrachat-00000-of-00001.parquet')\n",
    "df.head()"
   ]
  },
  {
   "cell_type": "code",
   "execution_count": 3,
   "id": "b4ed1732",
   "metadata": {
    "scrolled": false
   },
   "outputs": [
    {
     "name": "stderr",
     "output_type": "stream",
     "text": [
      "100%|█████████████████████████████████| 149054/149054 [01:32<00:00, 1618.87it/s]\n"
     ]
    },
    {
     "data": {
      "text/plain": [
       "140308"
      ]
     },
     "execution_count": 3,
     "metadata": {},
     "output_type": "execute_result"
    }
   ],
   "source": [
    "filter_ultrachat = []\n",
    "for i in tqdm(range(len(df))):\n",
    "    l = generate_and_tokenize_prompt(df.iloc[i].to_dict(), validate = False)\n",
    "    valid = True\n",
    "    for no, l_ in enumerate(l):\n",
    "        left = re.sub('[^a-z ]+', ' ', l_['content'][:20].lower())\n",
    "        left = re.sub(r'[ ]+', ' ', left).strip()\n",
    "        right = re.sub('[^a-z ]+', ' ', l[no - 1]['content'][:20].lower())\n",
    "        right = re.sub(r'[ ]+', ' ', right).strip()\n",
    "        if left[:10] == right[:10]:\n",
    "            valid = False\n",
    "            break\n",
    "        \n",
    "        if l_['role'] == 'assistant' and not post_accept(l_['content']):\n",
    "            valid = False\n",
    "            break\n",
    "            \n",
    "    if not valid:\n",
    "        continue\n",
    "    l_ = json.dumps(l).lower()\n",
    "    if 'dalam konteks di' in l_:\n",
    "        continue\n",
    "    if 'terjemah' in l_:\n",
    "        continue\n",
    "    if 'translate' in l_:\n",
    "        continue\n",
    "    if 'artikel itu' in l_:\n",
    "        continue\n",
    "    filter_ultrachat.append(l)\n",
    "    \n",
    "len(filter_ultrachat)"
   ]
  },
  {
   "cell_type": "code",
   "execution_count": 4,
   "id": "dd7bdd6b",
   "metadata": {},
   "outputs": [
    {
     "data": {
      "text/plain": [
       "173384"
      ]
     },
     "execution_count": 4,
     "metadata": {},
     "output_type": "execute_result"
    }
   ],
   "source": [
    "speakers = pd.read_parquet('dedup-malaysian-podcasts.parquet').to_dict(orient = 'records')\n",
    "parliaments = pd.read_parquet('dedup-malaysia-parliament.parquet').to_dict(orient = 'records')\n",
    "parliaments = random.sample(parliaments, 100000)\n",
    "speakers.extend(parliaments)\n",
    "len(speakers)"
   ]
  },
  {
   "cell_type": "code",
   "execution_count": 5,
   "id": "fba20d12",
   "metadata": {},
   "outputs": [],
   "source": [
    "random.shuffle(speakers)"
   ]
  },
  {
   "cell_type": "code",
   "execution_count": 6,
   "id": "6b144a00",
   "metadata": {},
   "outputs": [
    {
     "name": "stderr",
     "output_type": "stream",
     "text": [
      "100%|████████████████████████████████| 140308/140308 [00:04<00:00, 34754.32it/s]\n"
     ]
    }
   ],
   "source": [
    "import copy\n",
    "\n",
    "ultrachat = []\n",
    "index = 0\n",
    "for l in tqdm(filter_ultrachat):\n",
    "    l = copy.deepcopy(l)\n",
    "    first = l[0]['content'].split('\\n')\n",
    "    if len(first[-1].split()) < 5:\n",
    "        continue\n",
    "    if len(first) > 1:\n",
    "        l[0] = {\n",
    "            'role': 'user',\n",
    "            'content': [\n",
    "                {\n",
    "                    'type': 'text',\n",
    "                    'text': '\\n'.join(first[:-1])\n",
    "                },\n",
    "                {\n",
    "                    'type': 'text',\n",
    "                    'text': first[-1]\n",
    "                }  \n",
    "            ]\n",
    "        }\n",
    "    \n",
    "    questions = []\n",
    "    lens = []\n",
    "    for l_ in l:\n",
    "        if l_['role'] != 'user':\n",
    "            continue\n",
    "        if isinstance(l_['content'], list):\n",
    "            q = l_['content'][1]['text']\n",
    "        else:\n",
    "            q = l_['content']\n",
    "        q_ = [c for c in q if c in string.ascii_uppercase]\n",
    "        questions.append(len(q_) / len(q))\n",
    "        lens.append(len(q))\n",
    "    \n",
    "    if any([r > 0.07 for r in questions]):\n",
    "        continue\n",
    "        \n",
    "    if any([l > 350 for l in lens]):\n",
    "        continue\n",
    "        \n",
    "    ultrachat.append({\n",
    "        'voice': speakers[index],\n",
    "        'chat': l\n",
    "    })\n",
    "    index += 1"
   ]
  },
  {
   "cell_type": "code",
   "execution_count": 7,
   "id": "db437cee",
   "metadata": {
    "scrolled": false
   },
   "outputs": [
    {
     "data": {
      "text/plain": [
       "101937"
      ]
     },
     "execution_count": 7,
     "metadata": {},
     "output_type": "execute_result"
    }
   ],
   "source": [
    "len(ultrachat)"
   ]
  },
  {
   "cell_type": "code",
   "execution_count": 13,
   "id": "c36d2810",
   "metadata": {},
   "outputs": [
    {
     "data": {
      "text/plain": [
       "369386"
      ]
     },
     "execution_count": 13,
     "metadata": {},
     "output_type": "execute_result"
    }
   ],
   "source": [
    "voices = []\n",
    "for row in ultrachat:\n",
    "    voice = row['voice']\n",
    "    questions = []\n",
    "    for l_ in row['chat']:\n",
    "        if l_['role'] != 'user':\n",
    "            continue\n",
    "        if isinstance(l_['content'], list):\n",
    "            q = l_['content'][1]['text']\n",
    "        else:\n",
    "            q = l_['content']\n",
    "        questions.append(q)\n",
    "        \n",
    "    for q in questions:\n",
    "    \n",
    "        voices.append({\n",
    "            'voice': voice,\n",
    "            'question': q\n",
    "        })\n",
    "        \n",
    "len(voices)"
   ]
  },
  {
   "cell_type": "code",
   "execution_count": 17,
   "id": "bb905841",
   "metadata": {},
   "outputs": [
    {
     "data": {
      "text/plain": [
       "369386"
      ]
     },
     "execution_count": 17,
     "metadata": {},
     "output_type": "execute_result"
    }
   ],
   "source": [
    "with open('prepared-malay-ultrachat-voices.json') as fopen:\n",
    "    voices_ = json.load(fopen)\n",
    "len(voices_)"
   ]
  },
  {
   "cell_type": "code",
   "execution_count": 10,
   "id": "0b7a5ed9",
   "metadata": {},
   "outputs": [],
   "source": [
    "with open('prepared-malay-ultrachat.json', 'w') as fopen:\n",
    "    json.dump(ultrachat, fopen)"
   ]
  },
  {
   "cell_type": "code",
   "execution_count": 16,
   "id": "68664cfc",
   "metadata": {},
   "outputs": [],
   "source": [
    "with open('prepared-malay-ultrachat-voices.json', 'w') as fopen:\n",
    "    json.dump(voices, fopen)"
   ]
  },
  {
   "cell_type": "code",
   "execution_count": null,
   "id": "77a325ab",
   "metadata": {},
   "outputs": [],
   "source": [
    "from dia.model import Dia"
   ]
  },
  {
   "cell_type": "code",
   "execution_count": null,
   "id": "9d3eff43",
   "metadata": {},
   "outputs": [],
   "source": [
    "model = Dia.from_pretrained(\"mesolitica/Malaysian-Dia-1.6B\", compute_dtype=\"float16\")"
   ]
  },
  {
   "cell_type": "code",
   "execution_count": null,
   "id": "5d8d0676",
   "metadata": {
    "scrolled": false
   },
   "outputs": [],
   "source": [
    "voices[1000]"
   ]
  },
  {
   "cell_type": "code",
   "execution_count": null,
   "id": "c49afeea",
   "metadata": {},
   "outputs": [],
   "source": [
    "i = 100\n",
    "clone_from_text = f\"[S1] {voices[i]['voice']['transcription']}\"\n",
    "clone_from_audio = voices[i]['voice']['audio']\n",
    "t_ = voices[i]['question']\n",
    "text = clone_from_text + '[S1] ' + t_.strip()\n",
    "texts = [text] * 1\n",
    "clone_from_audios = [clone_from_audio] * len(texts)\n",
    "t_"
   ]
  },
  {
   "cell_type": "code",
   "execution_count": null,
   "id": "d89a0506",
   "metadata": {},
   "outputs": [],
   "source": [
    "len(t_)"
   ]
  },
  {
   "cell_type": "code",
   "execution_count": null,
   "id": "65f6e5f3",
   "metadata": {},
   "outputs": [],
   "source": [
    "output = model.generate(texts, audio_prompt=clone_from_audios, use_torch_compile=True, verbose=True, \n",
    "                        max_tokens=3000, temperature = 1.0, cfg_scale = 1.0)"
   ]
  },
  {
   "cell_type": "code",
   "execution_count": null,
   "id": "5a86f11d",
   "metadata": {},
   "outputs": [],
   "source": [
    "import IPython.display as ipd\n",
    "ipd.Audio(output, rate = 44100)"
   ]
  },
  {
   "cell_type": "code",
   "execution_count": null,
   "id": "8397609b",
   "metadata": {},
   "outputs": [],
   "source": [
    "from glob import glob\n",
    "import json\n",
    "import os\n",
    "\n",
    "files = sorted(glob('ultrachat-speech/*.json'))\n",
    "len(files)"
   ]
  },
  {
   "cell_type": "code",
   "execution_count": null,
   "id": "861c6318",
   "metadata": {},
   "outputs": [],
   "source": [
    "with open(files[351]) as fopen:\n",
    "    d = json.load(fopen)\n",
    "d"
   ]
  },
  {
   "cell_type": "code",
   "execution_count": null,
   "id": "dc3e246e",
   "metadata": {},
   "outputs": [],
   "source": [
    "import IPython.display as ipd\n",
    "ipd.Audio(d['filename_audio'], rate = 44100)"
   ]
  },
  {
   "cell_type": "code",
   "execution_count": null,
   "id": "007cc2f1",
   "metadata": {},
   "outputs": [],
   "source": [
    "os.path.getsize(files[0].replace('.json', '.mp3'))"
   ]
  },
  {
   "cell_type": "code",
   "execution_count": null,
   "id": "cff61975",
   "metadata": {},
   "outputs": [],
   "source": [
    "rejected = []\n",
    "for f in files:\n",
    "    try:\n",
    "        if os.path.getsize(f.replace('.json', '.mp3')) <= 10000:\n",
    "            rejected.append(f)\n",
    "    except:\n",
    "        pass"
   ]
  },
  {
   "cell_type": "code",
   "execution_count": null,
   "id": "ea92c774",
   "metadata": {},
   "outputs": [],
   "source": [
    "len(rejected)"
   ]
  },
  {
   "cell_type": "code",
   "execution_count": null,
   "id": "6fb926b3",
   "metadata": {},
   "outputs": [],
   "source": [
    "sizes = []\n",
    "for f in files:\n",
    "    try:\n",
    "        new_f = f.replace('.json', '.mp3')\n",
    "        sizes.append((new_f, os.path.getsize(new_f)))\n",
    "    except:\n",
    "        pass\n",
    "    \n",
    "len(sizes)"
   ]
  },
  {
   "cell_type": "code",
   "execution_count": null,
   "id": "461a9a41",
   "metadata": {},
   "outputs": [],
   "source": [
    "sorted(sizes, key = lambda x: x[1])"
   ]
  },
  {
   "cell_type": "code",
   "execution_count": null,
   "id": "d6379ddc",
   "metadata": {},
   "outputs": [],
   "source": [
    "import IPython.display as ipd\n",
    "ipd.Audio('ultrachat-speech/96731.mp3')"
   ]
  },
  {
   "cell_type": "code",
   "execution_count": null,
   "id": "fb7688bb",
   "metadata": {},
   "outputs": [],
   "source": []
  }
 ],
 "metadata": {
  "kernelspec": {
   "display_name": "python3.10",
   "language": "python",
   "name": "python3.10"
  },
  "language_info": {
   "codemirror_mode": {
    "name": "ipython",
    "version": 3
   },
   "file_extension": ".py",
   "mimetype": "text/x-python",
   "name": "python",
   "nbconvert_exporter": "python",
   "pygments_lexer": "ipython3",
   "version": "3.10.17"
  }
 },
 "nbformat": 4,
 "nbformat_minor": 5
}
