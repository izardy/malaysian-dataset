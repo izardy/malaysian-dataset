{
 "cells": [
  {
   "cell_type": "code",
   "execution_count": 14,
   "id": "d60aa509",
   "metadata": {},
   "outputs": [],
   "source": [
    "import pandas as pd\n",
    "from glob import glob\n",
    "from tqdm import tqdm\n",
    "import re\n",
    "import os"
   ]
  },
  {
   "cell_type": "code",
   "execution_count": 2,
   "id": "9802caed",
   "metadata": {},
   "outputs": [],
   "source": [
    "from huggingface_hub import hf_hub_download\n",
    "import fasttext\n",
    "\n",
    "filename = hf_hub_download(\n",
    "    repo_id=\"mesolitica/fasttext-language-detection-bahasa-en\", \n",
    "    filename=\"fasttext.ftz\"\n",
    ")\n",
    "lang_model = fasttext.load_model(filename)"
   ]
  },
  {
   "cell_type": "code",
   "execution_count": 3,
   "id": "4d08321b",
   "metadata": {},
   "outputs": [
    {
     "data": {
      "text/html": [
       "<div>\n",
       "<style scoped>\n",
       "    .dataframe tbody tr th:only-of-type {\n",
       "        vertical-align: middle;\n",
       "    }\n",
       "\n",
       "    .dataframe tbody tr th {\n",
       "        vertical-align: top;\n",
       "    }\n",
       "\n",
       "    .dataframe thead th {\n",
       "        text-align: right;\n",
       "    }\n",
       "</style>\n",
       "<table border=\"1\" class=\"dataframe\">\n",
       "  <thead>\n",
       "    <tr style=\"text-align: right;\">\n",
       "      <th></th>\n",
       "      <th>new_text</th>\n",
       "      <th>audio_filename</th>\n",
       "    </tr>\n",
       "  </thead>\n",
       "  <tbody>\n",
       "    <tr>\n",
       "      <th>0</th>\n",
       "      <td>&lt;|startoftranscript|&gt;&lt;|ms|&gt;&lt;|transcribe|&gt;&lt;|0.0...</td>\n",
       "      <td>dialects_processed/KILAUAN EMAS ZON UTARA  KEP...</td>\n",
       "    </tr>\n",
       "    <tr>\n",
       "      <th>1</th>\n",
       "      <td>&lt;|startoftranscript|&gt;&lt;|ms|&gt;&lt;|transcribe|&gt;&lt;|0.0...</td>\n",
       "      <td>dialects_processed/KILAUAN EMAS ZON UTARA  KEP...</td>\n",
       "    </tr>\n",
       "    <tr>\n",
       "      <th>2</th>\n",
       "      <td>&lt;|startoftranscript|&gt;&lt;|ms|&gt;&lt;|transcribe|&gt;&lt;|0.0...</td>\n",
       "      <td>dialects_processed/KILAUAN EMAS ZON UTARA  KEP...</td>\n",
       "    </tr>\n",
       "    <tr>\n",
       "      <th>3</th>\n",
       "      <td>&lt;|startoftranscript|&gt;&lt;|ms|&gt;&lt;|transcribe|&gt;&lt;|0.0...</td>\n",
       "      <td>dialects_processed/KILAUAN EMAS ZON UTARA  KEP...</td>\n",
       "    </tr>\n",
       "    <tr>\n",
       "      <th>4</th>\n",
       "      <td>&lt;|startoftranscript|&gt;&lt;|ms|&gt;&lt;|transcribe|&gt;&lt;|0.0...</td>\n",
       "      <td>dialects_processed/KILAUAN EMAS ZON UTARA  KEP...</td>\n",
       "    </tr>\n",
       "  </tbody>\n",
       "</table>\n",
       "</div>"
      ],
      "text/plain": [
       "                                            new_text  \\\n",
       "0  <|startoftranscript|><|ms|><|transcribe|><|0.0...   \n",
       "1  <|startoftranscript|><|ms|><|transcribe|><|0.0...   \n",
       "2  <|startoftranscript|><|ms|><|transcribe|><|0.0...   \n",
       "3  <|startoftranscript|><|ms|><|transcribe|><|0.0...   \n",
       "4  <|startoftranscript|><|ms|><|transcribe|><|0.0...   \n",
       "\n",
       "                                      audio_filename  \n",
       "0  dialects_processed/KILAUAN EMAS ZON UTARA  KEP...  \n",
       "1  dialects_processed/KILAUAN EMAS ZON UTARA  KEP...  \n",
       "2  dialects_processed/KILAUAN EMAS ZON UTARA  KEP...  \n",
       "3  dialects_processed/KILAUAN EMAS ZON UTARA  KEP...  \n",
       "4  dialects_processed/KILAUAN EMAS ZON UTARA  KEP...  "
      ]
     },
     "execution_count": 3,
     "metadata": {},
     "output_type": "execute_result"
    }
   ],
   "source": [
    "df = pd.read_parquet('dialects_segment-00000-of-00001.parquet')\n",
    "df.head()"
   ]
  },
  {
   "cell_type": "code",
   "execution_count": 4,
   "id": "898bb46c",
   "metadata": {
    "scrolled": true
   },
   "outputs": [
    {
     "data": {
      "text/plain": [
       "'Abang yakin tak, untuk mewakili Zon Utara?'"
      ]
     },
     "execution_count": 4,
     "metadata": {},
     "output_type": "execute_result"
    }
   ],
   "source": [
    "re.sub(r\"<\\|.*?\\|>\", \"\", df['new_text'].iloc[0]).strip()"
   ]
  },
  {
   "cell_type": "code",
   "execution_count": 5,
   "id": "eebdd23c",
   "metadata": {},
   "outputs": [
    {
     "data": {
      "text/plain": [
       "'__label__bahasa'"
      ]
     },
     "execution_count": 5,
     "metadata": {},
     "output_type": "execute_result"
    }
   ],
   "source": [
    "lang_model.predict(re.sub(r\"<\\|.*?\\|>\", \"\", df['new_text'].iloc[0]).strip())[0][0]"
   ]
  },
  {
   "cell_type": "code",
   "execution_count": 6,
   "id": "ba1013f3",
   "metadata": {},
   "outputs": [
    {
     "name": "stderr",
     "output_type": "stream",
     "text": [
      "100%|██████████████████████████████████████████████████████████████████████████| 1131225/1131225 [00:28<00:00, 40217.32it/s]\n"
     ]
    }
   ],
   "source": [
    "filtered = []\n",
    "for i in tqdm(range(len(df))):\n",
    "    t = re.sub(r\"<\\|.*?\\|>\", \"\", df['new_text'].iloc[i]).strip()\n",
    "    if lang_model.predict(t)[0][0] == '__label__bahasa':\n",
    "        filtered.append(df.iloc[i].to_dict())"
   ]
  },
  {
   "cell_type": "code",
   "execution_count": 7,
   "id": "cc6cfbf4",
   "metadata": {
    "scrolled": true
   },
   "outputs": [
    {
     "data": {
      "text/plain": [
       "914681"
      ]
     },
     "execution_count": 7,
     "metadata": {},
     "output_type": "execute_result"
    }
   ],
   "source": [
    "len(filtered)"
   ]
  },
  {
   "cell_type": "code",
   "execution_count": 19,
   "id": "78fc0107",
   "metadata": {},
   "outputs": [],
   "source": [
    "import random\n",
    "\n",
    "selected = random.sample(filtered, 100000)"
   ]
  },
  {
   "cell_type": "code",
   "execution_count": 20,
   "id": "be43e54a",
   "metadata": {},
   "outputs": [],
   "source": [
    "for i in range(len(selected)):\n",
    "    selected[i]['audio_filename'] = os.path.join('/home/husein/ssd3', selected[i]['audio_filename'])"
   ]
  },
  {
   "cell_type": "code",
   "execution_count": 21,
   "id": "f20864f8",
   "metadata": {},
   "outputs": [],
   "source": [
    "import json\n",
    "\n",
    "with open('filter-dialects.json', 'w') as fopen:\n",
    "    json.dump(selected, fopen)"
   ]
  },
  {
   "cell_type": "code",
   "execution_count": 22,
   "id": "93c07431",
   "metadata": {},
   "outputs": [
    {
     "data": {
      "text/plain": [
       "{'new_text': '<|startoftranscript|><|ms|><|transcribe|><|0.12|> yang ingin diberikan kepada anda,<|1.42|><|1.78|> istimewa untuk Lazada Chief Discount Officer 99 ini,<|5.46|><|endoftext|>',\n",
       " 'audio_filename': '/home/husein/ssd3/dialects_processed/[LIVE] Lazada Chief Discount Officer [azpcP3mfGyo]/[LIVE] Lazada Chief Discount Officer [azpcP3mfGyo]_194.mp3'}"
      ]
     },
     "execution_count": 22,
     "metadata": {},
     "output_type": "execute_result"
    }
   ],
   "source": [
    "selected[0]"
   ]
  },
  {
   "cell_type": "code",
   "execution_count": 23,
   "id": "83f06c91",
   "metadata": {},
   "outputs": [
    {
     "data": {
      "text/html": [
       "\n",
       "                <audio  controls=\"controls\" >\n",
       "                    <source src=\"data:audio/mpeg;base64,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\" type=\"audio/mpeg\" />\n",
       "                    Your browser does not support the audio element.\n",
       "                </audio>\n",
       "              "
      ],
      "text/plain": [
       "<IPython.lib.display.Audio object>"
      ]
     },
     "execution_count": 23,
     "metadata": {},
     "output_type": "execute_result"
    }
   ],
   "source": [
    "import IPython.display as ipd\n",
    "ipd.Audio(selected[0]['audio_filename'])"
   ]
  }
 ],
 "metadata": {
  "kernelspec": {
   "display_name": "python3.10",
   "language": "python",
   "name": "python3.10"
  },
  "language_info": {
   "codemirror_mode": {
    "name": "ipython",
    "version": 3
   },
   "file_extension": ".py",
   "mimetype": "text/x-python",
   "name": "python",
   "nbconvert_exporter": "python",
   "pygments_lexer": "ipython3",
   "version": "3.10.17"
  }
 },
 "nbformat": 4,
 "nbformat_minor": 5
}
