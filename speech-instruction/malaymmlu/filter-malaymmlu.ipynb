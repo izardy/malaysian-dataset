{
 "cells": [
  {
   "cell_type": "code",
   "execution_count": 5,
   "id": "ebf5e865",
   "metadata": {},
   "outputs": [],
   "source": [
    "# !wget https://raw.githubusercontent.com/UMxYTL-AI-Labs/MalayMMLU/refs/heads/main/data/MalayMMLU_0shot.json"
   ]
  },
  {
   "cell_type": "code",
   "execution_count": 6,
   "id": "e0280c9a",
   "metadata": {},
   "outputs": [],
   "source": [
    "import re\n",
    "import json"
   ]
  },
  {
   "cell_type": "code",
   "execution_count": 7,
   "id": "266793dc",
   "metadata": {},
   "outputs": [
    {
     "data": {
      "text/plain": [
       "20437"
      ]
     },
     "execution_count": 7,
     "metadata": {},
     "output_type": "execute_result"
    }
   ],
   "source": [
    "with open('MalayMMLU_0shot.json') as fopen:\n",
    "    d = json.load(fopen)\n",
    "\n",
    "rejected = ['II', '#', '<', '+', '~', '*']\n",
    "\n",
    "ABCDE = 'ABCDE'\n",
    "sound = {\n",
    "    'A': 'Aee',\n",
    "    'B': 'Bee',\n",
    "    'C': 'See',\n",
    "    'D': 'Dee',\n",
    "    'E': 'Eee',\n",
    "}\n",
    "\n",
    "filtered = []\n",
    "original = []\n",
    "for d_ in d:\n",
    "    if len(re.findall(r'\\b\\d+\\b', d_['prompt'])):\n",
    "        continue\n",
    "    \n",
    "    if any([r in d_['prompt'] for r in rejected]):\n",
    "        continue\n",
    "    \n",
    "    t = d_['prompt'].replace('\\n', ' ')\n",
    "    \n",
    "    for k, v in sound.items():\n",
    "        t = t.replace(f'{k}.', f'. {v} . ')\n",
    "        \n",
    "    t = re.sub(r'\\.{3,}', ', Tempat Kosong , ', t)\n",
    "    t = re.sub(r'_{3,}', ', Tempat Kosong , ', t)\n",
    "    \n",
    "    t = re.sub(r'[ ]+', ' ', t + ' .').strip()\n",
    "    \n",
    "    filtered.append({\n",
    "        'question': d_['prompt'],\n",
    "        'pronunciation': t,\n",
    "        'answer': d_['answer']\n",
    "    })\n",
    "    original.append(d_)\n",
    "    \n",
    "len(filtered)"
   ]
  },
  {
   "cell_type": "code",
   "execution_count": 8,
   "id": "7a6dabdf",
   "metadata": {},
   "outputs": [],
   "source": [
    "with open('filter-dialects.json') as fopen:\n",
    "    speakers = json.load(fopen)"
   ]
  },
  {
   "cell_type": "code",
   "execution_count": 9,
   "id": "b64a64f1",
   "metadata": {},
   "outputs": [],
   "source": [
    "import random\n",
    "\n",
    "s = random.sample(speakers, k = len(filtered))\n",
    "for i in range(len(s)):\n",
    "    t = re.sub(r\"<\\|.*?\\|>\", \"\", s[i]['new_text']).strip()\n",
    "    s[i]['transcription'] = t\n",
    "    s[i].pop('new_text', None)\n",
    "    s[i]['audio'] = s[i].pop('audio_filename')\n",
    "\n",
    "for i in range(len(filtered)):\n",
    "    filtered[i]['speaker'] = s[i]\n",
    "    \n",
    "with open('malaymmlu.json', 'w') as fopen:\n",
    "    json.dump(filtered, fopen)\n",
    "    \n",
    "with open('filtered-malaymmlu.json', 'w') as fopen:\n",
    "    json.dump(original, fopen)"
   ]
  },
  {
   "cell_type": "code",
   "execution_count": 10,
   "id": "e551aee9",
   "metadata": {},
   "outputs": [
    {
     "data": {
      "text/plain": [
       "{'question': 'Analisis IPO adalah untuk menganalpasti data input, proses untuk mengubah nilai data kepada maklumat dan paparan OUTPUT maklumat stelah proses\\nA. Benar\\nB. Salah',\n",
       " 'pronunciation': 'Analisis IPO adalah untuk menganalpasti data input, proses untuk mengubah nilai data kepada maklumat dan paparan OUTPUT maklumat stelah proses . Aee . Benar . Bee . Salah .',\n",
       " 'answer': 'A. Benar',\n",
       " 'speaker': {'transcription': 'Atau, ia akan mengikut fasa asalnya. Ya. Jom ikuti video ni. Baik, ramai yang mengharapkan, ya,',\n",
       "  'audio': '/home/husein/ssd3/dialects_processed/MINGGU PENENTUAN BAYARAN STR FASA 3 SEBELUM AIDILADHA. [eWhWsGesfa0]/MINGGU PENENTUAN BAYARAN STR FASA 3 SEBELUM AIDILADHA. [eWhWsGesfa0]_2.mp3'}}"
      ]
     },
     "execution_count": 10,
     "metadata": {},
     "output_type": "execute_result"
    }
   ],
   "source": [
    "filtered[-4]"
   ]
  },
  {
   "cell_type": "code",
   "execution_count": 1,
   "id": "323270ec",
   "metadata": {},
   "outputs": [
    {
     "data": {
      "application/vnd.jupyter.widget-view+json": {
       "model_id": "95bd723d2a4440a79fb1bf5a04fbf9bb",
       "version_major": 2,
       "version_minor": 0
      },
      "text/plain": [
       "malaymmlu.json:   0%|          | 0.00/14.8M [00:00<?, ?B/s]"
      ]
     },
     "metadata": {},
     "output_type": "display_data"
    },
    {
     "data": {
      "text/plain": [
       "CommitInfo(commit_url='https://huggingface.co/datasets/mesolitica/Speech-Instructions-MalayMMLU/commit/b2068e4a6f1238e9ada60f5d3e2cd78669e5a76b', commit_message='Upload malaymmlu.json with huggingface_hub', commit_description='', oid='b2068e4a6f1238e9ada60f5d3e2cd78669e5a76b', pr_url=None, repo_url=RepoUrl('https://huggingface.co/datasets/mesolitica/Speech-Instructions-MalayMMLU', endpoint='https://huggingface.co', repo_type='dataset', repo_id='mesolitica/Speech-Instructions-MalayMMLU'), pr_revision=None, pr_num=None)"
      ]
     },
     "execution_count": 1,
     "metadata": {},
     "output_type": "execute_result"
    }
   ],
   "source": [
    "from huggingface_hub import HfApi\n",
    "api = HfApi()\n",
    "\n",
    "api.upload_file(\n",
    "    path_or_fileobj=\"malaymmlu.json\",\n",
    "    path_in_repo=\"malaymmlu.json\",\n",
    "    repo_id=\"mesolitica/Speech-Instructions-MalayMMLU\",\n",
    "    repo_type=\"dataset\",\n",
    ")"
   ]
  }
 ],
 "metadata": {
  "kernelspec": {
   "display_name": "python3.10",
   "language": "python",
   "name": "python3.10"
  },
  "language_info": {
   "codemirror_mode": {
    "name": "ipython",
    "version": 3
   },
   "file_extension": ".py",
   "mimetype": "text/x-python",
   "name": "python",
   "nbconvert_exporter": "python",
   "pygments_lexer": "ipython3",
   "version": "3.10.17"
  }
 },
 "nbformat": 4,
 "nbformat_minor": 5
}
