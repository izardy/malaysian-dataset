{
 "cells": [
  {
   "cell_type": "code",
   "execution_count": 3,
   "id": "42358f3d",
   "metadata": {},
   "outputs": [
    {
     "data": {
      "text/plain": [
       "515728"
      ]
     },
     "execution_count": 3,
     "metadata": {},
     "output_type": "execute_result"
    }
   ],
   "source": [
    "from glob import glob\n",
    "import os\n",
    "\n",
    "files = glob('*/*.mp3')\n",
    "files = [f for f in files if 'fail' not in f.lower() and 'dedup' not in f and 'v2' not in f]\n",
    "len(files)"
   ]
  },
  {
   "cell_type": "code",
   "execution_count": 4,
   "id": "57636015",
   "metadata": {},
   "outputs": [
    {
     "data": {
      "text/plain": [
       "{'mallm',\n",
       " 'partition-instructions-part-0',\n",
       " 'partition-instructions-part-1',\n",
       " 'partition-instructions-part-10',\n",
       " 'partition-instructions-part-11',\n",
       " 'partition-instructions-part-12',\n",
       " 'partition-instructions-part-13',\n",
       " 'partition-instructions-part-14',\n",
       " 'partition-instructions-part-15',\n",
       " 'partition-instructions-part-16',\n",
       " 'partition-instructions-part-17',\n",
       " 'partition-instructions-part-2',\n",
       " 'partition-instructions-part-3',\n",
       " 'partition-instructions-part-4',\n",
       " 'partition-instructions-part-5',\n",
       " 'partition-instructions-part-6',\n",
       " 'partition-instructions-part-7',\n",
       " 'partition-instructions-part-8',\n",
       " 'partition-instructions-part-9',\n",
       " 'short-coding-0',\n",
       " 'short-coding-1',\n",
       " 'short-coding-2',\n",
       " 'tatabahasa'}"
      ]
     },
     "execution_count": 4,
     "metadata": {},
     "output_type": "execute_result"
    }
   ],
   "source": [
    "folders = set()\n",
    "for f in files:\n",
    "    folders.add(os.path.split(f)[0])\n",
    "    \n",
    "folders"
   ]
  },
  {
   "cell_type": "code",
   "execution_count": 5,
   "id": "ee11f40f",
   "metadata": {},
   "outputs": [],
   "source": [
    "import zipfile\n",
    "import mp\n",
    "import time\n",
    "from huggingface_hub import HfFileSystem\n",
    "from huggingface_hub import HfApi\n",
    "from tqdm import tqdm\n",
    "api = HfApi()\n",
    "\n",
    "partition_size = 5e+9"
   ]
  },
  {
   "cell_type": "code",
   "execution_count": 6,
   "id": "5baca46f",
   "metadata": {},
   "outputs": [],
   "source": [
    "def loop(files):\n",
    "    files, index = files\n",
    "    current_index = 0\n",
    "    api = HfApi()\n",
    "    fs = HfFileSystem()\n",
    "    total = 0\n",
    "    temp = []\n",
    "    for i in tqdm(range(len(files))):\n",
    "        s = os.stat(files[i]).st_size\n",
    "        if s + total >= partition_size:\n",
    "            part_name = f\"speech-instructions-{index}-{current_index}.zip\"\n",
    "                \n",
    "            with zipfile.ZipFile(part_name, 'w', zipfile.ZIP_DEFLATED) as zipf:\n",
    "                for f in temp:\n",
    "                    zipf.write(f, arcname=f)\n",
    "\n",
    "            while True:\n",
    "                try:\n",
    "                    api.upload_file(\n",
    "                        path_or_fileobj=part_name,\n",
    "                        path_in_repo=part_name,\n",
    "                        repo_id=\"malaysia-ai/STT-Whisper\",\n",
    "                        repo_type=\"dataset\",\n",
    "                    )\n",
    "                    break\n",
    "                except:\n",
    "                    time.sleep(60)\n",
    "\n",
    "            os.remove(part_name)\n",
    "            \n",
    "            current_index += 1\n",
    "            temp = [files[i]]\n",
    "            total = s\n",
    "        else:\n",
    "            temp.append(files[i])\n",
    "            total += s\n",
    "        \n",
    "    if len(temp):\n",
    "        part_name = f\"speech-instructions-{index}-{current_index}.zip\"\n",
    "\n",
    "        with zipfile.ZipFile(part_name, 'w', zipfile.ZIP_DEFLATED) as zipf:\n",
    "            for f in temp:\n",
    "                zipf.write(f, arcname=f)\n",
    "\n",
    "        while True:\n",
    "            try:\n",
    "                api.upload_file(\n",
    "                    path_or_fileobj=part_name,\n",
    "                    path_in_repo=part_name,\n",
    "                    repo_id=\"malaysia-ai/STT-Whisper\",\n",
    "                    repo_type=\"dataset\",\n",
    "                )\n",
    "                break\n",
    "            except:\n",
    "                time.sleep(60)\n",
    "\n",
    "        os.remove(part_name)"
   ]
  },
  {
   "cell_type": "code",
   "execution_count": 7,
   "id": "ac0a3c50",
   "metadata": {},
   "outputs": [
    {
     "name": "stderr",
     "output_type": "stream",
     "text": [
      "100%|████████████████████████████████████████████████████████████████████████████████| 1000/1000 [00:00<00:00, 18585.10it/s]\n"
     ]
    },
    {
     "data": {
      "application/vnd.jupyter.widget-view+json": {
       "model_id": "16798c50a87f4791b851f74342877545",
       "version_major": 2,
       "version_minor": 0
      },
      "text/plain": [
       "speech-instructions-0-0.zip:   0%|          | 0.00/42.7M [00:00<?, ?B/s]"
      ]
     },
     "metadata": {},
     "output_type": "display_data"
    }
   ],
   "source": [
    "loop((files[:1000], 0))"
   ]
  },
  {
   "cell_type": "code",
   "execution_count": 9,
   "id": "a3a6db5d",
   "metadata": {},
   "outputs": [],
   "source": [
    "mp.multiprocessing(files, loop, cores = 10, returned = False)"
   ]
  }
 ],
 "metadata": {
  "kernelspec": {
   "display_name": "python3.10",
   "language": "python",
   "name": "python3.10"
  },
  "language_info": {
   "codemirror_mode": {
    "name": "ipython",
    "version": 3
   },
   "file_extension": ".py",
   "mimetype": "text/x-python",
   "name": "python",
   "nbconvert_exporter": "python",
   "pygments_lexer": "ipython3",
   "version": "3.10.15"
  }
 },
 "nbformat": 4,
 "nbformat_minor": 5
}
