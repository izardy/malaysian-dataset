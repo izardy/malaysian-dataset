{
 "cells": [
  {
   "cell_type": "code",
   "execution_count": 1,
   "id": "8823d52b",
   "metadata": {},
   "outputs": [],
   "source": [
    "import json\n",
    "import pandas as pd\n",
    "import os\n",
    "from tqdm import tqdm\n",
    "from glob import glob\n",
    "from datasets import Dataset, Audio"
   ]
  },
  {
   "cell_type": "code",
   "execution_count": 2,
   "id": "42a33402",
   "metadata": {},
   "outputs": [
    {
     "data": {
      "text/plain": [
       "['short-coding-2.json', 'short-coding-0.json', 'short-coding-1.json']"
      ]
     },
     "execution_count": 2,
     "metadata": {},
     "output_type": "execute_result"
    }
   ],
   "source": [
    "files = glob('short-coding-*.json')\n",
    "files = [f for f in files if os.path.exists(f.replace('.json', ''))]\n",
    "files"
   ]
  },
  {
   "cell_type": "code",
   "execution_count": 3,
   "id": "b294cd47",
   "metadata": {},
   "outputs": [
    {
     "name": "stderr",
     "output_type": "stream",
     "text": [
      "18990it [00:00, 177792.98it/s]\n",
      "18991it [00:00, 286692.34it/s]\n",
      "18991it [00:00, 247654.25it/s]\n"
     ]
    },
    {
     "data": {
      "text/plain": [
       "45415"
      ]
     },
     "execution_count": 3,
     "metadata": {},
     "output_type": "execute_result"
    }
   ],
   "source": [
    "filtered = []\n",
    "for f in files:\n",
    "    folder = f.replace('.json', '')\n",
    "    with open(f) as fopen:\n",
    "        data = json.load(fopen)\n",
    "    \n",
    "    for i, d in tqdm(enumerate(data)):\n",
    "        filename = os.path.join(folder, f'{i}.mp3')\n",
    "        if not os.path.exists(filename):\n",
    "            continue\n",
    "        \n",
    "        d = {\n",
    "            'question': d['question'],\n",
    "            'audio_filename': os.path.abspath(filename),\n",
    "        }\n",
    "        filtered.append(d)\n",
    "len(filtered)"
   ]
  },
  {
   "cell_type": "code",
   "execution_count": 4,
   "id": "4b55d1dd",
   "metadata": {},
   "outputs": [
    {
     "data": {
      "text/plain": [
       "{'question': 'Bagaimanakah kita boleh mengendalikan ralat pada laman web menggunakan JavaScript?',\n",
       " 'audio_filename': '/home/husein/ssd3/dataset/speech-instructions/short-coding-2/0.mp3'}"
      ]
     },
     "execution_count": 4,
     "metadata": {},
     "output_type": "execute_result"
    }
   ],
   "source": [
    "filtered[0]"
   ]
  },
  {
   "cell_type": "code",
   "execution_count": 5,
   "id": "a6359f56",
   "metadata": {},
   "outputs": [
    {
     "data": {
      "text/plain": [
       "['partition-instructions-part-7.json',\n",
       " 'partition-instructions-part-16.json',\n",
       " 'partition-instructions-part-8.json',\n",
       " 'partition-instructions-part-0.json',\n",
       " 'partition-instructions-part-2.json',\n",
       " 'partition-instructions-part-15.json',\n",
       " 'partition-instructions-part-4.json',\n",
       " 'partition-instructions-part-5.json',\n",
       " 'partition-instructions-part-6.json',\n",
       " 'partition-instructions-part-9.json',\n",
       " 'partition-instructions-part-14.json',\n",
       " 'partition-instructions-part-10.json',\n",
       " 'partition-instructions-part-3.json',\n",
       " 'partition-instructions-part-11.json',\n",
       " 'partition-instructions-part-1.json',\n",
       " 'partition-instructions-part-13.json',\n",
       " 'partition-instructions-part-17.json',\n",
       " 'partition-instructions-part-12.json']"
      ]
     },
     "execution_count": 5,
     "metadata": {},
     "output_type": "execute_result"
    }
   ],
   "source": [
    "files = glob('partition-instructions-part-*.json')\n",
    "files = [f for f in files if os.path.exists(f.replace('.json', ''))]\n",
    "files"
   ]
  },
  {
   "cell_type": "code",
   "execution_count": 6,
   "id": "789987aa",
   "metadata": {},
   "outputs": [
    {
     "name": "stderr",
     "output_type": "stream",
     "text": [
      "30000it [00:00, 230429.25it/s]\n",
      "30000it [00:00, 304629.69it/s]\n",
      "30000it [00:00, 188858.88it/s]\n",
      "30000it [00:00, 225365.72it/s]\n",
      "30000it [00:00, 190372.12it/s]\n",
      "30000it [00:00, 209378.80it/s]\n",
      "30000it [00:00, 201926.88it/s]\n",
      "30000it [00:00, 207465.92it/s]\n",
      "30000it [00:00, 246238.05it/s]\n",
      "30000it [00:00, 214927.92it/s]\n",
      "30000it [00:00, 195372.27it/s]\n",
      "30000it [00:00, 213886.34it/s]\n",
      "30000it [00:00, 187744.69it/s]\n",
      "30000it [00:00, 199697.38it/s]\n",
      "30000it [00:00, 256458.11it/s]\n",
      "30000it [00:00, 199365.47it/s]\n",
      "30000it [00:00, 241790.76it/s]\n",
      "30000it [00:00, 203523.01it/s]\n"
     ]
    },
    {
     "data": {
      "text/plain": [
       "510940"
      ]
     },
     "execution_count": 6,
     "metadata": {},
     "output_type": "execute_result"
    }
   ],
   "source": [
    "from collections import defaultdict\n",
    "\n",
    "selected = []\n",
    "already = defaultdict(set)\n",
    "count = defaultdict(int)\n",
    "for f in files:\n",
    "    folder = f.replace('.json', '')\n",
    "    with open(f) as fopen:\n",
    "        data = json.load(fopen)\n",
    "        \n",
    "    for i, d in tqdm(enumerate(data)):\n",
    "        filename = os.path.join(folder, f'{i}.mp3')\n",
    "        if not os.path.exists(filename):\n",
    "            continue\n",
    "        d.pop('prompt', None)\n",
    "        d['audio_filename'] = os.path.abspath(filename)\n",
    "        q = d['question'].lower()\n",
    "        filtered.append(d)\n",
    "        \n",
    "len(filtered)"
   ]
  },
  {
   "cell_type": "code",
   "execution_count": 7,
   "id": "91e87d8e",
   "metadata": {},
   "outputs": [],
   "source": [
    "with open('prepare-force-alignment.json', 'w') as fopen:\n",
    "    json.dump(filtered, fopen)"
   ]
  }
 ],
 "metadata": {
  "kernelspec": {
   "display_name": "python3.10",
   "language": "python",
   "name": "python3.10"
  },
  "language_info": {
   "codemirror_mode": {
    "name": "ipython",
    "version": 3
   },
   "file_extension": ".py",
   "mimetype": "text/x-python",
   "name": "python",
   "nbconvert_exporter": "python",
   "pygments_lexer": "ipython3",
   "version": "3.10.15"
  }
 },
 "nbformat": 4,
 "nbformat_minor": 5
}
