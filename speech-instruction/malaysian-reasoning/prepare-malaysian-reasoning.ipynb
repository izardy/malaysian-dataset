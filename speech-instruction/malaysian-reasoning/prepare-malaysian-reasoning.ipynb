{
 "cells": [
  {
   "cell_type": "code",
   "execution_count": 57,
   "id": "1e149b11",
   "metadata": {},
   "outputs": [],
   "source": [
    "import json\n",
    "import re\n",
    "import pandas as pd\n",
    "import random\n",
    "import string\n",
    "import os"
   ]
  },
  {
   "cell_type": "code",
   "execution_count": 3,
   "id": "760ddaca",
   "metadata": {
    "scrolled": true
   },
   "outputs": [
    {
     "data": {
      "text/plain": [
       "173384"
      ]
     },
     "execution_count": 3,
     "metadata": {},
     "output_type": "execute_result"
    }
   ],
   "source": [
    "speakers = pd.read_parquet('dedup-malaysian-podcasts.parquet').to_dict(orient = 'records')\n",
    "parliaments = pd.read_parquet('dedup-malaysia-parliament.parquet').to_dict(orient = 'records')\n",
    "parliaments = random.sample(parliaments, 100000)\n",
    "speakers.extend(parliaments)\n",
    "len(speakers)"
   ]
  },
  {
   "cell_type": "code",
   "execution_count": 39,
   "id": "15987512",
   "metadata": {},
   "outputs": [],
   "source": [
    "random.shuffle(speakers)"
   ]
  },
  {
   "cell_type": "code",
   "execution_count": 35,
   "id": "c137c553",
   "metadata": {
    "scrolled": true
   },
   "outputs": [
    {
     "data": {
      "text/plain": [
       "33785"
      ]
     },
     "execution_count": 35,
     "metadata": {},
     "output_type": "execute_result"
    }
   ],
   "source": [
    "questions = []\n",
    "with open('combined-malaysian-reasoning.jsonl') as fopen:\n",
    "    for l in fopen:\n",
    "        l = json.loads(l)\n",
    "        if len(l[1]['content']) > 350:\n",
    "            continue\n",
    "        questions.append(l)\n",
    "        \n",
    "len(questions)"
   ]
  },
  {
   "cell_type": "code",
   "execution_count": 36,
   "id": "9d3e47c7",
   "metadata": {},
   "outputs": [
    {
     "name": "stdout",
     "output_type": "stream",
     "text": [
      "Aku teringin nak cantik macam kawan kawan perempuan aku. terjemah ke inggeris baku\n",
      "Aku sentap jugak kadang kadang, yela effort aku orang tak nampak lepas tu suka suka cakap yang negatif pasal aku. terjemah ke standard english\n",
      "Bila keluar dengan kawan kawan aku yang flawless, aku dah tak malu lagi. terjemah ke standard inggeris\n",
      "Abang Abang aku adalah hasil perkahwinan abah dan isteri pertama manakala kakak dan aku anak abah dan mak aku. terjemah ke inggeris baku\n",
      "Adalah lebih baik jika mengeluarkan peluh dari liang liang pori kulit muka, muka akan nampak glowing dan pinkish akibat peredaran darah yang baik. terjemah ke standard inggeris\n",
      "Bagitau lebih lebih hampa tak kenai pun hehe. terjemah ke inggeris baku\n",
      "Kwan Kwan perempuan aku pun tak ada masalah kerja dalam bidang ni. terjemah ke standard inggeris\n",
      "Takkan dah tua tua pun nak panjat panjat berpanas. terjemah ke standard inggeris\n",
      "So aku nak tanye pendapat para engineer wanita atau engineer lelaki atau siapa siapa yang dalam bidang construction ni, what should i do? terjemah ke standard inggeris\n",
      "Dan aku taknak sia sia kan apa yang aku dah belajar apa yang aku minat sebab mak ayah aku dah susah hantar aku belajar tinggi tinggi nak tengok aku berjaya. terjemah ke standard english\n",
      "Tinggal sikit sikit je balance\". terjemah ke standard inggeris\n",
      "Mesti main kejap dengan cucu dibelai dibelai anak aku baru masuk bilik. terjemah ke standard english\n",
      "Aku termangu termangu nak jawab manakan tak ayah memandang tepat kat arah aku. terjemah ke inggeris baku\n",
      "Ayah pun menangguk perlahan perlahan. terjemah ke standard english\n",
      "Masalah dengan pekerja lagi tapi anak anak tak ada seorang pun anak lelaki ayah tanya khabar. terjemah ke inggeris baku\n",
      "Apa yang ayah usahakan sekarang ini untuk kesenangan kamu semua\" panjang kata kata ye. terjemah ke inggeris baku\n",
      "Tapi masing masing dah senang nak call pun payah\". terjemah ke standard inggeris\n",
      "Masing Masing dah besar panjang. terjemah ke standard english\n",
      "Ibu pulak nak mengalah call anak anak. terjemah ke standard english\n",
      "9Ibu pun sambung \"Ibu kalau boleh tak nak menangis sebab anak anak nanti tak bau syurga\". terjemah ke standard english\n",
      "Teresak Teresak ibu menangis. terjemah ke standard english\n",
      "Wahai anak anak sekalian jika anda terasa apa ibu ayah lakukan pada anda. terjemah ke inggeris baku\n",
      "Harta yang ditinggalkan untuk kesenangan anak anak agar tak merasa susah kemudian hari. terjemah ke standard english\n",
      "Yang ni kat Malaysia tak ada kot, I terjumpa satu ig shop ni they all jual produk produk Aveeno, tapi currently takda stock). terjemah ke standard english\n",
      "Tapi ada juga jenis kulit dehydrated dan tak berminyak (U all ni lah yang ada dry skin, pori pori u all kecil kan? terjemah ke standard inggeris\n",
      "Tapi hati hati bila pilih serum yang ada humectant, sebab kalau formulasinya tak elok (Kandungan humectant terlalu tinggi), akan menyebabkan iritasi pada kulit (Dari pengalaman I, satu muka keluar ruam). terjemah ke standard english\n",
      "Toner ni pun long story, ada yang fungsinya sebagai extended cleansing step (Kot Kot ada residue dirt kat muka kan), ada yang provide light hydration (Bukan mendalam macam serum yea), dan ada yang jenis untuk get rid of dead skin cells. terjemah ke standard english\n",
      "Apa Apa pun when it comes to skincare, ianya perlu simple tetapi effective (Effective maksudnya kulit akan improve). terjemah ke standard inggeris\n",
      "Pendapat I tentang produk lokal, boleh je pakai, tapi sebelum beli tanya dulu list of ingredients, bila dah dapat, study satu satu bahan bahan tersebut. terjemah ke inggeris baku\n",
      "Kalau seller tak nak bagi tahu, sebaiknya jangan beli untuk langkah berjaga-jaga, sekarang banyak kes kan, hati hati. terjemah ke inggeris baku\n",
      "Ilyas selalu datang rumah Maya dengan kawan kawan kelas yang lain untuk study group dan aku memang rapat dengan Maya sejak kecil and always lepak dekat rumah dia since rumah kitorang dekat je. terjemah ke standard inggeris\n",
      "Bila dah sambung belajar, macam macam orang kau akan jumpa kan. terjemah ke standard inggeris\n",
      "Dan aku tak mengharapkan apa apa dalam hubungan ni. terjemah ke standard english\n",
      "Dan aku tidak menyatakan apa apa. terjemah ke standard inggeris\n",
      "Walau apa yang dilakukan Ilyas cukup menyakitkan hati, tetapi mereka tetap meminta aku doakan yang baik baik saja buat Ilyas. terjemah ke standard english\n",
      "Bila shara cakap dia pun tidak mampu ingat memori zaman kecilnya mungkin inilah puncanya kenapa sukar untuk aku ingat memori kanak kanak ku. terjemah ke inggeris baku\n",
      "Bermula ketika mana aku sendiri pun tidak ingat tapi antara incident yang aku ingat adalah kami adik beradik dan bapak kami kerap bermain geletek geletek dan ketika geletek tu aku boleh merasakan air liur nya di sekeliling leher ku seperti mencumbui dan menghisap telinga ku. terjemah ke inggeris baku\n",
      "Ketika datang bulan kali pertama aku lebih risau aku tidak tahu dan faham ape aku risaukan tapi aku sentiasa berasa was was dirumah sendiri. terjemah ke standard inggeris\n",
      "Hari Hari aku berazam untuk cepat cepat keluar dari rumah masuk U. Alhamdullilah aku berjaya keluar. terjemah ke standard inggeris\n",
      "Natijah dari ini aku sangat takut untuk anak anak ku mendekati bapakku. terjemah ke standard inggeris\n",
      "Seboleh nya kami mengelakkan anak anak ku bersendirian dengan nya. terjemah ke inggeris baku\n",
      "Dan perasan benci akan meluap meluap muncul. terjemah ke standard english\n",
      "Dan mertua akan call suami dan saya konon macam nasihat tapi kalau dah berkali berkali saya jadi stress. terjemah ke inggeris baku\n",
      "Saya sedih sangat orang buat saya macam budak budak dan tiada maruah. terjemah ke inggeris baku\n",
      "Hingga satu hari, bapa mertua suruh suami pilih dia atau saya dan suami jawab dia pilih dua dua. terjemah ke standard inggeris\n",
      "Aku akan duduk sorang sorang di tepi-tepi. terjemah ke inggeris baku\n",
      "Bahkan kawan kawan nya pernah menegur kenapa aku selalu buat hal sendiri. terjemah ke inggeris baku\n",
      "Aku lihat sekeliling, isteri isteri kawan kawan suami aku kalau tak bersembang pon sebab melayan anak anak masing masing. terjemah ke standard english\n",
      "Disebabkan suami seorang yang mesra, dia duduk bersama bersama rakan sekerja. terjemah ke inggeris baku\n",
      "Aku tengok keliling, ada kawan kawan nya yang duduk dengan keluarga masing masing. terjemah ke inggeris baku\n",
      "Ada juga keluarga yang bawa anak anak jadi duduk sekumpulan mereka. terjemah ke standard english\n",
      "Maka aku duduk sorang sorang di belakang. terjemah ke standard inggeris\n",
      "Aku duduk saja sorang sorang. terjemah ke inggeris baku\n",
      "Aku hanya selesa dengan orang yang betul betul rapat sahaja misalnya kakak aku, suami aku. terjemah ke standard english\n",
      "Apabila ada orang ketiga (contohnya kawan kawan/keluarga suami), aku mula terasa janggal dan dipinggirkan. terjemah ke inggeris baku\n",
      "Tidaklah jatuh air mukanya di hadapan kawan kawan kerana mempunyai isteri kera sumbang macam aku. terjemah ke standard inggeris\n",
      "Ada malam aku tengok tv bersama ayah, dia akan minta aku pegang pegang anunya. terjemah ke inggeris baku\n",
      "Ini semua tempat tempat yang berlakunya perkara perkara itu semua. terjemah ke standard inggeris\n",
      "Sampai satu tahap umurku 8 tahun, masih lagi dicuba dicuba. terjemah ke inggeris baku\n",
      "Ibuku seorang saja yang bekerja dan bertungkus lumus pastikan kami anak anak cukup makan pakai. terjemah ke standard english\n",
      "Kawan Kawan sangat bahagia bila sekolah habis awal. terjemah ke standard inggeris\n",
      "Kadang Kadang aku malu sendiri dgn Allah sebab tak sabar menunggu Allah makbulkan doa aku. terjemah ke standard inggeris\n",
      "Penat lelah aku sampai kadang kadang terdetik fikiran fikiran yang negatif dalam kepala contohnya... kenapa la aku tak mati sebelum baligh lagi. terjemah ke inggeris baku\n",
      "Banyak sampai kadang kadang rasa tak tertanggung. terjemah ke inggeris baku\n",
      "Santapan rohani aku adalah tazkirah tazkirah pendek yang lalu-lalang dekat newsfeed. terjemah ke inggeris baku\n",
      "Aku pegang kuat kuat iman yang seciput tu. terjemah ke standard english\n",
      "Melalui tazkirah tu lah aku pelan pelan cuba amalkan... 1. terjemah ke standard inggeris\n",
      "Dalam perjalanan balik pulak, aku zikir pulak apa apa yang aku nak. terjemah ke standard inggeris\n",
      "Kadang Kadang baca zikir Nabi Yunus. terjemah ke standard english\n",
      "Kadang Kadang baca surah al-Ikhlas. terjemah ke standard english\n",
      "Tapi tu pun selalu lupa sbb start start enjin je radio dah berbunyi lagu best, nak nyanyi la pulak dulu, hehe. terjemah ke standard inggeris\n",
      "Janji tu je aku ulang ulang sepanjang jalan. terjemah ke inggeris baku\n",
      "Apa Apa je lah. terjemah ke standard english\n",
      "Yang ni pun aku selalu lupa (kadang kadang simply malas) tapi bila ingat, aku baca kuat kuat dlm kereta supaya anak anak aku pun dengar sama. terjemah ke standard english\n",
      "Baru Baru ni aku nekad istiqamah baca al-Quran setiap hari walaupun sekadar 1 'ain. terjemah ke standard english\n",
      "Ustaz NAK pulak kata, lagi sukar kita nak baca Quran, lagi besar pahala sebab macam yang aku cakap mula mula tadi. terjemah ke standard english\n",
      "Kadang Kadang dilema gak, series netflix yang aku tengah follow tu tak abis tengok lagi but NO. terjemah ke standard inggeris\n",
      "Kalau kaki dangdut, boleh jadi mati masa tengah gelek joli joli. terjemah ke standard inggeris\n",
      "Aku risaukan hal persekolahan dan masa depan anak anak, mak yang tua dan uzur yang aku jaga, suami yang byk commitment kerja sampai aku risaukan kesihatan dia, dan yang paling aku risaukan ialah kemampuan aku nak galas tugas berat sbg isteri, ibu, anak. terjemah ke inggeris baku\n",
      "Moga Moga mati pun dalam keadaan yang mulia. terjemah ke inggeris baku\n",
      "Macam Macam aku doa sampaikan satu tahap aku rasa mcm takde perubahan pun hidup aku. terjemah ke standard inggeris\n",
      "Stress aku bukan sikit sikit, beb! terjemah ke standard inggeris\n",
      "Aku mintak macam macam dari Dia tapi semua ikut aturan aku. terjemah ke standard english\n",
      "Aku cuma beli nasi, lauk sikit sikit, dan banyak aku beli telur. terjemah ke inggeris baku\n",
      "Aku tak beli baju atau apa apa. terjemah ke inggeris baku\n",
      "Akhirnya aku ambik inisiatif untuk makan banyak banyak supaya happy dan lupakan ex aku. terjemah ke standard english\n",
      "Aku mula fikir macam macam dan stress. terjemah ke standard english\n",
      "Tiap Tiap hari minum air milo 2x -4x sehari selama berbulan. terjemah ke standard inggeris\n",
      "Aku buat memang kaw kaw. terjemah ke standard inggeris\n",
      "Balik dari pertemuan tu, aku cadangkan pada suami agar kami putus sebab drama tadi dari kakak dia betul betul buat aku terasa diperlekehkan dan tak diterima. terjemah ke inggeris baku\n",
      "Sedara mara suami tidak ada yang tahu dan kenalan kenalan suami juga tidak ramai yang tahu akan perkahwinan kami. terjemah ke inggeris baku\n",
      "Tetapi, sebaliknya aku hanya diperkenalkan sebagai 'kawan' jika suamiku terserempak dengan kenalan kenalan keluarga kerana tidak mahu cerita kami berkahwin tanpa restu menular dan menyakiti hati keluarganya. terjemah ke inggeris baku\n",
      "Kami berkahwin bersaksikan ahli keluarga aku, kenalan kenalan aku dan wali aku yang sah. terjemah ke standard english\n",
      "Boleh google untuk jumpa beberapa kisah beliau scam perempuan perempuan Melayu. terjemah ke inggeris baku\n",
      "Dia tunjuk gambar anak anak dia Faris dan Firash kalau tak silap. terjemah ke inggeris baku\n",
      "Tapi kawan saya tak nak akaun bank saya terdedah kepada entah siapa siapa yang mungkin dia kelentong, kawan saya minta kad bank dia sendiri. terjemah ke inggeris baku\n",
      "Saya harap perkongsian saya ni dapat membantu orang orang lain. terjemah ke standard english\n",
      "Yang mana orang orang sana jenis buat hal sendiri n tak banyak bergaul n not so many kids. terjemah ke standard inggeris\n",
      "\" And she said \"tu la tak kan nk kena LEMPANG baru nak cakap\" Ngam Ngam masa dia cakap tu aku keluar bilik nak g tandas. terjemah ke inggeris baku\n",
      "Sejak tu aku jadi makin diam n tak pernah bercakap dengan dia pun, even tido sebelah sebelah. terjemah ke standard inggeris\n",
      "Pergi kelas sorang sorang, makan sorang sorang, kena cari group untuk assignment (an open post in faculty group so agak memalukan), buat assignment dgn strangers etc etc. terjemah ke standard inggeris\n",
      "Pegi sana sini sorg sorg, even dalam bilik pun sorg sorg. terjemah ke inggeris baku\n",
      "Lama Lama aku fikir, biasalah kwn dtg dan pergi. terjemah ke standard english\n",
      "Kawan Kawan lain pun semua dah move on with their lives. terjemah ke standard english\n",
      "Busy dengan hidup masing masing. terjemah ke standard inggeris\n",
      "Jadi saya akan tulis campur campur bahasa Inggeris dan juga bahasa Melayu sebab saya memang dari kecil lebih cenderung untuk campur campur dua dua bahasa tu. terjemah ke standard english\n",
      "Saya memang nak sangat kerja tapi mak saya cakap 'tak payahla, duduk rumah je' sebab tak ada sapa sapa yang boleh tolong hantarkan saya ke kerja setiap hari dan mak saya kata dia lebih suka saya ada di rumah. terjemah ke inggeris baku\n",
      "Sebabkan keluarga mak saya yg macam tu, mak saya jadi malu kepada ayah saya sebab keluarga dia yang asyik meminta meminta duit daripada ayah saya. terjemah ke inggeris baku\n",
      "Saya tak tahu macam mana lagi nak cakap dengan ayah saya atau adik adik saya. terjemah ke inggeris baku\n",
      "Jadi kalau saya takde, kurang la perbelanjaan keluarga saya untuk tanggung pelajaran saya Mak saya pulak boleh guna duit simpanan saya untuk bayar hutang hutang dia. terjemah ke standard inggeris\n",
      "Sata tahu kalau saya mati, tak boleh ubah apa apa pun. terjemah ke standard inggeris\n",
      "I never thought I would be writing at IIUM Confessions tapi harini saya rasa down sangat sangat. terjemah ke inggeris baku\n",
      "Maaf kalau cerita saya ni agak belit belit sikit. terjemah ke standard english\n",
      "Pada masa yang sama, kawan kawan satu tempat kerja, senior dan staf lain juga mengetahui yang aku masih \"mencari\". terjemah ke standard english\n",
      "Nak suruh aku cari dalam kalangan kawan kawan, aku tak banyak kawan lelaki. terjemah ke standard english\n",
      "Jadi tak hairan lah kalau tiba tiba ada orang call atau mesej minta berkenalan kan? terjemah ke standard english\n",
      "Bertanya tentang hal kerja masing masing, umur. terjemah ke standard inggeris\n",
      "Rasanya belum pernah dengar lagi kisah kawan kawan yang baru kenal melalui telefon tak sampai beberapa jam, dah mula mintak tolong dari segi kewangan. terjemah ke inggeris baku\n",
      "Benda yang terlihat remeh Kadang Kadang itulah PEMBUNUH paling ngeri kawan-kawan. terjemah ke standard inggeris\n",
      "Andai kata anda langsung tidak tahu apa itu psikology, anda hanya perlu terapkan dalam diri anak anak anda untuk sentiasa memahami keadaan seseorang. terjemah ke standard english\n",
      "Ajar anak anak anda untuk tidak terlalu cepat menilai dan menghukum seseorang. terjemah ke standard english\n",
      "Jika anda adalah ibu/ayah, didiklah anak anak anda tentang psikology. terjemah ke standard english\n",
      "Didiklah anak anda hingga timbul kesedaran di dalam diri anak anak tentang pentingnya memahami sesiapa pun. terjemah ke standard english\n",
      "Buat para guru, pensyarah, ustaz dan ustazah didik lah anak anak murid tentang psikologi personaliti. terjemah ke standard inggeris\n",
      "Lihat lah anak anak murid anda sebagai amanah daripada Allah sebagai ibu bapa kedua. terjemah ke inggeris baku\n",
      "PERHATIKAN lah anak anak murid. terjemah ke standard inggeris\n",
      "Kepada para majikan, ambil berat lah terhadap anak anak buah anda. terjemah ke standard inggeris\n",
      "Didiklah anak anak buah tentang sifat Saling bantu membantu. terjemah ke inggeris baku\n",
      "Kawan Kawan, lihat lah orang sekeliling kita. terjemah ke standard inggeris\n",
      "Masing Masing lah kita mengambil berat antara satu sama lain. terjemah ke inggeris baku\n",
      "Jika ada Kawan Kawan kita yang suka membuli, berikan dia kesedaran. terjemah ke standard english\n",
      "Saya cukup hairan dengan kumpulan kawan kawan yang saling support kejahatan ahli kumpulan. terjemah ke standard english\n"
     ]
    }
   ],
   "source": [
    "ends = set()\n",
    "\n",
    "def should_expand(word):\n",
    "    # Skip if word contains non-letters before digit (e.g., hyphen, slash)\n",
    "    if re.search(r'[^a-zA-Z](\\d+)$', word):\n",
    "        return False\n",
    "    # Skip if starts with known currency or capital letter (optional)\n",
    "    if word.startswith((\"RM\", \"USD\", \"SGD\", 'rm')):\n",
    "        return False\n",
    "    if re.fullmatch(r'[A-Z]+\\d+', word):  # e.g. A1, B3\n",
    "        return False\n",
    "    if word.isdigit():  # e.g. 10, 156\n",
    "        return False\n",
    "    return True\n",
    "\n",
    "def expand_repeated_words(text):\n",
    "    def replacer(match):\n",
    "        word = match.group(1)\n",
    "        if len(word) < 2:\n",
    "            return match.group(0)\n",
    "        num = int(match.group(2))\n",
    "        if not should_expand(match.group(0)):\n",
    "            return match.group(0)\n",
    "        return ' '.join([word] * num)\n",
    "\n",
    "    # Match words like 'satu2', 'kawan2' but not 'RM50' or 'ke-3'\n",
    "    pattern = r'\\b([a-zA-Z]+)(\\d+)\\b'\n",
    "    return re.sub(pattern, replacer, text)\n",
    "\n",
    "for i in range(len(questions)):\n",
    "    q = questions[i][1]['content']\n",
    "    pronunciation = re.sub(r'_+', ', Tempat Kosong , ', q).replace('\\n', ' ')\n",
    "    pronunciation = re.sub(r'[ ]+', ' ', pronunciation).strip()\n",
    "    questions[i][1]['pronunciation'] = pronunciation\n",
    "    if 'terjemah' in pronunciation:\n",
    "        before = pronunciation\n",
    "        pronunciation = expand_repeated_words(pronunciation)\n",
    "        if before != pronunciation:\n",
    "            print(pronunciation)\n",
    "        \n",
    "        questions[i][1]['pronunciation'] = pronunciation\n",
    "        words = pronunciation.split()\n",
    "        for w in words:\n",
    "            if w[-1] in string.digits:\n",
    "                ends.add(w)"
   ]
  },
  {
   "cell_type": "code",
   "execution_count": 37,
   "id": "88b74673",
   "metadata": {
    "scrolled": false
   },
   "outputs": [
    {
     "data": {
      "text/plain": [
       "{'(20',\n",
       " '(4-5',\n",
       " '(5-6',\n",
       " '(7',\n",
       " '000',\n",
       " '1',\n",
       " '10',\n",
       " '11',\n",
       " '12',\n",
       " '14',\n",
       " '15',\n",
       " '156',\n",
       " '2',\n",
       " '2-3',\n",
       " '20',\n",
       " '2011',\n",
       " '2016',\n",
       " '2018',\n",
       " '2019',\n",
       " '24',\n",
       " '24/7',\n",
       " '27',\n",
       " '2A2',\n",
       " '3',\n",
       " '3.00',\n",
       " '38',\n",
       " '4',\n",
       " '4.5',\n",
       " '45',\n",
       " '5',\n",
       " '500',\n",
       " '55',\n",
       " '6',\n",
       " '60',\n",
       " '7',\n",
       " '7A1',\n",
       " '8',\n",
       " '8000',\n",
       " '85',\n",
       " '9',\n",
       " 'A1',\n",
       " 'A2',\n",
       " 'B3',\n",
       " 'B5',\n",
       " 'RM34',\n",
       " 'RM50',\n",
       " 'RM500',\n",
       " 'RM600',\n",
       " 'b4',\n",
       " 'ke-3',\n",
       " 'ke-5'}"
      ]
     },
     "execution_count": 37,
     "metadata": {},
     "output_type": "execute_result"
    }
   ],
   "source": [
    "ends"
   ]
  },
  {
   "cell_type": "code",
   "execution_count": 59,
   "id": "d7aab9ed",
   "metadata": {},
   "outputs": [
    {
     "name": "stdout",
     "output_type": "stream",
     "text": [
      "mkdir: cannot create directory ‘prepare-malaysian-reasoning’: File exists\r\n"
     ]
    }
   ],
   "source": [
    "!mkdir prepare-malaysian-reasoning"
   ]
  },
  {
   "cell_type": "code",
   "execution_count": 62,
   "id": "6abfb3fd",
   "metadata": {},
   "outputs": [],
   "source": [
    "import shutil\n",
    "\n",
    "prepared = []\n",
    "for no, q in enumerate(questions):\n",
    "    splitted = os.path.split(speakers[no]['audio'])\n",
    "    new_f = os.path.join('prepare-malaysian-reasoning', splitted[1])\n",
    "    shutil.copyfile(speakers[no]['audio'], new_f)\n",
    "    prepared.append({\n",
    "        'speaker': speakers[no],\n",
    "        'question': q,\n",
    "        'new_audio_filename': new_f,\n",
    "    })"
   ]
  },
  {
   "cell_type": "code",
   "execution_count": 63,
   "id": "144e6c37",
   "metadata": {
    "scrolled": true
   },
   "outputs": [
    {
     "data": {
      "text/plain": [
       "{'speaker': {'audio': 'dedup-parliament/parlimen-24k-LANGSUNG ： Sesi Kamar Khas ｜ Persidangan Dewan Rakyat ｜ 12 November 2024 [f_LN9qnukT8]_000_112.mp3',\n",
       "  'transcription': 'Dan sepuluh peratus ini biasanya daripada hasil kutipan jawatankuasa Kariah Masjid.'},\n",
       " 'question': [{'role': 'system',\n",
       "   'content': 'You are going to enter reasoning mode, first you try to think step-by-step in malay after that give the final answer.'},\n",
       "  {'role': 'user',\n",
       "   'content': 'Mungkin bagi mak ayah aku biasa je.\\n\\nterjemah ke standard english',\n",
       "   'pronunciation': 'Mungkin bagi mak ayah aku biasa je. terjemah ke standard english'},\n",
       "  {'role': 'assistant',\n",
       "   'content': 'Okay, mari kita pecahkan ayat Melayu tempatan ini dan ubahnya menjadi bahasa Inggeris standard langkah demi langkah.\\n\\n## Langkah Demi Langkah: Terjemahan Ayat Melayu Tempatan ke Bahasa Inggeris Standard\\n\\nAyat Melayu tempatan:\\n**\"Mungkin bagi mak ayah aku biasa je.\"**\\n\\nMari kita fahami dan pecahkan ayat ini untuk diterjemah dengan tepat.\\n\\n### Langkah 1: Fahami Maksud Keseluruhan Ayat\\n\\nAyat ini menyatakan bahawa sesuatu perkara mungkin dianggap biasa sahaja oleh ibu bapa penutur. Nada ayat ini agak santai dan menggunakan kata-kata yang ringkas.\\n\\n### Langkah 2: Pecahkan Ayat kepada Bahagian Kecil\\n\\nAyat ini boleh dipisahkan kepada beberapa bahagian:\\n\\n1. \"Mungkin\" - mungkin, probable\\n2. \"bagi mak ayah aku\" - for my mother and father, or simply for my parents\\n3. \"biasa je\" - just normal, only normal\\n\\n### Langkah 3: Tukar Kata-Kata Tempatan kepada Bahasa Melayu Standard\\n\\nSekarang kita akan tukar setiap frasa kepada Bahasa Melayu standard:\\n\\n- \"Mungkin\" sudah standard, boleh kekalkan.\\n- \"mak ayah aku\" ialah istilah tempatan untuk merujuk kepada ibu bapa. Dalam Bahasa Melayu standard, ia menjadi \"ibu bapa saya\" atau \"orang tua saya\".\\n- \"biasa je\" ialah frasa santai untuk \"biasa sahaja\". Dalam bentuk standard, ia menjadi \"sahaja biasa\" atau \"hanya biasa\".\\n\\nJadi ayat Bahasa Melayu standard penuh akan menjadi:\\n\\n**\"Mungkin bagi ibu bapa saya, hanya biasa.\"**\\n\\n### Langkah 4: Terjemah ke Bahasa Inggeris Standard\\n\\nSeterusnya, kita akan terjemahkan ayat Bahasa Melayu standard ini ke dalam Bahasa Inggeris.\\n\\n- \"Mungkin\" -> \"Maybe\" atau \"Perhaps\"\\n- \"bagi ibu bapa saya\" -> \"for my parents\"\\n- \"hanya biasa\" -> \"nothing\" atau \"just ordinary\"\\n\\nJadi terjemahan Bahasa Inggeris standard:\\n\\n**\"Maybe for my parents, that is nothing.\"**\\n\\nAtau boleh ditulis sebagai:\\n\\n**\"Perhaps for my parents, that is just ordinary.\"**\\n\\n### Langkah 5: Prinsip Umum yang Digunakan dalam Proses Ini\\n\\nBerikut adalah beberapa prinsip penting yang patut diingati apabila menukar ayat Melayu tempatan kepada Bahasa Inggeris standard:\\n\\n1. **Pemahaman Konteks:** Fahami apa yang dimaksudkan dengan ayat itu, bukan hanya perkataan-perkataan individu.\\n2. **Penggantian Frasa Tempatan:** Tukar frasa tempatan yang kurang formal kepada versi yang lebih standard.\\n3. **Penyelarasan Struktur Ayat:** Sesuaikan struktur ayat supaya ia kedengaran semulajadi dalam Bahasa Inggeris.\\n4. **Ketepatan Makna:** Pastikan terjemahan itu menyampaikan makna asal dengan tepat.\\n\\n**Jawapan Akhir**\\n\\n$boxed{Maybe for my parents, that is nothing.}$.'}],\n",
       " 'new_audio_filename': 'prepare-malaysian-reasoning/parlimen-24k-LANGSUNG ： Sesi Kamar Khas ｜ Persidangan Dewan Rakyat ｜ 12 November 2024 [f_LN9qnukT8]_000_112.mp3'}"
      ]
     },
     "execution_count": 63,
     "metadata": {},
     "output_type": "execute_result"
    }
   ],
   "source": [
    "prepared[-1]"
   ]
  },
  {
   "cell_type": "code",
   "execution_count": 64,
   "id": "01617fe5",
   "metadata": {},
   "outputs": [
    {
     "name": "stdout",
     "output_type": "stream",
     "text": [
      "1.3G\tprepare-malaysian-reasoning\r\n"
     ]
    }
   ],
   "source": [
    "!du -hs prepare-malaysian-reasoning"
   ]
  },
  {
   "cell_type": "code",
   "execution_count": 65,
   "id": "1e977e7b",
   "metadata": {},
   "outputs": [],
   "source": [
    "pd.DataFrame(prepared).to_parquet('prepared-malaysian-reasoning.parquet')"
   ]
  },
  {
   "cell_type": "code",
   "execution_count": 66,
   "id": "032e0b91",
   "metadata": {},
   "outputs": [],
   "source": [
    "!zip -rq prepare-malaysian-reasoning.zip prepare-malaysian-reasoning"
   ]
  },
  {
   "cell_type": "code",
   "execution_count": 68,
   "id": "53713fc7",
   "metadata": {},
   "outputs": [
    {
     "name": "stdout",
     "output_type": "stream",
     "text": [
      "Consider using `hf_transfer` for faster uploads. This solution comes with some limitations. See https://huggingface.co/docs/huggingface_hub/hf_transfer for more details.\n",
      "prepared-malaysian-reasoning.parquet: 100%|█| 94.0M/94.0M [00:11<00:00, 8.22MB/s\n",
      "https://huggingface.co/datasets/mesolitica/Malaysian-Reasoning-Speech-Instruction/blob/main/prepare/prepared-malaysian-reasoning.parquet\n"
     ]
    }
   ],
   "source": [
    "!huggingface-cli upload mesolitica/Malaysian-Reasoning-Speech-Instruction prepared-malaysian-reasoning.parquet prepare/prepared-malaysian-reasoning.parquet --repo-type dataset"
   ]
  },
  {
   "cell_type": "code",
   "execution_count": 69,
   "id": "2f9e97bb",
   "metadata": {
    "scrolled": true
   },
   "outputs": [
    {
     "name": "stdout",
     "output_type": "stream",
     "text": [
      "  0%|                                                     | 0/1 [00:00<?, ?it/s]\n",
      "prepare/prepare-malaysian-reasoning.zip:   0%|      | 0.00/1.28G [00:00<?, ?B/s]\u001b[A\n",
      "prepare/prepare-malaysian-reasoning.zip:   1%| | 16.0M/1.28G [00:02<03:01, 6.97M\u001b[A\n",
      "prepare/prepare-malaysian-reasoning.zip:   2%| | 32.0M/1.28G [00:09<06:46, 3.07M\u001b[A\n",
      "prepare/prepare-malaysian-reasoning.zip:   4%| | 48.0M/1.28G [00:10<04:03, 5.05M\u001b[A\n",
      "prepare/prepare-malaysian-reasoning.zip:   5%| | 64.0M/1.28G [00:10<02:39, 7.61M\u001b[A\n",
      "prepare/prepare-malaysian-reasoning.zip:   6%| | 80.0M/1.28G [00:10<01:44, 11.5M\u001b[A\n",
      "prepare/prepare-malaysian-reasoning.zip:   7%| | 96.0M/1.28G [00:11<01:20, 14.7M\u001b[A\n",
      "prepare/prepare-malaysian-reasoning.zip:   9%| | 112M/1.28G [00:11<01:07, 17.3MB\u001b[A\n",
      "prepare/prepare-malaysian-reasoning.zip:  10%| | 128M/1.28G [00:13<01:10, 16.4MB\u001b[A\n",
      "prepare/prepare-malaysian-reasoning.zip:  11%| | 144M/1.28G [00:13<00:59, 19.0MB\u001b[A\n",
      "prepare/prepare-malaysian-reasoning.zip:  12%| | 160M/1.28G [00:13<00:46, 24.3MB\u001b[A\n",
      "prepare/prepare-malaysian-reasoning.zip:  14%|▏| 176M/1.28G [00:16<01:25, 13.0MB\u001b[A\n",
      "prepare/prepare-malaysian-reasoning.zip:  15%|▏| 192M/1.28G [00:16<01:03, 17.1MB\u001b[A\n",
      "prepare/prepare-malaysian-reasoning.zip:  17%|▏| 224M/1.28G [00:17<00:44, 23.9MB\u001b[A\n",
      "prepare/prepare-malaysian-reasoning.zip:  19%|▏| 240M/1.28G [00:18<00:44, 23.5MB\u001b[A\n",
      "prepare/prepare-malaysian-reasoning.zip:  21%|▏| 272M/1.28G [00:18<00:28, 36.0MB\u001b[A\n",
      "prepare/prepare-malaysian-reasoning.zip:  24%|▏| 304M/1.28G [00:18<00:22, 43.4MB\u001b[A\n",
      "prepare/prepare-malaysian-reasoning.zip:  25%|▏| 320M/1.28G [00:19<00:20, 47.6MB\u001b[A\n",
      "prepare/prepare-malaysian-reasoning.zip:  27%|▎| 352M/1.28G [00:19<00:13, 68.1MB\u001b[A\n",
      "prepare/prepare-malaysian-reasoning.zip:  30%|▎| 384M/1.28G [00:19<00:10, 89.5MB\u001b[A\n",
      "prepare/prepare-malaysian-reasoning.zip:  32%|▎| 416M/1.28G [00:19<00:08, 105MB/\u001b[A\n",
      "prepare/prepare-malaysian-reasoning.zip:  34%|▎| 432M/1.28G [00:19<00:07, 109MB/\u001b[A\n",
      "prepare/prepare-malaysian-reasoning.zip:  35%|▎| 448M/1.28G [00:19<00:07, 105MB/\u001b[A\n",
      "prepare/prepare-malaysian-reasoning.zip:  40%|▍| 512M/1.28G [00:19<00:04, 183MB/\u001b[A\n",
      "prepare/prepare-malaysian-reasoning.zip:  45%|▍| 576M/1.28G [00:20<00:02, 256MB/\u001b[A\n",
      "prepare/prepare-malaysian-reasoning.zip:  47%|▍| 608M/1.28G [00:20<00:02, 267MB/\u001b[A\n",
      "prepare/prepare-malaysian-reasoning.zip:  51%|▌| 656M/1.28G [00:20<00:02, 241MB/\u001b[A\n",
      "prepare/prepare-malaysian-reasoning.zip:  54%|▌| 688M/1.28G [00:20<00:02, 229MB/\u001b[A\n",
      "prepare/prepare-malaysian-reasoning.zip:  57%|▌| 736M/1.28G [00:20<00:02, 263MB/\u001b[A\n",
      "prepare/prepare-malaysian-reasoning.zip:  60%|▌| 768M/1.28G [00:20<00:01, 271MB/\u001b[A\n",
      "prepare/prepare-malaysian-reasoning.zip:  72%|▋| 928M/1.28G [00:20<00:00, 573MB/\u001b[A\n",
      "prepare/prepare-malaysian-reasoning.zip:  80%|▊| 1.02G/1.28G [00:20<00:00, 654MB\u001b[A\n",
      "prepare/prepare-malaysian-reasoning.zip:  87%|▊| 1.12G/1.28G [00:21<00:00, 725MB\u001b[A\n",
      "prepare/prepare-malaysian-reasoning.zip:  94%|▉| 1.20G/1.28G [00:21<00:00, 603MB\u001b[A\n",
      "prepare/prepare-malaysian-reasoning.zip: 1.30GB [00:21, 60.0MB/s]               \u001b[A\n",
      "100%|█████████████████████████████████████████████| 1/1 [00:21<00:00, 21.99s/it]\n",
      "https://huggingface.co/datasets/mesolitica/Malaysian-Reasoning-Speech-Instruction/blob/main/prepare/prepare-malaysian-reasoning.zip\n"
     ]
    }
   ],
   "source": [
    "!HF_HUB_ENABLE_HF_TRANSFER=\"1\" huggingface-cli upload mesolitica/Malaysian-Reasoning-Speech-Instruction prepare-malaysian-reasoning.zip prepare/prepare-malaysian-reasoning.zip --repo-type dataset"
   ]
  }
 ],
 "metadata": {
  "kernelspec": {
   "display_name": "python3.10",
   "language": "python",
   "name": "python3.10"
  },
  "language_info": {
   "codemirror_mode": {
    "name": "ipython",
    "version": 3
   },
   "file_extension": ".py",
   "mimetype": "text/x-python",
   "name": "python",
   "nbconvert_exporter": "python",
   "pygments_lexer": "ipython3",
   "version": "3.10.17"
  }
 },
 "nbformat": 4,
 "nbformat_minor": 5
}
