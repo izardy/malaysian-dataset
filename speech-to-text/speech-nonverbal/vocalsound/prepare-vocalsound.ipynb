{
 "cells": [
  {
   "cell_type": "code",
   "execution_count": 11,
   "id": "9b1e62f2",
   "metadata": {},
   "outputs": [
    {
     "data": {
      "text/plain": [
       "21024"
      ]
     },
     "execution_count": 11,
     "metadata": {},
     "output_type": "execute_result"
    }
   ],
   "source": [
    "from glob import glob\n",
    "import soundfile as sf\n",
    "\n",
    "timestamps = [i * 0.02 for i in range(1500 + 1)]\n",
    "\n",
    "files = glob('audio_16k/*')\n",
    "len(files)"
   ]
  },
  {
   "cell_type": "code",
   "execution_count": 10,
   "id": "79aae4b1",
   "metadata": {},
   "outputs": [
    {
     "data": {
      "text/plain": [
       "{'cough', 'laughter', 'sigh', 'sneeze', 'sniff', 'throatclearing'}"
      ]
     },
     "execution_count": 10,
     "metadata": {},
     "output_type": "execute_result"
    }
   ],
   "source": [
    "labels = set()\n",
    "\n",
    "\n",
    "for f in files:\n",
    "    l = f.split('_')[-1].replace('.wav', '')\n",
    "    labels.add(l)\n",
    "    \n",
    "labels"
   ]
  },
  {
   "cell_type": "code",
   "execution_count": 21,
   "id": "5baaa449",
   "metadata": {},
   "outputs": [
    {
     "name": "stderr",
     "output_type": "stream",
     "text": [
      "100%|███████████████████████████████████████████████████████████████████████████████████████████████████| 21024/21024 [00:05<00:00, 3584.96it/s]\n"
     ]
    },
    {
     "data": {
      "text/plain": [
       "42048"
      ]
     },
     "execution_count": 21,
     "metadata": {},
     "output_type": "execute_result"
    }
   ],
   "source": [
    "import soundfile as sf\n",
    "from tqdm import tqdm\n",
    "\n",
    "replace = {\n",
    "    'laughter': 'laugh'\n",
    "}\n",
    "\n",
    "langs = ['en', 'ms']\n",
    "tasks = ['transcribenonverbal']\n",
    "\n",
    "data = []\n",
    "for f in tqdm(files):\n",
    "    y, sr = sf.read(f)\n",
    "    label = f.split('_')[-1].replace('.wav', '')\n",
    "    label = replace.get(label, label)\n",
    "    label = f'<|{label}|>'\n",
    "    \n",
    "    start = min(timestamps, key=lambda t: abs(t - 0.0))\n",
    "    end = min(timestamps, key=lambda t: abs(t - (len(y) / sr)))\n",
    "\n",
    "    for l in langs:\n",
    "        for t in tasks:\n",
    "            text = f'<|startoftranscript|><|{l}|><|{t}|><|{start:.2f}|>{label}<|{end:.2f}|><|endoftext|>'\n",
    "            data.append({\n",
    "                'audio_filename': f,\n",
    "                'new_text': text,\n",
    "                'source': 'VocalSound'\n",
    "            })\n",
    "    \n",
    "len(data)"
   ]
  },
  {
   "cell_type": "code",
   "execution_count": 22,
   "id": "b8f73864",
   "metadata": {},
   "outputs": [
    {
     "data": {
      "text/plain": [
       "{'audio_filename': 'audio_16k/m1170_0_throatclearing.wav',\n",
       " 'new_text': '<|startoftranscript|><|ms|><|transcribenonverbal|><|0.00|><|throatclearing|><|2.22|><|endoftext|>',\n",
       " 'source': 'VocalSound'}"
      ]
     },
     "execution_count": 22,
     "metadata": {},
     "output_type": "execute_result"
    }
   ],
   "source": [
    "data[-1]"
   ]
  },
  {
   "cell_type": "code",
   "execution_count": 23,
   "id": "e31d23a9",
   "metadata": {},
   "outputs": [],
   "source": [
    "import pandas as pd\n",
    "\n",
    "pd.DataFrame(data).to_parquet('vocalsound.parquet')"
   ]
  },
  {
   "cell_type": "code",
   "execution_count": 24,
   "id": "49068599",
   "metadata": {},
   "outputs": [
    {
     "data": {
      "application/vnd.jupyter.widget-view+json": {
       "model_id": "072904bdd3b5476191ed063d0ec0ed54",
       "version_major": 2,
       "version_minor": 0
      },
      "text/plain": [
       "vocalsound.parquet:   0%|          | 0.00/372k [00:00<?, ?B/s]"
      ]
     },
     "metadata": {},
     "output_type": "display_data"
    },
    {
     "data": {
      "text/plain": [
       "CommitInfo(commit_url='https://huggingface.co/datasets/mesolitica/Speech-Nonverbal-Whisper/commit/291fcbedc500c55ba7baf3c52f4ef179949424da', commit_message='Upload data/vocalsound-00000-of-00001.parquet with huggingface_hub', commit_description='', oid='291fcbedc500c55ba7baf3c52f4ef179949424da', pr_url=None, repo_url=RepoUrl('https://huggingface.co/datasets/mesolitica/Speech-Nonverbal-Whisper', endpoint='https://huggingface.co', repo_type='dataset', repo_id='mesolitica/Speech-Nonverbal-Whisper'), pr_revision=None, pr_num=None)"
      ]
     },
     "execution_count": 24,
     "metadata": {},
     "output_type": "execute_result"
    }
   ],
   "source": [
    "from huggingface_hub import HfApi\n",
    "api = HfApi()\n",
    "\n",
    "api.upload_file(\n",
    "    path_or_fileobj=\"vocalsound.parquet\",\n",
    "    path_in_repo=\"data/vocalsound-00000-of-00001.parquet\",\n",
    "    repo_id=\"mesolitica/Speech-Nonverbal-Whisper\",\n",
    "    repo_type=\"dataset\",\n",
    ")"
   ]
  },
  {
   "cell_type": "code",
   "execution_count": null,
   "id": "ad404f9d",
   "metadata": {},
   "outputs": [],
   "source": []
  }
 ],
 "metadata": {
  "kernelspec": {
   "display_name": "python3.10",
   "language": "python",
   "name": "python3.10"
  },
  "language_info": {
   "codemirror_mode": {
    "name": "ipython",
    "version": 3
   },
   "file_extension": ".py",
   "mimetype": "text/x-python",
   "name": "python",
   "nbconvert_exporter": "python",
   "pygments_lexer": "ipython3",
   "version": "3.10.15"
  }
 },
 "nbformat": 4,
 "nbformat_minor": 5
}
