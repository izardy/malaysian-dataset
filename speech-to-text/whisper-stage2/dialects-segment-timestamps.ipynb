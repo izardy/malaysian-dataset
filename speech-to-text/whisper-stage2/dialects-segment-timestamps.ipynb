{
 "cells": [
  {
   "cell_type": "code",
   "execution_count": 1,
   "id": "cdcb293b",
   "metadata": {},
   "outputs": [],
   "source": [
    "from glob import glob\n",
    "from tqdm import tqdm\n",
    "from unidecode import unidecode\n",
    "from sklearn.feature_extraction.text import CountVectorizer\n",
    "import json\n",
    "import os\n",
    "import mp\n",
    "import re\n",
    "import string\n",
    "\n",
    "timestamps = [i * 0.02 for i in range(1500 + 1)]\n",
    "\n",
    "rejected_c = set(string.digits) | set(string.punctuation)\n",
    "def clean(s):\n",
    "    for r in rejected_c:\n",
    "        s = s.replace(r, ' ')\n",
    "    return re.sub(r'[ ]+', ' ', ''.join(s)).strip()"
   ]
  },
  {
   "cell_type": "code",
   "execution_count": 2,
   "id": "51f4cb0b",
   "metadata": {},
   "outputs": [
    {
     "data": {
      "application/vnd.jupyter.widget-view+json": {
       "model_id": "3fa16a10b3f74cdfaa7367c9cbc8691a",
       "version_major": 2,
       "version_minor": 0
      },
      "text/plain": [
       "Fetching 11 files:   0%|          | 0/11 [00:00<?, ?it/s]"
      ]
     },
     "metadata": {},
     "output_type": "display_data"
    },
    {
     "data": {
      "text/plain": [
       "'/home/husein/ssd3/malay-dialect-dictionary-instructions'"
      ]
     },
     "execution_count": 2,
     "metadata": {},
     "output_type": "execute_result"
    }
   ],
   "source": [
    "from huggingface_hub import snapshot_download\n",
    "snapshot_download(\n",
    "    repo_id=\"mesolitica/malay-dialect-dictionary-instructions\", \n",
    "    repo_type = 'dataset',\n",
    "    local_dir = './malay-dialect-dictionary-instructions')"
   ]
  },
  {
   "cell_type": "code",
   "execution_count": 3,
   "id": "3a2385d1",
   "metadata": {},
   "outputs": [
    {
     "name": "stderr",
     "output_type": "stream",
     "text": [
      "100%|██████████████████████████████████████████████████████████████████████████████████████| 10/10 [00:00<00:00, 101.50it/s]\n"
     ]
    },
    {
     "data": {
      "text/plain": [
       "5979"
      ]
     },
     "execution_count": 3,
     "metadata": {},
     "output_type": "execute_result"
    }
   ],
   "source": [
    "keywords = set()\n",
    "\n",
    "for f in tqdm(glob('malay-dialect-dictionary-instructions/*jsonl')):\n",
    "    with open(f) as fopen:\n",
    "        for l in fopen:\n",
    "            l = json.loads(l)\n",
    "            k = clean(unidecode(l['left'].lower())).split()\n",
    "            for k_ in k:\n",
    "                keywords.add(k_)\n",
    "len(keywords)"
   ]
  },
  {
   "cell_type": "code",
   "execution_count": 4,
   "id": "12a0eb38",
   "metadata": {},
   "outputs": [
    {
     "data": {
      "text/plain": [
       "147181"
      ]
     },
     "execution_count": 4,
     "metadata": {},
     "output_type": "execute_result"
    }
   ],
   "source": [
    "files = glob('dialects_processed/**/*/*.json', recursive = True)\n",
    "\n",
    "len(files)"
   ]
  },
  {
   "cell_type": "code",
   "execution_count": 5,
   "id": "93023969",
   "metadata": {},
   "outputs": [],
   "source": [
    "rejected = [\n",
    "    'terima kasih kerana menonton',\n",
    "    'terima kasih',\n",
    "    'thank you for watching',\n",
    "]"
   ]
  },
  {
   "cell_type": "code",
   "execution_count": 9,
   "id": "ab581bed",
   "metadata": {},
   "outputs": [],
   "source": [
    "def new_path(f):\n",
    "    f = f.replace('.mp3', '.alignment')\n",
    "    f = f.replace('_processed/', '_processed_alignment/')\n",
    "    return f\n",
    "\n",
    "def loop(files):\n",
    "    files, _ = files\n",
    "    data = []\n",
    "    for file in tqdm(files):\n",
    "        folder = os.path.split(file)[0]\n",
    "        folder_folder = os.path.split(folder)[1]\n",
    "        filename = file.replace('.json', '')\n",
    "\n",
    "        try:\n",
    "            with open(file) as fopen:\n",
    "                d = json.load(fopen)\n",
    "        except:\n",
    "            continue\n",
    "\n",
    "        for no, obj in enumerate(d):\n",
    "            text = obj[\"text\"].strip()\n",
    "            \n",
    "            rt_ = re.sub('[^a-z ]+', '', text.lower()).strip()\n",
    "            if any([s == rt_ for s in rejected]):\n",
    "                continue\n",
    "            \n",
    "            if not len(set(clean(text.lower()).split()) & keywords):\n",
    "                continue\n",
    "            \n",
    "            try:\n",
    "                dense = CountVectorizer(ngram_range = (3,3)).fit_transform([text]).todense()\n",
    "                repeat = (dense > 3).sum() >= 1\n",
    "                if repeat:\n",
    "                    continue\n",
    "            except:\n",
    "                continue\n",
    "            \n",
    "            audio_path = os.path.join(folder, f'{folder_folder}_{no}.mp3')\n",
    "            align_path = new_path(audio_path)\n",
    "            \n",
    "            if not os.path.exists(align_path):\n",
    "                continue\n",
    "                \n",
    "            with open(align_path) as fopen:\n",
    "                align = json.load(fopen)\n",
    "                \n",
    "            scores = [a for a in align if a['score'] <= -15]\n",
    "            if len(scores):\n",
    "                continue\n",
    "\n",
    "            data.append({\n",
    "                'audio': audio_path,\n",
    "                'alignment': align_path,\n",
    "            })\n",
    "    \n",
    "    return data"
   ]
  },
  {
   "cell_type": "code",
   "execution_count": 10,
   "id": "a427830f",
   "metadata": {
    "scrolled": false
   },
   "outputs": [
    {
     "name": "stderr",
     "output_type": "stream",
     "text": [
      "100%|██████████████████████████████████████████████████████████████████████████████████████| 10/10 [00:00<00:00, 623.87it/s]\n"
     ]
    }
   ],
   "source": [
    "d = loop((files[-10:], 0))"
   ]
  },
  {
   "cell_type": "code",
   "execution_count": 11,
   "id": "94ea428d",
   "metadata": {},
   "outputs": [
    {
     "data": {
      "text/plain": [
       "{'audio': 'dialects_processed/‘Zaman PN harga barang naik mencanak!’ - Rafizi [OjJ6hCKU1hE]/‘Zaman PN harga barang naik mencanak!’ - Rafizi [OjJ6hCKU1hE]_0.mp3',\n",
       " 'alignment': 'dialects_processed_alignment/‘Zaman PN harga barang naik mencanak!’ - Rafizi [OjJ6hCKU1hE]/‘Zaman PN harga barang naik mencanak!’ - Rafizi [OjJ6hCKU1hE]_0.alignment'}"
      ]
     },
     "execution_count": 11,
     "metadata": {},
     "output_type": "execute_result"
    }
   ],
   "source": [
    "d[0]"
   ]
  },
  {
   "cell_type": "code",
   "execution_count": 12,
   "id": "140383ea",
   "metadata": {
    "scrolled": true
   },
   "outputs": [
    {
     "name": "stderr",
     "output_type": "stream",
     "text": [
      "100%|███████████████████████████████████████████████████████████████████████████████████| 7359/7359 [01:41<00:00, 72.38it/s]\n",
      "100%|███████████████████████████████████████████████████████████████████████████████████| 7359/7359 [01:42<00:00, 72.14it/s]\n",
      "100%|████████████████████████████████████████████████████████████████████████████████████████| 1/1 [00:00<00:00, 328.14it/s]\n",
      "100%|███████████████████████████████████████████████████████████████████████████████████| 7359/7359 [01:45<00:00, 70.08it/s]\n",
      "100%|███████████████████████████████████████████████████████████████████████████████████| 7359/7359 [01:45<00:00, 69.44it/s]\n",
      "100%|███████████████████████████████████████████████████████████████████████████████████| 7359/7359 [01:46<00:00, 69.07it/s]\n",
      "100%|███████████████████████████████████████████████████████████████████████████████████| 7359/7359 [01:46<00:00, 68.81it/s]\n",
      "100%|███████████████████████████████████████████████████████████████████████████████████| 7359/7359 [01:47<00:00, 68.33it/s]\n",
      "100%|███████████████████████████████████████████████████████████████████████████████████| 7359/7359 [01:47<00:00, 68.29it/s]\n",
      "100%|███████████████████████████████████████████████████████████████████████████████████| 7359/7359 [01:48<00:00, 68.04it/s]\n",
      "100%|███████████████████████████████████████████████████████████████████████████████████| 7359/7359 [01:48<00:00, 67.87it/s]\n",
      "100%|███████████████████████████████████████████████████████████████████████████████████| 7359/7359 [01:48<00:00, 67.58it/s]\n",
      "100%|███████████████████████████████████████████████████████████████████████████████████| 7359/7359 [01:49<00:00, 67.39it/s]\n",
      "100%|███████████████████████████████████████████████████████████████████████████████████| 7359/7359 [01:49<00:00, 67.22it/s]\n",
      "100%|███████████████████████████████████████████████████████████████████████████████████| 7359/7359 [01:50<00:00, 66.72it/s]\n",
      "100%|███████████████████████████████████████████████████████████████████████████████████| 7359/7359 [01:50<00:00, 66.45it/s]\n",
      "100%|███████████████████████████████████████████████████████████████████████████████████| 7359/7359 [01:51<00:00, 66.21it/s]\n",
      "100%|███████████████████████████████████████████████████████████████████████████████████| 7359/7359 [01:51<00:00, 66.04it/s]\n",
      "100%|███████████████████████████████████████████████████████████████████████████████████| 7359/7359 [01:52<00:00, 65.54it/s]\n",
      "100%|███████████████████████████████████████████████████████████████████████████████████| 7359/7359 [01:53<00:00, 65.03it/s]\n",
      "100%|███████████████████████████████████████████████████████████████████████████████████| 7359/7359 [01:54<00:00, 64.08it/s]\n"
     ]
    },
    {
     "data": {
      "text/plain": [
       "1131225"
      ]
     },
     "execution_count": 12,
     "metadata": {},
     "output_type": "execute_result"
    }
   ],
   "source": [
    "data = mp.multiprocessing(files, loop, cores = 20)\n",
    "len(data)"
   ]
  },
  {
   "cell_type": "code",
   "execution_count": 21,
   "id": "d749a5df",
   "metadata": {},
   "outputs": [],
   "source": [
    "d_ = data[1]"
   ]
  },
  {
   "cell_type": "code",
   "execution_count": 26,
   "id": "f3975212",
   "metadata": {},
   "outputs": [
    {
     "data": {
      "text/plain": [
       "{'audio': 'dialects_processed/KILAUAN EMAS ZON UTARA  KEPUTUSAN [tVjxnbDuEfE]/KILAUAN EMAS ZON UTARA  KEPUTUSAN [tVjxnbDuEfE]_1.mp3',\n",
       " 'alignment': 'dialects_processed_alignment/KILAUAN EMAS ZON UTARA  KEPUTUSAN [tVjxnbDuEfE]/KILAUAN EMAS ZON UTARA  KEPUTUSAN [tVjxnbDuEfE]_1.alignment'}"
      ]
     },
     "execution_count": 26,
     "metadata": {},
     "output_type": "execute_result"
    }
   ],
   "source": [
    "d_"
   ]
  },
  {
   "cell_type": "code",
   "execution_count": 24,
   "id": "4e6a98ca",
   "metadata": {},
   "outputs": [
    {
     "data": {
      "text/plain": [
       "[[{'start': 0.08, 'end': 0.44, 'text': 'Akak', 'score': -0.01957535743713379},\n",
       "  {'start': 0.58, 'end': 0.76, 'text': 'yang', 'score': -0.21853363513946533},\n",
       "  {'start': 0.88,\n",
       "   'end': 1.38,\n",
       "   'text': 'berbaju,',\n",
       "   'score': -0.09531104564666748}],\n",
       " [{'start': 2.9, 'end': 3.08, 'text': 'pink', 'score': -0.2573007345199585},\n",
       "  {'start': 3.14, 'end': 3.2, 'text': 'ni', 'score': -0.030910491943359375},\n",
       "  {'start': 3.26, 'end': 3.38, 'text': 'lah,', 'score': -0.01957535743713379},\n",
       "  {'start': 3.46, 'end': 3.52, 'text': 'saya', 'score': -12.183582305908203},\n",
       "  {'start': 3.6, 'end': 3.68, 'text': 'nak', 'score': -0.4333171844482422},\n",
       "  {'start': 3.72, 'end': 3.9, 'text': 'tanya', 'score': -4.709495544433594},\n",
       "  {'start': 4.0, 'end': 4.04, 'text': 'ni.', 'score': -0.03769683837890625}],\n",
       " [{'start': 5.14, 'end': 5.32, 'text': 'Akak', 'score': -0.5163669586181641},\n",
       "  {'start': 5.36, 'end': 5.52, 'text': 'rasa', 'score': -8.338333129882812},\n",
       "  {'start': 5.56, 'end': 5.68, 'text': 'akak', 'score': -1.7390327453613281},\n",
       "  {'start': 5.72, 'end': 5.88, 'text': 'boleh', 'score': -4.487815856933594},\n",
       "  {'start': 5.92, 'end': 6.08, 'text': 'pergi', 'score': -6.511916160583496},\n",
       "  {'start': 6.16, 'end': 6.26, 'text': 'tak', 'score': -0.017221450805664062},\n",
       "  {'start': 6.32,\n",
       "   'end': 6.6,\n",
       "   'text': 'lawan?',\n",
       "   'score': -0.0067255496978759766}],\n",
       " [{'start': 7.7,\n",
       "   'end': 8.22,\n",
       "   'text': 'InsyaAllah,',\n",
       "   'score': -3.9932680130004883},\n",
       "  {'start': 8.3, 'end': 8.5, 'text': 'kalau', 'score': -0.9996757507324219},\n",
       "  {'start': 8.54, 'end': 8.62, 'text': 'ada', 'score': -2.634307861328125},\n",
       "  {'start': 8.72, 'end': 8.96, 'text': 'rezeki', 'score': -13.733430862426758},\n",
       "  {'start': 9.06, 'end': 9.4, 'text': 'Allah.', 'score': -0.5391237735748291}]]"
      ]
     },
     "execution_count": 24,
     "metadata": {},
     "output_type": "execute_result"
    }
   ],
   "source": [
    "segments"
   ]
  },
  {
   "cell_type": "code",
   "execution_count": 25,
   "id": "e7fa2779",
   "metadata": {},
   "outputs": [
    {
     "data": {
      "text/html": [
       "\n",
       "                <audio  controls=\"controls\" >\n",
       "                    <source src=\"data:audio/mpeg;base64,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\" type=\"audio/mpeg\" />\n",
       "                    Your browser does not support the audio element.\n",
       "                </audio>\n",
       "              "
      ],
      "text/plain": [
       "<IPython.lib.display.Audio object>"
      ]
     },
     "execution_count": 25,
     "metadata": {},
     "output_type": "execute_result"
    }
   ],
   "source": [
    "import IPython.display as ipd\n",
    "ipd.Audio(d_['audio'])"
   ]
  },
  {
   "cell_type": "code",
   "execution_count": 31,
   "id": "d26bf6c9",
   "metadata": {},
   "outputs": [],
   "source": [
    "def loop(rows):\n",
    "    rows, _ = rows\n",
    "    result = []\n",
    "    for r in tqdm(rows):\n",
    "        f = r['audio']\n",
    "        \n",
    "        with open(r['alignment']) as fopen:\n",
    "            align = json.load(fopen)\n",
    "\n",
    "        segments, temp = [], [align[0]]\n",
    "        last_t = align[0]['end']\n",
    "        for c in align[1:]:\n",
    "            if (c['start'] - last_t) > 0.25:\n",
    "                segments.append(temp)\n",
    "                temp = []\n",
    "\n",
    "            last_t = c['end']\n",
    "            temp.append(c)\n",
    "\n",
    "        if len(temp):\n",
    "            segments.append(temp)\n",
    "\n",
    "        ts = []\n",
    "        for s in segments:\n",
    "            start = min(timestamps, key=lambda t: abs(t - s[0]['start']))\n",
    "            end = min(timestamps, key=lambda t: abs(t - s[-1]['end']))\n",
    "            w = ' '.join([c['text'] for c in s])\n",
    "            t = f\"<|{start:.2f}|> {w}<|{end:.2f}|>\"\n",
    "            ts.append(t)\n",
    "\n",
    "        ts = ''.join(ts)\n",
    "        new_text = text = f\"<|startoftranscript|><|ms|><|transcribe|>{ts}<|endoftext|>\"\n",
    "        \n",
    "        result.append({\n",
    "            'new_text': new_text,\n",
    "            'audio_filename': f\n",
    "        })\n",
    "    return result"
   ]
  },
  {
   "cell_type": "code",
   "execution_count": 32,
   "id": "f4527761",
   "metadata": {},
   "outputs": [
    {
     "name": "stderr",
     "output_type": "stream",
     "text": [
      "100%|███████████████████████████████████████████████████████████████████████████████████| 100/100 [00:00<00:00, 1753.24it/s]\n"
     ]
    }
   ],
   "source": [
    "r = loop((data[:100], 0))"
   ]
  },
  {
   "cell_type": "code",
   "execution_count": 33,
   "id": "e2e6ae00",
   "metadata": {},
   "outputs": [
    {
     "data": {
      "text/plain": [
       "{'new_text': '<|startoftranscript|><|ms|><|transcribe|><|0.04|> Abang yakin tak,<|0.88|><|1.14|> untuk<|1.58|><|1.90|> mewakili Zon Utara?<|3.16|><|endoftext|>',\n",
       " 'audio_filename': 'dialects_processed/KILAUAN EMAS ZON UTARA  KEPUTUSAN [tVjxnbDuEfE]/KILAUAN EMAS ZON UTARA  KEPUTUSAN [tVjxnbDuEfE]_0.mp3'}"
      ]
     },
     "execution_count": 33,
     "metadata": {},
     "output_type": "execute_result"
    }
   ],
   "source": [
    "r[0]"
   ]
  },
  {
   "cell_type": "code",
   "execution_count": 34,
   "id": "9ab9d94e",
   "metadata": {},
   "outputs": [
    {
     "data": {
      "text/plain": [
       "{'new_text': '<|startoftranscript|><|ms|><|transcribe|><|0.02|> Kita<|0.34|><|0.78|> yang transfer tu,<|1.40|><|1.74|> tajuknya mesti bahagian nombor satu ni. Ni paling penting.<|4.48|><|5.24|> Kalau tajuk tu duduk bahagian nombor dua,<|7.24|><|8.46|> kata studio tak boleh baca.<|9.96|><|endoftext|>',\n",
       " 'audio_filename': 'dialects_processed/🔴[LIVE] ASAS DATA STUDIO ｜ SIRI 1 [rpM7zMlbwEg]/🔴[LIVE] ASAS DATA STUDIO ｜ SIRI 1 [rpM7zMlbwEg]_139.mp3'}"
      ]
     },
     "execution_count": 34,
     "metadata": {},
     "output_type": "execute_result"
    }
   ],
   "source": [
    "r[-1]"
   ]
  },
  {
   "cell_type": "code",
   "execution_count": 35,
   "id": "73d18495",
   "metadata": {},
   "outputs": [
    {
     "name": "stderr",
     "output_type": "stream",
     "text": [
      "100%|████████████████████████████████████████████████████████████████████████████████| 75415/75415 [01:18<00:00, 965.51it/s]\n",
      "100%|████████████████████████████████████████████████████████████████████████████████| 75415/75415 [01:21<00:00, 927.34it/s]\n",
      "100%|████████████████████████████████████████████████████████████████████████████████| 75415/75415 [01:17<00:00, 969.81it/s]\n",
      "100%|████████████████████████████████████████████████████████████████████████████████| 75415/75415 [01:22<00:00, 917.39it/s]\n",
      "100%|████████████████████████████████████████████████████████████████████████████████| 75415/75415 [01:22<00:00, 917.81it/s]\n",
      "100%|████████████████████████████████████████████████████████████████████████████████| 75415/75415 [01:23<00:00, 899.08it/s]\n",
      "100%|████████████████████████████████████████████████████████████████████████████████| 75415/75415 [01:24<00:00, 897.27it/s]\n",
      "100%|████████████████████████████████████████████████████████████████████████████████| 75415/75415 [01:23<00:00, 898.41it/s]\n",
      "100%|████████████████████████████████████████████████████████████████████████████████| 75415/75415 [01:24<00:00, 889.30it/s]\n",
      "100%|████████████████████████████████████████████████████████████████████████████████| 75415/75415 [01:25<00:00, 885.27it/s]\n",
      "100%|████████████████████████████████████████████████████████████████████████████████| 75415/75415 [01:22<00:00, 912.46it/s]\n",
      "100%|████████████████████████████████████████████████████████████████████████████████| 75415/75415 [01:25<00:00, 883.41it/s]\n",
      "100%|████████████████████████████████████████████████████████████████████████████████| 75415/75415 [01:21<00:00, 930.33it/s]\n",
      "100%|████████████████████████████████████████████████████████████████████████████████| 75415/75415 [01:22<00:00, 918.34it/s]\n",
      "100%|████████████████████████████████████████████████████████████████████████████████| 75415/75415 [01:25<00:00, 879.13it/s]\n"
     ]
    }
   ],
   "source": [
    "r = mp.multiprocessing(data, loop, cores = 15)"
   ]
  },
  {
   "cell_type": "code",
   "execution_count": 36,
   "id": "6f1e3db1",
   "metadata": {},
   "outputs": [],
   "source": [
    "import pandas as pd\n",
    "\n",
    "pd.DataFrame(r).to_parquet('gather-dialects-segment.parquet')"
   ]
  },
  {
   "cell_type": "code",
   "execution_count": 37,
   "id": "3cd9779e",
   "metadata": {},
   "outputs": [
    {
     "data": {
      "application/vnd.jupyter.widget-view+json": {
       "model_id": "473799f107bc404783008061aa3c66b6",
       "version_major": 2,
       "version_minor": 0
      },
      "text/plain": [
       "gather-dialects-segment.parquet:   0%|          | 0.00/159M [00:00<?, ?B/s]"
      ]
     },
     "metadata": {},
     "output_type": "display_data"
    },
    {
     "data": {
      "text/plain": [
       "CommitInfo(commit_url='https://huggingface.co/datasets/malaysia-ai/STT-Whisper/commit/a6b36d3f0f754dfd569680f0c9c16e55a8c26150', commit_message='Upload data/dialects_segment-00000-of-00001.parquet with huggingface_hub', commit_description='', oid='a6b36d3f0f754dfd569680f0c9c16e55a8c26150', pr_url=None, repo_url=RepoUrl('https://huggingface.co/datasets/malaysia-ai/STT-Whisper', endpoint='https://huggingface.co', repo_type='dataset', repo_id='malaysia-ai/STT-Whisper'), pr_revision=None, pr_num=None)"
      ]
     },
     "execution_count": 37,
     "metadata": {},
     "output_type": "execute_result"
    }
   ],
   "source": [
    "from huggingface_hub import HfApi\n",
    "api = HfApi()\n",
    "api.upload_file(\n",
    "    path_or_fileobj=\"gather-dialects-segment.parquet\",\n",
    "    path_in_repo=\"data/dialects_segment-00000-of-00001.parquet\",\n",
    "    repo_id=\"malaysia-ai/STT-Whisper\",\n",
    "    repo_type=\"dataset\",\n",
    ")"
   ]
  }
 ],
 "metadata": {
  "kernelspec": {
   "display_name": "python3.10",
   "language": "python",
   "name": "python3.10"
  },
  "language_info": {
   "codemirror_mode": {
    "name": "ipython",
    "version": 3
   },
   "file_extension": ".py",
   "mimetype": "text/x-python",
   "name": "python",
   "nbconvert_exporter": "python",
   "pygments_lexer": "ipython3",
   "version": "3.10.15"
  }
 },
 "nbformat": 4,
 "nbformat_minor": 5
}
