{
 "cells": [
  {
   "cell_type": "code",
   "execution_count": 23,
   "id": "74f8c7e2",
   "metadata": {},
   "outputs": [],
   "source": [
    "# !wget https://gist.githubusercontent.com/huseinzol05/98974ae8c6c7a65d4bc0af9f5003786a/raw/2e06e71ef7349a57bc58cc9913ae6bae1f9f8447/mp.py"
   ]
  },
  {
   "cell_type": "code",
   "execution_count": 24,
   "id": "65857f6f",
   "metadata": {},
   "outputs": [],
   "source": [
    "import json\n",
    "import os\n",
    "import mp\n",
    "from tqdm import tqdm\n",
    "\n",
    "timestamps = [i * 0.02 for i in range(1500 + 1)]"
   ]
  },
  {
   "cell_type": "code",
   "execution_count": 2,
   "id": "e3fc2611",
   "metadata": {},
   "outputs": [
    {
     "data": {
      "text/plain": [
       "510940"
      ]
     },
     "execution_count": 2,
     "metadata": {},
     "output_type": "execute_result"
    }
   ],
   "source": [
    "with open('prepare-force-alignment.json') as fopen:\n",
    "    d = json.load(fopen)\n",
    "len(d)"
   ]
  },
  {
   "cell_type": "code",
   "execution_count": 18,
   "id": "3c075a99",
   "metadata": {},
   "outputs": [],
   "source": [
    "def loop(rows):\n",
    "    rows, _ = rows\n",
    "    result = []\n",
    "    for r in tqdm(rows):\n",
    "        f = r['audio_filename']\n",
    "        new_f = f.replace('/', '_').replace('.mp3', '.json').replace('.wav', '.json')\n",
    "        filename = os.path.join('force_alignment', new_f)\n",
    "        if not os.path.exists(filename):\n",
    "            continue\n",
    "        \n",
    "        with open(filename) as fopen:\n",
    "            d_ = json.load(fopen)\n",
    "            \n",
    "        c = d_['word_timestamps']\n",
    "        ts = []\n",
    "        for c_ in c:\n",
    "            start = min(timestamps, key=lambda t: abs(t - (c_['start'])))\n",
    "            end = min(timestamps, key=lambda t: abs(t - (c_['end'])))\n",
    "            w = c_['text']\n",
    "            t = f\"<|{start:.2f}|> {w}<|{end:.2f}|>\"\n",
    "            ts.append(t)\n",
    "\n",
    "        ts = ''.join(ts)\n",
    "        new_text = text = f\"<|startoftranscript|><|ms|><|transcribeprecise|>{ts}<|endoftext|>\"\n",
    "        \n",
    "        result.append({\n",
    "            'new_text': new_text,\n",
    "            'audio_filename': f.split('speech-instructions/')[1]\n",
    "        })\n",
    "    return result"
   ]
  },
  {
   "cell_type": "code",
   "execution_count": 19,
   "id": "2633eda9",
   "metadata": {},
   "outputs": [
    {
     "name": "stderr",
     "output_type": "stream",
     "text": [
      "100%|████████████████████████████████████████████████████████████████████████████████████| 100/100 [00:00<00:00, 646.45it/s]\n"
     ]
    }
   ],
   "source": [
    "r = loop((d[:100], 0))"
   ]
  },
  {
   "cell_type": "code",
   "execution_count": 25,
   "id": "a4f2c8c0",
   "metadata": {},
   "outputs": [
    {
     "data": {
      "text/plain": [
       "{'new_text': '<|startoftranscript|><|ms|><|transcribeprecise|><|0.06|> Bagaimanakah<|0.76|><|0.82|> kita<|0.98|><|1.04|> boleh<|1.30|><|1.38|> mengendalikan<|2.08|><|2.18|> ralat<|2.46|><|2.84|> pada<|3.00|><|3.08|> laman<|3.32|><|3.44|> web<|3.56|><|3.62|> menggunakan<|4.06|><|4.14|> JavaScript?<|4.88|><|endoftext|>',\n",
       " 'audio_filename': 'short-coding-2/0.mp3'}"
      ]
     },
     "execution_count": 25,
     "metadata": {},
     "output_type": "execute_result"
    }
   ],
   "source": [
    "r[0]"
   ]
  },
  {
   "cell_type": "code",
   "execution_count": 26,
   "id": "da41928c",
   "metadata": {},
   "outputs": [
    {
     "name": "stderr",
     "output_type": "stream",
     "text": [
      "100%|████████████████████████████████████████████████████████████████████████████████| 51094/51094 [01:50<00:00, 464.37it/s]\n",
      "100%|████████████████████████████████████████████████████████████████████████████████| 51094/51094 [01:56<00:00, 439.36it/s]\n",
      "100%|████████████████████████████████████████████████████████████████████████████████| 51094/51094 [02:00<00:00, 424.90it/s]\n",
      "100%|████████████████████████████████████████████████████████████████████████████████| 51094/51094 [02:02<00:00, 418.71it/s]\n",
      "100%|████████████████████████████████████████████████████████████████████████████████| 51094/51094 [02:04<00:00, 409.37it/s]\n",
      "100%|████████████████████████████████████████████████████████████████████████████████| 51094/51094 [02:09<00:00, 395.68it/s]\n",
      "100%|████████████████████████████████████████████████████████████████████████████████| 51094/51094 [02:09<00:00, 394.84it/s]\n",
      "100%|████████████████████████████████████████████████████████████████████████████████| 51094/51094 [02:21<00:00, 361.70it/s]\n",
      "100%|████████████████████████████████████████████████████████████████████████████████| 51094/51094 [02:23<00:00, 355.49it/s]\n",
      "100%|████████████████████████████████████████████████████████████████████████████████| 51094/51094 [02:38<00:00, 321.85it/s]\n"
     ]
    }
   ],
   "source": [
    "r = mp.multiprocessing(d, loop, cores = 10)"
   ]
  },
  {
   "cell_type": "code",
   "execution_count": 27,
   "id": "1cfb5d4e",
   "metadata": {},
   "outputs": [
    {
     "data": {
      "text/plain": [
       "510940"
      ]
     },
     "execution_count": 27,
     "metadata": {},
     "output_type": "execute_result"
    }
   ],
   "source": [
    "len(r)"
   ]
  },
  {
   "cell_type": "code",
   "execution_count": 28,
   "id": "840bf89e",
   "metadata": {},
   "outputs": [
    {
     "data": {
      "text/plain": [
       "{'new_text': '<|startoftranscript|><|ms|><|transcribeprecise|><|0.06|> Bagaimanakah<|0.76|><|0.82|> kita<|0.98|><|1.04|> boleh<|1.30|><|1.38|> mengendalikan<|2.08|><|2.18|> ralat<|2.46|><|2.84|> pada<|3.00|><|3.08|> laman<|3.32|><|3.44|> web<|3.56|><|3.62|> menggunakan<|4.06|><|4.14|> JavaScript?<|4.88|><|endoftext|>',\n",
       " 'audio_filename': 'short-coding-2/0.mp3'}"
      ]
     },
     "execution_count": 28,
     "metadata": {},
     "output_type": "execute_result"
    }
   ],
   "source": [
    "r[0]"
   ]
  },
  {
   "cell_type": "code",
   "execution_count": 29,
   "id": "b56795b9",
   "metadata": {},
   "outputs": [],
   "source": [
    "import pandas as pd\n",
    "\n",
    "pd.DataFrame(r).to_parquet('gather-force-alignment-word-timestamps.parquet')"
   ]
  },
  {
   "cell_type": "code",
   "execution_count": 31,
   "id": "81bdda9a",
   "metadata": {},
   "outputs": [
    {
     "data": {
      "application/vnd.jupyter.widget-view+json": {
       "model_id": "d793090288a042f581a594994439dff3",
       "version_major": 2,
       "version_minor": 0
      },
      "text/plain": [
       "gather-force-alignment-word-timestamps.parquet:   0%|          | 0.00/86.8M [00:00<?, ?B/s]"
      ]
     },
     "metadata": {},
     "output_type": "display_data"
    },
    {
     "data": {
      "text/plain": [
       "CommitInfo(commit_url='https://huggingface.co/datasets/malaysia-ai/STT-Whisper/commit/3caa9d2b120135f6cfb18a1b0a1de47bdf4c264b', commit_message='Upload data/malaysian_speech_instructions_word_timestamp-00000-of-00001.parquet with huggingface_hub', commit_description='', oid='3caa9d2b120135f6cfb18a1b0a1de47bdf4c264b', pr_url=None, repo_url=RepoUrl('https://huggingface.co/datasets/malaysia-ai/STT-Whisper', endpoint='https://huggingface.co', repo_type='dataset', repo_id='malaysia-ai/STT-Whisper'), pr_revision=None, pr_num=None)"
      ]
     },
     "execution_count": 31,
     "metadata": {},
     "output_type": "execute_result"
    }
   ],
   "source": [
    "from huggingface_hub import HfApi\n",
    "api = HfApi()\n",
    "\n",
    "api.upload_file(\n",
    "    path_or_fileobj=\"gather-force-alignment-word-timestamps.parquet\",\n",
    "    path_in_repo=\"data/malaysian_speech_instructions_word_timestamp-00000-of-00001.parquet\",\n",
    "    repo_id=\"malaysia-ai/STT-Whisper\",\n",
    "    repo_type=\"dataset\",\n",
    ")"
   ]
  },
  {
   "cell_type": "code",
   "execution_count": null,
   "id": "b280b05d",
   "metadata": {},
   "outputs": [],
   "source": []
  }
 ],
 "metadata": {
  "kernelspec": {
   "display_name": "python3.10",
   "language": "python",
   "name": "python3.10"
  },
  "language_info": {
   "codemirror_mode": {
    "name": "ipython",
    "version": 3
   },
   "file_extension": ".py",
   "mimetype": "text/x-python",
   "name": "python",
   "nbconvert_exporter": "python",
   "pygments_lexer": "ipython3",
   "version": "3.10.15"
  }
 },
 "nbformat": 4,
 "nbformat_minor": 5
}
