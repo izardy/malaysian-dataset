{
 "cells": [
  {
   "cell_type": "code",
   "execution_count": 1,
   "id": "40010ff0",
   "metadata": {},
   "outputs": [],
   "source": [
    "import json\n",
    "import re\n",
    "import random\n",
    "import soundfile as sf\n",
    "import numpy as np\n",
    "import os\n",
    "import mp"
   ]
  },
  {
   "cell_type": "code",
   "execution_count": 2,
   "id": "0f26d9fc",
   "metadata": {},
   "outputs": [],
   "source": [
    "sr = 16000\n",
    "pattern = r\"<\\|([\\d.]+)\\|>\""
   ]
  },
  {
   "cell_type": "code",
   "execution_count": 3,
   "id": "95435210",
   "metadata": {},
   "outputs": [
    {
     "data": {
      "text/plain": [
       "1633511"
      ]
     },
     "execution_count": 3,
     "metadata": {},
     "output_type": "execute_result"
    }
   ],
   "source": [
    "imda = []\n",
    "with open('imda-whisper-word-timestamp.jsonl') as fopen:\n",
    "    for l in fopen:\n",
    "        imda.append(json.loads(l))\n",
    "        \n",
    "len(imda)"
   ]
  },
  {
   "cell_type": "code",
   "execution_count": 4,
   "id": "636daa87",
   "metadata": {},
   "outputs": [
    {
     "data": {
      "text/plain": [
       "4775944"
      ]
     },
     "execution_count": 4,
     "metadata": {},
     "output_type": "execute_result"
    }
   ],
   "source": [
    "malay = []\n",
    "with open('/home/husein/ssd3/pseudolabel-whisper-word-timestamp.jsonl') as fopen:\n",
    "    for l in fopen:\n",
    "        malay.append(json.loads(l))\n",
    "        \n",
    "len(malay)"
   ]
  },
  {
   "cell_type": "code",
   "execution_count": 5,
   "id": "9e7568c4",
   "metadata": {},
   "outputs": [],
   "source": [
    "!rm -rf /home/husein/ssd3/synthetic-context-switching-word-timestamp\n",
    "!mkdir /home/husein/ssd3/synthetic-context-switching-word-timestamp"
   ]
  },
  {
   "cell_type": "code",
   "execution_count": 6,
   "id": "f407f357",
   "metadata": {},
   "outputs": [],
   "source": [
    "from tqdm import tqdm\n",
    "\n",
    "selection = [malay, imda]\n",
    "def loop(index):\n",
    "    index, _ = index\n",
    "    data = []\n",
    "    for index_ in tqdm(index):\n",
    "        chunk = []\n",
    "        length = 0\n",
    "        random_length = random.randint(10, 20)\n",
    "        while length < random_length:\n",
    "            x = random.choice(selection)\n",
    "            s = random.choice(x)\n",
    "            l = s['new_text'].split('<|')[-2].split('|>')[0]\n",
    "            length += float(l)\n",
    "            chunk.append(s)\n",
    "        \n",
    "        audio = [chunk[0]['audio_filename']]\n",
    "        text = [chunk[0]['new_text'].replace('<|endoftext|>', '')]\n",
    "        silents = []\n",
    "        for i in range(1, len(chunk), 1):\n",
    "            matches = re.findall(pattern, text[-1])\n",
    "            last_t = float(matches[-1])\n",
    "            silent_l = random.randint(int(sr * (50 / 1000)), int(sr * (500 / 1000)))\n",
    "            t = chunk[i]['new_text'].replace('<|endoftext|>', '').split('<|transcribeprecise|>')[1]\n",
    "            matches = re.findall(pattern, t)\n",
    "            for m in matches:\n",
    "                m_ = float(m)\n",
    "                m_ += (silent_l / sr) + last_t\n",
    "                t = t.replace(f'<|{m}|>', f'<|{m_:.2f}|>')\n",
    "            silents.append(silent_l)\n",
    "            text.append(t)\n",
    "            audio.append(chunk[i]['audio_filename'])\n",
    "        text = ''.join(text) + '<|endoftext|>'\n",
    "        audios = []\n",
    "        for no, a in enumerate(audio):\n",
    "            if 'prepared-pseudolabel-chunks' in a:\n",
    "                a = os.path.join('/home/husein/ssd3/', a)\n",
    "            y, _ = sf.read(a)\n",
    "            audios.append(y)\n",
    "\n",
    "            if no < len(silents):\n",
    "                audios.append(np.zeros((silents[0],)))\n",
    "    \n",
    "        try:\n",
    "            audios = np.concatenate(audios)\n",
    "            f = os.path.join('/home/husein/ssd3/synthetic-context-switching-word-timestamp', f'{index_}.mp3')\n",
    "            sf.write(f, audios, sr)\n",
    "            data.append({\n",
    "                'new_text': text,\n",
    "                'audio_filename': f,\n",
    "            })\n",
    "        except:\n",
    "            pass\n",
    "        \n",
    "    return data"
   ]
  },
  {
   "cell_type": "code",
   "execution_count": 7,
   "id": "d96d99bb",
   "metadata": {},
   "outputs": [
    {
     "name": "stderr",
     "output_type": "stream",
     "text": [
      "100%|███████████████████████████████████████████████████████████████████████████████████████| 10/10 [00:00<00:00, 14.13it/s]\n"
     ]
    }
   ],
   "source": [
    "r = loop((range(10), 0))"
   ]
  },
  {
   "cell_type": "code",
   "execution_count": 8,
   "id": "a2085c7b",
   "metadata": {},
   "outputs": [
    {
     "data": {
      "text/plain": [
       "10"
      ]
     },
     "execution_count": 8,
     "metadata": {},
     "output_type": "execute_result"
    }
   ],
   "source": [
    "len(r)"
   ]
  },
  {
   "cell_type": "code",
   "execution_count": 9,
   "id": "0fee089e",
   "metadata": {},
   "outputs": [
    {
     "data": {
      "text/plain": [
       "{'new_text': \"<|startoftranscript|><|en|><|transcribeprecise|><|0.00|> Milikul<|0.62|><|0.90|> Pavlik,<|1.46|><|1.82|> Low<|2.02|><|2.26|> Ing<|2.40|><|2.54|> Sing<|2.78|><|3.04|> and<|3.18|><|3.26|> Mohamad<|3.74|><|3.82|> Latif<|4.28|><|4.46|> jaga<|4.64|><|4.74|> Mana<|4.94|><|5.04|> lah<|5.12|><|5.20|> Allah<|5.38|><|5.44|> Ta'ala<|5.68|><|5.80|> ni<|5.86|><|5.92|> buat<|6.04|><|6.10|> Islam<|15.28|><|6.44|> So<|6.50|><|6.60|> jaga<|11.22|><|15.78|> semua<|7.02|><|7.08|> agama<|7.30|><|10.54|> Allah<|15.28|><|10.92|> Tuhan<|11.22|><|15.78|> kepada<|11.52|><|11.60|> Islam<|16.36|><|12.46|> Inna<|12.68|><|12.84|> dina<|17.52|><|13.18|> indallahil<|13.68|><|13.76|> Islam<|14.06|><|15.10|> Allah<|15.28|><|15.34|> buat<|15.44|><|15.50|> Islam<|15.72|><|15.78|> ni<|15.82|><|16.12|> Untuk<|16.36|><|16.44|> jaga<|16.66|><|16.80|> agama-agama<|17.40|><|17.52|> syirik<|17.74|><|17.84|> lain<|17.96|><|18.00|> sekali<|18.20|><|19.70|> Allah<|20.04|><|20.54|> Artinya<|20.86|><|20.96|> mengiktiraf<|21.60|><|21.76|> agama-agama<|22.40|><|22.50|> lain<|22.74|><|23.22|> Inilah<|23.50|><|23.60|> ajaran<|24.28|><|endoftext|>\",\n",
       " 'audio_filename': '/home/husein/ssd3/synthetic-context-switching-word-timestamp/9.mp3'}"
      ]
     },
     "execution_count": 9,
     "metadata": {},
     "output_type": "execute_result"
    }
   ],
   "source": [
    "r[-1]"
   ]
  },
  {
   "cell_type": "code",
   "execution_count": 10,
   "id": "6063af2a",
   "metadata": {
    "scrolled": true
   },
   "outputs": [
    {
     "name": "stderr",
     "output_type": "stream",
     "text": [
      "100%|███████████████████████████████████████████████████████████████████████████████| 30000/30000 [1:18:10<00:00,  6.40it/s]\n",
      "100%|███████████████████████████████████████████████████████████████████████████████| 30000/30000 [1:18:11<00:00,  6.39it/s]\n",
      "100%|███████████████████████████████████████████████████████████████████████████████| 30000/30000 [1:18:15<00:00,  6.39it/s]\n",
      "100%|███████████████████████████████████████████████████████████████████████████████| 30000/30000 [1:18:18<00:00,  6.38it/s]\n",
      "100%|███████████████████████████████████████████████████████████████████████████████| 30000/30000 [1:18:20<00:00,  6.38it/s]\n",
      "100%|███████████████████████████████████████████████████████████████████████████████| 30000/30000 [1:18:21<00:00,  6.38it/s]\n",
      "100%|███████████████████████████████████████████████████████████████████████████████| 30000/30000 [1:18:23<00:00,  6.38it/s]\n",
      "100%|███████████████████████████████████████████████████████████████████████████████| 30000/30000 [1:18:26<00:00,  6.37it/s]\n",
      "100%|███████████████████████████████████████████████████████████████████████████████| 30000/30000 [1:18:27<00:00,  6.37it/s]\n",
      "100%|███████████████████████████████████████████████████████████████████████████████| 30000/30000 [1:18:28<00:00,  6.37it/s]\n"
     ]
    }
   ],
   "source": [
    "r = mp.multiprocessing(range(300000), loop, cores = 10)"
   ]
  },
  {
   "cell_type": "code",
   "execution_count": 11,
   "id": "8a232ddf",
   "metadata": {},
   "outputs": [
    {
     "data": {
      "text/plain": [
       "{'new_text': '<|startoftranscript|><|en|><|transcribeprecise|><|0.00|> a<|0.00|><|0.08|> very<|0.24|><|0.30|> well-known<|0.60|><|0.66|> figure<|0.88|><|2.26|> among<|2.44|><|2.54|> local<|2.76|><|2.84|> circles<|3.24|><|3.80|> and<|3.98|><|4.18|> overseas.<|4.64|><|4.88|> He<|4.92|><|5.04|> is<|5.10|><|5.18|> Professor<|5.60|><|5.70|> of<|5.74|><|5.78|> Political<|6.12|><|6.18|> Economy<|6.52|><|6.82|> at<|6.90|><|6.98|> the<|7.04|><|7.14|> Faculty<|7.50|><|7.60|> of<|7.64|><|7.72|> Economics<|8.16|><|8.24|> and<|8.30|><|8.34|> Administration,<|8.90|><|9.08|> Universiti<|9.40|><|9.46|> Umlair.<|9.74|><|11.08|> Dr<|11.30|><|11.36|> Gomez<|11.74|><|11.92|> specialises<|12.54|><|13.60|> in<|13.68|><|14.03|> the<|14.07|><|14.11|> way<|14.21|><|14.31|> out<|14.45|><|14.93|> and<|14.97|><|15.05|> come<|15.13|><|15.17|> back<|15.27|><|15.35|> in<|15.43|><|16.07|> and<|16.17|><|endoftext|>',\n",
       " 'audio_filename': '/home/husein/ssd3/synthetic-context-switching-word-timestamp/299999.mp3'}"
      ]
     },
     "execution_count": 11,
     "metadata": {},
     "output_type": "execute_result"
    }
   ],
   "source": [
    "r[-1]"
   ]
  },
  {
   "cell_type": "code",
   "execution_count": 19,
   "id": "819598d8",
   "metadata": {},
   "outputs": [],
   "source": [
    "import copy\n",
    "\n",
    "done = []\n",
    "for r_ in r:\n",
    "    r_ = copy.copy(r_)\n",
    "    r_['audio_filename'] = r_['audio_filename'].split('ssd3/')[1]\n",
    "    done.append(r_)"
   ]
  },
  {
   "cell_type": "code",
   "execution_count": 22,
   "id": "52948a49",
   "metadata": {},
   "outputs": [],
   "source": [
    "import pandas as pd\n",
    "\n",
    "pd.DataFrame(done).to_parquet('synthetic-context-switching-word-timestamp.parquet')"
   ]
  },
  {
   "cell_type": "code",
   "execution_count": 23,
   "id": "40fe9a85",
   "metadata": {},
   "outputs": [
    {
     "name": "stdout",
     "output_type": "stream",
     "text": [
      "-rw-rw-r-- 1 husein husein 160M Feb  21 09:22 synthetic-context-switching-word-timestamp.parquet\r\n"
     ]
    }
   ],
   "source": [
    "!ls -lh synthetic-context-switching-word-timestamp.parquet"
   ]
  },
  {
   "cell_type": "code",
   "execution_count": 25,
   "id": "ba447261",
   "metadata": {},
   "outputs": [
    {
     "data": {
      "text/plain": [
       "CommitInfo(commit_url='https://huggingface.co/datasets/malaysia-ai/whisper-STT/commit/7d0d965d100df84ffc415ea9d402e8ecb0c30339', commit_message='Upload data/synthetic_context_switching_word_timestamp-00000-of-00001.parquet with huggingface_hub', commit_description='', oid='7d0d965d100df84ffc415ea9d402e8ecb0c30339', pr_url=None, repo_url=RepoUrl('https://huggingface.co/datasets/malaysia-ai/whisper-STT', endpoint='https://huggingface.co', repo_type='dataset', repo_id='malaysia-ai/whisper-STT'), pr_revision=None, pr_num=None)"
      ]
     },
     "execution_count": 25,
     "metadata": {},
     "output_type": "execute_result"
    }
   ],
   "source": [
    "from huggingface_hub import HfApi\n",
    "api = HfApi()\n",
    "\n",
    "api.upload_file(\n",
    "    path_or_fileobj=\"synthetic-context-switching-word-timestamp.parquet\",\n",
    "    path_in_repo=\"data/synthetic_context_switching_word_timestamp-00000-of-00001.parquet\",\n",
    "    repo_id=\"malaysia-ai/whisper-STT\",\n",
    "    repo_type=\"dataset\",\n",
    ")"
   ]
  }
 ],
 "metadata": {
  "kernelspec": {
   "display_name": "python3.10",
   "language": "python",
   "name": "python3.10"
  },
  "language_info": {
   "codemirror_mode": {
    "name": "ipython",
    "version": 3
   },
   "file_extension": ".py",
   "mimetype": "text/x-python",
   "name": "python",
   "nbconvert_exporter": "python",
   "pygments_lexer": "ipython3",
   "version": "3.10.15"
  }
 },
 "nbformat": 4,
 "nbformat_minor": 5
}
