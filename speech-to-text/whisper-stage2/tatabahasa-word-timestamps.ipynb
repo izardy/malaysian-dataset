{
 "cells": [
  {
   "cell_type": "code",
   "execution_count": 17,
   "id": "9b1a3515",
   "metadata": {},
   "outputs": [],
   "source": [
    "import json\n",
    "import os\n",
    "\n",
    "timestamps = [i * 0.02 for i in range(1500 + 1)]\n",
    "replace = {\n",
    "    'Aee.': 'A.',\n",
    "    'Bee.': 'B.',\n",
    "    'See.': 'C.',\n",
    "    'Dee.': 'D.',\n",
    "}"
   ]
  },
  {
   "cell_type": "code",
   "execution_count": 18,
   "id": "65937d7d",
   "metadata": {},
   "outputs": [
    {
     "data": {
      "text/plain": [
       "1284"
      ]
     },
     "execution_count": 18,
     "metadata": {},
     "output_type": "execute_result"
    }
   ],
   "source": [
    "with open('tatabahasa.json') as fopen:\n",
    "    d = json.load(fopen)\n",
    "    \n",
    "len(d)"
   ]
  },
  {
   "cell_type": "code",
   "execution_count": 21,
   "id": "88468ded",
   "metadata": {},
   "outputs": [],
   "source": [
    "result = []\n",
    "\n",
    "for i in range(len(d)):\n",
    "    audio = os.path.join('tatabahasa-v2', f'{i}.mp3')\n",
    "    align = os.path.join('tatabahasa-v2-alignment_alignment', f'{i}.json')\n",
    "    \n",
    "    if not os.path.exists(audio):\n",
    "        continue\n",
    "    \n",
    "    with open(align) as fopen:\n",
    "        align = json.load(fopen)\n",
    "    \n",
    "    merged_data = []\n",
    "    for entry in align[1:]:\n",
    "        if entry['text'] == '.' and merged_data:\n",
    "            merged_data[-1]['text'] += '.'\n",
    "            merged_data[-1]['end'] = entry['end']\n",
    "        else:\n",
    "            merged_data.append(entry)\n",
    "\n",
    "    for i in range(len(merged_data)):\n",
    "        merged_data[i]['text'] = replace.get(merged_data[i]['text'], merged_data[i]['text'])\n",
    "        \n",
    "    ts = []\n",
    "    for c_ in merged_data:\n",
    "        start = min(timestamps, key=lambda t: abs(t - (c_['start'])))\n",
    "        end = min(timestamps, key=lambda t: abs(t - (c_['end'])))\n",
    "        w = c_['text']\n",
    "        t = f\"<|{start:.2f}|> {w}<|{end:.2f}|>\"\n",
    "        ts.append(t)\n",
    "\n",
    "    ts = ''.join(ts)\n",
    "    new_text = text = f\"<|startoftranscript|><|ms|><|transcribeprecise|>{ts}<|endoftext|>\"\n",
    "\n",
    "    result.append({\n",
    "        'new_text': new_text,\n",
    "        'audio_filename': audio,\n",
    "    })"
   ]
  },
  {
   "cell_type": "code",
   "execution_count": 22,
   "id": "6b7bb24a",
   "metadata": {},
   "outputs": [
    {
     "data": {
      "text/plain": [
       "671"
      ]
     },
     "execution_count": 22,
     "metadata": {},
     "output_type": "execute_result"
    }
   ],
   "source": [
    "len(result)"
   ]
  },
  {
   "cell_type": "code",
   "execution_count": 27,
   "id": "855b3eae",
   "metadata": {},
   "outputs": [],
   "source": [
    "!zip -rq tatabahasa-v2.zip tatabahasa-v2"
   ]
  },
  {
   "cell_type": "code",
   "execution_count": 25,
   "id": "3320b534",
   "metadata": {},
   "outputs": [],
   "source": [
    "import pandas as pd\n",
    "\n",
    "pd.DataFrame(result).to_parquet('tatabahasa-word-timestamps.parquet')"
   ]
  },
  {
   "cell_type": "code",
   "execution_count": 26,
   "id": "892fb1c8",
   "metadata": {},
   "outputs": [
    {
     "data": {
      "application/vnd.jupyter.widget-view+json": {
       "model_id": "670fa37956864724993254098e237e90",
       "version_major": 2,
       "version_minor": 0
      },
      "text/plain": [
       "tatabahasa-word-timestamps.parquet:   0%|          | 0.00/255k [00:00<?, ?B/s]"
      ]
     },
     "metadata": {},
     "output_type": "display_data"
    },
    {
     "data": {
      "text/plain": [
       "CommitInfo(commit_url='https://huggingface.co/datasets/malaysia-ai/STT-Whisper/commit/1a3936a87d979aacaa55fdef0b4a4d1f42541c23', commit_message='Upload data/tatabahasa_word-00000-of-00001.parquet with huggingface_hub', commit_description='', oid='1a3936a87d979aacaa55fdef0b4a4d1f42541c23', pr_url=None, repo_url=RepoUrl('https://huggingface.co/datasets/malaysia-ai/STT-Whisper', endpoint='https://huggingface.co', repo_type='dataset', repo_id='malaysia-ai/STT-Whisper'), pr_revision=None, pr_num=None)"
      ]
     },
     "execution_count": 26,
     "metadata": {},
     "output_type": "execute_result"
    }
   ],
   "source": [
    "from huggingface_hub import HfApi\n",
    "api = HfApi()\n",
    "api.upload_file(\n",
    "    path_or_fileobj=\"tatabahasa-word-timestamps.parquet\",\n",
    "    path_in_repo=\"data/tatabahasa_word-00000-of-00001.parquet\",\n",
    "    repo_id=\"malaysia-ai/STT-Whisper\",\n",
    "    repo_type=\"dataset\",\n",
    ")"
   ]
  },
  {
   "cell_type": "code",
   "execution_count": 28,
   "id": "f7bba92b",
   "metadata": {},
   "outputs": [
    {
     "data": {
      "application/vnd.jupyter.widget-view+json": {
       "model_id": "35d6d8f2352948b792c0a653421fe6ad",
       "version_major": 2,
       "version_minor": 0
      },
      "text/plain": [
       "tatabahasa-v2.zip:   0%|          | 0.00/65.6M [00:00<?, ?B/s]"
      ]
     },
     "metadata": {},
     "output_type": "display_data"
    },
    {
     "data": {
      "text/plain": [
       "CommitInfo(commit_url='https://huggingface.co/datasets/malaysia-ai/STT-Whisper/commit/978ea8fec4a813ec085fea2a3e0cbb8c5af1e60c', commit_message='Upload tatabahasa-v2.zip with huggingface_hub', commit_description='', oid='978ea8fec4a813ec085fea2a3e0cbb8c5af1e60c', pr_url=None, repo_url=RepoUrl('https://huggingface.co/datasets/malaysia-ai/STT-Whisper', endpoint='https://huggingface.co', repo_type='dataset', repo_id='malaysia-ai/STT-Whisper'), pr_revision=None, pr_num=None)"
      ]
     },
     "execution_count": 28,
     "metadata": {},
     "output_type": "execute_result"
    }
   ],
   "source": [
    "from huggingface_hub import HfApi\n",
    "api = HfApi()\n",
    "api.upload_file(\n",
    "    path_or_fileobj=\"tatabahasa-v2.zip\",\n",
    "    path_in_repo=\"tatabahasa-v2.zip\",\n",
    "    repo_id=\"malaysia-ai/STT-Whisper\",\n",
    "    repo_type=\"dataset\",\n",
    ")"
   ]
  }
 ],
 "metadata": {
  "kernelspec": {
   "display_name": "python3.10",
   "language": "python",
   "name": "python3.10"
  },
  "language_info": {
   "codemirror_mode": {
    "name": "ipython",
    "version": 3
   },
   "file_extension": ".py",
   "mimetype": "text/x-python",
   "name": "python",
   "nbconvert_exporter": "python",
   "pygments_lexer": "ipython3",
   "version": "3.10.15"
  }
 },
 "nbformat": 4,
 "nbformat_minor": 5
}
