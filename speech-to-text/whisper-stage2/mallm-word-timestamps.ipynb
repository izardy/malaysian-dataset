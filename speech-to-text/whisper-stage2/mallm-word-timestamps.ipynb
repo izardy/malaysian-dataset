{
 "cells": [
  {
   "cell_type": "code",
   "execution_count": 1,
   "id": "9b1a3515",
   "metadata": {},
   "outputs": [],
   "source": [
    "import json\n",
    "import os\n",
    "\n",
    "timestamps = [i * 0.02 for i in range(1500 + 1)]\n",
    "replace = {\n",
    "    'Aee.': 'A.',\n",
    "    'Bee.': 'B.',\n",
    "    'See.': 'C.',\n",
    "    'Dee.': 'D.',\n",
    "}"
   ]
  },
  {
   "cell_type": "code",
   "execution_count": 2,
   "id": "65937d7d",
   "metadata": {},
   "outputs": [
    {
     "data": {
      "text/plain": [
       "6564"
      ]
     },
     "execution_count": 2,
     "metadata": {},
     "output_type": "execute_result"
    }
   ],
   "source": [
    "with open('mallm.json') as fopen:\n",
    "    d = json.load(fopen)\n",
    "    \n",
    "len(d)"
   ]
  },
  {
   "cell_type": "code",
   "execution_count": 3,
   "id": "88468ded",
   "metadata": {},
   "outputs": [],
   "source": [
    "result = []\n",
    "\n",
    "for i in range(len(d)):\n",
    "    audio = os.path.join('mallm-v2', f'{i}.mp3')\n",
    "    align = os.path.join('mallm-v2-alignment_alignment', f'{i}.json')\n",
    "    \n",
    "    if not os.path.exists(audio):\n",
    "        continue\n",
    "    \n",
    "    with open(align) as fopen:\n",
    "        align = json.load(fopen)\n",
    "    \n",
    "    merged_data = []\n",
    "    for entry in align[1:]:\n",
    "        if entry['text'] == '.' and merged_data:\n",
    "            merged_data[-1]['text'] += '.'\n",
    "            merged_data[-1]['end'] = entry['end']\n",
    "        else:\n",
    "            merged_data.append(entry)\n",
    "\n",
    "    for i in range(len(merged_data)):\n",
    "        merged_data[i]['text'] = replace.get(merged_data[i]['text'], merged_data[i]['text'])\n",
    "        \n",
    "    ts = []\n",
    "    for c_ in merged_data:\n",
    "        start = min(timestamps, key=lambda t: abs(t - (c_['start'])))\n",
    "        end = min(timestamps, key=lambda t: abs(t - (c_['end'])))\n",
    "        w = c_['text']\n",
    "        t = f\"<|{start:.2f}|> {w}<|{end:.2f}|>\"\n",
    "        ts.append(t)\n",
    "\n",
    "    ts = ''.join(ts)\n",
    "    new_text = text = f\"<|startoftranscript|><|ms|><|transcribeprecise|>{ts}<|endoftext|>\"\n",
    "\n",
    "    result.append({\n",
    "        'new_text': new_text,\n",
    "        'audio_filename': audio,\n",
    "    })"
   ]
  },
  {
   "cell_type": "code",
   "execution_count": 4,
   "id": "6b7bb24a",
   "metadata": {},
   "outputs": [
    {
     "data": {
      "text/plain": [
       "2422"
      ]
     },
     "execution_count": 4,
     "metadata": {},
     "output_type": "execute_result"
    }
   ],
   "source": [
    "len(result)"
   ]
  },
  {
   "cell_type": "code",
   "execution_count": 9,
   "id": "855b3eae",
   "metadata": {},
   "outputs": [],
   "source": [
    "!zip -rq mallm-v2.zip mallm-v2"
   ]
  },
  {
   "cell_type": "code",
   "execution_count": 10,
   "id": "3320b534",
   "metadata": {},
   "outputs": [],
   "source": [
    "import pandas as pd\n",
    "\n",
    "pd.DataFrame(result).to_parquet('mallm-word-timestamps.parquet')"
   ]
  },
  {
   "cell_type": "code",
   "execution_count": 11,
   "id": "892fb1c8",
   "metadata": {},
   "outputs": [
    {
     "data": {
      "application/vnd.jupyter.widget-view+json": {
       "model_id": "566c34ff9e094aa09caec54926741d3f",
       "version_major": 2,
       "version_minor": 0
      },
      "text/plain": [
       "mallm-word-timestamps.parquet:   0%|          | 0.00/846k [00:00<?, ?B/s]"
      ]
     },
     "metadata": {},
     "output_type": "display_data"
    },
    {
     "data": {
      "text/plain": [
       "CommitInfo(commit_url='https://huggingface.co/datasets/malaysia-ai/STT-Whisper/commit/1fef0f41dd14ec04202b4ffe819427ea5510d065', commit_message='Upload data/mallm_word-00000-of-00001.parquet with huggingface_hub', commit_description='', oid='1fef0f41dd14ec04202b4ffe819427ea5510d065', pr_url=None, repo_url=RepoUrl('https://huggingface.co/datasets/malaysia-ai/STT-Whisper', endpoint='https://huggingface.co', repo_type='dataset', repo_id='malaysia-ai/STT-Whisper'), pr_revision=None, pr_num=None)"
      ]
     },
     "execution_count": 11,
     "metadata": {},
     "output_type": "execute_result"
    }
   ],
   "source": [
    "from huggingface_hub import HfApi\n",
    "api = HfApi()\n",
    "api.upload_file(\n",
    "    path_or_fileobj=\"mallm-word-timestamps.parquet\",\n",
    "    path_in_repo=\"data/mallm_word-00000-of-00001.parquet\",\n",
    "    repo_id=\"malaysia-ai/STT-Whisper\",\n",
    "    repo_type=\"dataset\",\n",
    ")"
   ]
  },
  {
   "cell_type": "code",
   "execution_count": 12,
   "id": "f7bba92b",
   "metadata": {
    "scrolled": true
   },
   "outputs": [
    {
     "data": {
      "application/vnd.jupyter.widget-view+json": {
       "model_id": "a0a0f66cc0f24bc6931c1e670bb61114",
       "version_major": 2,
       "version_minor": 0
      },
      "text/plain": [
       "mallm-v2.zip:   0%|          | 0.00/234M [00:00<?, ?B/s]"
      ]
     },
     "metadata": {},
     "output_type": "display_data"
    },
    {
     "data": {
      "text/plain": [
       "CommitInfo(commit_url='https://huggingface.co/datasets/malaysia-ai/STT-Whisper/commit/3366c6e13701299d1666dd0575a7a52969b53d44', commit_message='Upload mallm-v2.zip with huggingface_hub', commit_description='', oid='3366c6e13701299d1666dd0575a7a52969b53d44', pr_url=None, repo_url=RepoUrl('https://huggingface.co/datasets/malaysia-ai/STT-Whisper', endpoint='https://huggingface.co', repo_type='dataset', repo_id='malaysia-ai/STT-Whisper'), pr_revision=None, pr_num=None)"
      ]
     },
     "execution_count": 12,
     "metadata": {},
     "output_type": "execute_result"
    }
   ],
   "source": [
    "from huggingface_hub import HfApi\n",
    "api = HfApi()\n",
    "api.upload_file(\n",
    "    path_or_fileobj=\"mallm-v2.zip\",\n",
    "    path_in_repo=\"mallm-v2.zip\",\n",
    "    repo_id=\"malaysia-ai/STT-Whisper\",\n",
    "    repo_type=\"dataset\",\n",
    ")"
   ]
  }
 ],
 "metadata": {
  "kernelspec": {
   "display_name": "python3.10",
   "language": "python",
   "name": "python3.10"
  },
  "language_info": {
   "codemirror_mode": {
    "name": "ipython",
    "version": 3
   },
   "file_extension": ".py",
   "mimetype": "text/x-python",
   "name": "python",
   "nbconvert_exporter": "python",
   "pygments_lexer": "ipython3",
   "version": "3.10.15"
  }
 },
 "nbformat": 4,
 "nbformat_minor": 5
}
