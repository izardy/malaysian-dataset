{
 "cells": [
  {
   "cell_type": "code",
   "execution_count": 1,
   "id": "cdcb293b",
   "metadata": {},
   "outputs": [],
   "source": [
    "from glob import glob\n",
    "from tqdm import tqdm\n",
    "from unidecode import unidecode\n",
    "from sklearn.feature_extraction.text import CountVectorizer\n",
    "import json\n",
    "import os\n",
    "import mp\n",
    "import re\n",
    "import string\n",
    "\n",
    "timestamps = [i * 0.02 for i in range(1500 + 1)]\n",
    "\n",
    "rejected_c = set(string.digits) | set(string.punctuation)\n",
    "def clean(s):\n",
    "    for r in rejected_c:\n",
    "        s = s.replace(r, ' ')\n",
    "    return re.sub(r'[ ]+', ' ', ''.join(s)).strip()"
   ]
  },
  {
   "cell_type": "code",
   "execution_count": 2,
   "id": "51f4cb0b",
   "metadata": {},
   "outputs": [
    {
     "data": {
      "application/vnd.jupyter.widget-view+json": {
       "model_id": "bd62298a3ab943589ee1a93b8685ec4c",
       "version_major": 2,
       "version_minor": 0
      },
      "text/plain": [
       "Fetching 11 files:   0%|          | 0/11 [00:00<?, ?it/s]"
      ]
     },
     "metadata": {},
     "output_type": "display_data"
    },
    {
     "data": {
      "text/plain": [
       "'/home/husein/ssd3/malay-dialect-dictionary-instructions'"
      ]
     },
     "execution_count": 2,
     "metadata": {},
     "output_type": "execute_result"
    }
   ],
   "source": [
    "from huggingface_hub import snapshot_download\n",
    "snapshot_download(\n",
    "    repo_id=\"mesolitica/malay-dialect-dictionary-instructions\", \n",
    "    repo_type = 'dataset',\n",
    "    local_dir = './malay-dialect-dictionary-instructions')"
   ]
  },
  {
   "cell_type": "code",
   "execution_count": 3,
   "id": "3a2385d1",
   "metadata": {},
   "outputs": [
    {
     "name": "stderr",
     "output_type": "stream",
     "text": [
      "100%|██████████████████████████████████████████████████████████████████████████████████████| 10/10 [00:00<00:00, 113.80it/s]\n"
     ]
    },
    {
     "data": {
      "text/plain": [
       "5979"
      ]
     },
     "execution_count": 3,
     "metadata": {},
     "output_type": "execute_result"
    }
   ],
   "source": [
    "keywords = set()\n",
    "\n",
    "for f in tqdm(glob('malay-dialect-dictionary-instructions/*jsonl')):\n",
    "    with open(f) as fopen:\n",
    "        for l in fopen:\n",
    "            l = json.loads(l)\n",
    "            k = clean(unidecode(l['left'].lower())).split()\n",
    "            for k_ in k:\n",
    "                keywords.add(k_)\n",
    "len(keywords)"
   ]
  },
  {
   "cell_type": "code",
   "execution_count": 4,
   "id": "12a0eb38",
   "metadata": {},
   "outputs": [
    {
     "data": {
      "text/plain": [
       "147181"
      ]
     },
     "execution_count": 4,
     "metadata": {},
     "output_type": "execute_result"
    }
   ],
   "source": [
    "files = glob('dialects_processed/**/*/*.json', recursive = True)\n",
    "\n",
    "len(files)"
   ]
  },
  {
   "cell_type": "code",
   "execution_count": 5,
   "id": "93023969",
   "metadata": {},
   "outputs": [],
   "source": [
    "rejected = [\n",
    "    'terima kasih kerana menonton',\n",
    "    'terima kasih',\n",
    "    'thank you for watching',\n",
    "]"
   ]
  },
  {
   "cell_type": "code",
   "execution_count": 6,
   "id": "ab581bed",
   "metadata": {},
   "outputs": [],
   "source": [
    "def new_path(f):\n",
    "    f = f.replace('.mp3', '.alignment')\n",
    "    f = f.replace('_processed/', '_processed_alignment/')\n",
    "    return f\n",
    "\n",
    "def loop(files):\n",
    "    files, _ = files\n",
    "    data = []\n",
    "    for file in tqdm(files):\n",
    "        folder = os.path.split(file)[0]\n",
    "        folder_folder = os.path.split(folder)[1]\n",
    "        filename = file.replace('.json', '')\n",
    "\n",
    "        try:\n",
    "            with open(file) as fopen:\n",
    "                d = json.load(fopen)\n",
    "        except:\n",
    "            continue\n",
    "\n",
    "        for no, obj in enumerate(d):\n",
    "            text = obj[\"text\"].strip()\n",
    "            \n",
    "            rt_ = re.sub('[^a-z ]+', '', text.lower()).strip()\n",
    "            if any([s == rt_ for s in rejected]):\n",
    "                continue\n",
    "            \n",
    "            if not len(set(clean(text.lower()).split()) & keywords):\n",
    "                continue\n",
    "            \n",
    "            try:\n",
    "                dense = CountVectorizer(ngram_range = (3,3)).fit_transform([text]).todense()\n",
    "                repeat = (dense > 3).sum() >= 1\n",
    "                if repeat:\n",
    "                    continue\n",
    "            except:\n",
    "                continue\n",
    "            \n",
    "            audio_path = os.path.join(folder, f'{folder_folder}_{no}.mp3')\n",
    "            align_path = new_path(audio_path)\n",
    "            \n",
    "            if not os.path.exists(align_path):\n",
    "                continue\n",
    "                \n",
    "            with open(align_path) as fopen:\n",
    "                align = json.load(fopen)\n",
    "                \n",
    "            scores = [a for a in align if a['score'] <= -15]\n",
    "            if len(scores):\n",
    "                continue\n",
    "\n",
    "            data.append({\n",
    "                'audio': audio_path,\n",
    "                'alignment': align_path,\n",
    "            })\n",
    "    \n",
    "    return data"
   ]
  },
  {
   "cell_type": "code",
   "execution_count": 7,
   "id": "a427830f",
   "metadata": {
    "scrolled": false
   },
   "outputs": [
    {
     "name": "stderr",
     "output_type": "stream",
     "text": [
      "100%|██████████████████████████████████████████████████████████████████████████████████████| 10/10 [00:00<00:00, 612.91it/s]\n"
     ]
    }
   ],
   "source": [
    "d = loop((files[-10:], 0))"
   ]
  },
  {
   "cell_type": "code",
   "execution_count": 8,
   "id": "94ea428d",
   "metadata": {},
   "outputs": [
    {
     "data": {
      "text/plain": [
       "{'audio': 'dialects_processed/‘Zaman PN harga barang naik mencanak!’ - Rafizi [OjJ6hCKU1hE]/‘Zaman PN harga barang naik mencanak!’ - Rafizi [OjJ6hCKU1hE]_0.mp3',\n",
       " 'alignment': 'dialects_processed_alignment/‘Zaman PN harga barang naik mencanak!’ - Rafizi [OjJ6hCKU1hE]/‘Zaman PN harga barang naik mencanak!’ - Rafizi [OjJ6hCKU1hE]_0.alignment'}"
      ]
     },
     "execution_count": 8,
     "metadata": {},
     "output_type": "execute_result"
    }
   ],
   "source": [
    "d[0]"
   ]
  },
  {
   "cell_type": "code",
   "execution_count": 9,
   "id": "140383ea",
   "metadata": {
    "scrolled": true
   },
   "outputs": [
    {
     "name": "stderr",
     "output_type": "stream",
     "text": [
      "100%|██████████████████████████████████████████████████████████████████████████████████| 7359/7359 [01:10<00:00, 104.45it/s]\n",
      "100%|██████████████████████████████████████████████████████████████████████████████████| 7359/7359 [01:11<00:00, 103.35it/s]\n",
      "100%|█████████████████████████████████████████████████████████████████████████████████████████| 1/1 [00:00<00:00, 40.23it/s]\n",
      "100%|██████████████████████████████████████████████████████████████████████████████████| 7359/7359 [01:12<00:00, 101.63it/s]\n",
      "100%|███████████████████████████████████████████████████████████████████████████████████| 7359/7359 [01:14<00:00, 98.59it/s]\n",
      "100%|███████████████████████████████████████████████████████████████████████████████████| 7359/7359 [01:15<00:00, 97.79it/s]\n",
      "100%|███████████████████████████████████████████████████████████████████████████████████| 7359/7359 [01:15<00:00, 97.75it/s]\n",
      "100%|███████████████████████████████████████████████████████████████████████████████████| 7359/7359 [01:15<00:00, 97.81it/s]\n",
      "100%|███████████████████████████████████████████████████████████████████████████████████| 7359/7359 [01:15<00:00, 97.19it/s]\n",
      "100%|███████████████████████████████████████████████████████████████████████████████████| 7359/7359 [01:15<00:00, 97.14it/s]\n",
      "100%|███████████████████████████████████████████████████████████████████████████████████| 7359/7359 [01:15<00:00, 97.10it/s]\n",
      "100%|███████████████████████████████████████████████████████████████████████████████████| 7359/7359 [01:15<00:00, 97.21it/s]\n",
      "100%|███████████████████████████████████████████████████████████████████████████████████| 7359/7359 [01:16<00:00, 96.49it/s]\n",
      "100%|███████████████████████████████████████████████████████████████████████████████████| 7359/7359 [01:16<00:00, 95.90it/s]\n",
      "100%|███████████████████████████████████████████████████████████████████████████████████| 7359/7359 [01:16<00:00, 95.70it/s]\n",
      "100%|███████████████████████████████████████████████████████████████████████████████████| 7359/7359 [01:17<00:00, 95.41it/s]\n",
      "100%|███████████████████████████████████████████████████████████████████████████████████| 7359/7359 [01:17<00:00, 94.43it/s]\n",
      "100%|███████████████████████████████████████████████████████████████████████████████████| 7359/7359 [01:18<00:00, 94.24it/s]\n",
      "100%|███████████████████████████████████████████████████████████████████████████████████| 7359/7359 [01:18<00:00, 93.43it/s]\n",
      "100%|███████████████████████████████████████████████████████████████████████████████████| 7359/7359 [01:19<00:00, 92.64it/s]\n",
      "100%|███████████████████████████████████████████████████████████████████████████████████| 7359/7359 [01:19<00:00, 92.69it/s]\n"
     ]
    },
    {
     "data": {
      "text/plain": [
       "1131225"
      ]
     },
     "execution_count": 9,
     "metadata": {},
     "output_type": "execute_result"
    }
   ],
   "source": [
    "data = mp.multiprocessing(files, loop, cores = 20)\n",
    "len(data)"
   ]
  },
  {
   "cell_type": "code",
   "execution_count": 10,
   "id": "d749a5df",
   "metadata": {},
   "outputs": [],
   "source": [
    "d_ = data[1]"
   ]
  },
  {
   "cell_type": "code",
   "execution_count": 11,
   "id": "f3975212",
   "metadata": {},
   "outputs": [
    {
     "data": {
      "text/plain": [
       "{'audio': 'dialects_processed/KILAUAN EMAS ZON UTARA  KEPUTUSAN [tVjxnbDuEfE]/KILAUAN EMAS ZON UTARA  KEPUTUSAN [tVjxnbDuEfE]_1.mp3',\n",
       " 'alignment': 'dialects_processed_alignment/KILAUAN EMAS ZON UTARA  KEPUTUSAN [tVjxnbDuEfE]/KILAUAN EMAS ZON UTARA  KEPUTUSAN [tVjxnbDuEfE]_1.alignment'}"
      ]
     },
     "execution_count": 11,
     "metadata": {},
     "output_type": "execute_result"
    }
   ],
   "source": [
    "d_"
   ]
  },
  {
   "cell_type": "code",
   "execution_count": 15,
   "id": "d26bf6c9",
   "metadata": {},
   "outputs": [],
   "source": [
    "def loop(rows):\n",
    "    rows, _ = rows\n",
    "    result = []\n",
    "    for r in tqdm(rows):\n",
    "        f = r['audio']\n",
    "        \n",
    "        with open(r['alignment']) as fopen:\n",
    "            align = json.load(fopen)\n",
    "            \n",
    "        c = align\n",
    "        ts = []\n",
    "        for c_ in align:\n",
    "            start = min(timestamps, key=lambda t: abs(t - (c_['start'])))\n",
    "            end = min(timestamps, key=lambda t: abs(t - (c_['end'])))\n",
    "            w = c_['text']\n",
    "            t = f\"<|{start:.2f}|> {w}<|{end:.2f}|>\"\n",
    "            ts.append(t)\n",
    "\n",
    "        ts = ''.join(ts)\n",
    "        new_text = text = f\"<|startoftranscript|><|ms|><|transcribeprecise|>{ts}<|endoftext|>\"\n",
    "        \n",
    "        result.append({\n",
    "            'new_text': new_text,\n",
    "            'audio_filename': f\n",
    "        })\n",
    "    return result"
   ]
  },
  {
   "cell_type": "code",
   "execution_count": 16,
   "id": "f4527761",
   "metadata": {},
   "outputs": [
    {
     "name": "stderr",
     "output_type": "stream",
     "text": [
      "100%|████████████████████████████████████████████████████████████████████████████████████| 100/100 [00:00<00:00, 450.60it/s]\n"
     ]
    }
   ],
   "source": [
    "r = loop((data[:100], 0))"
   ]
  },
  {
   "cell_type": "code",
   "execution_count": 17,
   "id": "e2e6ae00",
   "metadata": {},
   "outputs": [
    {
     "data": {
      "text/plain": [
       "{'new_text': '<|startoftranscript|><|ms|><|transcribeprecise|><|0.04|> Abang<|0.24|><|0.28|> yakin<|0.66|><|0.72|> tak,<|0.88|><|1.14|> untuk<|1.58|><|1.90|> mewakili<|2.42|><|2.56|> Zon<|2.68|><|2.74|> Utara?<|3.16|><|endoftext|>',\n",
       " 'audio_filename': 'dialects_processed/KILAUAN EMAS ZON UTARA  KEPUTUSAN [tVjxnbDuEfE]/KILAUAN EMAS ZON UTARA  KEPUTUSAN [tVjxnbDuEfE]_0.mp3'}"
      ]
     },
     "execution_count": 17,
     "metadata": {},
     "output_type": "execute_result"
    }
   ],
   "source": [
    "r[0]"
   ]
  },
  {
   "cell_type": "code",
   "execution_count": 18,
   "id": "9ab9d94e",
   "metadata": {},
   "outputs": [
    {
     "data": {
      "text/plain": [
       "{'new_text': '<|startoftranscript|><|ms|><|transcribeprecise|><|0.02|> Kita<|0.34|><|0.78|> yang<|0.88|><|0.92|> transfer<|1.28|><|1.34|> tu,<|1.40|><|1.74|> tajuknya<|2.22|><|2.32|> mesti<|2.54|><|2.66|> bahagian<|3.04|><|3.08|> nombor<|3.26|><|3.30|> satu<|3.56|><|3.64|> ni.<|3.70|><|3.88|> Ni<|3.94|><|4.00|> paling<|4.16|><|4.20|> penting.<|4.48|><|5.24|> Kalau<|5.50|><|5.58|> tajuk<|6.02|><|6.10|> tu<|6.14|><|6.26|> duduk<|6.48|><|6.52|> bahagian<|6.80|><|6.86|> nombor<|7.04|><|7.08|> dua,<|7.24|><|8.46|> kata<|8.80|><|8.98|> studio<|9.20|><|9.28|> tak<|9.36|><|9.40|> boleh<|9.54|><|9.58|> baca.<|9.96|><|endoftext|>',\n",
       " 'audio_filename': 'dialects_processed/🔴[LIVE] ASAS DATA STUDIO ｜ SIRI 1 [rpM7zMlbwEg]/🔴[LIVE] ASAS DATA STUDIO ｜ SIRI 1 [rpM7zMlbwEg]_139.mp3'}"
      ]
     },
     "execution_count": 18,
     "metadata": {},
     "output_type": "execute_result"
    }
   ],
   "source": [
    "r[-1]"
   ]
  },
  {
   "cell_type": "code",
   "execution_count": 19,
   "id": "73d18495",
   "metadata": {},
   "outputs": [
    {
     "name": "stderr",
     "output_type": "stream",
     "text": [
      "100%|████████████████████████████████████████████████████████████████████████████████| 75415/75415 [05:36<00:00, 223.79it/s]\n",
      "100%|████████████████████████████████████████████████████████████████████████████████| 75415/75415 [05:37<00:00, 223.55it/s]\n",
      "100%|████████████████████████████████████████████████████████████████████████████████| 75415/75415 [05:32<00:00, 226.58it/s]\n",
      "100%|████████████████████████████████████████████████████████████████████████████████| 75415/75415 [05:41<00:00, 221.04it/s]\n",
      "100%|████████████████████████████████████████████████████████████████████████████████| 75415/75415 [05:40<00:00, 221.47it/s]\n",
      "100%|████████████████████████████████████████████████████████████████████████████████| 75415/75415 [05:46<00:00, 217.89it/s]\n",
      "100%|████████████████████████████████████████████████████████████████████████████████| 75415/75415 [05:43<00:00, 219.52it/s]\n",
      "100%|████████████████████████████████████████████████████████████████████████████████| 75415/75415 [05:46<00:00, 217.48it/s]\n",
      "100%|████████████████████████████████████████████████████████████████████████████████| 75415/75415 [05:42<00:00, 219.88it/s]\n",
      "100%|████████████████████████████████████████████████████████████████████████████████| 75415/75415 [05:49<00:00, 215.51it/s]\n",
      "100%|████████████████████████████████████████████████████████████████████████████████| 75415/75415 [05:49<00:00, 215.99it/s]\n",
      "100%|████████████████████████████████████████████████████████████████████████████████| 75415/75415 [05:48<00:00, 216.36it/s]\n",
      "100%|████████████████████████████████████████████████████████████████████████████████| 75415/75415 [05:50<00:00, 214.88it/s]\n",
      "100%|████████████████████████████████████████████████████████████████████████████████| 75415/75415 [05:50<00:00, 214.89it/s]\n",
      "100%|████████████████████████████████████████████████████████████████████████████████| 75415/75415 [05:52<00:00, 213.90it/s]\n"
     ]
    }
   ],
   "source": [
    "r = mp.multiprocessing(data, loop, cores = 15)"
   ]
  },
  {
   "cell_type": "code",
   "execution_count": 20,
   "id": "6f1e3db1",
   "metadata": {},
   "outputs": [],
   "source": [
    "import pandas as pd\n",
    "\n",
    "pd.DataFrame(r).to_parquet('gather-dialects-word.parquet')"
   ]
  },
  {
   "cell_type": "code",
   "execution_count": 21,
   "id": "3cd9779e",
   "metadata": {},
   "outputs": [
    {
     "data": {
      "application/vnd.jupyter.widget-view+json": {
       "model_id": "a9359f06694246ed99a4bbcf2b19c5c0",
       "version_major": 2,
       "version_minor": 0
      },
      "text/plain": [
       "gather-dialects-word.parquet:   0%|          | 0.00/286M [00:00<?, ?B/s]"
      ]
     },
     "metadata": {},
     "output_type": "display_data"
    },
    {
     "data": {
      "text/plain": [
       "CommitInfo(commit_url='https://huggingface.co/datasets/malaysia-ai/STT-Whisper/commit/de5a8a33365a59b1711325014080a6b7a51610d3', commit_message='Upload data/dialects_word-00000-of-00001.parquet with huggingface_hub', commit_description='', oid='de5a8a33365a59b1711325014080a6b7a51610d3', pr_url=None, repo_url=RepoUrl('https://huggingface.co/datasets/malaysia-ai/STT-Whisper', endpoint='https://huggingface.co', repo_type='dataset', repo_id='malaysia-ai/STT-Whisper'), pr_revision=None, pr_num=None)"
      ]
     },
     "execution_count": 21,
     "metadata": {},
     "output_type": "execute_result"
    }
   ],
   "source": [
    "from huggingface_hub import HfApi\n",
    "api = HfApi()\n",
    "api.upload_file(\n",
    "    path_or_fileobj=\"gather-dialects-word.parquet\",\n",
    "    path_in_repo=\"data/dialects_word-00000-of-00001.parquet\",\n",
    "    repo_id=\"malaysia-ai/STT-Whisper\",\n",
    "    repo_type=\"dataset\",\n",
    ")"
   ]
  }
 ],
 "metadata": {
  "kernelspec": {
   "display_name": "python3.10",
   "language": "python",
   "name": "python3.10"
  },
  "language_info": {
   "codemirror_mode": {
    "name": "ipython",
    "version": 3
   },
   "file_extension": ".py",
   "mimetype": "text/x-python",
   "name": "python",
   "nbconvert_exporter": "python",
   "pygments_lexer": "ipython3",
   "version": "3.10.15"
  }
 },
 "nbformat": 4,
 "nbformat_minor": 5
}
