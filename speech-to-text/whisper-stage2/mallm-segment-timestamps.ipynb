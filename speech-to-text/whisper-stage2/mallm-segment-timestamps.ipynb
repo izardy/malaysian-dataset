{
 "cells": [
  {
   "cell_type": "code",
   "execution_count": 1,
   "id": "9b1a3515",
   "metadata": {},
   "outputs": [],
   "source": [
    "import json\n",
    "import os\n",
    "\n",
    "timestamps = [i * 0.02 for i in range(1500 + 1)]\n",
    "replace = {\n",
    "    'Aee.': 'A.',\n",
    "    'Bee.': 'B.',\n",
    "    'See.': 'C.',\n",
    "    'Dee.': 'D.',\n",
    "}"
   ]
  },
  {
   "cell_type": "code",
   "execution_count": 2,
   "id": "65937d7d",
   "metadata": {},
   "outputs": [
    {
     "data": {
      "text/plain": [
       "6564"
      ]
     },
     "execution_count": 2,
     "metadata": {},
     "output_type": "execute_result"
    }
   ],
   "source": [
    "with open('mallm.json') as fopen:\n",
    "    d = json.load(fopen)\n",
    "    \n",
    "len(d)"
   ]
  },
  {
   "cell_type": "code",
   "execution_count": 3,
   "id": "88468ded",
   "metadata": {},
   "outputs": [],
   "source": [
    "result = []\n",
    "\n",
    "for i in range(len(d)):\n",
    "    audio = os.path.join('mallm-v2', f'{i}.mp3')\n",
    "    align = os.path.join('mallm-v2-alignment_alignment', f'{i}.json')\n",
    "    \n",
    "    if not os.path.exists(audio):\n",
    "        continue\n",
    "    \n",
    "    with open(align) as fopen:\n",
    "        align = json.load(fopen)\n",
    "    \n",
    "    merged_data = []\n",
    "    for entry in align[1:]:\n",
    "        if entry['text'] == '.' and merged_data:\n",
    "            merged_data[-1]['text'] += '.'\n",
    "            merged_data[-1]['end'] = entry['end']\n",
    "        else:\n",
    "            merged_data.append(entry)\n",
    "\n",
    "    for i in range(len(merged_data)):\n",
    "        merged_data[i]['text'] = replace.get(merged_data[i]['text'], merged_data[i]['text'])\n",
    "        \n",
    "    align = merged_data\n",
    "        \n",
    "    segments, temp = [], [align[0]]\n",
    "    last_t = align[0]['end']\n",
    "    for c in align[1:]:\n",
    "        if (c['start'] - last_t) > 0.2:\n",
    "            segments.append(temp)\n",
    "            temp = []\n",
    "\n",
    "        last_t = c['end']\n",
    "        temp.append(c)\n",
    "\n",
    "    if len(temp):\n",
    "        segments.append(temp)\n",
    "\n",
    "    ts = []\n",
    "    for s in segments:\n",
    "        start = min(timestamps, key=lambda t: abs(t - s[0]['start']))\n",
    "        end = min(timestamps, key=lambda t: abs(t - s[-1]['end']))\n",
    "        w = ' '.join([c['text'] for c in s])\n",
    "        t = f\"<|{start:.2f}|> {w}<|{end:.2f}|>\"\n",
    "        ts.append(t)\n",
    "\n",
    "    ts = ''.join(ts)\n",
    "    new_text = text = f\"<|startoftranscript|><|ms|><|transcribe|>{ts}<|endoftext|>\"\n",
    "\n",
    "    result.append({\n",
    "        'new_text': new_text,\n",
    "        'audio_filename': audio,\n",
    "    })"
   ]
  },
  {
   "cell_type": "code",
   "execution_count": 4,
   "id": "6b7bb24a",
   "metadata": {},
   "outputs": [
    {
     "data": {
      "text/plain": [
       "2422"
      ]
     },
     "execution_count": 4,
     "metadata": {},
     "output_type": "execute_result"
    }
   ],
   "source": [
    "len(result)"
   ]
  },
  {
   "cell_type": "code",
   "execution_count": 5,
   "id": "1d86cba0",
   "metadata": {},
   "outputs": [
    {
     "data": {
      "text/plain": [
       "{'new_text': '<|startoftranscript|><|ms|><|transcribe|><|0.34|> Manakah antara berikut merupakan catatan kontra bagi Akaun Jualan?<|3.26|><|3.74|> A. Pulangan masuk. B. Pulangan keluar.<|6.50|><|6.76|> C. Angkutan masuk. D.<|8.30|><|8.56|> Angkutan keluar.<|9.36|><|endoftext|>',\n",
       " 'audio_filename': 'mallm-v2/0.mp3'}"
      ]
     },
     "execution_count": 5,
     "metadata": {},
     "output_type": "execute_result"
    }
   ],
   "source": [
    "result[0]"
   ]
  },
  {
   "cell_type": "code",
   "execution_count": 6,
   "id": "3320b534",
   "metadata": {},
   "outputs": [],
   "source": [
    "import pandas as pd\n",
    "\n",
    "pd.DataFrame(result).to_parquet('mallm-segment-timestamps.parquet')"
   ]
  },
  {
   "cell_type": "code",
   "execution_count": 7,
   "id": "892fb1c8",
   "metadata": {},
   "outputs": [
    {
     "data": {
      "application/vnd.jupyter.widget-view+json": {
       "model_id": "298dad4b92da4e6c8efdbabd3e4b7df7",
       "version_major": 2,
       "version_minor": 0
      },
      "text/plain": [
       "mallm-segment-timestamps.parquet:   0%|          | 0.00/439k [00:00<?, ?B/s]"
      ]
     },
     "metadata": {},
     "output_type": "display_data"
    },
    {
     "data": {
      "text/plain": [
       "CommitInfo(commit_url='https://huggingface.co/datasets/malaysia-ai/STT-Whisper/commit/56b4527d6fa3bd78b2eb495d55e7a8e1212f09ca', commit_message='Upload data/mallm_segment-00000-of-00001.parquet with huggingface_hub', commit_description='', oid='56b4527d6fa3bd78b2eb495d55e7a8e1212f09ca', pr_url=None, repo_url=RepoUrl('https://huggingface.co/datasets/malaysia-ai/STT-Whisper', endpoint='https://huggingface.co', repo_type='dataset', repo_id='malaysia-ai/STT-Whisper'), pr_revision=None, pr_num=None)"
      ]
     },
     "execution_count": 7,
     "metadata": {},
     "output_type": "execute_result"
    }
   ],
   "source": [
    "from huggingface_hub import HfApi\n",
    "api = HfApi()\n",
    "api.upload_file(\n",
    "    path_or_fileobj=\"mallm-segment-timestamps.parquet\",\n",
    "    path_in_repo=\"data/mallm_segment-00000-of-00001.parquet\",\n",
    "    repo_id=\"malaysia-ai/STT-Whisper\",\n",
    "    repo_type=\"dataset\",\n",
    ")"
   ]
  }
 ],
 "metadata": {
  "kernelspec": {
   "display_name": "python3.10",
   "language": "python",
   "name": "python3.10"
  },
  "language_info": {
   "codemirror_mode": {
    "name": "ipython",
    "version": 3
   },
   "file_extension": ".py",
   "mimetype": "text/x-python",
   "name": "python",
   "nbconvert_exporter": "python",
   "pygments_lexer": "ipython3",
   "version": "3.10.15"
  }
 },
 "nbformat": 4,
 "nbformat_minor": 5
}
