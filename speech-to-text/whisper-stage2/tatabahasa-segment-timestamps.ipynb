{
 "cells": [
  {
   "cell_type": "code",
   "execution_count": 1,
   "id": "9b1a3515",
   "metadata": {},
   "outputs": [],
   "source": [
    "import json\n",
    "import os\n",
    "\n",
    "timestamps = [i * 0.02 for i in range(1500 + 1)]\n",
    "replace = {\n",
    "    'Aee.': 'A.',\n",
    "    'Bee.': 'B.',\n",
    "    'See.': 'C.',\n",
    "    'Dee.': 'D.',\n",
    "}"
   ]
  },
  {
   "cell_type": "code",
   "execution_count": 2,
   "id": "65937d7d",
   "metadata": {},
   "outputs": [
    {
     "data": {
      "text/plain": [
       "1284"
      ]
     },
     "execution_count": 2,
     "metadata": {},
     "output_type": "execute_result"
    }
   ],
   "source": [
    "with open('tatabahasa.json') as fopen:\n",
    "    d = json.load(fopen)\n",
    "    \n",
    "len(d)"
   ]
  },
  {
   "cell_type": "code",
   "execution_count": 6,
   "id": "88468ded",
   "metadata": {},
   "outputs": [],
   "source": [
    "result = []\n",
    "\n",
    "for i in range(len(d)):\n",
    "    audio = os.path.join('tatabahasa-v2', f'{i}.mp3')\n",
    "    align = os.path.join('tatabahasa-v2-alignment_alignment', f'{i}.json')\n",
    "    \n",
    "    if not os.path.exists(audio):\n",
    "        continue\n",
    "    \n",
    "    with open(align) as fopen:\n",
    "        align = json.load(fopen)\n",
    "    \n",
    "    merged_data = []\n",
    "    for entry in align[1:]:\n",
    "        if entry['text'] == '.' and merged_data:\n",
    "            merged_data[-1]['text'] += '.'\n",
    "            merged_data[-1]['end'] = entry['end']\n",
    "        else:\n",
    "            merged_data.append(entry)\n",
    "\n",
    "    for i in range(len(merged_data)):\n",
    "        merged_data[i]['text'] = replace.get(merged_data[i]['text'], merged_data[i]['text'])\n",
    "        \n",
    "    align = merged_data\n",
    "        \n",
    "    segments, temp = [], [align[0]]\n",
    "    last_t = align[0]['end']\n",
    "    for c in align[1:]:\n",
    "        if (c['start'] - last_t) > 0.2:\n",
    "            segments.append(temp)\n",
    "            temp = []\n",
    "\n",
    "        last_t = c['end']\n",
    "        temp.append(c)\n",
    "\n",
    "    if len(temp):\n",
    "        segments.append(temp)\n",
    "\n",
    "    ts = []\n",
    "    for s in segments:\n",
    "        start = min(timestamps, key=lambda t: abs(t - s[0]['start']))\n",
    "        end = min(timestamps, key=lambda t: abs(t - s[-1]['end']))\n",
    "        w = ' '.join([c['text'] for c in s])\n",
    "        t = f\"<|{start:.2f}|> {w}<|{end:.2f}|>\"\n",
    "        ts.append(t)\n",
    "\n",
    "    ts = ''.join(ts)\n",
    "    new_text = text = f\"<|startoftranscript|><|ms|><|transcribe|>{ts}<|endoftext|>\"\n",
    "\n",
    "    result.append({\n",
    "        'new_text': new_text,\n",
    "        'audio_filename': audio,\n",
    "    })"
   ]
  },
  {
   "cell_type": "code",
   "execution_count": 7,
   "id": "6b7bb24a",
   "metadata": {},
   "outputs": [
    {
     "data": {
      "text/plain": [
       "671"
      ]
     },
     "execution_count": 7,
     "metadata": {},
     "output_type": "execute_result"
    }
   ],
   "source": [
    "len(result)"
   ]
  },
  {
   "cell_type": "code",
   "execution_count": 8,
   "id": "1d86cba0",
   "metadata": {},
   "outputs": [
    {
     "data": {
      "text/plain": [
       "{'new_text': '<|startoftranscript|><|ms|><|transcribe|><|0.42|> Isi tempat kosong dengan jawapan yang paling sesuai.<|3.18|><|3.72|> Pengunjung yang berkelah di tepi sungai itu terkejut dengan kehadiran beberapa ekor ,<|7.96|><|8.18|> Tempat Kosong , yang tenggelam timbul di permukaan sungai.<|10.96|><|11.64|> A. harimau berantai.<|13.38|><|13.64|> B. buaya tembaga.<|15.66|><|16.36|> C.<|16.78|><|17.12|> bunga dedap.<|17.96|><|18.24|> D. buaya darat.<|19.36|><|endoftext|>',\n",
       " 'audio_filename': 'tatabahasa-v2/0.mp3'}"
      ]
     },
     "execution_count": 8,
     "metadata": {},
     "output_type": "execute_result"
    }
   ],
   "source": [
    "result[0]"
   ]
  },
  {
   "cell_type": "code",
   "execution_count": 9,
   "id": "3320b534",
   "metadata": {},
   "outputs": [],
   "source": [
    "import pandas as pd\n",
    "\n",
    "pd.DataFrame(result).to_parquet('tatabahasa-segment-timestamps.parquet')"
   ]
  },
  {
   "cell_type": "code",
   "execution_count": 10,
   "id": "892fb1c8",
   "metadata": {},
   "outputs": [
    {
     "data": {
      "application/vnd.jupyter.widget-view+json": {
       "model_id": "3f0c335077d248f5b0acf5be8291db2f",
       "version_major": 2,
       "version_minor": 0
      },
      "text/plain": [
       "tatabahasa-segment-timestamps.parquet:   0%|          | 0.00/122k [00:00<?, ?B/s]"
      ]
     },
     "metadata": {},
     "output_type": "display_data"
    },
    {
     "data": {
      "text/plain": [
       "CommitInfo(commit_url='https://huggingface.co/datasets/malaysia-ai/STT-Whisper/commit/ac890967abbc31ef3dee1ba7b985ec8dbf208b9f', commit_message='Upload data/tatabahasa_segment-00000-of-00001.parquet with huggingface_hub', commit_description='', oid='ac890967abbc31ef3dee1ba7b985ec8dbf208b9f', pr_url=None, repo_url=RepoUrl('https://huggingface.co/datasets/malaysia-ai/STT-Whisper', endpoint='https://huggingface.co', repo_type='dataset', repo_id='malaysia-ai/STT-Whisper'), pr_revision=None, pr_num=None)"
      ]
     },
     "execution_count": 10,
     "metadata": {},
     "output_type": "execute_result"
    }
   ],
   "source": [
    "from huggingface_hub import HfApi\n",
    "api = HfApi()\n",
    "api.upload_file(\n",
    "    path_or_fileobj=\"tatabahasa-segment-timestamps.parquet\",\n",
    "    path_in_repo=\"data/tatabahasa_segment-00000-of-00001.parquet\",\n",
    "    repo_id=\"malaysia-ai/STT-Whisper\",\n",
    "    repo_type=\"dataset\",\n",
    ")"
   ]
  }
 ],
 "metadata": {
  "kernelspec": {
   "display_name": "python3.10",
   "language": "python",
   "name": "python3.10"
  },
  "language_info": {
   "codemirror_mode": {
    "name": "ipython",
    "version": 3
   },
   "file_extension": ".py",
   "mimetype": "text/x-python",
   "name": "python",
   "nbconvert_exporter": "python",
   "pygments_lexer": "ipython3",
   "version": "3.10.15"
  }
 },
 "nbformat": 4,
 "nbformat_minor": 5
}
