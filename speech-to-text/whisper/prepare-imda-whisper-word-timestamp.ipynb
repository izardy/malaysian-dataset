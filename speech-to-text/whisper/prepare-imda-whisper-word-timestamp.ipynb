{
 "cells": [
  {
   "cell_type": "code",
   "execution_count": 1,
   "id": "6428e81f",
   "metadata": {},
   "outputs": [],
   "source": [
    "import json\n",
    "import os\n",
    "import mp\n",
    "import numpy as np\n",
    "from collections import defaultdict\n",
    "from glob import glob\n",
    "from tqdm import tqdm\n",
    "import soundfile as sf\n",
    "import re\n",
    "\n",
    "timestamps = [i * 0.02 for i in range(1500 + 1)]"
   ]
  },
  {
   "cell_type": "code",
   "execution_count": 2,
   "id": "6fbb4518",
   "metadata": {},
   "outputs": [],
   "source": [
    "from huggingface_hub import hf_hub_download\n",
    "import fasttext\n",
    "\n",
    "filename = hf_hub_download(\n",
    "    repo_id=\"mesolitica/fasttext-language-detection-bahasa-en\", \n",
    "    filename=\"fasttext.ftz\"\n",
    ")\n",
    "lang_model = fasttext.load_model(filename)"
   ]
  },
  {
   "cell_type": "code",
   "execution_count": 3,
   "id": "68fa4d07",
   "metadata": {},
   "outputs": [],
   "source": [
    "def chunk(alignment, reject = -7, minimum_length = 1.0):\n",
    "    alls, temp = [], []\n",
    "    for a in alignment:\n",
    "        if a['score'] <= reject:\n",
    "            if len(temp):\n",
    "                if (temp[-1]['end'] - temp[0]['start']) >= minimum_length:\n",
    "                    temp[-1]['end'] = float(temp[-1]['end']) + 0.1\n",
    "                    alls.append(temp)\n",
    "                temp = []\n",
    "        else:\n",
    "            temp.append(a)\n",
    "            \n",
    "    if len(temp):\n",
    "        if (temp[-1]['end'] - temp[0]['start']) >= minimum_length:\n",
    "            temp[-1]['end'] = float(temp[-1]['end']) + 0.1\n",
    "            alls.append(temp)\n",
    "    return alls"
   ]
  },
  {
   "cell_type": "code",
   "execution_count": 4,
   "id": "5ca8d308",
   "metadata": {},
   "outputs": [
    {
     "name": "stderr",
     "output_type": "stream",
     "text": [
      "1861125it [00:10, 178922.05it/s]\n"
     ]
    },
    {
     "data": {
      "text/plain": [
       "1861082"
      ]
     },
     "execution_count": 4,
     "metadata": {},
     "output_type": "execute_result"
    }
   ],
   "source": [
    "data = defaultdict(list)\n",
    "with open('prepared-imda.jsonl') as fopen:\n",
    "    for no, l in tqdm(enumerate(fopen)):\n",
    "        l = json.loads(l)\n",
    "        data[l['audio_filename']].append((no, l))\n",
    "        \n",
    "len(data)"
   ]
  },
  {
   "cell_type": "code",
   "execution_count": 5,
   "id": "314dc54c",
   "metadata": {},
   "outputs": [
    {
     "data": {
      "text/plain": [
       "1861082"
      ]
     },
     "execution_count": 5,
     "metadata": {},
     "output_type": "execute_result"
    }
   ],
   "source": [
    "rows = list(data.values())\n",
    "len(rows)"
   ]
  },
  {
   "cell_type": "code",
   "execution_count": 6,
   "id": "bcc00406",
   "metadata": {},
   "outputs": [
    {
     "data": {
      "text/plain": [
       "[(0,\n",
       "  {'new_text': '<|startoftranscript|><|en|><|transcribe|><|0.00|> Households with target sets were encouraged to try keeping their water consumption below these designated levels.<|7.00|><|endoftext|>',\n",
       "   'audio_filename': 'IMDA-STT/part1-mp3/000010101.mp3'})]"
      ]
     },
     "execution_count": 6,
     "metadata": {},
     "output_type": "execute_result"
    }
   ],
   "source": [
    "rows[0]"
   ]
  },
  {
   "cell_type": "code",
   "execution_count": 7,
   "id": "d3633b01",
   "metadata": {},
   "outputs": [],
   "source": [
    "!rm -rf /home/husein/ssd3/prepared-imda-chunks\n",
    "!mkdir /home/husein/ssd3/prepared-imda-chunks"
   ]
  },
  {
   "cell_type": "code",
   "execution_count": 8,
   "id": "8b6107ec",
   "metadata": {},
   "outputs": [],
   "source": [
    "def loop(data):\n",
    "    data, _ = data\n",
    "    new_data = []\n",
    "    for d in tqdm(data):\n",
    "        \n",
    "        aligns, scores = [], []\n",
    "        for i in d:\n",
    "            f = f'prepared-imda_alignment/{i[0]}.alignment'\n",
    "            try:\n",
    "                with open(f) as fopen:\n",
    "                    align = json.load(fopen)\n",
    "                    score = np.sum([s['score'] for s in align])\n",
    "                    aligns.append(align)\n",
    "                    scores.append(score)\n",
    "            except:\n",
    "                aligns.append([])\n",
    "                scores.append(-9999)\n",
    "\n",
    "        argmax = np.argmax(scores)\n",
    "        no = d[argmax][0]\n",
    "        text = d[argmax][1]['new_text']\n",
    "        lang = text.split('<|startoftranscript|><|')[1].split('|')[0]\n",
    "        cleaned_text = re.sub(r\"<\\|.*?\\|>\", \"\", text).strip()\n",
    "        if lang_model.predict(cleaned_text)[0][0] == '__label__english':\n",
    "            predict_lang = 'en'\n",
    "        else:\n",
    "            predict_lang = 'ms'\n",
    "        \n",
    "        chunks = chunk(aligns[argmax])\n",
    "        audio_filename = d[argmax][1]['audio_filename'].replace('IMDA-STT/', '')\n",
    "        if len(chunks):\n",
    "            y, sr = sf.read(audio_filename)\n",
    "            for k, c in enumerate(chunks):\n",
    "                \n",
    "                y_ = y[int(sr * c[0]['start']): int(sr * c[-1]['end'])]\n",
    "                \n",
    "                skip = False\n",
    "                \n",
    "                for c_ in c:\n",
    "                    if (c_['end'] - c_['start']) > 2:\n",
    "                        skip = True\n",
    "                        break\n",
    "                if skip:\n",
    "                    continue\n",
    "                \n",
    "                for no_ in range(len(c)):\n",
    "                    if no_ > 0 and (c[no_]['start'] - c[no_ - 1]['end']) > 1.2:\n",
    "                        skip = True\n",
    "                        break\n",
    "                if skip:\n",
    "                    continue\n",
    "                    \n",
    "                ts = []\n",
    "                \n",
    "                min_t = min([c_['start'] for c_ in c])\n",
    "                \n",
    "                for c_ in c:\n",
    "                    start = min(timestamps, key=lambda t: abs(t - (c_['start'] - min_t)))\n",
    "                    end = min(timestamps, key=lambda t: abs(t - (c_['end'] - min_t)))\n",
    "                    w = c_['text']\n",
    "                    t = f\"<|{start:.2f}|> {w}<|{end:.2f}|>\"\n",
    "                    ts.append(t)\n",
    "                    \n",
    "                new_f = os.path.join('/home/husein/ssd3/prepared-imda-chunks', f'{no}-{k}.mp3')\n",
    "                if not os.path.exists(new_f):\n",
    "                    sf.write(new_f, y_, sr)\n",
    "                    \n",
    "                word = ''.join(ts)\n",
    "                word = f\"<|startoftranscript|><|{predict_lang}|><|transcribeprecise|>{word}<|endoftext|>\"\n",
    "                \n",
    "                segments, temp = [], [c[0]]\n",
    "                last_t = c[0]['end']\n",
    "                for c_ in c[1:]:\n",
    "                    if (c_['start'] - last_t) > 0.25:\n",
    "                        segments.append(temp)\n",
    "                        temp = []\n",
    "\n",
    "                    last_t = c_['end']\n",
    "                    temp.append(c_)\n",
    "\n",
    "                if len(temp):\n",
    "                    segments.append(temp)\n",
    "                \n",
    "                ts = []\n",
    "                for s in segments:\n",
    "                    start = min(timestamps, key=lambda t: abs(t - (s[0]['start'] - min_t)))\n",
    "                    end = min(timestamps, key=lambda t: abs(t - (s[-1]['end'] - min_t)))\n",
    "                    w = ' '.join([c_['text'] for c_ in s])\n",
    "                    t = f\"<|{start:.2f}|> {w}<|{end:.2f}|>\"\n",
    "                    ts.append(t)\n",
    "                \n",
    "                ts = ''.join(ts)\n",
    "                new_text = f\"<|startoftranscript|><|{predict_lang}|><|transcribe|>{ts}<|endoftext|>\"\n",
    "                \n",
    "                new_data.append({\n",
    "                    'audio_filename': new_f,\n",
    "                    'word_timestamp': word,\n",
    "                    'segment_timestamp': new_text,\n",
    "                })\n",
    "                \n",
    "    return new_data"
   ]
  },
  {
   "cell_type": "code",
   "execution_count": 9,
   "id": "5e92c2e7",
   "metadata": {},
   "outputs": [
    {
     "name": "stderr",
     "output_type": "stream",
     "text": [
      "100%|████████████████████████████████████████████████████████████████████████████████████████████████| 100/100 [00:02<00:00, 47.44it/s]\n"
     ]
    },
    {
     "data": {
      "text/plain": [
       "119"
      ]
     },
     "execution_count": 9,
     "metadata": {},
     "output_type": "execute_result"
    }
   ],
   "source": [
    "r = loop((rows[:100], 0))\n",
    "len(r)"
   ]
  },
  {
   "cell_type": "code",
   "execution_count": 14,
   "id": "8a92f956",
   "metadata": {},
   "outputs": [
    {
     "data": {
      "text/plain": [
       "{'audio_filename': '/home/husein/ssd3/prepared-imda-chunks/0-0.mp3',\n",
       " 'word_timestamp': '<|startoftranscript|><|en|><|transcribeprecise|><|0.00|> Households<|0.58|><|0.64|> with<|0.76|><|0.86|> target<|1.16|><|1.24|> sets<|1.50|><|1.70|> were<|1.82|><|1.90|> encouraged<|2.40|><|2.44|> to<|2.48|><|2.62|> try<|2.80|><|2.90|> keeping<|3.30|><|endoftext|>',\n",
       " 'segment_timestamp': '<|startoftranscript|><|en|><|transcribe|><|0.00|> Households with target sets were encouraged to try keeping<|3.30|><|endoftext|>'}"
      ]
     },
     "execution_count": 14,
     "metadata": {},
     "output_type": "execute_result"
    }
   ],
   "source": [
    "r[0]"
   ]
  },
  {
   "cell_type": "code",
   "execution_count": 15,
   "id": "667768dd",
   "metadata": {},
   "outputs": [
    {
     "data": {
      "text/html": [
       "\n",
       "                <audio  controls=\"controls\" >\n",
       "                    <source src=\"data:audio/mpeg;base64,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\" type=\"audio/mpeg\" />\n",
       "                    Your browser does not support the audio element.\n",
       "                </audio>\n",
       "              "
      ],
      "text/plain": [
       "<IPython.lib.display.Audio object>"
      ]
     },
     "execution_count": 15,
     "metadata": {},
     "output_type": "execute_result"
    }
   ],
   "source": [
    "import IPython.display as ipd\n",
    "ipd.Audio(r[0]['audio_filename'])"
   ]
  },
  {
   "cell_type": "code",
   "execution_count": 16,
   "id": "c8df2884",
   "metadata": {},
   "outputs": [
    {
     "data": {
      "text/plain": [
       "1861082"
      ]
     },
     "execution_count": 16,
     "metadata": {},
     "output_type": "execute_result"
    }
   ],
   "source": [
    "len(rows)"
   ]
  },
  {
   "cell_type": "code",
   "execution_count": 17,
   "id": "b14d0b09",
   "metadata": {},
   "outputs": [
    {
     "name": "stderr",
     "output_type": "stream",
     "text": [
      "100%|████████████████████████████████████████████████████████████████████████████████████████| 186108/186108 [1:01:38<00:00, 50.32it/s]\n",
      "100%|████████████████████████████████████████████████████████████████████████████████████████████████████| 2/2 [00:00<00:00, 41.82it/s]\n",
      "100%|████████████████████████████████████████████████████████████████████████████████████████| 186108/186108 [1:05:16<00:00, 47.51it/s]\n",
      "100%|████████████████████████████████████████████████████████████████████████████████████████| 186108/186108 [1:16:19<00:00, 40.64it/s]\n",
      "100%|████████████████████████████████████████████████████████████████████████████████████████| 186108/186108 [1:23:25<00:00, 37.18it/s]\n",
      "100%|████████████████████████████████████████████████████████████████████████████████████████| 186108/186108 [1:30:32<00:00, 34.26it/s]\n",
      "100%|████████████████████████████████████████████████████████████████████████████████████████| 186108/186108 [1:30:55<00:00, 34.11it/s]\n",
      "100%|████████████████████████████████████████████████████████████████████████████████████████| 186108/186108 [1:34:54<00:00, 32.68it/s]\n",
      "100%|████████████████████████████████████████████████████████████████████████████████████████| 186108/186108 [1:35:07<00:00, 32.61it/s]\n",
      "100%|████████████████████████████████████████████████████████████████████████████████████████| 186108/186108 [2:22:25<00:00, 21.78it/s]\n",
      "100%|████████████████████████████████████████████████████████████████████████████████████████| 186108/186108 [2:31:07<00:00, 20.53it/s]\n"
     ]
    }
   ],
   "source": [
    "r = mp.multiprocessing(rows, loop, cores = 10)"
   ]
  },
  {
   "cell_type": "code",
   "execution_count": 18,
   "id": "b28a1169",
   "metadata": {},
   "outputs": [
    {
     "data": {
      "text/plain": [
       "2442094"
      ]
     },
     "execution_count": 18,
     "metadata": {},
     "output_type": "execute_result"
    }
   ],
   "source": [
    "len(r)"
   ]
  },
  {
   "cell_type": "code",
   "execution_count": 19,
   "id": "eb14e3bb",
   "metadata": {
    "scrolled": true
   },
   "outputs": [
    {
     "data": {
      "text/plain": [
       "{'audio_filename': '/home/husein/ssd3/prepared-imda-chunks/1861119-3.mp3',\n",
       " 'word_timestamp': '<|startoftranscript|><|en|><|transcribeprecise|><|0.00|> a<|0.00|><|0.10|> feasible<|0.52|><|0.60|> way<|0.72|><|0.84|> for<|0.94|><|1.08|> us<|1.18|><|1.24|> to<|1.30|><|1.40|> pay<|1.58|><|1.88|> with<|2.12|><|endoftext|>',\n",
       " 'segment_timestamp': '<|startoftranscript|><|en|><|transcribe|><|0.00|> a feasible way for us to pay<|1.58|><|1.88|> with<|2.12|><|endoftext|>'}"
      ]
     },
     "execution_count": 19,
     "metadata": {},
     "output_type": "execute_result"
    }
   ],
   "source": [
    "r[-10]"
   ]
  },
  {
   "cell_type": "code",
   "execution_count": 20,
   "id": "e709d517",
   "metadata": {},
   "outputs": [
    {
     "name": "stderr",
     "output_type": "stream",
     "text": [
      "100%|████████████████████████████████████████████████████████████████████████████████████| 2442094/2442094 [00:06<00:00, 385960.71it/s]\n"
     ]
    }
   ],
   "source": [
    "import copy\n",
    "import re\n",
    "\n",
    "results = []\n",
    "for r_ in tqdm(r):\n",
    "    r_ = copy.copy(r_)\n",
    "    r_['audio_filename'] = r_['audio_filename'].replace('/home/husein/ssd3/', '').replace('/home/husein/ssd4/', '')\n",
    "    clean_text = re.sub(r\"<\\|.*?\\|>\", \"\", r_['segment_timestamp']).strip().split()\n",
    "    ratio = (len([w for w in clean_text if len(w) <= 1]) / len(clean_text))\n",
    "    if ratio > 0.2:\n",
    "        continue\n",
    "    results.append(r_)"
   ]
  },
  {
   "cell_type": "code",
   "execution_count": 21,
   "id": "fb3beb51",
   "metadata": {},
   "outputs": [],
   "source": [
    "from collections import defaultdict\n",
    "\n",
    "def generate_trigrams(text):\n",
    "    words = text.split()\n",
    "    return list(zip(words, words[1:], words[2:]))\n",
    "\n",
    "def skip_trigrams(text):\n",
    "    trigrams = generate_trigrams(text)\n",
    "    count = defaultdict(int)\n",
    "    total = 0\n",
    "    for t in trigrams:\n",
    "        count[''.join(t)] += 1\n",
    "        total += 1\n",
    "    if len(count.keys()) < 3:\n",
    "        return True\n",
    "    for k, v in count.items():\n",
    "        if (v / total) > 0.2:\n",
    "            return True\n",
    "    return False"
   ]
  },
  {
   "cell_type": "code",
   "execution_count": 22,
   "id": "174809eb",
   "metadata": {},
   "outputs": [
    {
     "name": "stderr",
     "output_type": "stream",
     "text": [
      "100%|████████████████████████████████████████████████████████████████████████████████████| 2289183/2289183 [00:08<00:00, 273625.84it/s]\n"
     ]
    },
    {
     "data": {
      "text/plain": [
       "1009338"
      ]
     },
     "execution_count": 22,
     "metadata": {},
     "output_type": "execute_result"
    }
   ],
   "source": [
    "filtered = []\n",
    "for r_ in tqdm(results):\n",
    "    if skip_trigrams(re.sub(r\"<\\|.*?\\|>\", \"\", r_['segment_timestamp']).strip()):\n",
    "        continue\n",
    "    filtered.append(r_)\n",
    "len(filtered)"
   ]
  },
  {
   "cell_type": "code",
   "execution_count": 24,
   "id": "15b24aa2",
   "metadata": {},
   "outputs": [
    {
     "data": {
      "text/plain": [
       "0.440916257022702"
      ]
     },
     "execution_count": 24,
     "metadata": {},
     "output_type": "execute_result"
    }
   ],
   "source": [
    "len(filtered) / len(results)"
   ]
  },
  {
   "cell_type": "code",
   "execution_count": 25,
   "id": "e2651b35",
   "metadata": {},
   "outputs": [],
   "source": [
    "import pandas as pd\n",
    "\n",
    "pd.DataFrame(filtered).to_parquet('pseudolabel-imda-word-timestamp.parquet')"
   ]
  },
  {
   "cell_type": "code",
   "execution_count": 26,
   "id": "809ebf35",
   "metadata": {},
   "outputs": [
    {
     "name": "stdout",
     "output_type": "stream",
     "text": [
      "-rw-rw-r-- 1 husein husein 173M Mac  20 16:07 pseudolabel-imda-word-timestamp.parquet\r\n"
     ]
    }
   ],
   "source": [
    "!ls -lh pseudolabel-imda-word-timestamp.parquet"
   ]
  },
  {
   "cell_type": "code",
   "execution_count": 27,
   "id": "4983b8b7",
   "metadata": {},
   "outputs": [
    {
     "data": {
      "application/vnd.jupyter.widget-view+json": {
       "model_id": "89a9df68096443aba3c60cacaeb800ca",
       "version_major": 2,
       "version_minor": 0
      },
      "text/plain": [
       "pseudolabel-imda-word-timestamp.parquet:   0%|          | 0.00/180M [00:00<?, ?B/s]"
      ]
     },
     "metadata": {},
     "output_type": "display_data"
    },
    {
     "data": {
      "text/plain": [
       "CommitInfo(commit_url='https://huggingface.co/datasets/mesolitica/Malaysian-STT-Whisper/commit/39c5e06921d0f210eb1a78463d12690e92256d7c', commit_message='Upload data/imda-00000-of-00001.parquet with huggingface_hub', commit_description='', oid='39c5e06921d0f210eb1a78463d12690e92256d7c', pr_url=None, repo_url=RepoUrl('https://huggingface.co/datasets/mesolitica/Malaysian-STT-Whisper', endpoint='https://huggingface.co', repo_type='dataset', repo_id='mesolitica/Malaysian-STT-Whisper'), pr_revision=None, pr_num=None)"
      ]
     },
     "execution_count": 27,
     "metadata": {},
     "output_type": "execute_result"
    }
   ],
   "source": [
    "from huggingface_hub import HfApi\n",
    "api = HfApi()\n",
    "api.upload_file(\n",
    "    path_or_fileobj=\"pseudolabel-imda-word-timestamp.parquet\",\n",
    "    path_in_repo=\"data/imda-00000-of-00001.parquet\",\n",
    "    repo_id=\"mesolitica/Malaysian-STT-Whisper\",\n",
    "    repo_type=\"dataset\",\n",
    ")"
   ]
  }
 ],
 "metadata": {
  "kernelspec": {
   "display_name": "python3.10",
   "language": "python",
   "name": "python3.10"
  },
  "language_info": {
   "codemirror_mode": {
    "name": "ipython",
    "version": 3
   },
   "file_extension": ".py",
   "mimetype": "text/x-python",
   "name": "python",
   "nbconvert_exporter": "python",
   "pygments_lexer": "ipython3",
   "version": "3.10.15"
  }
 },
 "nbformat": 4,
 "nbformat_minor": 5
}
