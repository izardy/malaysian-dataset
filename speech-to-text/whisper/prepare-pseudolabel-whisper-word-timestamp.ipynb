{
 "cells": [
  {
   "cell_type": "code",
   "execution_count": 1,
   "id": "6428e81f",
   "metadata": {},
   "outputs": [],
   "source": [
    "import json\n",
    "import os\n",
    "import mp\n",
    "import numpy as np\n",
    "from collections import defaultdict\n",
    "from glob import glob\n",
    "from tqdm import tqdm\n",
    "import soundfile as sf\n",
    "import re\n",
    "\n",
    "timestamps = [i * 0.02 for i in range(1500 + 1)]"
   ]
  },
  {
   "cell_type": "code",
   "execution_count": 2,
   "id": "6fbb4518",
   "metadata": {},
   "outputs": [],
   "source": [
    "from huggingface_hub import hf_hub_download\n",
    "import fasttext\n",
    "\n",
    "filename = hf_hub_download(\n",
    "    repo_id=\"mesolitica/fasttext-language-detection-bahasa-en\", \n",
    "    filename=\"fasttext.ftz\"\n",
    ")\n",
    "lang_model = fasttext.load_model(filename)"
   ]
  },
  {
   "cell_type": "code",
   "execution_count": 3,
   "id": "68fa4d07",
   "metadata": {},
   "outputs": [],
   "source": [
    "def chunk(alignment, reject = -7, minimum_length = 1.0):\n",
    "    alls, temp = [], []\n",
    "    for a in alignment:\n",
    "        if a['score'] <= reject:\n",
    "            if len(temp):\n",
    "                if (temp[-1]['end'] - temp[0]['start']) >= minimum_length:\n",
    "                    temp[-1]['end'] = float(temp[-1]['end']) + 0.1\n",
    "                    alls.append(temp)\n",
    "                temp = []\n",
    "        else:\n",
    "            temp.append(a)\n",
    "            \n",
    "    if len(temp):\n",
    "        if (temp[-1]['end'] - temp[0]['start']) >= minimum_length:\n",
    "            temp[-1]['end'] = float(temp[-1]['end']) + 0.1\n",
    "            alls.append(temp)\n",
    "    return alls"
   ]
  },
  {
   "cell_type": "code",
   "execution_count": 4,
   "id": "5ca8d308",
   "metadata": {},
   "outputs": [
    {
     "name": "stderr",
     "output_type": "stream",
     "text": [
      "3085595it [00:10, 297855.77it/s]\n"
     ]
    },
    {
     "data": {
      "text/plain": [
       "1961155"
      ]
     },
     "execution_count": 4,
     "metadata": {},
     "output_type": "execute_result"
    }
   ],
   "source": [
    "data = defaultdict(list)\n",
    "with open('prepared-pseudolabel.jsonl') as fopen:\n",
    "    for no, l in tqdm(enumerate(fopen)):\n",
    "        l = json.loads(l)\n",
    "        data[l['audio_filename']].append((no, l))\n",
    "        \n",
    "len(data)"
   ]
  },
  {
   "cell_type": "code",
   "execution_count": 5,
   "id": "314dc54c",
   "metadata": {},
   "outputs": [
    {
     "data": {
      "text/plain": [
       "1961155"
      ]
     },
     "execution_count": 5,
     "metadata": {},
     "output_type": "execute_result"
    }
   ],
   "source": [
    "rows = list(data.values())\n",
    "len(rows)"
   ]
  },
  {
   "cell_type": "code",
   "execution_count": 6,
   "id": "d3633b01",
   "metadata": {},
   "outputs": [],
   "source": [
    "!rm -rf /home/husein/ssd3/prepared-pseudolabel-chunks\n",
    "!mkdir /home/husein/ssd3/prepared-pseudolabel-chunks"
   ]
  },
  {
   "cell_type": "code",
   "execution_count": 7,
   "id": "8b6107ec",
   "metadata": {},
   "outputs": [],
   "source": [
    "def loop(data):\n",
    "    data, _ = data\n",
    "    new_data = []\n",
    "    for d in tqdm(data):\n",
    "        \n",
    "        aligns, scores = [], []\n",
    "        for i in d:\n",
    "            f = f'prepared-pseudolabel_alignment/{i[0]}.alignment'\n",
    "            try:\n",
    "                with open(f) as fopen:\n",
    "                    align = json.load(fopen)\n",
    "                    score = np.sum([s['score'] for s in align])\n",
    "                    aligns.append(align)\n",
    "                    scores.append(score)\n",
    "            except:\n",
    "                aligns.append([])\n",
    "                scores.append(-9999)\n",
    "\n",
    "        argmax = np.argmax(scores)\n",
    "        no = d[argmax][0]\n",
    "        text = d[argmax][1]['new_text']\n",
    "        lang = text.split('<|startoftranscript|><|')[1].split('|')[0]\n",
    "        cleaned_text = re.sub(r\"<\\|.*?\\|>\", \"\", text).strip()\n",
    "        if lang_model.predict(cleaned_text)[0][0] == '__label__english':\n",
    "            predict_lang = 'en'\n",
    "        else:\n",
    "            predict_lang = 'ms'\n",
    "        \n",
    "        chunks = chunk(aligns[argmax])\n",
    "        audio_filename = d[argmax][1]['audio_filename']\n",
    "        if len(chunks):\n",
    "            y, sr = sf.read(audio_filename)\n",
    "            for k, c in enumerate(chunks):\n",
    "                \n",
    "                y_ = y[int(sr * c[0]['start']): int(sr * c[-1]['end'])]\n",
    "                \n",
    "                skip = False\n",
    "                \n",
    "                for c_ in c:\n",
    "                    if (c_['end'] - c_['start']) > 2:\n",
    "                        skip = True\n",
    "                        break\n",
    "                if skip:\n",
    "                    continue\n",
    "                \n",
    "                for no_ in range(len(c)):\n",
    "                    if no_ > 0 and (c[no_]['start'] - c[no_ - 1]['end']) > 1.2:\n",
    "                        skip = True\n",
    "                        break\n",
    "                if skip:\n",
    "                    continue\n",
    "                    \n",
    "                ts = []\n",
    "                \n",
    "                min_t = min([c_['start'] for c_ in c])\n",
    "                \n",
    "                for c_ in c:\n",
    "                    start = min(timestamps, key=lambda t: abs(t - (c_['start'] - min_t)))\n",
    "                    end = min(timestamps, key=lambda t: abs(t - (c_['end'] - min_t)))\n",
    "                    w = c_['text']\n",
    "                    t = f\"<|{start:.2f}|> {w}<|{end:.2f}|>\"\n",
    "                    ts.append(t)\n",
    "                    \n",
    "                new_f = os.path.join('/home/husein/ssd3/prepared-pseudolabel-chunks', f'{no}-{k}.mp3')\n",
    "                if not os.path.exists(new_f):\n",
    "                    sf.write(new_f, y_, sr)\n",
    "                    \n",
    "                word = ''.join(ts)\n",
    "                word = f\"<|startoftranscript|><|{predict_lang}|><|transcribeprecise|>{word}<|endoftext|>\"\n",
    "                \n",
    "                segments, temp = [], [c[0]]\n",
    "                last_t = c[0]['end']\n",
    "                for c_ in c[1:]:\n",
    "                    if (c_['start'] - last_t) > 0.25:\n",
    "                        segments.append(temp)\n",
    "                        temp = []\n",
    "\n",
    "                    last_t = c_['end']\n",
    "                    temp.append(c_)\n",
    "\n",
    "                if len(temp):\n",
    "                    segments.append(temp)\n",
    "                \n",
    "                ts = []\n",
    "                for s in segments:\n",
    "                    start = min(timestamps, key=lambda t: abs(t - (s[0]['start'] - min_t)))\n",
    "                    end = min(timestamps, key=lambda t: abs(t - (s[-1]['end'] - min_t)))\n",
    "                    w = ' '.join([c_['text'] for c_ in s])\n",
    "                    t = f\"<|{start:.2f}|> {w}<|{end:.2f}|>\"\n",
    "                    ts.append(t)\n",
    "                \n",
    "                ts = ''.join(ts)\n",
    "                new_text = f\"<|startoftranscript|><|{predict_lang}|><|transcribe|>{ts}<|endoftext|>\"\n",
    "                \n",
    "                new_data.append({\n",
    "                    'audio_filename': new_f,\n",
    "                    'word_timestamp': word,\n",
    "                    'segment_timestamp': new_text,\n",
    "                })\n",
    "                \n",
    "    return new_data"
   ]
  },
  {
   "cell_type": "code",
   "execution_count": 8,
   "id": "5e92c2e7",
   "metadata": {},
   "outputs": [
    {
     "name": "stderr",
     "output_type": "stream",
     "text": [
      "100%|███████████████████████████████████████████| 10/10 [00:00<00:00, 14.83it/s]\n"
     ]
    },
    {
     "data": {
      "text/plain": [
       "45"
      ]
     },
     "execution_count": 8,
     "metadata": {},
     "output_type": "execute_result"
    }
   ],
   "source": [
    "r = loop((rows[:10], 0))\n",
    "len(r)"
   ]
  },
  {
   "cell_type": "code",
   "execution_count": 10,
   "id": "b8a01cff",
   "metadata": {},
   "outputs": [
    {
     "data": {
      "text/plain": [
       "{'audio_filename': '/home/husein/ssd3/prepared-pseudolabel-chunks/12-4.mp3',\n",
       " 'word_timestamp': '<|startoftranscript|><|ms|><|transcribeprecise|><|0.00|> Saya<|0.12|><|0.18|> tak<|0.26|><|0.30|> cerita<|0.54|><|0.60|> lagi<|0.78|><|0.86|> kita<|1.02|><|1.06|> ada<|1.12|><|1.22|> minimum<|1.56|><|1.64|> rest.<|1.98|><|2.66|> Tak<|2.74|><|2.78|> boleh<|2.92|><|2.96|> keluar<|3.14|><|3.18|> rumah.<|3.44|><|3.56|> Yang<|3.66|><|3.72|> tu<|3.86|><|endoftext|>',\n",
       " 'segment_timestamp': '<|startoftranscript|><|ms|><|transcribe|><|0.00|> Saya tak cerita lagi kita ada minimum rest.<|1.98|><|2.66|> Tak boleh keluar rumah. Yang tu<|3.86|><|endoftext|>'}"
      ]
     },
     "execution_count": 10,
     "metadata": {},
     "output_type": "execute_result"
    }
   ],
   "source": [
    "r[-10]"
   ]
  },
  {
   "cell_type": "code",
   "execution_count": 11,
   "id": "14ce6e53",
   "metadata": {},
   "outputs": [
    {
     "data": {
      "text/html": [
       "\n",
       "                <audio  controls=\"controls\" >\n",
       "                    <source src=\"data:audio/mpeg;base64,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\" type=\"audio/mpeg\" />\n",
       "                    Your browser does not support the audio element.\n",
       "                </audio>\n",
       "              "
      ],
      "text/plain": [
       "<IPython.lib.display.Audio object>"
      ]
     },
     "execution_count": 11,
     "metadata": {},
     "output_type": "execute_result"
    }
   ],
   "source": [
    "import IPython.display as ipd\n",
    "ipd.Audio(r[-10]['audio_filename'])"
   ]
  },
  {
   "cell_type": "code",
   "execution_count": 12,
   "id": "b14d0b09",
   "metadata": {},
   "outputs": [
    {
     "name": "stderr",
     "output_type": "stream",
     "text": [
      "100%|███████████████████████████████████| 98057/98057 [4:05:54<00:00,  6.65it/s]\n",
      "100%|███████████████████████████████████████████| 15/15 [00:02<00:00,  7.35it/s]\n",
      "100%|███████████████████████████████████| 98057/98057 [4:07:25<00:00,  6.61it/s]\n",
      "100%|███████████████████████████████████| 98057/98057 [4:07:21<00:00,  6.61it/s]\n",
      "100%|███████████████████████████████████| 98057/98057 [4:07:14<00:00,  6.61it/s]\n",
      "100%|███████████████████████████████████| 98057/98057 [4:07:35<00:00,  6.60it/s]\n",
      "100%|███████████████████████████████████| 98057/98057 [4:08:03<00:00,  6.59it/s]\n",
      "100%|███████████████████████████████████| 98057/98057 [4:08:10<00:00,  6.59it/s]\n",
      "100%|███████████████████████████████████| 98057/98057 [4:08:08<00:00,  6.59it/s]\n",
      "100%|███████████████████████████████████| 98057/98057 [4:08:38<00:00,  6.57it/s]\n",
      "100%|███████████████████████████████████| 98057/98057 [4:09:11<00:00,  6.56it/s]\n",
      "100%|███████████████████████████████████| 98057/98057 [4:09:20<00:00,  6.55it/s]\n",
      "100%|███████████████████████████████████| 98057/98057 [4:09:37<00:00,  6.55it/s]\n",
      "100%|███████████████████████████████████| 98057/98057 [4:09:22<00:00,  6.55it/s]\n",
      "100%|███████████████████████████████████| 98057/98057 [4:09:28<00:00,  6.55it/s]\n",
      "100%|███████████████████████████████████| 98057/98057 [4:09:37<00:00,  6.55it/s]\n",
      "100%|███████████████████████████████████| 98057/98057 [4:09:25<00:00,  6.55it/s]\n",
      "100%|███████████████████████████████████| 98057/98057 [4:10:07<00:00,  6.53it/s]\n",
      "100%|███████████████████████████████████| 98057/98057 [4:11:17<00:00,  6.50it/s]\n",
      "100%|███████████████████████████████████| 98057/98057 [4:12:24<00:00,  6.47it/s]\n",
      "100%|███████████████████████████████████| 98057/98057 [4:11:41<00:00,  6.49it/s]\n"
     ]
    }
   ],
   "source": [
    "r = mp.multiprocessing(rows, loop, cores = 20)"
   ]
  },
  {
   "cell_type": "code",
   "execution_count": 14,
   "id": "b28a1169",
   "metadata": {},
   "outputs": [
    {
     "data": {
      "text/plain": [
       "5944743"
      ]
     },
     "execution_count": 14,
     "metadata": {},
     "output_type": "execute_result"
    }
   ],
   "source": [
    "len(r)"
   ]
  },
  {
   "cell_type": "code",
   "execution_count": 15,
   "id": "eb14e3bb",
   "metadata": {
    "scrolled": true
   },
   "outputs": [
    {
     "data": {
      "text/plain": [
       "{'audio_filename': '/home/husein/ssd3/prepared-pseudolabel-chunks/3085589-4.mp3',\n",
       " 'word_timestamp': '<|startoftranscript|><|ms|><|transcribeprecise|><|0.00|> Saya<|0.12|><|0.18|> tak<|0.26|><|0.30|> cerita<|0.54|><|0.60|> lagi<|0.78|><|0.86|> kita<|1.02|><|1.06|> ada<|1.12|><|1.22|> minimum<|1.56|><|1.64|> rest.<|1.98|><|2.66|> Tak<|2.74|><|2.78|> boleh<|2.92|><|2.96|> keluar<|3.14|><|3.18|> rumah.<|3.44|><|3.56|> Yang<|3.66|><|3.72|> tu<|3.86|><|endoftext|>',\n",
       " 'segment_timestamp': '<|startoftranscript|><|ms|><|transcribe|><|0.00|> Saya tak cerita lagi kita ada minimum rest.<|1.98|><|2.66|> Tak boleh keluar rumah. Yang tu<|3.86|><|endoftext|>'}"
      ]
     },
     "execution_count": 15,
     "metadata": {},
     "output_type": "execute_result"
    }
   ],
   "source": [
    "r[-10]"
   ]
  },
  {
   "cell_type": "code",
   "execution_count": 16,
   "id": "e709d517",
   "metadata": {},
   "outputs": [
    {
     "data": {
      "text/html": [
       "\n",
       "                <audio  controls=\"controls\" >\n",
       "                    <source src=\"data:audio/mpeg;base64,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\" type=\"audio/mpeg\" />\n",
       "                    Your browser does not support the audio element.\n",
       "                </audio>\n",
       "              "
      ],
      "text/plain": [
       "<IPython.lib.display.Audio object>"
      ]
     },
     "execution_count": 16,
     "metadata": {},
     "output_type": "execute_result"
    }
   ],
   "source": [
    "import IPython.display as ipd\n",
    "ipd.Audio(r[-10]['audio_filename'])"
   ]
  },
  {
   "cell_type": "code",
   "execution_count": 17,
   "id": "dd72b81d",
   "metadata": {
    "scrolled": false
   },
   "outputs": [
    {
     "name": "stderr",
     "output_type": "stream",
     "text": [
      "100%|████████████████████████████████████████████████████████████████████████████████████| 5944743/5944743 [00:18<00:00, 326204.11it/s]\n"
     ]
    }
   ],
   "source": [
    "import copy\n",
    "import re\n",
    "\n",
    "results = []\n",
    "for r_ in tqdm(r):\n",
    "    r_ = copy.copy(r_)\n",
    "    r_['audio_filename'] = r_['audio_filename'].replace('/home/husein/ssd3/', '').replace('/home/husein/ssd4/', '')\n",
    "    clean_text = re.sub(r\"<\\|.*?\\|>\", \"\", r_['segment_timestamp']).strip().split()\n",
    "    ratio = (len([w for w in clean_text if len(w) <= 1]) / len(clean_text))\n",
    "    if ratio > 0.2:\n",
    "        continue\n",
    "    results.append(r_)"
   ]
  },
  {
   "cell_type": "code",
   "execution_count": 18,
   "id": "f92f4e80",
   "metadata": {},
   "outputs": [],
   "source": [
    "from collections import defaultdict\n",
    "\n",
    "def generate_trigrams(text):\n",
    "    words = text.split()\n",
    "    return list(zip(words, words[1:], words[2:]))\n",
    "\n",
    "def skip_trigrams(text):\n",
    "    trigrams = generate_trigrams(text)\n",
    "    count = defaultdict(int)\n",
    "    total = 0\n",
    "    for t in trigrams:\n",
    "        count[''.join(t)] += 1\n",
    "        total += 1\n",
    "    if len(count.keys()) < 3:\n",
    "        return True\n",
    "    for k, v in count.items():\n",
    "        if (v / total) > 0.2:\n",
    "            return True\n",
    "    return False"
   ]
  },
  {
   "cell_type": "code",
   "execution_count": 19,
   "id": "02c19949",
   "metadata": {
    "scrolled": true
   },
   "outputs": [
    {
     "name": "stderr",
     "output_type": "stream",
     "text": [
      "100%|████████████████████████████████████████████████████████████████████████████████████| 5820101/5820101 [00:28<00:00, 204299.07it/s]\n"
     ]
    },
    {
     "data": {
      "text/plain": [
       "3305115"
      ]
     },
     "execution_count": 19,
     "metadata": {},
     "output_type": "execute_result"
    }
   ],
   "source": [
    "filtered = []\n",
    "for r_ in tqdm(results):\n",
    "    if skip_trigrams(re.sub(r\"<\\|.*?\\|>\", \"\", r_['segment_timestamp']).strip()):\n",
    "        continue\n",
    "    filtered.append(r_)\n",
    "len(filtered)"
   ]
  },
  {
   "cell_type": "code",
   "execution_count": 20,
   "id": "d1fc424a",
   "metadata": {},
   "outputs": [
    {
     "name": "stdout",
     "output_type": "stream",
     "text": [
      "{'audio_filename': 'prepared-pseudolabel-chunks/31733-0.mp3', 'word_timestamp': '<|startoftranscript|><|ms|><|transcribeprecise|><|0.00|> Selemasa<|0.52|><|0.84|> yang<|0.94|><|1.00|> lebih<|1.16|><|1.20|> pantas<|1.60|><|1.78|> Latensi<|2.16|><|2.26|> dia<|2.32|><|2.38|> rendah<|2.66|><|2.86|> Jadi<|3.02|><|3.22|> selama<|3.46|><|3.54|> ni<|3.58|><|3.66|> Kalau<|3.82|><|3.88|> orang<|4.02|><|4.06|> yang<|4.14|><|4.18|> main<|4.30|><|4.40|> game<|4.56|><|4.66|> Dota<|4.96|><|5.12|> ke<|5.18|><|5.30|> apakah<|5.66|><|5.80|> Dia<|5.86|><|5.92|> akan<|6.12|><|6.42|> nak<|6.52|><|6.58|> dapatkan<|6.96|><|7.08|> capaian<|7.42|><|7.50|> internet<|7.76|><|7.98|> Yang<|8.16|><|8.40|> berlatensi<|9.04|><|9.14|> rendah<|9.38|><|9.54|> Bila<|9.66|><|9.98|> selemasa<|10.44|><|10.54|> tu<|10.60|><|10.68|> rendah<|10.94|><|11.08|> Dia<|11.16|><|11.22|> akan<|11.38|><|11.44|> dapat<|11.72|><|11.98|> Sampaikan<|12.52|><|12.72|> data<|12.98|><|13.10|> dia<|13.20|><|13.32|> Kepada<|13.60|><|13.78|> orang<|13.94|><|14.00|> lain<|14.16|><|14.24|> Orang<|14.40|><|14.44|> di<|14.46|><|14.56|> seberang<|14.88|><|14.98|> Orang<|15.14|><|15.18|> yang<|15.26|><|15.30|> bermain<|15.56|><|15.62|> sama-sama<|15.96|><|16.02|> dengan<|16.18|><|16.24|> dia<|16.32|><|16.36|> tu<|16.40|><|16.54|> Dengan<|16.70|><|16.74|> lebih<|16.88|><|16.92|> cepat<|17.18|><|17.32|> So<|17.38|><|17.54|> respon<|17.92|><|18.12|> yang<|18.24|><|18.32|> kita<|18.46|><|18.52|> terima<|18.74|><|18.82|> Daripada<|19.04|><|19.14|> orang<|19.28|><|19.32|> berkenaan<|19.68|><|19.72|> pun<|19.82|><|19.96|> Akan<|20.12|><|20.16|> dapat<|20.36|><|20.52|> lebih<|20.70|><|20.76|> cepat<|21.04|><|21.14|> Jadi<|21.28|><|21.46|> itu<|21.60|><|22.04|> yang<|22.16|><|22.24|> sama<|22.40|><|22.46|> berlaku<|22.72|><|22.80|> pada<|22.96|><|23.28|> 5G<|23.28|><|23.74|> 5G<|23.74|><|23.88|> ni<|23.94|><|24.04|> akan<|24.18|><|24.22|> membolehkan<|24.74|><|24.84|> Contoh<|25.18|><|25.42|> Kepakaran<|25.98|><|26.24|> Untuk<|26.56|><|26.72|> merawat<|27.02|><|27.08|> sesuatu<|27.32|><|27.38|> penyakit<|27.70|><|27.80|> Buat<|27.88|><|27.94|> operation<|28.42|><|28.50|> sebagai<|28.84|><|endoftext|>', 'segment_timestamp': '<|startoftranscript|><|ms|><|transcribe|><|0.00|> Selemasa<|0.52|><|0.84|> yang lebih pantas Latensi dia rendah Jadi selama ni Kalau orang yang main game Dota ke apakah Dia akan<|6.12|><|6.42|> nak dapatkan capaian internet Yang berlatensi rendah Bila<|9.66|><|9.98|> selemasa tu rendah Dia akan dapat<|11.72|><|11.98|> Sampaikan data dia Kepada orang lain Orang di seberang Orang yang bermain sama-sama dengan dia tu Dengan lebih cepat So respon yang kita terima Daripada orang berkenaan pun Akan dapat lebih cepat Jadi itu<|21.60|><|22.04|> yang sama berlaku pada<|22.96|><|23.28|> 5G<|23.28|><|23.74|> 5G ni akan membolehkan Contoh Kepakaran<|25.98|><|26.24|> Untuk merawat sesuatu penyakit Buat operation sebagai<|28.84|><|endoftext|>'}\n"
     ]
    }
   ],
   "source": [
    "for r_ in filtered:\n",
    "    if len(r_['word_timestamp']) > 2000:\n",
    "        print(r_)\n",
    "        break"
   ]
  },
  {
   "cell_type": "code",
   "execution_count": 21,
   "id": "e57244de",
   "metadata": {},
   "outputs": [
    {
     "data": {
      "text/plain": [
       "0.567879320307328"
      ]
     },
     "execution_count": 21,
     "metadata": {},
     "output_type": "execute_result"
    }
   ],
   "source": [
    "len(filtered) / len(results)"
   ]
  },
  {
   "cell_type": "code",
   "execution_count": 22,
   "id": "24609a08",
   "metadata": {},
   "outputs": [],
   "source": [
    "import pandas as pd\n",
    "\n",
    "pd.DataFrame(filtered).to_parquet('pseudolabel-whisper-word-timestamp.parquet')"
   ]
  },
  {
   "cell_type": "code",
   "execution_count": 23,
   "id": "2c72b3ad",
   "metadata": {},
   "outputs": [
    {
     "data": {
      "application/vnd.jupyter.widget-view+json": {
       "model_id": "602fdf497ccc4116a11a31ee358a948e",
       "version_major": 2,
       "version_minor": 0
      },
      "text/plain": [
       "pseudolabel-whisper-word-timestamp.parquet:   0%|          | 0.00/808M [00:00<?, ?B/s]"
      ]
     },
     "metadata": {},
     "output_type": "display_data"
    },
    {
     "data": {
      "text/plain": [
       "CommitInfo(commit_url='https://huggingface.co/datasets/mesolitica/Malaysian-STT-Whisper/commit/ecfbd0b02c4b15674a3cb168e47c0e719952a01b', commit_message='Upload data/malaysian_context_v2-00000-of-00001.parquet with huggingface_hub', commit_description='', oid='ecfbd0b02c4b15674a3cb168e47c0e719952a01b', pr_url=None, repo_url=RepoUrl('https://huggingface.co/datasets/mesolitica/Malaysian-STT-Whisper', endpoint='https://huggingface.co', repo_type='dataset', repo_id='mesolitica/Malaysian-STT-Whisper'), pr_revision=None, pr_num=None)"
      ]
     },
     "execution_count": 23,
     "metadata": {},
     "output_type": "execute_result"
    }
   ],
   "source": [
    "from huggingface_hub import HfApi\n",
    "api = HfApi()\n",
    "api.upload_file(\n",
    "    path_or_fileobj=\"pseudolabel-whisper-word-timestamp.parquet\",\n",
    "    path_in_repo=\"data/malaysian_context_v2-00000-of-00001.parquet\",\n",
    "    repo_id=\"mesolitica/Malaysian-STT-Whisper\",\n",
    "    repo_type=\"dataset\",\n",
    ")"
   ]
  }
 ],
 "metadata": {
  "kernelspec": {
   "display_name": "python3.10",
   "language": "python",
   "name": "python3.10"
  },
  "language_info": {
   "codemirror_mode": {
    "name": "ipython",
    "version": 3
   },
   "file_extension": ".py",
   "mimetype": "text/x-python",
   "name": "python",
   "nbconvert_exporter": "python",
   "pygments_lexer": "ipython3",
   "version": "3.10.15"
  }
 },
 "nbformat": 4,
 "nbformat_minor": 5
}
