{
 "cells": [
  {
   "cell_type": "code",
   "execution_count": 1,
   "id": "6428e81f",
   "metadata": {},
   "outputs": [],
   "source": [
    "import json\n",
    "import os\n",
    "import mp\n",
    "import numpy as np\n",
    "from collections import defaultdict\n",
    "from glob import glob\n",
    "from tqdm import tqdm\n",
    "import soundfile as sf\n",
    "import re\n",
    "\n",
    "timestamps = [i * 0.02 for i in range(1500 + 1)]"
   ]
  },
  {
   "cell_type": "code",
   "execution_count": 2,
   "id": "6fbb4518",
   "metadata": {},
   "outputs": [],
   "source": [
    "from huggingface_hub import hf_hub_download\n",
    "import fasttext\n",
    "\n",
    "filename = hf_hub_download(\n",
    "    repo_id=\"mesolitica/fasttext-language-detection-bahasa-en\", \n",
    "    filename=\"fasttext.ftz\"\n",
    ")\n",
    "lang_model = fasttext.load_model(filename)"
   ]
  },
  {
   "cell_type": "code",
   "execution_count": 3,
   "id": "68fa4d07",
   "metadata": {},
   "outputs": [],
   "source": [
    "def chunk(alignment, reject = -7, minimum_length = 1.0):\n",
    "    alls, temp = [], []\n",
    "    for a in alignment:\n",
    "        if a['score'] <= reject:\n",
    "            if len(temp):\n",
    "                if (temp[-1]['end'] - temp[0]['start']) >= minimum_length:\n",
    "                    temp[-1]['end'] = float(temp[-1]['end']) + 0.1\n",
    "                    alls.append(temp)\n",
    "                temp = []\n",
    "        else:\n",
    "            temp.append(a)\n",
    "            \n",
    "    if len(temp):\n",
    "        if (temp[-1]['end'] - temp[0]['start']) >= minimum_length:\n",
    "            temp[-1]['end'] = float(temp[-1]['end']) + 0.1\n",
    "            alls.append(temp)\n",
    "    return alls"
   ]
  },
  {
   "cell_type": "code",
   "execution_count": 4,
   "id": "5ca8d308",
   "metadata": {},
   "outputs": [
    {
     "name": "stderr",
     "output_type": "stream",
     "text": [
      "1089630it [00:03, 350483.49it/s]\n"
     ]
    },
    {
     "data": {
      "text/plain": [
       "882371"
      ]
     },
     "execution_count": 4,
     "metadata": {},
     "output_type": "execute_result"
    }
   ],
   "source": [
    "data = defaultdict(list)\n",
    "with open('prepared-pseudolabel-malaya.jsonl') as fopen:\n",
    "    for no, l in tqdm(enumerate(fopen)):\n",
    "        l = json.loads(l)\n",
    "        data[l['audio_filename']].append((no, l))\n",
    "        \n",
    "len(data)"
   ]
  },
  {
   "cell_type": "code",
   "execution_count": 5,
   "id": "314dc54c",
   "metadata": {},
   "outputs": [
    {
     "data": {
      "text/plain": [
       "882371"
      ]
     },
     "execution_count": 5,
     "metadata": {},
     "output_type": "execute_result"
    }
   ],
   "source": [
    "rows = list(data.values())\n",
    "len(rows)"
   ]
  },
  {
   "cell_type": "code",
   "execution_count": 6,
   "id": "d3633b01",
   "metadata": {},
   "outputs": [],
   "source": [
    "!rm -rf prepared-pseudolabel-malaya-chunks\n",
    "!mkdir prepared-pseudolabel-malaya-chunks"
   ]
  },
  {
   "cell_type": "code",
   "execution_count": 7,
   "id": "f0f1c9af",
   "metadata": {},
   "outputs": [],
   "source": [
    "def loop(data):\n",
    "    data, _ = data\n",
    "    new_data = []\n",
    "    for d in tqdm(data):\n",
    "        \n",
    "        aligns, scores = [], []\n",
    "        for i in d:\n",
    "            f = f'prepared-pseudolabel-malaya_alignment/{i[0]}.alignment'\n",
    "            try:\n",
    "                with open(f) as fopen:\n",
    "                    align = json.load(fopen)\n",
    "                    score = np.sum([s['score'] for s in align])\n",
    "                    aligns.append(align)\n",
    "                    scores.append(score)\n",
    "            except:\n",
    "                aligns.append([])\n",
    "                scores.append(-9999)\n",
    "\n",
    "        argmax = np.argmax(scores)\n",
    "        no = d[argmax][0]\n",
    "        text = d[argmax][1]['new_text']\n",
    "        lang = text.split('<|startoftranscript|><|')[1].split('|')[0]\n",
    "        cleaned_text = re.sub(r\"<\\|.*?\\|>\", \"\", text).strip()\n",
    "        if lang_model.predict(cleaned_text)[0][0] == '__label__english':\n",
    "            predict_lang = 'en'\n",
    "        else:\n",
    "            predict_lang = 'ms'\n",
    "        \n",
    "        chunks = chunk(aligns[argmax])\n",
    "        audio_filename = d[argmax][1]['audio_filename']\n",
    "        if len(chunks):\n",
    "            y, sr = sf.read(audio_filename)\n",
    "            for k, c in enumerate(chunks):\n",
    "                \n",
    "                y_ = y[int(sr * c[0]['start']): int(sr * c[-1]['end'])]\n",
    "                \n",
    "                skip = False\n",
    "                \n",
    "                for c_ in c:\n",
    "                    if (c_['end'] - c_['start']) > 2:\n",
    "                        skip = True\n",
    "                        break\n",
    "                if skip:\n",
    "                    continue\n",
    "                \n",
    "                for no_ in range(len(c)):\n",
    "                    if no_ > 0 and (c[no_]['start'] - c[no_ - 1]['end']) > 1.2:\n",
    "                        skip = True\n",
    "                        break\n",
    "                if skip:\n",
    "                    continue\n",
    "                    \n",
    "                ts = []\n",
    "                \n",
    "                min_t = min([c_['start'] for c_ in c])\n",
    "                \n",
    "                for c_ in c:\n",
    "                    start = min(timestamps, key=lambda t: abs(t - (c_['start'] - min_t)))\n",
    "                    end = min(timestamps, key=lambda t: abs(t - (c_['end'] - min_t)))\n",
    "                    w = c_['text']\n",
    "                    t = f\"<|{start:.2f}|> {w}<|{end:.2f}|>\"\n",
    "                    ts.append(t)\n",
    "                    \n",
    "                new_f = os.path.join('prepared-pseudolabel-malaya-chunks', f'{no}-{k}.mp3')\n",
    "                if not os.path.exists(new_f):\n",
    "                    sf.write(new_f, y_, sr)\n",
    "                    \n",
    "                word = ''.join(ts)\n",
    "                word = f\"<|startoftranscript|><|{predict_lang}|><|transcribeprecise|>{word}<|endoftext|>\"\n",
    "                \n",
    "                segments, temp = [], [c[0]]\n",
    "                last_t = c[0]['end']\n",
    "                for c_ in c[1:]:\n",
    "                    if (c_['start'] - last_t) > 0.25:\n",
    "                        segments.append(temp)\n",
    "                        temp = []\n",
    "\n",
    "                    last_t = c_['end']\n",
    "                    temp.append(c_)\n",
    "\n",
    "                if len(temp):\n",
    "                    segments.append(temp)\n",
    "                \n",
    "                ts = []\n",
    "                for s in segments:\n",
    "                    start = min(timestamps, key=lambda t: abs(t - (s[0]['start'] - min_t)))\n",
    "                    end = min(timestamps, key=lambda t: abs(t - (s[-1]['end'] - min_t)))\n",
    "                    w = ' '.join([c_['text'] for c_ in s])\n",
    "                    t = f\"<|{start:.2f}|> {w}<|{end:.2f}|>\"\n",
    "                    ts.append(t)\n",
    "                \n",
    "                ts = ''.join(ts)\n",
    "                new_text = f\"<|startoftranscript|><|{predict_lang}|><|transcribe|>{ts}<|endoftext|>\"\n",
    "                \n",
    "                new_data.append({\n",
    "                    'audio_filename': new_f,\n",
    "                    'word_timestamp': word,\n",
    "                    'segment_timestamp': new_text,\n",
    "                })\n",
    "                \n",
    "    return new_data"
   ]
  },
  {
   "cell_type": "code",
   "execution_count": 8,
   "id": "5e92c2e7",
   "metadata": {},
   "outputs": [
    {
     "name": "stderr",
     "output_type": "stream",
     "text": [
      "100%|███████████████████████████████████████| 1000/1000 [00:28<00:00, 34.90it/s]\n"
     ]
    },
    {
     "data": {
      "text/plain": [
       "710"
      ]
     },
     "execution_count": 8,
     "metadata": {},
     "output_type": "execute_result"
    }
   ],
   "source": [
    "r = loop((rows[:1000], 0))\n",
    "len(r)"
   ]
  },
  {
   "cell_type": "code",
   "execution_count": 9,
   "id": "37189d92",
   "metadata": {},
   "outputs": [
    {
     "data": {
      "text/plain": [
       "{'audio_filename': 'prepared-pseudolabel-malaya-chunks/0-0.mp3',\n",
       " 'word_timestamp': '<|startoftranscript|><|ms|><|transcribeprecise|><|0.00|> dan<|0.12|><|0.20|> banyak<|0.52|><|0.84|> masalah<|1.36|><|1.58|> hubungan<|2.00|><|2.08|> antara<|2.34|><|2.80|> kerajaan<|3.24|><|endoftext|>',\n",
       " 'segment_timestamp': '<|startoftranscript|><|ms|><|transcribe|><|0.00|> dan banyak<|0.52|><|0.84|> masalah hubungan antara<|2.34|><|2.80|> kerajaan<|3.24|><|endoftext|>'}"
      ]
     },
     "execution_count": 9,
     "metadata": {},
     "output_type": "execute_result"
    }
   ],
   "source": [
    "r[0]"
   ]
  },
  {
   "cell_type": "code",
   "execution_count": 12,
   "id": "b14d0b09",
   "metadata": {
    "scrolled": true
   },
   "outputs": [
    {
     "name": "stderr",
     "output_type": "stream",
     "text": [
      "100%|█████████████████████████████████████| 44118/44118 [17:35<00:00, 41.78it/s]\n",
      "100%|███████████████████████████████████████████| 11/11 [00:00<00:00, 28.15it/s]\n",
      "100%|█████████████████████████████████████| 44118/44118 [18:00<00:00, 40.84it/s]\n",
      "100%|█████████████████████████████████████| 44118/44118 [17:59<00:00, 40.85it/s]\n",
      "100%|█████████████████████████████████████| 44118/44118 [17:58<00:00, 40.89it/s]\n",
      "100%|█████████████████████████████████████| 44118/44118 [17:56<00:00, 40.96it/s]\n",
      "100%|█████████████████████████████████████| 44118/44118 [17:55<00:00, 41.02it/s]\n",
      "100%|█████████████████████████████████████| 44118/44118 [17:53<00:00, 41.09it/s]\n",
      "100%|█████████████████████████████████████| 44118/44118 [18:02<00:00, 40.76it/s]\n",
      "100%|█████████████████████████████████████| 44118/44118 [18:00<00:00, 40.81it/s]\n",
      "100%|█████████████████████████████████████| 44118/44118 [18:05<00:00, 40.65it/s]\n",
      "100%|█████████████████████████████████████| 44118/44118 [18:04<00:00, 40.68it/s]\n",
      "100%|█████████████████████████████████████| 44118/44118 [18:03<00:00, 40.73it/s]\n",
      "100%|█████████████████████████████████████| 44118/44118 [18:02<00:00, 40.74it/s]\n",
      "100%|█████████████████████████████████████| 44118/44118 [17:56<00:00, 41.00it/s]\n",
      "100%|█████████████████████████████████████| 44118/44118 [18:06<00:00, 40.62it/s]\n",
      "100%|█████████████████████████████████████| 44118/44118 [18:02<00:00, 40.75it/s]\n",
      "100%|█████████████████████████████████████| 44118/44118 [18:06<00:00, 40.62it/s]\n",
      "100%|█████████████████████████████████████| 44118/44118 [17:59<00:00, 40.87it/s]\n",
      "100%|█████████████████████████████████████| 44118/44118 [18:03<00:00, 40.73it/s]\n",
      "100%|█████████████████████████████████████| 44118/44118 [18:03<00:00, 40.73it/s]\n"
     ]
    }
   ],
   "source": [
    "r = mp.multiprocessing(rows, loop, cores = 20)"
   ]
  },
  {
   "cell_type": "code",
   "execution_count": 13,
   "id": "e41a0304",
   "metadata": {},
   "outputs": [
    {
     "data": {
      "text/plain": [
       "669177"
      ]
     },
     "execution_count": 13,
     "metadata": {},
     "output_type": "execute_result"
    }
   ],
   "source": [
    "len(r)"
   ]
  },
  {
   "cell_type": "code",
   "execution_count": 14,
   "id": "e709d517",
   "metadata": {},
   "outputs": [
    {
     "data": {
      "text/html": [
       "\n",
       "                <audio  controls=\"controls\" >\n",
       "                    <source src=\"data:audio/mpeg;base64,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\" type=\"audio/mpeg\" />\n",
       "                    Your browser does not support the audio element.\n",
       "                </audio>\n",
       "              "
      ],
      "text/plain": [
       "<IPython.lib.display.Audio object>"
      ]
     },
     "execution_count": 14,
     "metadata": {},
     "output_type": "execute_result"
    }
   ],
   "source": [
    "import IPython.display as ipd\n",
    "ipd.Audio(r[-2]['audio_filename'])"
   ]
  },
  {
   "cell_type": "code",
   "execution_count": 15,
   "id": "af7c8ad2",
   "metadata": {},
   "outputs": [
    {
     "data": {
      "text/plain": [
       "669177"
      ]
     },
     "execution_count": 15,
     "metadata": {},
     "output_type": "execute_result"
    }
   ],
   "source": [
    "len(r)"
   ]
  },
  {
   "cell_type": "code",
   "execution_count": 16,
   "id": "160d75fc",
   "metadata": {},
   "outputs": [
    {
     "name": "stderr",
     "output_type": "stream",
     "text": [
      "100%|███████████████████████████████| 669177/669177 [00:01<00:00, 429957.99it/s]\n"
     ]
    }
   ],
   "source": [
    "import copy\n",
    "import re\n",
    "\n",
    "results = []\n",
    "for r_ in tqdm(r):\n",
    "    r_ = copy.copy(r_)\n",
    "    r_['audio_filename'] = r_['audio_filename'].replace('/home/husein/ssd3/', '').replace('/home/husein/ssd4/', '')\n",
    "    clean_text = re.sub(r\"<\\|.*?\\|>\", \"\", r_['segment_timestamp']).strip().split()\n",
    "    ratio = (len([w for w in clean_text if len(w) <= 1]) / len(clean_text))\n",
    "    if ratio > 0.2:\n",
    "        continue\n",
    "    results.append(r_)"
   ]
  },
  {
   "cell_type": "code",
   "execution_count": 17,
   "id": "009aaa43",
   "metadata": {},
   "outputs": [],
   "source": [
    "from collections import defaultdict\n",
    "\n",
    "def generate_trigrams(text):\n",
    "    words = text.split()\n",
    "    return list(zip(words, words[1:], words[2:]))\n",
    "\n",
    "def skip_trigrams(text):\n",
    "    trigrams = generate_trigrams(text)\n",
    "    count = defaultdict(int)\n",
    "    total = 0\n",
    "    for t in trigrams:\n",
    "        count[''.join(t)] += 1\n",
    "        total += 1\n",
    "    if len(count.keys()) < 3:\n",
    "        return True\n",
    "    for k, v in count.items():\n",
    "        if (v / total) > 0.2:\n",
    "            return True\n",
    "    return False"
   ]
  },
  {
   "cell_type": "code",
   "execution_count": 18,
   "id": "dd5cff1b",
   "metadata": {
    "scrolled": true
   },
   "outputs": [
    {
     "name": "stderr",
     "output_type": "stream",
     "text": [
      "100%|███████████████████████████████| 666320/666320 [00:02<00:00, 296710.23it/s]\n"
     ]
    },
    {
     "data": {
      "text/plain": [
       "299359"
      ]
     },
     "execution_count": 18,
     "metadata": {},
     "output_type": "execute_result"
    }
   ],
   "source": [
    "filtered = []\n",
    "for r_ in tqdm(results):\n",
    "    if skip_trigrams(re.sub(r\"<\\|.*?\\|>\", \"\", r_['segment_timestamp']).strip()):\n",
    "        continue\n",
    "    filtered.append(r_)\n",
    "len(filtered)"
   ]
  },
  {
   "cell_type": "code",
   "execution_count": 21,
   "id": "617739f4",
   "metadata": {},
   "outputs": [],
   "source": [
    "import pandas as pd\n",
    "\n",
    "pd.DataFrame(filtered).to_parquet('pseudolabel-malaya-word-timestamp.parquet')"
   ]
  },
  {
   "cell_type": "code",
   "execution_count": 22,
   "id": "2c72b3ad",
   "metadata": {},
   "outputs": [
    {
     "data": {
      "application/vnd.jupyter.widget-view+json": {
       "model_id": "ea4ed82163e24fedad9470eed6285992",
       "version_major": 2,
       "version_minor": 0
      },
      "text/plain": [
       "pseudolabel-malaya-word-timestamp.parquet:   0%|          | 0.00/55.1M [00:00<?, ?B/s]"
      ]
     },
     "metadata": {},
     "output_type": "display_data"
    },
    {
     "data": {
      "text/plain": [
       "CommitInfo(commit_url='https://huggingface.co/datasets/mesolitica/Malaysian-STT-Whisper/commit/23e53d699939d8af0397b10aade0bbe4d56db656', commit_message='Upload data/malaysian_context-00000-of-00001.parquet with huggingface_hub', commit_description='', oid='23e53d699939d8af0397b10aade0bbe4d56db656', pr_url=None, repo_url=RepoUrl('https://huggingface.co/datasets/mesolitica/Malaysian-STT-Whisper', endpoint='https://huggingface.co', repo_type='dataset', repo_id='mesolitica/Malaysian-STT-Whisper'), pr_revision=None, pr_num=None)"
      ]
     },
     "execution_count": 22,
     "metadata": {},
     "output_type": "execute_result"
    }
   ],
   "source": [
    "from huggingface_hub import HfApi\n",
    "api = HfApi()\n",
    "api.upload_file(\n",
    "    path_or_fileobj=\"pseudolabel-malaya-word-timestamp.parquet\",\n",
    "    path_in_repo=\"data/malaysian_context-00000-of-00001.parquet\",\n",
    "    repo_id=\"mesolitica/Malaysian-STT-Whisper\",\n",
    "    repo_type=\"dataset\",\n",
    ")"
   ]
  }
 ],
 "metadata": {
  "kernelspec": {
   "display_name": "python3.10",
   "language": "python",
   "name": "python3.10"
  },
  "language_info": {
   "codemirror_mode": {
    "name": "ipython",
    "version": 3
   },
   "file_extension": ".py",
   "mimetype": "text/x-python",
   "name": "python",
   "nbconvert_exporter": "python",
   "pygments_lexer": "ipython3",
   "version": "3.10.15"
  }
 },
 "nbformat": 4,
 "nbformat_minor": 5
}
