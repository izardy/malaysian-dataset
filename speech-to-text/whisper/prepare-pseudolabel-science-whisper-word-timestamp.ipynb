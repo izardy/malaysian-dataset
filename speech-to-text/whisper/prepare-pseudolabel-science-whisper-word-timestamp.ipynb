{
 "cells": [
  {
   "cell_type": "code",
   "execution_count": 2,
   "id": "48b22a2b",
   "metadata": {},
   "outputs": [],
   "source": [
    "import json\n",
    "\n",
    "r = []\n",
    "with open('imda-science-word-timestamp.jsonl') as fopen:\n",
    "    for l in fopen:\n",
    "        l = json.loads(l)\n",
    "        r.append(l)"
   ]
  },
  {
   "cell_type": "code",
   "execution_count": 5,
   "id": "38e2523e",
   "metadata": {},
   "outputs": [
    {
     "name": "stderr",
     "output_type": "stream",
     "text": [
      "100%|████████████████████████████████████████████████████████████████████████████████████| 2775149/2775149 [00:07<00:00, 348435.47it/s]\n"
     ]
    }
   ],
   "source": [
    "from tqdm import tqdm\n",
    "import copy\n",
    "import re\n",
    "\n",
    "results = []\n",
    "for r_ in tqdm(r):\n",
    "    r_ = copy.copy(r_)\n",
    "    r_['audio_filename'] = r_['audio_filename'].replace('/home/husein/ssd3/', '').replace('/home/husein/ssd4/', '')\n",
    "    clean_text = re.sub(r\"<\\|.*?\\|>\", \"\", r_['segment_timestamp']).strip().split()\n",
    "    ratio = (len([w for w in clean_text if len(w) <= 1]) / len(clean_text))\n",
    "    if ratio > 0.2:\n",
    "        continue\n",
    "    results.append(r_)"
   ]
  },
  {
   "cell_type": "code",
   "execution_count": 6,
   "id": "cf8943b0",
   "metadata": {},
   "outputs": [],
   "source": [
    "from collections import defaultdict\n",
    "\n",
    "def generate_trigrams(text):\n",
    "    words = text.split()\n",
    "    return list(zip(words, words[1:], words[2:]))\n",
    "\n",
    "def skip_trigrams(text):\n",
    "    trigrams = generate_trigrams(text)\n",
    "    count = defaultdict(int)\n",
    "    total = 0\n",
    "    for t in trigrams:\n",
    "        count[''.join(t)] += 1\n",
    "        total += 1\n",
    "    if len(count.keys()) < 3:\n",
    "        return True\n",
    "    for k, v in count.items():\n",
    "        if (v / total) > 0.2:\n",
    "            return True\n",
    "    return False"
   ]
  },
  {
   "cell_type": "code",
   "execution_count": 7,
   "id": "c9d12247",
   "metadata": {},
   "outputs": [
    {
     "name": "stderr",
     "output_type": "stream",
     "text": [
      "100%|████████████████████████████████████████████████████████████████████████████████████| 2689940/2689940 [00:14<00:00, 179756.32it/s]\n"
     ]
    },
    {
     "data": {
      "text/plain": [
       "1960115"
      ]
     },
     "execution_count": 7,
     "metadata": {},
     "output_type": "execute_result"
    }
   ],
   "source": [
    "filtered = []\n",
    "for r_ in tqdm(results):\n",
    "    if skip_trigrams(re.sub(r\"<\\|.*?\\|>\", \"\", r_['segment_timestamp']).strip()):\n",
    "        continue\n",
    "    filtered.append(r_)\n",
    "len(filtered)"
   ]
  },
  {
   "cell_type": "code",
   "execution_count": 8,
   "id": "a6470213",
   "metadata": {},
   "outputs": [
    {
     "name": "stdout",
     "output_type": "stream",
     "text": [
      "{'audio_filename': 'prepared-science-chunks/755-0.mp3', 'word_timestamp': '<|startoftranscript|><|en|><|transcribeprecise|><|0.00|> vasectomy<|0.40|><|0.58|> that<|0.66|><|0.72|> takes<|0.92|><|1.04|> less<|1.18|><|1.26|> than<|1.34|><|1.36|> 30<|1.38|><|1.66|> minutes,<|1.92|><|2.32|> and<|2.38|><|2.42|> the<|2.48|><|2.54|> next,<|2.82|><|3.04|> a<|3.04|><|3.22|> complex<|3.62|><|3.74|> bladder<|4.00|><|4.10|> reconstruction<|4.64|><|4.74|> lasting<|5.08|><|5.24|> several<|5.54|><|5.68|> hours.<|6.04|><|6.50|> Some<|6.62|><|6.70|> urologists<|7.18|><|7.36|> may<|7.46|><|7.52|> enjoy<|7.76|><|7.82|> the<|7.88|><|8.02|> complex<|8.56|><|8.86|> life<|9.04|><|9.12|> or<|9.16|><|9.20|> death<|9.36|><|9.42|> surgeries<|9.84|><|9.98|> where<|10.16|><|10.32|> you<|10.38|><|10.52|> carefully<|10.96|><|11.02|> dissect<|11.30|><|11.46|> around<|11.80|><|11.84|> the<|11.90|><|11.98|> aorta<|12.32|><|12.58|> and<|12.68|><|12.76|> vena<|12.94|><|13.04|> cava,<|13.26|><|13.62|> removing<|13.96|><|14.08|> lymph<|14.24|><|14.30|> nodes<|14.48|><|14.60|> and<|14.68|><|14.78|> curing<|15.10|><|15.20|> a<|15.20|><|15.30|> patient<|15.62|><|15.72|> of<|15.78|><|15.90|> cancer.<|16.30|><|16.66|> Others<|16.86|><|16.92|> may<|16.98|><|17.06|> like<|17.18|><|17.24|> the<|17.28|><|17.38|> quick<|17.60|><|17.80|> but<|17.94|><|18.16|> equally<|18.42|><|18.50|> satisfying<|18.94|><|19.00|> cases<|19.40|><|19.58|> where<|19.76|><|20.00|> you<|20.06|><|20.12|> retrieve<|20.44|><|20.50|> a<|20.50|><|20.62|> large<|20.84|><|20.90|> stone<|21.24|><|21.40|> and<|21.54|><|21.74|> relieve<|22.04|><|22.08|> a<|22.08|><|22.18|> patient<|22.52|><|22.60|> of<|22.64|><|22.70|> some<|22.80|><|22.86|> of<|22.88|><|22.92|> the<|22.98|><|23.14|> worst<|23.42|><|23.48|> pain<|23.64|><|23.72|> of<|23.76|><|23.80|> their<|23.90|><|24.02|> life,<|24.26|><|24.54|> and<|24.62|><|24.72|> all<|24.88|><|25.04|> in<|25.10|><|25.16|> under<|25.30|><|25.32|> 30<|25.42|><|25.76|> minutes.<|26.12|><|26.62|> You<|26.68|><|26.72|> can<|26.82|><|26.88|> be<|26.92|><|27.06|> the<|27.12|><|27.28|> cancer<|27.60|><|27.68|> slaying<|27.92|><|27.98|> hero<|28.20|><|28.48|> who<|28.54|><|28.78|> saves<|29.04|><|29.10|> the<|29.16|><|29.22|> day.<|29.96|><|endoftext|>', 'segment_timestamp': '<|startoftranscript|><|en|><|transcribe|><|0.00|> vasectomy that takes less than 30<|1.38|><|1.66|> minutes,<|1.92|><|2.32|> and the next, a complex bladder reconstruction lasting several hours.<|6.04|><|6.50|> Some urologists may enjoy the complex<|8.56|><|8.86|> life or death surgeries where you carefully dissect around the aorta<|12.32|><|12.58|> and vena cava,<|13.26|><|13.62|> removing lymph nodes and curing a patient of cancer.<|16.30|><|16.66|> Others may like the quick but equally satisfying cases where you retrieve a large stone and relieve a patient of some of the worst pain of their life,<|24.26|><|24.54|> and all in under 30<|25.42|><|25.76|> minutes.<|26.12|><|26.62|> You can be the cancer slaying hero<|28.20|><|28.48|> who saves the day.<|29.96|><|endoftext|>'}\n"
     ]
    }
   ],
   "source": [
    "for r_ in filtered:\n",
    "    if len(r_['word_timestamp']) > 2000:\n",
    "        print(r_)\n",
    "        break"
   ]
  },
  {
   "cell_type": "code",
   "execution_count": 9,
   "id": "0ef1df64",
   "metadata": {},
   "outputs": [
    {
     "data": {
      "text/plain": [
       "0.7286835394098009"
      ]
     },
     "execution_count": 9,
     "metadata": {},
     "output_type": "execute_result"
    }
   ],
   "source": [
    "len(filtered) / len(results)"
   ]
  },
  {
   "cell_type": "code",
   "execution_count": 10,
   "id": "848cf894",
   "metadata": {},
   "outputs": [],
   "source": [
    "import pandas as pd\n",
    "\n",
    "pd.DataFrame(filtered).to_parquet('pseudolabel-science-word-timestamp.parquet')"
   ]
  },
  {
   "cell_type": "code",
   "execution_count": 11,
   "id": "2a4432c1",
   "metadata": {},
   "outputs": [
    {
     "data": {
      "application/vnd.jupyter.widget-view+json": {
       "model_id": "522ac714def446fe82da9bd5e6c34ac6",
       "version_major": 2,
       "version_minor": 0
      },
      "text/plain": [
       "pseudolabel-science-word-timestamp.parquet:   0%|          | 0.00/550M [00:00<?, ?B/s]"
      ]
     },
     "metadata": {},
     "output_type": "display_data"
    },
    {
     "data": {
      "text/plain": [
       "CommitInfo(commit_url='https://huggingface.co/datasets/mesolitica/Malaysian-STT-Whisper/commit/41006e76a0a40e17752384019c2a18e11d8ff1ce', commit_message='Upload data/science_context-00000-of-00001.parquet with huggingface_hub', commit_description='', oid='41006e76a0a40e17752384019c2a18e11d8ff1ce', pr_url=None, repo_url=RepoUrl('https://huggingface.co/datasets/mesolitica/Malaysian-STT-Whisper', endpoint='https://huggingface.co', repo_type='dataset', repo_id='mesolitica/Malaysian-STT-Whisper'), pr_revision=None, pr_num=None)"
      ]
     },
     "execution_count": 11,
     "metadata": {},
     "output_type": "execute_result"
    }
   ],
   "source": [
    "from huggingface_hub import HfApi\n",
    "api = HfApi()\n",
    "api.upload_file(\n",
    "    path_or_fileobj=\"pseudolabel-science-word-timestamp.parquet\",\n",
    "    path_in_repo=\"data/science_context-00000-of-00001.parquet\",\n",
    "    repo_id=\"mesolitica/Malaysian-STT-Whisper\",\n",
    "    repo_type=\"dataset\",\n",
    ")"
   ]
  },
  {
   "cell_type": "code",
   "execution_count": 3,
   "id": "979cf149",
   "metadata": {},
   "outputs": [],
   "source": [
    "!rm *.parquet"
   ]
  },
  {
   "cell_type": "code",
   "execution_count": 4,
   "id": "5c9bc53b",
   "metadata": {},
   "outputs": [],
   "source": [
    "!rm imda-science-word-timestamp.jsonl"
   ]
  },
  {
   "cell_type": "code",
   "execution_count": 5,
   "id": "a85bbedb",
   "metadata": {},
   "outputs": [
    {
     "name": "stdout",
     "output_type": "stream",
     "text": [
      "84G\tprepared-science-chunks\r\n"
     ]
    }
   ],
   "source": [
    "!du -hs prepared-science-chunks"
   ]
  }
 ],
 "metadata": {
  "kernelspec": {
   "display_name": "python3.10",
   "language": "python",
   "name": "python3.10"
  },
  "language_info": {
   "codemirror_mode": {
    "name": "ipython",
    "version": 3
   },
   "file_extension": ".py",
   "mimetype": "text/x-python",
   "name": "python",
   "nbconvert_exporter": "python",
   "pygments_lexer": "ipython3",
   "version": "3.10.15"
  }
 },
 "nbformat": 4,
 "nbformat_minor": 5
}
