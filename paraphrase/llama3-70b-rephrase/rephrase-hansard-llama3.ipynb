{
 "cells": [
  {
   "cell_type": "code",
   "execution_count": 1,
   "id": "368e9452",
   "metadata": {},
   "outputs": [],
   "source": [
    "import json\n",
    "import os"
   ]
  },
  {
   "cell_type": "code",
   "execution_count": 2,
   "id": "7d9262dc",
   "metadata": {},
   "outputs": [],
   "source": [
    "data = []\n",
    "with open('prepared-hansard-llama3.jsonl') as fopen:\n",
    "    for l in fopen:\n",
    "        l = json.loads(l)\n",
    "        if len(l['text']) < 100:\n",
    "            continue\n",
    "        data.append(l['text'])"
   ]
  },
  {
   "cell_type": "code",
   "execution_count": 3,
   "id": "234e4737",
   "metadata": {
    "scrolled": true
   },
   "outputs": [
    {
     "data": {
      "text/plain": [
       "140927"
      ]
     },
     "execution_count": 3,
     "metadata": {},
     "output_type": "execute_result"
    }
   ],
   "source": [
    "len(data)"
   ]
  },
  {
   "cell_type": "code",
   "execution_count": 4,
   "id": "39277104",
   "metadata": {},
   "outputs": [
    {
     "name": "stdout",
     "output_type": "stream",
     "text": [
      "mkdir: cannot create directory ‘rephrase-hansard-llama3’: File exists\r\n"
     ]
    }
   ],
   "source": [
    "# !rm -rf rephrase-hansard-llama3\n",
    "!mkdir rephrase-hansard-llama3"
   ]
  },
  {
   "cell_type": "code",
   "execution_count": 5,
   "id": "695d750c",
   "metadata": {},
   "outputs": [
    {
     "data": {
      "text/plain": [
       "140927"
      ]
     },
     "execution_count": 5,
     "metadata": {},
     "output_type": "execute_result"
    }
   ],
   "source": [
    "results = []\n",
    "for i in range(len(data)):\n",
    "    \n",
    "    s = \"\"\"\n",
    "```\n",
    "{{replace_me}}\n",
    "```\n",
    "\n",
    "restructure malaysia hansard text above to become a complete malay wikipedia markdown page, start it with [START] and end with [END]\n",
    "    \"\"\".strip()\n",
    "    s = s.replace('{{replace_me}}', data[i])\n",
    "    results.append(s)\n",
    "        \n",
    "len(results)"
   ]
  },
  {
   "cell_type": "code",
   "execution_count": 6,
   "id": "c577ae75",
   "metadata": {},
   "outputs": [],
   "source": [
    "from openai import OpenAI\n",
    "import requests\n",
    "\n",
    "headers = {\n",
    "    'accept': 'application/json',\n",
    "    'Content-Type': 'application/json',\n",
    "}\n",
    "\n",
    "def answer(q, i):\n",
    "    filename = f'rephrase-hansard-llama3/{i}.json'\n",
    "    if os.path.exists(filename):\n",
    "        return\n",
    "    \n",
    "    results = []\n",
    "    openai = OpenAI(\n",
    "        base_url='https://llama-3.us.mesolitica.com/v1',\n",
    "        api_key='empty',\n",
    "    )\n",
    "    for _ in range(1):\n",
    "        \n",
    "        while True:\n",
    "            try:\n",
    "                \n",
    "                json_data = {\n",
    "                    'messages': [\n",
    "                        {\n",
    "                            'role': 'user',\n",
    "                            'content': q,\n",
    "                        },\n",
    "                    ],\n",
    "                    'model': 'model',\n",
    "                    'stop': [\n",
    "                        '<|eot_id|>',\n",
    "                    ],\n",
    "                    'temperature': 0.9,\n",
    "                    'max_tokens': 8192,\n",
    "                }\n",
    "                response = requests.post(\n",
    "                    'https://llama-3.us.mesolitica.com/v1/chat/completions', \n",
    "                    headers=headers, json=json_data, timeout = 60 * 10)\n",
    "                \n",
    "                r = response.json()['choices'][0]['message']['content']\n",
    "                results.append(r)\n",
    "                break\n",
    "            except Exception as e:\n",
    "                # print(e)\n",
    "                pass\n",
    "                \n",
    "    \n",
    "    with open(filename, 'w') as fopen:\n",
    "        json.dump(results, fopen)"
   ]
  },
  {
   "cell_type": "code",
   "execution_count": 7,
   "id": "2f0f6d5d",
   "metadata": {},
   "outputs": [],
   "source": [
    "def consumer(queue, name):\n",
    "    while True:\n",
    "        if queue.qsize() == 0:\n",
    "            break\n",
    "        item = queue.get()\n",
    "        answer(*item)\n",
    "    print(f'consumer {name} done')"
   ]
  },
  {
   "cell_type": "code",
   "execution_count": 8,
   "id": "48ec131c",
   "metadata": {},
   "outputs": [],
   "source": [
    "urls = [(q, no) for no, q in enumerate(results)]"
   ]
  },
  {
   "cell_type": "code",
   "execution_count": 9,
   "id": "eaffe556",
   "metadata": {
    "scrolled": true
   },
   "outputs": [],
   "source": [
    "answer(*urls[10005])"
   ]
  },
  {
   "cell_type": "code",
   "execution_count": 10,
   "id": "1b8eeea8",
   "metadata": {
    "scrolled": true
   },
   "outputs": [
    {
     "data": {
      "text/plain": [
       "(\"```\\nJadi saya berharap Harakah pun tidak tulis dalam tulisan jawi. [Disorak] Itu kata orang yang hendak membela tulisan jawi [Ketawa]. Dahulu marah dengan bahasa Inggeris malah sebahagian daripada Harakah juga ditulis dalam bahasa Inggeris. Jadi lain cakap, lain bikin. Inilah PAS [Ketawa] [Dewan riuh] Jadi saya berharap, Tuan Yang di-Pertua, jangan kita ungkit dan jangan kita mengata-ngatai bahawa kita tidak melakukan ini. Saya berharap pihak PAS bersama dengan kerajaan boleh kita usaha memperbaiki di mana ada kelemahan, mari kita buat cadangan. Kita sila dengar. Saya tahu Ahli Yang Berhormat bagi Parit Buntar berkali-kali mengatakan mengenai tulisan jawi. Langkah-langkah kita sudah ambil dengan secara serius. Kita bukan main-main. Begitu juga soal SAR dan tulisan jawi ini adalah berbeza. Jangan kata lulusan daripada SAR boleh tulisan jawi lebih baik daripada sekolah kebangsaan. Semuanya kita kata kalau usaha itu kita lakukan anak-anak kita tetap boleh dalam tulisan jawi dan Al- Quran. Datuk Ahmad Zahid bin Hamidi: Tuan Yang di-Pertua, adakah Yang Berhormat Setiausaha Parlimen setuju bahawa tuduhan tak amanah kepada Islam kerana tidak melaksanakan tulisan jawi di sekolah sebagai satu tuduhan yang melampau batasan dan cukup liar. Adakah Yang Berhormat juga setuju bahawa tidak semestinya buta jawi itu buta Al-Quran. Ramai orang baca Al-Quran tetapi tidak tahu tulisan jawi. Adakah Yang Berhormat bersetuju dengan langkah surat khabar Utusan Melayu yang memperkenalkan sistem ejaan baru jawi supaya tulisan dan bacaan jawi boleh difahami dengan mudah dan adakah Yang Berhormat bersetuju juga akhbar Utusan Melayu bertulisan Jawi ini dijadikan sebagai akhbar rasmi bagi pengajaran Tahap 1 dan tahap selanjutnya untuk dihantar ke sekolah-sekolah dan dicadangkan supaya Harakah itu ditulis dan diterbitkan dalam tulisan jawi, baru cakap serupa bikin [Dewan riuh]. Datuk Haji Mohamad bin Haji Aziz: Yah!. Datuk Haji Mohd. Ali bin Haji Hassan: Cakap tak serupa bikin. Dato' Ir. Mohd. Zin bin Mohamed: Ada tak amanah pula. Dato' Mahadzir bin Mohd. Khir: Terima kasih Yang Berhormat bagi Bagan Datok. Saya berkali-kali sudah bercakap mengenai dengan tulisan jawi malah banyak benda-benda yang kita lakukan di sekolah seperti dalam bidang seni pun kita masukkan tulisan jawi, tulisan khat ini untuk menggalakkan anak-anak kita membiasakan dengan tulisan jawi. Ini suatu heritage kita yang begitu tinggi nilainya. Begitu juga dengan akhbar Utusan Melayu yang hari ini sudah menjadi akhbar mingguan. Begitu juga kita sedang memikirkan perkara ini supaya akhbar tulisan jawi tadi, Utusan Melayu maksud saya, dapat diedarkan ke sekolah-sekolah untuk diminati kepada ini. Jadi soal rasmi atau tidak rasmi itu tidak timbul. Bagaimana sekarang ini kita hendak cari jalan supaya akhbar ini dapat digunakan di dalam bilik darjah pada masa yang akan datang. Begitu juga Yang Berhormat bagi Bagan Datok telah membangkitkan mengenai Harakah sama ada dia dalam tulisan jawi, itu saya rasa terpulanglah kepada pihak sana. [Ketawa] Dia cakap, dia tidak buat. Begitu juga dia duduk kempen mengenai dengan Al-Quran kata begitu begini, tetapi dia tidak praktis seperti mana yang dikehendaki dalam Islam. Seperti mengata orang, mengutuk orang, mencaci orang, dahsyat! Tetapi inilah yang saya katakan, Tuan Yang di-Pertua, lain cakap, lain bikin oleh pihak PAS.Terima kasih. [Disorak]. 10. Tuan Wilfred Madius Tangau [Tuaran] minta Menteri Pertahanan menyatakan, apakah langkah-langkah yang telah diambil untuk mempertingkatkan penyertaan bukan bumiputera di seluruh negara dan bumiputera Sabah dan Sarawak.\\n```\\n\\nrestructure malaysia hansard text above to become a complete malay wikipedia markdown page, start it with [START] and end with [END]\",\n",
       " 10005)"
      ]
     },
     "execution_count": 10,
     "metadata": {},
     "output_type": "execute_result"
    }
   ],
   "source": [
    "urls[10005]"
   ]
  },
  {
   "cell_type": "code",
   "execution_count": 11,
   "id": "09516c6f",
   "metadata": {},
   "outputs": [
    {
     "name": "stdout",
     "output_type": "stream",
     "text": [
      "Here is the restructured text in Malay Wikipedia markdown format:\n",
      "\n",
      "[START]\n",
      "\n",
      "**Debat Parlimen**\n",
      "\n",
      "**Tulisan Jawi**\n",
      "\n",
      "Dalam satu sesi debat di Parlimen, Ahli Parlimen Bagan Datuk, Dato' Mahadzir bin Mohd. Khir, membahas mengenai isu tulisan jawi.\n",
      "\n",
      "#### Ucapan Dato' Mahadzir bin Mohd. Khir\n",
      "\n",
      "Jadi saya berharap Harakah pun tidak tulis dalam tulisan jawi. [Disorak] Itu kata orang yang hendak membela tulisan jawi [Ketawa]. Dahulu marah dengan bahasa Inggeris malah sebahagian daripada Harakah juga ditulis dalam bahasa Inggeris. Jadi lain cakap, lain bikin. Inilah PAS [Ketawa] [Dewan riuh] Jadi saya berharap, Tuan Yang di-Pertua, jangan kita ungkit dan jangan kita mengata-ngatai bahawa kita tidak melakukan ini. Saya berharap pihak PAS bersama dengan kerajaan boleh kita usaha memperbaiki di mana ada kelemahan, mari kita buat cadangan. Kita sila dengar. Saya tahu Ahli Yang Berhormat bagi Parit Buntar berkali-kali mengatakan mengenai tulisan jawi. Langkah-langkah kita sudah ambil dengan secara serius. Kita bukan main-main. Begitu juga soal SAR dan tulisan jawi ini adalah berbeza. Jangan kata lulusan daripada SAR boleh tulisan jawi lebih baik daripada sekolah kebangsaan. Semuanya kita kata kalau usaha itu kita lakukan anak-anak kita tetap boleh dalam tulisan jawi dan Al-Quran.\n",
      "\n",
      "#### Ucapan Datuk Ahmad Zahid bin Hamidi\n",
      "\n",
      "Datuk Ahmad Zahid bin Hamidi bertanya, \"Tuan Yang di-Pertua, adakah Yang Berhormat Setiausaha Parlimen setuju bahawa tuduhan tak amanah kepada Islam kerana tidak melaksanakan tulisan jawi di sekolah sebagai satu tuduhan yang melampau batasan dan cukup liar. Adakah Yang Berhormat juga setuju bahawa tidak semestinya buta jawi itu buta Al-Quran. Ramai orang baca Al-Quran tetapi tidak tahu tulisan jawi. Adakah Yang Berhormat bersetuju dengan langkah surat khabar Utusan Melayu yang memperkenalkan sistem ejaan baru jawi supaya tulisan dan bacaan jawi boleh difahami dengan mudah dan adakah Yang Berhormat bersetuju juga akhbar Utusan Melayu bertulisan Jawi ini dijadikan sebagai akhbar rasmi bagi pengajaran Tahap 1 dan tahap selanjutnya untuk dihantar ke sekolah-sekolah dan dicadangkan supaya Harakah itu ditulis dan diterbitkan dalam tulisan jawi, baru cakap serupa bikin [Dewan riuh].\"\n",
      "\n",
      "#### Ucapan Lain\n",
      "\n",
      "Datuk Haji Mohamad bin Haji Aziz: Yah!\n",
      "\n",
      "Datuk Haji Mohd. Ali bin Haji Hassan: Cakap tak serupa bikin.\n",
      "\n",
      "Dato' Ir. Mohd. Zin bin Mohamed: Ada tak amanah pula.\n",
      "\n",
      "#### Ucapan Dato' Mahadzir bin Mohd. Khir (Lanjutan)\n",
      "\n",
      "Dato' Mahadzir bin Mohd. Khir menambah, \"Terima kasih Yang Berhormat bagi Bagan Datok. Saya berkali-kali sudah bercakap mengenai dengan tulisan jawi malah banyak benda-benda yang kita lakukan di sekolah seperti dalam bidang seni pun kita masukkan tulisan jawi, tulisan khat ini untuk menggalakkan anak-anak kita membiasakan dengan tulisan jawi. Ini suatu heritage kita yang begitu tinggi nilainya. Begitu juga dengan akhbar Utusan Melayu yang hari ini sudah menjadi akhbar mingguan. Begitu juga kita sedang memikirkan perkara ini supaya akhbar tulisan jawi tadi, Utusan Melayu maksud saya, dapat diedarkan ke sekolah-sekolah untuk diminati kepada ini. Jadi soal rasmi atau tidak rasmi itu tidak timbul. Bagaimana sekarang ini kita hendak cari jalan supaya akhbar ini dapat digunakan di dalam bilik darjah pada masa yang akan datang. Begitu juga Yang Berhormat bagi Bagan Datok telah membangkitkan mengenai Harakah sama ada dia dalam tulisan jawi, itu saya rasa terpulanglah kepada pihak sana. [Ketawa] Dia cakap, dia tidak buat. Begitu juga dia duduk kempen mengenai dengan Al-Quran kata begitu begini, tetapi dia tidak praktis seperti mana yang dikehendaki dalam Islam. Seperti mengata orang, mengutuk orang, mencaci orang, dahsyat! Tetapi inilah yang saya katakan, Tuan Yang di-Pertua, lain cakap, lain bikin oleh pihak PAS.Terima kasih. [Disorak].\n",
      "\n",
      "[END]\n"
     ]
    }
   ],
   "source": [
    "with open('rephrase-hansard-llama3/10005.json') as fopen:\n",
    "    t = json.load(fopen)\n",
    "    \n",
    "print(t[0])"
   ]
  },
  {
   "cell_type": "code",
   "execution_count": 12,
   "id": "69c55c7a",
   "metadata": {},
   "outputs": [],
   "source": [
    "from threading import Thread\n",
    "from queue import Queue\n",
    "from tqdm import tqdm\n",
    "\n",
    "queue = Queue()\n",
    "for u in urls:\n",
    "    queue.put(u)\n",
    "    \n",
    "ori_size = queue.qsize()"
   ]
  },
  {
   "cell_type": "code",
   "execution_count": null,
   "id": "e983c3cf",
   "metadata": {},
   "outputs": [
    {
     "name": "stderr",
     "output_type": "stream",
     "text": [
      " 21%|██████████████▎                                                     | 29773/140927 [4:53:35<337:55:55, 10.94s/it]"
     ]
    }
   ],
   "source": [
    "max_worker = 50\n",
    "consumers = [Thread(target=consumer, args=(queue,i)) for i in range(max_worker)]\n",
    "for i in range(len(consumers)):\n",
    "    consumers[i].start()\n",
    "    \n",
    "pbar = tqdm(total=ori_size)\n",
    "last_size = 0\n",
    "while True:\n",
    "    size = queue.qsize()\n",
    "    if size == 0:\n",
    "        break\n",
    "    left = ori_size - size\n",
    "    minus = left - last_size\n",
    "    if minus > 0:\n",
    "        pbar.update(minus)\n",
    "        last_size += minus\n",
    "\n",
    "pbar.close()"
   ]
  }
 ],
 "metadata": {
  "kernelspec": {
   "display_name": "Python 3 (ipykernel)",
   "language": "python",
   "name": "python3"
  },
  "language_info": {
   "codemirror_mode": {
    "name": "ipython",
    "version": 3
   },
   "file_extension": ".py",
   "mimetype": "text/x-python",
   "name": "python",
   "nbconvert_exporter": "python",
   "pygments_lexer": "ipython3",
   "version": "3.8.10"
  }
 },
 "nbformat": 4,
 "nbformat_minor": 5
}
