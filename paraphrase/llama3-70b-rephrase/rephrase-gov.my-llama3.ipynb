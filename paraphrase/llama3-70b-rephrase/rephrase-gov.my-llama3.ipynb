{
 "cells": [
  {
   "cell_type": "code",
   "execution_count": 2,
   "id": "368e9452",
   "metadata": {},
   "outputs": [],
   "source": [
    "import json\n",
    "import os"
   ]
  },
  {
   "cell_type": "code",
   "execution_count": 2,
   "id": "7d9262dc",
   "metadata": {},
   "outputs": [],
   "source": [
    "data = []\n",
    "with open('prepared-gov.my-llama3.jsonl') as fopen:\n",
    "    for l in fopen:\n",
    "        l = json.loads(l)\n",
    "        if len(l['text']) < 100:\n",
    "            continue\n",
    "        data.append(l['text'])"
   ]
  },
  {
   "cell_type": "code",
   "execution_count": 3,
   "id": "234e4737",
   "metadata": {
    "scrolled": true
   },
   "outputs": [
    {
     "data": {
      "text/plain": [
       "64500"
      ]
     },
     "execution_count": 3,
     "metadata": {},
     "output_type": "execute_result"
    }
   ],
   "source": [
    "len(data)"
   ]
  },
  {
   "cell_type": "code",
   "execution_count": 4,
   "id": "39277104",
   "metadata": {},
   "outputs": [
    {
     "name": "stdout",
     "output_type": "stream",
     "text": [
      "mkdir: cannot create directory ‘rephrase-gov.my-llama3’: File exists\r\n"
     ]
    }
   ],
   "source": [
    "# !rm -rf rephrase-gov.my-llama3\n",
    "!mkdir rephrase-gov.my-llama3"
   ]
  },
  {
   "cell_type": "code",
   "execution_count": 5,
   "id": "695d750c",
   "metadata": {},
   "outputs": [
    {
     "data": {
      "text/plain": [
       "64500"
      ]
     },
     "execution_count": 5,
     "metadata": {},
     "output_type": "execute_result"
    }
   ],
   "source": [
    "results = []\n",
    "for i in range(len(data)):\n",
    "    \n",
    "    s = \"\"\"\n",
    "{{replace_me}}\n",
    "\n",
    "structure text above to become a complete malay wikipedia markdown page, DO NOT BE LAZY, WRITE ALL DOWN EVERYTHING, NO REDACTED AND SO ON, start it with [START] and end with [END]\n",
    "    \"\"\".strip()\n",
    "    s = s.replace('{{replace_me}}', data[i])\n",
    "    results.append(s)\n",
    "        \n",
    "len(results)"
   ]
  },
  {
   "cell_type": "code",
   "execution_count": 6,
   "id": "c577ae75",
   "metadata": {},
   "outputs": [],
   "source": [
    "from openai import OpenAI\n",
    "import requests\n",
    "\n",
    "headers = {\n",
    "    'accept': 'application/json',\n",
    "    'Content-Type': 'application/json',\n",
    "}\n",
    "\n",
    "def answer(q, i):\n",
    "    filename = f'rephrase-gov.my-llama3/{i}.json'\n",
    "    if os.path.exists(filename):\n",
    "        return\n",
    "    \n",
    "    results = []\n",
    "    openai = OpenAI(\n",
    "        base_url='https://llama-3.us.mesolitica.com/v1',\n",
    "        api_key='empty',\n",
    "    )\n",
    "    for _ in range(1):\n",
    "        \n",
    "        while True:\n",
    "            try:\n",
    "                \n",
    "                json_data = {\n",
    "                    'messages': [\n",
    "                        {\n",
    "                            'role': 'user',\n",
    "                            'content': q,\n",
    "                        },\n",
    "                    ],\n",
    "                    'model': 'model',\n",
    "                    'stop': [\n",
    "                        '<|eot_id|>',\n",
    "                    ],\n",
    "                    'temperature': 0.9,\n",
    "                    'max_tokens': 8192,\n",
    "                }\n",
    "                response = requests.post(\n",
    "                    'https://llama-3.us.mesolitica.com/v1/chat/completions', \n",
    "                    headers=headers, json=json_data, timeout = 60 * 10)\n",
    "                \n",
    "                r = response.json()['choices'][0]['message']['content']\n",
    "                results.append(r)\n",
    "                break\n",
    "            except Exception as e:\n",
    "                # print(e)\n",
    "                pass\n",
    "                \n",
    "    \n",
    "    with open(filename, 'w') as fopen:\n",
    "        json.dump(results, fopen)"
   ]
  },
  {
   "cell_type": "code",
   "execution_count": 7,
   "id": "2f0f6d5d",
   "metadata": {},
   "outputs": [],
   "source": [
    "def consumer(queue, name):\n",
    "    while True:\n",
    "        if queue.qsize() == 0:\n",
    "            break\n",
    "        item = queue.get()\n",
    "        answer(*item)\n",
    "    print(f'consumer {name} done')"
   ]
  },
  {
   "cell_type": "code",
   "execution_count": 8,
   "id": "48ec131c",
   "metadata": {},
   "outputs": [],
   "source": [
    "urls = [(q, no) for no, q in enumerate(results)]"
   ]
  },
  {
   "cell_type": "code",
   "execution_count": 9,
   "id": "eaffe556",
   "metadata": {
    "scrolled": true
   },
   "outputs": [],
   "source": [
    "answer(*urls[20])"
   ]
  },
  {
   "cell_type": "code",
   "execution_count": 10,
   "id": "5c512585",
   "metadata": {
    "scrolled": true
   },
   "outputs": [
    {
     "data": {
      "text/plain": [
       "(\". Datin Siti Norizah binti Bachik Timbalan Menteri di Jabatan Perdana Menteri (Parlimen dan Undang-Undang) 79. YB Datuk Wira Hajah Mas Ermieyati binti Samsudin YBhg. Encik Mohd Helmy bin Abd. Talib Timbalan Menteri Perdagangan Dalam Negeri dan Hal Ehwal Pengguna 80. YB Dato' Haji Rosol bin Wahid YBhg. To’ Puan Halipah binti Ahmad Timbalan Menteri Dalam Negeri II 81. YB Datuk Jonathan bin Yasin YBhg. Datin Helena binti Masry Timbalan Menteri Pelancongan, Seni dan Budaya 82. YB Datuk Seri Dr. Santhara Kumar a/l Ramanaidu YBhg. Datin Seri Carline a/p A Johnson D’Cruz Timbalan Menteri Alam Sekitar dan Air 83. YB Dato’ Dr. Mansor bin Haji Othman YBhg. Datin Aishah binti Zainul 84. Timbalan Menteri Tenaga, dan Sumber Asli YB Datuk Ali anak Biju Timbalan Menteri Perusahaan Perladangan dan Komoditi I 85. YB Datuk Willie anak Mongin YBhg. Datin Yee Chooi Ling Kemas kini sehingga 12 Oktober 2022 8 Timbalan Menteri Perpaduan Negara 86. YB Senator Tuan Wan Ahmad Fayhsal bin Wan Ahmad Kamal YBhg. Dr. Siti Nuhara binti Riduan Timbalan Menteri Pengangkutan 87. YB Dato’ Henry Sum Agong YBhg. Datin Tunung Palong Timbalan Menteri Kesihatan II 88. YB Datuk Ago Anak Dagang YBhg. Datin Ping Bungan Timbalan Menteri Pembangunan Luar Bandar II 89. YB Datuk Haji Hasbi bin Habibollah YBhg. Datin Elsi Marlisa binti Abdullah Timbalan Menteri di Jabatan Perdana Menteri (Hal Ehwal Sabah dan Sarawak) 90. YB Dato Hajah Hanifah Hajar Taib YBhg. Datuk Syed Ahmad bin Alwee Alsree Timbalan Menteri Kerja Raya 91. YB Datuk Arthur Joseph Kurup YBhg. Datin Stella Boklin Timbalan Menteri Pembangunan Wanita, Keluarga dan Masyarakat 92. YB Dato’ Hajah Siti Zailahbinti Mohd Yusoff YBhg. Tuan Haji Mat Razali bin Muhamed Timbalan Menteri di Jabatan Perdana Menteri (Hal Ehwal Agama) 93. YB Datuk Haji Ahmad Marzuk bin Shaary YBhg. Datin Pengiran Siti Radziah binti Pengiran Abdullah Timbalan Menteri Sumber Manusia 94. YB Datuk Haji Awang bin Hashim YBhg. Datin Hajah Zaharah binti Junus Timbalan Menteri Sains, Teknologi dan Inovasi 95. YB Datuk Haji Ahmad Amzad bin Mohamed @ Hashim YBhg. Datin Dr. Nur Diana binti Ahmad Takri Timbalan Menteri Perusahaan Perladangan dan Komoditi II 96. YB Dato’ Sri Dr. Wee Jeck Seng YBhg. Datin Sri Lim Joo Hon Timbalan Menteri Pengajian Tinggi 97. YB Senator Dato’ Dr. Ahmad Masrizal Muhammad YBhg. Datin Suriani binti Shamsuddin Timbalan Menteri Perdagangan Antarabangsa dan Industri 98. YB Senator Datuk Lim Ban Hong YBhg. Datin Teoh Su Chi Kemas kini sehingga 12 Oktober 2022 9 Timbalan Menteri Belia dan Sukan 99. YB Senator Dato’ Sri Ti Lian Ker YBhg. Datin Sri Tan Puay Ling Timbalan Menteri Pendidikan I 100. YB Senator Dato’ Dr. Mah Hang Soon YBhg. Datin Lim Soo Lee Timbalan Menteri Wilayah Persekutuan 101. YB Datuk Seri Haji Jalaluddin bin Haji Alias YBhg. Datin Seri Hajah Maziah binti Haji Mohd Nor Timbalan Menteri Pendidikan II 102. YB Datuk Mohamad bin Alamin YBhg. Datin Dr. Rohamini binti Sibin Timbalan Menteri Kewangan II 103. YB Datuk Yamani Hafez bin Musa YBhg. Datin Faizah binti Mohd Sauffi Timbalan Menteri Pertanian dan Industri Makanan II 104. YB Datuk Dr. Nik Muhammad Zawawi bin Salleh YBhg. Datin Hajah Zuraini binti Che Hamid HAKIM MAHKAMAH PERSEKUTUAN –Rujuk BIUPA untuk perincian HAKIM MAHKAMAH RAYUAN –Rujuk BIUPA untuk perincian 1045.1 AHLI PANGLIMA MANGKU NEGARA (P.M.N.) –Rujuk BIUPA untuk perincian PEGAWAI GRED UTAMA TURUS I DAN II Setiausaha Kerajaan Negeri Sarawak 105. YB Datuk Amar Haji Mohamad Abu Bakar bin Marzuki YBhg. Datin Amar Hajah Baduyah binti Haji Bujang Setiausaha Kerajaan Negeri Sabah 106. YB Datuk Seri Panglima Sr. Haji Safar bin Untong YBhg. Datin Seri Panglima Datuk Dr. Hajah Nuinda binti Alias Ketua Setiausaha Kementerian Alam Sekitar dan Air 107. YBhg. Dato’ Seri Ir. Dr. Zaini bin Ujang 1045.1 YBhg. Datin Seri Dr. Zainah binti Moktar Ketua Pengarah Kesihatan, Kementerian Kesihatan Malaysia 108. YBhg. Tan Sri Dato’ Seri Dr. Noor Hisham bin Abdullah YBhg. Puan Sri Datin Seri Nik Suwaida binti Nik Mohammad Mohyideen Kemas kini sehingga 12 Oktober 2022 10 Ketua Pesuruhjaya Suruhanjaya Pencegahan Rasuah Malaysia (SPRM), Jabatan Perdana Menteri 109. YBhg. Tan Sri Dato’ Sri KPj Haji Azam bin Baki YBhg. Puan Sri Datin Sri Normah binti Mohd Zin Gabenor, Bank Negara Malaysia, Kementerian Kewangan 110. YBhg. Tan Sri Nor Shamsiah binti Mohd Yunus YBhg. Dr. Kamil bin Nordin Ketua Setiausaha Perbendaharaan Kementerian Kewangan 111. YBhg. Datuk Seri Asri bin Hamidon YBhg. Datin Seri Saidatu Akhma binti Hassan Peguam Cara Negara II, Jabatan Peguam Negara 112. YBhg. Datuk Siti Zainab binti Omar YBhg. Encik Nur Adlan bin Taib 1045.1 Peguam Cara Negara, Jabatan Peguam Negara 113. YBhg. Datuk Ahmad Terrirudin bin Mohd Salleh YBhg. Datin Zarina binti Idris Ketua Bahagian,Bahagian Pendakwaan, Jabatan Peguam Negara 114. YBhg. Dato’ Haji Nik Suhaimi bin Nik Sulaiman YA Datuk Hajah Azizah binti Haji Nawawi PENGERUSI MAJLIS RASMI KERAJAAN Timbalan Ketua Setiausaha Kanan, Jabatan Perdana Menteri 115. YBhg. Dato’ Sollehuddin Alyubi bin Zakaria YBhg. Datin Farizah binti Che Hussin KETUA SETIAUSAHA KEMENTERIAN Ketua Setiausaha Kementerian Komunikasi dan Multimedia 116. YBhg. Dato’ Sri Haji Mohammad bin Mentek YBhg. Datin Sri Hajah Hairani binti Mohd Tajudin Ketua Setiausaha Kementerian Perdagangan Antarabangsa dan Industri 117. YBhg. Datuk Lokman Hakim bin Ali YBhg. Datin Wan Razanawani binti Wan Zakaria Ketua Setiausaha Kementerian Sains, Teknologi dan Inovasi 118. YBhg. Datuk Ts. Dr. Haji Aminuddin bin Hassim YBhg. Datin Murni binti Muda 1045.1 Ketua Setiausaha Kementerian Pengangkutan 119. YBhg. Datuk Isham bin Ishak 1045.1 YBhg. Datin Nor Laili binti Hamzah 1045.2 Ketua Setiausaha Kementerian Pertahanan 120. YBhg. Dato’ Sri Muez bin Abd Aziz 1045.2 YBhg. Datin Sri Rafidah binti Latif Kemas kini sehingga 12 Oktober 2022 11 Ketua Pengarah Unit Perancang Ekonomi (EPU), Jabatan Perdana Menteri 121. YBhg. Datuk Seri Saiful Anuar bin Lebai Hussen YBhg. Datin Seri Suzana binti Kamisan Ketua Setiausaha Kementerian Pembangunan Usahawan dan Koperasi 122. YBhg. Dato’ Suriani binti Dato’ Ahmad YBhg. Encik Yusni Afindi bin Lukman Ketua Pengarah Unit Pemodenan Tadbiran dan Perancangan Pengurusan Malaysia (MAMPU), Jabatan Perdana Menteri 123. YBhg. Datuk Seri Dr. Yusof bin Ismail YBhg. Datin Seri Majdah binti Abdul Rashid Ketua Setiausaha Kementerian Perdagangan Dalam Negeri dan Hal Ehwal Pengguna 124. YBhg. Datuk Azman bin Mohd Yusof YBhg. Datin Roszita binti Imaduddin Ketua Setiausaha Kementerian Pendidikan Malaysia 125. YBhg. Datuk Yusran Shah bin Mohd Yusof YBhg. Datin Nor Ashikin binti Omar Ketua Setiausaha Kementerian Pengajian Tinggi 126. YBhg. Dato’ Seri Abdul Razak bin Jaafar YBhg. Datin Seri Arida binti Abdul Razak Ketua Setiausaha Kementerian Perusahaan Perladangan dan Komoditi 127. YBhg. Datuk Ravi Muthayah YBhg. Datin Lau Chu Eng Ketua Setiausaha Kementerian Kesihatan Malaysia 128. YBhg. Datuk Harjeet Singh a/l Hardev Singh YBhg. Datin Amreeta Kaur a/p Pretham Singh Ketua Setiausaha Kementerian Dalam Negeri 129. YBhg. Dato’ Sri Wan Ahmad Dahlan bin Haji Abdul Aziz YBhg. Datin Sri Dr. Azlifah binti Bahari Ketua Setiausaha Kementerian Perpaduan Negara 130. YBhg. Dato’ Indera Noridah binti Abdul Rahim YBhg. Encik Ari bin Deraman Ketua Setiausaha Kementerian Luar Negeri 131. YBhg. Dato’ Sri Amran bin Mohamed Zin YBhg. Datin Sri Razana binti Mat Ketua Setiausaha Kementerian Pembangunan Wanita, Keluarga dan Masyarakat 132. YBhg. Datuk Dr. Maziah binti Che Yusoff YBhg. Encik Ahmad Khuzaimi bin Abdul Rashid Kemas kini sehingga 12 Oktober 2022 12 Ketua Setiausaha Kementerian Pembangunan Luar Bandar 133. YBhg. Dato’ Ramlan bin Harun YBhg. Datin Nurzita binti Ismail Ketua Setiausaha Kementerian Perumahan dan Kerajaan Tempatan 134. YBhg. Datuk M Noor Azman bin Taib YBhg. Datin Rosni binti Mohd Yusoff Ketua Setiausaha Kementerian Wilayah Persekutuan 135. YBhg. Datuk Seri Hajah Rosida binti Jaafar YBhg. Tuan Haji Ghazali bin Zainuddin Ketua Pengarah Unit Penyelarasan Pelaksanaan (ICU), Jabatan Perdana Menteri 136. YBhg. Datuk Haji Ruji bin Haji Ubi YBhg. Datin Kamariah binti Abd. Rahman Ketua Setiausaha KementerianKerja Raya 137. YBhg. Dato’ Wira Wan Ahmad Uzir bin Haji Wan Sulaiman YBhg. Datin Wira Dr. Sarina binti Shuib Ketua Setiausaha Kementerian Belia dan Sukan 138. YBhg. Dato’ Jana Santhiran a/l Muniayan YBhg. Datin Poovai Karuppanna Ketua Setiausaha Kementerian Tenaga dan Sumber Asli 139. YBhg. Dato’ Haji Rosli bin Isa YBhg. Datin Norwani binti Mohd Shariff Ketua Setiausaha Kementerian Pelancongan, Seni dan Budaya 140. YBhg. Datuk Hajah Saraya binti Arbi Ketua Setiausaha Kementerian Pertanian dan Industri Makanan 141. YBhg. Dato’ Haslina binti Abdul Hamid YBhg. Encik Mashor bin Hussin PEGAWAI GRED UTAMA TURUS III Peguam Besar Negeri, Jabatan Peguam Besar Negeri Sarawak 142. YBhg. Dato Sri Talat Mahmood bin Abdul Rashid YBhg. Datin Sri Norbani binti Mohamed Nazeri Setiausaha Kerajaan Johor 143. YB Tan Sri Dato’ Dr. Haji Azmi bin Rohani YBhg. Puan Sri Datin Dr. Hajah Noor Azizah binti Abdul Latiff Setiausaha Kerajaan Kelantan 144. YB Dato’ Haji Nazran bin Muhammad YBhg. Datin Hajah Dr. Wan Nazariah binti W Hassan 1045.1 Ketua Pengarah Majlis Amanah Rakyat (MARA), Kementerian Pembangunan Luar Bandar 145. YBhg. Dato’ Azhar bin Abdul Manaf YBhg. Datin Zuriati binti Yusoff Kemas kini sehingga 12 Oktober 2022 13 Setiausaha Kerajaan Negeri Perlis 146. YBhg. Datuk Seri Haji Hasnol Zam Zam bin Haji Ahmad YBhg. Datin Seri Roslina binti Mior Adlan Pengerusi, Lembaga Getah Malaysia (LGM), Kementerian Perusahaan Perladangan dan Komoditi 147. YBrs. Encik Lee Chin Cheh 1045.2 YBrs. Puan Low Koon Min 1045.1 Ketua Pengarah, Lembaga Getah Malaysia (LGM), Kementerian Perusahaan Perladangan dan Komoditi 148. YBhg. Dato’ Dr. Zairossani bin Mohd Nor 1045.3 YBhg. Datin Nafishah binti Ahmad Tajuldin 1045.4 1045.1 Ketua Pengarah, Lembaga Minyak Sawit Malaysia (MPOB), Kementerian Perusahaan Perladangan dan Komoditi 149. YBhg. Datuk Dr. Ahmad Parveez bin Haji Ghulam Kadir YBhg. Datin Nor Muriani binti Mustafa Setiausaha Kewangan Negeri, Pentadbiran Setiausaha Kerajaan Negeri Sarawak 150. YBhg. Dato Sri Dr. Wan Lizozman bin Wan Omar YBhg. Datin Sri Sharifah Ihsan binti Tuanku Abdullah Ketua Pegawai Eksekutif, Lembaga Hasil Dalam Negeri (LHDN), Kementerian Kewangan 151. YBhg. Datuk Mohd Nizom bin Sairi Ketua Pengarah Kerja Raya, Jabatan Kerja Raya, Kementerian Kerja Raya 152. YBhg. Dato’ Seri Ir. Haji Mohamad Zulkefly bin Sulaiman YBhg. Datin Seri Hajah Zafia binti Zainal Arifin Akauntan Negara, Jabatan Akauntan Negara, Kementerian Kewangan 153. YBhg. Datuk Dr. Yacob bin Mustafa YBhg. Datin Rugayah binti Mohd. Zin Pengerusi, Suruhanjaya Perkhidmatan Awam (SPA) / Pengerusi Suruhanjaya Perkhid\\n\\nstructure text above to become a complete malay wikipedia markdown page, DO NOT BE LAZY, WRITE ALL DOWN EVERYTHING, NO REDACTED AND SO ON, start it with [START] and end with [END]\",\n",
       " 20)"
      ]
     },
     "execution_count": 10,
     "metadata": {},
     "output_type": "execute_result"
    }
   ],
   "source": [
    "urls[20]"
   ]
  },
  {
   "cell_type": "code",
   "execution_count": 12,
   "id": "69c55c7a",
   "metadata": {},
   "outputs": [],
   "source": [
    "from threading import Thread\n",
    "from queue import Queue\n",
    "from tqdm import tqdm\n",
    "\n",
    "queue = Queue()\n",
    "for u in urls:\n",
    "    queue.put(u)\n",
    "    \n",
    "ori_size = queue.qsize()"
   ]
  },
  {
   "cell_type": "code",
   "execution_count": null,
   "id": "e983c3cf",
   "metadata": {},
   "outputs": [
    {
     "name": "stderr",
     "output_type": "stream",
     "text": [
      "  2%|█▏                                                                      | 1046/64500 [32:44<347:44:17, 19.73s/it]"
     ]
    }
   ],
   "source": [
    "max_worker = 50\n",
    "consumers = [Thread(target=consumer, args=(queue,i)) for i in range(max_worker)]\n",
    "for i in range(len(consumers)):\n",
    "    consumers[i].start()\n",
    "    \n",
    "pbar = tqdm(total=ori_size)\n",
    "last_size = 0\n",
    "while True:\n",
    "    size = queue.qsize()\n",
    "    if size == 0:\n",
    "        break\n",
    "    left = ori_size - size\n",
    "    minus = left - last_size\n",
    "    if minus > 0:\n",
    "        pbar.update(minus)\n",
    "        last_size += minus\n",
    "\n",
    "pbar.close()"
   ]
  },
  {
   "cell_type": "code",
   "execution_count": 6,
   "id": "6f73ba55",
   "metadata": {},
   "outputs": [],
   "source": [
    "data = []\n",
    "with open('prepared-gov.my-llama3.jsonl') as fopen:\n",
    "    for l in fopen:\n",
    "        l = json.loads(l)\n",
    "        if len(l['text']) < 100:\n",
    "            continue\n",
    "        data.append(l)"
   ]
  },
  {
   "cell_type": "code",
   "execution_count": 8,
   "id": "a394744d",
   "metadata": {},
   "outputs": [
    {
     "name": "stderr",
     "output_type": "stream",
     "text": [
      "100%|███████████████████████████████████████████████████████████████████████| 64500/64500 [00:00<00:00, 130524.48it/s]\n"
     ]
    }
   ],
   "source": [
    "from tqdm import tqdm\n",
    "\n",
    "with open('gov.my-rephrase.jsonl', 'w') as fopen_l:\n",
    "    for i in tqdm(range(len(data))):\n",
    "        filename = f'rephrase-gov.my-llama3/{i}.json'\n",
    "        if not os.path.exists(filename):\n",
    "            continue\n",
    "\n",
    "        with open(filename) as fopen:\n",
    "            d = json.load(fopen)\n",
    "\n",
    "        try:\n",
    "            rephrase = d[0].split('[START]')[1].split('[END]')[0].strip()\n",
    "            data[i]['rephrase'] = rephrase\n",
    "            \n",
    "            fopen_l.write(f'{json.dumps(data[i])}\\n')\n",
    "        except Exception as e:\n",
    "            pass"
   ]
  },
  {
   "cell_type": "code",
   "execution_count": 9,
   "id": "848ee4f1",
   "metadata": {},
   "outputs": [
    {
     "name": "stdout",
     "output_type": "stream",
     "text": [
      "996 gov.my-rephrase.jsonl\r\n"
     ]
    }
   ],
   "source": [
    "!wc -l gov.my-rephrase.jsonl"
   ]
  },
  {
   "cell_type": "code",
   "execution_count": 11,
   "id": "d0678a0b",
   "metadata": {},
   "outputs": [
    {
     "name": "stdout",
     "output_type": "stream",
     "text": [
      "{\"text\": \") lulus semua penilaian tahap kecekapan yang ditetapkan; dan (c) diperaku oleh ketua perkhidmatan. Nota: Skim perkhidmatan ini membatalkan skim perkhidmatan terdahulu yang berkuat kuasa pada 1.10.1995 [Surat Pemakluman Skim Perkhidmatan, JPA(S)324/14/24-1/Klt. 10 (1)]. 673/776 SKIM PERKHIDMATAN JURUPULIH PERUBATAN KLASIFIKASI : PERKHIDMATAN PERUBATAN DAN KESIHATAN KUMPULAN PERKHIDMATAN : SOKONGAN TARIKH KUAT KUASA : 1 NOVEMBER 2002 Gred Jadual Gaji Matriks Gred U29 : P1T1 RM928.55 P2T1 RM985.42 P3T1 RM1044.71 - - - P1T27 RM2445.89 P2T27 RM2623.76 P3T27 RM2781.06 Gred U32 : P1T1 RM1567.43 P2T1 RM1683.59 - - P1T20 RM2925.05 P2T20 RM3227.55 Gred U36 : P1T1 RM2445.89 P2T1 RM2616.50 - - P1T11 RM3617.17 P2T11 RM3999.53 Gred U38 : P1T1 RM3023.06 P2T1 RM3304.99 - - P1T8 RM3954.76 P2T8 RM4312.92 Gred U40 : P1T1 RM3555.46 P2T1 RM3893.05 - - P1T7 RM4513.78 P2T7 RM4923.97 SYARAT LANTIKAN 1. Calon bagi lantikan hendaklah memiliki kelayakan seperti berikut:- (a) warganegara Malaysia; (b) berumur tidak kurang dari 18 tahun pada tarikh tutup iklan jawatan; (c) (i) Diploma Jurupulih Cara Kerja daripada Kolej Jurupulih Cara Kerja atau Diploma Fisioterapi Kementerian Kesihatan Malaysia yang diiktiraf oleh kerajaan atau kelayakan yang diiktiraf setaraf dengannya. (Gaji permulaan ialah pada Gred U29: P1T6); atau (ii) Diploma Jurupulih Cara Kerja (Occupational Theraphy) daripada London School of Occupational Theraphy yang diiktiraf oleh kerajaan atau kelayakan yang diiktiraf setaraf dengannya. (Gaji permulaan ialah pada Gred U29: P1T7); atau (iii) ijazah sarjana muda dalam bidang pemulihan yang diiktiraf oleh kerajaan daripada institusi-institusi pengajian tinggi tempatan atau kelayakanyang diiktiraf setaraf dengannya. (Gaji permulaan ialah pada Gred U29: P1T9); 674/776 dan (d) lulus Bahasa Malaysia/Bahasa Melayu (termasuk lulus Ujian Lisan) pada peringkat Sijil Pelajaran Malaysia atau kelulusan yang diiktiraf setaraf dengannya oleh kerajaan. PENETAPAN GAJI PERMULAAN 2. Gaji permulaan yang lebih tinggi atas P1 Gred U29 boleh ditetapkan oleh Pihak Berkuasa Melantik berkenaan berasaskan kepada pengalaman kerja berkaitan. TEMPOH PERCUBAAN 3. Jurupulih Perubatan Gred U29 yang dilantik adalah dikehendaki berkhidmat dalam tempoh percubaan selama 1 hingga 3 tahun. LATIHAN 4. Jurupulih Perubatan boleh dikehendaki mengikuti latihan yang ditetapkan oleh ketua perkhidmatan yang berkenaan. KURSUS INDUKSI/ PEPERIKSAAN 5. Jurupulih Perubatan Gred U29 dalam percubaan adalah dikehendaki hadir dengan jayanya kursus induksi yang ditetapkan oleh ketua perkhidmatan yang berkenaan. PENGESAHAN DALAM PERKHIDMATAN 6. Jurupulih Perubatan Gred U29 yang dilantik adalah layak disahkan dalam perkhidmatan apabila telah:- (a) memenuhi tempoh percubaan; (b) hadir dengan jayanya kursus induksi yang ditetapkan; dan (c) diperaku oleh ketua perkhidmatan. PERGERAKAN GAJI TAHUNAN 7. Pergerakan gaji tahunan adalah tidak automatik dan akan ditetapkan oleh ketua perkhidmatan berdasarkan prestasi perkhidmatan. PENILAIAN TAHAP KECEKAPAN 8. Jurupulih Perubatan hendaklah lulus penilaian tahap kecekapan yang ditetapkan oleh ketua perkhidmatan untuk kenaikan pangkat. KENAIKAN PANGKAT KE GRED U32 9. Jurupulih Perubatan Gred U29 adalah layak dipertimbang bagi kenaikan pangkat ke jawatan Jurupulih Perubatan Gred U32 yang kosong apabila telah:- (a) disahkan dalam perkhidmatan; (b) mencapai tahap prestasi yang ditetapkan; (c) lulus semua penilaian tahap kecekapan yang ditetapkan; atau (d) memiliki Sijil Pengajar dalam bidang berkaitan yang diiktiraf oleh kerajaan; dan (e) diperaku oleh ketua perkhidmatan. KENAIKAN PANGKAT KE GRED U36 10. Jurupulih Perubatan Gred U32 adalah layak dipertimbang bagi kenaikan pangkat ke jawatan Jurupulih Perubatan Gred U36 yang kosong apabila telah:- (a) mencapai tahap prestasi yang ditetapkan; (b) lulus semua penilaian tahap kecekapan yang ditetapkan; dan (c) diperaku oleh ketua perkhidmatan. 675/776 KENAIKAN PANGKAT KE GRED U38 11. Jurupulih Perubatan Gred U36 adalah layak dipertimbang bagi kenaikan pangkat ke jawatan Jurupulih Perubatan Gred U38 yang kosong apabila telah:- (a) mencapai tahap prestasi yang ditetapkan; (b) lulus semua penilaian tahap kecekapan yang ditetapkan; dan (c) diperaku oleh ketua perkhidmatan. KENAIKAN PANGKAT KE GRED U40 12. Jurupulih Perubatan Gred U38 adalah layak dipertimbang bagi kenaikan pangkat ke jawatan Jurupulih Perubatan Gred U40 yang kosong apabila telah:- (a) mencapai tahap prestasi yang ditetapkan; (b) lulus semua penilaian tahap kecekapan yang ditetapkan; dan (c) diperaku oleh ketua perkhidmatan. Nota: Skim perkhidmatan ini membatalkan skim perkhidmatan terdahulu yang berkuat kuasa pada 1.10.1995 [Surat Pemakluman Skim Perkhidmatan, JPA(S)324/14/24-1/Klt. 10 (1)]. 676/776 SKIM PERKHIDMATAN PENOLONG PEGAWAI KESIHATAN PERSEKITARAN KLASIFIKASI : PERKHIDMATAN PERUBATAN DAN KESIHATAN KUMPULAN PERKHIDMATAN : SOKONGAN TARIKH KUAT KUASA : 1 NOVEMBER 2002 Gred Jadual Gaji Matriks Gred U29 : P1T1 RM928.55 P2T1 RM985.42 P3T1 RM1044.71 - - - P1T27 RM2445.89 P2T27 RM2623.76 P3T27 RM2781.06 Gred U32 : P1T1 RM1567.43 P2T1 RM1683.59 - - P1T20 RM2925.05 P2T20 RM3227.55 Gred U36 : P1T1 RM2445.89 P2T1 RM2616.50 - - P1T11 RM3617.17 P2T11 RM3999.53 Gred U38 : P1T1 RM3023.06 P2T1 RM3304.99 - - P1T8 RM3954.76 P2T8 RM4312.92 Gred U40: P1T1 RM3555.46 P2T1 RM3893.05 - - P1T7 RM4513.78 P2T7 RM4923.97 SYARAT LANTIKAN 1. Calon bagi lantikan hendaklah memiliki kelayakan seperti berikut:- (a) warganegara Malaysia; (b) berumur tidak kurang dari 18 tahun pada tarikh tutup iklan jawatan; (c) Diploma Kesihatan Persekitaran daripada Kolej Inspektor Kesihatan Kementerian Kesihatan Malaysia yang diiktiraf oleh kerajaan atau kelayakan yang diiktiraf setaraf dengannya. (Gaji permulaan ialah pada Gred U29: P1T6); dan (d) lulus Bahasa Malaysia/Bahasa Melayu (termasuk lulus Ujian Lisan) pada peringkat Sijil Pelajaran Malaysia atau kelulusan yang diiktiraf setaraf dengannya oleh kerajaan. 677/776 SYARAT KENAIKAN PANGKAT SECARA LANTIKAN 2. Pegawai sedang berkhidmat dalam perkhidmatan Pembantu Kesihatan Awam adalah layak dipertimbang oleh Pihak Berkuasa Melantik berkenaan untuk kenaikan pangkat secara lantikan ke jawatan Penolong Pegawai Kesihatan Persekitaran Gred U29, tertakluk kepada kekosongan jawatan, apabila telah disahkan dalam perkhidmatan dan:- (a) mempunyai kelayakan di perenggan 1(c) di atas; dan (b) berumur kurang dari 54 tahun pada tarikh lantikan. PENETAPAN GAJI PERMULAAN 3. Gaji permulaan yang lebih tinggi atas P1 Gred U29 boleh ditetapkan oleh Pihak Berkuasa Melantik berkenaan berasaskan kepada pengalaman kerja berkaitan. TEMPOH PERCUBAAN 4. Penolong Pegawai Kesihatan Persekitaran Gred U29 yang dilantik secara terus atau kenaikan pangkat secara lantikan adalah dikehendaki berkhidmat dalam tempoh percubaan selama 1 hingga 3 tahun. LATIHAN 5. Penolong Pegawai Kesihatan Persekitaran boleh dikehendaki mengikuti latihan yang ditetapkan oleh ketua perkhidmatan yang berkenaan. KURSUS INDUKSI/ PEPERIKSAAN 6. Penolong Pegawai Kesihatan Persekitaran Gred U29 dalam percubaan adalah dikehendaki hadir dengan jayanya kursus induksi yang ditetapkan oleh ketua perkhidmatan yang berkenaan. PENGESAHAN DALAM PERKHIDMATAN 7. Penolong Pegawai Kesihatan Persekitaran Gred U29 yang dilantik adalah layak disahkan dalam perkhidmatan apabila telah:- (a) memenuhi tempoh percubaan; (b) hadir dengan jayanya kursus induksi yang ditetapkan; dan (c) diperaku oleh ketua perkhidmatan. PERGERAKAN GAJI TAHUNAN 8. Pergerakan gaji tahunan adalah tidak automatik dan akan ditetapkan oleh ketua perkhidmatan berdasarkan prestasi perkhidmatan. PENILAIAN TAHAP KECEKAPAN 9. Penolong Pegawai Kesihatan Persekitaran hendaklah lulus penilaian tahap kecekapan yang ditetapkan oleh ketua perkhidmatan untuk kenaikan pangkat. KENAIKAN PANGKAT KE GRED U32 10. Penolong Pegawai Kesihatan Persekitaran Gred U29 adalah layak dipertimbang bagi kenaikan pangkat ke jawatan Penolong Pegawai Kesihatan Persekitaran Gred U32 yang kosong apabila telah:- (a) disahkan dalam perkhidmatan; (b) mencapai tahap prestasi yang ditetapkan; (c) lulus semua penilaian tahap kecekapan yang ditetapkan; atau 678/776 (d) memiliki Sijil Pengajar dalam bidang berkaitan yang diiktiraf oleh kerajaan; dan (e) diperaku oleh ketua perkhidmatan. KENAIKAN PANGKAT KE GRED U36 11. Penolong Pegawai Kesihatan Persekitaran Gred U32 adalah layak dipertimbang bagi kenaikan pangkat ke jawatan Penolong Pegawai Kesihatan Persekitaran Gred U36 yang kosong apabila telah:- (a) mencapai tahap prestasi yang ditetapkan; (b) lulus semua penilaian tahap kecekapan yang ditetapkan; dan (c) diperaku oleh ketua perkhidmatan. KENAIKAN PANGKAT KE GRED U38 12. Penolong Pegawai Kesihatan Persekitaran Gred U36 adalah layak dipertimbang bagi kenaikan pangkat ke jawatan Penolong Pegawai Kesihatan Persekitaran Gred U38 yang kosong apabila telah:- (a) mencapai tahap prestasi yang ditetapkan; (b) lulus semua penilaian tahap kecekapan yang ditetapkan; dan (c) diperaku oleh ketua perkhidmatan. KENAIKAN PANGKAT KE GRED U40 13. PenolongPegawai Kesihatan Persekitaran Gred U38 adalah layak dipertimbang bagi kenaikan pangkat ke jawatan Penolong Pegawai Kesihatan Persekitaran Gred U40 yang kosong apabila telah:- (a) mencapai tahap prestasi yang ditetapkan; (b) lulus semua penilaian tahap kecekapan yang ditetapkan; dan (c) diperaku oleh ketua perkhidmatan. Nota: Skim perkhidmatan ini membatalkan skim perkhidmatan terdahulu yang berkuat kuasa pada 1.10.1995 [Surat Pemakluman Skim Perkhidmatan, JPA(S)324/14/24-1/Klt. 10 (1)]. 679/776 SKIM PERKHIDMATAN PEMBANTU PERUBATAN KLASIFIKASI : PERKHIDMATAN PERUBATAN DAN KESIHATAN KUMPULAN PERKHIDMATAN : SOKONGAN TARIKH KUAT KUASA : 1 NOVEMBER 2002 Gred Jadual Gaji Matriks Gred U29 : P1T1 RM928.55 P2T1 RM985.42 P3T1 RM1044.71 - - - P1T27 RM2445.89 P2T27 RM2623.76 P3T27 RM2781.06 Gred U32 : P1T1 RM1567.43 P2T1 RM1683.59 - - P1T20 RM2925.05 P2T20 RM3227.55 Gred U36 : P1T1 RM2445.89 P2T1 RM2616.50 - - P1T11 RM3617.17 P2T11 RM3999.53 Gred U38 : P1T1 RM3023.06 P2T1 RM3304.99 - - P1T8 RM3954.76 P2T8 RM4312.92 Gred U40 : P1T1 RM3555.46 P2T1 RM3893.05 - - P1T7 RM4513.78 P2T7 RM4923.97 SYARAT LANTIKAN 1. Calon bagi lantikan hendaklah memiliki kelayakan seperti berikut:- (a) warganegara Malaysia; (b) berumur tidak kurang dari 18 tahun pada tarikh tutup iklan jawatan; (c) Diploma Pembantu Perubatan daripada Kolej Pembantu Perubatan Kementerian Kesihatan Malaysia yang diiktiraf oleh kerajaan serta telah berdaftar dengan Lembaga Pembantu Perubatan Malaysia atau kelayakan yang diiktiraf setaraf dengannya. (Gaji permulaan ialah pada Gred U29: P1T6); dan (d) lulus Bahasa Malaysia/Bahasa Melayu (termasuk\", \"rephrase\": \"Skim Perkhidmatan Jurupulih Perubatan\\n=============================\\n\\nSkim Perkhidmatan Jurupulih Perubatan ini dikuatkuasakan pada 1 November 2002.\\n\\n### Syarat Lantikan\\n\\n1. Calon bagi lantikan hendaklah memiliki kelayakan seperti berikut:-\\n\\t* (a) warganegara Malaysia;\\n\\t* (b) berumur tidak kurang dari 18 tahun pada tarikh tutup iklan jawatan;\\n\\t* (c) \\n\\t\\t+ (i) Diploma Jurupulih Cara Kerja daripada Kolej Jurupulih Cara Kerja atau Diploma Fisioterapi Kementerian Kesihatan Malaysia yang diiktiraf oleh kerajaan atau kelayakan yang diiktiraf setaraf dengannya. (Gaji permulaan ialah pada Gred U29: P1T6);\\n\\t\\t+ (ii) Diploma Jurupulih Cara Kerja (Occupational Theraphy) daripada London School of Occupational Theraphy yang diiktiraf oleh kerajaan atau kelayakan yang diiktiraf setaraf dengannya. (Gaji permulaan ialah pada Gred U29: P1T7);\\n\\t\\t+ (iii) ijazah sarjana muda dalam bidang pemulihan yang diiktiraf oleh kerajaan daripada institusi-institusi pengajian tinggi tempatan atau kelayakan yang diiktiraf setaraf dengannya. (Gaji permulaan ialah pada Gred U29: P1T9);\\n\\t* (d) lulus Bahasa Malaysia/Bahasa Melayu (termasuk lulus Ujian Lisan) pada peringkat Sijil Pelajaran Malaysia atau kelulusan yang diiktiraf setaraf dengannya oleh kerajaan.\\n\\n### Penetapan Gaji Permulaan\\n\\n2. Gaji permulaan yang lebih tinggi atas P1 Gred U29 boleh ditetapkan oleh Pihak Berkuasa Melantik berkenaan berasaskan kepada pengalaman kerja berkaitan.\\n\\n### Tempoh Percubaan\\n\\n3. Jurupulih Perubatan Gred U29 yang dilantik adalah dikehendaki berkhidmat dalam tempoh percubaan selama 1 hingga 3 tahun.\\n\\n### Latihan\\n\\n4. Jurupulih Perubatan boleh dikehendaki mengikuti latihan yang ditetapkan oleh ketua perkhidmatan yang berkenaan.\\n\\n### Kursus Induksi/Peperiksaan\\n\\n5. Jurupulih Perubatan Gred U29 dalam percubaan adalah dikehendaki hadir dengan jayanya kursus induksi yang ditetapkan oleh ketua perkhidmatan yang berkenaan.\\n\\n### Pengesahan Dalam Perkhidmatan\\n\\n6. Jurupulih Perubatan Gred U29 yang dilantik adalah layak disahkan dalam perkhidmatan apabila telah:-\\n\\t* (a) memenuhi tempoh percubaan;\\n\\t* (b) hadir dengan jayanya kursus induksi yang ditetapkan;\\n\\t* (c) diperaku oleh ketua perkhidmatan.\\n\\n### Pergerakan Gaji Tahunan\\n\\n7. Pergerakan gaji tahunan adalah tidak automatik dan akan ditetapkan oleh ketua perkhidmatan berdasarkan prestasi perkhidmatan.\\n\\n### Penilaian Tahap Kecakapan\\n\\n8. Jurupulih Perubatan hendaklah lulus penilaian tahap kecakapan yang ditetapkan oleh ketua perkhidmatan untuk kenaikan pangkat.\\n\\n### Kenaikan Pangkat Ke Gred U32\\n\\n9. Jurupulih Perubatan Gred U29 adalah layak dipertimbang bagi kenaikan pangkat ke jawatan Jurupulih Perubatan Gred U32 yang kosong apabila telah:-\\n\\t* (a) disahkan dalam perkhidmatan;\\n\\t* (b) mencapai tahap prestasi yang ditetapkan;\\n\\t* (c) lulus semua penilaian tahap kecekapan yang ditetapkan;\\n\\t* (d) memiliki Sijil Pengajar dalam bidang berkaitan yang diiktiraf oleh kerajaan;\\n\\t* (e) diperaku oleh ketua perkhidmatan.\\n\\n### Kenaikan Pangkat Ke Gred U36\\n\\n10. Jurupulih Perubatan Gred U32 adalah layak dipertimbang bagi kenaikan pangkat ke jawatan Jurupulih Perubatan Gred U36 yang kosong apabila telah:-\\n\\t* (a) mencapai tahap prestasi yang ditetapkan;\\n\\t* (b) lulus semua penilaian tahap kecekapan yang ditetapkan;\\n\\t* (c) diperaku oleh ketua perkhidmatan.\\n\\n### Kenaikan Pangkat Ke Gred U38\\n\\n11. Jurupulih Perubatan Gred U36 adalah layak dipertimbang bagi kenaikan pangkat ke jawatan Jurupulih Perubatan Gred U38 yang kosong apabila telah:-\\n\\t* (a) mencapai tahap prestasi yang ditetapkan;\\n\\t* (b) lulus semua penilaian tahap kecekapan yang ditetapkan;\\n\\t* (c) diperaku oleh ketua perkhidmatan.\\n\\n### Kenaikan Pangkat Ke Gred U40\\n\\n12. Jurupulih Perubatan Gred U38 adalah layak dipertimbang bagi kenaikan pangkat ke jawatan Jurupulih Perubatan Gred U40 yang kosong apabila telah:-\\n\\t* (a) mencapai tahap prestasi yang ditetapkan;\\n\\t* (b) lulus semua penilaian tahap kecekapan yang ditetapkan;\\n\\t* (c) diperaku oleh ketua perkhidmatan.\\n\\nNota: Skim perkhidmatan ini membatalkan skim perkhidmatan terdahulu yang berkuat kuasa pada 1.10.1995 [Surat Pemakluman Skim Perkhidmatan, JPA(S)324/14/24-1/Klt. 10 (1)].\\n\\nSkim Perkhidmatan Penolong Pegawai Kesihatan Persekitaran\\n=====================================================\\n\\nSkim Perkhidmatan Penolong Pegawai Kesihatan Persekitaran ini dikuatkuasakan pada 1 November 2002.\\n\\n### Syarat Lantikan\\n\\n1. Calon bagi lantikan hendaklah memiliki kelayakan seperti berikut:-\\n\\t* (a) warganegara Malaysia;\\n\\t* (b) berumur tidak kurang dari 18 tahun pada tarikh tutup iklan jawatan;\\n\\t* (c) Diploma Kesihatan Persekitaran daripada Kolej Inspektor Kesihatan Kementerian Kesihatan Malaysia yang diiktiraf oleh kerajaan atau kelayakan yang diiktiraf setaraf dengannya. (Gaji permulaan ialah pada Gred U29: P1T6);\\n\\t* (d) lulus Bahasa Malaysia/Bahasa Melayu (termasuk lulus Ujian Lisan) pada peringkat Sijil Pelajaran Malaysia atau kelulusan yang diiktiraf setaraf dengannya oleh kerajaan.\\n\\n### Syarat Kenaikan Pangkat Secara Lantikan\\n\\n2. Pegawai sedang berkhidmat dalam perkhidmatan Pembantu Kesihatan Awam adalah layak dipertimbang oleh Pihak Berkuasa Melantik berkenaan untuk kenaikan pangkat secara lantikan ke jawatan Penolong Pegawai Kesihatan Persekitaran Gred U29, tertakluk kepada kekosongan jawatan, apabila telah disahkan dalam perkhidmatan dan:-\\n\\t* (a) mempunyai kelayakan di perenggan 1(c) di atas;\\n\\t* (b) berumur kurang dari 54 tahun pada tarikh lantikan.\\n\\n### Penetapan Gaji Permulaan\\n\\n3. Gaji permulaan yang lebih tinggi atas P1 Gred U29 boleh ditetapkan oleh Pihak Berkuasa Melantik berkenaan berasaskan kepada pengalaman kerja berkaitan.\\n\\n### Tempoh Percubaan\\n\\n4. Penolong Pegawai Kesihatan Persekitaran Gred U29 yang dilantik secara terus atau kenaikan pangkat secara lantikan adalah dikehendaki berkhidmat dalam tempoh percubaan selama 1 hingga 3 tahun.\\n\\n### Latihan\\n\\n5. Penolong Pegawai Kesihatan Persekitaran boleh dikehendaki mengikuti latihan yang ditetapkan oleh ketua perkhidmatan yang berkenaan.\\n\\n### Kursus Induksi/Peperiksaan\\n\\n6. Penolong Pegawai Kesihatan Persekitaran Gred U29 dalam percubaan adalah dikehendaki hadir dengan jayanya kursus induksi yang ditetapkan oleh ketua perkhidmatan yang berkenaan.\\n\\n### Pengesahan Dalam Perkhidmatan\\n\\n7. Penolong Pegawai Kesihatan Persekitaran Gred U29 yang dilantik adalah layak disahkan dalam perkhidmatan apabila telah:-\\n\\t* (a) memenuhi tempoh percubaan;\\n\\t* (b) hadir dengan jayanya kursus induksi yang ditetapkan;\\n\\t* (c) diperaku oleh ketua perkhidmatan.\\n\\n### Pergerakan Gaji Tahunan\\n\\n8. Pergerakan gaji tahunan adalah tidak automatik dan akan ditetapkan oleh ketua perkhidmatan berdasarkan prestasi perkhidmatan.\\n\\n### Penilaian Tahap Kecakapan\\n\\n9. Penolong Pegawai Kesihatan Persekitaran hendaklah lulus penilaian tahap kecakapan yang ditetapkan oleh ketua perkhidmatan untuk kenaikan pangkat.\\n\\n### Kenaikan Pangkat Ke Gred U32\\n\\n10. Penolong Pegawai Kesihatan Persekitaran Gred U29 adalah layak dipertimbang bagi kenaikan pangkat ke jawatan Penolong Pegawai Kesihatan Persekitaran Gred U32 yang kosong apabila telah:-\\n\\t* (a) disahkan dalam perkhidmatan;\\n\\t* (b) mencapai tahap prestasi yang ditetapkan;\\n\\t* (c) lulus semua penilaian tahap kecekapan yang ditetapkan;\\n\\t* (d) memiliki Sijil Pengajar dalam bidang berkaitan yang diiktiraf oleh kerajaan;\\n\\t* (e) diperaku oleh ketua perkhidmatan.\\n\\n### Kenaikan Pangkat Ke Gred U36\\n\\n11. Penolong Pegawai Kesihatan Persekitaran Gred U32 adalah layak dipertimbang bagi kenaikan pangkat ke jawatan Penolong Pegawai Kesihatan Persekitaran Gred U36 yang kosong apabila telah:-\\n\\t* (a) mencapai tahap prestasi yang ditetapkan;\\n\\t* (b) lulus semua penilaian tahap kecekapan yang ditetapkan;\\n\\t* (c) diperaku oleh ketua perkhidmatan.\\n\\n### Kenaikan Pangkat Ke Gred U38\\n\\n12. Penolong Pegawai Kesihatan Persekitaran Gred U36 adalah layak dipertimbang bagi kenaikan pangkat ke jawatan Penolong Pegawai Kesihatan Persekitaran Gred U38 yang kosong apabila telah:-\\n\\t* (a) mencapai tahap prestasi yang ditetapkan;\\n\\t* (b) lulus semua penilaian tahap kecekapan yang ditetapkan;\\n\\t* (c) diperaku oleh ketua perkhidmatan.\\n\\n### Kenaikan Pangkat Ke Gred U40\\n\\n13. Penolong Pegawai Kesihatan Persekitaran Gred U38 adalah layak dipertimbang bagi kenaikan pangkat ke jawatan Penolong Pegawai Kesihatan Persekitaran Gred U40 yang kosong apabila telah:-\\n\\t* (a) mencapai tahap prestasi yang ditetapkan;\\n\\t* (b) lulus semua penilaian tahap kecekapan yang ditetapkan;\\n\\t* (c) diperaku oleh ketua perkhidmatan.\\n\\nNota: Skim perkhidmatan ini membatalkan skim perkhidmatan terdahulu yang berkuat kuasa pada 1.10.1995 [Surat Pemakluman Skim Perkhidmatan, JPA(S)324/14/24-1/Klt. 10 (1)].\\n\\nSkim Perkhidmatan Pembantu Perubatan\\n==============================\\n\\nSkim Perkhidmatan Pembantu Perubatan ini dikuatkuasakan pada 1 November 2002.\\n\\n### Syarat Lantikan\\n\\n1. Calon bagi lantikan hendaklah memiliki kelayakan seperti berikut:-\\n\\t* (a) warganegara Malaysia;\\n\\t* (b) berumur tidak kurang dari 18 tahun pada tarikh tutup iklan jawatan;\\n\\t* (c) Diploma Pembantu Perubatan daripada Kolej Pembantu Perubatan Kementerian Kesihatan Malaysia yang diiktiraf oleh kerajaan serta telah berdaftar dengan Lembaga Pembantu Perubatan Malaysia atau kelayakan yang diiktiraf setaraf dengannya. (Gaji permulaan ialah pada Gred U29: P1T6);\\n\\t* (d) lulus Bahasa Malaysia/Bahasa Melayu (termasuk lulus Ujian Lisan) pada peringkat Sijil Pelajaran Malaysia atau kelulusan yang diiktiraf setaraf dengannya oleh kerajaan.\"}\r\n"
     ]
    }
   ],
   "source": [
    "!tail -n 1 gov.my-rephrase.jsonl"
   ]
  },
  {
   "cell_type": "code",
   "execution_count": 12,
   "id": "eb72d8b6",
   "metadata": {},
   "outputs": [
    {
     "data": {
      "application/vnd.jupyter.widget-view+json": {
       "model_id": "3c5d051d2d134918b2fa90e5b85ca171",
       "version_major": 2,
       "version_minor": 0
      },
      "text/plain": [
       "gov.my-rephrase.jsonl:   0%|          | 0.00/13.4M [00:00<?, ?B/s]"
      ]
     },
     "metadata": {},
     "output_type": "display_data"
    },
    {
     "data": {
      "text/plain": [
       "CommitInfo(commit_url='https://huggingface.co/datasets/mesolitica/noisy-rephrase/commit/82a8f6307867eaa9ccd35c29b227c91ceac91bac', commit_message='Upload gov.my-rephrase.jsonl with huggingface_hub', commit_description='', oid='82a8f6307867eaa9ccd35c29b227c91ceac91bac', pr_url=None, pr_revision=None, pr_num=None)"
      ]
     },
     "execution_count": 12,
     "metadata": {},
     "output_type": "execute_result"
    }
   ],
   "source": [
    "from huggingface_hub import HfApi\n",
    "api = HfApi()\n",
    "api.upload_file(\n",
    "    path_or_fileobj='gov.my-rephrase.jsonl',\n",
    "    path_in_repo='gov.my-rephrase.jsonl',\n",
    "    repo_id='mesolitica/noisy-rephrase',\n",
    "    repo_type='dataset',\n",
    ")"
   ]
  },
  {
   "cell_type": "code",
   "execution_count": null,
   "id": "cc7e6827",
   "metadata": {},
   "outputs": [],
   "source": []
  }
 ],
 "metadata": {
  "kernelspec": {
   "display_name": "Python 3 (ipykernel)",
   "language": "python",
   "name": "python3"
  },
  "language_info": {
   "codemirror_mode": {
    "name": "ipython",
    "version": 3
   },
   "file_extension": ".py",
   "mimetype": "text/x-python",
   "name": "python",
   "nbconvert_exporter": "python",
   "pygments_lexer": "ipython3",
   "version": "3.8.10"
  }
 },
 "nbformat": 4,
 "nbformat_minor": 5
}
