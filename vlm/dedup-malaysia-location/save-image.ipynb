{
 "cells": [
  {
   "cell_type": "code",
   "execution_count": 34,
   "id": "a28942ff",
   "metadata": {},
   "outputs": [],
   "source": [
    "import json\n",
    "import os\n",
    "import pandas as pd\n",
    "from glob import glob\n",
    "from PIL import Image\n",
    "from io import BytesIO\n",
    "from huggingface_hub import snapshot_download\n",
    "from collections import defaultdict\n",
    "import mp"
   ]
  },
  {
   "cell_type": "code",
   "execution_count": 10,
   "id": "17271e50",
   "metadata": {},
   "outputs": [],
   "source": [
    "data = defaultdict(list)\n",
    "with open('dedup-0.6.jsonl') as fopen:\n",
    "    for l in fopen:\n",
    "        l = json.loads(l)\n",
    "        data[l['filename']].extend(l['selected_indices'])\n"
   ]
  },
  {
   "cell_type": "code",
   "execution_count": 4,
   "id": "34bbad7a",
   "metadata": {},
   "outputs": [
    {
     "name": "stdout",
     "output_type": "stream",
     "text": [
      "mkdir: cannot create directory ‘image-location’: File exists\r\n"
     ]
    }
   ],
   "source": [
    "!mkdir image-location"
   ]
  },
  {
   "cell_type": "code",
   "execution_count": 5,
   "id": "6d1d780f",
   "metadata": {
    "scrolled": true
   },
   "outputs": [
    {
     "data": {
      "application/vnd.jupyter.widget-view+json": {
       "model_id": "c8ce251577da438689aaa0fb28015897",
       "version_major": 2,
       "version_minor": 0
      },
      "text/plain": [
       "Fetching 1002 files:   0%|          | 0/1002 [00:00<?, ?it/s]"
      ]
     },
     "metadata": {},
     "output_type": "display_data"
    }
   ],
   "source": [
    "folder = snapshot_download(repo_id='malaysia-ai/crawl-google-image-malaysia-location', repo_type = 'dataset')"
   ]
  },
  {
   "cell_type": "code",
   "execution_count": 6,
   "id": "afdf4ad0",
   "metadata": {},
   "outputs": [],
   "source": [
    "df = pd.read_parquet(os.path.join(folder, 'data', data[0]['filename']))"
   ]
  },
  {
   "cell_type": "code",
   "execution_count": 37,
   "id": "3aba6218",
   "metadata": {},
   "outputs": [],
   "source": [
    "from tqdm import tqdm\n",
    "\n",
    "def loop(files):\n",
    "    files, index = files\n",
    "    results = []\n",
    "    for f in tqdm(files):\n",
    "        f_ = os.path.split(f)[1]\n",
    "        df = pd.read_parquet(f)\n",
    "        for i in range(len(data[f_])):\n",
    "            \n",
    "            index = data[f_][i]\n",
    "            filename = os.path.join('image-location', f'{f_}-{index}.jpg')\n",
    "            results.append({\n",
    "                'filename': filename,\n",
    "                'filename_df': f_,\n",
    "                'keyword': df.iloc[index]['keyword'],\n",
    "                'alt_text': df.iloc[index]['alt_text'],\n",
    "            })\n",
    "            if os.path.exists(filename):\n",
    "                continue\n",
    "            stream = BytesIO(df.iloc[index]['image']['bytes'])\n",
    "            image = Image.open(stream)\n",
    "            image.save(filename, format = 'jpeg')\n",
    "    return results"
   ]
  },
  {
   "cell_type": "code",
   "execution_count": 32,
   "id": "347a67d9",
   "metadata": {},
   "outputs": [
    {
     "data": {
      "text/plain": [
       "1000"
      ]
     },
     "execution_count": 32,
     "metadata": {},
     "output_type": "execute_result"
    }
   ],
   "source": [
    "files = glob(f'{folder}/data/*.parquet')\n",
    "len(files)"
   ]
  },
  {
   "cell_type": "code",
   "execution_count": 38,
   "id": "27f34553",
   "metadata": {},
   "outputs": [
    {
     "name": "stderr",
     "output_type": "stream",
     "text": [
      "100%|██████████| 1/1 [00:00<00:00,  1.48it/s]\n"
     ]
    }
   ],
   "source": [
    "r = loop((files[:1], 0))"
   ]
  },
  {
   "cell_type": "code",
   "execution_count": 40,
   "id": "0d0a1c64",
   "metadata": {
    "scrolled": false
   },
   "outputs": [
    {
     "name": "stderr",
     "output_type": "stream",
     "text": [
      "100%|██████████| 50/50 [32:59<00:00, 39.60s/it]\n",
      "100%|██████████| 50/50 [33:07<00:00, 39.75s/it]\n",
      "100%|██████████| 50/50 [33:10<00:00, 39.81s/it]\n",
      "100%|██████████| 50/50 [33:14<00:00, 39.90s/it]\n",
      "100%|██████████| 50/50 [33:17<00:00, 39.95s/it]\n",
      "100%|██████████| 50/50 [33:28<00:00, 40.17s/it]\n",
      "100%|██████████| 50/50 [33:29<00:00, 40.18s/it]\n",
      "100%|██████████| 50/50 [33:39<00:00, 40.39s/it]\n",
      "100%|██████████| 50/50 [33:41<00:00, 40.42s/it]\n",
      "100%|██████████| 50/50 [33:41<00:00, 40.43s/it]\n",
      "100%|██████████| 50/50 [33:44<00:00, 40.50s/it]\n",
      "100%|██████████| 50/50 [33:52<00:00, 40.66s/it]\n",
      "100%|██████████| 50/50 [33:59<00:00, 40.79s/it]\n",
      "100%|██████████| 50/50 [34:07<00:00, 40.96s/it]\n",
      "100%|██████████| 50/50 [34:09<00:00, 40.98s/it]\n",
      "100%|██████████| 50/50 [34:10<00:00, 41.02s/it]\n",
      "100%|██████████| 50/50 [34:13<00:00, 41.08s/it]\n",
      "100%|██████████| 50/50 [34:20<00:00, 41.21s/it]\n",
      "100%|██████████| 50/50 [34:20<00:00, 41.22s/it]\n",
      "100%|██████████| 50/50 [34:30<00:00, 41.40s/it]\n"
     ]
    }
   ],
   "source": [
    "r = mp.multiprocessing(files, loop, cores = 20)"
   ]
  },
  {
   "cell_type": "code",
   "execution_count": 54,
   "id": "477b397a",
   "metadata": {},
   "outputs": [
    {
     "data": {
      "text/plain": [
       "487301"
      ]
     },
     "execution_count": 54,
     "metadata": {},
     "output_type": "execute_result"
    }
   ],
   "source": [
    "len(r)"
   ]
  },
  {
   "cell_type": "code",
   "execution_count": 55,
   "id": "06a3bcca",
   "metadata": {},
   "outputs": [],
   "source": [
    "with open('save-image.jsonl', 'w') as fopen:\n",
    "    for r_ in r:\n",
    "        fopen.write(f'{json.dumps(r_)}\\n')"
   ]
  },
  {
   "cell_type": "code",
   "execution_count": 56,
   "id": "a3b52132",
   "metadata": {},
   "outputs": [
    {
     "name": "stdout",
     "output_type": "stream",
     "text": [
      "{\"filename\": \"image-location/train-00817-of-01000.parquet-3017.jpg\", \"filename_df\": \"train-00817-of-01000.parquet\", \"keyword\": \"Taman Merbah, Olak Lempit Banting\", \"alt_text\": \"NADIAZ HOMESTAY OLAK LEMPIT,BANTING ...\"}\r\n",
      "{\"filename\": \"image-location/train-00817-of-01000.parquet-3024.jpg\", \"filename_df\": \"train-00817-of-01000.parquet\", \"keyword\": \"Taman Merbah, Olak Lempit Banting\", \"alt_text\": \"Rasvilla - Google hotels\"}\r\n",
      "{\"filename\": \"image-location/train-00817-of-01000.parquet-3054.jpg\", \"filename_df\": \"train-00817-of-01000.parquet\", \"keyword\": \"Taman Merbah, Olak Lempit Banting\", \"alt_text\": \"Terrace For Sale in Kampung Olak Lempit ...\"}\r\n"
     ]
    }
   ],
   "source": [
    "!tail -n 3 save-image.jsonl"
   ]
  },
  {
   "cell_type": "code",
   "execution_count": 58,
   "id": "401a43a4",
   "metadata": {},
   "outputs": [
    {
     "name": "stdout",
     "output_type": "stream",
     "text": [
      "61G\timage-location\r\n"
     ]
    }
   ],
   "source": [
    "!du -hs image-location"
   ]
  },
  {
   "cell_type": "code",
   "execution_count": 59,
   "id": "221e7b46",
   "metadata": {},
   "outputs": [],
   "source": [
    "# !sudo apt install zip -y"
   ]
  },
  {
   "cell_type": "code",
   "execution_count": 61,
   "id": "4e2bc2fe",
   "metadata": {},
   "outputs": [],
   "source": [
    "# !zip -q -r -s 10000m image.zip image-location"
   ]
  },
  {
   "cell_type": "code",
   "execution_count": 65,
   "id": "02758daf",
   "metadata": {},
   "outputs": [
    {
     "data": {
      "application/vnd.jupyter.widget-view+json": {
       "model_id": "2ec427e5a6f64abbbc1308c7102fe1cd",
       "version_major": 2,
       "version_minor": 0
      },
      "text/plain": [
       "save-image.jsonl:   0%|          | 0.00/102M [00:00<?, ?B/s]"
      ]
     },
     "metadata": {},
     "output_type": "display_data"
    },
    {
     "data": {
      "text/plain": [
       "CommitInfo(commit_url='https://huggingface.co/datasets/mesolitica/google-image-malaysia-location-dedup/commit/b308277c77102184c45f7dc733e46a4273420405', commit_message='Upload save-image.jsonl with huggingface_hub', commit_description='', oid='b308277c77102184c45f7dc733e46a4273420405', pr_url=None, pr_revision=None, pr_num=None)"
      ]
     },
     "execution_count": 65,
     "metadata": {},
     "output_type": "execute_result"
    }
   ],
   "source": [
    "from huggingface_hub import HfApi\n",
    "api = HfApi()\n",
    "\n",
    "api.upload_file(\n",
    "    path_or_fileobj='save-image.jsonl',\n",
    "    path_in_repo='save-image.jsonl',\n",
    "    repo_id='mesolitica/google-image-malaysia-location-dedup',\n",
    "    repo_type='dataset',\n",
    ")"
   ]
  },
  {
   "cell_type": "code",
   "execution_count": null,
   "id": "48b78104",
   "metadata": {},
   "outputs": [
    {
     "name": "stdout",
     "output_type": "stream",
     "text": [
      "image.z02\n"
     ]
    }
   ],
   "source": [
    "for f in glob('image.z*'):\n",
    "    print(f)\n",
    "    api.upload_file(\n",
    "        path_or_fileobj=f,\n",
    "        path_in_repo=f,\n",
    "        repo_id='mesolitica/google-image-malaysia-location-dedup',\n",
    "        repo_type='dataset',\n",
    "    )"
   ]
  },
  {
   "cell_type": "code",
   "execution_count": null,
   "id": "19161f91",
   "metadata": {},
   "outputs": [],
   "source": []
  }
 ],
 "metadata": {
  "kernelspec": {
   "display_name": "Python 3 (ipykernel)",
   "language": "python",
   "name": "python3"
  },
  "language_info": {
   "codemirror_mode": {
    "name": "ipython",
    "version": 3
   },
   "file_extension": ".py",
   "mimetype": "text/x-python",
   "name": "python",
   "nbconvert_exporter": "python",
   "pygments_lexer": "ipython3",
   "version": "3.10.12"
  }
 },
 "nbformat": 4,
 "nbformat_minor": 5
}
