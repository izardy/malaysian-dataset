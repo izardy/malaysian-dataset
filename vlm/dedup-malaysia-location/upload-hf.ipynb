{
 "cells": [
  {
   "cell_type": "code",
   "execution_count": 1,
   "id": "58134ef0",
   "metadata": {},
   "outputs": [],
   "source": [
    "from glob import glob\n",
    "import json"
   ]
  },
  {
   "cell_type": "code",
   "execution_count": 2,
   "id": "d234ee31",
   "metadata": {},
   "outputs": [
    {
     "data": {
      "text/plain": [
       "13464"
      ]
     },
     "execution_count": 2,
     "metadata": {},
     "output_type": "execute_result"
    }
   ],
   "source": [
    "files = glob('output-malaysia-location/*.json')\n",
    "len(files)"
   ]
  },
  {
   "cell_type": "code",
   "execution_count": 33,
   "id": "f053bd2f",
   "metadata": {},
   "outputs": [],
   "source": [
    "with open(files[100]) as fopen:\n",
    "    d = json.load(fopen)"
   ]
  },
  {
   "cell_type": "code",
   "execution_count": 34,
   "id": "1d4b9a3d",
   "metadata": {
    "scrolled": true
   },
   "outputs": [
    {
     "data": {
      "text/plain": [
       "'/home/ubuntu/.cache/huggingface/hub/datasets--malaysia-ai--crawl-google-image-malaysia-location/snapshots/da8d9dc03a7d6779de6062836030a1c90c0e74ea/data/train-00594-of-01000.parquet'"
      ]
     },
     "execution_count": 34,
     "metadata": {},
     "output_type": "execute_result"
    }
   ],
   "source": [
    "d[0]['filename']"
   ]
  },
  {
   "cell_type": "code",
   "execution_count": 35,
   "id": "3bf2fb0d",
   "metadata": {},
   "outputs": [
    {
     "data": {
      "text/plain": [
       "'/home/ubuntu/.cache/huggingface/hub/datasets--malaysia-ai--crawl-google-image-malaysia-location/snapshots/da8d9dc03a7d6779de6062836030a1c90c0e74ea/data/train-00594-of-01000.parquet'"
      ]
     },
     "execution_count": 35,
     "metadata": {},
     "output_type": "execute_result"
    }
   ],
   "source": [
    "d[100]['filename']"
   ]
  },
  {
   "cell_type": "code",
   "execution_count": 5,
   "id": "3059a8b3",
   "metadata": {},
   "outputs": [],
   "source": [
    "from streaming import MDSWriter\n",
    "from streaming.base.format.mds.encodings import Encoding, _encodings\n",
    "from streaming import LocalDataset\n",
    "import streaming\n",
    "import numpy as np\n",
    "from tqdm import tqdm\n",
    "import os\n",
    "\n",
    "class Float32(Encoding):\n",
    "    def encode(self, obj) -> bytes:\n",
    "        return obj.tobytes()\n",
    "\n",
    "    def decode(self, data: bytes):\n",
    "        return np.frombuffer(data, np.float32)\n",
    "\n",
    "_encodings['float32'] = Float32\n",
    "\n",
    "columns = {\n",
    "    'embedding': 'float32',\n",
    "    'label': 'str',\n",
    "    'filename': 'str',\n",
    "    'index': 'int'\n",
    "}\n",
    "hashes = 'sha1', 'xxh64'"
   ]
  },
  {
   "cell_type": "code",
   "execution_count": 6,
   "id": "8dc02a66",
   "metadata": {},
   "outputs": [
    {
     "name": "stdout",
     "output_type": "stream",
     "text": [
      "mkdir: cannot create directory ‘embedding’: File exists\r\n"
     ]
    }
   ],
   "source": [
    "!mkdir embedding"
   ]
  },
  {
   "cell_type": "code",
   "execution_count": 36,
   "id": "04fd5fdb",
   "metadata": {},
   "outputs": [],
   "source": [
    "def loop(files):\n",
    "    files, index = files\n",
    "    out_root = f'embedding/embedding-{index}'\n",
    "    os.system(f'rm -rf {out_root}')\n",
    "    with MDSWriter(out=out_root, columns=columns, compression=None, hashes=hashes) as out:\n",
    "        for f in tqdm(files):\n",
    "            with open(f) as fopen:\n",
    "                data = json.load(fopen)\n",
    "                for row in data:\n",
    "                    row['embedding'] = np.array(row['embedding'], dtype = np.float32)\n",
    "                    out.write(row)"
   ]
  },
  {
   "cell_type": "code",
   "execution_count": 37,
   "id": "e7ce074d",
   "metadata": {
    "scrolled": true
   },
   "outputs": [
    {
     "name": "stderr",
     "output_type": "stream",
     "text": [
      "100%|██████████| 2/2 [00:00<00:00, 27.30it/s]\n"
     ]
    }
   ],
   "source": [
    "loop((files[:2], 0))"
   ]
  },
  {
   "cell_type": "code",
   "execution_count": 38,
   "id": "00699cdb",
   "metadata": {
    "scrolled": true
   },
   "outputs": [
    {
     "name": "stderr",
     "output_type": "stream",
     "text": [
      "100%|██████████| 448/448 [00:17<00:00, 25.33it/s]\n",
      "100%|██████████| 448/448 [00:17<00:00, 25.31it/s]\n",
      "100%|██████████| 448/448 [00:17<00:00, 25.19it/s]\n",
      "100%|██████████| 448/448 [00:17<00:00, 25.24it/s]\n",
      "100%|██████████| 448/448 [00:17<00:00, 25.21it/s]\n",
      "100%|██████████| 448/448 [00:17<00:00, 25.24it/s]\n",
      "100%|██████████| 448/448 [00:17<00:00, 25.21it/s]\n",
      "100%|██████████| 448/448 [00:17<00:00, 25.21it/s]\n",
      "100%|██████████| 448/448 [00:17<00:00, 25.18it/s]\n",
      "100%|██████████| 448/448 [00:17<00:00, 25.16it/s]\n",
      "100%|██████████| 448/448 [00:17<00:00, 25.23it/s]\n",
      "100%|██████████| 448/448 [00:17<00:00, 25.28it/s]\n",
      "100%|██████████| 448/448 [00:17<00:00, 25.25it/s]\n",
      "100%|██████████| 448/448 [00:17<00:00, 25.25it/s]\n",
      "100%|██████████| 448/448 [00:17<00:00, 25.24it/s]\n",
      "100%|██████████| 448/448 [00:17<00:00, 25.22it/s]\n",
      "100%|██████████| 448/448 [00:17<00:00, 25.24it/s]\n",
      "100%|██████████| 448/448 [00:17<00:00, 25.18it/s]\n",
      "100%|██████████| 448/448 [00:17<00:00, 25.19it/s]\n",
      "100%|██████████| 448/448 [00:17<00:00, 25.19it/s]\n",
      "100%|██████████| 448/448 [00:17<00:00, 25.21it/s]\n",
      "100%|██████████| 448/448 [00:17<00:00, 25.21it/s]\n",
      "100%|██████████| 448/448 [00:17<00:00, 25.19it/s]\n",
      "100%|██████████| 448/448 [00:17<00:00, 25.17it/s]\n",
      "100%|██████████| 448/448 [00:17<00:00, 25.22it/s]\n",
      "100%|██████████| 448/448 [00:18<00:00, 24.76it/s]\n",
      "100%|██████████| 448/448 [00:18<00:00, 24.52it/s]\n",
      "100%|██████████| 448/448 [00:18<00:00, 24.61it/s]\n",
      "100%|██████████| 448/448 [00:18<00:00, 24.56it/s]\n",
      "100%|██████████| 448/448 [00:18<00:00, 24.44it/s]\n",
      "100%|██████████| 24/24 [00:00<00:00, 28.45it/s]\n"
     ]
    }
   ],
   "source": [
    "import mp\n",
    "\n",
    "mp.multiprocessing(files, loop, cores = min(len(files), 30), returned = False)"
   ]
  },
  {
   "cell_type": "code",
   "execution_count": 40,
   "id": "91782453",
   "metadata": {},
   "outputs": [
    {
     "data": {
      "text/plain": [
       "31"
      ]
     },
     "execution_count": 40,
     "metadata": {},
     "output_type": "execute_result"
    }
   ],
   "source": [
    "folders = sorted(glob('embedding/embedding-*'), key = lambda x: int(x.split('-')[-1]))\n",
    "len(folders)"
   ]
  },
  {
   "cell_type": "code",
   "execution_count": 41,
   "id": "00aafa96",
   "metadata": {},
   "outputs": [],
   "source": [
    "!rm -rf combine"
   ]
  },
  {
   "cell_type": "code",
   "execution_count": 42,
   "id": "e3a1ffd3",
   "metadata": {
    "scrolled": false
   },
   "outputs": [
    {
     "name": "stderr",
     "output_type": "stream",
     "text": [
      "100%|██████████| 134323/134323 [00:06<00:00, 19829.32it/s]\n",
      "100%|██████████| 134272/134272 [00:08<00:00, 16247.81it/s]\n",
      "100%|██████████| 134399/134399 [00:08<00:00, 16044.36it/s]\n",
      "100%|██████████| 134388/134388 [00:08<00:00, 15498.79it/s]\n",
      "100%|██████████| 134297/134297 [00:08<00:00, 16057.80it/s]\n",
      "100%|██████████| 134336/134336 [00:08<00:00, 15862.59it/s]\n",
      "100%|██████████| 134299/134299 [00:06<00:00, 19742.58it/s]\n",
      "100%|██████████| 134288/134288 [00:06<00:00, 20817.70it/s]\n",
      "100%|██████████| 134320/134320 [00:06<00:00, 20235.05it/s]\n",
      "100%|██████████| 134362/134362 [00:06<00:00, 20080.13it/s]\n",
      "100%|██████████| 134364/134364 [00:06<00:00, 20801.63it/s]\n",
      "100%|██████████| 134306/134306 [00:06<00:00, 20920.79it/s]\n",
      "100%|██████████| 134300/134300 [00:06<00:00, 19681.60it/s]\n",
      "100%|██████████| 134304/134304 [00:06<00:00, 19982.70it/s]\n",
      "100%|██████████| 134370/134370 [00:07<00:00, 19075.88it/s]\n",
      "100%|██████████| 134259/134259 [00:06<00:00, 19965.93it/s]\n",
      "100%|██████████| 134366/134366 [00:06<00:00, 20538.22it/s]\n",
      "100%|██████████| 134341/134341 [00:06<00:00, 19924.12it/s]\n",
      "100%|██████████| 134332/134332 [00:06<00:00, 20276.27it/s]\n",
      "100%|██████████| 134400/134400 [00:07<00:00, 18161.22it/s]\n",
      "100%|██████████| 134361/134361 [00:06<00:00, 20326.68it/s]\n",
      "100%|██████████| 134400/134400 [00:06<00:00, 20546.52it/s]\n",
      "100%|██████████| 134332/134332 [00:06<00:00, 20470.93it/s]\n",
      "100%|██████████| 134310/134310 [00:06<00:00, 20509.21it/s]\n",
      "100%|██████████| 134313/134313 [00:06<00:00, 20265.66it/s]\n",
      "100%|██████████| 134327/134327 [00:06<00:00, 20622.75it/s]\n",
      "100%|██████████| 134355/134355 [00:06<00:00, 20074.81it/s]\n",
      "100%|██████████| 134260/134260 [00:06<00:00, 20378.45it/s]\n",
      "100%|██████████| 134274/134274 [00:06<00:00, 20351.51it/s]\n",
      "100%|██████████| 134369/134369 [00:06<00:00, 20312.68it/s]\n",
      "100%|██████████| 7200/7200 [00:00<00:00, 24252.13it/s]\n"
     ]
    }
   ],
   "source": [
    "with MDSWriter(out='combine', columns=columns, compression=None, hashes=hashes) as out:\n",
    "    for f in folders:\n",
    "        try:\n",
    "            dataset = LocalDataset(local=f)\n",
    "            for i in tqdm(range(len(dataset))):\n",
    "                out.write(dataset[i])\n",
    "        except Exception as e:\n",
    "            print(e)\n",
    "            pass"
   ]
  },
  {
   "cell_type": "code",
   "execution_count": 46,
   "id": "b3b44a75",
   "metadata": {},
   "outputs": [],
   "source": [
    "dataset = LocalDataset('combine')"
   ]
  },
  {
   "cell_type": "code",
   "execution_count": 47,
   "id": "346420fc",
   "metadata": {},
   "outputs": [
    {
     "data": {
      "text/plain": [
       "4037127"
      ]
     },
     "execution_count": 47,
     "metadata": {},
     "output_type": "execute_result"
    }
   ],
   "source": [
    "len(dataset)"
   ]
  },
  {
   "cell_type": "code",
   "execution_count": 48,
   "id": "c57ca527",
   "metadata": {},
   "outputs": [
    {
     "data": {
      "text/plain": [
       "'/home/ubuntu/.cache/huggingface/hub/datasets--malaysia-ai--crawl-google-image-malaysia-location/snapshots/da8d9dc03a7d6779de6062836030a1c90c0e74ea/data/train-00990-of-01000.parquet'"
      ]
     },
     "execution_count": 48,
     "metadata": {},
     "output_type": "execute_result"
    }
   ],
   "source": [
    "dataset[100000]['filename']"
   ]
  },
  {
   "cell_type": "code",
   "execution_count": 49,
   "id": "49d6ee19",
   "metadata": {},
   "outputs": [
    {
     "name": "stderr",
     "output_type": "stream",
     "text": [
      "100%|██████████| 4037127/4037127 [04:08<00:00, 16252.34it/s]\n"
     ]
    }
   ],
   "source": [
    "mapping = {}\n",
    "for i in tqdm(range(len(dataset))):\n",
    "    f = os.path.split(dataset[i]['filename'])[1]\n",
    "    key = f\"{f}-{dataset[i]['index']}\"\n",
    "    mapping[key] = i"
   ]
  },
  {
   "cell_type": "code",
   "execution_count": 50,
   "id": "f92ccaa9",
   "metadata": {},
   "outputs": [
    {
     "data": {
      "text/plain": [
       "4036638"
      ]
     },
     "execution_count": 50,
     "metadata": {},
     "output_type": "execute_result"
    }
   ],
   "source": [
    "len(mapping)"
   ]
  },
  {
   "cell_type": "code",
   "execution_count": 51,
   "id": "6e606b20",
   "metadata": {},
   "outputs": [],
   "source": [
    "with open('mapping-index.json', 'w') as fopen:\n",
    "    json.dump(mapping, fopen)"
   ]
  },
  {
   "cell_type": "code",
   "execution_count": 52,
   "id": "02345bee",
   "metadata": {},
   "outputs": [],
   "source": [
    "from huggingface_hub import HfApi\n",
    "api = HfApi()"
   ]
  },
  {
   "cell_type": "code",
   "execution_count": 53,
   "id": "f15e0e98",
   "metadata": {},
   "outputs": [
    {
     "data": {
      "application/vnd.jupyter.widget-view+json": {
       "model_id": "58250a8867a24dc391e168090890255b",
       "version_major": 2,
       "version_minor": 0
      },
      "text/plain": [
       "Upload 198 LFS files:   0%|          | 0/198 [00:00<?, ?it/s]"
      ]
     },
     "metadata": {},
     "output_type": "display_data"
    },
    {
     "data": {
      "application/vnd.jupyter.widget-view+json": {
       "model_id": "2c2797643a5748df9c79f1ae0ac4d4a3",
       "version_major": 2,
       "version_minor": 0
      },
      "text/plain": [
       "shard.00002.mds:   0%|          | 0.00/67.1M [00:00<?, ?B/s]"
      ]
     },
     "metadata": {},
     "output_type": "display_data"
    },
    {
     "data": {
      "application/vnd.jupyter.widget-view+json": {
       "model_id": "f7b568e780e3491c997fbc6023da39fd",
       "version_major": 2,
       "version_minor": 0
      },
      "text/plain": [
       "shard.00003.mds:   0%|          | 0.00/67.1M [00:00<?, ?B/s]"
      ]
     },
     "metadata": {},
     "output_type": "display_data"
    },
    {
     "data": {
      "application/vnd.jupyter.widget-view+json": {
       "model_id": "1c0a7913a0eb4567af97318dce276482",
       "version_major": 2,
       "version_minor": 0
      },
      "text/plain": [
       "shard.00000.mds:   0%|          | 0.00/67.1M [00:00<?, ?B/s]"
      ]
     },
     "metadata": {},
     "output_type": "display_data"
    },
    {
     "data": {
      "application/vnd.jupyter.widget-view+json": {
       "model_id": "256457b20db4498a930f91e2cc13b35a",
       "version_major": 2,
       "version_minor": 0
      },
      "text/plain": [
       "shard.00001.mds:   0%|          | 0.00/67.1M [00:00<?, ?B/s]"
      ]
     },
     "metadata": {},
     "output_type": "display_data"
    },
    {
     "data": {
      "application/vnd.jupyter.widget-view+json": {
       "model_id": "2f8fb95606c34a7dab0c290847b45f0e",
       "version_major": 2,
       "version_minor": 0
      },
      "text/plain": [
       "shard.00004.mds:   0%|          | 0.00/67.1M [00:00<?, ?B/s]"
      ]
     },
     "metadata": {},
     "output_type": "display_data"
    },
    {
     "data": {
      "application/vnd.jupyter.widget-view+json": {
       "model_id": "65c6aa0289e64b0ea842ea8a0dfca0db",
       "version_major": 2,
       "version_minor": 0
      },
      "text/plain": [
       "shard.00005.mds:   0%|          | 0.00/67.1M [00:00<?, ?B/s]"
      ]
     },
     "metadata": {},
     "output_type": "display_data"
    },
    {
     "data": {
      "application/vnd.jupyter.widget-view+json": {
       "model_id": "cae0e021bc014dddacded3d686b3f873",
       "version_major": 2,
       "version_minor": 0
      },
      "text/plain": [
       "shard.00006.mds:   0%|          | 0.00/67.1M [00:00<?, ?B/s]"
      ]
     },
     "metadata": {},
     "output_type": "display_data"
    },
    {
     "data": {
      "application/vnd.jupyter.widget-view+json": {
       "model_id": "166ebb8c12ca479183ed9619abdff58c",
       "version_major": 2,
       "version_minor": 0
      },
      "text/plain": [
       "shard.00007.mds:   0%|          | 0.00/67.1M [00:00<?, ?B/s]"
      ]
     },
     "metadata": {},
     "output_type": "display_data"
    },
    {
     "data": {
      "application/vnd.jupyter.widget-view+json": {
       "model_id": "9e8d1ab0b3fc47778506b171ed0d564e",
       "version_major": 2,
       "version_minor": 0
      },
      "text/plain": [
       "shard.00008.mds:   0%|          | 0.00/67.1M [00:00<?, ?B/s]"
      ]
     },
     "metadata": {},
     "output_type": "display_data"
    },
    {
     "data": {
      "application/vnd.jupyter.widget-view+json": {
       "model_id": "b78704e5611d43128d2cc265f83ce9ea",
       "version_major": 2,
       "version_minor": 0
      },
      "text/plain": [
       "shard.00009.mds:   0%|          | 0.00/67.1M [00:00<?, ?B/s]"
      ]
     },
     "metadata": {},
     "output_type": "display_data"
    },
    {
     "data": {
      "application/vnd.jupyter.widget-view+json": {
       "model_id": "566a9f0d079240bc85346c16644e74a3",
       "version_major": 2,
       "version_minor": 0
      },
      "text/plain": [
       "shard.00010.mds:   0%|          | 0.00/67.1M [00:00<?, ?B/s]"
      ]
     },
     "metadata": {},
     "output_type": "display_data"
    },
    {
     "data": {
      "application/vnd.jupyter.widget-view+json": {
       "model_id": "8d13730123f848a4933885e838d0c4c3",
       "version_major": 2,
       "version_minor": 0
      },
      "text/plain": [
       "shard.00011.mds:   0%|          | 0.00/67.1M [00:00<?, ?B/s]"
      ]
     },
     "metadata": {},
     "output_type": "display_data"
    },
    {
     "data": {
      "application/vnd.jupyter.widget-view+json": {
       "model_id": "5bd882078d434a20946dbcc4f80cf3db",
       "version_major": 2,
       "version_minor": 0
      },
      "text/plain": [
       "shard.00012.mds:   0%|          | 0.00/67.1M [00:00<?, ?B/s]"
      ]
     },
     "metadata": {},
     "output_type": "display_data"
    },
    {
     "data": {
      "application/vnd.jupyter.widget-view+json": {
       "model_id": "cdbe9e563f0247bc82e678c4a90418a5",
       "version_major": 2,
       "version_minor": 0
      },
      "text/plain": [
       "shard.00013.mds:   0%|          | 0.00/67.1M [00:00<?, ?B/s]"
      ]
     },
     "metadata": {},
     "output_type": "display_data"
    },
    {
     "data": {
      "application/vnd.jupyter.widget-view+json": {
       "model_id": "ab64934f1f7a4620a671480cf7d7c772",
       "version_major": 2,
       "version_minor": 0
      },
      "text/plain": [
       "shard.00014.mds:   0%|          | 0.00/67.1M [00:00<?, ?B/s]"
      ]
     },
     "metadata": {},
     "output_type": "display_data"
    },
    {
     "data": {
      "application/vnd.jupyter.widget-view+json": {
       "model_id": "fbd020f6ebcc4bbca121ce7ae1043d15",
       "version_major": 2,
       "version_minor": 0
      },
      "text/plain": [
       "shard.00015.mds:   0%|          | 0.00/67.1M [00:00<?, ?B/s]"
      ]
     },
     "metadata": {},
     "output_type": "display_data"
    },
    {
     "data": {
      "application/vnd.jupyter.widget-view+json": {
       "model_id": "7082eade99f14dbdac1588be48577a29",
       "version_major": 2,
       "version_minor": 0
      },
      "text/plain": [
       "shard.00016.mds:   0%|          | 0.00/67.1M [00:00<?, ?B/s]"
      ]
     },
     "metadata": {},
     "output_type": "display_data"
    },
    {
     "data": {
      "application/vnd.jupyter.widget-view+json": {
       "model_id": "bcb9ea36be8d42e0ad4038197da28cbb",
       "version_major": 2,
       "version_minor": 0
      },
      "text/plain": [
       "shard.00017.mds:   0%|          | 0.00/67.1M [00:00<?, ?B/s]"
      ]
     },
     "metadata": {},
     "output_type": "display_data"
    },
    {
     "data": {
      "application/vnd.jupyter.widget-view+json": {
       "model_id": "d86b5d8ccd9b428d88b3a1587b915a26",
       "version_major": 2,
       "version_minor": 0
      },
      "text/plain": [
       "shard.00018.mds:   0%|          | 0.00/67.1M [00:00<?, ?B/s]"
      ]
     },
     "metadata": {},
     "output_type": "display_data"
    },
    {
     "data": {
      "application/vnd.jupyter.widget-view+json": {
       "model_id": "23b3a3d0e5a942599142033e8ff14f8f",
       "version_major": 2,
       "version_minor": 0
      },
      "text/plain": [
       "shard.00019.mds:   0%|          | 0.00/67.1M [00:00<?, ?B/s]"
      ]
     },
     "metadata": {},
     "output_type": "display_data"
    },
    {
     "data": {
      "application/vnd.jupyter.widget-view+json": {
       "model_id": "82166e73657a49779150a694458686ae",
       "version_major": 2,
       "version_minor": 0
      },
      "text/plain": [
       "shard.00020.mds:   0%|          | 0.00/67.1M [00:00<?, ?B/s]"
      ]
     },
     "metadata": {},
     "output_type": "display_data"
    },
    {
     "data": {
      "application/vnd.jupyter.widget-view+json": {
       "model_id": "7c93c6b2fb154430a9dbcd37a49bfd12",
       "version_major": 2,
       "version_minor": 0
      },
      "text/plain": [
       "shard.00021.mds:   0%|          | 0.00/67.1M [00:00<?, ?B/s]"
      ]
     },
     "metadata": {},
     "output_type": "display_data"
    },
    {
     "data": {
      "application/vnd.jupyter.widget-view+json": {
       "model_id": "36a702f11e1a4ee7b786feb6d7858978",
       "version_major": 2,
       "version_minor": 0
      },
      "text/plain": [
       "shard.00022.mds:   0%|          | 0.00/67.1M [00:00<?, ?B/s]"
      ]
     },
     "metadata": {},
     "output_type": "display_data"
    },
    {
     "data": {
      "application/vnd.jupyter.widget-view+json": {
       "model_id": "ecd521a17ab84ff090c8c2590ffa1bb4",
       "version_major": 2,
       "version_minor": 0
      },
      "text/plain": [
       "shard.00023.mds:   0%|          | 0.00/67.1M [00:00<?, ?B/s]"
      ]
     },
     "metadata": {},
     "output_type": "display_data"
    },
    {
     "data": {
      "application/vnd.jupyter.widget-view+json": {
       "model_id": "406a8dce497b434ab94394d5a45ed5df",
       "version_major": 2,
       "version_minor": 0
      },
      "text/plain": [
       "shard.00024.mds:   0%|          | 0.00/67.1M [00:00<?, ?B/s]"
      ]
     },
     "metadata": {},
     "output_type": "display_data"
    },
    {
     "data": {
      "application/vnd.jupyter.widget-view+json": {
       "model_id": "a167f3d30a484a51b29d015d8da26429",
       "version_major": 2,
       "version_minor": 0
      },
      "text/plain": [
       "shard.00025.mds:   0%|          | 0.00/67.1M [00:00<?, ?B/s]"
      ]
     },
     "metadata": {},
     "output_type": "display_data"
    },
    {
     "data": {
      "application/vnd.jupyter.widget-view+json": {
       "model_id": "579f916a76f74a4ca078a2bf96349929",
       "version_major": 2,
       "version_minor": 0
      },
      "text/plain": [
       "shard.00026.mds:   0%|          | 0.00/67.1M [00:00<?, ?B/s]"
      ]
     },
     "metadata": {},
     "output_type": "display_data"
    },
    {
     "data": {
      "application/vnd.jupyter.widget-view+json": {
       "model_id": "7e0809ebd6804709a4dfbde3450bbbcd",
       "version_major": 2,
       "version_minor": 0
      },
      "text/plain": [
       "shard.00027.mds:   0%|          | 0.00/67.1M [00:00<?, ?B/s]"
      ]
     },
     "metadata": {},
     "output_type": "display_data"
    },
    {
     "data": {
      "application/vnd.jupyter.widget-view+json": {
       "model_id": "2d3e32791ad54d73ab599d274e35f150",
       "version_major": 2,
       "version_minor": 0
      },
      "text/plain": [
       "shard.00028.mds:   0%|          | 0.00/67.1M [00:00<?, ?B/s]"
      ]
     },
     "metadata": {},
     "output_type": "display_data"
    },
    {
     "data": {
      "application/vnd.jupyter.widget-view+json": {
       "model_id": "1e98bf11f78a44b6ac7d130bfb4b7614",
       "version_major": 2,
       "version_minor": 0
      },
      "text/plain": [
       "shard.00029.mds:   0%|          | 0.00/67.1M [00:00<?, ?B/s]"
      ]
     },
     "metadata": {},
     "output_type": "display_data"
    },
    {
     "data": {
      "application/vnd.jupyter.widget-view+json": {
       "model_id": "2191bc879f9646afba1250021f7a5a86",
       "version_major": 2,
       "version_minor": 0
      },
      "text/plain": [
       "shard.00030.mds:   0%|          | 0.00/67.1M [00:00<?, ?B/s]"
      ]
     },
     "metadata": {},
     "output_type": "display_data"
    },
    {
     "data": {
      "application/vnd.jupyter.widget-view+json": {
       "model_id": "cd5f36a8a29f436780f9a74821b51f51",
       "version_major": 2,
       "version_minor": 0
      },
      "text/plain": [
       "shard.00031.mds:   0%|          | 0.00/67.1M [00:00<?, ?B/s]"
      ]
     },
     "metadata": {},
     "output_type": "display_data"
    },
    {
     "data": {
      "application/vnd.jupyter.widget-view+json": {
       "model_id": "bf20d742fc044a07b964a02af212ac36",
       "version_major": 2,
       "version_minor": 0
      },
      "text/plain": [
       "shard.00032.mds:   0%|          | 0.00/67.1M [00:00<?, ?B/s]"
      ]
     },
     "metadata": {},
     "output_type": "display_data"
    },
    {
     "data": {
      "application/vnd.jupyter.widget-view+json": {
       "model_id": "f9e5e2da4dc04e23b8cbf0d4a2be7d51",
       "version_major": 2,
       "version_minor": 0
      },
      "text/plain": [
       "shard.00033.mds:   0%|          | 0.00/67.1M [00:00<?, ?B/s]"
      ]
     },
     "metadata": {},
     "output_type": "display_data"
    },
    {
     "data": {
      "application/vnd.jupyter.widget-view+json": {
       "model_id": "951bc5627bba442a80ebf326680b6acc",
       "version_major": 2,
       "version_minor": 0
      },
      "text/plain": [
       "shard.00034.mds:   0%|          | 0.00/67.1M [00:00<?, ?B/s]"
      ]
     },
     "metadata": {},
     "output_type": "display_data"
    },
    {
     "data": {
      "application/vnd.jupyter.widget-view+json": {
       "model_id": "feec55feb5674a37abecc00dbc2f6045",
       "version_major": 2,
       "version_minor": 0
      },
      "text/plain": [
       "shard.00035.mds:   0%|          | 0.00/67.1M [00:00<?, ?B/s]"
      ]
     },
     "metadata": {},
     "output_type": "display_data"
    },
    {
     "data": {
      "application/vnd.jupyter.widget-view+json": {
       "model_id": "83fe78c350214e2aab7286bbedc06ea2",
       "version_major": 2,
       "version_minor": 0
      },
      "text/plain": [
       "shard.00036.mds:   0%|          | 0.00/67.1M [00:00<?, ?B/s]"
      ]
     },
     "metadata": {},
     "output_type": "display_data"
    },
    {
     "data": {
      "application/vnd.jupyter.widget-view+json": {
       "model_id": "aec15ca9a0934bd8ad4c59db0b5c31ea",
       "version_major": 2,
       "version_minor": 0
      },
      "text/plain": [
       "shard.00037.mds:   0%|          | 0.00/67.1M [00:00<?, ?B/s]"
      ]
     },
     "metadata": {},
     "output_type": "display_data"
    },
    {
     "data": {
      "application/vnd.jupyter.widget-view+json": {
       "model_id": "24accdc617d4487190b70dbc13591906",
       "version_major": 2,
       "version_minor": 0
      },
      "text/plain": [
       "shard.00038.mds:   0%|          | 0.00/67.1M [00:00<?, ?B/s]"
      ]
     },
     "metadata": {},
     "output_type": "display_data"
    },
    {
     "data": {
      "application/vnd.jupyter.widget-view+json": {
       "model_id": "ca7d2ef716f4424e95f353a033845e27",
       "version_major": 2,
       "version_minor": 0
      },
      "text/plain": [
       "shard.00039.mds:   0%|          | 0.00/67.1M [00:00<?, ?B/s]"
      ]
     },
     "metadata": {},
     "output_type": "display_data"
    },
    {
     "data": {
      "application/vnd.jupyter.widget-view+json": {
       "model_id": "cd576f8ce03141c5a6690798d7d4ffa4",
       "version_major": 2,
       "version_minor": 0
      },
      "text/plain": [
       "shard.00040.mds:   0%|          | 0.00/67.1M [00:00<?, ?B/s]"
      ]
     },
     "metadata": {},
     "output_type": "display_data"
    },
    {
     "data": {
      "application/vnd.jupyter.widget-view+json": {
       "model_id": "4d2cafcf07a2475e93b38ac46668d08e",
       "version_major": 2,
       "version_minor": 0
      },
      "text/plain": [
       "shard.00041.mds:   0%|          | 0.00/67.1M [00:00<?, ?B/s]"
      ]
     },
     "metadata": {},
     "output_type": "display_data"
    },
    {
     "data": {
      "application/vnd.jupyter.widget-view+json": {
       "model_id": "911d9173beeb4e2794608632a1451cde",
       "version_major": 2,
       "version_minor": 0
      },
      "text/plain": [
       "shard.00042.mds:   0%|          | 0.00/67.1M [00:00<?, ?B/s]"
      ]
     },
     "metadata": {},
     "output_type": "display_data"
    },
    {
     "data": {
      "application/vnd.jupyter.widget-view+json": {
       "model_id": "ed796ded9d394f7685f333a0f0d2cc26",
       "version_major": 2,
       "version_minor": 0
      },
      "text/plain": [
       "shard.00043.mds:   0%|          | 0.00/67.1M [00:00<?, ?B/s]"
      ]
     },
     "metadata": {},
     "output_type": "display_data"
    },
    {
     "data": {
      "application/vnd.jupyter.widget-view+json": {
       "model_id": "fc56c58f6a76480a9e24210c85696516",
       "version_major": 2,
       "version_minor": 0
      },
      "text/plain": [
       "shard.00044.mds:   0%|          | 0.00/67.1M [00:00<?, ?B/s]"
      ]
     },
     "metadata": {},
     "output_type": "display_data"
    },
    {
     "data": {
      "application/vnd.jupyter.widget-view+json": {
       "model_id": "c710b03e76ed4e1f9b4e112d3cadf604",
       "version_major": 2,
       "version_minor": 0
      },
      "text/plain": [
       "shard.00045.mds:   0%|          | 0.00/67.1M [00:00<?, ?B/s]"
      ]
     },
     "metadata": {},
     "output_type": "display_data"
    },
    {
     "data": {
      "application/vnd.jupyter.widget-view+json": {
       "model_id": "2fe193cc1c29410a939040957031e629",
       "version_major": 2,
       "version_minor": 0
      },
      "text/plain": [
       "shard.00046.mds:   0%|          | 0.00/67.1M [00:00<?, ?B/s]"
      ]
     },
     "metadata": {},
     "output_type": "display_data"
    },
    {
     "data": {
      "application/vnd.jupyter.widget-view+json": {
       "model_id": "5e6bfd8aeaa244779a31e92f5f86bb33",
       "version_major": 2,
       "version_minor": 0
      },
      "text/plain": [
       "shard.00047.mds:   0%|          | 0.00/67.1M [00:00<?, ?B/s]"
      ]
     },
     "metadata": {},
     "output_type": "display_data"
    },
    {
     "data": {
      "application/vnd.jupyter.widget-view+json": {
       "model_id": "fe6f1435df774cbbaa4fb2679d78afe7",
       "version_major": 2,
       "version_minor": 0
      },
      "text/plain": [
       "shard.00048.mds:   0%|          | 0.00/67.1M [00:00<?, ?B/s]"
      ]
     },
     "metadata": {},
     "output_type": "display_data"
    },
    {
     "data": {
      "application/vnd.jupyter.widget-view+json": {
       "model_id": "01f72d282c474e12a827e4745bdc79a8",
       "version_major": 2,
       "version_minor": 0
      },
      "text/plain": [
       "shard.00049.mds:   0%|          | 0.00/67.1M [00:00<?, ?B/s]"
      ]
     },
     "metadata": {},
     "output_type": "display_data"
    },
    {
     "data": {
      "application/vnd.jupyter.widget-view+json": {
       "model_id": "c1d3e318e476446baa9db2a1f1c7cebc",
       "version_major": 2,
       "version_minor": 0
      },
      "text/plain": [
       "shard.00050.mds:   0%|          | 0.00/67.1M [00:00<?, ?B/s]"
      ]
     },
     "metadata": {},
     "output_type": "display_data"
    },
    {
     "data": {
      "application/vnd.jupyter.widget-view+json": {
       "model_id": "fffe7d94a87345409cc4b2ac9da7fa8b",
       "version_major": 2,
       "version_minor": 0
      },
      "text/plain": [
       "shard.00051.mds:   0%|          | 0.00/67.1M [00:00<?, ?B/s]"
      ]
     },
     "metadata": {},
     "output_type": "display_data"
    },
    {
     "data": {
      "application/vnd.jupyter.widget-view+json": {
       "model_id": "b9a7547fb38446d5a9e94fcae5ff22e6",
       "version_major": 2,
       "version_minor": 0
      },
      "text/plain": [
       "shard.00052.mds:   0%|          | 0.00/67.1M [00:00<?, ?B/s]"
      ]
     },
     "metadata": {},
     "output_type": "display_data"
    },
    {
     "data": {
      "application/vnd.jupyter.widget-view+json": {
       "model_id": "4c0caf5eb3704cceb20a0c8fb5310e34",
       "version_major": 2,
       "version_minor": 0
      },
      "text/plain": [
       "shard.00053.mds:   0%|          | 0.00/67.1M [00:00<?, ?B/s]"
      ]
     },
     "metadata": {},
     "output_type": "display_data"
    },
    {
     "data": {
      "application/vnd.jupyter.widget-view+json": {
       "model_id": "8e3b7452d4804da284d1c29b786a89ec",
       "version_major": 2,
       "version_minor": 0
      },
      "text/plain": [
       "shard.00054.mds:   0%|          | 0.00/67.1M [00:00<?, ?B/s]"
      ]
     },
     "metadata": {},
     "output_type": "display_data"
    },
    {
     "data": {
      "application/vnd.jupyter.widget-view+json": {
       "model_id": "e5ccb1c196814e92b0dc7eba52102418",
       "version_major": 2,
       "version_minor": 0
      },
      "text/plain": [
       "shard.00055.mds:   0%|          | 0.00/67.1M [00:00<?, ?B/s]"
      ]
     },
     "metadata": {},
     "output_type": "display_data"
    },
    {
     "data": {
      "application/vnd.jupyter.widget-view+json": {
       "model_id": "7c1b7ef0951e473b8b9f420cb3d11b5c",
       "version_major": 2,
       "version_minor": 0
      },
      "text/plain": [
       "shard.00056.mds:   0%|          | 0.00/67.1M [00:00<?, ?B/s]"
      ]
     },
     "metadata": {},
     "output_type": "display_data"
    },
    {
     "data": {
      "application/vnd.jupyter.widget-view+json": {
       "model_id": "64deaf084f094394b095fc7b8ba4855c",
       "version_major": 2,
       "version_minor": 0
      },
      "text/plain": [
       "shard.00057.mds:   0%|          | 0.00/67.1M [00:00<?, ?B/s]"
      ]
     },
     "metadata": {},
     "output_type": "display_data"
    },
    {
     "data": {
      "application/vnd.jupyter.widget-view+json": {
       "model_id": "e2725fbb6683464dadd3882296105708",
       "version_major": 2,
       "version_minor": 0
      },
      "text/plain": [
       "shard.00058.mds:   0%|          | 0.00/67.1M [00:00<?, ?B/s]"
      ]
     },
     "metadata": {},
     "output_type": "display_data"
    },
    {
     "data": {
      "application/vnd.jupyter.widget-view+json": {
       "model_id": "1a1bf02195d249f598af9d5cd65a698f",
       "version_major": 2,
       "version_minor": 0
      },
      "text/plain": [
       "shard.00059.mds:   0%|          | 0.00/67.1M [00:00<?, ?B/s]"
      ]
     },
     "metadata": {},
     "output_type": "display_data"
    },
    {
     "data": {
      "application/vnd.jupyter.widget-view+json": {
       "model_id": "2505c581156c475181ed87aeaf633546",
       "version_major": 2,
       "version_minor": 0
      },
      "text/plain": [
       "shard.00060.mds:   0%|          | 0.00/67.1M [00:00<?, ?B/s]"
      ]
     },
     "metadata": {},
     "output_type": "display_data"
    },
    {
     "data": {
      "application/vnd.jupyter.widget-view+json": {
       "model_id": "9f87f3e6083b45ea9313377b4c7dfd0c",
       "version_major": 2,
       "version_minor": 0
      },
      "text/plain": [
       "shard.00061.mds:   0%|          | 0.00/67.1M [00:00<?, ?B/s]"
      ]
     },
     "metadata": {},
     "output_type": "display_data"
    },
    {
     "data": {
      "application/vnd.jupyter.widget-view+json": {
       "model_id": "d646248d369649d7826082471ec11a38",
       "version_major": 2,
       "version_minor": 0
      },
      "text/plain": [
       "shard.00062.mds:   0%|          | 0.00/67.1M [00:00<?, ?B/s]"
      ]
     },
     "metadata": {},
     "output_type": "display_data"
    },
    {
     "data": {
      "application/vnd.jupyter.widget-view+json": {
       "model_id": "3c77f032873642f0b49f439cd16b24d9",
       "version_major": 2,
       "version_minor": 0
      },
      "text/plain": [
       "shard.00063.mds:   0%|          | 0.00/67.1M [00:00<?, ?B/s]"
      ]
     },
     "metadata": {},
     "output_type": "display_data"
    },
    {
     "data": {
      "application/vnd.jupyter.widget-view+json": {
       "model_id": "c8e4bad3502742d595b4672f67740fcd",
       "version_major": 2,
       "version_minor": 0
      },
      "text/plain": [
       "shard.00064.mds:   0%|          | 0.00/67.1M [00:00<?, ?B/s]"
      ]
     },
     "metadata": {},
     "output_type": "display_data"
    },
    {
     "data": {
      "application/vnd.jupyter.widget-view+json": {
       "model_id": "dd86574ff34b4f1988c62519a0e3883c",
       "version_major": 2,
       "version_minor": 0
      },
      "text/plain": [
       "shard.00065.mds:   0%|          | 0.00/67.1M [00:00<?, ?B/s]"
      ]
     },
     "metadata": {},
     "output_type": "display_data"
    },
    {
     "data": {
      "application/vnd.jupyter.widget-view+json": {
       "model_id": "345186ea35704b199c48c1de5caf679b",
       "version_major": 2,
       "version_minor": 0
      },
      "text/plain": [
       "shard.00066.mds:   0%|          | 0.00/67.1M [00:00<?, ?B/s]"
      ]
     },
     "metadata": {},
     "output_type": "display_data"
    },
    {
     "data": {
      "application/vnd.jupyter.widget-view+json": {
       "model_id": "2899a2ee25c242aa94bb5f23e118a577",
       "version_major": 2,
       "version_minor": 0
      },
      "text/plain": [
       "shard.00067.mds:   0%|          | 0.00/67.1M [00:00<?, ?B/s]"
      ]
     },
     "metadata": {},
     "output_type": "display_data"
    },
    {
     "data": {
      "application/vnd.jupyter.widget-view+json": {
       "model_id": "d3eb12b41dcc4b5b9da35fdb59f5a487",
       "version_major": 2,
       "version_minor": 0
      },
      "text/plain": [
       "shard.00068.mds:   0%|          | 0.00/67.1M [00:00<?, ?B/s]"
      ]
     },
     "metadata": {},
     "output_type": "display_data"
    },
    {
     "data": {
      "application/vnd.jupyter.widget-view+json": {
       "model_id": "216be9cd281a4b658e56bc904dfa9b4b",
       "version_major": 2,
       "version_minor": 0
      },
      "text/plain": [
       "shard.00069.mds:   0%|          | 0.00/67.1M [00:00<?, ?B/s]"
      ]
     },
     "metadata": {},
     "output_type": "display_data"
    },
    {
     "data": {
      "application/vnd.jupyter.widget-view+json": {
       "model_id": "61ea16a796d0411bad88309d2a7179f3",
       "version_major": 2,
       "version_minor": 0
      },
      "text/plain": [
       "shard.00070.mds:   0%|          | 0.00/67.1M [00:00<?, ?B/s]"
      ]
     },
     "metadata": {},
     "output_type": "display_data"
    },
    {
     "data": {
      "application/vnd.jupyter.widget-view+json": {
       "model_id": "a5259c7683f246528b8a99999196d61a",
       "version_major": 2,
       "version_minor": 0
      },
      "text/plain": [
       "shard.00071.mds:   0%|          | 0.00/67.1M [00:00<?, ?B/s]"
      ]
     },
     "metadata": {},
     "output_type": "display_data"
    },
    {
     "data": {
      "application/vnd.jupyter.widget-view+json": {
       "model_id": "70506b940351419f8e57b83692b7f905",
       "version_major": 2,
       "version_minor": 0
      },
      "text/plain": [
       "shard.00072.mds:   0%|          | 0.00/67.1M [00:00<?, ?B/s]"
      ]
     },
     "metadata": {},
     "output_type": "display_data"
    },
    {
     "data": {
      "application/vnd.jupyter.widget-view+json": {
       "model_id": "86e70c619f0d405fae298c2855004246",
       "version_major": 2,
       "version_minor": 0
      },
      "text/plain": [
       "shard.00073.mds:   0%|          | 0.00/67.1M [00:00<?, ?B/s]"
      ]
     },
     "metadata": {},
     "output_type": "display_data"
    },
    {
     "data": {
      "application/vnd.jupyter.widget-view+json": {
       "model_id": "9f6ae9cfabb3489289c8450f6e367560",
       "version_major": 2,
       "version_minor": 0
      },
      "text/plain": [
       "shard.00074.mds:   0%|          | 0.00/67.1M [00:00<?, ?B/s]"
      ]
     },
     "metadata": {},
     "output_type": "display_data"
    },
    {
     "data": {
      "application/vnd.jupyter.widget-view+json": {
       "model_id": "4451bfe87a5845fbafd1c23e66fbb421",
       "version_major": 2,
       "version_minor": 0
      },
      "text/plain": [
       "shard.00075.mds:   0%|          | 0.00/67.1M [00:00<?, ?B/s]"
      ]
     },
     "metadata": {},
     "output_type": "display_data"
    },
    {
     "data": {
      "application/vnd.jupyter.widget-view+json": {
       "model_id": "4d9f9f73f8c34f738c75e7b6977d4559",
       "version_major": 2,
       "version_minor": 0
      },
      "text/plain": [
       "shard.00076.mds:   0%|          | 0.00/67.1M [00:00<?, ?B/s]"
      ]
     },
     "metadata": {},
     "output_type": "display_data"
    },
    {
     "data": {
      "application/vnd.jupyter.widget-view+json": {
       "model_id": "97b607a2319b486fbf57c593d584ceac",
       "version_major": 2,
       "version_minor": 0
      },
      "text/plain": [
       "shard.00077.mds:   0%|          | 0.00/67.1M [00:00<?, ?B/s]"
      ]
     },
     "metadata": {},
     "output_type": "display_data"
    },
    {
     "data": {
      "application/vnd.jupyter.widget-view+json": {
       "model_id": "fa6ba7f4d9f543f7a6d5cea10395c11d",
       "version_major": 2,
       "version_minor": 0
      },
      "text/plain": [
       "shard.00078.mds:   0%|          | 0.00/67.1M [00:00<?, ?B/s]"
      ]
     },
     "metadata": {},
     "output_type": "display_data"
    },
    {
     "data": {
      "application/vnd.jupyter.widget-view+json": {
       "model_id": "797b1647522e451d904e513c9c732d1c",
       "version_major": 2,
       "version_minor": 0
      },
      "text/plain": [
       "shard.00079.mds:   0%|          | 0.00/67.1M [00:00<?, ?B/s]"
      ]
     },
     "metadata": {},
     "output_type": "display_data"
    },
    {
     "data": {
      "application/vnd.jupyter.widget-view+json": {
       "model_id": "3cd6ac40221d47eabec9ba4f98031fba",
       "version_major": 2,
       "version_minor": 0
      },
      "text/plain": [
       "shard.00080.mds:   0%|          | 0.00/67.1M [00:00<?, ?B/s]"
      ]
     },
     "metadata": {},
     "output_type": "display_data"
    },
    {
     "data": {
      "application/vnd.jupyter.widget-view+json": {
       "model_id": "bc3b12858d5a447ab99fdda4b1515fee",
       "version_major": 2,
       "version_minor": 0
      },
      "text/plain": [
       "shard.00081.mds:   0%|          | 0.00/67.1M [00:00<?, ?B/s]"
      ]
     },
     "metadata": {},
     "output_type": "display_data"
    },
    {
     "data": {
      "application/vnd.jupyter.widget-view+json": {
       "model_id": "ef89ebc5637b48e8a900aa0a5ee1e447",
       "version_major": 2,
       "version_minor": 0
      },
      "text/plain": [
       "shard.00082.mds:   0%|          | 0.00/67.1M [00:00<?, ?B/s]"
      ]
     },
     "metadata": {},
     "output_type": "display_data"
    },
    {
     "data": {
      "application/vnd.jupyter.widget-view+json": {
       "model_id": "952de29dfd854ad18b8aa223458b6ed9",
       "version_major": 2,
       "version_minor": 0
      },
      "text/plain": [
       "shard.00083.mds:   0%|          | 0.00/67.1M [00:00<?, ?B/s]"
      ]
     },
     "metadata": {},
     "output_type": "display_data"
    },
    {
     "data": {
      "application/vnd.jupyter.widget-view+json": {
       "model_id": "607257c6d9f946eb83918302961e53af",
       "version_major": 2,
       "version_minor": 0
      },
      "text/plain": [
       "shard.00084.mds:   0%|          | 0.00/67.1M [00:00<?, ?B/s]"
      ]
     },
     "metadata": {},
     "output_type": "display_data"
    },
    {
     "data": {
      "application/vnd.jupyter.widget-view+json": {
       "model_id": "908c41482eff46a7918ae1e22431bdf3",
       "version_major": 2,
       "version_minor": 0
      },
      "text/plain": [
       "shard.00085.mds:   0%|          | 0.00/67.1M [00:00<?, ?B/s]"
      ]
     },
     "metadata": {},
     "output_type": "display_data"
    },
    {
     "data": {
      "application/vnd.jupyter.widget-view+json": {
       "model_id": "0cdd202008ad430cb0f9cfd23f6eb51c",
       "version_major": 2,
       "version_minor": 0
      },
      "text/plain": [
       "shard.00086.mds:   0%|          | 0.00/67.1M [00:00<?, ?B/s]"
      ]
     },
     "metadata": {},
     "output_type": "display_data"
    },
    {
     "data": {
      "application/vnd.jupyter.widget-view+json": {
       "model_id": "a58703eb72254b1187127b39a0852747",
       "version_major": 2,
       "version_minor": 0
      },
      "text/plain": [
       "shard.00087.mds:   0%|          | 0.00/67.1M [00:00<?, ?B/s]"
      ]
     },
     "metadata": {},
     "output_type": "display_data"
    },
    {
     "data": {
      "application/vnd.jupyter.widget-view+json": {
       "model_id": "8f7317403e274d8f93ec3508620acc47",
       "version_major": 2,
       "version_minor": 0
      },
      "text/plain": [
       "shard.00088.mds:   0%|          | 0.00/67.1M [00:00<?, ?B/s]"
      ]
     },
     "metadata": {},
     "output_type": "display_data"
    },
    {
     "data": {
      "application/vnd.jupyter.widget-view+json": {
       "model_id": "295f67abb65d41709a8013ec9f2250a0",
       "version_major": 2,
       "version_minor": 0
      },
      "text/plain": [
       "shard.00089.mds:   0%|          | 0.00/67.1M [00:00<?, ?B/s]"
      ]
     },
     "metadata": {},
     "output_type": "display_data"
    },
    {
     "data": {
      "application/vnd.jupyter.widget-view+json": {
       "model_id": "153723b0f48f4f838bdc210dada5ac11",
       "version_major": 2,
       "version_minor": 0
      },
      "text/plain": [
       "shard.00090.mds:   0%|          | 0.00/67.1M [00:00<?, ?B/s]"
      ]
     },
     "metadata": {},
     "output_type": "display_data"
    },
    {
     "data": {
      "application/vnd.jupyter.widget-view+json": {
       "model_id": "2f726dda921140fb91c193a8287c73e0",
       "version_major": 2,
       "version_minor": 0
      },
      "text/plain": [
       "shard.00091.mds:   0%|          | 0.00/67.1M [00:00<?, ?B/s]"
      ]
     },
     "metadata": {},
     "output_type": "display_data"
    },
    {
     "data": {
      "application/vnd.jupyter.widget-view+json": {
       "model_id": "b84060194e8142bca6620cf44fae40b1",
       "version_major": 2,
       "version_minor": 0
      },
      "text/plain": [
       "shard.00092.mds:   0%|          | 0.00/67.1M [00:00<?, ?B/s]"
      ]
     },
     "metadata": {},
     "output_type": "display_data"
    },
    {
     "data": {
      "application/vnd.jupyter.widget-view+json": {
       "model_id": "3d4c8b62edaa45b48650ec91dc961d5b",
       "version_major": 2,
       "version_minor": 0
      },
      "text/plain": [
       "shard.00093.mds:   0%|          | 0.00/67.1M [00:00<?, ?B/s]"
      ]
     },
     "metadata": {},
     "output_type": "display_data"
    },
    {
     "data": {
      "application/vnd.jupyter.widget-view+json": {
       "model_id": "3b16e32e5ead4940805309025b3d2fc4",
       "version_major": 2,
       "version_minor": 0
      },
      "text/plain": [
       "shard.00094.mds:   0%|          | 0.00/67.1M [00:00<?, ?B/s]"
      ]
     },
     "metadata": {},
     "output_type": "display_data"
    },
    {
     "data": {
      "application/vnd.jupyter.widget-view+json": {
       "model_id": "c6a79898771c456783bbace35e3dcab0",
       "version_major": 2,
       "version_minor": 0
      },
      "text/plain": [
       "shard.00095.mds:   0%|          | 0.00/67.1M [00:00<?, ?B/s]"
      ]
     },
     "metadata": {},
     "output_type": "display_data"
    },
    {
     "data": {
      "application/vnd.jupyter.widget-view+json": {
       "model_id": "eccf41e2ce1b4d529cde9c40ca4f39ad",
       "version_major": 2,
       "version_minor": 0
      },
      "text/plain": [
       "shard.00096.mds:   0%|          | 0.00/67.1M [00:00<?, ?B/s]"
      ]
     },
     "metadata": {},
     "output_type": "display_data"
    },
    {
     "data": {
      "application/vnd.jupyter.widget-view+json": {
       "model_id": "ce0ccc96d77c4fc895c6e38fdf875c90",
       "version_major": 2,
       "version_minor": 0
      },
      "text/plain": [
       "shard.00098.mds:   0%|          | 0.00/67.1M [00:00<?, ?B/s]"
      ]
     },
     "metadata": {},
     "output_type": "display_data"
    },
    {
     "data": {
      "application/vnd.jupyter.widget-view+json": {
       "model_id": "5279d8152d6e4b208b749fea66d196df",
       "version_major": 2,
       "version_minor": 0
      },
      "text/plain": [
       "shard.00097.mds:   0%|          | 0.00/67.1M [00:00<?, ?B/s]"
      ]
     },
     "metadata": {},
     "output_type": "display_data"
    },
    {
     "data": {
      "application/vnd.jupyter.widget-view+json": {
       "model_id": "c2836d1c4e4944f89450fbdc9c44a2ae",
       "version_major": 2,
       "version_minor": 0
      },
      "text/plain": [
       "shard.00099.mds:   0%|          | 0.00/67.1M [00:00<?, ?B/s]"
      ]
     },
     "metadata": {},
     "output_type": "display_data"
    },
    {
     "data": {
      "application/vnd.jupyter.widget-view+json": {
       "model_id": "ca83b1d922bc45039d45f5c40e129062",
       "version_major": 2,
       "version_minor": 0
      },
      "text/plain": [
       "shard.00100.mds:   0%|          | 0.00/67.1M [00:00<?, ?B/s]"
      ]
     },
     "metadata": {},
     "output_type": "display_data"
    },
    {
     "data": {
      "application/vnd.jupyter.widget-view+json": {
       "model_id": "3b116f2780b14ea3816a5501c5f47110",
       "version_major": 2,
       "version_minor": 0
      },
      "text/plain": [
       "shard.00101.mds:   0%|          | 0.00/67.1M [00:00<?, ?B/s]"
      ]
     },
     "metadata": {},
     "output_type": "display_data"
    },
    {
     "data": {
      "application/vnd.jupyter.widget-view+json": {
       "model_id": "7425c6497cd3455986947c6dd8ec8733",
       "version_major": 2,
       "version_minor": 0
      },
      "text/plain": [
       "shard.00102.mds:   0%|          | 0.00/67.1M [00:00<?, ?B/s]"
      ]
     },
     "metadata": {},
     "output_type": "display_data"
    },
    {
     "data": {
      "application/vnd.jupyter.widget-view+json": {
       "model_id": "661de70f801a4b828b00d46d28335149",
       "version_major": 2,
       "version_minor": 0
      },
      "text/plain": [
       "shard.00103.mds:   0%|          | 0.00/67.1M [00:00<?, ?B/s]"
      ]
     },
     "metadata": {},
     "output_type": "display_data"
    },
    {
     "data": {
      "application/vnd.jupyter.widget-view+json": {
       "model_id": "ea51b7d5e7414cd18715a4bf5c4c7c88",
       "version_major": 2,
       "version_minor": 0
      },
      "text/plain": [
       "shard.00104.mds:   0%|          | 0.00/67.1M [00:00<?, ?B/s]"
      ]
     },
     "metadata": {},
     "output_type": "display_data"
    },
    {
     "data": {
      "application/vnd.jupyter.widget-view+json": {
       "model_id": "327c41eadbec4588ae10220424062c39",
       "version_major": 2,
       "version_minor": 0
      },
      "text/plain": [
       "shard.00105.mds:   0%|          | 0.00/67.1M [00:00<?, ?B/s]"
      ]
     },
     "metadata": {},
     "output_type": "display_data"
    },
    {
     "data": {
      "application/vnd.jupyter.widget-view+json": {
       "model_id": "557e457eea514eefa3752b237234b1a3",
       "version_major": 2,
       "version_minor": 0
      },
      "text/plain": [
       "shard.00106.mds:   0%|          | 0.00/67.1M [00:00<?, ?B/s]"
      ]
     },
     "metadata": {},
     "output_type": "display_data"
    },
    {
     "data": {
      "application/vnd.jupyter.widget-view+json": {
       "model_id": "77801874bf374cd5b0dc96af2c9e2836",
       "version_major": 2,
       "version_minor": 0
      },
      "text/plain": [
       "shard.00107.mds:   0%|          | 0.00/67.1M [00:00<?, ?B/s]"
      ]
     },
     "metadata": {},
     "output_type": "display_data"
    },
    {
     "data": {
      "application/vnd.jupyter.widget-view+json": {
       "model_id": "efee5e3855d74b70b2e81fff116cab27",
       "version_major": 2,
       "version_minor": 0
      },
      "text/plain": [
       "shard.00108.mds:   0%|          | 0.00/67.1M [00:00<?, ?B/s]"
      ]
     },
     "metadata": {},
     "output_type": "display_data"
    },
    {
     "data": {
      "application/vnd.jupyter.widget-view+json": {
       "model_id": "95d5d7b8568643bbb59e14ebce0a4337",
       "version_major": 2,
       "version_minor": 0
      },
      "text/plain": [
       "shard.00109.mds:   0%|          | 0.00/67.1M [00:00<?, ?B/s]"
      ]
     },
     "metadata": {},
     "output_type": "display_data"
    },
    {
     "data": {
      "application/vnd.jupyter.widget-view+json": {
       "model_id": "aa700cdc8dc345cc997486b2b081788d",
       "version_major": 2,
       "version_minor": 0
      },
      "text/plain": [
       "shard.00110.mds:   0%|          | 0.00/67.1M [00:00<?, ?B/s]"
      ]
     },
     "metadata": {},
     "output_type": "display_data"
    },
    {
     "data": {
      "application/vnd.jupyter.widget-view+json": {
       "model_id": "2f5b0ed726cd44f1bf6b14bac9b8438a",
       "version_major": 2,
       "version_minor": 0
      },
      "text/plain": [
       "shard.00111.mds:   0%|          | 0.00/67.1M [00:00<?, ?B/s]"
      ]
     },
     "metadata": {},
     "output_type": "display_data"
    },
    {
     "data": {
      "application/vnd.jupyter.widget-view+json": {
       "model_id": "8c0d59feeb4a492289a847ef224f0277",
       "version_major": 2,
       "version_minor": 0
      },
      "text/plain": [
       "shard.00112.mds:   0%|          | 0.00/67.1M [00:00<?, ?B/s]"
      ]
     },
     "metadata": {},
     "output_type": "display_data"
    },
    {
     "data": {
      "application/vnd.jupyter.widget-view+json": {
       "model_id": "38f93c409909479892a77486cc698c97",
       "version_major": 2,
       "version_minor": 0
      },
      "text/plain": [
       "shard.00113.mds:   0%|          | 0.00/67.1M [00:00<?, ?B/s]"
      ]
     },
     "metadata": {},
     "output_type": "display_data"
    },
    {
     "data": {
      "application/vnd.jupyter.widget-view+json": {
       "model_id": "f023f14fa9bc4ca7ae51c17e36c90d48",
       "version_major": 2,
       "version_minor": 0
      },
      "text/plain": [
       "shard.00114.mds:   0%|          | 0.00/67.1M [00:00<?, ?B/s]"
      ]
     },
     "metadata": {},
     "output_type": "display_data"
    },
    {
     "data": {
      "application/vnd.jupyter.widget-view+json": {
       "model_id": "75a0dfc63cef4cc987d247561ba54615",
       "version_major": 2,
       "version_minor": 0
      },
      "text/plain": [
       "shard.00115.mds:   0%|          | 0.00/67.1M [00:00<?, ?B/s]"
      ]
     },
     "metadata": {},
     "output_type": "display_data"
    },
    {
     "data": {
      "application/vnd.jupyter.widget-view+json": {
       "model_id": "610d5e4b61664910b0b6e7c02d91fa0d",
       "version_major": 2,
       "version_minor": 0
      },
      "text/plain": [
       "shard.00116.mds:   0%|          | 0.00/67.1M [00:00<?, ?B/s]"
      ]
     },
     "metadata": {},
     "output_type": "display_data"
    },
    {
     "data": {
      "application/vnd.jupyter.widget-view+json": {
       "model_id": "f297b0abe3b0453b934e15affbbb388f",
       "version_major": 2,
       "version_minor": 0
      },
      "text/plain": [
       "shard.00117.mds:   0%|          | 0.00/67.1M [00:00<?, ?B/s]"
      ]
     },
     "metadata": {},
     "output_type": "display_data"
    },
    {
     "data": {
      "application/vnd.jupyter.widget-view+json": {
       "model_id": "8471ba1c4f1f4d4094f71135d0b68dbb",
       "version_major": 2,
       "version_minor": 0
      },
      "text/plain": [
       "shard.00118.mds:   0%|          | 0.00/67.1M [00:00<?, ?B/s]"
      ]
     },
     "metadata": {},
     "output_type": "display_data"
    },
    {
     "data": {
      "application/vnd.jupyter.widget-view+json": {
       "model_id": "62eff34d20c643e88601dc63f28ebf71",
       "version_major": 2,
       "version_minor": 0
      },
      "text/plain": [
       "shard.00119.mds:   0%|          | 0.00/67.1M [00:00<?, ?B/s]"
      ]
     },
     "metadata": {},
     "output_type": "display_data"
    },
    {
     "data": {
      "application/vnd.jupyter.widget-view+json": {
       "model_id": "47927d28f1014156a528b6e479f37a26",
       "version_major": 2,
       "version_minor": 0
      },
      "text/plain": [
       "shard.00120.mds:   0%|          | 0.00/67.1M [00:00<?, ?B/s]"
      ]
     },
     "metadata": {},
     "output_type": "display_data"
    },
    {
     "data": {
      "application/vnd.jupyter.widget-view+json": {
       "model_id": "1a77cabd06454f799ce6ce43532f9893",
       "version_major": 2,
       "version_minor": 0
      },
      "text/plain": [
       "shard.00121.mds:   0%|          | 0.00/67.1M [00:00<?, ?B/s]"
      ]
     },
     "metadata": {},
     "output_type": "display_data"
    },
    {
     "data": {
      "application/vnd.jupyter.widget-view+json": {
       "model_id": "c56526894471466691b782356346f235",
       "version_major": 2,
       "version_minor": 0
      },
      "text/plain": [
       "shard.00122.mds:   0%|          | 0.00/67.1M [00:00<?, ?B/s]"
      ]
     },
     "metadata": {},
     "output_type": "display_data"
    },
    {
     "data": {
      "application/vnd.jupyter.widget-view+json": {
       "model_id": "a1d1083f927842fb9a0783f3ac4c9139",
       "version_major": 2,
       "version_minor": 0
      },
      "text/plain": [
       "shard.00123.mds:   0%|          | 0.00/67.1M [00:00<?, ?B/s]"
      ]
     },
     "metadata": {},
     "output_type": "display_data"
    },
    {
     "data": {
      "application/vnd.jupyter.widget-view+json": {
       "model_id": "5d6be85930ad437ea3032b8fa052d332",
       "version_major": 2,
       "version_minor": 0
      },
      "text/plain": [
       "shard.00124.mds:   0%|          | 0.00/67.1M [00:00<?, ?B/s]"
      ]
     },
     "metadata": {},
     "output_type": "display_data"
    },
    {
     "data": {
      "application/vnd.jupyter.widget-view+json": {
       "model_id": "812a1ac7fb3943ac8df1617535fb64d1",
       "version_major": 2,
       "version_minor": 0
      },
      "text/plain": [
       "shard.00125.mds:   0%|          | 0.00/67.1M [00:00<?, ?B/s]"
      ]
     },
     "metadata": {},
     "output_type": "display_data"
    },
    {
     "data": {
      "application/vnd.jupyter.widget-view+json": {
       "model_id": "1b08194ad2d64c1f8f1cc2df1f1460d4",
       "version_major": 2,
       "version_minor": 0
      },
      "text/plain": [
       "shard.00126.mds:   0%|          | 0.00/67.1M [00:00<?, ?B/s]"
      ]
     },
     "metadata": {},
     "output_type": "display_data"
    },
    {
     "data": {
      "application/vnd.jupyter.widget-view+json": {
       "model_id": "daf121dd02004a21bee216a29ff4518b",
       "version_major": 2,
       "version_minor": 0
      },
      "text/plain": [
       "shard.00127.mds:   0%|          | 0.00/67.1M [00:00<?, ?B/s]"
      ]
     },
     "metadata": {},
     "output_type": "display_data"
    },
    {
     "data": {
      "application/vnd.jupyter.widget-view+json": {
       "model_id": "d1b943806a444ebf926b590b0d2b2179",
       "version_major": 2,
       "version_minor": 0
      },
      "text/plain": [
       "shard.00128.mds:   0%|          | 0.00/67.1M [00:00<?, ?B/s]"
      ]
     },
     "metadata": {},
     "output_type": "display_data"
    },
    {
     "data": {
      "application/vnd.jupyter.widget-view+json": {
       "model_id": "5c36893dadc34e679a602292d05b9b94",
       "version_major": 2,
       "version_minor": 0
      },
      "text/plain": [
       "shard.00129.mds:   0%|          | 0.00/67.1M [00:00<?, ?B/s]"
      ]
     },
     "metadata": {},
     "output_type": "display_data"
    },
    {
     "data": {
      "application/vnd.jupyter.widget-view+json": {
       "model_id": "7f3faa561fb84fedb98a887d15877121",
       "version_major": 2,
       "version_minor": 0
      },
      "text/plain": [
       "shard.00130.mds:   0%|          | 0.00/67.1M [00:00<?, ?B/s]"
      ]
     },
     "metadata": {},
     "output_type": "display_data"
    },
    {
     "data": {
      "application/vnd.jupyter.widget-view+json": {
       "model_id": "efc935bea6964dc9b925e1c75de4c78e",
       "version_major": 2,
       "version_minor": 0
      },
      "text/plain": [
       "shard.00131.mds:   0%|          | 0.00/67.1M [00:00<?, ?B/s]"
      ]
     },
     "metadata": {},
     "output_type": "display_data"
    },
    {
     "data": {
      "application/vnd.jupyter.widget-view+json": {
       "model_id": "9a4df99117e94073a724133fad2c236a",
       "version_major": 2,
       "version_minor": 0
      },
      "text/plain": [
       "shard.00132.mds:   0%|          | 0.00/67.1M [00:00<?, ?B/s]"
      ]
     },
     "metadata": {},
     "output_type": "display_data"
    },
    {
     "data": {
      "application/vnd.jupyter.widget-view+json": {
       "model_id": "829c2461417b4ff795bb934dc2c34b2d",
       "version_major": 2,
       "version_minor": 0
      },
      "text/plain": [
       "shard.00133.mds:   0%|          | 0.00/67.1M [00:00<?, ?B/s]"
      ]
     },
     "metadata": {},
     "output_type": "display_data"
    },
    {
     "data": {
      "application/vnd.jupyter.widget-view+json": {
       "model_id": "ca4f1c30e6d14a6aa40b15c6aad99b62",
       "version_major": 2,
       "version_minor": 0
      },
      "text/plain": [
       "shard.00134.mds:   0%|          | 0.00/67.1M [00:00<?, ?B/s]"
      ]
     },
     "metadata": {},
     "output_type": "display_data"
    },
    {
     "data": {
      "application/vnd.jupyter.widget-view+json": {
       "model_id": "24fe2f3829214366b1462702cd9b4bc2",
       "version_major": 2,
       "version_minor": 0
      },
      "text/plain": [
       "shard.00135.mds:   0%|          | 0.00/67.1M [00:00<?, ?B/s]"
      ]
     },
     "metadata": {},
     "output_type": "display_data"
    },
    {
     "data": {
      "application/vnd.jupyter.widget-view+json": {
       "model_id": "8dff7ee2f3dd4b03a59e61c14148ce3f",
       "version_major": 2,
       "version_minor": 0
      },
      "text/plain": [
       "shard.00136.mds:   0%|          | 0.00/67.1M [00:00<?, ?B/s]"
      ]
     },
     "metadata": {},
     "output_type": "display_data"
    },
    {
     "data": {
      "application/vnd.jupyter.widget-view+json": {
       "model_id": "531ed7553f36407e9f55e2a63c7a2691",
       "version_major": 2,
       "version_minor": 0
      },
      "text/plain": [
       "shard.00137.mds:   0%|          | 0.00/67.1M [00:00<?, ?B/s]"
      ]
     },
     "metadata": {},
     "output_type": "display_data"
    },
    {
     "data": {
      "application/vnd.jupyter.widget-view+json": {
       "model_id": "3ec751d091ab43d2ba2e4d04c3b9e967",
       "version_major": 2,
       "version_minor": 0
      },
      "text/plain": [
       "shard.00138.mds:   0%|          | 0.00/67.1M [00:00<?, ?B/s]"
      ]
     },
     "metadata": {},
     "output_type": "display_data"
    },
    {
     "data": {
      "application/vnd.jupyter.widget-view+json": {
       "model_id": "6388445758b245a0a912b30a4f2eda98",
       "version_major": 2,
       "version_minor": 0
      },
      "text/plain": [
       "shard.00139.mds:   0%|          | 0.00/67.1M [00:00<?, ?B/s]"
      ]
     },
     "metadata": {},
     "output_type": "display_data"
    },
    {
     "data": {
      "application/vnd.jupyter.widget-view+json": {
       "model_id": "f5df209878d746bba4cce75507509f32",
       "version_major": 2,
       "version_minor": 0
      },
      "text/plain": [
       "shard.00140.mds:   0%|          | 0.00/67.1M [00:00<?, ?B/s]"
      ]
     },
     "metadata": {},
     "output_type": "display_data"
    },
    {
     "data": {
      "application/vnd.jupyter.widget-view+json": {
       "model_id": "cf4fbbe9b8424d21b2a17e88faeb100b",
       "version_major": 2,
       "version_minor": 0
      },
      "text/plain": [
       "shard.00141.mds:   0%|          | 0.00/67.1M [00:00<?, ?B/s]"
      ]
     },
     "metadata": {},
     "output_type": "display_data"
    },
    {
     "data": {
      "application/vnd.jupyter.widget-view+json": {
       "model_id": "e73270b7cea44f70a42bf8972fae95d2",
       "version_major": 2,
       "version_minor": 0
      },
      "text/plain": [
       "shard.00142.mds:   0%|          | 0.00/67.1M [00:00<?, ?B/s]"
      ]
     },
     "metadata": {},
     "output_type": "display_data"
    },
    {
     "data": {
      "application/vnd.jupyter.widget-view+json": {
       "model_id": "dd3e042c00d74fe3bf3e1a654f0ccfe2",
       "version_major": 2,
       "version_minor": 0
      },
      "text/plain": [
       "shard.00143.mds:   0%|          | 0.00/67.1M [00:00<?, ?B/s]"
      ]
     },
     "metadata": {},
     "output_type": "display_data"
    },
    {
     "data": {
      "application/vnd.jupyter.widget-view+json": {
       "model_id": "e42b4382ec654f3b9dcfb17eba483d1b",
       "version_major": 2,
       "version_minor": 0
      },
      "text/plain": [
       "shard.00144.mds:   0%|          | 0.00/67.1M [00:00<?, ?B/s]"
      ]
     },
     "metadata": {},
     "output_type": "display_data"
    },
    {
     "data": {
      "application/vnd.jupyter.widget-view+json": {
       "model_id": "555361df48dc427c806b4654e9a4e838",
       "version_major": 2,
       "version_minor": 0
      },
      "text/plain": [
       "shard.00145.mds:   0%|          | 0.00/67.1M [00:00<?, ?B/s]"
      ]
     },
     "metadata": {},
     "output_type": "display_data"
    },
    {
     "data": {
      "application/vnd.jupyter.widget-view+json": {
       "model_id": "d6e542a551b9408ba1609da36001ca3b",
       "version_major": 2,
       "version_minor": 0
      },
      "text/plain": [
       "shard.00146.mds:   0%|          | 0.00/67.1M [00:00<?, ?B/s]"
      ]
     },
     "metadata": {},
     "output_type": "display_data"
    },
    {
     "data": {
      "application/vnd.jupyter.widget-view+json": {
       "model_id": "9f16c2944d75406db5ae134485264884",
       "version_major": 2,
       "version_minor": 0
      },
      "text/plain": [
       "shard.00147.mds:   0%|          | 0.00/67.1M [00:00<?, ?B/s]"
      ]
     },
     "metadata": {},
     "output_type": "display_data"
    },
    {
     "data": {
      "application/vnd.jupyter.widget-view+json": {
       "model_id": "0a8e39cf29fc441281ff29104383a660",
       "version_major": 2,
       "version_minor": 0
      },
      "text/plain": [
       "shard.00148.mds:   0%|          | 0.00/67.1M [00:00<?, ?B/s]"
      ]
     },
     "metadata": {},
     "output_type": "display_data"
    },
    {
     "data": {
      "application/vnd.jupyter.widget-view+json": {
       "model_id": "f1d4cd02054a487eb6b42896b1221218",
       "version_major": 2,
       "version_minor": 0
      },
      "text/plain": [
       "shard.00149.mds:   0%|          | 0.00/67.1M [00:00<?, ?B/s]"
      ]
     },
     "metadata": {},
     "output_type": "display_data"
    },
    {
     "data": {
      "application/vnd.jupyter.widget-view+json": {
       "model_id": "2da88e37c4d249d886e3d8f9bea69a4c",
       "version_major": 2,
       "version_minor": 0
      },
      "text/plain": [
       "shard.00150.mds:   0%|          | 0.00/67.1M [00:00<?, ?B/s]"
      ]
     },
     "metadata": {},
     "output_type": "display_data"
    },
    {
     "data": {
      "application/vnd.jupyter.widget-view+json": {
       "model_id": "5ea624c7445546a8a572f38d2dfe353c",
       "version_major": 2,
       "version_minor": 0
      },
      "text/plain": [
       "shard.00151.mds:   0%|          | 0.00/67.1M [00:00<?, ?B/s]"
      ]
     },
     "metadata": {},
     "output_type": "display_data"
    },
    {
     "data": {
      "application/vnd.jupyter.widget-view+json": {
       "model_id": "818f5516c5b649788916fb45295fb5d3",
       "version_major": 2,
       "version_minor": 0
      },
      "text/plain": [
       "shard.00152.mds:   0%|          | 0.00/67.1M [00:00<?, ?B/s]"
      ]
     },
     "metadata": {},
     "output_type": "display_data"
    },
    {
     "data": {
      "application/vnd.jupyter.widget-view+json": {
       "model_id": "8777a84014a44d75b5100146e2479c51",
       "version_major": 2,
       "version_minor": 0
      },
      "text/plain": [
       "shard.00153.mds:   0%|          | 0.00/67.1M [00:00<?, ?B/s]"
      ]
     },
     "metadata": {},
     "output_type": "display_data"
    },
    {
     "data": {
      "application/vnd.jupyter.widget-view+json": {
       "model_id": "0e58e3fead2642df9e8c15b3fab59ff7",
       "version_major": 2,
       "version_minor": 0
      },
      "text/plain": [
       "shard.00154.mds:   0%|          | 0.00/67.1M [00:00<?, ?B/s]"
      ]
     },
     "metadata": {},
     "output_type": "display_data"
    },
    {
     "data": {
      "application/vnd.jupyter.widget-view+json": {
       "model_id": "aa6c3b4b0b5b4c6aae02dfb9216d9ef1",
       "version_major": 2,
       "version_minor": 0
      },
      "text/plain": [
       "shard.00155.mds:   0%|          | 0.00/67.1M [00:00<?, ?B/s]"
      ]
     },
     "metadata": {},
     "output_type": "display_data"
    },
    {
     "data": {
      "application/vnd.jupyter.widget-view+json": {
       "model_id": "5b4f857acf2e4816ae9f820c0c00063f",
       "version_major": 2,
       "version_minor": 0
      },
      "text/plain": [
       "shard.00156.mds:   0%|          | 0.00/67.1M [00:00<?, ?B/s]"
      ]
     },
     "metadata": {},
     "output_type": "display_data"
    },
    {
     "data": {
      "application/vnd.jupyter.widget-view+json": {
       "model_id": "346c72a0ed564ce3a88f9fd982dd9e8c",
       "version_major": 2,
       "version_minor": 0
      },
      "text/plain": [
       "shard.00157.mds:   0%|          | 0.00/67.1M [00:00<?, ?B/s]"
      ]
     },
     "metadata": {},
     "output_type": "display_data"
    },
    {
     "data": {
      "application/vnd.jupyter.widget-view+json": {
       "model_id": "30fac5a727a04487bbf66fa856044712",
       "version_major": 2,
       "version_minor": 0
      },
      "text/plain": [
       "shard.00158.mds:   0%|          | 0.00/67.1M [00:00<?, ?B/s]"
      ]
     },
     "metadata": {},
     "output_type": "display_data"
    },
    {
     "data": {
      "application/vnd.jupyter.widget-view+json": {
       "model_id": "c3a5af448eff4f55902d4eb92ee61b01",
       "version_major": 2,
       "version_minor": 0
      },
      "text/plain": [
       "shard.00159.mds:   0%|          | 0.00/67.1M [00:00<?, ?B/s]"
      ]
     },
     "metadata": {},
     "output_type": "display_data"
    },
    {
     "data": {
      "application/vnd.jupyter.widget-view+json": {
       "model_id": "ce96426010814e4bb35da3f5c1b55c6a",
       "version_major": 2,
       "version_minor": 0
      },
      "text/plain": [
       "shard.00160.mds:   0%|          | 0.00/67.1M [00:00<?, ?B/s]"
      ]
     },
     "metadata": {},
     "output_type": "display_data"
    },
    {
     "data": {
      "application/vnd.jupyter.widget-view+json": {
       "model_id": "1ce5e30de79e4b4abc2b8f86c0c0dc25",
       "version_major": 2,
       "version_minor": 0
      },
      "text/plain": [
       "shard.00161.mds:   0%|          | 0.00/67.1M [00:00<?, ?B/s]"
      ]
     },
     "metadata": {},
     "output_type": "display_data"
    },
    {
     "data": {
      "application/vnd.jupyter.widget-view+json": {
       "model_id": "2be8740e55ed498cafd196674c5a5253",
       "version_major": 2,
       "version_minor": 0
      },
      "text/plain": [
       "shard.00162.mds:   0%|          | 0.00/67.1M [00:00<?, ?B/s]"
      ]
     },
     "metadata": {},
     "output_type": "display_data"
    },
    {
     "data": {
      "application/vnd.jupyter.widget-view+json": {
       "model_id": "5ce01cbe35f34f03af2e3f14105377cb",
       "version_major": 2,
       "version_minor": 0
      },
      "text/plain": [
       "shard.00163.mds:   0%|          | 0.00/67.1M [00:00<?, ?B/s]"
      ]
     },
     "metadata": {},
     "output_type": "display_data"
    },
    {
     "data": {
      "application/vnd.jupyter.widget-view+json": {
       "model_id": "c25858885f1e4095968ba9f02f78bdf8",
       "version_major": 2,
       "version_minor": 0
      },
      "text/plain": [
       "shard.00164.mds:   0%|          | 0.00/67.1M [00:00<?, ?B/s]"
      ]
     },
     "metadata": {},
     "output_type": "display_data"
    },
    {
     "data": {
      "application/vnd.jupyter.widget-view+json": {
       "model_id": "71c67521dd89451580ffd27e58fb0fc4",
       "version_major": 2,
       "version_minor": 0
      },
      "text/plain": [
       "shard.00165.mds:   0%|          | 0.00/67.1M [00:00<?, ?B/s]"
      ]
     },
     "metadata": {},
     "output_type": "display_data"
    },
    {
     "data": {
      "application/vnd.jupyter.widget-view+json": {
       "model_id": "0d63e04b99fc43158c768ebd51bc10e4",
       "version_major": 2,
       "version_minor": 0
      },
      "text/plain": [
       "shard.00166.mds:   0%|          | 0.00/67.1M [00:00<?, ?B/s]"
      ]
     },
     "metadata": {},
     "output_type": "display_data"
    },
    {
     "data": {
      "application/vnd.jupyter.widget-view+json": {
       "model_id": "65133a0158374001b07308bef65f3361",
       "version_major": 2,
       "version_minor": 0
      },
      "text/plain": [
       "shard.00167.mds:   0%|          | 0.00/67.1M [00:00<?, ?B/s]"
      ]
     },
     "metadata": {},
     "output_type": "display_data"
    },
    {
     "data": {
      "application/vnd.jupyter.widget-view+json": {
       "model_id": "b06d94e2f869415f9cdbfa62f527b0e9",
       "version_major": 2,
       "version_minor": 0
      },
      "text/plain": [
       "shard.00168.mds:   0%|          | 0.00/67.1M [00:00<?, ?B/s]"
      ]
     },
     "metadata": {},
     "output_type": "display_data"
    },
    {
     "data": {
      "application/vnd.jupyter.widget-view+json": {
       "model_id": "d38c35cd14fc461a8e6aad0bc4476232",
       "version_major": 2,
       "version_minor": 0
      },
      "text/plain": [
       "shard.00169.mds:   0%|          | 0.00/67.1M [00:00<?, ?B/s]"
      ]
     },
     "metadata": {},
     "output_type": "display_data"
    },
    {
     "data": {
      "application/vnd.jupyter.widget-view+json": {
       "model_id": "e35b6afa459a49e4b646dc31957b765b",
       "version_major": 2,
       "version_minor": 0
      },
      "text/plain": [
       "shard.00170.mds:   0%|          | 0.00/67.1M [00:00<?, ?B/s]"
      ]
     },
     "metadata": {},
     "output_type": "display_data"
    },
    {
     "data": {
      "application/vnd.jupyter.widget-view+json": {
       "model_id": "f9f239da6e374879b7e2e29c090b9a77",
       "version_major": 2,
       "version_minor": 0
      },
      "text/plain": [
       "shard.00171.mds:   0%|          | 0.00/67.1M [00:00<?, ?B/s]"
      ]
     },
     "metadata": {},
     "output_type": "display_data"
    },
    {
     "data": {
      "application/vnd.jupyter.widget-view+json": {
       "model_id": "22698e40d1b64a5e8c48b45b972d74ad",
       "version_major": 2,
       "version_minor": 0
      },
      "text/plain": [
       "shard.00172.mds:   0%|          | 0.00/67.1M [00:00<?, ?B/s]"
      ]
     },
     "metadata": {},
     "output_type": "display_data"
    },
    {
     "data": {
      "application/vnd.jupyter.widget-view+json": {
       "model_id": "fdfbb3d64d21456e87ebac47bf6f6868",
       "version_major": 2,
       "version_minor": 0
      },
      "text/plain": [
       "shard.00173.mds:   0%|          | 0.00/67.1M [00:00<?, ?B/s]"
      ]
     },
     "metadata": {},
     "output_type": "display_data"
    },
    {
     "data": {
      "application/vnd.jupyter.widget-view+json": {
       "model_id": "2e6cc59e84b34798845650280bba9f71",
       "version_major": 2,
       "version_minor": 0
      },
      "text/plain": [
       "shard.00174.mds:   0%|          | 0.00/67.1M [00:00<?, ?B/s]"
      ]
     },
     "metadata": {},
     "output_type": "display_data"
    },
    {
     "data": {
      "application/vnd.jupyter.widget-view+json": {
       "model_id": "49e27deb949d44f9800c3248a4d31ed2",
       "version_major": 2,
       "version_minor": 0
      },
      "text/plain": [
       "shard.00175.mds:   0%|          | 0.00/67.1M [00:00<?, ?B/s]"
      ]
     },
     "metadata": {},
     "output_type": "display_data"
    },
    {
     "data": {
      "application/vnd.jupyter.widget-view+json": {
       "model_id": "4f4a35ba9d6642acb3f9eccf7f417012",
       "version_major": 2,
       "version_minor": 0
      },
      "text/plain": [
       "shard.00176.mds:   0%|          | 0.00/67.1M [00:00<?, ?B/s]"
      ]
     },
     "metadata": {},
     "output_type": "display_data"
    },
    {
     "data": {
      "application/vnd.jupyter.widget-view+json": {
       "model_id": "1918e3f426cb498380f52cbf5e6f9e16",
       "version_major": 2,
       "version_minor": 0
      },
      "text/plain": [
       "shard.00177.mds:   0%|          | 0.00/67.1M [00:00<?, ?B/s]"
      ]
     },
     "metadata": {},
     "output_type": "display_data"
    },
    {
     "data": {
      "application/vnd.jupyter.widget-view+json": {
       "model_id": "0693a06ba05841aa851ee668ce9c06ef",
       "version_major": 2,
       "version_minor": 0
      },
      "text/plain": [
       "shard.00178.mds:   0%|          | 0.00/67.1M [00:00<?, ?B/s]"
      ]
     },
     "metadata": {},
     "output_type": "display_data"
    },
    {
     "data": {
      "application/vnd.jupyter.widget-view+json": {
       "model_id": "0e4a984cad7d49dfadd966697ee679dc",
       "version_major": 2,
       "version_minor": 0
      },
      "text/plain": [
       "shard.00179.mds:   0%|          | 0.00/67.1M [00:00<?, ?B/s]"
      ]
     },
     "metadata": {},
     "output_type": "display_data"
    },
    {
     "data": {
      "application/vnd.jupyter.widget-view+json": {
       "model_id": "7cac949ffaef443a9b792e6ae30d9bff",
       "version_major": 2,
       "version_minor": 0
      },
      "text/plain": [
       "shard.00180.mds:   0%|          | 0.00/67.1M [00:00<?, ?B/s]"
      ]
     },
     "metadata": {},
     "output_type": "display_data"
    },
    {
     "data": {
      "application/vnd.jupyter.widget-view+json": {
       "model_id": "0ac80b4f76d449dba56060ae81f3ca99",
       "version_major": 2,
       "version_minor": 0
      },
      "text/plain": [
       "shard.00181.mds:   0%|          | 0.00/67.1M [00:00<?, ?B/s]"
      ]
     },
     "metadata": {},
     "output_type": "display_data"
    },
    {
     "data": {
      "application/vnd.jupyter.widget-view+json": {
       "model_id": "42955286b9b147fda4eea0260cfe27ae",
       "version_major": 2,
       "version_minor": 0
      },
      "text/plain": [
       "shard.00182.mds:   0%|          | 0.00/67.1M [00:00<?, ?B/s]"
      ]
     },
     "metadata": {},
     "output_type": "display_data"
    },
    {
     "data": {
      "application/vnd.jupyter.widget-view+json": {
       "model_id": "48cd40e74ad7405d8d0c964ceb84fbd7",
       "version_major": 2,
       "version_minor": 0
      },
      "text/plain": [
       "shard.00183.mds:   0%|          | 0.00/67.1M [00:00<?, ?B/s]"
      ]
     },
     "metadata": {},
     "output_type": "display_data"
    },
    {
     "data": {
      "application/vnd.jupyter.widget-view+json": {
       "model_id": "60ef3413df0243efb2c0e3937d2fd6c4",
       "version_major": 2,
       "version_minor": 0
      },
      "text/plain": [
       "shard.00184.mds:   0%|          | 0.00/67.1M [00:00<?, ?B/s]"
      ]
     },
     "metadata": {},
     "output_type": "display_data"
    },
    {
     "data": {
      "application/vnd.jupyter.widget-view+json": {
       "model_id": "03593936a4b04d668e44a689d5280849",
       "version_major": 2,
       "version_minor": 0
      },
      "text/plain": [
       "shard.00185.mds:   0%|          | 0.00/67.1M [00:00<?, ?B/s]"
      ]
     },
     "metadata": {},
     "output_type": "display_data"
    },
    {
     "data": {
      "application/vnd.jupyter.widget-view+json": {
       "model_id": "11ea6d0a61f344389845e5c45014a317",
       "version_major": 2,
       "version_minor": 0
      },
      "text/plain": [
       "shard.00186.mds:   0%|          | 0.00/67.1M [00:00<?, ?B/s]"
      ]
     },
     "metadata": {},
     "output_type": "display_data"
    },
    {
     "data": {
      "application/vnd.jupyter.widget-view+json": {
       "model_id": "316bbdc8a0d74e2bbdd623b3b413dd45",
       "version_major": 2,
       "version_minor": 0
      },
      "text/plain": [
       "shard.00187.mds:   0%|          | 0.00/67.1M [00:00<?, ?B/s]"
      ]
     },
     "metadata": {},
     "output_type": "display_data"
    },
    {
     "data": {
      "application/vnd.jupyter.widget-view+json": {
       "model_id": "c578e24376e94f77af537ca02da04c8e",
       "version_major": 2,
       "version_minor": 0
      },
      "text/plain": [
       "shard.00188.mds:   0%|          | 0.00/67.1M [00:00<?, ?B/s]"
      ]
     },
     "metadata": {},
     "output_type": "display_data"
    },
    {
     "data": {
      "application/vnd.jupyter.widget-view+json": {
       "model_id": "24233b43a4474e5088da18d1f9781851",
       "version_major": 2,
       "version_minor": 0
      },
      "text/plain": [
       "shard.00189.mds:   0%|          | 0.00/67.1M [00:00<?, ?B/s]"
      ]
     },
     "metadata": {},
     "output_type": "display_data"
    },
    {
     "data": {
      "application/vnd.jupyter.widget-view+json": {
       "model_id": "1005839433284af4808054fc22a4f23e",
       "version_major": 2,
       "version_minor": 0
      },
      "text/plain": [
       "shard.00190.mds:   0%|          | 0.00/67.1M [00:00<?, ?B/s]"
      ]
     },
     "metadata": {},
     "output_type": "display_data"
    },
    {
     "data": {
      "application/vnd.jupyter.widget-view+json": {
       "model_id": "40aaf14e0e60474ab73298343b491aba",
       "version_major": 2,
       "version_minor": 0
      },
      "text/plain": [
       "shard.00191.mds:   0%|          | 0.00/67.1M [00:00<?, ?B/s]"
      ]
     },
     "metadata": {},
     "output_type": "display_data"
    },
    {
     "data": {
      "application/vnd.jupyter.widget-view+json": {
       "model_id": "7953d34c90e049b79946454ec334e9e7",
       "version_major": 2,
       "version_minor": 0
      },
      "text/plain": [
       "shard.00192.mds:   0%|          | 0.00/67.1M [00:00<?, ?B/s]"
      ]
     },
     "metadata": {},
     "output_type": "display_data"
    },
    {
     "data": {
      "application/vnd.jupyter.widget-view+json": {
       "model_id": "fcebfdb5d5064cdbb6239191fc26fc7b",
       "version_major": 2,
       "version_minor": 0
      },
      "text/plain": [
       "shard.00193.mds:   0%|          | 0.00/67.1M [00:00<?, ?B/s]"
      ]
     },
     "metadata": {},
     "output_type": "display_data"
    },
    {
     "data": {
      "application/vnd.jupyter.widget-view+json": {
       "model_id": "02d27ef206f94fb8b291a372a6db59c3",
       "version_major": 2,
       "version_minor": 0
      },
      "text/plain": [
       "shard.00194.mds:   0%|          | 0.00/67.1M [00:00<?, ?B/s]"
      ]
     },
     "metadata": {},
     "output_type": "display_data"
    },
    {
     "data": {
      "application/vnd.jupyter.widget-view+json": {
       "model_id": "a21e5d4bb57549518dbe652470d590b8",
       "version_major": 2,
       "version_minor": 0
      },
      "text/plain": [
       "shard.00195.mds:   0%|          | 0.00/67.1M [00:00<?, ?B/s]"
      ]
     },
     "metadata": {},
     "output_type": "display_data"
    },
    {
     "data": {
      "application/vnd.jupyter.widget-view+json": {
       "model_id": "57b374619b4b49b7a1204b1c792600f5",
       "version_major": 2,
       "version_minor": 0
      },
      "text/plain": [
       "shard.00196.mds:   0%|          | 0.00/67.1M [00:00<?, ?B/s]"
      ]
     },
     "metadata": {},
     "output_type": "display_data"
    },
    {
     "data": {
      "application/vnd.jupyter.widget-view+json": {
       "model_id": "a778d5f1e7e747e0aecb73e2ec35d1bb",
       "version_major": 2,
       "version_minor": 0
      },
      "text/plain": [
       "shard.00197.mds:   0%|          | 0.00/40.8M [00:00<?, ?B/s]"
      ]
     },
     "metadata": {},
     "output_type": "display_data"
    },
    {
     "data": {
      "text/plain": [
       "CommitInfo(commit_url='https://huggingface.co/datasets/mesolitica/google-image-malaysia-location-embedding/commit/d922a45ca33747d2f875707e4311bc9f3cf7644f', commit_message='Upload folder using huggingface_hub', commit_description='', oid='d922a45ca33747d2f875707e4311bc9f3cf7644f', pr_url=None, pr_revision=None, pr_num=None)"
      ]
     },
     "execution_count": 53,
     "metadata": {},
     "output_type": "execute_result"
    }
   ],
   "source": [
    "api.upload_folder(\n",
    "    folder_path='combine',\n",
    "    repo_id='mesolitica/google-image-malaysia-location-embedding',\n",
    "    repo_type='dataset',\n",
    ")"
   ]
  },
  {
   "cell_type": "code",
   "execution_count": 55,
   "id": "4a84e698",
   "metadata": {},
   "outputs": [
    {
     "data": {
      "application/vnd.jupyter.widget-view+json": {
       "model_id": "98f62099feda4fe8804d1a39fae4c687",
       "version_major": 2,
       "version_minor": 0
      },
      "text/plain": [
       "mapping-index.json:   0%|          | 0.00/183M [00:00<?, ?B/s]"
      ]
     },
     "metadata": {},
     "output_type": "display_data"
    },
    {
     "data": {
      "text/plain": [
       "CommitInfo(commit_url='https://huggingface.co/datasets/mesolitica/google-image-malaysia-location-embedding/commit/d40d4889c5f609295de99387b1c9ec22217217a2', commit_message='Upload mapping-index.json with huggingface_hub', commit_description='', oid='d40d4889c5f609295de99387b1c9ec22217217a2', pr_url=None, pr_revision=None, pr_num=None)"
      ]
     },
     "execution_count": 55,
     "metadata": {},
     "output_type": "execute_result"
    }
   ],
   "source": [
    "api.upload_file(\n",
    "    path_or_fileobj='mapping-index.json',\n",
    "    path_in_repo='mapping-index.json',\n",
    "    repo_id='mesolitica/google-image-malaysia-location-embedding',\n",
    "    repo_type='dataset',\n",
    ")"
   ]
  },
  {
   "cell_type": "code",
   "execution_count": null,
   "id": "5521dff3",
   "metadata": {},
   "outputs": [],
   "source": []
  }
 ],
 "metadata": {
  "kernelspec": {
   "display_name": "Python 3 (ipykernel)",
   "language": "python",
   "name": "python3"
  },
  "language_info": {
   "codemirror_mode": {
    "name": "ipython",
    "version": 3
   },
   "file_extension": ".py",
   "mimetype": "text/x-python",
   "name": "python",
   "nbconvert_exporter": "python",
   "pygments_lexer": "ipython3",
   "version": "3.10.12"
  }
 },
 "nbformat": 4,
 "nbformat_minor": 5
}
