{
 "cells": [
  {
   "cell_type": "code",
   "execution_count": 1,
   "id": "58134ef0",
   "metadata": {},
   "outputs": [],
   "source": [
    "from glob import glob\n",
    "import json"
   ]
  },
  {
   "cell_type": "code",
   "execution_count": 2,
   "id": "d234ee31",
   "metadata": {},
   "outputs": [
    {
     "data": {
      "text/plain": [
       "97287"
      ]
     },
     "execution_count": 2,
     "metadata": {},
     "output_type": "execute_result"
    }
   ],
   "source": [
    "files = glob('output-malaysia-vehicle/*.json')\n",
    "len(files)"
   ]
  },
  {
   "cell_type": "code",
   "execution_count": 3,
   "id": "f053bd2f",
   "metadata": {},
   "outputs": [],
   "source": [
    "with open(files[100]) as fopen:\n",
    "    d = json.load(fopen)"
   ]
  },
  {
   "cell_type": "code",
   "execution_count": 5,
   "id": "3059a8b3",
   "metadata": {},
   "outputs": [],
   "source": [
    "from streaming import MDSWriter\n",
    "from streaming.base.format.mds.encodings import Encoding, _encodings\n",
    "from streaming import LocalDataset\n",
    "import streaming\n",
    "import numpy as np\n",
    "from tqdm import tqdm\n",
    "import os\n",
    "\n",
    "class Float32(Encoding):\n",
    "    def encode(self, obj) -> bytes:\n",
    "        return obj.tobytes()\n",
    "\n",
    "    def decode(self, data: bytes):\n",
    "        return np.frombuffer(data, np.float32)\n",
    "\n",
    "_encodings['float32'] = Float32\n",
    "\n",
    "columns = {\n",
    "    'embedding': 'float32',\n",
    "    'filename': 'str',\n",
    "    'index': 'int'\n",
    "}\n",
    "hashes = 'sha1', 'xxh64'"
   ]
  },
  {
   "cell_type": "code",
   "execution_count": 6,
   "id": "8dc02a66",
   "metadata": {},
   "outputs": [],
   "source": [
    "!mkdir embedding-vehicle"
   ]
  },
  {
   "cell_type": "code",
   "execution_count": 12,
   "id": "04fd5fdb",
   "metadata": {},
   "outputs": [],
   "source": [
    "def loop(files):\n",
    "    files, index = files\n",
    "    out_root = f'embedding-vehicle/embedding-{index}'\n",
    "    os.system(f'rm -rf {out_root}')\n",
    "    with MDSWriter(out=out_root, columns=columns, compression=None, hashes=hashes) as out:\n",
    "        for f in tqdm(files):\n",
    "            with open(f) as fopen:\n",
    "                try:\n",
    "                    data = json.load(fopen)\n",
    "                except:\n",
    "                    continue\n",
    "                for row in data:\n",
    "                    row['embedding'] = np.array(row['embedding'], dtype = np.float32)\n",
    "                    out.write(row)"
   ]
  },
  {
   "cell_type": "code",
   "execution_count": 13,
   "id": "e7ce074d",
   "metadata": {
    "scrolled": true
   },
   "outputs": [
    {
     "name": "stderr",
     "output_type": "stream",
     "text": [
      "100%|██████████| 2/2 [00:00<00:00, 778.24it/s]\n"
     ]
    }
   ],
   "source": [
    "loop((files[:2], 0))"
   ]
  },
  {
   "cell_type": "code",
   "execution_count": 14,
   "id": "00699cdb",
   "metadata": {
    "scrolled": true
   },
   "outputs": [
    {
     "name": "stderr",
     "output_type": "stream",
     "text": [
      "100%|██████████| 3242/3242 [01:04<00:00, 50.13it/s]  \n",
      "100%|██████████| 27/27 [00:00<00:00, 1018.47it/s]s]\n",
      "100%|██████████| 3242/3242 [01:17<00:00, 42.05it/s]\n",
      "100%|██████████| 3242/3242 [01:19<00:00, 40.72it/s]\n",
      "100%|██████████| 3242/3242 [01:24<00:00, 38.56it/s]\n",
      "100%|██████████| 3242/3242 [01:24<00:00, 38.49it/s]\n",
      "100%|██████████| 3242/3242 [01:25<00:00, 37.71it/s]\n",
      "100%|██████████| 3242/3242 [01:26<00:00, 37.58it/s]\n",
      "100%|██████████| 3242/3242 [01:26<00:00, 37.47it/s]\n",
      "100%|██████████| 3242/3242 [01:26<00:00, 37.31it/s]\n",
      "100%|██████████| 3242/3242 [01:28<00:00, 36.77it/s]\n",
      "100%|██████████| 3242/3242 [01:28<00:00, 36.72it/s]\n",
      "100%|██████████| 3242/3242 [01:28<00:00, 36.77it/s]\n",
      "100%|██████████| 3242/3242 [01:28<00:00, 36.74it/s]\n",
      "100%|██████████| 3242/3242 [01:29<00:00, 36.34it/s]\n",
      "100%|██████████| 3242/3242 [01:29<00:00, 36.31it/s]\n",
      "100%|██████████| 3242/3242 [01:29<00:00, 36.21it/s]\n",
      "100%|██████████| 3242/3242 [01:29<00:00, 36.13it/s]\n",
      "100%|██████████| 3242/3242 [01:30<00:00, 35.71it/s]\n",
      "100%|██████████| 3242/3242 [01:30<00:00, 35.67it/s]\n",
      "100%|██████████| 3242/3242 [01:31<00:00, 35.56it/s]\n",
      "100%|██████████| 3242/3242 [01:31<00:00, 35.57it/s]\n",
      "100%|██████████| 3242/3242 [01:31<00:00, 35.62it/s]\n",
      "100%|██████████| 3242/3242 [01:31<00:00, 35.60it/s]\n",
      "100%|██████████| 3242/3242 [01:31<00:00, 35.48it/s] \n",
      "100%|██████████| 3242/3242 [01:31<00:00, 35.45it/s] \n",
      "100%|██████████| 3242/3242 [01:31<00:00, 35.41it/s] \n",
      "100%|██████████| 3242/3242 [01:31<00:00, 35.43it/s] \n",
      "100%|██████████| 3242/3242 [01:31<00:00, 35.39it/s] \n",
      "100%|██████████| 3242/3242 [01:31<00:00, 35.37it/s] \n",
      "100%|██████████| 3242/3242 [01:31<00:00, 35.41it/s] \n"
     ]
    }
   ],
   "source": [
    "import mp\n",
    "\n",
    "mp.multiprocessing(files, loop, cores = min(len(files), 30), returned = False)"
   ]
  },
  {
   "cell_type": "code",
   "execution_count": 15,
   "id": "91782453",
   "metadata": {},
   "outputs": [
    {
     "data": {
      "text/plain": [
       "31"
      ]
     },
     "execution_count": 15,
     "metadata": {},
     "output_type": "execute_result"
    }
   ],
   "source": [
    "folders = sorted(glob('embedding-vehicle/embedding-*'), key = lambda x: int(x.split('-')[-1]))\n",
    "len(folders)"
   ]
  },
  {
   "cell_type": "code",
   "execution_count": 16,
   "id": "00aafa96",
   "metadata": {},
   "outputs": [],
   "source": [
    "!rm -rf combine"
   ]
  },
  {
   "cell_type": "code",
   "execution_count": 17,
   "id": "e3a1ffd3",
   "metadata": {
    "scrolled": false
   },
   "outputs": [
    {
     "name": "stderr",
     "output_type": "stream",
     "text": [
      "100%|██████████| 25800/25800 [00:01<00:00, 21773.72it/s]\n",
      "100%|██████████| 25871/25871 [00:01<00:00, 22363.53it/s]\n",
      "100%|██████████| 25839/25839 [00:01<00:00, 21800.75it/s]\n",
      "100%|██████████| 25816/25816 [00:01<00:00, 20927.47it/s]\n",
      "100%|██████████| 25888/25888 [00:01<00:00, 22818.10it/s]\n",
      "100%|██████████| 25832/25832 [00:01<00:00, 22548.79it/s]\n",
      "100%|██████████| 25864/25864 [00:01<00:00, 22658.14it/s]\n",
      "100%|██████████| 25856/25856 [00:01<00:00, 20940.21it/s]\n",
      "100%|██████████| 25864/25864 [00:01<00:00, 23226.82it/s]\n",
      "100%|██████████| 25848/25848 [00:01<00:00, 23652.96it/s]\n",
      "100%|██████████| 25800/25800 [00:01<00:00, 23527.09it/s]\n",
      "100%|██████████| 25816/25816 [00:01<00:00, 21205.74it/s]\n",
      "100%|██████████| 25864/25864 [00:01<00:00, 24247.13it/s]\n",
      "100%|██████████| 25856/25856 [00:01<00:00, 24434.63it/s]\n",
      "100%|██████████| 25832/25832 [00:01<00:00, 23070.21it/s]\n",
      "100%|██████████| 25864/25864 [00:01<00:00, 22402.73it/s]\n",
      "100%|██████████| 25880/25880 [00:01<00:00, 25479.93it/s]\n",
      "100%|██████████| 25872/25872 [00:01<00:00, 24282.44it/s]\n",
      "100%|██████████| 25824/25824 [00:01<00:00, 19751.43it/s]\n",
      "100%|██████████| 25792/25792 [00:01<00:00, 23815.98it/s]\n",
      "100%|██████████| 25816/25816 [00:01<00:00, 21997.06it/s]\n",
      "100%|██████████| 25871/25871 [00:01<00:00, 23686.25it/s]\n",
      "100%|██████████| 25856/25856 [00:01<00:00, 21447.05it/s]\n",
      "100%|██████████| 25840/25840 [00:01<00:00, 24863.92it/s]\n",
      "100%|██████████| 25856/25856 [00:01<00:00, 23031.03it/s]\n",
      "100%|██████████| 25816/25816 [00:01<00:00, 23670.36it/s]\n",
      "100%|██████████| 25896/25896 [00:01<00:00, 22965.83it/s]\n",
      "100%|██████████| 25856/25856 [00:01<00:00, 21907.43it/s]\n",
      "100%|██████████| 25864/25864 [00:01<00:00, 24256.25it/s]\n",
      "100%|██████████| 25872/25872 [00:01<00:00, 21541.95it/s]\n",
      "100%|██████████| 216/216 [00:00<00:00, 26529.90it/s]\n"
     ]
    }
   ],
   "source": [
    "with MDSWriter(out='combine', columns=columns, compression=None, hashes=hashes) as out:\n",
    "    for f in folders:\n",
    "        try:\n",
    "            dataset = LocalDataset(local=f)\n",
    "            for i in tqdm(range(len(dataset))):\n",
    "                out.write(dataset[i])\n",
    "        except Exception as e:\n",
    "            print(e)\n",
    "            pass"
   ]
  },
  {
   "cell_type": "code",
   "execution_count": 18,
   "id": "b3b44a75",
   "metadata": {},
   "outputs": [],
   "source": [
    "dataset = LocalDataset('combine')"
   ]
  },
  {
   "cell_type": "code",
   "execution_count": 19,
   "id": "346420fc",
   "metadata": {},
   "outputs": [
    {
     "data": {
      "text/plain": [
       "775637"
      ]
     },
     "execution_count": 19,
     "metadata": {},
     "output_type": "execute_result"
    }
   ],
   "source": [
    "len(dataset)"
   ]
  },
  {
   "cell_type": "code",
   "execution_count": 20,
   "id": "c57ca527",
   "metadata": {},
   "outputs": [
    {
     "data": {
      "text/plain": [
       "'/home/ubuntu/.cache/huggingface/hub/datasets--malaysia-ai--crawl-google-image-malaysian-vehicle/snapshots/ef336aad83e1410dc55d0abb3e40be8e39b0838e/data/train-00002-of-00165-792f4cc576d400c7.parquet'"
      ]
     },
     "execution_count": 20,
     "metadata": {},
     "output_type": "execute_result"
    }
   ],
   "source": [
    "dataset[100000]['filename']"
   ]
  },
  {
   "cell_type": "code",
   "execution_count": 21,
   "id": "49d6ee19",
   "metadata": {},
   "outputs": [
    {
     "name": "stderr",
     "output_type": "stream",
     "text": [
      "100%|██████████| 775637/775637 [00:57<00:00, 13557.39it/s]\n"
     ]
    }
   ],
   "source": [
    "mapping = {}\n",
    "for i in tqdm(range(len(dataset))):\n",
    "    f = os.path.split(dataset[i]['filename'])[1]\n",
    "    key = f\"{f}-{dataset[i]['index']}\"\n",
    "    mapping[key] = i"
   ]
  },
  {
   "cell_type": "code",
   "execution_count": 22,
   "id": "f92ccaa9",
   "metadata": {},
   "outputs": [
    {
     "data": {
      "text/plain": [
       "775637"
      ]
     },
     "execution_count": 22,
     "metadata": {},
     "output_type": "execute_result"
    }
   ],
   "source": [
    "len(mapping)"
   ]
  },
  {
   "cell_type": "code",
   "execution_count": 23,
   "id": "6e606b20",
   "metadata": {},
   "outputs": [],
   "source": [
    "with open('mapping-index-vehicle.json', 'w') as fopen:\n",
    "    json.dump(mapping, fopen)"
   ]
  },
  {
   "cell_type": "code",
   "execution_count": 24,
   "id": "02345bee",
   "metadata": {},
   "outputs": [],
   "source": [
    "from huggingface_hub import HfApi\n",
    "api = HfApi()"
   ]
  },
  {
   "cell_type": "code",
   "execution_count": 25,
   "id": "f15e0e98",
   "metadata": {},
   "outputs": [
    {
     "data": {
      "application/vnd.jupyter.widget-view+json": {
       "model_id": "e385e3cec8cd49eba5fcd91b3c9fd482",
       "version_major": 2,
       "version_minor": 0
      },
      "text/plain": [
       "shard.00001.mds:   0%|          | 0.00/67.1M [00:00<?, ?B/s]"
      ]
     },
     "metadata": {},
     "output_type": "display_data"
    },
    {
     "data": {
      "application/vnd.jupyter.widget-view+json": {
       "model_id": "faff97268ddf463aadfebaae58ad3a79",
       "version_major": 2,
       "version_minor": 0
      },
      "text/plain": [
       "shard.00004.mds:   0%|          | 0.00/67.1M [00:00<?, ?B/s]"
      ]
     },
     "metadata": {},
     "output_type": "display_data"
    },
    {
     "data": {
      "application/vnd.jupyter.widget-view+json": {
       "model_id": "20bd928cdbb9435588c1045cfe1c5885",
       "version_major": 2,
       "version_minor": 0
      },
      "text/plain": [
       "shard.00002.mds:   0%|          | 0.00/67.1M [00:00<?, ?B/s]"
      ]
     },
     "metadata": {},
     "output_type": "display_data"
    },
    {
     "data": {
      "application/vnd.jupyter.widget-view+json": {
       "model_id": "da3d52fc19b348f7b1b96c58a38ea7f5",
       "version_major": 2,
       "version_minor": 0
      },
      "text/plain": [
       "shard.00003.mds:   0%|          | 0.00/67.1M [00:00<?, ?B/s]"
      ]
     },
     "metadata": {},
     "output_type": "display_data"
    },
    {
     "data": {
      "application/vnd.jupyter.widget-view+json": {
       "model_id": "6d199377f5824b7f8b0a43fd730b9efb",
       "version_major": 2,
       "version_minor": 0
      },
      "text/plain": [
       "shard.00000.mds:   0%|          | 0.00/67.1M [00:00<?, ?B/s]"
      ]
     },
     "metadata": {},
     "output_type": "display_data"
    },
    {
     "data": {
      "application/vnd.jupyter.widget-view+json": {
       "model_id": "60f01ec7427143bcb578309c61a93da8",
       "version_major": 2,
       "version_minor": 0
      },
      "text/plain": [
       "Upload 39 LFS files:   0%|          | 0/39 [00:00<?, ?it/s]"
      ]
     },
     "metadata": {},
     "output_type": "display_data"
    },
    {
     "data": {
      "application/vnd.jupyter.widget-view+json": {
       "model_id": "a9785855c0114f07b4291e1bf678bd72",
       "version_major": 2,
       "version_minor": 0
      },
      "text/plain": [
       "shard.00005.mds:   0%|          | 0.00/67.1M [00:00<?, ?B/s]"
      ]
     },
     "metadata": {},
     "output_type": "display_data"
    },
    {
     "data": {
      "application/vnd.jupyter.widget-view+json": {
       "model_id": "901412bcd08f43cb9dee9b867dbe0c91",
       "version_major": 2,
       "version_minor": 0
      },
      "text/plain": [
       "shard.00006.mds:   0%|          | 0.00/67.1M [00:00<?, ?B/s]"
      ]
     },
     "metadata": {},
     "output_type": "display_data"
    },
    {
     "data": {
      "application/vnd.jupyter.widget-view+json": {
       "model_id": "14897a317efe47b6aed36d8787e35cc1",
       "version_major": 2,
       "version_minor": 0
      },
      "text/plain": [
       "shard.00007.mds:   0%|          | 0.00/67.1M [00:00<?, ?B/s]"
      ]
     },
     "metadata": {},
     "output_type": "display_data"
    },
    {
     "data": {
      "application/vnd.jupyter.widget-view+json": {
       "model_id": "f1061198f99d4e88aebcafe67a42fc1d",
       "version_major": 2,
       "version_minor": 0
      },
      "text/plain": [
       "shard.00008.mds:   0%|          | 0.00/67.1M [00:00<?, ?B/s]"
      ]
     },
     "metadata": {},
     "output_type": "display_data"
    },
    {
     "data": {
      "application/vnd.jupyter.widget-view+json": {
       "model_id": "bda6a14102284f83aaaf03ad7409a604",
       "version_major": 2,
       "version_minor": 0
      },
      "text/plain": [
       "shard.00009.mds:   0%|          | 0.00/67.1M [00:00<?, ?B/s]"
      ]
     },
     "metadata": {},
     "output_type": "display_data"
    },
    {
     "data": {
      "application/vnd.jupyter.widget-view+json": {
       "model_id": "35a12cc349a24b7fb750414b776cb3a7",
       "version_major": 2,
       "version_minor": 0
      },
      "text/plain": [
       "shard.00010.mds:   0%|          | 0.00/67.1M [00:00<?, ?B/s]"
      ]
     },
     "metadata": {},
     "output_type": "display_data"
    },
    {
     "data": {
      "application/vnd.jupyter.widget-view+json": {
       "model_id": "1cf15833a4e54ffcb819fe9918e49db8",
       "version_major": 2,
       "version_minor": 0
      },
      "text/plain": [
       "shard.00011.mds:   0%|          | 0.00/67.1M [00:00<?, ?B/s]"
      ]
     },
     "metadata": {},
     "output_type": "display_data"
    },
    {
     "data": {
      "application/vnd.jupyter.widget-view+json": {
       "model_id": "fe718df0fddc408fbf92a267ed604d26",
       "version_major": 2,
       "version_minor": 0
      },
      "text/plain": [
       "shard.00012.mds:   0%|          | 0.00/67.1M [00:00<?, ?B/s]"
      ]
     },
     "metadata": {},
     "output_type": "display_data"
    },
    {
     "data": {
      "application/vnd.jupyter.widget-view+json": {
       "model_id": "c0b1498c13094cbe978b25b86b001f66",
       "version_major": 2,
       "version_minor": 0
      },
      "text/plain": [
       "shard.00013.mds:   0%|          | 0.00/67.1M [00:00<?, ?B/s]"
      ]
     },
     "metadata": {},
     "output_type": "display_data"
    },
    {
     "data": {
      "application/vnd.jupyter.widget-view+json": {
       "model_id": "7ed728341be943ea854728113c67b0df",
       "version_major": 2,
       "version_minor": 0
      },
      "text/plain": [
       "shard.00014.mds:   0%|          | 0.00/67.1M [00:00<?, ?B/s]"
      ]
     },
     "metadata": {},
     "output_type": "display_data"
    },
    {
     "data": {
      "application/vnd.jupyter.widget-view+json": {
       "model_id": "9d15f1a727794470a757d89d4a4b6f62",
       "version_major": 2,
       "version_minor": 0
      },
      "text/plain": [
       "shard.00015.mds:   0%|          | 0.00/67.1M [00:00<?, ?B/s]"
      ]
     },
     "metadata": {},
     "output_type": "display_data"
    },
    {
     "data": {
      "application/vnd.jupyter.widget-view+json": {
       "model_id": "cebf8aac1ade4887beb0822f315b5e87",
       "version_major": 2,
       "version_minor": 0
      },
      "text/plain": [
       "shard.00016.mds:   0%|          | 0.00/67.1M [00:00<?, ?B/s]"
      ]
     },
     "metadata": {},
     "output_type": "display_data"
    },
    {
     "data": {
      "application/vnd.jupyter.widget-view+json": {
       "model_id": "f2ba8cc85c134ca19725a8a962f06581",
       "version_major": 2,
       "version_minor": 0
      },
      "text/plain": [
       "shard.00017.mds:   0%|          | 0.00/67.1M [00:00<?, ?B/s]"
      ]
     },
     "metadata": {},
     "output_type": "display_data"
    },
    {
     "data": {
      "application/vnd.jupyter.widget-view+json": {
       "model_id": "44a18918ba814922a331f3cdf1f28316",
       "version_major": 2,
       "version_minor": 0
      },
      "text/plain": [
       "shard.00018.mds:   0%|          | 0.00/67.1M [00:00<?, ?B/s]"
      ]
     },
     "metadata": {},
     "output_type": "display_data"
    },
    {
     "data": {
      "application/vnd.jupyter.widget-view+json": {
       "model_id": "5359099b20074aecaa98823e057a76c4",
       "version_major": 2,
       "version_minor": 0
      },
      "text/plain": [
       "shard.00019.mds:   0%|          | 0.00/67.1M [00:00<?, ?B/s]"
      ]
     },
     "metadata": {},
     "output_type": "display_data"
    },
    {
     "data": {
      "application/vnd.jupyter.widget-view+json": {
       "model_id": "c49a57d72ca14205a3810c410ccd904f",
       "version_major": 2,
       "version_minor": 0
      },
      "text/plain": [
       "shard.00020.mds:   0%|          | 0.00/67.1M [00:00<?, ?B/s]"
      ]
     },
     "metadata": {},
     "output_type": "display_data"
    },
    {
     "data": {
      "application/vnd.jupyter.widget-view+json": {
       "model_id": "ac2b03bb9189457a816aa7ce0fe1e569",
       "version_major": 2,
       "version_minor": 0
      },
      "text/plain": [
       "shard.00021.mds:   0%|          | 0.00/67.1M [00:00<?, ?B/s]"
      ]
     },
     "metadata": {},
     "output_type": "display_data"
    },
    {
     "data": {
      "application/vnd.jupyter.widget-view+json": {
       "model_id": "8704b90ddc884b14bc7b72d5fea6a7f7",
       "version_major": 2,
       "version_minor": 0
      },
      "text/plain": [
       "shard.00022.mds:   0%|          | 0.00/67.1M [00:00<?, ?B/s]"
      ]
     },
     "metadata": {},
     "output_type": "display_data"
    },
    {
     "data": {
      "application/vnd.jupyter.widget-view+json": {
       "model_id": "a00c05da59504058a9b0d89d132cca88",
       "version_major": 2,
       "version_minor": 0
      },
      "text/plain": [
       "shard.00023.mds:   0%|          | 0.00/67.1M [00:00<?, ?B/s]"
      ]
     },
     "metadata": {},
     "output_type": "display_data"
    },
    {
     "data": {
      "application/vnd.jupyter.widget-view+json": {
       "model_id": "1f3418e816f849b7a4353cbaf3b852f2",
       "version_major": 2,
       "version_minor": 0
      },
      "text/plain": [
       "shard.00024.mds:   0%|          | 0.00/67.1M [00:00<?, ?B/s]"
      ]
     },
     "metadata": {},
     "output_type": "display_data"
    },
    {
     "data": {
      "application/vnd.jupyter.widget-view+json": {
       "model_id": "e444b6e43f6b4560aa204f838dc96f8f",
       "version_major": 2,
       "version_minor": 0
      },
      "text/plain": [
       "shard.00025.mds:   0%|          | 0.00/67.1M [00:00<?, ?B/s]"
      ]
     },
     "metadata": {},
     "output_type": "display_data"
    },
    {
     "data": {
      "application/vnd.jupyter.widget-view+json": {
       "model_id": "5464f94cc2ad423eb848eeb8ceb0b61c",
       "version_major": 2,
       "version_minor": 0
      },
      "text/plain": [
       "shard.00026.mds:   0%|          | 0.00/67.1M [00:00<?, ?B/s]"
      ]
     },
     "metadata": {},
     "output_type": "display_data"
    },
    {
     "data": {
      "application/vnd.jupyter.widget-view+json": {
       "model_id": "ea09e5f946884c76a6bd8b65ddac3d91",
       "version_major": 2,
       "version_minor": 0
      },
      "text/plain": [
       "shard.00027.mds:   0%|          | 0.00/67.1M [00:00<?, ?B/s]"
      ]
     },
     "metadata": {},
     "output_type": "display_data"
    },
    {
     "data": {
      "application/vnd.jupyter.widget-view+json": {
       "model_id": "b6be553233e54a87aa45a3482b935b79",
       "version_major": 2,
       "version_minor": 0
      },
      "text/plain": [
       "shard.00028.mds:   0%|          | 0.00/67.1M [00:00<?, ?B/s]"
      ]
     },
     "metadata": {},
     "output_type": "display_data"
    },
    {
     "data": {
      "application/vnd.jupyter.widget-view+json": {
       "model_id": "55de2da1c9be483aaf1729b813690458",
       "version_major": 2,
       "version_minor": 0
      },
      "text/plain": [
       "shard.00029.mds:   0%|          | 0.00/67.1M [00:00<?, ?B/s]"
      ]
     },
     "metadata": {},
     "output_type": "display_data"
    },
    {
     "data": {
      "application/vnd.jupyter.widget-view+json": {
       "model_id": "44f7500a6a184dd4917141534e68c788",
       "version_major": 2,
       "version_minor": 0
      },
      "text/plain": [
       "shard.00030.mds:   0%|          | 0.00/67.1M [00:00<?, ?B/s]"
      ]
     },
     "metadata": {},
     "output_type": "display_data"
    },
    {
     "data": {
      "application/vnd.jupyter.widget-view+json": {
       "model_id": "b81c16aac72143ecb4a88855f4eb48c7",
       "version_major": 2,
       "version_minor": 0
      },
      "text/plain": [
       "shard.00031.mds:   0%|          | 0.00/67.1M [00:00<?, ?B/s]"
      ]
     },
     "metadata": {},
     "output_type": "display_data"
    },
    {
     "data": {
      "application/vnd.jupyter.widget-view+json": {
       "model_id": "af73d4bfa641444da92a0a526eb4aa60",
       "version_major": 2,
       "version_minor": 0
      },
      "text/plain": [
       "shard.00032.mds:   0%|          | 0.00/67.1M [00:00<?, ?B/s]"
      ]
     },
     "metadata": {},
     "output_type": "display_data"
    },
    {
     "data": {
      "application/vnd.jupyter.widget-view+json": {
       "model_id": "695f41b8b69c4a898f7a435107884744",
       "version_major": 2,
       "version_minor": 0
      },
      "text/plain": [
       "shard.00033.mds:   0%|          | 0.00/67.1M [00:00<?, ?B/s]"
      ]
     },
     "metadata": {},
     "output_type": "display_data"
    },
    {
     "data": {
      "application/vnd.jupyter.widget-view+json": {
       "model_id": "b363aa846795446bb4a2297047f0a0af",
       "version_major": 2,
       "version_minor": 0
      },
      "text/plain": [
       "shard.00034.mds:   0%|          | 0.00/67.1M [00:00<?, ?B/s]"
      ]
     },
     "metadata": {},
     "output_type": "display_data"
    },
    {
     "data": {
      "application/vnd.jupyter.widget-view+json": {
       "model_id": "e2fa20972c6e42ffb46efbf1d566e2c4",
       "version_major": 2,
       "version_minor": 0
      },
      "text/plain": [
       "shard.00035.mds:   0%|          | 0.00/67.1M [00:00<?, ?B/s]"
      ]
     },
     "metadata": {},
     "output_type": "display_data"
    },
    {
     "data": {
      "application/vnd.jupyter.widget-view+json": {
       "model_id": "6dfa540990e54d7e83b0751aabece80b",
       "version_major": 2,
       "version_minor": 0
      },
      "text/plain": [
       "shard.00036.mds:   0%|          | 0.00/67.1M [00:00<?, ?B/s]"
      ]
     },
     "metadata": {},
     "output_type": "display_data"
    },
    {
     "data": {
      "application/vnd.jupyter.widget-view+json": {
       "model_id": "38e4fb40ad444c588189eaa58ee392ae",
       "version_major": 2,
       "version_minor": 0
      },
      "text/plain": [
       "shard.00037.mds:   0%|          | 0.00/67.1M [00:00<?, ?B/s]"
      ]
     },
     "metadata": {},
     "output_type": "display_data"
    },
    {
     "data": {
      "application/vnd.jupyter.widget-view+json": {
       "model_id": "7fcbb3b7d0d04aa88ca67698f852e408",
       "version_major": 2,
       "version_minor": 0
      },
      "text/plain": [
       "shard.00038.mds:   0%|          | 0.00/1.06M [00:00<?, ?B/s]"
      ]
     },
     "metadata": {},
     "output_type": "display_data"
    },
    {
     "data": {
      "text/plain": [
       "CommitInfo(commit_url='https://huggingface.co/datasets/mesolitica/google-image-malaysian-vehicle-dedup/commit/a89f3e56ac35a898019776453c4041f1f8cf7af2', commit_message='Upload folder using huggingface_hub', commit_description='', oid='a89f3e56ac35a898019776453c4041f1f8cf7af2', pr_url=None, pr_revision=None, pr_num=None)"
      ]
     },
     "execution_count": 25,
     "metadata": {},
     "output_type": "execute_result"
    }
   ],
   "source": [
    "api.upload_folder(\n",
    "    folder_path='combine',\n",
    "    path_in_repo='embedding',\n",
    "    repo_id='mesolitica/google-image-malaysian-vehicle-dedup',\n",
    "    repo_type='dataset',\n",
    ")"
   ]
  },
  {
   "cell_type": "code",
   "execution_count": 26,
   "id": "4a84e698",
   "metadata": {},
   "outputs": [
    {
     "data": {
      "application/vnd.jupyter.widget-view+json": {
       "model_id": "71cd8965d73f4c4aa08157c1dfe22398",
       "version_major": 2,
       "version_minor": 0
      },
      "text/plain": [
       "mapping-index-vehicle.json:   0%|          | 0.00/47.8M [00:00<?, ?B/s]"
      ]
     },
     "metadata": {},
     "output_type": "display_data"
    },
    {
     "data": {
      "text/plain": [
       "CommitInfo(commit_url='https://huggingface.co/datasets/mesolitica/google-image-malaysian-vehicle-dedup/commit/4fcc338a5f87f9c910e9cb4e65057317d948d24d', commit_message='Upload mapping-index-vehicle.json with huggingface_hub', commit_description='', oid='4fcc338a5f87f9c910e9cb4e65057317d948d24d', pr_url=None, pr_revision=None, pr_num=None)"
      ]
     },
     "execution_count": 26,
     "metadata": {},
     "output_type": "execute_result"
    }
   ],
   "source": [
    "api.upload_file(\n",
    "    path_or_fileobj='mapping-index-vehicle.json',\n",
    "    path_in_repo='mapping-index-vehicle.json',\n",
    "    repo_id='mesolitica/google-image-malaysian-vehicle-dedup',\n",
    "    repo_type='dataset',\n",
    ")"
   ]
  },
  {
   "cell_type": "code",
   "execution_count": null,
   "id": "5521dff3",
   "metadata": {},
   "outputs": [],
   "source": []
  }
 ],
 "metadata": {
  "kernelspec": {
   "display_name": "Python 3 (ipykernel)",
   "language": "python",
   "name": "python3"
  },
  "language_info": {
   "codemirror_mode": {
    "name": "ipython",
    "version": 3
   },
   "file_extension": ".py",
   "mimetype": "text/x-python",
   "name": "python",
   "nbconvert_exporter": "python",
   "pygments_lexer": "ipython3",
   "version": "3.10.12"
  }
 },
 "nbformat": 4,
 "nbformat_minor": 5
}
