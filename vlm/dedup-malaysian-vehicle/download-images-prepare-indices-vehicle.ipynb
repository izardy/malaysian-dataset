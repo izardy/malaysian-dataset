{
 "cells": [
  {
   "cell_type": "code",
   "execution_count": 1,
   "id": "f19d9c5c",
   "metadata": {},
   "outputs": [],
   "source": [
    "# !wget https://gist.githubusercontent.com/huseinzol05/98974ae8c6c7a65d4bc0af9f5003786a/raw/2e06e71ef7349a57bc58cc9913ae6bae1f9f8447/mp.py"
   ]
  },
  {
   "cell_type": "code",
   "execution_count": 2,
   "id": "d730af26",
   "metadata": {},
   "outputs": [],
   "source": [
    "import os\n",
    "\n",
    "os.environ[\"HF_HUB_ENABLE_HF_TRANSFER\"] = \"1\""
   ]
  },
  {
   "cell_type": "code",
   "execution_count": 3,
   "id": "ed9a9757",
   "metadata": {},
   "outputs": [],
   "source": [
    "# !pip3 install hf-transfer datasets -U "
   ]
  },
  {
   "cell_type": "code",
   "execution_count": 4,
   "id": "f6b1e86e",
   "metadata": {},
   "outputs": [],
   "source": [
    "from huggingface_hub import snapshot_download\n",
    "from tqdm import tqdm\n",
    "from glob import glob\n",
    "import pandas as pd\n",
    "import mp"
   ]
  },
  {
   "cell_type": "code",
   "execution_count": 5,
   "id": "88cf25da",
   "metadata": {},
   "outputs": [
    {
     "data": {
      "application/vnd.jupyter.widget-view+json": {
       "model_id": "2f595ccc39804de7a126d6e98ff9864a",
       "version_major": 2,
       "version_minor": 0
      },
      "text/plain": [
       ".gitattributes:   0%|          | 0.00/2.31k [00:00<?, ?B/s]"
      ]
     },
     "metadata": {},
     "output_type": "display_data"
    },
    {
     "data": {
      "application/vnd.jupyter.widget-view+json": {
       "model_id": "7b1df81522a34a09a67ce8eb6fb3b370",
       "version_major": 2,
       "version_minor": 0
      },
      "text/plain": [
       "README.md:   0%|          | 0.00/625 [00:00<?, ?B/s]"
      ]
     },
     "metadata": {},
     "output_type": "display_data"
    },
    {
     "data": {
      "application/vnd.jupyter.widget-view+json": {
       "model_id": "fab63cae1c2245c68d71e97a48ee8269",
       "version_major": 2,
       "version_minor": 0
      },
      "text/plain": [
       "(…)-00000-of-00165-cd9f2e984cbfd9e9.parquet:   0%|          | 0.00/628M [00:00<?, ?B/s]"
      ]
     },
     "metadata": {},
     "output_type": "display_data"
    },
    {
     "data": {
      "application/vnd.jupyter.widget-view+json": {
       "model_id": "b91d011d1ad24425b4dbee3f6bb785c8",
       "version_major": 2,
       "version_minor": 0
      },
      "text/plain": [
       "(…)-00001-of-00165-0172dccf3610bdc8.parquet:   0%|          | 0.00/542M [00:00<?, ?B/s]"
      ]
     },
     "metadata": {},
     "output_type": "display_data"
    },
    {
     "data": {
      "application/vnd.jupyter.widget-view+json": {
       "model_id": "d59bb4cb162f463790a3f3c9700ebd19",
       "version_major": 2,
       "version_minor": 0
      },
      "text/plain": [
       "(…)-00002-of-00165-792f4cc576d400c7.parquet:   0%|          | 0.00/712M [00:00<?, ?B/s]"
      ]
     },
     "metadata": {},
     "output_type": "display_data"
    },
    {
     "data": {
      "application/vnd.jupyter.widget-view+json": {
       "model_id": "d97e235bed1d410a9539bf5665fc994c",
       "version_major": 2,
       "version_minor": 0
      },
      "text/plain": [
       "(…)-00003-of-00165-ce00168a5aa570db.parquet:   0%|          | 0.00/538M [00:00<?, ?B/s]"
      ]
     },
     "metadata": {},
     "output_type": "display_data"
    },
    {
     "data": {
      "application/vnd.jupyter.widget-view+json": {
       "model_id": "316a9cf76d534ed29aaa06866ef0e104",
       "version_major": 2,
       "version_minor": 0
      },
      "text/plain": [
       "(…)-00004-of-00165-b1fe8726dc6944e4.parquet:   0%|          | 0.00/682M [00:00<?, ?B/s]"
      ]
     },
     "metadata": {},
     "output_type": "display_data"
    },
    {
     "data": {
      "application/vnd.jupyter.widget-view+json": {
       "model_id": "a8513b7cf94e4435aff4b301b59ec756",
       "version_major": 2,
       "version_minor": 0
      },
      "text/plain": [
       "(…)-00005-of-00165-762019a7a3edb04f.parquet:   0%|          | 0.00/464M [00:00<?, ?B/s]"
      ]
     },
     "metadata": {},
     "output_type": "display_data"
    },
    {
     "data": {
      "application/vnd.jupyter.widget-view+json": {
       "model_id": "e9740243e7464f8cbef330410e012bf6",
       "version_major": 2,
       "version_minor": 0
      },
      "text/plain": [
       "(…)-00006-of-00165-001630194e434396.parquet:   0%|          | 0.00/611M [00:00<?, ?B/s]"
      ]
     },
     "metadata": {},
     "output_type": "display_data"
    },
    {
     "data": {
      "application/vnd.jupyter.widget-view+json": {
       "model_id": "572c14983aeb408596c62b4a685b9134",
       "version_major": 2,
       "version_minor": 0
      },
      "text/plain": [
       "(…)-00007-of-00165-65b6e88e30c88921.parquet:   0%|          | 0.00/634M [00:00<?, ?B/s]"
      ]
     },
     "metadata": {},
     "output_type": "display_data"
    },
    {
     "data": {
      "application/vnd.jupyter.widget-view+json": {
       "model_id": "f0ceff002b4f45f1891ed3a17745167d",
       "version_major": 2,
       "version_minor": 0
      },
      "text/plain": [
       "(…)-00008-of-00165-71d5b43d5f5d8677.parquet:   0%|          | 0.00/679M [00:00<?, ?B/s]"
      ]
     },
     "metadata": {},
     "output_type": "display_data"
    },
    {
     "data": {
      "application/vnd.jupyter.widget-view+json": {
       "model_id": "37942c41cd1f4163b6219b678e5a2adf",
       "version_major": 2,
       "version_minor": 0
      },
      "text/plain": [
       "(…)-00009-of-00165-ba0f5a2e78145945.parquet:   0%|          | 0.00/559M [00:00<?, ?B/s]"
      ]
     },
     "metadata": {},
     "output_type": "display_data"
    },
    {
     "data": {
      "application/vnd.jupyter.widget-view+json": {
       "model_id": "02aded0cda114225b2ef68d7215a7e3f",
       "version_major": 2,
       "version_minor": 0
      },
      "text/plain": [
       "(…)-00010-of-00165-0664c19cc22aed22.parquet:   0%|          | 0.00/792M [00:00<?, ?B/s]"
      ]
     },
     "metadata": {},
     "output_type": "display_data"
    },
    {
     "data": {
      "application/vnd.jupyter.widget-view+json": {
       "model_id": "801a86fe961040b9b63eada61ac3ec2c",
       "version_major": 2,
       "version_minor": 0
      },
      "text/plain": [
       "(…)-00011-of-00165-5787b5eec08291a6.parquet:   0%|          | 0.00/613M [00:00<?, ?B/s]"
      ]
     },
     "metadata": {},
     "output_type": "display_data"
    },
    {
     "data": {
      "application/vnd.jupyter.widget-view+json": {
       "model_id": "eb31437ac2a54d8ca97e00090932e435",
       "version_major": 2,
       "version_minor": 0
      },
      "text/plain": [
       "(…)-00012-of-00165-4caae46f82d4ae4f.parquet:   0%|          | 0.00/599M [00:00<?, ?B/s]"
      ]
     },
     "metadata": {},
     "output_type": "display_data"
    },
    {
     "data": {
      "application/vnd.jupyter.widget-view+json": {
       "model_id": "126ee76189754e15a043cde0b1dfd3af",
       "version_major": 2,
       "version_minor": 0
      },
      "text/plain": [
       "(…)-00013-of-00165-e2396f5eb8e72ac0.parquet:   0%|          | 0.00/675M [00:00<?, ?B/s]"
      ]
     },
     "metadata": {},
     "output_type": "display_data"
    },
    {
     "data": {
      "application/vnd.jupyter.widget-view+json": {
       "model_id": "660189c82b5a46359adb21ff9aa5c04f",
       "version_major": 2,
       "version_minor": 0
      },
      "text/plain": [
       "(…)-00014-of-00165-789866a6b0234018.parquet:   0%|          | 0.00/729M [00:00<?, ?B/s]"
      ]
     },
     "metadata": {},
     "output_type": "display_data"
    },
    {
     "data": {
      "application/vnd.jupyter.widget-view+json": {
       "model_id": "8f2182620901466f946c828795cb0724",
       "version_major": 2,
       "version_minor": 0
      },
      "text/plain": [
       "(…)-00015-of-00165-b1bf79cc8ae8fc2c.parquet:   0%|          | 0.00/668M [00:00<?, ?B/s]"
      ]
     },
     "metadata": {},
     "output_type": "display_data"
    },
    {
     "data": {
      "application/vnd.jupyter.widget-view+json": {
       "model_id": "83963f1f02e142929963a50d1b2cc665",
       "version_major": 2,
       "version_minor": 0
      },
      "text/plain": [
       "(…)-00016-of-00165-af424723a35670a4.parquet:   0%|          | 0.00/609M [00:00<?, ?B/s]"
      ]
     },
     "metadata": {},
     "output_type": "display_data"
    },
    {
     "data": {
      "application/vnd.jupyter.widget-view+json": {
       "model_id": "5b315cb3bb1a4f788987bd61c5979419",
       "version_major": 2,
       "version_minor": 0
      },
      "text/plain": [
       "(…)-00017-of-00165-d3d5d5b55e13a12e.parquet:   0%|          | 0.00/623M [00:00<?, ?B/s]"
      ]
     },
     "metadata": {},
     "output_type": "display_data"
    },
    {
     "data": {
      "application/vnd.jupyter.widget-view+json": {
       "model_id": "5144be6c0bd64af1a43039d4771c191b",
       "version_major": 2,
       "version_minor": 0
      },
      "text/plain": [
       "(…)-00018-of-00165-ccd42703b47cc730.parquet:   0%|          | 0.00/609M [00:00<?, ?B/s]"
      ]
     },
     "metadata": {},
     "output_type": "display_data"
    },
    {
     "data": {
      "application/vnd.jupyter.widget-view+json": {
       "model_id": "242316659ba74f18b7435c37595308d7",
       "version_major": 2,
       "version_minor": 0
      },
      "text/plain": [
       "(…)-00019-of-00165-863de79ed2a5a012.parquet:   0%|          | 0.00/554M [00:00<?, ?B/s]"
      ]
     },
     "metadata": {},
     "output_type": "display_data"
    },
    {
     "data": {
      "application/vnd.jupyter.widget-view+json": {
       "model_id": "4d100bc751c347168cc8b10ee28edf85",
       "version_major": 2,
       "version_minor": 0
      },
      "text/plain": [
       "(…)-00020-of-00165-b475c257944f5e4a.parquet:   0%|          | 0.00/564M [00:00<?, ?B/s]"
      ]
     },
     "metadata": {},
     "output_type": "display_data"
    },
    {
     "data": {
      "application/vnd.jupyter.widget-view+json": {
       "model_id": "2575b5515eb249f2821cc5024580a298",
       "version_major": 2,
       "version_minor": 0
      },
      "text/plain": [
       "(…)-00021-of-00165-e58551276e987310.parquet:   0%|          | 0.00/626M [00:00<?, ?B/s]"
      ]
     },
     "metadata": {},
     "output_type": "display_data"
    },
    {
     "data": {
      "application/vnd.jupyter.widget-view+json": {
       "model_id": "77cbf8c3b3ae4cd1b03b5153898ad420",
       "version_major": 2,
       "version_minor": 0
      },
      "text/plain": [
       "(…)-00022-of-00165-89b7ffc0438f37ce.parquet:   0%|          | 0.00/591M [00:00<?, ?B/s]"
      ]
     },
     "metadata": {},
     "output_type": "display_data"
    },
    {
     "data": {
      "application/vnd.jupyter.widget-view+json": {
       "model_id": "0bd4503b64e64266836811032a2f64d7",
       "version_major": 2,
       "version_minor": 0
      },
      "text/plain": [
       "(…)-00023-of-00165-eb3a5299e023f1ec.parquet:   0%|          | 0.00/614M [00:00<?, ?B/s]"
      ]
     },
     "metadata": {},
     "output_type": "display_data"
    },
    {
     "data": {
      "application/vnd.jupyter.widget-view+json": {
       "model_id": "0c763e9e3b82407b85a87aca15ddc590",
       "version_major": 2,
       "version_minor": 0
      },
      "text/plain": [
       "(…)-00024-of-00165-336a7c7cbc9c0f34.parquet:   0%|          | 0.00/565M [00:00<?, ?B/s]"
      ]
     },
     "metadata": {},
     "output_type": "display_data"
    },
    {
     "data": {
      "application/vnd.jupyter.widget-view+json": {
       "model_id": "da2dbb9944ad44c78b4a326d3f3814ed",
       "version_major": 2,
       "version_minor": 0
      },
      "text/plain": [
       "(…)-00025-of-00165-9d8418fd07ba7373.parquet:   0%|          | 0.00/571M [00:00<?, ?B/s]"
      ]
     },
     "metadata": {},
     "output_type": "display_data"
    },
    {
     "data": {
      "application/vnd.jupyter.widget-view+json": {
       "model_id": "638eef3006074f66b32e1be4f6abff67",
       "version_major": 2,
       "version_minor": 0
      },
      "text/plain": [
       "(…)-00026-of-00165-f9217ef705d57f2f.parquet:   0%|          | 0.00/628M [00:00<?, ?B/s]"
      ]
     },
     "metadata": {},
     "output_type": "display_data"
    },
    {
     "data": {
      "application/vnd.jupyter.widget-view+json": {
       "model_id": "8526958ac79d4e3cb9dccbc4beb72ec5",
       "version_major": 2,
       "version_minor": 0
      },
      "text/plain": [
       "(…)-00027-of-00165-c7635e0fc5e84b30.parquet:   0%|          | 0.00/601M [00:00<?, ?B/s]"
      ]
     },
     "metadata": {},
     "output_type": "display_data"
    },
    {
     "data": {
      "application/vnd.jupyter.widget-view+json": {
       "model_id": "22b1487500cd43bd86682939709832a5",
       "version_major": 2,
       "version_minor": 0
      },
      "text/plain": [
       "(…)-00028-of-00165-91c38c2ae886e4f1.parquet:   0%|          | 0.00/613M [00:00<?, ?B/s]"
      ]
     },
     "metadata": {},
     "output_type": "display_data"
    },
    {
     "data": {
      "application/vnd.jupyter.widget-view+json": {
       "model_id": "d6d34533056e42e29007de68daaf547a",
       "version_major": 2,
       "version_minor": 0
      },
      "text/plain": [
       "(…)-00029-of-00165-dd228d833109a1a8.parquet:   0%|          | 0.00/639M [00:00<?, ?B/s]"
      ]
     },
     "metadata": {},
     "output_type": "display_data"
    },
    {
     "data": {
      "application/vnd.jupyter.widget-view+json": {
       "model_id": "a5d0b6032f624d1e822beb70f3222212",
       "version_major": 2,
       "version_minor": 0
      },
      "text/plain": [
       "(…)-00030-of-00165-310dfc29025b866f.parquet:   0%|          | 0.00/689M [00:00<?, ?B/s]"
      ]
     },
     "metadata": {},
     "output_type": "display_data"
    },
    {
     "data": {
      "application/vnd.jupyter.widget-view+json": {
       "model_id": "8e67b79ddf034aed8464e558fbecb261",
       "version_major": 2,
       "version_minor": 0
      },
      "text/plain": [
       "(…)-00031-of-00165-470a596d9d15c78c.parquet:   0%|          | 0.00/646M [00:00<?, ?B/s]"
      ]
     },
     "metadata": {},
     "output_type": "display_data"
    },
    {
     "data": {
      "application/vnd.jupyter.widget-view+json": {
       "model_id": "9b8a6c4311fa4be9b32c9ea29cda6562",
       "version_major": 2,
       "version_minor": 0
      },
      "text/plain": [
       "(…)-00032-of-00165-8577e68b63091bb0.parquet:   0%|          | 0.00/741M [00:00<?, ?B/s]"
      ]
     },
     "metadata": {},
     "output_type": "display_data"
    },
    {
     "data": {
      "application/vnd.jupyter.widget-view+json": {
       "model_id": "d36d3d243ce547af8416720c53c965c7",
       "version_major": 2,
       "version_minor": 0
      },
      "text/plain": [
       "(…)-00033-of-00165-e2b7147b70e140f3.parquet:   0%|          | 0.00/525M [00:00<?, ?B/s]"
      ]
     },
     "metadata": {},
     "output_type": "display_data"
    },
    {
     "data": {
      "application/vnd.jupyter.widget-view+json": {
       "model_id": "185c3704f7c245eaabd1f75075d276c5",
       "version_major": 2,
       "version_minor": 0
      },
      "text/plain": [
       "(…)-00034-of-00165-f261d000b4796300.parquet:   0%|          | 0.00/634M [00:00<?, ?B/s]"
      ]
     },
     "metadata": {},
     "output_type": "display_data"
    },
    {
     "data": {
      "application/vnd.jupyter.widget-view+json": {
       "model_id": "cac4bc3789044ac9bcc437534a094e0e",
       "version_major": 2,
       "version_minor": 0
      },
      "text/plain": [
       "(…)-00035-of-00165-62877007d35a9980.parquet:   0%|          | 0.00/632M [00:00<?, ?B/s]"
      ]
     },
     "metadata": {},
     "output_type": "display_data"
    },
    {
     "data": {
      "application/vnd.jupyter.widget-view+json": {
       "model_id": "cc56567983034fe4b60baf6788f9a7d4",
       "version_major": 2,
       "version_minor": 0
      },
      "text/plain": [
       "(…)-00036-of-00165-938ab70cbc1fcfb3.parquet:   0%|          | 0.00/660M [00:00<?, ?B/s]"
      ]
     },
     "metadata": {},
     "output_type": "display_data"
    },
    {
     "data": {
      "application/vnd.jupyter.widget-view+json": {
       "model_id": "c829a36117ce4eebbe231b275f7e091d",
       "version_major": 2,
       "version_minor": 0
      },
      "text/plain": [
       "(…)-00037-of-00165-d2575263856f0abd.parquet:   0%|          | 0.00/590M [00:00<?, ?B/s]"
      ]
     },
     "metadata": {},
     "output_type": "display_data"
    },
    {
     "data": {
      "application/vnd.jupyter.widget-view+json": {
       "model_id": "40ecb0479c2f4eb8a2add8aa2aca7b55",
       "version_major": 2,
       "version_minor": 0
      },
      "text/plain": [
       "(…)-00038-of-00165-1b816fb47efeec36.parquet:   0%|          | 0.00/740M [00:00<?, ?B/s]"
      ]
     },
     "metadata": {},
     "output_type": "display_data"
    },
    {
     "data": {
      "application/vnd.jupyter.widget-view+json": {
       "model_id": "87d110e2071548c3aec47c2121c40c67",
       "version_major": 2,
       "version_minor": 0
      },
      "text/plain": [
       "(…)-00039-of-00165-c3cdea429a4ee81f.parquet:   0%|          | 0.00/527M [00:00<?, ?B/s]"
      ]
     },
     "metadata": {},
     "output_type": "display_data"
    },
    {
     "data": {
      "application/vnd.jupyter.widget-view+json": {
       "model_id": "e4f34187fc664710aad7fef76ef8ed8e",
       "version_major": 2,
       "version_minor": 0
      },
      "text/plain": [
       "(…)-00040-of-00165-2174e12be05bb656.parquet:   0%|          | 0.00/662M [00:00<?, ?B/s]"
      ]
     },
     "metadata": {},
     "output_type": "display_data"
    },
    {
     "data": {
      "application/vnd.jupyter.widget-view+json": {
       "model_id": "aed667b7fdb14318a29f84d679312b85",
       "version_major": 2,
       "version_minor": 0
      },
      "text/plain": [
       "(…)-00041-of-00165-e6756737ade96708.parquet:   0%|          | 0.00/689M [00:00<?, ?B/s]"
      ]
     },
     "metadata": {},
     "output_type": "display_data"
    },
    {
     "data": {
      "application/vnd.jupyter.widget-view+json": {
       "model_id": "bf58e0ebd0c145bc9ffa24db1a53f0a0",
       "version_major": 2,
       "version_minor": 0
      },
      "text/plain": [
       "(…)-00042-of-00165-d8ab8f96d8a5b06b.parquet:   0%|          | 0.00/601M [00:00<?, ?B/s]"
      ]
     },
     "metadata": {},
     "output_type": "display_data"
    },
    {
     "data": {
      "application/vnd.jupyter.widget-view+json": {
       "model_id": "9d9ed11d1af34b4f9f8da00745b4047d",
       "version_major": 2,
       "version_minor": 0
      },
      "text/plain": [
       "(…)-00043-of-00165-4a2f4026c267b500.parquet:   0%|          | 0.00/672M [00:00<?, ?B/s]"
      ]
     },
     "metadata": {},
     "output_type": "display_data"
    },
    {
     "data": {
      "application/vnd.jupyter.widget-view+json": {
       "model_id": "6823f45fcb9045e7aac049e50af63350",
       "version_major": 2,
       "version_minor": 0
      },
      "text/plain": [
       "(…)-00044-of-00165-3261090bc03087b6.parquet:   0%|          | 0.00/671M [00:00<?, ?B/s]"
      ]
     },
     "metadata": {},
     "output_type": "display_data"
    },
    {
     "data": {
      "application/vnd.jupyter.widget-view+json": {
       "model_id": "10eaf4f8e3cd4facadeb0e7982a06ee6",
       "version_major": 2,
       "version_minor": 0
      },
      "text/plain": [
       "(…)-00045-of-00165-e052e26ae36e7a24.parquet:   0%|          | 0.00/557M [00:00<?, ?B/s]"
      ]
     },
     "metadata": {},
     "output_type": "display_data"
    },
    {
     "data": {
      "application/vnd.jupyter.widget-view+json": {
       "model_id": "75f94634ce7142b2b1273ede4cccffb8",
       "version_major": 2,
       "version_minor": 0
      },
      "text/plain": [
       "(…)-00046-of-00165-eb858bb401c9de7a.parquet:   0%|          | 0.00/566M [00:00<?, ?B/s]"
      ]
     },
     "metadata": {},
     "output_type": "display_data"
    },
    {
     "data": {
      "application/vnd.jupyter.widget-view+json": {
       "model_id": "6f0a9de7327342b79d50de8cdfbe0010",
       "version_major": 2,
       "version_minor": 0
      },
      "text/plain": [
       "(…)-00047-of-00165-af16fc0b70077ac2.parquet:   0%|          | 0.00/588M [00:00<?, ?B/s]"
      ]
     },
     "metadata": {},
     "output_type": "display_data"
    },
    {
     "data": {
      "application/vnd.jupyter.widget-view+json": {
       "model_id": "763f379896354232bdb3258d12250579",
       "version_major": 2,
       "version_minor": 0
      },
      "text/plain": [
       "(…)-00048-of-00165-9603d97ac2a6a0ff.parquet:   0%|          | 0.00/651M [00:00<?, ?B/s]"
      ]
     },
     "metadata": {},
     "output_type": "display_data"
    },
    {
     "data": {
      "application/vnd.jupyter.widget-view+json": {
       "model_id": "e33b5bba218440fca08fae82bcaa254d",
       "version_major": 2,
       "version_minor": 0
      },
      "text/plain": [
       "(…)-00049-of-00165-453a0068375c7aac.parquet:   0%|          | 0.00/629M [00:00<?, ?B/s]"
      ]
     },
     "metadata": {},
     "output_type": "display_data"
    },
    {
     "data": {
      "application/vnd.jupyter.widget-view+json": {
       "model_id": "dd9db5cca48d45489ce1629011f73273",
       "version_major": 2,
       "version_minor": 0
      },
      "text/plain": [
       "(…)-00050-of-00165-e68866b3656d8bbb.parquet:   0%|          | 0.00/713M [00:00<?, ?B/s]"
      ]
     },
     "metadata": {},
     "output_type": "display_data"
    },
    {
     "data": {
      "application/vnd.jupyter.widget-view+json": {
       "model_id": "2c3fcd25ba64434d8730f6500a2bca31",
       "version_major": 2,
       "version_minor": 0
      },
      "text/plain": [
       "(…)-00051-of-00165-4301ece490767ee2.parquet:   0%|          | 0.00/723M [00:00<?, ?B/s]"
      ]
     },
     "metadata": {},
     "output_type": "display_data"
    },
    {
     "data": {
      "application/vnd.jupyter.widget-view+json": {
       "model_id": "33b40e76f0bd4898885e99384f449be8",
       "version_major": 2,
       "version_minor": 0
      },
      "text/plain": [
       "(…)-00052-of-00165-b2726347662a84b6.parquet:   0%|          | 0.00/643M [00:00<?, ?B/s]"
      ]
     },
     "metadata": {},
     "output_type": "display_data"
    },
    {
     "data": {
      "application/vnd.jupyter.widget-view+json": {
       "model_id": "3ea58c93cfed439598f803c6daaa7f46",
       "version_major": 2,
       "version_minor": 0
      },
      "text/plain": [
       "(…)-00053-of-00165-f3b054c53d7974bb.parquet:   0%|          | 0.00/648M [00:00<?, ?B/s]"
      ]
     },
     "metadata": {},
     "output_type": "display_data"
    },
    {
     "data": {
      "application/vnd.jupyter.widget-view+json": {
       "model_id": "2315a890ab874bb5a0d4bfaeb908e0a5",
       "version_major": 2,
       "version_minor": 0
      },
      "text/plain": [
       "(…)-00054-of-00165-c77b066be8699370.parquet:   0%|          | 0.00/621M [00:00<?, ?B/s]"
      ]
     },
     "metadata": {},
     "output_type": "display_data"
    },
    {
     "data": {
      "application/vnd.jupyter.widget-view+json": {
       "model_id": "0644e3619d4f4a7dbadfc03ea081a6b6",
       "version_major": 2,
       "version_minor": 0
      },
      "text/plain": [
       "(…)-00055-of-00165-9c5808b54a0c72ac.parquet:   0%|          | 0.00/644M [00:00<?, ?B/s]"
      ]
     },
     "metadata": {},
     "output_type": "display_data"
    },
    {
     "data": {
      "application/vnd.jupyter.widget-view+json": {
       "model_id": "0f2d8daebe084fadb3665d0e62f87983",
       "version_major": 2,
       "version_minor": 0
      },
      "text/plain": [
       "(…)-00056-of-00165-3c04391fe7cbe88a.parquet:   0%|          | 0.00/663M [00:00<?, ?B/s]"
      ]
     },
     "metadata": {},
     "output_type": "display_data"
    },
    {
     "data": {
      "application/vnd.jupyter.widget-view+json": {
       "model_id": "24ffcca1c3aa481e90e03349a96cdddd",
       "version_major": 2,
       "version_minor": 0
      },
      "text/plain": [
       "(…)-00057-of-00165-287af72a94f92150.parquet:   0%|          | 0.00/710M [00:00<?, ?B/s]"
      ]
     },
     "metadata": {},
     "output_type": "display_data"
    },
    {
     "data": {
      "application/vnd.jupyter.widget-view+json": {
       "model_id": "bece830f0be64de68b62293de859329b",
       "version_major": 2,
       "version_minor": 0
      },
      "text/plain": [
       "(…)-00058-of-00165-5a803756aadc2b90.parquet:   0%|          | 0.00/644M [00:00<?, ?B/s]"
      ]
     },
     "metadata": {},
     "output_type": "display_data"
    },
    {
     "data": {
      "application/vnd.jupyter.widget-view+json": {
       "model_id": "9f677e4be42245d28acaa838b91c9848",
       "version_major": 2,
       "version_minor": 0
      },
      "text/plain": [
       "(…)-00059-of-00165-d453bde747958d05.parquet:   0%|          | 0.00/624M [00:00<?, ?B/s]"
      ]
     },
     "metadata": {},
     "output_type": "display_data"
    },
    {
     "data": {
      "application/vnd.jupyter.widget-view+json": {
       "model_id": "f4a287e6e23d407ab348b5324bddffeb",
       "version_major": 2,
       "version_minor": 0
      },
      "text/plain": [
       "(…)-00060-of-00165-88e39f34feebfe2b.parquet:   0%|          | 0.00/693M [00:00<?, ?B/s]"
      ]
     },
     "metadata": {},
     "output_type": "display_data"
    },
    {
     "data": {
      "application/vnd.jupyter.widget-view+json": {
       "model_id": "0de3780792cd49d1b22a823ceb8fa1b3",
       "version_major": 2,
       "version_minor": 0
      },
      "text/plain": [
       "(…)-00061-of-00165-bed699bf0fb8c2c5.parquet:   0%|          | 0.00/572M [00:00<?, ?B/s]"
      ]
     },
     "metadata": {},
     "output_type": "display_data"
    },
    {
     "data": {
      "application/vnd.jupyter.widget-view+json": {
       "model_id": "d4ab112104684d5a867f587690a54cd3",
       "version_major": 2,
       "version_minor": 0
      },
      "text/plain": [
       "(…)-00062-of-00165-ab87dda02bbf7789.parquet:   0%|          | 0.00/573M [00:00<?, ?B/s]"
      ]
     },
     "metadata": {},
     "output_type": "display_data"
    },
    {
     "data": {
      "application/vnd.jupyter.widget-view+json": {
       "model_id": "8cd174d50ac04d2a9916ea270fd9456d",
       "version_major": 2,
       "version_minor": 0
      },
      "text/plain": [
       "(…)-00063-of-00165-0d4c6b483476dd24.parquet:   0%|          | 0.00/667M [00:00<?, ?B/s]"
      ]
     },
     "metadata": {},
     "output_type": "display_data"
    },
    {
     "data": {
      "application/vnd.jupyter.widget-view+json": {
       "model_id": "0a1b581d866049668537ce008efc51d3",
       "version_major": 2,
       "version_minor": 0
      },
      "text/plain": [
       "(…)-00064-of-00165-9b9d2d479eefe497.parquet:   0%|          | 0.00/675M [00:00<?, ?B/s]"
      ]
     },
     "metadata": {},
     "output_type": "display_data"
    },
    {
     "data": {
      "application/vnd.jupyter.widget-view+json": {
       "model_id": "db43e2f939904ef4ad13456145ac78c4",
       "version_major": 2,
       "version_minor": 0
      },
      "text/plain": [
       "(…)-00065-of-00165-eaa16299b852ef67.parquet:   0%|          | 0.00/563M [00:00<?, ?B/s]"
      ]
     },
     "metadata": {},
     "output_type": "display_data"
    },
    {
     "data": {
      "application/vnd.jupyter.widget-view+json": {
       "model_id": "6befc55c10f54d57a7f236e37e549fbb",
       "version_major": 2,
       "version_minor": 0
      },
      "text/plain": [
       "(…)-00066-of-00165-2b1bb4f1aa2951fa.parquet:   0%|          | 0.00/633M [00:00<?, ?B/s]"
      ]
     },
     "metadata": {},
     "output_type": "display_data"
    },
    {
     "data": {
      "application/vnd.jupyter.widget-view+json": {
       "model_id": "5a07ecfbdaed4f2c8f4d07f011128a46",
       "version_major": 2,
       "version_minor": 0
      },
      "text/plain": [
       "(…)-00067-of-00165-4b890a5377902577.parquet:   0%|          | 0.00/645M [00:00<?, ?B/s]"
      ]
     },
     "metadata": {},
     "output_type": "display_data"
    },
    {
     "data": {
      "application/vnd.jupyter.widget-view+json": {
       "model_id": "ee17ca637c974cb8bf915554f150c113",
       "version_major": 2,
       "version_minor": 0
      },
      "text/plain": [
       "(…)-00068-of-00165-9d16c099b39521bf.parquet:   0%|          | 0.00/633M [00:00<?, ?B/s]"
      ]
     },
     "metadata": {},
     "output_type": "display_data"
    },
    {
     "data": {
      "application/vnd.jupyter.widget-view+json": {
       "model_id": "ae013ff7c47b4a459febde56c90053fe",
       "version_major": 2,
       "version_minor": 0
      },
      "text/plain": [
       "(…)-00069-of-00165-622bd7471c79b77c.parquet:   0%|          | 0.00/626M [00:00<?, ?B/s]"
      ]
     },
     "metadata": {},
     "output_type": "display_data"
    },
    {
     "data": {
      "application/vnd.jupyter.widget-view+json": {
       "model_id": "9972b12e60c04f6b82fe672b5e5f70cb",
       "version_major": 2,
       "version_minor": 0
      },
      "text/plain": [
       "(…)-00070-of-00165-fc029dbe5dbca626.parquet:   0%|          | 0.00/578M [00:00<?, ?B/s]"
      ]
     },
     "metadata": {},
     "output_type": "display_data"
    },
    {
     "data": {
      "application/vnd.jupyter.widget-view+json": {
       "model_id": "aae5c8ddc1ca43c38f1d7f59ed1d983d",
       "version_major": 2,
       "version_minor": 0
      },
      "text/plain": [
       "(…)-00071-of-00165-cd97116be6f4c2f7.parquet:   0%|          | 0.00/632M [00:00<?, ?B/s]"
      ]
     },
     "metadata": {},
     "output_type": "display_data"
    },
    {
     "data": {
      "application/vnd.jupyter.widget-view+json": {
       "model_id": "34899817553e40f4af0fc6636256daaa",
       "version_major": 2,
       "version_minor": 0
      },
      "text/plain": [
       "(…)-00072-of-00165-430101ba5ee89680.parquet:   0%|          | 0.00/709M [00:00<?, ?B/s]"
      ]
     },
     "metadata": {},
     "output_type": "display_data"
    },
    {
     "data": {
      "application/vnd.jupyter.widget-view+json": {
       "model_id": "099fda056e5140468a6ee2abd27e6d3f",
       "version_major": 2,
       "version_minor": 0
      },
      "text/plain": [
       "(…)-00073-of-00165-37ca4d8e1fcd5b35.parquet:   0%|          | 0.00/683M [00:00<?, ?B/s]"
      ]
     },
     "metadata": {},
     "output_type": "display_data"
    },
    {
     "data": {
      "application/vnd.jupyter.widget-view+json": {
       "model_id": "623a90e65f9f48ee8c4dfdab0f497c76",
       "version_major": 2,
       "version_minor": 0
      },
      "text/plain": [
       "(…)-00074-of-00165-3247e8c58b07238e.parquet:   0%|          | 0.00/567M [00:00<?, ?B/s]"
      ]
     },
     "metadata": {},
     "output_type": "display_data"
    },
    {
     "data": {
      "application/vnd.jupyter.widget-view+json": {
       "model_id": "ffdeae44422e41b29c5d5af924ddf5d3",
       "version_major": 2,
       "version_minor": 0
      },
      "text/plain": [
       "(…)-00075-of-00165-c0ebcc169b1f62d2.parquet:   0%|          | 0.00/647M [00:00<?, ?B/s]"
      ]
     },
     "metadata": {},
     "output_type": "display_data"
    },
    {
     "data": {
      "application/vnd.jupyter.widget-view+json": {
       "model_id": "da896071c01943b49ca30c259a63acb7",
       "version_major": 2,
       "version_minor": 0
      },
      "text/plain": [
       "(…)-00076-of-00165-145bfead78c61291.parquet:   0%|          | 0.00/634M [00:00<?, ?B/s]"
      ]
     },
     "metadata": {},
     "output_type": "display_data"
    },
    {
     "data": {
      "application/vnd.jupyter.widget-view+json": {
       "model_id": "f0b74e35a21243418249546b6717711f",
       "version_major": 2,
       "version_minor": 0
      },
      "text/plain": [
       "(…)-00077-of-00165-5f492f37473b51db.parquet:   0%|          | 0.00/719M [00:00<?, ?B/s]"
      ]
     },
     "metadata": {},
     "output_type": "display_data"
    },
    {
     "data": {
      "application/vnd.jupyter.widget-view+json": {
       "model_id": "7e702a18d6eb4642ae597ebca4b60f42",
       "version_major": 2,
       "version_minor": 0
      },
      "text/plain": [
       "(…)-00078-of-00165-043143f929682d11.parquet:   0%|          | 0.00/580M [00:00<?, ?B/s]"
      ]
     },
     "metadata": {},
     "output_type": "display_data"
    },
    {
     "data": {
      "application/vnd.jupyter.widget-view+json": {
       "model_id": "92fb34585aca49e39c4845b0b9de0797",
       "version_major": 2,
       "version_minor": 0
      },
      "text/plain": [
       "(…)-00079-of-00165-804c418d8e72121d.parquet:   0%|          | 0.00/551M [00:00<?, ?B/s]"
      ]
     },
     "metadata": {},
     "output_type": "display_data"
    },
    {
     "data": {
      "application/vnd.jupyter.widget-view+json": {
       "model_id": "380fca10296e49899ee64b06a39fcdc9",
       "version_major": 2,
       "version_minor": 0
      },
      "text/plain": [
       "(…)-00080-of-00165-ecafff20108a0cc0.parquet:   0%|          | 0.00/562M [00:00<?, ?B/s]"
      ]
     },
     "metadata": {},
     "output_type": "display_data"
    },
    {
     "data": {
      "application/vnd.jupyter.widget-view+json": {
       "model_id": "4b29533099174edaa34e3cac1de10ece",
       "version_major": 2,
       "version_minor": 0
      },
      "text/plain": [
       "(…)-00081-of-00165-7c73924f2652b743.parquet:   0%|          | 0.00/523M [00:00<?, ?B/s]"
      ]
     },
     "metadata": {},
     "output_type": "display_data"
    },
    {
     "data": {
      "application/vnd.jupyter.widget-view+json": {
       "model_id": "1cc48056715c474a87756a0660ca48c7",
       "version_major": 2,
       "version_minor": 0
      },
      "text/plain": [
       "(…)-00082-of-00165-23c707fc838091a8.parquet:   0%|          | 0.00/629M [00:00<?, ?B/s]"
      ]
     },
     "metadata": {},
     "output_type": "display_data"
    },
    {
     "data": {
      "application/vnd.jupyter.widget-view+json": {
       "model_id": "7b3bde81e46540f79ed2d03b6b0d2f1f",
       "version_major": 2,
       "version_minor": 0
      },
      "text/plain": [
       "(…)-00083-of-00165-5495522769425428.parquet:   0%|          | 0.00/576M [00:00<?, ?B/s]"
      ]
     },
     "metadata": {},
     "output_type": "display_data"
    },
    {
     "data": {
      "application/vnd.jupyter.widget-view+json": {
       "model_id": "09352df8ab244a0da5c4d239391daebb",
       "version_major": 2,
       "version_minor": 0
      },
      "text/plain": [
       "(…)-00084-of-00165-18d199716934cba0.parquet:   0%|          | 0.00/618M [00:00<?, ?B/s]"
      ]
     },
     "metadata": {},
     "output_type": "display_data"
    },
    {
     "data": {
      "application/vnd.jupyter.widget-view+json": {
       "model_id": "f6303c588d03447ba0372b4bf797d913",
       "version_major": 2,
       "version_minor": 0
      },
      "text/plain": [
       "(…)-00085-of-00165-57a95990ff1f500c.parquet:   0%|          | 0.00/635M [00:00<?, ?B/s]"
      ]
     },
     "metadata": {},
     "output_type": "display_data"
    },
    {
     "data": {
      "application/vnd.jupyter.widget-view+json": {
       "model_id": "83e5df3b333d4e7da61e80391d3e9eaf",
       "version_major": 2,
       "version_minor": 0
      },
      "text/plain": [
       "(…)-00086-of-00165-85cd1e780c350ce2.parquet:   0%|          | 0.00/610M [00:00<?, ?B/s]"
      ]
     },
     "metadata": {},
     "output_type": "display_data"
    },
    {
     "data": {
      "application/vnd.jupyter.widget-view+json": {
       "model_id": "7da50b400fec4d67a7b16efc76b72f52",
       "version_major": 2,
       "version_minor": 0
      },
      "text/plain": [
       "(…)-00087-of-00165-f5bb1e2733a28730.parquet:   0%|          | 0.00/619M [00:00<?, ?B/s]"
      ]
     },
     "metadata": {},
     "output_type": "display_data"
    },
    {
     "data": {
      "application/vnd.jupyter.widget-view+json": {
       "model_id": "3977a66be2f345269e8784bb0f9beb94",
       "version_major": 2,
       "version_minor": 0
      },
      "text/plain": [
       "(…)-00088-of-00165-ab834a222a0d7f58.parquet:   0%|          | 0.00/607M [00:00<?, ?B/s]"
      ]
     },
     "metadata": {},
     "output_type": "display_data"
    },
    {
     "data": {
      "application/vnd.jupyter.widget-view+json": {
       "model_id": "38fb2acdedfb4bffa8fc55f659f056f6",
       "version_major": 2,
       "version_minor": 0
      },
      "text/plain": [
       "(…)-00089-of-00165-c93dcb15ca06f9dd.parquet:   0%|          | 0.00/650M [00:00<?, ?B/s]"
      ]
     },
     "metadata": {},
     "output_type": "display_data"
    },
    {
     "data": {
      "application/vnd.jupyter.widget-view+json": {
       "model_id": "238d0d84f8d24505b51aa95db2630f15",
       "version_major": 2,
       "version_minor": 0
      },
      "text/plain": [
       "(…)-00090-of-00165-d5a5e6c93c3c7616.parquet:   0%|          | 0.00/660M [00:00<?, ?B/s]"
      ]
     },
     "metadata": {},
     "output_type": "display_data"
    },
    {
     "data": {
      "application/vnd.jupyter.widget-view+json": {
       "model_id": "88bdca3ffd1b429a8de23671ca54242c",
       "version_major": 2,
       "version_minor": 0
      },
      "text/plain": [
       "(…)-00091-of-00165-8b886ba46c8e6d00.parquet:   0%|          | 0.00/589M [00:00<?, ?B/s]"
      ]
     },
     "metadata": {},
     "output_type": "display_data"
    },
    {
     "data": {
      "application/vnd.jupyter.widget-view+json": {
       "model_id": "190ec2765ad14e73b1fcb0a9fe6efdeb",
       "version_major": 2,
       "version_minor": 0
      },
      "text/plain": [
       "(…)-00092-of-00165-f436539793cce3e1.parquet:   0%|          | 0.00/578M [00:00<?, ?B/s]"
      ]
     },
     "metadata": {},
     "output_type": "display_data"
    },
    {
     "data": {
      "application/vnd.jupyter.widget-view+json": {
       "model_id": "65bcde4944084ec789194761df5eccec",
       "version_major": 2,
       "version_minor": 0
      },
      "text/plain": [
       "(…)-00093-of-00165-04a0e66bb1989acc.parquet:   0%|          | 0.00/680M [00:00<?, ?B/s]"
      ]
     },
     "metadata": {},
     "output_type": "display_data"
    },
    {
     "data": {
      "application/vnd.jupyter.widget-view+json": {
       "model_id": "a7ad0ce4d0fe46df9fecc818ec746a2d",
       "version_major": 2,
       "version_minor": 0
      },
      "text/plain": [
       "(…)-00094-of-00165-dd9896fba979b5cb.parquet:   0%|          | 0.00/574M [00:00<?, ?B/s]"
      ]
     },
     "metadata": {},
     "output_type": "display_data"
    },
    {
     "data": {
      "application/vnd.jupyter.widget-view+json": {
       "model_id": "c64feb1c4de646c3a358f96325419ee2",
       "version_major": 2,
       "version_minor": 0
      },
      "text/plain": [
       "(…)-00095-of-00165-f7a7afc77777bc11.parquet:   0%|          | 0.00/703M [00:00<?, ?B/s]"
      ]
     },
     "metadata": {},
     "output_type": "display_data"
    },
    {
     "data": {
      "application/vnd.jupyter.widget-view+json": {
       "model_id": "3d9050aaf0d6429e82283a3d59f4d484",
       "version_major": 2,
       "version_minor": 0
      },
      "text/plain": [
       "(…)-00096-of-00165-5568e11fac9ba45d.parquet:   0%|          | 0.00/533M [00:00<?, ?B/s]"
      ]
     },
     "metadata": {},
     "output_type": "display_data"
    },
    {
     "data": {
      "application/vnd.jupyter.widget-view+json": {
       "model_id": "9b64cf93e60e4fbe93305e5d2f26adc7",
       "version_major": 2,
       "version_minor": 0
      },
      "text/plain": [
       "(…)-00097-of-00165-a157f9ea403ddcf3.parquet:   0%|          | 0.00/639M [00:00<?, ?B/s]"
      ]
     },
     "metadata": {},
     "output_type": "display_data"
    },
    {
     "data": {
      "application/vnd.jupyter.widget-view+json": {
       "model_id": "9dd48235a30d46fb8689fc849c2e9de3",
       "version_major": 2,
       "version_minor": 0
      },
      "text/plain": [
       "(…)-00098-of-00165-a092badc5de80a3c.parquet:   0%|          | 0.00/584M [00:00<?, ?B/s]"
      ]
     },
     "metadata": {},
     "output_type": "display_data"
    },
    {
     "data": {
      "application/vnd.jupyter.widget-view+json": {
       "model_id": "182ef6fbd53b4c329ecc50abbc1a7b4b",
       "version_major": 2,
       "version_minor": 0
      },
      "text/plain": [
       "(…)-00099-of-00165-b125f17f5a785aab.parquet:   0%|          | 0.00/729M [00:00<?, ?B/s]"
      ]
     },
     "metadata": {},
     "output_type": "display_data"
    },
    {
     "data": {
      "application/vnd.jupyter.widget-view+json": {
       "model_id": "6f6593bc61f74cde95902e7b2cb05a60",
       "version_major": 2,
       "version_minor": 0
      },
      "text/plain": [
       "(…)-00100-of-00165-3f0489c94efca24a.parquet:   0%|          | 0.00/608M [00:00<?, ?B/s]"
      ]
     },
     "metadata": {},
     "output_type": "display_data"
    },
    {
     "data": {
      "application/vnd.jupyter.widget-view+json": {
       "model_id": "9b435490adba4a038261382f6c8be947",
       "version_major": 2,
       "version_minor": 0
      },
      "text/plain": [
       "(…)-00101-of-00165-ce8dcde6e058f971.parquet:   0%|          | 0.00/609M [00:00<?, ?B/s]"
      ]
     },
     "metadata": {},
     "output_type": "display_data"
    },
    {
     "data": {
      "application/vnd.jupyter.widget-view+json": {
       "model_id": "81ca19f9ef0f47e6bab6cad2253f9c60",
       "version_major": 2,
       "version_minor": 0
      },
      "text/plain": [
       "(…)-00102-of-00165-79b6ec554ea74c93.parquet:   0%|          | 0.00/580M [00:00<?, ?B/s]"
      ]
     },
     "metadata": {},
     "output_type": "display_data"
    },
    {
     "data": {
      "application/vnd.jupyter.widget-view+json": {
       "model_id": "91b33a5b29f24110af87a655ca8ff093",
       "version_major": 2,
       "version_minor": 0
      },
      "text/plain": [
       "(…)-00103-of-00165-bd9bfc40702eca93.parquet:   0%|          | 0.00/630M [00:00<?, ?B/s]"
      ]
     },
     "metadata": {},
     "output_type": "display_data"
    },
    {
     "data": {
      "application/vnd.jupyter.widget-view+json": {
       "model_id": "4657670cd2754eae853cb3f709a4566b",
       "version_major": 2,
       "version_minor": 0
      },
      "text/plain": [
       "(…)-00104-of-00165-3357ca8d2f3d8282.parquet:   0%|          | 0.00/585M [00:00<?, ?B/s]"
      ]
     },
     "metadata": {},
     "output_type": "display_data"
    },
    {
     "data": {
      "application/vnd.jupyter.widget-view+json": {
       "model_id": "6e1ccb3b594a4cdb85ec9fdd68823d72",
       "version_major": 2,
       "version_minor": 0
      },
      "text/plain": [
       "(…)-00105-of-00165-03a5e0ec40b24dc8.parquet:   0%|          | 0.00/548M [00:00<?, ?B/s]"
      ]
     },
     "metadata": {},
     "output_type": "display_data"
    },
    {
     "data": {
      "application/vnd.jupyter.widget-view+json": {
       "model_id": "c6aa5f48c90f4eca87a8dcdeea9cbdc3",
       "version_major": 2,
       "version_minor": 0
      },
      "text/plain": [
       "(…)-00106-of-00165-9c234f62018ba70b.parquet:   0%|          | 0.00/652M [00:00<?, ?B/s]"
      ]
     },
     "metadata": {},
     "output_type": "display_data"
    },
    {
     "data": {
      "application/vnd.jupyter.widget-view+json": {
       "model_id": "71ab50bc112e40548edef258601e67a3",
       "version_major": 2,
       "version_minor": 0
      },
      "text/plain": [
       "(…)-00107-of-00165-a5c60cc98fc4918a.parquet:   0%|          | 0.00/695M [00:00<?, ?B/s]"
      ]
     },
     "metadata": {},
     "output_type": "display_data"
    },
    {
     "data": {
      "application/vnd.jupyter.widget-view+json": {
       "model_id": "2107b1b0088147e28fe2e10f7d19f725",
       "version_major": 2,
       "version_minor": 0
      },
      "text/plain": [
       "(…)-00108-of-00165-c7f66eccf15977f8.parquet:   0%|          | 0.00/575M [00:00<?, ?B/s]"
      ]
     },
     "metadata": {},
     "output_type": "display_data"
    },
    {
     "data": {
      "application/vnd.jupyter.widget-view+json": {
       "model_id": "623250296f3d4c6cb5b8dbde35fc1a03",
       "version_major": 2,
       "version_minor": 0
      },
      "text/plain": [
       "(…)-00109-of-00165-1e8c14f76992dc2b.parquet:   0%|          | 0.00/635M [00:00<?, ?B/s]"
      ]
     },
     "metadata": {},
     "output_type": "display_data"
    },
    {
     "data": {
      "application/vnd.jupyter.widget-view+json": {
       "model_id": "bb88b7cc05bf4a48b0f400a4038357e5",
       "version_major": 2,
       "version_minor": 0
      },
      "text/plain": [
       "(…)-00110-of-00165-b622a63eb2c055d7.parquet:   0%|          | 0.00/675M [00:00<?, ?B/s]"
      ]
     },
     "metadata": {},
     "output_type": "display_data"
    },
    {
     "data": {
      "application/vnd.jupyter.widget-view+json": {
       "model_id": "802f05ec926943abbe262019caae39dd",
       "version_major": 2,
       "version_minor": 0
      },
      "text/plain": [
       "(…)-00111-of-00165-7aba1dd908e5fd2e.parquet:   0%|          | 0.00/609M [00:00<?, ?B/s]"
      ]
     },
     "metadata": {},
     "output_type": "display_data"
    },
    {
     "data": {
      "application/vnd.jupyter.widget-view+json": {
       "model_id": "9d70f3c732c94e23a23c7e85adcc2c84",
       "version_major": 2,
       "version_minor": 0
      },
      "text/plain": [
       "(…)-00112-of-00165-c40bce3ceeda613a.parquet:   0%|          | 0.00/623M [00:00<?, ?B/s]"
      ]
     },
     "metadata": {},
     "output_type": "display_data"
    },
    {
     "data": {
      "application/vnd.jupyter.widget-view+json": {
       "model_id": "49b642901111474e8ea85144aefe1927",
       "version_major": 2,
       "version_minor": 0
      },
      "text/plain": [
       "(…)-00113-of-00165-8103b620240eb377.parquet:   0%|          | 0.00/733M [00:00<?, ?B/s]"
      ]
     },
     "metadata": {},
     "output_type": "display_data"
    },
    {
     "data": {
      "application/vnd.jupyter.widget-view+json": {
       "model_id": "3deef2ae62a54e42908915d54c9c2097",
       "version_major": 2,
       "version_minor": 0
      },
      "text/plain": [
       "(…)-00114-of-00165-bb033ac84d097d9a.parquet:   0%|          | 0.00/603M [00:00<?, ?B/s]"
      ]
     },
     "metadata": {},
     "output_type": "display_data"
    },
    {
     "data": {
      "application/vnd.jupyter.widget-view+json": {
       "model_id": "76d75067d62b401da17b718ad63faeb5",
       "version_major": 2,
       "version_minor": 0
      },
      "text/plain": [
       "(…)-00115-of-00165-4b55a77725b8693f.parquet:   0%|          | 0.00/592M [00:00<?, ?B/s]"
      ]
     },
     "metadata": {},
     "output_type": "display_data"
    },
    {
     "data": {
      "application/vnd.jupyter.widget-view+json": {
       "model_id": "e146419130fb45b19c6a7fda24e4c689",
       "version_major": 2,
       "version_minor": 0
      },
      "text/plain": [
       "(…)-00116-of-00165-8becd986216270c0.parquet:   0%|          | 0.00/524M [00:00<?, ?B/s]"
      ]
     },
     "metadata": {},
     "output_type": "display_data"
    },
    {
     "data": {
      "application/vnd.jupyter.widget-view+json": {
       "model_id": "c93c6ef3d56c4576a453cc5d0c846c76",
       "version_major": 2,
       "version_minor": 0
      },
      "text/plain": [
       "(…)-00117-of-00165-ecd2a70ad5580edb.parquet:   0%|          | 0.00/528M [00:00<?, ?B/s]"
      ]
     },
     "metadata": {},
     "output_type": "display_data"
    },
    {
     "data": {
      "application/vnd.jupyter.widget-view+json": {
       "model_id": "ef63743f0241419f958444b3dcf01496",
       "version_major": 2,
       "version_minor": 0
      },
      "text/plain": [
       "(…)-00118-of-00165-6f77846628c3a626.parquet:   0%|          | 0.00/603M [00:00<?, ?B/s]"
      ]
     },
     "metadata": {},
     "output_type": "display_data"
    },
    {
     "data": {
      "application/vnd.jupyter.widget-view+json": {
       "model_id": "71eb8ba78f764adf980955667052c12d",
       "version_major": 2,
       "version_minor": 0
      },
      "text/plain": [
       "(…)-00119-of-00165-3c16ad0e58aadb9f.parquet:   0%|          | 0.00/667M [00:00<?, ?B/s]"
      ]
     },
     "metadata": {},
     "output_type": "display_data"
    },
    {
     "data": {
      "application/vnd.jupyter.widget-view+json": {
       "model_id": "93d3eba7b73e4f7c8a44e696ce556d08",
       "version_major": 2,
       "version_minor": 0
      },
      "text/plain": [
       "(…)-00120-of-00165-fc2c0f9283fbc478.parquet:   0%|          | 0.00/720M [00:00<?, ?B/s]"
      ]
     },
     "metadata": {},
     "output_type": "display_data"
    },
    {
     "data": {
      "application/vnd.jupyter.widget-view+json": {
       "model_id": "7ac60e153a534e7cb5317ab4a2e737b6",
       "version_major": 2,
       "version_minor": 0
      },
      "text/plain": [
       "(…)-00121-of-00165-b57eede9abb4213a.parquet:   0%|          | 0.00/621M [00:00<?, ?B/s]"
      ]
     },
     "metadata": {},
     "output_type": "display_data"
    },
    {
     "data": {
      "application/vnd.jupyter.widget-view+json": {
       "model_id": "2c12adc0cf134253ac239a17f24668fd",
       "version_major": 2,
       "version_minor": 0
      },
      "text/plain": [
       "(…)-00122-of-00165-d8f793c957ff18af.parquet:   0%|          | 0.00/649M [00:00<?, ?B/s]"
      ]
     },
     "metadata": {},
     "output_type": "display_data"
    },
    {
     "data": {
      "application/vnd.jupyter.widget-view+json": {
       "model_id": "888f0101f18141b4ac67b7550d8a2ff3",
       "version_major": 2,
       "version_minor": 0
      },
      "text/plain": [
       "(…)-00123-of-00165-8d5bb2f686cbf4fe.parquet:   0%|          | 0.00/592M [00:00<?, ?B/s]"
      ]
     },
     "metadata": {},
     "output_type": "display_data"
    },
    {
     "data": {
      "application/vnd.jupyter.widget-view+json": {
       "model_id": "da3183a114eb4e8face8386850e0a558",
       "version_major": 2,
       "version_minor": 0
      },
      "text/plain": [
       "(…)-00124-of-00165-dbd5f37f8eb10042.parquet:   0%|          | 0.00/597M [00:00<?, ?B/s]"
      ]
     },
     "metadata": {},
     "output_type": "display_data"
    },
    {
     "data": {
      "application/vnd.jupyter.widget-view+json": {
       "model_id": "5d92be8851dd4a90abfe367b33ca5ea4",
       "version_major": 2,
       "version_minor": 0
      },
      "text/plain": [
       "(…)-00125-of-00165-d9872cf29bf0f04e.parquet:   0%|          | 0.00/633M [00:00<?, ?B/s]"
      ]
     },
     "metadata": {},
     "output_type": "display_data"
    },
    {
     "data": {
      "application/vnd.jupyter.widget-view+json": {
       "model_id": "5323d1b1b1464cc08e1aff52a935c356",
       "version_major": 2,
       "version_minor": 0
      },
      "text/plain": [
       "(…)-00126-of-00165-fd7cd857fdda51a5.parquet:   0%|          | 0.00/644M [00:00<?, ?B/s]"
      ]
     },
     "metadata": {},
     "output_type": "display_data"
    },
    {
     "data": {
      "application/vnd.jupyter.widget-view+json": {
       "model_id": "a91ab86695944ddf9fdfa5e069ffcf15",
       "version_major": 2,
       "version_minor": 0
      },
      "text/plain": [
       "(…)-00127-of-00165-9988648c65d830a7.parquet:   0%|          | 0.00/641M [00:00<?, ?B/s]"
      ]
     },
     "metadata": {},
     "output_type": "display_data"
    },
    {
     "data": {
      "application/vnd.jupyter.widget-view+json": {
       "model_id": "4c67da13d35942faaeda18d598422ecd",
       "version_major": 2,
       "version_minor": 0
      },
      "text/plain": [
       "(…)-00128-of-00165-05b6fa986304da6b.parquet:   0%|          | 0.00/598M [00:00<?, ?B/s]"
      ]
     },
     "metadata": {},
     "output_type": "display_data"
    },
    {
     "data": {
      "application/vnd.jupyter.widget-view+json": {
       "model_id": "d476e7c5a6b14ff7ac025cfd2a0f7956",
       "version_major": 2,
       "version_minor": 0
      },
      "text/plain": [
       "(…)-00129-of-00165-7f81f2ff43d610f5.parquet:   0%|          | 0.00/570M [00:00<?, ?B/s]"
      ]
     },
     "metadata": {},
     "output_type": "display_data"
    },
    {
     "data": {
      "application/vnd.jupyter.widget-view+json": {
       "model_id": "1308b7bc22b3424eae02c411b7673704",
       "version_major": 2,
       "version_minor": 0
      },
      "text/plain": [
       "(…)-00130-of-00165-8d63e5150a80dce1.parquet:   0%|          | 0.00/636M [00:00<?, ?B/s]"
      ]
     },
     "metadata": {},
     "output_type": "display_data"
    },
    {
     "data": {
      "application/vnd.jupyter.widget-view+json": {
       "model_id": "27e4440203fe46529e11e6b8324372d8",
       "version_major": 2,
       "version_minor": 0
      },
      "text/plain": [
       "(…)-00131-of-00165-a25a78672ec733a8.parquet:   0%|          | 0.00/620M [00:00<?, ?B/s]"
      ]
     },
     "metadata": {},
     "output_type": "display_data"
    },
    {
     "data": {
      "application/vnd.jupyter.widget-view+json": {
       "model_id": "ac1b4d380f0a49c69853d1fae12af072",
       "version_major": 2,
       "version_minor": 0
      },
      "text/plain": [
       "(…)-00132-of-00165-1183c7a006bc7ee9.parquet:   0%|          | 0.00/656M [00:00<?, ?B/s]"
      ]
     },
     "metadata": {},
     "output_type": "display_data"
    },
    {
     "data": {
      "application/vnd.jupyter.widget-view+json": {
       "model_id": "fa859cb4db3644bdbe3ace4ae9be54c7",
       "version_major": 2,
       "version_minor": 0
      },
      "text/plain": [
       "(…)-00133-of-00165-f96e190e28878d05.parquet:   0%|          | 0.00/582M [00:00<?, ?B/s]"
      ]
     },
     "metadata": {},
     "output_type": "display_data"
    },
    {
     "data": {
      "application/vnd.jupyter.widget-view+json": {
       "model_id": "f7bf9937ce7f4ab987435a6af81b02c0",
       "version_major": 2,
       "version_minor": 0
      },
      "text/plain": [
       "(…)-00134-of-00165-3a06edf0255af7d0.parquet:   0%|          | 0.00/655M [00:00<?, ?B/s]"
      ]
     },
     "metadata": {},
     "output_type": "display_data"
    },
    {
     "data": {
      "application/vnd.jupyter.widget-view+json": {
       "model_id": "97e4de2d70204d6c91d5c5aa83fe317e",
       "version_major": 2,
       "version_minor": 0
      },
      "text/plain": [
       "(…)-00135-of-00165-ec33936b942d94fd.parquet:   0%|          | 0.00/533M [00:00<?, ?B/s]"
      ]
     },
     "metadata": {},
     "output_type": "display_data"
    },
    {
     "data": {
      "application/vnd.jupyter.widget-view+json": {
       "model_id": "8f670f563e0b43d7b46068fe3ef94a39",
       "version_major": 2,
       "version_minor": 0
      },
      "text/plain": [
       "(…)-00136-of-00165-cad6206e30df9736.parquet:   0%|          | 0.00/655M [00:00<?, ?B/s]"
      ]
     },
     "metadata": {},
     "output_type": "display_data"
    },
    {
     "data": {
      "application/vnd.jupyter.widget-view+json": {
       "model_id": "1ae366a8739149e496a4df0cc6333567",
       "version_major": 2,
       "version_minor": 0
      },
      "text/plain": [
       "(…)-00137-of-00165-0c71ad2d7a175908.parquet:   0%|          | 0.00/597M [00:00<?, ?B/s]"
      ]
     },
     "metadata": {},
     "output_type": "display_data"
    },
    {
     "data": {
      "application/vnd.jupyter.widget-view+json": {
       "model_id": "ad78ffded2c546458a2731717619b0ce",
       "version_major": 2,
       "version_minor": 0
      },
      "text/plain": [
       "(…)-00138-of-00165-6043db4aed37ff3c.parquet:   0%|          | 0.00/692M [00:00<?, ?B/s]"
      ]
     },
     "metadata": {},
     "output_type": "display_data"
    },
    {
     "data": {
      "application/vnd.jupyter.widget-view+json": {
       "model_id": "daba4909e32842749d7bbb4cc625f16e",
       "version_major": 2,
       "version_minor": 0
      },
      "text/plain": [
       "(…)-00139-of-00165-3c8738d9735f667b.parquet:   0%|          | 0.00/688M [00:00<?, ?B/s]"
      ]
     },
     "metadata": {},
     "output_type": "display_data"
    },
    {
     "data": {
      "application/vnd.jupyter.widget-view+json": {
       "model_id": "ba2940b5538e4d488897cafcc63b6112",
       "version_major": 2,
       "version_minor": 0
      },
      "text/plain": [
       "(…)-00140-of-00165-a93702a95e36e26a.parquet:   0%|          | 0.00/658M [00:00<?, ?B/s]"
      ]
     },
     "metadata": {},
     "output_type": "display_data"
    },
    {
     "data": {
      "application/vnd.jupyter.widget-view+json": {
       "model_id": "6189d497bba84365ab4b2ec9cc4cf095",
       "version_major": 2,
       "version_minor": 0
      },
      "text/plain": [
       "(…)-00141-of-00165-07bc024c014ecf88.parquet:   0%|          | 0.00/732M [00:00<?, ?B/s]"
      ]
     },
     "metadata": {},
     "output_type": "display_data"
    },
    {
     "data": {
      "application/vnd.jupyter.widget-view+json": {
       "model_id": "88a4a464d28c4412afd0185b09900a55",
       "version_major": 2,
       "version_minor": 0
      },
      "text/plain": [
       "(…)-00142-of-00165-55b82aa4693925ef.parquet:   0%|          | 0.00/600M [00:00<?, ?B/s]"
      ]
     },
     "metadata": {},
     "output_type": "display_data"
    },
    {
     "data": {
      "application/vnd.jupyter.widget-view+json": {
       "model_id": "14dc7f4e6e154ec0a998557e978fdaff",
       "version_major": 2,
       "version_minor": 0
      },
      "text/plain": [
       "(…)-00143-of-00165-a8620f32d5b6d933.parquet:   0%|          | 0.00/661M [00:00<?, ?B/s]"
      ]
     },
     "metadata": {},
     "output_type": "display_data"
    },
    {
     "data": {
      "application/vnd.jupyter.widget-view+json": {
       "model_id": "d3cb9df576094b3c99b2e4b7739e4efb",
       "version_major": 2,
       "version_minor": 0
      },
      "text/plain": [
       "(…)-00144-of-00165-846c3c53c946ebf0.parquet:   0%|          | 0.00/643M [00:00<?, ?B/s]"
      ]
     },
     "metadata": {},
     "output_type": "display_data"
    },
    {
     "data": {
      "application/vnd.jupyter.widget-view+json": {
       "model_id": "5ebeb2e3420947b89a877d030416f6bb",
       "version_major": 2,
       "version_minor": 0
      },
      "text/plain": [
       "(…)-00145-of-00165-98ff6caa5ea09f72.parquet:   0%|          | 0.00/563M [00:00<?, ?B/s]"
      ]
     },
     "metadata": {},
     "output_type": "display_data"
    },
    {
     "data": {
      "application/vnd.jupyter.widget-view+json": {
       "model_id": "5a8fe1cb2bae45a194a5ebd5ab1206e1",
       "version_major": 2,
       "version_minor": 0
      },
      "text/plain": [
       "(…)-00146-of-00165-91008f5f0285c25f.parquet:   0%|          | 0.00/503M [00:00<?, ?B/s]"
      ]
     },
     "metadata": {},
     "output_type": "display_data"
    },
    {
     "data": {
      "application/vnd.jupyter.widget-view+json": {
       "model_id": "18187279fa6b47f296e69719faf234f0",
       "version_major": 2,
       "version_minor": 0
      },
      "text/plain": [
       "(…)-00147-of-00165-393641d4135d5290.parquet:   0%|          | 0.00/434M [00:00<?, ?B/s]"
      ]
     },
     "metadata": {},
     "output_type": "display_data"
    },
    {
     "data": {
      "application/vnd.jupyter.widget-view+json": {
       "model_id": "98b58381a0284731b186b4389d64df2c",
       "version_major": 2,
       "version_minor": 0
      },
      "text/plain": [
       "(…)-00148-of-00165-2d004beb2ab5fe2d.parquet:   0%|          | 0.00/511M [00:00<?, ?B/s]"
      ]
     },
     "metadata": {},
     "output_type": "display_data"
    },
    {
     "data": {
      "application/vnd.jupyter.widget-view+json": {
       "model_id": "005491534521497d84b9b0826b298e46",
       "version_major": 2,
       "version_minor": 0
      },
      "text/plain": [
       "(…)-00149-of-00165-cbbccc549b2d332d.parquet:   0%|          | 0.00/447M [00:00<?, ?B/s]"
      ]
     },
     "metadata": {},
     "output_type": "display_data"
    },
    {
     "data": {
      "application/vnd.jupyter.widget-view+json": {
       "model_id": "8acf0b01688f485c83ce269595be341b",
       "version_major": 2,
       "version_minor": 0
      },
      "text/plain": [
       "(…)-00150-of-00165-f3591c2480ef87af.parquet:   0%|          | 0.00/449M [00:00<?, ?B/s]"
      ]
     },
     "metadata": {},
     "output_type": "display_data"
    },
    {
     "data": {
      "application/vnd.jupyter.widget-view+json": {
       "model_id": "6bc94a41b01a479a90d81e23dfb5819c",
       "version_major": 2,
       "version_minor": 0
      },
      "text/plain": [
       "(…)-00151-of-00165-836691d0557ad0c8.parquet:   0%|          | 0.00/442M [00:00<?, ?B/s]"
      ]
     },
     "metadata": {},
     "output_type": "display_data"
    },
    {
     "data": {
      "application/vnd.jupyter.widget-view+json": {
       "model_id": "2859ea650cad4602a810db2b60333a01",
       "version_major": 2,
       "version_minor": 0
      },
      "text/plain": [
       "(…)-00152-of-00165-376473af02603116.parquet:   0%|          | 0.00/438M [00:00<?, ?B/s]"
      ]
     },
     "metadata": {},
     "output_type": "display_data"
    },
    {
     "data": {
      "application/vnd.jupyter.widget-view+json": {
       "model_id": "aa4432a7c0b64486bc22573ac5b657fb",
       "version_major": 2,
       "version_minor": 0
      },
      "text/plain": [
       "(…)-00153-of-00165-6fdd1a0eb2ad7149.parquet:   0%|          | 0.00/463M [00:00<?, ?B/s]"
      ]
     },
     "metadata": {},
     "output_type": "display_data"
    },
    {
     "data": {
      "application/vnd.jupyter.widget-view+json": {
       "model_id": "099a7ddbbd19484db09c9f49ff1dc8d4",
       "version_major": 2,
       "version_minor": 0
      },
      "text/plain": [
       "(…)-00154-of-00165-964cba03cf2b23b4.parquet:   0%|          | 0.00/410M [00:00<?, ?B/s]"
      ]
     },
     "metadata": {},
     "output_type": "display_data"
    },
    {
     "data": {
      "application/vnd.jupyter.widget-view+json": {
       "model_id": "6200bfacf1894a479acca7b542da336c",
       "version_major": 2,
       "version_minor": 0
      },
      "text/plain": [
       "(…)-00155-of-00165-a62f59de12a38fb0.parquet:   0%|          | 0.00/416M [00:00<?, ?B/s]"
      ]
     },
     "metadata": {},
     "output_type": "display_data"
    },
    {
     "data": {
      "application/vnd.jupyter.widget-view+json": {
       "model_id": "9c91cac066ba4d5a92ec990040f3eb38",
       "version_major": 2,
       "version_minor": 0
      },
      "text/plain": [
       "(…)-00156-of-00165-34dbf15fe34b8bf4.parquet:   0%|          | 0.00/491M [00:00<?, ?B/s]"
      ]
     },
     "metadata": {},
     "output_type": "display_data"
    },
    {
     "data": {
      "application/vnd.jupyter.widget-view+json": {
       "model_id": "9518686c5809435e8906ce8bd9311fa2",
       "version_major": 2,
       "version_minor": 0
      },
      "text/plain": [
       "(…)-00157-of-00165-cf2b9afb40a22c00.parquet:   0%|          | 0.00/478M [00:00<?, ?B/s]"
      ]
     },
     "metadata": {},
     "output_type": "display_data"
    },
    {
     "data": {
      "application/vnd.jupyter.widget-view+json": {
       "model_id": "a89bee7581334950b3f31f870ca31202",
       "version_major": 2,
       "version_minor": 0
      },
      "text/plain": [
       "(…)-00158-of-00165-77c3d8d75f5e23ce.parquet:   0%|          | 0.00/423M [00:00<?, ?B/s]"
      ]
     },
     "metadata": {},
     "output_type": "display_data"
    },
    {
     "data": {
      "application/vnd.jupyter.widget-view+json": {
       "model_id": "62d5e4d53b934b40a6aa50f1658f3353",
       "version_major": 2,
       "version_minor": 0
      },
      "text/plain": [
       "(…)-00159-of-00165-bb7a0ade669dcd9e.parquet:   0%|          | 0.00/487M [00:00<?, ?B/s]"
      ]
     },
     "metadata": {},
     "output_type": "display_data"
    },
    {
     "data": {
      "application/vnd.jupyter.widget-view+json": {
       "model_id": "76cc173eae144f81aa47c1d7eff4298b",
       "version_major": 2,
       "version_minor": 0
      },
      "text/plain": [
       "(…)-00160-of-00165-07f12816630a8ae9.parquet:   0%|          | 0.00/467M [00:00<?, ?B/s]"
      ]
     },
     "metadata": {},
     "output_type": "display_data"
    },
    {
     "data": {
      "application/vnd.jupyter.widget-view+json": {
       "model_id": "d75e89c3d9614fd1b151cc2f71293d1c",
       "version_major": 2,
       "version_minor": 0
      },
      "text/plain": [
       "(…)-00161-of-00165-f516cbd8094c379d.parquet:   0%|          | 0.00/589M [00:00<?, ?B/s]"
      ]
     },
     "metadata": {},
     "output_type": "display_data"
    },
    {
     "data": {
      "application/vnd.jupyter.widget-view+json": {
       "model_id": "5865af6d4a764485bbd2535b134704d4",
       "version_major": 2,
       "version_minor": 0
      },
      "text/plain": [
       "(…)-00162-of-00165-e34afb71195469ab.parquet:   0%|          | 0.00/410M [00:00<?, ?B/s]"
      ]
     },
     "metadata": {},
     "output_type": "display_data"
    },
    {
     "data": {
      "application/vnd.jupyter.widget-view+json": {
       "model_id": "1590e50ef33e4a819dc346bfcc43af36",
       "version_major": 2,
       "version_minor": 0
      },
      "text/plain": [
       "(…)-00163-of-00165-e041ed9e50a05f5a.parquet:   0%|          | 0.00/485M [00:00<?, ?B/s]"
      ]
     },
     "metadata": {},
     "output_type": "display_data"
    },
    {
     "data": {
      "application/vnd.jupyter.widget-view+json": {
       "model_id": "f097ad7fdd1c4cb794e60bdbed63d18c",
       "version_major": 2,
       "version_minor": 0
      },
      "text/plain": [
       "(…)-00164-of-00165-00ef4dd70cfde273.parquet:   0%|          | 0.00/444M [00:00<?, ?B/s]"
      ]
     },
     "metadata": {},
     "output_type": "display_data"
    }
   ],
   "source": [
    "folder = snapshot_download(repo_id=\"malaysia-ai/crawl-google-image-malaysian-vehicle\", repo_type = 'dataset')"
   ]
  },
  {
   "cell_type": "code",
   "execution_count": 6,
   "id": "de2e41c9",
   "metadata": {},
   "outputs": [
    {
     "data": {
      "text/plain": [
       "165"
      ]
     },
     "execution_count": 6,
     "metadata": {},
     "output_type": "execute_result"
    }
   ],
   "source": [
    "files = glob(f'{folder}/data/*.parquet')\n",
    "files = sorted(files, key = lambda x: int(x.split('/')[-1].split('-')[1]))\n",
    "len(files)"
   ]
  },
  {
   "cell_type": "code",
   "execution_count": 8,
   "id": "035eb474",
   "metadata": {},
   "outputs": [],
   "source": [
    "def loop(files):\n",
    "    files, _ = files\n",
    "    r = []\n",
    "    for f in tqdm(files):\n",
    "        try:\n",
    "            df = pd.read_parquet(f)\n",
    "            r.append({\n",
    "                'f': f,\n",
    "                'len': len(df)\n",
    "            })\n",
    "        except:\n",
    "            pass\n",
    "    return r"
   ]
  },
  {
   "cell_type": "code",
   "execution_count": 10,
   "id": "ba9b6003",
   "metadata": {},
   "outputs": [],
   "source": [
    "# loop((files[:2], 0))"
   ]
  },
  {
   "cell_type": "code",
   "execution_count": 11,
   "id": "29535480",
   "metadata": {},
   "outputs": [
    {
     "name": "stderr",
     "output_type": "stream",
     "text": [
      "100%|██████████| 16/16 [00:08<00:00,  1.99it/s]\n",
      "100%|██████████| 16/16 [00:09<00:00,  1.68it/s]\n",
      "100%|██████████| 16/16 [00:09<00:00,  1.64it/s]\n",
      "100%|██████████| 16/16 [00:09<00:00,  1.64it/s]\n",
      "100%|██████████| 16/16 [00:09<00:00,  1.64it/s]\n",
      "100%|██████████| 16/16 [00:09<00:00,  1.60it/s]\n",
      "100%|██████████| 16/16 [00:09<00:00,  1.60it/s]\n",
      "100%|██████████| 5/5 [00:01<00:00,  2.51it/s]\n",
      "100%|██████████| 16/16 [00:10<00:00,  1.58it/s]\n",
      "100%|██████████| 16/16 [00:10<00:00,  1.58it/s]\n",
      "100%|██████████| 16/16 [00:10<00:00,  1.54it/s]\n"
     ]
    }
   ],
   "source": [
    "r = mp.multiprocessing(files, loop, cores = 10)"
   ]
  },
  {
   "cell_type": "code",
   "execution_count": 12,
   "id": "692ff2c4",
   "metadata": {},
   "outputs": [],
   "source": [
    "import json\n",
    "\n",
    "with open('lengths.json', 'w') as fopen:\n",
    "    json.dump(r, fopen)"
   ]
  },
  {
   "cell_type": "code",
   "execution_count": 13,
   "id": "594e2033",
   "metadata": {},
   "outputs": [],
   "source": [
    "global_indices = {}\n",
    "start = 0\n",
    "for f in r:\n",
    "    row = {\n",
    "        'start': start,\n",
    "        'end': f['len'],\n",
    "        'filename': f['f'],\n",
    "    }\n",
    "    global_indices[start] = row\n",
    "    start += f['len']"
   ]
  },
  {
   "cell_type": "code",
   "execution_count": 15,
   "id": "379bcdab",
   "metadata": {},
   "outputs": [],
   "source": [
    "with open('global_indices-vehicle.json', 'w') as fopen:\n",
    "    json.dump(global_indices, fopen)"
   ]
  }
 ],
 "metadata": {
  "kernelspec": {
   "display_name": "Python 3 (ipykernel)",
   "language": "python",
   "name": "python3"
  },
  "language_info": {
   "codemirror_mode": {
    "name": "ipython",
    "version": 3
   },
   "file_extension": ".py",
   "mimetype": "text/x-python",
   "name": "python",
   "nbconvert_exporter": "python",
   "pygments_lexer": "ipython3",
   "version": "3.10.12"
  }
 },
 "nbformat": 4,
 "nbformat_minor": 5
}
