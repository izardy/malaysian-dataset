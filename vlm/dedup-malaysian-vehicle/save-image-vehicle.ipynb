{
 "cells": [
  {
   "cell_type": "code",
   "execution_count": 1,
   "id": "a8c125de",
   "metadata": {},
   "outputs": [],
   "source": [
    "import json\n",
    "import os\n",
    "import pandas as pd\n",
    "from glob import glob\n",
    "from PIL import Image\n",
    "from io import BytesIO\n",
    "from huggingface_hub import snapshot_download\n",
    "from collections import defaultdict\n",
    "import mp"
   ]
  },
  {
   "cell_type": "code",
   "execution_count": 2,
   "id": "b930beb5",
   "metadata": {},
   "outputs": [],
   "source": [
    "data = defaultdict(list)\n",
    "with open('dedup-0.7.jsonl') as fopen:\n",
    "    for l in fopen:\n",
    "        l = json.loads(l)\n",
    "        data[l['filename']].extend(l['selected_indices'])\n"
   ]
  },
  {
   "cell_type": "code",
   "execution_count": 3,
   "id": "709fd267",
   "metadata": {},
   "outputs": [
    {
     "name": "stdout",
     "output_type": "stream",
     "text": [
      "mkdir: cannot create directory ‘image-vehicle’: File exists\r\n"
     ]
    }
   ],
   "source": [
    "!mkdir image-vehicle"
   ]
  },
  {
   "cell_type": "code",
   "execution_count": 4,
   "id": "a09030f6",
   "metadata": {
    "scrolled": false
   },
   "outputs": [
    {
     "data": {
      "application/vnd.jupyter.widget-view+json": {
       "model_id": "8d07b6d259374635813142f189eac120",
       "version_major": 2,
       "version_minor": 0
      },
      "text/plain": [
       "Fetching 167 files:   0%|          | 0/167 [00:00<?, ?it/s]"
      ]
     },
     "metadata": {},
     "output_type": "display_data"
    }
   ],
   "source": [
    "folder = snapshot_download(repo_id='malaysia-ai/crawl-google-image-malaysian-vehicle', repo_type = 'dataset')"
   ]
  },
  {
   "cell_type": "code",
   "execution_count": 5,
   "id": "e1dcdbb8",
   "metadata": {},
   "outputs": [],
   "source": [
    "from tqdm import tqdm\n",
    "\n",
    "def loop(files):\n",
    "    files, index = files\n",
    "    results = []\n",
    "    for f in tqdm(files):\n",
    "        f_ = os.path.split(f)[1]\n",
    "        df = pd.read_parquet(f)\n",
    "        for i in range(len(data[f_])):\n",
    "            \n",
    "            index = data[f_][i]\n",
    "            filename = os.path.join('image-vehicle', f'{f_}-{index}.jpg')\n",
    "            results.append({\n",
    "                'filename': filename,\n",
    "                'filename_df': f_,\n",
    "                'keyword': df.iloc[index]['keyword'],\n",
    "                'alt_text': df.iloc[index]['alt_text'],\n",
    "            })\n",
    "            if os.path.exists(filename):\n",
    "                continue\n",
    "            stream = BytesIO(df.iloc[index]['image']['bytes'])\n",
    "            image = Image.open(stream)\n",
    "            image.save(filename, format = 'jpeg')\n",
    "    return results"
   ]
  },
  {
   "cell_type": "code",
   "execution_count": 6,
   "id": "bfb25326",
   "metadata": {},
   "outputs": [
    {
     "data": {
      "text/plain": [
       "165"
      ]
     },
     "execution_count": 6,
     "metadata": {},
     "output_type": "execute_result"
    }
   ],
   "source": [
    "files = glob(f'{folder}/data/*.parquet')\n",
    "len(files)"
   ]
  },
  {
   "cell_type": "code",
   "execution_count": 7,
   "id": "660bc95b",
   "metadata": {},
   "outputs": [
    {
     "name": "stderr",
     "output_type": "stream",
     "text": [
      "100%|██████████| 1/1 [00:02<00:00,  2.97s/it]\n"
     ]
    }
   ],
   "source": [
    "r = loop((files[:1], 0))"
   ]
  },
  {
   "cell_type": "code",
   "execution_count": 8,
   "id": "9eed0688",
   "metadata": {
    "scrolled": false
   },
   "outputs": [
    {
     "name": "stderr",
     "output_type": "stream",
     "text": [
      "100%|██████████| 16/16 [06:50<00:00, 25.63s/it]\n",
      "100%|██████████| 16/16 [07:02<00:00, 26.38s/it]\n",
      "100%|██████████| 16/16 [07:04<00:00, 26.54s/it]\n",
      "100%|██████████| 16/16 [07:04<00:00, 26.55s/it]\n",
      "100%|██████████| 16/16 [07:08<00:00, 26.76s/it]\n",
      "100%|██████████| 16/16 [07:12<00:00, 27.01s/it]\n",
      "100%|██████████| 16/16 [07:12<00:00, 27.02s/it]\n",
      "100%|██████████| 16/16 [07:14<00:00, 27.18s/it]\n",
      "100%|██████████| 16/16 [07:17<00:00, 27.36s/it]\n",
      "100%|██████████| 16/16 [07:18<00:00, 27.39s/it]\n",
      "100%|██████████| 5/5 [00:36<00:00,  7.25s/it]\n"
     ]
    }
   ],
   "source": [
    "r = mp.multiprocessing(files, loop, cores = 10)"
   ]
  },
  {
   "cell_type": "code",
   "execution_count": 9,
   "id": "2e1c4e4a",
   "metadata": {},
   "outputs": [
    {
     "data": {
      "text/plain": [
       "97598"
      ]
     },
     "execution_count": 9,
     "metadata": {},
     "output_type": "execute_result"
    }
   ],
   "source": [
    "len(r)"
   ]
  },
  {
   "cell_type": "code",
   "execution_count": 10,
   "id": "40e75c09",
   "metadata": {},
   "outputs": [],
   "source": [
    "with open('save-image-vehicle.jsonl', 'w') as fopen:\n",
    "    for r_ in r:\n",
    "        fopen.write(f'{json.dumps(r_)}\\n')"
   ]
  },
  {
   "cell_type": "code",
   "execution_count": 11,
   "id": "18f0add6",
   "metadata": {},
   "outputs": [
    {
     "name": "stdout",
     "output_type": "stream",
     "text": [
      "{\"filename\": \"image-vehicle/train-00031-of-00165-470a596d9d15c78c.parquet-477.jpg\", \"filename_df\": \"train-00031-of-00165-470a596d9d15c78c.parquet\", \"keyword\": \"2020 Chevrolet Spark LS AUTOMATIC\", \"alt_text\": \"2020 Chevrolet Spark Hatchback 5D LS ...\"}\r\n",
      "{\"filename\": \"image-vehicle/train-00031-of-00165-470a596d9d15c78c.parquet-479.jpg\", \"filename_df\": \"train-00031-of-00165-470a596d9d15c78c.parquet\", \"keyword\": \"2020 Chevrolet Spark LS AUTOMATIC\", \"alt_text\": \"New & Used Chevrolet Spark for Sale ...\"}\r\n",
      "{\"filename\": \"image-vehicle/train-00031-of-00165-470a596d9d15c78c.parquet-497.jpg\", \"filename_df\": \"train-00031-of-00165-470a596d9d15c78c.parquet\", \"keyword\": \"2020 Chevrolet Spark LS AUTOMATIC\", \"alt_text\": \"2020 CHEVROLET SPARK FWD LS AUTOMATIC ...\"}\r\n"
     ]
    }
   ],
   "source": [
    "!tail -n 3 save-image-vehicle.jsonl"
   ]
  },
  {
   "cell_type": "code",
   "execution_count": 12,
   "id": "28989b93",
   "metadata": {},
   "outputs": [
    {
     "name": "stdout",
     "output_type": "stream",
     "text": [
      "11G\timage-vehicle\r\n"
     ]
    }
   ],
   "source": [
    "!du -hs image-vehicle"
   ]
  },
  {
   "cell_type": "code",
   "execution_count": 14,
   "id": "c7cd80d9",
   "metadata": {},
   "outputs": [],
   "source": [
    "# !sudo apt install zip -y"
   ]
  },
  {
   "cell_type": "code",
   "execution_count": 19,
   "id": "52d96ca2",
   "metadata": {},
   "outputs": [],
   "source": [
    "!zip -q -r -s 5000m image-vehicle.zip image-vehicle"
   ]
  },
  {
   "cell_type": "code",
   "execution_count": 18,
   "id": "dba3b839",
   "metadata": {},
   "outputs": [
    {
     "data": {
      "application/vnd.jupyter.widget-view+json": {
       "model_id": "47787e47b2c649d7b402b75abadad397",
       "version_major": 2,
       "version_minor": 0
      },
      "text/plain": [
       "save-image-vehicle.jsonl:   0%|          | 0.00/24.3M [00:00<?, ?B/s]"
      ]
     },
     "metadata": {},
     "output_type": "display_data"
    },
    {
     "data": {
      "text/plain": [
       "CommitInfo(commit_url='https://huggingface.co/datasets/mesolitica/google-image-malaysian-vehicle-dedup/commit/d2117b767f85602e86788a65e1727b6bbb8d7fdb', commit_message='Upload save-image-vehicle.jsonl with huggingface_hub', commit_description='', oid='d2117b767f85602e86788a65e1727b6bbb8d7fdb', pr_url=None, pr_revision=None, pr_num=None)"
      ]
     },
     "execution_count": 18,
     "metadata": {},
     "output_type": "execute_result"
    }
   ],
   "source": [
    "from huggingface_hub import HfApi\n",
    "api = HfApi()\n",
    "\n",
    "api.upload_file(\n",
    "    path_or_fileobj='save-image-vehicle.jsonl',\n",
    "    path_in_repo='save-image-vehicle.jsonl',\n",
    "    repo_id='mesolitica/google-image-malaysian-vehicle-dedup',\n",
    "    repo_type='dataset',\n",
    ")"
   ]
  },
  {
   "cell_type": "code",
   "execution_count": 20,
   "id": "09232deb",
   "metadata": {},
   "outputs": [
    {
     "name": "stdout",
     "output_type": "stream",
     "text": [
      "image-vehicle.z02\n"
     ]
    },
    {
     "data": {
      "application/vnd.jupyter.widget-view+json": {
       "model_id": "0523c737a0c048f0b0c1c765ad4b8ccb",
       "version_major": 2,
       "version_minor": 0
      },
      "text/plain": [
       "image-vehicle.z02:   0%|          | 0.00/5.24G [00:00<?, ?B/s]"
      ]
     },
     "metadata": {},
     "output_type": "display_data"
    },
    {
     "name": "stdout",
     "output_type": "stream",
     "text": [
      "image-vehicle.zip\n"
     ]
    },
    {
     "data": {
      "application/vnd.jupyter.widget-view+json": {
       "model_id": "85a525289a384030b243415096e8e7e6",
       "version_major": 2,
       "version_minor": 0
      },
      "text/plain": [
       "image-vehicle.zip:   0%|          | 0.00/412M [00:00<?, ?B/s]"
      ]
     },
     "metadata": {},
     "output_type": "display_data"
    },
    {
     "name": "stdout",
     "output_type": "stream",
     "text": [
      "image-vehicle.z01\n"
     ]
    },
    {
     "data": {
      "application/vnd.jupyter.widget-view+json": {
       "model_id": "7889a22286ed4b2ca33886f37dce70df",
       "version_major": 2,
       "version_minor": 0
      },
      "text/plain": [
       "image-vehicle.z01:   0%|          | 0.00/5.24G [00:00<?, ?B/s]"
      ]
     },
     "metadata": {},
     "output_type": "display_data"
    }
   ],
   "source": [
    "for f in glob('image-vehicle.z*'):\n",
    "    print(f)\n",
    "    api.upload_file(\n",
    "        path_or_fileobj=f,\n",
    "        path_in_repo=f,\n",
    "        repo_id='mesolitica/google-image-malaysian-vehicle-dedup',\n",
    "        repo_type='dataset',\n",
    "    )"
   ]
  },
  {
   "cell_type": "code",
   "execution_count": null,
   "id": "8ca9a720",
   "metadata": {},
   "outputs": [],
   "source": []
  }
 ],
 "metadata": {
  "kernelspec": {
   "display_name": "Python 3 (ipykernel)",
   "language": "python",
   "name": "python3"
  },
  "language_info": {
   "codemirror_mode": {
    "name": "ipython",
    "version": 3
   },
   "file_extension": ".py",
   "mimetype": "text/x-python",
   "name": "python",
   "nbconvert_exporter": "python",
   "pygments_lexer": "ipython3",
   "version": "3.10.12"
  }
 },
 "nbformat": 4,
 "nbformat_minor": 5
}
