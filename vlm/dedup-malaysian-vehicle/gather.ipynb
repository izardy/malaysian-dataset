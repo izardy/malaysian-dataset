{
 "cells": [
  {
   "cell_type": "code",
   "execution_count": 4,
   "id": "4dd4a95c",
   "metadata": {
    "scrolled": true
   },
   "outputs": [
    {
     "data": {
      "text/plain": [
       "1850"
      ]
     },
     "execution_count": 4,
     "metadata": {},
     "output_type": "execute_result"
    }
   ],
   "source": [
    "from glob import glob\n",
    "from tqdm import tqdm\n",
    "import json\n",
    "\n",
    "files = glob('output/*.json')\n",
    "len(files)"
   ]
  },
  {
   "cell_type": "code",
   "execution_count": 5,
   "id": "86dae3d3",
   "metadata": {},
   "outputs": [
    {
     "name": "stderr",
     "output_type": "stream",
     "text": [
      "100%|██████████| 1850/1850 [00:00<00:00, 17158.11it/s]\n"
     ]
    }
   ],
   "source": [
    "total_images = 0\n",
    "\n",
    "with open('dedup-0.7.jsonl', 'w') as fopen_l:\n",
    "    for f in tqdm(files):\n",
    "        with open(f) as fopen:\n",
    "            data = json.load(fopen)\n",
    "        total_images += len(data['selected_indices'])\n",
    "        fopen_l.write(f'{json.dumps(data)}\\n')\n",
    "        fopen_l.flush()"
   ]
  },
  {
   "cell_type": "code",
   "execution_count": 6,
   "id": "2840830e",
   "metadata": {},
   "outputs": [
    {
     "data": {
      "text/plain": [
       "{'filename': 'train-00066-of-00165-2b1bb4f1aa2951fa.parquet',\n",
       " 'keyword': '2023 Mazda CX-30 2.0G 2WD Standard',\n",
       " 'no': 1,\n",
       " 'selected_indices': [359,\n",
       "  370,\n",
       "  373,\n",
       "  408,\n",
       "  409,\n",
       "  412,\n",
       "  413,\n",
       "  419,\n",
       "  426,\n",
       "  441,\n",
       "  444,\n",
       "  450,\n",
       "  451,\n",
       "  459,\n",
       "  463,\n",
       "  471,\n",
       "  479,\n",
       "  502,\n",
       "  503,\n",
       "  505,\n",
       "  510,\n",
       "  531,\n",
       "  534,\n",
       "  537,\n",
       "  547,\n",
       "  569,\n",
       "  572,\n",
       "  575,\n",
       "  576,\n",
       "  580,\n",
       "  584,\n",
       "  589,\n",
       "  598,\n",
       "  600,\n",
       "  609,\n",
       "  617,\n",
       "  618,\n",
       "  624,\n",
       "  631,\n",
       "  640]}"
      ]
     },
     "execution_count": 6,
     "metadata": {},
     "output_type": "execute_result"
    }
   ],
   "source": [
    "with open(files[0]) as fopen:\n",
    "    data = json.load(fopen)\n",
    "    \n",
    "data"
   ]
  }
 ],
 "metadata": {
  "kernelspec": {
   "display_name": "Python 3 (ipykernel)",
   "language": "python",
   "name": "python3"
  },
  "language_info": {
   "codemirror_mode": {
    "name": "ipython",
    "version": 3
   },
   "file_extension": ".py",
   "mimetype": "text/x-python",
   "name": "python",
   "nbconvert_exporter": "python",
   "pygments_lexer": "ipython3",
   "version": "3.10.12"
  }
 },
 "nbformat": 4,
 "nbformat_minor": 5
}
