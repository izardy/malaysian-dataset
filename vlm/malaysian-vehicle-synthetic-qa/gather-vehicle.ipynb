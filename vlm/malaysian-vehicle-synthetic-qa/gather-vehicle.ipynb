{
 "cells": [
  {
   "cell_type": "code",
   "execution_count": 1,
   "id": "0ecdab59",
   "metadata": {},
   "outputs": [],
   "source": [
    "from glob import glob\n",
    "from tqdm import tqdm\n",
    "import json\n",
    "import random"
   ]
  },
  {
   "cell_type": "code",
   "execution_count": 2,
   "id": "d58ee8ce",
   "metadata": {},
   "outputs": [],
   "source": [
    "rejected = [\n",
    "    'help.openai.com',\n",
    "    'openassistant'\n",
    "]\n",
    "\n",
    "break_at = [\n",
    "    'am an ai',\n",
    "    'unable to view',\n",
    "    'translate',\n",
    "    'keyword',\n",
    "    'assistant',\n",
    "    'help.openai.com',\n",
    "    'openai',\n",
    "    'cannot have personal opinions',\n",
    "    's an ai language model',\n",
    "    \"i'm sorry\",\n",
    "    'am sorry',\n",
    "    'sorry',\n",
    "    'many factors',\n",
    "    'lgbt',\n",
    "    'lesbian',\n",
    "    'gender-neutral',\n",
    "    'remain neutral',\n",
    "    'without bias',\n",
    "    'and neutral',\n",
    "    'more inclusive',\n",
    "    'neutrality',\n",
    "    'non-bias',\n",
    "    'discrimination',\n",
    "    'avoid any forms of discrimination',\n",
    "    'regardless of their gender',\n",
    "    'inclusive and tolerant environment',\n",
    "    'have personal views',\n",
    "    'sexual orientation should be a top priority',\n",
    "    's an objective ai',\n",
    "    'avoid any forms of prejudice or hate',\n",
    "    'regardless of their personal',\n",
    "    'you understand this direction',\n",
    "    'tolerant environment within ai',\n",
    "    'cannot express my',\n",
    "    'requires more context',\n",
    "    'personal opinion',\n",
    "    'have updated information',\n",
    "    \"don't have personal experiences\",\n",
    "    'there is no information',\n",
    "    'tidak mempunyai akses kepada data atau maklumat',\n",
    "    '10 april 2021',\n",
    "    'ebagai model bahasa AI',\n",
    "    'model bahasa AI',\n",
    "    'mempunyai kepercayaan atau pendapat peribadi',\n",
    "    'tidak mempunyai pendapat peribadi',\n",
    "    'tidak mempunyai kepercayaan',\n",
    "    'tidak mempunyai falsafah peribadi',\n",
    "    'tidak mempunyai pengalaman peribadi',\n",
    "    'tidak mempunyai pendapat atau pengalaman peribadi',\n",
    "    'tidak mempunyai maklumat terkini',\n",
    "    'tidak mempunyai emosi peribadi',\n",
    "    'tidak mempunyai keutamaan',\n",
    "    'saya tidak mempunyai akses',\n",
    "    'tidak mempunyai pengalaman',\n",
    "    'saya tidak mempunyai keupayaan',\n",
    "    'tidak mempunyai keupayaan',\n",
    "    'tidak mempunyai hubungan',\n",
    "    'tidak mempunyai maklumat',\n",
    "    'saya tidak mempunyai',\n",
    "    'saya tidak pernah',\n",
    "    'saya tidak dapat memahami jawapan',\n",
    "    '=====',\n",
    "    '-----',\n",
    "    'tidak faham bahasa melayu',\n",
    "    'tidak faham bahasa inggeris',\n",
    "    'sehari-hari',\n",
    "]\n",
    "\n",
    "def found_word(s, words):\n",
    "    for i in range(len(words)):\n",
    "        if words[i] in s:\n",
    "            return True, words[i]\n",
    "    return False, None\n",
    "\n",
    "def accept(d, min_len = 10):\n",
    "    \n",
    "    d = d.strip()\n",
    "    \n",
    "    if len(d.split()) < min_len:\n",
    "        return False\n",
    "        \n",
    "    if 'terjemahkan teks' in d.lower():\n",
    "        return False\n",
    "\n",
    "    if 'no need to translate' in d.lower():\n",
    "        return False\n",
    "\n",
    "    if 'can be translated' in d.lower():\n",
    "        return False\n",
    "\n",
    "    if 'cannot translate' in d.lower():\n",
    "        return False\n",
    "\n",
    "    if 'should be translated to' in d.lower():\n",
    "        return False\n",
    "\n",
    "    if 'cannot be translated' in d.lower():\n",
    "        return False\n",
    "\n",
    "    if 'standard malay' in d.lower():\n",
    "        return False\n",
    "\n",
    "    if 'would not be translated' in d.lower():\n",
    "        return False\n",
    "\n",
    "    if 'as an AI language model' in d:\n",
    "        return False\n",
    "\n",
    "    if 'should be translated as' in d.lower():\n",
    "        return False\n",
    "\n",
    "    if 'Bahasa Malaysia Standard' in d:\n",
    "        return False\n",
    "    \n",
    "    if 'Saya adalah model AI' in d:\n",
    "        return False\n",
    "    \n",
    "    if 'saya model AI' in d:\n",
    "        return False\n",
    "    \n",
    "    if 'Saya model AI' in d:\n",
    "        return False\n",
    "    \n",
    "    if 'sebagai model AI' in d:\n",
    "        return False\n",
    "    \n",
    "    if 'Sebagai model AI' in d:\n",
    "        return False\n",
    "    \n",
    "    if 'model bahasa AI' in d:\n",
    "        return False\n",
    "    \n",
    "    if 'model AI yang dibangunkan' in d:\n",
    "        return False\n",
    "    \n",
    "    if d == '<s>':\n",
    "        return False\n",
    "    \n",
    "    if 'tidak dapat memberikan maklumat' in d:\n",
    "        return False\n",
    "    \n",
    "    if 'Sebagai model bahasa' in d:\n",
    "        return False\n",
    "    \n",
    "    d_lower = d.lower()\n",
    "    splitted = d_lower.split()\n",
    "    if (len(set(splitted)) / len(splitted)) < 0.2:\n",
    "        return False\n",
    "    \n",
    "    if found_word(d_lower, rejected)[0]:\n",
    "        return False\n",
    "    \n",
    "    if found_word(d_lower, break_at)[0]:\n",
    "        return False\n",
    "    \n",
    "    filtered_string = ''.join(char for char in d if char.isascii())\n",
    "    if len(filtered_string) < 10:\n",
    "        return False\n",
    "    \n",
    "    return True"
   ]
  },
  {
   "cell_type": "code",
   "execution_count": 3,
   "id": "8e0def0f",
   "metadata": {},
   "outputs": [],
   "source": [
    "similar = [\n",
    "    {\"text\": \"describe every detail in the picture\"},\n",
    "    {\"text\": \"what do you see in the image\"},\n",
    "    {\"text\": \"provide a detailed description of the photo\"},\n",
    "    {\"text\": \"tell me everything about what's happening in the image\"},\n",
    "    {\"text\": \"describe the scene depicted in the picture\"},\n",
    "    {\"text\": \"what's going on in the image\"},\n",
    "    {\"text\": \"give me a detailed account of what's in the photo\"},\n",
    "    {\"text\": \"describe the visual elements in the image\"},\n",
    "    {\"text\": \"what do you notice about the picture\"},\n",
    "    {\"text\": \"describe the content of the image\"},\n",
    "    {\"text\": \"paint a picture with words about the image\"},\n",
    "    {\"text\": \"describe the image from top to bottom\"},\n",
    "    {\"text\": \"what's the main subject of the image\"},\n",
    "    {\"text\": \"what's the context of the image\"},\n",
    "    {\"text\": \"recreate the image with words\"},\n",
    "    {\"text\": \"describe the image in exquisite detail\"},\n",
    "    {\"text\": \"what's the narrative behind the picture\"},\n",
    "    {\"text\": \"give a thorough examination of the image\"},\n",
    "    {\"text\": \"describe the visual storytelling in the photo\"},\n",
    "    {\"text\": \"what's the central theme of the image\"},\n",
    "    {\"text\": \"what's the most intriguing aspect of the photo\"},\n",
    "    {\"text\": \"walk me through the image element by element\"},\n",
    "]\n",
    "similar = [s['text'] for s in similar] + ['describe everything about this image']"
   ]
  },
  {
   "cell_type": "code",
   "execution_count": 4,
   "id": "969b815a",
   "metadata": {
    "scrolled": true
   },
   "outputs": [
    {
     "data": {
      "text/plain": [
       "4068"
      ]
     },
     "execution_count": 4,
     "metadata": {},
     "output_type": "execute_result"
    }
   ],
   "source": [
    "files = glob('output-vehicle/*.json')\n",
    "len(files)"
   ]
  },
  {
   "cell_type": "code",
   "execution_count": 5,
   "id": "941928cc",
   "metadata": {},
   "outputs": [
    {
     "name": "stderr",
     "output_type": "stream",
     "text": [
      "100%|██████████| 4068/4068 [00:33<00:00, 120.38it/s]\n"
     ]
    }
   ],
   "source": [
    "with open('filtered-vehicle.jsonl', 'w') as fopen_l:\n",
    "    for f in tqdm(files):\n",
    "        with open(f) as fopen:\n",
    "            data = json.load(fopen)\n",
    "\n",
    "        for d in data:\n",
    "            questions, answers = [], []\n",
    "            for no, q in enumerate(d['questions']):\n",
    "                if no > 0 and not accept(q):\n",
    "                    continue\n",
    "\n",
    "                if not accept(d['answers'][no]):\n",
    "                    continue\n",
    "\n",
    "                if no == 0:\n",
    "                    q = random.choice(similar)\n",
    "\n",
    "                questions.append(q)\n",
    "                answers.append(d['answers'][no])\n",
    "\n",
    "            if not len(questions):\n",
    "                continue\n",
    "\n",
    "            d['questions'] = questions\n",
    "            d['answers'] = answers\n",
    "\n",
    "            fopen_l.write(f'{json.dumps(d)}\\n')\n",
    "            fopen_l.flush()"
   ]
  },
  {
   "cell_type": "code",
   "execution_count": 6,
   "id": "d3d73c4e",
   "metadata": {},
   "outputs": [
    {
     "name": "stdout",
     "output_type": "stream",
     "text": [
      "96949 filtered-vehicle.jsonl\r\n"
     ]
    }
   ],
   "source": [
    "!wc -l filtered-vehicle.jsonl"
   ]
  },
  {
   "cell_type": "code",
   "execution_count": 7,
   "id": "950e360f",
   "metadata": {},
   "outputs": [
    {
     "name": "stdout",
     "output_type": "stream",
     "text": [
      "{\"filename\": \"image-vehicle/train-00027-of-00165-c7635e0fc5e84b30.parquet-4538.jpg\", \"filename_df\": \"train-00027-of-00165-c7635e0fc5e84b30.parquet\", \"keyword\": \"2022 Mercedes-Benz GLC Coupe 300 AMG Line(CKD)\", \"alt_text\": \"Image 2 details about Will there be a ...\", \"questions\": [\"What specific design features make the Mercedes-Benz GLC Coupe 300 AMG Line (CKD) stand out in the image?\", \"What type of tire and rim design is featured on the white Mercedes-Benz SUV?\"], \"answers\": [\"The 2022 Mercedes-Benz GLC Coupe 300 AMG Line (CKD) is shown in an image that highlights its sleek and luxurious design. The vehicle exhibits a sleek design with sharp lines and contours, showcasing the AMG Line (CKD) designation, which typically represents high performance and exclusive features. The car's coupe style is evident from its two-door configuration and sporty roofline. The wheels of the car are multi-spoke alloy wheels, adding to its stylish appearance. The vehicle is painted in a metallic hue, and the well-defined creases on the hood and side give it a dynamic look. Overall, the image portrays the luxury and performance-oriented nature of the AMG version of this particular model.\", \"The tire and rim design on the white Mercedes-Benz SUV is not visible in the image provided. Therefore, I cannot determine the type of tire and rim design featured on the vehicle.\"]}\r\n"
     ]
    }
   ],
   "source": [
    "!head -n 1 filtered-vehicle.jsonl"
   ]
  },
  {
   "cell_type": "code",
   "execution_count": 8,
   "id": "412f7e11",
   "metadata": {},
   "outputs": [
    {
     "data": {
      "application/vnd.jupyter.widget-view+json": {
       "model_id": "221714133311494c92dea242f2ec8f70",
       "version_major": 2,
       "version_minor": 0
      },
      "text/plain": [
       "filtered-vehicle.jsonl:   0%|          | 0.00/237M [00:00<?, ?B/s]"
      ]
     },
     "metadata": {},
     "output_type": "display_data"
    },
    {
     "data": {
      "text/plain": [
       "CommitInfo(commit_url='https://huggingface.co/datasets/mesolitica/google-image-malaysian-vehicle-synthetic-qa/commit/cb4688250e88e0d53938e4c448bd4d528b9b19d3', commit_message='Upload filtered-vehicle.jsonl with huggingface_hub', commit_description='', oid='cb4688250e88e0d53938e4c448bd4d528b9b19d3', pr_url=None, pr_revision=None, pr_num=None)"
      ]
     },
     "execution_count": 8,
     "metadata": {},
     "output_type": "execute_result"
    }
   ],
   "source": [
    "from huggingface_hub import HfApi\n",
    "api = HfApi()\n",
    "\n",
    "api.upload_file(\n",
    "    path_or_fileobj='filtered-vehicle.jsonl',\n",
    "    path_in_repo='filtered-vehicle.jsonl',\n",
    "    repo_id='mesolitica/google-image-malaysian-vehicle-semisupervised',\n",
    "    repo_type='dataset',\n",
    ")"
   ]
  },
  {
   "cell_type": "code",
   "execution_count": null,
   "id": "e1082310",
   "metadata": {},
   "outputs": [],
   "source": []
  }
 ],
 "metadata": {
  "kernelspec": {
   "display_name": "Python 3 (ipykernel)",
   "language": "python",
   "name": "python3"
  },
  "language_info": {
   "codemirror_mode": {
    "name": "ipython",
    "version": 3
   },
   "file_extension": ".py",
   "mimetype": "text/x-python",
   "name": "python",
   "nbconvert_exporter": "python",
   "pygments_lexer": "ipython3",
   "version": "3.10.12"
  }
 },
 "nbformat": 4,
 "nbformat_minor": 5
}
