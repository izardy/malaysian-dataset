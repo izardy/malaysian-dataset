{
 "cells": [
  {
   "cell_type": "code",
   "execution_count": 1,
   "id": "9c9f9537",
   "metadata": {},
   "outputs": [],
   "source": [
    "import json\n",
    "from datasets import Dataset, Audio\n",
    "\n",
    "audio = Audio(sampling_rate = 16000)"
   ]
  },
  {
   "cell_type": "code",
   "execution_count": 4,
   "id": "84744d79",
   "metadata": {},
   "outputs": [
    {
     "data": {
      "text/plain": [
       "(460888, 511857)"
      ]
     },
     "execution_count": 4,
     "metadata": {},
     "output_type": "execute_result"
    }
   ],
   "source": [
    "with open('slice-0.5.json') as fopen:\n",
    "    d = json.load(fopen)\n",
    "    \n",
    "filtered = []\n",
    "for d_ in d:\n",
    "    labels = d_['labels']\n",
    "    scores = d_['scores']\n",
    "    if len(labels) == 1 and labels[0] == 'Speech' and scores[0] < -1.0:\n",
    "        continue\n",
    "    if len(labels) > 1:\n",
    "        filtered_labels, filtered_scores = [], []\n",
    "        for no, l in enumerate(labels):\n",
    "            if l == 'Speech' and scores[no] < 1.0:\n",
    "                continue\n",
    "            filtered_labels.append(l)\n",
    "            filtered_scores.append(scores[no])\n",
    "        d_['labels'] = filtered_labels\n",
    "        d_['scores'] = filtered_scores\n",
    "    filtered.append(d_)\n",
    "    \n",
    "len(filtered), len(d)"
   ]
  },
  {
   "cell_type": "code",
   "execution_count": 9,
   "id": "cfbceb26",
   "metadata": {},
   "outputs": [],
   "source": [
    "dataset = Dataset.from_list(filtered)"
   ]
  },
  {
   "cell_type": "code",
   "execution_count": 10,
   "id": "1f0f7b6e",
   "metadata": {},
   "outputs": [
    {
     "data": {
      "text/plain": [
       "Dataset({\n",
       "    features: ['audio_filename', 'labels', 'scores'],\n",
       "    num_rows: 460888\n",
       "})"
      ]
     },
     "execution_count": 10,
     "metadata": {},
     "output_type": "execute_result"
    }
   ],
   "source": [
    "dataset = dataset.cast_column(\"audio_filename\", audio)\n",
    "dataset"
   ]
  },
  {
   "cell_type": "code",
   "execution_count": 11,
   "id": "93262256",
   "metadata": {
    "scrolled": true
   },
   "outputs": [
    {
     "data": {
      "application/vnd.jupyter.widget-view+json": {
       "model_id": "6b6e0e6ba3204adcbe4c0b7efccc9564",
       "version_major": 2,
       "version_minor": 0
      },
      "text/plain": [
       "Uploading the dataset shards:   0%|          | 0/6 [00:00<?, ?it/s]"
      ]
     },
     "metadata": {},
     "output_type": "display_data"
    },
    {
     "data": {
      "application/vnd.jupyter.widget-view+json": {
       "model_id": "6511904884284b5395ad330771887795",
       "version_major": 2,
       "version_minor": 0
      },
      "text/plain": [
       "Map:   0%|          | 0/76815 [00:00<?, ? examples/s]"
      ]
     },
     "metadata": {},
     "output_type": "display_data"
    },
    {
     "data": {
      "application/vnd.jupyter.widget-view+json": {
       "model_id": "7cdc2ed35c36492d90354f9b4ed1a8e3",
       "version_major": 2,
       "version_minor": 0
      },
      "text/plain": [
       "Creating parquet from Arrow format:   0%|          | 0/769 [00:00<?, ?ba/s]"
      ]
     },
     "metadata": {},
     "output_type": "display_data"
    },
    {
     "data": {
      "application/vnd.jupyter.widget-view+json": {
       "model_id": "44895e75462b4710b5c4ae6eb3c1552d",
       "version_major": 2,
       "version_minor": 0
      },
      "text/plain": [
       "Map:   0%|          | 0/76815 [00:00<?, ? examples/s]"
      ]
     },
     "metadata": {},
     "output_type": "display_data"
    },
    {
     "data": {
      "application/vnd.jupyter.widget-view+json": {
       "model_id": "7805d287fb0e44e0a4c571b501c50cc5",
       "version_major": 2,
       "version_minor": 0
      },
      "text/plain": [
       "Creating parquet from Arrow format:   0%|          | 0/769 [00:00<?, ?ba/s]"
      ]
     },
     "metadata": {},
     "output_type": "display_data"
    },
    {
     "data": {
      "application/vnd.jupyter.widget-view+json": {
       "model_id": "1e56f4dcbdf042bb875c00df23c5aebb",
       "version_major": 2,
       "version_minor": 0
      },
      "text/plain": [
       "Map:   0%|          | 0/76815 [00:00<?, ? examples/s]"
      ]
     },
     "metadata": {},
     "output_type": "display_data"
    },
    {
     "data": {
      "application/vnd.jupyter.widget-view+json": {
       "model_id": "41c865a6560144f78a5c3b24a13464a1",
       "version_major": 2,
       "version_minor": 0
      },
      "text/plain": [
       "Creating parquet from Arrow format:   0%|          | 0/769 [00:00<?, ?ba/s]"
      ]
     },
     "metadata": {},
     "output_type": "display_data"
    },
    {
     "data": {
      "application/vnd.jupyter.widget-view+json": {
       "model_id": "72287b3c334143bcbe678f7ea1dc51c7",
       "version_major": 2,
       "version_minor": 0
      },
      "text/plain": [
       "Map:   0%|          | 0/76815 [00:00<?, ? examples/s]"
      ]
     },
     "metadata": {},
     "output_type": "display_data"
    },
    {
     "data": {
      "application/vnd.jupyter.widget-view+json": {
       "model_id": "eed21dbe3696424398fc3e1f8d67ef3c",
       "version_major": 2,
       "version_minor": 0
      },
      "text/plain": [
       "Creating parquet from Arrow format:   0%|          | 0/769 [00:00<?, ?ba/s]"
      ]
     },
     "metadata": {},
     "output_type": "display_data"
    },
    {
     "data": {
      "application/vnd.jupyter.widget-view+json": {
       "model_id": "f33503e99ee948c4807ed7c2d6630786",
       "version_major": 2,
       "version_minor": 0
      },
      "text/plain": [
       "Map:   0%|          | 0/76814 [00:00<?, ? examples/s]"
      ]
     },
     "metadata": {},
     "output_type": "display_data"
    },
    {
     "data": {
      "application/vnd.jupyter.widget-view+json": {
       "model_id": "5f76f54b3a8d49a18ef3e8fac23903bb",
       "version_major": 2,
       "version_minor": 0
      },
      "text/plain": [
       "Creating parquet from Arrow format:   0%|          | 0/769 [00:00<?, ?ba/s]"
      ]
     },
     "metadata": {},
     "output_type": "display_data"
    },
    {
     "data": {
      "application/vnd.jupyter.widget-view+json": {
       "model_id": "4520d2345df64e17b696e07bb711fefe",
       "version_major": 2,
       "version_minor": 0
      },
      "text/plain": [
       "Map:   0%|          | 0/76814 [00:00<?, ? examples/s]"
      ]
     },
     "metadata": {},
     "output_type": "display_data"
    },
    {
     "data": {
      "application/vnd.jupyter.widget-view+json": {
       "model_id": "9a52c886b2e9459a81de559c53f41229",
       "version_major": 2,
       "version_minor": 0
      },
      "text/plain": [
       "Creating parquet from Arrow format:   0%|          | 0/769 [00:00<?, ?ba/s]"
      ]
     },
     "metadata": {},
     "output_type": "display_data"
    },
    {
     "data": {
      "application/vnd.jupyter.widget-view+json": {
       "model_id": "17b977e2bc41454ebd5b5d1cb5913263",
       "version_major": 2,
       "version_minor": 0
      },
      "text/plain": [
       "README.md:   0%|          | 0.00/430 [00:00<?, ?B/s]"
      ]
     },
     "metadata": {},
     "output_type": "display_data"
    },
    {
     "data": {
      "text/plain": [
       "CommitInfo(commit_url='https://huggingface.co/datasets/mesolitica/AudioSet-Chunk/commit/0ebee957514706d5380d456335686504a2ca60d7', commit_message='Upload dataset', commit_description='', oid='0ebee957514706d5380d456335686504a2ca60d7', pr_url=None, repo_url=RepoUrl('https://huggingface.co/datasets/mesolitica/AudioSet-Chunk', endpoint='https://huggingface.co', repo_type='dataset', repo_id='mesolitica/AudioSet-Chunk'), pr_revision=None, pr_num=None)"
      ]
     },
     "execution_count": 11,
     "metadata": {},
     "output_type": "execute_result"
    }
   ],
   "source": [
    "dataset.push_to_hub('mesolitica/AudioSet-Chunk', split = 'chunk_0.5s')"
   ]
  },
  {
   "cell_type": "code",
   "execution_count": 18,
   "id": "7b7684f4",
   "metadata": {},
   "outputs": [],
   "source": [
    "from collections import defaultdict\n",
    "import pandas as pd\n",
    "\n",
    "df = pd.read_csv('class_labels_indices.csv')\n",
    "mapping = {}\n",
    "labels = {}\n",
    "rev_labels = {}\n",
    "counts = defaultdict(int)\n",
    "for i in range(len(df)):\n",
    "    mapping[df['mid'].iloc[i]] = df['index'].iloc[i]\n",
    "    labels[df['index'].iloc[i]] = df['display_name'].iloc[i]\n",
    "    rev_labels[df['display_name'].iloc[i]] = df['index'].iloc[i]\n",
    "    counts[df['index'].iloc[i]] = 0"
   ]
  },
  {
   "cell_type": "code",
   "execution_count": 38,
   "id": "84cb730b",
   "metadata": {},
   "outputs": [
    {
     "name": "stdout",
     "output_type": "stream",
     "text": [
      "0 Speech : 118440\n",
      "1 Male speech, man speaking : 1668\n",
      "2 Female speech, woman speaking : 410\n",
      "3 Child speech, kid speaking : 1150\n",
      "4 Conversation : 22\n",
      "5 Narration, monologue : 1588\n",
      "6 Babbling : 118\n",
      "7 Speech synthesizer : 596\n",
      "8 Shout : 14\n",
      "9 Bellow : 330\n",
      "10 Whoop : 780\n",
      "11 Yell : 246\n",
      "12 Battle cry : 1504\n",
      "13 Children shouting : 656\n",
      "14 Screaming : 450\n",
      "15 Whispering : 1050\n",
      "16 Laughter : 1312\n",
      "17 Baby laughter : 502\n",
      "18 Giggle : 634\n",
      "19 Snicker : 966\n",
      "20 Belly laugh : 172\n",
      "21 Chuckle, chortle : 836\n",
      "22 Crying, sobbing : 418\n",
      "23 Baby cry, infant cry : 1154\n",
      "24 Whimper : 380\n",
      "25 Wail, moan : 278\n",
      "26 Sigh : 740\n",
      "27 Singing : 16152\n",
      "28 Choir : 3224\n",
      "29 Yodeling : 424\n",
      "30 Chant : 1446\n",
      "31 Mantra : 1844\n",
      "32 Male singing : 878\n",
      "33 Female singing : 750\n",
      "34 Child singing : 678\n",
      "35 Synthetic singing : 322\n",
      "36 Rapping : 1050\n",
      "37 Humming : 644\n",
      "38 Groan : 440\n",
      "39 Grunt : 1532\n",
      "40 Whistling : 1680\n",
      "41 Breathing : 70\n",
      "42 Wheeze : 242\n",
      "43 Snoring : 470\n",
      "44 Gasp : 1290\n",
      "45 Pant : 598\n",
      "46 Snort : 882\n",
      "47 Cough : 486\n",
      "48 Throat clearing : 1256\n",
      "49 Sneeze : 518\n",
      "50 Sniff : 40\n",
      "51 Run : 346\n",
      "52 Shuffle : 402\n",
      "53 Walk, footsteps : 442\n",
      "54 Chewing, mastication : 900\n",
      "55 Biting : 1048\n",
      "56 Gargling : 888\n",
      "57 Stomach rumble : 1360\n",
      "58 Burping, eructation : 970\n",
      "59 Hiccup : 156\n",
      "60 Fart : 866\n",
      "61 Hands : 288\n",
      "62 Finger snapping : 1614\n",
      "63 Clapping : 1280\n",
      "64 Heart sounds, heartbeat : 3526\n",
      "65 Heart murmur : 2088\n",
      "66 Cheering : 1666\n",
      "67 Applause : 2236\n",
      "68 Chatter : 214\n",
      "69 Crowd : 5946\n",
      "70 Hubbub, speech noise, speech babble : 58\n",
      "71 Children playing : 44\n",
      "72 Animal : 30310\n",
      "73 Domestic animals, pets : 9628\n",
      "74 Dog : 4990\n",
      "75 Bark : 492\n",
      "76 Yip : 192\n",
      "77 Howl : 1774\n",
      "78 Bow-wow : 1008\n",
      "79 Growling : 100\n",
      "80 Whimper (dog) : 112\n",
      "81 Cat : 2074\n",
      "82 Purr : 2018\n",
      "83 Meow : 870\n",
      "84 Hiss : 1430\n",
      "85 Caterwaul : 194\n",
      "86 Livestock, farm animals, working animals : 870\n",
      "87 Horse : 748\n",
      "88 Clip-clop : 660\n",
      "89 Neigh, whinny : 508\n",
      "90 Cattle, bovinae : 850\n",
      "91 Moo : 742\n",
      "92 Cowbell : 1572\n",
      "93 Pig : 144\n",
      "94 Oink : 442\n",
      "95 Goat : 296\n",
      "96 Bleat : 722\n",
      "97 Sheep : 710\n",
      "98 Fowl : 5144\n",
      "99 Chicken, rooster : 1756\n",
      "100 Cluck : 1094\n",
      "101 Crowing, cock-a-doodle-doo : 762\n",
      "102 Turkey : 1178\n",
      "103 Gobble : 1200\n",
      "104 Duck : 860\n",
      "105 Quack : 1182\n",
      "106 Goose : 996\n",
      "107 Honk : 1224\n",
      "108 Wild animals : 334\n",
      "109 Roaring cats (lions, tigers) : 732\n",
      "110 Roar : 1346\n",
      "111 Bird : 6370\n",
      "112 Bird vocalization, bird call, bird song : 3010\n",
      "113 Chirp, tweet : 1046\n",
      "114 Squawk : 900\n",
      "115 Pigeon, dove : 2084\n",
      "116 Coo : 1772\n",
      "117 Crow : 1530\n",
      "118 Caw : 1568\n",
      "119 Owl : 1792\n",
      "120 Hoot : 1588\n",
      "121 Bird flight, flapping wings : 122\n",
      "122 Canidae, dogs, wolves : 704\n",
      "123 Rodents, rats, mice : 692\n",
      "124 Mouse : 170\n",
      "125 Patter : 124\n",
      "126 Insect : 3470\n",
      "127 Cricket : 1408\n",
      "128 Mosquito : 1400\n",
      "129 Fly, housefly : 2268\n",
      "130 Buzz : 340\n",
      "131 Bee, wasp, etc. : 914\n",
      "132 Frog : 1590\n",
      "133 Croak : 1204\n",
      "134 Snake : 276\n",
      "135 Rattle : 264\n",
      "136 Whale vocalization : 260\n",
      "137 Music : 411980\n",
      "138 Musical instrument : 27318\n",
      "139 Plucked string instrument : 14106\n",
      "140 Guitar : 16420\n",
      "141 Electric guitar : 2190\n",
      "142 Bass guitar : 1090\n",
      "143 Acoustic guitar : 1966\n",
      "144 Steel guitar, slide guitar : 294\n",
      "145 Tapping (guitar technique) : 4\n",
      "146 Strum : 428\n",
      "147 Banjo : 1218\n",
      "148 Sitar : 1180\n",
      "149 Mandolin : 766\n",
      "150 Zither : 336\n",
      "151 Ukulele : 1064\n",
      "152 Keyboard (musical) : 3424\n",
      "153 Piano : 1948\n",
      "154 Electric piano : 958\n",
      "155 Organ : 3098\n",
      "156 Electronic organ : 1106\n",
      "157 Hammond organ : 998\n",
      "158 Synthesizer : 306\n",
      "159 Sampler : 58\n",
      "160 Harpsichord : 2570\n",
      "161 Percussion : 5136\n",
      "162 Drum kit : 3640\n",
      "163 Drum machine : 738\n",
      "164 Drum : 6372\n",
      "165 Snare drum : 1874\n",
      "166 Rimshot : 86\n",
      "167 Drum roll : 302\n",
      "168 Bass drum : 2692\n",
      "169 Timpani : 1374\n",
      "170 Tabla : 1050\n",
      "171 Cymbal : 180\n",
      "172 Hi-hat : 100\n",
      "173 Wood block : 1284\n",
      "174 Tambourine : 724\n",
      "175 Rattle (instrument) : 340\n",
      "176 Maraca : 590\n",
      "177 Gong : 2530\n",
      "178 Tubular bells : 374\n",
      "179 Mallet percussion : 706\n",
      "180 Marimba, xylophone : 2418\n",
      "181 Glockenspiel : 1218\n",
      "182 Vibraphone : 732\n",
      "183 Steelpan : 674\n",
      "184 Orchestra : 782\n",
      "185 Brass instrument : 6324\n",
      "186 French horn : 2154\n",
      "187 Trumpet : 1546\n",
      "188 Trombone : 1668\n",
      "189 Bowed string instrument : 3768\n",
      "190 String section : 20\n",
      "191 Violin, fiddle : 2874\n",
      "192 Pizzicato : 1054\n",
      "193 Cello : 1864\n",
      "194 Double bass : 806\n",
      "195 Wind instrument, woodwind instrument : 6958\n",
      "196 Flute : 1542\n",
      "197 Saxophone : 472\n",
      "198 Clarinet : 622\n",
      "199 Harp : 1116\n",
      "200 Bell : 2246\n",
      "201 Church bell : 2524\n",
      "202 Jingle bell : 1134\n",
      "203 Bicycle bell : 1736\n",
      "204 Tuning fork : 1914\n",
      "205 Chime : 2526\n",
      "206 Wind chime : 2304\n",
      "207 Change ringing (campanology) : 3732\n",
      "208 Harmonica : 1364\n",
      "209 Accordion : 1990\n",
      "210 Bagpipes : 2984\n",
      "211 Didgeridoo : 2658\n",
      "212 Shofar : 1386\n",
      "213 Theremin : 946\n",
      "214 Singing bowl : 2362\n",
      "215 Scratching (performance technique) : 900\n",
      "216 Pop music : 924\n",
      "217 Hip hop music : 1052\n",
      "218 Beatboxing : 714\n",
      "219 Rock music : 966\n",
      "220 Heavy metal : 2162\n",
      "221 Punk rock : 238\n",
      "222 Grunge : 50\n",
      "223 Progressive rock : 506\n",
      "224 Rock and roll : 744\n",
      "225 Psychedelic rock : 24\n",
      "226 Rhythm and blues : 138\n",
      "227 Soul music : 28\n",
      "228 Reggae : 236\n",
      "229 Country : 370\n",
      "230 Swing music : 206\n",
      "231 Bluegrass : 908\n",
      "232 Funk : 44\n",
      "233 Folk music : 64\n",
      "234 Middle Eastern music : 202\n",
      "235 Jazz : 46\n",
      "236 Disco : 162\n",
      "237 Classical music : 130\n",
      "238 Opera : 1792\n",
      "239 Electronic music : 3382\n",
      "240 House music : 274\n",
      "241 Techno : 2594\n",
      "242 Dubstep : 2538\n",
      "243 Drum and bass : 366\n",
      "244 Electronica : 54\n",
      "245 Electronic dance music : 712\n",
      "246 Ambient music : 1054\n",
      "247 Trance music : 488\n",
      "248 Music of Latin America : 278\n",
      "249 Salsa music : 826\n",
      "250 Flamenco : 522\n",
      "251 Blues : 2\n",
      "252 Music for children : 180\n",
      "253 New-age music : 932\n",
      "254 Vocal music : 236\n",
      "255 A capella : 456\n",
      "256 Music of Africa : 398\n",
      "257 Afrobeat : 736\n",
      "258 Christian music : 56\n",
      "259 Gospel music : 192\n",
      "260 Music of Asia : 138\n",
      "261 Carnatic music : 1110\n",
      "262 Music of Bollywood : 172\n",
      "263 Ska : 128\n",
      "264 Traditional music : 78\n",
      "265 Independent music : 116\n",
      "266 Song : 0\n",
      "267 Background music : 958\n",
      "268 Theme music : 1874\n",
      "269 Jingle (music) : 772\n",
      "270 Soundtrack music : 838\n",
      "271 Lullaby : 258\n",
      "272 Video game music : 2336\n",
      "273 Christmas music : 34\n",
      "274 Dance music : 70\n",
      "275 Wedding music : 4\n",
      "276 Happy music : 32\n",
      "277 Funny music : 232\n",
      "278 Sad music : 176\n",
      "279 Tender music : 24\n",
      "280 Exciting music : 154\n",
      "281 Angry music : 740\n",
      "282 Scary music : 1470\n",
      "283 Wind : 3458\n",
      "284 Rustling leaves : 858\n",
      "285 Wind noise (microphone) : 3888\n",
      "286 Thunderstorm : 1316\n",
      "287 Thunder : 1592\n",
      "288 Water : 9698\n",
      "289 Rain : 4504\n",
      "290 Raindrop : 2086\n",
      "291 Rain on surface : 2882\n",
      "292 Stream : 1158\n",
      "293 Waterfall : 2998\n",
      "294 Ocean : 1098\n",
      "295 Waves, surf : 1490\n",
      "296 Steam : 1312\n",
      "297 Gurgling : 160\n",
      "298 Fire : 2\n",
      "299 Crackle : 316\n",
      "300 Vehicle : 54398\n",
      "301 Boat, Water vehicle : 3466\n",
      "302 Sailboat, sailing ship : 226\n",
      "303 Rowboat, canoe, kayak : 180\n",
      "304 Motorboat, speedboat : 1106\n",
      "305 Ship : 4\n",
      "306 Motor vehicle (road) : 128\n",
      "307 Car : 14274\n",
      "308 Vehicle horn, car horn, honking : 1210\n",
      "309 Toot : 292\n",
      "310 Car alarm : 1180\n",
      "311 Power windows, electric windows : 232\n",
      "312 Skidding : 522\n",
      "313 Tire squeal : 174\n",
      "314 Car passing by : 716\n",
      "315 Race car, auto racing : 306\n",
      "316 Truck : 1704\n",
      "317 Air brake : 78\n",
      "318 Air horn, truck horn : 1330\n",
      "319 Reversing beeps : 868\n",
      "320 Ice cream truck, ice cream van : 1778\n",
      "321 Bus : 524\n",
      "322 Emergency vehicle : 6758\n",
      "323 Police car (siren) : 2102\n",
      "324 Ambulance (siren) : 2208\n",
      "325 Fire engine, fire truck (siren) : 2154\n",
      "326 Motorcycle : 602\n",
      "327 Traffic noise, roadway noise : 10\n",
      "328 Rail transport : 4810\n",
      "329 Train : 7762\n",
      "330 Train whistle : 630\n",
      "331 Train horn : 610\n",
      "332 Railroad car, train wagon : 4984\n",
      "333 Train wheels squealing : 478\n",
      "334 Subway, metro, underground : 704\n",
      "335 Aircraft : 2784\n",
      "336 Aircraft engine : 286\n",
      "337 Jet engine : 2366\n",
      "338 Propeller, airscrew : 436\n",
      "339 Helicopter : 816\n",
      "340 Fixed-wing aircraft, airplane : 1074\n",
      "341 Bicycle : 74\n",
      "342 Skateboard : 296\n",
      "343 Engine : 9548\n",
      "344 Light engine (high frequency) : 70\n",
      "345 Dental drill, dentist's drill : 638\n",
      "346 Lawn mower : 1004\n",
      "347 Chainsaw : 1572\n",
      "348 Medium engine (mid frequency) : 1786\n",
      "349 Heavy engine (low frequency) : 850\n",
      "350 Engine knocking : 684\n",
      "351 Engine starting : 266\n",
      "352 Idling : 3010\n",
      "353 Accelerating, revving, vroom : 3184\n",
      "354 Door : 710\n",
      "355 Doorbell : 1042\n",
      "356 Ding-dong : 960\n",
      "357 Sliding door : 550\n",
      "358 Slam : 806\n",
      "359 Knock : 702\n",
      "360 Tap : 686\n",
      "361 Squeak : 1096\n",
      "362 Cupboard open or close : 12\n",
      "363 Drawer open or close : 38\n",
      "364 Dishes, pots, and pans : 474\n",
      "365 Cutlery, silverware : 532\n",
      "366 Chopping (food) : 1000\n",
      "367 Frying (food) : 956\n",
      "368 Microwave oven : 552\n",
      "369 Blender : 508\n",
      "370 Water tap, faucet : 2434\n",
      "371 Sink (filling or washing) : 1466\n",
      "372 Bathtub (filling or washing) : 344\n",
      "373 Hair dryer : 2444\n",
      "374 Toilet flush : 1206\n",
      "375 Toothbrush : 752\n",
      "376 Electric toothbrush : 1550\n",
      "377 Vacuum cleaner : 1342\n",
      "378 Zipper (clothing) : 440\n",
      "379 Keys jangling : 86\n",
      "380 Coin (dropping) : 1192\n",
      "381 Scissors : 770\n",
      "382 Electric shaver, electric razor : 1826\n",
      "383 Shuffling cards : 296\n",
      "384 Typing : 1446\n",
      "385 Typewriter : 1500\n",
      "386 Computer keyboard : 1556\n",
      "387 Writing : 300\n",
      "388 Alarm : 992\n",
      "389 Telephone : 494\n",
      "390 Telephone bell ringing : 970\n",
      "391 Ringtone : 1136\n",
      "392 Telephone dialing, DTMF : 512\n",
      "393 Dial tone : 1264\n",
      "394 Busy signal : 1258\n",
      "395 Alarm clock : 810\n",
      "396 Siren : 10696\n",
      "397 Civil defense siren : 3194\n",
      "398 Buzzer : 1266\n",
      "399 Smoke detector, smoke alarm : 1694\n",
      "400 Fire alarm : 1352\n",
      "401 Foghorn : 984\n",
      "402 Whistle : 1646\n",
      "403 Steam whistle : 1776\n",
      "404 Mechanisms : 1426\n",
      "405 Ratchet, pawl : 466\n",
      "406 Clock : 482\n",
      "407 Tick : 800\n",
      "408 Tick-tock : 1320\n",
      "409 Gears : 612\n",
      "410 Pulleys : 224\n",
      "411 Sewing machine : 328\n",
      "412 Mechanical fan : 18\n",
      "413 Air conditioning : 318\n",
      "414 Cash register : 624\n",
      "415 Printer : 762\n",
      "416 Camera : 364\n",
      "417 Single-lens reflex camera : 602\n",
      "418 Tools : 2234\n",
      "419 Hammer : 956\n",
      "420 Jackhammer : 504\n",
      "421 Sawing : 1540\n",
      "422 Filing (rasp) : 814\n",
      "423 Sanding : 1662\n",
      "424 Power tool : 1582\n",
      "425 Drill : 1162\n",
      "426 Explosion : 1466\n",
      "427 Gunshot, gunfire : 2480\n",
      "428 Machine gun : 1086\n",
      "429 Fusillade : 404\n",
      "430 Artillery fire : 708\n",
      "431 Cap gun : 388\n",
      "432 Fireworks : 982\n",
      "433 Firecracker : 684\n",
      "434 Burst, pop : 704\n",
      "435 Eruption : 1176\n",
      "436 Boom : 42\n",
      "437 Wood : 2812\n",
      "438 Chop : 806\n",
      "439 Splinter : 214\n",
      "440 Crack : 374\n",
      "441 Glass : 466\n",
      "442 Chink, clink : 684\n",
      "443 Shatter : 170\n",
      "444 Liquid : 774\n",
      "445 Splash, splatter : 140\n",
      "446 Slosh : 560\n",
      "447 Squish : 4\n",
      "448 Drip : 408\n",
      "449 Pour : 628\n",
      "450 Trickle, dribble : 300\n",
      "451 Gush : 1154\n",
      "452 Fill (with liquid) : 580\n",
      "453 Spray : 866\n",
      "454 Pump (liquid) : 664\n",
      "455 Stir : 530\n",
      "456 Boiling : 270\n",
      "457 Sonar : 1832\n",
      "458 Arrow : 36\n",
      "459 Whoosh, swoosh, swish : 508\n",
      "460 Thump, thud : 244\n",
      "461 Thunk : 150\n",
      "462 Electronic tuner : 238\n",
      "463 Effects unit : 420\n",
      "464 Chorus effect : 16\n",
      "465 Basketball bounce : 390\n",
      "466 Bang : 926\n",
      "467 Slap, smack : 848\n",
      "468 Whack, thwack : 340\n",
      "469 Smash, crash : 484\n",
      "470 Breaking : 680\n",
      "471 Bouncing : 404\n",
      "472 Whip : 1190\n",
      "473 Flap : 12\n",
      "474 Scratch : 1144\n",
      "475 Scrape : 386\n",
      "476 Rub : 3690\n",
      "477 Roll : 0\n",
      "478 Crushing : 218\n",
      "479 Crumpling, crinkling : 1516\n",
      "480 Tearing : 1794\n",
      "481 Beep, bleep : 1340\n",
      "482 Ping : 656\n",
      "483 Ding : 1078\n",
      "484 Clang : 686\n",
      "485 Squeal : 1146\n",
      "486 Creak : 358\n",
      "487 Rustle : 112\n",
      "488 Whir : 688\n",
      "489 Clatter : 418\n",
      "490 Sizzle : 1496\n",
      "491 Clicking : 272\n",
      "492 Clickety-clack : 716\n",
      "493 Rumble : 1264\n",
      "494 Plop : 482\n",
      "495 Jingle, tinkle : 1128\n",
      "496 Hum : 2248\n",
      "497 Zing : 12\n",
      "498 Boing : 794\n",
      "499 Crunch : 1528\n",
      "500 Silence : 1872\n",
      "501 Sine wave : 2870\n",
      "502 Harmonic : 0\n",
      "503 Chirp tone : 1952\n",
      "504 Sound effect : 2180\n",
      "505 Pulse : 68\n",
      "506 Inside, small room : 9030\n",
      "507 Inside, large room or hall : 34\n",
      "508 Inside, public space : 60\n",
      "509 Outside, urban or manmade : 1240\n",
      "510 Outside, rural or natural : 70\n",
      "511 Reverberation : 322\n",
      "512 Echo : 104\n",
      "513 Noise : 18\n",
      "514 Environmental noise : 942\n",
      "515 Static : 1846\n",
      "516 Mains hum : 1218\n",
      "517 Distortion : 454\n",
      "518 Sidetone : 202\n",
      "519 Cacophony : 292\n",
      "520 White noise : 1104\n",
      "521 Pink noise : 2168\n",
      "522 Throbbing : 1904\n",
      "523 Vibration : 348\n",
      "524 Television : 1036\n",
      "525 Radio : 340\n",
      "526 Field recording : 18\n"
     ]
    }
   ],
   "source": [
    "for d in filtered:\n",
    "    for l in d['labels']:\n",
    "        counts[rev_labels[l]] += 1\n",
    "        \n",
    "for k, v in counts.items():\n",
    "    print(k, labels[k], ':', v)"
   ]
  },
  {
   "cell_type": "code",
   "execution_count": null,
   "id": "01038699",
   "metadata": {},
   "outputs": [],
   "source": []
  }
 ],
 "metadata": {
  "kernelspec": {
   "display_name": "python3.10",
   "language": "python",
   "name": "python3.10"
  },
  "language_info": {
   "codemirror_mode": {
    "name": "ipython",
    "version": 3
   },
   "file_extension": ".py",
   "mimetype": "text/x-python",
   "name": "python",
   "nbconvert_exporter": "python",
   "pygments_lexer": "ipython3",
   "version": "3.10.15"
  }
 },
 "nbformat": 4,
 "nbformat_minor": 5
}
