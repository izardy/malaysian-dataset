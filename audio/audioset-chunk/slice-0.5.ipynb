{
 "cells": [
  {
   "cell_type": "code",
   "execution_count": 63,
   "id": "7155b91d",
   "metadata": {},
   "outputs": [],
   "source": [
    "import json\n",
    "import soundfile as sf\n",
    "import pandas as pd\n",
    "import os\n",
    "from tqdm import tqdm\n",
    "\n",
    "def new_path(f):\n",
    "    f = f.replace('.mp3', '.audioset-0.5')\n",
    "    splitted = f.split('/')\n",
    "    base_folder = splitted[0] + '_audioset-0.5'\n",
    "    splitted = '/'.join([base_folder] + splitted[1:])\n",
    "    return splitted\n",
    "\n",
    "from multiprocess import Pool\n",
    "import itertools\n",
    "\n",
    "\n",
    "def chunks(l, n):\n",
    "    for i in range(0, len(l), n):\n",
    "        yield (l[i: i + n], i // n)\n",
    "\n",
    "\n",
    "def multiprocessing(strings, function, cores=6, returned=True):\n",
    "    df_split = chunks(strings, len(strings) // cores)\n",
    "    pool = Pool(cores)\n",
    "    pooled = pool.map(function, df_split)\n",
    "    pool.close()\n",
    "    pool.join()\n",
    "\n",
    "    if returned:\n",
    "        return list(itertools.chain(*pooled))\n",
    "    \n",
    "df = pd.read_csv('class_labels_indices.csv')\n",
    "mapping = {}\n",
    "labels = {}\n",
    "for i in range(len(df)):\n",
    "    mapping[df['mid'].iloc[i]] = df['index'].iloc[i]\n",
    "    labels[df['index'].iloc[i]] = df['display_name'].iloc[i]"
   ]
  },
  {
   "cell_type": "code",
   "execution_count": 51,
   "id": "ada7f8ac",
   "metadata": {},
   "outputs": [
    {
     "name": "stdout",
     "output_type": "stream",
     "text": [
      "mkdir: cannot create directory ‘slice-0.5’: File exists\r\n"
     ]
    }
   ],
   "source": [
    "!mkdir slice-0.5"
   ]
  },
  {
   "cell_type": "code",
   "execution_count": 52,
   "id": "8ba7713e",
   "metadata": {},
   "outputs": [],
   "source": [
    "with open('populate.json') as fopen:\n",
    "    data = json.load(fopen)"
   ]
  },
  {
   "cell_type": "code",
   "execution_count": 70,
   "id": "56650a24",
   "metadata": {},
   "outputs": [],
   "source": [
    "def loop(indices):\n",
    "    indices, _ = indices\n",
    "    results = []\n",
    "    for n in tqdm(indices):\n",
    "        row = data[n]\n",
    "        row_labels = set([labels[i] for i in row['labels']])\n",
    "        \n",
    "        f_audioset = new_path(row['audio_filename'])\n",
    "        if not os.path.exists(f_audioset):\n",
    "            continue\n",
    "        \n",
    "        with open(f_audioset) as fopen:\n",
    "            d = json.load(fopen)\n",
    "\n",
    "        y, sr = sf.read(row['audio_filename'])\n",
    "        maxlen = len(y) / sr\n",
    "        \n",
    "        for i in range(len(d)):\n",
    "            end = min(float(d[i]['timestamp']) + 0.5, maxlen)\n",
    "            d[i]['start'] = float(d[i].pop('timestamp'))\n",
    "            d[i]['end'] = end\n",
    "            subset = set(d[i]['topk']) & set(row_labels)\n",
    "            try:\n",
    "                scores = {l: d[i]['scores'][no] for no, l in enumerate(d[i]['topk'])}\n",
    "            except Exception as e:\n",
    "                print(e)\n",
    "                print(d[i])\n",
    "                continue\n",
    "            if len(subset):\n",
    "                f = os.path.join('slice-0.5', f'{n}-{i}.mp3')\n",
    "                if not os.path.exists(f):\n",
    "                    y_ = y[int(d[i]['start'] * sr): int(d[i]['end'] * sr)]\n",
    "                    sf.write(f, y_, sr)\n",
    "                subset = list(subset)\n",
    "                scores_ = [scores[l] for l in subset]\n",
    "                results.append({\n",
    "                    'audio_filename': f,\n",
    "                    'labels': subset,\n",
    "                    'scores': scores_\n",
    "                })\n",
    "    \n",
    "    return results"
   ]
  },
  {
   "cell_type": "code",
   "execution_count": 71,
   "id": "5ad142f9",
   "metadata": {},
   "outputs": [
    {
     "name": "stderr",
     "output_type": "stream",
     "text": [
      "100%|████████████████████████████████████████████████████████████████████████████████████| 10/10 [00:00<00:00, 1161.73it/s]\n"
     ]
    }
   ],
   "source": [
    "r = loop((range(10), 0))"
   ]
  },
  {
   "cell_type": "code",
   "execution_count": 73,
   "id": "10160518",
   "metadata": {},
   "outputs": [
    {
     "name": "stderr",
     "output_type": "stream",
     "text": [
      "100%|█████████████████████████████████████████████████████████████████████████████████| 3943/3943 [00:07<00:00, 537.84it/s]\n",
      "100%|█████████████████████████████████████████████████████████████████████████████████| 3943/3943 [00:07<00:00, 534.14it/s]\n",
      "100%|█████████████████████████████████████████████████████████████████████████████████| 3943/3943 [00:07<00:00, 531.99it/s]\n",
      "100%|█████████████████████████████████████████████████████████████████████████████████| 3943/3943 [00:07<00:00, 506.81it/s]\n",
      "100%|█████████████████████████████████████████████████████████████████████████████████| 3943/3943 [00:08<00:00, 478.49it/s]\n",
      "100%|█████████████████████████████████████████████████████████████████████████████████| 3943/3943 [00:08<00:00, 476.47it/s]\n",
      "100%|█████████████████████████████████████████████████████████████████████████████████| 3943/3943 [00:08<00:00, 474.17it/s]\n",
      "100%|█████████████████████████████████████████████████████████████████████████████████| 3943/3943 [00:08<00:00, 471.29it/s]\n",
      "100%|█████████████████████████████████████████████████████████████████████████████████| 3943/3943 [00:08<00:00, 469.04it/s]\n",
      "100%|███████████████████████████████████████████████████████████████████████████████████████| 7/7 [00:00<00:00, 658.56it/s]\n",
      "100%|██████████████████████████████████████████████████████████████████████████████████| 3943/3943 [04:04<00:00, 16.16it/s]\n"
     ]
    }
   ],
   "source": [
    "r = multiprocessing(range(len(data)), loop, cores = 10)"
   ]
  },
  {
   "cell_type": "code",
   "execution_count": 75,
   "id": "d2ffb3ed",
   "metadata": {},
   "outputs": [
    {
     "data": {
      "text/plain": [
       "{'audio_filename': 'slice-0.5/0-0.mp3',\n",
       " 'labels': ['Speech'],\n",
       " 'scores': [-0.32349]}"
      ]
     },
     "execution_count": 75,
     "metadata": {},
     "output_type": "execute_result"
    }
   ],
   "source": [
    "r[0]"
   ]
  },
  {
   "cell_type": "code",
   "execution_count": 76,
   "id": "ed25adb1",
   "metadata": {},
   "outputs": [
    {
     "name": "stdout",
     "output_type": "stream",
     "text": [
      "3.9G\tslice-0.5\r\n"
     ]
    }
   ],
   "source": [
    "!du -hs slice-0.5"
   ]
  },
  {
   "cell_type": "code",
   "execution_count": 77,
   "id": "35cdf80d",
   "metadata": {},
   "outputs": [],
   "source": [
    "with open('slice-0.5.json', 'w') as fopen:\n",
    "    json.dump(r, fopen)"
   ]
  }
 ],
 "metadata": {
  "kernelspec": {
   "display_name": "python3.10",
   "language": "python",
   "name": "python3.10"
  },
  "language_info": {
   "codemirror_mode": {
    "name": "ipython",
    "version": 3
   },
   "file_extension": ".py",
   "mimetype": "text/x-python",
   "name": "python",
   "nbconvert_exporter": "python",
   "pygments_lexer": "ipython3",
   "version": "3.10.15"
  }
 },
 "nbformat": 4,
 "nbformat_minor": 5
}
