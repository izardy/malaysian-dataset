{
 "cells": [
  {
   "cell_type": "code",
   "execution_count": 3,
   "id": "74026ccc",
   "metadata": {},
   "outputs": [],
   "source": [
    "# !wget https://gist.githubusercontent.com/huseinzol05/98974ae8c6c7a65d4bc0af9f5003786a/raw/2e06e71ef7349a57bc58cc9913ae6bae1f9f8447/mp.py"
   ]
  },
  {
   "cell_type": "code",
   "execution_count": 46,
   "id": "e885a68d",
   "metadata": {},
   "outputs": [],
   "source": [
    "from streaming import LocalDataset\n",
    "from streaming import MDSWriter\n",
    "from datasets import Audio\n",
    "from glob import glob\n",
    "from tqdm import tqdm\n",
    "import json\n",
    "import mp"
   ]
  },
  {
   "cell_type": "code",
   "execution_count": 5,
   "id": "e96db0e1",
   "metadata": {},
   "outputs": [],
   "source": [
    "from collections import defaultdict\n",
    "\n",
    "with open('prepared-indonesian-ms.jsonl') as fopen:\n",
    "    for l in fopen:\n",
    "        l = json.loads(l)\n",
    "        break"
   ]
  },
  {
   "cell_type": "code",
   "execution_count": 9,
   "id": "44a45462",
   "metadata": {
    "scrolled": false
   },
   "outputs": [
    {
     "data": {
      "application/vnd.jupyter.widget-view+json": {
       "model_id": "82181afa0f8c42ac8636e2dfa3105c1d",
       "version_major": 2,
       "version_minor": 0
      },
      "text/plain": [
       "tokenizer_config.json:   0%|          | 0.00/283k [00:00<?, ?B/s]"
      ]
     },
     "metadata": {},
     "output_type": "display_data"
    },
    {
     "data": {
      "application/vnd.jupyter.widget-view+json": {
       "model_id": "e7768723836e452aa16d43ae3de27a7e",
       "version_major": 2,
       "version_minor": 0
      },
      "text/plain": [
       "vocab.json:   0%|          | 0.00/1.04M [00:00<?, ?B/s]"
      ]
     },
     "metadata": {},
     "output_type": "display_data"
    },
    {
     "data": {
      "application/vnd.jupyter.widget-view+json": {
       "model_id": "7ddb215149514289a63097bb2e0bddfe",
       "version_major": 2,
       "version_minor": 0
      },
      "text/plain": [
       "tokenizer.json:   0%|          | 0.00/2.48M [00:00<?, ?B/s]"
      ]
     },
     "metadata": {},
     "output_type": "display_data"
    },
    {
     "data": {
      "application/vnd.jupyter.widget-view+json": {
       "model_id": "7a6e3f3678e747f7864ffb3a54e1f485",
       "version_major": 2,
       "version_minor": 0
      },
      "text/plain": [
       "merges.txt:   0%|          | 0.00/494k [00:00<?, ?B/s]"
      ]
     },
     "metadata": {},
     "output_type": "display_data"
    },
    {
     "data": {
      "application/vnd.jupyter.widget-view+json": {
       "model_id": "058c0d3d180a4aa39c5000cdb568cf99",
       "version_major": 2,
       "version_minor": 0
      },
      "text/plain": [
       "normalizer.json:   0%|          | 0.00/52.7k [00:00<?, ?B/s]"
      ]
     },
     "metadata": {},
     "output_type": "display_data"
    },
    {
     "data": {
      "application/vnd.jupyter.widget-view+json": {
       "model_id": "275db00f9390424d8839ede6af9d5907",
       "version_major": 2,
       "version_minor": 0
      },
      "text/plain": [
       "added_tokens.json:   0%|          | 0.00/34.6k [00:00<?, ?B/s]"
      ]
     },
     "metadata": {},
     "output_type": "display_data"
    },
    {
     "data": {
      "application/vnd.jupyter.widget-view+json": {
       "model_id": "19dcfbe20b0c49a98e1feb37fc7b62a8",
       "version_major": 2,
       "version_minor": 0
      },
      "text/plain": [
       "special_tokens_map.json:   0%|          | 0.00/2.07k [00:00<?, ?B/s]"
      ]
     },
     "metadata": {},
     "output_type": "display_data"
    }
   ],
   "source": [
    "from transformers import AutoTokenizer\n",
    "\n",
    "tokenizer = AutoTokenizer.from_pretrained('openai/whisper-large-v3')"
   ]
  },
  {
   "cell_type": "code",
   "execution_count": 41,
   "id": "486cd3d6",
   "metadata": {},
   "outputs": [],
   "source": [
    "!split -l 30000 -d --additional-suffix=.splitted prepared-indonesian-original.jsonl prepared-indonesian-original.jsonl"
   ]
  },
  {
   "cell_type": "code",
   "execution_count": 39,
   "id": "ffc36ca0",
   "metadata": {},
   "outputs": [],
   "source": [
    "def loop(files):\n",
    "    files, _ = files\n",
    "    indons = []\n",
    "    for f in files:\n",
    "        with open(f) as fopen:\n",
    "            for l in tqdm(fopen):\n",
    "                l = json.loads(l)\n",
    "                t = tokenizer.decode(l['predict_id'], decode_with_timestamps = True).split('<|endoftext|>')[0]\n",
    "                t = t + '<|endoftext|>'\n",
    "                indons.append([l['filename'], t])\n",
    "    return indons"
   ]
  },
  {
   "cell_type": "code",
   "execution_count": 45,
   "id": "8bc1ea2f",
   "metadata": {
    "scrolled": true
   },
   "outputs": [
    {
     "name": "stderr",
     "output_type": "stream",
     "text": [
      "30000it [00:36, 831.02it/s] \n",
      "30000it [00:40, 743.06it/s] \n",
      "30000it [00:40, 740.64it/s]\n",
      "30000it [00:40, 735.88it/s]\n",
      "30000it [00:41, 723.39it/s] \n",
      "30000it [00:43, 687.84it/s] \n",
      "30000it [00:43, 682.40it/s]\n",
      "30000it [00:44, 672.34it/s]\n",
      "30000it [00:45, 661.19it/s] \n",
      "30000it [00:46, 639.39it/s]\n",
      "13734it [00:18, 750.70it/s] \n",
      "30000it [00:36, 826.45it/s] \n",
      "30000it [00:36, 831.80it/s] \n",
      "30000it [00:36, 812.30it/s]\n",
      "30000it [00:37, 803.21it/s]\n"
     ]
    }
   ],
   "source": [
    "indons = mp.multiprocessing(sorted(glob('prepared-indonesian-original.jsonl*splitted')), loop, cores = 10)"
   ]
  },
  {
   "cell_type": "code",
   "execution_count": 51,
   "id": "896d9096",
   "metadata": {},
   "outputs": [
    {
     "data": {
      "text/plain": [
       "320620"
      ]
     },
     "execution_count": 51,
     "metadata": {},
     "output_type": "execute_result"
    }
   ],
   "source": [
    "filenames = defaultdict(dict)\n",
    "\n",
    "with open('prepared-indonesian-ms.jsonl') as fopen:\n",
    "    for l in fopen:\n",
    "        l = json.loads(l)\n",
    "        filenames[l['audio_filename']]['ms'] = l['new_text']\n",
    "len(filenames)"
   ]
  },
  {
   "cell_type": "code",
   "execution_count": 52,
   "id": "e4023fe6",
   "metadata": {},
   "outputs": [
    {
     "data": {
      "text/plain": [
       "320934"
      ]
     },
     "execution_count": 52,
     "metadata": {},
     "output_type": "execute_result"
    }
   ],
   "source": [
    "with open('prepared-indonesian-en.jsonl') as fopen:\n",
    "    for l in fopen:\n",
    "        l = json.loads(l)\n",
    "        filenames[l['audio_filename']]['en'] = l['new_text']\n",
    "        \n",
    "len(filenames)"
   ]
  },
  {
   "cell_type": "code",
   "execution_count": 56,
   "id": "e850081b",
   "metadata": {},
   "outputs": [
    {
     "data": {
      "text/plain": [
       "320934"
      ]
     },
     "execution_count": 56,
     "metadata": {},
     "output_type": "execute_result"
    }
   ],
   "source": [
    "for i in range(len(indons)):\n",
    "    if indons[i][0] not in filenames:\n",
    "        continue\n",
    "    filenames[indons[i][0]]['id'] = indons[i][1]\n",
    "    \n",
    "len(filenames)"
   ]
  },
  {
   "cell_type": "code",
   "execution_count": 57,
   "id": "3b607048",
   "metadata": {},
   "outputs": [],
   "source": [
    "columns = {\n",
    "    'audio_filename': 'str',\n",
    "    'new_text': 'str',\n",
    "    'new_text_en': 'str',\n",
    "    'new_text_ms': 'str'\n",
    "}\n",
    "hashes = 'sha1', 'xxh64'"
   ]
  },
  {
   "cell_type": "code",
   "execution_count": 68,
   "id": "438d62e1",
   "metadata": {},
   "outputs": [],
   "source": [
    "!rm -rf mosaic-indon"
   ]
  },
  {
   "cell_type": "code",
   "execution_count": 69,
   "id": "7fda0a13",
   "metadata": {},
   "outputs": [
    {
     "name": "stderr",
     "output_type": "stream",
     "text": [
      "100%|███████████████████████████████████████████████████████████████████████████████████████████| 320934/320934 [00:02<00:00, 155071.04it/s]\n"
     ]
    }
   ],
   "source": [
    "with MDSWriter(out='mosaic-indon', columns=columns, compression=None, hashes=hashes) as out:\n",
    "    for k, v in tqdm(filenames.items()):\n",
    "        d = {\n",
    "            'audio_filename': k,\n",
    "            'new_text': v['id'],\n",
    "            'new_text_en': v.get('en', ''),\n",
    "            'new_text_ms': v.get('ms', ''),\n",
    "        }\n",
    "        out.write(d)"
   ]
  },
  {
   "cell_type": "code",
   "execution_count": 70,
   "id": "1d78fd68",
   "metadata": {},
   "outputs": [],
   "source": [
    "dataset = LocalDataset('mosaic-indon')"
   ]
  },
  {
   "cell_type": "code",
   "execution_count": 71,
   "id": "d6a261f0",
   "metadata": {},
   "outputs": [
    {
     "data": {
      "text/plain": [
       "320934"
      ]
     },
     "execution_count": 71,
     "metadata": {},
     "output_type": "execute_result"
    }
   ],
   "source": [
    "len(dataset)"
   ]
  },
  {
   "cell_type": "code",
   "execution_count": 72,
   "id": "b0213f6a",
   "metadata": {},
   "outputs": [
    {
     "data": {
      "text/plain": [
       "{'audio_filename': 'split-indonesian/1-160-118560000.mp3',\n",
       " 'new_text': '<|startoftranscript|><|id|><|transcribe|><|0.00|> Ada sekitar 20 ribu orang total yang terdeteksi ya di sini, di area konvoy, di Nasdem Tower tadi, dan juga di KPU total untuk mengikuti jalannya konvoy ini.<|14.96|><|16.42|> Dan jumlah tersebut adalah gabungan dari kader partai anggota koalisi dengan relawan.<|24.28|><|24.82|><|endoftext|>',\n",
       " 'new_text_en': '<|startoftranscript|><|en|><|transcribe|><|0.00|> There are approximately 20 thousand people in total who are detected here, in the convoy area, at Nasdem Tower, and also at the KPU in total to follow the progress of this convoy.<|14.96|><|16.42|> And this number is a combination of coalition and volunteer party cadres.<|24.28|><|endoftext|>',\n",
       " 'new_text_ms': '<|startoftranscript|><|ms|><|transcribe|><|0.00|> Terdapat kira-kira 20 ribu orang kesemuanya yang dikesan di sini, di kawasan konvoi, di Menara Nasdem, dan juga di KPU kesemuanya untuk mengikuti perkembangan konvoi ini.<|14.96|><|16.42|> Dan bilangan ini adalah gabungan kader parti ahli gabungan dan sukarelawan.<|24.28|><|endoftext|>'}"
      ]
     },
     "execution_count": 72,
     "metadata": {},
     "output_type": "execute_result"
    }
   ],
   "source": [
    "dataset[0]"
   ]
  },
  {
   "cell_type": "code",
   "execution_count": null,
   "id": "a1456f8f",
   "metadata": {},
   "outputs": [],
   "source": []
  }
 ],
 "metadata": {
  "kernelspec": {
   "display_name": "python3.10",
   "language": "python",
   "name": "python3.10"
  },
  "language_info": {
   "codemirror_mode": {
    "name": "ipython",
    "version": 3
   },
   "file_extension": ".py",
   "mimetype": "text/x-python",
   "name": "python",
   "nbconvert_exporter": "python",
   "pygments_lexer": "ipython3",
   "version": "3.10.14"
  }
 },
 "nbformat": 4,
 "nbformat_minor": 5
}
