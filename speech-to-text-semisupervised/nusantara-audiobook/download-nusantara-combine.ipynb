{
 "cells": [
  {
   "cell_type": "code",
   "execution_count": 16,
   "id": "213db464",
   "metadata": {},
   "outputs": [],
   "source": [
    "# !wget https://f000.backblazeb2.com/file/malaya-speech-model/data/dari-pasentran-ke-istana.gz\n",
    "# !wget https://f000.backblazeb2.com/file/malaya-speech-model/data/turki.gz\n",
    "# !wget https://f000.backblazeb2.com/file/malaya-speech-model/data/salina.gz\n",
    "\n",
    "# !wget https://huggingface.co/datasets/mesolitica/nusantara-audiobook/resolve/main/dari-pasentran-ke-istana.gz\n",
    "# !wget https://huggingface.co/datasets/mesolitica/nusantara-audiobook/resolve/main/salina.gz\n",
    "# wget https://huggingface.co/datasets/mesolitica/nusantara-audiobook/resolve/main/turki.gz"
   ]
  },
  {
   "cell_type": "code",
   "execution_count": 40,
   "id": "92f7388b",
   "metadata": {},
   "outputs": [],
   "source": [
    "# !tar -xf turki.gz\n",
    "# !tar -xf dari-pasentran-ke-istana.gz\n",
    "# !tar -xf salina.gz"
   ]
  },
  {
   "cell_type": "code",
   "execution_count": 32,
   "id": "7e0d5b58",
   "metadata": {},
   "outputs": [],
   "source": [
    "from glob import glob\n",
    "from collections import defaultdict\n",
    "import os\n",
    "import numpy as np\n",
    "from tqdm import tqdm\n",
    "from datasets import Audio\n",
    "\n",
    "sr = 16000\n",
    "audio = Audio(sampling_rate=sr)"
   ]
  },
  {
   "cell_type": "code",
   "execution_count": 37,
   "id": "edadaec4",
   "metadata": {},
   "outputs": [
    {
     "data": {
      "text/plain": [
       "<function soundfile.write(file, data, samplerate, subtype=None, endian=None, format=None, closefd=True)>"
      ]
     },
     "execution_count": 37,
     "metadata": {},
     "output_type": "execute_result"
    }
   ],
   "source": [
    "import soundfile as sf\n",
    "\n",
    "sf.write"
   ]
  },
  {
   "cell_type": "code",
   "execution_count": 17,
   "id": "ed45fee3",
   "metadata": {},
   "outputs": [
    {
     "data": {
      "text/plain": [
       "2621"
      ]
     },
     "execution_count": 17,
     "metadata": {},
     "output_type": "execute_result"
    }
   ],
   "source": [
    "files = glob('turki/output-wav-turki/*.wav')\n",
    "len(files)"
   ]
  },
  {
   "cell_type": "code",
   "execution_count": 38,
   "id": "125e4d96",
   "metadata": {},
   "outputs": [
    {
     "name": "stderr",
     "output_type": "stream",
     "text": [
      "100%|██████████| 363/363 [00:14<00:00, 25.67it/s]\n",
      "100%|██████████| 652/652 [00:34<00:00, 18.99it/s]\n",
      "100%|██████████| 611/611 [00:32<00:00, 18.87it/s]\n",
      "100%|██████████| 501/501 [00:25<00:00, 19.77it/s]\n",
      "100%|██████████| 366/366 [00:11<00:00, 30.62it/s]\n",
      "100%|██████████| 128/128 [00:02<00:00, 56.87it/s]\n"
     ]
    }
   ],
   "source": [
    "mp3s = defaultdict(list)\n",
    "\n",
    "for f in files:\n",
    "    mp3s['-'.join(f.split('-')[:-1])].append(f)\n",
    "\n",
    "for k, v in mp3s.items():\n",
    "    v = sorted(v, key = lambda x: int(x.split('-')[-1].replace('.wav', '')))\n",
    "    empty = np.array([], dtype = np.float32)\n",
    "    for v_ in tqdm(v):\n",
    "        y = audio.decode_example(audio.encode_example(v_))['array']\n",
    "        empty = np.concatenate([empty, y])\n",
    "    \n",
    "    sf.write(k, empty, sr)"
   ]
  },
  {
   "cell_type": "code",
   "execution_count": 41,
   "id": "e4bdee16",
   "metadata": {},
   "outputs": [
    {
     "data": {
      "text/plain": [
       "9168"
      ]
     },
     "execution_count": 41,
     "metadata": {},
     "output_type": "execute_result"
    }
   ],
   "source": [
    "files = glob('dari-pasentran-ke-istana/output-wav-dari-pasentran-ke-istana/*.wav')\n",
    "len(files)"
   ]
  },
  {
   "cell_type": "code",
   "execution_count": 44,
   "id": "03b03e76",
   "metadata": {},
   "outputs": [
    {
     "name": "stderr",
     "output_type": "stream",
     "text": [
      "100%|██████████| 769/769 [00:37<00:00, 20.39it/s]\n",
      "100%|██████████| 506/506 [00:28<00:00, 18.01it/s]\n",
      "100%|██████████| 532/532 [00:32<00:00, 16.50it/s]\n",
      "100%|██████████| 985/985 [01:38<00:00,  9.98it/s]\n",
      "100%|██████████| 968/968 [01:18<00:00, 12.32it/s]\n",
      "100%|██████████| 760/760 [00:46<00:00, 16.44it/s]\n",
      "100%|██████████| 385/385 [00:14<00:00, 26.41it/s]\n",
      "100%|██████████| 1276/1276 [01:46<00:00, 12.03it/s]\n",
      "100%|██████████| 330/330 [00:08<00:00, 39.32it/s]\n",
      "100%|██████████| 928/928 [00:55<00:00, 16.75it/s]\n",
      "100%|██████████| 205/205 [00:03<00:00, 59.70it/s]\n",
      "100%|██████████| 490/490 [00:15<00:00, 30.71it/s]\n",
      "100%|██████████| 1034/1034 [01:15<00:00, 13.70it/s]\n"
     ]
    }
   ],
   "source": [
    "mp3s = defaultdict(list)\n",
    "\n",
    "for f in files:\n",
    "    mp3s['-'.join(f.split('-')[:-1])].append(f)\n",
    "\n",
    "for k, v in mp3s.items():\n",
    "    v = sorted(v, key = lambda x: int(x.split('-')[-1].replace('.wav', '')))\n",
    "    empty = np.array([], dtype = np.float32)\n",
    "    for v_ in tqdm(v):\n",
    "        y = audio.decode_example(audio.encode_example(v_))['array']\n",
    "        empty = np.concatenate([empty, y])\n",
    "    \n",
    "    sf.write(k, empty, sr)"
   ]
  },
  {
   "cell_type": "code",
   "execution_count": null,
   "id": "05390fd5",
   "metadata": {},
   "outputs": [],
   "source": [
    "files = glob('salina/output-wav-salina/*.wav')\n",
    "len(files)"
   ]
  },
  {
   "cell_type": "code",
   "execution_count": null,
   "id": "7dafc860",
   "metadata": {},
   "outputs": [],
   "source": [
    "mp3s = defaultdict(list)\n",
    "\n",
    "for f in files:\n",
    "    mp3s['-'.join(f.split('-')[:-1])].append(f)\n",
    "\n",
    "for k, v in mp3s.items():\n",
    "    v = sorted(v, key = lambda x: int(x.split('-')[-1].replace('.wav', '')))\n",
    "    empty = np.array([], dtype = np.float32)\n",
    "    for v_ in tqdm(v):\n",
    "        y = audio.decode_example(audio.encode_example(v_))['array']\n",
    "        empty = np.concatenate([empty, y])\n",
    "    \n",
    "    sf.write(k, empty, sr)"
   ]
  }
 ],
 "metadata": {
  "kernelspec": {
   "display_name": "Python 3 (ipykernel)",
   "language": "python",
   "name": "python3"
  },
  "language_info": {
   "codemirror_mode": {
    "name": "ipython",
    "version": 3
   },
   "file_extension": ".py",
   "mimetype": "text/x-python",
   "name": "python",
   "nbconvert_exporter": "python",
   "pygments_lexer": "ipython3",
   "version": "3.10.12"
  }
 },
 "nbformat": 4,
 "nbformat_minor": 5
}
