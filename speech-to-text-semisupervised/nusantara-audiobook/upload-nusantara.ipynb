{
 "cells": [
  {
   "cell_type": "code",
   "execution_count": 1,
   "id": "aa088073",
   "metadata": {},
   "outputs": [],
   "source": [
    "from glob import glob\n",
    "from tqdm import tqdm\n",
    "import json\n",
    "import numpy as np\n",
    "import os\n",
    "from transformers import AutoTokenizer, WhisperConfig\n",
    "from sklearn.feature_extraction.text import CountVectorizer\n",
    "\n",
    "config = WhisperConfig.from_pretrained('openai/whisper-large-v3')\n",
    "maxlen = config.max_length - 3"
   ]
  },
  {
   "cell_type": "code",
   "execution_count": 2,
   "id": "5c431b5c",
   "metadata": {},
   "outputs": [
    {
     "name": "stderr",
     "output_type": "stream",
     "text": [
      "Special tokens have been added in the vocabulary, make sure the associated word embeddings are fine-tuned or trained.\n"
     ]
    }
   ],
   "source": [
    "tokenizer = AutoTokenizer.from_pretrained('openai/whisper-large-v3')"
   ]
  },
  {
   "cell_type": "code",
   "execution_count": 4,
   "id": "1db5783c",
   "metadata": {},
   "outputs": [
    {
     "data": {
      "text/plain": [
       "150"
      ]
     },
     "execution_count": 4,
     "metadata": {},
     "output_type": "execute_result"
    }
   ],
   "source": [
    "files = sorted(glob('output-nusantara/*.json'), key = lambda x: int(x.split('-')[-1].replace('.json', '')))\n",
    "len(files)"
   ]
  },
  {
   "cell_type": "code",
   "execution_count": 5,
   "id": "9551e7ef",
   "metadata": {},
   "outputs": [],
   "source": [
    "import mp\n",
    "import copy\n",
    "\n",
    "minimum_score = 6\n",
    "\n",
    "def loop(files):\n",
    "    files, _ = files\n",
    "    results = []\n",
    "    for f in tqdm(files):\n",
    "        try:\n",
    "            with open(f) as fopen:\n",
    "                data = json.load(fopen)\n",
    "        except:\n",
    "            continue\n",
    "        f_split = os.path.split(f)[-1].replace('.json', '')\n",
    "        for i in range(len(data)):\n",
    "            \n",
    "            results.append(data[i])\n",
    "\n",
    "    return results"
   ]
  },
  {
   "cell_type": "code",
   "execution_count": 6,
   "id": "e9f8c38d",
   "metadata": {
    "scrolled": true
   },
   "outputs": [
    {
     "name": "stderr",
     "output_type": "stream",
     "text": [
      "100%|██████████| 3/3 [00:00<00:00, 538.15it/s]\n",
      "  0%|          | 0/3 [00:00<?, ?it/s]\n",
      "100%|██████████| 3/3 [00:00<00:00, 640.12it/s]\n",
      "\n",
      "\n",
      "\n",
      "\n",
      "  0%|          | 0/3 [00:00<?, ?it/s]\n",
      "100%|██████████| 3/3 [00:00<00:00, 814.74it/s]\n",
      "  0%|          | 0/3 [00:00<?, ?it/s]\n",
      "100%|██████████| 3/3 [00:00<00:00, 604.60it/s]\n",
      "\n",
      "100%|██████████| 3/3 [00:00<00:00, 897.24it/s]\n",
      "\n",
      "  0%|          | 0/3 [00:00<?, ?it/s]\n",
      "100%|██████████| 3/3 [00:00<00:00, 642.02it/s]\n",
      "100%|██████████| 3/3 [00:00<00:00, 804.38it/s]\n",
      "  0%|          | 0/3 [00:00<?, ?it/s]\n",
      "  0%|          | 0/3 [00:00<?, ?it/s]6.00it/s]\n",
      "  0%|          | 0/3 [00:00<?, ?it/s]\n",
      "100%|██████████| 3/3 [00:00<00:00, 999.52it/s]\n",
      "  0%|          | 0/3 [00:00<?, ?it/s]\n",
      "  0%|          | 0/3 [00:00<?, ?it/s]\n",
      "100%|██████████| 3/3 [00:00<00:00, 1156.09it/s]\n",
      "\n",
      "\n",
      "\n",
      "100%|██████████| 3/3 [00:00<00:00, 951.23it/s]\n",
      "100%|██████████| 3/3 [00:00<00:00, 935.12it/s]\n",
      "\n",
      "100%|██████████| 3/3 [00:00<00:00, 715.14it/s]\n",
      "100%|██████████| 3/3 [00:00<00:00, 992.26it/s]\n",
      "\n",
      "  0%|          | 0/3 [00:00<?, ?it/s]\n",
      "\n",
      "100%|██████████| 3/3 [00:00<00:00, 943.18it/s]\n",
      "100%|██████████| 3/3 [00:00<00:00, 927.60it/s]\n",
      "\n",
      "\n",
      "100%|██████████| 3/3 [00:00<00:00, 1028.35it/s]\n",
      "\n",
      "\n",
      "\n",
      "\n",
      "\n",
      "\n",
      "100%|██████████| 3/3 [00:00<00:00, 957.31it/s]\n",
      "\n",
      "\n",
      "\n"
     ]
    }
   ],
   "source": [
    "results = mp.multiprocessing(files, loop, cores = 50)"
   ]
  },
  {
   "cell_type": "code",
   "execution_count": 15,
   "id": "f33581b9",
   "metadata": {},
   "outputs": [
    {
     "data": {
      "text/plain": [
       "2222052"
      ]
     },
     "execution_count": 15,
     "metadata": {},
     "output_type": "execute_result"
    }
   ],
   "source": [
    "len(results)"
   ]
  },
  {
   "cell_type": "code",
   "execution_count": 16,
   "id": "cbe6cb36",
   "metadata": {},
   "outputs": [
    {
     "data": {
      "text/plain": [
       "('output-audio/2-0-0.mp3',\n",
       " {'predict_ms': [50258,\n",
       "   50282,\n",
       "   50360,\n",
       "   50365,\n",
       "   4586,\n",
       "   455,\n",
       "   6801,\n",
       "   991,\n",
       "   25835,\n",
       "   19377,\n",
       "   2938,\n",
       "   50409,\n",
       "   50409,\n",
       "   9118,\n",
       "   25835,\n",
       "   50434,\n",
       "   50434,\n",
       "   591,\n",
       "   4118,\n",
       "   3913,\n",
       "   388,\n",
       "   5581,\n",
       "   1606,\n",
       "   1508,\n",
       "   9568,\n",
       "   16434,\n",
       "   50502,\n",
       "   50502,\n",
       "   10715,\n",
       "   1508,\n",
       "   9568,\n",
       "   514,\n",
       "   50539,\n",
       "   50539,\n",
       "   479,\n",
       "   545,\n",
       "   335,\n",
       "   283,\n",
       "   545,\n",
       "   335,\n",
       "   283,\n",
       "   545,\n",
       "   335,\n",
       "   50597,\n",
       "   50597,\n",
       "   5707,\n",
       "   335,\n",
       "   2604,\n",
       "   50638,\n",
       "   50638,\n",
       "   407,\n",
       "   290,\n",
       "   29319,\n",
       "   5948,\n",
       "   650,\n",
       "   2394,\n",
       "   50708,\n",
       "   50708,\n",
       "   460,\n",
       "   29319,\n",
       "   5948,\n",
       "   650,\n",
       "   2394,\n",
       "   50790,\n",
       "   50790,\n",
       "   5130,\n",
       "   2419,\n",
       "   50803,\n",
       "   50803,\n",
       "   19158,\n",
       "   296,\n",
       "   12,\n",
       "   7124,\n",
       "   296,\n",
       "   3867,\n",
       "   50853,\n",
       "   50853,\n",
       "   5637,\n",
       "   650,\n",
       "   2394,\n",
       "   50894,\n",
       "   50894,\n",
       "   33468,\n",
       "   4714,\n",
       "   9568,\n",
       "   514,\n",
       "   26532,\n",
       "   50994,\n",
       "   50994,\n",
       "   508,\n",
       "   1459,\n",
       "   71,\n",
       "   50996,\n",
       "   50996,\n",
       "   508,\n",
       "   1459,\n",
       "   71,\n",
       "   312,\n",
       "   2394,\n",
       "   6801,\n",
       "   51034,\n",
       "   51034,\n",
       "   879,\n",
       "   2394,\n",
       "   816,\n",
       "   897,\n",
       "   84,\n",
       "   40173,\n",
       "   9162,\n",
       "   84,\n",
       "   51111,\n",
       "   51111,\n",
       "   5707,\n",
       "   335,\n",
       "   2604,\n",
       "   26532,\n",
       "   51141,\n",
       "   51141,\n",
       "   23170,\n",
       "   51203,\n",
       "   51203,\n",
       "   36366,\n",
       "   44921,\n",
       "   14491,\n",
       "   51303,\n",
       "   51303,\n",
       "   22157,\n",
       "   44921,\n",
       "   2604,\n",
       "   14462,\n",
       "   51339,\n",
       "   51339,\n",
       "   25386,\n",
       "   6801,\n",
       "   4320,\n",
       "   325,\n",
       "   37425,\n",
       "   51398,\n",
       "   51398,\n",
       "   509,\n",
       "   35770,\n",
       "   1606,\n",
       "   1508,\n",
       "   51466,\n",
       "   51466,\n",
       "   286,\n",
       "   34820,\n",
       "   545,\n",
       "   51513,\n",
       "   51513,\n",
       "   5707,\n",
       "   335,\n",
       "   2604,\n",
       "   7670,\n",
       "   51546,\n",
       "   51546,\n",
       "   2386,\n",
       "   1508,\n",
       "   746,\n",
       "   411,\n",
       "   300,\n",
       "   51602,\n",
       "   51602,\n",
       "   22157,\n",
       "   10370,\n",
       "   453,\n",
       "   37425,\n",
       "   51675,\n",
       "   51675,\n",
       "   961,\n",
       "   311,\n",
       "   584,\n",
       "   4608,\n",
       "   51728,\n",
       "   51728,\n",
       "   9663,\n",
       "   9032,\n",
       "   290,\n",
       "   29319,\n",
       "   290,\n",
       "   29319,\n",
       "   51772,\n",
       "   51772,\n",
       "   460,\n",
       "   29319,\n",
       "   290,\n",
       "   29319,\n",
       "   51800,\n",
       "   51800,\n",
       "   876,\n",
       "   9032,\n",
       "   290,\n",
       "   29319,\n",
       "   51827,\n",
       "   51827,\n",
       "   4210,\n",
       "   4872,\n",
       "   7670,\n",
       "   51855,\n",
       "   51855,\n",
       "   50257],\n",
       "  'predict_en': [50258,\n",
       "   50259,\n",
       "   50360,\n",
       "   50365,\n",
       "   759,\n",
       "   291,\n",
       "   500,\n",
       "   380,\n",
       "   362,\n",
       "   257,\n",
       "   1691,\n",
       "   11,\n",
       "   291,\n",
       "   393,\n",
       "   380,\n",
       "   589,\n",
       "   13,\n",
       "   50465,\n",
       "   50465,\n",
       "   509,\n",
       "   362,\n",
       "   281,\n",
       "   747,\n",
       "   1606,\n",
       "   1508,\n",
       "   13,\n",
       "   50565,\n",
       "   50565,\n",
       "   286,\n",
       "   1223,\n",
       "   13,\n",
       "   50665,\n",
       "   50665,\n",
       "   407,\n",
       "   11,\n",
       "   264,\n",
       "   15360,\n",
       "   307,\n",
       "   819,\n",
       "   30,\n",
       "   50765,\n",
       "   50765,\n",
       "   440,\n",
       "   15360,\n",
       "   307,\n",
       "   819,\n",
       "   13,\n",
       "   50865,\n",
       "   50865,\n",
       "   18967,\n",
       "   613,\n",
       "   5359,\n",
       "   30,\n",
       "   50965,\n",
       "   50965,\n",
       "   467,\n",
       "   311,\n",
       "   819,\n",
       "   13,\n",
       "   51065,\n",
       "   51065,\n",
       "   467,\n",
       "   311,\n",
       "   819,\n",
       "   13,\n",
       "   51165,\n",
       "   51165,\n",
       "   467,\n",
       "   311,\n",
       "   411,\n",
       "   257,\n",
       "   4714,\n",
       "   420,\n",
       "   732,\n",
       "   4714,\n",
       "   13,\n",
       "   51265,\n",
       "   51265,\n",
       "   759,\n",
       "   309,\n",
       "   311,\n",
       "   411,\n",
       "   14491,\n",
       "   11,\n",
       "   309,\n",
       "   311,\n",
       "   411,\n",
       "   300,\n",
       "   13,\n",
       "   51365,\n",
       "   51365,\n",
       "   583,\n",
       "   436,\n",
       "   1524,\n",
       "   264,\n",
       "   33223,\n",
       "   13,\n",
       "   51465,\n",
       "   51465,\n",
       "   509,\n",
       "   362,\n",
       "   257,\n",
       "   35770,\n",
       "   11,\n",
       "   1606,\n",
       "   1508,\n",
       "   13,\n",
       "   51565,\n",
       "   51565,\n",
       "   509,\n",
       "   483,\n",
       "   257,\n",
       "   4314,\n",
       "   13,\n",
       "   51665,\n",
       "   51665,\n",
       "   6595,\n",
       "   411,\n",
       "   300,\n",
       "   13,\n",
       "   51765,\n",
       "   51765,\n",
       "   50257,\n",
       "   50257,\n",
       "   50257,\n",
       "   50257,\n",
       "   50257,\n",
       "   50257,\n",
       "   50257,\n",
       "   50257,\n",
       "   50257,\n",
       "   50257,\n",
       "   50257,\n",
       "   50257,\n",
       "   50257,\n",
       "   50257,\n",
       "   50257,\n",
       "   50257,\n",
       "   50257,\n",
       "   50257,\n",
       "   50257,\n",
       "   50257,\n",
       "   50257,\n",
       "   50257,\n",
       "   50257,\n",
       "   50257,\n",
       "   50257,\n",
       "   50257,\n",
       "   50257,\n",
       "   50257,\n",
       "   50257,\n",
       "   50257,\n",
       "   50257,\n",
       "   50257,\n",
       "   50257,\n",
       "   50257,\n",
       "   50257,\n",
       "   50257,\n",
       "   50257,\n",
       "   50257,\n",
       "   50257,\n",
       "   50257,\n",
       "   50257,\n",
       "   50257,\n",
       "   50257,\n",
       "   50257,\n",
       "   50257,\n",
       "   50257,\n",
       "   50257,\n",
       "   50257,\n",
       "   50257,\n",
       "   50257,\n",
       "   50257,\n",
       "   50257,\n",
       "   50257,\n",
       "   50257,\n",
       "   50257,\n",
       "   50257,\n",
       "   50257,\n",
       "   50257,\n",
       "   50257,\n",
       "   50257,\n",
       "   50257,\n",
       "   50257,\n",
       "   50257,\n",
       "   50257,\n",
       "   50257,\n",
       "   50257,\n",
       "   50257,\n",
       "   50257,\n",
       "   50257,\n",
       "   50257,\n",
       "   50257,\n",
       "   50257,\n",
       "   50257],\n",
       "  'score_ms': 13.1875,\n",
       "  'score_en': 5.25})"
      ]
     },
     "execution_count": 16,
     "metadata": {},
     "output_type": "execute_result"
    }
   ],
   "source": [
    "results[0]"
   ]
  },
  {
   "cell_type": "code",
   "execution_count": 7,
   "id": "dbbd91b0",
   "metadata": {
    "scrolled": true
   },
   "outputs": [
    {
     "name": "stderr",
     "output_type": "stream",
     "text": [
      "100%|██████████| 6274/6274 [00:00<00:00, 35369.71it/s]\n"
     ]
    }
   ],
   "source": [
    "with open('prepared-nusantara-original.jsonl', 'w') as fopen:\n",
    "    for r in tqdm(results):\n",
    "        fopen.write(f'{json.dumps(r)}\\n')"
   ]
  },
  {
   "cell_type": "code",
   "execution_count": 20,
   "id": "80924e1b",
   "metadata": {},
   "outputs": [],
   "source": [
    "# !zip -r -s 10000M split-nusantara.zip split-nusantara"
   ]
  },
  {
   "cell_type": "code",
   "execution_count": 19,
   "id": "4cb65672",
   "metadata": {},
   "outputs": [
    {
     "name": "stdout",
     "output_type": "stream",
     "text": [
      "split-nusantara.zip\r\n"
     ]
    }
   ],
   "source": [
    "!ls split-nusantara.z*"
   ]
  },
  {
   "cell_type": "code",
   "execution_count": 21,
   "id": "b4595850",
   "metadata": {},
   "outputs": [
    {
     "data": {
      "text/plain": [
       "'<|startoftranscript|><|ms|><|transcribe|> Bab 3 Orang Turk memperjuangkan hak mereka. Orang ramai lalu-lalang melintasi arca Hassan Tahsin yang berdiri di Medan Konak, iaitu bangunan kerajaan, yang terletak berhampiran dermaga Izmir yang tersergam indah dan baru siap dibina semula. Hassan Tahsin ialah nama samaran seorang wartawan yang telah menembak mati pembawa panji pasukan tentera<|endoftext|><|endoftext|><|endoftext|><|endoftext|><|endoftext|><|endoftext|><|endoftext|><|endoftext|><|endoftext|><|endoftext|><|endoftext|><|endoftext|><|endoftext|><|endoftext|><|endoftext|><|endoftext|><|endoftext|><|endoftext|><|endoftext|><|endoftext|><|endoftext|><|endoftext|><|endoftext|><|endoftext|><|endoftext|><|endoftext|><|endoftext|><|endoftext|><|endoftext|><|endoftext|>'"
      ]
     },
     "execution_count": 21,
     "metadata": {},
     "output_type": "execute_result"
    }
   ],
   "source": [
    "tokenizer.decode(results[0]['predict_ms'])"
   ]
  },
  {
   "cell_type": "code",
   "execution_count": 22,
   "id": "fa611004",
   "metadata": {},
   "outputs": [],
   "source": [
    "from huggingface_hub import HfApi\n",
    "api = HfApi()"
   ]
  },
  {
   "cell_type": "code",
   "execution_count": 23,
   "id": "914c3f55",
   "metadata": {},
   "outputs": [
    {
     "data": {
      "application/vnd.jupyter.widget-view+json": {
       "model_id": "098643435d764e048bbebb5b305314f7",
       "version_major": 2,
       "version_minor": 0
      },
      "text/plain": [
       "prepared-nusantara-original.jsonl:   0%|          | 0.00/13.0M [00:00<?, ?B/s]"
      ]
     },
     "metadata": {},
     "output_type": "display_data"
    },
    {
     "data": {
      "text/plain": [
       "'https://huggingface.co/datasets/mesolitica/pseudolabel-nusantara-large-v3-timestamp/blob/main/prepared-nusantara-original.jsonl'"
      ]
     },
     "execution_count": 23,
     "metadata": {},
     "output_type": "execute_result"
    }
   ],
   "source": [
    "api.upload_file(\n",
    "    path_or_fileobj='prepared-nusantara-original.jsonl',\n",
    "    path_in_repo='prepared-nusantara-original.jsonl',\n",
    "    repo_id='mesolitica/pseudolabel-nusantara-large-v3-timestamp',\n",
    "    repo_type='dataset',\n",
    ")"
   ]
  },
  {
   "cell_type": "code",
   "execution_count": 24,
   "id": "18caeef3",
   "metadata": {},
   "outputs": [
    {
     "name": "stdout",
     "output_type": "stream",
     "text": [
      "split-nusantara.zip\n"
     ]
    },
    {
     "data": {
      "application/vnd.jupyter.widget-view+json": {
       "model_id": "bc4453e61fa24fdfa3ffd8c3f565fc1b",
       "version_major": 2,
       "version_minor": 0
      },
      "text/plain": [
       "split-nusantara.zip:   0%|          | 0.00/911M [00:00<?, ?B/s]"
      ]
     },
     "metadata": {},
     "output_type": "display_data"
    }
   ],
   "source": [
    "files = glob('split-nusantara.z*')\n",
    "for f in files:\n",
    "    print(f)\n",
    "    api.upload_file(\n",
    "        path_or_fileobj=f,\n",
    "        path_in_repo=f,\n",
    "        repo_id='mesolitica/pseudolabel-nusantara-large-v3-timestamp',\n",
    "        repo_type='dataset',\n",
    "    )"
   ]
  }
 ],
 "metadata": {
  "kernelspec": {
   "display_name": "Python 3 (ipykernel)",
   "language": "python",
   "name": "python3"
  },
  "language_info": {
   "codemirror_mode": {
    "name": "ipython",
    "version": 3
   },
   "file_extension": ".py",
   "mimetype": "text/x-python",
   "name": "python",
   "nbconvert_exporter": "python",
   "pygments_lexer": "ipython3",
   "version": "3.10.12"
  }
 },
 "nbformat": 4,
 "nbformat_minor": 5
}
