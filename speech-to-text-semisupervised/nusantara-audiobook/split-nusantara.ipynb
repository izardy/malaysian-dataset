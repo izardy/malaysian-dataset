{
 "cells": [
  {
   "cell_type": "code",
   "execution_count": 1,
   "id": "63e98531",
   "metadata": {},
   "outputs": [],
   "source": [
    "from glob import glob\n",
    "import os\n",
    "import mp\n",
    "from datasets import Audio\n",
    "\n",
    "sr = 16000\n",
    "audio = Audio(sampling_rate=sr)"
   ]
  },
  {
   "cell_type": "code",
   "execution_count": 2,
   "id": "fcdc9bc8",
   "metadata": {},
   "outputs": [
    {
     "data": {
      "text/plain": [
       "<function soundfile.write(file, data, samplerate, subtype=None, endian=None, format=None, closefd=True)>"
      ]
     },
     "execution_count": 2,
     "metadata": {},
     "output_type": "execute_result"
    }
   ],
   "source": [
    "import soundfile as sf\n",
    "\n",
    "sf.write"
   ]
  },
  {
   "cell_type": "code",
   "execution_count": 8,
   "id": "53bc146f",
   "metadata": {},
   "outputs": [
    {
     "data": {
      "text/plain": [
       "54"
      ]
     },
     "execution_count": 8,
     "metadata": {},
     "output_type": "execute_result"
    }
   ],
   "source": [
    "files = glob('turki/output-wav-turki/*.mp3')\n",
    "files.extend(glob('salina/output-wav-salina/*.mp3'))\n",
    "files.extend(glob('dari-pasentran-ke-istana/output-wav-dari-pasentran-ke-istana/*.mp3'))\n",
    "len(files)"
   ]
  },
  {
   "cell_type": "code",
   "execution_count": 9,
   "id": "9fb53fd9",
   "metadata": {},
   "outputs": [],
   "source": [
    "# import IPython.display as ipd\n",
    "\n",
    "# ipd.Audio(files[-1])"
   ]
  },
  {
   "cell_type": "code",
   "execution_count": 10,
   "id": "f47e7de6",
   "metadata": {},
   "outputs": [
    {
     "name": "stdout",
     "output_type": "stream",
     "text": [
      "rm: cannot remove 'split-nusantara/*.mp3': No such file or directory\r\n"
     ]
    }
   ],
   "source": [
    "!mkdir split-nusantara\n",
    "!rm split-nusantara/*.mp3"
   ]
  },
  {
   "cell_type": "code",
   "execution_count": 11,
   "id": "4623930b",
   "metadata": {},
   "outputs": [],
   "source": [
    "from tqdm import tqdm\n",
    "maxlen = 30 * sr\n",
    "\n",
    "def loop(files):\n",
    "    files, index = files\n",
    "    for i in tqdm(range(len(files))):\n",
    "        y = audio.decode_example(audio.encode_example(files[i]))['array']\n",
    "        for k in range(0, len(y), maxlen):\n",
    "            filename = os.path.join('split-nusantara', f'{index}-{i}-{k}.mp3')\n",
    "            if os.path.exists(filename):\n",
    "                continue\n",
    "                \n",
    "            y_ = y[k: k + maxlen]\n",
    "            sf.write(filename, y_, sr)"
   ]
  },
  {
   "cell_type": "code",
   "execution_count": 10,
   "id": "6a8f57ed",
   "metadata": {},
   "outputs": [],
   "source": [
    "# loop((mandarin[:1], 0))"
   ]
  },
  {
   "cell_type": "code",
   "execution_count": 14,
   "id": "7ea79101",
   "metadata": {},
   "outputs": [],
   "source": [
    "# mp.multiprocessing(files, loop, cores = 20)"
   ]
  }
 ],
 "metadata": {
  "kernelspec": {
   "display_name": "Python 3 (ipykernel)",
   "language": "python",
   "name": "python3"
  },
  "language_info": {
   "codemirror_mode": {
    "name": "ipython",
    "version": 3
   },
   "file_extension": ".py",
   "mimetype": "text/x-python",
   "name": "python",
   "nbconvert_exporter": "python",
   "pygments_lexer": "ipython3",
   "version": "3.10.12"
  }
 },
 "nbformat": 4,
 "nbformat_minor": 5
}
