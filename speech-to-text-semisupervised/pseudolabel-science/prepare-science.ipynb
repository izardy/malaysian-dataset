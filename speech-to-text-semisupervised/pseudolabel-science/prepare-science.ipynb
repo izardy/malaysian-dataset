{
 "cells": [
  {
   "cell_type": "code",
   "execution_count": 16,
   "id": "41e03243",
   "metadata": {},
   "outputs": [],
   "source": [
    "# !wget https://huggingface.co/datasets/mesolitica/pseudolabel-science-large-v3-timestamp/resolve/main/dataset-science.jsonl"
   ]
  },
  {
   "cell_type": "code",
   "execution_count": 8,
   "id": "e1959a40",
   "metadata": {},
   "outputs": [],
   "source": [
    "import json\n",
    "from tqdm import tqdm\n",
    "\n",
    "data = []\n",
    "with open('dataset-science.jsonl') as fopen:\n",
    "    for l in fopen:\n",
    "        l = json.loads(l)\n",
    "        l.pop('predict_en', None)\n",
    "        data.append(l)"
   ]
  },
  {
   "cell_type": "code",
   "execution_count": 10,
   "id": "f8b6bb66",
   "metadata": {},
   "outputs": [
    {
     "data": {
      "text/plain": [
       "885624"
      ]
     },
     "execution_count": 10,
     "metadata": {},
     "output_type": "execute_result"
    }
   ],
   "source": [
    "len(data)"
   ]
  },
  {
   "cell_type": "code",
   "execution_count": 21,
   "id": "45886902",
   "metadata": {},
   "outputs": [
    {
     "data": {
      "text/plain": [
       "[('0.00', ' kerajaan persekutuan', '1.46'),\n",
       " ('1.46', ' dan banyak masalah hubungan', '3.96')]"
      ]
     },
     "execution_count": 21,
     "metadata": {},
     "output_type": "execute_result"
    }
   ],
   "source": [
    "import re\n",
    "\n",
    "pattern_pair = r'<\\|(\\d+\\.\\d+)\\|>(.*?)<\\|(\\d+\\.\\d+)\\|>'\n",
    "matches = re.findall(pattern_pair, '<|0.00|> kerajaan persekutuan<|1.46|><|1.46|> dan banyak masalah hubungan<|3.96|><|3.96|> antara kerajaan negeri dan')\n",
    "matches"
   ]
  },
  {
   "cell_type": "code",
   "execution_count": 22,
   "id": "76063da0",
   "metadata": {},
   "outputs": [],
   "source": [
    "import string\n",
    "\n",
    "punct = set(string.punctuation)\n",
    "\n",
    "def remove_punct(s):\n",
    "    return ''.join([c for c in s if c not in punct])\n",
    "\n",
    "def remove_duplicate(string, n = 3):\n",
    "    splitted = string.split()\n",
    "    n = [splitted[i: i + n] for i in range(0, len(splitted), n)]\n",
    "    already = set()\n",
    "    dedup = []\n",
    "    for n_ in n:\n",
    "        original_n = ' '.join(n_)\n",
    "        n_ = ' '.join(n_).lower()\n",
    "        n_ = remove_punct(n_)\n",
    "        if n_ not in already:\n",
    "            dedup.append(original_n)\n",
    "            already.add(n_)\n",
    "    return ' '.join(dedup)"
   ]
  },
  {
   "cell_type": "code",
   "execution_count": 4,
   "id": "d2be6d7a",
   "metadata": {},
   "outputs": [],
   "source": [
    "import math\n",
    "\n",
    "def round_to_nearest_0_02(number):\n",
    "    return round(number * 50) / 50"
   ]
  },
  {
   "cell_type": "code",
   "execution_count": 7,
   "id": "e136471a",
   "metadata": {},
   "outputs": [],
   "source": [
    "selected = [\n",
    "    'terima kasih kerana menonton',\n",
    "    'terima kasih',\n",
    "    'thank you for watching',\n",
    "    'Thank you.'\n",
    "]"
   ]
  },
  {
   "cell_type": "code",
   "execution_count": 11,
   "id": "38554074",
   "metadata": {},
   "outputs": [
    {
     "data": {
      "text/plain": [
       "{'score_en': 0.87890625,\n",
       " 'filename': 'chunk/mp3-16k-0-0_000.mp3',\n",
       " 'output_en': '<|startoftranscript|><|en|><|transcribe|><|0.00|> Thank you.<|29.96|><|endoftext|>'}"
      ]
     },
     "execution_count": 11,
     "metadata": {},
     "output_type": "execute_result"
    }
   ],
   "source": [
    "data[0]"
   ]
  },
  {
   "cell_type": "code",
   "execution_count": 26,
   "id": "d008f8ca",
   "metadata": {},
   "outputs": [],
   "source": [
    "from glob import glob\n",
    "from tqdm import tqdm\n",
    "import json\n",
    "import numpy as np\n",
    "import os\n",
    "from transformers import AutoTokenizer, WhisperConfig\n",
    "from sklearn.feature_extraction.text import CountVectorizer\n",
    "import mp\n",
    "import copy\n",
    "\n",
    "minimum_score = 5\n",
    "\n",
    "def loop(files):\n",
    "    \n",
    "    data, _ = files\n",
    "    results = []\n",
    "\n",
    "    for i in tqdm(range(len(data))):\n",
    "            \n",
    "        if data[i]['score_en'] > minimum_score:\n",
    "            t = data[i]['output_en'].strip()\n",
    "            if t.split('|>')[-1] != '':\n",
    "                t += rounded_num\n",
    "\n",
    "            matches = re.findall(pattern_pair, t)\n",
    "            rs = []\n",
    "            for match in matches:\n",
    "                l = float(match[0])\n",
    "                r = float(match[2])\n",
    "                t_ = match[1]\n",
    "                rt_ = re.sub('[^a-z ]+', '', t_.lower()).strip()\n",
    "                if (r - l > 3) and any([s == rt_ for s in selected]):\n",
    "                    # print(audio_filename, t_)\n",
    "                    t_ = ''\n",
    "                else:\n",
    "                    try:\n",
    "                        dense = CountVectorizer(ngram_range = (3,3)).fit_transform([t_]).todense()\n",
    "                        repeat = (dense > 3).sum() >= 1\n",
    "                        if repeat:\n",
    "                            t_ = remove_duplicate(t_)\n",
    "                    except:\n",
    "                        if len(t_) > 100:\n",
    "                            t_ = remove_duplicate(t_)\n",
    "                rs.append(f'<|{match[0]}|>{t_}<|{match[2]}|>')\n",
    "            rs = ''.join(rs)\n",
    "            t = f'<|startoftranscript|><|en|><|transcribe|>{rs}<|endoftext|>'\n",
    "            d = {\n",
    "                'new_text': t,\n",
    "                'audio_filename': data[i]['filename'],\n",
    "            }\n",
    "            results.append(d)\n",
    "    return results"
   ]
  },
  {
   "cell_type": "code",
   "execution_count": 27,
   "id": "e00bedc0",
   "metadata": {},
   "outputs": [
    {
     "name": "stderr",
     "output_type": "stream",
     "text": [
      "100%|████████████████████████████████████████████████████████████████████████████████| 10/10 [00:00<00:00, 430.47it/s]\n"
     ]
    },
    {
     "data": {
      "text/plain": [
       "[{'new_text': \"<|startoftranscript|><|en|><|transcribe|><|0.00|> insightful reporting and engaging storytelling with deep roots in television and radio.<|5.96|><|6.48|> She's the former host of the national news program Here and Now, and she continues to host the<|11.82|><|11.82|> podcast Truth Be Told, which recently launched a new season called She Has a Name. Tanya,<|19.34|><|19.46|> welcome to the Minor Consult. It's great to have you here today. It's so great to be here,<|24.54|><|24.54|> Dean. I'm so excited. So, Tanya, you're in the news business, so let's start with your latest<|29.96|><|endoftext|>\",\n",
       "  'audio_filename': 'chunk/mp3-16k-0-0_001.mp3'},\n",
       " {'new_text': '<|startoftranscript|><|en|><|transcribe|><|0.00|> News. You recently launched a podcast called She Has a Name, which has an intensely personal<|6.68|><|6.68|> connection. Can you tell us about the origins of the podcast and your journey producing<|11.30|><|11.30|> it with your nephew?<|12.22|><|14.10|> Yes, as you said, this is a deeply personal story that also is one of many Detroiters<|21.30|><|21.30|> and many people in the world.<|23.08|><|23.08|> And when I say that, what I mean is that all of us understand grief and loss, and there is<|29.96|><|endoftext|>',\n",
       "  'audio_filename': 'chunk/mp3-16k-0-0_002.mp3'},\n",
       " {'new_text': \"<|startoftranscript|><|en|><|transcribe|><|0.00|> significant number of people in this world who also has experienced lost by way of a missing<|6.36|><|6.36|> person. And that is what happened with my family. So in 1987, my sister, Anita Wiley, disappeared<|14.84|><|14.84|> from Detroit really without a trace. And what makes the story a little more complicated is that<|21.26|><|21.26|> I never knew about Anita. She was a half-sister on my father's side. And I learned about her<|28.00|><|endoftext|>\",\n",
       "  'audio_filename': 'chunk/mp3-16k-0-0_003.mp3'},\n",
       " {'new_text': \"<|startoftranscript|><|en|><|transcribe|><|0.00|> through her son who contacted me once he found out about me.<|5.00|><|5.36|> And over the last 20 years or so,<|8.58|><|8.58|> we have become family in really beautiful ways.<|13.40|><|13.40|> And throughout our connection,<|14.56|><|14.56|> we've talked quite a bit about his mother<|16.58|><|16.58|> and her disappearance.<|18.28|><|18.28|> There was a break in the case in 2020.<|21.18|><|21.18|> And based on that break in the case,<|23.80|><|23.80|> that was the impetus for us to tell the story<|27.28|><|27.28|> of my sister's disappearance<|29.96|><|endoftext|>\",\n",
       "  'audio_filename': 'chunk/mp3-16k-0-0_004.mp3'},\n",
       " {'new_text': \"<|startoftranscript|><|en|><|transcribe|><|0.00|> and what we now know as a murder.<|3.16|><|4.90|> It's such a moving story.<|7.46|><|7.98|> And you mentioned that, of course, you've reported in all parts of the country,<|12.74|><|13.18|> but you oftentimes return to tell the stories of Detroit.<|16.96|><|17.66|> What is it about your hometown that makes for such compelling stories?<|21.32|><|21.56|> And do you think that your personal connection to the city helps your stories connect with your audience?<|26.64|><|27.94|> Oh, I love this question so much.<|29.96|><|endoftext|>\",\n",
       "  'audio_filename': 'chunk/mp3-16k-0-0_005.mp3'},\n",
       " {'new_text': \"<|startoftranscript|><|en|><|transcribe|><|0.00|> much because I love Detroit because Detroit is me. It is where I was born. It was where I was<|9.92|><|9.92|> raised. And what has been beautiful about being a journalist is really when I was 18, I moved away<|16.94|><|16.94|> from home to go to college. And I spent a short amount of time at home after college, but I've<|22.84|><|22.84|> been away from Detroit longer than I was there. I realized that recently. But because it was my<|28.90|><|endoftext|>\",\n",
       "  'audio_filename': 'chunk/mp3-16k-0-0_006.mp3'},\n",
       " {'new_text': '<|startoftranscript|><|en|><|transcribe|><|0.00|> And I have had the pleasure as a journalist living, I think, maybe seven or eight states.<|6.34|><|6.60|> And I have lived in communities all throughout the country.<|10.86|><|11.32|> And what is reflected for me is what is so common about the human experience.<|16.50|><|16.96|> Some of the same things I see all across the country.<|20.00|><|20.00|> I experienced in Detroit and I see that in Detroit.<|23.20|><|24.56|> And I see Detroit all over the world and the different places that I lived and reported on.<|29.96|><|endoftext|>',\n",
       "  'audio_filename': 'chunk/mp3-16k-0-0_007.mp3'},\n",
       " {'new_text': '<|startoftranscript|><|en|><|transcribe|><|0.00|> And one of the things that I have always felt very passionately about, even as a young person,<|7.12|><|7.12|> when I knew I wanted to be a journalist, was to be able to tell the stories of Detroit<|11.50|><|11.50|> and tell them in a complete way, in a more holistic way, because I knew how Detroit was portrayed.<|18.08|><|18.48|> I knew how the world saw Detroit as a city on the decline, a city that was bankrupt.<|24.92|><|endoftext|>',\n",
       "  'audio_filename': 'chunk/mp3-16k-0-0_008.mp3'},\n",
       " {'new_text': \"<|startoftranscript|><|en|><|transcribe|><|0.00|> about a city during a time period that is very important for us to understand has been<|5.00|><|5.00|> deeply fulfilling.<|7.96|><|7.96|> You just mentioned that your interest in journalism started at an early age.<|12.20|><|12.20|> And I understand that as a young person, when you were in Detroit before you went away to<|17.04|><|17.04|> college, you often wrote to staffers at the Free Press, in fact, every week.<|22.32|><|22.32|> And that included the columnist and bestselling author Mitch Albom.<|25.92|><|25.92|> And I'm curious, what did you say to Mitch and to the other reporters?<|30.00|><|endoftext|>\",\n",
       "  'audio_filename': 'chunk/mp3-16k-0-0_009.mp3'}]"
      ]
     },
     "execution_count": 27,
     "metadata": {},
     "output_type": "execute_result"
    }
   ],
   "source": [
    "loop((data[:10], 0))"
   ]
  },
  {
   "cell_type": "code",
   "execution_count": 30,
   "id": "d39e8b52",
   "metadata": {},
   "outputs": [
    {
     "name": "stderr",
     "output_type": "stream",
     "text": [
      "100%|██████████████████████████████████████████████████████████████████████████| 88562/88562 [03:08<00:00, 469.67it/s]\n",
      "100%|██████████████████████████████████████████████████████████████████████████████████| 4/4 [00:00<00:00, 333.75it/s]\n",
      "100%|██████████████████████████████████████████████████████████████████████████| 88562/88562 [03:08<00:00, 468.91it/s]\n",
      "100%|██████████████████████████████████████████████████████████████████████████| 88562/88562 [03:12<00:00, 460.10it/s]\n",
      "100%|██████████████████████████████████████████████████████████████████████████| 88562/88562 [03:10<00:00, 463.68it/s]\n",
      "100%|██████████████████████████████████████████████████████████████████████████| 88562/88562 [03:16<00:00, 449.57it/s]\n",
      "100%|██████████████████████████████████████████████████████████████████████████| 88562/88562 [03:13<00:00, 458.75it/s]\n",
      "100%|██████████████████████████████████████████████████████████████████████████| 88562/88562 [03:10<00:00, 464.58it/s]\n",
      "100%|██████████████████████████████████████████████████████████████████████████| 88562/88562 [03:12<00:00, 460.50it/s]\n",
      "100%|██████████████████████████████████████████████████████████████████████████| 88562/88562 [03:10<00:00, 465.07it/s]\n",
      "100%|██████████████████████████████████████████████████████████████████████████| 88562/88562 [03:15<00:00, 453.27it/s]\n"
     ]
    }
   ],
   "source": [
    "r = mp.multiprocessing(data, loop, cores = 10)"
   ]
  },
  {
   "cell_type": "code",
   "execution_count": 31,
   "id": "6fea70c8",
   "metadata": {},
   "outputs": [
    {
     "data": {
      "text/plain": [
       "850638"
      ]
     },
     "execution_count": 31,
     "metadata": {},
     "output_type": "execute_result"
    }
   ],
   "source": [
    "len(r)"
   ]
  },
  {
   "cell_type": "code",
   "execution_count": 32,
   "id": "62546664",
   "metadata": {},
   "outputs": [
    {
     "data": {
      "text/plain": [
       "{'new_text': \"<|startoftranscript|><|en|><|transcribe|><|0.00|> insightful reporting and engaging storytelling with deep roots in television and radio.<|5.96|><|6.48|> She's the former host of the national news program Here and Now, and she continues to host the<|11.82|><|11.82|> podcast Truth Be Told, which recently launched a new season called She Has a Name. Tanya,<|19.34|><|19.46|> welcome to the Minor Consult. It's great to have you here today. It's so great to be here,<|24.54|><|24.54|> Dean. I'm so excited. So, Tanya, you're in the news business, so let's start with your latest<|29.96|><|endoftext|>\",\n",
       " 'audio_filename': 'chunk/mp3-16k-0-0_001.mp3'}"
      ]
     },
     "execution_count": 32,
     "metadata": {},
     "output_type": "execute_result"
    }
   ],
   "source": [
    "r[0]"
   ]
  },
  {
   "cell_type": "code",
   "execution_count": 33,
   "id": "326bebae",
   "metadata": {},
   "outputs": [],
   "source": [
    "with open('prepared-en.jsonl', 'w') as fopen:\n",
    "    for r_ in r:\n",
    "        fopen.write(f'{json.dumps(r_)}\\n')"
   ]
  },
  {
   "cell_type": "code",
   "execution_count": 34,
   "id": "9889d6bc",
   "metadata": {},
   "outputs": [
    {
     "name": "stdout",
     "output_type": "stream",
     "text": [
      "{\"new_text\": \"<|startoftranscript|><|en|><|transcribe|><|0.00|> And here we can specify a bunch of other properties.<|3.00|><|3.56|> So we can specify the mass of our player.<|6.30|><|6.70|> I'm going to use 100 as the value.<|8.66|><|9.04|> How I came up with this was just by tweaking.<|11.28|><|11.28|> And we can also set the jump force.<|13.90|><|14.32|> So this is when we're going to implement jumping.<|16.00|><|16.70|> You can set up in Kaboom.js the jump force.<|19.08|><|19.28|> And here 320 was a value which I thought was powerful enough<|23.66|><|23.66|> so that the player can have a nice jump,<|26.76|><|27.12|> but not too much so that they hit the ceiling<|29.96|><|endoftext|>\", \"audio_filename\": \"chunk/mp3-16k-11-154_203.mp3\"}\r\n",
      "{\"new_text\": \"<|startoftranscript|><|en|><|transcribe|><|0.00|> of the levels so here we go and uh also we are also going to add the double jump component so<|9.36|><|9.36|> double jump is a component that is provided by kaboom that allows you to easily implement<|14.56|><|14.56|> multiple jumps it doesn't have to be double so you could have more than that now here for double jump<|21.30|><|21.30|> it's um i usually so i usually set it to one initially so i'm going to set it to one<|28.90|><|endoftext|>\", \"audio_filename\": \"chunk/mp3-16k-11-154_204.mp3\"}\r\n",
      "{\"new_text\": \"<|startoftranscript|><|en|><|transcribe|><|0.00|> we unlock, we beat the boss, it's going to be set to two.<|4.96|><|4.96|> But the logic for this isn't here yet,<|7.76|><|7.76|> and actually, you know what, it's a good time, I think,<|10.52|><|10.52|> to start handling our state, setting the groundwork for that.<|15.52|><|15.60|> So we want to have global state<|17.32|><|17.32|> to keep track of our player's progress,<|20.32|><|20.32|> and I'm just gonna create that in a folder called state.<|24.44|><|24.44|> I'm gonna call the file globalstate map,<|29.96|><|endoftext|>\", \"audio_filename\": \"chunk/mp3-16k-11-154_205.mp3\"}\r\n"
     ]
    }
   ],
   "source": [
    "!tail -n 3 prepared-en.jsonl"
   ]
  },
  {
   "cell_type": "code",
   "execution_count": 35,
   "id": "57f215a5",
   "metadata": {},
   "outputs": [
    {
     "data": {
      "application/vnd.jupyter.widget-view+json": {
       "model_id": "93d3478b86cb4a07a781b9581aad5f4f",
       "version_major": 2,
       "version_minor": 0
      },
      "text/plain": [
       "prepared-en.jsonl:   0%|          | 0.00/568M [00:00<?, ?B/s]"
      ]
     },
     "metadata": {},
     "output_type": "display_data"
    },
    {
     "data": {
      "text/plain": [
       "CommitInfo(commit_url='https://huggingface.co/datasets/mesolitica/pseudolabel-science-large-v3-timestamp/commit/83f2170ffade0e20a11115ca07e618027565ed8d', commit_message='Upload prepared-en.jsonl with huggingface_hub', commit_description='', oid='83f2170ffade0e20a11115ca07e618027565ed8d', pr_url=None, pr_revision=None, pr_num=None)"
      ]
     },
     "execution_count": 35,
     "metadata": {},
     "output_type": "execute_result"
    }
   ],
   "source": [
    "from huggingface_hub import HfApi\n",
    "api = HfApi()\n",
    "\n",
    "api.upload_file(\n",
    "    path_or_fileobj='prepared-en.jsonl',\n",
    "    path_in_repo='prepared-en.jsonl',\n",
    "    repo_id=\"mesolitica/pseudolabel-science-large-v3-timestamp\",\n",
    "    repo_type=\"dataset\",\n",
    ")"
   ]
  },
  {
   "cell_type": "code",
   "execution_count": null,
   "id": "4e53da17",
   "metadata": {},
   "outputs": [],
   "source": []
  }
 ],
 "metadata": {
  "kernelspec": {
   "display_name": "Python 3 (ipykernel)",
   "language": "python",
   "name": "python3"
  },
  "language_info": {
   "codemirror_mode": {
    "name": "ipython",
    "version": 3
   },
   "file_extension": ".py",
   "mimetype": "text/x-python",
   "name": "python",
   "nbconvert_exporter": "python",
   "pygments_lexer": "ipython3",
   "version": "3.8.10"
  }
 },
 "nbformat": 4,
 "nbformat_minor": 5
}
