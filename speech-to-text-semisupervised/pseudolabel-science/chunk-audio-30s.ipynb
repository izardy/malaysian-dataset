{
 "cells": [
  {
   "cell_type": "code",
   "execution_count": null,
   "id": "28df58db",
   "metadata": {},
   "outputs": [],
   "source": [
    "# !sudo apt install ffmpeg -y"
   ]
  },
  {
   "cell_type": "code",
   "execution_count": null,
   "id": "3bba94f8",
   "metadata": {},
   "outputs": [],
   "source": [
    "!df -h"
   ]
  },
  {
   "cell_type": "code",
   "execution_count": 5,
   "id": "f82790a2",
   "metadata": {},
   "outputs": [
    {
     "data": {
      "text/plain": [
       "'mp3-16k/0-0.mp3'"
      ]
     },
     "execution_count": 5,
     "metadata": {},
     "output_type": "execute_result"
    }
   ],
   "source": [
    "from glob import glob\n",
    "import os\n",
    "\n",
    "files = sorted(glob('mp3-16k/*.mp3'))\n",
    "files[0]"
   ]
  },
  {
   "cell_type": "code",
   "execution_count": 6,
   "id": "ec34585a",
   "metadata": {},
   "outputs": [
    {
     "name": "stdout",
     "output_type": "stream",
     "text": [
      "mkdir: cannot create directory ‘chunk’: File exists\r\n"
     ]
    }
   ],
   "source": [
    "!mkdir chunk"
   ]
  },
  {
   "cell_type": "code",
   "execution_count": 7,
   "id": "54b4e18b",
   "metadata": {},
   "outputs": [],
   "source": [
    "# !wget https://gist.githubusercontent.com/huseinzol05/98974ae8c6c7a65d4bc0af9f5003786a/raw/2e06e71ef7349a57bc58cc9913ae6bae1f9f8447/mp.py"
   ]
  },
  {
   "cell_type": "code",
   "execution_count": 10,
   "id": "db08f677",
   "metadata": {},
   "outputs": [],
   "source": [
    "import mp\n",
    "from tqdm import tqdm\n",
    "\n",
    "def loop(files):\n",
    "    files, _ = files\n",
    "    for f in tqdm(files):\n",
    "        f.replace('.mp3', '').replace('/', '-')\n",
    "        new_f = os.path.join('chunk', f.replace('.mp3', '').replace('/', '-'))\n",
    "        p = f'ffmpeg -i {f} -f segment -segment_time 30 -c copy -loglevel quiet {new_f}_%03d.mp3'\n",
    "        os.system(p)"
   ]
  },
  {
   "cell_type": "code",
   "execution_count": 11,
   "id": "396ec85c",
   "metadata": {},
   "outputs": [
    {
     "name": "stderr",
     "output_type": "stream",
     "text": [
      "100%|██████████| 4095/4095 [1:42:11<00:00,  1.50s/it]   \n",
      "100%|██████████| 1/1 [00:01<00:00,  1.38s/it].42s/it]\n",
      "100%|██████████| 4095/4095 [1:49:03<00:00,  1.60s/it]\n",
      "100%|██████████| 4095/4095 [1:49:08<00:00,  1.60s/it]\n"
     ]
    }
   ],
   "source": [
    "mp.multiprocessing(files, loop, cores = 3, returned = False)"
   ]
  },
  {
   "cell_type": "code",
   "execution_count": 1,
   "id": "dcd9f9fe",
   "metadata": {},
   "outputs": [],
   "source": [
    "from transformers import AutoTokenizer\n",
    "\n",
    "tokenizer = AutoTokenizer.from_pretrained('openai/whisper-large-v3')"
   ]
  },
  {
   "cell_type": "code",
   "execution_count": 21,
   "id": "b99b44c0",
   "metadata": {},
   "outputs": [
    {
     "data": {
      "text/plain": [
       "13811"
      ]
     },
     "execution_count": 21,
     "metadata": {},
     "output_type": "execute_result"
    }
   ],
   "source": [
    "from glob import glob\n",
    "\n",
    "files = sorted(glob('output-science/*'))\n",
    "len(files)"
   ]
  },
  {
   "cell_type": "code",
   "execution_count": 22,
   "id": "d7530220",
   "metadata": {},
   "outputs": [],
   "source": [
    "import json\n",
    "\n",
    "with open(files[-2]) as fopen:\n",
    "    d = json.load(fopen)"
   ]
  },
  {
   "cell_type": "code",
   "execution_count": 24,
   "id": "63513621",
   "metadata": {},
   "outputs": [
    {
     "data": {
      "text/plain": [
       "\"<|startoftranscript|><|en|><|transcribe|><|0.00|> L1 plus L2.<|1.48|><|1.48|> Anyone know?<|1.98|><|6.98|> What's the type?<|7.64|><|11.30|> It's concatenation, right?<|12.50|><|12.50|> So concatenation with lists is like concatenation<|14.90|><|14.90|> with strings.<|15.46|><|15.46|> Yes?<|15.96|><|15.96|> It's a list.<|17.44|><|17.44|> Yep.<|18.88|><|18.88|> What are the elements in it?<|20.96|><|20.96|> Array.<|21.56|><|21.56|> Yep.<|22.06|><|22.06|> It's a.<|25.60|><|25.60|> Yep, exactly.<|27.70|><|27.70|> I'm not going to do the strings, but you know what I mean.<|29.96|><|endoftext|><|endoftext|><|endoftext|><|endoftext|><|endoftext|><|endoftext|><|endoftext|><|endoftext|><|endoftext|><|endoftext|><|endoftext|><|endoftext|><|endoftext|><|endoftext|><|endoftext|><|endoftext|><|endoftext|><|endoftext|><|endoftext|><|endoftext|><|endoftext|><|endoftext|><|endoftext|><|endoftext|><|endoftext|><|endoftext|><|endoftext|><|endoftext|><|endoftext|><|endoftext|><|endoftext|><|endoftext|><|endoftext|><|endoftext|><|endoftext|><|endoftext|><|endoftext|><|endoftext|>\""
      ]
     },
     "execution_count": 24,
     "metadata": {},
     "output_type": "execute_result"
    }
   ],
   "source": [
    "tokenizer.decode(d[-1]['predict_en'], decode_with_timestamps = True)"
   ]
  },
  {
   "cell_type": "code",
   "execution_count": null,
   "id": "cab544fc",
   "metadata": {},
   "outputs": [],
   "source": []
  }
 ],
 "metadata": {
  "kernelspec": {
   "display_name": "Python 3 (ipykernel)",
   "language": "python",
   "name": "python3"
  },
  "language_info": {
   "codemirror_mode": {
    "name": "ipython",
    "version": 3
   },
   "file_extension": ".py",
   "mimetype": "text/x-python",
   "name": "python",
   "nbconvert_exporter": "python",
   "pygments_lexer": "ipython3",
   "version": "3.10.12"
  }
 },
 "nbformat": 4,
 "nbformat_minor": 5
}
