{
 "cells": [
  {
   "cell_type": "code",
   "execution_count": 4,
   "id": "63e98531",
   "metadata": {},
   "outputs": [],
   "source": [
    "from glob import glob\n",
    "import os\n",
    "import mp\n",
    "from datasets import Audio\n",
    "\n",
    "sr = 16000\n",
    "audio = Audio(sampling_rate=sr)"
   ]
  },
  {
   "cell_type": "code",
   "execution_count": 9,
   "id": "fcdc9bc8",
   "metadata": {},
   "outputs": [
    {
     "data": {
      "text/plain": [
       "<function soundfile.write(file, data, samplerate, subtype=None, endian=None, format=None, closefd=True)>"
      ]
     },
     "execution_count": 9,
     "metadata": {},
     "output_type": "execute_result"
    }
   ],
   "source": [
    "import soundfile as sf\n",
    "\n",
    "sf.write"
   ]
  },
  {
   "cell_type": "code",
   "execution_count": 3,
   "id": "53bc146f",
   "metadata": {},
   "outputs": [
    {
     "data": {
      "text/plain": [
       "351"
      ]
     },
     "execution_count": 3,
     "metadata": {},
     "output_type": "execute_result"
    }
   ],
   "source": [
    "mandarin = glob('/home/ubuntu/MDT2021S003/WAV/*.wav')\n",
    "len(mandarin)"
   ]
  },
  {
   "cell_type": "code",
   "execution_count": 5,
   "id": "8abacf9f",
   "metadata": {},
   "outputs": [],
   "source": [
    "y = audio.decode_example(audio.encode_example(mandarin[-1]))['array']"
   ]
  },
  {
   "cell_type": "code",
   "execution_count": 10,
   "id": "0affeedb",
   "metadata": {},
   "outputs": [
    {
     "data": {
      "text/plain": [
       "30338400"
      ]
     },
     "execution_count": 10,
     "metadata": {},
     "output_type": "execute_result"
    }
   ],
   "source": [
    "len(y)"
   ]
  },
  {
   "cell_type": "code",
   "execution_count": 12,
   "id": "6b8d3819",
   "metadata": {},
   "outputs": [
    {
     "name": "stdout",
     "output_type": "stream",
     "text": [
      "0 480000\n",
      "480000 960000\n",
      "960000 1440000\n",
      "1440000 1920000\n",
      "1920000 2400000\n",
      "2400000 2880000\n",
      "2880000 3360000\n",
      "3360000 3840000\n",
      "3840000 4320000\n",
      "4320000 4800000\n",
      "4800000 5280000\n",
      "5280000 5760000\n",
      "5760000 6240000\n",
      "6240000 6720000\n",
      "6720000 7200000\n",
      "7200000 7680000\n",
      "7680000 8160000\n",
      "8160000 8640000\n",
      "8640000 9120000\n",
      "9120000 9600000\n",
      "9600000 10080000\n",
      "10080000 10560000\n",
      "10560000 11040000\n",
      "11040000 11520000\n",
      "11520000 12000000\n",
      "12000000 12480000\n",
      "12480000 12960000\n",
      "12960000 13440000\n",
      "13440000 13920000\n",
      "13920000 14400000\n",
      "14400000 14880000\n",
      "14880000 15360000\n",
      "15360000 15840000\n",
      "15840000 16320000\n",
      "16320000 16800000\n",
      "16800000 17280000\n",
      "17280000 17760000\n",
      "17760000 18240000\n",
      "18240000 18720000\n",
      "18720000 19200000\n",
      "19200000 19680000\n",
      "19680000 20160000\n",
      "20160000 20640000\n",
      "20640000 21120000\n",
      "21120000 21600000\n",
      "21600000 22080000\n",
      "22080000 22560000\n",
      "22560000 23040000\n",
      "23040000 23520000\n",
      "23520000 24000000\n",
      "24000000 24480000\n",
      "24480000 24960000\n",
      "24960000 25440000\n",
      "25440000 25920000\n",
      "25920000 26400000\n",
      "26400000 26880000\n",
      "26880000 27360000\n",
      "27360000 27840000\n",
      "27840000 28320000\n",
      "28320000 28800000\n",
      "28800000 29280000\n",
      "29280000 29760000\n",
      "29760000 30240000\n",
      "30240000 30720000\n"
     ]
    }
   ],
   "source": [
    "for i in range(0, len(y), maxlen):\n",
    "    print(i, i + maxlen)"
   ]
  },
  {
   "cell_type": "code",
   "execution_count": 15,
   "id": "f47e7de6",
   "metadata": {},
   "outputs": [
    {
     "name": "stdout",
     "output_type": "stream",
     "text": [
      "mkdir: cannot create directory ‘split-MagicData-RAMC’: File exists\r\n"
     ]
    }
   ],
   "source": [
    "!mkdir split-MagicData-RAMC\n",
    "!rm split-MagicData-RAMC/*.mp3"
   ]
  },
  {
   "cell_type": "code",
   "execution_count": 16,
   "id": "4623930b",
   "metadata": {},
   "outputs": [],
   "source": [
    "from tqdm import tqdm\n",
    "maxlen = 30 * sr\n",
    "\n",
    "def loop(files):\n",
    "    files, index = files\n",
    "    for i in tqdm(range(len(files))):\n",
    "        y = audio.decode_example(audio.encode_example(files[i]))['array']\n",
    "        for k in range(0, len(y), maxlen):\n",
    "            filename = os.path.join('split-MagicData-RAMC', f'{index}-{i}-{k}.mp3')\n",
    "            if os.path.exists(filename):\n",
    "                continue\n",
    "                \n",
    "            y_ = y[k: k + maxlen]\n",
    "            sf.write(filename, y_, sr)"
   ]
  },
  {
   "cell_type": "code",
   "execution_count": 17,
   "id": "6a8f57ed",
   "metadata": {},
   "outputs": [],
   "source": [
    "# loop((mandarin[:1], 0))"
   ]
  },
  {
   "cell_type": "code",
   "execution_count": 19,
   "id": "7ea79101",
   "metadata": {},
   "outputs": [],
   "source": [
    "mp.multiprocessing(mandarin, loop, cores = 20)"
   ]
  },
  {
   "cell_type": "code",
   "execution_count": null,
   "id": "10b50562",
   "metadata": {},
   "outputs": [],
   "source": []
  }
 ],
 "metadata": {
  "kernelspec": {
   "display_name": "Python 3 (ipykernel)",
   "language": "python",
   "name": "python3"
  },
  "language_info": {
   "codemirror_mode": {
    "name": "ipython",
    "version": 3
   },
   "file_extension": ".py",
   "mimetype": "text/x-python",
   "name": "python",
   "nbconvert_exporter": "python",
   "pygments_lexer": "ipython3",
   "version": "3.10.12"
  }
 },
 "nbformat": 4,
 "nbformat_minor": 5
}
