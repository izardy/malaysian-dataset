{
 "cells": [
  {
   "cell_type": "code",
   "execution_count": 1,
   "id": "aa088073",
   "metadata": {},
   "outputs": [],
   "source": [
    "from glob import glob\n",
    "from tqdm import tqdm\n",
    "import json\n",
    "import numpy as np\n",
    "import os\n",
    "from transformers import AutoTokenizer, WhisperConfig\n",
    "from sklearn.feature_extraction.text import CountVectorizer\n",
    "\n",
    "config = WhisperConfig.from_pretrained('openai/whisper-large-v3')\n",
    "maxlen = config.max_length - 3"
   ]
  },
  {
   "cell_type": "code",
   "execution_count": 2,
   "id": "5c431b5c",
   "metadata": {},
   "outputs": [
    {
     "name": "stderr",
     "output_type": "stream",
     "text": [
      "Special tokens have been added in the vocabulary, make sure the associated word embeddings are fine-tuned or trained.\n"
     ]
    }
   ],
   "source": [
    "tokenizer = AutoTokenizer.from_pretrained('openai/whisper-large-v3')"
   ]
  },
  {
   "cell_type": "code",
   "execution_count": 3,
   "id": "1db5783c",
   "metadata": {},
   "outputs": [
    {
     "data": {
      "text/plain": [
       "21056"
      ]
     },
     "execution_count": 3,
     "metadata": {},
     "output_type": "execute_result"
    }
   ],
   "source": [
    "files = sorted(glob('output-mandarin/*.json'), key = lambda x: int(x.split('-')[-1].replace('.json', '')))\n",
    "len(files)"
   ]
  },
  {
   "cell_type": "code",
   "execution_count": 8,
   "id": "9551e7ef",
   "metadata": {},
   "outputs": [],
   "source": [
    "import mp\n",
    "import copy\n",
    "\n",
    "minimum_score = 6\n",
    "\n",
    "def loop(files):\n",
    "    files, _ = files\n",
    "    results = []\n",
    "    for f in tqdm(files):\n",
    "        try:\n",
    "            with open(f) as fopen:\n",
    "                data = json.load(fopen)\n",
    "        except:\n",
    "            continue\n",
    "        f_split = os.path.split(f)[-1].replace('.json', '')\n",
    "        for i in range(len(data)):\n",
    "            \n",
    "            results.append(data[i])\n",
    "\n",
    "    return results"
   ]
  },
  {
   "cell_type": "code",
   "execution_count": 9,
   "id": "e9f8c38d",
   "metadata": {
    "scrolled": true
   },
   "outputs": [
    {
     "name": "stderr",
     "output_type": "stream",
     "text": [
      "100%|██████████| 421/421 [01:09<00:00,  6.05it/s]\n",
      "100%|██████████| 421/421 [01:11<00:00,  5.93it/s]\n",
      " 88%|████████▊ | 370/421 [01:11<00:09,  5.10it/s]\n",
      " 97%|█████████▋| 408/421 [01:11<00:02,  4.70it/s]\n",
      " 98%|█████████▊| 412/421 [01:11<00:01,  5.65it/s]\n",
      "100%|██████████| 421/421 [01:11<00:00,  5.86it/s]\n",
      " 91%|█████████ | 382/421 [01:12<00:06,  5.70it/s]\n",
      "100%|██████████| 421/421 [01:12<00:00,  5.80it/s]\n",
      " 98%|█████████▊| 413/421 [01:12<00:01,  5.14it/s]\n",
      " 98%|█████████▊| 411/421 [01:12<00:01,  6.23it/s]\n",
      " 98%|█████████▊| 414/421 [01:12<00:01,  5.75it/s]\n",
      "100%|██████████| 421/421 [01:12<00:00,  5.77it/s]\n",
      "100%|██████████| 421/421 [01:12<00:00,  5.77it/s]\n",
      "100%|██████████| 421/421 [01:13<00:00,  5.77it/s]\n",
      "100%|██████████| 421/421 [01:13<00:00,  5.76it/s]\n",
      "100%|██████████| 421/421 [01:13<00:00,  5.75it/s]\n",
      "100%|██████████| 421/421 [01:13<00:00,  5.75it/s]\n",
      "100%|██████████| 421/421 [01:13<00:00,  5.75it/s]\n",
      "\n",
      " 98%|█████████▊| 414/421 [01:13<00:01,  6.53it/s]\n",
      "100%|██████████| 421/421 [01:13<00:00,  5.73it/s]\n",
      "100%|██████████| 421/421 [01:13<00:00,  5.72it/s]\n",
      "100%|█████████▉| 420/421 [01:13<00:00,  8.24it/s]\n",
      "100%|██████████| 421/421 [01:13<00:00,  5.71it/s]\n",
      "\n",
      "100%|██████████| 421/421 [01:13<00:00,  5.71it/s]\n",
      "100%|██████████| 421/421 [01:13<00:00,  5.70it/s]\n",
      "100%|██████████| 421/421 [01:13<00:00,  5.69it/s]\n",
      " 94%|█████████▎| 394/421 [01:13<00:04,  6.43it/s]\n",
      "100%|██████████| 421/421 [01:14<00:00,  5.69it/s]\n",
      " 99%|█████████▉| 417/421 [01:14<00:00,  6.00it/s]\n",
      "100%|██████████| 421/421 [01:14<00:00,  5.68it/s]\n",
      "\n",
      "100%|██████████| 421/421 [01:14<00:00,  5.67it/s]\n",
      "100%|██████████| 421/421 [01:14<00:00,  5.66it/s]\n",
      " 96%|█████████▌| 405/421 [01:14<00:02,  6.21it/s]\n",
      "100%|██████████| 421/421 [01:14<00:00,  5.64it/s]\n",
      "100%|██████████| 421/421 [01:14<00:00,  5.63it/s]\n",
      "100%|██████████| 421/421 [01:14<00:00,  5.62it/s]\n",
      "100%|██████████| 421/421 [01:14<00:00,  5.62it/s]\n",
      "100%|██████████| 421/421 [01:15<00:00,  5.61it/s]\n",
      "100%|██████████| 421/421 [01:16<00:00,  5.53it/s]\n",
      "100%|██████████| 421/421 [01:16<00:00,  5.50it/s]\n",
      "100%|██████████| 421/421 [01:17<00:00,  5.46it/s]\n",
      "100%|██████████| 421/421 [01:17<00:00,  5.44it/s]\n",
      "100%|██████████| 421/421 [01:17<00:00,  5.44it/s]\n",
      "\n",
      "100%|██████████| 421/421 [01:17<00:00,  5.40it/s]\n",
      "100%|██████████| 421/421 [01:18<00:00,  5.39it/s]\n",
      "100%|██████████| 421/421 [01:18<00:00,  5.39it/s]\n",
      "100%|██████████| 421/421 [01:18<00:00,  5.38it/s]\n"
     ]
    }
   ],
   "source": [
    "results = mp.multiprocessing(files, loop, cores = 50)"
   ]
  },
  {
   "cell_type": "code",
   "execution_count": 10,
   "id": "f33581b9",
   "metadata": {},
   "outputs": [
    {
     "data": {
      "text/plain": [
       "884352"
      ]
     },
     "execution_count": 10,
     "metadata": {},
     "output_type": "execute_result"
    }
   ],
   "source": [
    "len(results)"
   ]
  },
  {
   "cell_type": "code",
   "execution_count": 11,
   "id": "cbe6cb36",
   "metadata": {},
   "outputs": [
    {
     "data": {
      "text/plain": [
       "{'predict_zh': [50258,\n",
       "  50260,\n",
       "  50360,\n",
       "  50365,\n",
       "  21209,\n",
       "  8225,\n",
       "  1787,\n",
       "  253,\n",
       "  15106,\n",
       "  8713,\n",
       "  24302,\n",
       "  10673,\n",
       "  250,\n",
       "  1369,\n",
       "  100,\n",
       "  30246,\n",
       "  1546,\n",
       "  18464,\n",
       "  101,\n",
       "  26748,\n",
       "  50545,\n",
       "  50257,\n",
       "  50257,\n",
       "  50257,\n",
       "  50257,\n",
       "  50257,\n",
       "  50257,\n",
       "  50257,\n",
       "  50257,\n",
       "  50257,\n",
       "  50257,\n",
       "  50257,\n",
       "  50257,\n",
       "  50257,\n",
       "  50257,\n",
       "  50257,\n",
       "  50257],\n",
       " 'score_zh': 9.75,\n",
       " 'filename': 'data_aishell/wav/train/S0002/BAC009S0002W0207.wav'}"
      ]
     },
     "execution_count": 11,
     "metadata": {},
     "output_type": "execute_result"
    }
   ],
   "source": [
    "results[0]"
   ]
  },
  {
   "cell_type": "code",
   "execution_count": 12,
   "id": "dbbd91b0",
   "metadata": {},
   "outputs": [
    {
     "name": "stderr",
     "output_type": "stream",
     "text": [
      "100%|██████████| 884352/884352 [00:11<00:00, 75087.92it/s] \n"
     ]
    }
   ],
   "source": [
    "with open('prepared-mandarin-original.jsonl', 'w') as fopen:\n",
    "    for r in tqdm(results):\n",
    "        fopen.write(f'{json.dumps(r)}\\n')"
   ]
  },
  {
   "cell_type": "code",
   "execution_count": 12,
   "id": "fa611004",
   "metadata": {},
   "outputs": [],
   "source": [
    "from huggingface_hub import HfApi\n",
    "api = HfApi()"
   ]
  },
  {
   "cell_type": "code",
   "execution_count": 14,
   "id": "914c3f55",
   "metadata": {},
   "outputs": [
    {
     "data": {
      "application/vnd.jupyter.widget-view+json": {
       "model_id": "a5d1759d3a0b452a98269bba8e3052cd",
       "version_major": 2,
       "version_minor": 0
      },
      "text/plain": [
       "prepared-mandarin-original.jsonl:   0%|          | 0.00/587M [00:00<?, ?B/s]"
      ]
     },
     "metadata": {},
     "output_type": "display_data"
    },
    {
     "data": {
      "text/plain": [
       "'https://huggingface.co/datasets/huseinzol05/pseudolabel-mandarin-large-v3-timestamp/blob/main/prepared-mandarin-original.jsonl'"
      ]
     },
     "execution_count": 14,
     "metadata": {},
     "output_type": "execute_result"
    }
   ],
   "source": [
    "api.upload_file(\n",
    "    path_or_fileobj='prepared-mandarin-original.jsonl',\n",
    "    path_in_repo='prepared-mandarin-original.jsonl',\n",
    "    repo_id='huseinzol05/pseudolabel-mandarin-large-v3-timestamp',\n",
    "    repo_type='dataset',\n",
    ")"
   ]
  },
  {
   "cell_type": "code",
   "execution_count": 7,
   "id": "945a11a4",
   "metadata": {},
   "outputs": [],
   "source": [
    "import mp\n",
    "import copy\n",
    "import re\n",
    "\n",
    "pattern_pair = r'<\\|(\\d+\\.\\d+)\\|>(.*?)<\\|(\\d+\\.\\d+)\\|>'\n",
    "\n",
    "minimum_score = 6\n",
    "\n",
    "def loop(files):\n",
    "    files, _ = files\n",
    "    results = []\n",
    "    for f in tqdm(files):\n",
    "        try:\n",
    "            with open(f) as fopen:\n",
    "                data = json.load(fopen)\n",
    "        except:\n",
    "            continue\n",
    "        f_split = os.path.split(f)[-1].replace('.json', '')\n",
    "        for i in range(len(data)):\n",
    "            a = tokenizer._decode_asr(\n",
    "                [{'tokens': np.array([data[i]['predict_zh']])}], \n",
    "                return_timestamps = True, return_language = 'zh', \n",
    "                time_precision = 0.02)[1]['chunks']\n",
    "            \n",
    "            a = [a_['text'] for a_ in a]\n",
    "\n",
    "            results.extend(a)\n",
    "\n",
    "    return results"
   ]
  },
  {
   "cell_type": "code",
   "execution_count": 14,
   "id": "cc667681",
   "metadata": {},
   "outputs": [],
   "source": [
    "results = mp.multiprocessing(files, loop, cores = 50)"
   ]
  },
  {
   "cell_type": "code",
   "execution_count": 9,
   "id": "4f575786",
   "metadata": {},
   "outputs": [
    {
     "data": {
      "text/plain": [
       "2353369"
      ]
     },
     "execution_count": 9,
     "metadata": {},
     "output_type": "execute_result"
    }
   ],
   "source": [
    "len(results)"
   ]
  },
  {
   "cell_type": "code",
   "execution_count": 10,
   "id": "4fd91cca",
   "metadata": {},
   "outputs": [
    {
     "name": "stderr",
     "output_type": "stream",
     "text": [
      "100%|██████████| 1354211/1354211 [00:01<00:00, 929874.76it/s]\n"
     ]
    }
   ],
   "source": [
    "with open('mandarin-text.texts', 'w') as fopen:\n",
    "    for t in tqdm(set(results)):\n",
    "        if not len(t):\n",
    "            continue\n",
    "        \n",
    "        fopen.write(f'{json.dumps(t)}\\n')"
   ]
  },
  {
   "cell_type": "code",
   "execution_count": 11,
   "id": "2595a6a5",
   "metadata": {},
   "outputs": [
    {
     "name": "stdout",
     "output_type": "stream",
     "text": [
      "-rw-r--r-- 1 ubuntu ubuntu 76M Apr 13 04:33 mandarin-text.texts\r\n"
     ]
    }
   ],
   "source": [
    "!ls -lh mandarin-text.texts"
   ]
  },
  {
   "cell_type": "code",
   "execution_count": 13,
   "id": "303406e1",
   "metadata": {
    "scrolled": true
   },
   "outputs": [
    {
     "data": {
      "application/vnd.jupyter.widget-view+json": {
       "model_id": "d0cb4091d2c647f7900ea7aac6cba956",
       "version_major": 2,
       "version_minor": 0
      },
      "text/plain": [
       "mandarin-text.texts:   0%|          | 0.00/79.5M [00:00<?, ?B/s]"
      ]
     },
     "metadata": {},
     "output_type": "display_data"
    },
    {
     "data": {
      "text/plain": [
       "'https://huggingface.co/datasets/mesolitica/pseudolabel-mandarin-large-v3-timestamp/blob/main/mandarin-text.texts'"
      ]
     },
     "execution_count": 13,
     "metadata": {},
     "output_type": "execute_result"
    }
   ],
   "source": [
    "api.upload_file(\n",
    "    path_or_fileobj='mandarin-text.texts',\n",
    "    path_in_repo='mandarin-text.texts',\n",
    "    repo_id='mesolitica/pseudolabel-mandarin-large-v3-timestamp',\n",
    "    repo_type='dataset',\n",
    ")"
   ]
  }
 ],
 "metadata": {
  "kernelspec": {
   "display_name": "Python 3 (ipykernel)",
   "language": "python",
   "name": "python3"
  },
  "language_info": {
   "codemirror_mode": {
    "name": "ipython",
    "version": 3
   },
   "file_extension": ".py",
   "mimetype": "text/x-python",
   "name": "python",
   "nbconvert_exporter": "python",
   "pygments_lexer": "ipython3",
   "version": "3.10.12"
  }
 },
 "nbformat": 4,
 "nbformat_minor": 5
}
