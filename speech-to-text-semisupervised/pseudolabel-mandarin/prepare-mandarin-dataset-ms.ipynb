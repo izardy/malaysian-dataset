{
 "cells": [
  {
   "cell_type": "code",
   "execution_count": 1,
   "id": "aa088073",
   "metadata": {},
   "outputs": [],
   "source": [
    "from glob import glob\n",
    "from tqdm import tqdm\n",
    "import json\n",
    "import numpy as np\n",
    "import os\n",
    "from transformers import AutoTokenizer, WhisperConfig\n",
    "from sklearn.feature_extraction.text import CountVectorizer\n",
    "\n",
    "config = WhisperConfig.from_pretrained('openai/whisper-large-v3')\n",
    "maxlen = config.max_length - 3"
   ]
  },
  {
   "cell_type": "code",
   "execution_count": 2,
   "id": "5c431b5c",
   "metadata": {},
   "outputs": [
    {
     "name": "stderr",
     "output_type": "stream",
     "text": [
      "Special tokens have been added in the vocabulary, make sure the associated word embeddings are fine-tuned or trained.\n"
     ]
    }
   ],
   "source": [
    "tokenizer = AutoTokenizer.from_pretrained('openai/whisper-large-v3')"
   ]
  },
  {
   "cell_type": "code",
   "execution_count": 3,
   "id": "a12b64cc",
   "metadata": {},
   "outputs": [],
   "source": [
    "from datasets import Audio\n",
    "\n",
    "sr = 16000\n",
    "audio = Audio(sampling_rate=sr)"
   ]
  },
  {
   "cell_type": "code",
   "execution_count": 4,
   "id": "1db5783c",
   "metadata": {
    "scrolled": true
   },
   "outputs": [
    {
     "data": {
      "text/plain": [
       "21056"
      ]
     },
     "execution_count": 4,
     "metadata": {},
     "output_type": "execute_result"
    }
   ],
   "source": [
    "files = sorted(glob('output-mandarin/*.json'), key = lambda x: int(x.split('-')[-1].replace('.json', '')))\n",
    "len(files)"
   ]
  },
  {
   "cell_type": "code",
   "execution_count": 5,
   "id": "843d0116",
   "metadata": {},
   "outputs": [
    {
     "data": {
      "text/plain": [
       "[('0.00', ' kerajaan persekutuan', '1.46'),\n",
       " ('1.46', ' dan banyak masalah hubungan', '3.96')]"
      ]
     },
     "execution_count": 5,
     "metadata": {},
     "output_type": "execute_result"
    }
   ],
   "source": [
    "import re\n",
    "\n",
    "pattern_pair = r'<\\|(\\d+\\.\\d+)\\|>(.*?)<\\|(\\d+\\.\\d+)\\|>'\n",
    "matches = re.findall(pattern_pair, '<|0.00|> kerajaan persekutuan<|1.46|><|1.46|> dan banyak masalah hubungan<|3.96|><|3.96|> antara kerajaan negeri dan')\n",
    "matches"
   ]
  },
  {
   "cell_type": "code",
   "execution_count": 6,
   "id": "add6ba6d",
   "metadata": {},
   "outputs": [],
   "source": [
    "import string\n",
    "\n",
    "punct = set(string.punctuation)\n",
    "\n",
    "def remove_punct(s):\n",
    "    return ''.join([c for c in s if c not in punct])\n",
    "\n",
    "def remove_duplicate(string, n = 3):\n",
    "    splitted = string.split()\n",
    "    n = [splitted[i: i + n] for i in range(0, len(splitted), n)]\n",
    "    already = set()\n",
    "    dedup = []\n",
    "    for n_ in n:\n",
    "        original_n = ' '.join(n_)\n",
    "        n_ = ' '.join(n_).lower()\n",
    "        n_ = remove_punct(n_)\n",
    "        if n_ not in already:\n",
    "            dedup.append(original_n)\n",
    "            already.add(n_)\n",
    "    return ' '.join(dedup)"
   ]
  },
  {
   "cell_type": "code",
   "execution_count": 7,
   "id": "1b6b8ab2",
   "metadata": {},
   "outputs": [],
   "source": [
    "import math\n",
    "\n",
    "def round_to_nearest_0_02(number):\n",
    "    return round(number * 50) / 50"
   ]
  },
  {
   "cell_type": "code",
   "execution_count": 8,
   "id": "929c71fd",
   "metadata": {},
   "outputs": [],
   "source": [
    "selected = [\n",
    "    'terima kasih kerana menonton',\n",
    "    'terima kasih',\n",
    "]"
   ]
  },
  {
   "cell_type": "code",
   "execution_count": 9,
   "id": "7d21b066",
   "metadata": {},
   "outputs": [
    {
     "data": {
      "text/plain": [
       "{'predict_zh': [50258,\n",
       "  50260,\n",
       "  50360,\n",
       "  50365,\n",
       "  21209,\n",
       "  8225,\n",
       "  1787,\n",
       "  253,\n",
       "  15106,\n",
       "  8713,\n",
       "  24302,\n",
       "  10673,\n",
       "  250,\n",
       "  1369,\n",
       "  100,\n",
       "  30246,\n",
       "  1546,\n",
       "  18464,\n",
       "  101,\n",
       "  26748,\n",
       "  50545,\n",
       "  50257,\n",
       "  50257,\n",
       "  50257,\n",
       "  50257,\n",
       "  50257,\n",
       "  50257,\n",
       "  50257,\n",
       "  50257,\n",
       "  50257,\n",
       "  50257,\n",
       "  50257,\n",
       "  50257,\n",
       "  50257,\n",
       "  50257,\n",
       "  50257,\n",
       "  50257],\n",
       " 'score_zh': 9.75,\n",
       " 'filename': 'data_aishell/wav/train/S0002/BAC009S0002W0207.wav'}"
      ]
     },
     "execution_count": 9,
     "metadata": {},
     "output_type": "execute_result"
    }
   ],
   "source": [
    "with open(files[0]) as fopen:\n",
    "    d = json.load(fopen)\n",
    "    \n",
    "d[0]"
   ]
  },
  {
   "cell_type": "code",
   "execution_count": 10,
   "id": "5ada3734",
   "metadata": {
    "scrolled": false
   },
   "outputs": [
    {
     "data": {
      "text/plain": [
       "'<|startoftranscript|><|zh|><|transcribe|><|0.00|>这样能够相对保障产品的质量<|3.60|><|endoftext|><|endoftext|><|endoftext|><|endoftext|><|endoftext|><|endoftext|><|endoftext|><|endoftext|><|endoftext|><|endoftext|><|endoftext|><|endoftext|><|endoftext|><|endoftext|><|endoftext|><|endoftext|>'"
      ]
     },
     "execution_count": 10,
     "metadata": {},
     "output_type": "execute_result"
    }
   ],
   "source": [
    "tokenizer.decode(d[0]['predict_zh'], decode_with_timestamps = True)"
   ]
  },
  {
   "cell_type": "code",
   "execution_count": 11,
   "id": "30929a4b",
   "metadata": {},
   "outputs": [],
   "source": [
    "from huggingface_hub import hf_hub_download"
   ]
  },
  {
   "cell_type": "code",
   "execution_count": 12,
   "id": "7e07bb9f",
   "metadata": {},
   "outputs": [],
   "source": [
    "f = hf_hub_download(\n",
    "    repo_id=\"mesolitica/pseudolabel-mandarin-large-v3-timestamp\", \n",
    "    filename=\"translate-mandarin-ms.json\",\n",
    "    repo_type = 'dataset'\n",
    ")"
   ]
  },
  {
   "cell_type": "code",
   "execution_count": 13,
   "id": "bb20c034",
   "metadata": {},
   "outputs": [
    {
     "data": {
      "text/plain": [
       "447949"
      ]
     },
     "execution_count": 13,
     "metadata": {},
     "output_type": "execute_result"
    }
   ],
   "source": [
    "with open(f) as fopen:\n",
    "    translation = json.load(fopen)\n",
    "\n",
    "len(translation)"
   ]
  },
  {
   "cell_type": "code",
   "execution_count": 14,
   "id": "8c15e31c",
   "metadata": {},
   "outputs": [
    {
     "data": {
      "text/plain": [
       "21056"
      ]
     },
     "execution_count": 14,
     "metadata": {},
     "output_type": "execute_result"
    }
   ],
   "source": [
    "len(files)"
   ]
  },
  {
   "cell_type": "code",
   "execution_count": 15,
   "id": "9551e7ef",
   "metadata": {},
   "outputs": [],
   "source": [
    "import mp\n",
    "import copy\n",
    "\n",
    "minimum_score = 5\n",
    "\n",
    "def loop(files):\n",
    "    \n",
    "    tokenizer = AutoTokenizer.from_pretrained('openai/whisper-large-v3')\n",
    "    \n",
    "    files, _ = files\n",
    "    results = []\n",
    "    for f in tqdm(files):\n",
    "        try:\n",
    "            with open(f) as fopen:\n",
    "                data = json.load(fopen)\n",
    "        except:\n",
    "            continue\n",
    "        f_split = os.path.split(f)[-1].replace('.json', '')\n",
    "        for i in range(len(data)):\n",
    "            \n",
    "            audio_filename = data[i]['filename']\n",
    "            if not os.path.exists(audio_filename):\n",
    "                continue\n",
    "                \n",
    "            y = audio.decode_example(audio.encode_example(audio_filename))['array']\n",
    "            len_y = len(y) / sr\n",
    "            if len_y > 30:\n",
    "                continue\n",
    "            rounded_num = f'<|{round_to_nearest_0_02(len_y):.2f}|>'\n",
    "                    \n",
    "            \n",
    "            if data[i]['score_zh'] > minimum_score:\n",
    "                \n",
    "                a = tokenizer._decode_asr(\n",
    "                [{'tokens': np.array([data[i]['predict_zh']])}], \n",
    "                return_timestamps = True, return_language = 'zh', \n",
    "                time_precision = 0.02)[1]['chunks']\n",
    "            \n",
    "                a = [a_['text'] for a_ in a]\n",
    "                \n",
    "                t = ' |'.join(a)\n",
    "                if t not in translation:\n",
    "                    continue\n",
    "                    \n",
    "                t_translated = translation[t]\n",
    "                t_translated_splitted = t_translated.split('|')\n",
    "                if len(t_translated_splitted) != len(a):\n",
    "                    continue\n",
    "                \n",
    "                mapping = {}\n",
    "                for k in range(len(a)):\n",
    "                    s = t_translated_splitted[k].strip()\n",
    "                    if a[k][0] == ' ':\n",
    "                        s = ' ' + s\n",
    "                    if a[k][-1] == ' ':\n",
    "                        s = s + ' '\n",
    "                    mapping[a[k]] = s\n",
    "            \n",
    "                a = np.array(data[i]['predict_zh'])\n",
    "                a = a[a != 50257].tolist() + [50257]\n",
    "                t = tokenizer.decode(a, skip_special_tokens = True, decode_with_timestamps = True).strip()\n",
    "                if t.split('|>')[-1] != '':\n",
    "                    t += rounded_num\n",
    "                \n",
    "                matches = re.findall(pattern_pair, t)\n",
    "                rs = []\n",
    "                for match in matches:\n",
    "                    l = float(match[0])\n",
    "                    r = float(match[2])\n",
    "                    t_ = match[1]\n",
    "                    rt_ = re.sub('[^a-z ]+', '', t_.lower()).strip()\n",
    "                    if (r - l > 3) and any([s == rt_ for s in selected]):\n",
    "                        # print(audio_filename, t_)\n",
    "                        t_ = ''\n",
    "                    else:\n",
    "                        if t_ in mapping:\n",
    "                            t_ = mapping[t_]\n",
    "                        else:\n",
    "                            t_ = ''\n",
    "                    \n",
    "                    splitted = t_.split()\n",
    "                    if len(splitted):\n",
    "                        ratio = (len(set(splitted)) / len(splitted))\n",
    "                        if len(t_) > 100 and ratio < 0.5:\n",
    "                            t_ = remove_duplicate(t_)\n",
    "                    if len(t_) and t_[0] != ' ':\n",
    "                        t_ = ' ' + t_\n",
    "                            \n",
    "                    rs.append(f'<|{match[0]}|>{t_}<|{match[2]}|>')\n",
    "                    \n",
    "                rs = ''.join(rs)\n",
    "                t = f'<|startoftranscript|><|ms|><|transcribe|>{rs}<|endoftext|>'\n",
    "                d = {\n",
    "                    'new_text': t,\n",
    "                    'audio_filename': audio_filename,\n",
    "                }\n",
    "                results.append(d)\n",
    "    return results"
   ]
  },
  {
   "cell_type": "code",
   "execution_count": 16,
   "id": "0e677cb5",
   "metadata": {},
   "outputs": [
    {
     "name": "stderr",
     "output_type": "stream",
     "text": [
      "Special tokens have been added in the vocabulary, make sure the associated word embeddings are fine-tuned or trained.\n",
      "100%|██████████| 10/10 [00:09<00:00,  1.10it/s]\n"
     ]
    }
   ],
   "source": [
    "results = loop((files[:10], 0))"
   ]
  },
  {
   "cell_type": "code",
   "execution_count": 17,
   "id": "f6b5a84f",
   "metadata": {},
   "outputs": [
    {
     "data": {
      "text/plain": [
       "385"
      ]
     },
     "execution_count": 17,
     "metadata": {},
     "output_type": "execute_result"
    }
   ],
   "source": [
    "len(results)"
   ]
  },
  {
   "cell_type": "code",
   "execution_count": 18,
   "id": "972a4ae4",
   "metadata": {},
   "outputs": [
    {
     "data": {
      "text/plain": [
       "[{'new_text': '<|startoftranscript|><|ms|><|transcribe|><|0.00|> Dia mendedahkan bahawa dia baru-baru ini melawat Sichuan sebagai duta<|5.58|><|5.58|> Penyakit mata<|7.74|><|7.74|> Empat hari<|8.94|><|endoftext|>',\n",
       "  'audio_filename': 'data_aishell/wav/train/S0002/BAC009S0002W0412.wav'},\n",
       " {'new_text': '<|startoftranscript|><|ms|><|transcribe|><|0.00|> Guan Yonghe Zibao pernah rancang bawa anak perempuannya bersamanya<|3.94|><|3.94|> Anak perempuannya sangat tua<|5.34|><|endoftext|>',\n",
       "  'audio_filename': 'data_aishell/wav/train/S0002/BAC009S0002W0414.wav'},\n",
       " {'new_text': '<|startoftranscript|><|ms|><|transcribe|><|0.00|> Saya lebih takut mati oleh serangga kosong<|3.44|><|3.44|> Persekitaran sangat mengejutkan<|4.80|><|endoftext|>',\n",
       "  'audio_filename': 'data_aishell/wav/train/S0002/BAC009S0002W0418.wav'},\n",
       " {'new_text': '<|startoftranscript|><|ms|><|transcribe|><|0.00|> Anak perempuan yang menonton filem berusia 39 tahun<|2.76|><|2.76|> Lebih tiga bulan<|4.06|><|endoftext|>',\n",
       "  'audio_filename': 'data_aishell/wav/train/S0002/BAC009S0002W0427.wav'},\n",
       " {'new_text': '<|startoftranscript|><|ms|><|transcribe|><|0.00|> Lima tahun akibat genangan dan hilang selama 300 hari<|4.40|><|4.40|> Ibu berputus asa mencari dan menyesal<|7.76|><|endoftext|>',\n",
       "  'audio_filename': 'data_aishell/wav/train/S0002/BAC009S0002W0435.wav'},\n",
       " {'new_text': '<|startoftranscript|><|ms|><|transcribe|><|0.00|> Budak lima tahun dibakar di bahagian bawah badan<|2.82|><|2.82|> Katanya rakan sepermainannya menuangkan cat ke atasnya dan membakar seluarnya<|6.46|><|endoftext|>',\n",
       "  'audio_filename': 'data_aishell/wav/train/S0002/BAC009S0002W0436.wav'},\n",
       " {'new_text': '<|startoftranscript|><|ms|><|transcribe|><|0.00|> Budak 5 tahun menghidap leukemia<|2.70|><|2.70|> Dia telah membawa 13 kali kemoterapi<|5.08|><|5.08|> Tak sabar nak ke sekolah awal<|6.70|><|endoftext|>',\n",
       "  'audio_filename': 'data_aishell/wav/train/S0002/BAC009S0002W0439.wav'},\n",
       " {'new_text': '<|startoftranscript|><|ms|><|transcribe|><|0.00|> Fotografi oleh wartawan Cai Junyan dan Xu Wenjun<|3.86|><|3.86|> Berita dari akhbar ini: Saya ingin pergi ke sekolah<|6.14|><|endoftext|>',\n",
       "  'audio_filename': 'data_aishell/wav/train/S0002/BAC009S0002W0440.wav'},\n",
       " {'new_text': '<|startoftranscript|><|ms|><|transcribe|><|0.00|> Wartawan Chen Lei<|2.20|><|2.20|> Wartawan Zhou Defeng<|6.74|><|endoftext|>',\n",
       "  'audio_filename': 'data_aishell/wav/train/S0002/BAC009S0002W0448.wav'},\n",
       " {'new_text': '<|startoftranscript|><|ms|><|transcribe|><|0.00|> Budak lima tahun hilang semasa taufan<|2.74|><|2.74|> Ditemui tiga hari kemudian tetapi malangnya mati<|6.94|><|endoftext|>',\n",
       "  'audio_filename': 'data_aishell/wav/train/S0002/BAC009S0002W0459.wav'},\n",
       " {'new_text': '<|startoftranscript|><|ms|><|transcribe|><|0.00|> Seorang budak lelaki berusia lima tahun mengalami kecacatan tahap kesembilan selepas terjatuh di tadika<|4.30|><|4.30|> Hospital pilih untuk berdiam diri<|6.24|><|endoftext|>',\n",
       "  'audio_filename': 'data_aishell/wav/train/S0002/BAC009S0002W0466.wav'},\n",
       " {'new_text': '<|startoftranscript|><|ms|><|transcribe|><|0.00|> Wartawan berita Wang Yue<|2.48|><|2.48|> Jika masa boleh dibalikkan<|4.48|><|endoftext|>',\n",
       "  'audio_filename': 'data_aishell/wav/train/S0002/BAC009S0002W0467.wav'},\n",
       " {'new_text': '<|startoftranscript|><|ms|><|transcribe|><|0.00|> Budak lima tahun hanya minum Coke dan tiada air setiap hari<|3.72|><|3.72|> Empat belas giginya busuk<|6.66|><|endoftext|>',\n",
       "  'audio_filename': 'data_aishell/wav/train/S0002/BAC009S0002W0474.wav'},\n",
       " {'new_text': '<|startoftranscript|><|ms|><|transcribe|><|0.00|> Budak lima tahun meriah dan sihat<|2.56|><|2.56|> Dengki jiran<|4.20|><|4.20|> Terkejut dan dicekik hingga mati<|6.10|><|endoftext|>',\n",
       "  'audio_filename': 'data_aishell/wav/train/S0002/BAC009S0002W0482.wav'},\n",
       " {'new_text': '<|startoftranscript|><|ms|><|transcribe|><|0.00|> Bandar Xinxiang Xiaoji, yang telah menarik perhatian ramai orang<|4.60|><|4.60|> Kes kehilangan budak lelaki berusia 5 tahun Wang Minghan telah diselesaikan<|7.82|><|endoftext|>',\n",
       "  'audio_filename': 'data_aishell/wav/train/S0002/BAC009S0002W0485.wav'}]"
      ]
     },
     "execution_count": 18,
     "metadata": {},
     "output_type": "execute_result"
    }
   ],
   "source": [
    "[r for r in results if r['new_text'].count('<|') > 6]"
   ]
  },
  {
   "cell_type": "code",
   "execution_count": 19,
   "id": "5d2a6f9c",
   "metadata": {},
   "outputs": [
    {
     "data": {
      "text/plain": [
       "6"
      ]
     },
     "execution_count": 19,
     "metadata": {},
     "output_type": "execute_result"
    }
   ],
   "source": [
    "results[100]['new_text'].count('<|')"
   ]
  },
  {
   "cell_type": "code",
   "execution_count": null,
   "id": "4135f4a0",
   "metadata": {},
   "outputs": [],
   "source": [
    "import IPython.display as ipd\n",
    "ipd.Audio('data_aishell/wav/train/S0002/BAC009S0002W0212.wav')"
   ]
  },
  {
   "cell_type": "code",
   "execution_count": 21,
   "id": "2009d184",
   "metadata": {
    "scrolled": false
   },
   "outputs": [
    {
     "name": "stderr",
     "output_type": "stream",
     "text": [
      "Special tokens have been added in the vocabulary, make sure the associated word embeddings are fine-tuned or trained.\n",
      "Special tokens have been added in the vocabulary, make sure the associated word embeddings are fine-tuned or trained.\n"
     ]
    }
   ],
   "source": [
    "tokenizer = AutoTokenizer.from_pretrained('openai/whisper-medium')\n",
    "ori_tokenizer = AutoTokenizer.from_pretrained('openai/whisper-large-v3')"
   ]
  },
  {
   "cell_type": "code",
   "execution_count": 22,
   "id": "e76094ad",
   "metadata": {},
   "outputs": [
    {
     "data": {
      "text/plain": [
       "['<|startoftranscript|>',\n",
       " '<|ms|>',\n",
       " '<|transcribe|>',\n",
       " '<|0.00|>',\n",
       " 'ĠDal',\n",
       " 'am',\n",
       " 'Ġera',\n",
       " 'ĠInternet',\n",
       " 'Ġini',\n",
       " '<|3.20|>',\n",
       " '<|endoftext|>']"
      ]
     },
     "execution_count": 22,
     "metadata": {},
     "output_type": "execute_result"
    }
   ],
   "source": [
    "tokenizer.tokenize(results[-1]['new_text'])"
   ]
  },
  {
   "cell_type": "code",
   "execution_count": 43,
   "id": "e9f8c38d",
   "metadata": {
    "scrolled": true
   },
   "outputs": [],
   "source": [
    "results = mp.multiprocessing(files, loop, cores = 50)"
   ]
  },
  {
   "cell_type": "code",
   "execution_count": 24,
   "id": "cbe6cb36",
   "metadata": {},
   "outputs": [
    {
     "data": {
      "text/plain": [
       "538102"
      ]
     },
     "execution_count": 24,
     "metadata": {},
     "output_type": "execute_result"
    }
   ],
   "source": [
    "len(results)"
   ]
  },
  {
   "cell_type": "code",
   "execution_count": 25,
   "id": "ed9524b0",
   "metadata": {},
   "outputs": [
    {
     "data": {
      "text/plain": [
       "{'new_text': '<|startoftranscript|><|ms|><|transcribe|><|0.00|> Semakin ramai pendatang<|2.80|><|endoftext|>',\n",
       " 'audio_filename': 'data_aishell/wav/train/S0002/BAC009S0002W0179.wav'}"
      ]
     },
     "execution_count": 25,
     "metadata": {},
     "output_type": "execute_result"
    }
   ],
   "source": [
    "results[-2]"
   ]
  },
  {
   "cell_type": "code",
   "execution_count": 26,
   "id": "a42c2cab",
   "metadata": {},
   "outputs": [],
   "source": [
    "from sklearn.model_selection import train_test_split\n",
    "train, test = train_test_split(results, test_size = 200)"
   ]
  },
  {
   "cell_type": "code",
   "execution_count": 27,
   "id": "666fa62e",
   "metadata": {},
   "outputs": [
    {
     "data": {
      "text/plain": [
       "(537902, 200)"
      ]
     },
     "execution_count": 27,
     "metadata": {},
     "output_type": "execute_result"
    }
   ],
   "source": [
    "len(train), len(test)"
   ]
  },
  {
   "cell_type": "code",
   "execution_count": 28,
   "id": "90dcfc06",
   "metadata": {},
   "outputs": [
    {
     "data": {
      "text/html": [
       "\n",
       "                <audio  controls=\"controls\" >\n",
       "                    <source src=\"data:audio/x-wav;base64,UklGRkTDAQBXQVZFZm10IBAAAAABAAEAgD4AAAB9AAACABAAZGF0YSDDAQAHAAkACAALAAkACgAKAAkACAAIAAkADAANAAkACgAIAAoADQAOABEAEwATABEADwANAAwACgAQABQAGAAZABgAFQATABMAEQARABQAGQAcAB0AHAAaABYAFAASABAAFAAWABgAGQAaABcAFgAaABwAGwAcAB8AHgAcABgAEwATABYAGAAZABsAGwAZABgAFgAWABkAGwAcABoAHQAhAB4AHgAbABoAHQAeACEAJAApACsAKgAnACYAKAApACgAKAAqACkAKgAoACgAKQApACkAKgAsACsAKAAoACkAKAAmACQAIAAhACEAIQAlACUAJQAjACAAIgAiACIAIQAgAB4AHQAbABwAHQAbABoAHQAeACIAIgAgACAAIAAdABoAFgAWABUADgAPAA4AEAARABEAEQASAA4ADQAMAA8AEQAQABEADAAJAAcAAwAEAAMAAAABAAUACgAKAAsACQAHAAMA/v/9////AwAGAAYABAAFAAEAAgAAAP3//f/6//n/+P/7/wAAAAAAAAAA///+//3/+v/9/wAA/P/7//3/AQABAP//+//1//b/9f/4//7///8CAAAA+//8//z//f/7/wAAAgAAAAAA/v///wEA///+//3///8BAAIABAAEAAAA///6//z//P/6//v//f/+//z//P/8/wAAAQACAP///P/8//z/+//8//7/+f/4//b/9f/0//L/9f/4//n/9P/z//T/8v/z//P/8//3//n/+P/2//f/9v/z//T/9P/y//T/9//7//z/+//3//T/8v/y//X/+f/6//r//P/6//r/9v/z//P/8//3//P/9P/2//f/+P/3//T/9P/1//X/8v/0//b/9//1//L/8f/x//L/7//r/+v/6f/p/+3/7//w//L/8v/y//H/8P/v/+//8f/y//D/8//0//P/9f/1//P/8v/y//X/9v/5//j//P////3/+f/3//j/+v/5//z/AAADAAMAAQABAPv//f/8//n//P/+/wEAAAD+//r/+v/8//3//f8BAP//AAABAP7/AAAAAP//AQAGAAcABwAEAAUABQAFAAUACQALAAwADQAMAA0ACgAFAAMABAAFAAsACgAKAAwACwAKAAgABgAHAAgADAAPABAAFQAVABMAEQAPABEAEgASABEAEQAXABgAFQASABIAFQAUABQAEgARABQAEQARABMAFAAUABMAFQAUABUAEwARABAAEQAVABYAFwAYABkAFgAUAA8ADgARABAAFQAVABkAFwAWABUAFgAWABMAEwATABYAGQAaABsAHgAdABwAGgAcAB4AHgAeAB0AHAAaABcAEwARABEAEgAUABUAGwAgAB4AHQAaABkAFwARAA0ADgAPAA4ADAALAA8AEQASAA4AEAAUABIAEAAOABEAEAAQAA4ACwANAAsACQAIAAsACgAMAAwADAAPAAwACgAJAAoACQAHAAUAAgADAAIAAQACAP//AQAEAAQAAwAAAAIAAQD9/wEABwAKAAoABAAAAAAAAAD+//7/AAD+////AQABAAUABgADAAEAAAACAAIAAgAEAAUABAAEAAMAAwAFAAQAAAACAAUABAADAAYACwARABEADQAKAAYABgAEAAQACAAKAAkACQAMABAAEAAPAAsADAARAA8AEAAPABEAEAANAAwADQAOAA0ADQANAA4ADQANAA4AEAAPAAsABQACAAIABAAKAA0ADgARABAAEwAUABMAEwASABIADQAQABEAFAAWABQAFAARABMAEAAQABEAEQARABIAEwASABIAEAAOAA0ADQALAA8ADQALAAwACQAKAAsADAANAA8ADgAPAA0ADwAMAAkACQAGAAkABQAGAAgACwAOABAAEQATAA0ACAADAP7///8BAAMABQAKAAkACQADAAAA+//7////AAAEAAQABwAGAAcABQAEAAQAAAAAAP7///8BAAEABQAIAAcABwABAAMABQAEAAIAAQAEAAgACwALAAoACwAHAAQAAAAAAAQABwAHAAkACgAMAAsACQAJAAcABgAIAAcACQAMAAkACAAIAAcABwAHAAEABAAIAAcABwACAAMABQAEAAQAAwAEAAYABgAIAAkACAAKAAkACQAMAAsACwAJAAkACwAOAA4ADAAOABAAEAAPABAAEQAMAAgAAwAEAAQABAAHAAQABgAGAAcABgAGAAcABQAHAAgABwADAP///P/6//X/8v/x//b/+//9//3//v/8//f/9P/x//H/8v/0//D/7f/u/+7/8v/t/+z/7P/s/+r/5v/q/+v/7P/u/+r/6f/n/+j/5//l/+T/5P/i/+H/4v/i/+X/5v/k/+D/3v/d/9v/2f/Z/9r/3P/c/9r/2v/Z/9j/2v/a/9n/2//Z/9b/1v/W/9b/1v/T/9T/1//a/9v/1//Z/9b/1v/U/9b/1//Z/9r/1//U/9b/3P/d/97/3P/d/93/3v/c/9z/2//X/9r/3P/c/+D/3//f/97/3v/e/9//3v/c/9//3v/j/+X/5P/i/+b/5v/p/+r/5v/m/+L/4P/f/9//4f/j/+X/5//m/+X/4v/d/9z/4v/j/+L/4f/j/+b/5f/f/9n/3P/f/+L/5P/n/+r/7P/m/+P/5P/m/+b/5P/l/+f/6f/q/+v/6//t/+3/7P/t/+7/7P/p/+T/4v/k/+P/5f/n/+n/6f/k/+H/3v/i/+T/5v/n/+f/5f/g/9//4P/e/9z/2//b/9//4v/n/+P/4//g/9z/3v/g/97/3v/g/+H/4P/e/9r/3P/g/+D/4f/l/+X/5//p/+j/5v/h/9//3v/b/97/4f/l/+n/6v/r/+7/8P/v/+r/5P/i/+P/5f/l/+X/5//n/+f/5f/m/+T/4//j/+P/5f/l/+b/5f/o/+j/5f/l/+X/5P/i/+L/5P/n/+f/6f/o/+b/5v/j/+D/4v/m/+j/6P/n/+j/5v/l/+f/6v/q/+b/5P/l/+f/6f/o/+z/7v/s/+z/6//q//D/8f/z//X/9P/z//D/8f/v//H/9P/y//P/8f/y//T/9//0//D/7//v/+7/8P/y//P/8v/u/+//8v/z//T/7//x/+7/7P/o/+T/6//u/+7/7//w//H/8f/v//L/8//2//X/8f/1//X/9f/0//T/7//u/+3/7//y//L/8P/v/+7/7//s/+r/6//t/+z/6//q/+v/6v/r/+v/7P/z/+7/7f/p/+r/7P/x//P/9v/7//f/9P/v/+z/7P/q/+f/6//u//P/9P/y//H/7f/n/+P/4v/n/+3/8P/v/+r/5v/l/+P/5P/k/+b/6P/k/+P/4v/m/+j/6f/q/+7/7P/m/+P/5//q/+z/7P/w//L/8P/t/+X/5f/g/9//4//s//X/+f/3/+//5v/f/9v/3f/o/+z/9v/2//T/9v/z//H/7v/t//H/9f/5//3//v8AAPv/9v/0//f//f8BAAMAAwAHAAQAAwADAAcACQAMAA4ADQALAAkABgAJAAgACAAMABEAFgAUABMAEwATABAADQARABYAHAAgABwAFwATAAoABwAJAAsAEAAXABcAGQAZABYAFgAWABcAFQAaABkAGAATABEADwALAA0ACwARABQAGQAZABIADQAJAAkACgAKAA4AFAASAA8ACwAJAAwADwARABcAGgAZABcAEgAQAA4ADgAQABcAHQAjACMAHQAXABAACQAFAAcADwAWABsAGwAYABYAEwASAA8AEQANAAwADgAMAAsADAAKAAkABwAHAAYABAAEAAMABgAHAAgABwALAAoACQAIAAYABwAHAAQABAAHAAkACwALAAsABAD9//z/8//6/wAABQAKAAwAEwAOAA4ABQADAAYA/f/8/wEACAAJAAYAAwAHAAoABgADAAMACQAMAAkACgAHAAgABgAGAAgADwASAAwADQANAA4AEAAMAAkADwAPABEAEgAQABEACwAJAAYACAAHAAIAAgACAAQABAADAAMABAAFAAcABgAFAAYABAAFAAYABAACAAEA//8AAAMAAwAGAAMAAQD7//n/+f/6////AwAIAAoACwAGAAIA/f/3//b/9v/6////BgAJAAsACAAFAAYAAwAEAAgADwATABkAFQARAA0AAAAEAP3/AAACAP//AQD//wIA///9//f/8v/v//D/8f/w/+7/8//z//L/8v/z//H/7P/r/+r/7P/u/+3/7v/z//n/AAABAAAAAgAEAAAA////////AgAAAAMABQAFAAMA/v/+/wAAAgAGAAcACwANAAgABwAAAPv/+P/5//r/+f/7/////f/8//n/+v/4//f//P/9/wEAAAADAAAA/v/9//r//P/9/wEAAwAFAAcABAAIAAwADAALAAgACQAMABAADQARABMAEwAUABQAFQAUABUAEgAQAA4AEgAYABoAGwAaAB4AHgAaABoAHQAdACAAHQAYABoAHgAfAB8AHQAaABkAFgASABAAFwAZABoAHwAeACIAIwAfABwAGQAUABIAEAAUABUAGwAcABwAIQAgAB8AHAAdAB4AIQAiACIAJQAmACUAJAAkACEAHwAcABwAHgAgACIAIQAiACIAIgAiACEAIQAcAB0AHAAeAB8AHwAfABsAGgAXABgAGQAXABcAGAAZABsAGQAaABsAGAAYABYAFwAXABcAFwAXABkAGQAYABkAGQAXABgAFQAVABUAGAAZABgAGQAZABYAFQARABMAEwAUABkAGAAXABQAEQAOAA8ADQAKAAsADQALAAgACgAGAAgABgAHAAYABwAGAAQABQACAAMABgAJAAgACQADAAAAAQABAAEAAwAFAAgACgAIAAUAAwADAAAAAQADAAQABAAGAAgABgAGAAQABQAHAAUABQAFAAUABQAFAAQABgAJAA4ADgAMAAoACQAGAAQAAgAGAAgACwALAAoACgAIAAYABQAGAAUAAwAAAAEAAwAEAAgACQAKAAgABQACAP//+v/4//j/+f/9/wAABQAIAAMAAgAFAAMAAQAAAP7//v8BAAAAAQAAAP//AAABAAMABAAEAAQAAQACAAYACAAHAAcABQAGAAcABQAFAAQABAAEAAIAAQAAAAAA/v/+//7/AgACAAMAAAABAAIAAwADAAQAAgACAAAA/v/+//7/AAABAP///f/8//v/+f/4//z/AQACAAEABAAHAAUABgABAAMABAACAAMABQAIAAYABAAAAAEAAgACAAQABgAHAAgACAAHAAYABQABAP7//v8BAAUACAAJAAUABQAAAAIAAgABAAQABgAKAA0ADwANAAoABAACAAEAAAAAAAMABQAIAAgABgAGAAcAAQACAAMABgALAAYACQALABEADgANAAsACgAOAAoACwAIAA8ADgAPABIADwATABQAEwATABIADwAPAAwADwAQABEAEAAOAA4ADgAMAA8AEAAQABIAEQATABQAFQAUAA8ADgAMAAwADAARABIAEQATABEAEAAPAA4ACgAHAAkACgAIAAkACwAPAA4ACQAJAAoADQANAAkACwAJAAQABgAHAAcACQAFAAUABQAHAAUAAQABAP7///8AAP7/AgAEAAQABQADAAAA///+//7//v8AAAEAAQAAAP7//v////z/+//7//3//f/8//z/+f/3//j/9f/1//X/8//z//H/8//z//L/8f/v//L/8f/0//P/8v/x/+//6//t/+3/7//y//X/9f/3//P/8f/u/+r/6P/p/+r/7P/t/+//7v/v/+//7//w/+7/7f/r//D/8//y/+//7//u/+v/6//u//D/8P/y//T/9f/1//b/9P/2//X/9f/2//j/+v/2//n/+//9//3//v/+//7////7//z//P/+////AgAEAAIA//8AAAIAAAABAAAAAAD//////v////7//f/8/wAABQAEAAQABgAIAAYAAgACAAAABAAFAAgACwAMAA0ADAAKAAYACAAHAAYABgAHAAcACQAKAAsACwAJAAgABwAKAAwADAAMAA0ACgAKAAsADAAMAAoABgAHAAoACAAKAA0AEQASABIADgALAAgABgAJAAsADgARABMAFgAWABQAEQAQAAwADwARABMAFgAWABYAFAASABAADQANAA4ADwAPABAADgAQABIAFgAUABMAEAAQAA8ADgASABEAFAAVABQAEgAQAA4ADAANAAwADgAOABQAFgAWABAADQAKAAoADwATABcAGQAYABgAFQAQABAAEgAUABYAFQAXABYAFgAWABUAFgAXABoAHAAgAB4AHwAdABsAGQAYABoAGgAbABkAGwAbABsAHAAdAB8AIAAhACIAIwAlACQAJAAjACEAIAAgACMAIwAmACUAJQAoACgAKAAnACcAJwAlACcAKQAsACsAIwAiACIAJAAlACIAJgAmACcAJQAjACUAIgAiAB4AGwAZABcAFwAWABMAEwATABUAFQAUABMAEQAPAAwADQAMAA4ADwAQABAADAAMAAsACAAHAAcABwAHAAgABwAHAAQAAAD///z//f/+/wEABAACAAIAAwADAAMAAgD9//v/9//2//j/+f/7//z//f///////f/7//r/+f/4//b/9P/x//D/8v/w//L/8f/w/+//7f/w/+7/8P/u/+z/7f/t/+7/8f/1//T/9f/1//b/9f/w//H/8f/w/+z/7f/t/+3/6//s/+//7v/w/+//7f/r/+n/6v/p/+f/6v/s/+z/7v/s/+3/6//p/+f/5f/n/+f/6f/q/+v/6//r/+3/7f/x//D/8P/x//H/8f/v/+//7f/u/+3/6//s/+3/6f/s/+z/7P/s/+r/6//t/+7/7f/s/+n/6v/p/+n/6v/r/+r/7v/r/+z/7f/t//D/7f/s/+v/7P/u/+3/8f/w//P/9f/0//P/9f/0//P/8f/u/+3/6//t//D/8v/1//X/9P/0//T/8//y//P/8//z//T/8v/x//P/9P/z//P/9f/2//b/+P/0//L/8v/v/+7/7v/s/+v/7P/u/+7/8f/z//P/8//y//L/8P/u/+7/7v/s/+v/6v/r/+j/6P/o/+j/6v/o/+z/6P/s/+r/6//q/+r/6v/p/+n/6v/r/+r/6//s/+//8P/v/+//8P/x//L/8P/u/+3/7f/t/+7/7v/u/+//7v/u/+z/7f/r/+v/6v/o/+j/5//m/+f/6f/q/+n/5//j/+X/4v/h/+H/4v/j/+L/4f/h/+D/4P/e/93/3P/c/93/4P/h/+T/5P/l/+P/4v/f/93/3f/d/97/3v/e/9//4f/k/+T/4//k/+f/5//l/+T/4//k/+X/5f/i/+P/4v/i/+P/4//j/+T/5P/j/+X/5v/n/+b/5//l/+L/4v/j/+P/5f/k/+P/4v/h/+D/3//f/97/3f/d/93/3v/e/93/3//Y/9n/3//b/+D/3//d/9r/3P/a/9b/2//a/9f/2//U/9P/2f/U/9T/1//W/9P/0f/T/9T/1f/X/9X/1v/X/9f/1f/T/9L/0P/S/9D/zv/P/9D/z//Q/9D/yf/N/83/y//L/8r/yf/J/8r/yf/L/83/yf/J/8j/yP/I/8b/yv/P/9D/0v/S/9T/0//O/87/yf/N/9D/z//V/9X/1//Z/9v/2f/W/9n/2f/Y/9n/2f/Y/9z/3P/c/9z/3P/c/9v/3f/c/+D/3//f/+D/4//k/+H/4P/e/93/3//f/+H/5f/m/+b/6P/m/+b/6P/n/+T/5P/k/+P/5f/o/+z/7P/u/+7/7//u/+3/7f/u//H/8v/z//T/8v/3//X/9v/4//j//f/3//3//P/9//z//P/9//z//P/7//z//f////3//v/+//3//v/8//3//v/9//3//////wEAAgAGAAcAAwADAAAA/v8BAAIA//8AAP//AgAEAAQABAAEAAIABAACAAMABQAFAAgABwAEAAQABAAEAAIAAgD+/wEAAAACAAAAAQACAAQABQADAAAA/P/8//v//P/+//7///8AAAAAAAABAAAA/v/9//z//v/+//3//f/6//r/+v/5//r//P/7//v//f/9//v/+v/4//r////9/////P/9////AAAAAAAAAwACAAMAAgADAAEA///+////AQADAAMABAAIAAUABgAHAAUAAwADAAMAAwAHAAgACAAJAAcACAAKAAwACgAKAAoACQAKAAwADQANAAsACAAIAAUABAAGAAoACwANAAwADAAMAAwACgAHAAgACQAIAAkACQAMAAoACwALAAgACQAHAAcACQAIAAgACQAIAAgADAAKAAkACAAJAAkACgAMAAwADgAQAA8AEAAOAAsACgAIAAcABwAJAAgABwAIAAgABwAGAAMAAAADAAEAAQABAAIAAAADAAMABAAFAAUABAAFAAcABAAEAAQAAwABAAEA//8BAAEAAAAAAAIAAgACAAAA/v/9//r/+v/6//r/+v/9//7//P/9//7//v/8//z/+v/5//f/+P/5//z//P/9/////f///////f/9//3//f/8//z//f/+//7//f///wAA/v/+////AAABAAIA///+/wEA///+/////f/8//z//P/9/wAAAwAEAAUABgAGAAUABgAFAAMAAwACAAIABAACAAMAAwAFAAcACQAMAA0ADAANAAwADAANAAsACQAKAAsACwAPAA4ADwARABIAEwASABEADwAQABAADgAOABEAEQAUABYAFwAVABMAFQAVABgAGQAaABsAGwAZABgAGAAYABgAGAAXABcAGQAaABkAGQAYABYAFQAXABcAFwAaABkAGgAaABsAGwAbABoAGgAZABoAGgAZABkAGwAbABkAGAAXABkAFwAWABYAGAAXABYAGAAWABUAFQATABIAEQASABIAFAAVABMAFAATABIAEQARABIAEQARAA8ADQAPAA4ADQAMAAkACgAHAAQABQADAAMAAwACAAEAAwAEAAYABgAEAAMABAABAAMABAABAAIAAgABAAIAAwADAAUABgAGAAcABQAFAAQABQAEAAUAAgADAAMAAwAEAAMAAgADAAYABAAGAAUABgAEAAUABAABAAMABAAEAAQABQAFAAUABgAHAAUABAAEAAQABAADAAUABQAGAAYAAwACAAAAAQAAAAIAAwABAAEA//8AAAIAAQABAAMAAgADAAcABQAFAAUABQACAAEAAQABAAMABQAFAAcABwAHAAgACAAKAAsADQALAA0ADAAMAAsACwANAAsADQAMAA0ADwAOAA8ADQAPAA8ADwARABAADQAOAAwADQAMAAwADAANABAAEAANAA4ADQAKAAwACwAMAAoACQAIAAcACAAJAAgACAAHAAcABwAHAAQABAAGAAIAAgD//wAAAAAAAAEAAQABAAIAAwABAAEAAgADAAEAAQADAAMAAgACAAMABgAFAAQABQAGAAUABQAFAAQAAwADAAIA/v8GAP3/AwADAP//BgACAAoABAAGAAYABgAIAAYABgAIAAkABwAKAAgACgAJAAcACgAJAAsADQAMAA4ADQAMAAoACgAIAAoACQAJAA0ADAANABAAEAAQABAADwARABAADwAOABAAEAAPAA8ADwAPABAAEAAPABAAEAAQABAAEQARAA4AEQASAA8AEAANAA4AEgAUABQAFgAYABYAFwAWABgAFwAbABwAGgAbABwAGwAcAB0AHgAgACEAIQAiACMAIQAhAB8AHQAdAB0AGwAaABsAHgAeACAAIwAhACQAJgAjACAAIAAfAB8AIAAfAB8AIAAhACMAIwAiACQAIwAkACUAJgAmACYAJQAlACMAIwAjACMAJAAiACEAIgAhACIAIwAiACMAIgAhAB8AHAAcABwAHQAeAB0AHgAcABwAGwAaABgAFgAUABEAEgATABEAEgATABEAEAAPAAwADgANAAsACgAKAAgACgAJAAgACQAKAAsACwAKAAkABgAEAAQABAAEAAcABgAIAAYACAAHAAYACAAGAAYABQAGAAcABQAIAAYABwAIAAgACAAMAAwACgAKAAoACAALAAgACAAIAAgABwAJAAkACQAJAAkACwALAA0ACgALAAkACAAKAAoADAANAA0ADwASAA0AEAARABEAEQARABIAEwAQABAADwAOABAAEQARABQAFQAVABYAFQAVABQAFAAVABQAFQAWABUAFwAXABYAGAAXABcAGAAYABcAFwAYABUAFQAWABQAFgAWABcAFgAXABoAGQAaABcAFwAWABUAFAAUABQAEwATABMAFQAWABgAGQAWABIAEgAQAA0ADAANAA0ACwAOAA4ADwAQABAAEgASAA8AEQAQAA8ADwAOABAADwAOAA8AEAANAA4ADAALAAwADgANAA0ADQAOAA8ADgAPAA8ADgANAAwADQANAAsACgAKAAgACQAJAAsADAAMAAwADQAPAA0ADgAOAA0ADwAQABIAEQATABIAEQARAA8ADwANAA0AEQASABQAFAAVABcAFgAXABkAGQAZABkAGAAWABgAGQAZABkAGQAbABwAHgAdACEAIQAiACMAIgAgACIAJAAjACEAHwAhACIAIgAlACUAIgAlACUAJAAjACQAIgAkACMAIQAjACIAIgAiACIAIAAiACMAIAAiACAAHwAfAB0AHgAeABsAGwAdAB0AGwAZABoAGgAZABoAGwAaABsAGgAbABoAGwAZABkAGwAaABsAGQAYABgAGAAWABgAFQAXABgAGAAYABkAGQAYABcAFwAUABYAFgAUABUAFAATABIAEgAQABAADQALAAwADAAMAAwACgAJAAoABwAHAAQAAgACAAMAAQACAAMAAQACAAIAAAAAAP7////9//3/+//7//r/+P/4//r/+f/3//n/+P/3//b/9f/2//T/9f/2//b/9//4//f/9f/3//j/9v/2//X/9P/0//T/9P/0//T/8v/y//L/9P/0//L/9P/y//H/8P/u/+//7//v/+7/7v/s/+3/7f/v//D/7//y//D/7//v/+//7//w/+//7//u/+//7//w//H/8v/0//T/9P/y//L/8//x/+//8P/v/+7/7v/v//D/8f/x//P/8f/y//T/9P/z//D/8v/y//H/8f/y//L/9P/2//X/9v/3//f/9v/1//P/8v/x//L/8v/y//T/9P/0//P/9f/2//b/9P/y//L/8f/y//P/8v/y//L/8//1//X/9//1//P/9f/1//X/9P/y//L/8f/y//L/8v/y//L/8v/v//H/8f/x/+//8P/t/+//8P/u/+3/7v/t/+3/6//o/+j/5//m/+f/5v/m/+n/6P/r/+r/5//m/+f/5v/l/+X/5P/n/+X/5//l/+b/5v/k/+T/5f/m/+f/5v/m/+X/5P/h/97/4f/h/9//4f/j/+P/4//i/+P/4v/i/+H/3//g/+D/4f/g/+H/3//g/+L/4f/h/+H/4v/h/+L/4P/g/+D/4f/f/9//4f/i/+H/4f/e/+D/3//g/9//4P/h/+D/3v/e/93/3P/a/9v/2//b/9z/3v/f/9z/2v/c/93/2v/a/9n/2v/b/9z/2v/Z/9r/2v/c/9z/2//c/9v/3P/e/93/2//b/93/2v/a/9n/2f/b/9j/2P/Y/9n/2P/a/9z/2f/a/9r/2f/Z/9j/1//X/9f/1//W/9X/1//Y/9j/1v/X/9b/1f/U/9T/0P/R/9L/z//R/9H/0v/Q/8//0f/P/87/zf/N/8z/zP/K/8n/yv/J/8j/yv/J/8r/yf/I/8j/xP/G/8T/xP/C/8P/xf/E/8X/xf/E/8b/xP/E/8P/wv/D/8D/wP+//7//wf/A/73/vf++/73/vf/A/8D/v/+9/77/vv+8/7z/vf+//77/vf+9/8D/vv+8/7z/vf++/77/v//A/8L/wv/C/8P/w//B/8P/xP/E/8T/xf/F/8f/yP/H/8n/yf/N/87/zf/O/8//zf/P/83/zv/Q/9H/0v/R/9P/0v/T/9L/0//U/9P/1v/W/9f/2P/Z/9n/2f/Y/9r/2v/a/93/3P/e/9//3//g/9//4P/j/+H/4v/i/+P/4v/i/+L/4v/l/+b/5v/n/+n/6f/o/+r/6P/o/+f/5v/n/+f/6P/o/+f/6P/q/+v/6v/r/+z/7f/s/+r/6P/n/+f/5//n/+n/6//t/+//7//w//L/7v/w//D/8f/w/+//7//x/+//7v/u/+3/7v/r/+7/6//r/+z/6v/q/+j/6v/p/+z/6//s/+z/6v/r/+r/6f/o/+f/6P/n/+b/5//l/+X/5v/k/+X/5P/k/+T/5f/k/+b/5P/l/+T/5f/l/+T/5P/i/+P/4P/i/+T/4//k/+X/5f/k/+T/5v/m/+b/5v/n/+b/5v/n/+j/6P/l/+n/6f/q/+v/7P/t/+3/7f/t/+//7v/s/+v/6//s/+3/7//v//D/8f/y//P/8//y//H/8P/u/+7/8P/t/+7/7v/v//H/8v/z//T/9P/0//T/9f/0//H/8v/x//H/8//y//P/8f/x//L/8v/1//P/9f/2//X/9f/0//L/9P/1//b/9v/2//b/9v/3//f/9//2//X/+P/2//j/+f/6//z/+v/6//n/+P/4//n/+P/5//n/+v/6//z//P/8//7//v/9//3//f/8//z/+v/9//3//v/+//////8BAAEAAAACAAEAAAABAAEAAAACAAEAAgACAAQABgADAAEAAAACAAEA/v/8//r//P/8//z/+/////7/AAD////////+//3//f/9//z//P/8///////+//7/AQABAAAAAQACAAMAAQACAP//AAABAAIA/////wEAAwAEAAQABAAGAAcACAAJAAgACAAIAAkACAAIAAgACgANAA4AEAARABEAEgAUABMAFAAUABMAFQAWABgAGQAZABsAHAAcAB0AHwAeACEAIgAhACQAIgAjACMAIwAkACQAJwAnACgAKQAqACsALAArAC4ALQArACoAKgArACsALgAtAC4AMAAuAC4ALwAwAC4ALQAtACwALQAuAC4ALwAvADAAMQAyADMANAA0ADQANAA1ADQANAA0ADQANAA0ADYANgA1ADYANwA3ADUANgA1ADcANgA2ADYANQA1ADQAMgAzADIAMQAxADAAMQAxAC8ALwAwADAALwAxADAALwAwADAALwAtACwAKwAtAC0ALQAuACwALwAuAC0ALAAtACwALAAtACwALAAnACkAKQAqACsAKwAsACsAKgApACkAKAAnACYAJQAmACYAJwAqACkAKQAqACgAKAAnACcAJQAkACUAIgAiACQAIgAjACQAJAAkACUAJAAiACMAIgAgACIAIAAgACEAIAAjACQAJgAmACUAJQAlACUAIgAjACIAIQAiACAAIgAiACIAJAAjACcAJwAlACUAIwAiACIAIgAiACQAJAAlACcAJgAlACQAJAAlACYAJAAlACQAJQAnACUAJQAlACUAJQAnACUAJQAlACcAJwAmACQAJQAmACYAJgAkACUAJAAkACMAIwAmACIAIgAhACAAIQAfACAAIAAhACAAIAAeAB0AHgAdAB4AHAAdABwAGwAaABkAFwAWABcAFwAXABYAFwAYABcAGAAWABMAEwAUABQAEgASABIAEwATABMAFAAUABUAFQATABUAFAAVABQAFQAXABIAFQATABYAEwASABUADwAVAA8AEgAQABEAEQAPABEAEAATABMAEwASABMAEgARABEADwAQABEAEQATABQAFgAXABcAFQAXABcAFwAXABUAGAAVABQAFgAXABwAGgAZABoAGgAaABoAGgAZABwAGwAaABgAFwAZABoAGwAbABkAGgAcABwAGgAdAB4AHAAeAB4AHAAcAB0AGwAbABsAHgAfACAAIQAhACMAJAAiACIAIgAiAB8AHwAfAB4AHgAeACAAIQAjACQAJAAlACQAJAAiACEAIAAhACIAIQAfAB8AIwAiACMAIwAkACMAJQAlACQAIwAjACYAJAAnACQAJAAjACMAIQAjACUAJQAmACQAIwAiAB8AHwAeAB8AHgAdACAAHwAfACAAHgAdABsAGgAZABgAFQAWABQAFAAVABUAFgAVABUAFQAVABMAEQARAA8ADgAPAA8AEgAUABIAEAARAA4ADAAMAAsACgALAAkACQAKAAgABwAJAAgABwAHAAYABAADAAQAAQD+//7/AAAAAP7/AAD+/////P/7//r/+P/5//n/9v/3//j/+f/6//r/+f/6//v/+//6//n/9//1//X/9f/0//L/8v/0//b/9f/1//b/9f/2//T/8//0//L/8f/y//P/8v/z//P/9f/1//P/9P/0//H/8P/u/+7/7v/v/+7/7v/w//H/8v/x//H/8f/x//H/7//u/+7/7f/t/+z/7f/v//D/8f/x//D/8P/y//H/8v/w//L/8f/u/+7/7v/u//D/8P/u//D/8//x//L/8//0//T/8//z//L/8//y//P/8//0//X/9f/1//L/8//z//P/9P/0//X/9P/0//T/9f/z//L/8P/z//P/8v/x//P/8v/z//P/8f/y//H/8f/x//P/8f/w//P/8//v/+//7v/u//D/7//t/+7/7v/w/+7/7//u/+3/8P/u/+7/7v/t/+7/7//t/+7/7v/v//D/8f/w//H/8P/u/+7/7P/s/+z/6//s/+z/7f/s/+//7//x//D/8P/v/+7/6//r/+v/6v/s/+v/7v/u/+//7//w//H/7//w/+7/7v/t/+//7v/u/+7/7//z//P/8//1//X/9f/3//b/9v/2//b/9v/1//b/9f/2//j/+//7//r/+v/7//n/+v/4//n/+v/6//v//v/8//3//v/8//7//f/+//7//v/+//7//v///wAAAAD//wIAAgAEAAMAAwAEAAQABgAFAAUAAwABAAMABgAGAAYACAAHAAcABgAGAAgACQAJAAkACQAIAAoACgAHAAcABgAHAAcABAAFAAUABAAEAAMAAwACAAAAAQD///7//v/9//v//P/+//3//P/7//v/+//6//r/+P/4//f/9v/0//L/8f/y//H/8f/0//P/8//x//D/7f/s/+r/6v/o/+z/7P/q/+r/6f/r/+z/7P/s/+v/7P/q/+f/5f/k/+X/5f/l/+f/6P/p/+j/5//n/+n/6P/o/+j/5//m/+j/5//o/+j/6P/p/+n/6v/p/+n/6f/p/+n/6P/m/+b/5//o/+j/6P/p/+v/6//p/+v/6v/q/+3/7P/s/+v/7P/t/+v/7P/s/+3/8f/w//P/8P/y//P/8//z//T/9f/0//j/9v/3//f/9//4//f/9v/5//n/9//5//j/+P/4//f/+f/3//n/+//7//3//v/8//z//f/8//3//f////z////6//3//v/+/wMAAQACAAEAAQABAP7////+//7/AQADAAUAAwAEAAUABQAFAAUAAwAFAAYABQAFAAYABQAFAAYABAAGAAYABgAHAAcABQAEAAMABQAHAAcABgAGAAYAAwADAAQAAgAEAAUABAAFAAQABAAFAAMAAQABAAEAAAABAAIAAQAEAAMAAgAEAAQAAwAEAAMAAgAAAAIAAAD+/wAAAgADAP//AQABAAAAAAD///7//v///////v/8//v//P/8//3//P/9//////8AAP7///8AAP3//v///////v/9//z//v/9///////9////////////AAD8//3//P/8//7//f/+//7//P/8//v//v//////AAACAAMAAgACAAEA/v/9//7//v///wEABQAHAAQABgAIAAYABwAIAAcABwAGAAQABwAGAAcACQAKAAoADAAMAAoACgAJAAcABwAGAAkACAAJAAgACAAHAAUABQADAAQAAwADAAEAAgADAAAA/////wEAAQAAAP7//v/8//z/+f/5//n/+f/6//r/+//6//j/+v/4//f/9v/1//b/9v/2//T/8v/z//L/8//0//P/8//y//H/8v/w/+//7//u/+7/7f/s/+v/6//q/+n/6P/o/+f/5//n/+f/5v/l/+P/4//i/+L/4v/j/+P/4f/j/+L/4v/h/+L/4P/f/+H/4P/i/+L/4v/i/+H/4P/g/+D/4f/h/+H/4v/i/+P/5P/j/+P/4//j/+H/4v/g/+H/4P/i/+H/4f/g/+D/4f/h/+P/4v/i/+P/4v/j/+T/4//i/+T/5f/n/+X/5f/m/+b/6P/n/+X/5//l/+T/5//o/+j/6f/s/+3/7f/u//D/8f/v//H/7v/v//L/8f/w/+//7//x//H/8//0//T/9v/2//P/8v/z//T/9P/1//f/9v/2//f/9v/3//f/+f/5//r/+//5//z//P/8//z//f/8//3///////////////7//v/9//7//P/9//3//f/+////AgAAAAEA///+//3/+//9//3//P/8//3//P/9/////v////3//f/7//r/+v/+//3/+//3//X/+//7//7//f/8//z//P/+/wEAAgABAP//+//5//f/+P/8//3//f/8//v//f/8//3/+//8//7/+v/5//r//f/8//3//P/+//7/AAD///z//v/9//7//P/8//v//f/7//z//f///////////wEAAAABAAIA/f/8//7//f///wIABAAFAAYABAACAAQABAAEAAQABQABAAEAAgACAAMABQAIAAYABgAGAAgABgAHAAUAAgADAAMABAAGAAcABAAEAAUAAgAEAAQABwAEAAMAAgABAAIABAAEAAEAAQADAAQABQADAAMAAwACAAQABQADAAUABAADAAMAAwAEAAMABAADAAAAAAD//wIAAgAAAAIAAgABAAEAAAD9//z//f/8//7//P/9/wEAAQD///7//P/9//3//P/6//r/+v/6//n/+v/7//f/9f/3//j/+//6//f/9f/z//P/9f/0//D/8//y//H/9f/y//L/9P/y//P/8//y//D/7//s/+7/8P/v//P/8f/x//T/8v/w//H/7v/w/+3/6//s/+7/8P/r/+//8f/z//X/9v/2//L/8f/w/+7/8f/w/+7/8f/w//H/8P/x//P/9P/2//b/8v/y//L/8v/3//f/9v/2//P/9//2//f/9//z//P/9v/6//r//v/+//n/9//5//r//f/+//v//f/+/wAAAQAFAAQAAwAEAAUABAAHAAkABwAJAAgACgAMAA0ADQAPAAwADQAPAA8ADwAQABAAEgARABMAFAATABUAFAARABEAEwASABYAFAASAA8AEAARABAAFAAQABEAEQANABIAEQAPABYAEAAQABEAFQAWABUAFQARAA8ADgAMAA4ADgAPAA4ACwAJAAwADQAOAA0ACgANAAoACwANAAwADQALAAkACgAHAAgACAAKAAoABwAMAAoACwANAAgACgAFAAIABgACAAQAAwABAAIAAQD/////AQAAAAAA//////7/AAD9//v/+v/3//T/9f/0//f/+v/5//n/9f/3//b/8//0//P/8v/x/+//8v/y//T/8//z//T/9f/z//T/8//x//H/8f/w//P/8f/x//L/8f/z//L/8v/x/+7/7//v//H/8//z//P/9P/z//L/8v/y//L/8v/z//D/8//0//f/9v/5//j/9v/2//L/9P/2//b/9f/1//b/9//5//r/+v/5//n/+f/8//z/+v/7//v/+v/7//v//f/6//r/+//6//r/+f/4//j/+f/3//j/9//5//n/+P/6//3/+//6//n/+f/6//v/+f/3//j/9v/4//f/9//4//f/9f/2//b/9f/1//X/9v/0//T/9f/1//P/8f/w//H/8//z//P/8P/y//L/8//0//H/8f/y//L/8P/v//D/8//z//L/8//0//X/8f/y//L/7//w//D/8f/w//D/8f/z//T/9P/y//P/8f/x//D/7v/v/+7/7//u//H/8v/w//T/8//0//T/8f/x/+//7//w//L/8P/z//T/9P/2//b/9v/2//X/9P/2//f/9v/1//T/+P/5//j//P/7//v//f/8//v/+//8//z//v8BAAMABQAEAAIAAwAFAAQABQAGAAcACAAIAAYABwAJAAkACQALAA0ADQAOAA0ADAANAA0ADQAMAA0ADgAPAA4AEAARABAAEQARABIAEwASABIAEQARABAAEAARABIAEgAVABUAFgAXABUAFgAWABYAGAAaABkAGQAZABcAFwAXABUAFgAWABYAGAAXABoAGwAdABsAGgAaABsAHAAbABkAFwAbABgAGQAZABoAGgAbABsAHAAaABoAGAAYABgAFQAWABQAFAAUABUAFgAVABYAFwAYABYAFwAWABUAFAATABIAEgARABEAEgARABEAEgASABMAEgAQABAAEAAQABAADwAOAA0ADQAOAA4ADQAKAAwADgAOAA4ADwAQAA0ACQAGAAYABgAFAAQAAwAFAAQABAADAAUABgAGAAQABAAFAAIAAgACAAMAAQADAAQABQAFAAUAAwADAAQAAwAAAAAAAQAAAAAAAAACAAEAAgACAAMAAgACAAQAAwADAAEAAgAAAAIAAwADAAQABAADAAMAAwAEAAMAAwAFAAQAAwADAAYAAwADAAMABAADAAMABQAHAAYACAAJAAcACQAKAAkABwAGAAYACQAIAAsACQAJAAsACgALAAsADAAMAAsACwAKAAsADAAMAA0ADAALAAwADAAOAA8ADgAQAA4ADgARABAADwAOAA8ADAANAAwADQANAA0ADAANAA0ACgANAA4ADQAMAAwACwAJAAYABwAKAAoACwAJAAYABAADAAkACgALAAsACQAJAAcACQAHAAgABwAGAAQAAwAFAAcACAAHAAoABgAHAAgABgAFAAcABgADAAIAAwAFAAQABgAIAAQAAwADAAQABgAFAAMAAgAAAAEAAQAAAAIABAAFAAUABgAHAAgABwAHAAkABgAFAAYABwAGAAgACAAIAAkACQAJAA0ACwAMAAsACwALAAoADAAKAAwADgANAAsADwARABEAEgATABIAEQARABAAEgARABMAEwATABUAFwAWABcAFwAYABYAGQAWABcAEgAUABgAFgAdABMAGAAZABoAGwAXABcAFAAWABUAEwATABgAFgATABQAFgAYABgAGQAWABUAFwAWABgAFgAVABYAGAAWABUAGQAUABUAFgAWABQAEgATABIAFAATABIAEgAQABEAEgASABAADgALAAoACQAKAAwADAAOAA0ADAAJAAoACgAJAAoABwAJAAcABgAHAAYABAAGAAYABAADAAMAAwABAAIAAgD///7//////wEAAgACAAEA/v8AAP7//v////7//v/7//n/+f/6//v/+f/7/////P/8//v/+//6//z/+//6//v/+v/8//r/+v/7//n/+f/5//n/+//6//n/+v/6//j/+f/6//z//f/9//7////+//3//P/8//r/+v/8//z//f///wAA//8BAAAAAQADAAIAAQABAAMAAgABAAIAAwACAAMABAAIAAYACQAGAAgACAAJAAYACAAKAAwADwAPAA0AGwAmAFUArABGANj/Yf9W//3/RgAxAOr/CgA5AC4A2P+t//r/TwApAM7/yP/r/x4AJQADAPf/BQASAA4A//8BAA8AGAAPAAMAAQAcACkAOwBUABwA2P/K/9v/GgBHACgADwDv//T////w//T/AwAtACYAAADm/9////8LAAEA/P/5//L/4P/k/+D/5P/c/97//v8KAcsBMAFHAOL+/v7e/yAAy/+k/2gAvgBkAHn/X/8yALQALgCj/5n/5f8WAP3/5P/u/zsAIwDt/7r/2P8MAPr/vf+x/9b/CgBGAK8AzgBhALb/Vv+f/z4AVABiAC8ACQB+AK3/q/9K//7/vwBhAFgAbf/3/yAAwP/g/8T/KQBAAOv/wv+5/0MAHAD8/xoA6v/i/yoAxv+//0AA1f8EAC0A3f8qAPT/CgBDADYA+P9I/8P/KAC+AD0A8//W/0MARQCF/+b/BQCLAGQA1/+d/yQAWgAsAIn/vP8zAEUABwDT/3b/HQBnALT/CgEg/xAAqQC9/wgBIP97/0IAxv/m/3f/JgD3Ab4BrgHk/yv/4v9F/93/rP9gAN0AsgAtAIH/GQBVADUAXgAaAC0AQf8j/yP/UgBFAJD/SwCW/ysAWv8q/zv/hf9EABr/0f9xAOoAQgG2/6T+0P8NAIr/lABPAN4AXgCb/73/3f8TAOEA3f/b/+UA0/+QAG8AXf52ACwAev/WABz/1QBd/x0AbP+e/zEAm/8PAML/wABt/wQANv8G/xwAAQDN/7YA0v9bADH/5/81AMX+6gCt/6//kgG6/q7/ZQG0/roAUv/U/48AQP8EAYn/5v/FANT+WwCJ/5P/NAFU/yAAZP+zANT/A/89ALP/WwBSAF//Z/9PAd7+KgC0/4z/JgHS/ycAR/9vAN//Mf88AMz/CwDKAND+jQBBAIX/EwAs/18A7v/x/8H/3v8BAHkAc/8BADMAnP9BAJD/CwALADcAwP8mADYA+/8vAFoAFgDF/xwAh/8vAPf/gwAjAPf/+/+g/+wABv8jAEoAz/9oANT+2AB+//L/FQDJ/1MAaf+bAKz/YQDM/8T/zf9W/6UANAAgAKb/LQCyAHn/Zv+s/7MAIgCs/xMAKwDZ/67/av/u/80Agv9zAI7/fAA+AF3/PgA9/wQBaP/k/6MAz/+P/7v/sv8HAHsAIf++APz/UwDB/wQAZQBH/4wAzf/J/4IALgAYALj/hf8fABAAkf9PAOH/nf8pADr/yQD9/0j/VACn/8f/CQCx/yQABwAAAFYATv8iAAAAwP9/AFH/VQBtAEb/5/8WAH0AIADL/7D/8f+C/4kACgC1/10ALP8+ABcA/P9uAPX/GwDb/4v/HwDb//X/6//h/5IACQCF//v/w/++/7D/2v+fABEACADI/ygANQB5/7X/8v82AFYADgDC/+H/JQCj/3n/+v/3/48Axf+Z/0QAUgCo/07/k//s/2kAw/8nAOf/AwAfAKX/MwA7ABIALACT/1QACgC8/xcAc/8qAEQASADl/97////I/4r/BQD6/0kABwDD/04ArP/P/1r/6/+//9b/WwAuACIAr//z/wYA9v+w/9//2/8kAMH//f8tANH/9P+H/97/jP8LABUAgP/w/5P/z/+7/43/9/+y/xYAnP+5/9z/lf/j/6r/EAAoABcA6P9o/4v/7v+2/xgA/v/8/0kA3/8aAPz/2v/x/8r/BgAHAPP/MQAQAA4ACQDT/+T/3P8CACkAQQAOAAIA7P/m//P/t//3//f/BwC1/33/3f+d/1T/QP9V/5P/Z/8o/13/XP8p/xn/FP9X/1v/SP8l/0H/eP9//6z/kv+V//T/AQAUAIcAYwBkAF8AigC8AKkAFAEsAVkBlwGYAXEBPgEtARUBKgEzAUgBMAEXAeYApQBBAAYA+v/b/+r/q/97//D+sv5O/vb9E/4V/iH+Ff4O/sr9of2Z/Y/9uP3+/Tf+jP7Q/iz/Tf9i/4v/mP/W/ycAqgAyAXsBtAG0AZQBhwGTAcsB9wGPAgQDIQM1A7YCTgLdAZcBsgGaAbIBkAF8AUoB2ABKAK//cP82/zv/Pf9Y/0n//f7S/oL+U/4m/in+U/6G/s/+0P67/p/+Vf5A/kH+i/7f/un+1/60/qb+o/61/uX+I/9h/77/zf/C/+j/FwBQADQAPwB+AKUAwgCsALsA3ADCADcBCQKkAvsChgJFAuQBqAF6ARUBggGlAZ0BIQHZAOoAjwDv/zv/NP8b/zH/f/93/53/Uv8Q/7T+T/6s/uD+Cv/1/hT/SP83/yj/R//l/wwA///p/wwAdwBvABMAhf81/+T+uP7B/s7+4f6y/mP+Mv5V/oT+sP7d/iL/Xv+C/4j/g/+G/4v/mP/0/2gAagG4AlEDuAPsAosCUwIQAngCQgLNAuoClQIKAloBFQEyAE3/RP4A/gb+Gv5m/mj+ff7L/W79LP1t/Rb+cv7h/tH+Wf/b/04AgAC8AHABjwGmAaIBKQKfAr4C1QKtAmwC/gG8AQkBmQAhAEn/jf6w/Zr9lv0a/Zn8G/wF/DX8BPwd/IH86vxn/Wf9wf0B/oH+5f49/83/KwEPA8gDYgTcA/MDwANdA5YDOwPUA9EDpgMBA3YCPgIBAY//Uv4U/tL9sv3L/ef9Rf7C/YL9S/06/a39/f2H/uv+ov8TAK0AGAGOASIC4gEGAgYChALwAv4CGgPUAmsC4gGCAcgAIABz/6/+Bf4b/cL8ZPwP/Jn71fqv+t76IftX+9z7YPwv/aX9//1w/p/+QP+X/10AVQFnA/UEuAX8BSEFQQVzBHsEGASnA1AEJwQNBC4D4AL0ATsAXf47/Qj9wfwh/S/9t/3E/U79Gv2n/OP8Xf3O/Uv+Ff/8/+4AiwEWAr4CuwKaAnkCsAIyA34DzQPTA40DGgN1Ap8BtADs/zv/fv7J/T/9wvxo/MD7Hvt2+if6P/pj+ij73/uS/G/96P16/uz+Ff+E/8D/4wA+AigEkQVhBqkGtwV0BYoEjwT+A48DBATPA5QDyAJ4Ak4BgP+p/Yr8Hfzs+2n8pfw9/Xb9U/1d/Q39Qf2b/d39gf7E/9sA5QGgAgEDogNwA4gDaANsA9sD3gMDBPwDwQNBA4QCbgFdAEv/ef7z/Q79mvzn+0z79PoF+r35Mvku+Zn5FPod+//7//y6/Vj+5P4l/4X//P/FANYBOANKBUwGIgeQBuAFSgVOBCYEKQNbA4ADVwPmAlQCvAFPAKX+7vwr/Nj7CPxl/Kj8kv3O/dL94P3u/UH+gv7//uL/EQHcAQQDWwO9AxoExgOpAyADSgM+AxQDLQMxA9MCPAJbAR8ALf8I/lv9gPzI+4v7z/px+i36nPlh+f34K/m8+Zz69vvo/An+wP5X/6X/y/9EAKQAmQFpAuQD5AW3BpUHuQYEBkcFJwTHA8kCDAP4Ap0CJwLcAUMBCgB//tb8Ofzm+x38Xvza/ND9Iv5v/qL+3f46/3v/7/97AIgBawIzA3EDGQSQBD0E3gMqA+8CgAJvAocCZAIXAosBwgCF/7/+xv3Q/A/8PPvV+j36+fnu+XX5XvlJ+Vz57vnh+gb84fzn/dP+bf8KAMAAIwGEAdwBqQJnAycFlAYyB3UHTwb9BbcESgSjA7ECxgJCAhMCtwGhAQkBuv8Q/vP8lfw1/Fv8o/xJ/fr9Yv70/in/gP/J/9n/5f9yADwB4AFnAukCmQO+A4sD7wJbAggCtgGSAX8BdAFJAc0AKwB4/9L+y/3z/Cz8UvsJ+4L6f/p/+n76tvqa+v76p/t+/A398f0A/6v/dwAwAakBEwIQAm4C+wJsA10FxAWJBmUGbgVdBQ4E5QOOAsMBsQFBASAB+AAdAYwAff8A/jP9kvwy/GP8afxV/Tj+8v6j/w4AlwCFAEAAPwDNAEUB7gGrAkIDAwQfBNAD9AJYAgsCiwFSAXEBYgEyAeAANgCo/+f+5P3L/NX7Tfsq+7r6v/ou+xf7aftA+5j7FPxv/FL94f0w/wsA9AB5AcABIQLyAeMBEAJKAlIDfAQdBbsF5gRhBIMDtQLOAboA3QCvAIUAnwDSALgA4v+C/lL9d/wm/ED8dPxm/ZH+VP8GAG4AsADBAK4AmgDVAG8BOgLgAj8D7wNKBPsDMQONAjQCrgGSAYYBYQFAARsBhQCx//T+8/2+/OD7efsB++H6wfrh+sj6zPod++T6Ofu1+3P8S/1w/pT/MwDpAC4BYgEvAfkADwEsAbYBYAMyBBUFTwVLBNwDpwJhAlUBzABFASkBZwGGAaoBLgECAJT+c/2t/Kn8F/2R/cv+vv9QAOAAyQDxAPAAuACpAOUAlQFnAhIDfgMNBPoDbAONAtwBhAE8ASwBEAEbAQsBoADJ//z+G/4Q/Qv8lfs7+wH7F/vg+hH77foN++n6xfpu++D71Pzy/Ur/IQCzABoBIAH8AKwAjgCFAPwA1wGWA3kESQUSBQoEdwN2AjcCXAF5AdMBwQEDAvUB6wEqAdj/dP5v/RT9Vf3L/YH+pv8qAI4AtQB3AJAAjQCDAIsAHgHUAYgCEANwA60DPwOZAskBVQEuASYBTAEmAQQBqQAKACb/aP6y/ef8RvwB/OP7ovvE+1H7PPsw+xf7OPsE+9z7XPxE/VH+G//s/xgAdAAlAAQA5f/A//P/iQAxAZ0CzwM1BJUEjwMlA38CRQIqAtEBiAKoAqwCgAJIAuQBnwBn/5r+Qv6H/gb/gP8/AN8AuQCjADoAagCyAJQA1QA7AfIBTgK7AsECywKSAtgBNgHRAPMA8wD8AOQAsgAsAHf/tv7s/XT9+fya/Fj8avwo/OH7R/vW+sn6sPr8+vP6sPto/C79NP7L/oP/nf+R/3//nf/F/+D/GwCWADEB3AFtA+sDiQQ4BHADWgPRAkkD1gIDA4gDTwMBA28CRwKEAXkAn/8p/z3/e//l/yQAiQCCAD4A+f/Z/4wAtwDcADQBfQH3ARICEALkAbcBhQHpAIkAmQCnAHwAPADS/y//jf4b/nz9G/0j/fH8ivxE/AL8b/sX+5n6q/rF+vj6bvul+2H8Ff3C/Ub+0f4w/zr/cv/V/zUANwBuAGwAzwAwAQYClgPfA+8EVgS+A6oDWwOuA+ICagOjA2MDGAO+AqUC7QEoATUAoP+t//j/BgAnAL4AfwAtAOX/8v9uAIsAxAD0APoALQFDAdgAwQCqAGYA3f+c/8T/kf9u/z3/mf4b/tz9xP1x/WH9m/02/aX8m/xJ/Kr7k/sS+0D7hvsf/Jr8m/xm/cL9Cf5P/rD+Q/9T/9j/MwBBAGgAUwA0AIkA+QARAooDSQR5BdYEbQQxBOQDCASQA2QEnASDBEYE2wOvA/kC9QH3AEgAOQAzAB8AXQClADUAr/9A/xf/if+q/9X/rf/G/7v/jv9V/zX/Zf8M/9f+t/7f/vL+Av/t/qT+g/59/oz+YP6S/nH+HP6w/W/9OP2q/Jj8Gvwi/K78AP0c/e38Qv1p/WL92/02/uD+Rf+P/63/tv/Y/8H/lP8dAPAA1AHTA8AE+gWaBeYEtwQ+BNAEkQRLBeYFugVRBYkEBwRKAyQC7QAZAO//7/+6/6D/ov/7/lL+s/1x/er9Tf6U/k7+Nv5L/i/+/f39/XX+vv7M/uT+H/9i/5j/jf9V/0v/iP+8/6X/sv/I/0f/pf4y/t39h/1M/fT8t/zn/EL98/yC/Hf8hvzN/Az9uP1L/tf+//4D/wP/O/9Z/2P/8P8IAe0BrwNKBUoG2gamBVcFzgRiBcMFCAb7BsUGNgb+BPoDUQNbAi8BRADQ/8n/b/+7/nP+xf3o/I38BfyA/C/90f26/Xn9aP1J/WP9bv1Y/vX+fP+p/7T/v//3/0sAKwBTAJAAzQCwAHwAVgDF//3+jP4h/uL98P26/RT9lfyk/Eb85PvH+/D7Qfyi/En9of0J/m7+gf6X/tr+qf/Q/20AAQHeAecCwAMGBncGRQeWBrIFoAV6BYcGJQaWBpkGvAV5BEgD3AIGAt4A2P/7/oT+L/6w/f78i/zc+4D7S/t3+4v83/xW/SH9Dv3h/B39tf0j/kn/7P9IABsAOQBWAIoA4wAWATkBGwEyAa4AIADv/3r/+P6b/nP+eP45/sP9G/1t/Bz86Pv++yb8nvwi/WH9ov3h/SP+eP67/jb/wP+dABsB0wFEAvAC0wNyBFMGlAZjB6oG1wXeBcgFiwb4BVcG8wXvBJsDTwKaAecA/f///kH+7P1i/Wb8pftN++X61/ot+4X7iPzC/DX95fzU/Pf8Lf0q/tb+VQCpAOoA2gCZAK4A4QCRAa8B3AHSAZgBCwGUAGsA3P+9/7H/Zv8z///+Y/5n/dL8bPyG/ML8DP07/Tj9iP2M/aH9z/2c/jz/7f/IADEBzgGtAQ4CCALjAmsD3gSBBs0GWQebBUEFzQQPBR8F2gRmBYMEfAPUAd0ATQCQ/6T+u/1K/e78Rvy0+277Afu7+hv7Z/se/Af9F/0d/QP9Cf1e/R7+K/8IANIA0ACaAHEAeQDmAFYBEAJoAlcC/wF/AfEAngBsADkAbwBXAAsApv8l/0b+XP3b/Gn83fwZ/SX9Rv1I/X79gP3p/Vz+Uf/y/3kA5wDWAGgB/gBoAbUBsAJnA04EPQbTBTsGoAToA80DCgTQBA8EhgTJA9ECAAHp/3z/z/5l/rb9g/0z/ej8Cfxf+xP79Ppw+9j7ifwn/Q395/wF/TP9gv1e/gL/lP+PALIAnQCbAOEARgGzAWECmAJzAhUCtgEgAfEAKAESAQ8B9gBjAJT/Cv9v/tL9hf0x/Wn9bP1u/V/9U/21/eH9S/6F/kT/HABWALQAlgDSACEBQgHWATkCLwNNA3sE7AT1BAIFgQOcA1oDDASdAxIDHgMiAi8Bov8y//b+yv5X/pL9Vf3v/BD8K/v4+vr6Mvu2+y38mvy6/I78hfzc/EL9+/2l/m//fAAdAeAAygAWAUsBugFLAv0C9wLFAncC1wF9AYkBjQFqAWMBFQE7AMP/aP/M/mT+J/70/cT9H/4o/iL+Df5G/oP+lf5E/73/SQBqAHcAfABxAAABBQFUAWkB6QEDAmoCoQOjA/QDjgIsAugBEQI7AnAB7wF4ARoByP8G///+uv5F/nX9Xv0W/VX8wPuo++H7I/x0/Hz8dvzg/Pv8QP3l/X/+Av+I/yIArgBdAXABYwGEAcIBegIGA5EDmANWA/QCVwIQAhICKQIGAgMCqgEwAbYAQQCl/x7/7/6T/mb+cf5k/jP+IP4p/oH+kP6p/sj++/5h/1n/i/9g/9X/6P+1/8//7v+8AIwAIAKzAhQDwAJoAcsBkQGjAvEB9QFSAukBXwHA/5D/PP/t/lz+D/43/on9s/wF/Ln7zvsx/JT8tfxO/dX92f1T/rX+Bf9X/+D/kwA7AfYB8wE0AmACtQIQA0QDigNVAz8DIAPjAsICeQJKAikCCgKsATsBzAAMAIL/Bv+0/jn+Cv7z/fL9CP7p/f/9sP3B/az92/02/mb+nf5x/tj+3P7+/sP+4f47/+j/GQBVAbACqgIMA3cBhwFtAUECNQKMAXgC9AGbAfL/Tv8U/9T+tP4C/hn+x/0K/Wr8a/zg/EL92f0Q/oP+Cf8m/0j/cf/F/yUA3gBAAeYBhAIeAiICHAJOAoIC7gKOA20DbQNCA8ICKQLeAdsBowHkAdYBXAGsAPH/Vv+u/pz+R/47/i7+HP7r/X39cf1c/Tj9NP2F/eX9HP5C/gj+C/5C/m/+Yf7A/jX/8/8MALcAKgIkAqMCWgFzAb8BWwJbAlsBTwIdAusBcgDC/7D/rP+Y/wj/TP8v/6r+7v3E/SP+hP79/hv/kf8gABgADQDG/wcALgCWANUAOwHxAdgBCALaAfQB+gFQAr0CowLOAqQCQgKkAV4BPQExAYUBYQELAYoA2/8R/4L+Z/5L/jL+Hf4A/sD9eP0+/Sz99Pw//Wb9xf0v/jX+DP7r/Vv+Xf5F/nf+5v7O/+H/qgD2ARcC2gK5AYIBiwEgAjkCUwFeAowCtQJXAZsAZQBZAG4A3P8KAP3/v/8J/8T++/5J/5z/lP/F/y4ATwA5ACIAPwB2AN0ABwFQAewBxgG4AXwBUAFgAb4BWwI/AjYC+wGTAeIAfwBvAHYA3ADnALMAaQDZ/wX/Xv4x/i7+J/4K/hr++P3a/dT9sf2k/ab90P09/p3+x/58/l7+kv6S/qr+gf4I/4D/EwAJAFUBBQJzAmoCRgHIAeQB1wLyAR4C4gITA3gCBgH4ANkAKQGhAHcAswBOAH3/qP6H/sP+N/9//7X/YACNAB8Awv+r/7//4f89AJMAPwFkAQgB0gCxAMQAwwBMAWkBRAE/Af0AmQAhACAABwBCAK8ArACHAAwASv+o/l7+cP6G/m/+dv5y/i7+Df7Q/eP9vf0K/k/+nP7s/nf+W/4h/of+kf6G/qv+zf6Z/+D/rwD9AU8C6wIKAsoB5gFTAsQCKgIYA0sDfQMoAi4BuACQAIwAyf8IAN//fP+D/g7+Av4m/rD+7/5h/9L/5P+K/3z/kf+d/9P/DgCNABsBIwELAdkAqwCyAOAANgEjAVEBPQH6AH8ARwAvABMAhwDIAOcAqQAtAFj/4/7S/qz+of6C/pL+if5w/n3+Sf4Q/tn9Lf5X/qz+of5w/p7+vf75/s3+x/7T/jH/5f9cAPgASAKTAkMDigIaAioCiwIAAyUC7QIAAxMDrQGDAPz/wf+1/9n+Gv8n/8f+8f1j/Yz9y/2D/tL+Rf/x/+j/xv/K/wcA//8wAEoAwQBdAWkBDQHKALcAnACiAK0A4QD7AAwB4QCJAGcAEgAbAIcAJQFKAR0B0gAPAMP/O/8P/+7+Gf8Z/yf/Kv/r/qX+Ev4K/i7+TP6c/rX+5P7o/tT+rf6b/rH+bP4B/3T/fACUADMCewIeA9gC3QEyAtMBHgPPAZECcAKXAoEB3f+z/+3+Rf8r/n3+i/5L/tD9D/1F/VT9I/6U/uz+7v/k/0EAOwCdAJ8AQwDAAIwAbAFVATgB7wDRAMYAZgDwAN8AEgHtAEABIQHUAMUApgA+AaoBHgL6AZ8BNAFhAMr/ZP92/3T/bP9s/yf/Av96/gf+rf3V/SP+WP5N/mj+xP6J/tL+Sf6b/gr+hv7x/tb/fQD7APcCiwKiA+UB7AFjATsCUgJTAZIC2QEMAr7/Sv+c/kv+Ef5c/QL+C/4o/oH9H/2V/dj9w/7+/tv/tgCzACIBDwFFAZgAjQBUALUAgQF7ATQB7QDPAHoAhQDJAA4BNAG9AbwBigFgAUMBXAHUAZsCfAJbArYB2gD//4H/WP8K/xT/1v7g/nP+YP7R/XP9Jf1o/Zf9oP3r/ez9U/4x/pH+SP4j/tz9QP7v/qf/bABHAuECfAPXAtsBawEaAdoBbwCCAU8BeQEBAMb+bv5c/Zz9mPwe/aX9L/4K/sP9Uf5b/or+/P6T/xIBewHxAfgB2AGuAbQAlAATADEBmgF6AXUBBQH4ADYAqQCVAAMBvgH/AQsCwgEHAowBwgE5AnwCawIRApgBfQD+/4L/2v6x/nH+Zf7e/fX93P2D/XL9OP1P/fv8Yv2h/UX+c/6x/oD+df48/jb+mv5u/0gASQEXAysDwQMyAqcBwgAfAd0AFgAMAXsAxgD5/qr+wv1M/QL9Zfx2/Rb+5v7i/j3/Yv80/2b/rf+JANoBfALeAvoCiwL1AeIATQAvAAgBOgE5AVcB9QDbAHoA3QDDADMBpwHbARYCXAKbAhsChgKFAnMCGQKoARkBVAARAEP/xP5F/vL9eP0y/YD9g/1Q/Sv98fz2/P38e/2p/Un+r/6v/t/+iP6k/jn+y/4z/wEAjQArAqwCGgOoAlEBdQC9/zwAvv6r/5P/HwC0//T+mf5V/YH9hvww/Uj+jf9nAH0AjwAlABAACwBhAIgBnQL+Ag8DzgJLAlMBLAB8/8P/oQCkAO4AJwEqAUsBCwH1AP0AqQHsARACtQIrA0YDEAPVAhYCmQFCAaoAKwDN/1b/Wv6x/TD9o/x3/Gz8y/z1/Fb9P/3+/A39AP3Q/fr9+P4f/4b/Y/8k/zj/3P4+/xn/lf/U/9cBgQJHAykC9gDY/0r/bP8s/mT/Xv+PAN3/ff8H/0P+Jf4x/TT+J/9AAK4AswC5AKIAjwA0AHkAegEWAiwCawKCAiwChgFKAGf/lP8oAEEAigA6AZYBzgG3AXQBeQGVAd0B8AGoAksDSwPyAiIChQHAAFUA2/9u/w3/j/7s/S/9kvwz/K775PsX/KX8J/1t/eX9kv0p/sT9Wf5l/hD/T/9l/8X/WP+X/93+AP+B/r7+If/UAJ4BgwL5AdwAGwCd/5//Sv6R/7r/fAAyABcAIQCP/6n/hP56/vH+q/8vAFoAvgDiAMQAxgCnABsBXAFyAegBBgI2AqMBbACN/7D/RQBiAOoAhAHaAVICSQL3AfUBPAJHAh8CpgIbA+MCmwLuATEBdwD+/zf/bP5P/tL9Vf3U/LL8TvwL/AX8Zfzu/Kr9Bv4H/kn+cP53/kD+wv7w/nj/rf/l/6j/bP8v/6n+m/50/u3+SQBeAYwChALgASgBRAApAMf+of/X/2MAowBSAPUAbQBKAMr+Lv5x/qj+if/l/2kA7wAyAfEAXAAVAScBbgGuASoCawKIAikCAQH1AMYA7QCmACMBhgFnAuYCvALEAowCcQK9Ac8BzAH1ASMCzwFPAbkALAAw/zz+sf1Q/UP95/yz/Lr86fwK/Q39J/1o/c79B/5G/l/+rf60/tf+t/4E/zX/Tv9U/xL/A/+s/oz+OP41/jf+o/4PAEYBWwKLAsQBLQGwAJ0Ayf///3IAcgCxAGUAqABaAOL/4f4N/lT+kP4q/83/hAAUAVwBPwH6AIoB1gFfAooC9AL8AtYCRQIVASAB3AAoAQwBNwFyAecBegI7Ah4C7AGqAUgBagGIAa4BxwFpAYsA9f97/8P+G/6h/Xb9Xv1a/S39Jv1p/Yz9nf2S/QP+Uf5F/v/9wf3u/e/9/v3S/S3+h/77/s7+mf58/jT+7/3I/TD+iv4P/9X/MAEYAtgCeQItApgBOgHSAAoAewBQAF8A3/+G/+X/tv+C//b+0/4g/0z/+f85APMAxgEFAhwCdQIsA0kDcQNjA1ADFAPsAgoCeAGBAVEBAQGOAMAA3QBcAXQBYwFmAZABpQFQAVcBSQEOAZIAIgDU/3z/EP9o/tj9d/1L/Sn95PwC/UT9a/16/W79Of0q/TP97vzd/NP8FP1P/YH9y/3z/U3+Y/57/mn+Pv5M/i7+af7S/g//Uf8sAI0BfgI3A/8CfAL/AYwBsQDu/zEAAQD9/87/LADIAOwAxQDs/9H/EgBDALUAAAHVAYwC7QIOA04D9wOZA48DMgPwAuoCjQL8AT0BXAGYAPX/gP9g/+L/cQDoAAkBjAHFAZMBMQH5AKEATwACAJ//jf97/z7/nP47/tL9N/3U/H38bvy1/OL8+vwU/Sr9P/35/Or8yvzO/Or8Lf2q/f79cf6s/tX+3v4B/97+xf6r/rD+x/7d/lL/lv/zADICUAO9A0EDNQN9AiwCMAGuANsAcADTAMIAeAEVAtkBfgGmAKEAZwCDAAwBcAFVAtAC+wIBAzgDlAMtAyMD0QJuAj0CpAEOAVIAJABj/+T+x/7Q/oD/GQCIANAANgFDAQsBswBvADAABgDP/3n/U/8M/5r+2v1R/ez8jvxt/C38Ufyk/NP88vz8/Cn9F/0W/RD9/fxY/YL91P3i/Sb+gv6R/tX+2/4W//D+uf6J/mj+zf4e/2j/ov9WANoBDQMcBDwE+AOeAwMDkAKMAZYBXwH9APwA3gCyAQMC/QF5AeEA0QBnAI4AtgAVAcAB4QEHAikCxgIKA8ACwwIUAqcBEQEsAJP/K/9Q/9T++f5C/2b/IQBnAJ4AzwDiALsAVgBNADcA2/+G/9n+Yv4k/v39wv2I/YL9Vf0k/fj8zPzp/BL9Cf1i/Yr93/37/QD+8v2A/X/9HP0u/WP9wv0z/lj+1v4G/0H/Sv8h/wf/Kv95/9z/OAB9ADkBPwI8AyMEYgRaBBkExwNgA2UCIgKPARYB7gDAAGMBtgHuAYQBAAHLAC0ADQD1/xYAmQAFAXkB6gF+At8CmAJoAtUBJQHOAAcA0/+e/8v/pf9v/4T/M/+h/8//v//i//j/+v/i/9b/vP9n/z3/4f6p/sL+vP6P/hf+zP11/SP9Ff3X/OT8Bv06/Y79v/3o/cH9h/0l/cX84Pz8/Dv9pv2//WL+iP4R/zv/S//N/6X/LQD9/2EAmACnAPYAvQAcAQ8CRANhBCsFhAWgBR4FpARtA4cC7gG7AFwABgCFABwBHQFAAa0AngBAAN3/7P+1/zgAdADiAIQBIgLtAucCFwPKAv0BhAF2ANP/Y/82//L+dv7G/pT+6/6C/3z/w/+l/5r/ev97/6H/af9n/y3/BP8K/+X+lP4P/qf9Ov3P/J78aPx+/PH8d/3i/TP+Sf42/vv9r/1v/Ur9Xv2K/er9W/7s/or/5/9LAIgAvAD5APwAIgEYATkBfQGjAdEB1gFNAm8DdgSDBcwFvAWABX4EpQMdAl0BgwCD/0f/5P7V/10AhwChAFcAewD2//L/8P/w/5kAsQAgAa4BVQLQAqoCuAIcAoIB6gDp/17/3v6R/iL+6v0J/vv9Zf7g/gv/cf98/1//VP9H/1L/Fv8I/6/+d/5v/kT+If7L/W79C/2+/LH8tvwE/ZD9/P2H/tj+8v7K/oL+Tv4m/jf+WP6L/gT/lP8/APQAegHmAeQBAwLVAaoBeQEcASsBEgFjAXQBuwEfAvYCBASgBCYFzwRkBHQDogJ/AYgAEAAm/+3+tv5c/x4ASQCTAEMAVwAXAP3/CQDS/zwASwC4AD4B7wE+AikCOQIDApoB3wAbABD/1/47/rn9bf0z/Vv9If32/WL+6f59/3j/q/+2/+H/ff8W/8n+bP5a/mL+dP5m/jD+9v2//aL9uP3Y/UX+3v6B/xYAVABnAFIAJQDg/6P/l/+F/+X/SADqAFUBhQGPAToBOgHTAMQArwC2AM8A1wAfASgBYgFbAWEBkQEoAt0CWAOTA1YDAwMmAowBjADm/5T/0P7v/s/+kf9IAHsA0wB+AKMANgASADAA9/9jAFQAlgDgACoBVgElATMB+ABlAKv/1P4C/tn9cv1P/S79UP3e/Sz+Of+0/ykAWAD6/8f/fP9l/xD/0f6l/oX+wf7p/ij/R/9E/zn/Hv81/1P/r/8HAJ0AJAGlAdABvgGLAf4AogARAM3/Zv9m/2H/Xf+d/63/5P+7/+X/4P///1cAewDCAMAABAEdATMBXwEMAQkBuAAyAZYB6QFyAhgCRgKkAYEB7wBeAE8AeP+e/17/sf8mACIAbwANAB0A3/+z/9z/mf/c/8n/yv/p/+7/CgD5/zoAHgDX/5//Qv8D//j+Bf/T/tf+1v72/h//jv/w//j/CwCt/3T/Zf9q/1D/Nv8//2v/y/8rAHcAlwCfAGEAOwAjADIATQBeAKoA8ABDAU4BHgGyACYAlP8F/4D+MP4e/jf+d/7P/kb/mP/4/zQAbQCVANAA3QDJAMEAfQBTAA4ACgDg/8b/1P/p/5EA9gCnAdkB/wHgAVMBSgFmAE4A1P9e/2n/Bf99/1f/hP+G/1D/lf85/3j/ev+L/8f/vP/+//r/RwBhAHQA1QDNAM0AhQAxAPP/1v/K/2z/Y/9E/z//Of9i/3H/Xv9i/xP/Jv9h/7D/5v8rAGYAmwDvAPkA5wC2AHUAOgAVADUANgBXAGUAcACXAKEAogBDAP3/lf85/+D+mP5p/kH+Vf57/t3+UP/K/x0AUQB+AJsAdgBIAOj/iP9G//L+Bv/6/jb/YP+D/+f/KgD+AGUBFQI9AjYCFQKTAW8BbwBQALD/Tf9R/wn/mP+N/wIADQD0/xEAkf/M/5r/vv/w//z/WwBlAPIAFQFpAawBfwFOAdoAkQAKAOz/gf8q/+f+uP7Y/t/+ZP9y/8z/4//5/0YAdwDCALQA3gDBANcA7gDRAKwAVQArAN3/z/+t/5//y//b/yoAPwBcACAAwv9p/+b+ov5f/jv+M/5b/qT++/5C/3H/gv90/33/Xf9T/yr/F/8W//z+IP8h/1T/cP+9//X/TwCUAPcAhgHZAYICXAKWAvQBkQE+AUYAdgCs/8j/nv+c/0EA//+UADoAKAARAKL/BwDW/0EAaACXAPoAEQGSAaMBzQGtAU4B2gB0AAAAsP+I/yv/Iv/V/h//Qf+R//X/5v8/AB0ATwBXAHQAlQB8ALAAfACKAHkARwAUAK7/ev86/yb/Lv9J/47/2P8dAE4AZwBBAAIAoP9D/+j+lP5q/k/+bv6V/tL+9P4b/yX/Hf8t/yD/LP8j/0//Xf+f/87/DAAkAEcAjQCgAAUBCgEwAXABzwFKAnYCfQJTApoBdAHdAHsAhwAAABAAp//V/+f/1/8bALn/yf+j/6z/BQAMAG0AggC0AOIA9QBEAT8BQwEYAasAUgDe/1r/LP/w/vL+y/6+/ur+0v4z/zj/X/9q/1X/c/+J/+n/+f8gACcAHgAjADMANQAVAPr/1P/A/7n/5f8KACkAOgBLAEsAMQD+/5n/SP8Q/+T+3v7i/g//Lf9g/4z/nP+d/4X/fP9f/3X/gv+8/9T/BgA8AEsAlQCNALIAqwCgALkAgwCpAHgAnQDpAB0BcwFHAWIByQDAAFsA4v/5/1f/h/9Z/67/AwAEAHYANwBMADkAFQA+ABYAHgD9/wcAHgAgAFkAYwBaAC8A8f+i/1j/Ef/5/vD+C/8g/0v/uP/T/ywASQBOAE8ALQBFADAAUwBeAFwAdgByAH4AaABDACsAAQADABAAJwBOAGYAjQCkALgAwADFALAAuADKANcA2wC7AJcAWgAjANv/pP9a/zr/Iv8U/yX/Kv9h/2L/kf+p/7r/w/+9/8X/uf+8/53/n/+A/4z/j/91/4b/d/+j/87/vP/x/4T/i/+X/1n/wv+X/87/x//4/0kANQBrAEkAHQASAAcACQAXABMAFQAWAC8ATwBGAEIAMAAMAAEA6f/j/9v/8f8nAFYApQCzANQAuwCYALQAkwCkAJUAigClALQA6gDeAMkAnQBpAFUAMQA7ACcAKQA3AEoAfACdAL0AtgCyALMApQCIAGEANgD6/9H/rP+R/2//Vv9N/zz/Pv83/yT/DP/9/uX+2P69/q3+ov6g/qv+p/6//rn+xf7O/s/+2/7X/tX+z/7a/gf/Sv9O/4L/bv87/5n/gP/D//f/DQBCAEIAqgCVAKoAwQCKAI8AiwCeAJwAsAC2AKsAswC6ALgAlgCRAE0ANQAWAPn/KAAMAFsAcQChANQA1gAWAeUA4gDfALQArQCjAJkAiwCGAGwAWQBMAC8AHgD8//v/8P/k/+r/4P/g/9X/4f/X/+j/7v/s//X/4//0//P/6//u/9n/z/+5/4P/YP8m/wX/2P6y/pX+ef5p/lv+Wv5Q/lf+Rv5G/jr+O/44/i7+Iv4d/ib+PP5i/n3+j/62/g7/Mf91/6j/ff+p/9D/6P8+AFoAigCPAMcA+wAAATsBMwEbARkBFAH3APgA3gDBAKsAnwCiAJQAowCkAKcAugCwAK8AtgC8AOMADAEhAQYB/wDVAKgArgCEAGgAMQAlAB0AHwA8ACQAFQDv/+n/1//V/+j/zf/I/8T/0P/f//H/DwAdADMAPwBKADgANAAkAAAA5v+3/5X/Xf8w/wL/0v6m/nT+Vv5K/kD+QP5J/lD+Yv5p/m3+cP5a/m/+bf6B/pb+lP6s/pr+zf7e/vz+Gv8c/0//o//h/x4AYgAvAIYAmgC9ABcBEAEwAR4BOgFJATQBLQEMAdUA3ADPANIA6wDxAAkBEwE0AUgBPwFQAU0BMgFDARAB/wDrAMUA3ADEALEAgwBiAD0AHQAdAAIA5//d/9//3v/7/woABQAAAPj/+P/z//3/6//W/8X/uv/M/9L/5//p/+j/4//K/8b/q/+K/27/V/9A/zv/LP8a/wL/4f7U/q/+qv6q/qr+uv7D/tT+0/7T/uP+5P7d/uz+2P7T/tn+2P7v/uT+8/7z/gf/L/9G/3H/q//t//j/SgAwACgAdQBEAIQAjQCnAMMA1AAcARYBNgE/ATABJwFIAVABWwF7AW8BcAFKATUBGgH7AA0B7gDuANcAtgC2AIwAggBsAE0AKAANABAA/v8JABYADAAUABYAIAAjABwAIQAHAPz/6f/s/+H/6P/s/+L/7v/d//f/9P8JAA8AGQAhACMAKwAcABMA6//V/7r/o/+d/4f/af9Y/zX/Jv8T/wX//v7n/ub+4/7Z/tj+2P7F/rj+o/6W/pT+j/6O/pP+i/6T/qP+sf7X/tn+4/4A/0L/j//B/xcA7P8SAFQATwC6AMIA4QD0ACgBZAF1AY8BdwFIATABQwEyAUgBTQE8AT4BNgEyARYB/wD6AM0A2wDAAK0AswCNAKUAqgC7ALIArgCYAH4AhwB5AF4APwAeAAwADQAWACgAGwAbACEAHQA1ADMAHgAPAOz/5f/f/8f/zP+w/67/v//A/8//uP+t/6z/pf+v/6T/lP99/2v/Xv9Q/0P/KP8E/+v+5f7R/r3+qf6C/nb+Y/5k/lT+Tv5T/kb+X/5o/nr+j/6Z/sH+2v4P/zn/Rf9//7v/BwA9AJMAfgCjAOIA0QAoATEBVAFUAYYBpgG4AesB6wHuAd8B8gHfAeIB6QHNAbgBmAF/AWwBVgFcAT0BIgEPAeAA0gCyAJ0AoAB7AG0AZwBNAFAARQBBACMADwD8/+7/7P/a/9//uP+2/5X/jf+E/2X/dv9X/2n/af9v/3j/gP+L/5L/pv+i/7H/p/+s/7b/pP+d/37/Zf9E/yj/Fv/4/uD+v/60/p7+mv6a/pX+j/6O/pL+kf6j/q3+uP6z/r3+v/7I/uf+BP8j/0T/ZP+L/6P/0v8GAFkAlACxAOYAtQD/ABkBQAGGAYUBrAGxAewBAAIUAgUC4gHCAaUBrwGVAZMBhwFYAUgBJgEJAf4A3gDcALQAlQB/AEYANAAWAAMACQDg/8//qf+P/4b/ff+B/27/a/9e/2L/aP9o/13/Q/9C/zT/O/9O/0n/Xf9R/2r/bP9i/3X/a/92/4r/n/+y/8z/zv/d/+D/5v/p/9X/zP+9/6r/rP+h/5T/h/9z/2T/U/9I/zv/NP80/zT/Mv81/zT/Of9E/1D/Tv9f/1z/f/+T/6f/y/+7/97/4f8pAHIAjwDQAMgA0gANARkBNwFQAU0BTAFqAYsBmAGgAXgBaAEwASYBFAHwAPIAzwC1AKEAgwB3AGIAVwBcADQAQAAnABwAJQAUACoAHwABAPX/3f/D/7r/rP+M/3r/Yf9T/1r/S/9h/0P/R/9T/1b/cP+E/6H/o/++/9P/7P/4/xEAFwAiADoARQBKAEQAPAAtACYAIgAXAAAA8//c/9j/yP+//7L/oP+R/4f/fv99/3n/YP9t/1L/Y/9d/1P/Wv83/zD/Lv84/z//V/9c/2v/j/+S/9P/CgBdAH0AnADLAJkA5gDBANoA+ADwAP4ADQE+AS0BTwEXASIB6gDfAOcAxwD+AOYA4QDeAOYA1QDgANsA2QDFAKAAmgBqAF4AQAA1AC0ABADp/9b/u/+0/6z/qv+x/6j/s//O/+j/+v/x/+3/+P/r////BQASABwAEQAcACkAKQA0ADkAOwBfAFwAagBqAFMATAAtAB0AFAD2/+P/2v/D/77/r/+W/47/dv9s/2j/Zv9j/1v/V/9T/zz/Kv8m/xL/KP/K/sf+0P7e/in/4f4U/xf/Lf+G/5j/KgBpAK0A4QCSAO8A5gCyANkAsAC7AOkA3AAdAR0B8QAPAc0AxQCYAIsAzgDBAK0AyADAAK4AmgCxAOMAtQBmAEQALQAOAPf//f8MAPH///8BAAUACwAPAP7/8v/i/9//8P/5/xMA+f8LAOv/6v/4/9//+f/z//3/CgD8/wQAFAANAB0ALAAyACsABAD1/+7/s/+g/3b/WP9J/yL/Ff///u3+2P7j/tP+B//0/hv/JP8x/1X/QP9L/yr/NP8s/13/ZP+M/47/sf+Z/6L/p/+I/7r/BACDAOgADQFAATEBFwEpAZIA0gCmALYA4QDxAEsBMAEiAfoA0ACfAIwAZgClALYA1QDTANUA0ACtAM0AzwAJAfIA7wD1AOAA7QDHAL8AhQA9AB8A1//q//H/5P/i/8X/2/+8/7D/pv+x/7H/qf/I/+L/FwAKABMABgDp/9n/wP/B/8H/2//5/ycAHAAYAOv/yf+W/07/Ef/W/sH+qf68/sD+z/7G/tX+4P71/vL+If8a/0//c/9q/77/cf+y/2r/df+k/3L/xP+f/87/xP+f/7P/0f9gALIAKQE0AV0BOQERARMBdQDIAIgAlADPAM0AOgEIAeUAvgBwAF8ALQAqAGkAhgCxAL4AugDUAL0AwwDYALsAvwBrAIAATgBiAHQAOgBYAN7/+f+I/7//tP+O/9X/o/8GAMf////k/+H/5v+1/+P/3/8IAAoAEAAzACAAAAACAP//KwAiADwAVwA6ADYA+f/J/6D/Uf8//wP/Gv8G//b+GP8D/yr/5/79/t3+BP8Z/zv/bP+O/8H/uP/P/7H/rP+K/5r/lP/H/7T/v/+5/7n/MgBoAMUA3QDIAPEAsgDYAJIAggCkAFQAjABqAKUAnQB4AGMAOgAhABYAEwA5AFUAagBsAGQAWABhAG0AhADQAJwAuABSAE8APAAZADEA2//X/7L/jP+i/7L/ov/B/57/yv/X/9z/CwDu/xkACgALADUAIwBjADgASgBGABEAKADd/yAAHgA8AHoAVgBpACEA7v+y/13/Sf8B/xP/9P4V/xD/DP8o/+b+Bv+4/u7+3v4U/zX/SP9w/3T/eP9Z/1b/SP9R/0z/nP98/8b/jf+b/9v/FgCAAIQAmACkAG8AnQBjADkAgAD6/1oAAwBAAGUALgBxAA8ARwA0AB0AagBdAHUAiQBUAHEAUwBsAKMAvAD9AOQAtgCuAFkAbgBgADMAQAAAACMAAwAyAEwAKwAxAPT/BAACAB4ALgA6AEUAQgBoAGsAmwB3AH0AaAA9ADsA+/83AC4AZwCcAI8AmwBQAC8Azv+U/0n/Ev/w/ur++/7l/hL/4P4S/9v+7f73/sv+IP/o/kj/Xf9Y/53/TP+L/27/Uv+M/zX/ZP85/xb/hf+o/zMAeABkALEAQQBeADAAx/82AOL/IQBUAE0A1QCnALEAwABfAJgAPABBAJgAVQDdAKsArQDgAIYA7wDVAAMB7wCGAKMAZgCHAJgAdwBrAFQARwBHAEoAZAA9AD0ASgA9AFoANQBXADgARQAtABMAMwAcAEkANwBTACUADwD4/9v/AAD0/zQAKgBKACoAEwDe/5v/U/8A/93+p/65/o7+wf6y/uX+4f7e/tj+vv7U/ub+E/8n/0b/L/9i/z//gf9t/3f/kf9i/4n/Zf/O/xEAYwCSAI4AnABiAHsAGABFAAoA/P8xABgAuwCTAOwAyAC3ALUAcwCaAIkAoQCvAMIAzgDYAOEA8QATATMBFgH0AMIAlgB7AHIAaABZAEEAYABSAH8AjABhAGwALQAvACcAFQA3ACMAIAA1AAwALAAMAO7//v/A/9T/r/+Z/7//lf+//9z/5/8IAM//vv+S/1P/WP/6/vj+x/69/r7+uP7P/sb+0P7O/tT+qP7f/qn+Bv/+/j3/Vf9G/4v/Uv+X/2b/ff9U/1f/pf/d/0wAegCEAKUAUACRABoAGQAfALT/MwDW/2YAawCGANIAnAC4AJQAcgCOAIwAmwDYALkAAAEBAQ8BUQE9AT4BBAHKAK8AaQBxAEYAKwAmAPn/IQAUAEsAPgA4AEkAFwArAAcAFAAYAA8AEwAVABsAHwAbAPX/8f/D/7j/n/9+/6D/dP+k/7v/xv/L/5j/oP9u/2H/Qf8e/xX//v4L/wj/Ev8O//D+7f7h/uP+4v7y/gf/JP9B/1b/b/9v/5z/lf/E/8T/zv/X//L/QABcALEAnADPAJgAqgCYAFgAigAbAE8ALAAcAH8AMACXAJgAbwCsAE4AsgCLAJUA0gCCAMEA0QDmAEABSQFRASoB9gDqAHAAhQAnACMAEwABAEMA/v9qACwASABBAAEAJwDj/xUAEQAQAC8AIQArAD0AKgAXAP//zf/L/6X/k/+b/3D/nv+s/5f/of9l/1//TP8r/zn/Dv8B/xD/9v4x/xz/Gf8w/+z+JP/p/vH+Af/V/jT/C/9C/07/MP+Q/3T/r//O/6b/0f/d/xYAiAB0AKwArgBaAMkAXACFAH0ADgByAPL/SABMAAwAiQA5AFkAVAA2AGAAUQBvAH8AawBsAJwAngAAAQ8BBwH8AL0AxgBsAGYAJwACAAkA7P8nABEAKwBDABMAPwACAO3//f/T/w4A9/8KADcALABaAFQAKQAjAOL/0v/C/5f/ov+D/5H/p/+O/4b/V/87/yX/CP8N/+7+8/73/g7/If8h/yX/Hf8U/y3/Av8T/wj/D/8z/yP/Xv87/2//bf+i/6L/uv+u/8X/BgBLAJEAcQC0AEMArABfAIIAiwAGAG4A5v89AEsA//9XABgAKABVABcAVgA9AC4AbwAwAGAAcACRAOkA2AD2AJgAnABmAEEAPgDr/xoAz/8NACQADgBKABwAQAA+AAgAOgAJACcAPwARADoAIAA4AFwATwBGAC4ABAAJAPX/6f/j/9n/1f/D/8n/mv+Z/27/WP9G/wz/Hv/1/hX/Jv8K/y3//P4g/xf/Cv8f//r+FP8f/y//TP9j/07/kP99/6r/0v+o/xUA+f+GAIoAjQDVAE0AzACBAJoAvgBFALcAPQBiAIUAAQBcACoACABPAA8AQwBKADIAdQAqAGAAawCUAOIAyQDtAJsAuwCBAGEATAAJADYA+P84AB0AJgBJACYAaAA6ADsAUABMAHUAjACCAHgAhQBvAI4AbwBYAFYAGgArABIAAAAMAPv/+v/5/+r/2P/J/6//pf9t/13/R/8u/0//I/8+/x//Hv80/xH/M/8j/yj/K/8t/yb/Qv9U/1n/jP95/7D/rv/J/xYAQQCbAJAAyQCdAMcA2ADCAPkAoADiAKsAqgDZAIMAkwB4AEMAMAAkABIAJQAeADoAJwAjAF4AawCoAK4AmACKAFQAbgBAAP7/OwDj/yoALAACAD8A7v8gABgA+f8CAAQAFQBAAEIAPwBRAEEAZABZAFUASwAwACkAGwAUAPD/6f/V/8v/xf+o/6H/hP+X/33/Wv8//x3/E/8L/xf/Av8J/wf/JP8v/zH/P/8b/zX/Lf8y/0n/Sv9p/2L/f/9//4j/yf8VAFMAZgCkAHAArQDTANIAEQHJAAwB4wDuADYB3gDlANgAlwCLAIgAZwBdAFYAPQAzACQANgBiAHAAfwB8AFAALwBNAAAA8/8HAN3/HQACAAoAEwDx/wMACgDi/9n/3P/d//v/BgACAPL/BAAIAB0AIgAYAA0AAwAHAAIA///z//3/8P/Z/9X/rP+K/4D/W/9L/yP/G/8U/w7/CP/7/u3+8/74/gb/IP8W/1D/N/9s/2X/Vv+L/3b/v/+s/8z/yv/9/1IAUACqAFsAbwCmAH4A+ACrAMgA5gCpABEB5wDmAPgA3gDTANsAzQCxALAAnACGAHYAcAB7AJkAcQB4AFMAHgBQAPL/5v++/6L/4f+6/+7/xf++/8H/xP/m/8D/z/+x/7v/wP+9/8j/rf/J/8L/x//Z/77/vP+6/7D/sP+x/6//xf+7/8L/wv+h/6H/iP9+/17/TP8s/yT/JP8U/yj/Cv8X/xf/I/9B/1j/YP9p/3f/f/+y/8r//v/7/wcAMgB1ALYA2wAEAbQA+ADjAAMBNQHoAEcB3QAQASgB5AAOAdYA3wCwAM0ArgCVAK8AhAC2AKQAvwDbAKkArACTAEsAUgAsAOH/4v+m/9//wv/V/83/jf+1/3T/s/+Q/5n/qv+J/7P/kf+o/4z/lv+c/3r/mv9c/2P/Yf9b/3//Yv9q/2T/Xv94/3j/bf9m/z7/TP8z/0j/Rf8o/y7//P4I//z+Av8Z/x3/Of9D/17/cf+P/7X/q//U/9f/7/8gADoAmwC2AOkACQHeADIBCgFMAWEBJQGDARABTgFPARQBMwHyAOoAtQC+AI4AkAB/AFwAfgBbAIgAlwB3AGwAWwAkABsAAADJ/7r/tf+w/7T/tf+N/5b/ff9v/4b/cf9w/3j/Zf9z/3H/Z/9c/1T/TP85/0f/Kf8l/xr/E/8h/yX/K/8q/yj/MP9B/0j/Nv8y/yz/C/8v/yn/GP8o/wn/Kv8T/zn/Rf85/27/SP+X/4b/qf/b/8L/EQAQAD0AdAC1APQAGAFTASQBUwFkAWABpwFvAbABoQGMAcMBqgGGAY0BYQEpAU4B7wAIAeIAwgDYALwA2gC+AMoAewCDAFQADQAiAMz/vf+y/6f/sv+v/5j/hf+C/23/iv+V/4H/kf99/37/hP92/2H/W/9N/z7/Rv8o/yD/+P70/vb+6f78/uP+7f7l/vT+CP/3/gL/BP///gj/Fv8a/xP/Dv8L/xH/K/81/2f/e/+Q/6j/tv/S/+//HQArAGQAVACmAPUAIwF0AW4BcAGSAZoBywHwAbUB9AGwAcsB8gG2AdkBmwGDAXABZgE+AT0BGAHuAA0B+wD7AAwByQCtAKkAZwBlACkA6//D/7v/wP+//7j/ff9x/1T/Uv9v/2H/Uv9e/1H/Yf9y/2b/U/9A/yj/HP8i/wH/9/7c/sz+1f7Z/t3+3f7Z/sz+1/7a/s3+0f7Q/sn+4P7h/vX+Bf8C/yL/KP83/0z/cP+B/7D/x//T/wEACABLAGYAjwCyAOQAOAFaAaoBmgGpAdUBsQEnAgICFwI6AtUBOQL3AQwC9gGyAZkBZgFuAS4BTQH/APQACQH5ABQBBAHPAJ0ApABoAGEARgDz/+n/1//R/9b/wf+H/3X/X/9B/3T/QP9C/0X/Jv9F/zr/PP8i/x//9v79/vn+xP7L/pr+mP6j/qT+nf6S/oL+eP6W/pn+nv6X/ob+kf6v/rr+0f7T/sb+4f7x/gj/If85/0//c/+i/7f/6//6/ywAZQB1ALkA5gA1AWoBsQGpAdUB5wHYAUcC+wFRAi8CFQJWAhQCSgIaAv4BxgG2AYEBZwFiAQ4BJgH/AAEB9wDcAKsAhwB4AEQAUQAdAPL/5v/L/9//3P/C/5f/d/9i/2n/ff9p/2b/Tf9H/1D/Vf9Q/zr/Kf8M/xT/Bf/2/t/+vP6u/qj+pf6Z/pH+df5s/nv+fP6D/n3+a/55/oD+o/60/sP+xP7V/gf/Iv9i/2b/if+V/7z/+/8uAFUAcACVALQAJgFgAboB4QHOAQoCEQI1AoECWwKPAoACagKnAnoCjAJnAkoCEgIHAs8BpgGsAU0BZAFHAR8BJAH4AMkAuACOAFcASgAJAOj/5f/B/9T/w/+n/4T/bf9S/1j/XP89/0T/Gv8r/y//Lf8k/wv/+f7f/ur+2v7P/rT+nP6R/pX+kv6M/n7+Yf5b/lz+Zf5j/l7+Tv5V/mX+dP6W/pn+r/7I/t/+E/8u/1X/c/+P/7b/3v8UADsAbwCGAMAA+gA2AY4BtwHaAfgBHgI2AnwCcwKiAp0CigLEApYCuwKYAncCVAI4AhAC7AHmAY8BlgFrAUYBRAEGAd0AvgCXAGcAUwAXAOb/2f+2/7r/qf+B/2L/Rv8o/zH/I/8R/wP/7f7z/vn+B//u/ub+wP6x/rX+of6h/n7+cP5f/mj+af5Y/lr+OP5E/kn+W/5p/l7+af5l/oz+lf7C/sb+yP7t/vL+NP9C/2//ev+X/8L/2v8yADMAaAB2AJ8A6gAOAWgBiAGsAcYB9wEYAk4CWQJrAnwCcAKkApQCpQKQAnoCYAJTAjcCEwILAsEBuwGVAXkBbgE2AQwB2QCsAHwAVQAgAOL/uf+U/4L/cP9S/yr/A//m/tf+0v68/qX+i/6B/of+kP6P/oP+dv5j/mr+aP5r/lf+R/42/jP+RP5D/kv+Nf4r/ir+Nf5D/lD+UP5b/m3+if6x/r/+2P7m/gf/Nf9a/4T/pf/D/+T/CAA1AFMAdACSAKYA0gAGATUBZAGQAZ8BygHhAQACJwIjAkoCOwJLAlsCYQJpAlkCUgIwAi8CBAL3Ad0BsAGhAXgBZAFIASkBAgHgALgAiABiADAAAQDa/7b/m/94/13/Nf8Z/wL/6v7b/rn+ov6M/oL+dv54/m/+Xv5S/kb+Tf5H/kX+Qv41/jD+N/5B/kT+Tv5P/ln+cP52/oz+kf6R/qX+uP7V/u/+BP8P/yz/Tv97/6r/xf/o/wYAMgBeAI0ArgDHAN4A8gAUATEBVAFyAY8BpwG2AdcB3AHvAQIC/wEfAgoCFQIQAgkCCwICAvsB0wHRAZwBnQGFAWkBWwEqARoB8ADrAMMArQCHAFIANgAEAO3/yP+w/4j/aP9O/yv/H//5/uj+xv6t/qD+j/6K/nX+bv5X/k/+Qv43/jb+Lf4t/in+Jv4n/jL+O/5H/lH+Wf5o/nT+i/6Z/q/+vf7J/uf+9/4V/yr/Rf9k/4D/nP+4/9r/9f8eADoAYAB5AI4AqwC/AOQA9wAPASkBQAFlAXwBjgGdAZwBogGvAbYBwAG8AbcBrQGuAasBoAGUAWwBYAFKAToBPQEjARIB9gDkANUAxAC1AJEAdgBMAC4AGwD8/+P/wv+j/4b/cf9T/zn/H/8B//D+4/7V/sH+sv6h/pP+hv54/mz+Xf5S/kv+Rv5F/kb+Rf5E/kb+R/5T/mD+Z/53/oX+mP6y/sr+4v77/hP/MP9L/2b/fv+W/6r/wv/k/wIAHwA6AFMAaQB/AJcAqgC/AM4A4QD2AA0BIwE4AUkBUwFbAWIBaQFwAXABbwFsAWkBaAFiAVoBTgFAATMBKAEfAQ8BBQH3AOgA2gDLALsAqQCTAHoAYgBAACcACwDu/9T/uP+h/4H/Zf9L/zP/Hv8M//v+5v7W/sz+vv60/qH+lP6C/nf+av5i/lr+Vv5S/lb+Vv5b/l7+aP5u/nj+if6Y/rH+vv7Z/un+Dv8i/07/V/+E/4j/tf+t/3IAfACLAM8ABwBrAMP/3P+t/+v/dgCeADYBXwG1AacBaQECAe0AngCKALoAAAFGAX0BxgHVAagBeQE8AQIBzAC7AMwA8wAWATMBnAGIAVUBKgHKAGUALwAJAPT/+v8WADYAOQAzAAkA3/97/z3/Fv///v3+B/8m/zf/Of80/xf/6f7K/pv+oP6U/rT+y/7t/g7/+f74/tT+qv6V/nr+Yf6R/qn+3f4C/yT/SP85/z7/Lf8p/yz/J/9V/4P/rf/l/wcAKgAsADwAPAAvADcAPgBeAHcAtgABATEBXQFeAVABMwEDAfUA4gDjAP0AKAFGAV8BcQFhAUABEAHqAMMApwCeAKsAtgCxAL0ApQCSAGMAQgAPAPf/0//V/8b/xf/Z/7n/xP+J/3v/Pf87/xH/K/8i/1v/RP9l/1//If9J/9r+Fv+8/gD//v4O/zv/KP8k/x//4P7t/s/+0P4I/+n+Sf8m/2L/Kf8x/yP/H/8T/yH/VP9z/8b/5P8QAAIAEQDh/83/vv/c/wsATgCpAOgAGQEuASgBFgH7AMgAuwC6ANQA6wApAV4BcQFrAUUBKgEKAdMAvADKALsAzgDtAOAA1ADLAH8AQgANAOL/w/+4/7z/z//y/+v/7v/h/8L/mv92/23/bf99/4//pf+r/7z/uP+c/5P/ev90/2j/ff9h/4r/iP93/37/X/9T/0r/Sv8y/0r/Of9M/0T/Tf9J/zr/Uf89/0P/SP9a/2v/af+G/2z/gf+P/9H/EQA1AGgAVgCmAJMAqgC3AK4A3QDHANcA4QAkAQ8BBAESAeAAAwHnAOUA8ADuAMIAwADOALEAugByAHIARwAuABEA4P/6/9D/4//k/+z/+v/j/9n/0//g/9//6v/w/wIA+P/g//n/0f/U/9z/tP/J/83/uv+b/5z/cv9u/2L/Wf9n/2b/b/9h/4v/Y/9Q/0z/JP89/xn/J/83/0D/X/9G/3D/gP+E/4f/hv/F/xMAUQCmAK4A0QD5AMYA4gC7AMUA4gDSAN4AEgFUARwBHgHSAJkAkwBYAEcAagCLAGYAsgCUAJUAiQAiAA0A1v/M/6//xP/H/9//DgD5/wcA//8FAP//DgAoAEQAYABmAKUAkgCnAKYAfQCAAFsAOQAiABkA4P/g/8b/o/+W/13/Lv8C///+3f7y/uv+8v4b//7+Bf8H//3+5v7l/uj+Fv84/0z/fv+n/9X/5P///wgAeACyAOsAPAErAZ0BbAF/AXsBKwFfARMBCwHhAAgB3gC8AKUAKgBTAOX/rP+C/3X/Of8o/3b/W/++/7v/mv/C/+f/sP+x/7D/hP/b/+L/DwCBAJsAyQDWAOEAEwHsAN8A2wDCAMMA5gDaAAQBFwHIAKUAcAAmAMv/gP8t//7+CP/Y/sD+3P6U/oX+Vv4U/hX++P3m/QH+RP5o/q7+2f72/ib/Lf9N/2f/gv+x/+T/KAByALQA0QB3AZ8B9wEqAuIBRwLnAQMCuQF7AZ0BNAEKAdMABAHCAJwAOwDW/93/WP8V/+n+x/6Q/oz+nP69/ln/X/91/6f/2P/V/9T/zf+e/x4ALQBsANUAQAGOAasB5gHMAfYBvQGNAV0BVQFbASsBQwEkAQABywCKABgAzP9V/7z+eP4g/vr96v3I/af9uP2m/YT9pP2M/Yb9gP20/db9Df5b/nv+5v4m/4D/0/8QAGUAgQDCAPAANQFVAW0BGAI3AsECygLOAgUDnQKrAvwBwAGcAQ4BlwB4AG8ANAAsAKP/h/+C//n+p/6N/jX+BP4j/gH+Qv79/jX/cv8gADEAawC0AGIAkACpAMkABwEmAZQB+QFEApUCogKKAo4CLALIAZkBQQHlAMEAfwBFAEUABgCk/2b/8P5Z/gL+e/0T/RD94vzQ/Aj9Ev00/W39Wv1//Y/9f/24/db9Lv56/t3+T/+4/yMAcgDTAAMBPQFiAXkBrQGGAQYCWAKJAiADyQI4Aw8D/AK9Au8BAQI5Aa0AXQAuABYABwDb/3v/0f+K/xz/Af+S/kj+Ev4N/vL9av7Q/jz/8v99AO0ADwFfAe8AMwElAcAAQwEzAXAB6QFHAroC3ALLAsQCZwL8AZYB6ACOACoAsf+W/2n/Q/8g/83+hv48/tH9Uf3n/JH8W/xT/FD8Zvyg/Of8EP17/cP90/0W/jf+Rf6U/tL+BP+G/9r/XQDgAEsBrQH7ASkCPwIMAkECkgJ9AuICoALvAh8D/AIIA10CTAK9AfkApAAtAPf/ov9n/yT/Sv9a//H+/f7F/oP+av5L/hn+Ov6C/o7+HP/n/18A9wBNAV0BxAHSAaIBYQFiAV8BQgGIAb0B+QE9AkECIAIUAucBTAG3AC8Ahv8V/7z+SP4U/gr+5f3e/dn9lv1r/Sf9xPyp/Kr8fvx6/Jz8zPw2/YH92/01/pv+9f4d/2P/qP/U/xUAMACAANQANAGIAdEBMgJXAm8CgQLqAt8CGAPeAtsCCAPMAvICSQIuAg8CVgEWAasATwAgANL/WP9C/2n/Af/y/tj+of6n/p7+Zv5h/rH+uv73/mb/+f+CAP8AIQFgAf4B3QHFAYUBUAF1AUABTwE8AVMBpAFuAV4BfQFGAdoAXwDE/2f/HP+T/gv+z/3E/bX9sf2Z/Z79pP1p/UT9UP1N/UD9Lf0l/Uj9k/3I/fb9Rv61/hL/ZP+z//r/OgBVAIYArgDdACQBPAFkAaMB+gExAhMCrALSAhsDSwMbA3YDHAM7A78CLwI+ApQBIAG9AHgASgALAKz/Vv95/yz/8P7Z/nz+Z/5g/iz+Cf5c/n3+iP7i/kD/zv90AMwACgFrAckBtAF8AVsBFwERAfcAvADMAO8AFQEGAQABBQHMAKMAFQCd/2j/3f5e/gj+wP2q/bH9lf2C/bD9zf3P/cz9x/3Y/cv9sf2U/bH92P3Y/SD+b/7f/mH/r//0/zsAlQC9ANYA9wD4ACIBPwFTAaEBzgEQAg8CZgLqAhgDkANGA2oDcAMtA/8CIQL2AXkBygByAOr/zv+d/1z/C/8M/zL/x/6o/mH+KP4h/gP+4/31/VP+if7b/kz/zv+CABYBRAG2AQsCDgIEAp4BZQEOAfcAywBaAIEAkQCDAIsAeQBnAEIA9/9s/wL/xv5K/uT9k/1j/Wb9af1e/Yj91/31/SX+Pf5V/oP+fP5x/lz+cv6B/nn+uP74/lr/vf8MAGIAmwDrAP0ADAEXAREBMAEsATgBbAGRAcgB2AEZApkCxgIoA/0CAQMNA8gCkQKzAV8B9gAvAMP/Tv8T//f+yP6N/pv+2P6r/pn+fP5k/n3+eP5w/nv+0f4H/1f/wf8hAK0ALAF4AcMBPgJCAjAC9QGNAVgB8ACsADoA4//9/7v/ov+r/3D/ZP9G//b+u/6c/lr+B/7Z/cb9wv3I/cD97f1C/n/+wv75/jb/bf+x/8P/w//g/9b/0P/H/+r/BgAgAEQAagChAM0A9AD1AAgBJAEvATcBJgEhAT8BPwFUAUUBcwG+AdwBEwIMAjYCPgISAscBTwEMAa0AEwCl/0L/D//0/r/+nf6+/vH+8P4Q/z3/Vf9//4//iP+f/8v/3v/b//H/GgBkAKkA6AA/AZwBxAGyAZYBTAEBAY0AAACG/xz/7P6v/nX+jP6B/p3+xf69/uD+9/73/t/+2f7U/rz+p/6n/sL+/v5B/4T/1f8kAHoAwwDuAP8A+gDNAJcAWAApAPj/0//L/73/2P/n/wQAFwAjAEAAWABdAGYAWgBWAFQARgBBACsAbwCcAOkAIQFXAaUBywHpAbcBfQFTAeAAaQD9/5z/ef88/xz/GP9W/4D/ov/U/+f/BQANAOL/sv+X/3L/QP8p/x7/Mv9y/6r/FwB/APoAHgEpASMB7ADCAFAA1/9o/xf/3v6t/qD+vv7W/h3/Tv+I/9H/7P8GAP3/9//o/8z/u/+m/6r/y//5/zIAWgCWANIA9wACAfQA0QCPAEIA6f+L/0X/Cf/Z/sb+vv7e/vr+Gv9Y/47/wv/i/9r/y//E/73/sf+K/6n/+P9EAL0AFAGKAewBPQJgAi4CIQLoAW4B7gB4ABQAxv92/z3/LP9P/2b/dP+E/57/tf+X/2v/QP8X/9/+rP6O/of+tP77/jL/rf8vALIA7wAVAS0BDAHrAJAAMwDP/4j/Tv8Y/xv/Q/9h/6j/3/8uAHoApwDDAK8AnwB+AEoAEQDj/8z/vf+5/97//P8/AGQAgQCQAHUASgD0/5f/I//G/mP+Hv4N/gr+Mv5a/p/+6v46/3X/l/+5/83/1//Z/+b/8P/5/xcAdgDWAGABxQElAoUCzQIBA9ICkQI2ArwBJgGOAA4Ar/9o/yH/9P4L/yL/NP87/z7/RP83/xP/2/65/qn+lP6U/p3+1/4p/37/4v9uAAABZgG2AbgBygGjAWgBCwGRAEMA9P/F/6j/ov/I/wAAIABYAHIAowCqAJMAagA2ABcA2f+r/3//ff+N/6P/vv/q/x0AOgA9ACgACADU/4b/F//D/nf+Q/4p/i3+TP6G/sf+DP9M/4H/vf/G/9z/2P/Q/9L/zf/c/+3/DgBwAM0AQAGsAQACZQKRAq8CfAI6AuIBXgHUAEYAz/94/zP/+v7j/vf+F/8k/z3/QP9C/yv/Cf/Z/r3+sf6a/qL+yP4F/1n/qP8NAJYAFQF+Aa4BzQGzAYkBOAHIAGsADQC1/3T/bP+B/6X/yf/t/w4AQwBRAEgAKgADANn/qv+G/2j/Yf9i/3X/kv/F//f/GAAjAC8AKQAYAOL/mf9O//r+wv6Q/nD+av54/qT+0/4Q/0v/af+N/5H/pf+f/5b/hP+H/5b/tP/X/xQAkQAAAYsB2AE9AnkCnQKYAj0C+QGXAQ8BigAaAMn/of9q/0z/Rv9r/3H/df9q/0r/Ov8E/83+oP6S/pH+mf7B/gT/Yf/H/wcAcwDQADABXwFlAXMBRwEqAcwAggA/AAkA2f+w/7f/yP/b/+r/9/8GABwAAgDs/87/wv/B/6X/mf+X/63/v//S//L/EAAoADIAKgAiABoA9f+5/3X/QP8M/+X+sP6c/pr+sv7T/uj+Ff8s/1L/Tv9c/2H/b/9r/3H/jf+v/+X/CQCaAAgBqQESAkkCnQK6AtkChgIuAuIBUwHWAGMACQDq/7v/hf9a/27/cv9U/zz/+v7d/rP+ev5W/lL+bv6K/sP+BP9d/8H/AAA6AKUA2gAVAQYBFgEbAQUB+wCbAIgAYQBRAC0AIgAaACUAFQAHAAAA/v/+/8z/wP+l/7z/v/+2/77/0//s////CAAWACYAMAAeABEACQD1/9//tv+a/3r/bv9K/zv/OP89/0z/U/9l/2X/gv97/4L/jP+g/7n/vf/Y/+b/EwAhAIoA9QBwAdkB+QFAAlUCcQIzAssBhQEZAZwAQQDp/9T/vP96/1b/Tv9b/zn/F//J/p/+gP5I/ir+Nf5j/pn+1v4P/2b/wf/3/woATgB4AKIAogCbALwAuwDYAK0AngCbAJYAiQBtAFcARgArAPL/1v+8/8X/q/+h/5r/sP/e/8//5P/f//X//f/k/+L/3P/q/9r/zf/X/+L/8P/0/9b/0f+8/6D/ff9h/1n/TP9F/0n/W/9w/4n/iv+d/67/v//E/7r/rP++/7L/DQBjAMUAQAFXAbABugHWAbMBSAESAaIAPQD7/7D/tf+e/2z/YP9I/0n/Hv/4/q3+bP5T/iD+If42/mv+q/7u/jf/dP++/9b/5v8PADEASgBaAGIAmQDTABIBLgEsATEBEgHaAKcAaAAwAAQAtP+p/7T/3v8AAA8AIQA4AFoATwAxABcA/P/n/+D/1f/5/xcAOwBMAG0AjQCRAIIAWAAqAAUA3v+m/4j/af9s/2z/gv+V/6r/vP+9/6T/mP97/2r/XP83/z7/Nv9e/6T/HACTAA0BMwFeAWsBZAFMAeMAsgBRAAcA3P/G/9r/9P/X/67/i/9n/zj/+P6z/nv+X/5f/oX+vP4F/0r/hP+s/7f/zf/K/7z/0f/j/x4AUgCdAPgASwGAAaEBfQFPAQoBrQBoAA4A7f/X/9z/+/8rAGUAmgCgAJwAhwBnADsAAQDf/9D/2P8CACoAYgCUALAAuACgAIgAVAAcAOr/xv+7/7X/vP/V/+D/9f/l/9v/xf+l/5f/ZP9U/zj/N/8+/0z/Z/93/3n/c/9s/5z/5P8YAFoAagCbAKwAwwDHAJ0AkABMABoA8//Z/+j/4f/J/63/qP+Z/53/lv+L/4X/cP94/3f/mP+n/7f/wf/E/9H/3//v//b/NABWAJEAyQDWAAYB3QDYAMIAkQCTAGMAawBxAHwAnACyALcAxQCyAK4AqQCHAIgAWQBeAEkAUABiAFUAaQBbAF8ASgA6ACIACQD+//H/7v/w/+v/4P/c/9P/3P/S/8D/wP+s/6P/jv91/33/Y/9z/0z/SP9F/zX/RP8L/zD/Bf8z/0v/hP/9/xIAagBEAGsAbQBGAEUA9v8OAOv/8P8ZACMAcQBYAEsALQANAAAA0/+7/6f/tv/C/+n/+v8FAP7/5//k/9P/2P/N/73/wv/X/wgAHAAoADEAQwBUAGAAfQCAAKYAswDBAM8A4AADAQYBAwH4APQA7ADTAL0ArQCeAIoAcwBZAEAAKgAWAP//9P/i/8r/vP+j/57/kP+E/3f/e/+E/4D/hP95/4j/e/+I/3//g/+X/4v/m/+L/4z/lf+D/47/gv+S/6L/lv+o/6D/wf/b/wwALgBfAGsAbAB6AFAAaAAjADQAHQAiAD0AIwBUAEIAUAA1ACQAJAARACoAEwAlADMAMwBDAA4AHADy/wEA7//O/+D/x//1//b/KgBDAFAAXwBXAHUAkgC5AM8A5QD7AB4BMAErAS0BHwEbAfgA1gDNALwAwACsAJYAiwBpAEkAEwD1/9z/yP+v/5D/jf+K/47/dv9v/2H/X/9W/1D/U/9e/27/aP+C/43/qv+t/7j/t//T/+v/4P/0/+H/+P/0/+P/0P+7/8H/t//A/9r/4/8GAPb/5v///wkAJAAEAOT/2//u/w4ADwAQACMAOwBMAEUAMQArABsACwD4/wMAHAAqADwALAAqADIAHAAOAAEADQAhACsAQgBYAH0AkACOAK0AxADiAPMA9QAHAQoBGwEGAf0A9QDnAOQAwQCvAJQAgwByAFAARQA0ABcA8P+5/47/hP9z/2v/YP9f/1z/Zf93/2//if+J/3r/jv+V/6v/xv/B/+7/+f8fAD0AIAA5AAoAEwANAAMA+//T/+H/4//1/wQA/P/w/9j/pf+b/4//h/+P/5D/nf+6/+f/+v/p/9r/0P/i/+7/9P8aADMAUgBRAGUAawBZADkALgA5AFkAcgBzAHoAgACYAIMAcwBrAIkAmwCYAH0AgQChALoA0ADIAM0AuACkAJkAkQCiALwAtACqAJsAlwCIAFQAHgACAN3/0v+u/7f/yP+e/6b/aP9j/03/P/9C/1f/eP99/4D/VP9o/17/jf+Y/6L/vP/E/9f/1P/2/8f/z/+u/6v/xf+1/9X/rP+6/5T/g/+l/3P/nP95/2P/b/80/0n/GP/8/hT/BP82/1H/Of9N/yj/V/+Q/6n/1f/U/x8AUQCPALAApgCRAJYAvADMAOgA5QDkANgAyAC1AK4AuwDIAM8AxgDUANIAtwB/AEIAXQCAAIgAgABhAF0AVABPAGIAagB0AHAAYACJAJYAlwBoAE8AYABZAI4AXQBQAEcADwAUAAEA7f/v/9D/uf/Z/+H//v/h/53/2v/O/wAA6P+Z/9H/oP+n/5z/pf/Q/7T/lP+a/7b/5//E/6H/rf/L/+L/yv+l/6f/qP+B/3//Y/+P/5L/if9u/5v/rf9F/37/Vv+h/87/c/+8/8v/0v+5/7P/4f8BAOD/5f/k/wAAIwDN/yIANAAxAIsAPAB6AG8AWABxAGwApgCbAGsAZwCaAHkArQBTAFkAcAA6ADwAQQBLAAUAGADt//H/CgCx/9T/sv/D/3v/nf+P/zP/cf8f/1X/m/+R/0D/mv+j//D/6//l/+n/KAD//9z/awBtAH4AHgA+AIUAdQBYABEABABLAAUAJQCg/+H/n/9x/8H/yf/Q/57/af9w/6r/Vv+t/0z/gv+G/7z/2//M/wYAt/8RACIAVwCMAAwACQClAFIASgAvACgApAD8/y0AQwBWAFwA5/8TAEYAOwB0ABsAJQAKAI8ASQD3/3gAZAB1ADIAgQDK/ysB7v8vAMgA/f8EAff/vv/F/4IAdQB4/6P/jP/3/5f/d/6K/2T/wP8X/+r+m/9V/4z/Iv8P/1r/FACC/2L/4P+f/2kAmf+b/zAANAAlAHX/DgDc/+7/zv/b/3v/FgB2/1D/dP8C//H/e/85/2X/Yv83AL3/HP/R/yr/hABJ/9P/hP8rAGgARf/BAH3/kABmAFEA8v+CAAsAPQC2/zUAZgDo/2gAkv+PAN//AgBBAH0A+/9ZAC4A8v9dAEcAQwA0AEoASAChAM4A9v/xAKsAdQCBAF0ABQEEAPsA1/9vAK8A6P+DADH/bADl/+b/6f/N/qIARv/Z/6L/Cv/FAC3/wP+j/0b/egBA/7P/RQDz/9T/2f8aAC0AT/9dALH/4f9KAPj+WgA1/zYAKP+/////5f5LAFr/WP/d/3D/jv/F/4n/uv89//n/ov9G/zoAOf8LAGcAm//+/57/DQFz/9v/EwCp/8EAOv+O/y0AQwCM/9v/QwBoAM//IAAsAAIASwDO/yEAIgAlAG0AYQC7/50ARQAqAUoAdf+7Ae//JQEPACsAwgA/AJYALf8VAb//9/8dAOH/4P95AKv/D/+yAKP/PwA0/wQA9v8UAOv/0v7mANj/zf+T/2UAZwDP/10Aov8RANAAY/8hAHIANf+gAIb/MwAh/7AAX/8S/1MA2f/x/67+UAAl//7/l/+q/rb/hQDR/n3/wf+c/1j/tf+7/4j/bQCK/2j/dwDB/8b+AQFD/9f/yf/W/wEAIQC1/47/WQBKAFv/QgB9ALr/4//n/wkAYv/lAF7/GADr/38At/+XAPv/9f/LAO7/PAAWABwAHQB1AKb/ZQB3/5oAV//7/5D/UADc/1P/AgCs/20AHf88AOj/HwDI/4//RQARAL//FwA9AHH/hABIAPv+DwE8/6wA5v+i/5MAf/+uAFn/JwCs/zMAy//5/0H/YgDR/8//wf8g/4QApP/v/x//JgDx/1b/DAB//z8A5f9A/3QA7f/q/9L/JwDu/xcARACJ/3gA8/+O/9kA6P9NACYAOgD4/ykAhwC5/28Aef84AOH/GADo/3f/NgFD/9r/0wAz/1MA/f/L////XQCQ//X/MP/lAGH/pP9zAJT+3QFM/jkAFQDV/zcApv6vAJb/pP/I/y4Aav9lAJ//hv8OAeT+uv8pABIAZP+i////0f9nACT/NQD6//X/Lf9AACoAdv97AEz/awAcAPX/qf+kANP/tf86AGj/5wD5/0D/dwAZAJQAeP+J/zoBJADv/1T/eQCQACsAb//n/x4BSAB//0IAbwCDAK0Afv9PAAIBigA1ALL/qQD1ANf/pABA/80AjQD9/z0A0/+IAHAAMwBw/8wAVwBcANP+NgB3APn/3/9C/74Avv/z/6D/EQDv/9L/cQCs/lwABQBl/xQAev/6//3/PACd/qQAkf+f/3oAkf+R/xcAHADv/qAAh/9JAJT/6P/J/xwAwP/z/xkAwv+0APv+pgCS/+f/DwB+AFL/pgDU/9D/PgCU/5oAZv+pAFT/7ADh/+H/2P8zAe7+BgFFAMH++wGR/x8A4P/rAAoAXwB+/w4BPQBrAEEAhv+pAbL/QgAVAEEAlQAkAM//hQBkAPX/3f9EAHYApf8HAP7/5P+s/04AUP/b/zMAuv97/04AEgDn/kAAtv+6/xMArP9V/1MABACA/4H/kQCc/8n/+f8V/9AAPf/C/xIAv/81AFf/BwDQ/7j////6/9v/y//z/3X/hQDk/6j/SwBMALr/ev/iAND/dgC9/8H/ogC7/5AARv98ADIAQgAjAHf/BgHl/8H/kABwAM3/ewCq/2IAsQAsALP/5gBBANL/YQBbAMUAf//OAM//hQB3AMX/4AA1AAQAqwCm/9cAt/8fAHcA5f9sAOj/qv8aAFYAT/+6AGL/LQBk/xUAzv9z/xsAqv/N/8T/5f8oAKD/EwAKAIT/ZQCf/2AACv8eAQ7/MwDEAAT/RwBqAO3/av+nACn/jwCy/4X/GQAIABUAgv/6/04Abf/wAD3+vwDzAEn+EAEi/9gAEgB+/2MAawDb/58ADP+KAXD/KQDTALz++QH1/hoBCAAyAFwAQQCIANf/5QD//zkAZQAlAOwAUv+9AAkAVwB6AEX/FgGT/+MAPP9VAXH/7ADd//L/ygDw/7IAav56Aon+PACRAFf/TwBa/2wAkv8TABgAGv/NANT/+v5MAJMAvv4RAFEA2P60AMX/Vf8wALUAtv5WADYA6v83AOX/sv+oAPz/3//Z/zMAEQAL/ygBCf9fAG//AAC4ACT/kACT/3kA1v+C//4Ab/7IAB4AAP+pAOL/KgDM/0gAtv+HAAcAOwD//9cAi/84AMwAI/8zAaD/pQCc/+YAUQA9/ykBjP/pAOb/zv/DAGr/agAbAIf/cwHX/ikAEwFF/1oABQAzABgAJwC2//H/nAAFAH3/rwAf/64AEwDi/ncAoP8lAIn/ZwBd/4n/QgC9/3v/9v9fAEH/4f+L/xkA3P9+/xwAh/9OAAgA+/5MAAsAkv9mAOP+hgDo/7P/Xf8ZACoAav9hAOf+qAAW//3/pf8hAMD/5P+Z/5v/iQAa/z0Aqv/U/3D/mABi/+7/8v8PAF7/1gDG/zb/UwFI/jQBvf+Z/80AHf9zAHUAS/9aACAAqP98AEf/0QDj/yAARgBM//MAiP+v/84A8f+I/7MAs/8sAAUAif/o/xIANQBl/3EAd/8BAI//VQAwABT/TQC9/7b/DgBS/xoA4f9q/2EASf/CAJD/R/+sAMD/4v8VAKf/CwDm/04ACQB9/5sAH//e/9UAPP8FAPz/AACS/2oA5f+M/68A8/6+ACX/ywBU/9//SABe/4sA1P/5/3v/MQG0/ogAWwBPAGz/wgAyAHz/MgGG/0sACQA5AIX/7QA/ACn/5gDh/1IABQA0AJYAWf8/ANL//ABX/5L//QCS/+3/+QAs/3EA5v+f/wIBHP8+AbT+RgCMAA7/3QBn/3v/3QBQ/xgAGgBc/2EAk/9sAE3/SACz/8H/6/8gAMT/o/87AMn/j/9IAE8A9v4vAez+QgD2/5z/zwDu/pMAp/9GANP/Y//eAN3/fP9EABoAof/VAOX+jQCRAFL/iQCC/1MAp/9AAD0A/v8NALEAiP9hAKIAcP+5AOv/XADz/5AAuQDb/kEBOwC//wUBPf/SAHkA+f+X/04Bp//M/5EA4P9cANz/bQDT/+T/OwASAI//EwEy/74Aif9vAOf/Tv/CAFX/UQCn/4//MwAoAAv/CwFS/y4Av/+O/4wAWv9BAHn/CgALAEj/hQDo//v+uAC1/8H/fv/M/4QAZv/V/wwA6P+j/1gA3f5wACIAmP9YAD3/XAAFANL/jf9VAB0Aff/X/6kAyf8IAFcAGgALAEsA9v9AADcAEAAVAGEAnwCZ/wcA4QDW/y4A+QAa/zwBef9NAFYAZAAzAJP/AwHU//v/iAD+/6X/1gBJ/wMBNP9GAIgAwf+rAAb/+AB4/2IAQwBo/84Aj//4/6EAqv+M/2sAgP8ZAB4Avv+6/6X/kAAh/6cAWv+T/4AAT/8dALL/xv/B/9T/CgCn/1v/YABC/+H/BwAx/24AKv/y//j/ZP9iAFH/4f+r/wAAyf8mAC7/FQB4ADP/gwCF/0YABAAzAFz/PgATAWj/CwAgALkAbQCX/18AMACKAMn/WQBSAPz/gwD//1EAagBsAPf/JACqAIEAAAA7AMn/wgD5/1UARQCy/7cASwDu/ycAUwBKAB0ATQAfADoApgCK/0kAYgAUAOT/fAAxACkA4v9LAAYARQBtAG7/oQDB/yIA7wC2/4H/ggDf/08A+f/d/+z/of9oAOv/zP/w//T/iv9gAEAAtP8QAIL/9v9HAIX/HAAaANL/0f/7/2oAmv8aAM//m/+vAEYAff9WAN7/qP9EAPv/NwBtAP3/M//nAFEAsP9EAJn/YwBeAFEABwDh/3kAyP8vAHwAov9KAB4A3/9AACAADwAQABoArP8HAGQA5v/c/9L/PwAnAMv/DgC5/4MALQCa/wUAOgBvAMb/8P8yABQAWgASAEwANgAVAEMACwA2AKT/QAAGAPz/bACh/8r/IgCg/wMAYgCu//L/xv/r/wUASAC8/5b/TACZ/wkAHgCM/wIAv//m/ywA8f/E/+r/LwARADMAJAArAOz/6/9CACsA5P8TAOj/tf8nACkAPwASAOn/p//6/34A7//s/wMAGQAgAMP/8P9JAPL/uP8VADQAQADH/6L/GwD3/zoACgDV/yYA8v/G/+r/RgAZAL7/2P8nABIA5f8XANj/5f8BAMr/LwAgALX/wP8DAPX/3v/i/9H/0v/S//f/wf/i/8f/b//X/yAACQDF/8X/6P8ZAAcA1/8OABoAzP/T/zkAGQD6/woA5f8PAEUAHwDd/9//9v8nABMA/P8MABEABgDP/x0A///M//n/5v/r/w0ACQCr/7X/7//R/7H/1P8HAOb/s/+c/wcA1f+t/+T/2f/f/8n/7v/e/9z/2f/Q/9P/BgABAAAA9/8PAAoADQBPAD0ALwAcAFYAewCGAEYAUwBsAHwAdACAAIUAcQBYADIAhwBZAC8AFAAoAEUAJgD6/9D/xv+p/7H/1f+9/4//YP9O/2L/X/89/zD/Tf9d/1T/bf9f/1H/ev+C/73/3f/Z/7z/3f8cAB0AEAAYAC0AOQBWAHUAdQCEAGUAiADDANoA7gDkAAQB8ADxAPgA7wDkAO4A/gD+AMoAnQBwAFMARAATAPb/2v/Y/7T/ZP+N/4P/Nf89/0r/Uf88/1z/T/9G/xP/9/7y/vr+/v4j/zn/EP9G/zX/dv+C/47/tv+u/9b/3f/9/9v/7f/w/9j/6//v/w0AAgBMAIsAzwD+ADcBdwFeAZABqAG+Ab8BtgGGAVgBMgE1AUEBGQHMAIgARwARACEA5f/B/6b/xv/B/7n/2v++/3L/X/9l/2j/TP8k/z//Jv9H/zL/8v6p/o/+pP6s/rP+ov6A/mz+UP5m/pD+s/7M/tP++P7y/hv/Df8Z/zf/eP+S/6b/uP+8/9n/8f/FAFcB7QECAucBzwF7AW4B2QDuAAABBAExAekAHwEHAZYARgDw/0gAdwC3APwA9AANAbYAogCFAHwAQgAHACgA9P/b/57/ff9f/4v/5v8fACMAAgDo/93/AgDt/xYA+/8LAOz/4//i/5D/PP+4/rb+fv5N/iz+Dv71/eD97v0I/gf+M/42/nj+iP67/uH+2P5A/yf/b/+U/97/zv+5/+T/YwD3AIwBLQIUAggCjwF5ASMBuAC0AJoAngCdAKAAcABLABkApf+O/7T/CAC7ACABtwGpAYUBWgETATABpADFAIYAWABeABEAHQDY//f/5//0/w4AEwAkAA8AMAAdABUADQDr/8j/m/+C/33/Pv+4/oT+Xv40/gn+8/3G/Zf9kP17/eL9+/0n/jz+gP7J/g3/Pf8R/yj/Jv9Z/1b/1/8IAC0AXgCwAFABtAE2AjICGALNAY0BawEjAfIA+AC9AKYAfwBzAHAAFADi/6L/9f8UAKQAOwGdAfsBwQHmAX0BcQH3AIwAgwArAD4A3v8XAAIADgAOACAAOAAVACwA7P9NADQAQgAtADcAAQC+/7H/X/9Q/7X+oP6Y/pP+jP5R/hz+5v3D/dL90/0I/jz+oP7+/lP/qv+k/3H/Tv9s/0z/u/+//zQAYgC2AA4BVwE1AhECUwK7AaQBggEiASUBtQD+AKkAggB7AHAAmgAMAO7/yv/q/0YAfwB9Ae4BTQIMAvgBzwE8ASEBWQBJAN7/s/+H/43/7v+w/+j/w//I/6D/nv+r/7X/6f/U/wkA2f/K/6n/Tv8T/6z+jP48/j/+Qf4v/i3+/f0B/sz90/3y/TP+dP6+/gz/Vf+q/63/sv+c/4//n/+4//D/NwCaAOwAHAG/ATMClgKKAjACGAJwAXkBBgHfAPgAtAABAYEAtwCVADcADgCN//f/8v+BAEMBqwErAs0B4QFqARMBogDb/4v/Hf8Y//P+Ev89/1z/Zv+E/3f/if97/2j/nf/D/+L/xf/9/+b/4v+h/1H/9f6H/mj+Uv50/n3+h/5m/nT+YP54/nb+ff6z/t7+Rv93/+H/7v8mAEIATQBYAFIAUwBYAKIA2AA7AbcBcwLXAgcDugJWAtYBeQH0AIMAjABnAI0AewCxALYAWgD+/6j/jP+1/9L/oQAeAZsBqwGPAbEBBAHZAKr/Tv+t/jP+Zv5I/gL/F/+o/+X/4//7/6b/nv96/5z/p//U/ycAUwCAAFoAGwCC/wL/e/5A/i3+Vv6J/pn+6P4U/0b/Qf8x//r+BP8t/8D/GgCBAKsAtgDiALYA5wCDAIEAYQB0ANEAegFGApYCyQJsAkMClgFWAZ4ALAAlAL7/MgAOAIAAdABFAEoA0v/O/4b/pv9JAKoAUQFdAWUBbwEHAegA2v9s/6z+Iv4m/iH+1v4v/8z/MgBkAJMAXwBNAB4A6//P/7T/9f8jAGgAXAAzAOX/X/8N/37+S/4R/gT+F/5X/qH+1v5A/0D/dv9j/5D/hf+t/+H/AABFAD8AqACTAPEA2wDrAOsA/wBvAcsBUgJkAmUCJALeAasBLgG3AJUANwBLACEAZwB2AFUAbwApAEoAKABSAMAA/QBqAVABWwFdAf4A2wDg/5j/5/5u/ln+J/7V/uD+i//c/xoAPwAMAAgA1v++/3P/dv9t/5z/mv+W/4H/Nv/6/n3+W/4Q/vz94v3y/TH+Of6Z/rf+Bf8d/2D/kv+9/ygAHwCEAGcAoAC5ALYAxgCvABoBBwGHAfgBiAL/Au4C7QKLAj0C3gE0AfIAsAB1AHUAawCfAKIAeABTAAUA4v/A/6z/PQBqAOcA0AD6AAQBnwCBAFv/G/8n/tr9oP2L/T7+Vv4r/1r/3P/u/8f/tf9v/0T/0f7T/s7+Ef83/1H/Rf8g//H+nP5v/jL+IP7x/SL+Vf6c/un+I/+Q/8L/HgAoAFgAgAB+AL0AtADUAOgAAAE2AUsBgwGeAeQBWgLXAjcDNgMfA8ECdwIJAmwBEAGqAHcAPQBSAFYATAAmAP3/2/+X/4n/mP/+/0UAiABwAJcAcgBoAPX/TP/0/g/+/f2E/dD9Ev5V/gv/SP/e/9z/6//W/6f/gf8P//D+4f7n/hv/K/9G/zj/BP/q/qf+mf56/nT+mP6t/uf+EP9u/53/3f8NACsAUABzAJsAwgDdAPIA8AD7AAoBGQEyAUIBsQEJArMC7AIaA/ACiAJQAqcBLgGZAEgA7f/d//b/DAAIAO//6v+x/6H/fP+x/7b/DQALABAANQD0/ywAgP9P/6r+O/4P/qr9AP7//XT+1P4q/5v/vv/d/+D/yf+p/1T/O/8o/zT/Ov8s/yr/HP8K//T+3/7T/sv+xf7y/vn+Hv81/3H/gP+4/9D/8f8nAFgAuQC+AAQB4QAPAfsACwEYAf0AYAGUAVoCwwL4AgMDnwJ3AvwBUwHvADYA7P+N/4P/sP95/7T/cP+M/2n/Tv94/3n/5P///+3/GQDm//z/u/9T/zL/dv6J/iP+Qv53/nv++/4C/3D/jv+V/7P/rv/I/57/f/9m/z7/T/8s/xz/Av/d/ub+0f7q/gv//v4e/yj/Sf9S/2b/f/+C/6v/zv/e/w8ARgBtAJIAcwCmAI4AqwC6ALEA7QAwAcIBMgJ/ApwCZgIXAvkBYQETAX4ACQC0/2b/pv9V/4f/bP9v/3T/Tf+e/7H//P86ACAARQAeAAEA7v91/17/vf67/nj+Z/6t/qT+HP8h/2r/hP+N/5T/of+u/6D/fP9k/13/TP9G/xf/+v7N/rz+s/6x/tP+1/4L/x//QP9Z/zv/Zf9K/3z/g/+E/53/p//Z/9j//P/t/xMAKwBIAGYArwArAbEBBwJLAlkCEQIbArwBiQEgAb4ASQDr//D/yP/B/6j/sv+Y/47/jf+k//X/KQBeAE4AcQBgAEMANADd/6r/Iv8n/+b++P4r/zf/lf96/83/yP/I/9L/x//V/53/mv94/3L/Yv9H/yn/+P7k/sb+yf6+/tP+5P4N/zX/O/9X/0T/V/9P/1f/ZP9a/3L/bP+J/4b/sP+7/+j/IQA3AIgAuwBdAckBCQJBAhIC8gHqAaYBhgFBAf0AqwBjAHsAOwA4ABMABwD3/93/8v8QAE4AhQCCAHoAiwBxAG0AMAAWALn/lP94/2H/gf9z/6r/sv++/7z/v/+l/6f/p/+S/3D/Q/9J/yv/IP8F/+D+zP65/rn+uP6+/sn+4P4C/yj/Mv9E/0D/Mv8k/yH/FP8J/wf/+P4T/w//Qf9n/6L/3f8PAG0A4gB3AcAB7gH0Ab8BrQGjAX0BeAFGATEBAQEBAfUA1ADJAJ0AgwBZAHAAdwCpAMAAyQC0AJ4AoQCEAGcAOgDt/9H/yP/O//L/8P8WABMAGQD3/+v/z/++/9L/xv/P/67/qv+j/5X/Xf8j//H+0P7b/uD+/P4H//3+I/8q/zL/JP8e/xH/9P71/tT+5/7U/tf+xv65/sT+0v4Y/1j/of/f/0cA1wBfAZ8BvwGWAWABVwFAAUUBQQFBAUsBXQGCAYkBbgFhATMB/wDhANIA6AD9AA4B9gDOALQApAB2AF0AEwDe/8f/wP/y//n/FwAbACEABwDm/8j/r/+j/7T/wP+5/7j/vf+z/53/Zf8g/+v+xv7U/tL+/P4C/xf/Gf8h/xv/+f7q/r/+rv6S/or+l/6U/pn+n/6Q/qH+wP76/jT/g//R/04A6ABSAZYBnQFrAVEBTgFBAVQBWgGCAZgB2AEFAg0CAgLoAbgBeQFuAUsBXQFRAUEBDwHlAOgAwwCtAH0APwAgAAIACgALAA4AHgARABoA8//r/8L/uP+5/8D/zP++/9v/yv/N/6D/bP8m//T+7v7a/vX+8v7//gv/B/8c//X+6/7V/rL+qv6M/pv+l/6k/qf+pP63/rT+5P4U/z7/kf/Z/3UA5wBIAZwBggGVAZsBsQGzAcAB1AHYAQ4CQwJbAmMCZQJBAhEC8QHOAbABowGQAWMBLwEVAf0A5QDLAJgASwA3ABYAEAAHAPr/AgDu/+f/z//I/6b/rf+n/7n/uv+//8z/u//J/4j/WP8P//P+1f67/tf+zP7d/uv+8v7x/ub+0/69/qD+kf6R/pb+pP6q/qf+rP63/tT+Af8d/1X/hf/h/3YA6wA5AXABbAGGAaoBwAHZAc4B7gHnARsCRQJQAloCRwImAvgB2QG2AaQBkgFwATYBFAH0AOcArgCaAEUAGgAEAN3/4v+8/87/rv/A/53/jv+B/2v/eP97/43/fv+S/4//lP+B/1T/Jv/s/uH+yv67/sL+sf7E/sP+0f7X/sT+yv6r/qz+n/6P/pj+k/6W/qT+qP7G/uf+CP9D/2T/uv8RAIoA4QAbAT0BTgGVAa4B4wHxAQ4CEQImAlwCWwJzAmECRAIcAgUC9gHVAcoBtwGDAVUBOwEkAfEAzQCPAEEAKQACAO7/1v/N/8T/sv+u/5D/g/9m/2H/ZP9d/2j/Xf9s/2b/W/9E/wz/8f7G/sD+nv6V/o/+cP6K/nj+hf6K/oX+hP5t/nr+dP5+/ob+hf59/n3+mv61/vD+D/9F/33/5f9dAKIA+gABASUBagGXAd8BAAItAjsCWAKNAokCqQKeAooCawJeAlACNwI/AhkC+AG6AZYBZgElAQgBrABtAEgAGQAMAOv/3f+//7L/kv9q/1j/M/8x/yz/MP8k/xz/Gf8M/wr/4/7F/pP+hP57/mn+fv5l/mH+Wf5e/l7+WP5i/lj+YP52/oL+k/6l/qL+rP6r/rr+0f7w/iL/UP+f/wMAdADEABEBOQFXAaMBzgEaAkACdQKYArgC7wLzAhUDDQMEA+QC2wLUArcCtwKIAloCGwLnAbMBcAE5AeEAkgBVABcA9P/J/7H/k/96/2D/PP8j/wP/+v7p/uT+zf7K/sX+wP67/qn+l/5v/mn+WP5Y/lT+VP5Q/lD+Xf5b/mn+af5u/nH+df6G/pX+q/65/sP+xP7M/uX+Bv8n/1P/kP/n/1MAmgD5ABQBQAGFAaUB6gEJAj4CUwKFAsMCwwLuAuwC8ALfAtUCywKoArECgwJqAisC+AG9AXABQAHiAJIARgD7/8D/mP9s/1H/Of8X//D+2v66/q3+of6K/nP+Yv5j/lf+Xv5O/j7+Kf4c/iL+Ff4d/hn+Hf4m/jT+Pf5C/lP+Uv5p/mz+gP6I/pj+rP60/tX+1f7v/v/+If9H/3D/u/8FAFsAlQDdAPEAMQFtAYQBygHbARoCIAJiAnkChQK2AqMCxQKwAsYCsQKsAq4CgQJmAiIC+gG6AYABQQHmAJwASgAHAND/m/92/0//LP8C/+P+u/6T/oX+Yv5P/i/+Kf4S/gz+Bv7q/eP9zv3U/cr92P3Y/eT98/0F/iD+Kf5K/lr+fP6V/qv+wv7Q/uL+9P4L/xL/Jf80/0v/av+L/7X/6v8qAGwAoADXAPMAEQFWAWwBnwG7AdkB7wEOAjYCRwJpAm8CewJ4AosCjgKTApMCgAJUAiwC/QHLAZMBUAEEAacAbQASAOP/n/9s/0H/DP/n/q7+l/5h/k3+Lv4P/vj93P3M/bP9s/2g/Zz9lv2X/aL9rv3H/dz99v0O/ir+SP5n/o3+rv7O/uf+Af8d/zj/Tf9U/17/aP+E/53/vP/f/wIALwBgAJ0AygDuABMBJAFPAX0BmgG7AcwB5gHxARECJgI6AkwCTgJcAl0CcAJnAmQCTgIqAgkC2gGwAXYBLwHmAJgAVgAWANH/mv9d/y7/Av/Z/qv+hP5n/kT+Mf4U/vn93P3Q/cX9wP3A/cL9xv3M/db94f31/QX+H/4v/kn+Z/6I/rP+3P4J/zT/Wf97/5X/qf+7/8X/3P/y/wUAJQA6AFYAdQCbALUA0QD1ABABMAFOAWsBgwGjAacBsQGzAbwBwgHJAdQBxwHHAb0BwAG1AbQBoAGGAWsBRQElAfQAxACSAFQAJADj/7D/eP8//xr/5P7I/qD+i/5u/lj+Rv4s/hz+Af73/eL92/3V/dH90/3R/eH99P0F/hb+Lv5A/l3+eP6h/s/+9v4h/0X/a/+Z/7P/0f/t//n/FQAiADwAWQBuAIUAlQCtAMQA3ADuAAABCQEbAS0BOAE9ATgBMAEuATABLAEnARYBDwEEAQgBAQH0AOgA0AC/AKIAkABwAFAAKQAAAN3/sv+W/27/S/8p/wb/7P7U/sL+r/6j/pb+jv6B/nf+b/5f/lj+Vf5X/ln+Xf5h/m/+gP6L/pr+p/66/tb++P4c/0D/av+N/6//1v/z/w0AJAA8AFMAbwCKAKIAtgDMAOEA7wD/AAkBEgEbASABLQE1ATYBMwEoASEBEAEBAfIA4wDXAMQAuQCpAJ0AigB0AFwAPwAkAAQA7v/V/7r/nv+A/2f/S/84/yX/EP8B/+/+5/7l/uf+7f7v/vj+9/73/vr++P75/vb+9P7y/vn+Af8S/yT/Lv84/z7/Sv9Z/2z/g/+Z/67/zP/q/wkAIwA3AEYAVgBoAHkAhwCYAKsAwADUAOYA+QAHARQBGgEfAR8BIAEhARoBEAEBAfIA2gDEAK0AlwCAAGsAWgBHADoAKQAVAAEA5P/G/6r/jf9t/07/Nf8e/w//Av/7/vj+8P7r/ub+6f7r/vf+B/8X/zD/R/9d/27/fP+G/4T/h/+J/4//m/+q/7v/xv/W/+b/8/8DAAwAFQAiAC4APABNAFsAawB5AIgAkwCbAKIAqQCxALoAxgDSAN0A6wD5AAUBDQENAQ8BDAEGAf4A8QDiANAAuwCoAJMAfQBlAE0AOAAiAA4A+v/p/9T/vf+m/5D/ef9e/0L/JP8H/+7+2v7P/sf+xP7I/tL+3v7s/vr+Cf8e/zP/Tv9m/3v/kv+k/7r/yf/V/+D/6f/z//z/BwASABwAKgA5AEsAXQBsAHgAgACHAIsAjgCUAJkAnQCfAKUAqQCsALIAswCyALYAvADEAM8A1wDdAN0A3gDaANIAxACzAJ8AjwB6AGQAUgBAADMAIwATAAAA6f/X/8H/sP+Z/4b/cP9d/0n/N/8i/xD//v70/u3+8f78/jj/7/9CAIAA8/9A/yj/7f4R/6j+ff7K/jL/uv/G/+L/IgA2AB8A1P+x/7H/JwDSABQBAAElAHX/Zv/8/14AMADX/+f/jwAsAeAAfQDjABoBWQFqAPH/VADoAH0BowA+AGsAwAARAYYAQQB6ALkAygBzAGMAkAC9APAApQA6AB8A5P8WAGMAawCRAGUAZgBDADEAIgDe//f/7P/n//P/t//A/+b/k/+k/3f/Pv+p/x3/fP/C/4D/MQBo/0AAUwDF/yEAM/97/woAxv+4/zn/H/+6/2v/Y/+0/kX/4f/4/7X/p//z/5gArQBa/73/AgB9ACIArf8WAKQAzgBMAEEAwgD6ALcAxQDhANAAIwEwAUcBwgHQAawBdgFoAUYBSwEPAe0ADwF/AdkBqwGVAV0BXQEuAbsAawA4ACMACgAGAOD/lf9k/wD/w/6+/ov+af4a/ib+Zv5//qn+nf6T/o7+df6V/pr+zf63/uL+F/84/1n/KP+L/3X/yf+v/9v/OgAdAGYAdwCVAIgAWADv/+n/8f8qADoANwBWAF8ArQDRAAUBPwEcASEBVgGJAZUBTgGJAbEB2AHTAZwBvAHJAZ0BTAFHAVEBdwFiATMBIwEhAREBvgB2ADEA8v/P/7H/pf9u/0L/Jv/q/v3+5v7K/rn+wP4V/0v/Xv8g/zb/m/+5/97/p/+S/6z/m/9l/0P/Tf88/xv/7f4a/1//Qf/7/uP+9v4J/+z+2/7m/hH/AP/U/tX+3P7s/v7+q/9rAA4BaQFNAYYBwAHoAb4BewG2ARcCfwKWApsCvAJfArEBHgHXAOIAxwCwAMQADwEpAcYAWwD//7X/Tf/e/qH+p/7q/iv/Tf+Q/8r/tv+P/2r/mv/b//X/JQB1AOoAKgE4ARgBzwCPADsA2/+Z/2f/SP8s/+/+3P6z/lb+4f10/XL9e/18/ZL9qf3J/bL9nP2Q/XL9ev2O/dP9Vv6C/7IAhAELAvoBfwLmAtMCtQKgAlQD3QMBBPEDwgPaAxgDEQJtAf0A7wCJAFQAhwCSAHgA9P9X/+P+gP4m/sb9w/3u/Uf+k/68/mP/5v/v/8z/zv9CAMUAIgFyAd0BTQKAAp0CiwJUAg4CmAEnAdsApQBSALz/MP/U/rH+T/6w/Tn94Pzc/L38l/yK/H78lPyl/Lz83/wN/U79gf3r/YT+Yv/9AAQCBANyA00D7wPjA+8DxwPAA1oESARNBPADpgNfAwECIAFuABIA2P8S///++/4H/+f+bf4k/sn9sP1u/UP9j/3K/Uv+jv74/vz/egC8ANIA9gCIAQACbwK1AvsCPgNmA4UDRQPXAk0CowEfAZ4AJQCe/+v+cv40/ub9Yv3X/Fv8C/za+8X70Pvx+wf8Hfxj/K78D/1P/XD9zv17/kf/9f++ADkCawMtBHQEJwRNBDMEEAT3A98DMQQVBM0DOAO9AmACLgEIADX/8f7Y/l3+Fv7g/df9uf1x/Yf9T/1U/Wr9ev07/j/+mv7o/i7/YADXAFABogHSAUYCbwLZAiUDOAMcA94CAQPcAn4C+AE+AdIAVADg/2L/v/5I/sv9e/0w/db8q/wy/Br8NPxe/LL8mPyh/L382/xb/b/9L/7A/vL+mv9KAPMAfQHkAfkCvQNdBFoE5AMHBOkD1wOeA2QDaQP2AoAC9AGfARUB8f8E/2r+TP4o/tP9jP05/Rb9Pv1k/bz99f3U/RH+Q/6g/u/+2v4z/7r/ngBVAZ0BBAL/AQQCEQJVAr8CpgKLAlkCaQJkAugBbQHGAFIA9v+d/3P/Af99/uP9Zv1T/Q39rPxj/Dn8mvze/PL8E/0C/SL9U/2r/Sr+dP6q/i7/o/8uAKgA8ABqARoCAwO2A+0DqQNSA1oDVgNUA0kDCQPUAk0C2gFuAfQAMQAu/7f+mf6I/jv+z/16/SL9z/wq/Zb92v0g/sr9Ov7E/uX+HP+6/hz/CACxAFoBnQHfAdwBqwHSARcCRgIoAgMCMQJvAlUC9wFeAfkAnABmAE0A7/9n/5b+GP7O/cb9n/0D/cP8k/zQ/BD9Cv0t/QX9Df06/cL9Gv5z/qX+xf5e/9P/gwDcAP0A6gErA+sDUwTCA1QDdwOVA8sDpgO0A2cDvwJFAtoBpQHYAJ7//P7P/tn+hv7t/Yz9N/3l/J/8BP2h/ej9Jv7j/XH+Hv/i/uX+h/5G/3wApwD8AB4BZwGFAYcB4wEdAkgC9gEAAksCOgILAjsB0QDIAKAAmQAbAJT/Bf9O/g3+vv2s/Yr9JP1D/WD9jP14/S39CP0w/YD96/2E/sP+Jv89/37/CwBJAJQA4wBEATgClwMABDQEjwPIAhIDIQNQAwcD2wLJAhkCjgHkAHQA2f/M/kb+SP5m/gP+Xv3l/K/8kPxc/E/80vzQ/Tb+pv6//t/+R//0/iz/cf9YAE4BSAGCAYQBpAHhAcIBpQG2AcgBkgGRAXoBTwEDAZ4AlQC6AKMATwDc/2f/K/+y/mf+Ov5B/nH+Wv5f/lz+P/4s/vb9Sf6g/tD+Nf9s/8H/+v/0//X/+f8MAFkAxwArAUsBYwKeAqkCggJhAaABgQGjAYYBGgEwAZEACgB+/yn/Iv9z/uX9uP3L/bb9Q/0W/Rn9Jv1N/X/9zv1g/in/bP/B/+L/1/+IAI4A7gBjAZkB2wG6AacBdQGcAeYB4QHAAbQBtAFwAToBHQENAR4BFgEIAd8A0wClAFMA/f/b/63/hP9F/yr/Zf8m/wH/w/6d/r7+oP6L/qT+sv7Y/tv+u/7J/rb+pv7m/vj+Q/9l/4L/Yf/u/9AA3QAXATAAOwCDALwA4wB0AKIAOwDk/4H/dP/A/13/0P6f/tD+0/5k/iz+Ff5M/lv+fv6N/sz+Nf+e/1AAvwAWAbYA/gBIAbsBMgL0ASkCPAItAigCZAKCAl4C5gHDAfIBMAIRAugB/QHkAdIBhgF0AToB9QCzAIkAiAAgAGj/nf5C/lv+U/7o/ZH9Xv1C/WP9Sf1n/U/9K/1B/Tf9fP2h/bL9sf3K/RX+Ov6Z/qf+hf+6ANYAWAGZAJoACQFcAdgBfwEDApkBJgG6AGUAnwBJAOv/ov+0/6//Kv/1/sf+8/70/vH+Mf9U/6r/BQBLABYBhAFaAb8BZgFoAvkCtQKWAlEC8ALsAjsDDgP9At0CegJuAkECcgLrAWIBQwE1ATgBmgApANT/m/9p//T+ev7w/Yb9+Pzj/KD8ufx4/P37HPwe/If8UvxU/Er8jfz+/D/9tf3M/ST+U/6J/hv/Z//P/x4AVAC9ARICRQLfARYBtwH3AZkCKALwAdUBLwEpAccA6ADCAAYAkf9I/5v/c/8K//n+Af9c/yv/MP9V/5L/5P8gAJwABgGyAZ8BNQKkAjUD4wPXAvACggLFAiED5AIEAz4CPQKAARsB4ACHAIIA5v/V/4f/L//A/jP+Av7V/dX9mf01/Qb95fym/Mv8tPyz/OD8o/wJ/TT9cf3n/fb9L/5Q/rb+/f5u/6n/ov/X/8b//v/5//H/PwBMAJsAjQGgAb8BMwHkAH4BqgEmAoABmQGEASMBCAF/ANoAxQBgAA8A+/86ANz/of+V/7b/AwDL/8P/z/8zAHcAgwDJANkAYQGLAcABowK6AiUDcwL9ASMCtwGFAv0B6gF0Ae0AGgFeAIsA5//N/4v/2f4D/4L+pf5M/hb+X/4h/jf+x/3R/f/93/3y/cD9rf37/QP+Ef5v/oD+jP5V/nX++v4s/03/Hf8W/yb/Tf9N/yn/eP9W/4r/df97//v/nwA+AVUBOwHgADQBdAGtAa8BtQG+AS8BCAHcABwBQgG/AFsAOQA5APj/tf/M/wAAIgD5/87/4/8UADoAZQDjACoBPgEzAbYBUAIeA/MCRwJAAsoBHQLGAScCFQKGATgBagCzADoA8v+I/1b/Zf/P/qD+QP5o/o7+g/6h/nT+ff46/lf+lf7G/rz+UP4k/ib+o/6b/pb+jP53/pj+gf7P/sL+1f7D/pP+vv5w/mr+QP6N/vL+BP8U//X+Fv/h/6sA4AAuAYgAvQAfAaoBHwLAAVcC8wH1AdsBhQEiAugBiQE4AR0BLQHMAKsAnQCoAJsANAAgAA8ALwBmAJQAyQC6AHAATADgAJoBQwLcAUcBQwHSADMBWQGGAY0B7QC8AEoAdAA8AM//3f+1/67/Pv/2/vD+0v7j/sT+nP5i/gn++P3+/Uj+hP4P/qj9Uf1V/c39r/3k/br9hP2W/WP9z/0A/jr+Iv7C/dn93P0f/kv+i/7d/h//TP9w/2P/0P9HAYsBNgLdAYMBOgJ5AoUDFgN8A4wD3wLzAkwC0QLxAlkC+QFwAVcB5ACHAGYAYgBeANz/Wv9J/2r/hv+f/8j/zf+q/37/tP/EAMsBUwJeAQoBEgE3ARAC1gFMAvUBmwEoAWgAsgBZAGYAAQCR/2//mf5L/gv+Jf5T/tj9dP3W/Mn8Ef1V/bb9of1I/QT92Pwo/cD94P0Z/rn9lf3P/fH9ZP6e/tT+If/f/vr+5v4J/5n/sv9WAGAAggB3AEQA3wBfAi4DYQPWAjwCDAOgA2wECQTwAxoEVQNBA6YCuAL6AjcCxAE2Ad4AXQC8/9L/+v/U/yP/cf5Y/qz+Bf9I/5D/v/+y/5j/tP9aANMBSQIvAokB9gAkAR8B1gGSAYcBNAFVADQAmf/F/5P/Uf8F/zP+6f1T/Wf9gv2c/b79Gf3h/Jn8+fyX/eb9Q/4M/uX9pv2n/Sr+2f46/xX/uf6B/qP+Dv+j/wYAIQDZ/7j/j//G/xQAWQDZABcBIwH3AAUBhQHmAdMCxwPCA6sDvQLWAqgDQARjBFsDMAPQAnQCRQK2Ae0BkwG6AAsAfv9k/x3/8P74/gn/3/5a/hf+U/7+/lH/h/+Y/4P/ov9+/+n/cACEAZUBJgG0ANT/awCcADABzwAJANr/OP9W/+P+4v4X/9X+hf7H/Y/9i/26/QX+NP5I/tz9kP2f/TL+3f41/zf/Ef8L/xP/Xv+p/0IAhABRABQA4f9BAK8ADwFZASABBAG7AJAA2AAlAa8BiQFbARQB+gBIAVUBbwEXAm0CagLfAQIBZwHiAWkC7QE2ASsBwwC+AI8AeQDjAGUApf8z/xL/PP8F/w//OP85/wT/mP6S/h3/mv+y/4L/dP9k/0H/Pv83/9f/KQDW/xMAv/8+AAIAnv8JAJP/YwB9/0r/bv8n/+j/Gv9Y/yH/8v4c/5r+O/9H/4v/bf8F/1v/J/+O/6n//v9UACcAIAAvAKEA+gALAQ4BGgEUAQMB0wC7ANkA3ADMAJ8AXwAzAOX/EwDX/9r/cf9H/1L/GP9R/xb/Kv+A/2UAjwC0AAIA5f/QAGUB9QEbAS8BhwGJAcwBPQGFAb4BQQEyAc4AygCfAEQAVgBIABQAiv/v/vz+Mf8j/+b+a/5u/mT+Zv5h/oL+Sf9W/2//6f/6/4kAIgAnAK0A3ABqAXwAgwCQAIkAzgAtAJIAbwAwAO3/j/8QAA4ACQDj/6//3f/I/wMANQBFAH0AQwBjAIMAhwCvAH8A0AD1AL4AVgDT/9r/LAAwAAwAl/9J/z7/I/80/w3/9v7c/s/+2f7N/sP+8/4E/08A0AD0AOYA+f8cAYwBZAJcAqMBQQLvAT8C/gGWATACpAE5AcEANwA+AMj/rP+R/yP/w/4e/t/9Kf4p/iX+7/3l/Q/+Df4S/kL+2/53/3//tf8WADoAvwB9AOAAKQEyATMBjAAHAQwBBQHkAG0AzQCfAEsAHAD9/4cAVAAgAOD/l//L/6z/9v8TAA8ABQC8//j/AwAdAC4A9P9IACgA9f+m/2n/w//X/97/uv9p/4P/Yv9m/2L/Wf+B/0T/bP8l/03/L/8w/3T/PQD7AM4AsgAeAL4AZQG8AYUB8QBMAVcBQwEAAagABgHLAFEACACt/6L/SP8f/yr/Av+7/jf+Gf5q/ob+iv50/n/+pP6i/rv+3v6V/wIACAAYAF8A9wAQAUkB9QBBAZEBhwGIAQABVQEzAR8B9wCwANwAcgAnAPH/IgBhADQA+f+l/8n/4//o/+j/9P8kAPb/5f/F//H/AwAgAC0APABKANT/uP+G/9L/3f+l/3L/Ff8S/+r+4f7a/qT+qv5Q/lr+Sv5K/mn+Kv6r/q3+pv8TAAgAKQCj/6AAFwF+AZ4B7wBlAVgBhwGtAREBawHzAK0ApQAcADUAuf/F/9z/ff9Z/7T+uv4A/xv/FP+2/rf+w/70/kj/f//1/ysAMAAyALcAXAGIAZ8BLAGFAaUByAGhAR0BbgEYASABsABcAGoAAwDy/63/5f/E/2T/Uv8u/4z/gf+a/8H/uf/i/6P/uv/m/wIAKAAPABwANgBKABcA9v/P/8n/u/+S/1n/BP/0/tP+5v6X/nP+Kf4r/mz+Wv6g/oD+pP7W/vb+5v9sAOEAEQGvAFUBswE3AjgC3AFHAksCPAIJAroB/QHWAVwBBAF+AIAAGQDN/7b/fv9Q/9X+gv6Y/qP+r/6g/p/+yP63/rX+1v6K/wUAKgDh/+D/QgAQAXQBVgEpAckALgEPAUQB7wCsAMAAUQByAPj/zv+h/0X/i/9m/4f/Pv/2/jT/Kv+W/3b/d/9s/0z/pf+i/+3/zv+v/+H/2/8sAD8AJwD1/73/1f/g/8f/l/99/4T/pP+N/1H/Mf8h/zf/S/9t/2T/Yf82/2P/mv9FAAYB9wAKAWcAugBFAYMBsQELATEBIAEJAQoBpwDfALUAQwAAAIf/jf9r/2b/k/9D/xD/lf57/uL+Cv8v//L+zv7y/tb+Av8D/4P/CADK/7//Vv/H/1cA1wA2AckAvwBPAGUApgC3ANcAcwB4ADIA9v/M/5z/7P/s/+7/s/9V/0D/XP+0/wEABwDs/8j/sv/9/x8AdwB8AFwAagA+AJMAfgDLAOsAvwDOAFwAVwAfAC4AawBCADQAp/9i/0X/TP9+/yH/Av+p/qT+uv6t/tf+Qv/n/xsA7f9W/5P/JQC6AMgAWgCEAHMArwCUAIEAwACXAHoAGwAKAAMAxv/F/53/nP9Z/97+qf6h/gf/+P6s/nz+Xf6B/pz+wf5B/3r/jf9s/3L/4v9nAAgB7QAkAcQA4QD0AA0BggEIATkBwACiAJIAQgCZAG4AcgA1AOH/1/+R/8L/DwBZAGgABwDV/8T/CgBVAGsAZwA3ACMALAA3AIUApgCbAIoAQQA8AA0AAwAWAPv/CwC8/37/M//9/iT/Jv8x/+v+l/6V/nn+pP6x/tD+jP+S/8v/Vv8K/7z/4P9/ABsA/v9BAAMAWQANADgAewAqACoA1v/u//n/zP/q/9X/6/+y/1X/TP9l/6L/mf9b/0H/Kv87/1H/eP/T/w8A6f/2/+f/dgD1AAgBWgHlAEQBQgFTAYABFgF+ATMBTAEfAc8ACgG8ANIAjABmAD0Axv+8/6L/0P/L/3n/Ov8N/0P/dP92/2v/Vv9o/5L/o//w/w8AMAAxAAYAJwAeAEEANQAgACAA7P+1/2r/Qv9G/yX/7P6T/lL+Lv4U/u79Mf6j/sz+0P4k/jv+pP42/6X/Mf9+/6H/3f8sAAkAngC7AKsAqgBqANIAuwCgAK8AkgC+AE0A4f/U/97/LgDb/5H/W/8m/0H/Ef9y/7T/1f+0/2L/tv9cAPAAJAHkANEAEAE0AXYBSQFfAXUBRgFFAfIAAAHYAIoAhQBeAHkABACI/0z/WP+z/5T/Zf8X/wP/KP86/23/aP90/3L/b/+h/9P/+f/Z/8T/1//2//b/x/+O/4f/l/+W/1//Df/W/rP+pf6k/of+Zf4h/vz99f1N/v7+MP9t//z++/5Y/7f/UgAoAHAAiwCXANcAuAAXASgBCAH9ALgA3AC8AIwAiwBkAG8ALwDe/8T/tf/d/7//j/93/1L/af9R/5b/9v87AI8AWgCRAJoA4AAzAS0BdgE6AU4BOwEyAV8BFwEpAesA1ACuAFsAYAArADsADwDb/6H/Q/84/zn/Xf9x/0n/Kv/+/gL/Nv9G/2//Zv9r/27/YP9o/13/ef+W/5n/gP9I/yT/Iv83/1z/TP8w/+r+xP7F/vb+Jf8o//z+K/+W//b/OgDF//D/EQB9AMwAiADbALYA5gDjAMcAQgEbAQwBmQBaAKYAmQClAD4ACwAaAAMA/v/I/83/6//R/8D/oP+4/9X/yP/y/y4AggCXAIoArQD8AFkBUwEyASABSQFdAUIBIwEdASsB/gC2AIYAhwBtAC0A4P/T/+r/0/+R/0X/Mv89/zf/Nv82/0j/Tf83/zH/UP+Z/7z/wv/B/9P//P8EAAIA9f8LADMAMQAMANT/xP/P/9j/1f/M/67/i/9X/1j/c/+V/5X/jP/N/xAAZQBBAA8AFgBVALUAsgCzALAAtgDGAKgA1wDpAOoAvwBiAFYAUABuAGQAOgAfAPD/4v/N/87/3P/L/6v/iP+J/7j/zv/u/xwATQCSAH4AcABzAKQA9wDzAPkA1QDeAOsA1gDnANcA6gC/AIcAZgBWAGEAQgAtAA8ACADq/7v/i/+E/6X/tv+3/5v/nv+q/8f/5f/u////+//+//v/BgANAPn/7f/p//b/9v/U/6n/lv+k/6//of95/1H/Rv9J/1v/XP+b/9b/FgA8AAoAFgAGADIAVwBqAKsAmwCcAGoAXACgALoA1ACUAGAASgA0AE4AOAA5ACsAEQDy/73/t/+9/8z/0f+8/7b/u//Q//3/KABMAFkAWgBxAJ4A3wAbATgBUAFMAV8BZAFlAWIBPwFFAS0BHwH/ANIAyQCcAH8ARgAjABQA/f/u/8X/uP+p/6v/rv+u/7X/pf+h/5v/rv/W//f/CwAMABAAFgAfACMAKAAyADIAJQAEAOz/3P/n/+f/1f+1/5L/fP9o/23/aP9s/1r/TP9B/zj/Qv9R/27/kP+s/8r/3v/y/wUAEAApAEQAYgB7AI0AmwCXAJUAowDAANcA0QC2AJkAjgCUAJ8ArgCqAJ0AiAB3AHkAcgBvAGsAZQBhAFQAVgBgAHcAgwB2AGQAWgBYAFEATgBVAF8AWwBIADMAJwAgABQAAwD6//v/8f/S/7T/rf+4/8L/vf+z/6//tv/I/9r/4//k/+v/+/8LABUADQAKABAAIAAqACcAHQAAAOr/4P/n/+j/0P+1/5z/lP+T/4v/if+U/6X/tP+6/8T/zv/S/9v/2f/p//r/CQATABsAQwBpAIgAjgCEAIMAggCOAJYAowCwAK0ApQCUAI0AkQCOAIsAfgB4AHMAbgBsAHEAgwCOAIsAhAB6AHcAfACEAIoAjgCMAHoAZQBYAFQATgA9ADAAIwANAPD/z/+3/67/p/+V/3z/bP9q/2X/X/9c/2L/c/+C/4v/kP+d/7P/yv/l//z/CgANABAAFwAjACwAJgAbAA8ACQD//+X/yv+z/6r/oP+O/3z/a/9l/2P/Zf9r/3H/df94/4H/kP+a/6f/tP/E/93/7v8AAAUAFAAoADkASABNAFAASgBKAE4AUwBaAFEAPQAwACcAJgAlACIAJAAiACAAEwAFAAkAFQAqADMAOQA1ADAAOQBHAFEAUQBLAEYAPQA4AC0AJAAaAAYA9P/g/9D/vf+m/5j/j/+Q/4b/cv9c/0X/Qf9D/1D/Wf9g/2b/bP93/4P/mf+0/87/4P/i/+X/8P8CACAAMwBDAEsASgBIAEgAUgBfAGcAZQBeAFoAVQBNAE8AVABaAFUASwBCAD4ARQBIAE8ASgBBADwAOAA5ADoAQABJAFEAUQBKAEYARgBPAFcAWABYAFAAQQAxACcAKgAvACsAIgAZABEACwAKAA4AFQAcAB4AHAAZABIAFAAaACcAOAA4AC8AIQAeACsAMwA4ADEAIwAWAAgAAAD8//z/8P/b/8T/sP+j/5T/if+G/4j/iP99/3L/cf93/4b/k/+d/6f/sf+7/8T/1//1/w8AJAAsADYAQwBPAFoAYQBmAHAAcQBnAFoASwBDAD4AOwAzACkAFgD//+v/4//k/9n/yP+5/7P/tP+7/8T/yP/K/87/0//W/9v/4//w////BAAEAP///f///wUABwAIAP7/9P/p/+P/6P/p/+j/3v/U/8z/x//L/9L/2f/d/+H/6P/v//b/+/8GABIAJAApAC0ALwAzAD4ARQBLAEsASwBEADUAJwAdABYAEAAFAPn/7v/m/93/2f/X/9b/2v/d/+H/3v/e/+T/7/8CABAAGwAfACAAKAAyAD0AQgA+ADwAOQAzACoAGwARAA0ACwAEAPf/5v/U/8b/u/+3/7L/pP+V/4T/gf+F/47/kv+S/5H/kv+a/6r/uP/G/9D/1f/f/+L/5//v//T/+//8//v/8//t/+//9f8BAAMA///y/+f/4//l/+7/9//+/wIAAAD+/wMACQAQABIAEQAUABcAGAAbAB0AJQAnACYAHgAVABAACAAGAAAA+//z/+r/4P/Y/9j/3P/b/9j/0f/N/83/zP/P/9D/2f/i/+L/4P/g/+n/8f/2//n/+f/4//X/8f/v//D/8P/m/+D/2//Y/8//wv+4/7L/sP+t/6L/mP+W/57/ov+i/6f/sf/B/8z/2//m/+///f8LABkAIwApADAANgBAAEYARwBJAEEAPwBCAEUARAA3ACoAGAANAAQAAgADAAMA///2//D/8P/z//r//v/+//7/AwAEAAwAFAAiAC0AMQAyADMANgA2ADcAMgAsACgAHAAUAAsABQABAPT/5//b/9P/y//H/77/t/+3/7f/uv+7/8D/v//D/8n/zf/Q/9P/1//Y/9v/3P/d/9v/1f/O/8z/zv/O/8r/xf/D/8P/wv/A/7z/tv+2/7j/vP/A/8P/zP/X/9//5f/n/+3/9f8BAAkAEAAbACAAJAApAC8AMwAuACsAJQAjACAAGwATAAYA/P/w/+j/5v/j/+H/2v/V/9H/0P/U/9j/2v/Z/9j/2v/a/93/3//k/+v/7P/n/+L/2v/b/9v/1//P/8j/wf+4/6//pP+d/5f/kf+I/4H/e/97/3f/df92/3f/fP+B/4f/i/+U/5r/n/+l/63/uf/A/8j/yv/O/9P/0//V/9f/3P/e/+D/4f/n/+z/7f/t/+r/6//v//L/9v/2//X/+P/6//7/BQAOABMAFQAXABwAIQArADMANwA3ADcAPAA+AEMAQQA5ADEAJgAeABsAFAAKAAIA/P/2/+v/4P/X/9H/zP/J/8P/v/+4/7H/rP+p/6b/pv+l/5//n/+g/6P/nv+a/5f/mv+d/5j/lv+T/5P/jv+N/47/lP+W/5T/kv+S/5L/kv+W/57/ov+r/6//t/++/8b/zv/U/9z/5P/s//H/9v/3//3/AwAIAAwADgAQABAAEgAUABIAEQAQABEAFQAYABkAGQAaABoAGQAaABoAGQAcACEAJQAlACYAKQAwADMANwA6AD4AQQA+AD0AOgA1ADEAKAAhABsAFQAOAAQA+f/y/+j/4v/Y/9H/yv/B/7r/sv+z/6//rP+o/6f/rP+u/7H/sf+y/7b/uf+8/8H/x//M/9T/2f/h/+f/6v/r/+z/7f/w//H/7P/q/+f/5f/k/+b/6P/n/+j/5f/n/+3/8v/3//3/AQAIABAAFQAcACUALAA1AD8ARQBIAE0AUQBXAFoAXQBbAFsAWQBYAFMATwBKAEYARAA9ADkAMQArACQAIgAeABoAFwAWABcAFQAVABEAEAAQAA8AEQANAAQAAQD+//v/+//2//D/7P/m/9//1f/P/8v/xv+//7n/tf+w/67/rP+t/7D/sP+t/67/rv+z/73/xP/M/9H/1v/b/9//5//v//T/9//5//j/9f/1//j/+f/5//f/9f/z//L/8v/z//H/7v/p/+b/6P/q/+3/8P/1//f/+P/6////AgAIAAsAEAAXABoAIAAhACcAKgArAC0AKwAoACUAIAAdABoAFwASAAsABwABAPz/9//0//P/8//v/+v/6f/o/+7/7//u//D/8f/z//L/9f/3//v//f/9/wAAAwAIAAsACwAJAAcACQAJAAkACAACAP//+//2//j/+P/2//P/8P/v/+//8f/x//T/+P/8//7/AAABAAgADQAQABUAFgAWABcAHAAjACQAJQAhACAAHwAgACEAHQAcABoAGAAWABcAFgAUABEADwANAA0ACQAIAAUACAAMABAAEgARABEAEwAXABsAGwAcAB0AHwAgAB8AIAAfACEAIgAfAB8AGwAaABkAGgAdABwAHAAaABkAGwAcABsAHAAdABsAHAAbABwAHgAdAB8AHQAiACQAJgApACcAJAAlACMAIgAfABoAFQAQAA8ACgAGAAQAAAD8//n/+v/5//b/9P/0//b/+P/6//3///8EAAkADQARABMAFgAZAB4AIgAlACcAJwAqAC0AMAAuADAAMAAwADEAMAAwAC4AKgAoACgAKQAnACgAJgAlACYAKQAoACoALQAvADQANgA7AD4AQQBFAEcASwBNAE4ATQBKAEkASQBHAEMAQQA/ADwAOgA3ADQAMwAxACwAJwAiAB8AHQAcABwAGgAZABcAGAAcAB0AIQAjACAAHwAdAB0AHwAfAB0AGwAYABkAFAARAAwACAADAP7/+f/1//P/7v/r/+n/5v/l/+T/5f/o/+n/7P/r/+r/6//x//L/9f/5//v///8BAAMAAwAHAAoACwALAAsACQAGAAUAAgABAP///v/8//v//f/9////AAABAAMABAAEAAgACwAOABIAFAAYABkAHgAhACQAJQAmACUAJAAjACEAHwAbABoAGQAXABMAEAANAAsACQAHAAIA/v/7//v//P/9//z/+//9//z//P/7//n/+//+//3/+//7//j/9v/y/+//6//o/+P/3//Z/9X/0P/M/8j/x//E/8T/xP/C/8L/xP/F/8f/zP/P/9b/2f/e/+X/6f/w//f/+f8AAAYADgATABgAGwAeACEAIwAlACYAJAAhACIAIAAhAB8AIQAiACIAIAAfAB8AJAAnACoALAAvADUAOQBAAEIASABKAE8AUQBSAFAAUQBTAFMAVQBQAE4ASwBHAEMAQAA8ADgAMgAsACgAIAAZABUADQAJAAYA///7//v/+P/2//T/8v/x/+7/7f/p/+r/6f/o/+j/5//m/+P/4f/e/9//3//h/+D/3v/e/93/4P/g/+H/4f/l/+f/6f/s/+//8//4//v/AAAFAAkADAASABgAHgAkACcALgAyADcAOQA6ADwAPQA/AEEARQBDAEQARQBEAEYARgBGAEIAQQBAAEAAQwBCAEQARQBEAEQAQwBDAEQARABDAEAAPQA9AD0APAA6ADcAMwAuACwAKgAnACYAIAAbABcAEAALAAcABAAAAPz/+P/1//H/8f/x//P/9f/0//L/9P/1//b/9//5//r/+v/6//z//v///wIAAgADAAUABAADAAIAAQADAAQAAgACAAEAAgADAAgADAAOABAAEgAWABkAHQAhACQAJwAqAC4AMwA2ADsAPQA9AD0APgA9AD0AOwA6ADgANAAxACwAKwAnACMAIAAeABsAFwAVABQAEwASABQAEgATABMAFQAYABkAHAAeACEAIgAiACMAIgAhACIAIgAeABwAFgAUABEADQAHAAMA/f/2//P/7//q/+j/5v/j/+P/4f/i/+H/3v/f/97/4P/h/+T/6P/p/+r/6v/o/+r/7P/u//P/8v/u/+//8v/w//D/7//u/+//7P/q/+v/7f/x//D/8P/y//T/9f/5//3/AQAEAAcACgANABAAEwAUABUAFgAXABQAFAAVABYAGQAXABQAEgASABIADwAPAA0ACgAHAAYABAAFAAYACQAIAAoACwAOAA4ADwARABIAFAAUABQAEwATABIADgAQAA8ADQAKAAgABwAFAAIA/v/5//j/8//x/+//7P/r/+3/7//t/+7/8P/y//X/9//3//r/+//+/wAAAQADAAcACwALAAwACwANAA4ADAAMAAsADAAKAAkACQAHAAQABAABAAQAAgD//wEAAAACAAIAAgAEAAYACQAJAAsADAAOAA8AEgATABUAGAAaABsAHAAcABsAGwAXABYAFAARABAADQAOAA4ACQAHAAcABwAFAAMA/v/9//3/+//6//b/9v/2//f/+P/4//j/9v/1//X/8v/w//D/7f/q/+n/5f/j/+P/4f/g/93/2v/Z/9f/1f/U/9f/2P/X/9n/2f/b/97/4f/i/+X/6P/o/+r/7f/u/+7/7//w/+//7//w//H/8f/x/+//8f/v/+3/7//t/+7/7P/s/+n/6P/o/+f/6f/r/+3/7//y//H/9P/2//r//P///wAAAQADAAMABQAFAAYABwAIAAkACAALAAkACQAGAAgABwAGAAUAAgACAP/////8//7/+//7//3/AAD+/wEAAQACAP//BQD8/xIABgAEAA8A8P8PAPn/AAD4/w8AFwAUAP//z//c/8L/3v/O/8//0v/M/9v/zP/Q/8//0v/O/8f/xf/R/9X/2P/Z/9b/2f/i/9//5f/l/9//6v/n/+H/6P/k/+n/8f/y//X/5f/Y/9L/0//Z/9v/1//U/9H/0P/U/9L/1P/X/9j/1f/Y/9v/2//g/9//4P/g/+X/5v/l/+r/7//1//b/9v/1//j/+f/3/+7/7f/o/+n/6v/o/+7/7P/t/+j/6//m/+f/6f/m/+n/5v/o/+n/5f/o/+v/7//+//n/AQDw/+b/6P/a/+T/4P/d/+D/4f/g/9v/2f/b/9j/2//W/9T/2//a/9X/2P/Z/9b/2f/V/9n/3P/h/+H/4f/o/+j/6v/s/+3/8P/0//L/7P/o/+7/8v/3//f/8//1//b/9f/4//7//P8DAAAAAQABAAYACAAJABMAFQAaABcAHwAaAB0AHwAaABgAHAAYAB0AIwAcAB0AGwAbABQAHQAMAA4ADgALAA8ACwARAA4AGAAWABYACwASAAgAEgAOABAAFAAFABAA9v8EAP7//f8EAPr/+P8DAPT/7//w/+n/7f/s/+3/5f/v/+b/6v/n/+r/5v/i/+X/4//p/+T/6P/r/+//7//1/+v////+//v//v/3//z/AgACAAIAAgACAAMA9f/z//L/7P/y/+v/4v/z/+X/4v/i/93/7P/q//D/9P/4/wQA/v/0//j/7f/2//v///8JABEAGwAVABQAEgAUABIAGQAVABQAFwARAA0ADwANAAIABgABAP//AAD2//f/8v/v/+n/6P/o/+X/5P/i/93/3//g/9z/5P/k/+j/7P/w//f/9f/3//n/+v8BAAUADAAMAAoAAAD8//P/5//k/+L/5v/n/+n/5v/x//L/+P/2//T/+f/0//z/9//3//f/9f/5//n///8JAA8AEQAOAAoADgAQABEADQAMAAoACAADAPz/+//1//T/8v/z//r/AAAHAAkADgAWABoAHAAZABgAFwAaABwAHQAeAB4AIwAhACMAIgAfABoAEgAIAAMABAD5//7/8//1//H/7v/1/+7/7f/j/+T/3v/j/+D/5v/h/+X/6v/s//T/8//6//f////3/wMA//8LABYAGQAjACMAKwAiACUAFQAVAAsADQAMAA4AHQAjAC8ALAAxACwALgAtACwAIwAZABgAEgAWABcAFAAWABMAGgAcAB0AGgARAAgAAAD7//T/8//t//X/9v/9/wIABgAKAAgACwALABAAEAAHAAcAAwARAA4ADwARAA4AIAAcACgAFAAkACAALQA1ADoATQBFAF4AVQB1AHcAiwCMAIgAlACSAKcAkwCUAIAAdwBtAF4AUwA+AC4ADAD1/9b/xv+t/43/e/9o/3X/fv+V/6b/w//g/wIAHAA1AFwAfQC1AN0AHQFIAXsBiwGLAXUBSAEPAbEAYAABAMP/gf9d/zb/LP8o/yb/G/8J//j+3v7W/rb+sv6s/rj+2f7s/gn/Fv8X/w3///73/vf+DP8a/33/QwB0AacCkgMdBE0EfQQ4BJsDjgJiAU4AVf+g/j7+XP6d/tr++f4g/2v/r/+v/0z/1P6A/nD+dv6b/vH+Yf/w/2EAwgAeAXcBngGYAVgBFQHdAJoARwDw/9f/0f/i/9z/4f/u/woADQDu/9X/xP/d/9z/6P/9/y4AbQCfALYArQCQAEQA6v93/x//4v62/qP+tP7v/kj/mv+6/8H/qP99/yb/rf47/uT9tP2l/aj95/04/pf+8v4a/1T/Y/9d/yD/6P7H/kn/TgAtAVkC0QJkA9UD4wOUA4sCgwE0ABL/Ev5y/XT9rv3u/UT+vP5W/wUATQAdAL3/ZP8p/+/+wP7O/hL/YP+2/xIAXgClAKQAgABEAAYA///u/83/zf8BAE4AjgCrALIApgCEAEsABgC7/5f/gv9v/2j/h//P/wMAKQArACEAIgAVAPT/zv+8/77/zf/i/wgAPQBcAFsANAASAPL/zv+N/zb//P7l/uf+2P6+/pr+kP6P/pz+lP6P/pn+mf68/tz+G/9C/2z/ef+B/5T/nv+9/0MAOQEeAh0DbwObA80DmQMCA74BfwA//zv+bP3g/Ar9d/37/Yb+Fv/H/4YA+ADXAIMAQgAWAN3/mf+C/5r/yP/s/xkANQBmAGoAUgArAOr/4f/c/6r/n//K//n/MgBMAFYAUwBFADgABADE/5b/eP9//4f/qv/h/wkAMQBKAEkARgA8ABoACAD6/woALwBaAI4AswDCAL4AkwBKAPb/i/8e/73+jv6D/pj+vP7d/vv+JP9V/2n/Yf9Q/zz/Kv8z/xv/Mf8+/0r/c/9Z/2L/UP9P/0T/0v/aAMIB2QImA28DywPPA2kDSAI3ARMAJv9u/t79Cf5Y/qj+DP+B/0AADQFxAUcB8wDDAKAAYQACAL7/s/+o/63/tf/V/wgACgAGAPT/8P/9/+n/2//U/zUAfgCIAKoAsADSALAAZgAFAKb/Wv8M/+z+6/4o/2L/o//X/xcAawCJAIcAWQBWAFIAUgBbAG0AnQDCAO8A7wDqAL4AcAAQAIr/Kv/J/ob+T/5d/pP+2f4x/2H/nf+8/77/xf+b/2v/Vf8Y/x//EP8m/0X/Pv9d/07/VP88/xv/q/+EAFkBTQKIAvgCdQOQA0EDOwJkAXMAoP/h/kr+Wf52/rT+D/+A/zgA4gAuAe4AowBwABgAk//v/or+ef6K/rv+Ev+A/wQAbgDIABEBJQEaAcAAYQA/AE4AXAAZAAIADAAzAFAANwAZAPH/4P+9/6L/oP/B/9X/2v/3/zQAngDiAPoA8wAPAS8BMAEIAdAAsgCXAHYAOwAPAOH/0f/Z/83/0f/e/9n/v/+4/9H/5P/t/9n/xv+6/7D/m/9m/zH/Av/k/q3+iv5z/lb+UP5G/j7+Q/5R/nr+j/50/8sA9AFbA8IDXATZBNUEigRGAyICwACJ/3b+lv2Z/av9yv0P/oj+Xv9IANoAyACHAG8AWQAdAMb/d/9v/4L/tf8PAFoArADGANkA2gDIALIAUwDQ/7X/0/8iAGIAXgClANwAGQEUAegA0wCTAFkADwDn/+r/8v/o/+n/9P8ZAD0AIgACAA4ANABHAEoAWQBxALMA6gAHAR4BKgFLATkBDAHHAHEAKwDG/2//Nv8L//b+5/7l/uj+5P7J/pz+aP5A/i7+Hv4X/h7+P/5n/qL+3v4Q/2T/bP+I/4///P8OAbcBvwLwAjYDxQOuA5gDmgLFAdUA1f8J/zn+If43/lr+o/4O/9T/tgBbAYoBiQGcAYIBNQG1ADwA///P/5X/ff+C/6n/t//G/+D/+f8mACYA3f/X/xcASwB3ADAAOwBJAE8AUgATAB0ABwAaAA4ABwAvAE4ARwAXAAgA/f8OAPP/xv/G/+7/NgBmAJkA0gAjAWIBawFgAT4B/gCSAAkAdf/1/q3+ZP4r/iP+T/6g/uX+GP8z/0L/L//8/qj+Y/4x/g/+9/3c/Rb+YP66/hP/NP9o/4n/m//S/5oAZQFKAucCDwOzAwgENASpA70C5AHWAP7/3P4r/u39x/3k/RL+nf5k/zsAtgDPAP0AFgH8AI0A8P+B/z//Bv/S/rP+w/72/kL/pf/2/1gAugC+ALMA6QAAARUBtgBRACoA+f8FALn/nv+d/7f/6f/2/xkAMwBEACMAFwD7//z/9//E/73/4P83AHgAsADeAB4BXgFwAVsB/ACfACYAnf8j/6/+e/5c/lv+ef7G/ij/hf+z/73/sf+E/0j/7/6c/kr+Ff73/QH+Ov6H/t3+JP9n/6H/vf+o/+r/rwBXAT0CnwLbApAD5QMkBKID+QJBAkcBbgBU/7b+Wv4R/vj9Cf6T/lf/IACKAMAACAEvASUBuAA/AM7/dv84//z++/4d/2T/uf8tAKQAEwFjAUYBHgEQAfsAuQBLANj/df9n/1D/QP81/1D/mP/H/wMAJABMAEwAKgD1/7j/qv+O/3H/W/+N//n/WwC+AAABTgGJAaIBhAEzAdYAdADw/2H/+f6p/on+ev5y/o/+0v4l/17/bP90/2r/R/8H/7v+dP5F/jX+Lv5E/nv+2v42/3n/wf/z/xMAEgB6AB8BsQF8AosC2AJAA3EDggPIAjkCbwG+APn/FP+3/mD+R/4n/kT+sf5N/+j/DABJAI4AzADOAH0AMADv/9b/pP9m/0n/TP9t/6D/6P84AJsA2wDDALgAsgCpAJEAIQDZ/4b/bP97/2X/jP+J/9D/FwBJAH4AdwB9AFYANAAAAOT/wf+d/6X/vP8GAFMApQDXAAkBOAFOAUAB+gCpADQAvP9A/87+m/52/nj+gv6l/gL/X/+g/7j/sP+h/4n/UP/7/qD+Z/5G/kL+Sv6D/rj++v4f/zr/X/9t/2//uv9QAMsAnAHGATwC0AIWA1UDwgJsAs4BKgFzAIz/JP+w/o3+Vv5g/r/+L//N/+//QgB9AK4AqgBKAAoAw/+r/27/O/8d/y//aP+f////PwCdAMsAogCkAIwAnABxACEA5v+h/7j/pv+k/5D/mP/F/9//+f/1/woACgASAAEA6v/5/+L/5v/d//f/IwBMAHEAfwClAMcA6wDVALcAdwAvANP/af8n//P+2P7D/r/+0/4d/2v/o/+5/7v/wf+x/4H/M//i/p7+ev5X/kn+WP5u/qL+t/7l/gT/O/9i/wcApQBOASUCMQL3Aj8DngOUA+0CowLLAV8BeADe/2//DP/3/qL+7v4U/43/3P/P/xcAGgA6APH/rf9x/1X/Vv8v/zX/LP+A/7n/IQB1AMIAHgETARABFgEiAfsAuwA4APT/yP+p/3r/OP9L/17/jf+4/9j/AQA2ADsAQABHAEoAXgA7ACIANgBlAIoAlQCLAJEArADCALUAgQBXACQA3f+d/17/Of80/yP/H/84/2j/p/+7/8X/u/+o/5T/X/8Q/8D+j/5h/l3+R/5T/m3+fP6t/q7+5f7l/lL/GQCZAK4B/gGGAhYDOgOSA/cCpwL+AVIBwgD1/6f/Tv8///z++P4z/2H/xv+t/6v/qv+x/6b/Z/9A/xv/Pf9N/3T/ov/S/wUANwCGALEA3gDlAKkAngC5AL0AvwB8AE4AMQAMAPP/ov9d/0n/L/8x/1j/gv/L//L/FgBYAI8AvgDPAKEAfgCVAKMAmwCCAGMAcwCBAIwAlQBtAGcAQwAHAM7/nf+B/2P/Rv88/1b/e/+b/6D/o/+m/67/gv9J///+x/6W/mr+Uv5L/mr+if65/s3+/P4l/0D/jv9CANIAtQEfAl0C3wLkAicDqgI4ArkBKQHIAEQAHADo//n/xv/C/+X/5/8YAMv/kf9X/0b/J//0/uv+0/4r/1H/of/d/wUAPwBLAIcAegCfAK4AugDTAO0ABwEAAQkBygCgADsA+/+s/0X/L//7/hj/Qv9+/7//AgBGAIsA1ADPAM4AowCQAJ0AdQBfAF8AXwBeAFgAZQB4AFgAKAAHANb/wf+Z/1v/UP9c/13/Wf9V/1f/Wv9W/1n/Qf8u/wr/6v7f/sn+zv7U/s/+5f70/gf/Bv8b/y7/uv94ACMBGwI0AtwCGwP9AgQDKQLWASIBpwBNAAwALgAgAFIAHgBIAF4AQQAxAJP/U/8h/xX/Cv/4/h3/Sf+g/87/FAA4AFMAVABNAF4ATwB6AHwAjQDgAA8BNwFMASgBGAHPAGkAHACT/zT/Df/m/gX/S/+C/+r/KABgAKoAtwDFALEAhgBwAG0AcAB0AI8AmwC5ALEAjgBgABgA7/+r/37/R/8v/zD/Pf9d/3L/hv+G/3r/TP8z/wn/7P7S/sH+0f72/gj/LP8x/yL/J/8C/+3+wf6z/vD+sP85ACoBvgEXAucC0QLoAl4CrQE6AYkAJgDE/9X/6/8mAEYAWACPAGYAXQDl/2z/Hv/a/tb+vP7z/jn/mP/a/wIANQA+ADEABwDr/8H/z/8UAB4AfQDWACMBfgFoAVcBBwGiADoAy/9J/xT/E/8U/17/kf/z/0MAZQB+AHAAQQASANX/lP9//4T/rv/L//L/HwBFAEsAMQADANL/tf+c/4P/YP9j/3L/dP95/1r/Q/8s/wH/5f7Q/tj+8f4Y/zD/Xv+I/6H/sv+D/2P/LP8e/yb/Qv+j/wkAiwDyAFwBoAHNAdEBigE5Ac4AfwA9ABoAIAAvAFsAaAB/AIcAbQBDAPH/sP9x/1P/Rv9L/2v/mf/V/wQARwB1AJoArQCjAJUAggBbACYA7v/L/9D/0//n//T/EAAtADcAOAAiAAsA9P/W/7z/yP/V//f/CAAUACQAIwAiAAAA2/+7/7n/vv/h/wYAIQAxADEAJQAMANL/kf9I/wP/5/7V/tr+0v7U/tX+4v7s/vT+8v7y/gL/Jf9X/4n/xf/h////EAAcAFUAggDKAPgA8gD2ANgA3gC1AIwAVwAvAC8AKgBbAGwAigB3AFUAKADt/83/nP+B/2T/gf+o/8//AwAKABUA8v/d/7j/kP+Y/7P/IgCSABEBZwGdAaQBcAEgAZ8AOwDO/43/YP9h/5f/xv8EABMAFwAKAP7/9P/j/97/1f/f/+3/BgAQAA8A///g/9L/0P/j//z/EwA4AFIAYABcADIA7v+f/03/CP/Q/qj+m/6e/rb+6P4a/zD/Rf8i/xf/Cv8Y/zj/SP91/5T/4v8pAJsA/QBhAZsBnwGQAWMBSwEDAcoAdABLADYAOABEAEMAXAA8ABgAvP+N/23/X/9p/2r/lP+j/9j/6//+/wYA//8GAPr/JAA3AGcAkQCqAMQArgCwAJQAhgBxAGQAXgBWAGMAUwBNACQADwDs/8H/rf+M/4n/gP+J/5b/pv+4/7T/u/+6/8D/yf/S/+j/+f8XACEAHgAXAAoA9v/P/6f/e/9X/zH/Af/W/rf+s/65/rv+yf7m/g3/MP9M/1j/Yf9n/2v/cf91/5f/t//7/2MA0QBRAYoBmAGEAWQBSQEXAfgA0ADJALsAqACXAHIAUQACALT/Yv86/zj/V/+K/6T/uv+q/5b/ef9x/4//sv/r/xUASwB6AJ0AuACcAIkAbABcAFgAWgCBAKcA0ADKAKsAcwBIADIAFwAkACQAQQBGAC0AEADO/6r/c/9Q/yX/G/8y/1P/mP+6/+r/7P/1//P/5f/m/9L/3P/P/9r/1f/K/7n/lf+G/2z/cf9n/3P/hP+R/6v/sf/A/7r/t/+v/7b/0//x/yIANgBWAHsAlgCrAKAAiQBfADoAFgACAAUAGgA3AE0AYwBhAFkAOwAaABEADQAmAD8AWwBpAGgAXgA/AC4AIAAbABsAGwAaABMABwDv/9L/wP+1/77/zP/b/+//+/8MABkAKgBEAFAAWwBgAFkATwBIAEIAPwA2ACUAFAACAPn/8//v/+X/4//d/9X/zv/G/7b/pP+V/4r/hv+V/63/xv/d//f/EAAeACUAKAAhACQALAAfABIAAwD6//f/8//w/+b/0//D/7b/sv+0/77/yf/Q/9v/4//q/+H/0v+4/5v/gv9p/1v/VP9f/2z/g/+b/7L/zv/o/wMAGwBAAGcAlAC/AOcABwEUARUBDgEEAfIA3gDFAKwAlQB3AFgANAANAOn/x/+r/5P/hf9//4L/hv+J/4z/kv+g/6r/uf/D/8z/3v/q//H/8//2//n/9//5//f/+v/7//n/+P/1//b/8f/t/9//1//O/8P/vf+3/73/xP/L/8v/0f/Y/+P/7v/z//n/+v/+//7/+v/6//P/6//g/9T/zf/K/8v/w//D/77/vf+8/7j/vf++/8b/zf/S/9T/0//T/83/x//C/8j/1f/k//T/BgAWACUAOgBMAGIAewCRAKgAuwDSAOcA7wDrANgAvQCeAHwAWgA5ABkA+f/e/8D/rf+h/5v/kv+I/4f/hf+N/5j/nf+j/6z/uP/B/8j/0//d/+r/9/8GAA8AEQAHAPv/8P/l/9//2v/b/+L/8f8AAAgABwABAPf/6f/X/8L/tf+x/7j/wP/H/87/0P/Q/9H/0P/V/+L/8f8HABgAKgA4ADwANgAoABwADwAGAPv/+P/7////AwACAP7/+P/5//r//f8GAAsADwAOAAsABAD6//X/8P/z////EwArAEQAWwBsAHgAgQCHAIsAiwCPAJYAmwCcAJYAhgBwAFcAPgAmAA8A/v/s/9z/zf/F/77/uf+1/7X/vP+9/8P/w//I/8r/zf/P/8//y//K/8z/z//X/93/7f/6/wgAEgAcACMAIgAeABIAAwD0/+z/5P/k/+n/7P/w/+7/5//g/9n/0f/N/8v/z//V/93/4v/m/+z/8f/3//r//f8DAAsAEAALAAIA9v/p/9//3P/e/+n/+/8PACIALgA4AEAAQAA/AD0ANwA0AC0AJQAfABoAEwAOAA0ADAAQABQAFgAaACAAJQAqACsAMwA5AD8ARgBOAFYAVQBSAEcANwAgAAsA7//T/7r/ov+P/4P/gf+E/4r/k/+f/6//vP/G/8v/zv/N/8r/yv/I/8j/0P/X/9//6//4/wUADAAPAA8ADQANAAkAAQD3/+//6f/o/+j/8f/5/wIACAAIAAcACQAJAAkACwAJAAsACwAMAA0AEAAXABwAFwAPAA8AEgAXABYAFAAQAA8ACgADAAEAAAAFAAoADwARABQAFQASABAABwD9//b/6//q/+X/6P/l/9v/1f/M/8n/x//L/9T/3//x//v/CQAUABsAHgAZABMACQD9/+//2//H/7L/n/+M/3r/av9g/1n/XP9m/3b/i/+i/7v/0v/m//X/AgAMABUAIAAlACsANgA+AEQASwBRAFEAUABJAEAANQAoAB4AFQAPAAgABwACAAEAAAACAAkADwAVABkAGgAZABoAGgAXABIADAAEAP7/+//4//b/8//w/+3/5//i/9//2P/S/8r/wv+7/7n/vf/G/9L/3P/k/+r/7v/v/+//7v/v/+3/7v/w//H/+P/+/wUACgAOABIAEgAYAB0AIgAmACMAIAAcACAAIQAlACgAKAAmACIAGgAOAAUA/f/0/+z/6P/m/+r/8v8DABUAKAA5AEwAXQBtAHkAfQB9AHoAeQBzAGoAYwBcAFEARwA7AC4AIwAYAA8AAgD0/+n/4f/e/9v/3f/g/+L/6P/r//D/9v/5//r/+v/4//j/9f/y/+7/8P/v/+v/5f/d/9X/zv/D/7r/r/+o/6j/qv+w/7b/t/+0/7b/uP+6/7v/v//G/9D/2//m//T///8MABQAHAAiACYAKQArACsAKQApACUAIQAdABkAGAAVABcAGwAhACYAKwAxADEAMwA2ADMAMQAxADAAMQAxADAALgAwADIANAA2ADYAOQA5ADoAOAA1ADAAKwAfABkADgAFAPz/7//j/97/1//P/8j/wv/C/8P/yP/N/9X/2v/j/+X/6v/5/xUAXQD3ANYAPgBL/2T+xv43/7z/7P8ZAHAAaQAEAGn/Qv9d/4v/av+O/63/wf/m/7n/yf/M/9H/6v/c//L/8//x//H/AgA7AF4AjwCuAOwA0ABRAPX/sv8LAGwAnQCZAGAARQAcAP7/uf/Y/8j/JQBFAP//GQDB/9v/6v/e/+T/CAD9/wQACADs/0QAYAD8//n/sf9LAC8A/P/6/4z/bwCj/9L/pf/Z/1MA8P+4/13/iP8T/wgAl/82AAQAXv9BAAf/NABq/5P/YABS/3sAQf93/zsAAQBOAJb/Tv+2/xoAr/8HANL/LQDT/5H/5/9Y/7kA3//L/3kAF/8TAOH/1v9gAMX/CwCk/2MA5/8xAAkA0/9JAAkASwDr/90AbwDUAC4A2/8LACEAigBWAEsApAAGATwAUgDc/3wAngB/ANX/UwBhAOb/xACA/yAALAAOADQAgP/6/ycAXABYAPD/vf82AAoAQwA/AOz/SgDk/+r/nf8nABgA+v+x/yoAsP/a/wsAM/9lAG3/PgC5/0wAov/D/+n/wP9BANP+uf9H/74ABgCk/wkAgQARAPr/tv/M/+oA4v///8b/swBkAAcAZAAPACQA2gDi/4IA8wAdAMgALQAQAHkAcgCtAOj/WwC9AAQAnACw/+H/SACnAHMAagAzACAAuQBOABwA2P+DAJAATQBbAB8ALgBbAEUAVQAVACoAIwASAOL/IQD5/xQAh/+F/woA0f8fAHj/6P+8/2X/kv+1//P/OQCj/6H/iP/F//D/g//s/8j/PQBmAN//vv+5/4b/vf+d/ywA0P/V/08Anv9LAAIAkv9qAOL/VQBPAD8AnQD0/3oADQA+AI8AcgB9AGYAaAC8AI8A2P8eAGMAcwChAHAANwB6APL/CwBCABgAqQBkAG4APgAjAHkA8/+5/xUAVABSAK8A9/84AEkA/f9IAFz/1v8TAHAAhQANAPb/HADW/7P/CgCM/30ACgDA/yMA7/+oAOz/V/9s/7j/QADo//j/HQADABgAuf+g/+P/lf+2/+j/1f8tAOr/IwD///X/XwD7/0sASwAhAGUATwBdAB8A8/89AD8AOAAJAAEAJAA9AAEAJQBQAB4ASwD+/yYARABPAGoAOwBIAFAAdgBxAGUAHABFADoAVgBRAB4ANAAjADYA0v/+//T/9P/0/wAAMwAlACgACwAbAP//KQA8ACYAJQAnAE0ASwBJAE4AQwAgABcAHAArADYAGAABABMAEQAXAAwA9//7/9z/5v/p//3/8v/W/7f/vf/Q/8b/pf+f/7n/jf+H/3X/i/9r/33/a/95/7v/jv+A/2//sP/P/9H/y//Z/xUAOQBWAGgAmgD6AE4BjwG0Ad0B9gHoAaoBaQFQATMBOAEEAecAyQBhAP//lf9H/xf/LP9R/2f/nP+///L/8//t//T/FgBEAGoAvgCtAMIAmQB3ADwA+f/o/6H/qP99/33/Yf85/xL/9f70/uL+9v7X/tv+z/7J/tz+0/4E///+NP9K/23/mP+H/6n/k/+6/7f/sv8bAAIB/wGTAqICSwIXAsIBCwFrABwAJQB1AJwAvQDFAJ4AQgDa/6b/gf+U/6v/vf8YAHkAzwC4AIUAGwC4/4L/Jv8d/yL/iv/K/1gAzAABARQBtQCNAGQAlwCzANwABAEyAWQBJwG4AOf/QP/e/or+d/5a/nz+gP6E/or+av5D/tz9pv2I/bL97f1l/sP+C/9G/23/ov9t/07/Bv8E/1n/1P80AF4AigBjALEA9QA1AXsBYQFLAREBKgG5AEUA7v+o/9f/pv/F/6H/0//K/6P/qf9M/4D/YP+g/wEArAB0AZEBqgFBASEB5gBVAMH/Gf8U/yf/rP8tAJUAAwHoAMQAQgA1ACEAJgBYAJMAIgE7AS8BsQAhAHr/7f6T/jz+Cv73/R7+Wv6A/m/+KP7q/bb9sv33/ST+Q/5S/rD+EP9f/1//Mv8f/z//cf+3/wwARQCdAMMAGQEQAfoAbwAkAHIA5wCzAeIB5gGMAYYBKAF+APn/UP9J/0r/of/q/0sAgwBJAEoA7P+8/4z/Vv+N/ysAMAHMAQ4C4QGhAWIBmwC8/9f+cP50/tP+k/8xAPMAKAH9AH8AJwAjAO3/DwAYAI0A6wA4AToB2wB1AMr/R/+C/hr+3v3e/R3+ef7t/g7/8v6O/jb+Cv7h/br9lP3H/VL+8P52/63/z/+m/2//R/9m/5b/3/81AKUAIwFMASwBswDRAPQAXgGJAZIBhgGEAakBOAEPAYIANQDX/3X/c/+D/+D/5P/7/+//xP/a/6T/fv+I/wwApgAJAXYBbwGPAVYBxADX/+H+WP4m/qD+GP/3/9cAbAGMAVsBVQEWAQMBoQBzAJ0A2QAhAQEB5QBhANv/E/9P/tT9eP2F/aP9GP6A/uv+Gf8T/+3+tf58/kX+OP5m/u/+bv/m/yIASQAoAPD/n/90/3n/mv/Z////WwCjAKkAeACQANUAMwFlAU8BGgEzAVYBEAHAAFgACgCs/2H/Pf90/8X/4f/k/8v/vf/G/7T/fv+E/9v/cAACAZsB/AEcAhACgwGNAFf/kv4k/lj+6/50/2MA/QBoAXUBVwEWAckAlwBfAFoAaACjAMYAtQB2AAgAc//Q/jX+wv2R/ZP90/05/qH+//43/zH/+f6v/k/+5/25/dP9Bv5t/rn+Ev8z/0z/Qv81/1X/WP+b/5n/9v8UADQADAA9AMMAHwGkAYkBfAFJAXgBFgGTAFsA7v/K/4z/mf+8//3/MwAbACoAKQAuAD0ADAADACwAkgALAZ8BQgJ4Ao8CKAJ6AXoAfP/L/mv+1/4e/8//pABiAegBKgI2AsIBcAHgAIQANwA+AFUAUQBRAA4A1/9T/8/+Sf7Z/YH9UP2G/dX9VP6t/uT+//7g/qL+Hf65/Wn9Zf2P/dP9F/50/uL+Mv92/5n/qv+V/6D/pf/X/wcAGAAuAKYANAHPARwCJgL7AeAB0AEnAd4AaAAiAO3/vf/b//v/UwBpAHIAnAB+AIwAdQBZAFUAUwCOAO4AxwFhAq8CrgJoAtkBGAECACz/0v7m/jv/jP9sACEB7gFkAlwCOgLfAWoBxgBQAP7/3v/f/7L/mv+E/2L/G/+8/k7+4/2W/Wn9kP28/RP+TP53/nD+Qv4X/tv9n/2D/aH9uf3f/Sn+bv6+/gT/QP9r/3r/nv+j/8b/vf+5/73/8f9fANoAUQGSAZkBsgHBAVUBIQGiAEYA+/+U/6b/yf8zAGsAzAAlASoBmgGlAZIBZgEvARQBMAHOAVUC2wIgA0AD2gJNAjcBGgBu/9f+5f7T/nj/FADpANwBNQKfAlgC4wFOAboAJACc/1P/+P7d/tP+uf6r/p/+bv4E/sj9lf2m/dj97v0R/hb+J/4M/vf92f3I/cT9x/3K/bz94f3m/Qv+Gf5E/oP+zP5E/4L/BQATACoA8P+7/xAAMAC9AAcBfwG/AR0CYAIaAhACjQEjAYsANQBAAGcA1AAeAYwBzgEbAm0CWwIWArABZQEHARMBaQHJATQCYQKEAhACyQHfAOv/YP/c/tX+pf4i/53/YgAzAZUB4gHOAakBPgHMADoAv/9F/7X+Y/4m/iX+K/5D/i7+Df4c/gj+Ev4A/vH9xf2e/ab9jf23/dT9Ev44/lL+b/5q/or+g/6K/nj+dv6d/uT+O/+L////NABjAFwAUgCkAOYAgQHHAQcCOAJoAqQCRQI/AsUBUwEAAZkArAC9ABEBNAFUAZUBrAHsAfUBwQGlAWkBLgERAUQBggHMAf8B/AHEAWoB4QAKAK7/Mv8M/wD/IP+K/xwA8QA3Aa0ByAG7AYEBKQHAAB0Av/8M/63+cf5Z/mn+av6Z/pH+t/66/rT+p/6F/lr+Ef7+/ev9Af4D/jX+Z/6r/uL++v4C/9r+xf6k/pX+mf7l/jr/oP/6/1QAkgC+AMsA3wAdAXABvQHrARgCHgJoAjkCDQLAAU0BFQG5ALMAqwDRAOYA+gAyAUABXAFpAVMBOwEhAf0A2gDlACwBeAG+AdUBvQGMATEBtgAbALX/X/9G/zz/XP/B/zsAvgAEAVQBXwFWASEByABRAOX/iv8I/8n+nf6m/qT+vf7a/un+Av/2/un+sf6W/mb+LP4U/uf97P3v/Rr+OP5g/pD+gv6S/nL+bP5b/l/+YP5h/qn+4P5R/7X/JAB5AKkA8gA9AcYBEgJeAl0CQAJTAhMCFQLZAZsBTQHlAN8A2gD7ABMBBwECAe4AEgEaAf8AAQHdAMsAyQDqABgBZgG7AfIB+QELArgBWwHLAEEA7/+H/4X/UP+X//X/bgDWAA0BPAEGAd8AjABLAPH/mv9D/+v+wf6t/qv+nf6n/o3+c/5k/kL+Jf4L/v393v3e/eb95f3q/fj9GP4z/mn+jP6X/p3+gf6L/n7+kf6n/s3+Gf92/xQAhgD0ABkBGQFBAXEBwgH8ATMCQwJUAosCgAJuAiQCtgFJAd4AsQChALAAxwDVAOoA7QAKASoBHAESAfUA1QDNAOsAMwFtAb8B2wHUAa4BNgG2AAEAqf9G/yz/LP8c/2v/tv8qAEoAbQBVAC8AFADc/7n/cv81/+D+q/6C/nH+c/5s/nL+X/5x/mD+Xv5R/jj+MP4J/hL+Cf4Z/hf+M/5h/pr+yP7g/u7+0f7f/tv+Dv8t/1n/lv/N/z0AtwArAXABeAFlAXMBpQEkAn8C2QLfAr0CygKIAm4CBwKIAQwBggB1AHUAlwCyAKcAuwCgALwAzQDNAN0A0ADUALYAyQDqABwBaQGfAaABjAEqAcoAQgDk/7P/UP86/+z+Bf88/4v/0//q/w4A8f/x/9f/uP+K/0D/AP/A/rL+uP7A/r/+tv6v/p3+kP5l/kv+Lv4w/i/+Ov5W/lT+af5v/p7+y/79/i//Pv9T/2T/fv+a/7n/5/8ZAFgAoADnABQBKwE2ARwBFwEuAY0B6wFCApUCfQKHAnYCNgLtAXQB/wBzACkAHgATAC4AOwBMAFYAZgCPAJkAqAChAJUAhwB1AIYArAD4AEwBdQF/AWYBEAG3ACEAsP85/8D+gv4//mP+qv4P/1X/j/+2/7f/tv+h/47/cf9U/zD/Ff8M/w//+v7T/qX+e/5T/j/+Kf4s/k3+fP6s/s3+7/7w/ub+2f7g/vb+Gv9k/5T/zv8BABQAMwA1AEMAPAA5AEgAYACPALQAwACyAI4AtQAbAa0BKwKNAqcCmQKfAj4C/AF9AeoATQDS/8T/uv/u/xMAIQBHAH8AuQDOANAAwwCcAIEAcwB9ALMADwF3AbYBuAGeASEBpgD//23/9P52/kr+A/4z/oL+7P4//3n/q/+5/9j/1//N/6r/i/9d/zf/Gf8N/+3+0P65/pv+kP6D/n7+hf6q/tD+4/7u/gf/AP8G/xT/Ov9Z/4b/wv/m/xMAKgA0ABAAAwD3/+z/8P/1/wQACgA4AF4AawBwAHkA0QBZAQACeAK9Ap8CagIrArABVQG8ADkAt/+M/7b/6f9KAGoAgQCWALYA1gC9AKkAdQBbAFYAYgCCALYAEwFQAXEBZQFIAdMAcwDY/0//4v5k/kX+/f1A/pf+Cf9k/6P/5//6/yUA///L/3L/Lf/7/t3+5/7t/gD/Bf8Y/yP/If8Z//H+8f75/g//Lv8v/z3/O/9k/5D/wv/a/9n/2//t/wwAIgAmAPv/4P/A/8T/yv/S/+D/8P8gAEcAcgCJAIwA1wBKAcwBIwJQAhQCuwGkATkB9ACLADMA3//Q/x4AQgCEAJ4AlQCRAJoApACOAGcAQwASABcAQABXAIgAvwD5AAkB/QDbAG8AKQCz/1b/Df+//sH+q/7d/h//Zf+g/7T/wP+x/6P/f/9G/wf/0/7H/tj+8f4K/w3/HP8w/0L/Vv9e/1L/VP9W/27/dv9u/23/af+P/7P/3v/q//H/5P/b/9D/tv+C/zr/E//2/g3/Kv9W/2X/i//J/wIANABJAEUAOwCFAPAATQF5AY0BGQH9ANoAlACCAEIAKgDs/zUAdACbALsAowBmADYAQgA3AC0AIAAMAPT/BgAiAEAAYQBvAHQAXwBDABgA5f+5/3n/df9c/13/bf9o/4z/qf/V/8v/wv+h/37/Wv85/wf/zv7C/sP+5v4I/zn/SP9i/3n/gv+M/37/g/+K/6D/v//b//L//v8OABQAGwAJAPD/zf+g/4v/cf9X/0j/Of81/zf/PP9Q/1j/fP+T/7D/2f/o/xYAMABIAHgAvwDcANIAzABRADUALQAMAC8AJABFADEAgAC/ANIA8QDRAJEAXgBpAFgAWgBTAEIAIgBCAHMAlQC+AK8AlQBLABcAAAC9/5r/if+V/77/5v8jADMALgBEAD4AGwD0/8n/iP9w/2f/U/9Q/z7/SP9D/2D/d/99/3f/cP99/4f/wP/b//j/9f/y/+z/4f/f/8f/pf95/2f/Rv9F/zj/I/8J//P+6v7g/uD+5P7s/gP/IP9H/3D/l//I/+P/CwAKAAkA7P///ygAKQBNADgA+/8VACwAXgCYALgAxwDCABUBOgFZAVgBKAHlANAAzQDUANoA0wDCAKsAvQC7AMIApQBvAD8AAwDg/9r/tv+x/8b/7f8YADoAUAA4AB0AIAAAANT/sv97/1j/XP92/4D/j/+A/4L/f/+W/6H/kP+K/3n/lP+v/+P//P/8//L/2v/P/7//qv+T/3H/ZP9s/2b/bP9X/zf/G/8Z/xP/F/8g/xz/Nv9E/3v/j/+j/6//rf+5/7P/v/+b/5D/iP+2/wYAKQB2AF0AZACgAKcA+QATATMBIwE7AWMBWAFvAUQBHwHoAO4A7ADqAPMAxQCeAGkAZQBSAEMAOAAKAPv/6P/7//T/8//1/+n/+v/6//z/7P/V/8f/t/+j/5z/gv+A/4T/nf+d/57/i/9z/37/f/+O/3b/af9Z/1r/ef+X/7D/of+b/5z/nv+4/8X/vv+k/5T/lf+P/5n/if93/2L/XP9e/2D/YP9X/1H/VP9e/2v/dv9//4H/gv+O/4b/i/+C/4v/mf/C/yEAWACYAL4AngDEANoA7AAQAQgBCwHvACYBNAFGAVQBMQH/AOEA5QDAAM8AqwCcAIIAowCvAKsAmwBvAEUASAAcAO//GADK/ywAHgA2AEMAHQAUALv/zP/I/83/vP+i/5P/zv/E/8j/of91/4T/Y/+D/4//nv+h/6X/wv/p/wcACwD1/9r/2v8DABMACwAIAOr/6f/r/+j/y/+p/3//hf+S/6r/vP+b/5X/eP+V/5P/mv+O/3P/ev+C/6T/tP+//6//wP/A//H/MQBlAIsAlQChAHkAoACYALEAyADUAOQA2QARAQEBJQEOAe8AwACkAKIAngDMALcAswCeAI4AiwCFAG4ASgAwACEAEQAiABsAGgAbABEA///V/8T/g/9z/2b/af90/3z/hf96/47/iP+M/4D/a/9t/3X/mf+4/9n/6//n//X/8f/+/wYACwASABAAJQAfACQAGwANAAYA/P/7/+3/5f/Z/97/4f/g/9L/yP+0/6//uf++/8z/u//I/7b/0v/a/9z/2//L/8v/v//Z/9X/5v/t/x4ATwCCAKIApQCfAK0AtQC/AMEApQCfAIcAoACpALUApwCgAIIAfwCYAJEAqQCGAHkAXABSAFIAOwAoAP7/3/+8/7T/rv+l/6D/j/+M/4P/fv93/2L/W/9f/3T/gP+V/53/m/+m/63/vv/I/9T/2//l/wIAIwA1ADoAMgArACwAOgBEAEwASABAAEIAQgBGAD0ALwAYAAkAAQAIAA4AEwAOAAcABwAKAAwAAwDu/9n/yP/E/8X/xP+9/7L/r/+y/8L/yP/b/9j/5f/j/+X/4P/L/77/m/+d/5b/p/+x/8P/zf/d/+b/7v/4//L/9//z//v/+/8LABAAHQAuAD8ASABBAD4ANwA1ADoANwAtAB0ACQD4//X/6f/b/9P/yf/I/9H/5//t//T/8//2//P//P8EAAUAFAAZACUAJQAsADAAOwBKAFkAbAByAIEAhgCKAJEAkACQAIUAfwB1AHQAfACAAIAAdABlAE0ASAA7ACsAGQAHAPj/9P/7/wEACQAWACAAIwArACwAKQAbABcAAQD0//L/5f/d/8T/t/+g/5X/lf99/2r/VP81/yn/I/8Z/wX/Av/7/vz+Dv8b/xv/G/8f/xn/P/9V/3f/e/+J/53/r//T/+X//v/0/w8AFQA7AFQAZwCCAH0AmACiALcAswC3AK0AogCsAKUAsgCoALEAsgCwAL4AsgC0AKMAqwCvALYAtgCmAJ8AjQCOAIgAjgCEAH0AfwB3AHsAcABTAEgAPAApADUANQAxADkAOgBGAFQAUQBPAEMAJQAmACQAFQAVAPf/3f/f/97/4P/a/9f/zf+6/7X/tP+j/5//iP+C/4H/dP+K/2z/ef9o/1T/Yf9U/3X/YP95/3n/df+W/3v/i/+G/4H/kP+S/47/jv+V/5P/pP+v/7r/xP/M/9v/5f8BAA4ACgAYAB0AMQBFAFoAbABrAGwAcAB5AHUAeQBwAHkAegCBAJAAhwCiAKUAqACSAJEAhQBgAHMASwA3ADIAGQAkAAMADAAKAC4AxQDRALQAAwBc/4H/vP8WABMAIABWAHEAQwDU/63/7v8FAAEA0/+i/8T/w//c/77/vP/l/9H/rf+d/5z/xP/F/6D/mv+Q/7H/0f/w//f/uv9k/zf/Sv99/7P/0P+X/5n/rf+N/6H/qv/q/9sAwgBEAEX/gv43/4f/2P+//8z/UQB8AAoAwf/j/3AApwA8AEQALgByALQAuwD1AI8AwAAFAcYAHwGJALoA4wDfAL0AjgDnAPMAfgGWAEgA3/9HAFsALwBfAC0AgQBoABkAYv8PAJz/RgDP/4P/RABv/wUAQf9n/zYA9v6C/0T/UP/O/zn/Pf9z/+b/F/95/+D+n//A//n+C/8n/+b/G/9O/8b+M//F/xb/Zv92/v7/Ev+v/+n/Ov5/AJD+BgAr/zz/rwD5/mkA/P///v0Anv8v/8MAe/8DAXL/4v/aAFwAogCu/48AKwHOAIMAQQAXAbEB5AB2AKcA6wBIAYEB1v+9ATkBAAEaAXkAOwGfAP0B1P8vAbYAFwGzAdz/7wA7AMwACwGw/4IAdQFN/zAB3/+l/6IAWgDS/x7/5QBh/woAG//I/lEADQAu/4T+AwDCACL+sf+r/uT+0wCu/V3/v/9Y/1D/P/7u/t3/S/4w//f+4//j/7L+dP/z/lX/h//Z/iv/mwAc/wYBG/4W/2YAUP+tANT9jABFANf/Sv/m/jYATgAxAPP/fv/GAKUAF//wAQ//RQHxAFH/iwFJALMBUABUALEARQA6AcsAFwDqAYcAlgDv/2sAPAL2/4kBm/+VAJIBnv8lAa//TwFsAB8AYABe/4YBof8YAJX/1ACQAB3/UP8SALsAEv+MAAL/4f+wABL+SAByAPz+CQDq/gT/WACD/4j/EP8M/zEAo/5ZAOv+7f+1/7f+jgCg/g0ARP+Q/8D/yf9w/xn/2P+2/0D/hADK/vn/+v9n/u0Aqf/8/1b/MQCz//MAYQHRAN4AOP9W/5/+mP/k/y0BqP9pAGcAUf91AC3/XQFEAQEAnf9PADsBX/+6/44AgQHWAHb/iwBqAAIBxf89ALgAoQDHAKEA1ADQAGMBcP/u/0n/RADkAFn/sQCZ/wIAyf82/hwAXP8TAIcA/P7R/0n/N/8V//z+Yf8EAPb/1f6U/2b/QP+j/37/fgATAAn/s/9xAMX/Jv9Y/9D/UgAW/zz/cgCx/1QA0/5Y/zcALgBP/9D/YQAnAJ4Atf6aAM3//AB3/zcAJgHE/+4A5f8oAM8AcAF//5gAuQB4AAcBHQAgAJ0BXQA5AP0AJwBVAbH/nwBPAXj/nQGx/wgA1QFg/58AVAAvAN8AowCG/5EAZQC1/y4ArP8jAQMAQwCtADz/QACt/7n/0//h/ysAGwBXAMP+SAC2/8f/aP/v/xgAKQAoAHH/FwCd/7wAqP53AGoAkv/5APr+CABRAJH/EwBT/5UA/v95AJ3/w/9FAF3/gQAu/zcA3wA4AOL/WQBm/2gA3wD8/3wAdQByAQYAsP9rAN//HAEzAB0AwQDFAAAAzf+HADsAtgAaAG8ARQAZAVAAuf/xAP7/GADkAFz/ogD7ALD/YQDB/1MA7f+xAG3/SACCAJj/vQDs/nsAff9SAJX/Ov8OARH/AAD7/lQANQD9/lr/zv9+AEb/3v4I/28AXv/D/tb/Yf8YAG3/B//y/8f/fP9W/5b/wv/u/y//vv8bANX/LP/B/wkAhf+x/4v/SQBnACn/IAAOAO3/hQCB/+oACAAyAIz/+P85AGEAlADB/0sANgGj/7v/lwDx/3kBOP8MAMIA5wCv/7n/SgBZAFMAZv9BAOUAOABmANn/xv8FAUX/TAAYAFsAgf8GABEAL/+FAKL/hv8jAVn/iv92AMP/iAD4/uf/zP/1/x3/vf/W/9P/5P8M/+j/Ev/Z/7T/vP/C/yYAOAAk/5X/lf+C/0n/Vv/G/9b/OwDt/uD/xf/c/6r/XP+cAOL/PQAx/wkAbv8OAHz/F/9RAUIAgwDg/7P/7v+3//L/UgBqAJ8AVQDj/9H/sv+x/2f/NQD2AKAAqQAEAAoAIgAS/48ASQCMAMkA2/+4AP7/2f9p/6D/ngAbAA0ATAB/APb/qf+u/3P/xQDx/+T/yAACAAUAkf/Z/5//8v/e/1kAVABAAO3/c/8KAGX/LQDE//D/+/8HAKP/Qv/a/3f/hv+h/wcA/P/y//v/a/+2/+f/eP82APT/CwA+AMX/i/9q/xAA5/+c/zwAOQBcANn/Zv/1/4T/WwAUAMX/WgDJ/x0Aq/90/w4ATwAKAJ3/PgBbACkA6P/R/2kANgBLADoAPQDMAPv/2P9dAFkApAAoAEoAiACRADgA5f9AAMgAYAAwAMYAaABnAOH/GgCsALUATwBgAKQAPADq/yQAMwBeAIMACACEAFsAHwDI/7v/igBmABoAEwDh//P/6P+g/6v//P8kABMAFgAIACkAFwCu/6z/7//4/7P/q//H/6j/sf94/1H/8P/l/7z/GADs/8f/6//q//T/xv/Y/xsA7//y/67/4/8uAOj/w//W/wAA1P/k/+L/JgCVAEkAWgCAACMACQA2AFIAhABvAEYAUQD3/x8ADwAEACIABgCdALMAigAvAOL/VwAqAPz/SgA3AJkAbgAkAGoAPQBSADYAVwBRADkAIQDB/xcAAQDT//H/+/8MAP7/uv/P/wgADAAcAPz/IgBJACIA1f/R/8L/uv/F/4f/r//K/4r/lf8IAA0A8P/R/8L/MADl/7X/w/8KAND/sf8uAAYAIAC+/77/r/+6/9P/s//z/yUAMADE//D/xP+X/7n/9v9fACwALQBCAB8A3P/v/zcARQAkAOj/CQAGAM7/iP+F/9P//f9CAGcAbgBbAFkAXABPAI8A0wCyAGwAhQBjAO7/3v/N//X/KQAeAFQARgA/AE4AAAATAE8AXgBiAHIAjwCLAFQAIwAyAPL/pf+6//j/xP9+/4r/1f8eACcALQBGABoApP+s//n/DAAPABIAOQBJAOj/tv/H/+7/1f+i/5D/l/+g/4j/mP/q/wIA4//N/5L/cf9Z/3X/Rv94/+7/EAAVACgAHwDY/8H/of/1/1cAlAB8ADEADAAKAMj/fP/D/x0ATwBPAGQAPgDz/6j/nP/I/wgALQD3/wkAHQAFALf/tP/b/xwAZgBTAGMAcQAXAJf/qv/D//T/OQBFAEAA//+2/0v/Ef87/6r/QQBbAHkAVADW/5f/Uf9E/zD/a/+O/5n/fv99/13/5f7f/uj+Pf9f/3D/mP/C//v/5//J/+H/DQAcABoA6//T/5X/XP9n/3L/mv96/43/zv/q/9v/3P/S/7j/2//4/0YAbABRACcA/f8IACUA+f/w/xEAGQAmADsAQgAZACIAGwA5AHIAXQB3AGcAKQAnABUA8v/Q/8P/ov/A/8v/t/+t/6P/w//n/x0ABQAEAOT/pP+w/6b/sP/M/7j/7f8pADMAJgDx/5//bv9C/xP/BP/8/hb/+/5B/4n/kP9y/2r/iP9d/2r/iv+P/5D/yv+F/yL/K/8K/+H++P4o/xv/Qf9a/4D/dP9f/1X/W/9w/17/9/8qADcADAAUABsAzf+J/y3/cf+j/+P/1v/0/y8A/P/q/xkAMQBrAIEAagCBAGUANQDV////+f8FAFUAMQAcABUA3//R/+b/CABzALkA0gB5AHEAKQB1//z++/6R/9v/TQBaAEMARgABAL7/h/+d/+j/TACdAKYAogAhAD//3f60/uf+Uf+7/zgAfAAyALz/b/+H/4b/sf8rAHkAqgBoAND/Mv/S/pn+tf4S/7P/AgAqAAkA3P+I/1//sP8TAIMAWQAxANP/if8m/+D+Ev98//L/VgBeACIA8P+8/4v/bf/c/zIAmgCQAI4AmQBEAAYAzv8eAFkAdQCCAGkAUAD4/8T/rv+g/8D/qP+7/+P/OwB0AGYAYgBsAKQA0wD0AMUAgABdAC0A5f+u/23/R/9H/zz/Yv/a/zMAXwBzAGIAYQCMAHcALwD6/wYANAAbAOD/iP95/z//V/+e/8z/8//n//b/DAAtACUA+f/t/xgANgAkANz/2v+Z/2D/Vf90/63/tf/j/87/8v8JAOr/0v/Q//f/DQAjACkA/f/f/9b/9f8GAB8ALAAEAD0AXABdABMAwP+N/6L/9/8wAF8AXwB8AF8AcQBnAFoAgwBLAGIAYgBLAAgAuP+j/4z/tv/O/+j/9f8LAA4A9//6/yYAawCjAPQAFQHyAJsA+f94/0j/Tf+O/5//hP9w/3P/kv+y/9X/BgBMAMIA+AACAbkAUgAeAPP/GQAzAEYANwDn/6P/dP8y/wX/Nv+T//P/SACPAFgAHAAFANL/BABaAKoA9ADiAIkAFwCo/2v/Wf96/6H/GAArAAMAAwDZ/9H/w/8MAGMApQDQAL0AfAANANX/nv97/57/4v8RAAEA0P+r/5//oP/t/0oAkADPAPIA9wC+AI8AMwDA/2j/eP/A//T/NQBEAD0AGQA9AEgAcACLAH8AfgCcANEAjAAqAMH/t/+C/1D/Y/+W/8j/7v8kAAAACAAeACgATwCdAM4AqABOAPD/x/+e/2b/QP+h/97/CwBTAHQAjgBWADUANQBtAKMAkQBrACYA5f/a/6r/jP+z//H/KwB1ALUAvwCYAHsATQBCAH4AhABTAAAAzf+Z/17/Yf/A//H/PgB0AJwAngCNAKgAegBbAGEAcwByAFEAIwDZ/3//hP+B/7z/HACGANcA2AD/ANMArwCRAHIAgQBJACoADwDf/77/sP+6/+v/IwBfALoAygDlAN8A2wCbAFcATgBHAHUAdgBGAP7/0/+i/7P/0/8NAFwAjACaAKYAmABuAFEAFwD8/9H/tf+X/4T/lf+b/6n/6f8MAE8AlgCbAJYARwD9/7H/fP96/27/aP93/4b/k/+n/4T/eP+S/9H/JgBOAIIAdABeACwACADf/77/y//w/xoALwBQAEYARwBAAEsAJwA0AFQAbQCWALAA1AC9ALEApACUAKcAugDGAMIAtwC7AJwAXgAlAPX/w/+t/7j/zf/U/+X/4//t/w0AFAAgABoAIgAYAPz/vv+D/2j/XP9O/0P/SP9K/zr/Kv83/zT/LP8i/0T/XP90/4H/X/9e/1r/b/9+/8n/LABUAFQALwAiACwAQQCEAKUA4AA5AUABYgFdAYcBdQEVAfsAvgC7ANcAwgCpAHIARwAaAOL/CAA2ADgASwBqAKAAqQCPAH4ASABFAE8ATQBWAGAAYwBGACsAFwD0/8D/wP/L/+z/KgBBACwA7f/A/57/iP+H/3D/Zf9P/0j/OP8X/9n+jf5c/kX+dv6O/s3++P41/0j/a/+l/6//5P/O/93/vf+t/7v/of/K/zYA+QDaAXACeQIWAmcB4QBnAP7/DwAaAEAATQBXAHsAMADh/3X/S/+P/wwAqAD6ADQBOQE1AQsB2QCkAFkAJAD5/wgAAAD4/+P/0f/u/x0AXABvAIYAmQC6AN4A2QDlAN4ArQBpAEgALwAUAAkA+//h/8n/x/+y/5j/lP+g/73/2f/o//D/6//k/8n/pf+S/4L/Z/9C/0b/QP88/yv/Kv9V/2H/cP9j/0n/M/8W/yX/Rv+T/9j/7/8NAAAAAADi/9b/JgC3AIQB/wE8Ag8CkQELAYsAEQDO/+L/CAA5AGkAlQCFAEwA3f+v/97/VgDpAFABfAFSASYBogBEACcA6v/d/8T/vf/F/4n/aP9F/1H/h/+d/+b/EwBFAHMAbwB0AF4APwAnAA0AJAAkAA8A+v+4/4v/Zv9i/2X/Vv9s/2v/av9Q/0T/QP8v/zD/Of9C/0H/Sv83/0f/Uv93/4j/fv+m/6b/pf+j/6n/tP+V/6j/wv/L/+L/2v/e/yIA4gCAAQUC/AHSAYwBFwECAWMAYABzAEUAZQAwAFUANwC//3H/Dv83/3z/2v9MAHsArQDEAM8ACQE3AR8BDQHOALsAlwBJABgAwP/J/83/vv/J/7j/u/+6/8v/5v8EACUAOgAuAB8AEwDq/9P/t/+z/7T/rv+5/5X/df9T/zf/Gf/x/u/+7/4C/x7/N/9N/0z/C//j/sH+tv7O/tb+AP8f/z//Yv9W/1L/Uv8m/yz/Ev8t/zf/PP+I/wwAzQBxAbwBggE0AcAAyACSAGIApACYALgAvACYAI8ATAAPAK//Xf+Y/8z/KwBoAIcAzQDwAPsAGQHtAPkA7gDCAOMAtwC5AJgAeAByAEIAMAAlABkANABKAEcASwA4ADsAHQDw/9v/qP+i/7f/0//m/9z/xP+Q/1r/P/8f/wX//f7Z/rD+gv59/oL+i/6d/on+fP50/nT+gP6p/tX+/P4V/yP/K/8+/1f/Zv9Q/z7/Ov88/63/WwAdAaEBjgFnAfoAyADzAKoAwADZAOMAFgELAQsB3gCXAEsA0v++//b/QwCZALEA2gATAUkBbgFqASkBIgEHAewA8ACzAKcAhQCFAH0APgD6/7H/fP94/63/0v/0//D/8P/R/5//jf9Y/z3/Lf8l/zf/P/89/xr/7/7G/pf+bv5B/hr+Af4Q/jD+Uv5q/ov+tf7K/vL+DP8t/z//Rv9c/3D/nP+//8L/uP+o/4f/Xv9W/7L/SwDwAEQBawE5ARQBPQEHAfQA8wDpAAIBLwFVAWQBbAFKAesAjgBqAGAArQDqAP4AHQEaARoBIgH+AM4AvACfAKIAoACTAJIAswDEAK4AhABGAAUAy//C/7n/sf++/7//rv+P/3j/Yf86/xT/8v7X/tX+8v7+/v/+5/7D/qf+hf52/nD+bf5+/o/+lf6L/n7+ev5r/l7+Sv5N/lz+gf6m/sP+4f4G/y//Qf9Y/3j/wf8sAH4ArQDKAKYAugDSAMcA9QADAf4A/gAFAf0AHAFfAYQBggGRAZsBowHjARACDwIDAukBuwGfAXoBVAEjAfEAwgCTAHIAbACLAKMApwCXAJIAlwCeAKkAlgBsAEsAKwADAOb/0f+5/6H/hv9f/yr/5/6s/ov+df5i/kz+Qv4//kP+SP5M/k7+V/5b/kb+QP43/kH+Sf5L/kb+PP46/lH+cf6G/qj+wv7a/v/+U/+2/wUAUACAAH8AswDXAOAAHAFMAWwBmwHMAdgB8AEFAgkCAAIQAhcCFwJIAmYCfQKRAoACXQJOAi0CFALtAbcBfgE4AQUB2gDOAM0AvgCPAF8AKQARABoAEAATAPb/1/+4/57/o/+m/6T/nv+O/2//XP9F/yb/AP/P/pz+c/5a/lf+Vv5M/jj+Iv4W/g7+J/5B/mj+jP6W/p3+i/6U/pP+rv7I/uT+Af8D/0H/bv+i/8z/DQAbADsAegCJANEACgEsAT8BZAF3AYcBugHXAecB9wH4AeoB6wECAgECDgICAusByQHAAcEBsgHDAZUBawEqAfYA1gDjAPAA6QDLAIoAcQA8AEgANwApACMAAwABAPT//v///wUA4f+v/4P/Zf9z/33/lv+I/17/NP8B//L+5P7e/sX+nf52/k3+RP4z/kL+Qv47/h3+Ev4V/hr+PP5N/mb+aP5+/pT+tv7z/kz/lP/D//j/6/8DACIAMQBjAI8AuwDXAP0AFAE2AWgBigGmAagBtAG9AeEBAAIdAhsC/AHjAacBoQGNAYsBiwF9AXABUwFCATUBTgFCAUQBEwHzANoAtQC/AJwAkwByAE4AKwAWAA8ABQAAAN7/yv+l/53/pv+m/7T/l/93/1n/QP82/yb/GP/t/r7+lv52/mX+XP5M/jL+Bf7c/cX9wf3J/eT97v3v/e795/39/Qn+KP5B/lX+gv69/gX/T/+i/8H/2P/t/+//EQA7AHkAqADdAAkBGQE8AVcBewGUAaoBwQHQAekBCgIkAjQCOAIaAuoBxAGgAYQBewFlAV0BQAEyASQBDQEOAfAA2wC9AKIAmQCZAJ8AmAB9AFAAJgD7/+7/4//S/9H/xP/E/8D/tv+t/5D/av9F/yH/AP/i/sP+pv6E/mD+P/4V/vn93f3H/bv9t/3A/cv92P3g/ev97v0A/gX+EP4X/hn+Mf5M/nX+kf6v/sj+3P4B/zn/gf/J/wQANQBLAGwAkAC6AO8AHwFFAWsBlwGwAeMB/wEcAkECSAJmAnkCgwKMAn4CaAJEAiICDgL4Ad0BxAGdAWgBNgH8AOIAygC6AK0AgwBpAEkAJgAYAAAA6v/W/7L/jv9y/13/VP9N/z3/M/8e/wn///76/vT+3v7J/qr+jv55/mH+Qf4m/gn+6P3U/cf9xv3H/cz9zf3N/df97/0Q/jD+Tf5i/mr+bP5w/nb+hv6g/rr+0/7k/gL/GP8z/0v/YP96/6L/1v8FAEoAcQCjANEA4AAJARsBOgFYAXoBngHDAe0BAgIkAisCOgJFAkMCSwJAAjsCJAISAv8B3QHQAbIBngFsAToBCgHQAKoAfABmAD0AHwD4/9f/s/+M/3P/Rf8w/wv/9v7k/tP+yf61/qf+mP6H/n3+c/5j/mD+Wv5Y/lr+Vv5b/mH+YP5o/nD+eP6M/p7+qP7B/sP+0f7r/vj+Hv8l/y//Rv9O/3P/i/+n/8n/9f8UAC8AVwBnAHsAkQC4AMIA4AAFARgBNQFDAVUBSwFHAU4BMQEuAT0BMwErAR8BDgH8APEA3wDRAKsAlQCKAHcAeABzAGoATwBXAEoAQwBSAEYAPgAiABYACgDv/+n/1f/B/6f/hf93/1v/S/85/yP/Cv/u/tb+vf6z/pz+lf57/mf+a/5P/mf+bP5i/nj+Y/51/pj+mf7E/tL+2P4L/x3/Uv97/4z/t//E/+T/FwAkAE8AagB6AKMAqwDLANkA6gAKAR8BKAFJAWMBfAGpAbUByAHJAbgBswGdAZIBjwFvAXABWAFLAU0BHwEeAe0AxwCzAJ4AmgCZAJQAcQBmACsAAwDk/7b/mf+S/4P/hf9//2L/Wv8y/yT//v7r/tr+1f7d/uH+//75/gn/Ef8M//X+9/7u/uT+6f7u/hH/C/8k/zn/Pv9Y/1X/Wv9g/3T/mv+r/73/0v/V/+r/6v///xcADAA0AEIAQQByAIgAfgCUAJQAqADEAPAACQEYAUEBPAFQAVsBZgFfAUcBOQEtARkBMwFFAUUBQwEtAREB5wDbAK0AowB8AH4AQwArADsAGgAgAOL/w/+j/6D/lv+Q/4//lf+L/4H/cf9t/07/O/85//n+DP/1/vT+Cf/+/gP/Fv8V/xD/E/8C/wz/OP81/zT/Uf83/3r/pv+g/8f/jf+k/67/wv/y//z/LwArAD8AIAAiADgASQBpAHwAigCBAIsAlADAAOoA+ADrAAYB+QD3APkAzQD5APcA6gDWAK4AwADyABAB0gC7AG8ATgBnAC0ARQA7AB0ALQDb/8z/zv+Q/2T/Av/w/v7+H/9G/z3/Cf+8/pr+mf7A/gX/Tf83/yf/EP/s/gr//P4Y/0f/NP8z/yX/K/8s/y3/Nf84/1v/gf+M/5b/gv9c/2f/Tv98/6T/0v/g/5//oP9x/53/xf+0/7b/pf/X/xQAKwAQAOr/3f/4/ykAdQClALEArwBuAE8AXgCQAMsA7wADAfEA2wDQAL4AxwDcAPQA4QDIAJwAhACWAJcAwQDJAM8AmgBCADMASQCFAIEAXABaADsANAANAMz/uv++/9z/zP+0/73/mP+N/4D/gf+R/7H/p/9O/2D/Sv9s/6L/V/87/yX///4f/1n/ef99/0P/Jf8V/0H/f/+m/8b/rP9//1//aP+D/8j/5/8CABIA0f+k/6H/sv/+/zwAgQCcACwA+//v/0kAmACaAKAAmwDIALkA5QD7AOcA3gCzAOIAMwFfAUcBBgEQAR8BGwE/ASABGAEBAfEAGAEgASMByQB+AGkAiwDUANAAwABrAAYACwAQAHIAggBhADUA2f8QABAAEQDn/7b/7v8KACkAz/+B/4H/kv/N/77/mv9m/0n/Tf9m/7//5f/S/5v/Y/90/8T//v8CAPr/n/+q/9j/6//7/+T/BAAaADgAZwBaABkACADv/w8AVQCjAJMASwBLAFAAjgCUAFsATgBGAF8AiwCkAK4AfQB2AIYA2wAwAR4BwAB5AKkAzwALAdwAiwBiAG8ArQCeAJsAWgARAAAA8//7/2UAXAAyADIA//8EAOL/AAA+AGoAfQAPAL//lf+1/+b/wf/h/9b/pf+F/3v/zv/1//z/4f+n/6n/uf/z/9L/qv+E/5L/3f/e/8X/cf+H/+T/DgD3/+D/4/8aACsALwA2AB4AIQAtAGIAZABVAFgARABKAEsAKgAmAOr/NwCEAIUAmQBKAGQARQBFAHcAiwDUAKgAigBZAEsAowCnAFwAEADt//j/HQANANn/w/+///D/MgAlAMP/av+k//L/HgD3/8X/wf/C/9X/8f/O/8j/rP97/9D/8f8hALX/m//8/0QAfwAZAMj/qf/R//L/GgAhAOX/3P+v/8L/4f/5//z/xf/i/wMAVQA6APz/AAA6AIEAagBfAFcAfgCDAGUAcACSAMAAiQA5AEQAhgDCALsAdwAdACEAVgB4AKcAkwBWAAEA5/9JAFkAPQATAAwAcwCGAD0A1P/F//b/PQBXAPT/wv+//8P/0v/f/+D/5f/K/6L/yP/O/9P/tv+o//n/AwD4/7X/vf/4/+//6P+w/+H/DgAHAPr/8v8aADoAQgAaABUAOgA+AFoAaQBvAGAAMgAcAEgAggCEAEAA9/85AIQAuQCIAEQAOgB6AJUAegBxAFMAgQBrAIkAlgCJAJ8ANABMALEAtgCOAD8ARgCGAL4AUwAhADkASwBCAP7/EwAIACcAyf+X/7L/CwA5AOD/0/++/wUAAwDr/+n/5P8GANv/4P/Q/9f/3/+t/43/4v8SAM7/w/+U//b/LgAVAAcA4P8bAAEA2P/m/w0AGADu/9b/4/8RAP7/4f/9/0cAeAA4ACgAKgCOALAAjwCdAJgA2wCzAIEAgwCjANcArQB5AE4AOQBcAE4ANAA4ADwAGgDm/7n/8P8RACoAIQDL/+n/xf/f/+7/BQBBAPD/q/+R/9n/8/+6/5v/nP/a/8n/af8j/2f/ov+d/2v/Iv9Y/zT/OP8q/0//bv8Q/+n+1P4y/0X/Mv8T/zj/Z/9a/3X/av+v/8b/6P/1/wMARwAXADEAFwBCAHkAZABoACcAVwBPAFUAewCQAKYAYgBMAFwAeQB1AGwAcQBiAFwALQAyACYAMQA0AAkAKQAaABwA3f/V//7/IAAHAL//jf9q/5n/oP+i/1L/Kf8h/0L/cv9I/0L/HP8k/wj/6f7+/g//E//R/uf+7P77/vT+yP7Z/ur+9f7O/uT+H/8n/wP///4t/3T/hf85/z7/aP+i/+r/7/8sAEcAdgCeAKIACAEYASYBNgE7AZYBcAEwAQkBDgFUAUMBFgHMAK8AqgCnAKgAqAB/AG0AYgBiAHoAUABMADsAOQBAACMADAATACkANwAUAPr/CQAWABgA9v/q/+3////w/8D/n/9//3L/VP83/wn/7P7m/sT+wf6s/rP+gP5l/mX+Vv6K/ob+ZP5C/jP+UP5z/l3+Zf5k/mP+k/6G/sL+9v47/9z/BAAwAAUA+P+nAOMAOwEKAaoA7QDHABMBKwEgASwB7ADXAMwAAQH7AAEB8gDiAK8AaQBOABMAbABkAE8AKACv/9P/z/8qAGIAZACBAE0AZABiAK8ACAExASYB5QDPALYAyAC+ANEAuACVAE0ABAATAAsAMAAMAPP/yf+N/2n/JP80/z7/Q/8V/63+hv54/pb+qP6Z/on+Yv5c/lv+g/68/sv+lP5s/or+0f4B/+P+xv71/jX/Tv9C/yP/R/9V/4v/GQBKAFgA6P/H/2YAowDkAE0AHgB1AF8AlwA2AGEAkABpAHcAWQCSAF0ANgBnAI0AtgCDAFYAaABSAHAAdwBTADIA3P/r//D/GwBPACwAKwACAA4AOgBsAJsAeQBKAFAAfQCRAIoAYgBqAGsAXwBHAB0AGADx/+//AAAJAN7/mP+D/5z/wv/B/4r/Pf8W/x7/J/8p/wH/1f6n/p7+wv6z/q3+k/6R/rb+0/7J/rz+hP7O/uX+/f4T/7n+Dv/w/jT/WP9S/5//PP9u/87/IQB4AA0AKwBqAIgA3wB9ALMAywCYAMgAdQDJAMEAlQDIAI8A4ACZAH4AsgCTAPUAxQDQAOMApgDTALkAxgC/AHoAdgBHAD8AVQBdAIgATwAmACkAIwBTAC8AJAApABgANAARABYABQDr/+v/u//B/5n/cv9h/2H/mP+Y/2z/Qf9N/1X/av9q/1z/Uf8V/wX/Af/8/u7+wv6v/qT+qP68/rT+rf6k/sT+AP8i/xj/AP8L/0f/hf+G/43/jv+m/9L/6f9lAJ4AxgDPALIAKwE8AWkBcQFVAZoBcgFWAUABSwFsAVcBQwE4AS8BCAHsAPgADAEJAfMA4gDzAO0A9QD3APYA6QDGALMAmACBAHYAkQCOAHIAJwAdAEAANAAkAOn/3v/O/7r/o/+Y/6D/i/98/3z/jf9v/0v/M/8w/0b/KP8i/xb/G/8o/yn/Sf88/zb/PP9C/0v/OP8p/yP/HP8X/wn/Av8J/wr/Fv8m/yn/Ov9A/1v/gv+J/6D/of/C/9r/7v8IAAMAGQBHAJEA3ADoAOEA3wDqAA4BGwEoAR0BGgH8AOwA+wDoAOIAvQCxALEAngCKAHwAdgBnAFQAWQBwAGoATQBIADgARQBRAFkAYAA7AEEAKAAlAAsA4v/r/9f/4P/V/9T/uf+V/5H/lP+4/6r/qf+e/57/pv+j/8P/v//C/7j/vf/Q/8T/tf+k/7r/0//q/woAHAAaAA4ABAALAA4ACwANAPz/+//c/8H/sv+i/67/mf+f/5j/jP+L/4X/nf+T/6H/qP+p/63/qf/j/xcAUwBiAGEAcwBdAHEAcwBzAIcAdQBXAGAAcwBnAGkAVgA5ACAA///w//T//f/u/83/x//V/8j/v//G/7z/u/+p/7H/yP/Z//f/+f8YAP3/4//a/83/9f/7/w0A/f8JAP3/8/8cABEAHAABABQALQA9AFsAPQBJAEcAVQBhAGQAbABRAFUAXABtAIEAlwCtAKoArgCzALYArQCfAJQAjQCEAIQAdwBVAC8AAgDr/9j/v/+d/3b/a/9c/0r/Nf8e///+4/79/ib/YP92/3j/gv9s/4T/lP+j/8j/2P/b/9X/AwANACMAOwAoAC8AIwAtADUAMAA2ACAAGAAdABsAHAAWAA0A8f/d/9z/zv/S/9//AgAwADkARwBEACUALwBAAEcAUgBhAHAAZgCFAIoAlwCnAJEAlgCNALoAyQDMANsAzgDNALkAvQC8ALYArQCVAJwAoQCcAIQAZwBeAFUATwBGADgAGwDy/+P/3P/R/73/kf9q/03/Pf8t/xb//f7Z/sX+wv7R/tH+wf7B/rv+3v4Z/1D/ef+V/4X/iv+0/73/5v8AAA0AEQAlAD4ASwB2AGQAWgBWAFAAaQBaAG0AZwBNAE8ARwBWAE8ASgA2ACMAJQAYABkAGQAdADYASQBhAFwAQgAgABQALQApAC4AIQAUAAwAJgA6ADkAQgAiACwALwBEAFEAQgBQAEsAUABOAFEATAA/AEgARABKAEoANwApAB4ALgA1ADUAMgAjAB4AGwAiAB4ADgD2/9r/y//G/73/rP+O/3P/Xf9Y/2j/Yv9N/y3/JP8f/yL/Ov9M/3n/lf/E/9//zP/k/9j/6v8cADwAQAA0AE8ASwB9AJcAiQB/AEsAWgBlAIAAlABgAEcAOwBAAEwAQQArAAYA+P/3//z//f/m/+b/7f8FACAAFgAYACIAMQBCAEcARgBDAD0ASwBkAHIAbQBYAGcAYwB2AHwAZgBnAFYAawBcAGoAbABXAGkAYwB7AIMAkwCXAIcAjQCQAJ0AngCkAKUAqACtAKYAogCKAH8AawBcAEoANgAfAPP/7f/W/9T/uP+U/2z/Rf9Q/zj/M//+/t3+wv64/uD+/P4v/0P/bf9v/3b/iP+H/6f/yP/y//b/EgAqADIASwBjAG8AYABlAG4AjwCzALsArgCXAJwAmwCnAKgAmAB8AGAAXgBMAEoAPwBGAFIAVABqAF0AaACAAKEAvAC+AL0AmQCiAKYArACpAJEAiQB4AJgAkgCdAHcAXQBTAEkAbgBbAGEAOAAuACoAKAA/AC0ALwAaACMAMAA5AEEAKgApACYAOQBIAE0ASwA2ADUAOQBFADcAIgAIAPT/+//2//b/2P/B/6T/j/+O/3r/Zf8w/yP/EP8D/xD/Fv8z/1D/gv+C/5r/mP+W/8H/0/8QABkAQgBBAGYAjwCUALcAigCmAJUAsgDbAMoA2ACsAKkAmwCMAIAAXgBXAD0AMQAnAA8ABADv//P/AQAQABwAHwAzAEkAXABbAE8ARwA8ADQARAA/AD8ARwA4AEAAOAA9ACsAFwAWAAwAHQAcAB0AEgAJAAUA+/8DAP//AgADAAUAFwAmADQAPgBAAEgASwBXAGIAXABYAFUAUgBNADkAGgD//+X/0/+7/6f/j/9z/1r/O/8n//z+1f6r/pH+fv50/pD+of7N/vH++f4D///+Dv8m/1b/hf+d/8j/5P8ZADsAXgBqAFYAXwBnAJIAsADMAMwAwwDGAL8AugCqAKIAigCAAHkAeQB8AHYAewByAGwAYABVAFIAYAB6AIoAmACkAKUAnQCeAJMAgwB8AGoAcgBxAHoAbwBgAFAALgApAAkAEgD+//3//v/s//X/zf/M/6z/pP+d/5z/rv+q/7z/u//J/9T/3v/e/9//2v/W/9v/2//d/9j/0P+4/6b/jv91/2r/V/9I/zH/H/8O//f+8v7X/sH+o/6O/oP+ef5//m/+gf6R/rv+6/4b/0D/Sv90/4P/x/8CACcAVQByAKUAwADsAAEBBgETARUBKAE8AVYBXAFWAVQBRAE0ASsBGQEKAfAA1wC6AJYAiQCAAIAAfQBoAFYALwAjACAAGAAqABgAFgD7/wAA+//x//H/x//A/6L/s/+x/7r/tv+T/4z/dP99/27/b/9n/1//bP9v/4T/ff9+/3r/gP+W/5j/qv+l/7f/vf/J/9j/1f/V/8X/zP+//7v/r/+m/6L/m/+Y/3r/bf9T/0L/Lf8Y/wn/8v7o/tf+0v7d/gH/I/9A/2L/a/99/6n/zP8EAC0ARwBeAIYAwQDiABQBIAEeAScBOAFXAWQBewF2AWQBawFgAVoBQgEgAQAB0gC/AJcAdgBRACYAHAAFAPr/2f+5/6P/mf+m/6r/qf+m/5//pP+t/6z/n/+N/5D/if+e/6L/nv+W/4r/if98/4v/df9z/2j/a/93/3b/g/9r/27/Yv9v/3n/hv+a/5//uP/G/+X/9v8HABMAFwAmAC4AQQBDAEcATABFAEUALgAgAP3/6//U/7r/rP+M/4H/ZP9g/0r/Mv8Z//r+8/7h/uT+2f7c/uT++P4e/0X/cv+A/6D/tv/N//f/EAA7AE4AdwCQAKcAywDFANkA1ADZANYAxQDSAMIAxAC2AKIAkwB2AGMAQQAlAAsA8P/f/83/x//G/7n/sv+h/5D/hv92/4D/f/+R/5n/n/+x/6D/sv+k/67/rf+o/73/tP/S/8//5f/q/+r/9f/n//L/6//8/wIADwAdAB8ALQAvADkANAA1ADAALAA0ADcAPAA5ADoALgAlAB4ADAD6/+P/1P/H/77/s/+h/5L/f/9j/0//N/8i/xH/AP/3/vn+EP8p/zn/V/9Y/2T/e/+I/63/vP/l//P/GQBPAGIAlgCTAKAAowCsAMQAwQDdANsA3QDfANwA2gDFAK4AiwBtAFUAPgAlAAwA9P/m/93/zf+6/5//hv94/3X/dv92/3f/cf9y/3X/ff97/3r/gP+B/5f/q/+7/7//yv/N/9X/2v/h/+L/4//x//D/BgACAAkABAAGAA8ABQASAAgAEgAXACYANwA7AEYAQgBQAFQAWwBYAFQAUgBQAFcAVABZAFMATwBMAEkAQAAxACUAGQASAAgAAQDw/+D/0P/G/7r/rP+Y/4P/e/9r/27/Xf9d/1P/U/9j/2b/eP9w/4D/hf+Z/7P/wv/Z/+H//v8TAC8ATABTAGYAbQB+AIoAjwCaAJIAlQCNAIkAhAB5AHAAXABSAEEALQAbAAcA/P/t/+L/1//R/83/z//P/87/zv/K/87/0v/b/+b/8f/9/wcAFAAeACgAMgA7AEgATgBXAF0AYgBiAF0AVwBLAD4ALAAXAAkA+P/q/93/1P/J/7r/rv+c/43/f/90/2f/YP9Y/1H/TP9N/1b/Yv91/3//hf+H/5L/nf+x/7j/xv/S/9//9/8JACkAMwBEAEsAVABjAGsAeAB9AIgAlQCfAKsAsAC2ALgAuQC2AKsAowCUAI8AhwCFAIIAdQBsAFoASQA4ACkAHgANAP//9f/s/+j/3v/R/8L/sf+k/5z/lP+P/4j/hf+H/4r/j/+S/5T/l/+e/6P/q/+0/73/xf/J/8r/0f/V/9j/2//Z/9v/2P/Z/9v/4f/m/+n/6v/s/+7/9f/1//r//P/9/woAEAAfACMAKgAvADQAOwA8AEIAPQA+ADwAPABAADwAPgA5ADgAMQAlABgACQD+/+//6P/a/9b/zv/K/8f/v/+4/6n/o/+f/6L/o/+h/6L/of+n/6n/sP+1/7f/v/+8/8P/x//J/8//0//Z/9f/2P/W/9f/0f/P/87/yP/I/8L/xP/E/8j/yP/K/8//1P/d/+D/6P/x//z/BAALABkAJAA1AD4ATABUAF0AYQBrAG4AjwDrAAEBHQHwALAArwCDAFsAOwA2AE8APgAjAPv/2f/b/5j/df93/23/e/+G/4r/m/+E/2v/a/9o/3f/e/+h/8v/zv/a/+j/6P/5//j/9v/x/+L/4f/h//H/9v/r/+D/zP+w/5r/eP9h/2v/dv97/3v/d/97/4H/cP9k/2z/c/+E/5v/u//i/wAAHAAqADwAVQBhAHwAlQCqAMkA2gDvAPsA9QDvAN4AzQC+AKUAlwCJAH8AdQBeAEIAIwABAOn/0//F/7v/s/+2/7H/sP+u/6r/tP+9/9L/8f8KACoAOgBIAFkAXABgAFgAXQBkAGcAawBoAF4ATQAuABYA9v/o/9r/tP+i/3j/Yf9E/x//A//c/tb+vv6x/q/+tf7O/tD+yf7C/sb+yf7L/tr+1v7k/v/+QP+X/9r/MgBiAJUAowCcALUAtgDPANkA+wAyAUEBUAErAQAB7ACtAIAAXgBOAE8ANgAuACQAAQDW/5L/bv9m/07/TP9T/2r/hv+c/7L/0//s//z/FAAtAGYAkADAAPAA/QAdAS0BMgEyASABGQEiATYBMQEGAeAAvACVAHMAPwANAAAA6//k/97/yv+//5//kv+H/4X/k/+L/4z/nf+3/8//0//X/+f/9P/z//j/AQAFAAIAAwARABYACQDw/8v/vf+x/6v/mv+L/4n/e/9//2r/Zv9b/1b/ZP9o/3z/kP+a/7n/1P/q/woAKgBbAJYA0gANATsBVAFtAVoBVgFPAUMBPwEcARUB/gDkALgAcwBKAB0A9f/T/7L/qv+g/7P/0//p//v/8v/7/w4ALgBMAF4AiAC2AO0AFQEtAU0BWAFfAVUBWwFaAVYBUgE4ASsBCgHYAJ0AXAAyAAIA5v/L/6T/i/9Y/zH/Bv/k/r/+pf6j/rH+zv7x/hT/Mv9D/0//Xv9n/3D/bP9y/4L/kP/L/zEAogBVAXkBsgGkAYIBqQERAUQBCgEpAZEBPQGnAV0BMwH1AEsAOwDS/8z/xv+9//n/BQAGAOj/y/+Z/4//df98/6v/wf/1/ykAcgCxAMYA0gDLANAA6gAFARkBQgFdAW4BbwFDARMByACVAFQATAA+ADcANgAUACEA6P/K/4z/Uv9I/yj/UP9j/4//sv+8/8j/w//F/7n/vv/B/+f/BgAyAE0ASQBVAFEAUAA/ACsAKQAvADcAPgAyACwAGQADAPL/2//X/8z/1f/W/+D/6//u//v/8v/+//3/DQAaACMALQAsADwALwA9ACsAMAAmACIAQwA0AE4AQQBOAFkASQBTADMAOgAmACAAKAAbACcADgAcABEAFQAbABUALQAnAC0AHwAVAA4ACQD0/+7/6//m//n/3f/g/7f/oP+O/2T/YP8//0f/U/9b/2X/av9v/4T/iv+b/7T/vP/f/+X//f8IAA0AIgAZABoAHQAdACgAGwAlACQALgAwACIAHwAAAPz/2P/T/8r/z//f//H/IwBAAGwAfQCjAL0AxAC+AKYAswC+ANYA2wDMAM0AvwCoAIoAbgBcAFMAPgAvACEAEwAEANn/xP+p/5j/gv9o/2j/Zv9v/1j/Xv9g/2r/dv9q/3X/b/9y/3j/eP+D/4r/gf+Q/43/z/8tAIEAzQDMAPAA7QD/AOoAxwDOAMQA4wDUAOgA5QDfALQAawBSABUAEADl/+j/6v/p//H/tv+1/4b/h/94/2b/e/93/6f/q//h/woAJQA+ACgAOQBBAGIAlQCvAN8A7QDjAOEApACUAFAAIwAWAOD/+//S/83/xf+L/3z/Mv8p/xH/9/4I//3+Kv8+/1X/a/9v/3//hv+L/6L/tf/b//b/CgAoACcANwAmABoADwD8/wQA9//z/+f/1//H/6L/h/9d/1b/Qv9J/1f/VP96/2P/fP9u/3L/hv97/6n/r//y/0YAfgDBAMgAygDUAM4AzgCwAKYAxACwAMwAoACMAIMAKAAUAK//nv+G/17/cP8s/0r/Ff8G/yz/+f5K/wj/OP9B/0X/gP8p/4r/Xv+R/5L/c/+0/6n/4v/S/+f/8//u//n/8v8GAAcAEgAMABMAFQAcABwADQAWABoAPQBEAHEAjQCsALUAqQCfAHgAXQArABEA+/8DAO7/0f+o/33/YP85/xn/AP/3/v7+Df8e/y7/MP8z/yf/K/8v/zL/UP9P/3z/iP/M/zQAagD6AOYAMQETAQYBKQHFABwBugDwANkArgDhAHQAlgAQAPH/t/+B/6L/Xv+N/1b/YP9M/yr/N/8C/xn/Bf8h/z3/VP9z/3//q/++/+X/6v8JABYANABeAF8AhABuAHEAWAA9AEAAFAANAOP/yP/I/6f/pv96/2P/Zf9j/3j/ef93/4z/kv+i/7f/p//V/8T/3P/g/9r/CwD0/xAA7//5/wEA9f8FAPb/EgAFAAYA/P/2/wEA9v/5/+7/9f/0//X/7v/s//H/7P/6//n/HQAhADMAPQA5AFEAPwBJADIALwAlABUAGAD8/wgABAAOAA0A+f/1/+X/2//b/8T/zf/H/8v/yv+1/8b/qv+4/5//nP+j/67/yv/E/8v/xv/G/8L/vP+s/7n/rv/J/7z/sf+2/47/lv9u/3H/Wv9E/0X/Jv9K/0H/Y/9j/1f/c/9R/4v/cv+n/7j/yf/8/+n/LAAZAEIALAAwADcANwBSAEwAdQB3AJQAjwCBAIEAcABzAGQAXABdAEsAUgA8ADoAMQApACkAEgAQAAYACwAOABYAEAAFAPP/7//u/+7/7//r//j/AgAQAAkA+v/b/8L/qf+X/47/k/+c/6T/pv+W/5T/f/+F/4H/kP+c/5j/qP+a/6X/kv+a/6T/vv/g/+r/GgAmAEQAQAA2ADcALABEAD4AUABYAF0AWwA/ADAADQD6/+b/1//P/7b/r/+Y/5r/iP9s/1P/JP8X//z+Df8L/xn/Jv8k/0D/MP9B/y7/M/9D/0H/dv99/8n/GwBgAJsAhwCEAHgAhACfAI0AqQDNAMEAwgBqAEoAMwAHAO//qf+4/67/uf+a/2f/Tv8S/+/+rP6n/rr+0P7q/tn+4/7t/gf/K/9T/5D/vv/e//7/JwBnAKkAwADTANAA6QDsAPIA8QDSAPoAzQDUAKcAiwCUAFgAVQAXABMABQDu/+T/2P/U/8//vf+i/6L/mf+p/6T/p/+4/7P/0f/F/9D/1//a/+X/yv/s/8T/7P/j/+T/DwDo/wEA1//S/8j/sv+k/5X/mv+j/5//i/+M/3//k/+Z/5L/lv+S/7D/t/+7/7z/v//K/87/1f/d//X/EAAvAEYASQBLAEsASQBAACoAFwAOAA8AAgDw/9n/wf+5/6D/nf+Q/5D/nf+e/7H/pP+k/5j/lf+c/5j/r/+4/9P/3//m/+r/8/8IABgAOQBAAFsAbABmAG0AWwBcAGQAVwBQAEAATgA1ADYAJwAPADIAIAAqACEAMwAmACQAFAD8/xMABQAaABYAMgA5AC8ANAAqADMAJAAsACwAOgBIADcANQAgABsAHQAeABcAFgAhAB8AIwAcABMADgAXABgAGwAoACQAMAAxADIAMAAvADUANwA7AD0APgA5AD0AQgBFAEgASQBNAEgAQgA6AC4AJQAcABoAFAAVAA0AAAD7/+7/5v/W/8v/wP+5/7f/tf+v/6b/of+b/5b/lv+V/5P/lP+b/6f/tP/E/9L/4f/q//f/BQASAB0AJAAuADQAOQA6ADoANQAuACIAGwAWABAABAD3/+7/5f/h/93/1P/P/8j/x//K/8v/z//S/9//6f/y//T/+/8AAAUACwASABoAHQAiACcAJgAmACYAJwArACwAMQAwAC8AKgAjABwAEwAQAA4AFQAaAB8AHQAbABoAGAAaABoAGwAbABwAHgAgACMAHQAZABUAEwAXABoAIAAcABsAFwAZABYAEQAMAAMAAgD5//T/8f/y//X/+f/7//r//P/6//T/7//t//L/9P/0//j//f8DAAQABgAIAA8AFAAWABsAGAAYABUAFwAXABIAFgAYACMAKAAzADgAQABEAEkAUABRAFYAVgBaAFsAXABaAFkAWQBXAFYAVABRAEwASQBEAD8ANgA0ADAAKgAlACUAJQAlACgAKAAsACwALQAsACgAJQAkACUAKAAqAC4ALwAxAC4ALgAsACoALAAvADQAMwAyAC4AMgA0ADMANgA3AD4ARgBLAE4ATgBOAEoASgBHAEMAPAA2ADEAJwAiABsAEQAHAP//+//1//H/8P/y//f/+f/8//z//v8DAAUABgAKABAAFgAiAC4AOgBGAEsATgBTAFoAXABeAGEAYQBkAGIAXgBZAFMASQBCADgALgApACQAJAAoAC4AMQA1ADMANgA5ADcAOQA8AEEARQBGAEgARQBAADgAMQAtACkAJwAmACoALQAtAC0AJwAhABoAFgARAA0ADAALAAkABwAGAAcABgAFAAoAEAAXABsAIgAnADAANwA9AEMASQBOAE8AUQBRAFMAVABRAE8ATQBIAEQAOAAuACkAIQAeABMABgD8//T/7//q/+X/4f/k/+n/7f/0//v/AgALABYAJAAzAEQATQBYAF4AYwBlAGkAbwBwAHMAbwBpAGEAWQBOAEIAMQAkABUABwD8//D/5//e/9X/y//D/7z/uf+3/7b/tP+3/7z/wP/F/8r/1f/f/+b/7P/y//f/+//7//3//P/6//r/+v/8//v//P/9////AAABAAMABgAJAAwAEgATABcAHAAjACQAJgApACsAMAAxADIAMAAvACsAJwAgABwAFgAPAAoAAwD8//P/6//m/+P/3f/f/+X/5v/q/+n/6//z//v/+//8//7/AwAJAA4AEAARABIAEAAKAAkABQACAP7/+P/w/+n/4v/c/9n/1f/N/8z/y//L/83/z//W/97/5//s//H/+v8BAAgADwAVABoAIAAjACsALwAxAC8AKAAkACAAIgAgACAAHwAbAB0AGAAWABUAFgAYABYAGgAaAB4AIAAhACIAJAAnACkALQAvADIANAA2ADMAMQAuACsAKQAmACcAJwAoACUAJAAjACEAHgAcABkAGgAbABsAGAATAA4ACwAHAAAA/f/8//z//P/7//z//P/6//n/9//2//X/9v/4//n//P/9//r/+f/3//P/9P/z//H/8P/u/+n/5//j/+L/4P/g/+L/4f/k/+f/6P/t/+//8v/1//f/+v/6//3/AAAEAAgADgASABYAHAAdACAAIAAjACgAKgAqACoAKwArACgAIwAhAB0AGQAXABIADgAMAAkABQAAAPz/9v/w/+z/7v/r/+7/8f/y//X/9P/7/wAABAAHAAsAEAAWABwAHwAiACAAHwAcABgAFAASAA8ACQAGAAUAAgD9//r/9//1//P/9P/1//b/+v/8/////v8BAP////8BAAUACQALAA0ACwAJAAcAAwADAAAA///9//3/+//8//3/+//6//f/9f/x//L/8v/z//P/9//4//n/+f/9/wEAAgAHAAwAEgAXABwAHgAfAB8AIAAfACEAJAAnACsAKwAwADEAMwAxAC0AKAAlAB0AFgAPAAkABgAEAP//+v/6//b/9f/2//X/8//w/+//7P/o/+n/7P/u//D/8v/1//f/+v/9//3//f8BAAUABwAHAAoACgAIAAcABwAIAAUACAAKAAkACQAJAAgABwAIAAcABQADAAQABgAGAAMABgAJAAgACgAPABYAHAAWAAsADAAVABUACwAMABYAFQATABsAJgAhABQACgAPABgAGwARAA4AFQAVABcAFQAUABIAEgAXABsAGAARAAwADAAMAAgAAwAGAAwAEgASAA8ADQAIAAUABwAMABAAFQAZABwAHAAcACAAHAAOAAMAAAAAAAQABwAGAAIA/v/+//3/+P/v/+3/9P/5/wAABAAKABIAGQAhACEAIwAlACIAIQAnACoALwAwADQANQA2ADIANAAwADEAKQAnAB8AIQAXABgAFgB+AMAAbQAhADr/Nf+c/+v/PAApADAAIQD0/8b/z/8QAEYAEgDZ/9H/zf9JANIAoABVAHL/C/9y/8T/EwAUAA8ALgAbAOv/7f8KAIMAYgDT/4b/V/+b/wwARwBOAB0A3v+//7v/2/8BABwAIwD5/93/4f/o/y8AVQArAOf/pv+V/7H/6f8AAPD/3P+z/7T/s/+x/8H/1P/T/7r/rP+m/8j/0P/d/+L/xv/I/6v/vP/g//7/BgDd/9T/mf/p/+z/6v8VANf/FADU/+b/uv+n/wgAxf8YAOL/u//1/8X/yv/H/+D/1/8UAOH/0/8DAMv/EADD/9H/CQA3ANoAxgA3AGD/0/4L/83/RgBWABoAJQDz/8L/rv/f/xEAFwDc/6b/6v/o//b/q/83APX/IwCq/2P/FgDt/0oAeP+t/wsA4/8eAOv/tf9vACMAbf+u/xT/2v8XAA4A+v+T/9b/wf/m/4v/o/+M/xgAHQCH/5f/lf+//+L/DwCI/7H/S/86/wkA1v8zALH/mf/c/yf/s/9Y/4L/bgD4/wcAVf9q/9//qf8TAKX/4f/M/23/3P+k//L/ZADz/9T/af9y/+T/+v8cABgAuf/d/53/3v+qAM//8f/v/4L/CgDi/8v/YAACAEUADQD1/6v/x/9RALH/gQCu/xEA8/+m/z8Agf9gAPD/6f/Z/2//+f/a/3kA4P+4//z/sP///8j/9v+x/ygA/v/f/xMA0v8tAAoA8v+r/xwA3f/2//T/2P85AMb/FQCx/9//NwB6/xgAuP+//xcAeP8oAJD/AQAzALf/NACA/3f/h//n/1EARQAVAJn/wv9//+3/GAABAD0Adf8+AN7/2P8mAH7//f9CADYA8/+rAJkAvABTAEr/r/+g/8n/CwDE/xQAIAC//x4Azv87AOUA9P9RAH3/pP88AGv/QACf/1QAeAD8/+j/kf/b//f/VwC9/38AOAD1/zUAef9OAEoA5P/i/97/RACGAOT/vP8fAL//kQCO//j/TQC4/9kAHv9gAO///v8SADn/agCv/5gAR/8WAND/3v9PAIH/5ABd/+r/jf9Q/+4A+P/L//L/bf+TAJEA0f/N/03/7f8TAPX/owDH/2QAaAA7/xgAt//B/4IASQCd/9f/w//8/04A4f+7/5D/UQABAB8AYP8X/6EA1v8EAK7/hP8oAGoAAQD+/5H/Tv+ZAJP/KwBbAFX/IwDv/1j/0AB5/6n/WgBc/1EA3//s/5T/tP94/8H/awBVAPr/if+y/0f/IgBSAPn/1f/g/xgArP+ZAIH/wf9qAJ3/MAALABsAEgDh/wMABgALAMsAef+v/+wAgv8AAEwAKf+CAEsAT/+2ADMAPgAjAI//DAC6/2MAcQD9/73/dwA0AGP/nwDy/+n/IQBdAEcAXQCBACr/XQC7/xgAogAKAA0Arv8OAXz//P8cAIT/SAD//2IAfgBgAOn/XwA9/+T/BgDX/74Aiv9tAEQAkf8aAOj/wf8NAFEA3f9mACoAhP8AAEP/eAATAFoAKwDT/gMBsv8pAJH/pP+/AAgAFQD4/pAAkQAJAM7/Of9UAL4AGQBp/47/cgBdABIATwDF/18APwBR/wAANwDa/xUA6//u/1IAlf+UANT/wv9cAA//IwFQACMAbQC4/moAaQBjADYAfv83AF0AOwA+AAYAg//OAB4A7/+aANP/WgCXADH/eP9nAC0AdAD4/33/3f+UAPb/mv/s/yQAMwCZAJP/fP/9/9j/+/92AE0AfP8HAAkAeQBVANn/Qf9tABQA9P9wAJn/kADw/7n/xv/i/6gARwCj//f/1f92AF4Ab/86ANj/7P+FAML//v8WAJX/rAAtALz/YwC4/6b/uQAAAN//VwD2/l4AbACu/6wAe/8oAHUAjP82AEr/owBNAPD+PwCu/ykAogCS/7n//f+6/4MAj/+k/4EAQACXAJL/i/+q/9j/6P/o/x8AMwBtALL/wv82//P/WADE/x0Aj/8jAPr/EABK/1D/lwDf/04Ai/82/0wAHAAgAPL/lf6o/18AEgDSAGX/rP9NAH3/mv+G/xEApwBYABoAOv9E/6n/HgAfALj/vv/3/1YAv/+3/2r/kv9gADkAav+S/8j/UwBZAGj/rv+u/73/TQD8/9L/WgCV/43/AgCa/wkA/P/f/1kA+f/h/6X/Qf8MAEMAiP/y//H//v9XAEf/pf/x//D/TgCi//H/DQBLAFMAiv+W/7f/HQD+/30ACgD+/00Axv+2/8L/WwBwAH0A2v8UAOj/5P8JALb/hgBZAPP/KABl/+v/ZADM/3cA7v8hACsAmf9eAOL/CwBSAFz/DQD8/xcAXwDa/yYACwDP/8L/yv84AGsA5//3/6L/LQAUAJv/QgDX/14AlwCQ/3r/7f8gAFkAZgD2/87/2P+L/ygAWwDb//j/UgAgAB4AHADW/40AeAAOAL//xv+gAMsABgDQ//H/QQCMAAMA/f8XAH4AgwDw//X/qv9JAKMA9f8hAMj/yf9IAOH/2v8KAKP/FgDv/8////+m/z0A5P/U/+7/jf/t/wUAwP+9/6H/wf/b/9H/1f+x////5f/M/+n/rv8TAC8A//8VAKn/JgBfAEYAWAAaAF8AbQCUAIoARQCtAMQAmADKAI0AowCyAGoAXQBYAHAAbABSABIA7f8EAMX/xv/j/7H/2P+t/5T/Z/8j/07/aP9A/0n/NP9O/3//Yv9a//H+SP9V/3j/s/+p/8r/iv+t/5f/n//f/zUAbABOADIAEABTAJ4AkQDiADIBtwHhAXYBiAGLAZMBhQF2AdEBxQGLAZwBGwHAAIsARgBAACYAGgADAMf/nv94/w7/0P7Y/gj/Q/8Q/97+5f6M/s3+3/6A/rT+uP7l/mr/PP9Q/yD///5//2b/x//y/yYAEgDS/97/qf/l/wYAu//R//L//f9CADwA4v/C/8X/vf8oAI0ABgFcAS4BuwCMAHkAhwCrACUBoQHXAR0CoQEnAcoAxADnAAkBPgE5AUoBAQFtAJ7/Fv/z/gn/Yv94/4n/V//u/o3+G/4O/mz+Df+Z/8f/wP+a/z3/MP9K/2X/sf/u/zoAXQAzANn/Mf8m/3f/xv8XAMP/+//k/5X/OP+e/qj+3f5H/3j/HP8p/w3/qf7G/pb+1/5m/yMAxAAuAScBrQCWAHkAvgD5AFIB4wENAiECwAEZAeMAtAC4APAANgFpAXEBOAGsAB0A2v/L/6z/nv9q/13/cv9j/y3/8v7Y/ub+Ov+I/+X/KwAaAAYACwA5AI8A1wAcAU4BPQEFAckAcAApABMA+f/s/8f/qv9J/+7+vP5r/kP+8P3E/dL94v3//fr9tv1r/VT9d/2g/dr9Nv6c/vb+Nv+B/xcAwwB3AbMBnQG9Ae4BcwKgAq4CyQK4Au4CxAJaAgsC1AG+AWoBEwHhAM0A7QDyAH0A4P9z/zr/Ef/f/oz+OP5S/mb+if6C/mH+uP4V/2v/cv9j/67/LAC+AAABCwE6AWUBfgF4ARMB0QDAAJ4AgAAgAK7/VP8N/8v+kf5I/vz91/2T/VD9Df33/BT9HP05/Vv9bP12/ZP9rP3q/V3+EP/P/0QAOwHcAV0CrwJBAlgCaAIWA6ADoQPcA58DfQP6AmIC9QGcAXwBYAE2AaQAOADU/5P/X/8Z/wP/n/51/mr+Pf4M/qf9YP2v/Sz+o/4c/2X/tf/J/+3/FgBLAPIAmgEaAlgCYQJBAiEC7QGGAT0BKQEXAecAfADD/xn/kf4p/u/9oP1T/TD9A/3b/K78bfxI/ED8h/zj/Dj9i/21/ev9GP57/v3+r/+RAHUBhwIXA4QDXQMMAzEDbAP/AzMEdwR4BCIE7gNbA6IC+QGaAUgBDgHWAFwA6f9o/+/+if5c/kr+Mv4K/tf9nP1G/Rr96vxF/df9cv44/5z/7v8EACkAaADjAKsBNwK+Ag4DDgP0AqQCMgLqAbYBjAFpAR8BqwD//zj/n/4l/tb9kP1L/Rr95fzA/Jj8U/wU/B38YPzK/Cr9kP3b/SD+if7V/lD//f/ZAK4BkwKOAx4EdQRNBCwENwRwBN8E8QQABa0EVwTgAwkDRQKIAf0AggA0AND/Qv+x/hL+Zf3u/AT9Nf1X/TT9DP0B/cH8w/ys/P38xv21/tj/ZwDDAP4ALgGFAeQBYQL6ArEDNgRPBBYEpgMZA9ICiAI7AgkCqgFEAYAAnP/S/h7+wv2D/WT9Jv3V/KT8avwx/PH72/sN/HT8BP1x/bj9IP6N/hb/lv8aAMYAlwGRAoEDWQTaBBYF3QSWBHQEiATGBKcElQRCBNgDRgNhAokBogD1/3P/GP/H/j/+qf0V/WX8vfud+9/7evwq/Uz9Nv0X/QX9Lv1F/br9zf4qAHUBEQJNAloCdwLuAkcDwwNKBNQESwU0BbgE6wM6A94CgAIfAroBLgGAAJv/qv7U/S/97/zG/Iz8Q/zp+7n7cvsV+9z6+vp/+yr82vxI/YT97/2L/kv/1v9AAPUAzwHKApYDTwTYBCUFYAUHBZ0ESgRDBGQEQgT9A2gD3AI6AlEBVgBf/5z+Pv4e/rz9N/2t/C/8wvtY+zX7dfs4/CP9sf2p/X79aP2c/SD+qP7c/yMBVAImA1UDXwNSA5YD3QM3BJwEBQVaBVMF1QTaA/0CYQLzAXEB+wCCAPj/bf+a/r792/xg/FT8Q/wW/NP7rPun+7P7k/t9+5b7G/zq/LL9bP7W/lv/4v9rAOsATQHlAawCkwN5BCwFXgU1BbMEGQSjA3YDgQNjA0YD6QJRAoEBXAA2/zX+hv06/S79Hf3O/FT8tPsQ+6j6kfrI+mH7efyC/V7+sP6A/nf+df4I/9b//gBjAm0DTQSEBJEEjgR1BHgEigTuBGIFsgWjBfYE+AMSA0sCtQErAawAXQD4/4D/t/65/cX8HfwV/Bz8Ivz8+8P7lfto+2L7YvuM++f7lfxm/RD+hP7i/jf/mP/5/1cA0ABmAS4C5gKhAwsEHwTeA1UD1gJ3AoMCogKeAoECEwJvAaEAqf+9/gX+lv1c/WD9ZP0s/dT8YPzi+6371fsx/N780P3n/sv/awB9AFMAQgBuABsBAQIuAzAE+ARaBVMFLAXfBLAEqQToBEQFdQVaBdUE9gP4AgkCTgHGAFMA6f+C//f+Kf4p/Tr8h/s2+1r7kfun+3X7GfvG+ob6cPqW+gr7qftc/AL9k/3w/Uz+ov4C/5L/LQD7AL4BVwLQAl0D2QMLBOgDcQP/AuQCBwP0Ar8CfAISApwB8QAJACj/ff4v/ib+Nv4W/sn9fv0l/cf8lfyn/P38qP2X/oP/MACdAH4AfQCbAPEAwQGwAuEDtwRCBVMFLQUbBe8E2ATMBOsECAULBbkE5wPcAtsB7gAyAI//9/5z/uj9Pf1i/Gj7gvrw+dn5+PkM+gD6xvmL+V35Rfl++dT5gfpg+x38Kf3P/Vj+6/4p/7T/NgDmANEBkgI8A7EDMgSNBJUEWATJA1kDRQNjA08DCQOjAh0CggGxALz/5P5m/kH+QP4r/uf9gP03/fj8tvyz/Pb8bv0q/uD+nP9qABEBnwGyAbkB2gFVAgMDlAMpBHgErgS0BJIENQS1A2ADNQMkA/4CegLEAfEAHwBV/4b+0P0r/cL8cvwc/Kn7HPua+j76Bvob+mv6u/r4+g37A/vw+v76U/vm+5r8d/0y/sv+Gv89/3D/uP9bAAYBsQE+ApcC1wLcAgkDVAOJA8gDogNQA+wCrAKPAjAC4wGEAS0BxwBEAMv/X/8j/97+qv53/h/+/P30/er97P39/Sn+Vv6q/vb+c/9fACABugHTAYUBUgE7AWIBpgEgAqwCIQNfAzkDtQIYArYBgQFYAToB3gC2ALYALABu/0v+Wv0c/dn83PzA/Hj8ifxY/Ar8mftc+6z76fsS/B/8I/xC/E78VfyG/PH8q/1g/sr+7f72/hT/W//D/zkAzQBWAc0BFgINAvgBRwLDAkEDegMYA4ACIgIVAiMCJAIYAs4BOQGrABwAuf+d/4T/P//t/n7+If4f/jH+Ov4i/hD+9P0W/o/+Ef/K/6sAYQHTAe4BjQFEAVYBiAEDAoIC2gImAzEDDgOYAvYBfQEcAeEA4QDAAJQAewABAGP/n/7S/WD9Lv1c/Zf9qP17/Rv9rfwy/BT8Rfyk/P/8Jv0f/bX8YfxS/Hr85fxk/dX9DP4x/jD+M/48/mb+3f5R//f/iwDoADwBVwF0Ac0BSALyAo8DsAO+A7ADdQNcAxoDEQP8ArACcwLwAX8BMAGyACoApf8G/5L+X/5N/kn+Ev7k/Zb9Wv1//bT9NP7T/oX/NwCeAMkAywDhABABXgHPAUMCxAJTA6IDpQNQA7wCMAK8AZkBdgFRASwB0gBRAHn/k/6i/QX90/y//MH8fPwk/Lj7ZPtH+0v7gfuh+7L7n/t9+3X7lvsD/If8Fv2Q/dT9Bf4i/mn+3/53/zUA4AB0AdoBEwIwAkYCegKrAk0DKwT0BKYFkwUJBVcErQNjA0UDeQOrA4MDDgMqAv8ACABC/7n+n/5r/jj+DP69/XL98PyZ/Fr8Yvzv/Jf9c/5D/xMA3wBbAbwB5QEMAkYCcwLVAkUDswMcBDQE4ANKA4EC0wF1AUwBQQH3AIEA1P/o/vP9C/1a/PP75vv0++b7pPtO+yb7EPsn+2v7w/si/H780vwA/Rj9Pv2h/Rf+o/5B/7T/JgByAKYAsADRADMBqgFGAs8CNgNjA1cDSANBA2MDrgNbBBQFewWhBQAFFARBA68CeQJ9ArACmQIgAk4BaABd/6X+Ov7x/f79yf2k/Wz9IP0R/ff8Gf02/YD9FP6Y/mX/EwCnAFoB0QFWArsC3AICA9wC1ALcAvACKAM6A/8CfgK7AcYAEABh//b+u/5l/iT+pv0I/V78uft0+1/7h/u7+wT8Z/yw/P38HP06/XH97f2r/lj/5/85AF8AmwDXAD0BnQHvAUECZwKBAmkCTgJRAmgCtwLlAvQC1QKKAlUCMQI6AlcCSgJnAogCfQKIAhECjAESAagAmACVAL4AvQChAFUA3/9Q/9z+jf5//tf+C/8q/0T/Kf8g///++P4M/zr/t/8qAJoAzADJAPoAIQFnAb4BtwGlAT4B8wCyAJwAyADiANIAawDc//v+gf40/kH+bf5w/m7+NP7+/cr9o/2P/aD93f0y/oz+3P4b/1r/lP/l/zcAkwAJAYcB6wEWAvYBygGSAY0BxgH2AScCDgLLAWAB7wCdAI4AkgC6AMcAmgBQANr/jv9s/4//rf/f////SgB1AKMAtQCGAJEAmAC4APUAPwFyAZMBbAFVAfIAzwC2ALUADgH3ANkAhwARALv/U/8e//f+xv7Y/rL+v/6y/nn+hP6Y/sz+NP9h/3//a/9C/yf/Ev9H/5D/9f8oAGYAPwAhABIAHwB+AM4ACQEZAQAB2QC4AKAAvQDYABIBHwE5ASYBBQH1APAADQEZASwBJAEFAdoAewAHAKL/Q/9G/0z/cv+E/2H/JP+9/lr+If4v/mP+wv4T/zT/N/8n/y3/cv+9/zIAfwDSAEYBywFnAs0C7ALeArcCcAKBAqsC+gIdAwMDxwI0Ap8B9wB9AFcAJgDl/4f/Af98/v39uv2Z/YP9cf1a/WX9gf2a/cH9Bv5W/tb+Tv+K/7j/wv/L//D/QgDCAFYBugESAjQCCQL4AbkBxwH5ARcCXgJfAj8C7QFkARUB0wDBAMIAyQDOAJUAUgD0/5X/S/8r/yj/If8F/7/+WP4Q/tv93/39/RT+T/5R/mr+ef5q/or+oP7x/mT/4/9nALUAygC/ANUA6wBCAZgBEgKZAvcCQwMnA/MChwIxAuMB2wEFAgkC+wGPASUBeQDT/zr/wv7D/qr+mf5z/hb+tf0x/ez89/wq/Zn97v04/mz+a/5j/mz+wP5P//b/ogDuAB8B/gDBAMUA6QBnAeYBTwKXAp8CUAL9AZoBjgGdAawB5gHVAdABYgHyAIUAHAD6/97/+f/+/+X/tv9b/wL/rf6E/o/+qv7o/ur+vP5l/gz+/P0b/mD+v/7q/gT/7/7G/tT+4P4l/2X/xf8WAD8AQQA2AFEAaACLAJsAwgAIAVABnQG4AZ8BVgH3AMoAzQAYAUwBSAH6AJgAOwDa/6X/d/+Y/4v/cv9C//f+z/6R/or+l/6o/rD+tf7J/gb/L/81/yv/Nv9q/7b/KAByALIAtwCRAGoAdACuABIBZQGfAc0BsQGcAVIBSwFNAV0BbgFhAWUBKQEBAasAggBSACkAEQDz/+r/uv+J/zn/7f6o/pf+nv67/sb+kP5C/uH9tf2z/dX9DP44/lr+Xv5e/k/+Wf6F/sP+Lf9+/8z/BgAmAEcAagCJAKUA2gA6AZkB+gEoAgsC6wG1AacBogHNAfMB4wGtAUUB/ACuAHUAPgArACYA/f/e/7H/jP9S/xP/2/7M/ub+Ef9B/2H/bf9F/yD/FP9D/6T/DQBbAIoAiwBpAEAAOAB6AMYAHQE6AVoBYAFOATcBGAErARsBLgEvAVIBUwEXAc0AagBLAAsACQD0//D/4P+M/1b/8f7e/tH+3/71/tz+vv5u/kX+Lf5U/n3+pf7I/uP+Cv8Z/z3/Yv+Y/9v/HwBrALEA2gD9ABIBJQE5ASUBRAGLAdgBHAIHAtIBjQFEAR4BBQEUATABCgHXAJAAXwBaABcA7v/H/7T/sf+d/63/r/+V/1f/Gf8M/yz/V/+B/6H/pv+K/2v/cP+Y/9r/DgAUACcACQD6//f/+v83AEIAaAB+AJYAxACrAKgAnwCbALUAwADnAO8AzACSAFQALQAgABcAFgAYAPn/4P+r/4n/df9u/4T/if+S/4j/cf9e/1L/XP9s/5L/sf/T//T/8v/v/97/5/8JACkAWwByAHEAYQA7ADgAMAAlAEAAcwC5ANcAwwCTAGUAYABQAEIAYAB+AJAAeQBaAFAATAA0AAoA+P8UACIAEwD//+j/0P+d/3D/df+Y/7T/s/+u/6v/hP9e/zf/X//R/xUAPQAzAB0AFgDw//P/GgBsAMoA5AAAARgBEgH2AK4ArgDdAAgBMQEiAR0B7QCXAGMAPgBHAEsAPgA9ACYAAgDA/3f/Y/9n/5b/t/+7/7H/if9w/1f/Yf9+/5n/rP+5/77/wP+s/4H/dP96/5//yP/o//P/2f+p/4b/g/+R/7f/CwBRAGcARQADAPP///8AAPT/EQBWAHMAYgBCAC4AIgDW/6X/yP8JACwACQDd/8D/q/+Z/37/hv+u/7L/uf/G/8X/pf9d/zD/R/++/1kAkwCbAGQAJQAlADcAcADMACQBRQFKAUQBPQEmAfYAywDNACQBcAFsAUIB3wCGAE4AgQDOAM4AcwC8/3j/lP+h/z3/xP5q/o/+If80/yf/2/6p/rz+zf7l/tj+JP9h/2X/h/+E/63/of98/8D/PACHAIQAXgAgAPD/4v8XAH8AGwFcASgBrQAKAND/5//I/3n/e/+u/5r/UP/e/nD+TP4n/h7+cP7Q/s7+sv6o/nX+d/6h/v7+qv9lALAAlgBfADsAVwCPAL0AHgHRAVQCmwJGAqwB7QCeAM4AGAFOARgB1AA+ANT/Uv8P/xf/Kv9n/2T/Xf8q/9n+yP7E/gb/XP+a/9j/yP+m/4H/dP+R/7///f8tAD0ARAAlAMr/b/84/0j/Z/+L/3P/Kv/I/mH+K/4d/k/+Y/5d/kX+QP5X/pv+rP7J/sz++/48/8v/jgDfACgBqwB5AFsAswDhAKgAbwDp/9L/jf9P/yT/DP/q/qP+a/5G/k/+av5k/mr+iv7H/vj+OP9u/6D/yv/m/xcAKABZAH8A5gBBAaEB/gHIAZwB3wCSAK0A1gDxAH4AVgDh/7//gP84/03/M/9K/yf/MP9I/z3/b/9T/2X/kf+j/8L/pf+x/6L/oP+f/3L/av9Z/2r/cP97/17/If/s/qT+k/6X/p3+k/6J/j3++/3A/cr9+f04/pf+kv7F/s3+Dv9R/3f/p//M/9cAdwELAtsBGwHVAL0AGgHsAPcAnAA+AOj/WP8Q/9/+4P57/l7+VP5Y/oH+YP4w/hD+Tv6n/hz/hv+q/8n/wP/L/+//JgBkAJsAEgFWAeAB7wGvATwBlQC9ALUAAwHDAIYAOQDE/7P/Qf9m/4L/rv+e/2f/Zf8+/3L/iv+m/7n/y//V/57/if9X/1H/Lv8l/xX/Cf8b//T+Bv/f/tD+u/6R/n7+d/6x/qr+v/61/pz+pf56/rH+wf44/4n/mf/N/7b/8f/n/zQAMwCOAG0B9AFOAqwBAwFlAH0AnABmAE0A7f+p/xb/oP5H/mD+b/4o/hn+Iv6E/sr+4f6w/qH++P5R/+H/XQCqAKYAegBbAEsAhwDLAAwBVAGCAccBxgFvAQYBhgB6AI0AowB/ABoA1f+N/3n/Vf9f/4//rv/E/7H/n/+L/6T/v//k/woAGgAOANL/yP+e/4f/eP9h/3L/Xf9l/zr/Kv9C/0z/bf9F/xb/Bf8R/1L/Xf9i/z//Hf8m/x//Yf9t/3H/T/8//3j/s//z//j/9/++AJYBHgL7AesAPQAHAD8AJQAGAPv/jP8O/2r+7v09/mf+Gv7u/eX9af7t/jr///7J/in/dv/7/5IAzgD0ANEAlQB7AIEAtwDHAAcBRwFtAYMBYwHgAMUAsgBqAIgAWABSAAUA+//C/2z/nf+l/93/8//q/8X/vP+7/9r//f8dAD4AHAAQAOT/7v/N/7H/pv+Y/7v/qv+o/3H/Z/+V/57/tP+Z/5D/fv92/3T/Uf9Z/zb/Tv8i/0r/QP9K/0f/N/9k/0L/jf9P/5b/DwBAARUCRQKyAYAACwDn/ygADAAqAP//rf9F/63+e/6g/pL+Uv5Z/r3+dv8fADgA7//N//D/PwCyAEYBkQG6AXEB+wCxAL8A2gBbAa0BwQHjAUQBqgCs/4j/m//b/3kAfQCxAJYAUgD4/6P/yf9BAMgAUgFyAUoB4wBdAAMA0f/4/yUALAAMANr/sf9h/yn/+P72/k3/qP/T/8P/l/9L/wH/6P7U/tH+3v4V/zX/PP9J/xT/7v7v/kT/nf/k/y8ALQD9ACwC2wJFA4gCuQE1AQ4B6gCLAKgAQADC/3b/sv6Z/sn+Jv7y/eL9ff6B/zAAXACy/7n/6v8mAAEBdAHKAecBjgE4AdwA6ADlAO4APQFZAYIBbQHeAI4AegCaALsAxwDaAN8ALgFxAYcBQwHdAC4A5P/u/xsAYAA+ACsA0/+C/0v/Sv+L/7n/0v8UADEAbQCAAEcAGADV/+b/BAAkAE8ATQAoANz/hv9q/z//Xv9l/43/7P8jAEEAAQC+/5P/ov/H/wcAKwBcAF0ASgAiANn/zv+5/+//UQDFADkBZAE3AdIAVAAGANT/vv/L/9//EAAqADIAMQAaABYABQD7/0sAuABUAaoBqgFjAfUAyQCZAKQAtQC+AMkAtgCPADsA4P+X/3z/mf/r/zoAeACsAM4A9QAQASMBLQEnASsBGQH4AL0AgwBaACAA3P+i/4L/e/+J/6z/xv/V/9z/vf+Z/3X/hP+N/4D/aP9D/zj/K/8e/wv/Ef9I/5r/w//F/7P/pf+S/5v//wBLAoYDKgQVA0oCcwEOATcAbf+o/17//P90ACAA9wCBAJr/5/4W/tb+tv/YAEYBRwHoAYkBRgHvAPz/FwDx//P/PgBbAL8AhQCoAKoAcAC+AGgAKQCFABkB1AHvAdYBaAHOAJ0APAANABQAFwAuABoANQBYAHIAZAA/AC8AIgByAJIAtgC5ALQAwACWAJwAYgA+AEoAIgAyADQAMAAyAPH/5//H/8X/z//B/7z/tf/H/+n/6v/y/xQAFAAxADsAPgBLAE4AWABJAFIAWwA4AC4ADQAFABsAOwBpAJUAxADaAPUA/AArAUMBSAE/ARkBDgHuAMcAeAAQAMX/f/9f/1D/af+S/6//y//M/8r/yf/X/+r/HwBUAJQAugDJANEAowB4ABYAyv+t/7D//f8uAGoAfQCEAIkAYwBDAAwA8f/t/ywAsAAWAUYBMAHfAHIAIADu/+L/4v8NAB4AHAAdAPP/v/9D/+j+mv6Q/sv+Gv+A/8n/GABGADEAFQD+//b/ZQAMAfQBrwI6A1UD3QJhAo0BwQAUAIn/Xv9f/9z/agDVAB4B+QDQAG8AIgDz/73/3f8tAJUA6AAlAS8B0gBJALH/FP+w/oD+gf7Z/oT/XAAVAZ4B0gGiAWEBAAHGAKEAlAB7AFQAagBcAFMAAAB0//n+kv6I/pj+2/5g/+z/hgD2AEYBdwFpATcB1QB7AFcAVABcAFsAZABzAHAAUgASAMD/kf93/23/gf+S/8n/5/8BABwABwDw/6L/Sf8C/9b+4v7p/hz/Wf+L/8j/8/86AJQA6wAoAUwBYAGJAY8BbAEMAXkABwB7/0f/Mf9i/9T/CwBdAFQAKQDq/3r/Kv/g/tj+6/4S/4L/y//3/9X/bf8T/7v+o/59/qX+H//G/5QAPQG6AfoB+gGiARUBlQASAML/kf9o/5D/v//2/+r/x/+L/0v/Rf84/0z/h//z/1QAvwAYASgBIQH8AM0AmACFAG0AQwAcAAMAAwAFACQAJwAqAC8AOABNAFQAWAA9ADAACADn/8n/lv9+/1X/R/8m/yH/Jv8g/0D/U/96/5//2P8aAGQA0gAuAXwBlAF8AT4BzwBzAPL/k/9Q/xv/Kv8q/1v/eP+N/7r/u//Y/+D/2f/I/57/hf91/4r/q//T//f/EwAnADUAIQATAAgA4f/u/9j/9f8HABcAOQAWACAADwAMAA0A/P/x/+b/+/8SADwAZQCWAMAA2wD8APUA4wC+AHwAQgAJAOn/0f/J/9j/9P8qAGgAmAC5AL0ApwB3ACcA5P+W/1T/J/8N/xP/If9L/2H/bP9g/0j/Iv/x/uX+zP7h/gz/lP88AAkBuwEHAjYC3gGTAdcAGwBw/5f+VP72/Tj+t/4u/wkAYgC5AMYAlABiAPn/z/+I/2P/af98/7v///9EAFkARwAcAN7/o/+R/3v/gf+R/7H/EgB1AOAAHwE9AT4BEwHhAIIAIADM/4j/YP9h/4L/pf/W/+D/BAAJAB8AKQAbACkAEQArAD0AYACKALUAwgDiAO4A6wDSAH4ARwDd/6T/YP8+/y3/Mf9W/3//o/++/9X/x//M/63/tv+n/7L/sP/G/9r/+f8WAA8AIQAWADMAIgAhAPT/2v+6/7f/u//A/+//9P8eAAgAEAD3/+3/0/+b/3j/XP9l/3H/ov+y/9P/1f/L/7j/pf+g/4//ff92/4L/k/+u/8D/2//r/xQAPABdAHMAgwB3AF8AMAANAO//4P/4/wUALABGAFsAXgBJAC8AGQAMABAAFQAcACEALgBCAEoAVABKAD8AIQAKAPb/5P/R/7j/pv+R/5P/i/+K/2X/UP88/zb/Uf9d/3v/iP+h/6//w//U/8z/wP+q/5T/h/+F/4r/lv+l/8X/6P8AACgAPABOAEcAMQAiAAgA9v/c/9H/zP/j////FgAkADMANgA3ADEALwAyADAAHAD6/+D/zv/N/8n/z//S/+n/BQAyAFUAbwByAF0AQAAkABwAFQARAAkA//8BABkATwCSAN4AEQEhARUB2ACoAEYABQC3/33/Xf9G/2r/kf/n/ygAfACkAL8AxgCrAIMAKQDN/1r/Cf/c/uL+Dv9L/43/sf/P/+n/CwAuAEQAQwAnAAQA4f/J/7T/qv+v/7P/xv/e//7/IgBGAFEAPgAiAAUA8v/V/77/nP98/2f/U/9Z/2v/of/O/+z/8P/d/8L/pv+Y/3v/dP9s/3P/f/+c/8P/6P8IABoAJgAxAEQAUgBdAFEAQQApACYAIgAvADEANQAwACUALQA1AEkATABNADIAGAD8/93/wP+n/6H/pf+7/8//4P/r/+3/5//b/9H/xv++/7X/s/+6/8n/5v8CACcAPwBfAHMAdgBfAC4A9f+7/5P/dv9w/3f/jf+j/8T/2P/z/wgADgACAOf/zf+q/4r/af9S/zv/Nv82/z3/Rv9Z/2X/bP9q/2P/V/9C/zj/Lv8y/0L/Y/+J/7f/7P8ZAD4ATQBJADgAGAD//9H/sf+Q/3n/cP92/5b/vf/v/xQAQABVAHAAeAB1AGMATAAzABIA9//a/9D/yv/d/+n/AwAUAC0APgBLAFsAZABoAFwATwArAAkA5f/L/6b/pf+V/5b/wv/Q//X/+////wkABgDt/9n/wf+s/5X/cP9q/27/jv+i/6n/vf/G/9H/1P/N/8z/yv/F/7z/uv+//8r/v/+r/5z/kP+L/37/af9X/0r/Ov85/0H/V/93/47/nv+u/8D/1f/m//D/9P/u/+L/zv+//63/oP+L/4f/jf+g/73/0P/q//T//P/1/+b/1f/Q/8z/0//j//L/AQD///b/5//c/9D/yv/E/83/3//y/wgAGQAlACYAKgAmACYAJgAiABAA+//x/+P/3P/U/83/w/+5/6v/nf+Z/5X/m/+Y/57/pP+s/67/rv+o/6r/o/+c/5f/jf+S/5T/qf+2/87/3P/q//D/+f/7//f/7P/T/8P/qP+h/4n/ff9v/3b/gP+a/7f/2//8/wsAGgALAAUA5v/R/6//o/+b/6H/uP/Z/wEAHwA0ADEAJwAHAPL/0//O/8//4v/3/xEALwBQAHcAiACcAI8AiQBvAGIASgA4ACUADAD6/+H/2f/R/9z/5v8AAA8AJwAyADEAJQAWAP//6v/U/8P/xf/Q/+j/7//8/+X/4v+//7D/lP+A/3f/Y/9i/1j/bv9y/47/jf+X/5T/nP+j/6j/sf+2/7z/sP+p/5X/iP9y/2T/T/9J/0z/ZP+C/6b/wf/P/9H/yP/A/7n/wf/E/8//1v/p//j/DwAfACwAKQAcABEABwAHAAQABgD5/+j/2f/V/9r/8P8IABwALwA8AEgATwBLAD8AIwAHAOz/3//c/+T/7v/0/wAADwAeACgAJwAXAAAA4P/J/77/wf/O/9v/3//l/+X/5//q/+T/1v/C/6v/lf+M/4L/gP95/3j/cf94/4L/i/+T/5v/pf+q/7f/wP/J/83/0v/H/8H/vv/D/8f/z//V/9j/5P/l/+3/7//2//n/+v/0/+z/5v/l/+v/7v/3/wUAHgAyAEsAWwBlAGEAWABLADwAMAAiABIABgACAAMAEQAeADUARgBVAF8AZABoAGEAVQBBACcAFQANABEAGwAkACgALAAyADgARQBLAFEATQBEADMAIwAVAA4ACAAHAAgAAgD9//n/9f/v/+z/5P/d/9D/yf/D/77/vf/B/8b/zP/S/9D/0v/L/8f/uf+u/6n/qP+u/7X/wf/K/9X/4//w//v/BwAHAAcACAAKABQAHgAnACkAJgAjAB4AGwAZABkAFgAZABkAGgAYAB4AIQAhACEAJAAuADcAQwBJAEwATABJAD0ANAAsAC0ALAAyADQAOAA6ADgAOgA6AD4ANgAxACgAIwAlACkAMAAwAC0AKgArACoALgAvACoAJQAcABsAEgANAAUA+//x/+//9/8DABEAFwAaABQADQAHAP//+f/z/+r/4//f/+H/5P/i/+L/5P/o//H//f8AAAYABwAHAA4AFwAgACYAJwAjACAAGwAWAAwABQD9//f/9f/1//j/AAACAAcACQAPABcAGgAeABsAHQAcAB8AIAAiACQAIgAiAB0AGAAWABMAEQARAA8AEgAXAB0AKAAwADcAPAA/AD4AOAAvACYAGwAVAAoABwAKAA0AGQAcACAAIwAnACkALgAuACgAHwAUAAoABgAJAAoACQAEAPv/9f/z//H/7//r/+L/2v/U/9b/2v/c/9r/0f/K/8j/y//S/9r/3P/c/9r/2v/f/+n/7v/y//T/9v/8/wYADwARAAkA///z/+n/5P/e/9r/2P/T/9H/1v/e/+f/7v/s/+j/4//k/+j/9P///wUACQAIAAIA/P/2//H/6//o/+r/7v/1//z/BgAQABQAGgAhACgANwBHAFMAWgBZAFIASABAADoAOgA/AEkAVABYAF4AXgBgAFoAUABHAEAAPwBAAEIARwBIAEQAPQA0ACgAGgAPAAAA+P/x/+z/6f/n/+r/7f/w//T/9//2//b/9v/3//n/+//5//f/+P/2//b/9P/z//H/7//w//j/AQAGAAgABAAAAPv//P/9/wAABAAKABIAGAAeACQAJwAmACUAIgAfABsAGwAbABsAHwAkACsAMwA3AEAAQQA+ADoAMAArACMAIgAlACoAMAAyADcAOwA/AEAAQAA6ADMAKgAhABkAFgAWABAADQAMAA0AFwAhAC4AOQA5ADoANAAuACsAJAAaAAsA/f/1//L/8f/w/+7/7P/s//D/+/8JABQAHQAdABsAFwATABMAEwAVABUAFAAVABMAFAAVABYAEwAOAAwABwAEAAMABQADAAYACQAPABYAHQAkACUAJAAaABEACAAFAAMA/f/8//v//f8FABAAGAAfACQAJAAlACsAMQAxACoAIAAYABYAHQAkACsAMAAvAC4AMAAxADUANQAvACYAIAAfACEAJwAnACQAIQAiACYAKQArACgAJwAkAB8AIQAiACcAJgAkACIAIAAfAB8AIQAjACIAJAAkACIAHwAcABMADQAFAAAA/v/9//j/8P/q/+T/5P/l/+b/6v/u//T/9f/4//r/8//r/+X/4v/k/+v/8P/4//v//v8AAAAA///4//L/7P/p/+j/7f/z//v/AQAIABIAGgAhACgAKQAqAC4ALQAsACwALAAuAC4AMQA0ADcAOQA+AEIARgBJAEUAPgA2AC4ALQAuACsAKAApACgAKQAtADAANAA1ADEAMAAuACsAKwAmACEAHwAfABwAGwAZABkAFwAZABkAFwATAA0ABQD9//j/9//6//n/+f/5//v//f/9//z//P/+/wAABQAKAAwACQAFAP3/+P/5////BQALABAAEgAXABwAJAApAC0AKwAnACMAIwAlACgALwAzADYAOwA+AEMARwBKAE0ATQBPAE4AUQBUAFUAUwBQAE4ATABMAEwASgBKAEgARQBDAEIARQBGAEkARwBDAEAAPAA4ADQAMQAvAC0AKgApACkAKgAtAC8ALQAqACYAJgAlACUAJAAlACMAHwAcABcAEQALAAEA+//3//X/9f/z//X/9v/2//f/9//4//j/+P/5//v/+f/5//r/+v/8//7/AAAFAAcACQALAA0ADQAKAAUA/v/6//X/9P/3//v/AAAGAAoADQANAA0ACgAIAAQABQAHAAkACQAKAAoACwANAA0ADwAOAA4AEAARABUAFgAZAB0AHgAhACIAJQAkACMAHwAbABgAFQAYABkAGgAZABkAFwAWABIAEAANAAsADgAQABQAFwAaABgAFQASAA4ACwAHAAQABAAAAAEAAQADAAEAAwACAAEA///8////AAACAAMABAAFAAYABgAEAAEA///7//z/+//7//z//P/9//v//f/+//7//v/+//7/AgAEAAgADAAQABQAEAAPAAcAAAD9//v//P/+/wEABAAIAA0AEwAVABUAFgAXABoAHQAfABoAFwARAA4ACwAKAAwADAAKAAsACwALAAoACgAJAAcABwAIAAUABQAGAAYACQANABIAFAARABMAEQAOAAkACAAGAAMAAwACAAIA///8//b/8f/u//H/9f/6////AQADAAUABgADAP7/+//4//T/9P/0//P/9v/4//f/+f/4//r/+v/8//z///8BAAIABAAHAAYABAAGAAkACwAQABYAGAAaABUAEgAPAA0ACQAJAAYACAAKAA0AFAAWAB4AIQAiACMAIgAhAB4AGAAUABEAEQATABYAGQAZABkAGQAXABcAFwAWABcAGQAbABgAGAAaABgAFwAYABsAHQAfAB0AHAAZABcAEgAQAA0ADQARABcAGgAcAB0AHQAZABUAEgANAAwACgAKAAkABwAHAAUABQADAAAA/v/9////AAAEAAUABwAHAAoADQANAA4ADAAMAAoACwANABAADwAPAA4ACwAKAAgABAABAAEAAQADAAYACAAIAAcABgADAAQABAACAAIAAAD//wcACgAMAAsACAAGAAMAAwAAAP3//f/9//3//v8BAAMABAADAP///P/6//n/9P/1//b/9v/2//X/8//v/+3/5f/g/9v/2v/Y/9r/3P/h/+T/5P/m/+T/5v/m/+j/5//o/+f/5v/k/+T/5//m/+b/6P/n/+f/6P/p/+j/5P/m/+f/7P/w//T/+P/4//f/+f/5//b/8v/w/+//7//x//L/8//z//P/8P/w/+//8P/w//L/8//1//T/8//w/+7/6//n/+f/5f/l/+X/5f/n/+j/6v/w//L/9P/3//f/9//4//n/+P/1//X/9P/0//T/9P/0//P/8f/y//P/8v/y//D/7f/p/+b/5f/m/+b/6v/s/+z/7f/r/+r/6v/s/+z/7v/u/+3/7//w//D/7f/s/+n/5//l/+P/4//m/+f/6P/m/+P/5P/j/+D/3v/c/93/2//a/9n/1//W/9T/0//R/9H/0f/U/9j/2P/Y/9r/2//d/9//3v/g/+D/4P/f/+H/4//k/+T/5P/k/+T/5P/n/+j/6f/p/+f/5//p/+n/6v/p/+j/6v/p/+z/7v/w//H/7v/s/+n/5f/k/+T/4f/e/93/3v/g/+H/4//i/+P/5P/m/+j/5//p/+n/6P/l/+H/3f/Z/9X/1P/W/9v/4f/l/+r/7f/v/+3/6//p/+b/5P/i/9//3v/e/9//4f/g/+L/5P/l/+T/5v/m/+T/5f/l/+L/4//k/+X/5v/o/+r/7P/u//L/9P/2//b/9f/x/+//6v/o/+b/5f/m/+n/7f/0//n/+v/8//3//f/8//3/+//6//f/9f/3//X/9P/z//H/7//v/+7/7v/r/+v/6f/p/+r/6v/p/+f/5v/k/+T/4//j/+H/4v/f/9//2//Y/9X/0f/P/9H/0f/R/9P/0//V/9X/1P/R/8//zf/L/87/z//T/9T/1f/V/9T/1P/V/9X/1P/W/9X/1v/Z/9r/2P/W/9b/1P/W/9b/1//X/9f/1v/V/9P/0P/Q/83/zv/N/83/zv/O/8//zP/L/8n/x//F/8T/xv/H/8n/yv/N/87/0f/T/9T/0//R/9D/zP/J/8j/yf/K/9D/0v/U/9X/0//R/8//zf/M/8v/yv/P/9P/1v/Y/9j/1f/T/9L/1P/W/9j/1//W/9X/1f/X/9f/2P/Z/9r/3f/e/+L/4v/k/+b/5v/l/+j/6f/p/+v/6P/o/+b/5//m/+f/6P/s//D/8f/w/+7/7//u/+//8P/x//H/9f/5//j/+P/2//L/8f/u/+3/6v/q/+v/6//s/+v/7P/t/+3/7//u/+7/8P/y//P/9P/2//b/9v/2//n/+v/4//z//v///////f/+//7//f/6//n/+v/6//v//P/+/////////wEAAwAAAAIAAQACAAMAAgAAAP7//v/8//z//f///wIAAgAEAAUABwAGAAUAAAD8//v/+v/7//v//f/+///////9//v/+v/5//n/9v/5//r//P/9/wAAAQD//wAA//8CAAIAAwABAAAA///+/wAA//8AAAMABgAEAAUAAgADAAAA//8AAP3/AQADAAUACAAMAA8AEAAPAA4ADAAMAAwADQAQABIAFwAZABsAGwAaABsAGQAZABsAGgAcAB8AHwAiACMAIQAgAB8AHAAaABoAGwAdAB4AHgAdABwAHAAbABoAGwAcAB4AHAAdAB0AHQAcAB8AHQAdAB8AHwAgACEAIQAfAB0AGQAXABYAFAAXABUAFQAXABsAGgAZABoAFgAVABUAEgATABMAFgAWABoAGgAaABsAGwAdABsAHAAcAB0AHwAgAB4AHgAeAB0AGwAaABoAGAAXABYAFAAWABcAFAATABMAFAATABYAFwAYABkAHAAbABoAGAAWABUAEgATABMAEwATABIADwAOAAsACwAMAAsADgANAA4AEAAOAA0ACwAKAAwADAAMAAsACgAMAAsABwAFAAEA/////wEAAwADAAcACAAHAAoABwAGAAMAAgADAAMABAAEAAYACAAKAAkACwAJAAoACgALAAoACgAMAA0ADgANAA4ADAAOAA8AEAAPAA8ADwAPABAADgANAA0ADQAMAAwADAAOAA8ADQAPAA4AEAAQABIAFQAUABMAFAAUABMAFgAYABgAGgAbABwAHAAcAB4AIAAfACEAIQAfAB0AGwAaABgAFwAVABcAGwAdAB4AHgAeACAAHQAdAB4AGwAaABkAFwAVABUAFQAUABcAGAAZABkAFwAWABMAEQARABEAEAAQABMAEgASABIAEQAQABAADQANAA0ADAALAAsACgAJAAkACAAJAAsADAALAAsACwAIAAcABAACAAIAAQADAAQABAAGAAQABAAEAAUABgAEAAMABAAEAAQABQAEAAYABQAEAAMAAgABAAAA/v/+/wEAAwACAAEA///+//3///////7//v/+//7//P/6//f/8//y//D/8//0//j/9//8//z//v/7//f/+P/2//n/+f/6//z//f/8//r/+P/2//P/8//z//P/9//7//3/AAACAAEAAAD+//3/+v/6//r//P/9////AAACAAMABAAFAAcACAAKAAoACgANAA0ADAALAAoACgAJAAoACgAJAAwADQAMAAwACwANAA0ADQAPABAADwAOAA4ACwALAAsACgAIAAcABwAIAAcABwAHAAYABAACAP///f/7//r/+//9//r/+v/7//v/+v/4//n/+P/1//T/9f/0//P/9v/2//X/9P/0//P/9P/z//P/8//0//L/8P/u/+z/7v/s/+7/7v/v//H/8P/w//D/8f/t/+7/7f/t/+z/7f/s/+z/7P/s/+//7//w//D/8P/u//D/8P/w//L/8f/z//P/8v/w/+7/6//q/+v/6v/q/+z/6//t/+//7v/v/+3/7v/t/+z/7P/s/+v/6f/p/+j/6//o/+f/5//o/+j/6v/o/+n/6v/q/+n/5v/m/+X/5P/h/+P/4//m/+T/5v/m/+T/5v/n/+j/6//s/+//7//w//D/8P/v/+7/7P/t//D/8//0//f/+P/4//r/+f/4//j/8//0//P/8v/y//P/9f/3//j/+f/9//z//v8AAP///v/9//////8AAP//AQAAAAAAAQABAAEAAgABAAMAAwACAAMABAAFAP//AAAAAP7/AAD//wAA//8CAAMAAwACAAQABAADAAMAAQABAP//AAD///7////9//v/+f/5//n/+f/6//n/+//7//z/+v/7//v/+v/5//r/+//7//r/+v/5//j/+v/5//j/+v/7//r/+f/5//n/+//4//X/9v/y//D/7v/t/+3/7v/v/+//8v/u/+3/6v/q/+j/5f/j/+P/5P/l/+b/5f/m/+f/5v/n/+P/4v/i/+H/5P/j/+T/5f/n/+b/5//p/+j/6v/o/+b/5f/l/+T/5P/k/+X/5f/k/+T/5P/j/+T/5f/m/+f/5//n/+j/5v/m/+X/5//o/+j/7P/s/+z/7v/u/+7/7v/s/+r/6//s/+z/7v/x//L/8f/x/+//7P/s/+v/7f/s/+3/8P/y//H/8v/x//D/8P/t/+z/7P/q/+n/6v/r/+r/7P/u/+3/7f/v//D/8P/x//L/8f/v//D/7//v/+//7v/w//D/8P/z//P/8//y//D/7v/w//H/8f/z//P/9P/y//H/8P/u/+7/7f/s/+r/7P/s/+z/7P/r/+7/7P/s/+//7f/t/+3/6//s/+v/6f/o/+j/6P/q/+3/7P/u/+3/7P/r/+v/7P/s/+z/7P/r/+z/7f/r/+7/7P/t/+z/7P/s/+z/7v/t/+//7v/w/+7/7v/w//D/8f/x//H/8v/y//D/8f/x//H/8//z//T/9P/1//f/+P/7//z//P/9//3//v/+//7//v8AAP//AAABAAEAAQADAAMACQAMAAwADAAMAA4ACwAKAAkACQAMAA0ADgASABMAFQAVABUAFwAXABkAGgAYABcAFwAZABkAGwAbAB0AHgAhACIAIwAkACMAIwAhAB8AHwAeAB4AHgAhACMAIwAkACcAJwAoACgAJwAnACUAJgAmACkAKQAoACgAJwAmACkAKgApACkAKQArACsAKAAoACcAJgAnACgAKQAqACoAKQAqACkAKgApACgAJwAoACwAKwAsACwALQAsACsALAArACsAKQApAC4ALQAvADAAMAAxADAAMgAxADIAMgAzADIAMgAyADEAMAAwAC8AMAAzADAANAA0ADYANAAyADAALwAwAC8AMQAyADQAMAAxADAAMQAuACwALAArACwAKgAsACwALAArACwAKQAoACcAJwAmACYAJgAjACMAIAAgAB8AIQAgAB8AIwAhACAAIAAdABoAGQAWABYAFgAXABgAGAAbABoAGQAYABUAEwAUABQAFAAUABUAFgAUABQAFQAVABQAFQAWABkAGwAeAB8AHgAfAB0AHgAfAB4AIAAhACIAIwAmACgAKgArACsALQArACwAMAAuAC8ALwAvAC8ALgAvADAAMwAzADUANgA3ADYANAAzADEALgArACwALQAuADEAMwAxADAAMQAvAC0ALQAuACwAKwAtAC4ALgArACoAKQAqACoAKgAqACkAKgAoACgAJgAlACYAJAAlACUAJgAoACcAJwAmACYAJQAlACUAIwAkACIAIQAiACMAIwAlACUAJQAlACMAJAAlACcAJQAmACQAJwAnACYAJgAlACMAIwAiACEAIwAjACcAJgAoACcAJgAlACQAJAAiACIAIQAhACEAIwAiACEAHwAfACAAHwAgAB4AHgAdABwAGQAZABkAFwAVABgAFwAWABcAFQAVABQAEwATABMAEwASABIAEgARABEAEgAQABEAEQATABEADwARABIAEwAVABQAEwAUABMAEwATABIAEgARABQAFgAWABcAFwAVABUAFwAYABkAGAAaABkAGgAaABsAGQAYABkAFgAXABgAFwAWABcAFgAXABkAGwAcABoAGgAaABkAGAAWABYAFgAXABcAGAAYABoAGwAbABoAGAAZABgAGAAWABQAEwARABAADgAOAA0ADAAKAAwADAALAAkABwAGAAQAAAD8//z/+v/6//r//P/7//v/+f/3//T/9P/x/+//7//v//D/7//x/+7/7//s/+z/7f/q/+j/5//m/+X/5P/j/+L/4//k/+L/4v/g/+D/4P/h/+H/3//e/97/3P/b/9n/2P/Z/9n/2f/Z/9v/2//b/9v/2f/Z/9f/1v/Y/9j/2P/Y/9j/2f/Z/9n/2P/Y/9T/1f/V/9T/0//S/9P/0v/U/9L/1P/T/9D/z//O/8//zv/P/8//0f/P/87/zv/M/83/zP/N/8v/yv/M/8r/y//N/83/zf/M/83/zP/M/83/0f/Q/8//0P/Q/9D/z//O/87/zv/O/9L/1P/V/9b/1v/V/9T/1P/S/9L/1P/V/9b/1v/b/9r/2//Z/9r/2f/W/9b/1v/Y/9n/2v/Z/9v/2f/Y/9n/2v/b/9v/3P/c/93/3P/b/9r/2v/Y/9n/1//W/9j/2f/a/9v/2v/Y/9r/2f/Y/9b/1//X/9j/2P/Y/9n/1v/Y/9j/2f/a/9n/2f/Z/9j/1v/W/9X/1f/W/9n/2P/Y/9b/1v/U/9T/0v/S/9P/0P/Q/9D/0f/S/9H/0//S/9P/0//S/9H/0f/S/9H/0P/O/9D/0f/T/9T/1P/T/9X/1P/T/9L/0v/U/9T/1f/V/9X/1//X/9f/1//Z/9n/2P/X/9n/1//a/9z/3P/c/93/3f/b/93/3f/c/9z/3P/c/93/3//e/97/3f/d/97/3f/d/97/3//g/9//4//i/+D/4f/h/+T/4//l/+T/5P/j/+T/4//l/+X/5f/l/+X/5P/l/+f/6P/n/+j/5//o/+n/6P/p/+j/6v/q/+n/6f/r/+v/7f/u/+3/7v/r/+7/7P/r/+v/7P/t/+z/7f/u/+3/7v/v/+7/7//w//D/8P/v//D/7//u/+//7f/t/+3/7//w//D/8f/x//P/8v/y//L/7//t//D/8P/x//L/8P/z//L/8v/0//P/8v/v//H/7v/v//D/7f/s/+v/7f/u/+//8f/y//P/9P/y/+//7v/p/+f/5//p/+n/6v/s/+z/6f/o/+j/5f/m/+X/5f/n/+f/5v/m/+P/4//i/+D/4f/j/+H/4//i/+L/4f/g/+D/3//e/9//3//e/97/3//g/9//3v/b/9v/2v/Z/9j/2f/b/9z/3P/d/9z/3f/c/9r/3P/b/93/3//f/93/3//f/9//3v/e/9//3//j/+T/5v/o/+j/5//k/+L/4v/i/+X/5f/q/+3/7f/u/+//7v/t/+v/7P/t/+7/8P/v//H/8v/y//P/9P/0//X/9v/2//n/+v/4//f/9//2//j/9//5//n/9//5//n/+v/7//z/+//9//3//v8AAP/////+/wAA/f/7//z//v///wAAAwADAAQAAQAAAAEAAAD+/wAA/////wMAAgADAAQABAAEAAQAAwAFAAUAAgACAAQAAwAEAAQABAAGAAcABwAJAAkACQAIAAYABwAFAAUABQAFAAYABgAFAAUABQAFAAUABwAHAAYABgAGAAYABQAFAAMAAQADAAIAAQACAAEAAwADAAIABAABAP/////+//3//v/+//3//f/+/////v/9//v/+v/6//n/+//8//7//P/8//3/+//8//r//P/9//3//f/8//r//P/8//j/+//8//v//f/9/wAA//////3//f/+//////8AAAMAAgAEAAQAAwADAAIAAgACAAMAAwAEAAcACAAJAAkACgALAAoACQAIAAkACgAIAAkACgAMAA0ADQAOAAwADAANAA4AEAAQAA8ADwARABEAEgASABAAEAAQABAAEAARABAAEgARABMAEgASABEAEQASABEAEQARABEAEgATABIAEwATABIAEQAQAA4ADgAOAA4ADAAPAA4ADwAPAA4ADgAMAAwACwALAAoADAAJAAkACgAJAAoACQAKAAsACwANAAwACwAMAAoADAAKAAsACQAGAAcABAAFAAYACAAIAAgABwAHAAQABQAEAAIAAQACAAMAAwADAAQABQAEAAUABAAGAAUABQADAAUAAwADAAQABAAGAAcACAAHAAkACQAGAAUABwAEAAUABQAEAAcACAAKAAgABgAEAAUABgAGAAgACgAMAA4ADAAMAAoABgAFAP//AQABAAAAAgABAAMACQAMAA8AEgAUABMAEwAPAA0ACQAGAAQABQAHAAkADQAPABMAFQAXABsAGgAaABcAFQASAA8AEAASABQAFQAXABoAHQAdAB4AIAAfAB8AHQAaABkAGgAaAB0AHwAhACMAJQAlACYAJgAnACcAKQApACcAJgAlACUAJgAmACcAJwAoACgAJgAkACIAJQAlACQAJQAmACkAKwAtACwAKQAnACQAIQAiACAAIAAeAB4AHAAjACIAHQAiAB0AJAAmACYAJwAiACYAKAAfAB0AFgARABgAFgAYABkAGwAaABsAGwAcAB8AHgAeAB0AHgAhACEAHgAcABYAFAATABIAEQATABQAFQAYABoAHAAdABkAFwAWABMAEAAMAAoACQAMAA4AEAAQABIAEwAUABYAFgAXABYAFwAVABUAEgATABIADgAPAAsADgAJAAkACQAJAAsACwAMAA0ADgAPAA4ACwALAAgABQAFAAUABQAHAAkACwAKAAwACwAJAAoACgAHAAcABwAJAAkACAAGAAUABgAFAAcACAAJAAoABwAIAAgABwADAAEAAgD///////////7//f/9//z/+//7//z//f/9//3//f/7//n/9//1//X/9f/1//L/8P/x//L/8P/w/+7/7//v//H/8P/x//H/8P/x//H/7v/u/+v/6//q/+f/7P/r/+z/7f/p/+j/6P/p/+r/7P/t/+3/7f/r/+3/7f/q/+v/6P/m/+T/5f/l/+j/6v/q/+n/6P/j/+P/4//j/+T/4v/k/+X/5v/j/+T/4//k/+L/4//k/+L/5f/i/+L/5P/j/+L/4v/k/+T/4v/i/+P/4v/l/+X/5v/o/+n/6//t//D/9P/3//b/9//5//j/+v/5//j//P/9////AAABAAQABgAEAAgACAALAAwADgAPABAAEwAUABUAGAAbAB4AIQAhACMAJAAlACYAKgApACwALAAwADcANgA5ADwAPwA/AD0APQBAAEQAQwBIAEsAUABYAFsAXwBjAGYAagBnAGUAZABkAGUAZABhAGEAZABlAGkAagBsAG8AcQBzAHUAdgB4AHkAegB8AHwAfQB9AIEAgwCEAIYAhQCGAIEAfgB6AHgAeQB8AHkAfAB9AH0AgQCFAIkAjQCRAJMAkwCTAJIAjwCLAIgAiACGAIUAhgCIAJAAkgCXAJoAlwCWAJcAlACVAJUAlgCaAJoAnwCeAJ8AngCeAJ8AngCfAJ8AnwCgAKIAoQChAKIApgCpAK0AsgC0ALUAtACwAK8ArQCrAKoArACtAKsArgCsALAArQCvAK8AsACtAK8AsgCwALEAqwCnAKMAnQCXAJIAjwCNAIwAjACIAIgAgwCDAIEAfgB8AHYAcQBtAGgAZQBiAF4AWQBUAFAASABGAEQARQBEAEMAPwA4ADAAKAAiACAAHgAdABsAGwAeABsAGwAaABoAGQAZABYAFAASABIAEQAQABMAEwAQAAwADAAKAAcABgAGAAUABgAFAAcACAAIAAsACwAKAAQAAgD///7///8BAAMAAwAEAAMAAQD///z//P/6//n/9v/0//L/7P/r/+f/5v/i/+H/4P/c/9r/1f/X/9P/zv/K/8X/v/+7/7f/tP+x/63/qP+j/57/mP+T/4//iv+F/4D/ev91/23/Zv9g/1z/WP9P/0v/RP89/zb/Lv8o/yD/HP8U/wz/B////vn+9P7v/un+5f7i/tr+1P7P/sn+xf6+/rz+tv6x/rD+q/6n/qP+nv6Y/pb+lP6R/o/+jf6L/or+hf6F/oD+fv57/nn+ef52/nP+dP50/nL+cf5w/nD+b/5u/m3+bv5t/m3+b/5x/nH+c/5y/nL+c/5y/nb+eP59/oD+gf6G/ob+iP6L/ov+j/6R/pT+mP6e/qH+pv6r/q3+s/64/rz+wf7H/s3+1P7Y/tv+4f7m/ur+7/7z/vv+Af8G/w3/EP8W/xz/H/8l/yv/L/83/z7/Rf9L/1L/Wf9d/2L/Z/9r/3T/eP9+/4f/jv+X/57/pv+t/7L/uP++/8X/yv/P/9X/3P/j/+r/8P/4////CQAPABUAGgAbACAAJQAqADEANwA+AEYATwBUAFgAYABoAGwAcABzAHkAfgCCAIgAjgCUAJoAoACkAKsAsAC0ALkAvQDCAMYAywDPANQA2gDgAOQA6gDtAPMA+QD8AAABAwEJAQ0BEAEWARgBHQEiASgBLAExATgBOgE9AT8BQwFFAUgBTQFRAVcBWQFeAWIBYQFmAWcBawFsAXEBcgF0AXkBeAF/AYABggGFAYcBiwGMAY4BjwGPAZIBlAGXAZsBmwGcAZ0BnwGhAaEBpAGlAacBqQGrAasBqwGtAa8BsgGzAbcBuQG6Ab0BvwHAAb4BvQG7AbwBvgG8Ab0BvgG9Ab4BvQG+Ab0BuwG3AbYBtQGyAbEBrwGuAasBpgGkAZ4BnAGZAZQBkAGNAYkBhgGBAX8BfAF1AXABawFlAV4BWgFVAVEBSgFCAT0BNwEyASsBJQEgARoBFAEPAQgBAgH6APIA6gDlAOAA2ADTAMwAxAC8ALMAqgCkAJ0AlACOAIgAgAB6AHIAbQBoAGAAWABTAEwARAA9ADUALQAoACEAGAASAAwABQD+//j/9P/s/+f/4f/b/9X/zv/H/8H/vP+1/63/qP+h/53/mP+V/4//iv+E/3z/df9u/2n/Zv9h/1r/Vf9T/03/R/9C/zz/OP8y/yz/KP8i/xv/Fv8R/wv/BP/9/vn+9f7w/uz+5/7f/tv+1P7O/sn+xP6//rr+tv60/rD+q/6m/qP+nf6V/pL+i/6F/oH+ff57/nn+dv5z/nD+bP5o/mb+YP5e/lr+Vv5W/lP+UP5N/k3+Sf5F/kL+Qf5A/kH+P/48/jr+N/42/jL+MP4u/iz+Lv4t/i7+L/4t/iz+LP4r/iz+Kv4s/iz+LP4s/iz+K/4q/iv+Kf4r/iz+Lf4u/jH+Nf42/jj+Of43/jf+Ov49/j7+PP47/jr+Pv4//j3+QP4//kL+RP5E/kX+S/5M/k7+UP5O/k7+T/5O/k7+Uf5R/lX+WP5c/mD+Y/5m/mj+a/5o/mr+a/5t/m7+b/5z/nT+ef5+/oH+hP6H/or+jv6P/pL+lv6Y/pn+nf6h/qX+qf6t/rP+uP68/sD+xf7H/sv+z/7U/tn+3v7i/ub+7f7x/vb++P7+/gL/B/8L/w//GP8d/yT/Kv8v/zT/OP88/0D/Rf9K/07/U/9Z/13/Y/9p/23/dP96/3//iP+L/5L/lf+b/6L/pf+r/7H/tf+7/7//xf/L/87/1f/X/9//5P/n/+3/8v/4////BwALABEAGAAcACEAJwAsADAAOAA8AEAARABKAFAAVABcAGEAZgBrAHEAdwB8AIMAiACMAJIAlgCcAKIApwCvALYAugC/AMQAygDNANEA1ADYAN8A4wDnAOsA7gDvAPYA/AD/AAMBCgEQARQBGAEcAR4BIAEiASIBJQEpAS4BMQE1ATgBOwE8AUEBQgFDAUMBRgFKAUoBTgFPAVEBUwFWAVkBWAFZAVkBWQFaAVgBVgFXAVkBWQFZAVsBXgFcAVoBWwFZAVgBWAFYAVYBVQFVAVYBVgFTAVIBUgFRAVEBTQFLAUkBRgFGAUIBQwFBAUIBQgFCAT8BPAE8AToBNgE1ATABLgErASoBKAElASUBIQEfARsBGgEYARQBFQEQAQ4BDQEMAQkBCAEEAQIB/gD7APgA8gDwAOwA6QDmAOUA4QDfANwA2gDZANUA0gDQAM0AygDFAMMAvwC7ALcAtACyAK4AqgCnAKMAoACdAJkAlgCTAJEAjgCLAIgAhACBAH4AegB2AHMAcABsAGgAZABiAF4AXABbAFcAVgBSAEwASgBGAEMAPQA4ADYAMgAvACwAKgAmACQAIQAbABYAEQAMAAgABAADAP3/+f/4//T/8v/u/+7/6P/l/+D/2//Y/9L/z//O/8n/xP/D/8D/v/+8/7j/tv+0/7L/rv+r/6b/o/+g/5z/m/+Z/5j/lv+V/5L/j/+N/4r/iv+G/4T/gv+A/4H/fv98/3z/fP99/3z/ev95/3b/df92/3T/cv9w/3H/cf9x/3D/b/9x/2//b/9u/2//b/9t/23/bv9u/23/b/9v/27/bf9t/27/bP9s/2r/a/9r/2v/bf9r/23/bv9x/3D/cv9y/3T/c/9x/3L/cf9z/3L/dP90/3X/ef97/3v/fv+A/4L/hP+F/4b/hf+G/4n/if+L/4z/j/+S/5P/k/+U/5b/mf+Z/5n/mf+Y/5r/nP+d/6D/n/+g/6P/pP+j/6T/pv+n/6f/pv+p/6n/q/+t/63/rv+u/6//sP+w/7D/sv+z/7X/tf+0/7X/t/+4/7n/vP+8/77/wf/A/8L/wf/C/8X/xP/E/8P/xv/G/8j/y//N/9H/0f/T/9T/2P/Y/9n/2//c/9z/3v/f/+L/4//l/+j/6v/t/+//8f/y//T/9P/1//j/+v/9//3//v8BAAMAAwAFAAcACQAIAAgACQAKAA0ADQAQABIAEwAUABUAFwAZABoAHAAdAB8AHgAfAB8AIQAgACIAJgAkACQAJAAlACUAJQAnACUAJgAqACsAKQApACoAKAApACsAKQApACoALAAuACwAKQArACsALAArACoAKQAnACoAKAAoACoAKwAsADAAMwAxADEAMwAyADAALwAvADIANAA3ADcAOAA6ADoAPgA+AD0APgBAAEEAQABAAEIAQwBCAEQARQBHAEoASgBOAE4ATwBTAFMAUwBTAFMAVABWAFgAWABZAFwAXgBiAGMAZABnAGUAZQBnAGYAZwBqAGoAbABuAG8AbwBvAHAAcABvAHEAcABuAHEAdABzAHMAdQB0AHQAcgBzAHMAbwBuAG8AbgBsAG0AbQBtAG4AbgBsAGsAawBqAGoAZwBmAGYAaABlAGQAYgBjAGQAYQBfAF8AXwBfAF8AXQBbAFoAWQBZAFsAWgBbAFsAWgBaAFcAVwBXAFcAWQBYAFUAVgBaAFsAWABXAFoAWABYAF4AWwBZAFkAXABaAFgAWQBXAFsAXgBbAFoAWQBaAFoAWgBaAFgAVwBXAFgAWgBaAFoAWwBbAFoAWABZAFYAVgBWAFQAUwBRAFEAUABPAFAAUQBSAFMAUQBQAFAATgBMAEsASQBIAEoASABGAEgARwBHAEcARgBEAEQAQQBBAD8APgA+AD0APAA7ADsAOQA1ADQAMwAyADIAMgAyADMAMAAvAC8ALQAtACwAKAAqACsAKgApACoAKgAoACwAKgApACoAKQArACgAKAApACcAJgAmACcAKQApACoALAArACgAKgApACkAKAApACcAJgAoACQAJAAiACIAIAAfACEAIAAhACAAHQAcABwAHAAbABoAGQAZABkAGAAZABgAGQAaABoAGAAXABcAFAAUABMAEgATAA8ADwAQABAADgAMAAsACQAKAAkABQAGAAYABAACAAAA//8BAP////////7//v/+//7/+//6//v/+//3//b/9f/1//T/9f/2//H/8P/0//P/8v/y//H/8//w/+7/7v/u/+7/7P/q/+v/6f/q/+j/6f/q/+f/5v/m/+T/4//i/+L/4f/g/+D/3f/f/+D/3f/g/+H/4f/f/+D/4P/f/+D/4f/g/+D/3v/c/93/3v/g/9//3//j/+L/4v/g/9//4P/f/97/3//f/9//3v/e/97/3v/d/97/4P/d/93/3f/c/9v/2v/Z/9v/3f/e/97/3f/e/97/4P/g/+H/4P/g/9//4f/h/+D/4//i/+D/4v/i/+L/5f/l/+X/5//m/+b/5//n/+n/6f/n/+j/6f/s/+r/6//s/+3/8f/w/+//8P/y//L/8//0//X/9f/2//f/9v/5//j/+v/9//z/+//9//v//f/////////+/wAAAAAEAAIAAAABAAIAAgAAAP///v/9//n/+v/7//3//P/7//v/+v/8/////f/7//r/+//6//v/+v/6//z//P/9//7//v/8//3/AAD+//n//P/8//n//f8AAP3///8CAAAAAAAFAAMAAAABAAMAAAD//////v/+//7/AAAAAAQABgAGAAgACAALAA0ADQANAA8ADwASABEADwANAAwADgALAA8AEQAWABcAGAAbABsAGgAbABkAGgAcABsAHQAdACEAHQAfACIAKAApACkAKQApACoAIgAlACUAHQAZABwAHAAeAB0AHgAnACIAIgAiACkAMAAvACwAKwAuACoAKgAoACcAJQAhACMAJgAlACIAHQAZABwAHQAiACMAIwAhACIAJAAjACYAIwAgACEAJgAoACcAJgAmACQAIAAgAB4AHAATAA8ACwARABQAFQAZABUAFQAWAB4AFgAXABgAFQANAAUAAAD9//T/8P/v/+n/8v/u//H/8v/v//D/8P/z//L/7v/n/9//1//M/8X/w/++/73/uv+4/7n/u/+6/7n/u/+3/7L/rf+p/6n/pf+i/6H/of+h/6H/of+f/5z/mf+R/4z/hv+F/4D/gv+C/4H/gP+B/4T/g/+G/4f/if+J/4r/if+I/4n/iv+K/4r/jP+N/4z/j/+O/4//kP+P/5T/l/+b/57/ov+h/6P/of+e/5//of+m/6f/o/+h/6P/of+i/6T/ov+j/5//nv+h/6D/n/+c/5n/mv+c/5z/mf+a/5r/m/+c/5n/mv+Z/5n/mf+Z/5f/lv+X/5P/kv+P/4z/i/+I/4n/if+K/4f/hf+G/4b/hv+K/4j/if+I/4r/jP+P/4//j/+S/5D/kf+P/5D/lP+U/5j/l/+b/57/n/+j/6f/qf+r/63/sP+y/7b/uf+8/7//wf/F/8f/zf/R/9H/1P/Z/+H/5f/p/+7/8v/2//z/AQAEAAcADQASABgAGwAgACQAKQAwADMANgA9AEMARwBLAFEAVwBdAGEAZQBpAG8AdQB5AH0AgQCEAIgAiwCQAJQAlQCaAJ4AoAChAKMAowCmAKcApwCoAKoAqQCrAK8AsQCzALQAswCyALMAtgC5ALoAtwC3ALgAuAC3ALkAuwC6ALkAtgC2ALYAtwC4ALkAuAC6ALkAuQC7ALoAuAC2ALUAtACxALAArwCwAK0AqQCnAKUAogCiAJ8AngCeAJsAmgCWAJMAlACSAJMAkQCPAI4AjACLAIcAhQCCAIIAfQB8AHkAdQBxAG8AbABsAGoAZwBlAGIAYQBdAFsAVgBVAFAATABLAEkARgBFAEIAPgA/ADoANgA1ADIALgAsACsAJwAlACMAHwAeAB0AGwAaABgAFAAQAA0ACgAIAAUAAQAAAPz/+v/5//b/8v/v/+z/6f/n/+X/4v/g/93/2P/V/9T/0//P/8v/yP/F/8T/wf+//73/u/+3/7n/uf+6/7j/t/+0/7L/rP+o/6j/o/+h/53/nf+Z/5f/mf+V/5b/kf+Q/5H/jv+L/4n/hv+B/3//ff98/3r/ef95/3n/dv90/3H/bv9q/2j/Zv9h/1//XP9a/1j/WP9Y/1b/Vf9S/07/Tf9M/0f/Q/9B/0D/Pv86/zn/N/80/zD/L/8t/yn/Jv8k/yb/Iv8c/xr/Ff8U/xT/Ef8Q/xD/Dv8M/wv/C/8L/wj/CP8H/wj/B/8G/wb/CP8I/wj/Cf8J/wj/Cv8M/wz/C/8P/xH/Ev8R/xD/Ev8S/xP/Ev8U/xb/Gf8b/xz/Hf8i/yT/Jv8o/yr/Lf8t/zL/Mv81/zr/Pf8+/0L/Q/9F/0n/S/9O/1D/Uf9S/1T/Vf9Z/1v/X/9h/2X/Zv9q/2z/bf9w/3L/c/90/3X/dP92/3j/eP96/3v/fv+B/4H/hP+E/4T/hv+G/4j/if+L/43/jf+P/5L/k/+U/5X/l/+Y/5n/mv+c/5z/m/+c/5//of+h/6P/o/+m/6X/qf+n/6n/q/+t/67/sP+v/6//sf+y/7X/tv+3/7f/uv+9/7//wf/E/8j/zf/Q/9T/0//W/9n/1//X/9b/2v/f/+T/5v/n/+n/7//z//X/9P/4//r//P/+/wEAAwAGAAgADAAQABIAEwAVABoAGgAdAB0AHwAkACcAKAAoAC0ALgAuAC8AMwAvAC8AMgAzADcAOQA4ADcAOgA8ADwAOwA9AD4AQAA/AEMAPwA+AEAAQQBCAEEAQwBBAEQARQBGAEYARgBDAEYARwBIAEwATQBNAE0ASwBLAEwATgBPAE8AUQBQAFMAVABUAFUAVwBXAFkAWABVAFgAWQBZAFsAWgBZAFoAXABdAF4AXABdAF0AWwBcAF8AXwBcAFwAXgBfAF8AXgBgAGEAXwBfAF8AYABfAGEAYABfAF4AXgBeAF4AXwBdAFsAWQBYAFUAVwBWAFYAVgBVAFQAUQBQAE4ATgBLAEsARwBDAEEAPgBBAD4APQA7ADgANwA2ADMAMQAwAC4AKgArACoAKAAoACYAJwAlACEAHgAdABsAGAAaABkAGgAVABQAEwARABIAEQANAA4ADgAMAA4ADQAJAAgACAAHAAYABQAEAAQAAgACAP///v8AAAIAAAD///z/+v/6//r/+f/4//n/+f/5//j/+P/5//r/9v/2//X/9f/0//T/8v/v/+7/7f/s/+3/7P/r/+v/6//q/+b/5//m/+X/5P/j/+P/4v/j/+P/4f/g/97/3v/c/9v/2v/b/9r/2//b/9n/2f/Z/9n/2v/X/9b/1v/V/9X/1P/S/9P/0v/V/9X/1f/Y/9j/1v/X/9X/1f/V/9b/1v/X/9v/3f/d/+D/4P/i/+L/5P/m/+T/5P/m/+j/5//n/+f/6f/r//D/8P/v//P/8//0//b/+P/3//f/+P/5//z//f8AAAAA/////wEAAgAFAAgACQAIAAsACgALAA0ADgAPAA8AEgASABMAFQAZABgAGQA=\" type=\"audio/x-wav\" />\n",
       "                    Your browser does not support the audio element.\n",
       "                </audio>\n",
       "              "
      ],
      "text/plain": [
       "<IPython.lib.display.Audio object>"
      ]
     },
     "execution_count": 28,
     "metadata": {},
     "output_type": "execute_result"
    }
   ],
   "source": [
    "import IPython.display as ipd\n",
    "ipd.Audio(results[0]['audio_filename'])"
   ]
  },
  {
   "cell_type": "code",
   "execution_count": 29,
   "id": "dbbd91b0",
   "metadata": {
    "scrolled": true
   },
   "outputs": [
    {
     "name": "stderr",
     "output_type": "stream",
     "text": [
      "100%|██████████| 537902/537902 [00:02<00:00, 267945.00it/s]\n"
     ]
    }
   ],
   "source": [
    "with open('prepared-mandarin-ms.jsonl', 'w') as fopen:\n",
    "    for r in tqdm(train):\n",
    "        fopen.write(f'{json.dumps(r)}\\n')"
   ]
  },
  {
   "cell_type": "code",
   "execution_count": 30,
   "id": "054f4551",
   "metadata": {},
   "outputs": [
    {
     "name": "stdout",
     "output_type": "stream",
     "text": [
      "-rw-r--r-- 1 ubuntu ubuntu 142M Apr 25 07:42 prepared-mandarin-ms.jsonl\r\n"
     ]
    },
    {
     "name": "stderr",
     "output_type": "stream",
     "text": [
      "huggingface/tokenizers: The current process just got forked, after parallelism has already been used. Disabling parallelism to avoid deadlocks...\n",
      "To disable this warning, you can either:\n",
      "\t- Avoid using `tokenizers` before the fork if possible\n",
      "\t- Explicitly set the environment variable TOKENIZERS_PARALLELISM=(true | false)\n"
     ]
    }
   ],
   "source": [
    "!ls -lh prepared-mandarin-ms.jsonl"
   ]
  },
  {
   "cell_type": "code",
   "execution_count": 31,
   "id": "fa611004",
   "metadata": {},
   "outputs": [],
   "source": [
    "from huggingface_hub import HfApi\n",
    "api = HfApi()"
   ]
  },
  {
   "cell_type": "code",
   "execution_count": 32,
   "id": "914c3f55",
   "metadata": {},
   "outputs": [
    {
     "data": {
      "application/vnd.jupyter.widget-view+json": {
       "model_id": "961ea37af0864c62971d5a0eec7db237",
       "version_major": 2,
       "version_minor": 0
      },
      "text/plain": [
       "prepared-mandarin-ms.jsonl:   0%|          | 0.00/148M [00:00<?, ?B/s]"
      ]
     },
     "metadata": {},
     "output_type": "display_data"
    },
    {
     "data": {
      "text/plain": [
       "'https://huggingface.co/datasets/mesolitica/pseudolabel-mandarin-large-v3-timestamp/blob/main/prepared-mandarin-ms.jsonl'"
      ]
     },
     "execution_count": 32,
     "metadata": {},
     "output_type": "execute_result"
    }
   ],
   "source": [
    "api.upload_file(\n",
    "    path_or_fileobj='prepared-mandarin-ms.jsonl',\n",
    "    path_in_repo='prepared-mandarin-ms.jsonl',\n",
    "    repo_id='mesolitica/pseudolabel-mandarin-large-v3-timestamp',\n",
    "    repo_type='dataset',\n",
    ")"
   ]
  },
  {
   "cell_type": "code",
   "execution_count": 33,
   "id": "57ce008c",
   "metadata": {},
   "outputs": [
    {
     "name": "stdout",
     "output_type": "stream",
     "text": [
      "{\"new_text\": \"<|startoftranscript|><|ms|><|transcribe|><|0.00|> Berita Hiburan Sohu<|1.64|><|1.64|> Menurut laporan media Taiwan<|4.24|><|endoftext|>\", \"audio_filename\": \"data_aishell/wav/train/S0339/BAC009S0339W0422.wav\"}\r\n",
      "{\"new_text\": \"<|startoftranscript|><|ms|><|transcribe|><|0.00|> Ramalan cuaca Azure untuk minggu terkini<|3.58|><|endoftext|>\", \"audio_filename\": \"train/5_3102/5_3102_20170702195230.wav\"}\r\n",
      "{\"new_text\": \"<|startoftranscript|><|ms|><|transcribe|><|0.00|> Kedua-duanya didakwa sementara dengan satu pertuduhan membunuh<|2.92|><|endoftext|>\", \"audio_filename\": \"data_aishell/wav/train/S0221/BAC009S0221W0464.wav\"}\r\n",
      "{\"new_text\": \"<|startoftranscript|><|ms|><|transcribe|><|0.00|> Anda juga boleh menulisnya sendiri<|2.40|><|2.40|> Anda juga boleh mengarangnya sendiri<|3.50|><|endoftext|>\", \"audio_filename\": \"train/15_4546/15_4546_20170826121937.wav\"}\r\n",
      "{\"new_text\": \"<|startoftranscript|><|ms|><|transcribe|><|0.00|> Tolong berikan saya lagu oleh Xu Ruyun<|5.20|><|endoftext|>\", \"audio_filename\": \"train/5_3117/5_3117_20170702201458.wav\"}\r\n",
      "{\"new_text\": \"<|startoftranscript|><|ms|><|transcribe|><|0.00|> Lagu-lagu baru yang bagus apa yang ada sekarang?<|5.20|><|endoftext|>\", \"audio_filename\": \"train/5_2510/5_2510_20170701122032.wav\"}\r\n",
      "{\"new_text\": \"<|startoftranscript|><|ms|><|transcribe|><|0.00|> Tolong berikan saya lagu yang boleh dinyanyikan oleh lima ratus orang<|3.14|><|endoftext|>\", \"audio_filename\": \"train/14_4627/14_4627_20170902132011.wav\"}\r\n",
      "{\"new_text\": \"<|startoftranscript|><|ms|><|transcribe|><|0.00|> Malu dengan perniagaan mudah alih<|3.06|><|endoftext|>\", \"audio_filename\": \"data_aishell/wav/train/S0122/BAC009S0122W0294.wav\"}\r\n",
      "{\"new_text\": \"<|startoftranscript|><|ms|><|transcribe|><|0.00|> Ambil mudah dan buat keputusan<|3.32|><|3.32|> Lupakan anda<|4.28|><|endoftext|>\", \"audio_filename\": \"train/5_2464/5_2464_20170702073342.wav\"}\r\n",
      "{\"new_text\": \"<|startoftranscript|><|ms|><|transcribe|><|0.36|> Apa yang kamu makan pada waktu malam?<|2.28|><|endoftext|>\", \"audio_filename\": \"train/18_1506/18_1506_20170712000525.wav\"}\r\n"
     ]
    },
    {
     "name": "stderr",
     "output_type": "stream",
     "text": [
      "huggingface/tokenizers: The current process just got forked, after parallelism has already been used. Disabling parallelism to avoid deadlocks...\n",
      "To disable this warning, you can either:\n",
      "\t- Avoid using `tokenizers` before the fork if possible\n",
      "\t- Explicitly set the environment variable TOKENIZERS_PARALLELISM=(true | false)\n"
     ]
    }
   ],
   "source": [
    "!head -n 10 prepared-mandarin-ms.jsonl"
   ]
  },
  {
   "cell_type": "code",
   "execution_count": 34,
   "id": "fee3bb8b",
   "metadata": {},
   "outputs": [],
   "source": [
    "with open('test-mandarin-dataset-ms.json', 'w') as fopen:\n",
    "    json.dump(test, fopen)"
   ]
  },
  {
   "cell_type": "code",
   "execution_count": 35,
   "id": "844aec58",
   "metadata": {},
   "outputs": [
    {
     "data": {
      "application/vnd.jupyter.widget-view+json": {
       "model_id": "90012e79bd724ad493ac514daa3c90b1",
       "version_major": 2,
       "version_minor": 0
      },
      "text/plain": [
       "test-mandarin-dataset-ms.json:   0%|          | 0.00/55.2k [00:00<?, ?B/s]"
      ]
     },
     "metadata": {},
     "output_type": "display_data"
    },
    {
     "data": {
      "text/plain": [
       "'https://huggingface.co/datasets/mesolitica/speech-test-set/blob/main/zh-ms/test-mandarin-dataset-ms.json'"
      ]
     },
     "execution_count": 35,
     "metadata": {},
     "output_type": "execute_result"
    }
   ],
   "source": [
    "api.upload_file(\n",
    "    path_or_fileobj='test-mandarin-dataset-ms.json',\n",
    "    path_in_repo='zh-ms/test-mandarin-dataset-ms.json',\n",
    "    repo_id='mesolitica/speech-test-set',\n",
    "    repo_type='dataset',\n",
    ")"
   ]
  },
  {
   "cell_type": "code",
   "execution_count": 36,
   "id": "364d6a82",
   "metadata": {},
   "outputs": [
    {
     "name": "stderr",
     "output_type": "stream",
     "text": [
      "huggingface/tokenizers: The current process just got forked, after parallelism has already been used. Disabling parallelism to avoid deadlocks...\n",
      "To disable this warning, you can either:\n",
      "\t- Avoid using `tokenizers` before the fork if possible\n",
      "\t- Explicitly set the environment variable TOKENIZERS_PARALLELISM=(true | false)\n",
      "huggingface/tokenizers: The current process just got forked, after parallelism has already been used. Disabling parallelism to avoid deadlocks...\n",
      "To disable this warning, you can either:\n",
      "\t- Avoid using `tokenizers` before the fork if possible\n",
      "\t- Explicitly set the environment variable TOKENIZERS_PARALLELISM=(true | false)\n"
     ]
    }
   ],
   "source": [
    "!rm -rf zh-ms\n",
    "!mkdir zh-ms"
   ]
  },
  {
   "cell_type": "code",
   "execution_count": 37,
   "id": "2eaefe10",
   "metadata": {},
   "outputs": [
    {
     "data": {
      "text/plain": [
       "200"
      ]
     },
     "execution_count": 37,
     "metadata": {},
     "output_type": "execute_result"
    }
   ],
   "source": [
    "import shutil\n",
    "\n",
    "for t in test:\n",
    "    f = os.path.split(t['audio_filename'])[1]\n",
    "    shutil.copyfile(t['audio_filename'], os.path.join('zh-ms', f)) \n",
    "    \n",
    "len(glob('zh-ms/*'))"
   ]
  },
  {
   "cell_type": "code",
   "execution_count": 41,
   "id": "ff11064f",
   "metadata": {},
   "outputs": [],
   "source": [
    "# !sudo apt install zip -y"
   ]
  },
  {
   "cell_type": "code",
   "execution_count": 42,
   "id": "54de5f77",
   "metadata": {},
   "outputs": [],
   "source": [
    "# !zip -r test-zh-ms-audio.zip zh-ms"
   ]
  },
  {
   "cell_type": "code",
   "execution_count": 40,
   "id": "a2b22e16",
   "metadata": {},
   "outputs": [
    {
     "data": {
      "application/vnd.jupyter.widget-view+json": {
       "model_id": "68aa9754e14941a2834c8ac0c54e88d8",
       "version_major": 2,
       "version_minor": 0
      },
      "text/plain": [
       "test-zh-ms-audio.zip:   0%|          | 0.00/69.0M [00:00<?, ?B/s]"
      ]
     },
     "metadata": {},
     "output_type": "display_data"
    },
    {
     "data": {
      "text/plain": [
       "'https://huggingface.co/datasets/mesolitica/speech-test-set/blob/main/zh-ms/test-zh-ms-audio.zip'"
      ]
     },
     "execution_count": 40,
     "metadata": {},
     "output_type": "execute_result"
    }
   ],
   "source": [
    "api.upload_file(\n",
    "    path_or_fileobj='test-zh-ms-audio.zip',\n",
    "    path_in_repo='zh-ms/test-zh-ms-audio.zip',\n",
    "    repo_id='mesolitica/speech-test-set',\n",
    "    repo_type='dataset',\n",
    ")"
   ]
  }
 ],
 "metadata": {
  "kernelspec": {
   "display_name": "Python 3 (ipykernel)",
   "language": "python",
   "name": "python3"
  },
  "language_info": {
   "codemirror_mode": {
    "name": "ipython",
    "version": 3
   },
   "file_extension": ".py",
   "mimetype": "text/x-python",
   "name": "python",
   "nbconvert_exporter": "python",
   "pygments_lexer": "ipython3",
   "version": "3.10.12"
  }
 },
 "nbformat": 4,
 "nbformat_minor": 5
}
