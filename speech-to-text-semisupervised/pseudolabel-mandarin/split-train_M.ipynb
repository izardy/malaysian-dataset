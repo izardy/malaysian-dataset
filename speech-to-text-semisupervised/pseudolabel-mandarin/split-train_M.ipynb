{
 "cells": [
  {
   "cell_type": "code",
   "execution_count": 1,
   "id": "63e98531",
   "metadata": {},
   "outputs": [],
   "source": [
    "from glob import glob\n",
    "import os\n",
    "import mp\n",
    "from datasets import Audio\n",
    "\n",
    "sr = 16000\n",
    "audio = Audio(sampling_rate=sr)"
   ]
  },
  {
   "cell_type": "code",
   "execution_count": 2,
   "id": "fcdc9bc8",
   "metadata": {},
   "outputs": [
    {
     "data": {
      "text/plain": [
       "<function soundfile.write(file, data, samplerate, subtype=None, endian=None, format=None, closefd=True)>"
      ]
     },
     "execution_count": 2,
     "metadata": {},
     "output_type": "execute_result"
    }
   ],
   "source": [
    "import soundfile as sf\n",
    "\n",
    "sf.write"
   ]
  },
  {
   "cell_type": "code",
   "execution_count": 3,
   "id": "53bc146f",
   "metadata": {},
   "outputs": [
    {
     "data": {
      "text/plain": [
       "108"
      ]
     },
     "execution_count": 3,
     "metadata": {},
     "output_type": "execute_result"
    }
   ],
   "source": [
    "mandarin = glob('/home/ubuntu/train_M/wav/*.flac')\n",
    "len(mandarin)"
   ]
  },
  {
   "cell_type": "code",
   "execution_count": 4,
   "id": "8abacf9f",
   "metadata": {},
   "outputs": [],
   "source": [
    "y = audio.decode_example(audio.encode_example(mandarin[-1]))['array']"
   ]
  },
  {
   "cell_type": "code",
   "execution_count": 7,
   "id": "0affeedb",
   "metadata": {},
   "outputs": [
    {
     "data": {
      "text/plain": [
       "2087.6370625"
      ]
     },
     "execution_count": 7,
     "metadata": {},
     "output_type": "execute_result"
    }
   ],
   "source": [
    "len(y) / sr"
   ]
  },
  {
   "cell_type": "code",
   "execution_count": 17,
   "id": "f47e7de6",
   "metadata": {},
   "outputs": [
    {
     "name": "stdout",
     "output_type": "stream",
     "text": [
      "mkdir: cannot create directory ‘split-train_M’: File exists\r\n"
     ]
    }
   ],
   "source": [
    "!mkdir split-train_M\n",
    "# !rm split-train_M/*.mp3"
   ]
  },
  {
   "cell_type": "code",
   "execution_count": 13,
   "id": "4623930b",
   "metadata": {},
   "outputs": [],
   "source": [
    "from tqdm import tqdm\n",
    "maxlen = 30 * sr\n",
    "\n",
    "def loop(files):\n",
    "    files, index = files\n",
    "    for i in tqdm(range(len(files))):\n",
    "        y = audio.decode_example(audio.encode_example(files[i]))['array']\n",
    "        for k in range(0, len(y), maxlen):\n",
    "            filename = os.path.join('split-train_M', f'{index}-{i}-{k}.mp3')\n",
    "            if os.path.exists(filename):\n",
    "                continue\n",
    "                \n",
    "            y_ = y[k: k + maxlen]\n",
    "            sf.write(filename, y_, sr)"
   ]
  },
  {
   "cell_type": "code",
   "execution_count": 18,
   "id": "6a8f57ed",
   "metadata": {},
   "outputs": [],
   "source": [
    "# loop((mandarin[:1], 0))"
   ]
  },
  {
   "cell_type": "code",
   "execution_count": 20,
   "id": "7ea79101",
   "metadata": {},
   "outputs": [],
   "source": [
    "# mp.multiprocessing(mandarin, loop, cores = 20)"
   ]
  }
 ],
 "metadata": {
  "kernelspec": {
   "display_name": "Python 3 (ipykernel)",
   "language": "python",
   "name": "python3"
  },
  "language_info": {
   "codemirror_mode": {
    "name": "ipython",
    "version": 3
   },
   "file_extension": ".py",
   "mimetype": "text/x-python",
   "name": "python",
   "nbconvert_exporter": "python",
   "pygments_lexer": "ipython3",
   "version": "3.10.12"
  }
 },
 "nbformat": 4,
 "nbformat_minor": 5
}
