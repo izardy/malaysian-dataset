{
 "cells": [
  {
   "cell_type": "code",
   "execution_count": 1,
   "id": "d5418b62",
   "metadata": {},
   "outputs": [],
   "source": [
    "# !wget https://www.openslr.org/resources/93/data_aishell3.tgz\n",
    "# !tar -xf data_aishell3.tgz"
   ]
  },
  {
   "cell_type": "code",
   "execution_count": 2,
   "id": "b9f58741",
   "metadata": {},
   "outputs": [],
   "source": [
    "# !wget https://www.openslr.org/resources/123/MagicData-RAMC.tar.gz\n",
    "# !tar -zxf MagicData-RAMC.tar.gz"
   ]
  },
  {
   "cell_type": "code",
   "execution_count": 3,
   "id": "0dd4fee5",
   "metadata": {},
   "outputs": [],
   "source": [
    "# !wget https://www.openslr.org/resources/68/train_set.tar.gz\n",
    "# !tar -xf train_set.tar.gz"
   ]
  },
  {
   "cell_type": "code",
   "execution_count": 4,
   "id": "b5e44294",
   "metadata": {},
   "outputs": [],
   "source": [
    "# !wget https://www.openslr.org/resources/111/train_M.tar.gz\n",
    "# !tar -zxf train_M.tar.gz"
   ]
  },
  {
   "cell_type": "code",
   "execution_count": 5,
   "id": "e5dea5a4",
   "metadata": {},
   "outputs": [],
   "source": [
    "# !wget https://huggingface.co/datasets/malaysia-ai/mirror-AliMeeting/resolve/main/Train_Ali_near.tar.gz\n",
    "# !tar -zxf Train_Ali_near.tar.gz"
   ]
  },
  {
   "cell_type": "code",
   "execution_count": null,
   "id": "ffa5f357",
   "metadata": {},
   "outputs": [],
   "source": [
    "# !wget https://www.openslr.org/resources/33/data_aishell.tgz\n",
    "# !tar -xf data_aishell.tgz"
   ]
  }
 ],
 "metadata": {
  "kernelspec": {
   "display_name": "Python 3 (ipykernel)",
   "language": "python",
   "name": "python3"
  },
  "language_info": {
   "codemirror_mode": {
    "name": "ipython",
    "version": 3
   },
   "file_extension": ".py",
   "mimetype": "text/x-python",
   "name": "python",
   "nbconvert_exporter": "python",
   "pygments_lexer": "ipython3",
   "version": "3.10.12"
  }
 },
 "nbformat": 4,
 "nbformat_minor": 5
}
