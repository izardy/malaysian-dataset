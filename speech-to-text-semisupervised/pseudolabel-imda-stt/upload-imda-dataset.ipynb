{
 "cells": [
  {
   "cell_type": "code",
   "execution_count": 1,
   "id": "aa088073",
   "metadata": {},
   "outputs": [],
   "source": [
    "from glob import glob\n",
    "from tqdm import tqdm\n",
    "import json\n",
    "import numpy as np\n",
    "import os\n",
    "from transformers import AutoTokenizer, WhisperConfig\n",
    "from sklearn.feature_extraction.text import CountVectorizer\n",
    "\n",
    "config = WhisperConfig.from_pretrained('openai/whisper-large-v3')\n",
    "maxlen = config.max_length - 3"
   ]
  },
  {
   "cell_type": "code",
   "execution_count": 2,
   "id": "5c431b5c",
   "metadata": {
    "scrolled": true
   },
   "outputs": [
    {
     "name": "stderr",
     "output_type": "stream",
     "text": [
      "Special tokens have been added in the vocabulary, make sure the associated word embeddings are fine-tuned or trained.\n"
     ]
    }
   ],
   "source": [
    "tokenizer = AutoTokenizer.from_pretrained('openai/whisper-large-v3')"
   ]
  },
  {
   "cell_type": "code",
   "execution_count": 3,
   "id": "1db5783c",
   "metadata": {},
   "outputs": [
    {
     "data": {
      "text/plain": [
       "68448"
      ]
     },
     "execution_count": 3,
     "metadata": {},
     "output_type": "execute_result"
    }
   ],
   "source": [
    "files = sorted(glob('output-imda/*.json'), key = lambda x: int(x.split('-')[-1].replace('.json', '')))\n",
    "len(files)"
   ]
  },
  {
   "cell_type": "code",
   "execution_count": 10,
   "id": "9551e7ef",
   "metadata": {},
   "outputs": [],
   "source": [
    "import mp\n",
    "import copy\n",
    "\n",
    "minimum_score = 6\n",
    "\n",
    "def loop(files):\n",
    "    files, _ = files\n",
    "    results = []\n",
    "    for f in tqdm(files):\n",
    "        try:\n",
    "            with open(f) as fopen:\n",
    "                data = json.load(fopen)\n",
    "        except:\n",
    "            continue\n",
    "        f_split = os.path.split(f)[-1].replace('.json', '')\n",
    "        for i in range(len(data)):\n",
    "            results.append(data[i])\n",
    "\n",
    "    return results"
   ]
  },
  {
   "cell_type": "code",
   "execution_count": 11,
   "id": "e9f8c38d",
   "metadata": {
    "scrolled": true
   },
   "outputs": [
    {
     "name": "stderr",
     "output_type": "stream",
     "text": [
      " 85%|████████▌ | 1169/1368 [01:00<00:29,  6.64it/s] IOPub message rate exceeded.\n",
      "The notebook server will temporarily stop sending output\n",
      "to the client in order to avoid crashing it.\n",
      "To change this limit, set the config variable\n",
      "`--NotebookApp.iopub_msg_rate_limit`.\n",
      "\n",
      "Current values:\n",
      "NotebookApp.iopub_msg_rate_limit=1000.0 (msgs/sec)\n",
      "NotebookApp.rate_limit_window=3.0 (secs)\n",
      "\n",
      "100%|██████████| 1368/1368 [01:23<00:00, 16.33it/s]\n",
      " 99%|█████████▉| 1360/1368 [01:23<00:00,  9.79it/s]\n",
      " 97%|█████████▋| 1322/1368 [01:24<00:04, 11.37it/s]\n",
      "100%|██████████| 1368/1368 [01:24<00:00, 16.21it/s]\n",
      " 98%|█████████▊| 1345/1368 [01:24<00:01, 11.58it/s]\n",
      " 99%|█████████▊| 1348/1368 [01:24<00:01, 11.85it/s]\n",
      " 99%|█████████▉| 1354/1368 [01:24<00:01, 12.72it/s]\n",
      "100%|██████████| 1368/1368 [01:25<00:00, 16.08it/s]\n",
      "100%|██████████| 1368/1368 [01:25<00:00, 16.06it/s]\n",
      " 97%|█████████▋| 1330/1368 [01:25<00:02, 13.27it/s]\n",
      " 95%|█████████▍| 1296/1368 [01:25<00:06, 11.82it/s]\n",
      "100%|█████████▉| 1365/1368 [01:25<00:00, 15.02it/s]\n",
      " 96%|█████████▌| 1313/1368 [01:25<00:04, 12.61it/s]\n",
      " 95%|█████████▍| 1293/1368 [01:25<00:04, 17.88it/s]\n",
      " 59%|█████▉    | 807/1368 [01:25<00:47, 11.90it/s]\n",
      "100%|██████████| 1368/1368 [01:25<00:00, 15.96it/s]\n",
      "100%|██████████| 1368/1368 [01:25<00:00, 15.94it/s]\n",
      "100%|██████████| 1368/1368 [01:25<00:00, 15.91it/s]\n",
      "\n",
      " 62%|██████▏   | 846/1368 [01:26<00:33, 15.67it/s]]\n",
      " 97%|█████████▋| 1322/1368 [01:26<00:03, 13.08it/s]\n",
      "100%|██████████| 1368/1368 [01:26<00:00, 15.88it/s]\n",
      " 88%|████████▊ | 1202/1368 [01:27<00:09, 17.04it/s]\n",
      " 96%|█████████▋| 1320/1368 [01:27<00:02, 18.24it/s]\n",
      " 60%|██████    | 826/1368 [01:27<00:22, 24.38it/s]]\n",
      " 86%|████████▌ | 1178/1368 [01:27<00:31,  5.95it/s]\n",
      " 99%|█████████▉| 1353/1368 [01:27<00:00, 22.64it/s]\n",
      " 60%|██████    | 826/1368 [01:27<00:26, 20.53it/s]]\n",
      "\n",
      "\n",
      "100%|██████████| 1368/1368 [01:28<00:00, 15.54it/s]\n",
      "100%|██████████| 1368/1368 [01:27<00:00, 15.56it/s]\n",
      "100%|██████████| 1368/1368 [01:27<00:00, 29.62it/s]\n",
      "100%|██████████| 1368/1368 [01:27<00:00, 15.56it/s]\n",
      "\n",
      " 91%|█████████ | 1246/1368 [01:28<00:05, 24.17it/s]\n",
      "100%|██████████| 1368/1368 [01:28<00:00, 15.49it/s]\n",
      " 66%|██████▋   | 908/1368 [01:28<00:11, 41.56it/s]]\n",
      "100%|█████████▉| 1367/1368 [01:28<00:00, 45.03it/s]\n",
      " 93%|█████████▎| 1274/1368 [01:28<00:02, 42.28it/s]\n",
      "100%|██████████| 1368/1368 [01:28<00:00, 15.42it/s]\n",
      " 70%|██████▉   | 951/1368 [01:30<00:06, 67.81it/s]]\n",
      "100%|██████████| 1368/1368 [01:30<00:00, 15.17it/s]\n",
      " 73%|███████▎  | 997/1368 [01:30<00:04, 78.07it/s]]\n",
      " 74%|███████▎  | 1006/1368 [01:30<00:04, 80.58it/s]\n",
      "\n",
      " 96%|█████████▌| 1310/1368 [01:32<00:00, 158.14it/s]\n",
      " 99%|█████████▉| 1354/1368 [01:32<00:00, 185.44it/s]\n",
      "100%|██████████| 1368/1368 [01:32<00:00, 14.76it/s] \n",
      "100%|██████████| 1368/1368 [01:33<00:00, 14.66it/s] \n",
      "100%|██████████| 48/48 [00:00<00:00, 3142.44it/s]\n"
     ]
    }
   ],
   "source": [
    "results = mp.multiprocessing(files, loop, cores = 50)"
   ]
  },
  {
   "cell_type": "code",
   "execution_count": 12,
   "id": "f33581b9",
   "metadata": {
    "scrolled": true
   },
   "outputs": [
    {
     "data": {
      "text/plain": [
       "2874528"
      ]
     },
     "execution_count": 12,
     "metadata": {},
     "output_type": "execute_result"
    }
   ],
   "source": [
    "len(results)"
   ]
  },
  {
   "cell_type": "code",
   "execution_count": 13,
   "id": "cbe6cb36",
   "metadata": {},
   "outputs": [
    {
     "data": {
      "text/plain": [
       "{'predict_ms': [50258,\n",
       "  50282,\n",
       "  50360,\n",
       "  50365,\n",
       "  430,\n",
       "  1538,\n",
       "  29216,\n",
       "  7408,\n",
       "  11,\n",
       "  43365,\n",
       "  3680,\n",
       "  13877,\n",
       "  992,\n",
       "  3779,\n",
       "  16281,\n",
       "  717,\n",
       "  289,\n",
       "  657,\n",
       "  282,\n",
       "  12711,\n",
       "  1706,\n",
       "  66,\n",
       "  12584,\n",
       "  1706,\n",
       "  73,\n",
       "  9286,\n",
       "  17289,\n",
       "  74,\n",
       "  892,\n",
       "  449,\n",
       "  7691,\n",
       "  1988,\n",
       "  23171,\n",
       "  1026,\n",
       "  40463,\n",
       "  545,\n",
       "  23059,\n",
       "  569,\n",
       "  5581,\n",
       "  717,\n",
       "  302,\n",
       "  4579,\n",
       "  3077,\n",
       "  13,\n",
       "  50715,\n",
       "  50257,\n",
       "  50257,\n",
       "  50257,\n",
       "  50257,\n",
       "  50257,\n",
       "  50257,\n",
       "  50257,\n",
       "  50257,\n",
       "  50257],\n",
       " 'predict_en': [50258,\n",
       "  50259,\n",
       "  50360,\n",
       "  50365,\n",
       "  4928,\n",
       "  4104,\n",
       "  82,\n",
       "  365,\n",
       "  3779,\n",
       "  6352,\n",
       "  645,\n",
       "  14658,\n",
       "  281,\n",
       "  853,\n",
       "  5145,\n",
       "  641,\n",
       "  1281,\n",
       "  12126,\n",
       "  2507,\n",
       "  613,\n",
       "  21688,\n",
       "  4358,\n",
       "  13,\n",
       "  50715,\n",
       "  50257,\n",
       "  50257,\n",
       "  50257,\n",
       "  50257,\n",
       "  50257,\n",
       "  50257,\n",
       "  50257,\n",
       "  50257,\n",
       "  50257],\n",
       " 'score_ms': 10.375,\n",
       " 'score_en': 8.75,\n",
       " 'filename': 'IMDA-STT/part1-mp3/000010101.mp3'}"
      ]
     },
     "execution_count": 13,
     "metadata": {},
     "output_type": "execute_result"
    }
   ],
   "source": [
    "results[0]"
   ]
  },
  {
   "cell_type": "code",
   "execution_count": 16,
   "id": "dbbd91b0",
   "metadata": {},
   "outputs": [
    {
     "name": "stderr",
     "output_type": "stream",
     "text": [
      "100%|██████████| 2874528/2874528 [00:49<00:00, 57661.58it/s]\n"
     ]
    }
   ],
   "source": [
    "with open('prepared-imda-original.jsonl', 'w') as fopen:\n",
    "    for r in tqdm(results):\n",
    "        fopen.write(f'{json.dumps(r)}\\n')"
   ]
  },
  {
   "cell_type": "code",
   "execution_count": 17,
   "id": "fa611004",
   "metadata": {},
   "outputs": [],
   "source": [
    "from huggingface_hub import HfApi\n",
    "api = HfApi()"
   ]
  },
  {
   "cell_type": "code",
   "execution_count": 18,
   "id": "914c3f55",
   "metadata": {},
   "outputs": [
    {
     "data": {
      "application/vnd.jupyter.widget-view+json": {
       "model_id": "3b775ff5089b4f2291fe2230f2a306a5",
       "version_major": 2,
       "version_minor": 0
      },
      "text/plain": [
       "prepared-pseudolabel-original.jsonl:   0%|          | 0.00/7.53G [00:00<?, ?B/s]"
      ]
     },
     "metadata": {},
     "output_type": "display_data"
    },
    {
     "data": {
      "text/plain": [
       "'https://huggingface.co/datasets/mesolitica/pseudolabel-imda-large-v3-timestamp/blob/main/prepared-pseudolabel-original.jsonl'"
      ]
     },
     "execution_count": 18,
     "metadata": {},
     "output_type": "execute_result"
    }
   ],
   "source": [
    "api.upload_file(\n",
    "    path_or_fileobj='prepared-pseudolabel-original.jsonl',\n",
    "    path_in_repo='prepared-pseudolabel-original.jsonl',\n",
    "    repo_id='mesolitica/pseudolabel-imda-large-v3-timestamp',\n",
    "    repo_type='dataset',\n",
    "    \n",
    ")"
   ]
  },
  {
   "cell_type": "code",
   "execution_count": 24,
   "id": "945a11a4",
   "metadata": {},
   "outputs": [],
   "source": [
    "import mp\n",
    "import copy\n",
    "import re\n",
    "\n",
    "pattern_pair = r'<\\|(\\d+\\.\\d+)\\|>(.*?)<\\|(\\d+\\.\\d+)\\|>'\n",
    "\n",
    "minimum_score = 6\n",
    "\n",
    "def loop(files):\n",
    "    files, _ = files\n",
    "    results = []\n",
    "    for f in tqdm(files):\n",
    "        try:\n",
    "            with open(f) as fopen:\n",
    "                data = json.load(fopen)\n",
    "        except:\n",
    "            continue\n",
    "        f_split = os.path.split(f)[-1].replace('.json', '')\n",
    "        for i in range(len(data)):\n",
    "            a = tokenizer._decode_asr(\n",
    "                [{'tokens': np.array([data[i]['predict_en']])}], \n",
    "                return_timestamps = True, return_language = 'en', \n",
    "                time_precision = 0.02)[1]['chunks']\n",
    "            \n",
    "            a = [a_['text'] for a_ in a]\n",
    "\n",
    "            results.extend(a)\n",
    "\n",
    "    return results"
   ]
  },
  {
   "cell_type": "code",
   "execution_count": 32,
   "id": "bf3461a3",
   "metadata": {},
   "outputs": [],
   "source": [
    "results = mp.multiprocessing(files, loop, cores = 50)"
   ]
  },
  {
   "cell_type": "code",
   "execution_count": 26,
   "id": "a3e10012",
   "metadata": {},
   "outputs": [
    {
     "data": {
      "text/plain": [
       "7033620"
      ]
     },
     "execution_count": 26,
     "metadata": {},
     "output_type": "execute_result"
    }
   ],
   "source": [
    "len(results)"
   ]
  },
  {
   "cell_type": "code",
   "execution_count": 27,
   "id": "dfe85572",
   "metadata": {},
   "outputs": [
    {
     "name": "stderr",
     "output_type": "stream",
     "text": [
      "100%|██████████| 4938979/4938979 [00:05<00:00, 842985.76it/s]\n"
     ]
    }
   ],
   "source": [
    "with open('imda-text.texts', 'w') as fopen:\n",
    "    for t in tqdm(set(results)):\n",
    "        if not len(t):\n",
    "            continue\n",
    "        \n",
    "        fopen.write(f'{json.dumps(t)}\\n')"
   ]
  },
  {
   "cell_type": "code",
   "execution_count": 29,
   "id": "a125ba1a",
   "metadata": {},
   "outputs": [
    {
     "name": "stdout",
     "output_type": "stream",
     "text": [
      "-rw-r--r-- 1 ubuntu ubuntu 247M Apr 13 04:29 imda-text.texts\r\n"
     ]
    }
   ],
   "source": [
    "!ls -lh imda-text.texts"
   ]
  },
  {
   "cell_type": "code",
   "execution_count": 31,
   "id": "7be9eb25",
   "metadata": {},
   "outputs": [
    {
     "data": {
      "application/vnd.jupyter.widget-view+json": {
       "model_id": "5e0ae3d18d3947b8948df46aff29f23a",
       "version_major": 2,
       "version_minor": 0
      },
      "text/plain": [
       "imda-text.texts:   0%|          | 0.00/258M [00:00<?, ?B/s]"
      ]
     },
     "metadata": {},
     "output_type": "display_data"
    },
    {
     "data": {
      "text/plain": [
       "'https://huggingface.co/datasets/mesolitica/pseudolabel-imda-large-v3-timestamp/blob/main/imda-text.texts'"
      ]
     },
     "execution_count": 31,
     "metadata": {},
     "output_type": "execute_result"
    }
   ],
   "source": [
    "api.upload_file(\n",
    "    path_or_fileobj='imda-text.texts',\n",
    "    path_in_repo='imda-text.texts',\n",
    "    repo_id='mesolitica/pseudolabel-imda-large-v3-timestamp',\n",
    "    repo_type='dataset',\n",
    ")"
   ]
  },
  {
   "cell_type": "code",
   "execution_count": 1,
   "id": "ce86d2b4",
   "metadata": {},
   "outputs": [
    {
     "name": "stdout",
     "output_type": "stream",
     "text": [
      "\" No, I think you're supposed to guess this word.\"\r\n",
      "\" I'm like so lucky\"\r\n",
      "\" And like the boyfriend's time\"\r\n",
      "\" And then the other thing, the challenging part that we are facing is because the meat\"\r\n",
      "\" Gestures means a movement, a part of body, like to express an idea.\"\r\n",
      "\" tour goers are also very nice to hang out with.\"\r\n",
      "\" for BTO the least the HDB this for BTO\"\r\n",
      "\" So, why have your name so that I can confirm your order?\"\r\n",
      "\" My will to live\"\r\n",
      "\" here's a good example of multiculturalism.\"\r\n"
     ]
    }
   ],
   "source": [
    "!head -n 10 imda-text.texts"
   ]
  },
  {
   "cell_type": "code",
   "execution_count": null,
   "id": "be699668",
   "metadata": {},
   "outputs": [],
   "source": []
  }
 ],
 "metadata": {
  "kernelspec": {
   "display_name": "Python 3 (ipykernel)",
   "language": "python",
   "name": "python3"
  },
  "language_info": {
   "codemirror_mode": {
    "name": "ipython",
    "version": 3
   },
   "file_extension": ".py",
   "mimetype": "text/x-python",
   "name": "python",
   "nbconvert_exporter": "python",
   "pygments_lexer": "ipython3",
   "version": "3.10.12"
  }
 },
 "nbformat": 4,
 "nbformat_minor": 5
}
