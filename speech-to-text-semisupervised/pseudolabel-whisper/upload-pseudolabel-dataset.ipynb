{
 "cells": [
  {
   "cell_type": "code",
   "execution_count": 1,
   "id": "aa088073",
   "metadata": {},
   "outputs": [],
   "source": [
    "from glob import glob\n",
    "from tqdm import tqdm\n",
    "import json\n",
    "import numpy as np\n",
    "import os\n",
    "from transformers import AutoTokenizer, WhisperConfig\n",
    "from sklearn.feature_extraction.text import CountVectorizer\n",
    "\n",
    "config = WhisperConfig.from_pretrained('openai/whisper-large-v3')\n",
    "maxlen = config.max_length - 3"
   ]
  },
  {
   "cell_type": "code",
   "execution_count": 2,
   "id": "5c431b5c",
   "metadata": {},
   "outputs": [
    {
     "name": "stderr",
     "output_type": "stream",
     "text": [
      "Special tokens have been added in the vocabulary, make sure the associated word embeddings are fine-tuned or trained.\n"
     ]
    }
   ],
   "source": [
    "tokenizer = AutoTokenizer.from_pretrained('openai/whisper-large-v3')"
   ]
  },
  {
   "cell_type": "code",
   "execution_count": 3,
   "id": "1db5783c",
   "metadata": {},
   "outputs": [
    {
     "data": {
      "text/plain": [
       "52908"
      ]
     },
     "execution_count": 3,
     "metadata": {},
     "output_type": "execute_result"
    }
   ],
   "source": [
    "files = sorted(glob('output/*.json'), key = lambda x: int(x.split('-')[1].replace('.json', '')))\n",
    "len(files)"
   ]
  },
  {
   "cell_type": "code",
   "execution_count": 13,
   "id": "9551e7ef",
   "metadata": {},
   "outputs": [],
   "source": [
    "import mp\n",
    "import copy\n",
    "\n",
    "minimum_score = 6\n",
    "\n",
    "def loop(files):\n",
    "    files, _ = files\n",
    "    results = []\n",
    "    for f in tqdm(files):\n",
    "        try:\n",
    "            with open(f) as fopen:\n",
    "                data = json.load(fopen)\n",
    "        except:\n",
    "            continue\n",
    "        f_split = os.path.split(f)[-1].replace('.json', '')\n",
    "        for i in range(len(data)):\n",
    "            \n",
    "            audio_filename = os.path.join('output-audio', f'{f_split}-{i}.mp3')\n",
    "            if not os.path.exists(audio_filename):\n",
    "                continue\n",
    "            \n",
    "            results.append((audio_filename, data[i]))\n",
    "\n",
    "    return results"
   ]
  },
  {
   "cell_type": "code",
   "execution_count": 14,
   "id": "e9f8c38d",
   "metadata": {
    "scrolled": true
   },
   "outputs": [
    {
     "name": "stderr",
     "output_type": "stream",
     "text": [
      "100%|██████████| 1058/1058 [00:06<00:00, 161.00it/s]\n",
      "100%|██████████| 1058/1058 [00:06<00:00, 161.29it/s]\n",
      "100%|██████████| 1058/1058 [00:06<00:00, 159.74it/s]\n",
      "100%|██████████| 1058/1058 [00:06<00:00, 160.49it/s]\n",
      "100%|██████████| 1058/1058 [00:06<00:00, 160.19it/s]\n",
      "100%|██████████| 1058/1058 [00:06<00:00, 159.44it/s]\n",
      "100%|██████████| 1058/1058 [00:06<00:00, 158.95it/s]\n",
      "100%|██████████| 1058/1058 [00:06<00:00, 159.70it/s]\n",
      "100%|██████████| 1058/1058 [00:06<00:00, 158.35it/s]\n",
      "100%|██████████| 1058/1058 [00:06<00:00, 159.70it/s]\n",
      "100%|██████████| 1058/1058 [00:06<00:00, 158.65it/s]\n",
      "100%|██████████| 1058/1058 [00:06<00:00, 158.34it/s]\n",
      "100%|██████████| 1058/1058 [00:06<00:00, 159.34it/s]\n",
      "100%|██████████| 1058/1058 [00:06<00:00, 157.60it/s]\n",
      "100%|██████████| 1058/1058 [00:06<00:00, 158.88it/s]\n",
      "100%|██████████| 1058/1058 [00:06<00:00, 157.79it/s]\n",
      "100%|██████████| 1058/1058 [00:06<00:00, 158.17it/s]\n",
      "100%|██████████| 1058/1058 [00:06<00:00, 159.12it/s]\n",
      "100%|██████████| 1058/1058 [00:06<00:00, 157.34it/s]\n",
      "100%|██████████| 1058/1058 [00:06<00:00, 158.54it/s]\n",
      "100%|██████████| 1058/1058 [00:06<00:00, 157.87it/s]\n",
      "100%|██████████| 1058/1058 [00:06<00:00, 158.81it/s]\n",
      "100%|██████████| 1058/1058 [00:06<00:00, 158.40it/s]\n",
      "100%|██████████| 1058/1058 [00:06<00:00, 158.17it/s]\n",
      "100%|██████████| 1058/1058 [00:06<00:00, 157.52it/s]\n",
      "100%|██████████| 1058/1058 [00:06<00:00, 158.12it/s]\n",
      "100%|██████████| 1058/1058 [00:06<00:00, 157.48it/s]\n",
      "100%|██████████| 1058/1058 [00:06<00:00, 157.65it/s]\n",
      "100%|██████████| 1058/1058 [00:06<00:00, 157.37it/s]\n",
      "100%|██████████| 1058/1058 [00:06<00:00, 158.84it/s]\n",
      "100%|██████████| 1058/1058 [00:06<00:00, 159.54it/s]\n",
      "100%|██████████| 1058/1058 [00:06<00:00, 160.41it/s]\n",
      "100%|██████████| 1058/1058 [00:06<00:00, 160.62it/s]\n",
      "100%|██████████| 1058/1058 [00:06<00:00, 160.08it/s]\n",
      "100%|██████████| 1058/1058 [00:06<00:00, 159.81it/s]\n",
      "100%|██████████| 1058/1058 [00:06<00:00, 159.57it/s]\n",
      "100%|██████████| 1058/1058 [00:06<00:00, 160.05it/s]\n",
      "100%|██████████| 1058/1058 [00:06<00:00, 160.19it/s]\n",
      "100%|██████████| 1058/1058 [00:06<00:00, 159.68it/s]\n",
      "100%|██████████| 1058/1058 [00:06<00:00, 159.91it/s]\n",
      "100%|██████████| 1058/1058 [00:06<00:00, 159.71it/s]\n",
      "100%|██████████| 1058/1058 [00:06<00:00, 160.36it/s]\n",
      "100%|██████████| 1058/1058 [00:06<00:00, 159.90it/s]\n",
      "100%|██████████| 1058/1058 [00:06<00:00, 160.12it/s]\n",
      "100%|██████████| 1058/1058 [00:06<00:00, 159.46it/s]\n",
      "100%|██████████| 1058/1058 [00:06<00:00, 159.62it/s]\n",
      "100%|██████████| 1058/1058 [00:06<00:00, 159.45it/s]\n",
      "100%|██████████| 1058/1058 [00:06<00:00, 159.21it/s]\n",
      "100%|██████████| 1058/1058 [00:06<00:00, 159.57it/s]\n",
      "100%|██████████| 1058/1058 [00:06<00:00, 158.48it/s]\n",
      "100%|██████████| 8/8 [00:00<00:00, 482.87it/s]\n"
     ]
    }
   ],
   "source": [
    "results = mp.multiprocessing(files, loop, cores = 50)"
   ]
  },
  {
   "cell_type": "code",
   "execution_count": 15,
   "id": "f33581b9",
   "metadata": {},
   "outputs": [
    {
     "data": {
      "text/plain": [
       "2222052"
      ]
     },
     "execution_count": 15,
     "metadata": {},
     "output_type": "execute_result"
    }
   ],
   "source": [
    "len(results)"
   ]
  },
  {
   "cell_type": "code",
   "execution_count": 16,
   "id": "cbe6cb36",
   "metadata": {},
   "outputs": [
    {
     "data": {
      "text/plain": [
       "('output-audio/2-0-0.mp3',\n",
       " {'predict_ms': [50258,\n",
       "   50282,\n",
       "   50360,\n",
       "   50365,\n",
       "   4586,\n",
       "   455,\n",
       "   6801,\n",
       "   991,\n",
       "   25835,\n",
       "   19377,\n",
       "   2938,\n",
       "   50409,\n",
       "   50409,\n",
       "   9118,\n",
       "   25835,\n",
       "   50434,\n",
       "   50434,\n",
       "   591,\n",
       "   4118,\n",
       "   3913,\n",
       "   388,\n",
       "   5581,\n",
       "   1606,\n",
       "   1508,\n",
       "   9568,\n",
       "   16434,\n",
       "   50502,\n",
       "   50502,\n",
       "   10715,\n",
       "   1508,\n",
       "   9568,\n",
       "   514,\n",
       "   50539,\n",
       "   50539,\n",
       "   479,\n",
       "   545,\n",
       "   335,\n",
       "   283,\n",
       "   545,\n",
       "   335,\n",
       "   283,\n",
       "   545,\n",
       "   335,\n",
       "   50597,\n",
       "   50597,\n",
       "   5707,\n",
       "   335,\n",
       "   2604,\n",
       "   50638,\n",
       "   50638,\n",
       "   407,\n",
       "   290,\n",
       "   29319,\n",
       "   5948,\n",
       "   650,\n",
       "   2394,\n",
       "   50708,\n",
       "   50708,\n",
       "   460,\n",
       "   29319,\n",
       "   5948,\n",
       "   650,\n",
       "   2394,\n",
       "   50790,\n",
       "   50790,\n",
       "   5130,\n",
       "   2419,\n",
       "   50803,\n",
       "   50803,\n",
       "   19158,\n",
       "   296,\n",
       "   12,\n",
       "   7124,\n",
       "   296,\n",
       "   3867,\n",
       "   50853,\n",
       "   50853,\n",
       "   5637,\n",
       "   650,\n",
       "   2394,\n",
       "   50894,\n",
       "   50894,\n",
       "   33468,\n",
       "   4714,\n",
       "   9568,\n",
       "   514,\n",
       "   26532,\n",
       "   50994,\n",
       "   50994,\n",
       "   508,\n",
       "   1459,\n",
       "   71,\n",
       "   50996,\n",
       "   50996,\n",
       "   508,\n",
       "   1459,\n",
       "   71,\n",
       "   312,\n",
       "   2394,\n",
       "   6801,\n",
       "   51034,\n",
       "   51034,\n",
       "   879,\n",
       "   2394,\n",
       "   816,\n",
       "   897,\n",
       "   84,\n",
       "   40173,\n",
       "   9162,\n",
       "   84,\n",
       "   51111,\n",
       "   51111,\n",
       "   5707,\n",
       "   335,\n",
       "   2604,\n",
       "   26532,\n",
       "   51141,\n",
       "   51141,\n",
       "   23170,\n",
       "   51203,\n",
       "   51203,\n",
       "   36366,\n",
       "   44921,\n",
       "   14491,\n",
       "   51303,\n",
       "   51303,\n",
       "   22157,\n",
       "   44921,\n",
       "   2604,\n",
       "   14462,\n",
       "   51339,\n",
       "   51339,\n",
       "   25386,\n",
       "   6801,\n",
       "   4320,\n",
       "   325,\n",
       "   37425,\n",
       "   51398,\n",
       "   51398,\n",
       "   509,\n",
       "   35770,\n",
       "   1606,\n",
       "   1508,\n",
       "   51466,\n",
       "   51466,\n",
       "   286,\n",
       "   34820,\n",
       "   545,\n",
       "   51513,\n",
       "   51513,\n",
       "   5707,\n",
       "   335,\n",
       "   2604,\n",
       "   7670,\n",
       "   51546,\n",
       "   51546,\n",
       "   2386,\n",
       "   1508,\n",
       "   746,\n",
       "   411,\n",
       "   300,\n",
       "   51602,\n",
       "   51602,\n",
       "   22157,\n",
       "   10370,\n",
       "   453,\n",
       "   37425,\n",
       "   51675,\n",
       "   51675,\n",
       "   961,\n",
       "   311,\n",
       "   584,\n",
       "   4608,\n",
       "   51728,\n",
       "   51728,\n",
       "   9663,\n",
       "   9032,\n",
       "   290,\n",
       "   29319,\n",
       "   290,\n",
       "   29319,\n",
       "   51772,\n",
       "   51772,\n",
       "   460,\n",
       "   29319,\n",
       "   290,\n",
       "   29319,\n",
       "   51800,\n",
       "   51800,\n",
       "   876,\n",
       "   9032,\n",
       "   290,\n",
       "   29319,\n",
       "   51827,\n",
       "   51827,\n",
       "   4210,\n",
       "   4872,\n",
       "   7670,\n",
       "   51855,\n",
       "   51855,\n",
       "   50257],\n",
       "  'predict_en': [50258,\n",
       "   50259,\n",
       "   50360,\n",
       "   50365,\n",
       "   759,\n",
       "   291,\n",
       "   500,\n",
       "   380,\n",
       "   362,\n",
       "   257,\n",
       "   1691,\n",
       "   11,\n",
       "   291,\n",
       "   393,\n",
       "   380,\n",
       "   589,\n",
       "   13,\n",
       "   50465,\n",
       "   50465,\n",
       "   509,\n",
       "   362,\n",
       "   281,\n",
       "   747,\n",
       "   1606,\n",
       "   1508,\n",
       "   13,\n",
       "   50565,\n",
       "   50565,\n",
       "   286,\n",
       "   1223,\n",
       "   13,\n",
       "   50665,\n",
       "   50665,\n",
       "   407,\n",
       "   11,\n",
       "   264,\n",
       "   15360,\n",
       "   307,\n",
       "   819,\n",
       "   30,\n",
       "   50765,\n",
       "   50765,\n",
       "   440,\n",
       "   15360,\n",
       "   307,\n",
       "   819,\n",
       "   13,\n",
       "   50865,\n",
       "   50865,\n",
       "   18967,\n",
       "   613,\n",
       "   5359,\n",
       "   30,\n",
       "   50965,\n",
       "   50965,\n",
       "   467,\n",
       "   311,\n",
       "   819,\n",
       "   13,\n",
       "   51065,\n",
       "   51065,\n",
       "   467,\n",
       "   311,\n",
       "   819,\n",
       "   13,\n",
       "   51165,\n",
       "   51165,\n",
       "   467,\n",
       "   311,\n",
       "   411,\n",
       "   257,\n",
       "   4714,\n",
       "   420,\n",
       "   732,\n",
       "   4714,\n",
       "   13,\n",
       "   51265,\n",
       "   51265,\n",
       "   759,\n",
       "   309,\n",
       "   311,\n",
       "   411,\n",
       "   14491,\n",
       "   11,\n",
       "   309,\n",
       "   311,\n",
       "   411,\n",
       "   300,\n",
       "   13,\n",
       "   51365,\n",
       "   51365,\n",
       "   583,\n",
       "   436,\n",
       "   1524,\n",
       "   264,\n",
       "   33223,\n",
       "   13,\n",
       "   51465,\n",
       "   51465,\n",
       "   509,\n",
       "   362,\n",
       "   257,\n",
       "   35770,\n",
       "   11,\n",
       "   1606,\n",
       "   1508,\n",
       "   13,\n",
       "   51565,\n",
       "   51565,\n",
       "   509,\n",
       "   483,\n",
       "   257,\n",
       "   4314,\n",
       "   13,\n",
       "   51665,\n",
       "   51665,\n",
       "   6595,\n",
       "   411,\n",
       "   300,\n",
       "   13,\n",
       "   51765,\n",
       "   51765,\n",
       "   50257,\n",
       "   50257,\n",
       "   50257,\n",
       "   50257,\n",
       "   50257,\n",
       "   50257,\n",
       "   50257,\n",
       "   50257,\n",
       "   50257,\n",
       "   50257,\n",
       "   50257,\n",
       "   50257,\n",
       "   50257,\n",
       "   50257,\n",
       "   50257,\n",
       "   50257,\n",
       "   50257,\n",
       "   50257,\n",
       "   50257,\n",
       "   50257,\n",
       "   50257,\n",
       "   50257,\n",
       "   50257,\n",
       "   50257,\n",
       "   50257,\n",
       "   50257,\n",
       "   50257,\n",
       "   50257,\n",
       "   50257,\n",
       "   50257,\n",
       "   50257,\n",
       "   50257,\n",
       "   50257,\n",
       "   50257,\n",
       "   50257,\n",
       "   50257,\n",
       "   50257,\n",
       "   50257,\n",
       "   50257,\n",
       "   50257,\n",
       "   50257,\n",
       "   50257,\n",
       "   50257,\n",
       "   50257,\n",
       "   50257,\n",
       "   50257,\n",
       "   50257,\n",
       "   50257,\n",
       "   50257,\n",
       "   50257,\n",
       "   50257,\n",
       "   50257,\n",
       "   50257,\n",
       "   50257,\n",
       "   50257,\n",
       "   50257,\n",
       "   50257,\n",
       "   50257,\n",
       "   50257,\n",
       "   50257,\n",
       "   50257,\n",
       "   50257,\n",
       "   50257,\n",
       "   50257,\n",
       "   50257,\n",
       "   50257,\n",
       "   50257,\n",
       "   50257,\n",
       "   50257,\n",
       "   50257,\n",
       "   50257,\n",
       "   50257,\n",
       "   50257],\n",
       "  'score_ms': 13.1875,\n",
       "  'score_en': 5.25})"
      ]
     },
     "execution_count": 16,
     "metadata": {},
     "output_type": "execute_result"
    }
   ],
   "source": [
    "results[0]"
   ]
  },
  {
   "cell_type": "code",
   "execution_count": 17,
   "id": "dbbd91b0",
   "metadata": {},
   "outputs": [
    {
     "name": "stderr",
     "output_type": "stream",
     "text": [
      "100%|██████████| 2222052/2222052 [02:13<00:00, 16627.71it/s]\n"
     ]
    }
   ],
   "source": [
    "with open('prepared-pseudolabel-original.jsonl', 'w') as fopen:\n",
    "    for r in tqdm(results):\n",
    "        fopen.write(f'{json.dumps(r)}\\n')"
   ]
  },
  {
   "cell_type": "code",
   "execution_count": null,
   "id": "80924e1b",
   "metadata": {},
   "outputs": [],
   "source": [
    "!zip -r -s 10000M output-audio.zip output-audio"
   ]
  },
  {
   "cell_type": "code",
   "execution_count": 18,
   "id": "fa611004",
   "metadata": {},
   "outputs": [],
   "source": [
    "from huggingface_hub import HfApi\n",
    "api = HfApi()"
   ]
  },
  {
   "cell_type": "code",
   "execution_count": 19,
   "id": "914c3f55",
   "metadata": {},
   "outputs": [
    {
     "data": {
      "application/vnd.jupyter.widget-view+json": {
       "model_id": "83f97a2180c6462bbb3173e7deecdde7",
       "version_major": 2,
       "version_minor": 0
      },
      "text/plain": [
       "prepared-pseudolabel-original.jsonl:   0%|          | 0.00/7.53G [00:00<?, ?B/s]"
      ]
     },
     "metadata": {},
     "output_type": "display_data"
    },
    {
     "data": {
      "text/plain": [
       "'https://huggingface.co/datasets/mesolitica/pseudolabel-malaysian-youtube-whisper-large-v3-timestamp/blob/main/prepared-pseudolabel-original.jsonl'"
      ]
     },
     "execution_count": 19,
     "metadata": {},
     "output_type": "execute_result"
    }
   ],
   "source": [
    "api.upload_file(\n",
    "    path_or_fileobj='prepared-pseudolabel-original.jsonl',\n",
    "    path_in_repo='prepared-pseudolabel-original.jsonl',\n",
    "    repo_id='mesolitica/pseudolabel-malaysian-youtube-whisper-large-v3-timestamp',\n",
    "    repo_type='dataset',\n",
    ")"
   ]
  },
  {
   "cell_type": "code",
   "execution_count": 4,
   "id": "18caeef3",
   "metadata": {},
   "outputs": [
    {
     "name": "stdout",
     "output_type": "stream",
     "text": [
      "output-audio.z12\n"
     ]
    },
    {
     "data": {
      "application/vnd.jupyter.widget-view+json": {
       "model_id": "048d8ca07d14488fad5ff2dd2b503193",
       "version_major": 2,
       "version_minor": 0
      },
      "text/plain": [
       "output-audio.z12:   0%|          | 0.00/10.5G [00:00<?, ?B/s]"
      ]
     },
     "metadata": {},
     "output_type": "display_data"
    },
    {
     "name": "stdout",
     "output_type": "stream",
     "text": [
      "output-audio.z09\n"
     ]
    },
    {
     "data": {
      "application/vnd.jupyter.widget-view+json": {
       "model_id": "c778961b292b4aa788a079801e896fd9",
       "version_major": 2,
       "version_minor": 0
      },
      "text/plain": [
       "output-audio.z09:   0%|          | 0.00/10.5G [00:00<?, ?B/s]"
      ]
     },
     "metadata": {},
     "output_type": "display_data"
    },
    {
     "name": "stdout",
     "output_type": "stream",
     "text": [
      "output-audio.z20\n"
     ]
    },
    {
     "data": {
      "application/vnd.jupyter.widget-view+json": {
       "model_id": "007b56daf1ff47bab26a33a0e8026c09",
       "version_major": 2,
       "version_minor": 0
      },
      "text/plain": [
       "output-audio.z20:   0%|          | 0.00/10.5G [00:00<?, ?B/s]"
      ]
     },
     "metadata": {},
     "output_type": "display_data"
    },
    {
     "name": "stdout",
     "output_type": "stream",
     "text": [
      "output-audio.z23\n"
     ]
    },
    {
     "data": {
      "application/vnd.jupyter.widget-view+json": {
       "model_id": "5e4f4880e7af46c89eb02305d83aef4f",
       "version_major": 2,
       "version_minor": 0
      },
      "text/plain": [
       "output-audio.z23:   0%|          | 0.00/10.5G [00:00<?, ?B/s]"
      ]
     },
     "metadata": {},
     "output_type": "display_data"
    },
    {
     "name": "stdout",
     "output_type": "stream",
     "text": [
      "output-audio.z10\n"
     ]
    },
    {
     "data": {
      "application/vnd.jupyter.widget-view+json": {
       "model_id": "dc9ac3f3e9a5407b9a5e00be520fe75f",
       "version_major": 2,
       "version_minor": 0
      },
      "text/plain": [
       "output-audio.z10:   0%|          | 0.00/10.5G [00:00<?, ?B/s]"
      ]
     },
     "metadata": {},
     "output_type": "display_data"
    },
    {
     "name": "stdout",
     "output_type": "stream",
     "text": [
      "output-audio.z11\n"
     ]
    },
    {
     "data": {
      "application/vnd.jupyter.widget-view+json": {
       "model_id": "0cb0ad7ae1384e7e84f6698d4f69aa70",
       "version_major": 2,
       "version_minor": 0
      },
      "text/plain": [
       "output-audio.z11:   0%|          | 0.00/10.5G [00:00<?, ?B/s]"
      ]
     },
     "metadata": {},
     "output_type": "display_data"
    },
    {
     "name": "stdout",
     "output_type": "stream",
     "text": [
      "output-audio.z08\n"
     ]
    },
    {
     "data": {
      "application/vnd.jupyter.widget-view+json": {
       "model_id": "8a9a54887e5a44b6a47f7ec2f21998d9",
       "version_major": 2,
       "version_minor": 0
      },
      "text/plain": [
       "output-audio.z08:   0%|          | 0.00/10.5G [00:00<?, ?B/s]"
      ]
     },
     "metadata": {},
     "output_type": "display_data"
    },
    {
     "name": "stdout",
     "output_type": "stream",
     "text": [
      "output-audio.z07\n"
     ]
    },
    {
     "data": {
      "application/vnd.jupyter.widget-view+json": {
       "model_id": "7e207bca50cb480eb7ed04e465a086ae",
       "version_major": 2,
       "version_minor": 0
      },
      "text/plain": [
       "output-audio.z07:   0%|          | 0.00/10.5G [00:00<?, ?B/s]"
      ]
     },
     "metadata": {},
     "output_type": "display_data"
    },
    {
     "name": "stdout",
     "output_type": "stream",
     "text": [
      "output-audio.z30\n"
     ]
    },
    {
     "data": {
      "application/vnd.jupyter.widget-view+json": {
       "model_id": "34403a5b9b874714832c3c6a06a61415",
       "version_major": 2,
       "version_minor": 0
      },
      "text/plain": [
       "output-audio.z30:   0%|          | 0.00/10.5G [00:00<?, ?B/s]"
      ]
     },
     "metadata": {},
     "output_type": "display_data"
    },
    {
     "name": "stdout",
     "output_type": "stream",
     "text": [
      "output-audio.z19\n"
     ]
    },
    {
     "data": {
      "application/vnd.jupyter.widget-view+json": {
       "model_id": "bbff0a948fc5417e89a53e5031a44dd2",
       "version_major": 2,
       "version_minor": 0
      },
      "text/plain": [
       "output-audio.z19:   0%|          | 0.00/10.5G [00:00<?, ?B/s]"
      ]
     },
     "metadata": {},
     "output_type": "display_data"
    },
    {
     "name": "stdout",
     "output_type": "stream",
     "text": [
      "output-audio.z18\n"
     ]
    },
    {
     "data": {
      "application/vnd.jupyter.widget-view+json": {
       "model_id": "e830f0f642764bc1a3f1a25311815904",
       "version_major": 2,
       "version_minor": 0
      },
      "text/plain": [
       "output-audio.z18:   0%|          | 0.00/10.5G [00:00<?, ?B/s]"
      ]
     },
     "metadata": {},
     "output_type": "display_data"
    },
    {
     "name": "stdout",
     "output_type": "stream",
     "text": [
      "output-audio.z14\n"
     ]
    },
    {
     "data": {
      "application/vnd.jupyter.widget-view+json": {
       "model_id": "95eba26ade064804babfa3b4e41825bc",
       "version_major": 2,
       "version_minor": 0
      },
      "text/plain": [
       "output-audio.z14:   0%|          | 0.00/10.5G [00:00<?, ?B/s]"
      ]
     },
     "metadata": {},
     "output_type": "display_data"
    },
    {
     "name": "stdout",
     "output_type": "stream",
     "text": [
      "output-audio.z15\n"
     ]
    },
    {
     "data": {
      "application/vnd.jupyter.widget-view+json": {
       "model_id": "16f3263359ad4650aeea3443cd78142d",
       "version_major": 2,
       "version_minor": 0
      },
      "text/plain": [
       "output-audio.z15:   0%|          | 0.00/10.5G [00:00<?, ?B/s]"
      ]
     },
     "metadata": {},
     "output_type": "display_data"
    },
    {
     "name": "stdout",
     "output_type": "stream",
     "text": [
      "output-audio.z29\n"
     ]
    },
    {
     "data": {
      "application/vnd.jupyter.widget-view+json": {
       "model_id": "94c221462a234804a10bca2e46da5b58",
       "version_major": 2,
       "version_minor": 0
      },
      "text/plain": [
       "output-audio.z29:   0%|          | 0.00/10.5G [00:00<?, ?B/s]"
      ]
     },
     "metadata": {},
     "output_type": "display_data"
    },
    {
     "name": "stdout",
     "output_type": "stream",
     "text": [
      "output-audio.z04\n"
     ]
    },
    {
     "data": {
      "application/vnd.jupyter.widget-view+json": {
       "model_id": "2466fc2d8ea643c791048c8581177ced",
       "version_major": 2,
       "version_minor": 0
      },
      "text/plain": [
       "output-audio.z04:   0%|          | 0.00/10.5G [00:00<?, ?B/s]"
      ]
     },
     "metadata": {},
     "output_type": "display_data"
    },
    {
     "name": "stdout",
     "output_type": "stream",
     "text": [
      "output-audio.z24\n"
     ]
    },
    {
     "data": {
      "application/vnd.jupyter.widget-view+json": {
       "model_id": "0d9d1362993e4569a287713244a3ecd8",
       "version_major": 2,
       "version_minor": 0
      },
      "text/plain": [
       "output-audio.z24:   0%|          | 0.00/10.5G [00:00<?, ?B/s]"
      ]
     },
     "metadata": {},
     "output_type": "display_data"
    },
    {
     "name": "stdout",
     "output_type": "stream",
     "text": [
      "output-audio.z13\n"
     ]
    },
    {
     "data": {
      "application/vnd.jupyter.widget-view+json": {
       "model_id": "bfd17679165e4b72a1db6f78add423ac",
       "version_major": 2,
       "version_minor": 0
      },
      "text/plain": [
       "output-audio.z13:   0%|          | 0.00/10.5G [00:00<?, ?B/s]"
      ]
     },
     "metadata": {},
     "output_type": "display_data"
    },
    {
     "name": "stdout",
     "output_type": "stream",
     "text": [
      "output-audio.z28\n"
     ]
    },
    {
     "data": {
      "application/vnd.jupyter.widget-view+json": {
       "model_id": "ac431cee32894c5c81a4485576c57f28",
       "version_major": 2,
       "version_minor": 0
      },
      "text/plain": [
       "output-audio.z28:   0%|          | 0.00/10.5G [00:00<?, ?B/s]"
      ]
     },
     "metadata": {},
     "output_type": "display_data"
    },
    {
     "name": "stdout",
     "output_type": "stream",
     "text": [
      "output-audio.z25\n"
     ]
    },
    {
     "data": {
      "application/vnd.jupyter.widget-view+json": {
       "model_id": "32a11eb81b9c4531a973b151cbabb006",
       "version_major": 2,
       "version_minor": 0
      },
      "text/plain": [
       "output-audio.z25:   0%|          | 0.00/10.5G [00:00<?, ?B/s]"
      ]
     },
     "metadata": {},
     "output_type": "display_data"
    },
    {
     "name": "stdout",
     "output_type": "stream",
     "text": [
      "output-audio.z03\n"
     ]
    },
    {
     "data": {
      "application/vnd.jupyter.widget-view+json": {
       "model_id": "c4316a3b78564499910fb7f144f5043c",
       "version_major": 2,
       "version_minor": 0
      },
      "text/plain": [
       "output-audio.z03:   0%|          | 0.00/10.5G [00:00<?, ?B/s]"
      ]
     },
     "metadata": {},
     "output_type": "display_data"
    },
    {
     "name": "stdout",
     "output_type": "stream",
     "text": [
      "output-audio.z26\n"
     ]
    },
    {
     "data": {
      "application/vnd.jupyter.widget-view+json": {
       "model_id": "55f61a1c19b047e48aeb2a226d76cac5",
       "version_major": 2,
       "version_minor": 0
      },
      "text/plain": [
       "output-audio.z26:   0%|          | 0.00/10.5G [00:00<?, ?B/s]"
      ]
     },
     "metadata": {},
     "output_type": "display_data"
    },
    {
     "name": "stdout",
     "output_type": "stream",
     "text": [
      "output-audio.z22\n"
     ]
    },
    {
     "data": {
      "application/vnd.jupyter.widget-view+json": {
       "model_id": "ac66114a0cfa41f9ae011c52c421fcd6",
       "version_major": 2,
       "version_minor": 0
      },
      "text/plain": [
       "output-audio.z22:   0%|          | 0.00/10.5G [00:00<?, ?B/s]"
      ]
     },
     "metadata": {},
     "output_type": "display_data"
    },
    {
     "name": "stdout",
     "output_type": "stream",
     "text": [
      "output-audio.z32\n"
     ]
    },
    {
     "data": {
      "application/vnd.jupyter.widget-view+json": {
       "model_id": "a48d2f006b93451bb2ca89a116e3be41",
       "version_major": 2,
       "version_minor": 0
      },
      "text/plain": [
       "output-audio.z32:   0%|          | 0.00/10.5G [00:00<?, ?B/s]"
      ]
     },
     "metadata": {},
     "output_type": "display_data"
    },
    {
     "name": "stdout",
     "output_type": "stream",
     "text": [
      "output-audio.z05\n"
     ]
    },
    {
     "data": {
      "application/vnd.jupyter.widget-view+json": {
       "model_id": "2d225b23a9d54c6394a494ff6ac4c86c",
       "version_major": 2,
       "version_minor": 0
      },
      "text/plain": [
       "output-audio.z05:   0%|          | 0.00/10.5G [00:00<?, ?B/s]"
      ]
     },
     "metadata": {},
     "output_type": "display_data"
    },
    {
     "name": "stdout",
     "output_type": "stream",
     "text": [
      "output-audio.z16\n"
     ]
    },
    {
     "data": {
      "application/vnd.jupyter.widget-view+json": {
       "model_id": "ec854da2bef74d1eb395ed51746ba56a",
       "version_major": 2,
       "version_minor": 0
      },
      "text/plain": [
       "output-audio.z16:   0%|          | 0.00/10.5G [00:00<?, ?B/s]"
      ]
     },
     "metadata": {},
     "output_type": "display_data"
    },
    {
     "name": "stdout",
     "output_type": "stream",
     "text": [
      "output-audio.z27\n"
     ]
    },
    {
     "data": {
      "application/vnd.jupyter.widget-view+json": {
       "model_id": "903035b9760a4790a68174421921bfe6",
       "version_major": 2,
       "version_minor": 0
      },
      "text/plain": [
       "output-audio.z27:   0%|          | 0.00/10.5G [00:00<?, ?B/s]"
      ]
     },
     "metadata": {},
     "output_type": "display_data"
    },
    {
     "name": "stdout",
     "output_type": "stream",
     "text": [
      "output-audio.z21\n"
     ]
    },
    {
     "data": {
      "application/vnd.jupyter.widget-view+json": {
       "model_id": "110d92df42db478b8de29d3720679c10",
       "version_major": 2,
       "version_minor": 0
      },
      "text/plain": [
       "output-audio.z21:   0%|          | 0.00/10.5G [00:00<?, ?B/s]"
      ]
     },
     "metadata": {},
     "output_type": "display_data"
    },
    {
     "name": "stdout",
     "output_type": "stream",
     "text": [
      "output-audio.z02\n"
     ]
    },
    {
     "data": {
      "application/vnd.jupyter.widget-view+json": {
       "model_id": "5f5d61fca91e4c9da8b59ed1525ac399",
       "version_major": 2,
       "version_minor": 0
      },
      "text/plain": [
       "output-audio.z02:   0%|          | 0.00/10.5G [00:00<?, ?B/s]"
      ]
     },
     "metadata": {},
     "output_type": "display_data"
    },
    {
     "name": "stdout",
     "output_type": "stream",
     "text": [
      "output-audio.z01\n"
     ]
    },
    {
     "data": {
      "application/vnd.jupyter.widget-view+json": {
       "model_id": "5a16c819d5a14e7db0ed5aecc23a74e5",
       "version_major": 2,
       "version_minor": 0
      },
      "text/plain": [
       "output-audio.z01:   0%|          | 0.00/10.5G [00:00<?, ?B/s]"
      ]
     },
     "metadata": {},
     "output_type": "display_data"
    },
    {
     "name": "stdout",
     "output_type": "stream",
     "text": [
      "output-audio.z31\n"
     ]
    },
    {
     "data": {
      "application/vnd.jupyter.widget-view+json": {
       "model_id": "9298a1432b374720a07d254978142372",
       "version_major": 2,
       "version_minor": 0
      },
      "text/plain": [
       "output-audio.z31:   0%|          | 0.00/10.5G [00:00<?, ?B/s]"
      ]
     },
     "metadata": {},
     "output_type": "display_data"
    },
    {
     "name": "stdout",
     "output_type": "stream",
     "text": [
      "output-audio.z17\n"
     ]
    },
    {
     "data": {
      "application/vnd.jupyter.widget-view+json": {
       "model_id": "dfc43749905647deb82ed6f8b09d3c57",
       "version_major": 2,
       "version_minor": 0
      },
      "text/plain": [
       "output-audio.z17:   0%|          | 0.00/10.5G [00:00<?, ?B/s]"
      ]
     },
     "metadata": {},
     "output_type": "display_data"
    },
    {
     "name": "stdout",
     "output_type": "stream",
     "text": [
      "output-audio.zip\n"
     ]
    },
    {
     "data": {
      "application/vnd.jupyter.widget-view+json": {
       "model_id": "434531105f8c49d88da715ea1ab90ff0",
       "version_major": 2,
       "version_minor": 0
      },
      "text/plain": [
       "output-audio.zip:   0%|          | 0.00/8.03G [00:00<?, ?B/s]"
      ]
     },
     "metadata": {},
     "output_type": "display_data"
    },
    {
     "name": "stdout",
     "output_type": "stream",
     "text": [
      "output-audio.z06\n"
     ]
    },
    {
     "data": {
      "application/vnd.jupyter.widget-view+json": {
       "model_id": "8d36fe267b5b4c70b11121ea14f7d4dc",
       "version_major": 2,
       "version_minor": 0
      },
      "text/plain": [
       "output-audio.z06:   0%|          | 0.00/10.5G [00:00<?, ?B/s]"
      ]
     },
     "metadata": {},
     "output_type": "display_data"
    }
   ],
   "source": [
    "files = glob('output-audio.z*')\n",
    "for f in files:\n",
    "    print(f)\n",
    "    api.upload_file(\n",
    "        path_or_fileobj=f,\n",
    "        path_in_repo=f,\n",
    "        repo_id='mesolitica/pseudolabel-malaysian-youtube-whisper-large-v3-timestamp',\n",
    "        repo_type='dataset',\n",
    "    )"
   ]
  },
  {
   "cell_type": "code",
   "execution_count": null,
   "id": "945a11a4",
   "metadata": {},
   "outputs": [],
   "source": []
  }
 ],
 "metadata": {
  "kernelspec": {
   "display_name": "Python 3 (ipykernel)",
   "language": "python",
   "name": "python3"
  },
  "language_info": {
   "codemirror_mode": {
    "name": "ipython",
    "version": 3
   },
   "file_extension": ".py",
   "mimetype": "text/x-python",
   "name": "python",
   "nbconvert_exporter": "python",
   "pygments_lexer": "ipython3",
   "version": "3.10.12"
  }
 },
 "nbformat": 4,
 "nbformat_minor": 5
}
