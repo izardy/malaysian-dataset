{
 "cells": [
  {
   "cell_type": "code",
   "execution_count": 1,
   "id": "b153ee9a",
   "metadata": {},
   "outputs": [],
   "source": [
    "import warnings\n",
    "warnings.filterwarnings(\"ignore\")\n",
    "\n",
    "import logging\n",
    "\n",
    "logging.basicConfig(level=logging.ERROR)"
   ]
  },
  {
   "cell_type": "code",
   "execution_count": 2,
   "id": "aa088073",
   "metadata": {},
   "outputs": [],
   "source": [
    "from glob import glob\n",
    "from tqdm import tqdm\n",
    "import json\n",
    "import numpy as np\n",
    "import os\n",
    "from transformers import AutoTokenizer, WhisperConfig\n",
    "from sklearn.feature_extraction.text import CountVectorizer\n",
    "\n",
    "config = WhisperConfig.from_pretrained('openai/whisper-large-v3')\n",
    "maxlen = config.max_length - 3"
   ]
  },
  {
   "cell_type": "code",
   "execution_count": 3,
   "id": "5c431b5c",
   "metadata": {},
   "outputs": [
    {
     "name": "stderr",
     "output_type": "stream",
     "text": [
      "Special tokens have been added in the vocabulary, make sure the associated word embeddings are fine-tuned or trained.\n"
     ]
    }
   ],
   "source": [
    "tokenizer = AutoTokenizer.from_pretrained('openai/whisper-large-v3')"
   ]
  },
  {
   "cell_type": "code",
   "execution_count": 4,
   "id": "a12b64cc",
   "metadata": {},
   "outputs": [],
   "source": [
    "from datasets import Audio\n",
    "\n",
    "sr = 16000\n",
    "audio = Audio(sampling_rate=sr)"
   ]
  },
  {
   "cell_type": "code",
   "execution_count": 5,
   "id": "1db5783c",
   "metadata": {
    "scrolled": true
   },
   "outputs": [
    {
     "data": {
      "text/plain": [
       "12954"
      ]
     },
     "execution_count": 5,
     "metadata": {},
     "output_type": "execute_result"
    }
   ],
   "source": [
    "files = sorted(glob('output-tamil/*.json'), key = lambda x: int(x.split('-')[-1].replace('.json', '')))\n",
    "len(files)"
   ]
  },
  {
   "cell_type": "code",
   "execution_count": 6,
   "id": "843d0116",
   "metadata": {},
   "outputs": [
    {
     "data": {
      "text/plain": [
       "[('0.00', ' kerajaan persekutuan', '1.46'),\n",
       " ('1.46', ' dan banyak masalah hubungan', '3.96')]"
      ]
     },
     "execution_count": 6,
     "metadata": {},
     "output_type": "execute_result"
    }
   ],
   "source": [
    "import re\n",
    "\n",
    "pattern_pair = r'<\\|(\\d+\\.\\d+)\\|>(.*?)<\\|(\\d+\\.\\d+)\\|>'\n",
    "matches = re.findall(pattern_pair, '<|0.00|> kerajaan persekutuan<|1.46|><|1.46|> dan banyak masalah hubungan<|3.96|><|3.96|> antara kerajaan negeri dan')\n",
    "matches"
   ]
  },
  {
   "cell_type": "code",
   "execution_count": 7,
   "id": "add6ba6d",
   "metadata": {},
   "outputs": [],
   "source": [
    "import string\n",
    "\n",
    "punct = set(string.punctuation)\n",
    "\n",
    "def remove_punct(s):\n",
    "    return ''.join([c for c in s if c not in punct])\n",
    "\n",
    "def remove_duplicate(string, n = 3):\n",
    "    splitted = string.split()\n",
    "    n = [splitted[i: i + n] for i in range(0, len(splitted), n)]\n",
    "    already = set()\n",
    "    dedup = []\n",
    "    for n_ in n:\n",
    "        original_n = ' '.join(n_)\n",
    "        n_ = ' '.join(n_).lower()\n",
    "        n_ = remove_punct(n_)\n",
    "        if n_ not in already:\n",
    "            dedup.append(original_n)\n",
    "            already.add(n_)\n",
    "    return ' '.join(dedup)"
   ]
  },
  {
   "cell_type": "code",
   "execution_count": 8,
   "id": "1b6b8ab2",
   "metadata": {},
   "outputs": [],
   "source": [
    "import math\n",
    "\n",
    "def round_to_nearest_0_02(number):\n",
    "    return round(number * 50) / 50"
   ]
  },
  {
   "cell_type": "code",
   "execution_count": 9,
   "id": "929c71fd",
   "metadata": {},
   "outputs": [],
   "source": [
    "selected = [\n",
    "    'terima kasih kerana menonton',\n",
    "    'terima kasih',\n",
    "]"
   ]
  },
  {
   "cell_type": "code",
   "execution_count": 10,
   "id": "7d21b066",
   "metadata": {
    "scrolled": false
   },
   "outputs": [
    {
     "data": {
      "text/plain": [
       "{'predict_ta': [50258,\n",
       "  50287,\n",
       "  50360,\n",
       "  50365,\n",
       "  13535,\n",
       "  4516,\n",
       "  6980,\n",
       "  5036,\n",
       "  5511,\n",
       "  12008,\n",
       "  18169,\n",
       "  4234,\n",
       "  2133,\n",
       "  4234,\n",
       "  3923,\n",
       "  36001,\n",
       "  4742,\n",
       "  2133,\n",
       "  4742,\n",
       "  3923,\n",
       "  18198,\n",
       "  19433,\n",
       "  6467,\n",
       "  8402,\n",
       "  8491,\n",
       "  4516,\n",
       "  6993,\n",
       "  2133,\n",
       "  12008,\n",
       "  5036,\n",
       "  4742,\n",
       "  3923,\n",
       "  4234,\n",
       "  5036,\n",
       "  8012,\n",
       "  2133,\n",
       "  8012,\n",
       "  3923,\n",
       "  12776,\n",
       "  6980,\n",
       "  2133,\n",
       "  16793,\n",
       "  17167,\n",
       "  2133,\n",
       "  15094,\n",
       "  2133,\n",
       "  23656,\n",
       "  6993,\n",
       "  4234,\n",
       "  4742,\n",
       "  2133,\n",
       "  4742,\n",
       "  6467,\n",
       "  4742,\n",
       "  2133,\n",
       "  4742,\n",
       "  4516,\n",
       "  6993,\n",
       "  2133,\n",
       "  23656,\n",
       "  10078,\n",
       "  2133,\n",
       "  10078,\n",
       "  12008,\n",
       "  18169,\n",
       "  4742,\n",
       "  3923,\n",
       "  6980,\n",
       "  2133,\n",
       "  12776,\n",
       "  8708,\n",
       "  8094,\n",
       "  2133,\n",
       "  8094,\n",
       "  8402,\n",
       "  16504,\n",
       "  10478,\n",
       "  6993,\n",
       "  3923,\n",
       "  6980,\n",
       "  2133,\n",
       "  16504,\n",
       "  10478,\n",
       "  6980,\n",
       "  2133,\n",
       "  35032,\n",
       "  3923,\n",
       "  4742,\n",
       "  2133,\n",
       "  4742,\n",
       "  13535,\n",
       "  10478,\n",
       "  15297,\n",
       "  2133,\n",
       "  6421,\n",
       "  4516,\n",
       "  8491,\n",
       "  4742,\n",
       "  3923,\n",
       "  12776,\n",
       "  8708,\n",
       "  16793,\n",
       "  4516,\n",
       "  8491,\n",
       "  6980,\n",
       "  2133,\n",
       "  12894,\n",
       "  5511,\n",
       "  2133,\n",
       "  8094,\n",
       "  3923,\n",
       "  13786,\n",
       "  3923,\n",
       "  8094,\n",
       "  4516,\n",
       "  8012,\n",
       "  2133,\n",
       "  8012,\n",
       "  4516,\n",
       "  6421,\n",
       "  2133,\n",
       "  6421,\n",
       "  5036,\n",
       "  6467,\n",
       "  14969,\n",
       "  50775,\n",
       "  50257,\n",
       "  50257,\n",
       "  50257,\n",
       "  50257,\n",
       "  50257,\n",
       "  50257,\n",
       "  50257,\n",
       "  50257,\n",
       "  50257,\n",
       "  50257,\n",
       "  50257,\n",
       "  50257,\n",
       "  50257,\n",
       "  50257,\n",
       "  50257,\n",
       "  50257,\n",
       "  50257,\n",
       "  50257,\n",
       "  50257,\n",
       "  50257,\n",
       "  50257,\n",
       "  50257,\n",
       "  50257,\n",
       "  50257,\n",
       "  50257,\n",
       "  50257,\n",
       "  50257,\n",
       "  50257,\n",
       "  50257,\n",
       "  50257,\n",
       "  50257,\n",
       "  50257,\n",
       "  50257,\n",
       "  50257,\n",
       "  50257,\n",
       "  50257,\n",
       "  50257,\n",
       "  50257,\n",
       "  50257,\n",
       "  50257,\n",
       "  50257,\n",
       "  50257,\n",
       "  50257,\n",
       "  50257,\n",
       "  50257,\n",
       "  50257,\n",
       "  50257,\n",
       "  50257,\n",
       "  50257,\n",
       "  50257,\n",
       "  50257,\n",
       "  50257,\n",
       "  50257,\n",
       "  50257,\n",
       "  50257,\n",
       "  50257,\n",
       "  50257,\n",
       "  50257,\n",
       "  50257,\n",
       "  50257,\n",
       "  50257,\n",
       "  50257,\n",
       "  50257,\n",
       "  50257,\n",
       "  50257,\n",
       "  50257,\n",
       "  50257,\n",
       "  50257,\n",
       "  50257,\n",
       "  50257,\n",
       "  50257,\n",
       "  50257,\n",
       "  50257,\n",
       "  50257,\n",
       "  50257,\n",
       "  50257,\n",
       "  50257,\n",
       "  50257,\n",
       "  50257,\n",
       "  50257,\n",
       "  50257,\n",
       "  50257,\n",
       "  50257,\n",
       "  50257,\n",
       "  50257,\n",
       "  50257,\n",
       "  50257,\n",
       "  50257,\n",
       "  50257,\n",
       "  50257,\n",
       "  50257,\n",
       "  50257,\n",
       "  50257,\n",
       "  50257,\n",
       "  50257,\n",
       "  50257,\n",
       "  50257,\n",
       "  50257,\n",
       "  50257,\n",
       "  50257,\n",
       "  50257],\n",
       " 'score_ta': 14.375,\n",
       " 'filename': '/home/ubuntu/newsonair_v5/tamil/NSD-Tamil-Tamil-0715-0725-201810118533/sent_13.wav'}"
      ]
     },
     "execution_count": 10,
     "metadata": {},
     "output_type": "execute_result"
    }
   ],
   "source": [
    "with open(files[0]) as fopen:\n",
    "    d = json.load(fopen)\n",
    "    \n",
    "d[0]"
   ]
  },
  {
   "cell_type": "code",
   "execution_count": 11,
   "id": "64c48109",
   "metadata": {},
   "outputs": [
    {
     "data": {
      "application/vnd.jupyter.widget-view+json": {
       "model_id": "7487f3fcd6ea422fa4073962cc29dc5d",
       "version_major": 2,
       "version_minor": 0
      },
      "text/plain": [
       "translate-tamil-ms.json:   0%|          | 0.00/394M [00:00<?, ?B/s]"
      ]
     },
     "metadata": {},
     "output_type": "display_data"
    }
   ],
   "source": [
    "from huggingface_hub import hf_hub_download\n",
    "\n",
    "f = hf_hub_download(\n",
    "    repo_id=\"mesolitica/pseudolabel-tamil-large-v3-timestamp\", \n",
    "    filename=\"translate-tamil-ms.json\",\n",
    "    repo_type = 'dataset'\n",
    ")"
   ]
  },
  {
   "cell_type": "code",
   "execution_count": 12,
   "id": "bb20c034",
   "metadata": {},
   "outputs": [
    {
     "data": {
      "text/plain": [
       "481437"
      ]
     },
     "execution_count": 12,
     "metadata": {},
     "output_type": "execute_result"
    }
   ],
   "source": [
    "with open(f) as fopen:\n",
    "    translation = json.load(fopen)\n",
    "\n",
    "len(translation)"
   ]
  },
  {
   "cell_type": "code",
   "execution_count": 13,
   "id": "8c15e31c",
   "metadata": {},
   "outputs": [
    {
     "data": {
      "text/plain": [
       "12954"
      ]
     },
     "execution_count": 13,
     "metadata": {},
     "output_type": "execute_result"
    }
   ],
   "source": [
    "len(files)"
   ]
  },
  {
   "cell_type": "code",
   "execution_count": 14,
   "id": "9551e7ef",
   "metadata": {},
   "outputs": [],
   "source": [
    "import mp\n",
    "import copy\n",
    "\n",
    "minimum_score = 5\n",
    "\n",
    "def loop(files):\n",
    "    \n",
    "    tokenizer = AutoTokenizer.from_pretrained('openai/whisper-large-v3')\n",
    "    \n",
    "    files, _ = files\n",
    "    results = []\n",
    "    for f in tqdm(files):\n",
    "        try:\n",
    "            with open(f) as fopen:\n",
    "                data = json.load(fopen)\n",
    "        except:\n",
    "            continue\n",
    "        f_split = os.path.split(f)[-1].replace('.json', '')\n",
    "        for i in range(len(data)):\n",
    "            \n",
    "            audio_filename = data[i]['filename']\n",
    "            if not os.path.exists(audio_filename):\n",
    "                continue\n",
    "                \n",
    "            y = audio.decode_example(audio.encode_example(audio_filename))['array']\n",
    "            len_y = len(y) / sr\n",
    "            if len_y > 30:\n",
    "                continue\n",
    "            rounded_num = f'<|{round_to_nearest_0_02(len_y):.2f}|>'\n",
    "                    \n",
    "            \n",
    "            if data[i]['score_ta'] > minimum_score:\n",
    "                \n",
    "                a = tokenizer._decode_asr(\n",
    "                [{'tokens': np.array([data[i]['predict_ta']])}], \n",
    "                return_timestamps = True, return_language = 'ta', \n",
    "                time_precision = 0.02)[1]['chunks']\n",
    "            \n",
    "                a = [a_['text'] for a_ in a]\n",
    "                \n",
    "                t = ' |'.join(a)\n",
    "                if t not in translation:\n",
    "                    continue\n",
    "                    \n",
    "                t_translated = translation[t]\n",
    "                t_translated_splitted = t_translated.split('|')\n",
    "                if len(t_translated_splitted) != len(a):\n",
    "                    continue\n",
    "                \n",
    "                mapping = {}\n",
    "                for k in range(len(a)):\n",
    "                    s = t_translated_splitted[k].strip()\n",
    "                    if a[k][0] == ' ':\n",
    "                        s = ' ' + s\n",
    "                    if a[k][-1] == ' ':\n",
    "                        s = s + ' '\n",
    "                    mapping[a[k]] = s\n",
    "            \n",
    "                a = np.array(data[i]['predict_ta'])\n",
    "                a = a[a != 50257].tolist() + [50257]\n",
    "                t = tokenizer.decode(a, skip_special_tokens = True, decode_with_timestamps = True).strip()\n",
    "                if t.split('|>')[-1] != '':\n",
    "                    t += rounded_num\n",
    "                \n",
    "                matches = re.findall(pattern_pair, t)\n",
    "                rs = []\n",
    "                for match in matches:\n",
    "                    l = float(match[0])\n",
    "                    r = float(match[2])\n",
    "                    t_ = match[1]\n",
    "                    rt_ = re.sub('[^a-z ]+', '', t_.lower()).strip()\n",
    "                    if (r - l > 3) and any([s == rt_ for s in selected]):\n",
    "                        # print(audio_filename, t_)\n",
    "                        t_ = ''\n",
    "                    else:\n",
    "                        if t_ in mapping:\n",
    "                            t_ = mapping[t_]\n",
    "                        else:\n",
    "                            t_ = ''\n",
    "                    \n",
    "                    splitted = t_.split()\n",
    "                    if len(splitted):\n",
    "                        ratio = (len(set(splitted)) / len(splitted))\n",
    "                        if len(t_) > 100 and ratio < 0.5:\n",
    "                            t_ = remove_duplicate(t_)\n",
    "                    if len(t_) and t_[0] != ' ':\n",
    "                        t_ = ' ' + t_\n",
    "                            \n",
    "                    rs.append(f'<|{match[0]}|>{t_}<|{match[2]}|>')\n",
    "                    \n",
    "                rs = ''.join(rs)\n",
    "                t = f'<|startoftranscript|><|ms|><|transcribe|>{rs}<|endoftext|>'\n",
    "                d = {\n",
    "                    'new_text': t,\n",
    "                    'audio_filename': audio_filename,\n",
    "                }\n",
    "                results.append(d)\n",
    "    return results"
   ]
  },
  {
   "cell_type": "code",
   "execution_count": 15,
   "id": "0e677cb5",
   "metadata": {},
   "outputs": [
    {
     "name": "stderr",
     "output_type": "stream",
     "text": [
      "Special tokens have been added in the vocabulary, make sure the associated word embeddings are fine-tuned or trained.\n",
      " 10%|█         | 1/10 [00:00<00:08,  1.09it/s]Whisper did not predict an ending timestamp, which can happen if audio is cut off in the middle of a word. Also make sure WhisperTimeStampLogitsProcessor was used during generation.\n",
      "Whisper did not predict an ending timestamp, which can happen if audio is cut off in the middle of a word. Also make sure WhisperTimeStampLogitsProcessor was used during generation.\n",
      "Whisper did not predict an ending timestamp, which can happen if audio is cut off in the middle of a word. Also make sure WhisperTimeStampLogitsProcessor was used during generation.\n",
      "Whisper did not predict an ending timestamp, which can happen if audio is cut off in the middle of a word. Also make sure WhisperTimeStampLogitsProcessor was used during generation.\n",
      " 20%|██        | 2/10 [00:01<00:04,  1.96it/s]Whisper did not predict an ending timestamp, which can happen if audio is cut off in the middle of a word. Also make sure WhisperTimeStampLogitsProcessor was used during generation.\n",
      "Whisper did not predict an ending timestamp, which can happen if audio is cut off in the middle of a word. Also make sure WhisperTimeStampLogitsProcessor was used during generation.\n",
      " 30%|███       | 3/10 [00:01<00:02,  2.67it/s]Whisper did not predict an ending timestamp, which can happen if audio is cut off in the middle of a word. Also make sure WhisperTimeStampLogitsProcessor was used during generation.\n",
      "Whisper did not predict an ending timestamp, which can happen if audio is cut off in the middle of a word. Also make sure WhisperTimeStampLogitsProcessor was used during generation.\n",
      "Whisper did not predict an ending timestamp, which can happen if audio is cut off in the middle of a word. Also make sure WhisperTimeStampLogitsProcessor was used during generation.\n",
      "Whisper did not predict an ending timestamp, which can happen if audio is cut off in the middle of a word. Also make sure WhisperTimeStampLogitsProcessor was used during generation.\n",
      "Whisper did not predict an ending timestamp, which can happen if audio is cut off in the middle of a word. Also make sure WhisperTimeStampLogitsProcessor was used during generation.\n",
      "Whisper did not predict an ending timestamp, which can happen if audio is cut off in the middle of a word. Also make sure WhisperTimeStampLogitsProcessor was used during generation.\n",
      "Whisper did not predict an ending timestamp, which can happen if audio is cut off in the middle of a word. Also make sure WhisperTimeStampLogitsProcessor was used during generation.\n",
      " 40%|████      | 4/10 [00:01<00:01,  3.27it/s]Whisper did not predict an ending timestamp, which can happen if audio is cut off in the middle of a word. Also make sure WhisperTimeStampLogitsProcessor was used during generation.\n",
      "Whisper did not predict an ending timestamp, which can happen if audio is cut off in the middle of a word. Also make sure WhisperTimeStampLogitsProcessor was used during generation.\n",
      "Whisper did not predict an ending timestamp, which can happen if audio is cut off in the middle of a word. Also make sure WhisperTimeStampLogitsProcessor was used during generation.\n",
      " 50%|█████     | 5/10 [00:01<00:01,  3.70it/s]Whisper did not predict an ending timestamp, which can happen if audio is cut off in the middle of a word. Also make sure WhisperTimeStampLogitsProcessor was used during generation.\n",
      " 60%|██████    | 6/10 [00:01<00:01,  3.92it/s]Whisper did not predict an ending timestamp, which can happen if audio is cut off in the middle of a word. Also make sure WhisperTimeStampLogitsProcessor was used during generation.\n",
      "Whisper did not predict an ending timestamp, which can happen if audio is cut off in the middle of a word. Also make sure WhisperTimeStampLogitsProcessor was used during generation.\n",
      " 70%|███████   | 7/10 [00:02<00:00,  4.13it/s]Whisper did not predict an ending timestamp, which can happen if audio is cut off in the middle of a word. Also make sure WhisperTimeStampLogitsProcessor was used during generation.\n",
      "Whisper did not predict an ending timestamp, which can happen if audio is cut off in the middle of a word. Also make sure WhisperTimeStampLogitsProcessor was used during generation.\n",
      "Whisper did not predict an ending timestamp, which can happen if audio is cut off in the middle of a word. Also make sure WhisperTimeStampLogitsProcessor was used during generation.\n",
      " 80%|████████  | 8/10 [00:02<00:00,  4.37it/s]Whisper did not predict an ending timestamp, which can happen if audio is cut off in the middle of a word. Also make sure WhisperTimeStampLogitsProcessor was used during generation.\n",
      "Whisper did not predict an ending timestamp, which can happen if audio is cut off in the middle of a word. Also make sure WhisperTimeStampLogitsProcessor was used during generation.\n",
      "Whisper did not predict an ending timestamp, which can happen if audio is cut off in the middle of a word. Also make sure WhisperTimeStampLogitsProcessor was used during generation.\n",
      " 90%|█████████ | 9/10 [00:02<00:00,  4.45it/s]Whisper did not predict an ending timestamp, which can happen if audio is cut off in the middle of a word. Also make sure WhisperTimeStampLogitsProcessor was used during generation.\n",
      "Whisper did not predict an ending timestamp, which can happen if audio is cut off in the middle of a word. Also make sure WhisperTimeStampLogitsProcessor was used during generation.\n",
      "100%|██████████| 10/10 [00:02<00:00,  3.52it/s]\n"
     ]
    }
   ],
   "source": [
    "results = loop((files[:10], 0))"
   ]
  },
  {
   "cell_type": "code",
   "execution_count": 16,
   "id": "f6b5a84f",
   "metadata": {},
   "outputs": [
    {
     "data": {
      "text/plain": [
       "347"
      ]
     },
     "execution_count": 16,
     "metadata": {},
     "output_type": "execute_result"
    }
   ],
   "source": [
    "len(results)"
   ]
  },
  {
   "cell_type": "code",
   "execution_count": 17,
   "id": "afa61585",
   "metadata": {},
   "outputs": [
    {
     "data": {
      "text/plain": [
       "[{'new_text': '<|startoftranscript|><|ms|><|transcribe|><|0.00|> Beliau berkata hari ini walaupun ciri keselamatan dalam sektor penerbangan bertaraf dunia, ia perlu dipertingkatkan lagi.<|8.20|><|endoftext|>',\n",
       "  'audio_filename': '/home/ubuntu/newsonair_v5/tamil/NSD-Tamil-Tamil-0715-0725-201810118533/sent_13.wav'}]"
      ]
     },
     "execution_count": 17,
     "metadata": {},
     "output_type": "execute_result"
    }
   ],
   "source": [
    "results[:1]"
   ]
  },
  {
   "cell_type": "code",
   "execution_count": 18,
   "id": "972a4ae4",
   "metadata": {},
   "outputs": [
    {
     "data": {
      "text/plain": [
       "[{'new_text': '<|startoftranscript|><|ms|><|transcribe|><|0.00|> Jika pelajar yang berpindah ke institut pendidikan lain tidak mengembalikan yuran pengajian, kolej yang berkenaan dan giginya akan diambil kerana berjalan di helang.<|10.98|><|10.98|> Jabatan Sumber Manusia Pusat akan kekal.<|13.58|><|endoftext|>',\n",
       "  'audio_filename': '/home/ubuntu/newsonair_v5/tamil/NSD-Tamil-Tamil-0715-0725-201810118533/sent_39.wav'},\n",
       " {'new_text': '<|startoftranscript|><|ms|><|transcribe|><|0.00|> Dia juga menunjukkan bahawa pendidikan pra-sekolah telah dilarang.<|6.00|><|6.00|> Apa yang anda dengar adalah laporan berita Akashavani.<|10.14|><|endoftext|>',\n",
       "  'audio_filename': '/home/ubuntu/newsonair_v5/tamil/NSD-Tamil-Tamil-0715-0725-201810118533/sent_42.wav'},\n",
       " {'new_text': '<|startoftranscript|><|ms|><|transcribe|><|0.00|> Untuk menerbitkan Roll Pilihan Raya Iruthi yang diumumkan di Telangana,<|3.10|><|3.24|> Mahkamah Tinggi Hyderabad telah memberikan kebenaran kepada Suruhanjaya Pilihan Raya.<|7.14|><|endoftext|>',\n",
       "  'audio_filename': '/home/ubuntu/newsonair_v5/tamil/NSD-Tamil-Tamil-0715-0725-201810118533/sent_5.wav'},\n",
       " {'new_text': '<|startoftranscript|><|ms|><|transcribe|><|0.00|> Berita Terperinci<|1.10|><|1.10|> Fasa kedua pengundian bait di Jammu dan Kashmir sedang dijalankan hari ini.<|6.36|><|endoftext|>',\n",
       "  'audio_filename': '/home/ubuntu/newsonair_v5/tamil/NSD-Tamil-Tamil-0715-0725-201810107592/sent_10.wav'},\n",
       " {'new_text': '<|startoftranscript|><|ms|><|transcribe|><|0.00|> Penduduk kawasan Kadargarai juga telah diminta untuk berpindah ke tempat yang lebih selamat.<|4.54|><|4.54|> Anda boleh bertanya.<|6.50|><|endoftext|>',\n",
       "  'audio_filename': '/home/ubuntu/newsonair_v5/tamil/NSD-Tamil-Tamil-0715-0725-201810107592/sent_41.wav'},\n",
       " {'new_text': '<|startoftranscript|><|ms|><|transcribe|><|0.00|> Presiden Kongres Manila 3M Sasidhar Reddy memfailkan petisyen berhubung<|4.24|><|4.24|> Ketua Hakim Negara Radha Krishnan, Ketua Hakim Mahkamah Tinggi, mendengar siasatan itu<|8.62|><|endoftext|>',\n",
       "  'audio_filename': '/home/ubuntu/newsonair_v5/tamil/NSD-Tamil-Tamil-0715-0725-201810118533/sent_54.wav'},\n",
       " {'new_text': '<|startoftranscript|><|ms|><|transcribe|><|0.00|> Berbantah dengan pengumuman bahawa calon gabungan pembangkang memenangi pilihan raya presiden yang diadakan bulan lalu di Maldives,<|6.18|><|6.18|> Presiden Encik Abdulayamin Annattu Uchaninithi telah memfailkan kes di Manduram.<|10.78|><|endoftext|>',\n",
       "  'audio_filename': '/home/ubuntu/newsonair_v5/tamil/NSD-Tamil-Tamil-0715-0725-201810118533/sent_64.wav'},\n",
       " {'new_text': '<|startoftranscript|><|ms|><|transcribe|><|0.00|> Hyderabad Uyanidi Mandram telah membersihkan mandat Suruhanjaya Telangana untuk menarik senarai.<|4.42|><|4.42|> Cyclone Thetlip mendarat di Gopalpur Odisha pagi ini.<|8.90|><|8.90|> Dengan ini, mesej ini selesai.<|11.48|><|endoftext|>',\n",
       "  'audio_filename': '/home/ubuntu/newsonair_v5/tamil/NSD-Tamil-Tamil-0715-0725-201810118533/sent_72.wav'},\n",
       " {'new_text': '<|startoftranscript|><|ms|><|transcribe|><|0.00|> Kerajaan pusat menafikan laporan bahawa tapak internet akan disekat di India.<|5.98|><|5.98|> Bercakap kepada media, Pengarah Pertubuhan Keselamatan Rangkaian Kebangsaan, Thirukulshan Roy, berkata bahawa tiada tempat untuk perbincangan menutup laman web.<|14.94|><|14.94|> Beliau berkata, semua langkah telah diambil untuk memastikan platform berfungsi tanpa sebarang penutupan.<|20.22|><|endoftext|>',\n",
       "  'audio_filename': '/home/ubuntu/newsonair_v5/tamil/NSD-Tamil-Tamil-0715-0725-2018101381625/sent_19.wav'},\n",
       " {'new_text': '<|startoftranscript|><|ms|><|transcribe|><|0.00|> Apa yang tidak dilakukan oleh parti Kongres dalam 48 tahun,<|2.88|><|3.26|> b J P. Beliau juga menyebut bahawa kerajaan telah siap dalam 48 bulan.<|8.38|><|endoftext|>',\n",
       "  'audio_filename': '/home/ubuntu/newsonair_v5/tamil/NSD-Tamil-Tamil-0715-0725-201810107592/sent_51.wav'},\n",
       " {'new_text': '<|startoftranscript|><|ms|><|transcribe|><|0.00|> Kerajaan Pusat akan mengumumkan dasar pembatalan kargo udara tidak lama lagi,<|4.08|><|4.08|> Amichathru Suresh Prabhu telah muncul untuk Athurai.<|7.40|><|endoftext|>',\n",
       "  'audio_filename': '/home/ubuntu/newsonair_v5/tamil/NSD-Tamil-Tamil-0715-0725-201810118533/sent_10.wav'},\n",
       " {'new_text': '<|startoftranscript|><|ms|><|transcribe|><|0.00|> Polis CBCID Tamilgam yang menyiasat kejadian rompakan ini yang berlaku pada Ogos 2016<|6.78|><|6.78|> Dinesh dan Rohan Parthi, yang tinggal di Chennai, turut ditahan<|12.08|><|endoftext|>',\n",
       "  'audio_filename': '/home/ubuntu/newsonair_v5/tamil/NSD-Tamil-Tamil-0715-0725-2018101475736/sent_50.wav'},\n",
       " {'new_text': '<|startoftranscript|><|ms|><|transcribe|><|0.00|> Berita terperinci<|2.00|><|3.06|> Siang dan malam, Menteri Komunikasi berputar<|5.00|><|endoftext|>',\n",
       "  'audio_filename': '/home/ubuntu/newsonair_v5/tamil/NSD-Tamil-Tamil-0715-0725-2018101575524/sent_12.wav'},\n",
       " {'new_text': '<|startoftranscript|><|ms|><|transcribe|><|0.00|> Menyebut pembatalan pilihan raya presiden baru-baru ini di Maldives,<|3.04|><|3.16|> Kes Presiden Abdulla Yamin Medhu,<|5.54|><|5.58|> Siasatan akan diteruskan hari ini.<|8.00|><|endoftext|>',\n",
       "  'audio_filename': '/home/ubuntu/newsonair_v5/tamil/NSD-Tamil-Tamil-0715-0725-2018101575524/sent_39.wav'},\n",
       " {'new_text': '<|startoftranscript|><|ms|><|transcribe|><|0.00|> Tuduhan Akbar Tamidana Balis<|2.04|><|2.04|> Sumber asas didedahkan kepada saya oleh orang lain.<|4.32|><|endoftext|>',\n",
       "  'audio_filename': '/home/ubuntu/newsonair_v5/tamil/NSD-Tamil-Tamil-0715-0725-2018101575524/sent_4.wav'},\n",
       " {'new_text': '<|startoftranscript|><|ms|><|transcribe|><|0.00|> Pertandingan Badminton Lelaki di Orsay Periville<|2.52|><|2.52|> Lakshayasan raih pingat perak.<|4.26|><|endoftext|>',\n",
       "  'audio_filename': '/home/ubuntu/newsonair_v5/tamil/NSD-Tamil-Tamil-0715-0725-2018101381625/sent_65.wav'},\n",
       " {'new_text': '<|startoftranscript|><|ms|><|transcribe|><|0.00|> Timing of the first day of the second and Irthi Tess cricket match against India started in Hyderabad<|6.62|><|6.62|> Vestrinthi Shani scored 295 runs for 7 wickets in his first innings.<|11.56|><|endoftext|>',\n",
       "  'audio_filename': '/home/ubuntu/newsonair_v5/tamil/NSD-Tamil-Tamil-0715-0725-2018101381625/sent_67.wav'},\n",
       " {'new_text': '<|startoftranscript|><|ms|><|transcribe|><|0.00|> Mengundi dalam Pilihan Raya Kerajaan Tempatan Keempat dan Kedua,<|3.00|><|3.14|> Esok hari lagi.<|4.78|><|endoftext|>',\n",
       "  'audio_filename': '/home/ubuntu/newsonair_v5/tamil/NSD-Tamil-Tamil-0715-0725-2018101475736/sent_18.wav'},\n",
       " {'new_text': '<|startoftranscript|><|ms|><|transcribe|><|0.00|> Pusat Pembangunan Thiran Perdana Menteri Patti Alavi Pemprosesan Makanan Pusat Thurayamichcha Smt.<|5.22|><|5.66|> Har Simrat memulakan Khavarupadal.<|7.96|><|endoftext|>',\n",
       "  'audio_filename': '/home/ubuntu/newsonair_v5/tamil/NSD-Tamil-Tamil-0715-0725-2018101475736/sent_28.wav'},\n",
       " {'new_text': '<|startoftranscript|><|ms|><|transcribe|><|0.00|> Bercakap di Ranchi semalam, Jargonmanilam meminta atlet bekerja keras untuk memenangi pingat emas pertama dalam Sukan Olimpik 2024 akan datang.<|13.48|><|13.48|> Apa yang anda dengar ialah berita Akashavani.<|17.12|><|endoftext|>',\n",
       "  'audio_filename': '/home/ubuntu/newsonair_v5/tamil/NSD-Tamil-Tamil-0715-0725-2018101475736/sent_33.wav'},\n",
       " {'new_text': '<|startoftranscript|><|ms|><|transcribe|><|0.00|> Pengundian Munram Katta untuk badan tempatan bandar di Jammu Kashmen akan berlangsung hari ini.<|5.18|><|5.18|> Pilihan raya akan berlangsung hari ini untuk empat majlis perbandaran iaitu Chamba, Vijaypur, Ramgarh dan Paripramana daerah Chamba di bahagian Jammu.<|13.74|><|endoftext|>',\n",
       "  'audio_filename': '/home/ubuntu/newsonair_v5/tamil/NSD-Tamil-Tamil-0715-0725-2018101381625/sent_28.wav'},\n",
       " {'new_text': '<|startoftranscript|><|ms|><|transcribe|><|0.00|> Semua pengaturan telah dibuat untuk pengundian.<|2.52|><|2.52|> Mesin pengundian dan bahan lain telah dibawa ke gerai pengundian dan bersedia.<|8.12|><|endoftext|>',\n",
       "  'audio_filename': '/home/ubuntu/newsonair_v5/tamil/NSD-Tamil-Tamil-0715-0725-2018101381625/sent_29.wav'},\n",
       " {'new_text': '<|startoftranscript|><|ms|><|transcribe|><|0.00|> Beliau juga mendedikasikan kemudahan baharu institusi ini kepada negara.<|3.20|><|3.90|> Apa yang anda dengar ialah berita Aagashavani.<|7.12|><|endoftext|>',\n",
       "  'audio_filename': '/home/ubuntu/newsonair_v5/tamil/NSD-Tamil-Tamil-0715-0725-2018101381625/sent_43.wav'},\n",
       " {'new_text': '<|startoftranscript|><|ms|><|transcribe|><|0.00|> Zakir Naik, dituduh di bawah Akta Aktiviti Haram, telah diisytiharkan sebagai tertuduh yang dikehendaki dua tahun lalu.<|8.04|><|8.04|> Dia telah dituduh mendorong ramai belia untuk terlibat dalam aktiviti pengganas melalui propagandanya.<|14.74|><|endoftext|>',\n",
       "  'audio_filename': '/home/ubuntu/newsonair_v5/tamil/NSD-Tamil-Tamil-0715-0725-2018101381625/sent_59.wav'},\n",
       " {'new_text': '<|startoftranscript|><|ms|><|transcribe|><|0.00|> Dalam kategori kuak dada 10 meter, Pekstan Baisule Tajikistan<|4.20|><|4.20|> Dia gagal dan menjual pingat perak<|6.24|><|endoftext|>',\n",
       "  'audio_filename': '/home/ubuntu/newsonair_v5/tamil/NSD-Tamil-Tamil-0715-0725-2018101381625/sent_61.wav'},\n",
       " {'new_text': '<|startoftranscript|><|ms|><|transcribe|><|0.00|> Orang muda memohon lesen kenderaan<|3.02|><|3.02|> Untuk tujuan menyediakan pajakan yang betul dan membina<|6.72|><|6.72|> Projek ini telah diperkenalkan<|8.36|><|8.36|> Trend Jalan Tengah dan Jabatan Lebuhraya<|11.90|><|endoftext|>',\n",
       "  'audio_filename': '/home/ubuntu/newsonair_v5/tamil/NSD-Tamil-Tamil-0715-0725-2018101681738/sent_51.wav'},\n",
       " {'new_text': '<|startoftranscript|><|ms|><|transcribe|><|0.00|> Sehubungan itu, kenyataan yang dikeluarkan Kementerian Dalam Negeri menyatakan bahawa perintah terdahulu yang perlu didaftarkan oleh warga asing di pejabat pendaftaran dalam tempoh 24 jam selepas ketibaan mereka di Kepulauan Andama Nicobar dijelaskan.<|13.38|><|13.38|> Keputusan itu selaras dengan cadangan kementerian pelancongan untuk meningkatkan kemasukan perintis pelancongan asing.<|21.24|><|endoftext|>',\n",
       "  'audio_filename': '/home/ubuntu/newsonair_v5/tamil/NSD-Tamil-Tamil-0715-0725-2018101681738/sent_58.wav'},\n",
       " {'new_text': '<|startoftranscript|><|ms|><|transcribe|><|0.00|> Jeremy Hunt<|0.78|><|0.78|> Brinj Outing Durai Minister Thirunji<|2.58|><|endoftext|>',\n",
       "  'audio_filename': '/home/ubuntu/newsonair_v5/tamil/NSD-Tamil-Tamil-0715-0725-2018101575524/sent_50.wav'},\n",
       " {'new_text': '<|startoftranscript|><|ms|><|transcribe|><|0.00|> Jean-Yuez Leitrion<|1.62|><|1.62|> Menteri Luar Jerman<|3.24|><|endoftext|>',\n",
       "  'audio_filename': '/home/ubuntu/newsonair_v5/tamil/NSD-Tamil-Tamil-0715-0725-2018101575524/sent_51.wav'},\n",
       " {'new_text': '<|startoftranscript|><|ms|><|transcribe|><|0.00|> Dalam laporan bersama diterbitkan Haigo Mas<|3.38|><|3.38|> Mereka telah meminta untuk bertanggungjawab.<|6.10|><|endoftext|>',\n",
       "  'audio_filename': '/home/ubuntu/newsonair_v5/tamil/NSD-Tamil-Tamil-0715-0725-2018101575524/sent_52.wav'},\n",
       " {'new_text': '<|startoftranscript|><|ms|><|transcribe|><|0.00|> Larry Kutulo, ketua pegawai ekonomi White Malikuk, bercakap di rancangan televisyen,<|4.70|><|4.70|> Kenchar merayu bahawa tidak ada kemungkinan untuk memperbaiki hubungan antara kedua-dua negara.<|10.04|><|endoftext|>',\n",
       "  'audio_filename': '/home/ubuntu/newsonair_v5/tamil/NSD-Tamil-Tamil-0715-0725-2018101575524/sent_59.wav'},\n",
       " {'new_text': '<|startoftranscript|><|ms|><|transcribe|><|0.00|> Beliau berkata bahawa serangan sedang dijalankan menyasarkan orang awam.<|4.40|><|4.40|> Dalam insiden pengeboman di Anga Anmai<|6.56|><|6.56|> Takziah kepada keluarga mangsa,<|10.16|><|10.16|> Thirukudara berkata bahawa dia berdoa untuk pemulihan pantas mangsa yang cedera.<|14.64|><|endoftext|>',\n",
       "  'audio_filename': '/home/ubuntu/newsonair_v5/tamil/NSD-Tamil-Tamil-0715-0725-2018101575524/sent_63.wav'},\n",
       " {'new_text': '<|startoftranscript|><|ms|><|transcribe|><|0.00|> Pesawat cuba berlepas dari satu landasan dan berlepas dari landasan biasa.<|4.50|><|4.50|> Polis berkata, ini punca kemalangan.<|7.86|><|endoftext|>',\n",
       "  'audio_filename': '/home/ubuntu/newsonair_v5/tamil/NSD-Tamil-Tamil-0715-0725-2018101575524/sent_69.wav'}]"
      ]
     },
     "execution_count": 18,
     "metadata": {},
     "output_type": "execute_result"
    }
   ],
   "source": [
    "[r for r in results if r['new_text'].count('<|') > 6]"
   ]
  },
  {
   "cell_type": "code",
   "execution_count": 19,
   "id": "2009d184",
   "metadata": {
    "scrolled": false
   },
   "outputs": [],
   "source": [
    "# tokenizer = AutoTokenizer.from_pretrained('openai/whisper-medium')\n",
    "# ori_tokenizer = AutoTokenizer.from_pretrained('openai/whisper-large-v3')"
   ]
  },
  {
   "cell_type": "code",
   "execution_count": 20,
   "id": "e76094ad",
   "metadata": {
    "scrolled": true
   },
   "outputs": [],
   "source": [
    "# tokenizer.tokenize(results[-1]['new_text'])"
   ]
  },
  {
   "cell_type": "code",
   "execution_count": 30,
   "id": "e9f8c38d",
   "metadata": {
    "scrolled": true
   },
   "outputs": [],
   "source": [
    "results = mp.multiprocessing(files, loop, cores = 50)"
   ]
  },
  {
   "cell_type": "code",
   "execution_count": 22,
   "id": "cbe6cb36",
   "metadata": {},
   "outputs": [
    {
     "data": {
      "text/plain": [
       "442058"
      ]
     },
     "execution_count": 22,
     "metadata": {},
     "output_type": "execute_result"
    }
   ],
   "source": [
    "len(results)"
   ]
  },
  {
   "cell_type": "code",
   "execution_count": 23,
   "id": "ed9524b0",
   "metadata": {},
   "outputs": [
    {
     "data": {
      "text/plain": [
       "{'new_text': '<|startoftranscript|><|ms|><|transcribe|><|0.00|> Setakat ini, 16.73 talian telah diuji untuk Covid-19.<|4.60|><|endoftext|>',\n",
       " 'audio_filename': '/home/ubuntu/newsonair_v5/tamil/Regional-Tiruchirapalli-Tamil-1345-202158145135/sent_65.wav'}"
      ]
     },
     "execution_count": 23,
     "metadata": {},
     "output_type": "execute_result"
    }
   ],
   "source": [
    "results[-2]"
   ]
  },
  {
   "cell_type": "code",
   "execution_count": 24,
   "id": "90dcfc06",
   "metadata": {},
   "outputs": [],
   "source": [
    "from sklearn.model_selection import train_test_split\n",
    "train, test = train_test_split(results, test_size = 200)"
   ]
  },
  {
   "cell_type": "code",
   "execution_count": 25,
   "id": "dbbd91b0",
   "metadata": {
    "scrolled": true
   },
   "outputs": [
    {
     "name": "stderr",
     "output_type": "stream",
     "text": [
      "100%|██████████| 441858/441858 [00:01<00:00, 266200.53it/s]\n"
     ]
    }
   ],
   "source": [
    "with open('prepared-tamil-ms.jsonl', 'w') as fopen:\n",
    "    for r in tqdm(train):\n",
    "        fopen.write(f'{json.dumps(r)}\\n')"
   ]
  },
  {
   "cell_type": "code",
   "execution_count": 26,
   "id": "054f4551",
   "metadata": {},
   "outputs": [
    {
     "name": "stdout",
     "output_type": "stream",
     "text": [
      "-rw-r--r-- 1 ubuntu ubuntu 131M Apr 27 10:32 prepared-tamil-ms.jsonl\r\n"
     ]
    }
   ],
   "source": [
    "!ls -lh prepared-tamil-ms.jsonl"
   ]
  },
  {
   "cell_type": "code",
   "execution_count": 27,
   "id": "fa611004",
   "metadata": {},
   "outputs": [],
   "source": [
    "from huggingface_hub import HfApi\n",
    "api = HfApi()"
   ]
  },
  {
   "cell_type": "code",
   "execution_count": 28,
   "id": "914c3f55",
   "metadata": {},
   "outputs": [
    {
     "data": {
      "application/vnd.jupyter.widget-view+json": {
       "model_id": "c1a57bedb6ae4343856a14788d3e0195",
       "version_major": 2,
       "version_minor": 0
      },
      "text/plain": [
       "prepared-tamil-ms.jsonl:   0%|          | 0.00/137M [00:00<?, ?B/s]"
      ]
     },
     "metadata": {},
     "output_type": "display_data"
    },
    {
     "data": {
      "text/plain": [
       "'https://huggingface.co/datasets/mesolitica/pseudolabel-tamil-large-v3-timestamp/blob/main/prepared-tamil-ms.jsonl'"
      ]
     },
     "execution_count": 28,
     "metadata": {},
     "output_type": "execute_result"
    }
   ],
   "source": [
    "api.upload_file(\n",
    "    path_or_fileobj='prepared-tamil-ms.jsonl',\n",
    "    path_in_repo='prepared-tamil-ms.jsonl',\n",
    "    repo_id='mesolitica/pseudolabel-tamil-large-v3-timestamp',\n",
    "    repo_type='dataset',\n",
    ")"
   ]
  },
  {
   "cell_type": "code",
   "execution_count": 29,
   "id": "b7328c66",
   "metadata": {},
   "outputs": [
    {
     "name": "stdout",
     "output_type": "stream",
     "text": [
      "441858 prepared-tamil-ms.jsonl\r\n"
     ]
    }
   ],
   "source": [
    "!wc -l prepared-tamil-ms.jsonl"
   ]
  },
  {
   "cell_type": "code",
   "execution_count": 31,
   "id": "fee3bb8b",
   "metadata": {},
   "outputs": [],
   "source": [
    "with open('test-tamil-dataset-ms.json', 'w') as fopen:\n",
    "    json.dump(test, fopen)"
   ]
  },
  {
   "cell_type": "code",
   "execution_count": 32,
   "id": "22d0fe2b",
   "metadata": {},
   "outputs": [
    {
     "data": {
      "application/vnd.jupyter.widget-view+json": {
       "model_id": "9017102aad0244d1a9864d97555264f4",
       "version_major": 2,
       "version_minor": 0
      },
      "text/plain": [
       "test-tamil-dataset-ms.json:   0%|          | 0.00/61.8k [00:00<?, ?B/s]"
      ]
     },
     "metadata": {},
     "output_type": "display_data"
    },
    {
     "data": {
      "text/plain": [
       "'https://huggingface.co/datasets/mesolitica/speech-test-set/blob/main/ta-ms/test-tamil-dataset-ms.json'"
      ]
     },
     "execution_count": 32,
     "metadata": {},
     "output_type": "execute_result"
    }
   ],
   "source": [
    "api.upload_file(\n",
    "    path_or_fileobj='test-tamil-dataset-ms.json',\n",
    "    path_in_repo='ta-ms/test-tamil-dataset-ms.json',\n",
    "    repo_id='mesolitica/speech-test-set',\n",
    "    repo_type='dataset',\n",
    ")"
   ]
  },
  {
   "cell_type": "code",
   "execution_count": 36,
   "id": "8693f410",
   "metadata": {},
   "outputs": [],
   "source": [
    "!rm -rf ta-ms\n",
    "!mkdir ta-ms"
   ]
  },
  {
   "cell_type": "code",
   "execution_count": 37,
   "id": "2450fe31",
   "metadata": {},
   "outputs": [
    {
     "data": {
      "text/plain": [
       "200"
      ]
     },
     "execution_count": 37,
     "metadata": {},
     "output_type": "execute_result"
    }
   ],
   "source": [
    "import shutil\n",
    "\n",
    "for t in test:\n",
    "    f = t['audio_filename'].replace('/', '-')\n",
    "    shutil.copyfile(t['audio_filename'], os.path.join('ta-ms', f)) \n",
    "    \n",
    "len(glob('ta-ms/*'))"
   ]
  },
  {
   "cell_type": "code",
   "execution_count": 42,
   "id": "f95eed47",
   "metadata": {},
   "outputs": [],
   "source": [
    "# !sudo apt install zip -y"
   ]
  },
  {
   "cell_type": "code",
   "execution_count": 44,
   "id": "54dd2912",
   "metadata": {},
   "outputs": [],
   "source": [
    "# !zip -r test-ta-ms-audio.zip ta-ms"
   ]
  },
  {
   "cell_type": "code",
   "execution_count": 45,
   "id": "8696d02b",
   "metadata": {},
   "outputs": [
    {
     "data": {
      "application/vnd.jupyter.widget-view+json": {
       "model_id": "f3e1bcbbbb42409e840a9c54352004e4",
       "version_major": 2,
       "version_minor": 0
      },
      "text/plain": [
       "test-ta-ms-audio.zip:   0%|          | 0.00/39.7M [00:00<?, ?B/s]"
      ]
     },
     "metadata": {},
     "output_type": "display_data"
    },
    {
     "data": {
      "text/plain": [
       "'https://huggingface.co/datasets/mesolitica/speech-test-set/blob/main/ta-ms/test-ta-ms-audio.zip'"
      ]
     },
     "execution_count": 45,
     "metadata": {},
     "output_type": "execute_result"
    }
   ],
   "source": [
    "api.upload_file(\n",
    "    path_or_fileobj='test-ta-ms-audio.zip',\n",
    "    path_in_repo='ta-ms/test-ta-ms-audio.zip',\n",
    "    repo_id='mesolitica/speech-test-set',\n",
    "    repo_type='dataset',\n",
    ")"
   ]
  }
 ],
 "metadata": {
  "kernelspec": {
   "display_name": "Python 3 (ipykernel)",
   "language": "python",
   "name": "python3"
  },
  "language_info": {
   "codemirror_mode": {
    "name": "ipython",
    "version": 3
   },
   "file_extension": ".py",
   "mimetype": "text/x-python",
   "name": "python",
   "nbconvert_exporter": "python",
   "pygments_lexer": "ipython3",
   "version": "3.10.12"
  }
 },
 "nbformat": 4,
 "nbformat_minor": 5
}
