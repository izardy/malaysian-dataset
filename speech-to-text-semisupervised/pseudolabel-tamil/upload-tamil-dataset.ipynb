{
 "cells": [
  {
   "cell_type": "code",
   "execution_count": 1,
   "id": "aa088073",
   "metadata": {},
   "outputs": [],
   "source": [
    "from glob import glob\n",
    "from tqdm import tqdm\n",
    "import json\n",
    "import numpy as np\n",
    "import os\n",
    "from transformers import AutoTokenizer, WhisperConfig\n",
    "from sklearn.feature_extraction.text import CountVectorizer\n",
    "\n",
    "config = WhisperConfig.from_pretrained('openai/whisper-large-v3')\n",
    "maxlen = config.max_length - 3"
   ]
  },
  {
   "cell_type": "code",
   "execution_count": 2,
   "id": "5c431b5c",
   "metadata": {},
   "outputs": [
    {
     "name": "stderr",
     "output_type": "stream",
     "text": [
      "Special tokens have been added in the vocabulary, make sure the associated word embeddings are fine-tuned or trained.\n"
     ]
    }
   ],
   "source": [
    "tokenizer = AutoTokenizer.from_pretrained('openai/whisper-large-v3')"
   ]
  },
  {
   "cell_type": "code",
   "execution_count": 3,
   "id": "1db5783c",
   "metadata": {},
   "outputs": [
    {
     "data": {
      "text/plain": [
       "12954"
      ]
     },
     "execution_count": 3,
     "metadata": {},
     "output_type": "execute_result"
    }
   ],
   "source": [
    "files = sorted(glob('output-tamil/*.json'), key = lambda x: int(x.split('-')[-1].replace('.json', '')))\n",
    "len(files)"
   ]
  },
  {
   "cell_type": "code",
   "execution_count": 4,
   "id": "9551e7ef",
   "metadata": {},
   "outputs": [],
   "source": [
    "import mp\n",
    "import copy\n",
    "\n",
    "minimum_score = 6\n",
    "\n",
    "def loop(files):\n",
    "    files, _ = files\n",
    "    results = []\n",
    "    for f in tqdm(files):\n",
    "        try:\n",
    "            with open(f) as fopen:\n",
    "                data = json.load(fopen)\n",
    "        except:\n",
    "            continue\n",
    "        f_split = os.path.split(f)[-1].replace('.json', '')\n",
    "        for i in range(len(data)):\n",
    "            \n",
    "            results.append(data[i])\n",
    "\n",
    "    return results"
   ]
  },
  {
   "cell_type": "code",
   "execution_count": 5,
   "id": "e9f8c38d",
   "metadata": {
    "scrolled": true
   },
   "outputs": [
    {
     "name": "stderr",
     "output_type": "stream",
     "text": [
      " 93%|█████████▎| 241/259 [00:26<00:01,  9.51it/s]\n",
      " 99%|█████████▉| 257/259 [00:27<00:00,  7.30it/s]\n",
      " 93%|█████████▎| 240/259 [00:27<00:02,  7.02it/s]\n",
      "100%|██████████| 259/259 [00:27<00:00,  9.30it/s]\n",
      " 95%|█████████▍| 245/259 [00:27<00:02,  6.65it/s]\n",
      " 94%|█████████▍| 244/259 [00:27<00:01,  7.58it/s]\n",
      " 95%|█████████▌| 247/259 [00:27<00:01,  7.09it/s]\n",
      " 98%|█████████▊| 255/259 [00:28<00:00,  7.59it/s]\n",
      " 95%|█████████▌| 247/259 [00:28<00:01,  7.39it/s]\n",
      " 96%|█████████▌| 248/259 [00:28<00:01,  7.80it/s]\n",
      "100%|██████████| 259/259 [00:28<00:00,  9.00it/s]\n",
      "\n",
      "100%|██████████| 259/259 [00:28<00:00,  9.01it/s]\n",
      "100%|██████████| 259/259 [00:28<00:00,  9.00it/s]\n",
      "\n",
      "100%|██████████| 259/259 [00:28<00:00,  8.99it/s]\n",
      "\n",
      "\n",
      "\n",
      "100%|██████████| 259/259 [00:28<00:00,  8.96it/s]\n",
      " 98%|█████████▊| 253/259 [00:28<00:00,  7.56it/s]\n",
      "100%|██████████| 259/259 [00:28<00:00,  8.95it/s]\n",
      "\n",
      "\n",
      "100%|██████████| 259/259 [00:28<00:00,  8.94it/s]\n",
      "100%|██████████| 259/259 [00:28<00:00,  8.94it/s]\n",
      " 98%|█████████▊| 255/259 [00:28<00:00,  8.64it/s]\n",
      "\n",
      " 99%|█████████▉| 256/259 [00:28<00:00,  9.08it/s]\n",
      "\n",
      "100%|██████████| 259/259 [00:29<00:00,  8.92it/s]\n",
      "\n",
      " 99%|█████████▉| 257/259 [00:29<00:00,  9.92it/s]\n",
      "\n",
      " 99%|█████████▉| 257/259 [00:29<00:00, 11.14it/s]\n",
      " 98%|█████████▊| 255/259 [00:29<00:00,  8.38it/s]\n",
      "100%|██████████| 259/259 [00:29<00:00,  8.65it/s]\n",
      " 98%|█████████▊| 255/259 [00:29<00:00,  8.93it/s]\n",
      "100%|██████████| 259/259 [00:29<00:00,  8.78it/s]\n",
      "100%|██████████| 259/259 [00:29<00:00,  8.78it/s]\n",
      "100%|██████████| 259/259 [00:29<00:00,  8.78it/s]\n",
      "\n",
      "100%|██████████| 259/259 [00:29<00:00,  8.45it/s]\n",
      "100%|██████████| 259/259 [00:29<00:00,  8.77it/s]\n",
      "\n",
      "100%|██████████| 259/259 [00:29<00:00,  8.75it/s]\n",
      "100%|██████████| 259/259 [00:29<00:00,  8.73it/s]\n",
      "100%|██████████| 259/259 [00:29<00:00, 11.26it/s]\n",
      "100%|██████████| 259/259 [00:29<00:00,  8.71it/s]\n",
      "100%|██████████| 259/259 [00:29<00:00,  8.71it/s]\n",
      "100%|██████████| 4/4 [00:02<00:00,  1.72it/s]\n"
     ]
    }
   ],
   "source": [
    "results = mp.multiprocessing(files, loop, cores = 50)"
   ]
  },
  {
   "cell_type": "code",
   "execution_count": 6,
   "id": "f33581b9",
   "metadata": {},
   "outputs": [
    {
     "data": {
      "text/plain": [
       "544068"
      ]
     },
     "execution_count": 6,
     "metadata": {},
     "output_type": "execute_result"
    }
   ],
   "source": [
    "len(results)"
   ]
  },
  {
   "cell_type": "code",
   "execution_count": 7,
   "id": "cbe6cb36",
   "metadata": {},
   "outputs": [
    {
     "data": {
      "text/plain": [
       "{'predict_ta': [50258,\n",
       "  50287,\n",
       "  50360,\n",
       "  50365,\n",
       "  13535,\n",
       "  4516,\n",
       "  6980,\n",
       "  5036,\n",
       "  5511,\n",
       "  12008,\n",
       "  18169,\n",
       "  4234,\n",
       "  2133,\n",
       "  4234,\n",
       "  3923,\n",
       "  36001,\n",
       "  4742,\n",
       "  2133,\n",
       "  4742,\n",
       "  3923,\n",
       "  18198,\n",
       "  19433,\n",
       "  6467,\n",
       "  8402,\n",
       "  8491,\n",
       "  4516,\n",
       "  6993,\n",
       "  2133,\n",
       "  12008,\n",
       "  5036,\n",
       "  4742,\n",
       "  3923,\n",
       "  4234,\n",
       "  5036,\n",
       "  8012,\n",
       "  2133,\n",
       "  8012,\n",
       "  3923,\n",
       "  12776,\n",
       "  6980,\n",
       "  2133,\n",
       "  16793,\n",
       "  17167,\n",
       "  2133,\n",
       "  15094,\n",
       "  2133,\n",
       "  23656,\n",
       "  6993,\n",
       "  4234,\n",
       "  4742,\n",
       "  2133,\n",
       "  4742,\n",
       "  6467,\n",
       "  4742,\n",
       "  2133,\n",
       "  4742,\n",
       "  4516,\n",
       "  6993,\n",
       "  2133,\n",
       "  23656,\n",
       "  10078,\n",
       "  2133,\n",
       "  10078,\n",
       "  12008,\n",
       "  18169,\n",
       "  4742,\n",
       "  3923,\n",
       "  6980,\n",
       "  2133,\n",
       "  12776,\n",
       "  8708,\n",
       "  8094,\n",
       "  2133,\n",
       "  8094,\n",
       "  8402,\n",
       "  16504,\n",
       "  10478,\n",
       "  6993,\n",
       "  3923,\n",
       "  6980,\n",
       "  2133,\n",
       "  16504,\n",
       "  10478,\n",
       "  6980,\n",
       "  2133,\n",
       "  35032,\n",
       "  3923,\n",
       "  4742,\n",
       "  2133,\n",
       "  4742,\n",
       "  13535,\n",
       "  10478,\n",
       "  15297,\n",
       "  2133,\n",
       "  6421,\n",
       "  4516,\n",
       "  8491,\n",
       "  4742,\n",
       "  3923,\n",
       "  12776,\n",
       "  8708,\n",
       "  16793,\n",
       "  4516,\n",
       "  8491,\n",
       "  6980,\n",
       "  2133,\n",
       "  12894,\n",
       "  5511,\n",
       "  2133,\n",
       "  8094,\n",
       "  3923,\n",
       "  13786,\n",
       "  3923,\n",
       "  8094,\n",
       "  4516,\n",
       "  8012,\n",
       "  2133,\n",
       "  8012,\n",
       "  4516,\n",
       "  6421,\n",
       "  2133,\n",
       "  6421,\n",
       "  5036,\n",
       "  6467,\n",
       "  14969,\n",
       "  50775,\n",
       "  50257,\n",
       "  50257,\n",
       "  50257,\n",
       "  50257,\n",
       "  50257,\n",
       "  50257,\n",
       "  50257,\n",
       "  50257,\n",
       "  50257,\n",
       "  50257,\n",
       "  50257,\n",
       "  50257,\n",
       "  50257,\n",
       "  50257,\n",
       "  50257,\n",
       "  50257,\n",
       "  50257,\n",
       "  50257,\n",
       "  50257,\n",
       "  50257,\n",
       "  50257,\n",
       "  50257,\n",
       "  50257,\n",
       "  50257,\n",
       "  50257,\n",
       "  50257,\n",
       "  50257,\n",
       "  50257,\n",
       "  50257,\n",
       "  50257,\n",
       "  50257,\n",
       "  50257,\n",
       "  50257,\n",
       "  50257,\n",
       "  50257,\n",
       "  50257,\n",
       "  50257,\n",
       "  50257,\n",
       "  50257,\n",
       "  50257,\n",
       "  50257,\n",
       "  50257,\n",
       "  50257,\n",
       "  50257,\n",
       "  50257,\n",
       "  50257,\n",
       "  50257,\n",
       "  50257,\n",
       "  50257,\n",
       "  50257,\n",
       "  50257,\n",
       "  50257,\n",
       "  50257,\n",
       "  50257,\n",
       "  50257,\n",
       "  50257,\n",
       "  50257,\n",
       "  50257,\n",
       "  50257,\n",
       "  50257,\n",
       "  50257,\n",
       "  50257,\n",
       "  50257,\n",
       "  50257,\n",
       "  50257,\n",
       "  50257,\n",
       "  50257,\n",
       "  50257,\n",
       "  50257,\n",
       "  50257,\n",
       "  50257,\n",
       "  50257,\n",
       "  50257,\n",
       "  50257,\n",
       "  50257,\n",
       "  50257,\n",
       "  50257,\n",
       "  50257,\n",
       "  50257,\n",
       "  50257,\n",
       "  50257,\n",
       "  50257,\n",
       "  50257,\n",
       "  50257,\n",
       "  50257,\n",
       "  50257,\n",
       "  50257,\n",
       "  50257,\n",
       "  50257,\n",
       "  50257,\n",
       "  50257,\n",
       "  50257,\n",
       "  50257,\n",
       "  50257,\n",
       "  50257,\n",
       "  50257,\n",
       "  50257,\n",
       "  50257,\n",
       "  50257,\n",
       "  50257,\n",
       "  50257],\n",
       " 'score_ta': 14.375,\n",
       " 'filename': '/home/ubuntu/newsonair_v5/tamil/NSD-Tamil-Tamil-0715-0725-201810118533/sent_13.wav'}"
      ]
     },
     "execution_count": 7,
     "metadata": {},
     "output_type": "execute_result"
    }
   ],
   "source": [
    "results[0]"
   ]
  },
  {
   "cell_type": "code",
   "execution_count": 8,
   "id": "dbbd91b0",
   "metadata": {},
   "outputs": [
    {
     "name": "stderr",
     "output_type": "stream",
     "text": [
      "100%|██████████| 544068/544068 [00:21<00:00, 25525.61it/s]\n"
     ]
    }
   ],
   "source": [
    "with open('prepared-tamil-original.jsonl', 'w') as fopen:\n",
    "    for r in tqdm(results):\n",
    "        fopen.write(f'{json.dumps(r)}\\n')"
   ]
  },
  {
   "cell_type": "code",
   "execution_count": 22,
   "id": "fa611004",
   "metadata": {},
   "outputs": [],
   "source": [
    "from huggingface_hub import HfApi\n",
    "api = HfApi()"
   ]
  },
  {
   "cell_type": "code",
   "execution_count": 10,
   "id": "914c3f55",
   "metadata": {},
   "outputs": [
    {
     "data": {
      "application/vnd.jupyter.widget-view+json": {
       "model_id": "cfe51d75d950461ba6f92b71c1c3bdf5",
       "version_major": 2,
       "version_minor": 0
      },
      "text/plain": [
       "prepared-tamil-original.jsonl:   0%|          | 0.00/1.67G [00:00<?, ?B/s]"
      ]
     },
     "metadata": {},
     "output_type": "display_data"
    },
    {
     "data": {
      "text/plain": [
       "'https://huggingface.co/datasets/huseinzol05/pseudolabel-tamil-large-v3-timestamp/blob/main/prepared-tamil-original.jsonl'"
      ]
     },
     "execution_count": 10,
     "metadata": {},
     "output_type": "execute_result"
    }
   ],
   "source": [
    "api.upload_file(\n",
    "    path_or_fileobj='prepared-tamil-original.jsonl',\n",
    "    path_in_repo='prepared-tamil-original.jsonl',\n",
    "    repo_id='huseinzol05/pseudolabel-tamil-large-v3-timestamp',\n",
    "    repo_type='dataset',\n",
    ")"
   ]
  },
  {
   "cell_type": "code",
   "execution_count": 11,
   "id": "945a11a4",
   "metadata": {},
   "outputs": [
    {
     "data": {
      "text/plain": [
       "12954"
      ]
     },
     "execution_count": 11,
     "metadata": {},
     "output_type": "execute_result"
    }
   ],
   "source": [
    "len(files)"
   ]
  },
  {
   "cell_type": "code",
   "execution_count": 16,
   "id": "02cb9d79",
   "metadata": {},
   "outputs": [],
   "source": [
    "import mp\n",
    "import copy\n",
    "import re\n",
    "\n",
    "pattern_pair = r'<\\|(\\d+\\.\\d+)\\|>(.*?)<\\|(\\d+\\.\\d+)\\|>'\n",
    "\n",
    "minimum_score = 6\n",
    "\n",
    "def loop(files):\n",
    "    files, _ = files\n",
    "    results = []\n",
    "    for f in tqdm(files):\n",
    "        try:\n",
    "            with open(f) as fopen:\n",
    "                data = json.load(fopen)\n",
    "        except:\n",
    "            continue\n",
    "        f_split = os.path.split(f)[-1].replace('.json', '')\n",
    "        for i in range(len(data)):\n",
    "            a = tokenizer._decode_asr(\n",
    "                [{'tokens': np.array([data[i]['predict_ta']])}], \n",
    "                return_timestamps = True, return_language = 'ta', \n",
    "                time_precision = 0.02)[1]['chunks']\n",
    "            \n",
    "            a = [a_['text'] for a_ in a]\n",
    "\n",
    "            results.extend(a)\n",
    "\n",
    "    return results"
   ]
  },
  {
   "cell_type": "code",
   "execution_count": 1,
   "id": "3403d42d",
   "metadata": {},
   "outputs": [],
   "source": [
    "results = mp.multiprocessing(files, loop, cores = 50)"
   ]
  },
  {
   "cell_type": "code",
   "execution_count": 18,
   "id": "6b0d35cd",
   "metadata": {},
   "outputs": [
    {
     "data": {
      "text/plain": [
       "768049"
      ]
     },
     "execution_count": 18,
     "metadata": {},
     "output_type": "execute_result"
    }
   ],
   "source": [
    "len(results)"
   ]
  },
  {
   "cell_type": "code",
   "execution_count": 19,
   "id": "d686529c",
   "metadata": {},
   "outputs": [
    {
     "data": {
      "text/plain": [
       "[' விமான போக்குவரத்து தொரையில் பாதுகாப்பு அம்சங்கள் உலகத்தரத்தில் உள்ள போதும் அவற்றை மேலும் மேம்படுத்த வேண்டியது அவசியம் இன்று குறிப்பிட்டார்.',\n",
       " ' பிலாய் எக்கு தொழிச்சாலையில் நேரிட்ட தீவிபத்தில் வீரழந்தோரின் கொடுப்பத்தினருக்கு தலா 30 லட்சும் ரூபாய் நிவாரண உதவி வழங்கப்படும் என்ற மத்தி அமைச்சத்திர விரைந்தர் சிங் குரிவுள்ளார்.',\n",
       " ' விபத்தை நிகழ்ந்த பகுதியை நேற்று பார்வையிட்டாவர் விபத்தில் உயிரடந்தோரின் குடும்பத்தினர் ஒருவருக்கு எக்கு தொழிச்சாலையில் வேலைவாய்ப்பு அழிக்கவிடும் என்றும் அதிகாரிகளுக்கு அறிவுரத்தினார்.',\n",
       " ' பலத்த காயமடைந்தவர்களுக்கு 15 லேச்சும் ரூபாயும்',\n",
       " ' லேசான காயமடைந்தவர்களுக்கு 2 லேச்சும் ரூபாயும்',\n",
       " ' நிவாரணத்தோகி வளங்கப்படும் என்றும் அமிச்சர் அருவிதார்.',\n",
       " ' இந்த தொழிச்சாலையில் நேற்ற முன் தினம் நேரிடத்தி விபத்தில் 12 பேரு உயிரழந்தனர்',\n",
       " ' பத்து பேர் காயபடைந்தடர்',\n",
       " ' விமான எரிப்பொருளுக்கான கலால் வரியை 14 சதவிதத்திலிருந்து 11 சதவிதமாக மத்தி அரசு குறைத்துள்ளது.',\n",
       " ' விமான சரக்கு போக்கு வருத்து கொள்கையி மத்தியாரசு விரைவில் வெளியிட்டு நடை முழிப்படுத்த உள்ளதாக, அத்துரைக்கான ஆமிச்சத்ரு சுரேஷ் பிரபு குரிவுள்ளார்.']"
      ]
     },
     "execution_count": 19,
     "metadata": {},
     "output_type": "execute_result"
    }
   ],
   "source": [
    "results[:10]"
   ]
  },
  {
   "cell_type": "code",
   "execution_count": 20,
   "id": "129f62b5",
   "metadata": {},
   "outputs": [
    {
     "name": "stderr",
     "output_type": "stream",
     "text": [
      "100%|██████████| 676530/676530 [00:01<00:00, 408611.17it/s]\n"
     ]
    }
   ],
   "source": [
    "with open('tamil-text.texts', 'w') as fopen:\n",
    "    for t in tqdm(set(results)):\n",
    "        if not len(t):\n",
    "            continue\n",
    "        \n",
    "        fopen.write(f'{json.dumps(t)}\\n')"
   ]
  },
  {
   "cell_type": "code",
   "execution_count": 21,
   "id": "bb23a3ba",
   "metadata": {},
   "outputs": [
    {
     "name": "stdout",
     "output_type": "stream",
     "text": [
      "-rw-r--r-- 1 ubuntu ubuntu 314M Apr 13 04:34 tamil-text.texts\r\n"
     ]
    }
   ],
   "source": [
    "!ls -lh tamil-text.texts"
   ]
  },
  {
   "cell_type": "code",
   "execution_count": 23,
   "id": "a8ab652f",
   "metadata": {},
   "outputs": [
    {
     "data": {
      "application/vnd.jupyter.widget-view+json": {
       "model_id": "38e9237cf2eb4673a1d041033457aebb",
       "version_major": 2,
       "version_minor": 0
      },
      "text/plain": [
       "tamil-text.texts:   0%|          | 0.00/329M [00:00<?, ?B/s]"
      ]
     },
     "metadata": {},
     "output_type": "display_data"
    },
    {
     "data": {
      "text/plain": [
       "'https://huggingface.co/datasets/mesolitica/pseudolabel-tamil-large-v3-timestamp/blob/main/tamil-text.texts'"
      ]
     },
     "execution_count": 23,
     "metadata": {},
     "output_type": "execute_result"
    }
   ],
   "source": [
    "api.upload_file(\n",
    "    path_or_fileobj='tamil-text.texts',\n",
    "    path_in_repo='tamil-text.texts',\n",
    "    repo_id='mesolitica/pseudolabel-tamil-large-v3-timestamp',\n",
    "    repo_type='dataset',\n",
    ")"
   ]
  }
 ],
 "metadata": {
  "kernelspec": {
   "display_name": "Python 3 (ipykernel)",
   "language": "python",
   "name": "python3"
  },
  "language_info": {
   "codemirror_mode": {
    "name": "ipython",
    "version": 3
   },
   "file_extension": ".py",
   "mimetype": "text/x-python",
   "name": "python",
   "nbconvert_exporter": "python",
   "pygments_lexer": "ipython3",
   "version": "3.10.12"
  }
 },
 "nbformat": 4,
 "nbformat_minor": 5
}
