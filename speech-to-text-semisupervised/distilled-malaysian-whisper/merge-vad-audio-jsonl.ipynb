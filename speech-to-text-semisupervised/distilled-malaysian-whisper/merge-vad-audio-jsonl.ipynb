{
 "cells": [
  {
   "cell_type": "code",
   "execution_count": 1,
   "id": "08b6be6b",
   "metadata": {},
   "outputs": [],
   "source": [
    "from glob import glob\n",
    "from tqdm import tqdm\n",
    "import json"
   ]
  },
  {
   "cell_type": "code",
   "execution_count": 2,
   "id": "4ee07e0b",
   "metadata": {},
   "outputs": [
    {
     "data": {
      "text/plain": [
       "33"
      ]
     },
     "execution_count": 2,
     "metadata": {},
     "output_type": "execute_result"
    }
   ],
   "source": [
    "files = glob('vad-audio-*.jsonl')\n",
    "files = [f for f in files if 'mandarin' not in f]\n",
    "len(files)"
   ]
  },
  {
   "cell_type": "code",
   "execution_count": null,
   "id": "6a63f3dc",
   "metadata": {},
   "outputs": [],
   "source": [
    "unique_files = set()\n",
    "with open('malaysian-stt.jsonl', 'w') as fopen_l:\n",
    "    for f in tqdm(files):\n",
    "        with open(f) as fopen:\n",
    "            for l in fopen:\n",
    "                try:\n",
    "                    l = json.loads(l)\n",
    "                    lang = l['text'].split('|>')[1]\n",
    "                    c = l['audio_filename'] + lang\n",
    "                    if c not in unique_files:\n",
    "                        fopen_l.write(f'{json.dumps(l)}\\n')\n",
    "                        fopen_l.flush()\n",
    "                        unique_files.add(c)\n",
    "                except:\n",
    "                    pass"
   ]
  },
  {
   "cell_type": "code",
   "execution_count": 3,
   "id": "90c3d9e5",
   "metadata": {},
   "outputs": [
    {
     "data": {
      "text/plain": [
       "33"
      ]
     },
     "execution_count": 3,
     "metadata": {},
     "output_type": "execute_result"
    }
   ],
   "source": [
    "files = glob('vad-audio-mandarin-*.jsonl')\n",
    "len(files)"
   ]
  },
  {
   "cell_type": "code",
   "execution_count": 4,
   "id": "36a440db",
   "metadata": {},
   "outputs": [
    {
     "name": "stderr",
     "output_type": "stream",
     "text": [
      "100%|██████████| 33/33 [00:11<00:00,  2.97it/s]\n"
     ]
    }
   ],
   "source": [
    "unique_files = set()\n",
    "with open('mandarin-stt.jsonl', 'w') as fopen_l:\n",
    "    for f in tqdm(files):\n",
    "        with open(f) as fopen:\n",
    "            for l in fopen:\n",
    "                try:\n",
    "                    l = json.loads(l)\n",
    "                    lang = l['new_text'].split('|>')[1]\n",
    "                    c = l['audio_filename'] + lang\n",
    "                    if c not in unique_files:\n",
    "                        l_ = {\n",
    "                            'audio_filename': l['audio_filename'],\n",
    "                            'text': l['new_text'],\n",
    "                        }\n",
    "                        fopen_l.write(f'{json.dumps(l_)}\\n')\n",
    "                        fopen_l.flush()\n",
    "\n",
    "                        if len(l['new_text_ms']) > 5:\n",
    "                            l_ = {\n",
    "                                'audio_filename': l['audio_filename'],\n",
    "                                'text': l['new_text_ms'],\n",
    "                            }\n",
    "                            fopen_l.write(f'{json.dumps(l_)}\\n')\n",
    "                            fopen_l.flush()\n",
    "\n",
    "                        if len(l['new_text_en']) > 5:\n",
    "                            l_ = {\n",
    "                                'audio_filename': l['audio_filename'],\n",
    "                                'text': l['new_text_en'],\n",
    "                            }\n",
    "                            fopen_l.write(f'{json.dumps(l_)}\\n')\n",
    "                            fopen_l.flush()\n",
    "                                \n",
    "                        unique_files.add(c)\n",
    "                except:\n",
    "                    pass"
   ]
  },
  {
   "cell_type": "code",
   "execution_count": 5,
   "id": "f2067952",
   "metadata": {},
   "outputs": [
    {
     "name": "stdout",
     "output_type": "stream",
     "text": [
      "7664734 malaysian-stt.jsonl\r\n"
     ]
    }
   ],
   "source": [
    "!wc -l malaysian-stt.jsonl"
   ]
  },
  {
   "cell_type": "code",
   "execution_count": 6,
   "id": "1a69ca97",
   "metadata": {},
   "outputs": [
    {
     "name": "stdout",
     "output_type": "stream",
     "text": [
      "1347342 mandarin-stt.jsonl\r\n"
     ]
    }
   ],
   "source": [
    "!wc -l mandarin-stt.jsonl"
   ]
  },
  {
   "cell_type": "code",
   "execution_count": 7,
   "id": "bfd98da6",
   "metadata": {},
   "outputs": [
    {
     "name": "stdout",
     "output_type": "stream",
     "text": [
      "-rw-r--r-- 1 ubuntu ubuntu 3.3G Aug 30 15:12 malaysian-stt.jsonl\r\n"
     ]
    }
   ],
   "source": [
    "!ls -lh malaysian-stt.jsonl"
   ]
  },
  {
   "cell_type": "code",
   "execution_count": 8,
   "id": "8c704200",
   "metadata": {},
   "outputs": [
    {
     "name": "stdout",
     "output_type": "stream",
     "text": [
      "-rw-r--r-- 1 ubuntu ubuntu 274M Aug 30 23:56 mandarin-stt.jsonl\r\n"
     ]
    }
   ],
   "source": [
    "!ls -lh mandarin-stt.jsonl"
   ]
  },
  {
   "cell_type": "code",
   "execution_count": 9,
   "id": "234946e3",
   "metadata": {},
   "outputs": [
    {
     "name": "stderr",
     "output_type": "stream",
     "text": [
      "No files have been modified since last commit. Skipping to prevent empty commit.\n"
     ]
    },
    {
     "data": {
      "text/plain": [
       "CommitInfo(commit_url='https://huggingface.co/datasets/mesolitica/malaysian-stt/commit/06ae2517cbc2373ccf2ebab2cf41e7b605da4a66', commit_message='Upload mandarin-stt.jsonl with huggingface_hub', commit_description='', oid='06ae2517cbc2373ccf2ebab2cf41e7b605da4a66', pr_url=None, pr_revision=None, pr_num=None)"
      ]
     },
     "execution_count": 9,
     "metadata": {},
     "output_type": "execute_result"
    }
   ],
   "source": [
    "from huggingface_hub import HfApi\n",
    "api = HfApi()\n",
    "\n",
    "api.upload_file(\n",
    "    path_or_fileobj=\"mandarin-stt.jsonl\",\n",
    "    path_in_repo=\"mandarin-stt.jsonl\",\n",
    "    repo_id=\"mesolitica/malaysian-stt\",\n",
    "    repo_type=\"dataset\",\n",
    ")\n"
   ]
  },
  {
   "cell_type": "code",
   "execution_count": null,
   "id": "e9d0e025",
   "metadata": {},
   "outputs": [],
   "source": []
  }
 ],
 "metadata": {
  "kernelspec": {
   "display_name": "Python 3 (ipykernel)",
   "language": "python",
   "name": "python3"
  },
  "language_info": {
   "codemirror_mode": {
    "name": "ipython",
    "version": 3
   },
   "file_extension": ".py",
   "mimetype": "text/x-python",
   "name": "python",
   "nbconvert_exporter": "python",
   "pygments_lexer": "ipython3",
   "version": "3.10.12"
  }
 },
 "nbformat": 4,
 "nbformat_minor": 5
}
