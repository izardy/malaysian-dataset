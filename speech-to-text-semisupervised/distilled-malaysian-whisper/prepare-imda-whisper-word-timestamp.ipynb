{
 "cells": [
  {
   "cell_type": "code",
   "execution_count": 1,
   "id": "6428e81f",
   "metadata": {},
   "outputs": [],
   "source": [
    "import json\n",
    "import os\n",
    "import mp\n",
    "import numpy as np\n",
    "from collections import defaultdict\n",
    "from glob import glob\n",
    "from tqdm import tqdm\n",
    "import soundfile as sf\n",
    "import re\n",
    "\n",
    "timestamps = [i * 0.02 for i in range(1500 + 1)]"
   ]
  },
  {
   "cell_type": "code",
   "execution_count": 2,
   "id": "6fbb4518",
   "metadata": {},
   "outputs": [],
   "source": [
    "from huggingface_hub import hf_hub_download\n",
    "import fasttext\n",
    "\n",
    "filename = hf_hub_download(\n",
    "    repo_id=\"mesolitica/fasttext-language-detection-bahasa-en\", \n",
    "    filename=\"fasttext.ftz\"\n",
    ")\n",
    "lang_model = fasttext.load_model(filename)"
   ]
  },
  {
   "cell_type": "code",
   "execution_count": 3,
   "id": "68fa4d07",
   "metadata": {},
   "outputs": [],
   "source": [
    "def chunk(alignment, reject = -7, minimum_length = 2.0):\n",
    "    alls, temp = [], []\n",
    "    for a in alignment:\n",
    "        if a['score'] <= reject:\n",
    "            if len(temp):\n",
    "                temp[-1]['end'] = a['start']\n",
    "                if (temp[-1]['end'] - temp[0]['start']) >= minimum_length:\n",
    "                    alls.append(temp)\n",
    "                temp = []\n",
    "        else:\n",
    "            temp.append(a)\n",
    "            \n",
    "    if len(temp):\n",
    "        if (temp[-1]['end'] - temp[0]['start']) >= minimum_length:\n",
    "            alls.append(temp)\n",
    "    return alls"
   ]
  },
  {
   "cell_type": "code",
   "execution_count": 4,
   "id": "5ca8d308",
   "metadata": {},
   "outputs": [
    {
     "name": "stderr",
     "output_type": "stream",
     "text": [
      "1861125it [00:05, 331305.90it/s]\n"
     ]
    },
    {
     "data": {
      "text/plain": [
       "1861082"
      ]
     },
     "execution_count": 4,
     "metadata": {},
     "output_type": "execute_result"
    }
   ],
   "source": [
    "data = defaultdict(list)\n",
    "with open('prepared-imda.jsonl') as fopen:\n",
    "    for no, l in tqdm(enumerate(fopen)):\n",
    "        l = json.loads(l)\n",
    "        data[l['audio_filename']].append((no, l))\n",
    "        \n",
    "len(data)"
   ]
  },
  {
   "cell_type": "code",
   "execution_count": 5,
   "id": "314dc54c",
   "metadata": {},
   "outputs": [
    {
     "data": {
      "text/plain": [
       "1861082"
      ]
     },
     "execution_count": 5,
     "metadata": {},
     "output_type": "execute_result"
    }
   ],
   "source": [
    "rows = list(data.values())\n",
    "len(rows)"
   ]
  },
  {
   "cell_type": "code",
   "execution_count": 6,
   "id": "bcc00406",
   "metadata": {},
   "outputs": [
    {
     "data": {
      "text/plain": [
       "[(0,\n",
       "  {'new_text': '<|startoftranscript|><|en|><|transcribe|><|0.00|> Households with target sets were encouraged to try keeping their water consumption below these designated levels.<|7.00|><|endoftext|>',\n",
       "   'audio_filename': 'IMDA-STT/part1-mp3/000010101.mp3'})]"
      ]
     },
     "execution_count": 6,
     "metadata": {},
     "output_type": "execute_result"
    }
   ],
   "source": [
    "rows[0]"
   ]
  },
  {
   "cell_type": "code",
   "execution_count": 7,
   "id": "d3633b01",
   "metadata": {},
   "outputs": [],
   "source": [
    "!rm -rf prepared-imda-chunks\n",
    "!mkdir prepared-imda-chunks"
   ]
  },
  {
   "cell_type": "code",
   "execution_count": 10,
   "id": "8b6107ec",
   "metadata": {},
   "outputs": [],
   "source": [
    "def loop(data):\n",
    "    data, _ = data\n",
    "    new_data = []\n",
    "    for d in tqdm(data):\n",
    "        \n",
    "        aligns, scores = [], []\n",
    "        for i in d:\n",
    "            f = f'prepared-imda_alignment/{i[0]}.alignment'\n",
    "            try:\n",
    "                with open(f) as fopen:\n",
    "                    align = json.load(fopen)\n",
    "                    score = np.sum([s['score'] for s in align])\n",
    "                    aligns.append(align)\n",
    "                    scores.append(score)\n",
    "            except:\n",
    "                aligns.append([])\n",
    "                scores.append(-9999)\n",
    "\n",
    "        argmax = np.argmax(scores)\n",
    "        no = d[argmax][0]\n",
    "        text = d[argmax][1]['new_text']\n",
    "        lang = text.split('<|startoftranscript|><|')[1].split('|')[0]\n",
    "        cleaned_text = re.sub(r\"<\\|.*?\\|>\", \"\", text).strip()\n",
    "        if lang_model.predict(cleaned_text)[0][0] == '__label__english':\n",
    "            predict_lang = 'en'\n",
    "        else:\n",
    "            predict_lang = 'ms'\n",
    "        \n",
    "        chunks = chunk(aligns[argmax])\n",
    "        audio_filename = d[argmax][1]['audio_filename'].replace('IMDA-STT/', '')\n",
    "        if len(chunks):\n",
    "            y, sr = sf.read(audio_filename)\n",
    "            for k, c in enumerate(chunks):\n",
    "                \n",
    "                skip = False\n",
    "                for c_ in c:\n",
    "                    if (c_['end'] - c_['start']) > 2:\n",
    "                        skip = True\n",
    "                        break\n",
    "                if skip:\n",
    "                    continue\n",
    "                    \n",
    "                new_f = os.path.join('prepared-imda-chunks', f'{no}-{k}.mp3')\n",
    "                if not os.path.exists(new_f):\n",
    "                    sf.write(new_f, y[int(sr * c[0]['start']): int(sr * c[-1]['end'])], sr)\n",
    "                ts = []\n",
    "                \n",
    "                min_t = min([c_['start'] for c_ in c])\n",
    "                \n",
    "                for c_ in c:\n",
    "                    start = min(timestamps, key=lambda t: abs(t - (c_['start'] - min_t)))\n",
    "                    end = min(timestamps, key=lambda t: abs(t - (c_['end'] - min_t)))\n",
    "                    w = c_['text']\n",
    "                    t = f\"<|{start:.2f}|> {w}<|{end:.2f}|>\"\n",
    "                    ts.append(t)\n",
    "                ts = ''.join(ts)\n",
    "                new_text = text = f\"<|startoftranscript|><|{predict_lang}|><|transcribeprecise|>{ts}<|endoftext|>\"\n",
    "                new_data.append({\n",
    "                    'audio_filename': new_f,\n",
    "                    'new_text': new_text,\n",
    "                })\n",
    "                \n",
    "    return new_data"
   ]
  },
  {
   "cell_type": "code",
   "execution_count": 11,
   "id": "5e92c2e7",
   "metadata": {},
   "outputs": [
    {
     "name": "stderr",
     "output_type": "stream",
     "text": [
      "100%|███████████████████████████████████████████████████████████████████████████████████████| 100/100 [00:01<00:00, 81.48it/s]\n"
     ]
    },
    {
     "data": {
      "text/plain": [
       "70"
      ]
     },
     "execution_count": 11,
     "metadata": {},
     "output_type": "execute_result"
    }
   ],
   "source": [
    "r = loop((rows[:100], 0))\n",
    "len(r)"
   ]
  },
  {
   "cell_type": "code",
   "execution_count": 12,
   "id": "8a92f956",
   "metadata": {},
   "outputs": [
    {
     "data": {
      "text/plain": [
       "{'audio_filename': 'prepared-imda-chunks/99-0.mp3',\n",
       " 'new_text': '<|startoftranscript|><|en|><|transcribeprecise|><|0.00|> that<|0.10|><|0.16|> the<|0.20|><|0.28|> investigations<|1.26|><|1.34|> have<|1.46|><|1.56|> reached<|1.80|><|1.86|> a<|1.86|><|1.98|> critical<|2.40|><|2.52|> stage<|2.80|><|3.10|> with<|3.22|><|3.28|> a<|3.28|><|3.34|> higher<|3.60|><|3.66|> level<|3.96|><|4.04|> of<|4.10|><|4.22|> urgency<|4.62|><|4.76|> and<|4.84|><|4.92|> sensitivity.<|6.16|><|endoftext|>'}"
      ]
     },
     "execution_count": 12,
     "metadata": {},
     "output_type": "execute_result"
    }
   ],
   "source": [
    "r[-1]"
   ]
  },
  {
   "cell_type": "code",
   "execution_count": 13,
   "id": "b14d0b09",
   "metadata": {},
   "outputs": [
    {
     "name": "stderr",
     "output_type": "stream",
     "text": [
      "100%|███████████████████████████████████████████████████████████████████████████████████| 93054/93054 [25:54<00:00, 59.85it/s]\n",
      "100%|███████████████████████████████████████████████████████████████████████████████████████████| 2/2 [00:00<00:00, 15.66it/s]\n",
      "100%|███████████████████████████████████████████████████████████████████████████████████| 93054/93054 [27:12<00:00, 57.00it/s]\n",
      "100%|███████████████████████████████████████████████████████████████████████████████████| 93054/93054 [27:33<00:00, 56.29it/s]\n",
      "100%|███████████████████████████████████████████████████████████████████████████████████| 93054/93054 [29:26<00:00, 52.68it/s]\n",
      "100%|███████████████████████████████████████████████████████████████████████████████████| 93054/93054 [30:05<00:00, 51.53it/s]\n",
      "100%|███████████████████████████████████████████████████████████████████████████████████| 93054/93054 [32:02<00:00, 48.39it/s]\n",
      "100%|███████████████████████████████████████████████████████████████████████████████████| 93054/93054 [38:35<00:00, 40.19it/s]\n",
      "100%|███████████████████████████████████████████████████████████████████████████████████| 93054/93054 [40:07<00:00, 38.66it/s]\n",
      "100%|███████████████████████████████████████████████████████████████████████████████████| 93054/93054 [40:36<00:00, 38.19it/s]\n",
      "100%|███████████████████████████████████████████████████████████████████████████████████| 93054/93054 [41:14<00:00, 37.61it/s]\n",
      "100%|███████████████████████████████████████████████████████████████████████████████████| 93054/93054 [41:22<00:00, 37.49it/s]\n",
      "100%|███████████████████████████████████████████████████████████████████████████████████| 93054/93054 [42:45<00:00, 36.27it/s]\n",
      "100%|███████████████████████████████████████████████████████████████████████████████████| 93054/93054 [43:31<00:00, 35.63it/s]\n",
      "100%|███████████████████████████████████████████████████████████████████████████████████| 93054/93054 [44:54<00:00, 34.54it/s]\n",
      "100%|███████████████████████████████████████████████████████████████████████████████████| 93054/93054 [46:05<00:00, 33.65it/s]\n",
      "100%|███████████████████████████████████████████████████████████████████████████████████| 93054/93054 [54:24<00:00, 28.51it/s]\n",
      "100%|█████████████████████████████████████████████████████████████████████████████████| 93054/93054 [1:13:41<00:00, 21.05it/s]\n",
      "100%|█████████████████████████████████████████████████████████████████████████████████| 93054/93054 [1:16:43<00:00, 20.21it/s]\n",
      "100%|█████████████████████████████████████████████████████████████████████████████████| 93054/93054 [1:16:56<00:00, 20.16it/s]\n",
      "100%|█████████████████████████████████████████████████████████████████████████████████| 93054/93054 [1:21:33<00:00, 19.02it/s]\n"
     ]
    }
   ],
   "source": [
    "r = mp.multiprocessing(rows, loop, cores = 20)"
   ]
  },
  {
   "cell_type": "code",
   "execution_count": 14,
   "id": "b28a1169",
   "metadata": {},
   "outputs": [
    {
     "data": {
      "text/plain": [
       "1633511"
      ]
     },
     "execution_count": 14,
     "metadata": {},
     "output_type": "execute_result"
    }
   ],
   "source": [
    "len(r)"
   ]
  },
  {
   "cell_type": "code",
   "execution_count": 15,
   "id": "eb14e3bb",
   "metadata": {
    "scrolled": true
   },
   "outputs": [
    {
     "data": {
      "text/plain": [
       "{'audio_filename': 'prepared-imda-chunks/1861119-1.mp3',\n",
       " 'new_text': '<|startoftranscript|><|en|><|transcribeprecise|><|0.00|> has<|0.16|><|0.24|> an<|0.30|><|0.72|> EduSafe<|1.14|><|1.18|> account.<|1.50|><|2.30|> So<|2.38|><|2.52|> would<|2.68|><|endoftext|>'}"
      ]
     },
     "execution_count": 15,
     "metadata": {},
     "output_type": "execute_result"
    }
   ],
   "source": [
    "r[-10]"
   ]
  },
  {
   "cell_type": "code",
   "execution_count": 16,
   "id": "e709d517",
   "metadata": {},
   "outputs": [
    {
     "data": {
      "text/html": [
       "\n",
       "                <audio  controls=\"controls\" >\n",
       "                    <source src=\"data:audio/mpeg;base64,//OIxAAAAAAAAAAAAFhpbmcAAAAPAAAATQAAPHgABAoNEBAUFxoaHSAjJiYpKy4uMTQ3NzxARUpKT1JXV11fZGRna29ycnV3e3t+g4aGiYyPkpKVl5qanZ+ioqWoqqysr7K0tLe8wMDDxsjLy87S2Njc3+Li5ejr7e3w9Pf3+v//AAAAPExBTUUzLjEwMARQAAAAAAAAAAAVCCQDgCEAAcwAADx4+LbO3QAAAAAAAAAAAAAAAAAAAAAAAAAAAAAAAAAAAAAAAAAAAAAAAAAAAAAAAAAAAAAAAAAAAAAAAAAAAAAAAAAAAAAAAAAAAAAAAAAAAAAAAAAAAAAAAAAAAAAAAAAAAAAAAAAAAAAAAAAAAAAAAAAAAAAAAAAAAAAA//OIxAAWkHKmP0MQAMAAADtlbe3RPdxbn7uHA3OBxbufxAMH3y4IBgMUwfB8HwQBAEPpBB2XfwQBAEAQM/BAEAxh/+D4Pg+/BD/y7/UCAY8PggcwTB8/JggCAIO+CAIAhLg+D5/EBxVW0QIAEIAD5+SvzRt3bbJoqMRIqDTGjjpJDJGBwKBoSWxGpJA67EBAyGCGJh3IsJZsiuNJiIA8CncFFl+lw00kVF+uqAGoTJlQAU+EIoOSprOwe7+YiBSDlzcKqJ8UwfmxL6sZYkqqnBM0cYYfGG1XhNN0aG7wCTvWJVD0y0uHoGkcOyODo3xrYlUsR2Fb2ZvFAFe3ae14nHhybgaMQSYwUqbg+8Vr16CBmZVrULsUH9xuyS/B0DW4//OYxLhMjBaa/5rIALwnWN/OvGZl6Ik/kVo5Vu/auU0dfx6rOdjj1xKNyiN2q0s1L69arhnQRGkopuhoqluKbtRuY3BtBAUzZl1NT2reG91L85b3IocxvSGtNZbq2bVaer153teSxmlt2MbdJLJ+pS1NZZzdrV2iwiliB78unZTzdS9+FS7PqnlpKiA0juOy3f8cbDhBcgHMoCuekUyYzDIKJABNtg6a1MOEe2zvfIghmFkQj4kjJY6QJ4XERZFBIWeFppaUiw1w1hAkry+TiKjzLLDUbkcKVKyRWMiHB/hcpOmJ9SxtkRSSaWSg9daTedJ0rHzNjIlUnspM2NbVJs//1L6zY1NtSzZHez/Tb1qTa92/////9b1uilSp3n+KLOkCfSVJ+Kz+m/591ZooBQE1jlq3a791M2xIviKLNn6XSpgoGwguTbc5bU7LE42o953BykJTBYlnnWmF/OzS2frsBTVhMuns//NYxOApC3q7H9iIAWAUeYxvLupmW85V1/QM5lYNAgoncKJqyKJv2f1MKVDChR0lnb3///lKgUQJEsFEnZGR/SvqzWKrNS1/Ip///3Y7EGZDwTEVXQq653BJl2cEOufSEc72nTzyUIYGB2vP495dNW00dSFuJEcUc5SEk7P4AqMYm5LSZLQcIZL7ONMIhI9jJK1EvSRJh85y4veK5zyUtSASZ5KIdV63H8DxZipyRFWL4+fU//NIxOIlO86rHsCNfWC9VUbNUexzGDR642ccKL3HCff/1/6R/EPNxaSnCU78XvT5DTKcWTDGiFaDRgmcxDiXAgJ6/kULMFiRz3f6vxGg2h2lcmRWvnyhVt4sDbft+3ZZ1euT+Y04O1qPEtxcywm4c4SAyzvEXXAKc5w50ggSRFhMQwSdEpHUaAs4KtLV4zQ3//NoxNAzHBaa/nofXNrf9trGDuzLubqwC4dqep5E3F4Jx3I1FL5CNoMzJbXYALxTstyrYfJcKaj7XvVtXu43r+9Uv81Zw+9ijyjKHQXDgEuJFqR7sp3QwzJ7GaVZXR1K5hkYpVZykV/sdKmY5icXKrGZ6tuyTLs1Gp/dtWKXVkX6Omb2T7koa3mnYOO6iY1ncjU0nNTpASOC5trU0MG1aXiXmUZRtOAAAL7dlgVtW3nE8AyCwEvOdHC2EbCRi5kvQtMnWQRGT5lV8NR3h5hxFA/s3SRL2n1v//NYxM4m/Bae/sFTfMfcUR3h6HyacLu30ecQCJ5hJvAyb6cX9HYs9Saebq61HJJLj23vTOHLcQj//syRcNxrNdxcC5AjUeWlKrRu6qOdpVV//////iv5iTb35921UV7yzd2y0rPmj12K5djVhdQn15qpiMjFDohnh02CxaWvttWOr0YSlnD5OcI3kwjFWoUEA0hd0tXED3dazBRVBlrlSxV/4GTcIQBNZkjZJcW2WIbKgDAb//NYxNkspBaKPHoZXAWHfg0ZBlBa88ax3gx3Gr1qQ0C+uGa83nDgV8WMtMajiRot8COKCev5+DcUsCfzg3C1z416WeMRZHRvX8qvJwoHBJQqJHpWMuxjjz+o7/meOPu6hEt8wXD4MjwVSg0dzV/+L0EnhU7DTGHq4bT3CUMlizBVoVSocDTBUuREVZgUA0jXjbZvtlZppYyoKIEo2cn/p0GwCl1cZa6TthbAKTDkS7Og2IJI//NYxM0o2kaS/tPQ8Muu8uKqI4y6/KYkreWfaDZ/crfeGqv9hh2IFprF286bAmI1Th2AcEkhkIFYQPxQHA7HKeggDBpNSLsvMJTrLmMHg800JbG0tJRCpGvzv93xLGXUiAY4+ZHGB4LTtTxGiVrXFflzZyxIV2Q9zeyP2+b/5EIDeBKHMz0fv/s6OfE1IZyBBIchjiwBIrSAIIvRUkv25hV/MqELdp/QZ9VQ9kTU/5dXOXNf//NoxNAsrAae/sIFdczk7wImBkaec41tHsOdJp/rS2JqgdbmEsjEIh7m4bl6RH5fByJrGII4amXZRFWk7ck1RD0z3zCKrv3Vtj3Q48ngw04fvvbVGOz3uf5tRbdBCTzjT1nN130aimzZjJnDQaO0aIeeULAtH9XNf0b//1facQZ3Y4ojG6v6fM9DU2PQ089TyZYcKHFRQVNT1cRQIMATtr/ffsfYHQRFib+bjhEBYamr4RAWY0ZfcjfZBAl+/kqpphxUwobhv4AWo71W/3YWRtcA5iz0dciW//NYxOgqTA6m3sGPVYsmdON+jWP/JSFMpLMbmZveC8/9tu/uVKjUdI7vaahq3LbzHw3pngTOVVP6efn9v/3lnQyUM44UTErodH6t9f7LV6DlYLBsdgrJr/+X0M+YpGQ6hQZAGWUUdKqEEAAdmvr/darp72K7W6Vnxfuu0tM/2tDQaqh7b2Qa5x1zojTiGBbqVOiqKWQM7dO2WNXp4JYgRytRU8u8/NC5slMtnY+ffuxtRUd2//NIxOUmHA6i1sGFOU0otsIZlN6mMR0WnYrH0R5UYvPXWcAlDPCKWXej//1O7S3RtVZChg7oqtvVf7Spuq7K4hECnIEsab/JrRn9p2Up50U7szmEmns1ogAAO+X++kLEz2CqigRguyiYwXBMiGL5fi5CiNxFgRi4pIIgeJbT8drRwhanC7x+jpI063E8sjP9//NYxM8le/6elsJFLaLt8oFVZMzbtNoQ7FoO1eI8xDfD/hj9Fzu1VDOQXUvVi1W9itZwWQUoz1nbb/q01TFFHDCSVgyOgoMDoibJ+n3Ii2RC4IplMBM6jjKp9Pm7oZ/ys6YzzM6u5IlSDyqAAAAm5f79SfcBQnS5nEf1zGUpNREkSDVRsMRpqBvACtPkGIKjGIWJwbSTpSGdaFWUCujMkKM2VoxkC2YWHBiHCwwZYQtFLLI1//NIxOAlrA6ilnmFTS6vnDcreRSBdjJTm0zp5nc+lVIGozkIkTMvyp9/3aUWCQgLIgu+QhkDg0p0Z2/fr/TZJzFcw6HR6lddqv7//9UXR1IdilKtjlFQmsgABbd///czqyR98LrPLUGMAZO7yjym+UlVxYYKYmNtCRwzbQGqnFY+9bJCqoGFpium13bbXRn6//NYxMwk5A6elnjLVU9tZDbMXq3SuWladWNolL3exHZnaxdClRRjCwgxiCiHrlRJViKljmEA+VhOpz0ul27JXtR7BFimoJElBFeRX//7/M7PzO4pYOExG//Y8sLGhIgMhAGgGIA2EZAAAAhRtzf+0nxhzUZ6N0Ak6imJMXZhJ0UZhNIuoGw8A4UKciZG6erUfJIYkreq7xZ0AdAGhw2RxhIIhTIOa9kFszggSGYhmLZpeGbG//NIxN8kg06Z9sJLDLw/rNAiqCpUKqsys3a7UqlDyHKIOhxAh7B9TlvVEKqpkezMZiuNHC7i+7f//903K5iuIixg4Yw47O371//rsZ1eUSKLB0UBhogLrcQQABKWRSfaiT33EfqaEyt7EpUOQxLl+OlwS4pyfCHkkOlnThgNRomcOihZrS22iYaLGEj6hBg8//NYxNAl7BaavnjLMFxMKzUtOtpZSic8SOLI6DZtH+a//qYUWFwkURyC7rv9euEn7/5/j+WbgmTBcWFxELGKcjw0nI8T1/OujraXHf//////8T1xLWjkDTw8EMoTmFwto8NTxxV1////o8buVj0GxR4pIBAAAASSRpqWtktOo0TavIdMNTEURATACJLZoBjCOHUQA2NlAREdOBEYiNP08OsCoYgQOucDAGWsdaxeYSFCBSQV//NYxN8m/Baev09AAO00DwqE11TEZMCFhqBSaZz1IPJ4omqNM7UCf9lLrSV+VIJzBiLO6KPwHRMPXJE4i+jL0yX8moLf2WtPSQk9d9+xdMJfLkOzGrcy9LrOE3J3qaZizO1/tMuwdTzlDOQElUzGJSme7us3Z9c8ZnX1b96mmo7FZfA7zP5DkCSqnf6IxR9aKBmVRd1XhnpbekmczNv7XlkkpWywO4+7Fmznb7n+VLk1ZxpV//OIxOpLjA5+/5nJBQ04cDOTHuZZf39cn+bu50mXf///8MLFe/I6mN7Pvefhzc/KrFqrXfl/mBPvIIzUpq1+r9WYnXKeH//ut45f3///+5iCVf9tWm5N9999rdrrW2AGtAiRITFkYDRUOmHM4bA9gyKg4qkgDK0GSEhioSeGQCtxNY0mEVYOOCC9J8OrNhJf414ZBo9S1gdNV8ZQLkHaYgRakudAei8FQCZ9NhQFnsaL+NKWsylrT+QyrIzJlL6uKvQrCIgWHKlZwjsvh+msw9B0IljXmVTcg5hLJZMSuQ25ianblLyxk1hsEMQ68MQfm9ADptybAjG5Ejl8D00llrdog/8Jz+pFpO+rFqrEaGHqaX1FBbUslPZe/N1uM9L4//OIxM4/svpmX5rIAC37ws00jvzOepfepXPzltnfK1+t3///+vO1d4YVtZfh//97tXpN4qFG+jqbxnrt/lXSEHJGgQ5s66ywWi0tsBRAQCVFT5khahCmiNUtBRIQAkmYYqED8GFoDoKpiDjRwKCXBAIcOaFR7GHhCYwBfNvUEQNlDBy/Ad2ZEhsBHOuwN9ZeRDdaBIY6RAOYbI4QGlZBcTfe9AUXh54HWksRopHOQI7FMqeJK4v35dS0+FephYrar8Awal9picP27FNlSP3N1t8nq0zOxOgu5zNPnqnZW09lkgzpJi9VpZ7P7t2zcpasZiFJXpMfxzlUR7vCpukZQwROuH7/cst8/99/n81+rmet/nvD9f+f/cuuAwxxFN4v//OIxOJDVA5mf5nIAZ59/PO3U//////////1////////////////hykjFi3bzpOZv5DkspKmFOOV2ZgxIwAQcgh1vch2VZ1fccEzDU7h1tPcdOS1QBCQ7TjOeMGS+l6kUGAAsU9WWfAUMQCVmq2pvDqEWZmSNGRrG5WPOgOVvXywW4d8SZQsulJhK5E5wX4xWOyuLK0rSMWRWkLGleMvrVZTKljJ1TEdpWfQ80t34KgVAkYEG/UqSGXVn/6Z3Suy69JuwWzT2ARBOZirB31mnCUpSJYEuVOmK/K3ce+L3KaQPxbdpgiVCZiK6PqXbiPn+VWUwzDSpmRrDO9D12aorP15fGochFnPmD/uzAziMaRwRPKxSRcjZPDL+x5/pXEo//OIxOdPLBaTH5nQJNWv//3rdTCcwz1vDLn9u/gFgDFVwMjZO4cNQJa5/cO41ZTKr93LdaZjL+3K7gyrv67lvPvdc7hzX8wy/n659e5AzkTMgg1dbdXufxr68GmQ5Vp6WfiikBAAIDuacLt+OcA7woJk2ZWwZs+p2AtYXoYkwca2JiKHz9FmQc+dSyElbS3wBcOshgjQCAbqyZwdRLi6hQDhTek68b08JR/nGczWSzDAb5rdgf7leP4iuLilly5uDSbqkMEyk8cJ0mk1jAJSqkRVcQnzjGrXb1eqPs5mlXq40T2mELXZ2Kcwj9WGIsF4m9b+L1h+Hjep/XUatG98ilCcyFRGRTzJhdtjXPK/04P4DlmHPPrwcSzR2qtJax8d//OIxL085Baa/9l4AOXpvN/8emd/////ON/7lvHgsU0ar+XecYxZYj2exM+FNAjeZleqJ48b4eIsr6Sm3CBjNvmNM/rIAAAAo7MSd3zz7hSQw3AapfSBmuRN4l+BB5xDu/KJ6UT6yzQXDDamtJIJAAQ9OtHo8PaC44YIQuEYeONMXxBfifvb/4Dqf+Gb4pShfGijjCg+H/9HFNbNMNeqHGtqvzFbXtKXxf/Hz0HSlRfwLX1LUc3r/8NesSvt8Std//X////9cwNFYbtVWmtepVL9lr2/ajuJSWJFSpQlA2owEAAAAUWifh0KBxahscCJgyNLVMPiiCBGNzBH5MfEY2qNDC4MGh8VAKZP1xq8xmPh4HJ4zSahYzGBg5wSGDCE//NYxNwm1Aqqf1lAAVg0OQkPU+iYVZoViMZKwWYUxUhL6YDEplgUt9MRhsCNclLoN9H31W9cUufaLjwJGGnRuu/kQd6Ev60CKyGKXGbUdM2Bor0vJJ1rvU6D8QXB1E4sCS6pJcKld1H6mpbSOhDUDxF74eejP60A1J+HJ+n5GIdnYYh2k5EYzWgWQQU6kNP25VKy93ZBnS3u5yyVymrhZwjfaWNu3WsXq9Woz+cyu09yXRqG//OIxOdIs7p135zZALPDfPuvvZpMZTSVbNimzuY93G4pY5z9YYXMLlNqvz/3Z3/MefvH//eH2ef/Pzz/Hn7/9WvBltCkGqQ+ShyAAABAJk0rv0IQUBS6i/wUE6dJgUBRNLQwUDAgQGgE+YmCpnuBGUQsY8KhiQGGByAbADBgZKGwgeuAOBvgYEqaWATIE9xDJflNZYemh4ZBgZk9ybo4BR4jL8K3KKrUVj9OtCeGAy2Spm3sq+gWOxFZ65G8RPUcd+XuEvBgcCz0DKw0qy2aU1JDj6I7oVp14Td6mb92ZVajD7MhWGlbWaR36dhj4qPtOZpIK+D9z0H9m3+rbbo6kFN1kFt+dvO5DWGBqUIzIkpJu5Aqm7u08qqRu9EFRNLh//OYxNdRvBZ2f5zQAOfqNXbt/VBWhu5ADcKs3qBke2Cuk8r+wFCJDPxTk8/iwktgaETtXLndf+u5ZNEV7DtmT9qWudz1+XwDKnmis+68Yl8M2qd62/pF0R2B5HKMrX46u5Vss9fVocIRK8KaQQxrv/+8O/vfaXdeeuRq3BegMEpTfJIWq1/eONVQ4w09AKDgwsDed6k7BE4MAZT5itND0XeMtAiNPX69mIewZ6Ve9hK+X58oWfLifTmnaq7Yg5/up6KyO9nbrl5ubnDc1qqre7/7pI7xyuWHrmE32f6qn/////764mDQd42StWynN7Ze11nmZ8QkAsACfo/rlBYAE2FGjnfm4WJwbEb5wVUUMvXQAAW7fqwH7Zcz5feFWQ5Tl/z8V5Hn7YigdL7HN/i7FvGmt5Wb9FRWyiZEgbMRYY1TWMFBHZd4Xbi4ZGuDianykkQzlhqD7Bc4o9LdfMEjnuGezYi2VBPJ//NIxOskopKWXdpYAA2Ydf/////dq8jGw+hXe4X5MVnplrpFj4bF29hT1aoIrgEuJyOMFYBIBLQegRgxDxK8NWFWErJ2BgAnyDh1gZykEgBqJt4nQDsf4uEABcGCACwIYLcwSXKUIeAXjPjDDMI3TzWQIC6BxjqJI+HeXIJAhYLMlxAxS0WXNVkoFmDcELCv//N4xNs+RBaeXsofHBHECIGGgLWEbQ8bjWIedioPw73reTtdHCHOho5w56UQEMjj1yIzW0HOYR3hoDMbsTP9ClCNaxCfQ9rmCxuMSBfW9Two3rWDhyfuM1KwZHrlfeJ938/6rL+pVNgEM4DmqkKVYwFFLhkVJSezU4ulqsyqX/+X/r6kccS/nxurICPBkYlhypKq1uw3w3PrvmLUXb2spdi3M7cvK1WKZeYlM5MSKM1Ek9MiKSw1xeoaX6deQslparkkZyDGUieOlhT65cDgUEyXHToxxiwFlslNEnPYVYnSgUKAiklOo9FE4VhopExzqKtIssKhAAAEy+mH//NoxNEyhBaSfHjfdAlcU/CnfQYKnWqunW88QlixG9Ze4EKcCTRuX2/qWZRh3PX6qV8flfRMLRUc5wsYH0RBQ4uyEZ30Yiv1oQkgcA4fFxgcaSQ9EZT16fQQIpzzk+3/+yTmMhLkYPu6zmIQ2juh8u6a3vdJYOt+s2n7ZB1HtmRtiR/Z4wJNPMSnPxxMc3DSMhVwVDpUKOTySHMj2RrQhRuLEp1bJIc0Q5nilbLjvUCGmMUiYmmtBfbTtWtiTrUvppvmOpWiBgSlN3+WkKtuzvl+oAQ6FBUZ//NoxNIvlBaS+MFfPECGFhwZLDjlPOIAIY2MR4i/GK0qc1FxogQmzAmUDAwADAIEDCwKSyTFfq2OJwAeAFAKcDRRCNT6YHACNj1Ia4RlCW8TNVGK5YxVWKBdptl9mSIxxnsZrlUVNY+ra+4TV4K8DGIbKLYZKFkLoq7v4bmchbzgbTnW29cIBVrlQOoUzIqGR+1zMiuU6MQ52qribscwEFzi4mwDiQYLDRQWFBRokUjsrr1nz5fXvQzm+pSxjrzKgdQW2R6tyoY2dSlLNQxlFTRIVd9sUsPQ//N4xN43q9KXGuPK/UqUBwMlaI+lgd+7et4Z2K4wPfcsul+2DeyQMaDWJRC7zqNegfqBwOitN1nXvPiLCkraKevyiyttH53otd1v15zVuqvg3KOv0ebj0JFrtecXuZ6kkI8ZLHUKizQ1Vg3Fc2jVLDwlTJrg1br//9CtUWDKKDlKW5jXfOk3SUyy0CO30//3RyldC6GpW5tUx3//3ZTfXii0eoNKlgUAMAaPVY7d8sbWpXKFlgkovk6akW0mnJAqR9qLebyTX4rC1bW9y/e9TMM2e1YxXrv7j0o0wkOAI2dHcsLLo/ERJjLFrFysOKpfDcB0AbiVlhaVrVYp//NIxO4lpBazHtIFUOVuDifWl+a1v//+5r/i/2FTaLDlBaGnadnZobQfa0UOSJiWqs/Q3r/q1qt2ORmrZds7E0V2Z4MdhbhxgGHthvDKAwbVlCICSv3++t23L9J29L2QiRaV/KlLnWWzUf2KsONnBZX06cpoILcPDxEaHaEsv983l+MQdOTN+pvuZZyt5c56//NYxNomi8anHsoFPdRu+HlM/Nfu/T3Ya2nK+s2cQ5KM50zpXSv5f73y/L03USVaOSn6rQ9M27/9UoWRIhf7olP1+e5ls/+X5p81Gqu/6oQurpGRReeU7pr4AnuDlXgzAEeJv6Wua//yrOGrYDCQwXp468jWWwreGgDpP2xQswDDxpDZ1Ro+oAhQDXzXEgQYO6KOwQEiRbo1CMFazAmQrEOQCEiA4LMCgMIJZCbemY8wDjJl//NIxOYj07qq/sMGvUyYtObCIYBwY4ckyy+MT7uTdA7kBz1DJ7lmjvW4hdpqNlUGMpcrDrI5AzvjOABy8cgMFwh8nWos21Ucv3Z9JjMpFsBhjKk1/ossr04sgfB4aEyOSV2iI7JUT1UDFnVCKCocAQHGiq954OxIgAAATbjv3t2LX4vQAjjNMaHLW6LAmEWc//NoxNkwOq6jHtDLiAmIh2mMSLqgEYzVjXQSjL0r6YMzphwHqFwKQlockFpCehaR3FwlicOITI3JVUdolo2jQMYvkqsxROmtjJRi04kZGzNLzGNJ28xZKp0UbJ0kkqNlsklel6Wj0f10q2U62fpHUKKlo00etCyKlUUUa2y8CywEHW+xbfnsqdunpYqEjSn1AwaUPKh0BB0JVQWAMAABCALg5HVGDiKqiybghHyMWUmYZjwQxJ4REyYDKjL2jSihECU6AglUiw5rFo4JQl1FODJYTbcgwQ4C//NYxOMpCrKGn1loAEkMU404JLBoOGBh4ObZHcaE3ShttfaeySNZrHUmgnKAci9C6WVLiTleM6hlfmQARLpFvoOkJlqDvfHG/oJRfnpRKolC1V3mbs0Cfn36aiy6D4zJnap5qvcjsqzrWYpSQtmbX4eYI/8s1HJDDNTsuiM1T8huBoflkucSBJfcluGO5uXy5UkFtNl0ga39alpM7krjOFBTRjHWt5dw/+f2rntzmdoWpNgo//OIxOVNHBZ235rJAALyMtjy/6dyGXMxZPCtNKndvbYltLHolSWKmV3WGH///z///x///3cldiWV3fjlLDL94TEsxcSnpI1FJXOy2PW70cuXMJNQUkrk03cvarZqpyMCcmW/WXbHLGtQOkggNAmktRgeawm5W48oiuHuxFHIZq1ujg4d43kfcCQHkAMlBufRM0Fn1V7zlWcg0hczOSPxs07njKDVI0JjYpzX/VSbsiyQ1dUsfLTfphw6epZnNvvpvPDP7ut8PfdS+I3cVDqbXNR9x8P4tVv3w5zra5x5xz9Gwn/r7fYl//F4/Jf3GymD8y/KzxnxzD9Kdt81xAEBQKSyy/f9ZbxbuptuVUkjhtY6XOGFFZhuOT2vi8NNdYE4//NoxMMnqr6q39hYAbK1M2dIQFy1uNUlUNxt7IsrevOFMEa+oGudd4ctaEZ32dp9ubK4oqKmz+rGGZSVQYs6TGwTkk7w/33L3l+azLInptu5XPV39Gf6DZ+qmUXOpy7N5nQrOei3SzOHYSh1dWNPRTOoQhJXNqxm+j+X//v9FMGUpt1YozuJCiUdUlLcrWCucK6PgyAgxAAUYc32WN/l9lsNt/ZqyUqoYo40vszREUSfAbXYIQItRf2tLbQpEQhXK4T9L6CsUyW2yrN3MgFYH9pWkIDUamzh//NYxO8qg/am3sJFbZNMTpfFSyacwIRqrUHD2VDjKhhomrfWtDJs/WWed5rSc8mW+gMUkVBD9Jo/+XdZ5FoXpuIBbLT9th2VhRMeFlzO6zyuNb56yyKveXOEhp0cC4LBELLgAAOIu7veFfWlHko2cX9QCxgDYS6/elQXAFi4VZyeELHtPic9RsBMYU4xWTQzC2agRJ2ojGZS7IIFfSQ9dqC4QAHF5ZV52w8O77KXiFKhGsZf//NIxOwmas6W/sIHSEMXp5lZqsiLmNlXalWpsXuWHw0vJo/g6XGNU7bf8NeM7/jZVyRFsY1LSxvMCTldms5l6kft//VHk6t7/9nn+09tWmvSrTi4GlqXAQSBkZd/mW7VLBQhEJXafhXl6tg7VMNXbIm0ihE02hUHgeYf1ASsppjvu0mUDRCa0AEggJNJFVSD//NYxNUmpAaJ/soFWQd/wuEZIckFrLB0f/zdIPtSCk2aFe6lTJfbGU7v73bvc3HH0t3us7mZFacRaZj7G+rnOLoH3lp+rEo9xMoxAUyqLnOgwgoxPOc6qc7//Len///Uv71oeqqylYpBQQcNk8CAH/U3f53N/HzATAEycKgcD0yXoCNEQxllhQoMIR+cJ/kxmEs8dN63dZU1qGWHIMgolFFW19GWulF6r6zUqt3Zm9VIEI/2//NYxOEmhA6SvsILMeaZymkOiogQh9svDPcLcqfFjYU3H6RLN63w80tWMkaaOgaVNnd2v//0vL3Jqw4SQAg0N8sn45ileS7k4fvSCqwXR8QHrcTqNQg4n7anFzI5GWVTvr//+6/VvLIBGYpQG1Hcxg2AAAAMssj3+q1J+6aDUeDExgIMSTeBW59m51lLTEBWdXK9y/qpHYF7fuv7LacoGWjNM6MEu24oESjL+Y1CUTnNkmdF//NYxO4qvBaJ9soFXOP4atbW2O2urWrEsXuPmzmJdRBXdt6EZaL26sdHdrMp4SEBYwrRylqz7s0qFIzuaiOUhSmZLCRljDFU6oaZkFjVsyf7tq/Y3b/+oqUqiVBU8PK4dZWAAAAB5bJbv+YX+VbkP5CgltMWf53o4wdyYdgJxYxNatTcktS2HDQVToLVeKoJzE8toMZbboZIQd4g7bLHI13hcRH34dzOMRxChlXiAqRMlzb8//NIxOol1BKGvtGLFK0xI7fqRZseZUOPhVECmsFluehjKaynz1y9VnbxjzM/Y6RnS842RNGSyEVn9n5Xhr/eF//QTgQ5G6HggwMABC0slt//z1Ts9Xp38GSPKkG7YnMpAwCMJDAegyqI09qcm21oIihMvl5Bh0VHIBI6m9cxEY4iSCIJcXF+Dz3PiESOIISv//NYxNUjO9563sGG6XRPfubWzyx/Tk273tpKV8LE16JXB687+cF7Y+xmnTRcRMzT/DT3tPdbX83zXXMdNt/7R/0nEXvXfeifG3pEf9DcTooqPyCAepIAACDJJZXt/uHzLqGXgmEosJljwhFZWnEmMnOnJi6ktpHMFlDgQcnRIo5JJzSNPBw9/r+KeZRNnS5Im5oCJBM0DEta0SSR1ziOeXyczOzzNNVCFbttT+Jre+v2j69o//NIxO8j8756/sJQeOZ75CSHcOyyirdDo6RyjISlcx279K0v9//74LudX+f7vxXLeiY/h30492bsqVlBuIOXqzqAABABJ52trm/mLcci4t2PVvKkR5Ztj1LK1bi+9kj32QzSP2lJRb1oeAaLbMLmkozj3MYZgiamKYQpGaOpg3KFD8RAbi3CakyOeecIjKiw//NIxOIkowZ6/mGQ/ailQaFZSS2WwafrW8jpsZ6iTovdSrRSsKsRYOxSKd1V0eRTMdCM6ib2rV6ttd5CuY9udTzkYj1ZbRhEzkfOL9E5U/miEQENTWuSO7wK32+htZJVqKr13FjzvF9wy/Y9UhoZI83JFc2Oh0O3t4Vs2CyaGC/ZIkShx7Lny+bR4+izLHdV//NYxNIke7Z7HmDLbRHpoxeyqszdIMubuJlmqxvFTO38UsdcKyC1DIZuXS1IPEQXFxHFicoR12tyuwjpmwPLlWsykTEZfBG8I8yqIVcyKXekU97qG/9KF5UoPQ0CNFpIECJDCCGDJYMBECy5ZHEpfl03LkonEopvHJPiU3RwRJIzlYxIRONV6B6CyZxmHLZ1nt7fXPnkuv5yd136KnEYXsCfdDgItl2ZVVMh1P0TIxGAuALH//NIxOcmg/p2/noHOTHNi+ODl+FE8v3Np+0oUlIzLkTnmelpgBa+7cLUWQepkfuwcvKnwW7zzvJaBaNxv8lF98Tt7uo2rliiDED93FQYJox38nu7C1iVsQMjbc+0kbs0KU8JMI2SAB2sVVN0YaLzU9iXxXQ6miVYQswqKyGh4lekH4Ewc/pjwfqWiGFQKXsn//NYxNAlpAp2/mDNeRSzc9CpvVJUtRyP0iedJOfzR+madeSZUzvydJ5mWwhT4fU50iUQBQUaMXYwgWJAkRjMzz2I7bbLfWW8kjeTQkUzJphyg2DK8QG/Ht4poBSKkREAkcksbSbmO/sdisejl4lvw4uvRdR9EfKnA655e+0kHdY6dRx1a39RdffdSO5enXnuRFDmJZqV6ovKo9SA1VSYZ2pJ81n+p0kYWXG50+tuhnxFJ+TR//NIxOAiG8qG/kjFda+RRQIuLkZpWZldFVTxc7vFClZiOrodUOaq0Zb9ruqN50pMzH6nSUhaOtz7VK0TMKsYcZhTpQSj1pMiE0nHKyknxTW0Z1MI8rno+XGE2SvmatzQlVL6h8t8BABJJumAiZI2xZN/cXDqKDu87MzmtBgG/HY+F3SvxtED8UoS2n8PPyX4//NIxNoj9BJ6/mDLcMHK3Y2v/2G6wv8/ljxIUzIoJJKd+/2Tgonep5f6FH6SfY53/Ly/52S//f+c9z86b6cQuINKhI57rYgceqQRM0FNLY0Y3mM1QWZ8+HzV2zsEI+zpJj6rbRZ0MUq5k27a49EktlKmowyVUth+P+f9K2A3BMaPSPMMbECdTEigAqYoR1Uh//NYxM0hZA52/HmG8CKSnJMwn50yfz0rCDvlemevSMnyyhy55eV+HwnFLbFV+QfkU1vfMYGZw9zX+FD42Ze/l5gr1c/vwv5n8INhCaEv4pu1ARJRvfWxON6LE8FUNFlKiOqJ2CHhAB0ay6B3LPw4iHgNW/G2TJw01ZgsKjD5Wz0xEGf3fKrVU1hnlsZK4EPiDuOzIpb5px/88jt/a85/fKnlGPOI44JGOgv650qSO45gM3lD//NIxO4ig95+/npGmd9c8300/P/XO+2pb++nDS9Tsefw/uGLLoNC3YQQE0Qzn2RpNSlGYDtYvD40e1mM65OfwNskB5jg2Lao4fqIA3Glof2AsIYflnmiCgPhSlV0JInmllVR96HyPqe4noyblRohDxiDHplSXmG6/mr5lf1b6jZEj+6ue/GXapRzNxG3szXE//NIxOcfwqKG/kmGfdoMB08aDagiWaDlgHMFX+GfU/UbdOx6hYysXBYTk1EotO2aFN6YpubXauCxJqNJu0SF4hhQCJBd1UAMcJWVtJQqmQAB2xAAzjUPAXy7Q1JTqde5I9HdRlUjmuPJ1vs1g+BAIBg0+xB7s+IGwxDkilKdVZTCDl3yKfeCW25PA0QcmDXs//NIxOsiapJ/H0xAAKWzATqQp/k62Xw/lK+Saf1A+duq3eNy2gdyBKSGIYikPwyyBrVyivNZhuvGn1jFus7UCVbcvrO5Al6RQvOip4blVBch2kwmaS7VlEVpa9NQQ3Synk9N/dp7+UvtxuHKnH3uSR03Ws36bDmOcdy/VFHnZhFmKU27VjGrhY+N0jqWb0OT//OIxORG5BZmX5jAAByX8p8NVfw12n33lruFXedevjvDfLdi1euX5XZ7WqWK38yqVc7GdNSzcv5UzlHb09lYm6GvUvVFe7NziotVVEiWxMRzaKYNcboiuqsYIsz4GglTtGL6mIFpfMyJRhOqCyQEpC7gyHARExcsQhodEAdQ9HFPu6SASwDjLBntkLxMDdRTJeFDGyIW8LXY+IxCxEbwgErcrLQF/YEt0kDuNMKWIN91LJY1t6vl2E9DSgqXNpUrxVpbGG6t7L5fO3cXegOcnJ+lvvhJZcyR+KeORuE2I1MyuWV6srdm1N02Nm3EJuZ7T1Yt8HSW9SQxTy23bmpfS1pXbsTUNU09TZWZPTWp61KIXAFBKXRnV3wiasUkro6m//OIxNtLXBaDH5rQADzB95VFXc5KJ/PW8O8/4fgyb1EZ+U8y3z//5XanoFoL8lp2v28441h/Mpv6Snh/t7Gjl8tn4jWzq17OWNNTWq1N9+GYZh2G4xTc/5VTVquG+XtKsyVEaduCkau0uRzBVmzR0Fw+oUEKhhdVxleori2xhhxUo8VKEEDokgs4wea5WEWKxFYIl5pHmOqKzONQTRDIzXUtSuahsqqyKVFlNRVTqKtL3R0Mj5jbsv23WkyalZTXR4iogZWFnQxiM6PVv//qkztxIPGtMYz5fstSih3RWExLskUV1ZgxII3LU7G5t8UQQYmOZzw/RMhdGTaObqiH8jEszKsG11WIH7POmpUY+BvKy4x2Geo1HKyRcxA0ursG//NYxMAhC86S/8woAOPvI5Sx1ltq8fJ8/9+CKZSmyHYwGZjNyJXx87IjTQhtuz+idDybIIWAiCmMyqaqv9n/uRNWZeIjKrTbW7hYkFJ6VjWiFACEybem5dX3umYZCZpCOie5WyUxWGK9YzFyyn9BrcT7CVq7W+ocypzWNk6K4SEEJLyCIglfcKDBpnN1Eu6cxGsc4UWNix8kPhl05WLaXyQimS2p/6AyqGBCQROTo8PJ4Mnu//NIxOIfc9KG/khH0O6U6VBDUQEItmMsvy6X+XnP62sSn33LqOa1SvOBAercBxfhn/qN49CDAgEEO7elJd6Flv6BritMOz5V0kcRYiXQYwWU/2YTkOCmH3hwaPGnPoSN6vtMWEOhqN08QqMKwLEFq036zSUprUsaxfP1FfZs7OzXEK9J/8RNpD16f7dlK3XB//NIxOci/AZ+9mIHLc3X9Q/88XzVtMGB09lKt0sWd8OjXCqvyn0t9XNfG9QtpffE7V93U0NOGa3PvaXqkgAABtmRJze9FqwfSEOQLLi2jZUsKD5MyxCXDhT6K0ZQuPsBUSHB6IopMjrHOKW9uJRw6mRy1Impq1eLpTSHcoRsdcFM0r21d90z1W0zXzPcxzyj//NIxN4iU7569mGQkPMqqx3etQ31Efzw01Vt1PCRxyt11rTHNGSbzyv/fuv9cs173cqstcL3Ncr0/zcztDTKxc1B3brnj6ynk665qg6ADQBFI5JIkC34IBQEoFgEpwGDDwh8hFD0Bh0PLboXnGggQOKHAY5AdASXkcXm+KIwOWAwmGRbZPKUNdFqqDC005BA//NYxNckk9Ju30xAAUL/QymHAEagBM1s6ZrsPMPXaSIwyt+UEkIhiCFpMqa/afSXP62eNue7D6L4RUikvrzUWtY1eYxOthh+CgjLJzO5SYfep6OWQ/8ou4yqjgF9Xamn3mYf58ofSehECQFIYfl1LIa1ixH5qES6WTki1xxZVLJqzLotznfzpcqJ/HYcR1OZ/hn///5//6+rb+/f5jvfd978QlkLiE4u+LRT+26e5Y7/8y5///N4xOtDJAJOXZnAAX+fr+5Zb7rvOb/v8//w/+6z/fOf9y3rGnp8Lm8Le6e0yipllDFzL1ZPe9SyRqCCCu2Oopi7znCxJAiWpkhqrCBQg5q8FN2kBhjLAHqQcyXdT+BxKaaV0bEYrrIYJnQOlvBD+tbWM/7LFd0rfrthh4WFNs6z/NhfWAVWQh4mntHZyShiie6SpG27MSjUYzgO8ukvyxNVdwV7OKu134Cg1yYewdx521f+hhE1nC60QksKzf/B+5ndNJbWU1LpFb5KL0sq2rEQ1nzm8r0N7jTwxXCve39M0t0GQWF0MQ3MV5jWlywSvhiBUAWlMv+1iTv4//OYxM1UlBZy/ZjIAMVa1ROu3RklJEorFWZqeVggNvzVXHUlKGsK2LUedjMvoB4NuQFTL9nCQaTJn+HkONGBxiRaRIYGYAjtu+/fcoEduD7bkTsjiFDTRx/H4fi7174spvDTW3KfyWSh45QsOoPG4zTzMTl1hWJhgiADCBI5pbGlSlyHpYilYIhGC2HtUHgSGIbqxSRTsfvu0jA7qc2ijIUYBpUu2usF3gikTJUiQp2pjzy4f3Vy1Q+z1ly6/7MCHWZzLNH029/bZN5s+6ckq70OVdq/e9W60etlZtk51a2ne3q9O7PZaYMv0zMzMzMzPz0zNemnPwW3KvTG+zZcdvuoTjRk4yhHR0uMnyaXlwljgH1VhmWhLHgYEpS+EZ+06V7s8YXrp9E6eHSp5dXB+RL69aXVjfNry28yJhpZoKHDtCINT9EtwvDyyVV12pW0ltH0LR+27ajEdaUAAEp79tYA9I2WBmFh//NoxNUxnBaa+clgAMOAAcUEhZhejyCi95OLMg1aIcGEEAQgW2VvkhuiFw9I2kQ1ntngxxZ5WrSOnUyyMfDU03eGWzTNtuvmcKkXkd///KH3f+rXiiTVjMm1nel4decIKM5cU6iYB0maNNTBUqVMOQTTIhGLaxqBU+k1KU2tmXcmKLUVRssUMSVs4hSfNyWXJGdxGyZZg2XQ1KaHcQwVQqPj3shZlpoqf72BrZ9lMXiKsgOBgcBDOSTP/0s6pBjT4uNIJMxShjCYVCCQAhkATYY7Y5giZHMh//NYxNko/Bae/DDTkAG1zqMiULi4RhUGASpu0zACCAJAB2syTiSuaS0iXMkC4oCTUccHKKTTYW5SnkkjNLRyiXWpw0iMOalSB5BgLlNEAfMQyyHbz2yXU2WLtSXHjBMDQxP4eoa7//4///0Sn4mY7t+P9tnfberq6b2taKk3WGZyVKWuGG1DaC17fEwdDN3MFCzctc8SKm1rCo1qsWpQfMd9BtKoVbOTYFZKa/WEO3vLf7xQ//NoxNwza9qjGuZQ7ZREEAoDTAAUNADUFEWEphSWtS2hGDDGhYN6XY4iVDHoGdeMPjGp5yAvk/6PmQFlFCSsUjrHAqVC8xzQmrVZbY+/hZgzapt//eKmd/c8mFJGz/3smpYTn/e2wnjVeYCAgQLgGsj+294otGvyZDLLUxw8bhIGg6NQPCDhU0amTzp3ZOkiIqwqwbRbKD0hGmSGQ3iUqGmjIADfrFH/dS7rdTbRJOIyxFBnbFrsNNkipKFOXBAUlkUP0lDTcxUeAClUshtczz5lH2VAXH/i//NYxNkocdqrHuYM6FgViQiO/zdnxLFQNDqlegwIjh8rexi/xMeBQQy6zjtrlKHQb/0r8TQyOtWjUMYxVK4gAoM4sbKzshjf////X3bcro2ctU9i3v6esyXboabZFKLq6AAAB29dYv3O0nbHaR0iEGNDVyKci/M7OZcFOkwwhPkB1nsEpdclT6KoGDBRpJtAF66ZlVKJgmMDQaI1noHCBEKW9/8/kcfsMXWiVS/Uxh41/kHt//NIxN4iXBaintKLKLVdoUZyGSc7CysV1V1EB/+UpSkEbmFw4Lsgl0Mbp2AYe+ltWNEXKrSKxdHrXf+bflK1KlSWnbeyal1Dun/8+g/ddYAAAAI7FUv/+eGdTOMLeNF0JWI01pqeUWoogiAJEwIEQEw4UuW5jKYMT8L1IuI7p8/S/cdiNXaWoYamoAQLipCb//NYxNclXAaKXtpLDfVz3d4oDQpaZvroa50jfq/G9uUmDbE5Spa5uZWOYoEK//+UuGqnw+ftDUvL/mR1dkbyINJlClBsVY5IFN6yMqdbLIZw1UxxHKPI/OvEywSVkQAAsrhX9xyqazuZ0Bh9saKDLZcalpnTdaHQssgJEMeEmxtejNNDDgMeDgou49zD3ft8mE6mT91u/diruyR+pnkS9fX/s69iIaWCtLufLYXlMSil5G61//NIxOgkEvqCXtIHKBs77K6oW01j+qbdCLeQhM51eyK9mU53EWGi53RCEFQarmO5Zi2fVJjdWX00WT70YnSdLnqzt73v3T36ERiCh4IAAAD64qfbsayq6p2gAEfGwCC152oBmqVsToGDRSYurBoAGs6hE9jX00UwEIDGw1MJAddMYZdNxmdZwligurgRgNay//NYxNolhBZ+ntmLLGBDtudawuxCGylJZIxoLD/7xWz+00DHxSsB5T//+jYnIP+cVOQWwQxDbfFfZBQcdt91RZyx5Z7u1fSO7lbkPUu41FHoQg4lxFKD/4QOAUCUIhFB8UFMOFKAFC6WQY59p3///////1Awc8OP6YwWEMQ0qTyCA8ocWWywKJJlf9JKpKVBBAlNAWBBBFsWAAACquQAA72Qm69wt8z44bfDAEaQpnxeL07h//NoxOs0zBZ+1uPRTKPZIqPlCP9dIksiqy/OUOAm6ul+Z7t/mEogPHK7hapcM5HblNlwYjLccqyqSQxalkTI5e5adZikwkeVxx/7sNoZh8DBVen1btFL3u0+W0xdCqGHLtrjy64UbMRnMYxtAYIY3zlL9XZWmoHBCaXIwG7WoYUpgo9WxcEQCUwQGLZ////sqVKrkIcMXzGBo60HkVFf2O+rrERyo4yhWEC1oAAHC5Up/nXv6pKijpgJANDEwxYzvW4bKoNcYAAGDJGfOBgaUOU4q1pE7TfB//NYxOItRBaSHtMFhOAhDoqD6RD4qg/KIjnHELsh5IysaIolJh7x6YPSVDjjjREktWqbWdfUhJTlQ4spphptqKYiK+r2dTfotPqpprc48ekBvQ6rdDnRf5y3N0OU03///0OfbVjnNb2Wnab/TVmuhpppEdU0sbFqAIAKAHIIEVY1jlYsFYlBgeklAEbU5GnGAAJnfWcUQGUtxlCKZG6GSpwjSRAgBCaYqbEQOqgdbAvS8wAd//NYxNQl0+6KH1pQAXq7IVAwd3GOkSJG5bIV6uFAWOt5OErSiomq0pZywrIWoru3retw0uySrcgGFtKe9iLSXsa9/6/9tvHHMeyNxNibSnzd10YQ7z7f///+5jcHMvwvKWTMIgdxXBgR+mlQ+01wf/////79+d3CXttwHH5TC4xLIs+0vkL6yyjhqVwK+v///////9vlNSd5/b9Tli/21DkLZU/72MpgB72VPu9jWYAftlX///OIxONC68ZrH5vAAP/////////87/ef///P/v//xOKOzHIu7UfijsxyLv9JYpDMeh9/pLDlTEFMQU1FMy4xMDBVVVVVVVVVVVVVVVVVVVVVVVVVVVVVVVVVVVVVVVVVVVVVVVVVVVVVVVVVVVVVVVVVVVVVVVVVVVVVVVVVVVVVVVVVVVVVVVVVVVVVVVVVVVVVVVVVVVVVVVVVVVVVVVVVVVVVVVVVVVVVVVVVVVVVVVVVVVVVVVVVVVVVVVVVVVVVVVVVVVVVVVVVVVVVVVVVVVVVVVVVVVVVVVVVVVVVVVVVVVVVVVVVVVVVVVVVVVVVVVVVVVVVVVVVVVVVVVVVVVVVVVVVVVVVVVVVVVVVVVVVVVVVVVVVVVVVVVVV//MYxOgAAAP8AcAAAFVVVVVVVVVVVVVVVVVVVVVVVVVVVVVV\" type=\"audio/mpeg\" />\n",
       "                    Your browser does not support the audio element.\n",
       "                </audio>\n",
       "              "
      ],
      "text/plain": [
       "<IPython.lib.display.Audio object>"
      ]
     },
     "execution_count": 16,
     "metadata": {},
     "output_type": "execute_result"
    }
   ],
   "source": [
    "import IPython.display as ipd\n",
    "ipd.Audio(r[-10]['audio_filename'])"
   ]
  },
  {
   "cell_type": "code",
   "execution_count": 17,
   "id": "c4987fd4",
   "metadata": {},
   "outputs": [],
   "source": [
    "with open('imda-whisper-word-timestamp.jsonl', 'w') as fopen:\n",
    "    for r_ in r:\n",
    "        fopen.write(f'{json.dumps(r_)}\\n')\n",
    "        fopen.flush()"
   ]
  },
  {
   "cell_type": "code",
   "execution_count": 18,
   "id": "02b4cc9e",
   "metadata": {},
   "outputs": [
    {
     "name": "stdout",
     "output_type": "stream",
     "text": [
      "-rw-rw-r-- 1 husein husein 507M Jan  10 06:10 imda-whisper-word-timestamp.jsonl\r\n"
     ]
    }
   ],
   "source": [
    "!ls -lh imda-whisper-word-timestamp.jsonl"
   ]
  },
  {
   "cell_type": "code",
   "execution_count": 19,
   "id": "2c72b3ad",
   "metadata": {},
   "outputs": [
    {
     "data": {
      "application/vnd.jupyter.widget-view+json": {
       "model_id": "959453abe15b44f38d170082e8d10d4a",
       "version_major": 2,
       "version_minor": 0
      },
      "text/plain": [
       "imda-whisper-word-timestamp.jsonl:   0%|          | 0.00/531M [00:00<?, ?B/s]"
      ]
     },
     "metadata": {},
     "output_type": "display_data"
    },
    {
     "data": {
      "text/plain": [
       "CommitInfo(commit_url='https://huggingface.co/datasets/mesolitica/Malaysian-STT-Whisper/commit/3105e6b4403253aaf48cb5fed9f65bcf3233fcb7', commit_message='Upload imda-whisper-word-timestamp.jsonl with huggingface_hub', commit_description='', oid='3105e6b4403253aaf48cb5fed9f65bcf3233fcb7', pr_url=None, repo_url=RepoUrl('https://huggingface.co/datasets/mesolitica/Malaysian-STT-Whisper', endpoint='https://huggingface.co', repo_type='dataset', repo_id='mesolitica/Malaysian-STT-Whisper'), pr_revision=None, pr_num=None)"
      ]
     },
     "execution_count": 19,
     "metadata": {},
     "output_type": "execute_result"
    }
   ],
   "source": [
    "from huggingface_hub import HfApi\n",
    "api = HfApi()\n",
    "api.upload_file(\n",
    "    path_or_fileobj=\"imda-whisper-word-timestamp.jsonl\",\n",
    "    path_in_repo=\"imda-whisper-word-timestamp.jsonl\",\n",
    "    repo_id=\"mesolitica/Malaysian-STT-Whisper\",\n",
    "    repo_type=\"dataset\",\n",
    ")"
   ]
  },
  {
   "cell_type": "code",
   "execution_count": 20,
   "id": "25a9da4c",
   "metadata": {},
   "outputs": [
    {
     "name": "stdout",
     "output_type": "stream",
     "text": [
      "36G\tprepared-imda-chunks\r\n"
     ]
    }
   ],
   "source": [
    "!du -hs prepared-imda-chunks"
   ]
  },
  {
   "cell_type": "code",
   "execution_count": null,
   "id": "8f01703e",
   "metadata": {},
   "outputs": [],
   "source": [
    "!zip -q -r -s 10000m prepared-imda-chunks.zip prepared-imda-chunks"
   ]
  },
  {
   "cell_type": "code",
   "execution_count": 4,
   "id": "3bb4ad70",
   "metadata": {},
   "outputs": [
    {
     "name": "stdout",
     "output_type": "stream",
     "text": [
      "prepared-imda-chunks.z02 prepared-imda_alignment/prepared-imda-chunks.z02\n"
     ]
    },
    {
     "data": {
      "application/vnd.jupyter.widget-view+json": {
       "model_id": "70a1c2db9b0d47de82c2a995fe5d1aa7",
       "version_major": 2,
       "version_minor": 0
      },
      "text/plain": [
       "prepared-imda-chunks.z02:   0%|          | 0.00/10.5G [00:00<?, ?B/s]"
      ]
     },
     "metadata": {},
     "output_type": "display_data"
    },
    {
     "name": "stdout",
     "output_type": "stream",
     "text": [
      "prepared-imda-chunks.z03 prepared-imda_alignment/prepared-imda-chunks.z03\n"
     ]
    },
    {
     "data": {
      "application/vnd.jupyter.widget-view+json": {
       "model_id": "577d55ecfecc4bf0b3cdae6a87849382",
       "version_major": 2,
       "version_minor": 0
      },
      "text/plain": [
       "prepared-imda-chunks.z03:   0%|          | 0.00/10.5G [00:00<?, ?B/s]"
      ]
     },
     "metadata": {},
     "output_type": "display_data"
    },
    {
     "name": "stdout",
     "output_type": "stream",
     "text": [
      "prepared-imda-chunks.z01 prepared-imda_alignment/prepared-imda-chunks.z01\n"
     ]
    },
    {
     "data": {
      "application/vnd.jupyter.widget-view+json": {
       "model_id": "ce7b4a57a7da4918b1bc5c421448c59f",
       "version_major": 2,
       "version_minor": 0
      },
      "text/plain": [
       "prepared-imda-chunks.z01:   0%|          | 0.00/10.5G [00:00<?, ?B/s]"
      ]
     },
     "metadata": {},
     "output_type": "display_data"
    },
    {
     "name": "stdout",
     "output_type": "stream",
     "text": [
      "prepared-imda-chunks.zip prepared-imda_alignment/prepared-imda-chunks.zip\n"
     ]
    },
    {
     "data": {
      "application/vnd.jupyter.widget-view+json": {
       "model_id": "45a5a9b20206463eab8a8547f8124998",
       "version_major": 2,
       "version_minor": 0
      },
      "text/plain": [
       "prepared-imda-chunks.zip:   0%|          | 0.00/3.04G [00:00<?, ?B/s]"
      ]
     },
     "metadata": {},
     "output_type": "display_data"
    }
   ],
   "source": [
    "from huggingface_hub import HfApi\n",
    "from glob import glob\n",
    "\n",
    "api = HfApi()\n",
    "\n",
    "for f in glob('prepared-imda-chunks.z*'):\n",
    "    print(f, f'prepared-imda_alignment/{f}')\n",
    "    api.upload_file(\n",
    "        path_or_fileobj=f,\n",
    "        path_in_repo=f'prepared-imda_alignment/{f}',\n",
    "        repo_id=\"mesolitica/Malaysian-STT-Whisper\",\n",
    "        repo_type=\"dataset\",\n",
    "    )"
   ]
  }
 ],
 "metadata": {
  "kernelspec": {
   "display_name": "python3.10",
   "language": "python",
   "name": "python3.10"
  },
  "language_info": {
   "codemirror_mode": {
    "name": "ipython",
    "version": 3
   },
   "file_extension": ".py",
   "mimetype": "text/x-python",
   "name": "python",
   "nbconvert_exporter": "python",
   "pygments_lexer": "ipython3",
   "version": "3.10.15"
  }
 },
 "nbformat": 4,
 "nbformat_minor": 5
}
