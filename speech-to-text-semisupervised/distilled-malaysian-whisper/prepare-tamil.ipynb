{
 "cells": [
  {
   "cell_type": "code",
   "execution_count": 7,
   "id": "9402968f",
   "metadata": {
    "scrolled": true
   },
   "outputs": [],
   "source": [
    "# !wget https://indic-asr-public.objectstore.e2enetworks.net/tamil.zip\n",
    "!unzip -o -q tamil.zip"
   ]
  },
  {
   "cell_type": "code",
   "execution_count": 8,
   "id": "2fc69726",
   "metadata": {},
   "outputs": [
    {
     "name": "stdout",
     "output_type": "stream",
     "text": [
      "Filesystem      Size  Used Avail Use% Mounted on\r\n",
      "overlay         124G   50G   75G  40% /\r\n",
      "tmpfs            64M     0   64M   0% /dev\r\n",
      "/dev/sdc        1.2T  1.2T   51G  96% /home/ubuntu\r\n",
      "/dev/root       124G   50G   75G  40% /etc/hosts\r\n",
      "shm              64M     0   64M   0% /dev/shm\r\n",
      "tmpfs            15G   12K   15G   1% /run/secrets/kubernetes.io/serviceaccount\r\n",
      "tmpfs           7.9G     0  7.9G   0% /proc/acpi\r\n",
      "tmpfs           7.9G     0  7.9G   0% /proc/scsi\r\n",
      "tmpfs           7.9G     0  7.9G   0% /sys/firmware\r\n"
     ]
    }
   ],
   "source": [
    "!df -h"
   ]
  },
  {
   "cell_type": "code",
   "execution_count": 10,
   "id": "91464826",
   "metadata": {},
   "outputs": [],
   "source": [
    "# !wget https://huggingface.co/datasets/mesolitica/pseudolabel-tamil-large-v3-timestamp/resolve/main/prepared-tamil.jsonl\n",
    "# !wget https://huggingface.co/datasets/mesolitica/pseudolabel-tamil-large-v3-timestamp/resolve/main/prepared-tamil-en.jsonl\n",
    "# !wget https://huggingface.co/datasets/mesolitica/pseudolabel-tamil-large-v3-timestamp/resolve/main/prepared-tamil-ms.jsonl"
   ]
  },
  {
   "cell_type": "code",
   "execution_count": 11,
   "id": "27d6da47",
   "metadata": {},
   "outputs": [
    {
     "name": "stdout",
     "output_type": "stream",
     "text": [
      "tamil\r\n"
     ]
    }
   ],
   "source": [
    "!ls newsonair_v5"
   ]
  },
  {
   "cell_type": "code",
   "execution_count": 12,
   "id": "79b4dd39",
   "metadata": {},
   "outputs": [],
   "source": [
    "from glob import glob\n",
    "from tqdm import tqdm\n",
    "import os"
   ]
  },
  {
   "cell_type": "code",
   "execution_count": 13,
   "id": "5cce4a8e",
   "metadata": {},
   "outputs": [],
   "source": [
    "from collections import defaultdict\n",
    "import json\n",
    "\n",
    "mapping_en = dict()\n",
    "\n",
    "with open('prepared-tamil-en.jsonl') as fopen:\n",
    "    for l in fopen:\n",
    "        l = json.loads(l)\n",
    "        mapping_en[l['audio_filename']] = l['new_text']\n",
    "\n",
    "mapping_ms = dict()\n",
    "\n",
    "with open('prepared-tamil-ms.jsonl') as fopen:\n",
    "    for l in fopen:\n",
    "        l = json.loads(l)\n",
    "        mapping_ms[l['audio_filename']] = l['new_text']"
   ]
  },
  {
   "cell_type": "code",
   "execution_count": 16,
   "id": "49f0ed85",
   "metadata": {},
   "outputs": [
    {
     "name": "stdout",
     "output_type": "stream",
     "text": [
      "-rw-r--r-- 1 ubuntu ubuntu 234K Jun  5  2022 /home/ubuntu/newsonair_v5/tamil/NSD-Tamil-Tamil-0715-0725-20195208161/sent_11.wav\r\n"
     ]
    }
   ],
   "source": [
    "!ls -lh /home/ubuntu/newsonair_v5/tamil/NSD-Tamil-Tamil-0715-0725-20195208161/sent_11.wav"
   ]
  },
  {
   "cell_type": "code",
   "execution_count": 18,
   "id": "cf54f692",
   "metadata": {},
   "outputs": [
    {
     "name": "stderr",
     "output_type": "stream",
     "text": [
      "532262it [00:24, 22070.76it/s]\n"
     ]
    }
   ],
   "source": [
    "import json\n",
    "import os\n",
    "from tqdm import tqdm\n",
    "from streaming import MDSWriter\n",
    "\n",
    "columns = {\n",
    "    'new_text': 'str',\n",
    "    'audio_filename': 'str',\n",
    "    'new_text_en': 'str',\n",
    "    'new_text_ms': 'str',\n",
    "}\n",
    "hashes = 'sha1', 'xxh64'\n",
    "\n",
    "with MDSWriter(out='tamil-mosaic', columns=columns, compression=None, hashes=hashes) as out:\n",
    "    with open('prepared-tamil.jsonl') as fopen:\n",
    "        for l in tqdm(fopen):\n",
    "            l = json.loads(l)\n",
    "            if not os.path.exists(l['audio_filename']):\n",
    "                continue\n",
    "            l['new_text_en'] = mapping_en.get(l['audio_filename'], '')\n",
    "            l['new_text_ms'] = mapping_ms.get(l['audio_filename'], '')\n",
    "            out.write(l)"
   ]
  },
  {
   "cell_type": "code",
   "execution_count": 19,
   "id": "e63921eb",
   "metadata": {},
   "outputs": [
    {
     "data": {
      "text/plain": [
       "{'new_text': '<|startoftranscript|><|ta|><|transcribe|><|0.00|> இதன்படி அனைத்து மருத்துமனைகள் கோவிட் சிகிச்சி மயங்கள் விழிட்டவே,<|3.40|><|3.74|> சிகிச்சிக்கான கட்டணத் தொகையை இரண்டு லிச்சம் ரூபாய்க்கு மேல் ரொக்கமாக பெற்றுக்கொள்ள,<|7.78|><|endoftext|>',\n",
       " 'audio_filename': '/home/ubuntu/newsonair_v5/tamil/Regional-Tiruchirapalli-Tamil-1345-202158145135/sent_67.wav',\n",
       " 'new_text_en': '',\n",
       " 'new_text_ms': ''}"
      ]
     },
     "execution_count": 19,
     "metadata": {},
     "output_type": "execute_result"
    }
   ],
   "source": [
    "l"
   ]
  }
 ],
 "metadata": {
  "kernelspec": {
   "display_name": "Python 3 (ipykernel)",
   "language": "python",
   "name": "python3"
  },
  "language_info": {
   "codemirror_mode": {
    "name": "ipython",
    "version": 3
   },
   "file_extension": ".py",
   "mimetype": "text/x-python",
   "name": "python",
   "nbconvert_exporter": "python",
   "pygments_lexer": "ipython3",
   "version": "3.10.12"
  }
 },
 "nbformat": 4,
 "nbformat_minor": 5
}
