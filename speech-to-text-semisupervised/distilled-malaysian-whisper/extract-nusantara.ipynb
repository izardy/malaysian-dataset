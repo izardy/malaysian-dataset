{
 "cells": [
  {
   "cell_type": "code",
   "execution_count": 1,
   "id": "974c0625",
   "metadata": {},
   "outputs": [],
   "source": [
    "import os\n",
    "\n",
    "os.environ[\"HF_HUB_ENABLE_HF_TRANSFER\"] = \"1\""
   ]
  },
  {
   "cell_type": "code",
   "execution_count": 2,
   "id": "5a71f137",
   "metadata": {},
   "outputs": [],
   "source": [
    "from huggingface_hub import HfFileSystem\n",
    "from huggingface_hub import hf_hub_download\n",
    "fs = HfFileSystem()"
   ]
  },
  {
   "cell_type": "code",
   "execution_count": null,
   "id": "a76afdbd",
   "metadata": {},
   "outputs": [],
   "source": [
    "files = fs.glob(\"datasets/mesolitica/pseudolabel-nusantara-large-v3-timestamp/*.z*\")"
   ]
  },
  {
   "cell_type": "code",
   "execution_count": null,
   "id": "26dfad94",
   "metadata": {},
   "outputs": [],
   "source": [
    "!w"
   ]
  }
 ],
 "metadata": {
  "kernelspec": {
   "display_name": "Python 3 (ipykernel)",
   "language": "python",
   "name": "python3"
  },
  "language_info": {
   "codemirror_mode": {
    "name": "ipython",
    "version": 3
   },
   "file_extension": ".py",
   "mimetype": "text/x-python",
   "name": "python",
   "nbconvert_exporter": "python",
   "pygments_lexer": "ipython3",
   "version": "3.10.12"
  }
 },
 "nbformat": 4,
 "nbformat_minor": 5
}
