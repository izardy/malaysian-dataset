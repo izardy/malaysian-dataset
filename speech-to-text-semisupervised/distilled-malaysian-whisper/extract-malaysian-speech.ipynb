{
 "cells": [
  {
   "cell_type": "code",
   "execution_count": 1,
   "id": "5e713a11",
   "metadata": {},
   "outputs": [],
   "source": [
    "import os\n",
    "\n",
    "# os.environ[\"HF_ENDPOINT\"] = \"http://localhost:5564\"\n",
    "os.environ[\"HF_HUB_ENABLE_HF_TRANSFER\"] = \"1\""
   ]
  },
  {
   "cell_type": "code",
   "execution_count": 2,
   "id": "1cecba7c",
   "metadata": {},
   "outputs": [],
   "source": [
    "# !pip3 install hf-transfer"
   ]
  },
  {
   "cell_type": "code",
   "execution_count": 3,
   "id": "24da871c",
   "metadata": {},
   "outputs": [],
   "source": [
    "from huggingface_hub import HfFileSystem\n",
    "from huggingface_hub import hf_hub_download\n",
    "fs = HfFileSystem()"
   ]
  },
  {
   "cell_type": "code",
   "execution_count": 4,
   "id": "66f827d3",
   "metadata": {},
   "outputs": [],
   "source": [
    "files = fs.glob(\"datasets/mesolitica/pseudolabel-malaysian-youtube-whisper-large-v3-timestamp/*.z*\")"
   ]
  },
  {
   "cell_type": "code",
   "execution_count": 5,
   "id": "cdcbc0ec",
   "metadata": {},
   "outputs": [
    {
     "data": {
      "text/plain": [
       "['datasets/mesolitica/pseudolabel-malaysian-youtube-whisper-large-v3-timestamp/output-audio.z01',\n",
       " 'datasets/mesolitica/pseudolabel-malaysian-youtube-whisper-large-v3-timestamp/output-audio.z02',\n",
       " 'datasets/mesolitica/pseudolabel-malaysian-youtube-whisper-large-v3-timestamp/output-audio.z03',\n",
       " 'datasets/mesolitica/pseudolabel-malaysian-youtube-whisper-large-v3-timestamp/output-audio.z04',\n",
       " 'datasets/mesolitica/pseudolabel-malaysian-youtube-whisper-large-v3-timestamp/output-audio.z05',\n",
       " 'datasets/mesolitica/pseudolabel-malaysian-youtube-whisper-large-v3-timestamp/output-audio.z06',\n",
       " 'datasets/mesolitica/pseudolabel-malaysian-youtube-whisper-large-v3-timestamp/output-audio.z07',\n",
       " 'datasets/mesolitica/pseudolabel-malaysian-youtube-whisper-large-v3-timestamp/output-audio.z08',\n",
       " 'datasets/mesolitica/pseudolabel-malaysian-youtube-whisper-large-v3-timestamp/output-audio.z09',\n",
       " 'datasets/mesolitica/pseudolabel-malaysian-youtube-whisper-large-v3-timestamp/output-audio.z10',\n",
       " 'datasets/mesolitica/pseudolabel-malaysian-youtube-whisper-large-v3-timestamp/output-audio.z11',\n",
       " 'datasets/mesolitica/pseudolabel-malaysian-youtube-whisper-large-v3-timestamp/output-audio.z12',\n",
       " 'datasets/mesolitica/pseudolabel-malaysian-youtube-whisper-large-v3-timestamp/output-audio.z13',\n",
       " 'datasets/mesolitica/pseudolabel-malaysian-youtube-whisper-large-v3-timestamp/output-audio.z14',\n",
       " 'datasets/mesolitica/pseudolabel-malaysian-youtube-whisper-large-v3-timestamp/output-audio.z15',\n",
       " 'datasets/mesolitica/pseudolabel-malaysian-youtube-whisper-large-v3-timestamp/output-audio.z16',\n",
       " 'datasets/mesolitica/pseudolabel-malaysian-youtube-whisper-large-v3-timestamp/output-audio.z17',\n",
       " 'datasets/mesolitica/pseudolabel-malaysian-youtube-whisper-large-v3-timestamp/output-audio.z18',\n",
       " 'datasets/mesolitica/pseudolabel-malaysian-youtube-whisper-large-v3-timestamp/output-audio.z19',\n",
       " 'datasets/mesolitica/pseudolabel-malaysian-youtube-whisper-large-v3-timestamp/output-audio.z20',\n",
       " 'datasets/mesolitica/pseudolabel-malaysian-youtube-whisper-large-v3-timestamp/output-audio.z21',\n",
       " 'datasets/mesolitica/pseudolabel-malaysian-youtube-whisper-large-v3-timestamp/output-audio.z22',\n",
       " 'datasets/mesolitica/pseudolabel-malaysian-youtube-whisper-large-v3-timestamp/output-audio.z23',\n",
       " 'datasets/mesolitica/pseudolabel-malaysian-youtube-whisper-large-v3-timestamp/output-audio.z24',\n",
       " 'datasets/mesolitica/pseudolabel-malaysian-youtube-whisper-large-v3-timestamp/output-audio.z25',\n",
       " 'datasets/mesolitica/pseudolabel-malaysian-youtube-whisper-large-v3-timestamp/output-audio.z26',\n",
       " 'datasets/mesolitica/pseudolabel-malaysian-youtube-whisper-large-v3-timestamp/output-audio.z27',\n",
       " 'datasets/mesolitica/pseudolabel-malaysian-youtube-whisper-large-v3-timestamp/output-audio.z28',\n",
       " 'datasets/mesolitica/pseudolabel-malaysian-youtube-whisper-large-v3-timestamp/output-audio.z29',\n",
       " 'datasets/mesolitica/pseudolabel-malaysian-youtube-whisper-large-v3-timestamp/output-audio.z30',\n",
       " 'datasets/mesolitica/pseudolabel-malaysian-youtube-whisper-large-v3-timestamp/output-audio.z31',\n",
       " 'datasets/mesolitica/pseudolabel-malaysian-youtube-whisper-large-v3-timestamp/output-audio.z32',\n",
       " 'datasets/mesolitica/pseudolabel-malaysian-youtube-whisper-large-v3-timestamp/output-audio.zip']"
      ]
     },
     "execution_count": 5,
     "metadata": {},
     "output_type": "execute_result"
    }
   ],
   "source": [
    "files"
   ]
  },
  {
   "cell_type": "code",
   "execution_count": 6,
   "id": "33910e8a",
   "metadata": {},
   "outputs": [
    {
     "name": "stdout",
     "output_type": "stream",
     "text": [
      "datasets/mesolitica/pseudolabel-malaysian-youtube-whisper-large-v3-timestamp/output-audio.zip output-audio.zip\n"
     ]
    }
   ],
   "source": [
    "for f in files:\n",
    "    if os.path.exists(os.path.split(f)[1]):\n",
    "        continue\n",
    "    print(f, os.path.split(f)[1])\n",
    "    fs.get(f, os.path.split(f)[1])"
   ]
  },
  {
   "cell_type": "code",
   "execution_count": 8,
   "id": "d2369da8",
   "metadata": {},
   "outputs": [
    {
     "data": {
      "text/plain": [
       "['output-audio.zip', 'output-audio-malaya.zip']"
      ]
     },
     "execution_count": 8,
     "metadata": {},
     "output_type": "execute_result"
    }
   ],
   "source": [
    "from glob import glob\n",
    "\n",
    "files = glob('*.zip')\n",
    "files"
   ]
  },
  {
   "cell_type": "code",
   "execution_count": 11,
   "id": "04697f0c",
   "metadata": {},
   "outputs": [
    {
     "name": "stdout",
     "output_type": "stream",
     "text": [
      "\n",
      "7-Zip (z) 23.01 (x64) : Copyright (c) 1999-2023 Igor Pavlov : 2023-06-20\n",
      " 64-bit locale=C.UTF-8 Threads:4 OPEN_MAX:1048576, ASM\n",
      "\n",
      "Scanning the drive for archives:\n",
      "1 file, 9557349692 bytes (9115 MiB)\n",
      "\n",
      "Extracting archive: output-audio-malaya.zip\n",
      "--\n",
      "Path = output-audio-malaya.zip\n",
      "Type = zip\n",
      "Physical Size = 9557349692\n",
      "Embedded Stub Size = 4\n",
      "64-bit = +\n",
      "Characteristics = Zip64\n",
      "Total Physical Size = 51500389692\n",
      "Multivolume = +\n",
      "Volume Index = 4\n",
      "Volumes = 5\n",
      "\n",
      "Everything is Ok\n",
      "\n",
      "Folders: 1\n",
      "Files: 1598184\n",
      "Size:       68958980348\n",
      "Compressed: 51500389692\n"
     ]
    },
    {
     "data": {
      "text/plain": [
       "0"
      ]
     },
     "execution_count": 11,
     "metadata": {},
     "output_type": "execute_result"
    }
   ],
   "source": [
    "os.system('~/7zz x output-audio-malaya.zip -aoa')"
   ]
  },
  {
   "cell_type": "code",
   "execution_count": 12,
   "id": "31896125",
   "metadata": {},
   "outputs": [],
   "source": [
    "!rm output-audio-malaya.z*"
   ]
  },
  {
   "cell_type": "code",
   "execution_count": 15,
   "id": "d2ded543",
   "metadata": {},
   "outputs": [
    {
     "name": "stdout",
     "output_type": "stream",
     "text": [
      "\n",
      "7-Zip (z) 23.01 (x64) : Copyright (c) 1999-2023 Igor Pavlov : 2023-06-20\n",
      " 64-bit locale=C.UTF-8 Threads:4 OPEN_MAX:1048576, ASM\n",
      "\n",
      "Scanning the drive for archives:\n",
      "1 file, 8025521084 bytes (7654 MiB)\n",
      "\n",
      "Extracting archive: output-audio.zip\n",
      "--\n",
      "Path = output-audio.zip\n",
      "Type = zip\n",
      "Physical Size = 8025521084\n",
      "Embedded Stub Size = 4\n",
      "64-bit = +\n",
      "Characteristics = Zip64\n",
      "Total Physical Size = 343569841084\n",
      "Multivolume = +\n",
      "Volume Index = 32\n",
      "Volumes = 33\n",
      "\n",
      "Everything is Ok\n",
      "\n",
      "Folders: 1\n",
      "Files: 2222136\n",
      "Size:       346652325340\n",
      "Compressed: 343569841084\n"
     ]
    },
    {
     "data": {
      "text/plain": [
       "0"
      ]
     },
     "execution_count": 15,
     "metadata": {},
     "output_type": "execute_result"
    }
   ],
   "source": [
    "os.system('~/7zz x output-audio.zip -aoa')"
   ]
  },
  {
   "cell_type": "code",
   "execution_count": 16,
   "id": "0439da19",
   "metadata": {},
   "outputs": [],
   "source": [
    "!rm output-audio.z*"
   ]
  },
  {
   "cell_type": "code",
   "execution_count": 1,
   "id": "d72b4be7",
   "metadata": {},
   "outputs": [
    {
     "name": "stdout",
     "output_type": "stream",
     "text": [
      "Will not apply HSTS. The HSTS database must be a regular and non-world-writable file.\n",
      "ERROR: could not open HSTS store at '/home/ubuntu/.wget-hsts'. HSTS will be disabled.\n",
      "--2024-08-18 11:37:04--  https://huggingface.co/datasets/mesolitica/pseudolabel-malaysian-youtube-whisper-large-v3-timestamp/resolve/main/prepared-pseudolabel.jsonl\n",
      "Resolving huggingface.co (huggingface.co)... 52.85.151.12, 52.85.151.16, 52.85.151.31, ...\n",
      "Connecting to huggingface.co (huggingface.co)|52.85.151.12|:443... connected.\n",
      "HTTP request sent, awaiting response... 302 Found\n",
      "Location: https://cdn-lfs-us-1.huggingface.co/repos/df/83/df83230e6a0d63e3515f3f1cb6348e909e7462209bbcd75f119bafca59bb4b73/2db7be678cf1d01e09437697dfb2923cd9c7be0ca5ea80efb9ad97134c5565af?response-content-disposition=inline%3B+filename*%3DUTF-8%27%27prepared-pseudolabel.jsonl%3B+filename%3D%22prepared-pseudolabel.jsonl%22%3B&Expires=1724240225&Policy=eyJTdGF0ZW1lbnQiOlt7IkNvbmRpdGlvbiI6eyJEYXRlTGVzc1RoYW4iOnsiQVdTOkVwb2NoVGltZSI6MTcyNDI0MDIyNX19LCJSZXNvdXJjZSI6Imh0dHBzOi8vY2RuLWxmcy11cy0xLmh1Z2dpbmdmYWNlLmNvL3JlcG9zL2RmLzgzL2RmODMyMzBlNmEwZDYzZTM1MTVmM2YxY2I2MzQ4ZTkwOWU3NDYyMjA5YmJjZDc1ZjExOWJhZmNhNTliYjRiNzMvMmRiN2JlNjc4Y2YxZDAxZTA5NDM3Njk3ZGZiMjkyM2NkOWM3YmUwY2E1ZWE4MGVmYjlhZDk3MTM0YzU1NjVhZj9yZXNwb25zZS1jb250ZW50LWRpc3Bvc2l0aW9uPSoifV19&Signature=rhclp2wkghcPzqDR8XAYK6F5yki%7ELjdvEKN2nO--r8H%7EeLCQEHge0UZfJOP0bbSyVZ%7E0tGJ8rq3izjvbs%7Ec76L6MBiWhToqitpyvkigFQ3TU0cy9%7E-v-NqI5P4uSpWS6jTv0PUXGRgzqB1iUy%7EJndbLEW33g1eisbbXD2rE43J6P1Lferq5xs4a1xgOEUqPA0vqQHMZATh9lCtjIgtxc%7EiUtNlI0EDi2iPOEijlOT2PhX68N596-1lUCy2LXpmULVxt8joqMqnRm2PIf3HXKxbhsOPsvYbaRZt9cuXeB-RpMJDfObXFVFIg9HEF2KImD8BRaiANUnkCE2UHcqXK1nw__&Key-Pair-Id=K24J24Z295AEI9 [following]\n",
      "--2024-08-18 11:37:05--  https://cdn-lfs-us-1.huggingface.co/repos/df/83/df83230e6a0d63e3515f3f1cb6348e909e7462209bbcd75f119bafca59bb4b73/2db7be678cf1d01e09437697dfb2923cd9c7be0ca5ea80efb9ad97134c5565af?response-content-disposition=inline%3B+filename*%3DUTF-8%27%27prepared-pseudolabel.jsonl%3B+filename%3D%22prepared-pseudolabel.jsonl%22%3B&Expires=1724240225&Policy=eyJTdGF0ZW1lbnQiOlt7IkNvbmRpdGlvbiI6eyJEYXRlTGVzc1RoYW4iOnsiQVdTOkVwb2NoVGltZSI6MTcyNDI0MDIyNX19LCJSZXNvdXJjZSI6Imh0dHBzOi8vY2RuLWxmcy11cy0xLmh1Z2dpbmdmYWNlLmNvL3JlcG9zL2RmLzgzL2RmODMyMzBlNmEwZDYzZTM1MTVmM2YxY2I2MzQ4ZTkwOWU3NDYyMjA5YmJjZDc1ZjExOWJhZmNhNTliYjRiNzMvMmRiN2JlNjc4Y2YxZDAxZTA5NDM3Njk3ZGZiMjkyM2NkOWM3YmUwY2E1ZWE4MGVmYjlhZDk3MTM0YzU1NjVhZj9yZXNwb25zZS1jb250ZW50LWRpc3Bvc2l0aW9uPSoifV19&Signature=rhclp2wkghcPzqDR8XAYK6F5yki%7ELjdvEKN2nO--r8H%7EeLCQEHge0UZfJOP0bbSyVZ%7E0tGJ8rq3izjvbs%7Ec76L6MBiWhToqitpyvkigFQ3TU0cy9%7E-v-NqI5P4uSpWS6jTv0PUXGRgzqB1iUy%7EJndbLEW33g1eisbbXD2rE43J6P1Lferq5xs4a1xgOEUqPA0vqQHMZATh9lCtjIgtxc%7EiUtNlI0EDi2iPOEijlOT2PhX68N596-1lUCy2LXpmULVxt8joqMqnRm2PIf3HXKxbhsOPsvYbaRZt9cuXeB-RpMJDfObXFVFIg9HEF2KImD8BRaiANUnkCE2UHcqXK1nw__&Key-Pair-Id=K24J24Z295AEI9\n",
      "Resolving cdn-lfs-us-1.huggingface.co (cdn-lfs-us-1.huggingface.co)... 108.138.85.41, 108.138.85.61, 108.138.85.57, ...\n",
      "Connecting to cdn-lfs-us-1.huggingface.co (cdn-lfs-us-1.huggingface.co)|108.138.85.41|:443... connected.\n",
      "HTTP request sent, awaiting response... 200 OK\n",
      "Length: 2014566955 (1.9G) [binary/octet-stream]\n",
      "Saving to: ‘prepared-pseudolabel.jsonl’\n",
      "\n",
      "prepared-pseudolabe 100%[===================>]   1.88G  84.1MB/s    in 26s     \n",
      "\n",
      "2024-08-18 11:37:31 (73.5 MB/s) - ‘prepared-pseudolabel.jsonl’ saved [2014566955/2014566955]\n",
      "\n"
     ]
    }
   ],
   "source": [
    "!wget https://huggingface.co/datasets/mesolitica/pseudolabel-malaysian-youtube-whisper-large-v3-timestamp/resolve/main/prepared-pseudolabel.jsonl"
   ]
  },
  {
   "cell_type": "code",
   "execution_count": 2,
   "id": "db7c4b92",
   "metadata": {},
   "outputs": [
    {
     "name": "stdout",
     "output_type": "stream",
     "text": [
      "3085595 prepared-pseudolabel.jsonl\r\n"
     ]
    }
   ],
   "source": [
    "!wc -l prepared-pseudolabel.jsonl"
   ]
  },
  {
   "cell_type": "code",
   "execution_count": 3,
   "id": "d4e31e2a",
   "metadata": {},
   "outputs": [
    {
     "name": "stdout",
     "output_type": "stream",
     "text": [
      "{\"new_text\": \"<|startoftranscript|><|ms|><|transcribe|><|0.02|> Collab dia tak boleh kerja<|0.90|><|0.90|> Tak boleh<|1.40|><|1.40|> Kena ambil yang business class jugalah<|2.76|><|2.76|> Business class jugak<|3.50|><|3.50|> Faham faham faham<|4.66|><|4.66|> Macam tu<|5.48|><|5.48|> So gaji berbeza<|6.88|><|6.88|> Gaji berbeza<|8.52|><|8.52|> Antara<|8.78|><|8.78|> Kelas-kelas ni<|9.78|><|9.78|> Berbeza<|10.60|><|10.60|> Few thousand jugak lah<|12.60|><|12.60|> Jauh<|12.64|><|12.64|> Jauh beza dia<|13.40|><|13.40|> Beza seribu dua ribu<|14.94|><|14.94|> Macam tu lah<|15.54|><|15.54|> Total<|16.78|><|16.78|> Kalau macam Singapore<|18.78|><|18.78|> Dia macam tu juga<|19.50|><|19.50|> Tapi dia ikut qualification<|20.68|><|20.68|> You diploma business class<|22.04|><|22.04|> Ijazah<|22.98|><|22.98|> Macam tu eh<|23.64|><|23.64|> First class something like that<|24.76|><|24.76|> Dia tengok qualification<|26.22|><|26.22|> Let's say kan<|27.28|><|27.28|> Eh itu gaji gaji<|28.16|><|28.16|> Gaji gaji<|28.72|><|28.72|> Oh itu gaji<|29.26|><|29.26|> Serius eh<|29.82|><|endoftext|>\", \"audio_filename\": \"output-audio/2-0-0.mp3\"}\r\n"
     ]
    }
   ],
   "source": [
    "!head -n 1 prepared-pseudolabel.jsonl"
   ]
  },
  {
   "cell_type": "code",
   "execution_count": null,
   "id": "1a42e8a6",
   "metadata": {},
   "outputs": [],
   "source": []
  }
 ],
 "metadata": {
  "kernelspec": {
   "display_name": "Python 3 (ipykernel)",
   "language": "python",
   "name": "python3"
  },
  "language_info": {
   "codemirror_mode": {
    "name": "ipython",
    "version": 3
   },
   "file_extension": ".py",
   "mimetype": "text/x-python",
   "name": "python",
   "nbconvert_exporter": "python",
   "pygments_lexer": "ipython3",
   "version": "3.10.12"
  }
 },
 "nbformat": 4,
 "nbformat_minor": 5
}
