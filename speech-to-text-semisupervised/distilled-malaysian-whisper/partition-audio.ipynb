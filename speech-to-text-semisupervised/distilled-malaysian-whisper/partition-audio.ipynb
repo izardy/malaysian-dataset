{
 "cells": [
  {
   "cell_type": "code",
   "execution_count": 1,
   "id": "e0f11e19-aeb2-4468-bfed-1d7674c115c1",
   "metadata": {},
   "outputs": [],
   "source": [
    "import json\n",
    "from tqdm import tqdm\n",
    "from glob import glob\n",
    "from torch.utils.data import DataLoader, Dataset\n",
    "from streaming import LocalDataset\n",
    "from datasets import Audio"
   ]
  },
  {
   "cell_type": "code",
   "execution_count": 2,
   "id": "46c0efc7",
   "metadata": {},
   "outputs": [],
   "source": [
    "data = LocalDataset('mosaic-whisper-combined')"
   ]
  },
  {
   "cell_type": "code",
   "execution_count": 3,
   "id": "eff0785b-9b0a-4c33-8a93-b0b8ce4cfc4d",
   "metadata": {},
   "outputs": [],
   "source": [
    "split_by = 100_000"
   ]
  },
  {
   "cell_type": "code",
   "execution_count": 4,
   "id": "db9e7812-ee19-4bae-949f-ed18093c3217",
   "metadata": {},
   "outputs": [],
   "source": [
    "!rm -rf partition-audio\n",
    "!mkdir partition-audio"
   ]
  },
  {
   "cell_type": "code",
   "execution_count": 5,
   "id": "ed969841",
   "metadata": {},
   "outputs": [],
   "source": [
    "class Train(Dataset):\n",
    "    def __init__(self, folder):\n",
    "        if folder.endswith('.json'):\n",
    "            with open(folder) as fopen:\n",
    "                self.data = json.load(fopen)\n",
    "        else:\n",
    "            self.data = LocalDataset(folder)\n",
    "        self.audio = Audio(sampling_rate=16000)\n",
    "\n",
    "    def __len__(self):\n",
    "        return len(self.data)\n",
    "\n",
    "    def __getitem__(self, item):\n",
    "        try:\n",
    "            return self.data[item]\n",
    "        except Exception as e:\n",
    "            print(e)\n",
    "\n",
    "            return None"
   ]
  },
  {
   "cell_type": "code",
   "execution_count": 6,
   "id": "d04b271f",
   "metadata": {},
   "outputs": [],
   "source": [
    "data = Train('mosaic-whisper-combined')"
   ]
  },
  {
   "cell_type": "code",
   "execution_count": 7,
   "id": "25769623",
   "metadata": {},
   "outputs": [
    {
     "data": {
      "text/plain": [
       "{'audio_filename': 'output-audio/1-10142-1.mp3',\n",
       " 'text': \"<|startoftranscript|><|ms|><|transcribe|><|0.02|> So, khilafah Umayyah ni telahpun diasaskan oleh Sayyidina Muawiyah pada tahun ke-40 Hijrah.<|4.80|><|4.80|> Diceritakan dalam satu hadis yang dia telahpun diberikan kemuliaan ataupun honour oleh Rasulullah SAW untuk mencukur kepala baginda.<|13.14|><|13.14|> Waktu ni Nabi SAW nak mengerjakan umrah dan ulama' sirah kata,<|16.70|><|16.70|> mustahil untuk Nabi lantik atau pilih musyrikin untuk cukur kepala baginda.<|21.02|><|21.02|> Melainkan, waktu ni Sayyidina Muawiyah telahpun memulai Islam pada tahun ke-7 Hijrah.<|24.76|><|24.76|> Maksudnya, Muawiyah ni telahpun memulai Islam sebelum lagi daripada Abu Sufyan dan juga Ahin.<|29.68|><|endoftext|>\"}"
      ]
     },
     "execution_count": 7,
     "metadata": {},
     "output_type": "execute_result"
    }
   ],
   "source": [
    "data[5000000]"
   ]
  },
  {
   "cell_type": "code",
   "execution_count": null,
   "id": "5d905ce7",
   "metadata": {},
   "outputs": [],
   "source": [
    "dense = CountVectorizer(ngram_range = (3,3)).fit_transform([t_]).todense()\n",
    "repeat = (dense > 3).sum() >= 1"
   ]
  },
  {
   "cell_type": "code",
   "execution_count": 8,
   "id": "a912fd1e-f35c-4f30-bb80-41c6c32bb96e",
   "metadata": {},
   "outputs": [
    {
     "name": "stderr",
     "output_type": "stream",
     "text": [
      "100%|██████████| 7886942/7886942 [06:09<00:00, 21335.36it/s]\n"
     ]
    }
   ],
   "source": [
    "index = 0\n",
    "count = 0\n",
    "a = open(f'partition-audio/audio_file-{index}.jsonl', 'w')\n",
    "\n",
    "for l in tqdm(range(len(data))):\n",
    "    a.write(f'{json.dumps(data[l])}\\n')\n",
    "    a.flush()\n",
    "    count += 1\n",
    "    if count >= split_by:\n",
    "        a.close()\n",
    "        index += 1\n",
    "        count = 0\n",
    "        a = open(f'partition-audio/audio_file-{index}.jsonl', 'w')\n",
    "\n",
    "if not a.closed:\n",
    "    a.close()\n"
   ]
  },
  {
   "cell_type": "code",
   "execution_count": 9,
   "id": "3a14d828-dbfd-4330-b9c3-6450f66eaf9d",
   "metadata": {},
   "outputs": [
    {
     "name": "stdout",
     "output_type": "stream",
     "text": [
      "{'audio_filename': 'split-nusantara/0-0-0.mp3', 'text': '<|startoftranscript|><|ms|><|transcribe|><|0.52|> Bab 3<|1.78|><|1.78|> Orang Turk memperjuangkan hak mereka.<|6.22|><|7.36|> Orang ramai lalu-lalang melintasi arca Hassan Tahsin<|10.86|><|10.86|> yang berdiri di Medan Konak,<|13.38|><|13.72|> iaitu bangunan kerajaan,<|14.82|><|15.22|> yang terletak berhampiran dermaga Izmir<|17.44|><|17.44|> yang tersergam indah<|19.36|><|19.36|> dan baru siap dibina semula.<|21.40|><|22.38|> Hassan Tahsin ialah nama samaran seorang wartawan<|25.10|><|25.10|> yang telah menembak mati pembawa panji pasukan tentera<|28.36|><|endoftext|>'}\n"
     ]
    }
   ],
   "source": [
    "with open(f'partition-audio/audio_file-0.jsonl') as f:\n",
    "    for x in f:\n",
    "        print(json.loads(x))\n",
    "        break"
   ]
  },
  {
   "cell_type": "code",
   "execution_count": 2,
   "id": "3cc3ab81",
   "metadata": {},
   "outputs": [
    {
     "name": "stderr",
     "output_type": "stream",
     "text": [
      "2914176it [00:56, 51221.19it/s]\n"
     ]
    }
   ],
   "source": [
    "import json\n",
    "from tqdm import tqdm\n",
    "\n",
    "data = []\n",
    "\n",
    "with open(f'whisper-combined-vad-v2.jsonl') as f:\n",
    "    for x in tqdm(f):\n",
    "        data.append(json.loads(x))"
   ]
  },
  {
   "cell_type": "code",
   "execution_count": null,
   "id": "c707d0bb",
   "metadata": {},
   "outputs": [],
   "source": []
  }
 ],
 "metadata": {
  "kernelspec": {
   "display_name": "Python 3 (ipykernel)",
   "language": "python",
   "name": "python3"
  },
  "language_info": {
   "codemirror_mode": {
    "name": "ipython",
    "version": 3
   },
   "file_extension": ".py",
   "mimetype": "text/x-python",
   "name": "python",
   "nbconvert_exporter": "python",
   "pygments_lexer": "ipython3",
   "version": "3.10.12"
  }
 },
 "nbformat": 4,
 "nbformat_minor": 5
}
