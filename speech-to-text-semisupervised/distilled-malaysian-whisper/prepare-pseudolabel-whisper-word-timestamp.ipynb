{
 "cells": [
  {
   "cell_type": "code",
   "execution_count": 1,
   "id": "6428e81f",
   "metadata": {},
   "outputs": [],
   "source": [
    "import json\n",
    "import os\n",
    "import mp\n",
    "import numpy as np\n",
    "from collections import defaultdict\n",
    "from glob import glob\n",
    "from tqdm import tqdm\n",
    "import soundfile as sf\n",
    "import re\n",
    "\n",
    "timestamps = [i * 0.02 for i in range(1500 + 1)]"
   ]
  },
  {
   "cell_type": "code",
   "execution_count": 2,
   "id": "6fbb4518",
   "metadata": {},
   "outputs": [],
   "source": [
    "from huggingface_hub import hf_hub_download\n",
    "import fasttext\n",
    "\n",
    "filename = hf_hub_download(\n",
    "    repo_id=\"mesolitica/fasttext-language-detection-bahasa-en\", \n",
    "    filename=\"fasttext.ftz\"\n",
    ")\n",
    "lang_model = fasttext.load_model(filename)"
   ]
  },
  {
   "cell_type": "code",
   "execution_count": 3,
   "id": "68fa4d07",
   "metadata": {},
   "outputs": [],
   "source": [
    "def chunk(alignment, reject = -8, minimum_length = 2.0):\n",
    "    alls, temp = [], []\n",
    "    for a in alignment:\n",
    "        if a['score'] <= reject:\n",
    "            if len(temp):\n",
    "                temp[-1]['end'] = a['start']\n",
    "                if (temp[-1]['end'] - temp[0]['start']) >= minimum_length:\n",
    "                    alls.append(temp)\n",
    "                temp = []\n",
    "        else:\n",
    "            temp.append(a)\n",
    "            \n",
    "    if len(temp):\n",
    "        if (temp[-1]['end'] - temp[0]['start']) >= minimum_length:\n",
    "            alls.append(temp)\n",
    "    return alls"
   ]
  },
  {
   "cell_type": "code",
   "execution_count": 4,
   "id": "5ca8d308",
   "metadata": {},
   "outputs": [
    {
     "name": "stderr",
     "output_type": "stream",
     "text": [
      "3085595it [00:11, 262609.70it/s]\n"
     ]
    },
    {
     "data": {
      "text/plain": [
       "1961155"
      ]
     },
     "execution_count": 4,
     "metadata": {},
     "output_type": "execute_result"
    }
   ],
   "source": [
    "data = defaultdict(list)\n",
    "with open('prepared-pseudolabel.jsonl') as fopen:\n",
    "    for no, l in tqdm(enumerate(fopen)):\n",
    "        l = json.loads(l)\n",
    "        data[l['audio_filename']].append((no, l))\n",
    "        \n",
    "len(data)"
   ]
  },
  {
   "cell_type": "code",
   "execution_count": 5,
   "id": "314dc54c",
   "metadata": {},
   "outputs": [
    {
     "data": {
      "text/plain": [
       "1961155"
      ]
     },
     "execution_count": 5,
     "metadata": {},
     "output_type": "execute_result"
    }
   ],
   "source": [
    "rows = list(data.values())\n",
    "len(rows)"
   ]
  },
  {
   "cell_type": "code",
   "execution_count": 6,
   "id": "d3633b01",
   "metadata": {},
   "outputs": [],
   "source": [
    "!rm -rf prepared-pseudolabel-chunks\n",
    "!mkdir prepared-pseudolabel-chunks"
   ]
  },
  {
   "cell_type": "code",
   "execution_count": 7,
   "id": "8b6107ec",
   "metadata": {},
   "outputs": [],
   "source": [
    "def loop(data):\n",
    "    data, _ = data\n",
    "    new_data = []\n",
    "    for d in tqdm(data):\n",
    "        \n",
    "        aligns, scores = [], []\n",
    "        for i in d:\n",
    "            f = f'prepared-pseudolabel_alignment/{i[0]}.alignment'\n",
    "            try:\n",
    "                with open(f) as fopen:\n",
    "                    align = json.load(fopen)\n",
    "                    score = np.sum([s['score'] for s in align])\n",
    "                    aligns.append(align)\n",
    "                    scores.append(score)\n",
    "            except:\n",
    "                aligns.append([])\n",
    "                scores.append(-9999)\n",
    "\n",
    "        argmax = np.argmax(scores)\n",
    "        no = d[argmax][0]\n",
    "        text = d[argmax][1]['new_text']\n",
    "        lang = text.split('<|startoftranscript|><|')[1].split('|')[0]\n",
    "        cleaned_text = re.sub(r\"<\\|.*?\\|>\", \"\", text).strip()\n",
    "        if lang_model.predict(cleaned_text)[0][0] == '__label__english':\n",
    "            predict_lang = 'en'\n",
    "        else:\n",
    "            predict_lang = 'ms'\n",
    "        \n",
    "        chunks = chunk(aligns[argmax])\n",
    "        audio_filename = d[argmax][1]['audio_filename']\n",
    "        if len(chunks):\n",
    "            y, sr = sf.read(audio_filename)\n",
    "            for k, c in enumerate(chunks):\n",
    "                \n",
    "                skip = False\n",
    "                for c_ in c:\n",
    "                    if (c_['end'] - c_['start']) > 2:\n",
    "                        skip = True\n",
    "                        break\n",
    "                if skip:\n",
    "                    continue\n",
    "                    \n",
    "                new_f = os.path.join('prepared-pseudolabel-chunks', f'{no}-{k}.mp3')\n",
    "                if not os.path.exists(new_f):\n",
    "                    sf.write(new_f, y[int(sr * c[0]['start']): int(sr * c[-1]['end'])], sr)\n",
    "                ts = []\n",
    "                \n",
    "                min_t = min([c_['start'] for c_ in c])\n",
    "                \n",
    "                for c_ in c:\n",
    "                    start = min(timestamps, key=lambda t: abs(t - (c_['start'] - min_t)))\n",
    "                    end = min(timestamps, key=lambda t: abs(t - (c_['end'] - min_t)))\n",
    "                    w = c_['text']\n",
    "                    t = f\"<|{start:.2f}|> {w}<|{end:.2f}|>\"\n",
    "                    ts.append(t)\n",
    "                ts = ''.join(ts)\n",
    "                new_text = text = f\"<|startoftranscript|><|{predict_lang}|><|transcribeprecise|>{ts}<|endoftext|>\"\n",
    "                new_data.append({\n",
    "                    'audio_filename': new_f,\n",
    "                    'new_text': new_text,\n",
    "                })\n",
    "                \n",
    "    return new_data"
   ]
  },
  {
   "cell_type": "code",
   "execution_count": 8,
   "id": "5e92c2e7",
   "metadata": {},
   "outputs": [
    {
     "name": "stderr",
     "output_type": "stream",
     "text": [
      "100%|███████████████████████████████████████████████████████████████████████████████████████| 100/100 [00:08<00:00, 11.68it/s]\n"
     ]
    },
    {
     "data": {
      "text/plain": [
       "350"
      ]
     },
     "execution_count": 8,
     "metadata": {},
     "output_type": "execute_result"
    }
   ],
   "source": [
    "r = loop((rows[:100], 0))\n",
    "len(r)"
   ]
  },
  {
   "cell_type": "code",
   "execution_count": 9,
   "id": "8a92f956",
   "metadata": {},
   "outputs": [
    {
     "data": {
      "text/plain": [
       "{'audio_filename': 'prepared-pseudolabel-chunks/181-4.mp3',\n",
       " 'new_text': '<|startoftranscript|><|en|><|transcribeprecise|><|0.00|> untuk<|0.38|><|0.52|> subscribe.<|0.96|><|1.02|> Dan<|1.24|><|1.36|> kepada<|1.60|><|1.68|> anda,<|1.88|><|2.60|> anda<|2.74|><|2.84|> boleh<|3.14|><|3.32|> juga<|3.56|><|4.24|> mendengar<|4.86|><|endoftext|>'}"
      ]
     },
     "execution_count": 9,
     "metadata": {},
     "output_type": "execute_result"
    }
   ],
   "source": [
    "r[-1]"
   ]
  },
  {
   "cell_type": "code",
   "execution_count": 17,
   "id": "b14d0b09",
   "metadata": {},
   "outputs": [
    {
     "name": "stderr",
     "output_type": "stream",
     "text": [
      "100%|█████████████████████████████████████████████████████████████████████████████████| 98057/98057 [5:00:23<00:00,  5.44it/s]\n",
      "100%|█████████████████████████████████████████████████████████████████████████████████████████| 15/15 [00:02<00:00,  6.54it/s]\n",
      "100%|█████████████████████████████████████████████████████████████████████████████████| 98057/98057 [5:02:39<00:00,  5.40it/s]\n",
      "100%|█████████████████████████████████████████████████████████████████████████████████| 98057/98057 [5:01:50<00:00,  5.41it/s]\n",
      "100%|█████████████████████████████████████████████████████████████████████████████████| 98057/98057 [5:02:39<00:00,  5.40it/s]\n",
      "100%|█████████████████████████████████████████████████████████████████████████████████| 98057/98057 [5:02:31<00:00,  5.40it/s]\n",
      "100%|█████████████████████████████████████████████████████████████████████████████████| 98057/98057 [5:03:12<00:00,  5.39it/s]\n",
      "100%|█████████████████████████████████████████████████████████████████████████████████| 98057/98057 [5:03:06<00:00,  5.39it/s]\n",
      "100%|█████████████████████████████████████████████████████████████████████████████████| 98057/98057 [5:02:47<00:00,  5.40it/s]\n",
      "100%|█████████████████████████████████████████████████████████████████████████████████| 98057/98057 [5:04:12<00:00,  5.37it/s]\n",
      "100%|█████████████████████████████████████████████████████████████████████████████████| 98057/98057 [5:04:00<00:00,  5.38it/s]\n",
      "100%|█████████████████████████████████████████████████████████████████████████████████| 98057/98057 [5:03:38<00:00,  5.38it/s]\n",
      "100%|█████████████████████████████████████████████████████████████████████████████████| 98057/98057 [5:04:28<00:00,  5.37it/s]\n",
      "100%|█████████████████████████████████████████████████████████████████████████████████| 98057/98057 [5:04:00<00:00,  5.38it/s]\n",
      "100%|█████████████████████████████████████████████████████████████████████████████████| 98057/98057 [5:04:33<00:00,  5.37it/s]\n",
      "100%|█████████████████████████████████████████████████████████████████████████████████| 98057/98057 [5:04:26<00:00,  5.37it/s]\n",
      "100%|█████████████████████████████████████████████████████████████████████████████████| 98057/98057 [5:04:19<00:00,  5.37it/s]\n",
      "100%|█████████████████████████████████████████████████████████████████████████████████| 98057/98057 [5:05:26<00:00,  5.35it/s]\n",
      "100%|█████████████████████████████████████████████████████████████████████████████████| 98057/98057 [5:05:12<00:00,  5.35it/s]\n",
      "100%|█████████████████████████████████████████████████████████████████████████████████| 98057/98057 [5:05:50<00:00,  5.34it/s]\n",
      "100%|█████████████████████████████████████████████████████████████████████████████████| 98057/98057 [5:05:25<00:00,  5.35it/s]\n"
     ]
    }
   ],
   "source": [
    "r = mp.multiprocessing(rows, loop, cores = 20)"
   ]
  },
  {
   "cell_type": "code",
   "execution_count": 18,
   "id": "b28a1169",
   "metadata": {},
   "outputs": [
    {
     "data": {
      "text/plain": [
       "4775944"
      ]
     },
     "execution_count": 18,
     "metadata": {},
     "output_type": "execute_result"
    }
   ],
   "source": [
    "len(r)"
   ]
  },
  {
   "cell_type": "code",
   "execution_count": 19,
   "id": "eb14e3bb",
   "metadata": {
    "scrolled": true
   },
   "outputs": [
    {
     "data": {
      "text/plain": [
       "{'audio_filename': 'prepared-pseudolabel-chunks/3085589-0.mp3',\n",
       " 'new_text': '<|startoftranscript|><|ms|><|transcribeprecise|><|0.00|> air.<|0.24|><|0.68|> Cara<|0.92|><|0.98|> tuang<|1.12|><|1.18|> air.<|1.28|><|1.36|> Presentation<|2.10|><|2.20|> kena<|2.34|><|2.38|> hafal.<|2.58|><|2.62|> Tak<|2.70|><|2.74|> boleh<|2.92|><|2.98|> terbalik.<|3.34|><|3.42|> Tumang<|3.74|><|3.78|> terbalik.<|4.12|><|4.32|> Ada<|4.46|><|4.54|> tak<|4.64|><|4.70|> you<|5.18|><|6.02|> curi-curi<|6.52|><|6.74|> tak<|6.84|><|6.90|> buat<|7.10|><|7.20|> apa<|7.32|><|7.40|> semua?<|7.60|><|8.24|> Tak<|8.34|><|8.40|> pernah<|8.64|><|8.68|> lagi<|8.86|><|8.96|> lah.<|9.10|><|9.24|> Sebab<|9.64|><|9.82|> kata<|10.04|><|endoftext|>'}"
      ]
     },
     "execution_count": 19,
     "metadata": {},
     "output_type": "execute_result"
    }
   ],
   "source": [
    "r[-10]"
   ]
  },
  {
   "cell_type": "code",
   "execution_count": 20,
   "id": "e709d517",
   "metadata": {},
   "outputs": [
    {
     "data": {
      "text/html": [
       "\n",
       "                <audio  controls=\"controls\" >\n",
       "                    <source src=\"data:audio/mpeg;base64,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\" type=\"audio/mpeg\" />\n",
       "                    Your browser does not support the audio element.\n",
       "                </audio>\n",
       "              "
      ],
      "text/plain": [
       "<IPython.lib.display.Audio object>"
      ]
     },
     "execution_count": 20,
     "metadata": {},
     "output_type": "execute_result"
    }
   ],
   "source": [
    "import IPython.display as ipd\n",
    "ipd.Audio(r[-10]['audio_filename'])"
   ]
  },
  {
   "cell_type": "code",
   "execution_count": 21,
   "id": "c4987fd4",
   "metadata": {},
   "outputs": [],
   "source": [
    "with open('pseudolabel-whisper-word-timestamp.jsonl', 'w') as fopen:\n",
    "    for r_ in r:\n",
    "        fopen.write(f'{json.dumps(r_)}\\n')\n",
    "        fopen.flush()"
   ]
  },
  {
   "cell_type": "code",
   "execution_count": 22,
   "id": "02b4cc9e",
   "metadata": {},
   "outputs": [
    {
     "name": "stdout",
     "output_type": "stream",
     "text": [
      "-rw-rw-r-- 1 husein husein 2.0G Jan   8 19:17 pseudolabel-whisper-word-timestamp.jsonl\r\n"
     ]
    }
   ],
   "source": [
    "!ls -lh pseudolabel-whisper-word-timestamp.jsonl"
   ]
  },
  {
   "cell_type": "code",
   "execution_count": 23,
   "id": "2c72b3ad",
   "metadata": {},
   "outputs": [
    {
     "data": {
      "application/vnd.jupyter.widget-view+json": {
       "model_id": "23378034ff1e4e5781114eac0e4f08e9",
       "version_major": 2,
       "version_minor": 0
      },
      "text/plain": [
       "pseudolabel-whisper-word-timestamp.jsonl:   0%|          | 0.00/2.09G [00:00<?, ?B/s]"
      ]
     },
     "metadata": {},
     "output_type": "display_data"
    },
    {
     "data": {
      "text/plain": [
       "CommitInfo(commit_url='https://huggingface.co/datasets/mesolitica/Malaysian-STT-Whisper/commit/71b9e77bed3d261ff4a842c94c12c85281f1b2f0', commit_message='Upload pseudolabel-whisper-word-timestamp.jsonl with huggingface_hub', commit_description='', oid='71b9e77bed3d261ff4a842c94c12c85281f1b2f0', pr_url=None, repo_url=RepoUrl('https://huggingface.co/datasets/mesolitica/Malaysian-STT-Whisper', endpoint='https://huggingface.co', repo_type='dataset', repo_id='mesolitica/Malaysian-STT-Whisper'), pr_revision=None, pr_num=None)"
      ]
     },
     "execution_count": 23,
     "metadata": {},
     "output_type": "execute_result"
    }
   ],
   "source": [
    "from huggingface_hub import HfApi\n",
    "api = HfApi()\n",
    "api.upload_file(\n",
    "    path_or_fileobj=\"pseudolabel-whisper-word-timestamp.jsonl\",\n",
    "    path_in_repo=\"pseudolabel-whisper-word-timestamp.jsonl\",\n",
    "    repo_id=\"mesolitica/Malaysian-STT-Whisper\",\n",
    "    repo_type=\"dataset\",\n",
    ")"
   ]
  },
  {
   "cell_type": "code",
   "execution_count": 24,
   "id": "25a9da4c",
   "metadata": {},
   "outputs": [
    {
     "name": "stdout",
     "output_type": "stream",
     "text": [
      "157G\tprepared-pseudolabel-chunks\r\n"
     ]
    }
   ],
   "source": [
    "!du -hs prepared-pseudolabel-chunks"
   ]
  },
  {
   "cell_type": "code",
   "execution_count": null,
   "id": "8f01703e",
   "metadata": {},
   "outputs": [],
   "source": [
    "!zip -q -r -s 10000m prepared-pseudolabel-malaya-chunks.zip prepared-pseudolabel-malaya-chunks"
   ]
  },
  {
   "cell_type": "code",
   "execution_count": null,
   "id": "3bb4ad70",
   "metadata": {},
   "outputs": [],
   "source": [
    "from huggingface_hub import HfApi\n",
    "api = HfApi()\n",
    "\n",
    "for f in glob('prepared-pseudolabel-malaya-chunks.z*'):\n",
    "    print(f)\n",
    "    api.upload_file(\n",
    "        path_or_fileobj=f,\n",
    "        path_in_repo=f,\n",
    "        repo_id=\"mesolitica/Malaysian-STT-Whisper\",\n",
    "        repo_type=\"dataset\",\n",
    "    )"
   ]
  }
 ],
 "metadata": {
  "kernelspec": {
   "display_name": "python3.10",
   "language": "python",
   "name": "python3.10"
  },
  "language_info": {
   "codemirror_mode": {
    "name": "ipython",
    "version": 3
   },
   "file_extension": ".py",
   "mimetype": "text/x-python",
   "name": "python",
   "nbconvert_exporter": "python",
   "pygments_lexer": "ipython3",
   "version": "3.10.15"
  }
 },
 "nbformat": 4,
 "nbformat_minor": 5
}
