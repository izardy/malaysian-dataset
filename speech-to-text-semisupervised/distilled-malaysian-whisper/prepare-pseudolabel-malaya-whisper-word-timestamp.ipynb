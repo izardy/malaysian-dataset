{
 "cells": [
  {
   "cell_type": "code",
   "execution_count": 12,
   "id": "05f667a7",
   "metadata": {},
   "outputs": [],
   "source": [
    "import json\n",
    "import os\n",
    "import mp\n",
    "from glob import glob\n",
    "from tqdm import tqdm\n",
    "import soundfile as sf\n",
    "\n",
    "timestamps = [i * 0.02 for i in range(1500 + 1)]"
   ]
  },
  {
   "cell_type": "code",
   "execution_count": 73,
   "id": "f4085a60",
   "metadata": {},
   "outputs": [],
   "source": [
    "def chunk(alignment, reject = -8, minimum_length = 1.0):\n",
    "    alls, temp = [], []\n",
    "    for a in alignment:\n",
    "        if a['score'] <= reject:\n",
    "            if len(temp):\n",
    "                temp[-1]['end'] = a['start']\n",
    "                if (temp[-1]['end'] - temp[0]['start']) >= minimum_length:\n",
    "                    alls.append(temp)\n",
    "                temp = []\n",
    "        else:\n",
    "            temp.append(a)\n",
    "            \n",
    "    if len(temp):\n",
    "        if (temp[-1]['end'] - temp[0]['start']) >= minimum_length:\n",
    "            alls.append(temp)\n",
    "    return alls"
   ]
  },
  {
   "cell_type": "code",
   "execution_count": 3,
   "id": "d4d76d04",
   "metadata": {},
   "outputs": [
    {
     "name": "stderr",
     "output_type": "stream",
     "text": [
      "1089630it [00:05, 202196.73it/s]\n"
     ]
    },
    {
     "data": {
      "text/plain": [
       "1089630"
      ]
     },
     "execution_count": 3,
     "metadata": {},
     "output_type": "execute_result"
    }
   ],
   "source": [
    "data = []\n",
    "with open('prepared-pseudolabel-malaya.jsonl') as fopen:\n",
    "    for no, l in tqdm(enumerate(fopen)):\n",
    "        l = json.loads(l)\n",
    "        data.append((no, l))\n",
    "        \n",
    "len(data)"
   ]
  },
  {
   "cell_type": "code",
   "execution_count": 19,
   "id": "e2abe8f2",
   "metadata": {},
   "outputs": [
    {
     "data": {
      "text/plain": [
       "'<|startoftranscript|><|ms|><|transcribe|><|0.00|> kerajaan persekutuan<|1.46|><|1.46|> dan banyak masalah hubungan<|3.96|><|3.96|> antara kerajaan negeri dan<|5.70|><|endoftext|>'"
      ]
     },
     "execution_count": 19,
     "metadata": {},
     "output_type": "execute_result"
    }
   ],
   "source": [
    "data[0][1]['new_text']"
   ]
  },
  {
   "cell_type": "code",
   "execution_count": 74,
   "id": "ce678bee",
   "metadata": {},
   "outputs": [],
   "source": [
    "!rm -rf prepared-pseudolabel-malaya-chunks\n",
    "!mkdir prepared-pseudolabel-malaya-chunks"
   ]
  },
  {
   "cell_type": "code",
   "execution_count": 75,
   "id": "eb9b3adf",
   "metadata": {},
   "outputs": [],
   "source": [
    "def loop(data):\n",
    "    data, _ = data\n",
    "    new_data = []\n",
    "    for d in tqdm(data):\n",
    "        no, l = d\n",
    "        lang = l['new_text'].split('<|startoftranscript|><|')[1].split('|>')[0]\n",
    "        f = f'prepared-pseudolabel-malaya_alignment/{no}.alignment'\n",
    "        \n",
    "        if not os.path.exists(f):\n",
    "            continue\n",
    "            \n",
    "        with open(f) as fopen:\n",
    "            align = json.load(fopen)\n",
    "        \n",
    "        chunks = chunk(align)\n",
    "        if len(chunks):\n",
    "            y, sr = sf.read(l['audio_filename'])\n",
    "            for k, c in enumerate(chunks):\n",
    "                skip = False\n",
    "                \n",
    "                for c_ in c:\n",
    "                    if (c_['end'] - c_['start']) > 1:\n",
    "                        skip = True\n",
    "                        break\n",
    "                if skip:\n",
    "                    continue\n",
    "                new_f = os.path.join('prepared-pseudolabel-malaya-chunks', f'{no}-{k}.mp3')\n",
    "                if not os.path.exists(new_f):\n",
    "                    sf.write(new_f, y[int(sr * c[0]['start']): int(sr * c[-1]['end'])], sr)\n",
    "                ts = []\n",
    "                \n",
    "                min_t = min([c_['start'] for c_ in c])\n",
    "                \n",
    "                for c_ in c:\n",
    "                    start = min(timestamps, key=lambda t: abs(t - (c_['start'] - min_t)))\n",
    "                    end = min(timestamps, key=lambda t: abs(t - (c_['end'] - min_t)))\n",
    "                    w = c_['text']\n",
    "                    t = f\"<|{start:.2f}|> {w}<|{end:.2f}|>\"\n",
    "                    ts.append(t)\n",
    "                ts = ''.join(ts)\n",
    "                new_text = text = f\"<|startoftranscript|><|{lang}|><|transcribeprecise|>{ts}<|endoftext|>\"\n",
    "                new_data.append({\n",
    "                    'audio_filename': new_f,\n",
    "                    'new_text': new_text,\n",
    "                })\n",
    "                \n",
    "    return new_data"
   ]
  },
  {
   "cell_type": "code",
   "execution_count": 76,
   "id": "3daf5e97",
   "metadata": {},
   "outputs": [
    {
     "data": {
      "text/plain": [
       "(0,\n",
       " {'new_text': '<|startoftranscript|><|ms|><|transcribe|><|0.00|> kerajaan persekutuan<|1.46|><|1.46|> dan banyak masalah hubungan<|3.96|><|3.96|> antara kerajaan negeri dan<|5.70|><|endoftext|>',\n",
       "  'audio_filename': 'output-audio-malaya/2-0-0.mp3'})"
      ]
     },
     "execution_count": 76,
     "metadata": {},
     "output_type": "execute_result"
    }
   ],
   "source": [
    "data[0]"
   ]
  },
  {
   "cell_type": "code",
   "execution_count": null,
   "id": "0aa43e86",
   "metadata": {},
   "outputs": [
    {
     "name": "stderr",
     "output_type": "stream",
     "text": [
      " 19%|████████████████▎                                                                   | 1944/10000 [00:13<01:39, 80.84it/s]"
     ]
    }
   ],
   "source": [
    "r = loop((data[:10000], 0))"
   ]
  },
  {
   "cell_type": "code",
   "execution_count": 84,
   "id": "ed1db7c4",
   "metadata": {},
   "outputs": [
    {
     "data": {
      "text/plain": [
       "660"
      ]
     },
     "execution_count": 84,
     "metadata": {},
     "output_type": "execute_result"
    }
   ],
   "source": [
    "len(r)"
   ]
  },
  {
   "cell_type": "code",
   "execution_count": 89,
   "id": "7ca66b35",
   "metadata": {},
   "outputs": [
    {
     "data": {
      "text/plain": [
       "{'audio_filename': 'prepared-pseudolabel-malaya-chunks/4-0.mp3',\n",
       " 'new_text': '<|startoftranscript|><|ms|><|transcribeprecise|><|0.00|> kitab<|0.22|><|0.28|> dia,<|0.38|><|1.08|> maka<|1.26|><|1.32|> dia<|1.46|><|endoftext|>'}"
      ]
     },
     "execution_count": 89,
     "metadata": {},
     "output_type": "execute_result"
    }
   ],
   "source": [
    "r[2]"
   ]
  },
  {
   "cell_type": "code",
   "execution_count": 90,
   "id": "39e358da",
   "metadata": {},
   "outputs": [
    {
     "data": {
      "text/html": [
       "\n",
       "                <audio  controls=\"controls\" >\n",
       "                    <source src=\"data:audio/mpeg;base64,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\" type=\"audio/mpeg\" />\n",
       "                    Your browser does not support the audio element.\n",
       "                </audio>\n",
       "              "
      ],
      "text/plain": [
       "<IPython.lib.display.Audio object>"
      ]
     },
     "execution_count": 90,
     "metadata": {},
     "output_type": "execute_result"
    }
   ],
   "source": [
    "import IPython.display as ipd\n",
    "ipd.Audio(r[2]['audio_filename'])"
   ]
  },
  {
   "cell_type": "code",
   "execution_count": null,
   "id": "5f3f9158",
   "metadata": {},
   "outputs": [],
   "source": []
  }
 ],
 "metadata": {
  "kernelspec": {
   "display_name": "python3.10",
   "language": "python",
   "name": "python3.10"
  },
  "language_info": {
   "codemirror_mode": {
    "name": "ipython",
    "version": 3
   },
   "file_extension": ".py",
   "mimetype": "text/x-python",
   "name": "python",
   "nbconvert_exporter": "python",
   "pygments_lexer": "ipython3",
   "version": "3.10.15"
  }
 },
 "nbformat": 4,
 "nbformat_minor": 5
}
