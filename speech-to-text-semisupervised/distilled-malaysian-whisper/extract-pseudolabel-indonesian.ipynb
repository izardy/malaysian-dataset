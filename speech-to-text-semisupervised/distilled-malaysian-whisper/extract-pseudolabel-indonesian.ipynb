{
 "cells": [
  {
   "cell_type": "code",
   "execution_count": 14,
   "id": "a3264398",
   "metadata": {},
   "outputs": [],
   "source": [
    "# !sudo apt install zip -y"
   ]
  },
  {
   "cell_type": "code",
   "execution_count": 1,
   "id": "2fc48cf3",
   "metadata": {},
   "outputs": [],
   "source": [
    "import os\n",
    "\n",
    "# os.environ[\"HF_ENDPOINT\"] = \"http://localhost:5564\"\n",
    "os.environ[\"HF_HUB_ENABLE_HF_TRANSFER\"] = \"1\""
   ]
  },
  {
   "cell_type": "code",
   "execution_count": 3,
   "id": "656a2e9b",
   "metadata": {},
   "outputs": [],
   "source": [
    "from huggingface_hub import snapshot_download\n",
    "\n",
    "folder = snapshot_download(repo_id=\"mesolitica/pseudolabel-indonesian-large-v3-timestamp\", repo_type = 'dataset',\n",
    "                 max_workers = 20)"
   ]
  },
  {
   "cell_type": "code",
   "execution_count": 24,
   "id": "c85cf61c",
   "metadata": {},
   "outputs": [
    {
     "name": "stdout",
     "output_type": "stream",
     "text": [
      "~/7zz x /home/ubuntu/.cache/huggingface/hub/datasets--mesolitica--pseudolabel-indonesian-large-v3-timestamp/snapshots/525f21abe258da991273c9df4e68f130c02fcbb5/split-indonesian.zip -aoa\n",
      "\n",
      "7-Zip (z) 23.01 (x64) : Copyright (c) 1999-2023 Igor Pavlov : 2023-06-20\n",
      " 64-bit locale=C.UTF-8 Threads:4 OPEN_MAX:1048576, ASM\n",
      "\n",
      "Scanning the drive for archives:\n",
      "1 file, 9403415291 bytes (8968 MiB)\n",
      "\n",
      "Extracting archive: /home/ubuntu/.cache/huggingface/hub/datasets--mesolitica--pseudolabel-indonesian-large-v3-timestamp/snapshots/525f21abe258da991273c9df4e68f130c02fcbb5/split-indonesian.zip\n",
      "--\n",
      "Path = /home/ubuntu/.cache/huggingface/hub/datasets--mesolitica--pseudolabel-indonesian-large-v3-timestamp/snapshots/525f21abe258da991273c9df4e68f130c02fcbb5/split-indonesian.zip\n",
      "Type = zip\n",
      "Physical Size = 9403415291\n",
      "Embedded Stub Size = 4\n",
      "64-bit = +\n",
      "Characteristics = Zip64\n",
      "Total Physical Size = 61832215291\n",
      "Multivolume = +\n",
      "Volume Index = 5\n",
      "Volumes = 6\n",
      "\n",
      "Everything is Ok\n",
      "\n",
      "Folders: 1\n",
      "Files: 433740\n",
      "Size:       63162715320\n",
      "Compressed: 61832215291\n"
     ]
    }
   ],
   "source": [
    "from glob import glob\n",
    "\n",
    "files = glob(os.path.join(folder, '*.zip'))\n",
    "for f in files:\n",
    "    command = f'~/7zz x {f} -aoa'\n",
    "    print(command)\n",
    "    os.system(command)"
   ]
  },
  {
   "cell_type": "code",
   "execution_count": 26,
   "id": "3096c6c7",
   "metadata": {
    "scrolled": true
   },
   "outputs": [
    {
     "name": "stdout",
     "output_type": "stream",
     "text": [
      "60G\tsplit-indonesian\r\n"
     ]
    }
   ],
   "source": [
    "!du -hs split-indonesian"
   ]
  },
  {
   "cell_type": "code",
   "execution_count": 28,
   "id": "fa463aa4",
   "metadata": {},
   "outputs": [],
   "source": [
    "!rm -rf {folder}"
   ]
  },
  {
   "cell_type": "code",
   "execution_count": null,
   "id": "51bea74c",
   "metadata": {},
   "outputs": [],
   "source": []
  }
 ],
 "metadata": {
  "kernelspec": {
   "display_name": "Python 3 (ipykernel)",
   "language": "python",
   "name": "python3"
  },
  "language_info": {
   "codemirror_mode": {
    "name": "ipython",
    "version": 3
   },
   "file_extension": ".py",
   "mimetype": "text/x-python",
   "name": "python",
   "nbconvert_exporter": "python",
   "pygments_lexer": "ipython3",
   "version": "3.10.12"
  }
 },
 "nbformat": 4,
 "nbformat_minor": 5
}
