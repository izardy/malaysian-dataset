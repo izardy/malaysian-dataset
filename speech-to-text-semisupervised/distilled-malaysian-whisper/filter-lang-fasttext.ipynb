{
 "cells": [
  {
   "cell_type": "code",
   "execution_count": 1,
   "id": "07eaefe1",
   "metadata": {
    "scrolled": true
   },
   "outputs": [],
   "source": [
    "#!wget https://huggingface.co/mesolitica/fasttext-ms-id-en/resolve/main/model-16.bin\n",
    "# !wget https://huggingface.co/mesolitica/fasttext-language-detection-bahasa-en/resolve/main/fasttext.bin\n",
    "# !wget https://huggingface.co/mesolitica/fasttext-language-detection-bahasa-en/resolve/main/fasttext.ftz\n",
    "#pip3 install fasttext"
   ]
  },
  {
   "cell_type": "code",
   "execution_count": 21,
   "id": "168f00c1",
   "metadata": {},
   "outputs": [
    {
     "name": "stdout",
     "output_type": "stream",
     "text": [
      "               total        used        free      shared  buff/cache   available\r\n",
      "Mem:           125Gi       9.8Gi        63Gi       2.0Mi        52Gi       114Gi\r\n",
      "Swap:             0B          0B          0B\r\n"
     ]
    }
   ],
   "source": [
    "!free -h"
   ]
  },
  {
   "cell_type": "code",
   "execution_count": 22,
   "id": "278c7bb7",
   "metadata": {},
   "outputs": [],
   "source": [
    "from glob import glob\n",
    "from tqdm import tqdm\n",
    "import json\n",
    "import numpy as np\n",
    "import os\n",
    "from datasets import Audio\n",
    "import re\n",
    "from glob import glob\n",
    "import torch\n",
    "from silero_vad import load_silero_vad\n",
    "import IPython.display as ipd\n",
    "import mp\n",
    "from streaming import LocalDataset\n",
    "import soundfile as sf\n",
    "from streaming import MDSWriter\n",
    "import fasttext"
   ]
  },
  {
   "cell_type": "code",
   "execution_count": 4,
   "id": "67beefe4",
   "metadata": {},
   "outputs": [],
   "source": [
    "model = fasttext.load_model('fasttext.ftz')"
   ]
  },
  {
   "cell_type": "code",
   "execution_count": 5,
   "id": "a7cd2448",
   "metadata": {},
   "outputs": [],
   "source": [
    "sr = 16000\n",
    "audio = Audio(sampling_rate=sr)"
   ]
  },
  {
   "cell_type": "code",
   "execution_count": 6,
   "id": "ce50afe5",
   "metadata": {},
   "outputs": [
    {
     "data": {
      "text/plain": [
       "79"
      ]
     },
     "execution_count": 6,
     "metadata": {},
     "output_type": "execute_result"
    }
   ],
   "source": [
    "files = sorted(glob('partition-audio/*.jsonl'), key = lambda x: int(x.split('-')[-1].replace('.jsonl', '')))\n",
    "len(files)"
   ]
  },
  {
   "cell_type": "code",
   "execution_count": 7,
   "id": "b6a57ba0",
   "metadata": {},
   "outputs": [],
   "source": [
    "def extract_language_code(text):\n",
    "    start = text.find(\"<|startoftranscript|>\") + len(\"<|startoftranscript|>\")\n",
    "    \n",
    "    start = text.find(\"<|\", start) + 2\n",
    "    end = text.find(\"|>\", start)\n",
    "    \n",
    "    if start != -1 and end != -1:\n",
    "        return text[start:end]\n",
    "    return None"
   ]
  },
  {
   "cell_type": "code",
   "execution_count": 13,
   "id": "558ace73",
   "metadata": {},
   "outputs": [],
   "source": [
    "columns = {\n",
    "    'audio_filename': 'str',\n",
    "    'text':'str'\n",
    "}\n",
    "compression = None\n",
    "hashes = 'sha1', 'xxh64'"
   ]
  },
  {
   "cell_type": "code",
   "execution_count": 14,
   "id": "89c4d91a",
   "metadata": {},
   "outputs": [],
   "source": [
    "def loop(files):\n",
    "    result = []\n",
    "    files, _ = files\n",
    "    for f in files:\n",
    "        data = []\n",
    "        try:\n",
    "            with open(f) as fopen:\n",
    "                count = 0\n",
    "                for line in fopen:\n",
    "                    data.append(json.loads(line))\n",
    "            index = int(f.split('-')[-1].replace('.jsonl', ''))\n",
    "\n",
    "        except Exception as e:\n",
    "            print(f\"Error reading {f}: {e}\")\n",
    "            continue\n",
    "                \n",
    "        for entry in tqdm(data):\n",
    "            \n",
    "            audio_filename = entry['audio_filename'].replace('IMDA-STT/', '')\n",
    "            \n",
    "            entry['audio_filename'] = audio_filename\n",
    "            \n",
    "            if not os.path.exists(audio_filename):\n",
    "                continue\n",
    "                \n",
    "            label = entry['text']\n",
    "            \n",
    "            main_text = re.sub(r'<\\|.*?\\|>', '', label)\n",
    "            \n",
    "            whisper_lang = extract_language_code(label)\n",
    "                        \n",
    "            output = model.predict(main_text.strip(), k = 2)\n",
    "            \n",
    "            if (whisper_lang == 'en') & (output[0][0] != '__label__english'):\n",
    "                \n",
    "                continue\n",
    "            \n",
    "            else:\n",
    "                \n",
    "                result.append(entry)\n",
    "                \n",
    "    return result\n",
    "                "
   ]
  },
  {
   "cell_type": "code",
   "execution_count": 15,
   "id": "e48c5af4",
   "metadata": {
    "scrolled": true
   },
   "outputs": [
    {
     "name": "stderr",
     "output_type": "stream",
     "text": [
      " 67%|██████▋   | 67170/100000 [00:04<00:02, 15980.37it/s]]\n",
      "100%|██████████| 100000/100000 [00:04<00:00, 22910.64it/s]\n",
      " 99%|█████████▉| 99284/100000 [00:04<00:00, 22740.83it/s]]\n",
      " 99%|█████████▉| 99315/100000 [00:04<00:00, 23069.51it/s]\n",
      " 67%|██████▋   | 67185/100000 [00:04<00:02, 15691.57it/s]]\n",
      "100%|██████████| 100000/100000 [00:04<00:00, 22630.08it/s]\n",
      "100%|██████████| 100000/100000 [00:04<00:00, 22528.58it/s]\n",
      " 69%|██████▉   | 69428/100000 [00:04<00:01, 16909.05it/s]\n",
      " 69%|██████▉   | 69086/100000 [00:04<00:01, 16889.29it/s]]\n",
      " 71%|███████   | 70554/100000 [00:04<00:01, 17330.30it/s]]\n",
      " 74%|███████▍  | 74248/100000 [00:04<00:01, 19035.87it/s]]\n",
      " 75%|███████▌  | 75485/100000 [00:04<00:01, 19728.48it/s]\n",
      "100%|██████████| 100000/100000 [00:04<00:00, 21707.94it/s]\n",
      " 73%|███████▎  | 72638/100000 [00:04<00:01, 18591.94it/s]]\n",
      "100%|██████████| 100000/100000 [00:04<00:00, 21530.51it/s]\n",
      " 96%|█████████▌| 95763/100000 [00:05<00:00, 16797.96it/s]]\n",
      " 28%|██▊       | 28018/100000 [00:01<00:03, 22688.27it/s]]\n",
      " 96%|█████████▌| 96070/100000 [00:05<00:00, 16789.42it/s]]\n",
      "100%|██████████| 100000/100000 [00:05<00:00, 17130.94it/s]\n",
      " 31%|███▏      | 31385/100000 [00:01<00:03, 22804.27it/s]]\n",
      "100%|██████████| 100000/100000 [00:05<00:00, 17041.32it/s]\n",
      "100%|██████████| 100000/100000 [00:05<00:00, 17043.03it/s]\n",
      "100%|██████████| 100000/100000 [00:05<00:00, 16987.41it/s]\n",
      "100%|█████████▉| 99992/100000 [00:05<00:00, 17267.35it/s]]\n",
      "100%|██████████| 100000/100000 [00:05<00:00, 16893.59it/s]\n",
      " 22%|██▏       | 21811/100000 [00:01<00:03, 22941.34it/s]\n",
      " 98%|█████████▊| 97948/100000 [00:05<00:00, 17376.85it/s]\n",
      " 98%|█████████▊| 98462/100000 [00:05<00:00, 16479.29it/s]]\n",
      " 34%|███▎      | 33611/100000 [00:01<00:02, 25912.18it/s]\n",
      " 24%|██▍       | 24496/100000 [00:01<00:03, 24327.48it/s]]\n",
      "100%|██████████| 100000/100000 [00:05<00:00, 16853.68it/s]\n",
      " 37%|███▋      | 36929/100000 [00:01<00:02, 27988.78it/s]\n",
      "100%|██████████| 100000/100000 [00:03<00:00, 25001.72it/s]\n",
      "100%|██████████| 100000/100000 [00:04<00:00, 24744.58it/s]\n",
      " 88%|████████▊ | 88186/100000 [00:03<00:00, 21702.42it/s]]\n",
      " 98%|█████████▊| 97835/100000 [00:04<00:00, 22096.56it/s]]\n",
      " 35%|███▌      | 35178/100000 [00:02<00:03, 16762.13it/s]]\n",
      "100%|██████████| 100000/100000 [00:04<00:00, 24111.25it/s]\n",
      "\n",
      "100%|██████████| 100000/100000 [00:04<00:00, 24020.96it/s]\n",
      " 39%|███▉      | 39185/100000 [00:02<00:03, 18531.52it/s]]\n",
      "100%|██████████| 100000/100000 [00:04<00:00, 23825.82it/s]\n",
      " 44%|████▎     | 43589/100000 [00:02<00:02, 19636.68it/s]]\n",
      "100%|██████████| 100000/100000 [00:04<00:00, 23269.03it/s]\n",
      " 47%|████▋     | 46769/100000 [00:02<00:02, 20154.25it/s]\n",
      " 46%|████▌     | 46232/100000 [00:02<00:02, 19155.74it/s]]\n",
      " 59%|█████▉    | 58777/100000 [00:03<00:02, 19421.16it/s]]\n",
      "100%|██████████| 100000/100000 [00:04<00:00, 24949.66it/s]\n",
      "100%|██████████| 100000/100000 [00:05<00:00, 19698.53it/s]\n",
      " 91%|█████████▏| 91334/100000 [00:04<00:00, 21448.98it/s]]\n",
      " 95%|█████████▌| 95496/100000 [00:04<00:00, 22027.73it/s]]\n",
      "100%|██████████| 100000/100000 [00:05<00:00, 19444.31it/s]\n",
      " 98%|█████████▊| 97708/100000 [00:05<00:00, 20983.74it/s]]\n",
      "\n",
      " 99%|█████████▊| 98674/100000 [00:05<00:00, 23200.61it/s]]\n",
      "100%|██████████| 100000/100000 [00:05<00:00, 19255.26it/s]\n",
      "100%|██████████| 100000/100000 [00:05<00:00, 19518.86it/s]\n",
      "\n",
      "100%|██████████| 100000/100000 [00:05<00:00, 19586.93it/s]\n",
      "100%|██████████| 100000/100000 [00:05<00:00, 19135.46it/s]\n",
      "\n",
      "100%|██████████| 100000/100000 [00:05<00:00, 19105.43it/s]\n",
      "100%|██████████| 100000/100000 [00:05<00:00, 18962.62it/s]\n",
      "100%|██████████| 100000/100000 [00:05<00:00, 19152.88it/s]\n",
      "100%|██████████| 100000/100000 [00:01<00:00, 55648.29it/s]\n",
      "100%|██████████| 100000/100000 [00:02<00:00, 49016.85it/s]\n",
      "100%|██████████| 100000/100000 [00:02<00:00, 46158.41it/s]\n",
      "100%|██████████| 100000/100000 [00:02<00:00, 41395.51it/s]\n",
      "100%|██████████| 100000/100000 [00:02<00:00, 45179.17it/s]\n",
      "100%|██████████| 100000/100000 [00:01<00:00, 58837.37it/s]\n",
      "100%|██████████| 100000/100000 [00:02<00:00, 37316.17it/s]\n",
      "100%|██████████| 86942/86942 [00:02<00:00, 40654.11it/s]]\n",
      "100%|██████████| 100000/100000 [00:02<00:00, 42584.65it/s]\n",
      "100%|██████████| 100000/100000 [00:01<00:00, 64283.40it/s]\n",
      "100%|██████████| 100000/100000 [00:02<00:00, 47261.63it/s]\n",
      "100%|██████████| 100000/100000 [00:01<00:00, 51423.40it/s]\n",
      "100%|██████████| 100000/100000 [00:02<00:00, 43205.73it/s]\n",
      "100%|██████████| 100000/100000 [00:02<00:00, 45847.53it/s]\n",
      "100%|██████████| 100000/100000 [00:02<00:00, 42393.11it/s]\n"
     ]
    }
   ],
   "source": [
    "result = mp.multiprocessing(files, loop, cores = 32)"
   ]
  },
  {
   "cell_type": "code",
   "execution_count": 16,
   "id": "765cf2ce",
   "metadata": {},
   "outputs": [
    {
     "data": {
      "text/plain": [
       "7664890"
      ]
     },
     "execution_count": 16,
     "metadata": {},
     "output_type": "execute_result"
    }
   ],
   "source": [
    "len(result)"
   ]
  },
  {
   "cell_type": "code",
   "execution_count": 38,
   "id": "2eae8768",
   "metadata": {},
   "outputs": [],
   "source": [
    "with MDSWriter(out=f'mosaic-whisper-filtered-fasttext', columns=columns, compression=compression, hashes=hashes) as out:\n",
    "    for x in result:\n",
    "        out.write(x) "
   ]
  }
 ],
 "metadata": {
  "kernelspec": {
   "display_name": "Python 3 (ipykernel)",
   "language": "python",
   "name": "python3"
  },
  "language_info": {
   "codemirror_mode": {
    "name": "ipython",
    "version": 3
   },
   "file_extension": ".py",
   "mimetype": "text/x-python",
   "name": "python",
   "nbconvert_exporter": "python",
   "pygments_lexer": "ipython3",
   "version": "3.10.12"
  }
 },
 "nbformat": 4,
 "nbformat_minor": 5
}
