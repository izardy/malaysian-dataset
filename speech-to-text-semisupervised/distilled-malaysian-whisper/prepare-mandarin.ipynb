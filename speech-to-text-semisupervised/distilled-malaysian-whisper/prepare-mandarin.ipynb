{
 "cells": [
  {
   "cell_type": "code",
   "execution_count": 61,
   "id": "9402968f",
   "metadata": {},
   "outputs": [],
   "source": [
    "# !wget https://www.openslr.org/resources/33/data_aishell.tgz\n",
    "# !tar -xf data_aishell.tgz"
   ]
  },
  {
   "cell_type": "code",
   "execution_count": 9,
   "id": "1f314372",
   "metadata": {},
   "outputs": [],
   "source": [
    "# !wget https://www.openslr.org/resources/123/MagicData-RAMC.tar.gz\n",
    "# !tar -zxf MagicData-RAMC.tar.gz"
   ]
  },
  {
   "cell_type": "code",
   "execution_count": 8,
   "id": "e0ef82ca",
   "metadata": {},
   "outputs": [],
   "source": [
    "# !wget https://www.openslr.org/resources/68/train_set.tar.gz\n",
    "# !tar -xf train_set.tar.gz"
   ]
  },
  {
   "cell_type": "code",
   "execution_count": 7,
   "id": "3e109be5",
   "metadata": {},
   "outputs": [],
   "source": [
    "# !wget https://www.openslr.org/resources/111/train_M.tar.gz\n",
    "# !tar -zxf train_M.tar.gz"
   ]
  },
  {
   "cell_type": "code",
   "execution_count": 6,
   "id": "2e2dcc0b",
   "metadata": {},
   "outputs": [],
   "source": [
    "# !wget https://huggingface.co/datasets/malaysia-ai/mirror-AliMeeting/resolve/main/Train_Ali_near.tar.gz\n",
    "# !tar -zxf Train_Ali_near.tar.gz"
   ]
  },
  {
   "cell_type": "code",
   "execution_count": 27,
   "id": "91464826",
   "metadata": {},
   "outputs": [],
   "source": [
    "# !wget https://huggingface.co/datasets/mesolitica/pseudolabel-mandarin-large-v3-timestamp/resolve/main/prepared-mandarin.jsonl\n",
    "# !wget https://huggingface.co/datasets/mesolitica/pseudolabel-mandarin-large-v3-timestamp/resolve/main/prepared-mandarin-en.jsonl\n",
    "# !wget https://huggingface.co/datasets/mesolitica/pseudolabel-mandarin-large-v3-timestamp/resolve/main/prepared-mandarin-ms.jsonl"
   ]
  },
  {
   "cell_type": "code",
   "execution_count": 1,
   "id": "79b4dd39",
   "metadata": {},
   "outputs": [],
   "source": [
    "from glob import glob\n",
    "from tqdm import tqdm\n",
    "import os"
   ]
  },
  {
   "cell_type": "code",
   "execution_count": 5,
   "id": "5cce4a8e",
   "metadata": {},
   "outputs": [],
   "source": [
    "from collections import defaultdict\n",
    "import json\n",
    "\n",
    "mapping_en = dict()\n",
    "\n",
    "with open('prepared-mandarin-en.jsonl') as fopen:\n",
    "    for l in fopen:\n",
    "        l = json.loads(l)\n",
    "        mapping_en[l['audio_filename']] = l['new_text']\n",
    "\n",
    "mapping_ms = dict()\n",
    "\n",
    "with open('prepared-mandarin-ms.jsonl') as fopen:\n",
    "    for l in fopen:\n",
    "        l = json.loads(l)\n",
    "        mapping_ms[l['audio_filename']] = l['new_text']"
   ]
  },
  {
   "cell_type": "code",
   "execution_count": 14,
   "id": "e599a514",
   "metadata": {},
   "outputs": [],
   "source": [
    "!rm -rf mandarin-mosaic"
   ]
  },
  {
   "cell_type": "code",
   "execution_count": 15,
   "id": "cf54f692",
   "metadata": {},
   "outputs": [
    {
     "name": "stderr",
     "output_type": "stream",
     "text": [
      "595542it [00:08, 70320.71it/s] \n"
     ]
    }
   ],
   "source": [
    "import json\n",
    "import os\n",
    "from tqdm import tqdm\n",
    "from streaming import MDSWriter\n",
    "\n",
    "columns = {\n",
    "    'new_text': 'str',\n",
    "    'audio_filename': 'str',\n",
    "    'new_text_en': 'str',\n",
    "    'new_text_ms': 'str',\n",
    "}\n",
    "hashes = 'sha1', 'xxh64'\n",
    "\n",
    "with MDSWriter(out='mandarin-mosaic', columns=columns, compression=None, hashes=hashes) as out:\n",
    "    with open('prepared-mandarin.jsonl') as fopen:\n",
    "        for l in tqdm(fopen):\n",
    "            l = json.loads(l)\n",
    "            if not os.path.exists(l['audio_filename']):\n",
    "                continue\n",
    "            l['new_text_en'] = mapping_en.get(l['audio_filename'], '')\n",
    "            l['new_text_ms'] = mapping_ms.get(l['audio_filename'], '')\n",
    "            out.write(l)"
   ]
  },
  {
   "cell_type": "code",
   "execution_count": null,
   "id": "e63921eb",
   "metadata": {},
   "outputs": [],
   "source": []
  }
 ],
 "metadata": {
  "kernelspec": {
   "display_name": "Python 3 (ipykernel)",
   "language": "python",
   "name": "python3"
  },
  "language_info": {
   "codemirror_mode": {
    "name": "ipython",
    "version": 3
   },
   "file_extension": ".py",
   "mimetype": "text/x-python",
   "name": "python",
   "nbconvert_exporter": "python",
   "pygments_lexer": "ipython3",
   "version": "3.10.12"
  }
 },
 "nbformat": 4,
 "nbformat_minor": 5
}
