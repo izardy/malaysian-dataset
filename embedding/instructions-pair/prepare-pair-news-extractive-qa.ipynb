{
 "cells": [
  {
   "cell_type": "code",
   "execution_count": 1,
   "id": "ec263304",
   "metadata": {},
   "outputs": [],
   "source": [
    "# !wget https://huggingface.co/datasets/mesolitica/chatgpt-news-extractive-qa/resolve/main/news-extractive-qa.json"
   ]
  },
  {
   "cell_type": "code",
   "execution_count": 12,
   "id": "08b38001",
   "metadata": {},
   "outputs": [],
   "source": [
    "import json\n",
    "import random\n",
    "import re\n",
    "\n",
    "def clean(string):\n",
    "    string = re.sub('[^A-Za-z ]+', ' ', string.lower())\n",
    "    string = re.sub(r'[ ]+', ' ', string).strip()\n",
    "    return string\n",
    "\n",
    "def overlap(string1, string2):\n",
    "    l = set([w for w in clean(string1).split() if len(w) > 2])\n",
    "    r = set([w for w in clean(string2).split() if len(w) > 2])\n",
    "    return len(l & r) / len(l)"
   ]
  },
  {
   "cell_type": "code",
   "execution_count": 3,
   "id": "b13418a0",
   "metadata": {},
   "outputs": [],
   "source": [
    "with open('news-extractive-qa.json') as fopen:\n",
    "    data = json.load(fopen)"
   ]
  },
  {
   "cell_type": "code",
   "execution_count": 4,
   "id": "ec7d110d",
   "metadata": {},
   "outputs": [
    {
     "data": {
      "text/plain": [
       "63202"
      ]
     },
     "execution_count": 4,
     "metadata": {},
     "output_type": "execute_result"
    }
   ],
   "source": [
    "len(data)"
   ]
  },
  {
   "cell_type": "code",
   "execution_count": 5,
   "id": "96bfb022",
   "metadata": {},
   "outputs": [
    {
     "data": {
      "text/plain": [
       "['Kuala Terengganu: Kementerian Perdagangan Dalam Negeri, Koperasi dan Kepenggunaan (KPDNKK) Terengganu merampas baju dan seluar jenama tiruan dianggar bernilai RM10,000 dalam serbuan sempena Ramadan di Kampung Tiong, di sini, petang semalam.\\n\\nDalam serbuan kira-kira 4.30 petang itu, KPDNKK menahan tiga individu termasuk pemilik premis berusia 50-an untuk siasatan mengikut Seksyen 8(2)(b) Akta Perihal Dagangan 2011.\\n\\nPengarah KPDNKK Terengganu Azlan Abdul Samad berkata, serbuan dilakukan di tiga premis termasuk sebuah stor di kampung sama dalam operasi diketuai tiga pegawai dan sembilan anggota hasil maklumat dan intipan sejak 8 Mei lalu.\\n\\n\"Antara jenama dirampas ialah Adidas, Guess, Gucci, Levi\\'s dan Nike dengan bekalan dipercayai diperoleh dari tiga negara jiran.\\n\\n\"Siasatan mendapati pemilik premis berkenaan yang sudah 25 tahun mengaut keuntungan mudah menjalankan perniagaan pakaian tiruan itu dipercayai menjadi pembekal kepada peniaga kecil termasuk di pasar malam di negeri ini.\\n\\n\"Semakan rekod juga mendapati peniaga berkenaan pernah dikenakan kompaun sebelum ini kerana kesalahan sama dan ini adalah kesalahan kedua,\" katanya di sini, hari ini.',\n",
       " '{\\n  \"soalan\": [\\n    {\\n      \"soalan\": \"Di mana serbuan tersebut dilakukan?\",\\n      \"substring\": \"Kuala Terengganu\"\\n    },\\n    {\\n      \"soalan\": \"Berapa nilai baju dan seluar jenama tiruan yang dirampas?\",\\n      \"substring\": \"RM10,000\"\\n    },\\n    {\\n      \"soalan\": \"Berapa individu yang ditahan dalam serbuan tersebut?\",\\n      \"substring\": \"tiga individu\"\\n    },\\n    {\\n      \"soalan\": \"Apakah jenama-jenama yang dirampas?\",\\n      \"substring\": \"Adidas, Guess, Gucci, Levi\\'s dan Nike\"\\n    },\\n    {\\n      \"soalan\": \"Berapa lama pemilik premis tersebut menjalankan perniagaan pakaian tiruan?\",\\n      \"substring\": \"25 tahun\"\\n    }\\n  ]\\n}']"
      ]
     },
     "execution_count": 5,
     "metadata": {},
     "output_type": "execute_result"
    }
   ],
   "source": [
    "data[0]"
   ]
  },
  {
   "cell_type": "code",
   "execution_count": 6,
   "id": "42d2fa88",
   "metadata": {},
   "outputs": [
    {
     "data": {
      "text/plain": [
       "63013"
      ]
     },
     "execution_count": 6,
     "metadata": {},
     "output_type": "execute_result"
    }
   ],
   "source": [
    "data_qa = []\n",
    "for d in data:\n",
    "    try:\n",
    "        t = d[0]\n",
    "        a = d[1]\n",
    "        j_a = json.loads(d[1])\n",
    "        data_qa.append(\n",
    "            {\n",
    "                'context': t,\n",
    "                'qa': j_a\n",
    "            }\n",
    "        )\n",
    "    except Exception as e:\n",
    "        pass\n",
    "    \n",
    "len(data_qa)"
   ]
  },
  {
   "cell_type": "code",
   "execution_count": 7,
   "id": "4570d46b",
   "metadata": {},
   "outputs": [
    {
     "data": {
      "text/plain": [
       "{'context': 'Kuala Terengganu: Kementerian Perdagangan Dalam Negeri, Koperasi dan Kepenggunaan (KPDNKK) Terengganu merampas baju dan seluar jenama tiruan dianggar bernilai RM10,000 dalam serbuan sempena Ramadan di Kampung Tiong, di sini, petang semalam.\\n\\nDalam serbuan kira-kira 4.30 petang itu, KPDNKK menahan tiga individu termasuk pemilik premis berusia 50-an untuk siasatan mengikut Seksyen 8(2)(b) Akta Perihal Dagangan 2011.\\n\\nPengarah KPDNKK Terengganu Azlan Abdul Samad berkata, serbuan dilakukan di tiga premis termasuk sebuah stor di kampung sama dalam operasi diketuai tiga pegawai dan sembilan anggota hasil maklumat dan intipan sejak 8 Mei lalu.\\n\\n\"Antara jenama dirampas ialah Adidas, Guess, Gucci, Levi\\'s dan Nike dengan bekalan dipercayai diperoleh dari tiga negara jiran.\\n\\n\"Siasatan mendapati pemilik premis berkenaan yang sudah 25 tahun mengaut keuntungan mudah menjalankan perniagaan pakaian tiruan itu dipercayai menjadi pembekal kepada peniaga kecil termasuk di pasar malam di negeri ini.\\n\\n\"Semakan rekod juga mendapati peniaga berkenaan pernah dikenakan kompaun sebelum ini kerana kesalahan sama dan ini adalah kesalahan kedua,\" katanya di sini, hari ini.',\n",
       " 'qa': {'soalan': [{'soalan': 'Di mana serbuan tersebut dilakukan?',\n",
       "    'substring': 'Kuala Terengganu'},\n",
       "   {'soalan': 'Berapa nilai baju dan seluar jenama tiruan yang dirampas?',\n",
       "    'substring': 'RM10,000'},\n",
       "   {'soalan': 'Berapa individu yang ditahan dalam serbuan tersebut?',\n",
       "    'substring': 'tiga individu'},\n",
       "   {'soalan': 'Apakah jenama-jenama yang dirampas?',\n",
       "    'substring': \"Adidas, Guess, Gucci, Levi's dan Nike\"},\n",
       "   {'soalan': 'Berapa lama pemilik premis tersebut menjalankan perniagaan pakaian tiruan?',\n",
       "    'substring': '25 tahun'}]}}"
      ]
     },
     "execution_count": 7,
     "metadata": {},
     "output_type": "execute_result"
    }
   ],
   "source": [
    "data_qa[0]"
   ]
  },
  {
   "cell_type": "code",
   "execution_count": 8,
   "id": "b2eddc16",
   "metadata": {},
   "outputs": [],
   "source": [
    "indices = {i for i in range(len(data_qa))}"
   ]
  },
  {
   "cell_type": "code",
   "execution_count": 9,
   "id": "45fe5301",
   "metadata": {},
   "outputs": [
    {
     "name": "stdout",
     "output_type": "stream",
     "text": [
      "{'soalan': 'Di mana serbuan tersebut dilakukan?', 'substring': 'Kuala Terengganu'}\n",
      "{'soalan': 'Berapa nilai baju dan seluar jenama tiruan yang dirampas?', 'substring': 'RM10,000'}\n",
      "{'soalan': 'Berapa individu yang ditahan dalam serbuan tersebut?', 'substring': 'tiga individu'}\n",
      "{'soalan': 'Apakah jenama-jenama yang dirampas?', 'substring': \"Adidas, Guess, Gucci, Levi's dan Nike\"}\n",
      "{'soalan': 'Berapa lama pemilik premis tersebut menjalankan perniagaan pakaian tiruan?', 'substring': '25 tahun'}\n"
     ]
    }
   ],
   "source": [
    "i = 0\n",
    "for s in data_qa[i]['qa']['soalan']:\n",
    "    print(s)"
   ]
  },
  {
   "cell_type": "code",
   "execution_count": 20,
   "id": "ba453807",
   "metadata": {},
   "outputs": [
    {
     "name": "stderr",
     "output_type": "stream",
     "text": [
      "100%|█████████████████████████████████████████████████████████████████████████████████████████████████████████████| 63013/63013 [07:01<00:00, 149.60it/s]\n"
     ]
    }
   ],
   "source": [
    "from tqdm import tqdm\n",
    "\n",
    "pairs = []\n",
    "for i in tqdm(range(len(data_qa))):\n",
    "    query = data_qa[i]['context']\n",
    "    \n",
    "    for s in data_qa[i]['qa']['soalan']:\n",
    "        pos = [query]\n",
    "        \n",
    "        try:\n",
    "        \n",
    "            sampled = random.sample(list(indices - {i}), 100)\n",
    "            neg = []\n",
    "            for k in sampled:\n",
    "                try:\n",
    "                    overlapped = overlap(query, data_qa[k]['context'])\n",
    "                    if overlapped < 0.3:\n",
    "                        neg.append(data_qa[k]['context'])\n",
    "                    if len(neg) >= 5:\n",
    "                        break\n",
    "                except:\n",
    "                    pass\n",
    "\n",
    "            pairs.append({\n",
    "                'query': s['soalan'],\n",
    "                'pos': pos,\n",
    "                'neg': neg\n",
    "            })\n",
    "        except:\n",
    "            pass"
   ]
  },
  {
   "cell_type": "code",
   "execution_count": 21,
   "id": "6be9f866",
   "metadata": {
    "scrolled": true
   },
   "outputs": [
    {
     "data": {
      "text/plain": [
       "315069"
      ]
     },
     "execution_count": 21,
     "metadata": {},
     "output_type": "execute_result"
    }
   ],
   "source": [
    "len(pairs)"
   ]
  },
  {
   "cell_type": "code",
   "execution_count": 25,
   "id": "8e7d2adf",
   "metadata": {
    "scrolled": false
   },
   "outputs": [
    {
     "data": {
      "text/plain": [
       "{'query': 'Di mana serbuan tersebut dilakukan?',\n",
       " 'pos': ['Kuala Terengganu: Kementerian Perdagangan Dalam Negeri, Koperasi dan Kepenggunaan (KPDNKK) Terengganu merampas baju dan seluar jenama tiruan dianggar bernilai RM10,000 dalam serbuan sempena Ramadan di Kampung Tiong, di sini, petang semalam.\\n\\nDalam serbuan kira-kira 4.30 petang itu, KPDNKK menahan tiga individu termasuk pemilik premis berusia 50-an untuk siasatan mengikut Seksyen 8(2)(b) Akta Perihal Dagangan 2011.\\n\\nPengarah KPDNKK Terengganu Azlan Abdul Samad berkata, serbuan dilakukan di tiga premis termasuk sebuah stor di kampung sama dalam operasi diketuai tiga pegawai dan sembilan anggota hasil maklumat dan intipan sejak 8 Mei lalu.\\n\\n\"Antara jenama dirampas ialah Adidas, Guess, Gucci, Levi\\'s dan Nike dengan bekalan dipercayai diperoleh dari tiga negara jiran.\\n\\n\"Siasatan mendapati pemilik premis berkenaan yang sudah 25 tahun mengaut keuntungan mudah menjalankan perniagaan pakaian tiruan itu dipercayai menjadi pembekal kepada peniaga kecil termasuk di pasar malam di negeri ini.\\n\\n\"Semakan rekod juga mendapati peniaga berkenaan pernah dikenakan kompaun sebelum ini kerana kesalahan sama dan ini adalah kesalahan kedua,\" katanya di sini, hari ini.'],\n",
       " 'neg': ['KUALA LUMPUR 24 April - Pasangan beregu lelaki, Aaron Chia-Soh Wooi Yik menjadi wakil pertama negara berjaya melangkah ke suku akhir Kejohanan Badminton Asia yang sedang berlangsung di Wuhan, hari ini.\\n\\nNaib juara Siri Jelajah Dunia Super 1,000 All England mengesahkan aksi lapan terbaik selepas lawan mereka di pusingan kedua yang juga bekas juara dunia dari Indonesia, Muhammad Ahsan-Hendra Setiawan menarik diri selepas menewaskan pasangan Taiwan, Liao Min Chun-Su Ching Heng 21-15, 21-16.\\n\\nDalam aksi hari ini, Aaron-Wooi Yik berjaya menewaskan lawan mereka dari Thailand, Kittinupong Kedren-Dechapol Puavaranukroh 21-15, 19-21, 21-17.\\n\\nMelangkah ke pusingan kedua hari ini ialah pasangan Teo Ee Yi-Ong Yew Sin yang menang 21-12, 21-12 ke atas pasangan Taiwan Lin Shang Kai-Tseng Min Hao dan akan berdepan pilihan kedua dari China, Li Junhui-Liu Yuchen yang menewaskan pasangan Hong Kong, Chan Tsz Kit-Yeung Shing Choi 21-16, 21-13.\\n\\nPasangan beregu lelaki bebas, Mohd. Arif Ab. Latif-Nur Mohd. Azriyn Ayub menewaskan pasangan Thailand, Inkarat Apisuk-Tanupat Viriyangkura 21-14, 21-10 untuk bertemu pilihan ketiga dari Jepun, Keigo Sonoda-Takeshi Kamura yang menyingkirkan Chung Yonny-Tam Chun Hei 21-12, 21-17.\\n\\nTurut melangkah ke pusingan kedua ialah Chong Wei Feng, Soniia Cheah (perseorangan wanita) dan Anna Cheong-Lim Chiew Sien (beregu wanita).\\n\\nGagal meneruskan kemaraan adalah pemenang pingat perak Sukan Olimpik Rio, Goh V Shem-Tan Wee Kiong dan perseorangan wanita, Lee Ying Ying.-UTUSAN ONLINE',\n",
       "  'KERETA terbang kedua negara menggunakan teknologi berbeza daripada kereta terbang pertama akan membuat penerbangan pertamanya pada suku ketiga tahun depan, kata Menteri Pembangunan Usahawan Datuk Seri Mohd Redzuan Md Yusof.\\n\\nBeliau berkata, kereta itu sedang dibangunkan di Eropah dan perbincangan sudah dilakukan dengan pembina sama ada untuk membawa kereta itu melakukan penerbangan pertamanya pada tahun depan.\\n\\n“Versi kedua menggunakan teknologi baharu dan kita telah berbincang sama ada ia boleh dilakukan, dan sekiranya ada minat di negara ini, untuk mengadakan penerbangan pertama pada suku ketiga tahun depan,” katanya kepada pemberita di lobi Parlimen di Kuala Lumpur, hari ini.\\n\\nPada Pameran Udara dan Maritim Antarabangsa Langkawi (LIMA) 2019 awal tahun ini, kementerian telah mempamerkan prototaip kenderaan terbang yang dinamakan ‘Vector’.\\n\\nMenurut pembina Aerodyne, “Vector” bukanlah kereta terbang yang paling dinanti-nantikan tetapi sistem pengangkutan udara dari titik ke titik.',\n",
       "  'Amalan kejuruteraan ekologi adalah satu alternatif yang boleh diguna pakai dalam menguruskan serangga perosak secara mesra alam di kawasan pertanian seperti sawah padi.\\n\\nKonsep ini membabitkan amalan kultura seperti pengurusan vegetasi secara manipulasi habitat yang berfungsi menggalakkan aktiviti kawalan serangga perosak secara biologi.\\n\\nMenerusi amalan ini, aktiviti spesies musuh semula jadi dapat ditingkatkan dengan menyediakan sumber seperti makanan alternatif apabila mangsa atau perumah tiada.\\n\\nPenanaman spesies tumbuhan berbunga yang kaya nektar turut berfungsi sebagai tempat berlindung dan membiak untuk pelbagai spesies musuh semula jadi terdiri daripada serangga pemangsa dan parasitoid.\\n\\nAmalan ini sudah lama diperkenalkan di China dan negara ASEAN seperti Myanmar, Vietnam, Thailand serta Indonesia.\\n\\nIa terbukti dapat meningkatkan kepelbagaian artropod di kawasan sawah padi terutama spesies musuh semula jadi yang secara tidak langsung menyumbang dalam mengurangkan kadar serangan serangga perosak seperti benah perang, ulat gulung daun dan ulat pengorek batang.\\n\\nDi samping itu, kadar penggunaan racun serangga kimia juga menurun dan kelestarian ekosistem sawah padi dapat dipelihara dan dipulihara.\\n\\nJusteru, Kawasan Pembangunan Pertanian Bersepadu (IADA) Barat Laut Selangor dengan kerjasama Institut Penyelidikan dan Kemajuan Pertanian Malaysia (MARDI) menjalankan projek kejuruteraan ekologi dalam meningkatkan kepelbagaian artropod dalam ekosistem padi.\\n\\nSaintis Kanan, Pusat Penyelidikan Tanaman dan Sains Tanah MARDI Badrulhadza Amzah berkata, kajian ini dimulakan pada musim luar 2016 membabitkan kawasan sawah seluas dua hektar.\\n\\nBeliau berkata, dalam kajian ini, perbandingan populasi artoropod antara plot kejuruteraan ekologi dan plot amalan biasa petani yang melaksanakan semburan racun serangga dilakukan.\\n\\n“Plot kejuruteraan ekologi sudah ditanam dengan beberapa spesies tumbuhan Turnera atau nama tempatannya bunga pukul delapan di sekeliling batas petak berkenaan.\\n\\n“Antara spesies yang ditanam ialah Turnera subulata (bunga berwarna putih) dan T. trioniflora (bunga berwarna kuning). Pensampelan serangga dibuat menerusi beberapa kaedah seperti pengecaman visual, penggunaan jaring sapuan, perangkap lekat dan perangkap bekas.\\n\\n“Hasil pemerhatian menunjukkan plot kejuruteraan ekologi boleh menampung lebih banyak artropod berdasarkan bilangan dan kepelbagaian spesies serta pengiraan indeks berbanding plot amalan biasa petani,” katanya selepas ditemui di kawasan sawah sekitar Sungai Haji Dorani, Sungai Besar, Selangor, baru-baru ini. Hadir sama, Pegawai Pertanian IADA Barat Laut Selangor, Syaliza Hanom Zakaria.\\n\\nBadrulhadza berkata, prinsip kejuruteraan ekologi adalah sebahagian daripada komponen pengurusan perosak bersepadu (IPM) iaitu penggunaan agen kawalan biologi yang mesra alam.\\n\\n“Ia memperkenalkan elemen seperti rekaan landskap dengan penggunaan tanaman berbunga yang kaya nektar sebagai perumah kepada serangga bermanfaat dalam ekosistem padi.\\n\\n“Penanaman pokok bunga Turnera mampu menyediakan habitat alternatif kepada spesies musuh semula jadi untuk membiak seterusnya secara tidak langsung dapat mengawal serangga perosak yang ada dalam sawah di persekitaran.\\n\\n“Pengurusan perosak menerusi kaedah kejuruteraan ekologi ini mempunyai potensi besar untuk diamalkan di sawah di Malaysia,” katanya.\\n\\nMenurutnya, kajian menyeluruh perlu dijalankan pada masa hadapan untuk mengukuhkan bukti dan meyakinkan pesawah padi bahawa kaedah ini mampu mengurangkan masalah serangan perosak.\\n\\n“Ia sekali gus bermanfaat dari segi kelestarian alam sekitar dan kesihatan manusia,” katanya.\\n\\nSementara itu, Syaliza Hanom berkata, peningkatan hasil padi menerusi kaedah kejuruteraan ekologi dapat meningkatkan pengeluaran hasil padi yang berkualiti dan selamat dimakan.\\n\\nBeliau berkata, ia dapat meningkatkan keuntungan petani menerusi peningkatan hasil dan pengurangan kos pengeluaran termasuk mengurangkan penggunaan racun perosak yang tidak terkawal.\\n\\n“Mewujudkan kelestarian dan persekitaran sawah yang ceria, indah dan sejahtera menerusi penyusunan semula landskap sawah yang terancang dan mempelbagaikan aktiviti ekonomi berasaskan kepelbagaian bio seperti aktiviti pelancongan agro, inap desa serta pengeluaran produk organik,” katanya.\\n\\nPetani, Mohd Yatim Basri, 64, berkata, sejak IADA dan MARDI memperkenalkan kaedah kejuruteraan ekologi ini, hasil pengeluaran padinya semakin meningkat.\\n\\n“Kaedah tanaman bunga ini untuk menarik perhatian serangga bermanfaat yang umum seperti lebah, labah-labah dan kumbang kura-kura.\\n\\n“Sementara tanaman pokok ini juga boleh menarik perhatian serangga musuh khusus kepada perosak padi seperti benah perang,” katanya.',\n",
       "  'ALOR SETAR: Persatuan Bola Sepak Kedah (KFA) sudah memberi penerangan kepada Suruhanjaya Pencegahan Rasuah Malaysia (SPRM) Kedah berhubung dakwaan segelintir penyokong mengenai kegagalan mereka menguruskan penjualan tiket final Piala Malaysia 2017.\\n\\nPengerusi Jawatankuasa Teknikal Tiket dan Pintu Masuk KFA, Shaharol Niza Omar mengesahkan pihaknya dikunjungi beberapa pegawai SPRM yang melakukan siasatan awal mengenai laporan yang dibuat kelab penyokong dan KFA menjelaskan pertemuan hampir dua jam itu berlangsung dengan baik.\\n\\n\"Ketika pegawai SPRM datang ke pejabat ini, kami sedang menguruskan pengagihan tiket untuk tempahan membabitkan 400 bas dan SPRM turut menyaksikan sendiri agihan tiket dan senarai tempahan yang dibuat.\\n\\n\"Malah, SPRM juga turut menjelaskan bahawa agihan tiket perlawanan akhir adalah termaktub kepada KFA dan kami tidak melanggar sebarang polisi memandangkan kami tidak terikat dengan apa-apa polisi yang menyatakan mengenai jumlah tiket yang perlu dijual di kaunter.\\n\\n\"Harus diingat, tempahan untuk 400 bas itu juga adalah untuk penyokong Kedah bukannya untuk orang asing ataupun ulat.\\n\\nBakinya baru dijual di kaunter jadi dua bentuk agihan itu tetap sampai kepada penyokong Kedah,\" katanya ketika ditemui di pejabat KFA, sebentar tadi.\\n\\nSementara itu, SPRM Kedah mengesahkan pihaknya menghantar beberapa pegawai ke pejabat KFA selepas mendapat laporan mengenai kelemahan pengagihan tiket perlawanan akhir antara Kedah dan Johor Darul Ta\\'zim (JDT), Sabtu ini.\\n\\nBagaimanapun, sumber SPRM Kedah menjelaskan ia adalah lebih kepada siasatan awal membabitkan dakwaan kelab penyokong yang membuat laporan itu dengan beberapa pegawai itu tiba di pejabat KFA kira kira jam 1.30 tengah hari tadi.\\n\\n\"Kami mendapatkan penjelasan daripada pihak terbabit selepas mendapat beberapa laporan terhadap KFA mengenai pengagihan kuota tiket sehingga mencetuskan kekecohan di Stadium Darul Aman.\\n\\n\"Namun, tiada apa yang boleh kami berikan buat masa ini kerana ia masih di peringkat awal,\" katanya ketika dihubungi, hari ini.\\n\\nTerdahulu, Persatuan Penyokong Lang Merah (LMFA) bercadang untuk membuat satu laporan kepada SPRM berhubung kelemahan sistem penjualan tiket final Piala Malaysia antara Kedah dan JDT yang dijadualkan berlangsung di Stadium Shah Alam, Sabtu ini.\\n\\nPengerusi LMFA, Wan Syazwan Wan Fadzelah berkata, pihaknya amat kecewa dengan kegagalan KFA menguruskan pembahagian tiket hingga mengakibatkan berlakunya beberapa insiden kekecohan di perkarangan Stadium Darul Aman, Alor Star, Kedah, hari ini.',\n",
       "  'KUALA LUMPUR: Ketua Angkatan Bersatu Anak Muda (Armada) Parti Pribumi Bersatu Malaysia (BERSATU), Syed Saddiq Syed Abdul Rahman, tidak boleh disingkirkan dengan sewenang-wenangnya menerusi pakatan atau usaha tertentu kerana ia hanya boleh dilakukan menerusi pemilihan parti.\\n\\nSetiausaha Agung BERSATU, Datuk Marzuki Yahya, berkata parti itu mengamalkan sistem demokrasi sepenuhnya dan sebarang keputusan harus diterjemahkan ketika pemilihan parti berkenaan.\\n\\n“Ingin ditegaskan bahawa tiada istilah singkir-menyingkir dalam BERSATU walau masing-masing berbeza pandangan kerana parti ini mengamalkan demokrasi sepenuhnya.\\n\\n“Tahun depan, Insya-Allah kita akan ada pemilihan parti dan waktu itu ahli boleh membuat keputusan.\\n\\n“Bagi saya, dakwaan kononnya ada usaha untuk menyingkirkan Syed Saddiq itu hanyalah salah faham dan tidak perlu dipanjangkan,” katanya ketika dihubungi NSTP, hari ini.\\n\\nBeliau mengulas mengenai kontroversi kononnya ada usaha daripada Ketua-ketua Bahagian Bersatu yang sedang berbincang untuk menyingkirkan Syed Saddiq ekoran kenyataan beliau yang menyelar ucapan wakil Wilayah Persekutuan berhubung isu kontrak dan jawatan pada Perhimpunan Agung Tahunan (PAT) BERSATU di Putrajaya, Ahad lalu.\\n\\nSyed Saddiq turut memberi amaran kenyataan terbabit boleh mengundang perhatian Suruhanjaya Pencegahan Rasuah Malaysia (SPRM).\\n\\nMesej perbualan di media sosial antara ketua-ketua bahagian Bersatu yang menunjukkan mereka melepaskan geram dan mahu menyingkirkan Syed Saddiq turut tular serta menjadi tumpuan ramai.\\n\\nMengulas lanjut mengenai isu itu, Marzuki berkata PAT adalah platform untuk perwakilan menyuarakan pendapat dan nasihat demi kepentingan parti justeru setiap perbahasan, ucapan mahu pun harapan yang dikemukakan perlu diterima dengan hati terbuka oleh semua pihak.\\n\\nKatanya, ia termasuk juga berkaitan isu kontrak dan jawatan yang turut disentuh pada perhimpunan berkenaan.\\n\\n“Mungkin dahulu pada masa pemerintahan kerajaan Barisan Nasional (BN), banyak projek atau tender mereka disekat dan kita tidak boleh nafikan kerana itu adalah realiti.\\n\\n“Kini, kerajaan sudah berubah dan mereka bertanya apa yang kerajaan boleh bantu, ia adalah hak mereka untuk meluahkan pandangan masing-masing.\\n\\n“Semua itu Perdana Menteri, Tun Dr Mahathir Mohamad, sendiri pun sudah memberi jawapan dan semua pihak perlu menghormatinya,” katanya.\\n\\nMenurut Marzuki lagi, isu itu tidak seharusnya diperbesarkan namun beliau tidak menolak bahawa ada pihak yang terasa hati dengan ucapan Menteri Belia dan Sukan terbabit.\\n\\nKata Marzuki, beliau menyokong perjuangan anak muda seperti Syed Saddiq namun Ahli Parlimen Muar itu juga tidak akan lari daripada melakukan kesilapan dan berharap ia dapat diperbaiki dari semasa ke semasa.\\n\\n“Apa yang penting ketika ini adalah masa depan parti dan agenda negara, berbeza pendapat mengenai sesuatu perkara adalah hal biasa dalam dunia politik apatah lagi untuk sebuah parti baharu seperti BERSATU.\\n\\n“Tanggungjawab kita terhadap rakyat lagi utama dan diharapkan semua ahli akan terus kekal bersatu,” katanya.']}"
      ]
     },
     "execution_count": 25,
     "metadata": {},
     "output_type": "execute_result"
    }
   ],
   "source": [
    "pairs[0]"
   ]
  },
  {
   "cell_type": "code",
   "execution_count": 22,
   "id": "8f6a7fb5",
   "metadata": {},
   "outputs": [],
   "source": [
    "with open('news-qa-pair.jsonl', 'w') as fopen:\n",
    "    for l in pairs:\n",
    "        if not len(l['pos']) or not len(l['neg']):\n",
    "            continue\n",
    "        fopen.write(f'{json.dumps(l)}\\n')"
   ]
  },
  {
   "cell_type": "code",
   "execution_count": 23,
   "id": "f9b70655",
   "metadata": {},
   "outputs": [
    {
     "data": {
      "application/vnd.jupyter.widget-view+json": {
       "model_id": "1cdcb3593bd34172acbb552e01e1f12d",
       "version_major": 2,
       "version_minor": 0
      },
      "text/plain": [
       "news-qa-pair.jsonl:   0%|          | 0.00/3.98G [00:00<?, ?B/s]"
      ]
     },
     "metadata": {},
     "output_type": "display_data"
    },
    {
     "data": {
      "text/plain": [
       "CommitInfo(commit_url='https://huggingface.co/datasets/mesolitica/instructions-pair-mining/commit/d0d54a31d02682483d09c5668f6511c24d69b41a', commit_message='Upload news-qa-pair.jsonl with huggingface_hub', commit_description='', oid='d0d54a31d02682483d09c5668f6511c24d69b41a', pr_url=None, pr_revision=None, pr_num=None)"
      ]
     },
     "execution_count": 23,
     "metadata": {},
     "output_type": "execute_result"
    }
   ],
   "source": [
    "from huggingface_hub import HfApi\n",
    "api = HfApi()\n",
    "api.upload_file(\n",
    "    path_or_fileobj='news-qa-pair.jsonl',\n",
    "    path_in_repo='news-qa-pair.jsonl',\n",
    "    repo_id='mesolitica/instructions-pair-mining',\n",
    "    repo_type='dataset',\n",
    ")"
   ]
  },
  {
   "cell_type": "code",
   "execution_count": null,
   "id": "3c1d6b07",
   "metadata": {},
   "outputs": [],
   "source": []
  }
 ],
 "metadata": {
  "kernelspec": {
   "display_name": "Python 3 (ipykernel)",
   "language": "python",
   "name": "python3"
  },
  "language_info": {
   "codemirror_mode": {
    "name": "ipython",
    "version": 3
   },
   "file_extension": ".py",
   "mimetype": "text/x-python",
   "name": "python",
   "nbconvert_exporter": "python",
   "pygments_lexer": "ipython3",
   "version": "3.8.10"
  }
 },
 "nbformat": 4,
 "nbformat_minor": 5
}
