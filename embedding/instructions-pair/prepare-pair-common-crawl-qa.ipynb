{
 "cells": [
  {
   "cell_type": "code",
   "execution_count": 1,
   "id": "ec263304",
   "metadata": {},
   "outputs": [],
   "source": [
    "# !wget https://huggingface.co/datasets/mesolitica/chatgpt-msa-common-crawl-qa/resolve/main/common-crawl-qa.json"
   ]
  },
  {
   "cell_type": "code",
   "execution_count": 2,
   "id": "08b38001",
   "metadata": {},
   "outputs": [],
   "source": [
    "import json\n",
    "import random\n",
    "import re\n",
    "\n",
    "def clean(string):\n",
    "    string = re.sub('[^A-Za-z ]+', ' ', string.lower())\n",
    "    string = re.sub(r'[ ]+', ' ', string).strip()\n",
    "    return string\n",
    "\n",
    "def overlap(string1, string2):\n",
    "    l = set([w for w in clean(string1).split() if len(w) > 2])\n",
    "    r = set([w for w in clean(string2).split() if len(w) > 2])\n",
    "    return len(l & r) / len(l)"
   ]
  },
  {
   "cell_type": "code",
   "execution_count": 3,
   "id": "b13418a0",
   "metadata": {},
   "outputs": [],
   "source": [
    "with open('common-crawl-qa.json') as fopen:\n",
    "    data = json.load(fopen)"
   ]
  },
  {
   "cell_type": "code",
   "execution_count": 4,
   "id": "42d2fa88",
   "metadata": {},
   "outputs": [
    {
     "data": {
      "text/plain": [
       "69829"
      ]
     },
     "execution_count": 4,
     "metadata": {},
     "output_type": "execute_result"
    }
   ],
   "source": [
    "data_qa = []\n",
    "for d in data:\n",
    "    try:\n",
    "        t = d[0]\n",
    "        a = d[1]\n",
    "        j_a = json.loads(d[1])\n",
    "        data_qa.append(\n",
    "            {\n",
    "                'context': t,\n",
    "                'qa': j_a\n",
    "            }\n",
    "        )\n",
    "    except Exception as e:\n",
    "        pass\n",
    "    \n",
    "len(data_qa)"
   ]
  },
  {
   "cell_type": "code",
   "execution_count": 5,
   "id": "4570d46b",
   "metadata": {},
   "outputs": [
    {
     "data": {
      "text/plain": [
       "{'context': 'Google Map) MAZLAN MOKHTAR JENGKA Jerantut (Klik nama untuk WhatsApp, klik lokasi untuk Google Map) MOHD NAJID JERANTUT Kuantan (Klik nama untuk WhatsApp, klik lokasi untuk Google Map) FAZIRA JALAN TELUK SISEK FAZIRAH ZUKI LORONG CHENGAL LEMPONG NORAZMA KUANTAN AZIZAH KUANTAN NANAD AZRI TAMAN BUKIT RANGIN NURULHANA SUNGAI ISAP ROHANI MUHAMAD JALAN AIR PUTIH (1 - 5) CIK TA JALAN INDUSTRI TANAH PUTIH BARU SAADIAH KAMPUNG BALOK SHARIFAH KUANTAN SITI KHADIJAH KAMPUNG TIRAM SITI NORHAMIZAH TAMAN SERI MAHKOTA AMAN SITI SHARINA KUANTAN ZALIFAH AHMAD BANDAR INDERA MAHKOTA Maran (Klik nama untuk WhatsApp, klik lokasi untuk Google Map) MOHD FADELY BUKIT TAJAU Muadzam Shah (Klik nama untuk WhatsApp, klik lokasi untuk Google Map) HASAZALI PAHANG Pekan (Klik nama untuk WhatsApp, klik lokasi untuk Google Map) FASEEHA KAHAR PEKAN Raub (Klik nama untuk WhatsApp, klik lokasi untuk Google Map) AZNAH TAMAN KEMAJUAN NOR SOLEHAH RAUB NUR SHAFINA RAUB Temerloh (Klik nama untuk WhatsApp, klik lokasi untuk Google Map) HAYATI TEMERLOH MAS NAJIHAH TEMERLOH PUTRI SYERA JALAN AHMAD SHAH NORA TEMERLOH NORIMI TEMERLOH NIZA KAMALUDDIN BUKIT ANGIN + Perak (43) Nama Lokasi Ayer Tawar (Klik nama untuk WhatsApp, klik lokasi untuk Google Map) WANNIEY LEE AYER TAWAR Batu Gajah (Klik nama untuk WhatsApp, klik lokasi untuk Google Map) NOR SHAHIMA BATU GAJAH NORHAYATI BATU GAJAH ZAINUDDIN BATU GAJAH Bidor (Klik nama untuk WhatsApp, klik lokasi untuk Google Map) WULAN LESTARI BIDOR Chemor (Klik nama untuk WhatsApp, klik lokasi untuk Google Map) NOOR HELMI CHEMOR NURUL AINUN CHEMOR SHAMSUDIN CHEMOR Gerik (Klik nama untuk WhatsApp, klik lokasi untuk Google Map) NURHIDAYATUL FARHANA KAMPUNG BANDARIANG SITI SAHIRA GERIK Gopeng (Klik nama untuk WhatsApp, klik lokasi untuk Google Map) RAHIMI AWANG GOPENG Ipoh (Klik nama untuk WhatsApp, klik lokasi untuk Google Map) HAJARATULLAILI TAMAN SERI SAYANG SAMISAH SAMSURI IPOH Kampung Gajah (Klik nama untuk WhatsApp, klik lokasi untuk Google Map) FARHANA KAMPUNG GAJAH Kamunting (Klik nama untuk WhatsApp, klik lokasi untuk Google Map) KHAIRIL FAIZOLL BUKIT JANA NUR FARHAMNA BUKIT JANA SITI NORSYUHAILA KAMUNTING Kuala Kangsar (Klik nama untuk WhatsApp, klik lokasi untuk Google Map) NOR HAZA KUALA KANGSAR ROZITAH KUALA KANGSAR Parit (Klik nama untuk WhatsApp, klik lokasi untuk Google Map) ZUHAILI PARIT Parit Buntar (Klik nama untuk WhatsApp, klik lokasi untuk Google Map) MUHAMMAD HUSAINI PARIT BUNTAR Pengkalan Hulu (Klik nama untuk WhatsApp, klik lokasi untuk Google Map) NUR ROAINA PENGKALAN HULU Perak (Klik nama untuk WhatsApp, klik lokasi untuk Google Map) IMAN NOR PERAK Selama (Klik nama untuk WhatsApp, klik lokasi untuk Google Map) SITI HAIZA SELAMA (KM 6) Semanggol (Klik nama untuk WhatsApp, klik lokasi untuk Google Map) NOOR AZIAH SEMANGGOL Seri Iskandar (Klik nama untuk WhatsApp, klik lokasi untuk Google Map) FARHANAOMAR BANDAR BARU SERI ISKANDAR ASLINA BANDAR BARU SERI ISKANDAR SITI HAJAR BANDAR UNIVERSITI Seri Manjung (Klik nama untuk WhatsApp, klik lokasi untuk Google Map) SURAYA SERI MANJUNG Simpang (Klik nama untuk WhatsApp, klik lokasi untuk Google Map) SERI TAMAN BERKAT Sitiawan (Klik nama untuk WhatsApp, klik lokasi untuk Google Map) UMIE ANA SITIAWAN NORHASHITA SITIAWAN Taiping (Klik nama untuk WhatsApp, klik lokasi untuk Google Map) FATIN SHAKINA POKOK ASSAM NOR TAIPING',\n",
       " 'qa': {'soalan': [{'soalan': 'Siapakah yang berada di Jengka Jerantut?',\n",
       "    'jawapan': 'Mazlan Mokhtar'},\n",
       "   {'soalan': 'Siapakah yang berada di Kuala Kangsar?',\n",
       "    'jawapan': 'Nor Haza atau Rozitah'},\n",
       "   {'soalan': 'Siapakah yang berada di Simpang?',\n",
       "    'jawapan': 'Seri Taman Berkah'}]}}"
      ]
     },
     "execution_count": 5,
     "metadata": {},
     "output_type": "execute_result"
    }
   ],
   "source": [
    "data_qa[0]"
   ]
  },
  {
   "cell_type": "code",
   "execution_count": 6,
   "id": "b2eddc16",
   "metadata": {},
   "outputs": [],
   "source": [
    "indices = {i for i in range(len(data_qa))}"
   ]
  },
  {
   "cell_type": "code",
   "execution_count": 7,
   "id": "45fe5301",
   "metadata": {
    "scrolled": true
   },
   "outputs": [
    {
     "name": "stdout",
     "output_type": "stream",
     "text": [
      "{'soalan': 'Siapakah yang berada di Jengka Jerantut?', 'jawapan': 'Mazlan Mokhtar'}\n",
      "{'soalan': 'Siapakah yang berada di Kuala Kangsar?', 'jawapan': 'Nor Haza atau Rozitah'}\n",
      "{'soalan': 'Siapakah yang berada di Simpang?', 'jawapan': 'Seri Taman Berkah'}\n"
     ]
    }
   ],
   "source": [
    "i = 0\n",
    "for s in data_qa[i]['qa']['soalan']:\n",
    "    print(s)"
   ]
  },
  {
   "cell_type": "code",
   "execution_count": 8,
   "id": "9f269696",
   "metadata": {},
   "outputs": [
    {
     "data": {
      "text/plain": [
       "'Camoor Blinds Sdn Bhd About Us Camoor Blinds Sdn Bhd is a window blinds manufacturer and our business covers the entire Malaysia and Singapore. Our main office is located in Kuala Lumpur, Malaysia. Our business model is B2B (business to business). People centric approach has been always our core value. Because in Camoor Blinds , we believe having a great team is our most important assets. Our commitment is to deliver high quality and sleek design as well as locally relevant product to make a real difference to our customers. With this goal in mind, we have never contented and constantly strive for perfection in our products. We believe the best way for us to do this, is through deep understanding of people’s need and desires. We want to bring people meaningful products that make every home and offices and better place to live and work. This sets us apart and make us Camoor Blinds. Home About Us Products Manual Products Outdoor Roller Blinds Roller Blinds Roller Blinds System Smooth Curtain tracks Zebra Blinds View All Motorized Products Dooya Roller Blinds Motor View All Project Project List Project Photo Policy Video Contact Us PC Version Home Menu © 2016 - 2023 Camoor Blinds Sdn Bhd (1186513-K) Privacy Policy Powered by NEWPAGES Visitors: 321355 Switch To Desktop Version'"
      ]
     },
     "execution_count": 8,
     "metadata": {},
     "output_type": "execute_result"
    }
   ],
   "source": [
    "data_qa[10]['context']"
   ]
  },
  {
   "cell_type": "code",
   "execution_count": 13,
   "id": "ba453807",
   "metadata": {},
   "outputs": [
    {
     "name": "stderr",
     "output_type": "stream",
     "text": [
      "100%|██████████████████████████████████████████████████████████████████████████████████████████████████████████████| 69829/69829 [56:42<00:00, 20.52it/s]\n"
     ]
    }
   ],
   "source": [
    "from tqdm import tqdm\n",
    "\n",
    "pairs = []\n",
    "for i in tqdm(range(len(data_qa))):\n",
    "    query = data_qa[i]['context']\n",
    "    \n",
    "    for s in data_qa[i]['qa']['soalan']:\n",
    "        pos = [query]\n",
    "        \n",
    "        sampled = random.sample(list(indices - {i}), 100)\n",
    "        neg = []\n",
    "        for k in sampled:\n",
    "            try:\n",
    "                overlapped = overlap(query, data_qa[k]['context'])\n",
    "                if overlapped < 0.1:\n",
    "                    neg.append(data_qa[k]['context'])\n",
    "                if len(neg) >= 5:\n",
    "                    break\n",
    "            except:\n",
    "                pass\n",
    "        \n",
    "        pairs.append({\n",
    "            'query': s['soalan'],\n",
    "            'pos': pos,\n",
    "            'neg': neg\n",
    "        })"
   ]
  },
  {
   "cell_type": "code",
   "execution_count": 15,
   "id": "679b8ef3",
   "metadata": {},
   "outputs": [
    {
     "data": {
      "text/plain": [
       "209489"
      ]
     },
     "execution_count": 15,
     "metadata": {},
     "output_type": "execute_result"
    }
   ],
   "source": [
    "len(pairs)"
   ]
  },
  {
   "cell_type": "code",
   "execution_count": 14,
   "id": "8f6a7fb5",
   "metadata": {},
   "outputs": [],
   "source": [
    "with open('common-crawl-qa-pair.jsonl', 'w') as fopen:\n",
    "    for l in pairs:\n",
    "        if not len(l['pos']) or not len(l['neg']):\n",
    "            continue\n",
    "        fopen.write(f'{json.dumps(l)}\\n')"
   ]
  },
  {
   "cell_type": "code",
   "execution_count": 16,
   "id": "d748ba15",
   "metadata": {},
   "outputs": [
    {
     "data": {
      "application/vnd.jupyter.widget-view+json": {
       "model_id": "054d813048a14eb589f4f1ab7a329a5a",
       "version_major": 2,
       "version_minor": 0
      },
      "text/plain": [
       "common-crawl-qa-pair.jsonl:   0%|          | 0.00/4.19G [00:00<?, ?B/s]"
      ]
     },
     "metadata": {},
     "output_type": "display_data"
    },
    {
     "data": {
      "text/plain": [
       "CommitInfo(commit_url='https://huggingface.co/datasets/mesolitica/instructions-pair-mining/commit/8273e5292cd5bb53f3044ff02300ca0cb358fc55', commit_message='Upload common-crawl-qa-pair.jsonl with huggingface_hub', commit_description='', oid='8273e5292cd5bb53f3044ff02300ca0cb358fc55', pr_url=None, pr_revision=None, pr_num=None)"
      ]
     },
     "execution_count": 16,
     "metadata": {},
     "output_type": "execute_result"
    }
   ],
   "source": [
    "from huggingface_hub import HfApi\n",
    "api = HfApi()\n",
    "api.upload_file(\n",
    "    path_or_fileobj='common-crawl-qa-pair.jsonl',\n",
    "    path_in_repo='common-crawl-qa-pair.jsonl',\n",
    "    repo_id='mesolitica/instructions-pair-mining',\n",
    "    repo_type='dataset',\n",
    ")"
   ]
  },
  {
   "cell_type": "code",
   "execution_count": null,
   "id": "40c0f171",
   "metadata": {},
   "outputs": [],
   "source": []
  }
 ],
 "metadata": {
  "kernelspec": {
   "display_name": "Python 3 (ipykernel)",
   "language": "python",
   "name": "python3"
  },
  "language_info": {
   "codemirror_mode": {
    "name": "ipython",
    "version": 3
   },
   "file_extension": ".py",
   "mimetype": "text/x-python",
   "name": "python",
   "nbconvert_exporter": "python",
   "pygments_lexer": "ipython3",
   "version": "3.8.10"
  }
 },
 "nbformat": 4,
 "nbformat_minor": 5
}
