{
 "cells": [
  {
   "cell_type": "code",
   "execution_count": 3,
   "id": "73f23c1b",
   "metadata": {},
   "outputs": [],
   "source": [
    "# !wget https://huggingface.co/datasets/mesolitica/malaysian-youtube-audio-instructions/resolve/main/mixtral-audio-instruction.jsonl"
   ]
  },
  {
   "cell_type": "code",
   "execution_count": 2,
   "id": "75027c2d",
   "metadata": {},
   "outputs": [],
   "source": [
    "import json\n",
    "import random\n",
    "from tqdm import tqdm\n",
    "import re\n",
    "\n",
    "def clean(string):\n",
    "    string = re.sub('[^A-Za-z ]+', ' ', string.lower())\n",
    "    string = re.sub(r'[ ]+', ' ', string).strip()\n",
    "    return string\n",
    "\n",
    "def overlap(string1, string2):\n",
    "    l = set([w for w in clean(string1).split() if len(w) > 2])\n",
    "    r = set([w for w in clean(string2).split() if len(w) > 2])\n",
    "    return len(l & r) / len(l)"
   ]
  },
  {
   "cell_type": "code",
   "execution_count": 4,
   "id": "5038d8d7",
   "metadata": {},
   "outputs": [
    {
     "name": "stderr",
     "output_type": "stream",
     "text": [
      "293752it [00:04, 63603.58it/s]\n"
     ]
    }
   ],
   "source": [
    "data = []\n",
    "files = ['mixtral-audio-instruction.jsonl']\n",
    "for f in files:\n",
    "    with open(f) as fopen:\n",
    "        for l in tqdm(fopen):\n",
    "            l = json.loads(l)\n",
    "            data.append(l)"
   ]
  },
  {
   "cell_type": "code",
   "execution_count": null,
   "id": "a5685610",
   "metadata": {},
   "outputs": [],
   "source": [
    "data = [(i, data[i]) for i in range(len(data))]"
   ]
  },
  {
   "cell_type": "code",
   "execution_count": 34,
   "id": "e9b132cf",
   "metadata": {},
   "outputs": [],
   "source": [
    "ranged = set(range(len(data)))"
   ]
  },
  {
   "cell_type": "code",
   "execution_count": 42,
   "id": "a3bcffd1",
   "metadata": {},
   "outputs": [],
   "source": [
    "!rm -rf mining-mixtral-audio-instruction\n",
    "!mkdir mining-mixtral-audio-instruction"
   ]
  },
  {
   "cell_type": "code",
   "execution_count": 43,
   "id": "1663fae3",
   "metadata": {},
   "outputs": [],
   "source": [
    "import os\n",
    "\n",
    "def loop(rows):\n",
    "    rows, index = rows\n",
    "    for i in tqdm(range(len(rows))):\n",
    "        filename = os.path.join('mining-mixtral-audio-instruction', f'{i}-{index}.json')\n",
    "        if os.path.exists(filename):\n",
    "            continue\n",
    "            \n",
    "        no, d = rows[i]\n",
    "        \n",
    "        pairs = []\n",
    "        list_of_groups = zip(*(iter(d['chat']),) * 2)\n",
    "        for c in list_of_groups:\n",
    "            pos = [c[1]['content_ms'], d['context']]\n",
    "            \n",
    "            sampled = random.sample(list(ranged - {no}), 100)\n",
    "            neg = []\n",
    "            q = c[0]['content']\n",
    "            for s in sampled:\n",
    "                try:\n",
    "                    overlapped = overlap(q, data[s][1]['context'])\n",
    "                    if overlapped < 0.1:\n",
    "                        neg.append(data[s][1]['context'])\n",
    "                    if len(neg) >= 5:\n",
    "                        break\n",
    "                except:\n",
    "                    pass\n",
    "            \n",
    "            \n",
    "            pairs.append(\n",
    "                {\n",
    "                    'query': q,\n",
    "                    'pos': pos,\n",
    "                    'neg': neg,\n",
    "                }\n",
    "            )\n",
    "        \n",
    "        with open(filename, 'w') as fopen:\n",
    "            json.dump(pairs, fopen)"
   ]
  },
  {
   "cell_type": "code",
   "execution_count": 44,
   "id": "e66b7939",
   "metadata": {
    "scrolled": true
   },
   "outputs": [
    {
     "name": "stderr",
     "output_type": "stream",
     "text": [
      "100%|██████████████████████████████████████████████████████████████████████████████████████████████████████████████████| 100/100 [00:01<00:00, 89.58it/s]\n"
     ]
    }
   ],
   "source": [
    "loop((data[:100],0))"
   ]
  },
  {
   "cell_type": "code",
   "execution_count": 45,
   "id": "451e8903",
   "metadata": {},
   "outputs": [],
   "source": [
    "# !wget https://gist.githubusercontent.com/huseinzol05/98974ae8c6c7a65d4bc0af9f5003786a/raw/2e06e71ef7349a57bc58cc9913ae6bae1f9f8447/mp.py"
   ]
  },
  {
   "cell_type": "code",
   "execution_count": 46,
   "id": "1925fb8b",
   "metadata": {},
   "outputs": [
    {
     "name": "stderr",
     "output_type": "stream",
     "text": [
      "100%|████████████████████████████████████████████████████████████████████████████████████████████████████████████| 29375/29375 [1:00:21<00:00,  8.11it/s]\n",
      "100%|██████████████████████████████████████████████████████████████████████████████████████████████████████████████████████| 2/2 [00:00<00:00,  6.23it/s]\n",
      "100%|████████████████████████████████████████████████████████████████████████████████████████████████████████████| 29375/29375 [1:00:20<00:00,  8.11it/s]\n",
      "100%|████████████████████████████████████████████████████████████████████████████████████████████████████████████| 29375/29375 [1:00:25<00:00,  8.10it/s]\n",
      "100%|████████████████████████████████████████████████████████████████████████████████████████████████████████████| 29375/29375 [1:00:33<00:00,  8.08it/s]\n",
      "100%|████████████████████████████████████████████████████████████████████████████████████████████████████████████| 29375/29375 [1:00:23<00:00,  8.11it/s]\n",
      "100%|████████████████████████████████████████████████████████████████████████████████████████████████████████████| 29375/29375 [1:00:50<00:00,  8.05it/s]\n",
      "100%|████████████████████████████████████████████████████████████████████████████████████████████████████████████| 29375/29375 [1:00:32<00:00,  8.09it/s]\n",
      "100%|████████████████████████████████████████████████████████████████████████████████████████████████████████████| 29375/29375 [1:00:39<00:00,  8.07it/s]\n",
      "100%|████████████████████████████████████████████████████████████████████████████████████████████████████████████| 29375/29375 [1:00:29<00:00,  8.09it/s]\n",
      "100%|████████████████████████████████████████████████████████████████████████████████████████████████████████████| 29375/29375 [1:00:40<00:00,  8.07it/s]\n"
     ]
    }
   ],
   "source": [
    "import mp\n",
    "\n",
    "mp.multiprocessing(data, loop, cores = 10, returned = False)"
   ]
  },
  {
   "cell_type": "code",
   "execution_count": 47,
   "id": "566c34b4",
   "metadata": {},
   "outputs": [],
   "source": [
    "from glob import glob"
   ]
  },
  {
   "cell_type": "code",
   "execution_count": 48,
   "id": "a4db5256",
   "metadata": {},
   "outputs": [
    {
     "data": {
      "text/plain": [
       "293752"
      ]
     },
     "execution_count": 48,
     "metadata": {},
     "output_type": "execute_result"
    }
   ],
   "source": [
    "files = glob('mining-mixtral-audio-instruction/*.json')\n",
    "len(files)"
   ]
  },
  {
   "cell_type": "code",
   "execution_count": 49,
   "id": "c2dbcc27",
   "metadata": {},
   "outputs": [],
   "source": [
    "with open(files[0]) as fopen:\n",
    "    d = json.load(fopen)"
   ]
  },
  {
   "cell_type": "code",
   "execution_count": 50,
   "id": "be68f7f7",
   "metadata": {},
   "outputs": [
    {
     "data": {
      "text/plain": [
       "[{'query': 'Why is it more convenient to create our own cable management in a spacious case like the Fractal Design Meshify, which costs around RM439?',\n",
       "  'pos': ['Apabila ia berkaitan dengan pengurusan kabel, mempunyai sarung yang luas seperti Fractal Design Meshify boleh menjadikan tugas itu lebih mudah dan lebih mudah. Ini disebabkan oleh jumlah ruang yang lebih besar yang tersedia untuk mengatur dan mengalihkan kabel, yang boleh membantu meningkatkan aliran udara, mengurangkan kekusutan kabel dan menjadikannya lebih mudah untuk mengakses komponen untuk penyelenggaraan atau peningkatan.\\n\\nFractal Design Meshify amat dipandang baik untuk keupayaan pengurusan kabelnya. Sarung ini termasuk beberapa ciri yang direka untuk memudahkan penghalaan kabel, seperti laluan kabel yang digosok getah, pengikat kabel Velcro dan potongan besar di belakang dulang papan induk untuk membolehkan akses mudah ke bahagian belakang papan.\\n\\nMengenai sebab Fractal Design Meshify dianggap sebagai salah satu kes terbaik 2017 oleh ramai pengulas, ia berpunca daripada pelbagai faktor di luar sekadar keupayaan pengurusan kabelnya. Sarung ini menampilkan reka bentuk minimalis yang anggun dengan panel hadapan mesh tersendiri yang memberikan aliran udara yang sangat baik dan rupa yang unik. Ia juga mempunyai ruang dalaman yang luas yang boleh memuatkan pelbagai komponen, termasuk papan induk E-ATX dan kad grafik panjang.\\n\\nRingkasnya, Fractal Design Meshify ialah sarung berkualiti tinggi dengan ciri pengurusan kabel yang sangat baik yang menjadikannya pilihan yang sangat baik untuk pembina PC yang mahukan sarung yang luas dan mudah dibina dengan rupa yang unik. Populariti dan pengiktirafan kes pada tahun 2017 adalah wajar, dan keupayaan pengurusan kabelnya hanyalah salah satu daripada banyak sebab mengapa ia dianggap sebagai kes yang menonjol dalam kelasnya.',\n",
       "   'di antara dinding dan juga fan tu pun sangat besar, sangat senang untuk kita buat kabel manajemen tu sendiri. Harga untuk Fractal Design Meshify sini ialah RM439 dan kalau kita fikir balik kenapa orang putih kata casing ni ialah king untuk tahun 2017, satu perkataan sahaja yang saya boleh kongsikan kepada anda iaitu teliti. Apa yang saya maksudkan dengan teliti ialah bagaimana engineer dekat Fractal Design ni fikir untuk sampaikan kepada kita'],\n",
       "  'neg': ['Sehinggalah sebelum PRU ke-15 Anwar Ibrahim tetap berjanji Akan menurunkan harga minyak Selepas menjadi kerajaan Tetapi apa yang berlaku? Yang berlaku ialah Berkemungkinan besar Saksiti minyak akan disasarkan Harga minyak akan diapungkan dengan harga pasaran Dan ini akan menyebabkan Harga minyak, petrol dan diesel Akan meningkat Seterusnya Akan menyebabkan rakyat semakin lama Semakin terbeban Walhar Rafizi Selepas menjadi menteri Dia kata apa tau Kerajaan memerlukan masa untuk menurunkan harga minyak',\n",
       "   'diri dalam rumah. Khawah. Tidak mahu jumpa orang. Tidak mahu ke madrasah. Sehingga kan pada kita itu, Malonarumi dah ada anak. Sultan Walad Sultan Walad tak sanggup tengok ayah dia macam ni. Jadi dia pun keluar untuk mencari guru ayah dia dan berjumpalah Syamsuddin Atta Briz ni bawa balik ke Konya balik. Jadi kehidupan seorang guru dan anak murid tu berterusan sampai lah ada beberapa sumber mengatakan bahawa Syamsuddin Atta Briz ni meninggal dunia disebabkan dibunuh sebab dia out of study satu malam tu bersama dengan Malonarumi lepas tu besok tu Malonarumi bangun tengok Syamsuddin Atta Briz dah hilang. Jadi peristiwa ni menyebabkan Malonarumi tak',\n",
       "   'kereta ini, mereka mempunyai sedikit aloi zink di sini, aloi zink dan kemudian anda mempunyai catridge pctg dan kemudian sedikit kain dan kain, baik-baik saja di hadapan di hadapan di sini adalah kain kain dan kemudian di sini adalah aloi zink dan kemudian kain dan kemudian pctg, ia adalah ip68 daripada ip67, syok proof dan waterproof, pot pengisian di tempat ini di hadapan di hadapan di sini dan kemudian di dalamnya adalah warna merah, ia adalah type c untuk pot pengisian sebenarnya mereka membuat',\n",
       "   'Anda tertanya-tanya adakah perlu untuk anda beli i5 kalau anda just guna gaming Dota 2, Valorant, Apex Legends ataupun maybe anda nak main God of War. Sebenarnya Ryzen 3 ataupun Intel Core i3 dah pun memandai. Kalau anda ada duit, anda nak go for yang lagi hebat of course anda boleh beli i5, even anda boleh beli Ryzen 9 lah. Itu sahaja dari saya. Lepas ni saya akan tunjuk kepada anda klip gameplay',\n",
       "   'lebih cancel lah, something like that lah, lagi, kita pun tak tahu lah, tapi nak masuk ke usahalah orang tu, itu biasa normal lah, itu lagi risiko paling rendah, kalau kita belah, kita tak tahu, you pun kecil manis, kita pun tak tahu bila bila, tiga doktor cakap, buat, bila buat tuan-tuan, dua hari doktor tak masuk, tunggu, mana doktor, ha ha ha, mana pergi, tuan-tuan, masuk dia, kita sudah masuk, kita sudah buat lah, sekarang lah,']},\n",
       " {'query': \"oh, I see. So in short, I can say it's worth it to buy this case because of its cable management capability, airflow design, and compatibility with various hardware components. Am I correct?\",\n",
       "  'pos': ['Ya, anda betul-betul betul! Fractal Design Meshify ialah sarung berkualiti tinggi yang menawarkan keupayaan pengurusan kabel yang sangat baik, menjadikannya lebih mudah dan lebih mudah untuk membina dan menyelenggara PC. Panel hadapan mesh unik sarung ini menyediakan aliran udara yang sangat baik, mengekalkan komponen sejuk dan mengurangkan bunyi. Selain itu, sarung ini serasi dengan pelbagai komponen perkakasan, termasuk papan induk E-ATX dan kad grafik panjang, memberikan anda banyak kelonggaran semasa memilih bahagian untuk binaan anda. Secara keseluruhan, Fractal Design Meshify ialah pilihan yang bagus untuk pembina PC yang mahukan sarung yang luas dan mudah dibina dengan rupa yang unik dan ciri-ciri terkemuka.',\n",
       "   'di antara dinding dan juga fan tu pun sangat besar, sangat senang untuk kita buat kabel manajemen tu sendiri. Harga untuk Fractal Design Meshify sini ialah RM439 dan kalau kita fikir balik kenapa orang putih kata casing ni ialah king untuk tahun 2017, satu perkataan sahaja yang saya boleh kongsikan kepada anda iaitu teliti. Apa yang saya maksudkan dengan teliti ialah bagaimana engineer dekat Fractal Design ni fikir untuk sampaikan kepada kita'],\n",
       "  'neg': ['game yang kamu akan bermain ok adakah kamu fikir saya boleh buat chat ini? ya, adakah kamu fikir kamu boleh buat? ini adalah Paw Patrol, kawan-kawan. soalan ini adalah berapa lama? ya, ini adalah Paw Patrol. saya pasti kamu akan mempunyai masa yang sangat mudah untuk melakukan ini. oh, ya ok, jadi semua yang kamu perlu lakukan adalah tekan menu ini dan tekan butang maju saya tidak melihat apa-apa adakah kamu dapat melihat ia tidak terhubung atau sesuatu oh, ia tidak terhubung. ok',\n",
       "   'United fan lah So tengok bola Taklah ni gaduh Kutuk-kutuk Each other macam tu Okay mungkin last Target kau untuk Season ni lah Macam technical team Nak no.10 mungkin Top 10 Lebih realistic Apa yang kau harapkan Untuk Chelsea Dan untuk Portugino Okay Untuk Portugino I harapkan dia dapat Sokongan lah Daripada player Management Even fans Bagi dia masa Buat apa yang dia nak Buat apa yang dia boleh Bagi kepada team kita Dari segi Performance wise',\n",
       "   \"Sebenarnya akustik form mahal yang kita nampak murah dekat Shopee, yang kita nampak murah dekat Lazada tu, dia punya thickness, ketebalan tu 2 inci macam tu yang mana sebenarnya tak memberi efek sangat kepada audio kita. That's why bagi saya untuk YouTuber yang nak murah, kita just beli clip mic Boya M1 yang saya sediakan link dekat bawah kalau anda berminat untuk beli Boya M1 lah. So itu saja untuk video kali ni, saya harap dapat membantu anda di luar sana.\",\n",
       "   'saya akan mengatakan saya tidak boleh. Apa yang saya lakukan adalah saya benar-benar menipu dia. Kerana dia ingin pergi dan melakukan perkara ini di tempat ini. Dan saya akan berkata, saya tidak boleh kerana saya menekan jadual saya. Apa yang saya lakukan adalah saya beritahu dia, saya mahu, jadi tanya saya lagi di masa depan kerana saya berminat. Tetapi saya tidak boleh sekarang kerana faktor eksternal. Jadi teman wanita saya terus menanyakan saya jika saya mahu melakukan perkara ini. Dan saya terus berkata saya tidak boleh. Dan itu membina hubungan yang sangat tidak asli.',\n",
       "   'Dan satu kalau tanya aku lagi, Ali Putih ni sebenarnya baik. Dia sayang keluarga dia dan dia cuba untuk uruskan keluarga dia sehabis baik. Selepas kehilangan abang dia. Cuma mungkin lah disebabkan pengurusan daripada Ali Putih ni dia macam susah nak diterima. Balu arwah abang, Hidayah, aku pun pernah jumpa juga sebelum ni. Pernah berinteraksi juga. Dan aku tahu macam Hidayah pun dia baik juga sebenarnya. Dia cuba untuk protect family dia. Dia cuba untuk uruskan anak dia. Jadi macam kita tengok sekarang ni, dua-dua pun ada kepentingan masing-masing.']},\n",
       " {'query': \"thank you so much, Mr. Mike. That's all my questions for now. Have a nice day!\",\n",
       "  'pos': ['Sama-sama! Saya berbesar hati untuk membantu anda. Jika anda mempunyai sebarang soalan lagi pada masa hadapan, jangan teragak-agak untuk bertanya. Selamat hari raya!',\n",
       "   'di antara dinding dan juga fan tu pun sangat besar, sangat senang untuk kita buat kabel manajemen tu sendiri. Harga untuk Fractal Design Meshify sini ialah RM439 dan kalau kita fikir balik kenapa orang putih kata casing ni ialah king untuk tahun 2017, satu perkataan sahaja yang saya boleh kongsikan kepada anda iaitu teliti. Apa yang saya maksudkan dengan teliti ialah bagaimana engineer dekat Fractal Design ni fikir untuk sampaikan kepada kita'],\n",
       "  'neg': ['dulu. Abang tahu pun maksud RS. Tapi sekejap. Ya. Saya ni ada macam rappers ke macam nelayan? Ini? Ini macam Ah dah dah tak payah jawab. Okay. RS apa dia? RS tu maksud dia Racing Spirit. Kan. Bukan. Road Sailing. Road Sailing. Berlayar di jalanan. Haa. Dia macam kita ni tak banyak diperkenalkan varian-varian yang ada pada Honda kan. Tapi untuk RS ni dia lebih pada estetik. Estetik kosmetik. Estetik kosmetik dan lebih cantik. Contohnya lower grill ni kan.',\n",
       "   'Sesungguhnya kami berlindung denganmu daripada menyekutukanmu. Hanya engkau yang kami sembah dan hanya kepada engkau kami memohon pertolongan. Perbaikilah dan peliharilah hubungan antara kami. Pandulah kami untuk meneluti jalan yang engkau redai. Peliharilah kami dari keberukan segala sesuatu. Sama ada yang zahir maupun yang tersembunyi. Ampunilah dosa-dosa kami. Dosa-dosa kedua ibu bapa kami. Dan dosa-dosa guru-guru kami yang membimbing kami ke jalanmu ya Allah. Dan sudahlah bagi kami dengan sebaik-baik kesudahan.',\n",
       "   'Tapi, saya lebih suka orang masuk ke dalam wayang dan berpuas hati dan suka dengan cerita ini berbanding dengan nak dapatkan jutaan tiket dan semua itu. Jadi, saya mahu orang-orang sangat puas hati dengan filem ini. Jadi, saya harap siapa sahaja yang masuk dan keluar daripada Pawagam dan tengok film Pusaka ini, mereka akan sangat berpuas hati dan mereka boleh kata, ya ini adalah salah satu filem Malay terbaik di Malaysia.',\n",
       "   'Oh, oh, oh, oh, oh, oh, oh, oh, oh, oh, oh, oh, oh, oh, oh, oh, oh, oh, oh, oh, oh, oh, oh, oh, oh, oh, oh, oh, oh, oh, oh, oh, oh, oh, oh, oh, oh, oh, oh, oh, oh, oh, oh, oh, oh, oh, oh, oh, oh, oh, oh, oh, oh, oh, oh, oh, oh, oh, oh, oh, oh, oh, oh, oh, oh, oh, oh, oh, oh, oh, oh, oh, oh, oh, oh, oh, oh, oh, oh, oh, oh, oh, oh, oh, oh, oh, oh, oh, oh, oh, oh, oh, oh, oh, oh, oh, oh, oh, oh, oh, oh, oh, oh, oh, oh, oh, oh, oh, oh, oh, oh, oh, oh, oh, oh, oh, oh, oh, oh, oh, oh, oh, oh, oh, oh, oh, oh, oh, oh, oh, oh, oh, oh, oh, oh, oh, oh, oh, oh, oh, oh, oh, oh, oh, oh, oh, oh, oh, oh, oh, oh, oh, oh, oh, oh, oh, oh, oh, oh, oh, oh, oh, oh, oh, oh, oh, oh, oh, oh, oh, oh, oh, oh, oh, oh, oh, oh, oh, oh, oh, oh, oh, oh, oh, oh, oh, oh, oh, oh, oh, oh, oh, oh, oh, oh, oh, oh, oh, oh, oh, oh, oh, oh, oh, oh, oh, oh, oh, oh, oh, oh, oh, oh,',\n",
       "   'Timbalan Naib Chancellor Akademik dan Antarabangsa Penyelidik Advokasi Institut Pengajian Sains Sosial, Ipsas UPM dan juga Dr. Dr. Wan Ahmad Fauzi Wan Husin, pakar perlembagaan daripada Universiti Malaysia Pahang. Terima kasih memberikan pandangan, idea dan buah fikiran berhubung dengan kemungkinan-kemungkinan yang akan berlaku pada hari ini. Tapi hari ini pun kita senang nak tengok. Kejap lagi pukul 9 ni, ini ring gong. Kalau dekat berusaha tu gong tu dah ketuk dah. Kalau IPO baru masuk kan.']}]"
      ]
     },
     "execution_count": 50,
     "metadata": {},
     "output_type": "execute_result"
    }
   ],
   "source": [
    "d"
   ]
  },
  {
   "cell_type": "code",
   "execution_count": 51,
   "id": "f1141dd7",
   "metadata": {},
   "outputs": [],
   "source": [
    "import msgspec"
   ]
  },
  {
   "cell_type": "code",
   "execution_count": 52,
   "id": "94c38893",
   "metadata": {},
   "outputs": [
    {
     "name": "stderr",
     "output_type": "stream",
     "text": [
      "100%|██████████████████████████████████████████████████████████████████████████████████████████████████████████| 293752/293752 [00:32<00:00, 8991.57it/s]\n"
     ]
    }
   ],
   "source": [
    "with open('mixtral-audio-instruction-pair.jsonl', 'w') as fopen_l:\n",
    "    for f in tqdm(files):\n",
    "        with open(f) as fopen:\n",
    "            d = json.load(fopen)\n",
    "        for d_ in d:\n",
    "            if len(d_['neg']) > 3:\n",
    "                d_['neg'] = random.sample(d_['neg'], 3)\n",
    "            fopen_l.write(f'{msgspec.json.encode(d_).decode()}\\n')"
   ]
  },
  {
   "cell_type": "code",
   "execution_count": 53,
   "id": "17701006",
   "metadata": {},
   "outputs": [
    {
     "name": "stdout",
     "output_type": "stream",
     "text": [
      "741980 mixtral-audio-instruction-pair.jsonl\r\n"
     ]
    }
   ],
   "source": [
    "!wc -l mixtral-audio-instruction-pair.jsonl"
   ]
  },
  {
   "cell_type": "code",
   "execution_count": 57,
   "id": "bc1f9f71",
   "metadata": {},
   "outputs": [
    {
     "name": "stdout",
     "output_type": "stream",
     "text": [
      "-rw-r--r-- 1 husein husein 2.4G Mac   6 19:17 mixtral-audio-instruction-pair.jsonl\r\n"
     ]
    }
   ],
   "source": [
    "!ls -lh mixtral-audio-instruction-pair.jsonl"
   ]
  },
  {
   "cell_type": "code",
   "execution_count": 58,
   "id": "5984b852",
   "metadata": {},
   "outputs": [
    {
     "name": "stdout",
     "output_type": "stream",
     "text": [
      "{\"query\":\"Why is it more convenient to create our own cable management in a spacious case like the Fractal Design Meshify, which costs around RM439?\",\"pos\":[\"Apabila ia berkaitan dengan pengurusan kabel, mempunyai sarung yang luas seperti Fractal Design Meshify boleh menjadikan tugas itu lebih mudah dan lebih mudah. Ini disebabkan oleh jumlah ruang yang lebih besar yang tersedia untuk mengatur dan mengalihkan kabel, yang boleh membantu meningkatkan aliran udara, mengurangkan kekusutan kabel dan menjadikannya lebih mudah untuk mengakses komponen untuk penyelenggaraan atau peningkatan.\\n\\nFractal Design Meshify amat dipandang baik untuk keupayaan pengurusan kabelnya. Sarung ini termasuk beberapa ciri yang direka untuk memudahkan penghalaan kabel, seperti laluan kabel yang digosok getah, pengikat kabel Velcro dan potongan besar di belakang dulang papan induk untuk membolehkan akses mudah ke bahagian belakang papan.\\n\\nMengenai sebab Fractal Design Meshify dianggap sebagai salah satu kes terbaik 2017 oleh ramai pengulas, ia berpunca daripada pelbagai faktor di luar sekadar keupayaan pengurusan kabelnya. Sarung ini menampilkan reka bentuk minimalis yang anggun dengan panel hadapan mesh tersendiri yang memberikan aliran udara yang sangat baik dan rupa yang unik. Ia juga mempunyai ruang dalaman yang luas yang boleh memuatkan pelbagai komponen, termasuk papan induk E-ATX dan kad grafik panjang.\\n\\nRingkasnya, Fractal Design Meshify ialah sarung berkualiti tinggi dengan ciri pengurusan kabel yang sangat baik yang menjadikannya pilihan yang sangat baik untuk pembina PC yang mahukan sarung yang luas dan mudah dibina dengan rupa yang unik. Populariti dan pengiktirafan kes pada tahun 2017 adalah wajar, dan keupayaan pengurusan kabelnya hanyalah salah satu daripada banyak sebab mengapa ia dianggap sebagai kes yang menonjol dalam kelasnya.\",\"di antara dinding dan juga fan tu pun sangat besar, sangat senang untuk kita buat kabel manajemen tu sendiri. Harga untuk Fractal Design Meshify sini ialah RM439 dan kalau kita fikir balik kenapa orang putih kata casing ni ialah king untuk tahun 2017, satu perkataan sahaja yang saya boleh kongsikan kepada anda iaitu teliti. Apa yang saya maksudkan dengan teliti ialah bagaimana engineer dekat Fractal Design ni fikir untuk sampaikan kepada kita\"],\"neg\":[\"kereta ini, mereka mempunyai sedikit aloi zink di sini, aloi zink dan kemudian anda mempunyai catridge pctg dan kemudian sedikit kain dan kain, baik-baik saja di hadapan di hadapan di sini adalah kain kain dan kemudian di sini adalah aloi zink dan kemudian kain dan kemudian pctg, ia adalah ip68 daripada ip67, syok proof dan waterproof, pot pengisian di tempat ini di hadapan di hadapan di sini dan kemudian di dalamnya adalah warna merah, ia adalah type c untuk pot pengisian sebenarnya mereka membuat\",\"diri dalam rumah. Khawah. Tidak mahu jumpa orang. Tidak mahu ke madrasah. Sehingga kan pada kita itu, Malonarumi dah ada anak. Sultan Walad Sultan Walad tak sanggup tengok ayah dia macam ni. Jadi dia pun keluar untuk mencari guru ayah dia dan berjumpalah Syamsuddin Atta Briz ni bawa balik ke Konya balik. Jadi kehidupan seorang guru dan anak murid tu berterusan sampai lah ada beberapa sumber mengatakan bahawa Syamsuddin Atta Briz ni meninggal dunia disebabkan dibunuh sebab dia out of study satu malam tu bersama dengan Malonarumi lepas tu besok tu Malonarumi bangun tengok Syamsuddin Atta Briz dah hilang. Jadi peristiwa ni menyebabkan Malonarumi tak\",\"Anda tertanya-tanya adakah perlu untuk anda beli i5 kalau anda just guna gaming Dota 2, Valorant, Apex Legends ataupun maybe anda nak main God of War. Sebenarnya Ryzen 3 ataupun Intel Core i3 dah pun memandai. Kalau anda ada duit, anda nak go for yang lagi hebat of course anda boleh beli i5, even anda boleh beli Ryzen 9 lah. Itu sahaja dari saya. Lepas ni saya akan tunjuk kepada anda klip gameplay\"]}\r\n"
     ]
    }
   ],
   "source": [
    "!head -n 1 mixtral-audio-instruction-pair.jsonl"
   ]
  },
  {
   "cell_type": "code",
   "execution_count": 60,
   "id": "65abd703",
   "metadata": {},
   "outputs": [
    {
     "data": {
      "text/plain": [
       "CommitInfo(commit_url='https://huggingface.co/datasets/mesolitica/instructions-pair-mining/commit/4dec1250e4bec2ac0cb7b89bde4591878f9b752a', commit_message='Upload mixtral-audio-instruction-pair.jsonl with huggingface_hub', commit_description='', oid='4dec1250e4bec2ac0cb7b89bde4591878f9b752a', pr_url=None, pr_revision=None, pr_num=None)"
      ]
     },
     "execution_count": 60,
     "metadata": {},
     "output_type": "execute_result"
    }
   ],
   "source": [
    "from huggingface_hub import HfApi\n",
    "api = HfApi()\n",
    "api.upload_file(\n",
    "    path_or_fileobj='mixtral-audio-instruction-pair.jsonl',\n",
    "    path_in_repo='mixtral-audio-instruction-pair.jsonl',\n",
    "    repo_id='mesolitica/instructions-pair-mining', \n",
    "    repo_type='dataset',\n",
    ")"
   ]
  },
  {
   "cell_type": "code",
   "execution_count": null,
   "id": "7e566357",
   "metadata": {},
   "outputs": [],
   "source": []
  }
 ],
 "metadata": {
  "kernelspec": {
   "display_name": "Python 3 (ipykernel)",
   "language": "python",
   "name": "python3"
  },
  "language_info": {
   "codemirror_mode": {
    "name": "ipython",
    "version": 3
   },
   "file_extension": ".py",
   "mimetype": "text/x-python",
   "name": "python",
   "nbconvert_exporter": "python",
   "pygments_lexer": "ipython3",
   "version": "3.8.10"
  }
 },
 "nbformat": 4,
 "nbformat_minor": 5
}
