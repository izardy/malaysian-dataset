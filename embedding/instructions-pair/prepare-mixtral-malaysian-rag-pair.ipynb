{
 "cells": [
  {
   "cell_type": "code",
   "execution_count": 6,
   "id": "009e2a1a",
   "metadata": {},
   "outputs": [],
   "source": [
    "# !wget https://huggingface.co/datasets/mesolitica/mixtral-malaysian-rag/resolve/main/rag-multiturn-chaotic.jsonl\n",
    "# !wget https://huggingface.co/datasets/mesolitica/mixtral-malaysian-rag/resolve/main/rag-multiturn-chaotic-part2.jsonl"
   ]
  },
  {
   "cell_type": "code",
   "execution_count": 7,
   "id": "0f9d1f20",
   "metadata": {},
   "outputs": [
    {
     "name": "stdout",
     "output_type": "stream",
     "text": [
      "{\"filename\": \"gov.my.jsonl\", \"chat\": [{\"role\": \"user\", \"content\": \"Are you as sure as a horse's hind leg?\", \"content_ms\": \"Adakah anda pasti seperti kaki belakang kuda?\"}, {\"role\": \"assistant\", \"content\": \"I'm afraid I don't understand the reference to a horse's hind leg in relation to my ability to provide accurate information. However, I can assure you that I will provide information based solely on the knowledge base you've given me and to the best of my ability, I will provide accurate and relevant responses. I don't have feelings, beliefs, or personal knowledge, I am a machine learning model that generate text based on the input data.\", \"content_ms\": \"Saya takut saya tidak memahami rujukan kepada kaki belakang kuda berkaitan dengan keupayaan saya untuk memberikan maklumat yang tepat. Walau bagaimanapun, saya boleh memberi jaminan kepada anda bahawa saya akan memberikan maklumat hanya berdasarkan pangkalan pengetahuan yang anda berikan kepada saya dan setakat kemampuan saya, saya akan memberikan respons yang tepat dan relevan. Saya tidak mempunyai perasaan, kepercayaan atau pengetahuan peribadi, saya ialah model pembelajaran mesin yang menjana teks berdasarkan data input.\"}, {\"role\": \"user\", \"content\": \"When does the order come into force?\", \"content_ms\": \"Bilakah perintah itu mula berkuat kuasa?\"}, {\"role\": \"assistant\", \"content\": \"Based on the knowledge base provided, the Environmental Quality (Prescribed Premises) (Scheduled Wastes Treatment and Disposal Facilities) Order 1989 comes into force on the 1st of May, 1989.\", \"content_ms\": \"Berdasarkan pangkalan pengetahuan yang disediakan, Perintah Kualiti Alam Sekeliling (Premis Ditetapkan) (Kemudahan Rawatan dan Pelupusan Sisa Terjadual) 1989 berkuat kuasa pada 1 Mei 1989.\"}, {\"role\": \"user\", \"content\": \"How does the order impact businesses and individuals in Malaysia?\", \"content_ms\": \"Bagaimanakah pesanan itu memberi kesan kepada perniagaan dan individu di Malaysia?\"}, {\"role\": \"assistant\", \"content\": \"Based on the knowledge base provided, the Environmental Quality (Prescribed Premises) (Scheduled Wastes Treatment and Disposal Facilities) Order 1989, which comes into force on the 1st of May, 1989 in Malaysia, is a subsidiary legislation under the Environmental Quality Act 1974 [Act 127]. This order sets forth the regulations for prescribed premises and scheduled wastes treatment and disposal facilities in Malaysia. The aim of this order is to control and manage the generation, treatment, storage, and disposal of scheduled wastes in a manner that protects the environment and human health.\\n\\nTherefore, businesses and individuals in Malaysia that generate, handle, or dispose of scheduled wastes, as defined in the order, will be impacted by these regulations. They will be required to comply with the standards and requirements set forth in the order, such as proper treatment, storage, and disposal of scheduled wastes, and obtaining the necessary permits and approvals from the relevant authorities. Non-compliance with the regulations can result in penalties, such as fines and/or imprisonment. It is important for businesses and individuals in Malaysia to be aware of and understand the requirements of this order, and to take appropriate measures to ensure compliance.\", \"content_ms\": \"Berdasarkan pangkalan pengetahuan yang disediakan, Perintah Kualiti Alam Sekeliling (Premis Ditetapkan) (Kemudahan Rawatan dan Pelupusan Sisa Terjadual) 1989, yang berkuat kuasa pada 1 Mei, 1989 di Malaysia, adalah perundangan subsidiari di bawah Akta Kualiti Alam Sekitar 1974 [ Akta 127]. Perintah ini menetapkan peraturan untuk premis yang ditetapkan dan kemudahan rawatan dan pelupusan sisa terjadual di Malaysia. Matlamat perintah ini adalah untuk mengawal dan mengurus penjanaan, rawatan, penyimpanan dan pelupusan sisa terjadual dengan cara yang melindungi alam sekitar dan kesihatan manusia.\\n\\nOleh itu, perniagaan dan individu di Malaysia yang menjana, mengendalikan atau membuang sisa terjadual, seperti yang dinyatakan dalam perintah itu, akan terjejas oleh peraturan ini. Mereka akan dikehendaki mematuhi piawaian dan keperluan yang ditetapkan dalam perintah itu, seperti rawatan yang betul, penyimpanan, dan pelupusan sisa terjadual, dan mendapatkan permit dan kelulusan yang diperlukan daripada pihak berkuasa yang berkaitan. Ketidakpatuhan terhadap peraturan boleh mengakibatkan penalti, seperti denda dan/atau penjara. Adalah penting bagi perniagaan dan individu di Malaysia untuk menyedari dan memahami keperluan perintah ini, dan mengambil langkah yang sesuai untuk memastikan pematuhan.\"}, {\"role\": \"user\", \"content\": \"What are the potential consequences for non-compliance with the order?\", \"content_ms\": \"Apakah akibat yang berpotensi untuk ketidakpatuhan terhadap perintah itu?\"}, {\"role\": \"assistant\", \"content\": \"Based on the knowledge base provided, the Environmental Quality (Prescribed Premises) (Scheduled Wastes Treatment and Disposal Facilities) Order 1989 is a subsidiary legislation under the Environmental Quality Act 1974 in Malaysia. The order sets forth the regulations for prescribed premises and scheduled wastes treatment and disposal facilities in Malaysia.\\n\\nNon-compliance with the regulations set forth in the order can result in penalties, such as fines and/or imprisonment. The exact penalties for non-compliance are not specified in the order, but are likely defined in the Environmental Quality Act 1974.\\n\\nIt's important to note that I'm a language model, and my knowledge cut off is 2021, I don't have real-time access to any laws, regulations or any other legal information. It is always recommended to consult the legal text or consult with a legal professional to get the most accurate and up-to-date information about the potential consequences of non-compliance with any specific regulation.\", \"content_ms\": \"Berdasarkan pangkalan pengetahuan yang disediakan, Perintah Kualiti Alam Sekeliling (Premis Ditetapkan) (Kemudahan Rawatan dan Pelupusan Sisa Terjadual) 1989 adalah perundangan subsidiari di bawah Akta Kualiti Alam Sekeliling 1974 di Malaysia. Perintah itu menetapkan peraturan untuk premis yang ditetapkan dan kemudahan rawatan dan pelupusan sisa terjadual di Malaysia.\\n\\nKetidakpatuhan terhadap peraturan yang ditetapkan dalam perintah itu boleh mengakibatkan penalti, seperti denda dan/atau penjara. Penalti yang tepat bagi ketidakpatuhan tidak dinyatakan dalam perintah itu, tetapi mungkin ditakrifkan dalam Akta Kualiti Alam Sekeliling 1974.\\n\\nAdalah penting untuk ambil perhatian bahawa saya adalah model bahasa, dan pengetahuan saya terputus ialah 2021, saya tidak mempunyai akses masa nyata kepada mana-mana undang-undang, peraturan atau sebarang maklumat undang-undang lain. Ia sentiasa disyorkan untuk merujuk teks undang-undang atau berunding dengan profesional undang-undang untuk mendapatkan maklumat yang paling tepat dan terkini tentang kemungkinan akibat ketidakpatuhan terhadap mana-mana peraturan tertentu.\"}, {\"role\": \"user\", \"content\": \"How does the order contribute to Malaysia's overall environmental quality and sustainability efforts?\", \"content_ms\": \"Bagaimanakah perintah itu menyumbang kepada usaha kualiti alam sekitar dan kemampanan keseluruhan Malaysia?\"}, {\"role\": \"assistant\", \"content\": \"Based on the provided knowledge base, the Environmental Quality (Prescribed Premises) (Scheduled Wastes Treatment and Disposal Facilities) Order 1989 is a subsidiary legislation under the Environmental Quality Act 1974 in Malaysia. The order sets forth the regulations for prescribed premises and scheduled wastes treatment and disposal facilities in Malaysia, which aim to control and manage the generation, treatment, storage, and disposal of scheduled wastes in a manner that protects the environment and human health. By establishing standards and requirements for the proper handling and disposal of scheduled wastes, the order helps to prevent pollution, protect the environment, and promote sustainability. This order is one of the regulations put in place by the Malaysian government to control and manage the waste generated by different industries and businesses, in order to achieve a good environmental quality and a sustainable development.\\n\\nAdditionally, The Environmental Quality Act 1974 is a primary legislation that provides the legal framework for environmental protection, conservation and management in Malaysia, which aim to protect and improve the quality of the environment, and to provide for the prevention, abatement and control of pollution and environmental degradation. The order contributes to Malaysia's overall environmental quality and sustainability efforts by setting specific regulations that must be followed, thus ensuring a better and more effective enforcement of the general objectives of the act.\\n\\nHowever, I'd like to point out again that my knowledge cut off is 2021 and I am a machine learning model, and my response is based on the provided knowledge base, and I do not have real-time access to any laws, regulations or any other legal information. It is always recommended to consult the legal text or consult with a legal professional to get the most accurate and up-to-date information about the impact of the order on Malaysia's overall environmental quality and sustainability efforts.\", \"content_ms\": \"Berdasarkan pangkalan pengetahuan yang disediakan, Perintah Kualiti Alam Sekeliling (Premis Ditetapkan) (Kemudahan Rawatan dan Pelupusan Sisa Terjadual) 1989 ialah perundangan subsidiari di bawah Akta Kualiti Alam Sekeliling 1974 di Malaysia. Perintah itu menetapkan peraturan untuk premis yang ditetapkan dan kemudahan rawatan dan pelupusan sisa terjadual di Malaysia, yang bertujuan untuk mengawal dan mengurus penjanaan, rawatan, penyimpanan, dan pelupusan sisa terjadual dengan cara yang melindungi alam sekitar dan kesihatan manusia. Dengan mewujudkan piawaian dan keperluan untuk pengendalian dan pelupusan sisa terjadual yang betul, perintah itu membantu mencegah pencemaran, melindungi alam sekitar dan menggalakkan kemampanan. Perintah ini adalah salah satu peraturan yang ditetapkan oleh kerajaan Malaysia untuk mengawal dan mengurus sisa yang dihasilkan oleh industri dan perniagaan yang berbeza, untuk mencapai kualiti alam sekitar yang baik dan pembangunan yang mampan.\\n\\nDi samping itu, Akta Kualiti Alam Sekeliling 1974 ialah perundangan utama yang menyediakan rangka kerja perundangan untuk perlindungan, pemuliharaan dan pengurusan alam sekitar di Malaysia, yang bertujuan untuk melindungi dan meningkatkan kualiti alam sekitar, dan untuk memperuntukkan pencegahan, pengurangan dan kawalan pencemaran. dan kemerosotan alam sekitar. Perintah itu menyumbang kepada keseluruhan usaha kualiti alam sekitar dan kemampanan Malaysia dengan menetapkan peraturan khusus yang mesti dipatuhi, sekali gus memastikan penguatkuasaan yang lebih baik dan berkesan terhadap objektif am akta tersebut.\\n\\nWalau bagaimanapun, saya ingin menegaskan sekali lagi bahawa pengetahuan saya terputus ialah 2021 dan saya adalah model pembelajaran mesin, dan respons saya adalah berdasarkan pangkalan pengetahuan yang disediakan, dan saya tidak mempunyai akses masa nyata kepada mana-mana undang-undang, peraturan. atau sebarang maklumat undang-undang lain. Ia sentiasa disyorkan untuk merujuk teks undang-undang atau berunding dengan profesional undang-undang untuk mendapatkan maklumat yang paling tepat dan terkini tentang kesan perintah itu terhadap keseluruhan usaha kualiti alam sekitar dan kelestarian Malaysia.\"}], \"context\": \"and Chen, J (2013). Integration of high-resolution physical and genetic map reveals differential recombination frequency between chromosomes and the genome assembling quality in cucumber. PLOS ONE 8(5): e62676. Madon, M; Arulandoo, X; Sritharan, K; Nordiana, H M N; Muhammad Azwan, Z and Zaki, N M (2018). Short communication: Genomic constitution of oil palm interspecific hybrid crosses monitored by genomic in situ hybridization (GISH). J. Oil Palm Res. Vol. 30(2): 338-344. Madon, M; Clyde, M M and Cheah, S C (1999). Application of genomic in situ hybridization (GISH) on Elaeis hybrids. J. Oil Palm Res. Vol. (Special Issue): 74-80. Madon, M; Heslop-Harrison, J S; Schwarzacher, T; Mohd Rafdi, M H and Clyde, M M (2005). Cytological analysis of oil palm pollen mother cells (PMC). J. Oil Palm Res. Vol. 17: 176-180. Maluszynska, J and Hasterok, R (2005). Identification of individual chromosomes and parental genomes in Brassica juncea using GISH and FISH. Cyto. and Genome Res. 109: 310-314. Meunier, J (1987). Prospects of E. oleifera x E. guineensis interspecific hybrids. IRHO results. Proc. of ISOPB/PORIM Workshop on Prospects of Interspecific Hybrids (Soh, A C and Rajanaidu, N eds.). p. 11-15. Murphy, S P and Bass, H W (2012). Genetics and cytology of meiotic chromosome behavior in plants. Plant Cytogenetics, Plant Genetics and Genomics: Crops and Models 4 (Bass, H W and Birchler, J A eds.). 345 pp. DOI:10.1007/978-0-387-70869-0_8. Nair, P K K (1969). The thesis of pollen based plant research. J. Palynol., 5(1): 49-50. Nordiana, H M N; Muhammad Azwan, Z; Arulandoo, X; Sritharan, K and Madon, M (2016). Development of meiotic pachytene chromosomes preparation technique in oil palm interspecific hybrid and backcross (BC2), Transactions of Persatuan Genetik Malaysia Vol. 3. Genetics Society of Malaysia. p. 143-146. Phillips, D; Wnetrzak, J; Nibau, C; Barakate, A; Ramsay, L; Wright, F; Higgins, J D, Perry, R M and Jenkins, G (2013). Quantitative high resolution mapping of HvMLH3 foci in barley pachytene nuclei reveals a strong distal bias and weak interference. J. Exp. Bot., 64(8): 2139-2154. DOI:10.1093/jxb/ert079. Rahimah, A B; Cheah, S C and Singh, R (2006). Freeze-drying of oil palm (Elaeis guineensis) leaf and its effect on the quality of extractable DNA. J. Oil Palm Res. Vol. 18: 296-304. Rajanaidu, N; Chin, C W and Jalani, B S (1995). Performance of Elaeis oleifera (Surinam) x E. guineensis hybrids. ISOPB International Seminar. Barranquilla, Colombia. Rasheed, A A; Perveen, A; Abid, R and Qaiser, M (2016). Pollen morphology of the subfamily Arecoideae Griff. (family-Arecaceae) from Pakistan and Kashmir. Pak. J. Bot., 48(3): 1051-1060. Ravi Kumar, C and Nair, P K K (1986). Inheritance of exine ornamentation and pollen shape in the interspecific tetraploid hybrids of Gloriosa. Can. J. Bot., 64: 3134-3140. Rhee, H K; Cho, H R and Kim, K S (2005). Comparison of pollen morphology in interspecific hybrid lilies after in vitro chromosome doubling. Proc. of the IXth International Symposium on Flower Bulbs. Acta Hot., 673: 639-643. Schubert, I; Fransz, P F; Fuchs, J and De Jong, J H (2001). Chromosome painting in plants. Methods in Cell Science, 23(1-3): 57-69. Schwarzacher, T and Heslop-Harrison, J S (2000). Practical in situ hybridization. BIOS Scientific Publishers Ltd, Abindgdon, United Kingdom. 250 pp. Schwarzacher, T; Anamthawat-Jonsson, K and Harrison, G E (1992). Genomic in situ hybridization to identify alien chromosomes and chromosome segments in wheat. Theor. Appl. Genet., 84: 778-786. Singh, R; Ong-Abdullah, M; Low, E T L; Manaf, M A A; Rosli, R; Rajanaidu, N; Ooi, L C L; Ooi, S E; Chan, K-L; Ab Halim, M A; Azizi, N; Jayanthi, N; Bacher, B; Lakey, N; Steven, W S; He, D; Hogan, M; Budiman, M A; Lee, E K; Desalle, R; Kudma, D; Goicoechea, J L; Wing, R A; Wilson, R K; Fulton, R S; Ordway, J M; 11 OIL PALM MALE MEIOSIS PROFILING: FROM FIELD OBSERVATION TO CYTOGENETICS ANALYSIS Martienssen, R A and Sambanthamurthi, R (2013). Oil palm genome sequence reveals divergence of interfertile species in Old and New worlds. Nature, 500: 335-339. Thomas, P T and Thomas, H (1973). Annual Report of the Welsh Plant Breeding Station for 1973. Aberystwyth, Cambrian News. 85 pp. Zhong, X B; De Jong, J H and Zabel, P (1996). Preparation of tomato meiotic pachytene and mitotic metaphase chromosomes suitable for fluorescence in situ hybridization (FISH). Chromosome Res., 4: 24-28. FEDERAL SUBSIDIARY LEGISLATION ENVIRONMENTAL QUALITY ACT 1974 [ACT 127] P.U.(A) 140/89 ENVIRONMENTAL QUALITY (PRESCRIBED PREMISES) (SCHEDULED WASTES TREATMENT AND DISPOSAL FACILITIES) ORDER 1989 Incorporating latest amendments - P.U.(A) 252/2006 Publication : 27th April 1989 Date of coming into operation : 1st May 1989 ARRANGEMENT OF ORDERS Preamble Order 1. Citation and commencement. Order 2. Interpretation. Order 3. Prescribed premises. LIST OF AMENDMENTS. Preamble IN exercise of the powers conferred by section 18 of the Environmental Quality Act 1974 [Act 127], the Minister, after consultation with the Environmental Quality Council, makes the following order : Order 1. Citation and commencement. This order may be cited as the Environmental Quality (Prescribed Premises) (Scheduled Wastes Treatment and Disposal Facilities) Order 1989 and shall come into force on the 1st May 1989.\", \"questions\": [\"What is the purpose of the Environmental Quality Act 1974 and the Environmental Quality (Prescribed Premises) (Scheduled Wastes Treatment and Disposal Facilities) Order 1989?\", \"What is the role of the Minister and the Environmental Quality Council in creating the order?\", \"What premises are prescribed in the order?\", \"When does the order come into force?\", \"How are terms in the order defined in Order 2?\", \"What is the significance of the amendments listed in the LIST OF AMENDMENTS section?\", \"What other federal subsidiary legislation relates to environmental quality in Malaysia?\", \"How does the Environmental Quality Act 1974 relate to other environmental legislation in Malaysia?\", \"How does the order fit into the broader context of environmental regulations in Malaysia?\", \"How does the order compare to similar regulations in other countries?\", \"How is compliance with the order enforced?\", \"What are the potential consequences for non-compliance with the order?\", \"Are there any notable court cases or legal precedents related to the order?\", \"How does the order impact businesses and individuals in Malaysia?\", \"How does the order contribute to Malaysia's overall environmental quality and sustainability efforts?\"]}\r\n"
     ]
    }
   ],
   "source": [
    "!head -n 1 rag-multiturn-chaotic-part2.jsonl"
   ]
  },
  {
   "cell_type": "code",
   "execution_count": 8,
   "id": "e2b11058",
   "metadata": {},
   "outputs": [],
   "source": [
    "import json\n",
    "import random\n",
    "from tqdm import tqdm\n",
    "import re\n",
    "\n",
    "def clean(string):\n",
    "    string = re.sub('[^A-Za-z ]+', ' ', string.lower())\n",
    "    string = re.sub(r'[ ]+', ' ', string).strip()\n",
    "    return string\n",
    "\n",
    "def overlap(string1, string2):\n",
    "    l = set([w for w in clean(string1).split() if len(w) > 2])\n",
    "    r = set([w for w in clean(string2).split() if len(w) > 2])\n",
    "    return len(l & r) / len(l)"
   ]
  },
  {
   "cell_type": "code",
   "execution_count": 9,
   "id": "6b0fb1ce",
   "metadata": {},
   "outputs": [
    {
     "name": "stderr",
     "output_type": "stream",
     "text": [
      "169403it [00:08, 20529.86it/s]\n",
      "327980it [00:16, 19882.92it/s]\n"
     ]
    }
   ],
   "source": [
    "data = []\n",
    "files = ['rag-multiturn-chaotic-part2.jsonl', 'rag-multiturn-chaotic.jsonl']\n",
    "for f in files:\n",
    "    with open(f) as fopen:\n",
    "        for l in tqdm(fopen):\n",
    "            l = json.loads(l)\n",
    "            data.append(l)"
   ]
  },
  {
   "cell_type": "code",
   "execution_count": 13,
   "id": "fb5f08cd",
   "metadata": {},
   "outputs": [],
   "source": [
    "data = [(i, data[i]) for i in range(len(data))]"
   ]
  },
  {
   "cell_type": "code",
   "execution_count": 18,
   "id": "c45e3f12",
   "metadata": {},
   "outputs": [],
   "source": [
    "ranged = set(range(len(data)))"
   ]
  },
  {
   "cell_type": "code",
   "execution_count": 24,
   "id": "c8e544e0",
   "metadata": {},
   "outputs": [],
   "source": [
    "!rm -rf mining-mixtral-malaysian-rag-pair\n",
    "!mkdir mining-mixtral-malaysian-rag-pair"
   ]
  },
  {
   "cell_type": "code",
   "execution_count": 25,
   "id": "a4afce92",
   "metadata": {},
   "outputs": [],
   "source": [
    "import os\n",
    "\n",
    "def loop(rows):\n",
    "    rows, index = rows\n",
    "    for i in tqdm(range(len(rows))):\n",
    "        filename = os.path.join('mining-mixtral-malaysian-rag-pair', f'{i}-{index}.json')\n",
    "        if os.path.exists(filename):\n",
    "            continue\n",
    "            \n",
    "        no, d = rows[i]\n",
    "        \n",
    "        pairs = []\n",
    "        chat = {}\n",
    "        list_of_groups = zip(*(iter(d['chat']),) * 2)\n",
    "        for c in list_of_groups:\n",
    "            chat[c[0]['content']] = c[1]['content']\n",
    "            \n",
    "        questions = d['questions']\n",
    "\n",
    "        for q in questions:\n",
    "            pos = [d['context']]\n",
    "            if q in chat:\n",
    "                pos.append(chat[q])\n",
    "\n",
    "            sampled = random.sample(list(ranged - {no}), 100)\n",
    "            neg = []\n",
    "            for s in sampled:\n",
    "                overlapped = overlap(q, data[s][1]['context'])\n",
    "                if overlapped < 0.1:\n",
    "                    neg.append(data[s][1]['context'])\n",
    "                if len(neg) >= 3:\n",
    "                    break\n",
    "\n",
    "            pairs.append(\n",
    "                {\n",
    "                    'query': q,\n",
    "                    'pos': pos,\n",
    "                    'neg': neg,\n",
    "                }\n",
    "            )\n",
    "        \n",
    "        with open(filename, 'w') as fopen:\n",
    "            json.dump(pairs, fopen)"
   ]
  },
  {
   "cell_type": "code",
   "execution_count": 26,
   "id": "d7f8a15c",
   "metadata": {},
   "outputs": [
    {
     "name": "stderr",
     "output_type": "stream",
     "text": [
      "100%|██████████| 100/100 [00:10<00:00,  9.30it/s]\n"
     ]
    }
   ],
   "source": [
    "loop((data[:100],0))"
   ]
  },
  {
   "cell_type": "code",
   "execution_count": null,
   "id": "8fca0972",
   "metadata": {},
   "outputs": [],
   "source": [
    "# !wget https://gist.githubusercontent.com/huseinzol05/98974ae8c6c7a65d4bc0af9f5003786a/raw/2e06e71ef7349a57bc58cc9913ae6bae1f9f8447/mp.py"
   ]
  },
  {
   "cell_type": "code",
   "execution_count": 36,
   "id": "75952d46",
   "metadata": {},
   "outputs": [
    {
     "name": "stderr",
     "output_type": "stream",
     "text": [
      "  5%|▍         | 1155/24869 [10:58<4:09:46,  1.58it/s]IOPub message rate exceeded.\n",
      "The notebook server will temporarily stop sending output\n",
      "to the client in order to avoid crashing it.\n",
      "To change this limit, set the config variable\n",
      "`--NotebookApp.iopub_msg_rate_limit`.\n",
      "\n",
      "Current values:\n",
      "NotebookApp.iopub_msg_rate_limit=1000.0 (msgs/sec)\n",
      "NotebookApp.rate_limit_window=3.0 (secs)\n",
      "\n",
      " 19%|█▊        | 4614/24869 [49:27<3:19:25,  1.69it/s] IOPub message rate exceeded.\n",
      "The notebook server will temporarily stop sending output\n",
      "to the client in order to avoid crashing it.\n",
      "To change this limit, set the config variable\n",
      "`--NotebookApp.iopub_msg_rate_limit`.\n",
      "\n",
      "Current values:\n",
      "NotebookApp.iopub_msg_rate_limit=1000.0 (msgs/sec)\n",
      "NotebookApp.rate_limit_window=3.0 (secs)\n",
      "\n",
      " 24%|██▍       | 6033/24869 [1:07:23<3:11:44,  1.64it/s]IOPub message rate exceeded.\n",
      "The notebook server will temporarily stop sending output\n",
      "to the client in order to avoid crashing it.\n",
      "To change this limit, set the config variable\n",
      "`--NotebookApp.iopub_msg_rate_limit`.\n",
      "\n",
      "Current values:\n",
      "NotebookApp.iopub_msg_rate_limit=1000.0 (msgs/sec)\n",
      "NotebookApp.rate_limit_window=3.0 (secs)\n",
      "\n",
      " 28%|██▊       | 6904/24869 [1:17:06<3:07:49,  1.59it/s]IOPub message rate exceeded.\n",
      "The notebook server will temporarily stop sending output\n",
      "to the client in order to avoid crashing it.\n",
      "To change this limit, set the config variable\n",
      "`--NotebookApp.iopub_msg_rate_limit`.\n",
      "\n",
      "Current values:\n",
      "NotebookApp.iopub_msg_rate_limit=1000.0 (msgs/sec)\n",
      "NotebookApp.rate_limit_window=3.0 (secs)\n",
      "\n",
      " 84%|████████▎ | 20792/24869 [3:54:31<43:22,  1.57it/s]  IOPub message rate exceeded.\n",
      "The notebook server will temporarily stop sending output\n",
      "to the client in order to avoid crashing it.\n",
      "To change this limit, set the config variable\n",
      "`--NotebookApp.iopub_msg_rate_limit`.\n",
      "\n",
      "Current values:\n",
      "NotebookApp.iopub_msg_rate_limit=1000.0 (msgs/sec)\n",
      "NotebookApp.rate_limit_window=3.0 (secs)\n",
      "\n",
      " 89%|████████▊ | 22028/24869 [3:58:16<30:47,  1.54it/s]  IOPub message rate exceeded.\n",
      "The notebook server will temporarily stop sending output\n",
      "to the client in order to avoid crashing it.\n",
      "To change this limit, set the config variable\n",
      "`--NotebookApp.iopub_msg_rate_limit`.\n",
      "\n",
      "Current values:\n",
      "NotebookApp.iopub_msg_rate_limit=1000.0 (msgs/sec)\n",
      "NotebookApp.rate_limit_window=3.0 (secs)\n",
      "\n",
      " 99%|█████████▉| 24623/24869 [4:23:44<02:40,  1.53it/s]  IOPub message rate exceeded.\n",
      "The notebook server will temporarily stop sending output\n",
      "to the client in order to avoid crashing it.\n",
      "To change this limit, set the config variable\n",
      "`--NotebookApp.iopub_msg_rate_limit`.\n",
      "\n",
      "Current values:\n",
      "NotebookApp.iopub_msg_rate_limit=1000.0 (msgs/sec)\n",
      "NotebookApp.rate_limit_window=3.0 (secs)\n",
      "\n",
      "100%|██████████| 24869/24869 [4:31:54<00:00,  1.52it/s]\n",
      "100%|██████████| 24869/24869 [4:32:04<00:00,  1.52it/s]\n",
      "100%|██████████| 24869/24869 [4:32:14<00:00,  1.52it/s]\n",
      "100%|██████████| 24869/24869 [4:31:50<00:00,  1.52it/s]\n",
      "100%|██████████| 24869/24869 [4:32:23<00:00,  1.52it/s]\n",
      "100%|██████████| 24869/24869 [4:31:49<00:00,  1.52it/s]\n"
     ]
    }
   ],
   "source": [
    "import mp\n",
    "\n",
    "mp.multiprocessing(data, loop, cores = 20, returned = False)"
   ]
  },
  {
   "cell_type": "code",
   "execution_count": 37,
   "id": "bd34777c",
   "metadata": {},
   "outputs": [],
   "source": [
    "from glob import glob"
   ]
  },
  {
   "cell_type": "code",
   "execution_count": 38,
   "id": "42598cbc",
   "metadata": {},
   "outputs": [
    {
     "data": {
      "text/plain": [
       "497383"
      ]
     },
     "execution_count": 38,
     "metadata": {},
     "output_type": "execute_result"
    }
   ],
   "source": [
    "files = glob('mining-mixtral-malaysian-rag-pair/*.json')\n",
    "len(files)"
   ]
  },
  {
   "cell_type": "code",
   "execution_count": 40,
   "id": "79f9742d",
   "metadata": {
    "scrolled": true
   },
   "outputs": [
    {
     "name": "stdout",
     "output_type": "stream",
     "text": [
      "105G\tmining-mixtral-malaysian-rag-pair\r\n"
     ]
    }
   ],
   "source": [
    "!du -hs mining-mixtral-malaysian-rag-pair"
   ]
  },
  {
   "cell_type": "code",
   "execution_count": 43,
   "id": "af1ddabf",
   "metadata": {},
   "outputs": [],
   "source": [
    "import msgspec"
   ]
  },
  {
   "cell_type": "code",
   "execution_count": 44,
   "id": "d0740e25",
   "metadata": {},
   "outputs": [
    {
     "name": "stderr",
     "output_type": "stream",
     "text": [
      "100%|██████████| 497383/497383 [33:27<00:00, 247.73it/s]  \n"
     ]
    }
   ],
   "source": [
    "with open('mixtral-malaysian-rag-pair.jsonl', 'w') as fopen_l:\n",
    "    for f in tqdm(files):\n",
    "        with open(f) as fopen:\n",
    "            d = json.load(fopen)\n",
    "        for d_ in d:\n",
    "            fopen_l.write(f'{msgspec.json.encode(d_).decode()}\\n')"
   ]
  },
  {
   "cell_type": "code",
   "execution_count": 45,
   "id": "21637b5c",
   "metadata": {},
   "outputs": [
    {
     "name": "stdout",
     "output_type": "stream",
     "text": [
      "-rw-r--r-- 1 ubuntu ubuntu 102G Mar  6 15:55 mixtral-malaysian-rag-pair.jsonl\r\n"
     ]
    }
   ],
   "source": [
    "!ls -lh mixtral-malaysian-rag-pair.jsonl"
   ]
  },
  {
   "cell_type": "code",
   "execution_count": 49,
   "id": "e267b0a9",
   "metadata": {},
   "outputs": [
    {
     "name": "stdout",
     "output_type": "stream",
     "text": [
      "{\"query\":\"What did Proton state regarding under declaration of imported cars?\",\"pos\":[\"tersebut, pihak Proton menyatakan bahawa under declaration berlaku tetapi ini tidak diterjemahkan dalam bentuk harga pasaran kerana kalau kita hendak mengambil tindakan di bawah Anti Lambakan, under declaration ini mesti diterjemahkan dalam bentuk harga yang rendah, barulah berlaku injury, kecederaan kepada industri, baru tindakan boleh diambil. Daripada apa yang kita lakukan berteraskan survey kita, kereta-kereta yang diimport tersebut adalah lebih mahal, Yang kategori sama dengan Proton lebih mahal daripada Proton daripada RM6,000 sebuah kepada RM18,000 sebuah. Yang Berhormat menyatakan tentang kesan kepada Proton dari segi kemasukan kereta import ini. Sebenarnya kesan ini ada datang daripada dua sudut yang besar, satu dari segi dalaman dan satu dari segi luaran. Dari luaran ini ada 4 sudut, Tuan Yang di-Pertua. Satu, saya setuju Yang Berhormat kata kereta AP ini ada kesan tetapi kalau kita lihat dari segi pasaran, dari segi saiz pasaran, AP ini mencapai pertumbuhan sebanyak 1%. Kemudian dari segi kereta yang diimport secara CKD dan dipasang siap di Malaysia, yang ini banyak. Pada tahun 2003 hingga 2004 sebanyak 8% pertambahan, 2002 hingga 2003 lebih kurang 9%. Maknanya pertambahan syer pasaran daripada pengilang ini lebih banyak. Ketiga, dari segi perubahan taste pengguna kita. Kereta MPV dianggap kereta passenger. Itu sebab kereta-kereta seperti Avanza dan sebagainya dibeli dengan begitu banyak. Yang keempat dari segi permintaan pasaran, consumer kita begitu demanding. Dato' Paduka Haji Badruddin bin Amiruldin: [Bangun]. Dato' Haji Ahmad Husni bin Mohd Hanadzlah: Sebagai contoh di Eropah kalau kita jual kereta, kita tidak letak carpet dalam boot, dia tidak bising tetapi di Malaysia mesti ada carpet. Ini adalah benda-benda luaran yang mengakibatkan kepada peningkatan daya saing yang dihadkan oleh kereta Proton. Kemudian dari segi dalaman adalah dari segi isu sejauh mana kemampuan kita untuk menghasilkan kereta yang kompetitif berhadapan dengan suasana tersebut. Kemudian.... Timbalan Yang di-Pertua [Datuk Lim Si Cheng]: Yang Berhormat Jerai bangun. Dato' Haji Ahmad Husni bin Mohd. Hanadzlah: Okey, sila. Dato' Paduka Haji Badruddin bin Amiruldin: Terima kasih Yang Berhormat. Minta maaflah Yang Berhormat kerana Yang Berhormat kena jawab bagi pihak Menteri. Kadang-kadang biasa Menteri kata Ahli Parlimen tidak faham. Kita faham dasar, cuma kita tak faham cara pemberian. Dasar AP kita cukup faham, sementara dasar pemberian kita tidak faham. Jadi yang ini kita minta tanya tetapi maklumlah tak apalah Menteri pun tidak berapa sihat kita hendak buat macam mana, takkanlah hendak gagah suruh dia datang dengan lutut sakit. Tidak mengapalah Timbalan Menteri orang yang berpengalaman, yang penuh kesabaran. Sabar sat-nu bulan puasa. Timbalan Yang di-Pertua [Datuk Lim Si Cheng]: Yang Berhormat, soalan. Dato' Paduka Haji Badruddin bin Amiruldin: Ya, soalan. Pertamanya tadi Timbalan Menteri kata.... pasal Proton ni Tuan Yang di-Pertua saya dok bercakap banyak kali dah dahulu. Timbalan Yang di-Pertua [Datuk Lim Si Cheng]: Yang Berhormat jual Proton jugalah. Dato' Paduka Haji Badruddin bin Amiruldin: Ha, saya dok bercakap pasal Proton tetapi Yang Berhormat jawab selalu okey,... okey, okey tahu-tahu last nya dia ko sikit. Harga kerugian, dah rugi. Biasa dia bawa Ahli Parlimen pergi jumpa di kilang dan tunjuk. Everything perfect everthing okey. Tau-tau bila keluar dalam newspaper dah rugi dan sebagainya. Itu satu hal. Bermaknanya gambaran yang tidak benar telah diberi kepada kami sebagai Ahli Parlimen tidak betul macam itu. Yang kedua, kita kena bangga dan merasa seronok kerana kereta ini dibuat di. Malaysia. Saya pakai Proton Saga, semua pakai Proton Saga kerana kereta kita, kita berasa bangga inilah kereta buatan Malaysia, buatan anak Malaysia, tayar getah Malaysia, spring- spring Malaysia, kusyen- kusyen Malaysia dan enjin campuran Jepun Malaysia. [Ketawa] Ada juga. Kita tolong vendor, kita tolong pekerja, kita tolong semua daripada satu jenis modal yang keluar. Tak apalah kita bagi permit untuk import tetapi janganlah keterlaluan sehingga menjejaskan hak kita. Buat baik berpada-pada jangan buat baik sampai kita bagi kepada seseorang itu... saya tak marah. Saya tahu macam AP King ni yang kita dok baca ni kita tengok kita tahu siapa tetapi macam Naza saya bela dia kerana dia buat kilang di kawasan saya. Beribu pekerja ada di sana. Vendor keliling kawasan dia ada tetapi yang lain-lain ini downstream dia apa? Apa downstream yang mereka buat? Bukan kita iri hati dalam bulan Ramadan ini, Tuhan marah kalau kita iri hati kat orang. Tuhan marah kalau kita hati perut busuk kat orang. Kekayaan mungkin Allah S.W.T. beri pada dia, tidak mengapa, alhamdulillah tetapi guna kekayaan dan kesenangan itu untuk menolong. Macam Naza tolong ramai. Timbalan Yang di-Pertua [Datuk Lim Si Cheng]: Yang Berhormat, masa untuk perbahasan telah pun ditutup. Dato' Paduka Haji Badruddin bin Amiruldin: Saya dahulu Tuan Yang di- Pertua juga kata semasa Menteri jawab boleh tanya. [Ketawa]. Timbalan Yang di-Pertua [Datuk Lim Si Cheng]: Sekarang nampaknya Yang Berhormat buat perbahasan. Dato' Paduka Haji Badruddin bin Amiruldin: Dia kena bersemangat baru boleh jadi. Kalau tidak bersemangat tidak boleh. Ini hendak bakar semangat baru\"],\"neg\":[\"untuk membuat perubahan di era Malaysia Baharu ini usahlah sehingga kita terlupa berkenaan peri pentingnya aspek pembangunan rohani dan modal insan. Ini pun kena tengok, gejala sosial mat rempit dan sebagainya, ketum dan ini merupakan kita meninggalkan pembangunan rohani. Terutamanya pembangunan dalam membina modal insan yang kita letakkan istiqamah, iktikad mereka percaya kepada ketuhanan ini yang paling penting supaya mereka takut apabila mereka buat salah mereka akan dihukum apabila mereka meninggal esok. Ini perkara-perkara yang harus dilihat oleh- ada banyak lagi sebab saya ada satu masa. Cuma saya hendak buat kesimpulan terus, satu minit lagi Tuan Yang di-Pertua. 1550. Antara perubahan ketara yang akan terjadi dengan pindaan ini adalah berubahnya orientasi kepimpinan belia, di mana kepimpinan pertubuhan belia dahulu adalah bersifat bimbingan. Di mana mereka yang dewasa membimbing para belia-belia di dalam mana-mana pertubuhan belia. Dengan pindaan ini kepimpinan belia akan lebih bersifat perkongsian idealisme dan saling memacu kemajuan di kalangan rakan sebaya. Ia mungkin kehilangan bimbingan sebagaimana sebelum ini- yang mana orang-orang yang berpengalaman yang 40 tahun ini akan membimbing anak-anak kita 15 tahun, 20 tahun, 25 tahun, 30 tahun akan bimbing. Mereka akan kehilangan ini. Akan tetapi tidak apa, kita mesti facing. This problem is a norm for us when we change something, dengan izin. Sebagaimana sebelum ini tetapi ia adalah suatu cabaran yang positif yang perlu disambut oleh belia negara. Ia adalah proses yang membantu ke arah kematangan dan rasa. tanggungjawab dalam usia lebih awal. Sekian. Walaupun saya ada banyak lagi, saya menghormati masa yang ditentukan oleh- Sekian, terima kasih. Timbalan Yang di-Pertua [Tuan Nga Kor Ming]: Terima kasih Yang Berhormat Pendang, menepati masa. Sekarang saya menjemput Yang Berhormat Tebrau. Yang Berhormat Tebrau tidak ada dalam Dewan, saya menjemput Yang Berhormat Arau. Sila, bekas belia. 3.51 ptg. Dato' Seri Dr. Shahidan bin Kassim [Arau]: Terima kasih kepada Tuan Yang di- Pertua. Saya kalau Tuan Yang di-Pertua duduk situ, saya cuba mengosongkan jiwa saya supaya berjiwa besar supaya saya sayangkan dia, dia sayang pada saya. Sekarang... Timbalan Yang di-Pertua [Tuan Nga Kor Ming]: Tidak isytiharkan perang. Dato' Seri Dr. Shahidan bin Kassim [Arau]: Saya tidak mahu ada sifat buruk sangka antara kita. Jadi, itu yang penting, itu sifat belia. Kalau sifat orang tua-tua lain ya. Okey, Yang Berhormat, saya hendak isytihar bahawa kita ada satu pertubuhan di peringkat Asia iaitu dipanggil International Conference of Asia Political Parties (ICAPP). ICAPP ini ia ada satu wing, namanya used wing dan saya adalah Presiden Used Wing. Saya sudah mencuba beberapa kali untuk membawa Ketua Pemuda, Menteri Belia pergi... Timbalan Yang di-Pertua [Tuan Nga Kor Ming]: Berapa cucu Yang Berhormat Arau ada. Dato' Seri Dr. Shahidan bin Kassim [Arau]: Cucu sudah pasti banyak ya. Akan tetapi saya hendak bagi tahu Yang Berhormat... Timbalan Yang di-Pertua [Tuan Nga Kor Ming]: Akan tetapi masih jadi Pengerusi Majlis Belia. Dato' Seri Dr. Shahidan bin Kassim [Arau]: Bukan, saya masih jadi Pengerusi dan tahun ini kita ada persidangan di Baku, saya cuba hendak bawa ini, mungkin Menteri Belia kalau dia hendak ikut supaya saya boleh serah jawatan ini. Kalau saya gagal serah kepada orang Malaysia, bererti orang Azerbaijan akan ambil alih, seorang Menteri yang berumur 32 tahun, juga menanti untuk mengambil alih. Jadi, atas sifat saya ini orang Malaysia yang cinta kepada negara ini, saya lebih suka orang Malaysia ambil alih jawatan saya yang saya pegang sejak 10 tahun. Saya ialah orang yang mencadangkan pewujudan biro ini dan oleh kerana tidak ada orang lain, jadi sayalah jadi heronya sampai sekarang. Itu saya hendak bagi tahu. Jadi, kalau dibubuh had umur, ia akan timbul masalah sebab cadangan itu daripada saya, hanya saya dilantik sampai sekarang- 10 tahun Yang Berhormat. Jadi, okey itu ialah pengisytiharan diri saya bahawa saya masih memegang Presiden ICAPP, ICAPP Used Wing. Jadi, saya harap kalau boleh... Dato' Dr. Shamsul Anuar bin Nasarah [Lenggong]: Beri Yang Berhormat Lenggong, hendak puji Yang Berhormat Arau. Dato' Seri Dr. Shahidan bin Kassim [Arau]: ...Menteri Belia dan juga mana-mana pihak ambil alih daripada saya. Saya tidak mahu, kalau tidak dapat dekat Azerbaijan. Dato' Dr. Shamsul Anuar bin Nasarah [Lenggong]: Hendak puji. Dato' Seri Dr. Shahidan bin Kassim [Arau]: Okey, yang keduanya, ini fasal ini, Yang Berhormat Menteri Belia. Ada orang hendak tanya soalan tidak? Dato' Dr. Shamsul Anuar bin Nasarah [Lenggong]: Ada belakang. Dato' Seri Dr. Shahidan bin Kassim [Arau]: Saya belum berucap lagi. Timbalan Yang di-Pertua [Tuan Nga Kor Ming]: Mukadimah saja. Dato' Seri Dr. Shahidan bin Kassim [Arau]: Ada 9 minit itu. Timbalan Yang di-Pertua [Tuan Nga Kor Ming]: Biar Yang Berhormat Arau teruskan. Dato' Seri Dr. Shahidan bin Kassim [Arau]: Sekejap lagi saya panggil Yang Berhormat Lenggong. Susahlah. Timbalan Yang di-Pertua [Tuan Nga Kor Ming]: Tengok hari ini, semua dia\",\"5 tahun dan dijangka akan dimulakan seawal suku tahun ketiga tahun 2023, tertakluk kepada kelulusan Agensi Pusat. Manakala bagi laluan Tamparuli – Ranau pula, Kementerian ini mengambil maklum akan keperluan menaiktaraf jalan tersebut. Kementerian ini akan meneliti cadangan projek tersebut apabila dimohon oleh Kerajaan Sabah dalam Rolling Plan yang akan datang dan akan diangkat untuk pertimbangan Agensi Pusat, tertakluk kepada keutamaan serta ketersediaan agihan peruntukan pembangunan. Sekian, terima kasih.SOALAN NO : 14 PEMBERITAHUAN PERTANYAAN DEWAN RAKYAT MESYUARAT PERTAMA, PENGGAL KEDUA PARLIMEN KELIMA BELAS TAHUN 2023 PERTANYAAN : LISAN DARIPADA : TUAN HASSAN BIN SAAD [ BALING ] TARIKH : 09 MAC 2023 (KHAMIS) SOALAN TUAN HASSAN BIN SAAD [ BALING ] minta MENTERI PENDIDIKAN menyatakan usaha Kementerian meningkatkan literasi pendidikan dalam konteks 3M (membaca, menulis dan mengira) khususnya di kawasan pedalaman dan luar bandar.SOALAN NO : 14 JAWAPAN Tuan Yang di-Pertua, Kementerian Pendidikan Malaysia (KPM) sentiasa berusaha untuk memastikan murid mendapat pendidikan berkualiti. Justeru, aspek literasi dan numerasi diberi keutamaan kepada semua murid. Bagi memastikan murid sekolah rendah menguasai literasi dan numerasi, KPM telah melaksanakan pelbagai inisiatif antaranya ialah Program Pemulihan Khas. Murid yang telah dikenal pasti belum menguasai kemahiran asas 3M ditempatkan di kelas pemulihan khas semasa mata pelajaran Bahasa Melayu atau Matematik diajar di kelas aliran perdana. Guru pemulihan dengan kerjasama guru mata pelajaran Bahasa Melayu dan Matematik memberi bimbingan yang bersesuaian kepada murid sehingga mereka dapat menguasai kemahiran asas literasi dan numerasi. Pada peringkat sekolah rendah, KPM memperkenalkan Program Literasi dan Numerasi atau Primary Literacy and Numeracy (PLaN) sejak 2020 untuk memastikan murid menguasai sekurang-kurangnya tahap minimum (Tahap Penguasaan 3) dalam Bahasa Melayu, Bahasa Inggeris dan Matematik. Pelaksanaan program ini adalah sebagai sokongan pengajaran dan pembelajaran (PdP) yang menyeluruh untuk membantu memantapkan tahap penguasaan 3M. Modul latihan intervensi berfokus dan terbeza (MoLIB) dan Schemes of Work (SOW) juga disediakan untuk kegunaan guru bagi menangani isu penguasaan 3M dalam kalangan murid. Selain itu, PLaN juga menyediakan bahan bantu belajar murid serta item pentaksiran untuk menyokong pelaksanaan Pentaksiran Bilik Darjah (PBD). Untuk makluman Ahli Yang Berhormat, KPM juga telah merancang untuk memugarkan semula pelaksanaan Program Bimbingan 3M (PROBIM) bagi murid sekolah menengah (kelas peralihan sehingga tingkatan 5) supaya murid dapat menguasai kemahiran membaca, menulis dan mengira sebelum menamatkan persekolahan.SOALAN NO : 14 Guru boleh menggunakan bank item pentaksiran formatif yang telah dijajarkan dengan DSKP Bahasa Melayu, Bahasa Inggeris dan Matematik. Item pentaksiran yang telah disediakan dapat membantu guru menjalankan pentaksiran formatif dengan lebih berkesan mengikut tahap keupayaan murid dalam kelas masing-masing. Melalui bank item yang telah disediakan, guru boleh memantau kemajuan murid dan membuat penambahbaikan dalam PdP berdasarkan penguasaan murid. KPM turut mengadakan Program Bantu Baca bagi semua murid sekolah rendah memperkukuhkan kemahiran membaca. Program ini dilaksanakan secara kolaboratif melibatkan pelatih Institut Pendidikan Guru yang menjalani latihan praktikum di sekolah, pelajar matrikulasi dan murid sekolah berasrama penuh dengan kerjasama komuniti setempat. Selain itu, KPM juga menggalakkan pihak sekolah mempergiat usaha untuk melaksanakan kempen kesedaran dalam kalangan ibu bapa dan komuniti. Kempen tersebut bertujuan untuk meningkatkan kesedaran terhadap isu pendidikan anak mereka khususnya dalam menangani literasi dan numerasi. KPM juga turut menyokong usaha kempen kesedaran melalui aktiviti seperti hebahan media sosial, libat urus secara bersemuka dengan pelbagai pihak yang berkepentingan dan juga penyediaan bahan bercetak yang berkaitan. KPM yakin program intervensi dan langkah strategik yang dilaksanakan ini dapat membantu meningkatkan penguasaan murid dalam literasi dan numerasi. Sekian, terima kasih. RJM65SOALAN NO : 16 PEMBERITAHUAN PERTANYAAN LISAN DEWAN RAKYAT MESYUARAT PERTAMA, PENGGAL KEDUA PARLIMEN KELIMA BELAS PERTANYAAN : LISAN DARIPADA : YB TUAN ZAHARI BIN KECHIK (JELI) TARIKH : 09 MAC 2023 (KHAMIS) SOALAN TUAN ZAHARI BIN KECHIK [JELI] minta MENTERI KERJA RAYA menyatakan langkah-langkah dan tindakan yang telah diambil untuk menaik taraf Jalan Raya Timur Barat untuk menjamin keselesaan dan keselamatan pengguna di laluan tersebut.SOALAN NO : 16 JAWAPAN Tuan Yang Di-Pertua Untuk makluman Ahli Yang Berhormat, berdasarkan pertanyaan Jalan Persekutuan yang dimaksudkan adalah laluan FT004. Bagi negeri Kelantan, laluan tersebut terdiri daripada beberapa nama laluan iaitu Jalan Gerik – Jeli (Lebuh Raya Timur Barat) iaitu sepanjang 30.45 km, Jalan Machang – Jeli sepanjang 60.85 km dan Jalan Pasir Puteh – Machang sepanjang 24.65 km. Panjang keseluruhan FT004 di Negeri Kel\",\"CRE iaitu sama ada dijangkiti secara langsung atau menjadi perumah kepada bakteria tersebut. Kesemua kes tersebut dilaporkan di Hospital Sibu dan setakat pertengahan Ogos sebanyak 10 kematian telah direkodkan, namun hanya dua daripadanya disahkan berpunca daripada jangkitan terus CRE. Rujukan. Akhbar; Nyck de Vries (lahir 6 Februari 1995 di Sneek) ialah seorang pelumba go-kart dari Belanda. Pengurusnya ialah Anthony Hamilton (ayah kepada Lewis Hamilton) dan kini Nyck ialah salah seorang ahli Pemandu Muda McLaren. Anjing tangkap Canaria (; ) ialah satu baka anjing jenis \\\"molosser\\\" besar pada asalnya dibiakbakakan untuk pekerjaan haiwan ternakan. Nama baka dalam bahasa Sepanyol bermakna \\\"anjing tangkap Canaria\\\" dan kerap disingkatkan kepada \\\"\\\"presa canario\\\" atau hanya \\\"presa\\\"\\\". Baka ini kadang-kadang juga dipanggil \\\"dogo\\\" Canaria (). Loji Rawatan Air Ampang membekalkan air bersih kepada penduduk di Ampang, Selangor dan sekitar. Loji ini diuruskan oleh Puncak Niaga (M) Sdn Bhd (PNSB). Logi ini menggunakan 'floc tank' dan 'slow sand filters' bagi merawat air. Loji ini mendapat bekalan air daripada Sungai Ampang dan membekalkan air kepada 8, 225 buah rumah di kawasan Kampung Ampang Campuran, Lembah Jaya Utara, Kampung Tasek Permai, Kampung Tasek Tambahan Ampang, Mesra Ria Apartment, Taman Dagang Jaya, Taman Ampang Saujana, Lembah Jaya Selatan, Kampung Ampang Indah, Mulia Jaya dan Kampung Bukit Sungai Putih. Loji Rawatan Air Hulu Langat membekalkan air bersih kepada penduduk di Ampang, Selangor dan sekitar. Loji ini diuruskan oleh Puncak Niaga (M) Sdn Bhd (PNSB). Logi ini menggunakan 'floc tank' dan 'slow sand filters' bagi merawat air. Loji ini membekalkan air kepada 8, 225 buah rumah di kawasan Kampung Ampang Campuran, Lembah Jaya Utara, Kampung Tasek Permai, Kampung Tasek Tambahan Ampang, Mesra Ria Apartment, Taman Dagang Jaya, Taman Ampang Saujana, Lembah Jaya Selatan, Kampung Ampang Indah, Mulia Jaya dan Kampung Bukit Sungai Putih. Ca de bou atau anjing tangkap Mallorca () ialah satu baka \\\"molosser\\\" tipikial berbinaan memanjang, kuat dan berkuasa, bersaiz sederhana. Perbezaan antara jantina ketara pada kepala, yang lilitannya pasti lebih besar pada anjing jantan daripada anjing betina. Anjing tangkap Mallorca hampir pupus selepas Perang Dunia II, dan anjing yang masih kekal disilangkan dengan anjing gembala Mallorca, buldog Inggeris dan mungkin \\\"alano\\\" Sepanyol. Kumpulan Janice and The Supertank ialah sebuah kumpulan indie yang ditubuhkan di Malaysia. Kumpulan ini terdiri daripada 3 orang ahli. Nama asal kumpulan ini pada mulanya adalah Supertank yang bermula sekadar suka-suka dan hanya berkumpul untuk jamming jika ada kelapangan. Ia kemudian beralih untuk membentuk kumpulan indie yang bergerak secara komersial. Dengan penyertaan Janice Yap sebagai vokalis baru, nama kumpulan ini bertukar menjadi Janice and The Supertank sejak Jun 2010. Kumpulan Janice and The Supertank ini kemudiannya menyertai pertandingan Battle of The Band @ Youth Festival 2010, dan berjaya menggondol penghargaan sebagai 10 band terbaik daripada 100 band yang bertanding. Kumpulan Janice and The Supertank menampilkan lagu dalam pelbagai rentak dan komposisi seperti rock, pop, R&amp;B, Dance serta Jazz. Single pertama mereka berjudul Kau Di Mindaku mendapat tempat di stesen radio turut menjadi salah satu lagu tema untuk filem Istanbul Aku Datang yang dibintangi oleh Lisa Surihani dan Beto Khusairi dan juga tercalon dalam program carta muzik popular, Muzik Muzik. Kumpulan ini telah berpecah pada tahun 2012 selepas Janice (vokalis) telah membuat keputusan untuk meneruskan kariernya secara solo. Janice adalah pemenang persembahan solo terbaik tempatan bagi Malaysia's BOH Cameronian Arts Awards 2007 dan pemenang pertandingan lagu terbaik dalam Battle Of The Band 2005. Phalène () ialah satu baka mainan yang juga dikenali sebagai spaniel mainan benua (; ). \\\"Phalène\\\" ialah keragaman bertelinga jatuh \\\"papillon\\\", juga dikenali sebagai anjing kupu-kupu. Anjing gembala Pyrene (; ; , \\\"Pyrenees sheepdog\\\") ialah suatu baka anjing gembala sederhana kecil asal pergunungan Pyrene selatan Perancis dan utara Sepanyol, ia dibiakkan sejak sekurang-kurangnya Zaman Pertengahan untuk penggembalaan haiwan ternakan terutamanya biri-biri. Ia bekerja giat bersama baka anjing Pyrene besar, satu lagi baka anjing gunung, yang bertindak sebagai penjaga haiwan ternakan. Suka Damai merupakan sebuah desa yang terletak dalam (\\\"daerah\\\") kecamatan Lemito, Kabupaten Pohuwato, Provinsi Gorontalo, Indonesia. Poskod. Poskod yang digunakan di Suka Damai adalah 96468. Terdapat 7 buah desa di dalam daerah kecamatan Lemito. Wonggarasi Barat merupakan sebuah desa yang terletak dalam (\\\"daerah\\\") kecamatan Lemito, Kabupaten Pohuwato, Provinsi Gorontalo, Indonesia. Poskod. Poskod yang digunakan di Wonggarasi Barat adalah 96468. Terdapat 7 buah desa di dalam daerah kecamatan Lemito. Wonggarasi Tengah merupakan sebuah desa yang terletak dalam (\\\"daerah\\\") kecamatan Lemito, Kabupaten Pohuwato, Provinsi Gorontalo, Indonesia. Poskod. Poskod yang digunakan di Wonggarasi Tengah adalah 96468. Terdapat 7 buah desa di dalam daerah kecamatan Lemito. Biyonga merupakan sebuah desa yang terletak dalam (\\\"daerah\\\") kecamatan Limboto, Kabupaten Gorontalo, Provinsi\"]}\r\n",
      "{\"query\":\"How does the import of AP cars affect Proton from an external perspective?\",\"pos\":[\"tersebut, pihak Proton menyatakan bahawa under declaration berlaku tetapi ini tidak diterjemahkan dalam bentuk harga pasaran kerana kalau kita hendak mengambil tindakan di bawah Anti Lambakan, under declaration ini mesti diterjemahkan dalam bentuk harga yang rendah, barulah berlaku injury, kecederaan kepada industri, baru tindakan boleh diambil. Daripada apa yang kita lakukan berteraskan survey kita, kereta-kereta yang diimport tersebut adalah lebih mahal, Yang kategori sama dengan Proton lebih mahal daripada Proton daripada RM6,000 sebuah kepada RM18,000 sebuah. Yang Berhormat menyatakan tentang kesan kepada Proton dari segi kemasukan kereta import ini. Sebenarnya kesan ini ada datang daripada dua sudut yang besar, satu dari segi dalaman dan satu dari segi luaran. Dari luaran ini ada 4 sudut, Tuan Yang di-Pertua. Satu, saya setuju Yang Berhormat kata kereta AP ini ada kesan tetapi kalau kita lihat dari segi pasaran, dari segi saiz pasaran, AP ini mencapai pertumbuhan sebanyak 1%. Kemudian dari segi kereta yang diimport secara CKD dan dipasang siap di Malaysia, yang ini banyak. Pada tahun 2003 hingga 2004 sebanyak 8% pertambahan, 2002 hingga 2003 lebih kurang 9%. Maknanya pertambahan syer pasaran daripada pengilang ini lebih banyak. Ketiga, dari segi perubahan taste pengguna kita. Kereta MPV dianggap kereta passenger. Itu sebab kereta-kereta seperti Avanza dan sebagainya dibeli dengan begitu banyak. Yang keempat dari segi permintaan pasaran, consumer kita begitu demanding. Dato' Paduka Haji Badruddin bin Amiruldin: [Bangun]. Dato' Haji Ahmad Husni bin Mohd Hanadzlah: Sebagai contoh di Eropah kalau kita jual kereta, kita tidak letak carpet dalam boot, dia tidak bising tetapi di Malaysia mesti ada carpet. Ini adalah benda-benda luaran yang mengakibatkan kepada peningkatan daya saing yang dihadkan oleh kereta Proton. Kemudian dari segi dalaman adalah dari segi isu sejauh mana kemampuan kita untuk menghasilkan kereta yang kompetitif berhadapan dengan suasana tersebut. Kemudian.... Timbalan Yang di-Pertua [Datuk Lim Si Cheng]: Yang Berhormat Jerai bangun. Dato' Haji Ahmad Husni bin Mohd. Hanadzlah: Okey, sila. Dato' Paduka Haji Badruddin bin Amiruldin: Terima kasih Yang Berhormat. Minta maaflah Yang Berhormat kerana Yang Berhormat kena jawab bagi pihak Menteri. Kadang-kadang biasa Menteri kata Ahli Parlimen tidak faham. Kita faham dasar, cuma kita tak faham cara pemberian. Dasar AP kita cukup faham, sementara dasar pemberian kita tidak faham. Jadi yang ini kita minta tanya tetapi maklumlah tak apalah Menteri pun tidak berapa sihat kita hendak buat macam mana, takkanlah hendak gagah suruh dia datang dengan lutut sakit. Tidak mengapalah Timbalan Menteri orang yang berpengalaman, yang penuh kesabaran. Sabar sat-nu bulan puasa. Timbalan Yang di-Pertua [Datuk Lim Si Cheng]: Yang Berhormat, soalan. Dato' Paduka Haji Badruddin bin Amiruldin: Ya, soalan. Pertamanya tadi Timbalan Menteri kata.... pasal Proton ni Tuan Yang di-Pertua saya dok bercakap banyak kali dah dahulu. Timbalan Yang di-Pertua [Datuk Lim Si Cheng]: Yang Berhormat jual Proton jugalah. Dato' Paduka Haji Badruddin bin Amiruldin: Ha, saya dok bercakap pasal Proton tetapi Yang Berhormat jawab selalu okey,... okey, okey tahu-tahu last nya dia ko sikit. Harga kerugian, dah rugi. Biasa dia bawa Ahli Parlimen pergi jumpa di kilang dan tunjuk. Everything perfect everthing okey. Tau-tau bila keluar dalam newspaper dah rugi dan sebagainya. Itu satu hal. Bermaknanya gambaran yang tidak benar telah diberi kepada kami sebagai Ahli Parlimen tidak betul macam itu. Yang kedua, kita kena bangga dan merasa seronok kerana kereta ini dibuat di. Malaysia. Saya pakai Proton Saga, semua pakai Proton Saga kerana kereta kita, kita berasa bangga inilah kereta buatan Malaysia, buatan anak Malaysia, tayar getah Malaysia, spring- spring Malaysia, kusyen- kusyen Malaysia dan enjin campuran Jepun Malaysia. [Ketawa] Ada juga. Kita tolong vendor, kita tolong pekerja, kita tolong semua daripada satu jenis modal yang keluar. Tak apalah kita bagi permit untuk import tetapi janganlah keterlaluan sehingga menjejaskan hak kita. Buat baik berpada-pada jangan buat baik sampai kita bagi kepada seseorang itu... saya tak marah. Saya tahu macam AP King ni yang kita dok baca ni kita tengok kita tahu siapa tetapi macam Naza saya bela dia kerana dia buat kilang di kawasan saya. Beribu pekerja ada di sana. Vendor keliling kawasan dia ada tetapi yang lain-lain ini downstream dia apa? Apa downstream yang mereka buat? Bukan kita iri hati dalam bulan Ramadan ini, Tuhan marah kalau kita iri hati kat orang. Tuhan marah kalau kita hati perut busuk kat orang. Kekayaan mungkin Allah S.W.T. beri pada dia, tidak mengapa, alhamdulillah tetapi guna kekayaan dan kesenangan itu untuk menolong. Macam Naza tolong ramai. Timbalan Yang di-Pertua [Datuk Lim Si Cheng]: Yang Berhormat, masa untuk perbahasan telah pun ditutup. Dato' Paduka Haji Badruddin bin Amiruldin: Saya dahulu Tuan Yang di- Pertua juga kata semasa Menteri jawab boleh tanya. [Ketawa]. Timbalan Yang di-Pertua [Datuk Lim Si Cheng]: Sekarang nampaknya Yang Berhormat buat perbahasan. Dato' Paduka Haji Badruddin bin Amiruldin: Dia kena bersemangat baru boleh jadi. Kalau tidak bersemangat tidak boleh. Ini hendak bakar semangat baru\"],\"neg\":[\"bagi mendapatkan maklumat berhubung dengan keberkesanan program 2u2i melalui inisiatif Future Workforce Engagement Series (FORCES). Input ini akan digunakan untuk menambah baik kurikulum berasaskan pekerjaan yang dibangunkan supaya memenuhi keperluan industri; #1020 (iv) melaksanakan sesi libat urus atau dengan izin, engagement bersama-sama wakil industri drpd pelbagai sektor bagi mendapatkan maklumat berhubung dengan keberkesanan program 2u2i melalui inisiatif Future Workforce Engagement Series (FORCES). Input ini akan digunakan untuk menambah baik kurikulum berasaskan pekerjaan yang dibangunkan supaya memenuhi keperluan industri; dan (v) mengadakan sesi perkongsian ilmu dan pengalaman oleh IPT yang telah melaksanakan Program 2u2i dengan IPT lain, di samping menyebar luas hebahan di IPT untuk menggalakkan lagi penglibatan ke program ini. Selain daripada itu, kementerian juga telah menubuhkan satu jawatankuasa yang bertanggungjawab ke atas pembangunan mod pengajian 2u2i dalam usaha memantapkan pelaksanaan program. Kementerian juga kini di dalam perancangan untuk. mewujudkan Jawatankuasa Strategik Mod Industri yang akan bertindak bukan sahaja untuk memastikan mod 2u2i ini dipertingkatkan tetapi juga sebagai platform dan rujukan utama untuk memperkasakan agenda pembelajaran berasaskan pekerjaan ataupun dengan izin, work-based learning. Kementerian yakin dengan penglibatan IPT serta wakil industri yang lebih ramai program 2u2i akan terus kukuh. Peluang untuk menggabungkan pelbagai bidang akademik dengan keperluan industri pastinya memberi nilai tambah kepada program 2u2i, seterusnya meningkatkan kebolehpasaran para graduan yang terlibat. Sekian, terima kasih. Dato' Seri Haji Idris bin Jusoh [Besut]: Terima kasih Yang Berhormat Menteri yang terus melaksanakan program 2u2i, dua tahun universiti dan dua tahun industri. Di samping itu melihat isu kebolehpasaran yang begitu lebih penting sekarang ini, apakah langkah-langkah yang sedang dilaksanakan oleh kementerian untuk mengatasi isu-isu graduan bersiap-sedia untuk menghadapi cabaran pasaran semasa. Dato' Dr. Noraini Ahmad: Terima kasih saya ucap kepada di atas soalan tambahan yang telah diberikan. Program 2u2i ini sebenarnya memberikan pendedahan awal kepada pelajar berkenaan dengan persekitaran kerja sebenar di samping menjadi platform untuk pelajar mengasah kemahiran praktikal dan juga kemahiran insaniah semasa tempoh pengajian. Antara dua aspek utama di mana 2u2i ini dapat memberi manfaat kepada para graduan, pertamanya adalah seperti saya maklumkan iaitu memberi pendedahan awal kepada alam pekerjaan sebenar kerana pelajar ini akan dilatih oleh pakar industri dalam bidang berkenaan. Keduanya pula, KPT mahukan supaya pelajar ini diterapkan nilai-nilai keusahawanan yang mana para pelajar secara berkumpulan diberikan tugasan khusus dalam merancang, menyelia, menjalankan projek usahawan dengan pemantauan penyelia. Pelaksanaan tugasan secara praktikal ini, kita harapkan dapat memupuk kemahiran keusahawanan di kalangan pelajar yang akan melahirkan pelajar yang kreatif, berani menghadapi tekanan, bijak mengurus dan mampu mencipta peluang pekerjaan lain dengan izin, menjadi job creator kepada lebih ramai graduan apabila bergraduan nanti. Sekian, terima kasih. Puan Noorita binti Sual [Tenom]: [Berpantun] \\\"Tunggu punya tunggu, Last-last dapat, Soalan Tenom nombor empat, Mohon Menteri jawab cepat\\\". 4. Puan Noorita binti Sual [Tenom] minta Menteri Pelancongan, Seni dan Budaya menyatakan apakah program-program dan langkah-langkah yang diambil kementerian untuk membantu meningkatkan sektor pelancongan dan membantu para pengusaha dalam sektor pelancongan ini? Menteri Pelancongan, Seni dan Budaya [Dato' Sri Hajah Nancy Shukri]: Terima kasih. Bismillahi Rahmani Rahim. Terima kasih Tuan Yang di-Pertua. Terima kasih Yang Berhormat Tenom. Bagi membantu meringankan impak penularan wabak COVID-19 terhadap penggiat industri dan seterusnya memulihkan industri pelancongan tempatan, kerajaan telah mengumumkan beberapa Pakej Rangsangan Ekonomi (PRE) iaitu PRIHATIN, PRIHATIN PKS Tambahan dan PENJANA yang disedia dan dilaksanakan melalui pelbagai agensi kerajaan secara rentas kementerian. Antara bantuan dan insentif yang boleh dimanfaatkan oleh penggiat industri pelancongan adalah Program Subsidi Upah (PSU), pemberian diskaun elektrik kepada sektor pelancongan dan penawaran penangguhan atau moratorium bayaran pinjaman bersasar. Manakala di pihak kementerian sendiri iaitu MOTAC, kita telah dan akan terus melaksanakan inisiatif-inisiatif khusus seperti menawarkan kursus domestik Tourism Vibes secara dalam talian, pengecualian bayaran fi lesen bagi pengusaha-pengusaha pelancongan dan pemandu pelancongan, pemberian diskaun dan pelanjutan pembayaran kompaun kepada semua pengusaha pelancongan dan pemandu pelancongan berlesen dan membangunkan dan menyediakan platform online seperti laman www.Malaysia.travel bagi membolehkan penggiat industri pelancongan memapar, mempromosi dan menawarkan pakej dan produk pelancongan mereka secara percuma. Di samping itu Tuan Yang di-Pertua, MOTAC telah mewujudkan pelbagai langkah bentuk insentif bagi membantu pengusaha pelancongan untuk membangunkan http://www.malaysia.travel/. dan mengembangkan produk dan projek pelancongan seperti premis penginapan pelancongan, homestay, kraf tangan dan perkhidmatan berkaitan pelancongan. Langkah penawaran insentif oleh MOTAC ini dapat membantu peng\",\"训，理解资金的流动及负责任地管理公司和其他组织的财务状况。这一专业领域的学生适 合希望以后从事投资管理，银行，审计和咨询等领域相关的工作。 创业与运营管理 的学生而设。 7 国际经营学院 专业领域 APM学院院长 Lailani Laynesa Alcantara (菲律宾) 筑波大学 经营管理学博士 APM的课程得到了AACSB的国际认证，旨在使学生成为具有全球商务能力和社会责任感的国际人才。APM的学生掌握成为 一个全面的专业人员所必需的知识和技能，培养具备包容性和可持续性的价值观。 在APM,你可以接触到一群具有杰出的专业和学术背景的教师团队，同时又能置身于引人入胜的创新课堂之中，接触到 在各自专业领域立志改变世界的全球人际网络。你既能在商务学科的学术追求上获得成功，又能获得与全球商业领袖 对话的机会。 国际经营学院 8 社会科学学士学位（BSocSc) 在APS，你将要挑战面对多种全球问题，并学会开拓新思路来应对这些障碍。你会对亚 太地区的政治体系、经济、社会以及文化有广泛的了解，同时掌握相关的语言能力及信 息技术。毕业后，你可在政府部门、国际组织、传媒行业以及跨国公司等多方向选择并 发展职业道路。 APS的学生要掌握政治学、社会学和经济学等方面的广泛基础知识，这使他们能够形成 对社会的多方面看法，并在进入高年级课程中继续他们学科的专业研究，同时选择其 他学科的选修课，以拓宽他们的视野。在APS积极学习的多样化项目包括海外交流学习 、实习和实地考察研究。通过研讨会课程，论文及报告，学生展示他们对亚太地区所 面临问题的全面认识和理解。 [A PS ] COLLEGE OF ASIA PACIFIC STUDIES 亚洲太平洋学院（APS) 文化、社会与传媒 在该专业学生将通过分析亚太地区的不同文化、社会形态及媒体动态，更深入的了解并理解亚太地区所面 临的诸多问题。培养学生用国际性视点全面看待问题和多方面分析捕捉社会问题的能力。 全球经济 不平等、贫困、粮食危机、农业、自然、工业、环境问题、健康问题、数字化——所有这些问题都需要一 个经济视角。 通过发展经济学专业，你将对经济中涉及的问题有更深入的了解。 此外，校外学习经济学、 环境研究和国际社会学的组合，强调集中和流通，使学生有机会从全球化的角度获得对经济的体验式理解 。 国际关系与和平学 通过该专业你会深入学习世界各国错综复杂的纷争和冲突以及如何共筑世界和平，同时通过对国际的深入 了解，逐渐培养并掌握解决及处理国际社会复杂问题的能力。从国际法、政治学和经济学等多方面深入了 解，培养学生对于国际关系、解决国际纠纷、共筑和平世界的批判性思维和政策性方法的学习。 专业领域 9 亚洲太平洋学院 APS学院院长 Yoichiro Sato (日本) 夏威夷大学 政治学博士 亚洲太平洋学院通过其以亚太地区为核心的研究和教育，在动荡的21世纪引领全球社会的范式转变。学 院为解决各种问题，创造超越国家和地区界限的新价值，以及实现全球社会可持续发展的多样性共存做 出贡献。 基于对多样化的社会、政治、经济和文化及其在不断增长的亚太地区的独特性的整体理解，亚洲太平洋 学院传达了社会科学的基础和专业知识以及解决问题和实践的应用知识。同时，学院帮助培养人们的专 亚洲太平洋学院 10 业能力、同理心、沟通技巧和诚信，以帮助他们为亚太地区的变革做出自己的贡献。 可持续发展和观光学学院（ST） Sustainability and Tourism [S T] 专业科目群 环境学 资源管理 观光学 酒店管理 社会创业 区域开发 数据科学与信息系统 国际开发 旅游产业与运营 对自然、社会、经济和教育的基本研究 侧重于面向循环型社会、能源和气候变化的研究 与经济、社会、历史和文化相关的旅游业的基础性研究 对旅游行业分析、新产品创造和市场营销的基本研究 侧重于发展社会学、人类学、经济学、政治学和国际纷争的学习 旅游业分析，新产品创造和营销 与非政府组织NGO/非营利组织NPO运作和项目管理有关的学习 侧重于通过旅游业的视角，对当地区域的可持续发展和规划进行研究 学习的重点是ICT的基本技能和在专业领域的应用 COLLEGE OF 可持续发展和观光学学士学位（ST 11 可持续发展和观光学 ) 可持续发展与观光学学院（ST）是目前世界上为数不多的学院之一。在ST， 你将通过学习环境资源管理和可持续性观光学两方面来研究可持续社会的形 成。我们帮助学生成为学者和实践者，运用创新研究解决现实世界的问题。 我们的教授团队是环境、发展、旅游、创业和信息通信技术方面的专家，他 们活跃在世界领先的学术期刊、经济合作与发展组织（OECD）、联合国世界 旅游组织（UNWTO）以及任职于日本政府和地方政策委员会。 ST支持鼓励学生作为个体积极发现当地资源，这些资源包括自然、历史和文 化，目的是保护的同时并开发这些\",\".9 3.04 11.15 31 5942 21.5 15.8 28.56 Form 4 9 1673 7.5 3.00 17.71 24 4863 21.9 14.9 31.06 Form 5 2 1040 3.5 1.03 11.22 14 6760 22.7 15.7 31.64 Ethnicity Malay 57 18481 9.5 6.13 14.45 193 58272 30.0 25.2 35.19 Chinese 9 1915 3.5 1.90 6.48 79 18958 35.0 31.1 39.15 Indian 22 5165 16.5 10.98 24.10 34 8335 26.7 19.3 35.59 Bumiputera Sabah - - - - - 3 1073 56.9 14.7 91.05 Bumiputera Sarawak - - - - - 4 844 39.7 14.5 71.85 Others 3 800 10.7 1.95 41.99 9 2889 38.7 25.3 54.10 BMI-for age status (BAZ) Thinness ( <-2sd ) 5 1464 7.0 3.74 12.82 29 7500 36.0 27.2 45.90 Normal (≥ - 2sd - ≤+ 1sd ) 53 14278 7.8 5.83 10.38 203 55946 30.6 26.1 35.50 Overweight (> +1sd - ≤+ 2sd) 13 3664 8.8 5.06 14.92 41 11893 28.6 18.7 41.18 Obese (> + 2sd) 20 6956 15.3 8.46 26.20 46 14313 31.6 26.3 37.40 Height-for - age status (HAZ) Stunting ( <-2sd ) 3 917 4.7 1.37 15.02 30 7795 40.2 25.7 56.66 Normal ( ≥-2sd ) 88 25445 9.4 6.93 12.53 291 82382 30.3 26.6 34.35 Characteristic Doctor's Instruction Parents' advice Count Estimated population Prevalence (%) 95% CI Count Estimated population Prevalence (%) 95% CI NATIONAL HEALTH AND MORBIDITY SURVEY 2017 145 Table 3.6.7: Reasons for taking food supplements among adolescents by socio-demographic characteristics (Cont.) Lower Upper Lower Upper Selangor 207 57567 19.8 16.94 22.92 19 5007 1.7 1.01 2.92 Locality of School Urban 127 38560 19.5 15.92 23.76 12 3404 1.7 0.98 3.01 Rura l 80 19007 20.2 16.18 24.99 7 1604 1.7 0.53 5.38 Sex Boys 132 35484 23.3 19.34 27.88 13 3312 2.2 1.30 3.62 Girls 75 22083 15.9 13.32 18.77 6 1695 1.2 0.55 2.65 Class Standard 4 33 9485 16.4 13.16 20.33 5 1984 3.4 1.30 8.78 Standard 5 41 10656 22.1 17.13 27.97 3 629 1.3 0.31 5.25 Standard 6 19 10503 22.2 15.13 31.37 - - - - - Remove class - - - - - - - - - - Form 1 26 6130 17.8 11.17 27.17 4 928 2.7 0.86 8.14 Form 2 23 4815 20.0 13.30 29.05 2 347 1.4 0.35 5.83 Form 3 31 6134 22.2 14.84 31.87 1 177 0.6 0.08 5.11 Form 4 20 3720 16.8 9.47 28.00 3 538 2.4 0.85 6.76 Form 5 14 6123 20.6 14.72 27.95 1 403 1.4 0.15 11.38 Ethnicity Malay 137 40330 20.7 17.34 24.61 13 3854 2.0 1.16 3.35 Chinese 40 9224 17.0 13.69 21.00 2 339 0.6 0.10 3.85 Indian 24 6195 19.8 14.74 26.10 3 638 2.0 0.87 4.71 Bumiputera Sabah 1 404 21.5 2.27 76.23 - - - - - Bumiputera Sarawak 1 191 9.0 1.70 35.95 - - - - - Others 4 1223 16.4 7.43 32.37 1 177 2.4 0.26 18.34 BMI-for age status (BAZ) Thinness ( <-2sd ) 13 4003 19.2 10.29 33.05 1 245 1.2 0.15 8.63 Normal (≥ - 2sd - ≤+ 1sd ) 132 35735 19.5 16.23 23.34 12 3043 1.7 0.89 3.08 Overweight (> +1sd - ≤+ 2sd) 31 8517 20.5 13.88 29.18 3 558 1.3 0.38 4.65 Obese (> + 2sd) 31 9311 20.5 16.34 25.47 3 1161 2.6 1.08 5.93 Height-for - age status (HAZ) Stunting ( <-2sd ) 12 3222 16.\"]}\r\n",
      "{\"query\":\"What is the growth percentage of AP cars in the market?\",\"pos\":[\"tersebut, pihak Proton menyatakan bahawa under declaration berlaku tetapi ini tidak diterjemahkan dalam bentuk harga pasaran kerana kalau kita hendak mengambil tindakan di bawah Anti Lambakan, under declaration ini mesti diterjemahkan dalam bentuk harga yang rendah, barulah berlaku injury, kecederaan kepada industri, baru tindakan boleh diambil. Daripada apa yang kita lakukan berteraskan survey kita, kereta-kereta yang diimport tersebut adalah lebih mahal, Yang kategori sama dengan Proton lebih mahal daripada Proton daripada RM6,000 sebuah kepada RM18,000 sebuah. Yang Berhormat menyatakan tentang kesan kepada Proton dari segi kemasukan kereta import ini. Sebenarnya kesan ini ada datang daripada dua sudut yang besar, satu dari segi dalaman dan satu dari segi luaran. Dari luaran ini ada 4 sudut, Tuan Yang di-Pertua. Satu, saya setuju Yang Berhormat kata kereta AP ini ada kesan tetapi kalau kita lihat dari segi pasaran, dari segi saiz pasaran, AP ini mencapai pertumbuhan sebanyak 1%. Kemudian dari segi kereta yang diimport secara CKD dan dipasang siap di Malaysia, yang ini banyak. Pada tahun 2003 hingga 2004 sebanyak 8% pertambahan, 2002 hingga 2003 lebih kurang 9%. Maknanya pertambahan syer pasaran daripada pengilang ini lebih banyak. Ketiga, dari segi perubahan taste pengguna kita. Kereta MPV dianggap kereta passenger. Itu sebab kereta-kereta seperti Avanza dan sebagainya dibeli dengan begitu banyak. Yang keempat dari segi permintaan pasaran, consumer kita begitu demanding. Dato' Paduka Haji Badruddin bin Amiruldin: [Bangun]. Dato' Haji Ahmad Husni bin Mohd Hanadzlah: Sebagai contoh di Eropah kalau kita jual kereta, kita tidak letak carpet dalam boot, dia tidak bising tetapi di Malaysia mesti ada carpet. Ini adalah benda-benda luaran yang mengakibatkan kepada peningkatan daya saing yang dihadkan oleh kereta Proton. Kemudian dari segi dalaman adalah dari segi isu sejauh mana kemampuan kita untuk menghasilkan kereta yang kompetitif berhadapan dengan suasana tersebut. Kemudian.... Timbalan Yang di-Pertua [Datuk Lim Si Cheng]: Yang Berhormat Jerai bangun. Dato' Haji Ahmad Husni bin Mohd. Hanadzlah: Okey, sila. Dato' Paduka Haji Badruddin bin Amiruldin: Terima kasih Yang Berhormat. Minta maaflah Yang Berhormat kerana Yang Berhormat kena jawab bagi pihak Menteri. Kadang-kadang biasa Menteri kata Ahli Parlimen tidak faham. Kita faham dasar, cuma kita tak faham cara pemberian. Dasar AP kita cukup faham, sementara dasar pemberian kita tidak faham. Jadi yang ini kita minta tanya tetapi maklumlah tak apalah Menteri pun tidak berapa sihat kita hendak buat macam mana, takkanlah hendak gagah suruh dia datang dengan lutut sakit. Tidak mengapalah Timbalan Menteri orang yang berpengalaman, yang penuh kesabaran. Sabar sat-nu bulan puasa. Timbalan Yang di-Pertua [Datuk Lim Si Cheng]: Yang Berhormat, soalan. Dato' Paduka Haji Badruddin bin Amiruldin: Ya, soalan. Pertamanya tadi Timbalan Menteri kata.... pasal Proton ni Tuan Yang di-Pertua saya dok bercakap banyak kali dah dahulu. Timbalan Yang di-Pertua [Datuk Lim Si Cheng]: Yang Berhormat jual Proton jugalah. Dato' Paduka Haji Badruddin bin Amiruldin: Ha, saya dok bercakap pasal Proton tetapi Yang Berhormat jawab selalu okey,... okey, okey tahu-tahu last nya dia ko sikit. Harga kerugian, dah rugi. Biasa dia bawa Ahli Parlimen pergi jumpa di kilang dan tunjuk. Everything perfect everthing okey. Tau-tau bila keluar dalam newspaper dah rugi dan sebagainya. Itu satu hal. Bermaknanya gambaran yang tidak benar telah diberi kepada kami sebagai Ahli Parlimen tidak betul macam itu. Yang kedua, kita kena bangga dan merasa seronok kerana kereta ini dibuat di. Malaysia. Saya pakai Proton Saga, semua pakai Proton Saga kerana kereta kita, kita berasa bangga inilah kereta buatan Malaysia, buatan anak Malaysia, tayar getah Malaysia, spring- spring Malaysia, kusyen- kusyen Malaysia dan enjin campuran Jepun Malaysia. [Ketawa] Ada juga. Kita tolong vendor, kita tolong pekerja, kita tolong semua daripada satu jenis modal yang keluar. Tak apalah kita bagi permit untuk import tetapi janganlah keterlaluan sehingga menjejaskan hak kita. Buat baik berpada-pada jangan buat baik sampai kita bagi kepada seseorang itu... saya tak marah. Saya tahu macam AP King ni yang kita dok baca ni kita tengok kita tahu siapa tetapi macam Naza saya bela dia kerana dia buat kilang di kawasan saya. Beribu pekerja ada di sana. Vendor keliling kawasan dia ada tetapi yang lain-lain ini downstream dia apa? Apa downstream yang mereka buat? Bukan kita iri hati dalam bulan Ramadan ini, Tuhan marah kalau kita iri hati kat orang. Tuhan marah kalau kita hati perut busuk kat orang. Kekayaan mungkin Allah S.W.T. beri pada dia, tidak mengapa, alhamdulillah tetapi guna kekayaan dan kesenangan itu untuk menolong. Macam Naza tolong ramai. Timbalan Yang di-Pertua [Datuk Lim Si Cheng]: Yang Berhormat, masa untuk perbahasan telah pun ditutup. Dato' Paduka Haji Badruddin bin Amiruldin: Saya dahulu Tuan Yang di- Pertua juga kata semasa Menteri jawab boleh tanya. [Ketawa]. Timbalan Yang di-Pertua [Datuk Lim Si Cheng]: Sekarang nampaknya Yang Berhormat buat perbahasan. Dato' Paduka Haji Badruddin bin Amiruldin: Dia kena bersemangat baru boleh jadi. Kalau tidak bersemangat tidak boleh. Ini hendak bakar semangat baru\"],\"neg\":[\"ayaran barangan dan perkhidmatan yang diperlukan oleh pelancong, menyumbang 30% daripada perkhidmatan perdagangan dunia, dan 6% daripada keseluruhan eksport barangan dan perkhidmatan. Ia juga mewujudkan peluang pekerjaan dalam sektor perkhidmatan ekonomi yang berkaitan dengan pelancongan.Industri perkhidmatan yang mendapat manfaat daripada pelancongan termasuk perkhidmatan pengangkutan, seperti syarikat penerbangan, kapal pesiar, kereta api dan teksi; perkhidmatan hospitaliti, seperti penginapan, termasuk hotel dan pusat peranginan; dan tempat hiburan, seperti taman hiburan, restoran, kasino, pusat membeli-belah, tempat muzik, dan teater. Ini adalah tambahan kepada barangan yang dibeli oleh pelancong, termasuk cenderahati. Definisi. Pada tahun 1936, Liga Bangsa menamakan \\\"pelancong asing\\\" sebagai \\\"seseorang yang melancong ke luar negara sekurang-kurangnya dua puluh empat jam\\\". Penggantinya, Pertubuhan Bangsa-Bangsa Bersatu, meminda definisi ini pada tahun 1945, dengan memasukkan penginapan maksimum enam bulan. Pada tahun 1941, Hunziker dan Kraft mendefinisikan pelancongan sebagai \\\"sejumlah fenomena dan hubungan yang timbul daripada perjalanan dan penetapan bukan pemastautin, selagi mereka tidak menuju kepada kediaman tetap dan tidak berkaitan dengan apa-apa aktiviti mencari pendapatan.\\\" Pada tahun 1976, definisi Persatuan Pelancongan Pelancongan England ialah: \\\"Pelancongan ialah pergerakan sementara dan jangka pendek seseorang ke destinasi di luar tempat-tempat di mana mereka biasanya tinggal dan bekerja dan aktiviti mereka semasa menginap di setiap destinasi. Ia termasuk pergerakan untuk semua tujuan.\\\" Pada tahun 1981, Persatuan Pakar Saintifik Antarabangsa dalam Pelancongan menakrifkan pelancongan dari segi aktiviti tertentu yang dipilih dan dilaksanakan di luar rumah. Pada tahun 1994, Pertubuhan Bangsa-Bangsa Bersatu mengenal pasti tiga bentuk pelancongan dalam \\\"Cadangan mengenai Statistik Pelancongan\\\": Istilah \\\"pelancongan\\\" dan \\\"perjalanan\\\" kadang-kadang digunakan secara bergantian. Dalam konteks ini, perjalanan mempunyai takrifan yang sama kepada pelancongan, tetapi menunjukkan perjalanan yang lebih bertujuan. Istilah \\\"pelancongan\\\" dan \\\"pelancong\\\" kadang-kadang digunakan secara pejoratif, untuk menunjukkan minat yang cetek tentang budaya atau lokasi yang dilawati. Sebaliknya, \\\"mereka yang berjalan\\\" sering digunakan sebagai tanda perbezaan. Sosiologi pelancongan telah mengkaji nilai-nilai budaya yang mendasari perbezaan-perbezaan ini dan implikasi mereka untuk hubungan kelas. Statistik dan kedudukan pelancongan dunia. Jumlah keseluruhan perjalanan pelancongan rentas sempadan. Ketibaan pelancong antarabangsa mencapai 1.035 bilion pada tahun 2012, meningkat daripada 996 juta pada tahun 2011 dan 952 juta pada tahun 2010. Pada tahun 2011 dan 2012, permintaan perjalanan antarabangsa terus pulih daripada kerugian akibat kemelesetan lewat tahun 2000, di mana pelancongan mengalami kelembapan teruk dari separuh kedua 2008 menjelang akhir tahun 2009. Selepas peningkatan 5% pada separuh pertama tahun 2008, pertumbuhan ketibaan pelancong antarabangsa bergerak ke arah negatif pada separuh kedua tahun 2008, dan berakhir hanya 2% untuk tahun ini, berbanding dengan kenaikan 7% pada tahun 2007. Kecenderungan negatif yang semakin meningkat pada tahun 2009, diterukkan lagi di sesetengah negara disebabkan oleh wabak virus influenza H1N1, mengakibatkan penurunan 4.2% pada tahun 2009 kepada 880 juta ketibaan pelancong antarabangsa, dan 5.7% penurunan penerimaan pelancongan antarabangsa. Destinasi pelancongan teratas dunia. Pertubuhan Pelancongan Sedunia melaporkan sepuluh destinasi berikut sebagai yang paling banyak dikunjungi dari segi bilangan pelancong antarabangsa pada tahun 2016. Perolehan pelancongan antarabangsa. Perolehan pelancongan antarabangsa meningkat kepada AS$ 1.2 trilion pada tahun 2014, sejajar dengan kenaikan dalam terma sebenar 3.7% dari tahun 2013. Pertubuhan Pelancongan Sedunia melaporkan entiti berikut sebagai sepuluh penerima pelancongan terbaik untuk tahun 2015: Perbelanjaan pelancongan antarabangsa. Pertubuhan Pelancongan Sedunia melaporkan negara-negara berikut sebagai sepuluh pembelanja terbesar dalam pelancongan antarabangsa untuk tahun 2015. Indeks Bandar Destinasi Global MasterCard. Berdasarkan trafik udara, Indeks Bandar Destinasi MasterCard menilai yang berikut sebagai bandar sepuluh paling popular di dunia untuk pelancongan antarabangsa. MasterCard menilai bandar-bandar berikut sebagai sepuluh pendapatan terbesar di dunia daripada pelancongan antarabangsa pada tahun 2015. Kedudukan Destinasi Bandar Raya Terbaik oleh Euromonitor International. Euromonitor International menilai bandar-bandar di dunia yang paling banyak dikunjungi oleh pelancong antarabangsa pada Januari 2015: Sejarah. Purbaan. Pelancongan di luar kawasan tempat tinggal untuk bersantai kebanyakannya terhad kepada kelas kaya, yang pada masa itu mengembara ke pelbagai sudut dunia, melihat bangunan-bangunan dan karya-karya seni yang hebat, belajar bahasa baru, mengalami budaya baru, dan merasai masakan yang berbeza.\",\"zarah yang lain termasuk neutron. Sekitar 2.7 neutron dibebaskan bagi setiap pembelahan, yang boleh menyebabkan pemecahan tambahan sekiranya bahan boleh terbelah mencukupi hadir. Pemecahan nukleus dihasilkan dengan memisahkan satu atao atau melakurkan dua atam berbeza. Jenis pembelahan nukleus biasa termasuk pembelahan haba, di mana pembelahan disebabkan oleh penyerapan neutron haba agak perlahan dengan tenaga kinetik sekitar 0.125 eV. Pembelahan pantas adalah pembelahan yang disebabkan oleh penyerapan neutron lebih bertenaga, dengan tenaga kinetik pada tahap MeV. Juga, terutamanya bagi nuklei berat, pembelahan spontan mungkin berlaku. Nuklei yang boleh belah oleh neutrons biasanya membawa sekurang-kurangnya memiliki peluang agak kecil berlakunya pembelahan spontan. Pada umumnya, pembelahan haba biasanya digunakan dalam reaktor perdagangan, sungguhpun reaktor pembiak cepat telah dibangunkan bagi menggunakan pembelahan pantas. Amerika Syarikat mendapat 19% dari tenaga eletriknya dari kuasa nuklear. Jurutera nuklear dalam bidang ini biasanya bekerja, secara langsung atau tidak langsung, dalam industri tenaga nuklear atau bagi makmal negara. Penyelidikan dalam industri kini mengarah pada menghasilkan reka bentuk logi tahan penggandaan nuklear yang ekonomi dengan ciri-ciri keselamatan pasif. Sungguhpun makmal kerajaan menyelidik bidang yang sama dengan industri, mereka turut mengkaji pelbagai isu lain seperti bahan api nuklear dan kitaran bahan api nuklear, reka bentuk reaktor maju, dan reka bentuk dan penyelenggaraan senjata nuklear. Saluran utama bagi melatih kaki tangan bagi kemudahan reaktor Amerika Syarikat adalah Program Kuasa Nuklear Tentera Laut. Bahan nuklear dan bahan api nuklear. Penyelidikan bahan nuklear tertumpu kepada dua cabang ,bahan api nuklear dan pengubahsuaian bahan penggalak sinaran. Kemajuan dalam teknologi bahan api nuklear amat penting bagi memastikan keselamatan serta kecekapan reaktor nuklear bertambah. Kajian terhadap kesan sinaran kepada bahan dapat menghasilkan bahan baharu dengan ciri-ciri yang berlainan daripada bahan asal. Kebiasaanya sinaran yang digunakan dalam kajian ini dijana oleh pemecut zarah. Pengukuran radiasi dan dosimetri. Jurutera nuklear dan ahli sains radiologi berminat dalam pembangunan sistem pengukuran dan sistem pengesan radiasi mengion lebih maju, dan menggunakannya, antara lain bagi memperbaiki teknologi pengimejan. Ini termasuk reka bentuk pengesan, penghasilan dan analisis, pengukuran asas atom dan tatarajah nuklear, dan sistem pengimejan radiasi. Kejuruteraan Nuklear di Malaysia. Pengajian Fizik Nuklear di Malaysia hanya ditawarkan di Universiti Teknologi Malaysia (UTM) dalam program Sarjana Muda Kejuruteraan Nuklear dengan Kepujian. Kejuruteraan biokimia adalah satu cabang kejuruteraan kimia atau kejuruteraan biologi yang terutamanya berkaitan dengan reka bentuk dan pembinaan unit proses yang melibatkan organisma biologi atau molekul, seperti bioreaktor. Kejuruteraan biokimia sering diajar sebagai pilihan tambahan kepada kejuruteraan kimia atau kejuruteraan biologi yang disebabkan oleh persamaan dalam kedua-dua kurikulum subjek latar belakang dan menyelesaikan masalah teknik yang digunakan oleh kedua-dua profesion. Aplikasinya digunakan dalam makanan, makanan, farmaseutikal, bioteknologi, dan rawatan air.industri. Mikroteknologi adalah teknologi dengan ciri-ciri berhampiran satu mikrometer (1000000 meter, atau 10-6 meter, atau 1μm). Pada tahun-tahun 1960-an, para saintis mengetahui bahawa dengan arraying nombor besar transistor mikroskopik pada cip tunggal, litar mikroelektronik boleh membina bahawa prestasi secara mendadak meningkat, fungsi, dan kebolehpercayaan, semua pada masa yang sama mengurangkan kos dan meningkatkan jumlah. Perkembangan ini membawa kepada Revolusi Maklumat. Baru-baru ini, saintis telah belajar bahawa bukan sahaja alat-alat elektrik, tetapi juga peranti mekanikal, boleh bersaiz kecil dan kelompok-palsu, menjanjikan manfaat yang sama kepada dunia mekanikal seperti teknologi litar bersepadu telah diberikan kepada dunia elektrik. Manakala elektronik kini menyediakan 'otak' untuk sistem produk dan canggih hari ini, peranti micromechanical boleh menyediakan penderia dan penggerak - mata dan telinga, tangan dan kaki - yang mengantaramukakan kepada dunia luar. Hari ini, peranti micromechanical adalah komponen penting dalam pelbagai produk seperti beg udara kereta,-pencetak jet dakwat, monitor tekanan darah, dan sistem paparan unjuran. Nampaknya jelas bahawa pada masa akan datang tidak terlalu jauh, peranti ini akan menjadi seperti yang berleluasa sebagai elektronik. Riang Ria Hari Raya merupakan album kompilasi bertemakan hari raya yang menampilkan beberapa penyanyi terkenal antaranya Jay Jay, Azlina Aziz, Jamal Abdillah, Othman Hamzah, Ramli Sarip, Khatijah Ibrahim, Uji Rashid dan ramai lagi. Album kompilasi ini dihasilkan pada tahun 1985. Eukariot ialah sejenis organisma yang sel-selnya mengandungi struktur-struktur kompleks yang terlindung dalam membran. Eukariot dikenali secara formal dengan nama takson Eukarya atau Eukaryota. Struktur ikatan membran yang membezakan sel eukariot daripada sel prokariot ialah nukleus, atau sampul nukleus yang mengandungi bahan genetik. Malahan, hidupan euk\",\"curigaan akan perkara berkaitan spiritual. Beliau sempat mengikuti mazhab Colorum di Gunung Banahaw. Pada tahun 1902, beliau melakukan penukaran agama daripada Katolik ke Protestan. Setelah itu, ia menjadi penginjil Metodis dan Presbiterian. Pada tahun 1911, ia bergabung dengan Gereja Masehi Advent Hari Ketujuh. Proses pembentukan dan perkembangan INC. Setelah Manalo mengalami pertentangan dengan Gereja Masehi Advent Hari Ketujuh, Manalo mendirikan gereja INC pada tarikh 27 Julai 1914. Berdasarkan Wahyu 7: 2, Manalo menganggap dirinya sebagai malaikat ke-5. Sementara itu, \\\"tempat matahari terbit\\\" dalam Wahyu 7: 2 ini merujuk kepada Filipina. Dengan merujuk juga kepada Yesaya 41: 2, INC percaya bahawa Allah akan membangkitkan seorang pemimpin dari Timur. INC percaya bahawa Manalo adalah Sang Pemimpin yang dinubuatkan dalam Kitab Yesaya itu. Manalo dianggap sebagai utusan Tuhan yang terakhir. Manalo merasa diutus untuk menghidupkan kembali gereja yang benar seperti yang diasaskan oleh Yesus Kristus, kerana gereja Roman Katolik dan Gereja Protestan telah murtad sejak berabad-abad yang lalu. Oleh kerana itu, Manalo selalu mengajarkan bahawa di luar INC tidak ada keselamatan. Setelah Manalo pergi ke Amerika Syarikat pada tahun 1919 untuk mempelajari pelbagai denominasi gereja Protestan, Manalo menyeragamkan doktrin-doktrin bagi gerejanya. Berdasarkan pengajaran Manalo, INC menolak doktrin Trinitas. Mereka menganggap Yesus Kristus bukanlah susuk ilahi. Mereka menolak doktrin Gereja Roman Katolik tentang api penyucian dosa dan noda. Mereka tidak mengakui pembaptisan dari gereja lain selain INC. Setiap jemaah, wajib mengikuti ibadah dua kali dalam seminggu. Pengaruh INC dalam bidang politik juga cukup besar. INC menentukan tokoh mana yang harus dipilih jemaah dalam pemilihan umum Filipina. Oleh kerana itu, para calon pemimpin biasanya mendekati pimpinan INC untuk mendapat pimpinan. Pada tahun 1941, INC sudah ada di seluruh wilayah Luzon dan di Visayas (bahagian Timur) .Akan tetapi, INC masih kurang diminati masyarakat Filipina. Namun, selepas Perang Dunia II, jumlah anggotanya meningkat. INC berjaya menarik simpati masyarakat Filipina kerana INC menjunjung tinggi nasionalisme, bersifat autoritarian, menentang semua hal yang berbaur Barat, dan semua pemimpinnya berasal dari Filipina. Pada tahun 1948, lembaga bancian Filipina melaporkan jumlah anggota INC adalah 125 orang. Pada tahun 1960, lembaga bancian Filipina kembali melaporkan pertambahan bilangan ahli INC yang mencapai tiga kali ganda daripada jumlah pada tahun 1948. Manalo berkhidmat sebagai paderi yang paling utama dari INC hingga kematiannya pada tahun 1963. Selepas kematiannya, INC dipimpin oleh Erano Manalo, anak Felix Manalo, dengan bantuan orang kepercayaannya iaitu Eduardo Manalo. Pengagihan geografi dan keahlian. Menurut laman web rasmi INC, keahlian Iglesia ni Cristo terdiri daripada 114 bangsa. Ia mengekalkan 6272 sidang dan misi dikumpulkan ke dalam 135 daerah gereja di Filipina dan 102 negara-negara lain dan wilayah. Pada tahun 1996, Catholic Answers (Jawapan Katolik), sekumpulan apologetik Katolik, dianggarkan keahlian INC adalah di antara 3 dan 10 juta ahli di seluruh dunia. Pada tahun 2010, banci Filipina oleh National Statistic Office yang menganggarkan 2.45% daripada penduduk Filipina merupakan ahli gabungan Iglesia ni Cristo, menjadikannya mazhab agama ketiga terbesar di negara ini selepas Gereja Katolik dan Islam. Penerimaan dari agama lain. Karl Keating, pengasas Catholic Answers berkata pada tahun 1990 bahawa INC terlibat dalam anti-Katolik dan anti-Protestantisme dalam majalah God's Message. Keating views gereja sebagai yang dibina di atas satu set doktrin anti-Katolik, dan pelajaran mereka, serta mereka majalah God's Message berdedikasi lebih untuk membongkar kepercayaan dan ajaran-ajaran Katolik dan Protestan daripada untuk menjelaskan kedudukan mereka sendiri. Let Us Reason Ministries, kumpulan penyelidikan apologetik dalam talian, telah mencabar doktrin Iglesia ni Cristo bahawa kita hanya boleh menerima keselamatan jika mereka adalah ahli INC, dan untuk mengatakan bahawa INC mempunyai kuasa yang mutlak dari Tuhan untuk mentafsir dan memberitakan Alkitab, manakala agama-agama lain tidak. Mereka juga mengatakan bahawa Iglesia ni Cristo salah menafsirkan ayat-ayat Alkitab untuk memenuhi doktrin mereka. Amirulhakim Ahmad Lokman (Jawi: أميرولحاكيم أحمد لقمان dilahirkan pada 22 September 1991 di Taiping, Perak yang membesar di Kuching, Sarawak, Malaysia) ialah seorang penyampai berita, wartawan penyiaran dan bekas pelakon lelaki Malaysia. Beliau dikenali dengan watak Drama TV pertamanya sebagai \\\"Anding\\\" dalam Waktu Rehat oleh Disney. Kerjaya. Amirul Hakim memulakan kerjaya awalnya di TV Pendidikan (yang kini tidak beroperasi lagi) milik Bahagian Teknologi Pendidikan, Kementerian Pendidikan Malaysia pada 2009 di mana beliau muncul dalam rancangan mata pelajaran Bahasa Melayu Tingkatan 2 - Kata Hampir Sama Makna bersama Amyra Rosli (kini pelakon) dan Ahmad Fitri Nordin. Kumpulan Mujahidin Malaysia (KMM) adalah sebuah pertubuhan pengganas yang disokong yang menggulingkan kerajaan Mahathir dan untuk mewujudkan sebuah negara Islam yang pan-w\"]}\r\n"
     ]
    }
   ],
   "source": [
    "!head -n 3 mixtral-malaysian-rag-pair.jsonl"
   ]
  },
  {
   "cell_type": "code",
   "execution_count": 48,
   "id": "00050fd0",
   "metadata": {},
   "outputs": [
    {
     "name": "stdout",
     "output_type": "stream",
     "text": [
      "Filesystem      Size  Used Avail Use% Mounted on\r\n",
      "overlay         124G   90G   35G  72% /\r\n",
      "tmpfs            64M     0   64M   0% /dev\r\n",
      "/dev/sdc        984G  612G  372G  63% /home/ubuntu\r\n",
      "/dev/sdd        9.8G  131M  9.7G   2% /dev/shm\r\n",
      "/dev/root       124G   90G   35G  72% /etc/hosts\r\n",
      "tmpfs           205G   12K  205G   1% /run/secrets/kubernetes.io/serviceaccount\r\n",
      "tmpfs           109G   12K  109G   1% /proc/driver/nvidia\r\n",
      "tmpfs            44G  185M   44G   1% /run/nvidia-persistenced/socket\r\n",
      "tmpfs           109G     0  109G   0% /proc/acpi\r\n",
      "tmpfs           109G     0  109G   0% /proc/scsi\r\n",
      "tmpfs           109G     0  109G   0% /sys/firmware\r\n"
     ]
    }
   ],
   "source": [
    "!df -h"
   ]
  },
  {
   "cell_type": "code",
   "execution_count": 51,
   "id": "33e9a05f",
   "metadata": {},
   "outputs": [],
   "source": [
    "!split -b 10G -d --additional-suffix=.splitted mixtral-malaysian-rag-pair.jsonl mixtral-malaysian-rag-pair.jsonl"
   ]
  },
  {
   "cell_type": "code",
   "execution_count": 55,
   "id": "5e4d8c54",
   "metadata": {},
   "outputs": [],
   "source": [
    "from huggingface_hub import HfApi\n",
    "api = HfApi()"
   ]
  },
  {
   "cell_type": "code",
   "execution_count": 57,
   "id": "74cc24df",
   "metadata": {},
   "outputs": [
    {
     "data": {
      "application/vnd.jupyter.widget-view+json": {
       "model_id": "ca5aa31154734aaf9a11ade56b27cd14",
       "version_major": 2,
       "version_minor": 0
      },
      "text/plain": [
       "mixtral-malaysian-rag-pair.jsonl08.splitted:   0%|          | 0.00/10.7G [00:00<?, ?B/s]"
      ]
     },
     "metadata": {},
     "output_type": "display_data"
    },
    {
     "data": {
      "application/vnd.jupyter.widget-view+json": {
       "model_id": "6e9ea88227104b2b89abea9f5974c3a3",
       "version_major": 2,
       "version_minor": 0
      },
      "text/plain": [
       "mixtral-malaysian-rag-pair.jsonl05.splitted:   0%|          | 0.00/10.7G [00:00<?, ?B/s]"
      ]
     },
     "metadata": {},
     "output_type": "display_data"
    },
    {
     "data": {
      "application/vnd.jupyter.widget-view+json": {
       "model_id": "259d8676fb01453fa5c554244a5a810a",
       "version_major": 2,
       "version_minor": 0
      },
      "text/plain": [
       "mixtral-malaysian-rag-pair.jsonl03.splitted:   0%|          | 0.00/10.7G [00:00<?, ?B/s]"
      ]
     },
     "metadata": {},
     "output_type": "display_data"
    },
    {
     "data": {
      "application/vnd.jupyter.widget-view+json": {
       "model_id": "ce35c989928842638a229287c78707ea",
       "version_major": 2,
       "version_minor": 0
      },
      "text/plain": [
       "mixtral-malaysian-rag-pair.jsonl06.splitted:   0%|          | 0.00/10.7G [00:00<?, ?B/s]"
      ]
     },
     "metadata": {},
     "output_type": "display_data"
    },
    {
     "data": {
      "application/vnd.jupyter.widget-view+json": {
       "model_id": "baa91a3dde5740bd8bda0c4504646907",
       "version_major": 2,
       "version_minor": 0
      },
      "text/plain": [
       "mixtral-malaysian-rag-pair.jsonl07.splitted:   0%|          | 0.00/10.7G [00:00<?, ?B/s]"
      ]
     },
     "metadata": {},
     "output_type": "display_data"
    },
    {
     "data": {
      "application/vnd.jupyter.widget-view+json": {
       "model_id": "402fdfcd1f4b4a0998fc6bc656bcc5d4",
       "version_major": 2,
       "version_minor": 0
      },
      "text/plain": [
       "mixtral-malaysian-rag-pair.jsonl04.splitted:   0%|          | 0.00/10.7G [00:00<?, ?B/s]"
      ]
     },
     "metadata": {},
     "output_type": "display_data"
    },
    {
     "data": {
      "application/vnd.jupyter.widget-view+json": {
       "model_id": "7f7300cc46b84a69a9e6e5210f27d74a",
       "version_major": 2,
       "version_minor": 0
      },
      "text/plain": [
       "mixtral-malaysian-rag-pair.jsonl10.splitted:   0%|          | 0.00/2.03G [00:00<?, ?B/s]"
      ]
     },
     "metadata": {},
     "output_type": "display_data"
    },
    {
     "data": {
      "application/vnd.jupyter.widget-view+json": {
       "model_id": "0f0ef0a510b34671b730b60f8fbb2958",
       "version_major": 2,
       "version_minor": 0
      },
      "text/plain": [
       "mixtral-malaysian-rag-pair.jsonl01.splitted:   0%|          | 0.00/10.7G [00:00<?, ?B/s]"
      ]
     },
     "metadata": {},
     "output_type": "display_data"
    },
    {
     "data": {
      "application/vnd.jupyter.widget-view+json": {
       "model_id": "30f6350e72a447abb631bfbd1589a74e",
       "version_major": 2,
       "version_minor": 0
      },
      "text/plain": [
       "mixtral-malaysian-rag-pair.jsonl02.splitted:   0%|          | 0.00/10.7G [00:00<?, ?B/s]"
      ]
     },
     "metadata": {},
     "output_type": "display_data"
    },
    {
     "data": {
      "application/vnd.jupyter.widget-view+json": {
       "model_id": "3bc46d3864c249c98ee73ff715a3d24a",
       "version_major": 2,
       "version_minor": 0
      },
      "text/plain": [
       "mixtral-malaysian-rag-pair.jsonl09.splitted:   0%|          | 0.00/10.7G [00:00<?, ?B/s]"
      ]
     },
     "metadata": {},
     "output_type": "display_data"
    },
    {
     "data": {
      "application/vnd.jupyter.widget-view+json": {
       "model_id": "ae05c5900d1141079fa28eb942e2a6f7",
       "version_major": 2,
       "version_minor": 0
      },
      "text/plain": [
       "mixtral-malaysian-rag-pair.jsonl00.splitted:   0%|          | 0.00/10.7G [00:00<?, ?B/s]"
      ]
     },
     "metadata": {},
     "output_type": "display_data"
    }
   ],
   "source": [
    "for f in glob('mixtral-malaysian-rag-pair.jsonl*.splitted'):\n",
    "    api.upload_file(\n",
    "        path_or_fileobj=f,\n",
    "        path_in_repo=f,\n",
    "        repo_id='mesolitica/instructions-pair-mining',\n",
    "        repo_type='dataset',\n",
    ")"
   ]
  },
  {
   "cell_type": "code",
   "execution_count": 60,
   "id": "0cc9a3ba",
   "metadata": {},
   "outputs": [],
   "source": [
    "!rm mixtral-malaysian-rag-pair.jsonl*"
   ]
  }
 ],
 "metadata": {
  "kernelspec": {
   "display_name": "Python 3 (ipykernel)",
   "language": "python",
   "name": "python3"
  },
  "language_info": {
   "codemirror_mode": {
    "name": "ipython",
    "version": 3
   },
   "file_extension": ".py",
   "mimetype": "text/x-python",
   "name": "python",
   "nbconvert_exporter": "python",
   "pygments_lexer": "ipython3",
   "version": "3.10.12"
  }
 },
 "nbformat": 4,
 "nbformat_minor": 5
}
