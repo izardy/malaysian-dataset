{
 "cells": [
  {
   "cell_type": "code",
   "execution_count": 6,
   "id": "ec263304",
   "metadata": {},
   "outputs": [],
   "source": [
    "# !wget https://huggingface.co/datasets/mesolitica/chatgpt-malaysian-qa-choice/resolve/main/qa-ms-wikipedia.jsonl"
   ]
  },
  {
   "cell_type": "code",
   "execution_count": 14,
   "id": "08b38001",
   "metadata": {},
   "outputs": [],
   "source": [
    "import json\n",
    "import random\n",
    "import re\n",
    "\n",
    "def clean(string):\n",
    "    string = re.sub('[^A-Za-z ]+', ' ', string.lower())\n",
    "    string = re.sub(r'[ ]+', ' ', string).strip()\n",
    "    return string\n",
    "\n",
    "def overlap(string1, string2):\n",
    "    l = set([w for w in clean(string1).split() if len(w) > 2])\n",
    "    r = set([w for w in clean(string2).split() if len(w) > 2])\n",
    "    return len(l & r) / len(l)"
   ]
  },
  {
   "cell_type": "code",
   "execution_count": 8,
   "id": "b13418a0",
   "metadata": {},
   "outputs": [],
   "source": [
    "data = []\n",
    "with open('qa-ms-wikipedia.jsonl') as fopen:\n",
    "    for l in fopen:\n",
    "        data.append(json.loads(l))"
   ]
  },
  {
   "cell_type": "code",
   "execution_count": 9,
   "id": "ec7d110d",
   "metadata": {},
   "outputs": [
    {
     "data": {
      "text/plain": [
       "8217"
      ]
     },
     "execution_count": 9,
     "metadata": {},
     "output_type": "execute_result"
    }
   ],
   "source": [
    "len(data)"
   ]
  },
  {
   "cell_type": "code",
   "execution_count": 10,
   "id": "af6d4848",
   "metadata": {},
   "outputs": [
    {
     "data": {
      "text/plain": [
       "{'paragraph': 'pertanian yang utama adalah jagung, kapas, tembakau, gandum, kopi dan tebu. Zimbabwe adalah kerajaan berpusat dan terbahagi kepada lapan wilayah dan dua bandar raya dengan status wilayah untuk tujuan pentadbiran. Setiap wilayah pula mempunyai ibu negerinya yang tersendiri di mana perniagaan rasmi dijalankan. Nama-nama sebahagian besar wilayah dihasilkan daripada perpecahan Mashonaland dan Matabeleland semasa penjajahan: Mashonaland adalah wilayah yang pertama sekali diduduki Syarikat Afrika Selatan British Pioneer Column dan Matabeleland pula ialah wilayah yang ditakluki semasa Perang Matabele Pertama. Ini sejajar dengan wilayah pra-kolonial orang Shona dan orang Matabele, walaupun terdapat etnik minoriti yang signifikan di kebanyakan wilayah. Setiap provinsi diketuai oleh seorang Gabenor Wilayah, yang dilantik oleh Presiden. Pemerintah wilayah dikendalikan oleh Pentadbir Provinsi, yang dilantik oleh Suruhanjaya Perkhidmatan Awam. Fungsi pemerintahan lain di tingkat provinsi dilaksanakan oleh pejabat wilayah jabatan pemerintah nasional. Wilayah-wilayah pula dibahagikan kepada 59 daerah dan 1,200 mukim atau \"ward\" (kadang-kadang disebut sebagai munisipal). Setiap daerah diketuai oleh Pentadbir Daerah, yang dilantik oleh Suruhanjaya Perkhidmatan Awam. Terdapat juga Majlis Daerah Luar Bandar, yang melantik Ketua Pegawai Eksekutif. Majlis Daerah Luar Bandar terdiri daripada ahli majlis munisipal yang terpilih, Pentadbir Daerah dan satu wakil ketua (pemimpin tradisional yang dilantik berdasarkan undang-undang adat) di daerah tersebut. Fungsi pemerintahan lain di peringkat daerah dilaksanakan oleh pejabat daerah jabatan pemerintah nasional. Bulan Jun adalah bulan paling sejuk dan Oktober paling panas; variasi suhu bergantung pada altitud. Zimbabwe, yang terletak di utara Tropic of Capricorn, berada sepenuhnya di kawasan tropika tetapi menikmati iklim subtropika kerana secara puratanya ia berada di ketinggian yang tinggi. Menjelang akhir bulan-bulan yang panas dan kering, yang berlaku dari bulan Ogos hingga Oktober, angin monsun yang melintasi Lautan Hindi dan Mozambique mengakibatkan hujan orografik yang kuat ketika mereka bertemu dengan benteng yang dibentuk oleh tanah tinggi timur. Akibatnya, kawasan timur menerima curahan hujan paling lebat di negara ini dan mengalami musim hujan yang lebih lama (berlangsung dari Oktober hingga April) berbanding kawasan Zimbabwe yang lain. Galian (termasuk emas) dan pertanian adalah eksport utama Zimbabwe. Pelancongan juga memainkan peranan penting dalam ekonomi negara. Sektor perlombongan masih tetap memberi pulangan lumayan, dengan beberapa rizab platinum terbesar di dunia dilombong oleh Anglo American plc dan Impala Platinum. Ladang berlian di Marange, yang ditemui pada tahun 2006, dianggap sebagai penemuan berlian terbesar dalam lebih dari satu abad. Mereka berpotensi untuk memperbaiki keadaan fiskal negara, tetapi hampir semua pendapatan dari ladang ini telah hilang ke dalam kantong pegawai tentera dan ahli politik Zanu-PF. Dari segi karat yang dihasilkan, ladang Marange adalah salah satu projek menghasilkan berlian terbesar di dunia, dianggarkan menghasilkan 12 juta karat pada tahun 2014 bernilai lebih dari $ 350 juta. Zimbabwe adalah rakan dagang terbesar Afrika Selatan di benua Afrika. Cukai dan tarif tinggi dikenakan untuk perusahaan swasta, manakala perusahaan negeri menerima subsidi yang banyak. Regulasi negara adalah mahal bagi syarikat; memulakan atau menutup perniagaan mengambil masa yang lama dan mahal. Perbelanjaan kerajaan dijangka mencapai 67% daripada KDNK pada tahun 2007. Pelancongan adalah industri penting bagi negara ini, tetapi kegiatannya telah menurun sejak beberapa tahun lepas. Pasukan Petugas Konservasi Zimbabwe mengeluarkan laporan pada bulan Jun 2007, yang menganggarkan 60% hidupan liar Zimbabwe telah mati sejak tahun 2000 akibat perburuan liar dan penebangan hutan. Laporan itu memberi amaran bahawa kehilangan nyawa yang digabungkan dengan penebangan hutan yang berleluasa berpotensi menjadi bencana bagi industri pelancongan. Sektor ICT Zimbabwe telah berkembang dengan pesat. Laporan oleh syarikat pelayar internet mudah alih, Opera, pada bulan Jun / Julai 2011 telah menjadikan Zimbabwe sebagai pasaran yang paling pesat berkembang di Afrika. Sejak 1 Januari 2002, pemerintah Zimbabwe telah dibekukan kreditnya di institusi kewangan antarabangsa, melalui undang-undang Amerika yang dipanggil Zimbabwe Democracy and Economic Recovery Act (ZDERA) 2001. Seksyen 4C mengarahkan Setiausaha Perbendaharaan AS untuk meminta pengarah di institusi kewangan antarabangsa untuk memveto penyambungan pinjaman dan kredit kepada pemerintah Zimbabwe. Menurut Amerika Syarikat, sekatan ini hanya mensasarkan tujuh perniagaan tertentu yang dimiliki atau dikendalikan oleh pegawai pemerintah dan bukan rakyat biasa. Zimbabwe mengekalkan pertumbuhan ekonomi yang positif sepanjang tahun 1980-an (pertumbuhan KDNK 5% setiap tahun) dan tahun 1990-an (pertumbuhan KDNK 4,3% per tahun). Ekonomi merosot dari tahun 2000: penurunan 5% pada tahun 2000, 8% pada tahun 2001, 12% pada tahun 2002 dan 18% pada tahun 2003. Penglibatan Zimbabwe dari tahun 1998 hingga 2002 dalam perang di Republik Demokratik Congo telah menelan belanja sebanyak ratusan juta dolar dan ini telah menjejaskan ekonomi negara. Dari tahun 1999 hingga 2009, Zimbabwe menyaksikan pertumbuhan ekonomi terendah dengan penurunan KDNK tahunan sebanyak 6.1%. Antara faktor utama kejatuhan ekonomi adalah disebabkan salah urus dan rasuah dalam kalangan kerajaan dan pengusiran lebih daripada 4.000 petani kulit putih dalam penyitaan tanah kontroversi tahun 2000. Pemerintah Zimbabwe dan para penyokongnya mendakwa pihak Barat menghukum Zimbabwe untuk membalas pengusiran kaum kerabat kulit putih yang telah mensabotaj ekonomi. Menjelang tahun 2005, rata-rata daya beli rakyat Zimbabwe telah menurun ke tahap yang sama dalam keadaan sebenar seperti tahun 1953. Pada tahun 2005, pemerintah, yang dipimpin oleh gabenor bank pusat, Gideon Gono, mula membuat tawaran agar petani kulit putih dapat kembali. Masih ada 400 hingga 500 yang tinggal di negara ini, tetapi sebahagian besar tanah yang telah disita tidak lagi produktif. Menjelang 2016, terdapat sekitar 300 ladang milik petani putih yang masih beroperasi daripada 4.500 ladang asal. Ladang yang ditinggalkan terlalu jauh atau pemiliknya telah membayar perlindungan atau bekerjasama dengan rejim. Pada Januari 2007, pemerintah mengeluarkan pajakan jangka panjang kepada beberapa petani berkulit putih. Namun, pada waktu yang sama, pemerintah juga terus menuntut agar semua petani kulit putih yang masih ada, yang diberi pemberitahuan pengusiran sebelumnya, untuk mengosongkan tanah atau berisiko ditangkap. Mugabe kemudiannya telah menuding jari kepada pemerintah asing dan menuduh mereka melakukan \"sabotaj\" yang menyebabkan kejatuhan ekonomi Zimbabwe, serta kadar pengangguran rasmi mencecah 80% di negara itu. Inflasi meningkat dari kadar tahunan 32% pada tahun 1998, menjadi anggaran rasmi setinggi 11,200,000% pada bulan Ogos 2008 menurut Pejabat Statistik Pusat negara. Ini mewakili keadaan hiperinflasi, dan bank pusat memperkenalkan nota baru 100 trilion dollar pada tahun itu. Pada 29 Januari 2009, dalam usaha untuk mengatasi inflasi yang tak terkawal, pemangku Menteri Kewangan Patrick Chinamasa mengumumkan bahawa orang',\n",
       " 'url': 'https://ms.wikipedia.org/wiki?curid=3744',\n",
       " 'qa': {'qa': [{'question': 'Apakah nama-nama sebahagian besar wilayah di Zimbabwe?',\n",
       "    'A': 'Mashonaland dan Matabeleland',\n",
       "    'B': 'Jagung, kapas, tembakau, gandum, kopi dan tebu',\n",
       "    'C': 'Syarikat Afrika Selatan British Pioneer Column',\n",
       "    'D': 'Perang Matabele Pertama',\n",
       "    'answer': 'A'},\n",
       "   {'question': 'Siapakah yang dilantik sebagai Gabenor Wilayah di setiap provinsi di Zimbabwe?',\n",
       "    'A': 'Presiden',\n",
       "    'B': 'Suruhanjaya Perkhidmatan Awam',\n",
       "    'C': 'Syarikat Afrika Selatan British Pioneer Column',\n",
       "    'D': 'Pentadbir Provinsi',\n",
       "    'answer': 'A'},\n",
       "   {'question': 'Berapa banyak daerah dan mukim di Zimbabwe?',\n",
       "    'A': '59 daerah dan 1,200 mukim',\n",
       "    'B': '8 wilayah dan 2 bandar raya',\n",
       "    'C': '67% daripada KDNK',\n",
       "    'D': 'Ladang Marange',\n",
       "    'answer': 'A'},\n",
       "   {'question': 'Apakah sektor ekonomi utama Zimbabwe?',\n",
       "    'A': 'Pertanian dan galian',\n",
       "    'B': 'Pelancongan dan pertanian',\n",
       "    'C': 'Perlombongan dan pertanian',\n",
       "    'D': 'Gandum dan kopi',\n",
       "    'answer': 'C'}]}}"
      ]
     },
     "execution_count": 10,
     "metadata": {},
     "output_type": "execute_result"
    }
   ],
   "source": [
    "data[0]"
   ]
  },
  {
   "cell_type": "code",
   "execution_count": 11,
   "id": "b2eddc16",
   "metadata": {},
   "outputs": [],
   "source": [
    "indices = {i for i in range(len(data))}"
   ]
  },
  {
   "cell_type": "code",
   "execution_count": 15,
   "id": "ba453807",
   "metadata": {},
   "outputs": [
    {
     "name": "stderr",
     "output_type": "stream",
     "text": [
      "100%|████████████████████████████████████████████████████████████████████████████████████████████████████████████████| 8217/8217 [02:29<00:00, 55.11it/s]\n"
     ]
    }
   ],
   "source": [
    "from tqdm import tqdm\n",
    "\n",
    "pairs = []\n",
    "for i in tqdm(range(len(data))):\n",
    "    query = data[i]['paragraph']\n",
    "    \n",
    "    for s in data[i]['qa']['qa']:\n",
    "        pos = [query]\n",
    "        sampled = random.sample(list(indices - {i}), 100)\n",
    "        neg = []\n",
    "        for k in sampled:\n",
    "            try:\n",
    "                overlapped = overlap(query, data[k]['paragraph'])\n",
    "                if overlapped < 0.3:\n",
    "                    neg.append(data[k]['paragraph'])\n",
    "                if len(neg) >= 5:\n",
    "                    break\n",
    "            except:\n",
    "                pass\n",
    "            \n",
    "        pairs.append({\n",
    "            'query': s['question'],\n",
    "            'pos': pos,\n",
    "            'neg': neg\n",
    "        })"
   ]
  },
  {
   "cell_type": "code",
   "execution_count": 19,
   "id": "bc132fff",
   "metadata": {
    "scrolled": true
   },
   "outputs": [
    {
     "data": {
      "text/plain": [
       "41793"
      ]
     },
     "execution_count": 19,
     "metadata": {},
     "output_type": "execute_result"
    }
   ],
   "source": [
    "len(pairs)"
   ]
  },
  {
   "cell_type": "code",
   "execution_count": 20,
   "id": "cdc06fe1",
   "metadata": {},
   "outputs": [
    {
     "data": {
      "text/plain": [
       "{'query': 'Apakah nama-nama sebahagian besar wilayah di Zimbabwe?',\n",
       " 'pos': ['pertanian yang utama adalah jagung, kapas, tembakau, gandum, kopi dan tebu. Zimbabwe adalah kerajaan berpusat dan terbahagi kepada lapan wilayah dan dua bandar raya dengan status wilayah untuk tujuan pentadbiran. Setiap wilayah pula mempunyai ibu negerinya yang tersendiri di mana perniagaan rasmi dijalankan. Nama-nama sebahagian besar wilayah dihasilkan daripada perpecahan Mashonaland dan Matabeleland semasa penjajahan: Mashonaland adalah wilayah yang pertama sekali diduduki Syarikat Afrika Selatan British Pioneer Column dan Matabeleland pula ialah wilayah yang ditakluki semasa Perang Matabele Pertama. Ini sejajar dengan wilayah pra-kolonial orang Shona dan orang Matabele, walaupun terdapat etnik minoriti yang signifikan di kebanyakan wilayah. Setiap provinsi diketuai oleh seorang Gabenor Wilayah, yang dilantik oleh Presiden. Pemerintah wilayah dikendalikan oleh Pentadbir Provinsi, yang dilantik oleh Suruhanjaya Perkhidmatan Awam. Fungsi pemerintahan lain di tingkat provinsi dilaksanakan oleh pejabat wilayah jabatan pemerintah nasional. Wilayah-wilayah pula dibahagikan kepada 59 daerah dan 1,200 mukim atau \"ward\" (kadang-kadang disebut sebagai munisipal). Setiap daerah diketuai oleh Pentadbir Daerah, yang dilantik oleh Suruhanjaya Perkhidmatan Awam. Terdapat juga Majlis Daerah Luar Bandar, yang melantik Ketua Pegawai Eksekutif. Majlis Daerah Luar Bandar terdiri daripada ahli majlis munisipal yang terpilih, Pentadbir Daerah dan satu wakil ketua (pemimpin tradisional yang dilantik berdasarkan undang-undang adat) di daerah tersebut. Fungsi pemerintahan lain di peringkat daerah dilaksanakan oleh pejabat daerah jabatan pemerintah nasional. Bulan Jun adalah bulan paling sejuk dan Oktober paling panas; variasi suhu bergantung pada altitud. Zimbabwe, yang terletak di utara Tropic of Capricorn, berada sepenuhnya di kawasan tropika tetapi menikmati iklim subtropika kerana secara puratanya ia berada di ketinggian yang tinggi. Menjelang akhir bulan-bulan yang panas dan kering, yang berlaku dari bulan Ogos hingga Oktober, angin monsun yang melintasi Lautan Hindi dan Mozambique mengakibatkan hujan orografik yang kuat ketika mereka bertemu dengan benteng yang dibentuk oleh tanah tinggi timur. Akibatnya, kawasan timur menerima curahan hujan paling lebat di negara ini dan mengalami musim hujan yang lebih lama (berlangsung dari Oktober hingga April) berbanding kawasan Zimbabwe yang lain. Galian (termasuk emas) dan pertanian adalah eksport utama Zimbabwe. Pelancongan juga memainkan peranan penting dalam ekonomi negara. Sektor perlombongan masih tetap memberi pulangan lumayan, dengan beberapa rizab platinum terbesar di dunia dilombong oleh Anglo American plc dan Impala Platinum. Ladang berlian di Marange, yang ditemui pada tahun 2006, dianggap sebagai penemuan berlian terbesar dalam lebih dari satu abad. Mereka berpotensi untuk memperbaiki keadaan fiskal negara, tetapi hampir semua pendapatan dari ladang ini telah hilang ke dalam kantong pegawai tentera dan ahli politik Zanu-PF. Dari segi karat yang dihasilkan, ladang Marange adalah salah satu projek menghasilkan berlian terbesar di dunia, dianggarkan menghasilkan 12 juta karat pada tahun 2014 bernilai lebih dari $ 350 juta. Zimbabwe adalah rakan dagang terbesar Afrika Selatan di benua Afrika. Cukai dan tarif tinggi dikenakan untuk perusahaan swasta, manakala perusahaan negeri menerima subsidi yang banyak. Regulasi negara adalah mahal bagi syarikat; memulakan atau menutup perniagaan mengambil masa yang lama dan mahal. Perbelanjaan kerajaan dijangka mencapai 67% daripada KDNK pada tahun 2007. Pelancongan adalah industri penting bagi negara ini, tetapi kegiatannya telah menurun sejak beberapa tahun lepas. Pasukan Petugas Konservasi Zimbabwe mengeluarkan laporan pada bulan Jun 2007, yang menganggarkan 60% hidupan liar Zimbabwe telah mati sejak tahun 2000 akibat perburuan liar dan penebangan hutan. Laporan itu memberi amaran bahawa kehilangan nyawa yang digabungkan dengan penebangan hutan yang berleluasa berpotensi menjadi bencana bagi industri pelancongan. Sektor ICT Zimbabwe telah berkembang dengan pesat. Laporan oleh syarikat pelayar internet mudah alih, Opera, pada bulan Jun / Julai 2011 telah menjadikan Zimbabwe sebagai pasaran yang paling pesat berkembang di Afrika. Sejak 1 Januari 2002, pemerintah Zimbabwe telah dibekukan kreditnya di institusi kewangan antarabangsa, melalui undang-undang Amerika yang dipanggil Zimbabwe Democracy and Economic Recovery Act (ZDERA) 2001. Seksyen 4C mengarahkan Setiausaha Perbendaharaan AS untuk meminta pengarah di institusi kewangan antarabangsa untuk memveto penyambungan pinjaman dan kredit kepada pemerintah Zimbabwe. Menurut Amerika Syarikat, sekatan ini hanya mensasarkan tujuh perniagaan tertentu yang dimiliki atau dikendalikan oleh pegawai pemerintah dan bukan rakyat biasa. Zimbabwe mengekalkan pertumbuhan ekonomi yang positif sepanjang tahun 1980-an (pertumbuhan KDNK 5% setiap tahun) dan tahun 1990-an (pertumbuhan KDNK 4,3% per tahun). Ekonomi merosot dari tahun 2000: penurunan 5% pada tahun 2000, 8% pada tahun 2001, 12% pada tahun 2002 dan 18% pada tahun 2003. Penglibatan Zimbabwe dari tahun 1998 hingga 2002 dalam perang di Republik Demokratik Congo telah menelan belanja sebanyak ratusan juta dolar dan ini telah menjejaskan ekonomi negara. Dari tahun 1999 hingga 2009, Zimbabwe menyaksikan pertumbuhan ekonomi terendah dengan penurunan KDNK tahunan sebanyak 6.1%. Antara faktor utama kejatuhan ekonomi adalah disebabkan salah urus dan rasuah dalam kalangan kerajaan dan pengusiran lebih daripada 4.000 petani kulit putih dalam penyitaan tanah kontroversi tahun 2000. Pemerintah Zimbabwe dan para penyokongnya mendakwa pihak Barat menghukum Zimbabwe untuk membalas pengusiran kaum kerabat kulit putih yang telah mensabotaj ekonomi. Menjelang tahun 2005, rata-rata daya beli rakyat Zimbabwe telah menurun ke tahap yang sama dalam keadaan sebenar seperti tahun 1953. Pada tahun 2005, pemerintah, yang dipimpin oleh gabenor bank pusat, Gideon Gono, mula membuat tawaran agar petani kulit putih dapat kembali. Masih ada 400 hingga 500 yang tinggal di negara ini, tetapi sebahagian besar tanah yang telah disita tidak lagi produktif. Menjelang 2016, terdapat sekitar 300 ladang milik petani putih yang masih beroperasi daripada 4.500 ladang asal. Ladang yang ditinggalkan terlalu jauh atau pemiliknya telah membayar perlindungan atau bekerjasama dengan rejim. Pada Januari 2007, pemerintah mengeluarkan pajakan jangka panjang kepada beberapa petani berkulit putih. Namun, pada waktu yang sama, pemerintah juga terus menuntut agar semua petani kulit putih yang masih ada, yang diberi pemberitahuan pengusiran sebelumnya, untuk mengosongkan tanah atau berisiko ditangkap. Mugabe kemudiannya telah menuding jari kepada pemerintah asing dan menuduh mereka melakukan \"sabotaj\" yang menyebabkan kejatuhan ekonomi Zimbabwe, serta kadar pengangguran rasmi mencecah 80% di negara itu. Inflasi meningkat dari kadar tahunan 32% pada tahun 1998, menjadi anggaran rasmi setinggi 11,200,000% pada bulan Ogos 2008 menurut Pejabat Statistik Pusat negara. Ini mewakili keadaan hiperinflasi, dan bank pusat memperkenalkan nota baru 100 trilion dollar pada tahun itu. Pada 29 Januari 2009, dalam usaha untuk mengatasi inflasi yang tak terkawal, pemangku Menteri Kewangan Patrick Chinamasa mengumumkan bahawa orang'],\n",
       " 'neg': [\"Sejarah penglibatan Cikgu Abdul Majid Mat Isa dalam Silat Gayong bermula pada bulan 20hb Jun 1956 ketika beliau berusia 18 tahun di bawah tunjuk ajar Meor Abdul Aziz, abang kandung Dato' Meor Abdul Rahman bin Uda Mohd Hashim. Antara yang turut serta ialah Abdul Hamid, Abdul Rahman (abang Cikgu Abdul Majid) dan orang-orang kampung seramai 14 orang. Seterusnya gelangang tersebut dikelolakan oleh Ismail Mansur dari Pulau Pinang. Setelah enam bulan berlalu, gelanggang tersebut diambil alih pula oleh Kamari Melan dari Singapura. Semasa Dato' Meor Abdul Rahman bersama Dato' Onn Jaafar melawat ke gelanggang tersebut, persembahan Abdul Majid bersama dua rakan pelatihnya Ramli Ibrahim dan Ramli Maarof telah mengkagumkan kedua-dua pelawat tersebut. Bertolak dari lawatan tersebut, Dato' Onn telah meeminta Abdul Majid dan dua rakanya itu untuk mengikuti kursus lanjutan Seni Silat Gayong di Gelanggang Gayong Lorong Fatimah, Woodlands, Singapura. Beliau juga turut berlajar daripada Dato' Meor Abdul Rahman, ayahandanya Daeng Uda Mohd Hashim serta Tuan Guru Hj Hussein Dol. Setelah genap setahun, Abdul Majid diarahkan kembali ke Kedah kerana diamanahkan oleh Pertubuhan Seni Silat Gayong Malaysia untuk mengembangkan silat tersebut ke seluruh negeri Kedah. Dari asuhan Cikgu Abdul Majid lahirlah kumpulan jurulatih handalan tanahair seperti Cikgu Awang Daud, Cikgu Ismail Chik, Cikgu Ahmad Lazim, Cikgu Adiwijaya dan Cikgu Ahmad Ismail. Pada awal tahun 1960, Cikgu Abdul Majid, sekali lagi ke Singapura menjalani latihan seni senjata di bawah bimbingan Cikgu Nordin Abdul Rahman. Turut mengajar ialah Cikgu Siti Aishah Meor Abdul Rahman, anak perempuan Dato' Meor Abdul Rahman yang pakar bermain kain 'cindai'. Pada tahun 1978, akibat daripada pergeseran di kalangan ahli-ahli Silat Gayong, Dato' Meor Abdul Rahman telah menarik jawatan Guru Kanan Tertinggi daripada Cikgu Abdul Majid. Pada tahun 1978 juga, beliau telah mengasaskan Pertubuhan Seni Silat Pusaka Gayong Malaysia.\",\n",
       "  'Dwight David Eisenhower () atau dikenali juga dengan nama panggilan Ike ialah Presiden Amerika Syarikat ke-34 yang berkhidmat dari tahun 1953 hingga 1961. Pada Perang Dunia II, beliau adalah Pemerintah Tertinggi Angkatan Bersekutu di Eropah dengan pangkat \"General of the Army\" (Jeneral Angkatan Darat). Pada 3 Januari 1959, beliau merasmikan penetapan Alaska sebagai negeri yang ke-49 yang merupakan wilayah terluas di Amerika. Eisenhower adalah satu-satunya presiden yang pernah berkhidmat dalam Perang Dunia I mahupun Perang Dunia II. Dwight D. Eisenhower dilahirkan di Denison, Texas, pada 14 Oktober 1890. Sebelum menjadi Presiden Amerika ke-34, Dwight Eisenhower telah mempunyai kerjaya yang kukuh bidang ketenteraan. Beliau amat mahir dalam menjalankan tugasnya sebagai anggota staf, dan ia menjalankan tugas di bawah tiga Jeneral, antara lain Jeneral Douglas MacArthur. Setelah Jepun menyerang Pearl Harbor di Hawaii, pada Disember 1940, Ketua Turus Tentera Darat Amerika Syarikat Jeneral George Marshall, mengangkat Dwight Eisenhower menjadi Ketua Bahagian Perancangan Perang, dan kemudian menjadi Asisten Ketua Staf Bahagian Operasi. Tak lama sesudah itu, beliau naik pangkat menjadi Mejar Jeneral. Pada November 1942 sebagai Leftenan Jeneral, Dwight Eisenhower memimpin pendaratan tentera bersekutu di Afrika Utara. Pada 1944, beliau diangkat menjadi Pemerintah Tertinggi Angkatan Ekspedisi Bersekutu yang menyerang Perancis. Serangan itu akhirnya menghasilkan penyerahan kalah Jerman pada 8 Mei 1945. Sesudah perang, Dwight Eisenhower berturut-turut menjadi Ketua Turus Tentera Darat Amerika Syarikat, Presiden Universiti Columbia di New York, dan Panglima Tertinggi Pertubuhan Perjanjian Atlantik Utara atau NATO, di Paris. Pada saat itu, baik Parti Demokrat mahupun Parti Republik memujuknya supaya bersedia menjadi calon Presiden masing-masing. Akhirnya, beliau dipilih menjadi Presiden dengan perbezaan undi yang banyak sekali. Dengan berunding berdasarkan kekuatan tentera, Presiden Dwight Eisenhower berusaha meredakan ketegangan akibat perang dingin. Beliau antara lain berjaya mengadakan penghentian tembak-menembak sepanjang sempadan Korea Selatan, dan menutup perjanjian perdamaian yang menjadikan Austria sebuah negara neutral. Presiden Dwight Eisenhower, yang dua kali berturut-turut menjadi Presiden hingga 1960, menyebutkan dirinya seorang sederhana. Dalam awal masa pentadbirannya, Mahkamah Agung Amerika Syarikat memerintahkan pengasingan kaum sekolah di seluruh Amerika. Untuk menjamin agar sekolah-sekolah di kota Little Rock di negeri Arkansas taat pada keputusan mahkamah persekutuan untuk mengadakan pengasingan kaum, Presiden Dwight Eisenhower mengirim pasukan tentera ke kota tersebut. Beliau juga memerintahkan pengasingan kaum dijalankan sepenuhnya di kalangan angkatan bersenjata Amerika. Presiden Dwight Eisenhower memusatkan perhatiannya pada usaha memelihara perdamaian dunia; Sebelum meninggalkan Rumah Putih pada Januari 1961, Presiden Eisenhower menganjurkan agar kekuatan ketenteraan Amerika tetap dipelihara, tetapi juga memperingatkan bahwa pengeluaran anggaran belanja yang sangat besar dan terus menerus untuk keperluan ketenteraan dapat membahayakan cara hidup rakyat Amerika. Dalam kata perpisahannya, beliau berdoa semoga semua bangsa di dunia ini hidup bersama dalam damai, berdasarkan rasa kasih sayang dan saling menghargai antara sesama manusia. Eisenhower meninggal dunia akibat serangan jantung pada 28 Mac 1969 di Washington, D.C.. Beliau meninggalkan isterinya dan seorang anak lelaki yang sewaktu itu sedang bertugas sebagai Duta Besar Amerika di Belgium. Nota - Eisenhower melepaskan status aktif duty selepas beliau menjadi Presiden pada 20 Januari 1953. Beliau kembali aktif bertugas selepas melepaskan jawatan lapan tahun kemudian.',\n",
       "  'meningkatkan pengeluaran dan menghasilkan bijih besi yang lebih bermutu, di samping mengaut keuntungan yang berlipat ganda. Oleh itu tidak hairanlah jika pendapatan para pekerja perlombongan Bukit Besi ini menyamai atau lebih baik daripada para pekerja di jabatan kerajaan pada masa itu. Pihak EMMCO juga telah mewujudkan banyak jabatan, seperti pejabat pos, pejabat ukur, pejabat kebajikan masyarakat dan sebagainya di zaman kegemilangan Bukit Besi. Oleh kerana pengeluaran yang berterusan dengan jumlah yang besar, akhirnya bijih besi mula berkurangan dan akaun syarikat mula mencatatkan kerugian. 1 Oktober - Mesyuarat Lembaga Pengarah EMMCO membuat keputusan muktamad untuk menutup lombong Bukit besi. 8 September - Sektor perlombongan bijih besi ditutup. Ini memberi kesan bukan sahaja kepada penduduk di Bukit Besi, tetapi juga kepada Bandar Dungun. Bagi memastikan Bandar Dungun terus hidup, Kerajaan Terengganu telah membina sebuah cawangan ITM di sana. Pihak KETENGAH pula telah merancang pembangunan semula Bandar Bukit Besi. Berbagai kemudahan awam dan perniagaan, telah diwujudkan. Bukit Besi telah meninggalkan beberapa artifek sejarah yang menjadi aset penting dalam industri pelancongan. Artifek-artifek seperti chimney, stock pile, washing plant / tin plant, crushing plant, tempat menyimpan bahan letupan dan sebahagian daripada kuarters masih tersergam hingga ke hari ini, walaupun telah mengalami berbagai kerosakan. Tasik Puteri yang wujud hasil daripada perlombongan bijih besi di Bukit Besi ini sedang dimajukan oleh KETENGAH sebagai kawasan rekreasi yang menarik. Sebuah Galeri sejarah juga diwujudkan bagi tatapan generasi muda.',\n",
       "  'Bel kanto (dalam bahasa Itali bermaksud \"nyanyian merdu\"), merujuk kepada seni dan teknik sains vokal yang berasal dari Itali pada akhir kurun ke-16 dan berada di kemuncaknya pada awal kurun ke-19 semasa era opera bel kanto. Penggubah – penggubah seperti Gioacchino Rossini (1792-1868), Vincenzo Bellini (1801-1835), dan Gaetano Donizetti (1797-1848) adalah contoh terunggul untuk penggubah opera corak ini yang berkembang pada sekitar tahun 1810 hingga ke tahun 1830. Penghormatan juga diberikan kepada penggubah kurun ke-17 Pietro Cavalli yang memperkenalkan seni bel kanto, walaupun keturusan melodi beliau agak berlainan. Corak nyanyian bel kanto menumpukan kepada kesempurnaan tepat untuk suara, kemahiran legato, daftar tingkat suara atas yang ringan, ketangkasan, fleksibiliti suara dan timbre lirik yang \"merdu\". Opera bel kanto memerlukan gaya perhiasan yang meluas dan juga memerlukan ketangkasan skala suara dan kadenza. Bel kanto lebih menekankan kepada teknik yang betul daripada mementingkan jumlah nyanyian; salah satu contoh latihan dikatakan menyuruh para penyanyi untuk meletakkan lilin yang menyala di dalam mulut mereka dan menyanyi tanpa mengegarkan lilin tersebut. Selain dari di era bel kanto dan opera bel kanto, para penyanyi boleh juga menggunakan teknik nyanyian bel kanto di dalam nyanyian verismo, Wagner, Verdi dan juga corak nyanyian moden. Penyanyi-penyanyi dengan suara-suara yang lantang yang menggunakan teknik bel kanto termasuklah Eva Turner (1892-1990), Elena Nicolai (1905-1993), Todor Mazarov (Masaroff) (1907-1975), Ghena Dimitrova (1941-2005), Maria Caniglia (1904-1979) dan ramai lagi. Walaupun ahli- ahli sejarah merujukkan tarikh bel kanto pada awal abad ke-19, istilah itu sebenarnya tidak begitu digunakan sehinggalah pada pertengahan abad ke -19. Pada masa itu, penggubah seperti Richard Wagner sudah pun mula menggunakan suara-suara lantang dan yang lebih dramatik yang menyebabkan penggubah – penggubah bel kanto mula merasai ketinggalan, seperti komen penggubah Gioacchino Rossini yang mengulas “Kita telah mula kehilangan seni bel kanto”. Penyanyi-penyanyi soprano seperti Maria Callas (1923-1977) dan Joan Sutherland (1926- ) dianggap sebagai contoh terbaik untuk penyanyi bel kanto untuk era selepas peperangan pertama. Selain mereka, penyanyi-penyanyi seperti Virginia Zeani (1925- ) dan Leyla Gencer (1928- ) juga dianggap sebagai soprano bel kanto yang mempunyai keupayaan yang sama, namun tidak begitu ternama kerana tidak membuat banyak rakaman atau persembahan opera. Sesetengah pengkritik berpendapat Raúl Giménez, Juan Diego Flórez dan William Matteuzzi sebagai penyanyi tenor bel kanto, walaupun sesetengah pengkritik lain beranggapan sebaliknya. Ini adalah kerana, teknik dan repertoir bel kanto sebenarnya memberi maksud yang berlainan.',\n",
       "  'atau arare mochi adalah makanan ringan asal Jepun yang dibuat dari beras. Bentuknya kecil (panjang sekitar 2 hingga 3 cm, tebal sekitar 3 mm), dan dimasak dengan cara dipanggang atau digoreng. Bahan asasdan ukurannya yang kecil-kecil membezakan arare dan okaki dengan senbei yang berukuran besar dan dibuat dari beras. Makanan ringan ini diberi nama \"arare\" kerana kelihatan seperti butir-butir hujan batu. Arare dibuat dengan cara merendam beras hingga lembut. Setelah itu, beras dihancurkan menjadi tepung, dan dikukus hingga menjadi adunan untik diuli. Adunan dipotong-potong kecil sebelum dikeringkan, diberi perasa, dan dipanggang. Arare dibuat dalam banyak rasa, dan biasanya manis atau masin (rasa kicap atau rasa selada yang bermaksud rasa garam). Bahan perisa yang umum ditambah adalah nori, udang, dan sotong. Arare juga dibuat berwarna-warni dengan memakai pewarna dari tumbuh-tumbuhan atau pewarna makanan. Hina arare adalah nama bagi arare berbentuk bulat dan dibuat berwarna-warni seperti merah jambu, hijau, dan kuning. Seperti juga hishimochi, hina arare merupakan makanan istimewa untuk kanak-kanak sewaktu merayakan Hinamatsuri. Makanan ringan lain seperti karinto, dan arare isi kacang juga sering dikemas bersama hina arare. Pada mulanya, arare dimasukkan ke dalam bungkusan furikake sebagai penyerap kelembapan. Pada waktu itu, furikake masih dibungkus dalam bungkusan kertas, dan mudah sekali menjadi lembap bila dibungkus tanpa arare. Sebahagian besar orang ternyata menyukai rasa garing dan rangup arare yang disertakan bersama furikake. Berdasarkan alasan tersebut, pengilang terus menggunakan tradisi memasukkan arare ke dalam furikake walaupun sudah memakai teknologi bungkusan moden. Arare dalam bungkusan furikake disebut \"bubu arare\" (singkatannya \"bubu\") kerana orang Kyoto menyebut ochazuke sebagai bubuzuke.']}"
      ]
     },
     "execution_count": 20,
     "metadata": {},
     "output_type": "execute_result"
    }
   ],
   "source": [
    "pairs[0]"
   ]
  },
  {
   "cell_type": "code",
   "execution_count": 17,
   "id": "8f6a7fb5",
   "metadata": {},
   "outputs": [],
   "source": [
    "with open('qa-ms-wikipedia-pair.jsonl', 'w') as fopen:\n",
    "    for l in pairs:\n",
    "        if not len(l['pos']) or not len(l['neg']):\n",
    "            continue\n",
    "        fopen.write(f'{json.dumps(l)}\\n')"
   ]
  },
  {
   "cell_type": "code",
   "execution_count": 18,
   "id": "d6f7874e",
   "metadata": {},
   "outputs": [
    {
     "data": {
      "application/vnd.jupyter.widget-view+json": {
       "model_id": "92c99575ca3b4f45acad39573bd6a5d4",
       "version_major": 2,
       "version_minor": 0
      },
      "text/plain": [
       "qa-ms-wikipedia-pair.jsonl:   0%|          | 0.00/1.11G [00:00<?, ?B/s]"
      ]
     },
     "metadata": {},
     "output_type": "display_data"
    },
    {
     "data": {
      "text/plain": [
       "CommitInfo(commit_url='https://huggingface.co/datasets/mesolitica/instructions-pair-mining/commit/5c6c23993280207d08cafa5038d65519aafb091f', commit_message='Upload qa-ms-wikipedia-pair.jsonl with huggingface_hub', commit_description='', oid='5c6c23993280207d08cafa5038d65519aafb091f', pr_url=None, pr_revision=None, pr_num=None)"
      ]
     },
     "execution_count": 18,
     "metadata": {},
     "output_type": "execute_result"
    }
   ],
   "source": [
    "from huggingface_hub import HfApi\n",
    "api = HfApi()\n",
    "api.upload_file(\n",
    "    path_or_fileobj='qa-ms-wikipedia-pair.jsonl',\n",
    "    path_in_repo='qa-ms-wikipedia-pair.jsonl',\n",
    "    repo_id='mesolitica/instructions-pair-mining',\n",
    "    repo_type='dataset',\n",
    ")"
   ]
  },
  {
   "cell_type": "code",
   "execution_count": null,
   "id": "bfd329f4",
   "metadata": {},
   "outputs": [],
   "source": []
  }
 ],
 "metadata": {
  "kernelspec": {
   "display_name": "Python 3 (ipykernel)",
   "language": "python",
   "name": "python3"
  },
  "language_info": {
   "codemirror_mode": {
    "name": "ipython",
    "version": 3
   },
   "file_extension": ".py",
   "mimetype": "text/x-python",
   "name": "python",
   "nbconvert_exporter": "python",
   "pygments_lexer": "ipython3",
   "version": "3.8.10"
  }
 },
 "nbformat": 4,
 "nbformat_minor": 5
}
