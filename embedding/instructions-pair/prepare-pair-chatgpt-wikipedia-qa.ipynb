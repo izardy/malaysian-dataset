{
 "cells": [
  {
   "cell_type": "code",
   "execution_count": 6,
   "id": "ec263304",
   "metadata": {},
   "outputs": [],
   "source": [
    "# !wget https://huggingface.co/datasets/mesolitica/chatgpt-wikipedia-qa/resolve/main/wikipedia-qa.jsonl"
   ]
  },
  {
   "cell_type": "code",
   "execution_count": 14,
   "id": "08b38001",
   "metadata": {},
   "outputs": [],
   "source": [
    "import json\n",
    "import random\n",
    "import re\n",
    "\n",
    "def clean(string):\n",
    "    string = re.sub('[^A-Za-z ]+', ' ', string.lower())\n",
    "    string = re.sub(r'[ ]+', ' ', string).strip()\n",
    "    return string\n",
    "\n",
    "def overlap(string1, string2):\n",
    "    l = set([w for w in clean(string1).split() if len(w) > 2])\n",
    "    r = set([w for w in clean(string2).split() if len(w) > 2])\n",
    "    return len(l & r) / len(l)"
   ]
  },
  {
   "cell_type": "code",
   "execution_count": 8,
   "id": "b13418a0",
   "metadata": {},
   "outputs": [],
   "source": [
    "data = []\n",
    "with open('wikipedia-qa.jsonl') as fopen:\n",
    "    for l in fopen:\n",
    "        data.append(json.loads(l))"
   ]
  },
  {
   "cell_type": "code",
   "execution_count": 9,
   "id": "ec7d110d",
   "metadata": {},
   "outputs": [
    {
     "data": {
      "text/plain": [
       "44923"
      ]
     },
     "execution_count": 9,
     "metadata": {},
     "output_type": "execute_result"
    }
   ],
   "source": [
    "len(data)"
   ]
  },
  {
   "cell_type": "code",
   "execution_count": 10,
   "id": "b2eddc16",
   "metadata": {},
   "outputs": [],
   "source": [
    "indices = {i for i in range(len(data))}"
   ]
  },
  {
   "cell_type": "code",
   "execution_count": 19,
   "id": "ba453807",
   "metadata": {},
   "outputs": [
    {
     "name": "stderr",
     "output_type": "stream",
     "text": [
      "100%|██████████████████████████████████████████████████████████████████████████████████████████████████████████████| 44923/44923 [27:52<00:00, 26.86it/s]\n"
     ]
    }
   ],
   "source": [
    "from tqdm import tqdm\n",
    "\n",
    "pairs = []\n",
    "for i in tqdm(range(len(data))):\n",
    "    query = data[i]['paragraph']\n",
    "    \n",
    "    for s in data[i]['qa']['qa']:\n",
    "        pos = [query]\n",
    "        sampled = random.sample(list(indices - {i}), 100)\n",
    "        neg = []\n",
    "        for k in sampled:\n",
    "            try:\n",
    "                overlapped = overlap(query, data[k]['paragraph'])\n",
    "                if overlapped < 0.3:\n",
    "                    neg.append(data[k]['paragraph'])\n",
    "                if len(neg) >= 5:\n",
    "                    break\n",
    "            except:\n",
    "                pass\n",
    "            \n",
    "        pairs.append({\n",
    "            'query': s['question'],\n",
    "            'pos': pos,\n",
    "            'neg': neg\n",
    "        })"
   ]
  },
  {
   "cell_type": "code",
   "execution_count": 20,
   "id": "4d6cebb0",
   "metadata": {},
   "outputs": [
    {
     "data": {
      "text/plain": [
       "329021"
      ]
     },
     "execution_count": 20,
     "metadata": {},
     "output_type": "execute_result"
    }
   ],
   "source": [
    "len(pairs)"
   ]
  },
  {
   "cell_type": "code",
   "execution_count": 21,
   "id": "8f6a7fb5",
   "metadata": {},
   "outputs": [],
   "source": [
    "with open('chatgpt-wikipedia-qa-pair.jsonl', 'w') as fopen:\n",
    "    for l in pairs:\n",
    "        if not len(l['pos']) or not len(l['neg']):\n",
    "            continue\n",
    "        fopen.write(f'{json.dumps(l)}\\n')"
   ]
  },
  {
   "cell_type": "code",
   "execution_count": 22,
   "id": "6607259f",
   "metadata": {},
   "outputs": [
    {
     "data": {
      "application/vnd.jupyter.widget-view+json": {
       "model_id": "0b0efe41b39747b2a6fdb430e8b89bb9",
       "version_major": 2,
       "version_minor": 0
      },
      "text/plain": [
       "chatgpt-wikipedia-qa-pair.jsonl:   0%|          | 0.00/7.53G [00:00<?, ?B/s]"
      ]
     },
     "metadata": {},
     "output_type": "display_data"
    },
    {
     "data": {
      "text/plain": [
       "CommitInfo(commit_url='https://huggingface.co/datasets/mesolitica/instructions-pair-mining/commit/85c0df57d5199beeb2962a2c0f4adc3d75964d08', commit_message='Upload chatgpt-wikipedia-qa-pair.jsonl with huggingface_hub', commit_description='', oid='85c0df57d5199beeb2962a2c0f4adc3d75964d08', pr_url=None, pr_revision=None, pr_num=None)"
      ]
     },
     "execution_count": 22,
     "metadata": {},
     "output_type": "execute_result"
    }
   ],
   "source": [
    "from huggingface_hub import HfApi\n",
    "api = HfApi()\n",
    "api.upload_file(\n",
    "    path_or_fileobj='chatgpt-wikipedia-qa-pair.jsonl',\n",
    "    path_in_repo='chatgpt-wikipedia-qa-pair.jsonl',\n",
    "    repo_id='mesolitica/instructions-pair-mining',\n",
    "    repo_type='dataset',\n",
    ")"
   ]
  }
 ],
 "metadata": {
  "kernelspec": {
   "display_name": "Python 3 (ipykernel)",
   "language": "python",
   "name": "python3"
  },
  "language_info": {
   "codemirror_mode": {
    "name": "ipython",
    "version": 3
   },
   "file_extension": ".py",
   "mimetype": "text/x-python",
   "name": "python",
   "nbconvert_exporter": "python",
   "pygments_lexer": "ipython3",
   "version": "3.8.10"
  }
 },
 "nbformat": 4,
 "nbformat_minor": 5
}
