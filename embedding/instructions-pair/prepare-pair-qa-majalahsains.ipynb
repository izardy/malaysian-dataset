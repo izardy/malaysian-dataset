{
 "cells": [
  {
   "cell_type": "code",
   "execution_count": 3,
   "id": "ec263304",
   "metadata": {},
   "outputs": [],
   "source": [
    "# !wget https://huggingface.co/datasets/mesolitica/chatgpt-malaysian-qa-choice/resolve/main/qa-majalahsains.jsonl"
   ]
  },
  {
   "cell_type": "code",
   "execution_count": 12,
   "id": "08b38001",
   "metadata": {},
   "outputs": [],
   "source": [
    "import json\n",
    "import random\n",
    "import re\n",
    "\n",
    "def clean(string):\n",
    "    string = re.sub('[^A-Za-z ]+', ' ', string.lower())\n",
    "    string = re.sub(r'[ ]+', ' ', string).strip()\n",
    "    return string\n",
    "\n",
    "def overlap(string1, string2):\n",
    "    l = set([w for w in clean(string1).split() if len(w) > 2])\n",
    "    r = set([w for w in clean(string2).split() if len(w) > 2])\n",
    "    return len(l & r) / len(l)"
   ]
  },
  {
   "cell_type": "code",
   "execution_count": 5,
   "id": "b13418a0",
   "metadata": {},
   "outputs": [],
   "source": [
    "data = []\n",
    "with open('qa-majalahsains.jsonl') as fopen:\n",
    "    for l in fopen:\n",
    "        data.append(json.loads(l))"
   ]
  },
  {
   "cell_type": "code",
   "execution_count": 6,
   "id": "ff23e23c",
   "metadata": {},
   "outputs": [
    {
     "data": {
      "text/plain": [
       "{'paragraph': 'Di sini kami tunjukkan satu video aktiviti penyelidikan yang dijalankan di Institute of Microengineering & Nanoelectronics (IMEN), yang terletak di Universiti Kebangsaan Malaysia.\\n\\nDi sini kami tunjukkan satu video aktiviti penyelidikan yang dijalankan di Institute of Microengineering & Nanoelectronics (IMEN), yang terletak di Universiti Kebangsaan Malaysia.\\n\\nIMEN yang diketuai oleh Profesor Dato’ Dr. Burhanuddin Yeop Majlis selaku Pengarah ditubuhkan pada bulan November 2002. Institut ini menumpukan penyelidikan multidisiplin dalam bidang Kejuruteraan Mikro, Nanoteknologi, Nanoelektronik dan menerima anugerah Pusat Kecemerlangan Pengajian Tinggi (HiCOE), pada tahun 2015 di dalam bidang ini.\\n\\nIMEN yang diketuai oleh Profesor Dato’ Dr. Burhanuddin Yeop Majlis selaku Pengarah ditubuhkan pada bulan November 2002. Institut ini menumpukan penyelidikan multidisiplin dalam bidang Kejuruteraan Mikro, Nanoteknologi, Nanoelektronik dan menerima anugerah Pusat Kecemerlangan Pengajian Tinggi (HiCOE), pada tahun 2015 di dalam bidang ini.\\n\\nMisi utama IMEN ditubuhkan bertujuan untuk menjadi pusat penyelidikan bertaraf dunia membangunkan penyelidikan bidang-bidang kejuruteraan termaju seperti teknologi mikrosensor, nanoelektronik, MEMS/NEMS, electronik organik,\\xa0 teknologi fotonik, packaging, VLSI\\xa0 dan sistem nano.\\n\\nMisi utama IMEN ditubuhkan bertujuan untuk menjadi pusat penyelidikan bertaraf dunia membangunkan penyelidikan bidang-bidang kejuruteraan termaju seperti teknologi mikrosensor, nanoelektronik, MEMS/NEMS, electronik organik,\\xa0 teknologi fotonik, packaging, VLSI\\xa0 dan sistem nano.',\n",
       " 'qa': {'qa': [{'question': 'Apakah nama institusi yang melakukan aktiviti penyelidikan?',\n",
       "    'A': 'Institute of Microengineering & Nanoelectronics (IMEN)',\n",
       "    'B': 'Universiti Kebangsaan Malaysia',\n",
       "    'C': 'Profesor Dato’ Dr. Burhanuddin Yeop Majlis',\n",
       "    'D': 'Pusat Kecemerlangan Pengajian Tinggi (HiCOE)',\n",
       "    'answer': 'A'},\n",
       "   {'question': 'Siapakah pengarah Institute of Microengineering & Nanoelectronics (IMEN)?',\n",
       "    'A': 'Institute of Microengineering & Nanoelectronics (IMEN)',\n",
       "    'B': 'Universiti Kebangsaan Malaysia',\n",
       "    'C': 'Profesor Dato’ Dr. Burhanuddin Yeop Majlis',\n",
       "    'D': 'Pusat Kecemerlangan Pengajian Tinggi (HiCOE)',\n",
       "    'answer': 'C'},\n",
       "   {'question': 'Bidang-bidang kejuruteraan apakah yang difokuskan oleh Institut IMEN?',\n",
       "    'A': 'Kejuruteraan Mikro',\n",
       "    'B': 'Nanoteknologi',\n",
       "    'C': 'Nanoelektronik',\n",
       "    'D': 'Semua di atas',\n",
       "    'answer': 'D'},\n",
       "   {'question': 'Apakah misi utama Institut IMEN?',\n",
       "    'A': 'Membangunkan teknologi mikrosensor',\n",
       "    'B': 'Membangunkan teknologi nanoelektronik',\n",
       "    'C': 'Membangunkan teknologi MEMS/NEMS',\n",
       "    'D': 'Semua di atas',\n",
       "    'answer': 'D'}]}}"
      ]
     },
     "execution_count": 6,
     "metadata": {},
     "output_type": "execute_result"
    }
   ],
   "source": [
    "data[0]"
   ]
  },
  {
   "cell_type": "code",
   "execution_count": 7,
   "id": "ec7d110d",
   "metadata": {},
   "outputs": [
    {
     "data": {
      "text/plain": [
       "2321"
      ]
     },
     "execution_count": 7,
     "metadata": {},
     "output_type": "execute_result"
    }
   ],
   "source": [
    "len(data)"
   ]
  },
  {
   "cell_type": "code",
   "execution_count": 8,
   "id": "b2eddc16",
   "metadata": {},
   "outputs": [],
   "source": [
    "indices = {i for i in range(len(data))}"
   ]
  },
  {
   "cell_type": "code",
   "execution_count": 13,
   "id": "ba453807",
   "metadata": {},
   "outputs": [
    {
     "name": "stderr",
     "output_type": "stream",
     "text": [
      "100%|████████████████████████████████████████████████████████████████████████████████████████████████████████████████| 2321/2321 [02:45<00:00, 14.05it/s]\n"
     ]
    }
   ],
   "source": [
    "from tqdm import tqdm\n",
    "\n",
    "pairs = []\n",
    "for i in tqdm(range(len(data))):\n",
    "    query = data[i]['paragraph']\n",
    "    \n",
    "    for s in data[i]['qa']['qa']:\n",
    "        pos = [query]\n",
    "        sampled = random.sample(list(indices - {i}), 100)\n",
    "        neg = []\n",
    "        for k in sampled:\n",
    "            try:\n",
    "                overlapped = overlap(query, data[k]['paragraph'])\n",
    "                if overlapped < 0.1:\n",
    "                    neg.append(data[k]['paragraph'])\n",
    "                if len(neg) >= 5:\n",
    "                    break\n",
    "            except:\n",
    "                pass\n",
    "            \n",
    "        pairs.append({\n",
    "            'query': s['question'],\n",
    "            'pos': pos,\n",
    "            'neg': neg\n",
    "        })"
   ]
  },
  {
   "cell_type": "code",
   "execution_count": 14,
   "id": "43d2fb92",
   "metadata": {},
   "outputs": [
    {
     "data": {
      "text/plain": [
       "{'query': 'Apakah nama institusi yang melakukan aktiviti penyelidikan?',\n",
       " 'pos': ['Di sini kami tunjukkan satu video aktiviti penyelidikan yang dijalankan di Institute of Microengineering & Nanoelectronics (IMEN), yang terletak di Universiti Kebangsaan Malaysia.\\n\\nDi sini kami tunjukkan satu video aktiviti penyelidikan yang dijalankan di Institute of Microengineering & Nanoelectronics (IMEN), yang terletak di Universiti Kebangsaan Malaysia.\\n\\nIMEN yang diketuai oleh Profesor Dato’ Dr. Burhanuddin Yeop Majlis selaku Pengarah ditubuhkan pada bulan November 2002. Institut ini menumpukan penyelidikan multidisiplin dalam bidang Kejuruteraan Mikro, Nanoteknologi, Nanoelektronik dan menerima anugerah Pusat Kecemerlangan Pengajian Tinggi (HiCOE), pada tahun 2015 di dalam bidang ini.\\n\\nIMEN yang diketuai oleh Profesor Dato’ Dr. Burhanuddin Yeop Majlis selaku Pengarah ditubuhkan pada bulan November 2002. Institut ini menumpukan penyelidikan multidisiplin dalam bidang Kejuruteraan Mikro, Nanoteknologi, Nanoelektronik dan menerima anugerah Pusat Kecemerlangan Pengajian Tinggi (HiCOE), pada tahun 2015 di dalam bidang ini.\\n\\nMisi utama IMEN ditubuhkan bertujuan untuk menjadi pusat penyelidikan bertaraf dunia membangunkan penyelidikan bidang-bidang kejuruteraan termaju seperti teknologi mikrosensor, nanoelektronik, MEMS/NEMS, electronik organik,\\xa0 teknologi fotonik, packaging, VLSI\\xa0 dan sistem nano.\\n\\nMisi utama IMEN ditubuhkan bertujuan untuk menjadi pusat penyelidikan bertaraf dunia membangunkan penyelidikan bidang-bidang kejuruteraan termaju seperti teknologi mikrosensor, nanoelektronik, MEMS/NEMS, electronik organik,\\xa0 teknologi fotonik, packaging, VLSI\\xa0 dan sistem nano.'],\n",
       " 'neg': ['erasa lebih sihat dan bahagia serta sekaligus dapat meningkatkan prestasi kerja dengan lebih yang baik di dalam kehidupan.\\n\\nKesimpulan, berbasikal bukan sahaja dapat memberi manfaat menyeluruh terhadap kesihatan, namun ia juga merupakan salah satu kaedah aktiviti fizikal yang sangat sesuai dijalankan secara mudah sebagai sebahagian daripada kehidupan seharian.\\xa0\\n\\nKesimpulan, berbasikal bukan sahaja dapat memberi manfaat menyeluruh terhadap kesihatan, namun ia juga merupakan salah satu kaedah aktiviti fizikal yang sangat sesuai dijalankan secara mudah sebagai sebahagian daripada kehidupan seharian.\\xa0\\n\\nLee CD, Blair SN. Cardiorespiratory fitness and stroke mortality in men. Med Sci Sports Exerc 2002;34:592-5.Steindorf K, Schmidt M, Kropp S, Chang-Claude J. 2003. Case-control study of physical activity and breast cancer risk among premenopausal women in Germany. Am J Epidemiol. 2003 Jan 15;157(2):121-30.Zander A, Passmore E, Mason C, Rissel C. Joy, Exercise, Enjoyment, Getting out: A Qualitative Study of Older People’s Experience of Cycling in Sydney, Australia. Journal of Environmental and Public Health 2013. Article ID 547453, 6 pages.\\n\\nSteindorf K, Schmidt M, Kropp S, Chang-Claude J. 2003. Case-control study of physical activity and breast cancer risk among premenopausal women in Germany. Am J Epidemiol. 2003 Jan 15;157(2):121-30.\\n\\nZander A, Passmore E, Mason C, Rissel C. Joy, Exercise, Enjoyment, Getting out: A Qualitative Study of Older People’s Experience of Cycling in Sydney, Australia. Journal of Environmental and Public Health 2013. Article ID 547453, 6 pages.',\n",
       "  'okong-penyokong terkuat saya, saya doakan kalian juga BAHAGIA.\\n\\nKerja ini saya dedikasikan untuk seluruh hidupan, kerana saya temui banyak makhluk yang baik hatinya dalam kembara ilmu ini. Saya juga berperang dengan masa, adakala manis, ada masa berair mata, ada ketika berdosa. Saya juga masih sentiasa memperbaiki diri, maka tegurlah jika ada yang terkhilaf. Ditebak soalan “Bila nak kahwin?”, “Bila nak habis belajar?”, cukup biasa. Saya hambakan diri mencari ilmu, jangan risau, sampai masa, kahwinlah saya, yang penting saya bahagia bersama penyokong-penyokong terkuat saya, saya doakan kalian juga BAHAGIA.\\n\\nDiberi peluang mengecap cita-cita berastronomi ketika saya di bangku tadika (walau terputus sebentar di tengah jalan) besar tanggungjawabnya, kerana ramai punya harapan yang sama, maka perlu saya kongsi dan kembalikan ilmu pinjaman ini semampu saya. \\n\\nDiberi peluang mengecap cita-cita berastronomi ketika saya di bangku tadika (walau terputus sebentar di tengah jalan) besar tanggungjawabnya, kerana ramai punya harapan yang sama, maka perlu saya kongsi dan kembalikan ilmu pinjaman ini semampu saya. \\n\\nBidang ini sudah lama sebati bersama kita tanpa kita sedar, cuma mungkin kita tidak tahu kemana mahu kita halakan layarnya. Sains sosial dan sains moden saling memerlukan, tidak perlu diukur siapa yang handal, kerana langit itu untuk dikongsi, bukakan hati, bersama kita menyebarkan kasih sayang melalui astronomi. Saya pohon doa dari semua. Semoga kita sentiasa dalam rahmat, berkat dan redha Allah S.W.T.\\n\\nBidang ini sudah lama sebati bersama kita tanpa kita sedar, cuma mungkin kita tidak tahu kemana mahu kita halakan layarnya. Sains sosial dan sains moden saling memerlukan, tidak perlu diukur siapa yang handal, kerana langit itu untuk dikongsi, bukakan hati, bersama kita menyebarkan kasih sayang melalui astronomi. Saya pohon doa dari semua. Semoga kita sentiasa dalam rahmat, berkat dan redha Allah S.W.T.',\n",
       "  'Sinaran (atau radiasi) adalah perkataan umum yang menggambarkan pancaran dan transmisi tenaga yang melalui ruang dalam bentuk gelombang, atau zarah. Terdapat dua jenis sinaran iaitu sinaran mengion dan sinaran tidak mengion. Sinaran mengion menyebabkan pengionan apabila sinaran berinteraksi dengan jirim. Sinaran mengion pula terbahagi kepada beberapa jenis iaitu sinar alfa, beta, gama, x dan neutron.\\n\\nSinaran (atau radiasi) adalah perkataan umum yang menggambarkan pancaran dan transmisi tenaga yang melalui ruang dalam bentuk gelombang, atau zarah. Terdapat dua jenis sinaran iaitu sinaran mengion dan sinaran tidak mengion. Sinaran mengion menyebabkan pengionan apabila sinaran berinteraksi dengan jirim. Sinaran mengion pula terbahagi kepada beberapa jenis iaitu sinar alfa, beta, gama, x dan neutron.\\n\\nTerdapat dua sumber sinaran iaitu sinaran yang berlaku secara semula jadi dan sinaran yang berlaku akibat perbuatan manusia. ‘Sumber sinaran’ ertinya sesuatu radas atau bahan yang berupaya mengeluarkan sinaran mengion. Manakala, sumber semula jadi ertinya mana-mana sumber sinaran yang semula jadi termasuk sinaran kosmik dan sumber sinaran daratan. Sinaran yang terhasil dari buatan manusia pula terhasil melalui perubatan, guguran radioaktif, dedahan pekerjaan, industri nuklear, industri bukan nuklear, barangan pengguna, kemalangan nuklear dan perang nuklear.\\n\\nTerdapat dua sumber sinaran iaitu sinaran yang berlaku secara semula jadi dan sinaran yang berlaku akibat perbuatan manusia. ‘Sumber sinaran’ ertinya sesuatu radas atau bahan yang berupaya mengeluarkan sinaran mengion. Manakala, sumber semula jadi ertinya mana-mana sumber sinaran yang semula jadi termasuk sinaran kosmik dan sumber sinaran daratan. Sinaran yang terhasil dari buatan manusia pula terhasil melalui perubatan, guguran radioaktif, dedahan pekerjaan, industri nuklear, industri bukan nuklear, barangan pengguna, kemalangan nuklear dan perang nuklear.\\n\\nKesan biologi akan berlaku apabila sinaran mengion dikenakan kepada sasaran melalui perpindahan tenaga sinaran kepada molekul. Saling tindak balas sinaran dan molekul boleh terjadi melalui dua cara iaitu secara terus dan secara tidak terus. Secara terus berlaku apabila tenaga dari sinaran dipindahkan secara terus ke molekul dan akan memberi kesan kepada sel tersebut. Kesan sinaran terhadap sistem biologi secara amnya terbahagi kepada dua iaitu somatik dan genetik. Di dalam perlindungan sinaran, kesan yang dapat diukur secara kuantitatif lebih dipilih untuk melihat kesan sinaran ke atas sistem biologi. Kesan yang dimaksudkan ialah kesan stokastik dan kesan berketentuan.\\n\\nKesan biologi akan berlaku apabila sinaran mengion dikenakan kepada sasaran melalui perpindahan tenaga sinaran kepada molekul. Saling tindak balas sinaran dan molekul boleh terjadi melalui dua cara iaitu secara terus dan secara tidak terus. Secara terus berlaku apabila tenaga dari sinaran dipindahkan secara terus ke molekul dan akan memberi kesan kepada sel tersebut. Kesan sinaran terhadap sistem biologi secara amnya terbahagi kepada dua iaitu somatik dan genetik. Di dalam perlindungan sinaran, kesan yang dapat diukur secara kuantitatif lebih dipilih untuk melihat kesan sinaran ke atas sistem biologi. Kesan yang dimaksudkan ialah kesan stokastik dan kesan berketentuan.\\n\\nSecara umumnya, berlainan jenis sel mempunyai tahap sensitiviti yang berbeza terhadap sinaran. Perubahan yang berlaku terhadap sel juga tidak sama. Terdapat sesetengah sel yang mampu untuk membaiki kerosakan akibat sinaran dan ada yang tidak mampu. Ketidakmampuan sel untuk membaiki kerosakan akan menyebabkan sel mati atau ketidaknormalan sel.\\n\\nSecara umumnya, berlainan jenis sel mempunyai tahap sensitiviti yang berbeza terhadap sinaran. Perubahan yang berlaku terhadap sel juga tidak sama. Terdapat sesetengah sel yang mampu untuk membaiki kerosakan akibat sinaran dan ada yang tidak mampu. Ketidakmampuan sel untuk membaiki kerosakan akan menyebabkan sel mati atau ketidaknormalan sel.\\n\\nDi zaman ini, penggunaan nuklear dalam industri amat meluas. S',\n",
       "  ', J., Belanto, J.J., Verdine, V., Cox, D.B.T., Kellner, M.J., Regev, A., et al. (2017). RNA targeting with CRISPR–Cas13. Nature 550, 280–284.\\n\\nBarrangou, R., Fremaux, C., Deveau, H., Richards, M., Boyaval, P., Moineau, S., Romero, D.A., and Horvath, P. (2007). CRISPR Provides Acquired Resistance Against Viruses in Prokaryotes. Science 315, 1709–1712.\\n\\nCong, L., Ran, F.A., Cox, D., Lin, S., Barretto, R., Habib, N., Hsu, P.D., Wu, X., Jiang, W., Marraffini, L.A., et al. (2013). Multiplex Genome Engineering Using CRISPR/Cas Systems. Science 339, 819–823.\\n\\nCox, D.B.T., Gootenberg, J.S., Abudayyeh, O.O., Franklin, B., Kellner, M.J., Joung, J., and Zhang, F. (2017). RNA editing with CRISPR-Cas13. Science 358, 1019–1027.\\n\\nDeltcheva, E., Chylinski, K., Sharma, C.M., Gonzales, K., Chao, Y., Pirzada, Z.A., Eckert, M.R., Vogel, J., and Charpentier, E. (2011). CRISPR RNA maturation by trans -encoded small RNA and host factor RNase III. Nature 471, 602–607.\\n\\nGootenberg, J.S., Abudayyeh, O.O., Lee, J.W., Essletzbichler, P., Dy, A.J., Joung, J., Verdine, V., Donghia, N., Daringer, N.M., Freije, C.A., et al. (2017). Nucleic acid detection with CRISPR-Cas13a/C2c2. Science 356, 438–442.\\n\\nIshino, Y., Shinagawa, H., Makino, K., Amemura, M., and Nakata, A. (1987). Nucleotide sequence of the iap gene, responsible for alkaline phosphatase isozyme conversion in Escherichia coli, and identification of the gene product. J. Bacteriol. 169, 5429–5433.\\n\\nJinek, M., Chylinski, K., Fonfara, I., Hauer, M., Doudna, J.A., and Charpentier, E. (2012). A Programmable Dual-RNA–Guided DNA Endonuclease in Adaptive Bacterial Immunity. Science 337, 816–821.\\n\\nMojica, F.J.M., Díez‐Villaseñor, C., Soria, E., and Juez, G. (2000). Biological significance of a family of regularly spaced repeats in the genomes of Archaea, Bacteria and mitochondria. Mol. Microbiol. 36, 244–246.\\n\\nTags: DNADr Mohamad Aimanuddin MohtarDr Saiful Effendi SyafruddinFakulti Bioteknologi dan Sains Biomolekul UPMGen CRISPRInfo COVID-19Institut Perubatan Molekul UKM\\xa0(UMBI)Jabatan BiokimiaPengeditan gen/genomProf. Madya. Ts. Dr. Amir Syahir Bin Amir HamzahProtein CasRNASistem CRISPR',\n",
       "  '2-3), pp.419-438.\\n\\n[8]Mohd Hariri Arifin, Nor Shahidah Mohd Nazer dan Abdul Qayyum Jalal. 2020. Pengecaman mekanisme utama tanah runtuh cetek di Bukit Fraser, Pahang. Bulletin Geological Society of Malaysia. (69):79-88.\\n\\n[10]Characterization of a Proposed Quarry Site using Multi-Electrode Electrical Resistivity Tomography\\nJohn Stephen\\xa0Kayode,\\xa0Mohd\\xa0Hariri\\xa0Arifin\\xa0&\\xa0Mohd\\xa0Nawawi\\nhttp://www.ukm.my/jsm/pdf_files/SM-PDF-48-5-2019/03%20John%20Stephen%20Kayode.pdf\\n\\n[11]Geomagnetic Phenomena Observed by a Temporal Station at Ulu-Slim, Malaysia during The Storm of March 27, 2017\\nArafa-Hamed, T., Khalil, A.,\\xa0Nawawi, M., Hassan, H. & M.H.\\xa0Arifin\\nhttp://www.ukm.my/jsm/pdf_files/SM-PDF-48-11-2019/13%20Arafa-Hamed,%20T.pdf\\n\\n[12] Application of Gravity Survey for Tin Exploration at\\xa0Bongsu\\xa0Granite, Kulim, Kedah, Malaysia\\xa0\\xa0\\nFakhruddin\\xa0Afif\\xa0Fauzi, Mohd Hariri\\xa0Arifin, Mohd\\xa0Basril\\xa0Iswadi\\xa0Basori,\\xa0Khairul\\xa0Arifin\\xa0Mohd Noh & Mohd\\xa0Rozi\\xa0Umor\\nhttp://www.ukm.my/jsm/pdf_files/SM-PDF-48-11-2019/20%20Fakhruddin%20Afif%20Fauzi.pdf\\n\\nTags: Asirah Rahmat Asirah RahmatBomoh ArkeologiBomoh GeofizikBomoh MineralBomoh Minyak dan GasDr Mohd Hariri ArifinInfo GeologiJabatan Sains Bumi dan Alam SekitarKamilia Sofia Mohd HathimUniversiti Kebangsaan Malaysia']}"
      ]
     },
     "execution_count": 14,
     "metadata": {},
     "output_type": "execute_result"
    }
   ],
   "source": [
    "pairs[0]"
   ]
  },
  {
   "cell_type": "code",
   "execution_count": 15,
   "id": "8f6a7fb5",
   "metadata": {},
   "outputs": [],
   "source": [
    "with open('qa-majalahsains-pair.jsonl', 'w') as fopen:\n",
    "    for l in pairs:\n",
    "        if not len(l['pos']) or not len(l['neg']):\n",
    "            continue\n",
    "        fopen.write(f'{json.dumps(l)}\\n')"
   ]
  },
  {
   "cell_type": "code",
   "execution_count": 16,
   "id": "7244939a",
   "metadata": {},
   "outputs": [
    {
     "data": {
      "application/vnd.jupyter.widget-view+json": {
       "model_id": "4c16477c76eb45b5912b643de59ee302",
       "version_major": 2,
       "version_minor": 0
      },
      "text/plain": [
       "qa-majalahsains-pair.jsonl:   0%|          | 0.00/178M [00:00<?, ?B/s]"
      ]
     },
     "metadata": {},
     "output_type": "display_data"
    },
    {
     "data": {
      "text/plain": [
       "CommitInfo(commit_url='https://huggingface.co/datasets/mesolitica/instructions-pair-mining/commit/c271cd49c36038b4e46feffd272cd3570d96e99f', commit_message='Upload qa-majalahsains-pair.jsonl with huggingface_hub', commit_description='', oid='c271cd49c36038b4e46feffd272cd3570d96e99f', pr_url=None, pr_revision=None, pr_num=None)"
      ]
     },
     "execution_count": 16,
     "metadata": {},
     "output_type": "execute_result"
    }
   ],
   "source": [
    "from huggingface_hub import HfApi\n",
    "api = HfApi()\n",
    "api.upload_file(\n",
    "    path_or_fileobj='qa-majalahsains-pair.jsonl',\n",
    "    path_in_repo='qa-majalahsains-pair.jsonl',\n",
    "    repo_id='mesolitica/instructions-pair-mining',\n",
    "    repo_type='dataset',\n",
    ")"
   ]
  },
  {
   "cell_type": "code",
   "execution_count": null,
   "id": "be19de41",
   "metadata": {},
   "outputs": [],
   "source": []
  }
 ],
 "metadata": {
  "kernelspec": {
   "display_name": "Python 3 (ipykernel)",
   "language": "python",
   "name": "python3"
  },
  "language_info": {
   "codemirror_mode": {
    "name": "ipython",
    "version": 3
   },
   "file_extension": ".py",
   "mimetype": "text/x-python",
   "name": "python",
   "nbconvert_exporter": "python",
   "pygments_lexer": "ipython3",
   "version": "3.8.10"
  }
 },
 "nbformat": 4,
 "nbformat_minor": 5
}
